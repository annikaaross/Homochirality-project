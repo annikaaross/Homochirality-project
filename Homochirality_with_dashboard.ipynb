{
  "nbformat": 4,
  "nbformat_minor": 0,
  "metadata": {
    "colab": {
      "name": "Homochirality_v006.ipynb",
      "provenance": [],
      "collapsed_sections": [
        "AvOcPptw5JVf",
        "a8egVnJUbTYf",
        "axVuXR__qoi4",
        "jI9isLxnRk5d",
        "RX_K0yxjTSEx",
        "IdB8k_yadghA",
        "1lx9FPNLeRNM",
        "HVY41XQPUjIT",
        "hqD3AL_kUldF",
        "HEFlHyn6UoPU",
        "cz4Cis4ze7j6",
        "ALnPeaUCfhL4",
        "CmKsCAazVPy_",
        "DdqK65C-8cpi",
        "3nujicdthc10"
      ],
      "toc_visible": true,
      "include_colab_link": true
    },
    "kernelspec": {
      "name": "python3",
      "display_name": "Python 3"
    },
    "widgets": {
      "application/vnd.jupyter.widget-state+json": {
        "fa4f74f132c44f2a9b4f3a97f66e2f99": {
          "model_module": "@jupyter-widgets/controls",
          "model_name": "HBoxModel",
          "state": {
            "_view_name": "HBoxView",
            "_dom_classes": [],
            "_model_name": "HBoxModel",
            "_view_module": "@jupyter-widgets/controls",
            "_model_module_version": "1.5.0",
            "_view_count": null,
            "_view_module_version": "1.5.0",
            "box_style": "",
            "layout": "IPY_MODEL_ad81fdb7f206401ab361df8e1dbd0868",
            "_model_module": "@jupyter-widgets/controls",
            "children": [
              "IPY_MODEL_d217952c1779414183a7ba52f848ce02",
              "IPY_MODEL_fbeec5e846914ef6a98eb66c7e2f51b7",
              "IPY_MODEL_ff8123e1cca14c20b01831889887975b"
            ]
          }
        },
        "ad81fdb7f206401ab361df8e1dbd0868": {
          "model_module": "@jupyter-widgets/base",
          "model_name": "LayoutModel",
          "state": {
            "_view_name": "LayoutView",
            "grid_template_rows": null,
            "right": null,
            "justify_content": null,
            "_view_module": "@jupyter-widgets/base",
            "overflow": null,
            "_model_module_version": "1.2.0",
            "_view_count": null,
            "flex_flow": null,
            "width": null,
            "min_width": null,
            "border": null,
            "align_items": null,
            "bottom": null,
            "_model_module": "@jupyter-widgets/base",
            "top": null,
            "grid_column": null,
            "overflow_y": null,
            "overflow_x": null,
            "grid_auto_flow": null,
            "grid_area": null,
            "grid_template_columns": null,
            "flex": null,
            "_model_name": "LayoutModel",
            "justify_items": null,
            "grid_row": null,
            "max_height": null,
            "align_content": null,
            "visibility": null,
            "align_self": null,
            "height": null,
            "min_height": null,
            "padding": null,
            "grid_auto_rows": null,
            "grid_gap": null,
            "max_width": null,
            "order": null,
            "_view_module_version": "1.2.0",
            "grid_template_areas": null,
            "object_position": null,
            "object_fit": null,
            "grid_auto_columns": null,
            "margin": null,
            "display": null,
            "left": null
          }
        },
        "d217952c1779414183a7ba52f848ce02": {
          "model_module": "@jupyter-widgets/controls",
          "model_name": "VBoxModel",
          "state": {
            "_view_name": "VBoxView",
            "_dom_classes": [],
            "_model_name": "VBoxModel",
            "_view_module": "@jupyter-widgets/controls",
            "_model_module_version": "1.5.0",
            "_view_count": null,
            "_view_module_version": "1.5.0",
            "box_style": "",
            "layout": "IPY_MODEL_e4393d8ac7b94471b1bdd7ae78f6584e",
            "_model_module": "@jupyter-widgets/controls",
            "children": [
              "IPY_MODEL_b21ebfc0e4ee406babd7fb2e63577a57",
              "IPY_MODEL_a241760af99b41a6a6f36840dc6e83ac"
            ]
          }
        },
        "fbeec5e846914ef6a98eb66c7e2f51b7": {
          "model_module": "@jupyter-widgets/controls",
          "model_name": "VBoxModel",
          "state": {
            "_view_name": "VBoxView",
            "_dom_classes": [],
            "_model_name": "VBoxModel",
            "_view_module": "@jupyter-widgets/controls",
            "_model_module_version": "1.5.0",
            "_view_count": null,
            "_view_module_version": "1.5.0",
            "box_style": "",
            "layout": "IPY_MODEL_dee9d866db5b495db311d9022360e5a5",
            "_model_module": "@jupyter-widgets/controls",
            "children": [
              "IPY_MODEL_bcf63f4f9f4a4307b12b43ccbe0167e4",
              "IPY_MODEL_d36c2f8e3a3749b1b611e20310ff3a9c"
            ]
          }
        },
        "ff8123e1cca14c20b01831889887975b": {
          "model_module": "@jupyter-widgets/controls",
          "model_name": "VBoxModel",
          "state": {
            "_view_name": "VBoxView",
            "_dom_classes": [],
            "_model_name": "VBoxModel",
            "_view_module": "@jupyter-widgets/controls",
            "_model_module_version": "1.5.0",
            "_view_count": null,
            "_view_module_version": "1.5.0",
            "box_style": "",
            "layout": "IPY_MODEL_26f15317f18f412dba62f91c7df6ced2",
            "_model_module": "@jupyter-widgets/controls",
            "children": [
              "IPY_MODEL_6f07c0a49bba46ac9fa1496b9134f68a",
              "IPY_MODEL_3016a08ed2df4f9db03463290c82d17f"
            ]
          }
        },
        "e4393d8ac7b94471b1bdd7ae78f6584e": {
          "model_module": "@jupyter-widgets/base",
          "model_name": "LayoutModel",
          "state": {
            "_view_name": "LayoutView",
            "grid_template_rows": null,
            "right": null,
            "justify_content": null,
            "_view_module": "@jupyter-widgets/base",
            "overflow": null,
            "_model_module_version": "1.2.0",
            "_view_count": null,
            "flex_flow": null,
            "width": null,
            "min_width": null,
            "border": null,
            "align_items": null,
            "bottom": null,
            "_model_module": "@jupyter-widgets/base",
            "top": null,
            "grid_column": null,
            "overflow_y": null,
            "overflow_x": null,
            "grid_auto_flow": null,
            "grid_area": null,
            "grid_template_columns": null,
            "flex": null,
            "_model_name": "LayoutModel",
            "justify_items": null,
            "grid_row": null,
            "max_height": null,
            "align_content": null,
            "visibility": null,
            "align_self": null,
            "height": null,
            "min_height": null,
            "padding": null,
            "grid_auto_rows": null,
            "grid_gap": null,
            "max_width": null,
            "order": null,
            "_view_module_version": "1.2.0",
            "grid_template_areas": null,
            "object_position": null,
            "object_fit": null,
            "grid_auto_columns": null,
            "margin": null,
            "display": null,
            "left": null
          }
        },
        "b21ebfc0e4ee406babd7fb2e63577a57": {
          "model_module": "@jupyter-widgets/controls",
          "model_name": "VBoxModel",
          "state": {
            "_view_name": "VBoxView",
            "_dom_classes": [],
            "_model_name": "VBoxModel",
            "_view_module": "@jupyter-widgets/controls",
            "_model_module_version": "1.5.0",
            "_view_count": null,
            "_view_module_version": "1.5.0",
            "box_style": "",
            "layout": "IPY_MODEL_9cb7bc60163e4e4dbcb57d9853d0e675",
            "_model_module": "@jupyter-widgets/controls",
            "children": [
              "IPY_MODEL_52389f4093ab4af49525dbb2b45f7549",
              "IPY_MODEL_dde412b51d8743289d9ee41f4f8afb4e",
              "IPY_MODEL_9fab4edd2be14110a14334770ab247f8"
            ]
          }
        },
        "a241760af99b41a6a6f36840dc6e83ac": {
          "model_module": "@jupyter-widgets/controls",
          "model_name": "VBoxModel",
          "state": {
            "_view_name": "VBoxView",
            "_dom_classes": [],
            "_model_name": "VBoxModel",
            "_view_module": "@jupyter-widgets/controls",
            "_model_module_version": "1.5.0",
            "_view_count": null,
            "_view_module_version": "1.5.0",
            "box_style": "",
            "layout": "IPY_MODEL_8c32fe255d2649e096b43dce5c1729e8",
            "_model_module": "@jupyter-widgets/controls",
            "children": [
              "IPY_MODEL_6bce096f3f50487cbc12a73077fbda85",
              "IPY_MODEL_67237bcc081649f8948d6ba83d0882f2",
              "IPY_MODEL_57843872c8d74c9f8ec7941de9fc9948",
              "IPY_MODEL_20ecf88f137e489ebe051d2e2c91670d"
            ]
          }
        },
        "dee9d866db5b495db311d9022360e5a5": {
          "model_module": "@jupyter-widgets/base",
          "model_name": "LayoutModel",
          "state": {
            "_view_name": "LayoutView",
            "grid_template_rows": null,
            "right": null,
            "justify_content": null,
            "_view_module": "@jupyter-widgets/base",
            "overflow": null,
            "_model_module_version": "1.2.0",
            "_view_count": null,
            "flex_flow": null,
            "width": null,
            "min_width": null,
            "border": null,
            "align_items": null,
            "bottom": null,
            "_model_module": "@jupyter-widgets/base",
            "top": null,
            "grid_column": null,
            "overflow_y": null,
            "overflow_x": null,
            "grid_auto_flow": null,
            "grid_area": null,
            "grid_template_columns": null,
            "flex": null,
            "_model_name": "LayoutModel",
            "justify_items": null,
            "grid_row": null,
            "max_height": null,
            "align_content": null,
            "visibility": null,
            "align_self": null,
            "height": null,
            "min_height": null,
            "padding": null,
            "grid_auto_rows": null,
            "grid_gap": null,
            "max_width": null,
            "order": null,
            "_view_module_version": "1.2.0",
            "grid_template_areas": null,
            "object_position": null,
            "object_fit": null,
            "grid_auto_columns": null,
            "margin": null,
            "display": null,
            "left": null
          }
        },
        "bcf63f4f9f4a4307b12b43ccbe0167e4": {
          "model_module": "@jupyter-widgets/controls",
          "model_name": "VBoxModel",
          "state": {
            "_view_name": "VBoxView",
            "_dom_classes": [],
            "_model_name": "VBoxModel",
            "_view_module": "@jupyter-widgets/controls",
            "_model_module_version": "1.5.0",
            "_view_count": null,
            "_view_module_version": "1.5.0",
            "box_style": "",
            "layout": "IPY_MODEL_4c369a8dec8f43c685f3a4c3901b7f90",
            "_model_module": "@jupyter-widgets/controls",
            "children": [
              "IPY_MODEL_ac960160d2b545aaae0370fa1e57ca81",
              "IPY_MODEL_9cf3b1e473ac4cf6aca7340b5b460620",
              "IPY_MODEL_5fc0fa87f972416a968b8a3ad54e5c8b",
              "IPY_MODEL_19411470dbd44db3a447d4d9785d8df1"
            ]
          }
        },
        "d36c2f8e3a3749b1b611e20310ff3a9c": {
          "model_module": "@jupyter-widgets/controls",
          "model_name": "ButtonModel",
          "state": {
            "_view_name": "ButtonView",
            "style": "IPY_MODEL_331581eff37a4b1f82cf93ff85e02221",
            "_dom_classes": [],
            "description": "GO!",
            "_model_name": "ButtonModel",
            "button_style": "primary",
            "_view_module": "@jupyter-widgets/controls",
            "_model_module_version": "1.5.0",
            "tooltip": "",
            "_view_count": null,
            "disabled": false,
            "_view_module_version": "1.5.0",
            "layout": "IPY_MODEL_911a3af61dd34f78aa9a345552635067",
            "_model_module": "@jupyter-widgets/controls",
            "icon": ""
          }
        },
        "26f15317f18f412dba62f91c7df6ced2": {
          "model_module": "@jupyter-widgets/base",
          "model_name": "LayoutModel",
          "state": {
            "_view_name": "LayoutView",
            "grid_template_rows": null,
            "right": null,
            "justify_content": null,
            "_view_module": "@jupyter-widgets/base",
            "overflow": null,
            "_model_module_version": "1.2.0",
            "_view_count": null,
            "flex_flow": null,
            "width": null,
            "min_width": null,
            "border": null,
            "align_items": null,
            "bottom": null,
            "_model_module": "@jupyter-widgets/base",
            "top": null,
            "grid_column": null,
            "overflow_y": null,
            "overflow_x": null,
            "grid_auto_flow": null,
            "grid_area": null,
            "grid_template_columns": null,
            "flex": null,
            "_model_name": "LayoutModel",
            "justify_items": null,
            "grid_row": null,
            "max_height": null,
            "align_content": null,
            "visibility": null,
            "align_self": null,
            "height": null,
            "min_height": null,
            "padding": null,
            "grid_auto_rows": null,
            "grid_gap": null,
            "max_width": null,
            "order": null,
            "_view_module_version": "1.2.0",
            "grid_template_areas": null,
            "object_position": null,
            "object_fit": null,
            "grid_auto_columns": null,
            "margin": null,
            "display": null,
            "left": null
          }
        },
        "6f07c0a49bba46ac9fa1496b9134f68a": {
          "model_module": "@jupyter-widgets/controls",
          "model_name": "VBoxModel",
          "state": {
            "_view_name": "VBoxView",
            "_dom_classes": [],
            "_model_name": "VBoxModel",
            "_view_module": "@jupyter-widgets/controls",
            "_model_module_version": "1.5.0",
            "_view_count": null,
            "_view_module_version": "1.5.0",
            "box_style": "",
            "layout": "IPY_MODEL_0d2617b11275458890d1783e159f0169",
            "_model_module": "@jupyter-widgets/controls",
            "children": [
              "IPY_MODEL_0a88feead49d41238cdaaa8319fb4dc7",
              "IPY_MODEL_ff46e1ce668e41ab9b49dfb30dd1ca88"
            ]
          }
        },
        "3016a08ed2df4f9db03463290c82d17f": {
          "model_module": "@jupyter-widgets/controls",
          "model_name": "VBoxModel",
          "state": {
            "_view_name": "VBoxView",
            "_dom_classes": [],
            "_model_name": "VBoxModel",
            "_view_module": "@jupyter-widgets/controls",
            "_model_module_version": "1.5.0",
            "_view_count": null,
            "_view_module_version": "1.5.0",
            "box_style": "",
            "layout": "IPY_MODEL_13e97482273243bba544de990dd07d0d",
            "_model_module": "@jupyter-widgets/controls",
            "children": [
              "IPY_MODEL_3f1fa1e0da664ebfb2388950d0bfba22",
              "IPY_MODEL_2cd3082dc5214b1fa42b78f135ddc2cb"
            ]
          }
        },
        "9cb7bc60163e4e4dbcb57d9853d0e675": {
          "model_module": "@jupyter-widgets/base",
          "model_name": "LayoutModel",
          "state": {
            "_view_name": "LayoutView",
            "grid_template_rows": null,
            "right": null,
            "justify_content": null,
            "_view_module": "@jupyter-widgets/base",
            "overflow": null,
            "_model_module_version": "1.2.0",
            "_view_count": null,
            "flex_flow": null,
            "width": null,
            "min_width": null,
            "border": null,
            "align_items": null,
            "bottom": null,
            "_model_module": "@jupyter-widgets/base",
            "top": null,
            "grid_column": null,
            "overflow_y": null,
            "overflow_x": null,
            "grid_auto_flow": null,
            "grid_area": null,
            "grid_template_columns": null,
            "flex": null,
            "_model_name": "LayoutModel",
            "justify_items": null,
            "grid_row": null,
            "max_height": null,
            "align_content": null,
            "visibility": null,
            "align_self": null,
            "height": null,
            "min_height": null,
            "padding": null,
            "grid_auto_rows": null,
            "grid_gap": null,
            "max_width": null,
            "order": null,
            "_view_module_version": "1.2.0",
            "grid_template_areas": null,
            "object_position": null,
            "object_fit": null,
            "grid_auto_columns": null,
            "margin": null,
            "display": null,
            "left": null
          }
        },
        "52389f4093ab4af49525dbb2b45f7549": {
          "model_module": "@jupyter-widgets/controls",
          "model_name": "LabelModel",
          "state": {
            "_view_name": "LabelView",
            "style": "IPY_MODEL_390df40f45f148a692eb23142859d953",
            "_dom_classes": [],
            "description": "",
            "_model_name": "LabelModel",
            "placeholder": "​",
            "_view_module": "@jupyter-widgets/controls",
            "_model_module_version": "1.5.0",
            "value": "Monomer parameters",
            "_view_count": null,
            "_view_module_version": "1.5.0",
            "description_tooltip": null,
            "_model_module": "@jupyter-widgets/controls",
            "layout": "IPY_MODEL_e07508347c80417bb2c7cae0dadb79ed"
          }
        },
        "dde412b51d8743289d9ee41f4f8afb4e": {
          "model_module": "@jupyter-widgets/controls",
          "model_name": "VBoxModel",
          "state": {
            "_view_name": "VBoxView",
            "_dom_classes": [],
            "_model_name": "VBoxModel",
            "_view_module": "@jupyter-widgets/controls",
            "_model_module_version": "1.5.0",
            "_view_count": null,
            "_view_module_version": "1.5.0",
            "box_style": "",
            "layout": "IPY_MODEL_840abea18ad04c6fb9dc3660259c41c3",
            "_model_module": "@jupyter-widgets/controls",
            "children": [
              "IPY_MODEL_4844dd720c6345328213fb5b98c99743",
              "IPY_MODEL_9f345b33cf9842e9bd4a779671b1fadb"
            ]
          }
        },
        "9fab4edd2be14110a14334770ab247f8": {
          "model_module": "@jupyter-widgets/controls",
          "model_name": "VBoxModel",
          "state": {
            "_view_name": "VBoxView",
            "_dom_classes": [],
            "_model_name": "VBoxModel",
            "_view_module": "@jupyter-widgets/controls",
            "_model_module_version": "1.5.0",
            "_view_count": null,
            "_view_module_version": "1.5.0",
            "box_style": "",
            "layout": "IPY_MODEL_f025ddeded264193a18876d5e3a448a4",
            "_model_module": "@jupyter-widgets/controls",
            "children": [
              "IPY_MODEL_78916589d31f431f97f7c547ae49b10f",
              "IPY_MODEL_4a4d1df07618415c9cfaae21bf234d22"
            ]
          }
        },
        "8c32fe255d2649e096b43dce5c1729e8": {
          "model_module": "@jupyter-widgets/base",
          "model_name": "LayoutModel",
          "state": {
            "_view_name": "LayoutView",
            "grid_template_rows": null,
            "right": null,
            "justify_content": null,
            "_view_module": "@jupyter-widgets/base",
            "overflow": null,
            "_model_module_version": "1.2.0",
            "_view_count": null,
            "flex_flow": null,
            "width": null,
            "min_width": null,
            "border": null,
            "align_items": null,
            "bottom": null,
            "_model_module": "@jupyter-widgets/base",
            "top": null,
            "grid_column": null,
            "overflow_y": null,
            "overflow_x": null,
            "grid_auto_flow": null,
            "grid_area": null,
            "grid_template_columns": null,
            "flex": null,
            "_model_name": "LayoutModel",
            "justify_items": null,
            "grid_row": null,
            "max_height": null,
            "align_content": null,
            "visibility": null,
            "align_self": null,
            "height": null,
            "min_height": null,
            "padding": null,
            "grid_auto_rows": null,
            "grid_gap": null,
            "max_width": null,
            "order": null,
            "_view_module_version": "1.2.0",
            "grid_template_areas": null,
            "object_position": null,
            "object_fit": null,
            "grid_auto_columns": null,
            "margin": null,
            "display": null,
            "left": null
          }
        },
        "6bce096f3f50487cbc12a73077fbda85": {
          "model_module": "@jupyter-widgets/controls",
          "model_name": "LabelModel",
          "state": {
            "_view_name": "LabelView",
            "style": "IPY_MODEL_777e6efc8caa47f9929d729954b950ad",
            "_dom_classes": [],
            "description": "",
            "_model_name": "LabelModel",
            "placeholder": "​",
            "_view_module": "@jupyter-widgets/controls",
            "_model_module_version": "1.5.0",
            "value": "Simulation paramaters",
            "_view_count": null,
            "_view_module_version": "1.5.0",
            "description_tooltip": null,
            "_model_module": "@jupyter-widgets/controls",
            "layout": "IPY_MODEL_323c1b086a6748478609d173729105bd"
          }
        },
        "67237bcc081649f8948d6ba83d0882f2": {
          "model_module": "@jupyter-widgets/controls",
          "model_name": "VBoxModel",
          "state": {
            "_view_name": "VBoxView",
            "_dom_classes": [],
            "_model_name": "VBoxModel",
            "_view_module": "@jupyter-widgets/controls",
            "_model_module_version": "1.5.0",
            "_view_count": null,
            "_view_module_version": "1.5.0",
            "box_style": "",
            "layout": "IPY_MODEL_b6e2f0f586b54128be30f6b81a559755",
            "_model_module": "@jupyter-widgets/controls",
            "children": [
              "IPY_MODEL_2ebc95744f4c4097be99618a5e7d835f",
              "IPY_MODEL_3c66bb94194d440eb2ec7df205a67577"
            ]
          }
        },
        "57843872c8d74c9f8ec7941de9fc9948": {
          "model_module": "@jupyter-widgets/controls",
          "model_name": "VBoxModel",
          "state": {
            "_view_name": "VBoxView",
            "_dom_classes": [],
            "_model_name": "VBoxModel",
            "_view_module": "@jupyter-widgets/controls",
            "_model_module_version": "1.5.0",
            "_view_count": null,
            "_view_module_version": "1.5.0",
            "box_style": "",
            "layout": "IPY_MODEL_0f0d0c6596d949209d2db0aa4c08265b",
            "_model_module": "@jupyter-widgets/controls",
            "children": [
              "IPY_MODEL_8ff81087564f4ef3b8a3df9cee377d3c",
              "IPY_MODEL_5da29f7bdf1d4e0f8bbcb0d427933fba"
            ]
          }
        },
        "20ecf88f137e489ebe051d2e2c91670d": {
          "model_module": "@jupyter-widgets/controls",
          "model_name": "VBoxModel",
          "state": {
            "_view_name": "VBoxView",
            "_dom_classes": [],
            "_model_name": "VBoxModel",
            "_view_module": "@jupyter-widgets/controls",
            "_model_module_version": "1.5.0",
            "_view_count": null,
            "_view_module_version": "1.5.0",
            "box_style": "",
            "layout": "IPY_MODEL_3d90e3faa8d547d491dac0879b3312a8",
            "_model_module": "@jupyter-widgets/controls",
            "children": [
              "IPY_MODEL_53fab9215a3c4f88ae01596dc7496bad",
              "IPY_MODEL_58de2b5dc44b4aefa9312b1946e0452d"
            ]
          }
        },
        "4c369a8dec8f43c685f3a4c3901b7f90": {
          "model_module": "@jupyter-widgets/base",
          "model_name": "LayoutModel",
          "state": {
            "_view_name": "LayoutView",
            "grid_template_rows": null,
            "right": null,
            "justify_content": null,
            "_view_module": "@jupyter-widgets/base",
            "overflow": null,
            "_model_module_version": "1.2.0",
            "_view_count": null,
            "flex_flow": null,
            "width": null,
            "min_width": null,
            "border": null,
            "align_items": null,
            "bottom": null,
            "_model_module": "@jupyter-widgets/base",
            "top": null,
            "grid_column": null,
            "overflow_y": null,
            "overflow_x": null,
            "grid_auto_flow": null,
            "grid_area": null,
            "grid_template_columns": null,
            "flex": null,
            "_model_name": "LayoutModel",
            "justify_items": null,
            "grid_row": null,
            "max_height": null,
            "align_content": null,
            "visibility": null,
            "align_self": null,
            "height": null,
            "min_height": null,
            "padding": null,
            "grid_auto_rows": null,
            "grid_gap": null,
            "max_width": null,
            "order": null,
            "_view_module_version": "1.2.0",
            "grid_template_areas": null,
            "object_position": null,
            "object_fit": null,
            "grid_auto_columns": null,
            "margin": null,
            "display": null,
            "left": null
          }
        },
        "ac960160d2b545aaae0370fa1e57ca81": {
          "model_module": "@jupyter-widgets/controls",
          "model_name": "LabelModel",
          "state": {
            "_view_name": "LabelView",
            "style": "IPY_MODEL_53fdf4b9363c4d51a80dc4285aa8cc37",
            "_dom_classes": [],
            "description": "",
            "_model_name": "LabelModel",
            "placeholder": "​",
            "_view_module": "@jupyter-widgets/controls",
            "_model_module_version": "1.5.0",
            "value": "General parameters",
            "_view_count": null,
            "_view_module_version": "1.5.0",
            "description_tooltip": null,
            "_model_module": "@jupyter-widgets/controls",
            "layout": "IPY_MODEL_b56e0bb4a38e4db79ec803ec8b1a07ab"
          }
        },
        "9cf3b1e473ac4cf6aca7340b5b460620": {
          "model_module": "@jupyter-widgets/controls",
          "model_name": "VBoxModel",
          "state": {
            "_view_name": "VBoxView",
            "_dom_classes": [],
            "_model_name": "VBoxModel",
            "_view_module": "@jupyter-widgets/controls",
            "_model_module_version": "1.5.0",
            "_view_count": null,
            "_view_module_version": "1.5.0",
            "box_style": "",
            "layout": "IPY_MODEL_e2c615f36c8940f9b8b3939a64dca7ba",
            "_model_module": "@jupyter-widgets/controls",
            "children": [
              "IPY_MODEL_1395cf6b404e42a3a606a572fae73bb7",
              "IPY_MODEL_33dc86cac1994c00ba6699496e39e422"
            ]
          }
        },
        "5fc0fa87f972416a968b8a3ad54e5c8b": {
          "model_module": "@jupyter-widgets/controls",
          "model_name": "VBoxModel",
          "state": {
            "_view_name": "VBoxView",
            "_dom_classes": [],
            "_model_name": "VBoxModel",
            "_view_module": "@jupyter-widgets/controls",
            "_model_module_version": "1.5.0",
            "_view_count": null,
            "_view_module_version": "1.5.0",
            "box_style": "",
            "layout": "IPY_MODEL_bbda77e43a004d20a9d463f77f56b193",
            "_model_module": "@jupyter-widgets/controls",
            "children": [
              "IPY_MODEL_6a3c7ff3eb744a1e9dc4c031d658b647",
              "IPY_MODEL_18568345e7ea43aa867124c2a5559fd5"
            ]
          }
        },
        "19411470dbd44db3a447d4d9785d8df1": {
          "model_module": "@jupyter-widgets/controls",
          "model_name": "VBoxModel",
          "state": {
            "_view_name": "VBoxView",
            "_dom_classes": [],
            "_model_name": "VBoxModel",
            "_view_module": "@jupyter-widgets/controls",
            "_model_module_version": "1.5.0",
            "_view_count": null,
            "_view_module_version": "1.5.0",
            "box_style": "",
            "layout": "IPY_MODEL_8d9c7fdc18c346f6ad748dcdd7f95201",
            "_model_module": "@jupyter-widgets/controls",
            "children": [
              "IPY_MODEL_92ed344309fa4ce39c164f4f18173c3b",
              "IPY_MODEL_ec822dc20c324edb958e06f68c5677da"
            ]
          }
        },
        "331581eff37a4b1f82cf93ff85e02221": {
          "model_module": "@jupyter-widgets/controls",
          "model_name": "ButtonStyleModel",
          "state": {
            "_view_name": "StyleView",
            "_model_name": "ButtonStyleModel",
            "_view_module": "@jupyter-widgets/base",
            "_model_module_version": "1.5.0",
            "_view_count": null,
            "button_color": null,
            "font_weight": "",
            "_view_module_version": "1.2.0",
            "_model_module": "@jupyter-widgets/controls"
          }
        },
        "911a3af61dd34f78aa9a345552635067": {
          "model_module": "@jupyter-widgets/base",
          "model_name": "LayoutModel",
          "state": {
            "_view_name": "LayoutView",
            "grid_template_rows": null,
            "right": null,
            "justify_content": null,
            "_view_module": "@jupyter-widgets/base",
            "overflow": null,
            "_model_module_version": "1.2.0",
            "_view_count": null,
            "flex_flow": null,
            "width": null,
            "min_width": null,
            "border": null,
            "align_items": null,
            "bottom": null,
            "_model_module": "@jupyter-widgets/base",
            "top": null,
            "grid_column": null,
            "overflow_y": null,
            "overflow_x": null,
            "grid_auto_flow": null,
            "grid_area": null,
            "grid_template_columns": null,
            "flex": null,
            "_model_name": "LayoutModel",
            "justify_items": null,
            "grid_row": null,
            "max_height": null,
            "align_content": null,
            "visibility": null,
            "align_self": null,
            "height": null,
            "min_height": null,
            "padding": null,
            "grid_auto_rows": null,
            "grid_gap": null,
            "max_width": null,
            "order": null,
            "_view_module_version": "1.2.0",
            "grid_template_areas": null,
            "object_position": null,
            "object_fit": null,
            "grid_auto_columns": null,
            "margin": null,
            "display": null,
            "left": null
          }
        },
        "0d2617b11275458890d1783e159f0169": {
          "model_module": "@jupyter-widgets/base",
          "model_name": "LayoutModel",
          "state": {
            "_view_name": "LayoutView",
            "grid_template_rows": null,
            "right": null,
            "justify_content": null,
            "_view_module": "@jupyter-widgets/base",
            "overflow": null,
            "_model_module_version": "1.2.0",
            "_view_count": null,
            "flex_flow": null,
            "width": null,
            "min_width": null,
            "border": null,
            "align_items": null,
            "bottom": null,
            "_model_module": "@jupyter-widgets/base",
            "top": null,
            "grid_column": null,
            "overflow_y": null,
            "overflow_x": null,
            "grid_auto_flow": null,
            "grid_area": null,
            "grid_template_columns": null,
            "flex": null,
            "_model_name": "LayoutModel",
            "justify_items": null,
            "grid_row": null,
            "max_height": null,
            "align_content": null,
            "visibility": null,
            "align_self": null,
            "height": null,
            "min_height": null,
            "padding": null,
            "grid_auto_rows": null,
            "grid_gap": null,
            "max_width": null,
            "order": null,
            "_view_module_version": "1.2.0",
            "grid_template_areas": null,
            "object_position": null,
            "object_fit": null,
            "grid_auto_columns": null,
            "margin": null,
            "display": null,
            "left": null
          }
        },
        "0a88feead49d41238cdaaa8319fb4dc7": {
          "model_module": "@jupyter-widgets/controls",
          "model_name": "LabelModel",
          "state": {
            "_view_name": "LabelView",
            "style": "IPY_MODEL_92a5c9c260964b62ba5de997219ca0b6",
            "_dom_classes": [],
            "description": "",
            "_model_name": "LabelModel",
            "placeholder": "​",
            "_view_module": "@jupyter-widgets/controls",
            "_model_module_version": "1.5.0",
            "value": "Select calculation method:",
            "_view_count": null,
            "_view_module_version": "1.5.0",
            "description_tooltip": null,
            "_model_module": "@jupyter-widgets/controls",
            "layout": "IPY_MODEL_86e1b0b2327c4477982966fd0ffc0b2f"
          }
        },
        "ff46e1ce668e41ab9b49dfb30dd1ca88": {
          "model_module": "@jupyter-widgets/controls",
          "model_name": "DropdownModel",
          "state": {
            "_options_labels": [
              "bias",
              "standard",
              "poisson"
            ],
            "_view_name": "DropdownView",
            "style": "IPY_MODEL_fe7924b371184b9484f26a044964d5ae",
            "_dom_classes": [],
            "description": "",
            "_model_name": "DropdownModel",
            "index": 1,
            "_view_module": "@jupyter-widgets/controls",
            "_model_module_version": "1.5.0",
            "_view_count": null,
            "disabled": false,
            "_view_module_version": "1.5.0",
            "description_tooltip": null,
            "_model_module": "@jupyter-widgets/controls",
            "layout": "IPY_MODEL_c41db8d21404419c963769f7fbe22e9e"
          }
        },
        "13e97482273243bba544de990dd07d0d": {
          "model_module": "@jupyter-widgets/base",
          "model_name": "LayoutModel",
          "state": {
            "_view_name": "LayoutView",
            "grid_template_rows": null,
            "right": null,
            "justify_content": null,
            "_view_module": "@jupyter-widgets/base",
            "overflow": null,
            "_model_module_version": "1.2.0",
            "_view_count": null,
            "flex_flow": null,
            "width": null,
            "min_width": null,
            "border": null,
            "align_items": null,
            "bottom": null,
            "_model_module": "@jupyter-widgets/base",
            "top": null,
            "grid_column": null,
            "overflow_y": null,
            "overflow_x": null,
            "grid_auto_flow": null,
            "grid_area": null,
            "grid_template_columns": null,
            "flex": null,
            "_model_name": "LayoutModel",
            "justify_items": null,
            "grid_row": null,
            "max_height": null,
            "align_content": null,
            "visibility": null,
            "align_self": null,
            "height": null,
            "min_height": null,
            "padding": null,
            "grid_auto_rows": null,
            "grid_gap": null,
            "max_width": null,
            "order": null,
            "_view_module_version": "1.2.0",
            "grid_template_areas": null,
            "object_position": null,
            "object_fit": null,
            "grid_auto_columns": null,
            "margin": null,
            "display": null,
            "left": null
          }
        },
        "3f1fa1e0da664ebfb2388950d0bfba22": {
          "model_module": "@jupyter-widgets/controls",
          "model_name": "VBoxModel",
          "state": {
            "_view_name": "VBoxView",
            "_dom_classes": [],
            "_model_name": "VBoxModel",
            "_view_module": "@jupyter-widgets/controls",
            "_model_module_version": "1.5.0",
            "_view_count": null,
            "_view_module_version": "1.5.0",
            "box_style": "",
            "layout": "IPY_MODEL_31a152cb87c94e3498ca128c24e7b6fd",
            "_model_module": "@jupyter-widgets/controls",
            "children": [
              "IPY_MODEL_f6e1d396ce794d42a34aab4083b1feea",
              "IPY_MODEL_9a60a5838f7745be8102f462c8d788ef"
            ]
          }
        },
        "2cd3082dc5214b1fa42b78f135ddc2cb": {
          "model_module": "@jupyter-widgets/controls",
          "model_name": "VBoxModel",
          "state": {
            "_view_name": "VBoxView",
            "_dom_classes": [],
            "_model_name": "VBoxModel",
            "_view_module": "@jupyter-widgets/controls",
            "_model_module_version": "1.5.0",
            "_view_count": null,
            "_view_module_version": "1.5.0",
            "box_style": "",
            "layout": "IPY_MODEL_7b999cf738464d849df5358ef0db08ee",
            "_model_module": "@jupyter-widgets/controls",
            "children": [
              "IPY_MODEL_4216c3b55f554a6ca1faeeb83b46935b",
              "IPY_MODEL_7e1e49a2db844c52a1993103258d3062"
            ]
          }
        },
        "390df40f45f148a692eb23142859d953": {
          "model_module": "@jupyter-widgets/controls",
          "model_name": "DescriptionStyleModel",
          "state": {
            "_view_name": "StyleView",
            "_model_name": "DescriptionStyleModel",
            "description_width": "",
            "_view_module": "@jupyter-widgets/base",
            "_model_module_version": "1.5.0",
            "_view_count": null,
            "_view_module_version": "1.2.0",
            "_model_module": "@jupyter-widgets/controls"
          }
        },
        "e07508347c80417bb2c7cae0dadb79ed": {
          "model_module": "@jupyter-widgets/base",
          "model_name": "LayoutModel",
          "state": {
            "_view_name": "LayoutView",
            "grid_template_rows": null,
            "right": null,
            "justify_content": null,
            "_view_module": "@jupyter-widgets/base",
            "overflow": null,
            "_model_module_version": "1.2.0",
            "_view_count": null,
            "flex_flow": null,
            "width": null,
            "min_width": null,
            "border": null,
            "align_items": null,
            "bottom": null,
            "_model_module": "@jupyter-widgets/base",
            "top": null,
            "grid_column": null,
            "overflow_y": null,
            "overflow_x": null,
            "grid_auto_flow": null,
            "grid_area": null,
            "grid_template_columns": null,
            "flex": null,
            "_model_name": "LayoutModel",
            "justify_items": null,
            "grid_row": null,
            "max_height": null,
            "align_content": null,
            "visibility": null,
            "align_self": null,
            "height": null,
            "min_height": null,
            "padding": null,
            "grid_auto_rows": null,
            "grid_gap": null,
            "max_width": null,
            "order": null,
            "_view_module_version": "1.2.0",
            "grid_template_areas": null,
            "object_position": null,
            "object_fit": null,
            "grid_auto_columns": null,
            "margin": null,
            "display": null,
            "left": null
          }
        },
        "840abea18ad04c6fb9dc3660259c41c3": {
          "model_module": "@jupyter-widgets/base",
          "model_name": "LayoutModel",
          "state": {
            "_view_name": "LayoutView",
            "grid_template_rows": null,
            "right": null,
            "justify_content": null,
            "_view_module": "@jupyter-widgets/base",
            "overflow": null,
            "_model_module_version": "1.2.0",
            "_view_count": null,
            "flex_flow": null,
            "width": null,
            "min_width": null,
            "border": null,
            "align_items": null,
            "bottom": null,
            "_model_module": "@jupyter-widgets/base",
            "top": null,
            "grid_column": null,
            "overflow_y": null,
            "overflow_x": null,
            "grid_auto_flow": null,
            "grid_area": null,
            "grid_template_columns": null,
            "flex": null,
            "_model_name": "LayoutModel",
            "justify_items": null,
            "grid_row": null,
            "max_height": null,
            "align_content": null,
            "visibility": null,
            "align_self": null,
            "height": null,
            "min_height": null,
            "padding": null,
            "grid_auto_rows": null,
            "grid_gap": null,
            "max_width": null,
            "order": null,
            "_view_module_version": "1.2.0",
            "grid_template_areas": null,
            "object_position": null,
            "object_fit": null,
            "grid_auto_columns": null,
            "margin": null,
            "display": null,
            "left": null
          }
        },
        "4844dd720c6345328213fb5b98c99743": {
          "model_module": "@jupyter-widgets/controls",
          "model_name": "LabelModel",
          "state": {
            "_view_name": "LabelView",
            "style": "IPY_MODEL_02ed53e9dbac439e90c834a6078a886b",
            "_dom_classes": [],
            "description": "",
            "_model_name": "LabelModel",
            "placeholder": "​",
            "_view_module": "@jupyter-widgets/controls",
            "_model_module_version": "1.5.0",
            "value": "POOF_CHANCE",
            "_view_count": null,
            "_view_module_version": "1.5.0",
            "description_tooltip": null,
            "_model_module": "@jupyter-widgets/controls",
            "layout": "IPY_MODEL_6b5aa893eb16441da9f3c1e57ca25e2b"
          }
        },
        "9f345b33cf9842e9bd4a779671b1fadb": {
          "model_module": "@jupyter-widgets/controls",
          "model_name": "FloatSliderModel",
          "state": {
            "_view_name": "FloatSliderView",
            "style": "IPY_MODEL_1284c6d1d5ab46fcb25842e7e11ef915",
            "_dom_classes": [],
            "description": "",
            "step": 0.01,
            "_model_name": "FloatSliderModel",
            "orientation": "horizontal",
            "max": 1,
            "_view_module": "@jupyter-widgets/controls",
            "_model_module_version": "1.5.0",
            "value": 0.5,
            "_view_count": null,
            "disabled": false,
            "_view_module_version": "1.5.0",
            "min": 0,
            "continuous_update": true,
            "readout_format": ".2f",
            "description_tooltip": null,
            "readout": true,
            "_model_module": "@jupyter-widgets/controls",
            "layout": "IPY_MODEL_7cd946a557e04cee8a54f4c2643f3816"
          }
        },
        "f025ddeded264193a18876d5e3a448a4": {
          "model_module": "@jupyter-widgets/base",
          "model_name": "LayoutModel",
          "state": {
            "_view_name": "LayoutView",
            "grid_template_rows": null,
            "right": null,
            "justify_content": null,
            "_view_module": "@jupyter-widgets/base",
            "overflow": null,
            "_model_module_version": "1.2.0",
            "_view_count": null,
            "flex_flow": null,
            "width": null,
            "min_width": null,
            "border": null,
            "align_items": null,
            "bottom": null,
            "_model_module": "@jupyter-widgets/base",
            "top": null,
            "grid_column": null,
            "overflow_y": null,
            "overflow_x": null,
            "grid_auto_flow": null,
            "grid_area": null,
            "grid_template_columns": null,
            "flex": null,
            "_model_name": "LayoutModel",
            "justify_items": null,
            "grid_row": null,
            "max_height": null,
            "align_content": null,
            "visibility": null,
            "align_self": null,
            "height": null,
            "min_height": null,
            "padding": null,
            "grid_auto_rows": null,
            "grid_gap": null,
            "max_width": null,
            "order": null,
            "_view_module_version": "1.2.0",
            "grid_template_areas": null,
            "object_position": null,
            "object_fit": null,
            "grid_auto_columns": null,
            "margin": null,
            "display": null,
            "left": null
          }
        },
        "78916589d31f431f97f7c547ae49b10f": {
          "model_module": "@jupyter-widgets/controls",
          "model_name": "LabelModel",
          "state": {
            "_view_name": "LabelView",
            "style": "IPY_MODEL_bf569a89994347fd904c6f883fbd0a4b",
            "_dom_classes": [],
            "description": "",
            "_model_name": "LabelModel",
            "placeholder": "​",
            "_view_module": "@jupyter-widgets/controls",
            "_model_module_version": "1.5.0",
            "value": "BOND_PROB",
            "_view_count": null,
            "_view_module_version": "1.5.0",
            "description_tooltip": null,
            "_model_module": "@jupyter-widgets/controls",
            "layout": "IPY_MODEL_a1d976db493f4e08b7dc8ed1404b83f3"
          }
        },
        "4a4d1df07618415c9cfaae21bf234d22": {
          "model_module": "@jupyter-widgets/controls",
          "model_name": "FloatSliderModel",
          "state": {
            "_view_name": "FloatSliderView",
            "style": "IPY_MODEL_8cabfff1d1ba451dabefd40810a1b237",
            "_dom_classes": [],
            "description": "",
            "step": 0.01,
            "_model_name": "FloatSliderModel",
            "orientation": "horizontal",
            "max": 1,
            "_view_module": "@jupyter-widgets/controls",
            "_model_module_version": "1.5.0",
            "value": 0.5,
            "_view_count": null,
            "disabled": false,
            "_view_module_version": "1.5.0",
            "min": 0,
            "continuous_update": true,
            "readout_format": ".2f",
            "description_tooltip": null,
            "readout": true,
            "_model_module": "@jupyter-widgets/controls",
            "layout": "IPY_MODEL_fc811a1d94eb402db9408a98a4ee5ee1"
          }
        },
        "777e6efc8caa47f9929d729954b950ad": {
          "model_module": "@jupyter-widgets/controls",
          "model_name": "DescriptionStyleModel",
          "state": {
            "_view_name": "StyleView",
            "_model_name": "DescriptionStyleModel",
            "description_width": "",
            "_view_module": "@jupyter-widgets/base",
            "_model_module_version": "1.5.0",
            "_view_count": null,
            "_view_module_version": "1.2.0",
            "_model_module": "@jupyter-widgets/controls"
          }
        },
        "323c1b086a6748478609d173729105bd": {
          "model_module": "@jupyter-widgets/base",
          "model_name": "LayoutModel",
          "state": {
            "_view_name": "LayoutView",
            "grid_template_rows": null,
            "right": null,
            "justify_content": null,
            "_view_module": "@jupyter-widgets/base",
            "overflow": null,
            "_model_module_version": "1.2.0",
            "_view_count": null,
            "flex_flow": null,
            "width": null,
            "min_width": null,
            "border": null,
            "align_items": null,
            "bottom": null,
            "_model_module": "@jupyter-widgets/base",
            "top": null,
            "grid_column": null,
            "overflow_y": null,
            "overflow_x": null,
            "grid_auto_flow": null,
            "grid_area": null,
            "grid_template_columns": null,
            "flex": null,
            "_model_name": "LayoutModel",
            "justify_items": null,
            "grid_row": null,
            "max_height": null,
            "align_content": null,
            "visibility": null,
            "align_self": null,
            "height": null,
            "min_height": null,
            "padding": null,
            "grid_auto_rows": null,
            "grid_gap": null,
            "max_width": null,
            "order": null,
            "_view_module_version": "1.2.0",
            "grid_template_areas": null,
            "object_position": null,
            "object_fit": null,
            "grid_auto_columns": null,
            "margin": null,
            "display": null,
            "left": null
          }
        },
        "b6e2f0f586b54128be30f6b81a559755": {
          "model_module": "@jupyter-widgets/base",
          "model_name": "LayoutModel",
          "state": {
            "_view_name": "LayoutView",
            "grid_template_rows": null,
            "right": null,
            "justify_content": null,
            "_view_module": "@jupyter-widgets/base",
            "overflow": null,
            "_model_module_version": "1.2.0",
            "_view_count": null,
            "flex_flow": null,
            "width": null,
            "min_width": null,
            "border": null,
            "align_items": null,
            "bottom": null,
            "_model_module": "@jupyter-widgets/base",
            "top": null,
            "grid_column": null,
            "overflow_y": null,
            "overflow_x": null,
            "grid_auto_flow": null,
            "grid_area": null,
            "grid_template_columns": null,
            "flex": null,
            "_model_name": "LayoutModel",
            "justify_items": null,
            "grid_row": null,
            "max_height": null,
            "align_content": null,
            "visibility": null,
            "align_self": null,
            "height": null,
            "min_height": null,
            "padding": null,
            "grid_auto_rows": null,
            "grid_gap": null,
            "max_width": null,
            "order": null,
            "_view_module_version": "1.2.0",
            "grid_template_areas": null,
            "object_position": null,
            "object_fit": null,
            "grid_auto_columns": null,
            "margin": null,
            "display": null,
            "left": null
          }
        },
        "2ebc95744f4c4097be99618a5e7d835f": {
          "model_module": "@jupyter-widgets/controls",
          "model_name": "LabelModel",
          "state": {
            "_view_name": "LabelView",
            "style": "IPY_MODEL_dce3ae8b5cdd4c3aa43fac1c8a08f2bc",
            "_dom_classes": [],
            "description": "",
            "_model_name": "LabelModel",
            "placeholder": "​",
            "_view_module": "@jupyter-widgets/controls",
            "_model_module_version": "1.5.0",
            "value": "POOL_SIZE",
            "_view_count": null,
            "_view_module_version": "1.5.0",
            "description_tooltip": null,
            "_model_module": "@jupyter-widgets/controls",
            "layout": "IPY_MODEL_65104845cb8746beab67469418ac50ca"
          }
        },
        "3c66bb94194d440eb2ec7df205a67577": {
          "model_module": "@jupyter-widgets/controls",
          "model_name": "IntSliderModel",
          "state": {
            "_view_name": "IntSliderView",
            "style": "IPY_MODEL_7ca604e4a4a44b3daf8b41c53801418f",
            "_dom_classes": [],
            "description": "",
            "step": 1,
            "_model_name": "IntSliderModel",
            "orientation": "horizontal",
            "max": 1000,
            "_view_module": "@jupyter-widgets/controls",
            "_model_module_version": "1.5.0",
            "value": 10,
            "_view_count": null,
            "disabled": false,
            "_view_module_version": "1.5.0",
            "min": 1,
            "continuous_update": true,
            "readout_format": "d",
            "description_tooltip": null,
            "readout": true,
            "_model_module": "@jupyter-widgets/controls",
            "layout": "IPY_MODEL_15b8de444f1a47cebe34d2d82d7e20ce"
          }
        },
        "0f0d0c6596d949209d2db0aa4c08265b": {
          "model_module": "@jupyter-widgets/base",
          "model_name": "LayoutModel",
          "state": {
            "_view_name": "LayoutView",
            "grid_template_rows": null,
            "right": null,
            "justify_content": null,
            "_view_module": "@jupyter-widgets/base",
            "overflow": null,
            "_model_module_version": "1.2.0",
            "_view_count": null,
            "flex_flow": null,
            "width": null,
            "min_width": null,
            "border": null,
            "align_items": null,
            "bottom": null,
            "_model_module": "@jupyter-widgets/base",
            "top": null,
            "grid_column": null,
            "overflow_y": null,
            "overflow_x": null,
            "grid_auto_flow": null,
            "grid_area": null,
            "grid_template_columns": null,
            "flex": null,
            "_model_name": "LayoutModel",
            "justify_items": null,
            "grid_row": null,
            "max_height": null,
            "align_content": null,
            "visibility": null,
            "align_self": null,
            "height": null,
            "min_height": null,
            "padding": null,
            "grid_auto_rows": null,
            "grid_gap": null,
            "max_width": null,
            "order": null,
            "_view_module_version": "1.2.0",
            "grid_template_areas": null,
            "object_position": null,
            "object_fit": null,
            "grid_auto_columns": null,
            "margin": null,
            "display": null,
            "left": null
          }
        },
        "8ff81087564f4ef3b8a3df9cee377d3c": {
          "model_module": "@jupyter-widgets/controls",
          "model_name": "LabelModel",
          "state": {
            "_view_name": "LabelView",
            "style": "IPY_MODEL_1c3296a13b5748479ca7a7992aa8e881",
            "_dom_classes": [],
            "description": "",
            "_model_name": "LabelModel",
            "placeholder": "​",
            "_view_module": "@jupyter-widgets/controls",
            "_model_module_version": "1.5.0",
            "value": "ITERATIONS",
            "_view_count": null,
            "_view_module_version": "1.5.0",
            "description_tooltip": null,
            "_model_module": "@jupyter-widgets/controls",
            "layout": "IPY_MODEL_29f707eb36d34dc0945af09f33448e57"
          }
        },
        "5da29f7bdf1d4e0f8bbcb0d427933fba": {
          "model_module": "@jupyter-widgets/controls",
          "model_name": "IntSliderModel",
          "state": {
            "_view_name": "IntSliderView",
            "style": "IPY_MODEL_70cd9515f7074a1d98407f018eb7dbd0",
            "_dom_classes": [],
            "description": "",
            "step": 1,
            "_model_name": "IntSliderModel",
            "orientation": "horizontal",
            "max": 1000,
            "_view_module": "@jupyter-widgets/controls",
            "_model_module_version": "1.5.0",
            "value": 10,
            "_view_count": null,
            "disabled": false,
            "_view_module_version": "1.5.0",
            "min": 1,
            "continuous_update": true,
            "readout_format": "d",
            "description_tooltip": null,
            "readout": true,
            "_model_module": "@jupyter-widgets/controls",
            "layout": "IPY_MODEL_e8f4465531a049f58631399b684b8eeb"
          }
        },
        "3d90e3faa8d547d491dac0879b3312a8": {
          "model_module": "@jupyter-widgets/base",
          "model_name": "LayoutModel",
          "state": {
            "_view_name": "LayoutView",
            "grid_template_rows": null,
            "right": null,
            "justify_content": null,
            "_view_module": "@jupyter-widgets/base",
            "overflow": null,
            "_model_module_version": "1.2.0",
            "_view_count": null,
            "flex_flow": null,
            "width": null,
            "min_width": null,
            "border": null,
            "align_items": null,
            "bottom": null,
            "_model_module": "@jupyter-widgets/base",
            "top": null,
            "grid_column": null,
            "overflow_y": null,
            "overflow_x": null,
            "grid_auto_flow": null,
            "grid_area": null,
            "grid_template_columns": null,
            "flex": null,
            "_model_name": "LayoutModel",
            "justify_items": null,
            "grid_row": null,
            "max_height": null,
            "align_content": null,
            "visibility": null,
            "align_self": null,
            "height": null,
            "min_height": null,
            "padding": null,
            "grid_auto_rows": null,
            "grid_gap": null,
            "max_width": null,
            "order": null,
            "_view_module_version": "1.2.0",
            "grid_template_areas": null,
            "object_position": null,
            "object_fit": null,
            "grid_auto_columns": null,
            "margin": null,
            "display": null,
            "left": null
          }
        },
        "53fab9215a3c4f88ae01596dc7496bad": {
          "model_module": "@jupyter-widgets/controls",
          "model_name": "LabelModel",
          "state": {
            "_view_name": "LabelView",
            "style": "IPY_MODEL_08b308f66ace4916a2a397cf29bd0d72",
            "_dom_classes": [],
            "description": "",
            "_model_name": "LabelModel",
            "placeholder": "​",
            "_view_module": "@jupyter-widgets/controls",
            "_model_module_version": "1.5.0",
            "value": "FUSION_FACTOR",
            "_view_count": null,
            "_view_module_version": "1.5.0",
            "description_tooltip": null,
            "_model_module": "@jupyter-widgets/controls",
            "layout": "IPY_MODEL_5ceeaba9c0ad4a74b6d638d3fda9b07b"
          }
        },
        "58de2b5dc44b4aefa9312b1946e0452d": {
          "model_module": "@jupyter-widgets/controls",
          "model_name": "CheckboxModel",
          "state": {
            "_view_name": "CheckboxView",
            "style": "IPY_MODEL_135b6c881ad04ceb946fac9a3a5be73f",
            "_dom_classes": [],
            "description": "",
            "_model_name": "CheckboxModel",
            "_view_module": "@jupyter-widgets/controls",
            "_model_module_version": "1.5.0",
            "value": false,
            "_view_count": null,
            "disabled": false,
            "_view_module_version": "1.5.0",
            "indent": true,
            "description_tooltip": null,
            "_model_module": "@jupyter-widgets/controls",
            "layout": "IPY_MODEL_2627726e299b4893afaf0ce8950558de"
          }
        },
        "53fdf4b9363c4d51a80dc4285aa8cc37": {
          "model_module": "@jupyter-widgets/controls",
          "model_name": "DescriptionStyleModel",
          "state": {
            "_view_name": "StyleView",
            "_model_name": "DescriptionStyleModel",
            "description_width": "",
            "_view_module": "@jupyter-widgets/base",
            "_model_module_version": "1.5.0",
            "_view_count": null,
            "_view_module_version": "1.2.0",
            "_model_module": "@jupyter-widgets/controls"
          }
        },
        "b56e0bb4a38e4db79ec803ec8b1a07ab": {
          "model_module": "@jupyter-widgets/base",
          "model_name": "LayoutModel",
          "state": {
            "_view_name": "LayoutView",
            "grid_template_rows": null,
            "right": null,
            "justify_content": null,
            "_view_module": "@jupyter-widgets/base",
            "overflow": null,
            "_model_module_version": "1.2.0",
            "_view_count": null,
            "flex_flow": null,
            "width": null,
            "min_width": null,
            "border": null,
            "align_items": null,
            "bottom": null,
            "_model_module": "@jupyter-widgets/base",
            "top": null,
            "grid_column": null,
            "overflow_y": null,
            "overflow_x": null,
            "grid_auto_flow": null,
            "grid_area": null,
            "grid_template_columns": null,
            "flex": null,
            "_model_name": "LayoutModel",
            "justify_items": null,
            "grid_row": null,
            "max_height": null,
            "align_content": null,
            "visibility": null,
            "align_self": null,
            "height": null,
            "min_height": null,
            "padding": null,
            "grid_auto_rows": null,
            "grid_gap": null,
            "max_width": null,
            "order": null,
            "_view_module_version": "1.2.0",
            "grid_template_areas": null,
            "object_position": null,
            "object_fit": null,
            "grid_auto_columns": null,
            "margin": null,
            "display": null,
            "left": null
          }
        },
        "e2c615f36c8940f9b8b3939a64dca7ba": {
          "model_module": "@jupyter-widgets/base",
          "model_name": "LayoutModel",
          "state": {
            "_view_name": "LayoutView",
            "grid_template_rows": null,
            "right": null,
            "justify_content": null,
            "_view_module": "@jupyter-widgets/base",
            "overflow": null,
            "_model_module_version": "1.2.0",
            "_view_count": null,
            "flex_flow": null,
            "width": null,
            "min_width": null,
            "border": null,
            "align_items": null,
            "bottom": null,
            "_model_module": "@jupyter-widgets/base",
            "top": null,
            "grid_column": null,
            "overflow_y": null,
            "overflow_x": null,
            "grid_auto_flow": null,
            "grid_area": null,
            "grid_template_columns": null,
            "flex": null,
            "_model_name": "LayoutModel",
            "justify_items": null,
            "grid_row": null,
            "max_height": null,
            "align_content": null,
            "visibility": null,
            "align_self": null,
            "height": null,
            "min_height": null,
            "padding": null,
            "grid_auto_rows": null,
            "grid_gap": null,
            "max_width": null,
            "order": null,
            "_view_module_version": "1.2.0",
            "grid_template_areas": null,
            "object_position": null,
            "object_fit": null,
            "grid_auto_columns": null,
            "margin": null,
            "display": null,
            "left": null
          }
        },
        "1395cf6b404e42a3a606a572fae73bb7": {
          "model_module": "@jupyter-widgets/controls",
          "model_name": "LabelModel",
          "state": {
            "_view_name": "LabelView",
            "style": "IPY_MODEL_08bdd1de608f4bcfba5cd85dde5bb950",
            "_dom_classes": [],
            "description": "",
            "_model_name": "LabelModel",
            "placeholder": "​",
            "_view_module": "@jupyter-widgets/controls",
            "_model_module_version": "1.5.0",
            "value": "BASE_BOND_BREAK_PROBABILITY:",
            "_view_count": null,
            "_view_module_version": "1.5.0",
            "description_tooltip": null,
            "_model_module": "@jupyter-widgets/controls",
            "layout": "IPY_MODEL_c60ee9ee90ed4d8eb55a170233513ccd"
          }
        },
        "33dc86cac1994c00ba6699496e39e422": {
          "model_module": "@jupyter-widgets/controls",
          "model_name": "FloatSliderModel",
          "state": {
            "_view_name": "FloatSliderView",
            "style": "IPY_MODEL_27ed43368a114dbeb4b50b9b3a8eb18c",
            "_dom_classes": [],
            "description": "",
            "step": 0.01,
            "_model_name": "FloatSliderModel",
            "orientation": "horizontal",
            "max": 1,
            "_view_module": "@jupyter-widgets/controls",
            "_model_module_version": "1.5.0",
            "value": 0.5,
            "_view_count": null,
            "disabled": false,
            "_view_module_version": "1.5.0",
            "min": 0,
            "continuous_update": true,
            "readout_format": ".2f",
            "description_tooltip": null,
            "readout": true,
            "_model_module": "@jupyter-widgets/controls",
            "layout": "IPY_MODEL_bbb5b581487d4bffbc587fc72cf33dbf"
          }
        },
        "bbda77e43a004d20a9d463f77f56b193": {
          "model_module": "@jupyter-widgets/base",
          "model_name": "LayoutModel",
          "state": {
            "_view_name": "LayoutView",
            "grid_template_rows": null,
            "right": null,
            "justify_content": null,
            "_view_module": "@jupyter-widgets/base",
            "overflow": null,
            "_model_module_version": "1.2.0",
            "_view_count": null,
            "flex_flow": null,
            "width": null,
            "min_width": null,
            "border": null,
            "align_items": null,
            "bottom": null,
            "_model_module": "@jupyter-widgets/base",
            "top": null,
            "grid_column": null,
            "overflow_y": null,
            "overflow_x": null,
            "grid_auto_flow": null,
            "grid_area": null,
            "grid_template_columns": null,
            "flex": null,
            "_model_name": "LayoutModel",
            "justify_items": null,
            "grid_row": null,
            "max_height": null,
            "align_content": null,
            "visibility": null,
            "align_self": null,
            "height": null,
            "min_height": null,
            "padding": null,
            "grid_auto_rows": null,
            "grid_gap": null,
            "max_width": null,
            "order": null,
            "_view_module_version": "1.2.0",
            "grid_template_areas": null,
            "object_position": null,
            "object_fit": null,
            "grid_auto_columns": null,
            "margin": null,
            "display": null,
            "left": null
          }
        },
        "6a3c7ff3eb744a1e9dc4c031d658b647": {
          "model_module": "@jupyter-widgets/controls",
          "model_name": "LabelModel",
          "state": {
            "_view_name": "LabelView",
            "style": "IPY_MODEL_512be746a2ea437f8875756cf3f2ba27",
            "_dom_classes": [],
            "description": "",
            "_model_name": "LabelModel",
            "placeholder": "​",
            "_view_module": "@jupyter-widgets/controls",
            "_model_module_version": "1.5.0",
            "value": "LENGTH_FACTOR",
            "_view_count": null,
            "_view_module_version": "1.5.0",
            "description_tooltip": null,
            "_model_module": "@jupyter-widgets/controls",
            "layout": "IPY_MODEL_ca621700043c42bea370c61809938776"
          }
        },
        "18568345e7ea43aa867124c2a5559fd5": {
          "model_module": "@jupyter-widgets/controls",
          "model_name": "FloatSliderModel",
          "state": {
            "_view_name": "FloatSliderView",
            "style": "IPY_MODEL_ccda21bea6f44b409e5a9e200f31f45b",
            "_dom_classes": [],
            "description": "",
            "step": 0.01,
            "_model_name": "FloatSliderModel",
            "orientation": "horizontal",
            "max": 1,
            "_view_module": "@jupyter-widgets/controls",
            "_model_module_version": "1.5.0",
            "value": 0.5,
            "_view_count": null,
            "disabled": false,
            "_view_module_version": "1.5.0",
            "min": 0,
            "continuous_update": true,
            "readout_format": ".2f",
            "description_tooltip": null,
            "readout": true,
            "_model_module": "@jupyter-widgets/controls",
            "layout": "IPY_MODEL_a8b4bfc430e848aaa235bbd46e524ef2"
          }
        },
        "8d9c7fdc18c346f6ad748dcdd7f95201": {
          "model_module": "@jupyter-widgets/base",
          "model_name": "LayoutModel",
          "state": {
            "_view_name": "LayoutView",
            "grid_template_rows": null,
            "right": null,
            "justify_content": null,
            "_view_module": "@jupyter-widgets/base",
            "overflow": null,
            "_model_module_version": "1.2.0",
            "_view_count": null,
            "flex_flow": null,
            "width": null,
            "min_width": null,
            "border": null,
            "align_items": null,
            "bottom": null,
            "_model_module": "@jupyter-widgets/base",
            "top": null,
            "grid_column": null,
            "overflow_y": null,
            "overflow_x": null,
            "grid_auto_flow": null,
            "grid_area": null,
            "grid_template_columns": null,
            "flex": null,
            "_model_name": "LayoutModel",
            "justify_items": null,
            "grid_row": null,
            "max_height": null,
            "align_content": null,
            "visibility": null,
            "align_self": null,
            "height": null,
            "min_height": null,
            "padding": null,
            "grid_auto_rows": null,
            "grid_gap": null,
            "max_width": null,
            "order": null,
            "_view_module_version": "1.2.0",
            "grid_template_areas": null,
            "object_position": null,
            "object_fit": null,
            "grid_auto_columns": null,
            "margin": null,
            "display": null,
            "left": null
          }
        },
        "92ed344309fa4ce39c164f4f18173c3b": {
          "model_module": "@jupyter-widgets/controls",
          "model_name": "LabelModel",
          "state": {
            "_view_name": "LabelView",
            "style": "IPY_MODEL_2dea0b14d8c04f0ba76fda4190618529",
            "_dom_classes": [],
            "description": "",
            "_model_name": "LabelModel",
            "placeholder": "​",
            "_view_module": "@jupyter-widgets/controls",
            "_model_module_version": "1.5.0",
            "value": "N",
            "_view_count": null,
            "_view_module_version": "1.5.0",
            "description_tooltip": null,
            "_model_module": "@jupyter-widgets/controls",
            "layout": "IPY_MODEL_3efdc0a256024b89b3780f12c7a2180d"
          }
        },
        "ec822dc20c324edb958e06f68c5677da": {
          "model_module": "@jupyter-widgets/controls",
          "model_name": "IntSliderModel",
          "state": {
            "_view_name": "IntSliderView",
            "style": "IPY_MODEL_8d572a31554d40b1ad905c18fdb01d5e",
            "_dom_classes": [],
            "description": "",
            "step": 5,
            "_model_name": "IntSliderModel",
            "orientation": "horizontal",
            "max": 1000,
            "_view_module": "@jupyter-widgets/controls",
            "_model_module_version": "1.5.0",
            "value": 40,
            "_view_count": null,
            "disabled": false,
            "_view_module_version": "1.5.0",
            "min": 0,
            "continuous_update": true,
            "readout_format": "d",
            "description_tooltip": null,
            "readout": true,
            "_model_module": "@jupyter-widgets/controls",
            "layout": "IPY_MODEL_a9ed241c2cad490c97da27756c4edd92"
          }
        },
        "92a5c9c260964b62ba5de997219ca0b6": {
          "model_module": "@jupyter-widgets/controls",
          "model_name": "DescriptionStyleModel",
          "state": {
            "_view_name": "StyleView",
            "_model_name": "DescriptionStyleModel",
            "description_width": "",
            "_view_module": "@jupyter-widgets/base",
            "_model_module_version": "1.5.0",
            "_view_count": null,
            "_view_module_version": "1.2.0",
            "_model_module": "@jupyter-widgets/controls"
          }
        },
        "86e1b0b2327c4477982966fd0ffc0b2f": {
          "model_module": "@jupyter-widgets/base",
          "model_name": "LayoutModel",
          "state": {
            "_view_name": "LayoutView",
            "grid_template_rows": null,
            "right": null,
            "justify_content": null,
            "_view_module": "@jupyter-widgets/base",
            "overflow": null,
            "_model_module_version": "1.2.0",
            "_view_count": null,
            "flex_flow": null,
            "width": null,
            "min_width": null,
            "border": null,
            "align_items": null,
            "bottom": null,
            "_model_module": "@jupyter-widgets/base",
            "top": null,
            "grid_column": null,
            "overflow_y": null,
            "overflow_x": null,
            "grid_auto_flow": null,
            "grid_area": null,
            "grid_template_columns": null,
            "flex": null,
            "_model_name": "LayoutModel",
            "justify_items": null,
            "grid_row": null,
            "max_height": null,
            "align_content": null,
            "visibility": null,
            "align_self": null,
            "height": null,
            "min_height": null,
            "padding": null,
            "grid_auto_rows": null,
            "grid_gap": null,
            "max_width": null,
            "order": null,
            "_view_module_version": "1.2.0",
            "grid_template_areas": null,
            "object_position": null,
            "object_fit": null,
            "grid_auto_columns": null,
            "margin": null,
            "display": null,
            "left": null
          }
        },
        "fe7924b371184b9484f26a044964d5ae": {
          "model_module": "@jupyter-widgets/controls",
          "model_name": "DescriptionStyleModel",
          "state": {
            "_view_name": "StyleView",
            "_model_name": "DescriptionStyleModel",
            "description_width": "",
            "_view_module": "@jupyter-widgets/base",
            "_model_module_version": "1.5.0",
            "_view_count": null,
            "_view_module_version": "1.2.0",
            "_model_module": "@jupyter-widgets/controls"
          }
        },
        "c41db8d21404419c963769f7fbe22e9e": {
          "model_module": "@jupyter-widgets/base",
          "model_name": "LayoutModel",
          "state": {
            "_view_name": "LayoutView",
            "grid_template_rows": null,
            "right": null,
            "justify_content": null,
            "_view_module": "@jupyter-widgets/base",
            "overflow": null,
            "_model_module_version": "1.2.0",
            "_view_count": null,
            "flex_flow": null,
            "width": null,
            "min_width": null,
            "border": null,
            "align_items": null,
            "bottom": null,
            "_model_module": "@jupyter-widgets/base",
            "top": null,
            "grid_column": null,
            "overflow_y": null,
            "overflow_x": null,
            "grid_auto_flow": null,
            "grid_area": null,
            "grid_template_columns": null,
            "flex": null,
            "_model_name": "LayoutModel",
            "justify_items": null,
            "grid_row": null,
            "max_height": null,
            "align_content": null,
            "visibility": null,
            "align_self": null,
            "height": null,
            "min_height": null,
            "padding": null,
            "grid_auto_rows": null,
            "grid_gap": null,
            "max_width": null,
            "order": null,
            "_view_module_version": "1.2.0",
            "grid_template_areas": null,
            "object_position": null,
            "object_fit": null,
            "grid_auto_columns": null,
            "margin": null,
            "display": null,
            "left": null
          }
        },
        "31a152cb87c94e3498ca128c24e7b6fd": {
          "model_module": "@jupyter-widgets/base",
          "model_name": "LayoutModel",
          "state": {
            "_view_name": "LayoutView",
            "grid_template_rows": null,
            "right": null,
            "justify_content": null,
            "_view_module": "@jupyter-widgets/base",
            "overflow": null,
            "_model_module_version": "1.2.0",
            "_view_count": null,
            "flex_flow": null,
            "width": null,
            "min_width": null,
            "border": null,
            "align_items": null,
            "bottom": null,
            "_model_module": "@jupyter-widgets/base",
            "top": null,
            "grid_column": null,
            "overflow_y": null,
            "overflow_x": null,
            "grid_auto_flow": null,
            "grid_area": null,
            "grid_template_columns": null,
            "flex": null,
            "_model_name": "LayoutModel",
            "justify_items": null,
            "grid_row": null,
            "max_height": null,
            "align_content": null,
            "visibility": null,
            "align_self": null,
            "height": null,
            "min_height": null,
            "padding": null,
            "grid_auto_rows": null,
            "grid_gap": null,
            "max_width": null,
            "order": null,
            "_view_module_version": "1.2.0",
            "grid_template_areas": null,
            "object_position": null,
            "object_fit": null,
            "grid_auto_columns": null,
            "margin": null,
            "display": null,
            "left": null
          }
        },
        "f6e1d396ce794d42a34aab4083b1feea": {
          "model_module": "@jupyter-widgets/controls",
          "model_name": "LabelModel",
          "state": {
            "_view_name": "LabelView",
            "style": "IPY_MODEL_60dbb5503a5b4be4ad13c9ea2c91eb68",
            "_dom_classes": [],
            "description": "",
            "_model_name": "LabelModel",
            "placeholder": "​",
            "_view_module": "@jupyter-widgets/controls",
            "_model_module_version": "1.5.0",
            "value": "HOMOCHIRAL_BREAK_FACTOR:",
            "_view_count": null,
            "_view_module_version": "1.5.0",
            "description_tooltip": null,
            "_model_module": "@jupyter-widgets/controls",
            "layout": "IPY_MODEL_2a286f1c09d3493d86db85e87ff612df"
          }
        },
        "9a60a5838f7745be8102f462c8d788ef": {
          "model_module": "@jupyter-widgets/controls",
          "model_name": "FloatSliderModel",
          "state": {
            "_view_name": "FloatSliderView",
            "style": "IPY_MODEL_694aef91a7c64ec49d9b9a6ab1fff1dc",
            "_dom_classes": [],
            "description": "",
            "step": 0.01,
            "_model_name": "FloatSliderModel",
            "orientation": "horizontal",
            "max": 1,
            "_view_module": "@jupyter-widgets/controls",
            "_model_module_version": "1.5.0",
            "value": 0.5,
            "_view_count": null,
            "disabled": false,
            "_view_module_version": "1.5.0",
            "min": 0,
            "continuous_update": true,
            "readout_format": ".2f",
            "description_tooltip": null,
            "readout": true,
            "_model_module": "@jupyter-widgets/controls",
            "layout": "IPY_MODEL_0987b0bac2904272bfb01cc0af1bbe54"
          }
        },
        "7b999cf738464d849df5358ef0db08ee": {
          "model_module": "@jupyter-widgets/base",
          "model_name": "LayoutModel",
          "state": {
            "_view_name": "LayoutView",
            "grid_template_rows": null,
            "right": null,
            "justify_content": null,
            "_view_module": "@jupyter-widgets/base",
            "overflow": null,
            "_model_module_version": "1.2.0",
            "_view_count": null,
            "flex_flow": null,
            "width": null,
            "min_width": null,
            "border": null,
            "align_items": null,
            "bottom": null,
            "_model_module": "@jupyter-widgets/base",
            "top": null,
            "grid_column": null,
            "overflow_y": null,
            "overflow_x": null,
            "grid_auto_flow": null,
            "grid_area": null,
            "grid_template_columns": null,
            "flex": null,
            "_model_name": "LayoutModel",
            "justify_items": null,
            "grid_row": null,
            "max_height": null,
            "align_content": null,
            "visibility": null,
            "align_self": null,
            "height": null,
            "min_height": null,
            "padding": null,
            "grid_auto_rows": null,
            "grid_gap": null,
            "max_width": null,
            "order": null,
            "_view_module_version": "1.2.0",
            "grid_template_areas": null,
            "object_position": null,
            "object_fit": null,
            "grid_auto_columns": null,
            "margin": null,
            "display": null,
            "left": null
          }
        },
        "4216c3b55f554a6ca1faeeb83b46935b": {
          "model_module": "@jupyter-widgets/controls",
          "model_name": "LabelModel",
          "state": {
            "_view_name": "LabelView",
            "style": "IPY_MODEL_9b362e89fe204a2880fbe4044ba5bbd2",
            "_dom_classes": [],
            "description": "",
            "_model_name": "LabelModel",
            "placeholder": "​",
            "_view_module": "@jupyter-widgets/controls",
            "_model_module_version": "1.5.0",
            "value": "HOMOCHIRAL_NEIGHBOR_IMPROV_FACTOR:",
            "_view_count": null,
            "_view_module_version": "1.5.0",
            "description_tooltip": null,
            "_model_module": "@jupyter-widgets/controls",
            "layout": "IPY_MODEL_0039f2edf79c494f8a2015520e1ab1be"
          }
        },
        "7e1e49a2db844c52a1993103258d3062": {
          "model_module": "@jupyter-widgets/controls",
          "model_name": "FloatSliderModel",
          "state": {
            "_view_name": "FloatSliderView",
            "style": "IPY_MODEL_ac0aba354e8f49e2a1f15179c04ce7c4",
            "_dom_classes": [],
            "description": "",
            "step": 0.01,
            "_model_name": "FloatSliderModel",
            "orientation": "horizontal",
            "max": 1,
            "_view_module": "@jupyter-widgets/controls",
            "_model_module_version": "1.5.0",
            "value": 0.5,
            "_view_count": null,
            "disabled": false,
            "_view_module_version": "1.5.0",
            "min": 0,
            "continuous_update": true,
            "readout_format": ".2f",
            "description_tooltip": null,
            "readout": true,
            "_model_module": "@jupyter-widgets/controls",
            "layout": "IPY_MODEL_666fec07ed7347c2941cc9e90b83c52b"
          }
        },
        "02ed53e9dbac439e90c834a6078a886b": {
          "model_module": "@jupyter-widgets/controls",
          "model_name": "DescriptionStyleModel",
          "state": {
            "_view_name": "StyleView",
            "_model_name": "DescriptionStyleModel",
            "description_width": "",
            "_view_module": "@jupyter-widgets/base",
            "_model_module_version": "1.5.0",
            "_view_count": null,
            "_view_module_version": "1.2.0",
            "_model_module": "@jupyter-widgets/controls"
          }
        },
        "6b5aa893eb16441da9f3c1e57ca25e2b": {
          "model_module": "@jupyter-widgets/base",
          "model_name": "LayoutModel",
          "state": {
            "_view_name": "LayoutView",
            "grid_template_rows": null,
            "right": null,
            "justify_content": null,
            "_view_module": "@jupyter-widgets/base",
            "overflow": null,
            "_model_module_version": "1.2.0",
            "_view_count": null,
            "flex_flow": null,
            "width": null,
            "min_width": null,
            "border": null,
            "align_items": null,
            "bottom": null,
            "_model_module": "@jupyter-widgets/base",
            "top": null,
            "grid_column": null,
            "overflow_y": null,
            "overflow_x": null,
            "grid_auto_flow": null,
            "grid_area": null,
            "grid_template_columns": null,
            "flex": null,
            "_model_name": "LayoutModel",
            "justify_items": null,
            "grid_row": null,
            "max_height": null,
            "align_content": null,
            "visibility": null,
            "align_self": null,
            "height": null,
            "min_height": null,
            "padding": null,
            "grid_auto_rows": null,
            "grid_gap": null,
            "max_width": null,
            "order": null,
            "_view_module_version": "1.2.0",
            "grid_template_areas": null,
            "object_position": null,
            "object_fit": null,
            "grid_auto_columns": null,
            "margin": null,
            "display": null,
            "left": null
          }
        },
        "1284c6d1d5ab46fcb25842e7e11ef915": {
          "model_module": "@jupyter-widgets/controls",
          "model_name": "SliderStyleModel",
          "state": {
            "_view_name": "StyleView",
            "handle_color": null,
            "_model_name": "SliderStyleModel",
            "description_width": "",
            "_view_module": "@jupyter-widgets/base",
            "_model_module_version": "1.5.0",
            "_view_count": null,
            "_view_module_version": "1.2.0",
            "_model_module": "@jupyter-widgets/controls"
          }
        },
        "7cd946a557e04cee8a54f4c2643f3816": {
          "model_module": "@jupyter-widgets/base",
          "model_name": "LayoutModel",
          "state": {
            "_view_name": "LayoutView",
            "grid_template_rows": null,
            "right": null,
            "justify_content": null,
            "_view_module": "@jupyter-widgets/base",
            "overflow": null,
            "_model_module_version": "1.2.0",
            "_view_count": null,
            "flex_flow": null,
            "width": null,
            "min_width": null,
            "border": null,
            "align_items": null,
            "bottom": null,
            "_model_module": "@jupyter-widgets/base",
            "top": null,
            "grid_column": null,
            "overflow_y": null,
            "overflow_x": null,
            "grid_auto_flow": null,
            "grid_area": null,
            "grid_template_columns": null,
            "flex": null,
            "_model_name": "LayoutModel",
            "justify_items": null,
            "grid_row": null,
            "max_height": null,
            "align_content": null,
            "visibility": null,
            "align_self": null,
            "height": null,
            "min_height": null,
            "padding": null,
            "grid_auto_rows": null,
            "grid_gap": null,
            "max_width": null,
            "order": null,
            "_view_module_version": "1.2.0",
            "grid_template_areas": null,
            "object_position": null,
            "object_fit": null,
            "grid_auto_columns": null,
            "margin": null,
            "display": null,
            "left": null
          }
        },
        "bf569a89994347fd904c6f883fbd0a4b": {
          "model_module": "@jupyter-widgets/controls",
          "model_name": "DescriptionStyleModel",
          "state": {
            "_view_name": "StyleView",
            "_model_name": "DescriptionStyleModel",
            "description_width": "",
            "_view_module": "@jupyter-widgets/base",
            "_model_module_version": "1.5.0",
            "_view_count": null,
            "_view_module_version": "1.2.0",
            "_model_module": "@jupyter-widgets/controls"
          }
        },
        "a1d976db493f4e08b7dc8ed1404b83f3": {
          "model_module": "@jupyter-widgets/base",
          "model_name": "LayoutModel",
          "state": {
            "_view_name": "LayoutView",
            "grid_template_rows": null,
            "right": null,
            "justify_content": null,
            "_view_module": "@jupyter-widgets/base",
            "overflow": null,
            "_model_module_version": "1.2.0",
            "_view_count": null,
            "flex_flow": null,
            "width": null,
            "min_width": null,
            "border": null,
            "align_items": null,
            "bottom": null,
            "_model_module": "@jupyter-widgets/base",
            "top": null,
            "grid_column": null,
            "overflow_y": null,
            "overflow_x": null,
            "grid_auto_flow": null,
            "grid_area": null,
            "grid_template_columns": null,
            "flex": null,
            "_model_name": "LayoutModel",
            "justify_items": null,
            "grid_row": null,
            "max_height": null,
            "align_content": null,
            "visibility": null,
            "align_self": null,
            "height": null,
            "min_height": null,
            "padding": null,
            "grid_auto_rows": null,
            "grid_gap": null,
            "max_width": null,
            "order": null,
            "_view_module_version": "1.2.0",
            "grid_template_areas": null,
            "object_position": null,
            "object_fit": null,
            "grid_auto_columns": null,
            "margin": null,
            "display": null,
            "left": null
          }
        },
        "8cabfff1d1ba451dabefd40810a1b237": {
          "model_module": "@jupyter-widgets/controls",
          "model_name": "SliderStyleModel",
          "state": {
            "_view_name": "StyleView",
            "handle_color": null,
            "_model_name": "SliderStyleModel",
            "description_width": "",
            "_view_module": "@jupyter-widgets/base",
            "_model_module_version": "1.5.0",
            "_view_count": null,
            "_view_module_version": "1.2.0",
            "_model_module": "@jupyter-widgets/controls"
          }
        },
        "fc811a1d94eb402db9408a98a4ee5ee1": {
          "model_module": "@jupyter-widgets/base",
          "model_name": "LayoutModel",
          "state": {
            "_view_name": "LayoutView",
            "grid_template_rows": null,
            "right": null,
            "justify_content": null,
            "_view_module": "@jupyter-widgets/base",
            "overflow": null,
            "_model_module_version": "1.2.0",
            "_view_count": null,
            "flex_flow": null,
            "width": null,
            "min_width": null,
            "border": null,
            "align_items": null,
            "bottom": null,
            "_model_module": "@jupyter-widgets/base",
            "top": null,
            "grid_column": null,
            "overflow_y": null,
            "overflow_x": null,
            "grid_auto_flow": null,
            "grid_area": null,
            "grid_template_columns": null,
            "flex": null,
            "_model_name": "LayoutModel",
            "justify_items": null,
            "grid_row": null,
            "max_height": null,
            "align_content": null,
            "visibility": null,
            "align_self": null,
            "height": null,
            "min_height": null,
            "padding": null,
            "grid_auto_rows": null,
            "grid_gap": null,
            "max_width": null,
            "order": null,
            "_view_module_version": "1.2.0",
            "grid_template_areas": null,
            "object_position": null,
            "object_fit": null,
            "grid_auto_columns": null,
            "margin": null,
            "display": null,
            "left": null
          }
        },
        "dce3ae8b5cdd4c3aa43fac1c8a08f2bc": {
          "model_module": "@jupyter-widgets/controls",
          "model_name": "DescriptionStyleModel",
          "state": {
            "_view_name": "StyleView",
            "_model_name": "DescriptionStyleModel",
            "description_width": "",
            "_view_module": "@jupyter-widgets/base",
            "_model_module_version": "1.5.0",
            "_view_count": null,
            "_view_module_version": "1.2.0",
            "_model_module": "@jupyter-widgets/controls"
          }
        },
        "65104845cb8746beab67469418ac50ca": {
          "model_module": "@jupyter-widgets/base",
          "model_name": "LayoutModel",
          "state": {
            "_view_name": "LayoutView",
            "grid_template_rows": null,
            "right": null,
            "justify_content": null,
            "_view_module": "@jupyter-widgets/base",
            "overflow": null,
            "_model_module_version": "1.2.0",
            "_view_count": null,
            "flex_flow": null,
            "width": null,
            "min_width": null,
            "border": null,
            "align_items": null,
            "bottom": null,
            "_model_module": "@jupyter-widgets/base",
            "top": null,
            "grid_column": null,
            "overflow_y": null,
            "overflow_x": null,
            "grid_auto_flow": null,
            "grid_area": null,
            "grid_template_columns": null,
            "flex": null,
            "_model_name": "LayoutModel",
            "justify_items": null,
            "grid_row": null,
            "max_height": null,
            "align_content": null,
            "visibility": null,
            "align_self": null,
            "height": null,
            "min_height": null,
            "padding": null,
            "grid_auto_rows": null,
            "grid_gap": null,
            "max_width": null,
            "order": null,
            "_view_module_version": "1.2.0",
            "grid_template_areas": null,
            "object_position": null,
            "object_fit": null,
            "grid_auto_columns": null,
            "margin": null,
            "display": null,
            "left": null
          }
        },
        "7ca604e4a4a44b3daf8b41c53801418f": {
          "model_module": "@jupyter-widgets/controls",
          "model_name": "SliderStyleModel",
          "state": {
            "_view_name": "StyleView",
            "handle_color": null,
            "_model_name": "SliderStyleModel",
            "description_width": "",
            "_view_module": "@jupyter-widgets/base",
            "_model_module_version": "1.5.0",
            "_view_count": null,
            "_view_module_version": "1.2.0",
            "_model_module": "@jupyter-widgets/controls"
          }
        },
        "15b8de444f1a47cebe34d2d82d7e20ce": {
          "model_module": "@jupyter-widgets/base",
          "model_name": "LayoutModel",
          "state": {
            "_view_name": "LayoutView",
            "grid_template_rows": null,
            "right": null,
            "justify_content": null,
            "_view_module": "@jupyter-widgets/base",
            "overflow": null,
            "_model_module_version": "1.2.0",
            "_view_count": null,
            "flex_flow": null,
            "width": null,
            "min_width": null,
            "border": null,
            "align_items": null,
            "bottom": null,
            "_model_module": "@jupyter-widgets/base",
            "top": null,
            "grid_column": null,
            "overflow_y": null,
            "overflow_x": null,
            "grid_auto_flow": null,
            "grid_area": null,
            "grid_template_columns": null,
            "flex": null,
            "_model_name": "LayoutModel",
            "justify_items": null,
            "grid_row": null,
            "max_height": null,
            "align_content": null,
            "visibility": null,
            "align_self": null,
            "height": null,
            "min_height": null,
            "padding": null,
            "grid_auto_rows": null,
            "grid_gap": null,
            "max_width": null,
            "order": null,
            "_view_module_version": "1.2.0",
            "grid_template_areas": null,
            "object_position": null,
            "object_fit": null,
            "grid_auto_columns": null,
            "margin": null,
            "display": null,
            "left": null
          }
        },
        "1c3296a13b5748479ca7a7992aa8e881": {
          "model_module": "@jupyter-widgets/controls",
          "model_name": "DescriptionStyleModel",
          "state": {
            "_view_name": "StyleView",
            "_model_name": "DescriptionStyleModel",
            "description_width": "",
            "_view_module": "@jupyter-widgets/base",
            "_model_module_version": "1.5.0",
            "_view_count": null,
            "_view_module_version": "1.2.0",
            "_model_module": "@jupyter-widgets/controls"
          }
        },
        "29f707eb36d34dc0945af09f33448e57": {
          "model_module": "@jupyter-widgets/base",
          "model_name": "LayoutModel",
          "state": {
            "_view_name": "LayoutView",
            "grid_template_rows": null,
            "right": null,
            "justify_content": null,
            "_view_module": "@jupyter-widgets/base",
            "overflow": null,
            "_model_module_version": "1.2.0",
            "_view_count": null,
            "flex_flow": null,
            "width": null,
            "min_width": null,
            "border": null,
            "align_items": null,
            "bottom": null,
            "_model_module": "@jupyter-widgets/base",
            "top": null,
            "grid_column": null,
            "overflow_y": null,
            "overflow_x": null,
            "grid_auto_flow": null,
            "grid_area": null,
            "grid_template_columns": null,
            "flex": null,
            "_model_name": "LayoutModel",
            "justify_items": null,
            "grid_row": null,
            "max_height": null,
            "align_content": null,
            "visibility": null,
            "align_self": null,
            "height": null,
            "min_height": null,
            "padding": null,
            "grid_auto_rows": null,
            "grid_gap": null,
            "max_width": null,
            "order": null,
            "_view_module_version": "1.2.0",
            "grid_template_areas": null,
            "object_position": null,
            "object_fit": null,
            "grid_auto_columns": null,
            "margin": null,
            "display": null,
            "left": null
          }
        },
        "70cd9515f7074a1d98407f018eb7dbd0": {
          "model_module": "@jupyter-widgets/controls",
          "model_name": "SliderStyleModel",
          "state": {
            "_view_name": "StyleView",
            "handle_color": null,
            "_model_name": "SliderStyleModel",
            "description_width": "",
            "_view_module": "@jupyter-widgets/base",
            "_model_module_version": "1.5.0",
            "_view_count": null,
            "_view_module_version": "1.2.0",
            "_model_module": "@jupyter-widgets/controls"
          }
        },
        "e8f4465531a049f58631399b684b8eeb": {
          "model_module": "@jupyter-widgets/base",
          "model_name": "LayoutModel",
          "state": {
            "_view_name": "LayoutView",
            "grid_template_rows": null,
            "right": null,
            "justify_content": null,
            "_view_module": "@jupyter-widgets/base",
            "overflow": null,
            "_model_module_version": "1.2.0",
            "_view_count": null,
            "flex_flow": null,
            "width": null,
            "min_width": null,
            "border": null,
            "align_items": null,
            "bottom": null,
            "_model_module": "@jupyter-widgets/base",
            "top": null,
            "grid_column": null,
            "overflow_y": null,
            "overflow_x": null,
            "grid_auto_flow": null,
            "grid_area": null,
            "grid_template_columns": null,
            "flex": null,
            "_model_name": "LayoutModel",
            "justify_items": null,
            "grid_row": null,
            "max_height": null,
            "align_content": null,
            "visibility": null,
            "align_self": null,
            "height": null,
            "min_height": null,
            "padding": null,
            "grid_auto_rows": null,
            "grid_gap": null,
            "max_width": null,
            "order": null,
            "_view_module_version": "1.2.0",
            "grid_template_areas": null,
            "object_position": null,
            "object_fit": null,
            "grid_auto_columns": null,
            "margin": null,
            "display": null,
            "left": null
          }
        },
        "08b308f66ace4916a2a397cf29bd0d72": {
          "model_module": "@jupyter-widgets/controls",
          "model_name": "DescriptionStyleModel",
          "state": {
            "_view_name": "StyleView",
            "_model_name": "DescriptionStyleModel",
            "description_width": "",
            "_view_module": "@jupyter-widgets/base",
            "_model_module_version": "1.5.0",
            "_view_count": null,
            "_view_module_version": "1.2.0",
            "_model_module": "@jupyter-widgets/controls"
          }
        },
        "5ceeaba9c0ad4a74b6d638d3fda9b07b": {
          "model_module": "@jupyter-widgets/base",
          "model_name": "LayoutModel",
          "state": {
            "_view_name": "LayoutView",
            "grid_template_rows": null,
            "right": null,
            "justify_content": null,
            "_view_module": "@jupyter-widgets/base",
            "overflow": null,
            "_model_module_version": "1.2.0",
            "_view_count": null,
            "flex_flow": null,
            "width": null,
            "min_width": null,
            "border": null,
            "align_items": null,
            "bottom": null,
            "_model_module": "@jupyter-widgets/base",
            "top": null,
            "grid_column": null,
            "overflow_y": null,
            "overflow_x": null,
            "grid_auto_flow": null,
            "grid_area": null,
            "grid_template_columns": null,
            "flex": null,
            "_model_name": "LayoutModel",
            "justify_items": null,
            "grid_row": null,
            "max_height": null,
            "align_content": null,
            "visibility": null,
            "align_self": null,
            "height": null,
            "min_height": null,
            "padding": null,
            "grid_auto_rows": null,
            "grid_gap": null,
            "max_width": null,
            "order": null,
            "_view_module_version": "1.2.0",
            "grid_template_areas": null,
            "object_position": null,
            "object_fit": null,
            "grid_auto_columns": null,
            "margin": null,
            "display": null,
            "left": null
          }
        },
        "135b6c881ad04ceb946fac9a3a5be73f": {
          "model_module": "@jupyter-widgets/controls",
          "model_name": "DescriptionStyleModel",
          "state": {
            "_view_name": "StyleView",
            "_model_name": "DescriptionStyleModel",
            "description_width": "",
            "_view_module": "@jupyter-widgets/base",
            "_model_module_version": "1.5.0",
            "_view_count": null,
            "_view_module_version": "1.2.0",
            "_model_module": "@jupyter-widgets/controls"
          }
        },
        "2627726e299b4893afaf0ce8950558de": {
          "model_module": "@jupyter-widgets/base",
          "model_name": "LayoutModel",
          "state": {
            "_view_name": "LayoutView",
            "grid_template_rows": null,
            "right": null,
            "justify_content": null,
            "_view_module": "@jupyter-widgets/base",
            "overflow": null,
            "_model_module_version": "1.2.0",
            "_view_count": null,
            "flex_flow": null,
            "width": null,
            "min_width": null,
            "border": null,
            "align_items": null,
            "bottom": null,
            "_model_module": "@jupyter-widgets/base",
            "top": null,
            "grid_column": null,
            "overflow_y": null,
            "overflow_x": null,
            "grid_auto_flow": null,
            "grid_area": null,
            "grid_template_columns": null,
            "flex": null,
            "_model_name": "LayoutModel",
            "justify_items": null,
            "grid_row": null,
            "max_height": null,
            "align_content": null,
            "visibility": null,
            "align_self": null,
            "height": null,
            "min_height": null,
            "padding": null,
            "grid_auto_rows": null,
            "grid_gap": null,
            "max_width": null,
            "order": null,
            "_view_module_version": "1.2.0",
            "grid_template_areas": null,
            "object_position": null,
            "object_fit": null,
            "grid_auto_columns": null,
            "margin": null,
            "display": null,
            "left": null
          }
        },
        "08bdd1de608f4bcfba5cd85dde5bb950": {
          "model_module": "@jupyter-widgets/controls",
          "model_name": "DescriptionStyleModel",
          "state": {
            "_view_name": "StyleView",
            "_model_name": "DescriptionStyleModel",
            "description_width": "",
            "_view_module": "@jupyter-widgets/base",
            "_model_module_version": "1.5.0",
            "_view_count": null,
            "_view_module_version": "1.2.0",
            "_model_module": "@jupyter-widgets/controls"
          }
        },
        "c60ee9ee90ed4d8eb55a170233513ccd": {
          "model_module": "@jupyter-widgets/base",
          "model_name": "LayoutModel",
          "state": {
            "_view_name": "LayoutView",
            "grid_template_rows": null,
            "right": null,
            "justify_content": null,
            "_view_module": "@jupyter-widgets/base",
            "overflow": null,
            "_model_module_version": "1.2.0",
            "_view_count": null,
            "flex_flow": null,
            "width": null,
            "min_width": null,
            "border": null,
            "align_items": null,
            "bottom": null,
            "_model_module": "@jupyter-widgets/base",
            "top": null,
            "grid_column": null,
            "overflow_y": null,
            "overflow_x": null,
            "grid_auto_flow": null,
            "grid_area": null,
            "grid_template_columns": null,
            "flex": null,
            "_model_name": "LayoutModel",
            "justify_items": null,
            "grid_row": null,
            "max_height": null,
            "align_content": null,
            "visibility": null,
            "align_self": null,
            "height": null,
            "min_height": null,
            "padding": null,
            "grid_auto_rows": null,
            "grid_gap": null,
            "max_width": null,
            "order": null,
            "_view_module_version": "1.2.0",
            "grid_template_areas": null,
            "object_position": null,
            "object_fit": null,
            "grid_auto_columns": null,
            "margin": null,
            "display": null,
            "left": null
          }
        },
        "27ed43368a114dbeb4b50b9b3a8eb18c": {
          "model_module": "@jupyter-widgets/controls",
          "model_name": "SliderStyleModel",
          "state": {
            "_view_name": "StyleView",
            "handle_color": null,
            "_model_name": "SliderStyleModel",
            "description_width": "",
            "_view_module": "@jupyter-widgets/base",
            "_model_module_version": "1.5.0",
            "_view_count": null,
            "_view_module_version": "1.2.0",
            "_model_module": "@jupyter-widgets/controls"
          }
        },
        "bbb5b581487d4bffbc587fc72cf33dbf": {
          "model_module": "@jupyter-widgets/base",
          "model_name": "LayoutModel",
          "state": {
            "_view_name": "LayoutView",
            "grid_template_rows": null,
            "right": null,
            "justify_content": null,
            "_view_module": "@jupyter-widgets/base",
            "overflow": null,
            "_model_module_version": "1.2.0",
            "_view_count": null,
            "flex_flow": null,
            "width": null,
            "min_width": null,
            "border": null,
            "align_items": null,
            "bottom": null,
            "_model_module": "@jupyter-widgets/base",
            "top": null,
            "grid_column": null,
            "overflow_y": null,
            "overflow_x": null,
            "grid_auto_flow": null,
            "grid_area": null,
            "grid_template_columns": null,
            "flex": null,
            "_model_name": "LayoutModel",
            "justify_items": null,
            "grid_row": null,
            "max_height": null,
            "align_content": null,
            "visibility": null,
            "align_self": null,
            "height": null,
            "min_height": null,
            "padding": null,
            "grid_auto_rows": null,
            "grid_gap": null,
            "max_width": null,
            "order": null,
            "_view_module_version": "1.2.0",
            "grid_template_areas": null,
            "object_position": null,
            "object_fit": null,
            "grid_auto_columns": null,
            "margin": null,
            "display": null,
            "left": null
          }
        },
        "512be746a2ea437f8875756cf3f2ba27": {
          "model_module": "@jupyter-widgets/controls",
          "model_name": "DescriptionStyleModel",
          "state": {
            "_view_name": "StyleView",
            "_model_name": "DescriptionStyleModel",
            "description_width": "",
            "_view_module": "@jupyter-widgets/base",
            "_model_module_version": "1.5.0",
            "_view_count": null,
            "_view_module_version": "1.2.0",
            "_model_module": "@jupyter-widgets/controls"
          }
        },
        "ca621700043c42bea370c61809938776": {
          "model_module": "@jupyter-widgets/base",
          "model_name": "LayoutModel",
          "state": {
            "_view_name": "LayoutView",
            "grid_template_rows": null,
            "right": null,
            "justify_content": null,
            "_view_module": "@jupyter-widgets/base",
            "overflow": null,
            "_model_module_version": "1.2.0",
            "_view_count": null,
            "flex_flow": null,
            "width": null,
            "min_width": null,
            "border": null,
            "align_items": null,
            "bottom": null,
            "_model_module": "@jupyter-widgets/base",
            "top": null,
            "grid_column": null,
            "overflow_y": null,
            "overflow_x": null,
            "grid_auto_flow": null,
            "grid_area": null,
            "grid_template_columns": null,
            "flex": null,
            "_model_name": "LayoutModel",
            "justify_items": null,
            "grid_row": null,
            "max_height": null,
            "align_content": null,
            "visibility": null,
            "align_self": null,
            "height": null,
            "min_height": null,
            "padding": null,
            "grid_auto_rows": null,
            "grid_gap": null,
            "max_width": null,
            "order": null,
            "_view_module_version": "1.2.0",
            "grid_template_areas": null,
            "object_position": null,
            "object_fit": null,
            "grid_auto_columns": null,
            "margin": null,
            "display": null,
            "left": null
          }
        },
        "ccda21bea6f44b409e5a9e200f31f45b": {
          "model_module": "@jupyter-widgets/controls",
          "model_name": "SliderStyleModel",
          "state": {
            "_view_name": "StyleView",
            "handle_color": null,
            "_model_name": "SliderStyleModel",
            "description_width": "",
            "_view_module": "@jupyter-widgets/base",
            "_model_module_version": "1.5.0",
            "_view_count": null,
            "_view_module_version": "1.2.0",
            "_model_module": "@jupyter-widgets/controls"
          }
        },
        "a8b4bfc430e848aaa235bbd46e524ef2": {
          "model_module": "@jupyter-widgets/base",
          "model_name": "LayoutModel",
          "state": {
            "_view_name": "LayoutView",
            "grid_template_rows": null,
            "right": null,
            "justify_content": null,
            "_view_module": "@jupyter-widgets/base",
            "overflow": null,
            "_model_module_version": "1.2.0",
            "_view_count": null,
            "flex_flow": null,
            "width": null,
            "min_width": null,
            "border": null,
            "align_items": null,
            "bottom": null,
            "_model_module": "@jupyter-widgets/base",
            "top": null,
            "grid_column": null,
            "overflow_y": null,
            "overflow_x": null,
            "grid_auto_flow": null,
            "grid_area": null,
            "grid_template_columns": null,
            "flex": null,
            "_model_name": "LayoutModel",
            "justify_items": null,
            "grid_row": null,
            "max_height": null,
            "align_content": null,
            "visibility": null,
            "align_self": null,
            "height": null,
            "min_height": null,
            "padding": null,
            "grid_auto_rows": null,
            "grid_gap": null,
            "max_width": null,
            "order": null,
            "_view_module_version": "1.2.0",
            "grid_template_areas": null,
            "object_position": null,
            "object_fit": null,
            "grid_auto_columns": null,
            "margin": null,
            "display": null,
            "left": null
          }
        },
        "2dea0b14d8c04f0ba76fda4190618529": {
          "model_module": "@jupyter-widgets/controls",
          "model_name": "DescriptionStyleModel",
          "state": {
            "_view_name": "StyleView",
            "_model_name": "DescriptionStyleModel",
            "description_width": "",
            "_view_module": "@jupyter-widgets/base",
            "_model_module_version": "1.5.0",
            "_view_count": null,
            "_view_module_version": "1.2.0",
            "_model_module": "@jupyter-widgets/controls"
          }
        },
        "3efdc0a256024b89b3780f12c7a2180d": {
          "model_module": "@jupyter-widgets/base",
          "model_name": "LayoutModel",
          "state": {
            "_view_name": "LayoutView",
            "grid_template_rows": null,
            "right": null,
            "justify_content": null,
            "_view_module": "@jupyter-widgets/base",
            "overflow": null,
            "_model_module_version": "1.2.0",
            "_view_count": null,
            "flex_flow": null,
            "width": null,
            "min_width": null,
            "border": null,
            "align_items": null,
            "bottom": null,
            "_model_module": "@jupyter-widgets/base",
            "top": null,
            "grid_column": null,
            "overflow_y": null,
            "overflow_x": null,
            "grid_auto_flow": null,
            "grid_area": null,
            "grid_template_columns": null,
            "flex": null,
            "_model_name": "LayoutModel",
            "justify_items": null,
            "grid_row": null,
            "max_height": null,
            "align_content": null,
            "visibility": null,
            "align_self": null,
            "height": null,
            "min_height": null,
            "padding": null,
            "grid_auto_rows": null,
            "grid_gap": null,
            "max_width": null,
            "order": null,
            "_view_module_version": "1.2.0",
            "grid_template_areas": null,
            "object_position": null,
            "object_fit": null,
            "grid_auto_columns": null,
            "margin": null,
            "display": null,
            "left": null
          }
        },
        "8d572a31554d40b1ad905c18fdb01d5e": {
          "model_module": "@jupyter-widgets/controls",
          "model_name": "SliderStyleModel",
          "state": {
            "_view_name": "StyleView",
            "handle_color": null,
            "_model_name": "SliderStyleModel",
            "description_width": "",
            "_view_module": "@jupyter-widgets/base",
            "_model_module_version": "1.5.0",
            "_view_count": null,
            "_view_module_version": "1.2.0",
            "_model_module": "@jupyter-widgets/controls"
          }
        },
        "a9ed241c2cad490c97da27756c4edd92": {
          "model_module": "@jupyter-widgets/base",
          "model_name": "LayoutModel",
          "state": {
            "_view_name": "LayoutView",
            "grid_template_rows": null,
            "right": null,
            "justify_content": null,
            "_view_module": "@jupyter-widgets/base",
            "overflow": null,
            "_model_module_version": "1.2.0",
            "_view_count": null,
            "flex_flow": null,
            "width": null,
            "min_width": null,
            "border": null,
            "align_items": null,
            "bottom": null,
            "_model_module": "@jupyter-widgets/base",
            "top": null,
            "grid_column": null,
            "overflow_y": null,
            "overflow_x": null,
            "grid_auto_flow": null,
            "grid_area": null,
            "grid_template_columns": null,
            "flex": null,
            "_model_name": "LayoutModel",
            "justify_items": null,
            "grid_row": null,
            "max_height": null,
            "align_content": null,
            "visibility": null,
            "align_self": null,
            "height": null,
            "min_height": null,
            "padding": null,
            "grid_auto_rows": null,
            "grid_gap": null,
            "max_width": null,
            "order": null,
            "_view_module_version": "1.2.0",
            "grid_template_areas": null,
            "object_position": null,
            "object_fit": null,
            "grid_auto_columns": null,
            "margin": null,
            "display": null,
            "left": null
          }
        },
        "60dbb5503a5b4be4ad13c9ea2c91eb68": {
          "model_module": "@jupyter-widgets/controls",
          "model_name": "DescriptionStyleModel",
          "state": {
            "_view_name": "StyleView",
            "_model_name": "DescriptionStyleModel",
            "description_width": "",
            "_view_module": "@jupyter-widgets/base",
            "_model_module_version": "1.5.0",
            "_view_count": null,
            "_view_module_version": "1.2.0",
            "_model_module": "@jupyter-widgets/controls"
          }
        },
        "2a286f1c09d3493d86db85e87ff612df": {
          "model_module": "@jupyter-widgets/base",
          "model_name": "LayoutModel",
          "state": {
            "_view_name": "LayoutView",
            "grid_template_rows": null,
            "right": null,
            "justify_content": null,
            "_view_module": "@jupyter-widgets/base",
            "overflow": null,
            "_model_module_version": "1.2.0",
            "_view_count": null,
            "flex_flow": null,
            "width": null,
            "min_width": null,
            "border": null,
            "align_items": null,
            "bottom": null,
            "_model_module": "@jupyter-widgets/base",
            "top": null,
            "grid_column": null,
            "overflow_y": null,
            "overflow_x": null,
            "grid_auto_flow": null,
            "grid_area": null,
            "grid_template_columns": null,
            "flex": null,
            "_model_name": "LayoutModel",
            "justify_items": null,
            "grid_row": null,
            "max_height": null,
            "align_content": null,
            "visibility": null,
            "align_self": null,
            "height": null,
            "min_height": null,
            "padding": null,
            "grid_auto_rows": null,
            "grid_gap": null,
            "max_width": null,
            "order": null,
            "_view_module_version": "1.2.0",
            "grid_template_areas": null,
            "object_position": null,
            "object_fit": null,
            "grid_auto_columns": null,
            "margin": null,
            "display": null,
            "left": null
          }
        },
        "694aef91a7c64ec49d9b9a6ab1fff1dc": {
          "model_module": "@jupyter-widgets/controls",
          "model_name": "SliderStyleModel",
          "state": {
            "_view_name": "StyleView",
            "handle_color": null,
            "_model_name": "SliderStyleModel",
            "description_width": "",
            "_view_module": "@jupyter-widgets/base",
            "_model_module_version": "1.5.0",
            "_view_count": null,
            "_view_module_version": "1.2.0",
            "_model_module": "@jupyter-widgets/controls"
          }
        },
        "0987b0bac2904272bfb01cc0af1bbe54": {
          "model_module": "@jupyter-widgets/base",
          "model_name": "LayoutModel",
          "state": {
            "_view_name": "LayoutView",
            "grid_template_rows": null,
            "right": null,
            "justify_content": null,
            "_view_module": "@jupyter-widgets/base",
            "overflow": null,
            "_model_module_version": "1.2.0",
            "_view_count": null,
            "flex_flow": null,
            "width": null,
            "min_width": null,
            "border": null,
            "align_items": null,
            "bottom": null,
            "_model_module": "@jupyter-widgets/base",
            "top": null,
            "grid_column": null,
            "overflow_y": null,
            "overflow_x": null,
            "grid_auto_flow": null,
            "grid_area": null,
            "grid_template_columns": null,
            "flex": null,
            "_model_name": "LayoutModel",
            "justify_items": null,
            "grid_row": null,
            "max_height": null,
            "align_content": null,
            "visibility": null,
            "align_self": null,
            "height": null,
            "min_height": null,
            "padding": null,
            "grid_auto_rows": null,
            "grid_gap": null,
            "max_width": null,
            "order": null,
            "_view_module_version": "1.2.0",
            "grid_template_areas": null,
            "object_position": null,
            "object_fit": null,
            "grid_auto_columns": null,
            "margin": null,
            "display": null,
            "left": null
          }
        },
        "9b362e89fe204a2880fbe4044ba5bbd2": {
          "model_module": "@jupyter-widgets/controls",
          "model_name": "DescriptionStyleModel",
          "state": {
            "_view_name": "StyleView",
            "_model_name": "DescriptionStyleModel",
            "description_width": "",
            "_view_module": "@jupyter-widgets/base",
            "_model_module_version": "1.5.0",
            "_view_count": null,
            "_view_module_version": "1.2.0",
            "_model_module": "@jupyter-widgets/controls"
          }
        },
        "0039f2edf79c494f8a2015520e1ab1be": {
          "model_module": "@jupyter-widgets/base",
          "model_name": "LayoutModel",
          "state": {
            "_view_name": "LayoutView",
            "grid_template_rows": null,
            "right": null,
            "justify_content": null,
            "_view_module": "@jupyter-widgets/base",
            "overflow": null,
            "_model_module_version": "1.2.0",
            "_view_count": null,
            "flex_flow": null,
            "width": null,
            "min_width": null,
            "border": null,
            "align_items": null,
            "bottom": null,
            "_model_module": "@jupyter-widgets/base",
            "top": null,
            "grid_column": null,
            "overflow_y": null,
            "overflow_x": null,
            "grid_auto_flow": null,
            "grid_area": null,
            "grid_template_columns": null,
            "flex": null,
            "_model_name": "LayoutModel",
            "justify_items": null,
            "grid_row": null,
            "max_height": null,
            "align_content": null,
            "visibility": null,
            "align_self": null,
            "height": null,
            "min_height": null,
            "padding": null,
            "grid_auto_rows": null,
            "grid_gap": null,
            "max_width": null,
            "order": null,
            "_view_module_version": "1.2.0",
            "grid_template_areas": null,
            "object_position": null,
            "object_fit": null,
            "grid_auto_columns": null,
            "margin": null,
            "display": null,
            "left": null
          }
        },
        "ac0aba354e8f49e2a1f15179c04ce7c4": {
          "model_module": "@jupyter-widgets/controls",
          "model_name": "SliderStyleModel",
          "state": {
            "_view_name": "StyleView",
            "handle_color": null,
            "_model_name": "SliderStyleModel",
            "description_width": "",
            "_view_module": "@jupyter-widgets/base",
            "_model_module_version": "1.5.0",
            "_view_count": null,
            "_view_module_version": "1.2.0",
            "_model_module": "@jupyter-widgets/controls"
          }
        },
        "666fec07ed7347c2941cc9e90b83c52b": {
          "model_module": "@jupyter-widgets/base",
          "model_name": "LayoutModel",
          "state": {
            "_view_name": "LayoutView",
            "grid_template_rows": null,
            "right": null,
            "justify_content": null,
            "_view_module": "@jupyter-widgets/base",
            "overflow": null,
            "_model_module_version": "1.2.0",
            "_view_count": null,
            "flex_flow": null,
            "width": null,
            "min_width": null,
            "border": null,
            "align_items": null,
            "bottom": null,
            "_model_module": "@jupyter-widgets/base",
            "top": null,
            "grid_column": null,
            "overflow_y": null,
            "overflow_x": null,
            "grid_auto_flow": null,
            "grid_area": null,
            "grid_template_columns": null,
            "flex": null,
            "_model_name": "LayoutModel",
            "justify_items": null,
            "grid_row": null,
            "max_height": null,
            "align_content": null,
            "visibility": null,
            "align_self": null,
            "height": null,
            "min_height": null,
            "padding": null,
            "grid_auto_rows": null,
            "grid_gap": null,
            "max_width": null,
            "order": null,
            "_view_module_version": "1.2.0",
            "grid_template_areas": null,
            "object_position": null,
            "object_fit": null,
            "grid_auto_columns": null,
            "margin": null,
            "display": null,
            "left": null
          }
        }
      }
    }
  },
  "cells": [
    {
      "cell_type": "markdown",
      "metadata": {
        "id": "view-in-github",
        "colab_type": "text"
      },
      "source": [
        "<a href=\"https://colab.research.google.com/github/annikaaross/Homochirality-project/blob/annika-branch/Homochirality_with_dashboard.ipynb\" target=\"_parent\"><img src=\"https://colab.research.google.com/assets/colab-badge.svg\" alt=\"Open In Colab\"/></a>"
      ]
    },
    {
      "cell_type": "markdown",
      "metadata": {
        "id": "IO4sCUUbimaZ",
        "colab_type": "text"
      },
      "source": [
        "# Homochirality Model"
      ]
    },
    {
      "cell_type": "markdown",
      "metadata": {
        "id": "AI0F-yrSs0rg",
        "colab_type": "text"
      },
      "source": [
        "Hello and welcome to Do Opposites Attract?, the first monomer dating show. We're here to see if similarity between member(s) of a relationship matters in the strength of the bond between the individuals. Read on as we introduce you to our monomers, our polymers, and the stylish bag that they reside in. Along the way we will keep you up to date on all the drama of falling in love and breaking hearts."
      ]
    },
    {
      "cell_type": "markdown",
      "metadata": {
        "id": "AvOcPptw5JVf",
        "colab_type": "text"
      },
      "source": [
        "## Global Parameters"
      ]
    },
    {
      "cell_type": "markdown",
      "metadata": {
        "id": "lfMJif2R5Uc7",
        "colab_type": "text"
      },
      "source": [
        "Here's where we keep the rules by which our contestants must play."
      ]
    },
    {
      "cell_type": "code",
      "metadata": {
        "id": "zW---ckX5eKf",
        "colab_type": "code",
        "colab": {}
      },
      "source": [
        "#the bond break probbility applied to all bonds\n",
        "#BASE_BOND_BREAK_PROBABILITY = 0.9\n",
        "#if a bond itself is homochiral the base bond fator is multiplied by\n",
        "#this factor\n",
        "#HOMOCHIRAL_BREAK_FACTOR = 0.9\n",
        "\n",
        "\n",
        "#this factor is incorporated for each additional neighboring homochiral bond\n",
        "# becomes less and less influential as the bond gets further away\n",
        "#HOMOCHIRAL_NEIGHBOR_IMPROV_FACTOR = 0.3\n",
        "\n",
        "#decreases the break probability based on the length of the polymer\n",
        "#LENGTH_FACTOR = 0.6\n",
        "\n",
        "\n",
        "\n",
        "\n",
        "\n",
        "#limits the influence of length on breakprobabiltiy(the larger the less influence it has)\n",
        "#N=40\n",
        "\n",
        "#saves the break probabilities of sequences of polymers\n",
        "\n",
        "#used in Poisson distribution\n",
        "#LAMBDA=1\n",
        "\n",
        "#################################################################\n",
        "#these are the same factors as before but with on for left and  #\n",
        "#one for right homochiral bonds.                                #\n",
        "#used in biaseastbondbreakability method which can be choosen to#\n",
        "#be used over the regular eastbondbreakability method in the    #\n",
        "#self.reset_break_probability() method                          #\n",
        "#################################################################\n",
        "#HOMOCHIRAL_BREAK_FACTOR_LEFT = 0.0\n",
        "#HOMOCHIRAL_BREAK_FACTOR_RIGHT = 0.9\n",
        "#HOMOCHIRAL_NEIGHBOR_IMPROV_FACTOR_LEFT = 0.3\n",
        "#HOMOCHIRAL_NEIGHBOR_IMPROV_FACTOR_RIGHT = 0.3\n",
        "\n",
        "\n",
        "N_RANDS = 1000\n",
        "\n",
        "\n",
        "rands = []\n",
        "\n",
        "\n",
        "#These are the liklihoods that a monomer will choose to poof or bond, respectively.\n",
        "#Used in the Reactables class.\n",
        "\n",
        "#POOF_CHANCE = 0.3333\n",
        "\n",
        "#BOND_PROB = 0.3333\n",
        "\n",
        "\n",
        "#POOL_SIZE= 10\n",
        "\n",
        "#ITERATIONS = 100\n",
        "\n",
        "# Shorthands #\n",
        "L = True\n",
        "R = False"
      ],
      "execution_count": 23,
      "outputs": []
    },
    {
      "cell_type": "markdown",
      "metadata": {
        "id": "a8egVnJUbTYf",
        "colab_type": "text"
      },
      "source": [
        "## Imports and Helpers"
      ]
    },
    {
      "cell_type": "markdown",
      "metadata": {
        "id": "IN4PxtbgaqnM",
        "colab_type": "text"
      },
      "source": [
        "First we install a package called ```jdc``` which allows us to define classes across different cells using the syntax\n",
        "\n",
        "```\n",
        "%%add_to our_class\n",
        "def our_function(self, our_variable):\n",
        "  print our_variable\n",
        "```\n",
        "\n",
        "The documentation on this magic function can be found at https://alexhagen.github.io/jdc/\n",
        "\n",
        "\n",
        "\n",
        "\n"
      ]
    },
    {
      "cell_type": "code",
      "metadata": {
        "id": "5f4ViqWCQDL_",
        "colab_type": "code",
        "colab": {
          "base_uri": "https://localhost:8080/",
          "height": 0
        },
        "outputId": "11e76e97-5334-4d45-f08c-0946b3488108"
      },
      "source": [
        "!pip install jdc"
      ],
      "execution_count": 24,
      "outputs": [
        {
          "output_type": "stream",
          "text": [
            "Requirement already satisfied: jdc in /usr/local/lib/python3.6/dist-packages (0.0.9)\n"
          ],
          "name": "stdout"
        }
      ]
    },
    {
      "cell_type": "markdown",
      "metadata": {
        "id": "5DONDBNfbdC3",
        "colab_type": "text"
      },
      "source": [
        "Here are the imports."
      ]
    },
    {
      "cell_type": "code",
      "metadata": {
        "id": "7gkyGmzI6Vst",
        "colab_type": "code",
        "colab": {}
      },
      "source": [
        "import random\n",
        "import numpy as np\n",
        "import copy\n",
        "from google.colab import widgets, output\n",
        "import matplotlib.pyplot as plt\n",
        "import jdc\n",
        "import more_itertools\n",
        "import pandas as pd\n",
        "import plotly.express as px\n",
        "import plotly.graph_objects as go\n",
        "import time\n",
        "from IPython.display import display, Markdown, clear_output\n",
        "import ipywidgets"
      ],
      "execution_count": 25,
      "outputs": []
    },
    {
      "cell_type": "markdown",
      "metadata": {
        "id": "Gc5E3314bsom",
        "colab_type": "text"
      },
      "source": [
        "And here are some helper functions."
      ]
    },
    {
      "cell_type": "code",
      "metadata": {
        "id": "PckJQLzVbvor",
        "colab_type": "code",
        "colab": {}
      },
      "source": [
        "def make_pool(n):\n",
        "  \"\"\"\n",
        "  Return a list of n new monomers.\n",
        "  \"\"\"\n",
        "  monomers = []\n",
        "  for i in range(n):\n",
        "    monomers.append(Monomer())\n",
        "  return monomers\n",
        "\n",
        "\n",
        "def numpy_fillna(data):\n",
        "  \"\"\" Rectangularize a jagged array.\n",
        "\n",
        "  Source: https://stackoverflow.com/a/32043366\n",
        "  \"\"\"\n",
        "  # Get lengths of each row of data\n",
        "  lens = np.array([len(i) for i in data])\n",
        "\n",
        "  # Mask of valid places in each row\n",
        "  mask = np.arange(lens.max()) < lens[:,None]\n",
        "\n",
        "  # Setup output array and put elements from data into masked positions\n",
        "  out = np.zeros(mask.shape, dtype=float)\n",
        "  out[mask] = np.concatenate(data)\n",
        "  return out\n",
        "\n",
        "def eAnd(*args): # From https://stackoverflow.com/q/2770434\n",
        "  return [all(tuple) for tuple in zip(*args)]\n",
        "\n",
        "def get_rand():\n",
        "  \"\"\"A function to provide uniform random numbers\"\"\"\n",
        "  if len(rands)<= 10:\n",
        "    randsarray = np.random.rand(N_RANDS)\n",
        "    rands.extend(randsarray.tolist())\n",
        "  return rands.pop()\n",
        "\n",
        "def poissonequation(k):\n",
        "  #checks if value has already been calulated\n",
        "  if k not in poisson_dict:\n",
        "    #otherwise calculates the values\n",
        "    p = np.exp(-LAMBDA)*((LAMBDA**k)/(np.math.factorial(k)))\n",
        "    #adds to dictionary\n",
        "    poisson_dict[k] = 1- POISSON_FACTOR*(p)\n",
        "  return poisson_dict[k]\n"
      ],
      "execution_count": 26,
      "outputs": []
    },
    {
      "cell_type": "markdown",
      "metadata": {
        "id": "axVuXR__qoi4",
        "colab_type": "text"
      },
      "source": [
        "## The Monomer class"
      ]
    },
    {
      "cell_type": "markdown",
      "metadata": {
        "id": "NgRYt5tGs6Q6",
        "colab_type": "text"
      },
      "source": [
        "These are our Monomers. The individuals in our dating show. They are the best thing a girl can be in this worl, beautiful little fools. They know that they exist and they know what kind of monomer they are, left or right(thats handedness not political party alignment) What more can you ask for?"
      ]
    },
    {
      "cell_type": "markdown",
      "metadata": {
        "id": "jI9isLxnRk5d",
        "colab_type": "text"
      },
      "source": [
        "### Constructor"
      ]
    },
    {
      "cell_type": "code",
      "metadata": {
        "id": "7TlZA8Njjd2D",
        "colab_type": "code",
        "colab": {}
      },
      "source": [
        "class Monomer:\n",
        "\n",
        "  def __init__(self, **kwargs):\n",
        "    \"\"\"\n",
        "    The constructor method for Monomer objects. Assigns default handedness.\n",
        "    Accepts argument hand = bool with keyword.\n",
        "    Considering other syntax for passing in handedness.\n",
        "    Keeps track of how old the monomer is\n",
        "    \"\"\"\n",
        "    import random\n",
        "    self._handedness = kwargs['hand'] if 'hand' in kwargs else random.choice([True,False])\n",
        "    self._eastbrkprob = kwargs['brkprob'] if 'brkprob' in kwargs else -1\n",
        "    #keeps track of its age, the number of iterations it has survived\n",
        "    self._age = 0\n",
        "  \n",
        "  def __repr__(self):\n",
        "    return str(f\"{self.get_handedness()}-monomer\")\n"
      ],
      "execution_count": 27,
      "outputs": []
    },
    {
      "cell_type": "markdown",
      "metadata": {
        "id": "aP-4RlM7Q9IS",
        "colab_type": "text"
      },
      "source": [
        "### Getters and Setters"
      ]
    },
    {
      "cell_type": "code",
      "metadata": {
        "id": "IJM6sYAdRHFc",
        "colab_type": "code",
        "colab": {}
      },
      "source": [
        "%%add_to Monomer\n",
        "\n",
        "def get_handedness(self):\n",
        "  \"\"\"Getter method for Monomer handedness.\"\"\"\n",
        "  return self._handedness\n",
        "\n",
        "def get_age(self):\n",
        "  \"\"\"Getter method for Monomer age\"\"\"\n",
        "  return self._age\n",
        "\n",
        "\n",
        "def get_eastbrkprob(self):\n",
        "  \"\"\"Getter method for east bond brk probability\"\"\"\n",
        "  return self._eastbrkprob\n",
        "\n",
        "def set_eastbrkprob(self, newbrk):\n",
        "  \"\"\"Setter method for east bond brk probability\"\"\"\n",
        "  self._eastbrkprob = newbrk\n",
        "\n",
        "def set_age(self, newage):\n",
        "  \"\"\"setter method for age\"\"\"\n",
        "  self._age = newage\n",
        "\n",
        "def reset_eastbrkprob(self) :\n",
        "  \"\"\"reset east brk probability to -1 \n",
        "      to be called when single monomer is broken from polymer\"\"\"\n",
        "  self.set_eastbrkprob(-1)\n"
      ],
      "execution_count": 28,
      "outputs": []
    },
    {
      "cell_type": "markdown",
      "metadata": {
        "id": "ihXAcN9GRXPL",
        "colab_type": "text"
      },
      "source": [
        "### Polymer Compatibility"
      ]
    },
    {
      "cell_type": "code",
      "metadata": {
        "id": "4fFeZGU6Ra7W",
        "colab_type": "code",
        "colab": {}
      },
      "source": [
        "%%add_to Monomer\n",
        "\n",
        "def get_chirality(self):\n",
        "  \"\"\" Return an expression of handedness compatible with the Polymer notation\n",
        "  of chirality (n_lefts, n_rights).\n",
        "  \"\"\"\n",
        "  if self.get_handedness():\n",
        "    return (1,0)\n",
        "  else:\n",
        "    return (0,1)\n",
        "\n",
        "def get_length(self):\n",
        "  \"\"\" Return 1. \"\"\"\n",
        "  return 1\n",
        "\n",
        "def get_ee(self):\n",
        "  \"\"\" Return the enantiomeric excess of the monomer. This value is always 1. \"\"\"\n",
        "  return 1\n",
        "\n",
        "def get_signed_ee(self):\n",
        "  \"\"\" Return the signed enantiomeric excess of the monomer.\n",
        "  Returns 1 if left handed, -1 if right handed.\n",
        "  \"\"\"\n",
        "  if self.get_handedness():\n",
        "    return 1\n",
        "  else:\n",
        "    return -1\n",
        "\n",
        "def generate_log(self):\n",
        "  \"\"\" Return a log compatible with the reactables history. \"\"\"\n",
        "  return (self.get_handedness(),self.get_age())\n",
        "\n",
        "def get_sequence(self):\n",
        "  return (self.get_handedness(),)\n",
        "\n",
        "def birthday(self):\n",
        "  \"\"\"ages the monomer up\"\"\"\n",
        "  self._age += 1"
      ],
      "execution_count": 29,
      "outputs": []
    },
    {
      "cell_type": "markdown",
      "metadata": {
        "id": "lisjFJ2YqZf7",
        "colab_type": "text"
      },
      "source": [
        "## The Polymer class"
      ]
    },
    {
      "cell_type": "markdown",
      "metadata": {
        "id": "h8Z3nHigtAsf",
        "colab_type": "text"
      },
      "source": [
        "This is our Polymer class, aka the relationships in this dating show. They contain a list of all the monomers that are inside of them. It is kept in a specific order. They are pretty open books. They can tell us how many monomers they contain, they add new members(either monomers or whole other polymers), they can remove entire groups of members after a certain index, they can check which of their bonds are homochiral and use this to calculate probability of a certain bond breaking(the weak areas in their relationship). They can use this to then tell the producers if and where they are planning on breaking off members of they ranks. Like all good relationships, they use purely mathematics and chance to determine these heart breaking decisions. They can also tell us how many left handed monomers and how many right handed monomers they contain. "
      ]
    },
    {
      "cell_type": "markdown",
      "metadata": {
        "id": "RX_K0yxjTSEx",
        "colab_type": "text"
      },
      "source": [
        "### Constructor"
      ]
    },
    {
      "cell_type": "code",
      "metadata": {
        "id": "zNkhoo72TYUM",
        "colab_type": "code",
        "colab": {}
      },
      "source": [
        "class Polymer:\n",
        "  def __init__(self, monomers = []):\n",
        "    \"\"\" Constructor method for Polymer.\n",
        "    In addition to setting the monomers list, also calculates all break probabilities\n",
        "    of the bonds it contains using reset_break_probability.\n",
        "    \"\"\"\n",
        "    self._monomers = monomers\n",
        "    #self.reset_break_probability()\n",
        "    #keeps track of the age of itself(number of iterations it has survived)\n",
        "    self._age = 0\n",
        "\n",
        "  def __str__(self):\n",
        "    \"\"\" str function for Polymer class. \"\"\"\n",
        "    return f\"\\nA polymer of length {self.get_length()}: {self.get_sequence()}\"\n",
        "  \n",
        "  def __repr__(self):\n",
        "    \"\"\" repr function for Polymer class. \"\"\"\n",
        "    return f\"{self.get_sequence()}-polymer\""
      ],
      "execution_count": 30,
      "outputs": []
    },
    {
      "cell_type": "markdown",
      "metadata": {
        "id": "67fSyVs_Tdlh",
        "colab_type": "text"
      },
      "source": [
        "### Getters, Setters, and Logs"
      ]
    },
    {
      "cell_type": "code",
      "metadata": {
        "id": "ziWCTo2GTcrv",
        "colab_type": "code",
        "colab": {}
      },
      "source": [
        "%%add_to Polymer\n",
        "\n",
        "\n",
        "def get_monomers(self):\n",
        "  \"\"\" Return list of monomers in the polymer. \"\"\"\n",
        "  return self._monomers\n",
        "\n",
        "\n",
        "def get_length(self):\n",
        "  \"\"\" Return the number of monomers in the polymer. \"\"\"\n",
        "  return len(self._monomers)\n",
        "\n",
        "\n",
        "def get_sequence(self):\n",
        "  \"\"\" Return the sequence of monomers in the polymer in a human-readable (and loggable) format. \"\"\"\n",
        "  sequence = []\n",
        "  for monomer in self.get_monomers():\n",
        "    sequence.append(monomer.get_handedness())\n",
        "  return sequence\n",
        "\n",
        "def get_age(self):\n",
        "  \"\"\"\n",
        "  Getter method for the age of the polymer\n",
        "  \"\"\"\n",
        "  return self._age\n",
        "\n",
        "\n",
        "def set_age(self, newage):\n",
        "  \"\"\"\n",
        "  Setter method for the age of the polymer\n",
        "  \"\"\"\n",
        "  self._age = newage\n",
        "\n",
        "def set_monomers(self, new_monomers):\n",
        "  \"\"\" Set the monomers in the polymer to new_monomers. \"\"\"\n",
        "  self._monomers = new_monomers\n",
        "\n",
        "def get_avg_age(self):\n",
        "  \"\"\"\n",
        "  calculates the average age of the monomers in the polymer\n",
        "  \"\"\"\n",
        "  totalage = 0\n",
        "  for n in range(self.get_length()):\n",
        "    totalage += self.get_monomers()[n].get_age()\n",
        "  avgage= totalage/self.get_length()\n",
        "  return avgage\n",
        "\n",
        "\n",
        "def get_chirality(self):\n",
        "  \"\"\" Return the chiralities of the monomers within the polymer.\n",
        "\n",
        "  RETURN: tuple\n",
        "  (number_lefts, number_rights)\n",
        "  \"\"\"\n",
        "  #Get the monomer handednesses\n",
        "  sequence = self.get_sequence()\n",
        "  #Count the number of trues\n",
        "  n_true = sum(sequence)\n",
        "  #The number of falses is the total minus the number of trues\n",
        "  #Return that.\n",
        "  return (n_true, len(sequence) - n_true)\n",
        "\n",
        "def birthday(self):\n",
        "  \"\"\"\n",
        "  Ages up the polymer and all of the monomers in the polymer\n",
        "  \"\"\"\n",
        "  self._age += 1\n",
        "  for n in range(self.get_length()):\n",
        "    self.get_monomers()[n].birthday()\n",
        "    \n",
        "\n",
        "def get_signed_ee(self):\n",
        "  lefts, rights = self.get_chirality()\n",
        "  return (lefts - rights) / self.get_length()\n",
        "\n",
        "def get_ee(self):\n",
        "  lefts, rights = self.get_chirality()\n",
        "  return abs((lefts - rights) / self.get_length())\n",
        "\n",
        "  \n",
        "def generate_log(self):\n",
        "  \"\"\" Return a log tuple formatted simply as the list of boolean handednesses of the monomers contained\n",
        "  in the polymer. Will be heavier than holding data about the polymer like in the other log format,\n",
        "  but should allow access to more information and more kinds of information.\n",
        "  \"\"\"\n",
        "  return (self.get_sequence(),self.get_age())"
      ],
      "execution_count": 31,
      "outputs": []
    },
    {
      "cell_type": "markdown",
      "metadata": {
        "id": "IdB8k_yadghA",
        "colab_type": "text"
      },
      "source": [
        "### Functionality methods"
      ]
    },
    {
      "cell_type": "code",
      "metadata": {
        "id": "Xa_gIPs0dcjS",
        "colab_type": "code",
        "colab": {}
      },
      "source": [
        "%%add_to Polymer\n",
        "\n",
        "def append(self, other):\n",
        "  \"\"\"\n",
        "  Adds a reactable (monomer or polymer) to the end of the Polymer.\n",
        "  If the added reactable is a polymer, append() deletes it after taking its monomers.\n",
        "  \"\"\"\n",
        "  #Check the type of thing to add\n",
        "  if isinstance(other, Monomer):\n",
        "    #Monomers can just be appended to the list\n",
        "    self._monomers.append(other)\n",
        "  elif isinstance(other, Polymer):\n",
        "    #For polymers we need to extend rather than append, to avoid nested lists\n",
        "    self._monomers.extend(other.get_monomers())\n",
        "    #Then once the monomers are safely in their new polymer, the old one is deleted\n",
        "    del other\n",
        "\n",
        "def brkloc(self):\n",
        "\n",
        "  #makes a list of all the indices of monomers in the polymer except \n",
        "  #for the last one\n",
        "  indices = []\n",
        "  for n in range(self.get_length() - 1):\n",
        "    indices.append(n)\n",
        "  #puts indices in random order\n",
        "  random.shuffle(indices)\n",
        "  #tests if each indices will break\n",
        "  for index in indices:\n",
        "    #gets the breakprobability for monomer at n index\n",
        "    brkprob = self._monomers[index].get_eastbrkprob()\n",
        "    rand = get_rand()\n",
        "    # checks if the random number is less than the brkprob then the index of\n",
        "    #the monomer is returned from the method\n",
        "    #indicating this polymer breaks at the east bond of this monomer\n",
        "    if(brkprob > rand):\n",
        "      #print(self)\n",
        "      #print(break_prob_lookup_table[tuple(self.get_sequence())])\n",
        "      #print(index)\n",
        "      #print(\"brkprob is:\")\n",
        "      #print(brkprob)\n",
        "      #print(\"rand is\")\n",
        "      #print(rand)\n",
        "      #print(\"now I go to brk polymer\")\n",
        "      return index\n",
        "  return None\n",
        "\n",
        "def removeright(self,location):\n",
        "  \"\"\"\n",
        "  Removes all monomers to the right (east) of a given index\n",
        "  \"\"\"\n",
        "  #creates a list of monomers in the polymer to the left, and including,\n",
        "  #the monomer at the location(index) provided\n",
        "  newList = self._monomers[0:location+1]\n",
        "\n",
        "  #makes a list of the monoers to the rightof the monomer at the \n",
        "  #index provided\n",
        "  removed = self._monomers[location+1:]\n",
        "\n",
        "  #sets the polymers monomers to newList(the monomers to the left\n",
        "  #of  and the index provided)\n",
        "  self.set_monomers(newList)\n",
        "  #print(\"after breaking ractable is:\",self)\n",
        "  #print(\"after breaking removed is:\",removed)\n",
        "\n",
        "  #returns the monomers that were removed, everything the right\n",
        "  #of the index provided\n",
        "  return removed"
      ],
      "execution_count": 32,
      "outputs": []
    },
    {
      "cell_type": "markdown",
      "metadata": {
        "id": "1lx9FPNLeRNM",
        "colab_type": "text"
      },
      "source": [
        "### Homochirality handling"
      ]
    },
    {
      "cell_type": "code",
      "metadata": {
        "id": "THNcbUmt1vm7",
        "colab_type": "code",
        "colab": {}
      },
      "source": [
        "%%add_to Polymer\n",
        "def easthomochiralcheck(self,numbermonomer):\n",
        "  \"\"\"\n",
        "  Takes the index of a monomer within the Polymer and returns whether its east bond is homochiral.\n",
        "  \"\"\"\n",
        "  #First check that the index isn't out of bounds \n",
        "  if (0 > numbermonomer or numbermonomer >= self.get_length()-1):\n",
        "    return False\n",
        "  #get the handedness of this monomer and its east neighbor, and return whether or not they're equal (bool)\n",
        "  return self._monomers[numbermonomer].get_handedness() == self._monomers[numbermonomer+1].get_handedness()\n",
        "\n",
        "def easthomochiralbiascheck (self, numbermonomer):\n",
        "  \"\"\" this method can be used in place of the east homochiral check method\n",
        "  returns false if not homochiral, 3 if homochiral left, 5 if homochiral right\"\"\"\n",
        "\n",
        "  #First check that the index isn't out of bounds or if not homochiral\n",
        "  if (0 > numbermonomer or numbermonomer >= self.get_length()-1 or not self.easthomochiralcheck(numbermonomer)):\n",
        "    return False\n",
        "  \n",
        "  #otherwise check if they are homochiral left or right\n",
        "  elif self._monomers[numbermonomer].get_handedness():\n",
        "      #means left homochiral\n",
        "      return 3\n",
        "  elif not self._monomers[numbermonomer].get_handedness():\n",
        "      #means right homochiral\n",
        "      return 5\n",
        "  \n",
        "\n",
        "def eastbondbreakprobability(self,numbermonomer):\n",
        "  \"\"\"\n",
        "  Takes the index of a monomer within the Polymer\n",
        "  Returns the probability that the monomer's east bond will break\n",
        "  returns -3 if the monomer has no east bond\n",
        "  \"\"\"\n",
        "  ##############################\n",
        "  #Override to return an equal break chance for every bond in the polymer\n",
        "  #Simply comment out this line to get the regular function\n",
        "  #return (0.3)\n",
        "  ##############################\n",
        "\n",
        "  #First check if the monomer is the last one in the polymer\n",
        "  if (numbermonomer >= self.get_length()-1):\n",
        "    #If so, it doesn't have an east bond to break, so the probability is 0(return -3)\n",
        "    return -3\n",
        "    \n",
        "  #now we initialize brk probability (brk)\n",
        "  brk = (BASE_BOND_BREAK_PROBABILITY) #* (LENGTH_FACTOR**(self.get_length()/N))\n",
        "  #check if the east bond is homochiral\n",
        "  if (self.easthomochiralcheck(numbermonomer)):\n",
        "    #if so multiply it by homochiral break factor (shrinks probability)\n",
        "    brk *= HOMOCHIRAL_BREAK_FACTOR\n",
        "    #goes through method which checks and calculates benefit of all homochiral neighbors\n",
        "    brk = self.checkforhomochiralneighbors(numbermonomer,brk,HOMOCHIRAL_NEIGHBOR_IMPROV_FACTOR)\n",
        "  #end def: returns break probability of monomers east bond\n",
        "  return brk\n",
        "\n",
        "def biaseastbondbreakprobability(self,numbermonomer):\n",
        "  \"\"\"\n",
        "  ***left-right sensitivity****\n",
        "  Takes the index of a monomer within the Polymer\n",
        "  Returns the probability that the monomer's east bond will break\n",
        "  returns -3 if the monomer has no east bond\n",
        "  \"\"\"\n",
        "  ##############################\n",
        "  #Override to return an equal break chance for every bond in the polymer\n",
        "  #Simply comment out this line to get the regular function\n",
        "  #return (0.3)\n",
        "  ##############################\n",
        "  \n",
        "  #First check if the monomer is the last one in the polymer\n",
        "  if (numbermonomer >= self.get_length()-1):\n",
        "    #If so, it doesn't have an east bond to break, so the probability is 0 (returns -3)\n",
        "    return -3\n",
        "  \n",
        "  #initialize the brk probability\n",
        "  brk = (BASE_BOND_BREAK_PROBABILITY) * (LENGTH_FACTOR**(self.get_length()/N))\n",
        "\n",
        "  #check if the east bond is homochiral left\n",
        "  if (self.easthomochiralbiascheck(numbermonomer) == 3):\n",
        "    brk *= HOMOCHIRAL_BREAK_FACTOR_LEFT\n",
        "\n",
        "    #run through function that recalculates brk based on benfits of homochiral neighbors\n",
        "    brk = self.checkforhomochiralneighbors(numbermonomer, brk, HOMOCHIRAL_NEIGHBOR_IMPROV_FACTOR_LEFT)\n",
        "\n",
        "  #otherwise checks if bond is homochiral right\n",
        "  elif (self.easthomochiralbiascheck(numbermonomer) == 5):\n",
        "    brk *= HOMOCHIRAL_BREAK_FACTOR_RIGHT\n",
        "\n",
        "    #run through function that recalculates brk based on benfits of homochiral neighbors\n",
        "    brk = self.checkforhomochiralneighbors(numbermonomer,brk, HOMOCHIRAL_NEIGHBOR_IMPROV_FACTOR_RIGHT)\n",
        "   \n",
        "  return brk\n",
        "\n",
        "def checkforhomochiralneighbors(self, numbermonomer, brk, neighborfactor):\n",
        "\n",
        "  \"\"\"\n",
        "  helps all the versions of the eastbond break calculating functions\n",
        "  takes in a brk probability a number monomer and the desired neighbor improvement factor\n",
        "  and calculates how the neighbors a bond will increase the strength of the bond\n",
        "  it then returns the new brk prob to the eastbond brk function\n",
        "  \"\"\"\n",
        "  brk = brk\n",
        "  j = numbermonomer + 1\n",
        "  #going right to check for homochiral neighbors\n",
        "  while(self.easthomochiralcheck(j)):\n",
        "    #calculates decrease to brk prob for a neighbor of that distance for the bond\n",
        "    brk *= 1 - (neighborfactor**abs(j - numbermonomer))\n",
        "    j += 1\n",
        "\n",
        "  #going left to check for homochiral neighbors\n",
        "  j=numbermonomer-1\n",
        "  while(self.easthomochiralcheck(j)):\n",
        "    #calculates decrease to brk prob for a neighbor of that distance for the bond\n",
        "    brk *= 1-(neighborfactor**abs(numbermonomer - j))\n",
        "    j -= 1\n",
        "\n",
        "  return brk\n",
        "\n",
        "\n",
        "def poissonbreakprobability(self,numbermonomer):\n",
        "  \"\"\"\n",
        "  Takes the index of a monomer within the Polymer\n",
        "  Returns the probability that the monomer's east bond will break\n",
        "  based on Poisson distribution\n",
        "  returns -3 if the monomer has no east bond\n",
        "  \"\"\"\n",
        "  #print(\"POISOOOOONNNNN\")\n",
        "  #First check if the monomer is the last one in the polymer\n",
        "  if (numbermonomer >= self.get_length()-1):\n",
        "    #If so, it doesn't have an east bond to break, so the probability is 0(return -3)\n",
        "    return -3\n",
        "\n",
        "  #With that out of the way, we initialize brk to the base probability of breaking a bond\n",
        "  brk = (BASE_BOND_BREAK_PROBABILITY) * (LENGTH_FACTOR**(self.get_length()/N))\n",
        "\n",
        "  #keeps track of the number of the total consecutive homochiral bonds\n",
        "  homochiralcount=0 \n",
        "\n",
        "  #check if the east bond is homochiral\n",
        "  if (self.easthomochiralcheck(numbermonomer)):\n",
        "    #if so homochiral count increases by 1\n",
        "    homochiralcount +=1\n",
        "    #brk gets benefited by the poisson distribution of homochiral count \n",
        "    brk *= poissonequation(homochiralcount)\n",
        "\n",
        "    #set j to monomer to right\n",
        "    j = numbermonomer+1\n",
        "\n",
        "    #going right to check for neighboring homochirality\n",
        "    while(self.easthomochiralcheck(j)):\n",
        "      #if homochiral increases count\n",
        "      homochiralcount += 1\n",
        "      #recalculates brk prob\n",
        "      brk *= poissonequation(homochiralcount)\n",
        "\n",
        "      #check next monomer\n",
        "      j += 1\n",
        "\n",
        "    #going left to check for neighboring homochirality\n",
        "    j=numbermonomer-1\n",
        "    homochiralcount = 1\n",
        "    while(self.easthomochiralcheck(j)):\n",
        "      homochiralcount += 1\n",
        "      brk *= poissonequation(homochiralcount)\n",
        "      j -= 1\n",
        "\n",
        "  return brk\n",
        "\n",
        "\n",
        "def reset_break_probability(self, method):\n",
        "    \n",
        "  \"\"\" \n",
        "  resets the break probabilities of the monomers in a \n",
        "  sequence. 1)checks lookup table to see if similar polymer values\n",
        "  have been caluclated, otherwise calculates values and adds\n",
        "  polymer to lookup table 2)sets values to monomers.\n",
        " \n",
        "  \"\"\"\n",
        "  #store self as list of booleans to be added to lookup table\n",
        "  polyseq = self.get_monomers().copy()\n",
        "  for n in range(self.get_length()):\n",
        "    polyseq[n] = polyseq[n].get_handedness()\n",
        "\n",
        "  ##########################\n",
        "  # LEFT/RIGHT SENSITIVITY #\n",
        "  ##########################\n",
        "  # All stored sequences start with True. If the one being requested doesn't, invert so that it does\n",
        "  if not method == \"bias\":\n",
        "    if polyseq[0] == True:\n",
        "      polyseq = [not mono for mono in polyseq]\n",
        "\n",
        "  #make polyseq a tuple able to be added as an index of a dictionary  \n",
        "  polyseq = tuple(polyseq)\n",
        "\n",
        "  # If the sequence is already in the table (dict), retrieves its previously calculated break probabilities\n",
        "  if polyseq in break_prob_lookup_table:\n",
        "    the_probs = break_prob_lookup_table[polyseq]\n",
        "    \n",
        "  else: # Otherwise calculate and add to the lookup table\n",
        "    # Calculate the break probabilities\n",
        "    the_probs = self.calculatebrkprob(method)\n",
        "    #and add it to the lookup table\n",
        "    break_prob_lookup_table[polyseq] = the_probs\n",
        "  #set monomers eastbond brk probs to correlated values stored in the_probs\n",
        "  for n in range (self.get_length()):\n",
        "    self._monomers[n].set_eastbrkprob(the_probs[n])\n",
        "\n",
        "  #end def: polymer break probabilities recalculated and added\n",
        "  #to lookup table (if not already there)\n",
        "\n",
        "def calculatebrkprob(self, method):\n",
        "    \n",
        "  \"\"\"\n",
        "  generates and returns a list of break probabilities for the monomers at each index of\n",
        "  a polymer. This method can be altered to calculate normally\n",
        "  with left/right sensitivity or with a poisson distribution\n",
        "  \n",
        "  Calculation methods: [bias, standard, poisson]\n",
        "\n",
        "  \"\"\"\n",
        "\n",
        "  #initialize brk_probs as an empty list\n",
        "  brk_probs = []\n",
        "  \n",
        "  #checks if polymer is of length one -meaning it is lone monomer\n",
        "  if self.get_length() == 1 :\n",
        "    #if so adds -1 to list(brk prob value assigned to individual monomers)\n",
        "    brk_probs.append(-1)\n",
        "    \n",
        "  else:\n",
        "    #otherwise goes through all the indices of the polymer,calculates its brk probability, and appends it to brk_probs \n",
        "    for n in range(self.get_length()):\n",
        "\n",
        "      #############################################################\n",
        "      #LEFT RIGHT SENSITIVITY/POISSON EQUATIONS CHOICE.           #\n",
        "      #############################################################\n",
        "\n",
        "      if method == \"bias\":\n",
        "        brk_probs.append(self.biaseastbondbreakprobability(n))\n",
        "\n",
        "      elif method == \"standard\":\n",
        "        brk_probs.append(self.eastbondbreakprobability(n))\n",
        "\n",
        "      elif method == \"poisson\":\n",
        "        brk_probs.append(self.poissonbreakprobability(n))\n",
        "\n",
        "      else:\n",
        "        raise ValueError(f\"'{method}' is not a recognized calculation method. Please use one of ['bias', 'standard', 'poisson'].\")\n",
        "\n",
        "\n",
        "  #returns in order list of brk probs for the east bond of all the monomers in a polymer\n",
        "  return brk_probs\n"
      ],
      "execution_count": 33,
      "outputs": []
    },
    {
      "cell_type": "markdown",
      "metadata": {
        "id": "oV4UK3XdkNoF",
        "colab_type": "text"
      },
      "source": [
        "## The Reactables class"
      ]
    },
    {
      "cell_type": "markdown",
      "metadata": {
        "id": "6M112CR6tFmH",
        "colab_type": "text"
      },
      "source": [
        "This is the Reactables class aka the stylish little bag we keep our contestants in. As all good dating shows, we define our members by the relationship they are in. So a single monomer will be addd to the bag alone, but a monomer in a polymer will not be. Rather each polymer will be recorded once. Its like if you have charlie, ben, and jack. Jack and Ben are in a relationship so they are jointly called Jen. If these three were in the reactable bag they would be recognized as two things, charlie and Jen(Ben+JAck). The reactable class is the heart and center of our game- I mean dating- show. Its here we ask all the members just the right questions to get them falling in love and breaking hearts, and then we are curteous enough to do all the splitting and merging for them."
      ]
    },
    {
      "cell_type": "markdown",
      "metadata": {
        "id": "HVY41XQPUjIT",
        "colab_type": "text"
      },
      "source": [
        "### Constructor"
      ]
    },
    {
      "cell_type": "code",
      "metadata": {
        "id": "JAdpBmhBUuGc",
        "colab_type": "code",
        "colab": {}
      },
      "source": [
        "class Reactables:\n",
        "\n",
        "  def __init__(self, reactables = []):\n",
        "    \"\"\"\n",
        "    Constructor class for Reactables object\n",
        "    Accepts list of reactables or defaults to empty list\n",
        "    Reactables functions as a bin for reactable objects monomer and polymer\n",
        "    Methods consist mostly of list handling\n",
        "    \"\"\"\n",
        "    self._reactables = reactables\n",
        "    #The reactables bag also handles remembering its history\n",
        "    self._history = []\n",
        "    #list of the age of the polymers in the reactables bag. \n",
        "    self._agehistory = []\n",
        "    self._lookup = {}\n",
        "    self._hist_stats = pd.DataFrame()\n",
        "\n",
        "\n",
        "\n",
        "  def __str__(self):\n",
        "    \"\"\"\n",
        "    str method for Reactables class\n",
        "    \"\"\"\n",
        "    return str(self.get_reactables())"
      ],
      "execution_count": 34,
      "outputs": []
    },
    {
      "cell_type": "markdown",
      "metadata": {
        "id": "hqD3AL_kUldF",
        "colab_type": "text"
      },
      "source": [
        "### Getters and Setters"
      ]
    },
    {
      "cell_type": "code",
      "metadata": {
        "id": "7hRne9W9U3No",
        "colab_type": "code",
        "colab": {}
      },
      "source": [
        "%%add_to Reactables\n",
        "\n",
        "#################\n",
        "#GETTERS/SETTERS#\n",
        "#################\n",
        "\n",
        "def get_reactables(self):\n",
        "  \"\"\"\n",
        "  Getter method for reactables in Reactables\n",
        "  Returns a list of the objects currently in the Reactables bag\n",
        "  \"\"\"\n",
        "  return self._reactables\n",
        "\n",
        "def get_history(self):\n",
        "  \"\"\" Return the history of the reactables bag.\n",
        "  \"\"\"\n",
        "  return self._history\n",
        "\n",
        "def set_history(self, new_hist):\n",
        "  \"\"\" Set the history to now_hist. \"\"\"\n",
        "  self._history = new_hist\n",
        "\n",
        "#def get_leftrighthistory(self):\n",
        "  #return self._leftrighthistory\n",
        "\n",
        "def get_agehistory(self):\n",
        "  \"\"\"\n",
        "  Getter method for the age history of the reactables bag\n",
        "  \"\"\"\n",
        "  return self._agehistory\n",
        "  \n",
        "def get_count(self):\n",
        "  \"\"\"\n",
        "  Getter method for Reactables class\n",
        "  Returns the number of objects in the Reactables bag\n",
        "  \"\"\"\n",
        "  return len(self.get_reactables()) \n",
        "\n",
        "\n",
        "def set_reactables(self, new_list):\n",
        "  \"\"\"\n",
        "  Setter method for the Reactables class\n",
        "  Sets the reactables bag to a new list\n",
        "  Used mostly as a helper function in bonding\n",
        "  \"\"\"\n",
        "  self._reactables = new_list\n",
        "\n",
        "def set_agehistory(self, newagehistory):\n",
        "  self._agehistory = newagehistory\n",
        "\n",
        "\n",
        "def get_bond_chance(self, reactable1, reactable2):\n",
        "  \"\"\"\n",
        "  Returns the probability that two given reactables in the reactables bag will bond\n",
        "  \"\"\"\n",
        "  return BOND_PROB\n",
        "\n",
        "def get_free_monomers(self):\n",
        "  return [r for r in self.get_reactables() if isinstance(r, Monomer)]\n",
        "\n",
        "def get_polymers(self):\n",
        "  return [r for r in self.get_reactables() if isinstance(r, Polymer)]\n",
        "\n",
        "def get_bound_monomers(self):\n",
        "  bound = []\n",
        "  for p in self.get_polymers():\n",
        "    bound.extend(p.get_monomers())\n",
        "  return bound\n",
        "\n",
        "\n",
        "def get_stats(self):\n",
        "  return self._hist_stats\n",
        "\n",
        "def set_hist_stats(self,df):\n",
        "  self._hist_stats = df\n",
        "\n",
        "def get_lookup(self):\n",
        "  return self._lookup\n",
        "\n",
        "def add_stat_lookup(self, key, value):\n",
        "  self._lookup[key] = value\n",
        "\n",
        "def add_log(self, log):\n",
        "  (self._history).append(log.copy())\n"
      ],
      "execution_count": 35,
      "outputs": []
    },
    {
      "cell_type": "markdown",
      "metadata": {
        "id": "HEFlHyn6UoPU",
        "colab_type": "text"
      },
      "source": [
        "### Functionality methods"
      ]
    },
    {
      "cell_type": "markdown",
      "metadata": {
        "id": "cz4Cis4ze7j6",
        "colab_type": "text"
      },
      "source": [
        "#### Top level functionality"
      ]
    },
    {
      "cell_type": "code",
      "metadata": {
        "id": "UZMHOVm_fDL0",
        "colab_type": "code",
        "colab": {}
      },
      "source": [
        "%%add_to Reactables\n",
        "\n",
        "def refill(self, pool_size):\n",
        "  #Do we have less than the required number of things in the pool?\n",
        "  dearth = pool_size - self.get_count()\n",
        "  #If so,\n",
        "  if dearth > 0:\n",
        "    new = []\n",
        "    #Make as many monomers as we need to get back up to the riquired amount\n",
        "    for n in range(dearth):\n",
        "      new.append(Monomer())\n",
        "    #And add them to the reactables bag\n",
        "    self.add(new)\n",
        "\n",
        "def randomize_reactables(self):\n",
        "  \"\"\"\n",
        "  Randomizes the order of the reactables list\n",
        "  \"\"\"\n",
        "  #Get the current reactables\n",
        "  reactables = self.get_reactables()\n",
        "  #Shuffle them\n",
        "  random.shuffle(reactables)\n",
        "  #And reset the reactables list to the new sorted list\n",
        "  self.set_reactables(reactables)\n",
        "\n",
        "def do_the_thing(self, method):\n",
        "  \"\"\"\n",
        "  Handle a single iteration of the reactables.\n",
        "\n",
        "  \"\"\"\n",
        "  #We keep track of bonding by storing the most recent reactable to choose to bond as the 'bachelor.'\n",
        "  bachelor = None\n",
        "  #We need a copy of the reactables because indices will change as soon as we start doing stuff\n",
        "  reactables = copy.copy(self.get_reactables())\n",
        "  #Iterate through each reactable\n",
        "  for item in reactables:\n",
        "    #Roll a random number in (0,1) to compare against our probabilities\n",
        "    roll = get_rand()\n",
        "    #If our reactable is a monomer...\n",
        "    if isinstance(item, Monomer):\n",
        "      #We get our breaking and bonding chances (parameters now, may become functions later?)\n",
        "      brk = POOF_CHANCE\n",
        "      bond = BOND_PROB\n",
        "      #If we roll to break the monomer\n",
        "      if 0 < roll <= brk:\n",
        "        #Just delete it\n",
        "        del item\n",
        "      #If we roll to bond the monomer\n",
        "      elif brk < roll <= brk+bond:\n",
        "        #Check if there's a reactable waiting to bond\n",
        "        if bachelor == None:\n",
        "          #If not, make this monomer the bachelor. Someone will come along to bond later.\n",
        "          bachelor = item\n",
        "        else:\n",
        "          #If there is someone waiting, bond them together and reset the bachelor chair to empty.\n",
        "          #print(\"I have gone to bonnnnnnddddddd!!!!\")\n",
        "          #print(bachelor)\n",
        "          #print(item)\n",
        "          self.bond_pair(bachelor, item, method)\n",
        "          bachelor= None\n",
        "      else:\n",
        "        continue\n",
        "    #If the reactable is a polymer instead...\n",
        "    elif isinstance(item, Polymer):\n",
        "      #Choose whether the polymer will break or bond. It's 50-50 right now.\n",
        "      if roll >= 0.33:\n",
        "        #This is the same bonding logic as for the monomer. It's not in a helper function because it needs to be able to access bachelor.\n",
        "        if bachelor == None:\n",
        "          bachelor = item\n",
        "        elif (type(bachelor) != Polymer or type(item) != Polymer) and type(item) == type(bachelor) and (FUSION == False):\n",
        "          #print(\"I have gone to bonnnnnnddddddd!!!!\")\n",
        "          #print(bachelor)\n",
        "          #print(item)\n",
        "          self.bond_pair(bachelor, item, method)\n",
        "          bachelor = None\n",
        "        elif FUSION:\n",
        "          self.bond_pair(bachelor,item, method)\n",
        "          bachelor = None\n",
        "      #Here's what happens if the polymer is chosen to check breaking\n",
        "      else:\n",
        "        #It finds its break location\n",
        "        #print(\"I am going to fing my brk location!!!\")\n",
        "        break_spot = item.brkloc()\n",
        "        #Which might turn out to be nowhere.\n",
        "        if break_spot != None:\n",
        "          #If somewhere does break, call break_polymer to handle the breaking\n",
        "          #print(break_spot)\n",
        "          self.break_polymer(item,break_spot,method)\n",
        "    else:\n",
        "      #You never know what might end up in your reactables bag\n",
        "      raise ValueError(\"This thing is neither a monomer or a polymer. What?!\")\n",
        "\n",
        "def iterate(self,size,iteration_number,method):\n",
        "  \"\"\"\n",
        "  Handles full sequence of iteration\n",
        "  \"\"\"\n",
        "  self.randomize_reactables()\n",
        "  self.do_the_thing(method)\n",
        "  self.log(iteration_number)\n",
        "  self.ageup()\n",
        "  #self.record_leftrighthomochiral()\n",
        "  self.refill(size)\n",
        "\n",
        "def simulate(self, poolsize, iterations, method=\"standard\"):\n",
        "  for n in range(iterations):\n",
        "    self.iterate(poolsize, n, method)\n",
        "  self.parse_history()\n"
      ],
      "execution_count": 36,
      "outputs": []
    },
    {
      "cell_type": "markdown",
      "metadata": {
        "id": "ALnPeaUCfhL4",
        "colab_type": "text"
      },
      "source": [
        "#### Functionality helpers"
      ]
    },
    {
      "cell_type": "code",
      "metadata": {
        "id": "hpqCXL48VGTB",
        "colab_type": "code",
        "colab": {}
      },
      "source": [
        "%%add_to Reactables\n",
        "\n",
        "\n",
        "def add(self, new_reactables):\n",
        "  \"\"\"\n",
        "  Adds a list of reactables to the reactables bag\n",
        "  Built on extend(); argument must be iterable\n",
        "  \"\"\"\n",
        "  #print(\"list of new Reactbles\", new_reactables)\n",
        "  #print(\"list of get Reactables:\",self.get_reactables())\n",
        "  self.get_reactables().extend(new_reactables)\n",
        "  #print(\"reactables list is now\",self.get_reactables())\n",
        "\n",
        "\n",
        "def subtract(self, removables):\n",
        "  \"\"\"\n",
        "  Removes a list of reactables from the reactables bag\n",
        "  Built on list comprehension; argument must be iterable\n",
        "  \"\"\"\n",
        "  self.set_reactables([reactable for reactable in self.get_reactables() if not (reactable in removables)])\n",
        "\n",
        "\n",
        "def bond_pair(self, west, east, method):\n",
        "  \"\"\"\n",
        "  Accepts two reactables from the bag\n",
        "  Bonds them together, handling deletion of any emptied polymer\n",
        "  \"\"\"\n",
        "\n",
        "  #this is my attempt to get the ages working properly the idea is:\n",
        "  if type(west) == Polymer and type(east) == Polymer:\n",
        "    print(\"TWWWWOOOOO POLYMERSSSSSS ARE BONNNNDINGNGNGNG\")\n",
        "  #if both are polymers or both are monomers:\n",
        "  if (type(west) == type(east) and type(west) == Polymer):\n",
        "    #set the new age to the maximum age of the polymers\n",
        "    age = max(west.get_age(), east.get_age())\n",
        "  \n",
        "  if (type(west) == type(east) and type(west) == Monomer):\n",
        "    #set age to 0 it is a brand new polymer\n",
        "    age = 0\n",
        "\n",
        "  #if only one is a polymer:\n",
        "  elif isinstance(west, Polymer) and isinstance(east, Monomer):\n",
        "    #set the age to the age of the polymer\n",
        "    age = west.get_age()\n",
        "  elif isinstance(west, Monomer) and isinstance(east, Polymer):\n",
        "    # set the age to the age of the polymer\n",
        "    age = east.get_age()\n",
        "\n",
        "  #Take your two reactables and check if the west one is a monomer or a polymer \n",
        "  if isinstance(west, Polymer):\n",
        "    #If it's a polymer, all you've got to do is append the east item and then take it out of the bag\n",
        "    west.append(east)\n",
        "    self.subtract([east])\n",
        "    #recalculate the breakprobabilities of the bonds in polymer\n",
        "    west.reset_break_probability(method)\n",
        "    #set new polymer to age that was calculated before\n",
        "    west.set_age(age)\n",
        "    #print(\"I have just bonded are we good with my break probs?/?????\")\n",
        "    #print(west)\n",
        "    #brkprobs = []\n",
        "    #for n in range(west.get_length()):\n",
        "      #brkprobs.append(west.get_monomers()[n].get_eastbrkprob())\n",
        "    #print(brkprobs)\n",
        "    #print(\"compared toooo\")\n",
        "    #print(break_prob_lookup_table[tuple(west.get_sequence())])\n",
        "    #print(\"#####################\")\n",
        "\n",
        "  if isinstance(west, Monomer):\n",
        "    #If west friend is a Monomer, then make a new polymer containing west\n",
        "    newpoly = Polymer([west])\n",
        "    #Add the east things to it\n",
        "    newpoly.append(east)\n",
        "    #Remove both the west monomer and the east thing\n",
        "    self.subtract([east])\n",
        "    self.subtract([west])\n",
        "    #And put the new polymer into the reactables bag\n",
        "    self.add([newpoly])\n",
        "    #recalculates break probability\n",
        "    newpoly.reset_break_probability(method)\n",
        "    #set new polymer to age that was calculated before\n",
        "    newpoly.set_age(age)\n",
        "    #print(\"I have just bonded are we good with my break probs?/?????\")\n",
        "    #print(newpoly)\n",
        "    #brkprobs = []\n",
        "    #for n in range(newpoly.get_length()):\n",
        "      #brkprobs.append(newpoly.get_monomers()[n].get_eastbrkprob())\n",
        "    #print(brkprobs)\n",
        "    #print(\"compared toooo\")\n",
        "    #print(break_prob_lookup_table[tuple(newpoly.get_sequence())])\n",
        "    #print(\"#####################\")\n",
        "\n",
        "\n",
        "\n",
        "def break_polymer(self, polymer, brk_location, method):\n",
        "  #breaks polymer at given location and creates a new polymer of the \n",
        "  #monomers removed\n",
        "  #when polymer is made-breakprobabilities are calculated\n",
        "  age = polymer.get_age()\n",
        "  #print(polymer)\n",
        "  newPolymer = Polymer(polymer.removeright(brk_location))\n",
        "  #if(newPolymer._monomers[0].get_handedness() and polymer._monomers[-1].get_handedness()):\n",
        "    #print (\"left breaking when literally impossible????\")\n",
        "  #if(not newPolymer._monomers[0].get_handedness() and not polymer._monomers[-1].get_handedness()):\n",
        "   # print(\"right breaking\")\n",
        "  #print(\"I have broken myself at \")\n",
        "  #print(brk_location)\n",
        "  #print(polymer)\n",
        "  #print(newPolymer)\n",
        "  polys = [newPolymer, polymer]\n",
        "  #resets break probabilities in polymers\n",
        "  #goes throught the two new polymers\n",
        "  for poly in polys:\n",
        "    poly.set_age(age)\n",
        "    #resets break probabilities in polymers\n",
        "    poly.reset_break_probability(method)\n",
        "    #brkprobs = []\n",
        "    #for n in range(poly.get_length()):\n",
        "      #brkprobs.append(poly.get_monomers()[n].get_eastbrkprob())\n",
        "    #print(brkprobs)\n",
        "    #print(\"compared tooooooooo\")\n",
        "    #print(break_prob_lookup_table[tuple(poly.get_sequence())])\n",
        "    #print(\"############################\")\n",
        "    #if poly.get_length()==0:\n",
        "      #print(\"whyyyyyyyyyyy is this happening????\")\n",
        "    #checks if they are of length 1\n",
        "    if poly.get_length() <= 1:\n",
        "      #adds them to reactable as a single monomer\n",
        "      self.add(poly.get_monomers())\n",
        "      #subtracts polymer from reactable list\n",
        "      self.subtract([poly])\n",
        "      del poly\n",
        "    #checks if the polymer is not in the reactables list\n",
        "    elif (poly not in self.get_reactables()):\n",
        "      #add polymer to reactable list\n",
        "      self.add([poly])\n",
        "\n",
        "    \n",
        "\n"
      ],
      "execution_count": 37,
      "outputs": []
    },
    {
      "cell_type": "markdown",
      "metadata": {
        "id": "CmKsCAazVPy_",
        "colab_type": "text"
      },
      "source": [
        "### Current state data methods"
      ]
    },
    {
      "cell_type": "code",
      "metadata": {
        "id": "4FVYtSkYVZ7n",
        "colab_type": "code",
        "colab": {}
      },
      "source": [
        "%%add_to Reactables\n",
        "\n",
        "def get_overall_chirality(self):\n",
        "  \"\"\" Return the total quantity of left- and right-handed monomers in the reactable\n",
        "    pool, including monomers within polymers.\n",
        "\n",
        "  RETURN tuple\n",
        "  (Left-handed_quantity, Right-handed_quantity)\n",
        "  \"\"\"\n",
        "  left_count = 0\n",
        "  right_count = 0\n",
        "  for reactable in self.get_reactables():\n",
        "    if isinstance(reactable, Monomer):\n",
        "      if reactable.get_handedness():\n",
        "        left_count += 1\n",
        "      else:\n",
        "        right_count += 1\n",
        "    elif isinstance(reactable, Polymer):\n",
        "      l, r = reactable.get_chirality()\n",
        "      left_count += l\n",
        "      right_count += r\n",
        "    else:\n",
        "      print(f\"{reactable}, which is a {type(reactable)}\")\n",
        "      raise ValueError\n",
        "  return (left_count, right_count)\n",
        "\n",
        "def get_polymer_chirality(self):\n",
        "  \"\"\" Return the total quantity of left- and right-handed monomers in the polymers\n",
        "  within the reactable pool.\n",
        "\n",
        "  RETURN tuple\n",
        "  (Left-handed_quantity, Right-handed_quantity)\n",
        "  \"\"\"\n",
        "  left_count = 0\n",
        "  right_count = 0\n",
        "  for reactable in self.get_reactables():\n",
        "    if isinstance(reactable, Polymer):\n",
        "      l, r = reactable.get_chirality()\n",
        "      left_count += l\n",
        "      right_count += r\n",
        "  return (left_count, right_count)\n",
        "\n",
        "def get_free_proportion(self):\n",
        "  \"\"\"Return the proportion of free monomers to total population\"\"\"\n",
        "  return len(self.get_free_monomers())/self.unit_count()\n",
        "\n",
        "def unit_count(self):\n",
        "  \"\"\"return the total number of monomers in the bag, both free and bound\"\"\"\n",
        "  bound = 0\n",
        "  for p in self.get_polymers():\n",
        "    bound += p.get_length()\n",
        "  return len(self.get_free_monomers()) + bound\n",
        "\n",
        "def get_polymer_ee(self):\n",
        "  ee = []\n",
        "  for polymer in self.get_polymers():\n",
        "    ee.append(polymer.get_signed_ee())\n",
        "  return ee\n",
        "\n",
        "def avg_ee_by_length(self):\n",
        "  \"\"\" Return a list containing the enantiomeric excess of all reactables sorted by size.\n",
        "  That is:\n",
        "  [(ee of monomers),(ee of 2-mers),(ee of 3-mers) etc]\n",
        "  \"\"\"\n",
        "  output = []\n",
        "  for n in range(1,self.max_length()+1):\n",
        "    group = self.get_reactables_by_length(n)\n",
        "    ees = []\n",
        "    # print(f\"For length {n} I got {len(group)} reactables.\")\n",
        "    if len(group) > 0:\n",
        "      # eestr = \"\"\n",
        "      for r in group:\n",
        "        ees.append(r.get_ee())\n",
        "        # eestr += f\", {r.get_ee()}\"\n",
        "      output.append(np.mean(ees))\n",
        "      # print(f\"The ee's of this length were {eestr}.\\nThe average ee was {np.mean(ees)}.\")\n",
        "    else:\n",
        "      output.append(0)\n",
        "  return output\n",
        "\n",
        "def get_reactables_by_length(self,length):\n",
        "  if length <= 1:\n",
        "    #return the monomers\n",
        "    return self.get_free_monomers()\n",
        "  else:\n",
        "    return [p for p in self.get_polymers() if p.get_length() == length]\n",
        "\n",
        "def max_length(self):\n",
        "  \"\"\" Return the length of the longest polymer in the reactables bag.\n",
        "  \"\"\"\n",
        "  length = 0\n",
        "  for p in self.get_polymers():\n",
        "    if p.get_length() > length:\n",
        "      length = p.get_length()\n",
        "  return length\n",
        "\n",
        "def ageup(self):\n",
        "  \"\"\"\n",
        "  Method that ages up every reactable in the reactables bag\n",
        "  \"\"\"\n",
        "  for reactable in self.get_reactables():\n",
        "    reactable.birthday()\n",
        "    \n",
        "\n",
        "def logagehistory (self):\n",
        "  \"\"\"\n",
        "  Method that logs the age of the molecules in the current iteration. Only logs the polymers ages.\n",
        "  \"\"\"\n",
        "  log = []\n",
        "  #gets all the polymers in an iteration\n",
        "  polymers = self.get_polymers()\n",
        "  #Goes through polymers\n",
        "  for molecule in polymers:\n",
        "    #appends age to log\n",
        "    log.append(molecule.get_age())\n",
        "    #returns log of a list of ages of the polymers of current iteration\n",
        "  return log\n",
        "  \n",
        "\n"
      ],
      "execution_count": 38,
      "outputs": []
    },
    {
      "cell_type": "markdown",
      "metadata": {
        "id": "FVHgjYMhkuri",
        "colab_type": "text"
      },
      "source": [
        "### History handling methods"
      ]
    },
    {
      "cell_type": "code",
      "metadata": {
        "id": "tps6afh4kzUe",
        "colab_type": "code",
        "colab": {}
      },
      "source": [
        "%%add_to Reactables\n",
        "\n",
        "def log(self, iteration):\n",
        "  \"\"\" Translate current reactables into a loggable list of tuples.\n",
        "  This log keeps the full sequences of the polymers without digesting the data, \n",
        "  so it should be more flexible as we more forward with pulling new information\n",
        "  out of this simulation. \n",
        "  There is one major piece of information lost, however, which is the identities\n",
        "  of the individual polymers and monomers. \"\"\"\n",
        "\n",
        "  # Column labels for History Handling #\n",
        "  Type = \"Type\"                   # Monomer or polymer\n",
        "  Length = \"Length\"               # How many monomers in the thing\n",
        "  nLefts = \"#Lefts\"               # How many left monomers in the thing\n",
        "  nRights = \"#Rights\"             # How many right monomers in the thing\n",
        "  Sequence = \"Sequence\"           # The string sequence of the thing\n",
        "  nLhomo = \"#LeftHomochiral\"      # The number of left homochiral bonds in the polymer\n",
        "  nRhomo = \"#RightHomochiral\"     # The number of right homochiral bonds in the polymer\n",
        "  nHomo = \"#Homochiral\"           # The overall number of homochiral bonds in the polymer\n",
        "  sEE = \"Signed ee\"               # The signed enantiomeric excess of the polymer (+ if more True)\n",
        "  pcHomo = \"%Homochirality\"       # The proportion of bonds in the polymer that are homochiral\n",
        "  pcLhomo = \"%LeftHomochirality\"  # The proportion of bonds in the polymer that are left homochiral\n",
        "  pcRhomo = \"%RightHomochirality\" # The proportion of bonds in the polymer that are right homochiral\n",
        "  Iter = \"Iteration\"              # The iteration number at which the item is found\n",
        "  Age = \"Age\"                     # The age of the item\n",
        "\n",
        "\n",
        "  for r in self.get_reactables():\n",
        "    item = r.get_sequence()\n",
        "    age = r.get_age()\n",
        "    # Translate\n",
        "    sequence = self.standard_form(item)\n",
        "\n",
        "    #Is it in the lookup table?\n",
        "    if sequence not in self.get_lookup():\n",
        "\n",
        "      # If not, check what kind of data to gether\n",
        "      if len(item) == 1: # It's a monomer\n",
        "        # Get the info\n",
        "        lr = self.count_LR(item)\n",
        "        # And put it in the lookup table\n",
        "        self.add_stat_lookup(sequence, {Type: 'Monomer', \n",
        "                                        Length:1, \n",
        "                                        nLefts:lr[0], \n",
        "                                        nRights:lr[1],\n",
        "                                        Sequence:sequence})\n",
        "      elif len(item) > 1: # It's a polymer\n",
        "        # Get basic info\n",
        "        length = len(item)\n",
        "        lr = self.count_LR(item)\n",
        "        bonds = self.homochiral_bond_counts(item)\n",
        "        total_homos = bonds[0]+bonds[1]\n",
        "        signed_ee = (lr[0]-lr[1])/(lr[0]+lr[1])\n",
        "        homochirality = total_homos/(length-1)\n",
        "        lhomochirality = bonds[0]/(length-1)\n",
        "        rhomochirality = bonds[1]/(length-1)\n",
        "        # And put it in the lookup table\n",
        "        self.add_stat_lookup(sequence, {Type: 'Polymer', \n",
        "                                        Length: length, \n",
        "                                        nLefts:lr[0], \n",
        "                                        nRights:lr[1],\n",
        "                                        nLhomo:bonds[0],\n",
        "                                        nRhomo:bonds[1],\n",
        "                                        nHomo:total_homos,\n",
        "                                        sEE:signed_ee,\n",
        "                                        pcHomo:homochirality,\n",
        "                                        pcLhomo:lhomochirality,\n",
        "                                        pcRhomo:rhomochirality,\n",
        "                                        Sequence:sequence})\n",
        "      else:\n",
        "        raise ValueError(\"There's something with length 0 in your history.\")\n",
        "\n",
        "    # Now that the data is searchable...\n",
        "    # Log it\n",
        "    new_log = self.get_lookup().get(sequence)\n",
        "    new_log[Iter] = iteration\n",
        "    new_log[Age] = age\n",
        "    self.add_log(new_log)\n",
        "\n",
        "\n",
        "def parse_history(self):\n",
        "  \"\"\" Create an array of plottable information from the history log. \"\"\"\n",
        "  parsed_hist = pd.DataFrame(self.get_history())\n",
        "  self.set_hist_stats(parsed_hist)\n"
      ],
      "execution_count": 39,
      "outputs": []
    },
    {
      "cell_type": "markdown",
      "metadata": {
        "id": "UkZ1_7xIy0Yd",
        "colab_type": "text"
      },
      "source": [
        "#### Low level info functions"
      ]
    },
    {
      "cell_type": "code",
      "metadata": {
        "id": "qJQfgfeSy5Me",
        "colab_type": "code",
        "colab": {}
      },
      "source": [
        "%%add_to Reactables\n",
        "\n",
        "## New ones ##\n",
        "\n",
        "  \n",
        "# Functions for getting the info we want to log\n",
        "    \n",
        "# Number of right and left monomers in a polymer (works on monomers too)\n",
        "\n",
        "\n",
        "def count_LR(self, log):\n",
        "    \"\"\" Return (n_Lefts, n_Rights) \"\"\"\n",
        "    if L and not R:\n",
        "        return (sum(log), len(log)-sum(log))\n",
        "    elif R and not L:\n",
        "        return (len(log)-sum(log), sum(log))\n",
        "    else:\n",
        "        raise ValueError(\"Your L's and R's are screwed up somehow.\")\n",
        "    \n",
        "\n",
        "\n",
        "# HOMOCHIRALITY SEQUENCES #\n",
        "\n",
        "def homochirality_sequence(self, log):\n",
        "  \"\"\" Return a boolean list of bonds within a given logged polymer, True if the bond is\n",
        "      homochiral. \"\"\"\n",
        "  return [i[0]==i[1] for i in list(more_itertools.pairwise(log))]\n",
        "\n",
        "def _is_L_True(self, log):\n",
        "    return log[:-1]\n",
        "\n",
        "\n",
        "def T_homochirality_sequence(self,h_seq,L_seq):\n",
        "    \"\"\" Return a boolean list of bonds within a polymer, true if the bond is \n",
        "    a homochiral bond between two True monomers. Parameters are the outputs of \n",
        "    homochirality_sequence() and _is_L_True(). \"\"\"\n",
        "    return eAnd(h_seq,L_seq)\n",
        "\n",
        "# HOMOCHIRAL BOND COUNTS #\n",
        "    \n",
        "\n",
        "def homochiral_bond_counts(self,log):\n",
        "    \"\"\" Return (number of left homochiral bonds, number of right homochiral bonds) \"\"\"\n",
        "    homo = self.homochirality_sequence(log)\n",
        "    west_true = log[:-1]\n",
        "    true_homochiral = eAnd(homo,west_true)\n",
        "    west_false = [not m for m in west_true]\n",
        "    false_homochiral = eAnd(homo,west_false)\n",
        "    if L and not R:\n",
        "        return (sum(true_homochiral), sum(false_homochiral))\n",
        "    elif R and not L: \n",
        "        return (sum(false_homochiral), sum(true_homochiral))\n",
        "    else:\n",
        "        raise ValueError(\"Your L's and R's are screwed up somehow.\")\n",
        "\n",
        "\n",
        "def get_polymer_chain_lengths(self,polylog):\n",
        "  \"\"\" Return the lengths of the homochiral chains in a given polymer log. \"\"\"\n",
        "  count = 1\n",
        "  lengths = [] \n",
        "  for n in range(1,len(polylog)):\n",
        "    if polylog[n] == polylog[n-1]:\n",
        "      count += 1\n",
        "    else:\n",
        "      lengths.append(count)\n",
        "      count = 1\n",
        "  lengths.append(count)\n",
        "  return lengths\n",
        "    \n",
        "\n",
        "def standard_form(self,poly):\n",
        "  if len(poly) == 0:\n",
        "    return ''\n",
        "  return ''.join(['L' if m else 'R' for m in poly])\n",
        "    \n",
        "\n",
        "\n",
        "\n",
        "## Old ones ##\n",
        "\n",
        "def hist_get_polymer_homochirality_of_bonds(self,polylog):\n",
        "  \"\"\" Return a boolean list of bonds within a given logged polymer, True if the bond is\n",
        "      homochiral. \"\"\"\n",
        "  return [i[0]==i[1] for i in list(more_itertools.pairwise(polylog))]\n",
        "\n",
        "def hist_get_polymer_ee(self,polylog):\n",
        "  \"\"\" Return the (signed) enantiomeric excess of a logged polymer. \"\"\"\n",
        "  length = len(polylog)\n",
        "  n_True = sum(polylog)\n",
        "  n_False = length - n_True\n",
        "  return (n_True - n_False) / length\n",
        "\n",
        "def hist_get_polymers(self,iteration):\n",
        "  \"\"\" Return a list of the polymer logs in an iteration. This is just the iteration\n",
        "  but without the monomers. \"\"\"\n",
        "  return [r for r in iteration if len(r) > 1]\n",
        "\n",
        "def hist_count_longest_homochiral_chain(self,polylog):\n",
        "  \"\"\" Return the length of the longest homochiral chain given the log of a polymer. \"\"\"\n",
        "  previous = None\n",
        "  count = 1\n",
        "  longest = 1\n",
        "  for monomer in polylog:\n",
        "    if monomer == previous:\n",
        "      count += 1\n",
        "    else:\n",
        "      longest = max(count, longest)\n",
        "      count = 1\n",
        "    previous = monomer\n",
        "  longest = max(count, longest)\n",
        "  return longest\n",
        "\n",
        "def hist_get_polymer_chain_lengths(self,polylog):\n",
        "  \"\"\" Return the lengths of the homochiral chains in a given polymer log. \"\"\"\n",
        "  count = 1\n",
        "  lengths = [] \n",
        "  for n in range(1,len(polylog)):\n",
        "    if polylog[n] == polylog[n-1]:\n",
        "      count += 1\n",
        "    else:\n",
        "      lengths.append(count)\n",
        "      count = 1\n",
        "  lengths.append(count)\n",
        "  return lengths\n",
        "\n",
        "def hist_get_iteration_chain_lengths(self,iteration):\n",
        "  \"\"\" Return the lengths of all the homochiral chains in polymers in a given iteration. \"\"\"\n",
        "  polymers = self.hist_get_polymers(iteration)\n",
        "  chain_lengths = []\n",
        "  for polymer in polymers:\n",
        "    chain_lengths.extend(self.hist_get_polymer_chain_lengths(polymer))\n",
        "  return chain_lengths\n",
        "\n",
        "# Other new ones #\n",
        "\n",
        "def hist_get_leftright_homochiral_count_iteration(self,iteration):\n",
        "  \"\"\"\n",
        "  returns a tuple (l,r)of the total number of left homochiral bonds and right homochiral bonds in an iteration \n",
        "  \"\"\"\n",
        "  #initilize l to keep track of the number of homochiral bonds\n",
        "  l=0\n",
        "  #initilize r to keep track of the number of homochiral bonds\n",
        "  r=0\n",
        "\n",
        "  #run through reactables in the iteration\n",
        "  for reactable in iteration:\n",
        "     #add the left homochiral bond count in each reactable\n",
        "     l += self.hist_get_leftright_homochiral_count_polymer(reactable)[0]\n",
        "     #add the right homochiral bond count in each reactable\n",
        "     r += self.hist_get_leftright_homochiral_count_polymer(reactable)[1]\n",
        "\n",
        "  #place l and r in a tuple\n",
        "  leftrightcount=(l,r)\n",
        "\n",
        "  #return the tuple\n",
        "  return leftrightcount\n",
        "\n",
        "def hist_get_leftright_homochiral_count_polymer(self,polymer):\n",
        "  \"\"\"\n",
        "  returns a tuple (l,r)of the total number of left homochiral bonds and right homochiral bonds in an polymer \n",
        "  \"\"\"\n",
        "\n",
        "  #initialize l to keep track of the number of left homochiral bonds\n",
        "  l=0\n",
        "  #initialize r to keep trac of the number of right homochiral bonds\n",
        "  r=0\n",
        "\n",
        "  #go through the monomers in the polymer\n",
        "  for monomer in range(len(polymer)-1):\n",
        "\n",
        "      #check if they are homochiral\n",
        "        if (polymer[monomer]== polymer[monomer+1]):\n",
        "          #if so check if they are homochiral left\n",
        "          if (polymer[monomer]):\n",
        "            #if so add one to l\n",
        "            l += 1\n",
        "          #otherwise check if they are homochiral right\n",
        "          elif (not polymer[monomer]):\n",
        "            #if so add one to r\n",
        "            r += 1\n",
        "  #place l and r in a tuple\n",
        "  leftrightcount= (l,r)\n",
        "  #return the tuple\n",
        "  return leftrightcount\n",
        "\n",
        "def hist_get_bond_status(self,polylog):\n",
        "  \"\"\" Iterate through the monomers in polylog ONCE to get number of left homochiral\n",
        "  and right homochiral bonds, as well as chain lengths if at all possible. \"\"\"\n",
        "  for m in polylog:\n",
        "    pass\n"
      ],
      "execution_count": 40,
      "outputs": []
    },
    {
      "cell_type": "markdown",
      "metadata": {
        "id": "WdlB4JOXUq9i",
        "colab_type": "text"
      },
      "source": [
        "### Plotting methods"
      ]
    },
    {
      "cell_type": "code",
      "metadata": {
        "id": "czdjDAVBPpQI",
        "colab_type": "code",
        "colab": {}
      },
      "source": [
        "%%add_to Reactables\n",
        "\n",
        "def visualize_parameters(self,stamp=\"\"):\n",
        "  fig,ax = plt.subplots()\n",
        "\n",
        "  parameters = ['POOF_CHANCE','BOND_PROB','BASE_BOND_BREAK_PROBABILITY',\n",
        "                'HOMOCHIRAL_BREAK_FACTOR','HOMOCHIRAL_NEIGHBOR_IMPROV_FACTOR',\n",
        "                'LENGTH_FACTOR','HOMOCHIRAL_BREAK_FACTOR_LEFT',\n",
        "                'HOMOCHIRAL_BREAK_FACTOR_RIGHT',\n",
        "                'HOMOCHIRAL_NEIGHBOR_IMPROV_FACTOR_LEFT',\n",
        "                'HOMOCHIRAL_NEIGHBOR_IMPROV_FACTOR_RIGHT']\n",
        "  values = [POOF_CHANCE,BOND_PROB,BASE_BOND_BREAK_PROBABILITY,\n",
        "            HOMOCHIRAL_BREAK_FACTOR,HOMOCHIRAL_NEIGHBOR_IMPROV_FACTOR,\n",
        "            LENGTH_FACTOR,HOMOCHIRAL_BREAK_FACTOR_LEFT,\n",
        "            HOMOCHIRAL_BREAK_FACTOR_RIGHT,\n",
        "            HOMOCHIRAL_NEIGHBOR_IMPROV_FACTOR_LEFT,\n",
        "            HOMOCHIRAL_NEIGHBOR_IMPROV_FACTOR_RIGHT]\n",
        "\n",
        "  ypos = np.arange(len(parameters))\n",
        "\n",
        "  ax.barh(ypos, values, align='center')\n",
        "  ax.set_yticks(ypos)\n",
        "  ax.set_yticklabels(parameters)\n",
        "  ax.invert_yaxis()  # labels read top-to-bottom\n",
        "  ax.set_xlabel('Value')\n",
        "  ax.set_title(f\"{stamp}Parameter values\")\n",
        "\n",
        "\n",
        "\n",
        "def plot_signed_ee_spread(self,cmap='bone',stamp=\"\"):\n",
        "  #First make the polymerspread thingy\n",
        "  poly_ee_hist = []\n",
        "  for iteration in self.get_history():\n",
        "    polys = [log for log in iteration if not isinstance(log,bool)]\n",
        "    polydata = [log for log in polys if len(log) > 1] # All the polymers (not monomers) in the iteration\n",
        "    poly_ees = [self.hist_get_polymer_ee(poly) for poly in polydata] # the EE of each polymer in the iteration\n",
        "    poly_ee_hist.append(poly_ees) # Put the EE list in our plottable structure\n",
        "  #Now we can make the plot\n",
        "  fig,ax = plt.subplots()\n",
        "  ys = []\n",
        "  xs = []\n",
        "  for n in range(len(poly_ee_hist)):\n",
        "    y = poly_ee_hist[n]\n",
        "    x = [n] * len(y)\n",
        "    ys.extend(y)\n",
        "    xs.extend(x)\n",
        "  ax.hexbin(xs,ys,cmap=cmap)\n",
        "  ax.set_title(f\"{stamp}polymer spread\")\n",
        "  ax.set_xlabel(\"iteraions\")\n",
        "  ax.set_ylabel(\"ee\")\n",
        "\n",
        "def plot_ee_heatmap(self,cmap='bone',stamp=\"\"):\n",
        "  #Need to figure out how to get ees_by_length from history\n",
        "  ees_by_length = []\n",
        "  for iteration in self.get_history():\n",
        "    ee_data = []\n",
        "    #get the polymers\n",
        "    polys = [log for log in iteration if not isinstance(log,bool)]\n",
        "    #get the length of the longest polymer\n",
        "    lengths = [len(log) for log in polys]\n",
        "    try:\n",
        "      biggest = max(lengths)\n",
        "    except:\n",
        "      biggest = 0\n",
        "    for n in range(1,biggest+1):\n",
        "      ees = [abs(self.hist_get_polymer_ee(log)) for log in polys if len(log) == n]\n",
        "      if len(ees) > 0:\n",
        "        ee_data.append(np.mean(ees))\n",
        "      else:\n",
        "        ee_data.append(0)\n",
        "    ees_by_length.append(ee_data)\n",
        "  #Need to make a new ee array with rectangular dimensions\n",
        "  ee = numpy_fillna(ees_by_length)\n",
        "  fig,ax = plt.subplots(dpi=150)\n",
        "  im = ax.imshow(ee,cmap=cmap)\n",
        "  ax.set_title(f\"{stamp}ee of polymers by length through iterations\")\n",
        "  ax.set_xlabel(\"polymer lengths\")\n",
        "  ax.set_ylabel(\"iterations\")\n",
        "  fig.tight_layout()\n",
        "  plt.show()\n",
        "\n",
        "def plot_leftrighthomochirality(self):\n",
        "  \"\"\"\n",
        "  Plot the percent of bonds that are left homochiral and right homochiral in each iteration\n",
        "  \"\"\"\n",
        " #make list to hold the number of left bonds\n",
        "  L=[]\n",
        " #make list to hold the number of right bonds\n",
        "  R=[]\n",
        " #make list to hold the number of iteration\n",
        "  x=[]\n",
        " #integer to keep track of iterations\n",
        "  i=1\n",
        "\n",
        " #work through history of reactables bag\n",
        "  for iteration in self.get_history():\n",
        "\n",
        "    #get the left right homochiral count in the iteration(returned as a tuple)\n",
        "    leftrightcount=self.hist_get_leftright_homochiral_count_iteration(iteration)\n",
        "\n",
        "    #initiate bonds as 0 to keep track of total number of bonds in the iteration\n",
        "    bonds = 0\n",
        "\n",
        "    #work through the polymers in iteration\n",
        "    for polymer in self.hist_get_polymers(iteration):\n",
        "      #add all the bonds in the a polymer to the total number of bonds\n",
        "      bonds += len(polymer)- 1\n",
        "\n",
        "    #to avoid a divide by zero error\n",
        "    if bonds == 0:\n",
        "      #just append 0 to L and R\n",
        "      L.append(0)\n",
        "      R.append(0)\n",
        "    else: # append percent left homochiral bonds and percent which are right homochiral bonds\n",
        "      L.append(leftrightcount[0]/bonds)\n",
        "      R.append(leftrightcount[1]/bonds)\n",
        "    #append the iteration to x\n",
        "    x.append(i)\n",
        "    #increment the iteration tracker\n",
        "    i+=1\n",
        "  \n",
        "  #Plot the data\n",
        "  plt.figure() \n",
        "  plt.plot(x,L,label=\"left homochiral\")\n",
        "  plt.plot(x,R,label=\"right homochiral\")\n",
        "  plt.ylabel(\"percentage of total bonds in the pool\")\n",
        "  plt.xlabel(\"Iterations\")\n",
        "  plt.title(\"Peercent of bonds in an iteration that are left or right homochiral \")\n",
        "  plt.legend()\n",
        "  plt.show()\n",
        "\n",
        "def plot_homochiral_chain_lengths(self):\n",
        "  \"\"\" Plot a chart of the mean length of homochiral chains present at each iteration.\n",
        "  The plot generated will attempt to summarize the mean lengths of homochiral\n",
        "  chains within polymers across iterations. It will also attempt to visualize the \n",
        "  varience with continuous lines plotting the standard deviation around that mean.\n",
        "  \n",
        "  The x axis of the resulting plot is iterations, and the y axis is length of \n",
        "  the homochiral chains. Both of these are discrete categories, but the plot will\n",
        "  treat iterations as continuous to improve readability for large n.\n",
        "  \"\"\"\n",
        "  # Get the history and read it \n",
        "  history = self.get_history()\n",
        "  means = []\n",
        "  stdevs= []\n",
        "  maxes = []\n",
        "  for iteration in history:\n",
        "    # Get the chain lengths in that iteration\n",
        "    iter_data = self.hist_get_iteration_chain_lengths(iteration)\n",
        "    if iter_data == []:\n",
        "      means.append(0)\n",
        "      stdevs.append(0)\n",
        "      maxes.append(0)\n",
        "      #print(\"this happened in this iteration???whyyyyyyyyyyyyy\")\n",
        "      #print (iteration)\n",
        "      #print (iter_data)\n",
        "    else:\n",
        "      means.append(np.mean(iter_data))\n",
        "      stdevs.append(np.std(iter_data))\n",
        "      maxes.append(max(iter_data))\n",
        "  # Plot those data\n",
        "  fig,ax = plt.subplots()\n",
        "  ax.fill_between(np.arange(0,len(means)), [m + s for m, s in zip(means, stdevs)],[m - s for m, s in zip(means, stdevs)], alpha=0.2, label = \"Means +- one standard deviation\")\n",
        "  ax.plot(means, 'k-', label = \"Mean homochiral chain length\")\n",
        "  ax.plot(maxes, 'b.', label = \"Max homochiral chain length\")\n",
        "  ax.set_xlabel(\"Iteration\")\n",
        "  ax.set_ylabel(\"Homochiral chain length\")\n",
        "  ax.legend()\n",
        "\n",
        "def plot_homochirality_vs_length(self):\n",
        "  \"\"\" Take all the polymers that ever existed in history and plot them on a\n",
        "  scatter plot of length vs homochirality. Homochirality is the percent of their\n",
        "  bonds that are homochiral. \"\"\"\n",
        "  #Get the history\n",
        "  history = self.get_history()\n",
        "  #Get the polymers\n",
        "  x = []\n",
        "  y = []\n",
        "  for i in history:\n",
        "    for p in self.hist_get_polymers(i):\n",
        "      homochirality = sum(self.hist_get_polymer_homochirality_of_bonds(p))/len(p)\n",
        "      x.append(len(p))\n",
        "      y.append(homochirality)\n",
        "  fig,ax = plt.subplots()\n",
        "  ax.scatter(x,y)\n",
        "  ax.set_xlabel(\"Polymer lengths\")\n",
        "  ax.set_ylabel(\"Homochirality\")\n",
        "\n",
        "def plot_age_vs_homochirality_leftright(self):\n",
        "  \"\"\"\n",
        "  Make a plot showing the age of a polymer vs the percent of its bonds that are \n",
        "  left homochiral(shown in negative numbers) and right homochiral\n",
        "\n",
        "  \"\"\"\n",
        "  #l is a list to hold the percent of bonds that are left homochiral in a polymer\n",
        "  l=[]\n",
        "  #r is a list to hold the percent of bonds that are right homochiral in a polymer\n",
        "  r=[]\n",
        "  #x is a list that holds the ages of the polymers\n",
        "  x=[]\n",
        "\n",
        "  #go through the age history in each iteration\n",
        "  for iteration in self.get_agehistory():\n",
        "    #go through each reactable in an iteration(only polymers are present in the age history)\n",
        "    for reactable in iteration:\n",
        "      #add age to the x\n",
        "      x.append(reactable)\n",
        "  #go through the general history\n",
        "  for iteration in self.get_history():\n",
        "    #go through the reactables in the iteration\n",
        "    for reactable in iteration:\n",
        "      #only look at the polymers\n",
        "      if len(reactable) > 1:\n",
        "        #get the number of left and number of right homochiral bonds in the polymer\n",
        "        leftrightcount = self.hist_get_leftright_homochiral_count_polymer(reactable)\n",
        "        #add the left and right count as a percentage of the total number of bonds in the reactable\n",
        "        l.append((leftrightcount[0])/(len(reactable)-1))\n",
        "        r.append(-1 * (leftrightcount[1])/(len(reactable)-1))\n",
        "  #Plot the data\n",
        "  plt.figure()\n",
        "  plt.scatter(x,l, label = \"left\")\n",
        "  plt.scatter(x,r, label=\"right\")\n",
        "  plt.xlabel(\"age\")\n",
        "  plt.ylabel(\"signed percent of bonds that are homochiral\")\n",
        "  plt.legend()\n",
        "  plt.show()\n",
        "\n",
        "def plot_age_vs_homochirality_ee(self):\n",
        "  \"\"\" \n",
        "  Make a plot of the ages of a polymer vs the homochirality of the reactable. No left right sensitivity\n",
        "  \"\"\"\n",
        "  #x keeps track of the ages of the polymers\n",
        "  x=[]\n",
        "  #y keeps track of the enantiomeric excess of the polymers\n",
        "  y=[]\n",
        "  #go through iteration of age history\n",
        "  for iteration in self.get_agehistory():\n",
        "    #go through every reactable in the iteration\n",
        "    for reactable in iteration:\n",
        "      #add age to the list\n",
        "      x.append(reactable)\n",
        "  #go through the general history\n",
        "  for iteration in self.get_history():\n",
        "    #go through the reactables in the iterations\n",
        "    for reactable in iteration:\n",
        "      #only go through the polymers\n",
        "      if len(reactable) > 1:\n",
        "        #append the enantiomeric excess of the polymer\n",
        "        y.append(abs(self.hist_get_polymer_ee(reactable)))\n",
        "  #plot the data\n",
        "  plt.figure()\n",
        "  plt.scatter(x,y)\n",
        "  plt.xlabel(\"age\")\n",
        "  plt.ylabel(\"polymer_ee\")\n",
        "  plt.show()\n",
        "\n",
        "def plot_age_vs_length(self):\n",
        "  \"\"\"\n",
        "  Make a plot of the age of a reactable vs the length of the total homochiral \n",
        "  chains vs and the total nonhomochiral chains in the molecule.\n",
        "  \"\"\"\n",
        "  plt.figure()\n",
        "  z =[]\n",
        "  #x keeps track of the ages of the reactables\n",
        "  x= []\n",
        "  y =[]\n",
        "  ages = self.get_agehistory()\n",
        "  #go through the iterations of the age history\n",
        "  for iteration in self.get_agehistory():\n",
        "    #go through the reactables in the iteration\n",
        "    for reactable in iteration:\n",
        "      #add the age of the reactable to the list\n",
        "      x.append(reactable)\n",
        "\n",
        "  #go through the iterations of the general history\n",
        "  for iteration in self.get_history():\n",
        "    #go through the reactables of the iteration\n",
        "    for reactable in iteration:\n",
        "      #only go through the polymers \n",
        "      if len(reactable) > 1 :\n",
        "        #get a list of the lengths of the homochiral chain lengths in the polymer\n",
        "        homochiralchainlengths =self.hist_get_polymer_chain_lengths(reactable)\n",
        "        #go through the chain lengths \n",
        "        for n in homochiralchainlengths: \n",
        "          #Remove those that are of length one or less\n",
        "          if n < 2:\n",
        "            homochiralchainlengths.remove(n) \n",
        "        \n",
        "        number =sum(homochiralchainlengths)/(len(reactable))\n",
        "       # y.append(len(reactable) - number)\n",
        "        z.append(number) \n",
        "  plt.figure()\n",
        " # plt.scatter(x,y, label= \"of reactable\") \n",
        "  plt.scatter(x,z)\n",
        "  plt.xlabel(\"age\")\n",
        "  plt.ylabel(\"percent homochiral chain\")\n",
        "  plt.show()\n",
        "\n",
        "def plot_homochiral_lengths_vs_poisson(self):\n",
        "  \"\"\"\n",
        "  This graph visualizes the frequency of homochiral chain lengths in the history of the reactable bag.\n",
        "  It graphs the frequency of different homochiral lengths in the bag vs the poisson distribution. \n",
        "  Do factor in liklihood that these  molecules will form, the frequencies are increased by a \n",
        "  factor of thenumber of bonds they have to account for the fact that having more bonds, is less likely. \n",
        "  \"\"\"\n",
        "  #create a dictionary to track the frequency of each length of a certain homochiral bond\n",
        "  lengths = {}\n",
        "  #x is a list of the lengths to go on the x axis\n",
        "  x=[]\n",
        "  #y is a frequency to go on y axis\n",
        "  y=[]\n",
        "  #p is to store values for a length\n",
        "  p=[]\n",
        "\n",
        "  #go through the iterations of general history\n",
        "  for iteration in self.get_history():\n",
        "    #go through the reactables of the iterations\n",
        "    for reactable in iteration:\n",
        "      #go through the polymers\n",
        "      if len(reactable) >1: \n",
        "        #if so return a list  of the lenghts of the homochiral chains in the polymer\n",
        "        for n in self.hist_get_polymer_chain_lengths(reactable):\n",
        "          #only include the lengths that are greater than one\n",
        "          if n > 1:\n",
        "            #if the length is already in the dictiionary\n",
        "            if n in lengths:\n",
        "            #add one to its frequnency\n",
        "              lengths[n] += 1\n",
        "            else:#otherwise add it to the dictionay with a frequency of occurence of 1\n",
        "              lengths[n] = 1\n",
        "    #go through all of the recorded lengths\n",
        "  for n in lengths:\n",
        "    #the raise the frequency of them to a factor of the number of bonds in them, to\n",
        "    #account for the decreased liklihood of occuring as the length increases that does not\n",
        "    #have to do with homochirality\n",
        "    number = (lengths[n]/len(self.get_history()))**((n/2)-1)\n",
        "    #add the recalculated frequencied to the dictionaru\n",
        "    lengths[n] = number\n",
        "    #append the frequency to the y\n",
        "    y.append(lengths[n])\n",
        "    #append the lenght to x\n",
        "    x.append(n)\n",
        "    #plot the data\n",
        "  plt.figure()\n",
        "  #plot x and y together before sorting x\n",
        "  plt.bar(x,y, label = \"Homichiral lengths\")\n",
        "  #sort x so that it is in numerical order\n",
        "  x.sort()\n",
        "  #go through the lengths stored in x and calculate the poisson value for the length\n",
        "  #and append this to list p \n",
        "  #multiply the values by 1000 so that they appear nicely on graph with frequencies\n",
        "  for n in x:\n",
        "    p.append(1000* poissonequation(n))\n",
        "  #plot x vs p\n",
        "  plt.plot(x,p,label = \"poisson equation\", color = 'orange')\n",
        "  plt.xlabel(\"length\")\n",
        "  plt.ylabel(\"frequency\")\n",
        "  plt.title(\"Lambda =\" + str(LAMBDA))\n",
        "  plt.legend()\n",
        "  plt.show()\n",
        "\n",
        "def visualizebrkprobs(self):\n",
        "  a = Monomer(hand = True)\n",
        "  b = Polymer(monomers = [a])\n",
        "  c = Monomer(hand = False)\n",
        "  d = Polymer(monomers = [c])\n",
        "  x = []\n",
        "  y = []\n",
        "  method = []\n",
        "  length=[]\n",
        "  for n in range(30):\n",
        "    for z in range(b.get_length()-1):\n",
        "      y.append(b.eastbondbreakprobability(z))\n",
        "      method.append(\"Normal\")\n",
        "      x.append(z+1)\n",
        "      length.append(b.get_length())\n",
        "      y.append(b.poissonbreakprobability(z))\n",
        "      method.append(\"poisson\")\n",
        "      length.append(b.get_length())\n",
        "      x.append(z+1)\n",
        "      y.append(b.biaseastbondbreakprobability(z))\n",
        "      method.append(\"left\")\n",
        "      length.append(b.get_length())\n",
        "      x.append(z+1)\n",
        "      y.append(d.biaseastbondbreakprobability(z))\n",
        "      method.append(\"right\")\n",
        "      x.append(z+1)\n",
        "      length.append(b.get_length())\n",
        "    monomer = Monomer(hand = True)\n",
        "    b.append(monomer)\n",
        "    monomer = Monomer(hand = False)\n",
        "    d.append(monomer)\n",
        "  data = {'NumberMonomer':  x,\n",
        "      'HomochiralChainLength': length, 'Breakprob': y, 'Method': method}\n",
        "  df = pd.DataFrame(data, columns = ['NumberMonomer',\n",
        "      'HomochiralChainLength', 'Breakprob', 'Method'])\n",
        "  fig = go.Figure()\n",
        "\n",
        "  fig = px.scatter(df, x=\"NumberMonomer\", y=\"Breakprob\", animation_frame=\"HomochiralChainLength\",\n",
        "          size = \"HomochiralChainLength\", color=\"Method\", hover_name=\"Method\", range_x=[0,30], range_y=[-0.2,1.2], title = \"Brk Probs of Homochiral chain\")\n",
        "  fig.show()\n",
        "\n",
        "\n",
        "        \n",
        "\n",
        "\n",
        "\n",
        "    \n",
        "\n",
        "\n",
        "  \n"
      ],
      "execution_count": 50,
      "outputs": []
    },
    {
      "cell_type": "markdown",
      "metadata": {
        "id": "DdqK65C-8cpi",
        "colab_type": "text"
      },
      "source": [
        "# Dashboard"
      ]
    },
    {
      "cell_type": "code",
      "metadata": {
        "id": "WovDYlF3eodD",
        "colab_type": "code",
        "colab": {
          "resources": {
            "http://localhost:8080/nbextensions/google.colab/tabbar.css": {
              "data": "Lmdvb2ctdGFie3Bvc2l0aW9uOnJlbGF0aXZlO3BhZGRpbmc6NHB4IDhweDtjb2xvcjojMDBjO3RleHQtZGVjb3JhdGlvbjp1bmRlcmxpbmU7Y3Vyc29yOmRlZmF1bHR9Lmdvb2ctdGFiLWJhci10b3AgLmdvb2ctdGFie21hcmdpbjoxcHggNHB4IDAgMDtib3JkZXItYm90dG9tOjA7ZmxvYXQ6bGVmdH0uZ29vZy10YWItYmFyLXRvcDphZnRlciwuZ29vZy10YWItYmFyLWJvdHRvbTphZnRlcntjb250ZW50OiIgIjtkaXNwbGF5OmJsb2NrO2hlaWdodDowO2NsZWFyOmJvdGg7dmlzaWJpbGl0eTpoaWRkZW59Lmdvb2ctdGFiLWJhci1ib3R0b20gLmdvb2ctdGFie21hcmdpbjowIDRweCAxcHggMDtib3JkZXItdG9wOjA7ZmxvYXQ6bGVmdH0uZ29vZy10YWItYmFyLXN0YXJ0IC5nb29nLXRhYnttYXJnaW46MCAwIDRweCAxcHg7Ym9yZGVyLXJpZ2h0OjB9Lmdvb2ctdGFiLWJhci1lbmQgLmdvb2ctdGFie21hcmdpbjowIDFweCA0cHggMDtib3JkZXItbGVmdDowfS5nb29nLXRhYi1ob3ZlcntiYWNrZ3JvdW5kOiNlZWV9Lmdvb2ctdGFiLWRpc2FibGVke2NvbG9yOiM2NjZ9Lmdvb2ctdGFiLXNlbGVjdGVke2NvbG9yOiMwMDA7YmFja2dyb3VuZDojZmZmO3RleHQtZGVjb3JhdGlvbjpub25lO2ZvbnQtd2VpZ2h0OmJvbGQ7Ym9yZGVyOjFweCBzb2xpZCAjNmI5MGRhfS5nb29nLXRhYi1iYXItdG9we3BhZGRpbmctdG9wOjVweCFpbXBvcnRhbnQ7cGFkZGluZy1sZWZ0OjVweCFpbXBvcnRhbnQ7Ym9yZGVyLWJvdHRvbToxcHggc29saWQgIzZiOTBkYSFpbXBvcnRhbnR9Lmdvb2ctdGFiLWJhci10b3AgLmdvb2ctdGFiLXNlbGVjdGVke3RvcDoxcHg7bWFyZ2luLXRvcDowO3BhZGRpbmctYm90dG9tOjVweH0uZ29vZy10YWItYmFyLWJvdHRvbSAuZ29vZy10YWItc2VsZWN0ZWR7dG9wOi0xcHg7bWFyZ2luLWJvdHRvbTowO3BhZGRpbmctdG9wOjVweH0uZ29vZy10YWItYmFyLXN0YXJ0IC5nb29nLXRhYi1zZWxlY3RlZHtsZWZ0OjFweDttYXJnaW4tbGVmdDowO3BhZGRpbmctcmlnaHQ6OXB4fS5nb29nLXRhYi1iYXItZW5kIC5nb29nLXRhYi1zZWxlY3RlZHtsZWZ0Oi0xcHg7bWFyZ2luLXJpZ2h0OjA7cGFkZGluZy1sZWZ0OjlweH0uZ29vZy10YWItYmFye21hcmdpbjowO2JvcmRlcjowO3BhZGRpbmc6MDtsaXN0LXN0eWxlOm5vbmU7Y3Vyc29yOmRlZmF1bHQ7b3V0bGluZTpub25lO2JhY2tncm91bmQ6I2ViZWZmOX0uZ29vZy10YWItYmFyLWNsZWFye2NsZWFyOmJvdGg7aGVpZ2h0OjA7b3ZlcmZsb3c6aGlkZGVufS5nb29nLXRhYi1iYXItc3RhcnR7ZmxvYXQ6bGVmdH0uZ29vZy10YWItYmFyLWVuZHtmbG9hdDpyaWdodH0qIGh0bWwgLmdvb2ctdGFiLWJhci1zdGFydHttYXJnaW4tcmlnaHQ6LTNweH0qIGh0bWwgLmdvb2ctdGFiLWJhci1lbmR7bWFyZ2luLWxlZnQ6LTNweH0=",
              "ok": true,
              "headers": [
                [
                  "content-type",
                  "text/css"
                ]
              ],
              "status": 200,
              "status_text": ""
            },
            "http://localhost:8080/nbextensions/google.colab/tabbar_main.min.js": {
              "data": "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",
              "ok": true,
              "headers": [
                [
                  "content-type",
                  "application/javascript"
                ]
              ],
              "status": 200,
              "status_text": ""
            }
          },
          "base_uri": "https://localhost:8080/",
          "height": 1000,
          "referenced_widgets": [
            "fa4f74f132c44f2a9b4f3a97f66e2f99",
            "ad81fdb7f206401ab361df8e1dbd0868",
            "d217952c1779414183a7ba52f848ce02",
            "fbeec5e846914ef6a98eb66c7e2f51b7",
            "ff8123e1cca14c20b01831889887975b",
            "e4393d8ac7b94471b1bdd7ae78f6584e",
            "b21ebfc0e4ee406babd7fb2e63577a57",
            "a241760af99b41a6a6f36840dc6e83ac",
            "dee9d866db5b495db311d9022360e5a5",
            "bcf63f4f9f4a4307b12b43ccbe0167e4",
            "d36c2f8e3a3749b1b611e20310ff3a9c",
            "26f15317f18f412dba62f91c7df6ced2",
            "6f07c0a49bba46ac9fa1496b9134f68a",
            "3016a08ed2df4f9db03463290c82d17f",
            "9cb7bc60163e4e4dbcb57d9853d0e675",
            "52389f4093ab4af49525dbb2b45f7549",
            "dde412b51d8743289d9ee41f4f8afb4e",
            "9fab4edd2be14110a14334770ab247f8",
            "8c32fe255d2649e096b43dce5c1729e8",
            "6bce096f3f50487cbc12a73077fbda85",
            "67237bcc081649f8948d6ba83d0882f2",
            "57843872c8d74c9f8ec7941de9fc9948",
            "20ecf88f137e489ebe051d2e2c91670d",
            "4c369a8dec8f43c685f3a4c3901b7f90",
            "ac960160d2b545aaae0370fa1e57ca81",
            "9cf3b1e473ac4cf6aca7340b5b460620",
            "5fc0fa87f972416a968b8a3ad54e5c8b",
            "19411470dbd44db3a447d4d9785d8df1",
            "331581eff37a4b1f82cf93ff85e02221",
            "911a3af61dd34f78aa9a345552635067",
            "0d2617b11275458890d1783e159f0169",
            "0a88feead49d41238cdaaa8319fb4dc7",
            "ff46e1ce668e41ab9b49dfb30dd1ca88",
            "13e97482273243bba544de990dd07d0d",
            "3f1fa1e0da664ebfb2388950d0bfba22",
            "2cd3082dc5214b1fa42b78f135ddc2cb",
            "390df40f45f148a692eb23142859d953",
            "e07508347c80417bb2c7cae0dadb79ed",
            "840abea18ad04c6fb9dc3660259c41c3",
            "4844dd720c6345328213fb5b98c99743",
            "9f345b33cf9842e9bd4a779671b1fadb",
            "f025ddeded264193a18876d5e3a448a4",
            "78916589d31f431f97f7c547ae49b10f",
            "4a4d1df07618415c9cfaae21bf234d22",
            "777e6efc8caa47f9929d729954b950ad",
            "323c1b086a6748478609d173729105bd",
            "b6e2f0f586b54128be30f6b81a559755",
            "2ebc95744f4c4097be99618a5e7d835f",
            "3c66bb94194d440eb2ec7df205a67577",
            "0f0d0c6596d949209d2db0aa4c08265b",
            "8ff81087564f4ef3b8a3df9cee377d3c",
            "5da29f7bdf1d4e0f8bbcb0d427933fba",
            "3d90e3faa8d547d491dac0879b3312a8",
            "53fab9215a3c4f88ae01596dc7496bad",
            "58de2b5dc44b4aefa9312b1946e0452d",
            "53fdf4b9363c4d51a80dc4285aa8cc37",
            "b56e0bb4a38e4db79ec803ec8b1a07ab",
            "e2c615f36c8940f9b8b3939a64dca7ba",
            "1395cf6b404e42a3a606a572fae73bb7",
            "33dc86cac1994c00ba6699496e39e422",
            "bbda77e43a004d20a9d463f77f56b193",
            "6a3c7ff3eb744a1e9dc4c031d658b647",
            "18568345e7ea43aa867124c2a5559fd5",
            "8d9c7fdc18c346f6ad748dcdd7f95201",
            "92ed344309fa4ce39c164f4f18173c3b",
            "ec822dc20c324edb958e06f68c5677da",
            "92a5c9c260964b62ba5de997219ca0b6",
            "86e1b0b2327c4477982966fd0ffc0b2f",
            "fe7924b371184b9484f26a044964d5ae",
            "c41db8d21404419c963769f7fbe22e9e",
            "31a152cb87c94e3498ca128c24e7b6fd",
            "f6e1d396ce794d42a34aab4083b1feea",
            "9a60a5838f7745be8102f462c8d788ef",
            "7b999cf738464d849df5358ef0db08ee",
            "4216c3b55f554a6ca1faeeb83b46935b",
            "7e1e49a2db844c52a1993103258d3062",
            "02ed53e9dbac439e90c834a6078a886b",
            "6b5aa893eb16441da9f3c1e57ca25e2b",
            "1284c6d1d5ab46fcb25842e7e11ef915",
            "7cd946a557e04cee8a54f4c2643f3816",
            "bf569a89994347fd904c6f883fbd0a4b",
            "a1d976db493f4e08b7dc8ed1404b83f3",
            "8cabfff1d1ba451dabefd40810a1b237",
            "fc811a1d94eb402db9408a98a4ee5ee1",
            "dce3ae8b5cdd4c3aa43fac1c8a08f2bc",
            "65104845cb8746beab67469418ac50ca",
            "7ca604e4a4a44b3daf8b41c53801418f",
            "15b8de444f1a47cebe34d2d82d7e20ce",
            "1c3296a13b5748479ca7a7992aa8e881",
            "29f707eb36d34dc0945af09f33448e57",
            "70cd9515f7074a1d98407f018eb7dbd0",
            "e8f4465531a049f58631399b684b8eeb",
            "08b308f66ace4916a2a397cf29bd0d72",
            "5ceeaba9c0ad4a74b6d638d3fda9b07b",
            "135b6c881ad04ceb946fac9a3a5be73f",
            "2627726e299b4893afaf0ce8950558de",
            "08bdd1de608f4bcfba5cd85dde5bb950",
            "c60ee9ee90ed4d8eb55a170233513ccd",
            "27ed43368a114dbeb4b50b9b3a8eb18c",
            "bbb5b581487d4bffbc587fc72cf33dbf",
            "512be746a2ea437f8875756cf3f2ba27",
            "ca621700043c42bea370c61809938776",
            "ccda21bea6f44b409e5a9e200f31f45b",
            "a8b4bfc430e848aaa235bbd46e524ef2",
            "2dea0b14d8c04f0ba76fda4190618529",
            "3efdc0a256024b89b3780f12c7a2180d",
            "8d572a31554d40b1ad905c18fdb01d5e",
            "a9ed241c2cad490c97da27756c4edd92",
            "60dbb5503a5b4be4ad13c9ea2c91eb68",
            "2a286f1c09d3493d86db85e87ff612df",
            "694aef91a7c64ec49d9b9a6ab1fff1dc",
            "0987b0bac2904272bfb01cc0af1bbe54",
            "9b362e89fe204a2880fbe4044ba5bbd2",
            "0039f2edf79c494f8a2015520e1ab1be",
            "ac0aba354e8f49e2a1f15179c04ce7c4",
            "666fec07ed7347c2941cc9e90b83c52b"
          ]
        },
        "outputId": "fe1e9aed-a73a-44fc-e296-45de7fb0ecb0"
      },
      "source": [
        "bbbp = ipywidgets.FloatSlider(value=0.5, min=0, max=1, step=0.01)\n",
        "bbbp_label = ipywidgets.Label('BASE_BOND_BREAK_PROBABILITY:')\n",
        "bbbp_box = ipywidgets.VBox([bbbp_label,bbbp])\n",
        "\n",
        "hbf = ipywidgets.FloatSlider(value=0.5, min=0, max=1, step=0.01)\n",
        "hbf_label = ipywidgets.Label('HOMOCHIRAL_BREAK_FACTOR:')\n",
        "hbf_box = ipywidgets.VBox([hbf_label,hbf])\n",
        "\n",
        "hnif = ipywidgets.FloatSlider(value=0.5, min=0, max=1, step=0.01)\n",
        "hnif_label = ipywidgets.Label('HOMOCHIRAL_NEIGHBOR_IMPROV_FACTOR:')\n",
        "hnif_box = ipywidgets.VBox([hnif_label,hnif])\n",
        "\n",
        "lf = ipywidgets.FloatSlider(value=0.5, min=0, max=1, step=0.01)\n",
        "lf_label = ipywidgets.Label('LENGTH_FACTOR')\n",
        "lf_box = ipywidgets.VBox([lf_label,lf])\n",
        "\n",
        "hbfleft = ipywidgets.FloatSlider(value=0.5, min=0, max=1, step=0.01)\n",
        "hbfleft_label = ipywidgets.Label('HOMOCHIRAL_BREAK_FACTOR_LEFT:')\n",
        "hbfleft_box = ipywidgets.VBox([hbfleft_label,hbfleft])\n",
        "\n",
        "hbfright = ipywidgets.FloatSlider(value=0.5, min=0, max=1, step=0.01)\n",
        "hbfright_label = ipywidgets.Label('HOMOCHIRAL_BREAK_FACTOR_RIGHT')\n",
        "hbfright_box = ipywidgets.VBox([hbfright_label,hbfright])\n",
        "\n",
        "hnifleft = ipywidgets.FloatSlider(value=0.5, min=0, max=1, step=0.01)\n",
        "hnifleft_label = ipywidgets.Label('HOMOCHIRAL_NEIGHBOR_IMPROV_FACTOR_LEFT')\n",
        "hnifleft_box = ipywidgets.VBox([hnifleft_label,hnifleft])\n",
        "\n",
        "hnifright = ipywidgets.FloatSlider(value=0.5, min=0, max=1, step=0.01)\n",
        "hnifright_label = ipywidgets.Label('HOMOCHIRAL_NEIGHBOR_IMPROV_FACTOR_RIGHT')\n",
        "hnifright_box = ipywidgets.VBox([hnifright_label,hnifright])\n",
        "\n",
        "lamb = ipywidgets.IntSlider(value=6, min=1, max=10, step=1)\n",
        "lamb_label = ipywidgets.Label('LAMBDA')\n",
        "lamb_box = ipywidgets.VBox([lamb_label,lamb])\n",
        "\n",
        "n_val = ipywidgets.IntSlider(value=40, min=0, max=1000, step=5)\n",
        "n_val_label = ipywidgets.Label('N')\n",
        "n_val_box = ipywidgets.VBox([n_val_label,n_val])\n",
        "\n",
        "pc = ipywidgets.FloatSlider(value=0.5, min=0, max=1, step=0.01)\n",
        "pc_label = ipywidgets.Label('POOF_CHANCE')\n",
        "pc_box = ipywidgets.VBox([pc_label,pc])\n",
        "\n",
        "bp = ipywidgets.FloatSlider(value=0.5, min=0, max=1, step=0.01)\n",
        "bp_label = ipywidgets.Label('BOND_PROB')\n",
        "bp_box = ipywidgets.VBox([bp_label,bp])\n",
        "\n",
        "ps = ipywidgets.IntSlider(value=10, min=1, max=1000, step=1)\n",
        "ps_label = ipywidgets.Label('POOL_SIZE')\n",
        "ps_box = ipywidgets.VBox([ps_label,ps])\n",
        "\n",
        "iterns = ipywidgets.IntSlider(value=10, min=1, max=1000, step=1)\n",
        "iterns_label = ipywidgets.Label('ITERATIONS')\n",
        "iterns_box = ipywidgets.VBox([iterns_label,iterns])\n",
        "\n",
        "pf = ipywidgets.FloatSlider(value=1.3, min=1, max=2, step=0.1)\n",
        "pf_label = ipywidgets.Label('POISSON_FACTOR')\n",
        "pf_box = ipywidgets.VBox([pf_label,pf])\n",
        "\n",
        "fusion = ipywidgets.Checkbox()\n",
        "fusion_label = ipywidgets.Label('FUSION_FACTOR')\n",
        "fusion_box = ipywidgets.VBox([fusion_label,fusion])\n",
        "\n",
        "method_picker = ipywidgets.Dropdown(options=['bias','standard','poisson'],value=\"standard\")\n",
        "method_picker_label = ipywidgets.Label(\"Select calculation method:\")\n",
        "method_picker_box = ipywidgets.VBox([method_picker_label,method_picker])\n",
        "\n",
        "button = ipywidgets.Button(description=\"GO!\", button_style='primary')\n",
        "\n",
        "glob_title=ipywidgets.Label(\"General parameters\")\n",
        "mon_title=ipywidgets.Label(\"Monomer parameters\")\n",
        "sim_title=ipywidgets.Label(\"Simulation paramaters\")\n",
        "\n",
        "globs = ipywidgets.VBox([glob_title,bbbp_box,lf_box,n_val_box])\n",
        "mons = ipywidgets.VBox([mon_title,pc_box,bp_box])\n",
        "sims = ipywidgets.VBox([sim_title,ps_box,iterns_box,fusion_box])\n",
        "\n",
        "left_col = ipywidgets.VBox([mons,sims])\n",
        "\n",
        "bias_widgets = [hbfleft_box,hbfright_box,hnifleft_box,hnifright_box]\n",
        "standard_widgets = [hbf_box,hnif_box]\n",
        "poisson_widgets = [lamb_box, pf_box]\n",
        "\n",
        "dep_widgets = ipywidgets.VBox(standard_widgets)\n",
        "\n",
        "center_col = ipywidgets.VBox([globs,button])\n",
        "\n",
        "right_col = ipywidgets.VBox([method_picker_box,dep_widgets])\n",
        "\n",
        "def choose(change):                        \n",
        "  if change.new == \"bias\":\n",
        "    dep_widgets.children = bias_widgets\n",
        "  elif change.new == \"standard\":\n",
        "    dep_widgets.children = standard_widgets\n",
        "  elif change.new == \"poisson\":\n",
        "    dep_widgets.children = poisson_widgets\n",
        "\n",
        "def run_sim(b):\n",
        "  global BASE_BOND_BREAK_PROBABILITY\n",
        "  global HOMOCHIRAL_BREAK_FACTOR\n",
        "  global HOMOCHIRAL_NEIGHBOR_IMPROV_FACTOR\n",
        "  global LENGTH_FACTOR\n",
        "  global N\n",
        "  global LAMBDA\n",
        "  global HOMOCHIRAL_BREAK_FACTOR_LEFT\n",
        "  global HOMOCHIRAL_BREAK_FACTOR_RIGHT\n",
        "  global HOMOCHIRAL_NEIGHBOR_IMPROV_FACTOR_LEFT\n",
        "  global HOMOCHIRAL_NEIGHBOR_IMPROV_FACTOR_RIGHT\n",
        "  global POOF_CHANCE\n",
        "  global BOND_PROB\n",
        "  global POOL_SIZE\n",
        "  global ITERATIONS\n",
        "  global METHOD\n",
        "  global break_prob_lookup_table\n",
        "  global poisson_dict\n",
        "  global POISSON_FACTOR\n",
        "  global FUSION\n",
        "  \n",
        "  FUSION = fusion.value\n",
        "  break_prob_lookup_table = {}\n",
        "  poisson_dict={}\n",
        "  POISSON_FACTOR = pf.value\n",
        "  BASE_BOND_BREAK_PROBABILITY=bbbp.value\n",
        "  HOMOCHIRAL_BREAK_FACTOR=hbf.value\n",
        "  HOMOCHIRAL_NEIGHBOR_IMPROV_FACTOR =hnif.value\n",
        "  LENGTH_FACTOR=lf.value\n",
        "  N = n_val.value\n",
        "  LAMBDA = lamb.value#enter some kind of if statement\n",
        "  HOMOCHIRAL_BREAK_FACTOR_LEFT=hbfleft.value#enter some kind of if statement\n",
        "  HOMOCHIRAL_BREAK_FACTOR_RIGHT=hbfright.value#enter some kind of if statement\n",
        "  HOMOCHIRAL_NEIGHBOR_IMPROV_FACTOR_LEFT=hnifleft.value#enter some kind of if statement\n",
        "  HOMOCHIRAL_NEIGHBOR_IMPROV_FACTOR_RIGHT=hnifright.value#enter some kind of if statement\n",
        "  POOF_CHANCE=pc.value\n",
        "  BOND_PROB=bp.value\n",
        "  POOL_SIZE=ps.value\n",
        "  ITERATIONS=iterns.value\n",
        "  METHOD = method_picker.value\n",
        "\n",
        "  a = Reactables(make_pool(POOL_SIZE))\n",
        "  a.simulate(POOL_SIZE, ITERATIONS, METHOD)\n",
        "  #print(break_prob_lookup_table)\n",
        "  #print(poisson_dict)\n",
        "\n",
        "  stats = a.get_stats()\n",
        "\n",
        "  with tb.output_to(\"Signed EE of Polymers by Iteration\", select=True):\n",
        "    tb.clear_tab()\n",
        "    df = stats\n",
        "    counts = df.groupby(\"Iteration\")['Signed ee'].value_counts().reset_index(name='count')\n",
        "    fig = px.scatter(counts, x=\"Iteration\", y=\"Signed ee\", size='count')\n",
        "    fig.show()\n",
        "\n",
        "\n",
        "  with tb.output_to(\"Proportion of Bond Types\", select=False):\n",
        "    tb.clear_tab()\n",
        "\n",
        "    df = stats\n",
        "    lefts = df.groupby(\"Iteration\")[\"#LeftHomochiral\"].sum().rename(\"LL\")\n",
        "    rights = df.groupby(\"Iteration\")[\"#RightHomochiral\"].sum().rename(\"RR\")\n",
        "    heteros = (df.groupby(\"Iteration\")['Length'].sum() - df.groupby(\"Iteration\")['Length'].count()).rename(\"LR\")\n",
        "    bondcounts = pd.DataFrame([lefts, rights, heteros]).transpose()\n",
        "    bondcounts[\"Total\"] = bondcounts[\"LL\"] + bondcounts[\"RR\"] + bondcounts[\"LR\"]\n",
        "    bondcounts = bondcounts.apply(lambda x : x / bondcounts[\"Total\"])\n",
        "    \n",
        "    fig = go.Figure()\n",
        "    fig.add_trace(go.Scatter(y=bondcounts[\"LL\"],\n",
        "                        mode='lines',\n",
        "                        name='left homochiral'))\n",
        "    fig.add_trace(go.Scatter(y=bondcounts[\"RR\"],\n",
        "                        mode='lines',\n",
        "                        name='right homochiral'))\n",
        "    fig.add_trace(go.Scatter(y=bondcounts[\"LR\"],\n",
        "                       mode='lines', name='heterochiral'))\n",
        "    fig.update_layout(title='Proportion of LL, RR, and LR bonds by iteration',\n",
        "                    xaxis_title='Iteration',\n",
        "                    yaxis_title='Proportion')\n",
        "    fig.update_yaxes(range=[0, 1])\n",
        "\n",
        "    fig.show()\n",
        "\n",
        "  with tb.output_to(\"Homochirality vs Length through Time\", select=False):\n",
        "    tb.clear_tab()\n",
        "    df = stats\n",
        "    maxlen = df[\"Length\"].max()\n",
        "\n",
        "    fig = px.scatter(df, x=\"Length\", y=\"%Homochirality\",animation_frame=\"Iteration\",\n",
        "                    range_x=[-1,maxlen+1],range_y=[-0.01,1.2])\n",
        "    fig.show()\n",
        "\n",
        "  with tb.output_to(\"Homochirality vs Length\", select=False):\n",
        "    tb.clear_tab()\n",
        "    df = stats\n",
        "    df = df.groupby(\"Length\")['%Homochirality'].value_counts().reset_index(name='count')\n",
        "    fig = px.scatter(df, x=\"Length\",y=\"%Homochirality\",size='count')\n",
        "    fig.update_traces(marker=dict(line=dict(color='DarkSlateGrey')),\n",
        "                    selector=dict(mode='markers'))\n",
        "    fig.show()\n",
        "\n",
        "  with tb.output_to(\"Homochirality vs Age\", select=False):\n",
        "    tb.clear_tab()\n",
        "    df = stats\n",
        "    df = df.groupby(\"Age\")['%Homochirality'].value_counts().reset_index(name='count')\n",
        "    fig = px.scatter(df, x=\"Age\",y=\"%Homochirality\",size='count')\n",
        "    fig.update_traces(marker=dict(line=dict(color='DarkSlateGrey')),\n",
        "                    selector=dict(mode='markers'))\n",
        "    fig.show()\n",
        "\n",
        "  with tb.output_to(\"Visualize Break Probs\", select=False):\n",
        "    tb.clear_tab()\n",
        "    a.visualizebrkprobs()\n",
        "    x = []\n",
        "    y = []\n",
        "    for n in range(100):\n",
        "      x.append(n)\n",
        "      y.append(BASE_BOND_BREAK_PROBABILITY * LENGTH_FACTOR**(n/N))\n",
        "    data = {'Length':  x,\n",
        "      'BrkProb': y}\n",
        "    df = pd.DataFrame(data, columns = ['Length',\n",
        "      'BrkProb'])\n",
        "    fig = px.line(df, x = 'Length', y = 'BrkProb', title = \"Effects of Length on Break Probs\")\n",
        "    fig.show()\n",
        "\n",
        "  with tb.output_to(\"Length by homochirality through age\", select = False):\n",
        "    tb.clear_tab()\n",
        "    df = stats\n",
        "    fig = px.scatter(df, x=\"Length\", y=\"%Homochirality\", animation_frame=\"Age\", hover_name=\"%Homochirality\", color = \"Type\",range_x=[-1,maxlen+1])\n",
        "    fig.show()\n",
        "\n",
        "  with tb.output_to(\"Age by homochirality through length\", select = False):\n",
        "    tb.clear_tab()\n",
        "    df = stats\n",
        "    fig = px.scatter(df, x=\"Age\", y=\"%Homochirality\", animation_frame=\"Length\", hover_name=\"%Homochirality\", color = \"Type\")\n",
        "    fig.show()\n",
        "\n",
        "  with tb.output_to(\"Length by Homochirality colored by Age\", select = False):\n",
        "    tb.clear_tab()\n",
        "    df = stats\n",
        "    fig = px.scatter(df, x = \"Length\", y =\"%Homochirality\",color = \"Age\", range_x =[-1,maxlen+1])\n",
        "    fig.show()\n",
        "    \n",
        "  \n",
        "  #with tb.output_to(\"Homochirality by average age\", select = False):\n",
        "    #tb.clear_tab()\n",
        "    #df = stats \n",
        "    #f.groupby(level=\"Type\").mean()\n",
        "    #df.sortby([\"%Homochirality\"])\n",
        "    #print(df)\n",
        "    #fig = px.bar(df, x =\"%Homochirality\", y = \"Age\")\n",
        "    #fig.show()\n",
        "\n",
        "button.on_click(run_sim)\n",
        "\n",
        "container = ipywidgets.HBox([left_col,center_col,right_col])\n",
        "\n",
        "method_picker.observe(choose, names=\"value\")\n",
        "\n",
        "display(container)\n",
        "\n",
        "plots = [\"Signed EE of Polymers by Iteration\",\"Proportion of Bond Types\",\n",
        "         \"Homochirality vs Length through Time\",\"Homochirality vs Length\",\n",
        "         \"Homochirality vs Age\",\"Visualize Break Probs\",\"Length by homochirality through age\",\n",
        "         \"Age by homochirality through length\",\"Length by Homochirality colored by Age\",\"Homochirality by average age\"]\n",
        "tb = widgets.TabBar(plots)\n"
      ],
      "execution_count": 53,
      "outputs": [
        {
          "output_type": "display_data",
          "data": {
            "application/vnd.jupyter.widget-view+json": {
              "model_id": "fa4f74f132c44f2a9b4f3a97f66e2f99",
              "version_minor": 0,
              "version_major": 2
            },
            "text/plain": [
              "HBox(children=(VBox(children=(VBox(children=(Label(value='Monomer parameters'), VBox(children=(Label(value='PO…"
            ]
          },
          "metadata": {
            "tags": []
          }
        },
        {
          "output_type": "display_data",
          "data": {
            "text/html": [
              "<link rel=stylesheet type=text/css href='/nbextensions/google.colab/tabbar.css'></link>"
            ],
            "text/plain": [
              "<IPython.core.display.HTML object>"
            ]
          },
          "metadata": {
            "tags": [
              "outputarea_id11"
            ]
          }
        },
        {
          "output_type": "display_data",
          "data": {
            "text/html": [
              "<script src='/nbextensions/google.colab/tabbar_main.min.js'></script>"
            ],
            "text/plain": [
              "<IPython.core.display.HTML object>"
            ]
          },
          "metadata": {
            "tags": [
              "outputarea_id11"
            ]
          }
        },
        {
          "output_type": "display_data",
          "data": {
            "text/html": [
              "<div id=\"id11\"></div>"
            ],
            "text/plain": [
              "<IPython.core.display.HTML object>"
            ]
          },
          "metadata": {
            "tags": [
              "outputarea_id11"
            ]
          }
        },
        {
          "output_type": "display_data",
          "data": {
            "application/javascript": [
              "window[\"9af3324c-c5eb-11ea-8df1-0242ac1c0002\"] = colab_lib.createTabBar({\"location\": \"top\", \"elementId\": \"id11\", \"tabNames\": [\"Signed EE of Polymers by Iteration\", \"Proportion of Bond Types\", \"Homochirality vs Length through Time\", \"Homochirality vs Length\", \"Homochirality vs Age\", \"Visualize Break Probs\", \"Length by homochirality through age\", \"Age by homochirality through length\", \"Length by Homochirality colored by Age\", \"Homochirality by average age\"], \"initialSelection\": 0, \"contentBorder\": [\"0px\"], \"contentHeight\": [\"initial\"], \"borderColor\": [\"#a7a7a7\"]});\n",
              "//# sourceURL=js_cfbc7d74a0"
            ],
            "text/plain": [
              "<IPython.core.display.Javascript object>"
            ]
          },
          "metadata": {
            "tags": [
              "outputarea_id11"
            ]
          }
        },
        {
          "output_type": "display_data",
          "data": {
            "application/javascript": [
              "window[\"9af3bdac-c5eb-11ea-8df1-0242ac1c0002\"] = window[\"id11\"].setSelectedTabIndex(0);\n",
              "//# sourceURL=js_fd7e561421"
            ],
            "text/plain": [
              "<IPython.core.display.Javascript object>"
            ]
          },
          "metadata": {
            "tags": [
              "outputarea_id11"
            ]
          }
        },
        {
          "output_type": "display_data",
          "data": {
            "application/javascript": [
              "window[\"9e103b50-c5eb-11ea-8df1-0242ac1c0002\"] = google.colab.output.getActiveOutputArea();\n",
              "//# sourceURL=js_249b03b82a"
            ],
            "text/plain": [
              "<IPython.core.display.Javascript object>"
            ]
          },
          "metadata": {
            "tags": [
              "id11_content_0",
              "outputarea_id11"
            ]
          }
        },
        {
          "output_type": "display_data",
          "data": {
            "application/javascript": [
              "window[\"9e108cae-c5eb-11ea-8df1-0242ac1c0002\"] = document.querySelector(\"#id11_content_0\");\n",
              "//# sourceURL=js_11751092c5"
            ],
            "text/plain": [
              "<IPython.core.display.Javascript object>"
            ]
          },
          "metadata": {
            "tags": [
              "id11_content_0",
              "outputarea_id11"
            ]
          }
        },
        {
          "output_type": "display_data",
          "data": {
            "application/javascript": [
              "window[\"9e10d9a2-c5eb-11ea-8df1-0242ac1c0002\"] = google.colab.output.setActiveOutputArea(window[\"9e108cae-c5eb-11ea-8df1-0242ac1c0002\"]);\n",
              "//# sourceURL=js_2e02fbe479"
            ],
            "text/plain": [
              "<IPython.core.display.Javascript object>"
            ]
          },
          "metadata": {
            "tags": [
              "id11_content_0",
              "outputarea_id11"
            ]
          }
        },
        {
          "output_type": "display_data",
          "data": {
            "application/javascript": [
              "window[\"9e11240c-c5eb-11ea-8df1-0242ac1c0002\"] = window[\"id11\"].setSelectedTabIndex(0);\n",
              "//# sourceURL=js_569e8e8d9f"
            ],
            "text/plain": [
              "<IPython.core.display.Javascript object>"
            ]
          },
          "metadata": {
            "tags": [
              "id11_content_0",
              "outputarea_id11"
            ]
          }
        },
        {
          "output_type": "display_data",
          "data": {
            "application/javascript": [
              "window[\"9e558c6e-c5eb-11ea-8df1-0242ac1c0002\"] = google.colab.output.setActiveOutputArea(window[\"9e103b50-c5eb-11ea-8df1-0242ac1c0002\"]);\n",
              "//# sourceURL=js_378b9ff796"
            ],
            "text/plain": [
              "<IPython.core.display.Javascript object>"
            ]
          },
          "metadata": {
            "tags": [
              "id11_content_0",
              "outputarea_id11"
            ]
          }
        },
        {
          "output_type": "display_data",
          "data": {
            "application/javascript": [
              "window[\"9e571890-c5eb-11ea-8df1-0242ac1c0002\"] = google.colab.output.getActiveOutputArea();\n",
              "//# sourceURL=js_b88304f674"
            ],
            "text/plain": [
              "<IPython.core.display.Javascript object>"
            ]
          },
          "metadata": {
            "tags": [
              "id11_content_1",
              "outputarea_id11"
            ]
          }
        },
        {
          "output_type": "display_data",
          "data": {
            "application/javascript": [
              "window[\"9e5772b8-c5eb-11ea-8df1-0242ac1c0002\"] = document.querySelector(\"#id11_content_1\");\n",
              "//# sourceURL=js_1e01efb500"
            ],
            "text/plain": [
              "<IPython.core.display.Javascript object>"
            ]
          },
          "metadata": {
            "tags": [
              "id11_content_1",
              "outputarea_id11"
            ]
          }
        },
        {
          "output_type": "display_data",
          "data": {
            "application/javascript": [
              "window[\"9e57b73c-c5eb-11ea-8df1-0242ac1c0002\"] = google.colab.output.setActiveOutputArea(window[\"9e5772b8-c5eb-11ea-8df1-0242ac1c0002\"]);\n",
              "//# sourceURL=js_b94b8688fa"
            ],
            "text/plain": [
              "<IPython.core.display.Javascript object>"
            ]
          },
          "metadata": {
            "tags": [
              "id11_content_1",
              "outputarea_id11"
            ]
          }
        },
        {
          "output_type": "display_data",
          "data": {
            "application/javascript": [
              "window[\"9e711ea2-c5eb-11ea-8df1-0242ac1c0002\"] = google.colab.output.setActiveOutputArea(window[\"9e571890-c5eb-11ea-8df1-0242ac1c0002\"]);\n",
              "//# sourceURL=js_89128f4122"
            ],
            "text/plain": [
              "<IPython.core.display.Javascript object>"
            ]
          },
          "metadata": {
            "tags": [
              "id11_content_1",
              "outputarea_id11"
            ]
          }
        },
        {
          "output_type": "display_data",
          "data": {
            "application/javascript": [
              "window[\"9e724228-c5eb-11ea-8df1-0242ac1c0002\"] = google.colab.output.getActiveOutputArea();\n",
              "//# sourceURL=js_6845290f10"
            ],
            "text/plain": [
              "<IPython.core.display.Javascript object>"
            ]
          },
          "metadata": {
            "tags": [
              "id11_content_2",
              "outputarea_id11"
            ]
          }
        },
        {
          "output_type": "display_data",
          "data": {
            "application/javascript": [
              "window[\"9e728544-c5eb-11ea-8df1-0242ac1c0002\"] = document.querySelector(\"#id11_content_2\");\n",
              "//# sourceURL=js_e4193c8655"
            ],
            "text/plain": [
              "<IPython.core.display.Javascript object>"
            ]
          },
          "metadata": {
            "tags": [
              "id11_content_2",
              "outputarea_id11"
            ]
          }
        },
        {
          "output_type": "display_data",
          "data": {
            "application/javascript": [
              "window[\"9e72c220-c5eb-11ea-8df1-0242ac1c0002\"] = google.colab.output.setActiveOutputArea(window[\"9e728544-c5eb-11ea-8df1-0242ac1c0002\"]);\n",
              "//# sourceURL=js_c9f7697ccf"
            ],
            "text/plain": [
              "<IPython.core.display.Javascript object>"
            ]
          },
          "metadata": {
            "tags": [
              "id11_content_2",
              "outputarea_id11"
            ]
          }
        },
        {
          "output_type": "display_data",
          "data": {
            "application/javascript": [
              "window[\"9edf3cc0-c5eb-11ea-8df1-0242ac1c0002\"] = google.colab.output.setActiveOutputArea(window[\"9e724228-c5eb-11ea-8df1-0242ac1c0002\"]);\n",
              "//# sourceURL=js_da41f7f04b"
            ],
            "text/plain": [
              "<IPython.core.display.Javascript object>"
            ]
          },
          "metadata": {
            "tags": [
              "id11_content_2",
              "outputarea_id11"
            ]
          }
        },
        {
          "output_type": "display_data",
          "data": {
            "application/javascript": [
              "window[\"9ee04340-c5eb-11ea-8df1-0242ac1c0002\"] = google.colab.output.getActiveOutputArea();\n",
              "//# sourceURL=js_37f69bf224"
            ],
            "text/plain": [
              "<IPython.core.display.Javascript object>"
            ]
          },
          "metadata": {
            "tags": [
              "id11_content_3",
              "outputarea_id11"
            ]
          }
        },
        {
          "output_type": "display_data",
          "data": {
            "application/javascript": [
              "window[\"9ee085a8-c5eb-11ea-8df1-0242ac1c0002\"] = document.querySelector(\"#id11_content_3\");\n",
              "//# sourceURL=js_68e0a25b13"
            ],
            "text/plain": [
              "<IPython.core.display.Javascript object>"
            ]
          },
          "metadata": {
            "tags": [
              "id11_content_3",
              "outputarea_id11"
            ]
          }
        },
        {
          "output_type": "display_data",
          "data": {
            "application/javascript": [
              "window[\"9ee0cda6-c5eb-11ea-8df1-0242ac1c0002\"] = google.colab.output.setActiveOutputArea(window[\"9ee085a8-c5eb-11ea-8df1-0242ac1c0002\"]);\n",
              "//# sourceURL=js_4cf83b75d6"
            ],
            "text/plain": [
              "<IPython.core.display.Javascript object>"
            ]
          },
          "metadata": {
            "tags": [
              "id11_content_3",
              "outputarea_id11"
            ]
          }
        },
        {
          "output_type": "display_data",
          "data": {
            "application/javascript": [
              "window[\"9f0bed6a-c5eb-11ea-8df1-0242ac1c0002\"] = google.colab.output.setActiveOutputArea(window[\"9ee04340-c5eb-11ea-8df1-0242ac1c0002\"]);\n",
              "//# sourceURL=js_82c82670a5"
            ],
            "text/plain": [
              "<IPython.core.display.Javascript object>"
            ]
          },
          "metadata": {
            "tags": [
              "id11_content_3",
              "outputarea_id11"
            ]
          }
        },
        {
          "output_type": "display_data",
          "data": {
            "application/javascript": [
              "window[\"9f0d86c0-c5eb-11ea-8df1-0242ac1c0002\"] = google.colab.output.getActiveOutputArea();\n",
              "//# sourceURL=js_ff3c78a2ee"
            ],
            "text/plain": [
              "<IPython.core.display.Javascript object>"
            ]
          },
          "metadata": {
            "tags": [
              "id11_content_4",
              "outputarea_id11"
            ]
          }
        },
        {
          "output_type": "display_data",
          "data": {
            "application/javascript": [
              "window[\"9f0dca7c-c5eb-11ea-8df1-0242ac1c0002\"] = document.querySelector(\"#id11_content_4\");\n",
              "//# sourceURL=js_a088faebfb"
            ],
            "text/plain": [
              "<IPython.core.display.Javascript object>"
            ]
          },
          "metadata": {
            "tags": [
              "id11_content_4",
              "outputarea_id11"
            ]
          }
        },
        {
          "output_type": "display_data",
          "data": {
            "application/javascript": [
              "window[\"9f0e1662-c5eb-11ea-8df1-0242ac1c0002\"] = google.colab.output.setActiveOutputArea(window[\"9f0dca7c-c5eb-11ea-8df1-0242ac1c0002\"]);\n",
              "//# sourceURL=js_ba19863ab9"
            ],
            "text/plain": [
              "<IPython.core.display.Javascript object>"
            ]
          },
          "metadata": {
            "tags": [
              "id11_content_4",
              "outputarea_id11"
            ]
          }
        },
        {
          "output_type": "display_data",
          "data": {
            "application/javascript": [
              "window[\"9f3ac9e6-c5eb-11ea-8df1-0242ac1c0002\"] = google.colab.output.setActiveOutputArea(window[\"9f0d86c0-c5eb-11ea-8df1-0242ac1c0002\"]);\n",
              "//# sourceURL=js_cefc08226c"
            ],
            "text/plain": [
              "<IPython.core.display.Javascript object>"
            ]
          },
          "metadata": {
            "tags": [
              "id11_content_4",
              "outputarea_id11"
            ]
          }
        },
        {
          "output_type": "display_data",
          "data": {
            "application/javascript": [
              "window[\"9f3c4014-c5eb-11ea-8df1-0242ac1c0002\"] = google.colab.output.getActiveOutputArea();\n",
              "//# sourceURL=js_81bcbc2774"
            ],
            "text/plain": [
              "<IPython.core.display.Javascript object>"
            ]
          },
          "metadata": {
            "tags": [
              "id11_content_5",
              "outputarea_id11"
            ]
          }
        },
        {
          "output_type": "display_data",
          "data": {
            "application/javascript": [
              "window[\"9f3c872c-c5eb-11ea-8df1-0242ac1c0002\"] = document.querySelector(\"#id11_content_5\");\n",
              "//# sourceURL=js_81a49d985c"
            ],
            "text/plain": [
              "<IPython.core.display.Javascript object>"
            ]
          },
          "metadata": {
            "tags": [
              "id11_content_5",
              "outputarea_id11"
            ]
          }
        },
        {
          "output_type": "display_data",
          "data": {
            "application/javascript": [
              "window[\"9f3ccda4-c5eb-11ea-8df1-0242ac1c0002\"] = google.colab.output.setActiveOutputArea(window[\"9f3c872c-c5eb-11ea-8df1-0242ac1c0002\"]);\n",
              "//# sourceURL=js_1c73989faa"
            ],
            "text/plain": [
              "<IPython.core.display.Javascript object>"
            ]
          },
          "metadata": {
            "tags": [
              "id11_content_5",
              "outputarea_id11"
            ]
          }
        },
        {
          "output_type": "display_data",
          "data": {
            "application/javascript": [
              "window[\"a0e3a876-c5eb-11ea-8df1-0242ac1c0002\"] = google.colab.output.setActiveOutputArea(window[\"9f3c4014-c5eb-11ea-8df1-0242ac1c0002\"]);\n",
              "//# sourceURL=js_2345841fd1"
            ],
            "text/plain": [
              "<IPython.core.display.Javascript object>"
            ]
          },
          "metadata": {
            "tags": [
              "id11_content_5",
              "outputarea_id11"
            ]
          }
        },
        {
          "output_type": "display_data",
          "data": {
            "application/javascript": [
              "window[\"a0e52750-c5eb-11ea-8df1-0242ac1c0002\"] = google.colab.output.getActiveOutputArea();\n",
              "//# sourceURL=js_2184aa4bf0"
            ],
            "text/plain": [
              "<IPython.core.display.Javascript object>"
            ]
          },
          "metadata": {
            "tags": [
              "id11_content_6",
              "outputarea_id11"
            ]
          }
        },
        {
          "output_type": "display_data",
          "data": {
            "application/javascript": [
              "window[\"a0e56378-c5eb-11ea-8df1-0242ac1c0002\"] = document.querySelector(\"#id11_content_6\");\n",
              "//# sourceURL=js_0a6e69f5a9"
            ],
            "text/plain": [
              "<IPython.core.display.Javascript object>"
            ]
          },
          "metadata": {
            "tags": [
              "id11_content_6",
              "outputarea_id11"
            ]
          }
        },
        {
          "output_type": "display_data",
          "data": {
            "application/javascript": [
              "window[\"a0e5a586-c5eb-11ea-8df1-0242ac1c0002\"] = google.colab.output.setActiveOutputArea(window[\"a0e56378-c5eb-11ea-8df1-0242ac1c0002\"]);\n",
              "//# sourceURL=js_7a4c2ab99d"
            ],
            "text/plain": [
              "<IPython.core.display.Javascript object>"
            ]
          },
          "metadata": {
            "tags": [
              "id11_content_6",
              "outputarea_id11"
            ]
          }
        },
        {
          "output_type": "display_data",
          "data": {
            "application/javascript": [
              "window[\"a174349a-c5eb-11ea-8df1-0242ac1c0002\"] = google.colab.output.setActiveOutputArea(window[\"a0e52750-c5eb-11ea-8df1-0242ac1c0002\"]);\n",
              "//# sourceURL=js_eb18e1a1b3"
            ],
            "text/plain": [
              "<IPython.core.display.Javascript object>"
            ]
          },
          "metadata": {
            "tags": [
              "id11_content_6",
              "outputarea_id11"
            ]
          }
        },
        {
          "output_type": "display_data",
          "data": {
            "application/javascript": [
              "window[\"a1774ba8-c5eb-11ea-8df1-0242ac1c0002\"] = google.colab.output.getActiveOutputArea();\n",
              "//# sourceURL=js_d045b5a772"
            ],
            "text/plain": [
              "<IPython.core.display.Javascript object>"
            ]
          },
          "metadata": {
            "tags": [
              "id11_content_7",
              "outputarea_id11"
            ]
          }
        },
        {
          "output_type": "display_data",
          "data": {
            "application/javascript": [
              "window[\"a177946e-c5eb-11ea-8df1-0242ac1c0002\"] = document.querySelector(\"#id11_content_7\");\n",
              "//# sourceURL=js_563bf5465c"
            ],
            "text/plain": [
              "<IPython.core.display.Javascript object>"
            ]
          },
          "metadata": {
            "tags": [
              "id11_content_7",
              "outputarea_id11"
            ]
          }
        },
        {
          "output_type": "display_data",
          "data": {
            "application/javascript": [
              "window[\"a177df50-c5eb-11ea-8df1-0242ac1c0002\"] = google.colab.output.setActiveOutputArea(window[\"a177946e-c5eb-11ea-8df1-0242ac1c0002\"]);\n",
              "//# sourceURL=js_0621e882c3"
            ],
            "text/plain": [
              "<IPython.core.display.Javascript object>"
            ]
          },
          "metadata": {
            "tags": [
              "id11_content_7",
              "outputarea_id11"
            ]
          }
        },
        {
          "output_type": "display_data",
          "data": {
            "application/javascript": [
              "window[\"a1cb8cd6-c5eb-11ea-8df1-0242ac1c0002\"] = google.colab.output.setActiveOutputArea(window[\"a1774ba8-c5eb-11ea-8df1-0242ac1c0002\"]);\n",
              "//# sourceURL=js_df7a25d1eb"
            ],
            "text/plain": [
              "<IPython.core.display.Javascript object>"
            ]
          },
          "metadata": {
            "tags": [
              "id11_content_7",
              "outputarea_id11"
            ]
          }
        },
        {
          "output_type": "display_data",
          "data": {
            "application/javascript": [
              "window[\"a1ce09ca-c5eb-11ea-8df1-0242ac1c0002\"] = google.colab.output.getActiveOutputArea();\n",
              "//# sourceURL=js_02ff5573fc"
            ],
            "text/plain": [
              "<IPython.core.display.Javascript object>"
            ]
          },
          "metadata": {
            "tags": [
              "id11_content_8",
              "outputarea_id11"
            ]
          }
        },
        {
          "output_type": "display_data",
          "data": {
            "application/javascript": [
              "window[\"a1ce6c12-c5eb-11ea-8df1-0242ac1c0002\"] = document.querySelector(\"#id11_content_8\");\n",
              "//# sourceURL=js_bb9ffcc6c1"
            ],
            "text/plain": [
              "<IPython.core.display.Javascript object>"
            ]
          },
          "metadata": {
            "tags": [
              "id11_content_8",
              "outputarea_id11"
            ]
          }
        },
        {
          "output_type": "display_data",
          "data": {
            "application/javascript": [
              "window[\"a1ceb79e-c5eb-11ea-8df1-0242ac1c0002\"] = google.colab.output.setActiveOutputArea(window[\"a1ce6c12-c5eb-11ea-8df1-0242ac1c0002\"]);\n",
              "//# sourceURL=js_36aad2c18f"
            ],
            "text/plain": [
              "<IPython.core.display.Javascript object>"
            ]
          },
          "metadata": {
            "tags": [
              "id11_content_8",
              "outputarea_id11"
            ]
          }
        },
        {
          "output_type": "display_data",
          "data": {
            "application/javascript": [
              "window[\"a1fa750a-c5eb-11ea-8df1-0242ac1c0002\"] = google.colab.output.setActiveOutputArea(window[\"a1ce09ca-c5eb-11ea-8df1-0242ac1c0002\"]);\n",
              "//# sourceURL=js_bbbb143173"
            ],
            "text/plain": [
              "<IPython.core.display.Javascript object>"
            ]
          },
          "metadata": {
            "tags": [
              "id11_content_8",
              "outputarea_id11"
            ]
          }
        },
        {
          "output_type": "display_data",
          "data": {
            "application/javascript": [
              "window[\"b7fb7f34-c5eb-11ea-8df1-0242ac1c0002\"] = google.colab.output.getActiveOutputArea();\n",
              "//# sourceURL=js_421dae415d"
            ],
            "text/plain": [
              "<IPython.core.display.Javascript object>"
            ]
          },
          "metadata": {
            "tags": [
              "id11_content_0",
              "outputarea_id11"
            ]
          }
        },
        {
          "output_type": "display_data",
          "data": {
            "application/javascript": [
              "window[\"b7fbbd00-c5eb-11ea-8df1-0242ac1c0002\"] = document.querySelector(\"#id11_content_0\");\n",
              "//# sourceURL=js_224357f3ff"
            ],
            "text/plain": [
              "<IPython.core.display.Javascript object>"
            ]
          },
          "metadata": {
            "tags": [
              "id11_content_0",
              "outputarea_id11"
            ]
          }
        },
        {
          "output_type": "display_data",
          "data": {
            "application/javascript": [
              "window[\"b7fbed70-c5eb-11ea-8df1-0242ac1c0002\"] = google.colab.output.setActiveOutputArea(window[\"b7fbbd00-c5eb-11ea-8df1-0242ac1c0002\"]);\n",
              "//# sourceURL=js_46920f080a"
            ],
            "text/plain": [
              "<IPython.core.display.Javascript object>"
            ]
          },
          "metadata": {
            "tags": [
              "id11_content_0",
              "outputarea_id11"
            ]
          }
        },
        {
          "output_type": "display_data",
          "data": {
            "application/javascript": [
              "window[\"b7fc9f68-c5eb-11ea-8df1-0242ac1c0002\"] = window[\"id11\"].setSelectedTabIndex(0);\n",
              "//# sourceURL=js_293effe785"
            ],
            "text/plain": [
              "<IPython.core.display.Javascript object>"
            ]
          },
          "metadata": {
            "tags": [
              "id11_content_0",
              "outputarea_id11"
            ]
          }
        },
        {
          "output_type": "display_data",
          "data": {
            "text/html": [
              "<html>\n",
              "<head><meta charset=\"utf-8\" /></head>\n",
              "<body>\n",
              "    <div>\n",
              "            <script src=\"https://cdnjs.cloudflare.com/ajax/libs/mathjax/2.7.5/MathJax.js?config=TeX-AMS-MML_SVG\"></script><script type=\"text/javascript\">if (window.MathJax) {MathJax.Hub.Config({SVG: {font: \"STIX-Web\"}});}</script>\n",
              "                <script type=\"text/javascript\">window.PlotlyConfig = {MathJaxConfig: 'local'};</script>\n",
              "        <script src=\"https://cdn.plot.ly/plotly-latest.min.js\"></script>    \n",
              "            <div id=\"403792c4-4e8f-4277-b34d-2a1ec85ae10f\" class=\"plotly-graph-div\" style=\"height:525px; width:100%;\"></div>\n",
              "            <script type=\"text/javascript\">\n",
              "                \n",
              "                    window.PLOTLYENV=window.PLOTLYENV || {};\n",
              "                    \n",
              "                if (document.getElementById(\"403792c4-4e8f-4277-b34d-2a1ec85ae10f\")) {\n",
              "                    Plotly.newPlot(\n",
              "                        '403792c4-4e8f-4277-b34d-2a1ec85ae10f',\n",
              "                        [{\"hoverlabel\": {\"namelength\": 0}, \"hovertemplate\": \"Iteration=%{x}<br>Signed ee=%{y}<br>count=%{marker.size}\", \"legendgroup\": \"\", \"marker\": {\"color\": \"#636efa\", \"size\": [2, 1, 2, 1, 1, 1, 2, 1, 1, 1, 1, 1, 1, 1, 1, 2, 1, 1, 1, 2, 1, 1, 1, 2, 1, 1, 1, 1, 1, 1, 1, 1, 2, 2, 1, 2, 1, 1, 1, 1], \"sizemode\": \"area\", \"sizeref\": 0.005, \"symbol\": \"circle\"}, \"mode\": \"markers\", \"name\": \"\", \"showlegend\": false, \"type\": \"scatter\", \"x\": [0, 0, 1, 1, 1, 1, 2, 2, 2, 2, 3, 3, 3, 3, 3, 4, 4, 4, 4, 5, 5, 5, 5, 6, 6, 6, 6, 7, 7, 7, 7, 7, 8, 8, 8, 9, 9, 9, 9, 9], \"xaxis\": \"x\", \"y\": [0.0, -1.0, 0.0, -1.0, -0.3333333333333333, 0.3333333333333333, 0.0, -1.0, -0.3333333333333333, 0.3333333333333333, -1.0, -0.3333333333333333, 0.0, 0.3333333333333333, 1.0, 0.3333333333333333, -1.0, -0.3333333333333333, 0.0, 0.3333333333333333, -1.0, -0.3333333333333333, 0.0, -0.3333333333333333, -1.0, 0.3333333333333333, 0.5, -1.0, -0.3333333333333333, 0.0, 0.3333333333333333, 0.6, -1.0, 0.3333333333333333, 0.0, -1.0, 0.0, 0.2, 0.5, 1.0], \"yaxis\": \"y\"}],\n",
              "                        {\"legend\": {\"itemsizing\": \"constant\", \"tracegroupgap\": 0}, \"margin\": {\"t\": 60}, \"template\": {\"data\": {\"bar\": [{\"error_x\": {\"color\": \"#2a3f5f\"}, \"error_y\": {\"color\": \"#2a3f5f\"}, \"marker\": {\"line\": {\"color\": \"#E5ECF6\", \"width\": 0.5}}, \"type\": \"bar\"}], \"barpolar\": [{\"marker\": {\"line\": {\"color\": \"#E5ECF6\", \"width\": 0.5}}, \"type\": \"barpolar\"}], \"carpet\": [{\"aaxis\": {\"endlinecolor\": \"#2a3f5f\", \"gridcolor\": \"white\", \"linecolor\": \"white\", \"minorgridcolor\": \"white\", \"startlinecolor\": \"#2a3f5f\"}, \"baxis\": {\"endlinecolor\": \"#2a3f5f\", \"gridcolor\": \"white\", \"linecolor\": \"white\", \"minorgridcolor\": \"white\", \"startlinecolor\": \"#2a3f5f\"}, \"type\": \"carpet\"}], \"choropleth\": [{\"colorbar\": {\"outlinewidth\": 0, \"ticks\": \"\"}, \"type\": \"choropleth\"}], \"contour\": [{\"colorbar\": {\"outlinewidth\": 0, \"ticks\": \"\"}, \"colorscale\": [[0.0, \"#0d0887\"], [0.1111111111111111, \"#46039f\"], [0.2222222222222222, \"#7201a8\"], [0.3333333333333333, \"#9c179e\"], [0.4444444444444444, \"#bd3786\"], [0.5555555555555556, \"#d8576b\"], [0.6666666666666666, \"#ed7953\"], [0.7777777777777778, \"#fb9f3a\"], [0.8888888888888888, \"#fdca26\"], [1.0, \"#f0f921\"]], \"type\": \"contour\"}], \"contourcarpet\": [{\"colorbar\": {\"outlinewidth\": 0, \"ticks\": \"\"}, \"type\": \"contourcarpet\"}], \"heatmap\": [{\"colorbar\": {\"outlinewidth\": 0, \"ticks\": \"\"}, \"colorscale\": [[0.0, \"#0d0887\"], [0.1111111111111111, \"#46039f\"], [0.2222222222222222, \"#7201a8\"], [0.3333333333333333, \"#9c179e\"], [0.4444444444444444, \"#bd3786\"], [0.5555555555555556, \"#d8576b\"], [0.6666666666666666, \"#ed7953\"], [0.7777777777777778, \"#fb9f3a\"], [0.8888888888888888, \"#fdca26\"], [1.0, \"#f0f921\"]], \"type\": \"heatmap\"}], \"heatmapgl\": [{\"colorbar\": {\"outlinewidth\": 0, \"ticks\": \"\"}, \"colorscale\": [[0.0, \"#0d0887\"], [0.1111111111111111, \"#46039f\"], [0.2222222222222222, \"#7201a8\"], [0.3333333333333333, \"#9c179e\"], [0.4444444444444444, \"#bd3786\"], [0.5555555555555556, \"#d8576b\"], [0.6666666666666666, \"#ed7953\"], [0.7777777777777778, \"#fb9f3a\"], [0.8888888888888888, \"#fdca26\"], [1.0, \"#f0f921\"]], \"type\": \"heatmapgl\"}], \"histogram\": [{\"marker\": {\"colorbar\": {\"outlinewidth\": 0, \"ticks\": \"\"}}, \"type\": \"histogram\"}], \"histogram2d\": [{\"colorbar\": {\"outlinewidth\": 0, \"ticks\": \"\"}, \"colorscale\": [[0.0, \"#0d0887\"], [0.1111111111111111, \"#46039f\"], [0.2222222222222222, \"#7201a8\"], [0.3333333333333333, \"#9c179e\"], [0.4444444444444444, \"#bd3786\"], [0.5555555555555556, \"#d8576b\"], [0.6666666666666666, \"#ed7953\"], [0.7777777777777778, \"#fb9f3a\"], [0.8888888888888888, \"#fdca26\"], [1.0, \"#f0f921\"]], \"type\": \"histogram2d\"}], \"histogram2dcontour\": [{\"colorbar\": {\"outlinewidth\": 0, \"ticks\": \"\"}, \"colorscale\": [[0.0, \"#0d0887\"], [0.1111111111111111, \"#46039f\"], [0.2222222222222222, \"#7201a8\"], [0.3333333333333333, \"#9c179e\"], [0.4444444444444444, \"#bd3786\"], [0.5555555555555556, \"#d8576b\"], [0.6666666666666666, \"#ed7953\"], [0.7777777777777778, \"#fb9f3a\"], [0.8888888888888888, \"#fdca26\"], [1.0, \"#f0f921\"]], \"type\": \"histogram2dcontour\"}], \"mesh3d\": [{\"colorbar\": {\"outlinewidth\": 0, \"ticks\": \"\"}, \"type\": \"mesh3d\"}], \"parcoords\": [{\"line\": {\"colorbar\": {\"outlinewidth\": 0, \"ticks\": \"\"}}, \"type\": \"parcoords\"}], \"pie\": [{\"automargin\": true, \"type\": \"pie\"}], \"scatter\": [{\"marker\": {\"colorbar\": {\"outlinewidth\": 0, \"ticks\": \"\"}}, \"type\": \"scatter\"}], \"scatter3d\": [{\"line\": {\"colorbar\": {\"outlinewidth\": 0, \"ticks\": \"\"}}, \"marker\": {\"colorbar\": {\"outlinewidth\": 0, \"ticks\": \"\"}}, \"type\": \"scatter3d\"}], \"scattercarpet\": [{\"marker\": {\"colorbar\": {\"outlinewidth\": 0, \"ticks\": \"\"}}, \"type\": \"scattercarpet\"}], \"scattergeo\": [{\"marker\": {\"colorbar\": {\"outlinewidth\": 0, \"ticks\": \"\"}}, \"type\": \"scattergeo\"}], \"scattergl\": [{\"marker\": {\"colorbar\": {\"outlinewidth\": 0, \"ticks\": \"\"}}, \"type\": \"scattergl\"}], \"scattermapbox\": [{\"marker\": {\"colorbar\": {\"outlinewidth\": 0, \"ticks\": \"\"}}, \"type\": \"scattermapbox\"}], \"scatterpolar\": [{\"marker\": {\"colorbar\": {\"outlinewidth\": 0, \"ticks\": \"\"}}, \"type\": \"scatterpolar\"}], \"scatterpolargl\": [{\"marker\": {\"colorbar\": {\"outlinewidth\": 0, \"ticks\": \"\"}}, \"type\": \"scatterpolargl\"}], \"scatterternary\": [{\"marker\": {\"colorbar\": {\"outlinewidth\": 0, \"ticks\": \"\"}}, \"type\": \"scatterternary\"}], \"surface\": [{\"colorbar\": {\"outlinewidth\": 0, \"ticks\": \"\"}, \"colorscale\": [[0.0, \"#0d0887\"], [0.1111111111111111, \"#46039f\"], [0.2222222222222222, \"#7201a8\"], [0.3333333333333333, \"#9c179e\"], [0.4444444444444444, \"#bd3786\"], [0.5555555555555556, \"#d8576b\"], [0.6666666666666666, \"#ed7953\"], [0.7777777777777778, \"#fb9f3a\"], [0.8888888888888888, \"#fdca26\"], [1.0, \"#f0f921\"]], \"type\": \"surface\"}], \"table\": [{\"cells\": {\"fill\": {\"color\": \"#EBF0F8\"}, \"line\": {\"color\": \"white\"}}, \"header\": {\"fill\": {\"color\": \"#C8D4E3\"}, \"line\": {\"color\": \"white\"}}, \"type\": \"table\"}]}, \"layout\": {\"annotationdefaults\": {\"arrowcolor\": \"#2a3f5f\", \"arrowhead\": 0, \"arrowwidth\": 1}, \"coloraxis\": {\"colorbar\": {\"outlinewidth\": 0, \"ticks\": \"\"}}, \"colorscale\": {\"diverging\": [[0, \"#8e0152\"], [0.1, \"#c51b7d\"], [0.2, \"#de77ae\"], [0.3, \"#f1b6da\"], [0.4, \"#fde0ef\"], [0.5, \"#f7f7f7\"], [0.6, \"#e6f5d0\"], [0.7, \"#b8e186\"], [0.8, \"#7fbc41\"], [0.9, \"#4d9221\"], [1, \"#276419\"]], \"sequential\": [[0.0, \"#0d0887\"], [0.1111111111111111, \"#46039f\"], [0.2222222222222222, \"#7201a8\"], [0.3333333333333333, \"#9c179e\"], [0.4444444444444444, \"#bd3786\"], [0.5555555555555556, \"#d8576b\"], [0.6666666666666666, \"#ed7953\"], [0.7777777777777778, \"#fb9f3a\"], [0.8888888888888888, \"#fdca26\"], [1.0, \"#f0f921\"]], \"sequentialminus\": [[0.0, \"#0d0887\"], [0.1111111111111111, \"#46039f\"], [0.2222222222222222, \"#7201a8\"], [0.3333333333333333, \"#9c179e\"], [0.4444444444444444, \"#bd3786\"], [0.5555555555555556, \"#d8576b\"], [0.6666666666666666, \"#ed7953\"], [0.7777777777777778, \"#fb9f3a\"], [0.8888888888888888, \"#fdca26\"], [1.0, \"#f0f921\"]]}, \"colorway\": [\"#636efa\", \"#EF553B\", \"#00cc96\", \"#ab63fa\", \"#FFA15A\", \"#19d3f3\", \"#FF6692\", \"#B6E880\", \"#FF97FF\", \"#FECB52\"], \"font\": {\"color\": \"#2a3f5f\"}, \"geo\": {\"bgcolor\": \"white\", \"lakecolor\": \"white\", \"landcolor\": \"#E5ECF6\", \"showlakes\": true, \"showland\": true, \"subunitcolor\": \"white\"}, \"hoverlabel\": {\"align\": \"left\"}, \"hovermode\": \"closest\", \"mapbox\": {\"style\": \"light\"}, \"paper_bgcolor\": \"white\", \"plot_bgcolor\": \"#E5ECF6\", \"polar\": {\"angularaxis\": {\"gridcolor\": \"white\", \"linecolor\": \"white\", \"ticks\": \"\"}, \"bgcolor\": \"#E5ECF6\", \"radialaxis\": {\"gridcolor\": \"white\", \"linecolor\": \"white\", \"ticks\": \"\"}}, \"scene\": {\"xaxis\": {\"backgroundcolor\": \"#E5ECF6\", \"gridcolor\": \"white\", \"gridwidth\": 2, \"linecolor\": \"white\", \"showbackground\": true, \"ticks\": \"\", \"zerolinecolor\": \"white\"}, \"yaxis\": {\"backgroundcolor\": \"#E5ECF6\", \"gridcolor\": \"white\", \"gridwidth\": 2, \"linecolor\": \"white\", \"showbackground\": true, \"ticks\": \"\", \"zerolinecolor\": \"white\"}, \"zaxis\": {\"backgroundcolor\": \"#E5ECF6\", \"gridcolor\": \"white\", \"gridwidth\": 2, \"linecolor\": \"white\", \"showbackground\": true, \"ticks\": \"\", \"zerolinecolor\": \"white\"}}, \"shapedefaults\": {\"line\": {\"color\": \"#2a3f5f\"}}, \"ternary\": {\"aaxis\": {\"gridcolor\": \"white\", \"linecolor\": \"white\", \"ticks\": \"\"}, \"baxis\": {\"gridcolor\": \"white\", \"linecolor\": \"white\", \"ticks\": \"\"}, \"bgcolor\": \"#E5ECF6\", \"caxis\": {\"gridcolor\": \"white\", \"linecolor\": \"white\", \"ticks\": \"\"}}, \"title\": {\"x\": 0.05}, \"xaxis\": {\"automargin\": true, \"gridcolor\": \"white\", \"linecolor\": \"white\", \"ticks\": \"\", \"title\": {\"standoff\": 15}, \"zerolinecolor\": \"white\", \"zerolinewidth\": 2}, \"yaxis\": {\"automargin\": true, \"gridcolor\": \"white\", \"linecolor\": \"white\", \"ticks\": \"\", \"title\": {\"standoff\": 15}, \"zerolinecolor\": \"white\", \"zerolinewidth\": 2}}}, \"xaxis\": {\"anchor\": \"y\", \"domain\": [0.0, 1.0], \"title\": {\"text\": \"Iteration\"}}, \"yaxis\": {\"anchor\": \"x\", \"domain\": [0.0, 1.0], \"title\": {\"text\": \"Signed ee\"}}},\n",
              "                        {\"responsive\": true}\n",
              "                    ).then(function(){\n",
              "                            \n",
              "var gd = document.getElementById('403792c4-4e8f-4277-b34d-2a1ec85ae10f');\n",
              "var x = new MutationObserver(function (mutations, observer) {{\n",
              "        var display = window.getComputedStyle(gd).display;\n",
              "        if (!display || display === 'none') {{\n",
              "            console.log([gd, 'removed!']);\n",
              "            Plotly.purge(gd);\n",
              "            observer.disconnect();\n",
              "        }}\n",
              "}});\n",
              "\n",
              "// Listen for the removal of the full notebook cells\n",
              "var notebookContainer = gd.closest('#notebook-container');\n",
              "if (notebookContainer) {{\n",
              "    x.observe(notebookContainer, {childList: true});\n",
              "}}\n",
              "\n",
              "// Listen for the clearing of the current output cell\n",
              "var outputEl = gd.closest('.output');\n",
              "if (outputEl) {{\n",
              "    x.observe(outputEl, {childList: true});\n",
              "}}\n",
              "\n",
              "                        })\n",
              "                };\n",
              "                \n",
              "            </script>\n",
              "        </div>\n",
              "</body>\n",
              "</html>"
            ]
          },
          "metadata": {
            "tags": [
              "id11_content_0",
              "outputarea_id11",
              "user_output"
            ]
          }
        },
        {
          "output_type": "display_data",
          "data": {
            "application/javascript": [
              "window[\"b829bcdc-c5eb-11ea-8df1-0242ac1c0002\"] = google.colab.output.setActiveOutputArea(window[\"b7fb7f34-c5eb-11ea-8df1-0242ac1c0002\"]);\n",
              "//# sourceURL=js_bbd7c266a9"
            ],
            "text/plain": [
              "<IPython.core.display.Javascript object>"
            ]
          },
          "metadata": {
            "tags": [
              "id11_content_0",
              "outputarea_id11"
            ]
          }
        },
        {
          "output_type": "display_data",
          "data": {
            "application/javascript": [
              "window[\"b82b9778-c5eb-11ea-8df1-0242ac1c0002\"] = google.colab.output.getActiveOutputArea();\n",
              "//# sourceURL=js_25f4b3af7c"
            ],
            "text/plain": [
              "<IPython.core.display.Javascript object>"
            ]
          },
          "metadata": {
            "tags": [
              "id11_content_1",
              "outputarea_id11"
            ]
          }
        },
        {
          "output_type": "display_data",
          "data": {
            "application/javascript": [
              "window[\"b82bd9c2-c5eb-11ea-8df1-0242ac1c0002\"] = document.querySelector(\"#id11_content_1\");\n",
              "//# sourceURL=js_f28ef279ce"
            ],
            "text/plain": [
              "<IPython.core.display.Javascript object>"
            ]
          },
          "metadata": {
            "tags": [
              "id11_content_1",
              "outputarea_id11"
            ]
          }
        },
        {
          "output_type": "display_data",
          "data": {
            "application/javascript": [
              "window[\"b82c1e5a-c5eb-11ea-8df1-0242ac1c0002\"] = google.colab.output.setActiveOutputArea(window[\"b82bd9c2-c5eb-11ea-8df1-0242ac1c0002\"]);\n",
              "//# sourceURL=js_4c81cd58c0"
            ],
            "text/plain": [
              "<IPython.core.display.Javascript object>"
            ]
          },
          "metadata": {
            "tags": [
              "id11_content_1",
              "outputarea_id11"
            ]
          }
        },
        {
          "output_type": "display_data",
          "data": {
            "text/html": [
              "<html>\n",
              "<head><meta charset=\"utf-8\" /></head>\n",
              "<body>\n",
              "    <div>\n",
              "            <script src=\"https://cdnjs.cloudflare.com/ajax/libs/mathjax/2.7.5/MathJax.js?config=TeX-AMS-MML_SVG\"></script><script type=\"text/javascript\">if (window.MathJax) {MathJax.Hub.Config({SVG: {font: \"STIX-Web\"}});}</script>\n",
              "                <script type=\"text/javascript\">window.PlotlyConfig = {MathJaxConfig: 'local'};</script>\n",
              "        <script src=\"https://cdn.plot.ly/plotly-latest.min.js\"></script>    \n",
              "            <div id=\"1c0d596d-097a-4ce6-bb31-0e92b2af4c41\" class=\"plotly-graph-div\" style=\"height:525px; width:100%;\"></div>\n",
              "            <script type=\"text/javascript\">\n",
              "                \n",
              "                    window.PLOTLYENV=window.PLOTLYENV || {};\n",
              "                    \n",
              "                if (document.getElementById(\"1c0d596d-097a-4ce6-bb31-0e92b2af4c41\")) {\n",
              "                    Plotly.newPlot(\n",
              "                        '1c0d596d-097a-4ce6-bb31-0e92b2af4c41',\n",
              "                        [{\"mode\": \"lines\", \"name\": \"left homochiral\", \"type\": \"scatter\", \"y\": [0.0, 0.1, 0.1, 0.18181818181818182, 0.14285714285714285, 0.16666666666666666, 0.13333333333333333, 0.21052631578947367, 0.21052631578947367, 0.2222222222222222]}, {\"mode\": \"lines\", \"name\": \"right homochiral\", \"type\": \"scatter\", \"y\": [0.25, 0.2, 0.2, 0.18181818181818182, 0.14285714285714285, 0.16666666666666666, 0.2, 0.15789473684210525, 0.15789473684210525, 0.16666666666666666]}, {\"mode\": \"lines\", \"name\": \"heterochiral\", \"type\": \"scatter\", \"y\": [0.75, 0.7, 0.7, 0.6363636363636364, 0.7142857142857143, 0.6666666666666666, 0.6666666666666666, 0.631578947368421, 0.631578947368421, 0.6111111111111112]}],\n",
              "                        {\"template\": {\"data\": {\"bar\": [{\"error_x\": {\"color\": \"#2a3f5f\"}, \"error_y\": {\"color\": \"#2a3f5f\"}, \"marker\": {\"line\": {\"color\": \"#E5ECF6\", \"width\": 0.5}}, \"type\": \"bar\"}], \"barpolar\": [{\"marker\": {\"line\": {\"color\": \"#E5ECF6\", \"width\": 0.5}}, \"type\": \"barpolar\"}], \"carpet\": [{\"aaxis\": {\"endlinecolor\": \"#2a3f5f\", \"gridcolor\": \"white\", \"linecolor\": \"white\", \"minorgridcolor\": \"white\", \"startlinecolor\": \"#2a3f5f\"}, \"baxis\": {\"endlinecolor\": \"#2a3f5f\", \"gridcolor\": \"white\", \"linecolor\": \"white\", \"minorgridcolor\": \"white\", \"startlinecolor\": \"#2a3f5f\"}, \"type\": \"carpet\"}], \"choropleth\": [{\"colorbar\": {\"outlinewidth\": 0, \"ticks\": \"\"}, \"type\": \"choropleth\"}], \"contour\": [{\"colorbar\": {\"outlinewidth\": 0, \"ticks\": \"\"}, \"colorscale\": [[0.0, \"#0d0887\"], [0.1111111111111111, \"#46039f\"], [0.2222222222222222, \"#7201a8\"], [0.3333333333333333, \"#9c179e\"], [0.4444444444444444, \"#bd3786\"], [0.5555555555555556, \"#d8576b\"], [0.6666666666666666, \"#ed7953\"], [0.7777777777777778, \"#fb9f3a\"], [0.8888888888888888, \"#fdca26\"], [1.0, \"#f0f921\"]], \"type\": \"contour\"}], \"contourcarpet\": [{\"colorbar\": {\"outlinewidth\": 0, \"ticks\": \"\"}, \"type\": \"contourcarpet\"}], \"heatmap\": [{\"colorbar\": {\"outlinewidth\": 0, \"ticks\": \"\"}, \"colorscale\": [[0.0, \"#0d0887\"], [0.1111111111111111, \"#46039f\"], [0.2222222222222222, \"#7201a8\"], [0.3333333333333333, \"#9c179e\"], [0.4444444444444444, \"#bd3786\"], [0.5555555555555556, \"#d8576b\"], [0.6666666666666666, \"#ed7953\"], [0.7777777777777778, \"#fb9f3a\"], [0.8888888888888888, \"#fdca26\"], [1.0, \"#f0f921\"]], \"type\": \"heatmap\"}], \"heatmapgl\": [{\"colorbar\": {\"outlinewidth\": 0, \"ticks\": \"\"}, \"colorscale\": [[0.0, \"#0d0887\"], [0.1111111111111111, \"#46039f\"], [0.2222222222222222, \"#7201a8\"], [0.3333333333333333, \"#9c179e\"], [0.4444444444444444, \"#bd3786\"], [0.5555555555555556, \"#d8576b\"], [0.6666666666666666, \"#ed7953\"], [0.7777777777777778, \"#fb9f3a\"], [0.8888888888888888, \"#fdca26\"], [1.0, \"#f0f921\"]], \"type\": \"heatmapgl\"}], \"histogram\": [{\"marker\": {\"colorbar\": {\"outlinewidth\": 0, \"ticks\": \"\"}}, \"type\": \"histogram\"}], \"histogram2d\": [{\"colorbar\": {\"outlinewidth\": 0, \"ticks\": \"\"}, \"colorscale\": [[0.0, \"#0d0887\"], [0.1111111111111111, \"#46039f\"], [0.2222222222222222, \"#7201a8\"], [0.3333333333333333, \"#9c179e\"], [0.4444444444444444, \"#bd3786\"], [0.5555555555555556, \"#d8576b\"], [0.6666666666666666, \"#ed7953\"], [0.7777777777777778, \"#fb9f3a\"], [0.8888888888888888, \"#fdca26\"], [1.0, \"#f0f921\"]], \"type\": \"histogram2d\"}], \"histogram2dcontour\": [{\"colorbar\": {\"outlinewidth\": 0, \"ticks\": \"\"}, \"colorscale\": [[0.0, \"#0d0887\"], [0.1111111111111111, \"#46039f\"], [0.2222222222222222, \"#7201a8\"], [0.3333333333333333, \"#9c179e\"], [0.4444444444444444, \"#bd3786\"], [0.5555555555555556, \"#d8576b\"], [0.6666666666666666, \"#ed7953\"], [0.7777777777777778, \"#fb9f3a\"], [0.8888888888888888, \"#fdca26\"], [1.0, \"#f0f921\"]], \"type\": \"histogram2dcontour\"}], \"mesh3d\": [{\"colorbar\": {\"outlinewidth\": 0, \"ticks\": \"\"}, \"type\": \"mesh3d\"}], \"parcoords\": [{\"line\": {\"colorbar\": {\"outlinewidth\": 0, \"ticks\": \"\"}}, \"type\": \"parcoords\"}], \"pie\": [{\"automargin\": true, \"type\": \"pie\"}], \"scatter\": [{\"marker\": {\"colorbar\": {\"outlinewidth\": 0, \"ticks\": \"\"}}, \"type\": \"scatter\"}], \"scatter3d\": [{\"line\": {\"colorbar\": {\"outlinewidth\": 0, \"ticks\": \"\"}}, \"marker\": {\"colorbar\": {\"outlinewidth\": 0, \"ticks\": \"\"}}, \"type\": \"scatter3d\"}], \"scattercarpet\": [{\"marker\": {\"colorbar\": {\"outlinewidth\": 0, \"ticks\": \"\"}}, \"type\": \"scattercarpet\"}], \"scattergeo\": [{\"marker\": {\"colorbar\": {\"outlinewidth\": 0, \"ticks\": \"\"}}, \"type\": \"scattergeo\"}], \"scattergl\": [{\"marker\": {\"colorbar\": {\"outlinewidth\": 0, \"ticks\": \"\"}}, \"type\": \"scattergl\"}], \"scattermapbox\": [{\"marker\": {\"colorbar\": {\"outlinewidth\": 0, \"ticks\": \"\"}}, \"type\": \"scattermapbox\"}], \"scatterpolar\": [{\"marker\": {\"colorbar\": {\"outlinewidth\": 0, \"ticks\": \"\"}}, \"type\": \"scatterpolar\"}], \"scatterpolargl\": [{\"marker\": {\"colorbar\": {\"outlinewidth\": 0, \"ticks\": \"\"}}, \"type\": \"scatterpolargl\"}], \"scatterternary\": [{\"marker\": {\"colorbar\": {\"outlinewidth\": 0, \"ticks\": \"\"}}, \"type\": \"scatterternary\"}], \"surface\": [{\"colorbar\": {\"outlinewidth\": 0, \"ticks\": \"\"}, \"colorscale\": [[0.0, \"#0d0887\"], [0.1111111111111111, \"#46039f\"], [0.2222222222222222, \"#7201a8\"], [0.3333333333333333, \"#9c179e\"], [0.4444444444444444, \"#bd3786\"], [0.5555555555555556, \"#d8576b\"], [0.6666666666666666, \"#ed7953\"], [0.7777777777777778, \"#fb9f3a\"], [0.8888888888888888, \"#fdca26\"], [1.0, \"#f0f921\"]], \"type\": \"surface\"}], \"table\": [{\"cells\": {\"fill\": {\"color\": \"#EBF0F8\"}, \"line\": {\"color\": \"white\"}}, \"header\": {\"fill\": {\"color\": \"#C8D4E3\"}, \"line\": {\"color\": \"white\"}}, \"type\": \"table\"}]}, \"layout\": {\"annotationdefaults\": {\"arrowcolor\": \"#2a3f5f\", \"arrowhead\": 0, \"arrowwidth\": 1}, \"coloraxis\": {\"colorbar\": {\"outlinewidth\": 0, \"ticks\": \"\"}}, \"colorscale\": {\"diverging\": [[0, \"#8e0152\"], [0.1, \"#c51b7d\"], [0.2, \"#de77ae\"], [0.3, \"#f1b6da\"], [0.4, \"#fde0ef\"], [0.5, \"#f7f7f7\"], [0.6, \"#e6f5d0\"], [0.7, \"#b8e186\"], [0.8, \"#7fbc41\"], [0.9, \"#4d9221\"], [1, \"#276419\"]], \"sequential\": [[0.0, \"#0d0887\"], [0.1111111111111111, \"#46039f\"], [0.2222222222222222, \"#7201a8\"], [0.3333333333333333, \"#9c179e\"], [0.4444444444444444, \"#bd3786\"], [0.5555555555555556, \"#d8576b\"], [0.6666666666666666, \"#ed7953\"], [0.7777777777777778, \"#fb9f3a\"], [0.8888888888888888, \"#fdca26\"], [1.0, \"#f0f921\"]], \"sequentialminus\": [[0.0, \"#0d0887\"], [0.1111111111111111, \"#46039f\"], [0.2222222222222222, \"#7201a8\"], [0.3333333333333333, \"#9c179e\"], [0.4444444444444444, \"#bd3786\"], [0.5555555555555556, \"#d8576b\"], [0.6666666666666666, \"#ed7953\"], [0.7777777777777778, \"#fb9f3a\"], [0.8888888888888888, \"#fdca26\"], [1.0, \"#f0f921\"]]}, \"colorway\": [\"#636efa\", \"#EF553B\", \"#00cc96\", \"#ab63fa\", \"#FFA15A\", \"#19d3f3\", \"#FF6692\", \"#B6E880\", \"#FF97FF\", \"#FECB52\"], \"font\": {\"color\": \"#2a3f5f\"}, \"geo\": {\"bgcolor\": \"white\", \"lakecolor\": \"white\", \"landcolor\": \"#E5ECF6\", \"showlakes\": true, \"showland\": true, \"subunitcolor\": \"white\"}, \"hoverlabel\": {\"align\": \"left\"}, \"hovermode\": \"closest\", \"mapbox\": {\"style\": \"light\"}, \"paper_bgcolor\": \"white\", \"plot_bgcolor\": \"#E5ECF6\", \"polar\": {\"angularaxis\": {\"gridcolor\": \"white\", \"linecolor\": \"white\", \"ticks\": \"\"}, \"bgcolor\": \"#E5ECF6\", \"radialaxis\": {\"gridcolor\": \"white\", \"linecolor\": \"white\", \"ticks\": \"\"}}, \"scene\": {\"xaxis\": {\"backgroundcolor\": \"#E5ECF6\", \"gridcolor\": \"white\", \"gridwidth\": 2, \"linecolor\": \"white\", \"showbackground\": true, \"ticks\": \"\", \"zerolinecolor\": \"white\"}, \"yaxis\": {\"backgroundcolor\": \"#E5ECF6\", \"gridcolor\": \"white\", \"gridwidth\": 2, \"linecolor\": \"white\", \"showbackground\": true, \"ticks\": \"\", \"zerolinecolor\": \"white\"}, \"zaxis\": {\"backgroundcolor\": \"#E5ECF6\", \"gridcolor\": \"white\", \"gridwidth\": 2, \"linecolor\": \"white\", \"showbackground\": true, \"ticks\": \"\", \"zerolinecolor\": \"white\"}}, \"shapedefaults\": {\"line\": {\"color\": \"#2a3f5f\"}}, \"ternary\": {\"aaxis\": {\"gridcolor\": \"white\", \"linecolor\": \"white\", \"ticks\": \"\"}, \"baxis\": {\"gridcolor\": \"white\", \"linecolor\": \"white\", \"ticks\": \"\"}, \"bgcolor\": \"#E5ECF6\", \"caxis\": {\"gridcolor\": \"white\", \"linecolor\": \"white\", \"ticks\": \"\"}}, \"title\": {\"x\": 0.05}, \"xaxis\": {\"automargin\": true, \"gridcolor\": \"white\", \"linecolor\": \"white\", \"ticks\": \"\", \"title\": {\"standoff\": 15}, \"zerolinecolor\": \"white\", \"zerolinewidth\": 2}, \"yaxis\": {\"automargin\": true, \"gridcolor\": \"white\", \"linecolor\": \"white\", \"ticks\": \"\", \"title\": {\"standoff\": 15}, \"zerolinecolor\": \"white\", \"zerolinewidth\": 2}}}, \"title\": {\"text\": \"Proportion of LL, RR, and LR bonds by iteration\"}, \"xaxis\": {\"title\": {\"text\": \"Iteration\"}}, \"yaxis\": {\"range\": [0, 1], \"title\": {\"text\": \"Proportion\"}}},\n",
              "                        {\"responsive\": true}\n",
              "                    ).then(function(){\n",
              "                            \n",
              "var gd = document.getElementById('1c0d596d-097a-4ce6-bb31-0e92b2af4c41');\n",
              "var x = new MutationObserver(function (mutations, observer) {{\n",
              "        var display = window.getComputedStyle(gd).display;\n",
              "        if (!display || display === 'none') {{\n",
              "            console.log([gd, 'removed!']);\n",
              "            Plotly.purge(gd);\n",
              "            observer.disconnect();\n",
              "        }}\n",
              "}});\n",
              "\n",
              "// Listen for the removal of the full notebook cells\n",
              "var notebookContainer = gd.closest('#notebook-container');\n",
              "if (notebookContainer) {{\n",
              "    x.observe(notebookContainer, {childList: true});\n",
              "}}\n",
              "\n",
              "// Listen for the clearing of the current output cell\n",
              "var outputEl = gd.closest('.output');\n",
              "if (outputEl) {{\n",
              "    x.observe(outputEl, {childList: true});\n",
              "}}\n",
              "\n",
              "                        })\n",
              "                };\n",
              "                \n",
              "            </script>\n",
              "        </div>\n",
              "</body>\n",
              "</html>"
            ]
          },
          "metadata": {
            "tags": [
              "id11_content_1",
              "outputarea_id11",
              "user_output"
            ]
          }
        },
        {
          "output_type": "display_data",
          "data": {
            "application/javascript": [
              "window[\"b8443abc-c5eb-11ea-8df1-0242ac1c0002\"] = google.colab.output.setActiveOutputArea(window[\"b82b9778-c5eb-11ea-8df1-0242ac1c0002\"]);\n",
              "//# sourceURL=js_b87c53d9e0"
            ],
            "text/plain": [
              "<IPython.core.display.Javascript object>"
            ]
          },
          "metadata": {
            "tags": [
              "id11_content_1",
              "outputarea_id11"
            ]
          }
        },
        {
          "output_type": "display_data",
          "data": {
            "application/javascript": [
              "window[\"b845549c-c5eb-11ea-8df1-0242ac1c0002\"] = google.colab.output.getActiveOutputArea();\n",
              "//# sourceURL=js_026b65a637"
            ],
            "text/plain": [
              "<IPython.core.display.Javascript object>"
            ]
          },
          "metadata": {
            "tags": [
              "id11_content_2",
              "outputarea_id11"
            ]
          }
        },
        {
          "output_type": "display_data",
          "data": {
            "application/javascript": [
              "window[\"b8458a20-c5eb-11ea-8df1-0242ac1c0002\"] = document.querySelector(\"#id11_content_2\");\n",
              "//# sourceURL=js_5cd0f54ebf"
            ],
            "text/plain": [
              "<IPython.core.display.Javascript object>"
            ]
          },
          "metadata": {
            "tags": [
              "id11_content_2",
              "outputarea_id11"
            ]
          }
        },
        {
          "output_type": "display_data",
          "data": {
            "application/javascript": [
              "window[\"b845c396-c5eb-11ea-8df1-0242ac1c0002\"] = google.colab.output.setActiveOutputArea(window[\"b8458a20-c5eb-11ea-8df1-0242ac1c0002\"]);\n",
              "//# sourceURL=js_495e52b29e"
            ],
            "text/plain": [
              "<IPython.core.display.Javascript object>"
            ]
          },
          "metadata": {
            "tags": [
              "id11_content_2",
              "outputarea_id11"
            ]
          }
        },
        {
          "output_type": "display_data",
          "data": {
            "text/html": [
              "<html>\n",
              "<head><meta charset=\"utf-8\" /></head>\n",
              "<body>\n",
              "    <div>\n",
              "            <script src=\"https://cdnjs.cloudflare.com/ajax/libs/mathjax/2.7.5/MathJax.js?config=TeX-AMS-MML_SVG\"></script><script type=\"text/javascript\">if (window.MathJax) {MathJax.Hub.Config({SVG: {font: \"STIX-Web\"}});}</script>\n",
              "                <script type=\"text/javascript\">window.PlotlyConfig = {MathJaxConfig: 'local'};</script>\n",
              "        <script src=\"https://cdn.plot.ly/plotly-latest.min.js\"></script>    \n",
              "            <div id=\"77608115-5443-40f7-8c8a-c6e0eedabaaf\" class=\"plotly-graph-div\" style=\"height:525px; width:100%;\"></div>\n",
              "            <script type=\"text/javascript\">\n",
              "                \n",
              "                    window.PLOTLYENV=window.PLOTLYENV || {};\n",
              "                    \n",
              "                if (document.getElementById(\"77608115-5443-40f7-8c8a-c6e0eedabaaf\")) {\n",
              "                    Plotly.newPlot(\n",
              "                        '77608115-5443-40f7-8c8a-c6e0eedabaaf',\n",
              "                        [{\"hoverlabel\": {\"namelength\": 0}, \"hovertemplate\": \"Iteration=0<br>Length=%{x}<br>%Homochirality=%{y}\", \"legendgroup\": \"\", \"marker\": {\"color\": \"#636efa\", \"symbol\": \"circle\"}, \"mode\": \"markers\", \"name\": \"\", \"showlegend\": false, \"type\": \"scatter\", \"x\": [1, 1, 1, 1, 2, 2, 2], \"xaxis\": \"x\", \"y\": [null, null, null, null, 1.0, 0.0, 0.0], \"yaxis\": \"y\"}],\n",
              "                        {\"legend\": {\"tracegroupgap\": 0}, \"margin\": {\"t\": 60}, \"sliders\": [{\"active\": 0, \"currentvalue\": {\"prefix\": \"Iteration=\"}, \"len\": 0.9, \"pad\": {\"b\": 10, \"t\": 60}, \"steps\": [{\"args\": [[\"0\"], {\"frame\": {\"duration\": 0, \"redraw\": false}, \"fromcurrent\": true, \"mode\": \"immediate\", \"transition\": {\"duration\": 0, \"easing\": \"linear\"}}], \"label\": \"0\", \"method\": \"animate\"}, {\"args\": [[\"1\"], {\"frame\": {\"duration\": 0, \"redraw\": false}, \"fromcurrent\": true, \"mode\": \"immediate\", \"transition\": {\"duration\": 0, \"easing\": \"linear\"}}], \"label\": \"1\", \"method\": \"animate\"}, {\"args\": [[\"2\"], {\"frame\": {\"duration\": 0, \"redraw\": false}, \"fromcurrent\": true, \"mode\": \"immediate\", \"transition\": {\"duration\": 0, \"easing\": \"linear\"}}], \"label\": \"2\", \"method\": \"animate\"}, {\"args\": [[\"3\"], {\"frame\": {\"duration\": 0, \"redraw\": false}, \"fromcurrent\": true, \"mode\": \"immediate\", \"transition\": {\"duration\": 0, \"easing\": \"linear\"}}], \"label\": \"3\", \"method\": \"animate\"}, {\"args\": [[\"4\"], {\"frame\": {\"duration\": 0, \"redraw\": false}, \"fromcurrent\": true, \"mode\": \"immediate\", \"transition\": {\"duration\": 0, \"easing\": \"linear\"}}], \"label\": \"4\", \"method\": \"animate\"}, {\"args\": [[\"5\"], {\"frame\": {\"duration\": 0, \"redraw\": false}, \"fromcurrent\": true, \"mode\": \"immediate\", \"transition\": {\"duration\": 0, \"easing\": \"linear\"}}], \"label\": \"5\", \"method\": \"animate\"}, {\"args\": [[\"6\"], {\"frame\": {\"duration\": 0, \"redraw\": false}, \"fromcurrent\": true, \"mode\": \"immediate\", \"transition\": {\"duration\": 0, \"easing\": \"linear\"}}], \"label\": \"6\", \"method\": \"animate\"}, {\"args\": [[\"7\"], {\"frame\": {\"duration\": 0, \"redraw\": false}, \"fromcurrent\": true, \"mode\": \"immediate\", \"transition\": {\"duration\": 0, \"easing\": \"linear\"}}], \"label\": \"7\", \"method\": \"animate\"}, {\"args\": [[\"8\"], {\"frame\": {\"duration\": 0, \"redraw\": false}, \"fromcurrent\": true, \"mode\": \"immediate\", \"transition\": {\"duration\": 0, \"easing\": \"linear\"}}], \"label\": \"8\", \"method\": \"animate\"}, {\"args\": [[\"9\"], {\"frame\": {\"duration\": 0, \"redraw\": false}, \"fromcurrent\": true, \"mode\": \"immediate\", \"transition\": {\"duration\": 0, \"easing\": \"linear\"}}], \"label\": \"9\", \"method\": \"animate\"}], \"x\": 0.1, \"xanchor\": \"left\", \"y\": 0, \"yanchor\": \"top\"}], \"template\": {\"data\": {\"bar\": [{\"error_x\": {\"color\": \"#2a3f5f\"}, \"error_y\": {\"color\": \"#2a3f5f\"}, \"marker\": {\"line\": {\"color\": \"#E5ECF6\", \"width\": 0.5}}, \"type\": \"bar\"}], \"barpolar\": [{\"marker\": {\"line\": {\"color\": \"#E5ECF6\", \"width\": 0.5}}, \"type\": \"barpolar\"}], \"carpet\": [{\"aaxis\": {\"endlinecolor\": \"#2a3f5f\", \"gridcolor\": \"white\", \"linecolor\": \"white\", \"minorgridcolor\": \"white\", \"startlinecolor\": \"#2a3f5f\"}, \"baxis\": {\"endlinecolor\": \"#2a3f5f\", \"gridcolor\": \"white\", \"linecolor\": \"white\", \"minorgridcolor\": \"white\", \"startlinecolor\": \"#2a3f5f\"}, \"type\": \"carpet\"}], \"choropleth\": [{\"colorbar\": {\"outlinewidth\": 0, \"ticks\": \"\"}, \"type\": \"choropleth\"}], \"contour\": [{\"colorbar\": {\"outlinewidth\": 0, \"ticks\": \"\"}, \"colorscale\": [[0.0, \"#0d0887\"], [0.1111111111111111, \"#46039f\"], [0.2222222222222222, \"#7201a8\"], [0.3333333333333333, \"#9c179e\"], [0.4444444444444444, \"#bd3786\"], [0.5555555555555556, \"#d8576b\"], [0.6666666666666666, \"#ed7953\"], [0.7777777777777778, \"#fb9f3a\"], [0.8888888888888888, \"#fdca26\"], [1.0, \"#f0f921\"]], \"type\": \"contour\"}], \"contourcarpet\": [{\"colorbar\": {\"outlinewidth\": 0, \"ticks\": \"\"}, \"type\": \"contourcarpet\"}], \"heatmap\": [{\"colorbar\": {\"outlinewidth\": 0, \"ticks\": \"\"}, \"colorscale\": [[0.0, \"#0d0887\"], [0.1111111111111111, \"#46039f\"], [0.2222222222222222, \"#7201a8\"], [0.3333333333333333, \"#9c179e\"], [0.4444444444444444, \"#bd3786\"], [0.5555555555555556, \"#d8576b\"], [0.6666666666666666, \"#ed7953\"], [0.7777777777777778, \"#fb9f3a\"], [0.8888888888888888, \"#fdca26\"], [1.0, \"#f0f921\"]], \"type\": \"heatmap\"}], \"heatmapgl\": [{\"colorbar\": {\"outlinewidth\": 0, \"ticks\": \"\"}, \"colorscale\": [[0.0, \"#0d0887\"], [0.1111111111111111, \"#46039f\"], [0.2222222222222222, \"#7201a8\"], [0.3333333333333333, \"#9c179e\"], [0.4444444444444444, \"#bd3786\"], [0.5555555555555556, \"#d8576b\"], [0.6666666666666666, \"#ed7953\"], [0.7777777777777778, \"#fb9f3a\"], [0.8888888888888888, \"#fdca26\"], [1.0, \"#f0f921\"]], \"type\": \"heatmapgl\"}], \"histogram\": [{\"marker\": {\"colorbar\": {\"outlinewidth\": 0, \"ticks\": \"\"}}, \"type\": \"histogram\"}], \"histogram2d\": [{\"colorbar\": {\"outlinewidth\": 0, \"ticks\": \"\"}, \"colorscale\": [[0.0, \"#0d0887\"], [0.1111111111111111, \"#46039f\"], [0.2222222222222222, \"#7201a8\"], [0.3333333333333333, \"#9c179e\"], [0.4444444444444444, \"#bd3786\"], [0.5555555555555556, \"#d8576b\"], [0.6666666666666666, \"#ed7953\"], [0.7777777777777778, \"#fb9f3a\"], [0.8888888888888888, \"#fdca26\"], [1.0, \"#f0f921\"]], \"type\": \"histogram2d\"}], \"histogram2dcontour\": [{\"colorbar\": {\"outlinewidth\": 0, \"ticks\": \"\"}, \"colorscale\": [[0.0, \"#0d0887\"], [0.1111111111111111, \"#46039f\"], [0.2222222222222222, \"#7201a8\"], [0.3333333333333333, \"#9c179e\"], [0.4444444444444444, \"#bd3786\"], [0.5555555555555556, \"#d8576b\"], [0.6666666666666666, \"#ed7953\"], [0.7777777777777778, \"#fb9f3a\"], [0.8888888888888888, \"#fdca26\"], [1.0, \"#f0f921\"]], \"type\": \"histogram2dcontour\"}], \"mesh3d\": [{\"colorbar\": {\"outlinewidth\": 0, \"ticks\": \"\"}, \"type\": \"mesh3d\"}], \"parcoords\": [{\"line\": {\"colorbar\": {\"outlinewidth\": 0, \"ticks\": \"\"}}, \"type\": \"parcoords\"}], \"pie\": [{\"automargin\": true, \"type\": \"pie\"}], \"scatter\": [{\"marker\": {\"colorbar\": {\"outlinewidth\": 0, \"ticks\": \"\"}}, \"type\": \"scatter\"}], \"scatter3d\": [{\"line\": {\"colorbar\": {\"outlinewidth\": 0, \"ticks\": \"\"}}, \"marker\": {\"colorbar\": {\"outlinewidth\": 0, \"ticks\": \"\"}}, \"type\": \"scatter3d\"}], \"scattercarpet\": [{\"marker\": {\"colorbar\": {\"outlinewidth\": 0, \"ticks\": \"\"}}, \"type\": \"scattercarpet\"}], \"scattergeo\": [{\"marker\": {\"colorbar\": {\"outlinewidth\": 0, \"ticks\": \"\"}}, \"type\": \"scattergeo\"}], \"scattergl\": [{\"marker\": {\"colorbar\": {\"outlinewidth\": 0, \"ticks\": \"\"}}, \"type\": \"scattergl\"}], \"scattermapbox\": [{\"marker\": {\"colorbar\": {\"outlinewidth\": 0, \"ticks\": \"\"}}, \"type\": \"scattermapbox\"}], \"scatterpolar\": [{\"marker\": {\"colorbar\": {\"outlinewidth\": 0, \"ticks\": \"\"}}, \"type\": \"scatterpolar\"}], \"scatterpolargl\": [{\"marker\": {\"colorbar\": {\"outlinewidth\": 0, \"ticks\": \"\"}}, \"type\": \"scatterpolargl\"}], \"scatterternary\": [{\"marker\": {\"colorbar\": {\"outlinewidth\": 0, \"ticks\": \"\"}}, \"type\": \"scatterternary\"}], \"surface\": [{\"colorbar\": {\"outlinewidth\": 0, \"ticks\": \"\"}, \"colorscale\": [[0.0, \"#0d0887\"], [0.1111111111111111, \"#46039f\"], [0.2222222222222222, \"#7201a8\"], [0.3333333333333333, \"#9c179e\"], [0.4444444444444444, \"#bd3786\"], [0.5555555555555556, \"#d8576b\"], [0.6666666666666666, \"#ed7953\"], [0.7777777777777778, \"#fb9f3a\"], [0.8888888888888888, \"#fdca26\"], [1.0, \"#f0f921\"]], \"type\": \"surface\"}], \"table\": [{\"cells\": {\"fill\": {\"color\": \"#EBF0F8\"}, \"line\": {\"color\": \"white\"}}, \"header\": {\"fill\": {\"color\": \"#C8D4E3\"}, \"line\": {\"color\": \"white\"}}, \"type\": \"table\"}]}, \"layout\": {\"annotationdefaults\": {\"arrowcolor\": \"#2a3f5f\", \"arrowhead\": 0, \"arrowwidth\": 1}, \"coloraxis\": {\"colorbar\": {\"outlinewidth\": 0, \"ticks\": \"\"}}, \"colorscale\": {\"diverging\": [[0, \"#8e0152\"], [0.1, \"#c51b7d\"], [0.2, \"#de77ae\"], [0.3, \"#f1b6da\"], [0.4, \"#fde0ef\"], [0.5, \"#f7f7f7\"], [0.6, \"#e6f5d0\"], [0.7, \"#b8e186\"], [0.8, \"#7fbc41\"], [0.9, \"#4d9221\"], [1, \"#276419\"]], \"sequential\": [[0.0, \"#0d0887\"], [0.1111111111111111, \"#46039f\"], [0.2222222222222222, \"#7201a8\"], [0.3333333333333333, \"#9c179e\"], [0.4444444444444444, \"#bd3786\"], [0.5555555555555556, \"#d8576b\"], [0.6666666666666666, \"#ed7953\"], [0.7777777777777778, \"#fb9f3a\"], [0.8888888888888888, \"#fdca26\"], [1.0, \"#f0f921\"]], \"sequentialminus\": [[0.0, \"#0d0887\"], [0.1111111111111111, \"#46039f\"], [0.2222222222222222, \"#7201a8\"], [0.3333333333333333, \"#9c179e\"], [0.4444444444444444, \"#bd3786\"], [0.5555555555555556, \"#d8576b\"], [0.6666666666666666, \"#ed7953\"], [0.7777777777777778, \"#fb9f3a\"], [0.8888888888888888, \"#fdca26\"], [1.0, \"#f0f921\"]]}, \"colorway\": [\"#636efa\", \"#EF553B\", \"#00cc96\", \"#ab63fa\", \"#FFA15A\", \"#19d3f3\", \"#FF6692\", \"#B6E880\", \"#FF97FF\", \"#FECB52\"], \"font\": {\"color\": \"#2a3f5f\"}, \"geo\": {\"bgcolor\": \"white\", \"lakecolor\": \"white\", \"landcolor\": \"#E5ECF6\", \"showlakes\": true, \"showland\": true, \"subunitcolor\": \"white\"}, \"hoverlabel\": {\"align\": \"left\"}, \"hovermode\": \"closest\", \"mapbox\": {\"style\": \"light\"}, \"paper_bgcolor\": \"white\", \"plot_bgcolor\": \"#E5ECF6\", \"polar\": {\"angularaxis\": {\"gridcolor\": \"white\", \"linecolor\": \"white\", \"ticks\": \"\"}, \"bgcolor\": \"#E5ECF6\", \"radialaxis\": {\"gridcolor\": \"white\", \"linecolor\": \"white\", \"ticks\": \"\"}}, \"scene\": {\"xaxis\": {\"backgroundcolor\": \"#E5ECF6\", \"gridcolor\": \"white\", \"gridwidth\": 2, \"linecolor\": \"white\", \"showbackground\": true, \"ticks\": \"\", \"zerolinecolor\": \"white\"}, \"yaxis\": {\"backgroundcolor\": \"#E5ECF6\", \"gridcolor\": \"white\", \"gridwidth\": 2, \"linecolor\": \"white\", \"showbackground\": true, \"ticks\": \"\", \"zerolinecolor\": \"white\"}, \"zaxis\": {\"backgroundcolor\": \"#E5ECF6\", \"gridcolor\": \"white\", \"gridwidth\": 2, \"linecolor\": \"white\", \"showbackground\": true, \"ticks\": \"\", \"zerolinecolor\": \"white\"}}, \"shapedefaults\": {\"line\": {\"color\": \"#2a3f5f\"}}, \"ternary\": {\"aaxis\": {\"gridcolor\": \"white\", \"linecolor\": \"white\", \"ticks\": \"\"}, \"baxis\": {\"gridcolor\": \"white\", \"linecolor\": \"white\", \"ticks\": \"\"}, \"bgcolor\": \"#E5ECF6\", \"caxis\": {\"gridcolor\": \"white\", \"linecolor\": \"white\", \"ticks\": \"\"}}, \"title\": {\"x\": 0.05}, \"xaxis\": {\"automargin\": true, \"gridcolor\": \"white\", \"linecolor\": \"white\", \"ticks\": \"\", \"title\": {\"standoff\": 15}, \"zerolinecolor\": \"white\", \"zerolinewidth\": 2}, \"yaxis\": {\"automargin\": true, \"gridcolor\": \"white\", \"linecolor\": \"white\", \"ticks\": \"\", \"title\": {\"standoff\": 15}, \"zerolinecolor\": \"white\", \"zerolinewidth\": 2}}}, \"updatemenus\": [{\"buttons\": [{\"args\": [null, {\"frame\": {\"duration\": 500, \"redraw\": false}, \"fromcurrent\": true, \"mode\": \"immediate\", \"transition\": {\"duration\": 500, \"easing\": \"linear\"}}], \"label\": \"&#9654;\", \"method\": \"animate\"}, {\"args\": [[null], {\"frame\": {\"duration\": 0, \"redraw\": false}, \"fromcurrent\": true, \"mode\": \"immediate\", \"transition\": {\"duration\": 0, \"easing\": \"linear\"}}], \"label\": \"&#9724;\", \"method\": \"animate\"}], \"direction\": \"left\", \"pad\": {\"r\": 10, \"t\": 70}, \"showactive\": false, \"type\": \"buttons\", \"x\": 0.1, \"xanchor\": \"right\", \"y\": 0, \"yanchor\": \"top\"}], \"xaxis\": {\"anchor\": \"y\", \"domain\": [0.0, 1.0], \"range\": [-1, 7], \"title\": {\"text\": \"Length\"}}, \"yaxis\": {\"anchor\": \"x\", \"domain\": [0.0, 1.0], \"range\": [-0.01, 1.2], \"title\": {\"text\": \"%Homochirality\"}}},\n",
              "                        {\"responsive\": true}\n",
              "                    ).then(function(){\n",
              "                            Plotly.addFrames('77608115-5443-40f7-8c8a-c6e0eedabaaf', [{\"data\": [{\"hoverlabel\": {\"namelength\": 0}, \"hovertemplate\": \"Iteration=0<br>Length=%{x}<br>%Homochirality=%{y}\", \"legendgroup\": \"\", \"marker\": {\"color\": \"#636efa\", \"symbol\": \"circle\"}, \"mode\": \"markers\", \"name\": \"\", \"showlegend\": false, \"x\": [1, 1, 1, 1, 2, 2, 2], \"xaxis\": \"x\", \"y\": [null, null, null, null, 1.0, 0.0, 0.0], \"yaxis\": \"y\", \"type\": \"scatter\"}], \"name\": \"0\"}, {\"data\": [{\"hoverlabel\": {\"namelength\": 0}, \"hovertemplate\": \"Iteration=1<br>Length=%{x}<br>%Homochirality=%{y}\", \"legendgroup\": \"\", \"marker\": {\"color\": \"#636efa\", \"symbol\": \"circle\"}, \"mode\": \"markers\", \"name\": \"\", \"showlegend\": false, \"x\": [2, 3, 1, 3, 2, 2], \"xaxis\": \"x\", \"y\": [1.0, 0.5, null, 0.5, 0.0, 0.0], \"yaxis\": \"y\", \"type\": \"scatter\"}], \"name\": \"1\"}, {\"data\": [{\"hoverlabel\": {\"namelength\": 0}, \"hovertemplate\": \"Iteration=2<br>Length=%{x}<br>%Homochirality=%{y}\", \"legendgroup\": \"\", \"marker\": {\"color\": \"#636efa\", \"symbol\": \"circle\"}, \"mode\": \"markers\", \"name\": \"\", \"showlegend\": false, \"x\": [2, 1, 1, 3, 3, 1, 2, 2, 1, 1], \"xaxis\": \"x\", \"y\": [0.0, null, null, 0.5, 0.5, null, 0.0, 1.0, null, null], \"yaxis\": \"y\", \"type\": \"scatter\"}], \"name\": \"2\"}, {\"data\": [{\"hoverlabel\": {\"namelength\": 0}, \"hovertemplate\": \"Iteration=3<br>Length=%{x}<br>%Homochirality=%{y}\", \"legendgroup\": \"\", \"marker\": {\"color\": \"#636efa\", \"symbol\": \"circle\"}, \"mode\": \"markers\", \"name\": \"\", \"showlegend\": false, \"x\": [3, 1, 2, 3, 1, 2, 1, 1, 2, 1], \"xaxis\": \"x\", \"y\": [0.5, null, 1.0, 0.5, null, 0.0, null, null, 1.0, null], \"yaxis\": \"y\", \"type\": \"scatter\"}], \"name\": \"3\"}, {\"data\": [{\"hoverlabel\": {\"namelength\": 0}, \"hovertemplate\": \"Iteration=4<br>Length=%{x}<br>%Homochirality=%{y}\", \"legendgroup\": \"\", \"marker\": {\"color\": \"#636efa\", \"symbol\": \"circle\"}, \"mode\": \"markers\", \"name\": \"\", \"showlegend\": false, \"x\": [3, 2, 4, 3, 1, 1, 3], \"xaxis\": \"x\", \"y\": [0.0, 1.0, 0.3333333333333333, 0.5, null, null, 0.5], \"yaxis\": \"y\", \"type\": \"scatter\"}], \"name\": \"4\"}, {\"data\": [{\"hoverlabel\": {\"namelength\": 0}, \"hovertemplate\": \"Iteration=5<br>Length=%{x}<br>%Homochirality=%{y}\", \"legendgroup\": \"\", \"marker\": {\"color\": \"#636efa\", \"symbol\": \"circle\"}, \"mode\": \"markers\", \"name\": \"\", \"showlegend\": false, \"x\": [2, 1, 3, 1, 3, 3, 1, 1, 1, 2, 1, 1], \"xaxis\": \"x\", \"y\": [1.0, null, 0.5, null, 0.5, 0.5, null, null, null, 0.0, null, null], \"yaxis\": \"y\", \"type\": \"scatter\"}], \"name\": \"5\"}, {\"data\": [{\"hoverlabel\": {\"namelength\": 0}, \"hovertemplate\": \"Iteration=6<br>Length=%{x}<br>%Homochirality=%{y}\", \"legendgroup\": \"\", \"marker\": {\"color\": \"#636efa\", \"symbol\": \"circle\"}, \"mode\": \"markers\", \"name\": \"\", \"showlegend\": false, \"x\": [4, 1, 3, 3, 1, 3, 1, 1, 1, 2], \"xaxis\": \"x\", \"y\": [0.3333333333333333, null, 0.5, 0.5, null, 0.5, null, null, null, 1.0], \"yaxis\": \"y\", \"type\": \"scatter\"}], \"name\": \"6\"}, {\"data\": [{\"hoverlabel\": {\"namelength\": 0}, \"hovertemplate\": \"Iteration=7<br>Length=%{x}<br>%Homochirality=%{y}\", \"legendgroup\": \"\", \"marker\": {\"color\": \"#636efa\", \"symbol\": \"circle\"}, \"mode\": \"markers\", \"name\": \"\", \"showlegend\": false, \"x\": [1, 4, 2, 5, 3, 1, 1, 3], \"xaxis\": \"x\", \"y\": [null, 0.6666666666666666, 1.0, 0.5, 0.5, null, null, 0.5], \"yaxis\": \"y\", \"type\": \"scatter\"}], \"name\": \"7\"}, {\"data\": [{\"hoverlabel\": {\"namelength\": 0}, \"hovertemplate\": \"Iteration=8<br>Length=%{x}<br>%Homochirality=%{y}\", \"legendgroup\": \"\", \"marker\": {\"color\": \"#636efa\", \"symbol\": \"circle\"}, \"mode\": \"markers\", \"name\": \"\", \"showlegend\": false, \"x\": [1, 4, 6, 2, 3, 1, 1, 1, 2, 1], \"xaxis\": \"x\", \"y\": [null, 0.6666666666666666, 0.4, 1.0, 0.5, null, null, null, 1.0, null], \"yaxis\": \"y\", \"type\": \"scatter\"}], \"name\": \"8\"}, {\"data\": [{\"hoverlabel\": {\"namelength\": 0}, \"hovertemplate\": \"Iteration=9<br>Length=%{x}<br>%Homochirality=%{y}\", \"legendgroup\": \"\", \"marker\": {\"color\": \"#636efa\", \"symbol\": \"circle\"}, \"mode\": \"markers\", \"name\": \"\", \"showlegend\": false, \"x\": [1, 5, 1, 1, 1, 2, 4, 2, 2, 1, 2], \"xaxis\": \"x\", \"y\": [null, 0.75, null, null, null, 1.0, 0.3333333333333333, 1.0, 1.0, null, 0.0], \"yaxis\": \"y\", \"type\": \"scatter\"}], \"name\": \"9\"}]);\n",
              "                        }).then(function(){\n",
              "                            \n",
              "var gd = document.getElementById('77608115-5443-40f7-8c8a-c6e0eedabaaf');\n",
              "var x = new MutationObserver(function (mutations, observer) {{\n",
              "        var display = window.getComputedStyle(gd).display;\n",
              "        if (!display || display === 'none') {{\n",
              "            console.log([gd, 'removed!']);\n",
              "            Plotly.purge(gd);\n",
              "            observer.disconnect();\n",
              "        }}\n",
              "}});\n",
              "\n",
              "// Listen for the removal of the full notebook cells\n",
              "var notebookContainer = gd.closest('#notebook-container');\n",
              "if (notebookContainer) {{\n",
              "    x.observe(notebookContainer, {childList: true});\n",
              "}}\n",
              "\n",
              "// Listen for the clearing of the current output cell\n",
              "var outputEl = gd.closest('.output');\n",
              "if (outputEl) {{\n",
              "    x.observe(outputEl, {childList: true});\n",
              "}}\n",
              "\n",
              "                        })\n",
              "                };\n",
              "                \n",
              "            </script>\n",
              "        </div>\n",
              "</body>\n",
              "</html>"
            ]
          },
          "metadata": {
            "tags": [
              "id11_content_2",
              "outputarea_id11",
              "user_output"
            ]
          }
        },
        {
          "output_type": "display_data",
          "data": {
            "application/javascript": [
              "window[\"b8bd6b9e-c5eb-11ea-8df1-0242ac1c0002\"] = google.colab.output.setActiveOutputArea(window[\"b845549c-c5eb-11ea-8df1-0242ac1c0002\"]);\n",
              "//# sourceURL=js_303f17286c"
            ],
            "text/plain": [
              "<IPython.core.display.Javascript object>"
            ]
          },
          "metadata": {
            "tags": [
              "id11_content_2",
              "outputarea_id11"
            ]
          }
        },
        {
          "output_type": "display_data",
          "data": {
            "application/javascript": [
              "window[\"b8bf6fca-c5eb-11ea-8df1-0242ac1c0002\"] = google.colab.output.getActiveOutputArea();\n",
              "//# sourceURL=js_0a8708b781"
            ],
            "text/plain": [
              "<IPython.core.display.Javascript object>"
            ]
          },
          "metadata": {
            "tags": [
              "id11_content_3",
              "outputarea_id11"
            ]
          }
        },
        {
          "output_type": "display_data",
          "data": {
            "application/javascript": [
              "window[\"b8bfaf26-c5eb-11ea-8df1-0242ac1c0002\"] = document.querySelector(\"#id11_content_3\");\n",
              "//# sourceURL=js_136405ca8a"
            ],
            "text/plain": [
              "<IPython.core.display.Javascript object>"
            ]
          },
          "metadata": {
            "tags": [
              "id11_content_3",
              "outputarea_id11"
            ]
          }
        },
        {
          "output_type": "display_data",
          "data": {
            "application/javascript": [
              "window[\"b8bfeb4e-c5eb-11ea-8df1-0242ac1c0002\"] = google.colab.output.setActiveOutputArea(window[\"b8bfaf26-c5eb-11ea-8df1-0242ac1c0002\"]);\n",
              "//# sourceURL=js_c5b5b7272e"
            ],
            "text/plain": [
              "<IPython.core.display.Javascript object>"
            ]
          },
          "metadata": {
            "tags": [
              "id11_content_3",
              "outputarea_id11"
            ]
          }
        },
        {
          "output_type": "display_data",
          "data": {
            "text/html": [
              "<html>\n",
              "<head><meta charset=\"utf-8\" /></head>\n",
              "<body>\n",
              "    <div>\n",
              "            <script src=\"https://cdnjs.cloudflare.com/ajax/libs/mathjax/2.7.5/MathJax.js?config=TeX-AMS-MML_SVG\"></script><script type=\"text/javascript\">if (window.MathJax) {MathJax.Hub.Config({SVG: {font: \"STIX-Web\"}});}</script>\n",
              "                <script type=\"text/javascript\">window.PlotlyConfig = {MathJaxConfig: 'local'};</script>\n",
              "        <script src=\"https://cdn.plot.ly/plotly-latest.min.js\"></script>    \n",
              "            <div id=\"0423c54c-8bc1-4476-9266-86fbd8b33735\" class=\"plotly-graph-div\" style=\"height:525px; width:100%;\"></div>\n",
              "            <script type=\"text/javascript\">\n",
              "                \n",
              "                    window.PLOTLYENV=window.PLOTLYENV || {};\n",
              "                    \n",
              "                if (document.getElementById(\"0423c54c-8bc1-4476-9266-86fbd8b33735\")) {\n",
              "                    Plotly.newPlot(\n",
              "                        '0423c54c-8bc1-4476-9266-86fbd8b33735',\n",
              "                        [{\"hoverlabel\": {\"namelength\": 0}, \"hovertemplate\": \"Length=%{x}<br>%Homochirality=%{y}<br>count=%{marker.size}\", \"legendgroup\": \"\", \"marker\": {\"color\": \"#636efa\", \"line\": {\"color\": \"DarkSlateGrey\"}, \"size\": [14, 9, 17, 1, 3, 2, 1, 1, 1], \"sizemode\": \"area\", \"sizeref\": 0.0425, \"symbol\": \"circle\"}, \"mode\": \"markers\", \"name\": \"\", \"showlegend\": false, \"type\": \"scatter\", \"x\": [2, 2, 3, 3, 4, 4, 5, 5, 6], \"xaxis\": \"x\", \"y\": [1.0, 0.0, 0.5, 0.0, 0.3333333333333333, 0.6666666666666666, 0.5, 0.75, 0.4], \"yaxis\": \"y\"}],\n",
              "                        {\"legend\": {\"itemsizing\": \"constant\", \"tracegroupgap\": 0}, \"margin\": {\"t\": 60}, \"template\": {\"data\": {\"bar\": [{\"error_x\": {\"color\": \"#2a3f5f\"}, \"error_y\": {\"color\": \"#2a3f5f\"}, \"marker\": {\"line\": {\"color\": \"#E5ECF6\", \"width\": 0.5}}, \"type\": \"bar\"}], \"barpolar\": [{\"marker\": {\"line\": {\"color\": \"#E5ECF6\", \"width\": 0.5}}, \"type\": \"barpolar\"}], \"carpet\": [{\"aaxis\": {\"endlinecolor\": \"#2a3f5f\", \"gridcolor\": \"white\", \"linecolor\": \"white\", \"minorgridcolor\": \"white\", \"startlinecolor\": \"#2a3f5f\"}, \"baxis\": {\"endlinecolor\": \"#2a3f5f\", \"gridcolor\": \"white\", \"linecolor\": \"white\", \"minorgridcolor\": \"white\", \"startlinecolor\": \"#2a3f5f\"}, \"type\": \"carpet\"}], \"choropleth\": [{\"colorbar\": {\"outlinewidth\": 0, \"ticks\": \"\"}, \"type\": \"choropleth\"}], \"contour\": [{\"colorbar\": {\"outlinewidth\": 0, \"ticks\": \"\"}, \"colorscale\": [[0.0, \"#0d0887\"], [0.1111111111111111, \"#46039f\"], [0.2222222222222222, \"#7201a8\"], [0.3333333333333333, \"#9c179e\"], [0.4444444444444444, \"#bd3786\"], [0.5555555555555556, \"#d8576b\"], [0.6666666666666666, \"#ed7953\"], [0.7777777777777778, \"#fb9f3a\"], [0.8888888888888888, \"#fdca26\"], [1.0, \"#f0f921\"]], \"type\": \"contour\"}], \"contourcarpet\": [{\"colorbar\": {\"outlinewidth\": 0, \"ticks\": \"\"}, \"type\": \"contourcarpet\"}], \"heatmap\": [{\"colorbar\": {\"outlinewidth\": 0, \"ticks\": \"\"}, \"colorscale\": [[0.0, \"#0d0887\"], [0.1111111111111111, \"#46039f\"], [0.2222222222222222, \"#7201a8\"], [0.3333333333333333, \"#9c179e\"], [0.4444444444444444, \"#bd3786\"], [0.5555555555555556, \"#d8576b\"], [0.6666666666666666, \"#ed7953\"], [0.7777777777777778, \"#fb9f3a\"], [0.8888888888888888, \"#fdca26\"], [1.0, \"#f0f921\"]], \"type\": \"heatmap\"}], \"heatmapgl\": [{\"colorbar\": {\"outlinewidth\": 0, \"ticks\": \"\"}, \"colorscale\": [[0.0, \"#0d0887\"], [0.1111111111111111, \"#46039f\"], [0.2222222222222222, \"#7201a8\"], [0.3333333333333333, \"#9c179e\"], [0.4444444444444444, \"#bd3786\"], [0.5555555555555556, \"#d8576b\"], [0.6666666666666666, \"#ed7953\"], [0.7777777777777778, \"#fb9f3a\"], [0.8888888888888888, \"#fdca26\"], [1.0, \"#f0f921\"]], \"type\": \"heatmapgl\"}], \"histogram\": [{\"marker\": {\"colorbar\": {\"outlinewidth\": 0, \"ticks\": \"\"}}, \"type\": \"histogram\"}], \"histogram2d\": [{\"colorbar\": {\"outlinewidth\": 0, \"ticks\": \"\"}, \"colorscale\": [[0.0, \"#0d0887\"], [0.1111111111111111, \"#46039f\"], [0.2222222222222222, \"#7201a8\"], [0.3333333333333333, \"#9c179e\"], [0.4444444444444444, \"#bd3786\"], [0.5555555555555556, \"#d8576b\"], [0.6666666666666666, \"#ed7953\"], [0.7777777777777778, \"#fb9f3a\"], [0.8888888888888888, \"#fdca26\"], [1.0, \"#f0f921\"]], \"type\": \"histogram2d\"}], \"histogram2dcontour\": [{\"colorbar\": {\"outlinewidth\": 0, \"ticks\": \"\"}, \"colorscale\": [[0.0, \"#0d0887\"], [0.1111111111111111, \"#46039f\"], [0.2222222222222222, \"#7201a8\"], [0.3333333333333333, \"#9c179e\"], [0.4444444444444444, \"#bd3786\"], [0.5555555555555556, \"#d8576b\"], [0.6666666666666666, \"#ed7953\"], [0.7777777777777778, \"#fb9f3a\"], [0.8888888888888888, \"#fdca26\"], [1.0, \"#f0f921\"]], \"type\": \"histogram2dcontour\"}], \"mesh3d\": [{\"colorbar\": {\"outlinewidth\": 0, \"ticks\": \"\"}, \"type\": \"mesh3d\"}], \"parcoords\": [{\"line\": {\"colorbar\": {\"outlinewidth\": 0, \"ticks\": \"\"}}, \"type\": \"parcoords\"}], \"pie\": [{\"automargin\": true, \"type\": \"pie\"}], \"scatter\": [{\"marker\": {\"colorbar\": {\"outlinewidth\": 0, \"ticks\": \"\"}}, \"type\": \"scatter\"}], \"scatter3d\": [{\"line\": {\"colorbar\": {\"outlinewidth\": 0, \"ticks\": \"\"}}, \"marker\": {\"colorbar\": {\"outlinewidth\": 0, \"ticks\": \"\"}}, \"type\": \"scatter3d\"}], \"scattercarpet\": [{\"marker\": {\"colorbar\": {\"outlinewidth\": 0, \"ticks\": \"\"}}, \"type\": \"scattercarpet\"}], \"scattergeo\": [{\"marker\": {\"colorbar\": {\"outlinewidth\": 0, \"ticks\": \"\"}}, \"type\": \"scattergeo\"}], \"scattergl\": [{\"marker\": {\"colorbar\": {\"outlinewidth\": 0, \"ticks\": \"\"}}, \"type\": \"scattergl\"}], \"scattermapbox\": [{\"marker\": {\"colorbar\": {\"outlinewidth\": 0, \"ticks\": \"\"}}, \"type\": \"scattermapbox\"}], \"scatterpolar\": [{\"marker\": {\"colorbar\": {\"outlinewidth\": 0, \"ticks\": \"\"}}, \"type\": \"scatterpolar\"}], \"scatterpolargl\": [{\"marker\": {\"colorbar\": {\"outlinewidth\": 0, \"ticks\": \"\"}}, \"type\": \"scatterpolargl\"}], \"scatterternary\": [{\"marker\": {\"colorbar\": {\"outlinewidth\": 0, \"ticks\": \"\"}}, \"type\": \"scatterternary\"}], \"surface\": [{\"colorbar\": {\"outlinewidth\": 0, \"ticks\": \"\"}, \"colorscale\": [[0.0, \"#0d0887\"], [0.1111111111111111, \"#46039f\"], [0.2222222222222222, \"#7201a8\"], [0.3333333333333333, \"#9c179e\"], [0.4444444444444444, \"#bd3786\"], [0.5555555555555556, \"#d8576b\"], [0.6666666666666666, \"#ed7953\"], [0.7777777777777778, \"#fb9f3a\"], [0.8888888888888888, \"#fdca26\"], [1.0, \"#f0f921\"]], \"type\": \"surface\"}], \"table\": [{\"cells\": {\"fill\": {\"color\": \"#EBF0F8\"}, \"line\": {\"color\": \"white\"}}, \"header\": {\"fill\": {\"color\": \"#C8D4E3\"}, \"line\": {\"color\": \"white\"}}, \"type\": \"table\"}]}, \"layout\": {\"annotationdefaults\": {\"arrowcolor\": \"#2a3f5f\", \"arrowhead\": 0, \"arrowwidth\": 1}, \"coloraxis\": {\"colorbar\": {\"outlinewidth\": 0, \"ticks\": \"\"}}, \"colorscale\": {\"diverging\": [[0, \"#8e0152\"], [0.1, \"#c51b7d\"], [0.2, \"#de77ae\"], [0.3, \"#f1b6da\"], [0.4, \"#fde0ef\"], [0.5, \"#f7f7f7\"], [0.6, \"#e6f5d0\"], [0.7, \"#b8e186\"], [0.8, \"#7fbc41\"], [0.9, \"#4d9221\"], [1, \"#276419\"]], \"sequential\": [[0.0, \"#0d0887\"], [0.1111111111111111, \"#46039f\"], [0.2222222222222222, \"#7201a8\"], [0.3333333333333333, \"#9c179e\"], [0.4444444444444444, \"#bd3786\"], [0.5555555555555556, \"#d8576b\"], [0.6666666666666666, \"#ed7953\"], [0.7777777777777778, \"#fb9f3a\"], [0.8888888888888888, \"#fdca26\"], [1.0, \"#f0f921\"]], \"sequentialminus\": [[0.0, \"#0d0887\"], [0.1111111111111111, \"#46039f\"], [0.2222222222222222, \"#7201a8\"], [0.3333333333333333, \"#9c179e\"], [0.4444444444444444, \"#bd3786\"], [0.5555555555555556, \"#d8576b\"], [0.6666666666666666, \"#ed7953\"], [0.7777777777777778, \"#fb9f3a\"], [0.8888888888888888, \"#fdca26\"], [1.0, \"#f0f921\"]]}, \"colorway\": [\"#636efa\", \"#EF553B\", \"#00cc96\", \"#ab63fa\", \"#FFA15A\", \"#19d3f3\", \"#FF6692\", \"#B6E880\", \"#FF97FF\", \"#FECB52\"], \"font\": {\"color\": \"#2a3f5f\"}, \"geo\": {\"bgcolor\": \"white\", \"lakecolor\": \"white\", \"landcolor\": \"#E5ECF6\", \"showlakes\": true, \"showland\": true, \"subunitcolor\": \"white\"}, \"hoverlabel\": {\"align\": \"left\"}, \"hovermode\": \"closest\", \"mapbox\": {\"style\": \"light\"}, \"paper_bgcolor\": \"white\", \"plot_bgcolor\": \"#E5ECF6\", \"polar\": {\"angularaxis\": {\"gridcolor\": \"white\", \"linecolor\": \"white\", \"ticks\": \"\"}, \"bgcolor\": \"#E5ECF6\", \"radialaxis\": {\"gridcolor\": \"white\", \"linecolor\": \"white\", \"ticks\": \"\"}}, \"scene\": {\"xaxis\": {\"backgroundcolor\": \"#E5ECF6\", \"gridcolor\": \"white\", \"gridwidth\": 2, \"linecolor\": \"white\", \"showbackground\": true, \"ticks\": \"\", \"zerolinecolor\": \"white\"}, \"yaxis\": {\"backgroundcolor\": \"#E5ECF6\", \"gridcolor\": \"white\", \"gridwidth\": 2, \"linecolor\": \"white\", \"showbackground\": true, \"ticks\": \"\", \"zerolinecolor\": \"white\"}, \"zaxis\": {\"backgroundcolor\": \"#E5ECF6\", \"gridcolor\": \"white\", \"gridwidth\": 2, \"linecolor\": \"white\", \"showbackground\": true, \"ticks\": \"\", \"zerolinecolor\": \"white\"}}, \"shapedefaults\": {\"line\": {\"color\": \"#2a3f5f\"}}, \"ternary\": {\"aaxis\": {\"gridcolor\": \"white\", \"linecolor\": \"white\", \"ticks\": \"\"}, \"baxis\": {\"gridcolor\": \"white\", \"linecolor\": \"white\", \"ticks\": \"\"}, \"bgcolor\": \"#E5ECF6\", \"caxis\": {\"gridcolor\": \"white\", \"linecolor\": \"white\", \"ticks\": \"\"}}, \"title\": {\"x\": 0.05}, \"xaxis\": {\"automargin\": true, \"gridcolor\": \"white\", \"linecolor\": \"white\", \"ticks\": \"\", \"title\": {\"standoff\": 15}, \"zerolinecolor\": \"white\", \"zerolinewidth\": 2}, \"yaxis\": {\"automargin\": true, \"gridcolor\": \"white\", \"linecolor\": \"white\", \"ticks\": \"\", \"title\": {\"standoff\": 15}, \"zerolinecolor\": \"white\", \"zerolinewidth\": 2}}}, \"xaxis\": {\"anchor\": \"y\", \"domain\": [0.0, 1.0], \"title\": {\"text\": \"Length\"}}, \"yaxis\": {\"anchor\": \"x\", \"domain\": [0.0, 1.0], \"title\": {\"text\": \"%Homochirality\"}}},\n",
              "                        {\"responsive\": true}\n",
              "                    ).then(function(){\n",
              "                            \n",
              "var gd = document.getElementById('0423c54c-8bc1-4476-9266-86fbd8b33735');\n",
              "var x = new MutationObserver(function (mutations, observer) {{\n",
              "        var display = window.getComputedStyle(gd).display;\n",
              "        if (!display || display === 'none') {{\n",
              "            console.log([gd, 'removed!']);\n",
              "            Plotly.purge(gd);\n",
              "            observer.disconnect();\n",
              "        }}\n",
              "}});\n",
              "\n",
              "// Listen for the removal of the full notebook cells\n",
              "var notebookContainer = gd.closest('#notebook-container');\n",
              "if (notebookContainer) {{\n",
              "    x.observe(notebookContainer, {childList: true});\n",
              "}}\n",
              "\n",
              "// Listen for the clearing of the current output cell\n",
              "var outputEl = gd.closest('.output');\n",
              "if (outputEl) {{\n",
              "    x.observe(outputEl, {childList: true});\n",
              "}}\n",
              "\n",
              "                        })\n",
              "                };\n",
              "                \n",
              "            </script>\n",
              "        </div>\n",
              "</body>\n",
              "</html>"
            ]
          },
          "metadata": {
            "tags": [
              "id11_content_3",
              "outputarea_id11",
              "user_output"
            ]
          }
        },
        {
          "output_type": "display_data",
          "data": {
            "application/javascript": [
              "window[\"b900376c-c5eb-11ea-8df1-0242ac1c0002\"] = google.colab.output.setActiveOutputArea(window[\"b8bf6fca-c5eb-11ea-8df1-0242ac1c0002\"]);\n",
              "//# sourceURL=js_0035176492"
            ],
            "text/plain": [
              "<IPython.core.display.Javascript object>"
            ]
          },
          "metadata": {
            "tags": [
              "id11_content_3",
              "outputarea_id11"
            ]
          }
        },
        {
          "output_type": "display_data",
          "data": {
            "application/javascript": [
              "window[\"b901ced8-c5eb-11ea-8df1-0242ac1c0002\"] = google.colab.output.getActiveOutputArea();\n",
              "//# sourceURL=js_3161bf28a4"
            ],
            "text/plain": [
              "<IPython.core.display.Javascript object>"
            ]
          },
          "metadata": {
            "tags": [
              "id11_content_4",
              "outputarea_id11"
            ]
          }
        },
        {
          "output_type": "display_data",
          "data": {
            "application/javascript": [
              "window[\"b902101e-c5eb-11ea-8df1-0242ac1c0002\"] = document.querySelector(\"#id11_content_4\");\n",
              "//# sourceURL=js_175ee6bc9f"
            ],
            "text/plain": [
              "<IPython.core.display.Javascript object>"
            ]
          },
          "metadata": {
            "tags": [
              "id11_content_4",
              "outputarea_id11"
            ]
          }
        },
        {
          "output_type": "display_data",
          "data": {
            "application/javascript": [
              "window[\"b90255e2-c5eb-11ea-8df1-0242ac1c0002\"] = google.colab.output.setActiveOutputArea(window[\"b902101e-c5eb-11ea-8df1-0242ac1c0002\"]);\n",
              "//# sourceURL=js_538471ee85"
            ],
            "text/plain": [
              "<IPython.core.display.Javascript object>"
            ]
          },
          "metadata": {
            "tags": [
              "id11_content_4",
              "outputarea_id11"
            ]
          }
        },
        {
          "output_type": "display_data",
          "data": {
            "text/html": [
              "<html>\n",
              "<head><meta charset=\"utf-8\" /></head>\n",
              "<body>\n",
              "    <div>\n",
              "            <script src=\"https://cdnjs.cloudflare.com/ajax/libs/mathjax/2.7.5/MathJax.js?config=TeX-AMS-MML_SVG\"></script><script type=\"text/javascript\">if (window.MathJax) {MathJax.Hub.Config({SVG: {font: \"STIX-Web\"}});}</script>\n",
              "                <script type=\"text/javascript\">window.PlotlyConfig = {MathJaxConfig: 'local'};</script>\n",
              "        <script src=\"https://cdn.plot.ly/plotly-latest.min.js\"></script>    \n",
              "            <div id=\"386ec19a-d846-4d3a-9895-36329fa35f93\" class=\"plotly-graph-div\" style=\"height:525px; width:100%;\"></div>\n",
              "            <script type=\"text/javascript\">\n",
              "                \n",
              "                    window.PLOTLYENV=window.PLOTLYENV || {};\n",
              "                    \n",
              "                if (document.getElementById(\"386ec19a-d846-4d3a-9895-36329fa35f93\")) {\n",
              "                    Plotly.newPlot(\n",
              "                        '386ec19a-d846-4d3a-9895-36329fa35f93',\n",
              "                        [{\"hoverlabel\": {\"namelength\": 0}, \"hovertemplate\": \"Age=%{x}<br>%Homochirality=%{y}<br>count=%{marker.size}\", \"legendgroup\": \"\", \"marker\": {\"color\": \"#636efa\", \"line\": {\"color\": \"DarkSlateGrey\"}, \"size\": [5, 3, 3, 3, 2, 3, 2, 1, 3, 2, 3, 1, 3, 1, 2, 1, 1, 3, 1, 2, 1, 1, 1, 1], \"sizemode\": \"area\", \"sizeref\": 0.0125, \"symbol\": \"circle\"}, \"mode\": \"markers\", \"name\": \"\", \"showlegend\": false, \"type\": \"scatter\", \"x\": [0, 0, 1, 1, 1, 2, 2, 2, 3, 3, 4, 4, 5, 5, 6, 6, 6, 7, 7, 8, 8, 9, 9, 9], \"xaxis\": \"x\", \"y\": [0.0, 1.0, 0.0, 1.0, 0.5, 0.5, 1.0, 0.0, 1.0, 0.5, 0.5, 0.3333333333333333, 0.5, 0.6666666666666666, 0.5, 0.3333333333333333, 0.6666666666666666, 0.5, 0.75, 1.0, 0.4, 0.0, 0.3333333333333333, 1.0], \"yaxis\": \"y\"}],\n",
              "                        {\"legend\": {\"itemsizing\": \"constant\", \"tracegroupgap\": 0}, \"margin\": {\"t\": 60}, \"template\": {\"data\": {\"bar\": [{\"error_x\": {\"color\": \"#2a3f5f\"}, \"error_y\": {\"color\": \"#2a3f5f\"}, \"marker\": {\"line\": {\"color\": \"#E5ECF6\", \"width\": 0.5}}, \"type\": \"bar\"}], \"barpolar\": [{\"marker\": {\"line\": {\"color\": \"#E5ECF6\", \"width\": 0.5}}, \"type\": \"barpolar\"}], \"carpet\": [{\"aaxis\": {\"endlinecolor\": \"#2a3f5f\", \"gridcolor\": \"white\", \"linecolor\": \"white\", \"minorgridcolor\": \"white\", \"startlinecolor\": \"#2a3f5f\"}, \"baxis\": {\"endlinecolor\": \"#2a3f5f\", \"gridcolor\": \"white\", \"linecolor\": \"white\", \"minorgridcolor\": \"white\", \"startlinecolor\": \"#2a3f5f\"}, \"type\": \"carpet\"}], \"choropleth\": [{\"colorbar\": {\"outlinewidth\": 0, \"ticks\": \"\"}, \"type\": \"choropleth\"}], \"contour\": [{\"colorbar\": {\"outlinewidth\": 0, \"ticks\": \"\"}, \"colorscale\": [[0.0, \"#0d0887\"], [0.1111111111111111, \"#46039f\"], [0.2222222222222222, \"#7201a8\"], [0.3333333333333333, \"#9c179e\"], [0.4444444444444444, \"#bd3786\"], [0.5555555555555556, \"#d8576b\"], [0.6666666666666666, \"#ed7953\"], [0.7777777777777778, \"#fb9f3a\"], [0.8888888888888888, \"#fdca26\"], [1.0, \"#f0f921\"]], \"type\": \"contour\"}], \"contourcarpet\": [{\"colorbar\": {\"outlinewidth\": 0, \"ticks\": \"\"}, \"type\": \"contourcarpet\"}], \"heatmap\": [{\"colorbar\": {\"outlinewidth\": 0, \"ticks\": \"\"}, \"colorscale\": [[0.0, \"#0d0887\"], [0.1111111111111111, \"#46039f\"], [0.2222222222222222, \"#7201a8\"], [0.3333333333333333, \"#9c179e\"], [0.4444444444444444, \"#bd3786\"], [0.5555555555555556, \"#d8576b\"], [0.6666666666666666, \"#ed7953\"], [0.7777777777777778, \"#fb9f3a\"], [0.8888888888888888, \"#fdca26\"], [1.0, \"#f0f921\"]], \"type\": \"heatmap\"}], \"heatmapgl\": [{\"colorbar\": {\"outlinewidth\": 0, \"ticks\": \"\"}, \"colorscale\": [[0.0, \"#0d0887\"], [0.1111111111111111, \"#46039f\"], [0.2222222222222222, \"#7201a8\"], [0.3333333333333333, \"#9c179e\"], [0.4444444444444444, \"#bd3786\"], [0.5555555555555556, \"#d8576b\"], [0.6666666666666666, \"#ed7953\"], [0.7777777777777778, \"#fb9f3a\"], [0.8888888888888888, \"#fdca26\"], [1.0, \"#f0f921\"]], \"type\": \"heatmapgl\"}], \"histogram\": [{\"marker\": {\"colorbar\": {\"outlinewidth\": 0, \"ticks\": \"\"}}, \"type\": \"histogram\"}], \"histogram2d\": [{\"colorbar\": {\"outlinewidth\": 0, \"ticks\": \"\"}, \"colorscale\": [[0.0, \"#0d0887\"], [0.1111111111111111, \"#46039f\"], [0.2222222222222222, \"#7201a8\"], [0.3333333333333333, \"#9c179e\"], [0.4444444444444444, \"#bd3786\"], [0.5555555555555556, \"#d8576b\"], [0.6666666666666666, \"#ed7953\"], [0.7777777777777778, \"#fb9f3a\"], [0.8888888888888888, \"#fdca26\"], [1.0, \"#f0f921\"]], \"type\": \"histogram2d\"}], \"histogram2dcontour\": [{\"colorbar\": {\"outlinewidth\": 0, \"ticks\": \"\"}, \"colorscale\": [[0.0, \"#0d0887\"], [0.1111111111111111, \"#46039f\"], [0.2222222222222222, \"#7201a8\"], [0.3333333333333333, \"#9c179e\"], [0.4444444444444444, \"#bd3786\"], [0.5555555555555556, \"#d8576b\"], [0.6666666666666666, \"#ed7953\"], [0.7777777777777778, \"#fb9f3a\"], [0.8888888888888888, \"#fdca26\"], [1.0, \"#f0f921\"]], \"type\": \"histogram2dcontour\"}], \"mesh3d\": [{\"colorbar\": {\"outlinewidth\": 0, \"ticks\": \"\"}, \"type\": \"mesh3d\"}], \"parcoords\": [{\"line\": {\"colorbar\": {\"outlinewidth\": 0, \"ticks\": \"\"}}, \"type\": \"parcoords\"}], \"pie\": [{\"automargin\": true, \"type\": \"pie\"}], \"scatter\": [{\"marker\": {\"colorbar\": {\"outlinewidth\": 0, \"ticks\": \"\"}}, \"type\": \"scatter\"}], \"scatter3d\": [{\"line\": {\"colorbar\": {\"outlinewidth\": 0, \"ticks\": \"\"}}, \"marker\": {\"colorbar\": {\"outlinewidth\": 0, \"ticks\": \"\"}}, \"type\": \"scatter3d\"}], \"scattercarpet\": [{\"marker\": {\"colorbar\": {\"outlinewidth\": 0, \"ticks\": \"\"}}, \"type\": \"scattercarpet\"}], \"scattergeo\": [{\"marker\": {\"colorbar\": {\"outlinewidth\": 0, \"ticks\": \"\"}}, \"type\": \"scattergeo\"}], \"scattergl\": [{\"marker\": {\"colorbar\": {\"outlinewidth\": 0, \"ticks\": \"\"}}, \"type\": \"scattergl\"}], \"scattermapbox\": [{\"marker\": {\"colorbar\": {\"outlinewidth\": 0, \"ticks\": \"\"}}, \"type\": \"scattermapbox\"}], \"scatterpolar\": [{\"marker\": {\"colorbar\": {\"outlinewidth\": 0, \"ticks\": \"\"}}, \"type\": \"scatterpolar\"}], \"scatterpolargl\": [{\"marker\": {\"colorbar\": {\"outlinewidth\": 0, \"ticks\": \"\"}}, \"type\": \"scatterpolargl\"}], \"scatterternary\": [{\"marker\": {\"colorbar\": {\"outlinewidth\": 0, \"ticks\": \"\"}}, \"type\": \"scatterternary\"}], \"surface\": [{\"colorbar\": {\"outlinewidth\": 0, \"ticks\": \"\"}, \"colorscale\": [[0.0, \"#0d0887\"], [0.1111111111111111, \"#46039f\"], [0.2222222222222222, \"#7201a8\"], [0.3333333333333333, \"#9c179e\"], [0.4444444444444444, \"#bd3786\"], [0.5555555555555556, \"#d8576b\"], [0.6666666666666666, \"#ed7953\"], [0.7777777777777778, \"#fb9f3a\"], [0.8888888888888888, \"#fdca26\"], [1.0, \"#f0f921\"]], \"type\": \"surface\"}], \"table\": [{\"cells\": {\"fill\": {\"color\": \"#EBF0F8\"}, \"line\": {\"color\": \"white\"}}, \"header\": {\"fill\": {\"color\": \"#C8D4E3\"}, \"line\": {\"color\": \"white\"}}, \"type\": \"table\"}]}, \"layout\": {\"annotationdefaults\": {\"arrowcolor\": \"#2a3f5f\", \"arrowhead\": 0, \"arrowwidth\": 1}, \"coloraxis\": {\"colorbar\": {\"outlinewidth\": 0, \"ticks\": \"\"}}, \"colorscale\": {\"diverging\": [[0, \"#8e0152\"], [0.1, \"#c51b7d\"], [0.2, \"#de77ae\"], [0.3, \"#f1b6da\"], [0.4, \"#fde0ef\"], [0.5, \"#f7f7f7\"], [0.6, \"#e6f5d0\"], [0.7, \"#b8e186\"], [0.8, \"#7fbc41\"], [0.9, \"#4d9221\"], [1, \"#276419\"]], \"sequential\": [[0.0, \"#0d0887\"], [0.1111111111111111, \"#46039f\"], [0.2222222222222222, \"#7201a8\"], [0.3333333333333333, \"#9c179e\"], [0.4444444444444444, \"#bd3786\"], [0.5555555555555556, \"#d8576b\"], [0.6666666666666666, \"#ed7953\"], [0.7777777777777778, \"#fb9f3a\"], [0.8888888888888888, \"#fdca26\"], [1.0, \"#f0f921\"]], \"sequentialminus\": [[0.0, \"#0d0887\"], [0.1111111111111111, \"#46039f\"], [0.2222222222222222, \"#7201a8\"], [0.3333333333333333, \"#9c179e\"], [0.4444444444444444, \"#bd3786\"], [0.5555555555555556, \"#d8576b\"], [0.6666666666666666, \"#ed7953\"], [0.7777777777777778, \"#fb9f3a\"], [0.8888888888888888, \"#fdca26\"], [1.0, \"#f0f921\"]]}, \"colorway\": [\"#636efa\", \"#EF553B\", \"#00cc96\", \"#ab63fa\", \"#FFA15A\", \"#19d3f3\", \"#FF6692\", \"#B6E880\", \"#FF97FF\", \"#FECB52\"], \"font\": {\"color\": \"#2a3f5f\"}, \"geo\": {\"bgcolor\": \"white\", \"lakecolor\": \"white\", \"landcolor\": \"#E5ECF6\", \"showlakes\": true, \"showland\": true, \"subunitcolor\": \"white\"}, \"hoverlabel\": {\"align\": \"left\"}, \"hovermode\": \"closest\", \"mapbox\": {\"style\": \"light\"}, \"paper_bgcolor\": \"white\", \"plot_bgcolor\": \"#E5ECF6\", \"polar\": {\"angularaxis\": {\"gridcolor\": \"white\", \"linecolor\": \"white\", \"ticks\": \"\"}, \"bgcolor\": \"#E5ECF6\", \"radialaxis\": {\"gridcolor\": \"white\", \"linecolor\": \"white\", \"ticks\": \"\"}}, \"scene\": {\"xaxis\": {\"backgroundcolor\": \"#E5ECF6\", \"gridcolor\": \"white\", \"gridwidth\": 2, \"linecolor\": \"white\", \"showbackground\": true, \"ticks\": \"\", \"zerolinecolor\": \"white\"}, \"yaxis\": {\"backgroundcolor\": \"#E5ECF6\", \"gridcolor\": \"white\", \"gridwidth\": 2, \"linecolor\": \"white\", \"showbackground\": true, \"ticks\": \"\", \"zerolinecolor\": \"white\"}, \"zaxis\": {\"backgroundcolor\": \"#E5ECF6\", \"gridcolor\": \"white\", \"gridwidth\": 2, \"linecolor\": \"white\", \"showbackground\": true, \"ticks\": \"\", \"zerolinecolor\": \"white\"}}, \"shapedefaults\": {\"line\": {\"color\": \"#2a3f5f\"}}, \"ternary\": {\"aaxis\": {\"gridcolor\": \"white\", \"linecolor\": \"white\", \"ticks\": \"\"}, \"baxis\": {\"gridcolor\": \"white\", \"linecolor\": \"white\", \"ticks\": \"\"}, \"bgcolor\": \"#E5ECF6\", \"caxis\": {\"gridcolor\": \"white\", \"linecolor\": \"white\", \"ticks\": \"\"}}, \"title\": {\"x\": 0.05}, \"xaxis\": {\"automargin\": true, \"gridcolor\": \"white\", \"linecolor\": \"white\", \"ticks\": \"\", \"title\": {\"standoff\": 15}, \"zerolinecolor\": \"white\", \"zerolinewidth\": 2}, \"yaxis\": {\"automargin\": true, \"gridcolor\": \"white\", \"linecolor\": \"white\", \"ticks\": \"\", \"title\": {\"standoff\": 15}, \"zerolinecolor\": \"white\", \"zerolinewidth\": 2}}}, \"xaxis\": {\"anchor\": \"y\", \"domain\": [0.0, 1.0], \"title\": {\"text\": \"Age\"}}, \"yaxis\": {\"anchor\": \"x\", \"domain\": [0.0, 1.0], \"title\": {\"text\": \"%Homochirality\"}}},\n",
              "                        {\"responsive\": true}\n",
              "                    ).then(function(){\n",
              "                            \n",
              "var gd = document.getElementById('386ec19a-d846-4d3a-9895-36329fa35f93');\n",
              "var x = new MutationObserver(function (mutations, observer) {{\n",
              "        var display = window.getComputedStyle(gd).display;\n",
              "        if (!display || display === 'none') {{\n",
              "            console.log([gd, 'removed!']);\n",
              "            Plotly.purge(gd);\n",
              "            observer.disconnect();\n",
              "        }}\n",
              "}});\n",
              "\n",
              "// Listen for the removal of the full notebook cells\n",
              "var notebookContainer = gd.closest('#notebook-container');\n",
              "if (notebookContainer) {{\n",
              "    x.observe(notebookContainer, {childList: true});\n",
              "}}\n",
              "\n",
              "// Listen for the clearing of the current output cell\n",
              "var outputEl = gd.closest('.output');\n",
              "if (outputEl) {{\n",
              "    x.observe(outputEl, {childList: true});\n",
              "}}\n",
              "\n",
              "                        })\n",
              "                };\n",
              "                \n",
              "            </script>\n",
              "        </div>\n",
              "</body>\n",
              "</html>"
            ]
          },
          "metadata": {
            "tags": [
              "id11_content_4",
              "outputarea_id11",
              "user_output"
            ]
          }
        },
        {
          "output_type": "display_data",
          "data": {
            "application/javascript": [
              "window[\"b9308d40-c5eb-11ea-8df1-0242ac1c0002\"] = google.colab.output.setActiveOutputArea(window[\"b901ced8-c5eb-11ea-8df1-0242ac1c0002\"]);\n",
              "//# sourceURL=js_69778f65e3"
            ],
            "text/plain": [
              "<IPython.core.display.Javascript object>"
            ]
          },
          "metadata": {
            "tags": [
              "id11_content_4",
              "outputarea_id11"
            ]
          }
        },
        {
          "output_type": "display_data",
          "data": {
            "application/javascript": [
              "window[\"b9318c68-c5eb-11ea-8df1-0242ac1c0002\"] = google.colab.output.getActiveOutputArea();\n",
              "//# sourceURL=js_7b491ef545"
            ],
            "text/plain": [
              "<IPython.core.display.Javascript object>"
            ]
          },
          "metadata": {
            "tags": [
              "id11_content_5",
              "outputarea_id11"
            ]
          }
        },
        {
          "output_type": "display_data",
          "data": {
            "application/javascript": [
              "window[\"b931c87c-c5eb-11ea-8df1-0242ac1c0002\"] = document.querySelector(\"#id11_content_5\");\n",
              "//# sourceURL=js_fb8f63783c"
            ],
            "text/plain": [
              "<IPython.core.display.Javascript object>"
            ]
          },
          "metadata": {
            "tags": [
              "id11_content_5",
              "outputarea_id11"
            ]
          }
        },
        {
          "output_type": "display_data",
          "data": {
            "application/javascript": [
              "window[\"b931fafe-c5eb-11ea-8df1-0242ac1c0002\"] = google.colab.output.setActiveOutputArea(window[\"b931c87c-c5eb-11ea-8df1-0242ac1c0002\"]);\n",
              "//# sourceURL=js_ed369fc160"
            ],
            "text/plain": [
              "<IPython.core.display.Javascript object>"
            ]
          },
          "metadata": {
            "tags": [
              "id11_content_5",
              "outputarea_id11"
            ]
          }
        },
        {
          "output_type": "display_data",
          "data": {
            "text/html": [
              "<html>\n",
              "<head><meta charset=\"utf-8\" /></head>\n",
              "<body>\n",
              "    <div>\n",
              "            <script src=\"https://cdnjs.cloudflare.com/ajax/libs/mathjax/2.7.5/MathJax.js?config=TeX-AMS-MML_SVG\"></script><script type=\"text/javascript\">if (window.MathJax) {MathJax.Hub.Config({SVG: {font: \"STIX-Web\"}});}</script>\n",
              "                <script type=\"text/javascript\">window.PlotlyConfig = {MathJaxConfig: 'local'};</script>\n",
              "        <script src=\"https://cdn.plot.ly/plotly-latest.min.js\"></script>    \n",
              "            <div id=\"7da8ce36-6f58-4eeb-8112-f872cb1ed364\" class=\"plotly-graph-div\" style=\"height:525px; width:100%;\"></div>\n",
              "            <script type=\"text/javascript\">\n",
              "                \n",
              "                    window.PLOTLYENV=window.PLOTLYENV || {};\n",
              "                    \n",
              "                if (document.getElementById(\"7da8ce36-6f58-4eeb-8112-f872cb1ed364\")) {\n",
              "                    Plotly.newPlot(\n",
              "                        '7da8ce36-6f58-4eeb-8112-f872cb1ed364',\n",
              "                        [{\"hoverlabel\": {\"namelength\": 0}, \"hovertemplate\": \"<b>%{hovertext}</b><br><br>Method=Normal<br>HomochiralChainLength=%{marker.size}<br>NumberMonomer=%{x}<br>Breakprob=%{y}\", \"hovertext\": [\"Normal\"], \"legendgroup\": \"Method=Normal\", \"marker\": {\"color\": \"#636efa\", \"size\": [2], \"sizemode\": \"area\", \"sizeref\": 0.075, \"symbol\": \"circle\"}, \"mode\": \"markers\", \"name\": \"Method=Normal\", \"showlegend\": true, \"type\": \"scatter\", \"x\": [1], \"xaxis\": \"x\", \"y\": [0.25], \"yaxis\": \"y\"}, {\"hoverlabel\": {\"namelength\": 0}, \"hovertemplate\": \"<b>%{hovertext}</b><br><br>Method=poisson<br>HomochiralChainLength=%{marker.size}<br>NumberMonomer=%{x}<br>Breakprob=%{y}\", \"hovertext\": [\"poisson\"], \"legendgroup\": \"Method=poisson\", \"marker\": {\"color\": \"#EF553B\", \"size\": [2], \"sizemode\": \"area\", \"sizeref\": 0.075, \"symbol\": \"circle\"}, \"mode\": \"markers\", \"name\": \"Method=poisson\", \"showlegend\": true, \"type\": \"scatter\", \"x\": [1], \"xaxis\": \"x\", \"y\": [0.4736303290288329], \"yaxis\": \"y\"}, {\"hoverlabel\": {\"namelength\": 0}, \"hovertemplate\": \"<b>%{hovertext}</b><br><br>Method=left<br>HomochiralChainLength=%{marker.size}<br>NumberMonomer=%{x}<br>Breakprob=%{y}\", \"hovertext\": [\"left\"], \"legendgroup\": \"Method=left\", \"marker\": {\"color\": \"#00cc96\", \"size\": [2], \"sizemode\": \"area\", \"sizeref\": 0.075, \"symbol\": \"circle\"}, \"mode\": \"markers\", \"name\": \"Method=left\", \"showlegend\": true, \"type\": \"scatter\", \"x\": [1], \"xaxis\": \"x\", \"y\": [0.2414840822312114], \"yaxis\": \"y\"}, {\"hoverlabel\": {\"namelength\": 0}, \"hovertemplate\": \"<b>%{hovertext}</b><br><br>Method=right<br>HomochiralChainLength=%{marker.size}<br>NumberMonomer=%{x}<br>Breakprob=%{y}\", \"hovertext\": [\"right\"], \"legendgroup\": \"Method=right\", \"marker\": {\"color\": \"#ab63fa\", \"size\": [2], \"sizemode\": \"area\", \"sizeref\": 0.075, \"symbol\": \"circle\"}, \"mode\": \"markers\", \"name\": \"Method=right\", \"showlegend\": true, \"type\": \"scatter\", \"x\": [1], \"xaxis\": \"x\", \"y\": [0.2414840822312114], \"yaxis\": \"y\"}],\n",
              "                        {\"legend\": {\"itemsizing\": \"constant\", \"tracegroupgap\": 0}, \"sliders\": [{\"active\": 0, \"currentvalue\": {\"prefix\": \"HomochiralChainLength=\"}, \"len\": 0.9, \"pad\": {\"b\": 10, \"t\": 60}, \"steps\": [{\"args\": [[\"2\"], {\"frame\": {\"duration\": 0, \"redraw\": false}, \"fromcurrent\": true, \"mode\": \"immediate\", \"transition\": {\"duration\": 0, \"easing\": \"linear\"}}], \"label\": \"2\", \"method\": \"animate\"}, {\"args\": [[\"3\"], {\"frame\": {\"duration\": 0, \"redraw\": false}, \"fromcurrent\": true, \"mode\": \"immediate\", \"transition\": {\"duration\": 0, \"easing\": \"linear\"}}], \"label\": \"3\", \"method\": \"animate\"}, {\"args\": [[\"4\"], {\"frame\": {\"duration\": 0, \"redraw\": false}, \"fromcurrent\": true, \"mode\": \"immediate\", \"transition\": {\"duration\": 0, \"easing\": \"linear\"}}], \"label\": \"4\", \"method\": \"animate\"}, {\"args\": [[\"5\"], {\"frame\": {\"duration\": 0, \"redraw\": false}, \"fromcurrent\": true, \"mode\": \"immediate\", \"transition\": {\"duration\": 0, \"easing\": \"linear\"}}], \"label\": \"5\", \"method\": \"animate\"}, {\"args\": [[\"6\"], {\"frame\": {\"duration\": 0, \"redraw\": false}, \"fromcurrent\": true, \"mode\": \"immediate\", \"transition\": {\"duration\": 0, \"easing\": \"linear\"}}], \"label\": \"6\", \"method\": \"animate\"}, {\"args\": [[\"7\"], {\"frame\": {\"duration\": 0, \"redraw\": false}, \"fromcurrent\": true, \"mode\": \"immediate\", \"transition\": {\"duration\": 0, \"easing\": \"linear\"}}], \"label\": \"7\", \"method\": \"animate\"}, {\"args\": [[\"8\"], {\"frame\": {\"duration\": 0, \"redraw\": false}, \"fromcurrent\": true, \"mode\": \"immediate\", \"transition\": {\"duration\": 0, \"easing\": \"linear\"}}], \"label\": \"8\", \"method\": \"animate\"}, {\"args\": [[\"9\"], {\"frame\": {\"duration\": 0, \"redraw\": false}, \"fromcurrent\": true, \"mode\": \"immediate\", \"transition\": {\"duration\": 0, \"easing\": \"linear\"}}], \"label\": \"9\", \"method\": \"animate\"}, {\"args\": [[\"10\"], {\"frame\": {\"duration\": 0, \"redraw\": false}, \"fromcurrent\": true, \"mode\": \"immediate\", \"transition\": {\"duration\": 0, \"easing\": \"linear\"}}], \"label\": \"10\", \"method\": \"animate\"}, {\"args\": [[\"11\"], {\"frame\": {\"duration\": 0, \"redraw\": false}, \"fromcurrent\": true, \"mode\": \"immediate\", \"transition\": {\"duration\": 0, \"easing\": \"linear\"}}], \"label\": \"11\", \"method\": \"animate\"}, {\"args\": [[\"12\"], {\"frame\": {\"duration\": 0, \"redraw\": false}, \"fromcurrent\": true, \"mode\": \"immediate\", \"transition\": {\"duration\": 0, \"easing\": \"linear\"}}], \"label\": \"12\", \"method\": \"animate\"}, {\"args\": [[\"13\"], {\"frame\": {\"duration\": 0, \"redraw\": false}, \"fromcurrent\": true, \"mode\": \"immediate\", \"transition\": {\"duration\": 0, \"easing\": \"linear\"}}], \"label\": \"13\", \"method\": \"animate\"}, {\"args\": [[\"14\"], {\"frame\": {\"duration\": 0, \"redraw\": false}, \"fromcurrent\": true, \"mode\": \"immediate\", \"transition\": {\"duration\": 0, \"easing\": \"linear\"}}], \"label\": \"14\", \"method\": \"animate\"}, {\"args\": [[\"15\"], {\"frame\": {\"duration\": 0, \"redraw\": false}, \"fromcurrent\": true, \"mode\": \"immediate\", \"transition\": {\"duration\": 0, \"easing\": \"linear\"}}], \"label\": \"15\", \"method\": \"animate\"}, {\"args\": [[\"16\"], {\"frame\": {\"duration\": 0, \"redraw\": false}, \"fromcurrent\": true, \"mode\": \"immediate\", \"transition\": {\"duration\": 0, \"easing\": \"linear\"}}], \"label\": \"16\", \"method\": \"animate\"}, {\"args\": [[\"17\"], {\"frame\": {\"duration\": 0, \"redraw\": false}, \"fromcurrent\": true, \"mode\": \"immediate\", \"transition\": {\"duration\": 0, \"easing\": \"linear\"}}], \"label\": \"17\", \"method\": \"animate\"}, {\"args\": [[\"18\"], {\"frame\": {\"duration\": 0, \"redraw\": false}, \"fromcurrent\": true, \"mode\": \"immediate\", \"transition\": {\"duration\": 0, \"easing\": \"linear\"}}], \"label\": \"18\", \"method\": \"animate\"}, {\"args\": [[\"19\"], {\"frame\": {\"duration\": 0, \"redraw\": false}, \"fromcurrent\": true, \"mode\": \"immediate\", \"transition\": {\"duration\": 0, \"easing\": \"linear\"}}], \"label\": \"19\", \"method\": \"animate\"}, {\"args\": [[\"20\"], {\"frame\": {\"duration\": 0, \"redraw\": false}, \"fromcurrent\": true, \"mode\": \"immediate\", \"transition\": {\"duration\": 0, \"easing\": \"linear\"}}], \"label\": \"20\", \"method\": \"animate\"}, {\"args\": [[\"21\"], {\"frame\": {\"duration\": 0, \"redraw\": false}, \"fromcurrent\": true, \"mode\": \"immediate\", \"transition\": {\"duration\": 0, \"easing\": \"linear\"}}], \"label\": \"21\", \"method\": \"animate\"}, {\"args\": [[\"22\"], {\"frame\": {\"duration\": 0, \"redraw\": false}, \"fromcurrent\": true, \"mode\": \"immediate\", \"transition\": {\"duration\": 0, \"easing\": \"linear\"}}], \"label\": \"22\", \"method\": \"animate\"}, {\"args\": [[\"23\"], {\"frame\": {\"duration\": 0, \"redraw\": false}, \"fromcurrent\": true, \"mode\": \"immediate\", \"transition\": {\"duration\": 0, \"easing\": \"linear\"}}], \"label\": \"23\", \"method\": \"animate\"}, {\"args\": [[\"24\"], {\"frame\": {\"duration\": 0, \"redraw\": false}, \"fromcurrent\": true, \"mode\": \"immediate\", \"transition\": {\"duration\": 0, \"easing\": \"linear\"}}], \"label\": \"24\", \"method\": \"animate\"}, {\"args\": [[\"25\"], {\"frame\": {\"duration\": 0, \"redraw\": false}, \"fromcurrent\": true, \"mode\": \"immediate\", \"transition\": {\"duration\": 0, \"easing\": \"linear\"}}], \"label\": \"25\", \"method\": \"animate\"}, {\"args\": [[\"26\"], {\"frame\": {\"duration\": 0, \"redraw\": false}, \"fromcurrent\": true, \"mode\": \"immediate\", \"transition\": {\"duration\": 0, \"easing\": \"linear\"}}], \"label\": \"26\", \"method\": \"animate\"}, {\"args\": [[\"27\"], {\"frame\": {\"duration\": 0, \"redraw\": false}, \"fromcurrent\": true, \"mode\": \"immediate\", \"transition\": {\"duration\": 0, \"easing\": \"linear\"}}], \"label\": \"27\", \"method\": \"animate\"}, {\"args\": [[\"28\"], {\"frame\": {\"duration\": 0, \"redraw\": false}, \"fromcurrent\": true, \"mode\": \"immediate\", \"transition\": {\"duration\": 0, \"easing\": \"linear\"}}], \"label\": \"28\", \"method\": \"animate\"}, {\"args\": [[\"29\"], {\"frame\": {\"duration\": 0, \"redraw\": false}, \"fromcurrent\": true, \"mode\": \"immediate\", \"transition\": {\"duration\": 0, \"easing\": \"linear\"}}], \"label\": \"29\", \"method\": \"animate\"}, {\"args\": [[\"30\"], {\"frame\": {\"duration\": 0, \"redraw\": false}, \"fromcurrent\": true, \"mode\": \"immediate\", \"transition\": {\"duration\": 0, \"easing\": \"linear\"}}], \"label\": \"30\", \"method\": \"animate\"}], \"x\": 0.1, \"xanchor\": \"left\", \"y\": 0, \"yanchor\": \"top\"}], \"template\": {\"data\": {\"bar\": [{\"error_x\": {\"color\": \"#2a3f5f\"}, \"error_y\": {\"color\": \"#2a3f5f\"}, \"marker\": {\"line\": {\"color\": \"#E5ECF6\", \"width\": 0.5}}, \"type\": \"bar\"}], \"barpolar\": [{\"marker\": {\"line\": {\"color\": \"#E5ECF6\", \"width\": 0.5}}, \"type\": \"barpolar\"}], \"carpet\": [{\"aaxis\": {\"endlinecolor\": \"#2a3f5f\", \"gridcolor\": \"white\", \"linecolor\": \"white\", \"minorgridcolor\": \"white\", \"startlinecolor\": \"#2a3f5f\"}, \"baxis\": {\"endlinecolor\": \"#2a3f5f\", \"gridcolor\": \"white\", \"linecolor\": \"white\", \"minorgridcolor\": \"white\", \"startlinecolor\": \"#2a3f5f\"}, \"type\": \"carpet\"}], \"choropleth\": [{\"colorbar\": {\"outlinewidth\": 0, \"ticks\": \"\"}, \"type\": \"choropleth\"}], \"contour\": [{\"colorbar\": {\"outlinewidth\": 0, \"ticks\": \"\"}, \"colorscale\": [[0.0, \"#0d0887\"], [0.1111111111111111, \"#46039f\"], [0.2222222222222222, \"#7201a8\"], [0.3333333333333333, \"#9c179e\"], [0.4444444444444444, \"#bd3786\"], [0.5555555555555556, \"#d8576b\"], [0.6666666666666666, \"#ed7953\"], [0.7777777777777778, \"#fb9f3a\"], [0.8888888888888888, \"#fdca26\"], [1.0, \"#f0f921\"]], \"type\": \"contour\"}], \"contourcarpet\": [{\"colorbar\": {\"outlinewidth\": 0, \"ticks\": \"\"}, \"type\": \"contourcarpet\"}], \"heatmap\": [{\"colorbar\": {\"outlinewidth\": 0, \"ticks\": \"\"}, \"colorscale\": [[0.0, \"#0d0887\"], [0.1111111111111111, \"#46039f\"], [0.2222222222222222, \"#7201a8\"], [0.3333333333333333, \"#9c179e\"], [0.4444444444444444, \"#bd3786\"], [0.5555555555555556, \"#d8576b\"], [0.6666666666666666, \"#ed7953\"], [0.7777777777777778, \"#fb9f3a\"], [0.8888888888888888, \"#fdca26\"], [1.0, \"#f0f921\"]], \"type\": \"heatmap\"}], \"heatmapgl\": [{\"colorbar\": {\"outlinewidth\": 0, \"ticks\": \"\"}, \"colorscale\": [[0.0, \"#0d0887\"], [0.1111111111111111, \"#46039f\"], [0.2222222222222222, \"#7201a8\"], [0.3333333333333333, \"#9c179e\"], [0.4444444444444444, \"#bd3786\"], [0.5555555555555556, \"#d8576b\"], [0.6666666666666666, \"#ed7953\"], [0.7777777777777778, \"#fb9f3a\"], [0.8888888888888888, \"#fdca26\"], [1.0, \"#f0f921\"]], \"type\": \"heatmapgl\"}], \"histogram\": [{\"marker\": {\"colorbar\": {\"outlinewidth\": 0, \"ticks\": \"\"}}, \"type\": \"histogram\"}], \"histogram2d\": [{\"colorbar\": {\"outlinewidth\": 0, \"ticks\": \"\"}, \"colorscale\": [[0.0, \"#0d0887\"], [0.1111111111111111, \"#46039f\"], [0.2222222222222222, \"#7201a8\"], [0.3333333333333333, \"#9c179e\"], [0.4444444444444444, \"#bd3786\"], [0.5555555555555556, \"#d8576b\"], [0.6666666666666666, \"#ed7953\"], [0.7777777777777778, \"#fb9f3a\"], [0.8888888888888888, \"#fdca26\"], [1.0, \"#f0f921\"]], \"type\": \"histogram2d\"}], \"histogram2dcontour\": [{\"colorbar\": {\"outlinewidth\": 0, \"ticks\": \"\"}, \"colorscale\": [[0.0, \"#0d0887\"], [0.1111111111111111, \"#46039f\"], [0.2222222222222222, \"#7201a8\"], [0.3333333333333333, \"#9c179e\"], [0.4444444444444444, \"#bd3786\"], [0.5555555555555556, \"#d8576b\"], [0.6666666666666666, \"#ed7953\"], [0.7777777777777778, \"#fb9f3a\"], [0.8888888888888888, \"#fdca26\"], [1.0, \"#f0f921\"]], \"type\": \"histogram2dcontour\"}], \"mesh3d\": [{\"colorbar\": {\"outlinewidth\": 0, \"ticks\": \"\"}, \"type\": \"mesh3d\"}], \"parcoords\": [{\"line\": {\"colorbar\": {\"outlinewidth\": 0, \"ticks\": \"\"}}, \"type\": \"parcoords\"}], \"pie\": [{\"automargin\": true, \"type\": \"pie\"}], \"scatter\": [{\"marker\": {\"colorbar\": {\"outlinewidth\": 0, \"ticks\": \"\"}}, \"type\": \"scatter\"}], \"scatter3d\": [{\"line\": {\"colorbar\": {\"outlinewidth\": 0, \"ticks\": \"\"}}, \"marker\": {\"colorbar\": {\"outlinewidth\": 0, \"ticks\": \"\"}}, \"type\": \"scatter3d\"}], \"scattercarpet\": [{\"marker\": {\"colorbar\": {\"outlinewidth\": 0, \"ticks\": \"\"}}, \"type\": \"scattercarpet\"}], \"scattergeo\": [{\"marker\": {\"colorbar\": {\"outlinewidth\": 0, \"ticks\": \"\"}}, \"type\": \"scattergeo\"}], \"scattergl\": [{\"marker\": {\"colorbar\": {\"outlinewidth\": 0, \"ticks\": \"\"}}, \"type\": \"scattergl\"}], \"scattermapbox\": [{\"marker\": {\"colorbar\": {\"outlinewidth\": 0, \"ticks\": \"\"}}, \"type\": \"scattermapbox\"}], \"scatterpolar\": [{\"marker\": {\"colorbar\": {\"outlinewidth\": 0, \"ticks\": \"\"}}, \"type\": \"scatterpolar\"}], \"scatterpolargl\": [{\"marker\": {\"colorbar\": {\"outlinewidth\": 0, \"ticks\": \"\"}}, \"type\": \"scatterpolargl\"}], \"scatterternary\": [{\"marker\": {\"colorbar\": {\"outlinewidth\": 0, \"ticks\": \"\"}}, \"type\": \"scatterternary\"}], \"surface\": [{\"colorbar\": {\"outlinewidth\": 0, \"ticks\": \"\"}, \"colorscale\": [[0.0, \"#0d0887\"], [0.1111111111111111, \"#46039f\"], [0.2222222222222222, \"#7201a8\"], [0.3333333333333333, \"#9c179e\"], [0.4444444444444444, \"#bd3786\"], [0.5555555555555556, \"#d8576b\"], [0.6666666666666666, \"#ed7953\"], [0.7777777777777778, \"#fb9f3a\"], [0.8888888888888888, \"#fdca26\"], [1.0, \"#f0f921\"]], \"type\": \"surface\"}], \"table\": [{\"cells\": {\"fill\": {\"color\": \"#EBF0F8\"}, \"line\": {\"color\": \"white\"}}, \"header\": {\"fill\": {\"color\": \"#C8D4E3\"}, \"line\": {\"color\": \"white\"}}, \"type\": \"table\"}]}, \"layout\": {\"annotationdefaults\": {\"arrowcolor\": \"#2a3f5f\", \"arrowhead\": 0, \"arrowwidth\": 1}, \"coloraxis\": {\"colorbar\": {\"outlinewidth\": 0, \"ticks\": \"\"}}, \"colorscale\": {\"diverging\": [[0, \"#8e0152\"], [0.1, \"#c51b7d\"], [0.2, \"#de77ae\"], [0.3, \"#f1b6da\"], [0.4, \"#fde0ef\"], [0.5, \"#f7f7f7\"], [0.6, \"#e6f5d0\"], [0.7, \"#b8e186\"], [0.8, \"#7fbc41\"], [0.9, \"#4d9221\"], [1, \"#276419\"]], \"sequential\": [[0.0, \"#0d0887\"], [0.1111111111111111, \"#46039f\"], [0.2222222222222222, \"#7201a8\"], [0.3333333333333333, \"#9c179e\"], [0.4444444444444444, \"#bd3786\"], [0.5555555555555556, \"#d8576b\"], [0.6666666666666666, \"#ed7953\"], [0.7777777777777778, \"#fb9f3a\"], [0.8888888888888888, \"#fdca26\"], [1.0, \"#f0f921\"]], \"sequentialminus\": [[0.0, \"#0d0887\"], [0.1111111111111111, \"#46039f\"], [0.2222222222222222, \"#7201a8\"], [0.3333333333333333, \"#9c179e\"], [0.4444444444444444, \"#bd3786\"], [0.5555555555555556, \"#d8576b\"], [0.6666666666666666, \"#ed7953\"], [0.7777777777777778, \"#fb9f3a\"], [0.8888888888888888, \"#fdca26\"], [1.0, \"#f0f921\"]]}, \"colorway\": [\"#636efa\", \"#EF553B\", \"#00cc96\", \"#ab63fa\", \"#FFA15A\", \"#19d3f3\", \"#FF6692\", \"#B6E880\", \"#FF97FF\", \"#FECB52\"], \"font\": {\"color\": \"#2a3f5f\"}, \"geo\": {\"bgcolor\": \"white\", \"lakecolor\": \"white\", \"landcolor\": \"#E5ECF6\", \"showlakes\": true, \"showland\": true, \"subunitcolor\": \"white\"}, \"hoverlabel\": {\"align\": \"left\"}, \"hovermode\": \"closest\", \"mapbox\": {\"style\": \"light\"}, \"paper_bgcolor\": \"white\", \"plot_bgcolor\": \"#E5ECF6\", \"polar\": {\"angularaxis\": {\"gridcolor\": \"white\", \"linecolor\": \"white\", \"ticks\": \"\"}, \"bgcolor\": \"#E5ECF6\", \"radialaxis\": {\"gridcolor\": \"white\", \"linecolor\": \"white\", \"ticks\": \"\"}}, \"scene\": {\"xaxis\": {\"backgroundcolor\": \"#E5ECF6\", \"gridcolor\": \"white\", \"gridwidth\": 2, \"linecolor\": \"white\", \"showbackground\": true, \"ticks\": \"\", \"zerolinecolor\": \"white\"}, \"yaxis\": {\"backgroundcolor\": \"#E5ECF6\", \"gridcolor\": \"white\", \"gridwidth\": 2, \"linecolor\": \"white\", \"showbackground\": true, \"ticks\": \"\", \"zerolinecolor\": \"white\"}, \"zaxis\": {\"backgroundcolor\": \"#E5ECF6\", \"gridcolor\": \"white\", \"gridwidth\": 2, \"linecolor\": \"white\", \"showbackground\": true, \"ticks\": \"\", \"zerolinecolor\": \"white\"}}, \"shapedefaults\": {\"line\": {\"color\": \"#2a3f5f\"}}, \"ternary\": {\"aaxis\": {\"gridcolor\": \"white\", \"linecolor\": \"white\", \"ticks\": \"\"}, \"baxis\": {\"gridcolor\": \"white\", \"linecolor\": \"white\", \"ticks\": \"\"}, \"bgcolor\": \"#E5ECF6\", \"caxis\": {\"gridcolor\": \"white\", \"linecolor\": \"white\", \"ticks\": \"\"}}, \"title\": {\"x\": 0.05}, \"xaxis\": {\"automargin\": true, \"gridcolor\": \"white\", \"linecolor\": \"white\", \"ticks\": \"\", \"title\": {\"standoff\": 15}, \"zerolinecolor\": \"white\", \"zerolinewidth\": 2}, \"yaxis\": {\"automargin\": true, \"gridcolor\": \"white\", \"linecolor\": \"white\", \"ticks\": \"\", \"title\": {\"standoff\": 15}, \"zerolinecolor\": \"white\", \"zerolinewidth\": 2}}}, \"title\": {\"text\": \"Brk Probs of Homochiral chain\"}, \"updatemenus\": [{\"buttons\": [{\"args\": [null, {\"frame\": {\"duration\": 500, \"redraw\": false}, \"fromcurrent\": true, \"mode\": \"immediate\", \"transition\": {\"duration\": 500, \"easing\": \"linear\"}}], \"label\": \"&#9654;\", \"method\": \"animate\"}, {\"args\": [[null], {\"frame\": {\"duration\": 0, \"redraw\": false}, \"fromcurrent\": true, \"mode\": \"immediate\", \"transition\": {\"duration\": 0, \"easing\": \"linear\"}}], \"label\": \"&#9724;\", \"method\": \"animate\"}], \"direction\": \"left\", \"pad\": {\"r\": 10, \"t\": 70}, \"showactive\": false, \"type\": \"buttons\", \"x\": 0.1, \"xanchor\": \"right\", \"y\": 0, \"yanchor\": \"top\"}], \"xaxis\": {\"anchor\": \"y\", \"domain\": [0.0, 1.0], \"range\": [0, 30], \"title\": {\"text\": \"NumberMonomer\"}}, \"yaxis\": {\"anchor\": \"x\", \"domain\": [0.0, 1.0], \"range\": [-0.2, 1.2], \"title\": {\"text\": \"Breakprob\"}}},\n",
              "                        {\"responsive\": true}\n",
              "                    ).then(function(){\n",
              "                            Plotly.addFrames('7da8ce36-6f58-4eeb-8112-f872cb1ed364', [{\"data\": [{\"hoverlabel\": {\"namelength\": 0}, \"hovertemplate\": \"<b>%{hovertext}</b><br><br>Method=Normal<br>HomochiralChainLength=%{marker.size}<br>NumberMonomer=%{x}<br>Breakprob=%{y}\", \"hovertext\": [\"Normal\"], \"legendgroup\": \"Method=Normal\", \"marker\": {\"color\": \"#636efa\", \"size\": [2], \"sizemode\": \"area\", \"sizeref\": 0.075, \"symbol\": \"circle\"}, \"mode\": \"markers\", \"name\": \"Method=Normal\", \"showlegend\": true, \"x\": [1], \"xaxis\": \"x\", \"y\": [0.25], \"yaxis\": \"y\", \"type\": \"scatter\"}, {\"hoverlabel\": {\"namelength\": 0}, \"hovertemplate\": \"<b>%{hovertext}</b><br><br>Method=poisson<br>HomochiralChainLength=%{marker.size}<br>NumberMonomer=%{x}<br>Breakprob=%{y}\", \"hovertext\": [\"poisson\"], \"legendgroup\": \"Method=poisson\", \"marker\": {\"color\": \"#EF553B\", \"size\": [2], \"sizemode\": \"area\", \"sizeref\": 0.075, \"symbol\": \"circle\"}, \"mode\": \"markers\", \"name\": \"Method=poisson\", \"showlegend\": true, \"x\": [1], \"xaxis\": \"x\", \"y\": [0.4736303290288329], \"yaxis\": \"y\", \"type\": \"scatter\"}, {\"hoverlabel\": {\"namelength\": 0}, \"hovertemplate\": \"<b>%{hovertext}</b><br><br>Method=left<br>HomochiralChainLength=%{marker.size}<br>NumberMonomer=%{x}<br>Breakprob=%{y}\", \"hovertext\": [\"left\"], \"legendgroup\": \"Method=left\", \"marker\": {\"color\": \"#00cc96\", \"size\": [2], \"sizemode\": \"area\", \"sizeref\": 0.075, \"symbol\": \"circle\"}, \"mode\": \"markers\", \"name\": \"Method=left\", \"showlegend\": true, \"x\": [1], \"xaxis\": \"x\", \"y\": [0.2414840822312114], \"yaxis\": \"y\", \"type\": \"scatter\"}, {\"hoverlabel\": {\"namelength\": 0}, \"hovertemplate\": \"<b>%{hovertext}</b><br><br>Method=right<br>HomochiralChainLength=%{marker.size}<br>NumberMonomer=%{x}<br>Breakprob=%{y}\", \"hovertext\": [\"right\"], \"legendgroup\": \"Method=right\", \"marker\": {\"color\": \"#ab63fa\", \"size\": [2], \"sizemode\": \"area\", \"sizeref\": 0.075, \"symbol\": \"circle\"}, \"mode\": \"markers\", \"name\": \"Method=right\", \"showlegend\": true, \"x\": [1], \"xaxis\": \"x\", \"y\": [0.2414840822312114], \"yaxis\": \"y\", \"type\": \"scatter\"}], \"name\": \"2\"}, {\"data\": [{\"hoverlabel\": {\"namelength\": 0}, \"hovertemplate\": \"<b>%{hovertext}</b><br><br>Method=Normal<br>HomochiralChainLength=%{marker.size}<br>NumberMonomer=%{x}<br>Breakprob=%{y}\", \"hovertext\": [\"Normal\", \"Normal\"], \"legendgroup\": \"Method=Normal\", \"marker\": {\"color\": \"#636efa\", \"size\": [3, 3], \"sizemode\": \"area\", \"sizeref\": 0.075, \"symbol\": \"circle\"}, \"mode\": \"markers\", \"name\": \"Method=Normal\", \"showlegend\": true, \"x\": [1, 2], \"xaxis\": \"x\", \"y\": [0.125, 0.125], \"yaxis\": \"y\", \"type\": \"scatter\"}, {\"hoverlabel\": {\"namelength\": 0}, \"hovertemplate\": \"<b>%{hovertext}</b><br><br>Method=poisson<br>HomochiralChainLength=%{marker.size}<br>NumberMonomer=%{x}<br>Breakprob=%{y}\", \"hovertext\": [\"poisson\", \"poisson\"], \"legendgroup\": \"Method=poisson\", \"marker\": {\"color\": \"#EF553B\", \"size\": [3, 3], \"sizemode\": \"area\", \"sizeref\": 0.075, \"symbol\": \"circle\"}, \"mode\": \"markers\", \"name\": \"Method=poisson\", \"showlegend\": true, \"x\": [1, 2], \"xaxis\": \"x\", \"y\": [0.4384937083273448, 0.4384937083273448], \"yaxis\": \"y\", \"type\": \"scatter\"}, {\"hoverlabel\": {\"namelength\": 0}, \"hovertemplate\": \"<b>%{hovertext}</b><br><br>Method=left<br>HomochiralChainLength=%{marker.size}<br>NumberMonomer=%{x}<br>Breakprob=%{y}\", \"hovertext\": [\"left\", \"left\"], \"legendgroup\": \"Method=left\", \"marker\": {\"color\": \"#00cc96\", \"size\": [3, 3], \"sizemode\": \"area\", \"sizeref\": 0.075, \"symbol\": \"circle\"}, \"mode\": \"markers\", \"name\": \"Method=left\", \"showlegend\": true, \"x\": [1, 2], \"xaxis\": \"x\", \"y\": [0.1186677651188149, 0.1186677651188149], \"yaxis\": \"y\", \"type\": \"scatter\"}, {\"hoverlabel\": {\"namelength\": 0}, \"hovertemplate\": \"<b>%{hovertext}</b><br><br>Method=right<br>HomochiralChainLength=%{marker.size}<br>NumberMonomer=%{x}<br>Breakprob=%{y}\", \"hovertext\": [\"right\", \"right\"], \"legendgroup\": \"Method=right\", \"marker\": {\"color\": \"#ab63fa\", \"size\": [3, 3], \"sizemode\": \"area\", \"sizeref\": 0.075, \"symbol\": \"circle\"}, \"mode\": \"markers\", \"name\": \"Method=right\", \"showlegend\": true, \"x\": [1, 2], \"xaxis\": \"x\", \"y\": [0.1186677651188149, 0.1186677651188149], \"yaxis\": \"y\", \"type\": \"scatter\"}], \"name\": \"3\"}, {\"data\": [{\"hoverlabel\": {\"namelength\": 0}, \"hovertemplate\": \"<b>%{hovertext}</b><br><br>Method=Normal<br>HomochiralChainLength=%{marker.size}<br>NumberMonomer=%{x}<br>Breakprob=%{y}\", \"hovertext\": [\"Normal\", \"Normal\", \"Normal\"], \"legendgroup\": \"Method=Normal\", \"marker\": {\"color\": \"#636efa\", \"size\": [4, 4, 4], \"sizemode\": \"area\", \"sizeref\": 0.075, \"symbol\": \"circle\"}, \"mode\": \"markers\", \"name\": \"Method=Normal\", \"showlegend\": true, \"x\": [1, 2, 3], \"xaxis\": \"x\", \"y\": [0.09375, 0.0625, 0.09375], \"yaxis\": \"y\", \"type\": \"scatter\"}, {\"hoverlabel\": {\"namelength\": 0}, \"hovertemplate\": \"<b>%{hovertext}</b><br><br>Method=poisson<br>HomochiralChainLength=%{marker.size}<br>NumberMonomer=%{x}<br>Breakprob=%{y}\", \"hovertext\": [\"poisson\", \"poisson\", \"poisson\"], \"legendgroup\": \"Method=poisson\", \"marker\": {\"color\": \"#EF553B\", \"size\": [4, 4, 4], \"sizemode\": \"area\", \"sizeref\": 0.075, \"symbol\": \"circle\"}, \"mode\": \"markers\", \"name\": \"Method=poisson\", \"showlegend\": true, \"x\": [1, 2, 3], \"xaxis\": \"x\", \"y\": [0.38096679942225925, 0.4059637241494335, 0.38096679942225925], \"yaxis\": \"y\", \"type\": \"scatter\"}, {\"hoverlabel\": {\"namelength\": 0}, \"hovertemplate\": \"<b>%{hovertext}</b><br><br>Method=left<br>HomochiralChainLength=%{marker.size}<br>NumberMonomer=%{x}<br>Breakprob=%{y}\", \"hovertext\": [\"left\", \"left\", \"left\"], \"legendgroup\": \"Method=left\", \"marker\": {\"color\": \"#00cc96\", \"size\": [4, 4, 4], \"sizemode\": \"area\", \"sizeref\": 0.075, \"symbol\": \"circle\"}, \"mode\": \"markers\", \"name\": \"Method=left\", \"showlegend\": true, \"x\": [1, 2, 3], \"xaxis\": \"x\", \"y\": [0.0874718429565757, 0.05831456197105046, 0.0874718429565757], \"yaxis\": \"y\", \"type\": \"scatter\"}, {\"hoverlabel\": {\"namelength\": 0}, \"hovertemplate\": \"<b>%{hovertext}</b><br><br>Method=right<br>HomochiralChainLength=%{marker.size}<br>NumberMonomer=%{x}<br>Breakprob=%{y}\", \"hovertext\": [\"right\", \"right\", \"right\"], \"legendgroup\": \"Method=right\", \"marker\": {\"color\": \"#ab63fa\", \"size\": [4, 4, 4], \"sizemode\": \"area\", \"sizeref\": 0.075, \"symbol\": \"circle\"}, \"mode\": \"markers\", \"name\": \"Method=right\", \"showlegend\": true, \"x\": [1, 2, 3], \"xaxis\": \"x\", \"y\": [0.0874718429565757, 0.05831456197105046, 0.0874718429565757], \"yaxis\": \"y\", \"type\": \"scatter\"}], \"name\": \"4\"}, {\"data\": [{\"hoverlabel\": {\"namelength\": 0}, \"hovertemplate\": \"<b>%{hovertext}</b><br><br>Method=Normal<br>HomochiralChainLength=%{marker.size}<br>NumberMonomer=%{x}<br>Breakprob=%{y}\", \"hovertext\": [\"Normal\", \"Normal\", \"Normal\", \"Normal\"], \"legendgroup\": \"Method=Normal\", \"marker\": {\"color\": \"#636efa\", \"size\": [5, 5, 5, 5], \"sizemode\": \"area\", \"sizeref\": 0.075, \"symbol\": \"circle\"}, \"mode\": \"markers\", \"name\": \"Method=Normal\", \"showlegend\": true, \"x\": [1, 2, 3, 4], \"xaxis\": \"x\", \"y\": [0.08203125, 0.046875, 0.046875, 0.08203125], \"yaxis\": \"y\", \"type\": \"scatter\"}, {\"hoverlabel\": {\"namelength\": 0}, \"hovertemplate\": \"<b>%{hovertext}</b><br><br>Method=poisson<br>HomochiralChainLength=%{marker.size}<br>NumberMonomer=%{x}<br>Breakprob=%{y}\", \"hovertext\": [\"poisson\", \"poisson\", \"poisson\", \"poisson\"], \"legendgroup\": \"Method=poisson\", \"marker\": {\"color\": \"#EF553B\", \"size\": [5, 5, 5, 5], \"sizemode\": \"area\", \"sizeref\": 0.075, \"symbol\": \"circle\"}, \"mode\": \"markers\", \"name\": \"Method=poisson\", \"showlegend\": true, \"x\": [1, 2, 3, 4], \"xaxis\": \"x\", \"y\": [0.30926944053685596, 0.35270449206832094, 0.35270449206832094, 0.30926944053685596], \"yaxis\": \"y\", \"type\": \"scatter\"}, {\"hoverlabel\": {\"namelength\": 0}, \"hovertemplate\": \"<b>%{hovertext}</b><br><br>Method=left<br>HomochiralChainLength=%{marker.size}<br>NumberMonomer=%{x}<br>Breakprob=%{y}\", \"hovertext\": [\"left\", \"left\", \"left\", \"left\"], \"legendgroup\": \"Method=left\", \"marker\": {\"color\": \"#00cc96\", \"size\": [5, 5, 5, 5], \"sizemode\": \"area\", \"sizeref\": 0.075, \"symbol\": \"circle\"}, \"mode\": \"markers\", \"name\": \"Method=left\", \"showlegend\": true, \"x\": [1, 2, 3, 4], \"xaxis\": \"x\", \"y\": [0.07522298791913318, 0.04298456452521896, 0.04298456452521896, 0.07522298791913318], \"yaxis\": \"y\", \"type\": \"scatter\"}, {\"hoverlabel\": {\"namelength\": 0}, \"hovertemplate\": \"<b>%{hovertext}</b><br><br>Method=right<br>HomochiralChainLength=%{marker.size}<br>NumberMonomer=%{x}<br>Breakprob=%{y}\", \"hovertext\": [\"right\", \"right\", \"right\", \"right\"], \"legendgroup\": \"Method=right\", \"marker\": {\"color\": \"#ab63fa\", \"size\": [5, 5, 5, 5], \"sizemode\": \"area\", \"sizeref\": 0.075, \"symbol\": \"circle\"}, \"mode\": \"markers\", \"name\": \"Method=right\", \"showlegend\": true, \"x\": [1, 2, 3, 4], \"xaxis\": \"x\", \"y\": [0.07522298791913318, 0.04298456452521896, 0.04298456452521896, 0.07522298791913318], \"yaxis\": \"y\", \"type\": \"scatter\"}], \"name\": \"5\"}, {\"data\": [{\"hoverlabel\": {\"namelength\": 0}, \"hovertemplate\": \"<b>%{hovertext}</b><br><br>Method=Normal<br>HomochiralChainLength=%{marker.size}<br>NumberMonomer=%{x}<br>Breakprob=%{y}\", \"hovertext\": [\"Normal\", \"Normal\", \"Normal\", \"Normal\", \"Normal\"], \"legendgroup\": \"Method=Normal\", \"marker\": {\"color\": \"#636efa\", \"size\": [6, 6, 6, 6, 6], \"sizemode\": \"area\", \"sizeref\": 0.075, \"symbol\": \"circle\"}, \"mode\": \"markers\", \"name\": \"Method=Normal\", \"showlegend\": true, \"x\": [1, 2, 3, 4, 5], \"xaxis\": \"x\", \"y\": [0.076904296875, 0.041015625, 0.03515625, 0.041015625, 0.076904296875], \"yaxis\": \"y\", \"type\": \"scatter\"}, {\"hoverlabel\": {\"namelength\": 0}, \"hovertemplate\": \"<b>%{hovertext}</b><br><br>Method=poisson<br>HomochiralChainLength=%{marker.size}<br>NumberMonomer=%{x}<br>Breakprob=%{y}\", \"hovertext\": [\"poisson\", \"poisson\", \"poisson\", \"poisson\", \"poisson\"], \"legendgroup\": \"Method=poisson\", \"marker\": {\"color\": \"#EF553B\", \"size\": [6, 6, 6, 6, 6], \"sizemode\": \"area\", \"sizeref\": 0.075, \"symbol\": \"circle\"}, \"mode\": \"markers\", \"name\": \"Method=poisson\", \"showlegend\": true, \"x\": [1, 2, 3, 4, 5], \"xaxis\": \"x\", \"y\": [0.24048722031124875, 0.2863260554521491, 0.30643245030282806, 0.2863260554521491, 0.24048722031124875], \"yaxis\": \"y\", \"type\": \"scatter\"}, {\"hoverlabel\": {\"namelength\": 0}, \"hovertemplate\": \"<b>%{hovertext}</b><br><br>Method=left<br>HomochiralChainLength=%{marker.size}<br>NumberMonomer=%{x}<br>Breakprob=%{y}\", \"hovertext\": [\"left\", \"left\", \"left\", \"left\", \"left\"], \"legendgroup\": \"Method=left\", \"marker\": {\"color\": \"#00cc96\", \"size\": [6, 6, 6, 6, 6], \"sizemode\": \"area\", \"sizeref\": 0.075, \"symbol\": \"circle\"}, \"mode\": \"markers\", \"name\": \"Method=left\", \"showlegend\": true, \"x\": [1, 2, 3, 4, 5], \"xaxis\": \"x\", \"y\": [0.06931003313535437, 0.03696535100552233, 0.031684586576162, 0.03696535100552233, 0.06931003313535437], \"yaxis\": \"y\", \"type\": \"scatter\"}, {\"hoverlabel\": {\"namelength\": 0}, \"hovertemplate\": \"<b>%{hovertext}</b><br><br>Method=right<br>HomochiralChainLength=%{marker.size}<br>NumberMonomer=%{x}<br>Breakprob=%{y}\", \"hovertext\": [\"right\", \"right\", \"right\", \"right\", \"right\"], \"legendgroup\": \"Method=right\", \"marker\": {\"color\": \"#ab63fa\", \"size\": [6, 6, 6, 6, 6], \"sizemode\": \"area\", \"sizeref\": 0.075, \"symbol\": \"circle\"}, \"mode\": \"markers\", \"name\": \"Method=right\", \"showlegend\": true, \"x\": [1, 2, 3, 4, 5], \"xaxis\": \"x\", \"y\": [0.06931003313535437, 0.03696535100552233, 0.031684586576162, 0.03696535100552233, 0.06931003313535437], \"yaxis\": \"y\", \"type\": \"scatter\"}], \"name\": \"6\"}, {\"data\": [{\"hoverlabel\": {\"namelength\": 0}, \"hovertemplate\": \"<b>%{hovertext}</b><br><br>Method=Normal<br>HomochiralChainLength=%{marker.size}<br>NumberMonomer=%{x}<br>Breakprob=%{y}\", \"hovertext\": [\"Normal\", \"Normal\", \"Normal\", \"Normal\", \"Normal\", \"Normal\"], \"legendgroup\": \"Method=Normal\", \"marker\": {\"color\": \"#636efa\", \"size\": [7, 7, 7, 7, 7, 7], \"sizemode\": \"area\", \"sizeref\": 0.075, \"symbol\": \"circle\"}, \"mode\": \"markers\", \"name\": \"Method=Normal\", \"showlegend\": true, \"x\": [1, 2, 3, 4, 5, 6], \"xaxis\": \"x\", \"y\": [0.07450103759765625, 0.0384521484375, 0.03076171875, 0.03076171875, 0.0384521484375, 0.07450103759765625], \"yaxis\": \"y\", \"type\": \"scatter\"}, {\"hoverlabel\": {\"namelength\": 0}, \"hovertemplate\": \"<b>%{hovertext}</b><br><br>Method=poisson<br>HomochiralChainLength=%{marker.size}<br>NumberMonomer=%{x}<br>Breakprob=%{y}\", \"hovertext\": [\"poisson\", \"poisson\", \"poisson\", \"poisson\", \"poisson\", \"poisson\"], \"legendgroup\": \"Method=poisson\", \"marker\": {\"color\": \"#EF553B\", \"size\": [7, 7, 7, 7, 7, 7], \"sizemode\": \"area\", \"sizeref\": 0.075, \"symbol\": \"circle\"}, \"mode\": \"markers\", \"name\": \"Method=poisson\", \"showlegend\": true, \"x\": [1, 2, 3, 4, 5, 6], \"xaxis\": \"x\", \"y\": [0.1870023208003926, 0.22264649575089832, 0.2487623399498688, 0.24876233994986882, 0.22264649575089834, 0.1870023208003926], \"yaxis\": \"y\", \"type\": \"scatter\"}, {\"hoverlabel\": {\"namelength\": 0}, \"hovertemplate\": \"<b>%{hovertext}</b><br><br>Method=left<br>HomochiralChainLength=%{marker.size}<br>NumberMonomer=%{x}<br>Breakprob=%{y}\", \"hovertext\": [\"left\", \"left\", \"left\", \"left\", \"left\", \"left\"], \"legendgroup\": \"Method=left\", \"marker\": {\"color\": \"#00cc96\", \"size\": [7, 7, 7, 7, 7, 7], \"sizemode\": \"area\", \"sizeref\": 0.075, \"symbol\": \"circle\"}, \"mode\": \"markers\", \"name\": \"Method=left\", \"showlegend\": true, \"x\": [1, 2, 3, 4, 5, 6], \"xaxis\": \"x\", \"y\": [0.06599059924342766, 0.034059664125640085, 0.027247731300512067, 0.02724773130051207, 0.034059664125640085, 0.06599059924342766], \"yaxis\": \"y\", \"type\": \"scatter\"}, {\"hoverlabel\": {\"namelength\": 0}, \"hovertemplate\": \"<b>%{hovertext}</b><br><br>Method=right<br>HomochiralChainLength=%{marker.size}<br>NumberMonomer=%{x}<br>Breakprob=%{y}\", \"hovertext\": [\"right\", \"right\", \"right\", \"right\", \"right\", \"right\"], \"legendgroup\": \"Method=right\", \"marker\": {\"color\": \"#ab63fa\", \"size\": [7, 7, 7, 7, 7, 7], \"sizemode\": \"area\", \"sizeref\": 0.075, \"symbol\": \"circle\"}, \"mode\": \"markers\", \"name\": \"Method=right\", \"showlegend\": true, \"x\": [1, 2, 3, 4, 5, 6], \"xaxis\": \"x\", \"y\": [0.06599059924342766, 0.034059664125640085, 0.027247731300512067, 0.02724773130051207, 0.034059664125640085, 0.06599059924342766], \"yaxis\": \"y\", \"type\": \"scatter\"}], \"name\": \"7\"}, {\"data\": [{\"hoverlabel\": {\"namelength\": 0}, \"hovertemplate\": \"<b>%{hovertext}</b><br><br>Method=Normal<br>HomochiralChainLength=%{marker.size}<br>NumberMonomer=%{x}<br>Breakprob=%{y}\", \"hovertext\": [\"Normal\", \"Normal\", \"Normal\", \"Normal\", \"Normal\", \"Normal\", \"Normal\"], \"legendgroup\": \"Method=Normal\", \"marker\": {\"color\": \"#636efa\", \"size\": [8, 8, 8, 8, 8, 8, 8], \"sizemode\": \"area\", \"sizeref\": 0.075, \"symbol\": \"circle\"}, \"mode\": \"markers\", \"name\": \"Method=Normal\", \"showlegend\": true, \"x\": [1, 2, 3, 4, 5, 6, 7], \"xaxis\": \"x\", \"y\": [0.07333695888519287, 0.037250518798828125, 0.028839111328125, 0.02691650390625, 0.028839111328125, 0.037250518798828125, 0.07333695888519287], \"yaxis\": \"y\", \"type\": \"scatter\"}, {\"hoverlabel\": {\"namelength\": 0}, \"hovertemplate\": \"<b>%{hovertext}</b><br><br>Method=poisson<br>HomochiralChainLength=%{marker.size}<br>NumberMonomer=%{x}<br>Breakprob=%{y}\", \"hovertext\": [\"poisson\", \"poisson\", \"poisson\", \"poisson\", \"poisson\", \"poisson\", \"poisson\"], \"legendgroup\": \"Method=poisson\", \"marker\": {\"color\": \"#EF553B\", \"size\": [8, 8, 8, 8, 8, 8, 8], \"sizemode\": \"area\", \"sizeref\": 0.075, \"symbol\": \"circle\"}, \"mode\": \"markers\", \"name\": \"Method=poisson\", \"showlegend\": true, \"x\": [1, 2, 3, 4, 5, 6, 7], \"xaxis\": \"x\", \"y\": [0.15089503333898477, 0.17312941356969583, 0.19343703519112015, 0.20194565463344133, 0.19343703519112015, 0.17312941356969583, 0.15089503333898477], \"yaxis\": \"y\", \"type\": \"scatter\"}, {\"hoverlabel\": {\"namelength\": 0}, \"hovertemplate\": \"<b>%{hovertext}</b><br><br>Method=left<br>HomochiralChainLength=%{marker.size}<br>NumberMonomer=%{x}<br>Breakprob=%{y}\", \"hovertext\": [\"left\", \"left\", \"left\", \"left\", \"left\", \"left\", \"left\"], \"legendgroup\": \"Method=left\", \"marker\": {\"color\": \"#00cc96\", \"size\": [8, 8, 8, 8, 8, 8, 8], \"sizemode\": \"area\", \"sizeref\": 0.075, \"symbol\": \"circle\"}, \"mode\": \"markers\", \"name\": \"Method=left\", \"showlegend\": true, \"x\": [1, 2, 3, 4, 5, 6, 7], \"xaxis\": \"x\", \"y\": [0.06384353086792935, 0.032428460123392684, 0.025105904611658854, 0.023432177637548263, 0.025105904611658854, 0.032428460123392684, 0.06384353086792935], \"yaxis\": \"y\", \"type\": \"scatter\"}, {\"hoverlabel\": {\"namelength\": 0}, \"hovertemplate\": \"<b>%{hovertext}</b><br><br>Method=right<br>HomochiralChainLength=%{marker.size}<br>NumberMonomer=%{x}<br>Breakprob=%{y}\", \"hovertext\": [\"right\", \"right\", \"right\", \"right\", \"right\", \"right\", \"right\"], \"legendgroup\": \"Method=right\", \"marker\": {\"color\": \"#ab63fa\", \"size\": [8, 8, 8, 8, 8, 8, 8], \"sizemode\": \"area\", \"sizeref\": 0.075, \"symbol\": \"circle\"}, \"mode\": \"markers\", \"name\": \"Method=right\", \"showlegend\": true, \"x\": [1, 2, 3, 4, 5, 6, 7], \"xaxis\": \"x\", \"y\": [0.06384353086792935, 0.032428460123392684, 0.025105904611658854, 0.023432177637548263, 0.025105904611658854, 0.032428460123392684, 0.06384353086792935], \"yaxis\": \"y\", \"type\": \"scatter\"}], \"name\": \"8\"}, {\"data\": [{\"hoverlabel\": {\"namelength\": 0}, \"hovertemplate\": \"<b>%{hovertext}</b><br><br>Method=Normal<br>HomochiralChainLength=%{marker.size}<br>NumberMonomer=%{x}<br>Breakprob=%{y}\", \"hovertext\": [\"Normal\", \"Normal\", \"Normal\", \"Normal\", \"Normal\", \"Normal\", \"Normal\", \"Normal\"], \"legendgroup\": \"Method=Normal\", \"marker\": {\"color\": \"#636efa\", \"size\": [9, 9, 9, 9, 9, 9, 9, 9], \"sizemode\": \"area\", \"sizeref\": 0.075, \"symbol\": \"circle\"}, \"mode\": \"markers\", \"name\": \"Method=Normal\", \"showlegend\": true, \"x\": [1, 2, 3, 4, 5, 6, 7, 8], \"xaxis\": \"x\", \"y\": [0.0727640138939023, 0.036668479442596436, 0.027937889099121094, 0.025234222412109375, 0.025234222412109375, 0.027937889099121094, 0.036668479442596436, 0.0727640138939023], \"yaxis\": \"y\", \"type\": \"scatter\"}, {\"hoverlabel\": {\"namelength\": 0}, \"hovertemplate\": \"<b>%{hovertext}</b><br><br>Method=poisson<br>HomochiralChainLength=%{marker.size}<br>NumberMonomer=%{x}<br>Breakprob=%{y}\", \"hovertext\": [\"poisson\", \"poisson\", \"poisson\", \"poisson\", \"poisson\", \"poisson\", \"poisson\", \"poisson\"], \"legendgroup\": \"Method=poisson\", \"marker\": {\"color\": \"#EF553B\", \"size\": [9, 9, 9, 9, 9, 9, 9, 9], \"sizemode\": \"area\", \"sizeref\": 0.075, \"symbol\": \"circle\"}, \"mode\": \"markers\", \"name\": \"Method=poisson\", \"showlegend\": true, \"x\": [1, 2, 3, 4, 5, 6, 7, 8], \"xaxis\": \"x\", \"y\": [0.12839531979480742, 0.13970077227246525, 0.15041620283468635, 0.15703248614679788, 0.15703248614679788, 0.15041620283468635, 0.13970077227246525, 0.12839531979480742], \"yaxis\": \"y\", \"type\": \"scatter\"}, {\"hoverlabel\": {\"namelength\": 0}, \"hovertemplate\": \"<b>%{hovertext}</b><br><br>Method=left<br>HomochiralChainLength=%{marker.size}<br>NumberMonomer=%{x}<br>Breakprob=%{y}\", \"hovertext\": [\"left\", \"left\", \"left\", \"left\", \"left\", \"left\", \"left\", \"left\"], \"legendgroup\": \"Method=left\", \"marker\": {\"color\": \"#00cc96\", \"size\": [9, 9, 9, 9, 9, 9, 9, 9], \"sizemode\": \"area\", \"sizeref\": 0.075, \"symbol\": \"circle\"}, \"mode\": \"markers\", \"name\": \"Method=left\", \"showlegend\": true, \"x\": [1, 2, 3, 4, 5, 6, 7, 8], \"xaxis\": \"x\", \"y\": [0.062256528336322565, 0.03137336861043027, 0.0239035189412802, 0.021590275172769215, 0.021590275172769215, 0.023903518941280205, 0.03137336861043027, 0.062256528336322565], \"yaxis\": \"y\", \"type\": \"scatter\"}, {\"hoverlabel\": {\"namelength\": 0}, \"hovertemplate\": \"<b>%{hovertext}</b><br><br>Method=right<br>HomochiralChainLength=%{marker.size}<br>NumberMonomer=%{x}<br>Breakprob=%{y}\", \"hovertext\": [\"right\", \"right\", \"right\", \"right\", \"right\", \"right\", \"right\", \"right\"], \"legendgroup\": \"Method=right\", \"marker\": {\"color\": \"#ab63fa\", \"size\": [9, 9, 9, 9, 9, 9, 9, 9], \"sizemode\": \"area\", \"sizeref\": 0.075, \"symbol\": \"circle\"}, \"mode\": \"markers\", \"name\": \"Method=right\", \"showlegend\": true, \"x\": [1, 2, 3, 4, 5, 6, 7, 8], \"xaxis\": \"x\", \"y\": [0.062256528336322565, 0.03137336861043027, 0.0239035189412802, 0.021590275172769215, 0.021590275172769215, 0.023903518941280205, 0.03137336861043027, 0.062256528336322565], \"yaxis\": \"y\", \"type\": \"scatter\"}], \"name\": \"9\"}, {\"data\": [{\"hoverlabel\": {\"namelength\": 0}, \"hovertemplate\": \"<b>%{hovertext}</b><br><br>Method=Normal<br>HomochiralChainLength=%{marker.size}<br>NumberMonomer=%{x}<br>Breakprob=%{y}\", \"hovertext\": [\"Normal\", \"Normal\", \"Normal\", \"Normal\", \"Normal\", \"Normal\", \"Normal\", \"Normal\", \"Normal\"], \"legendgroup\": \"Method=Normal\", \"marker\": {\"color\": \"#636efa\", \"size\": [10, 10, 10, 10, 10, 10, 10, 10, 10], \"sizemode\": \"area\", \"sizeref\": 0.075, \"symbol\": \"circle\"}, \"mode\": \"markers\", \"name\": \"Method=Normal\", \"showlegend\": true, \"x\": [1, 2, 3, 4, 5, 6, 7, 8, 9], \"xaxis\": \"x\", \"y\": [0.07247977946462925, 0.03638200694695115, 0.027501359581947327, 0.024445652961730957, 0.02365708351135254, 0.024445652961730957, 0.027501359581947327, 0.03638200694695115, 0.07247977946462925], \"yaxis\": \"y\", \"type\": \"scatter\"}, {\"hoverlabel\": {\"namelength\": 0}, \"hovertemplate\": \"<b>%{hovertext}</b><br><br>Method=poisson<br>HomochiralChainLength=%{marker.size}<br>NumberMonomer=%{x}<br>Breakprob=%{y}\", \"hovertext\": [\"poisson\", \"poisson\", \"poisson\", \"poisson\", \"poisson\", \"poisson\", \"poisson\", \"poisson\", \"poisson\"], \"legendgroup\": \"Method=poisson\", \"marker\": {\"color\": \"#EF553B\", \"size\": [10, 10, 10, 10, 10, 10, 10, 10, 10], \"sizemode\": \"area\", \"sizeref\": 0.075, \"symbol\": \"circle\"}, \"mode\": \"markers\", \"name\": \"Method=poisson\", \"showlegend\": true, \"x\": [1, 2, 3, 4, 5, 6, 7, 8, 9], \"xaxis\": \"x\", \"y\": [0.11489685636637417, 0.11887021682953307, 0.1213731350729624, 0.12210810750151593, 0.12210810750151593, 0.12210810750151595, 0.12137313507296238, 0.11887021682953304, 0.11489685636637417], \"yaxis\": \"y\", \"type\": \"scatter\"}, {\"hoverlabel\": {\"namelength\": 0}, \"hovertemplate\": \"<b>%{hovertext}</b><br><br>Method=left<br>HomochiralChainLength=%{marker.size}<br>NumberMonomer=%{x}<br>Breakprob=%{y}\", \"hovertext\": [\"left\", \"left\", \"left\", \"left\", \"left\", \"left\", \"left\", \"left\", \"left\"], \"legendgroup\": \"Method=left\", \"marker\": {\"color\": \"#00cc96\", \"size\": [10, 10, 10, 10, 10, 10, 10, 10, 10], \"sizemode\": \"area\", \"sizeref\": 0.075, \"symbol\": \"circle\"}, \"mode\": \"markers\", \"name\": \"Method=left\", \"showlegend\": true, \"x\": [1, 2, 3, 4, 5, 6, 7, 8, 9], \"xaxis\": \"x\", \"y\": [0.06094798673018652, 0.03059349922142696, 0.023125794687062898, 0.020556261944055913, 0.019893156720054105, 0.020556261944055913, 0.0231257946870629, 0.03059349922142696, 0.06094798673018652], \"yaxis\": \"y\", \"type\": \"scatter\"}, {\"hoverlabel\": {\"namelength\": 0}, \"hovertemplate\": \"<b>%{hovertext}</b><br><br>Method=right<br>HomochiralChainLength=%{marker.size}<br>NumberMonomer=%{x}<br>Breakprob=%{y}\", \"hovertext\": [\"right\", \"right\", \"right\", \"right\", \"right\", \"right\", \"right\", \"right\", \"right\"], \"legendgroup\": \"Method=right\", \"marker\": {\"color\": \"#ab63fa\", \"size\": [10, 10, 10, 10, 10, 10, 10, 10, 10], \"sizemode\": \"area\", \"sizeref\": 0.075, \"symbol\": \"circle\"}, \"mode\": \"markers\", \"name\": \"Method=right\", \"showlegend\": true, \"x\": [1, 2, 3, 4, 5, 6, 7, 8, 9], \"xaxis\": \"x\", \"y\": [0.06094798673018652, 0.03059349922142696, 0.023125794687062898, 0.020556261944055913, 0.019893156720054105, 0.020556261944055913, 0.0231257946870629, 0.03059349922142696, 0.06094798673018652], \"yaxis\": \"y\", \"type\": \"scatter\"}], \"name\": \"10\"}, {\"data\": [{\"hoverlabel\": {\"namelength\": 0}, \"hovertemplate\": \"<b>%{hovertext}</b><br><br>Method=Normal<br>HomochiralChainLength=%{marker.size}<br>NumberMonomer=%{x}<br>Breakprob=%{y}\", \"hovertext\": [\"Normal\", \"Normal\", \"Normal\", \"Normal\", \"Normal\", \"Normal\", \"Normal\", \"Normal\", \"Normal\", \"Normal\"], \"legendgroup\": \"Method=Normal\", \"marker\": {\"color\": \"#636efa\", \"size\": [11, 11, 11, 11, 11, 11, 11, 11, 11, 11], \"sizemode\": \"area\", \"sizeref\": 0.075, \"symbol\": \"circle\"}, \"mode\": \"markers\", \"name\": \"Method=Normal\", \"showlegend\": true, \"x\": [1, 2, 3, 4, 5, 6, 7, 8, 9, 10], \"xaxis\": \"x\", \"y\": [0.07233821739536239, 0.03623988973231462, 0.027286505210213363, 0.02406368963420391, 0.022917799651622772, 0.022917799651622772, 0.02406368963420391, 0.027286505210213363, 0.03623988973231462, 0.07233821739536239], \"yaxis\": \"y\", \"type\": \"scatter\"}, {\"hoverlabel\": {\"namelength\": 0}, \"hovertemplate\": \"<b>%{hovertext}</b><br><br>Method=poisson<br>HomochiralChainLength=%{marker.size}<br>NumberMonomer=%{x}<br>Breakprob=%{y}\", \"hovertext\": [\"poisson\", \"poisson\", \"poisson\", \"poisson\", \"poisson\", \"poisson\", \"poisson\", \"poisson\", \"poisson\", \"poisson\"], \"legendgroup\": \"Method=poisson\", \"marker\": {\"color\": \"#EF553B\", \"size\": [11, 11, 11, 11, 11, 11, 11, 11, 11, 11], \"sizemode\": \"area\", \"sizeref\": 0.075, \"symbol\": \"circle\"}, \"mode\": \"markers\", \"name\": \"Method=poisson\", \"showlegend\": true, \"x\": [1, 2, 3, 4, 5, 6, 7, 8, 9, 10], \"xaxis\": \"x\", \"y\": [0.10685970731564393, 0.1063731470206982, 0.10327538387020715, 0.09853089990294335, 0.09495098933645595, 0.09495098933645596, 0.09853089990294334, 0.10327538387020714, 0.1063731470206982, 0.10685970731564393], \"yaxis\": \"y\", \"type\": \"scatter\"}, {\"hoverlabel\": {\"namelength\": 0}, \"hovertemplate\": \"<b>%{hovertext}</b><br><br>Method=left<br>HomochiralChainLength=%{marker.size}<br>NumberMonomer=%{x}<br>Breakprob=%{y}\", \"hovertext\": [\"left\", \"left\", \"left\", \"left\", \"left\", \"left\", \"left\", \"left\", \"left\", \"left\"], \"legendgroup\": \"Method=left\", \"marker\": {\"color\": \"#00cc96\", \"size\": [11, 11, 11, 11, 11, 11, 11, 11, 11, 11], \"sizemode\": \"area\", \"sizeref\": 0.075, \"symbol\": \"circle\"}, \"mode\": \"markers\", \"name\": \"Method=left\", \"showlegend\": true, \"x\": [1, 2, 3, 4, 5, 6, 7, 8, 9, 10], \"xaxis\": \"x\", \"y\": [0.05978394278110578, 0.029950468399144968, 0.02255094091229739, 0.01988744395415203, 0.018940422813478124, 0.018940422813478124, 0.019887443954152026, 0.022550940912297385, 0.029950468399144968, 0.05978394278110578], \"yaxis\": \"y\", \"type\": \"scatter\"}, {\"hoverlabel\": {\"namelength\": 0}, \"hovertemplate\": \"<b>%{hovertext}</b><br><br>Method=right<br>HomochiralChainLength=%{marker.size}<br>NumberMonomer=%{x}<br>Breakprob=%{y}\", \"hovertext\": [\"right\", \"right\", \"right\", \"right\", \"right\", \"right\", \"right\", \"right\", \"right\", \"right\"], \"legendgroup\": \"Method=right\", \"marker\": {\"color\": \"#ab63fa\", \"size\": [11, 11, 11, 11, 11, 11, 11, 11, 11, 11], \"sizemode\": \"area\", \"sizeref\": 0.075, \"symbol\": \"circle\"}, \"mode\": \"markers\", \"name\": \"Method=right\", \"showlegend\": true, \"x\": [1, 2, 3, 4, 5, 6, 7, 8, 9, 10], \"xaxis\": \"x\", \"y\": [0.05978394278110578, 0.029950468399144968, 0.02255094091229739, 0.01988744395415203, 0.018940422813478124, 0.018940422813478124, 0.019887443954152026, 0.022550940912297385, 0.029950468399144968, 0.05978394278110578], \"yaxis\": \"y\", \"type\": \"scatter\"}], \"name\": \"11\"}, {\"data\": [{\"hoverlabel\": {\"namelength\": 0}, \"hovertemplate\": \"<b>%{hovertext}</b><br><br>Method=Normal<br>HomochiralChainLength=%{marker.size}<br>NumberMonomer=%{x}<br>Breakprob=%{y}\", \"hovertext\": [\"Normal\", \"Normal\", \"Normal\", \"Normal\", \"Normal\", \"Normal\", \"Normal\", \"Normal\", \"Normal\", \"Normal\", \"Normal\"], \"legendgroup\": \"Method=Normal\", \"marker\": {\"color\": \"#636efa\", \"size\": [12, 12, 12, 12, 12, 12, 12, 12, 12, 12, 12], \"sizemode\": \"area\", \"sizeref\": 0.075, \"symbol\": \"circle\"}, \"mode\": \"markers\", \"name\": \"Method=Normal\", \"showlegend\": true, \"x\": [1, 2, 3, 4, 5, 6, 7, 8, 9, 10, 11], \"xaxis\": \"x\", \"y\": [0.07226757460493724, 0.036169108697681196, 0.027179917299235967, 0.023875692058936693, 0.022559709032066166, 0.02220161841250956, 0.022559709032066166, 0.023875692058936693, 0.027179917299235967, 0.036169108697681196, 0.07226757460493724], \"yaxis\": \"y\", \"type\": \"scatter\"}, {\"hoverlabel\": {\"namelength\": 0}, \"hovertemplate\": \"<b>%{hovertext}</b><br><br>Method=poisson<br>HomochiralChainLength=%{marker.size}<br>NumberMonomer=%{x}<br>Breakprob=%{y}\", \"hovertext\": [\"poisson\", \"poisson\", \"poisson\", \"poisson\", \"poisson\", \"poisson\", \"poisson\", \"poisson\", \"poisson\", \"poisson\", \"poisson\"], \"legendgroup\": \"Method=poisson\", \"marker\": {\"color\": \"#EF553B\", \"size\": [12, 12, 12, 12, 12, 12, 12, 12, 12, 12, 12], \"sizemode\": \"area\", \"sizeref\": 0.075, \"symbol\": \"circle\"}, \"mode\": \"markers\", \"name\": \"Method=poisson\", \"showlegend\": true, \"x\": [1, 2, 3, 4, 5, 6, 7, 8, 9, 10, 11], \"xaxis\": \"x\", \"y\": [0.10194801785384944, 0.09893223989200847, 0.09241783084991571, 0.0838391173173234, 0.07661740581705138, 0.07383367542454006, 0.07661740581705138, 0.0838391173173234, 0.0924178308499157, 0.0989322398920085, 0.10194801785384944], \"yaxis\": \"y\", \"type\": \"scatter\"}, {\"hoverlabel\": {\"namelength\": 0}, \"hovertemplate\": \"<b>%{hovertext}</b><br><br>Method=left<br>HomochiralChainLength=%{marker.size}<br>NumberMonomer=%{x}<br>Breakprob=%{y}\", \"hovertext\": [\"left\", \"left\", \"left\", \"left\", \"left\", \"left\", \"left\", \"left\", \"left\", \"left\", \"left\"], \"legendgroup\": \"Method=left\", \"marker\": {\"color\": \"#00cc96\", \"size\": [12, 12, 12, 12, 12, 12, 12, 12, 12, 12, 12], \"sizemode\": \"area\", \"sizeref\": 0.075, \"symbol\": \"circle\"}, \"mode\": \"markers\", \"name\": \"Method=left\", \"showlegend\": true, \"x\": [1, 2, 3, 4, 5, 6, 7, 8, 9, 10, 11], \"xaxis\": \"x\", \"y\": [0.05869951065171329, 0.02937844521376071, 0.022076952959068714, 0.01939308808953487, 0.018324177722395155, 0.01803331775854761, 0.018324177722395155, 0.019393088089534872, 0.022076952959068714, 0.02937844521376071, 0.05869951065171329], \"yaxis\": \"y\", \"type\": \"scatter\"}, {\"hoverlabel\": {\"namelength\": 0}, \"hovertemplate\": \"<b>%{hovertext}</b><br><br>Method=right<br>HomochiralChainLength=%{marker.size}<br>NumberMonomer=%{x}<br>Breakprob=%{y}\", \"hovertext\": [\"right\", \"right\", \"right\", \"right\", \"right\", \"right\", \"right\", \"right\", \"right\", \"right\", \"right\"], \"legendgroup\": \"Method=right\", \"marker\": {\"color\": \"#ab63fa\", \"size\": [12, 12, 12, 12, 12, 12, 12, 12, 12, 12, 12], \"sizemode\": \"area\", \"sizeref\": 0.075, \"symbol\": \"circle\"}, \"mode\": \"markers\", \"name\": \"Method=right\", \"showlegend\": true, \"x\": [1, 2, 3, 4, 5, 6, 7, 8, 9, 10, 11], \"xaxis\": \"x\", \"y\": [0.05869951065171329, 0.02937844521376071, 0.022076952959068714, 0.01939308808953487, 0.018324177722395155, 0.01803331775854761, 0.018324177722395155, 0.019393088089534872, 0.022076952959068714, 0.02937844521376071, 0.05869951065171329], \"yaxis\": \"y\", \"type\": \"scatter\"}], \"name\": \"12\"}, {\"data\": [{\"hoverlabel\": {\"namelength\": 0}, \"hovertemplate\": \"<b>%{hovertext}</b><br><br>Method=Normal<br>HomochiralChainLength=%{marker.size}<br>NumberMonomer=%{x}<br>Breakprob=%{y}\", \"hovertext\": [\"Normal\", \"Normal\", \"Normal\", \"Normal\", \"Normal\", \"Normal\", \"Normal\", \"Normal\", \"Normal\", \"Normal\", \"Normal\", \"Normal\"], \"legendgroup\": \"Method=Normal\", \"marker\": {\"color\": \"#636efa\", \"size\": [13, 13, 13, 13, 13, 13, 13, 13, 13, 13, 13, 13], \"sizemode\": \"area\", \"sizeref\": 0.075, \"symbol\": \"circle\"}, \"mode\": \"markers\", \"name\": \"Method=Normal\", \"showlegend\": true, \"x\": [1, 2, 3, 4, 5, 6, 7, 8, 9, 10, 11, 12], \"xaxis\": \"x\", \"y\": [0.07223228770327467, 0.03613378730246862, 0.027126831523260897, 0.02378242763683147, 0.02238346130525315, 0.0218547181248141, 0.0218547181248141, 0.02238346130525315, 0.02378242763683147, 0.027126831523260897, 0.03613378730246862, 0.07223228770327467], \"yaxis\": \"y\", \"type\": \"scatter\"}, {\"hoverlabel\": {\"namelength\": 0}, \"hovertemplate\": \"<b>%{hovertext}</b><br><br>Method=poisson<br>HomochiralChainLength=%{marker.size}<br>NumberMonomer=%{x}<br>Breakprob=%{y}\", \"hovertext\": [\"poisson\", \"poisson\", \"poisson\", \"poisson\", \"poisson\", \"poisson\", \"poisson\", \"poisson\", \"poisson\", \"poisson\", \"poisson\", \"poisson\"], \"legendgroup\": \"Method=poisson\", \"marker\": {\"color\": \"#EF553B\", \"size\": [13, 13, 13, 13, 13, 13, 13, 13, 13, 13, 13, 13], \"sizemode\": \"area\", \"sizeref\": 0.075, \"symbol\": \"circle\"}, \"mode\": \"markers\", \"name\": \"Method=poisson\", \"showlegend\": true, \"x\": [1, 2, 3, 4, 5, 6, 7, 8, 9, 10, 11, 12], \"xaxis\": \"x\", \"y\": [0.09872935037435127, 0.09438492779172385, 0.0859531119274289, 0.0750249388816248, 0.06519310877270147, 0.05957752217748071, 0.0595775221774807, 0.06519310877270147, 0.07502493888162477, 0.0859531119274289, 0.09438492779172385, 0.09872935037435127], \"yaxis\": \"y\", \"type\": \"scatter\"}, {\"hoverlabel\": {\"namelength\": 0}, \"hovertemplate\": \"<b>%{hovertext}</b><br><br>Method=left<br>HomochiralChainLength=%{marker.size}<br>NumberMonomer=%{x}<br>Breakprob=%{y}\", \"hovertext\": [\"left\", \"left\", \"left\", \"left\", \"left\", \"left\", \"left\", \"left\", \"left\", \"left\", \"left\", \"left\"], \"legendgroup\": \"Method=left\", \"marker\": {\"color\": \"#00cc96\", \"size\": [13, 13, 13, 13, 13, 13, 13, 13, 13, 13, 13, 13], \"sizemode\": \"area\", \"sizeref\": 0.075, \"symbol\": \"circle\"}, \"mode\": \"markers\", \"name\": \"Method=left\", \"showlegend\": true, \"x\": [1, 2, 3, 4, 5, 6, 7, 8, 9, 10, 11, 12], \"xaxis\": \"x\", \"y\": [0.057662918716373454, 0.028845544096515102, 0.021655305831987878, 0.01898547360612636, 0.0178686810410601, 0.017446586213318523, 0.017446586213318523, 0.0178686810410601, 0.018985473606126357, 0.021655305831987874, 0.028845544096515102, 0.057662918716373454], \"yaxis\": \"y\", \"type\": \"scatter\"}, {\"hoverlabel\": {\"namelength\": 0}, \"hovertemplate\": \"<b>%{hovertext}</b><br><br>Method=right<br>HomochiralChainLength=%{marker.size}<br>NumberMonomer=%{x}<br>Breakprob=%{y}\", \"hovertext\": [\"right\", \"right\", \"right\", \"right\", \"right\", \"right\", \"right\", \"right\", \"right\", \"right\", \"right\", \"right\"], \"legendgroup\": \"Method=right\", \"marker\": {\"color\": \"#ab63fa\", \"size\": [13, 13, 13, 13, 13, 13, 13, 13, 13, 13, 13, 13], \"sizemode\": \"area\", \"sizeref\": 0.075, \"symbol\": \"circle\"}, \"mode\": \"markers\", \"name\": \"Method=right\", \"showlegend\": true, \"x\": [1, 2, 3, 4, 5, 6, 7, 8, 9, 10, 11, 12], \"xaxis\": \"x\", \"y\": [0.057662918716373454, 0.028845544096515102, 0.021655305831987878, 0.01898547360612636, 0.0178686810410601, 0.017446586213318523, 0.017446586213318523, 0.0178686810410601, 0.018985473606126357, 0.021655305831987874, 0.028845544096515102, 0.057662918716373454], \"yaxis\": \"y\", \"type\": \"scatter\"}], \"name\": \"13\"}, {\"data\": [{\"hoverlabel\": {\"namelength\": 0}, \"hovertemplate\": \"<b>%{hovertext}</b><br><br>Method=Normal<br>HomochiralChainLength=%{marker.size}<br>NumberMonomer=%{x}<br>Breakprob=%{y}\", \"hovertext\": [\"Normal\", \"Normal\", \"Normal\", \"Normal\", \"Normal\", \"Normal\", \"Normal\", \"Normal\", \"Normal\", \"Normal\", \"Normal\", \"Normal\", \"Normal\"], \"legendgroup\": \"Method=Normal\", \"marker\": {\"color\": \"#636efa\", \"size\": [14, 14, 14, 14, 14, 14, 14, 14, 14, 14, 14, 14, 14], \"sizemode\": \"area\", \"sizeref\": 0.075, \"symbol\": \"circle\"}, \"mode\": \"markers\", \"name\": \"Method=Normal\", \"showlegend\": true, \"x\": [1, 2, 3, 4, 5, 6, 7, 8, 9, 10, 11, 12, 13], \"xaxis\": \"x\", \"y\": [0.0722146528674096, 0.03611614385163733, 0.027100340476851465, 0.023735977582853285, 0.022296025909529504, 0.02168397813946399, 0.02151323815411388, 0.02168397813946399, 0.022296025909529504, 0.023735977582853285, 0.02710034047685146, 0.03611614385163733, 0.0722146528674096], \"yaxis\": \"y\", \"type\": \"scatter\"}, {\"hoverlabel\": {\"namelength\": 0}, \"hovertemplate\": \"<b>%{hovertext}</b><br><br>Method=poisson<br>HomochiralChainLength=%{marker.size}<br>NumberMonomer=%{x}<br>Breakprob=%{y}\", \"hovertext\": [\"poisson\", \"poisson\", \"poisson\", \"poisson\", \"poisson\", \"poisson\", \"poisson\", \"poisson\", \"poisson\", \"poisson\", \"poisson\", \"poisson\", \"poisson\"], \"legendgroup\": \"Method=poisson\", \"marker\": {\"color\": \"#EF553B\", \"size\": [14, 14, 14, 14, 14, 14, 14, 14, 14, 14, 14, 14, 14], \"sizemode\": \"area\", \"sizeref\": 0.075, \"symbol\": \"circle\"}, \"mode\": \"markers\", \"name\": \"Method=poisson\", \"showlegend\": true, \"x\": [1, 2, 3, 4, 5, 6, 7, 8, 9, 10, 11, 12, 13], \"xaxis\": \"x\", \"y\": [0.09637742183807177, 0.09140503956992914, 0.08200237123509886, 0.06977687000156087, 0.05833922347563187, 0.050694014529791505, 0.048074014037617144, 0.05069401452979151, 0.05833922347563188, 0.06977687000156088, 0.08200237123509886, 0.09140503956992913, 0.09637742183807177], \"yaxis\": \"y\", \"type\": \"scatter\"}, {\"hoverlabel\": {\"namelength\": 0}, \"hovertemplate\": \"<b>%{hovertext}</b><br><br>Method=left<br>HomochiralChainLength=%{marker.size}<br>NumberMonomer=%{x}<br>Breakprob=%{y}\", \"hovertext\": [\"left\", \"left\", \"left\", \"left\", \"left\", \"left\", \"left\", \"left\", \"left\", \"left\", \"left\", \"left\", \"left\"], \"legendgroup\": \"Method=left\", \"marker\": {\"color\": \"#00cc96\", \"size\": [14, 14, 14, 14, 14, 14, 14, 14, 14, 14, 14, 14, 14], \"sizemode\": \"area\", \"sizeref\": 0.075, \"symbol\": \"circle\"}, \"mode\": \"markers\", \"name\": \"Method=left\", \"showlegend\": true, \"x\": [1, 2, 3, 4, 5, 6, 7, 8, 9, 10, 11, 12, 13], \"xaxis\": \"x\", \"y\": [0.05665846827490357, 0.028336152143346154, 0.021262496185725302, 0.01862287055954044, 0.017493107374910787, 0.017012904427364216, 0.016878944549983396, 0.017012904427364216, 0.017493107374910787, 0.01862287055954044, 0.0212624961857253, 0.028336152143346154, 0.05665846827490357], \"yaxis\": \"y\", \"type\": \"scatter\"}, {\"hoverlabel\": {\"namelength\": 0}, \"hovertemplate\": \"<b>%{hovertext}</b><br><br>Method=right<br>HomochiralChainLength=%{marker.size}<br>NumberMonomer=%{x}<br>Breakprob=%{y}\", \"hovertext\": [\"right\", \"right\", \"right\", \"right\", \"right\", \"right\", \"right\", \"right\", \"right\", \"right\", \"right\", \"right\", \"right\"], \"legendgroup\": \"Method=right\", \"marker\": {\"color\": \"#ab63fa\", \"size\": [14, 14, 14, 14, 14, 14, 14, 14, 14, 14, 14, 14, 14], \"sizemode\": \"area\", \"sizeref\": 0.075, \"symbol\": \"circle\"}, \"mode\": \"markers\", \"name\": \"Method=right\", \"showlegend\": true, \"x\": [1, 2, 3, 4, 5, 6, 7, 8, 9, 10, 11, 12, 13], \"xaxis\": \"x\", \"y\": [0.05665846827490357, 0.028336152143346154, 0.021262496185725302, 0.01862287055954044, 0.017493107374910787, 0.017012904427364216, 0.016878944549983396, 0.017012904427364216, 0.017493107374910787, 0.01862287055954044, 0.0212624961857253, 0.028336152143346154, 0.05665846827490357], \"yaxis\": \"y\", \"type\": \"scatter\"}], \"name\": \"14\"}, {\"data\": [{\"hoverlabel\": {\"namelength\": 0}, \"hovertemplate\": \"<b>%{hovertext}</b><br><br>Method=Normal<br>HomochiralChainLength=%{marker.size}<br>NumberMonomer=%{x}<br>Breakprob=%{y}\", \"hovertext\": [\"Normal\", \"Normal\", \"Normal\", \"Normal\", \"Normal\", \"Normal\", \"Normal\", \"Normal\", \"Normal\", \"Normal\", \"Normal\", \"Normal\", \"Normal\", \"Normal\"], \"legendgroup\": \"Method=Normal\", \"marker\": {\"color\": \"#636efa\", \"size\": [15, 15, 15, 15, 15, 15, 15, 15, 15, 15, 15, 15, 15, 15], \"sizemode\": \"area\", \"sizeref\": 0.075, \"symbol\": \"circle\"}, \"mode\": \"markers\", \"name\": \"Method=Normal\", \"showlegend\": true, \"x\": [1, 2, 3, 4, 5, 6, 7, 8, 9, 10, 11, 12, 13, 14], \"xaxis\": \"x\", \"y\": [0.072205837602167, 0.0361073264337048, 0.027087107888728, 0.02371279791724503, 0.022252478983924955, 0.021599275099856707, 0.021345165981034864, 0.021345165981034864, 0.021599275099856707, 0.022252478983924955, 0.02371279791724503, 0.027087107888728, 0.0361073264337048, 0.072205837602167], \"yaxis\": \"y\", \"type\": \"scatter\"}, {\"hoverlabel\": {\"namelength\": 0}, \"hovertemplate\": \"<b>%{hovertext}</b><br><br>Method=poisson<br>HomochiralChainLength=%{marker.size}<br>NumberMonomer=%{x}<br>Breakprob=%{y}\", \"hovertext\": [\"poisson\", \"poisson\", \"poisson\", \"poisson\", \"poisson\", \"poisson\", \"poisson\", \"poisson\", \"poisson\", \"poisson\", \"poisson\", \"poisson\", \"poisson\", \"poisson\"], \"legendgroup\": \"Method=poisson\", \"marker\": {\"color\": \"#EF553B\", \"size\": [15, 15, 15, 15, 15, 15, 15, 15, 15, 15, 15, 15, 15, 15], \"sizemode\": \"area\", \"sizeref\": 0.075, \"symbol\": \"circle\"}, \"mode\": \"markers\", \"name\": \"Method=poisson\", \"showlegend\": true, \"x\": [1, 2, 3, 4, 5, 6, 7, 8, 9, 10, 11, 12, 13, 14], \"xaxis\": \"x\", \"y\": [0.09444734633604734, 0.08922759061367504, 0.07941342079650841, 0.06656965256036639, 0.05425833693612218, 0.04536444876162765, 0.04090577582042397, 0.04090577582042397, 0.04536444876162763, 0.05425833693612216, 0.06656965256036639, 0.07941342079650844, 0.08922759061367505, 0.09444734633604734], \"yaxis\": \"y\", \"type\": \"scatter\"}, {\"hoverlabel\": {\"namelength\": 0}, \"hovertemplate\": \"<b>%{hovertext}</b><br><br>Method=left<br>HomochiralChainLength=%{marker.size}<br>NumberMonomer=%{x}<br>Breakprob=%{y}\", \"hovertext\": [\"left\", \"left\", \"left\", \"left\", \"left\", \"left\", \"left\", \"left\", \"left\", \"left\", \"left\", \"left\", \"left\", \"left\"], \"legendgroup\": \"Method=left\", \"marker\": {\"color\": \"#00cc96\", \"size\": [15, 15, 15, 15, 15, 15, 15, 15, 15, 15, 15, 15, 15, 15], \"sizemode\": \"area\", \"sizeref\": 0.075, \"symbol\": \"circle\"}, \"mode\": \"markers\", \"name\": \"Method=left\", \"showlegend\": true, \"x\": [1, 2, 3, 4, 5, 6, 7, 8, 9, 10, 11, 12, 13, 14], \"xaxis\": \"x\", \"y\": [0.05567831220385486, 0.027842554851298926, 0.020887015507494576, 0.01828506682434308, 0.01715900699058588, 0.0166553179399816, 0.016459373023040638, 0.016459373023040638, 0.016655317939981602, 0.017159006990585878, 0.01828506682434308, 0.020887015507494573, 0.027842554851298926, 0.05567831220385486], \"yaxis\": \"y\", \"type\": \"scatter\"}, {\"hoverlabel\": {\"namelength\": 0}, \"hovertemplate\": \"<b>%{hovertext}</b><br><br>Method=right<br>HomochiralChainLength=%{marker.size}<br>NumberMonomer=%{x}<br>Breakprob=%{y}\", \"hovertext\": [\"right\", \"right\", \"right\", \"right\", \"right\", \"right\", \"right\", \"right\", \"right\", \"right\", \"right\", \"right\", \"right\", \"right\"], \"legendgroup\": \"Method=right\", \"marker\": {\"color\": \"#ab63fa\", \"size\": [15, 15, 15, 15, 15, 15, 15, 15, 15, 15, 15, 15, 15, 15], \"sizemode\": \"area\", \"sizeref\": 0.075, \"symbol\": \"circle\"}, \"mode\": \"markers\", \"name\": \"Method=right\", \"showlegend\": true, \"x\": [1, 2, 3, 4, 5, 6, 7, 8, 9, 10, 11, 12, 13, 14], \"xaxis\": \"x\", \"y\": [0.05567831220385486, 0.027842554851298926, 0.020887015507494576, 0.01828506682434308, 0.01715900699058588, 0.0166553179399816, 0.016459373023040638, 0.016459373023040638, 0.016655317939981602, 0.017159006990585878, 0.01828506682434308, 0.020887015507494573, 0.027842554851298926, 0.05567831220385486], \"yaxis\": \"y\", \"type\": \"scatter\"}], \"name\": \"15\"}, {\"data\": [{\"hoverlabel\": {\"namelength\": 0}, \"hovertemplate\": \"<b>%{hovertext}</b><br><br>Method=Normal<br>HomochiralChainLength=%{marker.size}<br>NumberMonomer=%{x}<br>Breakprob=%{y}\", \"hovertext\": [\"Normal\", \"Normal\", \"Normal\", \"Normal\", \"Normal\", \"Normal\", \"Normal\", \"Normal\", \"Normal\", \"Normal\", \"Normal\", \"Normal\", \"Normal\", \"Normal\", \"Normal\"], \"legendgroup\": \"Method=Normal\", \"marker\": {\"color\": \"#636efa\", \"size\": [16, 16, 16, 16, 16, 16, 16, 16, 16, 16, 16, 16, 16, 16, 16], \"sizemode\": \"area\", \"sizeref\": 0.075, \"symbol\": \"circle\"}, \"mode\": \"markers\", \"name\": \"Method=Normal\", \"showlegend\": true, \"x\": [1, 2, 3, 4, 5, 6, 7, 8, 9, 10, 11, 12, 13, 14, 15], \"xaxis\": \"x\", \"y\": [0.07220143050758679, 0.0361029188010835, 0.027080494825278602, 0.023701219402637, 0.022230748047417218, 0.0215570890156773, 0.021261786426421445, 0.02117840687180803, 0.021261786426421445, 0.0215570890156773, 0.022230748047417214, 0.023701219402637, 0.027080494825278602, 0.0361029188010835, 0.07220143050758679], \"yaxis\": \"y\", \"type\": \"scatter\"}, {\"hoverlabel\": {\"namelength\": 0}, \"hovertemplate\": \"<b>%{hovertext}</b><br><br>Method=poisson<br>HomochiralChainLength=%{marker.size}<br>NumberMonomer=%{x}<br>Breakprob=%{y}\", \"hovertext\": [\"poisson\", \"poisson\", \"poisson\", \"poisson\", \"poisson\", \"poisson\", \"poisson\", \"poisson\", \"poisson\", \"poisson\", \"poisson\", \"poisson\", \"poisson\", \"poisson\", \"poisson\"], \"legendgroup\": \"Method=poisson\", \"marker\": {\"color\": \"#EF553B\", \"size\": [16, 16, 16, 16, 16, 16, 16, 16, 16, 16, 16, 16, 16, 16, 16], \"sizemode\": \"area\", \"sizeref\": 0.075, \"symbol\": \"circle\"}, \"mode\": \"markers\", \"name\": \"Method=poisson\", \"showlegend\": true, \"x\": [1, 2, 3, 4, 5, 6, 7, 8, 9, 10, 11, 12, 13, 14, 15], \"xaxis\": \"x\", \"y\": [0.0927172476548546, 0.08744069920836778, 0.07752163593388454, 0.0644679385660373, 0.051764411878322265, 0.04219116058097624, 0.036605267672571565, 0.03480638197096388, 0.03660526767257157, 0.04219116058097625, 0.05176441187832227, 0.06446793856603732, 0.0775216359338846, 0.08744069920836785, 0.0927172476548546], \"yaxis\": \"y\", \"type\": \"scatter\"}, {\"hoverlabel\": {\"namelength\": 0}, \"hovertemplate\": \"<b>%{hovertext}</b><br><br>Method=left<br>HomochiralChainLength=%{marker.size}<br>NumberMonomer=%{x}<br>Breakprob=%{y}\", \"hovertext\": [\"left\", \"left\", \"left\", \"left\", \"left\", \"left\", \"left\", \"left\", \"left\", \"left\", \"left\", \"left\", \"left\", \"left\", \"left\"], \"legendgroup\": \"Method=left\", \"marker\": {\"color\": \"#00cc96\", \"size\": [16, 16, 16, 16, 16, 16, 16, 16, 16, 16, 16, 16, 16, 16, 16], \"sizemode\": \"area\", \"sizeref\": 0.075, \"symbol\": \"circle\"}, \"mode\": \"markers\", \"name\": \"Method=left\", \"showlegend\": true, \"x\": [1, 2, 3, 4, 5, 6, 7, 8, 9, 10, 11, 12, 13, 14, 15], \"xaxis\": \"x\", \"y\": [0.054718452173049284, 0.027360896063090993, 0.020523177317986946, 0.017962165447537287, 0.016847756550694478, 0.0163372184734007, 0.01611342096006645, 0.01605023107394854, 0.01611342096006645, 0.0163372184734007, 0.016847756550694475, 0.01796216544753729, 0.020523177317986946, 0.027360896063090993, 0.054718452173049284], \"yaxis\": \"y\", \"type\": \"scatter\"}, {\"hoverlabel\": {\"namelength\": 0}, \"hovertemplate\": \"<b>%{hovertext}</b><br><br>Method=right<br>HomochiralChainLength=%{marker.size}<br>NumberMonomer=%{x}<br>Breakprob=%{y}\", \"hovertext\": [\"right\", \"right\", \"right\", \"right\", \"right\", \"right\", \"right\", \"right\", \"right\", \"right\", \"right\", \"right\", \"right\", \"right\", \"right\"], \"legendgroup\": \"Method=right\", \"marker\": {\"color\": \"#ab63fa\", \"size\": [16, 16, 16, 16, 16, 16, 16, 16, 16, 16, 16, 16, 16, 16, 16], \"sizemode\": \"area\", \"sizeref\": 0.075, \"symbol\": \"circle\"}, \"mode\": \"markers\", \"name\": \"Method=right\", \"showlegend\": true, \"x\": [1, 2, 3, 4, 5, 6, 7, 8, 9, 10, 11, 12, 13, 14, 15], \"xaxis\": \"x\", \"y\": [0.054718452173049284, 0.027360896063090993, 0.020523177317986946, 0.017962165447537287, 0.016847756550694478, 0.0163372184734007, 0.01611342096006645, 0.01605023107394854, 0.01611342096006645, 0.0163372184734007, 0.016847756550694475, 0.01796216544753729, 0.020523177317986946, 0.027360896063090993, 0.054718452173049284], \"yaxis\": \"y\", \"type\": \"scatter\"}], \"name\": \"16\"}, {\"data\": [{\"hoverlabel\": {\"namelength\": 0}, \"hovertemplate\": \"<b>%{hovertext}</b><br><br>Method=Normal<br>HomochiralChainLength=%{marker.size}<br>NumberMonomer=%{x}<br>Breakprob=%{y}\", \"hovertext\": [\"Normal\", \"Normal\", \"Normal\", \"Normal\", \"Normal\", \"Normal\", \"Normal\", \"Normal\", \"Normal\", \"Normal\", \"Normal\", \"Normal\", \"Normal\", \"Normal\", \"Normal\", \"Normal\"], \"legendgroup\": \"Method=Normal\", \"marker\": {\"color\": \"#636efa\", \"size\": [17, 17, 17, 17, 17, 17, 17, 17, 17, 17, 17, 17, 17, 17, 17, 17], \"sizemode\": \"area\", \"sizeref\": 0.075, \"symbol\": \"circle\"}, \"mode\": \"markers\", \"name\": \"Method=Normal\", \"showlegend\": true, \"x\": [1, 2, 3, 4, 5, 6, 7, 8, 9, 10, 11, 12, 13, 14, 15, 16], \"xaxis\": \"x\", \"y\": [0.07219922709479054, 0.036100715253793395, 0.027077189100812627, 0.023695432972118777, 0.022219893189972188, 0.02153603717093543, 0.021220259499807343, 0.021095678719965028, 0.021095678719965028, 0.02122025949980734, 0.02153603717093543, 0.022219893189972185, 0.023695432972118777, 0.027077189100812627, 0.036100715253793395, 0.07219922709479054], \"yaxis\": \"y\", \"type\": \"scatter\"}, {\"hoverlabel\": {\"namelength\": 0}, \"hovertemplate\": \"<b>%{hovertext}</b><br><br>Method=poisson<br>HomochiralChainLength=%{marker.size}<br>NumberMonomer=%{x}<br>Breakprob=%{y}\", \"hovertext\": [\"poisson\", \"poisson\", \"poisson\", \"poisson\", \"poisson\", \"poisson\", \"poisson\", \"poisson\", \"poisson\", \"poisson\", \"poisson\", \"poisson\", \"poisson\", \"poisson\", \"poisson\", \"poisson\"], \"legendgroup\": \"Method=poisson\", \"marker\": {\"color\": \"#EF553B\", \"size\": [17, 17, 17, 17, 17, 17, 17, 17, 17, 17, 17, 17, 17, 17, 17, 17], \"sizemode\": \"area\", \"sizeref\": 0.075, \"symbol\": \"circle\"}, \"mode\": \"markers\", \"name\": \"Method=poisson\", \"showlegend\": true, \"x\": [1, 2, 3, 4, 5, 6, 7, 8, 9, 10, 11, 12, 13, 14, 15, 16], \"xaxis\": \"x\", \"y\": [0.09108482845149053, 0.08583894919365911, 0.07596917055828828, 0.06293218467103381, 0.05013012381058412, 0.040251890073764965, 0.03404469289593707, 0.031147115614043805, 0.0311471156140438, 0.034044692895937076, 0.04025189007376496, 0.05013012381058411, 0.06293218467103381, 0.0759691705582883, 0.08583894919365909, 0.09108482845149053], \"yaxis\": \"y\", \"type\": \"scatter\"}, {\"hoverlabel\": {\"namelength\": 0}, \"hovertemplate\": \"<b>%{hovertext}</b><br><br>Method=left<br>HomochiralChainLength=%{marker.size}<br>NumberMonomer=%{x}<br>Breakprob=%{y}\", \"hovertext\": [\"left\", \"left\", \"left\", \"left\", \"left\", \"left\", \"left\", \"left\", \"left\", \"left\", \"left\", \"left\", \"left\", \"left\", \"left\", \"left\"], \"legendgroup\": \"Method=left\", \"marker\": {\"color\": \"#00cc96\", \"size\": [17, 17, 17, 17, 17, 17, 17, 17, 17, 17, 17, 17, 17, 17, 17, 17], \"sizemode\": \"area\", \"sizeref\": 0.075, \"symbol\": \"circle\"}, \"mode\": \"markers\", \"name\": \"Method=left\", \"showlegend\": true, \"x\": [1, 2, 3, 4, 5, 6, 7, 8, 9, 10, 11, 12, 13, 14, 15, 16], \"xaxis\": \"x\", \"y\": [0.053776780728993744, 0.026889210958093004, 0.020168139184096125, 0.017649276238749973, 0.016550237059047596, 0.016040874609257655, 0.015805671169239213, 0.015712878579204545, 0.01571287857920454, 0.015805671169239213, 0.01604087460925765, 0.01655023705904759, 0.017649276238749973, 0.020168139184096122, 0.026889210958093004, 0.053776780728993744], \"yaxis\": \"y\", \"type\": \"scatter\"}, {\"hoverlabel\": {\"namelength\": 0}, \"hovertemplate\": \"<b>%{hovertext}</b><br><br>Method=right<br>HomochiralChainLength=%{marker.size}<br>NumberMonomer=%{x}<br>Breakprob=%{y}\", \"hovertext\": [\"right\", \"right\", \"right\", \"right\", \"right\", \"right\", \"right\", \"right\", \"right\", \"right\", \"right\", \"right\", \"right\", \"right\", \"right\", \"right\"], \"legendgroup\": \"Method=right\", \"marker\": {\"color\": \"#ab63fa\", \"size\": [17, 17, 17, 17, 17, 17, 17, 17, 17, 17, 17, 17, 17, 17, 17, 17], \"sizemode\": \"area\", \"sizeref\": 0.075, \"symbol\": \"circle\"}, \"mode\": \"markers\", \"name\": \"Method=right\", \"showlegend\": true, \"x\": [1, 2, 3, 4, 5, 6, 7, 8, 9, 10, 11, 12, 13, 14, 15, 16], \"xaxis\": \"x\", \"y\": [0.053776780728993744, 0.026889210958093004, 0.020168139184096125, 0.017649276238749973, 0.016550237059047596, 0.016040874609257655, 0.015805671169239213, 0.015712878579204545, 0.01571287857920454, 0.015805671169239213, 0.01604087460925765, 0.01655023705904759, 0.017649276238749973, 0.020168139184096122, 0.026889210958093004, 0.053776780728993744], \"yaxis\": \"y\", \"type\": \"scatter\"}], \"name\": \"17\"}, {\"data\": [{\"hoverlabel\": {\"namelength\": 0}, \"hovertemplate\": \"<b>%{hovertext}</b><br><br>Method=Normal<br>HomochiralChainLength=%{marker.size}<br>NumberMonomer=%{x}<br>Breakprob=%{y}\", \"hovertext\": [\"Normal\", \"Normal\", \"Normal\", \"Normal\", \"Normal\", \"Normal\", \"Normal\", \"Normal\", \"Normal\", \"Normal\", \"Normal\", \"Normal\", \"Normal\", \"Normal\", \"Normal\", \"Normal\", \"Normal\"], \"legendgroup\": \"Method=Normal\", \"marker\": {\"color\": \"#636efa\", \"size\": [18, 18, 18, 18, 18, 18, 18, 18, 18, 18, 18, 18, 18, 18, 18, 18, 18], \"sizemode\": \"area\", \"sizeref\": 0.075, \"symbol\": \"circle\"}, \"mode\": \"markers\", \"name\": \"Method=Normal\", \"showlegend\": true, \"x\": [1, 2, 3, 4, 5, 6, 7, 8, 9, 10, 11, 12, 13, 14, 15, 16, 17], \"xaxis\": \"x\", \"y\": [0.07219812542201383, 0.03609961354739527, 0.027075536440345046, 0.023692540463211047, 0.022214468411361352, 0.021525521527785557, 0.021199536590139564, 0.021054476222465097, 0.021013273724965163, 0.021054476222465097, 0.02119953659013956, 0.02152552152778556, 0.022214468411361352, 0.023692540463211047, 0.02707553644034505, 0.03609961354739527, 0.07219812542201383], \"yaxis\": \"y\", \"type\": \"scatter\"}, {\"hoverlabel\": {\"namelength\": 0}, \"hovertemplate\": \"<b>%{hovertext}</b><br><br>Method=poisson<br>HomochiralChainLength=%{marker.size}<br>NumberMonomer=%{x}<br>Breakprob=%{y}\", \"hovertext\": [\"poisson\", \"poisson\", \"poisson\", \"poisson\", \"poisson\", \"poisson\", \"poisson\", \"poisson\", \"poisson\", \"poisson\", \"poisson\", \"poisson\", \"poisson\", \"poisson\", \"poisson\", \"poisson\", \"poisson\"], \"legendgroup\": \"Method=poisson\", \"marker\": {\"color\": \"#EF553B\", \"size\": [18, 18, 18, 18, 18, 18, 18, 18, 18, 18, 18, 18, 18, 18, 18, 18, 18], \"sizemode\": \"area\", \"sizeref\": 0.075, \"symbol\": \"circle\"}, \"mode\": \"markers\", \"name\": \"Method=poisson\", \"showlegend\": true, \"x\": [1, 2, 3, 4, 5, 6, 7, 8, 9, 10, 11, 12, 13, 14, 15, 16, 17], \"xaxis\": \"x\", \"y\": [0.08950631786280039, 0.08432763223155566, 0.07457755748610571, 0.06167189086356387, 0.04893592504121827, 0.0389810713536355, 0.03247986585749987, 0.028968343986975505, 0.027872555437790734, 0.028968343986975502, 0.03247986585749989, 0.0389810713536355, 0.04893592504121827, 0.06167189086356387, 0.07457755748610573, 0.08432763223155569, 0.08950631786280039], \"yaxis\": \"y\", \"type\": \"scatter\"}, {\"hoverlabel\": {\"namelength\": 0}, \"hovertemplate\": \"<b>%{hovertext}</b><br><br>Method=left<br>HomochiralChainLength=%{marker.size}<br>NumberMonomer=%{x}<br>Breakprob=%{y}\", \"hovertext\": [\"left\", \"left\", \"left\", \"left\", \"left\", \"left\", \"left\", \"left\", \"left\", \"left\", \"left\", \"left\", \"left\", \"left\", \"left\", \"left\", \"left\"], \"legendgroup\": \"Method=left\", \"marker\": {\"color\": \"#00cc96\", \"size\": [18, 18, 18, 18, 18, 18, 18, 18, 18, 18, 18, 18, 18, 18, 18, 18, 18], \"sizemode\": \"area\", \"sizeref\": 0.075, \"symbol\": \"circle\"}, \"mode\": \"markers\", \"name\": \"Method=left\", \"showlegend\": true, \"x\": [1, 2, 3, 4, 5, 6, 7, 8, 9, 10, 11, 12, 13, 14, 15, 16, 17], \"xaxis\": \"x\", \"y\": [0.052852121352229345, 0.026426463911953173, 0.019820452806181867, 0.01734395479640012, 0.016261942722055053, 0.015757604083300233, 0.01551896914114962, 0.015412778736469217, 0.015382616742855777, 0.015412778736469217, 0.015518969141149615, 0.015757604083300233, 0.016261942722055053, 0.01734395479640012, 0.019820452806181863, 0.026426463911953173, 0.052852121352229345], \"yaxis\": \"y\", \"type\": \"scatter\"}, {\"hoverlabel\": {\"namelength\": 0}, \"hovertemplate\": \"<b>%{hovertext}</b><br><br>Method=right<br>HomochiralChainLength=%{marker.size}<br>NumberMonomer=%{x}<br>Breakprob=%{y}\", \"hovertext\": [\"right\", \"right\", \"right\", \"right\", \"right\", \"right\", \"right\", \"right\", \"right\", \"right\", \"right\", \"right\", \"right\", \"right\", \"right\", \"right\", \"right\"], \"legendgroup\": \"Method=right\", \"marker\": {\"color\": \"#ab63fa\", \"size\": [18, 18, 18, 18, 18, 18, 18, 18, 18, 18, 18, 18, 18, 18, 18, 18, 18], \"sizemode\": \"area\", \"sizeref\": 0.075, \"symbol\": \"circle\"}, \"mode\": \"markers\", \"name\": \"Method=right\", \"showlegend\": true, \"x\": [1, 2, 3, 4, 5, 6, 7, 8, 9, 10, 11, 12, 13, 14, 15, 16, 17], \"xaxis\": \"x\", \"y\": [0.052852121352229345, 0.026426463911953173, 0.019820452806181867, 0.01734395479640012, 0.016261942722055053, 0.015757604083300233, 0.01551896914114962, 0.015412778736469217, 0.015382616742855777, 0.015412778736469217, 0.015518969141149615, 0.015757604083300233, 0.016261942722055053, 0.01734395479640012, 0.019820452806181863, 0.026426463911953173, 0.052852121352229345], \"yaxis\": \"y\", \"type\": \"scatter\"}], \"name\": \"18\"}, {\"data\": [{\"hoverlabel\": {\"namelength\": 0}, \"hovertemplate\": \"<b>%{hovertext}</b><br><br>Method=Normal<br>HomochiralChainLength=%{marker.size}<br>NumberMonomer=%{x}<br>Breakprob=%{y}\", \"hovertext\": [\"Normal\", \"Normal\", \"Normal\", \"Normal\", \"Normal\", \"Normal\", \"Normal\", \"Normal\", \"Normal\", \"Normal\", \"Normal\", \"Normal\", \"Normal\", \"Normal\", \"Normal\", \"Normal\", \"Normal\", \"Normal\"], \"legendgroup\": \"Method=Normal\", \"marker\": {\"color\": \"#636efa\", \"size\": [19, 19, 19, 19, 19, 19, 19, 19, 19, 19, 19, 19, 19, 19, 19, 19, 19, 19], \"sizemode\": \"area\", \"sizeref\": 0.075, \"symbol\": \"circle\"}, \"mode\": \"markers\", \"name\": \"Method=Normal\", \"showlegend\": true, \"x\": [1, 2, 3, 4, 5, 6, 7, 8, 9, 10, 11, 12, 13, 14, 15, 16, 17, 18], \"xaxis\": \"x\", \"y\": [0.07219757459403056, 0.036099062711006914, 0.027074710160546453, 0.023691094385301915, 0.022211756684260356, 0.02152026627350631, 0.021189185253913907, 0.021033915210529098, 0.020972232174721092, 0.020972232174721092, 0.021033915210529098, 0.021189185253913907, 0.021520266273506315, 0.022211756684260356, 0.023691094385301915, 0.027074710160546456, 0.036099062711006914, 0.07219757459403056], \"yaxis\": \"y\", \"type\": \"scatter\"}, {\"hoverlabel\": {\"namelength\": 0}, \"hovertemplate\": \"<b>%{hovertext}</b><br><br>Method=poisson<br>HomochiralChainLength=%{marker.size}<br>NumberMonomer=%{x}<br>Breakprob=%{y}\", \"hovertext\": [\"poisson\", \"poisson\", \"poisson\", \"poisson\", \"poisson\", \"poisson\", \"poisson\", \"poisson\", \"poisson\", \"poisson\", \"poisson\", \"poisson\", \"poisson\", \"poisson\", \"poisson\", \"poisson\", \"poisson\", \"poisson\"], \"legendgroup\": \"Method=poisson\", \"marker\": {\"color\": \"#EF553B\", \"size\": [19, 19, 19, 19, 19, 19, 19, 19, 19, 19, 19, 19, 19, 19, 19, 19, 19, 19], \"sizemode\": \"area\", \"sizeref\": 0.075, \"symbol\": \"circle\"}, \"mode\": \"markers\", \"name\": \"Method=poisson\", \"showlegend\": true, \"x\": [1, 2, 3, 4, 5, 6, 7, 8, 9, 10, 11, 12, 13, 14, 15, 16, 17, 18], \"xaxis\": \"x\", \"y\": [0.08796415627859265, 0.08286622463316985, 0.07326451336476271, 0.06054217720628362, 0.047955923415426205, 0.038052465080589674, 0.031454422791761555, 0.02763684576879131, 0.025922842542566344, 0.025922842542566334, 0.027636845768791312, 0.031454422791761555, 0.038052465080589674, 0.047955923415426205, 0.06054217720628364, 0.07326451336476272, 0.08286622463316987, 0.08796415627859265], \"yaxis\": \"y\", \"type\": \"scatter\"}, {\"hoverlabel\": {\"namelength\": 0}, \"hovertemplate\": \"<b>%{hovertext}</b><br><br>Method=left<br>HomochiralChainLength=%{marker.size}<br>NumberMonomer=%{x}<br>Breakprob=%{y}\", \"hovertext\": [\"left\", \"left\", \"left\", \"left\", \"left\", \"left\", \"left\", \"left\", \"left\", \"left\", \"left\", \"left\", \"left\", \"left\", \"left\", \"left\", \"left\", \"left\"], \"legendgroup\": \"Method=left\", \"marker\": {\"color\": \"#00cc96\", \"size\": [19, 19, 19, 19, 19, 19, 19, 19, 19, 19, 19, 19, 19, 19, 19, 19, 19, 19], \"sizemode\": \"area\", \"sizeref\": 0.075, \"symbol\": \"circle\"}, \"mode\": \"markers\", \"name\": \"Method=left\", \"showlegend\": true, \"x\": [1, 2, 3, 4, 5, 6, 7, 8, 9, 10, 11, 12, 13, 14, 15, 16, 17, 18], \"xaxis\": \"x\", \"y\": [0.0519437572393433, 0.02597207677089213, 0.019479354809535214, 0.01704495562910836, 0.015980621282006002, 0.015483116895861272, 0.015244915097463403, 0.015133203457765334, 0.01508882456199476, 0.01508882456199476, 0.015133203457765337, 0.015244915097463403, 0.015483116895861269, 0.01598062128200601, 0.01704495562910836, 0.01947935480953522, 0.02597207677089213, 0.0519437572393433], \"yaxis\": \"y\", \"type\": \"scatter\"}, {\"hoverlabel\": {\"namelength\": 0}, \"hovertemplate\": \"<b>%{hovertext}</b><br><br>Method=right<br>HomochiralChainLength=%{marker.size}<br>NumberMonomer=%{x}<br>Breakprob=%{y}\", \"hovertext\": [\"right\", \"right\", \"right\", \"right\", \"right\", \"right\", \"right\", \"right\", \"right\", \"right\", \"right\", \"right\", \"right\", \"right\", \"right\", \"right\", \"right\", \"right\"], \"legendgroup\": \"Method=right\", \"marker\": {\"color\": \"#ab63fa\", \"size\": [19, 19, 19, 19, 19, 19, 19, 19, 19, 19, 19, 19, 19, 19, 19, 19, 19, 19], \"sizemode\": \"area\", \"sizeref\": 0.075, \"symbol\": \"circle\"}, \"mode\": \"markers\", \"name\": \"Method=right\", \"showlegend\": true, \"x\": [1, 2, 3, 4, 5, 6, 7, 8, 9, 10, 11, 12, 13, 14, 15, 16, 17, 18], \"xaxis\": \"x\", \"y\": [0.0519437572393433, 0.02597207677089213, 0.019479354809535214, 0.01704495562910836, 0.015980621282006002, 0.015483116895861272, 0.015244915097463403, 0.015133203457765334, 0.01508882456199476, 0.01508882456199476, 0.015133203457765337, 0.015244915097463403, 0.015483116895861269, 0.01598062128200601, 0.01704495562910836, 0.01947935480953522, 0.02597207677089213, 0.0519437572393433], \"yaxis\": \"y\", \"type\": \"scatter\"}], \"name\": \"19\"}, {\"data\": [{\"hoverlabel\": {\"namelength\": 0}, \"hovertemplate\": \"<b>%{hovertext}</b><br><br>Method=Normal<br>HomochiralChainLength=%{marker.size}<br>NumberMonomer=%{x}<br>Breakprob=%{y}\", \"hovertext\": [\"Normal\", \"Normal\", \"Normal\", \"Normal\", \"Normal\", \"Normal\", \"Normal\", \"Normal\", \"Normal\", \"Normal\", \"Normal\", \"Normal\", \"Normal\", \"Normal\", \"Normal\", \"Normal\", \"Normal\", \"Normal\", \"Normal\"], \"legendgroup\": \"Method=Normal\", \"marker\": {\"color\": \"#636efa\", \"size\": [20, 20, 20, 20, 20, 20, 20, 20, 20, 20, 20, 20, 20, 20, 20, 20, 20, 20, 20], \"sizemode\": \"area\", \"sizeref\": 0.075, \"symbol\": \"circle\"}, \"mode\": \"markers\", \"name\": \"Method=Normal\", \"showlegend\": true, \"x\": [1, 2, 3, 4, 5, 6, 7, 8, 9, 10, 11, 12, 13, 14, 15, 16, 17, 18, 19], \"xaxis\": \"x\", \"y\": [0.07219729918214017, 0.03609878729701528, 0.027074297033255187, 0.023690371390478145, 0.022210400986220544, 0.02151763928787722, 0.021184012112982775, 0.021023644744117703, 0.02095175147923797, 0.02093127078375484, 0.020951751479237966, 0.021023644744117706, 0.021184012112982775, 0.021517639287877224, 0.022210400986220544, 0.023690371390478145, 0.027074297033255187, 0.03609878729701528, 0.07219729918214017], \"yaxis\": \"y\", \"type\": \"scatter\"}, {\"hoverlabel\": {\"namelength\": 0}, \"hovertemplate\": \"<b>%{hovertext}</b><br><br>Method=poisson<br>HomochiralChainLength=%{marker.size}<br>NumberMonomer=%{x}<br>Breakprob=%{y}\", \"hovertext\": [\"poisson\", \"poisson\", \"poisson\", \"poisson\", \"poisson\", \"poisson\", \"poisson\", \"poisson\", \"poisson\", \"poisson\", \"poisson\", \"poisson\", \"poisson\", \"poisson\", \"poisson\", \"poisson\", \"poisson\", \"poisson\", \"poisson\"], \"legendgroup\": \"Method=poisson\", \"marker\": {\"color\": \"#EF553B\", \"size\": [20, 20, 20, 20, 20, 20, 20, 20, 20, 20, 20, 20, 20, 20, 20, 20, 20, 20, 20], \"sizemode\": \"area\", \"sizeref\": 0.075, \"symbol\": \"circle\"}, \"mode\": \"markers\", \"name\": \"Method=poisson\", \"showlegend\": true, \"x\": [1, 2, 3, 4, 5, 6, 7, 8, 9, 10, 11, 12, 13, 14, 15, 16, 17, 18, 19], \"xaxis\": \"x\", \"y\": [0.08645158920578548, 0.081438469461144, 0.07199483089307537, 0.0594762459455444, 0.04707746062028107, 0.037290418023893324, 0.03070511618460127, 0.026764304854465376, 0.024731327464203024, 0.024109513997972752, 0.024731327464203028, 0.026764304854465373, 0.03070511618460127, 0.037290418023893324, 0.04707746062028108, 0.059476245945544404, 0.07199483089307536, 0.08143846946114401, 0.08645158920578548], \"yaxis\": \"y\", \"type\": \"scatter\"}, {\"hoverlabel\": {\"namelength\": 0}, \"hovertemplate\": \"<b>%{hovertext}</b><br><br>Method=left<br>HomochiralChainLength=%{marker.size}<br>NumberMonomer=%{x}<br>Breakprob=%{y}\", \"hovertext\": [\"left\", \"left\", \"left\", \"left\", \"left\", \"left\", \"left\", \"left\", \"left\", \"left\", \"left\", \"left\", \"left\", \"left\", \"left\", \"left\", \"left\", \"left\", \"left\"], \"legendgroup\": \"Method=left\", \"marker\": {\"color\": \"#00cc96\", \"size\": [20, 20, 20, 20, 20, 20, 20, 20, 20, 20, 20, 20, 20, 20, 20, 20, 20, 20, 20], \"sizemode\": \"area\", \"sizeref\": 0.075, \"symbol\": \"circle\"}, \"mode\": \"markers\", \"name\": \"Method=left\", \"showlegend\": true, \"x\": [1, 2, 3, 4, 5, 6, 7, 8, 9, 10, 11, 12, 13, 14, 15, 16, 17, 18, 19], \"xaxis\": \"x\", \"y\": [0.0510511998350453, 0.02552569729033031, 0.019144419028073567, 0.016751622259034878, 0.015705125150228934, 0.01521526865558406, 0.014979358617828087, 0.01486596176382255, 0.01481512554870445, 0.014800643510044911, 0.014815125548704448, 0.01486596176382255, 0.014979358617828084, 0.015215268655584062, 0.015705125150228937, 0.016751622259034878, 0.019144419028073564, 0.02552569729033031, 0.0510511998350453], \"yaxis\": \"y\", \"type\": \"scatter\"}, {\"hoverlabel\": {\"namelength\": 0}, \"hovertemplate\": \"<b>%{hovertext}</b><br><br>Method=right<br>HomochiralChainLength=%{marker.size}<br>NumberMonomer=%{x}<br>Breakprob=%{y}\", \"hovertext\": [\"right\", \"right\", \"right\", \"right\", \"right\", \"right\", \"right\", \"right\", \"right\", \"right\", \"right\", \"right\", \"right\", \"right\", \"right\", \"right\", \"right\", \"right\", \"right\"], \"legendgroup\": \"Method=right\", \"marker\": {\"color\": \"#ab63fa\", \"size\": [20, 20, 20, 20, 20, 20, 20, 20, 20, 20, 20, 20, 20, 20, 20, 20, 20, 20, 20], \"sizemode\": \"area\", \"sizeref\": 0.075, \"symbol\": \"circle\"}, \"mode\": \"markers\", \"name\": \"Method=right\", \"showlegend\": true, \"x\": [1, 2, 3, 4, 5, 6, 7, 8, 9, 10, 11, 12, 13, 14, 15, 16, 17, 18, 19], \"xaxis\": \"x\", \"y\": [0.0510511998350453, 0.02552569729033031, 0.019144419028073567, 0.016751622259034878, 0.015705125150228934, 0.01521526865558406, 0.014979358617828087, 0.01486596176382255, 0.01481512554870445, 0.014800643510044911, 0.014815125548704448, 0.01486596176382255, 0.014979358617828084, 0.015215268655584062, 0.015705125150228937, 0.016751622259034878, 0.019144419028073564, 0.02552569729033031, 0.0510511998350453], \"yaxis\": \"y\", \"type\": \"scatter\"}], \"name\": \"20\"}, {\"data\": [{\"hoverlabel\": {\"namelength\": 0}, \"hovertemplate\": \"<b>%{hovertext}</b><br><br>Method=Normal<br>HomochiralChainLength=%{marker.size}<br>NumberMonomer=%{x}<br>Breakprob=%{y}\", \"hovertext\": [\"Normal\", \"Normal\", \"Normal\", \"Normal\", \"Normal\", \"Normal\", \"Normal\", \"Normal\", \"Normal\", \"Normal\", \"Normal\", \"Normal\", \"Normal\", \"Normal\", \"Normal\", \"Normal\", \"Normal\", \"Normal\", \"Normal\", \"Normal\"], \"legendgroup\": \"Method=Normal\", \"marker\": {\"color\": \"#636efa\", \"size\": [21, 21, 21, 21, 21, 21, 21, 21, 21, 21, 21, 21, 21, 21, 21, 21, 21, 21, 21, 21], \"sizemode\": \"area\", \"sizeref\": 0.075, \"symbol\": \"circle\"}, \"mode\": \"markers\", \"name\": \"Method=Normal\", \"showlegend\": true, \"x\": [1, 2, 3, 4, 5, 6, 7, 8, 9, 10, 11, 12, 13, 14, 15, 16, 17, 18, 19, 20], \"xaxis\": \"x\", \"y\": [0.07219716147672028, 0.036098649591070085, 0.02707409047276146, 0.023690009904098287, 0.02220972317857326, 0.021516325955401153, 0.021181426174004137, 0.021018512018350095, 0.02094152113183599, 0.020910830089630083, 0.02091083008963008, 0.020941521131835995, 0.0210185120183501, 0.021181426174004137, 0.021516325955401157, 0.02220972317857326, 0.023690009904098284, 0.027074090472761464, 0.036098649591070085, 0.07219716147672028], \"yaxis\": \"y\", \"type\": \"scatter\"}, {\"hoverlabel\": {\"namelength\": 0}, \"hovertemplate\": \"<b>%{hovertext}</b><br><br>Method=poisson<br>HomochiralChainLength=%{marker.size}<br>NumberMonomer=%{x}<br>Breakprob=%{y}\", \"hovertext\": [\"poisson\", \"poisson\", \"poisson\", \"poisson\", \"poisson\", \"poisson\", \"poisson\", \"poisson\", \"poisson\", \"poisson\", \"poisson\", \"poisson\", \"poisson\", \"poisson\", \"poisson\", \"poisson\", \"poisson\", \"poisson\", \"poisson\", \"poisson\"], \"legendgroup\": \"Method=poisson\", \"marker\": {\"color\": \"#EF553B\", \"size\": [21, 21, 21, 21, 21, 21, 21, 21, 21, 21, 21, 21, 21, 21, 21, 21, 21, 21, 21, 21], \"sizemode\": \"area\", \"sizeref\": 0.075, \"symbol\": \"circle\"}, \"mode\": \"markers\", \"name\": \"Method=poisson\", \"showlegend\": true, \"x\": [1, 2, 3, 4, 5, 6, 7, 8, 9, 10, 11, 12, 13, 14, 15, 16, 17, 18, 19, 20], \"xaxis\": \"x\", \"y\": [0.08496599119177098, 0.08003811330952457, 0.0707543859153809, 0.05844551573946423, 0.04624859487301206, 0.036607327333184954, 0.03009020875706825, 0.02612672613950144, 0.02395051856659437, 0.02300134658101507, 0.02300134658101507, 0.02395051856659437, 0.02612672613950144, 0.03009020875706825, 0.03660732733318496, 0.046248594873012056, 0.058445515739464236, 0.07075438591538091, 0.08003811330952457, 0.08496599119177098], \"yaxis\": \"y\", \"type\": \"scatter\"}, {\"hoverlabel\": {\"namelength\": 0}, \"hovertemplate\": \"<b>%{hovertext}</b><br><br>Method=left<br>HomochiralChainLength=%{marker.size}<br>NumberMonomer=%{x}<br>Breakprob=%{y}\", \"hovertext\": [\"left\", \"left\", \"left\", \"left\", \"left\", \"left\", \"left\", \"left\", \"left\", \"left\", \"left\", \"left\", \"left\", \"left\", \"left\", \"left\", \"left\", \"left\", \"left\", \"left\"], \"legendgroup\": \"Method=left\", \"marker\": {\"color\": \"#00cc96\", \"size\": [21, 21, 21, 21, 21, 21, 21, 21, 21, 21, 21, 21, 21, 21, 21, 21, 21, 21, 21, 21], \"sizemode\": \"area\", \"sizeref\": 0.075, \"symbol\": \"circle\"}, \"mode\": \"markers\", \"name\": \"Method=left\", \"showlegend\": true, \"x\": [1, 2, 3, 4, 5, 6, 7, 8, 9, 10, 11, 12, 13, 14, 15, 16, 17, 18, 19, 20], \"xaxis\": \"x\", \"y\": [0.0501740750786964, 0.02508708538916622, 0.01881538581687549, 0.016463588196975812, 0.015434849451776821, 0.014952966734739323, 0.014720225080746857, 0.014607006404139967, 0.014553500886176081, 0.014532171866802104, 0.014532171866802107, 0.014553500886176083, 0.014607006404139965, 0.014720225080746859, 0.014952966734739321, 0.015434849451776814, 0.01646358819697581, 0.018815385816875495, 0.02508708538916622, 0.0501740750786964], \"yaxis\": \"y\", \"type\": \"scatter\"}, {\"hoverlabel\": {\"namelength\": 0}, \"hovertemplate\": \"<b>%{hovertext}</b><br><br>Method=right<br>HomochiralChainLength=%{marker.size}<br>NumberMonomer=%{x}<br>Breakprob=%{y}\", \"hovertext\": [\"right\", \"right\", \"right\", \"right\", \"right\", \"right\", \"right\", \"right\", \"right\", \"right\", \"right\", \"right\", \"right\", \"right\", \"right\", \"right\", \"right\", \"right\", \"right\", \"right\"], \"legendgroup\": \"Method=right\", \"marker\": {\"color\": \"#ab63fa\", \"size\": [21, 21, 21, 21, 21, 21, 21, 21, 21, 21, 21, 21, 21, 21, 21, 21, 21, 21, 21, 21], \"sizemode\": \"area\", \"sizeref\": 0.075, \"symbol\": \"circle\"}, \"mode\": \"markers\", \"name\": \"Method=right\", \"showlegend\": true, \"x\": [1, 2, 3, 4, 5, 6, 7, 8, 9, 10, 11, 12, 13, 14, 15, 16, 17, 18, 19, 20], \"xaxis\": \"x\", \"y\": [0.0501740750786964, 0.02508708538916622, 0.01881538581687549, 0.016463588196975812, 0.015434849451776821, 0.014952966734739323, 0.014720225080746857, 0.014607006404139967, 0.014553500886176081, 0.014532171866802104, 0.014532171866802107, 0.014553500886176083, 0.014607006404139965, 0.014720225080746859, 0.014952966734739321, 0.015434849451776814, 0.01646358819697581, 0.018815385816875495, 0.02508708538916622, 0.0501740750786964], \"yaxis\": \"y\", \"type\": \"scatter\"}], \"name\": \"21\"}, {\"data\": [{\"hoverlabel\": {\"namelength\": 0}, \"hovertemplate\": \"<b>%{hovertext}</b><br><br>Method=Normal<br>HomochiralChainLength=%{marker.size}<br>NumberMonomer=%{x}<br>Breakprob=%{y}\", \"hovertext\": [\"Normal\", \"Normal\", \"Normal\", \"Normal\", \"Normal\", \"Normal\", \"Normal\", \"Normal\", \"Normal\", \"Normal\", \"Normal\", \"Normal\", \"Normal\", \"Normal\", \"Normal\", \"Normal\", \"Normal\", \"Normal\", \"Normal\", \"Normal\", \"Normal\"], \"legendgroup\": \"Method=Normal\", \"marker\": {\"color\": \"#636efa\", \"size\": [22, 22, 22, 22, 22, 22, 22, 22, 22, 22, 22, 22, 22, 22, 22, 22, 22, 22, 22, 22, 22], \"sizemode\": \"area\", \"sizeref\": 0.075, \"symbol\": \"circle\"}, \"mode\": \"markers\", \"name\": \"Method=Normal\", \"showlegend\": true, \"x\": [1, 2, 3, 4, 5, 6, 7, 8, 9, 10, 11, 12, 13, 14, 15, 16, 17, 18, 19, 20, 21], \"xaxis\": \"x\", \"y\": [0.07219709262414166, 0.03609858073836014, 0.027073987193302562, 0.023689829163666278, 0.022209384285092143, 0.021515669329242846, 0.02118013336234801, 0.02101594628201973, 0.020936408455778415, 0.020900619723375376, 0.02089040935712068, 0.020900619723375376, 0.02093640845577842, 0.021015946282019735, 0.02118013336234801, 0.02151566932924285, 0.022209384285092143, 0.023689829163666278, 0.02707398719330257, 0.03609858073836014, 0.07219709262414166], \"yaxis\": \"y\", \"type\": \"scatter\"}, {\"hoverlabel\": {\"namelength\": 0}, \"hovertemplate\": \"<b>%{hovertext}</b><br><br>Method=poisson<br>HomochiralChainLength=%{marker.size}<br>NumberMonomer=%{x}<br>Breakprob=%{y}\", \"hovertext\": [\"poisson\", \"poisson\", \"poisson\", \"poisson\", \"poisson\", \"poisson\", \"poisson\", \"poisson\", \"poisson\", \"poisson\", \"poisson\", \"poisson\", \"poisson\", \"poisson\", \"poisson\", \"poisson\", \"poisson\", \"poisson\", \"poisson\", \"poisson\", \"poisson\"], \"legendgroup\": \"Method=poisson\", \"marker\": {\"color\": \"#EF553B\", \"size\": [22, 22, 22, 22, 22, 22, 22, 22, 22, 22, 22, 22, 22, 22, 22, 22, 22, 22, 22, 22, 22], \"sizemode\": \"area\", \"sizeref\": 0.075, \"symbol\": \"circle\"}, \"mode\": \"markers\", \"name\": \"Method=poisson\", \"showlegend\": true, \"x\": [1, 2, 3, 4, 5, 6, 7, 8, 9, 10, 11, 12, 13, 14, 15, 16, 17, 18, 19, 20, 21], \"xaxis\": \"x\", \"y\": [0.08350621078019828, 0.07866272549687182, 0.06953774542316324, 0.057438520576499626, 0.045447101386553224, 0.03596280319518441, 0.029539012429093205, 0.025603506560597608, 0.023379969810202482, 0.022275156040154207, 0.02194411486620843, 0.02227515604015421, 0.023379969810202475, 0.025603506560597608, 0.029539012429093202, 0.035962803195184405, 0.04544710138655323, 0.05743852057649964, 0.06953774542316321, 0.07866272549687182, 0.08350621078019828], \"yaxis\": \"y\", \"type\": \"scatter\"}, {\"hoverlabel\": {\"namelength\": 0}, \"hovertemplate\": \"<b>%{hovertext}</b><br><br>Method=left<br>HomochiralChainLength=%{marker.size}<br>NumberMonomer=%{x}<br>Breakprob=%{y}\", \"hovertext\": [\"left\", \"left\", \"left\", \"left\", \"left\", \"left\", \"left\", \"left\", \"left\", \"left\", \"left\", \"left\", \"left\", \"left\", \"left\", \"left\", \"left\", \"left\", \"left\", \"left\", \"left\"], \"legendgroup\": \"Method=left\", \"marker\": {\"color\": \"#00cc96\", \"size\": [22, 22, 22, 22, 22, 22, 22, 22, 22, 22, 22, 22, 22, 22, 22, 22, 22, 22, 22, 22, 22], \"sizemode\": \"area\", \"sizeref\": 0.075, \"symbol\": \"circle\"}, \"mode\": \"markers\", \"name\": \"Method=left\", \"showlegend\": true, \"x\": [1, 2, 3, 4, 5, 6, 7, 8, 9, 10, 11, 12, 13, 14, 15, 16, 17, 18, 19, 20, 21], \"xaxis\": \"x\", \"y\": [0.04931206747260168, 0.024656057250149382, 0.018492078208452126, 0.016180630156601226, 0.015169456505582152, 0.014695635227380786, 0.014466457408197107, 0.014354314327513409, 0.014299988391223222, 0.014275543966622842, 0.014268570080952777, 0.01427554396662284, 0.014299988391223222, 0.014354314327513409, 0.014466457408197108, 0.014695635227380792, 0.015169456505582156, 0.01618063015660123, 0.018492078208452133, 0.024656057250149382, 0.04931206747260168], \"yaxis\": \"y\", \"type\": \"scatter\"}, {\"hoverlabel\": {\"namelength\": 0}, \"hovertemplate\": \"<b>%{hovertext}</b><br><br>Method=right<br>HomochiralChainLength=%{marker.size}<br>NumberMonomer=%{x}<br>Breakprob=%{y}\", \"hovertext\": [\"right\", \"right\", \"right\", \"right\", \"right\", \"right\", \"right\", \"right\", \"right\", \"right\", \"right\", \"right\", \"right\", \"right\", \"right\", \"right\", \"right\", \"right\", \"right\", \"right\", \"right\"], \"legendgroup\": \"Method=right\", \"marker\": {\"color\": \"#ab63fa\", \"size\": [22, 22, 22, 22, 22, 22, 22, 22, 22, 22, 22, 22, 22, 22, 22, 22, 22, 22, 22, 22, 22], \"sizemode\": \"area\", \"sizeref\": 0.075, \"symbol\": \"circle\"}, \"mode\": \"markers\", \"name\": \"Method=right\", \"showlegend\": true, \"x\": [1, 2, 3, 4, 5, 6, 7, 8, 9, 10, 11, 12, 13, 14, 15, 16, 17, 18, 19, 20, 21], \"xaxis\": \"x\", \"y\": [0.04931206747260168, 0.024656057250149382, 0.018492078208452126, 0.016180630156601226, 0.015169456505582152, 0.014695635227380786, 0.014466457408197107, 0.014354314327513409, 0.014299988391223222, 0.014275543966622842, 0.014268570080952777, 0.01427554396662284, 0.014299988391223222, 0.014354314327513409, 0.014466457408197108, 0.014695635227380792, 0.015169456505582156, 0.01618063015660123, 0.018492078208452133, 0.024656057250149382, 0.04931206747260168], \"yaxis\": \"y\", \"type\": \"scatter\"}], \"name\": \"22\"}, {\"data\": [{\"hoverlabel\": {\"namelength\": 0}, \"hovertemplate\": \"<b>%{hovertext}</b><br><br>Method=Normal<br>HomochiralChainLength=%{marker.size}<br>NumberMonomer=%{x}<br>Breakprob=%{y}\", \"hovertext\": [\"Normal\", \"Normal\", \"Normal\", \"Normal\", \"Normal\", \"Normal\", \"Normal\", \"Normal\", \"Normal\", \"Normal\", \"Normal\", \"Normal\", \"Normal\", \"Normal\", \"Normal\", \"Normal\", \"Normal\", \"Normal\", \"Normal\", \"Normal\", \"Normal\", \"Normal\"], \"legendgroup\": \"Method=Normal\", \"marker\": {\"color\": \"#636efa\", \"size\": [23, 23, 23, 23, 23, 23, 23, 23, 23, 23, 23, 23, 23, 23, 23, 23, 23, 23, 23, 23, 23, 23], \"sizemode\": \"area\", \"sizeref\": 0.075, \"symbol\": \"circle\"}, \"mode\": \"markers\", \"name\": \"Method=Normal\", \"showlegend\": true, \"x\": [1, 2, 3, 4, 5, 6, 7, 8, 9, 10, 11, 12, 13, 14, 15, 16, 17, 18, 19, 20, 21, 22], \"xaxis\": \"x\", \"y\": [0.07219705819788519, 0.03609854631207083, 0.027073935553770107, 0.023689738794139742, 0.022209214840937134, 0.021515341026183014, 0.021179486995973426, 0.021014663570454666, 0.02093385274185559, 0.020895517033013223, 0.020880208961926768, 0.02088020896192677, 0.020895517033013223, 0.020933852741855594, 0.02101466357045467, 0.021179486995973426, 0.021515341026183014, 0.022209214840937137, 0.023689738794139745, 0.02707393555377011, 0.03609854631207083, 0.07219705819788519], \"yaxis\": \"y\", \"type\": \"scatter\"}, {\"hoverlabel\": {\"namelength\": 0}, \"hovertemplate\": \"<b>%{hovertext}</b><br><br>Method=poisson<br>HomochiralChainLength=%{marker.size}<br>NumberMonomer=%{x}<br>Breakprob=%{y}\", \"hovertext\": [\"poisson\", \"poisson\", \"poisson\", \"poisson\", \"poisson\", \"poisson\", \"poisson\", \"poisson\", \"poisson\", \"poisson\", \"poisson\", \"poisson\", \"poisson\", \"poisson\", \"poisson\", \"poisson\", \"poisson\", \"poisson\", \"poisson\", \"poisson\", \"poisson\", \"poisson\"], \"legendgroup\": \"Method=poisson\", \"marker\": {\"color\": \"#EF553B\", \"size\": [23, 23, 23, 23, 23, 23, 23, 23, 23, 23, 23, 23, 23, 23, 23, 23, 23, 23, 23, 23, 23, 23], \"sizemode\": \"area\", \"sizeref\": 0.075, \"symbol\": \"circle\"}, \"mode\": \"markers\", \"name\": \"Method=poisson\", \"showlegend\": true, \"x\": [1, 2, 3, 4, 5, 6, 7, 8, 9, 10, 11, 12, 13, 14, 15, 16, 17, 18, 19, 20, 21, 22], \"xaxis\": \"x\", \"y\": [0.08207159309201063, 0.0773112399884868, 0.06834279762117673, 0.05645084993188377, 0.0446640642161563, 0.03533956366553202, 0.02901893604247349, 0.025134498222588956, 0.022911757379239568, 0.02174451773510843, 0.021251302878559083, 0.02125130287855908, 0.02174451773510843, 0.022911757379239565, 0.02513449822258896, 0.02901893604247349, 0.035339563665532016, 0.04466406421615629, 0.05645084993188374, 0.06834279762117673, 0.07731123998848677, 0.08207159309201063], \"yaxis\": \"y\", \"type\": \"scatter\"}, {\"hoverlabel\": {\"namelength\": 0}, \"hovertemplate\": \"<b>%{hovertext}</b><br><br>Method=left<br>HomochiralChainLength=%{marker.size}<br>NumberMonomer=%{x}<br>Breakprob=%{y}\", \"hovertext\": [\"left\", \"left\", \"left\", \"left\", \"left\", \"left\", \"left\", \"left\", \"left\", \"left\", \"left\", \"left\", \"left\", \"left\", \"left\", \"left\", \"left\", \"left\", \"left\", \"left\", \"left\", \"left\"], \"legendgroup\": \"Method=left\", \"marker\": {\"color\": \"#00cc96\", \"size\": [23, 23, 23, 23, 23, 23, 23, 23, 23, 23, 23, 23, 23, 23, 23, 23, 23, 23, 23, 23, 23, 23], \"sizemode\": \"area\", \"sizeref\": 0.075, \"symbol\": \"circle\"}, \"mode\": \"markers\", \"name\": \"Method=left\", \"showlegend\": true, \"x\": [1, 2, 3, 4, 5, 6, 7, 8, 9, 10, 11, 12, 13, 14, 15, 16, 17, 18, 19, 20, 21, 22], \"xaxis\": \"x\", \"y\": [0.048464892559053535, 0.024232457834463098, 0.018174360708268347, 0.01590259595152945, 0.014908740576890773, 0.014442952624846706, 0.014217498431893048, 0.014106854732435276, 0.014052607534233277, 0.0140268732999501, 0.014016597202294456, 0.014016597202294456, 0.014026873299950098, 0.014052607534233272, 0.014106854732435276, 0.014217498431893048, 0.014442952624846706, 0.014908740576890777, 0.015902595951529448, 0.01817436070826835, 0.024232457834463098, 0.048464892559053535], \"yaxis\": \"y\", \"type\": \"scatter\"}, {\"hoverlabel\": {\"namelength\": 0}, \"hovertemplate\": \"<b>%{hovertext}</b><br><br>Method=right<br>HomochiralChainLength=%{marker.size}<br>NumberMonomer=%{x}<br>Breakprob=%{y}\", \"hovertext\": [\"right\", \"right\", \"right\", \"right\", \"right\", \"right\", \"right\", \"right\", \"right\", \"right\", \"right\", \"right\", \"right\", \"right\", \"right\", \"right\", \"right\", \"right\", \"right\", \"right\", \"right\", \"right\"], \"legendgroup\": \"Method=right\", \"marker\": {\"color\": \"#ab63fa\", \"size\": [23, 23, 23, 23, 23, 23, 23, 23, 23, 23, 23, 23, 23, 23, 23, 23, 23, 23, 23, 23, 23, 23], \"sizemode\": \"area\", \"sizeref\": 0.075, \"symbol\": \"circle\"}, \"mode\": \"markers\", \"name\": \"Method=right\", \"showlegend\": true, \"x\": [1, 2, 3, 4, 5, 6, 7, 8, 9, 10, 11, 12, 13, 14, 15, 16, 17, 18, 19, 20, 21, 22], \"xaxis\": \"x\", \"y\": [0.048464892559053535, 0.024232457834463098, 0.018174360708268347, 0.01590259595152945, 0.014908740576890773, 0.014442952624846706, 0.014217498431893048, 0.014106854732435276, 0.014052607534233277, 0.0140268732999501, 0.014016597202294456, 0.014016597202294456, 0.014026873299950098, 0.014052607534233272, 0.014106854732435276, 0.014217498431893048, 0.014442952624846706, 0.014908740576890777, 0.015902595951529448, 0.01817436070826835, 0.024232457834463098, 0.048464892559053535], \"yaxis\": \"y\", \"type\": \"scatter\"}], \"name\": \"23\"}, {\"data\": [{\"hoverlabel\": {\"namelength\": 0}, \"hovertemplate\": \"<b>%{hovertext}</b><br><br>Method=Normal<br>HomochiralChainLength=%{marker.size}<br>NumberMonomer=%{x}<br>Breakprob=%{y}\", \"hovertext\": [\"Normal\", \"Normal\", \"Normal\", \"Normal\", \"Normal\", \"Normal\", \"Normal\", \"Normal\", \"Normal\", \"Normal\", \"Normal\", \"Normal\", \"Normal\", \"Normal\", \"Normal\", \"Normal\", \"Normal\", \"Normal\", \"Normal\", \"Normal\", \"Normal\", \"Normal\", \"Normal\"], \"legendgroup\": \"Method=Normal\", \"marker\": {\"color\": \"#636efa\", \"size\": [24, 24, 24, 24, 24, 24, 24, 24, 24, 24, 24, 24, 24, 24, 24, 24, 24, 24, 24, 24, 24, 24, 24], \"sizemode\": \"area\", \"sizeref\": 0.075, \"symbol\": \"circle\"}, \"mode\": \"markers\", \"name\": \"Method=Normal\", \"showlegend\": true, \"x\": [1, 2, 3, 4, 5, 6, 7, 8, 9, 10, 11, 12, 13, 14, 15, 16, 17, 18, 19, 20, 21, 22, 23], \"xaxis\": \"x\", \"y\": [0.07219704098476516, 0.036098529098942594, 0.027073909734053124, 0.023689693609548843, 0.02220913011950601, 0.021515176877157847, 0.021179163822648905, 0.021014022253817384, 0.020932575040882577, 0.020892966310719154, 0.02087511125466067, 0.020870013547394577, 0.020875111254660676, 0.020892966310719154, 0.02093257504088258, 0.021014022253817388, 0.0211791638226489, 0.02151517687715785, 0.022209130119506013, 0.023689693609548843, 0.027073909734053127, 0.036098529098942594, 0.07219704098476516], \"yaxis\": \"y\", \"type\": \"scatter\"}, {\"hoverlabel\": {\"namelength\": 0}, \"hovertemplate\": \"<b>%{hovertext}</b><br><br>Method=poisson<br>HomochiralChainLength=%{marker.size}<br>NumberMonomer=%{x}<br>Breakprob=%{y}\", \"hovertext\": [\"poisson\", \"poisson\", \"poisson\", \"poisson\", \"poisson\", \"poisson\", \"poisson\", \"poisson\", \"poisson\", \"poisson\", \"poisson\", \"poisson\", \"poisson\", \"poisson\", \"poisson\", \"poisson\", \"poisson\", \"poisson\", \"poisson\", \"poisson\", \"poisson\", \"poisson\", \"poisson\"], \"legendgroup\": \"Method=poisson\", \"marker\": {\"color\": \"#EF553B\", \"size\": [24, 24, 24, 24, 24, 24, 24, 24, 24, 24, 24, 24, 24, 24, 24, 24, 24, 24, 24, 24, 24, 24, 24], \"sizemode\": \"area\", \"sizeref\": 0.075, \"symbol\": \"circle\"}, \"mode\": \"markers\", \"name\": \"Method=poisson\", \"showlegend\": true, \"x\": [1, 2, 3, 4, 5, 6, 7, 8, 9, 10, 11, 12, 13, 14, 15, 16, 17, 18, 19, 20, 21, 22, 23], \"xaxis\": \"x\", \"y\": [0.08066164430611682, 0.07598305048800584, 0.06716861633004935, 0.055480789446950264, 0.043896053747697526, 0.03473067572567523, 0.028516034531933108, 0.02469196958198249, 0.022492056850178747, 0.021309057228036745, 0.02074505478228692, 0.020580364110821175, 0.02074505478228692, 0.02130905722803674, 0.02249205685017875, 0.02469196958198248, 0.0285160345319331, 0.034730675725675224, 0.04389605374769752, 0.05548078944695027, 0.06716861633004938, 0.07598305048800585, 0.08066164430611682], \"yaxis\": \"y\", \"type\": \"scatter\"}, {\"hoverlabel\": {\"namelength\": 0}, \"hovertemplate\": \"<b>%{hovertext}</b><br><br>Method=left<br>HomochiralChainLength=%{marker.size}<br>NumberMonomer=%{x}<br>Breakprob=%{y}\", \"hovertext\": [\"left\", \"left\", \"left\", \"left\", \"left\", \"left\", \"left\", \"left\", \"left\", \"left\", \"left\", \"left\", \"left\", \"left\", \"left\", \"left\", \"left\", \"left\", \"left\", \"left\", \"left\", \"left\", \"left\"], \"legendgroup\": \"Method=left\", \"marker\": {\"color\": \"#00cc96\", \"size\": [24, 24, 24, 24, 24, 24, 24, 24, 24, 24, 24, 24, 24, 24, 24, 24, 24, 24, 24, 24, 24, 24, 24], \"sizemode\": \"area\", \"sizeref\": 0.075, \"symbol\": \"circle\"}, \"mode\": \"markers\", \"name\": \"Method=left\", \"showlegend\": true, \"x\": [1, 2, 3, 4, 5, 6, 7, 8, 9, 10, 11, 12, 13, 14, 15, 16, 17, 18, 19, 20, 21, 22, 23], \"xaxis\": \"x\", \"y\": [0.04763228335689625, 0.023816147356660138, 0.017862119034817183, 0.015629369060792892, 0.014652561442036369, 0.014194723045543922, 0.013973037103770163, 0.013864084300534847, 0.013810349179645907, 0.01378421716325275, 0.013772437219394517, 0.013769073986862307, 0.013772437219394518, 0.01378421716325275, 0.013810349179645905, 0.013864084300534844, 0.013973037103770162, 0.014194723045543926, 0.014652561442036364, 0.015629369060792885, 0.01786211903481719, 0.023816147356660138, 0.04763228335689625], \"yaxis\": \"y\", \"type\": \"scatter\"}, {\"hoverlabel\": {\"namelength\": 0}, \"hovertemplate\": \"<b>%{hovertext}</b><br><br>Method=right<br>HomochiralChainLength=%{marker.size}<br>NumberMonomer=%{x}<br>Breakprob=%{y}\", \"hovertext\": [\"right\", \"right\", \"right\", \"right\", \"right\", \"right\", \"right\", \"right\", \"right\", \"right\", \"right\", \"right\", \"right\", \"right\", \"right\", \"right\", \"right\", \"right\", \"right\", \"right\", \"right\", \"right\", \"right\"], \"legendgroup\": \"Method=right\", \"marker\": {\"color\": \"#ab63fa\", \"size\": [24, 24, 24, 24, 24, 24, 24, 24, 24, 24, 24, 24, 24, 24, 24, 24, 24, 24, 24, 24, 24, 24, 24], \"sizemode\": \"area\", \"sizeref\": 0.075, \"symbol\": \"circle\"}, \"mode\": \"markers\", \"name\": \"Method=right\", \"showlegend\": true, \"x\": [1, 2, 3, 4, 5, 6, 7, 8, 9, 10, 11, 12, 13, 14, 15, 16, 17, 18, 19, 20, 21, 22, 23], \"xaxis\": \"x\", \"y\": [0.04763228335689625, 0.023816147356660138, 0.017862119034817183, 0.015629369060792892, 0.014652561442036369, 0.014194723045543922, 0.013973037103770163, 0.013864084300534847, 0.013810349179645907, 0.01378421716325275, 0.013772437219394517, 0.013769073986862307, 0.013772437219394518, 0.01378421716325275, 0.013810349179645905, 0.013864084300534844, 0.013973037103770162, 0.014194723045543926, 0.014652561442036364, 0.015629369060792885, 0.01786211903481719, 0.023816147356660138, 0.04763228335689625], \"yaxis\": \"y\", \"type\": \"scatter\"}], \"name\": \"24\"}, {\"data\": [{\"hoverlabel\": {\"namelength\": 0}, \"hovertemplate\": \"<b>%{hovertext}</b><br><br>Method=Normal<br>HomochiralChainLength=%{marker.size}<br>NumberMonomer=%{x}<br>Breakprob=%{y}\", \"hovertext\": [\"Normal\", \"Normal\", \"Normal\", \"Normal\", \"Normal\", \"Normal\", \"Normal\", \"Normal\", \"Normal\", \"Normal\", \"Normal\", \"Normal\", \"Normal\", \"Normal\", \"Normal\", \"Normal\", \"Normal\", \"Normal\", \"Normal\", \"Normal\", \"Normal\", \"Normal\", \"Normal\", \"Normal\"], \"legendgroup\": \"Method=Normal\", \"marker\": {\"color\": \"#636efa\", \"size\": [25, 25, 25, 25, 25, 25, 25, 25, 25, 25, 25, 25, 25, 25, 25, 25, 25, 25, 25, 25, 25, 25, 25, 25], \"sizemode\": \"area\", \"sizeref\": 0.075, \"symbol\": \"circle\"}, \"mode\": \"markers\", \"name\": \"Method=Normal\", \"showlegend\": true, \"x\": [1, 2, 3, 4, 5, 6, 7, 8, 9, 10, 11, 12, 13, 14, 15, 16, 17, 18, 19, 20, 21, 22, 23, 24], \"xaxis\": \"x\", \"y\": [0.0721970323782072, 0.03609852049238258, 0.027073896824206946, 0.023689671017296483, 0.02220908775895204, 0.021515094803271448, 0.021179002238452257, 0.02101370160528446, 0.02093193622938841, 0.020891691105255853, 0.020872563023306343, 0.020864918329243354, 0.020864918329243358, 0.020872563023306347, 0.020891691105255853, 0.020931936229388413, 0.02101370160528446, 0.021179002238452257, 0.021515094803271448, 0.022209087758952042, 0.023689671017296483, 0.02707389682420695, 0.03609852049238258, 0.0721970323782072], \"yaxis\": \"y\", \"type\": \"scatter\"}, {\"hoverlabel\": {\"namelength\": 0}, \"hovertemplate\": \"<b>%{hovertext}</b><br><br>Method=poisson<br>HomochiralChainLength=%{marker.size}<br>NumberMonomer=%{x}<br>Breakprob=%{y}\", \"hovertext\": [\"poisson\", \"poisson\", \"poisson\", \"poisson\", \"poisson\", \"poisson\", \"poisson\", \"poisson\", \"poisson\", \"poisson\", \"poisson\", \"poisson\", \"poisson\", \"poisson\", \"poisson\", \"poisson\", \"poisson\", \"poisson\", \"poisson\", \"poisson\", \"poisson\", \"poisson\", \"poisson\", \"poisson\"], \"legendgroup\": \"Method=poisson\", \"marker\": {\"color\": \"#EF553B\", \"size\": [25, 25, 25, 25, 25, 25, 25, 25, 25, 25, 25, 25, 25, 25, 25, 25, 25, 25, 25, 25, 25, 25, 25, 25], \"sizemode\": \"area\", \"sizeref\": 0.075, \"symbol\": \"circle\"}, \"mode\": \"markers\", \"name\": \"Method=poisson\", \"showlegend\": true, \"x\": [1, 2, 3, 4, 5, 6, 7, 8, 9, 10, 11, 12, 13, 14, 15, 16, 17, 18, 19, 20, 21, 22, 23, 24], \"xaxis\": \"x\", \"y\": [0.07927592358564996, 0.0746776998088255, 0.06601467479470872, 0.05452758724784392, 0.043141736899739706, 0.034133472515396904, 0.02802471353874358, 0.024264054899555094, 0.022096052153597726, 0.02091871516721788, 0.020329609740701162, 0.0200900991039541, 0.0200900991039541, 0.020329609740701162, 0.02091871516721788, 0.022096052153597716, 0.024264054899555097, 0.02802471353874358, 0.0341334725153969, 0.04314173689973969, 0.054527587247843894, 0.06601467479470868, 0.07467769980882548, 0.07927592358564996], \"yaxis\": \"y\", \"type\": \"scatter\"}, {\"hoverlabel\": {\"namelength\": 0}, \"hovertemplate\": \"<b>%{hovertext}</b><br><br>Method=left<br>HomochiralChainLength=%{marker.size}<br>NumberMonomer=%{x}<br>Breakprob=%{y}\", \"hovertext\": [\"left\", \"left\", \"left\", \"left\", \"left\", \"left\", \"left\", \"left\", \"left\", \"left\", \"left\", \"left\", \"left\", \"left\", \"left\", \"left\", \"left\", \"left\", \"left\", \"left\", \"left\", \"left\", \"left\", \"left\"], \"legendgroup\": \"Method=left\", \"marker\": {\"color\": \"#00cc96\", \"size\": [25, 25, 25, 25, 25, 25, 25, 25, 25, 25, 25, 25, 25, 25, 25, 25, 25, 25, 25, 25, 25, 25, 25, 25], \"sizemode\": \"area\", \"sizeref\": 0.075, \"symbol\": \"circle\"}, \"mode\": \"markers\", \"name\": \"Method=left\", \"showlegend\": true, \"x\": [1, 2, 3, 4, 5, 6, 7, 8, 9, 10, 11, 12, 13, 14, 15, 16, 17, 18, 19, 20, 21, 22, 23, 24], \"xaxis\": \"x\", \"y\": [0.046813983658239376, 0.023406994619450887, 0.017555250150085962, 0.015360851205949853, 0.014400811739262278, 0.013950812981474398, 0.013732883915433584, 0.013625699715683155, 0.0135726814288517, 0.013546585694423229, 0.013534182667784863, 0.013529225696962821, 0.013529225696962825, 0.013534182667784866, 0.01354658569442323, 0.013572681428851704, 0.013625699715683155, 0.013732883915433584, 0.0139508129814744, 0.01440081173926228, 0.015360851205949847, 0.01755525015008597, 0.023406994619450887, 0.046813983658239376], \"yaxis\": \"y\", \"type\": \"scatter\"}, {\"hoverlabel\": {\"namelength\": 0}, \"hovertemplate\": \"<b>%{hovertext}</b><br><br>Method=right<br>HomochiralChainLength=%{marker.size}<br>NumberMonomer=%{x}<br>Breakprob=%{y}\", \"hovertext\": [\"right\", \"right\", \"right\", \"right\", \"right\", \"right\", \"right\", \"right\", \"right\", \"right\", \"right\", \"right\", \"right\", \"right\", \"right\", \"right\", \"right\", \"right\", \"right\", \"right\", \"right\", \"right\", \"right\", \"right\"], \"legendgroup\": \"Method=right\", \"marker\": {\"color\": \"#ab63fa\", \"size\": [25, 25, 25, 25, 25, 25, 25, 25, 25, 25, 25, 25, 25, 25, 25, 25, 25, 25, 25, 25, 25, 25, 25, 25], \"sizemode\": \"area\", \"sizeref\": 0.075, \"symbol\": \"circle\"}, \"mode\": \"markers\", \"name\": \"Method=right\", \"showlegend\": true, \"x\": [1, 2, 3, 4, 5, 6, 7, 8, 9, 10, 11, 12, 13, 14, 15, 16, 17, 18, 19, 20, 21, 22, 23, 24], \"xaxis\": \"x\", \"y\": [0.046813983658239376, 0.023406994619450887, 0.017555250150085962, 0.015360851205949853, 0.014400811739262278, 0.013950812981474398, 0.013732883915433584, 0.013625699715683155, 0.0135726814288517, 0.013546585694423229, 0.013534182667784863, 0.013529225696962821, 0.013529225696962825, 0.013534182667784866, 0.01354658569442323, 0.013572681428851704, 0.013625699715683155, 0.013732883915433584, 0.0139508129814744, 0.01440081173926228, 0.015360851205949847, 0.01755525015008597, 0.023406994619450887, 0.046813983658239376], \"yaxis\": \"y\", \"type\": \"scatter\"}], \"name\": \"25\"}, {\"data\": [{\"hoverlabel\": {\"namelength\": 0}, \"hovertemplate\": \"<b>%{hovertext}</b><br><br>Method=Normal<br>HomochiralChainLength=%{marker.size}<br>NumberMonomer=%{x}<br>Breakprob=%{y}\", \"hovertext\": [\"Normal\", \"Normal\", \"Normal\", \"Normal\", \"Normal\", \"Normal\", \"Normal\", \"Normal\", \"Normal\", \"Normal\", \"Normal\", \"Normal\", \"Normal\", \"Normal\", \"Normal\", \"Normal\", \"Normal\", \"Normal\", \"Normal\", \"Normal\", \"Normal\", \"Normal\", \"Normal\", \"Normal\", \"Normal\"], \"legendgroup\": \"Method=Normal\", \"marker\": {\"color\": \"#636efa\", \"size\": [26, 26, 26, 26, 26, 26, 26, 26, 26, 26, 26, 26, 26, 26, 26, 26, 26, 26, 26, 26, 26, 26, 26, 26, 26], \"sizemode\": \"area\", \"sizeref\": 0.075, \"symbol\": \"circle\"}, \"mode\": \"markers\", \"name\": \"Method=Normal\", \"showlegend\": true, \"x\": [1, 2, 3, 4, 5, 6, 7, 8, 9, 10, 11, 12, 13, 14, 15, 16, 17, 18, 19, 20, 21, 22, 23, 24, 25], \"xaxis\": \"x\", \"y\": [0.07219702807492873, 0.0360985161891036, 0.027073890369286938, 0.02368965972118108, 0.022209066578715454, 0.021515053766484788, 0.021178921446970332, 0.02101354128346435, 0.02093161683338882, 0.020891053541440385, 0.020871289063160877, 0.02086237134214262, 0.02085982435504188, 0.02086237134214262, 0.02087128906316088, 0.020891053541440385, 0.02093161683338882, 0.021013541283464353, 0.02117892144697033, 0.02151505376648479, 0.022209066578715457, 0.023689659721181075, 0.027073890369286938, 0.0360985161891036, 0.07219702807492873], \"yaxis\": \"y\", \"type\": \"scatter\"}, {\"hoverlabel\": {\"namelength\": 0}, \"hovertemplate\": \"<b>%{hovertext}</b><br><br>Method=poisson<br>HomochiralChainLength=%{marker.size}<br>NumberMonomer=%{x}<br>Breakprob=%{y}\", \"hovertext\": [\"poisson\", \"poisson\", \"poisson\", \"poisson\", \"poisson\", \"poisson\", \"poisson\", \"poisson\", \"poisson\", \"poisson\", \"poisson\", \"poisson\", \"poisson\", \"poisson\", \"poisson\", \"poisson\", \"poisson\", \"poisson\", \"poisson\", \"poisson\", \"poisson\", \"poisson\", \"poisson\", \"poisson\", \"poisson\"], \"legendgroup\": \"Method=poisson\", \"marker\": {\"color\": \"#EF553B\", \"size\": [26, 26, 26, 26, 26, 26, 26, 26, 26, 26, 26, 26, 26, 26, 26, 26, 26, 26, 26, 26, 26, 26, 26, 26, 26], \"sizemode\": \"area\", \"sizeref\": 0.075, \"symbol\": \"circle\"}, \"mode\": \"markers\", \"name\": \"Method=poisson\", \"showlegend\": true, \"x\": [1, 2, 3, 4, 5, 6, 7, 8, 9, 10, 11, 12, 13, 14, 15, 16, 17, 18, 19, 20, 21, 22, 23, 24, 25], \"xaxis\": \"x\", \"y\": [0.07791401020849616, 0.0733947798178918, 0.06488057580782018, 0.05359081571397726, 0.042400529016866625, 0.0335469174335743, 0.02754282113259912, 0.023845993982329557, 0.02171312501978553, 0.0205504113918967, 0.019957209325379737, 0.019687770349207646, 0.019611513179909067, 0.019687770349207642, 0.019957209325379744, 0.0205504113918967, 0.02171312501978553, 0.023845993982329564, 0.02754282113259912, 0.03354691743357431, 0.04240052901686663, 0.05359081571397729, 0.06488057580782021, 0.07339477981789186, 0.07791401020849616], \"yaxis\": \"y\", \"type\": \"scatter\"}, {\"hoverlabel\": {\"namelength\": 0}, \"hovertemplate\": \"<b>%{hovertext}</b><br><br>Method=left<br>HomochiralChainLength=%{marker.size}<br>NumberMonomer=%{x}<br>Breakprob=%{y}\", \"hovertext\": [\"left\", \"left\", \"left\", \"left\", \"left\", \"left\", \"left\", \"left\", \"left\", \"left\", \"left\", \"left\", \"left\", \"left\", \"left\", \"left\", \"left\", \"left\", \"left\", \"left\", \"left\", \"left\", \"left\", \"left\", \"left\"], \"legendgroup\": \"Method=left\", \"marker\": {\"color\": \"#00cc96\", \"size\": [26, 26, 26, 26, 26, 26, 26, 26, 26, 26, 26, 26, 26, 26, 26, 26, 26, 26, 26, 26, 26, 26, 26, 26, 26], \"sizemode\": \"area\", \"sizeref\": 0.075, \"symbol\": \"circle\"}, \"mode\": \"markers\", \"name\": \"Method=left\", \"showlegend\": true, \"x\": [1, 2, 3, 4, 5, 6, 7, 8, 9, 10, 11, 12, 13, 14, 15, 16, 17, 18, 19, 20, 21, 22, 23, 24, 25], \"xaxis\": \"x\", \"y\": [0.04600974469688378, 0.023004873719639215, 0.017253657346525644, 0.015096953777604208, 0.014153400915371416, 0.013711120212709257, 0.013496909702697941, 0.013391516180225767, 0.013339307340985242, 0.013313457153569278, 0.013300861640651996, 0.013295178552604349, 0.013293555407865905, 0.01329517855260435, 0.013300861640651996, 0.013313457153569276, 0.01333930734098524, 0.013391516180225773, 0.013496909702697941, 0.013711120212709252, 0.014153400915371418, 0.015096953777604205, 0.017253657346525654, 0.023004873719639215, 0.04600974469688378], \"yaxis\": \"y\", \"type\": \"scatter\"}, {\"hoverlabel\": {\"namelength\": 0}, \"hovertemplate\": \"<b>%{hovertext}</b><br><br>Method=right<br>HomochiralChainLength=%{marker.size}<br>NumberMonomer=%{x}<br>Breakprob=%{y}\", \"hovertext\": [\"right\", \"right\", \"right\", \"right\", \"right\", \"right\", \"right\", \"right\", \"right\", \"right\", \"right\", \"right\", \"right\", \"right\", \"right\", \"right\", \"right\", \"right\", \"right\", \"right\", \"right\", \"right\", \"right\", \"right\", \"right\"], \"legendgroup\": \"Method=right\", \"marker\": {\"color\": \"#ab63fa\", \"size\": [26, 26, 26, 26, 26, 26, 26, 26, 26, 26, 26, 26, 26, 26, 26, 26, 26, 26, 26, 26, 26, 26, 26, 26, 26], \"sizemode\": \"area\", \"sizeref\": 0.075, \"symbol\": \"circle\"}, \"mode\": \"markers\", \"name\": \"Method=right\", \"showlegend\": true, \"x\": [1, 2, 3, 4, 5, 6, 7, 8, 9, 10, 11, 12, 13, 14, 15, 16, 17, 18, 19, 20, 21, 22, 23, 24, 25], \"xaxis\": \"x\", \"y\": [0.04600974469688378, 0.023004873719639215, 0.017253657346525644, 0.015096953777604208, 0.014153400915371416, 0.013711120212709257, 0.013496909702697941, 0.013391516180225767, 0.013339307340985242, 0.013313457153569278, 0.013300861640651996, 0.013295178552604349, 0.013293555407865905, 0.01329517855260435, 0.013300861640651996, 0.013313457153569276, 0.01333930734098524, 0.013391516180225773, 0.013496909702697941, 0.013711120212709252, 0.014153400915371418, 0.015096953777604205, 0.017253657346525654, 0.023004873719639215, 0.04600974469688378], \"yaxis\": \"y\", \"type\": \"scatter\"}], \"name\": \"26\"}, {\"data\": [{\"hoverlabel\": {\"namelength\": 0}, \"hovertemplate\": \"<b>%{hovertext}</b><br><br>Method=Normal<br>HomochiralChainLength=%{marker.size}<br>NumberMonomer=%{x}<br>Breakprob=%{y}\", \"hovertext\": [\"Normal\", \"Normal\", \"Normal\", \"Normal\", \"Normal\", \"Normal\", \"Normal\", \"Normal\", \"Normal\", \"Normal\", \"Normal\", \"Normal\", \"Normal\", \"Normal\", \"Normal\", \"Normal\", \"Normal\", \"Normal\", \"Normal\", \"Normal\", \"Normal\", \"Normal\", \"Normal\", \"Normal\", \"Normal\", \"Normal\"], \"legendgroup\": \"Method=Normal\", \"marker\": {\"color\": \"#636efa\", \"size\": [27, 27, 27, 27, 27, 27, 27, 27, 27, 27, 27, 27, 27, 27, 27, 27, 27, 27, 27, 27, 27, 27, 27, 27, 27, 27], \"sizemode\": \"area\", \"sizeref\": 0.075, \"symbol\": \"circle\"}, \"mode\": \"markers\", \"name\": \"Method=Normal\", \"showlegend\": true, \"x\": [1, 2, 3, 4, 5, 6, 7, 8, 9, 10, 11, 12, 13, 14, 15, 16, 17, 18, 19, 20, 21, 22, 23, 24, 25, 26], \"xaxis\": \"x\", \"y\": [0.07219702592328962, 0.03609851403746436, 0.0270738871418277, 0.023689654073126072, 0.02220905598860726, 0.021515033248130595, 0.021178881051383464, 0.021013461123165877, 0.020931457137825817, 0.020890734769261107, 0.020870652121966322, 0.020861098004048007, 0.020857277989764167, 0.020857277989764167, 0.020861098004048007, 0.020870652121966326, 0.020890734769261104, 0.02093145713782582, 0.021013461123165877, 0.021178881051383464, 0.0215150332481306, 0.022209055988607264, 0.023689654073126065, 0.0270738871418277, 0.03609851403746436, 0.07219702592328962], \"yaxis\": \"y\", \"type\": \"scatter\"}, {\"hoverlabel\": {\"namelength\": 0}, \"hovertemplate\": \"<b>%{hovertext}</b><br><br>Method=poisson<br>HomochiralChainLength=%{marker.size}<br>NumberMonomer=%{x}<br>Breakprob=%{y}\", \"hovertext\": [\"poisson\", \"poisson\", \"poisson\", \"poisson\", \"poisson\", \"poisson\", \"poisson\", \"poisson\", \"poisson\", \"poisson\", \"poisson\", \"poisson\", \"poisson\", \"poisson\", \"poisson\", \"poisson\", \"poisson\", \"poisson\", \"poisson\", \"poisson\", \"poisson\", \"poisson\", \"poisson\", \"poisson\", \"poisson\", \"poisson\"], \"legendgroup\": \"Method=poisson\", \"marker\": {\"color\": \"#EF553B\", \"size\": [27, 27, 27, 27, 27, 27, 27, 27, 27, 27, 27, 27, 27, 27, 27, 27, 27, 27, 27, 27, 27, 27, 27, 27, 27, 27], \"sizemode\": \"area\", \"sizeref\": 0.075, \"symbol\": \"circle\"}, \"mode\": \"markers\", \"name\": \"Method=poisson\", \"showlegend\": true, \"x\": [1, 2, 3, 4, 5, 6, 7, 8, 9, 10, 11, 12, 13, 14, 15, 16, 17, 18, 19, 20, 21, 22, 23, 24, 25, 26], \"xaxis\": \"x\", \"y\": [0.07657549404380408, 0.07213390100467632, 0.06376596478016107, 0.05267015239181823, 0.04167209758227286, 0.03297055585347285, 0.027069520864196363, 0.02343595577083584, 0.021339015704620316, 0.020194270390859168, 0.01960583422988962, 0.019327127230706523, 0.01921876869241109, 0.019218768692411094, 0.019327127230706516, 0.019605834229889613, 0.020194270390859165, 0.021339015704620313, 0.023435955770835827, 0.027069520864196353, 0.032970555853472854, 0.041672097582272846, 0.052670152391818194, 0.06376596478016103, 0.07213390100467632, 0.07657549404380408], \"yaxis\": \"y\", \"type\": \"scatter\"}, {\"hoverlabel\": {\"namelength\": 0}, \"hovertemplate\": \"<b>%{hovertext}</b><br><br>Method=left<br>HomochiralChainLength=%{marker.size}<br>NumberMonomer=%{x}<br>Breakprob=%{y}\", \"hovertext\": [\"left\", \"left\", \"left\", \"left\", \"left\", \"left\", \"left\", \"left\", \"left\", \"left\", \"left\", \"left\", \"left\", \"left\", \"left\", \"left\", \"left\", \"left\", \"left\", \"left\", \"left\", \"left\", \"left\", \"left\", \"left\", \"left\"], \"legendgroup\": \"Method=left\", \"marker\": {\"color\": \"#00cc96\", \"size\": [27, 27, 27, 27, 27, 27, 27, 27, 27, 27, 27, 27, 27, 27, 27, 27, 27, 27, 27, 27, 27, 27, 27, 27, 27, 27], \"sizemode\": \"area\", \"sizeref\": 0.075, \"symbol\": \"circle\"}, \"mode\": \"markers\", \"name\": \"Method=left\", \"showlegend\": true, \"x\": [1, 2, 3, 4, 5, 6, 7, 8, 9, 10, 11, 12, 13, 14, 15, 16, 17, 18, 19, 20, 21, 22, 23, 24, 25, 26], \"xaxis\": \"x\", \"y\": [0.04521932347426461, 0.022609662410952754, 0.0169572478189453, 0.01483759361035613, 0.01391024732617027, 0.013475558522874484, 0.013265015571459227, 0.013161407740700262, 0.013110046002569792, 0.01308454027109101, 0.013071961862041206, 0.013065977810161857, 0.013063585212137659, 0.013063585212137659, 0.01306597781016186, 0.013071961862041204, 0.013084540271091011, 0.013110046002569788, 0.013161407740700265, 0.013265015571459225, 0.013475558522874484, 0.013910247326170272, 0.014837593610356126, 0.01695724781894529, 0.022609662410952754, 0.04521932347426461], \"yaxis\": \"y\", \"type\": \"scatter\"}, {\"hoverlabel\": {\"namelength\": 0}, \"hovertemplate\": \"<b>%{hovertext}</b><br><br>Method=right<br>HomochiralChainLength=%{marker.size}<br>NumberMonomer=%{x}<br>Breakprob=%{y}\", \"hovertext\": [\"right\", \"right\", \"right\", \"right\", \"right\", \"right\", \"right\", \"right\", \"right\", \"right\", \"right\", \"right\", \"right\", \"right\", \"right\", \"right\", \"right\", \"right\", \"right\", \"right\", \"right\", \"right\", \"right\", \"right\", \"right\", \"right\"], \"legendgroup\": \"Method=right\", \"marker\": {\"color\": \"#ab63fa\", \"size\": [27, 27, 27, 27, 27, 27, 27, 27, 27, 27, 27, 27, 27, 27, 27, 27, 27, 27, 27, 27, 27, 27, 27, 27, 27, 27], \"sizemode\": \"area\", \"sizeref\": 0.075, \"symbol\": \"circle\"}, \"mode\": \"markers\", \"name\": \"Method=right\", \"showlegend\": true, \"x\": [1, 2, 3, 4, 5, 6, 7, 8, 9, 10, 11, 12, 13, 14, 15, 16, 17, 18, 19, 20, 21, 22, 23, 24, 25, 26], \"xaxis\": \"x\", \"y\": [0.04521932347426461, 0.022609662410952754, 0.0169572478189453, 0.01483759361035613, 0.01391024732617027, 0.013475558522874484, 0.013265015571459227, 0.013161407740700262, 0.013110046002569792, 0.01308454027109101, 0.013071961862041206, 0.013065977810161857, 0.013063585212137659, 0.013063585212137659, 0.01306597781016186, 0.013071961862041204, 0.013084540271091011, 0.013110046002569788, 0.013161407740700265, 0.013265015571459225, 0.013475558522874484, 0.013910247326170272, 0.014837593610356126, 0.01695724781894529, 0.022609662410952754, 0.04521932347426461], \"yaxis\": \"y\", \"type\": \"scatter\"}], \"name\": \"27\"}, {\"data\": [{\"hoverlabel\": {\"namelength\": 0}, \"hovertemplate\": \"<b>%{hovertext}</b><br><br>Method=Normal<br>HomochiralChainLength=%{marker.size}<br>NumberMonomer=%{x}<br>Breakprob=%{y}\", \"hovertext\": [\"Normal\", \"Normal\", \"Normal\", \"Normal\", \"Normal\", \"Normal\", \"Normal\", \"Normal\", \"Normal\", \"Normal\", \"Normal\", \"Normal\", \"Normal\", \"Normal\", \"Normal\", \"Normal\", \"Normal\", \"Normal\", \"Normal\", \"Normal\", \"Normal\", \"Normal\", \"Normal\", \"Normal\", \"Normal\", \"Normal\", \"Normal\"], \"legendgroup\": \"Method=Normal\", \"marker\": {\"color\": \"#636efa\", \"size\": [28, 28, 28, 28, 28, 28, 28, 28, 28, 28, 28, 28, 28, 28, 28, 28, 28, 28, 28, 28, 28, 28, 28, 28, 28, 28, 28], \"sizemode\": \"area\", \"sizeref\": 0.075, \"symbol\": \"circle\"}, \"mode\": \"markers\", \"name\": \"Method=Normal\", \"showlegend\": true, \"x\": [1, 2, 3, 4, 5, 6, 7, 8, 9, 10, 11, 12, 13, 14, 15, 16, 17, 18, 19, 20, 21, 22, 23, 24, 25, 26, 27], \"xaxis\": \"x\", \"y\": [0.0721970248474701, 0.03609851296164481, 0.027073885528098272, 0.023689651249099237, 0.022209050693555693, 0.021515022988963284, 0.021178860853628554, 0.02101342104316953, 0.02093137729065351, 0.020890575385603502, 0.020870333661088, 0.020860461373859895, 0.020856004962543112, 0.020854731935322057, 0.020856004962543112, 0.020860461373859895, 0.020870333661088, 0.020890575385603502, 0.020931377290653513, 0.021013421043169535, 0.021178860853628554, 0.021515022988963284, 0.022209050693555693, 0.023689651249099233, 0.027073885528098276, 0.03609851296164481, 0.0721970248474701], \"yaxis\": \"y\", \"type\": \"scatter\"}, {\"hoverlabel\": {\"namelength\": 0}, \"hovertemplate\": \"<b>%{hovertext}</b><br><br>Method=poisson<br>HomochiralChainLength=%{marker.size}<br>NumberMonomer=%{x}<br>Breakprob=%{y}\", \"hovertext\": [\"poisson\", \"poisson\", \"poisson\", \"poisson\", \"poisson\", \"poisson\", \"poisson\", \"poisson\", \"poisson\", \"poisson\", \"poisson\", \"poisson\", \"poisson\", \"poisson\", \"poisson\", \"poisson\", \"poisson\", \"poisson\", \"poisson\", \"poisson\", \"poisson\", \"poisson\", \"poisson\", \"poisson\", \"poisson\", \"poisson\", \"poisson\"], \"legendgroup\": \"Method=poisson\", \"marker\": {\"color\": \"#EF553B\", \"size\": [28, 28, 28, 28, 28, 28, 28, 28, 28, 28, 28, 28, 28, 28, 28, 28, 28, 28, 28, 28, 28, 28, 28, 28, 28, 28, 28], \"sizemode\": \"area\", \"sizeref\": 0.075, \"symbol\": \"circle\"}, \"mode\": \"markers\", \"name\": \"Method=poisson\", \"showlegend\": true, \"x\": [1, 2, 3, 4, 5, 6, 7, 8, 9, 10, 11, 12, 13, 14, 15, 16, 17, 18, 19, 20, 21, 22, 23, 24, 25, 26, 27], \"xaxis\": \"x\", \"y\": [0.07525997286723471, 0.07089468366419172, 0.06267050330190545, 0.05176530942528376, 0.04095619185681796, 0.03240412921077347, 0.02660444588826834, 0.023033228537368673, 0.02097208565167124, 0.01984633039330922, 0.019266062860078374, 0.018986845627927344, 0.018866716806796618, 0.01883388939262426, 0.01886671680679662, 0.018986845627927348, 0.01926606286007837, 0.01984633039330922, 0.020972085651671243, 0.023033228537368673, 0.026604445888268338, 0.032404129210773465, 0.04095619185681797, 0.05176530942528377, 0.06267050330190549, 0.0708946836641917, 0.07525997286723471], \"yaxis\": \"y\", \"type\": \"scatter\"}, {\"hoverlabel\": {\"namelength\": 0}, \"hovertemplate\": \"<b>%{hovertext}</b><br><br>Method=left<br>HomochiralChainLength=%{marker.size}<br>NumberMonomer=%{x}<br>Breakprob=%{y}\", \"hovertext\": [\"left\", \"left\", \"left\", \"left\", \"left\", \"left\", \"left\", \"left\", \"left\", \"left\", \"left\", \"left\", \"left\", \"left\", \"left\", \"left\", \"left\", \"left\", \"left\", \"left\", \"left\", \"left\", \"left\", \"left\", \"left\", \"left\", \"left\"], \"legendgroup\": \"Method=left\", \"marker\": {\"color\": \"#00cc96\", \"size\": [28, 28, 28, 28, 28, 28, 28, 28, 28, 28, 28, 28, 28, 28, 28, 28, 28, 28, 28, 28, 28, 28, 28, 28, 28, 28, 28], \"sizemode\": \"area\", \"sizeref\": 0.075, \"symbol\": \"circle\"}, \"mode\": \"markers\", \"name\": \"Method=left\", \"showlegend\": true, \"x\": [1, 2, 3, 4, 5, 6, 7, 8, 9, 10, 11, 12, 13, 14, 15, 16, 17, 18, 19, 20, 21, 22, 23, 24, 25, 26, 27], \"xaxis\": \"x\", \"y\": [0.044442481900543465, 0.022221241281394032, 0.01666593145772899, 0.014582690894708972, 0.013671274343532564, 0.013244050177924797, 0.01303711811047707, 0.012935277961281334, 0.01288477410750136, 0.01285965758877329, 0.01284719734574642, 0.012841120240112516, 0.012838376997164407, 0.012837593356988782, 0.012838376997164403, 0.012841120240112516, 0.01284719734574642, 0.012859657588773285, 0.012884774107501358, 0.012935277961281336, 0.013037118110477074, 0.013244050177924797, 0.013671274343532568, 0.01458269089470897, 0.016665931457728985, 0.022221241281394032, 0.044442481900543465], \"yaxis\": \"y\", \"type\": \"scatter\"}, {\"hoverlabel\": {\"namelength\": 0}, \"hovertemplate\": \"<b>%{hovertext}</b><br><br>Method=right<br>HomochiralChainLength=%{marker.size}<br>NumberMonomer=%{x}<br>Breakprob=%{y}\", \"hovertext\": [\"right\", \"right\", \"right\", \"right\", \"right\", \"right\", \"right\", \"right\", \"right\", \"right\", \"right\", \"right\", \"right\", \"right\", \"right\", \"right\", \"right\", \"right\", \"right\", \"right\", \"right\", \"right\", \"right\", \"right\", \"right\", \"right\", \"right\"], \"legendgroup\": \"Method=right\", \"marker\": {\"color\": \"#ab63fa\", \"size\": [28, 28, 28, 28, 28, 28, 28, 28, 28, 28, 28, 28, 28, 28, 28, 28, 28, 28, 28, 28, 28, 28, 28, 28, 28, 28, 28], \"sizemode\": \"area\", \"sizeref\": 0.075, \"symbol\": \"circle\"}, \"mode\": \"markers\", \"name\": \"Method=right\", \"showlegend\": true, \"x\": [1, 2, 3, 4, 5, 6, 7, 8, 9, 10, 11, 12, 13, 14, 15, 16, 17, 18, 19, 20, 21, 22, 23, 24, 25, 26, 27], \"xaxis\": \"x\", \"y\": [0.044442481900543465, 0.022221241281394032, 0.01666593145772899, 0.014582690894708972, 0.013671274343532564, 0.013244050177924797, 0.01303711811047707, 0.012935277961281334, 0.01288477410750136, 0.01285965758877329, 0.01284719734574642, 0.012841120240112516, 0.012838376997164407, 0.012837593356988782, 0.012838376997164403, 0.012841120240112516, 0.01284719734574642, 0.012859657588773285, 0.012884774107501358, 0.012935277961281336, 0.013037118110477074, 0.013244050177924797, 0.013671274343532568, 0.01458269089470897, 0.016665931457728985, 0.022221241281394032, 0.044442481900543465], \"yaxis\": \"y\", \"type\": \"scatter\"}], \"name\": \"28\"}, {\"data\": [{\"hoverlabel\": {\"namelength\": 0}, \"hovertemplate\": \"<b>%{hovertext}</b><br><br>Method=Normal<br>HomochiralChainLength=%{marker.size}<br>NumberMonomer=%{x}<br>Breakprob=%{y}\", \"hovertext\": [\"Normal\", \"Normal\", \"Normal\", \"Normal\", \"Normal\", \"Normal\", \"Normal\", \"Normal\", \"Normal\", \"Normal\", \"Normal\", \"Normal\", \"Normal\", \"Normal\", \"Normal\", \"Normal\", \"Normal\", \"Normal\", \"Normal\", \"Normal\", \"Normal\", \"Normal\", \"Normal\", \"Normal\", \"Normal\", \"Normal\", \"Normal\", \"Normal\"], \"legendgroup\": \"Method=Normal\", \"marker\": {\"color\": \"#636efa\", \"size\": [29, 29, 29, 29, 29, 29, 29, 29, 29, 29, 29, 29, 29, 29, 29, 29, 29, 29, 29, 29, 29, 29, 29, 29, 29, 29, 29, 29], \"sizemode\": \"area\", \"sizeref\": 0.075, \"symbol\": \"circle\"}, \"mode\": \"markers\", \"name\": \"Method=Normal\", \"showlegend\": true, \"x\": [1, 2, 3, 4, 5, 6, 7, 8, 9, 10, 11, 12, 13, 14, 15, 16, 17, 18, 19, 20, 21, 22, 23, 24, 25, 26, 27, 28], \"xaxis\": \"x\", \"y\": [0.07219702430956035, 0.03609851242373505, 0.027073884721233607, 0.023689649837085987, 0.022209048046030536, 0.021515017859382077, 0.021178850754760732, 0.02101340100320958, 0.020931337367219652, 0.020890495694382703, 0.0208701744330785, 0.02086014306848005, 0.020855368487782293, 0.02085345906349983, 0.02085345906349983, 0.020855368487782293, 0.020860143068480046, 0.020870174433078502, 0.020890495694382703, 0.020931337367219655, 0.021013401003209586, 0.021178850754760732, 0.021515017859382073, 0.02220904804603054, 0.023689649837085987, 0.02707388472123361, 0.03609851242373505, 0.07219702430956035], \"yaxis\": \"y\", \"type\": \"scatter\"}, {\"hoverlabel\": {\"namelength\": 0}, \"hovertemplate\": \"<b>%{hovertext}</b><br><br>Method=poisson<br>HomochiralChainLength=%{marker.size}<br>NumberMonomer=%{x}<br>Breakprob=%{y}\", \"hovertext\": [\"poisson\", \"poisson\", \"poisson\", \"poisson\", \"poisson\", \"poisson\", \"poisson\", \"poisson\", \"poisson\", \"poisson\", \"poisson\", \"poisson\", \"poisson\", \"poisson\", \"poisson\", \"poisson\", \"poisson\", \"poisson\", \"poisson\", \"poisson\", \"poisson\", \"poisson\", \"poisson\", \"poisson\", \"poisson\", \"poisson\", \"poisson\", \"poisson\"], \"legendgroup\": \"Method=poisson\", \"marker\": {\"color\": \"#EF553B\", \"size\": [29, 29, 29, 29, 29, 29, 29, 29, 29, 29, 29, 29, 29, 29, 29, 29, 29, 29, 29, 29, 29, 29, 29, 29, 29, 29, 29, 29], \"sizemode\": \"area\", \"sizeref\": 0.075, \"symbol\": \"circle\"}, \"mode\": \"markers\", \"name\": \"Method=poisson\", \"showlegend\": true, \"x\": [1, 2, 3, 4, 5, 6, 7, 8, 9, 10, 11, 12, 13, 14, 15, 16, 17, 18, 19, 20, 21, 22, 23, 24, 25, 26, 27, 28], \"xaxis\": \"x\", \"y\": [0.0739670515750742, 0.06967675541141308, 0.06159386148235953, 0.0508760120927509, 0.04025258800426042, 0.03184744253128554, 0.026147387565310726, 0.022637500136363623, 0.020611697958627193, 0.019505067461463445, 0.018934115543607515, 0.018657801402022372, 0.018534541385299034, 0.018488887775702477, 0.018488887775702477, 0.018534541385299037, 0.01865780140202238, 0.018934115543607518, 0.01950506746146346, 0.02061169795862719, 0.02263750013636363, 0.026147387565310726, 0.03184744253128555, 0.04025258800426042, 0.05087601209275093, 0.06159386148235955, 0.06967675541141312, 0.0739670515750742], \"yaxis\": \"y\", \"type\": \"scatter\"}, {\"hoverlabel\": {\"namelength\": 0}, \"hovertemplate\": \"<b>%{hovertext}</b><br><br>Method=left<br>HomochiralChainLength=%{marker.size}<br>NumberMonomer=%{x}<br>Breakprob=%{y}\", \"hovertext\": [\"left\", \"left\", \"left\", \"left\", \"left\", \"left\", \"left\", \"left\", \"left\", \"left\", \"left\", \"left\", \"left\", \"left\", \"left\", \"left\", \"left\", \"left\", \"left\", \"left\", \"left\", \"left\", \"left\", \"left\", \"left\", \"left\", \"left\", \"left\"], \"legendgroup\": \"Method=left\", \"marker\": {\"color\": \"#00cc96\", \"size\": [29, 29, 29, 29, 29, 29, 29, 29, 29, 29, 29, 29, 29, 29, 29, 29, 29, 29, 29, 29, 29, 29, 29, 29, 29, 29, 29, 29], \"sizemode\": \"area\", \"sizeref\": 0.075, \"symbol\": \"circle\"}, \"mode\": \"markers\", \"name\": \"Method=left\", \"showlegend\": true, \"x\": [1, 2, 3, 4, 5, 6, 7, 8, 9, 10, 11, 12, 13, 14, 15, 16, 17, 18, 19, 20, 21, 22, 23, 24, 25, 26, 27, 28], \"xaxis\": \"x\", \"y\": [0.04367898633689479, 0.021839493331164302, 0.016379620242448586, 0.014332168139274412, 0.013436408431442113, 0.013016522219649915, 0.01281314211485902, 0.012713045504139174, 0.012663397246895344, 0.012638688155532074, 0.01262639385250029, 0.012620324906564824, 0.012617436299353437, 0.012616281103305644, 0.012616281103305642, 0.012617436299353434, 0.012620324906564829, 0.01262639385250029, 0.012638688155532079, 0.012663397246895348, 0.01271304550413917, 0.012813142114859021, 0.01301652221964991, 0.013436408431442112, 0.01433216813927441, 0.016379620242448593, 0.021839493331164302, 0.04367898633689479], \"yaxis\": \"y\", \"type\": \"scatter\"}, {\"hoverlabel\": {\"namelength\": 0}, \"hovertemplate\": \"<b>%{hovertext}</b><br><br>Method=right<br>HomochiralChainLength=%{marker.size}<br>NumberMonomer=%{x}<br>Breakprob=%{y}\", \"hovertext\": [\"right\", \"right\", \"right\", \"right\", \"right\", \"right\", \"right\", \"right\", \"right\", \"right\", \"right\", \"right\", \"right\", \"right\", \"right\", \"right\", \"right\", \"right\", \"right\", \"right\", \"right\", \"right\", \"right\", \"right\", \"right\", \"right\", \"right\", \"right\"], \"legendgroup\": \"Method=right\", \"marker\": {\"color\": \"#ab63fa\", \"size\": [29, 29, 29, 29, 29, 29, 29, 29, 29, 29, 29, 29, 29, 29, 29, 29, 29, 29, 29, 29, 29, 29, 29, 29, 29, 29, 29, 29], \"sizemode\": \"area\", \"sizeref\": 0.075, \"symbol\": \"circle\"}, \"mode\": \"markers\", \"name\": \"Method=right\", \"showlegend\": true, \"x\": [1, 2, 3, 4, 5, 6, 7, 8, 9, 10, 11, 12, 13, 14, 15, 16, 17, 18, 19, 20, 21, 22, 23, 24, 25, 26, 27, 28], \"xaxis\": \"x\", \"y\": [0.04367898633689479, 0.021839493331164302, 0.016379620242448586, 0.014332168139274412, 0.013436408431442113, 0.013016522219649915, 0.01281314211485902, 0.012713045504139174, 0.012663397246895344, 0.012638688155532074, 0.01262639385250029, 0.012620324906564824, 0.012617436299353437, 0.012616281103305644, 0.012616281103305642, 0.012617436299353434, 0.012620324906564829, 0.01262639385250029, 0.012638688155532079, 0.012663397246895348, 0.01271304550413917, 0.012813142114859021, 0.01301652221964991, 0.013436408431442112, 0.01433216813927441, 0.016379620242448593, 0.021839493331164302, 0.04367898633689479], \"yaxis\": \"y\", \"type\": \"scatter\"}], \"name\": \"29\"}, {\"data\": [{\"hoverlabel\": {\"namelength\": 0}, \"hovertemplate\": \"<b>%{hovertext}</b><br><br>Method=Normal<br>HomochiralChainLength=%{marker.size}<br>NumberMonomer=%{x}<br>Breakprob=%{y}\", \"hovertext\": [\"Normal\", \"Normal\", \"Normal\", \"Normal\", \"Normal\", \"Normal\", \"Normal\", \"Normal\", \"Normal\", \"Normal\", \"Normal\", \"Normal\", \"Normal\", \"Normal\", \"Normal\", \"Normal\", \"Normal\", \"Normal\", \"Normal\", \"Normal\", \"Normal\", \"Normal\", \"Normal\", \"Normal\", \"Normal\", \"Normal\", \"Normal\", \"Normal\", \"Normal\"], \"legendgroup\": \"Method=Normal\", \"marker\": {\"color\": \"#636efa\", \"size\": [30, 30, 30, 30, 30, 30, 30, 30, 30, 30, 30, 30, 30, 30, 30, 30, 30, 30, 30, 30, 30, 30, 30, 30, 30, 30, 30, 30, 30], \"sizemode\": \"area\", \"sizeref\": 0.075, \"symbol\": \"circle\"}, \"mode\": \"markers\", \"name\": \"Method=Normal\", \"showlegend\": true, \"x\": [1, 2, 3, 4, 5, 6, 7, 8, 9, 10, 11, 12, 13, 14, 15, 16, 17, 18, 19, 20, 21, 22, 23, 24, 25, 26, 27, 28, 29], \"xaxis\": \"x\", \"y\": [0.07219702404060548, 0.036098512154780174, 0.02707388431780129, 0.023689649131079404, 0.022209046722268113, 0.021515015294592082, 0.02117884570532923, 0.021013390983239164, 0.020931317405540793, 0.0208904558489243, 0.02087009481968116, 0.020859983918218597, 0.020855050260113722, 0.020852822666433686, 0.020852186269367537, 0.020852822666433686, 0.02085505026011372, 0.020859983918218597, 0.02087009481968116, 0.0208904558489243, 0.0209313174055408, 0.021013390983239167, 0.021178845705329227, 0.02151501529459208, 0.02220904672226812, 0.023689649131079404, 0.02707388431780129, 0.036098512154780174, 0.07219702404060548], \"yaxis\": \"y\", \"type\": \"scatter\"}, {\"hoverlabel\": {\"namelength\": 0}, \"hovertemplate\": \"<b>%{hovertext}</b><br><br>Method=poisson<br>HomochiralChainLength=%{marker.size}<br>NumberMonomer=%{x}<br>Breakprob=%{y}\", \"hovertext\": [\"poisson\", \"poisson\", \"poisson\", \"poisson\", \"poisson\", \"poisson\", \"poisson\", \"poisson\", \"poisson\", \"poisson\", \"poisson\", \"poisson\", \"poisson\", \"poisson\", \"poisson\", \"poisson\", \"poisson\", \"poisson\", \"poisson\", \"poisson\", \"poisson\", \"poisson\", \"poisson\", \"poisson\", \"poisson\", \"poisson\", \"poisson\", \"poisson\", \"poisson\"], \"legendgroup\": \"Method=poisson\", \"marker\": {\"color\": \"#EF553B\", \"size\": [30, 30, 30, 30, 30, 30, 30, 30, 30, 30, 30, 30, 30, 30, 30, 30, 30, 30, 30, 30, 30, 30, 30, 30, 30, 30, 30, 30, 30], \"sizemode\": \"area\", \"sizeref\": 0.075, \"symbol\": \"circle\"}, \"mode\": \"markers\", \"name\": \"Method=poisson\", \"showlegend\": true, \"x\": [1, 2, 3, 4, 5, 6, 7, 8, 9, 10, 11, 12, 13, 14, 15, 16, 17, 18, 19, 20, 21, 22, 23, 24, 25, 26, 27, 28, 29], \"xaxis\": \"x\", \"y\": [0.07269634190066576, 0.06847975045369153, 0.06053571579047059, 0.05000199258844114, 0.03956107240168493, 0.03130032176045181, 0.025698188567666414, 0.022248593038214245, 0.02025757329642741, 0.019169889244959028, 0.01860853838882547, 0.01833633421115791, 0.018213335644116892, 0.01816336457244418, 0.018150205942931343, 0.01816336457244419, 0.018213335644116885, 0.018336334211157903, 0.018608538388825466, 0.019169889244959014, 0.020257573296427404, 0.022248593038214234, 0.02569818856766641, 0.03130032176045179, 0.039561072401684896, 0.05000199258844111, 0.060535715790470575, 0.0684797504536915, 0.07269634190066576], \"yaxis\": \"y\", \"type\": \"scatter\"}, {\"hoverlabel\": {\"namelength\": 0}, \"hovertemplate\": \"<b>%{hovertext}</b><br><br>Method=left<br>HomochiralChainLength=%{marker.size}<br>NumberMonomer=%{x}<br>Breakprob=%{y}\", \"hovertext\": [\"left\", \"left\", \"left\", \"left\", \"left\", \"left\", \"left\", \"left\", \"left\", \"left\", \"left\", \"left\", \"left\", \"left\", \"left\", \"left\", \"left\", \"left\", \"left\", \"left\", \"left\", \"left\", \"left\", \"left\", \"left\", \"left\", \"left\", \"left\", \"left\"], \"legendgroup\": \"Method=left\", \"marker\": {\"color\": \"#00cc96\", \"size\": [30, 30, 30, 30, 30, 30, 30, 30, 30, 30, 30, 30, 30, 30, 30, 30, 30, 30, 30, 30, 30, 30, 30, 30, 30, 30, 30, 30, 30], \"sizemode\": \"area\", \"sizeref\": 0.075, \"symbol\": \"circle\"}, \"mode\": \"markers\", \"name\": \"Method=left\", \"showlegend\": true, \"x\": [1, 2, 3, 4, 5, 6, 7, 8, 9, 10, 11, 12, 13, 14, 15, 16, 17, 18, 19, 20, 21, 22, 23, 24, 25, 26, 27, 28, 29], \"xaxis\": \"x\", \"y\": [0.042928607335555265, 0.021464303747738396, 0.016098227930744943, 0.014085949649298832, 0.013205578189774553, 0.012792904633860637, 0.012593017000161173, 0.012494637033801022, 0.012445835792524703, 0.012421539365595494, 0.012409432625173128, 0.012403420647193946, 0.01240048707653329, 0.012399162541406479, 0.012398784137446965, 0.012399162541406475, 0.012400487076533288, 0.012403420647193948, 0.012409432625173132, 0.012421539365595494, 0.012445835792524708, 0.012494637033801019, 0.012593017000161175, 0.012792904633860631, 0.013205578189774553, 0.014085949649298834, 0.016098227930744936, 0.021464303747738396, 0.042928607335555265], \"yaxis\": \"y\", \"type\": \"scatter\"}, {\"hoverlabel\": {\"namelength\": 0}, \"hovertemplate\": \"<b>%{hovertext}</b><br><br>Method=right<br>HomochiralChainLength=%{marker.size}<br>NumberMonomer=%{x}<br>Breakprob=%{y}\", \"hovertext\": [\"right\", \"right\", \"right\", \"right\", \"right\", \"right\", \"right\", \"right\", \"right\", \"right\", \"right\", \"right\", \"right\", \"right\", \"right\", \"right\", \"right\", \"right\", \"right\", \"right\", \"right\", \"right\", \"right\", \"right\", \"right\", \"right\", \"right\", \"right\", \"right\"], \"legendgroup\": \"Method=right\", \"marker\": {\"color\": \"#ab63fa\", \"size\": [30, 30, 30, 30, 30, 30, 30, 30, 30, 30, 30, 30, 30, 30, 30, 30, 30, 30, 30, 30, 30, 30, 30, 30, 30, 30, 30, 30, 30], \"sizemode\": \"area\", \"sizeref\": 0.075, \"symbol\": \"circle\"}, \"mode\": \"markers\", \"name\": \"Method=right\", \"showlegend\": true, \"x\": [1, 2, 3, 4, 5, 6, 7, 8, 9, 10, 11, 12, 13, 14, 15, 16, 17, 18, 19, 20, 21, 22, 23, 24, 25, 26, 27, 28, 29], \"xaxis\": \"x\", \"y\": [0.042928607335555265, 0.021464303747738396, 0.016098227930744943, 0.014085949649298832, 0.013205578189774553, 0.012792904633860637, 0.012593017000161173, 0.012494637033801022, 0.012445835792524703, 0.012421539365595494, 0.012409432625173128, 0.012403420647193946, 0.01240048707653329, 0.012399162541406479, 0.012398784137446965, 0.012399162541406475, 0.012400487076533288, 0.012403420647193948, 0.012409432625173132, 0.012421539365595494, 0.012445835792524708, 0.012494637033801019, 0.012593017000161175, 0.012792904633860631, 0.013205578189774553, 0.014085949649298834, 0.016098227930744936, 0.021464303747738396, 0.042928607335555265], \"yaxis\": \"y\", \"type\": \"scatter\"}], \"name\": \"30\"}]);\n",
              "                        }).then(function(){\n",
              "                            \n",
              "var gd = document.getElementById('7da8ce36-6f58-4eeb-8112-f872cb1ed364');\n",
              "var x = new MutationObserver(function (mutations, observer) {{\n",
              "        var display = window.getComputedStyle(gd).display;\n",
              "        if (!display || display === 'none') {{\n",
              "            console.log([gd, 'removed!']);\n",
              "            Plotly.purge(gd);\n",
              "            observer.disconnect();\n",
              "        }}\n",
              "}});\n",
              "\n",
              "// Listen for the removal of the full notebook cells\n",
              "var notebookContainer = gd.closest('#notebook-container');\n",
              "if (notebookContainer) {{\n",
              "    x.observe(notebookContainer, {childList: true});\n",
              "}}\n",
              "\n",
              "// Listen for the clearing of the current output cell\n",
              "var outputEl = gd.closest('.output');\n",
              "if (outputEl) {{\n",
              "    x.observe(outputEl, {childList: true});\n",
              "}}\n",
              "\n",
              "                        })\n",
              "                };\n",
              "                \n",
              "            </script>\n",
              "        </div>\n",
              "</body>\n",
              "</html>"
            ]
          },
          "metadata": {
            "tags": [
              "id11_content_5",
              "outputarea_id11",
              "user_output"
            ]
          }
        },
        {
          "output_type": "display_data",
          "data": {
            "text/html": [
              "<html>\n",
              "<head><meta charset=\"utf-8\" /></head>\n",
              "<body>\n",
              "    <div>\n",
              "            <script src=\"https://cdnjs.cloudflare.com/ajax/libs/mathjax/2.7.5/MathJax.js?config=TeX-AMS-MML_SVG\"></script><script type=\"text/javascript\">if (window.MathJax) {MathJax.Hub.Config({SVG: {font: \"STIX-Web\"}});}</script>\n",
              "                <script type=\"text/javascript\">window.PlotlyConfig = {MathJaxConfig: 'local'};</script>\n",
              "        <script src=\"https://cdn.plot.ly/plotly-latest.min.js\"></script>    \n",
              "            <div id=\"63e8b3ad-c030-4d28-ad4d-a30b7192de94\" class=\"plotly-graph-div\" style=\"height:525px; width:100%;\"></div>\n",
              "            <script type=\"text/javascript\">\n",
              "                \n",
              "                    window.PLOTLYENV=window.PLOTLYENV || {};\n",
              "                    \n",
              "                if (document.getElementById(\"63e8b3ad-c030-4d28-ad4d-a30b7192de94\")) {\n",
              "                    Plotly.newPlot(\n",
              "                        '63e8b3ad-c030-4d28-ad4d-a30b7192de94',\n",
              "                        [{\"hoverlabel\": {\"namelength\": 0}, \"hovertemplate\": \"Length=%{x}<br>BrkProb=%{y}\", \"legendgroup\": \"\", \"line\": {\"color\": \"#636efa\", \"dash\": \"solid\"}, \"mode\": \"lines\", \"name\": \"\", \"showlegend\": false, \"type\": \"scatter\", \"x\": [0, 1, 2, 3, 4, 5, 6, 7, 8, 9, 10, 11, 12, 13, 14, 15, 16, 17, 18, 19, 20, 21, 22, 23, 24, 25, 26, 27, 28, 29, 30, 31, 32, 33, 34, 35, 36, 37, 38, 39, 40, 41, 42, 43, 44, 45, 46, 47, 48, 49, 50, 51, 52, 53, 54, 55, 56, 57, 58, 59, 60, 61, 62, 63, 64, 65, 66, 67, 68, 69, 70, 71, 72, 73, 74, 75, 76, 77, 78, 79, 80, 81, 82, 83, 84, 85, 86, 87, 88, 89, 90, 91, 92, 93, 94, 95, 96, 97, 98, 99], \"xaxis\": \"x\", \"y\": [0.5, 0.49141029927262553, 0.4829681644624228, 0.4746710604752596, 0.4665164957684037, 0.4585020216023356, 0.4506252313054151, 0.4428837595511803, 0.43527528164806206, 0.4277975128413011, 0.42044820762685725, 0.41322515907710583, 0.4061261981781178, 0.3991491931783249, 0.3922920489483754, 0.3855527063519852, 0.3789291416275995, 0.3724193657806756, 0.36602142398640636, 0.359733395002705, 0.3535533905932738, 0.34747955496058425, 0.34151006418859886, 0.3356431256950659, 0.32987697769322355, 0.3242098886627524, 0.31864015682981556, 0.313166109656032, 0.3077861033362291, 0.30249852230482316, 0.29730177875068026, 0.2921943121403114, 0.2871745887492587, 0.28224110120153284, 0.27739236801696127, 0.2726269331663144, 0.2679433656340733, 0.26334025898870894, 0.2588162309603444, 0.25436992302567163, 0.25, 0.2457051496363128, 0.24148408223121137, 0.23733553023762982, 0.23325824788420185, 0.2292510108011678, 0.22531261565270758, 0.22144187977559013, 0.21763764082403103, 0.21389875642065054, 0.21022410381342863, 0.20661257953855294, 0.20306309908905887, 0.1995745965891625, 0.19614602447418766, 0.1927763531759926, 0.18946457081379978, 0.1862096828903378, 0.18301071199320318, 0.17986669750135248, 0.1767766952966369, 0.17373977748029215, 0.17075503209429943, 0.16782156284753294, 0.16493848884661177, 0.1621049443313762, 0.15932007841490778, 0.156583054828016, 0.15389305166811454, 0.15124926115241158, 0.14865088937534013, 0.1460971560701557, 0.14358729437462936, 0.14112055060076642, 0.1386961840084806, 0.1363134665831572, 0.13397168281703664, 0.13167012949435447, 0.1294081154801722, 0.1271849615128358, 0.125, 0.1228525748181564, 0.12074204111560571, 0.11866776511881488, 0.11662912394210093, 0.1146255054005839, 0.11265630782635379, 0.11072093988779509, 0.1088188204120155, 0.10694937821032527, 0.10511205190671431, 0.10330628976927647, 0.10153154954452945, 0.09978729829458123, 0.09807301223709383, 0.0963881765879963, 0.09473228540689989, 0.09310484144516891, 0.09150535599660158, 0.08993334875067624], \"yaxis\": \"y\"}],\n",
              "                        {\"legend\": {\"tracegroupgap\": 0}, \"template\": {\"data\": {\"bar\": [{\"error_x\": {\"color\": \"#2a3f5f\"}, \"error_y\": {\"color\": \"#2a3f5f\"}, \"marker\": {\"line\": {\"color\": \"#E5ECF6\", \"width\": 0.5}}, \"type\": \"bar\"}], \"barpolar\": [{\"marker\": {\"line\": {\"color\": \"#E5ECF6\", \"width\": 0.5}}, \"type\": \"barpolar\"}], \"carpet\": [{\"aaxis\": {\"endlinecolor\": \"#2a3f5f\", \"gridcolor\": \"white\", \"linecolor\": \"white\", \"minorgridcolor\": \"white\", \"startlinecolor\": \"#2a3f5f\"}, \"baxis\": {\"endlinecolor\": \"#2a3f5f\", \"gridcolor\": \"white\", \"linecolor\": \"white\", \"minorgridcolor\": \"white\", \"startlinecolor\": \"#2a3f5f\"}, \"type\": \"carpet\"}], \"choropleth\": [{\"colorbar\": {\"outlinewidth\": 0, \"ticks\": \"\"}, \"type\": \"choropleth\"}], \"contour\": [{\"colorbar\": {\"outlinewidth\": 0, \"ticks\": \"\"}, \"colorscale\": [[0.0, \"#0d0887\"], [0.1111111111111111, \"#46039f\"], [0.2222222222222222, \"#7201a8\"], [0.3333333333333333, \"#9c179e\"], [0.4444444444444444, \"#bd3786\"], [0.5555555555555556, \"#d8576b\"], [0.6666666666666666, \"#ed7953\"], [0.7777777777777778, \"#fb9f3a\"], [0.8888888888888888, \"#fdca26\"], [1.0, \"#f0f921\"]], \"type\": \"contour\"}], \"contourcarpet\": [{\"colorbar\": {\"outlinewidth\": 0, \"ticks\": \"\"}, \"type\": \"contourcarpet\"}], \"heatmap\": [{\"colorbar\": {\"outlinewidth\": 0, \"ticks\": \"\"}, \"colorscale\": [[0.0, \"#0d0887\"], [0.1111111111111111, \"#46039f\"], [0.2222222222222222, \"#7201a8\"], [0.3333333333333333, \"#9c179e\"], [0.4444444444444444, \"#bd3786\"], [0.5555555555555556, \"#d8576b\"], [0.6666666666666666, \"#ed7953\"], [0.7777777777777778, \"#fb9f3a\"], [0.8888888888888888, \"#fdca26\"], [1.0, \"#f0f921\"]], \"type\": \"heatmap\"}], \"heatmapgl\": [{\"colorbar\": {\"outlinewidth\": 0, \"ticks\": \"\"}, \"colorscale\": [[0.0, \"#0d0887\"], [0.1111111111111111, \"#46039f\"], [0.2222222222222222, \"#7201a8\"], [0.3333333333333333, \"#9c179e\"], [0.4444444444444444, \"#bd3786\"], [0.5555555555555556, \"#d8576b\"], [0.6666666666666666, \"#ed7953\"], [0.7777777777777778, \"#fb9f3a\"], [0.8888888888888888, \"#fdca26\"], [1.0, \"#f0f921\"]], \"type\": \"heatmapgl\"}], \"histogram\": [{\"marker\": {\"colorbar\": {\"outlinewidth\": 0, \"ticks\": \"\"}}, \"type\": \"histogram\"}], \"histogram2d\": [{\"colorbar\": {\"outlinewidth\": 0, \"ticks\": \"\"}, \"colorscale\": [[0.0, \"#0d0887\"], [0.1111111111111111, \"#46039f\"], [0.2222222222222222, \"#7201a8\"], [0.3333333333333333, \"#9c179e\"], [0.4444444444444444, \"#bd3786\"], [0.5555555555555556, \"#d8576b\"], [0.6666666666666666, \"#ed7953\"], [0.7777777777777778, \"#fb9f3a\"], [0.8888888888888888, \"#fdca26\"], [1.0, \"#f0f921\"]], \"type\": \"histogram2d\"}], \"histogram2dcontour\": [{\"colorbar\": {\"outlinewidth\": 0, \"ticks\": \"\"}, \"colorscale\": [[0.0, \"#0d0887\"], [0.1111111111111111, \"#46039f\"], [0.2222222222222222, \"#7201a8\"], [0.3333333333333333, \"#9c179e\"], [0.4444444444444444, \"#bd3786\"], [0.5555555555555556, \"#d8576b\"], [0.6666666666666666, \"#ed7953\"], [0.7777777777777778, \"#fb9f3a\"], [0.8888888888888888, \"#fdca26\"], [1.0, \"#f0f921\"]], \"type\": \"histogram2dcontour\"}], \"mesh3d\": [{\"colorbar\": {\"outlinewidth\": 0, \"ticks\": \"\"}, \"type\": \"mesh3d\"}], \"parcoords\": [{\"line\": {\"colorbar\": {\"outlinewidth\": 0, \"ticks\": \"\"}}, \"type\": \"parcoords\"}], \"pie\": [{\"automargin\": true, \"type\": \"pie\"}], \"scatter\": [{\"marker\": {\"colorbar\": {\"outlinewidth\": 0, \"ticks\": \"\"}}, \"type\": \"scatter\"}], \"scatter3d\": [{\"line\": {\"colorbar\": {\"outlinewidth\": 0, \"ticks\": \"\"}}, \"marker\": {\"colorbar\": {\"outlinewidth\": 0, \"ticks\": \"\"}}, \"type\": \"scatter3d\"}], \"scattercarpet\": [{\"marker\": {\"colorbar\": {\"outlinewidth\": 0, \"ticks\": \"\"}}, \"type\": \"scattercarpet\"}], \"scattergeo\": [{\"marker\": {\"colorbar\": {\"outlinewidth\": 0, \"ticks\": \"\"}}, \"type\": \"scattergeo\"}], \"scattergl\": [{\"marker\": {\"colorbar\": {\"outlinewidth\": 0, \"ticks\": \"\"}}, \"type\": \"scattergl\"}], \"scattermapbox\": [{\"marker\": {\"colorbar\": {\"outlinewidth\": 0, \"ticks\": \"\"}}, \"type\": \"scattermapbox\"}], \"scatterpolar\": [{\"marker\": {\"colorbar\": {\"outlinewidth\": 0, \"ticks\": \"\"}}, \"type\": \"scatterpolar\"}], \"scatterpolargl\": [{\"marker\": {\"colorbar\": {\"outlinewidth\": 0, \"ticks\": \"\"}}, \"type\": \"scatterpolargl\"}], \"scatterternary\": [{\"marker\": {\"colorbar\": {\"outlinewidth\": 0, \"ticks\": \"\"}}, \"type\": \"scatterternary\"}], \"surface\": [{\"colorbar\": {\"outlinewidth\": 0, \"ticks\": \"\"}, \"colorscale\": [[0.0, \"#0d0887\"], [0.1111111111111111, \"#46039f\"], [0.2222222222222222, \"#7201a8\"], [0.3333333333333333, \"#9c179e\"], [0.4444444444444444, \"#bd3786\"], [0.5555555555555556, \"#d8576b\"], [0.6666666666666666, \"#ed7953\"], [0.7777777777777778, \"#fb9f3a\"], [0.8888888888888888, \"#fdca26\"], [1.0, \"#f0f921\"]], \"type\": \"surface\"}], \"table\": [{\"cells\": {\"fill\": {\"color\": \"#EBF0F8\"}, \"line\": {\"color\": \"white\"}}, \"header\": {\"fill\": {\"color\": \"#C8D4E3\"}, \"line\": {\"color\": \"white\"}}, \"type\": \"table\"}]}, \"layout\": {\"annotationdefaults\": {\"arrowcolor\": \"#2a3f5f\", \"arrowhead\": 0, \"arrowwidth\": 1}, \"coloraxis\": {\"colorbar\": {\"outlinewidth\": 0, \"ticks\": \"\"}}, \"colorscale\": {\"diverging\": [[0, \"#8e0152\"], [0.1, \"#c51b7d\"], [0.2, \"#de77ae\"], [0.3, \"#f1b6da\"], [0.4, \"#fde0ef\"], [0.5, \"#f7f7f7\"], [0.6, \"#e6f5d0\"], [0.7, \"#b8e186\"], [0.8, \"#7fbc41\"], [0.9, \"#4d9221\"], [1, \"#276419\"]], \"sequential\": [[0.0, \"#0d0887\"], [0.1111111111111111, \"#46039f\"], [0.2222222222222222, \"#7201a8\"], [0.3333333333333333, \"#9c179e\"], [0.4444444444444444, \"#bd3786\"], [0.5555555555555556, \"#d8576b\"], [0.6666666666666666, \"#ed7953\"], [0.7777777777777778, \"#fb9f3a\"], [0.8888888888888888, \"#fdca26\"], [1.0, \"#f0f921\"]], \"sequentialminus\": [[0.0, \"#0d0887\"], [0.1111111111111111, \"#46039f\"], [0.2222222222222222, \"#7201a8\"], [0.3333333333333333, \"#9c179e\"], [0.4444444444444444, \"#bd3786\"], [0.5555555555555556, \"#d8576b\"], [0.6666666666666666, \"#ed7953\"], [0.7777777777777778, \"#fb9f3a\"], [0.8888888888888888, \"#fdca26\"], [1.0, \"#f0f921\"]]}, \"colorway\": [\"#636efa\", \"#EF553B\", \"#00cc96\", \"#ab63fa\", \"#FFA15A\", \"#19d3f3\", \"#FF6692\", \"#B6E880\", \"#FF97FF\", \"#FECB52\"], \"font\": {\"color\": \"#2a3f5f\"}, \"geo\": {\"bgcolor\": \"white\", \"lakecolor\": \"white\", \"landcolor\": \"#E5ECF6\", \"showlakes\": true, \"showland\": true, \"subunitcolor\": \"white\"}, \"hoverlabel\": {\"align\": \"left\"}, \"hovermode\": \"closest\", \"mapbox\": {\"style\": \"light\"}, \"paper_bgcolor\": \"white\", \"plot_bgcolor\": \"#E5ECF6\", \"polar\": {\"angularaxis\": {\"gridcolor\": \"white\", \"linecolor\": \"white\", \"ticks\": \"\"}, \"bgcolor\": \"#E5ECF6\", \"radialaxis\": {\"gridcolor\": \"white\", \"linecolor\": \"white\", \"ticks\": \"\"}}, \"scene\": {\"xaxis\": {\"backgroundcolor\": \"#E5ECF6\", \"gridcolor\": \"white\", \"gridwidth\": 2, \"linecolor\": \"white\", \"showbackground\": true, \"ticks\": \"\", \"zerolinecolor\": \"white\"}, \"yaxis\": {\"backgroundcolor\": \"#E5ECF6\", \"gridcolor\": \"white\", \"gridwidth\": 2, \"linecolor\": \"white\", \"showbackground\": true, \"ticks\": \"\", \"zerolinecolor\": \"white\"}, \"zaxis\": {\"backgroundcolor\": \"#E5ECF6\", \"gridcolor\": \"white\", \"gridwidth\": 2, \"linecolor\": \"white\", \"showbackground\": true, \"ticks\": \"\", \"zerolinecolor\": \"white\"}}, \"shapedefaults\": {\"line\": {\"color\": \"#2a3f5f\"}}, \"ternary\": {\"aaxis\": {\"gridcolor\": \"white\", \"linecolor\": \"white\", \"ticks\": \"\"}, \"baxis\": {\"gridcolor\": \"white\", \"linecolor\": \"white\", \"ticks\": \"\"}, \"bgcolor\": \"#E5ECF6\", \"caxis\": {\"gridcolor\": \"white\", \"linecolor\": \"white\", \"ticks\": \"\"}}, \"title\": {\"x\": 0.05}, \"xaxis\": {\"automargin\": true, \"gridcolor\": \"white\", \"linecolor\": \"white\", \"ticks\": \"\", \"title\": {\"standoff\": 15}, \"zerolinecolor\": \"white\", \"zerolinewidth\": 2}, \"yaxis\": {\"automargin\": true, \"gridcolor\": \"white\", \"linecolor\": \"white\", \"ticks\": \"\", \"title\": {\"standoff\": 15}, \"zerolinecolor\": \"white\", \"zerolinewidth\": 2}}}, \"title\": {\"text\": \"Effects of Length on Break Probs\"}, \"xaxis\": {\"anchor\": \"y\", \"domain\": [0.0, 1.0], \"title\": {\"text\": \"Length\"}}, \"yaxis\": {\"anchor\": \"x\", \"domain\": [0.0, 1.0], \"title\": {\"text\": \"BrkProb\"}}},\n",
              "                        {\"responsive\": true}\n",
              "                    ).then(function(){\n",
              "                            \n",
              "var gd = document.getElementById('63e8b3ad-c030-4d28-ad4d-a30b7192de94');\n",
              "var x = new MutationObserver(function (mutations, observer) {{\n",
              "        var display = window.getComputedStyle(gd).display;\n",
              "        if (!display || display === 'none') {{\n",
              "            console.log([gd, 'removed!']);\n",
              "            Plotly.purge(gd);\n",
              "            observer.disconnect();\n",
              "        }}\n",
              "}});\n",
              "\n",
              "// Listen for the removal of the full notebook cells\n",
              "var notebookContainer = gd.closest('#notebook-container');\n",
              "if (notebookContainer) {{\n",
              "    x.observe(notebookContainer, {childList: true});\n",
              "}}\n",
              "\n",
              "// Listen for the clearing of the current output cell\n",
              "var outputEl = gd.closest('.output');\n",
              "if (outputEl) {{\n",
              "    x.observe(outputEl, {childList: true});\n",
              "}}\n",
              "\n",
              "                        })\n",
              "                };\n",
              "                \n",
              "            </script>\n",
              "        </div>\n",
              "</body>\n",
              "</html>"
            ]
          },
          "metadata": {
            "tags": [
              "id11_content_5",
              "outputarea_id11",
              "user_output"
            ]
          }
        },
        {
          "output_type": "display_data",
          "data": {
            "application/javascript": [
              "window[\"badae654-c5eb-11ea-8df1-0242ac1c0002\"] = google.colab.output.setActiveOutputArea(window[\"b9318c68-c5eb-11ea-8df1-0242ac1c0002\"]);\n",
              "//# sourceURL=js_be788acec7"
            ],
            "text/plain": [
              "<IPython.core.display.Javascript object>"
            ]
          },
          "metadata": {
            "tags": [
              "id11_content_5",
              "outputarea_id11"
            ]
          }
        },
        {
          "output_type": "display_data",
          "data": {
            "application/javascript": [
              "window[\"badc1ec0-c5eb-11ea-8df1-0242ac1c0002\"] = google.colab.output.getActiveOutputArea();\n",
              "//# sourceURL=js_989b179ed3"
            ],
            "text/plain": [
              "<IPython.core.display.Javascript object>"
            ]
          },
          "metadata": {
            "tags": [
              "id11_content_6",
              "outputarea_id11"
            ]
          }
        },
        {
          "output_type": "display_data",
          "data": {
            "application/javascript": [
              "window[\"badc6600-c5eb-11ea-8df1-0242ac1c0002\"] = document.querySelector(\"#id11_content_6\");\n",
              "//# sourceURL=js_cf71f55624"
            ],
            "text/plain": [
              "<IPython.core.display.Javascript object>"
            ]
          },
          "metadata": {
            "tags": [
              "id11_content_6",
              "outputarea_id11"
            ]
          }
        },
        {
          "output_type": "display_data",
          "data": {
            "application/javascript": [
              "window[\"badc9756-c5eb-11ea-8df1-0242ac1c0002\"] = google.colab.output.setActiveOutputArea(window[\"badc6600-c5eb-11ea-8df1-0242ac1c0002\"]);\n",
              "//# sourceURL=js_eebd2684b2"
            ],
            "text/plain": [
              "<IPython.core.display.Javascript object>"
            ]
          },
          "metadata": {
            "tags": [
              "id11_content_6",
              "outputarea_id11"
            ]
          }
        },
        {
          "output_type": "display_data",
          "data": {
            "text/html": [
              "<html>\n",
              "<head><meta charset=\"utf-8\" /></head>\n",
              "<body>\n",
              "    <div>\n",
              "            <script src=\"https://cdnjs.cloudflare.com/ajax/libs/mathjax/2.7.5/MathJax.js?config=TeX-AMS-MML_SVG\"></script><script type=\"text/javascript\">if (window.MathJax) {MathJax.Hub.Config({SVG: {font: \"STIX-Web\"}});}</script>\n",
              "                <script type=\"text/javascript\">window.PlotlyConfig = {MathJaxConfig: 'local'};</script>\n",
              "        <script src=\"https://cdn.plot.ly/plotly-latest.min.js\"></script>    \n",
              "            <div id=\"beed245d-9162-4b4f-a5f3-c4d57c670da7\" class=\"plotly-graph-div\" style=\"height:525px; width:100%;\"></div>\n",
              "            <script type=\"text/javascript\">\n",
              "                \n",
              "                    window.PLOTLYENV=window.PLOTLYENV || {};\n",
              "                    \n",
              "                if (document.getElementById(\"beed245d-9162-4b4f-a5f3-c4d57c670da7\")) {\n",
              "                    Plotly.newPlot(\n",
              "                        'beed245d-9162-4b4f-a5f3-c4d57c670da7',\n",
              "                        [{\"hoverlabel\": {\"namelength\": 0}, \"hovertemplate\": \"<b>%{hovertext}</b><br><br>Type=Monomer<br>Age=0<br>Length=%{x}<br>%Homochirality=%{y}\", \"hovertext\": [null, null, null, null, null, null, null, null, null, null], \"legendgroup\": \"Type=Monomer\", \"marker\": {\"color\": \"#636efa\", \"symbol\": \"circle\"}, \"mode\": \"markers\", \"name\": \"Type=Monomer\", \"showlegend\": true, \"type\": \"scatter\", \"x\": [1, 1, 1, 1, 1, 1, 1, 1, 1, 1], \"xaxis\": \"x\", \"y\": [null, null, null, null, null, null, null, null, null, null], \"yaxis\": \"y\"}, {\"hoverlabel\": {\"namelength\": 0}, \"hovertemplate\": \"<b>%{hovertext}</b><br><br>Type=Polymer<br>Age=0<br>Length=%{x}<br>%Homochirality=%{y}\", \"hovertext\": [1.0, 0.0, 0.0, 0.0, 0.0, 1.0, 0.0, 1.0], \"legendgroup\": \"Type=Polymer\", \"marker\": {\"color\": \"#EF553B\", \"symbol\": \"circle\"}, \"mode\": \"markers\", \"name\": \"Type=Polymer\", \"showlegend\": true, \"type\": \"scatter\", \"x\": [2, 2, 2, 2, 2, 2, 2, 2], \"xaxis\": \"x\", \"y\": [1.0, 0.0, 0.0, 0.0, 0.0, 1.0, 0.0, 1.0], \"yaxis\": \"y\"}],\n",
              "                        {\"legend\": {\"tracegroupgap\": 0}, \"margin\": {\"t\": 60}, \"sliders\": [{\"active\": 0, \"currentvalue\": {\"prefix\": \"Age=\"}, \"len\": 0.9, \"pad\": {\"b\": 10, \"t\": 60}, \"steps\": [{\"args\": [[\"0\"], {\"frame\": {\"duration\": 0, \"redraw\": false}, \"fromcurrent\": true, \"mode\": \"immediate\", \"transition\": {\"duration\": 0, \"easing\": \"linear\"}}], \"label\": \"0\", \"method\": \"animate\"}, {\"args\": [[\"1\"], {\"frame\": {\"duration\": 0, \"redraw\": false}, \"fromcurrent\": true, \"mode\": \"immediate\", \"transition\": {\"duration\": 0, \"easing\": \"linear\"}}], \"label\": \"1\", \"method\": \"animate\"}, {\"args\": [[\"2\"], {\"frame\": {\"duration\": 0, \"redraw\": false}, \"fromcurrent\": true, \"mode\": \"immediate\", \"transition\": {\"duration\": 0, \"easing\": \"linear\"}}], \"label\": \"2\", \"method\": \"animate\"}, {\"args\": [[\"3\"], {\"frame\": {\"duration\": 0, \"redraw\": false}, \"fromcurrent\": true, \"mode\": \"immediate\", \"transition\": {\"duration\": 0, \"easing\": \"linear\"}}], \"label\": \"3\", \"method\": \"animate\"}, {\"args\": [[\"4\"], {\"frame\": {\"duration\": 0, \"redraw\": false}, \"fromcurrent\": true, \"mode\": \"immediate\", \"transition\": {\"duration\": 0, \"easing\": \"linear\"}}], \"label\": \"4\", \"method\": \"animate\"}, {\"args\": [[\"5\"], {\"frame\": {\"duration\": 0, \"redraw\": false}, \"fromcurrent\": true, \"mode\": \"immediate\", \"transition\": {\"duration\": 0, \"easing\": \"linear\"}}], \"label\": \"5\", \"method\": \"animate\"}, {\"args\": [[\"6\"], {\"frame\": {\"duration\": 0, \"redraw\": false}, \"fromcurrent\": true, \"mode\": \"immediate\", \"transition\": {\"duration\": 0, \"easing\": \"linear\"}}], \"label\": \"6\", \"method\": \"animate\"}, {\"args\": [[\"7\"], {\"frame\": {\"duration\": 0, \"redraw\": false}, \"fromcurrent\": true, \"mode\": \"immediate\", \"transition\": {\"duration\": 0, \"easing\": \"linear\"}}], \"label\": \"7\", \"method\": \"animate\"}, {\"args\": [[\"8\"], {\"frame\": {\"duration\": 0, \"redraw\": false}, \"fromcurrent\": true, \"mode\": \"immediate\", \"transition\": {\"duration\": 0, \"easing\": \"linear\"}}], \"label\": \"8\", \"method\": \"animate\"}, {\"args\": [[\"9\"], {\"frame\": {\"duration\": 0, \"redraw\": false}, \"fromcurrent\": true, \"mode\": \"immediate\", \"transition\": {\"duration\": 0, \"easing\": \"linear\"}}], \"label\": \"9\", \"method\": \"animate\"}], \"x\": 0.1, \"xanchor\": \"left\", \"y\": 0, \"yanchor\": \"top\"}], \"template\": {\"data\": {\"bar\": [{\"error_x\": {\"color\": \"#2a3f5f\"}, \"error_y\": {\"color\": \"#2a3f5f\"}, \"marker\": {\"line\": {\"color\": \"#E5ECF6\", \"width\": 0.5}}, \"type\": \"bar\"}], \"barpolar\": [{\"marker\": {\"line\": {\"color\": \"#E5ECF6\", \"width\": 0.5}}, \"type\": \"barpolar\"}], \"carpet\": [{\"aaxis\": {\"endlinecolor\": \"#2a3f5f\", \"gridcolor\": \"white\", \"linecolor\": \"white\", \"minorgridcolor\": \"white\", \"startlinecolor\": \"#2a3f5f\"}, \"baxis\": {\"endlinecolor\": \"#2a3f5f\", \"gridcolor\": \"white\", \"linecolor\": \"white\", \"minorgridcolor\": \"white\", \"startlinecolor\": \"#2a3f5f\"}, \"type\": \"carpet\"}], \"choropleth\": [{\"colorbar\": {\"outlinewidth\": 0, \"ticks\": \"\"}, \"type\": \"choropleth\"}], \"contour\": [{\"colorbar\": {\"outlinewidth\": 0, \"ticks\": \"\"}, \"colorscale\": [[0.0, \"#0d0887\"], [0.1111111111111111, \"#46039f\"], [0.2222222222222222, \"#7201a8\"], [0.3333333333333333, \"#9c179e\"], [0.4444444444444444, \"#bd3786\"], [0.5555555555555556, \"#d8576b\"], [0.6666666666666666, \"#ed7953\"], [0.7777777777777778, \"#fb9f3a\"], [0.8888888888888888, \"#fdca26\"], [1.0, \"#f0f921\"]], \"type\": \"contour\"}], \"contourcarpet\": [{\"colorbar\": {\"outlinewidth\": 0, \"ticks\": \"\"}, \"type\": \"contourcarpet\"}], \"heatmap\": [{\"colorbar\": {\"outlinewidth\": 0, \"ticks\": \"\"}, \"colorscale\": [[0.0, \"#0d0887\"], [0.1111111111111111, \"#46039f\"], [0.2222222222222222, \"#7201a8\"], [0.3333333333333333, \"#9c179e\"], [0.4444444444444444, \"#bd3786\"], [0.5555555555555556, \"#d8576b\"], [0.6666666666666666, \"#ed7953\"], [0.7777777777777778, \"#fb9f3a\"], [0.8888888888888888, \"#fdca26\"], [1.0, \"#f0f921\"]], \"type\": \"heatmap\"}], \"heatmapgl\": [{\"colorbar\": {\"outlinewidth\": 0, \"ticks\": \"\"}, \"colorscale\": [[0.0, \"#0d0887\"], [0.1111111111111111, \"#46039f\"], [0.2222222222222222, \"#7201a8\"], [0.3333333333333333, \"#9c179e\"], [0.4444444444444444, \"#bd3786\"], [0.5555555555555556, \"#d8576b\"], [0.6666666666666666, \"#ed7953\"], [0.7777777777777778, \"#fb9f3a\"], [0.8888888888888888, \"#fdca26\"], [1.0, \"#f0f921\"]], \"type\": \"heatmapgl\"}], \"histogram\": [{\"marker\": {\"colorbar\": {\"outlinewidth\": 0, \"ticks\": \"\"}}, \"type\": \"histogram\"}], \"histogram2d\": [{\"colorbar\": {\"outlinewidth\": 0, \"ticks\": \"\"}, \"colorscale\": [[0.0, \"#0d0887\"], [0.1111111111111111, \"#46039f\"], [0.2222222222222222, \"#7201a8\"], [0.3333333333333333, \"#9c179e\"], [0.4444444444444444, \"#bd3786\"], [0.5555555555555556, \"#d8576b\"], [0.6666666666666666, \"#ed7953\"], [0.7777777777777778, \"#fb9f3a\"], [0.8888888888888888, \"#fdca26\"], [1.0, \"#f0f921\"]], \"type\": \"histogram2d\"}], \"histogram2dcontour\": [{\"colorbar\": {\"outlinewidth\": 0, \"ticks\": \"\"}, \"colorscale\": [[0.0, \"#0d0887\"], [0.1111111111111111, \"#46039f\"], [0.2222222222222222, \"#7201a8\"], [0.3333333333333333, \"#9c179e\"], [0.4444444444444444, \"#bd3786\"], [0.5555555555555556, \"#d8576b\"], [0.6666666666666666, \"#ed7953\"], [0.7777777777777778, \"#fb9f3a\"], [0.8888888888888888, \"#fdca26\"], [1.0, \"#f0f921\"]], \"type\": \"histogram2dcontour\"}], \"mesh3d\": [{\"colorbar\": {\"outlinewidth\": 0, \"ticks\": \"\"}, \"type\": \"mesh3d\"}], \"parcoords\": [{\"line\": {\"colorbar\": {\"outlinewidth\": 0, \"ticks\": \"\"}}, \"type\": \"parcoords\"}], \"pie\": [{\"automargin\": true, \"type\": \"pie\"}], \"scatter\": [{\"marker\": {\"colorbar\": {\"outlinewidth\": 0, \"ticks\": \"\"}}, \"type\": \"scatter\"}], \"scatter3d\": [{\"line\": {\"colorbar\": {\"outlinewidth\": 0, \"ticks\": \"\"}}, \"marker\": {\"colorbar\": {\"outlinewidth\": 0, \"ticks\": \"\"}}, \"type\": \"scatter3d\"}], \"scattercarpet\": [{\"marker\": {\"colorbar\": {\"outlinewidth\": 0, \"ticks\": \"\"}}, \"type\": \"scattercarpet\"}], \"scattergeo\": [{\"marker\": {\"colorbar\": {\"outlinewidth\": 0, \"ticks\": \"\"}}, \"type\": \"scattergeo\"}], \"scattergl\": [{\"marker\": {\"colorbar\": {\"outlinewidth\": 0, \"ticks\": \"\"}}, \"type\": \"scattergl\"}], \"scattermapbox\": [{\"marker\": {\"colorbar\": {\"outlinewidth\": 0, \"ticks\": \"\"}}, \"type\": \"scattermapbox\"}], \"scatterpolar\": [{\"marker\": {\"colorbar\": {\"outlinewidth\": 0, \"ticks\": \"\"}}, \"type\": \"scatterpolar\"}], \"scatterpolargl\": [{\"marker\": {\"colorbar\": {\"outlinewidth\": 0, \"ticks\": \"\"}}, \"type\": \"scatterpolargl\"}], \"scatterternary\": [{\"marker\": {\"colorbar\": {\"outlinewidth\": 0, \"ticks\": \"\"}}, \"type\": \"scatterternary\"}], \"surface\": [{\"colorbar\": {\"outlinewidth\": 0, \"ticks\": \"\"}, \"colorscale\": [[0.0, \"#0d0887\"], [0.1111111111111111, \"#46039f\"], [0.2222222222222222, \"#7201a8\"], [0.3333333333333333, \"#9c179e\"], [0.4444444444444444, \"#bd3786\"], [0.5555555555555556, \"#d8576b\"], [0.6666666666666666, \"#ed7953\"], [0.7777777777777778, \"#fb9f3a\"], [0.8888888888888888, \"#fdca26\"], [1.0, \"#f0f921\"]], \"type\": \"surface\"}], \"table\": [{\"cells\": {\"fill\": {\"color\": \"#EBF0F8\"}, \"line\": {\"color\": \"white\"}}, \"header\": {\"fill\": {\"color\": \"#C8D4E3\"}, \"line\": {\"color\": \"white\"}}, \"type\": \"table\"}]}, \"layout\": {\"annotationdefaults\": {\"arrowcolor\": \"#2a3f5f\", \"arrowhead\": 0, \"arrowwidth\": 1}, \"coloraxis\": {\"colorbar\": {\"outlinewidth\": 0, \"ticks\": \"\"}}, \"colorscale\": {\"diverging\": [[0, \"#8e0152\"], [0.1, \"#c51b7d\"], [0.2, \"#de77ae\"], [0.3, \"#f1b6da\"], [0.4, \"#fde0ef\"], [0.5, \"#f7f7f7\"], [0.6, \"#e6f5d0\"], [0.7, \"#b8e186\"], [0.8, \"#7fbc41\"], [0.9, \"#4d9221\"], [1, \"#276419\"]], \"sequential\": [[0.0, \"#0d0887\"], [0.1111111111111111, \"#46039f\"], [0.2222222222222222, \"#7201a8\"], [0.3333333333333333, \"#9c179e\"], [0.4444444444444444, \"#bd3786\"], [0.5555555555555556, \"#d8576b\"], [0.6666666666666666, \"#ed7953\"], [0.7777777777777778, \"#fb9f3a\"], [0.8888888888888888, \"#fdca26\"], [1.0, \"#f0f921\"]], \"sequentialminus\": [[0.0, \"#0d0887\"], [0.1111111111111111, \"#46039f\"], [0.2222222222222222, \"#7201a8\"], [0.3333333333333333, \"#9c179e\"], [0.4444444444444444, \"#bd3786\"], [0.5555555555555556, \"#d8576b\"], [0.6666666666666666, \"#ed7953\"], [0.7777777777777778, \"#fb9f3a\"], [0.8888888888888888, \"#fdca26\"], [1.0, \"#f0f921\"]]}, \"colorway\": [\"#636efa\", \"#EF553B\", \"#00cc96\", \"#ab63fa\", \"#FFA15A\", \"#19d3f3\", \"#FF6692\", \"#B6E880\", \"#FF97FF\", \"#FECB52\"], \"font\": {\"color\": \"#2a3f5f\"}, \"geo\": {\"bgcolor\": \"white\", \"lakecolor\": \"white\", \"landcolor\": \"#E5ECF6\", \"showlakes\": true, \"showland\": true, \"subunitcolor\": \"white\"}, \"hoverlabel\": {\"align\": \"left\"}, \"hovermode\": \"closest\", \"mapbox\": {\"style\": \"light\"}, \"paper_bgcolor\": \"white\", \"plot_bgcolor\": \"#E5ECF6\", \"polar\": {\"angularaxis\": {\"gridcolor\": \"white\", \"linecolor\": \"white\", \"ticks\": \"\"}, \"bgcolor\": \"#E5ECF6\", \"radialaxis\": {\"gridcolor\": \"white\", \"linecolor\": \"white\", \"ticks\": \"\"}}, \"scene\": {\"xaxis\": {\"backgroundcolor\": \"#E5ECF6\", \"gridcolor\": \"white\", \"gridwidth\": 2, \"linecolor\": \"white\", \"showbackground\": true, \"ticks\": \"\", \"zerolinecolor\": \"white\"}, \"yaxis\": {\"backgroundcolor\": \"#E5ECF6\", \"gridcolor\": \"white\", \"gridwidth\": 2, \"linecolor\": \"white\", \"showbackground\": true, \"ticks\": \"\", \"zerolinecolor\": \"white\"}, \"zaxis\": {\"backgroundcolor\": \"#E5ECF6\", \"gridcolor\": \"white\", \"gridwidth\": 2, \"linecolor\": \"white\", \"showbackground\": true, \"ticks\": \"\", \"zerolinecolor\": \"white\"}}, \"shapedefaults\": {\"line\": {\"color\": \"#2a3f5f\"}}, \"ternary\": {\"aaxis\": {\"gridcolor\": \"white\", \"linecolor\": \"white\", \"ticks\": \"\"}, \"baxis\": {\"gridcolor\": \"white\", \"linecolor\": \"white\", \"ticks\": \"\"}, \"bgcolor\": \"#E5ECF6\", \"caxis\": {\"gridcolor\": \"white\", \"linecolor\": \"white\", \"ticks\": \"\"}}, \"title\": {\"x\": 0.05}, \"xaxis\": {\"automargin\": true, \"gridcolor\": \"white\", \"linecolor\": \"white\", \"ticks\": \"\", \"title\": {\"standoff\": 15}, \"zerolinecolor\": \"white\", \"zerolinewidth\": 2}, \"yaxis\": {\"automargin\": true, \"gridcolor\": \"white\", \"linecolor\": \"white\", \"ticks\": \"\", \"title\": {\"standoff\": 15}, \"zerolinecolor\": \"white\", \"zerolinewidth\": 2}}}, \"updatemenus\": [{\"buttons\": [{\"args\": [null, {\"frame\": {\"duration\": 500, \"redraw\": false}, \"fromcurrent\": true, \"mode\": \"immediate\", \"transition\": {\"duration\": 500, \"easing\": \"linear\"}}], \"label\": \"&#9654;\", \"method\": \"animate\"}, {\"args\": [[null], {\"frame\": {\"duration\": 0, \"redraw\": false}, \"fromcurrent\": true, \"mode\": \"immediate\", \"transition\": {\"duration\": 0, \"easing\": \"linear\"}}], \"label\": \"&#9724;\", \"method\": \"animate\"}], \"direction\": \"left\", \"pad\": {\"r\": 10, \"t\": 70}, \"showactive\": false, \"type\": \"buttons\", \"x\": 0.1, \"xanchor\": \"right\", \"y\": 0, \"yanchor\": \"top\"}], \"xaxis\": {\"anchor\": \"y\", \"domain\": [0.0, 1.0], \"range\": [-1, 7], \"title\": {\"text\": \"Length\"}}, \"yaxis\": {\"anchor\": \"x\", \"domain\": [0.0, 1.0], \"title\": {\"text\": \"%Homochirality\"}}},\n",
              "                        {\"responsive\": true}\n",
              "                    ).then(function(){\n",
              "                            Plotly.addFrames('beed245d-9162-4b4f-a5f3-c4d57c670da7', [{\"data\": [{\"hoverlabel\": {\"namelength\": 0}, \"hovertemplate\": \"<b>%{hovertext}</b><br><br>Type=Monomer<br>Age=0<br>Length=%{x}<br>%Homochirality=%{y}\", \"hovertext\": [null, null, null, null, null, null, null, null, null, null], \"legendgroup\": \"Type=Monomer\", \"marker\": {\"color\": \"#636efa\", \"symbol\": \"circle\"}, \"mode\": \"markers\", \"name\": \"Type=Monomer\", \"showlegend\": true, \"x\": [1, 1, 1, 1, 1, 1, 1, 1, 1, 1], \"xaxis\": \"x\", \"y\": [null, null, null, null, null, null, null, null, null, null], \"yaxis\": \"y\", \"type\": \"scatter\"}, {\"hoverlabel\": {\"namelength\": 0}, \"hovertemplate\": \"<b>%{hovertext}</b><br><br>Type=Polymer<br>Age=0<br>Length=%{x}<br>%Homochirality=%{y}\", \"hovertext\": [1.0, 0.0, 0.0, 0.0, 0.0, 1.0, 0.0, 1.0], \"legendgroup\": \"Type=Polymer\", \"marker\": {\"color\": \"#EF553B\", \"symbol\": \"circle\"}, \"mode\": \"markers\", \"name\": \"Type=Polymer\", \"showlegend\": true, \"x\": [2, 2, 2, 2, 2, 2, 2, 2], \"xaxis\": \"x\", \"y\": [1.0, 0.0, 0.0, 0.0, 0.0, 1.0, 0.0, 1.0], \"yaxis\": \"y\", \"type\": \"scatter\"}], \"name\": \"0\"}, {\"data\": [{\"hoverlabel\": {\"namelength\": 0}, \"hovertemplate\": \"<b>%{hovertext}</b><br><br>Type=Monomer<br>Age=1<br>Length=%{x}<br>%Homochirality=%{y}\", \"hovertext\": [null, null], \"legendgroup\": \"Type=Monomer\", \"marker\": {\"color\": \"#636efa\", \"symbol\": \"circle\"}, \"mode\": \"markers\", \"name\": \"Type=Monomer\", \"showlegend\": true, \"x\": [1, 1], \"xaxis\": \"x\", \"y\": [null, null], \"yaxis\": \"y\", \"type\": \"scatter\"}, {\"hoverlabel\": {\"namelength\": 0}, \"hovertemplate\": \"<b>%{hovertext}</b><br><br>Type=Polymer<br>Age=1<br>Length=%{x}<br>%Homochirality=%{y}\", \"hovertext\": [1.0, 0.5, 0.5, 0.0, 0.0, 1.0, 0.0, 1.0], \"legendgroup\": \"Type=Polymer\", \"marker\": {\"color\": \"#EF553B\", \"symbol\": \"circle\"}, \"mode\": \"markers\", \"name\": \"Type=Polymer\", \"showlegend\": true, \"x\": [2, 3, 3, 2, 2, 2, 3, 2], \"xaxis\": \"x\", \"y\": [1.0, 0.5, 0.5, 0.0, 0.0, 1.0, 0.0, 1.0], \"yaxis\": \"y\", \"type\": \"scatter\"}], \"name\": \"1\"}, {\"data\": [{\"hoverlabel\": {\"namelength\": 0}, \"hovertemplate\": \"<b>%{hovertext}</b><br><br>Type=Monomer<br>Age=2<br>Length=%{x}<br>%Homochirality=%{y}\", \"hovertext\": [null, null, null, null, null], \"legendgroup\": \"Type=Monomer\", \"marker\": {\"color\": \"#636efa\", \"symbol\": \"circle\"}, \"mode\": \"markers\", \"name\": \"Type=Monomer\", \"showlegend\": true, \"x\": [1, 1, 1, 1, 1], \"xaxis\": \"x\", \"y\": [null, null, null, null, null], \"yaxis\": \"y\", \"type\": \"scatter\"}, {\"hoverlabel\": {\"namelength\": 0}, \"hovertemplate\": \"<b>%{hovertext}</b><br><br>Type=Polymer<br>Age=2<br>Length=%{x}<br>%Homochirality=%{y}\", \"hovertext\": [0.5, 0.5, 0.5, 1.0, 0.0, 1.0], \"legendgroup\": \"Type=Polymer\", \"marker\": {\"color\": \"#EF553B\", \"symbol\": \"circle\"}, \"mode\": \"markers\", \"name\": \"Type=Polymer\", \"showlegend\": true, \"x\": [3, 3, 3, 2, 2, 2], \"xaxis\": \"x\", \"y\": [0.5, 0.5, 0.5, 1.0, 0.0, 1.0], \"yaxis\": \"y\", \"type\": \"scatter\"}], \"name\": \"2\"}, {\"data\": [{\"hoverlabel\": {\"namelength\": 0}, \"hovertemplate\": \"<b>%{hovertext}</b><br><br>Type=Monomer<br>Age=3<br>Length=%{x}<br>%Homochirality=%{y}\", \"hovertext\": [null, null, null, null, null, null], \"legendgroup\": \"Type=Monomer\", \"marker\": {\"color\": \"#636efa\", \"symbol\": \"circle\"}, \"mode\": \"markers\", \"name\": \"Type=Monomer\", \"showlegend\": true, \"x\": [1, 1, 1, 1, 1, 1], \"xaxis\": \"x\", \"y\": [null, null, null, null, null, null], \"yaxis\": \"y\", \"type\": \"scatter\"}, {\"hoverlabel\": {\"namelength\": 0}, \"hovertemplate\": \"<b>%{hovertext}</b><br><br>Type=Polymer<br>Age=3<br>Length=%{x}<br>%Homochirality=%{y}\", \"hovertext\": [0.5, 1.0, 0.5, 1.0, 1.0], \"legendgroup\": \"Type=Polymer\", \"marker\": {\"color\": \"#EF553B\", \"symbol\": \"circle\"}, \"mode\": \"markers\", \"name\": \"Type=Polymer\", \"showlegend\": true, \"x\": [3, 2, 3, 2, 2], \"xaxis\": \"x\", \"y\": [0.5, 1.0, 0.5, 1.0, 1.0], \"yaxis\": \"y\", \"type\": \"scatter\"}], \"name\": \"3\"}, {\"data\": [{\"hoverlabel\": {\"namelength\": 0}, \"hovertemplate\": \"<b>%{hovertext}</b><br><br>Type=Monomer<br>Age=4<br>Length=%{x}<br>%Homochirality=%{y}\", \"hovertext\": [null, null, null, null], \"legendgroup\": \"Type=Monomer\", \"marker\": {\"color\": \"#636efa\", \"symbol\": \"circle\"}, \"mode\": \"markers\", \"name\": \"Type=Monomer\", \"showlegend\": true, \"x\": [1, 1, 1, 1], \"xaxis\": \"x\", \"y\": [null, null, null, null], \"yaxis\": \"y\", \"type\": \"scatter\"}, {\"hoverlabel\": {\"namelength\": 0}, \"hovertemplate\": \"<b>%{hovertext}</b><br><br>Type=Polymer<br>Age=4<br>Length=%{x}<br>%Homochirality=%{y}\", \"hovertext\": [0.3333333333333333, 0.5, 0.5, 0.5], \"legendgroup\": \"Type=Polymer\", \"marker\": {\"color\": \"#EF553B\", \"symbol\": \"circle\"}, \"mode\": \"markers\", \"name\": \"Type=Polymer\", \"showlegend\": true, \"x\": [4, 3, 3, 3], \"xaxis\": \"x\", \"y\": [0.3333333333333333, 0.5, 0.5, 0.5], \"yaxis\": \"y\", \"type\": \"scatter\"}], \"name\": \"4\"}, {\"data\": [{\"hoverlabel\": {\"namelength\": 0}, \"hovertemplate\": \"<b>%{hovertext}</b><br><br>Type=Monomer<br>Age=5<br>Length=%{x}<br>%Homochirality=%{y}\", \"hovertext\": [null, null, null], \"legendgroup\": \"Type=Monomer\", \"marker\": {\"color\": \"#636efa\", \"symbol\": \"circle\"}, \"mode\": \"markers\", \"name\": \"Type=Monomer\", \"showlegend\": true, \"x\": [1, 1, 1], \"xaxis\": \"x\", \"y\": [null, null, null], \"yaxis\": \"y\", \"type\": \"scatter\"}, {\"hoverlabel\": {\"namelength\": 0}, \"hovertemplate\": \"<b>%{hovertext}</b><br><br>Type=Polymer<br>Age=5<br>Length=%{x}<br>%Homochirality=%{y}\", \"hovertext\": [0.5, 0.5, 0.5, 0.6666666666666666], \"legendgroup\": \"Type=Polymer\", \"marker\": {\"color\": \"#EF553B\", \"symbol\": \"circle\"}, \"mode\": \"markers\", \"name\": \"Type=Polymer\", \"showlegend\": true, \"x\": [3, 3, 3, 4], \"xaxis\": \"x\", \"y\": [0.5, 0.5, 0.5, 0.6666666666666666], \"yaxis\": \"y\", \"type\": \"scatter\"}], \"name\": \"5\"}, {\"data\": [{\"hoverlabel\": {\"namelength\": 0}, \"hovertemplate\": \"<b>%{hovertext}</b><br><br>Type=Monomer<br>Age=6<br>Length=%{x}<br>%Homochirality=%{y}\", \"hovertext\": [null, null, null], \"legendgroup\": \"Type=Monomer\", \"marker\": {\"color\": \"#636efa\", \"symbol\": \"circle\"}, \"mode\": \"markers\", \"name\": \"Type=Monomer\", \"showlegend\": true, \"x\": [1, 1, 1], \"xaxis\": \"x\", \"y\": [null, null, null], \"yaxis\": \"y\", \"type\": \"scatter\"}, {\"hoverlabel\": {\"namelength\": 0}, \"hovertemplate\": \"<b>%{hovertext}</b><br><br>Type=Polymer<br>Age=6<br>Length=%{x}<br>%Homochirality=%{y}\", \"hovertext\": [0.3333333333333333, 0.5, 0.5, 0.6666666666666666], \"legendgroup\": \"Type=Polymer\", \"marker\": {\"color\": \"#EF553B\", \"symbol\": \"circle\"}, \"mode\": \"markers\", \"name\": \"Type=Polymer\", \"showlegend\": true, \"x\": [4, 3, 3, 4], \"xaxis\": \"x\", \"y\": [0.3333333333333333, 0.5, 0.5, 0.6666666666666666], \"yaxis\": \"y\", \"type\": \"scatter\"}], \"name\": \"6\"}, {\"data\": [{\"hoverlabel\": {\"namelength\": 0}, \"hovertemplate\": \"<b>%{hovertext}</b><br><br>Type=Monomer<br>Age=7<br>Length=%{x}<br>%Homochirality=%{y}\", \"hovertext\": [null, null], \"legendgroup\": \"Type=Monomer\", \"marker\": {\"color\": \"#636efa\", \"symbol\": \"circle\"}, \"mode\": \"markers\", \"name\": \"Type=Monomer\", \"showlegend\": true, \"x\": [1, 1], \"xaxis\": \"x\", \"y\": [null, null], \"yaxis\": \"y\", \"type\": \"scatter\"}, {\"hoverlabel\": {\"namelength\": 0}, \"hovertemplate\": \"<b>%{hovertext}</b><br><br>Type=Polymer<br>Age=7<br>Length=%{x}<br>%Homochirality=%{y}\", \"hovertext\": [0.5, 0.5, 0.5, 0.75], \"legendgroup\": \"Type=Polymer\", \"marker\": {\"color\": \"#EF553B\", \"symbol\": \"circle\"}, \"mode\": \"markers\", \"name\": \"Type=Polymer\", \"showlegend\": true, \"x\": [5, 3, 3, 5], \"xaxis\": \"x\", \"y\": [0.5, 0.5, 0.5, 0.75], \"yaxis\": \"y\", \"type\": \"scatter\"}], \"name\": \"7\"}, {\"data\": [{\"hoverlabel\": {\"namelength\": 0}, \"hovertemplate\": \"<b>%{hovertext}</b><br><br>Type=Monomer<br>Age=8<br>Length=%{x}<br>%Homochirality=%{y}\", \"hovertext\": [null, null, null, null], \"legendgroup\": \"Type=Monomer\", \"marker\": {\"color\": \"#636efa\", \"symbol\": \"circle\"}, \"mode\": \"markers\", \"name\": \"Type=Monomer\", \"showlegend\": true, \"x\": [1, 1, 1, 1], \"xaxis\": \"x\", \"y\": [null, null, null, null], \"yaxis\": \"y\", \"type\": \"scatter\"}, {\"hoverlabel\": {\"namelength\": 0}, \"hovertemplate\": \"<b>%{hovertext}</b><br><br>Type=Polymer<br>Age=8<br>Length=%{x}<br>%Homochirality=%{y}\", \"hovertext\": [0.4, 1.0, 1.0], \"legendgroup\": \"Type=Polymer\", \"marker\": {\"color\": \"#EF553B\", \"symbol\": \"circle\"}, \"mode\": \"markers\", \"name\": \"Type=Polymer\", \"showlegend\": true, \"x\": [6, 2, 2], \"xaxis\": \"x\", \"y\": [0.4, 1.0, 1.0], \"yaxis\": \"y\", \"type\": \"scatter\"}], \"name\": \"8\"}, {\"data\": [{\"hoverlabel\": {\"namelength\": 0}, \"hovertemplate\": \"<b>%{hovertext}</b><br><br>Type=Monomer<br>Age=9<br>Length=%{x}<br>%Homochirality=%{y}\", \"hovertext\": [null, null, null], \"legendgroup\": \"Type=Monomer\", \"marker\": {\"color\": \"#636efa\", \"symbol\": \"circle\"}, \"mode\": \"markers\", \"name\": \"Type=Monomer\", \"showlegend\": true, \"x\": [1, 1, 1], \"xaxis\": \"x\", \"y\": [null, null, null], \"yaxis\": \"y\", \"type\": \"scatter\"}, {\"hoverlabel\": {\"namelength\": 0}, \"hovertemplate\": \"<b>%{hovertext}</b><br><br>Type=Polymer<br>Age=9<br>Length=%{x}<br>%Homochirality=%{y}\", \"hovertext\": [0.3333333333333333, 1.0, 0.0], \"legendgroup\": \"Type=Polymer\", \"marker\": {\"color\": \"#EF553B\", \"symbol\": \"circle\"}, \"mode\": \"markers\", \"name\": \"Type=Polymer\", \"showlegend\": true, \"x\": [4, 2, 2], \"xaxis\": \"x\", \"y\": [0.3333333333333333, 1.0, 0.0], \"yaxis\": \"y\", \"type\": \"scatter\"}], \"name\": \"9\"}]);\n",
              "                        }).then(function(){\n",
              "                            \n",
              "var gd = document.getElementById('beed245d-9162-4b4f-a5f3-c4d57c670da7');\n",
              "var x = new MutationObserver(function (mutations, observer) {{\n",
              "        var display = window.getComputedStyle(gd).display;\n",
              "        if (!display || display === 'none') {{\n",
              "            console.log([gd, 'removed!']);\n",
              "            Plotly.purge(gd);\n",
              "            observer.disconnect();\n",
              "        }}\n",
              "}});\n",
              "\n",
              "// Listen for the removal of the full notebook cells\n",
              "var notebookContainer = gd.closest('#notebook-container');\n",
              "if (notebookContainer) {{\n",
              "    x.observe(notebookContainer, {childList: true});\n",
              "}}\n",
              "\n",
              "// Listen for the clearing of the current output cell\n",
              "var outputEl = gd.closest('.output');\n",
              "if (outputEl) {{\n",
              "    x.observe(outputEl, {childList: true});\n",
              "}}\n",
              "\n",
              "                        })\n",
              "                };\n",
              "                \n",
              "            </script>\n",
              "        </div>\n",
              "</body>\n",
              "</html>"
            ]
          },
          "metadata": {
            "tags": [
              "id11_content_6",
              "outputarea_id11",
              "user_output"
            ]
          }
        },
        {
          "output_type": "display_data",
          "data": {
            "application/javascript": [
              "window[\"bb6da444-c5eb-11ea-8df1-0242ac1c0002\"] = google.colab.output.setActiveOutputArea(window[\"badc1ec0-c5eb-11ea-8df1-0242ac1c0002\"]);\n",
              "//# sourceURL=js_4df1c07a16"
            ],
            "text/plain": [
              "<IPython.core.display.Javascript object>"
            ]
          },
          "metadata": {
            "tags": [
              "id11_content_6",
              "outputarea_id11"
            ]
          }
        },
        {
          "output_type": "display_data",
          "data": {
            "application/javascript": [
              "window[\"bb6ee746-c5eb-11ea-8df1-0242ac1c0002\"] = google.colab.output.getActiveOutputArea();\n",
              "//# sourceURL=js_4ebc236b09"
            ],
            "text/plain": [
              "<IPython.core.display.Javascript object>"
            ]
          },
          "metadata": {
            "tags": [
              "id11_content_7",
              "outputarea_id11"
            ]
          }
        },
        {
          "output_type": "display_data",
          "data": {
            "application/javascript": [
              "window[\"bb6f2256-c5eb-11ea-8df1-0242ac1c0002\"] = document.querySelector(\"#id11_content_7\");\n",
              "//# sourceURL=js_db82ce118f"
            ],
            "text/plain": [
              "<IPython.core.display.Javascript object>"
            ]
          },
          "metadata": {
            "tags": [
              "id11_content_7",
              "outputarea_id11"
            ]
          }
        },
        {
          "output_type": "display_data",
          "data": {
            "application/javascript": [
              "window[\"bb709d16-c5eb-11ea-8df1-0242ac1c0002\"] = google.colab.output.setActiveOutputArea(window[\"bb6f2256-c5eb-11ea-8df1-0242ac1c0002\"]);\n",
              "//# sourceURL=js_3c383ad595"
            ],
            "text/plain": [
              "<IPython.core.display.Javascript object>"
            ]
          },
          "metadata": {
            "tags": [
              "id11_content_7",
              "outputarea_id11"
            ]
          }
        },
        {
          "output_type": "display_data",
          "data": {
            "text/html": [
              "<html>\n",
              "<head><meta charset=\"utf-8\" /></head>\n",
              "<body>\n",
              "    <div>\n",
              "            <script src=\"https://cdnjs.cloudflare.com/ajax/libs/mathjax/2.7.5/MathJax.js?config=TeX-AMS-MML_SVG\"></script><script type=\"text/javascript\">if (window.MathJax) {MathJax.Hub.Config({SVG: {font: \"STIX-Web\"}});}</script>\n",
              "                <script type=\"text/javascript\">window.PlotlyConfig = {MathJaxConfig: 'local'};</script>\n",
              "        <script src=\"https://cdn.plot.ly/plotly-latest.min.js\"></script>    \n",
              "            <div id=\"4a9d09ab-f527-45b1-82ea-5ba5786b3dfb\" class=\"plotly-graph-div\" style=\"height:525px; width:100%;\"></div>\n",
              "            <script type=\"text/javascript\">\n",
              "                \n",
              "                    window.PLOTLYENV=window.PLOTLYENV || {};\n",
              "                    \n",
              "                if (document.getElementById(\"4a9d09ab-f527-45b1-82ea-5ba5786b3dfb\")) {\n",
              "                    Plotly.newPlot(\n",
              "                        '4a9d09ab-f527-45b1-82ea-5ba5786b3dfb',\n",
              "                        [{\"hoverlabel\": {\"namelength\": 0}, \"hovertemplate\": \"<b>%{hovertext}</b><br><br>Type=Monomer<br>Length=1<br>Age=%{x}<br>%Homochirality=%{y}\", \"hovertext\": [null, null, null, null, null, null, null, null, null, null, null, null, null, null, null, null, null, null, null, null, null, null, null, null, null, null, null, null, null, null, null, null, null, null, null, null, null, null, null, null, null, null], \"legendgroup\": \"Type=Monomer\", \"marker\": {\"color\": \"#636efa\", \"symbol\": \"circle\"}, \"mode\": \"markers\", \"name\": \"Type=Monomer\", \"showlegend\": true, \"type\": \"scatter\", \"x\": [0, 0, 0, 0, 1, 0, 0, 2, 2, 2, 3, 3, 2, 3, 3, 4, 4, 5, 0, 5, 0, 0, 3, 4, 6, 5, 1, 6, 6, 7, 2, 7, 8, 8, 3, 0, 8, 9, 9, 9, 4, 8], \"xaxis\": \"x\", \"y\": [null, null, null, null, null, null, null, null, null, null, null, null, null, null, null, null, null, null, null, null, null, null, null, null, null, null, null, null, null, null, null, null, null, null, null, null, null, null, null, null, null, null], \"yaxis\": \"y\"}],\n",
              "                        {\"legend\": {\"tracegroupgap\": 0}, \"margin\": {\"t\": 60}, \"sliders\": [{\"active\": 0, \"currentvalue\": {\"prefix\": \"Length=\"}, \"len\": 0.9, \"pad\": {\"b\": 10, \"t\": 60}, \"steps\": [{\"args\": [[\"1\"], {\"frame\": {\"duration\": 0, \"redraw\": false}, \"fromcurrent\": true, \"mode\": \"immediate\", \"transition\": {\"duration\": 0, \"easing\": \"linear\"}}], \"label\": \"1\", \"method\": \"animate\"}, {\"args\": [[\"2\"], {\"frame\": {\"duration\": 0, \"redraw\": false}, \"fromcurrent\": true, \"mode\": \"immediate\", \"transition\": {\"duration\": 0, \"easing\": \"linear\"}}], \"label\": \"2\", \"method\": \"animate\"}, {\"args\": [[\"3\"], {\"frame\": {\"duration\": 0, \"redraw\": false}, \"fromcurrent\": true, \"mode\": \"immediate\", \"transition\": {\"duration\": 0, \"easing\": \"linear\"}}], \"label\": \"3\", \"method\": \"animate\"}, {\"args\": [[\"4\"], {\"frame\": {\"duration\": 0, \"redraw\": false}, \"fromcurrent\": true, \"mode\": \"immediate\", \"transition\": {\"duration\": 0, \"easing\": \"linear\"}}], \"label\": \"4\", \"method\": \"animate\"}, {\"args\": [[\"5\"], {\"frame\": {\"duration\": 0, \"redraw\": false}, \"fromcurrent\": true, \"mode\": \"immediate\", \"transition\": {\"duration\": 0, \"easing\": \"linear\"}}], \"label\": \"5\", \"method\": \"animate\"}, {\"args\": [[\"6\"], {\"frame\": {\"duration\": 0, \"redraw\": false}, \"fromcurrent\": true, \"mode\": \"immediate\", \"transition\": {\"duration\": 0, \"easing\": \"linear\"}}], \"label\": \"6\", \"method\": \"animate\"}], \"x\": 0.1, \"xanchor\": \"left\", \"y\": 0, \"yanchor\": \"top\"}], \"template\": {\"data\": {\"bar\": [{\"error_x\": {\"color\": \"#2a3f5f\"}, \"error_y\": {\"color\": \"#2a3f5f\"}, \"marker\": {\"line\": {\"color\": \"#E5ECF6\", \"width\": 0.5}}, \"type\": \"bar\"}], \"barpolar\": [{\"marker\": {\"line\": {\"color\": \"#E5ECF6\", \"width\": 0.5}}, \"type\": \"barpolar\"}], \"carpet\": [{\"aaxis\": {\"endlinecolor\": \"#2a3f5f\", \"gridcolor\": \"white\", \"linecolor\": \"white\", \"minorgridcolor\": \"white\", \"startlinecolor\": \"#2a3f5f\"}, \"baxis\": {\"endlinecolor\": \"#2a3f5f\", \"gridcolor\": \"white\", \"linecolor\": \"white\", \"minorgridcolor\": \"white\", \"startlinecolor\": \"#2a3f5f\"}, \"type\": \"carpet\"}], \"choropleth\": [{\"colorbar\": {\"outlinewidth\": 0, \"ticks\": \"\"}, \"type\": \"choropleth\"}], \"contour\": [{\"colorbar\": {\"outlinewidth\": 0, \"ticks\": \"\"}, \"colorscale\": [[0.0, \"#0d0887\"], [0.1111111111111111, \"#46039f\"], [0.2222222222222222, \"#7201a8\"], [0.3333333333333333, \"#9c179e\"], [0.4444444444444444, \"#bd3786\"], [0.5555555555555556, \"#d8576b\"], [0.6666666666666666, \"#ed7953\"], [0.7777777777777778, \"#fb9f3a\"], [0.8888888888888888, \"#fdca26\"], [1.0, \"#f0f921\"]], \"type\": \"contour\"}], \"contourcarpet\": [{\"colorbar\": {\"outlinewidth\": 0, \"ticks\": \"\"}, \"type\": \"contourcarpet\"}], \"heatmap\": [{\"colorbar\": {\"outlinewidth\": 0, \"ticks\": \"\"}, \"colorscale\": [[0.0, \"#0d0887\"], [0.1111111111111111, \"#46039f\"], [0.2222222222222222, \"#7201a8\"], [0.3333333333333333, \"#9c179e\"], [0.4444444444444444, \"#bd3786\"], [0.5555555555555556, \"#d8576b\"], [0.6666666666666666, \"#ed7953\"], [0.7777777777777778, \"#fb9f3a\"], [0.8888888888888888, \"#fdca26\"], [1.0, \"#f0f921\"]], \"type\": \"heatmap\"}], \"heatmapgl\": [{\"colorbar\": {\"outlinewidth\": 0, \"ticks\": \"\"}, \"colorscale\": [[0.0, \"#0d0887\"], [0.1111111111111111, \"#46039f\"], [0.2222222222222222, \"#7201a8\"], [0.3333333333333333, \"#9c179e\"], [0.4444444444444444, \"#bd3786\"], [0.5555555555555556, \"#d8576b\"], [0.6666666666666666, \"#ed7953\"], [0.7777777777777778, \"#fb9f3a\"], [0.8888888888888888, \"#fdca26\"], [1.0, \"#f0f921\"]], \"type\": \"heatmapgl\"}], \"histogram\": [{\"marker\": {\"colorbar\": {\"outlinewidth\": 0, \"ticks\": \"\"}}, \"type\": \"histogram\"}], \"histogram2d\": [{\"colorbar\": {\"outlinewidth\": 0, \"ticks\": \"\"}, \"colorscale\": [[0.0, \"#0d0887\"], [0.1111111111111111, \"#46039f\"], [0.2222222222222222, \"#7201a8\"], [0.3333333333333333, \"#9c179e\"], [0.4444444444444444, \"#bd3786\"], [0.5555555555555556, \"#d8576b\"], [0.6666666666666666, \"#ed7953\"], [0.7777777777777778, \"#fb9f3a\"], [0.8888888888888888, \"#fdca26\"], [1.0, \"#f0f921\"]], \"type\": \"histogram2d\"}], \"histogram2dcontour\": [{\"colorbar\": {\"outlinewidth\": 0, \"ticks\": \"\"}, \"colorscale\": [[0.0, \"#0d0887\"], [0.1111111111111111, \"#46039f\"], [0.2222222222222222, \"#7201a8\"], [0.3333333333333333, \"#9c179e\"], [0.4444444444444444, \"#bd3786\"], [0.5555555555555556, \"#d8576b\"], [0.6666666666666666, \"#ed7953\"], [0.7777777777777778, \"#fb9f3a\"], [0.8888888888888888, \"#fdca26\"], [1.0, \"#f0f921\"]], \"type\": \"histogram2dcontour\"}], \"mesh3d\": [{\"colorbar\": {\"outlinewidth\": 0, \"ticks\": \"\"}, \"type\": \"mesh3d\"}], \"parcoords\": [{\"line\": {\"colorbar\": {\"outlinewidth\": 0, \"ticks\": \"\"}}, \"type\": \"parcoords\"}], \"pie\": [{\"automargin\": true, \"type\": \"pie\"}], \"scatter\": [{\"marker\": {\"colorbar\": {\"outlinewidth\": 0, \"ticks\": \"\"}}, \"type\": \"scatter\"}], \"scatter3d\": [{\"line\": {\"colorbar\": {\"outlinewidth\": 0, \"ticks\": \"\"}}, \"marker\": {\"colorbar\": {\"outlinewidth\": 0, \"ticks\": \"\"}}, \"type\": \"scatter3d\"}], \"scattercarpet\": [{\"marker\": {\"colorbar\": {\"outlinewidth\": 0, \"ticks\": \"\"}}, \"type\": \"scattercarpet\"}], \"scattergeo\": [{\"marker\": {\"colorbar\": {\"outlinewidth\": 0, \"ticks\": \"\"}}, \"type\": \"scattergeo\"}], \"scattergl\": [{\"marker\": {\"colorbar\": {\"outlinewidth\": 0, \"ticks\": \"\"}}, \"type\": \"scattergl\"}], \"scattermapbox\": [{\"marker\": {\"colorbar\": {\"outlinewidth\": 0, \"ticks\": \"\"}}, \"type\": \"scattermapbox\"}], \"scatterpolar\": [{\"marker\": {\"colorbar\": {\"outlinewidth\": 0, \"ticks\": \"\"}}, \"type\": \"scatterpolar\"}], \"scatterpolargl\": [{\"marker\": {\"colorbar\": {\"outlinewidth\": 0, \"ticks\": \"\"}}, \"type\": \"scatterpolargl\"}], \"scatterternary\": [{\"marker\": {\"colorbar\": {\"outlinewidth\": 0, \"ticks\": \"\"}}, \"type\": \"scatterternary\"}], \"surface\": [{\"colorbar\": {\"outlinewidth\": 0, \"ticks\": \"\"}, \"colorscale\": [[0.0, \"#0d0887\"], [0.1111111111111111, \"#46039f\"], [0.2222222222222222, \"#7201a8\"], [0.3333333333333333, \"#9c179e\"], [0.4444444444444444, \"#bd3786\"], [0.5555555555555556, \"#d8576b\"], [0.6666666666666666, \"#ed7953\"], [0.7777777777777778, \"#fb9f3a\"], [0.8888888888888888, \"#fdca26\"], [1.0, \"#f0f921\"]], \"type\": \"surface\"}], \"table\": [{\"cells\": {\"fill\": {\"color\": \"#EBF0F8\"}, \"line\": {\"color\": \"white\"}}, \"header\": {\"fill\": {\"color\": \"#C8D4E3\"}, \"line\": {\"color\": \"white\"}}, \"type\": \"table\"}]}, \"layout\": {\"annotationdefaults\": {\"arrowcolor\": \"#2a3f5f\", \"arrowhead\": 0, \"arrowwidth\": 1}, \"coloraxis\": {\"colorbar\": {\"outlinewidth\": 0, \"ticks\": \"\"}}, \"colorscale\": {\"diverging\": [[0, \"#8e0152\"], [0.1, \"#c51b7d\"], [0.2, \"#de77ae\"], [0.3, \"#f1b6da\"], [0.4, \"#fde0ef\"], [0.5, \"#f7f7f7\"], [0.6, \"#e6f5d0\"], [0.7, \"#b8e186\"], [0.8, \"#7fbc41\"], [0.9, \"#4d9221\"], [1, \"#276419\"]], \"sequential\": [[0.0, \"#0d0887\"], [0.1111111111111111, \"#46039f\"], [0.2222222222222222, \"#7201a8\"], [0.3333333333333333, \"#9c179e\"], [0.4444444444444444, \"#bd3786\"], [0.5555555555555556, \"#d8576b\"], [0.6666666666666666, \"#ed7953\"], [0.7777777777777778, \"#fb9f3a\"], [0.8888888888888888, \"#fdca26\"], [1.0, \"#f0f921\"]], \"sequentialminus\": [[0.0, \"#0d0887\"], [0.1111111111111111, \"#46039f\"], [0.2222222222222222, \"#7201a8\"], [0.3333333333333333, \"#9c179e\"], [0.4444444444444444, \"#bd3786\"], [0.5555555555555556, \"#d8576b\"], [0.6666666666666666, \"#ed7953\"], [0.7777777777777778, \"#fb9f3a\"], [0.8888888888888888, \"#fdca26\"], [1.0, \"#f0f921\"]]}, \"colorway\": [\"#636efa\", \"#EF553B\", \"#00cc96\", \"#ab63fa\", \"#FFA15A\", \"#19d3f3\", \"#FF6692\", \"#B6E880\", \"#FF97FF\", \"#FECB52\"], \"font\": {\"color\": \"#2a3f5f\"}, \"geo\": {\"bgcolor\": \"white\", \"lakecolor\": \"white\", \"landcolor\": \"#E5ECF6\", \"showlakes\": true, \"showland\": true, \"subunitcolor\": \"white\"}, \"hoverlabel\": {\"align\": \"left\"}, \"hovermode\": \"closest\", \"mapbox\": {\"style\": \"light\"}, \"paper_bgcolor\": \"white\", \"plot_bgcolor\": \"#E5ECF6\", \"polar\": {\"angularaxis\": {\"gridcolor\": \"white\", \"linecolor\": \"white\", \"ticks\": \"\"}, \"bgcolor\": \"#E5ECF6\", \"radialaxis\": {\"gridcolor\": \"white\", \"linecolor\": \"white\", \"ticks\": \"\"}}, \"scene\": {\"xaxis\": {\"backgroundcolor\": \"#E5ECF6\", \"gridcolor\": \"white\", \"gridwidth\": 2, \"linecolor\": \"white\", \"showbackground\": true, \"ticks\": \"\", \"zerolinecolor\": \"white\"}, \"yaxis\": {\"backgroundcolor\": \"#E5ECF6\", \"gridcolor\": \"white\", \"gridwidth\": 2, \"linecolor\": \"white\", \"showbackground\": true, \"ticks\": \"\", \"zerolinecolor\": \"white\"}, \"zaxis\": {\"backgroundcolor\": \"#E5ECF6\", \"gridcolor\": \"white\", \"gridwidth\": 2, \"linecolor\": \"white\", \"showbackground\": true, \"ticks\": \"\", \"zerolinecolor\": \"white\"}}, \"shapedefaults\": {\"line\": {\"color\": \"#2a3f5f\"}}, \"ternary\": {\"aaxis\": {\"gridcolor\": \"white\", \"linecolor\": \"white\", \"ticks\": \"\"}, \"baxis\": {\"gridcolor\": \"white\", \"linecolor\": \"white\", \"ticks\": \"\"}, \"bgcolor\": \"#E5ECF6\", \"caxis\": {\"gridcolor\": \"white\", \"linecolor\": \"white\", \"ticks\": \"\"}}, \"title\": {\"x\": 0.05}, \"xaxis\": {\"automargin\": true, \"gridcolor\": \"white\", \"linecolor\": \"white\", \"ticks\": \"\", \"title\": {\"standoff\": 15}, \"zerolinecolor\": \"white\", \"zerolinewidth\": 2}, \"yaxis\": {\"automargin\": true, \"gridcolor\": \"white\", \"linecolor\": \"white\", \"ticks\": \"\", \"title\": {\"standoff\": 15}, \"zerolinecolor\": \"white\", \"zerolinewidth\": 2}}}, \"updatemenus\": [{\"buttons\": [{\"args\": [null, {\"frame\": {\"duration\": 500, \"redraw\": false}, \"fromcurrent\": true, \"mode\": \"immediate\", \"transition\": {\"duration\": 500, \"easing\": \"linear\"}}], \"label\": \"&#9654;\", \"method\": \"animate\"}, {\"args\": [[null], {\"frame\": {\"duration\": 0, \"redraw\": false}, \"fromcurrent\": true, \"mode\": \"immediate\", \"transition\": {\"duration\": 0, \"easing\": \"linear\"}}], \"label\": \"&#9724;\", \"method\": \"animate\"}], \"direction\": \"left\", \"pad\": {\"r\": 10, \"t\": 70}, \"showactive\": false, \"type\": \"buttons\", \"x\": 0.1, \"xanchor\": \"right\", \"y\": 0, \"yanchor\": \"top\"}], \"xaxis\": {\"anchor\": \"y\", \"domain\": [0.0, 1.0], \"title\": {\"text\": \"Age\"}}, \"yaxis\": {\"anchor\": \"x\", \"domain\": [0.0, 1.0], \"title\": {\"text\": \"%Homochirality\"}}},\n",
              "                        {\"responsive\": true}\n",
              "                    ).then(function(){\n",
              "                            Plotly.addFrames('4a9d09ab-f527-45b1-82ea-5ba5786b3dfb', [{\"data\": [{\"hoverlabel\": {\"namelength\": 0}, \"hovertemplate\": \"<b>%{hovertext}</b><br><br>Type=Monomer<br>Length=1<br>Age=%{x}<br>%Homochirality=%{y}\", \"hovertext\": [null, null, null, null, null, null, null, null, null, null, null, null, null, null, null, null, null, null, null, null, null, null, null, null, null, null, null, null, null, null, null, null, null, null, null, null, null, null, null, null, null, null], \"legendgroup\": \"Type=Monomer\", \"marker\": {\"color\": \"#636efa\", \"symbol\": \"circle\"}, \"mode\": \"markers\", \"name\": \"Type=Monomer\", \"showlegend\": true, \"x\": [0, 0, 0, 0, 1, 0, 0, 2, 2, 2, 3, 3, 2, 3, 3, 4, 4, 5, 0, 5, 0, 0, 3, 4, 6, 5, 1, 6, 6, 7, 2, 7, 8, 8, 3, 0, 8, 9, 9, 9, 4, 8], \"xaxis\": \"x\", \"y\": [null, null, null, null, null, null, null, null, null, null, null, null, null, null, null, null, null, null, null, null, null, null, null, null, null, null, null, null, null, null, null, null, null, null, null, null, null, null, null, null, null, null], \"yaxis\": \"y\", \"type\": \"scatter\"}], \"name\": \"1\"}, {\"data\": [{\"hoverlabel\": {\"namelength\": 0}, \"hovertemplate\": \"<b>%{hovertext}</b><br><br>Type=Polymer<br>Length=2<br>Age=%{x}<br>%Homochirality=%{y}\", \"hovertext\": [1.0, 0.0, 0.0, 1.0, 0.0, 0.0, 0.0, 0.0, 1.0, 1.0, 0.0, 1.0, 1.0, 1.0, 0.0, 1.0, 1.0, 1.0, 1.0, 1.0, 1.0, 1.0, 0.0], \"legendgroup\": \"Type=Polymer\", \"marker\": {\"color\": \"#EF553B\", \"symbol\": \"circle\"}, \"mode\": \"markers\", \"name\": \"Type=Polymer\", \"showlegend\": true, \"x\": [0, 0, 0, 1, 0, 0, 1, 1, 0, 1, 0, 3, 2, 3, 2, 0, 1, 2, 8, 3, 9, 8, 9], \"xaxis\": \"x\", \"y\": [1.0, 0.0, 0.0, 1.0, 0.0, 0.0, 0.0, 0.0, 1.0, 1.0, 0.0, 1.0, 1.0, 1.0, 0.0, 1.0, 1.0, 1.0, 1.0, 1.0, 1.0, 1.0, 0.0], \"yaxis\": \"y\", \"type\": \"scatter\"}], \"name\": \"2\"}, {\"data\": [{\"hoverlabel\": {\"namelength\": 0}, \"hovertemplate\": \"<b>%{hovertext}</b><br><br>Type=Polymer<br>Length=3<br>Age=%{x}<br>%Homochirality=%{y}\", \"hovertext\": [0.5, 0.5, 0.5, 0.5, 0.5, 0.5, 0.0, 0.5, 0.5, 0.5, 0.5, 0.5, 0.5, 0.5, 0.5, 0.5, 0.5, 0.5], \"legendgroup\": \"Type=Polymer\", \"marker\": {\"color\": \"#EF553B\", \"symbol\": \"circle\"}, \"mode\": \"markers\", \"name\": \"Type=Polymer\", \"showlegend\": true, \"x\": [1, 1, 2, 2, 2, 3, 1, 4, 3, 5, 5, 4, 4, 6, 5, 7, 6, 7], \"xaxis\": \"x\", \"y\": [0.5, 0.5, 0.5, 0.5, 0.5, 0.5, 0.0, 0.5, 0.5, 0.5, 0.5, 0.5, 0.5, 0.5, 0.5, 0.5, 0.5, 0.5], \"yaxis\": \"y\", \"type\": \"scatter\"}], \"name\": \"3\"}, {\"data\": [{\"hoverlabel\": {\"namelength\": 0}, \"hovertemplate\": \"<b>%{hovertext}</b><br><br>Type=Polymer<br>Length=4<br>Age=%{x}<br>%Homochirality=%{y}\", \"hovertext\": [0.3333333333333333, 0.3333333333333333, 0.6666666666666666, 0.6666666666666666, 0.3333333333333333], \"legendgroup\": \"Type=Polymer\", \"marker\": {\"color\": \"#EF553B\", \"symbol\": \"circle\"}, \"mode\": \"markers\", \"name\": \"Type=Polymer\", \"showlegend\": true, \"x\": [4, 6, 5, 6, 9], \"xaxis\": \"x\", \"y\": [0.3333333333333333, 0.3333333333333333, 0.6666666666666666, 0.6666666666666666, 0.3333333333333333], \"yaxis\": \"y\", \"type\": \"scatter\"}], \"name\": \"4\"}, {\"data\": [{\"hoverlabel\": {\"namelength\": 0}, \"hovertemplate\": \"<b>%{hovertext}</b><br><br>Type=Polymer<br>Length=5<br>Age=%{x}<br>%Homochirality=%{y}\", \"hovertext\": [0.5, 0.75], \"legendgroup\": \"Type=Polymer\", \"marker\": {\"color\": \"#EF553B\", \"symbol\": \"circle\"}, \"mode\": \"markers\", \"name\": \"Type=Polymer\", \"showlegend\": true, \"x\": [7, 7], \"xaxis\": \"x\", \"y\": [0.5, 0.75], \"yaxis\": \"y\", \"type\": \"scatter\"}], \"name\": \"5\"}, {\"data\": [{\"hoverlabel\": {\"namelength\": 0}, \"hovertemplate\": \"<b>%{hovertext}</b><br><br>Type=Polymer<br>Length=6<br>Age=%{x}<br>%Homochirality=%{y}\", \"hovertext\": [0.4], \"legendgroup\": \"Type=Polymer\", \"marker\": {\"color\": \"#EF553B\", \"symbol\": \"circle\"}, \"mode\": \"markers\", \"name\": \"Type=Polymer\", \"showlegend\": true, \"x\": [8], \"xaxis\": \"x\", \"y\": [0.4], \"yaxis\": \"y\", \"type\": \"scatter\"}], \"name\": \"6\"}]);\n",
              "                        }).then(function(){\n",
              "                            \n",
              "var gd = document.getElementById('4a9d09ab-f527-45b1-82ea-5ba5786b3dfb');\n",
              "var x = new MutationObserver(function (mutations, observer) {{\n",
              "        var display = window.getComputedStyle(gd).display;\n",
              "        if (!display || display === 'none') {{\n",
              "            console.log([gd, 'removed!']);\n",
              "            Plotly.purge(gd);\n",
              "            observer.disconnect();\n",
              "        }}\n",
              "}});\n",
              "\n",
              "// Listen for the removal of the full notebook cells\n",
              "var notebookContainer = gd.closest('#notebook-container');\n",
              "if (notebookContainer) {{\n",
              "    x.observe(notebookContainer, {childList: true});\n",
              "}}\n",
              "\n",
              "// Listen for the clearing of the current output cell\n",
              "var outputEl = gd.closest('.output');\n",
              "if (outputEl) {{\n",
              "    x.observe(outputEl, {childList: true});\n",
              "}}\n",
              "\n",
              "                        })\n",
              "                };\n",
              "                \n",
              "            </script>\n",
              "        </div>\n",
              "</body>\n",
              "</html>"
            ]
          },
          "metadata": {
            "tags": [
              "id11_content_7",
              "outputarea_id11",
              "user_output"
            ]
          }
        },
        {
          "output_type": "display_data",
          "data": {
            "application/javascript": [
              "window[\"bbb66b52-c5eb-11ea-8df1-0242ac1c0002\"] = google.colab.output.setActiveOutputArea(window[\"bb6ee746-c5eb-11ea-8df1-0242ac1c0002\"]);\n",
              "//# sourceURL=js_b80a6c4ca3"
            ],
            "text/plain": [
              "<IPython.core.display.Javascript object>"
            ]
          },
          "metadata": {
            "tags": [
              "id11_content_7",
              "outputarea_id11"
            ]
          }
        },
        {
          "output_type": "display_data",
          "data": {
            "application/javascript": [
              "window[\"bbb79284-c5eb-11ea-8df1-0242ac1c0002\"] = google.colab.output.getActiveOutputArea();\n",
              "//# sourceURL=js_eba7b39b85"
            ],
            "text/plain": [
              "<IPython.core.display.Javascript object>"
            ]
          },
          "metadata": {
            "tags": [
              "id11_content_8",
              "outputarea_id11"
            ]
          }
        },
        {
          "output_type": "display_data",
          "data": {
            "application/javascript": [
              "window[\"bbb82faa-c5eb-11ea-8df1-0242ac1c0002\"] = document.querySelector(\"#id11_content_8\");\n",
              "//# sourceURL=js_b2b1a06a5b"
            ],
            "text/plain": [
              "<IPython.core.display.Javascript object>"
            ]
          },
          "metadata": {
            "tags": [
              "id11_content_8",
              "outputarea_id11"
            ]
          }
        },
        {
          "output_type": "display_data",
          "data": {
            "application/javascript": [
              "window[\"bbb875b4-c5eb-11ea-8df1-0242ac1c0002\"] = google.colab.output.setActiveOutputArea(window[\"bbb82faa-c5eb-11ea-8df1-0242ac1c0002\"]);\n",
              "//# sourceURL=js_554a360c1c"
            ],
            "text/plain": [
              "<IPython.core.display.Javascript object>"
            ]
          },
          "metadata": {
            "tags": [
              "id11_content_8",
              "outputarea_id11"
            ]
          }
        },
        {
          "output_type": "display_data",
          "data": {
            "text/html": [
              "<html>\n",
              "<head><meta charset=\"utf-8\" /></head>\n",
              "<body>\n",
              "    <div>\n",
              "            <script src=\"https://cdnjs.cloudflare.com/ajax/libs/mathjax/2.7.5/MathJax.js?config=TeX-AMS-MML_SVG\"></script><script type=\"text/javascript\">if (window.MathJax) {MathJax.Hub.Config({SVG: {font: \"STIX-Web\"}});}</script>\n",
              "                <script type=\"text/javascript\">window.PlotlyConfig = {MathJaxConfig: 'local'};</script>\n",
              "        <script src=\"https://cdn.plot.ly/plotly-latest.min.js\"></script>    \n",
              "            <div id=\"1baa7552-3937-44b5-b99a-25be63a7a8dd\" class=\"plotly-graph-div\" style=\"height:525px; width:100%;\"></div>\n",
              "            <script type=\"text/javascript\">\n",
              "                \n",
              "                    window.PLOTLYENV=window.PLOTLYENV || {};\n",
              "                    \n",
              "                if (document.getElementById(\"1baa7552-3937-44b5-b99a-25be63a7a8dd\")) {\n",
              "                    Plotly.newPlot(\n",
              "                        '1baa7552-3937-44b5-b99a-25be63a7a8dd',\n",
              "                        [{\"hoverlabel\": {\"namelength\": 0}, \"hovertemplate\": \"Length=%{x}<br>%Homochirality=%{y}<br>Age=%{marker.color}\", \"legendgroup\": \"\", \"marker\": {\"color\": [0, 0, 0, 0, 0, 0, 0, 1, 1, 1, 1, 0, 0, 1, 0, 0, 2, 2, 2, 1, 0, 2, 2, 2, 3, 1, 3, 3, 0, 2, 3, 3, 3, 1, 2, 4, 4, 4, 4, 3, 3, 5, 5, 0, 5, 4, 5, 0, 0, 2, 3, 4, 6, 6, 4, 6, 5, 5, 1, 6, 6, 0, 7, 5, 1, 7, 7, 2, 7, 6, 8, 6, 8, 2, 7, 8, 3, 0, 8, 8, 9, 7, 9, 9, 4, 3, 9, 9, 8, 8, 9], \"coloraxis\": \"coloraxis\", \"symbol\": \"circle\"}, \"mode\": \"markers\", \"name\": \"\", \"showlegend\": false, \"type\": \"scatter\", \"x\": [1, 1, 1, 1, 2, 2, 2, 2, 3, 1, 3, 2, 2, 2, 1, 1, 3, 3, 1, 2, 2, 1, 1, 3, 1, 2, 3, 1, 2, 1, 1, 2, 1, 3, 2, 4, 3, 1, 1, 3, 2, 1, 3, 1, 3, 3, 1, 1, 1, 2, 1, 1, 4, 1, 3, 3, 1, 3, 1, 1, 1, 2, 1, 4, 2, 5, 3, 1, 1, 3, 1, 4, 6, 2, 3, 1, 1, 1, 2, 1, 1, 5, 1, 1, 1, 2, 4, 2, 2, 1, 2], \"xaxis\": \"x\", \"y\": [null, null, null, null, 1.0, 0.0, 0.0, 1.0, 0.5, null, 0.5, 0.0, 0.0, 0.0, null, null, 0.5, 0.5, null, 0.0, 1.0, null, null, 0.5, null, 1.0, 0.5, null, 0.0, null, null, 1.0, null, 0.0, 1.0, 0.3333333333333333, 0.5, null, null, 0.5, 1.0, null, 0.5, null, 0.5, 0.5, null, null, null, 0.0, null, null, 0.3333333333333333, null, 0.5, 0.5, null, 0.5, null, null, null, 1.0, null, 0.6666666666666666, 1.0, 0.5, 0.5, null, null, 0.5, null, 0.6666666666666666, 0.4, 1.0, 0.5, null, null, null, 1.0, null, null, 0.75, null, null, null, 1.0, 0.3333333333333333, 1.0, 1.0, null, 0.0], \"yaxis\": \"y\"}],\n",
              "                        {\"coloraxis\": {\"colorbar\": {\"title\": {\"text\": \"Age\"}}, \"colorscale\": [[0.0, \"#0d0887\"], [0.1111111111111111, \"#46039f\"], [0.2222222222222222, \"#7201a8\"], [0.3333333333333333, \"#9c179e\"], [0.4444444444444444, \"#bd3786\"], [0.5555555555555556, \"#d8576b\"], [0.6666666666666666, \"#ed7953\"], [0.7777777777777778, \"#fb9f3a\"], [0.8888888888888888, \"#fdca26\"], [1.0, \"#f0f921\"]]}, \"legend\": {\"tracegroupgap\": 0}, \"margin\": {\"t\": 60}, \"template\": {\"data\": {\"bar\": [{\"error_x\": {\"color\": \"#2a3f5f\"}, \"error_y\": {\"color\": \"#2a3f5f\"}, \"marker\": {\"line\": {\"color\": \"#E5ECF6\", \"width\": 0.5}}, \"type\": \"bar\"}], \"barpolar\": [{\"marker\": {\"line\": {\"color\": \"#E5ECF6\", \"width\": 0.5}}, \"type\": \"barpolar\"}], \"carpet\": [{\"aaxis\": {\"endlinecolor\": \"#2a3f5f\", \"gridcolor\": \"white\", \"linecolor\": \"white\", \"minorgridcolor\": \"white\", \"startlinecolor\": \"#2a3f5f\"}, \"baxis\": {\"endlinecolor\": \"#2a3f5f\", \"gridcolor\": \"white\", \"linecolor\": \"white\", \"minorgridcolor\": \"white\", \"startlinecolor\": \"#2a3f5f\"}, \"type\": \"carpet\"}], \"choropleth\": [{\"colorbar\": {\"outlinewidth\": 0, \"ticks\": \"\"}, \"type\": \"choropleth\"}], \"contour\": [{\"colorbar\": {\"outlinewidth\": 0, \"ticks\": \"\"}, \"colorscale\": [[0.0, \"#0d0887\"], [0.1111111111111111, \"#46039f\"], [0.2222222222222222, \"#7201a8\"], [0.3333333333333333, \"#9c179e\"], [0.4444444444444444, \"#bd3786\"], [0.5555555555555556, \"#d8576b\"], [0.6666666666666666, \"#ed7953\"], [0.7777777777777778, \"#fb9f3a\"], [0.8888888888888888, \"#fdca26\"], [1.0, \"#f0f921\"]], \"type\": \"contour\"}], \"contourcarpet\": [{\"colorbar\": {\"outlinewidth\": 0, \"ticks\": \"\"}, \"type\": \"contourcarpet\"}], \"heatmap\": [{\"colorbar\": {\"outlinewidth\": 0, \"ticks\": \"\"}, \"colorscale\": [[0.0, \"#0d0887\"], [0.1111111111111111, \"#46039f\"], [0.2222222222222222, \"#7201a8\"], [0.3333333333333333, \"#9c179e\"], [0.4444444444444444, \"#bd3786\"], [0.5555555555555556, \"#d8576b\"], [0.6666666666666666, \"#ed7953\"], [0.7777777777777778, \"#fb9f3a\"], [0.8888888888888888, \"#fdca26\"], [1.0, \"#f0f921\"]], \"type\": \"heatmap\"}], \"heatmapgl\": [{\"colorbar\": {\"outlinewidth\": 0, \"ticks\": \"\"}, \"colorscale\": [[0.0, \"#0d0887\"], [0.1111111111111111, \"#46039f\"], [0.2222222222222222, \"#7201a8\"], [0.3333333333333333, \"#9c179e\"], [0.4444444444444444, \"#bd3786\"], [0.5555555555555556, \"#d8576b\"], [0.6666666666666666, \"#ed7953\"], [0.7777777777777778, \"#fb9f3a\"], [0.8888888888888888, \"#fdca26\"], [1.0, \"#f0f921\"]], \"type\": \"heatmapgl\"}], \"histogram\": [{\"marker\": {\"colorbar\": {\"outlinewidth\": 0, \"ticks\": \"\"}}, \"type\": \"histogram\"}], \"histogram2d\": [{\"colorbar\": {\"outlinewidth\": 0, \"ticks\": \"\"}, \"colorscale\": [[0.0, \"#0d0887\"], [0.1111111111111111, \"#46039f\"], [0.2222222222222222, \"#7201a8\"], [0.3333333333333333, \"#9c179e\"], [0.4444444444444444, \"#bd3786\"], [0.5555555555555556, \"#d8576b\"], [0.6666666666666666, \"#ed7953\"], [0.7777777777777778, \"#fb9f3a\"], [0.8888888888888888, \"#fdca26\"], [1.0, \"#f0f921\"]], \"type\": \"histogram2d\"}], \"histogram2dcontour\": [{\"colorbar\": {\"outlinewidth\": 0, \"ticks\": \"\"}, \"colorscale\": [[0.0, \"#0d0887\"], [0.1111111111111111, \"#46039f\"], [0.2222222222222222, \"#7201a8\"], [0.3333333333333333, \"#9c179e\"], [0.4444444444444444, \"#bd3786\"], [0.5555555555555556, \"#d8576b\"], [0.6666666666666666, \"#ed7953\"], [0.7777777777777778, \"#fb9f3a\"], [0.8888888888888888, \"#fdca26\"], [1.0, \"#f0f921\"]], \"type\": \"histogram2dcontour\"}], \"mesh3d\": [{\"colorbar\": {\"outlinewidth\": 0, \"ticks\": \"\"}, \"type\": \"mesh3d\"}], \"parcoords\": [{\"line\": {\"colorbar\": {\"outlinewidth\": 0, \"ticks\": \"\"}}, \"type\": \"parcoords\"}], \"pie\": [{\"automargin\": true, \"type\": \"pie\"}], \"scatter\": [{\"marker\": {\"colorbar\": {\"outlinewidth\": 0, \"ticks\": \"\"}}, \"type\": \"scatter\"}], \"scatter3d\": [{\"line\": {\"colorbar\": {\"outlinewidth\": 0, \"ticks\": \"\"}}, \"marker\": {\"colorbar\": {\"outlinewidth\": 0, \"ticks\": \"\"}}, \"type\": \"scatter3d\"}], \"scattercarpet\": [{\"marker\": {\"colorbar\": {\"outlinewidth\": 0, \"ticks\": \"\"}}, \"type\": \"scattercarpet\"}], \"scattergeo\": [{\"marker\": {\"colorbar\": {\"outlinewidth\": 0, \"ticks\": \"\"}}, \"type\": \"scattergeo\"}], \"scattergl\": [{\"marker\": {\"colorbar\": {\"outlinewidth\": 0, \"ticks\": \"\"}}, \"type\": \"scattergl\"}], \"scattermapbox\": [{\"marker\": {\"colorbar\": {\"outlinewidth\": 0, \"ticks\": \"\"}}, \"type\": \"scattermapbox\"}], \"scatterpolar\": [{\"marker\": {\"colorbar\": {\"outlinewidth\": 0, \"ticks\": \"\"}}, \"type\": \"scatterpolar\"}], \"scatterpolargl\": [{\"marker\": {\"colorbar\": {\"outlinewidth\": 0, \"ticks\": \"\"}}, \"type\": \"scatterpolargl\"}], \"scatterternary\": [{\"marker\": {\"colorbar\": {\"outlinewidth\": 0, \"ticks\": \"\"}}, \"type\": \"scatterternary\"}], \"surface\": [{\"colorbar\": {\"outlinewidth\": 0, \"ticks\": \"\"}, \"colorscale\": [[0.0, \"#0d0887\"], [0.1111111111111111, \"#46039f\"], [0.2222222222222222, \"#7201a8\"], [0.3333333333333333, \"#9c179e\"], [0.4444444444444444, \"#bd3786\"], [0.5555555555555556, \"#d8576b\"], [0.6666666666666666, \"#ed7953\"], [0.7777777777777778, \"#fb9f3a\"], [0.8888888888888888, \"#fdca26\"], [1.0, \"#f0f921\"]], \"type\": \"surface\"}], \"table\": [{\"cells\": {\"fill\": {\"color\": \"#EBF0F8\"}, \"line\": {\"color\": \"white\"}}, \"header\": {\"fill\": {\"color\": \"#C8D4E3\"}, \"line\": {\"color\": \"white\"}}, \"type\": \"table\"}]}, \"layout\": {\"annotationdefaults\": {\"arrowcolor\": \"#2a3f5f\", \"arrowhead\": 0, \"arrowwidth\": 1}, \"coloraxis\": {\"colorbar\": {\"outlinewidth\": 0, \"ticks\": \"\"}}, \"colorscale\": {\"diverging\": [[0, \"#8e0152\"], [0.1, \"#c51b7d\"], [0.2, \"#de77ae\"], [0.3, \"#f1b6da\"], [0.4, \"#fde0ef\"], [0.5, \"#f7f7f7\"], [0.6, \"#e6f5d0\"], [0.7, \"#b8e186\"], [0.8, \"#7fbc41\"], [0.9, \"#4d9221\"], [1, \"#276419\"]], \"sequential\": [[0.0, \"#0d0887\"], [0.1111111111111111, \"#46039f\"], [0.2222222222222222, \"#7201a8\"], [0.3333333333333333, \"#9c179e\"], [0.4444444444444444, \"#bd3786\"], [0.5555555555555556, \"#d8576b\"], [0.6666666666666666, \"#ed7953\"], [0.7777777777777778, \"#fb9f3a\"], [0.8888888888888888, \"#fdca26\"], [1.0, \"#f0f921\"]], \"sequentialminus\": [[0.0, \"#0d0887\"], [0.1111111111111111, \"#46039f\"], [0.2222222222222222, \"#7201a8\"], [0.3333333333333333, \"#9c179e\"], [0.4444444444444444, \"#bd3786\"], [0.5555555555555556, \"#d8576b\"], [0.6666666666666666, \"#ed7953\"], [0.7777777777777778, \"#fb9f3a\"], [0.8888888888888888, \"#fdca26\"], [1.0, \"#f0f921\"]]}, \"colorway\": [\"#636efa\", \"#EF553B\", \"#00cc96\", \"#ab63fa\", \"#FFA15A\", \"#19d3f3\", \"#FF6692\", \"#B6E880\", \"#FF97FF\", \"#FECB52\"], \"font\": {\"color\": \"#2a3f5f\"}, \"geo\": {\"bgcolor\": \"white\", \"lakecolor\": \"white\", \"landcolor\": \"#E5ECF6\", \"showlakes\": true, \"showland\": true, \"subunitcolor\": \"white\"}, \"hoverlabel\": {\"align\": \"left\"}, \"hovermode\": \"closest\", \"mapbox\": {\"style\": \"light\"}, \"paper_bgcolor\": \"white\", \"plot_bgcolor\": \"#E5ECF6\", \"polar\": {\"angularaxis\": {\"gridcolor\": \"white\", \"linecolor\": \"white\", \"ticks\": \"\"}, \"bgcolor\": \"#E5ECF6\", \"radialaxis\": {\"gridcolor\": \"white\", \"linecolor\": \"white\", \"ticks\": \"\"}}, \"scene\": {\"xaxis\": {\"backgroundcolor\": \"#E5ECF6\", \"gridcolor\": \"white\", \"gridwidth\": 2, \"linecolor\": \"white\", \"showbackground\": true, \"ticks\": \"\", \"zerolinecolor\": \"white\"}, \"yaxis\": {\"backgroundcolor\": \"#E5ECF6\", \"gridcolor\": \"white\", \"gridwidth\": 2, \"linecolor\": \"white\", \"showbackground\": true, \"ticks\": \"\", \"zerolinecolor\": \"white\"}, \"zaxis\": {\"backgroundcolor\": \"#E5ECF6\", \"gridcolor\": \"white\", \"gridwidth\": 2, \"linecolor\": \"white\", \"showbackground\": true, \"ticks\": \"\", \"zerolinecolor\": \"white\"}}, \"shapedefaults\": {\"line\": {\"color\": \"#2a3f5f\"}}, \"ternary\": {\"aaxis\": {\"gridcolor\": \"white\", \"linecolor\": \"white\", \"ticks\": \"\"}, \"baxis\": {\"gridcolor\": \"white\", \"linecolor\": \"white\", \"ticks\": \"\"}, \"bgcolor\": \"#E5ECF6\", \"caxis\": {\"gridcolor\": \"white\", \"linecolor\": \"white\", \"ticks\": \"\"}}, \"title\": {\"x\": 0.05}, \"xaxis\": {\"automargin\": true, \"gridcolor\": \"white\", \"linecolor\": \"white\", \"ticks\": \"\", \"title\": {\"standoff\": 15}, \"zerolinecolor\": \"white\", \"zerolinewidth\": 2}, \"yaxis\": {\"automargin\": true, \"gridcolor\": \"white\", \"linecolor\": \"white\", \"ticks\": \"\", \"title\": {\"standoff\": 15}, \"zerolinecolor\": \"white\", \"zerolinewidth\": 2}}}, \"xaxis\": {\"anchor\": \"y\", \"domain\": [0.0, 1.0], \"range\": [-1, 7], \"title\": {\"text\": \"Length\"}}, \"yaxis\": {\"anchor\": \"x\", \"domain\": [0.0, 1.0], \"title\": {\"text\": \"%Homochirality\"}}},\n",
              "                        {\"responsive\": true}\n",
              "                    ).then(function(){\n",
              "                            \n",
              "var gd = document.getElementById('1baa7552-3937-44b5-b99a-25be63a7a8dd');\n",
              "var x = new MutationObserver(function (mutations, observer) {{\n",
              "        var display = window.getComputedStyle(gd).display;\n",
              "        if (!display || display === 'none') {{\n",
              "            console.log([gd, 'removed!']);\n",
              "            Plotly.purge(gd);\n",
              "            observer.disconnect();\n",
              "        }}\n",
              "}});\n",
              "\n",
              "// Listen for the removal of the full notebook cells\n",
              "var notebookContainer = gd.closest('#notebook-container');\n",
              "if (notebookContainer) {{\n",
              "    x.observe(notebookContainer, {childList: true});\n",
              "}}\n",
              "\n",
              "// Listen for the clearing of the current output cell\n",
              "var outputEl = gd.closest('.output');\n",
              "if (outputEl) {{\n",
              "    x.observe(outputEl, {childList: true});\n",
              "}}\n",
              "\n",
              "                        })\n",
              "                };\n",
              "                \n",
              "            </script>\n",
              "        </div>\n",
              "</body>\n",
              "</html>"
            ]
          },
          "metadata": {
            "tags": [
              "id11_content_8",
              "outputarea_id11",
              "user_output"
            ]
          }
        },
        {
          "output_type": "display_data",
          "data": {
            "application/javascript": [
              "window[\"bbe431a4-c5eb-11ea-8df1-0242ac1c0002\"] = google.colab.output.setActiveOutputArea(window[\"bbb79284-c5eb-11ea-8df1-0242ac1c0002\"]);\n",
              "//# sourceURL=js_e32b46235b"
            ],
            "text/plain": [
              "<IPython.core.display.Javascript object>"
            ]
          },
          "metadata": {
            "tags": [
              "id11_content_8",
              "outputarea_id11"
            ]
          }
        }
      ]
    }
  ]
}