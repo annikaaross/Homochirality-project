{
  "nbformat": 4,
  "nbformat_minor": 0,
  "metadata": {
    "colab": {
      "name": "Homochirality_v006.ipynb",
      "provenance": [],
      "collapsed_sections": [
        "AvOcPptw5JVf",
        "a8egVnJUbTYf",
        "axVuXR__qoi4",
        "jI9isLxnRk5d",
        "RX_K0yxjTSEx",
        "IdB8k_yadghA",
        "1lx9FPNLeRNM",
        "HVY41XQPUjIT",
        "hqD3AL_kUldF",
        "HEFlHyn6UoPU",
        "cz4Cis4ze7j6",
        "ALnPeaUCfhL4",
        "CmKsCAazVPy_",
        "DdqK65C-8cpi",
        "3nujicdthc10"
      ],
      "toc_visible": true,
      "include_colab_link": true
    },
    "kernelspec": {
      "name": "python3",
      "display_name": "Python 3"
    },
    "widgets": {
      "application/vnd.jupyter.widget-state+json": {
        "1e69f26dd12f4b2e91d8b6d7ee1e485b": {
          "model_module": "@jupyter-widgets/controls",
          "model_name": "HBoxModel",
          "state": {
            "_view_name": "HBoxView",
            "_dom_classes": [],
            "_model_name": "HBoxModel",
            "_view_module": "@jupyter-widgets/controls",
            "_model_module_version": "1.5.0",
            "_view_count": null,
            "_view_module_version": "1.5.0",
            "box_style": "",
            "layout": "IPY_MODEL_74abc9aab97f46e9aff90b0039409d65",
            "_model_module": "@jupyter-widgets/controls",
            "children": [
              "IPY_MODEL_ecc19ba3b9bb41a786d2084bf051c02f",
              "IPY_MODEL_0ad376168ad545608d316d45db0d3fbc",
              "IPY_MODEL_18f44354f3a541eca208cdd4b4457044"
            ]
          }
        },
        "74abc9aab97f46e9aff90b0039409d65": {
          "model_module": "@jupyter-widgets/base",
          "model_name": "LayoutModel",
          "state": {
            "_view_name": "LayoutView",
            "grid_template_rows": null,
            "right": null,
            "justify_content": null,
            "_view_module": "@jupyter-widgets/base",
            "overflow": null,
            "_model_module_version": "1.2.0",
            "_view_count": null,
            "flex_flow": null,
            "width": null,
            "min_width": null,
            "border": null,
            "align_items": null,
            "bottom": null,
            "_model_module": "@jupyter-widgets/base",
            "top": null,
            "grid_column": null,
            "overflow_y": null,
            "overflow_x": null,
            "grid_auto_flow": null,
            "grid_area": null,
            "grid_template_columns": null,
            "flex": null,
            "_model_name": "LayoutModel",
            "justify_items": null,
            "grid_row": null,
            "max_height": null,
            "align_content": null,
            "visibility": null,
            "align_self": null,
            "height": null,
            "min_height": null,
            "padding": null,
            "grid_auto_rows": null,
            "grid_gap": null,
            "max_width": null,
            "order": null,
            "_view_module_version": "1.2.0",
            "grid_template_areas": null,
            "object_position": null,
            "object_fit": null,
            "grid_auto_columns": null,
            "margin": null,
            "display": null,
            "left": null
          }
        },
        "ecc19ba3b9bb41a786d2084bf051c02f": {
          "model_module": "@jupyter-widgets/controls",
          "model_name": "VBoxModel",
          "state": {
            "_view_name": "VBoxView",
            "_dom_classes": [],
            "_model_name": "VBoxModel",
            "_view_module": "@jupyter-widgets/controls",
            "_model_module_version": "1.5.0",
            "_view_count": null,
            "_view_module_version": "1.5.0",
            "box_style": "",
            "layout": "IPY_MODEL_b8ec9f5ed3644cde825c082924efd855",
            "_model_module": "@jupyter-widgets/controls",
            "children": [
              "IPY_MODEL_8012b1528e2a451fb83a769a859775c6",
              "IPY_MODEL_a6bc21a69af44933ab4c8fb55f8bade5"
            ]
          }
        },
        "0ad376168ad545608d316d45db0d3fbc": {
          "model_module": "@jupyter-widgets/controls",
          "model_name": "VBoxModel",
          "state": {
            "_view_name": "VBoxView",
            "_dom_classes": [],
            "_model_name": "VBoxModel",
            "_view_module": "@jupyter-widgets/controls",
            "_model_module_version": "1.5.0",
            "_view_count": null,
            "_view_module_version": "1.5.0",
            "box_style": "",
            "layout": "IPY_MODEL_fe2b1fda3a784fd49746c73980a557fa",
            "_model_module": "@jupyter-widgets/controls",
            "children": [
              "IPY_MODEL_e55bb379593645708408d2394fa858d0",
              "IPY_MODEL_82eb5520fc63452dbe11558a3e083b7d",
              "IPY_MODEL_9009cb46d1074b41a48a753b1d7de889",
              "IPY_MODEL_16249f68ec324ef986922feca6939246"
            ]
          }
        },
        "18f44354f3a541eca208cdd4b4457044": {
          "model_module": "@jupyter-widgets/controls",
          "model_name": "VBoxModel",
          "state": {
            "_view_name": "VBoxView",
            "_dom_classes": [],
            "_model_name": "VBoxModel",
            "_view_module": "@jupyter-widgets/controls",
            "_model_module_version": "1.5.0",
            "_view_count": null,
            "_view_module_version": "1.5.0",
            "box_style": "",
            "layout": "IPY_MODEL_4b459de4025548f290dc30dc909ad71c",
            "_model_module": "@jupyter-widgets/controls",
            "children": [
              "IPY_MODEL_9b0b2f5cf5b84d57a5930aeda52324ba",
              "IPY_MODEL_2218672412af46ceae0d526e5bd05da1"
            ]
          }
        },
        "b8ec9f5ed3644cde825c082924efd855": {
          "model_module": "@jupyter-widgets/base",
          "model_name": "LayoutModel",
          "state": {
            "_view_name": "LayoutView",
            "grid_template_rows": null,
            "right": null,
            "justify_content": null,
            "_view_module": "@jupyter-widgets/base",
            "overflow": null,
            "_model_module_version": "1.2.0",
            "_view_count": null,
            "flex_flow": null,
            "width": null,
            "min_width": null,
            "border": null,
            "align_items": null,
            "bottom": null,
            "_model_module": "@jupyter-widgets/base",
            "top": null,
            "grid_column": null,
            "overflow_y": null,
            "overflow_x": null,
            "grid_auto_flow": null,
            "grid_area": null,
            "grid_template_columns": null,
            "flex": null,
            "_model_name": "LayoutModel",
            "justify_items": null,
            "grid_row": null,
            "max_height": null,
            "align_content": null,
            "visibility": null,
            "align_self": null,
            "height": null,
            "min_height": null,
            "padding": null,
            "grid_auto_rows": null,
            "grid_gap": null,
            "max_width": null,
            "order": null,
            "_view_module_version": "1.2.0",
            "grid_template_areas": null,
            "object_position": null,
            "object_fit": null,
            "grid_auto_columns": null,
            "margin": null,
            "display": null,
            "left": null
          }
        },
        "8012b1528e2a451fb83a769a859775c6": {
          "model_module": "@jupyter-widgets/controls",
          "model_name": "VBoxModel",
          "state": {
            "_view_name": "VBoxView",
            "_dom_classes": [],
            "_model_name": "VBoxModel",
            "_view_module": "@jupyter-widgets/controls",
            "_model_module_version": "1.5.0",
            "_view_count": null,
            "_view_module_version": "1.5.0",
            "box_style": "",
            "layout": "IPY_MODEL_6b0305343cb845c7abde2dfb1baa9b39",
            "_model_module": "@jupyter-widgets/controls",
            "children": [
              "IPY_MODEL_77270f2a3fb140d68a642f6512dceb48",
              "IPY_MODEL_5dd050d736da451ca696eb604e36804d",
              "IPY_MODEL_c4a19fd8a5fa40a2af2dd8850f677767"
            ]
          }
        },
        "a6bc21a69af44933ab4c8fb55f8bade5": {
          "model_module": "@jupyter-widgets/controls",
          "model_name": "VBoxModel",
          "state": {
            "_view_name": "VBoxView",
            "_dom_classes": [],
            "_model_name": "VBoxModel",
            "_view_module": "@jupyter-widgets/controls",
            "_model_module_version": "1.5.0",
            "_view_count": null,
            "_view_module_version": "1.5.0",
            "box_style": "",
            "layout": "IPY_MODEL_83986fdbfc4d412399553ab035cf5e59",
            "_model_module": "@jupyter-widgets/controls",
            "children": [
              "IPY_MODEL_bd4e2e043c6a40d3b086c7c916ba9fe2",
              "IPY_MODEL_c17b3c2ffd2d4fbab9c3aa60401f3303",
              "IPY_MODEL_6f2a20179e6e43079d6d23364c5fd102"
            ]
          }
        },
        "fe2b1fda3a784fd49746c73980a557fa": {
          "model_module": "@jupyter-widgets/base",
          "model_name": "LayoutModel",
          "state": {
            "_view_name": "LayoutView",
            "grid_template_rows": null,
            "right": null,
            "justify_content": null,
            "_view_module": "@jupyter-widgets/base",
            "overflow": null,
            "_model_module_version": "1.2.0",
            "_view_count": null,
            "flex_flow": null,
            "width": null,
            "min_width": null,
            "border": null,
            "align_items": null,
            "bottom": null,
            "_model_module": "@jupyter-widgets/base",
            "top": null,
            "grid_column": null,
            "overflow_y": null,
            "overflow_x": null,
            "grid_auto_flow": null,
            "grid_area": null,
            "grid_template_columns": null,
            "flex": null,
            "_model_name": "LayoutModel",
            "justify_items": null,
            "grid_row": null,
            "max_height": null,
            "align_content": null,
            "visibility": null,
            "align_self": null,
            "height": null,
            "min_height": null,
            "padding": null,
            "grid_auto_rows": null,
            "grid_gap": null,
            "max_width": null,
            "order": null,
            "_view_module_version": "1.2.0",
            "grid_template_areas": null,
            "object_position": null,
            "object_fit": null,
            "grid_auto_columns": null,
            "margin": null,
            "display": null,
            "left": null
          }
        },
        "e55bb379593645708408d2394fa858d0": {
          "model_module": "@jupyter-widgets/controls",
          "model_name": "VBoxModel",
          "state": {
            "_view_name": "VBoxView",
            "_dom_classes": [],
            "_model_name": "VBoxModel",
            "_view_module": "@jupyter-widgets/controls",
            "_model_module_version": "1.5.0",
            "_view_count": null,
            "_view_module_version": "1.5.0",
            "box_style": "",
            "layout": "IPY_MODEL_476f493f1f6240e486f6317c900e3a5e",
            "_model_module": "@jupyter-widgets/controls",
            "children": [
              "IPY_MODEL_6cb2b5198cf34970844b9a911a3b7156",
              "IPY_MODEL_ba11986cb38b43bb925c4c17fb9b40c7",
              "IPY_MODEL_dfc2ffe11010443bb906fea5cb8e5c64",
              "IPY_MODEL_6d0c4295227c462d8fc5cf4fd2d2e942"
            ]
          }
        },
        "82eb5520fc63452dbe11558a3e083b7d": {
          "model_module": "@jupyter-widgets/controls",
          "model_name": "ButtonModel",
          "state": {
            "_view_name": "ButtonView",
            "style": "IPY_MODEL_1b496c01e11b424c8a261ee11c81354e",
            "_dom_classes": [],
            "description": "GO!",
            "_model_name": "ButtonModel",
            "button_style": "primary",
            "_view_module": "@jupyter-widgets/controls",
            "_model_module_version": "1.5.0",
            "tooltip": "",
            "_view_count": null,
            "disabled": false,
            "_view_module_version": "1.5.0",
            "layout": "IPY_MODEL_e4313b944286406a89e76627c63c932e",
            "_model_module": "@jupyter-widgets/controls",
            "icon": ""
          }
        },
        "9009cb46d1074b41a48a753b1d7de889": {
          "model_module": "@jupyter-widgets/controls",
          "model_name": "ButtonModel",
          "state": {
            "_view_name": "ButtonView",
            "style": "IPY_MODEL_cd96ab1be4024c628f3a7594f0164028",
            "_dom_classes": [],
            "description": "Export data",
            "_model_name": "ButtonModel",
            "button_style": "",
            "_view_module": "@jupyter-widgets/controls",
            "_model_module_version": "1.5.0",
            "tooltip": "",
            "_view_count": null,
            "disabled": false,
            "_view_module_version": "1.5.0",
            "layout": "IPY_MODEL_c9f221e5eb0c4a588dd28c19e856e449",
            "_model_module": "@jupyter-widgets/controls",
            "icon": ""
          }
        },
        "16249f68ec324ef986922feca6939246": {
          "model_module": "@jupyter-widgets/output",
          "model_name": "OutputModel",
          "state": {
            "_view_name": "OutputView",
            "msg_id": "",
            "_dom_classes": [],
            "_model_name": "OutputModel",
            "outputs": [
              {
                "output_type": "stream",
                "metadata": {
                  "tags": []
                },
                "text": "Data exported.\n",
                "stream": "stdout"
              }
            ],
            "_view_module": "@jupyter-widgets/output",
            "_model_module_version": "1.0.0",
            "_view_count": null,
            "_view_module_version": "1.0.0",
            "layout": "IPY_MODEL_bbb96fbc9a484470a197af14b5ef40db",
            "_model_module": "@jupyter-widgets/output"
          }
        },
        "4b459de4025548f290dc30dc909ad71c": {
          "model_module": "@jupyter-widgets/base",
          "model_name": "LayoutModel",
          "state": {
            "_view_name": "LayoutView",
            "grid_template_rows": null,
            "right": null,
            "justify_content": null,
            "_view_module": "@jupyter-widgets/base",
            "overflow": null,
            "_model_module_version": "1.2.0",
            "_view_count": null,
            "flex_flow": null,
            "width": null,
            "min_width": null,
            "border": null,
            "align_items": null,
            "bottom": null,
            "_model_module": "@jupyter-widgets/base",
            "top": null,
            "grid_column": null,
            "overflow_y": null,
            "overflow_x": null,
            "grid_auto_flow": null,
            "grid_area": null,
            "grid_template_columns": null,
            "flex": null,
            "_model_name": "LayoutModel",
            "justify_items": null,
            "grid_row": null,
            "max_height": null,
            "align_content": null,
            "visibility": null,
            "align_self": null,
            "height": null,
            "min_height": null,
            "padding": null,
            "grid_auto_rows": null,
            "grid_gap": null,
            "max_width": null,
            "order": null,
            "_view_module_version": "1.2.0",
            "grid_template_areas": null,
            "object_position": null,
            "object_fit": null,
            "grid_auto_columns": null,
            "margin": null,
            "display": null,
            "left": null
          }
        },
        "9b0b2f5cf5b84d57a5930aeda52324ba": {
          "model_module": "@jupyter-widgets/controls",
          "model_name": "VBoxModel",
          "state": {
            "_view_name": "VBoxView",
            "_dom_classes": [],
            "_model_name": "VBoxModel",
            "_view_module": "@jupyter-widgets/controls",
            "_model_module_version": "1.5.0",
            "_view_count": null,
            "_view_module_version": "1.5.0",
            "box_style": "",
            "layout": "IPY_MODEL_43a8b591c6ba4a418dd4c3533c1ca76b",
            "_model_module": "@jupyter-widgets/controls",
            "children": [
              "IPY_MODEL_3b66e686e2cd49b99140841152e2cfbc",
              "IPY_MODEL_a5b5cbb0bffd4e159fd9a9a8acbe693e"
            ]
          }
        },
        "2218672412af46ceae0d526e5bd05da1": {
          "model_module": "@jupyter-widgets/controls",
          "model_name": "VBoxModel",
          "state": {
            "_view_name": "VBoxView",
            "_dom_classes": [],
            "_model_name": "VBoxModel",
            "_view_module": "@jupyter-widgets/controls",
            "_model_module_version": "1.5.0",
            "_view_count": null,
            "_view_module_version": "1.5.0",
            "box_style": "",
            "layout": "IPY_MODEL_4bb932e0621344ce93933444245bb17f",
            "_model_module": "@jupyter-widgets/controls",
            "children": [
              "IPY_MODEL_fc73d8dbf8434db3adda9740af0da505",
              "IPY_MODEL_46ad9db0ad7644489da202049a203851"
            ]
          }
        },
        "6b0305343cb845c7abde2dfb1baa9b39": {
          "model_module": "@jupyter-widgets/base",
          "model_name": "LayoutModel",
          "state": {
            "_view_name": "LayoutView",
            "grid_template_rows": null,
            "right": null,
            "justify_content": null,
            "_view_module": "@jupyter-widgets/base",
            "overflow": null,
            "_model_module_version": "1.2.0",
            "_view_count": null,
            "flex_flow": null,
            "width": null,
            "min_width": null,
            "border": null,
            "align_items": null,
            "bottom": null,
            "_model_module": "@jupyter-widgets/base",
            "top": null,
            "grid_column": null,
            "overflow_y": null,
            "overflow_x": null,
            "grid_auto_flow": null,
            "grid_area": null,
            "grid_template_columns": null,
            "flex": null,
            "_model_name": "LayoutModel",
            "justify_items": null,
            "grid_row": null,
            "max_height": null,
            "align_content": null,
            "visibility": null,
            "align_self": null,
            "height": null,
            "min_height": null,
            "padding": null,
            "grid_auto_rows": null,
            "grid_gap": null,
            "max_width": null,
            "order": null,
            "_view_module_version": "1.2.0",
            "grid_template_areas": null,
            "object_position": null,
            "object_fit": null,
            "grid_auto_columns": null,
            "margin": null,
            "display": null,
            "left": null
          }
        },
        "77270f2a3fb140d68a642f6512dceb48": {
          "model_module": "@jupyter-widgets/controls",
          "model_name": "LabelModel",
          "state": {
            "_view_name": "LabelView",
            "style": "IPY_MODEL_dcdd52acd2624b3cbf4c5431d194c149",
            "_dom_classes": [],
            "description": "",
            "_model_name": "LabelModel",
            "placeholder": "​",
            "_view_module": "@jupyter-widgets/controls",
            "_model_module_version": "1.5.0",
            "value": "Monomer parameters",
            "_view_count": null,
            "_view_module_version": "1.5.0",
            "description_tooltip": null,
            "_model_module": "@jupyter-widgets/controls",
            "layout": "IPY_MODEL_b4a8b5cc3e1a4d0381941129468422d0"
          }
        },
        "5dd050d736da451ca696eb604e36804d": {
          "model_module": "@jupyter-widgets/controls",
          "model_name": "VBoxModel",
          "state": {
            "_view_name": "VBoxView",
            "_dom_classes": [],
            "_model_name": "VBoxModel",
            "_view_module": "@jupyter-widgets/controls",
            "_model_module_version": "1.5.0",
            "_view_count": null,
            "_view_module_version": "1.5.0",
            "box_style": "",
            "layout": "IPY_MODEL_a5ca0a579f1b49eebaa2bcc32494b44c",
            "_model_module": "@jupyter-widgets/controls",
            "children": [
              "IPY_MODEL_c7e1585722f244b9b2d32beaca5ee6ab",
              "IPY_MODEL_e4f68b219a0c4cb18f2344de0076709e"
            ]
          }
        },
        "c4a19fd8a5fa40a2af2dd8850f677767": {
          "model_module": "@jupyter-widgets/controls",
          "model_name": "VBoxModel",
          "state": {
            "_view_name": "VBoxView",
            "_dom_classes": [],
            "_model_name": "VBoxModel",
            "_view_module": "@jupyter-widgets/controls",
            "_model_module_version": "1.5.0",
            "_view_count": null,
            "_view_module_version": "1.5.0",
            "box_style": "",
            "layout": "IPY_MODEL_8d9dd26a286249f6bee5f8467d7a0e41",
            "_model_module": "@jupyter-widgets/controls",
            "children": [
              "IPY_MODEL_0595b3d1d41344f9b08973ae43e3c49b",
              "IPY_MODEL_dfc16985115940f49ba503deafe17009"
            ]
          }
        },
        "83986fdbfc4d412399553ab035cf5e59": {
          "model_module": "@jupyter-widgets/base",
          "model_name": "LayoutModel",
          "state": {
            "_view_name": "LayoutView",
            "grid_template_rows": null,
            "right": null,
            "justify_content": null,
            "_view_module": "@jupyter-widgets/base",
            "overflow": null,
            "_model_module_version": "1.2.0",
            "_view_count": null,
            "flex_flow": null,
            "width": null,
            "min_width": null,
            "border": null,
            "align_items": null,
            "bottom": null,
            "_model_module": "@jupyter-widgets/base",
            "top": null,
            "grid_column": null,
            "overflow_y": null,
            "overflow_x": null,
            "grid_auto_flow": null,
            "grid_area": null,
            "grid_template_columns": null,
            "flex": null,
            "_model_name": "LayoutModel",
            "justify_items": null,
            "grid_row": null,
            "max_height": null,
            "align_content": null,
            "visibility": null,
            "align_self": null,
            "height": null,
            "min_height": null,
            "padding": null,
            "grid_auto_rows": null,
            "grid_gap": null,
            "max_width": null,
            "order": null,
            "_view_module_version": "1.2.0",
            "grid_template_areas": null,
            "object_position": null,
            "object_fit": null,
            "grid_auto_columns": null,
            "margin": null,
            "display": null,
            "left": null
          }
        },
        "bd4e2e043c6a40d3b086c7c916ba9fe2": {
          "model_module": "@jupyter-widgets/controls",
          "model_name": "LabelModel",
          "state": {
            "_view_name": "LabelView",
            "style": "IPY_MODEL_8ebbcd8379844f28bae58311c44dede7",
            "_dom_classes": [],
            "description": "",
            "_model_name": "LabelModel",
            "placeholder": "​",
            "_view_module": "@jupyter-widgets/controls",
            "_model_module_version": "1.5.0",
            "value": "Simulation paramaters",
            "_view_count": null,
            "_view_module_version": "1.5.0",
            "description_tooltip": null,
            "_model_module": "@jupyter-widgets/controls",
            "layout": "IPY_MODEL_1929013a6ac04a5fb4a3e36eba89a82e"
          }
        },
        "c17b3c2ffd2d4fbab9c3aa60401f3303": {
          "model_module": "@jupyter-widgets/controls",
          "model_name": "VBoxModel",
          "state": {
            "_view_name": "VBoxView",
            "_dom_classes": [],
            "_model_name": "VBoxModel",
            "_view_module": "@jupyter-widgets/controls",
            "_model_module_version": "1.5.0",
            "_view_count": null,
            "_view_module_version": "1.5.0",
            "box_style": "",
            "layout": "IPY_MODEL_bd31ce44afcc4c9eb9c0f7e84622fc32",
            "_model_module": "@jupyter-widgets/controls",
            "children": [
              "IPY_MODEL_da69e5a94bea4e139040c1495a1bd8bc",
              "IPY_MODEL_9ee22ee6e6474f52933b08163652f76a"
            ]
          }
        },
        "6f2a20179e6e43079d6d23364c5fd102": {
          "model_module": "@jupyter-widgets/controls",
          "model_name": "VBoxModel",
          "state": {
            "_view_name": "VBoxView",
            "_dom_classes": [],
            "_model_name": "VBoxModel",
            "_view_module": "@jupyter-widgets/controls",
            "_model_module_version": "1.5.0",
            "_view_count": null,
            "_view_module_version": "1.5.0",
            "box_style": "",
            "layout": "IPY_MODEL_87bbe01d69c84422907d4075a9345825",
            "_model_module": "@jupyter-widgets/controls",
            "children": [
              "IPY_MODEL_6da99da1ccea4f3ba471c1affcc4d885",
              "IPY_MODEL_5ae3cfe0e2d249ea8c6800542755369e"
            ]
          }
        },
        "476f493f1f6240e486f6317c900e3a5e": {
          "model_module": "@jupyter-widgets/base",
          "model_name": "LayoutModel",
          "state": {
            "_view_name": "LayoutView",
            "grid_template_rows": null,
            "right": null,
            "justify_content": null,
            "_view_module": "@jupyter-widgets/base",
            "overflow": null,
            "_model_module_version": "1.2.0",
            "_view_count": null,
            "flex_flow": null,
            "width": null,
            "min_width": null,
            "border": null,
            "align_items": null,
            "bottom": null,
            "_model_module": "@jupyter-widgets/base",
            "top": null,
            "grid_column": null,
            "overflow_y": null,
            "overflow_x": null,
            "grid_auto_flow": null,
            "grid_area": null,
            "grid_template_columns": null,
            "flex": null,
            "_model_name": "LayoutModel",
            "justify_items": null,
            "grid_row": null,
            "max_height": null,
            "align_content": null,
            "visibility": null,
            "align_self": null,
            "height": null,
            "min_height": null,
            "padding": null,
            "grid_auto_rows": null,
            "grid_gap": null,
            "max_width": null,
            "order": null,
            "_view_module_version": "1.2.0",
            "grid_template_areas": null,
            "object_position": null,
            "object_fit": null,
            "grid_auto_columns": null,
            "margin": null,
            "display": null,
            "left": null
          }
        },
        "6cb2b5198cf34970844b9a911a3b7156": {
          "model_module": "@jupyter-widgets/controls",
          "model_name": "LabelModel",
          "state": {
            "_view_name": "LabelView",
            "style": "IPY_MODEL_491fbb3d55cc4d32a2cd6d5a74859992",
            "_dom_classes": [],
            "description": "",
            "_model_name": "LabelModel",
            "placeholder": "​",
            "_view_module": "@jupyter-widgets/controls",
            "_model_module_version": "1.5.0",
            "value": "General parameters",
            "_view_count": null,
            "_view_module_version": "1.5.0",
            "description_tooltip": null,
            "_model_module": "@jupyter-widgets/controls",
            "layout": "IPY_MODEL_0ff3a2d730e044c4a7bc4db5826d1bdd"
          }
        },
        "ba11986cb38b43bb925c4c17fb9b40c7": {
          "model_module": "@jupyter-widgets/controls",
          "model_name": "VBoxModel",
          "state": {
            "_view_name": "VBoxView",
            "_dom_classes": [],
            "_model_name": "VBoxModel",
            "_view_module": "@jupyter-widgets/controls",
            "_model_module_version": "1.5.0",
            "_view_count": null,
            "_view_module_version": "1.5.0",
            "box_style": "",
            "layout": "IPY_MODEL_afcb89728b884fd7a35bb4e7ca22bd6a",
            "_model_module": "@jupyter-widgets/controls",
            "children": [
              "IPY_MODEL_5910a9afae8440469c02543164aff99f",
              "IPY_MODEL_536221f9d3914687b58955eeaf3f906a"
            ]
          }
        },
        "dfc2ffe11010443bb906fea5cb8e5c64": {
          "model_module": "@jupyter-widgets/controls",
          "model_name": "VBoxModel",
          "state": {
            "_view_name": "VBoxView",
            "_dom_classes": [],
            "_model_name": "VBoxModel",
            "_view_module": "@jupyter-widgets/controls",
            "_model_module_version": "1.5.0",
            "_view_count": null,
            "_view_module_version": "1.5.0",
            "box_style": "",
            "layout": "IPY_MODEL_073dd3ba8e3f4929910433f67b97940a",
            "_model_module": "@jupyter-widgets/controls",
            "children": [
              "IPY_MODEL_ab59742309c845e7a04ae8b4e07d5d48",
              "IPY_MODEL_8b72637003ed4d7e9bbe07f213f62549"
            ]
          }
        },
        "6d0c4295227c462d8fc5cf4fd2d2e942": {
          "model_module": "@jupyter-widgets/controls",
          "model_name": "VBoxModel",
          "state": {
            "_view_name": "VBoxView",
            "_dom_classes": [],
            "_model_name": "VBoxModel",
            "_view_module": "@jupyter-widgets/controls",
            "_model_module_version": "1.5.0",
            "_view_count": null,
            "_view_module_version": "1.5.0",
            "box_style": "",
            "layout": "IPY_MODEL_eb344cb0de4642ed9f2b4c86c37450fe",
            "_model_module": "@jupyter-widgets/controls",
            "children": [
              "IPY_MODEL_a7604100e01d4e5593a7cddf29c659b1",
              "IPY_MODEL_e2077f17761e48e29c55194b32c6fd3b"
            ]
          }
        },
        "1b496c01e11b424c8a261ee11c81354e": {
          "model_module": "@jupyter-widgets/controls",
          "model_name": "ButtonStyleModel",
          "state": {
            "_view_name": "StyleView",
            "_model_name": "ButtonStyleModel",
            "_view_module": "@jupyter-widgets/base",
            "_model_module_version": "1.5.0",
            "_view_count": null,
            "button_color": null,
            "font_weight": "",
            "_view_module_version": "1.2.0",
            "_model_module": "@jupyter-widgets/controls"
          }
        },
        "e4313b944286406a89e76627c63c932e": {
          "model_module": "@jupyter-widgets/base",
          "model_name": "LayoutModel",
          "state": {
            "_view_name": "LayoutView",
            "grid_template_rows": null,
            "right": null,
            "justify_content": null,
            "_view_module": "@jupyter-widgets/base",
            "overflow": null,
            "_model_module_version": "1.2.0",
            "_view_count": null,
            "flex_flow": null,
            "width": null,
            "min_width": null,
            "border": null,
            "align_items": null,
            "bottom": null,
            "_model_module": "@jupyter-widgets/base",
            "top": null,
            "grid_column": null,
            "overflow_y": null,
            "overflow_x": null,
            "grid_auto_flow": null,
            "grid_area": null,
            "grid_template_columns": null,
            "flex": null,
            "_model_name": "LayoutModel",
            "justify_items": null,
            "grid_row": null,
            "max_height": null,
            "align_content": null,
            "visibility": null,
            "align_self": null,
            "height": null,
            "min_height": null,
            "padding": null,
            "grid_auto_rows": null,
            "grid_gap": null,
            "max_width": null,
            "order": null,
            "_view_module_version": "1.2.0",
            "grid_template_areas": null,
            "object_position": null,
            "object_fit": null,
            "grid_auto_columns": null,
            "margin": null,
            "display": null,
            "left": null
          }
        },
        "cd96ab1be4024c628f3a7594f0164028": {
          "model_module": "@jupyter-widgets/controls",
          "model_name": "ButtonStyleModel",
          "state": {
            "_view_name": "StyleView",
            "_model_name": "ButtonStyleModel",
            "_view_module": "@jupyter-widgets/base",
            "_model_module_version": "1.5.0",
            "_view_count": null,
            "button_color": null,
            "font_weight": "",
            "_view_module_version": "1.2.0",
            "_model_module": "@jupyter-widgets/controls"
          }
        },
        "c9f221e5eb0c4a588dd28c19e856e449": {
          "model_module": "@jupyter-widgets/base",
          "model_name": "LayoutModel",
          "state": {
            "_view_name": "LayoutView",
            "grid_template_rows": null,
            "right": null,
            "justify_content": null,
            "_view_module": "@jupyter-widgets/base",
            "overflow": null,
            "_model_module_version": "1.2.0",
            "_view_count": null,
            "flex_flow": null,
            "width": null,
            "min_width": null,
            "border": null,
            "align_items": null,
            "bottom": null,
            "_model_module": "@jupyter-widgets/base",
            "top": null,
            "grid_column": null,
            "overflow_y": null,
            "overflow_x": null,
            "grid_auto_flow": null,
            "grid_area": null,
            "grid_template_columns": null,
            "flex": null,
            "_model_name": "LayoutModel",
            "justify_items": null,
            "grid_row": null,
            "max_height": null,
            "align_content": null,
            "visibility": null,
            "align_self": null,
            "height": null,
            "min_height": null,
            "padding": null,
            "grid_auto_rows": null,
            "grid_gap": null,
            "max_width": null,
            "order": null,
            "_view_module_version": "1.2.0",
            "grid_template_areas": null,
            "object_position": null,
            "object_fit": null,
            "grid_auto_columns": null,
            "margin": null,
            "display": null,
            "left": null
          }
        },
        "43a8b591c6ba4a418dd4c3533c1ca76b": {
          "model_module": "@jupyter-widgets/base",
          "model_name": "LayoutModel",
          "state": {
            "_view_name": "LayoutView",
            "grid_template_rows": null,
            "right": null,
            "justify_content": null,
            "_view_module": "@jupyter-widgets/base",
            "overflow": null,
            "_model_module_version": "1.2.0",
            "_view_count": null,
            "flex_flow": null,
            "width": null,
            "min_width": null,
            "border": null,
            "align_items": null,
            "bottom": null,
            "_model_module": "@jupyter-widgets/base",
            "top": null,
            "grid_column": null,
            "overflow_y": null,
            "overflow_x": null,
            "grid_auto_flow": null,
            "grid_area": null,
            "grid_template_columns": null,
            "flex": null,
            "_model_name": "LayoutModel",
            "justify_items": null,
            "grid_row": null,
            "max_height": null,
            "align_content": null,
            "visibility": null,
            "align_self": null,
            "height": null,
            "min_height": null,
            "padding": null,
            "grid_auto_rows": null,
            "grid_gap": null,
            "max_width": null,
            "order": null,
            "_view_module_version": "1.2.0",
            "grid_template_areas": null,
            "object_position": null,
            "object_fit": null,
            "grid_auto_columns": null,
            "margin": null,
            "display": null,
            "left": null
          }
        },
        "3b66e686e2cd49b99140841152e2cfbc": {
          "model_module": "@jupyter-widgets/controls",
          "model_name": "LabelModel",
          "state": {
            "_view_name": "LabelView",
            "style": "IPY_MODEL_3c123dd45abd4fd1adad9c7b14e0a866",
            "_dom_classes": [],
            "description": "",
            "_model_name": "LabelModel",
            "placeholder": "​",
            "_view_module": "@jupyter-widgets/controls",
            "_model_module_version": "1.5.0",
            "value": "Select calculation method:",
            "_view_count": null,
            "_view_module_version": "1.5.0",
            "description_tooltip": null,
            "_model_module": "@jupyter-widgets/controls",
            "layout": "IPY_MODEL_681fcab164d940499ea1f2cea1942832"
          }
        },
        "a5b5cbb0bffd4e159fd9a9a8acbe693e": {
          "model_module": "@jupyter-widgets/controls",
          "model_name": "DropdownModel",
          "state": {
            "_options_labels": [
              "bias",
              "standard",
              "poisson"
            ],
            "_view_name": "DropdownView",
            "style": "IPY_MODEL_e4bd734b982d44eca73f6b3169c50db8",
            "_dom_classes": [],
            "description": "",
            "_model_name": "DropdownModel",
            "index": 1,
            "_view_module": "@jupyter-widgets/controls",
            "_model_module_version": "1.5.0",
            "_view_count": null,
            "disabled": false,
            "_view_module_version": "1.5.0",
            "description_tooltip": null,
            "_model_module": "@jupyter-widgets/controls",
            "layout": "IPY_MODEL_d119998214a341bcbbbe05815e630703"
          }
        },
        "4bb932e0621344ce93933444245bb17f": {
          "model_module": "@jupyter-widgets/base",
          "model_name": "LayoutModel",
          "state": {
            "_view_name": "LayoutView",
            "grid_template_rows": null,
            "right": null,
            "justify_content": null,
            "_view_module": "@jupyter-widgets/base",
            "overflow": null,
            "_model_module_version": "1.2.0",
            "_view_count": null,
            "flex_flow": null,
            "width": null,
            "min_width": null,
            "border": null,
            "align_items": null,
            "bottom": null,
            "_model_module": "@jupyter-widgets/base",
            "top": null,
            "grid_column": null,
            "overflow_y": null,
            "overflow_x": null,
            "grid_auto_flow": null,
            "grid_area": null,
            "grid_template_columns": null,
            "flex": null,
            "_model_name": "LayoutModel",
            "justify_items": null,
            "grid_row": null,
            "max_height": null,
            "align_content": null,
            "visibility": null,
            "align_self": null,
            "height": null,
            "min_height": null,
            "padding": null,
            "grid_auto_rows": null,
            "grid_gap": null,
            "max_width": null,
            "order": null,
            "_view_module_version": "1.2.0",
            "grid_template_areas": null,
            "object_position": null,
            "object_fit": null,
            "grid_auto_columns": null,
            "margin": null,
            "display": null,
            "left": null
          }
        },
        "fc73d8dbf8434db3adda9740af0da505": {
          "model_module": "@jupyter-widgets/controls",
          "model_name": "VBoxModel",
          "state": {
            "_view_name": "VBoxView",
            "_dom_classes": [],
            "_model_name": "VBoxModel",
            "_view_module": "@jupyter-widgets/controls",
            "_model_module_version": "1.5.0",
            "_view_count": null,
            "_view_module_version": "1.5.0",
            "box_style": "",
            "layout": "IPY_MODEL_ab5708fc67bf45b6af736cf45872682e",
            "_model_module": "@jupyter-widgets/controls",
            "children": [
              "IPY_MODEL_6cbdbe562e66429cad1ec753d8aff12c",
              "IPY_MODEL_ebc955b45dfc43d2b4a87a5c1359e0e4"
            ]
          }
        },
        "46ad9db0ad7644489da202049a203851": {
          "model_module": "@jupyter-widgets/controls",
          "model_name": "VBoxModel",
          "state": {
            "_view_name": "VBoxView",
            "_dom_classes": [],
            "_model_name": "VBoxModel",
            "_view_module": "@jupyter-widgets/controls",
            "_model_module_version": "1.5.0",
            "_view_count": null,
            "_view_module_version": "1.5.0",
            "box_style": "",
            "layout": "IPY_MODEL_1df79784fd124a37b71bb508c71ed847",
            "_model_module": "@jupyter-widgets/controls",
            "children": [
              "IPY_MODEL_884cec89e7b2493299753715cada94b9",
              "IPY_MODEL_87b6dc48b449416694c0e992bd09fff6"
            ]
          }
        },
        "dcdd52acd2624b3cbf4c5431d194c149": {
          "model_module": "@jupyter-widgets/controls",
          "model_name": "DescriptionStyleModel",
          "state": {
            "_view_name": "StyleView",
            "_model_name": "DescriptionStyleModel",
            "description_width": "",
            "_view_module": "@jupyter-widgets/base",
            "_model_module_version": "1.5.0",
            "_view_count": null,
            "_view_module_version": "1.2.0",
            "_model_module": "@jupyter-widgets/controls"
          }
        },
        "b4a8b5cc3e1a4d0381941129468422d0": {
          "model_module": "@jupyter-widgets/base",
          "model_name": "LayoutModel",
          "state": {
            "_view_name": "LayoutView",
            "grid_template_rows": null,
            "right": null,
            "justify_content": null,
            "_view_module": "@jupyter-widgets/base",
            "overflow": null,
            "_model_module_version": "1.2.0",
            "_view_count": null,
            "flex_flow": null,
            "width": null,
            "min_width": null,
            "border": null,
            "align_items": null,
            "bottom": null,
            "_model_module": "@jupyter-widgets/base",
            "top": null,
            "grid_column": null,
            "overflow_y": null,
            "overflow_x": null,
            "grid_auto_flow": null,
            "grid_area": null,
            "grid_template_columns": null,
            "flex": null,
            "_model_name": "LayoutModel",
            "justify_items": null,
            "grid_row": null,
            "max_height": null,
            "align_content": null,
            "visibility": null,
            "align_self": null,
            "height": null,
            "min_height": null,
            "padding": null,
            "grid_auto_rows": null,
            "grid_gap": null,
            "max_width": null,
            "order": null,
            "_view_module_version": "1.2.0",
            "grid_template_areas": null,
            "object_position": null,
            "object_fit": null,
            "grid_auto_columns": null,
            "margin": null,
            "display": null,
            "left": null
          }
        },
        "a5ca0a579f1b49eebaa2bcc32494b44c": {
          "model_module": "@jupyter-widgets/base",
          "model_name": "LayoutModel",
          "state": {
            "_view_name": "LayoutView",
            "grid_template_rows": null,
            "right": null,
            "justify_content": null,
            "_view_module": "@jupyter-widgets/base",
            "overflow": null,
            "_model_module_version": "1.2.0",
            "_view_count": null,
            "flex_flow": null,
            "width": null,
            "min_width": null,
            "border": null,
            "align_items": null,
            "bottom": null,
            "_model_module": "@jupyter-widgets/base",
            "top": null,
            "grid_column": null,
            "overflow_y": null,
            "overflow_x": null,
            "grid_auto_flow": null,
            "grid_area": null,
            "grid_template_columns": null,
            "flex": null,
            "_model_name": "LayoutModel",
            "justify_items": null,
            "grid_row": null,
            "max_height": null,
            "align_content": null,
            "visibility": null,
            "align_self": null,
            "height": null,
            "min_height": null,
            "padding": null,
            "grid_auto_rows": null,
            "grid_gap": null,
            "max_width": null,
            "order": null,
            "_view_module_version": "1.2.0",
            "grid_template_areas": null,
            "object_position": null,
            "object_fit": null,
            "grid_auto_columns": null,
            "margin": null,
            "display": null,
            "left": null
          }
        },
        "c7e1585722f244b9b2d32beaca5ee6ab": {
          "model_module": "@jupyter-widgets/controls",
          "model_name": "LabelModel",
          "state": {
            "_view_name": "LabelView",
            "style": "IPY_MODEL_dd8d056711b243a6bef9d4491bb94411",
            "_dom_classes": [],
            "description": "",
            "_model_name": "LabelModel",
            "placeholder": "​",
            "_view_module": "@jupyter-widgets/controls",
            "_model_module_version": "1.5.0",
            "value": "POOF_CHANCE",
            "_view_count": null,
            "_view_module_version": "1.5.0",
            "description_tooltip": null,
            "_model_module": "@jupyter-widgets/controls",
            "layout": "IPY_MODEL_dd472f20c3bb4a42b69a3536263ce1ba"
          }
        },
        "e4f68b219a0c4cb18f2344de0076709e": {
          "model_module": "@jupyter-widgets/controls",
          "model_name": "FloatSliderModel",
          "state": {
            "_view_name": "FloatSliderView",
            "style": "IPY_MODEL_af6b8f2053b74893901fd64a47e33ba6",
            "_dom_classes": [],
            "description": "",
            "step": 0.01,
            "_model_name": "FloatSliderModel",
            "orientation": "horizontal",
            "max": 1,
            "_view_module": "@jupyter-widgets/controls",
            "_model_module_version": "1.5.0",
            "value": 0.29,
            "_view_count": null,
            "disabled": false,
            "_view_module_version": "1.5.0",
            "min": 0,
            "continuous_update": true,
            "readout_format": ".2f",
            "description_tooltip": null,
            "readout": true,
            "_model_module": "@jupyter-widgets/controls",
            "layout": "IPY_MODEL_bc308fbd9db64361a20eb3e82d0f9f97"
          }
        },
        "8d9dd26a286249f6bee5f8467d7a0e41": {
          "model_module": "@jupyter-widgets/base",
          "model_name": "LayoutModel",
          "state": {
            "_view_name": "LayoutView",
            "grid_template_rows": null,
            "right": null,
            "justify_content": null,
            "_view_module": "@jupyter-widgets/base",
            "overflow": null,
            "_model_module_version": "1.2.0",
            "_view_count": null,
            "flex_flow": null,
            "width": null,
            "min_width": null,
            "border": null,
            "align_items": null,
            "bottom": null,
            "_model_module": "@jupyter-widgets/base",
            "top": null,
            "grid_column": null,
            "overflow_y": null,
            "overflow_x": null,
            "grid_auto_flow": null,
            "grid_area": null,
            "grid_template_columns": null,
            "flex": null,
            "_model_name": "LayoutModel",
            "justify_items": null,
            "grid_row": null,
            "max_height": null,
            "align_content": null,
            "visibility": null,
            "align_self": null,
            "height": null,
            "min_height": null,
            "padding": null,
            "grid_auto_rows": null,
            "grid_gap": null,
            "max_width": null,
            "order": null,
            "_view_module_version": "1.2.0",
            "grid_template_areas": null,
            "object_position": null,
            "object_fit": null,
            "grid_auto_columns": null,
            "margin": null,
            "display": null,
            "left": null
          }
        },
        "0595b3d1d41344f9b08973ae43e3c49b": {
          "model_module": "@jupyter-widgets/controls",
          "model_name": "LabelModel",
          "state": {
            "_view_name": "LabelView",
            "style": "IPY_MODEL_cb06bc2ecd5e4d4fbefd4b1083f3f4d9",
            "_dom_classes": [],
            "description": "",
            "_model_name": "LabelModel",
            "placeholder": "​",
            "_view_module": "@jupyter-widgets/controls",
            "_model_module_version": "1.5.0",
            "value": "BOND_PROB",
            "_view_count": null,
            "_view_module_version": "1.5.0",
            "description_tooltip": null,
            "_model_module": "@jupyter-widgets/controls",
            "layout": "IPY_MODEL_0538fd6a5f3940d8b109a45fff0d1459"
          }
        },
        "dfc16985115940f49ba503deafe17009": {
          "model_module": "@jupyter-widgets/controls",
          "model_name": "FloatSliderModel",
          "state": {
            "_view_name": "FloatSliderView",
            "style": "IPY_MODEL_0b75369185df4eaaa19f9d03e090224b",
            "_dom_classes": [],
            "description": "",
            "step": 0.01,
            "_model_name": "FloatSliderModel",
            "orientation": "horizontal",
            "max": 1,
            "_view_module": "@jupyter-widgets/controls",
            "_model_module_version": "1.5.0",
            "value": 0.25,
            "_view_count": null,
            "disabled": false,
            "_view_module_version": "1.5.0",
            "min": 0,
            "continuous_update": true,
            "readout_format": ".2f",
            "description_tooltip": null,
            "readout": true,
            "_model_module": "@jupyter-widgets/controls",
            "layout": "IPY_MODEL_fdcae486fe7644408b6f8046a64a003d"
          }
        },
        "8ebbcd8379844f28bae58311c44dede7": {
          "model_module": "@jupyter-widgets/controls",
          "model_name": "DescriptionStyleModel",
          "state": {
            "_view_name": "StyleView",
            "_model_name": "DescriptionStyleModel",
            "description_width": "",
            "_view_module": "@jupyter-widgets/base",
            "_model_module_version": "1.5.0",
            "_view_count": null,
            "_view_module_version": "1.2.0",
            "_model_module": "@jupyter-widgets/controls"
          }
        },
        "1929013a6ac04a5fb4a3e36eba89a82e": {
          "model_module": "@jupyter-widgets/base",
          "model_name": "LayoutModel",
          "state": {
            "_view_name": "LayoutView",
            "grid_template_rows": null,
            "right": null,
            "justify_content": null,
            "_view_module": "@jupyter-widgets/base",
            "overflow": null,
            "_model_module_version": "1.2.0",
            "_view_count": null,
            "flex_flow": null,
            "width": null,
            "min_width": null,
            "border": null,
            "align_items": null,
            "bottom": null,
            "_model_module": "@jupyter-widgets/base",
            "top": null,
            "grid_column": null,
            "overflow_y": null,
            "overflow_x": null,
            "grid_auto_flow": null,
            "grid_area": null,
            "grid_template_columns": null,
            "flex": null,
            "_model_name": "LayoutModel",
            "justify_items": null,
            "grid_row": null,
            "max_height": null,
            "align_content": null,
            "visibility": null,
            "align_self": null,
            "height": null,
            "min_height": null,
            "padding": null,
            "grid_auto_rows": null,
            "grid_gap": null,
            "max_width": null,
            "order": null,
            "_view_module_version": "1.2.0",
            "grid_template_areas": null,
            "object_position": null,
            "object_fit": null,
            "grid_auto_columns": null,
            "margin": null,
            "display": null,
            "left": null
          }
        },
        "bd31ce44afcc4c9eb9c0f7e84622fc32": {
          "model_module": "@jupyter-widgets/base",
          "model_name": "LayoutModel",
          "state": {
            "_view_name": "LayoutView",
            "grid_template_rows": null,
            "right": null,
            "justify_content": null,
            "_view_module": "@jupyter-widgets/base",
            "overflow": null,
            "_model_module_version": "1.2.0",
            "_view_count": null,
            "flex_flow": null,
            "width": null,
            "min_width": null,
            "border": null,
            "align_items": null,
            "bottom": null,
            "_model_module": "@jupyter-widgets/base",
            "top": null,
            "grid_column": null,
            "overflow_y": null,
            "overflow_x": null,
            "grid_auto_flow": null,
            "grid_area": null,
            "grid_template_columns": null,
            "flex": null,
            "_model_name": "LayoutModel",
            "justify_items": null,
            "grid_row": null,
            "max_height": null,
            "align_content": null,
            "visibility": null,
            "align_self": null,
            "height": null,
            "min_height": null,
            "padding": null,
            "grid_auto_rows": null,
            "grid_gap": null,
            "max_width": null,
            "order": null,
            "_view_module_version": "1.2.0",
            "grid_template_areas": null,
            "object_position": null,
            "object_fit": null,
            "grid_auto_columns": null,
            "margin": null,
            "display": null,
            "left": null
          }
        },
        "da69e5a94bea4e139040c1495a1bd8bc": {
          "model_module": "@jupyter-widgets/controls",
          "model_name": "LabelModel",
          "state": {
            "_view_name": "LabelView",
            "style": "IPY_MODEL_f3a42ad96808486b8c91ed9473ee8aa8",
            "_dom_classes": [],
            "description": "",
            "_model_name": "LabelModel",
            "placeholder": "​",
            "_view_module": "@jupyter-widgets/controls",
            "_model_module_version": "1.5.0",
            "value": "POOL_SIZE",
            "_view_count": null,
            "_view_module_version": "1.5.0",
            "description_tooltip": null,
            "_model_module": "@jupyter-widgets/controls",
            "layout": "IPY_MODEL_2cb9b795ff124c6cbedcc09174f90f9e"
          }
        },
        "9ee22ee6e6474f52933b08163652f76a": {
          "model_module": "@jupyter-widgets/controls",
          "model_name": "IntSliderModel",
          "state": {
            "_view_name": "IntSliderView",
            "style": "IPY_MODEL_60f6f5ad001d4170b03d8fb9122ade1b",
            "_dom_classes": [],
            "description": "",
            "step": 1,
            "_model_name": "IntSliderModel",
            "orientation": "horizontal",
            "max": 1000,
            "_view_module": "@jupyter-widgets/controls",
            "_model_module_version": "1.5.0",
            "value": 100,
            "_view_count": null,
            "disabled": false,
            "_view_module_version": "1.5.0",
            "min": 1,
            "continuous_update": true,
            "readout_format": "d",
            "description_tooltip": null,
            "readout": true,
            "_model_module": "@jupyter-widgets/controls",
            "layout": "IPY_MODEL_3f321e66264d42f88f1599c0bbd65737"
          }
        },
        "87bbe01d69c84422907d4075a9345825": {
          "model_module": "@jupyter-widgets/base",
          "model_name": "LayoutModel",
          "state": {
            "_view_name": "LayoutView",
            "grid_template_rows": null,
            "right": null,
            "justify_content": null,
            "_view_module": "@jupyter-widgets/base",
            "overflow": null,
            "_model_module_version": "1.2.0",
            "_view_count": null,
            "flex_flow": null,
            "width": null,
            "min_width": null,
            "border": null,
            "align_items": null,
            "bottom": null,
            "_model_module": "@jupyter-widgets/base",
            "top": null,
            "grid_column": null,
            "overflow_y": null,
            "overflow_x": null,
            "grid_auto_flow": null,
            "grid_area": null,
            "grid_template_columns": null,
            "flex": null,
            "_model_name": "LayoutModel",
            "justify_items": null,
            "grid_row": null,
            "max_height": null,
            "align_content": null,
            "visibility": null,
            "align_self": null,
            "height": null,
            "min_height": null,
            "padding": null,
            "grid_auto_rows": null,
            "grid_gap": null,
            "max_width": null,
            "order": null,
            "_view_module_version": "1.2.0",
            "grid_template_areas": null,
            "object_position": null,
            "object_fit": null,
            "grid_auto_columns": null,
            "margin": null,
            "display": null,
            "left": null
          }
        },
        "6da99da1ccea4f3ba471c1affcc4d885": {
          "model_module": "@jupyter-widgets/controls",
          "model_name": "LabelModel",
          "state": {
            "_view_name": "LabelView",
            "style": "IPY_MODEL_85a814507c45412ca61e08c7eb3850d2",
            "_dom_classes": [],
            "description": "",
            "_model_name": "LabelModel",
            "placeholder": "​",
            "_view_module": "@jupyter-widgets/controls",
            "_model_module_version": "1.5.0",
            "value": "ITERATIONS",
            "_view_count": null,
            "_view_module_version": "1.5.0",
            "description_tooltip": null,
            "_model_module": "@jupyter-widgets/controls",
            "layout": "IPY_MODEL_5a5296bd60d5407cb52381d2065fb190"
          }
        },
        "5ae3cfe0e2d249ea8c6800542755369e": {
          "model_module": "@jupyter-widgets/controls",
          "model_name": "IntSliderModel",
          "state": {
            "_view_name": "IntSliderView",
            "style": "IPY_MODEL_b9df2cb29a8042978fcb295bbc71ba06",
            "_dom_classes": [],
            "description": "",
            "step": 1,
            "_model_name": "IntSliderModel",
            "orientation": "horizontal",
            "max": 1000,
            "_view_module": "@jupyter-widgets/controls",
            "_model_module_version": "1.5.0",
            "value": 100,
            "_view_count": null,
            "disabled": false,
            "_view_module_version": "1.5.0",
            "min": 1,
            "continuous_update": true,
            "readout_format": "d",
            "description_tooltip": null,
            "readout": true,
            "_model_module": "@jupyter-widgets/controls",
            "layout": "IPY_MODEL_37a86c8cdb4a423886b9b0d1bd020870"
          }
        },
        "491fbb3d55cc4d32a2cd6d5a74859992": {
          "model_module": "@jupyter-widgets/controls",
          "model_name": "DescriptionStyleModel",
          "state": {
            "_view_name": "StyleView",
            "_model_name": "DescriptionStyleModel",
            "description_width": "",
            "_view_module": "@jupyter-widgets/base",
            "_model_module_version": "1.5.0",
            "_view_count": null,
            "_view_module_version": "1.2.0",
            "_model_module": "@jupyter-widgets/controls"
          }
        },
        "0ff3a2d730e044c4a7bc4db5826d1bdd": {
          "model_module": "@jupyter-widgets/base",
          "model_name": "LayoutModel",
          "state": {
            "_view_name": "LayoutView",
            "grid_template_rows": null,
            "right": null,
            "justify_content": null,
            "_view_module": "@jupyter-widgets/base",
            "overflow": null,
            "_model_module_version": "1.2.0",
            "_view_count": null,
            "flex_flow": null,
            "width": null,
            "min_width": null,
            "border": null,
            "align_items": null,
            "bottom": null,
            "_model_module": "@jupyter-widgets/base",
            "top": null,
            "grid_column": null,
            "overflow_y": null,
            "overflow_x": null,
            "grid_auto_flow": null,
            "grid_area": null,
            "grid_template_columns": null,
            "flex": null,
            "_model_name": "LayoutModel",
            "justify_items": null,
            "grid_row": null,
            "max_height": null,
            "align_content": null,
            "visibility": null,
            "align_self": null,
            "height": null,
            "min_height": null,
            "padding": null,
            "grid_auto_rows": null,
            "grid_gap": null,
            "max_width": null,
            "order": null,
            "_view_module_version": "1.2.0",
            "grid_template_areas": null,
            "object_position": null,
            "object_fit": null,
            "grid_auto_columns": null,
            "margin": null,
            "display": null,
            "left": null
          }
        },
        "afcb89728b884fd7a35bb4e7ca22bd6a": {
          "model_module": "@jupyter-widgets/base",
          "model_name": "LayoutModel",
          "state": {
            "_view_name": "LayoutView",
            "grid_template_rows": null,
            "right": null,
            "justify_content": null,
            "_view_module": "@jupyter-widgets/base",
            "overflow": null,
            "_model_module_version": "1.2.0",
            "_view_count": null,
            "flex_flow": null,
            "width": null,
            "min_width": null,
            "border": null,
            "align_items": null,
            "bottom": null,
            "_model_module": "@jupyter-widgets/base",
            "top": null,
            "grid_column": null,
            "overflow_y": null,
            "overflow_x": null,
            "grid_auto_flow": null,
            "grid_area": null,
            "grid_template_columns": null,
            "flex": null,
            "_model_name": "LayoutModel",
            "justify_items": null,
            "grid_row": null,
            "max_height": null,
            "align_content": null,
            "visibility": null,
            "align_self": null,
            "height": null,
            "min_height": null,
            "padding": null,
            "grid_auto_rows": null,
            "grid_gap": null,
            "max_width": null,
            "order": null,
            "_view_module_version": "1.2.0",
            "grid_template_areas": null,
            "object_position": null,
            "object_fit": null,
            "grid_auto_columns": null,
            "margin": null,
            "display": null,
            "left": null
          }
        },
        "5910a9afae8440469c02543164aff99f": {
          "model_module": "@jupyter-widgets/controls",
          "model_name": "LabelModel",
          "state": {
            "_view_name": "LabelView",
            "style": "IPY_MODEL_846aa79cd15945ab8222a089e2e952d6",
            "_dom_classes": [],
            "description": "",
            "_model_name": "LabelModel",
            "placeholder": "​",
            "_view_module": "@jupyter-widgets/controls",
            "_model_module_version": "1.5.0",
            "value": "BASE_BOND_BREAK_PROBABILITY:",
            "_view_count": null,
            "_view_module_version": "1.5.0",
            "description_tooltip": null,
            "_model_module": "@jupyter-widgets/controls",
            "layout": "IPY_MODEL_32638b3711d541de864597aa7655bc7c"
          }
        },
        "536221f9d3914687b58955eeaf3f906a": {
          "model_module": "@jupyter-widgets/controls",
          "model_name": "FloatSliderModel",
          "state": {
            "_view_name": "FloatSliderView",
            "style": "IPY_MODEL_347ec4dd19484ad3ad2c7d5016c5e540",
            "_dom_classes": [],
            "description": "",
            "step": 0.01,
            "_model_name": "FloatSliderModel",
            "orientation": "horizontal",
            "max": 1,
            "_view_module": "@jupyter-widgets/controls",
            "_model_module_version": "1.5.0",
            "value": 1,
            "_view_count": null,
            "disabled": false,
            "_view_module_version": "1.5.0",
            "min": 0,
            "continuous_update": true,
            "readout_format": ".2f",
            "description_tooltip": null,
            "readout": true,
            "_model_module": "@jupyter-widgets/controls",
            "layout": "IPY_MODEL_29836f8d40464bf29d30107f2453f8ac"
          }
        },
        "073dd3ba8e3f4929910433f67b97940a": {
          "model_module": "@jupyter-widgets/base",
          "model_name": "LayoutModel",
          "state": {
            "_view_name": "LayoutView",
            "grid_template_rows": null,
            "right": null,
            "justify_content": null,
            "_view_module": "@jupyter-widgets/base",
            "overflow": null,
            "_model_module_version": "1.2.0",
            "_view_count": null,
            "flex_flow": null,
            "width": null,
            "min_width": null,
            "border": null,
            "align_items": null,
            "bottom": null,
            "_model_module": "@jupyter-widgets/base",
            "top": null,
            "grid_column": null,
            "overflow_y": null,
            "overflow_x": null,
            "grid_auto_flow": null,
            "grid_area": null,
            "grid_template_columns": null,
            "flex": null,
            "_model_name": "LayoutModel",
            "justify_items": null,
            "grid_row": null,
            "max_height": null,
            "align_content": null,
            "visibility": null,
            "align_self": null,
            "height": null,
            "min_height": null,
            "padding": null,
            "grid_auto_rows": null,
            "grid_gap": null,
            "max_width": null,
            "order": null,
            "_view_module_version": "1.2.0",
            "grid_template_areas": null,
            "object_position": null,
            "object_fit": null,
            "grid_auto_columns": null,
            "margin": null,
            "display": null,
            "left": null
          }
        },
        "ab59742309c845e7a04ae8b4e07d5d48": {
          "model_module": "@jupyter-widgets/controls",
          "model_name": "LabelModel",
          "state": {
            "_view_name": "LabelView",
            "style": "IPY_MODEL_be093e90c3b7424bb940bb5461a01a5f",
            "_dom_classes": [],
            "description": "",
            "_model_name": "LabelModel",
            "placeholder": "​",
            "_view_module": "@jupyter-widgets/controls",
            "_model_module_version": "1.5.0",
            "value": "LENGTH_FACTOR",
            "_view_count": null,
            "_view_module_version": "1.5.0",
            "description_tooltip": null,
            "_model_module": "@jupyter-widgets/controls",
            "layout": "IPY_MODEL_07291646f3f34c5892e0cfe18dde76e1"
          }
        },
        "8b72637003ed4d7e9bbe07f213f62549": {
          "model_module": "@jupyter-widgets/controls",
          "model_name": "FloatSliderModel",
          "state": {
            "_view_name": "FloatSliderView",
            "style": "IPY_MODEL_22ecf5f2a9f240eaa191de3ac1315720",
            "_dom_classes": [],
            "description": "",
            "step": 0.01,
            "_model_name": "FloatSliderModel",
            "orientation": "horizontal",
            "max": 1,
            "_view_module": "@jupyter-widgets/controls",
            "_model_module_version": "1.5.0",
            "value": 1,
            "_view_count": null,
            "disabled": false,
            "_view_module_version": "1.5.0",
            "min": 0,
            "continuous_update": true,
            "readout_format": ".2f",
            "description_tooltip": null,
            "readout": true,
            "_model_module": "@jupyter-widgets/controls",
            "layout": "IPY_MODEL_ca4d9aacff4a4445b79035e18093f40a"
          }
        },
        "eb344cb0de4642ed9f2b4c86c37450fe": {
          "model_module": "@jupyter-widgets/base",
          "model_name": "LayoutModel",
          "state": {
            "_view_name": "LayoutView",
            "grid_template_rows": null,
            "right": null,
            "justify_content": null,
            "_view_module": "@jupyter-widgets/base",
            "overflow": null,
            "_model_module_version": "1.2.0",
            "_view_count": null,
            "flex_flow": null,
            "width": null,
            "min_width": null,
            "border": null,
            "align_items": null,
            "bottom": null,
            "_model_module": "@jupyter-widgets/base",
            "top": null,
            "grid_column": null,
            "overflow_y": null,
            "overflow_x": null,
            "grid_auto_flow": null,
            "grid_area": null,
            "grid_template_columns": null,
            "flex": null,
            "_model_name": "LayoutModel",
            "justify_items": null,
            "grid_row": null,
            "max_height": null,
            "align_content": null,
            "visibility": null,
            "align_self": null,
            "height": null,
            "min_height": null,
            "padding": null,
            "grid_auto_rows": null,
            "grid_gap": null,
            "max_width": null,
            "order": null,
            "_view_module_version": "1.2.0",
            "grid_template_areas": null,
            "object_position": null,
            "object_fit": null,
            "grid_auto_columns": null,
            "margin": null,
            "display": null,
            "left": null
          }
        },
        "a7604100e01d4e5593a7cddf29c659b1": {
          "model_module": "@jupyter-widgets/controls",
          "model_name": "LabelModel",
          "state": {
            "_view_name": "LabelView",
            "style": "IPY_MODEL_ef88b7e72ad1499983e0cb0347048c82",
            "_dom_classes": [],
            "description": "",
            "_model_name": "LabelModel",
            "placeholder": "​",
            "_view_module": "@jupyter-widgets/controls",
            "_model_module_version": "1.5.0",
            "value": "N",
            "_view_count": null,
            "_view_module_version": "1.5.0",
            "description_tooltip": null,
            "_model_module": "@jupyter-widgets/controls",
            "layout": "IPY_MODEL_99c2294bc5ab4d5793be225e890f2d2f"
          }
        },
        "e2077f17761e48e29c55194b32c6fd3b": {
          "model_module": "@jupyter-widgets/controls",
          "model_name": "IntSliderModel",
          "state": {
            "_view_name": "IntSliderView",
            "style": "IPY_MODEL_38a644962beb43a6bf9bcdb78e2131e0",
            "_dom_classes": [],
            "description": "",
            "step": 5,
            "_model_name": "IntSliderModel",
            "orientation": "horizontal",
            "max": 1000,
            "_view_module": "@jupyter-widgets/controls",
            "_model_module_version": "1.5.0",
            "value": 40,
            "_view_count": null,
            "disabled": false,
            "_view_module_version": "1.5.0",
            "min": 0,
            "continuous_update": true,
            "readout_format": "d",
            "description_tooltip": null,
            "readout": true,
            "_model_module": "@jupyter-widgets/controls",
            "layout": "IPY_MODEL_0d91fd3f190b49a7929427dbbf8e1a94"
          }
        },
        "3c123dd45abd4fd1adad9c7b14e0a866": {
          "model_module": "@jupyter-widgets/controls",
          "model_name": "DescriptionStyleModel",
          "state": {
            "_view_name": "StyleView",
            "_model_name": "DescriptionStyleModel",
            "description_width": "",
            "_view_module": "@jupyter-widgets/base",
            "_model_module_version": "1.5.0",
            "_view_count": null,
            "_view_module_version": "1.2.0",
            "_model_module": "@jupyter-widgets/controls"
          }
        },
        "681fcab164d940499ea1f2cea1942832": {
          "model_module": "@jupyter-widgets/base",
          "model_name": "LayoutModel",
          "state": {
            "_view_name": "LayoutView",
            "grid_template_rows": null,
            "right": null,
            "justify_content": null,
            "_view_module": "@jupyter-widgets/base",
            "overflow": null,
            "_model_module_version": "1.2.0",
            "_view_count": null,
            "flex_flow": null,
            "width": null,
            "min_width": null,
            "border": null,
            "align_items": null,
            "bottom": null,
            "_model_module": "@jupyter-widgets/base",
            "top": null,
            "grid_column": null,
            "overflow_y": null,
            "overflow_x": null,
            "grid_auto_flow": null,
            "grid_area": null,
            "grid_template_columns": null,
            "flex": null,
            "_model_name": "LayoutModel",
            "justify_items": null,
            "grid_row": null,
            "max_height": null,
            "align_content": null,
            "visibility": null,
            "align_self": null,
            "height": null,
            "min_height": null,
            "padding": null,
            "grid_auto_rows": null,
            "grid_gap": null,
            "max_width": null,
            "order": null,
            "_view_module_version": "1.2.0",
            "grid_template_areas": null,
            "object_position": null,
            "object_fit": null,
            "grid_auto_columns": null,
            "margin": null,
            "display": null,
            "left": null
          }
        },
        "e4bd734b982d44eca73f6b3169c50db8": {
          "model_module": "@jupyter-widgets/controls",
          "model_name": "DescriptionStyleModel",
          "state": {
            "_view_name": "StyleView",
            "_model_name": "DescriptionStyleModel",
            "description_width": "",
            "_view_module": "@jupyter-widgets/base",
            "_model_module_version": "1.5.0",
            "_view_count": null,
            "_view_module_version": "1.2.0",
            "_model_module": "@jupyter-widgets/controls"
          }
        },
        "d119998214a341bcbbbe05815e630703": {
          "model_module": "@jupyter-widgets/base",
          "model_name": "LayoutModel",
          "state": {
            "_view_name": "LayoutView",
            "grid_template_rows": null,
            "right": null,
            "justify_content": null,
            "_view_module": "@jupyter-widgets/base",
            "overflow": null,
            "_model_module_version": "1.2.0",
            "_view_count": null,
            "flex_flow": null,
            "width": null,
            "min_width": null,
            "border": null,
            "align_items": null,
            "bottom": null,
            "_model_module": "@jupyter-widgets/base",
            "top": null,
            "grid_column": null,
            "overflow_y": null,
            "overflow_x": null,
            "grid_auto_flow": null,
            "grid_area": null,
            "grid_template_columns": null,
            "flex": null,
            "_model_name": "LayoutModel",
            "justify_items": null,
            "grid_row": null,
            "max_height": null,
            "align_content": null,
            "visibility": null,
            "align_self": null,
            "height": null,
            "min_height": null,
            "padding": null,
            "grid_auto_rows": null,
            "grid_gap": null,
            "max_width": null,
            "order": null,
            "_view_module_version": "1.2.0",
            "grid_template_areas": null,
            "object_position": null,
            "object_fit": null,
            "grid_auto_columns": null,
            "margin": null,
            "display": null,
            "left": null
          }
        },
        "ab5708fc67bf45b6af736cf45872682e": {
          "model_module": "@jupyter-widgets/base",
          "model_name": "LayoutModel",
          "state": {
            "_view_name": "LayoutView",
            "grid_template_rows": null,
            "right": null,
            "justify_content": null,
            "_view_module": "@jupyter-widgets/base",
            "overflow": null,
            "_model_module_version": "1.2.0",
            "_view_count": null,
            "flex_flow": null,
            "width": null,
            "min_width": null,
            "border": null,
            "align_items": null,
            "bottom": null,
            "_model_module": "@jupyter-widgets/base",
            "top": null,
            "grid_column": null,
            "overflow_y": null,
            "overflow_x": null,
            "grid_auto_flow": null,
            "grid_area": null,
            "grid_template_columns": null,
            "flex": null,
            "_model_name": "LayoutModel",
            "justify_items": null,
            "grid_row": null,
            "max_height": null,
            "align_content": null,
            "visibility": null,
            "align_self": null,
            "height": null,
            "min_height": null,
            "padding": null,
            "grid_auto_rows": null,
            "grid_gap": null,
            "max_width": null,
            "order": null,
            "_view_module_version": "1.2.0",
            "grid_template_areas": null,
            "object_position": null,
            "object_fit": null,
            "grid_auto_columns": null,
            "margin": null,
            "display": null,
            "left": null
          }
        },
        "6cbdbe562e66429cad1ec753d8aff12c": {
          "model_module": "@jupyter-widgets/controls",
          "model_name": "LabelModel",
          "state": {
            "_view_name": "LabelView",
            "style": "IPY_MODEL_4fcfffc72c274d538c8e67d1c03037c2",
            "_dom_classes": [],
            "description": "",
            "_model_name": "LabelModel",
            "placeholder": "​",
            "_view_module": "@jupyter-widgets/controls",
            "_model_module_version": "1.5.0",
            "value": "HOMOCHIRAL_BREAK_FACTOR:",
            "_view_count": null,
            "_view_module_version": "1.5.0",
            "description_tooltip": null,
            "_model_module": "@jupyter-widgets/controls",
            "layout": "IPY_MODEL_d25d117bd23a4b70ba1481d1ad9d4afe"
          }
        },
        "ebc955b45dfc43d2b4a87a5c1359e0e4": {
          "model_module": "@jupyter-widgets/controls",
          "model_name": "FloatSliderModel",
          "state": {
            "_view_name": "FloatSliderView",
            "style": "IPY_MODEL_8927d232d8f144548771d2e25bcaec30",
            "_dom_classes": [],
            "description": "",
            "step": 0.01,
            "_model_name": "FloatSliderModel",
            "orientation": "horizontal",
            "max": 1,
            "_view_module": "@jupyter-widgets/controls",
            "_model_module_version": "1.5.0",
            "value": 0,
            "_view_count": null,
            "disabled": false,
            "_view_module_version": "1.5.0",
            "min": 0,
            "continuous_update": true,
            "readout_format": ".2f",
            "description_tooltip": null,
            "readout": true,
            "_model_module": "@jupyter-widgets/controls",
            "layout": "IPY_MODEL_fe46239226cb4b368a15e5c7fdfffbf4"
          }
        },
        "1df79784fd124a37b71bb508c71ed847": {
          "model_module": "@jupyter-widgets/base",
          "model_name": "LayoutModel",
          "state": {
            "_view_name": "LayoutView",
            "grid_template_rows": null,
            "right": null,
            "justify_content": null,
            "_view_module": "@jupyter-widgets/base",
            "overflow": null,
            "_model_module_version": "1.2.0",
            "_view_count": null,
            "flex_flow": null,
            "width": null,
            "min_width": null,
            "border": null,
            "align_items": null,
            "bottom": null,
            "_model_module": "@jupyter-widgets/base",
            "top": null,
            "grid_column": null,
            "overflow_y": null,
            "overflow_x": null,
            "grid_auto_flow": null,
            "grid_area": null,
            "grid_template_columns": null,
            "flex": null,
            "_model_name": "LayoutModel",
            "justify_items": null,
            "grid_row": null,
            "max_height": null,
            "align_content": null,
            "visibility": null,
            "align_self": null,
            "height": null,
            "min_height": null,
            "padding": null,
            "grid_auto_rows": null,
            "grid_gap": null,
            "max_width": null,
            "order": null,
            "_view_module_version": "1.2.0",
            "grid_template_areas": null,
            "object_position": null,
            "object_fit": null,
            "grid_auto_columns": null,
            "margin": null,
            "display": null,
            "left": null
          }
        },
        "884cec89e7b2493299753715cada94b9": {
          "model_module": "@jupyter-widgets/controls",
          "model_name": "LabelModel",
          "state": {
            "_view_name": "LabelView",
            "style": "IPY_MODEL_3466632fac4541beb6793210eccc49b9",
            "_dom_classes": [],
            "description": "",
            "_model_name": "LabelModel",
            "placeholder": "​",
            "_view_module": "@jupyter-widgets/controls",
            "_model_module_version": "1.5.0",
            "value": "HOMOCHIRAL_NEIGHBOR_IMPROV_FACTOR:",
            "_view_count": null,
            "_view_module_version": "1.5.0",
            "description_tooltip": null,
            "_model_module": "@jupyter-widgets/controls",
            "layout": "IPY_MODEL_d0a4ca4179184853ba952ac55bdedf5e"
          }
        },
        "87b6dc48b449416694c0e992bd09fff6": {
          "model_module": "@jupyter-widgets/controls",
          "model_name": "FloatSliderModel",
          "state": {
            "_view_name": "FloatSliderView",
            "style": "IPY_MODEL_b8db2227d8594436bef3c1112cec6f7d",
            "_dom_classes": [],
            "description": "",
            "step": 0.01,
            "_model_name": "FloatSliderModel",
            "orientation": "horizontal",
            "max": 1,
            "_view_module": "@jupyter-widgets/controls",
            "_model_module_version": "1.5.0",
            "value": 1,
            "_view_count": null,
            "disabled": false,
            "_view_module_version": "1.5.0",
            "min": 0,
            "continuous_update": true,
            "readout_format": ".2f",
            "description_tooltip": null,
            "readout": true,
            "_model_module": "@jupyter-widgets/controls",
            "layout": "IPY_MODEL_be2ef0c8d58149919dff3cdad282023e"
          }
        },
        "dd8d056711b243a6bef9d4491bb94411": {
          "model_module": "@jupyter-widgets/controls",
          "model_name": "DescriptionStyleModel",
          "state": {
            "_view_name": "StyleView",
            "_model_name": "DescriptionStyleModel",
            "description_width": "",
            "_view_module": "@jupyter-widgets/base",
            "_model_module_version": "1.5.0",
            "_view_count": null,
            "_view_module_version": "1.2.0",
            "_model_module": "@jupyter-widgets/controls"
          }
        },
        "dd472f20c3bb4a42b69a3536263ce1ba": {
          "model_module": "@jupyter-widgets/base",
          "model_name": "LayoutModel",
          "state": {
            "_view_name": "LayoutView",
            "grid_template_rows": null,
            "right": null,
            "justify_content": null,
            "_view_module": "@jupyter-widgets/base",
            "overflow": null,
            "_model_module_version": "1.2.0",
            "_view_count": null,
            "flex_flow": null,
            "width": null,
            "min_width": null,
            "border": null,
            "align_items": null,
            "bottom": null,
            "_model_module": "@jupyter-widgets/base",
            "top": null,
            "grid_column": null,
            "overflow_y": null,
            "overflow_x": null,
            "grid_auto_flow": null,
            "grid_area": null,
            "grid_template_columns": null,
            "flex": null,
            "_model_name": "LayoutModel",
            "justify_items": null,
            "grid_row": null,
            "max_height": null,
            "align_content": null,
            "visibility": null,
            "align_self": null,
            "height": null,
            "min_height": null,
            "padding": null,
            "grid_auto_rows": null,
            "grid_gap": null,
            "max_width": null,
            "order": null,
            "_view_module_version": "1.2.0",
            "grid_template_areas": null,
            "object_position": null,
            "object_fit": null,
            "grid_auto_columns": null,
            "margin": null,
            "display": null,
            "left": null
          }
        },
        "af6b8f2053b74893901fd64a47e33ba6": {
          "model_module": "@jupyter-widgets/controls",
          "model_name": "SliderStyleModel",
          "state": {
            "_view_name": "StyleView",
            "handle_color": null,
            "_model_name": "SliderStyleModel",
            "description_width": "",
            "_view_module": "@jupyter-widgets/base",
            "_model_module_version": "1.5.0",
            "_view_count": null,
            "_view_module_version": "1.2.0",
            "_model_module": "@jupyter-widgets/controls"
          }
        },
        "bc308fbd9db64361a20eb3e82d0f9f97": {
          "model_module": "@jupyter-widgets/base",
          "model_name": "LayoutModel",
          "state": {
            "_view_name": "LayoutView",
            "grid_template_rows": null,
            "right": null,
            "justify_content": null,
            "_view_module": "@jupyter-widgets/base",
            "overflow": null,
            "_model_module_version": "1.2.0",
            "_view_count": null,
            "flex_flow": null,
            "width": null,
            "min_width": null,
            "border": null,
            "align_items": null,
            "bottom": null,
            "_model_module": "@jupyter-widgets/base",
            "top": null,
            "grid_column": null,
            "overflow_y": null,
            "overflow_x": null,
            "grid_auto_flow": null,
            "grid_area": null,
            "grid_template_columns": null,
            "flex": null,
            "_model_name": "LayoutModel",
            "justify_items": null,
            "grid_row": null,
            "max_height": null,
            "align_content": null,
            "visibility": null,
            "align_self": null,
            "height": null,
            "min_height": null,
            "padding": null,
            "grid_auto_rows": null,
            "grid_gap": null,
            "max_width": null,
            "order": null,
            "_view_module_version": "1.2.0",
            "grid_template_areas": null,
            "object_position": null,
            "object_fit": null,
            "grid_auto_columns": null,
            "margin": null,
            "display": null,
            "left": null
          }
        },
        "cb06bc2ecd5e4d4fbefd4b1083f3f4d9": {
          "model_module": "@jupyter-widgets/controls",
          "model_name": "DescriptionStyleModel",
          "state": {
            "_view_name": "StyleView",
            "_model_name": "DescriptionStyleModel",
            "description_width": "",
            "_view_module": "@jupyter-widgets/base",
            "_model_module_version": "1.5.0",
            "_view_count": null,
            "_view_module_version": "1.2.0",
            "_model_module": "@jupyter-widgets/controls"
          }
        },
        "0538fd6a5f3940d8b109a45fff0d1459": {
          "model_module": "@jupyter-widgets/base",
          "model_name": "LayoutModel",
          "state": {
            "_view_name": "LayoutView",
            "grid_template_rows": null,
            "right": null,
            "justify_content": null,
            "_view_module": "@jupyter-widgets/base",
            "overflow": null,
            "_model_module_version": "1.2.0",
            "_view_count": null,
            "flex_flow": null,
            "width": null,
            "min_width": null,
            "border": null,
            "align_items": null,
            "bottom": null,
            "_model_module": "@jupyter-widgets/base",
            "top": null,
            "grid_column": null,
            "overflow_y": null,
            "overflow_x": null,
            "grid_auto_flow": null,
            "grid_area": null,
            "grid_template_columns": null,
            "flex": null,
            "_model_name": "LayoutModel",
            "justify_items": null,
            "grid_row": null,
            "max_height": null,
            "align_content": null,
            "visibility": null,
            "align_self": null,
            "height": null,
            "min_height": null,
            "padding": null,
            "grid_auto_rows": null,
            "grid_gap": null,
            "max_width": null,
            "order": null,
            "_view_module_version": "1.2.0",
            "grid_template_areas": null,
            "object_position": null,
            "object_fit": null,
            "grid_auto_columns": null,
            "margin": null,
            "display": null,
            "left": null
          }
        },
        "0b75369185df4eaaa19f9d03e090224b": {
          "model_module": "@jupyter-widgets/controls",
          "model_name": "SliderStyleModel",
          "state": {
            "_view_name": "StyleView",
            "handle_color": null,
            "_model_name": "SliderStyleModel",
            "description_width": "",
            "_view_module": "@jupyter-widgets/base",
            "_model_module_version": "1.5.0",
            "_view_count": null,
            "_view_module_version": "1.2.0",
            "_model_module": "@jupyter-widgets/controls"
          }
        },
        "fdcae486fe7644408b6f8046a64a003d": {
          "model_module": "@jupyter-widgets/base",
          "model_name": "LayoutModel",
          "state": {
            "_view_name": "LayoutView",
            "grid_template_rows": null,
            "right": null,
            "justify_content": null,
            "_view_module": "@jupyter-widgets/base",
            "overflow": null,
            "_model_module_version": "1.2.0",
            "_view_count": null,
            "flex_flow": null,
            "width": null,
            "min_width": null,
            "border": null,
            "align_items": null,
            "bottom": null,
            "_model_module": "@jupyter-widgets/base",
            "top": null,
            "grid_column": null,
            "overflow_y": null,
            "overflow_x": null,
            "grid_auto_flow": null,
            "grid_area": null,
            "grid_template_columns": null,
            "flex": null,
            "_model_name": "LayoutModel",
            "justify_items": null,
            "grid_row": null,
            "max_height": null,
            "align_content": null,
            "visibility": null,
            "align_self": null,
            "height": null,
            "min_height": null,
            "padding": null,
            "grid_auto_rows": null,
            "grid_gap": null,
            "max_width": null,
            "order": null,
            "_view_module_version": "1.2.0",
            "grid_template_areas": null,
            "object_position": null,
            "object_fit": null,
            "grid_auto_columns": null,
            "margin": null,
            "display": null,
            "left": null
          }
        },
        "f3a42ad96808486b8c91ed9473ee8aa8": {
          "model_module": "@jupyter-widgets/controls",
          "model_name": "DescriptionStyleModel",
          "state": {
            "_view_name": "StyleView",
            "_model_name": "DescriptionStyleModel",
            "description_width": "",
            "_view_module": "@jupyter-widgets/base",
            "_model_module_version": "1.5.0",
            "_view_count": null,
            "_view_module_version": "1.2.0",
            "_model_module": "@jupyter-widgets/controls"
          }
        },
        "2cb9b795ff124c6cbedcc09174f90f9e": {
          "model_module": "@jupyter-widgets/base",
          "model_name": "LayoutModel",
          "state": {
            "_view_name": "LayoutView",
            "grid_template_rows": null,
            "right": null,
            "justify_content": null,
            "_view_module": "@jupyter-widgets/base",
            "overflow": null,
            "_model_module_version": "1.2.0",
            "_view_count": null,
            "flex_flow": null,
            "width": null,
            "min_width": null,
            "border": null,
            "align_items": null,
            "bottom": null,
            "_model_module": "@jupyter-widgets/base",
            "top": null,
            "grid_column": null,
            "overflow_y": null,
            "overflow_x": null,
            "grid_auto_flow": null,
            "grid_area": null,
            "grid_template_columns": null,
            "flex": null,
            "_model_name": "LayoutModel",
            "justify_items": null,
            "grid_row": null,
            "max_height": null,
            "align_content": null,
            "visibility": null,
            "align_self": null,
            "height": null,
            "min_height": null,
            "padding": null,
            "grid_auto_rows": null,
            "grid_gap": null,
            "max_width": null,
            "order": null,
            "_view_module_version": "1.2.0",
            "grid_template_areas": null,
            "object_position": null,
            "object_fit": null,
            "grid_auto_columns": null,
            "margin": null,
            "display": null,
            "left": null
          }
        },
        "60f6f5ad001d4170b03d8fb9122ade1b": {
          "model_module": "@jupyter-widgets/controls",
          "model_name": "SliderStyleModel",
          "state": {
            "_view_name": "StyleView",
            "handle_color": null,
            "_model_name": "SliderStyleModel",
            "description_width": "",
            "_view_module": "@jupyter-widgets/base",
            "_model_module_version": "1.5.0",
            "_view_count": null,
            "_view_module_version": "1.2.0",
            "_model_module": "@jupyter-widgets/controls"
          }
        },
        "3f321e66264d42f88f1599c0bbd65737": {
          "model_module": "@jupyter-widgets/base",
          "model_name": "LayoutModel",
          "state": {
            "_view_name": "LayoutView",
            "grid_template_rows": null,
            "right": null,
            "justify_content": null,
            "_view_module": "@jupyter-widgets/base",
            "overflow": null,
            "_model_module_version": "1.2.0",
            "_view_count": null,
            "flex_flow": null,
            "width": null,
            "min_width": null,
            "border": null,
            "align_items": null,
            "bottom": null,
            "_model_module": "@jupyter-widgets/base",
            "top": null,
            "grid_column": null,
            "overflow_y": null,
            "overflow_x": null,
            "grid_auto_flow": null,
            "grid_area": null,
            "grid_template_columns": null,
            "flex": null,
            "_model_name": "LayoutModel",
            "justify_items": null,
            "grid_row": null,
            "max_height": null,
            "align_content": null,
            "visibility": null,
            "align_self": null,
            "height": null,
            "min_height": null,
            "padding": null,
            "grid_auto_rows": null,
            "grid_gap": null,
            "max_width": null,
            "order": null,
            "_view_module_version": "1.2.0",
            "grid_template_areas": null,
            "object_position": null,
            "object_fit": null,
            "grid_auto_columns": null,
            "margin": null,
            "display": null,
            "left": null
          }
        },
        "85a814507c45412ca61e08c7eb3850d2": {
          "model_module": "@jupyter-widgets/controls",
          "model_name": "DescriptionStyleModel",
          "state": {
            "_view_name": "StyleView",
            "_model_name": "DescriptionStyleModel",
            "description_width": "",
            "_view_module": "@jupyter-widgets/base",
            "_model_module_version": "1.5.0",
            "_view_count": null,
            "_view_module_version": "1.2.0",
            "_model_module": "@jupyter-widgets/controls"
          }
        },
        "5a5296bd60d5407cb52381d2065fb190": {
          "model_module": "@jupyter-widgets/base",
          "model_name": "LayoutModel",
          "state": {
            "_view_name": "LayoutView",
            "grid_template_rows": null,
            "right": null,
            "justify_content": null,
            "_view_module": "@jupyter-widgets/base",
            "overflow": null,
            "_model_module_version": "1.2.0",
            "_view_count": null,
            "flex_flow": null,
            "width": null,
            "min_width": null,
            "border": null,
            "align_items": null,
            "bottom": null,
            "_model_module": "@jupyter-widgets/base",
            "top": null,
            "grid_column": null,
            "overflow_y": null,
            "overflow_x": null,
            "grid_auto_flow": null,
            "grid_area": null,
            "grid_template_columns": null,
            "flex": null,
            "_model_name": "LayoutModel",
            "justify_items": null,
            "grid_row": null,
            "max_height": null,
            "align_content": null,
            "visibility": null,
            "align_self": null,
            "height": null,
            "min_height": null,
            "padding": null,
            "grid_auto_rows": null,
            "grid_gap": null,
            "max_width": null,
            "order": null,
            "_view_module_version": "1.2.0",
            "grid_template_areas": null,
            "object_position": null,
            "object_fit": null,
            "grid_auto_columns": null,
            "margin": null,
            "display": null,
            "left": null
          }
        },
        "b9df2cb29a8042978fcb295bbc71ba06": {
          "model_module": "@jupyter-widgets/controls",
          "model_name": "SliderStyleModel",
          "state": {
            "_view_name": "StyleView",
            "handle_color": null,
            "_model_name": "SliderStyleModel",
            "description_width": "",
            "_view_module": "@jupyter-widgets/base",
            "_model_module_version": "1.5.0",
            "_view_count": null,
            "_view_module_version": "1.2.0",
            "_model_module": "@jupyter-widgets/controls"
          }
        },
        "37a86c8cdb4a423886b9b0d1bd020870": {
          "model_module": "@jupyter-widgets/base",
          "model_name": "LayoutModel",
          "state": {
            "_view_name": "LayoutView",
            "grid_template_rows": null,
            "right": null,
            "justify_content": null,
            "_view_module": "@jupyter-widgets/base",
            "overflow": null,
            "_model_module_version": "1.2.0",
            "_view_count": null,
            "flex_flow": null,
            "width": null,
            "min_width": null,
            "border": null,
            "align_items": null,
            "bottom": null,
            "_model_module": "@jupyter-widgets/base",
            "top": null,
            "grid_column": null,
            "overflow_y": null,
            "overflow_x": null,
            "grid_auto_flow": null,
            "grid_area": null,
            "grid_template_columns": null,
            "flex": null,
            "_model_name": "LayoutModel",
            "justify_items": null,
            "grid_row": null,
            "max_height": null,
            "align_content": null,
            "visibility": null,
            "align_self": null,
            "height": null,
            "min_height": null,
            "padding": null,
            "grid_auto_rows": null,
            "grid_gap": null,
            "max_width": null,
            "order": null,
            "_view_module_version": "1.2.0",
            "grid_template_areas": null,
            "object_position": null,
            "object_fit": null,
            "grid_auto_columns": null,
            "margin": null,
            "display": null,
            "left": null
          }
        },
        "846aa79cd15945ab8222a089e2e952d6": {
          "model_module": "@jupyter-widgets/controls",
          "model_name": "DescriptionStyleModel",
          "state": {
            "_view_name": "StyleView",
            "_model_name": "DescriptionStyleModel",
            "description_width": "",
            "_view_module": "@jupyter-widgets/base",
            "_model_module_version": "1.5.0",
            "_view_count": null,
            "_view_module_version": "1.2.0",
            "_model_module": "@jupyter-widgets/controls"
          }
        },
        "32638b3711d541de864597aa7655bc7c": {
          "model_module": "@jupyter-widgets/base",
          "model_name": "LayoutModel",
          "state": {
            "_view_name": "LayoutView",
            "grid_template_rows": null,
            "right": null,
            "justify_content": null,
            "_view_module": "@jupyter-widgets/base",
            "overflow": null,
            "_model_module_version": "1.2.0",
            "_view_count": null,
            "flex_flow": null,
            "width": null,
            "min_width": null,
            "border": null,
            "align_items": null,
            "bottom": null,
            "_model_module": "@jupyter-widgets/base",
            "top": null,
            "grid_column": null,
            "overflow_y": null,
            "overflow_x": null,
            "grid_auto_flow": null,
            "grid_area": null,
            "grid_template_columns": null,
            "flex": null,
            "_model_name": "LayoutModel",
            "justify_items": null,
            "grid_row": null,
            "max_height": null,
            "align_content": null,
            "visibility": null,
            "align_self": null,
            "height": null,
            "min_height": null,
            "padding": null,
            "grid_auto_rows": null,
            "grid_gap": null,
            "max_width": null,
            "order": null,
            "_view_module_version": "1.2.0",
            "grid_template_areas": null,
            "object_position": null,
            "object_fit": null,
            "grid_auto_columns": null,
            "margin": null,
            "display": null,
            "left": null
          }
        },
        "347ec4dd19484ad3ad2c7d5016c5e540": {
          "model_module": "@jupyter-widgets/controls",
          "model_name": "SliderStyleModel",
          "state": {
            "_view_name": "StyleView",
            "handle_color": null,
            "_model_name": "SliderStyleModel",
            "description_width": "",
            "_view_module": "@jupyter-widgets/base",
            "_model_module_version": "1.5.0",
            "_view_count": null,
            "_view_module_version": "1.2.0",
            "_model_module": "@jupyter-widgets/controls"
          }
        },
        "29836f8d40464bf29d30107f2453f8ac": {
          "model_module": "@jupyter-widgets/base",
          "model_name": "LayoutModel",
          "state": {
            "_view_name": "LayoutView",
            "grid_template_rows": null,
            "right": null,
            "justify_content": null,
            "_view_module": "@jupyter-widgets/base",
            "overflow": null,
            "_model_module_version": "1.2.0",
            "_view_count": null,
            "flex_flow": null,
            "width": null,
            "min_width": null,
            "border": null,
            "align_items": null,
            "bottom": null,
            "_model_module": "@jupyter-widgets/base",
            "top": null,
            "grid_column": null,
            "overflow_y": null,
            "overflow_x": null,
            "grid_auto_flow": null,
            "grid_area": null,
            "grid_template_columns": null,
            "flex": null,
            "_model_name": "LayoutModel",
            "justify_items": null,
            "grid_row": null,
            "max_height": null,
            "align_content": null,
            "visibility": null,
            "align_self": null,
            "height": null,
            "min_height": null,
            "padding": null,
            "grid_auto_rows": null,
            "grid_gap": null,
            "max_width": null,
            "order": null,
            "_view_module_version": "1.2.0",
            "grid_template_areas": null,
            "object_position": null,
            "object_fit": null,
            "grid_auto_columns": null,
            "margin": null,
            "display": null,
            "left": null
          }
        },
        "be093e90c3b7424bb940bb5461a01a5f": {
          "model_module": "@jupyter-widgets/controls",
          "model_name": "DescriptionStyleModel",
          "state": {
            "_view_name": "StyleView",
            "_model_name": "DescriptionStyleModel",
            "description_width": "",
            "_view_module": "@jupyter-widgets/base",
            "_model_module_version": "1.5.0",
            "_view_count": null,
            "_view_module_version": "1.2.0",
            "_model_module": "@jupyter-widgets/controls"
          }
        },
        "07291646f3f34c5892e0cfe18dde76e1": {
          "model_module": "@jupyter-widgets/base",
          "model_name": "LayoutModel",
          "state": {
            "_view_name": "LayoutView",
            "grid_template_rows": null,
            "right": null,
            "justify_content": null,
            "_view_module": "@jupyter-widgets/base",
            "overflow": null,
            "_model_module_version": "1.2.0",
            "_view_count": null,
            "flex_flow": null,
            "width": null,
            "min_width": null,
            "border": null,
            "align_items": null,
            "bottom": null,
            "_model_module": "@jupyter-widgets/base",
            "top": null,
            "grid_column": null,
            "overflow_y": null,
            "overflow_x": null,
            "grid_auto_flow": null,
            "grid_area": null,
            "grid_template_columns": null,
            "flex": null,
            "_model_name": "LayoutModel",
            "justify_items": null,
            "grid_row": null,
            "max_height": null,
            "align_content": null,
            "visibility": null,
            "align_self": null,
            "height": null,
            "min_height": null,
            "padding": null,
            "grid_auto_rows": null,
            "grid_gap": null,
            "max_width": null,
            "order": null,
            "_view_module_version": "1.2.0",
            "grid_template_areas": null,
            "object_position": null,
            "object_fit": null,
            "grid_auto_columns": null,
            "margin": null,
            "display": null,
            "left": null
          }
        },
        "22ecf5f2a9f240eaa191de3ac1315720": {
          "model_module": "@jupyter-widgets/controls",
          "model_name": "SliderStyleModel",
          "state": {
            "_view_name": "StyleView",
            "handle_color": null,
            "_model_name": "SliderStyleModel",
            "description_width": "",
            "_view_module": "@jupyter-widgets/base",
            "_model_module_version": "1.5.0",
            "_view_count": null,
            "_view_module_version": "1.2.0",
            "_model_module": "@jupyter-widgets/controls"
          }
        },
        "ca4d9aacff4a4445b79035e18093f40a": {
          "model_module": "@jupyter-widgets/base",
          "model_name": "LayoutModel",
          "state": {
            "_view_name": "LayoutView",
            "grid_template_rows": null,
            "right": null,
            "justify_content": null,
            "_view_module": "@jupyter-widgets/base",
            "overflow": null,
            "_model_module_version": "1.2.0",
            "_view_count": null,
            "flex_flow": null,
            "width": null,
            "min_width": null,
            "border": null,
            "align_items": null,
            "bottom": null,
            "_model_module": "@jupyter-widgets/base",
            "top": null,
            "grid_column": null,
            "overflow_y": null,
            "overflow_x": null,
            "grid_auto_flow": null,
            "grid_area": null,
            "grid_template_columns": null,
            "flex": null,
            "_model_name": "LayoutModel",
            "justify_items": null,
            "grid_row": null,
            "max_height": null,
            "align_content": null,
            "visibility": null,
            "align_self": null,
            "height": null,
            "min_height": null,
            "padding": null,
            "grid_auto_rows": null,
            "grid_gap": null,
            "max_width": null,
            "order": null,
            "_view_module_version": "1.2.0",
            "grid_template_areas": null,
            "object_position": null,
            "object_fit": null,
            "grid_auto_columns": null,
            "margin": null,
            "display": null,
            "left": null
          }
        },
        "ef88b7e72ad1499983e0cb0347048c82": {
          "model_module": "@jupyter-widgets/controls",
          "model_name": "DescriptionStyleModel",
          "state": {
            "_view_name": "StyleView",
            "_model_name": "DescriptionStyleModel",
            "description_width": "",
            "_view_module": "@jupyter-widgets/base",
            "_model_module_version": "1.5.0",
            "_view_count": null,
            "_view_module_version": "1.2.0",
            "_model_module": "@jupyter-widgets/controls"
          }
        },
        "99c2294bc5ab4d5793be225e890f2d2f": {
          "model_module": "@jupyter-widgets/base",
          "model_name": "LayoutModel",
          "state": {
            "_view_name": "LayoutView",
            "grid_template_rows": null,
            "right": null,
            "justify_content": null,
            "_view_module": "@jupyter-widgets/base",
            "overflow": null,
            "_model_module_version": "1.2.0",
            "_view_count": null,
            "flex_flow": null,
            "width": null,
            "min_width": null,
            "border": null,
            "align_items": null,
            "bottom": null,
            "_model_module": "@jupyter-widgets/base",
            "top": null,
            "grid_column": null,
            "overflow_y": null,
            "overflow_x": null,
            "grid_auto_flow": null,
            "grid_area": null,
            "grid_template_columns": null,
            "flex": null,
            "_model_name": "LayoutModel",
            "justify_items": null,
            "grid_row": null,
            "max_height": null,
            "align_content": null,
            "visibility": null,
            "align_self": null,
            "height": null,
            "min_height": null,
            "padding": null,
            "grid_auto_rows": null,
            "grid_gap": null,
            "max_width": null,
            "order": null,
            "_view_module_version": "1.2.0",
            "grid_template_areas": null,
            "object_position": null,
            "object_fit": null,
            "grid_auto_columns": null,
            "margin": null,
            "display": null,
            "left": null
          }
        },
        "38a644962beb43a6bf9bcdb78e2131e0": {
          "model_module": "@jupyter-widgets/controls",
          "model_name": "SliderStyleModel",
          "state": {
            "_view_name": "StyleView",
            "handle_color": null,
            "_model_name": "SliderStyleModel",
            "description_width": "",
            "_view_module": "@jupyter-widgets/base",
            "_model_module_version": "1.5.0",
            "_view_count": null,
            "_view_module_version": "1.2.0",
            "_model_module": "@jupyter-widgets/controls"
          }
        },
        "0d91fd3f190b49a7929427dbbf8e1a94": {
          "model_module": "@jupyter-widgets/base",
          "model_name": "LayoutModel",
          "state": {
            "_view_name": "LayoutView",
            "grid_template_rows": null,
            "right": null,
            "justify_content": null,
            "_view_module": "@jupyter-widgets/base",
            "overflow": null,
            "_model_module_version": "1.2.0",
            "_view_count": null,
            "flex_flow": null,
            "width": null,
            "min_width": null,
            "border": null,
            "align_items": null,
            "bottom": null,
            "_model_module": "@jupyter-widgets/base",
            "top": null,
            "grid_column": null,
            "overflow_y": null,
            "overflow_x": null,
            "grid_auto_flow": null,
            "grid_area": null,
            "grid_template_columns": null,
            "flex": null,
            "_model_name": "LayoutModel",
            "justify_items": null,
            "grid_row": null,
            "max_height": null,
            "align_content": null,
            "visibility": null,
            "align_self": null,
            "height": null,
            "min_height": null,
            "padding": null,
            "grid_auto_rows": null,
            "grid_gap": null,
            "max_width": null,
            "order": null,
            "_view_module_version": "1.2.0",
            "grid_template_areas": null,
            "object_position": null,
            "object_fit": null,
            "grid_auto_columns": null,
            "margin": null,
            "display": null,
            "left": null
          }
        },
        "4fcfffc72c274d538c8e67d1c03037c2": {
          "model_module": "@jupyter-widgets/controls",
          "model_name": "DescriptionStyleModel",
          "state": {
            "_view_name": "StyleView",
            "_model_name": "DescriptionStyleModel",
            "description_width": "",
            "_view_module": "@jupyter-widgets/base",
            "_model_module_version": "1.5.0",
            "_view_count": null,
            "_view_module_version": "1.2.0",
            "_model_module": "@jupyter-widgets/controls"
          }
        },
        "d25d117bd23a4b70ba1481d1ad9d4afe": {
          "model_module": "@jupyter-widgets/base",
          "model_name": "LayoutModel",
          "state": {
            "_view_name": "LayoutView",
            "grid_template_rows": null,
            "right": null,
            "justify_content": null,
            "_view_module": "@jupyter-widgets/base",
            "overflow": null,
            "_model_module_version": "1.2.0",
            "_view_count": null,
            "flex_flow": null,
            "width": null,
            "min_width": null,
            "border": null,
            "align_items": null,
            "bottom": null,
            "_model_module": "@jupyter-widgets/base",
            "top": null,
            "grid_column": null,
            "overflow_y": null,
            "overflow_x": null,
            "grid_auto_flow": null,
            "grid_area": null,
            "grid_template_columns": null,
            "flex": null,
            "_model_name": "LayoutModel",
            "justify_items": null,
            "grid_row": null,
            "max_height": null,
            "align_content": null,
            "visibility": null,
            "align_self": null,
            "height": null,
            "min_height": null,
            "padding": null,
            "grid_auto_rows": null,
            "grid_gap": null,
            "max_width": null,
            "order": null,
            "_view_module_version": "1.2.0",
            "grid_template_areas": null,
            "object_position": null,
            "object_fit": null,
            "grid_auto_columns": null,
            "margin": null,
            "display": null,
            "left": null
          }
        },
        "8927d232d8f144548771d2e25bcaec30": {
          "model_module": "@jupyter-widgets/controls",
          "model_name": "SliderStyleModel",
          "state": {
            "_view_name": "StyleView",
            "handle_color": null,
            "_model_name": "SliderStyleModel",
            "description_width": "",
            "_view_module": "@jupyter-widgets/base",
            "_model_module_version": "1.5.0",
            "_view_count": null,
            "_view_module_version": "1.2.0",
            "_model_module": "@jupyter-widgets/controls"
          }
        },
        "fe46239226cb4b368a15e5c7fdfffbf4": {
          "model_module": "@jupyter-widgets/base",
          "model_name": "LayoutModel",
          "state": {
            "_view_name": "LayoutView",
            "grid_template_rows": null,
            "right": null,
            "justify_content": null,
            "_view_module": "@jupyter-widgets/base",
            "overflow": null,
            "_model_module_version": "1.2.0",
            "_view_count": null,
            "flex_flow": null,
            "width": null,
            "min_width": null,
            "border": null,
            "align_items": null,
            "bottom": null,
            "_model_module": "@jupyter-widgets/base",
            "top": null,
            "grid_column": null,
            "overflow_y": null,
            "overflow_x": null,
            "grid_auto_flow": null,
            "grid_area": null,
            "grid_template_columns": null,
            "flex": null,
            "_model_name": "LayoutModel",
            "justify_items": null,
            "grid_row": null,
            "max_height": null,
            "align_content": null,
            "visibility": null,
            "align_self": null,
            "height": null,
            "min_height": null,
            "padding": null,
            "grid_auto_rows": null,
            "grid_gap": null,
            "max_width": null,
            "order": null,
            "_view_module_version": "1.2.0",
            "grid_template_areas": null,
            "object_position": null,
            "object_fit": null,
            "grid_auto_columns": null,
            "margin": null,
            "display": null,
            "left": null
          }
        },
        "3466632fac4541beb6793210eccc49b9": {
          "model_module": "@jupyter-widgets/controls",
          "model_name": "DescriptionStyleModel",
          "state": {
            "_view_name": "StyleView",
            "_model_name": "DescriptionStyleModel",
            "description_width": "",
            "_view_module": "@jupyter-widgets/base",
            "_model_module_version": "1.5.0",
            "_view_count": null,
            "_view_module_version": "1.2.0",
            "_model_module": "@jupyter-widgets/controls"
          }
        },
        "d0a4ca4179184853ba952ac55bdedf5e": {
          "model_module": "@jupyter-widgets/base",
          "model_name": "LayoutModel",
          "state": {
            "_view_name": "LayoutView",
            "grid_template_rows": null,
            "right": null,
            "justify_content": null,
            "_view_module": "@jupyter-widgets/base",
            "overflow": null,
            "_model_module_version": "1.2.0",
            "_view_count": null,
            "flex_flow": null,
            "width": null,
            "min_width": null,
            "border": null,
            "align_items": null,
            "bottom": null,
            "_model_module": "@jupyter-widgets/base",
            "top": null,
            "grid_column": null,
            "overflow_y": null,
            "overflow_x": null,
            "grid_auto_flow": null,
            "grid_area": null,
            "grid_template_columns": null,
            "flex": null,
            "_model_name": "LayoutModel",
            "justify_items": null,
            "grid_row": null,
            "max_height": null,
            "align_content": null,
            "visibility": null,
            "align_self": null,
            "height": null,
            "min_height": null,
            "padding": null,
            "grid_auto_rows": null,
            "grid_gap": null,
            "max_width": null,
            "order": null,
            "_view_module_version": "1.2.0",
            "grid_template_areas": null,
            "object_position": null,
            "object_fit": null,
            "grid_auto_columns": null,
            "margin": null,
            "display": null,
            "left": null
          }
        },
        "b8db2227d8594436bef3c1112cec6f7d": {
          "model_module": "@jupyter-widgets/controls",
          "model_name": "SliderStyleModel",
          "state": {
            "_view_name": "StyleView",
            "handle_color": null,
            "_model_name": "SliderStyleModel",
            "description_width": "",
            "_view_module": "@jupyter-widgets/base",
            "_model_module_version": "1.5.0",
            "_view_count": null,
            "_view_module_version": "1.2.0",
            "_model_module": "@jupyter-widgets/controls"
          }
        },
        "be2ef0c8d58149919dff3cdad282023e": {
          "model_module": "@jupyter-widgets/base",
          "model_name": "LayoutModel",
          "state": {
            "_view_name": "LayoutView",
            "grid_template_rows": null,
            "right": null,
            "justify_content": null,
            "_view_module": "@jupyter-widgets/base",
            "overflow": null,
            "_model_module_version": "1.2.0",
            "_view_count": null,
            "flex_flow": null,
            "width": null,
            "min_width": null,
            "border": null,
            "align_items": null,
            "bottom": null,
            "_model_module": "@jupyter-widgets/base",
            "top": null,
            "grid_column": null,
            "overflow_y": null,
            "overflow_x": null,
            "grid_auto_flow": null,
            "grid_area": null,
            "grid_template_columns": null,
            "flex": null,
            "_model_name": "LayoutModel",
            "justify_items": null,
            "grid_row": null,
            "max_height": null,
            "align_content": null,
            "visibility": null,
            "align_self": null,
            "height": null,
            "min_height": null,
            "padding": null,
            "grid_auto_rows": null,
            "grid_gap": null,
            "max_width": null,
            "order": null,
            "_view_module_version": "1.2.0",
            "grid_template_areas": null,
            "object_position": null,
            "object_fit": null,
            "grid_auto_columns": null,
            "margin": null,
            "display": null,
            "left": null
          }
        },
        "bbb96fbc9a484470a197af14b5ef40db": {
          "model_module": "@jupyter-widgets/base",
          "model_name": "LayoutModel",
          "state": {
            "_view_name": "LayoutView",
            "grid_template_rows": null,
            "right": null,
            "justify_content": null,
            "_view_module": "@jupyter-widgets/base",
            "overflow": null,
            "_model_module_version": "1.2.0",
            "_view_count": null,
            "flex_flow": null,
            "width": null,
            "min_width": null,
            "border": null,
            "align_items": null,
            "bottom": null,
            "_model_module": "@jupyter-widgets/base",
            "top": null,
            "grid_column": null,
            "overflow_y": null,
            "overflow_x": null,
            "grid_auto_flow": null,
            "grid_area": null,
            "grid_template_columns": null,
            "flex": null,
            "_model_name": "LayoutModel",
            "justify_items": null,
            "grid_row": null,
            "max_height": null,
            "align_content": null,
            "visibility": null,
            "align_self": null,
            "height": null,
            "min_height": null,
            "padding": null,
            "grid_auto_rows": null,
            "grid_gap": null,
            "max_width": null,
            "order": null,
            "_view_module_version": "1.2.0",
            "grid_template_areas": null,
            "object_position": null,
            "object_fit": null,
            "grid_auto_columns": null,
            "margin": null,
            "display": null,
            "left": null
          }
        },
        "5f07f0ccaa4c4e96b57645997c919e11": {
          "model_module": "@jupyter-widgets/controls",
          "model_name": "VBoxModel",
          "state": {
            "_view_name": "VBoxView",
            "_dom_classes": [],
            "_model_name": "VBoxModel",
            "_view_module": "@jupyter-widgets/controls",
            "_model_module_version": "1.5.0",
            "_view_count": null,
            "_view_module_version": "1.5.0",
            "box_style": "",
            "layout": "IPY_MODEL_c797da8ce4df464ab453fae5eab2684e",
            "_model_module": "@jupyter-widgets/controls",
            "children": [
              "IPY_MODEL_77ea1f9852f345248a97d1c709678039",
              "IPY_MODEL_777e2ae3ef5e482a8c6ca31eb398e8bb"
            ]
          }
        },
        "c797da8ce4df464ab453fae5eab2684e": {
          "model_module": "@jupyter-widgets/base",
          "model_name": "LayoutModel",
          "state": {
            "_view_name": "LayoutView",
            "grid_template_rows": null,
            "right": null,
            "justify_content": null,
            "_view_module": "@jupyter-widgets/base",
            "overflow": null,
            "_model_module_version": "1.2.0",
            "_view_count": null,
            "flex_flow": null,
            "width": null,
            "min_width": null,
            "border": null,
            "align_items": null,
            "bottom": null,
            "_model_module": "@jupyter-widgets/base",
            "top": null,
            "grid_column": null,
            "overflow_y": null,
            "overflow_x": null,
            "grid_auto_flow": null,
            "grid_area": null,
            "grid_template_columns": null,
            "flex": null,
            "_model_name": "LayoutModel",
            "justify_items": null,
            "grid_row": null,
            "max_height": null,
            "align_content": null,
            "visibility": null,
            "align_self": null,
            "height": null,
            "min_height": null,
            "padding": null,
            "grid_auto_rows": null,
            "grid_gap": null,
            "max_width": null,
            "order": null,
            "_view_module_version": "1.2.0",
            "grid_template_areas": null,
            "object_position": null,
            "object_fit": null,
            "grid_auto_columns": null,
            "margin": null,
            "display": null,
            "left": null
          }
        },
        "77ea1f9852f345248a97d1c709678039": {
          "model_module": "@jupyter-widgets/controls",
          "model_name": "LabelModel",
          "state": {
            "_view_name": "LabelView",
            "style": "IPY_MODEL_ad13ad3b27b74bdc932800f3ab284802",
            "_dom_classes": [],
            "description": "",
            "_model_name": "LabelModel",
            "placeholder": "​",
            "_view_module": "@jupyter-widgets/controls",
            "_model_module_version": "1.5.0",
            "value": "LAMBDA",
            "_view_count": null,
            "_view_module_version": "1.5.0",
            "description_tooltip": null,
            "_model_module": "@jupyter-widgets/controls",
            "layout": "IPY_MODEL_0551e4d038154e4ea72d5cb9037364a4"
          }
        },
        "777e2ae3ef5e482a8c6ca31eb398e8bb": {
          "model_module": "@jupyter-widgets/controls",
          "model_name": "IntSliderModel",
          "state": {
            "_view_name": "IntSliderView",
            "style": "IPY_MODEL_bbf5451cc07b40e7826c11038a28349a",
            "_dom_classes": [],
            "description": "",
            "step": 1,
            "_model_name": "IntSliderModel",
            "orientation": "horizontal",
            "max": 10,
            "_view_module": "@jupyter-widgets/controls",
            "_model_module_version": "1.5.0",
            "value": 6,
            "_view_count": null,
            "disabled": false,
            "_view_module_version": "1.5.0",
            "min": 1,
            "continuous_update": true,
            "readout_format": "d",
            "description_tooltip": null,
            "readout": true,
            "_model_module": "@jupyter-widgets/controls",
            "layout": "IPY_MODEL_849d5746a5ce4a2f820d57bdf46704e0"
          }
        },
        "ad13ad3b27b74bdc932800f3ab284802": {
          "model_module": "@jupyter-widgets/controls",
          "model_name": "DescriptionStyleModel",
          "state": {
            "_view_name": "StyleView",
            "_model_name": "DescriptionStyleModel",
            "description_width": "",
            "_view_module": "@jupyter-widgets/base",
            "_model_module_version": "1.5.0",
            "_view_count": null,
            "_view_module_version": "1.2.0",
            "_model_module": "@jupyter-widgets/controls"
          }
        },
        "0551e4d038154e4ea72d5cb9037364a4": {
          "model_module": "@jupyter-widgets/base",
          "model_name": "LayoutModel",
          "state": {
            "_view_name": "LayoutView",
            "grid_template_rows": null,
            "right": null,
            "justify_content": null,
            "_view_module": "@jupyter-widgets/base",
            "overflow": null,
            "_model_module_version": "1.2.0",
            "_view_count": null,
            "flex_flow": null,
            "width": null,
            "min_width": null,
            "border": null,
            "align_items": null,
            "bottom": null,
            "_model_module": "@jupyter-widgets/base",
            "top": null,
            "grid_column": null,
            "overflow_y": null,
            "overflow_x": null,
            "grid_auto_flow": null,
            "grid_area": null,
            "grid_template_columns": null,
            "flex": null,
            "_model_name": "LayoutModel",
            "justify_items": null,
            "grid_row": null,
            "max_height": null,
            "align_content": null,
            "visibility": null,
            "align_self": null,
            "height": null,
            "min_height": null,
            "padding": null,
            "grid_auto_rows": null,
            "grid_gap": null,
            "max_width": null,
            "order": null,
            "_view_module_version": "1.2.0",
            "grid_template_areas": null,
            "object_position": null,
            "object_fit": null,
            "grid_auto_columns": null,
            "margin": null,
            "display": null,
            "left": null
          }
        },
        "bbf5451cc07b40e7826c11038a28349a": {
          "model_module": "@jupyter-widgets/controls",
          "model_name": "SliderStyleModel",
          "state": {
            "_view_name": "StyleView",
            "handle_color": null,
            "_model_name": "SliderStyleModel",
            "description_width": "",
            "_view_module": "@jupyter-widgets/base",
            "_model_module_version": "1.5.0",
            "_view_count": null,
            "_view_module_version": "1.2.0",
            "_model_module": "@jupyter-widgets/controls"
          }
        },
        "849d5746a5ce4a2f820d57bdf46704e0": {
          "model_module": "@jupyter-widgets/base",
          "model_name": "LayoutModel",
          "state": {
            "_view_name": "LayoutView",
            "grid_template_rows": null,
            "right": null,
            "justify_content": null,
            "_view_module": "@jupyter-widgets/base",
            "overflow": null,
            "_model_module_version": "1.2.0",
            "_view_count": null,
            "flex_flow": null,
            "width": null,
            "min_width": null,
            "border": null,
            "align_items": null,
            "bottom": null,
            "_model_module": "@jupyter-widgets/base",
            "top": null,
            "grid_column": null,
            "overflow_y": null,
            "overflow_x": null,
            "grid_auto_flow": null,
            "grid_area": null,
            "grid_template_columns": null,
            "flex": null,
            "_model_name": "LayoutModel",
            "justify_items": null,
            "grid_row": null,
            "max_height": null,
            "align_content": null,
            "visibility": null,
            "align_self": null,
            "height": null,
            "min_height": null,
            "padding": null,
            "grid_auto_rows": null,
            "grid_gap": null,
            "max_width": null,
            "order": null,
            "_view_module_version": "1.2.0",
            "grid_template_areas": null,
            "object_position": null,
            "object_fit": null,
            "grid_auto_columns": null,
            "margin": null,
            "display": null,
            "left": null
          }
        }
      }
    }
  },
  "cells": [
    {
      "cell_type": "markdown",
      "metadata": {
        "id": "view-in-github",
        "colab_type": "text"
      },
      "source": [
        "<a href=\"https://colab.research.google.com/github/annikaaross/Homochirality-project/blob/lio/Homochirality_with_dashboard.ipynb\" target=\"_parent\"><img src=\"https://colab.research.google.com/assets/colab-badge.svg\" alt=\"Open In Colab\"/></a>"
      ]
    },
    {
      "cell_type": "markdown",
      "metadata": {
        "id": "IO4sCUUbimaZ",
        "colab_type": "text"
      },
      "source": [
        "# Homochirality Model"
      ]
    },
    {
      "cell_type": "markdown",
      "metadata": {
        "id": "AI0F-yrSs0rg",
        "colab_type": "text"
      },
      "source": [
        "Hello and welcome to Do Opposites Attract?, the first monomer dating show. We're here to see if similarity between member(s) of a relationship matters in the strength of the bond between the individuals. Read on as we introduce you to our monomers, our polymers, and the stylish bag that they reside in. Along the way we will keep you up to date on all the drama of falling in love and breaking hearts."
      ]
    },
    {
      "cell_type": "markdown",
      "metadata": {
        "id": "AvOcPptw5JVf",
        "colab_type": "text"
      },
      "source": [
        "## Global Parameters"
      ]
    },
    {
      "cell_type": "markdown",
      "metadata": {
        "id": "lfMJif2R5Uc7",
        "colab_type": "text"
      },
      "source": [
        "Here's where we keep the rules by which our contestants must play."
      ]
    },
    {
      "cell_type": "code",
      "metadata": {
        "id": "zW---ckX5eKf",
        "colab_type": "code",
        "colab": {}
      },
      "source": [
        "#the bond break probbility applied to all bonds\n",
        "#BASE_BOND_BREAK_PROBABILITY = 0.9\n",
        "#if a bond itself is homochiral the base bond fator is multiplied by\n",
        "#this factor\n",
        "#HOMOCHIRAL_BREAK_FACTOR = 0.9\n",
        "#this factor is incorporated for each additional neighboring homochiral bond\n",
        "# becomes less and less influential as the bond gets further away\n",
        "##HOMOCHIRAL_NEIGHBOR_IMPROV_FACTOR = 0.3\n",
        "#decreases the break probability based on the length of the polymer\n",
        "#LENGTH_FACTOR = 0.6\n",
        "\n",
        "\n",
        "\n",
        "#limits the influence of length on breakprobabiltiy(the larger the less influence it has)\n",
        "#N=40\n",
        "\n",
        "#saves the break probabilities of sequences of polymers\n",
        "#break_prob_lookup_table = {}\n",
        "\n",
        "#poisson_dict={}\n",
        "\n",
        "#used in Poisson distribution\n",
        "#LAMBDA=6\n",
        "#################################################################\n",
        "#these are the same factors as before but with on for left and  #\n",
        "#one for right homochiral bonds.                                #\n",
        "#used in biaseastbondbreakability method which can be choosen to#\n",
        "#be used over the regular eastbondbreakability method in the    #\n",
        "#self.reset_break_probability() method                          #\n",
        "#################################################################\n",
        "#HOMOCHIRAL_BREAK_FACTOR_LEFT = 0.0\n",
        "#HOMOCHIRAL_BREAK_FACTOR_RIGHT = 0.9\n",
        "#HOMOCHIRAL_NEIGHBOR_IMPROV_FACTOR_LEFT = 0.3\n",
        "#HOMOCHIRAL_NEIGHBOR_IMPROV_FACTOR_RIGHT = 0.3\n",
        "\n",
        "N_RANDS = 1000\n",
        "\n",
        "\n",
        "rands = []\n",
        "\n",
        "\n",
        "#These are the liklihoods that a monomer will choose to poof or bond, respectively.\n",
        "#Used in the Reactables class.\n",
        "#POOF_CHANCE = 0.3333\n",
        "#BOND_PROB = 0.3333\n",
        "\n",
        "# Shorthands #\n",
        "L = True\n",
        "R = False"
      ],
      "execution_count": 1,
      "outputs": []
    },
    {
      "cell_type": "markdown",
      "metadata": {
        "id": "a8egVnJUbTYf",
        "colab_type": "text"
      },
      "source": [
        "## Imports and Helpers"
      ]
    },
    {
      "cell_type": "markdown",
      "metadata": {
        "id": "IN4PxtbgaqnM",
        "colab_type": "text"
      },
      "source": [
        "First we install a package called ```jdc``` which allows us to define classes across different cells using the syntax\n",
        "\n",
        "```\n",
        "%%add_to our_class\n",
        "def our_function(self, our_variable):\n",
        "  print our_variable\n",
        "```\n",
        "\n",
        "The documentation on this magic function can be found at https://alexhagen.github.io/jdc/\n",
        "\n",
        "\n",
        "\n",
        "\n"
      ]
    },
    {
      "cell_type": "code",
      "metadata": {
        "id": "5f4ViqWCQDL_",
        "colab_type": "code",
        "colab": {
          "base_uri": "https://localhost:8080/",
          "height": 35
        },
        "outputId": "f9a351a0-3d88-4174-c8c5-ce4ceeda090b"
      },
      "source": [
        "!pip install jdc"
      ],
      "execution_count": 2,
      "outputs": [
        {
          "output_type": "stream",
          "text": [
            "Requirement already satisfied: jdc in /usr/local/lib/python3.6/dist-packages (0.0.9)\n"
          ],
          "name": "stdout"
        }
      ]
    },
    {
      "cell_type": "markdown",
      "metadata": {
        "id": "5DONDBNfbdC3",
        "colab_type": "text"
      },
      "source": [
        "Here are the imports."
      ]
    },
    {
      "cell_type": "code",
      "metadata": {
        "id": "7gkyGmzI6Vst",
        "colab_type": "code",
        "colab": {}
      },
      "source": [
        "import random\n",
        "import numpy as np\n",
        "import copy\n",
        "from google.colab import widgets, output\n",
        "import matplotlib.pyplot as plt\n",
        "import jdc\n",
        "import more_itertools\n",
        "import pandas as pd\n",
        "import plotly.express as px\n",
        "import plotly.graph_objects as go\n",
        "import time\n",
        "from IPython.display import display, Markdown, clear_output\n",
        "import ipywidgets"
      ],
      "execution_count": 3,
      "outputs": []
    },
    {
      "cell_type": "markdown",
      "metadata": {
        "id": "Gc5E3314bsom",
        "colab_type": "text"
      },
      "source": [
        "And here are some helper functions."
      ]
    },
    {
      "cell_type": "code",
      "metadata": {
        "id": "PckJQLzVbvor",
        "colab_type": "code",
        "colab": {}
      },
      "source": [
        "def make_pool(n):\n",
        "  \"\"\"\n",
        "  Return a list of n new monomers.\n",
        "  \"\"\"\n",
        "  monomers = []\n",
        "  for i in range(n):\n",
        "    monomers.append(Monomer())\n",
        "  return monomers\n",
        "\n",
        "\n",
        "# def numpy_fillna(data):\n",
        "#   \"\"\" Rectangularize a jagged array.\n",
        "\n",
        "#   Source: https://stackoverflow.com/a/32043366\n",
        "#   \"\"\"\n",
        "#   # Get lengths of each row of data\n",
        "#   lens = np.array([len(i) for i in data])\n",
        "\n",
        "#   # Mask of valid places in each row\n",
        "#   mask = np.arange(lens.max()) < lens[:,None]\n",
        "\n",
        "#   # Setup output array and put elements from data into masked positions\n",
        "#   out = np.zeros(mask.shape, dtype=float)\n",
        "#   out[mask] = np.concatenate(data)\n",
        "#   return out\n",
        "\n",
        "def eAnd(*args): # From https://stackoverflow.com/q/2770434\n",
        "  return [all(tuple) for tuple in zip(*args)]\n",
        "\n",
        "def get_rand():\n",
        "  \"\"\"A function to provide uniform random numbers\"\"\"\n",
        "  if len(rands)<= 10:\n",
        "    randsarray = np.random.rand(N_RANDS)\n",
        "    rands.extend(randsarray.tolist())\n",
        "  return rands.pop()\n",
        "\n",
        "def poissonequation(k):\n",
        "  #checks if value has already been calulated\n",
        "  if k not in poisson_dict:\n",
        "    #otherwise calculates the values\n",
        "    p = np.exp(-LAMBDA)*((LAMBDA**k)/(np.math.factorial(k)))\n",
        "    #adds to dictionary\n",
        "    poisson_dict[k] = 1- 1.3*(p)\n",
        "  return poisson_dict[k]\n"
      ],
      "execution_count": 4,
      "outputs": []
    },
    {
      "cell_type": "markdown",
      "metadata": {
        "id": "7Uob6EJOc67H",
        "colab_type": "text"
      },
      "source": [
        "We need to mount Drive to be able to export and store data. If this cell is causing an error and you don't need to export, you can just comment it out and everything else should work fine."
      ]
    },
    {
      "cell_type": "code",
      "metadata": {
        "id": "sy3V7ZeLdFdu",
        "colab_type": "code",
        "colab": {
          "base_uri": "https://localhost:8080/",
          "height": 55
        },
        "outputId": "5e9e1a24-11d7-4f0b-f547-9ce26950def8"
      },
      "source": [
        "from google.colab import drive\n",
        "drive.mount('/content/drive')\n",
        "wdir = '/content/drive/Shared drives/Homochirality/'"
      ],
      "execution_count": 5,
      "outputs": [
        {
          "output_type": "stream",
          "text": [
            "Drive already mounted at /content/drive; to attempt to forcibly remount, call drive.mount(\"/content/drive\", force_remount=True).\n"
          ],
          "name": "stdout"
        }
      ]
    },
    {
      "cell_type": "markdown",
      "metadata": {
        "id": "axVuXR__qoi4",
        "colab_type": "text"
      },
      "source": [
        "## The Monomer class"
      ]
    },
    {
      "cell_type": "markdown",
      "metadata": {
        "id": "NgRYt5tGs6Q6",
        "colab_type": "text"
      },
      "source": [
        "These are our Monomers. The individuals in our dating show. They are the best thing a girl can be in this worl, beautiful little fools. They know that they exist and they know what kind of monomer they are, left or right(thats handedness not political party alignment) What more can you ask for?"
      ]
    },
    {
      "cell_type": "markdown",
      "metadata": {
        "id": "jI9isLxnRk5d",
        "colab_type": "text"
      },
      "source": [
        "### Constructor"
      ]
    },
    {
      "cell_type": "code",
      "metadata": {
        "id": "7TlZA8Njjd2D",
        "colab_type": "code",
        "colab": {}
      },
      "source": [
        "class Monomer:\n",
        "\n",
        "  def __init__(self, **kwargs):\n",
        "    \"\"\"\n",
        "    The constructor method for Monomer objects. Assigns default handedness.\n",
        "    Accepts argument hand = bool with keyword.\n",
        "    Considering other syntax for passing in handedness.\n",
        "    Keeps track of how old the monomer is\n",
        "    \"\"\"\n",
        "    import random\n",
        "    self._handedness = kwargs['hand'] if 'hand' in kwargs else random.choice([True,False])\n",
        "    self._eastbrkprob = kwargs['brkprob'] if 'brkprob' in kwargs else -1\n",
        "    #keeps track of its age, the number of iterations it has survived\n",
        "    self._age = 0\n",
        "  \n",
        "  def __repr__(self):\n",
        "    return str(f\"{self.get_handedness()}-monomer\")\n"
      ],
      "execution_count": 6,
      "outputs": []
    },
    {
      "cell_type": "markdown",
      "metadata": {
        "id": "aP-4RlM7Q9IS",
        "colab_type": "text"
      },
      "source": [
        "### Getters and Setters"
      ]
    },
    {
      "cell_type": "code",
      "metadata": {
        "id": "IJM6sYAdRHFc",
        "colab_type": "code",
        "colab": {}
      },
      "source": [
        "%%add_to Monomer\n",
        "\n",
        "def get_handedness(self):\n",
        "  \"\"\"Getter method for Monomer handedness.\"\"\"\n",
        "  return self._handedness\n",
        "\n",
        "def get_age(self):\n",
        "  \"\"\"Getter method for Monomer age\"\"\"\n",
        "  return self._age\n",
        "\n",
        "\n",
        "def get_eastbrkprob(self):\n",
        "  \"\"\"Getter method for east bond brk probability\"\"\"\n",
        "  return self._eastbrkprob\n",
        "\n",
        "def set_eastbrkprob(self, newbrk):\n",
        "  \"\"\"Setter method for east bond brk probability\"\"\"\n",
        "  self._eastbrkprob = newbrk\n",
        "\n",
        "def set_age(self, newage):\n",
        "  \"\"\"setter method for age\"\"\"\n",
        "  self._age = newage\n",
        "\n",
        "def reset_eastbrkprob(self) :\n",
        "  \"\"\"reset east brk probability to -1 \n",
        "      to be called when single monomer is broken from polymer\"\"\"\n",
        "  self.set_eastbrkprob(-1)\n"
      ],
      "execution_count": 7,
      "outputs": []
    },
    {
      "cell_type": "markdown",
      "metadata": {
        "id": "ihXAcN9GRXPL",
        "colab_type": "text"
      },
      "source": [
        "### Polymer Compatibility"
      ]
    },
    {
      "cell_type": "code",
      "metadata": {
        "id": "4fFeZGU6Ra7W",
        "colab_type": "code",
        "colab": {}
      },
      "source": [
        "%%add_to Monomer\n",
        "\n",
        "# def get_chirality(self):\n",
        "#   \"\"\" Return an expression of handedness compatible with the Polymer notation\n",
        "#   of chirality (n_lefts, n_rights).\n",
        "#   \"\"\"\n",
        "#   if self.get_handedness():\n",
        "#     return (1,0)\n",
        "#   else:\n",
        "#     return (0,1)\n",
        "\n",
        "# def get_length(self):\n",
        "#   \"\"\" Return 1. \"\"\"\n",
        "#   return 1\n",
        "\n",
        "# def get_ee(self):\n",
        "#   \"\"\" Return the enantiomeric excess of the monomer. This value is always 1. \"\"\"\n",
        "#   return 1\n",
        "\n",
        "# def get_signed_ee(self):\n",
        "#   \"\"\" Return the signed enantiomeric excess of the monomer.\n",
        "#   Returns 1 if left handed, -1 if right handed.\n",
        "#   \"\"\"\n",
        "#   if self.get_handedness():\n",
        "#     return 1\n",
        "#   else:\n",
        "#     return -1\n",
        "\n",
        "# def generate_log(self):\n",
        "#   \"\"\" Return a log compatible with the reactables history. \"\"\"\n",
        "#   return (self.get_handedness(),self.get_age())\n",
        "\n",
        "def get_sequence(self):\n",
        "  return (self.get_handedness(),)\n",
        "\n",
        "def birthday(self):\n",
        "  \"\"\"ages the monomer up\"\"\"\n",
        "  self._age += 1"
      ],
      "execution_count": 8,
      "outputs": []
    },
    {
      "cell_type": "markdown",
      "metadata": {
        "id": "lisjFJ2YqZf7",
        "colab_type": "text"
      },
      "source": [
        "## The Polymer class"
      ]
    },
    {
      "cell_type": "markdown",
      "metadata": {
        "id": "h8Z3nHigtAsf",
        "colab_type": "text"
      },
      "source": [
        "This is our Polymer class, aka the relationships in this dating show. They contain a list of all the monomers that are inside of them. It is kept in a specific order. They are pretty open books. They can tell us how many monomers they contain, they add new members(either monomers or whole other polymers), they can remove entire groups of members after a certain index, they can check which of their bonds are homochiral and use this to calculate probability of a certain bond breaking(the weak areas in their relationship). They can use this to then tell the producers if and where they are planning on breaking off members of they ranks. Like all good relationships, they use purely mathematics and chance to determine these heart breaking decisions. They can also tell us how many left handed monomers and how many right handed monomers they contain. "
      ]
    },
    {
      "cell_type": "markdown",
      "metadata": {
        "id": "RX_K0yxjTSEx",
        "colab_type": "text"
      },
      "source": [
        "### Constructor"
      ]
    },
    {
      "cell_type": "code",
      "metadata": {
        "id": "zNkhoo72TYUM",
        "colab_type": "code",
        "colab": {}
      },
      "source": [
        "class Polymer:\n",
        "  def __init__(self, monomers = []):\n",
        "    \"\"\" Constructor method for Polymer.\n",
        "    In addition to setting the monomers list, also calculates all break probabilities\n",
        "    of the bonds it contains using reset_break_probability.\n",
        "    \"\"\"\n",
        "    self._monomers = monomers\n",
        "    #self.reset_break_probability()\n",
        "    #keeps track of the age of itself(number of iterations it has survived)\n",
        "    self._age = 0\n",
        "\n",
        "  def __str__(self):\n",
        "    \"\"\" str function for Polymer class. \"\"\"\n",
        "    return f\"\\nA polymer of length {self.get_length()}: {self.get_sequence()}\"\n",
        "  \n",
        "  def __repr__(self):\n",
        "    \"\"\" repr function for Polymer class. \"\"\"\n",
        "    return f\"{self.get_sequence()}-polymer\""
      ],
      "execution_count": 9,
      "outputs": []
    },
    {
      "cell_type": "markdown",
      "metadata": {
        "id": "67fSyVs_Tdlh",
        "colab_type": "text"
      },
      "source": [
        "### Getters, Setters, and Logs"
      ]
    },
    {
      "cell_type": "code",
      "metadata": {
        "id": "ziWCTo2GTcrv",
        "colab_type": "code",
        "colab": {}
      },
      "source": [
        "%%add_to Polymer\n",
        "\n",
        "\n",
        "def get_monomers(self):\n",
        "  \"\"\" Return list of monomers in the polymer. \"\"\"\n",
        "  return self._monomers\n",
        "\n",
        "\n",
        "def get_length(self):\n",
        "  \"\"\" Return the number of monomers in the polymer. \"\"\"\n",
        "  return len(self._monomers)\n",
        "\n",
        "\n",
        "def get_sequence(self):\n",
        "  \"\"\" Return the sequence of monomers in the polymer in a human-readable (and loggable) format. \"\"\"\n",
        "  sequence = []\n",
        "  for monomer in self.get_monomers():\n",
        "    sequence.append(monomer.get_handedness())\n",
        "  return sequence\n",
        "\n",
        "def get_age(self):\n",
        "  \"\"\"\n",
        "  Getter method for the age of the polymer\n",
        "  \"\"\"\n",
        "  return self._age\n",
        "\n",
        "\n",
        "def set_age(self, newage):\n",
        "  \"\"\"\n",
        "  Setter method for the age of the polymer\n",
        "  \"\"\"\n",
        "  self._age = newage\n",
        "\n",
        "def set_monomers(self, new_monomers):\n",
        "  \"\"\" Set the monomers in the polymer to new_monomers. \"\"\"\n",
        "  self._monomers = new_monomers\n",
        "\n",
        "# def get_avg_age(self):\n",
        "#   \"\"\"\n",
        "#   calculates the average age of the monomers in the polymer\n",
        "#   \"\"\"\n",
        "#   totalage = 0\n",
        "#   for n in range(self.get_length()):\n",
        "#     totalage += self.get_monomers()[n].get_age()\n",
        "#   avgage= totalage/self.get_length()\n",
        "#   return avgage\n",
        "\n",
        "\n",
        "# def get_chirality(self):\n",
        "#   \"\"\" Return the chiralities of the monomers within the polymer.\n",
        "\n",
        "#   RETURN: tuple\n",
        "#   (number_lefts, number_rights)\n",
        "#   \"\"\"\n",
        "#   #Get the monomer handednesses\n",
        "#   sequence = self.get_sequence()\n",
        "#   #Count the number of trues\n",
        "#   n_true = sum(sequence)\n",
        "#   #The number of falses is the total minus the number of trues\n",
        "#   #Return that.\n",
        "#   return (n_true, len(sequence) - n_true)\n",
        "\n",
        "def birthday(self):\n",
        "  \"\"\"\n",
        "  Ages up the polymer and all of the monomers in the polymer\n",
        "  \"\"\"\n",
        "  self._age += 1\n",
        "  for n in range(self.get_length()):\n",
        "    self.get_monomers()[n].birthday()\n",
        "    \n",
        "\n",
        "# def get_signed_ee(self):\n",
        "#   lefts, rights = self.get_chirality()\n",
        "#   return (lefts - rights) / self.get_length()\n",
        "\n",
        "# def get_ee(self):\n",
        "#   lefts, rights = self.get_chirality()\n",
        "#   return abs((lefts - rights) / self.get_length())\n",
        "\n",
        "  \n",
        "# def generate_log(self):\n",
        "#   \"\"\" Return a log tuple formatted simply as the list of boolean handednesses of the monomers contained\n",
        "#   in the polymer. Will be heavier than holding data about the polymer like in the other log format,\n",
        "#   but should allow access to more information and more kinds of information.\n",
        "#   \"\"\"\n",
        "#   return (self.get_sequence(),self.get_age())"
      ],
      "execution_count": 10,
      "outputs": []
    },
    {
      "cell_type": "markdown",
      "metadata": {
        "id": "IdB8k_yadghA",
        "colab_type": "text"
      },
      "source": [
        "### Functionality methods"
      ]
    },
    {
      "cell_type": "code",
      "metadata": {
        "id": "Xa_gIPs0dcjS",
        "colab_type": "code",
        "colab": {}
      },
      "source": [
        "%%add_to Polymer\n",
        "\n",
        "def append(self, other):\n",
        "  \"\"\"\n",
        "  Adds a reactable (monomer or polymer) to the end of the Polymer.\n",
        "  If the added reactable is a polymer, append() deletes it after taking its monomers.\n",
        "  \"\"\"\n",
        "  #Check the type of thing to add\n",
        "  if isinstance(other, Monomer):\n",
        "    #Monomers can just be appended to the list\n",
        "    self._monomers.append(other)\n",
        "  elif isinstance(other, Polymer):\n",
        "    #For polymers we need to extend rather than append, to avoid nested lists\n",
        "    self._monomers.extend(other.get_monomers())\n",
        "    #Then once the monomers are safely in their new polymer, the old one is deleted\n",
        "    del other\n",
        "\n",
        "def brkloc(self):\n",
        "\n",
        "  #makes a list of all the indices of monomers in the polymer except \n",
        "  #for the last one\n",
        "  indices = []\n",
        "  for n in range(self.get_length() - 1):\n",
        "    indices.append(n)\n",
        "  #puts indices in random order\n",
        "  random.shuffle(indices)\n",
        "  #tests if each indices will break\n",
        "  for index in indices:\n",
        "    #gets the breakprobability for monomer at n index\n",
        "    brkprob = self._monomers[index].get_eastbrkprob()\n",
        "    rand = get_rand()\n",
        "    # checks if the random number is less than the brkprob then the index of\n",
        "    #the monomer is returned from the method\n",
        "    #indicating this polymer breaks at the east bond of this monomer\n",
        "    if(brkprob > rand):\n",
        "      return index\n",
        "  return None\n",
        "\n",
        "def removeright(self,location):\n",
        "  \"\"\"\n",
        "  Removes all monomers to the right (east) of a given index\n",
        "  \"\"\"\n",
        "  #creates a list of monomers in the polymer to the left, and including,\n",
        "  #the monomer at the location(index) provided\n",
        "  newList = self._monomers[0:location+1]\n",
        "\n",
        "  #makes a list of the monoers to the rightof the monomer at the \n",
        "  #index provided\n",
        "  removed = self._monomers[location+1:]\n",
        "\n",
        "  #sets the polymers monomers to newList(the monomers to the left\n",
        "  #of  and the index provided)\n",
        "  self.set_monomers(newList)\n",
        "  #print(\"after breaking ractable is:\",self)\n",
        "  #print(\"after breaking removed is:\",removed)\n",
        "\n",
        "  #returns the monomers that were removed, everything the right\n",
        "  #of the index provided\n",
        "  return removed"
      ],
      "execution_count": 11,
      "outputs": []
    },
    {
      "cell_type": "markdown",
      "metadata": {
        "id": "1lx9FPNLeRNM",
        "colab_type": "text"
      },
      "source": [
        "### Homochirality handling"
      ]
    },
    {
      "cell_type": "code",
      "metadata": {
        "id": "THNcbUmt1vm7",
        "colab_type": "code",
        "colab": {}
      },
      "source": [
        "%%add_to Polymer\n",
        "def easthomochiralcheck(self,numbermonomer):\n",
        "  \"\"\"\n",
        "  Takes the index of a monomer within the Polymer and returns whether its east bond is homochiral.\n",
        "  \"\"\"\n",
        "  #First check that the index isn't out of bounds \n",
        "  if (0 > numbermonomer or numbermonomer >= self.get_length()-1):\n",
        "    return False\n",
        "  #get the handedness of this monomer and its east neighbor, and return whether or not they're equal (bool)\n",
        "  return self._monomers[numbermonomer].get_handedness() == self._monomers[numbermonomer+1].get_handedness()\n",
        "\n",
        "def easthomochiralbiascheck (self, numbermonomer):\n",
        "  \"\"\" this method can be used in place of the east homochiral check method\n",
        "  returns false if not homochiral, 3 if homochiral left, 5 if homochiral right\"\"\"\n",
        "\n",
        "  #First check that the index isn't out of bounds or if not homochiral\n",
        "  if (0 > numbermonomer or numbermonomer >= self.get_length()-1 or not self.easthomochiralcheck(numbermonomer)):\n",
        "    return False\n",
        "  \n",
        "  #otherwise check if they are homochiral left or right\n",
        "  elif self._monomers[numbermonomer].get_handedness():\n",
        "      #means left homochiral\n",
        "      return 3\n",
        "  elif not self._monomers[numbermonomer].get_handedness():\n",
        "      #means right homochiral\n",
        "      return 5\n",
        "  \n",
        "\n",
        "def eastbondbreakprobability(self,numbermonomer):\n",
        "  \"\"\"\n",
        "  Takes the index of a monomer within the Polymer\n",
        "  Returns the probability that the monomer's east bond will break\n",
        "  returns -3 if the monomer has no east bond\n",
        "  \"\"\"\n",
        "  ##############################\n",
        "  #Override to return an equal break chance for every bond in the polymer\n",
        "  #Simply comment out this line to get the regular function\n",
        "  #return (0.3)\n",
        "  ##############################\n",
        "\n",
        "  #First check if the monomer is the last one in the polymer\n",
        "  if (numbermonomer >= self.get_length()-1):\n",
        "    #If so, it doesn't have an east bond to break, so the probability is 0(return -3)\n",
        "    return -3\n",
        "    \n",
        "  #now we initialize brk probability (brk)\n",
        "  brk = (BASE_BOND_BREAK_PROBABILITY) * (LENGTH_FACTOR**(self.get_length()/N))\n",
        "  #check if the east bond is homochiral\n",
        "  if (self.easthomochiralcheck(numbermonomer)):\n",
        "    #if so multiply it by homochiral break factor (shrinks probability)\n",
        "    brk *= HOMOCHIRAL_BREAK_FACTOR\n",
        "    #goes through method which checks and calculates benefit of all homochiral neighbors\n",
        "    brk = self.checkforhomochiralneighbors(numbermonomer,brk,HOMOCHIRAL_NEIGHBOR_IMPROV_FACTOR)\n",
        "  #end def: returns break probability of monomers east bond\n",
        "  return brk\n",
        "\n",
        "def biaseastbondbreakprobability(self,numbermonomer):\n",
        "  \"\"\"\n",
        "  ***left-right sensitivity****\n",
        "  Takes the index of a monomer within the Polymer\n",
        "  Returns the probability that the monomer's east bond will break\n",
        "  returns -3 if the monomer has no east bond\n",
        "  \"\"\"\n",
        "  ##############################\n",
        "  #Override to return an equal break chance for every bond in the polymer\n",
        "  #Simply comment out this line to get the regular function\n",
        "  #return (0.3)\n",
        "  ##############################\n",
        "  \n",
        "  #First check if the monomer is the last one in the polymer\n",
        "  if (numbermonomer >= self.get_length()-1):\n",
        "    #If so, it doesn't have an east bond to break, so the probability is 0 (returns -3)\n",
        "    return -3\n",
        "  \n",
        "  #initialize the brk probability\n",
        "  brk = (BASE_BOND_BREAK_PROBABILITY) * (LENGTH_FACTOR**(self.get_length()/N))\n",
        "\n",
        "  #check if the east bond is homochiral left\n",
        "  if (self.easthomochiralbiascheck(numbermonomer) == 3):\n",
        "    brk *= HOMOCHIRAL_BREAK_FACTOR_LEFT\n",
        "\n",
        "    #run through function that recalculates brk based on benfits of homochiral neighbors\n",
        "    brk = self.checkforhomochiralneighbors(numbermonomer, brk, HOMOCHIRAL_NEIGHBOR_IMPROV_FACTOR_LEFT)\n",
        "\n",
        "  #otherwise checks if bond is homochiral right\n",
        "  elif (self.easthomochiralbiascheck(numbermonomer) == 5):\n",
        "    brk *= HOMOCHIRAL_BREAK_FACTOR_RIGHT\n",
        "\n",
        "    #run through function that recalculates brk based on benfits of homochiral neighbors\n",
        "    brk = self.checkforhomochiralneighbors(numbermonomer,brk, HOMOCHIRAL_NEIGHBOR_IMPROV_FACTOR_RIGHT)\n",
        "   \n",
        "  return brk\n",
        "\n",
        "def checkforhomochiralneighbors(self, numbermonomer, brk, neighborfactor):\n",
        "\n",
        "  \"\"\"\n",
        "  helps all the versions of the eastbond break calculating functions\n",
        "  takes in a brk probability a number monomer and the desired neighbor improvement factor\n",
        "  and calculates how the neighbors a bond will increase the strength of the bond\n",
        "  it then returns the new brk prob to the eastbond brk function\n",
        "  \"\"\"\n",
        "  brk = brk\n",
        "  j = numbermonomer + 1\n",
        "  #going right to check for homochiral neighbors\n",
        "  while(self.easthomochiralcheck(j)):\n",
        "    #calculates decrease to brk prob for a neighbor of that distance for the bond\n",
        "    brk *= 1 - (neighborfactor**abs(j - numbermonomer))\n",
        "    j += 1\n",
        "\n",
        "  #going left to check for homochiral neighbors\n",
        "  j=numbermonomer-1\n",
        "  while(self.easthomochiralcheck(j)):\n",
        "    #calculates decrease to brk prob for a neighbor of that distance for the bond\n",
        "    brk *= 1-(neighborfactor**abs(numbermonomer - j))\n",
        "    j -= 1\n",
        "\n",
        "  return brk\n",
        "\n",
        "\n",
        "def poissonbreakprobability(self,numbermonomer):\n",
        "  \"\"\"\n",
        "  Takes the index of a monomer within the Polymer\n",
        "  Returns the probability that the monomer's east bond will break\n",
        "  based on Poisson distribution\n",
        "  returns -3 if the monomer has no east bond\n",
        "  \"\"\"\n",
        "\n",
        "  #First check if the monomer is the last one in the polymer\n",
        "  if (numbermonomer >= self.get_length()-1):\n",
        "    #If so, it doesn't have an east bond to break, so the probability is 0(return -3)\n",
        "    return -3\n",
        "\n",
        "  #With that out of the way, we initialize brk to the base probability of breaking a bond\n",
        "  brk = (BASE_BOND_BREAK_PROBABILITY) * (LENGTH_FACTOR**(self.get_length()/N))\n",
        "\n",
        "  #keeps track of the number of the total consecutive homochiral bonds\n",
        "  homochiralcount=0 \n",
        "\n",
        "  #check if the east bond is homochiral\n",
        "  if (self.easthomochiralcheck(numbermonomer)):\n",
        "    #if so homochiral count increases by 1\n",
        "    homochiralcount +=1\n",
        "    #brk gets benefited by the poisson distribution of homochiral count \n",
        "    brk *= poissonequation(homochiralcount)\n",
        "\n",
        "    #set j to monomer to right\n",
        "    j = numbermonomer+1\n",
        "\n",
        "    #going right to check for neighboring homochirality\n",
        "    while(self.easthomochiralcheck(j)):\n",
        "      #if homochiral increases count\n",
        "      homochiralcount += 1\n",
        "      #recalculates brk prob\n",
        "      brk *= poissonequation(homochiralcount)\n",
        "\n",
        "      #check next monomer\n",
        "      j += 1\n",
        "\n",
        "    #going left to check for neighboring homochirality\n",
        "    j=numbermonomer-1\n",
        "    homochiralcount = 1\n",
        "    while(self.easthomochiralcheck(j)):\n",
        "      homochiralcount += 1\n",
        "      brk *= poissonequation(homochiralcount)\n",
        "      j -= 1\n",
        "\n",
        "  return brk\n",
        "\n",
        "\n",
        "def reset_break_probability(self, method):\n",
        "    \n",
        "  \"\"\" \n",
        "  resets the break probabilities of the monomers in a \n",
        "  sequence. 1)checks lookup table to see if similar polymer values\n",
        "  have been caluclated, otherwise calculates values and adds\n",
        "  polymer to lookup table 2)sets values to monomers.\n",
        " \n",
        "  \"\"\"\n",
        "  #store self as list of booleans to be added to lookup table\n",
        "  polyseq = self.get_monomers().copy()\n",
        "  for n in range(self.get_length()):\n",
        "    polyseq[n] = polyseq[n].get_handedness()\n",
        "\n",
        "  ##########################\n",
        "  # LEFT/RIGHT SENSITIVITY #\n",
        "  ##########################\n",
        "  # All stored sequences start with True. If the one being requested doesn't, invert so that it does\n",
        "  if not method == \"bias\":\n",
        "    if polyseq[0] == True:\n",
        "      polyseq = [not mono for mono in polyseq]\n",
        "\n",
        "  #make polyseq a tuple able to be added as an index of a dictionary  \n",
        "  polyseq = tuple(polyseq)\n",
        "\n",
        "  # If the sequence is already in the table (dict), retrieves its previously calculated break probabilities\n",
        "  if polyseq in break_prob_lookup_table:\n",
        "    the_probs = break_prob_lookup_table[polyseq]\n",
        "    \n",
        "  else: # Otherwise calculate and add to the lookup table\n",
        "    # Calculate the break probabilities\n",
        "    the_probs = self.calculatebrkprob(method)\n",
        "    #and add it to the lookup table\n",
        "    break_prob_lookup_table[polyseq] = the_probs\n",
        "\n",
        "  #set monomers eastbond brk probs to correlated values stored in the_probs\n",
        "  for n in range (self.get_length()):\n",
        "    self._monomers[n].set_eastbrkprob(the_probs[n])\n",
        "\n",
        "  #end def: polymer break probabilities recalculated and added\n",
        "  #to lookup table (if not already there)\n",
        "\n",
        "def calculatebrkprob(self, method):\n",
        "    \n",
        "  \"\"\"\n",
        "  generates and returns a list of break probabilities for the monomers at each index of\n",
        "  a polymer. This method can be altered to calculate normally\n",
        "  with left/right sensitivity or with a poisson distribution\n",
        "  \n",
        "  Calculation methods: [bias, standard, poisson]\n",
        "\n",
        "  \"\"\"\n",
        "\n",
        "  #initialize brk_probs as an empty list\n",
        "  brk_probs = []\n",
        "  \n",
        "  #checks if polymer is of length one -meaning it is lone monomer\n",
        "  if self.get_length() == 1 :\n",
        "    #if so adds -1 to list(brk prob value assigned to individual monomers)\n",
        "    brk_probs.append(-1)\n",
        "    \n",
        "  else:\n",
        "    #otherwise goes through all the indices of the polymer,calculates its brk probability, and appends it to brk_probs \n",
        "    for n in range(self.get_length()):\n",
        "\n",
        "      #############################################################\n",
        "      #LEFT RIGHT SENSITIVITY/POISSON EQUATIONS CHOICE.           #\n",
        "      #############################################################\n",
        "\n",
        "      if method == \"bias\":\n",
        "        brk_probs.append(self.biaseastbondbreakprobability(n))\n",
        "\n",
        "      elif method == \"standard\":\n",
        "        brk_probs.append(self.eastbondbreakprobability(n))\n",
        "\n",
        "      elif method == \"poisson\":\n",
        "        brk_probs.append(self.poissonbreakprobability(n))\n",
        "\n",
        "      else:\n",
        "        raise ValueError(f\"'{method}' is not a recognized calculation method. Please use one of ['bias', 'standard', 'poisson'].\")\n",
        "\n",
        "\n",
        "  #returns in order list of brk probs for the east bond of all the monomers in a polymer\n",
        "  return brk_probs\n"
      ],
      "execution_count": 12,
      "outputs": []
    },
    {
      "cell_type": "markdown",
      "metadata": {
        "id": "oV4UK3XdkNoF",
        "colab_type": "text"
      },
      "source": [
        "## The Reactables class"
      ]
    },
    {
      "cell_type": "markdown",
      "metadata": {
        "id": "6M112CR6tFmH",
        "colab_type": "text"
      },
      "source": [
        "This is the Reactables class aka the stylish little bag we keep our contestants in. As all good dating shows, we define our members by the relationship they are in. So a single monomer will be addd to the bag alone, but a monomer in a polymer will not be. Rather each polymer will be recorded once. Its like if you have charlie, ben, and jack. Jack and Ben are in a relationship so they are jointly called Jen. If these three were in the reactable bag they would be recognized as two things, charlie and Jen(Ben+JAck). The reactable class is the heart and center of our game- I mean dating- show. Its here we ask all the members just the right questions to get them falling in love and breaking hearts, and then we are curteous enough to do all the splitting and merging for them."
      ]
    },
    {
      "cell_type": "markdown",
      "metadata": {
        "id": "HVY41XQPUjIT",
        "colab_type": "text"
      },
      "source": [
        "### Constructor"
      ]
    },
    {
      "cell_type": "code",
      "metadata": {
        "id": "JAdpBmhBUuGc",
        "colab_type": "code",
        "colab": {}
      },
      "source": [
        "class Reactables:\n",
        "\n",
        "  def __init__(self, reactables = []):\n",
        "    \"\"\"\n",
        "    Constructor class for Reactables object\n",
        "    Accepts list of reactables or defaults to empty list\n",
        "    Reactables functions as a bin for reactable objects monomer and polymer\n",
        "    Methods consist mostly of list handling\n",
        "    \"\"\"\n",
        "    self._reactables = reactables\n",
        "    #The reactables bag also handles remembering its history\n",
        "    self._history = []\n",
        "    #list of the age of the polymers in the reactables bag. \n",
        "    #self._agehistory = []\n",
        "    self._lookup = {}\n",
        "    self._hist_stats = pd.DataFrame()\n",
        "\n",
        "\n",
        "  def __str__(self):\n",
        "    \"\"\"\n",
        "    str method for Reactables class\n",
        "    \"\"\"\n",
        "    return str(self.get_reactables())"
      ],
      "execution_count": 13,
      "outputs": []
    },
    {
      "cell_type": "markdown",
      "metadata": {
        "id": "hqD3AL_kUldF",
        "colab_type": "text"
      },
      "source": [
        "### Getters and Setters"
      ]
    },
    {
      "cell_type": "code",
      "metadata": {
        "id": "7hRne9W9U3No",
        "colab_type": "code",
        "colab": {}
      },
      "source": [
        "%%add_to Reactables\n",
        "\n",
        "#################\n",
        "#GETTERS/SETTERS#\n",
        "#################\n",
        "\n",
        "def get_reactables(self):\n",
        "  \"\"\"\n",
        "  Getter method for reactables in Reactables\n",
        "  Returns a list of the objects currently in the Reactables bag\n",
        "  \"\"\"\n",
        "  return self._reactables\n",
        "\n",
        "def get_history(self):\n",
        "  \"\"\" Return the history of the reactables bag.\n",
        "  \"\"\"\n",
        "  return self._history\n",
        "\n",
        "def set_history(self, new_hist):\n",
        "  \"\"\" Set the history to now_hist. \"\"\"\n",
        "  self._history = new_hist\n",
        "\n",
        "# def get_leftrighthistory(self):\n",
        "#   return self._leftrighthistory\n",
        "\n",
        "# def get_agehistory(self):\n",
        "#   \"\"\"\n",
        "#   Getter method for the age history of the reactables bag\n",
        "#   \"\"\"\n",
        "#   return self._agehistory\n",
        "  \n",
        "def get_count(self):\n",
        "  \"\"\"\n",
        "  Getter method for Reactables class\n",
        "  Returns the number of objects in the Reactables bag\n",
        "  \"\"\"\n",
        "  return len(self.get_reactables()) \n",
        "\n",
        "\n",
        "def set_reactables(self, new_list):\n",
        "  \"\"\"\n",
        "  Setter method for the Reactables class\n",
        "  Sets the reactables bag to a new list\n",
        "  Used mostly as a helper function in bonding\n",
        "  \"\"\"\n",
        "  self._reactables = new_list\n",
        "\n",
        "# def set_agehistory(self, newagehistory):\n",
        "#   self._agehistory = newagehistory\n",
        "\n",
        "\n",
        "# def get_bond_chance(self, reactable1, reactable2):\n",
        "#   \"\"\"\n",
        "#   Returns the probability that two given reactables in the reactables bag will bond\n",
        "#   \"\"\"\n",
        "#   return BOND_PROB\n",
        "\n",
        "# def get_free_monomers(self):\n",
        "#   return [r for r in self.get_reactables() if isinstance(r, Monomer)]\n",
        "\n",
        "# def get_polymers(self):\n",
        "#   return [r for r in self.get_reactables() if isinstance(r, Polymer)]\n",
        "\n",
        "# def get_bound_monomers(self):\n",
        "#   bound = []\n",
        "#   for p in self.get_polymers():\n",
        "#     bound.extend(p.get_monomers())\n",
        "#   return bound\n",
        "\n",
        "\n",
        "def get_stats(self):\n",
        "  return self._hist_stats\n",
        "\n",
        "def set_hist_stats(self,df):\n",
        "  self._hist_stats = df\n",
        "\n",
        "def get_lookup(self):\n",
        "  return self._lookup\n",
        "\n",
        "def add_stat_lookup(self, key, value):\n",
        "  self._lookup[key] = value\n",
        "\n",
        "def add_log(self, log):\n",
        "  (self._history).append(log.copy())\n"
      ],
      "execution_count": 14,
      "outputs": []
    },
    {
      "cell_type": "markdown",
      "metadata": {
        "id": "HEFlHyn6UoPU",
        "colab_type": "text"
      },
      "source": [
        "### Functionality methods"
      ]
    },
    {
      "cell_type": "markdown",
      "metadata": {
        "id": "cz4Cis4ze7j6",
        "colab_type": "text"
      },
      "source": [
        "#### Top level functionality"
      ]
    },
    {
      "cell_type": "code",
      "metadata": {
        "id": "UZMHOVm_fDL0",
        "colab_type": "code",
        "colab": {}
      },
      "source": [
        "%%add_to Reactables\n",
        "\n",
        "def refill(self, pool_size):\n",
        "  #Do we have less than the required number of things in the pool?\n",
        "  dearth = pool_size - self.get_count()\n",
        "  #If so,\n",
        "  if dearth > 0:\n",
        "    new = []\n",
        "    #Make as many monomers as we need to get back up to the riquired amount\n",
        "    for n in range(dearth):\n",
        "      new.append(Monomer())\n",
        "    #And add them to the reactables bag\n",
        "    self.add(new)\n",
        "\n",
        "def randomize_reactables(self):\n",
        "  \"\"\"\n",
        "  Randomizes the order of the reactables list\n",
        "  \"\"\"\n",
        "  #Get the current reactables\n",
        "  reactables = self.get_reactables()\n",
        "  #Shuffle them\n",
        "  random.shuffle(reactables)\n",
        "  #And reset the reactables list to the new sorted list\n",
        "  self.set_reactables(reactables)\n",
        "\n",
        "def do_the_thing(self, method):\n",
        "  \"\"\"\n",
        "  Handle a single iteration of the reactables.\n",
        "\n",
        "  \"\"\"\n",
        "  #We keep track of bonding by storing the most recent reactable to choose to bond as the 'bachelor.'\n",
        "  bachelor = None\n",
        "  #We need a copy of the reactables because indices will change as soon as we start doing stuff\n",
        "  reactables = copy.copy(self.get_reactables())\n",
        "  #Iterate through each reactable\n",
        "  for item in reactables:\n",
        "    #Roll a random number in (0,1) to compare against our probabilities\n",
        "    roll = get_rand()\n",
        "    #If our reactable is a monomer...\n",
        "    if isinstance(item, Monomer):\n",
        "      #We get our breaking and bonding chances (parameters now, may become functions later?)\n",
        "      brk = POOF_CHANCE\n",
        "      bond = BOND_PROB\n",
        "      #If we roll to break the monomer\n",
        "      if 0 < roll <= brk:\n",
        "        #Just delete it\n",
        "        del item\n",
        "      #If we roll to bond the monomer\n",
        "      elif brk < roll <= brk+bond:\n",
        "        #Check if there's a reactable waiting to bond\n",
        "        if bachelor == None:\n",
        "          #If not, make this monomer the bachelor. Someone will come along to bond later.\n",
        "          bachelor = item\n",
        "        else:\n",
        "          #If there is someone waiting, bond them together and reset the bachelor chair to empty.\n",
        "          self.bond_pair(bachelor, item, method)\n",
        "          bachelor= None\n",
        "      else:\n",
        "        continue\n",
        "    #If the reactable is a polymer instead...\n",
        "    elif isinstance(item, Polymer):\n",
        "      #Choose whether the polymer will break or bond. It's 50-50 right now.\n",
        "      if roll >= 0.33:\n",
        "        #This is the same bonding logic as for the monomer. It's not in a helper function because it needs to be able to access bachelor.\n",
        "        if bachelor == None:\n",
        "          bachelor = item\n",
        "        else:\n",
        "          self.bond_pair(bachelor, item, method)\n",
        "          bachelor = None\n",
        "      #Here's what happens if the polymer is chosen to check breaking\n",
        "      else:\n",
        "        #It finds its break location\n",
        "        break_spot = item.brkloc()\n",
        "        #Which might turn out to be nowhere.\n",
        "        if break_spot != None:\n",
        "          #If somewhere does break, call break_polymer to handle the breaking\n",
        "          self.break_polymer(item,break_spot,method)\n",
        "    else:\n",
        "      #You never know what might end up in your reactables bag\n",
        "      raise ValueError(\"This thing is neither a monomer or a polymer. What?!\")\n",
        "\n",
        "def iterate(self,size,iteration_number,method):\n",
        "  \"\"\"\n",
        "  Handles full sequence of iteration\n",
        "  \"\"\"\n",
        "  self.randomize_reactables()\n",
        "  self.do_the_thing(method)\n",
        "  self.log(iteration_number)\n",
        "  self.ageup()\n",
        "  #self.record_leftrighthomochiral()\n",
        "  self.refill(size)\n",
        "\n",
        "def simulate(self, poolsize, iterations, method=\"standard\"):\n",
        "  for n in range(iterations):\n",
        "    self.iterate(poolsize, n, method)\n",
        "  self.parse_history()\n"
      ],
      "execution_count": 15,
      "outputs": []
    },
    {
      "cell_type": "markdown",
      "metadata": {
        "id": "ALnPeaUCfhL4",
        "colab_type": "text"
      },
      "source": [
        "#### Functionality helpers"
      ]
    },
    {
      "cell_type": "code",
      "metadata": {
        "id": "hpqCXL48VGTB",
        "colab_type": "code",
        "colab": {}
      },
      "source": [
        "%%add_to Reactables\n",
        "\n",
        "\n",
        "def add(self, new_reactables):\n",
        "  \"\"\"\n",
        "  Adds a list of reactables to the reactables bag\n",
        "  Built on extend(); argument must be iterable\n",
        "  \"\"\"\n",
        "  #print(\"list of new Reactbles\", new_reactables)\n",
        "  #print(\"list of get Reactables:\",self.get_reactables())\n",
        "  self.get_reactables().extend(new_reactables)\n",
        "  #print(\"reactables list is now\",self.get_reactables())\n",
        "\n",
        "\n",
        "def subtract(self, removables):\n",
        "  \"\"\"\n",
        "  Removes a list of reactables from the reactables bag\n",
        "  Built on list comprehension; argument must be iterable\n",
        "  \"\"\"\n",
        "  self.set_reactables([reactable for reactable in self.get_reactables() if not (reactable in removables)])\n",
        "\n",
        "\n",
        "def bond_pair(self, west, east, method):\n",
        "  \"\"\"\n",
        "  Accepts two reactables from the bag\n",
        "  Bonds them together, handling deletion of any emptied polymer\n",
        "  \"\"\"\n",
        "\n",
        "  #this is my attempt to get the ages working properly the idea is:\n",
        "\n",
        "  #if both are polymers or both are monomers:\n",
        "  if (type(west) == type(east) and type(west) == Polymer):\n",
        "    #set the new age to the maximum age of the polymers\n",
        "    age = max(west.get_age(), east.get_age())\n",
        "  \n",
        "  if (type(west) == type(east) and type(west) == Monomer):\n",
        "    #set age to 0 it is a brand new polymer\n",
        "    age = 0\n",
        "\n",
        "  #if only one is a polymer:\n",
        "  elif isinstance(west, Polymer) and isinstance(east, Monomer):\n",
        "    #set the age to the age of the polymer\n",
        "    age = west.get_age()\n",
        "  elif isinstance(west, Monomer) and isinstance(east, Polymer):\n",
        "    # set the age to the age of the polymer\n",
        "    age = east.get_age()\n",
        "\n",
        "  #Take your two reactables and check if the west one is a monomer or a polymer \n",
        "  if isinstance(west, Polymer):\n",
        "    #If it's a polymer, all you've got to do is append the east item and then take it out of the bag\n",
        "    west.append(east)\n",
        "    self.subtract([east])\n",
        "    #recalculate the breakprobabilities of the bonds in polymer\n",
        "    west.reset_break_probability(method)\n",
        "    #set new polymer to age that was calculated before\n",
        "    west.set_age(age)\n",
        "\n",
        "  if isinstance(west, Monomer):\n",
        "    #If west friend is a Monomer, then make a new polymer containing west\n",
        "    newpoly = Polymer([west])\n",
        "    #Add the east things to it\n",
        "    newpoly.append(east)\n",
        "    #Remove both the west monomer and the east thing\n",
        "    self.subtract([east])\n",
        "    self.subtract([west])\n",
        "    #And put the new polymer into the reactables bag\n",
        "    self.add([newpoly])\n",
        "    #recalculates break probability\n",
        "    newpoly.reset_break_probability(method)\n",
        "    #set new polymer to age that was calculated before\n",
        "    newpoly.set_age(age)\n",
        "\n",
        "\n",
        "\n",
        "def break_polymer(self, polymer, brk_location, method):\n",
        "  #breaks polymer at given location and creates a new polymer of the \n",
        "  #monomers removed\n",
        "  age = polymer.get_age()\n",
        "  #when polymer is made-breakprobabilities are calculated\n",
        "  newPolymer = Polymer(polymer.removeright(brk_location))\n",
        "  #if(newPolymer._monomers[0].get_handedness() and polymer._monomers[-1].get_handedness()):\n",
        "    #print (\"left breaking when literally impossible????\")\n",
        "  #if(not newPolymer._monomers[0].get_handedness() and not polymer._monomers[-1].get_handedness()):\n",
        "   # print(\"right breaking\")\n",
        "  polys = [newPolymer, polymer]\n",
        "  #resets break probabilities in polymers\n",
        "  #goes throught the two new polymers\n",
        "  for poly in polys:\n",
        "    #resets break probabilities in polymers\n",
        "    poly.reset_break_probability(method)\n",
        "    poly.set_age(age)\n",
        "    if poly.get_length()==0:\n",
        "      print(\"whyyyyyyyyyyy is this happening????\")\n",
        "    #checks if they are of length 1\n",
        "    if poly.get_length() <= 1:\n",
        "      #adds them to reactable as a single monomer\n",
        "      self.add(poly.get_monomers())\n",
        "      #subtracts polymer from reactable list\n",
        "      self.subtract([poly])\n",
        "      del poly\n",
        "    #checks if the polymer is not in the reactables list\n",
        "    elif (poly not in self.get_reactables()):\n",
        "      #add polymer to reactable list\n",
        "      self.add([poly])\n",
        "\n",
        "    \n",
        "\n"
      ],
      "execution_count": 16,
      "outputs": []
    },
    {
      "cell_type": "markdown",
      "metadata": {
        "id": "CmKsCAazVPy_",
        "colab_type": "text"
      },
      "source": [
        "### Current state data methods"
      ]
    },
    {
      "cell_type": "code",
      "metadata": {
        "id": "4FVYtSkYVZ7n",
        "colab_type": "code",
        "colab": {}
      },
      "source": [
        "%%add_to Reactables\n",
        "\n",
        "# def get_overall_chirality(self):\n",
        "#   \"\"\" Return the total quantity of left- and right-handed monomers in the reactable\n",
        "#     pool, including monomers within polymers.\n",
        "\n",
        "#   RETURN tuple\n",
        "#   (Left-handed_quantity, Right-handed_quantity)\n",
        "#   \"\"\"\n",
        "#   left_count = 0\n",
        "#   right_count = 0\n",
        "#   for reactable in self.get_reactables():\n",
        "#     if isinstance(reactable, Monomer):\n",
        "#       if reactable.get_handedness():\n",
        "#         left_count += 1\n",
        "#       else:\n",
        "#         right_count += 1\n",
        "#     elif isinstance(reactable, Polymer):\n",
        "#       l, r = reactable.get_chirality()\n",
        "#       left_count += l\n",
        "#       right_count += r\n",
        "#     else:\n",
        "#       print(f\"{reactable}, which is a {type(reactable)}\")\n",
        "#       raise ValueError\n",
        "#   return (left_count, right_count)\n",
        "\n",
        "# def get_polymer_chirality(self):\n",
        "#   \"\"\" Return the total quantity of left- and right-handed monomers in the polymers\n",
        "#   within the reactable pool.\n",
        "\n",
        "#   RETURN tuple\n",
        "#   (Left-handed_quantity, Right-handed_quantity)\n",
        "#   \"\"\"\n",
        "#   left_count = 0\n",
        "#   right_count = 0\n",
        "#   for reactable in self.get_reactables():\n",
        "#     if isinstance(reactable, Polymer):\n",
        "#       l, r = reactable.get_chirality()\n",
        "#       left_count += l\n",
        "#       right_count += r\n",
        "#   return (left_count, right_count)\n",
        "\n",
        "# def get_free_proportion(self):\n",
        "#   \"\"\"Return the proportion of free monomers to total population\"\"\"\n",
        "#   return len(self.get_free_monomers())/self.unit_count()\n",
        "\n",
        "# def unit_count(self):\n",
        "#   \"\"\"return the total number of monomers in the bag, both free and bound\"\"\"\n",
        "#   bound = 0\n",
        "#   for p in self.get_polymers():\n",
        "#     bound += p.get_length()\n",
        "#   return len(self.get_free_monomers()) + bound\n",
        "\n",
        "# def get_polymer_ee(self):\n",
        "#   ee = []\n",
        "#   for polymer in self.get_polymers():\n",
        "#     ee.append(polymer.get_signed_ee())\n",
        "#   return ee\n",
        "\n",
        "# def avg_ee_by_length(self):\n",
        "#   \"\"\" Return a list containing the enantiomeric excess of all reactables sorted by size.\n",
        "#   That is:\n",
        "#   [(ee of monomers),(ee of 2-mers),(ee of 3-mers) etc]\n",
        "#   \"\"\"\n",
        "#   output = []\n",
        "#   for n in range(1,self.max_length()+1):\n",
        "#     group = self.get_reactables_by_length(n)\n",
        "#     ees = []\n",
        "#     # print(f\"For length {n} I got {len(group)} reactables.\")\n",
        "#     if len(group) > 0:\n",
        "#       # eestr = \"\"\n",
        "#       for r in group:\n",
        "#         ees.append(r.get_ee())\n",
        "#         # eestr += f\", {r.get_ee()}\"\n",
        "#       output.append(np.mean(ees))\n",
        "#       # print(f\"The ee's of this length were {eestr}.\\nThe average ee was {np.mean(ees)}.\")\n",
        "#     else:\n",
        "#       output.append(0)\n",
        "#   return output\n",
        "\n",
        "# def get_reactables_by_length(self,length):\n",
        "#   if length <= 1:\n",
        "#     #return the monomers\n",
        "#     return self.get_free_monomers()\n",
        "#   else:\n",
        "#     return [p for p in self.get_polymers() if p.get_length() == length]\n",
        "\n",
        "# def max_length(self):\n",
        "#   \"\"\" Return the length of the longest polymer in the reactables bag.\n",
        "#   \"\"\"\n",
        "#   length = 0\n",
        "#   for p in self.get_polymers():\n",
        "#     if p.get_length() > length:\n",
        "#       length = p.get_length()\n",
        "#   return length\n",
        "\n",
        "def ageup(self):\n",
        "  \"\"\"\n",
        "  Method that ages up every reactable in the reactables bag\n",
        "  \"\"\"\n",
        "  for reactable in self.get_reactables():\n",
        "    reactable.birthday()\n",
        "    \n",
        "\n",
        "# def logagehistory (self):\n",
        "#   \"\"\"\n",
        "#   Method that logs the age of the molecules in the current iteration. Only logs the polymers ages.\n",
        "#   \"\"\"\n",
        "#   log = []\n",
        "#   #gets all the polymers in an iteration\n",
        "#   polymers = self.get_polymers()\n",
        "#   #Goes through polymers\n",
        "#   for molecule in polymers:\n",
        "#     #appends age to log\n",
        "#     log.append(molecule.get_age())\n",
        "#     #returns log of a list of ages of the polymers of current iteration\n",
        "#   return log\n",
        "  \n",
        "\n"
      ],
      "execution_count": 17,
      "outputs": []
    },
    {
      "cell_type": "markdown",
      "metadata": {
        "id": "FVHgjYMhkuri",
        "colab_type": "text"
      },
      "source": [
        "### History handling methods"
      ]
    },
    {
      "cell_type": "code",
      "metadata": {
        "id": "tps6afh4kzUe",
        "colab_type": "code",
        "colab": {}
      },
      "source": [
        "%%add_to Reactables\n",
        "\n",
        "def log(self, iteration):\n",
        "  \"\"\" Translate current reactables into a loggable list of tuples.\n",
        "  This log keeps the full sequences of the polymers without digesting the data, \n",
        "  so it should be more flexible as we more forward with pulling new information\n",
        "  out of this simulation. \n",
        "  There is one major piece of information lost, however, which is the identities\n",
        "  of the individual polymers and monomers. \"\"\"\n",
        "\n",
        "  # Column labels for History Handling #\n",
        "  Type = \"Type\"                   # Monomer or polymer\n",
        "  Length = \"Length\"               # How many monomers in the thing\n",
        "  nLefts = \"#Lefts\"               # How many left monomers in the thing\n",
        "  nRights = \"#Rights\"             # How many right monomers in the thing\n",
        "  Sequence = \"Sequence\"           # The string sequence of the thing\n",
        "  nLhomo = \"#LeftHomochiral\"      # The number of left homochiral bonds in the polymer\n",
        "  nRhomo = \"#RightHomochiral\"     # The number of right homochiral bonds in the polymer\n",
        "  nHomo = \"#Homochiral\"           # The overall number of homochiral bonds in the polymer\n",
        "  sEE = \"Signed ee\"               # The signed enantiomeric excess of the polymer (+ if more True)\n",
        "  pcHomo = \"%Homochirality\"       # The proportion of bonds in the polymer that are homochiral\n",
        "  pcLhomo = \"%LeftHomochirality\"  # The proportion of bonds in the polymer that are left homochiral\n",
        "  pcRhomo = \"%RightHomochirality\" # The proportion of bonds in the polymer that are right homochiral\n",
        "  Iter = \"Iteration\"              # The iteration number at which the item is found\n",
        "  Age = \"Age\"                     # The age of the item\n",
        "\n",
        "\n",
        "  for r in self.get_reactables():\n",
        "    item = r.get_sequence()\n",
        "    age = r.get_age()\n",
        "    # Translate\n",
        "    sequence = self.standard_form(item)\n",
        "\n",
        "    #Is it in the lookup table?\n",
        "    if sequence not in self.get_lookup():\n",
        "\n",
        "      # If not, check what kind of data to gether\n",
        "      if len(item) == 1: # It's a monomer\n",
        "        # Get the info\n",
        "        lr = self.count_LR(item)\n",
        "        # And put it in the lookup table\n",
        "        self.add_stat_lookup(sequence, {Type: 'Monomer', \n",
        "                                        Length:1, \n",
        "                                        nLefts:lr[0], \n",
        "                                        nRights:lr[1],\n",
        "                                        Sequence:sequence})\n",
        "      elif len(item) > 1: # It's a polymer\n",
        "        # Get basic info\n",
        "        length = len(item)\n",
        "        lr = self.count_LR(item)\n",
        "        bonds = self.homochiral_bond_counts(item)\n",
        "        total_homos = bonds[0]+bonds[1]\n",
        "        signed_ee = (lr[0]-lr[1])/(lr[0]+lr[1])\n",
        "        homochirality = total_homos/(length-1)\n",
        "        lhomochirality = bonds[0]/(length-1)\n",
        "        rhomochirality = bonds[1]/(length-1)\n",
        "        # And put it in the lookup table\n",
        "        self.add_stat_lookup(sequence, {Type: 'Polymer', \n",
        "                                        Length: length, \n",
        "                                        nLefts:lr[0], \n",
        "                                        nRights:lr[1],\n",
        "                                        nLhomo:bonds[0],\n",
        "                                        nRhomo:bonds[1],\n",
        "                                        nHomo:total_homos,\n",
        "                                        sEE:signed_ee,\n",
        "                                        pcHomo:homochirality,\n",
        "                                        pcLhomo:lhomochirality,\n",
        "                                        pcRhomo:rhomochirality,\n",
        "                                        Sequence:sequence})\n",
        "      else:\n",
        "        raise ValueError(\"There's something with length 0 in your history.\")\n",
        "\n",
        "    # Now that the data is searchable...\n",
        "    # Log it\n",
        "    new_log = self.get_lookup().get(sequence)\n",
        "    new_log[Iter] = iteration\n",
        "    new_log[Age] = age\n",
        "    self.add_log(new_log)\n",
        "\n",
        "\n",
        "def parse_history(self):\n",
        "  \"\"\" Create an array of plottable information from the history log. \"\"\"\n",
        "  parsed_hist = pd.DataFrame(self.get_history())\n",
        "  self.set_hist_stats(parsed_hist)\n"
      ],
      "execution_count": 18,
      "outputs": []
    },
    {
      "cell_type": "markdown",
      "metadata": {
        "id": "UkZ1_7xIy0Yd",
        "colab_type": "text"
      },
      "source": [
        "#### Low level info functions"
      ]
    },
    {
      "cell_type": "code",
      "metadata": {
        "id": "qJQfgfeSy5Me",
        "colab_type": "code",
        "colab": {}
      },
      "source": [
        "%%add_to Reactables\n",
        "\n",
        "## New ones ##\n",
        "\n",
        "  \n",
        "# Functions for getting the info we want to log\n",
        "    \n",
        "# Number of right and left monomers in a polymer (works on monomers too)\n",
        "\n",
        "\n",
        "def count_LR(self, log):\n",
        "    \"\"\" Return (n_Lefts, n_Rights) \"\"\"\n",
        "    if L and not R:\n",
        "        return (sum(log), len(log)-sum(log))\n",
        "    elif R and not L:\n",
        "        return (len(log)-sum(log), sum(log))\n",
        "    else:\n",
        "        raise ValueError(\"Your L's and R's are screwed up somehow.\")\n",
        "    \n",
        "\n",
        "\n",
        "# HOMOCHIRALITY SEQUENCES #\n",
        "\n",
        "def homochirality_sequence(self, log):\n",
        "  \"\"\" Return a boolean list of bonds within a given logged polymer, True if the bond is\n",
        "      homochiral. \"\"\"\n",
        "  return [i[0]==i[1] for i in list(more_itertools.pairwise(log))]\n",
        "\n",
        "# def _is_L_True(self, log):\n",
        "#     return log[:-1]\n",
        "\n",
        "\n",
        "# def T_homochirality_sequence(self,h_seq,L_seq):\n",
        "#     \"\"\" Return a boolean list of bonds within a polymer, true if the bond is \n",
        "#     a homochiral bond between two True monomers. Parameters are the outputs of \n",
        "#     homochirality_sequence() and _is_L_True(). \"\"\"\n",
        "#     return eAnd(h_seq,L_seq)\n",
        "\n",
        "# HOMOCHIRAL BOND COUNTS #\n",
        "    \n",
        "\n",
        "def homochiral_bond_counts(self,log):\n",
        "    \"\"\" Return (number of left homochiral bonds, number of right homochiral bonds) \"\"\"\n",
        "    homo = self.homochirality_sequence(log)\n",
        "    west_true = log[:-1]\n",
        "    true_homochiral = eAnd(homo,west_true)\n",
        "    west_false = [not m for m in west_true]\n",
        "    false_homochiral = eAnd(homo,west_false)\n",
        "    if L and not R:\n",
        "        return (sum(true_homochiral), sum(false_homochiral))\n",
        "    elif R and not L: \n",
        "        return (sum(false_homochiral), sum(true_homochiral))\n",
        "    else:\n",
        "        raise ValueError(\"Your L's and R's are screwed up somehow.\")\n",
        "\n",
        "\n",
        "def get_polymer_chain_lengths(self,polylog):\n",
        "  \"\"\" Return the lengths of the homochiral chains in a given polymer log. \"\"\"\n",
        "  count = 1\n",
        "  lengths = [] \n",
        "  for n in range(1,len(polylog)):\n",
        "    if polylog[n] == polylog[n-1]:\n",
        "      count += 1\n",
        "    else:\n",
        "      lengths.append(count)\n",
        "      count = 1\n",
        "  lengths.append(count)\n",
        "  return lengths\n",
        "    \n",
        "\n",
        "def standard_form(self,poly):\n",
        "  if len(poly) == 0:\n",
        "    return ''\n",
        "  return ''.join(['L' if m else 'R' for m in poly])\n",
        "    \n",
        "\n",
        "\n",
        "\n",
        "## Old ones ##\n",
        "\n",
        "# def hist_get_polymer_homochirality_of_bonds(self,polylog):\n",
        "#   \"\"\" Return a boolean list of bonds within a given logged polymer, True if the bond is\n",
        "#       homochiral. \"\"\"\n",
        "#   return [i[0]==i[1] for i in list(more_itertools.pairwise(polylog))]\n",
        "\n",
        "# def hist_get_polymer_ee(self,polylog):\n",
        "#   \"\"\" Return the (signed) enantiomeric excess of a logged polymer. \"\"\"\n",
        "#   length = len(polylog)\n",
        "#   n_True = sum(polylog)\n",
        "#   n_False = length - n_True\n",
        "#   return (n_True - n_False) / length\n",
        "\n",
        "# def hist_get_polymers(self,iteration):\n",
        "#   \"\"\" Return a list of the polymer logs in an iteration. This is just the iteration\n",
        "#   but without the monomers. \"\"\"\n",
        "#   return [r for r in iteration if len(r) > 1]\n",
        "\n",
        "# def hist_count_longest_homochiral_chain(self,polylog):\n",
        "#   \"\"\" Return the length of the longest homochiral chain given the log of a polymer. \"\"\"\n",
        "#   previous = None\n",
        "#   count = 1\n",
        "#   longest = 1\n",
        "#   for monomer in polylog:\n",
        "#     if monomer == previous:\n",
        "#       count += 1\n",
        "#     else:\n",
        "#       longest = max(count, longest)\n",
        "#       count = 1\n",
        "#     previous = monomer\n",
        "#   longest = max(count, longest)\n",
        "#   return longest\n",
        "\n",
        "# def hist_get_polymer_chain_lengths(self,polylog):\n",
        "#   \"\"\" Return the lengths of the homochiral chains in a given polymer log. \"\"\"\n",
        "#   count = 1\n",
        "#   lengths = [] \n",
        "#   for n in range(1,len(polylog)):\n",
        "#     if polylog[n] == polylog[n-1]:\n",
        "#       count += 1\n",
        "#     else:\n",
        "#       lengths.append(count)\n",
        "#       count = 1\n",
        "#   lengths.append(count)\n",
        "#   return lengths\n",
        "\n",
        "# def hist_get_iteration_chain_lengths(self,iteration):\n",
        "#   \"\"\" Return the lengths of all the homochiral chains in polymers in a given iteration. \"\"\"\n",
        "#   polymers = self.hist_get_polymers(iteration)\n",
        "#   chain_lengths = []\n",
        "#   for polymer in polymers:\n",
        "#     chain_lengths.extend(self.hist_get_polymer_chain_lengths(polymer))\n",
        "#   return chain_lengths\n",
        "\n",
        "# # Other new ones #\n",
        "\n",
        "# def hist_get_leftright_homochiral_count_iteration(self,iteration):\n",
        "#   \"\"\"\n",
        "#   returns a tuple (l,r)of the total number of left homochiral bonds and right homochiral bonds in an iteration \n",
        "#   \"\"\"\n",
        "#   #initilize l to keep track of the number of homochiral bonds\n",
        "#   l=0\n",
        "#   #initilize r to keep track of the number of homochiral bonds\n",
        "#   r=0\n",
        "\n",
        "#   #run through reactables in the iteration\n",
        "#   for reactable in iteration:\n",
        "#      #add the left homochiral bond count in each reactable\n",
        "#      l += self.hist_get_leftright_homochiral_count_polymer(reactable)[0]\n",
        "#      #add the right homochiral bond count in each reactable\n",
        "#      r += self.hist_get_leftright_homochiral_count_polymer(reactable)[1]\n",
        "\n",
        "#   #place l and r in a tuple\n",
        "#   leftrightcount=(l,r)\n",
        "\n",
        "#   #return the tuple\n",
        "#   return leftrightcount\n",
        "\n",
        "# def hist_get_leftright_homochiral_count_polymer(self,polymer):\n",
        "#   \"\"\"\n",
        "#   returns a tuple (l,r)of the total number of left homochiral bonds and right homochiral bonds in an polymer \n",
        "#   \"\"\"\n",
        "\n",
        "#   #initialize l to keep track of the number of left homochiral bonds\n",
        "#   l=0\n",
        "#   #initialize r to keep trac of the number of right homochiral bonds\n",
        "#   r=0\n",
        "\n",
        "#   #go through the monomers in the polymer\n",
        "#   for monomer in range(len(polymer)-1):\n",
        "\n",
        "#       #check if they are homochiral\n",
        "#         if (polymer[monomer]== polymer[monomer+1]):\n",
        "#           #if so check if they are homochiral left\n",
        "#           if (polymer[monomer]):\n",
        "#             #if so add one to l\n",
        "#             l += 1\n",
        "#           #otherwise check if they are homochiral right\n",
        "#           elif (not polymer[monomer]):\n",
        "#             #if so add one to r\n",
        "#             r += 1\n",
        "#   #place l and r in a tuple\n",
        "#   leftrightcount= (l,r)\n",
        "#   #return the tuple\n",
        "#   return leftrightcount\n",
        "\n",
        "# def hist_get_bond_status(self,polylog):\n",
        "#   \"\"\" Iterate through the monomers in polylog ONCE to get number of left homochiral\n",
        "#   and right homochiral bonds, as well as chain lengths if at all possible. \"\"\"\n",
        "#   for m in polylog:\n",
        "#     pass\n"
      ],
      "execution_count": 19,
      "outputs": []
    },
    {
      "cell_type": "markdown",
      "metadata": {
        "id": "WdlB4JOXUq9i",
        "colab_type": "text"
      },
      "source": [
        "### Plotting methods"
      ]
    },
    {
      "cell_type": "code",
      "metadata": {
        "id": "czdjDAVBPpQI",
        "colab_type": "code",
        "colab": {}
      },
      "source": [
        "%%add_to Reactables\n",
        "\n",
        "# def visualize_parameters(self,stamp=\"\"):\n",
        "#   fig,ax = plt.subplots()\n",
        "\n",
        "#   parameters = ['POOF_CHANCE','BOND_PROB','BASE_BOND_BREAK_PROBABILITY',\n",
        "#                 'HOMOCHIRAL_BREAK_FACTOR','HOMOCHIRAL_NEIGHBOR_IMPROV_FACTOR',\n",
        "#                 'LENGTH_FACTOR','HOMOCHIRAL_BREAK_FACTOR_LEFT',\n",
        "#                 'HOMOCHIRAL_BREAK_FACTOR_RIGHT',\n",
        "#                 'HOMOCHIRAL_NEIGHBOR_IMPROV_FACTOR_LEFT',\n",
        "#                 'HOMOCHIRAL_NEIGHBOR_IMPROV_FACTOR_RIGHT']\n",
        "#   values = [POOF_CHANCE,BOND_PROB,BASE_BOND_BREAK_PROBABILITY,\n",
        "#             HOMOCHIRAL_BREAK_FACTOR,HOMOCHIRAL_NEIGHBOR_IMPROV_FACTOR,\n",
        "#             LENGTH_FACTOR,HOMOCHIRAL_BREAK_FACTOR_LEFT,\n",
        "#             HOMOCHIRAL_BREAK_FACTOR_RIGHT,\n",
        "#             HOMOCHIRAL_NEIGHBOR_IMPROV_FACTOR_LEFT,\n",
        "#             HOMOCHIRAL_NEIGHBOR_IMPROV_FACTOR_RIGHT]\n",
        "\n",
        "#   ypos = np.arange(len(parameters))\n",
        "\n",
        "#   ax.barh(ypos, values, align='center')\n",
        "#   ax.set_yticks(ypos)\n",
        "#   ax.set_yticklabels(parameters)\n",
        "#   ax.invert_yaxis()  # labels read top-to-bottom\n",
        "#   ax.set_xlabel('Value')\n",
        "#   ax.set_title(f\"{stamp}Parameter values\")\n",
        "\n",
        "\n",
        "\n",
        "# def plot_signed_ee_spread(self,cmap='bone',stamp=\"\"):\n",
        "#   #First make the polymerspread thingy\n",
        "#   poly_ee_hist = []\n",
        "#   for iteration in self.get_history():\n",
        "#     polys = [log for log in iteration if not isinstance(log,bool)]\n",
        "#     polydata = [log for log in polys if len(log) > 1] # All the polymers (not monomers) in the iteration\n",
        "#     poly_ees = [self.hist_get_polymer_ee(poly) for poly in polydata] # the EE of each polymer in the iteration\n",
        "#     poly_ee_hist.append(poly_ees) # Put the EE list in our plottable structure\n",
        "#   #Now we can make the plot\n",
        "#   fig,ax = plt.subplots()\n",
        "#   ys = []\n",
        "#   xs = []\n",
        "#   for n in range(len(poly_ee_hist)):\n",
        "#     y = poly_ee_hist[n]\n",
        "#     x = [n] * len(y)\n",
        "#     ys.extend(y)\n",
        "#     xs.extend(x)\n",
        "#   ax.hexbin(xs,ys,cmap=cmap)\n",
        "#   ax.set_title(f\"{stamp}polymer spread\")\n",
        "#   ax.set_xlabel(\"iteraions\")\n",
        "#   ax.set_ylabel(\"ee\")\n",
        "\n",
        "# def plot_ee_heatmap(self,cmap='bone',stamp=\"\"):\n",
        "#   #Need to figure out how to get ees_by_length from history\n",
        "#   ees_by_length = []\n",
        "#   for iteration in self.get_history():\n",
        "#     ee_data = []\n",
        "#     #get the polymers\n",
        "#     polys = [log for log in iteration if not isinstance(log,bool)]\n",
        "#     #get the length of the longest polymer\n",
        "#     lengths = [len(log) for log in polys]\n",
        "#     try:\n",
        "#       biggest = max(lengths)\n",
        "#     except:\n",
        "#       biggest = 0\n",
        "#     for n in range(1,biggest+1):\n",
        "#       ees = [abs(self.hist_get_polymer_ee(log)) for log in polys if len(log) == n]\n",
        "#       if len(ees) > 0:\n",
        "#         ee_data.append(np.mean(ees))\n",
        "#       else:\n",
        "#         ee_data.append(0)\n",
        "#     ees_by_length.append(ee_data)\n",
        "#   #Need to make a new ee array with rectangular dimensions\n",
        "#   ee = numpy_fillna(ees_by_length)\n",
        "#   fig,ax = plt.subplots(dpi=150)\n",
        "#   im = ax.imshow(ee,cmap=cmap)\n",
        "#   ax.set_title(f\"{stamp}ee of polymers by length through iterations\")\n",
        "#   ax.set_xlabel(\"polymer lengths\")\n",
        "#   ax.set_ylabel(\"iterations\")\n",
        "#   fig.tight_layout()\n",
        "#   plt.show()\n",
        "\n",
        "# def plot_leftrighthomochirality(self):\n",
        "#   \"\"\"\n",
        "#   Plot the percent of bonds that are left homochiral and right homochiral in each iteration\n",
        "#   \"\"\"\n",
        "#  #make list to hold the number of left bonds\n",
        "#   L=[]\n",
        "#  #make list to hold the number of right bonds\n",
        "#   R=[]\n",
        "#  #make list to hold the number of iteration\n",
        "#   x=[]\n",
        "#  #integer to keep track of iterations\n",
        "#   i=1\n",
        "\n",
        "#  #work through history of reactables bag\n",
        "#   for iteration in self.get_history():\n",
        "\n",
        "#     #get the left right homochiral count in the iteration(returned as a tuple)\n",
        "#     leftrightcount=self.hist_get_leftright_homochiral_count_iteration(iteration)\n",
        "\n",
        "#     #initiate bonds as 0 to keep track of total number of bonds in the iteration\n",
        "#     bonds = 0\n",
        "\n",
        "#     #work through the polymers in iteration\n",
        "#     for polymer in self.hist_get_polymers(iteration):\n",
        "#       #add all the bonds in the a polymer to the total number of bonds\n",
        "#       bonds += len(polymer)- 1\n",
        "\n",
        "#     #to avoid a divide by zero error\n",
        "#     if bonds == 0:\n",
        "#       #just append 0 to L and R\n",
        "#       L.append(0)\n",
        "#       R.append(0)\n",
        "#     else: # append percent left homochiral bonds and percent which are right homochiral bonds\n",
        "#       L.append(leftrightcount[0]/bonds)\n",
        "#       R.append(leftrightcount[1]/bonds)\n",
        "#     #append the iteration to x\n",
        "#     x.append(i)\n",
        "#     #increment the iteration tracker\n",
        "#     i+=1\n",
        "  \n",
        "#   #Plot the data\n",
        "#   plt.figure() \n",
        "#   plt.plot(x,L,label=\"left homochiral\")\n",
        "#   plt.plot(x,R,label=\"right homochiral\")\n",
        "#   plt.ylabel(\"percentage of total bonds in the pool\")\n",
        "#   plt.xlabel(\"Iterations\")\n",
        "#   plt.title(\"Peercent of bonds in an iteration that are left or right homochiral \")\n",
        "#   plt.legend()\n",
        "#   plt.show()\n",
        "\n",
        "# def plot_homochiral_chain_lengths(self):\n",
        "#   \"\"\" Plot a chart of the mean length of homochiral chains present at each iteration.\n",
        "#   The plot generated will attempt to summarize the mean lengths of homochiral\n",
        "#   chains within polymers across iterations. It will also attempt to visualize the \n",
        "#   varience with continuous lines plotting the standard deviation around that mean.\n",
        "  \n",
        "#   The x axis of the resulting plot is iterations, and the y axis is length of \n",
        "#   the homochiral chains. Both of these are discrete categories, but the plot will\n",
        "#   treat iterations as continuous to improve readability for large n.\n",
        "#   \"\"\"\n",
        "#   # Get the history and read it \n",
        "#   history = self.get_history()\n",
        "#   means = []\n",
        "#   stdevs= []\n",
        "#   maxes = []\n",
        "#   for iteration in history:\n",
        "#     # Get the chain lengths in that iteration\n",
        "#     iter_data = self.hist_get_iteration_chain_lengths(iteration)\n",
        "#     if iter_data == []:\n",
        "#       means.append(0)\n",
        "#       stdevs.append(0)\n",
        "#       maxes.append(0)\n",
        "#       print(\"this happened in this iteration???whyyyyyyyyyyyyy\")\n",
        "#       print (iteration)\n",
        "#       print (iter_data)\n",
        "#     else:\n",
        "#       means.append(np.mean(iter_data))\n",
        "#       stdevs.append(np.std(iter_data))\n",
        "#       maxes.append(max(iter_data))\n",
        "#   # Plot those data\n",
        "#   fig,ax = plt.subplots()\n",
        "#   ax.fill_between(np.arange(0,len(means)), [m + s for m, s in zip(means, stdevs)],[m - s for m, s in zip(means, stdevs)], alpha=0.2, label = \"Means +- one standard deviation\")\n",
        "#   ax.plot(means, 'k-', label = \"Mean homochiral chain length\")\n",
        "#   ax.plot(maxes, 'b.', label = \"Max homochiral chain length\")\n",
        "#   ax.set_xlabel(\"Iteration\")\n",
        "#   ax.set_ylabel(\"Homochiral chain length\")\n",
        "#   ax.legend()\n",
        "\n",
        "# def plot_homochirality_vs_length(self):\n",
        "#   \"\"\" Take all the polymers that ever existed in history and plot them on a\n",
        "#   scatter plot of length vs homochirality. Homochirality is the percent of their\n",
        "#   bonds that are homochiral. \"\"\"\n",
        "#   #Get the history\n",
        "#   history = self.get_history()\n",
        "#   #Get the polymers\n",
        "#   x = []\n",
        "#   y = []\n",
        "#   for i in history:\n",
        "#     for p in self.hist_get_polymers(i):\n",
        "#       homochirality = sum(self.hist_get_polymer_homochirality_of_bonds(p))/len(p)\n",
        "#       x.append(len(p))\n",
        "#       y.append(homochirality)\n",
        "#   fig,ax = plt.subplots()\n",
        "#   ax.scatter(x,y)\n",
        "#   ax.set_xlabel(\"Polymer lengths\")\n",
        "#   ax.set_ylabel(\"Homochirality\")\n",
        "\n",
        "# def plot_age_vs_homochirality_leftright(self):\n",
        "#   \"\"\"\n",
        "#   Make a plot showing the age of a polymer vs the percent of its bonds that are \n",
        "#   left homochiral(shown in negative numbers) and right homochiral\n",
        "\n",
        "#   \"\"\"\n",
        "#   #l is a list to hold the percent of bonds that are left homochiral in a polymer\n",
        "#   l=[]\n",
        "#   #r is a list to hold the percent of bonds that are right homochiral in a polymer\n",
        "#   r=[]\n",
        "#   #x is a list that holds the ages of the polymers\n",
        "#   x=[]\n",
        "\n",
        "#   #go through the age history in each iteration\n",
        "#   for iteration in self.get_agehistory():\n",
        "#     #go through each reactable in an iteration(only polymers are present in the age history)\n",
        "#     for reactable in iteration:\n",
        "#       #add age to the x\n",
        "#       x.append(reactable)\n",
        "#   #go through the general history\n",
        "#   for iteration in self.get_history():\n",
        "#     #go through the reactables in the iteration\n",
        "#     for reactable in iteration:\n",
        "#       #only look at the polymers\n",
        "#       if len(reactable) > 1:\n",
        "#         #get the number of left and number of right homochiral bonds in the polymer\n",
        "#         leftrightcount = self.hist_get_leftright_homochiral_count_polymer(reactable)\n",
        "#         #add the left and right count as a percentage of the total number of bonds in the reactable\n",
        "#         l.append((leftrightcount[0])/(len(reactable)-1))\n",
        "#         r.append(-1 * (leftrightcount[1])/(len(reactable)-1))\n",
        "#   #Plot the data\n",
        "#   plt.figure()\n",
        "#   plt.scatter(x,l, label = \"left\")\n",
        "#   plt.scatter(x,r, label=\"right\")\n",
        "#   plt.xlabel(\"age\")\n",
        "#   plt.ylabel(\"signed percent of bonds that are homochiral\")\n",
        "#   plt.legend()\n",
        "#   plt.show()\n",
        "\n",
        "# def plot_age_vs_homochirality_ee(self):\n",
        "#   \"\"\" \n",
        "#   Make a plot of the ages of a polymer vs the homochirality of the reactable. No left right sensitivity\n",
        "#   \"\"\"\n",
        "#   #x keeps track of the ages of the polymers\n",
        "#   x=[]\n",
        "#   #y keeps track of the enantiomeric excess of the polymers\n",
        "#   y=[]\n",
        "#   #go through iteration of age history\n",
        "#   for iteration in self.get_agehistory():\n",
        "#     #go through every reactable in the iteration\n",
        "#     for reactable in iteration:\n",
        "#       #add age to the list\n",
        "#       x.append(reactable)\n",
        "#   #go through the general history\n",
        "#   for iteration in self.get_history():\n",
        "#     #go through the reactables in the iterations\n",
        "#     for reactable in iteration:\n",
        "#       #only go through the polymers\n",
        "#       if len(reactable) > 1:\n",
        "#         #append the enantiomeric excess of the polymer\n",
        "#         y.append(abs(self.hist_get_polymer_ee(reactable)))\n",
        "#   #plot the data\n",
        "#   plt.figure()\n",
        "#   plt.scatter(x,y)\n",
        "#   plt.xlabel(\"age\")\n",
        "#   plt.ylabel(\"polymer_ee\")\n",
        "#   plt.show()\n",
        "\n",
        "# def plot_age_vs_length(self):\n",
        "#   \"\"\"\n",
        "#   Make a plot of the age of a reactable vs the length of the total homochiral \n",
        "#   chains vs and the total nonhomochiral chains in the molecule.\n",
        "#   \"\"\"\n",
        "#   plt.figure()\n",
        "#   z =[]\n",
        "#   #x keeps track of the ages of the reactables\n",
        "#   x= []\n",
        "#   y =[]\n",
        "#   ages = self.get_agehistory()\n",
        "#   #go through the iterations of the age history\n",
        "#   for iteration in self.get_agehistory():\n",
        "#     #go through the reactables in the iteration\n",
        "#     for reactable in iteration:\n",
        "#       #add the age of the reactable to the list\n",
        "#       x.append(reactable)\n",
        "\n",
        "#   #go through the iterations of the general history\n",
        "#   for iteration in self.get_history():\n",
        "#     #go through the reactables of the iteration\n",
        "#     for reactable in iteration:\n",
        "#       #only go through the polymers \n",
        "#       if len(reactable) > 1 :\n",
        "#         #get a list of the lengths of the homochiral chain lengths in the polymer\n",
        "#         homochiralchainlengths =self.hist_get_polymer_chain_lengths(reactable)\n",
        "#         #go through the chain lengths \n",
        "#         for n in homochiralchainlengths: \n",
        "#           #Remove those that are of length one or less\n",
        "#           if n < 2:\n",
        "#             homochiralchainlengths.remove(n) \n",
        "        \n",
        "#         number =sum(homochiralchainlengths)/(len(reactable))\n",
        "#        # y.append(len(reactable) - number)\n",
        "#         z.append(number) \n",
        "#   plt.figure()\n",
        "#  # plt.scatter(x,y, label= \"of reactable\") \n",
        "#   plt.scatter(x,z)\n",
        "#   plt.xlabel(\"age\")\n",
        "#   plt.ylabel(\"percent homochiral chain\")\n",
        "#   plt.show()\n",
        "\n",
        "# def plot_homochiral_lengths_vs_poisson(self):\n",
        "#   \"\"\"\n",
        "#   This graph visualizes the frequency of homochiral chain lengths in the history of the reactable bag.\n",
        "#   It graphs the frequency of different homochiral lengths in the bag vs the poisson distribution. \n",
        "#   Do factor in liklihood that these  molecules will form, the frequencies are increased by a \n",
        "#   factor of thenumber of bonds they have to account for the fact that having more bonds, is less likely. \n",
        "#   \"\"\"\n",
        "#   #create a dictionary to track the frequency of each length of a certain homochiral bond\n",
        "#   lengths = {}\n",
        "#   #x is a list of the lengths to go on the x axis\n",
        "#   x=[]\n",
        "#   #y is a frequency to go on y axis\n",
        "#   y=[]\n",
        "#   #p is to store values for a length\n",
        "#   p=[]\n",
        "\n",
        "#   #go through the iterations of general history\n",
        "#   for iteration in self.get_history():\n",
        "#     #go through the reactables of the iterations\n",
        "#     for reactable in iteration:\n",
        "#       #go through the polymers\n",
        "#       if len(reactable) >1: \n",
        "#         #if so return a list  of the lenghts of the homochiral chains in the polymer\n",
        "#         for n in self.hist_get_polymer_chain_lengths(reactable):\n",
        "#           #only include the lengths that are greater than one\n",
        "#           if n > 1:\n",
        "#             #if the length is already in the dictiionary\n",
        "#             if n in lengths:\n",
        "#             #add one to its frequnency\n",
        "#               lengths[n] += 1\n",
        "#             else:#otherwise add it to the dictionay with a frequency of occurence of 1\n",
        "#               lengths[n] = 1\n",
        "#     #go through all of the recorded lengths\n",
        "#   for n in lengths:\n",
        "#     #the raise the frequency of them to a factor of the number of bonds in them, to\n",
        "#     #account for the decreased liklihood of occuring as the length increases that does not\n",
        "#     #have to do with homochirality\n",
        "#     number = (lengths[n]/len(self.get_history()))**((n/2)-1)\n",
        "#     #add the recalculated frequencied to the dictionaru\n",
        "#     lengths[n] = number\n",
        "#     #append the frequency to the y\n",
        "#     y.append(lengths[n])\n",
        "#     #append the lenght to x\n",
        "#     x.append(n)\n",
        "#     #plot the data\n",
        "#   plt.figure()\n",
        "#   #plot x and y together before sorting x\n",
        "#   plt.bar(x,y, label = \"Homichiral lengths\")\n",
        "#   #sort x so that it is in numerical order\n",
        "#   x.sort()\n",
        "#   #go through the lengths stored in x and calculate the poisson value for the length\n",
        "#   #and append this to list p \n",
        "#   #multiply the values by 1000 so that they appear nicely on graph with frequencies\n",
        "#   for n in x:\n",
        "#     p.append(1000* poissonequation(n))\n",
        "#   #plot x vs p\n",
        "#   plt.plot(x,p,label = \"poisson equation\", color = 'orange')\n",
        "#   plt.xlabel(\"length\")\n",
        "#   plt.ylabel(\"frequency\")\n",
        "#   plt.title(\"Lambda =\" + str(LAMBDA))\n",
        "#   plt.legend()\n",
        "#   plt.show()\n",
        "\n",
        "def visualizebrkprobs(self):\n",
        "  a = Monomer(hand = True)\n",
        "  b = Polymer(monomers = [a])\n",
        "  c = Monomer(hand = False)\n",
        "  d = Polymer(monomers = [c])\n",
        "  x = []\n",
        "  y = []\n",
        "  method = []\n",
        "  length=[]\n",
        "  for n in range(30):\n",
        "    for z in range(b.get_length()-1):\n",
        "      y.append(b.eastbondbreakprobability(z))\n",
        "      method.append(\"Normal\")\n",
        "      x.append(z+1)\n",
        "      length.append(b.get_length())\n",
        "      y.append(b.poissonbreakprobability(z))\n",
        "      method.append(\"poisson\")\n",
        "      length.append(b.get_length())\n",
        "      x.append(z+1)\n",
        "      y.append(b.biaseastbondbreakprobability(z))\n",
        "      method.append(\"left\")\n",
        "      length.append(b.get_length())\n",
        "      x.append(z+1)\n",
        "      y.append(d.biaseastbondbreakprobability(z))\n",
        "      method.append(\"right\")\n",
        "      x.append(z+1)\n",
        "      length.append(b.get_length())\n",
        "    monomer = Monomer(hand = True)\n",
        "    b.append(monomer)\n",
        "    monomer = Monomer(hand = False)\n",
        "    d.append(monomer)\n",
        "  data = {'NumberMonomer':  x,\n",
        "      'HomochiralChainLength': length, 'Breakprob': y, 'Method': method}\n",
        "  df = pd.DataFrame(data, columns = ['NumberMonomer',\n",
        "      'HomochiralChainLength', 'Breakprob', 'Method'])\n",
        "  fig = go.Figure()\n",
        "\n",
        "  fig = px.scatter(df, x=\"NumberMonomer\", y=\"Breakprob\", animation_frame=\"HomochiralChainLength\",\n",
        "          size = \"HomochiralChainLength\", color=\"Method\", hover_name=\"Method\", range_x=[0,30], range_y=[0,0.6])\n",
        "  fig.show()\n",
        "\n",
        "\n",
        "        \n",
        "\n",
        "\n",
        "\n",
        "    \n",
        "\n",
        "\n",
        "  \n"
      ],
      "execution_count": 20,
      "outputs": []
    },
    {
      "cell_type": "markdown",
      "metadata": {
        "id": "DdqK65C-8cpi",
        "colab_type": "text"
      },
      "source": [
        "# Dashboard"
      ]
    },
    {
      "cell_type": "code",
      "metadata": {
        "id": "MelavdvZ8ptf",
        "colab_type": "code",
        "colab": {
          "resources": {
            "http://localhost:8080/nbextensions/google.colab/tabbar.css": {
              "data": "Lmdvb2ctdGFie3Bvc2l0aW9uOnJlbGF0aXZlO3BhZGRpbmc6NHB4IDhweDtjb2xvcjojMDBjO3RleHQtZGVjb3JhdGlvbjp1bmRlcmxpbmU7Y3Vyc29yOmRlZmF1bHR9Lmdvb2ctdGFiLWJhci10b3AgLmdvb2ctdGFie21hcmdpbjoxcHggNHB4IDAgMDtib3JkZXItYm90dG9tOjA7ZmxvYXQ6bGVmdH0uZ29vZy10YWItYmFyLXRvcDphZnRlciwuZ29vZy10YWItYmFyLWJvdHRvbTphZnRlcntjb250ZW50OiIgIjtkaXNwbGF5OmJsb2NrO2hlaWdodDowO2NsZWFyOmJvdGg7dmlzaWJpbGl0eTpoaWRkZW59Lmdvb2ctdGFiLWJhci1ib3R0b20gLmdvb2ctdGFie21hcmdpbjowIDRweCAxcHggMDtib3JkZXItdG9wOjA7ZmxvYXQ6bGVmdH0uZ29vZy10YWItYmFyLXN0YXJ0IC5nb29nLXRhYnttYXJnaW46MCAwIDRweCAxcHg7Ym9yZGVyLXJpZ2h0OjB9Lmdvb2ctdGFiLWJhci1lbmQgLmdvb2ctdGFie21hcmdpbjowIDFweCA0cHggMDtib3JkZXItbGVmdDowfS5nb29nLXRhYi1ob3ZlcntiYWNrZ3JvdW5kOiNlZWV9Lmdvb2ctdGFiLWRpc2FibGVke2NvbG9yOiM2NjZ9Lmdvb2ctdGFiLXNlbGVjdGVke2NvbG9yOiMwMDA7YmFja2dyb3VuZDojZmZmO3RleHQtZGVjb3JhdGlvbjpub25lO2ZvbnQtd2VpZ2h0OmJvbGQ7Ym9yZGVyOjFweCBzb2xpZCAjNmI5MGRhfS5nb29nLXRhYi1iYXItdG9we3BhZGRpbmctdG9wOjVweCFpbXBvcnRhbnQ7cGFkZGluZy1sZWZ0OjVweCFpbXBvcnRhbnQ7Ym9yZGVyLWJvdHRvbToxcHggc29saWQgIzZiOTBkYSFpbXBvcnRhbnR9Lmdvb2ctdGFiLWJhci10b3AgLmdvb2ctdGFiLXNlbGVjdGVke3RvcDoxcHg7bWFyZ2luLXRvcDowO3BhZGRpbmctYm90dG9tOjVweH0uZ29vZy10YWItYmFyLWJvdHRvbSAuZ29vZy10YWItc2VsZWN0ZWR7dG9wOi0xcHg7bWFyZ2luLWJvdHRvbTowO3BhZGRpbmctdG9wOjVweH0uZ29vZy10YWItYmFyLXN0YXJ0IC5nb29nLXRhYi1zZWxlY3RlZHtsZWZ0OjFweDttYXJnaW4tbGVmdDowO3BhZGRpbmctcmlnaHQ6OXB4fS5nb29nLXRhYi1iYXItZW5kIC5nb29nLXRhYi1zZWxlY3RlZHtsZWZ0Oi0xcHg7bWFyZ2luLXJpZ2h0OjA7cGFkZGluZy1sZWZ0OjlweH0uZ29vZy10YWItYmFye21hcmdpbjowO2JvcmRlcjowO3BhZGRpbmc6MDtsaXN0LXN0eWxlOm5vbmU7Y3Vyc29yOmRlZmF1bHQ7b3V0bGluZTpub25lO2JhY2tncm91bmQ6I2ViZWZmOX0uZ29vZy10YWItYmFyLWNsZWFye2NsZWFyOmJvdGg7aGVpZ2h0OjA7b3ZlcmZsb3c6aGlkZGVufS5nb29nLXRhYi1iYXItc3RhcnR7ZmxvYXQ6bGVmdH0uZ29vZy10YWItYmFyLWVuZHtmbG9hdDpyaWdodH0qIGh0bWwgLmdvb2ctdGFiLWJhci1zdGFydHttYXJnaW4tcmlnaHQ6LTNweH0qIGh0bWwgLmdvb2ctdGFiLWJhci1lbmR7bWFyZ2luLWxlZnQ6LTNweH0=",
              "ok": true,
              "headers": [
                [
                  "content-type",
                  "text/css"
                ]
              ],
              "status": 200,
              "status_text": ""
            },
            "http://localhost:8080/nbextensions/google.colab/tabbar_main.min.js": {
              "data": "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",
              "ok": true,
              "headers": [
                [
                  "content-type",
                  "application/javascript"
                ]
              ],
              "status": 200,
              "status_text": ""
            }
          },
          "base_uri": "https://localhost:8080/",
          "height": 928,
          "referenced_widgets": [
            "1e69f26dd12f4b2e91d8b6d7ee1e485b",
            "74abc9aab97f46e9aff90b0039409d65",
            "ecc19ba3b9bb41a786d2084bf051c02f",
            "0ad376168ad545608d316d45db0d3fbc",
            "18f44354f3a541eca208cdd4b4457044",
            "b8ec9f5ed3644cde825c082924efd855",
            "8012b1528e2a451fb83a769a859775c6",
            "a6bc21a69af44933ab4c8fb55f8bade5",
            "fe2b1fda3a784fd49746c73980a557fa",
            "e55bb379593645708408d2394fa858d0",
            "82eb5520fc63452dbe11558a3e083b7d",
            "9009cb46d1074b41a48a753b1d7de889",
            "16249f68ec324ef986922feca6939246",
            "4b459de4025548f290dc30dc909ad71c",
            "9b0b2f5cf5b84d57a5930aeda52324ba",
            "2218672412af46ceae0d526e5bd05da1",
            "6b0305343cb845c7abde2dfb1baa9b39",
            "77270f2a3fb140d68a642f6512dceb48",
            "5dd050d736da451ca696eb604e36804d",
            "c4a19fd8a5fa40a2af2dd8850f677767",
            "83986fdbfc4d412399553ab035cf5e59",
            "bd4e2e043c6a40d3b086c7c916ba9fe2",
            "c17b3c2ffd2d4fbab9c3aa60401f3303",
            "6f2a20179e6e43079d6d23364c5fd102",
            "476f493f1f6240e486f6317c900e3a5e",
            "6cb2b5198cf34970844b9a911a3b7156",
            "ba11986cb38b43bb925c4c17fb9b40c7",
            "dfc2ffe11010443bb906fea5cb8e5c64",
            "6d0c4295227c462d8fc5cf4fd2d2e942",
            "1b496c01e11b424c8a261ee11c81354e",
            "e4313b944286406a89e76627c63c932e",
            "cd96ab1be4024c628f3a7594f0164028",
            "c9f221e5eb0c4a588dd28c19e856e449",
            "43a8b591c6ba4a418dd4c3533c1ca76b",
            "3b66e686e2cd49b99140841152e2cfbc",
            "a5b5cbb0bffd4e159fd9a9a8acbe693e",
            "4bb932e0621344ce93933444245bb17f",
            "fc73d8dbf8434db3adda9740af0da505",
            "46ad9db0ad7644489da202049a203851",
            "dcdd52acd2624b3cbf4c5431d194c149",
            "b4a8b5cc3e1a4d0381941129468422d0",
            "a5ca0a579f1b49eebaa2bcc32494b44c",
            "c7e1585722f244b9b2d32beaca5ee6ab",
            "e4f68b219a0c4cb18f2344de0076709e",
            "8d9dd26a286249f6bee5f8467d7a0e41",
            "0595b3d1d41344f9b08973ae43e3c49b",
            "dfc16985115940f49ba503deafe17009",
            "8ebbcd8379844f28bae58311c44dede7",
            "1929013a6ac04a5fb4a3e36eba89a82e",
            "bd31ce44afcc4c9eb9c0f7e84622fc32",
            "da69e5a94bea4e139040c1495a1bd8bc",
            "9ee22ee6e6474f52933b08163652f76a",
            "87bbe01d69c84422907d4075a9345825",
            "6da99da1ccea4f3ba471c1affcc4d885",
            "5ae3cfe0e2d249ea8c6800542755369e",
            "491fbb3d55cc4d32a2cd6d5a74859992",
            "0ff3a2d730e044c4a7bc4db5826d1bdd",
            "afcb89728b884fd7a35bb4e7ca22bd6a",
            "5910a9afae8440469c02543164aff99f",
            "536221f9d3914687b58955eeaf3f906a",
            "073dd3ba8e3f4929910433f67b97940a",
            "ab59742309c845e7a04ae8b4e07d5d48",
            "8b72637003ed4d7e9bbe07f213f62549",
            "eb344cb0de4642ed9f2b4c86c37450fe",
            "a7604100e01d4e5593a7cddf29c659b1",
            "e2077f17761e48e29c55194b32c6fd3b",
            "3c123dd45abd4fd1adad9c7b14e0a866",
            "681fcab164d940499ea1f2cea1942832",
            "e4bd734b982d44eca73f6b3169c50db8",
            "d119998214a341bcbbbe05815e630703",
            "ab5708fc67bf45b6af736cf45872682e",
            "6cbdbe562e66429cad1ec753d8aff12c",
            "ebc955b45dfc43d2b4a87a5c1359e0e4",
            "1df79784fd124a37b71bb508c71ed847",
            "884cec89e7b2493299753715cada94b9",
            "87b6dc48b449416694c0e992bd09fff6",
            "dd8d056711b243a6bef9d4491bb94411",
            "dd472f20c3bb4a42b69a3536263ce1ba",
            "af6b8f2053b74893901fd64a47e33ba6",
            "bc308fbd9db64361a20eb3e82d0f9f97",
            "cb06bc2ecd5e4d4fbefd4b1083f3f4d9",
            "0538fd6a5f3940d8b109a45fff0d1459",
            "0b75369185df4eaaa19f9d03e090224b",
            "fdcae486fe7644408b6f8046a64a003d",
            "f3a42ad96808486b8c91ed9473ee8aa8",
            "2cb9b795ff124c6cbedcc09174f90f9e",
            "60f6f5ad001d4170b03d8fb9122ade1b",
            "3f321e66264d42f88f1599c0bbd65737",
            "85a814507c45412ca61e08c7eb3850d2",
            "5a5296bd60d5407cb52381d2065fb190",
            "b9df2cb29a8042978fcb295bbc71ba06",
            "37a86c8cdb4a423886b9b0d1bd020870",
            "846aa79cd15945ab8222a089e2e952d6",
            "32638b3711d541de864597aa7655bc7c",
            "347ec4dd19484ad3ad2c7d5016c5e540",
            "29836f8d40464bf29d30107f2453f8ac",
            "be093e90c3b7424bb940bb5461a01a5f",
            "07291646f3f34c5892e0cfe18dde76e1",
            "22ecf5f2a9f240eaa191de3ac1315720",
            "ca4d9aacff4a4445b79035e18093f40a",
            "ef88b7e72ad1499983e0cb0347048c82",
            "99c2294bc5ab4d5793be225e890f2d2f",
            "38a644962beb43a6bf9bcdb78e2131e0",
            "0d91fd3f190b49a7929427dbbf8e1a94",
            "4fcfffc72c274d538c8e67d1c03037c2",
            "d25d117bd23a4b70ba1481d1ad9d4afe",
            "8927d232d8f144548771d2e25bcaec30",
            "fe46239226cb4b368a15e5c7fdfffbf4",
            "3466632fac4541beb6793210eccc49b9",
            "d0a4ca4179184853ba952ac55bdedf5e",
            "b8db2227d8594436bef3c1112cec6f7d",
            "be2ef0c8d58149919dff3cdad282023e",
            "bbb96fbc9a484470a197af14b5ef40db",
            "5f07f0ccaa4c4e96b57645997c919e11",
            "c797da8ce4df464ab453fae5eab2684e",
            "77ea1f9852f345248a97d1c709678039",
            "777e2ae3ef5e482a8c6ca31eb398e8bb",
            "ad13ad3b27b74bdc932800f3ab284802",
            "0551e4d038154e4ea72d5cb9037364a4",
            "bbf5451cc07b40e7826c11038a28349a",
            "849d5746a5ce4a2f820d57bdf46704e0"
          ]
        },
        "outputId": "7dad1e15-b8a2-47a5-e355-7f63bd614291"
      },
      "source": [
        "\n",
        "bbbp = ipywidgets.FloatSlider(value=0.5, min=0, max=1, step=0.01)\n",
        "bbbp_label = ipywidgets.Label('BASE_BOND_BREAK_PROBABILITY:')\n",
        "bbbp_box = ipywidgets.VBox([bbbp_label,bbbp])\n",
        "\n",
        "hbf = ipywidgets.FloatSlider(value=0.5, min=0, max=1, step=0.01)\n",
        "hbf_label = ipywidgets.Label('HOMOCHIRAL_BREAK_FACTOR:')\n",
        "hbf_box = ipywidgets.VBox([hbf_label,hbf])\n",
        "\n",
        "hnif = ipywidgets.FloatSlider(value=0.5, min=0, max=1, step=0.01)\n",
        "hnif_label = ipywidgets.Label('HOMOCHIRAL_NEIGHBOR_IMPROV_FACTOR:')\n",
        "hnif_box = ipywidgets.VBox([hnif_label,hnif])\n",
        "\n",
        "lf = ipywidgets.FloatSlider(value=0.5, min=0, max=1, step=0.01)\n",
        "lf_label = ipywidgets.Label('LENGTH_FACTOR')\n",
        "lf_box = ipywidgets.VBox([lf_label,lf])\n",
        "\n",
        "hbfleft = ipywidgets.FloatSlider(value=0.5, min=0, max=1, step=0.01)\n",
        "hbfleft_label = ipywidgets.Label('HOMOCHIRAL_BREAK_FACTOR_LEFT:')\n",
        "hbfleft_box = ipywidgets.VBox([hbfleft_label,hbfleft])\n",
        "\n",
        "hbfright = ipywidgets.FloatSlider(value=0.5, min=0, max=1, step=0.01)\n",
        "hbfright_label = ipywidgets.Label('HOMOCHIRAL_BREAK_FACTOR_RIGHT')\n",
        "hbfright_box = ipywidgets.VBox([hbfright_label,hbfright])\n",
        "\n",
        "hnifleft = ipywidgets.FloatSlider(value=0.5, min=0, max=1, step=0.01)\n",
        "hnifleft_label = ipywidgets.Label('HOMOCHIRAL_NEIGHBOR_IMPROV_FACTOR_LEFT')\n",
        "hnifleft_box = ipywidgets.VBox([hnifleft_label,hnifleft])\n",
        "\n",
        "hnifright = ipywidgets.FloatSlider(value=0.5, min=0, max=1, step=0.01)\n",
        "hnifright_label = ipywidgets.Label('HOMOCHIRAL_NEIGHBOR_IMPROV_FACTOR_RIGHT')\n",
        "hnifright_box = ipywidgets.VBox([hnifright_label,hnifright])\n",
        "\n",
        "lamb = ipywidgets.IntSlider(value=6, min=1, max=10, step=1)\n",
        "lamb_label = ipywidgets.Label('LAMBDA')\n",
        "lamb_box = ipywidgets.VBox([lamb_label,lamb])\n",
        "\n",
        "n_val = ipywidgets.IntSlider(value=40, min=0, max=1000, step=5)\n",
        "n_val_label = ipywidgets.Label('N')\n",
        "n_val_box = ipywidgets.VBox([n_val_label,n_val])\n",
        "\n",
        "pc = ipywidgets.FloatSlider(value=0.5, min=0, max=1, step=0.01)\n",
        "pc_label = ipywidgets.Label('POOF_CHANCE')\n",
        "pc_box = ipywidgets.VBox([pc_label,pc])\n",
        "\n",
        "bp = ipywidgets.FloatSlider(value=0.5, min=0, max=1, step=0.01)\n",
        "bp_label = ipywidgets.Label('BOND_PROB')\n",
        "bp_box = ipywidgets.VBox([bp_label,bp])\n",
        "\n",
        "ps = ipywidgets.IntSlider(value=10, min=1, max=1000, step=1)\n",
        "ps_label = ipywidgets.Label('POOL_SIZE')\n",
        "ps_box = ipywidgets.VBox([ps_label,ps])\n",
        "\n",
        "iterns = ipywidgets.IntSlider(value=10, min=1, max=1000, step=1)\n",
        "iterns_label = ipywidgets.Label('ITERATIONS')\n",
        "iterns_box = ipywidgets.VBox([iterns_label,iterns])\n",
        "\n",
        "method_picker = ipywidgets.Dropdown(options=['bias','standard','poisson'],value=\"standard\")\n",
        "method_picker_label = ipywidgets.Label(\"Select calculation method:\")\n",
        "method_picker_box = ipywidgets.VBox([method_picker_label,method_picker])\n",
        "\n",
        "feedback = ipywidgets.Output()\n",
        "\n",
        "button = ipywidgets.Button(description=\"GO!\", button_style='primary')\n",
        "\n",
        "export_button = ipywidgets.Button(description=\"Export data\")\n",
        "\n",
        "glob_title=ipywidgets.Label(\"General parameters\")\n",
        "mon_title=ipywidgets.Label(\"Monomer parameters\")\n",
        "sim_title=ipywidgets.Label(\"Simulation paramaters\")\n",
        "\n",
        "globs = ipywidgets.VBox([glob_title,bbbp_box,lf_box,n_val_box])\n",
        "mons = ipywidgets.VBox([mon_title,pc_box,bp_box])\n",
        "sims = ipywidgets.VBox([sim_title,ps_box,iterns_box])\n",
        "\n",
        "left_col = ipywidgets.VBox([mons,sims])\n",
        "\n",
        "bias_widgets = [hbfleft_box,hbfright_box,hnifleft_box,hnifright_box]\n",
        "standard_widgets = [hbf_box,hnif_box]\n",
        "poisson_widgets = [lamb_box]\n",
        "\n",
        "dep_widgets = ipywidgets.VBox(standard_widgets)\n",
        "\n",
        "center_col = ipywidgets.VBox([globs,button,export_button,feedback])\n",
        "\n",
        "right_col = ipywidgets.VBox([method_picker_box,dep_widgets])\n",
        "\n",
        "react_bag = None\n",
        "\n",
        "def choose(change):                        \n",
        "  if change.new == \"bias\":\n",
        "    dep_widgets.children = bias_widgets\n",
        "  elif change.new == \"standard\":\n",
        "    dep_widgets.children = standard_widgets\n",
        "  elif change.new == \"poisson\":\n",
        "    dep_widgets.children = poisson_widgets\n",
        "\n",
        "def export(b):\n",
        "  \"\"\"\n",
        "  Export the stats dataframe as a csv with the filename encoding the parameters \n",
        "  for the run.\n",
        "  \"\"\"\n",
        "  if react_bag != None:\n",
        "\n",
        "    data = react_bag.get_stats()\n",
        "\n",
        "    # Construct a filename:\n",
        "    # (run size).(general parameters).(monomer parameters).method.(method parameters).timestamp.csv\n",
        "\n",
        "    # Encode run size (pool_size x iterations)\n",
        "    runsize = f\"{POOL_SIZE}x{ITERATIONS}\"\n",
        "    # Encode general parameters\n",
        "    gen_params = f\"{int(BASE_BOND_BREAK_PROBABILITY*100):03d}.{int(LENGTH_FACTOR*100):03d}.{N}\"\n",
        "    # Encode monomer parameters\n",
        "    mon_params = f\"{int(POOF_CHANCE*100):03d}.{int(BOND_PROB*100):03d}\"\n",
        "    # Encode method and method parameters\n",
        "    if METHOD == \"bias\":\n",
        "      m_params = f\"b.{int(HOMOCHIRAL_BREAK_FACTOR_LEFT*100):03d}.{int(HOMOCHIRAL_BREAK_FACTOR_RIGHT*100):03d}.{int(HOMOCHIRAL_NEIGHBOR_IMPROV_FACTOR_LEFT*100):03d}.{int(HOMOCHIRAL_NEIGHBOR_IMPROV_FACTOR_RIGHT*100):03d}\"\n",
        "    elif METHOD == \"standard\":\n",
        "      m_params = f\"s.{int(HOMOCHIRAL_BREAK_FACTOR*100):03d}.{int(HOMOCHIRAL_NEIGHBOR_IMPROV_FACTOR*100):03d}\"\n",
        "    elif METHOD == \"poisson\":\n",
        "      m_params = f\"p.{LAMBDA}\"\n",
        "    else:\n",
        "      raise ValueError(\"nonexistant METHOD found in encoding??!?\")\n",
        "    # Create timestamp\n",
        "    timestamp = int(np.ceil(time.time()))\n",
        "    # Assemble filename\n",
        "    filename = f\"{runsize}.{gen_params}.{mon_params}.{m_params}.{timestamp}.csv\"\n",
        "\n",
        "    # Now we can FINALLY export the file\n",
        "    data.to_csv(f\"{wdir}/output/{filename}\")\n",
        "\n",
        "    with feedback:\n",
        "      clear_output()\n",
        "      print(f\"Data exported.\")\n",
        "\n",
        "\n",
        "\n",
        "\n",
        "def run_sim(b):\n",
        "  with feedback:\n",
        "    clear_output()\n",
        "    print(\"Running...\")\n",
        "\n",
        "  global BASE_BOND_BREAK_PROBABILITY\n",
        "  global HOMOCHIRAL_BREAK_FACTOR\n",
        "  global HOMOCHIRAL_NEIGHBOR_IMPROV_FACTOR\n",
        "  global LENGTH_FACTOR\n",
        "  global N\n",
        "  global LAMBDA\n",
        "  global HOMOCHIRAL_BREAK_FACTOR_LEFT\n",
        "  global HOMOCHIRAL_BREAK_FACTOR_RIGHT\n",
        "  global HOMOCHIRAL_NEIGHBOR_IMPROV_FACTOR_LEFT\n",
        "  global HOMOCHIRAL_NEIGHBOR_IMPROV_FACTOR_RIGHT\n",
        "  global POOF_CHANCE\n",
        "  global BOND_PROB\n",
        "  global POOL_SIZE\n",
        "  global ITERATIONS\n",
        "  global METHOD\n",
        "  global break_prob_lookup_table\n",
        "  global poisson_dict\n",
        "  global react_bag\n",
        "  \n",
        "  break_prob_lookup_table = {}\n",
        "\n",
        "  poisson_dict={}\n",
        "\n",
        "  BASE_BOND_BREAK_PROBABILITY=bbbp.value\n",
        "  HOMOCHIRAL_BREAK_FACTOR=hbf.value\n",
        "  HOMOCHIRAL_NEIGHBOR_IMPROV_FACTOR=hnif.value\n",
        "  LENGTH_FACTOR=lf.value\n",
        "  N = n_val.value\n",
        "  LAMBDA = lamb.value#enter some kind of if statement\n",
        "  HOMOCHIRAL_BREAK_FACTOR_LEFT=hbfleft.value#enter some kind of if statement\n",
        "  HOMOCHIRAL_BREAK_FACTOR_RIGHT=hbfright.value#enter some kind of if statement\n",
        "  HOMOCHIRAL_NEIGHBOR_IMPROV_FACTOR_LEFT=hnifleft.value#enter some kind of if statement\n",
        "  HOMOCHIRAL_NEIGHBOR_IMPROV_FACTOR_RIGHT=hnifright.value#enter some kind of if statement\n",
        "  POOF_CHANCE=pc.value\n",
        "  BOND_PROB=bp.value\n",
        "  POOL_SIZE=ps.value\n",
        "  ITERATIONS=iterns.value\n",
        "  METHOD = method_picker.value\n",
        "\n",
        "  react_bag = Reactables(make_pool(POOL_SIZE))\n",
        "  react_bag.simulate(POOL_SIZE, ITERATIONS, METHOD)\n",
        "  #print(break_prob_lookup_table)\n",
        "\n",
        "\n",
        "  stats = react_bag.get_stats()\n",
        "\n",
        "  with tb.output_to(\"Signed EE of Polymers by Iteration\", select=True):\n",
        "    tb.clear_tab()\n",
        "    df = stats\n",
        "    counts = df.groupby(\"Iteration\")['Signed ee'].value_counts().reset_index(name='count')\n",
        "    fig = px.scatter(counts, x=\"Iteration\", y=\"Signed ee\", size='count')\n",
        "    fig.show()\n",
        "\n",
        "\n",
        "  with tb.output_to(\"Proportion of Bond Types\", select=False):\n",
        "    tb.clear_tab()\n",
        "\n",
        "    df = stats\n",
        "    lefts = df.groupby(\"Iteration\")[\"#LeftHomochiral\"].sum().rename(\"LL\")\n",
        "    rights = df.groupby(\"Iteration\")[\"#RightHomochiral\"].sum().rename(\"RR\")\n",
        "    heteros = (df.groupby(\"Iteration\")['Length'].sum() - df.groupby(\"Iteration\")['Length'].count()).rename(\"LR\")\n",
        "    bondcounts = pd.DataFrame([lefts, rights, heteros]).transpose()\n",
        "    bondcounts[\"Total\"] = bondcounts[\"LL\"] + bondcounts[\"RR\"] + bondcounts[\"LR\"]\n",
        "    bondcounts = bondcounts.apply(lambda x : x / bondcounts[\"Total\"])\n",
        "    \n",
        "    fig = go.Figure()\n",
        "    fig.add_trace(go.Scatter(y=bondcounts[\"LL\"],\n",
        "                        mode='lines',\n",
        "                        name='left homochiral'))\n",
        "    fig.add_trace(go.Scatter(y=bondcounts[\"RR\"],\n",
        "                        mode='lines',\n",
        "                        name='right homochiral'))\n",
        "    fig.add_trace(go.Scatter(y=bondcounts[\"LR\"],\n",
        "                       mode='lines', name='heterochiral'))\n",
        "    fig.update_layout(title='Proportion of LL, RR, and LR bonds by iteration',\n",
        "                    xaxis_title='Iteration',\n",
        "                    yaxis_title='Proportion')\n",
        "    fig.update_yaxes(range=[0, 1])\n",
        "\n",
        "    fig.show()\n",
        "\n",
        "  with tb.output_to(\"Homochirality vs Length through Time\", select=False):\n",
        "    tb.clear_tab()\n",
        "    df = stats\n",
        "    maxlen = df[\"Length\"].max()\n",
        "\n",
        "    fig = px.scatter(df, x=\"Length\", y=\"%Homochirality\",animation_frame=\"Iteration\",\n",
        "                    range_x=[-1,maxlen+1],range_y=[-0.01,1.2])\n",
        "    fig.show()\n",
        "\n",
        "  with tb.output_to(\"Homochirality vs Length\", select=False):\n",
        "    tb.clear_tab()\n",
        "    df = stats\n",
        "    df = df.groupby(\"Length\")['%Homochirality'].value_counts().reset_index(name='count')\n",
        "    fig = px.scatter(df, x=\"Length\",y=\"%Homochirality\",size='count')\n",
        "    fig.update_traces(marker=dict(line=dict(color='DarkSlateGrey')),\n",
        "                    selector=dict(mode='markers'))\n",
        "    fig.show()\n",
        "\n",
        "  with tb.output_to(\"Homochirality vs Age\", select=False):\n",
        "    tb.clear_tab()\n",
        "    df = stats\n",
        "    df = df.groupby(\"Age\")['%Homochirality'].value_counts().reset_index(name='count')\n",
        "    fig = px.scatter(df, x=\"Age\",y=\"%Homochirality\",size='count')\n",
        "    fig.update_traces(marker=dict(line=dict(color='DarkSlateGrey')),\n",
        "                    selector=dict(mode='markers'))\n",
        "    fig.show()\n",
        "\n",
        "  with tb.output_to(\"Visualize Break Probs\", select=False):\n",
        "    tb.clear_tab()\n",
        "    #a.visualizebrkprobs()\n",
        "\n",
        "  with tb.output_to(\"Length histogram over time\", select=False):\n",
        "    tb.clear_tab()\n",
        "    df = stats\n",
        "    fig = px.histogram(df, x=\"Length\", animation_frame=\"Iteration\",range_x=(0,max(df[\"Length\"])),\n",
        "                       nbins=max(df[\"Length\"]))\n",
        "    fig.show()\n",
        "\n",
        "\n",
        "  with feedback:\n",
        "    clear_output()\n",
        "    print(\"Done!\")\n",
        "\n",
        "button.on_click(run_sim)\n",
        "export_button.on_click(export)\n",
        "\n",
        "container = ipywidgets.HBox([left_col,center_col,right_col])\n",
        "\n",
        "method_picker.observe(choose, names=\"value\")\n",
        "\n",
        "display(container)\n",
        "\n",
        "plots = [\"Signed EE of Polymers by Iteration\",\"Proportion of Bond Types\",\n",
        "         \"Homochirality vs Length through Time\",\"Homochirality vs Length\",\n",
        "         \"Homochirality vs Age\",\"Length histogram over time\",\"Visualize Break Probs\"]\n",
        "tb = widgets.TabBar(plots)"
      ],
      "execution_count": 35,
      "outputs": [
        {
          "output_type": "display_data",
          "data": {
            "application/vnd.jupyter.widget-view+json": {
              "model_id": "1e69f26dd12f4b2e91d8b6d7ee1e485b",
              "version_minor": 0,
              "version_major": 2
            },
            "text/plain": [
              "HBox(children=(VBox(children=(VBox(children=(Label(value='Monomer parameters'), VBox(children=(Label(value='PO…"
            ]
          },
          "metadata": {
            "tags": []
          }
        },
        {
          "output_type": "display_data",
          "data": {
            "text/html": [
              "<link rel=stylesheet type=text/css href='/nbextensions/google.colab/tabbar.css'></link>"
            ],
            "text/plain": [
              "<IPython.core.display.HTML object>"
            ]
          },
          "metadata": {
            "tags": [
              "outputarea_id15"
            ]
          }
        },
        {
          "output_type": "display_data",
          "data": {
            "text/html": [
              "<script src='/nbextensions/google.colab/tabbar_main.min.js'></script>"
            ],
            "text/plain": [
              "<IPython.core.display.HTML object>"
            ]
          },
          "metadata": {
            "tags": [
              "outputarea_id15"
            ]
          }
        },
        {
          "output_type": "display_data",
          "data": {
            "text/html": [
              "<div id=\"id15\"></div>"
            ],
            "text/plain": [
              "<IPython.core.display.HTML object>"
            ]
          },
          "metadata": {
            "tags": [
              "outputarea_id15"
            ]
          }
        },
        {
          "output_type": "display_data",
          "data": {
            "application/javascript": [
              "window[\"bc531304-c60d-11ea-9e0a-0242ac1c0002\"] = colab_lib.createTabBar({\"location\": \"top\", \"elementId\": \"id15\", \"tabNames\": [\"Signed EE of Polymers by Iteration\", \"Proportion of Bond Types\", \"Homochirality vs Length through Time\", \"Homochirality vs Length\", \"Homochirality vs Age\", \"Length histogram over time\", \"Visualize Break Probs\"], \"initialSelection\": 0, \"contentBorder\": [\"0px\"], \"contentHeight\": [\"initial\"], \"borderColor\": [\"#a7a7a7\"]});\n",
              "//# sourceURL=js_6aca84d6f1"
            ],
            "text/plain": [
              "<IPython.core.display.Javascript object>"
            ]
          },
          "metadata": {
            "tags": [
              "outputarea_id15"
            ]
          }
        },
        {
          "output_type": "display_data",
          "data": {
            "application/javascript": [
              "window[\"bc53508a-c60d-11ea-9e0a-0242ac1c0002\"] = window[\"id15\"].setSelectedTabIndex(0);\n",
              "//# sourceURL=js_ee87fd296b"
            ],
            "text/plain": [
              "<IPython.core.display.Javascript object>"
            ]
          },
          "metadata": {
            "tags": [
              "outputarea_id15"
            ]
          }
        },
        {
          "output_type": "display_data",
          "data": {
            "application/javascript": [
              "window[\"c0d84bc4-c60d-11ea-9e0a-0242ac1c0002\"] = google.colab.output.getActiveOutputArea();\n",
              "//# sourceURL=js_1b17df308b"
            ],
            "text/plain": [
              "<IPython.core.display.Javascript object>"
            ]
          },
          "metadata": {
            "tags": [
              "id15_content_0",
              "outputarea_id15"
            ]
          }
        },
        {
          "output_type": "display_data",
          "data": {
            "application/javascript": [
              "window[\"c0d88a12-c60d-11ea-9e0a-0242ac1c0002\"] = document.querySelector(\"#id15_content_0\");\n",
              "//# sourceURL=js_52b4e5697f"
            ],
            "text/plain": [
              "<IPython.core.display.Javascript object>"
            ]
          },
          "metadata": {
            "tags": [
              "id15_content_0",
              "outputarea_id15"
            ]
          }
        },
        {
          "output_type": "display_data",
          "data": {
            "application/javascript": [
              "window[\"c0d8cf5e-c60d-11ea-9e0a-0242ac1c0002\"] = google.colab.output.setActiveOutputArea(window[\"c0d88a12-c60d-11ea-9e0a-0242ac1c0002\"]);\n",
              "//# sourceURL=js_c1e1cc312d"
            ],
            "text/plain": [
              "<IPython.core.display.Javascript object>"
            ]
          },
          "metadata": {
            "tags": [
              "id15_content_0",
              "outputarea_id15"
            ]
          }
        },
        {
          "output_type": "display_data",
          "data": {
            "application/javascript": [
              "window[\"c0d91130-c60d-11ea-9e0a-0242ac1c0002\"] = window[\"id15\"].setSelectedTabIndex(0);\n",
              "//# sourceURL=js_d07c7034d8"
            ],
            "text/plain": [
              "<IPython.core.display.Javascript object>"
            ]
          },
          "metadata": {
            "tags": [
              "id15_content_0",
              "outputarea_id15"
            ]
          }
        },
        {
          "output_type": "display_data",
          "data": {
            "application/javascript": [
              "window[\"c105f858-c60d-11ea-9e0a-0242ac1c0002\"] = google.colab.output.setActiveOutputArea(window[\"c0d84bc4-c60d-11ea-9e0a-0242ac1c0002\"]);\n",
              "//# sourceURL=js_308eab52be"
            ],
            "text/plain": [
              "<IPython.core.display.Javascript object>"
            ]
          },
          "metadata": {
            "tags": [
              "id15_content_0",
              "outputarea_id15"
            ]
          }
        },
        {
          "output_type": "display_data",
          "data": {
            "application/javascript": [
              "window[\"c1071f58-c60d-11ea-9e0a-0242ac1c0002\"] = google.colab.output.getActiveOutputArea();\n",
              "//# sourceURL=js_160e00a322"
            ],
            "text/plain": [
              "<IPython.core.display.Javascript object>"
            ]
          },
          "metadata": {
            "tags": [
              "id15_content_1",
              "outputarea_id15"
            ]
          }
        },
        {
          "output_type": "display_data",
          "data": {
            "application/javascript": [
              "window[\"c1075d42-c60d-11ea-9e0a-0242ac1c0002\"] = document.querySelector(\"#id15_content_1\");\n",
              "//# sourceURL=js_62ee3061a6"
            ],
            "text/plain": [
              "<IPython.core.display.Javascript object>"
            ]
          },
          "metadata": {
            "tags": [
              "id15_content_1",
              "outputarea_id15"
            ]
          }
        },
        {
          "output_type": "display_data",
          "data": {
            "application/javascript": [
              "window[\"c107ad9c-c60d-11ea-9e0a-0242ac1c0002\"] = google.colab.output.setActiveOutputArea(window[\"c1075d42-c60d-11ea-9e0a-0242ac1c0002\"]);\n",
              "//# sourceURL=js_f641f34039"
            ],
            "text/plain": [
              "<IPython.core.display.Javascript object>"
            ]
          },
          "metadata": {
            "tags": [
              "id15_content_1",
              "outputarea_id15"
            ]
          }
        },
        {
          "output_type": "display_data",
          "data": {
            "application/javascript": [
              "window[\"c1215666-c60d-11ea-9e0a-0242ac1c0002\"] = google.colab.output.setActiveOutputArea(window[\"c1071f58-c60d-11ea-9e0a-0242ac1c0002\"]);\n",
              "//# sourceURL=js_635fae1d04"
            ],
            "text/plain": [
              "<IPython.core.display.Javascript object>"
            ]
          },
          "metadata": {
            "tags": [
              "id15_content_1",
              "outputarea_id15"
            ]
          }
        },
        {
          "output_type": "display_data",
          "data": {
            "application/javascript": [
              "window[\"c122fdea-c60d-11ea-9e0a-0242ac1c0002\"] = google.colab.output.getActiveOutputArea();\n",
              "//# sourceURL=js_2bf3b7bfb7"
            ],
            "text/plain": [
              "<IPython.core.display.Javascript object>"
            ]
          },
          "metadata": {
            "tags": [
              "id15_content_2",
              "outputarea_id15"
            ]
          }
        },
        {
          "output_type": "display_data",
          "data": {
            "application/javascript": [
              "window[\"c1234ac0-c60d-11ea-9e0a-0242ac1c0002\"] = document.querySelector(\"#id15_content_2\");\n",
              "//# sourceURL=js_f539158156"
            ],
            "text/plain": [
              "<IPython.core.display.Javascript object>"
            ]
          },
          "metadata": {
            "tags": [
              "id15_content_2",
              "outputarea_id15"
            ]
          }
        },
        {
          "output_type": "display_data",
          "data": {
            "application/javascript": [
              "window[\"c123aa6a-c60d-11ea-9e0a-0242ac1c0002\"] = google.colab.output.setActiveOutputArea(window[\"c1234ac0-c60d-11ea-9e0a-0242ac1c0002\"]);\n",
              "//# sourceURL=js_8e0d884789"
            ],
            "text/plain": [
              "<IPython.core.display.Javascript object>"
            ]
          },
          "metadata": {
            "tags": [
              "id15_content_2",
              "outputarea_id15"
            ]
          }
        },
        {
          "output_type": "display_data",
          "data": {
            "application/javascript": [
              "window[\"c18dae92-c60d-11ea-9e0a-0242ac1c0002\"] = google.colab.output.setActiveOutputArea(window[\"c122fdea-c60d-11ea-9e0a-0242ac1c0002\"]);\n",
              "//# sourceURL=js_0c5f1801c3"
            ],
            "text/plain": [
              "<IPython.core.display.Javascript object>"
            ]
          },
          "metadata": {
            "tags": [
              "id15_content_2",
              "outputarea_id15"
            ]
          }
        },
        {
          "output_type": "display_data",
          "data": {
            "application/javascript": [
              "window[\"c1910eca-c60d-11ea-9e0a-0242ac1c0002\"] = google.colab.output.getActiveOutputArea();\n",
              "//# sourceURL=js_0ed61d1e6e"
            ],
            "text/plain": [
              "<IPython.core.display.Javascript object>"
            ]
          },
          "metadata": {
            "tags": [
              "id15_content_3",
              "outputarea_id15"
            ]
          }
        },
        {
          "output_type": "display_data",
          "data": {
            "application/javascript": [
              "window[\"c1917b58-c60d-11ea-9e0a-0242ac1c0002\"] = document.querySelector(\"#id15_content_3\");\n",
              "//# sourceURL=js_32d946008c"
            ],
            "text/plain": [
              "<IPython.core.display.Javascript object>"
            ]
          },
          "metadata": {
            "tags": [
              "id15_content_3",
              "outputarea_id15"
            ]
          }
        },
        {
          "output_type": "display_data",
          "data": {
            "application/javascript": [
              "window[\"c191dac6-c60d-11ea-9e0a-0242ac1c0002\"] = google.colab.output.setActiveOutputArea(window[\"c1917b58-c60d-11ea-9e0a-0242ac1c0002\"]);\n",
              "//# sourceURL=js_1830a23dc0"
            ],
            "text/plain": [
              "<IPython.core.display.Javascript object>"
            ]
          },
          "metadata": {
            "tags": [
              "id15_content_3",
              "outputarea_id15"
            ]
          }
        },
        {
          "output_type": "display_data",
          "data": {
            "application/javascript": [
              "window[\"c1bd6fa6-c60d-11ea-9e0a-0242ac1c0002\"] = google.colab.output.setActiveOutputArea(window[\"c1910eca-c60d-11ea-9e0a-0242ac1c0002\"]);\n",
              "//# sourceURL=js_dfe0014bf4"
            ],
            "text/plain": [
              "<IPython.core.display.Javascript object>"
            ]
          },
          "metadata": {
            "tags": [
              "id15_content_3",
              "outputarea_id15"
            ]
          }
        },
        {
          "output_type": "display_data",
          "data": {
            "application/javascript": [
              "window[\"c1be973c-c60d-11ea-9e0a-0242ac1c0002\"] = google.colab.output.getActiveOutputArea();\n",
              "//# sourceURL=js_c23e76e52d"
            ],
            "text/plain": [
              "<IPython.core.display.Javascript object>"
            ]
          },
          "metadata": {
            "tags": [
              "id15_content_4",
              "outputarea_id15"
            ]
          }
        },
        {
          "output_type": "display_data",
          "data": {
            "application/javascript": [
              "window[\"c1bedbde-c60d-11ea-9e0a-0242ac1c0002\"] = document.querySelector(\"#id15_content_4\");\n",
              "//# sourceURL=js_b84a01c515"
            ],
            "text/plain": [
              "<IPython.core.display.Javascript object>"
            ]
          },
          "metadata": {
            "tags": [
              "id15_content_4",
              "outputarea_id15"
            ]
          }
        },
        {
          "output_type": "display_data",
          "data": {
            "application/javascript": [
              "window[\"c1bf1c34-c60d-11ea-9e0a-0242ac1c0002\"] = google.colab.output.setActiveOutputArea(window[\"c1bedbde-c60d-11ea-9e0a-0242ac1c0002\"]);\n",
              "//# sourceURL=js_5c49785ef1"
            ],
            "text/plain": [
              "<IPython.core.display.Javascript object>"
            ]
          },
          "metadata": {
            "tags": [
              "id15_content_4",
              "outputarea_id15"
            ]
          }
        },
        {
          "output_type": "display_data",
          "data": {
            "application/javascript": [
              "window[\"c206667a-c60d-11ea-9e0a-0242ac1c0002\"] = google.colab.output.setActiveOutputArea(window[\"c1be973c-c60d-11ea-9e0a-0242ac1c0002\"]);\n",
              "//# sourceURL=js_778586648a"
            ],
            "text/plain": [
              "<IPython.core.display.Javascript object>"
            ]
          },
          "metadata": {
            "tags": [
              "id15_content_4",
              "outputarea_id15"
            ]
          }
        },
        {
          "output_type": "display_data",
          "data": {
            "application/javascript": [
              "window[\"c2083054-c60d-11ea-9e0a-0242ac1c0002\"] = google.colab.output.getActiveOutputArea();\n",
              "//# sourceURL=js_100b587396"
            ],
            "text/plain": [
              "<IPython.core.display.Javascript object>"
            ]
          },
          "metadata": {
            "tags": [
              "id15_content_6",
              "outputarea_id15"
            ]
          }
        },
        {
          "output_type": "display_data",
          "data": {
            "application/javascript": [
              "window[\"c2088270-c60d-11ea-9e0a-0242ac1c0002\"] = document.querySelector(\"#id15_content_6\");\n",
              "//# sourceURL=js_16abe8230a"
            ],
            "text/plain": [
              "<IPython.core.display.Javascript object>"
            ]
          },
          "metadata": {
            "tags": [
              "id15_content_6",
              "outputarea_id15"
            ]
          }
        },
        {
          "output_type": "display_data",
          "data": {
            "application/javascript": [
              "window[\"c208fab6-c60d-11ea-9e0a-0242ac1c0002\"] = google.colab.output.setActiveOutputArea(window[\"c2088270-c60d-11ea-9e0a-0242ac1c0002\"]);\n",
              "//# sourceURL=js_a28e9b3d13"
            ],
            "text/plain": [
              "<IPython.core.display.Javascript object>"
            ]
          },
          "metadata": {
            "tags": [
              "id15_content_6",
              "outputarea_id15"
            ]
          }
        },
        {
          "output_type": "display_data",
          "data": {
            "application/javascript": [
              "window[\"c20a6f04-c60d-11ea-9e0a-0242ac1c0002\"] = google.colab.output.setActiveOutputArea(window[\"c2083054-c60d-11ea-9e0a-0242ac1c0002\"]);\n",
              "//# sourceURL=js_5065e319d1"
            ],
            "text/plain": [
              "<IPython.core.display.Javascript object>"
            ]
          },
          "metadata": {
            "tags": [
              "id15_content_6",
              "outputarea_id15"
            ]
          }
        },
        {
          "output_type": "display_data",
          "data": {
            "application/javascript": [
              "window[\"c20c795c-c60d-11ea-9e0a-0242ac1c0002\"] = google.colab.output.getActiveOutputArea();\n",
              "//# sourceURL=js_666dd5225e"
            ],
            "text/plain": [
              "<IPython.core.display.Javascript object>"
            ]
          },
          "metadata": {
            "tags": [
              "id15_content_5",
              "outputarea_id15"
            ]
          }
        },
        {
          "output_type": "display_data",
          "data": {
            "application/javascript": [
              "window[\"c20ce202-c60d-11ea-9e0a-0242ac1c0002\"] = document.querySelector(\"#id15_content_5\");\n",
              "//# sourceURL=js_7ceaff8749"
            ],
            "text/plain": [
              "<IPython.core.display.Javascript object>"
            ]
          },
          "metadata": {
            "tags": [
              "id15_content_5",
              "outputarea_id15"
            ]
          }
        },
        {
          "output_type": "display_data",
          "data": {
            "application/javascript": [
              "window[\"c20d7398-c60d-11ea-9e0a-0242ac1c0002\"] = google.colab.output.setActiveOutputArea(window[\"c20ce202-c60d-11ea-9e0a-0242ac1c0002\"]);\n",
              "//# sourceURL=js_d8c2bd6aa6"
            ],
            "text/plain": [
              "<IPython.core.display.Javascript object>"
            ]
          },
          "metadata": {
            "tags": [
              "id15_content_5",
              "outputarea_id15"
            ]
          }
        },
        {
          "output_type": "display_data",
          "data": {
            "application/javascript": [
              "window[\"c2787706-c60d-11ea-9e0a-0242ac1c0002\"] = google.colab.output.setActiveOutputArea(window[\"c20c795c-c60d-11ea-9e0a-0242ac1c0002\"]);\n",
              "//# sourceURL=js_9225f6d574"
            ],
            "text/plain": [
              "<IPython.core.display.Javascript object>"
            ]
          },
          "metadata": {
            "tags": [
              "id15_content_5",
              "outputarea_id15"
            ]
          }
        },
        {
          "output_type": "display_data",
          "data": {
            "application/javascript": [
              "window[\"c54935f6-c60d-11ea-9e0a-0242ac1c0002\"] = google.colab.output.getActiveOutputArea();\n",
              "//# sourceURL=js_10d3941692"
            ],
            "text/plain": [
              "<IPython.core.display.Javascript object>"
            ]
          },
          "metadata": {
            "tags": [
              "id15_content_0",
              "outputarea_id15"
            ]
          }
        },
        {
          "output_type": "display_data",
          "data": {
            "application/javascript": [
              "window[\"c549766a-c60d-11ea-9e0a-0242ac1c0002\"] = document.querySelector(\"#id15_content_0\");\n",
              "//# sourceURL=js_ef70ad645e"
            ],
            "text/plain": [
              "<IPython.core.display.Javascript object>"
            ]
          },
          "metadata": {
            "tags": [
              "id15_content_0",
              "outputarea_id15"
            ]
          }
        },
        {
          "output_type": "display_data",
          "data": {
            "application/javascript": [
              "window[\"c54a021a-c60d-11ea-9e0a-0242ac1c0002\"] = google.colab.output.setActiveOutputArea(window[\"c549766a-c60d-11ea-9e0a-0242ac1c0002\"]);\n",
              "//# sourceURL=js_ec3eb074b7"
            ],
            "text/plain": [
              "<IPython.core.display.Javascript object>"
            ]
          },
          "metadata": {
            "tags": [
              "id15_content_0",
              "outputarea_id15"
            ]
          }
        },
        {
          "output_type": "display_data",
          "data": {
            "application/javascript": [
              "window[\"c54a788a-c60d-11ea-9e0a-0242ac1c0002\"] = window[\"id15\"].setSelectedTabIndex(0);\n",
              "//# sourceURL=js_927e3c3834"
            ],
            "text/plain": [
              "<IPython.core.display.Javascript object>"
            ]
          },
          "metadata": {
            "tags": [
              "id15_content_0",
              "outputarea_id15"
            ]
          }
        },
        {
          "output_type": "display_data",
          "data": {
            "application/javascript": [
              "window[\"c576b594-c60d-11ea-9e0a-0242ac1c0002\"] = google.colab.output.setActiveOutputArea(window[\"c54935f6-c60d-11ea-9e0a-0242ac1c0002\"]);\n",
              "//# sourceURL=js_1c2397e493"
            ],
            "text/plain": [
              "<IPython.core.display.Javascript object>"
            ]
          },
          "metadata": {
            "tags": [
              "id15_content_0",
              "outputarea_id15"
            ]
          }
        },
        {
          "output_type": "display_data",
          "data": {
            "application/javascript": [
              "window[\"c57949ee-c60d-11ea-9e0a-0242ac1c0002\"] = google.colab.output.getActiveOutputArea();\n",
              "//# sourceURL=js_8c5eb674f1"
            ],
            "text/plain": [
              "<IPython.core.display.Javascript object>"
            ]
          },
          "metadata": {
            "tags": [
              "id15_content_1",
              "outputarea_id15"
            ]
          }
        },
        {
          "output_type": "display_data",
          "data": {
            "application/javascript": [
              "window[\"c579d7e2-c60d-11ea-9e0a-0242ac1c0002\"] = document.querySelector(\"#id15_content_1\");\n",
              "//# sourceURL=js_27ab45bf24"
            ],
            "text/plain": [
              "<IPython.core.display.Javascript object>"
            ]
          },
          "metadata": {
            "tags": [
              "id15_content_1",
              "outputarea_id15"
            ]
          }
        },
        {
          "output_type": "display_data",
          "data": {
            "application/javascript": [
              "window[\"c57a54f6-c60d-11ea-9e0a-0242ac1c0002\"] = google.colab.output.setActiveOutputArea(window[\"c579d7e2-c60d-11ea-9e0a-0242ac1c0002\"]);\n",
              "//# sourceURL=js_6d9b7326e8"
            ],
            "text/plain": [
              "<IPython.core.display.Javascript object>"
            ]
          },
          "metadata": {
            "tags": [
              "id15_content_1",
              "outputarea_id15"
            ]
          }
        },
        {
          "output_type": "display_data",
          "data": {
            "application/javascript": [
              "window[\"c59307e4-c60d-11ea-9e0a-0242ac1c0002\"] = google.colab.output.setActiveOutputArea(window[\"c57949ee-c60d-11ea-9e0a-0242ac1c0002\"]);\n",
              "//# sourceURL=js_45cba1b0a2"
            ],
            "text/plain": [
              "<IPython.core.display.Javascript object>"
            ]
          },
          "metadata": {
            "tags": [
              "id15_content_1",
              "outputarea_id15"
            ]
          }
        },
        {
          "output_type": "display_data",
          "data": {
            "application/javascript": [
              "window[\"c595022e-c60d-11ea-9e0a-0242ac1c0002\"] = google.colab.output.getActiveOutputArea();\n",
              "//# sourceURL=js_acaeb65ea2"
            ],
            "text/plain": [
              "<IPython.core.display.Javascript object>"
            ]
          },
          "metadata": {
            "tags": [
              "id15_content_2",
              "outputarea_id15"
            ]
          }
        },
        {
          "output_type": "display_data",
          "data": {
            "application/javascript": [
              "window[\"c59588a2-c60d-11ea-9e0a-0242ac1c0002\"] = document.querySelector(\"#id15_content_2\");\n",
              "//# sourceURL=js_5ca1c58a22"
            ],
            "text/plain": [
              "<IPython.core.display.Javascript object>"
            ]
          },
          "metadata": {
            "tags": [
              "id15_content_2",
              "outputarea_id15"
            ]
          }
        },
        {
          "output_type": "display_data",
          "data": {
            "application/javascript": [
              "window[\"c595bf52-c60d-11ea-9e0a-0242ac1c0002\"] = google.colab.output.setActiveOutputArea(window[\"c59588a2-c60d-11ea-9e0a-0242ac1c0002\"]);\n",
              "//# sourceURL=js_7313777399"
            ],
            "text/plain": [
              "<IPython.core.display.Javascript object>"
            ]
          },
          "metadata": {
            "tags": [
              "id15_content_2",
              "outputarea_id15"
            ]
          }
        },
        {
          "output_type": "display_data",
          "data": {
            "application/javascript": [
              "window[\"c60bb9aa-c60d-11ea-9e0a-0242ac1c0002\"] = google.colab.output.setActiveOutputArea(window[\"c595022e-c60d-11ea-9e0a-0242ac1c0002\"]);\n",
              "//# sourceURL=js_7ca1d7c67d"
            ],
            "text/plain": [
              "<IPython.core.display.Javascript object>"
            ]
          },
          "metadata": {
            "tags": [
              "id15_content_2",
              "outputarea_id15"
            ]
          }
        },
        {
          "output_type": "display_data",
          "data": {
            "application/javascript": [
              "window[\"c60d38b6-c60d-11ea-9e0a-0242ac1c0002\"] = google.colab.output.getActiveOutputArea();\n",
              "//# sourceURL=js_3714a0883d"
            ],
            "text/plain": [
              "<IPython.core.display.Javascript object>"
            ]
          },
          "metadata": {
            "tags": [
              "id15_content_3",
              "outputarea_id15"
            ]
          }
        },
        {
          "output_type": "display_data",
          "data": {
            "application/javascript": [
              "window[\"c60d7452-c60d-11ea-9e0a-0242ac1c0002\"] = document.querySelector(\"#id15_content_3\");\n",
              "//# sourceURL=js_0a7bec36be"
            ],
            "text/plain": [
              "<IPython.core.display.Javascript object>"
            ]
          },
          "metadata": {
            "tags": [
              "id15_content_3",
              "outputarea_id15"
            ]
          }
        },
        {
          "output_type": "display_data",
          "data": {
            "application/javascript": [
              "window[\"c60dc5c4-c60d-11ea-9e0a-0242ac1c0002\"] = google.colab.output.setActiveOutputArea(window[\"c60d7452-c60d-11ea-9e0a-0242ac1c0002\"]);\n",
              "//# sourceURL=js_89fa2e3f0b"
            ],
            "text/plain": [
              "<IPython.core.display.Javascript object>"
            ]
          },
          "metadata": {
            "tags": [
              "id15_content_3",
              "outputarea_id15"
            ]
          }
        },
        {
          "output_type": "display_data",
          "data": {
            "application/javascript": [
              "window[\"c63988a8-c60d-11ea-9e0a-0242ac1c0002\"] = google.colab.output.setActiveOutputArea(window[\"c60d38b6-c60d-11ea-9e0a-0242ac1c0002\"]);\n",
              "//# sourceURL=js_4a79b0f7ac"
            ],
            "text/plain": [
              "<IPython.core.display.Javascript object>"
            ]
          },
          "metadata": {
            "tags": [
              "id15_content_3",
              "outputarea_id15"
            ]
          }
        },
        {
          "output_type": "display_data",
          "data": {
            "application/javascript": [
              "window[\"c63b43fa-c60d-11ea-9e0a-0242ac1c0002\"] = google.colab.output.getActiveOutputArea();\n",
              "//# sourceURL=js_b0eded75b5"
            ],
            "text/plain": [
              "<IPython.core.display.Javascript object>"
            ]
          },
          "metadata": {
            "tags": [
              "id15_content_4",
              "outputarea_id15"
            ]
          }
        },
        {
          "output_type": "display_data",
          "data": {
            "application/javascript": [
              "window[\"c63b9a08-c60d-11ea-9e0a-0242ac1c0002\"] = document.querySelector(\"#id15_content_4\");\n",
              "//# sourceURL=js_e2cf0187d8"
            ],
            "text/plain": [
              "<IPython.core.display.Javascript object>"
            ]
          },
          "metadata": {
            "tags": [
              "id15_content_4",
              "outputarea_id15"
            ]
          }
        },
        {
          "output_type": "display_data",
          "data": {
            "application/javascript": [
              "window[\"c63be3be-c60d-11ea-9e0a-0242ac1c0002\"] = google.colab.output.setActiveOutputArea(window[\"c63b9a08-c60d-11ea-9e0a-0242ac1c0002\"]);\n",
              "//# sourceURL=js_afe5d67fd0"
            ],
            "text/plain": [
              "<IPython.core.display.Javascript object>"
            ]
          },
          "metadata": {
            "tags": [
              "id15_content_4",
              "outputarea_id15"
            ]
          }
        },
        {
          "output_type": "display_data",
          "data": {
            "application/javascript": [
              "window[\"c686c870-c60d-11ea-9e0a-0242ac1c0002\"] = google.colab.output.setActiveOutputArea(window[\"c63b43fa-c60d-11ea-9e0a-0242ac1c0002\"]);\n",
              "//# sourceURL=js_a3234781a5"
            ],
            "text/plain": [
              "<IPython.core.display.Javascript object>"
            ]
          },
          "metadata": {
            "tags": [
              "id15_content_4",
              "outputarea_id15"
            ]
          }
        },
        {
          "output_type": "display_data",
          "data": {
            "application/javascript": [
              "window[\"c6884c86-c60d-11ea-9e0a-0242ac1c0002\"] = google.colab.output.getActiveOutputArea();\n",
              "//# sourceURL=js_e2325d7317"
            ],
            "text/plain": [
              "<IPython.core.display.Javascript object>"
            ]
          },
          "metadata": {
            "tags": [
              "id15_content_6",
              "outputarea_id15"
            ]
          }
        },
        {
          "output_type": "display_data",
          "data": {
            "application/javascript": [
              "window[\"c68887a0-c60d-11ea-9e0a-0242ac1c0002\"] = document.querySelector(\"#id15_content_6\");\n",
              "//# sourceURL=js_66ebdfe529"
            ],
            "text/plain": [
              "<IPython.core.display.Javascript object>"
            ]
          },
          "metadata": {
            "tags": [
              "id15_content_6",
              "outputarea_id15"
            ]
          }
        },
        {
          "output_type": "display_data",
          "data": {
            "application/javascript": [
              "window[\"c688cb02-c60d-11ea-9e0a-0242ac1c0002\"] = google.colab.output.setActiveOutputArea(window[\"c68887a0-c60d-11ea-9e0a-0242ac1c0002\"]);\n",
              "//# sourceURL=js_cc5c8c840a"
            ],
            "text/plain": [
              "<IPython.core.display.Javascript object>"
            ]
          },
          "metadata": {
            "tags": [
              "id15_content_6",
              "outputarea_id15"
            ]
          }
        },
        {
          "output_type": "display_data",
          "data": {
            "application/javascript": [
              "window[\"c689cb9c-c60d-11ea-9e0a-0242ac1c0002\"] = google.colab.output.setActiveOutputArea(window[\"c6884c86-c60d-11ea-9e0a-0242ac1c0002\"]);\n",
              "//# sourceURL=js_7e2bab4659"
            ],
            "text/plain": [
              "<IPython.core.display.Javascript object>"
            ]
          },
          "metadata": {
            "tags": [
              "id15_content_6",
              "outputarea_id15"
            ]
          }
        },
        {
          "output_type": "display_data",
          "data": {
            "application/javascript": [
              "window[\"c68b67d6-c60d-11ea-9e0a-0242ac1c0002\"] = google.colab.output.getActiveOutputArea();\n",
              "//# sourceURL=js_bfc6ceb032"
            ],
            "text/plain": [
              "<IPython.core.display.Javascript object>"
            ]
          },
          "metadata": {
            "tags": [
              "id15_content_5",
              "outputarea_id15"
            ]
          }
        },
        {
          "output_type": "display_data",
          "data": {
            "application/javascript": [
              "window[\"c68bb54c-c60d-11ea-9e0a-0242ac1c0002\"] = document.querySelector(\"#id15_content_5\");\n",
              "//# sourceURL=js_fc8126291d"
            ],
            "text/plain": [
              "<IPython.core.display.Javascript object>"
            ]
          },
          "metadata": {
            "tags": [
              "id15_content_5",
              "outputarea_id15"
            ]
          }
        },
        {
          "output_type": "display_data",
          "data": {
            "application/javascript": [
              "window[\"c68c02fe-c60d-11ea-9e0a-0242ac1c0002\"] = google.colab.output.setActiveOutputArea(window[\"c68bb54c-c60d-11ea-9e0a-0242ac1c0002\"]);\n",
              "//# sourceURL=js_f30ce20a68"
            ],
            "text/plain": [
              "<IPython.core.display.Javascript object>"
            ]
          },
          "metadata": {
            "tags": [
              "id15_content_5",
              "outputarea_id15"
            ]
          }
        },
        {
          "output_type": "display_data",
          "data": {
            "application/javascript": [
              "window[\"c6f72b92-c60d-11ea-9e0a-0242ac1c0002\"] = google.colab.output.setActiveOutputArea(window[\"c68b67d6-c60d-11ea-9e0a-0242ac1c0002\"]);\n",
              "//# sourceURL=js_5ebd25bc19"
            ],
            "text/plain": [
              "<IPython.core.display.Javascript object>"
            ]
          },
          "metadata": {
            "tags": [
              "id15_content_5",
              "outputarea_id15"
            ]
          }
        },
        {
          "output_type": "display_data",
          "data": {
            "application/javascript": [
              "window[\"a36e5ca8-c60e-11ea-9e0a-0242ac1c0002\"] = google.colab.output.getActiveOutputArea();\n",
              "//# sourceURL=js_54cc329d59"
            ],
            "text/plain": [
              "<IPython.core.display.Javascript object>"
            ]
          },
          "metadata": {
            "tags": [
              "id15_content_0",
              "outputarea_id15"
            ]
          }
        },
        {
          "output_type": "display_data",
          "data": {
            "application/javascript": [
              "window[\"a36eb360-c60e-11ea-9e0a-0242ac1c0002\"] = document.querySelector(\"#id15_content_0\");\n",
              "//# sourceURL=js_6fd7f98a0a"
            ],
            "text/plain": [
              "<IPython.core.display.Javascript object>"
            ]
          },
          "metadata": {
            "tags": [
              "id15_content_0",
              "outputarea_id15"
            ]
          }
        },
        {
          "output_type": "display_data",
          "data": {
            "application/javascript": [
              "window[\"a36ef82a-c60e-11ea-9e0a-0242ac1c0002\"] = google.colab.output.setActiveOutputArea(window[\"a36eb360-c60e-11ea-9e0a-0242ac1c0002\"]);\n",
              "//# sourceURL=js_2f89eab967"
            ],
            "text/plain": [
              "<IPython.core.display.Javascript object>"
            ]
          },
          "metadata": {
            "tags": [
              "id15_content_0",
              "outputarea_id15"
            ]
          }
        },
        {
          "output_type": "display_data",
          "data": {
            "application/javascript": [
              "window[\"a36f4564-c60e-11ea-9e0a-0242ac1c0002\"] = window[\"id15\"].setSelectedTabIndex(0);\n",
              "//# sourceURL=js_eea060f5da"
            ],
            "text/plain": [
              "<IPython.core.display.Javascript object>"
            ]
          },
          "metadata": {
            "tags": [
              "id15_content_0",
              "outputarea_id15"
            ]
          }
        },
        {
          "output_type": "display_data",
          "data": {
            "application/javascript": [
              "window[\"a39c0ee6-c60e-11ea-9e0a-0242ac1c0002\"] = google.colab.output.setActiveOutputArea(window[\"a36e5ca8-c60e-11ea-9e0a-0242ac1c0002\"]);\n",
              "//# sourceURL=js_d47a0f6a63"
            ],
            "text/plain": [
              "<IPython.core.display.Javascript object>"
            ]
          },
          "metadata": {
            "tags": [
              "id15_content_0",
              "outputarea_id15"
            ]
          }
        },
        {
          "output_type": "display_data",
          "data": {
            "application/javascript": [
              "window[\"a39d405e-c60e-11ea-9e0a-0242ac1c0002\"] = google.colab.output.getActiveOutputArea();\n",
              "//# sourceURL=js_76653f8275"
            ],
            "text/plain": [
              "<IPython.core.display.Javascript object>"
            ]
          },
          "metadata": {
            "tags": [
              "id15_content_1",
              "outputarea_id15"
            ]
          }
        },
        {
          "output_type": "display_data",
          "data": {
            "application/javascript": [
              "window[\"a39d77a4-c60e-11ea-9e0a-0242ac1c0002\"] = document.querySelector(\"#id15_content_1\");\n",
              "//# sourceURL=js_ef444fb25c"
            ],
            "text/plain": [
              "<IPython.core.display.Javascript object>"
            ]
          },
          "metadata": {
            "tags": [
              "id15_content_1",
              "outputarea_id15"
            ]
          }
        },
        {
          "output_type": "display_data",
          "data": {
            "application/javascript": [
              "window[\"a39dae72-c60e-11ea-9e0a-0242ac1c0002\"] = google.colab.output.setActiveOutputArea(window[\"a39d77a4-c60e-11ea-9e0a-0242ac1c0002\"]);\n",
              "//# sourceURL=js_48019c7593"
            ],
            "text/plain": [
              "<IPython.core.display.Javascript object>"
            ]
          },
          "metadata": {
            "tags": [
              "id15_content_1",
              "outputarea_id15"
            ]
          }
        },
        {
          "output_type": "display_data",
          "data": {
            "application/javascript": [
              "window[\"a3b706ba-c60e-11ea-9e0a-0242ac1c0002\"] = google.colab.output.setActiveOutputArea(window[\"a39d405e-c60e-11ea-9e0a-0242ac1c0002\"]);\n",
              "//# sourceURL=js_31eb2b0fae"
            ],
            "text/plain": [
              "<IPython.core.display.Javascript object>"
            ]
          },
          "metadata": {
            "tags": [
              "id15_content_1",
              "outputarea_id15"
            ]
          }
        },
        {
          "output_type": "display_data",
          "data": {
            "application/javascript": [
              "window[\"a3b86dca-c60e-11ea-9e0a-0242ac1c0002\"] = google.colab.output.getActiveOutputArea();\n",
              "//# sourceURL=js_82da1c74e8"
            ],
            "text/plain": [
              "<IPython.core.display.Javascript object>"
            ]
          },
          "metadata": {
            "tags": [
              "id15_content_2",
              "outputarea_id15"
            ]
          }
        },
        {
          "output_type": "display_data",
          "data": {
            "application/javascript": [
              "window[\"a3b8b938-c60e-11ea-9e0a-0242ac1c0002\"] = document.querySelector(\"#id15_content_2\");\n",
              "//# sourceURL=js_fcb9b74a5b"
            ],
            "text/plain": [
              "<IPython.core.display.Javascript object>"
            ]
          },
          "metadata": {
            "tags": [
              "id15_content_2",
              "outputarea_id15"
            ]
          }
        },
        {
          "output_type": "display_data",
          "data": {
            "application/javascript": [
              "window[\"a3b91888-c60e-11ea-9e0a-0242ac1c0002\"] = google.colab.output.setActiveOutputArea(window[\"a3b8b938-c60e-11ea-9e0a-0242ac1c0002\"]);\n",
              "//# sourceURL=js_2a07df85aa"
            ],
            "text/plain": [
              "<IPython.core.display.Javascript object>"
            ]
          },
          "metadata": {
            "tags": [
              "id15_content_2",
              "outputarea_id15"
            ]
          }
        },
        {
          "output_type": "display_data",
          "data": {
            "application/javascript": [
              "window[\"a42f1d80-c60e-11ea-9e0a-0242ac1c0002\"] = google.colab.output.setActiveOutputArea(window[\"a3b86dca-c60e-11ea-9e0a-0242ac1c0002\"]);\n",
              "//# sourceURL=js_06201d9cc7"
            ],
            "text/plain": [
              "<IPython.core.display.Javascript object>"
            ]
          },
          "metadata": {
            "tags": [
              "id15_content_2",
              "outputarea_id15"
            ]
          }
        },
        {
          "output_type": "display_data",
          "data": {
            "application/javascript": [
              "window[\"a4329afa-c60e-11ea-9e0a-0242ac1c0002\"] = google.colab.output.getActiveOutputArea();\n",
              "//# sourceURL=js_7e513dd7d3"
            ],
            "text/plain": [
              "<IPython.core.display.Javascript object>"
            ]
          },
          "metadata": {
            "tags": [
              "id15_content_3",
              "outputarea_id15"
            ]
          }
        },
        {
          "output_type": "display_data",
          "data": {
            "application/javascript": [
              "window[\"a432ea3c-c60e-11ea-9e0a-0242ac1c0002\"] = document.querySelector(\"#id15_content_3\");\n",
              "//# sourceURL=js_a122db8e9e"
            ],
            "text/plain": [
              "<IPython.core.display.Javascript object>"
            ]
          },
          "metadata": {
            "tags": [
              "id15_content_3",
              "outputarea_id15"
            ]
          }
        },
        {
          "output_type": "display_data",
          "data": {
            "application/javascript": [
              "window[\"a4333f14-c60e-11ea-9e0a-0242ac1c0002\"] = google.colab.output.setActiveOutputArea(window[\"a432ea3c-c60e-11ea-9e0a-0242ac1c0002\"]);\n",
              "//# sourceURL=js_458b3e284b"
            ],
            "text/plain": [
              "<IPython.core.display.Javascript object>"
            ]
          },
          "metadata": {
            "tags": [
              "id15_content_3",
              "outputarea_id15"
            ]
          }
        },
        {
          "output_type": "display_data",
          "data": {
            "application/javascript": [
              "window[\"a479c178-c60e-11ea-9e0a-0242ac1c0002\"] = google.colab.output.setActiveOutputArea(window[\"a4329afa-c60e-11ea-9e0a-0242ac1c0002\"]);\n",
              "//# sourceURL=js_57704a6f4c"
            ],
            "text/plain": [
              "<IPython.core.display.Javascript object>"
            ]
          },
          "metadata": {
            "tags": [
              "id15_content_3",
              "outputarea_id15"
            ]
          }
        },
        {
          "output_type": "display_data",
          "data": {
            "application/javascript": [
              "window[\"a47bc13a-c60e-11ea-9e0a-0242ac1c0002\"] = google.colab.output.getActiveOutputArea();\n",
              "//# sourceURL=js_c78c70f963"
            ],
            "text/plain": [
              "<IPython.core.display.Javascript object>"
            ]
          },
          "metadata": {
            "tags": [
              "id15_content_4",
              "outputarea_id15"
            ]
          }
        },
        {
          "output_type": "display_data",
          "data": {
            "application/javascript": [
              "window[\"a47bfe3e-c60e-11ea-9e0a-0242ac1c0002\"] = document.querySelector(\"#id15_content_4\");\n",
              "//# sourceURL=js_fdcdaad25c"
            ],
            "text/plain": [
              "<IPython.core.display.Javascript object>"
            ]
          },
          "metadata": {
            "tags": [
              "id15_content_4",
              "outputarea_id15"
            ]
          }
        },
        {
          "output_type": "display_data",
          "data": {
            "application/javascript": [
              "window[\"a47c308e-c60e-11ea-9e0a-0242ac1c0002\"] = google.colab.output.setActiveOutputArea(window[\"a47bfe3e-c60e-11ea-9e0a-0242ac1c0002\"]);\n",
              "//# sourceURL=js_860c776fdf"
            ],
            "text/plain": [
              "<IPython.core.display.Javascript object>"
            ]
          },
          "metadata": {
            "tags": [
              "id15_content_4",
              "outputarea_id15"
            ]
          }
        },
        {
          "output_type": "display_data",
          "data": {
            "application/javascript": [
              "window[\"a4a8ad4e-c60e-11ea-9e0a-0242ac1c0002\"] = google.colab.output.setActiveOutputArea(window[\"a47bc13a-c60e-11ea-9e0a-0242ac1c0002\"]);\n",
              "//# sourceURL=js_8beddeca6b"
            ],
            "text/plain": [
              "<IPython.core.display.Javascript object>"
            ]
          },
          "metadata": {
            "tags": [
              "id15_content_4",
              "outputarea_id15"
            ]
          }
        },
        {
          "output_type": "display_data",
          "data": {
            "application/javascript": [
              "window[\"a4a9ecb8-c60e-11ea-9e0a-0242ac1c0002\"] = google.colab.output.getActiveOutputArea();\n",
              "//# sourceURL=js_be34279976"
            ],
            "text/plain": [
              "<IPython.core.display.Javascript object>"
            ]
          },
          "metadata": {
            "tags": [
              "id15_content_6",
              "outputarea_id15"
            ]
          }
        },
        {
          "output_type": "display_data",
          "data": {
            "application/javascript": [
              "window[\"a4aa3754-c60e-11ea-9e0a-0242ac1c0002\"] = document.querySelector(\"#id15_content_6\");\n",
              "//# sourceURL=js_470ce1af2c"
            ],
            "text/plain": [
              "<IPython.core.display.Javascript object>"
            ]
          },
          "metadata": {
            "tags": [
              "id15_content_6",
              "outputarea_id15"
            ]
          }
        },
        {
          "output_type": "display_data",
          "data": {
            "application/javascript": [
              "window[\"a4aa7c46-c60e-11ea-9e0a-0242ac1c0002\"] = google.colab.output.setActiveOutputArea(window[\"a4aa3754-c60e-11ea-9e0a-0242ac1c0002\"]);\n",
              "//# sourceURL=js_b32545b079"
            ],
            "text/plain": [
              "<IPython.core.display.Javascript object>"
            ]
          },
          "metadata": {
            "tags": [
              "id15_content_6",
              "outputarea_id15"
            ]
          }
        },
        {
          "output_type": "display_data",
          "data": {
            "application/javascript": [
              "window[\"a4ab52b0-c60e-11ea-9e0a-0242ac1c0002\"] = google.colab.output.setActiveOutputArea(window[\"a4a9ecb8-c60e-11ea-9e0a-0242ac1c0002\"]);\n",
              "//# sourceURL=js_01b4ce978c"
            ],
            "text/plain": [
              "<IPython.core.display.Javascript object>"
            ]
          },
          "metadata": {
            "tags": [
              "id15_content_6",
              "outputarea_id15"
            ]
          }
        },
        {
          "output_type": "display_data",
          "data": {
            "application/javascript": [
              "window[\"a4ac6e48-c60e-11ea-9e0a-0242ac1c0002\"] = google.colab.output.getActiveOutputArea();\n",
              "//# sourceURL=js_7c01db2fcd"
            ],
            "text/plain": [
              "<IPython.core.display.Javascript object>"
            ]
          },
          "metadata": {
            "tags": [
              "id15_content_5",
              "outputarea_id15"
            ]
          }
        },
        {
          "output_type": "display_data",
          "data": {
            "application/javascript": [
              "window[\"a4acb718-c60e-11ea-9e0a-0242ac1c0002\"] = document.querySelector(\"#id15_content_5\");\n",
              "//# sourceURL=js_3fc335304b"
            ],
            "text/plain": [
              "<IPython.core.display.Javascript object>"
            ]
          },
          "metadata": {
            "tags": [
              "id15_content_5",
              "outputarea_id15"
            ]
          }
        },
        {
          "output_type": "display_data",
          "data": {
            "application/javascript": [
              "window[\"a4acfa70-c60e-11ea-9e0a-0242ac1c0002\"] = google.colab.output.setActiveOutputArea(window[\"a4acb718-c60e-11ea-9e0a-0242ac1c0002\"]);\n",
              "//# sourceURL=js_33964355a4"
            ],
            "text/plain": [
              "<IPython.core.display.Javascript object>"
            ]
          },
          "metadata": {
            "tags": [
              "id15_content_5",
              "outputarea_id15"
            ]
          }
        },
        {
          "output_type": "display_data",
          "data": {
            "application/javascript": [
              "window[\"a524890a-c60e-11ea-9e0a-0242ac1c0002\"] = google.colab.output.setActiveOutputArea(window[\"a4ac6e48-c60e-11ea-9e0a-0242ac1c0002\"]);\n",
              "//# sourceURL=js_7ed592b62a"
            ],
            "text/plain": [
              "<IPython.core.display.Javascript object>"
            ]
          },
          "metadata": {
            "tags": [
              "id15_content_5",
              "outputarea_id15"
            ]
          }
        },
        {
          "output_type": "display_data",
          "data": {
            "application/javascript": [
              "window[\"ad57fcb0-c60e-11ea-9e0a-0242ac1c0002\"] = google.colab.output.getActiveOutputArea();\n",
              "//# sourceURL=js_a26c7c5af7"
            ],
            "text/plain": [
              "<IPython.core.display.Javascript object>"
            ]
          },
          "metadata": {
            "tags": [
              "id15_content_0",
              "outputarea_id15"
            ]
          }
        },
        {
          "output_type": "display_data",
          "data": {
            "application/javascript": [
              "window[\"ad5870dc-c60e-11ea-9e0a-0242ac1c0002\"] = document.querySelector(\"#id15_content_0\");\n",
              "//# sourceURL=js_d2eb09c535"
            ],
            "text/plain": [
              "<IPython.core.display.Javascript object>"
            ]
          },
          "metadata": {
            "tags": [
              "id15_content_0",
              "outputarea_id15"
            ]
          }
        },
        {
          "output_type": "display_data",
          "data": {
            "application/javascript": [
              "window[\"ad58bb3c-c60e-11ea-9e0a-0242ac1c0002\"] = google.colab.output.setActiveOutputArea(window[\"ad5870dc-c60e-11ea-9e0a-0242ac1c0002\"]);\n",
              "//# sourceURL=js_76de702a9e"
            ],
            "text/plain": [
              "<IPython.core.display.Javascript object>"
            ]
          },
          "metadata": {
            "tags": [
              "id15_content_0",
              "outputarea_id15"
            ]
          }
        },
        {
          "output_type": "display_data",
          "data": {
            "application/javascript": [
              "window[\"ad591320-c60e-11ea-9e0a-0242ac1c0002\"] = window[\"id15\"].setSelectedTabIndex(0);\n",
              "//# sourceURL=js_f0c78ad16d"
            ],
            "text/plain": [
              "<IPython.core.display.Javascript object>"
            ]
          },
          "metadata": {
            "tags": [
              "id15_content_0",
              "outputarea_id15"
            ]
          }
        },
        {
          "output_type": "display_data",
          "data": {
            "application/javascript": [
              "window[\"ad87bbbc-c60e-11ea-9e0a-0242ac1c0002\"] = google.colab.output.setActiveOutputArea(window[\"ad57fcb0-c60e-11ea-9e0a-0242ac1c0002\"]);\n",
              "//# sourceURL=js_6ef37dfeff"
            ],
            "text/plain": [
              "<IPython.core.display.Javascript object>"
            ]
          },
          "metadata": {
            "tags": [
              "id15_content_0",
              "outputarea_id15"
            ]
          }
        },
        {
          "output_type": "display_data",
          "data": {
            "application/javascript": [
              "window[\"ad88cd7c-c60e-11ea-9e0a-0242ac1c0002\"] = google.colab.output.getActiveOutputArea();\n",
              "//# sourceURL=js_68ce8e8871"
            ],
            "text/plain": [
              "<IPython.core.display.Javascript object>"
            ]
          },
          "metadata": {
            "tags": [
              "id15_content_1",
              "outputarea_id15"
            ]
          }
        },
        {
          "output_type": "display_data",
          "data": {
            "application/javascript": [
              "window[\"ad89e23e-c60e-11ea-9e0a-0242ac1c0002\"] = document.querySelector(\"#id15_content_1\");\n",
              "//# sourceURL=js_67f251462f"
            ],
            "text/plain": [
              "<IPython.core.display.Javascript object>"
            ]
          },
          "metadata": {
            "tags": [
              "id15_content_1",
              "outputarea_id15"
            ]
          }
        },
        {
          "output_type": "display_data",
          "data": {
            "application/javascript": [
              "window[\"ad8a3b62-c60e-11ea-9e0a-0242ac1c0002\"] = google.colab.output.setActiveOutputArea(window[\"ad89e23e-c60e-11ea-9e0a-0242ac1c0002\"]);\n",
              "//# sourceURL=js_2962f70cbb"
            ],
            "text/plain": [
              "<IPython.core.display.Javascript object>"
            ]
          },
          "metadata": {
            "tags": [
              "id15_content_1",
              "outputarea_id15"
            ]
          }
        },
        {
          "output_type": "display_data",
          "data": {
            "application/javascript": [
              "window[\"ada5e8ee-c60e-11ea-9e0a-0242ac1c0002\"] = google.colab.output.setActiveOutputArea(window[\"ad88cd7c-c60e-11ea-9e0a-0242ac1c0002\"]);\n",
              "//# sourceURL=js_3289245f0e"
            ],
            "text/plain": [
              "<IPython.core.display.Javascript object>"
            ]
          },
          "metadata": {
            "tags": [
              "id15_content_1",
              "outputarea_id15"
            ]
          }
        },
        {
          "output_type": "display_data",
          "data": {
            "application/javascript": [
              "window[\"ada79d74-c60e-11ea-9e0a-0242ac1c0002\"] = google.colab.output.getActiveOutputArea();\n",
              "//# sourceURL=js_98148703c8"
            ],
            "text/plain": [
              "<IPython.core.display.Javascript object>"
            ]
          },
          "metadata": {
            "tags": [
              "id15_content_2",
              "outputarea_id15"
            ]
          }
        },
        {
          "output_type": "display_data",
          "data": {
            "application/javascript": [
              "window[\"ada7e4f0-c60e-11ea-9e0a-0242ac1c0002\"] = document.querySelector(\"#id15_content_2\");\n",
              "//# sourceURL=js_1070e61a1f"
            ],
            "text/plain": [
              "<IPython.core.display.Javascript object>"
            ]
          },
          "metadata": {
            "tags": [
              "id15_content_2",
              "outputarea_id15"
            ]
          }
        },
        {
          "output_type": "display_data",
          "data": {
            "application/javascript": [
              "window[\"ada83266-c60e-11ea-9e0a-0242ac1c0002\"] = google.colab.output.setActiveOutputArea(window[\"ada7e4f0-c60e-11ea-9e0a-0242ac1c0002\"]);\n",
              "//# sourceURL=js_a21454837b"
            ],
            "text/plain": [
              "<IPython.core.display.Javascript object>"
            ]
          },
          "metadata": {
            "tags": [
              "id15_content_2",
              "outputarea_id15"
            ]
          }
        },
        {
          "output_type": "display_data",
          "data": {
            "application/javascript": [
              "window[\"b005d356-c60e-11ea-9e0a-0242ac1c0002\"] = google.colab.output.setActiveOutputArea(window[\"ada79d74-c60e-11ea-9e0a-0242ac1c0002\"]);\n",
              "//# sourceURL=js_be6ee42b72"
            ],
            "text/plain": [
              "<IPython.core.display.Javascript object>"
            ]
          },
          "metadata": {
            "tags": [
              "id15_content_2",
              "outputarea_id15"
            ]
          }
        },
        {
          "output_type": "display_data",
          "data": {
            "application/javascript": [
              "window[\"b006b26c-c60e-11ea-9e0a-0242ac1c0002\"] = google.colab.output.getActiveOutputArea();\n",
              "//# sourceURL=js_e79419eb65"
            ],
            "text/plain": [
              "<IPython.core.display.Javascript object>"
            ]
          },
          "metadata": {
            "tags": [
              "id15_content_3",
              "outputarea_id15"
            ]
          }
        },
        {
          "output_type": "display_data",
          "data": {
            "application/javascript": [
              "window[\"b006e764-c60e-11ea-9e0a-0242ac1c0002\"] = document.querySelector(\"#id15_content_3\");\n",
              "//# sourceURL=js_272980a081"
            ],
            "text/plain": [
              "<IPython.core.display.Javascript object>"
            ]
          },
          "metadata": {
            "tags": [
              "id15_content_3",
              "outputarea_id15"
            ]
          }
        },
        {
          "output_type": "display_data",
          "data": {
            "application/javascript": [
              "window[\"b0072148-c60e-11ea-9e0a-0242ac1c0002\"] = google.colab.output.setActiveOutputArea(window[\"b006e764-c60e-11ea-9e0a-0242ac1c0002\"]);\n",
              "//# sourceURL=js_6513ef7a3e"
            ],
            "text/plain": [
              "<IPython.core.display.Javascript object>"
            ]
          },
          "metadata": {
            "tags": [
              "id15_content_3",
              "outputarea_id15"
            ]
          }
        },
        {
          "output_type": "display_data",
          "data": {
            "application/javascript": [
              "window[\"b03927f6-c60e-11ea-9e0a-0242ac1c0002\"] = google.colab.output.setActiveOutputArea(window[\"b006b26c-c60e-11ea-9e0a-0242ac1c0002\"]);\n",
              "//# sourceURL=js_264ac62c2f"
            ],
            "text/plain": [
              "<IPython.core.display.Javascript object>"
            ]
          },
          "metadata": {
            "tags": [
              "id15_content_3",
              "outputarea_id15"
            ]
          }
        },
        {
          "output_type": "display_data",
          "data": {
            "application/javascript": [
              "window[\"b03addf8-c60e-11ea-9e0a-0242ac1c0002\"] = google.colab.output.getActiveOutputArea();\n",
              "//# sourceURL=js_0d51e7d201"
            ],
            "text/plain": [
              "<IPython.core.display.Javascript object>"
            ]
          },
          "metadata": {
            "tags": [
              "id15_content_4",
              "outputarea_id15"
            ]
          }
        },
        {
          "output_type": "display_data",
          "data": {
            "application/javascript": [
              "window[\"b03b2e70-c60e-11ea-9e0a-0242ac1c0002\"] = document.querySelector(\"#id15_content_4\");\n",
              "//# sourceURL=js_48d01c806f"
            ],
            "text/plain": [
              "<IPython.core.display.Javascript object>"
            ]
          },
          "metadata": {
            "tags": [
              "id15_content_4",
              "outputarea_id15"
            ]
          }
        },
        {
          "output_type": "display_data",
          "data": {
            "application/javascript": [
              "window[\"b03b69d0-c60e-11ea-9e0a-0242ac1c0002\"] = google.colab.output.setActiveOutputArea(window[\"b03b2e70-c60e-11ea-9e0a-0242ac1c0002\"]);\n",
              "//# sourceURL=js_3d097bebde"
            ],
            "text/plain": [
              "<IPython.core.display.Javascript object>"
            ]
          },
          "metadata": {
            "tags": [
              "id15_content_4",
              "outputarea_id15"
            ]
          }
        },
        {
          "output_type": "display_data",
          "data": {
            "application/javascript": [
              "window[\"b0ad8042-c60e-11ea-9e0a-0242ac1c0002\"] = google.colab.output.setActiveOutputArea(window[\"b03addf8-c60e-11ea-9e0a-0242ac1c0002\"]);\n",
              "//# sourceURL=js_637c1d9d86"
            ],
            "text/plain": [
              "<IPython.core.display.Javascript object>"
            ]
          },
          "metadata": {
            "tags": [
              "id15_content_4",
              "outputarea_id15"
            ]
          }
        },
        {
          "output_type": "display_data",
          "data": {
            "application/javascript": [
              "window[\"b0af5336-c60e-11ea-9e0a-0242ac1c0002\"] = google.colab.output.getActiveOutputArea();\n",
              "//# sourceURL=js_411a9e4952"
            ],
            "text/plain": [
              "<IPython.core.display.Javascript object>"
            ]
          },
          "metadata": {
            "tags": [
              "id15_content_6",
              "outputarea_id15"
            ]
          }
        },
        {
          "output_type": "display_data",
          "data": {
            "application/javascript": [
              "window[\"b0af8752-c60e-11ea-9e0a-0242ac1c0002\"] = document.querySelector(\"#id15_content_6\");\n",
              "//# sourceURL=js_78a1c5b2cc"
            ],
            "text/plain": [
              "<IPython.core.display.Javascript object>"
            ]
          },
          "metadata": {
            "tags": [
              "id15_content_6",
              "outputarea_id15"
            ]
          }
        },
        {
          "output_type": "display_data",
          "data": {
            "application/javascript": [
              "window[\"b0afdf0e-c60e-11ea-9e0a-0242ac1c0002\"] = google.colab.output.setActiveOutputArea(window[\"b0af8752-c60e-11ea-9e0a-0242ac1c0002\"]);\n",
              "//# sourceURL=js_4601bdcb08"
            ],
            "text/plain": [
              "<IPython.core.display.Javascript object>"
            ]
          },
          "metadata": {
            "tags": [
              "id15_content_6",
              "outputarea_id15"
            ]
          }
        },
        {
          "output_type": "display_data",
          "data": {
            "application/javascript": [
              "window[\"b0b0e0a2-c60e-11ea-9e0a-0242ac1c0002\"] = google.colab.output.setActiveOutputArea(window[\"b0af5336-c60e-11ea-9e0a-0242ac1c0002\"]);\n",
              "//# sourceURL=js_e1c025d874"
            ],
            "text/plain": [
              "<IPython.core.display.Javascript object>"
            ]
          },
          "metadata": {
            "tags": [
              "id15_content_6",
              "outputarea_id15"
            ]
          }
        },
        {
          "output_type": "display_data",
          "data": {
            "application/javascript": [
              "window[\"b0b228ea-c60e-11ea-9e0a-0242ac1c0002\"] = google.colab.output.getActiveOutputArea();\n",
              "//# sourceURL=js_3bef3a8725"
            ],
            "text/plain": [
              "<IPython.core.display.Javascript object>"
            ]
          },
          "metadata": {
            "tags": [
              "id15_content_5",
              "outputarea_id15"
            ]
          }
        },
        {
          "output_type": "display_data",
          "data": {
            "application/javascript": [
              "window[\"b0b27c28-c60e-11ea-9e0a-0242ac1c0002\"] = document.querySelector(\"#id15_content_5\");\n",
              "//# sourceURL=js_ef87a5969a"
            ],
            "text/plain": [
              "<IPython.core.display.Javascript object>"
            ]
          },
          "metadata": {
            "tags": [
              "id15_content_5",
              "outputarea_id15"
            ]
          }
        },
        {
          "output_type": "display_data",
          "data": {
            "application/javascript": [
              "window[\"b0b2c4e4-c60e-11ea-9e0a-0242ac1c0002\"] = google.colab.output.setActiveOutputArea(window[\"b0b27c28-c60e-11ea-9e0a-0242ac1c0002\"]);\n",
              "//# sourceURL=js_9dd932a334"
            ],
            "text/plain": [
              "<IPython.core.display.Javascript object>"
            ]
          },
          "metadata": {
            "tags": [
              "id15_content_5",
              "outputarea_id15"
            ]
          }
        },
        {
          "output_type": "display_data",
          "data": {
            "application/javascript": [
              "window[\"b2d5f160-c60e-11ea-9e0a-0242ac1c0002\"] = google.colab.output.setActiveOutputArea(window[\"b0b228ea-c60e-11ea-9e0a-0242ac1c0002\"]);\n",
              "//# sourceURL=js_7c9b3a1035"
            ],
            "text/plain": [
              "<IPython.core.display.Javascript object>"
            ]
          },
          "metadata": {
            "tags": [
              "id15_content_5",
              "outputarea_id15"
            ]
          }
        },
        {
          "output_type": "display_data",
          "data": {
            "application/javascript": [
              "window[\"d8153a62-c60e-11ea-9e0a-0242ac1c0002\"] = google.colab.output.getActiveOutputArea();\n",
              "//# sourceURL=js_a8228feb73"
            ],
            "text/plain": [
              "<IPython.core.display.Javascript object>"
            ]
          },
          "metadata": {
            "tags": [
              "id15_content_0",
              "outputarea_id15"
            ]
          }
        },
        {
          "output_type": "display_data",
          "data": {
            "application/javascript": [
              "window[\"d815c3ec-c60e-11ea-9e0a-0242ac1c0002\"] = document.querySelector(\"#id15_content_0\");\n",
              "//# sourceURL=js_30190d896a"
            ],
            "text/plain": [
              "<IPython.core.display.Javascript object>"
            ]
          },
          "metadata": {
            "tags": [
              "id15_content_0",
              "outputarea_id15"
            ]
          }
        },
        {
          "output_type": "display_data",
          "data": {
            "application/javascript": [
              "window[\"d815fee8-c60e-11ea-9e0a-0242ac1c0002\"] = google.colab.output.setActiveOutputArea(window[\"d815c3ec-c60e-11ea-9e0a-0242ac1c0002\"]);\n",
              "//# sourceURL=js_e32ebc3e51"
            ],
            "text/plain": [
              "<IPython.core.display.Javascript object>"
            ]
          },
          "metadata": {
            "tags": [
              "id15_content_0",
              "outputarea_id15"
            ]
          }
        },
        {
          "output_type": "display_data",
          "data": {
            "application/javascript": [
              "window[\"d81632aa-c60e-11ea-9e0a-0242ac1c0002\"] = window[\"id15\"].setSelectedTabIndex(0);\n",
              "//# sourceURL=js_579fda2702"
            ],
            "text/plain": [
              "<IPython.core.display.Javascript object>"
            ]
          },
          "metadata": {
            "tags": [
              "id15_content_0",
              "outputarea_id15"
            ]
          }
        },
        {
          "output_type": "display_data",
          "data": {
            "text/html": [
              "<html>\n",
              "<head><meta charset=\"utf-8\" /></head>\n",
              "<body>\n",
              "    <div>\n",
              "            <script src=\"https://cdnjs.cloudflare.com/ajax/libs/mathjax/2.7.5/MathJax.js?config=TeX-AMS-MML_SVG\"></script><script type=\"text/javascript\">if (window.MathJax) {MathJax.Hub.Config({SVG: {font: \"STIX-Web\"}});}</script>\n",
              "                <script type=\"text/javascript\">window.PlotlyConfig = {MathJaxConfig: 'local'};</script>\n",
              "        <script src=\"https://cdn.plot.ly/plotly-latest.min.js\"></script>    \n",
              "            <div id=\"e3329cae-8bdc-4d5e-b5d5-8517036a8dd0\" class=\"plotly-graph-div\" style=\"height:525px; width:100%;\"></div>\n",
              "            <script type=\"text/javascript\">\n",
              "                \n",
              "                    window.PLOTLYENV=window.PLOTLYENV || {};\n",
              "                    \n",
              "                if (document.getElementById(\"e3329cae-8bdc-4d5e-b5d5-8517036a8dd0\")) {\n",
              "                    Plotly.newPlot(\n",
              "                        'e3329cae-8bdc-4d5e-b5d5-8517036a8dd0',\n",
              "                        [{\"hoverlabel\": {\"namelength\": 0}, \"hovertemplate\": \"Iteration=%{x}<br>Signed ee=%{y}<br>count=%{marker.size}\", \"legendgroup\": \"\", \"marker\": {\"color\": \"#636efa\", \"size\": [7, 4, 3, 6, 4, 4, 2, 1, 1, 5, 4, 3, 1, 1, 1, 1, 1, 6, 5, 4, 3, 1, 1, 1, 1, 6, 6, 4, 4, 2, 1, 1, 1, 1, 10, 7, 3, 2, 2, 2, 2, 1, 1, 1, 9, 7, 5, 3, 2, 2, 1, 1, 1, 7, 7, 5, 3, 2, 2, 2, 2, 1, 10, 9, 5, 2, 1, 1, 1, 1, 1, 1, 7, 5, 2, 1, 1, 1, 1, 1, 1, 1, 1, 1, 1, 1, 5, 3, 3, 3, 2, 1, 1, 1, 1, 1, 1, 1, 1, 1, 1, 1, 6, 3, 3, 2, 2, 2, 1, 1, 1, 1, 1, 1, 1, 1, 1, 1, 7, 6, 5, 5, 2, 2, 1, 1, 1, 1, 1, 1, 1, 1, 7, 4, 3, 2, 2, 2, 2, 1, 1, 1, 1, 1, 1, 1, 1, 1, 1, 1, 1, 1, 6, 6, 4, 3, 2, 2, 2, 2, 1, 1, 1, 1, 1, 1, 1, 1, 1, 1, 1, 6, 5, 4, 2, 2, 1, 1, 1, 1, 1, 1, 1, 1, 1, 1, 1, 1, 1, 1, 9, 5, 2, 2, 2, 2, 1, 1, 1, 1, 1, 1, 1, 1, 1, 1, 1, 1, 1, 1, 6, 5, 4, 3, 2, 1, 1, 1, 1, 1, 1, 1, 1, 1, 1, 1, 1, 7, 5, 5, 2, 2, 1, 1, 1, 1, 1, 1, 1, 1, 1, 1, 1, 1, 1, 1, 1, 9, 8, 4, 3, 2, 1, 1, 1, 1, 1, 1, 1, 1, 1, 7, 5, 4, 2, 2, 1, 1, 1, 1, 1, 1, 1, 1, 1, 1, 8, 8, 4, 2, 1, 1, 1, 1, 1, 1, 1, 1, 1, 1, 1, 1, 1, 6, 6, 5, 2, 2, 2, 1, 1, 1, 1, 1, 1, 1, 1, 1, 1, 7, 6, 3, 2, 2, 2, 1, 1, 1, 1, 1, 1, 1, 1, 1, 1, 5, 5, 4, 3, 1, 1, 1, 1, 1, 1, 1, 1, 1, 1, 1, 1, 1, 1, 1, 7, 5, 2, 2, 2, 2, 1, 1, 1, 1, 1, 1, 1, 1, 1, 1, 1, 7, 6, 4, 4, 1, 1, 1, 1, 1, 1, 1, 1, 1, 1, 1, 1, 6, 6, 4, 3, 2, 1, 1, 1, 1, 1, 1, 1, 1, 1, 1, 1, 1, 1, 1, 6, 5, 5, 4, 1, 1, 1, 1, 1, 1, 1, 1, 1, 1, 1, 1, 1, 1, 1, 1, 8, 6, 2, 2, 2, 1, 1, 1, 1, 1, 1, 1, 1, 1, 1, 1, 1, 1, 1, 1, 9, 7, 3, 3, 2, 2, 1, 1, 1, 1, 1, 1, 1, 1, 1, 1, 1, 1, 7, 6, 5, 3, 2, 1, 1, 1, 1, 1, 1, 1, 1, 1, 1, 1, 1, 1, 1, 1, 11, 5, 4, 2, 1, 1, 1, 1, 1, 1, 1, 1, 1, 1, 1, 1, 1, 1, 1, 1, 9, 6, 4, 2, 2, 1, 1, 1, 1, 1, 1, 1, 1, 1, 1, 1, 1, 1, 11, 8, 2, 1, 1, 1, 1, 1, 1, 1, 1, 1, 1, 1, 1, 1, 1, 1, 1, 1, 1, 8, 4, 2, 2, 1, 1, 1, 1, 1, 1, 1, 1, 1, 1, 1, 1, 1, 1, 1, 1, 1, 1, 6, 4, 3, 2, 2, 2, 1, 1, 1, 1, 1, 1, 1, 1, 1, 1, 1, 1, 1, 1, 1, 6, 6, 4, 3, 2, 1, 1, 1, 1, 1, 1, 1, 1, 1, 1, 1, 1, 1, 1, 1, 1, 1, 10, 9, 3, 3, 2, 1, 1, 1, 1, 1, 1, 1, 1, 1, 1, 1, 1, 1, 1, 8, 4, 3, 2, 1, 1, 1, 1, 1, 1, 1, 1, 1, 1, 1, 1, 1, 1, 1, 1, 1, 1, 12, 3, 2, 2, 1, 1, 1, 1, 1, 1, 1, 1, 1, 1, 1, 1, 1, 1, 1, 8, 3, 3, 2, 1, 1, 1, 1, 1, 1, 1, 1, 1, 1, 1, 1, 1, 1, 1, 1, 1, 1, 1, 9, 3, 3, 2, 2, 1, 1, 1, 1, 1, 1, 1, 1, 1, 1, 1, 1, 10, 4, 3, 3, 1, 1, 1, 1, 1, 1, 1, 1, 1, 1, 1, 1, 1, 1, 1, 1, 7, 3, 3, 2, 1, 1, 1, 1, 1, 1, 1, 1, 1, 1, 1, 1, 1, 1, 1, 1, 8, 7, 4, 3, 1, 1, 1, 1, 1, 1, 1, 1, 1, 4, 2, 2, 2, 1, 1, 1, 1, 1, 1, 1, 1, 1, 1, 1, 1, 1, 1, 1, 1, 1, 1, 4, 4, 2, 2, 1, 1, 1, 1, 1, 1, 1, 1, 1, 1, 1, 1, 1, 1, 1, 1, 1, 1, 1, 5, 4, 4, 3, 3, 2, 1, 1, 1, 1, 1, 1, 1, 1, 1, 1, 1, 1, 1, 1, 1, 6, 5, 3, 2, 1, 1, 1, 1, 1, 1, 1, 1, 1, 1, 1, 1, 1, 1, 1, 1, 1, 1, 4, 3, 3, 1, 1, 1, 1, 1, 1, 1, 1, 1, 1, 1, 1, 1, 1, 1, 1, 1, 1, 1, 1, 5, 4, 2, 2, 2, 1, 1, 1, 1, 1, 1, 1, 1, 1, 1, 1, 1, 1, 1, 1, 1, 1, 1, 1, 1, 1, 7, 3, 3, 3, 2, 2, 2, 1, 1, 1, 1, 1, 1, 1, 1, 1, 1, 1, 1, 1, 1, 5, 5, 3, 3, 2, 2, 2, 1, 1, 1, 1, 1, 1, 1, 1, 1, 1, 1, 1, 1, 1, 7, 6, 2, 2, 1, 1, 1, 1, 1, 1, 1, 1, 1, 1, 1, 1, 1, 1, 1, 1, 1, 5, 3, 3, 2, 1, 1, 1, 1, 1, 1, 1, 1, 1, 1, 1, 1, 1, 1, 1, 1, 1, 1, 7, 3, 3, 2, 2, 2, 1, 1, 1, 1, 1, 1, 1, 1, 1, 1, 1, 1, 1, 1, 1, 1, 1, 1, 8, 3, 2, 2, 2, 2, 1, 1, 1, 1, 1, 1, 1, 1, 1, 1, 1, 1, 1, 1, 1, 4, 3, 2, 2, 2, 2, 2, 2, 1, 1, 1, 1, 1, 1, 1, 1, 1, 1, 1, 1, 1, 1, 6, 4, 2, 2, 2, 1, 1, 1, 1, 1, 1, 1, 1, 1, 1, 1, 1, 1, 1, 1, 1, 1, 1, 1, 1, 4, 3, 3, 3, 2, 2, 2, 1, 1, 1, 1, 1, 1, 1, 1, 1, 1, 1, 1, 1, 1, 1, 1, 1, 4, 3, 3, 3, 2, 2, 2, 2, 1, 1, 1, 1, 1, 1, 1, 1, 1, 1, 1, 1, 1, 1, 1, 1, 7, 4, 3, 2, 2, 2, 1, 1, 1, 1, 1, 1, 1, 1, 1, 1, 1, 1, 1, 1, 1, 1, 1, 1, 1, 1, 1, 1, 4, 4, 4, 1, 1, 1, 1, 1, 1, 1, 1, 1, 1, 1, 1, 1, 1, 1, 1, 1, 1, 1, 1, 1, 1, 1, 1, 5, 4, 2, 2, 2, 1, 1, 1, 1, 1, 1, 1, 1, 1, 1, 1, 1, 1, 1, 1, 1, 1, 1, 1, 1, 1, 1, 1, 7, 6, 3, 2, 2, 1, 1, 1, 1, 1, 1, 1, 1, 1, 1, 1, 1, 1, 1, 1, 1, 1, 1, 1, 1, 9, 6, 4, 2, 2, 2, 1, 1, 1, 1, 1, 1, 1, 1, 1, 1, 1, 1, 1, 1, 1, 1, 1, 1, 1, 1, 1, 10, 7, 3, 2, 2, 2, 1, 1, 1, 1, 1, 1, 1, 1, 1, 1, 1, 1, 1, 1, 1, 1, 1, 1, 1, 1, 8, 7, 3, 3, 2, 2, 2, 1, 1, 1, 1, 1, 1, 1, 1, 1, 1, 1, 1, 1, 1, 1, 5, 5, 4, 3, 2, 1, 1, 1, 1, 1, 1, 1, 1, 1, 1, 1, 1, 1, 1, 1, 1, 1, 1, 1, 1, 1, 1, 5, 4, 3, 2, 1, 1, 1, 1, 1, 1, 1, 1, 1, 1, 1, 1, 1, 1, 1, 1, 1, 1, 1, 1, 1, 6, 5, 4, 2, 1, 1, 1, 1, 1, 1, 1, 1, 1, 1, 1, 1, 1, 1, 1, 1, 1, 1, 1, 1, 1, 1, 9, 6, 3, 1, 1, 1, 1, 1, 1, 1, 1, 1, 1, 1, 1, 1, 1, 1, 1, 1, 1, 1, 1, 1, 1, 1, 1, 1, 1, 1, 1, 8, 6, 3, 2, 2, 1, 1, 1, 1, 1, 1, 1, 1, 1, 1, 1, 1, 1, 1, 1, 1, 1, 1, 1, 1, 1, 1, 5, 5, 4, 3, 1, 1, 1, 1, 1, 1, 1, 1, 1, 1, 1, 1, 1, 1, 1, 1, 1, 1, 1, 1, 1, 1, 1, 1, 1, 1, 5, 4, 3, 2, 1, 1, 1, 1, 1, 1, 1, 1, 1, 1, 1, 1, 1, 1, 1, 1, 1, 1, 1, 1, 1, 1, 1, 1, 1, 1, 1, 1, 1, 7, 5, 2, 2, 2, 1, 1, 1, 1, 1, 1, 1, 1, 1, 1, 1, 1, 1, 1, 1, 1, 1, 1, 1, 1, 1, 1, 1, 1, 1, 1, 7, 6, 4, 4, 2, 2, 1, 1, 1, 1, 1, 1, 1, 1, 1, 1, 1, 1, 1, 1, 1, 1, 1, 1, 1, 1, 1, 1, 8, 6, 5, 2, 1, 1, 1, 1, 1, 1, 1, 1, 1, 1, 1, 1, 1, 1, 1, 1, 1, 1, 1, 1, 1, 1, 1, 6, 5, 4, 2, 2, 2, 1, 1, 1, 1, 1, 1, 1, 1, 1, 1, 1, 1, 1, 1, 1, 1, 1, 1, 1, 1, 5, 5, 3, 2, 2, 1, 1, 1, 1, 1, 1, 1, 1, 1, 1, 1, 1, 1, 1, 1, 1, 1, 1, 1, 1, 1, 1, 1, 1, 1, 1, 1, 8, 6, 4, 4, 3, 3, 2, 2, 2, 1, 1, 1, 1, 1, 1, 1, 1, 1, 1, 1, 1, 1, 5, 3, 2, 2, 2, 1, 1, 1, 1, 1, 1, 1, 1, 1, 1, 1, 1, 1, 1, 1, 1, 1, 1, 1, 1, 1, 1, 1, 1, 1, 1, 1, 1, 7, 6, 3, 3, 2, 2, 2, 1, 1, 1, 1, 1, 1, 1, 1, 1, 1, 1, 1, 1, 1, 1, 1, 1, 1, 1, 7, 4, 3, 2, 2, 2, 1, 1, 1, 1, 1, 1, 1, 1, 1, 1, 1, 1, 1, 1, 1, 1, 1, 1, 1, 1, 1, 1, 6, 4, 2, 1, 1, 1, 1, 1, 1, 1, 1, 1, 1, 1, 1, 1, 1, 1, 1, 1, 1, 1, 1, 1, 1, 1, 1, 1, 8, 5, 3, 3, 1, 1, 1, 1, 1, 1, 1, 1, 1, 1, 1, 1, 1, 1, 1, 1, 1, 1, 1, 1, 1, 6, 5, 2, 2, 1, 1, 1, 1, 1, 1, 1, 1, 1, 1, 1, 1, 1, 1, 1, 1, 1, 1, 1, 1, 1, 1, 1, 5, 4, 3, 3, 2, 1, 1, 1, 1, 1, 1, 1, 1, 1, 1, 1, 1, 1, 1, 1, 1, 1, 1, 1, 1, 1, 6, 5, 4, 2, 1, 1, 1, 1, 1, 1, 1, 1, 1, 1, 1, 1, 1, 1, 1, 1, 1, 1, 1, 1, 1, 5, 4, 2, 2, 1, 1, 1, 1, 1, 1, 1, 1, 1, 1, 1, 1, 1, 1, 1, 1, 1, 1, 1, 1, 1, 1, 1, 6, 4, 3, 3, 2, 2, 1, 1, 1, 1, 1, 1, 1, 1, 1, 1, 1, 1, 1, 1, 1, 1, 1, 1, 1, 1, 1, 7, 4, 3, 2, 2, 2, 1, 1, 1, 1, 1, 1, 1, 1, 1, 1, 1, 1, 1, 1, 1, 1, 1, 1, 8, 6, 2, 2, 1, 1, 1, 1, 1, 1, 1, 1, 1, 1, 1, 1, 1, 1, 1, 1, 1, 1, 1, 1, 1, 1, 1, 1, 1, 8, 7, 4, 3, 2, 2, 2, 2, 1, 1, 1, 1, 1, 1, 1, 1, 1, 1, 1, 1, 1, 1, 1, 1, 10, 8, 4, 3, 1, 1, 1, 1, 1, 1, 1, 1, 1, 1, 1, 1, 1, 1, 1, 1, 1, 1, 1, 1, 1, 1, 5, 5, 2, 2, 2, 2, 1, 1, 1, 1, 1, 1, 1, 1, 1, 1, 1, 1, 1, 1, 1, 1, 1, 1, 1, 1, 1, 1, 1, 10, 3, 2, 2, 2, 1, 1, 1, 1, 1, 1, 1, 1, 1, 1, 1, 1, 1, 1, 1, 1, 1, 1, 1, 1, 7, 3, 2, 2, 1, 1, 1, 1, 1, 1, 1, 1, 1, 1, 1, 1, 1, 1, 1, 1, 1, 1, 1, 11, 9, 1, 1, 1, 1, 1, 1, 1, 1, 1, 1, 1, 1, 1, 1, 1, 1, 1, 1, 1, 1, 1], \"sizemode\": \"area\", \"sizeref\": 0.03, \"symbol\": \"circle\"}, \"mode\": \"markers\", \"name\": \"\", \"showlegend\": false, \"type\": \"scattergl\", \"x\": [0, 0, 0, 1, 1, 1, 1, 1, 1, 2, 2, 2, 2, 2, 2, 2, 2, 3, 3, 3, 3, 3, 3, 3, 3, 4, 4, 4, 4, 4, 4, 4, 4, 4, 5, 5, 5, 5, 5, 5, 5, 5, 5, 5, 6, 6, 6, 6, 6, 6, 6, 6, 6, 7, 7, 7, 7, 7, 7, 7, 7, 7, 8, 8, 8, 8, 8, 8, 8, 8, 8, 8, 9, 9, 9, 9, 9, 9, 9, 9, 9, 9, 9, 9, 9, 9, 10, 10, 10, 10, 10, 10, 10, 10, 10, 10, 10, 10, 10, 10, 10, 10, 11, 11, 11, 11, 11, 11, 11, 11, 11, 11, 11, 11, 11, 11, 11, 11, 12, 12, 12, 12, 12, 12, 12, 12, 12, 12, 12, 12, 12, 12, 13, 13, 13, 13, 13, 13, 13, 13, 13, 13, 13, 13, 13, 13, 13, 13, 13, 13, 13, 13, 14, 14, 14, 14, 14, 14, 14, 14, 14, 14, 14, 14, 14, 14, 14, 14, 14, 14, 14, 15, 15, 15, 15, 15, 15, 15, 15, 15, 15, 15, 15, 15, 15, 15, 15, 15, 15, 15, 16, 16, 16, 16, 16, 16, 16, 16, 16, 16, 16, 16, 16, 16, 16, 16, 16, 16, 16, 16, 17, 17, 17, 17, 17, 17, 17, 17, 17, 17, 17, 17, 17, 17, 17, 17, 17, 18, 18, 18, 18, 18, 18, 18, 18, 18, 18, 18, 18, 18, 18, 18, 18, 18, 18, 18, 18, 19, 19, 19, 19, 19, 19, 19, 19, 19, 19, 19, 19, 19, 19, 20, 20, 20, 20, 20, 20, 20, 20, 20, 20, 20, 20, 20, 20, 20, 21, 21, 21, 21, 21, 21, 21, 21, 21, 21, 21, 21, 21, 21, 21, 21, 21, 22, 22, 22, 22, 22, 22, 22, 22, 22, 22, 22, 22, 22, 22, 22, 22, 23, 23, 23, 23, 23, 23, 23, 23, 23, 23, 23, 23, 23, 23, 23, 23, 24, 24, 24, 24, 24, 24, 24, 24, 24, 24, 24, 24, 24, 24, 24, 24, 24, 24, 24, 25, 25, 25, 25, 25, 25, 25, 25, 25, 25, 25, 25, 25, 25, 25, 25, 25, 26, 26, 26, 26, 26, 26, 26, 26, 26, 26, 26, 26, 26, 26, 26, 26, 27, 27, 27, 27, 27, 27, 27, 27, 27, 27, 27, 27, 27, 27, 27, 27, 27, 27, 27, 28, 28, 28, 28, 28, 28, 28, 28, 28, 28, 28, 28, 28, 28, 28, 28, 28, 28, 28, 28, 29, 29, 29, 29, 29, 29, 29, 29, 29, 29, 29, 29, 29, 29, 29, 29, 29, 29, 29, 29, 30, 30, 30, 30, 30, 30, 30, 30, 30, 30, 30, 30, 30, 30, 30, 30, 30, 30, 31, 31, 31, 31, 31, 31, 31, 31, 31, 31, 31, 31, 31, 31, 31, 31, 31, 31, 31, 31, 32, 32, 32, 32, 32, 32, 32, 32, 32, 32, 32, 32, 32, 32, 32, 32, 32, 32, 32, 32, 33, 33, 33, 33, 33, 33, 33, 33, 33, 33, 33, 33, 33, 33, 33, 33, 33, 33, 34, 34, 34, 34, 34, 34, 34, 34, 34, 34, 34, 34, 34, 34, 34, 34, 34, 34, 34, 34, 34, 35, 35, 35, 35, 35, 35, 35, 35, 35, 35, 35, 35, 35, 35, 35, 35, 35, 35, 35, 35, 35, 35, 36, 36, 36, 36, 36, 36, 36, 36, 36, 36, 36, 36, 36, 36, 36, 36, 36, 36, 36, 36, 36, 37, 37, 37, 37, 37, 37, 37, 37, 37, 37, 37, 37, 37, 37, 37, 37, 37, 37, 37, 37, 37, 37, 38, 38, 38, 38, 38, 38, 38, 38, 38, 38, 38, 38, 38, 38, 38, 38, 38, 38, 38, 39, 39, 39, 39, 39, 39, 39, 39, 39, 39, 39, 39, 39, 39, 39, 39, 39, 39, 39, 39, 39, 39, 40, 40, 40, 40, 40, 40, 40, 40, 40, 40, 40, 40, 40, 40, 40, 40, 40, 40, 40, 41, 41, 41, 41, 41, 41, 41, 41, 41, 41, 41, 41, 41, 41, 41, 41, 41, 41, 41, 41, 41, 41, 41, 42, 42, 42, 42, 42, 42, 42, 42, 42, 42, 42, 42, 42, 42, 42, 42, 42, 43, 43, 43, 43, 43, 43, 43, 43, 43, 43, 43, 43, 43, 43, 43, 43, 43, 43, 43, 43, 44, 44, 44, 44, 44, 44, 44, 44, 44, 44, 44, 44, 44, 44, 44, 44, 44, 44, 44, 44, 45, 45, 45, 45, 45, 45, 45, 45, 45, 45, 45, 45, 45, 46, 46, 46, 46, 46, 46, 46, 46, 46, 46, 46, 46, 46, 46, 46, 46, 46, 46, 46, 46, 46, 46, 47, 47, 47, 47, 47, 47, 47, 47, 47, 47, 47, 47, 47, 47, 47, 47, 47, 47, 47, 47, 47, 47, 47, 48, 48, 48, 48, 48, 48, 48, 48, 48, 48, 48, 48, 48, 48, 48, 48, 48, 48, 48, 48, 48, 49, 49, 49, 49, 49, 49, 49, 49, 49, 49, 49, 49, 49, 49, 49, 49, 49, 49, 49, 49, 49, 49, 50, 50, 50, 50, 50, 50, 50, 50, 50, 50, 50, 50, 50, 50, 50, 50, 50, 50, 50, 50, 50, 50, 50, 51, 51, 51, 51, 51, 51, 51, 51, 51, 51, 51, 51, 51, 51, 51, 51, 51, 51, 51, 51, 51, 51, 51, 51, 51, 51, 52, 52, 52, 52, 52, 52, 52, 52, 52, 52, 52, 52, 52, 52, 52, 52, 52, 52, 52, 52, 52, 53, 53, 53, 53, 53, 53, 53, 53, 53, 53, 53, 53, 53, 53, 53, 53, 53, 53, 53, 53, 53, 54, 54, 54, 54, 54, 54, 54, 54, 54, 54, 54, 54, 54, 54, 54, 54, 54, 54, 54, 54, 54, 55, 55, 55, 55, 55, 55, 55, 55, 55, 55, 55, 55, 55, 55, 55, 55, 55, 55, 55, 55, 55, 55, 56, 56, 56, 56, 56, 56, 56, 56, 56, 56, 56, 56, 56, 56, 56, 56, 56, 56, 56, 56, 56, 56, 56, 56, 57, 57, 57, 57, 57, 57, 57, 57, 57, 57, 57, 57, 57, 57, 57, 57, 57, 57, 57, 57, 57, 58, 58, 58, 58, 58, 58, 58, 58, 58, 58, 58, 58, 58, 58, 58, 58, 58, 58, 58, 58, 58, 58, 59, 59, 59, 59, 59, 59, 59, 59, 59, 59, 59, 59, 59, 59, 59, 59, 59, 59, 59, 59, 59, 59, 59, 59, 59, 60, 60, 60, 60, 60, 60, 60, 60, 60, 60, 60, 60, 60, 60, 60, 60, 60, 60, 60, 60, 60, 60, 60, 60, 61, 61, 61, 61, 61, 61, 61, 61, 61, 61, 61, 61, 61, 61, 61, 61, 61, 61, 61, 61, 61, 61, 61, 61, 62, 62, 62, 62, 62, 62, 62, 62, 62, 62, 62, 62, 62, 62, 62, 62, 62, 62, 62, 62, 62, 62, 62, 62, 62, 62, 62, 62, 63, 63, 63, 63, 63, 63, 63, 63, 63, 63, 63, 63, 63, 63, 63, 63, 63, 63, 63, 63, 63, 63, 63, 63, 63, 63, 63, 64, 64, 64, 64, 64, 64, 64, 64, 64, 64, 64, 64, 64, 64, 64, 64, 64, 64, 64, 64, 64, 64, 64, 64, 64, 64, 64, 64, 65, 65, 65, 65, 65, 65, 65, 65, 65, 65, 65, 65, 65, 65, 65, 65, 65, 65, 65, 65, 65, 65, 65, 65, 65, 66, 66, 66, 66, 66, 66, 66, 66, 66, 66, 66, 66, 66, 66, 66, 66, 66, 66, 66, 66, 66, 66, 66, 66, 66, 66, 66, 67, 67, 67, 67, 67, 67, 67, 67, 67, 67, 67, 67, 67, 67, 67, 67, 67, 67, 67, 67, 67, 67, 67, 67, 67, 67, 68, 68, 68, 68, 68, 68, 68, 68, 68, 68, 68, 68, 68, 68, 68, 68, 68, 68, 68, 68, 68, 68, 69, 69, 69, 69, 69, 69, 69, 69, 69, 69, 69, 69, 69, 69, 69, 69, 69, 69, 69, 69, 69, 69, 69, 69, 69, 69, 69, 70, 70, 70, 70, 70, 70, 70, 70, 70, 70, 70, 70, 70, 70, 70, 70, 70, 70, 70, 70, 70, 70, 70, 70, 70, 71, 71, 71, 71, 71, 71, 71, 71, 71, 71, 71, 71, 71, 71, 71, 71, 71, 71, 71, 71, 71, 71, 71, 71, 71, 71, 72, 72, 72, 72, 72, 72, 72, 72, 72, 72, 72, 72, 72, 72, 72, 72, 72, 72, 72, 72, 72, 72, 72, 72, 72, 72, 72, 72, 72, 72, 72, 73, 73, 73, 73, 73, 73, 73, 73, 73, 73, 73, 73, 73, 73, 73, 73, 73, 73, 73, 73, 73, 73, 73, 73, 73, 73, 73, 74, 74, 74, 74, 74, 74, 74, 74, 74, 74, 74, 74, 74, 74, 74, 74, 74, 74, 74, 74, 74, 74, 74, 74, 74, 74, 74, 74, 74, 74, 75, 75, 75, 75, 75, 75, 75, 75, 75, 75, 75, 75, 75, 75, 75, 75, 75, 75, 75, 75, 75, 75, 75, 75, 75, 75, 75, 75, 75, 75, 75, 75, 75, 76, 76, 76, 76, 76, 76, 76, 76, 76, 76, 76, 76, 76, 76, 76, 76, 76, 76, 76, 76, 76, 76, 76, 76, 76, 76, 76, 76, 76, 76, 76, 77, 77, 77, 77, 77, 77, 77, 77, 77, 77, 77, 77, 77, 77, 77, 77, 77, 77, 77, 77, 77, 77, 77, 77, 77, 77, 77, 77, 78, 78, 78, 78, 78, 78, 78, 78, 78, 78, 78, 78, 78, 78, 78, 78, 78, 78, 78, 78, 78, 78, 78, 78, 78, 78, 78, 79, 79, 79, 79, 79, 79, 79, 79, 79, 79, 79, 79, 79, 79, 79, 79, 79, 79, 79, 79, 79, 79, 79, 79, 79, 79, 80, 80, 80, 80, 80, 80, 80, 80, 80, 80, 80, 80, 80, 80, 80, 80, 80, 80, 80, 80, 80, 80, 80, 80, 80, 80, 80, 80, 80, 80, 80, 80, 81, 81, 81, 81, 81, 81, 81, 81, 81, 81, 81, 81, 81, 81, 81, 81, 81, 81, 81, 81, 81, 81, 82, 82, 82, 82, 82, 82, 82, 82, 82, 82, 82, 82, 82, 82, 82, 82, 82, 82, 82, 82, 82, 82, 82, 82, 82, 82, 82, 82, 82, 82, 82, 82, 82, 83, 83, 83, 83, 83, 83, 83, 83, 83, 83, 83, 83, 83, 83, 83, 83, 83, 83, 83, 83, 83, 83, 83, 83, 83, 83, 84, 84, 84, 84, 84, 84, 84, 84, 84, 84, 84, 84, 84, 84, 84, 84, 84, 84, 84, 84, 84, 84, 84, 84, 84, 84, 84, 84, 85, 85, 85, 85, 85, 85, 85, 85, 85, 85, 85, 85, 85, 85, 85, 85, 85, 85, 85, 85, 85, 85, 85, 85, 85, 85, 85, 85, 86, 86, 86, 86, 86, 86, 86, 86, 86, 86, 86, 86, 86, 86, 86, 86, 86, 86, 86, 86, 86, 86, 86, 86, 86, 87, 87, 87, 87, 87, 87, 87, 87, 87, 87, 87, 87, 87, 87, 87, 87, 87, 87, 87, 87, 87, 87, 87, 87, 87, 87, 87, 88, 88, 88, 88, 88, 88, 88, 88, 88, 88, 88, 88, 88, 88, 88, 88, 88, 88, 88, 88, 88, 88, 88, 88, 88, 88, 89, 89, 89, 89, 89, 89, 89, 89, 89, 89, 89, 89, 89, 89, 89, 89, 89, 89, 89, 89, 89, 89, 89, 89, 89, 90, 90, 90, 90, 90, 90, 90, 90, 90, 90, 90, 90, 90, 90, 90, 90, 90, 90, 90, 90, 90, 90, 90, 90, 90, 90, 90, 91, 91, 91, 91, 91, 91, 91, 91, 91, 91, 91, 91, 91, 91, 91, 91, 91, 91, 91, 91, 91, 91, 91, 91, 91, 91, 91, 92, 92, 92, 92, 92, 92, 92, 92, 92, 92, 92, 92, 92, 92, 92, 92, 92, 92, 92, 92, 92, 92, 92, 92, 93, 93, 93, 93, 93, 93, 93, 93, 93, 93, 93, 93, 93, 93, 93, 93, 93, 93, 93, 93, 93, 93, 93, 93, 93, 93, 93, 93, 93, 94, 94, 94, 94, 94, 94, 94, 94, 94, 94, 94, 94, 94, 94, 94, 94, 94, 94, 94, 94, 94, 94, 94, 94, 95, 95, 95, 95, 95, 95, 95, 95, 95, 95, 95, 95, 95, 95, 95, 95, 95, 95, 95, 95, 95, 95, 95, 95, 95, 95, 96, 96, 96, 96, 96, 96, 96, 96, 96, 96, 96, 96, 96, 96, 96, 96, 96, 96, 96, 96, 96, 96, 96, 96, 96, 96, 96, 96, 96, 97, 97, 97, 97, 97, 97, 97, 97, 97, 97, 97, 97, 97, 97, 97, 97, 97, 97, 97, 97, 97, 97, 97, 97, 97, 98, 98, 98, 98, 98, 98, 98, 98, 98, 98, 98, 98, 98, 98, 98, 98, 98, 98, 98, 98, 98, 98, 98, 99, 99, 99, 99, 99, 99, 99, 99, 99, 99, 99, 99, 99, 99, 99, 99, 99, 99, 99, 99, 99, 99, 99], \"xaxis\": \"x\", \"y\": [0.0, -1.0, 1.0, 0.0, -0.3333333333333333, 1.0, 0.3333333333333333, -1.0, -0.5, -1.0, 0.0, 1.0, -0.5, -0.3333333333333333, 0.3333333333333333, 0.5, 0.6, 0.0, -1.0, 1.0, -0.2, -0.5, -0.3333333333333333, 0.14285714285714285, 0.3333333333333333, -1.0, 0.0, -0.3333333333333333, 1.0, -0.5, -0.14285714285714285, -0.1111111111111111, 0.2, 0.3333333333333333, -1.0, 1.0, 0.0, -0.5, -0.3333333333333333, -0.2, 0.3333333333333333, -0.6, 0.16666666666666666, 0.2, -1.0, 1.0, 0.0, -0.3333333333333333, -0.5, 0.3333333333333333, -0.6666666666666666, -0.058823529411764705, 0.7142857142857143, -1.0, 1.0, 0.0, 0.3333333333333333, -0.6666666666666666, -0.6, 0.14285714285714285, 0.5, -0.1111111111111111, -1.0, 1.0, 0.0, 0.3333333333333333, -0.8181818181818182, -0.3333333333333333, -0.14285714285714285, -0.05263157894736842, 0.2, 0.5, -1.0, 1.0, 0.5, -0.75, -0.6923076923076923, -0.6666666666666666, -0.42857142857142855, -0.3333333333333333, -0.2, -0.07692307692307693, 0.2, 0.3333333333333333, 0.5555555555555556, 0.6, -1.0, -0.3333333333333333, 0.0, 1.0, -0.5, -0.6, -0.42857142857142855, -0.4, -0.1111111111111111, 0.14285714285714285, 0.2727272727272727, 0.3333333333333333, 0.4, 0.6, 0.7142857142857143, 0.75, -1.0, 0.0, 1.0, -0.6666666666666666, -0.6, 0.2, -0.7142857142857143, -0.45454545454545453, -0.3333333333333333, -0.25, -0.14285714285714285, 0.16666666666666666, 0.3333333333333333, 0.5, 0.5555555555555556, 0.6, -1.0, 0.0, -0.3333333333333333, 1.0, -0.7142857142857143, -0.5, -0.42857142857142855, -0.21428571428571427, -0.2, 0.23076923076923078, 0.3333333333333333, 0.5294117647058824, 0.6, 0.7647058823529411, 1.0, -1.0, 0.0, -0.5384615384615384, -0.5, -0.3333333333333333, 0.5, -0.8461538461538461, -0.42857142857142855, -0.25, -0.2413793103448276, -0.14285714285714285, -0.09090909090909091, 0.06666666666666667, 0.2, 0.4, 0.42857142857142855, 0.6, 0.7142857142857143, 0.8333333333333334, 0.0, 1.0, -1.0, -0.5, -0.6, 0.2, 0.3333333333333333, 0.5, -0.7142857142857143, -0.4666666666666667, -0.42857142857142855, -0.4, -0.3333333333333333, -0.3, -0.2, -0.1111111111111111, 0.5555555555555556, 0.6, 0.6666666666666666, 0.0, 1.0, -1.0, -0.3333333333333333, 0.14285714285714285, -0.7647058823529411, -0.75, -0.5555555555555556, -0.5, -0.4666666666666667, -0.2727272727272727, -0.23809523809523808, -0.14285714285714285, -0.1111111111111111, 0.07692307692307693, 0.25, 0.5, 0.5555555555555556, 0.8, -1.0, 0.0, -0.3333333333333333, -0.2, 0.3333333333333333, 1.0, -0.5555555555555556, -0.42857142857142855, -0.16666666666666666, -0.1111111111111111, -0.09090909090909091, -0.058823529411764705, -0.05263157894736842, 0.14285714285714285, 0.4, 0.5, 0.5714285714285714, 0.6666666666666666, 0.75, 0.8461538461538461, -1.0, 0.0, 1.0, -0.3333333333333333, -0.2, -0.6666666666666666, -0.5, -0.4, -0.3939393939393939, -0.14285714285714285, -0.06666666666666667, 0.125, 0.23076923076923078, 0.3333333333333333, 0.36363636363636365, 0.5555555555555556, 0.7777777777777778, -1.0, 0.0, 1.0, -0.6, 0.5, -0.8, -0.7142857142857143, -0.6666666666666666, -0.5, -0.42857142857142855, -0.3333333333333333, -0.2727272727272727, -0.15789473684210525, -0.14285714285714285, 0.07692307692307693, 0.14285714285714285, 0.2, 0.2857142857142857, 0.4666666666666667, 0.8333333333333334, 0.0, -1.0, -0.3333333333333333, 1.0, -0.2, -0.75, -0.6, -0.4634146341463415, -0.07692307692307693, 0.09090909090909091, 0.2, 0.2413793103448276, 0.8333333333333334, 0.8888888888888888, -1.0, 1.0, 0.0, -0.5, -0.3333333333333333, -0.6, -0.47619047619047616, -0.42857142857142855, -0.4, -0.2727272727272727, -0.18518518518518517, -0.058823529411764705, 0.17647058823529413, 0.2, 0.6923076923076923, -1.0, 0.0, 1.0, -0.3333333333333333, -0.75, -0.5, -0.47368421052631576, -0.2727272727272727, -0.25, -0.1724137931034483, -0.14285714285714285, -0.1282051282051282, 0.23809523809523808, 0.5, 0.5882352941176471, 0.7142857142857143, 0.7777777777777778, -1.0, -0.3333333333333333, 1.0, -0.5, 0.0, 0.3333333333333333, -0.6666666666666666, -0.6, -0.23076923076923078, -0.2, -0.1111111111111111, -0.1, 0.09090909090909091, 0.2, 0.5, 0.8260869565217391, 1.0, -1.0, 0.0, -0.5, -0.42857142857142855, 0.5, -0.5555555555555556, -0.4883720930232558, -0.4444444444444444, -0.2727272727272727, -0.22580645161290322, -0.1282051282051282, 0.07692307692307693, 0.12, 0.8181818181818182, 0.8947368421052632, -1.0, 0.0, 1.0, -0.3333333333333333, -0.7777777777777778, -0.6, -0.5555555555555556, -0.5, -0.4117647058823529, -0.21212121212121213, -0.16279069767441862, -0.1111111111111111, 0.07692307692307693, 0.15384615384615385, 0.3333333333333333, 0.42857142857142855, 0.5384615384615384, 0.6, 0.9, -1.0, 1.0, -0.5555555555555556, -0.25, 0.0, 0.3333333333333333, -0.6666666666666666, -0.42857142857142855, -0.4, -0.37142857142857144, -0.3333333333333333, -0.05084745762711865, 0.14285714285714285, 0.21875, 0.5714285714285714, 0.6666666666666666, 0.8095238095238095, 0.0, -1.0, -0.3333333333333333, 1.0, -0.5789473684210527, -0.5, -0.42857142857142855, -0.4, -0.2727272727272727, -0.1111111111111111, 0.07692307692307693, 0.14285714285714285, 0.16666666666666666, 0.2, 0.4666666666666667, 0.8947368421052632, -1.0, 1.0, 0.0, -0.5, -0.3333333333333333, -0.7142857142857143, -0.38461538461538464, -0.35135135135135137, -0.2857142857142857, -0.11764705882352941, 0.06666666666666667, 0.07692307692307693, 0.16417910447761194, 0.17647058823529413, 0.2, 0.23076923076923078, 0.2727272727272727, 0.3333333333333333, 0.5, 1.0, -1.0, -0.5, 0.0, -0.42857142857142855, -0.4117647058823529, -0.3939393939393939, -0.391304347826087, -0.3333333333333333, -0.2857142857142857, -0.14285714285714285, -0.08333333333333333, -0.06666666666666667, 0.14705882352941177, 0.16666666666666666, 0.17647058823529413, 0.2, 0.3333333333333333, 0.42857142857142855, 0.5, 1.0, -1.0, -0.3333333333333333, 0.1111111111111111, 0.6, -0.8, -0.6666666666666666, -0.4666666666666667, -0.44, -0.28, -0.2727272727272727, -0.24324324324324326, -0.23076923076923078, -0.18518518518518517, 0.0, 0.07894736842105263, 0.09090909090909091, 0.14285714285714285, 0.2222222222222222, 0.7272727272727273, 1.0, -1.0, -0.3333333333333333, 0.0, 0.2, 0.42857142857142855, -0.75, -0.5555555555555556, -0.42857142857142855, -0.3939393939393939, -0.2857142857142857, -0.2777777777777778, -0.2, -0.0625, 0.09090909090909091, 0.3333333333333333, 0.6666666666666666, 0.8947368421052632, 1.0, -1.0, 0.0, 0.3333333333333333, 0.25, -0.8666666666666667, -0.7777777777777778, -0.6666666666666666, -0.6, -0.41935483870967744, -0.391304347826087, -0.36363636363636365, -0.3076923076923077, -0.2, -0.07692307692307693, -0.030303030303030304, 0.10256410256410256, 0.18181818181818182, 0.23809523809523808, 0.42857142857142855, -1.0, 1.0, 0.3333333333333333, -0.3333333333333333, -0.75, -0.6, -0.4166666666666667, -0.375, -0.36, -0.30434782608695654, -0.17647058823529413, 0.0, 0.08108108108108109, 0.1111111111111111, 0.11392405063291139, 0.13043478260869565, 0.2, 0.4074074074074074, 0.42857142857142855, 0.7142857142857143, -1.0, 1.0, 0.3333333333333333, -0.5, -0.3333333333333333, -0.8, -0.6666666666666666, -0.42857142857142855, -0.4, -0.36, 0.09090909090909091, 0.125, 0.23809523809523808, 0.2727272727272727, 0.35714285714285715, 0.391304347826087, 0.5555555555555556, 0.6, -1.0, 1.0, 0.0, -0.7777777777777778, -0.75, -0.6, -0.5, -0.37037037037037035, -0.3333333333333333, -0.29411764705882354, -0.2727272727272727, 0.058823529411764705, 0.09090909090909091, 0.13043478260869565, 0.16666666666666666, 0.18181818181818182, 0.3333333333333333, 0.36363636363636365, 0.4074074074074074, 0.5, 0.6, -1.0, 1.0, -0.6666666666666666, 0.0, -0.7647058823529411, -0.7142857142857143, -0.5555555555555556, -0.5384615384615384, -0.38461538461538464, -0.34545454545454546, 0.07692307692307693, 0.08333333333333333, 0.1111111111111111, 0.13636363636363635, 0.15789473684210525, 0.168141592920354, 0.23076923076923078, 0.3333333333333333, 0.45454545454545453, 0.5384615384615384, 0.6666666666666666, 0.75, -1.0, 0.0, 1.0, -0.5, -0.3333333333333333, 0.2, -0.8461538461538461, -0.8, -0.75, -0.25, -0.18032786885245902, -0.15555555555555556, 0.06666666666666667, 0.1111111111111111, 0.14285714285714285, 0.16666666666666666, 0.17391304347826086, 0.5714285714285714, 0.5769230769230769, 0.5789473684210527, 0.75, -1.0, 1.0, 0.0, -0.3333333333333333, 0.6, -0.7777777777777778, -0.6, -0.5555555555555556, -0.5, -0.42857142857142855, -0.25, -0.24242424242424243, -0.11392405063291139, 0.06666666666666667, 0.125, 0.14285714285714285, 0.17647058823529413, 0.2, 0.29411764705882354, 0.3333333333333333, 0.5849056603773585, 0.6923076923076923, 1.0, -1.0, -0.3333333333333333, 0.0, 0.14285714285714285, -0.7, -0.6666666666666666, -0.5, -0.45454545454545453, -0.3793103448275862, -0.22388059701492538, -0.2, -0.06818181818181818, 0.1111111111111111, 0.2222222222222222, 0.5, 0.5238095238095238, 0.7333333333333333, 0.7727272727272727, -1.0, 1.0, 0.0, -0.75, -0.7142857142857143, -0.6190476190476191, -0.5, -0.3333333333333333, -0.22857142857142856, -0.11538461538461539, -0.07692307692307693, 0.14285714285714285, 0.2727272727272727, 0.29411764705882354, 0.3023255813953488, 0.3150684931506849, 0.4, 0.42857142857142855, 0.5, 0.5454545454545454, 0.6666666666666666, 0.75, -1.0, 1.0, 0.3333333333333333, 0.5, -0.7894736842105263, -0.75, -0.6363636363636364, -0.2727272727272727, -0.2112676056338028, -0.2, -0.14285714285714285, -0.1111111111111111, -0.07317073170731707, 0.0, 0.2962962962962963, 0.39325842696629215, 0.45454545454545453, 0.6, 0.75, -1.0, 0.3333333333333333, 1.0, 0.2, -0.7777777777777778, -0.7333333333333333, -0.6923076923076923, -0.6, -0.3333333333333333, -0.3, -0.25, -0.16666666666666666, -0.14666666666666667, -0.09523809523809523, 0.0, 0.14285714285714285, 0.2222222222222222, 0.375, 0.42857142857142855, 0.45454545454545453, 0.5, 0.5238095238095238, 0.5555555555555556, -1.0, 0.42857142857142855, 1.0, 0.2, 0.38461538461538464, -0.7894736842105263, -0.5294117647058824, -0.3142857142857143, -0.25, -0.14285714285714285, 0.0, 0.1111111111111111, 0.25, 0.29411764705882354, 0.36, 0.3698630136986301, 0.5, -1.0, 0.0, 0.5, 1.0, -0.9047619047619048, -0.5151515151515151, -0.5, -0.3333333333333333, -0.3018867924528302, -0.13333333333333333, -0.06666666666666667, 0.06382978723404255, 0.1111111111111111, 0.125, 0.13043478260869565, 0.2222222222222222, 0.23809523809523808, 0.3076923076923077, 0.3333333333333333, 0.5833333333333334, -1.0, -0.3333333333333333, 1.0, 0.0, -0.5294117647058824, -0.5, -0.2897196261682243, -0.2, -0.16129032258064516, -0.02040816326530612, 0.05263157894736842, 0.13043478260869565, 0.15625, 0.23076923076923078, 0.2413793103448276, 0.25, 0.3333333333333333, 0.42857142857142855, 0.52, 0.7142857142857143, 0.0, -1.0, 1.0, 0.3333333333333333, -0.4857142857142857, -0.42857142857142855, -0.3333333333333333, -0.2777777777777778, -0.15151515151515152, 0.07964601769911504, 0.0967741935483871, 0.2, 0.5625, 0.0, -1.0, -0.17647058823529413, 0.3333333333333333, -0.8260869565217391, -0.75, -0.7142857142857143, -0.5, -0.4, -0.3333333333333333, -0.2876712328767123, -0.2571428571428571, -0.2, -0.16666666666666666, -0.14285714285714285, -0.058823529411764705, 0.08771929824561403, 0.14018691588785046, 0.52, 0.7692307692307693, 0.7777777777777778, 1.0, -1.0, 1.0, -0.5555555555555556, 0.07692307692307693, -0.75, -0.6363636363636364, -0.5, -0.4782608695652174, -0.3333333333333333, -0.2631578947368421, -0.24324324324324326, -0.2222222222222222, -0.12, 0.0, 0.02857142857142857, 0.09090909090909091, 0.11392405063291139, 0.11504424778761062, 0.14285714285714285, 0.45454545454545453, 0.52, 0.7777777777777778, 0.8, 0.0, -1.0, 0.3333333333333333, -0.5, 1.0, -0.4, -0.8333333333333334, -0.6521739130434783, -0.6, -0.42857142857142855, -0.24675324675324675, -0.23809523809523808, -0.2, -0.1935483870967742, -0.13043478260869565, 0.041666666666666664, 0.1092436974789916, 0.14285714285714285, 0.16666666666666666, 0.2727272727272727, 0.6842105263157895, -1.0, 1.0, 0.0, -0.6, -0.7272727272727273, -0.6923076923076923, -0.5625, -0.5, -0.3333333333333333, -0.21212121212121213, -0.20634920634920634, -0.2, -0.14285714285714285, 0.04, 0.06086956521739131, 0.11504424778761062, 0.17647058823529413, 0.1780821917808219, 0.2, 0.38461538461538464, 0.5, 0.75, 1.0, -1.0, -0.3333333333333333, -0.7142857142857143, -0.6, -0.5555555555555556, -0.5238095238095238, -0.5, -0.4666666666666667, -0.17647058823529413, -0.16923076923076924, -0.14285714285714285, -0.047619047619047616, 0.0, 0.03389830508474576, 0.13043478260869565, 0.14814814814814814, 0.2, 0.2631578947368421, 0.42857142857142855, 0.4482758620689655, 0.5, 0.5555555555555556, 1.0, 0.0, -1.0, -0.3333333333333333, 0.2, -0.75, -0.6666666666666666, -0.6111111111111112, -0.5384615384615384, -0.5, -0.38461538461538464, -0.2727272727272727, -0.23076923076923078, -0.21212121212121213, -0.18181818181818182, -0.15151515151515152, 0.014492753623188406, 0.06666666666666667, 0.1206896551724138, 0.15294117647058825, 0.2727272727272727, 0.3333333333333333, 0.42857142857142855, 0.4666666666666667, 0.5, 0.6, 1.0, -1.0, 0.0, 0.3333333333333333, -0.42857142857142855, -0.2, -0.14285714285714285, -0.6216216216216216, -0.5263157894736842, -0.3333333333333333, -0.2857142857142857, -0.23529411764705882, -0.17647058823529413, -0.16417910447761194, -0.07692307692307693, -0.013333333333333334, 0.043478260869565216, 0.1282051282051282, 0.13953488372093023, 0.30434782608695654, 0.4666666666666667, 0.0, 1.0, -1.0, 0.5, -0.7142857142857143, -0.14285714285714285, 0.3333333333333333, -0.5384615384615384, -0.38028169014084506, -0.3333333333333333, -0.2777777777777778, -0.25, -0.17647058823529413, -0.125, -0.11764705882352941, 0.08, 0.12, 0.2631578947368421, 0.38461538461538464, 0.4375, 0.9130434782608695, 0.0, 1.0, -1.0, 0.5, -0.6666666666666666, -0.55, -0.5, -0.3611111111111111, -0.3333333333333333, -0.2777777777777778, -0.1935483870967742, -0.17647058823529413, -0.08571428571428572, -0.0625, 0.1111111111111111, 0.14285714285714285, 0.2, 0.3333333333333333, 0.3888888888888889, 0.41818181818181815, 0.84, 0.0, 0.2, 1.0, -1.0, -0.7272727272727273, -0.5714285714285714, -0.42105263157894735, -0.34782608695652173, -0.3333333333333333, -0.32432432432432434, -0.1875, -0.05555555555555555, -0.05263157894736842, -0.043478260869565216, -0.030303030303030304, 0.09090909090909091, 0.3333333333333333, 0.37142857142857144, 0.42857142857142855, 0.5, 0.6, 0.803921568627451, 0.0, -1.0, 1.0, -0.5, -0.3333333333333333, 0.3333333333333333, -0.8, -0.6, -0.4444444444444444, -0.38461538461538464, -0.3684210526315789, -0.2336448598130841, -0.1, -0.08695652173913043, -0.08108108108108109, -0.047619047619047616, 0.014492753623188406, 0.02040816326530612, 0.125, 0.3888888888888889, 0.4, 0.43333333333333335, 0.6363636363636364, 0.9047619047619048, 0.0, 0.3333333333333333, -0.5, -0.3333333333333333, 0.14285714285714285, 1.0, -1.0, -0.5757575757575758, -0.4666666666666667, -0.38461538461538464, -0.37254901960784315, -0.2808988764044944, -0.10526315789473684, -0.06382978723404255, 0.034482758620689655, 0.15151515151515152, 0.40540540540540543, 0.4603174603174603, 0.5, 0.6666666666666666, 0.8666666666666667, 1.0, -1.0, -0.42857142857142855, -0.3333333333333333, 0.0, 0.17647058823529413, 0.3333333333333333, 0.5555555555555556, -0.4883720930232558, -0.4117647058823529, -0.3894736842105263, -0.3684210526315789, -0.28888888888888886, -0.2857142857142857, -0.07692307692307693, -0.046153846153846156, -0.014084507042253521, 0.02040816326530612, 0.25, 0.3684210526315789, 0.8, 0.8857142857142857, 1.0, -1.0, 0.0, 0.5, 0.6666666666666666, -0.8461538461538461, -0.5555555555555556, -0.41935483870967744, -0.4, -0.3333333333333333, -0.2967032967032967, -0.25, -0.18518518518518517, -0.14285714285714285, -0.030303030303030304, -0.027777777777777776, 0.14285714285714285, 0.16666666666666666, 0.1724137931034483, 0.2, 0.29411764705882354, 0.3, 0.47368421052631576, 0.6, 0.7948717948717948, 1.0, -1.0, -0.5, 0.0, -0.375, 0.2, 0.7142857142857143, -0.8620689655172413, -0.8181818181818182, -0.7391304347826086, -0.42857142857142855, -0.26881720430107525, -0.2578616352201258, -0.1111111111111111, -0.05405405405405406, -0.05263157894736842, 0.1694915254237288, 0.25, 0.29411764705882354, 0.3333333333333333, 0.3559322033898305, 0.625, 0.6666666666666666, 0.8421052631578947, 1.0, -1.0, -0.3333333333333333, 0.3333333333333333, -0.14285714285714285, 0.0, 0.5, 0.6, -0.7037037037037037, -0.5, -0.42857142857142855, -0.2916666666666667, -0.2624113475177305, -0.2222222222222222, -0.2, -0.15789473684210525, -0.06666666666666667, -0.043478260869565216, 0.1044776119402985, 0.1111111111111111, 0.23076923076923078, 0.6363636363636364, 0.7777777777777778, 0.7948717948717948, 1.0, 0.0, -1.0, -0.3333333333333333, 0.14285714285714285, 0.3333333333333333, -0.7777777777777778, -0.6428571428571429, -0.5555555555555556, -0.5, -0.4666666666666667, -0.2631578947368421, -0.2535211267605634, -0.25, -0.21568627450980393, -0.18095238095238095, -0.15789473684210525, -0.1, -0.047619047619047616, 0.09090909090909091, 0.15789473684210525, 0.2857142857142857, 0.30120481927710846, 0.42857142857142855, 0.5, 0.6097560975609756, 0.7948717948717948, 0.8, -1.0, 0.0, 1.0, -0.5555555555555556, -0.5135135135135135, -0.4105263157894737, -0.375, -0.23076923076923078, -0.2, -0.168, -0.14285714285714285, -0.1111111111111111, -0.03225806451612903, 0.06382978723404255, 0.08571428571428572, 0.14285714285714285, 0.2, 0.2112676056338028, 0.23076923076923078, 0.25, 0.29411764705882354, 0.3333333333333333, 0.5, 0.5714285714285714, 0.6666666666666666, 0.8048780487804879, 0.8333333333333334, 0.0, -0.3333333333333333, -1.0, -0.2, 1.0, -0.9285714285714286, -0.4358974358974359, -0.42857142857142855, -0.29411764705882354, -0.23943661971830985, -0.20754716981132076, -0.1746031746031746, -0.1, 0.09090909090909091, 0.10204081632653061, 0.14285714285714285, 0.16666666666666666, 0.19444444444444445, 0.25, 0.2727272727272727, 0.3333333333333333, 0.34375, 0.4782608695652174, 0.5, 0.6842105263157895, 0.6923076923076923, 0.7142857142857143, 0.7333333333333333, -1.0, 1.0, -0.3333333333333333, 0.0, 0.5, -0.5, -0.4666666666666667, -0.3541666666666667, -0.23333333333333334, -0.22580645161290322, -0.2, -0.17757009345794392, -0.15789473684210525, -0.1111111111111111, -0.07692307692307693, -0.047619047619047616, 0.09803921568627451, 0.14285714285714285, 0.16666666666666666, 0.2857142857142857, 0.2967032967032967, 0.3684210526315789, 0.42857142857142855, 0.6, 0.6666666666666666, 1.0, -1.0, 0.0, -0.8, -0.5, 0.3333333333333333, -0.47058823529411764, -0.42857142857142855, -0.36082474226804123, -0.30434782608695654, -0.2631578947368421, -0.16666666666666666, -0.14285714285714285, -0.10344827586206896, -0.09090909090909091, 0.023255813953488372, 0.058823529411764705, 0.07692307692307693, 0.11538461538461539, 0.14285714285714285, 0.2, 0.24444444444444444, 0.5416666666666666, 0.6, 0.7142857142857143, 0.8333333333333334, 0.9444444444444444, 1.0, -1.0, 0.3333333333333333, -0.3333333333333333, -0.06666666666666667, 0.0, -0.7894736842105263, -0.6, -0.5, -0.42857142857142855, -0.2857142857142857, -0.2751677852348993, -0.2708333333333333, -0.23076923076923078, -0.2, -0.09090909090909091, -0.07692307692307693, 0.09090909090909091, 0.1320754716981132, 0.15789473684210525, 0.25, 0.5652173913043478, 0.6, 0.6444444444444445, 0.782608695652174, 0.8666666666666667, 0.0, 1.0, -1.0, 0.6666666666666666, -0.14285714285714285, 0.17647058823529413, 0.5, -0.8, -0.75, -0.4444444444444444, -0.3157894736842105, -0.3103448275862069, -0.3, -0.2894736842105263, -0.2815533980582524, -0.2, 0.05263157894736842, 0.2, 0.28, 0.3333333333333333, 0.6, 0.6363636363636364, -1.0, 1.0, 0.0, -0.2, 0.5, -0.5, -0.40540540540540543, -0.3333333333333333, -0.2727272727272727, -0.26666666666666666, -0.2336448598130841, -0.23076923076923078, -0.22058823529411764, -0.16363636363636364, -0.1111111111111111, 0.047619047619047616, 0.1111111111111111, 0.15384615384615385, 0.16666666666666666, 0.25, 0.3333333333333333, 0.6470588235294118, 0.6666666666666666, 0.7142857142857143, 0.7727272727272727, 0.8333333333333334, 0.8823529411764706, 0.0, -1.0, 1.0, 0.3333333333333333, -0.6363636363636364, -0.5, -0.46153846153846156, -0.4117647058823529, -0.4, -0.3333333333333333, -0.3076923076923077, -0.27044025157232704, -0.22580645161290322, -0.19424460431654678, -0.14285714285714285, -0.08108108108108109, 0.15789473684210525, 0.2, 0.37142857142857144, 0.3793103448275862, 0.42857142857142855, 0.6, 0.7333333333333333, 0.7446808510638298, 0.8461538461538461, 1.0, -1.0, 0.0, -0.2, -0.6666666666666666, -0.5, -0.4444444444444444, -0.4430379746835443, -0.3333333333333333, -0.3150684931506849, -0.2972972972972973, -0.25925925925925924, -0.23809523809523808, -0.23255813953488372, -0.1836734693877551, -0.14285714285714285, 0.03225806451612903, 0.1282051282051282, 0.14285714285714285, 0.15789473684210525, 0.36585365853658536, 0.42857142857142855, 0.6363636363636364, 0.6666666666666666, 0.673469387755102, 0.8571428571428571, 1.0, -1.0, 0.0, -0.9393939393939394, -0.9, -0.7142857142857143, -0.47368421052631576, -0.45454545454545453, -0.3793103448275862, -0.36363636363636365, -0.3170731707317073, -0.3, -0.2619047619047619, -0.24193548387096775, -0.21428571428571427, -0.2, -0.09090909090909091, -0.08695652173913043, -0.06666666666666667, -0.058823529411764705, 0.13043478260869565, 0.15384615384615385, 0.15789473684210525, 0.3333333333333333, 0.42857142857142855, 0.45454545454545453, 0.5254237288135594, 0.6, 0.6417910447761194, 0.75, 0.8333333333333334, 0.0, 1.0, -0.3333333333333333, -1.0, -0.6923076923076923, -0.5, -0.3559322033898305, -0.3076923076923077, -0.28, -0.27906976744186046, -0.2542372881355932, -0.22580645161290322, -0.2, -0.06382978723404255, 0.06666666666666667, 0.1111111111111111, 0.14285714285714285, 0.1836734693877551, 0.21951219512195122, 0.25, 0.2631578947368421, 0.3333333333333333, 0.5, 0.5714285714285714, 0.6470588235294118, 0.7142857142857143, 0.7777777777777778, 0.0, 1.0, -1.0, 0.3333333333333333, -0.8181818181818182, -0.7142857142857143, -0.6, -0.47058823529411764, -0.42857142857142855, -0.39622641509433965, -0.3333333333333333, -0.28, -0.26666666666666666, -0.25862068965517243, -0.21212121212121213, -0.14285714285714285, -0.1111111111111111, -0.061224489795918366, 0.01098901098901099, 0.01818181818181818, 0.125, 0.2, 0.25925925925925924, 0.2727272727272727, 0.4444444444444444, 0.5, 0.6, 0.6615384615384615, 0.7142857142857143, 0.75, 1.0, -1.0, 0.5, -0.5121951219512195, -0.6585365853658537, -0.5625, -0.5555555555555556, -0.4, -0.391304347826087, -0.38028169014084506, -0.3333333333333333, -0.2857142857142857, -0.2571428571428571, -0.25, -0.2222222222222222, -0.15789473684210525, -0.06666666666666667, 0.0, 0.09090909090909091, 0.1111111111111111, 0.17647058823529413, 0.18181818181818182, 0.2857142857142857, 0.3333333333333333, 0.36363636363636365, 0.36507936507936506, 0.44, 0.47368421052631576, 0.6, 0.625, 0.7777777777777778, 0.8823529411764706, 0.9428571428571428, 1.0, 0.0, -0.3333333333333333, 0.2, 0.3333333333333333, -1.0, -0.8, -0.6666666666666666, -0.5238095238095238, -0.5161290322580645, -0.47058823529411764, -0.41935483870967744, -0.4, -0.3972602739726027, -0.38461538461538464, -0.15, 0.019230769230769232, 0.04, 0.06666666666666667, 0.1111111111111111, 0.1724137931034483, 0.17647058823529413, 0.25, 0.3103448275862069, 0.38095238095238093, 0.4, 0.45098039215686275, 0.6, 0.6842105263157895, 0.7142857142857143, 0.8, 1.0, 0.0, -1.0, 0.3333333333333333, -0.7142857142857143, -0.3333333333333333, -0.7777777777777778, -0.5, -0.47368421052631576, -0.42857142857142855, -0.34375, -0.34285714285714286, -0.3076923076923077, -0.2826086956521739, -0.25, -0.18181818181818182, -0.17777777777777778, -0.14285714285714285, 0.027522935779816515, 0.16129032258064516, 0.2, 0.2903225806451613, 0.46153846153846156, 0.6666666666666666, 0.8, 0.8333333333333334, 0.875, 0.95, 1.0, -1.0, 0.0, 0.3333333333333333, -0.6538461538461539, -0.6, -0.5384615384615384, -0.5, -0.34328358208955223, -0.2727272727272727, -0.2413793103448276, -0.23404255319148937, -0.21739130434782608, -0.08620689655172414, -0.058823529411764705, -0.037037037037037035, -0.01098901098901099, 0.058823529411764705, 0.09090909090909091, 0.15151515151515152, 0.2222222222222222, 0.23076923076923078, 0.25, 0.391304347826087, 0.5, 0.5161290322580645, 0.5555555555555556, -1.0, 1.0, 0.0, 0.25, 0.3333333333333333, 0.45454545454545453, -0.6666666666666666, -0.5223880597014925, -0.5135135135135135, -0.5, -0.4789915966386555, -0.3, -0.26666666666666666, -0.25, -0.20833333333333334, -0.14285714285714285, -0.1044776119402985, -0.07142857142857142, -0.05660377358490566, 0.04, 0.14285714285714285, 0.2, 0.4461538461538462, 0.47368421052631576, 0.6666666666666666, 0.8461538461538461, -1.0, 1.0, 0.0, -0.6, 0.3333333333333333, -0.7142857142857143, -0.5625, -0.52, -0.48333333333333334, -0.48148148148148145, -0.3333333333333333, -0.28, -0.2727272727272727, -0.23809523809523808, -0.2, -0.06542056074766354, -0.047619047619047616, -0.037037037037037035, 0.02040816326530612, 0.043478260869565216, 0.09090909090909091, 0.1111111111111111, 0.14285714285714285, 0.17647058823529413, 0.2, 0.45454545454545453, 0.5789473684210527, 0.5918367346938775, 0.6842105263157895, 0.6923076923076923, 0.8260869565217391, 0.95, -1.0, 1.0, -0.5, 0.2, 0.0, 0.14285714285714285, -0.6666666666666666, 0.3333333333333333, 0.7142857142857143, -0.7777777777777778, -0.3333333333333333, -0.2653061224489796, -0.25146198830409355, -0.25, -0.21739130434782608, -0.10344827586206896, 0.4492753623188406, 0.5, 0.5714285714285714, 0.6, 0.8333333333333334, 0.9047619047619048, 1.0, -1.0, -0.6, 0.0, 0.75, -0.8333333333333334, -0.6521739130434783, -0.6111111111111112, -0.5625, -0.5, -0.45454545454545453, -0.42857142857142855, -0.4, -0.3939393939393939, -0.3793103448275862, -0.28, -0.21348314606741572, -0.2, -0.17391304347826086, -0.11363636363636363, -0.022222222222222223, 0.043478260869565216, 0.09090909090909091, 0.16666666666666666, 0.2, 0.3333333333333333, 0.3584905660377358, 0.4, 0.5384615384615384, 0.6666666666666666, 0.6923076923076923, 0.8461538461538461, 0.9354838709677419, -1.0, 1.0, -0.5, 0.3333333333333333, -0.2, 0.08333333333333333, 0.6, -0.8461538461538461, -0.5466666666666666, -0.5151515151515151, -0.4594594594594595, -0.3333333333333333, -0.3090909090909091, -0.21787709497206703, -0.13333333333333333, 0.0, 0.07692307692307693, 0.16666666666666666, 0.1724137931034483, 0.3673469387755102, 0.37037037037037035, 0.5, 0.5454545454545454, 0.6666666666666666, 0.8181818181818182, 0.8666666666666667, 1.0, -1.0, -0.6, -0.5, 0.0, 0.7142857142857143, -0.6666666666666666, -0.5833333333333334, -0.5555555555555556, -0.4666666666666667, -0.44, -0.3333333333333333, -0.2631578947368421, -0.25, -0.22330097087378642, -0.2159090909090909, -0.16666666666666666, -0.06666666666666667, -0.024390243902439025, 0.12, 0.34545454545454546, 0.35, 0.4117647058823529, 0.4225352112676056, 0.5, 0.6470588235294118, 0.6666666666666666, 0.875, 1.0, -1.0, 0.5555555555555556, -0.7777777777777778, -0.6, -0.5925925925925926, -0.48148148148148145, -0.42857142857142855, -0.3548387096774194, -0.30935251798561153, -0.2777777777777778, -0.2265193370165746, -0.20754716981132076, -0.125, -0.07692307692307693, 0.0, 0.2, 0.25, 0.2857142857142857, 0.2903225806451613, 0.3333333333333333, 0.4, 0.4074074074074074, 0.46835443037974683, 0.625, 0.6666666666666666, 0.6923076923076923, 0.75, 1.0, 0.0, -1.0, -0.6, -0.8, -0.46153846153846156, -0.373134328358209, -0.36507936507936506, -0.3333333333333333, -0.2549019607843137, -0.20903954802259886, -0.2, -0.18518518518518517, -0.058823529411764705, 0.3076923076923077, 0.3333333333333333, 0.35714285714285715, 0.3728813559322034, 0.5, 0.5294117647058824, 0.5555555555555556, 0.6, 0.6363636363636364, 0.6875, 0.75, 1.0, -1.0, -0.3333333333333333, 0.3333333333333333, -0.7142857142857143, -0.4634146341463415, -0.46153846153846156, -0.34375, -0.21739130434782608, -0.20224719101123595, -0.14606741573033707, -0.07692307692307693, -0.058823529411764705, 0.0, 0.05263157894736842, 0.14285714285714285, 0.16129032258064516, 0.3488372093023256, 0.3673469387755102, 0.4, 0.5, 0.5833333333333334, 0.6, 0.6774193548387096, 0.7058823529411765, 0.75, 0.875, -1.0, 1.0, -0.3333333333333333, 0.6666666666666666, 0.0, -0.8571428571428571, -0.5384615384615384, -0.5, -0.42857142857142855, -0.4166666666666667, -0.38461538461538464, -0.34782608695652173, -0.3, -0.15083798882681565, -0.05660377358490566, 0.1724137931034483, 0.2, 0.2549019607843137, 0.3333333333333333, 0.38, 0.6521739130434783, 0.68, 0.7142857142857143, 0.75, 0.7777777777777778, 0.8888888888888888, 0.0, -1.0, 1.0, -0.3333333333333333, -0.8947368421052632, -0.6571428571428571, -0.6, -0.5, -0.35353535353535354, -0.2602739726027397, -0.2, -0.15555555555555556, -0.06046511627906977, 0.05263157894736842, 0.2, 0.21739130434782608, 0.26666666666666666, 0.2857142857142857, 0.3333333333333333, 0.45454545454545453, 0.5384615384615384, 0.6153846153846154, 0.8947368421052632, 0.92, 0.9384615384615385, 0.0, 1.0, -1.0, -0.3333333333333333, -0.6666666666666666, -0.6470588235294118, -0.5833333333333334, -0.5, -0.45454545454545453, -0.42857142857142855, -0.3125, -0.2676056338028169, -0.16363636363636364, -0.152, -0.08823529411764706, -0.06481481481481481, 0.06666666666666667, 0.14285714285714285, 0.25, 0.29411764705882354, 0.3125, 0.3333333333333333, 0.4782608695652174, 0.5555555555555556, 0.5652173913043478, 0.8333333333333334, 0.8461538461538461, 1.0, -1.0, 0.0, 0.3333333333333333, -0.5, 0.5714285714285714, -0.6923076923076923, -0.6842105263157895, -0.5616438356164384, -0.45454545454545453, -0.3333333333333333, -0.31343283582089554, -0.21739130434782608, -0.18471337579617833, -0.14285714285714285, -0.11428571428571428, -0.0410958904109589, 0.06666666666666667, 0.10344827586206896, 0.1702127659574468, 0.24324324324324326, 0.42857142857142855, 0.5, 0.5384615384615384, 0.6, 0.7142857142857143, 0.8947368421052632, 1.0, 0.0, -1.0, -0.5555555555555556, -0.25, 0.5, -0.6285714285714286, -0.5384615384615384, -0.48148148148148145, -0.2892561983471074, -0.19148936170212766, -0.09859154929577464, -0.08571428571428572, -0.058823529411764705, 0.017964071856287425, 0.15789473684210525, 0.16666666666666666, 0.3333333333333333, 0.5862068965517241, 0.6, 0.6190476190476191, 0.6363636363636364, 0.6923076923076923, 0.9090909090909091, 1.0, -1.0, -0.3333333333333333, 0.0, -0.8064516129032258, -0.75, -0.6338028169014085, -0.5, -0.4909090909090909, -0.43859649122807015, -0.42857142857142855, -0.29508196721311475, -0.17647058823529413, -0.14634146341463414, -0.14285714285714285, -0.1044776119402985, -0.07142857142857142, 0.06870229007633588, 0.2, 0.25, 0.3333333333333333, 0.42857142857142855, 0.4666666666666667, 0.5, 0.5714285714285714, 0.5833333333333334, 0.6, 0.6666666666666666, 0.9090909090909091, -1.0, 1.0, -0.3333333333333333, 0.0, -0.5, -0.4642857142857143, 0.3333333333333333, 0.75, -0.8125, -0.6216216216216216, -0.31746031746031744, -0.24324324324324326, -0.14285714285714285, -0.12121212121212122, 0.07692307692307693, 0.08303249097472924, 0.13043478260869565, 0.2, 0.21212121212121213, 0.38461538461538464, 0.5, 0.6, 0.6923076923076923, 0.8888888888888888, 1.0, -1.0, 0.0, -0.3333333333333333, -0.9024390243902439, -0.8333333333333334, -0.7142857142857143, -0.5454545454545454, -0.4666666666666667, -0.4444444444444444, -0.4117647058823529, -0.2833333333333333, -0.2727272727272727, -0.22666666666666666, -0.14285714285714285, -0.125, -0.10144927536231885, 0.06666666666666667, 0.1103448275862069, 0.12, 0.2571428571428571, 0.42857142857142855, 0.4666666666666667, 0.5, 0.6, 0.7894736842105263, -1.0, 1.0, -0.3333333333333333, 0.0, 0.3333333333333333, 0.5, -0.7916666666666666, -0.75, -0.6666666666666666, -0.5121951219512195, -0.5, -0.47540983606557374, -0.45454545454545453, -0.288135593220339, -0.2777777777777778, -0.2631578947368421, -0.24324324324324326, -0.14285714285714285, 0.10819672131147541, 0.15555555555555556, 0.1891891891891892, 0.25, 0.5833333333333334, 0.7142857142857143, 0.7777777777777778, 0.8181818181818182, 0.875, 0.8947368421052632, 0.9402985074626866, 1.0, -1.0, 0.0, 0.3333333333333333, 0.5, -0.9393939393939394, -0.8297872340425532, -0.75, -0.6666666666666666, -0.625, -0.49206349206349204, -0.3333333333333333, -0.2773109243697479, -0.25333333333333335, -0.24324324324324326, -0.13043478260869565, -0.1111111111111111, -0.10344827586206896, 0.08860759493670886, 0.1111111111111111, 0.15789473684210525, 0.2641509433962264, 0.44329896907216493, 0.6, 0.7777777777777778, 1.0, -1.0, 0.0, 0.6, -0.8181818181818182, -0.7297297297297297, -0.6, -0.5757575757575758, -0.5555555555555556, -0.3055555555555556, -0.26666666666666666, -0.23684210526315788, -0.2, 0.0410958904109589, 0.0914826498422713, 0.14285714285714285, 0.1891891891891892, 0.2, 0.2621359223300971, 0.3333333333333333, 0.375, 0.4807692307692308, 0.7142857142857143, 1.0, -1.0, -0.8214285714285714, -0.75, -0.52, -0.4, -0.3333333333333333, -0.3, -0.28125, -0.22077922077922077, -0.21311475409836064, -0.1111111111111111, -0.03225806451612903, 0.0, 0.022222222222222223, 0.10294117647058823, 0.23076923076923078, 0.32142857142857145, 0.3333333333333333, 0.45454545454545453, 0.4666666666666667, 0.5, 0.6923076923076923], \"yaxis\": \"y\"}],\n",
              "                        {\"legend\": {\"itemsizing\": \"constant\", \"tracegroupgap\": 0}, \"margin\": {\"t\": 60}, \"template\": {\"data\": {\"bar\": [{\"error_x\": {\"color\": \"#2a3f5f\"}, \"error_y\": {\"color\": \"#2a3f5f\"}, \"marker\": {\"line\": {\"color\": \"#E5ECF6\", \"width\": 0.5}}, \"type\": \"bar\"}], \"barpolar\": [{\"marker\": {\"line\": {\"color\": \"#E5ECF6\", \"width\": 0.5}}, \"type\": \"barpolar\"}], \"carpet\": [{\"aaxis\": {\"endlinecolor\": \"#2a3f5f\", \"gridcolor\": \"white\", \"linecolor\": \"white\", \"minorgridcolor\": \"white\", \"startlinecolor\": \"#2a3f5f\"}, \"baxis\": {\"endlinecolor\": \"#2a3f5f\", \"gridcolor\": \"white\", \"linecolor\": \"white\", \"minorgridcolor\": \"white\", \"startlinecolor\": \"#2a3f5f\"}, \"type\": \"carpet\"}], \"choropleth\": [{\"colorbar\": {\"outlinewidth\": 0, \"ticks\": \"\"}, \"type\": \"choropleth\"}], \"contour\": [{\"colorbar\": {\"outlinewidth\": 0, \"ticks\": \"\"}, \"colorscale\": [[0.0, \"#0d0887\"], [0.1111111111111111, \"#46039f\"], [0.2222222222222222, \"#7201a8\"], [0.3333333333333333, \"#9c179e\"], [0.4444444444444444, \"#bd3786\"], [0.5555555555555556, \"#d8576b\"], [0.6666666666666666, \"#ed7953\"], [0.7777777777777778, \"#fb9f3a\"], [0.8888888888888888, \"#fdca26\"], [1.0, \"#f0f921\"]], \"type\": \"contour\"}], \"contourcarpet\": [{\"colorbar\": {\"outlinewidth\": 0, \"ticks\": \"\"}, \"type\": \"contourcarpet\"}], \"heatmap\": [{\"colorbar\": {\"outlinewidth\": 0, \"ticks\": \"\"}, \"colorscale\": [[0.0, \"#0d0887\"], [0.1111111111111111, \"#46039f\"], [0.2222222222222222, \"#7201a8\"], [0.3333333333333333, \"#9c179e\"], [0.4444444444444444, \"#bd3786\"], [0.5555555555555556, \"#d8576b\"], [0.6666666666666666, \"#ed7953\"], [0.7777777777777778, \"#fb9f3a\"], [0.8888888888888888, \"#fdca26\"], [1.0, \"#f0f921\"]], \"type\": \"heatmap\"}], \"heatmapgl\": [{\"colorbar\": {\"outlinewidth\": 0, \"ticks\": \"\"}, \"colorscale\": [[0.0, \"#0d0887\"], [0.1111111111111111, \"#46039f\"], [0.2222222222222222, \"#7201a8\"], [0.3333333333333333, \"#9c179e\"], [0.4444444444444444, \"#bd3786\"], [0.5555555555555556, \"#d8576b\"], [0.6666666666666666, \"#ed7953\"], [0.7777777777777778, \"#fb9f3a\"], [0.8888888888888888, \"#fdca26\"], [1.0, \"#f0f921\"]], \"type\": \"heatmapgl\"}], \"histogram\": [{\"marker\": {\"colorbar\": {\"outlinewidth\": 0, \"ticks\": \"\"}}, \"type\": \"histogram\"}], \"histogram2d\": [{\"colorbar\": {\"outlinewidth\": 0, \"ticks\": \"\"}, \"colorscale\": [[0.0, \"#0d0887\"], [0.1111111111111111, \"#46039f\"], [0.2222222222222222, \"#7201a8\"], [0.3333333333333333, \"#9c179e\"], [0.4444444444444444, \"#bd3786\"], [0.5555555555555556, \"#d8576b\"], [0.6666666666666666, \"#ed7953\"], [0.7777777777777778, \"#fb9f3a\"], [0.8888888888888888, \"#fdca26\"], [1.0, \"#f0f921\"]], \"type\": \"histogram2d\"}], \"histogram2dcontour\": [{\"colorbar\": {\"outlinewidth\": 0, \"ticks\": \"\"}, \"colorscale\": [[0.0, \"#0d0887\"], [0.1111111111111111, \"#46039f\"], [0.2222222222222222, \"#7201a8\"], [0.3333333333333333, \"#9c179e\"], [0.4444444444444444, \"#bd3786\"], [0.5555555555555556, \"#d8576b\"], [0.6666666666666666, \"#ed7953\"], [0.7777777777777778, \"#fb9f3a\"], [0.8888888888888888, \"#fdca26\"], [1.0, \"#f0f921\"]], \"type\": \"histogram2dcontour\"}], \"mesh3d\": [{\"colorbar\": {\"outlinewidth\": 0, \"ticks\": \"\"}, \"type\": \"mesh3d\"}], \"parcoords\": [{\"line\": {\"colorbar\": {\"outlinewidth\": 0, \"ticks\": \"\"}}, \"type\": \"parcoords\"}], \"pie\": [{\"automargin\": true, \"type\": \"pie\"}], \"scatter\": [{\"marker\": {\"colorbar\": {\"outlinewidth\": 0, \"ticks\": \"\"}}, \"type\": \"scatter\"}], \"scatter3d\": [{\"line\": {\"colorbar\": {\"outlinewidth\": 0, \"ticks\": \"\"}}, \"marker\": {\"colorbar\": {\"outlinewidth\": 0, \"ticks\": \"\"}}, \"type\": \"scatter3d\"}], \"scattercarpet\": [{\"marker\": {\"colorbar\": {\"outlinewidth\": 0, \"ticks\": \"\"}}, \"type\": \"scattercarpet\"}], \"scattergeo\": [{\"marker\": {\"colorbar\": {\"outlinewidth\": 0, \"ticks\": \"\"}}, \"type\": \"scattergeo\"}], \"scattergl\": [{\"marker\": {\"colorbar\": {\"outlinewidth\": 0, \"ticks\": \"\"}}, \"type\": \"scattergl\"}], \"scattermapbox\": [{\"marker\": {\"colorbar\": {\"outlinewidth\": 0, \"ticks\": \"\"}}, \"type\": \"scattermapbox\"}], \"scatterpolar\": [{\"marker\": {\"colorbar\": {\"outlinewidth\": 0, \"ticks\": \"\"}}, \"type\": \"scatterpolar\"}], \"scatterpolargl\": [{\"marker\": {\"colorbar\": {\"outlinewidth\": 0, \"ticks\": \"\"}}, \"type\": \"scatterpolargl\"}], \"scatterternary\": [{\"marker\": {\"colorbar\": {\"outlinewidth\": 0, \"ticks\": \"\"}}, \"type\": \"scatterternary\"}], \"surface\": [{\"colorbar\": {\"outlinewidth\": 0, \"ticks\": \"\"}, \"colorscale\": [[0.0, \"#0d0887\"], [0.1111111111111111, \"#46039f\"], [0.2222222222222222, \"#7201a8\"], [0.3333333333333333, \"#9c179e\"], [0.4444444444444444, \"#bd3786\"], [0.5555555555555556, \"#d8576b\"], [0.6666666666666666, \"#ed7953\"], [0.7777777777777778, \"#fb9f3a\"], [0.8888888888888888, \"#fdca26\"], [1.0, \"#f0f921\"]], \"type\": \"surface\"}], \"table\": [{\"cells\": {\"fill\": {\"color\": \"#EBF0F8\"}, \"line\": {\"color\": \"white\"}}, \"header\": {\"fill\": {\"color\": \"#C8D4E3\"}, \"line\": {\"color\": \"white\"}}, \"type\": \"table\"}]}, \"layout\": {\"annotationdefaults\": {\"arrowcolor\": \"#2a3f5f\", \"arrowhead\": 0, \"arrowwidth\": 1}, \"coloraxis\": {\"colorbar\": {\"outlinewidth\": 0, \"ticks\": \"\"}}, \"colorscale\": {\"diverging\": [[0, \"#8e0152\"], [0.1, \"#c51b7d\"], [0.2, \"#de77ae\"], [0.3, \"#f1b6da\"], [0.4, \"#fde0ef\"], [0.5, \"#f7f7f7\"], [0.6, \"#e6f5d0\"], [0.7, \"#b8e186\"], [0.8, \"#7fbc41\"], [0.9, \"#4d9221\"], [1, \"#276419\"]], \"sequential\": [[0.0, \"#0d0887\"], [0.1111111111111111, \"#46039f\"], [0.2222222222222222, \"#7201a8\"], [0.3333333333333333, \"#9c179e\"], [0.4444444444444444, \"#bd3786\"], [0.5555555555555556, \"#d8576b\"], [0.6666666666666666, \"#ed7953\"], [0.7777777777777778, \"#fb9f3a\"], [0.8888888888888888, \"#fdca26\"], [1.0, \"#f0f921\"]], \"sequentialminus\": [[0.0, \"#0d0887\"], [0.1111111111111111, \"#46039f\"], [0.2222222222222222, \"#7201a8\"], [0.3333333333333333, \"#9c179e\"], [0.4444444444444444, \"#bd3786\"], [0.5555555555555556, \"#d8576b\"], [0.6666666666666666, \"#ed7953\"], [0.7777777777777778, \"#fb9f3a\"], [0.8888888888888888, \"#fdca26\"], [1.0, \"#f0f921\"]]}, \"colorway\": [\"#636efa\", \"#EF553B\", \"#00cc96\", \"#ab63fa\", \"#FFA15A\", \"#19d3f3\", \"#FF6692\", \"#B6E880\", \"#FF97FF\", \"#FECB52\"], \"font\": {\"color\": \"#2a3f5f\"}, \"geo\": {\"bgcolor\": \"white\", \"lakecolor\": \"white\", \"landcolor\": \"#E5ECF6\", \"showlakes\": true, \"showland\": true, \"subunitcolor\": \"white\"}, \"hoverlabel\": {\"align\": \"left\"}, \"hovermode\": \"closest\", \"mapbox\": {\"style\": \"light\"}, \"paper_bgcolor\": \"white\", \"plot_bgcolor\": \"#E5ECF6\", \"polar\": {\"angularaxis\": {\"gridcolor\": \"white\", \"linecolor\": \"white\", \"ticks\": \"\"}, \"bgcolor\": \"#E5ECF6\", \"radialaxis\": {\"gridcolor\": \"white\", \"linecolor\": \"white\", \"ticks\": \"\"}}, \"scene\": {\"xaxis\": {\"backgroundcolor\": \"#E5ECF6\", \"gridcolor\": \"white\", \"gridwidth\": 2, \"linecolor\": \"white\", \"showbackground\": true, \"ticks\": \"\", \"zerolinecolor\": \"white\"}, \"yaxis\": {\"backgroundcolor\": \"#E5ECF6\", \"gridcolor\": \"white\", \"gridwidth\": 2, \"linecolor\": \"white\", \"showbackground\": true, \"ticks\": \"\", \"zerolinecolor\": \"white\"}, \"zaxis\": {\"backgroundcolor\": \"#E5ECF6\", \"gridcolor\": \"white\", \"gridwidth\": 2, \"linecolor\": \"white\", \"showbackground\": true, \"ticks\": \"\", \"zerolinecolor\": \"white\"}}, \"shapedefaults\": {\"line\": {\"color\": \"#2a3f5f\"}}, \"ternary\": {\"aaxis\": {\"gridcolor\": \"white\", \"linecolor\": \"white\", \"ticks\": \"\"}, \"baxis\": {\"gridcolor\": \"white\", \"linecolor\": \"white\", \"ticks\": \"\"}, \"bgcolor\": \"#E5ECF6\", \"caxis\": {\"gridcolor\": \"white\", \"linecolor\": \"white\", \"ticks\": \"\"}}, \"title\": {\"x\": 0.05}, \"xaxis\": {\"automargin\": true, \"gridcolor\": \"white\", \"linecolor\": \"white\", \"ticks\": \"\", \"title\": {\"standoff\": 15}, \"zerolinecolor\": \"white\", \"zerolinewidth\": 2}, \"yaxis\": {\"automargin\": true, \"gridcolor\": \"white\", \"linecolor\": \"white\", \"ticks\": \"\", \"title\": {\"standoff\": 15}, \"zerolinecolor\": \"white\", \"zerolinewidth\": 2}}}, \"xaxis\": {\"anchor\": \"y\", \"domain\": [0.0, 1.0], \"title\": {\"text\": \"Iteration\"}}, \"yaxis\": {\"anchor\": \"x\", \"domain\": [0.0, 1.0], \"title\": {\"text\": \"Signed ee\"}}},\n",
              "                        {\"responsive\": true}\n",
              "                    ).then(function(){\n",
              "                            \n",
              "var gd = document.getElementById('e3329cae-8bdc-4d5e-b5d5-8517036a8dd0');\n",
              "var x = new MutationObserver(function (mutations, observer) {{\n",
              "        var display = window.getComputedStyle(gd).display;\n",
              "        if (!display || display === 'none') {{\n",
              "            console.log([gd, 'removed!']);\n",
              "            Plotly.purge(gd);\n",
              "            observer.disconnect();\n",
              "        }}\n",
              "}});\n",
              "\n",
              "// Listen for the removal of the full notebook cells\n",
              "var notebookContainer = gd.closest('#notebook-container');\n",
              "if (notebookContainer) {{\n",
              "    x.observe(notebookContainer, {childList: true});\n",
              "}}\n",
              "\n",
              "// Listen for the clearing of the current output cell\n",
              "var outputEl = gd.closest('.output');\n",
              "if (outputEl) {{\n",
              "    x.observe(outputEl, {childList: true});\n",
              "}}\n",
              "\n",
              "                        })\n",
              "                };\n",
              "                \n",
              "            </script>\n",
              "        </div>\n",
              "</body>\n",
              "</html>"
            ]
          },
          "metadata": {
            "tags": [
              "id15_content_0",
              "outputarea_id15",
              "user_output"
            ]
          }
        },
        {
          "output_type": "display_data",
          "data": {
            "application/javascript": [
              "window[\"d87eb352-c60e-11ea-9e0a-0242ac1c0002\"] = google.colab.output.setActiveOutputArea(window[\"d8153a62-c60e-11ea-9e0a-0242ac1c0002\"]);\n",
              "//# sourceURL=js_d6410f5bc2"
            ],
            "text/plain": [
              "<IPython.core.display.Javascript object>"
            ]
          },
          "metadata": {
            "tags": [
              "id15_content_0",
              "outputarea_id15"
            ]
          }
        },
        {
          "output_type": "display_data",
          "data": {
            "application/javascript": [
              "window[\"d87f871e-c60e-11ea-9e0a-0242ac1c0002\"] = google.colab.output.getActiveOutputArea();\n",
              "//# sourceURL=js_c79e9c7915"
            ],
            "text/plain": [
              "<IPython.core.display.Javascript object>"
            ]
          },
          "metadata": {
            "tags": [
              "id15_content_1",
              "outputarea_id15"
            ]
          }
        },
        {
          "output_type": "display_data",
          "data": {
            "application/javascript": [
              "window[\"d87fbfa4-c60e-11ea-9e0a-0242ac1c0002\"] = document.querySelector(\"#id15_content_1\");\n",
              "//# sourceURL=js_3b5af3bd72"
            ],
            "text/plain": [
              "<IPython.core.display.Javascript object>"
            ]
          },
          "metadata": {
            "tags": [
              "id15_content_1",
              "outputarea_id15"
            ]
          }
        },
        {
          "output_type": "display_data",
          "data": {
            "application/javascript": [
              "window[\"d87ff1b8-c60e-11ea-9e0a-0242ac1c0002\"] = google.colab.output.setActiveOutputArea(window[\"d87fbfa4-c60e-11ea-9e0a-0242ac1c0002\"]);\n",
              "//# sourceURL=js_e04562c4d3"
            ],
            "text/plain": [
              "<IPython.core.display.Javascript object>"
            ]
          },
          "metadata": {
            "tags": [
              "id15_content_1",
              "outputarea_id15"
            ]
          }
        },
        {
          "output_type": "display_data",
          "data": {
            "text/html": [
              "<html>\n",
              "<head><meta charset=\"utf-8\" /></head>\n",
              "<body>\n",
              "    <div>\n",
              "            <script src=\"https://cdnjs.cloudflare.com/ajax/libs/mathjax/2.7.5/MathJax.js?config=TeX-AMS-MML_SVG\"></script><script type=\"text/javascript\">if (window.MathJax) {MathJax.Hub.Config({SVG: {font: \"STIX-Web\"}});}</script>\n",
              "                <script type=\"text/javascript\">window.PlotlyConfig = {MathJaxConfig: 'local'};</script>\n",
              "        <script src=\"https://cdn.plot.ly/plotly-latest.min.js\"></script>    \n",
              "            <div id=\"438881af-7408-4ad1-ad95-76f94c710166\" class=\"plotly-graph-div\" style=\"height:525px; width:100%;\"></div>\n",
              "            <script type=\"text/javascript\">\n",
              "                \n",
              "                    window.PLOTLYENV=window.PLOTLYENV || {};\n",
              "                    \n",
              "                if (document.getElementById(\"438881af-7408-4ad1-ad95-76f94c710166\")) {\n",
              "                    Plotly.newPlot(\n",
              "                        '438881af-7408-4ad1-ad95-76f94c710166',\n",
              "                        [{\"mode\": \"lines\", \"name\": \"left homochiral\", \"type\": \"scatter\", \"y\": [0.14285714285714285, 0.1794871794871795, 0.18, 0.1643835616438356, 0.15625, 0.1694915254237288, 0.1836734693877551, 0.1807909604519774, 0.19791666666666666, 0.19907407407407407, 0.18907563025210083, 0.18076923076923077, 0.17689530685920576, 0.18006430868167203, 0.18562874251497005, 0.19553072625698323, 0.2005420054200542, 0.2020997375328084, 0.20300751879699247, 0.19953051643192488, 0.20045045045045046, 0.20474137931034483, 0.1991701244813278, 0.2012072434607646, 0.19694072657743786, 0.19378427787934185, 0.19156414762741653, 0.19343696027633853, 0.19262981574539365, 0.19508196721311474, 0.19370078740157481, 0.19575113808801214, 0.19708029197080293, 0.19915848527349228, 0.1994535519125683, 0.19505851755526657, 0.1964735516372796, 0.20170109356014582, 0.20405727923627684, 0.20441347270615565, 0.20498301245753114, 0.20353982300884957, 0.20454545454545456, 0.20126448893572182, 0.19774590163934427, 0.195, 0.19215686274509805, 0.19500480307396734, 0.1951219512195122, 0.19647822057460612, 0.19638009049773755, 0.19649122807017544, 0.19759450171821305, 0.19847972972972974, 0.2, 0.20048309178743962, 0.2, 0.20093457943925233, 0.20229007633587787, 0.20269259536275244, 0.2029520295202952, 0.20275162925416365, 0.2046908315565032, 0.20403899721448468, 0.2050929112181693, 0.20516304347826086, 0.20633850303438975, 0.20730897009966778, 0.20705421293272372, 0.2087912087912088, 0.20809614168247945, 0.2096069868995633, 0.20925925925925926, 0.20998174071819842, 0.21081081081081082, 0.2116527942925089, 0.21365509123013537, 0.2159024956471271, 0.21555174385363066, 0.2160633484162896, 0.21456364647026124, 0.2160970231532525, 0.21451965065502182, 0.215210355987055, 0.21657754010695188, 0.21711568938193343, 0.21641400940930475, 0.21664943123061015, 0.21710189452124937, 0.21703853955375255, 0.21769733534439417, 0.21764997521070897, 0.21862745098039216, 0.21865889212827988, 0.21783132530120483, 0.21762156957149736, 0.21761904761904763, 0.2170433145009416, 0.21838544097060195, 0.21955719557195572]}, {\"mode\": \"lines\", \"name\": \"right homochiral\", \"type\": \"scatter\", \"y\": [0.19047619047619047, 0.1282051282051282, 0.16, 0.1780821917808219, 0.19791666666666666, 0.22033898305084745, 0.22448979591836735, 0.22598870056497175, 0.22395833333333334, 0.2175925925925926, 0.2184873949579832, 0.23076923076923078, 0.22382671480144403, 0.21864951768488747, 0.218562874251497, 0.21508379888268156, 0.2086720867208672, 0.2099737532808399, 0.21303258145363407, 0.215962441314554, 0.20945945945945946, 0.20905172413793102, 0.2157676348547718, 0.22334004024144868, 0.2198852772466539, 0.2230347349177331, 0.22495606326889278, 0.22452504317789293, 0.22613065326633167, 0.2262295081967213, 0.2283464566929134, 0.2276176024279211, 0.22627737226277372, 0.22580645161290322, 0.22540983606557377, 0.22626788036410922, 0.22670025188916876, 0.2235722964763062, 0.22195704057279236, 0.2218350754936121, 0.22423556058890148, 0.22676991150442477, 0.22727272727272727, 0.22866174920969443, 0.23155737704918034, 0.231, 0.23137254901960785, 0.22958693563880883, 0.22795497185741087, 0.22706209453197404, 0.22895927601809954, 0.22807017543859648, 0.22508591065292097, 0.22550675675675674, 0.2222222222222222, 0.2222222222222222, 0.22151394422310758, 0.2219626168224299, 0.22213740458015266, 0.22213911742707554, 0.2243542435424354, 0.22519913106444606, 0.22388059701492538, 0.22284122562674094, 0.22161046111493463, 0.22418478260869565, 0.2265677680377613, 0.22524916943521595, 0.22664924885695623, 0.22559793148028442, 0.2251739405439595, 0.2252027448533999, 0.22654320987654322, 0.22519780888618382, 0.22642642642642644, 0.22711058263971462, 0.22660388463802236, 0.2269297736506094, 0.22641509433962265, 0.2256787330316742, 0.2273485269594219, 0.22712238147739802, 0.2287117903930131, 0.22869471413160733, 0.2288770053475936, 0.22873745377707344, 0.22895974908520647, 0.22854188210961737, 0.22785458269329237, 0.22768762677484786, 0.22825540472599296, 0.2285572632622707, 0.22892156862745097, 0.2293488824101069, 0.23036144578313253, 0.23110255175734232, 0.2319047619047619, 0.23163841807909605, 0.23051796546896874, 0.23108856088560886]}, {\"mode\": \"lines\", \"name\": \"heterochiral\", \"type\": \"scatter\", \"y\": [0.6666666666666666, 0.6923076923076923, 0.66, 0.6575342465753424, 0.6458333333333334, 0.6101694915254238, 0.5918367346938775, 0.5932203389830508, 0.578125, 0.5833333333333334, 0.592436974789916, 0.5884615384615385, 0.5992779783393501, 0.6012861736334405, 0.5958083832335329, 0.5893854748603352, 0.5907859078590786, 0.5879265091863517, 0.5839598997493735, 0.5845070422535211, 0.5900900900900901, 0.5862068965517241, 0.5850622406639004, 0.5754527162977867, 0.5831739961759083, 0.583180987202925, 0.5834797891036907, 0.5820379965457686, 0.5812395309882747, 0.578688524590164, 0.5779527559055118, 0.5766312594840668, 0.5766423357664233, 0.5750350631136045, 0.575136612021858, 0.5786736020806242, 0.5768261964735516, 0.574726609963548, 0.5739856801909308, 0.5737514518002322, 0.5707814269535674, 0.5696902654867256, 0.5681818181818182, 0.5700737618545838, 0.5706967213114754, 0.574, 0.5764705882352941, 0.5754082612872238, 0.5769230769230769, 0.5764596848934198, 0.5746606334841629, 0.5754385964912281, 0.5773195876288659, 0.5760135135135135, 0.5777777777777777, 0.5772946859903382, 0.5784860557768924, 0.5771028037383178, 0.5755725190839694, 0.575168287210172, 0.5726937269372694, 0.5720492396813903, 0.5714285714285714, 0.5731197771587744, 0.573296627666896, 0.5706521739130435, 0.5670937289278489, 0.5674418604651162, 0.56629653821032, 0.5656108597285068, 0.5667299177735611, 0.5651902682470368, 0.5641975308641975, 0.5648204503956178, 0.5627627627627627, 0.5612366230677764, 0.5597410241318422, 0.5571677307022634, 0.5580331618067467, 0.5582579185520362, 0.5580878265703169, 0.5567805953693495, 0.5567685589519651, 0.5560949298813377, 0.5545454545454546, 0.5541468568409932, 0.5546262415054888, 0.5548086866597725, 0.5550435227854583, 0.5552738336713996, 0.5540472599296129, 0.5537927615270203, 0.5524509803921569, 0.5519922254616132, 0.5518072289156627, 0.5512758786711603, 0.5504761904761905, 0.5513182674199624, 0.5510965935604293, 0.5493542435424354]}],\n",
              "                        {\"template\": {\"data\": {\"bar\": [{\"error_x\": {\"color\": \"#2a3f5f\"}, \"error_y\": {\"color\": \"#2a3f5f\"}, \"marker\": {\"line\": {\"color\": \"#E5ECF6\", \"width\": 0.5}}, \"type\": \"bar\"}], \"barpolar\": [{\"marker\": {\"line\": {\"color\": \"#E5ECF6\", \"width\": 0.5}}, \"type\": \"barpolar\"}], \"carpet\": [{\"aaxis\": {\"endlinecolor\": \"#2a3f5f\", \"gridcolor\": \"white\", \"linecolor\": \"white\", \"minorgridcolor\": \"white\", \"startlinecolor\": \"#2a3f5f\"}, \"baxis\": {\"endlinecolor\": \"#2a3f5f\", \"gridcolor\": \"white\", \"linecolor\": \"white\", \"minorgridcolor\": \"white\", \"startlinecolor\": \"#2a3f5f\"}, \"type\": \"carpet\"}], \"choropleth\": [{\"colorbar\": {\"outlinewidth\": 0, \"ticks\": \"\"}, \"type\": \"choropleth\"}], \"contour\": [{\"colorbar\": {\"outlinewidth\": 0, \"ticks\": \"\"}, \"colorscale\": [[0.0, \"#0d0887\"], [0.1111111111111111, \"#46039f\"], [0.2222222222222222, \"#7201a8\"], [0.3333333333333333, \"#9c179e\"], [0.4444444444444444, \"#bd3786\"], [0.5555555555555556, \"#d8576b\"], [0.6666666666666666, \"#ed7953\"], [0.7777777777777778, \"#fb9f3a\"], [0.8888888888888888, \"#fdca26\"], [1.0, \"#f0f921\"]], \"type\": \"contour\"}], \"contourcarpet\": [{\"colorbar\": {\"outlinewidth\": 0, \"ticks\": \"\"}, \"type\": \"contourcarpet\"}], \"heatmap\": [{\"colorbar\": {\"outlinewidth\": 0, \"ticks\": \"\"}, \"colorscale\": [[0.0, \"#0d0887\"], [0.1111111111111111, \"#46039f\"], [0.2222222222222222, \"#7201a8\"], [0.3333333333333333, \"#9c179e\"], [0.4444444444444444, \"#bd3786\"], [0.5555555555555556, \"#d8576b\"], [0.6666666666666666, \"#ed7953\"], [0.7777777777777778, \"#fb9f3a\"], [0.8888888888888888, \"#fdca26\"], [1.0, \"#f0f921\"]], \"type\": \"heatmap\"}], \"heatmapgl\": [{\"colorbar\": {\"outlinewidth\": 0, \"ticks\": \"\"}, \"colorscale\": [[0.0, \"#0d0887\"], [0.1111111111111111, \"#46039f\"], [0.2222222222222222, \"#7201a8\"], [0.3333333333333333, \"#9c179e\"], [0.4444444444444444, \"#bd3786\"], [0.5555555555555556, \"#d8576b\"], [0.6666666666666666, \"#ed7953\"], [0.7777777777777778, \"#fb9f3a\"], [0.8888888888888888, \"#fdca26\"], [1.0, \"#f0f921\"]], \"type\": \"heatmapgl\"}], \"histogram\": [{\"marker\": {\"colorbar\": {\"outlinewidth\": 0, \"ticks\": \"\"}}, \"type\": \"histogram\"}], \"histogram2d\": [{\"colorbar\": {\"outlinewidth\": 0, \"ticks\": \"\"}, \"colorscale\": [[0.0, \"#0d0887\"], [0.1111111111111111, \"#46039f\"], [0.2222222222222222, \"#7201a8\"], [0.3333333333333333, \"#9c179e\"], [0.4444444444444444, \"#bd3786\"], [0.5555555555555556, \"#d8576b\"], [0.6666666666666666, \"#ed7953\"], [0.7777777777777778, \"#fb9f3a\"], [0.8888888888888888, \"#fdca26\"], [1.0, \"#f0f921\"]], \"type\": \"histogram2d\"}], \"histogram2dcontour\": [{\"colorbar\": {\"outlinewidth\": 0, \"ticks\": \"\"}, \"colorscale\": [[0.0, \"#0d0887\"], [0.1111111111111111, \"#46039f\"], [0.2222222222222222, \"#7201a8\"], [0.3333333333333333, \"#9c179e\"], [0.4444444444444444, \"#bd3786\"], [0.5555555555555556, \"#d8576b\"], [0.6666666666666666, \"#ed7953\"], [0.7777777777777778, \"#fb9f3a\"], [0.8888888888888888, \"#fdca26\"], [1.0, \"#f0f921\"]], \"type\": \"histogram2dcontour\"}], \"mesh3d\": [{\"colorbar\": {\"outlinewidth\": 0, \"ticks\": \"\"}, \"type\": \"mesh3d\"}], \"parcoords\": [{\"line\": {\"colorbar\": {\"outlinewidth\": 0, \"ticks\": \"\"}}, \"type\": \"parcoords\"}], \"pie\": [{\"automargin\": true, \"type\": \"pie\"}], \"scatter\": [{\"marker\": {\"colorbar\": {\"outlinewidth\": 0, \"ticks\": \"\"}}, \"type\": \"scatter\"}], \"scatter3d\": [{\"line\": {\"colorbar\": {\"outlinewidth\": 0, \"ticks\": \"\"}}, \"marker\": {\"colorbar\": {\"outlinewidth\": 0, \"ticks\": \"\"}}, \"type\": \"scatter3d\"}], \"scattercarpet\": [{\"marker\": {\"colorbar\": {\"outlinewidth\": 0, \"ticks\": \"\"}}, \"type\": \"scattercarpet\"}], \"scattergeo\": [{\"marker\": {\"colorbar\": {\"outlinewidth\": 0, \"ticks\": \"\"}}, \"type\": \"scattergeo\"}], \"scattergl\": [{\"marker\": {\"colorbar\": {\"outlinewidth\": 0, \"ticks\": \"\"}}, \"type\": \"scattergl\"}], \"scattermapbox\": [{\"marker\": {\"colorbar\": {\"outlinewidth\": 0, \"ticks\": \"\"}}, \"type\": \"scattermapbox\"}], \"scatterpolar\": [{\"marker\": {\"colorbar\": {\"outlinewidth\": 0, \"ticks\": \"\"}}, \"type\": \"scatterpolar\"}], \"scatterpolargl\": [{\"marker\": {\"colorbar\": {\"outlinewidth\": 0, \"ticks\": \"\"}}, \"type\": \"scatterpolargl\"}], \"scatterternary\": [{\"marker\": {\"colorbar\": {\"outlinewidth\": 0, \"ticks\": \"\"}}, \"type\": \"scatterternary\"}], \"surface\": [{\"colorbar\": {\"outlinewidth\": 0, \"ticks\": \"\"}, \"colorscale\": [[0.0, \"#0d0887\"], [0.1111111111111111, \"#46039f\"], [0.2222222222222222, \"#7201a8\"], [0.3333333333333333, \"#9c179e\"], [0.4444444444444444, \"#bd3786\"], [0.5555555555555556, \"#d8576b\"], [0.6666666666666666, \"#ed7953\"], [0.7777777777777778, \"#fb9f3a\"], [0.8888888888888888, \"#fdca26\"], [1.0, \"#f0f921\"]], \"type\": \"surface\"}], \"table\": [{\"cells\": {\"fill\": {\"color\": \"#EBF0F8\"}, \"line\": {\"color\": \"white\"}}, \"header\": {\"fill\": {\"color\": \"#C8D4E3\"}, \"line\": {\"color\": \"white\"}}, \"type\": \"table\"}]}, \"layout\": {\"annotationdefaults\": {\"arrowcolor\": \"#2a3f5f\", \"arrowhead\": 0, \"arrowwidth\": 1}, \"coloraxis\": {\"colorbar\": {\"outlinewidth\": 0, \"ticks\": \"\"}}, \"colorscale\": {\"diverging\": [[0, \"#8e0152\"], [0.1, \"#c51b7d\"], [0.2, \"#de77ae\"], [0.3, \"#f1b6da\"], [0.4, \"#fde0ef\"], [0.5, \"#f7f7f7\"], [0.6, \"#e6f5d0\"], [0.7, \"#b8e186\"], [0.8, \"#7fbc41\"], [0.9, \"#4d9221\"], [1, \"#276419\"]], \"sequential\": [[0.0, \"#0d0887\"], [0.1111111111111111, \"#46039f\"], [0.2222222222222222, \"#7201a8\"], [0.3333333333333333, \"#9c179e\"], [0.4444444444444444, \"#bd3786\"], [0.5555555555555556, \"#d8576b\"], [0.6666666666666666, \"#ed7953\"], [0.7777777777777778, \"#fb9f3a\"], [0.8888888888888888, \"#fdca26\"], [1.0, \"#f0f921\"]], \"sequentialminus\": [[0.0, \"#0d0887\"], [0.1111111111111111, \"#46039f\"], [0.2222222222222222, \"#7201a8\"], [0.3333333333333333, \"#9c179e\"], [0.4444444444444444, \"#bd3786\"], [0.5555555555555556, \"#d8576b\"], [0.6666666666666666, \"#ed7953\"], [0.7777777777777778, \"#fb9f3a\"], [0.8888888888888888, \"#fdca26\"], [1.0, \"#f0f921\"]]}, \"colorway\": [\"#636efa\", \"#EF553B\", \"#00cc96\", \"#ab63fa\", \"#FFA15A\", \"#19d3f3\", \"#FF6692\", \"#B6E880\", \"#FF97FF\", \"#FECB52\"], \"font\": {\"color\": \"#2a3f5f\"}, \"geo\": {\"bgcolor\": \"white\", \"lakecolor\": \"white\", \"landcolor\": \"#E5ECF6\", \"showlakes\": true, \"showland\": true, \"subunitcolor\": \"white\"}, \"hoverlabel\": {\"align\": \"left\"}, \"hovermode\": \"closest\", \"mapbox\": {\"style\": \"light\"}, \"paper_bgcolor\": \"white\", \"plot_bgcolor\": \"#E5ECF6\", \"polar\": {\"angularaxis\": {\"gridcolor\": \"white\", \"linecolor\": \"white\", \"ticks\": \"\"}, \"bgcolor\": \"#E5ECF6\", \"radialaxis\": {\"gridcolor\": \"white\", \"linecolor\": \"white\", \"ticks\": \"\"}}, \"scene\": {\"xaxis\": {\"backgroundcolor\": \"#E5ECF6\", \"gridcolor\": \"white\", \"gridwidth\": 2, \"linecolor\": \"white\", \"showbackground\": true, \"ticks\": \"\", \"zerolinecolor\": \"white\"}, \"yaxis\": {\"backgroundcolor\": \"#E5ECF6\", \"gridcolor\": \"white\", \"gridwidth\": 2, \"linecolor\": \"white\", \"showbackground\": true, \"ticks\": \"\", \"zerolinecolor\": \"white\"}, \"zaxis\": {\"backgroundcolor\": \"#E5ECF6\", \"gridcolor\": \"white\", \"gridwidth\": 2, \"linecolor\": \"white\", \"showbackground\": true, \"ticks\": \"\", \"zerolinecolor\": \"white\"}}, \"shapedefaults\": {\"line\": {\"color\": \"#2a3f5f\"}}, \"ternary\": {\"aaxis\": {\"gridcolor\": \"white\", \"linecolor\": \"white\", \"ticks\": \"\"}, \"baxis\": {\"gridcolor\": \"white\", \"linecolor\": \"white\", \"ticks\": \"\"}, \"bgcolor\": \"#E5ECF6\", \"caxis\": {\"gridcolor\": \"white\", \"linecolor\": \"white\", \"ticks\": \"\"}}, \"title\": {\"x\": 0.05}, \"xaxis\": {\"automargin\": true, \"gridcolor\": \"white\", \"linecolor\": \"white\", \"ticks\": \"\", \"title\": {\"standoff\": 15}, \"zerolinecolor\": \"white\", \"zerolinewidth\": 2}, \"yaxis\": {\"automargin\": true, \"gridcolor\": \"white\", \"linecolor\": \"white\", \"ticks\": \"\", \"title\": {\"standoff\": 15}, \"zerolinecolor\": \"white\", \"zerolinewidth\": 2}}}, \"title\": {\"text\": \"Proportion of LL, RR, and LR bonds by iteration\"}, \"xaxis\": {\"title\": {\"text\": \"Iteration\"}}, \"yaxis\": {\"range\": [0, 1], \"title\": {\"text\": \"Proportion\"}}},\n",
              "                        {\"responsive\": true}\n",
              "                    ).then(function(){\n",
              "                            \n",
              "var gd = document.getElementById('438881af-7408-4ad1-ad95-76f94c710166');\n",
              "var x = new MutationObserver(function (mutations, observer) {{\n",
              "        var display = window.getComputedStyle(gd).display;\n",
              "        if (!display || display === 'none') {{\n",
              "            console.log([gd, 'removed!']);\n",
              "            Plotly.purge(gd);\n",
              "            observer.disconnect();\n",
              "        }}\n",
              "}});\n",
              "\n",
              "// Listen for the removal of the full notebook cells\n",
              "var notebookContainer = gd.closest('#notebook-container');\n",
              "if (notebookContainer) {{\n",
              "    x.observe(notebookContainer, {childList: true});\n",
              "}}\n",
              "\n",
              "// Listen for the clearing of the current output cell\n",
              "var outputEl = gd.closest('.output');\n",
              "if (outputEl) {{\n",
              "    x.observe(outputEl, {childList: true});\n",
              "}}\n",
              "\n",
              "                        })\n",
              "                };\n",
              "                \n",
              "            </script>\n",
              "        </div>\n",
              "</body>\n",
              "</html>"
            ]
          },
          "metadata": {
            "tags": [
              "id15_content_1",
              "outputarea_id15",
              "user_output"
            ]
          }
        },
        {
          "output_type": "display_data",
          "data": {
            "application/javascript": [
              "window[\"d89b4a80-c60e-11ea-9e0a-0242ac1c0002\"] = google.colab.output.setActiveOutputArea(window[\"d87f871e-c60e-11ea-9e0a-0242ac1c0002\"]);\n",
              "//# sourceURL=js_89995a9d0e"
            ],
            "text/plain": [
              "<IPython.core.display.Javascript object>"
            ]
          },
          "metadata": {
            "tags": [
              "id15_content_1",
              "outputarea_id15"
            ]
          }
        },
        {
          "output_type": "display_data",
          "data": {
            "application/javascript": [
              "window[\"d89ce12e-c60e-11ea-9e0a-0242ac1c0002\"] = google.colab.output.getActiveOutputArea();\n",
              "//# sourceURL=js_6b8126d930"
            ],
            "text/plain": [
              "<IPython.core.display.Javascript object>"
            ]
          },
          "metadata": {
            "tags": [
              "id15_content_2",
              "outputarea_id15"
            ]
          }
        },
        {
          "output_type": "display_data",
          "data": {
            "application/javascript": [
              "window[\"d89d4150-c60e-11ea-9e0a-0242ac1c0002\"] = document.querySelector(\"#id15_content_2\");\n",
              "//# sourceURL=js_03fcc6ebd4"
            ],
            "text/plain": [
              "<IPython.core.display.Javascript object>"
            ]
          },
          "metadata": {
            "tags": [
              "id15_content_2",
              "outputarea_id15"
            ]
          }
        },
        {
          "output_type": "display_data",
          "data": {
            "application/javascript": [
              "window[\"d89d8ef8-c60e-11ea-9e0a-0242ac1c0002\"] = google.colab.output.setActiveOutputArea(window[\"d89d4150-c60e-11ea-9e0a-0242ac1c0002\"]);\n",
              "//# sourceURL=js_fa418531ac"
            ],
            "text/plain": [
              "<IPython.core.display.Javascript object>"
            ]
          },
          "metadata": {
            "tags": [
              "id15_content_2",
              "outputarea_id15"
            ]
          }
        },
        {
          "output_type": "display_data",
          "data": {
            "text/html": [
              "<html>\n",
              "<head><meta charset=\"utf-8\" /></head>\n",
              "<body>\n",
              "    <div>\n",
              "            <script src=\"https://cdnjs.cloudflare.com/ajax/libs/mathjax/2.7.5/MathJax.js?config=TeX-AMS-MML_SVG\"></script><script type=\"text/javascript\">if (window.MathJax) {MathJax.Hub.Config({SVG: {font: \"STIX-Web\"}});}</script>\n",
              "                <script type=\"text/javascript\">window.PlotlyConfig = {MathJaxConfig: 'local'};</script>\n",
              "        <script src=\"https://cdn.plot.ly/plotly-latest.min.js\"></script>    \n",
              "            <div id=\"7f9d1a08-8620-4de4-bf96-e593b5659272\" class=\"plotly-graph-div\" style=\"height:525px; width:100%;\"></div>\n",
              "            <script type=\"text/javascript\">\n",
              "                \n",
              "                    window.PLOTLYENV=window.PLOTLYENV || {};\n",
              "                    \n",
              "                if (document.getElementById(\"7f9d1a08-8620-4de4-bf96-e593b5659272\")) {\n",
              "                    Plotly.newPlot(\n",
              "                        '7f9d1a08-8620-4de4-bf96-e593b5659272',\n",
              "                        [{\"hoverlabel\": {\"namelength\": 0}, \"hovertemplate\": \"Iteration=0<br>Length=%{x}<br>%Homochirality=%{y}\", \"legendgroup\": \"\", \"marker\": {\"color\": \"#636efa\", \"symbol\": \"circle\"}, \"mode\": \"markers\", \"name\": \"\", \"showlegend\": false, \"type\": \"scatter\", \"x\": [1, 1, 1, 1, 1, 1, 1, 1, 1, 1, 1, 1, 1, 1, 1, 1, 1, 1, 1, 1, 1, 1, 1, 1, 1, 1, 1, 1, 1, 1, 1, 1, 1, 1, 1, 1, 1, 1, 1, 1, 1, 1, 1, 1, 1, 1, 1, 1, 1, 1, 1, 1, 1, 1, 1, 1, 1, 1, 1, 1, 1, 1, 1, 1, 1, 1, 1, 1, 1, 1, 1, 1, 2, 2, 2, 2, 2, 2, 2, 2, 2, 2, 2, 2, 2, 2], \"xaxis\": \"x\", \"y\": [null, null, null, null, null, null, null, null, null, null, null, null, null, null, null, null, null, null, null, null, null, null, null, null, null, null, null, null, null, null, null, null, null, null, null, null, null, null, null, null, null, null, null, null, null, null, null, null, null, null, null, null, null, null, null, null, null, null, null, null, null, null, null, null, null, null, null, null, null, null, null, null, 1.0, 0.0, 1.0, 0.0, 0.0, 1.0, 1.0, 0.0, 1.0, 0.0, 1.0, 0.0, 0.0, 1.0], \"yaxis\": \"y\"}],\n",
              "                        {\"legend\": {\"tracegroupgap\": 0}, \"margin\": {\"t\": 60}, \"sliders\": [{\"active\": 0, \"currentvalue\": {\"prefix\": \"Iteration=\"}, \"len\": 0.9, \"pad\": {\"b\": 10, \"t\": 60}, \"steps\": [{\"args\": [[\"0\"], {\"frame\": {\"duration\": 0, \"redraw\": false}, \"fromcurrent\": true, \"mode\": \"immediate\", \"transition\": {\"duration\": 0, \"easing\": \"linear\"}}], \"label\": \"0\", \"method\": \"animate\"}, {\"args\": [[\"1\"], {\"frame\": {\"duration\": 0, \"redraw\": false}, \"fromcurrent\": true, \"mode\": \"immediate\", \"transition\": {\"duration\": 0, \"easing\": \"linear\"}}], \"label\": \"1\", \"method\": \"animate\"}, {\"args\": [[\"2\"], {\"frame\": {\"duration\": 0, \"redraw\": false}, \"fromcurrent\": true, \"mode\": \"immediate\", \"transition\": {\"duration\": 0, \"easing\": \"linear\"}}], \"label\": \"2\", \"method\": \"animate\"}, {\"args\": [[\"3\"], {\"frame\": {\"duration\": 0, \"redraw\": false}, \"fromcurrent\": true, \"mode\": \"immediate\", \"transition\": {\"duration\": 0, \"easing\": \"linear\"}}], \"label\": \"3\", \"method\": \"animate\"}, {\"args\": [[\"4\"], {\"frame\": {\"duration\": 0, \"redraw\": false}, \"fromcurrent\": true, \"mode\": \"immediate\", \"transition\": {\"duration\": 0, \"easing\": \"linear\"}}], \"label\": \"4\", \"method\": \"animate\"}, {\"args\": [[\"5\"], {\"frame\": {\"duration\": 0, \"redraw\": false}, \"fromcurrent\": true, \"mode\": \"immediate\", \"transition\": {\"duration\": 0, \"easing\": \"linear\"}}], \"label\": \"5\", \"method\": \"animate\"}, {\"args\": [[\"6\"], {\"frame\": {\"duration\": 0, \"redraw\": false}, \"fromcurrent\": true, \"mode\": \"immediate\", \"transition\": {\"duration\": 0, \"easing\": \"linear\"}}], \"label\": \"6\", \"method\": \"animate\"}, {\"args\": [[\"7\"], {\"frame\": {\"duration\": 0, \"redraw\": false}, \"fromcurrent\": true, \"mode\": \"immediate\", \"transition\": {\"duration\": 0, \"easing\": \"linear\"}}], \"label\": \"7\", \"method\": \"animate\"}, {\"args\": [[\"8\"], {\"frame\": {\"duration\": 0, \"redraw\": false}, \"fromcurrent\": true, \"mode\": \"immediate\", \"transition\": {\"duration\": 0, \"easing\": \"linear\"}}], \"label\": \"8\", \"method\": \"animate\"}, {\"args\": [[\"9\"], {\"frame\": {\"duration\": 0, \"redraw\": false}, \"fromcurrent\": true, \"mode\": \"immediate\", \"transition\": {\"duration\": 0, \"easing\": \"linear\"}}], \"label\": \"9\", \"method\": \"animate\"}, {\"args\": [[\"10\"], {\"frame\": {\"duration\": 0, \"redraw\": false}, \"fromcurrent\": true, \"mode\": \"immediate\", \"transition\": {\"duration\": 0, \"easing\": \"linear\"}}], \"label\": \"10\", \"method\": \"animate\"}, {\"args\": [[\"11\"], {\"frame\": {\"duration\": 0, \"redraw\": false}, \"fromcurrent\": true, \"mode\": \"immediate\", \"transition\": {\"duration\": 0, \"easing\": \"linear\"}}], \"label\": \"11\", \"method\": \"animate\"}, {\"args\": [[\"12\"], {\"frame\": {\"duration\": 0, \"redraw\": false}, \"fromcurrent\": true, \"mode\": \"immediate\", \"transition\": {\"duration\": 0, \"easing\": \"linear\"}}], \"label\": \"12\", \"method\": \"animate\"}, {\"args\": [[\"13\"], {\"frame\": {\"duration\": 0, \"redraw\": false}, \"fromcurrent\": true, \"mode\": \"immediate\", \"transition\": {\"duration\": 0, \"easing\": \"linear\"}}], \"label\": \"13\", \"method\": \"animate\"}, {\"args\": [[\"14\"], {\"frame\": {\"duration\": 0, \"redraw\": false}, \"fromcurrent\": true, \"mode\": \"immediate\", \"transition\": {\"duration\": 0, \"easing\": \"linear\"}}], \"label\": \"14\", \"method\": \"animate\"}, {\"args\": [[\"15\"], {\"frame\": {\"duration\": 0, \"redraw\": false}, \"fromcurrent\": true, \"mode\": \"immediate\", \"transition\": {\"duration\": 0, \"easing\": \"linear\"}}], \"label\": \"15\", \"method\": \"animate\"}, {\"args\": [[\"16\"], {\"frame\": {\"duration\": 0, \"redraw\": false}, \"fromcurrent\": true, \"mode\": \"immediate\", \"transition\": {\"duration\": 0, \"easing\": \"linear\"}}], \"label\": \"16\", \"method\": \"animate\"}, {\"args\": [[\"17\"], {\"frame\": {\"duration\": 0, \"redraw\": false}, \"fromcurrent\": true, \"mode\": \"immediate\", \"transition\": {\"duration\": 0, \"easing\": \"linear\"}}], \"label\": \"17\", \"method\": \"animate\"}, {\"args\": [[\"18\"], {\"frame\": {\"duration\": 0, \"redraw\": false}, \"fromcurrent\": true, \"mode\": \"immediate\", \"transition\": {\"duration\": 0, \"easing\": \"linear\"}}], \"label\": \"18\", \"method\": \"animate\"}, {\"args\": [[\"19\"], {\"frame\": {\"duration\": 0, \"redraw\": false}, \"fromcurrent\": true, \"mode\": \"immediate\", \"transition\": {\"duration\": 0, \"easing\": \"linear\"}}], \"label\": \"19\", \"method\": \"animate\"}, {\"args\": [[\"20\"], {\"frame\": {\"duration\": 0, \"redraw\": false}, \"fromcurrent\": true, \"mode\": \"immediate\", \"transition\": {\"duration\": 0, \"easing\": \"linear\"}}], \"label\": \"20\", \"method\": \"animate\"}, {\"args\": [[\"21\"], {\"frame\": {\"duration\": 0, \"redraw\": false}, \"fromcurrent\": true, \"mode\": \"immediate\", \"transition\": {\"duration\": 0, \"easing\": \"linear\"}}], \"label\": \"21\", \"method\": \"animate\"}, {\"args\": [[\"22\"], {\"frame\": {\"duration\": 0, \"redraw\": false}, \"fromcurrent\": true, \"mode\": \"immediate\", \"transition\": {\"duration\": 0, \"easing\": \"linear\"}}], \"label\": \"22\", \"method\": \"animate\"}, {\"args\": [[\"23\"], {\"frame\": {\"duration\": 0, \"redraw\": false}, \"fromcurrent\": true, \"mode\": \"immediate\", \"transition\": {\"duration\": 0, \"easing\": \"linear\"}}], \"label\": \"23\", \"method\": \"animate\"}, {\"args\": [[\"24\"], {\"frame\": {\"duration\": 0, \"redraw\": false}, \"fromcurrent\": true, \"mode\": \"immediate\", \"transition\": {\"duration\": 0, \"easing\": \"linear\"}}], \"label\": \"24\", \"method\": \"animate\"}, {\"args\": [[\"25\"], {\"frame\": {\"duration\": 0, \"redraw\": false}, \"fromcurrent\": true, \"mode\": \"immediate\", \"transition\": {\"duration\": 0, \"easing\": \"linear\"}}], \"label\": \"25\", \"method\": \"animate\"}, {\"args\": [[\"26\"], {\"frame\": {\"duration\": 0, \"redraw\": false}, \"fromcurrent\": true, \"mode\": \"immediate\", \"transition\": {\"duration\": 0, \"easing\": \"linear\"}}], \"label\": \"26\", \"method\": \"animate\"}, {\"args\": [[\"27\"], {\"frame\": {\"duration\": 0, \"redraw\": false}, \"fromcurrent\": true, \"mode\": \"immediate\", \"transition\": {\"duration\": 0, \"easing\": \"linear\"}}], \"label\": \"27\", \"method\": \"animate\"}, {\"args\": [[\"28\"], {\"frame\": {\"duration\": 0, \"redraw\": false}, \"fromcurrent\": true, \"mode\": \"immediate\", \"transition\": {\"duration\": 0, \"easing\": \"linear\"}}], \"label\": \"28\", \"method\": \"animate\"}, {\"args\": [[\"29\"], {\"frame\": {\"duration\": 0, \"redraw\": false}, \"fromcurrent\": true, \"mode\": \"immediate\", \"transition\": {\"duration\": 0, \"easing\": \"linear\"}}], \"label\": \"29\", \"method\": \"animate\"}, {\"args\": [[\"30\"], {\"frame\": {\"duration\": 0, \"redraw\": false}, \"fromcurrent\": true, \"mode\": \"immediate\", \"transition\": {\"duration\": 0, \"easing\": \"linear\"}}], \"label\": \"30\", \"method\": \"animate\"}, {\"args\": [[\"31\"], {\"frame\": {\"duration\": 0, \"redraw\": false}, \"fromcurrent\": true, \"mode\": \"immediate\", \"transition\": {\"duration\": 0, \"easing\": \"linear\"}}], \"label\": \"31\", \"method\": \"animate\"}, {\"args\": [[\"32\"], {\"frame\": {\"duration\": 0, \"redraw\": false}, \"fromcurrent\": true, \"mode\": \"immediate\", \"transition\": {\"duration\": 0, \"easing\": \"linear\"}}], \"label\": \"32\", \"method\": \"animate\"}, {\"args\": [[\"33\"], {\"frame\": {\"duration\": 0, \"redraw\": false}, \"fromcurrent\": true, \"mode\": \"immediate\", \"transition\": {\"duration\": 0, \"easing\": \"linear\"}}], \"label\": \"33\", \"method\": \"animate\"}, {\"args\": [[\"34\"], {\"frame\": {\"duration\": 0, \"redraw\": false}, \"fromcurrent\": true, \"mode\": \"immediate\", \"transition\": {\"duration\": 0, \"easing\": \"linear\"}}], \"label\": \"34\", \"method\": \"animate\"}, {\"args\": [[\"35\"], {\"frame\": {\"duration\": 0, \"redraw\": false}, \"fromcurrent\": true, \"mode\": \"immediate\", \"transition\": {\"duration\": 0, \"easing\": \"linear\"}}], \"label\": \"35\", \"method\": \"animate\"}, {\"args\": [[\"36\"], {\"frame\": {\"duration\": 0, \"redraw\": false}, \"fromcurrent\": true, \"mode\": \"immediate\", \"transition\": {\"duration\": 0, \"easing\": \"linear\"}}], \"label\": \"36\", \"method\": \"animate\"}, {\"args\": [[\"37\"], {\"frame\": {\"duration\": 0, \"redraw\": false}, \"fromcurrent\": true, \"mode\": \"immediate\", \"transition\": {\"duration\": 0, \"easing\": \"linear\"}}], \"label\": \"37\", \"method\": \"animate\"}, {\"args\": [[\"38\"], {\"frame\": {\"duration\": 0, \"redraw\": false}, \"fromcurrent\": true, \"mode\": \"immediate\", \"transition\": {\"duration\": 0, \"easing\": \"linear\"}}], \"label\": \"38\", \"method\": \"animate\"}, {\"args\": [[\"39\"], {\"frame\": {\"duration\": 0, \"redraw\": false}, \"fromcurrent\": true, \"mode\": \"immediate\", \"transition\": {\"duration\": 0, \"easing\": \"linear\"}}], \"label\": \"39\", \"method\": \"animate\"}, {\"args\": [[\"40\"], {\"frame\": {\"duration\": 0, \"redraw\": false}, \"fromcurrent\": true, \"mode\": \"immediate\", \"transition\": {\"duration\": 0, \"easing\": \"linear\"}}], \"label\": \"40\", \"method\": \"animate\"}, {\"args\": [[\"41\"], {\"frame\": {\"duration\": 0, \"redraw\": false}, \"fromcurrent\": true, \"mode\": \"immediate\", \"transition\": {\"duration\": 0, \"easing\": \"linear\"}}], \"label\": \"41\", \"method\": \"animate\"}, {\"args\": [[\"42\"], {\"frame\": {\"duration\": 0, \"redraw\": false}, \"fromcurrent\": true, \"mode\": \"immediate\", \"transition\": {\"duration\": 0, \"easing\": \"linear\"}}], \"label\": \"42\", \"method\": \"animate\"}, {\"args\": [[\"43\"], {\"frame\": {\"duration\": 0, \"redraw\": false}, \"fromcurrent\": true, \"mode\": \"immediate\", \"transition\": {\"duration\": 0, \"easing\": \"linear\"}}], \"label\": \"43\", \"method\": \"animate\"}, {\"args\": [[\"44\"], {\"frame\": {\"duration\": 0, \"redraw\": false}, \"fromcurrent\": true, \"mode\": \"immediate\", \"transition\": {\"duration\": 0, \"easing\": \"linear\"}}], \"label\": \"44\", \"method\": \"animate\"}, {\"args\": [[\"45\"], {\"frame\": {\"duration\": 0, \"redraw\": false}, \"fromcurrent\": true, \"mode\": \"immediate\", \"transition\": {\"duration\": 0, \"easing\": \"linear\"}}], \"label\": \"45\", \"method\": \"animate\"}, {\"args\": [[\"46\"], {\"frame\": {\"duration\": 0, \"redraw\": false}, \"fromcurrent\": true, \"mode\": \"immediate\", \"transition\": {\"duration\": 0, \"easing\": \"linear\"}}], \"label\": \"46\", \"method\": \"animate\"}, {\"args\": [[\"47\"], {\"frame\": {\"duration\": 0, \"redraw\": false}, \"fromcurrent\": true, \"mode\": \"immediate\", \"transition\": {\"duration\": 0, \"easing\": \"linear\"}}], \"label\": \"47\", \"method\": \"animate\"}, {\"args\": [[\"48\"], {\"frame\": {\"duration\": 0, \"redraw\": false}, \"fromcurrent\": true, \"mode\": \"immediate\", \"transition\": {\"duration\": 0, \"easing\": \"linear\"}}], \"label\": \"48\", \"method\": \"animate\"}, {\"args\": [[\"49\"], {\"frame\": {\"duration\": 0, \"redraw\": false}, \"fromcurrent\": true, \"mode\": \"immediate\", \"transition\": {\"duration\": 0, \"easing\": \"linear\"}}], \"label\": \"49\", \"method\": \"animate\"}, {\"args\": [[\"50\"], {\"frame\": {\"duration\": 0, \"redraw\": false}, \"fromcurrent\": true, \"mode\": \"immediate\", \"transition\": {\"duration\": 0, \"easing\": \"linear\"}}], \"label\": \"50\", \"method\": \"animate\"}, {\"args\": [[\"51\"], {\"frame\": {\"duration\": 0, \"redraw\": false}, \"fromcurrent\": true, \"mode\": \"immediate\", \"transition\": {\"duration\": 0, \"easing\": \"linear\"}}], \"label\": \"51\", \"method\": \"animate\"}, {\"args\": [[\"52\"], {\"frame\": {\"duration\": 0, \"redraw\": false}, \"fromcurrent\": true, \"mode\": \"immediate\", \"transition\": {\"duration\": 0, \"easing\": \"linear\"}}], \"label\": \"52\", \"method\": \"animate\"}, {\"args\": [[\"53\"], {\"frame\": {\"duration\": 0, \"redraw\": false}, \"fromcurrent\": true, \"mode\": \"immediate\", \"transition\": {\"duration\": 0, \"easing\": \"linear\"}}], \"label\": \"53\", \"method\": \"animate\"}, {\"args\": [[\"54\"], {\"frame\": {\"duration\": 0, \"redraw\": false}, \"fromcurrent\": true, \"mode\": \"immediate\", \"transition\": {\"duration\": 0, \"easing\": \"linear\"}}], \"label\": \"54\", \"method\": \"animate\"}, {\"args\": [[\"55\"], {\"frame\": {\"duration\": 0, \"redraw\": false}, \"fromcurrent\": true, \"mode\": \"immediate\", \"transition\": {\"duration\": 0, \"easing\": \"linear\"}}], \"label\": \"55\", \"method\": \"animate\"}, {\"args\": [[\"56\"], {\"frame\": {\"duration\": 0, \"redraw\": false}, \"fromcurrent\": true, \"mode\": \"immediate\", \"transition\": {\"duration\": 0, \"easing\": \"linear\"}}], \"label\": \"56\", \"method\": \"animate\"}, {\"args\": [[\"57\"], {\"frame\": {\"duration\": 0, \"redraw\": false}, \"fromcurrent\": true, \"mode\": \"immediate\", \"transition\": {\"duration\": 0, \"easing\": \"linear\"}}], \"label\": \"57\", \"method\": \"animate\"}, {\"args\": [[\"58\"], {\"frame\": {\"duration\": 0, \"redraw\": false}, \"fromcurrent\": true, \"mode\": \"immediate\", \"transition\": {\"duration\": 0, \"easing\": \"linear\"}}], \"label\": \"58\", \"method\": \"animate\"}, {\"args\": [[\"59\"], {\"frame\": {\"duration\": 0, \"redraw\": false}, \"fromcurrent\": true, \"mode\": \"immediate\", \"transition\": {\"duration\": 0, \"easing\": \"linear\"}}], \"label\": \"59\", \"method\": \"animate\"}, {\"args\": [[\"60\"], {\"frame\": {\"duration\": 0, \"redraw\": false}, \"fromcurrent\": true, \"mode\": \"immediate\", \"transition\": {\"duration\": 0, \"easing\": \"linear\"}}], \"label\": \"60\", \"method\": \"animate\"}, {\"args\": [[\"61\"], {\"frame\": {\"duration\": 0, \"redraw\": false}, \"fromcurrent\": true, \"mode\": \"immediate\", \"transition\": {\"duration\": 0, \"easing\": \"linear\"}}], \"label\": \"61\", \"method\": \"animate\"}, {\"args\": [[\"62\"], {\"frame\": {\"duration\": 0, \"redraw\": false}, \"fromcurrent\": true, \"mode\": \"immediate\", \"transition\": {\"duration\": 0, \"easing\": \"linear\"}}], \"label\": \"62\", \"method\": \"animate\"}, {\"args\": [[\"63\"], {\"frame\": {\"duration\": 0, \"redraw\": false}, \"fromcurrent\": true, \"mode\": \"immediate\", \"transition\": {\"duration\": 0, \"easing\": \"linear\"}}], \"label\": \"63\", \"method\": \"animate\"}, {\"args\": [[\"64\"], {\"frame\": {\"duration\": 0, \"redraw\": false}, \"fromcurrent\": true, \"mode\": \"immediate\", \"transition\": {\"duration\": 0, \"easing\": \"linear\"}}], \"label\": \"64\", \"method\": \"animate\"}, {\"args\": [[\"65\"], {\"frame\": {\"duration\": 0, \"redraw\": false}, \"fromcurrent\": true, \"mode\": \"immediate\", \"transition\": {\"duration\": 0, \"easing\": \"linear\"}}], \"label\": \"65\", \"method\": \"animate\"}, {\"args\": [[\"66\"], {\"frame\": {\"duration\": 0, \"redraw\": false}, \"fromcurrent\": true, \"mode\": \"immediate\", \"transition\": {\"duration\": 0, \"easing\": \"linear\"}}], \"label\": \"66\", \"method\": \"animate\"}, {\"args\": [[\"67\"], {\"frame\": {\"duration\": 0, \"redraw\": false}, \"fromcurrent\": true, \"mode\": \"immediate\", \"transition\": {\"duration\": 0, \"easing\": \"linear\"}}], \"label\": \"67\", \"method\": \"animate\"}, {\"args\": [[\"68\"], {\"frame\": {\"duration\": 0, \"redraw\": false}, \"fromcurrent\": true, \"mode\": \"immediate\", \"transition\": {\"duration\": 0, \"easing\": \"linear\"}}], \"label\": \"68\", \"method\": \"animate\"}, {\"args\": [[\"69\"], {\"frame\": {\"duration\": 0, \"redraw\": false}, \"fromcurrent\": true, \"mode\": \"immediate\", \"transition\": {\"duration\": 0, \"easing\": \"linear\"}}], \"label\": \"69\", \"method\": \"animate\"}, {\"args\": [[\"70\"], {\"frame\": {\"duration\": 0, \"redraw\": false}, \"fromcurrent\": true, \"mode\": \"immediate\", \"transition\": {\"duration\": 0, \"easing\": \"linear\"}}], \"label\": \"70\", \"method\": \"animate\"}, {\"args\": [[\"71\"], {\"frame\": {\"duration\": 0, \"redraw\": false}, \"fromcurrent\": true, \"mode\": \"immediate\", \"transition\": {\"duration\": 0, \"easing\": \"linear\"}}], \"label\": \"71\", \"method\": \"animate\"}, {\"args\": [[\"72\"], {\"frame\": {\"duration\": 0, \"redraw\": false}, \"fromcurrent\": true, \"mode\": \"immediate\", \"transition\": {\"duration\": 0, \"easing\": \"linear\"}}], \"label\": \"72\", \"method\": \"animate\"}, {\"args\": [[\"73\"], {\"frame\": {\"duration\": 0, \"redraw\": false}, \"fromcurrent\": true, \"mode\": \"immediate\", \"transition\": {\"duration\": 0, \"easing\": \"linear\"}}], \"label\": \"73\", \"method\": \"animate\"}, {\"args\": [[\"74\"], {\"frame\": {\"duration\": 0, \"redraw\": false}, \"fromcurrent\": true, \"mode\": \"immediate\", \"transition\": {\"duration\": 0, \"easing\": \"linear\"}}], \"label\": \"74\", \"method\": \"animate\"}, {\"args\": [[\"75\"], {\"frame\": {\"duration\": 0, \"redraw\": false}, \"fromcurrent\": true, \"mode\": \"immediate\", \"transition\": {\"duration\": 0, \"easing\": \"linear\"}}], \"label\": \"75\", \"method\": \"animate\"}, {\"args\": [[\"76\"], {\"frame\": {\"duration\": 0, \"redraw\": false}, \"fromcurrent\": true, \"mode\": \"immediate\", \"transition\": {\"duration\": 0, \"easing\": \"linear\"}}], \"label\": \"76\", \"method\": \"animate\"}, {\"args\": [[\"77\"], {\"frame\": {\"duration\": 0, \"redraw\": false}, \"fromcurrent\": true, \"mode\": \"immediate\", \"transition\": {\"duration\": 0, \"easing\": \"linear\"}}], \"label\": \"77\", \"method\": \"animate\"}, {\"args\": [[\"78\"], {\"frame\": {\"duration\": 0, \"redraw\": false}, \"fromcurrent\": true, \"mode\": \"immediate\", \"transition\": {\"duration\": 0, \"easing\": \"linear\"}}], \"label\": \"78\", \"method\": \"animate\"}, {\"args\": [[\"79\"], {\"frame\": {\"duration\": 0, \"redraw\": false}, \"fromcurrent\": true, \"mode\": \"immediate\", \"transition\": {\"duration\": 0, \"easing\": \"linear\"}}], \"label\": \"79\", \"method\": \"animate\"}, {\"args\": [[\"80\"], {\"frame\": {\"duration\": 0, \"redraw\": false}, \"fromcurrent\": true, \"mode\": \"immediate\", \"transition\": {\"duration\": 0, \"easing\": \"linear\"}}], \"label\": \"80\", \"method\": \"animate\"}, {\"args\": [[\"81\"], {\"frame\": {\"duration\": 0, \"redraw\": false}, \"fromcurrent\": true, \"mode\": \"immediate\", \"transition\": {\"duration\": 0, \"easing\": \"linear\"}}], \"label\": \"81\", \"method\": \"animate\"}, {\"args\": [[\"82\"], {\"frame\": {\"duration\": 0, \"redraw\": false}, \"fromcurrent\": true, \"mode\": \"immediate\", \"transition\": {\"duration\": 0, \"easing\": \"linear\"}}], \"label\": \"82\", \"method\": \"animate\"}, {\"args\": [[\"83\"], {\"frame\": {\"duration\": 0, \"redraw\": false}, \"fromcurrent\": true, \"mode\": \"immediate\", \"transition\": {\"duration\": 0, \"easing\": \"linear\"}}], \"label\": \"83\", \"method\": \"animate\"}, {\"args\": [[\"84\"], {\"frame\": {\"duration\": 0, \"redraw\": false}, \"fromcurrent\": true, \"mode\": \"immediate\", \"transition\": {\"duration\": 0, \"easing\": \"linear\"}}], \"label\": \"84\", \"method\": \"animate\"}, {\"args\": [[\"85\"], {\"frame\": {\"duration\": 0, \"redraw\": false}, \"fromcurrent\": true, \"mode\": \"immediate\", \"transition\": {\"duration\": 0, \"easing\": \"linear\"}}], \"label\": \"85\", \"method\": \"animate\"}, {\"args\": [[\"86\"], {\"frame\": {\"duration\": 0, \"redraw\": false}, \"fromcurrent\": true, \"mode\": \"immediate\", \"transition\": {\"duration\": 0, \"easing\": \"linear\"}}], \"label\": \"86\", \"method\": \"animate\"}, {\"args\": [[\"87\"], {\"frame\": {\"duration\": 0, \"redraw\": false}, \"fromcurrent\": true, \"mode\": \"immediate\", \"transition\": {\"duration\": 0, \"easing\": \"linear\"}}], \"label\": \"87\", \"method\": \"animate\"}, {\"args\": [[\"88\"], {\"frame\": {\"duration\": 0, \"redraw\": false}, \"fromcurrent\": true, \"mode\": \"immediate\", \"transition\": {\"duration\": 0, \"easing\": \"linear\"}}], \"label\": \"88\", \"method\": \"animate\"}, {\"args\": [[\"89\"], {\"frame\": {\"duration\": 0, \"redraw\": false}, \"fromcurrent\": true, \"mode\": \"immediate\", \"transition\": {\"duration\": 0, \"easing\": \"linear\"}}], \"label\": \"89\", \"method\": \"animate\"}, {\"args\": [[\"90\"], {\"frame\": {\"duration\": 0, \"redraw\": false}, \"fromcurrent\": true, \"mode\": \"immediate\", \"transition\": {\"duration\": 0, \"easing\": \"linear\"}}], \"label\": \"90\", \"method\": \"animate\"}, {\"args\": [[\"91\"], {\"frame\": {\"duration\": 0, \"redraw\": false}, \"fromcurrent\": true, \"mode\": \"immediate\", \"transition\": {\"duration\": 0, \"easing\": \"linear\"}}], \"label\": \"91\", \"method\": \"animate\"}, {\"args\": [[\"92\"], {\"frame\": {\"duration\": 0, \"redraw\": false}, \"fromcurrent\": true, \"mode\": \"immediate\", \"transition\": {\"duration\": 0, \"easing\": \"linear\"}}], \"label\": \"92\", \"method\": \"animate\"}, {\"args\": [[\"93\"], {\"frame\": {\"duration\": 0, \"redraw\": false}, \"fromcurrent\": true, \"mode\": \"immediate\", \"transition\": {\"duration\": 0, \"easing\": \"linear\"}}], \"label\": \"93\", \"method\": \"animate\"}, {\"args\": [[\"94\"], {\"frame\": {\"duration\": 0, \"redraw\": false}, \"fromcurrent\": true, \"mode\": \"immediate\", \"transition\": {\"duration\": 0, \"easing\": \"linear\"}}], \"label\": \"94\", \"method\": \"animate\"}, {\"args\": [[\"95\"], {\"frame\": {\"duration\": 0, \"redraw\": false}, \"fromcurrent\": true, \"mode\": \"immediate\", \"transition\": {\"duration\": 0, \"easing\": \"linear\"}}], \"label\": \"95\", \"method\": \"animate\"}, {\"args\": [[\"96\"], {\"frame\": {\"duration\": 0, \"redraw\": false}, \"fromcurrent\": true, \"mode\": \"immediate\", \"transition\": {\"duration\": 0, \"easing\": \"linear\"}}], \"label\": \"96\", \"method\": \"animate\"}, {\"args\": [[\"97\"], {\"frame\": {\"duration\": 0, \"redraw\": false}, \"fromcurrent\": true, \"mode\": \"immediate\", \"transition\": {\"duration\": 0, \"easing\": \"linear\"}}], \"label\": \"97\", \"method\": \"animate\"}, {\"args\": [[\"98\"], {\"frame\": {\"duration\": 0, \"redraw\": false}, \"fromcurrent\": true, \"mode\": \"immediate\", \"transition\": {\"duration\": 0, \"easing\": \"linear\"}}], \"label\": \"98\", \"method\": \"animate\"}, {\"args\": [[\"99\"], {\"frame\": {\"duration\": 0, \"redraw\": false}, \"fromcurrent\": true, \"mode\": \"immediate\", \"transition\": {\"duration\": 0, \"easing\": \"linear\"}}], \"label\": \"99\", \"method\": \"animate\"}], \"x\": 0.1, \"xanchor\": \"left\", \"y\": 0, \"yanchor\": \"top\"}], \"template\": {\"data\": {\"bar\": [{\"error_x\": {\"color\": \"#2a3f5f\"}, \"error_y\": {\"color\": \"#2a3f5f\"}, \"marker\": {\"line\": {\"color\": \"#E5ECF6\", \"width\": 0.5}}, \"type\": \"bar\"}], \"barpolar\": [{\"marker\": {\"line\": {\"color\": \"#E5ECF6\", \"width\": 0.5}}, \"type\": \"barpolar\"}], \"carpet\": [{\"aaxis\": {\"endlinecolor\": \"#2a3f5f\", \"gridcolor\": \"white\", \"linecolor\": \"white\", \"minorgridcolor\": \"white\", \"startlinecolor\": \"#2a3f5f\"}, \"baxis\": {\"endlinecolor\": \"#2a3f5f\", \"gridcolor\": \"white\", \"linecolor\": \"white\", \"minorgridcolor\": \"white\", \"startlinecolor\": \"#2a3f5f\"}, \"type\": \"carpet\"}], \"choropleth\": [{\"colorbar\": {\"outlinewidth\": 0, \"ticks\": \"\"}, \"type\": \"choropleth\"}], \"contour\": [{\"colorbar\": {\"outlinewidth\": 0, \"ticks\": \"\"}, \"colorscale\": [[0.0, \"#0d0887\"], [0.1111111111111111, \"#46039f\"], [0.2222222222222222, \"#7201a8\"], [0.3333333333333333, \"#9c179e\"], [0.4444444444444444, \"#bd3786\"], [0.5555555555555556, \"#d8576b\"], [0.6666666666666666, \"#ed7953\"], [0.7777777777777778, \"#fb9f3a\"], [0.8888888888888888, \"#fdca26\"], [1.0, \"#f0f921\"]], \"type\": \"contour\"}], \"contourcarpet\": [{\"colorbar\": {\"outlinewidth\": 0, \"ticks\": \"\"}, \"type\": \"contourcarpet\"}], \"heatmap\": [{\"colorbar\": {\"outlinewidth\": 0, \"ticks\": \"\"}, \"colorscale\": [[0.0, \"#0d0887\"], [0.1111111111111111, \"#46039f\"], [0.2222222222222222, \"#7201a8\"], [0.3333333333333333, \"#9c179e\"], [0.4444444444444444, \"#bd3786\"], [0.5555555555555556, \"#d8576b\"], [0.6666666666666666, \"#ed7953\"], [0.7777777777777778, \"#fb9f3a\"], [0.8888888888888888, \"#fdca26\"], [1.0, \"#f0f921\"]], \"type\": \"heatmap\"}], \"heatmapgl\": [{\"colorbar\": {\"outlinewidth\": 0, \"ticks\": \"\"}, \"colorscale\": [[0.0, \"#0d0887\"], [0.1111111111111111, \"#46039f\"], [0.2222222222222222, \"#7201a8\"], [0.3333333333333333, \"#9c179e\"], [0.4444444444444444, \"#bd3786\"], [0.5555555555555556, \"#d8576b\"], [0.6666666666666666, \"#ed7953\"], [0.7777777777777778, \"#fb9f3a\"], [0.8888888888888888, \"#fdca26\"], [1.0, \"#f0f921\"]], \"type\": \"heatmapgl\"}], \"histogram\": [{\"marker\": {\"colorbar\": {\"outlinewidth\": 0, \"ticks\": \"\"}}, \"type\": \"histogram\"}], \"histogram2d\": [{\"colorbar\": {\"outlinewidth\": 0, \"ticks\": \"\"}, \"colorscale\": [[0.0, \"#0d0887\"], [0.1111111111111111, \"#46039f\"], [0.2222222222222222, \"#7201a8\"], [0.3333333333333333, \"#9c179e\"], [0.4444444444444444, \"#bd3786\"], [0.5555555555555556, \"#d8576b\"], [0.6666666666666666, \"#ed7953\"], [0.7777777777777778, \"#fb9f3a\"], [0.8888888888888888, \"#fdca26\"], [1.0, \"#f0f921\"]], \"type\": \"histogram2d\"}], \"histogram2dcontour\": [{\"colorbar\": {\"outlinewidth\": 0, \"ticks\": \"\"}, \"colorscale\": [[0.0, \"#0d0887\"], [0.1111111111111111, \"#46039f\"], [0.2222222222222222, \"#7201a8\"], [0.3333333333333333, \"#9c179e\"], [0.4444444444444444, \"#bd3786\"], [0.5555555555555556, \"#d8576b\"], [0.6666666666666666, \"#ed7953\"], [0.7777777777777778, \"#fb9f3a\"], [0.8888888888888888, \"#fdca26\"], [1.0, \"#f0f921\"]], \"type\": \"histogram2dcontour\"}], \"mesh3d\": [{\"colorbar\": {\"outlinewidth\": 0, \"ticks\": \"\"}, \"type\": \"mesh3d\"}], \"parcoords\": [{\"line\": {\"colorbar\": {\"outlinewidth\": 0, \"ticks\": \"\"}}, \"type\": \"parcoords\"}], \"pie\": [{\"automargin\": true, \"type\": \"pie\"}], \"scatter\": [{\"marker\": {\"colorbar\": {\"outlinewidth\": 0, \"ticks\": \"\"}}, \"type\": \"scatter\"}], \"scatter3d\": [{\"line\": {\"colorbar\": {\"outlinewidth\": 0, \"ticks\": \"\"}}, \"marker\": {\"colorbar\": {\"outlinewidth\": 0, \"ticks\": \"\"}}, \"type\": \"scatter3d\"}], \"scattercarpet\": [{\"marker\": {\"colorbar\": {\"outlinewidth\": 0, \"ticks\": \"\"}}, \"type\": \"scattercarpet\"}], \"scattergeo\": [{\"marker\": {\"colorbar\": {\"outlinewidth\": 0, \"ticks\": \"\"}}, \"type\": \"scattergeo\"}], \"scattergl\": [{\"marker\": {\"colorbar\": {\"outlinewidth\": 0, \"ticks\": \"\"}}, \"type\": \"scattergl\"}], \"scattermapbox\": [{\"marker\": {\"colorbar\": {\"outlinewidth\": 0, \"ticks\": \"\"}}, \"type\": \"scattermapbox\"}], \"scatterpolar\": [{\"marker\": {\"colorbar\": {\"outlinewidth\": 0, \"ticks\": \"\"}}, \"type\": \"scatterpolar\"}], \"scatterpolargl\": [{\"marker\": {\"colorbar\": {\"outlinewidth\": 0, \"ticks\": \"\"}}, \"type\": \"scatterpolargl\"}], \"scatterternary\": [{\"marker\": {\"colorbar\": {\"outlinewidth\": 0, \"ticks\": \"\"}}, \"type\": \"scatterternary\"}], \"surface\": [{\"colorbar\": {\"outlinewidth\": 0, \"ticks\": \"\"}, \"colorscale\": [[0.0, \"#0d0887\"], [0.1111111111111111, \"#46039f\"], [0.2222222222222222, \"#7201a8\"], [0.3333333333333333, \"#9c179e\"], [0.4444444444444444, \"#bd3786\"], [0.5555555555555556, \"#d8576b\"], [0.6666666666666666, \"#ed7953\"], [0.7777777777777778, \"#fb9f3a\"], [0.8888888888888888, \"#fdca26\"], [1.0, \"#f0f921\"]], \"type\": \"surface\"}], \"table\": [{\"cells\": {\"fill\": {\"color\": \"#EBF0F8\"}, \"line\": {\"color\": \"white\"}}, \"header\": {\"fill\": {\"color\": \"#C8D4E3\"}, \"line\": {\"color\": \"white\"}}, \"type\": \"table\"}]}, \"layout\": {\"annotationdefaults\": {\"arrowcolor\": \"#2a3f5f\", \"arrowhead\": 0, \"arrowwidth\": 1}, \"coloraxis\": {\"colorbar\": {\"outlinewidth\": 0, \"ticks\": \"\"}}, \"colorscale\": {\"diverging\": [[0, \"#8e0152\"], [0.1, \"#c51b7d\"], [0.2, \"#de77ae\"], [0.3, \"#f1b6da\"], [0.4, \"#fde0ef\"], [0.5, \"#f7f7f7\"], [0.6, \"#e6f5d0\"], [0.7, \"#b8e186\"], [0.8, \"#7fbc41\"], [0.9, \"#4d9221\"], [1, \"#276419\"]], \"sequential\": [[0.0, \"#0d0887\"], [0.1111111111111111, \"#46039f\"], [0.2222222222222222, \"#7201a8\"], [0.3333333333333333, \"#9c179e\"], [0.4444444444444444, \"#bd3786\"], [0.5555555555555556, \"#d8576b\"], [0.6666666666666666, \"#ed7953\"], [0.7777777777777778, \"#fb9f3a\"], [0.8888888888888888, \"#fdca26\"], [1.0, \"#f0f921\"]], \"sequentialminus\": [[0.0, \"#0d0887\"], [0.1111111111111111, \"#46039f\"], [0.2222222222222222, \"#7201a8\"], [0.3333333333333333, \"#9c179e\"], [0.4444444444444444, \"#bd3786\"], [0.5555555555555556, \"#d8576b\"], [0.6666666666666666, \"#ed7953\"], [0.7777777777777778, \"#fb9f3a\"], [0.8888888888888888, \"#fdca26\"], [1.0, \"#f0f921\"]]}, \"colorway\": [\"#636efa\", \"#EF553B\", \"#00cc96\", \"#ab63fa\", \"#FFA15A\", \"#19d3f3\", \"#FF6692\", \"#B6E880\", \"#FF97FF\", \"#FECB52\"], \"font\": {\"color\": \"#2a3f5f\"}, \"geo\": {\"bgcolor\": \"white\", \"lakecolor\": \"white\", \"landcolor\": \"#E5ECF6\", \"showlakes\": true, \"showland\": true, \"subunitcolor\": \"white\"}, \"hoverlabel\": {\"align\": \"left\"}, \"hovermode\": \"closest\", \"mapbox\": {\"style\": \"light\"}, \"paper_bgcolor\": \"white\", \"plot_bgcolor\": \"#E5ECF6\", \"polar\": {\"angularaxis\": {\"gridcolor\": \"white\", \"linecolor\": \"white\", \"ticks\": \"\"}, \"bgcolor\": \"#E5ECF6\", \"radialaxis\": {\"gridcolor\": \"white\", \"linecolor\": \"white\", \"ticks\": \"\"}}, \"scene\": {\"xaxis\": {\"backgroundcolor\": \"#E5ECF6\", \"gridcolor\": \"white\", \"gridwidth\": 2, \"linecolor\": \"white\", \"showbackground\": true, \"ticks\": \"\", \"zerolinecolor\": \"white\"}, \"yaxis\": {\"backgroundcolor\": \"#E5ECF6\", \"gridcolor\": \"white\", \"gridwidth\": 2, \"linecolor\": \"white\", \"showbackground\": true, \"ticks\": \"\", \"zerolinecolor\": \"white\"}, \"zaxis\": {\"backgroundcolor\": \"#E5ECF6\", \"gridcolor\": \"white\", \"gridwidth\": 2, \"linecolor\": \"white\", \"showbackground\": true, \"ticks\": \"\", \"zerolinecolor\": \"white\"}}, \"shapedefaults\": {\"line\": {\"color\": \"#2a3f5f\"}}, \"ternary\": {\"aaxis\": {\"gridcolor\": \"white\", \"linecolor\": \"white\", \"ticks\": \"\"}, \"baxis\": {\"gridcolor\": \"white\", \"linecolor\": \"white\", \"ticks\": \"\"}, \"bgcolor\": \"#E5ECF6\", \"caxis\": {\"gridcolor\": \"white\", \"linecolor\": \"white\", \"ticks\": \"\"}}, \"title\": {\"x\": 0.05}, \"xaxis\": {\"automargin\": true, \"gridcolor\": \"white\", \"linecolor\": \"white\", \"ticks\": \"\", \"title\": {\"standoff\": 15}, \"zerolinecolor\": \"white\", \"zerolinewidth\": 2}, \"yaxis\": {\"automargin\": true, \"gridcolor\": \"white\", \"linecolor\": \"white\", \"ticks\": \"\", \"title\": {\"standoff\": 15}, \"zerolinecolor\": \"white\", \"zerolinewidth\": 2}}}, \"updatemenus\": [{\"buttons\": [{\"args\": [null, {\"frame\": {\"duration\": 500, \"redraw\": false}, \"fromcurrent\": true, \"mode\": \"immediate\", \"transition\": {\"duration\": 500, \"easing\": \"linear\"}}], \"label\": \"&#9654;\", \"method\": \"animate\"}, {\"args\": [[null], {\"frame\": {\"duration\": 0, \"redraw\": false}, \"fromcurrent\": true, \"mode\": \"immediate\", \"transition\": {\"duration\": 0, \"easing\": \"linear\"}}], \"label\": \"&#9724;\", \"method\": \"animate\"}], \"direction\": \"left\", \"pad\": {\"r\": 10, \"t\": 70}, \"showactive\": false, \"type\": \"buttons\", \"x\": 0.1, \"xanchor\": \"right\", \"y\": 0, \"yanchor\": \"top\"}], \"xaxis\": {\"anchor\": \"y\", \"domain\": [0.0, 1.0], \"range\": [-1, 318], \"title\": {\"text\": \"Length\"}}, \"yaxis\": {\"anchor\": \"x\", \"domain\": [0.0, 1.0], \"range\": [-0.01, 1.2], \"title\": {\"text\": \"%Homochirality\"}}},\n",
              "                        {\"responsive\": true}\n",
              "                    ).then(function(){\n",
              "                            Plotly.addFrames('7f9d1a08-8620-4de4-bf96-e593b5659272', [{\"data\": [{\"hoverlabel\": {\"namelength\": 0}, \"hovertemplate\": \"Iteration=0<br>Length=%{x}<br>%Homochirality=%{y}\", \"legendgroup\": \"\", \"marker\": {\"color\": \"#636efa\", \"symbol\": \"circle\"}, \"mode\": \"markers\", \"name\": \"\", \"showlegend\": false, \"x\": [1, 1, 1, 1, 1, 1, 1, 1, 1, 1, 1, 1, 1, 1, 1, 1, 1, 1, 1, 1, 1, 1, 1, 1, 1, 1, 1, 1, 1, 1, 1, 1, 1, 1, 1, 1, 1, 1, 1, 1, 1, 1, 1, 1, 1, 1, 1, 1, 1, 1, 1, 1, 1, 1, 1, 1, 1, 1, 1, 1, 1, 1, 1, 1, 1, 1, 1, 1, 1, 1, 1, 1, 2, 2, 2, 2, 2, 2, 2, 2, 2, 2, 2, 2, 2, 2], \"xaxis\": \"x\", \"y\": [null, null, null, null, null, null, null, null, null, null, null, null, null, null, null, null, null, null, null, null, null, null, null, null, null, null, null, null, null, null, null, null, null, null, null, null, null, null, null, null, null, null, null, null, null, null, null, null, null, null, null, null, null, null, null, null, null, null, null, null, null, null, null, null, null, null, null, null, null, null, null, null, 1.0, 0.0, 1.0, 0.0, 0.0, 1.0, 1.0, 0.0, 1.0, 0.0, 1.0, 0.0, 0.0, 1.0], \"yaxis\": \"y\", \"type\": \"scatter\"}], \"name\": \"0\"}, {\"data\": [{\"hoverlabel\": {\"namelength\": 0}, \"hovertemplate\": \"Iteration=1<br>Length=%{x}<br>%Homochirality=%{y}\", \"legendgroup\": \"\", \"marker\": {\"color\": \"#636efa\", \"symbol\": \"circle\"}, \"mode\": \"markers\", \"name\": \"\", \"showlegend\": false, \"x\": [1, 1, 1, 3, 2, 1, 1, 1, 1, 1, 1, 1, 1, 1, 1, 4, 1, 1, 1, 1, 1, 1, 1, 1, 1, 1, 1, 2, 1, 1, 1, 1, 1, 1, 1, 1, 1, 1, 1, 1, 1, 1, 1, 1, 1, 1, 1, 1, 1, 1, 1, 1, 1, 1, 1, 1, 1, 1, 1, 3, 1, 1, 1, 1, 1, 1, 3, 1, 1, 2, 2, 3, 1, 1, 3, 2, 2, 3, 1, 1, 2, 1, 1, 2, 3, 2, 2], \"xaxis\": \"x\", \"y\": [null, null, null, 0.5, 1.0, null, null, null, null, null, null, null, null, null, null, 0.3333333333333333, null, null, null, null, null, null, null, null, null, null, null, 1.0, null, null, null, null, null, null, null, null, null, null, null, null, null, null, null, null, null, null, null, null, null, null, null, null, null, null, null, null, null, null, null, 0.5, null, null, null, null, null, null, 0.5, null, null, 0.0, 0.0, 0.0, null, null, 0.5, 1.0, 0.0, 1.0, null, null, 1.0, null, null, 0.0, 0.5, 0.0, 0.0], \"yaxis\": \"y\", \"type\": \"scatter\"}], \"name\": \"1\"}, {\"data\": [{\"hoverlabel\": {\"namelength\": 0}, \"hovertemplate\": \"Iteration=2<br>Length=%{x}<br>%Homochirality=%{y}\", \"legendgroup\": \"\", \"marker\": {\"color\": \"#636efa\", \"symbol\": \"circle\"}, \"mode\": \"markers\", \"name\": \"\", \"showlegend\": false, \"x\": [1, 1, 1, 1, 1, 1, 1, 1, 1, 1, 1, 1, 1, 1, 1, 1, 1, 1, 1, 1, 1, 6, 2, 1, 1, 1, 1, 1, 1, 1, 1, 1, 1, 1, 1, 2, 1, 1, 1, 1, 1, 1, 1, 1, 1, 1, 1, 1, 1, 1, 1, 1, 1, 1, 1, 1, 1, 5, 1, 1, 1, 1, 2, 1, 1, 1, 1, 1, 1, 1, 1, 1, 2, 1, 1, 1, 1, 3, 2, 4, 4, 2, 1, 2, 2, 1, 4, 1, 1, 2, 1, 1, 2, 4], \"xaxis\": \"x\", \"y\": [null, null, null, null, null, null, null, null, null, null, null, null, null, null, null, null, null, null, null, null, null, 0.2, 1.0, null, null, null, null, null, null, null, null, null, null, null, null, 1.0, null, null, null, null, null, null, null, null, null, null, null, null, null, null, null, null, null, null, null, null, null, 0.5, null, null, null, null, 1.0, null, null, null, null, null, null, null, null, null, 0.0, null, null, null, null, 0.5, 1.0, 0.3333333333333333, 0.6666666666666666, 1.0, null, 1.0, 1.0, null, 0.6666666666666666, null, null, 1.0, null, null, 0.0, 0.0], \"yaxis\": \"y\", \"type\": \"scatter\"}], \"name\": \"2\"}, {\"data\": [{\"hoverlabel\": {\"namelength\": 0}, \"hovertemplate\": \"Iteration=3<br>Length=%{x}<br>%Homochirality=%{y}\", \"legendgroup\": \"\", \"marker\": {\"color\": \"#636efa\", \"symbol\": \"circle\"}, \"mode\": \"markers\", \"name\": \"\", \"showlegend\": false, \"x\": [1, 1, 1, 1, 2, 1, 1, 1, 7, 1, 1, 1, 3, 1, 3, 1, 1, 1, 4, 1, 1, 1, 1, 1, 1, 1, 1, 1, 1, 1, 1, 1, 1, 1, 1, 4, 1, 1, 1, 1, 1, 1, 1, 1, 3, 1, 1, 1, 1, 1, 4, 1, 1, 1, 1, 3, 1, 1, 1, 1, 1, 1, 1, 1, 1, 1, 1, 1, 1, 1, 1, 2, 2, 1, 5, 2, 2, 2, 2, 2, 5, 5, 3, 3, 2], \"xaxis\": \"x\", \"y\": [null, null, null, null, 1.0, null, null, null, 0.5, null, null, null, 1.0, null, 1.0, null, null, null, 0.3333333333333333, null, null, null, null, null, null, null, null, null, null, null, null, null, null, null, null, 0.3333333333333333, null, null, null, null, null, null, null, null, 0.5, null, null, null, null, null, 0.3333333333333333, null, null, null, null, 0.5, null, null, null, null, null, null, null, null, null, null, null, null, null, null, null, 1.0, 0.0, null, 0.75, 1.0, 1.0, 0.0, 0.0, 1.0, 0.25, 0.0, 1.0, 1.0, 0.0], \"yaxis\": \"y\", \"type\": \"scatter\"}], \"name\": \"3\"}, {\"data\": [{\"hoverlabel\": {\"namelength\": 0}, \"hovertemplate\": \"Iteration=4<br>Length=%{x}<br>%Homochirality=%{y}\", \"legendgroup\": \"\", \"marker\": {\"color\": \"#636efa\", \"symbol\": \"circle\"}, \"mode\": \"markers\", \"name\": \"\", \"showlegend\": false, \"x\": [1, 1, 4, 1, 1, 1, 1, 1, 1, 1, 1, 2, 1, 1, 4, 1, 1, 1, 1, 1, 3, 1, 1, 7, 1, 9, 1, 1, 1, 3, 1, 1, 3, 1, 1, 1, 4, 1, 1, 1, 1, 3, 1, 1, 1, 1, 4, 1, 1, 1, 1, 1, 1, 1, 1, 1, 1, 1, 1, 1, 3, 2, 1, 1, 1, 1, 5, 1, 1, 1, 2, 6, 1, 1, 2, 1, 2, 3, 1, 2, 2, 2, 4, 2, 3, 2], \"xaxis\": \"x\", \"y\": [null, null, 0.0, null, null, null, null, null, null, null, null, 1.0, null, null, 0.6666666666666666, null, null, null, null, null, 0.0, null, null, 0.3333333333333333, null, 0.5, null, null, null, 0.5, null, null, 1.0, null, null, null, 0.6666666666666666, null, null, null, null, 0.5, null, null, null, null, 1.0, null, null, null, null, null, null, null, null, null, null, null, null, null, 0.0, 1.0, null, null, null, null, 0.25, null, null, null, 0.0, 1.0, null, null, 0.0, null, 1.0, 0.5, null, 0.0, 1.0, 1.0, 0.6666666666666666, 0.0, 1.0, 1.0], \"yaxis\": \"y\", \"type\": \"scatter\"}], \"name\": \"4\"}, {\"data\": [{\"hoverlabel\": {\"namelength\": 0}, \"hovertemplate\": \"Iteration=5<br>Length=%{x}<br>%Homochirality=%{y}\", \"legendgroup\": \"\", \"marker\": {\"color\": \"#636efa\", \"symbol\": \"circle\"}, \"mode\": \"markers\", \"name\": \"\", \"showlegend\": false, \"x\": [1, 5, 6, 1, 1, 1, 1, 1, 1, 1, 3, 1, 1, 5, 2, 1, 1, 1, 1, 1, 1, 2, 1, 1, 1, 3, 3, 2, 1, 1, 3, 1, 1, 1, 1, 1, 1, 1, 1, 1, 1, 1, 1, 12, 1, 1, 1, 1, 1, 1, 1, 5, 2, 1, 1, 1, 1, 5, 1, 1, 2, 1, 1, 1, 1, 1, 1, 1, 1, 1, 3, 2, 1, 4, 2, 2, 1, 3, 1, 2, 1, 2, 4, 3, 2, 2, 2, 5, 2, 3], \"xaxis\": \"x\", \"y\": [null, 0.5, 1.0, null, null, null, null, null, null, null, 1.0, null, null, 0.25, 1.0, null, null, null, null, null, null, 0.0, null, null, null, 1.0, 0.5, 1.0, null, null, 0.0, null, null, null, null, null, null, null, null, null, null, null, null, 0.5454545454545454, null, null, null, null, null, null, null, 0.25, 1.0, null, null, null, null, 0.25, null, null, 1.0, null, null, null, null, null, null, null, null, null, 0.5, 1.0, null, 0.6666666666666666, 1.0, 1.0, null, 1.0, null, 0.0, null, 1.0, 0.6666666666666666, 0.5, 0.0, 1.0, 1.0, 1.0, 1.0, 1.0], \"yaxis\": \"y\", \"type\": \"scatter\"}], \"name\": \"5\"}, {\"data\": [{\"hoverlabel\": {\"namelength\": 0}, \"hovertemplate\": \"Iteration=6<br>Length=%{x}<br>%Homochirality=%{y}\", \"legendgroup\": \"\", \"marker\": {\"color\": \"#636efa\", \"symbol\": \"circle\"}, \"mode\": \"markers\", \"name\": \"\", \"showlegend\": false, \"x\": [6, 1, 1, 1, 3, 1, 1, 6, 1, 1, 1, 1, 1, 3, 2, 1, 1, 1, 6, 1, 1, 1, 1, 1, 1, 1, 3, 4, 1, 1, 1, 3, 2, 3, 17, 1, 1, 1, 1, 5, 1, 4, 1, 7, 1, 2, 1, 1, 1, 1, 2, 1, 4, 1, 1, 1, 1, 1, 3, 1, 1, 1, 1, 1, 1, 1, 1, 2, 3, 1, 6, 2, 1, 2, 2, 1, 2, 1, 4, 2, 1, 1, 2, 3, 3], \"xaxis\": \"x\", \"y\": [0.8, null, null, null, 1.0, null, null, 0.8, null, null, null, null, null, 0.5, 1.0, null, null, null, 0.4, null, null, null, null, null, null, null, 1.0, 0.3333333333333333, null, null, null, 1.0, 1.0, 0.5, 0.5, null, null, null, null, 1.0, null, 0.6666666666666666, null, 0.8333333333333334, null, 1.0, null, null, null, null, 1.0, null, 1.0, null, null, null, null, null, 1.0, null, null, null, null, null, null, null, null, 0.0, 0.5, null, 1.0, 1.0, null, 0.0, 1.0, null, 1.0, null, 0.0, 1.0, null, null, 0.0, 1.0, 0.5], \"yaxis\": \"y\", \"type\": \"scatter\"}], \"name\": \"6\"}, {\"data\": [{\"hoverlabel\": {\"namelength\": 0}, \"hovertemplate\": \"Iteration=7<br>Length=%{x}<br>%Homochirality=%{y}\", \"legendgroup\": \"\", \"marker\": {\"color\": \"#636efa\", \"symbol\": \"circle\"}, \"mode\": \"markers\", \"name\": \"\", \"showlegend\": false, \"x\": [1, 1, 2, 4, 1, 1, 1, 1, 5, 1, 1, 1, 1, 1, 1, 1, 1, 1, 5, 1, 1, 2, 3, 1, 3, 2, 1, 1, 2, 6, 6, 8, 1, 6, 1, 1, 2, 7, 1, 1, 1, 1, 4, 6, 1, 1, 1, 1, 1, 1, 1, 1, 1, 1, 1, 1, 6, 1, 1, 1, 1, 4, 1, 5, 1, 1, 1, 1, 1, 3, 5, 1, 2, 2, 1, 2, 18, 7, 2, 2, 2, 3], \"xaxis\": \"x\", \"y\": [null, null, 1.0, 1.0, null, null, null, null, 0.75, null, null, null, null, null, null, null, null, null, 1.0, null, null, 1.0, 1.0, null, 0.5, 1.0, null, null, 1.0, 0.0, 0.6, 0.8571428571428571, null, 0.8, null, null, 1.0, 0.3333333333333333, null, null, null, null, 1.0, 0.8, null, null, null, null, null, null, null, null, null, null, null, null, 1.0, null, null, null, null, 0.6666666666666666, null, 1.0, null, null, null, null, null, 0.5, 0.75, null, 0.0, 0.0, null, 1.0, 0.5294117647058824, 0.8333333333333334, 1.0, 1.0, 0.0, 0.0], \"yaxis\": \"y\", \"type\": \"scatter\"}], \"name\": \"7\"}, {\"data\": [{\"hoverlabel\": {\"namelength\": 0}, \"hovertemplate\": \"Iteration=8<br>Length=%{x}<br>%Homochirality=%{y}\", \"legendgroup\": \"\", \"marker\": {\"color\": \"#636efa\", \"symbol\": \"circle\"}, \"mode\": \"markers\", \"name\": \"\", \"showlegend\": false, \"x\": [1, 6, 1, 1, 1, 1, 4, 2, 1, 1, 1, 1, 1, 1, 3, 1, 1, 1, 2, 1, 4, 1, 1, 1, 1, 1, 1, 3, 1, 1, 6, 1, 1, 1, 1, 1, 1, 4, 1, 4, 1, 1, 1, 1, 11, 1, 1, 1, 1, 3, 1, 4, 1, 1, 1, 2, 1, 7, 1, 1, 6, 1, 1, 1, 1, 1, 2, 1, 1, 1, 3, 1, 2, 7, 1, 3, 5, 7, 2, 2, 1, 3, 1, 1, 2, 1, 1, 3, 8, 2, 2, 1, 1, 19], \"xaxis\": \"x\", \"y\": [null, 0.4, null, null, null, null, 1.0, 1.0, null, null, null, null, null, null, 1.0, null, null, null, 0.0, null, 1.0, null, null, null, null, null, null, 0.5, null, null, 1.0, null, null, null, null, null, null, 1.0, null, 0.6666666666666666, null, null, null, null, 0.8, null, null, null, null, 1.0, null, 1.0, null, null, null, 1.0, null, 1.0, null, null, 0.8, null, null, null, null, null, 1.0, null, null, null, 1.0, null, 0.0, 0.16666666666666666, null, 1.0, 0.5, 1.0, 1.0, 1.0, null, 1.0, null, null, 0.0, null, null, 1.0, 0.7142857142857143, 0.0, 1.0, null, null, 0.5], \"yaxis\": \"y\", \"type\": \"scatter\"}], \"name\": \"8\"}, {\"data\": [{\"hoverlabel\": {\"namelength\": 0}, \"hovertemplate\": \"Iteration=9<br>Length=%{x}<br>%Homochirality=%{y}\", \"legendgroup\": \"\", \"marker\": {\"color\": \"#636efa\", \"symbol\": \"circle\"}, \"mode\": \"markers\", \"name\": \"\", \"showlegend\": false, \"x\": [1, 1, 1, 26, 1, 1, 1, 1, 7, 1, 5, 1, 1, 2, 1, 1, 1, 10, 1, 1, 1, 1, 1, 9, 1, 1, 1, 1, 1, 1, 1, 8, 1, 1, 1, 3, 1, 4, 4, 8, 1, 1, 1, 1, 1, 1, 1, 6, 4, 1, 1, 1, 1, 3, 1, 1, 1, 1, 13, 1, 5, 1, 3, 1, 1, 6, 1, 1, 1, 1, 6, 2, 1, 1, 1, 1, 1, 1, 1, 4, 1, 2, 4, 4, 3], \"xaxis\": \"x\", \"y\": [null, null, null, 0.44, null, null, null, null, 0.6666666666666666, null, 0.5, null, null, 1.0, null, null, null, 0.6666666666666666, null, null, null, null, null, 0.625, null, null, null, null, null, null, null, 1.0, null, null, null, 1.0, null, 1.0, 1.0, 0.8571428571428571, null, null, null, null, null, null, null, 1.0, 1.0, null, null, null, null, 1.0, null, null, null, null, 0.75, null, 0.75, null, 1.0, null, null, 0.4, null, null, null, null, 0.8, 1.0, null, null, null, null, null, null, null, 0.6666666666666666, null, 1.0, 1.0, 0.6666666666666666, 0.5], \"yaxis\": \"y\", \"type\": \"scatter\"}], \"name\": \"9\"}, {\"data\": [{\"hoverlabel\": {\"namelength\": 0}, \"hovertemplate\": \"Iteration=10<br>Length=%{x}<br>%Homochirality=%{y}\", \"legendgroup\": \"\", \"marker\": {\"color\": \"#636efa\", \"symbol\": \"circle\"}, \"mode\": \"markers\", \"name\": \"\", \"showlegend\": false, \"x\": [1, 1, 1, 1, 3, 1, 5, 1, 1, 1, 1, 1, 1, 1, 1, 1, 1, 27, 1, 1, 1, 1, 1, 1, 1, 1, 1, 1, 1, 1, 7, 10, 1, 1, 7, 1, 1, 3, 4, 1, 1, 1, 8, 11, 1, 8, 1, 1, 1, 1, 1, 1, 1, 1, 1, 1, 1, 1, 1, 10, 1, 8, 1, 7, 1, 1, 1, 1, 1, 2, 3, 1, 3, 1, 2, 3, 2, 5, 4, 1, 3, 5, 7, 6, 5], \"xaxis\": \"x\", \"y\": [null, null, null, null, 0.5, null, 0.75, null, null, null, null, null, null, null, null, null, null, 0.46153846153846156, null, null, null, null, null, null, null, null, null, null, null, null, 1.0, 0.6666666666666666, null, null, 0.3333333333333333, null, null, 1.0, 1.0, null, null, null, 0.8571428571428571, 0.7, null, 0.7142857142857143, null, null, null, null, null, null, null, null, null, null, null, null, null, 0.6666666666666666, null, 1.0, null, 0.6666666666666666, null, null, null, null, null, 0.0, 1.0, null, 1.0, null, 0.0, 0.5, 0.0, 0.75, 0.6666666666666666, null, 0.5, 1.0, 0.8333333333333334, 0.6, 1.0], \"yaxis\": \"y\", \"type\": \"scatter\"}], \"name\": \"10\"}, {\"data\": [{\"hoverlabel\": {\"namelength\": 0}, \"hovertemplate\": \"Iteration=11<br>Length=%{x}<br>%Homochirality=%{y}\", \"legendgroup\": \"\", \"marker\": {\"color\": \"#636efa\", \"symbol\": \"circle\"}, \"mode\": \"markers\", \"name\": \"\", \"showlegend\": false, \"x\": [1, 1, 8, 1, 7, 3, 1, 1, 1, 1, 1, 1, 1, 1, 1, 1, 2, 1, 1, 1, 1, 1, 1, 1, 1, 1, 1, 1, 1, 1, 1, 5, 1, 1, 5, 1, 1, 32, 1, 11, 1, 1, 1, 3, 1, 1, 1, 1, 1, 1, 1, 8, 1, 1, 1, 1, 1, 1, 5, 5, 1, 1, 1, 1, 1, 1, 2, 8, 1, 7, 11, 5, 2, 5, 6, 6, 1, 2, 12, 2, 1, 1, 1, 2, 9, 6, 1, 2], \"xaxis\": \"x\", \"y\": [null, null, 0.7142857142857143, null, 0.8333333333333334, 1.0, null, null, null, null, null, null, null, null, null, null, 1.0, null, null, null, null, null, null, null, null, null, null, null, null, null, null, 0.75, null, null, 1.0, null, null, 0.5483870967741935, null, 1.0, null, null, null, 0.5, null, null, null, null, null, null, null, 0.7142857142857143, null, null, null, null, null, null, 0.75, 0.25, null, null, null, null, null, null, 0.0, 1.0, null, 0.5, 0.6, 0.5, 1.0, 0.75, 0.8, 0.4, null, 1.0, 0.7272727272727273, 1.0, null, null, null, 1.0, 0.875, 0.8, null, 0.0], \"yaxis\": \"y\", \"type\": \"scatter\"}], \"name\": \"11\"}, {\"data\": [{\"hoverlabel\": {\"namelength\": 0}, \"hovertemplate\": \"Iteration=12<br>Length=%{x}<br>%Homochirality=%{y}\", \"legendgroup\": \"\", \"marker\": {\"color\": \"#636efa\", \"symbol\": \"circle\"}, \"mode\": \"markers\", \"name\": \"\", \"showlegend\": false, \"x\": [1, 2, 2, 1, 5, 1, 1, 1, 1, 1, 1, 1, 1, 1, 1, 1, 1, 1, 3, 1, 1, 1, 1, 17, 1, 2, 1, 1, 1, 3, 1, 1, 7, 1, 4, 1, 1, 1, 17, 2, 1, 1, 1, 1, 1, 10, 1, 1, 1, 1, 7, 1, 4, 1, 1, 1, 1, 1, 1, 1, 1, 1, 1, 3, 2, 13, 3, 6, 1, 12, 2, 9, 2, 2, 2, 3, 2, 28, 2, 2, 1, 6, 1, 6, 7, 2, 2], \"xaxis\": \"x\", \"y\": [null, 1.0, 1.0, null, 0.75, null, null, null, null, null, null, null, null, null, null, null, null, null, 1.0, null, null, null, null, 0.75, null, 1.0, null, null, null, 0.5, null, null, 0.6666666666666666, null, 0.3333333333333333, null, null, null, 0.75, 1.0, null, null, null, null, null, 0.7777777777777778, null, null, null, null, 0.6666666666666666, null, 1.0, null, null, null, null, null, null, null, null, null, null, 1.0, 0.0, 0.6666666666666666, 0.5, 0.6, null, 0.6363636363636364, 0.0, 1.0, 1.0, 0.0, 0.0, 0.0, 0.0, 0.5925925925925926, 1.0, 1.0, null, 0.6, null, 0.4, 0.6666666666666666, 1.0, 0.0], \"yaxis\": \"y\", \"type\": \"scatter\"}], \"name\": \"12\"}, {\"data\": [{\"hoverlabel\": {\"namelength\": 0}, \"hovertemplate\": \"Iteration=13<br>Length=%{x}<br>%Homochirality=%{y}\", \"legendgroup\": \"\", \"marker\": {\"color\": \"#636efa\", \"symbol\": \"circle\"}, \"mode\": \"markers\", \"name\": \"\", \"showlegend\": false, \"x\": [2, 1, 1, 1, 2, 4, 5, 1, 1, 1, 1, 1, 1, 1, 1, 1, 1, 14, 10, 13, 1, 1, 1, 1, 4, 1, 13, 1, 1, 1, 1, 3, 1, 2, 4, 4, 1, 1, 11, 15, 1, 29, 1, 1, 7, 1, 1, 1, 5, 1, 7, 1, 2, 1, 3, 1, 1, 13, 1, 1, 2, 2, 2, 1, 1, 3, 1, 1, 7, 2, 4, 1, 1, 2, 12, 2, 2, 2, 8], \"xaxis\": \"x\", \"y\": [1.0, null, null, null, 1.0, 0.6666666666666666, 0.5, null, null, null, null, null, null, null, null, null, null, 0.6153846153846154, 0.7777777777777778, 0.5833333333333334, null, null, null, null, 1.0, null, 0.8333333333333334, null, null, null, null, 0.0, null, 1.0, 0.3333333333333333, 0.6666666666666666, null, null, 0.8, 0.6428571428571429, null, 0.6071428571428571, null, null, 0.5, null, null, null, 0.5, null, 0.5, null, 1.0, null, 0.5, null, null, 0.5, null, null, 0.0, 1.0, 1.0, null, null, 1.0, null, null, 0.8333333333333334, 1.0, 0.6666666666666666, null, null, 1.0, 0.9090909090909091, 0.0, 0.0, 1.0, 0.7142857142857143], \"yaxis\": \"y\", \"type\": \"scatter\"}], \"name\": \"13\"}, {\"data\": [{\"hoverlabel\": {\"namelength\": 0}, \"hovertemplate\": \"Iteration=14<br>Length=%{x}<br>%Homochirality=%{y}\", \"legendgroup\": \"\", \"marker\": {\"color\": \"#636efa\", \"symbol\": \"circle\"}, \"mode\": \"markers\", \"name\": \"\", \"showlegend\": false, \"x\": [1, 1, 5, 1, 1, 1, 9, 1, 3, 3, 1, 2, 1, 1, 1, 1, 1, 1, 1, 1, 1, 8, 1, 1, 1, 1, 1, 3, 1, 4, 1, 4, 3, 1, 1, 1, 1, 4, 10, 1, 1, 1, 1, 4, 1, 1, 1, 1, 9, 4, 1, 1, 1, 1, 1, 3, 3, 1, 1, 10, 8, 1, 1, 14, 20, 2, 1, 3, 6, 1, 6, 12, 5, 11, 1, 2, 4, 2, 5, 1, 15, 2, 1, 1, 5, 14, 5, 5], \"xaxis\": \"x\", \"y\": [null, null, 0.25, null, null, null, 0.5, null, 1.0, 0.5, null, 0.0, null, null, null, null, null, null, null, null, null, 0.8571428571428571, null, null, null, null, null, 0.0, null, 1.0, null, 1.0, 1.0, null, null, null, null, 1.0, 0.6666666666666666, null, null, null, null, 0.3333333333333333, null, null, null, null, 0.875, 0.3333333333333333, null, null, null, null, null, 1.0, 1.0, null, null, 0.6666666666666666, 0.5714285714285714, null, null, 0.7692307692307693, 0.6842105263157895, 0.0, null, 1.0, 0.6, null, 0.6, 0.8181818181818182, 0.75, 1.0, null, 0.0, 0.3333333333333333, 0.0, 0.75, null, 0.6428571428571429, 1.0, null, null, 0.75, 0.5384615384615384, 0.5, 0.5], \"yaxis\": \"y\", \"type\": \"scatter\"}], \"name\": \"14\"}, {\"data\": [{\"hoverlabel\": {\"namelength\": 0}, \"hovertemplate\": \"Iteration=15<br>Length=%{x}<br>%Homochirality=%{y}\", \"legendgroup\": \"\", \"marker\": {\"color\": \"#636efa\", \"symbol\": \"circle\"}, \"mode\": \"markers\", \"name\": \"\", \"showlegend\": false, \"x\": [8, 1, 1, 1, 1, 10, 1, 1, 17, 1, 4, 1, 3, 13, 1, 1, 1, 7, 4, 2, 1, 8, 1, 1, 1, 1, 10, 1, 1, 1, 1, 1, 1, 18, 9, 1, 16, 1, 1, 1, 3, 1, 1, 1, 1, 1, 1, 2, 1, 1, 1, 1, 3, 1, 1, 1, 10, 1, 1, 1, 2, 1, 1, 1, 3, 1, 1, 1, 1, 15, 21, 11, 2, 5, 7, 1, 2, 1, 1, 7, 9, 7, 2, 1, 2, 2, 1, 1], \"xaxis\": \"x\", \"y\": [0.7142857142857143, null, null, null, null, 0.7777777777777778, null, null, 0.75, null, 0.6666666666666666, null, 0.5, 0.8333333333333334, null, null, null, 0.5, 1.0, 1.0, null, 0.7142857142857143, null, null, null, null, 0.5555555555555556, null, null, null, null, null, null, 0.6470588235294118, 0.5, null, 0.8, null, null, null, 1.0, null, null, null, null, null, null, 1.0, null, null, null, null, 1.0, null, null, null, 0.5555555555555556, null, null, null, 1.0, null, null, null, 0.0, null, null, null, null, 0.6428571428571429, 0.65, 0.7, 0.0, 1.0, 0.8333333333333334, null, 0.0, null, null, 1.0, 0.875, 0.5, 0.0, null, 1.0, 0.0, null, null], \"yaxis\": \"y\", \"type\": \"scatter\"}], \"name\": \"15\"}, {\"data\": [{\"hoverlabel\": {\"namelength\": 0}, \"hovertemplate\": \"Iteration=16<br>Length=%{x}<br>%Homochirality=%{y}\", \"legendgroup\": \"\", \"marker\": {\"color\": \"#636efa\", \"symbol\": \"circle\"}, \"mode\": \"markers\", \"name\": \"\", \"showlegend\": false, \"x\": [1, 1, 13, 1, 1, 1, 1, 1, 8, 5, 1, 1, 21, 1, 1, 1, 2, 1, 1, 1, 2, 1, 1, 1, 1, 1, 1, 9, 1, 1, 1, 1, 3, 17, 1, 2, 1, 1, 1, 1, 1, 12, 1, 1, 14, 1, 1, 11, 4, 1, 1, 1, 1, 1, 1, 3, 1, 1, 10, 1, 1, 1, 5, 1, 12, 1, 1, 19, 1, 2, 2, 5, 1, 9, 1, 1, 1, 3, 1, 4, 1, 1, 6, 2, 2, 12, 9, 3, 2, 3, 14, 2, 2], \"xaxis\": \"x\", \"y\": [null, null, 0.8333333333333334, null, null, null, null, null, 0.8571428571428571, 1.0, null, null, 0.75, null, null, null, 1.0, null, null, null, 1.0, null, null, null, null, null, null, 0.75, null, null, null, null, 1.0, 0.75, null, 1.0, null, null, null, null, null, 0.45454545454545453, null, null, 0.8461538461538461, null, null, 0.5, 0.3333333333333333, null, null, null, null, null, null, 0.0, null, null, 0.7777777777777778, null, null, null, 0.0, null, 0.5454545454545454, null, null, 0.6666666666666666, null, 1.0, 0.0, 0.5, null, 0.5, null, null, null, 1.0, null, 0.6666666666666666, null, null, 0.8, 0.0, 1.0, 0.6363636363636364, 1.0, 1.0, 0.0, 0.0, 0.9230769230769231, 1.0, 0.0], \"yaxis\": \"y\", \"type\": \"scatter\"}], \"name\": \"16\"}, {\"data\": [{\"hoverlabel\": {\"namelength\": 0}, \"hovertemplate\": \"Iteration=17<br>Length=%{x}<br>%Homochirality=%{y}\", \"legendgroup\": \"\", \"marker\": {\"color\": \"#636efa\", \"symbol\": \"circle\"}, \"mode\": \"markers\", \"name\": \"\", \"showlegend\": false, \"x\": [6, 1, 2, 1, 1, 1, 2, 1, 1, 1, 3, 1, 9, 9, 1, 1, 1, 1, 1, 1, 1, 1, 1, 3, 1, 2, 1, 1, 7, 1, 1, 1, 1, 1, 4, 1, 1, 1, 1, 9, 1, 1, 1, 1, 3, 7, 1, 5, 1, 1, 22, 1, 12, 1, 33, 1, 1, 1, 1, 1, 1, 1, 1, 1, 1, 4, 16, 5, 1, 4, 1, 1, 1, 10, 1, 1, 1, 13, 15, 1, 1, 1, 4, 3, 10, 11, 10, 3, 1, 6, 1, 1, 4, 1], \"xaxis\": \"x\", \"y\": [0.8, null, 1.0, null, null, null, 0.0, null, null, null, 0.5, null, 0.875, 1.0, null, null, null, null, null, null, null, null, null, 1.0, null, 1.0, null, null, 0.3333333333333333, null, null, null, null, null, 0.6666666666666666, null, null, null, null, 0.5, null, null, null, null, 0.5, 1.0, null, 1.0, null, null, 0.6190476190476191, null, 0.45454545454545453, null, 0.71875, null, null, null, null, null, null, null, null, null, null, 1.0, 0.8, 0.75, null, 1.0, null, null, null, 0.4444444444444444, null, null, null, 0.6666666666666666, 0.8571428571428571, null, null, null, 1.0, 0.5, 0.6666666666666666, 1.0, 0.5555555555555556, 0.5, null, 0.0, null, null, 0.6666666666666666, null], \"yaxis\": \"y\", \"type\": \"scatter\"}], \"name\": \"17\"}, {\"data\": [{\"hoverlabel\": {\"namelength\": 0}, \"hovertemplate\": \"Iteration=18<br>Length=%{x}<br>%Homochirality=%{y}\", \"legendgroup\": \"\", \"marker\": {\"color\": \"#636efa\", \"symbol\": \"circle\"}, \"mode\": \"markers\", \"name\": \"\", \"showlegend\": false, \"x\": [19, 2, 1, 1, 1, 1, 2, 1, 1, 1, 4, 1, 1, 12, 1, 1, 1, 4, 1, 8, 1, 1, 14, 7, 1, 1, 1, 1, 1, 1, 1, 1, 1, 3, 1, 1, 1, 1, 1, 1, 1, 7, 1, 3, 8, 1, 1, 1, 1, 6, 35, 7, 1, 1, 1, 1, 1, 1, 1, 2, 1, 1, 1, 1, 1, 3, 11, 2, 2, 1, 4, 6, 15, 1, 4, 1, 10, 15, 1, 1, 14, 2, 13, 2, 5, 2, 4, 7, 1, 5, 1], \"xaxis\": \"x\", \"y\": [0.8333333333333334, 1.0, null, null, null, null, 1.0, null, null, null, 1.0, null, null, 0.9090909090909091, null, null, null, 0.6666666666666666, null, 1.0, null, null, 0.6153846153846154, 0.5, null, null, null, null, null, null, null, null, null, 1.0, null, null, null, null, null, null, null, 0.8333333333333334, null, 0.0, 0.5714285714285714, null, null, null, null, 1.0, 0.7058823529411765, 1.0, null, null, null, null, null, null, null, 1.0, null, null, null, null, null, 1.0, 0.4, 0.0, 1.0, null, 0.3333333333333333, 0.8, 0.8571428571428571, null, 0.6666666666666666, null, 0.8888888888888888, 0.7142857142857143, null, null, 0.6923076923076923, 1.0, 0.5, 1.0, 0.75, 0.0, 0.6666666666666666, 0.0, null, 0.75, null], \"yaxis\": \"y\", \"type\": \"scatter\"}], \"name\": \"18\"}, {\"data\": [{\"hoverlabel\": {\"namelength\": 0}, \"hovertemplate\": \"Iteration=19<br>Length=%{x}<br>%Homochirality=%{y}\", \"legendgroup\": \"\", \"marker\": {\"color\": \"#636efa\", \"symbol\": \"circle\"}, \"mode\": \"markers\", \"name\": \"\", \"showlegend\": false, \"x\": [1, 1, 25, 1, 1, 2, 1, 15, 1, 1, 2, 1, 1, 3, 41, 1, 12, 1, 5, 1, 1, 8, 1, 1, 1, 1, 1, 1, 1, 9, 11, 1, 1, 1, 1, 2, 11, 1, 2, 1, 1, 1, 1, 1, 1, 1, 1, 29, 18, 1, 1, 1, 2, 1, 5, 1, 1, 1, 1, 1, 1, 9, 1, 26, 1, 9, 2, 8, 3, 1, 1, 2, 2, 2, 2, 5, 1, 1, 2, 2, 2, 2, 2, 2], \"xaxis\": \"x\", \"y\": [null, null, 0.8333333333333334, null, null, 1.0, null, 0.6428571428571429, null, null, 1.0, null, null, 1.0, 0.725, null, 0.8181818181818182, null, 1.0, null, null, 0.8571428571428571, null, null, null, null, null, null, null, 0.5, 1.0, null, null, null, null, 1.0, 0.6, null, 1.0, null, null, null, null, null, null, null, null, 0.6785714285714286, 0.9411764705882353, null, null, null, 1.0, null, 0.5, null, null, null, null, null, null, 0.875, null, 0.76, null, 0.625, 0.0, 0.0, 0.0, null, null, 0.0, 0.0, 1.0, 0.0, 0.5, null, null, 0.0, 0.0, 1.0, 1.0, 0.0, 0.0], \"yaxis\": \"y\", \"type\": \"scatter\"}], \"name\": \"19\"}, {\"data\": [{\"hoverlabel\": {\"namelength\": 0}, \"hovertemplate\": \"Iteration=20<br>Length=%{x}<br>%Homochirality=%{y}\", \"legendgroup\": \"\", \"marker\": {\"color\": \"#636efa\", \"symbol\": \"circle\"}, \"mode\": \"markers\", \"name\": \"\", \"showlegend\": false, \"x\": [1, 1, 1, 1, 2, 1, 1, 1, 1, 1, 1, 1, 4, 1, 1, 1, 4, 1, 1, 1, 1, 11, 1, 17, 27, 1, 1, 1, 1, 1, 1, 4, 1, 17, 1, 3, 5, 2, 1, 42, 1, 1, 12, 2, 1, 1, 1, 1, 1, 2, 1, 1, 13, 1, 1, 34, 40, 1, 1, 1, 2, 1, 2, 1, 1, 2, 1, 1, 1, 1, 5, 1, 1, 1, 1, 1, 2, 7, 2, 1, 7, 1, 2, 1, 10, 6, 4], \"xaxis\": \"x\", \"y\": [null, null, null, null, 0.0, null, null, null, null, null, null, null, 0.0, null, null, null, 0.6666666666666666, null, null, null, null, 0.6, null, 0.5625, 0.8076923076923077, null, null, null, null, null, null, 0.3333333333333333, null, 1.0, null, 0.0, 0.75, 1.0, null, 0.7073170731707317, null, null, 1.0, 1.0, null, null, null, null, null, 1.0, null, null, 0.75, null, null, 0.5757575757575758, 0.6410256410256411, null, null, null, 1.0, null, 1.0, null, null, 1.0, null, null, null, null, 1.0, null, null, null, null, null, 1.0, 0.6666666666666666, 1.0, null, 1.0, null, 0.0, null, 0.7777777777777778, 0.4, 0.0], \"yaxis\": \"y\", \"type\": \"scatter\"}], \"name\": \"20\"}, {\"data\": [{\"hoverlabel\": {\"namelength\": 0}, \"hovertemplate\": \"Iteration=21<br>Length=%{x}<br>%Homochirality=%{y}\", \"legendgroup\": \"\", \"marker\": {\"color\": \"#636efa\", \"symbol\": \"circle\"}, \"mode\": \"markers\", \"name\": \"\", \"showlegend\": false, \"x\": [1, 1, 1, 1, 2, 1, 1, 1, 1, 7, 1, 1, 34, 1, 1, 1, 1, 1, 1, 8, 1, 1, 1, 1, 2, 1, 1, 1, 1, 1, 1, 1, 2, 39, 4, 1, 2, 1, 8, 2, 1, 1, 1, 1, 1, 1, 1, 29, 1, 1, 5, 2, 42, 1, 1, 9, 1, 1, 1, 1, 1, 1, 14, 1, 1, 1, 1, 2, 2, 2, 3, 3, 1, 2, 12, 3, 1, 2, 2, 2, 38, 2, 2, 4, 2, 1, 1, 2, 1, 11], \"xaxis\": \"x\", \"y\": [null, null, null, null, 1.0, null, null, null, null, 0.3333333333333333, null, null, 0.7878787878787878, null, null, null, null, null, null, 0.7142857142857143, null, null, null, null, 1.0, null, null, null, null, null, null, null, 0.0, 0.6052631578947368, 0.6666666666666666, null, 1.0, null, 0.8571428571428571, 1.0, null, null, null, null, null, null, null, 0.7857142857142857, null, null, 1.0, 1.0, 0.6585365853658537, null, null, 0.875, null, null, null, null, null, null, 0.9230769230769231, null, null, null, null, 1.0, 1.0, 0.0, 1.0, 0.0, null, 1.0, 0.6363636363636364, 1.0, null, 1.0, 0.0, 0.0, 0.7297297297297297, 0.0, 0.0, 0.6666666666666666, 0.0, null, null, 0.0, null, 0.7], \"yaxis\": \"y\", \"type\": \"scatter\"}], \"name\": \"21\"}, {\"data\": [{\"hoverlabel\": {\"namelength\": 0}, \"hovertemplate\": \"Iteration=22<br>Length=%{x}<br>%Homochirality=%{y}\", \"legendgroup\": \"\", \"marker\": {\"color\": \"#636efa\", \"symbol\": \"circle\"}, \"mode\": \"markers\", \"name\": \"\", \"showlegend\": false, \"x\": [1, 1, 1, 1, 1, 3, 9, 1, 1, 1, 3, 1, 1, 1, 1, 2, 1, 5, 7, 1, 1, 2, 36, 8, 1, 1, 1, 40, 1, 1, 1, 2, 1, 1, 1, 1, 4, 1, 1, 1, 1, 1, 1, 6, 1, 1, 1, 1, 1, 30, 1, 1, 1, 1, 23, 4, 1, 1, 1, 1, 1, 3, 5, 1, 1, 3, 1, 1, 5, 13, 1, 12, 6, 1, 1, 1, 4, 1, 1, 2, 2, 12, 3, 2, 40, 11, 1, 1, 3, 5], \"xaxis\": \"x\", \"y\": [null, null, null, null, null, 0.5, 0.375, null, null, null, 0.5, null, null, null, null, 1.0, null, 1.0, 1.0, null, null, 1.0, 0.6571428571428571, 1.0, null, null, null, 0.7435897435897436, null, null, null, 1.0, null, null, null, null, 0.3333333333333333, null, null, null, null, null, null, 0.8, null, null, null, null, null, 0.7586206896551724, null, null, null, null, 0.8181818181818182, 1.0, null, null, null, null, null, 0.5, 1.0, null, null, 1.0, null, null, 0.75, 0.5833333333333334, null, 1.0, 0.8, null, null, null, 0.3333333333333333, null, null, 0.0, 1.0, 0.6363636363636364, 0.0, 0.0, 0.5897435897435898, 0.8, null, null, 0.5, 0.5], \"yaxis\": \"y\", \"type\": \"scatter\"}], \"name\": \"22\"}, {\"data\": [{\"hoverlabel\": {\"namelength\": 0}, \"hovertemplate\": \"Iteration=23<br>Length=%{x}<br>%Homochirality=%{y}\", \"legendgroup\": \"\", \"marker\": {\"color\": \"#636efa\", \"symbol\": \"circle\"}, \"mode\": \"markers\", \"name\": \"\", \"showlegend\": false, \"x\": [5, 1, 1, 7, 2, 1, 1, 39, 2, 1, 1, 4, 4, 1, 1, 1, 1, 31, 1, 1, 1, 1, 1, 1, 1, 4, 1, 1, 12, 1, 1, 1, 1, 1, 1, 1, 1, 1, 1, 1, 1, 1, 18, 1, 2, 1, 7, 13, 1, 1, 1, 1, 1, 1, 43, 2, 1, 1, 1, 19, 1, 9, 1, 1, 1, 1, 2, 13, 1, 1, 1, 1, 1, 1, 1, 8, 11, 4, 1, 2, 1, 2, 2, 11, 1, 2, 4, 1, 1, 1, 7, 1, 1, 2, 1, 25], \"xaxis\": \"x\", \"y\": [1.0, null, null, 0.8333333333333334, 1.0, null, null, 0.6052631578947368, 1.0, null, null, 0.6666666666666666, 1.0, null, null, null, null, 0.7666666666666667, null, null, null, null, null, null, null, 0.3333333333333333, null, null, 0.8181818181818182, null, null, null, null, null, null, null, null, null, null, null, null, null, 0.7058823529411765, null, 1.0, null, 1.0, 1.0, null, null, null, null, null, null, 0.7380952380952381, 1.0, null, null, null, 0.9444444444444444, null, 0.625, null, null, null, null, 1.0, 0.4166666666666667, null, null, null, null, null, null, null, 1.0, 0.8, 0.6666666666666666, null, 0.0, null, 1.0, 1.0, 0.7, null, 0.0, 0.3333333333333333, null, null, null, 0.8333333333333334, null, null, 1.0, null, 0.625], \"yaxis\": \"y\", \"type\": \"scatter\"}], \"name\": \"23\"}, {\"data\": [{\"hoverlabel\": {\"namelength\": 0}, \"hovertemplate\": \"Iteration=24<br>Length=%{x}<br>%Homochirality=%{y}\", \"legendgroup\": \"\", \"marker\": {\"color\": \"#636efa\", \"symbol\": \"circle\"}, \"mode\": \"markers\", \"name\": \"\", \"showlegend\": false, \"x\": [1, 1, 1, 1, 2, 1, 1, 1, 34, 1, 1, 1, 1, 6, 1, 1, 1, 2, 1, 1, 1, 1, 7, 1, 1, 1, 33, 1, 1, 25, 1, 1, 1, 1, 1, 1, 21, 1, 1, 1, 2, 2, 1, 13, 1, 3, 1, 1, 1, 20, 1, 1, 1, 9, 13, 1, 2, 1, 6, 1, 43, 1, 1, 1, 1, 9, 1, 1, 9, 2, 8, 14, 2, 5, 2, 2, 2, 9, 26, 2, 2], \"xaxis\": \"x\", \"y\": [null, null, null, null, 1.0, null, null, null, 0.7575757575757576, null, null, null, null, 0.2, null, null, null, 1.0, null, null, null, null, 0.8333333333333334, null, null, null, 0.71875, null, null, 0.75, null, null, null, null, null, null, 1.0, null, null, null, 1.0, 0.0, null, 0.75, null, 0.5, null, null, null, 0.8947368421052632, null, null, null, 0.875, 0.75, null, 1.0, null, 0.8, null, 0.5952380952380952, null, null, null, null, 0.625, null, null, 0.75, 1.0, 0.7142857142857143, 0.46153846153846156, 0.0, 0.5, 1.0, 1.0, 0.0, 0.875, 0.6, 0.0, 1.0], \"yaxis\": \"y\", \"type\": \"scatter\"}], \"name\": \"24\"}, {\"data\": [{\"hoverlabel\": {\"namelength\": 0}, \"hovertemplate\": \"Iteration=25<br>Length=%{x}<br>%Homochirality=%{y}\", \"legendgroup\": \"\", \"marker\": {\"color\": \"#636efa\", \"symbol\": \"circle\"}, \"mode\": \"markers\", \"name\": \"\", \"showlegend\": false, \"x\": [2, 1, 1, 1, 1, 1, 1, 1, 1, 1, 1, 1, 8, 1, 35, 27, 1, 2, 1, 1, 1, 8, 1, 1, 1, 1, 1, 1, 1, 1, 18, 1, 1, 1, 1, 1, 2, 4, 1, 1, 1, 3, 1, 1, 2, 1, 1, 1, 1, 1, 59, 64, 1, 1, 2, 6, 1, 1, 1, 1, 2, 1, 1, 21, 1, 1, 1, 14, 1, 1, 7, 1, 6, 3, 1, 1, 10, 2, 5, 3, 2, 2, 9, 14, 5, 3], \"xaxis\": \"x\", \"y\": [1.0, null, null, null, null, null, null, null, null, null, null, null, 0.5714285714285714, null, 0.7647058823529411, 0.7307692307692307, null, 1.0, null, null, null, 0.5714285714285714, null, null, null, null, null, null, null, null, 0.7058823529411765, null, null, null, null, null, 1.0, 1.0, null, null, null, 1.0, null, null, 1.0, null, null, null, null, null, 0.6724137931034483, 0.7142857142857143, null, null, 1.0, 0.6, null, null, null, null, 1.0, null, null, 0.85, null, null, null, 0.6923076923076923, null, null, 0.3333333333333333, null, 0.4, 0.5, null, null, 0.7777777777777778, 0.0, 1.0, 0.5, 0.0, 1.0, 0.75, 0.6923076923076923, 1.0, 1.0], \"yaxis\": \"y\", \"type\": \"scatter\"}], \"name\": \"25\"}, {\"data\": [{\"hoverlabel\": {\"namelength\": 0}, \"hovertemplate\": \"Iteration=26<br>Length=%{x}<br>%Homochirality=%{y}\", \"legendgroup\": \"\", \"marker\": {\"color\": \"#636efa\", \"symbol\": \"circle\"}, \"mode\": \"markers\", \"name\": \"\", \"showlegend\": false, \"x\": [1, 1, 1, 1, 1, 4, 1, 1, 4, 65, 1, 1, 1, 2, 1, 1, 1, 1, 1, 1, 1, 1, 1, 1, 1, 11, 1, 13, 14, 1, 1, 1, 4, 5, 1, 1, 1, 2, 28, 1, 1, 1, 10, 4, 1, 1, 1, 1, 1, 1, 1, 6, 1, 1, 1, 1, 1, 19, 1, 1, 1, 36, 1, 14, 12, 1, 1, 2, 1, 15, 2, 4, 2, 2, 1, 3, 1, 1, 19, 3, 2, 1, 2, 2, 2, 45, 7], \"xaxis\": \"x\", \"y\": [null, null, null, null, null, 0.6666666666666666, null, null, 1.0, 0.703125, null, null, null, 0.0, null, null, null, null, null, null, null, null, null, null, null, 0.7, null, 0.75, 0.46153846153846156, null, null, null, 0.6666666666666666, 1.0, null, null, null, 1.0, 0.7407407407407407, null, null, null, 0.6666666666666666, 1.0, null, null, null, null, null, null, null, 0.8, null, null, null, null, null, 0.9444444444444444, null, null, null, 0.7714285714285715, null, 0.6923076923076923, 0.5454545454545454, null, null, 1.0, null, 0.6428571428571429, 0.0, 1.0, 1.0, 1.0, null, 0.5, null, null, 0.6666666666666666, 0.5, 1.0, null, 0.0, 1.0, 0.0, 0.6818181818181818, 0.8333333333333334], \"yaxis\": \"y\", \"type\": \"scatter\"}], \"name\": \"26\"}, {\"data\": [{\"hoverlabel\": {\"namelength\": 0}, \"hovertemplate\": \"Iteration=27<br>Length=%{x}<br>%Homochirality=%{y}\", \"legendgroup\": \"\", \"marker\": {\"color\": \"#636efa\", \"symbol\": \"circle\"}, \"mode\": \"markers\", \"name\": \"\", \"showlegend\": false, \"x\": [1, 1, 4, 1, 4, 1, 1, 1, 2, 1, 5, 1, 1, 1, 2, 1, 1, 3, 1, 1, 1, 1, 1, 1, 1, 1, 17, 1, 1, 4, 1, 1, 1, 1, 2, 1, 4, 1, 1, 1, 1, 3, 1, 1, 67, 18, 34, 1, 1, 1, 1, 1, 1, 12, 1, 1, 1, 11, 1, 1, 37, 1, 13, 1, 1, 1, 4, 13, 1, 1, 5, 1, 1, 1, 1, 2, 3, 8, 3, 28, 2, 2, 7, 13, 15, 1, 1, 4, 1, 1, 1, 16, 2, 3, 1], \"xaxis\": \"x\", \"y\": [null, null, 0.3333333333333333, null, 1.0, null, null, null, 1.0, null, 1.0, null, null, null, 0.0, null, null, 0.0, null, null, null, null, null, null, null, null, 0.5625, null, null, 1.0, null, null, null, null, 1.0, null, 0.6666666666666666, null, null, null, null, 0.5, null, null, 0.696969696969697, 1.0, 0.6666666666666666, null, null, null, null, null, null, 0.7272727272727273, null, null, null, 0.8, null, null, 0.75, null, 0.75, null, null, null, 1.0, 0.8333333333333334, null, null, 0.5, null, null, null, null, 0.0, 1.0, 0.8571428571428571, 0.5, 0.7777777777777778, 1.0, 1.0, 0.8333333333333334, 0.5, 0.42857142857142855, null, null, 0.3333333333333333, null, null, null, 0.8, 1.0, 1.0, null], \"yaxis\": \"y\", \"type\": \"scatter\"}], \"name\": \"27\"}, {\"data\": [{\"hoverlabel\": {\"namelength\": 0}, \"hovertemplate\": \"Iteration=28<br>Length=%{x}<br>%Homochirality=%{y}\", \"legendgroup\": \"\", \"marker\": {\"color\": \"#636efa\", \"symbol\": \"circle\"}, \"mode\": \"markers\", \"name\": \"\", \"showlegend\": false, \"x\": [1, 1, 1, 3, 1, 18, 2, 6, 4, 1, 3, 1, 2, 1, 24, 2, 1, 1, 1, 1, 1, 4, 1, 3, 1, 1, 1, 1, 1, 1, 1, 1, 1, 1, 33, 1, 17, 7, 1, 1, 1, 1, 1, 1, 6, 2, 1, 1, 1, 1, 1, 1, 1, 4, 1, 1, 1, 1, 1, 1, 1, 1, 1, 23, 4, 8, 1, 1, 1, 12, 1, 12, 2, 1, 2, 7, 10, 1, 6, 68, 2, 1, 1, 4, 14, 30, 4, 4, 14, 17], \"xaxis\": \"x\", \"y\": [null, null, null, 0.5, null, 1.0, 0.0, 0.2, 1.0, null, 0.5, null, 1.0, null, 0.6086956521739131, 1.0, null, null, null, null, null, 1.0, null, 1.0, null, null, null, null, null, null, null, null, null, null, 0.8125, null, 0.75, 0.5, null, null, null, null, null, null, 0.2, 1.0, null, null, null, null, null, null, null, 0.3333333333333333, null, null, null, null, null, null, null, null, null, 0.8181818181818182, 1.0, 0.5714285714285714, null, null, null, 0.7272727272727273, null, 0.45454545454545453, 1.0, null, 0.0, 0.8333333333333334, 0.8888888888888888, null, 1.0, 0.7014925373134329, 1.0, null, null, 0.6666666666666666, 0.7692307692307693, 0.7241379310344828, 0.3333333333333333, 0.6666666666666666, 0.6923076923076923, 0.75], \"yaxis\": \"y\", \"type\": \"scatter\"}], \"name\": \"28\"}, {\"data\": [{\"hoverlabel\": {\"namelength\": 0}, \"hovertemplate\": \"Iteration=29<br>Length=%{x}<br>%Homochirality=%{y}\", \"legendgroup\": \"\", \"marker\": {\"color\": \"#636efa\", \"symbol\": \"circle\"}, \"mode\": \"markers\", \"name\": \"\", \"showlegend\": false, \"x\": [18, 2, 18, 10, 1, 5, 1, 1, 1, 1, 1, 1, 22, 6, 1, 1, 1, 1, 1, 1, 1, 1, 13, 1, 1, 1, 1, 1, 1, 1, 1, 1, 37, 76, 1, 1, 1, 1, 5, 1, 1, 1, 6, 2, 1, 1, 1, 3, 2, 11, 6, 1, 2, 1, 1, 1, 1, 1, 1, 25, 1, 5, 1, 1, 1, 1, 1, 27, 1, 1, 1, 9, 2, 1, 2, 3, 1, 1, 2, 2, 1, 1, 3, 7, 25, 1, 1, 2, 1, 15, 2, 11, 2, 1], \"xaxis\": \"x\", \"y\": [0.4117647058823529, 1.0, 0.7058823529411765, 0.7777777777777778, null, 0.75, null, null, null, null, null, null, 0.8571428571428571, 0.6, null, null, null, null, null, null, null, null, 0.75, null, null, null, null, null, null, null, null, null, 0.8055555555555556, 0.68, null, null, null, null, 1.0, null, null, null, 1.0, 1.0, null, null, null, 1.0, 1.0, 0.8, 0.8, null, 0.0, null, null, null, null, null, null, 0.7916666666666666, null, 0.75, null, null, null, null, null, 0.6538461538461539, null, null, null, 0.75, 1.0, null, 1.0, 1.0, null, null, 1.0, 1.0, null, null, 0.0, 0.3333333333333333, 0.7083333333333334, null, null, 1.0, null, 0.7857142857142857, 1.0, 0.8, 1.0, null], \"yaxis\": \"y\", \"type\": \"scatter\"}], \"name\": \"29\"}, {\"data\": [{\"hoverlabel\": {\"namelength\": 0}, \"hovertemplate\": \"Iteration=30<br>Length=%{x}<br>%Homochirality=%{y}\", \"legendgroup\": \"\", \"marker\": {\"color\": \"#636efa\", \"symbol\": \"circle\"}, \"mode\": \"markers\", \"name\": \"\", \"showlegend\": false, \"x\": [3, 1, 19, 1, 3, 1, 1, 28, 1, 2, 4, 1, 1, 1, 1, 1, 1, 1, 1, 20, 1, 5, 1, 32, 1, 1, 1, 20, 36, 1, 1, 1, 1, 1, 1, 1, 7, 7, 1, 1, 1, 2, 1, 4, 1, 6, 3, 16, 1, 1, 1, 21, 1, 1, 1, 1, 1, 1, 1, 1, 1, 1, 1, 1, 2, 1, 1, 2, 2, 1, 3, 3, 2, 33, 3, 6, 3, 77, 2, 7, 2, 2, 5, 2, 2, 9], \"xaxis\": \"x\", \"y\": [1.0, null, 0.9444444444444444, null, 1.0, null, null, 0.6666666666666666, null, 1.0, 1.0, null, null, null, null, null, null, null, null, 0.47368421052631576, null, 1.0, null, 0.6774193548387096, null, null, null, 0.631578947368421, 0.8, null, null, null, null, null, null, null, 0.8333333333333334, 1.0, null, null, null, 1.0, null, 1.0, null, 1.0, 0.5, 0.8, null, null, null, 0.7, null, null, null, null, null, null, null, null, null, null, null, null, 1.0, null, null, 1.0, 1.0, null, 0.5, 0.5, 0.0, 0.8125, 0.5, 0.8, 1.0, 0.6710526315789473, 1.0, 0.6666666666666666, 0.0, 1.0, 0.25, 1.0, 0.0, 0.875], \"yaxis\": \"y\", \"type\": \"scatter\"}], \"name\": \"30\"}, {\"data\": [{\"hoverlabel\": {\"namelength\": 0}, \"hovertemplate\": \"Iteration=31<br>Length=%{x}<br>%Homochirality=%{y}\", \"legendgroup\": \"\", \"marker\": {\"color\": \"#636efa\", \"symbol\": \"circle\"}, \"mode\": \"markers\", \"name\": \"\", \"showlegend\": false, \"x\": [7, 1, 1, 1, 2, 1, 1, 1, 1, 7, 1, 1, 1, 33, 4, 1, 9, 2, 1, 2, 1, 2, 1, 22, 1, 1, 22, 18, 21, 1, 1, 4, 1, 8, 1, 1, 7, 1, 3, 1, 1, 1, 3, 1, 1, 1, 4, 13, 1, 31, 1, 4, 1, 1, 3, 1, 1, 1, 1, 1, 1, 1, 10, 1, 1, 6, 3, 1, 5, 1, 2, 2, 2, 26, 78, 8, 1, 3, 23, 1, 1, 2, 1, 1, 2, 15, 1], \"xaxis\": \"x\", \"y\": [1.0, null, null, null, 1.0, null, null, null, null, 1.0, null, null, null, 0.6875, 0.3333333333333333, null, 0.75, 1.0, null, 0.0, null, 1.0, null, 0.47619047619047616, null, null, 0.6666666666666666, 1.0, 0.65, null, null, 1.0, null, 0.5714285714285714, null, null, 0.8333333333333334, null, 0.5, null, null, null, 1.0, null, null, null, 1.0, 0.8333333333333334, null, 0.8666666666666667, null, 1.0, null, null, 0.5, null, null, null, null, null, null, null, 0.8888888888888888, null, null, 0.6, 1.0, null, 0.25, null, 1.0, 0.0, 1.0, 0.72, 0.6753246753246753, 0.8571428571428571, null, 0.5, 0.8181818181818182, null, null, 0.0, null, null, 0.0, 0.8571428571428571, null], \"yaxis\": \"y\", \"type\": \"scatter\"}], \"name\": \"31\"}, {\"data\": [{\"hoverlabel\": {\"namelength\": 0}, \"hovertemplate\": \"Iteration=32<br>Length=%{x}<br>%Homochirality=%{y}\", \"legendgroup\": \"\", \"marker\": {\"color\": \"#636efa\", \"symbol\": \"circle\"}, \"mode\": \"markers\", \"name\": \"\", \"showlegend\": false, \"x\": [7, 28, 2, 27, 1, 1, 1, 3, 1, 1, 1, 1, 3, 25, 6, 1, 2, 1, 1, 3, 1, 1, 5, 1, 1, 1, 1, 1, 24, 1, 1, 17, 3, 1, 1, 1, 1, 1, 1, 1, 7, 1, 1, 3, 3, 1, 1, 1, 1, 2, 1, 1, 1, 1, 1, 1, 1, 1, 23, 1, 1, 16, 10, 4, 1, 2, 37, 1, 5, 23, 3, 1, 2, 2, 1, 2, 3, 32, 3, 1, 9, 79, 2, 3, 3], \"xaxis\": \"x\", \"y\": [1.0, 0.7037037037037037, 1.0, 0.8846153846153846, null, null, null, 1.0, null, null, null, null, 0.5, 0.75, 0.6, null, 1.0, null, null, 1.0, null, null, 0.5, null, null, null, null, null, 0.782608695652174, null, null, 0.875, 1.0, null, null, null, null, null, null, null, 0.6666666666666666, null, null, 0.0, 1.0, null, null, null, null, 1.0, null, null, null, null, null, null, null, null, 0.5, null, null, 0.8, 0.8888888888888888, 1.0, null, 1.0, 0.7222222222222222, null, 1.0, 0.6363636363636364, 1.0, null, 1.0, 1.0, null, 1.0, 0.5, 0.8387096774193549, 0.5, null, 0.5, 0.6794871794871795, 0.0, 1.0, 0.0], \"yaxis\": \"y\", \"type\": \"scatter\"}], \"name\": \"32\"}, {\"data\": [{\"hoverlabel\": {\"namelength\": 0}, \"hovertemplate\": \"Iteration=33<br>Length=%{x}<br>%Homochirality=%{y}\", \"legendgroup\": \"\", \"marker\": {\"color\": \"#636efa\", \"symbol\": \"circle\"}, \"mode\": \"markers\", \"name\": \"\", \"showlegend\": false, \"x\": [1, 1, 14, 3, 11, 1, 1, 1, 6, 1, 1, 2, 1, 1, 1, 1, 1, 1, 1, 1, 7, 1, 2, 1, 5, 1, 1, 28, 1, 1, 1, 1, 1, 1, 1, 1, 30, 1, 1, 3, 1, 8, 1, 11, 1, 5, 1, 1, 20, 1, 1, 1, 25, 1, 1, 1, 1, 2, 48, 21, 1, 1, 4, 2, 1, 1, 10, 1, 9, 1, 3, 33, 23, 2, 3, 2, 80, 4, 1, 9, 5, 2, 2, 1, 2], \"xaxis\": \"x\", \"y\": [null, null, 0.9230769230769231, 1.0, 0.5, null, null, null, 0.6, null, null, 1.0, null, null, null, null, null, null, null, null, 1.0, null, 1.0, null, 1.0, null, null, 0.8518518518518519, null, null, null, null, null, null, null, null, 0.6896551724137931, null, null, 1.0, null, 1.0, null, 0.9, null, 1.0, null, null, 0.8421052631578947, null, null, null, 0.75, null, null, null, null, 1.0, 0.6808510638297872, 0.5, null, null, 0.6666666666666666, 1.0, null, null, 0.7777777777777778, null, 0.5, null, 0.0, 0.84375, 0.6363636363636364, 1.0, 0.5, 1.0, 0.6835443037974683, 0.6666666666666666, null, 0.875, 0.75, 1.0, 1.0, null, 1.0], \"yaxis\": \"y\", \"type\": \"scatter\"}], \"name\": \"33\"}, {\"data\": [{\"hoverlabel\": {\"namelength\": 0}, \"hovertemplate\": \"Iteration=34<br>Length=%{x}<br>%Homochirality=%{y}\", \"legendgroup\": \"\", \"marker\": {\"color\": \"#636efa\", \"symbol\": \"circle\"}, \"mode\": \"markers\", \"name\": \"\", \"showlegend\": false, \"x\": [1, 1, 1, 1, 1, 7, 1, 1, 1, 1, 1, 10, 1, 1, 1, 1, 4, 1, 23, 1, 22, 1, 1, 1, 1, 1, 1, 1, 11, 4, 2, 1, 27, 1, 1, 1, 54, 1, 110, 1, 1, 1, 3, 1, 1, 1, 8, 5, 1, 1, 2, 6, 1, 8, 1, 1, 1, 5, 1, 1, 1, 1, 2, 1, 16, 1, 2, 2, 2, 2, 22, 1, 7, 2, 10, 1, 9, 12, 3, 7, 17, 3, 2, 1, 3, 17, 6, 3, 1], \"xaxis\": \"x\", \"y\": [null, null, null, null, null, 1.0, null, null, null, null, null, 0.7777777777777778, null, null, null, null, 1.0, null, 0.5, null, 0.8095238095238095, null, null, null, null, null, null, null, 0.5, 1.0, 1.0, null, 0.8846153846153846, null, null, null, 0.660377358490566, null, 0.6788990825688074, null, null, null, 0.5, null, null, null, 0.7142857142857143, 0.5, null, null, 1.0, 1.0, null, 0.5714285714285714, null, null, null, 1.0, null, null, null, null, 1.0, null, 0.9333333333333333, null, 1.0, 1.0, 0.0, 0.0, 0.6666666666666666, null, 1.0, 1.0, 1.0, null, 0.875, 0.45454545454545453, 0.5, 1.0, 0.8125, 1.0, 1.0, null, 1.0, 0.8125, 1.0, 1.0, null], \"yaxis\": \"y\", \"type\": \"scatter\"}], \"name\": \"34\"}, {\"data\": [{\"hoverlabel\": {\"namelength\": 0}, \"hovertemplate\": \"Iteration=35<br>Length=%{x}<br>%Homochirality=%{y}\", \"legendgroup\": \"\", \"marker\": {\"color\": \"#636efa\", \"symbol\": \"circle\"}, \"mode\": \"markers\", \"name\": \"\", \"showlegend\": false, \"x\": [1, 1, 7, 17, 7, 1, 1, 8, 1, 1, 2, 1, 1, 6, 13, 1, 1, 1, 13, 1, 1, 1, 1, 1, 1, 6, 1, 6, 1, 1, 26, 19, 1, 1, 9, 1, 1, 4, 13, 3, 7, 1, 1, 1, 2, 44, 1, 1, 4, 1, 1, 1, 1, 2, 1, 24, 1, 1, 113, 1, 1, 1, 1, 1, 9, 8, 1, 3, 2, 13, 2, 8, 9, 4, 11, 55], \"xaxis\": \"x\", \"y\": [null, null, 1.0, 0.9375, 1.0, null, null, 1.0, null, null, 1.0, null, null, 0.6, 0.5, null, null, null, 0.9166666666666666, null, null, null, null, null, null, 0.6, null, 0.8, null, null, 0.8, 0.8333333333333334, null, null, 0.625, null, null, 0.3333333333333333, 0.4166666666666667, 1.0, 0.8333333333333334, null, null, null, 1.0, 0.8372093023255814, null, null, 1.0, null, null, null, null, 1.0, null, 0.5217391304347826, null, null, 0.6785714285714286, null, null, null, null, null, 0.625, 1.0, null, 1.0, 0.0, 0.75, 1.0, 0.8571428571428571, 0.625, 1.0, 0.7, 0.6481481481481481], \"yaxis\": \"y\", \"type\": \"scatter\"}], \"name\": \"35\"}, {\"data\": [{\"hoverlabel\": {\"namelength\": 0}, \"hovertemplate\": \"Iteration=36<br>Length=%{x}<br>%Homochirality=%{y}\", \"legendgroup\": \"\", \"marker\": {\"color\": \"#636efa\", \"symbol\": \"circle\"}, \"mode\": \"markers\", \"name\": \"\", \"showlegend\": false, \"x\": [1, 1, 1, 1, 1, 13, 14, 1, 1, 8, 1, 64, 1, 1, 1, 8, 1, 1, 1, 1, 1, 1, 20, 1, 46, 61, 14, 1, 1, 1, 19, 1, 1, 5, 1, 45, 1, 5, 1, 1, 1, 1, 2, 1, 1, 1, 1, 1, 12, 1, 1, 4, 5, 3, 1, 1, 5, 1, 6, 1, 1, 1, 1, 1, 1, 1, 1, 15, 1, 1, 10, 1, 8, 1, 52, 4, 8, 4, 1, 1, 2, 18, 2, 3, 2, 2, 3], \"xaxis\": \"x\", \"y\": [null, null, null, null, null, 0.8333333333333334, 0.7692307692307693, null, null, 1.0, null, 0.6507936507936508, null, null, null, 0.7142857142857143, null, null, null, null, null, null, 0.9473684210526315, null, 0.8444444444444444, 0.6, 0.46153846153846156, null, null, null, 0.7222222222222222, null, null, 0.75, null, 0.8181818181818182, null, 1.0, null, null, null, null, 1.0, null, null, null, null, null, 0.45454545454545453, null, null, 1.0, 1.0, 0.0, null, null, 0.5, null, 0.6, null, null, null, null, null, null, null, null, 0.9285714285714286, null, null, 1.0, null, 0.7142857142857143, null, 0.7843137254901961, 0.6666666666666666, 0.8571428571428571, 0.6666666666666666, null, null, 1.0, 0.5294117647058824, 1.0, 0.5, 0.0, 0.0, 1.0], \"yaxis\": \"y\", \"type\": \"scatter\"}], \"name\": \"36\"}, {\"data\": [{\"hoverlabel\": {\"namelength\": 0}, \"hovertemplate\": \"Iteration=37<br>Length=%{x}<br>%Homochirality=%{y}\", \"legendgroup\": \"\", \"marker\": {\"color\": \"#636efa\", \"symbol\": \"circle\"}, \"mode\": \"markers\", \"name\": \"\", \"showlegend\": false, \"x\": [1, 1, 1, 1, 11, 1, 1, 9, 1, 1, 1, 1, 79, 1, 5, 4, 1, 1, 1, 1, 17, 1, 9, 3, 1, 1, 2, 1, 1, 1, 1, 9, 1, 1, 1, 1, 1, 1, 3, 2, 51, 1, 9, 1, 1, 1, 1, 1, 1, 66, 6, 1, 7, 1, 1, 1, 1, 1, 8, 1, 1, 1, 7, 1, 2, 15, 2, 1, 9, 16, 28, 2, 2, 5, 2, 5, 18, 3, 53, 2, 5, 20, 13, 1, 2], \"xaxis\": \"x\", \"y\": [null, null, null, null, 1.0, null, null, 0.875, null, null, null, null, 0.5897435897435898, null, 0.75, 0.6666666666666666, null, null, null, null, 0.875, null, 0.875, 1.0, null, null, 1.0, null, null, null, null, 0.5, null, null, null, null, null, null, 0.5, 1.0, 0.82, null, 0.75, null, null, null, null, null, null, 0.6307692307692307, 0.6, null, 0.6666666666666666, null, null, null, null, null, 0.8571428571428571, null, null, null, 1.0, null, 1.0, 0.42857142857142855, 0.0, null, 1.0, 0.9333333333333333, 0.8148148148148148, 0.0, 1.0, 0.5, 0.0, 0.75, 1.0, 0.5, 0.7884615384615384, 1.0, 1.0, 0.6842105263157895, 0.8333333333333334, null, 1.0], \"yaxis\": \"y\", \"type\": \"scatter\"}], \"name\": \"37\"}, {\"data\": [{\"hoverlabel\": {\"namelength\": 0}, \"hovertemplate\": \"Iteration=38<br>Length=%{x}<br>%Homochirality=%{y}\", \"legendgroup\": \"\", \"marker\": {\"color\": \"#636efa\", \"symbol\": \"circle\"}, \"mode\": \"markers\", \"name\": \"\", \"showlegend\": false, \"x\": [1, 6, 2, 1, 1, 11, 1, 2, 1, 29, 1, 9, 1, 15, 1, 1, 1, 2, 1, 1, 1, 1, 44, 3, 1, 88, 1, 1, 20, 1, 1, 1, 1, 1, 1, 5, 21, 1, 1, 1, 1, 1, 1, 1, 1, 1, 1, 7, 1, 49, 3, 1, 18, 8, 1, 4, 1, 9, 1, 1, 1, 1, 1, 1, 1, 1, 9, 3, 1, 1, 1, 4, 1, 4, 8, 4, 1, 1, 5, 9, 2, 3, 3, 3, 2, 2, 7, 18, 7, 2, 67, 5], \"xaxis\": \"x\", \"y\": [null, 0.6, 1.0, null, null, 0.9, null, 1.0, null, 0.8214285714285714, null, 0.5, null, 0.8571428571428571, null, null, null, 1.0, null, null, null, null, 0.8604651162790697, 1.0, null, 0.5747126436781609, null, null, 0.8421052631578947, null, null, null, null, null, null, 1.0, 0.65, null, null, null, null, null, null, null, null, null, null, 1.0, null, 0.8333333333333334, 1.0, null, 1.0, 0.42857142857142855, null, 0.3333333333333333, null, 1.0, null, null, null, null, null, null, null, null, 1.0, 1.0, null, null, null, 1.0, null, 0.6666666666666666, 1.0, 0.6666666666666666, null, null, 0.5, 0.5, 1.0, 0.5, 0.0, 1.0, 1.0, 1.0, 0.5, 0.8235294117647058, 1.0, 0.0, 0.6212121212121212, 1.0], \"yaxis\": \"y\", \"type\": \"scatter\"}], \"name\": \"38\"}, {\"data\": [{\"hoverlabel\": {\"namelength\": 0}, \"hovertemplate\": \"Iteration=39<br>Length=%{x}<br>%Homochirality=%{y}\", \"legendgroup\": \"\", \"marker\": {\"color\": \"#636efa\", \"symbol\": \"circle\"}, \"mode\": \"markers\", \"name\": \"\", \"showlegend\": false, \"x\": [16, 1, 1, 8, 9, 1, 6, 1, 1, 1, 1, 1, 2, 1, 1, 1, 10, 1, 1, 1, 11, 1, 52, 8, 9, 1, 1, 1, 1, 12, 13, 1, 1, 22, 1, 1, 1, 4, 1, 1, 2, 1, 1, 73, 13, 1, 1, 1, 1, 1, 1, 1, 1, 1, 70, 1, 1, 1, 1, 21, 1, 1, 7, 1, 2, 7, 1, 3, 4, 1, 1, 1, 1, 43, 36, 6, 17, 1, 2, 6, 2, 21, 7, 1, 2, 1, 3], \"xaxis\": \"x\", \"y\": [0.8666666666666667, null, null, 0.8571428571428571, 1.0, null, 1.0, null, null, null, null, null, 1.0, null, null, null, 0.6666666666666666, null, null, null, 0.6, null, 0.5294117647058824, 0.7142857142857143, 1.0, null, null, null, null, 0.8181818181818182, 0.5833333333333334, null, null, 0.6190476190476191, null, null, null, 1.0, null, null, 1.0, null, null, 0.8333333333333334, 1.0, null, null, null, null, null, null, null, null, null, 0.6086956521739131, null, null, null, null, 0.95, null, null, 1.0, null, 1.0, 0.8333333333333334, null, 1.0, 0.3333333333333333, null, null, null, null, 0.8333333333333334, 0.6571428571428571, 0.8, 0.875, null, 0.0, 0.4, 0.0, 0.85, 0.5, null, 1.0, null, 1.0], \"yaxis\": \"y\", \"type\": \"scatter\"}], \"name\": \"39\"}, {\"data\": [{\"hoverlabel\": {\"namelength\": 0}, \"hovertemplate\": \"Iteration=40<br>Length=%{x}<br>%Homochirality=%{y}\", \"legendgroup\": \"\", \"marker\": {\"color\": \"#636efa\", \"symbol\": \"circle\"}, \"mode\": \"markers\", \"name\": \"\", \"showlegend\": false, \"x\": [27, 1, 1, 1, 54, 1, 1, 1, 1, 1, 1, 71, 1, 2, 1, 4, 7, 1, 1, 2, 89, 1, 1, 9, 8, 5, 1, 1, 7, 11, 1, 1, 1, 1, 1, 1, 1, 1, 1, 1, 1, 1, 1, 1, 1, 14, 1, 1, 1, 1, 1, 1, 1, 1, 1, 1, 8, 8, 32, 1, 1, 13, 1, 1, 10, 1, 3, 1, 1, 41, 1, 1, 8, 1, 9, 5, 1, 2, 8, 1, 19, 2, 2, 22, 3, 1, 1, 4, 18, 11], \"xaxis\": \"x\", \"y\": [0.7307692307692307, null, null, null, 0.7735849056603774, null, null, null, null, null, null, 0.6, null, 1.0, null, 1.0, 1.0, null, null, 1.0, 0.8409090909090909, null, null, 1.0, 1.0, 0.75, null, null, 1.0, 0.6, null, null, null, null, null, null, null, null, null, null, null, null, null, null, null, 0.6153846153846154, null, null, null, null, null, null, null, null, null, null, 0.7142857142857143, 1.0, 0.6451612903225806, null, null, 1.0, null, null, 1.0, null, 1.0, null, null, 0.575, null, null, 0.7142857142857143, null, 0.5, 0.5, null, 1.0, 0.42857142857142855, null, 0.8888888888888888, 1.0, 1.0, 0.9523809523809523, 1.0, null, null, 0.6666666666666666, 0.8823529411764706, 0.4], \"yaxis\": \"y\", \"type\": \"scatter\"}], \"name\": \"40\"}, {\"data\": [{\"hoverlabel\": {\"namelength\": 0}, \"hovertemplate\": \"Iteration=41<br>Length=%{x}<br>%Homochirality=%{y}\", \"legendgroup\": \"\", \"marker\": {\"color\": \"#636efa\", \"symbol\": \"circle\"}, \"mode\": \"markers\", \"name\": \"\", \"showlegend\": false, \"x\": [1, 10, 21, 1, 1, 1, 75, 1, 3, 1, 1, 20, 1, 1, 1, 4, 1, 2, 1, 1, 1, 1, 1, 1, 1, 1, 6, 10, 1, 1, 1, 1, 42, 1, 1, 6, 9, 1, 1, 1, 1, 3, 30, 1, 1, 7, 36, 10, 80, 1, 1, 7, 1, 1, 12, 1, 1, 1, 20, 1, 1, 6, 1, 1, 1, 1, 1, 1, 1, 1, 1, 2, 1, 10, 1, 16, 1, 11, 5, 11, 2, 13, 1, 2, 20, 18, 9, 1, 12], \"xaxis\": \"x\", \"y\": [null, 0.8888888888888888, 0.65, null, null, null, 0.6216216216216216, null, 0.5, null, null, 0.8421052631578947, null, null, null, 1.0, null, 1.0, null, null, null, null, null, null, null, null, 0.8, 1.0, null, null, null, null, 0.5609756097560976, null, null, 1.0, 0.75, null, null, null, null, 1.0, 0.9310344827586207, null, null, 0.3333333333333333, 0.8857142857142857, 0.4444444444444444, 0.8607594936708861, null, null, 0.5, null, null, 0.6363636363636364, null, null, null, 1.0, null, null, 0.4, null, null, null, null, null, null, null, null, null, 1.0, null, 1.0, null, 0.6, null, 0.7, 1.0, 1.0, 0.0, 0.9166666666666666, null, 1.0, 0.8947368421052632, 0.5882352941176471, 0.75, null, 0.36363636363636365], \"yaxis\": \"y\", \"type\": \"scatter\"}], \"name\": \"41\"}, {\"data\": [{\"hoverlabel\": {\"namelength\": 0}, \"hovertemplate\": \"Iteration=42<br>Length=%{x}<br>%Homochirality=%{y}\", \"legendgroup\": \"\", \"marker\": {\"color\": \"#636efa\", \"symbol\": \"circle\"}, \"mode\": \"markers\", \"name\": \"\", \"showlegend\": false, \"x\": [10, 1, 1, 1, 15, 2, 1, 20, 1, 7, 32, 1, 1, 19, 1, 2, 1, 1, 1, 1, 1, 1, 1, 1, 1, 1, 1, 1, 1, 1, 1, 1, 2, 1, 1, 13, 25, 1, 4, 1, 1, 1, 1, 1, 1, 1, 1, 1, 45, 1, 1, 1, 1, 1, 1, 105, 21, 2, 1, 1, 1, 1, 1, 1, 1, 1, 4, 1, 1, 1, 25, 1, 28, 1, 8, 73, 7, 17, 1, 2, 8, 14, 12, 13, 17, 1, 1, 1, 2, 2], \"xaxis\": \"x\", \"y\": [1.0, null, null, null, 0.6428571428571429, 1.0, null, 1.0, null, 0.8333333333333334, 0.6774193548387096, null, null, 0.9444444444444444, null, 1.0, null, null, null, null, null, null, null, null, null, null, null, null, null, null, null, null, 1.0, null, null, 0.5, 0.625, null, 1.0, null, null, null, null, null, null, null, null, null, 0.8409090909090909, null, null, null, null, null, null, 0.7019230769230769, 1.0, 1.0, null, null, null, null, null, null, null, null, 1.0, null, null, null, 0.875, null, 0.6296296296296297, null, 1.0, 0.875, 0.8333333333333334, 0.625, null, 1.0, 0.2857142857142857, 0.6153846153846154, 0.7272727272727273, 0.5833333333333334, 0.5, null, null, null, 0.0, 1.0], \"yaxis\": \"y\", \"type\": \"scatter\"}], \"name\": \"42\"}, {\"data\": [{\"hoverlabel\": {\"namelength\": 0}, \"hovertemplate\": \"Iteration=43<br>Length=%{x}<br>%Homochirality=%{y}\", \"legendgroup\": \"\", \"marker\": {\"color\": \"#636efa\", \"symbol\": \"circle\"}, \"mode\": \"markers\", \"name\": \"\", \"showlegend\": false, \"x\": [1, 1, 1, 4, 1, 1, 1, 1, 2, 94, 1, 1, 4, 24, 1, 1, 1, 1, 1, 30, 1, 1, 2, 1, 1, 1, 1, 1, 1, 1, 4, 1, 1, 21, 1, 1, 6, 1, 1, 1, 1, 1, 16, 1, 1, 1, 1, 1, 5, 1, 5, 1, 45, 1, 1, 1, 8, 1, 18, 1, 1, 8, 33, 1, 1, 1, 10, 2, 2, 21, 106, 3, 4, 46, 2, 2, 2, 3, 2, 2, 2, 26, 4, 9], \"xaxis\": \"x\", \"y\": [null, null, null, 0.3333333333333333, null, null, null, null, 1.0, 0.9032258064516129, null, null, 1.0, 0.6956521739130435, null, null, null, null, null, 0.4827586206896552, null, null, 1.0, null, null, null, null, null, null, null, 0.6666666666666666, null, null, 0.95, null, null, 1.0, null, null, null, null, null, 0.6666666666666666, null, null, null, null, null, 1.0, null, 1.0, null, 0.6363636363636364, null, null, null, 0.8571428571428571, null, 0.5882352941176471, null, null, 1.0, 0.78125, null, null, null, 1.0, 1.0, 0.0, 0.7, 0.6952380952380952, 0.5, 0.3333333333333333, 0.8444444444444444, 0.0, 1.0, 1.0, 0.5, 0.0, 1.0, 1.0, 0.84, 0.6666666666666666, 0.375], \"yaxis\": \"y\", \"type\": \"scatter\"}], \"name\": \"43\"}, {\"data\": [{\"hoverlabel\": {\"namelength\": 0}, \"hovertemplate\": \"Iteration=44<br>Length=%{x}<br>%Homochirality=%{y}\", \"legendgroup\": \"\", \"marker\": {\"color\": \"#636efa\", \"symbol\": \"circle\"}, \"mode\": \"markers\", \"name\": \"\", \"showlegend\": false, \"x\": [3, 1, 1, 3, 3, 1, 1, 1, 1, 1, 1, 1, 1, 29, 1, 2, 1, 1, 1, 1, 1, 1, 1, 1, 49, 1, 1, 1, 14, 1, 1, 1, 1, 95, 1, 1, 1, 3, 1, 6, 7, 1, 4, 1, 1, 13, 3, 1, 107, 1, 1, 1, 1, 6, 16, 1, 1, 1, 1, 23, 1, 20, 64, 1, 1, 1, 1, 1, 1, 2, 1, 2, 2, 34, 25, 9, 5, 1, 31, 3, 1, 2, 3, 1], \"xaxis\": \"x\", \"y\": [0.5, null, null, 1.0, 1.0, null, null, null, null, null, null, null, null, 0.7857142857142857, null, 1.0, null, null, null, null, null, null, null, null, 0.6458333333333334, null, null, null, 0.5384615384615384, null, null, null, null, 0.9042553191489362, null, null, null, 1.0, null, 1.0, 0.8333333333333334, null, 0.3333333333333333, null, null, 0.75, 0.5, null, 0.6981132075471698, null, null, null, null, 1.0, 0.9333333333333333, null, null, null, null, 0.6818181818181818, null, 1.0, 0.7619047619047619, null, null, null, null, null, null, 1.0, null, 0.0, 0.0, 0.7575757575757576, 0.7083333333333334, 1.0, 0.25, null, 0.5, 0.5, null, 1.0, 0.5, null], \"yaxis\": \"y\", \"type\": \"scatter\"}], \"name\": \"44\"}, {\"data\": [{\"hoverlabel\": {\"namelength\": 0}, \"hovertemplate\": \"Iteration=45<br>Length=%{x}<br>%Homochirality=%{y}\", \"legendgroup\": \"\", \"marker\": {\"color\": \"#636efa\", \"symbol\": \"circle\"}, \"mode\": \"markers\", \"name\": \"\", \"showlegend\": false, \"x\": [1, 1, 1, 1, 3, 1, 1, 1, 1, 113, 1, 3, 1, 1, 1, 1, 1, 1, 1, 1, 1, 1, 6, 1, 1, 1, 1, 1, 1, 1, 108, 1, 6, 1, 1, 1, 6, 1, 124, 1, 32, 1, 1, 8, 1, 1, 7, 1, 16, 1, 1, 1, 1, 1, 1, 1, 1, 33, 1, 1, 1, 9, 1, 4, 2, 1, 15, 2, 35, 2, 1, 2, 10, 2, 21, 2, 1, 15, 7, 2, 4, 3, 3], \"xaxis\": \"x\", \"y\": [null, null, null, null, 0.0, null, null, null, null, 0.7142857142857143, null, 1.0, null, null, null, null, null, null, null, null, null, null, 1.0, null, null, null, null, null, null, null, 0.7009345794392523, null, 0.2, null, null, null, 1.0, null, 0.8780487804878049, null, 0.7096774193548387, null, null, 0.5714285714285714, null, null, 0.3333333333333333, null, 0.7333333333333333, null, null, null, null, null, null, null, null, 0.5, null, null, null, 1.0, null, 0.3333333333333333, 1.0, null, 0.5, 0.0, 0.7352941176470589, 1.0, null, 0.0, 1.0, 0.0, 1.0, 1.0, null, 0.7857142857142857, 1.0, 0.0, 1.0, 0.5, 0.5], \"yaxis\": \"y\", \"type\": \"scatter\"}], \"name\": \"45\"}, {\"data\": [{\"hoverlabel\": {\"namelength\": 0}, \"hovertemplate\": \"Iteration=46<br>Length=%{x}<br>%Homochirality=%{y}\", \"legendgroup\": \"\", \"marker\": {\"color\": \"#636efa\", \"symbol\": \"circle\"}, \"mode\": \"markers\", \"name\": \"\", \"showlegend\": false, \"x\": [1, 21, 1, 1, 1, 1, 1, 1, 107, 5, 3, 3, 1, 1, 6, 10, 1, 1, 1, 73, 1, 1, 9, 1, 23, 1, 1, 1, 1, 1, 8, 1, 1, 1, 1, 1, 1, 1, 1, 17, 1, 1, 1, 1, 1, 1, 12, 1, 1, 1, 1, 1, 1, 6, 8, 1, 1, 1, 25, 1, 1, 24, 8, 1, 1, 1, 1, 1, 1, 1, 1, 1, 114, 14, 1, 1, 2, 17, 26, 35, 2, 2, 34, 2, 1, 1], \"xaxis\": \"x\", \"y\": [null, 0.85, null, null, null, null, null, null, 0.9056603773584906, 0.25, 0.0, 1.0, null, null, 0.6, 0.4444444444444444, null, null, null, 0.7638888888888888, null, null, 0.75, null, 0.9545454545454546, null, null, null, null, null, 0.7142857142857143, null, null, null, null, null, null, null, null, 0.75, null, null, null, null, null, null, 0.45454545454545453, null, null, null, null, null, null, 0.6, 1.0, null, null, null, 0.8333333333333334, null, null, 0.6956521739130435, 0.42857142857142855, null, null, null, null, null, null, null, null, null, 0.7079646017699115, 0.6153846153846154, null, null, 0.0, 0.75, 0.76, 0.5882352941176471, 0.0, 0.0, 0.48484848484848486, 1.0, null, null], \"yaxis\": \"y\", \"type\": \"scatter\"}], \"name\": \"46\"}, {\"data\": [{\"hoverlabel\": {\"namelength\": 0}, \"hovertemplate\": \"Iteration=47<br>Length=%{x}<br>%Homochirality=%{y}\", \"legendgroup\": \"\", \"marker\": {\"color\": \"#636efa\", \"symbol\": \"circle\"}, \"mode\": \"markers\", \"name\": \"\", \"showlegend\": false, \"x\": [3, 1, 1, 11, 1, 1, 1, 1, 1, 1, 3, 1, 9, 1, 113, 1, 1, 35, 1, 9, 1, 1, 1, 1, 1, 1, 1, 37, 1, 25, 1, 1, 22, 1, 3, 1, 1, 1, 16, 1, 1, 1, 1, 1, 27, 1, 1, 1, 1, 4, 1, 1, 1, 1, 1, 1, 1, 1, 1, 23, 1, 1, 2, 76, 1, 1, 1, 1, 1, 1, 1, 25, 1, 3, 6, 1, 1, 2, 10, 1, 2, 79, 2, 18, 13, 13, 11, 21, 7], \"xaxis\": \"x\", \"y\": [1.0, null, null, 0.6, null, null, null, null, null, null, 1.0, null, 0.5, null, 0.8839285714285714, null, null, 0.7058823529411765, null, 0.625, null, null, null, null, null, null, null, 0.5555555555555556, null, 0.6666666666666666, null, null, 0.8095238095238095, null, 0.0, null, null, null, 0.7333333333333333, null, null, null, null, null, 0.7692307692307693, null, null, null, null, 0.6666666666666666, null, null, null, null, null, null, null, null, null, 0.45454545454545453, null, null, 1.0, 0.7333333333333333, null, null, null, null, null, null, null, 0.8333333333333334, null, 1.0, 0.4, null, null, 1.0, 0.7777777777777778, null, 1.0, 0.717948717948718, 1.0, 0.7647058823529411, 0.5, 0.8333333333333334, 0.6, 1.0, 0.5], \"yaxis\": \"y\", \"type\": \"scatter\"}], \"name\": \"47\"}, {\"data\": [{\"hoverlabel\": {\"namelength\": 0}, \"hovertemplate\": \"Iteration=48<br>Length=%{x}<br>%Homochirality=%{y}\", \"legendgroup\": \"\", \"marker\": {\"color\": \"#636efa\", \"symbol\": \"circle\"}, \"mode\": \"markers\", \"name\": \"\", \"showlegend\": false, \"x\": [1, 1, 10, 1, 1, 1, 1, 3, 1, 1, 1, 4, 1, 1, 1, 21, 1, 1, 1, 119, 1, 48, 1, 1, 1, 1, 1, 2, 1, 38, 1, 1, 10, 1, 1, 1, 62, 12, 1, 1, 1, 1, 12, 1, 7, 1, 1, 1, 14, 1, 3, 1, 1, 21, 1, 1, 5, 1, 1, 1, 1, 3, 1, 1, 1, 7, 12, 1, 2, 77, 3, 2, 2, 11, 2, 23, 23, 72, 2, 4, 5, 3, 4, 3], \"xaxis\": \"x\", \"y\": [null, null, 0.6666666666666666, null, null, null, null, 1.0, null, null, null, 0.3333333333333333, null, null, null, 0.7, null, null, null, 0.8559322033898306, null, 0.6382978723404256, null, null, null, null, null, 1.0, null, 0.7297297297297297, null, null, 0.4444444444444444, null, null, null, 0.6065573770491803, 0.5454545454545454, null, null, null, null, 0.5454545454545454, null, 0.6666666666666666, null, null, null, 0.5384615384615384, null, 0.5, null, null, 1.0, null, null, 0.75, null, null, null, null, 1.0, null, null, null, 1.0, 0.8181818181818182, null, 0.0, 0.7368421052631579, 1.0, 1.0, 0.0, 0.9, 0.0, 0.8181818181818182, 0.7727272727272727, 0.7323943661971831, 0.0, 0.6666666666666666, 0.75, 0.5, 0.6666666666666666, 0.5], \"yaxis\": \"y\", \"type\": \"scatter\"}], \"name\": \"48\"}, {\"data\": [{\"hoverlabel\": {\"namelength\": 0}, \"hovertemplate\": \"Iteration=49<br>Length=%{x}<br>%Homochirality=%{y}\", \"legendgroup\": \"\", \"marker\": {\"color\": \"#636efa\", \"symbol\": \"circle\"}, \"mode\": \"markers\", \"name\": \"\", \"showlegend\": false, \"x\": [1, 1, 1, 1, 1, 1, 1, 1, 1, 1, 73, 1, 32, 3, 1, 1, 1, 1, 13, 1, 33, 22, 1, 1, 12, 1, 1, 4, 1, 17, 1, 1, 1, 1, 1, 1, 2, 1, 1, 1, 1, 1, 63, 1, 115, 4, 1, 1, 1, 1, 1, 3, 50, 1, 1, 1, 1, 1, 1, 13, 6, 2, 1, 1, 1, 7, 1, 3, 1, 2, 8, 20, 1, 2, 2, 1, 3, 1, 2, 5, 1, 1, 1, 8, 2, 1, 5, 1, 1, 2, 1, 113, 5], \"xaxis\": \"x\", \"y\": [null, null, null, null, null, null, null, null, null, null, 0.7222222222222222, null, 0.9354838709677419, 1.0, null, null, null, null, 0.5, null, 0.78125, 0.8095238095238095, null, null, 0.36363636363636365, null, null, 0.6666666666666666, null, 0.5, null, null, null, null, null, null, 1.0, null, null, null, null, null, 0.5967741935483871, null, 0.7368421052631579, 1.0, null, null, null, null, null, 1.0, 0.6326530612244898, null, null, null, null, null, null, 0.75, 0.4, 1.0, null, null, null, 0.8333333333333334, null, 1.0, null, 1.0, 0.8571428571428571, 0.7368421052631579, null, 1.0, 1.0, null, 1.0, null, 0.0, 0.5, null, null, null, 0.7142857142857143, 0.0, null, 0.5, null, null, 1.0, null, 0.8839285714285714, 0.25], \"yaxis\": \"y\", \"type\": \"scatter\"}], \"name\": \"49\"}, {\"data\": [{\"hoverlabel\": {\"namelength\": 0}, \"hovertemplate\": \"Iteration=50<br>Length=%{x}<br>%Homochirality=%{y}\", \"legendgroup\": \"\", \"marker\": {\"color\": \"#636efa\", \"symbol\": \"circle\"}, \"mode\": \"markers\", \"name\": \"\", \"showlegend\": false, \"x\": [1, 1, 1, 1, 35, 1, 54, 1, 1, 1, 1, 3, 1, 1, 1, 1, 35, 1, 2, 1, 1, 1, 118, 1, 1, 1, 1, 3, 1, 1, 1, 1, 1, 1, 1, 5, 1, 1, 1, 4, 1, 1, 1, 2, 1, 1, 1, 65, 1, 1, 1, 1, 1, 1, 1, 1, 1, 1, 15, 1, 1, 1, 4, 1, 12, 1, 21, 21, 1, 1, 115, 1, 9, 19, 2, 3, 1, 4, 1, 14, 9, 34, 21, 2, 3, 2, 29], \"xaxis\": \"x\", \"y\": [null, null, null, null, 0.7647058823529411, null, 0.7924528301886793, null, null, null, null, 1.0, null, null, null, null, 0.9411764705882353, null, 1.0, null, null, null, 0.7350427350427351, null, null, null, null, 1.0, null, null, null, null, null, null, null, 0.75, null, null, null, 0.6666666666666666, null, null, null, 1.0, null, null, null, 0.59375, null, null, null, null, null, null, null, null, null, null, 0.5, null, null, null, 0.3333333333333333, null, 0.7272727272727273, null, 0.5, 0.55, null, null, 0.8859649122807017, null, 0.875, 0.5555555555555556, 1.0, 0.5, null, 0.3333333333333333, null, 0.5384615384615384, 0.75, 0.7575757575757576, 0.75, 1.0, 0.5, 1.0, 0.75], \"yaxis\": \"y\", \"type\": \"scatter\"}], \"name\": \"50\"}, {\"data\": [{\"hoverlabel\": {\"namelength\": 0}, \"hovertemplate\": \"Iteration=51<br>Length=%{x}<br>%Homochirality=%{y}\", \"legendgroup\": \"\", \"marker\": {\"color\": \"#636efa\", \"symbol\": \"circle\"}, \"mode\": \"markers\", \"name\": \"\", \"showlegend\": false, \"x\": [1, 1, 1, 1, 1, 1, 2, 1, 5, 6, 1, 1, 1, 1, 1, 1, 1, 1, 1, 116, 1, 1, 1, 1, 1, 4, 6, 1, 33, 66, 5, 1, 1, 1, 1, 1, 11, 3, 13, 1, 1, 1, 1, 1, 1, 1, 69, 1, 1, 1, 1, 1, 1, 13, 1, 85, 8, 36, 2, 22, 36, 2, 15, 2, 4, 3, 1, 2, 3, 28, 1, 20, 3, 2, 15, 4, 2, 33, 13], \"xaxis\": \"x\", \"y\": [null, null, null, null, null, null, 1.0, null, 0.25, 0.8, null, null, null, null, null, null, null, null, null, 0.8869565217391304, null, null, null, null, null, 0.6666666666666666, 0.8, null, 0.78125, 0.6, 0.5, null, null, null, null, null, 0.9, 1.0, 0.75, null, null, null, null, null, null, null, 0.7352941176470589, null, null, null, null, null, null, 0.6666666666666666, null, 0.7738095238095238, 0.7142857142857143, 0.7428571428571429, 1.0, 0.7142857142857143, 0.9428571428571428, 0.0, 0.5, 1.0, 0.3333333333333333, 1.0, null, 1.0, 0.5, 0.7777777777777778, null, 0.5263157894736842, 0.5, 1.0, 0.5714285714285714, 0.3333333333333333, 0.0, 0.65625, 0.4166666666666667], \"yaxis\": \"y\", \"type\": \"scatter\"}], \"name\": \"51\"}, {\"data\": [{\"hoverlabel\": {\"namelength\": 0}, \"hovertemplate\": \"Iteration=52<br>Length=%{x}<br>%Homochirality=%{y}\", \"legendgroup\": \"\", \"marker\": {\"color\": \"#636efa\", \"symbol\": \"circle\"}, \"mode\": \"markers\", \"name\": \"\", \"showlegend\": false, \"x\": [23, 1, 1, 2, 1, 2, 1, 1, 75, 2, 1, 1, 1, 1, 1, 67, 7, 1, 5, 1, 30, 1, 1, 15, 1, 1, 1, 14, 1, 1, 1, 1, 3, 1, 1, 1, 1, 1, 1, 3, 34, 1, 1, 12, 117, 1, 1, 1, 1, 1, 1, 1, 1, 13, 1, 1, 1, 1, 38, 3, 1, 1, 1, 1, 23, 3, 2, 2, 34, 2, 1, 2, 21, 1, 2, 1, 86, 2, 7, 2, 2, 14, 2, 37], \"xaxis\": \"x\", \"y\": [0.5909090909090909, null, null, 1.0, null, 1.0, null, null, 0.7297297297297297, 0.0, null, null, null, null, null, 0.5909090909090909, 0.5, null, 0.25, null, 0.7586206896551724, null, null, 0.5, null, null, null, 0.6153846153846154, null, null, null, null, 0.5, null, null, null, null, null, null, 1.0, 0.7575757575757576, null, null, 0.9090909090909091, 0.8793103448275862, null, null, null, null, null, null, null, null, 0.5, null, null, null, null, 0.918918918918919, 0.5, null, null, null, null, 0.5454545454545454, 0.5, 1.0, 1.0, 0.6666666666666666, 1.0, null, 0.0, 0.75, null, 0.0, null, 0.7647058823529411, 1.0, 0.6666666666666666, 1.0, 1.0, 0.6923076923076923, 1.0, 0.75], \"yaxis\": \"y\", \"type\": \"scatter\"}], \"name\": \"52\"}, {\"data\": [{\"hoverlabel\": {\"namelength\": 0}, \"hovertemplate\": \"Iteration=53<br>Length=%{x}<br>%Homochirality=%{y}\", \"legendgroup\": \"\", \"marker\": {\"color\": \"#636efa\", \"symbol\": \"circle\"}, \"mode\": \"markers\", \"name\": \"\", \"showlegend\": false, \"x\": [1, 4, 1, 36, 1, 1, 1, 1, 1, 1, 1, 25, 1, 68, 2, 1, 2, 1, 46, 7, 1, 32, 1, 1, 1, 34, 1, 1, 1, 1, 4, 1, 1, 1, 2, 2, 1, 1, 1, 1, 3, 1, 1, 1, 1, 4, 1, 2, 1, 1, 1, 3, 1, 1, 1, 1, 3, 1, 3, 1, 8, 1, 100, 4, 1, 1, 1, 35, 1, 39, 1, 1, 1, 1, 3, 71, 7, 19, 2, 35, 2, 1, 1, 13, 4, 76, 16, 1, 2, 1], \"xaxis\": \"x\", \"y\": [null, 0.6666666666666666, null, 0.6857142857142857, null, null, null, null, null, null, null, 0.5833333333333334, null, 0.5970149253731343, 0.0, null, 1.0, null, 0.9111111111111111, 0.8333333333333334, null, 0.7096774193548387, null, null, null, 0.6666666666666666, null, null, null, null, 0.6666666666666666, null, null, null, 1.0, 1.0, null, null, null, null, 1.0, null, null, null, null, 0.6666666666666666, null, 1.0, null, null, null, 0.5, null, null, null, null, 1.0, null, 0.5, null, 0.7142857142857143, null, 0.7474747474747475, 0.6666666666666666, null, null, null, 0.7647058823529411, null, 0.8947368421052632, null, null, null, null, 0.5, 0.8714285714285714, 0.6666666666666666, 0.5555555555555556, 1.0, 0.7647058823529411, 0.0, null, null, 0.8333333333333334, 0.3333333333333333, 0.72, 0.5333333333333333, null, 1.0, null], \"yaxis\": \"y\", \"type\": \"scatter\"}], \"name\": \"53\"}, {\"data\": [{\"hoverlabel\": {\"namelength\": 0}, \"hovertemplate\": \"Iteration=54<br>Length=%{x}<br>%Homochirality=%{y}\", \"legendgroup\": \"\", \"marker\": {\"color\": \"#636efa\", \"symbol\": \"circle\"}, \"mode\": \"markers\", \"name\": \"\", \"showlegend\": false, \"x\": [36, 1, 1, 1, 1, 1, 21, 1, 1, 1, 12, 2, 4, 2, 1, 1, 1, 1, 1, 1, 1, 9, 1, 1, 48, 3, 55, 1, 78, 1, 1, 1, 1, 1, 1, 1, 2, 1, 1, 62, 1, 50, 1, 1, 1, 1, 35, 1, 1, 2, 32, 1, 1, 1, 4, 1, 1, 1, 1, 1, 1, 36, 1, 3, 1, 36, 2, 17, 1, 45, 4, 4, 40, 2, 5, 2, 3, 6, 72, 2], \"xaxis\": \"x\", \"y\": [0.6571428571428571, null, null, null, null, null, 0.55, null, null, null, 0.6363636363636364, 1.0, 0.6666666666666666, 1.0, null, null, null, null, null, null, null, 0.75, null, null, 0.7872340425531915, 1.0, 0.7037037037037037, null, 0.7142857142857143, null, null, null, null, null, null, null, 1.0, null, null, 0.6065573770491803, null, 0.8775510204081632, null, null, null, null, 0.6470588235294118, null, null, 1.0, 0.6451612903225806, null, null, null, 0.3333333333333333, null, null, null, null, null, null, 0.6857142857142857, null, 0.5, null, 0.7428571428571429, 1.0, 0.5, null, 0.8181818181818182, 0.6666666666666666, 0.6666666666666666, 0.8974358974358975, 0.0, 0.75, 1.0, 1.0, 0.6, 0.8591549295774648, 0.0], \"yaxis\": \"y\", \"type\": \"scatter\"}], \"name\": \"54\"}, {\"data\": [{\"hoverlabel\": {\"namelength\": 0}, \"hovertemplate\": \"Iteration=55<br>Length=%{x}<br>%Homochirality=%{y}\", \"legendgroup\": \"\", \"marker\": {\"color\": \"#636efa\", \"symbol\": \"circle\"}, \"mode\": \"markers\", \"name\": \"\", \"showlegend\": false, \"x\": [76, 1, 1, 1, 64, 1, 9, 46, 90, 1, 1, 1, 1, 4, 1, 1, 3, 1, 74, 1, 1, 19, 1, 1, 1, 1, 1, 1, 14, 1, 1, 1, 5, 1, 1, 1, 1, 1, 1, 22, 1, 1, 4, 2, 1, 1, 1, 1, 1, 1, 1, 33, 1, 1, 1, 1, 1, 1, 5, 1, 1, 1, 1, 1, 35, 1, 2, 2, 51, 5, 1, 36, 3, 1, 1, 1, 22, 2, 3, 56, 3, 1, 2, 46, 10], \"xaxis\": \"x\", \"y\": [0.8, null, null, null, 0.6031746031746031, null, 0.75, 0.8, 0.7078651685393258, null, null, null, null, 0.6666666666666666, null, null, 1.0, null, 0.863013698630137, null, null, 0.5, null, null, null, null, null, null, 0.6923076923076923, null, null, null, 0.75, null, null, null, null, null, null, 0.5238095238095238, null, null, 0.6666666666666666, 1.0, null, null, null, null, null, null, null, 0.625, null, null, null, null, null, null, 0.5, null, null, null, null, null, 0.6764705882352942, null, 1.0, 0.0, 0.86, 0.75, null, 0.6571428571428571, 0.5, null, null, null, 0.8095238095238095, 0.0, 1.0, 0.7090909090909091, 1.0, null, 0.0, 0.8222222222222222, 0.7777777777777778], \"yaxis\": \"y\", \"type\": \"scatter\"}], \"name\": \"55\"}, {\"data\": [{\"hoverlabel\": {\"namelength\": 0}, \"hovertemplate\": \"Iteration=56<br>Length=%{x}<br>%Homochirality=%{y}\", \"legendgroup\": \"\", \"marker\": {\"color\": \"#636efa\", \"symbol\": \"circle\"}, \"mode\": \"markers\", \"name\": \"\", \"showlegend\": false, \"x\": [1, 3, 32, 1, 37, 1, 1, 1, 6, 1, 1, 19, 1, 1, 1, 1, 1, 1, 1, 1, 20, 1, 1, 1, 1, 1, 1, 1, 1, 1, 1, 1, 21, 49, 1, 3, 1, 18, 3, 13, 1, 1, 1, 11, 1, 1, 60, 1, 1, 1, 1, 1, 1, 2, 1, 1, 1, 2, 1, 42, 1, 1, 2, 1, 1, 1, 1, 1, 2, 107, 1, 2, 10, 36, 2, 2, 69, 2, 46, 1, 1, 4, 33, 2, 65, 20, 2, 1, 9, 3, 4], \"xaxis\": \"x\", \"y\": [null, 0.5, 0.5806451612903226, null, 0.6388888888888888, null, null, null, 0.4, null, null, 0.6666666666666666, null, null, null, null, null, null, null, null, 0.5263157894736842, null, null, null, null, null, null, null, null, null, null, null, 0.65, 0.7916666666666666, null, 1.0, null, 0.6470588235294118, 0.0, 0.9166666666666666, null, null, null, 0.8, null, null, 0.6949152542372882, null, null, null, null, null, null, 0.0, null, null, null, 1.0, null, 0.926829268292683, null, null, 1.0, null, null, null, null, null, 1.0, 0.7924528301886793, null, 0.0, 0.7777777777777778, 0.6571428571428571, 0.0, 0.0, 0.7352941176470589, 0.0, 0.6, null, null, 0.6666666666666666, 0.8125, 0.0, 0.8125, 0.8947368421052632, 1.0, null, 0.625, 1.0, 0.6666666666666666], \"yaxis\": \"y\", \"type\": \"scatter\"}], \"name\": \"56\"}, {\"data\": [{\"hoverlabel\": {\"namelength\": 0}, \"hovertemplate\": \"Iteration=57<br>Length=%{x}<br>%Homochirality=%{y}\", \"legendgroup\": \"\", \"marker\": {\"color\": \"#636efa\", \"symbol\": \"circle\"}, \"mode\": \"markers\", \"name\": \"\", \"showlegend\": false, \"x\": [47, 1, 1, 4, 1, 1, 2, 1, 1, 3, 6, 1, 1, 1, 63, 1, 1, 16, 1, 1, 1, 1, 33, 51, 12, 1, 1, 29, 1, 15, 1, 1, 1, 1, 1, 3, 45, 1, 1, 1, 14, 1, 7, 38, 1, 1, 1, 1, 1, 1, 1, 1, 1, 1, 1, 66, 1, 18, 8, 1, 1, 1, 1, 1, 2, 1, 1, 2, 17, 1, 1, 3, 50, 3, 37, 2, 1, 3, 70, 1, 1, 2, 89, 13, 2], \"xaxis\": \"x\", \"y\": [0.6086956521739131, null, null, 0.6666666666666666, null, null, 1.0, null, null, 0.5, 0.6, null, null, null, 0.7096774193548387, null, null, 0.8, null, null, null, null, 0.5625, 0.76, 0.8181818181818182, null, null, 0.5714285714285714, null, 0.9285714285714286, null, null, null, null, null, 1.0, 0.9090909090909091, null, null, null, 0.7692307692307693, null, 0.3333333333333333, 0.6486486486486487, null, null, null, null, null, null, null, null, null, null, null, 0.8, null, 0.8235294117647058, 0.5714285714285714, null, null, null, null, null, 0.0, null, null, 0.0, 1.0, null, null, 0.0, 0.7755102040816326, 0.5, 0.6666666666666666, 0.0, null, 0.5, 0.7391304347826086, null, null, 0.0, 0.7954545454545454, 0.75, 0.0], \"yaxis\": \"y\", \"type\": \"scatter\"}], \"name\": \"57\"}, {\"data\": [{\"hoverlabel\": {\"namelength\": 0}, \"hovertemplate\": \"Iteration=58<br>Length=%{x}<br>%Homochirality=%{y}\", \"legendgroup\": \"\", \"marker\": {\"color\": \"#636efa\", \"symbol\": \"circle\"}, \"mode\": \"markers\", \"name\": \"\", \"showlegend\": false, \"x\": [1, 17, 38, 1, 35, 1, 1, 1, 7, 1, 14, 17, 51, 1, 1, 1, 1, 2, 1, 1, 9, 65, 1, 1, 1, 1, 3, 1, 1, 1, 4, 1, 19, 1, 34, 1, 1, 43, 1, 1, 1, 1, 1, 3, 1, 7, 1, 1, 1, 17, 1, 1, 1, 1, 6, 1, 1, 1, 1, 1, 1, 95, 1, 3, 1, 39, 1, 1, 1, 1, 1, 1, 49, 1, 10, 1, 1, 12, 2, 9, 8, 3, 71, 1, 90, 3, 2], \"xaxis\": \"x\", \"y\": [null, 0.875, 0.6486486486486487, null, 0.9411764705882353, null, null, null, 0.6666666666666666, null, 0.7692307692307693, 1.0, 0.66, null, null, null, null, 1.0, null, null, 0.625, 0.65625, null, null, null, null, 1.0, null, null, null, 0.0, null, 0.7777777777777778, null, 0.5757575757575758, null, null, 0.7857142857142857, null, null, null, null, null, 0.5, null, 0.5, null, null, null, 0.6875, null, null, null, null, 0.4, null, null, null, null, null, null, 0.7340425531914894, null, 1.0, null, 0.631578947368421, null, null, null, null, null, null, 0.7916666666666666, null, 0.8888888888888888, null, null, 1.0, 1.0, 0.875, 0.7142857142857143, 0.5, 0.7428571428571429, null, 0.7865168539325843, 0.5, 1.0], \"yaxis\": \"y\", \"type\": \"scatter\"}], \"name\": \"58\"}, {\"data\": [{\"hoverlabel\": {\"namelength\": 0}, \"hovertemplate\": \"Iteration=59<br>Length=%{x}<br>%Homochirality=%{y}\", \"legendgroup\": \"\", \"marker\": {\"color\": \"#636efa\", \"symbol\": \"circle\"}, \"mode\": \"markers\", \"name\": \"\", \"showlegend\": false, \"x\": [1, 19, 1, 1, 1, 1, 1, 4, 1, 9, 27, 1, 93, 1, 6, 1, 91, 39, 68, 1, 1, 66, 1, 1, 1, 1, 1, 1, 1, 1, 1, 20, 1, 1, 1, 1, 1, 1, 1, 1, 2, 1, 1, 1, 2, 40, 1, 1, 2, 1, 1, 1, 1, 14, 7, 1, 8, 1, 29, 1, 12, 1, 4, 1, 1, 1, 1, 1, 18, 1, 12, 2, 10, 13, 72, 50, 2, 1, 2, 2, 2, 36, 2, 5, 15], \"xaxis\": \"x\", \"y\": [null, 0.8888888888888888, null, null, null, null, null, 0.6666666666666666, null, 1.0, 0.7307692307692307, null, 0.7391304347826086, null, 0.8, null, 0.7777777777777778, 0.868421052631579, 0.6567164179104478, null, null, 0.6615384615384615, null, null, null, null, null, null, null, null, null, 0.7894736842105263, null, null, null, null, null, null, null, null, 1.0, null, null, null, 1.0, 0.6666666666666666, null, null, 1.0, null, null, null, null, 0.5384615384615384, 0.3333333333333333, null, 0.42857142857142855, null, 0.6428571428571429, null, 0.9090909090909091, null, 0.3333333333333333, null, null, null, null, null, 1.0, null, 0.45454545454545453, 1.0, 0.5555555555555556, 0.8333333333333334, 0.7464788732394366, 0.7755102040816326, 1.0, null, 0.0, 1.0, 1.0, 0.8857142857142857, 1.0, 0.25, 0.7857142857142857], \"yaxis\": \"y\", \"type\": \"scatter\"}], \"name\": \"59\"}, {\"data\": [{\"hoverlabel\": {\"namelength\": 0}, \"hovertemplate\": \"Iteration=60<br>Length=%{x}<br>%Homochirality=%{y}\", \"legendgroup\": \"\", \"marker\": {\"color\": \"#636efa\", \"symbol\": \"circle\"}, \"mode\": \"markers\", \"name\": \"\", \"showlegend\": false, \"x\": [1, 1, 3, 1, 74, 1, 9, 1, 1, 23, 1, 59, 1, 1, 1, 4, 1, 1, 1, 1, 1, 1, 1, 159, 29, 1, 1, 16, 1, 1, 1, 118, 1, 1, 1, 3, 1, 1, 19, 1, 1, 16, 1, 1, 1, 93, 1, 38, 1, 5, 1, 1, 3, 1, 1, 1, 1, 1, 6, 1, 1, 1, 1, 14, 1, 5, 1, 1, 1, 1, 1, 2, 12, 1, 1, 1, 1, 8, 2, 7, 16, 8, 4, 1, 9, 2, 2, 11, 17, 3, 7, 1, 6], \"xaxis\": \"x\", \"y\": [null, null, 0.5, null, 0.7534246575342466, null, 1.0, null, null, 0.8636363636363636, null, 0.7413793103448276, null, null, null, 0.6666666666666666, null, null, null, null, null, null, null, 0.7025316455696202, 0.9642857142857143, null, null, 0.6, null, null, null, 0.7094017094017094, null, null, null, 1.0, null, null, 0.8333333333333334, null, null, 0.9333333333333333, null, null, null, 0.7717391304347826, null, 0.8918918918918919, null, 0.75, null, null, 1.0, null, null, null, null, null, 0.6, null, null, null, null, 0.8461538461538461, null, 0.25, null, null, null, null, null, 1.0, 0.7272727272727273, null, null, null, null, 0.7142857142857143, 1.0, 0.6666666666666666, 0.8, 0.5714285714285714, 0.3333333333333333, null, 0.375, 0.0, 1.0, 0.9, 0.625, 1.0, 0.5, null, 0.4], \"yaxis\": \"y\", \"type\": \"scatter\"}], \"name\": \"60\"}, {\"data\": [{\"hoverlabel\": {\"namelength\": 0}, \"hovertemplate\": \"Iteration=61<br>Length=%{x}<br>%Homochirality=%{y}\", \"legendgroup\": \"\", \"marker\": {\"color\": \"#636efa\", \"symbol\": \"circle\"}, \"mode\": \"markers\", \"name\": \"\", \"showlegend\": false, \"x\": [1, 1, 1, 27, 1, 1, 5, 1, 1, 1, 23, 1, 1, 1, 10, 1, 21, 1, 1, 1, 1, 1, 1, 3, 1, 1, 1, 1, 13, 2, 1, 1, 1, 1, 1, 40, 1, 1, 1, 1, 4, 1, 16, 9, 9, 1, 2, 1, 1, 134, 9, 1, 1, 141, 1, 39, 1, 7, 1, 1, 1, 1, 2, 1, 9, 1, 14, 1, 1, 1, 96, 9, 1, 6, 11, 6, 4, 2, 8, 19, 2, 27, 18, 75, 2, 3], \"xaxis\": \"x\", \"y\": [null, null, null, 0.8076923076923077, null, null, 0.5, null, null, null, 0.7727272727272727, null, null, null, 0.3333333333333333, null, 0.8, null, null, null, null, null, null, 0.5, null, null, null, null, 0.75, 1.0, null, null, null, null, null, 0.7948717948717948, null, null, null, null, 0.6666666666666666, null, 0.8, 1.0, 0.625, null, 1.0, null, null, 0.7293233082706767, 0.75, null, null, 0.7214285714285714, null, 0.868421052631579, null, 0.5, null, null, null, null, 0.0, null, 0.5, null, 0.9230769230769231, null, null, null, 0.7789473684210526, 0.875, null, 0.2, 0.7, 0.8, 0.3333333333333333, 1.0, 0.5714285714285714, 0.6666666666666666, 1.0, 1.0, 0.5882352941176471, 0.7567567567567568, 1.0, 0.5], \"yaxis\": \"y\", \"type\": \"scatter\"}], \"name\": \"61\"}, {\"data\": [{\"hoverlabel\": {\"namelength\": 0}, \"hovertemplate\": \"Iteration=62<br>Length=%{x}<br>%Homochirality=%{y}\", \"legendgroup\": \"\", \"marker\": {\"color\": \"#636efa\", \"symbol\": \"circle\"}, \"mode\": \"markers\", \"name\": \"\", \"showlegend\": false, \"x\": [1, 1, 30, 1, 3, 1, 15, 1, 1, 4, 1, 27, 1, 19, 1, 3, 1, 9, 1, 1, 1, 7, 1, 1, 1, 1, 1, 1, 28, 18, 3, 1, 1, 11, 1, 1, 1, 6, 8, 83, 2, 105, 1, 1, 1, 1, 1, 2, 1, 1, 1, 1, 21, 2, 1, 1, 1, 1, 1, 2, 1, 1, 1, 39, 1, 14, 2, 2, 10, 57, 5, 7, 51, 41, 2, 142, 14, 3, 4, 1, 19, 2, 2, 2, 1, 20], \"xaxis\": \"x\", \"y\": [null, null, 0.7241379310344828, null, 0.5, null, 0.9285714285714286, null, null, 0.6666666666666666, null, 1.0, null, 0.3888888888888889, null, 0.5, null, 0.875, null, null, null, 0.16666666666666666, null, null, null, null, null, null, 0.8148148148148148, 0.7647058823529411, 0.5, null, null, 0.8, null, null, null, 0.6, 0.5714285714285714, 0.6829268292682927, 1.0, 0.7884615384615384, null, null, null, null, null, 1.0, null, null, null, null, 0.7, 1.0, null, null, null, null, null, 1.0, null, null, null, 0.868421052631579, null, 0.7692307692307693, 0.0, 1.0, 0.7777777777777778, 0.7678571428571429, 1.0, 0.6666666666666666, 0.82, 0.8, 0.0, 0.723404255319149, 0.8461538461538461, 1.0, 0.6666666666666666, null, 0.6111111111111112, 1.0, 0.0, 1.0, null, 0.631578947368421], \"yaxis\": \"y\", \"type\": \"scatter\"}], \"name\": \"62\"}, {\"data\": [{\"hoverlabel\": {\"namelength\": 0}, \"hovertemplate\": \"Iteration=63<br>Length=%{x}<br>%Homochirality=%{y}\", \"legendgroup\": \"\", \"marker\": {\"color\": \"#636efa\", \"symbol\": \"circle\"}, \"mode\": \"markers\", \"name\": \"\", \"showlegend\": false, \"x\": [35, 1, 2, 1, 1, 1, 3, 1, 10, 1, 85, 1, 1, 1, 1, 1, 1, 4, 1, 7, 1, 1, 1, 16, 1, 8, 1, 1, 27, 1, 12, 1, 1, 1, 1, 31, 47, 2, 125, 7, 1, 2, 1, 1, 1, 1, 1, 1, 1, 7, 1, 1, 1, 6, 1, 36, 1, 1, 71, 1, 37, 13, 1, 1, 41, 1, 5, 1, 2, 9, 52, 42, 6, 4, 95, 2, 1, 1, 2, 4, 2], \"xaxis\": \"x\", \"y\": [0.7058823529411765, null, 1.0, null, null, null, 1.0, null, 0.5555555555555556, null, 0.6666666666666666, null, null, null, null, null, null, 0.6666666666666666, null, 0.5, null, null, null, 0.8666666666666667, null, 0.5714285714285714, null, null, 1.0, null, 0.8181818181818182, null, null, null, null, 0.7333333333333333, 0.6739130434782609, 1.0, 0.7661290322580645, 1.0, null, 1.0, null, null, null, null, null, null, null, 0.6666666666666666, null, null, null, 0.6, null, 0.7714285714285715, null, null, 0.7714285714285715, null, 0.5833333333333334, 0.75, null, null, 0.85, null, 0.25, null, 0.0, 0.75, 0.8235294117647058, 0.7804878048780488, 0.8, 0.3333333333333333, 0.7553191489361702, 1.0, null, null, 1.0, 0.3333333333333333, 0.0], \"yaxis\": \"y\", \"type\": \"scatter\"}], \"name\": \"63\"}, {\"data\": [{\"hoverlabel\": {\"namelength\": 0}, \"hovertemplate\": \"Iteration=64<br>Length=%{x}<br>%Homochirality=%{y}\", \"legendgroup\": \"\", \"marker\": {\"color\": \"#636efa\", \"symbol\": \"circle\"}, \"mode\": \"markers\", \"name\": \"\", \"showlegend\": false, \"x\": [1, 1, 1, 1, 3, 7, 1, 45, 1, 1, 1, 4, 12, 1, 17, 1, 64, 1, 1, 1, 1, 11, 1, 1, 3, 1, 1, 11, 71, 1, 1, 49, 1, 1, 1, 13, 1, 1, 1, 1, 1, 23, 1, 1, 39, 1, 1, 1, 1, 5, 1, 1, 1, 1, 1, 1, 1, 1, 1, 7, 1, 1, 6, 4, 8, 1, 1, 1, 3, 6, 8, 91, 126, 5, 1, 21, 3, 2, 1, 20, 28, 2, 1, 1, 53, 19, 3, 5, 2, 72], \"xaxis\": \"x\", \"y\": [null, null, null, null, 0.5, 0.8333333333333334, null, 0.8181818181818182, null, null, null, 0.0, 0.7272727272727273, null, 0.875, null, 0.6507936507936508, null, null, null, null, 0.6, null, null, 0.5, null, null, 0.6, 0.7285714285714285, null, null, 0.6666666666666666, null, null, null, 0.75, null, null, null, null, null, 0.8636363636363636, null, null, 0.6052631578947368, null, null, null, null, 0.75, null, null, null, null, null, null, null, null, null, 1.0, null, null, 0.2, 0.6666666666666666, 0.5714285714285714, null, null, null, 1.0, 0.8, 0.5714285714285714, 0.7888888888888889, 0.76, 1.0, null, 0.75, 0.5, 0.0, null, 0.8421052631578947, 0.9629629629629629, 0.0, null, null, 0.8076923076923077, 0.7222222222222222, 1.0, 0.5, 0.0, 0.7746478873239436], \"yaxis\": \"y\", \"type\": \"scatter\"}], \"name\": \"64\"}, {\"data\": [{\"hoverlabel\": {\"namelength\": 0}, \"hovertemplate\": \"Iteration=65<br>Length=%{x}<br>%Homochirality=%{y}\", \"legendgroup\": \"\", \"marker\": {\"color\": \"#636efa\", \"symbol\": \"circle\"}, \"mode\": \"markers\", \"name\": \"\", \"showlegend\": false, \"x\": [21, 5, 1, 1, 6, 8, 48, 1, 1, 1, 96, 1, 13, 1, 9, 5, 1, 1, 3, 8, 1, 1, 124, 1, 1, 1, 57, 1, 7, 4, 14, 1, 1, 1, 60, 1, 1, 1, 1, 1, 1, 1, 1, 1, 91, 1, 1, 15, 5, 8, 3, 1, 1, 51, 1, 1, 1, 1, 1, 1, 1, 1, 1, 1, 1, 1, 1, 1, 1, 1, 107, 1, 1, 12, 3, 3, 3, 8, 3, 1, 1, 27, 1, 2, 7, 2, 2, 15, 2, 1, 2, 19, 2], \"xaxis\": \"x\", \"y\": [0.8, 0.75, null, null, 0.6, 0.7142857142857143, 0.7872340425531915, null, null, null, 0.8, null, 0.5833333333333334, null, 0.75, 1.0, null, null, 1.0, 1.0, null, null, 0.7560975609756098, null, null, null, 0.6428571428571429, null, 0.3333333333333333, 1.0, 0.6153846153846154, null, null, null, 0.6610169491525424, null, null, null, null, null, null, null, null, null, 0.7666666666666667, null, null, 0.9285714285714286, 0.5, 0.7142857142857143, 1.0, null, null, 0.66, null, null, null, null, null, null, null, null, null, null, null, null, null, null, null, null, 0.7830188679245284, null, null, 0.6363636363636364, 0.5, 0.5, 1.0, 0.7142857142857143, 0.0, null, null, 1.0, null, 0.0, 0.8333333333333334, 1.0, 1.0, 1.0, 1.0, null, 1.0, 0.6666666666666666, 1.0], \"yaxis\": \"y\", \"type\": \"scatter\"}], \"name\": \"65\"}, {\"data\": [{\"hoverlabel\": {\"namelength\": 0}, \"hovertemplate\": \"Iteration=66<br>Length=%{x}<br>%Homochirality=%{y}\", \"legendgroup\": \"\", \"marker\": {\"color\": \"#636efa\", \"symbol\": \"circle\"}, \"mode\": \"markers\", \"name\": \"\", \"showlegend\": false, \"x\": [1, 1, 2, 1, 34, 12, 7, 2, 1, 1, 1, 1, 1, 4, 1, 1, 1, 1, 52, 11, 1, 1, 1, 48, 1, 3, 5, 2, 1, 1, 1, 1, 1, 1, 1, 1, 1, 1, 15, 1, 1, 1, 1, 10, 1, 1, 14, 1, 1, 119, 1, 3, 17, 97, 1, 1, 1, 1, 23, 1, 45, 2, 1, 29, 30, 1, 1, 1, 10, 15, 1, 1, 1, 2, 1, 4, 1, 3, 3, 1, 26, 36, 7, 1, 11, 43, 4, 5, 7, 1, 2, 1, 6, 4, 12, 2, 95, 2, 2], \"xaxis\": \"x\", \"y\": [null, null, 1.0, null, 0.6666666666666666, 0.36363636363636365, 0.8333333333333334, 1.0, null, null, null, null, null, 1.0, null, null, null, null, 0.6470588235294118, 0.6, null, null, null, 0.7659574468085106, null, 1.0, 1.0, 0.0, null, null, null, null, null, null, null, null, null, null, 0.6428571428571429, null, null, null, null, 0.8888888888888888, null, null, 0.5384615384615384, null, null, 0.7711864406779662, null, 1.0, 0.875, 0.8020833333333334, null, null, null, null, 0.7272727272727273, null, 0.6136363636363636, 1.0, null, 0.7857142857142857, 0.9655172413793104, null, null, null, 0.7777777777777778, 1.0, null, null, null, 1.0, null, 0.3333333333333333, null, 1.0, 1.0, null, 0.68, 0.9428571428571428, 0.8333333333333334, null, 1.0, 0.7857142857142857, 1.0, 0.5, 0.8333333333333334, null, 0.0, null, 0.8, 0.6666666666666666, 0.8181818181818182, 1.0, 0.7553191489361702, 1.0, 0.0], \"yaxis\": \"y\", \"type\": \"scatter\"}], \"name\": \"66\"}, {\"data\": [{\"hoverlabel\": {\"namelength\": 0}, \"hovertemplate\": \"Iteration=67<br>Length=%{x}<br>%Homochirality=%{y}\", \"legendgroup\": \"\", \"marker\": {\"color\": \"#636efa\", \"symbol\": \"circle\"}, \"mode\": \"markers\", \"name\": \"\", \"showlegend\": false, \"x\": [99, 1, 1, 3, 22, 1, 1, 1, 27, 4, 4, 14, 1, 15, 3, 3, 2, 7, 5, 1, 1, 1, 1, 1, 1, 1, 96, 2, 1, 10, 1, 1, 13, 1, 1, 53, 1, 1, 28, 1, 1, 16, 7, 1, 33, 1, 1, 1, 2, 1, 149, 1, 6, 15, 12, 46, 1, 1, 1, 1, 1, 15, 1, 1, 1, 1, 3, 1, 23, 13, 2, 2, 4, 3, 5, 1, 1, 8, 19, 5, 18, 15, 2, 1, 19, 3, 45], \"xaxis\": \"x\", \"y\": [0.8061224489795918, null, null, 1.0, 0.5714285714285714, null, null, null, 0.6923076923076923, 1.0, 1.0, 0.8461538461538461, null, 0.5, 0.5, 1.0, 1.0, 1.0, 1.0, null, null, null, null, null, null, null, 0.7473684210526316, 1.0, null, 0.6666666666666666, null, null, 0.5833333333333334, null, null, 0.6538461538461539, null, null, 0.7777777777777778, null, null, 0.6, 1.0, null, 0.6875, null, null, null, 1.0, null, 0.8108108108108109, null, 1.0, 0.5714285714285714, 1.0, 0.8888888888888888, null, null, null, null, null, 1.0, null, null, null, null, 1.0, null, 0.6818181818181818, 0.3333333333333333, 1.0, 1.0, 1.0, 0.5, 0.75, null, null, 0.7142857142857143, 0.8888888888888888, 0.25, 0.8235294117647058, 0.8571428571428571, 0.0, null, 0.7777777777777778, 0.0, 0.7727272727272727], \"yaxis\": \"y\", \"type\": \"scatter\"}], \"name\": \"67\"}, {\"data\": [{\"hoverlabel\": {\"namelength\": 0}, \"hovertemplate\": \"Iteration=68<br>Length=%{x}<br>%Homochirality=%{y}\", \"legendgroup\": \"\", \"marker\": {\"color\": \"#636efa\", \"symbol\": \"circle\"}, \"mode\": \"markers\", \"name\": \"\", \"showlegend\": false, \"x\": [1, 2, 17, 1, 1, 29, 1, 1, 1, 1, 1, 1, 6, 1, 36, 19, 4, 1, 1, 14, 1, 1, 152, 1, 10, 1, 7, 1, 4, 8, 1, 1, 12, 6, 1, 1, 1, 4, 1, 1, 1, 2, 4, 38, 1, 1, 36, 1, 1, 25, 68, 1, 15, 1, 1, 17, 1, 1, 1, 30, 10, 1, 16, 1, 1, 103, 1, 1, 100, 1, 1, 6, 1, 2, 1, 4, 2, 2, 34, 1, 2, 5, 8, 2, 33, 5, 10], \"xaxis\": \"x\", \"y\": [null, 1.0, 1.0, null, null, 0.6785714285714286, null, null, null, null, null, null, 1.0, null, 0.6857142857142857, 0.8333333333333334, 0.3333333333333333, null, null, 0.3076923076923077, null, null, 0.8145695364238411, null, 0.6666666666666666, null, 0.8333333333333334, null, 0.6666666666666666, 0.8571428571428571, null, null, 0.9090909090909091, 0.8, null, null, null, 0.6666666666666666, null, null, null, 1.0, 1.0, 0.8108108108108109, null, null, 0.7714285714285715, null, null, 0.875, 0.7910447761194029, null, 1.0, null, null, 0.625, null, null, null, 0.7586206896551724, 1.0, null, 0.6, null, null, 0.8137254901960784, null, null, 0.7575757575757576, null, null, 0.2, null, 1.0, null, 1.0, 1.0, 0.0, 0.5757575757575758, null, 0.0, 0.25, 0.42857142857142855, 0.0, 0.75, 0.75, 0.8888888888888888], \"yaxis\": \"y\", \"type\": \"scatter\"}], \"name\": \"68\"}, {\"data\": [{\"hoverlabel\": {\"namelength\": 0}, \"hovertemplate\": \"Iteration=69<br>Length=%{x}<br>%Homochirality=%{y}\", \"legendgroup\": \"\", \"marker\": {\"color\": \"#636efa\", \"symbol\": \"circle\"}, \"mode\": \"markers\", \"name\": \"\", \"showlegend\": false, \"x\": [1, 12, 3, 13, 2, 1, 1, 1, 1, 44, 1, 17, 55, 1, 1, 4, 1, 9, 1, 1, 9, 1, 8, 1, 34, 5, 1, 1, 1, 1, 1, 1, 1, 1, 1, 1, 1, 154, 1, 1, 1, 1, 21, 1, 1, 1, 2, 1, 4, 1, 1, 1, 27, 1, 1, 7, 1, 136, 1, 1, 1, 1, 1, 107, 6, 30, 9, 1, 10, 26, 1, 1, 17, 1, 1, 1, 2, 2, 24, 37, 12, 3, 1, 30, 5, 4, 1, 2, 9, 5, 2, 8], \"xaxis\": \"x\", \"y\": [null, 0.8181818181818182, 1.0, 0.8333333333333334, 1.0, null, null, null, null, 0.9069767441860465, null, 0.9375, 0.7592592592592593, null, null, 0.6666666666666666, null, 0.75, null, null, 1.0, null, 0.7142857142857143, null, 0.7575757575757576, 0.75, null, null, null, null, null, null, null, null, null, null, null, 0.8104575163398693, null, null, null, null, 0.75, null, null, null, 1.0, null, 0.3333333333333333, null, null, null, 0.8461538461538461, null, null, 0.8333333333333334, null, 0.7333333333333333, null, null, null, null, null, 0.8113207547169812, 1.0, 0.7586206896551724, 0.375, null, 1.0, 0.6, null, null, 1.0, null, null, null, 1.0, 0.0, 0.6086956521739131, 0.75, 0.6363636363636364, 1.0, null, 0.6551724137931034, 0.75, 0.0, null, 0.0, 0.5, 0.25, 1.0, 0.5714285714285714], \"yaxis\": \"y\", \"type\": \"scatter\"}], \"name\": \"69\"}, {\"data\": [{\"hoverlabel\": {\"namelength\": 0}, \"hovertemplate\": \"Iteration=70<br>Length=%{x}<br>%Homochirality=%{y}\", \"legendgroup\": \"\", \"marker\": {\"color\": \"#636efa\", \"symbol\": \"circle\"}, \"mode\": \"markers\", \"name\": \"\", \"showlegend\": false, \"x\": [1, 1, 1, 1, 1, 1, 17, 26, 11, 1, 47, 56, 1, 37, 4, 1, 1, 1, 1, 139, 1, 1, 1, 1, 1, 31, 3, 1, 38, 8, 1, 1, 1, 1, 1, 1, 1, 8, 1, 1, 78, 1, 1, 1, 1, 1, 1, 1, 1, 1, 35, 1, 1, 12, 159, 1, 6, 21, 1, 1, 2, 5, 11, 10, 2, 18, 3, 22, 45, 1, 1, 2, 2, 26, 29, 5, 3, 1, 10], \"xaxis\": \"x\", \"y\": [null, null, null, null, null, null, 0.75, 0.76, 1.0, null, 0.8260869565217391, 0.7454545454545455, null, 0.6666666666666666, 0.6666666666666666, null, null, null, null, 0.7318840579710145, null, null, null, null, null, 0.6666666666666666, 0.5, null, 0.6216216216216216, 0.5714285714285714, null, null, null, null, null, null, null, 0.2857142857142857, null, null, 0.8571428571428571, null, null, null, null, null, null, null, null, null, 0.8235294117647058, null, null, 0.8181818181818182, 0.8037974683544303, null, 1.0, 0.6, null, null, 1.0, 0.5, 0.8, 0.4444444444444444, 1.0, 1.0, 0.0, 0.7142857142857143, 0.9090909090909091, null, null, 1.0, 0.0, 0.92, 0.7142857142857143, 0.0, 1.0, null, 0.7777777777777778], \"yaxis\": \"y\", \"type\": \"scatter\"}], \"name\": \"70\"}, {\"data\": [{\"hoverlabel\": {\"namelength\": 0}, \"hovertemplate\": \"Iteration=71<br>Length=%{x}<br>%Homochirality=%{y}\", \"legendgroup\": \"\", \"marker\": {\"color\": \"#636efa\", \"symbol\": \"circle\"}, \"mode\": \"markers\", \"name\": \"\", \"showlegend\": false, \"x\": [18, 1, 1, 1, 1, 1, 1, 1, 1, 4, 1, 21, 1, 2, 1, 1, 86, 1, 19, 1, 1, 31, 6, 1, 6, 1, 49, 41, 1, 1, 1, 1, 7, 1, 1, 1, 66, 7, 22, 1, 1, 14, 20, 1, 1, 1, 1, 1, 1, 1, 1, 1, 1, 1, 1, 1, 1, 1, 3, 3, 21, 1, 147, 1, 1, 1, 1, 1, 10, 1, 1, 1, 19, 1, 2, 2, 10, 27, 2, 73, 6, 19, 13, 2, 3, 2, 39, 7, 79, 37], \"xaxis\": \"x\", \"y\": [0.7647058823529411, null, null, null, null, null, null, null, null, 0.3333333333333333, null, 0.75, null, 1.0, null, null, 0.8470588235294118, null, 1.0, null, null, 0.7, 1.0, null, 0.6, null, 0.8125, 0.75, null, null, null, null, 0.16666666666666666, null, null, null, 0.8, 0.8333333333333334, 0.7619047619047619, null, null, 0.8461538461538461, 0.7894736842105263, null, null, null, null, null, null, null, null, null, null, null, null, null, null, null, 1.0, 1.0, 0.65, null, 0.7054794520547946, null, null, null, null, null, 0.5555555555555556, null, null, null, 0.8888888888888888, null, 1.0, 1.0, 0.5555555555555556, 0.7692307692307693, 1.0, 0.7638888888888888, 0.6, 1.0, 1.0, 0.0, 1.0, 0.0, 0.6052631578947368, 0.8333333333333334, 0.8589743589743589, 0.6944444444444444], \"yaxis\": \"y\", \"type\": \"scatter\"}], \"name\": \"71\"}, {\"data\": [{\"hoverlabel\": {\"namelength\": 0}, \"hovertemplate\": \"Iteration=72<br>Length=%{x}<br>%Homochirality=%{y}\", \"legendgroup\": \"\", \"marker\": {\"color\": \"#636efa\", \"symbol\": \"circle\"}, \"mode\": \"markers\", \"name\": \"\", \"showlegend\": false, \"x\": [1, 8, 34, 1, 1, 1, 124, 7, 3, 1, 1, 1, 1, 1, 19, 3, 3, 1, 11, 1, 1, 1, 1, 1, 13, 1, 1, 1, 1, 2, 1, 1, 28, 1, 11, 2, 1, 1, 1, 1, 2, 5, 1, 1, 1, 59, 1, 67, 1, 1, 1, 41, 1, 1, 1, 26, 1, 1, 2, 2, 1, 5, 1, 1, 15, 46, 1, 19, 23, 4, 2, 2, 84, 22, 11, 2, 20, 2, 20, 1, 2, 7, 12, 1, 1, 42, 15, 4, 58, 38, 1, 33], \"xaxis\": \"x\", \"y\": [null, 0.7142857142857143, 0.7272727272727273, null, null, null, 0.7398373983739838, 0.6666666666666666, 1.0, null, null, null, null, null, 1.0, 1.0, 1.0, null, 0.6, null, null, null, null, null, 1.0, null, null, null, null, 1.0, null, null, 0.7777777777777778, null, 0.7, 1.0, null, null, null, null, 1.0, 1.0, null, null, null, 0.7586206896551724, null, 0.7878787878787878, null, null, null, 0.65, null, null, null, 0.68, null, null, 1.0, 1.0, null, 0.75, null, null, 0.6428571428571429, 0.8222222222222222, null, 0.7777777777777778, 0.5454545454545454, 1.0, 0.0, 0.0, 0.8554216867469879, 0.6666666666666666, 0.9, 1.0, 0.9473684210526315, 1.0, 0.7894736842105263, null, 0.0, 0.5, 0.9090909090909091, null, null, 0.7317073170731707, 0.8571428571428571, 1.0, 0.8070175438596491, 0.6216216216216216, null, 0.9375], \"yaxis\": \"y\", \"type\": \"scatter\"}], \"name\": \"72\"}, {\"data\": [{\"hoverlabel\": {\"namelength\": 0}, \"hovertemplate\": \"Iteration=73<br>Length=%{x}<br>%Homochirality=%{y}\", \"legendgroup\": \"\", \"marker\": {\"color\": \"#636efa\", \"symbol\": \"circle\"}, \"mode\": \"markers\", \"name\": \"\", \"showlegend\": false, \"x\": [86, 1, 1, 20, 1, 1, 7, 49, 9, 1, 59, 39, 6, 1, 1, 1, 1, 1, 1, 1, 1, 12, 41, 1, 92, 1, 1, 1, 31, 3, 1, 1, 1, 26, 47, 1, 1, 3, 4, 1, 3, 1, 15, 1, 1, 3, 54, 3, 1, 1, 1, 4, 1, 4, 19, 1, 1, 1, 1, 1, 8, 3, 1, 1, 1, 13, 19, 14, 6, 118, 14, 2, 25, 2, 1, 1, 11, 1, 12, 68, 4, 1, 1, 9, 2, 2], \"xaxis\": \"x\", \"y\": [0.8588235294117647, null, null, 0.7894736842105263, null, null, 0.6666666666666666, 0.7291666666666666, 0.75, null, 0.7931034482758621, 0.8421052631578947, 0.8, null, null, null, null, null, null, null, null, 0.9090909090909091, 0.65, null, 0.8131868131868132, null, null, null, 0.7, 0.5, null, null, null, 0.84, 0.8260869565217391, null, null, 1.0, 0.6666666666666666, null, 1.0, null, 0.7857142857142857, null, null, 0.5, 0.7169811320754716, 1.0, null, null, null, 1.0, null, 0.3333333333333333, 0.6111111111111112, null, null, null, null, null, 0.42857142857142855, 1.0, null, null, null, 0.8333333333333334, 1.0, 0.6923076923076923, 1.0, 0.7435897435897436, 0.5384615384615384, 0.0, 0.8333333333333334, 0.0, null, null, 1.0, null, 0.6363636363636364, 0.7910447761194029, 0.3333333333333333, null, null, 0.5, 0.0, 0.0], \"yaxis\": \"y\", \"type\": \"scatter\"}], \"name\": \"73\"}, {\"data\": [{\"hoverlabel\": {\"namelength\": 0}, \"hovertemplate\": \"Iteration=74<br>Length=%{x}<br>%Homochirality=%{y}\", \"legendgroup\": \"\", \"marker\": {\"color\": \"#636efa\", \"symbol\": \"circle\"}, \"mode\": \"markers\", \"name\": \"\", \"showlegend\": false, \"x\": [1, 1, 1, 1, 60, 1, 53, 1, 1, 27, 1, 1, 1, 1, 7, 1, 1, 1, 7, 1, 1, 1, 30, 3, 1, 2, 1, 1, 68, 1, 1, 1, 1, 116, 1, 16, 1, 1, 1, 1, 1, 1, 1, 1, 3, 44, 1, 1, 33, 1, 1, 3, 24, 2, 19, 49, 1, 1, 1, 1, 6, 1, 18, 25, 1, 3, 14, 21, 2, 6, 55, 91, 1, 15, 1, 8, 1, 18, 2, 2, 2, 10, 5, 1, 1, 4, 4, 65, 2, 33, 3], \"xaxis\": \"x\", \"y\": [null, null, null, null, 0.7796610169491526, null, 0.8269230769230769, null, null, 0.5769230769230769, null, null, null, null, 0.8333333333333334, null, null, null, 0.8333333333333334, null, null, null, 0.7931034482758621, 1.0, null, 1.0, null, null, 0.8805970149253731, null, null, null, null, 0.7565217391304347, null, 0.6666666666666666, null, null, null, null, null, null, null, null, 0.5, 0.6744186046511628, null, null, 0.65625, null, null, 0.5, 0.782608695652174, 1.0, 1.0, 0.7916666666666666, null, null, null, null, 0.8, null, 0.7647058823529411, 0.8333333333333334, null, 1.0, 0.8461538461538461, 0.75, 0.0, 0.6, 0.7222222222222222, 0.8222222222222222, null, 0.5714285714285714, null, 0.8571428571428571, null, 0.8235294117647058, 1.0, 1.0, 0.0, 0.5555555555555556, 0.5, null, null, 1.0, 0.6666666666666666, 0.8125, 0.0, 0.875, 1.0], \"yaxis\": \"y\", \"type\": \"scatter\"}], \"name\": \"74\"}, {\"data\": [{\"hoverlabel\": {\"namelength\": 0}, \"hovertemplate\": \"Iteration=75<br>Length=%{x}<br>%Homochirality=%{y}\", \"legendgroup\": \"\", \"marker\": {\"color\": \"#636efa\", \"symbol\": \"circle\"}, \"mode\": \"markers\", \"name\": \"\", \"showlegend\": false, \"x\": [1, 1, 45, 1, 1, 54, 19, 1, 2, 11, 1, 1, 1, 1, 1, 1, 1, 3, 56, 1, 4, 1, 17, 1, 1, 19, 1, 35, 1, 4, 1, 36, 1, 3, 1, 1, 1, 1, 14, 22, 1, 1, 41, 1, 30, 1, 1, 1, 2, 17, 1, 1, 63, 1, 1, 1, 2, 82, 1, 2, 1, 9, 1, 1, 5, 1, 1, 1, 1, 1, 12, 71, 28, 32, 4, 2, 1, 1, 10, 22, 16, 1, 1, 8, 50, 35, 8, 1, 1, 23, 9, 19, 41], \"xaxis\": \"x\", \"y\": [null, null, 0.7272727272727273, null, null, 0.8301886792452831, 1.0, null, 1.0, 0.5, null, null, null, null, null, null, null, 1.0, 0.7272727272727273, null, 0.3333333333333333, null, 0.875, null, null, 0.7777777777777778, null, 0.6470588235294118, null, 1.0, null, 0.7428571428571429, null, 0.5, null, null, null, null, 0.8461538461538461, 0.7619047619047619, null, null, 0.95, null, 0.6896551724137931, null, null, null, 1.0, 0.6875, null, null, 0.7741935483870968, null, null, null, 1.0, 0.8765432098765432, null, 1.0, null, 0.75, null, null, 0.75, null, null, null, null, null, 0.6363636363636364, 0.7857142857142857, 0.5555555555555556, 0.7741935483870968, 1.0, 1.0, null, null, 0.7777777777777778, 0.6190476190476191, 0.6, null, null, 0.7142857142857143, 0.7346938775510204, 0.9411764705882353, 0.8571428571428571, null, null, 0.8636363636363636, 0.75, 0.7777777777777778, 0.9], \"yaxis\": \"y\", \"type\": \"scatter\"}], \"name\": \"75\"}, {\"data\": [{\"hoverlabel\": {\"namelength\": 0}, \"hovertemplate\": \"Iteration=76<br>Length=%{x}<br>%Homochirality=%{y}\", \"legendgroup\": \"\", \"marker\": {\"color\": \"#636efa\", \"symbol\": \"circle\"}, \"mode\": \"markers\", \"name\": \"\", \"showlegend\": false, \"x\": [20, 1, 1, 1, 9, 1, 42, 1, 1, 73, 1, 80, 10, 1, 1, 1, 51, 1, 4, 15, 1, 5, 1, 1, 1, 1, 1, 1, 1, 3, 1, 29, 1, 1, 6, 1, 1, 5, 1, 8, 62, 1, 1, 1, 50, 1, 19, 1, 42, 1, 1, 1, 1, 1, 1, 34, 1, 1, 29, 1, 15, 104, 1, 19, 33, 20, 6, 1, 1, 1, 8, 1, 13, 1, 24, 10, 6, 21, 17, 2, 1, 2, 6, 7, 1, 4, 1, 2, 2, 2, 62, 14, 1], \"xaxis\": \"x\", \"y\": [0.631578947368421, null, null, null, 0.875, null, 0.6829268292682927, null, null, 0.7916666666666666, null, 0.6835443037974683, 0.8888888888888888, null, null, null, 0.74, null, 1.0, 0.7142857142857143, null, 0.5, null, null, null, null, null, null, null, 1.0, null, 0.5714285714285714, null, null, 0.6, null, null, 0.5, null, 0.8571428571428571, 0.819672131147541, null, null, null, 0.7755102040816326, null, 1.0, null, 0.9024390243902439, null, null, null, null, null, null, 0.7575757575757576, null, null, 0.75, null, 0.7142857142857143, 0.8446601941747572, null, 0.8333333333333334, 1.0, 0.8947368421052632, 1.0, null, null, null, 1.0, null, 0.9166666666666666, null, 0.8260869565217391, 0.7777777777777778, 0.2, 0.8, 0.6875, 0.0, null, 0.0, 0.4, 0.8333333333333334, null, 1.0, null, 0.0, 1.0, 0.0, 0.8852459016393442, 0.6923076923076923, null], \"yaxis\": \"y\", \"type\": \"scatter\"}], \"name\": \"76\"}, {\"data\": [{\"hoverlabel\": {\"namelength\": 0}, \"hovertemplate\": \"Iteration=77<br>Length=%{x}<br>%Homochirality=%{y}\", \"legendgroup\": \"\", \"marker\": {\"color\": \"#636efa\", \"symbol\": \"circle\"}, \"mode\": \"markers\", \"name\": \"\", \"showlegend\": false, \"x\": [1, 1, 70, 1, 7, 1, 109, 1, 1, 1, 1, 1, 3, 4, 1, 1, 1, 40, 31, 1, 1, 1, 1, 44, 1, 90, 1, 1, 24, 9, 1, 12, 1, 1, 1, 1, 1, 1, 1, 64, 19, 6, 21, 31, 1, 1, 26, 1, 1, 6, 3, 1, 1, 92, 1, 1, 1, 3, 3, 1, 1, 1, 6, 2, 14, 5, 1, 1, 21, 10, 2, 3, 10, 18, 8, 9, 2, 20, 56, 2, 3, 16, 16, 2, 8, 3, 2, 52, 1, 1, 1], \"xaxis\": \"x\", \"y\": [null, null, 0.8405797101449275, null, 0.6666666666666666, null, 0.8333333333333334, null, null, null, null, null, 0.0, 1.0, null, null, null, 0.9743589743589743, 0.5333333333333333, null, null, null, null, 0.7906976744186046, null, 0.6853932584269663, null, null, 0.7391304347826086, 0.875, null, 0.8181818181818182, null, null, null, null, null, null, null, 0.7936507936507936, 0.8333333333333334, 0.8, 0.75, 0.7333333333333333, null, null, 0.76, null, null, 1.0, 1.0, null, null, 0.8351648351648352, null, null, null, 0.5, 1.0, null, null, null, 0.8, 1.0, 0.9230769230769231, 0.25, null, null, 0.85, 0.7777777777777778, 1.0, 1.0, 0.8888888888888888, 0.6470588235294118, 0.42857142857142855, 0.875, 1.0, 1.0, 0.9090909090909091, 1.0, 0.5, 0.7333333333333333, 0.9333333333333333, 0.0, 0.7142857142857143, 0.5, 1.0, 0.7254901960784313, null, null, null], \"yaxis\": \"y\", \"type\": \"scatter\"}], \"name\": \"77\"}, {\"data\": [{\"hoverlabel\": {\"namelength\": 0}, \"hovertemplate\": \"Iteration=78<br>Length=%{x}<br>%Homochirality=%{y}\", \"legendgroup\": \"\", \"marker\": {\"color\": \"#636efa\", \"symbol\": \"circle\"}, \"mode\": \"markers\", \"name\": \"\", \"showlegend\": false, \"x\": [1, 5, 1, 1, 1, 4, 4, 1, 1, 1, 1, 5, 1, 67, 1, 1, 1, 102, 1, 32, 1, 1, 29, 1, 1, 27, 62, 1, 1, 116, 20, 11, 39, 33, 1, 18, 1, 1, 47, 65, 1, 23, 6, 3, 1, 1, 4, 3, 1, 1, 6, 24, 17, 1, 11, 18, 1, 1, 1, 1, 1, 1, 1, 1, 23, 1, 1, 5, 1, 10, 3, 3, 13, 2, 2, 3, 2, 1, 91, 2, 3, 52, 3, 2], \"xaxis\": \"x\", \"y\": [null, 1.0, null, null, null, 0.3333333333333333, 1.0, null, null, null, null, 0.5, null, 0.7727272727272727, null, null, null, 0.693069306930693, null, 0.5161290322580645, null, null, 0.7142857142857143, null, null, 0.7307692307692307, 0.7377049180327869, null, null, 0.8173913043478261, 1.0, 0.9, 1.0, 0.6875, null, 0.7647058823529411, null, null, 0.782608695652174, 0.90625, null, 0.8636363636363636, 0.8, 1.0, null, null, 0.0, 1.0, null, null, 1.0, 0.8695652173913043, 0.6875, null, 0.5, 0.8823529411764706, null, null, null, null, null, null, null, null, 0.8181818181818182, null, null, 1.0, null, 1.0, 0.5, 1.0, 0.75, 0.0, 0.0, 1.0, 0.0, null, 0.8555555555555555, 1.0, 1.0, 0.8431372549019608, 1.0, 0.0], \"yaxis\": \"y\", \"type\": \"scatter\"}], \"name\": \"78\"}, {\"data\": [{\"hoverlabel\": {\"namelength\": 0}, \"hovertemplate\": \"Iteration=79<br>Length=%{x}<br>%Homochirality=%{y}\", \"legendgroup\": \"\", \"marker\": {\"color\": \"#636efa\", \"symbol\": \"circle\"}, \"mode\": \"markers\", \"name\": \"\", \"showlegend\": false, \"x\": [1, 6, 1, 1, 1, 1, 1, 1, 56, 1, 1, 1, 1, 1, 1, 106, 1, 1, 1, 1, 1, 1, 1, 1, 1, 42, 1, 1, 4, 5, 1, 119, 1, 39, 1, 1, 65, 24, 1, 1, 1, 24, 3, 67, 1, 11, 1, 2, 1, 4, 1, 1, 7, 12, 1, 1, 1, 1, 1, 8, 25, 8, 7, 10, 24, 4, 1, 1, 13, 1, 1, 2, 21, 1, 1, 30, 74, 9, 67, 22, 1, 6, 6, 48, 2, 3, 4, 19, 20], \"xaxis\": \"x\", \"y\": [null, 1.0, null, null, null, null, null, null, 0.6727272727272727, null, null, null, null, null, null, 0.6666666666666666, null, null, null, null, null, null, null, null, null, 0.7804878048780488, null, null, 0.6666666666666666, 0.25, null, 0.7966101694915254, null, 1.0, null, null, 0.734375, 0.6956521739130435, null, null, null, 0.7391304347826086, 1.0, 0.8939393939393939, null, 0.7, null, 1.0, null, 1.0, null, null, 0.8333333333333334, 0.8181818181818182, null, null, null, null, null, 1.0, 0.75, 0.5714285714285714, 0.5, 1.0, 0.8260869565217391, 0.3333333333333333, null, null, 0.9166666666666666, null, null, 1.0, 1.0, null, null, 0.6896551724137931, 0.8493150684931506, 0.875, 0.9242424242424242, 0.8571428571428571, null, 0.8, 1.0, 0.7659574468085106, 1.0, 0.5, 0.6666666666666666, 0.8333333333333334, 0.5789473684210527], \"yaxis\": \"y\", \"type\": \"scatter\"}], \"name\": \"79\"}, {\"data\": [{\"hoverlabel\": {\"namelength\": 0}, \"hovertemplate\": \"Iteration=80<br>Length=%{x}<br>%Homochirality=%{y}\", \"legendgroup\": \"\", \"marker\": {\"color\": \"#636efa\", \"symbol\": \"circle\"}, \"mode\": \"markers\", \"name\": \"\", \"showlegend\": false, \"x\": [1, 1, 5, 4, 1, 1, 1, 1, 1, 1, 1, 1, 19, 81, 1, 64, 21, 6, 1, 1, 107, 1, 1, 23, 6, 1, 1, 1, 1, 1, 1, 23, 1, 17, 1, 3, 1, 27, 1, 19, 15, 1, 1, 1, 1, 49, 5, 4, 3, 49, 1, 1, 1, 1, 9, 1, 11, 5, 11, 1, 1, 1, 1, 2, 75, 2, 2, 2, 7, 2, 3, 5, 3, 120, 40, 66, 21, 9, 25, 2, 63, 13, 1], \"xaxis\": \"x\", \"y\": [null, null, 0.5, 0.6666666666666666, null, null, null, null, null, null, null, null, 0.9444444444444444, 0.6875, null, 0.9206349206349206, 0.55, 1.0, null, null, 0.6698113207547169, null, null, 0.9545454545454546, 1.0, null, null, null, null, null, null, 0.9545454545454546, null, 0.75, null, 1.0, null, 0.7692307692307693, null, 0.8333333333333334, 0.6428571428571429, null, null, null, null, 0.7916666666666666, 0.5, 1.0, 1.0, 0.7291666666666666, null, null, null, null, 0.375, null, 0.7, 1.0, 0.9, null, null, null, null, 1.0, 0.8378378378378378, 0.0, 1.0, 1.0, 0.8333333333333334, 0.0, 0.5, 0.5, 0.5, 0.7983193277310925, 0.9743589743589743, 0.7230769230769231, 0.8, 0.875, 0.8333333333333334, 1.0, 0.9354838709677419, 0.8333333333333334, null], \"yaxis\": \"y\", \"type\": \"scatter\"}], \"name\": \"80\"}, {\"data\": [{\"hoverlabel\": {\"namelength\": 0}, \"hovertemplate\": \"Iteration=81<br>Length=%{x}<br>%Homochirality=%{y}\", \"legendgroup\": \"\", \"marker\": {\"color\": \"#636efa\", \"symbol\": \"circle\"}, \"mode\": \"markers\", \"name\": \"\", \"showlegend\": false, \"x\": [1, 1, 1, 10, 1, 1, 28, 1, 6, 1, 1, 63, 1, 1, 1, 1, 1, 87, 49, 2, 1, 7, 1, 69, 6, 1, 1, 1, 112, 18, 1, 1, 23, 1, 4, 171, 1, 1, 2, 1, 1, 1, 1, 1, 1, 4, 1, 1, 1, 46, 1, 1, 4, 1, 14, 1, 1, 4, 15, 28, 7, 1, 1, 1, 1, 1, 9, 1, 4, 4, 5, 15, 1, 11, 6, 6, 14, 4, 1, 8, 7, 1, 3, 76, 2, 1, 3, 5, 6, 50, 4, 12, 12, 12], \"xaxis\": \"x\", \"y\": [null, null, null, 0.7777777777777778, null, null, 0.7407407407407407, null, 1.0, null, null, 0.967741935483871, null, null, null, null, null, 0.7093023255813954, 0.9791666666666666, 1.0, null, 0.6666666666666666, null, 0.7205882352941176, 1.0, null, null, null, 0.8018018018018018, 0.8823529411764706, null, null, 0.5454545454545454, null, 0.6666666666666666, 0.7588235294117647, null, null, 1.0, null, null, null, null, null, null, 0.6666666666666666, null, null, null, 0.7555555555555555, null, null, 0.6666666666666666, null, 0.7692307692307693, null, null, 1.0, 1.0, 0.7777777777777778, 0.6666666666666666, null, null, null, null, null, 0.75, null, 0.6666666666666666, 1.0, 0.5, 0.6428571428571429, null, 1.0, 0.6, 0.4, 0.8461538461538461, 1.0, null, 0.8571428571428571, 0.8333333333333334, null, 0.5, 0.8266666666666667, 1.0, null, 0.5, 0.25, 1.0, 0.7959183673469388, 1.0, 1.0, 0.9090909090909091, 1.0], \"yaxis\": \"y\", \"type\": \"scatter\"}], \"name\": \"81\"}, {\"data\": [{\"hoverlabel\": {\"namelength\": 0}, \"hovertemplate\": \"Iteration=82<br>Length=%{x}<br>%Homochirality=%{y}\", \"legendgroup\": \"\", \"marker\": {\"color\": \"#636efa\", \"symbol\": \"circle\"}, \"mode\": \"markers\", \"name\": \"\", \"showlegend\": false, \"x\": [1, 12, 1, 1, 46, 3, 1, 1, 178, 1, 10, 1, 1, 1, 21, 1, 29, 7, 1, 23, 1, 1, 1, 1, 1, 1, 1, 1, 8, 13, 1, 1, 1, 1, 1, 1, 11, 20, 1, 1, 1, 46, 32, 1, 1, 2, 40, 12, 1, 45, 1, 1, 1, 4, 1, 1, 1, 1, 50, 1, 53, 1, 24, 1, 1, 5, 13, 66, 1, 3, 11, 2, 1, 8, 3, 5, 1, 8, 36, 1, 2, 1, 5, 2, 88, 16, 62, 1, 12, 26], \"xaxis\": \"x\", \"y\": [null, 0.5454545454545454, null, null, 0.8444444444444444, 1.0, null, null, 0.7570621468926554, null, 0.6666666666666666, null, null, null, 1.0, null, 0.6428571428571429, 0.6666666666666666, null, 0.7272727272727273, null, null, null, null, null, null, null, null, 0.8571428571428571, 0.9166666666666666, null, null, null, null, null, null, 0.6, 0.8421052631578947, null, null, null, 0.8222222222222222, 0.7419354838709677, null, null, 1.0, 0.7692307692307693, 1.0, null, 0.7727272727272727, null, null, null, 0.6666666666666666, null, null, null, null, 0.9795918367346939, null, 0.7115384615384616, null, 0.782608695652174, null, null, 0.75, 0.9166666666666666, 0.7846153846153846, null, 1.0, 0.8, 1.0, null, 0.7142857142857143, 0.5, 0.5, null, 0.5714285714285714, 0.9142857142857143, null, 1.0, null, 0.5, 1.0, 0.7011494252873564, 0.8, 0.9836065573770492, null, 0.9090909090909091, 0.84], \"yaxis\": \"y\", \"type\": \"scatter\"}], \"name\": \"82\"}, {\"data\": [{\"hoverlabel\": {\"namelength\": 0}, \"hovertemplate\": \"Iteration=83<br>Length=%{x}<br>%Homochirality=%{y}\", \"legendgroup\": \"\", \"marker\": {\"color\": \"#636efa\", \"symbol\": \"circle\"}, \"mode\": \"markers\", \"name\": \"\", \"showlegend\": false, \"x\": [1, 55, 1, 1, 1, 1, 1, 1, 98, 1, 4, 1, 1, 6, 1, 4, 1, 1, 21, 5, 11, 1, 1, 1, 1, 3, 44, 1, 3, 1, 72, 1, 54, 1, 3, 58, 2, 1, 75, 1, 1, 1, 1, 1, 24, 1, 90, 1, 1, 1, 1, 1, 8, 1, 1, 15, 1, 33, 1, 1, 1, 15, 1, 1, 5, 1, 13, 1, 1, 3, 5, 3, 2, 3, 3, 60, 4, 12, 11, 2, 2, 13, 5, 37, 3, 2, 5, 179, 1], \"xaxis\": \"x\", \"y\": [null, 0.9629629629629629, null, null, null, null, null, null, 0.9484536082474226, null, 1.0, null, null, 0.8, null, 0.6666666666666666, null, null, 1.0, 0.75, 1.0, null, null, null, null, 1.0, 0.7906976744186046, null, 1.0, null, 0.8169014084507042, null, 0.6981132075471698, null, 0.0, 0.8070175438596491, 1.0, null, 0.7702702702702703, null, null, null, null, null, 0.6956521739130435, null, 0.7078651685393258, null, null, null, null, null, 0.8571428571428571, null, null, 0.6428571428571429, null, 0.71875, null, null, null, 0.9285714285714286, null, null, 0.5, null, 0.75, null, null, 1.0, 0.5, 1.0, 0.0, 1.0, 0.5, 0.7966101694915254, 0.6666666666666666, 0.7272727272727273, 0.9, 1.0, 1.0, 0.8333333333333334, 0.75, 0.8333333333333334, 0.0, 1.0, 1.0, 0.7528089887640449, null], \"yaxis\": \"y\", \"type\": \"scatter\"}], \"name\": \"83\"}, {\"data\": [{\"hoverlabel\": {\"namelength\": 0}, \"hovertemplate\": \"Iteration=84<br>Length=%{x}<br>%Homochirality=%{y}\", \"legendgroup\": \"\", \"marker\": {\"color\": \"#636efa\", \"symbol\": \"circle\"}, \"mode\": \"markers\", \"name\": \"\", \"showlegend\": false, \"x\": [1, 1, 41, 1, 15, 57, 1, 25, 36, 1, 1, 1, 5, 176, 103, 1, 1, 1, 16, 1, 1, 25, 45, 2, 1, 1, 4, 21, 4, 1, 1, 1, 1, 1, 1, 12, 4, 3, 1, 1, 1, 1, 1, 1, 1, 1, 40, 3, 1, 1, 1, 142, 1, 1, 1, 1, 1, 1, 1, 17, 1, 1, 2, 1, 1, 1, 17, 7, 4, 7, 3, 4, 3, 1, 12, 50, 4, 5, 48, 1, 55, 4, 1, 2, 32, 1, 6, 14, 1, 4, 1, 1, 1, 1], \"xaxis\": \"x\", \"y\": [null, null, 0.825, null, 0.7857142857142857, 0.9464285714285714, null, 0.7083333333333334, 0.7142857142857143, null, null, null, 0.75, 0.76, 0.7254901960784313, null, null, null, 0.9333333333333333, null, null, 0.7083333333333334, 0.8409090909090909, 1.0, null, null, 0.3333333333333333, 1.0, 1.0, null, null, null, null, null, null, 0.6363636363636364, 0.6666666666666666, 1.0, null, null, null, null, null, null, null, null, 0.7948717948717948, 1.0, null, null, null, 0.8936170212765957, null, null, null, null, null, null, null, 0.6875, null, null, 1.0, null, null, null, 0.8125, 0.6666666666666666, 0.0, 0.8333333333333334, 0.5, 1.0, 1.0, null, 0.8181818181818182, 0.8163265306122449, 0.6666666666666666, 0.75, 0.851063829787234, null, 0.6851851851851852, 0.6666666666666666, null, 1.0, 0.8709677419354839, null, 0.8, 1.0, null, 1.0, null, null, null, null], \"yaxis\": \"y\", \"type\": \"scatter\"}], \"name\": \"84\"}, {\"data\": [{\"hoverlabel\": {\"namelength\": 0}, \"hovertemplate\": \"Iteration=85<br>Length=%{x}<br>%Homochirality=%{y}\", \"legendgroup\": \"\", \"marker\": {\"color\": \"#636efa\", \"symbol\": \"circle\"}, \"mode\": \"markers\", \"name\": \"\", \"showlegend\": false, \"x\": [49, 1, 27, 15, 1, 1, 62, 1, 1, 2, 1, 1, 1, 1, 1, 36, 1, 1, 1, 1, 20, 1, 1, 1, 158, 4, 1, 1, 1, 1, 1, 1, 5, 1, 5, 4, 1, 9, 181, 1, 1, 1, 1, 1, 8, 54, 26, 1, 1, 31, 1, 1, 1, 1, 28, 2, 1, 9, 3, 1, 1, 1, 1, 1, 1, 1, 1, 1, 1, 1, 139, 42, 53, 2, 8, 13, 8, 3, 1, 2, 1, 9, 16, 27, 16, 6, 1, 4], \"xaxis\": \"x\", \"y\": [0.7916666666666666, null, 0.6923076923076923, 1.0, null, null, 0.8032786885245902, null, null, 1.0, null, null, null, null, null, 0.8571428571428571, null, null, null, null, 0.8421052631578947, null, null, null, 0.89171974522293, 1.0, null, null, null, null, null, null, 0.5, null, 0.75, 1.0, null, 0.875, 0.7555555555555555, null, null, null, null, null, 1.0, 0.8301886792452831, 0.92, null, null, 0.8333333333333334, null, null, null, null, 0.6296296296296297, 1.0, null, 0.75, 1.0, null, null, null, null, null, null, null, null, null, null, null, 0.7246376811594203, 0.8048780487804879, 0.9615384615384616, 1.0, 0.8571428571428571, 0.5833333333333334, 0.5714285714285714, 0.5, null, 1.0, null, 0.75, 0.8, 0.7692307692307693, 0.7333333333333333, 0.8, null, 1.0], \"yaxis\": \"y\", \"type\": \"scatter\"}], \"name\": \"85\"}, {\"data\": [{\"hoverlabel\": {\"namelength\": 0}, \"hovertemplate\": \"Iteration=86<br>Length=%{x}<br>%Homochirality=%{y}\", \"legendgroup\": \"\", \"marker\": {\"color\": \"#636efa\", \"symbol\": \"circle\"}, \"mode\": \"markers\", \"name\": \"\", \"showlegend\": false, \"x\": [1, 1, 1, 1, 1, 1, 1, 1, 1, 14, 1, 51, 2, 1, 1, 1, 1, 1, 9, 177, 1, 2, 63, 1, 1, 15, 1, 1, 1, 4, 1, 1, 8, 1, 28, 1, 1, 10, 1, 15, 1, 1, 55, 1, 17, 1, 1, 1, 1, 32, 1, 1, 1, 2, 7, 1, 67, 7, 1, 52, 1, 1, 1, 1, 1, 170, 1, 1, 1, 22, 118, 2, 2, 5, 4, 3, 4, 10, 2, 27, 3, 2, 26, 17, 2, 1, 5, 40], \"xaxis\": \"x\", \"y\": [null, null, null, null, null, null, null, null, null, 0.5384615384615384, null, 0.98, 1.0, null, null, null, null, null, 0.75, 0.7556818181818182, null, 1.0, 0.7741935483870968, null, null, 1.0, null, null, null, 1.0, null, null, 1.0, null, 0.7777777777777778, null, null, 0.7777777777777778, null, 0.7857142857142857, null, null, 0.8333333333333334, null, 0.8125, null, null, null, null, 0.8709677419354839, null, null, null, 0.0, 1.0, null, 0.7878787878787878, 1.0, null, 0.803921568627451, null, null, null, null, null, 0.7396449704142012, null, null, null, 0.8095238095238095, 0.9230769230769231, 0.0, 1.0, 0.75, 1.0, 0.5, 0.3333333333333333, 0.7777777777777778, 0.0, 0.8461538461538461, 1.0, 0.0, 0.68, 0.6875, 1.0, null, 0.75, 0.8205128205128205], \"yaxis\": \"y\", \"type\": \"scatter\"}], \"name\": \"86\"}, {\"data\": [{\"hoverlabel\": {\"namelength\": 0}, \"hovertemplate\": \"Iteration=87<br>Length=%{x}<br>%Homochirality=%{y}\", \"legendgroup\": \"\", \"marker\": {\"color\": \"#636efa\", \"symbol\": \"circle\"}, \"mode\": \"markers\", \"name\": \"\", \"showlegend\": false, \"x\": [2, 16, 1, 98, 1, 1, 1, 1, 1, 1, 3, 1, 1, 1, 1, 1, 1, 3, 1, 1, 17, 1, 1, 1, 7, 1, 1, 1, 3, 1, 19, 1, 1, 1, 1, 2, 1, 1, 31, 1, 1, 1, 43, 1, 12, 1, 1, 8, 1, 7, 1, 82, 1, 1, 1, 21, 10, 1, 1, 24, 1, 1, 6, 178, 1, 19, 1, 1, 3, 1, 52, 20, 5, 4, 1, 31, 1, 5, 64, 32, 2, 178, 9, 46, 2, 13, 1, 34], \"xaxis\": \"x\", \"y\": [1.0, 0.9333333333333333, null, 0.9484536082474226, null, null, null, null, null, null, 0.5, null, null, null, null, null, null, 1.0, null, null, 0.8125, null, null, null, 0.3333333333333333, null, null, null, 0.5, null, 1.0, null, null, null, null, 1.0, null, null, 0.7, null, null, null, 0.7619047619047619, null, 0.6363636363636364, null, null, 0.8571428571428571, null, 1.0, null, 0.8395061728395061, null, null, null, 0.8, 0.7777777777777778, null, null, 0.7391304347826086, null, null, 1.0, 0.7457627118644068, null, 0.8333333333333334, null, null, 0.5, null, 0.803921568627451, 0.8421052631578947, 1.0, 1.0, null, 0.9, null, 1.0, 0.7619047619047619, 1.0, 0.0, 0.751412429378531, 0.625, 0.8, 1.0, 0.5833333333333334, null, 0.8181818181818182], \"yaxis\": \"y\", \"type\": \"scatter\"}], \"name\": \"87\"}, {\"data\": [{\"hoverlabel\": {\"namelength\": 0}, \"hovertemplate\": \"Iteration=88<br>Length=%{x}<br>%Homochirality=%{y}\", \"legendgroup\": \"\", \"marker\": {\"color\": \"#636efa\", \"symbol\": \"circle\"}, \"mode\": \"markers\", \"name\": \"\", \"showlegend\": false, \"x\": [1, 1, 1, 1, 1, 1, 3, 1, 2, 1, 1, 10, 1, 18, 1, 18, 1, 5, 1, 1, 1, 1, 1, 1, 65, 1, 78, 3, 1, 1, 1, 1, 1, 1, 1, 212, 1, 1, 1, 1, 1, 1, 51, 1, 1, 19, 25, 1, 1, 100, 1, 1, 29, 1, 23, 7, 1, 1, 1, 8, 1, 1, 9, 1, 24, 7, 92, 1, 1, 1, 1, 4, 5, 4, 2, 1, 1, 6, 18, 2, 2, 3, 6, 14, 12, 179, 40, 14, 3], \"xaxis\": \"x\", \"y\": [null, null, null, null, null, null, 0.5, null, 1.0, null, null, 0.5555555555555556, null, 0.8823529411764706, null, 0.7647058823529411, null, 1.0, null, null, null, null, null, null, 0.75, null, 0.8831168831168831, 1.0, null, null, null, null, null, null, null, 0.7582938388625592, null, null, null, null, null, null, 0.76, null, null, 1.0, 0.9583333333333334, null, null, 0.9494949494949495, null, null, 0.7142857142857143, null, 0.7272727272727273, 1.0, null, null, null, 0.8571428571428571, null, null, 0.875, null, 0.7391304347826086, 0.6666666666666666, 0.8351648351648352, null, null, null, null, 1.0, 1.0, 0.3333333333333333, 1.0, null, null, 0.4, 0.7647058823529411, 1.0, 0.0, 0.5, 0.8, 0.9230769230769231, 0.8181818181818182, 0.7415730337078652, 0.7948717948717948, 0.9230769230769231, 0.5], \"yaxis\": \"y\", \"type\": \"scatter\"}], \"name\": \"88\"}, {\"data\": [{\"hoverlabel\": {\"namelength\": 0}, \"hovertemplate\": \"Iteration=89<br>Length=%{x}<br>%Homochirality=%{y}\", \"legendgroup\": \"\", \"marker\": {\"color\": \"#636efa\", \"symbol\": \"circle\"}, \"mode\": \"markers\", \"name\": \"\", \"showlegend\": false, \"x\": [1, 1, 1, 25, 1, 1, 1, 2, 99, 30, 1, 1, 1, 65, 1, 38, 1, 19, 26, 1, 1, 1, 1, 1, 3, 10, 1, 1, 1, 1, 1, 1, 1, 4, 22, 80, 1, 1, 3, 1, 1, 6, 23, 1, 2, 1, 1, 1, 1, 5, 19, 1, 1, 1, 73, 1, 1, 1, 1, 180, 1, 1, 1, 1, 1, 2, 1, 215, 1, 2, 1, 2, 8, 1, 2, 2, 2, 35, 13, 30, 1, 1, 2, 3, 4, 28, 30, 19, 1], \"xaxis\": \"x\", \"y\": [null, null, null, 0.9166666666666666, null, null, null, 1.0, 0.8163265306122449, 0.7586206896551724, null, null, null, 0.96875, null, 0.8108108108108109, null, 0.8888888888888888, 0.92, null, null, null, null, null, 1.0, 0.5555555555555556, null, null, null, null, null, null, null, 1.0, 0.6666666666666666, 0.8734177215189873, null, null, 0.5, null, null, 0.8, 0.8636363636363636, null, 1.0, null, null, null, null, 1.0, 0.9444444444444444, null, null, null, 0.7638888888888888, null, null, null, null, 0.7430167597765364, null, null, null, null, null, 1.0, null, 0.7523364485981309, null, 1.0, null, 0.0, 1.0, null, 0.0, 0.0, 1.0, 0.9411764705882353, 0.75, 0.896551724137931, null, null, 0.0, 0.5, 0.3333333333333333, 0.7037037037037037, 0.7241379310344828, 0.7777777777777778, null], \"yaxis\": \"y\", \"type\": \"scatter\"}], \"name\": \"89\"}, {\"data\": [{\"hoverlabel\": {\"namelength\": 0}, \"hovertemplate\": \"Iteration=90<br>Length=%{x}<br>%Homochirality=%{y}\", \"legendgroup\": \"\", \"marker\": {\"color\": \"#636efa\", \"symbol\": \"circle\"}, \"mode\": \"markers\", \"name\": \"\", \"showlegend\": false, \"x\": [23, 1, 1, 1, 1, 1, 1, 1, 1, 1, 23, 62, 1, 1, 1, 1, 68, 1, 1, 1, 1, 32, 1, 1, 1, 1, 1, 4, 1, 1, 22, 1, 1, 2, 1, 8, 1, 5, 1, 1, 12, 32, 1, 1, 1, 1, 1, 3, 71, 1, 1, 1, 1, 34, 55, 1, 1, 12, 1, 1, 1, 1, 9, 6, 2, 1, 26, 1, 1, 1, 2, 1, 1, 15, 3, 28, 216, 72, 34, 1, 27, 11, 4, 1, 1, 2, 2, 125, 2, 1, 1, 1, 84], \"xaxis\": \"x\", \"y\": [0.6818181818181818, null, null, null, null, null, null, null, null, null, 0.8636363636363636, 1.0, null, null, null, null, 0.8507462686567164, null, null, null, null, 0.8709677419354839, null, null, null, null, null, 0.6666666666666666, null, null, 0.7142857142857143, null, null, 1.0, null, 0.8571428571428571, null, 1.0, null, null, 0.9090909090909091, 0.7741935483870968, null, null, null, null, null, 0.5, 0.7857142857142857, null, null, null, null, 0.696969696969697, 0.7777777777777778, null, null, 0.6363636363636364, null, null, null, null, 1.0, 0.4, 1.0, null, 0.88, null, null, null, 0.0, null, null, 0.7142857142857143, 0.5, 0.7407407407407407, 0.7534883720930232, 0.8873239436619719, 0.9696969696969697, null, 0.9230769230769231, 0.9, 1.0, null, null, 0.0, 0.0, 0.7338709677419355, 0.0, null, null, null, 0.8433734939759037], \"yaxis\": \"y\", \"type\": \"scatter\"}], \"name\": \"90\"}, {\"data\": [{\"hoverlabel\": {\"namelength\": 0}, \"hovertemplate\": \"Iteration=91<br>Length=%{x}<br>%Homochirality=%{y}\", \"legendgroup\": \"\", \"marker\": {\"color\": \"#636efa\", \"symbol\": \"circle\"}, \"mode\": \"markers\", \"name\": \"\", \"showlegend\": false, \"x\": [1, 1, 1, 1, 62, 1, 46, 1, 3, 1, 2, 1, 1, 1, 1, 1, 1, 1, 5, 1, 1, 73, 21, 1, 1, 1, 1, 1, 30, 67, 1, 6, 1, 1, 1, 1, 1, 1, 3, 1, 14, 37, 1, 1, 56, 1, 16, 21, 157, 1, 19, 1, 1, 1, 1, 5, 146, 1, 1, 94, 1, 1, 13, 1, 1, 2, 2, 38, 4, 2, 3, 12, 11, 29, 4, 13, 28, 28, 5, 1, 2, 4, 3, 2, 70], \"xaxis\": \"x\", \"y\": [null, null, null, null, 1.0, null, 0.8444444444444444, null, 0.0, null, 1.0, null, null, null, null, null, null, null, 1.0, null, null, 0.8888888888888888, 0.85, null, null, null, null, null, 0.7586206896551724, 0.803030303030303, null, 1.0, null, null, null, null, null, null, 0.5, null, 0.8461538461538461, 0.6666666666666666, null, null, 0.7636363636363637, null, 0.7333333333333333, 0.7, 0.7564102564102564, null, 0.8888888888888888, null, null, null, null, 1.0, 0.7862068965517242, null, null, 0.8494623655913979, null, null, 0.9166666666666666, null, null, 1.0, 0.0, 0.8648648648648649, 0.6666666666666666, 1.0, 0.5, 0.8181818181818182, 0.7, 0.75, 0.6666666666666666, 0.6666666666666666, 1.0, 0.8888888888888888, 0.5, null, 1.0, 1.0, 0.5, 0.0, 0.6956521739130435], \"yaxis\": \"y\", \"type\": \"scatter\"}], \"name\": \"91\"}, {\"data\": [{\"hoverlabel\": {\"namelength\": 0}, \"hovertemplate\": \"Iteration=92<br>Length=%{x}<br>%Homochirality=%{y}\", \"legendgroup\": \"\", \"marker\": {\"color\": \"#636efa\", \"symbol\": \"circle\"}, \"mode\": \"markers\", \"name\": \"\", \"showlegend\": false, \"x\": [1, 1, 1, 1, 1, 6, 1, 2, 21, 1, 1, 5, 4, 2, 1, 15, 1, 1, 1, 70, 1, 1, 167, 35, 1, 1, 1, 1, 121, 1, 54, 47, 1, 22, 4, 85, 1, 1, 1, 1, 1, 1, 1, 1, 1, 1, 1, 28, 1, 1, 1, 1, 13, 1, 66, 3, 1, 1, 4, 2, 1, 1, 1, 72, 1, 1, 1, 1, 1, 4, 1, 3, 9, 16, 4, 9, 1, 2, 3, 6, 36, 29, 71, 13, 1, 95, 1, 17, 1, 1], \"xaxis\": \"x\", \"y\": [null, null, null, null, null, 1.0, null, 0.0, 0.7, null, null, 0.75, 1.0, 1.0, null, 0.9285714285714286, null, null, null, 0.8985507246376812, null, null, 0.7710843373493976, 0.7941176470588235, null, null, null, null, 0.75, null, 0.8301886792452831, 0.8260869565217391, null, 0.8571428571428571, 1.0, 0.75, null, null, null, null, null, null, null, null, null, null, null, 1.0, null, null, null, null, 0.9166666666666666, null, 0.9846153846153847, 1.0, null, null, 0.3333333333333333, 0.0, null, null, null, 0.7887323943661971, null, null, null, null, null, 0.3333333333333333, null, 1.0, 0.875, 0.6666666666666666, 0.3333333333333333, 0.625, null, 0.0, 1.0, 1.0, 0.8, 0.8928571428571429, 0.6857142857142857, 0.8333333333333334, null, 0.851063829787234, null, 1.0, null, null], \"yaxis\": \"y\", \"type\": \"scatter\"}], \"name\": \"92\"}, {\"data\": [{\"hoverlabel\": {\"namelength\": 0}, \"hovertemplate\": \"Iteration=93<br>Length=%{x}<br>%Homochirality=%{y}\", \"legendgroup\": \"\", \"marker\": {\"color\": \"#636efa\", \"symbol\": \"circle\"}, \"mode\": \"markers\", \"name\": \"\", \"showlegend\": false, \"x\": [3, 1, 5, 1, 1, 1, 1, 1, 1, 1, 1, 262, 17, 1, 4, 1, 71, 1, 1, 3, 1, 7, 1, 82, 1, 4, 1, 1, 4, 1, 1, 2, 1, 7, 1, 1, 6, 1, 3, 1, 15, 1, 1, 4, 14, 1, 1, 1, 28, 14, 1, 1, 1, 1, 1, 1, 15, 1, 1, 1, 1, 1, 24, 67, 4, 2, 31, 1, 1, 1, 1, 1, 2, 55, 32, 1, 122, 8, 1, 7, 22, 63, 57, 2, 7, 2, 70, 5, 6, 4, 17], \"xaxis\": \"x\", \"y\": [0.0, null, 0.25, null, null, null, null, null, null, null, null, 0.8007662835249042, 1.0, null, 0.6666666666666666, null, 0.9, null, null, 0.5, null, 1.0, null, 0.8148148148148148, null, 0.6666666666666666, null, null, 1.0, null, null, 1.0, null, 0.8333333333333334, null, null, 1.0, null, 1.0, null, 0.7857142857142857, null, null, 1.0, 0.8461538461538461, null, null, null, 0.8518518518518519, 0.6153846153846154, null, null, null, null, null, null, 0.7142857142857143, null, null, null, null, null, 0.782608695652174, 0.7272727272727273, 1.0, 1.0, 0.9666666666666667, null, null, null, null, null, 1.0, 0.8148148148148148, 0.8387096774193549, null, 0.7520661157024794, 0.7142857142857143, null, 1.0, 0.9523809523809523, 1.0, 0.8035714285714286, 0.0, 1.0, 1.0, 0.7681159420289855, 0.5, 0.6, 0.0, 0.625], \"yaxis\": \"y\", \"type\": \"scatter\"}], \"name\": \"93\"}, {\"data\": [{\"hoverlabel\": {\"namelength\": 0}, \"hovertemplate\": \"Iteration=94<br>Length=%{x}<br>%Homochirality=%{y}\", \"legendgroup\": \"\", \"marker\": {\"color\": \"#636efa\", \"symbol\": \"circle\"}, \"mode\": \"markers\", \"name\": \"\", \"showlegend\": false, \"x\": [1, 2, 1, 6, 1, 1, 1, 1, 6, 33, 1, 3, 1, 126, 1, 1, 1, 3, 32, 1, 1, 1, 1, 14, 4, 12, 2, 1, 1, 1, 1, 4, 5, 56, 1, 8, 1, 2, 1, 277, 1, 1, 5, 1, 1, 1, 4, 1, 1, 74, 1, 6, 1, 13, 1, 1, 21, 10, 1, 1, 4, 64, 7, 3, 1, 1, 91, 3, 1, 1, 2, 1, 1, 2, 12, 8, 3, 13, 1, 56, 1, 2, 23, 74, 5, 1, 2, 1, 66, 18, 5], \"xaxis\": \"x\", \"y\": [null, 1.0, null, 0.2, null, null, null, null, 0.6, 0.84375, null, 1.0, null, 0.76, null, null, null, 0.5, 0.9354838709677419, null, null, null, null, 0.6923076923076923, 0.6666666666666666, 0.7272727272727273, 1.0, null, null, null, null, 1.0, 1.0, 0.8, null, 0.8571428571428571, null, 1.0, null, 0.7971014492753623, null, null, 0.25, null, null, null, 1.0, null, null, 0.8767123287671232, null, 1.0, null, 0.9166666666666666, null, null, 1.0, 0.5555555555555556, null, null, 0.6666666666666666, 1.0, 1.0, 0.5, null, null, 0.7333333333333333, 0.0, null, null, 1.0, null, null, 0.0, 0.9090909090909091, 0.8571428571428571, 0.5, 0.6666666666666666, null, 0.8181818181818182, null, 0.0, 0.8636363636363636, 0.821917808219178, 1.0, null, 1.0, null, 0.7846153846153846, 0.9411764705882353, 1.0], \"yaxis\": \"y\", \"type\": \"scatter\"}], \"name\": \"94\"}, {\"data\": [{\"hoverlabel\": {\"namelength\": 0}, \"hovertemplate\": \"Iteration=95<br>Length=%{x}<br>%Homochirality=%{y}\", \"legendgroup\": \"\", \"marker\": {\"color\": \"#636efa\", \"symbol\": \"circle\"}, \"mode\": \"markers\", \"name\": \"\", \"showlegend\": false, \"x\": [1, 33, 64, 1, 1, 1, 6, 1, 35, 7, 1, 1, 75, 69, 7, 1, 7, 1, 1, 34, 1, 6, 1, 1, 2, 290, 1, 1, 1, 1, 8, 1, 5, 2, 1, 1, 3, 1, 1, 1, 75, 36, 1, 2, 2, 1, 1, 15, 1, 1, 19, 1, 5, 1, 1, 1, 2, 1, 1, 1, 1, 1, 15, 4, 1, 1, 60, 1, 15, 1, 1, 1, 1, 21, 1, 1, 41, 3, 16, 7, 1, 1, 1, 22, 120, 1, 4, 7, 2, 7, 1, 4, 3, 1, 18, 3, 7, 2, 2, 1], \"xaxis\": \"x\", \"y\": [null, 0.84375, 1.0, null, null, null, 1.0, null, 0.8529411764705882, 1.0, null, null, 0.7162162162162162, 0.7647058823529411, 0.8333333333333334, null, 1.0, null, null, 0.8484848484848485, null, 1.0, null, null, 1.0, 0.7993079584775087, null, null, null, null, 1.0, null, 0.5, 1.0, null, null, 0.0, null, null, null, 0.8108108108108109, 0.9428571428571428, null, 0.0, 1.0, null, null, 1.0, null, null, 0.8888888888888888, null, 1.0, null, null, null, 1.0, null, null, null, null, null, 0.6428571428571429, 1.0, null, null, 0.7796610169491526, null, 0.6428571428571429, null, null, null, null, 1.0, null, null, 0.925, 0.0, 0.8666666666666667, 0.6666666666666666, null, null, null, 0.8095238095238095, 0.7563025210084033, null, 0.3333333333333333, 1.0, 1.0, 1.0, null, 0.3333333333333333, 1.0, null, 0.7647058823529411, 0.5, 0.5, 0.0, 0.0, null], \"yaxis\": \"y\", \"type\": \"scatter\"}], \"name\": \"95\"}, {\"data\": [{\"hoverlabel\": {\"namelength\": 0}, \"hovertemplate\": \"Iteration=96<br>Length=%{x}<br>%Homochirality=%{y}\", \"legendgroup\": \"\", \"marker\": {\"color\": \"#636efa\", \"symbol\": \"circle\"}, \"mode\": \"markers\", \"name\": \"\", \"showlegend\": false, \"x\": [1, 1, 24, 8, 1, 1, 1, 1, 7, 1, 1, 8, 2, 3, 19, 1, 305, 90, 1, 7, 1, 1, 19, 37, 1, 1, 41, 1, 9, 1, 1, 6, 1, 1, 1, 1, 1, 2, 1, 4, 1, 1, 11, 1, 1, 1, 1, 4, 30, 1, 1, 1, 1, 48, 1, 32, 1, 1, 3, 67, 1, 1, 1, 36, 2, 1, 1, 1, 1, 74, 1, 5, 118, 2, 11, 7, 61, 2, 1, 56, 3, 1, 8, 1, 16, 4, 4, 1, 2], \"xaxis\": \"x\", \"y\": [null, null, 0.8695652173913043, 0.5714285714285714, null, null, null, null, 1.0, null, null, 1.0, 1.0, 0.5, 0.8888888888888888, null, 0.7894736842105263, 0.8202247191011236, null, 1.0, null, null, 0.8333333333333334, 0.8333333333333334, null, null, 0.85, null, 0.75, null, null, 0.8, null, null, null, null, null, 0.0, null, 0.6666666666666666, null, null, 0.8, null, null, null, null, 0.6666666666666666, 0.8620689655172413, null, null, null, null, 0.8723404255319149, null, 1.0, null, null, 0.5, 0.9545454545454546, null, null, null, 0.8, 1.0, null, null, null, null, 0.821917808219178, null, 1.0, 0.7692307692307693, 1.0, 0.9, 0.8333333333333334, 0.7833333333333333, 1.0, null, 0.6727272727272727, 0.5, null, 0.7142857142857143, null, 0.9333333333333333, 0.6666666666666666, 1.0, null, 0.0], \"yaxis\": \"y\", \"type\": \"scatter\"}], \"name\": \"96\"}, {\"data\": [{\"hoverlabel\": {\"namelength\": 0}, \"hovertemplate\": \"Iteration=97<br>Length=%{x}<br>%Homochirality=%{y}\", \"legendgroup\": \"\", \"marker\": {\"color\": \"#636efa\", \"symbol\": \"circle\"}, \"mode\": \"markers\", \"name\": \"\", \"showlegend\": false, \"x\": [1, 1, 97, 1, 1, 2, 1, 1, 1, 1, 2, 3, 7, 2, 1, 1, 1, 1, 1, 1, 23, 1, 1, 1, 8, 4, 1, 1, 12, 1, 15, 1, 9, 1, 1, 1, 1, 1, 63, 1, 316, 8, 106, 1, 2, 7, 1, 1, 1, 3, 1, 1, 1, 4, 1, 1, 58, 9, 1, 1, 1, 1, 1, 9, 3, 75, 9, 1, 17, 33, 47, 1, 2, 38, 2, 8, 2, 1, 119, 1, 1, 2, 15, 37, 32], \"xaxis\": \"x\", \"y\": [null, null, 0.9166666666666666, null, null, 1.0, null, null, null, null, 1.0, 1.0, 1.0, 0.0, null, null, null, null, null, null, 0.7727272727272727, null, null, null, 0.7142857142857143, 1.0, null, null, 0.7272727272727273, null, 0.7142857142857143, null, 0.625, null, null, null, null, null, 0.7903225806451613, null, 0.7904761904761904, 1.0, 0.8285714285714286, null, 1.0, 1.0, null, null, null, 0.5, null, null, null, 0.3333333333333333, null, null, 0.6666666666666666, 1.0, null, null, null, null, null, 0.75, 0.0, 0.8108108108108109, 0.875, null, 1.0, 0.96875, 0.8913043478260869, null, 1.0, 0.8378378378378378, 1.0, 0.7142857142857143, 0.0, null, 0.7711864406779662, null, null, 1.0, 0.8571428571428571, 0.8055555555555556, 0.9032258064516129], \"yaxis\": \"y\", \"type\": \"scatter\"}], \"name\": \"97\"}, {\"data\": [{\"hoverlabel\": {\"namelength\": 0}, \"hovertemplate\": \"Iteration=98<br>Length=%{x}<br>%Homochirality=%{y}\", \"legendgroup\": \"\", \"marker\": {\"color\": \"#636efa\", \"symbol\": \"circle\"}, \"mode\": \"markers\", \"name\": \"\", \"showlegend\": false, \"x\": [7, 60, 1, 37, 2, 1, 1, 16, 1, 1, 1, 7, 1, 1, 3, 1, 9, 1, 1, 15, 1, 1, 1, 1, 1, 1, 1, 55, 1, 1, 2, 1, 1, 1, 33, 2, 1, 1, 1, 1, 4, 104, 1, 1, 1, 1, 1, 1, 73, 2, 1, 18, 1, 1, 1, 2, 9, 1, 3, 1, 76, 1, 1, 37, 1, 1, 1, 1, 2, 1, 72, 1, 1, 1, 1, 1, 2, 10, 1, 1, 1, 5, 120, 317, 1, 1, 103, 5, 1, 2], \"xaxis\": \"x\", \"y\": [0.8333333333333334, 0.7796610169491526, null, 0.9722222222222222, 1.0, null, null, 0.8, null, null, null, 0.8333333333333334, null, null, 1.0, null, 0.875, null, null, 0.7142857142857143, null, null, null, null, null, null, null, 0.8518518518518519, null, null, 0.0, null, null, null, 0.875, 1.0, null, null, null, null, 0.6666666666666666, 0.912621359223301, null, null, null, null, null, null, 0.6805555555555556, 1.0, null, 1.0, null, null, null, 1.0, 1.0, null, 0.5, null, 0.8, null, null, 0.8611111111111112, null, null, null, null, 1.0, null, 0.8028169014084507, null, null, null, null, null, 1.0, 0.8888888888888888, null, null, null, 0.75, 0.773109243697479, 0.7879746835443038, null, null, 0.8431372549019608, 0.5, null, 1.0], \"yaxis\": \"y\", \"type\": \"scatter\"}], \"name\": \"98\"}, {\"data\": [{\"hoverlabel\": {\"namelength\": 0}, \"hovertemplate\": \"Iteration=99<br>Length=%{x}<br>%Homochirality=%{y}\", \"legendgroup\": \"\", \"marker\": {\"color\": \"#636efa\", \"symbol\": \"circle\"}, \"mode\": \"markers\", \"name\": \"\", \"showlegend\": false, \"x\": [1, 112, 2, 3, 1, 1, 1, 5, 2, 1, 1, 1, 1, 1, 1, 20, 1, 1, 1, 1, 1, 1, 1, 1, 9, 1, 1, 1, 1, 3, 1, 1, 25, 1, 1, 3, 1, 1, 272, 2, 1, 1, 1, 1, 1, 192, 1, 1, 2, 39, 1, 19, 1, 2, 1, 1, 1, 1, 3, 1, 1, 1, 1, 61, 3, 1, 2, 1, 62, 2, 8, 32, 6, 1, 1, 2, 2, 2, 2, 77, 2, 8, 4, 10, 45, 56, 2, 105, 13, 11], \"xaxis\": \"x\", \"y\": [null, 0.8558558558558559, 1.0, 1.0, null, null, null, 1.0, 1.0, null, null, null, null, null, null, 0.6842105263157895, null, null, null, null, null, null, null, null, 0.875, null, null, null, null, 1.0, null, null, 0.9166666666666666, null, null, 0.0, null, null, 0.8118081180811808, 1.0, null, null, null, null, null, 0.7853403141361257, null, null, 1.0, 0.868421052631579, null, 1.0, null, 1.0, null, null, null, null, 0.5, null, null, null, null, 0.7833333333333333, 1.0, null, 1.0, null, 0.6885245901639344, 1.0, 1.0, 1.0, 1.0, null, null, 1.0, 0.0, 1.0, 1.0, 0.7894736842105263, 1.0, 0.8571428571428571, 0.6666666666666666, 0.8888888888888888, 0.6590909090909091, 0.8545454545454545, 1.0, 0.9134615384615384, 0.8333333333333334, 0.7], \"yaxis\": \"y\", \"type\": \"scatter\"}], \"name\": \"99\"}]);\n",
              "                        }).then(function(){\n",
              "                            \n",
              "var gd = document.getElementById('7f9d1a08-8620-4de4-bf96-e593b5659272');\n",
              "var x = new MutationObserver(function (mutations, observer) {{\n",
              "        var display = window.getComputedStyle(gd).display;\n",
              "        if (!display || display === 'none') {{\n",
              "            console.log([gd, 'removed!']);\n",
              "            Plotly.purge(gd);\n",
              "            observer.disconnect();\n",
              "        }}\n",
              "}});\n",
              "\n",
              "// Listen for the removal of the full notebook cells\n",
              "var notebookContainer = gd.closest('#notebook-container');\n",
              "if (notebookContainer) {{\n",
              "    x.observe(notebookContainer, {childList: true});\n",
              "}}\n",
              "\n",
              "// Listen for the clearing of the current output cell\n",
              "var outputEl = gd.closest('.output');\n",
              "if (outputEl) {{\n",
              "    x.observe(outputEl, {childList: true});\n",
              "}}\n",
              "\n",
              "                        })\n",
              "                };\n",
              "                \n",
              "            </script>\n",
              "        </div>\n",
              "</body>\n",
              "</html>"
            ]
          },
          "metadata": {
            "tags": [
              "id15_content_2",
              "outputarea_id15",
              "user_output"
            ]
          }
        },
        {
          "output_type": "display_data",
          "data": {
            "application/javascript": [
              "window[\"daf253b4-c60e-11ea-9e0a-0242ac1c0002\"] = google.colab.output.setActiveOutputArea(window[\"d89ce12e-c60e-11ea-9e0a-0242ac1c0002\"]);\n",
              "//# sourceURL=js_3cb8818617"
            ],
            "text/plain": [
              "<IPython.core.display.Javascript object>"
            ]
          },
          "metadata": {
            "tags": [
              "id15_content_2",
              "outputarea_id15"
            ]
          }
        },
        {
          "output_type": "display_data",
          "data": {
            "application/javascript": [
              "window[\"daf61c1a-c60e-11ea-9e0a-0242ac1c0002\"] = google.colab.output.getActiveOutputArea();\n",
              "//# sourceURL=js_6e6338fc70"
            ],
            "text/plain": [
              "<IPython.core.display.Javascript object>"
            ]
          },
          "metadata": {
            "tags": [
              "id15_content_3",
              "outputarea_id15"
            ]
          }
        },
        {
          "output_type": "display_data",
          "data": {
            "application/javascript": [
              "window[\"daf65e00-c60e-11ea-9e0a-0242ac1c0002\"] = document.querySelector(\"#id15_content_3\");\n",
              "//# sourceURL=js_a44e685f13"
            ],
            "text/plain": [
              "<IPython.core.display.Javascript object>"
            ]
          },
          "metadata": {
            "tags": [
              "id15_content_3",
              "outputarea_id15"
            ]
          }
        },
        {
          "output_type": "display_data",
          "data": {
            "application/javascript": [
              "window[\"daf6ad74-c60e-11ea-9e0a-0242ac1c0002\"] = google.colab.output.setActiveOutputArea(window[\"daf65e00-c60e-11ea-9e0a-0242ac1c0002\"]);\n",
              "//# sourceURL=js_5d1f312dfd"
            ],
            "text/plain": [
              "<IPython.core.display.Javascript object>"
            ]
          },
          "metadata": {
            "tags": [
              "id15_content_3",
              "outputarea_id15"
            ]
          }
        },
        {
          "output_type": "display_data",
          "data": {
            "text/html": [
              "<html>\n",
              "<head><meta charset=\"utf-8\" /></head>\n",
              "<body>\n",
              "    <div>\n",
              "            <script src=\"https://cdnjs.cloudflare.com/ajax/libs/mathjax/2.7.5/MathJax.js?config=TeX-AMS-MML_SVG\"></script><script type=\"text/javascript\">if (window.MathJax) {MathJax.Hub.Config({SVG: {font: \"STIX-Web\"}});}</script>\n",
              "                <script type=\"text/javascript\">window.PlotlyConfig = {MathJaxConfig: 'local'};</script>\n",
              "        <script src=\"https://cdn.plot.ly/plotly-latest.min.js\"></script>    \n",
              "            <div id=\"5e10d0dd-4b9c-4001-8548-0229e3562420\" class=\"plotly-graph-div\" style=\"height:525px; width:100%;\"></div>\n",
              "            <script type=\"text/javascript\">\n",
              "                \n",
              "                    window.PLOTLYENV=window.PLOTLYENV || {};\n",
              "                    \n",
              "                if (document.getElementById(\"5e10d0dd-4b9c-4001-8548-0229e3562420\")) {\n",
              "                    Plotly.newPlot(\n",
              "                        '5e10d0dd-4b9c-4001-8548-0229e3562420',\n",
              "                        [{\"hoverlabel\": {\"namelength\": 0}, \"hovertemplate\": \"Length=%{x}<br>%Homochirality=%{y}<br>count=%{marker.size}\", \"legendgroup\": \"\", \"marker\": {\"color\": \"#636efa\", \"line\": {\"color\": \"DarkSlateGrey\"}, \"size\": [497, 241, 191, 153, 41, 103, 100, 61, 11, 58, 50, 47, 25, 3, 44, 40, 31, 18, 10, 2, 47, 43, 25, 20, 13, 3, 1, 34, 29, 26, 21, 7, 2, 1, 28, 25, 18, 16, 14, 5, 22, 12, 12, 12, 11, 5, 1, 13, 12, 12, 11, 11, 5, 2, 15, 13, 11, 10, 7, 7, 6, 3, 18, 16, 10, 8, 8, 5, 5, 3, 1, 10, 10, 8, 8, 7, 7, 3, 1, 1, 13, 8, 7, 7, 7, 6, 5, 3, 2, 11, 8, 5, 5, 3, 3, 1, 10, 8, 7, 6, 5, 4, 4, 2, 2, 8, 8, 4, 4, 3, 3, 3, 2, 2, 1, 10, 10, 8, 6, 6, 5, 2, 2, 2, 2, 1, 7, 5, 4, 4, 3, 3, 2, 2, 1, 1, 1, 11, 8, 6, 6, 5, 5, 3, 2, 2, 1, 6, 4, 3, 3, 3, 2, 2, 1, 1, 1, 7, 5, 3, 3, 3, 3, 3, 2, 2, 1, 1, 4, 4, 4, 2, 2, 2, 1, 6, 4, 4, 2, 2, 2, 1, 1, 1, 1, 4, 3, 3, 3, 2, 1, 1, 1, 1, 4, 4, 4, 2, 2, 2, 2, 1, 1, 1, 1, 6, 3, 2, 2, 2, 2, 2, 1, 1, 1, 1, 1, 3, 3, 3, 2, 2, 2, 1, 1, 1, 1, 6, 3, 3, 1, 1, 1, 1, 1, 1, 1, 3, 2, 1, 1, 1, 1, 1, 1, 1, 1, 3, 3, 2, 2, 2, 2, 2, 2, 1, 1, 1, 1, 1, 3, 3, 3, 3, 3, 2, 2, 1, 1, 1, 1, 1, 1, 1, 6, 4, 3, 1, 1, 1, 1, 1, 1, 1, 4, 4, 3, 2, 1, 1, 1, 1, 1, 1, 5, 3, 3, 3, 3, 3, 2, 1, 1, 1, 3, 3, 2, 2, 1, 1, 1, 1, 1, 1, 1, 2, 2, 2, 2, 1, 1, 1, 1, 4, 4, 2, 1, 1, 1, 3, 2, 1, 1, 1, 1, 1, 1, 1, 2, 2, 1, 1, 1, 1, 1, 1, 1, 1, 2, 1, 1, 1, 1, 1, 1, 1, 1, 2, 1, 1, 1, 1, 2, 1, 1, 1, 1, 3, 2, 2, 2, 1, 1, 1, 1, 1, 4, 3, 2, 1, 1, 1, 1, 3, 1, 1, 1, 1, 2, 2, 1, 1, 1, 1, 5, 2, 1, 1, 1, 1, 1, 3, 1, 1, 1, 1, 1, 1, 2, 2, 2, 1, 1, 1, 2, 1, 1, 1, 1, 1, 1, 1, 1, 1, 1, 1, 1, 3, 1, 1, 1, 1, 1, 1, 1, 1, 1, 1, 1, 1, 1, 1, 1, 2, 1, 1, 1, 1, 1, 1, 1, 1, 1, 1, 1, 1, 2, 1, 1, 1, 1, 1, 3, 1, 1, 1, 2, 1, 2, 2, 1, 1, 1, 1, 1, 1, 2, 1, 1, 1, 1, 1, 1, 2, 2, 2, 1, 1, 1, 1, 2, 1, 1, 1, 1, 1, 1, 1, 2, 2, 1, 1, 1, 1, 1, 2, 1, 1, 1, 1, 1, 1, 1, 1, 1, 2, 1, 1, 1, 1, 1, 2, 1, 1, 1, 1, 1, 1, 1, 1, 2, 1, 1, 1, 1, 1, 1, 1, 1, 1, 1, 1, 1, 1, 1, 1, 3, 1, 1, 1, 1, 1, 1, 2, 1, 1, 1, 1, 2, 1, 1, 1, 1, 1, 1, 2, 1, 1, 1, 1, 1, 1, 1, 1, 1, 1, 1, 1, 1, 1, 1, 2, 1, 1, 1, 1, 1, 1, 1, 1, 1, 1, 1, 1, 1, 1, 1, 1, 1, 1, 1, 1, 2, 1, 1, 1, 1, 1, 1, 1, 1, 1, 2, 1, 1, 1, 1, 1, 2, 1, 1, 1, 1, 1, 1, 1, 1, 2, 1, 1, 1, 1, 1, 1, 1, 1, 1, 1, 1, 1, 1, 1, 1, 1, 1, 1, 1, 1, 1, 1, 1, 1, 1, 1, 1, 1, 2, 1, 1, 1, 1, 1, 1, 1, 1, 1, 1, 1, 1, 1, 1, 2, 1, 1, 1, 1, 1, 1, 1, 1, 1, 1, 1, 1, 2, 1, 1, 1, 1, 1, 1, 1, 1, 1, 1, 1, 1, 1, 1, 1, 1, 1, 1, 1, 1, 1, 1, 1, 1, 1, 1, 1, 1, 1, 1, 1, 1, 1, 1, 1, 1, 1, 1, 1], \"sizemode\": \"area\", \"sizeref\": 1.2425, \"symbol\": \"circle\"}, \"mode\": \"markers\", \"name\": \"\", \"showlegend\": false, \"type\": \"scatter\", \"x\": [2, 2, 3, 3, 3, 4, 4, 4, 4, 5, 5, 5, 5, 5, 6, 6, 6, 6, 6, 6, 7, 7, 7, 7, 7, 7, 7, 8, 8, 8, 8, 8, 8, 8, 9, 9, 9, 9, 9, 9, 10, 10, 10, 10, 10, 10, 10, 11, 11, 11, 11, 11, 11, 11, 12, 12, 12, 12, 12, 12, 12, 12, 13, 13, 13, 13, 13, 13, 13, 13, 13, 14, 14, 14, 14, 14, 14, 14, 14, 14, 15, 15, 15, 15, 15, 15, 15, 15, 15, 16, 16, 16, 16, 16, 16, 16, 17, 17, 17, 17, 17, 17, 17, 17, 17, 18, 18, 18, 18, 18, 18, 18, 18, 18, 18, 19, 19, 19, 19, 19, 19, 19, 19, 19, 19, 19, 20, 20, 20, 20, 20, 20, 20, 20, 20, 20, 20, 21, 21, 21, 21, 21, 21, 21, 21, 21, 21, 22, 22, 22, 22, 22, 22, 22, 22, 22, 22, 23, 23, 23, 23, 23, 23, 23, 23, 23, 23, 23, 24, 24, 24, 24, 24, 24, 24, 25, 25, 25, 25, 25, 25, 25, 25, 25, 25, 26, 26, 26, 26, 26, 26, 26, 26, 26, 27, 27, 27, 27, 27, 27, 27, 27, 27, 27, 27, 28, 28, 28, 28, 28, 28, 28, 28, 28, 28, 28, 28, 29, 29, 29, 29, 29, 29, 29, 29, 29, 29, 30, 30, 30, 30, 30, 30, 30, 30, 30, 30, 31, 31, 31, 31, 31, 31, 31, 31, 31, 31, 32, 32, 32, 32, 32, 32, 32, 32, 32, 32, 32, 32, 32, 33, 33, 33, 33, 33, 33, 33, 33, 33, 33, 33, 33, 33, 33, 34, 34, 34, 34, 34, 34, 34, 34, 34, 34, 35, 35, 35, 35, 35, 35, 35, 35, 35, 35, 36, 36, 36, 36, 36, 36, 36, 36, 36, 36, 37, 37, 37, 37, 37, 37, 37, 37, 37, 37, 37, 38, 38, 38, 38, 38, 38, 38, 38, 39, 39, 39, 39, 39, 39, 40, 40, 40, 40, 40, 40, 40, 40, 40, 41, 41, 41, 41, 41, 41, 41, 41, 41, 41, 42, 42, 42, 42, 42, 42, 42, 42, 42, 43, 43, 43, 43, 43, 44, 44, 44, 44, 44, 45, 45, 45, 45, 45, 45, 45, 45, 45, 46, 46, 46, 46, 46, 46, 46, 47, 47, 47, 47, 47, 48, 48, 48, 48, 48, 48, 49, 49, 49, 49, 49, 49, 49, 50, 50, 50, 50, 50, 50, 50, 51, 51, 51, 51, 51, 51, 52, 52, 52, 52, 52, 52, 52, 53, 53, 53, 53, 53, 53, 54, 54, 54, 54, 54, 54, 55, 55, 55, 55, 55, 55, 55, 55, 55, 55, 56, 56, 56, 56, 56, 56, 56, 56, 56, 57, 57, 57, 57, 58, 58, 59, 59, 59, 59, 60, 60, 60, 60, 61, 61, 62, 62, 62, 62, 62, 62, 62, 62, 63, 63, 63, 63, 63, 63, 63, 64, 64, 64, 64, 64, 64, 64, 65, 65, 65, 65, 65, 65, 65, 65, 66, 66, 66, 66, 66, 66, 66, 67, 67, 67, 67, 67, 67, 67, 67, 67, 67, 68, 68, 68, 68, 68, 68, 69, 69, 69, 70, 70, 70, 70, 70, 70, 71, 71, 71, 71, 71, 71, 71, 71, 72, 72, 72, 72, 72, 72, 72, 72, 73, 73, 73, 73, 73, 73, 73, 74, 74, 74, 74, 74, 75, 75, 75, 75, 75, 75, 75, 76, 76, 76, 76, 76, 77, 77, 77, 78, 78, 78, 78, 79, 79, 79, 79, 80, 80, 80, 81, 82, 82, 82, 83, 84, 84, 85, 85, 85, 86, 86, 86, 87, 88, 88, 89, 89, 90, 90, 90, 90, 91, 91, 91, 91, 91, 91, 92, 92, 93, 93, 94, 94, 95, 95, 95, 95, 96, 96, 96, 97, 97, 98, 99, 99, 100, 100, 100, 102, 103, 103, 103, 104, 104, 105, 105, 105, 106, 106, 106, 107, 107, 107, 107, 107, 107, 108, 109, 110, 112, 112, 113, 113, 113, 114, 115, 115, 116, 116, 116, 117, 118, 118, 118, 118, 118, 119, 119, 119, 120, 120, 120, 121, 122, 124, 124, 124, 125, 125, 126, 134, 136, 139, 139, 141, 142, 142, 146, 147, 149, 152, 154, 157, 158, 159, 159, 167, 170, 171, 176, 177, 178, 178, 178, 179, 179, 180, 181, 192, 212, 215, 216, 262, 272, 277, 290, 305, 316, 317], \"xaxis\": \"x\", \"y\": [1.0, 0.0, 1.0, 0.5, 0.0, 1.0, 0.6666666666666666, 0.3333333333333333, 0.0, 1.0, 0.75, 0.5, 0.25, 0.0, 1.0, 0.8, 0.6, 0.4, 0.2, 0.0, 1.0, 0.8333333333333334, 0.6666666666666666, 0.5, 0.3333333333333333, 0.16666666666666666, 0.0, 0.7142857142857143, 0.8571428571428571, 1.0, 0.5714285714285714, 0.42857142857142855, 0.2857142857142857, 0.0, 0.875, 0.75, 1.0, 0.5, 0.625, 0.375, 0.7777777777777778, 0.6666666666666666, 0.8888888888888888, 1.0, 0.5555555555555556, 0.4444444444444444, 0.3333333333333333, 0.7, 0.6, 0.8, 0.9, 1.0, 0.5, 0.4, 0.8181818181818182, 0.6363636363636364, 0.9090909090909091, 0.7272727272727273, 0.45454545454545453, 1.0, 0.5454545454545454, 0.36363636363636365, 0.75, 0.8333333333333334, 0.9166666666666666, 0.5, 0.5833333333333334, 0.6666666666666666, 1.0, 0.4166666666666667, 0.3333333333333333, 0.6923076923076923, 0.8461538461538461, 0.5384615384615384, 0.6153846153846154, 0.7692307692307693, 0.9230769230769231, 0.46153846153846156, 0.3076923076923077, 1.0, 0.6428571428571429, 1.0, 0.7142857142857143, 0.7857142857142857, 0.8571428571428571, 0.9285714285714286, 0.5, 0.5714285714285714, 0.42857142857142855, 0.8, 0.9333333333333333, 0.6, 0.7333333333333333, 0.6666666666666666, 0.8666666666666667, 0.5333333333333333, 0.75, 1.0, 0.875, 0.6875, 0.8125, 0.5, 0.625, 0.5625, 0.9375, 0.7647058823529411, 1.0, 0.8235294117647058, 0.8823529411764706, 0.5882352941176471, 0.6470588235294118, 0.7058823529411765, 0.5294117647058824, 0.9411764705882353, 0.4117647058823529, 0.8333333333333334, 1.0, 0.8888888888888888, 0.7777777777777778, 0.9444444444444444, 0.6666666666666666, 0.5, 0.5555555555555556, 0.6111111111111112, 0.7222222222222222, 0.3888888888888889, 0.8421052631578947, 1.0, 0.7894736842105263, 0.8947368421052632, 0.631578947368421, 0.6842105263157895, 0.5263157894736842, 0.9473684210526315, 0.47368421052631576, 0.5789473684210527, 0.7368421052631579, 1.0, 0.75, 0.65, 0.7, 0.8, 0.85, 0.55, 0.5, 0.95, 0.6, 0.8095238095238095, 0.6666666666666666, 0.6190476190476191, 0.7142857142857143, 0.8571428571428571, 0.7619047619047619, 0.9523809523809523, 0.47619047619047616, 0.5238095238095238, 0.5714285714285714, 0.8636363636363636, 0.8181818181818182, 0.5454545454545454, 0.6818181818181818, 0.7272727272727273, 0.7727272727272727, 0.9545454545454546, 0.5, 0.6363636363636364, 0.45454545454545453, 0.5909090909090909, 0.6956521739130435, 0.7391304347826086, 0.782608695652174, 0.6086956521739131, 0.8260869565217391, 0.8695652173913043, 0.5217391304347826, 0.8333333333333334, 0.7083333333333334, 0.75, 0.625, 0.875, 0.9166666666666666, 0.5833333333333334, 0.6666666666666666, 0.7916666666666666, 0.9583333333333334, 0.76, 0.68, 0.84, 0.92, 0.6, 0.44, 0.72, 0.8, 0.88, 0.7307692307692307, 0.7692307692307693, 1.0, 0.6923076923076923, 0.8076923076923077, 0.8461538461538461, 0.8846153846153846, 0.46153846153846156, 0.5769230769230769, 0.6538461538461539, 0.9230769230769231, 0.7777777777777778, 0.7407407407407407, 0.6296296296296297, 0.7037037037037037, 0.8148148148148148, 0.8518518518518519, 1.0, 0.5555555555555556, 0.5925925925925926, 0.6666666666666666, 0.8888888888888888, 0.9629629629629629, 0.7142857142857143, 0.75, 0.7857142857142857, 0.5714285714285714, 0.6428571428571429, 0.6785714285714286, 0.6071428571428571, 0.8214285714285714, 0.8928571428571429, 0.9642857142857143, 0.7586206896551724, 0.6896551724137931, 0.7241379310344828, 0.4827586206896552, 0.6551724137931034, 0.7931034482758621, 0.8620689655172413, 0.896551724137931, 0.9310344827586207, 0.9655172413793104, 0.7, 0.7333333333333333, 0.5, 0.5333333333333333, 0.6666666666666666, 0.7666666666666667, 0.8333333333333334, 0.8666666666666667, 0.9, 0.9666666666666667, 0.8709677419354839, 1.0, 0.6451612903225806, 0.6774193548387096, 0.7096774193548387, 0.7741935483870968, 0.8387096774193549, 0.9354838709677419, 0.5161290322580645, 0.5483870967741935, 0.5806451612903226, 0.7419354838709677, 0.9032258064516129, 0.6875, 0.71875, 0.78125, 0.8125, 0.84375, 0.65625, 0.875, 0.5, 0.5625, 0.625, 0.75, 0.9375, 0.96875, 1.0, 0.7575757575757576, 0.6666666666666666, 0.5757575757575758, 0.48484848484848486, 0.696969696969697, 0.7272727272727273, 0.7878787878787878, 0.8181818181818182, 0.8484848484848485, 0.9696969696969697, 0.7647058823529411, 0.9411764705882353, 0.7058823529411765, 0.6470588235294118, 0.5882352941176471, 0.6764705882352942, 0.7352941176470589, 0.7941176470588235, 0.8235294117647058, 0.8529411764705882, 0.6571428571428571, 0.6857142857142857, 0.7428571428571429, 0.7714285714285715, 0.8, 0.9428571428571428, 0.8857142857142857, 0.7142857142857143, 0.8571428571428571, 0.9142857142857143, 0.6666666666666666, 0.75, 0.8055555555555556, 0.8333333333333334, 0.5555555555555556, 0.5833333333333334, 0.6388888888888888, 0.6944444444444444, 0.7222222222222222, 0.8611111111111112, 0.9722222222222222, 0.6216216216216216, 0.6486486486486487, 0.7297297297297297, 0.8108108108108109, 0.8378378378378378, 0.8648648648648649, 0.8918918918918919, 0.918918918918919, 0.6052631578947368, 0.868421052631579, 1.0, 0.631578947368421, 0.8421052631578947, 0.8947368421052632, 0.7948717948717948, 0.9743589743589743, 0.5897435897435898, 0.6410256410256411, 0.6666666666666666, 0.7435897435897436, 0.7692307692307693, 0.8205128205128205, 0.8974358974358975, 0.65, 0.85, 0.575, 0.725, 0.75, 0.8, 0.825, 0.9, 0.925, 0.95, 0.7804878048780488, 0.5609756097560976, 0.6585365853658537, 0.6829268292682927, 0.7073170731707317, 0.7317073170731707, 0.8048780487804879, 0.9024390243902439, 0.926829268292683, 0.7857142857142857, 0.5952380952380952, 0.7380952380952381, 0.7619047619047619, 0.8333333333333334, 0.7906976744186046, 0.6744186046511628, 0.8372093023255814, 0.8604651162790697, 0.9069767441860465, 0.8181818181818182, 0.7727272727272727, 0.8409090909090909, 0.9090909090909091, 0.6136363636363636, 0.6363636363636364, 0.6590909090909091, 0.6818181818181818, 0.7272727272727273, 0.8444444444444444, 0.8222222222222222, 0.8, 0.6, 0.7555555555555555, 0.8888888888888888, 0.9111111111111111, 0.8260869565217391, 0.6086956521739131, 0.6739130434782609, 0.782608695652174, 0.8913043478260869, 0.7659574468085106, 0.7872340425531915, 0.6382978723404256, 0.6808510638297872, 0.851063829787234, 0.8723404255319149, 0.7916666666666666, 0.7291666666666666, 0.6458333333333334, 0.6666666666666666, 0.8125, 0.8333333333333334, 0.9791666666666666, 0.7755102040816326, 0.6326530612244898, 0.7346938775510204, 0.7959183673469388, 0.8163265306122449, 0.8775510204081632, 0.9795918367346939, 0.66, 0.76, 0.82, 0.74, 0.86, 0.98, 0.803921568627451, 0.5294117647058824, 0.6470588235294118, 0.7254901960784313, 0.7843137254901961, 0.8235294117647058, 0.8431372549019608, 0.6538461538461539, 0.7115384615384616, 0.7884615384615384, 0.8076923076923077, 0.8269230769230769, 0.9615384615384616, 0.8301886792452831, 0.660377358490566, 0.6981132075471698, 0.7169811320754716, 0.7735849056603774, 0.7924528301886793, 0.6481481481481481, 0.6851851851851852, 0.7037037037037037, 0.7222222222222222, 0.7592592592592593, 0.7777777777777778, 0.8148148148148148, 0.8333333333333334, 0.8518518518518519, 0.9629629629629629, 0.6727272727272727, 0.7090909090909091, 0.7272727272727273, 0.7454545454545455, 0.7636363636363637, 0.8, 0.8181818181818182, 0.8545454545454545, 0.9090909090909091, 0.6428571428571429, 0.7678571428571429, 0.8035714285714286, 0.9464285714285714, 0.8070175438596491, 0.6666666666666666, 0.6724137931034483, 0.7413793103448276, 0.7586206896551724, 0.7931034482758621, 0.7796610169491526, 0.6610169491525424, 0.6949152542372882, 0.7966101694915254, 0.7833333333333333, 0.6, 0.6065573770491803, 1.0, 0.6885245901639344, 0.7377049180327869, 0.8032786885245902, 0.819672131147541, 0.8852459016393442, 0.9836065573770492, 0.7741935483870968, 0.5967741935483871, 0.7096774193548387, 0.7903225806451613, 0.9354838709677419, 0.967741935483871, 1.0, 0.6507936507936508, 0.7619047619047619, 1.0, 0.6031746031746031, 0.7142857142857143, 0.7936507936507936, 0.9206349206349206, 0.8125, 0.59375, 0.65625, 0.703125, 0.734375, 0.75, 0.90625, 0.96875, 0.7846153846153846, 0.8, 0.6, 0.6307692307692307, 0.6615384615384615, 0.7230769230769231, 0.9846153846153847, 0.7878787878787878, 0.5909090909090909, 0.6212121212121212, 0.696969696969697, 0.7272727272727273, 0.7727272727272727, 0.803030303030303, 0.8939393939393939, 0.9242424242424242, 0.9545454545454546, 0.7910447761194029, 0.5970149253731343, 0.6567164179104478, 0.7014925373134329, 0.8507462686567164, 0.8805970149253731, 0.7352941176470589, 0.7205882352941176, 0.7647058823529411, 0.6086956521739131, 0.6956521739130435, 0.7391304347826086, 0.7681159420289855, 0.8405797101449275, 0.8985507246376812, 0.7857142857142857, 0.6, 0.6857142857142857, 0.7285714285714285, 0.7428571428571429, 0.7714285714285715, 0.8714285714285714, 0.9, 0.7323943661971831, 0.7464788732394366, 0.7746478873239436, 0.7887323943661971, 0.8028169014084507, 0.8169014084507042, 0.8591549295774648, 0.8873239436619719, 0.7638888888888888, 0.6805555555555556, 0.7222222222222222, 0.7916666666666666, 0.8333333333333334, 0.875, 0.8888888888888888, 0.821917808219178, 0.7534246575342466, 0.8493150684931506, 0.863013698630137, 0.8767123287671232, 0.8108108108108109, 0.6216216216216216, 0.7162162162162162, 0.7297297297297297, 0.7567567567567568, 0.7702702702702703, 0.8378378378378378, 0.8, 0.68, 0.72, 0.7333333333333333, 0.8266666666666667, 0.6710526315789473, 0.7368421052631579, 0.7894736842105263, 0.6753246753246753, 0.7142857142857143, 0.8571428571428571, 0.8831168831168831, 0.5897435897435898, 0.6794871794871795, 0.717948717948718, 0.8589743589743589, 0.6835443037974683, 0.8607594936708861, 0.8734177215189873, 0.6875, 0.8148148148148148, 0.8395061728395061, 0.8765432098765432, 0.6829268292682927, 0.8433734939759037, 0.8554216867469879, 0.6666666666666666, 0.75, 0.7738095238095238, 0.7647058823529411, 0.8470588235294118, 0.8588235294117647, 0.7093023255813954, 0.5747126436781609, 0.7011494252873564, 0.7954545454545454, 0.8409090909090909, 0.7078651685393258, 0.6853932584269663, 0.7865168539325843, 0.8202247191011236, 0.7333333333333333, 0.7666666666666667, 0.7777777777777778, 0.7888888888888889, 0.8222222222222222, 0.8555555555555555, 0.8351648351648352, 0.8131868131868132, 0.7391304347826086, 0.7717391304347826, 0.8494623655913979, 0.9032258064516129, 0.7553191489361702, 0.7340425531914894, 0.851063829787234, 0.9042553191489362, 0.7473684210526316, 0.7789473684210526, 0.8, 0.8020833333333334, 0.9166666666666666, 0.9484536082474226, 0.8061224489795918, 0.8163265306122449, 0.7474747474747475, 0.7575757575757576, 0.9494949494949495, 0.693069306930693, 0.7254901960784313, 0.8137254901960784, 0.8431372549019608, 0.8446601941747572, 0.912621359223301, 0.7019230769230769, 0.7884615384615384, 0.9134615384615384, 0.6666666666666666, 0.6952380952380952, 0.8285714285714286, 0.6698113207547169, 0.6981132075471698, 0.7830188679245284, 0.7924528301886793, 0.8113207547169812, 0.9056603773584906, 0.7009345794392523, 0.8333333333333334, 0.6788990825688074, 0.8018018018018018, 0.8558558558558559, 0.8839285714285714, 0.6785714285714286, 0.7142857142857143, 0.7079646017699115, 0.7368421052631579, 0.8859649122807017, 0.7565217391304347, 0.8173913043478261, 0.8869565217391304, 0.8793103448275862, 0.7094017094017094, 0.7350427350427351, 0.7435897435897436, 0.7692307692307693, 0.9230769230769231, 0.7711864406779662, 0.7966101694915254, 0.8559322033898306, 0.7563025210084033, 0.773109243697479, 0.7983193277310925, 0.75, 0.7520661157024794, 0.7398373983739838, 0.7560975609756098, 0.8780487804878049, 0.7338709677419355, 0.7661290322580645, 0.76, 0.7293233082706767, 0.7333333333333333, 0.7246376811594203, 0.7318840579710145, 0.7214285714285714, 0.723404255319149, 0.8936170212765957, 0.7862068965517242, 0.7054794520547946, 0.8108108108108109, 0.8145695364238411, 0.8104575163398693, 0.7564102564102564, 0.89171974522293, 0.7025316455696202, 0.8037974683544303, 0.7710843373493976, 0.7396449704142012, 0.7588235294117647, 0.76, 0.7556818181818182, 0.7457627118644068, 0.751412429378531, 0.7570621468926554, 0.7415730337078652, 0.7528089887640449, 0.7430167597765364, 0.7555555555555555, 0.7853403141361257, 0.7582938388625592, 0.7523364485981309, 0.7534883720930232, 0.8007662835249042, 0.8118081180811808, 0.7971014492753623, 0.7993079584775087, 0.7894736842105263, 0.7904761904761904, 0.7879746835443038], \"yaxis\": \"y\"}],\n",
              "                        {\"legend\": {\"itemsizing\": \"constant\", \"tracegroupgap\": 0}, \"margin\": {\"t\": 60}, \"template\": {\"data\": {\"bar\": [{\"error_x\": {\"color\": \"#2a3f5f\"}, \"error_y\": {\"color\": \"#2a3f5f\"}, \"marker\": {\"line\": {\"color\": \"#E5ECF6\", \"width\": 0.5}}, \"type\": \"bar\"}], \"barpolar\": [{\"marker\": {\"line\": {\"color\": \"#E5ECF6\", \"width\": 0.5}}, \"type\": \"barpolar\"}], \"carpet\": [{\"aaxis\": {\"endlinecolor\": \"#2a3f5f\", \"gridcolor\": \"white\", \"linecolor\": \"white\", \"minorgridcolor\": \"white\", \"startlinecolor\": \"#2a3f5f\"}, \"baxis\": {\"endlinecolor\": \"#2a3f5f\", \"gridcolor\": \"white\", \"linecolor\": \"white\", \"minorgridcolor\": \"white\", \"startlinecolor\": \"#2a3f5f\"}, \"type\": \"carpet\"}], \"choropleth\": [{\"colorbar\": {\"outlinewidth\": 0, \"ticks\": \"\"}, \"type\": \"choropleth\"}], \"contour\": [{\"colorbar\": {\"outlinewidth\": 0, \"ticks\": \"\"}, \"colorscale\": [[0.0, \"#0d0887\"], [0.1111111111111111, \"#46039f\"], [0.2222222222222222, \"#7201a8\"], [0.3333333333333333, \"#9c179e\"], [0.4444444444444444, \"#bd3786\"], [0.5555555555555556, \"#d8576b\"], [0.6666666666666666, \"#ed7953\"], [0.7777777777777778, \"#fb9f3a\"], [0.8888888888888888, \"#fdca26\"], [1.0, \"#f0f921\"]], \"type\": \"contour\"}], \"contourcarpet\": [{\"colorbar\": {\"outlinewidth\": 0, \"ticks\": \"\"}, \"type\": \"contourcarpet\"}], \"heatmap\": [{\"colorbar\": {\"outlinewidth\": 0, \"ticks\": \"\"}, \"colorscale\": [[0.0, \"#0d0887\"], [0.1111111111111111, \"#46039f\"], [0.2222222222222222, \"#7201a8\"], [0.3333333333333333, \"#9c179e\"], [0.4444444444444444, \"#bd3786\"], [0.5555555555555556, \"#d8576b\"], [0.6666666666666666, \"#ed7953\"], [0.7777777777777778, \"#fb9f3a\"], [0.8888888888888888, \"#fdca26\"], [1.0, \"#f0f921\"]], \"type\": \"heatmap\"}], \"heatmapgl\": [{\"colorbar\": {\"outlinewidth\": 0, \"ticks\": \"\"}, \"colorscale\": [[0.0, \"#0d0887\"], [0.1111111111111111, \"#46039f\"], [0.2222222222222222, \"#7201a8\"], [0.3333333333333333, \"#9c179e\"], [0.4444444444444444, \"#bd3786\"], [0.5555555555555556, \"#d8576b\"], [0.6666666666666666, \"#ed7953\"], [0.7777777777777778, \"#fb9f3a\"], [0.8888888888888888, \"#fdca26\"], [1.0, \"#f0f921\"]], \"type\": \"heatmapgl\"}], \"histogram\": [{\"marker\": {\"colorbar\": {\"outlinewidth\": 0, \"ticks\": \"\"}}, \"type\": \"histogram\"}], \"histogram2d\": [{\"colorbar\": {\"outlinewidth\": 0, \"ticks\": \"\"}, \"colorscale\": [[0.0, \"#0d0887\"], [0.1111111111111111, \"#46039f\"], [0.2222222222222222, \"#7201a8\"], [0.3333333333333333, \"#9c179e\"], [0.4444444444444444, \"#bd3786\"], [0.5555555555555556, \"#d8576b\"], [0.6666666666666666, \"#ed7953\"], [0.7777777777777778, \"#fb9f3a\"], [0.8888888888888888, \"#fdca26\"], [1.0, \"#f0f921\"]], \"type\": \"histogram2d\"}], \"histogram2dcontour\": [{\"colorbar\": {\"outlinewidth\": 0, \"ticks\": \"\"}, \"colorscale\": [[0.0, \"#0d0887\"], [0.1111111111111111, \"#46039f\"], [0.2222222222222222, \"#7201a8\"], [0.3333333333333333, \"#9c179e\"], [0.4444444444444444, \"#bd3786\"], [0.5555555555555556, \"#d8576b\"], [0.6666666666666666, \"#ed7953\"], [0.7777777777777778, \"#fb9f3a\"], [0.8888888888888888, \"#fdca26\"], [1.0, \"#f0f921\"]], \"type\": \"histogram2dcontour\"}], \"mesh3d\": [{\"colorbar\": {\"outlinewidth\": 0, \"ticks\": \"\"}, \"type\": \"mesh3d\"}], \"parcoords\": [{\"line\": {\"colorbar\": {\"outlinewidth\": 0, \"ticks\": \"\"}}, \"type\": \"parcoords\"}], \"pie\": [{\"automargin\": true, \"type\": \"pie\"}], \"scatter\": [{\"marker\": {\"colorbar\": {\"outlinewidth\": 0, \"ticks\": \"\"}}, \"type\": \"scatter\"}], \"scatter3d\": [{\"line\": {\"colorbar\": {\"outlinewidth\": 0, \"ticks\": \"\"}}, \"marker\": {\"colorbar\": {\"outlinewidth\": 0, \"ticks\": \"\"}}, \"type\": \"scatter3d\"}], \"scattercarpet\": [{\"marker\": {\"colorbar\": {\"outlinewidth\": 0, \"ticks\": \"\"}}, \"type\": \"scattercarpet\"}], \"scattergeo\": [{\"marker\": {\"colorbar\": {\"outlinewidth\": 0, \"ticks\": \"\"}}, \"type\": \"scattergeo\"}], \"scattergl\": [{\"marker\": {\"colorbar\": {\"outlinewidth\": 0, \"ticks\": \"\"}}, \"type\": \"scattergl\"}], \"scattermapbox\": [{\"marker\": {\"colorbar\": {\"outlinewidth\": 0, \"ticks\": \"\"}}, \"type\": \"scattermapbox\"}], \"scatterpolar\": [{\"marker\": {\"colorbar\": {\"outlinewidth\": 0, \"ticks\": \"\"}}, \"type\": \"scatterpolar\"}], \"scatterpolargl\": [{\"marker\": {\"colorbar\": {\"outlinewidth\": 0, \"ticks\": \"\"}}, \"type\": \"scatterpolargl\"}], \"scatterternary\": [{\"marker\": {\"colorbar\": {\"outlinewidth\": 0, \"ticks\": \"\"}}, \"type\": \"scatterternary\"}], \"surface\": [{\"colorbar\": {\"outlinewidth\": 0, \"ticks\": \"\"}, \"colorscale\": [[0.0, \"#0d0887\"], [0.1111111111111111, \"#46039f\"], [0.2222222222222222, \"#7201a8\"], [0.3333333333333333, \"#9c179e\"], [0.4444444444444444, \"#bd3786\"], [0.5555555555555556, \"#d8576b\"], [0.6666666666666666, \"#ed7953\"], [0.7777777777777778, \"#fb9f3a\"], [0.8888888888888888, \"#fdca26\"], [1.0, \"#f0f921\"]], \"type\": \"surface\"}], \"table\": [{\"cells\": {\"fill\": {\"color\": \"#EBF0F8\"}, \"line\": {\"color\": \"white\"}}, \"header\": {\"fill\": {\"color\": \"#C8D4E3\"}, \"line\": {\"color\": \"white\"}}, \"type\": \"table\"}]}, \"layout\": {\"annotationdefaults\": {\"arrowcolor\": \"#2a3f5f\", \"arrowhead\": 0, \"arrowwidth\": 1}, \"coloraxis\": {\"colorbar\": {\"outlinewidth\": 0, \"ticks\": \"\"}}, \"colorscale\": {\"diverging\": [[0, \"#8e0152\"], [0.1, \"#c51b7d\"], [0.2, \"#de77ae\"], [0.3, \"#f1b6da\"], [0.4, \"#fde0ef\"], [0.5, \"#f7f7f7\"], [0.6, \"#e6f5d0\"], [0.7, \"#b8e186\"], [0.8, \"#7fbc41\"], [0.9, \"#4d9221\"], [1, \"#276419\"]], \"sequential\": [[0.0, \"#0d0887\"], [0.1111111111111111, \"#46039f\"], [0.2222222222222222, \"#7201a8\"], [0.3333333333333333, \"#9c179e\"], [0.4444444444444444, \"#bd3786\"], [0.5555555555555556, \"#d8576b\"], [0.6666666666666666, \"#ed7953\"], [0.7777777777777778, \"#fb9f3a\"], [0.8888888888888888, \"#fdca26\"], [1.0, \"#f0f921\"]], \"sequentialminus\": [[0.0, \"#0d0887\"], [0.1111111111111111, \"#46039f\"], [0.2222222222222222, \"#7201a8\"], [0.3333333333333333, \"#9c179e\"], [0.4444444444444444, \"#bd3786\"], [0.5555555555555556, \"#d8576b\"], [0.6666666666666666, \"#ed7953\"], [0.7777777777777778, \"#fb9f3a\"], [0.8888888888888888, \"#fdca26\"], [1.0, \"#f0f921\"]]}, \"colorway\": [\"#636efa\", \"#EF553B\", \"#00cc96\", \"#ab63fa\", \"#FFA15A\", \"#19d3f3\", \"#FF6692\", \"#B6E880\", \"#FF97FF\", \"#FECB52\"], \"font\": {\"color\": \"#2a3f5f\"}, \"geo\": {\"bgcolor\": \"white\", \"lakecolor\": \"white\", \"landcolor\": \"#E5ECF6\", \"showlakes\": true, \"showland\": true, \"subunitcolor\": \"white\"}, \"hoverlabel\": {\"align\": \"left\"}, \"hovermode\": \"closest\", \"mapbox\": {\"style\": \"light\"}, \"paper_bgcolor\": \"white\", \"plot_bgcolor\": \"#E5ECF6\", \"polar\": {\"angularaxis\": {\"gridcolor\": \"white\", \"linecolor\": \"white\", \"ticks\": \"\"}, \"bgcolor\": \"#E5ECF6\", \"radialaxis\": {\"gridcolor\": \"white\", \"linecolor\": \"white\", \"ticks\": \"\"}}, \"scene\": {\"xaxis\": {\"backgroundcolor\": \"#E5ECF6\", \"gridcolor\": \"white\", \"gridwidth\": 2, \"linecolor\": \"white\", \"showbackground\": true, \"ticks\": \"\", \"zerolinecolor\": \"white\"}, \"yaxis\": {\"backgroundcolor\": \"#E5ECF6\", \"gridcolor\": \"white\", \"gridwidth\": 2, \"linecolor\": \"white\", \"showbackground\": true, \"ticks\": \"\", \"zerolinecolor\": \"white\"}, \"zaxis\": {\"backgroundcolor\": \"#E5ECF6\", \"gridcolor\": \"white\", \"gridwidth\": 2, \"linecolor\": \"white\", \"showbackground\": true, \"ticks\": \"\", \"zerolinecolor\": \"white\"}}, \"shapedefaults\": {\"line\": {\"color\": \"#2a3f5f\"}}, \"ternary\": {\"aaxis\": {\"gridcolor\": \"white\", \"linecolor\": \"white\", \"ticks\": \"\"}, \"baxis\": {\"gridcolor\": \"white\", \"linecolor\": \"white\", \"ticks\": \"\"}, \"bgcolor\": \"#E5ECF6\", \"caxis\": {\"gridcolor\": \"white\", \"linecolor\": \"white\", \"ticks\": \"\"}}, \"title\": {\"x\": 0.05}, \"xaxis\": {\"automargin\": true, \"gridcolor\": \"white\", \"linecolor\": \"white\", \"ticks\": \"\", \"title\": {\"standoff\": 15}, \"zerolinecolor\": \"white\", \"zerolinewidth\": 2}, \"yaxis\": {\"automargin\": true, \"gridcolor\": \"white\", \"linecolor\": \"white\", \"ticks\": \"\", \"title\": {\"standoff\": 15}, \"zerolinecolor\": \"white\", \"zerolinewidth\": 2}}}, \"xaxis\": {\"anchor\": \"y\", \"domain\": [0.0, 1.0], \"title\": {\"text\": \"Length\"}}, \"yaxis\": {\"anchor\": \"x\", \"domain\": [0.0, 1.0], \"title\": {\"text\": \"%Homochirality\"}}},\n",
              "                        {\"responsive\": true}\n",
              "                    ).then(function(){\n",
              "                            \n",
              "var gd = document.getElementById('5e10d0dd-4b9c-4001-8548-0229e3562420');\n",
              "var x = new MutationObserver(function (mutations, observer) {{\n",
              "        var display = window.getComputedStyle(gd).display;\n",
              "        if (!display || display === 'none') {{\n",
              "            console.log([gd, 'removed!']);\n",
              "            Plotly.purge(gd);\n",
              "            observer.disconnect();\n",
              "        }}\n",
              "}});\n",
              "\n",
              "// Listen for the removal of the full notebook cells\n",
              "var notebookContainer = gd.closest('#notebook-container');\n",
              "if (notebookContainer) {{\n",
              "    x.observe(notebookContainer, {childList: true});\n",
              "}}\n",
              "\n",
              "// Listen for the clearing of the current output cell\n",
              "var outputEl = gd.closest('.output');\n",
              "if (outputEl) {{\n",
              "    x.observe(outputEl, {childList: true});\n",
              "}}\n",
              "\n",
              "                        })\n",
              "                };\n",
              "                \n",
              "            </script>\n",
              "        </div>\n",
              "</body>\n",
              "</html>"
            ]
          },
          "metadata": {
            "tags": [
              "id15_content_3",
              "outputarea_id15",
              "user_output"
            ]
          }
        },
        {
          "output_type": "display_data",
          "data": {
            "application/javascript": [
              "window[\"db263cd8-c60e-11ea-9e0a-0242ac1c0002\"] = google.colab.output.setActiveOutputArea(window[\"daf61c1a-c60e-11ea-9e0a-0242ac1c0002\"]);\n",
              "//# sourceURL=js_52cf5ef908"
            ],
            "text/plain": [
              "<IPython.core.display.Javascript object>"
            ]
          },
          "metadata": {
            "tags": [
              "id15_content_3",
              "outputarea_id15"
            ]
          }
        },
        {
          "output_type": "display_data",
          "data": {
            "application/javascript": [
              "window[\"db27e1dc-c60e-11ea-9e0a-0242ac1c0002\"] = google.colab.output.getActiveOutputArea();\n",
              "//# sourceURL=js_c4f9edd4a0"
            ],
            "text/plain": [
              "<IPython.core.display.Javascript object>"
            ]
          },
          "metadata": {
            "tags": [
              "id15_content_4",
              "outputarea_id15"
            ]
          }
        },
        {
          "output_type": "display_data",
          "data": {
            "application/javascript": [
              "window[\"db282282-c60e-11ea-9e0a-0242ac1c0002\"] = document.querySelector(\"#id15_content_4\");\n",
              "//# sourceURL=js_f2f431ad9c"
            ],
            "text/plain": [
              "<IPython.core.display.Javascript object>"
            ]
          },
          "metadata": {
            "tags": [
              "id15_content_4",
              "outputarea_id15"
            ]
          }
        },
        {
          "output_type": "display_data",
          "data": {
            "application/javascript": [
              "window[\"db28aaea-c60e-11ea-9e0a-0242ac1c0002\"] = google.colab.output.setActiveOutputArea(window[\"db282282-c60e-11ea-9e0a-0242ac1c0002\"]);\n",
              "//# sourceURL=js_3b3f630d59"
            ],
            "text/plain": [
              "<IPython.core.display.Javascript object>"
            ]
          },
          "metadata": {
            "tags": [
              "id15_content_4",
              "outputarea_id15"
            ]
          }
        },
        {
          "output_type": "display_data",
          "data": {
            "text/html": [
              "<html>\n",
              "<head><meta charset=\"utf-8\" /></head>\n",
              "<body>\n",
              "    <div>\n",
              "            <script src=\"https://cdnjs.cloudflare.com/ajax/libs/mathjax/2.7.5/MathJax.js?config=TeX-AMS-MML_SVG\"></script><script type=\"text/javascript\">if (window.MathJax) {MathJax.Hub.Config({SVG: {font: \"STIX-Web\"}});}</script>\n",
              "                <script type=\"text/javascript\">window.PlotlyConfig = {MathJaxConfig: 'local'};</script>\n",
              "        <script src=\"https://cdn.plot.ly/plotly-latest.min.js\"></script>    \n",
              "            <div id=\"d16610d3-950c-4dc3-ad18-d260519dcf8b\" class=\"plotly-graph-div\" style=\"height:525px; width:100%;\"></div>\n",
              "            <script type=\"text/javascript\">\n",
              "                \n",
              "                    window.PLOTLYENV=window.PLOTLYENV || {};\n",
              "                    \n",
              "                if (document.getElementById(\"d16610d3-950c-4dc3-ad18-d260519dcf8b\")) {\n",
              "                    Plotly.newPlot(\n",
              "                        'd16610d3-950c-4dc3-ad18-d260519dcf8b',\n",
              "                        [{\"hoverlabel\": {\"namelength\": 0}, \"hovertemplate\": \"Age=%{x}<br>%Homochirality=%{y}<br>count=%{marker.size}\", \"legendgroup\": \"\", \"marker\": {\"color\": \"#636efa\", \"line\": {\"color\": \"DarkSlateGrey\"}, \"size\": [181, 163, 78, 53, 20, 4, 4, 54, 16, 12, 10, 9, 2, 1, 1, 1, 39, 13, 6, 5, 5, 3, 2, 1, 1, 1, 32, 9, 5, 4, 4, 3, 1, 1, 1, 22, 7, 7, 4, 3, 2, 1, 1, 1, 1, 1, 17, 7, 2, 2, 2, 2, 1, 1, 1, 1, 1, 1, 18, 4, 2, 2, 1, 1, 1, 1, 1, 1, 1, 1, 1, 13, 5, 3, 3, 2, 1, 1, 1, 1, 10, 5, 3, 2, 1, 1, 1, 1, 1, 6, 3, 2, 2, 2, 2, 1, 1, 1, 1, 1, 1, 1, 8, 3, 2, 1, 1, 1, 1, 1, 1, 1, 1, 1, 1, 4, 3, 3, 2, 1, 1, 1, 1, 1, 1, 1, 3, 2, 2, 1, 1, 1, 1, 1, 1, 1, 1, 1, 1, 1, 3, 3, 3, 2, 1, 1, 1, 1, 1, 1, 1, 1, 1, 1, 5, 2, 2, 2, 2, 1, 1, 1, 1, 1, 1, 1, 1, 1, 6, 3, 3, 2, 2, 1, 1, 1, 1, 1, 1, 1, 1, 9, 3, 2, 2, 1, 1, 1, 1, 1, 1, 1, 1, 1, 7, 3, 2, 2, 1, 1, 1, 1, 1, 1, 1, 1, 1, 1, 1, 5, 2, 2, 2, 1, 1, 1, 1, 1, 1, 1, 1, 1, 1, 8, 3, 1, 1, 1, 1, 1, 1, 1, 1, 1, 1, 4, 2, 1, 1, 1, 1, 1, 1, 1, 1, 1, 1, 1, 1, 1, 1, 7, 3, 3, 1, 1, 1, 1, 1, 1, 1, 1, 1, 8, 2, 2, 2, 1, 1, 1, 1, 1, 1, 1, 1, 1, 1, 1, 5, 5, 3, 2, 2, 1, 1, 1, 1, 1, 1, 1, 1, 1, 8, 2, 2, 1, 1, 1, 1, 1, 1, 1, 1, 1, 1, 1, 1, 6, 4, 2, 1, 1, 1, 1, 1, 1, 1, 1, 1, 1, 1, 1, 1, 1, 13, 3, 2, 2, 2, 2, 2, 1, 1, 1, 1, 1, 1, 11, 3, 2, 2, 2, 1, 1, 1, 1, 1, 1, 1, 1, 1, 1, 1, 10, 3, 2, 1, 1, 1, 1, 1, 1, 1, 1, 1, 1, 1, 10, 4, 3, 2, 1, 1, 1, 1, 1, 1, 1, 1, 9, 2, 2, 1, 1, 1, 1, 1, 1, 1, 1, 1, 1, 1, 1, 1, 1, 6, 4, 1, 1, 1, 1, 1, 1, 1, 1, 1, 1, 1, 1, 1, 1, 7, 3, 2, 1, 1, 1, 1, 1, 1, 1, 1, 1, 1, 1, 1, 9, 3, 2, 1, 1, 1, 1, 1, 1, 1, 1, 1, 1, 1, 5, 3, 2, 1, 1, 1, 1, 1, 1, 1, 1, 1, 1, 1, 1, 1, 4, 2, 2, 1, 1, 1, 1, 1, 1, 1, 1, 1, 1, 1, 1, 1, 1, 1, 8, 3, 2, 2, 2, 1, 1, 1, 1, 1, 1, 1, 1, 1, 1, 1, 14, 5, 1, 1, 1, 1, 1, 1, 1, 1, 1, 1, 1, 1, 1, 10, 2, 1, 1, 1, 1, 1, 1, 1, 1, 1, 1, 1, 1, 1, 1, 1, 1, 1, 1, 10, 2, 2, 1, 1, 1, 1, 1, 1, 1, 1, 1, 1, 1, 1, 1, 1, 7, 2, 2, 1, 1, 1, 1, 1, 1, 1, 1, 1, 1, 1, 1, 1, 1, 1, 1, 1, 1, 7, 2, 2, 2, 2, 1, 1, 1, 1, 1, 1, 1, 1, 1, 6, 3, 2, 2, 1, 1, 1, 1, 1, 1, 1, 1, 1, 1, 1, 1, 1, 7, 3, 1, 1, 1, 1, 1, 1, 1, 1, 1, 1, 1, 1, 1, 1, 8, 4, 1, 1, 1, 1, 1, 1, 1, 1, 1, 1, 3, 2, 1, 1, 1, 1, 1, 1, 1, 1, 1, 1, 1, 1, 1, 1, 1, 1, 3, 3, 2, 2, 2, 2, 1, 1, 1, 1, 1, 1, 1, 1, 1, 1, 1, 4, 4, 2, 2, 2, 1, 1, 1, 1, 1, 1, 1, 1, 1, 1, 1, 1, 1, 7, 4, 2, 1, 1, 1, 1, 1, 1, 1, 1, 1, 1, 1, 1, 1, 1, 4, 3, 2, 2, 1, 1, 1, 1, 1, 1, 1, 1, 1, 1, 1, 1, 2, 2, 2, 1, 1, 1, 1, 1, 1, 1, 1, 1, 1, 1, 1, 1, 1, 1, 1, 1, 1, 5, 3, 2, 2, 2, 2, 1, 1, 1, 1, 1, 1, 1, 1, 1, 1, 6, 3, 2, 2, 1, 1, 1, 1, 1, 1, 1, 1, 1, 1, 1, 1, 1, 1, 4, 2, 1, 1, 1, 1, 1, 1, 1, 1, 1, 1, 1, 1, 1, 1, 1, 1, 1, 1, 3, 3, 2, 1, 1, 1, 1, 1, 1, 1, 1, 1, 1, 1, 1, 1, 1, 1, 3, 2, 2, 1, 1, 1, 1, 1, 1, 1, 1, 1, 1, 1, 1, 1, 1, 1, 1, 1, 1, 2, 2, 2, 2, 2, 1, 1, 1, 1, 1, 1, 1, 1, 1, 1, 1, 1, 1, 1, 1, 1, 4, 2, 1, 1, 1, 1, 1, 1, 1, 1, 1, 1, 1, 1, 1, 1, 1, 1, 1, 1, 1, 1, 4, 2, 1, 1, 1, 1, 1, 1, 1, 1, 1, 1, 1, 1, 1, 1, 1, 1, 1, 1, 1, 1, 1, 1, 4, 2, 1, 1, 1, 1, 1, 1, 1, 1, 1, 1, 1, 1, 1, 1, 1, 1, 1, 1, 1, 1, 1, 1, 1, 1, 4, 4, 3, 2, 2, 1, 1, 1, 1, 1, 1, 1, 1, 1, 1, 1, 1, 1, 1, 1, 1, 1, 6, 2, 2, 1, 1, 1, 1, 1, 1, 1, 1, 1, 1, 1, 1, 1, 1, 1, 1, 1, 1, 1, 1, 1, 1, 1, 5, 3, 2, 2, 1, 1, 1, 1, 1, 1, 1, 1, 1, 1, 1, 1, 1, 1, 1, 1, 1, 1, 4, 3, 3, 2, 2, 1, 1, 1, 1, 1, 1, 1, 1, 1, 1, 1, 1, 1, 1, 1, 1, 1, 1, 1, 10, 3, 2, 2, 2, 1, 1, 1, 1, 1, 1, 1, 1, 1, 1, 1, 1, 1, 1, 1, 1, 11, 3, 2, 2, 2, 1, 1, 1, 1, 1, 1, 1, 1, 1, 1, 1, 1, 1, 1, 1, 1, 1, 1, 1, 1, 14, 3, 2, 2, 2, 1, 1, 1, 1, 1, 1, 1, 1, 1, 1, 1, 1, 1, 1, 1, 1, 1, 8, 3, 2, 2, 1, 1, 1, 1, 1, 1, 1, 1, 1, 1, 1, 1, 1, 1, 1, 1, 1, 1, 1, 1, 1, 1, 9, 5, 2, 1, 1, 1, 1, 1, 1, 1, 1, 1, 1, 1, 1, 1, 1, 1, 1, 1, 1, 1, 1, 1, 1, 5, 3, 2, 2, 1, 1, 1, 1, 1, 1, 1, 1, 1, 1, 1, 1, 1, 1, 1, 1, 1, 1, 1, 8, 2, 2, 2, 2, 1, 1, 1, 1, 1, 1, 1, 1, 1, 1, 1, 1, 1, 1, 1, 1, 1, 1, 12, 2, 2, 1, 1, 1, 1, 1, 1, 1, 1, 1, 1, 1, 1, 1, 1, 1, 1, 1, 1, 1, 1, 1, 1, 1, 1, 7, 2, 2, 2, 2, 1, 1, 1, 1, 1, 1, 1, 1, 1, 1, 1, 1, 1, 1, 1, 1, 1, 1, 1, 1, 1, 1, 6, 3, 3, 2, 1, 1, 1, 1, 1, 1, 1, 1, 1, 1, 1, 1, 1, 1, 1, 1, 1, 1, 1, 1, 1, 1, 1, 1, 7, 3, 2, 2, 2, 2, 1, 1, 1, 1, 1, 1, 1, 1, 1, 1, 1, 1, 1, 1, 1, 1, 1, 1, 1, 1, 1, 1, 7, 2, 2, 2, 1, 1, 1, 1, 1, 1, 1, 1, 1, 1, 1, 1, 1, 1, 1, 1, 1, 1, 1, 1, 1, 1, 1, 1, 1, 1, 1, 8, 3, 2, 2, 2, 2, 1, 1, 1, 1, 1, 1, 1, 1, 1, 1, 1, 1, 1, 1, 1, 1, 1, 1, 1, 1, 1, 1, 1, 1, 13, 2, 2, 1, 1, 1, 1, 1, 1, 1, 1, 1, 1, 1, 1, 1, 1, 1, 1, 1, 1, 1, 1, 1, 9, 3, 2, 1, 1, 1, 1, 1, 1, 1, 1, 1, 1, 1, 1, 1, 1, 1, 1, 1, 1, 1, 1, 1, 1, 1, 6, 4, 4, 2, 1, 1, 1, 1, 1, 1, 1, 1, 1, 1, 1, 1, 1, 1, 1, 1, 1, 1, 1, 1, 12, 4, 2, 1, 1, 1, 1, 1, 1, 1, 1, 1, 1, 1, 1, 1, 1, 1, 1, 1, 1, 1, 1, 1, 1, 1, 5, 3, 2, 2, 2, 1, 1, 1, 1, 1, 1, 1, 1, 1, 1, 1, 1, 1, 1, 1, 1, 1, 1, 1, 1, 1, 1, 1, 1, 10, 3, 3, 2, 2, 2, 1, 1, 1, 1, 1, 1, 1, 1, 1, 1, 1, 1, 1, 1, 1, 1, 1, 1, 10, 4, 2, 2, 1, 1, 1, 1, 1, 1, 1, 1, 1, 1, 1, 1, 1, 1, 1, 1, 1, 1, 1, 1, 1, 1, 1, 9, 3, 2, 2, 2, 1, 1, 1, 1, 1, 1, 1, 1, 1, 1, 1, 1, 1, 1, 1, 1, 1, 1, 10, 3, 3, 1, 1, 1, 1, 1, 1, 1, 1, 1, 1, 1, 1, 1, 1, 1, 1, 1, 1, 1, 1, 9, 2, 2, 1, 1, 1, 1, 1, 1, 1, 1, 1, 1, 1, 1, 1, 1, 1, 1, 1, 1, 1, 1, 7, 2, 2, 1, 1, 1, 1, 1, 1, 1, 1, 1, 1, 1, 1, 1, 1, 1, 1, 1, 1, 1, 1, 5, 2, 1, 1, 1, 1, 1, 1, 1, 1, 1, 1, 1, 1, 1, 1, 1, 1, 1, 1, 1, 1, 1, 1, 1, 6, 2, 1, 1, 1, 1, 1, 1, 1, 1, 1, 1, 1, 1, 1, 1, 1, 1, 1, 1, 1, 1, 1, 1, 1, 1, 8, 4, 3, 2, 2, 1, 1, 1, 1, 1, 1, 1, 1, 1, 1, 1, 1, 1, 1, 1, 9, 3, 2, 1, 1, 1, 1, 1, 1, 1, 1, 1, 1, 1, 1, 1, 1, 1, 1, 1, 1, 1, 1, 12, 2, 2, 2, 1, 1, 1, 1, 1, 1, 1, 1, 1, 1, 1, 1, 1, 1, 1, 1, 1, 1, 1, 11, 3, 3, 2, 1, 1, 1, 1, 1, 1, 1, 1, 1, 1, 1, 1, 1, 1, 1, 1, 1, 1, 1, 16, 2, 2, 2, 1, 1, 1, 1, 1, 1, 1, 1, 1, 1, 1, 1, 1, 1, 1, 1, 1, 7, 3, 3, 2, 2, 2, 1, 1, 1, 1, 1, 1, 1, 1, 1, 1, 1, 1, 1, 1, 1, 1, 1, 10, 3, 2, 1, 1, 1, 1, 1, 1, 1, 1, 1, 1, 1, 1, 1, 1, 1, 1, 1, 1, 6, 2, 2, 2, 1, 1, 1, 1, 1, 1, 1, 1, 1, 1, 1, 1, 1, 1, 1, 1, 14, 1, 1, 1, 1, 1, 1, 1, 1, 1, 1, 1, 1, 1, 1, 1, 1, 1, 1, 1, 1], \"sizemode\": \"area\", \"sizeref\": 0.4525, \"symbol\": \"circle\"}, \"mode\": \"markers\", \"name\": \"\", \"showlegend\": false, \"type\": \"scattergl\", \"x\": [0, 0, 1, 1, 1, 1, 1, 2, 2, 2, 2, 2, 2, 2, 2, 2, 3, 3, 3, 3, 3, 3, 3, 3, 3, 3, 4, 4, 4, 4, 4, 4, 4, 4, 4, 5, 5, 5, 5, 5, 5, 5, 5, 5, 5, 5, 6, 6, 6, 6, 6, 6, 6, 6, 6, 6, 6, 6, 7, 7, 7, 7, 7, 7, 7, 7, 7, 7, 7, 7, 7, 8, 8, 8, 8, 8, 8, 8, 8, 8, 9, 9, 9, 9, 9, 9, 9, 9, 9, 10, 10, 10, 10, 10, 10, 10, 10, 10, 10, 10, 10, 10, 11, 11, 11, 11, 11, 11, 11, 11, 11, 11, 11, 11, 11, 12, 12, 12, 12, 12, 12, 12, 12, 12, 12, 12, 13, 13, 13, 13, 13, 13, 13, 13, 13, 13, 13, 13, 13, 13, 14, 14, 14, 14, 14, 14, 14, 14, 14, 14, 14, 14, 14, 14, 15, 15, 15, 15, 15, 15, 15, 15, 15, 15, 15, 15, 15, 15, 16, 16, 16, 16, 16, 16, 16, 16, 16, 16, 16, 16, 16, 17, 17, 17, 17, 17, 17, 17, 17, 17, 17, 17, 17, 17, 18, 18, 18, 18, 18, 18, 18, 18, 18, 18, 18, 18, 18, 18, 18, 19, 19, 19, 19, 19, 19, 19, 19, 19, 19, 19, 19, 19, 19, 20, 20, 20, 20, 20, 20, 20, 20, 20, 20, 20, 20, 21, 21, 21, 21, 21, 21, 21, 21, 21, 21, 21, 21, 21, 21, 21, 21, 22, 22, 22, 22, 22, 22, 22, 22, 22, 22, 22, 22, 23, 23, 23, 23, 23, 23, 23, 23, 23, 23, 23, 23, 23, 23, 23, 24, 24, 24, 24, 24, 24, 24, 24, 24, 24, 24, 24, 24, 24, 25, 25, 25, 25, 25, 25, 25, 25, 25, 25, 25, 25, 25, 25, 25, 26, 26, 26, 26, 26, 26, 26, 26, 26, 26, 26, 26, 26, 26, 26, 26, 26, 27, 27, 27, 27, 27, 27, 27, 27, 27, 27, 27, 27, 27, 28, 28, 28, 28, 28, 28, 28, 28, 28, 28, 28, 28, 28, 28, 28, 28, 29, 29, 29, 29, 29, 29, 29, 29, 29, 29, 29, 29, 29, 29, 30, 30, 30, 30, 30, 30, 30, 30, 30, 30, 30, 30, 31, 31, 31, 31, 31, 31, 31, 31, 31, 31, 31, 31, 31, 31, 31, 31, 31, 32, 32, 32, 32, 32, 32, 32, 32, 32, 32, 32, 32, 32, 32, 32, 32, 33, 33, 33, 33, 33, 33, 33, 33, 33, 33, 33, 33, 33, 33, 33, 34, 34, 34, 34, 34, 34, 34, 34, 34, 34, 34, 34, 34, 34, 35, 35, 35, 35, 35, 35, 35, 35, 35, 35, 35, 35, 35, 35, 35, 35, 36, 36, 36, 36, 36, 36, 36, 36, 36, 36, 36, 36, 36, 36, 36, 36, 36, 36, 37, 37, 37, 37, 37, 37, 37, 37, 37, 37, 37, 37, 37, 37, 37, 37, 38, 38, 38, 38, 38, 38, 38, 38, 38, 38, 38, 38, 38, 38, 38, 39, 39, 39, 39, 39, 39, 39, 39, 39, 39, 39, 39, 39, 39, 39, 39, 39, 39, 39, 39, 40, 40, 40, 40, 40, 40, 40, 40, 40, 40, 40, 40, 40, 40, 40, 40, 40, 41, 41, 41, 41, 41, 41, 41, 41, 41, 41, 41, 41, 41, 41, 41, 41, 41, 41, 41, 41, 41, 42, 42, 42, 42, 42, 42, 42, 42, 42, 42, 42, 42, 42, 42, 43, 43, 43, 43, 43, 43, 43, 43, 43, 43, 43, 43, 43, 43, 43, 43, 43, 44, 44, 44, 44, 44, 44, 44, 44, 44, 44, 44, 44, 44, 44, 44, 44, 45, 45, 45, 45, 45, 45, 45, 45, 45, 45, 45, 45, 46, 46, 46, 46, 46, 46, 46, 46, 46, 46, 46, 46, 46, 46, 46, 46, 46, 46, 47, 47, 47, 47, 47, 47, 47, 47, 47, 47, 47, 47, 47, 47, 47, 47, 47, 48, 48, 48, 48, 48, 48, 48, 48, 48, 48, 48, 48, 48, 48, 48, 48, 48, 48, 49, 49, 49, 49, 49, 49, 49, 49, 49, 49, 49, 49, 49, 49, 49, 49, 49, 50, 50, 50, 50, 50, 50, 50, 50, 50, 50, 50, 50, 50, 50, 50, 50, 51, 51, 51, 51, 51, 51, 51, 51, 51, 51, 51, 51, 51, 51, 51, 51, 51, 51, 51, 51, 51, 52, 52, 52, 52, 52, 52, 52, 52, 52, 52, 52, 52, 52, 52, 52, 52, 53, 53, 53, 53, 53, 53, 53, 53, 53, 53, 53, 53, 53, 53, 53, 53, 53, 53, 54, 54, 54, 54, 54, 54, 54, 54, 54, 54, 54, 54, 54, 54, 54, 54, 54, 54, 54, 54, 55, 55, 55, 55, 55, 55, 55, 55, 55, 55, 55, 55, 55, 55, 55, 55, 55, 55, 56, 56, 56, 56, 56, 56, 56, 56, 56, 56, 56, 56, 56, 56, 56, 56, 56, 56, 56, 56, 56, 57, 57, 57, 57, 57, 57, 57, 57, 57, 57, 57, 57, 57, 57, 57, 57, 57, 57, 57, 57, 57, 58, 58, 58, 58, 58, 58, 58, 58, 58, 58, 58, 58, 58, 58, 58, 58, 58, 58, 58, 58, 58, 58, 59, 59, 59, 59, 59, 59, 59, 59, 59, 59, 59, 59, 59, 59, 59, 59, 59, 59, 59, 59, 59, 59, 59, 59, 60, 60, 60, 60, 60, 60, 60, 60, 60, 60, 60, 60, 60, 60, 60, 60, 60, 60, 60, 60, 60, 60, 60, 60, 60, 60, 61, 61, 61, 61, 61, 61, 61, 61, 61, 61, 61, 61, 61, 61, 61, 61, 61, 61, 61, 61, 61, 61, 62, 62, 62, 62, 62, 62, 62, 62, 62, 62, 62, 62, 62, 62, 62, 62, 62, 62, 62, 62, 62, 62, 62, 62, 62, 62, 63, 63, 63, 63, 63, 63, 63, 63, 63, 63, 63, 63, 63, 63, 63, 63, 63, 63, 63, 63, 63, 63, 64, 64, 64, 64, 64, 64, 64, 64, 64, 64, 64, 64, 64, 64, 64, 64, 64, 64, 64, 64, 64, 64, 64, 64, 65, 65, 65, 65, 65, 65, 65, 65, 65, 65, 65, 65, 65, 65, 65, 65, 65, 65, 65, 65, 65, 66, 66, 66, 66, 66, 66, 66, 66, 66, 66, 66, 66, 66, 66, 66, 66, 66, 66, 66, 66, 66, 66, 66, 66, 66, 67, 67, 67, 67, 67, 67, 67, 67, 67, 67, 67, 67, 67, 67, 67, 67, 67, 67, 67, 67, 67, 67, 68, 68, 68, 68, 68, 68, 68, 68, 68, 68, 68, 68, 68, 68, 68, 68, 68, 68, 68, 68, 68, 68, 68, 68, 68, 68, 69, 69, 69, 69, 69, 69, 69, 69, 69, 69, 69, 69, 69, 69, 69, 69, 69, 69, 69, 69, 69, 69, 69, 69, 69, 70, 70, 70, 70, 70, 70, 70, 70, 70, 70, 70, 70, 70, 70, 70, 70, 70, 70, 70, 70, 70, 70, 70, 71, 71, 71, 71, 71, 71, 71, 71, 71, 71, 71, 71, 71, 71, 71, 71, 71, 71, 71, 71, 71, 71, 71, 72, 72, 72, 72, 72, 72, 72, 72, 72, 72, 72, 72, 72, 72, 72, 72, 72, 72, 72, 72, 72, 72, 72, 72, 72, 72, 72, 73, 73, 73, 73, 73, 73, 73, 73, 73, 73, 73, 73, 73, 73, 73, 73, 73, 73, 73, 73, 73, 73, 73, 73, 73, 73, 73, 74, 74, 74, 74, 74, 74, 74, 74, 74, 74, 74, 74, 74, 74, 74, 74, 74, 74, 74, 74, 74, 74, 74, 74, 74, 74, 74, 74, 75, 75, 75, 75, 75, 75, 75, 75, 75, 75, 75, 75, 75, 75, 75, 75, 75, 75, 75, 75, 75, 75, 75, 75, 75, 75, 75, 75, 76, 76, 76, 76, 76, 76, 76, 76, 76, 76, 76, 76, 76, 76, 76, 76, 76, 76, 76, 76, 76, 76, 76, 76, 76, 76, 76, 76, 76, 76, 76, 77, 77, 77, 77, 77, 77, 77, 77, 77, 77, 77, 77, 77, 77, 77, 77, 77, 77, 77, 77, 77, 77, 77, 77, 77, 77, 77, 77, 77, 77, 78, 78, 78, 78, 78, 78, 78, 78, 78, 78, 78, 78, 78, 78, 78, 78, 78, 78, 78, 78, 78, 78, 78, 78, 79, 79, 79, 79, 79, 79, 79, 79, 79, 79, 79, 79, 79, 79, 79, 79, 79, 79, 79, 79, 79, 79, 79, 79, 79, 79, 80, 80, 80, 80, 80, 80, 80, 80, 80, 80, 80, 80, 80, 80, 80, 80, 80, 80, 80, 80, 80, 80, 80, 80, 81, 81, 81, 81, 81, 81, 81, 81, 81, 81, 81, 81, 81, 81, 81, 81, 81, 81, 81, 81, 81, 81, 81, 81, 81, 81, 82, 82, 82, 82, 82, 82, 82, 82, 82, 82, 82, 82, 82, 82, 82, 82, 82, 82, 82, 82, 82, 82, 82, 82, 82, 82, 82, 82, 82, 83, 83, 83, 83, 83, 83, 83, 83, 83, 83, 83, 83, 83, 83, 83, 83, 83, 83, 83, 83, 83, 83, 83, 83, 84, 84, 84, 84, 84, 84, 84, 84, 84, 84, 84, 84, 84, 84, 84, 84, 84, 84, 84, 84, 84, 84, 84, 84, 84, 84, 84, 85, 85, 85, 85, 85, 85, 85, 85, 85, 85, 85, 85, 85, 85, 85, 85, 85, 85, 85, 85, 85, 85, 85, 86, 86, 86, 86, 86, 86, 86, 86, 86, 86, 86, 86, 86, 86, 86, 86, 86, 86, 86, 86, 86, 86, 86, 87, 87, 87, 87, 87, 87, 87, 87, 87, 87, 87, 87, 87, 87, 87, 87, 87, 87, 87, 87, 87, 87, 87, 88, 88, 88, 88, 88, 88, 88, 88, 88, 88, 88, 88, 88, 88, 88, 88, 88, 88, 88, 88, 88, 88, 88, 89, 89, 89, 89, 89, 89, 89, 89, 89, 89, 89, 89, 89, 89, 89, 89, 89, 89, 89, 89, 89, 89, 89, 89, 89, 90, 90, 90, 90, 90, 90, 90, 90, 90, 90, 90, 90, 90, 90, 90, 90, 90, 90, 90, 90, 90, 90, 90, 90, 90, 90, 91, 91, 91, 91, 91, 91, 91, 91, 91, 91, 91, 91, 91, 91, 91, 91, 91, 91, 91, 91, 92, 92, 92, 92, 92, 92, 92, 92, 92, 92, 92, 92, 92, 92, 92, 92, 92, 92, 92, 92, 92, 92, 92, 93, 93, 93, 93, 93, 93, 93, 93, 93, 93, 93, 93, 93, 93, 93, 93, 93, 93, 93, 93, 93, 93, 93, 94, 94, 94, 94, 94, 94, 94, 94, 94, 94, 94, 94, 94, 94, 94, 94, 94, 94, 94, 94, 94, 94, 94, 95, 95, 95, 95, 95, 95, 95, 95, 95, 95, 95, 95, 95, 95, 95, 95, 95, 95, 95, 95, 95, 96, 96, 96, 96, 96, 96, 96, 96, 96, 96, 96, 96, 96, 96, 96, 96, 96, 96, 96, 96, 96, 96, 96, 97, 97, 97, 97, 97, 97, 97, 97, 97, 97, 97, 97, 97, 97, 97, 97, 97, 97, 97, 97, 97, 98, 98, 98, 98, 98, 98, 98, 98, 98, 98, 98, 98, 98, 98, 98, 98, 98, 98, 98, 98, 99, 99, 99, 99, 99, 99, 99, 99, 99, 99, 99, 99, 99, 99, 99, 99, 99, 99, 99, 99, 99], \"xaxis\": \"x\", \"y\": [0.0, 1.0, 1.0, 0.5, 0.0, 0.3333333333333333, 0.6666666666666666, 1.0, 0.3333333333333333, 0.6666666666666666, 0.5, 0.0, 0.25, 0.2, 0.75, 0.8, 1.0, 0.5, 0.0, 0.25, 0.6666666666666666, 0.75, 0.6, 0.2, 0.3333333333333333, 0.4, 1.0, 0.5, 0.3333333333333333, 0.0, 0.6666666666666666, 0.75, 0.2, 0.5714285714285714, 0.625, 1.0, 0.5, 0.6666666666666666, 0.0, 0.6, 0.25, 0.2, 0.3333333333333333, 0.5454545454545454, 0.8, 0.8333333333333334, 1.0, 0.5, 0.3333333333333333, 0.4, 0.6666666666666666, 0.75, 0.0, 0.25, 0.6, 0.8, 0.8333333333333334, 0.8571428571428571, 1.0, 0.3333333333333333, 0.0, 0.5, 0.4, 0.5294117647058824, 0.6, 0.6363636363636364, 0.6666666666666666, 0.75, 0.8, 0.8333333333333334, 0.8571428571428571, 1.0, 0.5, 0.0, 0.6666666666666666, 0.8, 0.16666666666666666, 0.4, 0.5833333333333334, 0.7142857142857143, 1.0, 0.75, 0.3333333333333333, 0.6666666666666666, 0.0, 0.4, 0.44, 0.7142857142857143, 0.8, 1.0, 0.75, 0.0, 0.5, 0.6666666666666666, 0.7142857142857143, 0.3333333333333333, 0.46153846153846156, 0.5714285714285714, 0.6, 0.7, 0.8333333333333334, 0.8571428571428571, 1.0, 0.8, 0.0, 0.3333333333333333, 0.4, 0.5, 0.5483870967741935, 0.6, 0.6666666666666666, 0.7142857142857143, 0.7272727272727273, 0.8333333333333334, 0.875, 0.6666666666666666, 0.5, 1.0, 0.75, 0.0, 0.3333333333333333, 0.5925925925925926, 0.6, 0.625, 0.6363636363636364, 0.7777777777777778, 0.5, 0.7777777777777778, 0.8333333333333334, 0.0, 0.5714285714285714, 0.5833333333333334, 0.6071428571428571, 0.6153846153846154, 0.6428571428571429, 0.6666666666666666, 0.7142857142857143, 0.8, 0.9090909090909091, 1.0, 0.0, 0.5, 1.0, 0.6666666666666666, 0.3333333333333333, 0.5384615384615384, 0.5714285714285714, 0.6428571428571429, 0.6842105263157895, 0.75, 0.7692307692307693, 0.8181818181818182, 0.8571428571428571, 0.875, 1.0, 0.0, 0.5, 0.5555555555555556, 0.8333333333333334, 0.6428571428571429, 0.6470588235294118, 0.65, 0.6666666666666666, 0.7, 0.7142857142857143, 0.75, 0.8, 0.875, 1.0, 0.0, 0.75, 0.5, 0.6666666666666666, 0.45454545454545453, 0.5454545454545454, 0.6363636363636364, 0.7777777777777778, 0.8333333333333334, 0.8461538461538461, 0.8571428571428571, 0.9230769230769231, 1.0, 0.6666666666666666, 0.3333333333333333, 0.8, 0.0, 0.4444444444444444, 0.45454545454545453, 0.5, 0.5555555555555556, 0.6190476190476191, 0.71875, 0.8571428571428571, 0.875, 1.0, 0.8333333333333334, 0.5, 0.6666666666666666, 0.0, 0.4, 0.6153846153846154, 0.6923076923076923, 0.7058823529411765, 0.7142857142857143, 0.75, 0.8, 0.8571428571428571, 0.8888888888888888, 0.9090909090909091, 1.0, 0.0, 0.5, 0.8333333333333334, 0.6, 0.6428571428571429, 0.6785714285714286, 0.7142857142857143, 0.725, 0.76, 0.8181818181818182, 0.8571428571428571, 0.875, 0.9411764705882353, 1.0, 0.75, 0.0, 0.4, 0.5625, 0.5757575757575758, 0.6, 0.6410256410256411, 0.6666666666666666, 0.7073170731707317, 0.7777777777777778, 0.8076923076923077, 1.0, 0.6666666666666666, 0.3333333333333333, 0.5454545454545454, 0.6052631578947368, 0.6363636363636364, 0.6585365853658537, 0.7, 0.7142857142857143, 0.7297297297297297, 0.7857142857142857, 0.7878787878787878, 0.8333333333333334, 0.8571428571428571, 0.875, 0.9230769230769231, 1.0, 0.5, 0.8, 0.375, 0.5833333333333334, 0.5897435897435898, 0.6363636363636364, 0.6571428571428571, 0.7435897435897436, 0.75, 0.7586206896551724, 0.8181818181818182, 1.0, 0.3333333333333333, 0.625, 0.8333333333333334, 0.2, 0.4166666666666667, 0.6052631578947368, 0.6666666666666666, 0.7, 0.7058823529411765, 0.7380952380952381, 0.7666666666666667, 0.8, 0.8181818181818182, 0.9444444444444444, 0.75, 1.0, 0.0, 0.5, 0.875, 0.3333333333333333, 0.46153846153846156, 0.5952380952380952, 0.6, 0.625, 0.71875, 0.7575757575757576, 0.8, 0.8947368421052632, 1.0, 0.5714285714285714, 0.6923076923076923, 0.25, 0.4, 0.5, 0.6, 0.6724137931034483, 0.7058823529411765, 0.7142857142857143, 0.7307692307692307, 0.7647058823529411, 0.7777777777777778, 0.8333333333333334, 0.85, 1.0, 0.6666666666666666, 0.0, 0.25, 0.46153846153846156, 0.5, 0.6428571428571429, 0.6818181818181818, 0.6923076923076923, 0.7, 0.703125, 0.7407407407407407, 0.75, 0.7714285714285715, 0.8, 0.8571428571428571, 0.9444444444444444, 1.0, 0.0, 0.5, 0.6666666666666666, 0.75, 0.8, 0.8333333333333334, 0.42857142857142855, 0.5625, 0.696969696969697, 0.7272727272727273, 0.7777777777777778, 0.8571428571428571, 1.0, 0.5, 0.0, 0.6666666666666666, 0.75, 0.3333333333333333, 0.45454545454545453, 0.6086956521739131, 0.6923076923076923, 0.7014925373134329, 0.7241379310344828, 0.7272727272727273, 0.7692307692307693, 0.8125, 0.8181818181818182, 0.8888888888888888, 1.0, 0.8, 0.75, 0.4117647058823529, 0.6, 0.6538461538461539, 0.68, 0.7058823529411765, 0.7083333333333334, 0.7777777777777778, 0.7857142857142857, 0.7916666666666666, 0.8055555555555556, 0.8571428571428571, 1.0, 0.8, 0.5, 0.6666666666666666, 0.47368421052631576, 0.631578947368421, 0.6710526315789473, 0.6774193548387096, 0.7, 0.8125, 0.875, 0.9444444444444444, 1.0, 0.0, 0.8333333333333334, 0.47619047619047616, 0.5, 0.5714285714285714, 0.6, 0.65, 0.6666666666666666, 0.6753246753246753, 0.6875, 0.72, 0.75, 0.8181818181818182, 0.8571428571428571, 0.8666666666666667, 0.8888888888888888, 1.0, 0.5, 0.0, 0.6, 0.6363636363636364, 0.6666666666666666, 0.6794871794871795, 0.7037037037037037, 0.7222222222222222, 0.75, 0.782608695652174, 0.8, 0.8387096774193549, 0.875, 0.8846153846153846, 0.8888888888888888, 1.0, 0.5, 0.75, 0.6, 0.6363636363636364, 0.6808510638297872, 0.6835443037974683, 0.6896551724137931, 0.7777777777777778, 0.8421052631578947, 0.84375, 0.8518518518518519, 0.875, 0.9, 0.9230769230769231, 1.0, 0.5, 0.8125, 0.45454545454545453, 0.5714285714285714, 0.660377358490566, 0.6666666666666666, 0.6788990825688074, 0.7142857142857143, 0.7777777777777778, 0.8095238095238095, 0.875, 0.8846153846153846, 0.9333333333333333, 1.0, 0.625, 0.8333333333333334, 0.4166666666666667, 0.5, 0.5217391304347826, 0.6, 0.6481481481481481, 0.6785714285714286, 0.7, 0.75, 0.8, 0.8372093023255814, 0.8571428571428571, 0.9166666666666666, 0.9375, 1.0, 0.6, 0.7142857142857143, 0.45454545454545453, 0.46153846153846156, 0.5294117647058824, 0.6507936507936508, 0.6666666666666666, 0.7222222222222222, 0.75, 0.7692307692307693, 0.7843137254901961, 0.8181818181818182, 0.8333333333333334, 0.8444444444444444, 0.8571428571428571, 0.9285714285714286, 0.9473684210526315, 1.0, 0.875, 0.5, 0.6666666666666666, 0.75, 0.42857142857142855, 0.5897435897435898, 0.6, 0.6307692307692307, 0.6842105263157895, 0.7884615384615384, 0.8148148148148148, 0.82, 0.8333333333333334, 0.8571428571428571, 0.9333333333333333, 1.0, 0.5, 0.3333333333333333, 0.42857142857142855, 0.5747126436781609, 0.6212121212121212, 0.65, 0.6666666666666666, 0.8214285714285714, 0.8235294117647058, 0.8333333333333334, 0.8421052631578947, 0.8571428571428571, 0.8604651162790697, 0.9, 1.0, 0.8333333333333334, 0.0, 0.4, 0.5, 0.5294117647058824, 0.5833333333333334, 0.6, 0.6086956521739131, 0.6190476190476191, 0.6571428571428571, 0.6666666666666666, 0.7142857142857143, 0.8, 0.8181818181818182, 0.85, 0.8571428571428571, 0.8666666666666667, 0.875, 0.95, 1.0, 0.5, 0.7142857142857143, 0.4, 0.42857142857142855, 0.575, 0.6, 0.6153846153846154, 0.6451612903225806, 0.6666666666666666, 0.7307692307692307, 0.75, 0.7735849056603774, 0.8409090909090909, 0.8823529411764706, 0.8888888888888888, 0.9523809523809523, 1.0, 0.5, 0.75, 0.3333333333333333, 0.36363636363636365, 0.4, 0.4444444444444444, 0.5609756097560976, 0.5882352941176471, 0.6, 0.6216216216216216, 0.65, 0.7, 0.8, 0.8421052631578947, 0.8607594936708861, 0.8857142857142857, 0.8888888888888888, 0.8947368421052632, 0.9166666666666666, 0.9310344827586207, 1.0, 0.5, 0.625, 0.8333333333333334, 0.875, 0.2857142857142857, 0.6153846153846154, 0.6296296296296297, 0.6428571428571429, 0.6774193548387096, 0.7019230769230769, 0.7272727272727273, 0.8409090909090909, 0.9444444444444444, 1.0, 0.6666666666666666, 0.3333333333333333, 0.5, 0.375, 0.4827586206896552, 0.5882352941176471, 0.6363636363636364, 0.6952380952380952, 0.6956521739130435, 0.7, 0.78125, 0.84, 0.8444444444444444, 0.8571428571428571, 0.9032258064516129, 0.95, 1.0, 0.5, 0.25, 0.3333333333333333, 0.5384615384615384, 0.6458333333333334, 0.6818181818181818, 0.6981132075471698, 0.7083333333333334, 0.75, 0.7575757575757576, 0.7619047619047619, 0.7857142857142857, 0.8333333333333334, 0.9042553191489362, 0.9333333333333333, 1.0, 0.5, 0.2, 0.3333333333333333, 0.5714285714285714, 0.7009345794392523, 0.7096774193548387, 0.7142857142857143, 0.7333333333333333, 0.7352941176470589, 0.7857142857142857, 0.8780487804878049, 0.75, 0.6, 0.25, 0.42857142857142855, 0.4444444444444444, 0.45454545454545453, 0.48484848484848486, 0.5882352941176471, 0.6153846153846154, 0.6956521739130435, 0.7079646017699115, 0.7142857142857143, 0.76, 0.7638888888888888, 0.8333333333333334, 0.85, 0.9056603773584906, 0.9545454545454546, 0.5, 1.0, 0.6, 0.6666666666666666, 0.7333333333333333, 0.8333333333333334, 0.4, 0.45454545454545453, 0.5555555555555556, 0.625, 0.7058823529411765, 0.717948717948718, 0.7647058823529411, 0.7692307692307693, 0.7777777777777778, 0.8095238095238095, 0.8839285714285714, 0.6666666666666666, 1.0, 0.5454545454545454, 0.75, 0.8181818181818182, 0.3333333333333333, 0.4444444444444444, 0.5, 0.5384615384615384, 0.6065573770491803, 0.6382978723404256, 0.7, 0.7297297297297297, 0.7323943661971831, 0.7368421052631579, 0.7727272727272727, 0.8559322033898306, 0.9, 1.0, 0.5, 0.7368421052631579, 0.25, 0.36363636363636365, 0.4, 0.5967741935483871, 0.6326530612244898, 0.7142857142857143, 0.7222222222222222, 0.75, 0.78125, 0.8095238095238095, 0.8333333333333334, 0.8571428571428571, 0.8839285714285714, 0.9354838709677419, 0.75, 0.5, 0.3333333333333333, 1.0, 0.5384615384615384, 0.55, 0.5555555555555556, 0.59375, 0.7272727272727273, 0.7350427350427351, 0.7575757575757576, 0.7647058823529411, 0.7924528301886793, 0.875, 0.8859649122807017, 0.9411764705882353, 0.5, 0.7142857142857143, 0.8, 0.25, 0.3333333333333333, 0.4166666666666667, 0.5263157894736842, 0.5714285714285714, 0.6, 0.65625, 0.6666666666666666, 0.7352941176470589, 0.7428571428571429, 0.75, 0.7738095238095238, 0.7777777777777778, 0.78125, 0.8869565217391304, 0.9, 0.9428571428571428, 1.0, 0.5, 1.0, 0.0, 0.5909090909090909, 0.6666666666666666, 0.75, 0.5454545454545454, 0.6153846153846154, 0.6923076923076923, 0.7297297297297297, 0.7575757575757576, 0.7586206896551724, 0.7647058823529411, 0.8793103448275862, 0.9090909090909091, 0.918918918918919, 0.6666666666666666, 1.0, 0.7647058823529411, 0.8333333333333334, 0.3333333333333333, 0.5, 0.5333333333333333, 0.5555555555555556, 0.5833333333333334, 0.5970149253731343, 0.6857142857142857, 0.7096774193548387, 0.7142857142857143, 0.72, 0.7474747474747475, 0.8714285714285714, 0.8947368421052632, 0.9111111111111111, 1.0, 0.75, 0.5, 0.55, 0.6, 0.6065573770491803, 0.6363636363636364, 0.6451612903225806, 0.6470588235294118, 0.6571428571428571, 0.6666666666666666, 0.6857142857142857, 0.7037037037037037, 0.7142857142857143, 0.7428571428571429, 0.7872340425531915, 0.8181818181818182, 0.8591549295774648, 0.8775510204081632, 0.8974358974358975, 0.75, 1.0, 0.8, 0.5, 0.5238095238095238, 0.6031746031746031, 0.625, 0.6571428571428571, 0.6666666666666666, 0.6764705882352942, 0.6923076923076923, 0.7078651685393258, 0.7090909090909091, 0.7777777777777778, 0.8095238095238095, 0.8222222222222222, 0.86, 0.863013698630137, 1.0, 0.6666666666666666, 0.8125, 0.0, 0.5263157894736842, 0.5806451612903226, 0.6, 0.625, 0.6388888888888888, 0.6470588235294118, 0.65, 0.6571428571428571, 0.6949152542372882, 0.7352941176470589, 0.7777777777777778, 0.7916666666666666, 0.7924528301886793, 0.8, 0.8947368421052632, 0.9166666666666666, 0.926829268292683, 0.5, 0.5714285714285714, 0.6666666666666666, 0.8, 1.0, 0.0, 0.5625, 0.6, 0.6086956521739131, 0.6486486486486487, 0.7096774193548387, 0.7391304347826086, 0.75, 0.76, 0.7692307692307693, 0.7755102040816326, 0.7954545454545454, 0.8181818181818182, 0.8235294117647058, 0.9090909090909091, 0.9285714285714286, 1.0, 0.875, 0.0, 0.5, 0.5757575757575758, 0.625, 0.631578947368421, 0.6486486486486487, 0.65625, 0.66, 0.6666666666666666, 0.6875, 0.7142857142857143, 0.7340425531914894, 0.7428571428571429, 0.7692307692307693, 0.7777777777777778, 0.7857142857142857, 0.7865168539325843, 0.7916666666666666, 0.8888888888888888, 0.9411764705882353, 1.0, 0.6666666666666666, 0.25, 0.3333333333333333, 0.42857142857142855, 0.45454545454545453, 0.5384615384615384, 0.5555555555555556, 0.6428571428571429, 0.6567164179104478, 0.6615384615384615, 0.7307692307692307, 0.7391304347826086, 0.7464788732394366, 0.7755102040816326, 0.7777777777777778, 0.7857142857142857, 0.7894736842105263, 0.8, 0.8333333333333334, 0.868421052631579, 0.8857142857142857, 0.8888888888888888, 0.9090909090909091, 1.0, 0.6, 0.25, 0.3333333333333333, 0.375, 0.4, 0.5, 0.5714285714285714, 0.625, 0.6666666666666666, 0.7025316455696202, 0.7094017094017094, 0.7142857142857143, 0.7272727272727273, 0.7413793103448276, 0.75, 0.7534246575342466, 0.7717391304347826, 0.8, 0.8333333333333334, 0.8461538461538461, 0.8636363636363636, 0.8918918918918919, 0.9, 0.9333333333333333, 0.9642857142857143, 0.5, 1.0, 0.8, 0.3333333333333333, 0.75, 0.0, 0.2, 0.5714285714285714, 0.5882352941176471, 0.625, 0.6666666666666666, 0.7, 0.7214285714285714, 0.7293233082706767, 0.7567567567567568, 0.7727272727272727, 0.7789473684210526, 0.7948717948717948, 0.8076923076923077, 0.868421052631579, 0.875, 0.9230769230769231, 1.0, 0.6666666666666666, 0.8, 0.0, 0.16666666666666666, 0.3888888888888889, 0.5, 0.5714285714285714, 0.6, 0.6111111111111112, 0.631578947368421, 0.6829268292682927, 0.7, 0.723404255319149, 0.7241379310344828, 0.7647058823529411, 0.7678571428571429, 0.7692307692307693, 0.7777777777777778, 0.7884615384615384, 0.8148148148148148, 0.82, 0.8461538461538461, 0.868421052631579, 0.875, 0.9285714285714286, 1.0, 0.6666666666666666, 0.75, 0.7714285714285715, 0.0, 0.25, 0.3333333333333333, 0.5555555555555556, 0.5714285714285714, 0.5833333333333334, 0.6, 0.6739130434782609, 0.7058823529411765, 0.7333333333333333, 0.7553191489361702, 0.7661290322580645, 0.7804878048780488, 0.8, 0.8181818181818182, 0.8235294117647058, 0.85, 0.8666666666666667, 0.5, 0.75, 1.0, 0.6, 0.6666666666666666, 0.0, 0.2, 0.5714285714285714, 0.6052631578947368, 0.6507936507936508, 0.7222222222222222, 0.7272727272727273, 0.7285714285714285, 0.76, 0.7746478873239436, 0.7888888888888889, 0.8, 0.8076923076923077, 0.8181818181818182, 0.8333333333333334, 0.8421052631578947, 0.8636363636363636, 0.875, 0.9629629629629629, 1.0, 0.7142857142857143, 0.5, 0.75, 0.8, 0.0, 0.3333333333333333, 0.5833333333333334, 0.6, 0.6153846153846154, 0.6363636363636364, 0.6428571428571429, 0.66, 0.6610169491525424, 0.6666666666666666, 0.7560975609756098, 0.7666666666666667, 0.7830188679245284, 0.7872340425531915, 0.8333333333333334, 0.9285714285714286, 1.0, 0.8333333333333334, 0.0, 0.6666666666666666, 0.7857142857142857, 0.36363636363636365, 0.5, 0.5384615384615384, 0.6, 0.6136363636363636, 0.6428571428571429, 0.6470588235294118, 0.68, 0.7272727272727273, 0.7553191489361702, 0.7659574468085106, 0.7711864406779662, 0.7777777777777778, 0.8, 0.8020833333333334, 0.8181818181818182, 0.875, 0.8888888888888888, 0.9428571428571428, 0.9655172413793104, 1.0, 0.5, 0.5714285714285714, 0.7777777777777778, 0.8888888888888888, 0.3333333333333333, 0.5833333333333334, 0.6, 0.6538461538461539, 0.6666666666666666, 0.6818181818181818, 0.6875, 0.6923076923076923, 0.7142857142857143, 0.7473684210526316, 0.75, 0.7727272727272727, 0.8061224489795918, 0.8108108108108109, 0.8235294117647058, 0.8461538461538461, 0.8571428571428571, 1.0, 0.6666666666666666, 0.75, 0.8333333333333334, 0.0, 0.2, 0.25, 0.3076923076923077, 0.42857142857142855, 0.5757575757575758, 0.6, 0.625, 0.6785714285714286, 0.6857142857142857, 0.7575757575757576, 0.7586206896551724, 0.7714285714285715, 0.7910447761194029, 0.8, 0.8108108108108109, 0.8137254901960784, 0.8145695364238411, 0.8571428571428571, 0.875, 0.8888888888888888, 0.9090909090909091, 1.0, 0.75, 0.8333333333333334, 0.0, 0.25, 0.3333333333333333, 0.375, 0.5, 0.5714285714285714, 0.6, 0.6086956521739131, 0.6363636363636364, 0.6551724137931034, 0.6666666666666666, 0.7142857142857143, 0.7333333333333333, 0.7575757575757576, 0.7586206896551724, 0.7592592592592593, 0.8104575163398693, 0.8113207547169812, 0.8181818181818182, 0.8461538461538461, 0.9069767441860465, 0.9375, 1.0, 0.6666666666666666, 0.5, 0.7142857142857143, 0.0, 0.2857142857142857, 0.4444444444444444, 0.5714285714285714, 0.6, 0.6216216216216216, 0.7318840579710145, 0.7454545454545455, 0.75, 0.76, 0.7777777777777778, 0.8, 0.8037974683544303, 0.8181818181818182, 0.8235294117647058, 0.8260869565217391, 0.8571428571428571, 0.9090909090909091, 0.92, 1.0, 0.5555555555555556, 0.6, 0.75, 0.8333333333333334, 0.0, 0.16666666666666666, 0.6052631578947368, 0.65, 0.6944444444444444, 0.7, 0.7054794520547946, 0.7619047619047619, 0.7638888888888888, 0.7647058823529411, 0.7692307692307693, 0.7894736842105263, 0.8, 0.8125, 0.8461538461538461, 0.8470588235294118, 0.8589743589743589, 0.8888888888888888, 1.0, 0.6666666666666666, 0.7777777777777778, 0.5, 0.5454545454545454, 0.6, 0.6216216216216216, 0.6428571428571429, 0.65, 0.68, 0.7, 0.7142857142857143, 0.7272727272727273, 0.7317073170731707, 0.7398373983739838, 0.75, 0.7586206896551724, 0.7878787878787878, 0.7894736842105263, 0.8070175438596491, 0.8222222222222222, 0.8554216867469879, 0.8571428571428571, 0.9, 0.9090909090909091, 0.9375, 0.9473684210526315, 1.0, 0.3333333333333333, 0.5, 0.6666666666666666, 0.8333333333333334, 0.42857142857142855, 0.5384615384615384, 0.6111111111111112, 0.6363636363636364, 0.65, 0.6923076923076923, 0.7, 0.7169811320754716, 0.7291666666666666, 0.7435897435897436, 0.75, 0.7857142857142857, 0.7894736842105263, 0.7910447761194029, 0.7931034482758621, 0.8, 0.8131868131868132, 0.8260869565217391, 0.84, 0.8421052631578947, 0.8588235294117647, 0.9090909090909091, 1.0, 0.5, 0.8333333333333334, 0.0, 0.5555555555555556, 0.5714285714285714, 0.5769230769230769, 0.6, 0.65625, 0.6666666666666666, 0.6744186046511628, 0.7222222222222222, 0.75, 0.7565217391304347, 0.7647058823529411, 0.7796610169491526, 0.782608695652174, 0.7916666666666666, 0.7931034482758621, 0.8, 0.8125, 0.8222222222222222, 0.8235294117647058, 0.8269230769230769, 0.8461538461538461, 0.8571428571428571, 0.875, 0.8805970149253731, 1.0, 0.7777777777777778, 0.5, 0.7272727272727273, 0.75, 0.7741935483870968, 0.3333333333333333, 0.5555555555555556, 0.6, 0.6190476190476191, 0.6363636363636364, 0.6470588235294118, 0.6875, 0.6896551724137931, 0.7142857142857143, 0.7346938775510204, 0.7428571428571429, 0.7619047619047619, 0.7857142857142857, 0.8301886792452831, 0.8461538461538461, 0.8571428571428571, 0.8636363636363636, 0.875, 0.8765432098765432, 0.9, 0.9411764705882353, 0.95, 1.0, 0.5, 0.7142857142857143, 0.8333333333333334, 0.0, 0.2, 0.4, 0.5714285714285714, 0.6, 0.631578947368421, 0.6829268292682927, 0.6835443037974683, 0.6875, 0.6923076923076923, 0.74, 0.75, 0.7575757575757576, 0.7755102040816326, 0.7777777777777778, 0.7916666666666666, 0.8, 0.819672131147541, 0.8260869565217391, 0.8446601941747572, 0.8571428571428571, 0.875, 0.8852459016393442, 0.8888888888888888, 0.8947368421052632, 0.9024390243902439, 0.9166666666666666, 1.0, 0.5, 0.7333333333333333, 0.8, 0.8333333333333334, 0.875, 0.0, 0.25, 0.42857142857142855, 0.5333333333333333, 0.6470588235294118, 0.6666666666666666, 0.6853932584269663, 0.7142857142857143, 0.7254901960784313, 0.7391304347826086, 0.75, 0.76, 0.7777777777777778, 0.7906976744186046, 0.7936507936507936, 0.8181818181818182, 0.8351648351648352, 0.8405797101449275, 0.85, 0.8888888888888888, 0.9090909090909091, 0.9230769230769231, 0.9333333333333333, 0.9743589743589743, 1.0, 0.5, 0.6875, 0.0, 0.3333333333333333, 0.5161290322580645, 0.693069306930693, 0.7142857142857143, 0.7307692307692307, 0.7377049180327869, 0.75, 0.7647058823529411, 0.7727272727272727, 0.782608695652174, 0.8, 0.8173913043478261, 0.8181818181818182, 0.8431372549019608, 0.8555555555555555, 0.8636363636363636, 0.8695652173913043, 0.8823529411764706, 0.9, 0.90625, 1.0, 0.6666666666666666, 0.8333333333333334, 0.25, 0.5, 0.5714285714285714, 0.5789473684210527, 0.6727272727272727, 0.6896551724137931, 0.6956521739130435, 0.7, 0.734375, 0.7391304347826086, 0.75, 0.7659574468085106, 0.7804878048780488, 0.7966101694915254, 0.8, 0.8181818181818182, 0.8260869565217391, 0.8493150684931506, 0.8571428571428571, 0.875, 0.8939393939393939, 0.9166666666666666, 0.9242424242424242, 1.0, 0.5, 0.8333333333333334, 0.9545454545454546, 0.375, 0.55, 0.6428571428571429, 0.6698113207547169, 0.6875, 0.7, 0.7230769230769231, 0.7291666666666666, 0.75, 0.7692307692307693, 0.7916666666666666, 0.7983193277310925, 0.8, 0.8378378378378378, 0.875, 0.9, 0.9206349206349206, 0.9354838709677419, 0.9444444444444444, 0.9743589743589743, 1.0, 0.6666666666666666, 0.7777777777777778, 0.25, 0.4, 0.5, 0.5454545454545454, 0.6, 0.6428571428571429, 0.7093023255813954, 0.7205882352941176, 0.7407407407407407, 0.75, 0.7555555555555555, 0.7588235294117647, 0.7692307692307693, 0.7959183673469388, 0.8018018018018018, 0.8266666666666667, 0.8333333333333334, 0.8461538461538461, 0.8571428571428571, 0.8823529411764706, 0.9090909090909091, 0.967741935483871, 0.9791666666666666, 1.0, 0.6666666666666666, 0.5, 0.8, 0.9166666666666666, 0.5454545454545454, 0.5714285714285714, 0.6, 0.6428571428571429, 0.7011494252873564, 0.7115384615384616, 0.7142857142857143, 0.7272727272727273, 0.7419354838709677, 0.75, 0.7570621468926554, 0.7692307692307693, 0.7727272727272727, 0.782608695652174, 0.7846153846153846, 0.8222222222222222, 0.84, 0.8421052631578947, 0.8444444444444444, 0.8571428571428571, 0.9090909090909091, 0.9142857142857143, 0.9795918367346939, 0.9836065573770492, 1.0, 0.5, 0.75, 0.0, 0.6666666666666666, 0.8333333333333334, 0.6428571428571429, 0.6956521739130435, 0.6981132075471698, 0.7078651685393258, 0.71875, 0.7272727272727273, 0.7528089887640449, 0.7702702702702703, 0.7906976744186046, 0.7966101694915254, 0.8, 0.8070175438596491, 0.8169014084507042, 0.8571428571428571, 0.9, 0.9285714285714286, 0.9484536082474226, 0.9629629629629629, 1.0, 0.6666666666666666, 0.7083333333333334, 0.75, 0.0, 0.3333333333333333, 0.5, 0.6363636363636364, 0.6851851851851852, 0.6875, 0.7142857142857143, 0.7254901960784313, 0.76, 0.7857142857142857, 0.7948717948717948, 0.8, 0.8125, 0.8163265306122449, 0.8181818181818182, 0.825, 0.8333333333333334, 0.8409090909090909, 0.851063829787234, 0.8709677419354839, 0.8936170212765957, 0.9333333333333333, 0.9464285714285714, 1.0, 0.75, 0.5, 0.8, 0.8571428571428571, 0.5714285714285714, 0.5833333333333334, 0.6296296296296297, 0.6923076923076923, 0.7246376811594203, 0.7333333333333333, 0.7555555555555555, 0.7692307692307693, 0.7916666666666666, 0.8032786885245902, 0.8048780487804879, 0.8301886792452831, 0.8333333333333334, 0.8421052631578947, 0.875, 0.89171974522293, 0.92, 0.9615384615384616, 1.0, 0.75, 0.7777777777777778, 0.0, 0.3333333333333333, 0.5, 0.5384615384615384, 0.68, 0.6875, 0.7396449704142012, 0.7556818181818182, 0.7741935483870968, 0.7857142857142857, 0.7878787878787878, 0.803921568627451, 0.8095238095238095, 0.8125, 0.8205128205128205, 0.8333333333333334, 0.8461538461538461, 0.8709677419354839, 0.9230769230769231, 0.98, 1.0, 0.7619047619047619, 0.8, 0.3333333333333333, 0.5, 0.5833333333333334, 0.625, 0.6363636363636364, 0.7, 0.7391304347826086, 0.7457627118644068, 0.751412429378531, 0.7777777777777778, 0.803921568627451, 0.8125, 0.8181818181818182, 0.8333333333333334, 0.8395061728395061, 0.8421052631578947, 0.8571428571428571, 0.9, 0.9333333333333333, 0.9484536082474226, 1.0, 0.7647058823529411, 0.9230769230769231, 0.4, 0.5555555555555556, 0.6666666666666666, 0.7142857142857143, 0.7272727272727273, 0.7391304347826086, 0.7415730337078652, 0.75, 0.7582938388625592, 0.76, 0.7948717948717948, 0.8, 0.8181818181818182, 0.8351648351648352, 0.8571428571428571, 0.875, 0.8823529411764706, 0.8831168831168831, 0.9494949494949495, 0.9583333333333334, 1.0, 0.5, 0.3333333333333333, 0.5555555555555556, 0.6666666666666666, 0.7037037037037037, 0.7241379310344828, 0.7430167597765364, 0.75, 0.7523364485981309, 0.7586206896551724, 0.7638888888888888, 0.7777777777777778, 0.8, 0.8108108108108109, 0.8163265306122449, 0.8636363636363636, 0.8734177215189873, 0.8888888888888888, 0.896551724137931, 0.9166666666666666, 0.92, 0.9411764705882353, 0.9444444444444444, 0.96875, 1.0, 0.7142857142857143, 0.0, 0.4, 0.5, 0.6363636363636364, 0.6666666666666666, 0.6818181818181818, 0.696969696969697, 0.7338709677419355, 0.7407407407407407, 0.7534883720930232, 0.7741935483870968, 0.7777777777777778, 0.7857142857142857, 0.8433734939759037, 0.8507462686567164, 0.8571428571428571, 0.8636363636363636, 0.8709677419354839, 0.88, 0.8873239436619719, 0.9, 0.9090909090909091, 0.9230769230769231, 0.9696969696969697, 1.0, 0.6666666666666666, 0.8888888888888888, 0.5, 0.7, 0.6956521739130435, 0.7333333333333333, 0.75, 0.7564102564102564, 0.7586206896551724, 0.7636363636363637, 0.7862068965517242, 0.803030303030303, 0.8181818181818182, 0.8444444444444444, 0.8461538461538461, 0.8494623655913979, 0.85, 0.8648648648648649, 0.9166666666666666, 1.0, 0.75, 0.0, 0.3333333333333333, 0.625, 0.6666666666666666, 0.6857142857142857, 0.7, 0.7710843373493976, 0.7887323943661971, 0.7941176470588235, 0.8, 0.8260869565217391, 0.8301886792452831, 0.8333333333333334, 0.851063829787234, 0.8571428571428571, 0.875, 0.8928571428571429, 0.8985507246376812, 0.9166666666666666, 0.9285714285714286, 0.9846153846153847, 1.0, 0.6666666666666666, 0.7142857142857143, 0.8148148148148148, 0.0, 0.5, 0.6, 0.6153846153846154, 0.625, 0.7272727272727273, 0.7520661157024794, 0.7681159420289855, 0.782608695652174, 0.7857142857142857, 0.8007662835249042, 0.8035714285714286, 0.8333333333333334, 0.8387096774193549, 0.8461538461538461, 0.8518518518518519, 0.9, 0.9523809523809523, 0.9666666666666667, 1.0, 0.5, 0.6666666666666666, 0.8571428571428571, 0.25, 0.5555555555555556, 0.6, 0.6923076923076923, 0.7272727272727273, 0.7333333333333333, 0.76, 0.7846153846153846, 0.7971014492753623, 0.8, 0.8181818181818182, 0.821917808219178, 0.84375, 0.8636363636363636, 0.8767123287671232, 0.9090909090909091, 0.9166666666666666, 0.9354838709677419, 0.9411764705882353, 1.0, 0.5, 0.6428571428571429, 0.7647058823529411, 0.0, 0.3333333333333333, 0.6666666666666666, 0.7162162162162162, 0.7563025210084033, 0.7796610169491526, 0.7993079584775087, 0.8095238095238095, 0.8108108108108109, 0.8333333333333334, 0.84375, 0.8484848484848485, 0.8529411764705882, 0.8666666666666667, 0.8888888888888888, 0.925, 0.9428571428571428, 1.0, 0.8, 0.8333333333333334, 0.0, 0.5, 0.6666666666666666, 0.5714285714285714, 0.6727272727272727, 0.7142857142857143, 0.75, 0.7692307692307693, 0.7833333333333333, 0.7894736842105263, 0.8202247191011236, 0.821917808219178, 0.85, 0.8620689655172413, 0.8695652173913043, 0.8723404255319149, 0.8888888888888888, 0.9, 0.9333333333333333, 0.9545454545454546, 1.0, 0.7142857142857143, 0.0, 0.625, 0.6666666666666666, 0.7272727272727273, 0.75, 0.7711864406779662, 0.7727272727272727, 0.7903225806451613, 0.7904761904761904, 0.8055555555555556, 0.8108108108108109, 0.8285714285714286, 0.8378378378378378, 0.8571428571428571, 0.875, 0.8913043478260869, 0.9032258064516129, 0.9166666666666666, 0.96875, 1.0, 0.8, 0.8333333333333334, 0.875, 0.0, 0.5, 0.6666666666666666, 0.6805555555555556, 0.7142857142857143, 0.75, 0.773109243697479, 0.7796610169491526, 0.7879746835443038, 0.8028169014084507, 0.8431372549019608, 0.8518518518518519, 0.8611111111111112, 0.8888888888888888, 0.912621359223301, 0.9722222222222222, 1.0, 0.0, 0.5, 0.6590909090909091, 0.6666666666666666, 0.6842105263157895, 0.6885245901639344, 0.7, 0.7833333333333333, 0.7853403141361257, 0.7894736842105263, 0.8118081180811808, 0.8333333333333334, 0.8545454545454545, 0.8558558558558559, 0.8571428571428571, 0.868421052631579, 0.875, 0.8888888888888888, 0.9134615384615384, 0.9166666666666666], \"yaxis\": \"y\"}],\n",
              "                        {\"legend\": {\"itemsizing\": \"constant\", \"tracegroupgap\": 0}, \"margin\": {\"t\": 60}, \"template\": {\"data\": {\"bar\": [{\"error_x\": {\"color\": \"#2a3f5f\"}, \"error_y\": {\"color\": \"#2a3f5f\"}, \"marker\": {\"line\": {\"color\": \"#E5ECF6\", \"width\": 0.5}}, \"type\": \"bar\"}], \"barpolar\": [{\"marker\": {\"line\": {\"color\": \"#E5ECF6\", \"width\": 0.5}}, \"type\": \"barpolar\"}], \"carpet\": [{\"aaxis\": {\"endlinecolor\": \"#2a3f5f\", \"gridcolor\": \"white\", \"linecolor\": \"white\", \"minorgridcolor\": \"white\", \"startlinecolor\": \"#2a3f5f\"}, \"baxis\": {\"endlinecolor\": \"#2a3f5f\", \"gridcolor\": \"white\", \"linecolor\": \"white\", \"minorgridcolor\": \"white\", \"startlinecolor\": \"#2a3f5f\"}, \"type\": \"carpet\"}], \"choropleth\": [{\"colorbar\": {\"outlinewidth\": 0, \"ticks\": \"\"}, \"type\": \"choropleth\"}], \"contour\": [{\"colorbar\": {\"outlinewidth\": 0, \"ticks\": \"\"}, \"colorscale\": [[0.0, \"#0d0887\"], [0.1111111111111111, \"#46039f\"], [0.2222222222222222, \"#7201a8\"], [0.3333333333333333, \"#9c179e\"], [0.4444444444444444, \"#bd3786\"], [0.5555555555555556, \"#d8576b\"], [0.6666666666666666, \"#ed7953\"], [0.7777777777777778, \"#fb9f3a\"], [0.8888888888888888, \"#fdca26\"], [1.0, \"#f0f921\"]], \"type\": \"contour\"}], \"contourcarpet\": [{\"colorbar\": {\"outlinewidth\": 0, \"ticks\": \"\"}, \"type\": \"contourcarpet\"}], \"heatmap\": [{\"colorbar\": {\"outlinewidth\": 0, \"ticks\": \"\"}, \"colorscale\": [[0.0, \"#0d0887\"], [0.1111111111111111, \"#46039f\"], [0.2222222222222222, \"#7201a8\"], [0.3333333333333333, \"#9c179e\"], [0.4444444444444444, \"#bd3786\"], [0.5555555555555556, \"#d8576b\"], [0.6666666666666666, \"#ed7953\"], [0.7777777777777778, \"#fb9f3a\"], [0.8888888888888888, \"#fdca26\"], [1.0, \"#f0f921\"]], \"type\": \"heatmap\"}], \"heatmapgl\": [{\"colorbar\": {\"outlinewidth\": 0, \"ticks\": \"\"}, \"colorscale\": [[0.0, \"#0d0887\"], [0.1111111111111111, \"#46039f\"], [0.2222222222222222, \"#7201a8\"], [0.3333333333333333, \"#9c179e\"], [0.4444444444444444, \"#bd3786\"], [0.5555555555555556, \"#d8576b\"], [0.6666666666666666, \"#ed7953\"], [0.7777777777777778, \"#fb9f3a\"], [0.8888888888888888, \"#fdca26\"], [1.0, \"#f0f921\"]], \"type\": \"heatmapgl\"}], \"histogram\": [{\"marker\": {\"colorbar\": {\"outlinewidth\": 0, \"ticks\": \"\"}}, \"type\": \"histogram\"}], \"histogram2d\": [{\"colorbar\": {\"outlinewidth\": 0, \"ticks\": \"\"}, \"colorscale\": [[0.0, \"#0d0887\"], [0.1111111111111111, \"#46039f\"], [0.2222222222222222, \"#7201a8\"], [0.3333333333333333, \"#9c179e\"], [0.4444444444444444, \"#bd3786\"], [0.5555555555555556, \"#d8576b\"], [0.6666666666666666, \"#ed7953\"], [0.7777777777777778, \"#fb9f3a\"], [0.8888888888888888, \"#fdca26\"], [1.0, \"#f0f921\"]], \"type\": \"histogram2d\"}], \"histogram2dcontour\": [{\"colorbar\": {\"outlinewidth\": 0, \"ticks\": \"\"}, \"colorscale\": [[0.0, \"#0d0887\"], [0.1111111111111111, \"#46039f\"], [0.2222222222222222, \"#7201a8\"], [0.3333333333333333, \"#9c179e\"], [0.4444444444444444, \"#bd3786\"], [0.5555555555555556, \"#d8576b\"], [0.6666666666666666, \"#ed7953\"], [0.7777777777777778, \"#fb9f3a\"], [0.8888888888888888, \"#fdca26\"], [1.0, \"#f0f921\"]], \"type\": \"histogram2dcontour\"}], \"mesh3d\": [{\"colorbar\": {\"outlinewidth\": 0, \"ticks\": \"\"}, \"type\": \"mesh3d\"}], \"parcoords\": [{\"line\": {\"colorbar\": {\"outlinewidth\": 0, \"ticks\": \"\"}}, \"type\": \"parcoords\"}], \"pie\": [{\"automargin\": true, \"type\": \"pie\"}], \"scatter\": [{\"marker\": {\"colorbar\": {\"outlinewidth\": 0, \"ticks\": \"\"}}, \"type\": \"scatter\"}], \"scatter3d\": [{\"line\": {\"colorbar\": {\"outlinewidth\": 0, \"ticks\": \"\"}}, \"marker\": {\"colorbar\": {\"outlinewidth\": 0, \"ticks\": \"\"}}, \"type\": \"scatter3d\"}], \"scattercarpet\": [{\"marker\": {\"colorbar\": {\"outlinewidth\": 0, \"ticks\": \"\"}}, \"type\": \"scattercarpet\"}], \"scattergeo\": [{\"marker\": {\"colorbar\": {\"outlinewidth\": 0, \"ticks\": \"\"}}, \"type\": \"scattergeo\"}], \"scattergl\": [{\"marker\": {\"colorbar\": {\"outlinewidth\": 0, \"ticks\": \"\"}}, \"type\": \"scattergl\"}], \"scattermapbox\": [{\"marker\": {\"colorbar\": {\"outlinewidth\": 0, \"ticks\": \"\"}}, \"type\": \"scattermapbox\"}], \"scatterpolar\": [{\"marker\": {\"colorbar\": {\"outlinewidth\": 0, \"ticks\": \"\"}}, \"type\": \"scatterpolar\"}], \"scatterpolargl\": [{\"marker\": {\"colorbar\": {\"outlinewidth\": 0, \"ticks\": \"\"}}, \"type\": \"scatterpolargl\"}], \"scatterternary\": [{\"marker\": {\"colorbar\": {\"outlinewidth\": 0, \"ticks\": \"\"}}, \"type\": \"scatterternary\"}], \"surface\": [{\"colorbar\": {\"outlinewidth\": 0, \"ticks\": \"\"}, \"colorscale\": [[0.0, \"#0d0887\"], [0.1111111111111111, \"#46039f\"], [0.2222222222222222, \"#7201a8\"], [0.3333333333333333, \"#9c179e\"], [0.4444444444444444, \"#bd3786\"], [0.5555555555555556, \"#d8576b\"], [0.6666666666666666, \"#ed7953\"], [0.7777777777777778, \"#fb9f3a\"], [0.8888888888888888, \"#fdca26\"], [1.0, \"#f0f921\"]], \"type\": \"surface\"}], \"table\": [{\"cells\": {\"fill\": {\"color\": \"#EBF0F8\"}, \"line\": {\"color\": \"white\"}}, \"header\": {\"fill\": {\"color\": \"#C8D4E3\"}, \"line\": {\"color\": \"white\"}}, \"type\": \"table\"}]}, \"layout\": {\"annotationdefaults\": {\"arrowcolor\": \"#2a3f5f\", \"arrowhead\": 0, \"arrowwidth\": 1}, \"coloraxis\": {\"colorbar\": {\"outlinewidth\": 0, \"ticks\": \"\"}}, \"colorscale\": {\"diverging\": [[0, \"#8e0152\"], [0.1, \"#c51b7d\"], [0.2, \"#de77ae\"], [0.3, \"#f1b6da\"], [0.4, \"#fde0ef\"], [0.5, \"#f7f7f7\"], [0.6, \"#e6f5d0\"], [0.7, \"#b8e186\"], [0.8, \"#7fbc41\"], [0.9, \"#4d9221\"], [1, \"#276419\"]], \"sequential\": [[0.0, \"#0d0887\"], [0.1111111111111111, \"#46039f\"], [0.2222222222222222, \"#7201a8\"], [0.3333333333333333, \"#9c179e\"], [0.4444444444444444, \"#bd3786\"], [0.5555555555555556, \"#d8576b\"], [0.6666666666666666, \"#ed7953\"], [0.7777777777777778, \"#fb9f3a\"], [0.8888888888888888, \"#fdca26\"], [1.0, \"#f0f921\"]], \"sequentialminus\": [[0.0, \"#0d0887\"], [0.1111111111111111, \"#46039f\"], [0.2222222222222222, \"#7201a8\"], [0.3333333333333333, \"#9c179e\"], [0.4444444444444444, \"#bd3786\"], [0.5555555555555556, \"#d8576b\"], [0.6666666666666666, \"#ed7953\"], [0.7777777777777778, \"#fb9f3a\"], [0.8888888888888888, \"#fdca26\"], [1.0, \"#f0f921\"]]}, \"colorway\": [\"#636efa\", \"#EF553B\", \"#00cc96\", \"#ab63fa\", \"#FFA15A\", \"#19d3f3\", \"#FF6692\", \"#B6E880\", \"#FF97FF\", \"#FECB52\"], \"font\": {\"color\": \"#2a3f5f\"}, \"geo\": {\"bgcolor\": \"white\", \"lakecolor\": \"white\", \"landcolor\": \"#E5ECF6\", \"showlakes\": true, \"showland\": true, \"subunitcolor\": \"white\"}, \"hoverlabel\": {\"align\": \"left\"}, \"hovermode\": \"closest\", \"mapbox\": {\"style\": \"light\"}, \"paper_bgcolor\": \"white\", \"plot_bgcolor\": \"#E5ECF6\", \"polar\": {\"angularaxis\": {\"gridcolor\": \"white\", \"linecolor\": \"white\", \"ticks\": \"\"}, \"bgcolor\": \"#E5ECF6\", \"radialaxis\": {\"gridcolor\": \"white\", \"linecolor\": \"white\", \"ticks\": \"\"}}, \"scene\": {\"xaxis\": {\"backgroundcolor\": \"#E5ECF6\", \"gridcolor\": \"white\", \"gridwidth\": 2, \"linecolor\": \"white\", \"showbackground\": true, \"ticks\": \"\", \"zerolinecolor\": \"white\"}, \"yaxis\": {\"backgroundcolor\": \"#E5ECF6\", \"gridcolor\": \"white\", \"gridwidth\": 2, \"linecolor\": \"white\", \"showbackground\": true, \"ticks\": \"\", \"zerolinecolor\": \"white\"}, \"zaxis\": {\"backgroundcolor\": \"#E5ECF6\", \"gridcolor\": \"white\", \"gridwidth\": 2, \"linecolor\": \"white\", \"showbackground\": true, \"ticks\": \"\", \"zerolinecolor\": \"white\"}}, \"shapedefaults\": {\"line\": {\"color\": \"#2a3f5f\"}}, \"ternary\": {\"aaxis\": {\"gridcolor\": \"white\", \"linecolor\": \"white\", \"ticks\": \"\"}, \"baxis\": {\"gridcolor\": \"white\", \"linecolor\": \"white\", \"ticks\": \"\"}, \"bgcolor\": \"#E5ECF6\", \"caxis\": {\"gridcolor\": \"white\", \"linecolor\": \"white\", \"ticks\": \"\"}}, \"title\": {\"x\": 0.05}, \"xaxis\": {\"automargin\": true, \"gridcolor\": \"white\", \"linecolor\": \"white\", \"ticks\": \"\", \"title\": {\"standoff\": 15}, \"zerolinecolor\": \"white\", \"zerolinewidth\": 2}, \"yaxis\": {\"automargin\": true, \"gridcolor\": \"white\", \"linecolor\": \"white\", \"ticks\": \"\", \"title\": {\"standoff\": 15}, \"zerolinecolor\": \"white\", \"zerolinewidth\": 2}}}, \"xaxis\": {\"anchor\": \"y\", \"domain\": [0.0, 1.0], \"title\": {\"text\": \"Age\"}}, \"yaxis\": {\"anchor\": \"x\", \"domain\": [0.0, 1.0], \"title\": {\"text\": \"%Homochirality\"}}},\n",
              "                        {\"responsive\": true}\n",
              "                    ).then(function(){\n",
              "                            \n",
              "var gd = document.getElementById('d16610d3-950c-4dc3-ad18-d260519dcf8b');\n",
              "var x = new MutationObserver(function (mutations, observer) {{\n",
              "        var display = window.getComputedStyle(gd).display;\n",
              "        if (!display || display === 'none') {{\n",
              "            console.log([gd, 'removed!']);\n",
              "            Plotly.purge(gd);\n",
              "            observer.disconnect();\n",
              "        }}\n",
              "}});\n",
              "\n",
              "// Listen for the removal of the full notebook cells\n",
              "var notebookContainer = gd.closest('#notebook-container');\n",
              "if (notebookContainer) {{\n",
              "    x.observe(notebookContainer, {childList: true});\n",
              "}}\n",
              "\n",
              "// Listen for the clearing of the current output cell\n",
              "var outputEl = gd.closest('.output');\n",
              "if (outputEl) {{\n",
              "    x.observe(outputEl, {childList: true});\n",
              "}}\n",
              "\n",
              "                        })\n",
              "                };\n",
              "                \n",
              "            </script>\n",
              "        </div>\n",
              "</body>\n",
              "</html>"
            ]
          },
          "metadata": {
            "tags": [
              "id15_content_4",
              "outputarea_id15",
              "user_output"
            ]
          }
        },
        {
          "output_type": "display_data",
          "data": {
            "application/javascript": [
              "window[\"db5a082e-c60e-11ea-9e0a-0242ac1c0002\"] = google.colab.output.setActiveOutputArea(window[\"db27e1dc-c60e-11ea-9e0a-0242ac1c0002\"]);\n",
              "//# sourceURL=js_7c66bb290d"
            ],
            "text/plain": [
              "<IPython.core.display.Javascript object>"
            ]
          },
          "metadata": {
            "tags": [
              "id15_content_4",
              "outputarea_id15"
            ]
          }
        },
        {
          "output_type": "display_data",
          "data": {
            "application/javascript": [
              "window[\"db5c7e6a-c60e-11ea-9e0a-0242ac1c0002\"] = google.colab.output.getActiveOutputArea();\n",
              "//# sourceURL=js_77ca2b131a"
            ],
            "text/plain": [
              "<IPython.core.display.Javascript object>"
            ]
          },
          "metadata": {
            "tags": [
              "id15_content_6",
              "outputarea_id15"
            ]
          }
        },
        {
          "output_type": "display_data",
          "data": {
            "application/javascript": [
              "window[\"db5cd27a-c60e-11ea-9e0a-0242ac1c0002\"] = document.querySelector(\"#id15_content_6\");\n",
              "//# sourceURL=js_81df726dc7"
            ],
            "text/plain": [
              "<IPython.core.display.Javascript object>"
            ]
          },
          "metadata": {
            "tags": [
              "id15_content_6",
              "outputarea_id15"
            ]
          }
        },
        {
          "output_type": "display_data",
          "data": {
            "application/javascript": [
              "window[\"db5d3436-c60e-11ea-9e0a-0242ac1c0002\"] = google.colab.output.setActiveOutputArea(window[\"db5cd27a-c60e-11ea-9e0a-0242ac1c0002\"]);\n",
              "//# sourceURL=js_8b898b95f9"
            ],
            "text/plain": [
              "<IPython.core.display.Javascript object>"
            ]
          },
          "metadata": {
            "tags": [
              "id15_content_6",
              "outputarea_id15"
            ]
          }
        },
        {
          "output_type": "display_data",
          "data": {
            "application/javascript": [
              "window[\"db5e4c36-c60e-11ea-9e0a-0242ac1c0002\"] = google.colab.output.setActiveOutputArea(window[\"db5c7e6a-c60e-11ea-9e0a-0242ac1c0002\"]);\n",
              "//# sourceURL=js_da2052a8fc"
            ],
            "text/plain": [
              "<IPython.core.display.Javascript object>"
            ]
          },
          "metadata": {
            "tags": [
              "id15_content_6",
              "outputarea_id15"
            ]
          }
        },
        {
          "output_type": "display_data",
          "data": {
            "application/javascript": [
              "window[\"db5fb954-c60e-11ea-9e0a-0242ac1c0002\"] = google.colab.output.getActiveOutputArea();\n",
              "//# sourceURL=js_077ea15d2d"
            ],
            "text/plain": [
              "<IPython.core.display.Javascript object>"
            ]
          },
          "metadata": {
            "tags": [
              "id15_content_5",
              "outputarea_id15"
            ]
          }
        },
        {
          "output_type": "display_data",
          "data": {
            "application/javascript": [
              "window[\"db601cbe-c60e-11ea-9e0a-0242ac1c0002\"] = document.querySelector(\"#id15_content_5\");\n",
              "//# sourceURL=js_8dc20494ab"
            ],
            "text/plain": [
              "<IPython.core.display.Javascript object>"
            ]
          },
          "metadata": {
            "tags": [
              "id15_content_5",
              "outputarea_id15"
            ]
          }
        },
        {
          "output_type": "display_data",
          "data": {
            "application/javascript": [
              "window[\"db60770e-c60e-11ea-9e0a-0242ac1c0002\"] = google.colab.output.setActiveOutputArea(window[\"db601cbe-c60e-11ea-9e0a-0242ac1c0002\"]);\n",
              "//# sourceURL=js_b938fde652"
            ],
            "text/plain": [
              "<IPython.core.display.Javascript object>"
            ]
          },
          "metadata": {
            "tags": [
              "id15_content_5",
              "outputarea_id15"
            ]
          }
        },
        {
          "output_type": "display_data",
          "data": {
            "text/html": [
              "<html>\n",
              "<head><meta charset=\"utf-8\" /></head>\n",
              "<body>\n",
              "    <div>\n",
              "            <script src=\"https://cdnjs.cloudflare.com/ajax/libs/mathjax/2.7.5/MathJax.js?config=TeX-AMS-MML_SVG\"></script><script type=\"text/javascript\">if (window.MathJax) {MathJax.Hub.Config({SVG: {font: \"STIX-Web\"}});}</script>\n",
              "                <script type=\"text/javascript\">window.PlotlyConfig = {MathJaxConfig: 'local'};</script>\n",
              "        <script src=\"https://cdn.plot.ly/plotly-latest.min.js\"></script>    \n",
              "            <div id=\"6871b344-6d9e-4ea3-be90-81efeffea5ec\" class=\"plotly-graph-div\" style=\"height:525px; width:100%;\"></div>\n",
              "            <script type=\"text/javascript\">\n",
              "                \n",
              "                    window.PLOTLYENV=window.PLOTLYENV || {};\n",
              "                    \n",
              "                if (document.getElementById(\"6871b344-6d9e-4ea3-be90-81efeffea5ec\")) {\n",
              "                    Plotly.newPlot(\n",
              "                        '6871b344-6d9e-4ea3-be90-81efeffea5ec',\n",
              "                        [{\"alignmentgroup\": \"True\", \"bingroup\": \"x\", \"hoverlabel\": {\"namelength\": 0}, \"hovertemplate\": \"Iteration=0<br>Length=%{x}<br>count=%{y}\", \"legendgroup\": \"\", \"marker\": {\"color\": \"#636efa\"}, \"name\": \"\", \"nbinsx\": 317, \"offsetgroup\": \"\", \"orientation\": \"v\", \"showlegend\": false, \"type\": \"histogram\", \"x\": [1, 1, 1, 1, 1, 1, 1, 1, 1, 1, 1, 1, 1, 1, 1, 1, 1, 1, 1, 1, 1, 1, 1, 1, 1, 1, 1, 1, 1, 1, 1, 1, 1, 1, 1, 1, 1, 1, 1, 1, 1, 1, 1, 1, 1, 1, 1, 1, 1, 1, 1, 1, 1, 1, 1, 1, 1, 1, 1, 1, 1, 1, 1, 1, 1, 1, 1, 1, 1, 1, 1, 1, 2, 2, 2, 2, 2, 2, 2, 2, 2, 2, 2, 2, 2, 2], \"xaxis\": \"x\", \"yaxis\": \"y\"}],\n",
              "                        {\"barmode\": \"relative\", \"legend\": {\"tracegroupgap\": 0}, \"margin\": {\"t\": 60}, \"sliders\": [{\"active\": 0, \"currentvalue\": {\"prefix\": \"Iteration=\"}, \"len\": 0.9, \"pad\": {\"b\": 10, \"t\": 60}, \"steps\": [{\"args\": [[\"0\"], {\"frame\": {\"duration\": 0, \"redraw\": true}, \"fromcurrent\": true, \"mode\": \"immediate\", \"transition\": {\"duration\": 0, \"easing\": \"linear\"}}], \"label\": \"0\", \"method\": \"animate\"}, {\"args\": [[\"1\"], {\"frame\": {\"duration\": 0, \"redraw\": true}, \"fromcurrent\": true, \"mode\": \"immediate\", \"transition\": {\"duration\": 0, \"easing\": \"linear\"}}], \"label\": \"1\", \"method\": \"animate\"}, {\"args\": [[\"2\"], {\"frame\": {\"duration\": 0, \"redraw\": true}, \"fromcurrent\": true, \"mode\": \"immediate\", \"transition\": {\"duration\": 0, \"easing\": \"linear\"}}], \"label\": \"2\", \"method\": \"animate\"}, {\"args\": [[\"3\"], {\"frame\": {\"duration\": 0, \"redraw\": true}, \"fromcurrent\": true, \"mode\": \"immediate\", \"transition\": {\"duration\": 0, \"easing\": \"linear\"}}], \"label\": \"3\", \"method\": \"animate\"}, {\"args\": [[\"4\"], {\"frame\": {\"duration\": 0, \"redraw\": true}, \"fromcurrent\": true, \"mode\": \"immediate\", \"transition\": {\"duration\": 0, \"easing\": \"linear\"}}], \"label\": \"4\", \"method\": \"animate\"}, {\"args\": [[\"5\"], {\"frame\": {\"duration\": 0, \"redraw\": true}, \"fromcurrent\": true, \"mode\": \"immediate\", \"transition\": {\"duration\": 0, \"easing\": \"linear\"}}], \"label\": \"5\", \"method\": \"animate\"}, {\"args\": [[\"6\"], {\"frame\": {\"duration\": 0, \"redraw\": true}, \"fromcurrent\": true, \"mode\": \"immediate\", \"transition\": {\"duration\": 0, \"easing\": \"linear\"}}], \"label\": \"6\", \"method\": \"animate\"}, {\"args\": [[\"7\"], {\"frame\": {\"duration\": 0, \"redraw\": true}, \"fromcurrent\": true, \"mode\": \"immediate\", \"transition\": {\"duration\": 0, \"easing\": \"linear\"}}], \"label\": \"7\", \"method\": \"animate\"}, {\"args\": [[\"8\"], {\"frame\": {\"duration\": 0, \"redraw\": true}, \"fromcurrent\": true, \"mode\": \"immediate\", \"transition\": {\"duration\": 0, \"easing\": \"linear\"}}], \"label\": \"8\", \"method\": \"animate\"}, {\"args\": [[\"9\"], {\"frame\": {\"duration\": 0, \"redraw\": true}, \"fromcurrent\": true, \"mode\": \"immediate\", \"transition\": {\"duration\": 0, \"easing\": \"linear\"}}], \"label\": \"9\", \"method\": \"animate\"}, {\"args\": [[\"10\"], {\"frame\": {\"duration\": 0, \"redraw\": true}, \"fromcurrent\": true, \"mode\": \"immediate\", \"transition\": {\"duration\": 0, \"easing\": \"linear\"}}], \"label\": \"10\", \"method\": \"animate\"}, {\"args\": [[\"11\"], {\"frame\": {\"duration\": 0, \"redraw\": true}, \"fromcurrent\": true, \"mode\": \"immediate\", \"transition\": {\"duration\": 0, \"easing\": \"linear\"}}], \"label\": \"11\", \"method\": \"animate\"}, {\"args\": [[\"12\"], {\"frame\": {\"duration\": 0, \"redraw\": true}, \"fromcurrent\": true, \"mode\": \"immediate\", \"transition\": {\"duration\": 0, \"easing\": \"linear\"}}], \"label\": \"12\", \"method\": \"animate\"}, {\"args\": [[\"13\"], {\"frame\": {\"duration\": 0, \"redraw\": true}, \"fromcurrent\": true, \"mode\": \"immediate\", \"transition\": {\"duration\": 0, \"easing\": \"linear\"}}], \"label\": \"13\", \"method\": \"animate\"}, {\"args\": [[\"14\"], {\"frame\": {\"duration\": 0, \"redraw\": true}, \"fromcurrent\": true, \"mode\": \"immediate\", \"transition\": {\"duration\": 0, \"easing\": \"linear\"}}], \"label\": \"14\", \"method\": \"animate\"}, {\"args\": [[\"15\"], {\"frame\": {\"duration\": 0, \"redraw\": true}, \"fromcurrent\": true, \"mode\": \"immediate\", \"transition\": {\"duration\": 0, \"easing\": \"linear\"}}], \"label\": \"15\", \"method\": \"animate\"}, {\"args\": [[\"16\"], {\"frame\": {\"duration\": 0, \"redraw\": true}, \"fromcurrent\": true, \"mode\": \"immediate\", \"transition\": {\"duration\": 0, \"easing\": \"linear\"}}], \"label\": \"16\", \"method\": \"animate\"}, {\"args\": [[\"17\"], {\"frame\": {\"duration\": 0, \"redraw\": true}, \"fromcurrent\": true, \"mode\": \"immediate\", \"transition\": {\"duration\": 0, \"easing\": \"linear\"}}], \"label\": \"17\", \"method\": \"animate\"}, {\"args\": [[\"18\"], {\"frame\": {\"duration\": 0, \"redraw\": true}, \"fromcurrent\": true, \"mode\": \"immediate\", \"transition\": {\"duration\": 0, \"easing\": \"linear\"}}], \"label\": \"18\", \"method\": \"animate\"}, {\"args\": [[\"19\"], {\"frame\": {\"duration\": 0, \"redraw\": true}, \"fromcurrent\": true, \"mode\": \"immediate\", \"transition\": {\"duration\": 0, \"easing\": \"linear\"}}], \"label\": \"19\", \"method\": \"animate\"}, {\"args\": [[\"20\"], {\"frame\": {\"duration\": 0, \"redraw\": true}, \"fromcurrent\": true, \"mode\": \"immediate\", \"transition\": {\"duration\": 0, \"easing\": \"linear\"}}], \"label\": \"20\", \"method\": \"animate\"}, {\"args\": [[\"21\"], {\"frame\": {\"duration\": 0, \"redraw\": true}, \"fromcurrent\": true, \"mode\": \"immediate\", \"transition\": {\"duration\": 0, \"easing\": \"linear\"}}], \"label\": \"21\", \"method\": \"animate\"}, {\"args\": [[\"22\"], {\"frame\": {\"duration\": 0, \"redraw\": true}, \"fromcurrent\": true, \"mode\": \"immediate\", \"transition\": {\"duration\": 0, \"easing\": \"linear\"}}], \"label\": \"22\", \"method\": \"animate\"}, {\"args\": [[\"23\"], {\"frame\": {\"duration\": 0, \"redraw\": true}, \"fromcurrent\": true, \"mode\": \"immediate\", \"transition\": {\"duration\": 0, \"easing\": \"linear\"}}], \"label\": \"23\", \"method\": \"animate\"}, {\"args\": [[\"24\"], {\"frame\": {\"duration\": 0, \"redraw\": true}, \"fromcurrent\": true, \"mode\": \"immediate\", \"transition\": {\"duration\": 0, \"easing\": \"linear\"}}], \"label\": \"24\", \"method\": \"animate\"}, {\"args\": [[\"25\"], {\"frame\": {\"duration\": 0, \"redraw\": true}, \"fromcurrent\": true, \"mode\": \"immediate\", \"transition\": {\"duration\": 0, \"easing\": \"linear\"}}], \"label\": \"25\", \"method\": \"animate\"}, {\"args\": [[\"26\"], {\"frame\": {\"duration\": 0, \"redraw\": true}, \"fromcurrent\": true, \"mode\": \"immediate\", \"transition\": {\"duration\": 0, \"easing\": \"linear\"}}], \"label\": \"26\", \"method\": \"animate\"}, {\"args\": [[\"27\"], {\"frame\": {\"duration\": 0, \"redraw\": true}, \"fromcurrent\": true, \"mode\": \"immediate\", \"transition\": {\"duration\": 0, \"easing\": \"linear\"}}], \"label\": \"27\", \"method\": \"animate\"}, {\"args\": [[\"28\"], {\"frame\": {\"duration\": 0, \"redraw\": true}, \"fromcurrent\": true, \"mode\": \"immediate\", \"transition\": {\"duration\": 0, \"easing\": \"linear\"}}], \"label\": \"28\", \"method\": \"animate\"}, {\"args\": [[\"29\"], {\"frame\": {\"duration\": 0, \"redraw\": true}, \"fromcurrent\": true, \"mode\": \"immediate\", \"transition\": {\"duration\": 0, \"easing\": \"linear\"}}], \"label\": \"29\", \"method\": \"animate\"}, {\"args\": [[\"30\"], {\"frame\": {\"duration\": 0, \"redraw\": true}, \"fromcurrent\": true, \"mode\": \"immediate\", \"transition\": {\"duration\": 0, \"easing\": \"linear\"}}], \"label\": \"30\", \"method\": \"animate\"}, {\"args\": [[\"31\"], {\"frame\": {\"duration\": 0, \"redraw\": true}, \"fromcurrent\": true, \"mode\": \"immediate\", \"transition\": {\"duration\": 0, \"easing\": \"linear\"}}], \"label\": \"31\", \"method\": \"animate\"}, {\"args\": [[\"32\"], {\"frame\": {\"duration\": 0, \"redraw\": true}, \"fromcurrent\": true, \"mode\": \"immediate\", \"transition\": {\"duration\": 0, \"easing\": \"linear\"}}], \"label\": \"32\", \"method\": \"animate\"}, {\"args\": [[\"33\"], {\"frame\": {\"duration\": 0, \"redraw\": true}, \"fromcurrent\": true, \"mode\": \"immediate\", \"transition\": {\"duration\": 0, \"easing\": \"linear\"}}], \"label\": \"33\", \"method\": \"animate\"}, {\"args\": [[\"34\"], {\"frame\": {\"duration\": 0, \"redraw\": true}, \"fromcurrent\": true, \"mode\": \"immediate\", \"transition\": {\"duration\": 0, \"easing\": \"linear\"}}], \"label\": \"34\", \"method\": \"animate\"}, {\"args\": [[\"35\"], {\"frame\": {\"duration\": 0, \"redraw\": true}, \"fromcurrent\": true, \"mode\": \"immediate\", \"transition\": {\"duration\": 0, \"easing\": \"linear\"}}], \"label\": \"35\", \"method\": \"animate\"}, {\"args\": [[\"36\"], {\"frame\": {\"duration\": 0, \"redraw\": true}, \"fromcurrent\": true, \"mode\": \"immediate\", \"transition\": {\"duration\": 0, \"easing\": \"linear\"}}], \"label\": \"36\", \"method\": \"animate\"}, {\"args\": [[\"37\"], {\"frame\": {\"duration\": 0, \"redraw\": true}, \"fromcurrent\": true, \"mode\": \"immediate\", \"transition\": {\"duration\": 0, \"easing\": \"linear\"}}], \"label\": \"37\", \"method\": \"animate\"}, {\"args\": [[\"38\"], {\"frame\": {\"duration\": 0, \"redraw\": true}, \"fromcurrent\": true, \"mode\": \"immediate\", \"transition\": {\"duration\": 0, \"easing\": \"linear\"}}], \"label\": \"38\", \"method\": \"animate\"}, {\"args\": [[\"39\"], {\"frame\": {\"duration\": 0, \"redraw\": true}, \"fromcurrent\": true, \"mode\": \"immediate\", \"transition\": {\"duration\": 0, \"easing\": \"linear\"}}], \"label\": \"39\", \"method\": \"animate\"}, {\"args\": [[\"40\"], {\"frame\": {\"duration\": 0, \"redraw\": true}, \"fromcurrent\": true, \"mode\": \"immediate\", \"transition\": {\"duration\": 0, \"easing\": \"linear\"}}], \"label\": \"40\", \"method\": \"animate\"}, {\"args\": [[\"41\"], {\"frame\": {\"duration\": 0, \"redraw\": true}, \"fromcurrent\": true, \"mode\": \"immediate\", \"transition\": {\"duration\": 0, \"easing\": \"linear\"}}], \"label\": \"41\", \"method\": \"animate\"}, {\"args\": [[\"42\"], {\"frame\": {\"duration\": 0, \"redraw\": true}, \"fromcurrent\": true, \"mode\": \"immediate\", \"transition\": {\"duration\": 0, \"easing\": \"linear\"}}], \"label\": \"42\", \"method\": \"animate\"}, {\"args\": [[\"43\"], {\"frame\": {\"duration\": 0, \"redraw\": true}, \"fromcurrent\": true, \"mode\": \"immediate\", \"transition\": {\"duration\": 0, \"easing\": \"linear\"}}], \"label\": \"43\", \"method\": \"animate\"}, {\"args\": [[\"44\"], {\"frame\": {\"duration\": 0, \"redraw\": true}, \"fromcurrent\": true, \"mode\": \"immediate\", \"transition\": {\"duration\": 0, \"easing\": \"linear\"}}], \"label\": \"44\", \"method\": \"animate\"}, {\"args\": [[\"45\"], {\"frame\": {\"duration\": 0, \"redraw\": true}, \"fromcurrent\": true, \"mode\": \"immediate\", \"transition\": {\"duration\": 0, \"easing\": \"linear\"}}], \"label\": \"45\", \"method\": \"animate\"}, {\"args\": [[\"46\"], {\"frame\": {\"duration\": 0, \"redraw\": true}, \"fromcurrent\": true, \"mode\": \"immediate\", \"transition\": {\"duration\": 0, \"easing\": \"linear\"}}], \"label\": \"46\", \"method\": \"animate\"}, {\"args\": [[\"47\"], {\"frame\": {\"duration\": 0, \"redraw\": true}, \"fromcurrent\": true, \"mode\": \"immediate\", \"transition\": {\"duration\": 0, \"easing\": \"linear\"}}], \"label\": \"47\", \"method\": \"animate\"}, {\"args\": [[\"48\"], {\"frame\": {\"duration\": 0, \"redraw\": true}, \"fromcurrent\": true, \"mode\": \"immediate\", \"transition\": {\"duration\": 0, \"easing\": \"linear\"}}], \"label\": \"48\", \"method\": \"animate\"}, {\"args\": [[\"49\"], {\"frame\": {\"duration\": 0, \"redraw\": true}, \"fromcurrent\": true, \"mode\": \"immediate\", \"transition\": {\"duration\": 0, \"easing\": \"linear\"}}], \"label\": \"49\", \"method\": \"animate\"}, {\"args\": [[\"50\"], {\"frame\": {\"duration\": 0, \"redraw\": true}, \"fromcurrent\": true, \"mode\": \"immediate\", \"transition\": {\"duration\": 0, \"easing\": \"linear\"}}], \"label\": \"50\", \"method\": \"animate\"}, {\"args\": [[\"51\"], {\"frame\": {\"duration\": 0, \"redraw\": true}, \"fromcurrent\": true, \"mode\": \"immediate\", \"transition\": {\"duration\": 0, \"easing\": \"linear\"}}], \"label\": \"51\", \"method\": \"animate\"}, {\"args\": [[\"52\"], {\"frame\": {\"duration\": 0, \"redraw\": true}, \"fromcurrent\": true, \"mode\": \"immediate\", \"transition\": {\"duration\": 0, \"easing\": \"linear\"}}], \"label\": \"52\", \"method\": \"animate\"}, {\"args\": [[\"53\"], {\"frame\": {\"duration\": 0, \"redraw\": true}, \"fromcurrent\": true, \"mode\": \"immediate\", \"transition\": {\"duration\": 0, \"easing\": \"linear\"}}], \"label\": \"53\", \"method\": \"animate\"}, {\"args\": [[\"54\"], {\"frame\": {\"duration\": 0, \"redraw\": true}, \"fromcurrent\": true, \"mode\": \"immediate\", \"transition\": {\"duration\": 0, \"easing\": \"linear\"}}], \"label\": \"54\", \"method\": \"animate\"}, {\"args\": [[\"55\"], {\"frame\": {\"duration\": 0, \"redraw\": true}, \"fromcurrent\": true, \"mode\": \"immediate\", \"transition\": {\"duration\": 0, \"easing\": \"linear\"}}], \"label\": \"55\", \"method\": \"animate\"}, {\"args\": [[\"56\"], {\"frame\": {\"duration\": 0, \"redraw\": true}, \"fromcurrent\": true, \"mode\": \"immediate\", \"transition\": {\"duration\": 0, \"easing\": \"linear\"}}], \"label\": \"56\", \"method\": \"animate\"}, {\"args\": [[\"57\"], {\"frame\": {\"duration\": 0, \"redraw\": true}, \"fromcurrent\": true, \"mode\": \"immediate\", \"transition\": {\"duration\": 0, \"easing\": \"linear\"}}], \"label\": \"57\", \"method\": \"animate\"}, {\"args\": [[\"58\"], {\"frame\": {\"duration\": 0, \"redraw\": true}, \"fromcurrent\": true, \"mode\": \"immediate\", \"transition\": {\"duration\": 0, \"easing\": \"linear\"}}], \"label\": \"58\", \"method\": \"animate\"}, {\"args\": [[\"59\"], {\"frame\": {\"duration\": 0, \"redraw\": true}, \"fromcurrent\": true, \"mode\": \"immediate\", \"transition\": {\"duration\": 0, \"easing\": \"linear\"}}], \"label\": \"59\", \"method\": \"animate\"}, {\"args\": [[\"60\"], {\"frame\": {\"duration\": 0, \"redraw\": true}, \"fromcurrent\": true, \"mode\": \"immediate\", \"transition\": {\"duration\": 0, \"easing\": \"linear\"}}], \"label\": \"60\", \"method\": \"animate\"}, {\"args\": [[\"61\"], {\"frame\": {\"duration\": 0, \"redraw\": true}, \"fromcurrent\": true, \"mode\": \"immediate\", \"transition\": {\"duration\": 0, \"easing\": \"linear\"}}], \"label\": \"61\", \"method\": \"animate\"}, {\"args\": [[\"62\"], {\"frame\": {\"duration\": 0, \"redraw\": true}, \"fromcurrent\": true, \"mode\": \"immediate\", \"transition\": {\"duration\": 0, \"easing\": \"linear\"}}], \"label\": \"62\", \"method\": \"animate\"}, {\"args\": [[\"63\"], {\"frame\": {\"duration\": 0, \"redraw\": true}, \"fromcurrent\": true, \"mode\": \"immediate\", \"transition\": {\"duration\": 0, \"easing\": \"linear\"}}], \"label\": \"63\", \"method\": \"animate\"}, {\"args\": [[\"64\"], {\"frame\": {\"duration\": 0, \"redraw\": true}, \"fromcurrent\": true, \"mode\": \"immediate\", \"transition\": {\"duration\": 0, \"easing\": \"linear\"}}], \"label\": \"64\", \"method\": \"animate\"}, {\"args\": [[\"65\"], {\"frame\": {\"duration\": 0, \"redraw\": true}, \"fromcurrent\": true, \"mode\": \"immediate\", \"transition\": {\"duration\": 0, \"easing\": \"linear\"}}], \"label\": \"65\", \"method\": \"animate\"}, {\"args\": [[\"66\"], {\"frame\": {\"duration\": 0, \"redraw\": true}, \"fromcurrent\": true, \"mode\": \"immediate\", \"transition\": {\"duration\": 0, \"easing\": \"linear\"}}], \"label\": \"66\", \"method\": \"animate\"}, {\"args\": [[\"67\"], {\"frame\": {\"duration\": 0, \"redraw\": true}, \"fromcurrent\": true, \"mode\": \"immediate\", \"transition\": {\"duration\": 0, \"easing\": \"linear\"}}], \"label\": \"67\", \"method\": \"animate\"}, {\"args\": [[\"68\"], {\"frame\": {\"duration\": 0, \"redraw\": true}, \"fromcurrent\": true, \"mode\": \"immediate\", \"transition\": {\"duration\": 0, \"easing\": \"linear\"}}], \"label\": \"68\", \"method\": \"animate\"}, {\"args\": [[\"69\"], {\"frame\": {\"duration\": 0, \"redraw\": true}, \"fromcurrent\": true, \"mode\": \"immediate\", \"transition\": {\"duration\": 0, \"easing\": \"linear\"}}], \"label\": \"69\", \"method\": \"animate\"}, {\"args\": [[\"70\"], {\"frame\": {\"duration\": 0, \"redraw\": true}, \"fromcurrent\": true, \"mode\": \"immediate\", \"transition\": {\"duration\": 0, \"easing\": \"linear\"}}], \"label\": \"70\", \"method\": \"animate\"}, {\"args\": [[\"71\"], {\"frame\": {\"duration\": 0, \"redraw\": true}, \"fromcurrent\": true, \"mode\": \"immediate\", \"transition\": {\"duration\": 0, \"easing\": \"linear\"}}], \"label\": \"71\", \"method\": \"animate\"}, {\"args\": [[\"72\"], {\"frame\": {\"duration\": 0, \"redraw\": true}, \"fromcurrent\": true, \"mode\": \"immediate\", \"transition\": {\"duration\": 0, \"easing\": \"linear\"}}], \"label\": \"72\", \"method\": \"animate\"}, {\"args\": [[\"73\"], {\"frame\": {\"duration\": 0, \"redraw\": true}, \"fromcurrent\": true, \"mode\": \"immediate\", \"transition\": {\"duration\": 0, \"easing\": \"linear\"}}], \"label\": \"73\", \"method\": \"animate\"}, {\"args\": [[\"74\"], {\"frame\": {\"duration\": 0, \"redraw\": true}, \"fromcurrent\": true, \"mode\": \"immediate\", \"transition\": {\"duration\": 0, \"easing\": \"linear\"}}], \"label\": \"74\", \"method\": \"animate\"}, {\"args\": [[\"75\"], {\"frame\": {\"duration\": 0, \"redraw\": true}, \"fromcurrent\": true, \"mode\": \"immediate\", \"transition\": {\"duration\": 0, \"easing\": \"linear\"}}], \"label\": \"75\", \"method\": \"animate\"}, {\"args\": [[\"76\"], {\"frame\": {\"duration\": 0, \"redraw\": true}, \"fromcurrent\": true, \"mode\": \"immediate\", \"transition\": {\"duration\": 0, \"easing\": \"linear\"}}], \"label\": \"76\", \"method\": \"animate\"}, {\"args\": [[\"77\"], {\"frame\": {\"duration\": 0, \"redraw\": true}, \"fromcurrent\": true, \"mode\": \"immediate\", \"transition\": {\"duration\": 0, \"easing\": \"linear\"}}], \"label\": \"77\", \"method\": \"animate\"}, {\"args\": [[\"78\"], {\"frame\": {\"duration\": 0, \"redraw\": true}, \"fromcurrent\": true, \"mode\": \"immediate\", \"transition\": {\"duration\": 0, \"easing\": \"linear\"}}], \"label\": \"78\", \"method\": \"animate\"}, {\"args\": [[\"79\"], {\"frame\": {\"duration\": 0, \"redraw\": true}, \"fromcurrent\": true, \"mode\": \"immediate\", \"transition\": {\"duration\": 0, \"easing\": \"linear\"}}], \"label\": \"79\", \"method\": \"animate\"}, {\"args\": [[\"80\"], {\"frame\": {\"duration\": 0, \"redraw\": true}, \"fromcurrent\": true, \"mode\": \"immediate\", \"transition\": {\"duration\": 0, \"easing\": \"linear\"}}], \"label\": \"80\", \"method\": \"animate\"}, {\"args\": [[\"81\"], {\"frame\": {\"duration\": 0, \"redraw\": true}, \"fromcurrent\": true, \"mode\": \"immediate\", \"transition\": {\"duration\": 0, \"easing\": \"linear\"}}], \"label\": \"81\", \"method\": \"animate\"}, {\"args\": [[\"82\"], {\"frame\": {\"duration\": 0, \"redraw\": true}, \"fromcurrent\": true, \"mode\": \"immediate\", \"transition\": {\"duration\": 0, \"easing\": \"linear\"}}], \"label\": \"82\", \"method\": \"animate\"}, {\"args\": [[\"83\"], {\"frame\": {\"duration\": 0, \"redraw\": true}, \"fromcurrent\": true, \"mode\": \"immediate\", \"transition\": {\"duration\": 0, \"easing\": \"linear\"}}], \"label\": \"83\", \"method\": \"animate\"}, {\"args\": [[\"84\"], {\"frame\": {\"duration\": 0, \"redraw\": true}, \"fromcurrent\": true, \"mode\": \"immediate\", \"transition\": {\"duration\": 0, \"easing\": \"linear\"}}], \"label\": \"84\", \"method\": \"animate\"}, {\"args\": [[\"85\"], {\"frame\": {\"duration\": 0, \"redraw\": true}, \"fromcurrent\": true, \"mode\": \"immediate\", \"transition\": {\"duration\": 0, \"easing\": \"linear\"}}], \"label\": \"85\", \"method\": \"animate\"}, {\"args\": [[\"86\"], {\"frame\": {\"duration\": 0, \"redraw\": true}, \"fromcurrent\": true, \"mode\": \"immediate\", \"transition\": {\"duration\": 0, \"easing\": \"linear\"}}], \"label\": \"86\", \"method\": \"animate\"}, {\"args\": [[\"87\"], {\"frame\": {\"duration\": 0, \"redraw\": true}, \"fromcurrent\": true, \"mode\": \"immediate\", \"transition\": {\"duration\": 0, \"easing\": \"linear\"}}], \"label\": \"87\", \"method\": \"animate\"}, {\"args\": [[\"88\"], {\"frame\": {\"duration\": 0, \"redraw\": true}, \"fromcurrent\": true, \"mode\": \"immediate\", \"transition\": {\"duration\": 0, \"easing\": \"linear\"}}], \"label\": \"88\", \"method\": \"animate\"}, {\"args\": [[\"89\"], {\"frame\": {\"duration\": 0, \"redraw\": true}, \"fromcurrent\": true, \"mode\": \"immediate\", \"transition\": {\"duration\": 0, \"easing\": \"linear\"}}], \"label\": \"89\", \"method\": \"animate\"}, {\"args\": [[\"90\"], {\"frame\": {\"duration\": 0, \"redraw\": true}, \"fromcurrent\": true, \"mode\": \"immediate\", \"transition\": {\"duration\": 0, \"easing\": \"linear\"}}], \"label\": \"90\", \"method\": \"animate\"}, {\"args\": [[\"91\"], {\"frame\": {\"duration\": 0, \"redraw\": true}, \"fromcurrent\": true, \"mode\": \"immediate\", \"transition\": {\"duration\": 0, \"easing\": \"linear\"}}], \"label\": \"91\", \"method\": \"animate\"}, {\"args\": [[\"92\"], {\"frame\": {\"duration\": 0, \"redraw\": true}, \"fromcurrent\": true, \"mode\": \"immediate\", \"transition\": {\"duration\": 0, \"easing\": \"linear\"}}], \"label\": \"92\", \"method\": \"animate\"}, {\"args\": [[\"93\"], {\"frame\": {\"duration\": 0, \"redraw\": true}, \"fromcurrent\": true, \"mode\": \"immediate\", \"transition\": {\"duration\": 0, \"easing\": \"linear\"}}], \"label\": \"93\", \"method\": \"animate\"}, {\"args\": [[\"94\"], {\"frame\": {\"duration\": 0, \"redraw\": true}, \"fromcurrent\": true, \"mode\": \"immediate\", \"transition\": {\"duration\": 0, \"easing\": \"linear\"}}], \"label\": \"94\", \"method\": \"animate\"}, {\"args\": [[\"95\"], {\"frame\": {\"duration\": 0, \"redraw\": true}, \"fromcurrent\": true, \"mode\": \"immediate\", \"transition\": {\"duration\": 0, \"easing\": \"linear\"}}], \"label\": \"95\", \"method\": \"animate\"}, {\"args\": [[\"96\"], {\"frame\": {\"duration\": 0, \"redraw\": true}, \"fromcurrent\": true, \"mode\": \"immediate\", \"transition\": {\"duration\": 0, \"easing\": \"linear\"}}], \"label\": \"96\", \"method\": \"animate\"}, {\"args\": [[\"97\"], {\"frame\": {\"duration\": 0, \"redraw\": true}, \"fromcurrent\": true, \"mode\": \"immediate\", \"transition\": {\"duration\": 0, \"easing\": \"linear\"}}], \"label\": \"97\", \"method\": \"animate\"}, {\"args\": [[\"98\"], {\"frame\": {\"duration\": 0, \"redraw\": true}, \"fromcurrent\": true, \"mode\": \"immediate\", \"transition\": {\"duration\": 0, \"easing\": \"linear\"}}], \"label\": \"98\", \"method\": \"animate\"}, {\"args\": [[\"99\"], {\"frame\": {\"duration\": 0, \"redraw\": true}, \"fromcurrent\": true, \"mode\": \"immediate\", \"transition\": {\"duration\": 0, \"easing\": \"linear\"}}], \"label\": \"99\", \"method\": \"animate\"}], \"x\": 0.1, \"xanchor\": \"left\", \"y\": 0, \"yanchor\": \"top\"}], \"template\": {\"data\": {\"bar\": [{\"error_x\": {\"color\": \"#2a3f5f\"}, \"error_y\": {\"color\": \"#2a3f5f\"}, \"marker\": {\"line\": {\"color\": \"#E5ECF6\", \"width\": 0.5}}, \"type\": \"bar\"}], \"barpolar\": [{\"marker\": {\"line\": {\"color\": \"#E5ECF6\", \"width\": 0.5}}, \"type\": \"barpolar\"}], \"carpet\": [{\"aaxis\": {\"endlinecolor\": \"#2a3f5f\", \"gridcolor\": \"white\", \"linecolor\": \"white\", \"minorgridcolor\": \"white\", \"startlinecolor\": \"#2a3f5f\"}, \"baxis\": {\"endlinecolor\": \"#2a3f5f\", \"gridcolor\": \"white\", \"linecolor\": \"white\", \"minorgridcolor\": \"white\", \"startlinecolor\": \"#2a3f5f\"}, \"type\": \"carpet\"}], \"choropleth\": [{\"colorbar\": {\"outlinewidth\": 0, \"ticks\": \"\"}, \"type\": \"choropleth\"}], \"contour\": [{\"colorbar\": {\"outlinewidth\": 0, \"ticks\": \"\"}, \"colorscale\": [[0.0, \"#0d0887\"], [0.1111111111111111, \"#46039f\"], [0.2222222222222222, \"#7201a8\"], [0.3333333333333333, \"#9c179e\"], [0.4444444444444444, \"#bd3786\"], [0.5555555555555556, \"#d8576b\"], [0.6666666666666666, \"#ed7953\"], [0.7777777777777778, \"#fb9f3a\"], [0.8888888888888888, \"#fdca26\"], [1.0, \"#f0f921\"]], \"type\": \"contour\"}], \"contourcarpet\": [{\"colorbar\": {\"outlinewidth\": 0, \"ticks\": \"\"}, \"type\": \"contourcarpet\"}], \"heatmap\": [{\"colorbar\": {\"outlinewidth\": 0, \"ticks\": \"\"}, \"colorscale\": [[0.0, \"#0d0887\"], [0.1111111111111111, \"#46039f\"], [0.2222222222222222, \"#7201a8\"], [0.3333333333333333, \"#9c179e\"], [0.4444444444444444, \"#bd3786\"], [0.5555555555555556, \"#d8576b\"], [0.6666666666666666, \"#ed7953\"], [0.7777777777777778, \"#fb9f3a\"], [0.8888888888888888, \"#fdca26\"], [1.0, \"#f0f921\"]], \"type\": \"heatmap\"}], \"heatmapgl\": [{\"colorbar\": {\"outlinewidth\": 0, \"ticks\": \"\"}, \"colorscale\": [[0.0, \"#0d0887\"], [0.1111111111111111, \"#46039f\"], [0.2222222222222222, \"#7201a8\"], [0.3333333333333333, \"#9c179e\"], [0.4444444444444444, \"#bd3786\"], [0.5555555555555556, \"#d8576b\"], [0.6666666666666666, \"#ed7953\"], [0.7777777777777778, \"#fb9f3a\"], [0.8888888888888888, \"#fdca26\"], [1.0, \"#f0f921\"]], \"type\": \"heatmapgl\"}], \"histogram\": [{\"marker\": {\"colorbar\": {\"outlinewidth\": 0, \"ticks\": \"\"}}, \"type\": \"histogram\"}], \"histogram2d\": [{\"colorbar\": {\"outlinewidth\": 0, \"ticks\": \"\"}, \"colorscale\": [[0.0, \"#0d0887\"], [0.1111111111111111, \"#46039f\"], [0.2222222222222222, \"#7201a8\"], [0.3333333333333333, \"#9c179e\"], [0.4444444444444444, \"#bd3786\"], [0.5555555555555556, \"#d8576b\"], [0.6666666666666666, \"#ed7953\"], [0.7777777777777778, \"#fb9f3a\"], [0.8888888888888888, \"#fdca26\"], [1.0, \"#f0f921\"]], \"type\": \"histogram2d\"}], \"histogram2dcontour\": [{\"colorbar\": {\"outlinewidth\": 0, \"ticks\": \"\"}, \"colorscale\": [[0.0, \"#0d0887\"], [0.1111111111111111, \"#46039f\"], [0.2222222222222222, \"#7201a8\"], [0.3333333333333333, \"#9c179e\"], [0.4444444444444444, \"#bd3786\"], [0.5555555555555556, \"#d8576b\"], [0.6666666666666666, \"#ed7953\"], [0.7777777777777778, \"#fb9f3a\"], [0.8888888888888888, \"#fdca26\"], [1.0, \"#f0f921\"]], \"type\": \"histogram2dcontour\"}], \"mesh3d\": [{\"colorbar\": {\"outlinewidth\": 0, \"ticks\": \"\"}, \"type\": \"mesh3d\"}], \"parcoords\": [{\"line\": {\"colorbar\": {\"outlinewidth\": 0, \"ticks\": \"\"}}, \"type\": \"parcoords\"}], \"pie\": [{\"automargin\": true, \"type\": \"pie\"}], \"scatter\": [{\"marker\": {\"colorbar\": {\"outlinewidth\": 0, \"ticks\": \"\"}}, \"type\": \"scatter\"}], \"scatter3d\": [{\"line\": {\"colorbar\": {\"outlinewidth\": 0, \"ticks\": \"\"}}, \"marker\": {\"colorbar\": {\"outlinewidth\": 0, \"ticks\": \"\"}}, \"type\": \"scatter3d\"}], \"scattercarpet\": [{\"marker\": {\"colorbar\": {\"outlinewidth\": 0, \"ticks\": \"\"}}, \"type\": \"scattercarpet\"}], \"scattergeo\": [{\"marker\": {\"colorbar\": {\"outlinewidth\": 0, \"ticks\": \"\"}}, \"type\": \"scattergeo\"}], \"scattergl\": [{\"marker\": {\"colorbar\": {\"outlinewidth\": 0, \"ticks\": \"\"}}, \"type\": \"scattergl\"}], \"scattermapbox\": [{\"marker\": {\"colorbar\": {\"outlinewidth\": 0, \"ticks\": \"\"}}, \"type\": \"scattermapbox\"}], \"scatterpolar\": [{\"marker\": {\"colorbar\": {\"outlinewidth\": 0, \"ticks\": \"\"}}, \"type\": \"scatterpolar\"}], \"scatterpolargl\": [{\"marker\": {\"colorbar\": {\"outlinewidth\": 0, \"ticks\": \"\"}}, \"type\": \"scatterpolargl\"}], \"scatterternary\": [{\"marker\": {\"colorbar\": {\"outlinewidth\": 0, \"ticks\": \"\"}}, \"type\": \"scatterternary\"}], \"surface\": [{\"colorbar\": {\"outlinewidth\": 0, \"ticks\": \"\"}, \"colorscale\": [[0.0, \"#0d0887\"], [0.1111111111111111, \"#46039f\"], [0.2222222222222222, \"#7201a8\"], [0.3333333333333333, \"#9c179e\"], [0.4444444444444444, \"#bd3786\"], [0.5555555555555556, \"#d8576b\"], [0.6666666666666666, \"#ed7953\"], [0.7777777777777778, \"#fb9f3a\"], [0.8888888888888888, \"#fdca26\"], [1.0, \"#f0f921\"]], \"type\": \"surface\"}], \"table\": [{\"cells\": {\"fill\": {\"color\": \"#EBF0F8\"}, \"line\": {\"color\": \"white\"}}, \"header\": {\"fill\": {\"color\": \"#C8D4E3\"}, \"line\": {\"color\": \"white\"}}, \"type\": \"table\"}]}, \"layout\": {\"annotationdefaults\": {\"arrowcolor\": \"#2a3f5f\", \"arrowhead\": 0, \"arrowwidth\": 1}, \"coloraxis\": {\"colorbar\": {\"outlinewidth\": 0, \"ticks\": \"\"}}, \"colorscale\": {\"diverging\": [[0, \"#8e0152\"], [0.1, \"#c51b7d\"], [0.2, \"#de77ae\"], [0.3, \"#f1b6da\"], [0.4, \"#fde0ef\"], [0.5, \"#f7f7f7\"], [0.6, \"#e6f5d0\"], [0.7, \"#b8e186\"], [0.8, \"#7fbc41\"], [0.9, \"#4d9221\"], [1, \"#276419\"]], \"sequential\": [[0.0, \"#0d0887\"], [0.1111111111111111, \"#46039f\"], [0.2222222222222222, \"#7201a8\"], [0.3333333333333333, \"#9c179e\"], [0.4444444444444444, \"#bd3786\"], [0.5555555555555556, \"#d8576b\"], [0.6666666666666666, \"#ed7953\"], [0.7777777777777778, \"#fb9f3a\"], [0.8888888888888888, \"#fdca26\"], [1.0, \"#f0f921\"]], \"sequentialminus\": [[0.0, \"#0d0887\"], [0.1111111111111111, \"#46039f\"], [0.2222222222222222, \"#7201a8\"], [0.3333333333333333, \"#9c179e\"], [0.4444444444444444, \"#bd3786\"], [0.5555555555555556, \"#d8576b\"], [0.6666666666666666, \"#ed7953\"], [0.7777777777777778, \"#fb9f3a\"], [0.8888888888888888, \"#fdca26\"], [1.0, \"#f0f921\"]]}, \"colorway\": [\"#636efa\", \"#EF553B\", \"#00cc96\", \"#ab63fa\", \"#FFA15A\", \"#19d3f3\", \"#FF6692\", \"#B6E880\", \"#FF97FF\", \"#FECB52\"], \"font\": {\"color\": \"#2a3f5f\"}, \"geo\": {\"bgcolor\": \"white\", \"lakecolor\": \"white\", \"landcolor\": \"#E5ECF6\", \"showlakes\": true, \"showland\": true, \"subunitcolor\": \"white\"}, \"hoverlabel\": {\"align\": \"left\"}, \"hovermode\": \"closest\", \"mapbox\": {\"style\": \"light\"}, \"paper_bgcolor\": \"white\", \"plot_bgcolor\": \"#E5ECF6\", \"polar\": {\"angularaxis\": {\"gridcolor\": \"white\", \"linecolor\": \"white\", \"ticks\": \"\"}, \"bgcolor\": \"#E5ECF6\", \"radialaxis\": {\"gridcolor\": \"white\", \"linecolor\": \"white\", \"ticks\": \"\"}}, \"scene\": {\"xaxis\": {\"backgroundcolor\": \"#E5ECF6\", \"gridcolor\": \"white\", \"gridwidth\": 2, \"linecolor\": \"white\", \"showbackground\": true, \"ticks\": \"\", \"zerolinecolor\": \"white\"}, \"yaxis\": {\"backgroundcolor\": \"#E5ECF6\", \"gridcolor\": \"white\", \"gridwidth\": 2, \"linecolor\": \"white\", \"showbackground\": true, \"ticks\": \"\", \"zerolinecolor\": \"white\"}, \"zaxis\": {\"backgroundcolor\": \"#E5ECF6\", \"gridcolor\": \"white\", \"gridwidth\": 2, \"linecolor\": \"white\", \"showbackground\": true, \"ticks\": \"\", \"zerolinecolor\": \"white\"}}, \"shapedefaults\": {\"line\": {\"color\": \"#2a3f5f\"}}, \"ternary\": {\"aaxis\": {\"gridcolor\": \"white\", \"linecolor\": \"white\", \"ticks\": \"\"}, \"baxis\": {\"gridcolor\": \"white\", \"linecolor\": \"white\", \"ticks\": \"\"}, \"bgcolor\": \"#E5ECF6\", \"caxis\": {\"gridcolor\": \"white\", \"linecolor\": \"white\", \"ticks\": \"\"}}, \"title\": {\"x\": 0.05}, \"xaxis\": {\"automargin\": true, \"gridcolor\": \"white\", \"linecolor\": \"white\", \"ticks\": \"\", \"title\": {\"standoff\": 15}, \"zerolinecolor\": \"white\", \"zerolinewidth\": 2}, \"yaxis\": {\"automargin\": true, \"gridcolor\": \"white\", \"linecolor\": \"white\", \"ticks\": \"\", \"title\": {\"standoff\": 15}, \"zerolinecolor\": \"white\", \"zerolinewidth\": 2}}}, \"updatemenus\": [{\"buttons\": [{\"args\": [null, {\"frame\": {\"duration\": 500, \"redraw\": true}, \"fromcurrent\": true, \"mode\": \"immediate\", \"transition\": {\"duration\": 500, \"easing\": \"linear\"}}], \"label\": \"&#9654;\", \"method\": \"animate\"}, {\"args\": [[null], {\"frame\": {\"duration\": 0, \"redraw\": true}, \"fromcurrent\": true, \"mode\": \"immediate\", \"transition\": {\"duration\": 0, \"easing\": \"linear\"}}], \"label\": \"&#9724;\", \"method\": \"animate\"}], \"direction\": \"left\", \"pad\": {\"r\": 10, \"t\": 70}, \"showactive\": false, \"type\": \"buttons\", \"x\": 0.1, \"xanchor\": \"right\", \"y\": 0, \"yanchor\": \"top\"}], \"xaxis\": {\"anchor\": \"y\", \"domain\": [0.0, 1.0], \"range\": [0, 317], \"title\": {\"text\": \"Length\"}}, \"yaxis\": {\"anchor\": \"x\", \"domain\": [0.0, 1.0], \"title\": {\"text\": \"count\"}}},\n",
              "                        {\"responsive\": true}\n",
              "                    ).then(function(){\n",
              "                            Plotly.addFrames('6871b344-6d9e-4ea3-be90-81efeffea5ec', [{\"data\": [{\"alignmentgroup\": \"True\", \"bingroup\": \"x\", \"hoverlabel\": {\"namelength\": 0}, \"hovertemplate\": \"Iteration=0<br>Length=%{x}<br>count=%{y}\", \"legendgroup\": \"\", \"marker\": {\"color\": \"#636efa\"}, \"name\": \"\", \"nbinsx\": 317, \"offsetgroup\": \"\", \"orientation\": \"v\", \"showlegend\": false, \"x\": [1, 1, 1, 1, 1, 1, 1, 1, 1, 1, 1, 1, 1, 1, 1, 1, 1, 1, 1, 1, 1, 1, 1, 1, 1, 1, 1, 1, 1, 1, 1, 1, 1, 1, 1, 1, 1, 1, 1, 1, 1, 1, 1, 1, 1, 1, 1, 1, 1, 1, 1, 1, 1, 1, 1, 1, 1, 1, 1, 1, 1, 1, 1, 1, 1, 1, 1, 1, 1, 1, 1, 1, 2, 2, 2, 2, 2, 2, 2, 2, 2, 2, 2, 2, 2, 2], \"xaxis\": \"x\", \"yaxis\": \"y\", \"type\": \"histogram\"}], \"name\": \"0\"}, {\"data\": [{\"alignmentgroup\": \"True\", \"bingroup\": \"x\", \"hoverlabel\": {\"namelength\": 0}, \"hovertemplate\": \"Iteration=1<br>Length=%{x}<br>count=%{y}\", \"legendgroup\": \"\", \"marker\": {\"color\": \"#636efa\"}, \"name\": \"\", \"nbinsx\": 317, \"offsetgroup\": \"\", \"orientation\": \"v\", \"showlegend\": false, \"x\": [1, 1, 1, 3, 2, 1, 1, 1, 1, 1, 1, 1, 1, 1, 1, 4, 1, 1, 1, 1, 1, 1, 1, 1, 1, 1, 1, 2, 1, 1, 1, 1, 1, 1, 1, 1, 1, 1, 1, 1, 1, 1, 1, 1, 1, 1, 1, 1, 1, 1, 1, 1, 1, 1, 1, 1, 1, 1, 1, 3, 1, 1, 1, 1, 1, 1, 3, 1, 1, 2, 2, 3, 1, 1, 3, 2, 2, 3, 1, 1, 2, 1, 1, 2, 3, 2, 2], \"xaxis\": \"x\", \"yaxis\": \"y\", \"type\": \"histogram\"}], \"name\": \"1\"}, {\"data\": [{\"alignmentgroup\": \"True\", \"bingroup\": \"x\", \"hoverlabel\": {\"namelength\": 0}, \"hovertemplate\": \"Iteration=2<br>Length=%{x}<br>count=%{y}\", \"legendgroup\": \"\", \"marker\": {\"color\": \"#636efa\"}, \"name\": \"\", \"nbinsx\": 317, \"offsetgroup\": \"\", \"orientation\": \"v\", \"showlegend\": false, \"x\": [1, 1, 1, 1, 1, 1, 1, 1, 1, 1, 1, 1, 1, 1, 1, 1, 1, 1, 1, 1, 1, 6, 2, 1, 1, 1, 1, 1, 1, 1, 1, 1, 1, 1, 1, 2, 1, 1, 1, 1, 1, 1, 1, 1, 1, 1, 1, 1, 1, 1, 1, 1, 1, 1, 1, 1, 1, 5, 1, 1, 1, 1, 2, 1, 1, 1, 1, 1, 1, 1, 1, 1, 2, 1, 1, 1, 1, 3, 2, 4, 4, 2, 1, 2, 2, 1, 4, 1, 1, 2, 1, 1, 2, 4], \"xaxis\": \"x\", \"yaxis\": \"y\", \"type\": \"histogram\"}], \"name\": \"2\"}, {\"data\": [{\"alignmentgroup\": \"True\", \"bingroup\": \"x\", \"hoverlabel\": {\"namelength\": 0}, \"hovertemplate\": \"Iteration=3<br>Length=%{x}<br>count=%{y}\", \"legendgroup\": \"\", \"marker\": {\"color\": \"#636efa\"}, \"name\": \"\", \"nbinsx\": 317, \"offsetgroup\": \"\", \"orientation\": \"v\", \"showlegend\": false, \"x\": [1, 1, 1, 1, 2, 1, 1, 1, 7, 1, 1, 1, 3, 1, 3, 1, 1, 1, 4, 1, 1, 1, 1, 1, 1, 1, 1, 1, 1, 1, 1, 1, 1, 1, 1, 4, 1, 1, 1, 1, 1, 1, 1, 1, 3, 1, 1, 1, 1, 1, 4, 1, 1, 1, 1, 3, 1, 1, 1, 1, 1, 1, 1, 1, 1, 1, 1, 1, 1, 1, 1, 2, 2, 1, 5, 2, 2, 2, 2, 2, 5, 5, 3, 3, 2], \"xaxis\": \"x\", \"yaxis\": \"y\", \"type\": \"histogram\"}], \"name\": \"3\"}, {\"data\": [{\"alignmentgroup\": \"True\", \"bingroup\": \"x\", \"hoverlabel\": {\"namelength\": 0}, \"hovertemplate\": \"Iteration=4<br>Length=%{x}<br>count=%{y}\", \"legendgroup\": \"\", \"marker\": {\"color\": \"#636efa\"}, \"name\": \"\", \"nbinsx\": 317, \"offsetgroup\": \"\", \"orientation\": \"v\", \"showlegend\": false, \"x\": [1, 1, 4, 1, 1, 1, 1, 1, 1, 1, 1, 2, 1, 1, 4, 1, 1, 1, 1, 1, 3, 1, 1, 7, 1, 9, 1, 1, 1, 3, 1, 1, 3, 1, 1, 1, 4, 1, 1, 1, 1, 3, 1, 1, 1, 1, 4, 1, 1, 1, 1, 1, 1, 1, 1, 1, 1, 1, 1, 1, 3, 2, 1, 1, 1, 1, 5, 1, 1, 1, 2, 6, 1, 1, 2, 1, 2, 3, 1, 2, 2, 2, 4, 2, 3, 2], \"xaxis\": \"x\", \"yaxis\": \"y\", \"type\": \"histogram\"}], \"name\": \"4\"}, {\"data\": [{\"alignmentgroup\": \"True\", \"bingroup\": \"x\", \"hoverlabel\": {\"namelength\": 0}, \"hovertemplate\": \"Iteration=5<br>Length=%{x}<br>count=%{y}\", \"legendgroup\": \"\", \"marker\": {\"color\": \"#636efa\"}, \"name\": \"\", \"nbinsx\": 317, \"offsetgroup\": \"\", \"orientation\": \"v\", \"showlegend\": false, \"x\": [1, 5, 6, 1, 1, 1, 1, 1, 1, 1, 3, 1, 1, 5, 2, 1, 1, 1, 1, 1, 1, 2, 1, 1, 1, 3, 3, 2, 1, 1, 3, 1, 1, 1, 1, 1, 1, 1, 1, 1, 1, 1, 1, 12, 1, 1, 1, 1, 1, 1, 1, 5, 2, 1, 1, 1, 1, 5, 1, 1, 2, 1, 1, 1, 1, 1, 1, 1, 1, 1, 3, 2, 1, 4, 2, 2, 1, 3, 1, 2, 1, 2, 4, 3, 2, 2, 2, 5, 2, 3], \"xaxis\": \"x\", \"yaxis\": \"y\", \"type\": \"histogram\"}], \"name\": \"5\"}, {\"data\": [{\"alignmentgroup\": \"True\", \"bingroup\": \"x\", \"hoverlabel\": {\"namelength\": 0}, \"hovertemplate\": \"Iteration=6<br>Length=%{x}<br>count=%{y}\", \"legendgroup\": \"\", \"marker\": {\"color\": \"#636efa\"}, \"name\": \"\", \"nbinsx\": 317, \"offsetgroup\": \"\", \"orientation\": \"v\", \"showlegend\": false, \"x\": [6, 1, 1, 1, 3, 1, 1, 6, 1, 1, 1, 1, 1, 3, 2, 1, 1, 1, 6, 1, 1, 1, 1, 1, 1, 1, 3, 4, 1, 1, 1, 3, 2, 3, 17, 1, 1, 1, 1, 5, 1, 4, 1, 7, 1, 2, 1, 1, 1, 1, 2, 1, 4, 1, 1, 1, 1, 1, 3, 1, 1, 1, 1, 1, 1, 1, 1, 2, 3, 1, 6, 2, 1, 2, 2, 1, 2, 1, 4, 2, 1, 1, 2, 3, 3], \"xaxis\": \"x\", \"yaxis\": \"y\", \"type\": \"histogram\"}], \"name\": \"6\"}, {\"data\": [{\"alignmentgroup\": \"True\", \"bingroup\": \"x\", \"hoverlabel\": {\"namelength\": 0}, \"hovertemplate\": \"Iteration=7<br>Length=%{x}<br>count=%{y}\", \"legendgroup\": \"\", \"marker\": {\"color\": \"#636efa\"}, \"name\": \"\", \"nbinsx\": 317, \"offsetgroup\": \"\", \"orientation\": \"v\", \"showlegend\": false, \"x\": [1, 1, 2, 4, 1, 1, 1, 1, 5, 1, 1, 1, 1, 1, 1, 1, 1, 1, 5, 1, 1, 2, 3, 1, 3, 2, 1, 1, 2, 6, 6, 8, 1, 6, 1, 1, 2, 7, 1, 1, 1, 1, 4, 6, 1, 1, 1, 1, 1, 1, 1, 1, 1, 1, 1, 1, 6, 1, 1, 1, 1, 4, 1, 5, 1, 1, 1, 1, 1, 3, 5, 1, 2, 2, 1, 2, 18, 7, 2, 2, 2, 3], \"xaxis\": \"x\", \"yaxis\": \"y\", \"type\": \"histogram\"}], \"name\": \"7\"}, {\"data\": [{\"alignmentgroup\": \"True\", \"bingroup\": \"x\", \"hoverlabel\": {\"namelength\": 0}, \"hovertemplate\": \"Iteration=8<br>Length=%{x}<br>count=%{y}\", \"legendgroup\": \"\", \"marker\": {\"color\": \"#636efa\"}, \"name\": \"\", \"nbinsx\": 317, \"offsetgroup\": \"\", \"orientation\": \"v\", \"showlegend\": false, \"x\": [1, 6, 1, 1, 1, 1, 4, 2, 1, 1, 1, 1, 1, 1, 3, 1, 1, 1, 2, 1, 4, 1, 1, 1, 1, 1, 1, 3, 1, 1, 6, 1, 1, 1, 1, 1, 1, 4, 1, 4, 1, 1, 1, 1, 11, 1, 1, 1, 1, 3, 1, 4, 1, 1, 1, 2, 1, 7, 1, 1, 6, 1, 1, 1, 1, 1, 2, 1, 1, 1, 3, 1, 2, 7, 1, 3, 5, 7, 2, 2, 1, 3, 1, 1, 2, 1, 1, 3, 8, 2, 2, 1, 1, 19], \"xaxis\": \"x\", \"yaxis\": \"y\", \"type\": \"histogram\"}], \"name\": \"8\"}, {\"data\": [{\"alignmentgroup\": \"True\", \"bingroup\": \"x\", \"hoverlabel\": {\"namelength\": 0}, \"hovertemplate\": \"Iteration=9<br>Length=%{x}<br>count=%{y}\", \"legendgroup\": \"\", \"marker\": {\"color\": \"#636efa\"}, \"name\": \"\", \"nbinsx\": 317, \"offsetgroup\": \"\", \"orientation\": \"v\", \"showlegend\": false, \"x\": [1, 1, 1, 26, 1, 1, 1, 1, 7, 1, 5, 1, 1, 2, 1, 1, 1, 10, 1, 1, 1, 1, 1, 9, 1, 1, 1, 1, 1, 1, 1, 8, 1, 1, 1, 3, 1, 4, 4, 8, 1, 1, 1, 1, 1, 1, 1, 6, 4, 1, 1, 1, 1, 3, 1, 1, 1, 1, 13, 1, 5, 1, 3, 1, 1, 6, 1, 1, 1, 1, 6, 2, 1, 1, 1, 1, 1, 1, 1, 4, 1, 2, 4, 4, 3], \"xaxis\": \"x\", \"yaxis\": \"y\", \"type\": \"histogram\"}], \"name\": \"9\"}, {\"data\": [{\"alignmentgroup\": \"True\", \"bingroup\": \"x\", \"hoverlabel\": {\"namelength\": 0}, \"hovertemplate\": \"Iteration=10<br>Length=%{x}<br>count=%{y}\", \"legendgroup\": \"\", \"marker\": {\"color\": \"#636efa\"}, \"name\": \"\", \"nbinsx\": 317, \"offsetgroup\": \"\", \"orientation\": \"v\", \"showlegend\": false, \"x\": [1, 1, 1, 1, 3, 1, 5, 1, 1, 1, 1, 1, 1, 1, 1, 1, 1, 27, 1, 1, 1, 1, 1, 1, 1, 1, 1, 1, 1, 1, 7, 10, 1, 1, 7, 1, 1, 3, 4, 1, 1, 1, 8, 11, 1, 8, 1, 1, 1, 1, 1, 1, 1, 1, 1, 1, 1, 1, 1, 10, 1, 8, 1, 7, 1, 1, 1, 1, 1, 2, 3, 1, 3, 1, 2, 3, 2, 5, 4, 1, 3, 5, 7, 6, 5], \"xaxis\": \"x\", \"yaxis\": \"y\", \"type\": \"histogram\"}], \"name\": \"10\"}, {\"data\": [{\"alignmentgroup\": \"True\", \"bingroup\": \"x\", \"hoverlabel\": {\"namelength\": 0}, \"hovertemplate\": \"Iteration=11<br>Length=%{x}<br>count=%{y}\", \"legendgroup\": \"\", \"marker\": {\"color\": \"#636efa\"}, \"name\": \"\", \"nbinsx\": 317, \"offsetgroup\": \"\", \"orientation\": \"v\", \"showlegend\": false, \"x\": [1, 1, 8, 1, 7, 3, 1, 1, 1, 1, 1, 1, 1, 1, 1, 1, 2, 1, 1, 1, 1, 1, 1, 1, 1, 1, 1, 1, 1, 1, 1, 5, 1, 1, 5, 1, 1, 32, 1, 11, 1, 1, 1, 3, 1, 1, 1, 1, 1, 1, 1, 8, 1, 1, 1, 1, 1, 1, 5, 5, 1, 1, 1, 1, 1, 1, 2, 8, 1, 7, 11, 5, 2, 5, 6, 6, 1, 2, 12, 2, 1, 1, 1, 2, 9, 6, 1, 2], \"xaxis\": \"x\", \"yaxis\": \"y\", \"type\": \"histogram\"}], \"name\": \"11\"}, {\"data\": [{\"alignmentgroup\": \"True\", \"bingroup\": \"x\", \"hoverlabel\": {\"namelength\": 0}, \"hovertemplate\": \"Iteration=12<br>Length=%{x}<br>count=%{y}\", \"legendgroup\": \"\", \"marker\": {\"color\": \"#636efa\"}, \"name\": \"\", \"nbinsx\": 317, \"offsetgroup\": \"\", \"orientation\": \"v\", \"showlegend\": false, \"x\": [1, 2, 2, 1, 5, 1, 1, 1, 1, 1, 1, 1, 1, 1, 1, 1, 1, 1, 3, 1, 1, 1, 1, 17, 1, 2, 1, 1, 1, 3, 1, 1, 7, 1, 4, 1, 1, 1, 17, 2, 1, 1, 1, 1, 1, 10, 1, 1, 1, 1, 7, 1, 4, 1, 1, 1, 1, 1, 1, 1, 1, 1, 1, 3, 2, 13, 3, 6, 1, 12, 2, 9, 2, 2, 2, 3, 2, 28, 2, 2, 1, 6, 1, 6, 7, 2, 2], \"xaxis\": \"x\", \"yaxis\": \"y\", \"type\": \"histogram\"}], \"name\": \"12\"}, {\"data\": [{\"alignmentgroup\": \"True\", \"bingroup\": \"x\", \"hoverlabel\": {\"namelength\": 0}, \"hovertemplate\": \"Iteration=13<br>Length=%{x}<br>count=%{y}\", \"legendgroup\": \"\", \"marker\": {\"color\": \"#636efa\"}, \"name\": \"\", \"nbinsx\": 317, \"offsetgroup\": \"\", \"orientation\": \"v\", \"showlegend\": false, \"x\": [2, 1, 1, 1, 2, 4, 5, 1, 1, 1, 1, 1, 1, 1, 1, 1, 1, 14, 10, 13, 1, 1, 1, 1, 4, 1, 13, 1, 1, 1, 1, 3, 1, 2, 4, 4, 1, 1, 11, 15, 1, 29, 1, 1, 7, 1, 1, 1, 5, 1, 7, 1, 2, 1, 3, 1, 1, 13, 1, 1, 2, 2, 2, 1, 1, 3, 1, 1, 7, 2, 4, 1, 1, 2, 12, 2, 2, 2, 8], \"xaxis\": \"x\", \"yaxis\": \"y\", \"type\": \"histogram\"}], \"name\": \"13\"}, {\"data\": [{\"alignmentgroup\": \"True\", \"bingroup\": \"x\", \"hoverlabel\": {\"namelength\": 0}, \"hovertemplate\": \"Iteration=14<br>Length=%{x}<br>count=%{y}\", \"legendgroup\": \"\", \"marker\": {\"color\": \"#636efa\"}, \"name\": \"\", \"nbinsx\": 317, \"offsetgroup\": \"\", \"orientation\": \"v\", \"showlegend\": false, \"x\": [1, 1, 5, 1, 1, 1, 9, 1, 3, 3, 1, 2, 1, 1, 1, 1, 1, 1, 1, 1, 1, 8, 1, 1, 1, 1, 1, 3, 1, 4, 1, 4, 3, 1, 1, 1, 1, 4, 10, 1, 1, 1, 1, 4, 1, 1, 1, 1, 9, 4, 1, 1, 1, 1, 1, 3, 3, 1, 1, 10, 8, 1, 1, 14, 20, 2, 1, 3, 6, 1, 6, 12, 5, 11, 1, 2, 4, 2, 5, 1, 15, 2, 1, 1, 5, 14, 5, 5], \"xaxis\": \"x\", \"yaxis\": \"y\", \"type\": \"histogram\"}], \"name\": \"14\"}, {\"data\": [{\"alignmentgroup\": \"True\", \"bingroup\": \"x\", \"hoverlabel\": {\"namelength\": 0}, \"hovertemplate\": \"Iteration=15<br>Length=%{x}<br>count=%{y}\", \"legendgroup\": \"\", \"marker\": {\"color\": \"#636efa\"}, \"name\": \"\", \"nbinsx\": 317, \"offsetgroup\": \"\", \"orientation\": \"v\", \"showlegend\": false, \"x\": [8, 1, 1, 1, 1, 10, 1, 1, 17, 1, 4, 1, 3, 13, 1, 1, 1, 7, 4, 2, 1, 8, 1, 1, 1, 1, 10, 1, 1, 1, 1, 1, 1, 18, 9, 1, 16, 1, 1, 1, 3, 1, 1, 1, 1, 1, 1, 2, 1, 1, 1, 1, 3, 1, 1, 1, 10, 1, 1, 1, 2, 1, 1, 1, 3, 1, 1, 1, 1, 15, 21, 11, 2, 5, 7, 1, 2, 1, 1, 7, 9, 7, 2, 1, 2, 2, 1, 1], \"xaxis\": \"x\", \"yaxis\": \"y\", \"type\": \"histogram\"}], \"name\": \"15\"}, {\"data\": [{\"alignmentgroup\": \"True\", \"bingroup\": \"x\", \"hoverlabel\": {\"namelength\": 0}, \"hovertemplate\": \"Iteration=16<br>Length=%{x}<br>count=%{y}\", \"legendgroup\": \"\", \"marker\": {\"color\": \"#636efa\"}, \"name\": \"\", \"nbinsx\": 317, \"offsetgroup\": \"\", \"orientation\": \"v\", \"showlegend\": false, \"x\": [1, 1, 13, 1, 1, 1, 1, 1, 8, 5, 1, 1, 21, 1, 1, 1, 2, 1, 1, 1, 2, 1, 1, 1, 1, 1, 1, 9, 1, 1, 1, 1, 3, 17, 1, 2, 1, 1, 1, 1, 1, 12, 1, 1, 14, 1, 1, 11, 4, 1, 1, 1, 1, 1, 1, 3, 1, 1, 10, 1, 1, 1, 5, 1, 12, 1, 1, 19, 1, 2, 2, 5, 1, 9, 1, 1, 1, 3, 1, 4, 1, 1, 6, 2, 2, 12, 9, 3, 2, 3, 14, 2, 2], \"xaxis\": \"x\", \"yaxis\": \"y\", \"type\": \"histogram\"}], \"name\": \"16\"}, {\"data\": [{\"alignmentgroup\": \"True\", \"bingroup\": \"x\", \"hoverlabel\": {\"namelength\": 0}, \"hovertemplate\": \"Iteration=17<br>Length=%{x}<br>count=%{y}\", \"legendgroup\": \"\", \"marker\": {\"color\": \"#636efa\"}, \"name\": \"\", \"nbinsx\": 317, \"offsetgroup\": \"\", \"orientation\": \"v\", \"showlegend\": false, \"x\": [6, 1, 2, 1, 1, 1, 2, 1, 1, 1, 3, 1, 9, 9, 1, 1, 1, 1, 1, 1, 1, 1, 1, 3, 1, 2, 1, 1, 7, 1, 1, 1, 1, 1, 4, 1, 1, 1, 1, 9, 1, 1, 1, 1, 3, 7, 1, 5, 1, 1, 22, 1, 12, 1, 33, 1, 1, 1, 1, 1, 1, 1, 1, 1, 1, 4, 16, 5, 1, 4, 1, 1, 1, 10, 1, 1, 1, 13, 15, 1, 1, 1, 4, 3, 10, 11, 10, 3, 1, 6, 1, 1, 4, 1], \"xaxis\": \"x\", \"yaxis\": \"y\", \"type\": \"histogram\"}], \"name\": \"17\"}, {\"data\": [{\"alignmentgroup\": \"True\", \"bingroup\": \"x\", \"hoverlabel\": {\"namelength\": 0}, \"hovertemplate\": \"Iteration=18<br>Length=%{x}<br>count=%{y}\", \"legendgroup\": \"\", \"marker\": {\"color\": \"#636efa\"}, \"name\": \"\", \"nbinsx\": 317, \"offsetgroup\": \"\", \"orientation\": \"v\", \"showlegend\": false, \"x\": [19, 2, 1, 1, 1, 1, 2, 1, 1, 1, 4, 1, 1, 12, 1, 1, 1, 4, 1, 8, 1, 1, 14, 7, 1, 1, 1, 1, 1, 1, 1, 1, 1, 3, 1, 1, 1, 1, 1, 1, 1, 7, 1, 3, 8, 1, 1, 1, 1, 6, 35, 7, 1, 1, 1, 1, 1, 1, 1, 2, 1, 1, 1, 1, 1, 3, 11, 2, 2, 1, 4, 6, 15, 1, 4, 1, 10, 15, 1, 1, 14, 2, 13, 2, 5, 2, 4, 7, 1, 5, 1], \"xaxis\": \"x\", \"yaxis\": \"y\", \"type\": \"histogram\"}], \"name\": \"18\"}, {\"data\": [{\"alignmentgroup\": \"True\", \"bingroup\": \"x\", \"hoverlabel\": {\"namelength\": 0}, \"hovertemplate\": \"Iteration=19<br>Length=%{x}<br>count=%{y}\", \"legendgroup\": \"\", \"marker\": {\"color\": \"#636efa\"}, \"name\": \"\", \"nbinsx\": 317, \"offsetgroup\": \"\", \"orientation\": \"v\", \"showlegend\": false, \"x\": [1, 1, 25, 1, 1, 2, 1, 15, 1, 1, 2, 1, 1, 3, 41, 1, 12, 1, 5, 1, 1, 8, 1, 1, 1, 1, 1, 1, 1, 9, 11, 1, 1, 1, 1, 2, 11, 1, 2, 1, 1, 1, 1, 1, 1, 1, 1, 29, 18, 1, 1, 1, 2, 1, 5, 1, 1, 1, 1, 1, 1, 9, 1, 26, 1, 9, 2, 8, 3, 1, 1, 2, 2, 2, 2, 5, 1, 1, 2, 2, 2, 2, 2, 2], \"xaxis\": \"x\", \"yaxis\": \"y\", \"type\": \"histogram\"}], \"name\": \"19\"}, {\"data\": [{\"alignmentgroup\": \"True\", \"bingroup\": \"x\", \"hoverlabel\": {\"namelength\": 0}, \"hovertemplate\": \"Iteration=20<br>Length=%{x}<br>count=%{y}\", \"legendgroup\": \"\", \"marker\": {\"color\": \"#636efa\"}, \"name\": \"\", \"nbinsx\": 317, \"offsetgroup\": \"\", \"orientation\": \"v\", \"showlegend\": false, \"x\": [1, 1, 1, 1, 2, 1, 1, 1, 1, 1, 1, 1, 4, 1, 1, 1, 4, 1, 1, 1, 1, 11, 1, 17, 27, 1, 1, 1, 1, 1, 1, 4, 1, 17, 1, 3, 5, 2, 1, 42, 1, 1, 12, 2, 1, 1, 1, 1, 1, 2, 1, 1, 13, 1, 1, 34, 40, 1, 1, 1, 2, 1, 2, 1, 1, 2, 1, 1, 1, 1, 5, 1, 1, 1, 1, 1, 2, 7, 2, 1, 7, 1, 2, 1, 10, 6, 4], \"xaxis\": \"x\", \"yaxis\": \"y\", \"type\": \"histogram\"}], \"name\": \"20\"}, {\"data\": [{\"alignmentgroup\": \"True\", \"bingroup\": \"x\", \"hoverlabel\": {\"namelength\": 0}, \"hovertemplate\": \"Iteration=21<br>Length=%{x}<br>count=%{y}\", \"legendgroup\": \"\", \"marker\": {\"color\": \"#636efa\"}, \"name\": \"\", \"nbinsx\": 317, \"offsetgroup\": \"\", \"orientation\": \"v\", \"showlegend\": false, \"x\": [1, 1, 1, 1, 2, 1, 1, 1, 1, 7, 1, 1, 34, 1, 1, 1, 1, 1, 1, 8, 1, 1, 1, 1, 2, 1, 1, 1, 1, 1, 1, 1, 2, 39, 4, 1, 2, 1, 8, 2, 1, 1, 1, 1, 1, 1, 1, 29, 1, 1, 5, 2, 42, 1, 1, 9, 1, 1, 1, 1, 1, 1, 14, 1, 1, 1, 1, 2, 2, 2, 3, 3, 1, 2, 12, 3, 1, 2, 2, 2, 38, 2, 2, 4, 2, 1, 1, 2, 1, 11], \"xaxis\": \"x\", \"yaxis\": \"y\", \"type\": \"histogram\"}], \"name\": \"21\"}, {\"data\": [{\"alignmentgroup\": \"True\", \"bingroup\": \"x\", \"hoverlabel\": {\"namelength\": 0}, \"hovertemplate\": \"Iteration=22<br>Length=%{x}<br>count=%{y}\", \"legendgroup\": \"\", \"marker\": {\"color\": \"#636efa\"}, \"name\": \"\", \"nbinsx\": 317, \"offsetgroup\": \"\", \"orientation\": \"v\", \"showlegend\": false, \"x\": [1, 1, 1, 1, 1, 3, 9, 1, 1, 1, 3, 1, 1, 1, 1, 2, 1, 5, 7, 1, 1, 2, 36, 8, 1, 1, 1, 40, 1, 1, 1, 2, 1, 1, 1, 1, 4, 1, 1, 1, 1, 1, 1, 6, 1, 1, 1, 1, 1, 30, 1, 1, 1, 1, 23, 4, 1, 1, 1, 1, 1, 3, 5, 1, 1, 3, 1, 1, 5, 13, 1, 12, 6, 1, 1, 1, 4, 1, 1, 2, 2, 12, 3, 2, 40, 11, 1, 1, 3, 5], \"xaxis\": \"x\", \"yaxis\": \"y\", \"type\": \"histogram\"}], \"name\": \"22\"}, {\"data\": [{\"alignmentgroup\": \"True\", \"bingroup\": \"x\", \"hoverlabel\": {\"namelength\": 0}, \"hovertemplate\": \"Iteration=23<br>Length=%{x}<br>count=%{y}\", \"legendgroup\": \"\", \"marker\": {\"color\": \"#636efa\"}, \"name\": \"\", \"nbinsx\": 317, \"offsetgroup\": \"\", \"orientation\": \"v\", \"showlegend\": false, \"x\": [5, 1, 1, 7, 2, 1, 1, 39, 2, 1, 1, 4, 4, 1, 1, 1, 1, 31, 1, 1, 1, 1, 1, 1, 1, 4, 1, 1, 12, 1, 1, 1, 1, 1, 1, 1, 1, 1, 1, 1, 1, 1, 18, 1, 2, 1, 7, 13, 1, 1, 1, 1, 1, 1, 43, 2, 1, 1, 1, 19, 1, 9, 1, 1, 1, 1, 2, 13, 1, 1, 1, 1, 1, 1, 1, 8, 11, 4, 1, 2, 1, 2, 2, 11, 1, 2, 4, 1, 1, 1, 7, 1, 1, 2, 1, 25], \"xaxis\": \"x\", \"yaxis\": \"y\", \"type\": \"histogram\"}], \"name\": \"23\"}, {\"data\": [{\"alignmentgroup\": \"True\", \"bingroup\": \"x\", \"hoverlabel\": {\"namelength\": 0}, \"hovertemplate\": \"Iteration=24<br>Length=%{x}<br>count=%{y}\", \"legendgroup\": \"\", \"marker\": {\"color\": \"#636efa\"}, \"name\": \"\", \"nbinsx\": 317, \"offsetgroup\": \"\", \"orientation\": \"v\", \"showlegend\": false, \"x\": [1, 1, 1, 1, 2, 1, 1, 1, 34, 1, 1, 1, 1, 6, 1, 1, 1, 2, 1, 1, 1, 1, 7, 1, 1, 1, 33, 1, 1, 25, 1, 1, 1, 1, 1, 1, 21, 1, 1, 1, 2, 2, 1, 13, 1, 3, 1, 1, 1, 20, 1, 1, 1, 9, 13, 1, 2, 1, 6, 1, 43, 1, 1, 1, 1, 9, 1, 1, 9, 2, 8, 14, 2, 5, 2, 2, 2, 9, 26, 2, 2], \"xaxis\": \"x\", \"yaxis\": \"y\", \"type\": \"histogram\"}], \"name\": \"24\"}, {\"data\": [{\"alignmentgroup\": \"True\", \"bingroup\": \"x\", \"hoverlabel\": {\"namelength\": 0}, \"hovertemplate\": \"Iteration=25<br>Length=%{x}<br>count=%{y}\", \"legendgroup\": \"\", \"marker\": {\"color\": \"#636efa\"}, \"name\": \"\", \"nbinsx\": 317, \"offsetgroup\": \"\", \"orientation\": \"v\", \"showlegend\": false, \"x\": [2, 1, 1, 1, 1, 1, 1, 1, 1, 1, 1, 1, 8, 1, 35, 27, 1, 2, 1, 1, 1, 8, 1, 1, 1, 1, 1, 1, 1, 1, 18, 1, 1, 1, 1, 1, 2, 4, 1, 1, 1, 3, 1, 1, 2, 1, 1, 1, 1, 1, 59, 64, 1, 1, 2, 6, 1, 1, 1, 1, 2, 1, 1, 21, 1, 1, 1, 14, 1, 1, 7, 1, 6, 3, 1, 1, 10, 2, 5, 3, 2, 2, 9, 14, 5, 3], \"xaxis\": \"x\", \"yaxis\": \"y\", \"type\": \"histogram\"}], \"name\": \"25\"}, {\"data\": [{\"alignmentgroup\": \"True\", \"bingroup\": \"x\", \"hoverlabel\": {\"namelength\": 0}, \"hovertemplate\": \"Iteration=26<br>Length=%{x}<br>count=%{y}\", \"legendgroup\": \"\", \"marker\": {\"color\": \"#636efa\"}, \"name\": \"\", \"nbinsx\": 317, \"offsetgroup\": \"\", \"orientation\": \"v\", \"showlegend\": false, \"x\": [1, 1, 1, 1, 1, 4, 1, 1, 4, 65, 1, 1, 1, 2, 1, 1, 1, 1, 1, 1, 1, 1, 1, 1, 1, 11, 1, 13, 14, 1, 1, 1, 4, 5, 1, 1, 1, 2, 28, 1, 1, 1, 10, 4, 1, 1, 1, 1, 1, 1, 1, 6, 1, 1, 1, 1, 1, 19, 1, 1, 1, 36, 1, 14, 12, 1, 1, 2, 1, 15, 2, 4, 2, 2, 1, 3, 1, 1, 19, 3, 2, 1, 2, 2, 2, 45, 7], \"xaxis\": \"x\", \"yaxis\": \"y\", \"type\": \"histogram\"}], \"name\": \"26\"}, {\"data\": [{\"alignmentgroup\": \"True\", \"bingroup\": \"x\", \"hoverlabel\": {\"namelength\": 0}, \"hovertemplate\": \"Iteration=27<br>Length=%{x}<br>count=%{y}\", \"legendgroup\": \"\", \"marker\": {\"color\": \"#636efa\"}, \"name\": \"\", \"nbinsx\": 317, \"offsetgroup\": \"\", \"orientation\": \"v\", \"showlegend\": false, \"x\": [1, 1, 4, 1, 4, 1, 1, 1, 2, 1, 5, 1, 1, 1, 2, 1, 1, 3, 1, 1, 1, 1, 1, 1, 1, 1, 17, 1, 1, 4, 1, 1, 1, 1, 2, 1, 4, 1, 1, 1, 1, 3, 1, 1, 67, 18, 34, 1, 1, 1, 1, 1, 1, 12, 1, 1, 1, 11, 1, 1, 37, 1, 13, 1, 1, 1, 4, 13, 1, 1, 5, 1, 1, 1, 1, 2, 3, 8, 3, 28, 2, 2, 7, 13, 15, 1, 1, 4, 1, 1, 1, 16, 2, 3, 1], \"xaxis\": \"x\", \"yaxis\": \"y\", \"type\": \"histogram\"}], \"name\": \"27\"}, {\"data\": [{\"alignmentgroup\": \"True\", \"bingroup\": \"x\", \"hoverlabel\": {\"namelength\": 0}, \"hovertemplate\": \"Iteration=28<br>Length=%{x}<br>count=%{y}\", \"legendgroup\": \"\", \"marker\": {\"color\": \"#636efa\"}, \"name\": \"\", \"nbinsx\": 317, \"offsetgroup\": \"\", \"orientation\": \"v\", \"showlegend\": false, \"x\": [1, 1, 1, 3, 1, 18, 2, 6, 4, 1, 3, 1, 2, 1, 24, 2, 1, 1, 1, 1, 1, 4, 1, 3, 1, 1, 1, 1, 1, 1, 1, 1, 1, 1, 33, 1, 17, 7, 1, 1, 1, 1, 1, 1, 6, 2, 1, 1, 1, 1, 1, 1, 1, 4, 1, 1, 1, 1, 1, 1, 1, 1, 1, 23, 4, 8, 1, 1, 1, 12, 1, 12, 2, 1, 2, 7, 10, 1, 6, 68, 2, 1, 1, 4, 14, 30, 4, 4, 14, 17], \"xaxis\": \"x\", \"yaxis\": \"y\", \"type\": \"histogram\"}], \"name\": \"28\"}, {\"data\": [{\"alignmentgroup\": \"True\", \"bingroup\": \"x\", \"hoverlabel\": {\"namelength\": 0}, \"hovertemplate\": \"Iteration=29<br>Length=%{x}<br>count=%{y}\", \"legendgroup\": \"\", \"marker\": {\"color\": \"#636efa\"}, \"name\": \"\", \"nbinsx\": 317, \"offsetgroup\": \"\", \"orientation\": \"v\", \"showlegend\": false, \"x\": [18, 2, 18, 10, 1, 5, 1, 1, 1, 1, 1, 1, 22, 6, 1, 1, 1, 1, 1, 1, 1, 1, 13, 1, 1, 1, 1, 1, 1, 1, 1, 1, 37, 76, 1, 1, 1, 1, 5, 1, 1, 1, 6, 2, 1, 1, 1, 3, 2, 11, 6, 1, 2, 1, 1, 1, 1, 1, 1, 25, 1, 5, 1, 1, 1, 1, 1, 27, 1, 1, 1, 9, 2, 1, 2, 3, 1, 1, 2, 2, 1, 1, 3, 7, 25, 1, 1, 2, 1, 15, 2, 11, 2, 1], \"xaxis\": \"x\", \"yaxis\": \"y\", \"type\": \"histogram\"}], \"name\": \"29\"}, {\"data\": [{\"alignmentgroup\": \"True\", \"bingroup\": \"x\", \"hoverlabel\": {\"namelength\": 0}, \"hovertemplate\": \"Iteration=30<br>Length=%{x}<br>count=%{y}\", \"legendgroup\": \"\", \"marker\": {\"color\": \"#636efa\"}, \"name\": \"\", \"nbinsx\": 317, \"offsetgroup\": \"\", \"orientation\": \"v\", \"showlegend\": false, \"x\": [3, 1, 19, 1, 3, 1, 1, 28, 1, 2, 4, 1, 1, 1, 1, 1, 1, 1, 1, 20, 1, 5, 1, 32, 1, 1, 1, 20, 36, 1, 1, 1, 1, 1, 1, 1, 7, 7, 1, 1, 1, 2, 1, 4, 1, 6, 3, 16, 1, 1, 1, 21, 1, 1, 1, 1, 1, 1, 1, 1, 1, 1, 1, 1, 2, 1, 1, 2, 2, 1, 3, 3, 2, 33, 3, 6, 3, 77, 2, 7, 2, 2, 5, 2, 2, 9], \"xaxis\": \"x\", \"yaxis\": \"y\", \"type\": \"histogram\"}], \"name\": \"30\"}, {\"data\": [{\"alignmentgroup\": \"True\", \"bingroup\": \"x\", \"hoverlabel\": {\"namelength\": 0}, \"hovertemplate\": \"Iteration=31<br>Length=%{x}<br>count=%{y}\", \"legendgroup\": \"\", \"marker\": {\"color\": \"#636efa\"}, \"name\": \"\", \"nbinsx\": 317, \"offsetgroup\": \"\", \"orientation\": \"v\", \"showlegend\": false, \"x\": [7, 1, 1, 1, 2, 1, 1, 1, 1, 7, 1, 1, 1, 33, 4, 1, 9, 2, 1, 2, 1, 2, 1, 22, 1, 1, 22, 18, 21, 1, 1, 4, 1, 8, 1, 1, 7, 1, 3, 1, 1, 1, 3, 1, 1, 1, 4, 13, 1, 31, 1, 4, 1, 1, 3, 1, 1, 1, 1, 1, 1, 1, 10, 1, 1, 6, 3, 1, 5, 1, 2, 2, 2, 26, 78, 8, 1, 3, 23, 1, 1, 2, 1, 1, 2, 15, 1], \"xaxis\": \"x\", \"yaxis\": \"y\", \"type\": \"histogram\"}], \"name\": \"31\"}, {\"data\": [{\"alignmentgroup\": \"True\", \"bingroup\": \"x\", \"hoverlabel\": {\"namelength\": 0}, \"hovertemplate\": \"Iteration=32<br>Length=%{x}<br>count=%{y}\", \"legendgroup\": \"\", \"marker\": {\"color\": \"#636efa\"}, \"name\": \"\", \"nbinsx\": 317, \"offsetgroup\": \"\", \"orientation\": \"v\", \"showlegend\": false, \"x\": [7, 28, 2, 27, 1, 1, 1, 3, 1, 1, 1, 1, 3, 25, 6, 1, 2, 1, 1, 3, 1, 1, 5, 1, 1, 1, 1, 1, 24, 1, 1, 17, 3, 1, 1, 1, 1, 1, 1, 1, 7, 1, 1, 3, 3, 1, 1, 1, 1, 2, 1, 1, 1, 1, 1, 1, 1, 1, 23, 1, 1, 16, 10, 4, 1, 2, 37, 1, 5, 23, 3, 1, 2, 2, 1, 2, 3, 32, 3, 1, 9, 79, 2, 3, 3], \"xaxis\": \"x\", \"yaxis\": \"y\", \"type\": \"histogram\"}], \"name\": \"32\"}, {\"data\": [{\"alignmentgroup\": \"True\", \"bingroup\": \"x\", \"hoverlabel\": {\"namelength\": 0}, \"hovertemplate\": \"Iteration=33<br>Length=%{x}<br>count=%{y}\", \"legendgroup\": \"\", \"marker\": {\"color\": \"#636efa\"}, \"name\": \"\", \"nbinsx\": 317, \"offsetgroup\": \"\", \"orientation\": \"v\", \"showlegend\": false, \"x\": [1, 1, 14, 3, 11, 1, 1, 1, 6, 1, 1, 2, 1, 1, 1, 1, 1, 1, 1, 1, 7, 1, 2, 1, 5, 1, 1, 28, 1, 1, 1, 1, 1, 1, 1, 1, 30, 1, 1, 3, 1, 8, 1, 11, 1, 5, 1, 1, 20, 1, 1, 1, 25, 1, 1, 1, 1, 2, 48, 21, 1, 1, 4, 2, 1, 1, 10, 1, 9, 1, 3, 33, 23, 2, 3, 2, 80, 4, 1, 9, 5, 2, 2, 1, 2], \"xaxis\": \"x\", \"yaxis\": \"y\", \"type\": \"histogram\"}], \"name\": \"33\"}, {\"data\": [{\"alignmentgroup\": \"True\", \"bingroup\": \"x\", \"hoverlabel\": {\"namelength\": 0}, \"hovertemplate\": \"Iteration=34<br>Length=%{x}<br>count=%{y}\", \"legendgroup\": \"\", \"marker\": {\"color\": \"#636efa\"}, \"name\": \"\", \"nbinsx\": 317, \"offsetgroup\": \"\", \"orientation\": \"v\", \"showlegend\": false, \"x\": [1, 1, 1, 1, 1, 7, 1, 1, 1, 1, 1, 10, 1, 1, 1, 1, 4, 1, 23, 1, 22, 1, 1, 1, 1, 1, 1, 1, 11, 4, 2, 1, 27, 1, 1, 1, 54, 1, 110, 1, 1, 1, 3, 1, 1, 1, 8, 5, 1, 1, 2, 6, 1, 8, 1, 1, 1, 5, 1, 1, 1, 1, 2, 1, 16, 1, 2, 2, 2, 2, 22, 1, 7, 2, 10, 1, 9, 12, 3, 7, 17, 3, 2, 1, 3, 17, 6, 3, 1], \"xaxis\": \"x\", \"yaxis\": \"y\", \"type\": \"histogram\"}], \"name\": \"34\"}, {\"data\": [{\"alignmentgroup\": \"True\", \"bingroup\": \"x\", \"hoverlabel\": {\"namelength\": 0}, \"hovertemplate\": \"Iteration=35<br>Length=%{x}<br>count=%{y}\", \"legendgroup\": \"\", \"marker\": {\"color\": \"#636efa\"}, \"name\": \"\", \"nbinsx\": 317, \"offsetgroup\": \"\", \"orientation\": \"v\", \"showlegend\": false, \"x\": [1, 1, 7, 17, 7, 1, 1, 8, 1, 1, 2, 1, 1, 6, 13, 1, 1, 1, 13, 1, 1, 1, 1, 1, 1, 6, 1, 6, 1, 1, 26, 19, 1, 1, 9, 1, 1, 4, 13, 3, 7, 1, 1, 1, 2, 44, 1, 1, 4, 1, 1, 1, 1, 2, 1, 24, 1, 1, 113, 1, 1, 1, 1, 1, 9, 8, 1, 3, 2, 13, 2, 8, 9, 4, 11, 55], \"xaxis\": \"x\", \"yaxis\": \"y\", \"type\": \"histogram\"}], \"name\": \"35\"}, {\"data\": [{\"alignmentgroup\": \"True\", \"bingroup\": \"x\", \"hoverlabel\": {\"namelength\": 0}, \"hovertemplate\": \"Iteration=36<br>Length=%{x}<br>count=%{y}\", \"legendgroup\": \"\", \"marker\": {\"color\": \"#636efa\"}, \"name\": \"\", \"nbinsx\": 317, \"offsetgroup\": \"\", \"orientation\": \"v\", \"showlegend\": false, \"x\": [1, 1, 1, 1, 1, 13, 14, 1, 1, 8, 1, 64, 1, 1, 1, 8, 1, 1, 1, 1, 1, 1, 20, 1, 46, 61, 14, 1, 1, 1, 19, 1, 1, 5, 1, 45, 1, 5, 1, 1, 1, 1, 2, 1, 1, 1, 1, 1, 12, 1, 1, 4, 5, 3, 1, 1, 5, 1, 6, 1, 1, 1, 1, 1, 1, 1, 1, 15, 1, 1, 10, 1, 8, 1, 52, 4, 8, 4, 1, 1, 2, 18, 2, 3, 2, 2, 3], \"xaxis\": \"x\", \"yaxis\": \"y\", \"type\": \"histogram\"}], \"name\": \"36\"}, {\"data\": [{\"alignmentgroup\": \"True\", \"bingroup\": \"x\", \"hoverlabel\": {\"namelength\": 0}, \"hovertemplate\": \"Iteration=37<br>Length=%{x}<br>count=%{y}\", \"legendgroup\": \"\", \"marker\": {\"color\": \"#636efa\"}, \"name\": \"\", \"nbinsx\": 317, \"offsetgroup\": \"\", \"orientation\": \"v\", \"showlegend\": false, \"x\": [1, 1, 1, 1, 11, 1, 1, 9, 1, 1, 1, 1, 79, 1, 5, 4, 1, 1, 1, 1, 17, 1, 9, 3, 1, 1, 2, 1, 1, 1, 1, 9, 1, 1, 1, 1, 1, 1, 3, 2, 51, 1, 9, 1, 1, 1, 1, 1, 1, 66, 6, 1, 7, 1, 1, 1, 1, 1, 8, 1, 1, 1, 7, 1, 2, 15, 2, 1, 9, 16, 28, 2, 2, 5, 2, 5, 18, 3, 53, 2, 5, 20, 13, 1, 2], \"xaxis\": \"x\", \"yaxis\": \"y\", \"type\": \"histogram\"}], \"name\": \"37\"}, {\"data\": [{\"alignmentgroup\": \"True\", \"bingroup\": \"x\", \"hoverlabel\": {\"namelength\": 0}, \"hovertemplate\": \"Iteration=38<br>Length=%{x}<br>count=%{y}\", \"legendgroup\": \"\", \"marker\": {\"color\": \"#636efa\"}, \"name\": \"\", \"nbinsx\": 317, \"offsetgroup\": \"\", \"orientation\": \"v\", \"showlegend\": false, \"x\": [1, 6, 2, 1, 1, 11, 1, 2, 1, 29, 1, 9, 1, 15, 1, 1, 1, 2, 1, 1, 1, 1, 44, 3, 1, 88, 1, 1, 20, 1, 1, 1, 1, 1, 1, 5, 21, 1, 1, 1, 1, 1, 1, 1, 1, 1, 1, 7, 1, 49, 3, 1, 18, 8, 1, 4, 1, 9, 1, 1, 1, 1, 1, 1, 1, 1, 9, 3, 1, 1, 1, 4, 1, 4, 8, 4, 1, 1, 5, 9, 2, 3, 3, 3, 2, 2, 7, 18, 7, 2, 67, 5], \"xaxis\": \"x\", \"yaxis\": \"y\", \"type\": \"histogram\"}], \"name\": \"38\"}, {\"data\": [{\"alignmentgroup\": \"True\", \"bingroup\": \"x\", \"hoverlabel\": {\"namelength\": 0}, \"hovertemplate\": \"Iteration=39<br>Length=%{x}<br>count=%{y}\", \"legendgroup\": \"\", \"marker\": {\"color\": \"#636efa\"}, \"name\": \"\", \"nbinsx\": 317, \"offsetgroup\": \"\", \"orientation\": \"v\", \"showlegend\": false, \"x\": [16, 1, 1, 8, 9, 1, 6, 1, 1, 1, 1, 1, 2, 1, 1, 1, 10, 1, 1, 1, 11, 1, 52, 8, 9, 1, 1, 1, 1, 12, 13, 1, 1, 22, 1, 1, 1, 4, 1, 1, 2, 1, 1, 73, 13, 1, 1, 1, 1, 1, 1, 1, 1, 1, 70, 1, 1, 1, 1, 21, 1, 1, 7, 1, 2, 7, 1, 3, 4, 1, 1, 1, 1, 43, 36, 6, 17, 1, 2, 6, 2, 21, 7, 1, 2, 1, 3], \"xaxis\": \"x\", \"yaxis\": \"y\", \"type\": \"histogram\"}], \"name\": \"39\"}, {\"data\": [{\"alignmentgroup\": \"True\", \"bingroup\": \"x\", \"hoverlabel\": {\"namelength\": 0}, \"hovertemplate\": \"Iteration=40<br>Length=%{x}<br>count=%{y}\", \"legendgroup\": \"\", \"marker\": {\"color\": \"#636efa\"}, \"name\": \"\", \"nbinsx\": 317, \"offsetgroup\": \"\", \"orientation\": \"v\", \"showlegend\": false, \"x\": [27, 1, 1, 1, 54, 1, 1, 1, 1, 1, 1, 71, 1, 2, 1, 4, 7, 1, 1, 2, 89, 1, 1, 9, 8, 5, 1, 1, 7, 11, 1, 1, 1, 1, 1, 1, 1, 1, 1, 1, 1, 1, 1, 1, 1, 14, 1, 1, 1, 1, 1, 1, 1, 1, 1, 1, 8, 8, 32, 1, 1, 13, 1, 1, 10, 1, 3, 1, 1, 41, 1, 1, 8, 1, 9, 5, 1, 2, 8, 1, 19, 2, 2, 22, 3, 1, 1, 4, 18, 11], \"xaxis\": \"x\", \"yaxis\": \"y\", \"type\": \"histogram\"}], \"name\": \"40\"}, {\"data\": [{\"alignmentgroup\": \"True\", \"bingroup\": \"x\", \"hoverlabel\": {\"namelength\": 0}, \"hovertemplate\": \"Iteration=41<br>Length=%{x}<br>count=%{y}\", \"legendgroup\": \"\", \"marker\": {\"color\": \"#636efa\"}, \"name\": \"\", \"nbinsx\": 317, \"offsetgroup\": \"\", \"orientation\": \"v\", \"showlegend\": false, \"x\": [1, 10, 21, 1, 1, 1, 75, 1, 3, 1, 1, 20, 1, 1, 1, 4, 1, 2, 1, 1, 1, 1, 1, 1, 1, 1, 6, 10, 1, 1, 1, 1, 42, 1, 1, 6, 9, 1, 1, 1, 1, 3, 30, 1, 1, 7, 36, 10, 80, 1, 1, 7, 1, 1, 12, 1, 1, 1, 20, 1, 1, 6, 1, 1, 1, 1, 1, 1, 1, 1, 1, 2, 1, 10, 1, 16, 1, 11, 5, 11, 2, 13, 1, 2, 20, 18, 9, 1, 12], \"xaxis\": \"x\", \"yaxis\": \"y\", \"type\": \"histogram\"}], \"name\": \"41\"}, {\"data\": [{\"alignmentgroup\": \"True\", \"bingroup\": \"x\", \"hoverlabel\": {\"namelength\": 0}, \"hovertemplate\": \"Iteration=42<br>Length=%{x}<br>count=%{y}\", \"legendgroup\": \"\", \"marker\": {\"color\": \"#636efa\"}, \"name\": \"\", \"nbinsx\": 317, \"offsetgroup\": \"\", \"orientation\": \"v\", \"showlegend\": false, \"x\": [10, 1, 1, 1, 15, 2, 1, 20, 1, 7, 32, 1, 1, 19, 1, 2, 1, 1, 1, 1, 1, 1, 1, 1, 1, 1, 1, 1, 1, 1, 1, 1, 2, 1, 1, 13, 25, 1, 4, 1, 1, 1, 1, 1, 1, 1, 1, 1, 45, 1, 1, 1, 1, 1, 1, 105, 21, 2, 1, 1, 1, 1, 1, 1, 1, 1, 4, 1, 1, 1, 25, 1, 28, 1, 8, 73, 7, 17, 1, 2, 8, 14, 12, 13, 17, 1, 1, 1, 2, 2], \"xaxis\": \"x\", \"yaxis\": \"y\", \"type\": \"histogram\"}], \"name\": \"42\"}, {\"data\": [{\"alignmentgroup\": \"True\", \"bingroup\": \"x\", \"hoverlabel\": {\"namelength\": 0}, \"hovertemplate\": \"Iteration=43<br>Length=%{x}<br>count=%{y}\", \"legendgroup\": \"\", \"marker\": {\"color\": \"#636efa\"}, \"name\": \"\", \"nbinsx\": 317, \"offsetgroup\": \"\", \"orientation\": \"v\", \"showlegend\": false, \"x\": [1, 1, 1, 4, 1, 1, 1, 1, 2, 94, 1, 1, 4, 24, 1, 1, 1, 1, 1, 30, 1, 1, 2, 1, 1, 1, 1, 1, 1, 1, 4, 1, 1, 21, 1, 1, 6, 1, 1, 1, 1, 1, 16, 1, 1, 1, 1, 1, 5, 1, 5, 1, 45, 1, 1, 1, 8, 1, 18, 1, 1, 8, 33, 1, 1, 1, 10, 2, 2, 21, 106, 3, 4, 46, 2, 2, 2, 3, 2, 2, 2, 26, 4, 9], \"xaxis\": \"x\", \"yaxis\": \"y\", \"type\": \"histogram\"}], \"name\": \"43\"}, {\"data\": [{\"alignmentgroup\": \"True\", \"bingroup\": \"x\", \"hoverlabel\": {\"namelength\": 0}, \"hovertemplate\": \"Iteration=44<br>Length=%{x}<br>count=%{y}\", \"legendgroup\": \"\", \"marker\": {\"color\": \"#636efa\"}, \"name\": \"\", \"nbinsx\": 317, \"offsetgroup\": \"\", \"orientation\": \"v\", \"showlegend\": false, \"x\": [3, 1, 1, 3, 3, 1, 1, 1, 1, 1, 1, 1, 1, 29, 1, 2, 1, 1, 1, 1, 1, 1, 1, 1, 49, 1, 1, 1, 14, 1, 1, 1, 1, 95, 1, 1, 1, 3, 1, 6, 7, 1, 4, 1, 1, 13, 3, 1, 107, 1, 1, 1, 1, 6, 16, 1, 1, 1, 1, 23, 1, 20, 64, 1, 1, 1, 1, 1, 1, 2, 1, 2, 2, 34, 25, 9, 5, 1, 31, 3, 1, 2, 3, 1], \"xaxis\": \"x\", \"yaxis\": \"y\", \"type\": \"histogram\"}], \"name\": \"44\"}, {\"data\": [{\"alignmentgroup\": \"True\", \"bingroup\": \"x\", \"hoverlabel\": {\"namelength\": 0}, \"hovertemplate\": \"Iteration=45<br>Length=%{x}<br>count=%{y}\", \"legendgroup\": \"\", \"marker\": {\"color\": \"#636efa\"}, \"name\": \"\", \"nbinsx\": 317, \"offsetgroup\": \"\", \"orientation\": \"v\", \"showlegend\": false, \"x\": [1, 1, 1, 1, 3, 1, 1, 1, 1, 113, 1, 3, 1, 1, 1, 1, 1, 1, 1, 1, 1, 1, 6, 1, 1, 1, 1, 1, 1, 1, 108, 1, 6, 1, 1, 1, 6, 1, 124, 1, 32, 1, 1, 8, 1, 1, 7, 1, 16, 1, 1, 1, 1, 1, 1, 1, 1, 33, 1, 1, 1, 9, 1, 4, 2, 1, 15, 2, 35, 2, 1, 2, 10, 2, 21, 2, 1, 15, 7, 2, 4, 3, 3], \"xaxis\": \"x\", \"yaxis\": \"y\", \"type\": \"histogram\"}], \"name\": \"45\"}, {\"data\": [{\"alignmentgroup\": \"True\", \"bingroup\": \"x\", \"hoverlabel\": {\"namelength\": 0}, \"hovertemplate\": \"Iteration=46<br>Length=%{x}<br>count=%{y}\", \"legendgroup\": \"\", \"marker\": {\"color\": \"#636efa\"}, \"name\": \"\", \"nbinsx\": 317, \"offsetgroup\": \"\", \"orientation\": \"v\", \"showlegend\": false, \"x\": [1, 21, 1, 1, 1, 1, 1, 1, 107, 5, 3, 3, 1, 1, 6, 10, 1, 1, 1, 73, 1, 1, 9, 1, 23, 1, 1, 1, 1, 1, 8, 1, 1, 1, 1, 1, 1, 1, 1, 17, 1, 1, 1, 1, 1, 1, 12, 1, 1, 1, 1, 1, 1, 6, 8, 1, 1, 1, 25, 1, 1, 24, 8, 1, 1, 1, 1, 1, 1, 1, 1, 1, 114, 14, 1, 1, 2, 17, 26, 35, 2, 2, 34, 2, 1, 1], \"xaxis\": \"x\", \"yaxis\": \"y\", \"type\": \"histogram\"}], \"name\": \"46\"}, {\"data\": [{\"alignmentgroup\": \"True\", \"bingroup\": \"x\", \"hoverlabel\": {\"namelength\": 0}, \"hovertemplate\": \"Iteration=47<br>Length=%{x}<br>count=%{y}\", \"legendgroup\": \"\", \"marker\": {\"color\": \"#636efa\"}, \"name\": \"\", \"nbinsx\": 317, \"offsetgroup\": \"\", \"orientation\": \"v\", \"showlegend\": false, \"x\": [3, 1, 1, 11, 1, 1, 1, 1, 1, 1, 3, 1, 9, 1, 113, 1, 1, 35, 1, 9, 1, 1, 1, 1, 1, 1, 1, 37, 1, 25, 1, 1, 22, 1, 3, 1, 1, 1, 16, 1, 1, 1, 1, 1, 27, 1, 1, 1, 1, 4, 1, 1, 1, 1, 1, 1, 1, 1, 1, 23, 1, 1, 2, 76, 1, 1, 1, 1, 1, 1, 1, 25, 1, 3, 6, 1, 1, 2, 10, 1, 2, 79, 2, 18, 13, 13, 11, 21, 7], \"xaxis\": \"x\", \"yaxis\": \"y\", \"type\": \"histogram\"}], \"name\": \"47\"}, {\"data\": [{\"alignmentgroup\": \"True\", \"bingroup\": \"x\", \"hoverlabel\": {\"namelength\": 0}, \"hovertemplate\": \"Iteration=48<br>Length=%{x}<br>count=%{y}\", \"legendgroup\": \"\", \"marker\": {\"color\": \"#636efa\"}, \"name\": \"\", \"nbinsx\": 317, \"offsetgroup\": \"\", \"orientation\": \"v\", \"showlegend\": false, \"x\": [1, 1, 10, 1, 1, 1, 1, 3, 1, 1, 1, 4, 1, 1, 1, 21, 1, 1, 1, 119, 1, 48, 1, 1, 1, 1, 1, 2, 1, 38, 1, 1, 10, 1, 1, 1, 62, 12, 1, 1, 1, 1, 12, 1, 7, 1, 1, 1, 14, 1, 3, 1, 1, 21, 1, 1, 5, 1, 1, 1, 1, 3, 1, 1, 1, 7, 12, 1, 2, 77, 3, 2, 2, 11, 2, 23, 23, 72, 2, 4, 5, 3, 4, 3], \"xaxis\": \"x\", \"yaxis\": \"y\", \"type\": \"histogram\"}], \"name\": \"48\"}, {\"data\": [{\"alignmentgroup\": \"True\", \"bingroup\": \"x\", \"hoverlabel\": {\"namelength\": 0}, \"hovertemplate\": \"Iteration=49<br>Length=%{x}<br>count=%{y}\", \"legendgroup\": \"\", \"marker\": {\"color\": \"#636efa\"}, \"name\": \"\", \"nbinsx\": 317, \"offsetgroup\": \"\", \"orientation\": \"v\", \"showlegend\": false, \"x\": [1, 1, 1, 1, 1, 1, 1, 1, 1, 1, 73, 1, 32, 3, 1, 1, 1, 1, 13, 1, 33, 22, 1, 1, 12, 1, 1, 4, 1, 17, 1, 1, 1, 1, 1, 1, 2, 1, 1, 1, 1, 1, 63, 1, 115, 4, 1, 1, 1, 1, 1, 3, 50, 1, 1, 1, 1, 1, 1, 13, 6, 2, 1, 1, 1, 7, 1, 3, 1, 2, 8, 20, 1, 2, 2, 1, 3, 1, 2, 5, 1, 1, 1, 8, 2, 1, 5, 1, 1, 2, 1, 113, 5], \"xaxis\": \"x\", \"yaxis\": \"y\", \"type\": \"histogram\"}], \"name\": \"49\"}, {\"data\": [{\"alignmentgroup\": \"True\", \"bingroup\": \"x\", \"hoverlabel\": {\"namelength\": 0}, \"hovertemplate\": \"Iteration=50<br>Length=%{x}<br>count=%{y}\", \"legendgroup\": \"\", \"marker\": {\"color\": \"#636efa\"}, \"name\": \"\", \"nbinsx\": 317, \"offsetgroup\": \"\", \"orientation\": \"v\", \"showlegend\": false, \"x\": [1, 1, 1, 1, 35, 1, 54, 1, 1, 1, 1, 3, 1, 1, 1, 1, 35, 1, 2, 1, 1, 1, 118, 1, 1, 1, 1, 3, 1, 1, 1, 1, 1, 1, 1, 5, 1, 1, 1, 4, 1, 1, 1, 2, 1, 1, 1, 65, 1, 1, 1, 1, 1, 1, 1, 1, 1, 1, 15, 1, 1, 1, 4, 1, 12, 1, 21, 21, 1, 1, 115, 1, 9, 19, 2, 3, 1, 4, 1, 14, 9, 34, 21, 2, 3, 2, 29], \"xaxis\": \"x\", \"yaxis\": \"y\", \"type\": \"histogram\"}], \"name\": \"50\"}, {\"data\": [{\"alignmentgroup\": \"True\", \"bingroup\": \"x\", \"hoverlabel\": {\"namelength\": 0}, \"hovertemplate\": \"Iteration=51<br>Length=%{x}<br>count=%{y}\", \"legendgroup\": \"\", \"marker\": {\"color\": \"#636efa\"}, \"name\": \"\", \"nbinsx\": 317, \"offsetgroup\": \"\", \"orientation\": \"v\", \"showlegend\": false, \"x\": [1, 1, 1, 1, 1, 1, 2, 1, 5, 6, 1, 1, 1, 1, 1, 1, 1, 1, 1, 116, 1, 1, 1, 1, 1, 4, 6, 1, 33, 66, 5, 1, 1, 1, 1, 1, 11, 3, 13, 1, 1, 1, 1, 1, 1, 1, 69, 1, 1, 1, 1, 1, 1, 13, 1, 85, 8, 36, 2, 22, 36, 2, 15, 2, 4, 3, 1, 2, 3, 28, 1, 20, 3, 2, 15, 4, 2, 33, 13], \"xaxis\": \"x\", \"yaxis\": \"y\", \"type\": \"histogram\"}], \"name\": \"51\"}, {\"data\": [{\"alignmentgroup\": \"True\", \"bingroup\": \"x\", \"hoverlabel\": {\"namelength\": 0}, \"hovertemplate\": \"Iteration=52<br>Length=%{x}<br>count=%{y}\", \"legendgroup\": \"\", \"marker\": {\"color\": \"#636efa\"}, \"name\": \"\", \"nbinsx\": 317, \"offsetgroup\": \"\", \"orientation\": \"v\", \"showlegend\": false, \"x\": [23, 1, 1, 2, 1, 2, 1, 1, 75, 2, 1, 1, 1, 1, 1, 67, 7, 1, 5, 1, 30, 1, 1, 15, 1, 1, 1, 14, 1, 1, 1, 1, 3, 1, 1, 1, 1, 1, 1, 3, 34, 1, 1, 12, 117, 1, 1, 1, 1, 1, 1, 1, 1, 13, 1, 1, 1, 1, 38, 3, 1, 1, 1, 1, 23, 3, 2, 2, 34, 2, 1, 2, 21, 1, 2, 1, 86, 2, 7, 2, 2, 14, 2, 37], \"xaxis\": \"x\", \"yaxis\": \"y\", \"type\": \"histogram\"}], \"name\": \"52\"}, {\"data\": [{\"alignmentgroup\": \"True\", \"bingroup\": \"x\", \"hoverlabel\": {\"namelength\": 0}, \"hovertemplate\": \"Iteration=53<br>Length=%{x}<br>count=%{y}\", \"legendgroup\": \"\", \"marker\": {\"color\": \"#636efa\"}, \"name\": \"\", \"nbinsx\": 317, \"offsetgroup\": \"\", \"orientation\": \"v\", \"showlegend\": false, \"x\": [1, 4, 1, 36, 1, 1, 1, 1, 1, 1, 1, 25, 1, 68, 2, 1, 2, 1, 46, 7, 1, 32, 1, 1, 1, 34, 1, 1, 1, 1, 4, 1, 1, 1, 2, 2, 1, 1, 1, 1, 3, 1, 1, 1, 1, 4, 1, 2, 1, 1, 1, 3, 1, 1, 1, 1, 3, 1, 3, 1, 8, 1, 100, 4, 1, 1, 1, 35, 1, 39, 1, 1, 1, 1, 3, 71, 7, 19, 2, 35, 2, 1, 1, 13, 4, 76, 16, 1, 2, 1], \"xaxis\": \"x\", \"yaxis\": \"y\", \"type\": \"histogram\"}], \"name\": \"53\"}, {\"data\": [{\"alignmentgroup\": \"True\", \"bingroup\": \"x\", \"hoverlabel\": {\"namelength\": 0}, \"hovertemplate\": \"Iteration=54<br>Length=%{x}<br>count=%{y}\", \"legendgroup\": \"\", \"marker\": {\"color\": \"#636efa\"}, \"name\": \"\", \"nbinsx\": 317, \"offsetgroup\": \"\", \"orientation\": \"v\", \"showlegend\": false, \"x\": [36, 1, 1, 1, 1, 1, 21, 1, 1, 1, 12, 2, 4, 2, 1, 1, 1, 1, 1, 1, 1, 9, 1, 1, 48, 3, 55, 1, 78, 1, 1, 1, 1, 1, 1, 1, 2, 1, 1, 62, 1, 50, 1, 1, 1, 1, 35, 1, 1, 2, 32, 1, 1, 1, 4, 1, 1, 1, 1, 1, 1, 36, 1, 3, 1, 36, 2, 17, 1, 45, 4, 4, 40, 2, 5, 2, 3, 6, 72, 2], \"xaxis\": \"x\", \"yaxis\": \"y\", \"type\": \"histogram\"}], \"name\": \"54\"}, {\"data\": [{\"alignmentgroup\": \"True\", \"bingroup\": \"x\", \"hoverlabel\": {\"namelength\": 0}, \"hovertemplate\": \"Iteration=55<br>Length=%{x}<br>count=%{y}\", \"legendgroup\": \"\", \"marker\": {\"color\": \"#636efa\"}, \"name\": \"\", \"nbinsx\": 317, \"offsetgroup\": \"\", \"orientation\": \"v\", \"showlegend\": false, \"x\": [76, 1, 1, 1, 64, 1, 9, 46, 90, 1, 1, 1, 1, 4, 1, 1, 3, 1, 74, 1, 1, 19, 1, 1, 1, 1, 1, 1, 14, 1, 1, 1, 5, 1, 1, 1, 1, 1, 1, 22, 1, 1, 4, 2, 1, 1, 1, 1, 1, 1, 1, 33, 1, 1, 1, 1, 1, 1, 5, 1, 1, 1, 1, 1, 35, 1, 2, 2, 51, 5, 1, 36, 3, 1, 1, 1, 22, 2, 3, 56, 3, 1, 2, 46, 10], \"xaxis\": \"x\", \"yaxis\": \"y\", \"type\": \"histogram\"}], \"name\": \"55\"}, {\"data\": [{\"alignmentgroup\": \"True\", \"bingroup\": \"x\", \"hoverlabel\": {\"namelength\": 0}, \"hovertemplate\": \"Iteration=56<br>Length=%{x}<br>count=%{y}\", \"legendgroup\": \"\", \"marker\": {\"color\": \"#636efa\"}, \"name\": \"\", \"nbinsx\": 317, \"offsetgroup\": \"\", \"orientation\": \"v\", \"showlegend\": false, \"x\": [1, 3, 32, 1, 37, 1, 1, 1, 6, 1, 1, 19, 1, 1, 1, 1, 1, 1, 1, 1, 20, 1, 1, 1, 1, 1, 1, 1, 1, 1, 1, 1, 21, 49, 1, 3, 1, 18, 3, 13, 1, 1, 1, 11, 1, 1, 60, 1, 1, 1, 1, 1, 1, 2, 1, 1, 1, 2, 1, 42, 1, 1, 2, 1, 1, 1, 1, 1, 2, 107, 1, 2, 10, 36, 2, 2, 69, 2, 46, 1, 1, 4, 33, 2, 65, 20, 2, 1, 9, 3, 4], \"xaxis\": \"x\", \"yaxis\": \"y\", \"type\": \"histogram\"}], \"name\": \"56\"}, {\"data\": [{\"alignmentgroup\": \"True\", \"bingroup\": \"x\", \"hoverlabel\": {\"namelength\": 0}, \"hovertemplate\": \"Iteration=57<br>Length=%{x}<br>count=%{y}\", \"legendgroup\": \"\", \"marker\": {\"color\": \"#636efa\"}, \"name\": \"\", \"nbinsx\": 317, \"offsetgroup\": \"\", \"orientation\": \"v\", \"showlegend\": false, \"x\": [47, 1, 1, 4, 1, 1, 2, 1, 1, 3, 6, 1, 1, 1, 63, 1, 1, 16, 1, 1, 1, 1, 33, 51, 12, 1, 1, 29, 1, 15, 1, 1, 1, 1, 1, 3, 45, 1, 1, 1, 14, 1, 7, 38, 1, 1, 1, 1, 1, 1, 1, 1, 1, 1, 1, 66, 1, 18, 8, 1, 1, 1, 1, 1, 2, 1, 1, 2, 17, 1, 1, 3, 50, 3, 37, 2, 1, 3, 70, 1, 1, 2, 89, 13, 2], \"xaxis\": \"x\", \"yaxis\": \"y\", \"type\": \"histogram\"}], \"name\": \"57\"}, {\"data\": [{\"alignmentgroup\": \"True\", \"bingroup\": \"x\", \"hoverlabel\": {\"namelength\": 0}, \"hovertemplate\": \"Iteration=58<br>Length=%{x}<br>count=%{y}\", \"legendgroup\": \"\", \"marker\": {\"color\": \"#636efa\"}, \"name\": \"\", \"nbinsx\": 317, \"offsetgroup\": \"\", \"orientation\": \"v\", \"showlegend\": false, \"x\": [1, 17, 38, 1, 35, 1, 1, 1, 7, 1, 14, 17, 51, 1, 1, 1, 1, 2, 1, 1, 9, 65, 1, 1, 1, 1, 3, 1, 1, 1, 4, 1, 19, 1, 34, 1, 1, 43, 1, 1, 1, 1, 1, 3, 1, 7, 1, 1, 1, 17, 1, 1, 1, 1, 6, 1, 1, 1, 1, 1, 1, 95, 1, 3, 1, 39, 1, 1, 1, 1, 1, 1, 49, 1, 10, 1, 1, 12, 2, 9, 8, 3, 71, 1, 90, 3, 2], \"xaxis\": \"x\", \"yaxis\": \"y\", \"type\": \"histogram\"}], \"name\": \"58\"}, {\"data\": [{\"alignmentgroup\": \"True\", \"bingroup\": \"x\", \"hoverlabel\": {\"namelength\": 0}, \"hovertemplate\": \"Iteration=59<br>Length=%{x}<br>count=%{y}\", \"legendgroup\": \"\", \"marker\": {\"color\": \"#636efa\"}, \"name\": \"\", \"nbinsx\": 317, \"offsetgroup\": \"\", \"orientation\": \"v\", \"showlegend\": false, \"x\": [1, 19, 1, 1, 1, 1, 1, 4, 1, 9, 27, 1, 93, 1, 6, 1, 91, 39, 68, 1, 1, 66, 1, 1, 1, 1, 1, 1, 1, 1, 1, 20, 1, 1, 1, 1, 1, 1, 1, 1, 2, 1, 1, 1, 2, 40, 1, 1, 2, 1, 1, 1, 1, 14, 7, 1, 8, 1, 29, 1, 12, 1, 4, 1, 1, 1, 1, 1, 18, 1, 12, 2, 10, 13, 72, 50, 2, 1, 2, 2, 2, 36, 2, 5, 15], \"xaxis\": \"x\", \"yaxis\": \"y\", \"type\": \"histogram\"}], \"name\": \"59\"}, {\"data\": [{\"alignmentgroup\": \"True\", \"bingroup\": \"x\", \"hoverlabel\": {\"namelength\": 0}, \"hovertemplate\": \"Iteration=60<br>Length=%{x}<br>count=%{y}\", \"legendgroup\": \"\", \"marker\": {\"color\": \"#636efa\"}, \"name\": \"\", \"nbinsx\": 317, \"offsetgroup\": \"\", \"orientation\": \"v\", \"showlegend\": false, \"x\": [1, 1, 3, 1, 74, 1, 9, 1, 1, 23, 1, 59, 1, 1, 1, 4, 1, 1, 1, 1, 1, 1, 1, 159, 29, 1, 1, 16, 1, 1, 1, 118, 1, 1, 1, 3, 1, 1, 19, 1, 1, 16, 1, 1, 1, 93, 1, 38, 1, 5, 1, 1, 3, 1, 1, 1, 1, 1, 6, 1, 1, 1, 1, 14, 1, 5, 1, 1, 1, 1, 1, 2, 12, 1, 1, 1, 1, 8, 2, 7, 16, 8, 4, 1, 9, 2, 2, 11, 17, 3, 7, 1, 6], \"xaxis\": \"x\", \"yaxis\": \"y\", \"type\": \"histogram\"}], \"name\": \"60\"}, {\"data\": [{\"alignmentgroup\": \"True\", \"bingroup\": \"x\", \"hoverlabel\": {\"namelength\": 0}, \"hovertemplate\": \"Iteration=61<br>Length=%{x}<br>count=%{y}\", \"legendgroup\": \"\", \"marker\": {\"color\": \"#636efa\"}, \"name\": \"\", \"nbinsx\": 317, \"offsetgroup\": \"\", \"orientation\": \"v\", \"showlegend\": false, \"x\": [1, 1, 1, 27, 1, 1, 5, 1, 1, 1, 23, 1, 1, 1, 10, 1, 21, 1, 1, 1, 1, 1, 1, 3, 1, 1, 1, 1, 13, 2, 1, 1, 1, 1, 1, 40, 1, 1, 1, 1, 4, 1, 16, 9, 9, 1, 2, 1, 1, 134, 9, 1, 1, 141, 1, 39, 1, 7, 1, 1, 1, 1, 2, 1, 9, 1, 14, 1, 1, 1, 96, 9, 1, 6, 11, 6, 4, 2, 8, 19, 2, 27, 18, 75, 2, 3], \"xaxis\": \"x\", \"yaxis\": \"y\", \"type\": \"histogram\"}], \"name\": \"61\"}, {\"data\": [{\"alignmentgroup\": \"True\", \"bingroup\": \"x\", \"hoverlabel\": {\"namelength\": 0}, \"hovertemplate\": \"Iteration=62<br>Length=%{x}<br>count=%{y}\", \"legendgroup\": \"\", \"marker\": {\"color\": \"#636efa\"}, \"name\": \"\", \"nbinsx\": 317, \"offsetgroup\": \"\", \"orientation\": \"v\", \"showlegend\": false, \"x\": [1, 1, 30, 1, 3, 1, 15, 1, 1, 4, 1, 27, 1, 19, 1, 3, 1, 9, 1, 1, 1, 7, 1, 1, 1, 1, 1, 1, 28, 18, 3, 1, 1, 11, 1, 1, 1, 6, 8, 83, 2, 105, 1, 1, 1, 1, 1, 2, 1, 1, 1, 1, 21, 2, 1, 1, 1, 1, 1, 2, 1, 1, 1, 39, 1, 14, 2, 2, 10, 57, 5, 7, 51, 41, 2, 142, 14, 3, 4, 1, 19, 2, 2, 2, 1, 20], \"xaxis\": \"x\", \"yaxis\": \"y\", \"type\": \"histogram\"}], \"name\": \"62\"}, {\"data\": [{\"alignmentgroup\": \"True\", \"bingroup\": \"x\", \"hoverlabel\": {\"namelength\": 0}, \"hovertemplate\": \"Iteration=63<br>Length=%{x}<br>count=%{y}\", \"legendgroup\": \"\", \"marker\": {\"color\": \"#636efa\"}, \"name\": \"\", \"nbinsx\": 317, \"offsetgroup\": \"\", \"orientation\": \"v\", \"showlegend\": false, \"x\": [35, 1, 2, 1, 1, 1, 3, 1, 10, 1, 85, 1, 1, 1, 1, 1, 1, 4, 1, 7, 1, 1, 1, 16, 1, 8, 1, 1, 27, 1, 12, 1, 1, 1, 1, 31, 47, 2, 125, 7, 1, 2, 1, 1, 1, 1, 1, 1, 1, 7, 1, 1, 1, 6, 1, 36, 1, 1, 71, 1, 37, 13, 1, 1, 41, 1, 5, 1, 2, 9, 52, 42, 6, 4, 95, 2, 1, 1, 2, 4, 2], \"xaxis\": \"x\", \"yaxis\": \"y\", \"type\": \"histogram\"}], \"name\": \"63\"}, {\"data\": [{\"alignmentgroup\": \"True\", \"bingroup\": \"x\", \"hoverlabel\": {\"namelength\": 0}, \"hovertemplate\": \"Iteration=64<br>Length=%{x}<br>count=%{y}\", \"legendgroup\": \"\", \"marker\": {\"color\": \"#636efa\"}, \"name\": \"\", \"nbinsx\": 317, \"offsetgroup\": \"\", \"orientation\": \"v\", \"showlegend\": false, \"x\": [1, 1, 1, 1, 3, 7, 1, 45, 1, 1, 1, 4, 12, 1, 17, 1, 64, 1, 1, 1, 1, 11, 1, 1, 3, 1, 1, 11, 71, 1, 1, 49, 1, 1, 1, 13, 1, 1, 1, 1, 1, 23, 1, 1, 39, 1, 1, 1, 1, 5, 1, 1, 1, 1, 1, 1, 1, 1, 1, 7, 1, 1, 6, 4, 8, 1, 1, 1, 3, 6, 8, 91, 126, 5, 1, 21, 3, 2, 1, 20, 28, 2, 1, 1, 53, 19, 3, 5, 2, 72], \"xaxis\": \"x\", \"yaxis\": \"y\", \"type\": \"histogram\"}], \"name\": \"64\"}, {\"data\": [{\"alignmentgroup\": \"True\", \"bingroup\": \"x\", \"hoverlabel\": {\"namelength\": 0}, \"hovertemplate\": \"Iteration=65<br>Length=%{x}<br>count=%{y}\", \"legendgroup\": \"\", \"marker\": {\"color\": \"#636efa\"}, \"name\": \"\", \"nbinsx\": 317, \"offsetgroup\": \"\", \"orientation\": \"v\", \"showlegend\": false, \"x\": [21, 5, 1, 1, 6, 8, 48, 1, 1, 1, 96, 1, 13, 1, 9, 5, 1, 1, 3, 8, 1, 1, 124, 1, 1, 1, 57, 1, 7, 4, 14, 1, 1, 1, 60, 1, 1, 1, 1, 1, 1, 1, 1, 1, 91, 1, 1, 15, 5, 8, 3, 1, 1, 51, 1, 1, 1, 1, 1, 1, 1, 1, 1, 1, 1, 1, 1, 1, 1, 1, 107, 1, 1, 12, 3, 3, 3, 8, 3, 1, 1, 27, 1, 2, 7, 2, 2, 15, 2, 1, 2, 19, 2], \"xaxis\": \"x\", \"yaxis\": \"y\", \"type\": \"histogram\"}], \"name\": \"65\"}, {\"data\": [{\"alignmentgroup\": \"True\", \"bingroup\": \"x\", \"hoverlabel\": {\"namelength\": 0}, \"hovertemplate\": \"Iteration=66<br>Length=%{x}<br>count=%{y}\", \"legendgroup\": \"\", \"marker\": {\"color\": \"#636efa\"}, \"name\": \"\", \"nbinsx\": 317, \"offsetgroup\": \"\", \"orientation\": \"v\", \"showlegend\": false, \"x\": [1, 1, 2, 1, 34, 12, 7, 2, 1, 1, 1, 1, 1, 4, 1, 1, 1, 1, 52, 11, 1, 1, 1, 48, 1, 3, 5, 2, 1, 1, 1, 1, 1, 1, 1, 1, 1, 1, 15, 1, 1, 1, 1, 10, 1, 1, 14, 1, 1, 119, 1, 3, 17, 97, 1, 1, 1, 1, 23, 1, 45, 2, 1, 29, 30, 1, 1, 1, 10, 15, 1, 1, 1, 2, 1, 4, 1, 3, 3, 1, 26, 36, 7, 1, 11, 43, 4, 5, 7, 1, 2, 1, 6, 4, 12, 2, 95, 2, 2], \"xaxis\": \"x\", \"yaxis\": \"y\", \"type\": \"histogram\"}], \"name\": \"66\"}, {\"data\": [{\"alignmentgroup\": \"True\", \"bingroup\": \"x\", \"hoverlabel\": {\"namelength\": 0}, \"hovertemplate\": \"Iteration=67<br>Length=%{x}<br>count=%{y}\", \"legendgroup\": \"\", \"marker\": {\"color\": \"#636efa\"}, \"name\": \"\", \"nbinsx\": 317, \"offsetgroup\": \"\", \"orientation\": \"v\", \"showlegend\": false, \"x\": [99, 1, 1, 3, 22, 1, 1, 1, 27, 4, 4, 14, 1, 15, 3, 3, 2, 7, 5, 1, 1, 1, 1, 1, 1, 1, 96, 2, 1, 10, 1, 1, 13, 1, 1, 53, 1, 1, 28, 1, 1, 16, 7, 1, 33, 1, 1, 1, 2, 1, 149, 1, 6, 15, 12, 46, 1, 1, 1, 1, 1, 15, 1, 1, 1, 1, 3, 1, 23, 13, 2, 2, 4, 3, 5, 1, 1, 8, 19, 5, 18, 15, 2, 1, 19, 3, 45], \"xaxis\": \"x\", \"yaxis\": \"y\", \"type\": \"histogram\"}], \"name\": \"67\"}, {\"data\": [{\"alignmentgroup\": \"True\", \"bingroup\": \"x\", \"hoverlabel\": {\"namelength\": 0}, \"hovertemplate\": \"Iteration=68<br>Length=%{x}<br>count=%{y}\", \"legendgroup\": \"\", \"marker\": {\"color\": \"#636efa\"}, \"name\": \"\", \"nbinsx\": 317, \"offsetgroup\": \"\", \"orientation\": \"v\", \"showlegend\": false, \"x\": [1, 2, 17, 1, 1, 29, 1, 1, 1, 1, 1, 1, 6, 1, 36, 19, 4, 1, 1, 14, 1, 1, 152, 1, 10, 1, 7, 1, 4, 8, 1, 1, 12, 6, 1, 1, 1, 4, 1, 1, 1, 2, 4, 38, 1, 1, 36, 1, 1, 25, 68, 1, 15, 1, 1, 17, 1, 1, 1, 30, 10, 1, 16, 1, 1, 103, 1, 1, 100, 1, 1, 6, 1, 2, 1, 4, 2, 2, 34, 1, 2, 5, 8, 2, 33, 5, 10], \"xaxis\": \"x\", \"yaxis\": \"y\", \"type\": \"histogram\"}], \"name\": \"68\"}, {\"data\": [{\"alignmentgroup\": \"True\", \"bingroup\": \"x\", \"hoverlabel\": {\"namelength\": 0}, \"hovertemplate\": \"Iteration=69<br>Length=%{x}<br>count=%{y}\", \"legendgroup\": \"\", \"marker\": {\"color\": \"#636efa\"}, \"name\": \"\", \"nbinsx\": 317, \"offsetgroup\": \"\", \"orientation\": \"v\", \"showlegend\": false, \"x\": [1, 12, 3, 13, 2, 1, 1, 1, 1, 44, 1, 17, 55, 1, 1, 4, 1, 9, 1, 1, 9, 1, 8, 1, 34, 5, 1, 1, 1, 1, 1, 1, 1, 1, 1, 1, 1, 154, 1, 1, 1, 1, 21, 1, 1, 1, 2, 1, 4, 1, 1, 1, 27, 1, 1, 7, 1, 136, 1, 1, 1, 1, 1, 107, 6, 30, 9, 1, 10, 26, 1, 1, 17, 1, 1, 1, 2, 2, 24, 37, 12, 3, 1, 30, 5, 4, 1, 2, 9, 5, 2, 8], \"xaxis\": \"x\", \"yaxis\": \"y\", \"type\": \"histogram\"}], \"name\": \"69\"}, {\"data\": [{\"alignmentgroup\": \"True\", \"bingroup\": \"x\", \"hoverlabel\": {\"namelength\": 0}, \"hovertemplate\": \"Iteration=70<br>Length=%{x}<br>count=%{y}\", \"legendgroup\": \"\", \"marker\": {\"color\": \"#636efa\"}, \"name\": \"\", \"nbinsx\": 317, \"offsetgroup\": \"\", \"orientation\": \"v\", \"showlegend\": false, \"x\": [1, 1, 1, 1, 1, 1, 17, 26, 11, 1, 47, 56, 1, 37, 4, 1, 1, 1, 1, 139, 1, 1, 1, 1, 1, 31, 3, 1, 38, 8, 1, 1, 1, 1, 1, 1, 1, 8, 1, 1, 78, 1, 1, 1, 1, 1, 1, 1, 1, 1, 35, 1, 1, 12, 159, 1, 6, 21, 1, 1, 2, 5, 11, 10, 2, 18, 3, 22, 45, 1, 1, 2, 2, 26, 29, 5, 3, 1, 10], \"xaxis\": \"x\", \"yaxis\": \"y\", \"type\": \"histogram\"}], \"name\": \"70\"}, {\"data\": [{\"alignmentgroup\": \"True\", \"bingroup\": \"x\", \"hoverlabel\": {\"namelength\": 0}, \"hovertemplate\": \"Iteration=71<br>Length=%{x}<br>count=%{y}\", \"legendgroup\": \"\", \"marker\": {\"color\": \"#636efa\"}, \"name\": \"\", \"nbinsx\": 317, \"offsetgroup\": \"\", \"orientation\": \"v\", \"showlegend\": false, \"x\": [18, 1, 1, 1, 1, 1, 1, 1, 1, 4, 1, 21, 1, 2, 1, 1, 86, 1, 19, 1, 1, 31, 6, 1, 6, 1, 49, 41, 1, 1, 1, 1, 7, 1, 1, 1, 66, 7, 22, 1, 1, 14, 20, 1, 1, 1, 1, 1, 1, 1, 1, 1, 1, 1, 1, 1, 1, 1, 3, 3, 21, 1, 147, 1, 1, 1, 1, 1, 10, 1, 1, 1, 19, 1, 2, 2, 10, 27, 2, 73, 6, 19, 13, 2, 3, 2, 39, 7, 79, 37], \"xaxis\": \"x\", \"yaxis\": \"y\", \"type\": \"histogram\"}], \"name\": \"71\"}, {\"data\": [{\"alignmentgroup\": \"True\", \"bingroup\": \"x\", \"hoverlabel\": {\"namelength\": 0}, \"hovertemplate\": \"Iteration=72<br>Length=%{x}<br>count=%{y}\", \"legendgroup\": \"\", \"marker\": {\"color\": \"#636efa\"}, \"name\": \"\", \"nbinsx\": 317, \"offsetgroup\": \"\", \"orientation\": \"v\", \"showlegend\": false, \"x\": [1, 8, 34, 1, 1, 1, 124, 7, 3, 1, 1, 1, 1, 1, 19, 3, 3, 1, 11, 1, 1, 1, 1, 1, 13, 1, 1, 1, 1, 2, 1, 1, 28, 1, 11, 2, 1, 1, 1, 1, 2, 5, 1, 1, 1, 59, 1, 67, 1, 1, 1, 41, 1, 1, 1, 26, 1, 1, 2, 2, 1, 5, 1, 1, 15, 46, 1, 19, 23, 4, 2, 2, 84, 22, 11, 2, 20, 2, 20, 1, 2, 7, 12, 1, 1, 42, 15, 4, 58, 38, 1, 33], \"xaxis\": \"x\", \"yaxis\": \"y\", \"type\": \"histogram\"}], \"name\": \"72\"}, {\"data\": [{\"alignmentgroup\": \"True\", \"bingroup\": \"x\", \"hoverlabel\": {\"namelength\": 0}, \"hovertemplate\": \"Iteration=73<br>Length=%{x}<br>count=%{y}\", \"legendgroup\": \"\", \"marker\": {\"color\": \"#636efa\"}, \"name\": \"\", \"nbinsx\": 317, \"offsetgroup\": \"\", \"orientation\": \"v\", \"showlegend\": false, \"x\": [86, 1, 1, 20, 1, 1, 7, 49, 9, 1, 59, 39, 6, 1, 1, 1, 1, 1, 1, 1, 1, 12, 41, 1, 92, 1, 1, 1, 31, 3, 1, 1, 1, 26, 47, 1, 1, 3, 4, 1, 3, 1, 15, 1, 1, 3, 54, 3, 1, 1, 1, 4, 1, 4, 19, 1, 1, 1, 1, 1, 8, 3, 1, 1, 1, 13, 19, 14, 6, 118, 14, 2, 25, 2, 1, 1, 11, 1, 12, 68, 4, 1, 1, 9, 2, 2], \"xaxis\": \"x\", \"yaxis\": \"y\", \"type\": \"histogram\"}], \"name\": \"73\"}, {\"data\": [{\"alignmentgroup\": \"True\", \"bingroup\": \"x\", \"hoverlabel\": {\"namelength\": 0}, \"hovertemplate\": \"Iteration=74<br>Length=%{x}<br>count=%{y}\", \"legendgroup\": \"\", \"marker\": {\"color\": \"#636efa\"}, \"name\": \"\", \"nbinsx\": 317, \"offsetgroup\": \"\", \"orientation\": \"v\", \"showlegend\": false, \"x\": [1, 1, 1, 1, 60, 1, 53, 1, 1, 27, 1, 1, 1, 1, 7, 1, 1, 1, 7, 1, 1, 1, 30, 3, 1, 2, 1, 1, 68, 1, 1, 1, 1, 116, 1, 16, 1, 1, 1, 1, 1, 1, 1, 1, 3, 44, 1, 1, 33, 1, 1, 3, 24, 2, 19, 49, 1, 1, 1, 1, 6, 1, 18, 25, 1, 3, 14, 21, 2, 6, 55, 91, 1, 15, 1, 8, 1, 18, 2, 2, 2, 10, 5, 1, 1, 4, 4, 65, 2, 33, 3], \"xaxis\": \"x\", \"yaxis\": \"y\", \"type\": \"histogram\"}], \"name\": \"74\"}, {\"data\": [{\"alignmentgroup\": \"True\", \"bingroup\": \"x\", \"hoverlabel\": {\"namelength\": 0}, \"hovertemplate\": \"Iteration=75<br>Length=%{x}<br>count=%{y}\", \"legendgroup\": \"\", \"marker\": {\"color\": \"#636efa\"}, \"name\": \"\", \"nbinsx\": 317, \"offsetgroup\": \"\", \"orientation\": \"v\", \"showlegend\": false, \"x\": [1, 1, 45, 1, 1, 54, 19, 1, 2, 11, 1, 1, 1, 1, 1, 1, 1, 3, 56, 1, 4, 1, 17, 1, 1, 19, 1, 35, 1, 4, 1, 36, 1, 3, 1, 1, 1, 1, 14, 22, 1, 1, 41, 1, 30, 1, 1, 1, 2, 17, 1, 1, 63, 1, 1, 1, 2, 82, 1, 2, 1, 9, 1, 1, 5, 1, 1, 1, 1, 1, 12, 71, 28, 32, 4, 2, 1, 1, 10, 22, 16, 1, 1, 8, 50, 35, 8, 1, 1, 23, 9, 19, 41], \"xaxis\": \"x\", \"yaxis\": \"y\", \"type\": \"histogram\"}], \"name\": \"75\"}, {\"data\": [{\"alignmentgroup\": \"True\", \"bingroup\": \"x\", \"hoverlabel\": {\"namelength\": 0}, \"hovertemplate\": \"Iteration=76<br>Length=%{x}<br>count=%{y}\", \"legendgroup\": \"\", \"marker\": {\"color\": \"#636efa\"}, \"name\": \"\", \"nbinsx\": 317, \"offsetgroup\": \"\", \"orientation\": \"v\", \"showlegend\": false, \"x\": [20, 1, 1, 1, 9, 1, 42, 1, 1, 73, 1, 80, 10, 1, 1, 1, 51, 1, 4, 15, 1, 5, 1, 1, 1, 1, 1, 1, 1, 3, 1, 29, 1, 1, 6, 1, 1, 5, 1, 8, 62, 1, 1, 1, 50, 1, 19, 1, 42, 1, 1, 1, 1, 1, 1, 34, 1, 1, 29, 1, 15, 104, 1, 19, 33, 20, 6, 1, 1, 1, 8, 1, 13, 1, 24, 10, 6, 21, 17, 2, 1, 2, 6, 7, 1, 4, 1, 2, 2, 2, 62, 14, 1], \"xaxis\": \"x\", \"yaxis\": \"y\", \"type\": \"histogram\"}], \"name\": \"76\"}, {\"data\": [{\"alignmentgroup\": \"True\", \"bingroup\": \"x\", \"hoverlabel\": {\"namelength\": 0}, \"hovertemplate\": \"Iteration=77<br>Length=%{x}<br>count=%{y}\", \"legendgroup\": \"\", \"marker\": {\"color\": \"#636efa\"}, \"name\": \"\", \"nbinsx\": 317, \"offsetgroup\": \"\", \"orientation\": \"v\", \"showlegend\": false, \"x\": [1, 1, 70, 1, 7, 1, 109, 1, 1, 1, 1, 1, 3, 4, 1, 1, 1, 40, 31, 1, 1, 1, 1, 44, 1, 90, 1, 1, 24, 9, 1, 12, 1, 1, 1, 1, 1, 1, 1, 64, 19, 6, 21, 31, 1, 1, 26, 1, 1, 6, 3, 1, 1, 92, 1, 1, 1, 3, 3, 1, 1, 1, 6, 2, 14, 5, 1, 1, 21, 10, 2, 3, 10, 18, 8, 9, 2, 20, 56, 2, 3, 16, 16, 2, 8, 3, 2, 52, 1, 1, 1], \"xaxis\": \"x\", \"yaxis\": \"y\", \"type\": \"histogram\"}], \"name\": \"77\"}, {\"data\": [{\"alignmentgroup\": \"True\", \"bingroup\": \"x\", \"hoverlabel\": {\"namelength\": 0}, \"hovertemplate\": \"Iteration=78<br>Length=%{x}<br>count=%{y}\", \"legendgroup\": \"\", \"marker\": {\"color\": \"#636efa\"}, \"name\": \"\", \"nbinsx\": 317, \"offsetgroup\": \"\", \"orientation\": \"v\", \"showlegend\": false, \"x\": [1, 5, 1, 1, 1, 4, 4, 1, 1, 1, 1, 5, 1, 67, 1, 1, 1, 102, 1, 32, 1, 1, 29, 1, 1, 27, 62, 1, 1, 116, 20, 11, 39, 33, 1, 18, 1, 1, 47, 65, 1, 23, 6, 3, 1, 1, 4, 3, 1, 1, 6, 24, 17, 1, 11, 18, 1, 1, 1, 1, 1, 1, 1, 1, 23, 1, 1, 5, 1, 10, 3, 3, 13, 2, 2, 3, 2, 1, 91, 2, 3, 52, 3, 2], \"xaxis\": \"x\", \"yaxis\": \"y\", \"type\": \"histogram\"}], \"name\": \"78\"}, {\"data\": [{\"alignmentgroup\": \"True\", \"bingroup\": \"x\", \"hoverlabel\": {\"namelength\": 0}, \"hovertemplate\": \"Iteration=79<br>Length=%{x}<br>count=%{y}\", \"legendgroup\": \"\", \"marker\": {\"color\": \"#636efa\"}, \"name\": \"\", \"nbinsx\": 317, \"offsetgroup\": \"\", \"orientation\": \"v\", \"showlegend\": false, \"x\": [1, 6, 1, 1, 1, 1, 1, 1, 56, 1, 1, 1, 1, 1, 1, 106, 1, 1, 1, 1, 1, 1, 1, 1, 1, 42, 1, 1, 4, 5, 1, 119, 1, 39, 1, 1, 65, 24, 1, 1, 1, 24, 3, 67, 1, 11, 1, 2, 1, 4, 1, 1, 7, 12, 1, 1, 1, 1, 1, 8, 25, 8, 7, 10, 24, 4, 1, 1, 13, 1, 1, 2, 21, 1, 1, 30, 74, 9, 67, 22, 1, 6, 6, 48, 2, 3, 4, 19, 20], \"xaxis\": \"x\", \"yaxis\": \"y\", \"type\": \"histogram\"}], \"name\": \"79\"}, {\"data\": [{\"alignmentgroup\": \"True\", \"bingroup\": \"x\", \"hoverlabel\": {\"namelength\": 0}, \"hovertemplate\": \"Iteration=80<br>Length=%{x}<br>count=%{y}\", \"legendgroup\": \"\", \"marker\": {\"color\": \"#636efa\"}, \"name\": \"\", \"nbinsx\": 317, \"offsetgroup\": \"\", \"orientation\": \"v\", \"showlegend\": false, \"x\": [1, 1, 5, 4, 1, 1, 1, 1, 1, 1, 1, 1, 19, 81, 1, 64, 21, 6, 1, 1, 107, 1, 1, 23, 6, 1, 1, 1, 1, 1, 1, 23, 1, 17, 1, 3, 1, 27, 1, 19, 15, 1, 1, 1, 1, 49, 5, 4, 3, 49, 1, 1, 1, 1, 9, 1, 11, 5, 11, 1, 1, 1, 1, 2, 75, 2, 2, 2, 7, 2, 3, 5, 3, 120, 40, 66, 21, 9, 25, 2, 63, 13, 1], \"xaxis\": \"x\", \"yaxis\": \"y\", \"type\": \"histogram\"}], \"name\": \"80\"}, {\"data\": [{\"alignmentgroup\": \"True\", \"bingroup\": \"x\", \"hoverlabel\": {\"namelength\": 0}, \"hovertemplate\": \"Iteration=81<br>Length=%{x}<br>count=%{y}\", \"legendgroup\": \"\", \"marker\": {\"color\": \"#636efa\"}, \"name\": \"\", \"nbinsx\": 317, \"offsetgroup\": \"\", \"orientation\": \"v\", \"showlegend\": false, \"x\": [1, 1, 1, 10, 1, 1, 28, 1, 6, 1, 1, 63, 1, 1, 1, 1, 1, 87, 49, 2, 1, 7, 1, 69, 6, 1, 1, 1, 112, 18, 1, 1, 23, 1, 4, 171, 1, 1, 2, 1, 1, 1, 1, 1, 1, 4, 1, 1, 1, 46, 1, 1, 4, 1, 14, 1, 1, 4, 15, 28, 7, 1, 1, 1, 1, 1, 9, 1, 4, 4, 5, 15, 1, 11, 6, 6, 14, 4, 1, 8, 7, 1, 3, 76, 2, 1, 3, 5, 6, 50, 4, 12, 12, 12], \"xaxis\": \"x\", \"yaxis\": \"y\", \"type\": \"histogram\"}], \"name\": \"81\"}, {\"data\": [{\"alignmentgroup\": \"True\", \"bingroup\": \"x\", \"hoverlabel\": {\"namelength\": 0}, \"hovertemplate\": \"Iteration=82<br>Length=%{x}<br>count=%{y}\", \"legendgroup\": \"\", \"marker\": {\"color\": \"#636efa\"}, \"name\": \"\", \"nbinsx\": 317, \"offsetgroup\": \"\", \"orientation\": \"v\", \"showlegend\": false, \"x\": [1, 12, 1, 1, 46, 3, 1, 1, 178, 1, 10, 1, 1, 1, 21, 1, 29, 7, 1, 23, 1, 1, 1, 1, 1, 1, 1, 1, 8, 13, 1, 1, 1, 1, 1, 1, 11, 20, 1, 1, 1, 46, 32, 1, 1, 2, 40, 12, 1, 45, 1, 1, 1, 4, 1, 1, 1, 1, 50, 1, 53, 1, 24, 1, 1, 5, 13, 66, 1, 3, 11, 2, 1, 8, 3, 5, 1, 8, 36, 1, 2, 1, 5, 2, 88, 16, 62, 1, 12, 26], \"xaxis\": \"x\", \"yaxis\": \"y\", \"type\": \"histogram\"}], \"name\": \"82\"}, {\"data\": [{\"alignmentgroup\": \"True\", \"bingroup\": \"x\", \"hoverlabel\": {\"namelength\": 0}, \"hovertemplate\": \"Iteration=83<br>Length=%{x}<br>count=%{y}\", \"legendgroup\": \"\", \"marker\": {\"color\": \"#636efa\"}, \"name\": \"\", \"nbinsx\": 317, \"offsetgroup\": \"\", \"orientation\": \"v\", \"showlegend\": false, \"x\": [1, 55, 1, 1, 1, 1, 1, 1, 98, 1, 4, 1, 1, 6, 1, 4, 1, 1, 21, 5, 11, 1, 1, 1, 1, 3, 44, 1, 3, 1, 72, 1, 54, 1, 3, 58, 2, 1, 75, 1, 1, 1, 1, 1, 24, 1, 90, 1, 1, 1, 1, 1, 8, 1, 1, 15, 1, 33, 1, 1, 1, 15, 1, 1, 5, 1, 13, 1, 1, 3, 5, 3, 2, 3, 3, 60, 4, 12, 11, 2, 2, 13, 5, 37, 3, 2, 5, 179, 1], \"xaxis\": \"x\", \"yaxis\": \"y\", \"type\": \"histogram\"}], \"name\": \"83\"}, {\"data\": [{\"alignmentgroup\": \"True\", \"bingroup\": \"x\", \"hoverlabel\": {\"namelength\": 0}, \"hovertemplate\": \"Iteration=84<br>Length=%{x}<br>count=%{y}\", \"legendgroup\": \"\", \"marker\": {\"color\": \"#636efa\"}, \"name\": \"\", \"nbinsx\": 317, \"offsetgroup\": \"\", \"orientation\": \"v\", \"showlegend\": false, \"x\": [1, 1, 41, 1, 15, 57, 1, 25, 36, 1, 1, 1, 5, 176, 103, 1, 1, 1, 16, 1, 1, 25, 45, 2, 1, 1, 4, 21, 4, 1, 1, 1, 1, 1, 1, 12, 4, 3, 1, 1, 1, 1, 1, 1, 1, 1, 40, 3, 1, 1, 1, 142, 1, 1, 1, 1, 1, 1, 1, 17, 1, 1, 2, 1, 1, 1, 17, 7, 4, 7, 3, 4, 3, 1, 12, 50, 4, 5, 48, 1, 55, 4, 1, 2, 32, 1, 6, 14, 1, 4, 1, 1, 1, 1], \"xaxis\": \"x\", \"yaxis\": \"y\", \"type\": \"histogram\"}], \"name\": \"84\"}, {\"data\": [{\"alignmentgroup\": \"True\", \"bingroup\": \"x\", \"hoverlabel\": {\"namelength\": 0}, \"hovertemplate\": \"Iteration=85<br>Length=%{x}<br>count=%{y}\", \"legendgroup\": \"\", \"marker\": {\"color\": \"#636efa\"}, \"name\": \"\", \"nbinsx\": 317, \"offsetgroup\": \"\", \"orientation\": \"v\", \"showlegend\": false, \"x\": [49, 1, 27, 15, 1, 1, 62, 1, 1, 2, 1, 1, 1, 1, 1, 36, 1, 1, 1, 1, 20, 1, 1, 1, 158, 4, 1, 1, 1, 1, 1, 1, 5, 1, 5, 4, 1, 9, 181, 1, 1, 1, 1, 1, 8, 54, 26, 1, 1, 31, 1, 1, 1, 1, 28, 2, 1, 9, 3, 1, 1, 1, 1, 1, 1, 1, 1, 1, 1, 1, 139, 42, 53, 2, 8, 13, 8, 3, 1, 2, 1, 9, 16, 27, 16, 6, 1, 4], \"xaxis\": \"x\", \"yaxis\": \"y\", \"type\": \"histogram\"}], \"name\": \"85\"}, {\"data\": [{\"alignmentgroup\": \"True\", \"bingroup\": \"x\", \"hoverlabel\": {\"namelength\": 0}, \"hovertemplate\": \"Iteration=86<br>Length=%{x}<br>count=%{y}\", \"legendgroup\": \"\", \"marker\": {\"color\": \"#636efa\"}, \"name\": \"\", \"nbinsx\": 317, \"offsetgroup\": \"\", \"orientation\": \"v\", \"showlegend\": false, \"x\": [1, 1, 1, 1, 1, 1, 1, 1, 1, 14, 1, 51, 2, 1, 1, 1, 1, 1, 9, 177, 1, 2, 63, 1, 1, 15, 1, 1, 1, 4, 1, 1, 8, 1, 28, 1, 1, 10, 1, 15, 1, 1, 55, 1, 17, 1, 1, 1, 1, 32, 1, 1, 1, 2, 7, 1, 67, 7, 1, 52, 1, 1, 1, 1, 1, 170, 1, 1, 1, 22, 118, 2, 2, 5, 4, 3, 4, 10, 2, 27, 3, 2, 26, 17, 2, 1, 5, 40], \"xaxis\": \"x\", \"yaxis\": \"y\", \"type\": \"histogram\"}], \"name\": \"86\"}, {\"data\": [{\"alignmentgroup\": \"True\", \"bingroup\": \"x\", \"hoverlabel\": {\"namelength\": 0}, \"hovertemplate\": \"Iteration=87<br>Length=%{x}<br>count=%{y}\", \"legendgroup\": \"\", \"marker\": {\"color\": \"#636efa\"}, \"name\": \"\", \"nbinsx\": 317, \"offsetgroup\": \"\", \"orientation\": \"v\", \"showlegend\": false, \"x\": [2, 16, 1, 98, 1, 1, 1, 1, 1, 1, 3, 1, 1, 1, 1, 1, 1, 3, 1, 1, 17, 1, 1, 1, 7, 1, 1, 1, 3, 1, 19, 1, 1, 1, 1, 2, 1, 1, 31, 1, 1, 1, 43, 1, 12, 1, 1, 8, 1, 7, 1, 82, 1, 1, 1, 21, 10, 1, 1, 24, 1, 1, 6, 178, 1, 19, 1, 1, 3, 1, 52, 20, 5, 4, 1, 31, 1, 5, 64, 32, 2, 178, 9, 46, 2, 13, 1, 34], \"xaxis\": \"x\", \"yaxis\": \"y\", \"type\": \"histogram\"}], \"name\": \"87\"}, {\"data\": [{\"alignmentgroup\": \"True\", \"bingroup\": \"x\", \"hoverlabel\": {\"namelength\": 0}, \"hovertemplate\": \"Iteration=88<br>Length=%{x}<br>count=%{y}\", \"legendgroup\": \"\", \"marker\": {\"color\": \"#636efa\"}, \"name\": \"\", \"nbinsx\": 317, \"offsetgroup\": \"\", \"orientation\": \"v\", \"showlegend\": false, \"x\": [1, 1, 1, 1, 1, 1, 3, 1, 2, 1, 1, 10, 1, 18, 1, 18, 1, 5, 1, 1, 1, 1, 1, 1, 65, 1, 78, 3, 1, 1, 1, 1, 1, 1, 1, 212, 1, 1, 1, 1, 1, 1, 51, 1, 1, 19, 25, 1, 1, 100, 1, 1, 29, 1, 23, 7, 1, 1, 1, 8, 1, 1, 9, 1, 24, 7, 92, 1, 1, 1, 1, 4, 5, 4, 2, 1, 1, 6, 18, 2, 2, 3, 6, 14, 12, 179, 40, 14, 3], \"xaxis\": \"x\", \"yaxis\": \"y\", \"type\": \"histogram\"}], \"name\": \"88\"}, {\"data\": [{\"alignmentgroup\": \"True\", \"bingroup\": \"x\", \"hoverlabel\": {\"namelength\": 0}, \"hovertemplate\": \"Iteration=89<br>Length=%{x}<br>count=%{y}\", \"legendgroup\": \"\", \"marker\": {\"color\": \"#636efa\"}, \"name\": \"\", \"nbinsx\": 317, \"offsetgroup\": \"\", \"orientation\": \"v\", \"showlegend\": false, \"x\": [1, 1, 1, 25, 1, 1, 1, 2, 99, 30, 1, 1, 1, 65, 1, 38, 1, 19, 26, 1, 1, 1, 1, 1, 3, 10, 1, 1, 1, 1, 1, 1, 1, 4, 22, 80, 1, 1, 3, 1, 1, 6, 23, 1, 2, 1, 1, 1, 1, 5, 19, 1, 1, 1, 73, 1, 1, 1, 1, 180, 1, 1, 1, 1, 1, 2, 1, 215, 1, 2, 1, 2, 8, 1, 2, 2, 2, 35, 13, 30, 1, 1, 2, 3, 4, 28, 30, 19, 1], \"xaxis\": \"x\", \"yaxis\": \"y\", \"type\": \"histogram\"}], \"name\": \"89\"}, {\"data\": [{\"alignmentgroup\": \"True\", \"bingroup\": \"x\", \"hoverlabel\": {\"namelength\": 0}, \"hovertemplate\": \"Iteration=90<br>Length=%{x}<br>count=%{y}\", \"legendgroup\": \"\", \"marker\": {\"color\": \"#636efa\"}, \"name\": \"\", \"nbinsx\": 317, \"offsetgroup\": \"\", \"orientation\": \"v\", \"showlegend\": false, \"x\": [23, 1, 1, 1, 1, 1, 1, 1, 1, 1, 23, 62, 1, 1, 1, 1, 68, 1, 1, 1, 1, 32, 1, 1, 1, 1, 1, 4, 1, 1, 22, 1, 1, 2, 1, 8, 1, 5, 1, 1, 12, 32, 1, 1, 1, 1, 1, 3, 71, 1, 1, 1, 1, 34, 55, 1, 1, 12, 1, 1, 1, 1, 9, 6, 2, 1, 26, 1, 1, 1, 2, 1, 1, 15, 3, 28, 216, 72, 34, 1, 27, 11, 4, 1, 1, 2, 2, 125, 2, 1, 1, 1, 84], \"xaxis\": \"x\", \"yaxis\": \"y\", \"type\": \"histogram\"}], \"name\": \"90\"}, {\"data\": [{\"alignmentgroup\": \"True\", \"bingroup\": \"x\", \"hoverlabel\": {\"namelength\": 0}, \"hovertemplate\": \"Iteration=91<br>Length=%{x}<br>count=%{y}\", \"legendgroup\": \"\", \"marker\": {\"color\": \"#636efa\"}, \"name\": \"\", \"nbinsx\": 317, \"offsetgroup\": \"\", \"orientation\": \"v\", \"showlegend\": false, \"x\": [1, 1, 1, 1, 62, 1, 46, 1, 3, 1, 2, 1, 1, 1, 1, 1, 1, 1, 5, 1, 1, 73, 21, 1, 1, 1, 1, 1, 30, 67, 1, 6, 1, 1, 1, 1, 1, 1, 3, 1, 14, 37, 1, 1, 56, 1, 16, 21, 157, 1, 19, 1, 1, 1, 1, 5, 146, 1, 1, 94, 1, 1, 13, 1, 1, 2, 2, 38, 4, 2, 3, 12, 11, 29, 4, 13, 28, 28, 5, 1, 2, 4, 3, 2, 70], \"xaxis\": \"x\", \"yaxis\": \"y\", \"type\": \"histogram\"}], \"name\": \"91\"}, {\"data\": [{\"alignmentgroup\": \"True\", \"bingroup\": \"x\", \"hoverlabel\": {\"namelength\": 0}, \"hovertemplate\": \"Iteration=92<br>Length=%{x}<br>count=%{y}\", \"legendgroup\": \"\", \"marker\": {\"color\": \"#636efa\"}, \"name\": \"\", \"nbinsx\": 317, \"offsetgroup\": \"\", \"orientation\": \"v\", \"showlegend\": false, \"x\": [1, 1, 1, 1, 1, 6, 1, 2, 21, 1, 1, 5, 4, 2, 1, 15, 1, 1, 1, 70, 1, 1, 167, 35, 1, 1, 1, 1, 121, 1, 54, 47, 1, 22, 4, 85, 1, 1, 1, 1, 1, 1, 1, 1, 1, 1, 1, 28, 1, 1, 1, 1, 13, 1, 66, 3, 1, 1, 4, 2, 1, 1, 1, 72, 1, 1, 1, 1, 1, 4, 1, 3, 9, 16, 4, 9, 1, 2, 3, 6, 36, 29, 71, 13, 1, 95, 1, 17, 1, 1], \"xaxis\": \"x\", \"yaxis\": \"y\", \"type\": \"histogram\"}], \"name\": \"92\"}, {\"data\": [{\"alignmentgroup\": \"True\", \"bingroup\": \"x\", \"hoverlabel\": {\"namelength\": 0}, \"hovertemplate\": \"Iteration=93<br>Length=%{x}<br>count=%{y}\", \"legendgroup\": \"\", \"marker\": {\"color\": \"#636efa\"}, \"name\": \"\", \"nbinsx\": 317, \"offsetgroup\": \"\", \"orientation\": \"v\", \"showlegend\": false, \"x\": [3, 1, 5, 1, 1, 1, 1, 1, 1, 1, 1, 262, 17, 1, 4, 1, 71, 1, 1, 3, 1, 7, 1, 82, 1, 4, 1, 1, 4, 1, 1, 2, 1, 7, 1, 1, 6, 1, 3, 1, 15, 1, 1, 4, 14, 1, 1, 1, 28, 14, 1, 1, 1, 1, 1, 1, 15, 1, 1, 1, 1, 1, 24, 67, 4, 2, 31, 1, 1, 1, 1, 1, 2, 55, 32, 1, 122, 8, 1, 7, 22, 63, 57, 2, 7, 2, 70, 5, 6, 4, 17], \"xaxis\": \"x\", \"yaxis\": \"y\", \"type\": \"histogram\"}], \"name\": \"93\"}, {\"data\": [{\"alignmentgroup\": \"True\", \"bingroup\": \"x\", \"hoverlabel\": {\"namelength\": 0}, \"hovertemplate\": \"Iteration=94<br>Length=%{x}<br>count=%{y}\", \"legendgroup\": \"\", \"marker\": {\"color\": \"#636efa\"}, \"name\": \"\", \"nbinsx\": 317, \"offsetgroup\": \"\", \"orientation\": \"v\", \"showlegend\": false, \"x\": [1, 2, 1, 6, 1, 1, 1, 1, 6, 33, 1, 3, 1, 126, 1, 1, 1, 3, 32, 1, 1, 1, 1, 14, 4, 12, 2, 1, 1, 1, 1, 4, 5, 56, 1, 8, 1, 2, 1, 277, 1, 1, 5, 1, 1, 1, 4, 1, 1, 74, 1, 6, 1, 13, 1, 1, 21, 10, 1, 1, 4, 64, 7, 3, 1, 1, 91, 3, 1, 1, 2, 1, 1, 2, 12, 8, 3, 13, 1, 56, 1, 2, 23, 74, 5, 1, 2, 1, 66, 18, 5], \"xaxis\": \"x\", \"yaxis\": \"y\", \"type\": \"histogram\"}], \"name\": \"94\"}, {\"data\": [{\"alignmentgroup\": \"True\", \"bingroup\": \"x\", \"hoverlabel\": {\"namelength\": 0}, \"hovertemplate\": \"Iteration=95<br>Length=%{x}<br>count=%{y}\", \"legendgroup\": \"\", \"marker\": {\"color\": \"#636efa\"}, \"name\": \"\", \"nbinsx\": 317, \"offsetgroup\": \"\", \"orientation\": \"v\", \"showlegend\": false, \"x\": [1, 33, 64, 1, 1, 1, 6, 1, 35, 7, 1, 1, 75, 69, 7, 1, 7, 1, 1, 34, 1, 6, 1, 1, 2, 290, 1, 1, 1, 1, 8, 1, 5, 2, 1, 1, 3, 1, 1, 1, 75, 36, 1, 2, 2, 1, 1, 15, 1, 1, 19, 1, 5, 1, 1, 1, 2, 1, 1, 1, 1, 1, 15, 4, 1, 1, 60, 1, 15, 1, 1, 1, 1, 21, 1, 1, 41, 3, 16, 7, 1, 1, 1, 22, 120, 1, 4, 7, 2, 7, 1, 4, 3, 1, 18, 3, 7, 2, 2, 1], \"xaxis\": \"x\", \"yaxis\": \"y\", \"type\": \"histogram\"}], \"name\": \"95\"}, {\"data\": [{\"alignmentgroup\": \"True\", \"bingroup\": \"x\", \"hoverlabel\": {\"namelength\": 0}, \"hovertemplate\": \"Iteration=96<br>Length=%{x}<br>count=%{y}\", \"legendgroup\": \"\", \"marker\": {\"color\": \"#636efa\"}, \"name\": \"\", \"nbinsx\": 317, \"offsetgroup\": \"\", \"orientation\": \"v\", \"showlegend\": false, \"x\": [1, 1, 24, 8, 1, 1, 1, 1, 7, 1, 1, 8, 2, 3, 19, 1, 305, 90, 1, 7, 1, 1, 19, 37, 1, 1, 41, 1, 9, 1, 1, 6, 1, 1, 1, 1, 1, 2, 1, 4, 1, 1, 11, 1, 1, 1, 1, 4, 30, 1, 1, 1, 1, 48, 1, 32, 1, 1, 3, 67, 1, 1, 1, 36, 2, 1, 1, 1, 1, 74, 1, 5, 118, 2, 11, 7, 61, 2, 1, 56, 3, 1, 8, 1, 16, 4, 4, 1, 2], \"xaxis\": \"x\", \"yaxis\": \"y\", \"type\": \"histogram\"}], \"name\": \"96\"}, {\"data\": [{\"alignmentgroup\": \"True\", \"bingroup\": \"x\", \"hoverlabel\": {\"namelength\": 0}, \"hovertemplate\": \"Iteration=97<br>Length=%{x}<br>count=%{y}\", \"legendgroup\": \"\", \"marker\": {\"color\": \"#636efa\"}, \"name\": \"\", \"nbinsx\": 317, \"offsetgroup\": \"\", \"orientation\": \"v\", \"showlegend\": false, \"x\": [1, 1, 97, 1, 1, 2, 1, 1, 1, 1, 2, 3, 7, 2, 1, 1, 1, 1, 1, 1, 23, 1, 1, 1, 8, 4, 1, 1, 12, 1, 15, 1, 9, 1, 1, 1, 1, 1, 63, 1, 316, 8, 106, 1, 2, 7, 1, 1, 1, 3, 1, 1, 1, 4, 1, 1, 58, 9, 1, 1, 1, 1, 1, 9, 3, 75, 9, 1, 17, 33, 47, 1, 2, 38, 2, 8, 2, 1, 119, 1, 1, 2, 15, 37, 32], \"xaxis\": \"x\", \"yaxis\": \"y\", \"type\": \"histogram\"}], \"name\": \"97\"}, {\"data\": [{\"alignmentgroup\": \"True\", \"bingroup\": \"x\", \"hoverlabel\": {\"namelength\": 0}, \"hovertemplate\": \"Iteration=98<br>Length=%{x}<br>count=%{y}\", \"legendgroup\": \"\", \"marker\": {\"color\": \"#636efa\"}, \"name\": \"\", \"nbinsx\": 317, \"offsetgroup\": \"\", \"orientation\": \"v\", \"showlegend\": false, \"x\": [7, 60, 1, 37, 2, 1, 1, 16, 1, 1, 1, 7, 1, 1, 3, 1, 9, 1, 1, 15, 1, 1, 1, 1, 1, 1, 1, 55, 1, 1, 2, 1, 1, 1, 33, 2, 1, 1, 1, 1, 4, 104, 1, 1, 1, 1, 1, 1, 73, 2, 1, 18, 1, 1, 1, 2, 9, 1, 3, 1, 76, 1, 1, 37, 1, 1, 1, 1, 2, 1, 72, 1, 1, 1, 1, 1, 2, 10, 1, 1, 1, 5, 120, 317, 1, 1, 103, 5, 1, 2], \"xaxis\": \"x\", \"yaxis\": \"y\", \"type\": \"histogram\"}], \"name\": \"98\"}, {\"data\": [{\"alignmentgroup\": \"True\", \"bingroup\": \"x\", \"hoverlabel\": {\"namelength\": 0}, \"hovertemplate\": \"Iteration=99<br>Length=%{x}<br>count=%{y}\", \"legendgroup\": \"\", \"marker\": {\"color\": \"#636efa\"}, \"name\": \"\", \"nbinsx\": 317, \"offsetgroup\": \"\", \"orientation\": \"v\", \"showlegend\": false, \"x\": [1, 112, 2, 3, 1, 1, 1, 5, 2, 1, 1, 1, 1, 1, 1, 20, 1, 1, 1, 1, 1, 1, 1, 1, 9, 1, 1, 1, 1, 3, 1, 1, 25, 1, 1, 3, 1, 1, 272, 2, 1, 1, 1, 1, 1, 192, 1, 1, 2, 39, 1, 19, 1, 2, 1, 1, 1, 1, 3, 1, 1, 1, 1, 61, 3, 1, 2, 1, 62, 2, 8, 32, 6, 1, 1, 2, 2, 2, 2, 77, 2, 8, 4, 10, 45, 56, 2, 105, 13, 11], \"xaxis\": \"x\", \"yaxis\": \"y\", \"type\": \"histogram\"}], \"name\": \"99\"}]);\n",
              "                        }).then(function(){\n",
              "                            \n",
              "var gd = document.getElementById('6871b344-6d9e-4ea3-be90-81efeffea5ec');\n",
              "var x = new MutationObserver(function (mutations, observer) {{\n",
              "        var display = window.getComputedStyle(gd).display;\n",
              "        if (!display || display === 'none') {{\n",
              "            console.log([gd, 'removed!']);\n",
              "            Plotly.purge(gd);\n",
              "            observer.disconnect();\n",
              "        }}\n",
              "}});\n",
              "\n",
              "// Listen for the removal of the full notebook cells\n",
              "var notebookContainer = gd.closest('#notebook-container');\n",
              "if (notebookContainer) {{\n",
              "    x.observe(notebookContainer, {childList: true});\n",
              "}}\n",
              "\n",
              "// Listen for the clearing of the current output cell\n",
              "var outputEl = gd.closest('.output');\n",
              "if (outputEl) {{\n",
              "    x.observe(outputEl, {childList: true});\n",
              "}}\n",
              "\n",
              "                        })\n",
              "                };\n",
              "                \n",
              "            </script>\n",
              "        </div>\n",
              "</body>\n",
              "</html>"
            ]
          },
          "metadata": {
            "tags": [
              "id15_content_5",
              "outputarea_id15",
              "user_output"
            ]
          }
        },
        {
          "output_type": "display_data",
          "data": {
            "application/javascript": [
              "window[\"ddc849ae-c60e-11ea-9e0a-0242ac1c0002\"] = google.colab.output.setActiveOutputArea(window[\"db5fb954-c60e-11ea-9e0a-0242ac1c0002\"]);\n",
              "//# sourceURL=js_5c2a1a7535"
            ],
            "text/plain": [
              "<IPython.core.display.Javascript object>"
            ]
          },
          "metadata": {
            "tags": [
              "id15_content_5",
              "outputarea_id15"
            ]
          }
        }
      ]
    }
  ]
}