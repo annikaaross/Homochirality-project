{
  "nbformat": 4,
  "nbformat_minor": 0,
  "metadata": {
    "colab": {
      "name": "lio's Copy of Tidied_Homochirality_v005.ipynb",
      "provenance": [],
      "collapsed_sections": [
        "AvOcPptw5JVf",
        "a8egVnJUbTYf",
        "axVuXR__qoi4",
        "jI9isLxnRk5d",
        "RX_K0yxjTSEx",
        "IdB8k_yadghA",
        "1lx9FPNLeRNM",
        "HVY41XQPUjIT",
        "hqD3AL_kUldF",
        "HEFlHyn6UoPU",
        "cz4Cis4ze7j6",
        "ALnPeaUCfhL4",
        "CmKsCAazVPy_",
        "DdqK65C-8cpi",
        "3nujicdthc10"
      ],
      "toc_visible": true,
      "include_colab_link": true
    },
    "kernelspec": {
      "name": "python3",
      "display_name": "Python 3"
    }
  },
  "cells": [
    {
      "cell_type": "markdown",
      "metadata": {
        "id": "view-in-github",
        "colab_type": "text"
      },
      "source": [
        "<a href=\"https://colab.research.google.com/github/annikaaross/Homochirality-project/blob/lio's-branch/Lio_Tidied_Homochirality_v005.ipynb\" target=\"_parent\"><img src=\"https://colab.research.google.com/assets/colab-badge.svg\" alt=\"Open In Colab\"/></a>"
      ]
    },
    {
      "cell_type": "markdown",
      "metadata": {
        "id": "IO4sCUUbimaZ",
        "colab_type": "text"
      },
      "source": [
        "# Homochirality Model"
      ]
    },
    {
      "cell_type": "markdown",
      "metadata": {
        "id": "AhJ4LH11izgn",
        "colab_type": "text"
      },
      "source": [
        "Hello and welcome to *Do Opposites Attract?*, the first monomer dating show. We're here to see if similarity between member(s) of a relationship matters in the strength of the bond between the individuals. Read on as we introduce you to our monomers, our polymers, and the stylish bag that they reside in. Along the way we will keep you up to date on all the drama of falling in love and breaking hearts. \n",
        "\n",
        "I am editing this in colab. I am aiming to see how it workd to run this back into github - I feel like I did this yesterday but i need to practice again."
      ]
    },
    {
      "cell_type": "markdown",
      "metadata": {
        "id": "AvOcPptw5JVf",
        "colab_type": "text"
      },
      "source": [
        "## Global Parameters"
      ]
    },
    {
      "cell_type": "markdown",
      "metadata": {
        "id": "lfMJif2R5Uc7",
        "colab_type": "text"
      },
      "source": [
        "Here's where we keep the rules by which our contestants must play."
      ]
    },
    {
      "cell_type": "code",
      "metadata": {
        "id": "zW---ckX5eKf",
        "colab_type": "code",
        "colab": {}
      },
      "source": [
        "#the bond break probbility applied to all bonds\n",
        "BASE_BOND_BREAK_PROBABILITY = 1\n",
        "#if a bond itself is homochiral the base bond fator is multiplied by\n",
        "#this factor\n",
        "HOMOCHIRAL_BREAK_FACTOR = 0.9\n",
        "#this factor is incorporated for each additional neighboring homochiral bond\n",
        "# becomes less and less influential as the bond gets further away\n",
        "HOMOCHIRAL_NEIGHBOR_IMPROV_FACTOR = 0.3\n",
        "#decreases the break probability based on the length of the polymer\n",
        "LENGTH_FACTOR = 0.9\n",
        "\n",
        "#dictionary of poisson values\n",
        "poissondict={}\n",
        "#used in Poisson distribution\n",
        "LAMBDA=6\n",
        "#################################################################\n",
        "#these are the same factors as before but with on for left and  #\n",
        "#one for right homochiral bonds.                                #\n",
        "#used in biaseastbondbreakability method which can be choosen to#\n",
        "#be used over the regular eastbondbreakability method in the    #\n",
        "#self.reset_break_probability() method                          #\n",
        "#################################################################\n",
        "HOMOCHIRAL_BREAK_FACTOR_LEFT = 0.3\n",
        "HOMOCHIRAL_BREAK_FACTOR_RIGHT = 0.9\n",
        "HOMOCHIRAL_NEIGHBOR_IMPROV_FACTOR_LEFT = 0.3\n",
        "HOMOCHIRAL_NEIGHBOR_IMPROV_FACTOR_RIGHT = 0.3\n",
        "\n",
        "\n",
        "#These are the liklihoods that a monomer will choose to poof or bond, respectively.\n",
        "#Used in the Reactables class.\n",
        "POOF_CHANCE = 0.3333\n",
        "BOND_PROB = 0.3333\n",
        "\n",
        "\n",
        "\n",
        "# Shorthands #\n",
        "L = True\n",
        "R = False"
      ],
      "execution_count": 25,
      "outputs": []
    },
    {
      "cell_type": "markdown",
      "metadata": {
        "id": "a8egVnJUbTYf",
        "colab_type": "text"
      },
      "source": [
        "## Imports and Helpers"
      ]
    },
    {
      "cell_type": "markdown",
      "metadata": {
        "id": "IN4PxtbgaqnM",
        "colab_type": "text"
      },
      "source": [
        "First we install a package called ```jdc``` which allows us to define classes across different cells using the syntax\n",
        "\n",
        "```\n",
        "%%add_to our_class\n",
        "def our_function(self, our_variable):\n",
        "  print our_variable\n",
        "```\n",
        "\n",
        "The documentation on this magic function can be found at https://alexhagen.github.io/jdc/\n",
        "\n",
        "\n",
        "\n",
        "\n"
      ]
    },
    {
      "cell_type": "code",
      "metadata": {
        "id": "5f4ViqWCQDL_",
        "colab_type": "code",
        "colab": {
          "base_uri": "https://localhost:8080/",
          "height": 35
        },
        "outputId": "d7c3738d-51e5-4af6-903c-99588f244383"
      },
      "source": [
        "!pip install jdc"
      ],
      "execution_count": 26,
      "outputs": [
        {
          "output_type": "stream",
          "text": [
            "Requirement already satisfied: jdc in /usr/local/lib/python3.6/dist-packages (0.0.9)\n"
          ],
          "name": "stdout"
        }
      ]
    },
    {
      "cell_type": "markdown",
      "metadata": {
        "id": "5DONDBNfbdC3",
        "colab_type": "text"
      },
      "source": [
        "Here are the imports."
      ]
    },
    {
      "cell_type": "code",
      "metadata": {
        "id": "7gkyGmzI6Vst",
        "colab_type": "code",
        "colab": {}
      },
      "source": [
        "import random\n",
        "import numpy as np\n",
        "import copy\n",
        "from google.colab import widgets\n",
        "import matplotlib.pyplot as plt\n",
        "import jdc\n",
        "import more_itertools\n",
        "import pandas as pd\n",
        "import plotly.express as px"
      ],
      "execution_count": 46,
      "outputs": []
    },
    {
      "cell_type": "markdown",
      "metadata": {
        "id": "Gc5E3314bsom",
        "colab_type": "text"
      },
      "source": [
        "And here are some helper functions."
      ]
    },
    {
      "cell_type": "code",
      "metadata": {
        "id": "PckJQLzVbvor",
        "colab_type": "code",
        "colab": {}
      },
      "source": [
        "def make_pool(n):\n",
        "  \"\"\"\n",
        "  Return a list of n new monomers.\n",
        "  \"\"\"\n",
        "  monomers = []\n",
        "  for n in range(n):\n",
        "    monomers.append(Monomer())\n",
        "  return monomers\n",
        "\n",
        "\n",
        "def numpy_fillna(data):\n",
        "  \"\"\" Rectangularize a jagged array.\n",
        "\n",
        "  Source: https://stackoverflow.com/a/32043366\n",
        "  \"\"\"\n",
        "  # Get lengths of each row of data\n",
        "  lens = np.array([len(i) for i in data])\n",
        "\n",
        "  # Mask of valid places in each row\n",
        "  mask = np.arange(lens.max()) < lens[:,None]\n",
        "\n",
        "  # Setup output array and put elements from data into masked positions\n",
        "  out = np.zeros(mask.shape, dtype=float)\n",
        "  out[mask] = np.concatenate(data)\n",
        "  return out\n",
        "\n",
        "def eAnd(*args): # From https://stackoverflow.com/q/2770434\n",
        "  return [all(tuple) for tuple in zip(*args)]"
      ],
      "execution_count": 28,
      "outputs": []
    },
    {
      "cell_type": "markdown",
      "metadata": {
        "id": "axVuXR__qoi4",
        "colab_type": "text"
      },
      "source": [
        "## The Monomer class"
      ]
    },
    {
      "cell_type": "markdown",
      "metadata": {
        "id": "ECDSIjWMVTb9",
        "colab_type": "text"
      },
      "source": [
        "These are our Monomers. The individuals in our dating show. They are the best thing a girl can be in this worl, beautiful little fools. They know that they exist and they know what kind of monomer they are, left or right(thats handedness not political party alignment) What more can you ask for?"
      ]
    },
    {
      "cell_type": "markdown",
      "metadata": {
        "id": "jI9isLxnRk5d",
        "colab_type": "text"
      },
      "source": [
        "### Constructor"
      ]
    },
    {
      "cell_type": "code",
      "metadata": {
        "id": "7TlZA8Njjd2D",
        "colab_type": "code",
        "colab": {}
      },
      "source": [
        "class Monomer:\n",
        "\n",
        "  def __init__(self, **kwargs):\n",
        "    \"\"\"\n",
        "    The constructor method for Monomer objects. Assigns default handedness.\n",
        "    Accepts argument hand = bool with keyword.\n",
        "    Considering other syntax for passing in handedness.\n",
        "    \"\"\"\n",
        "    import random\n",
        "    self._handedness = kwargs['hand'] if 'hand' in kwargs else random.choice([True,False])\n",
        "    self._eastbrkprob = kwargs['brkprob'] if 'brkprob' in kwargs else -1\n",
        "  \n",
        "  def __repr__(self):\n",
        "    return str(f\"{self.get_handedness()}-monomer\")\n"
      ],
      "execution_count": 29,
      "outputs": []
    },
    {
      "cell_type": "markdown",
      "metadata": {
        "id": "aP-4RlM7Q9IS",
        "colab_type": "text"
      },
      "source": [
        "### Getters and Setters"
      ]
    },
    {
      "cell_type": "code",
      "metadata": {
        "id": "IJM6sYAdRHFc",
        "colab_type": "code",
        "colab": {}
      },
      "source": [
        "%%add_to Monomer\n",
        "\n",
        "def get_handedness(self):\n",
        "  \"\"\"Getter method for Monomer handedness.\"\"\"\n",
        "  return self._handedness\n",
        "\n",
        "def get_eastbrkprob(self):\n",
        "  \"\"\"Getter method for east bond brk probability\"\"\"\n",
        "  return self._eastbrkprob\n",
        "\n",
        "def set_eastbrkprob(self, newbrk):\n",
        "  \"\"\"Setter method for east bond brk probability\"\"\"\n",
        "  self._eastbrkprob = newbrk\n",
        "\n",
        "def reset_eastbrkprob(self) :\n",
        "  \"\"\"reset east brk probability to -1 \n",
        "      to be called when single monomer is broken from polymer\"\"\"\n",
        "  self.set_eastbrkprob(-1)\n"
      ],
      "execution_count": 30,
      "outputs": []
    },
    {
      "cell_type": "markdown",
      "metadata": {
        "id": "ihXAcN9GRXPL",
        "colab_type": "text"
      },
      "source": [
        "### Polymer Compatibility"
      ]
    },
    {
      "cell_type": "code",
      "metadata": {
        "id": "4fFeZGU6Ra7W",
        "colab_type": "code",
        "colab": {}
      },
      "source": [
        "%%add_to Monomer\n",
        "\n",
        "def get_chirality(self):\n",
        "  \"\"\" Return an expression of handedness compatible with the Polymer notation\n",
        "  of chirality (n_lefts, n_rights).\n",
        "  \"\"\"\n",
        "  if self.get_handedness():\n",
        "    return (1,0)\n",
        "  else:\n",
        "    return (0,1)\n",
        "\n",
        "def get_length(self):\n",
        "  \"\"\" Return 1. \"\"\"\n",
        "  return 1\n",
        "\n",
        "def get_ee(self):\n",
        "  \"\"\" Return the enantiomeric excess of the monomer. This value is always 1. \"\"\"\n",
        "  return 1\n",
        "\n",
        "def get_signed_ee(self):\n",
        "  \"\"\" Return the signed enantiomeric excess of the monomer.\n",
        "  Returns 1 if left handed, -1 if right handed.\n",
        "  \"\"\"\n",
        "  if self.get_handedness():\n",
        "    return 1\n",
        "  else:\n",
        "    return -1\n",
        "\n",
        "def generate_old_log(self):\n",
        "  \"\"\" Return a log tuple in the format\n",
        "  (length, signed ee, total # homochiral bonds)\n",
        "  \"\"\"\n",
        "  return (self.get_length(), \n",
        "          self.get_signed_ee())\n",
        "          #sum(self.get_leftrighthomochiralbonds()))\n",
        "\n",
        "def generate_log(self):\n",
        "  \"\"\" Return a log compatible with the reactables history. \"\"\"\n",
        "  return (self.get_handedness(),)"
      ],
      "execution_count": 31,
      "outputs": []
    },
    {
      "cell_type": "markdown",
      "metadata": {
        "id": "lisjFJ2YqZf7",
        "colab_type": "text"
      },
      "source": [
        "## The Polymer class"
      ]
    },
    {
      "cell_type": "markdown",
      "metadata": {
        "id": "E9EWk1VVV-Oc",
        "colab_type": "text"
      },
      "source": [
        "This is our Polymer class, aka the relationships in this dating show. They contain a list of all the monomers that are inside of them. It is kept in a specific order. They are pretty open books. They can tell us how many monomers they contain, they add new members(either monomers or whole other polymers), they can remove entire groups of members after a certain index, they can check which of their bonds are homochiral and use this to calculate probability of a certain bond breaking(the weak areas in their relationship). They can use this to then tell the producers if and where they are planning on breaking off members of they ranks. Like all good relationships, they use purely mathematics and chance to determine these heart breaking decisions. They can also tell us how many left handed monomers and how many right handed monomers they contain. "
      ]
    },
    {
      "cell_type": "markdown",
      "metadata": {
        "id": "RX_K0yxjTSEx",
        "colab_type": "text"
      },
      "source": [
        "### Constructor"
      ]
    },
    {
      "cell_type": "code",
      "metadata": {
        "id": "zNkhoo72TYUM",
        "colab_type": "code",
        "colab": {}
      },
      "source": [
        "class Polymer:\n",
        "  def __init__(self, monomers = []):\n",
        "    \"\"\" Constructor method for Polymer.\n",
        "    In addition to setting the monomers list, also calculates all break probabilities\n",
        "    of the bonds it contains using reset_break_probability.\n",
        "    \"\"\"\n",
        "    self._monomers = monomers\n",
        "    self.reset_break_probability()\n",
        "\n",
        "  def __str__(self):\n",
        "    \"\"\" str function for Polymer class. \"\"\"\n",
        "    return f\"\\nA polymer of length {self.get_length()}: {self.get_sequence()}\"\n",
        "  \n",
        "  def __repr__(self):\n",
        "    \"\"\" repr function for Polymer class. \"\"\"\n",
        "    return f\"{self.get_sequence()}-polymer\""
      ],
      "execution_count": 32,
      "outputs": []
    },
    {
      "cell_type": "markdown",
      "metadata": {
        "id": "67fSyVs_Tdlh",
        "colab_type": "text"
      },
      "source": [
        "### Getters, Setters, and Logs"
      ]
    },
    {
      "cell_type": "code",
      "metadata": {
        "id": "ziWCTo2GTcrv",
        "colab_type": "code",
        "colab": {}
      },
      "source": [
        "%%add_to Polymer\n",
        "\n",
        "\n",
        "def get_monomers(self):\n",
        "  \"\"\" Return list of monomers in the polymer. \"\"\"\n",
        "  return self._monomers\n",
        "\n",
        "\n",
        "def get_length(self):\n",
        "  \"\"\" Return the number of monomers in the polymer. \"\"\"\n",
        "  return len(self._monomers)\n",
        "\n",
        "\n",
        "def get_sequence(self):\n",
        "  \"\"\" Return the sequence of monomers in the polymer in a human-readable (and loggable) format. \"\"\"\n",
        "  sequence = []\n",
        "  for monomer in self.get_monomers():\n",
        "    sequence.append(monomer.get_handedness())\n",
        "  return sequence\n",
        "\n",
        "\n",
        "def set_monomers(self, new_monomers):\n",
        "  \"\"\" Set the monomers in the polymer to new_monomers. \"\"\"\n",
        "  self._monomers = new_monomers\n",
        "\n",
        "\n",
        "def get_chirality(self):\n",
        "  \"\"\" Return the chiralities of the monomers within the polymer.\n",
        "\n",
        "  RETURN: tuple\n",
        "  (number_lefts, number_rights)\n",
        "  \"\"\"\n",
        "  #Get the monomer handednesses\n",
        "  sequence = self.get_sequence()\n",
        "  #Count the number of trues\n",
        "  n_true = sum(sequence)\n",
        "  #The number of falses is the total minus the number of trues\n",
        "  #Return that.\n",
        "  return (n_true, len(sequence) - n_true)\n",
        "\n",
        "def get_signed_ee(self):\n",
        "  lefts, rights = self.get_chirality()\n",
        "  return (lefts - rights) / self.get_length()\n",
        "\n",
        "def get_ee(self):\n",
        "  lefts, rights = self.get_chirality()\n",
        "  return abs((lefts - rights) / self.get_length())\n",
        "\n",
        "def get_leftrighthomochiralbonds(self):\n",
        "  \"\"\"\n",
        "  returns  # of left and right homochiral bonds in tuple (l,r)\n",
        "  \"\"\"\n",
        "  l=0\n",
        "  r=0\n",
        "  for n in range(self.get_length()):\n",
        "    if (self.easthomochiralbiascheck(n) == 3):\n",
        "          l+=1\n",
        "    elif (self.easthomochiralbiascheck(n) == 5):\n",
        "          r+=1\n",
        "  tuple1=(l,r)\n",
        "  return tuple1\n",
        "  \n",
        "def generate_old_log(self):\n",
        "  \"\"\" Return a log tuple in the format\n",
        "  (length, signed ee, total # homochiral bonds)\n",
        "  \"\"\"\n",
        "  return (self.get_length(), \n",
        "          self.get_signed_ee())\n",
        "          #sum(self.get_leftrighthomochiralbonds()))\n",
        "  \n",
        "def generate_log(self):\n",
        "  \"\"\" Return a log tuple formatted simply as the list of boolean handednesses of the monomers contained\n",
        "  in the polymer. Will be heavier than holding data about the polymer like in the other log format,\n",
        "  but should allow access to more information and more kinds of information.\n",
        "  \"\"\"\n",
        "  return tuple(self.get_sequence())"
      ],
      "execution_count": 33,
      "outputs": []
    },
    {
      "cell_type": "markdown",
      "metadata": {
        "id": "IdB8k_yadghA",
        "colab_type": "text"
      },
      "source": [
        "### Functionality methods"
      ]
    },
    {
      "cell_type": "code",
      "metadata": {
        "id": "Xa_gIPs0dcjS",
        "colab_type": "code",
        "colab": {}
      },
      "source": [
        "%%add_to Polymer\n",
        "\n",
        "def append(self, other):\n",
        "  \"\"\"\n",
        "  Adds a reactable (monomer or polymer) to the end of the Polymer.\n",
        "  If the added reactable is a polymer, append() deletes it after taking its monomers.\n",
        "  \"\"\"\n",
        "  #Check the type of thing to add\n",
        "  if isinstance(other, Monomer):\n",
        "    #Monomers can just be appended to the list\n",
        "    self._monomers.append(other)\n",
        "  elif isinstance(other, Polymer):\n",
        "    #For polymers we need to extend rather than append, to avoid nested lists\n",
        "    self._monomers.extend(other.get_monomers())\n",
        "    #Then once the monomers are safely in their new polymer, the old one is deleted\n",
        "    del other\n",
        "\n",
        "def brkloc(self):\n",
        "\n",
        "  #makes a list of all the indices of monomers in the polymer except \n",
        "  #for the last one\n",
        "  indices = []\n",
        "  for n in range(self.get_length() - 1):\n",
        "    indices.append(n)\n",
        "  #puts indices in random order\n",
        "  random.shuffle(indices)\n",
        "  #tests if each indices will break\n",
        "  for index in indices:\n",
        "    #gets the breakprobability for monomer at n index\n",
        "    brkprob = self._monomers[n].get_eastbrkprob()\n",
        "    rand = random.random()\n",
        "    # checks if the random number is less than the brkprob then the index of\n",
        "    #the monomer is returned from the method\n",
        "    #indicating this polymer breaks at the east bond of this monomer\n",
        "    if(brkprob > rand):\n",
        "      return n\n",
        "  return None\n",
        "\n",
        "def removeright(self,location):\n",
        "  \"\"\"\n",
        "  Removes all monomers to the right (east) of a given index\n",
        "  \"\"\"\n",
        "  #creates a list of monomers in the polymer to the left, and including,\n",
        "  #the monomer at the location(index) provided\n",
        "  newList = self._monomers[0:location+1]\n",
        "\n",
        "  #makes a list of the monoers to the rightof the monomer at the \n",
        "  #index provided\n",
        "  removed = self._monomers[location+1:]\n",
        "\n",
        "  #sets the polymers monomers to newList(the monomers to the left\n",
        "  #of  and the index provided)\n",
        "  self.set_monomers(newList)\n",
        "  #print(\"after breaking ractable is:\",self)\n",
        "  #print(\"after breaking removed is:\",removed)\n",
        "\n",
        "  #returns the monomers that were removed, everything the right\n",
        "  #of the index provided\n",
        "  return removed"
      ],
      "execution_count": 34,
      "outputs": []
    },
    {
      "cell_type": "markdown",
      "metadata": {
        "id": "1lx9FPNLeRNM",
        "colab_type": "text"
      },
      "source": [
        "### Homochirality handling"
      ]
    },
    {
      "cell_type": "code",
      "metadata": {
        "id": "THNcbUmt1vm7",
        "colab_type": "code",
        "colab": {}
      },
      "source": [
        "%%add_to Polymer\n",
        "\n",
        "def easthomochiralcheck(self,numbermonomer):\n",
        "  \"\"\"\n",
        "  Takes the index of a monomer within the Polymer and returns whether its east bond is homochiral.\n",
        "  \"\"\"\n",
        "  #First check that the index isn't out of bounds \n",
        "  if (0 > numbermonomer or numbermonomer >= self.get_length()-1):\n",
        "    #Should this raise an IndexError instead of returning False?\n",
        "    return False\n",
        "  #get the handedness of this monomer and its east neighbor, and return whether or not they're equal (bool)\n",
        "  return self._monomers[numbermonomer].get_handedness() == self._monomers[numbermonomer+1].get_handedness()\n",
        "\n",
        "def easthomochiralbiascheck (self, numbermonomer):\n",
        "  \"\"\" this method can be used in place of the east homochiral check method\n",
        "  returns false if not homochiral, 3 if homochiral left, 5 if homochiral right\"\"\"\n",
        "    #First check that the index isn't out of bounds \n",
        "  if (0 > numbermonomer or numbermonomer >= self.get_length()-1):\n",
        "    #Should this raise an IndexError instead of returning False?\n",
        "    return False\n",
        "  #get the handedness of this monomer and its east neighbor, and return whether or not they're equal (bool)\n",
        "  if (self._monomers[numbermonomer].get_handedness() == self._monomers[numbermonomer+1].get_handedness()):\n",
        "    if self._monomers[numbermonomer].get_handedness():\n",
        "      return 3\n",
        "    elif not self._monomers[numbermonomer].get_handedness():\n",
        "      return 5\n",
        "      \n",
        "\n",
        "\n",
        "def eastbondbreakprobability(self,numbermonomer):\n",
        "  \"\"\"\n",
        "  Takes the index of a monomer within the Polymer\n",
        "  Returns the probability that the monomer's east bond will break\n",
        "  returns -3 if the monomer has no east bond\n",
        "  \"\"\"\n",
        "  ##############################\n",
        "  #Override to return an equal break chance for every bond in the polymer\n",
        "  #Simply comment out this line to get the regular function\n",
        "  #return (0.3)\n",
        "  ##############################\n",
        "  #Initialize vars\n",
        "  brk = -3\n",
        "  length = self.get_length()\n",
        "  #First check if the monomer is the last one in the polymer\n",
        "  if (numbermonomer >= length-1):\n",
        "    #If so, it doesn't have an east bond to break, so the probability is 0\n",
        "    return brk\n",
        "  #With that out of the way, we set brk to the base probability of breaking a bond\n",
        "  #set to base bondbreak  multiplied by length factor to the power of \n",
        "  #the length of the polymer(breaking becomes less likely as the\n",
        "  #polymer becomes longer)\n",
        "  brk = BASE_BOND_BREAK_PROBABILITY * (LENGTH_FACTOR**self.get_length())\n",
        "\n",
        "  #check if the east bond is homochiral\n",
        "  if (self.easthomochiralcheck(numbermonomer)):\n",
        "    brk *= HOMOCHIRAL_BREAK_FACTOR\n",
        "    j = numbermonomer+1\n",
        "\n",
        "    #going right to check for neighboring homochirality\n",
        "    while(self.easthomochiralcheck(j)):\n",
        "      brk *= 1 - (HOMOCHIRAL_NEIGHBOR_IMPROV_FACTOR**abs(j - numbermonomer))\n",
        "      j += 1\n",
        "\n",
        "    #going left to check for neighboring homochirality\n",
        "    j=numbermonomer-1\n",
        "    while(self.easthomochiralcheck(j)):\n",
        "      brk *= 1-(HOMOCHIRAL_NEIGHBOR_IMPROV_FACTOR**abs(numbermonomer - j))\n",
        "      j -= 1\n",
        "  return brk\n",
        "\n",
        "def biaseastbondbreakprobability(self,numbermonomer):\n",
        "  \"\"\"\n",
        "  ***left-right sensitivity****\n",
        "  Takes the index of a monomer within the Polymer\n",
        "  Returns the probability that the monomer's east bond will break\n",
        "  returns -3 if the monomer has no east bond\n",
        "  \"\"\"\n",
        "  ##############################\n",
        "  #Override to return an equal break chance for every bond in the polymer\n",
        "  #Simply comment out this line to get the regular function\n",
        "  #return (0.3)\n",
        "  ##############################\n",
        "  #Initialize vars\n",
        "  brk = -3\n",
        "  length = self.get_length()\n",
        "  #First check if the monomer is the last one in the polymer\n",
        "  if (numbermonomer >= length-1):\n",
        "    #If so, it doesn't have an east bond to break, so the probability is 0\n",
        "    return brk\n",
        "  #With that out of the way, we set brk to the base probability of breaking a bond\n",
        "  #set to base bondbreak  multiplied by length factor to the power of \n",
        "  #the length of the polymer(breaking becomes less likely as the\n",
        "  #polymer becomes longer)\n",
        "  brk = BASE_BOND_BREAK_PROBABILITY * (LENGTH_FACTOR**self.get_length())\n",
        "\n",
        "  #Check if the east bond is not homorchiral\n",
        "  if (not self.easthomochiralbiascheck(numbermonomer)):\n",
        "    return brk\n",
        "\n",
        "  #check if the east bond is homochiral left\n",
        "  if (self.easthomochiralbiascheck(numbermonomer)== 3):\n",
        "    brk *= HOMOCHIRAL_BREAK_FACTOR_LEFT\n",
        "    j = numbermonomer+1\n",
        "\n",
        "    #going right to check for neighboring lefts\n",
        "    while(self.easthomochiralcheck(j)):\n",
        "      brk *= 1 - (HOMOCHIRAL_NEIGHBOR_IMPROV_FACTOR_LEFT**abs(j - numbermonomer))\n",
        "      j += 1\n",
        "\n",
        "    #going left to check for neighboring lefts\n",
        "    j=numbermonomer-1\n",
        "    while(self.easthomochiralcheck(j)):\n",
        "      brk *= 1-(HOMOCHIRAL_NEIGHBOR_IMPROV_FACTOR_LEFT**abs(numbermonomer - j))\n",
        "      j -= 1\n",
        "\n",
        "  #checks if bond is homochiral right\n",
        "  elif (self.easthomochiralbiascheck(numbermonomer) == 5):\n",
        "    brk *= HOMOCHIRAL_BREAK_FACTOR_RIGHT\n",
        "    j = numbermonomer+1\n",
        "\n",
        "    #going right checking for neighboring rights\n",
        "    while(self.easthomochiralcheck(j)):\n",
        "      brk *= 1 - (HOMOCHIRAL_NEIGHBOR_IMPROV_FACTOR_RIGHT**abs(j - numbermonomer))\n",
        "      j += 1\n",
        "\n",
        "    #going left checking for neighboring lefts\n",
        "    j=numbermonomer-1\n",
        "    while(self.easthomochiralcheck(j)):\n",
        "      brk *= 1-(HOMOCHIRAL_NEIGHBOR_IMPROV_FACTOR_RIGHT**abs(numbermonomer - j))\n",
        "      j -= 1\n",
        "  return brk\n",
        "\n",
        "def poissonbreakprobability(self,numbermonomer):\n",
        "  \"\"\"\n",
        "  Takes the index of a monomer within the Polymer\n",
        "  Returns the probability that the monomer's east bond will break\n",
        "  based on Poisson distribution\n",
        "  returns -3 if the monomer has no east bond\n",
        "  \"\"\"\n",
        "  #Initialize brk\n",
        "  brk = -3\n",
        "  length = self.get_length()\n",
        "  #First check if the monomer is the last one in the polymer\n",
        "  if (numbermonomer >= length-1):\n",
        "    #If so, it doesn't have an east bond to break, so the probability is 0\n",
        "    return brk\n",
        "  #With that out of the way, we set brk to the base probability of breaking a bond\n",
        "  #set to base bondbreak  multiplied by length factor to the power of \n",
        "  #the length of the polymer(breaking becomes less likely as the\n",
        "  #polymer becomes longer)\n",
        "  brk = BASE_BOND_BREAK_PROBABILITY * (LENGTH_FACTOR**self.get_length())\n",
        "  #keeps track of the number of homochiral bonds\n",
        "  poisson=0 \n",
        "  #check if the east bond is homochiral\n",
        "  if (self.easthomochiralcheck(numbermonomer)):\n",
        "    poisson+=1\n",
        "    brk *= 1-self.poissonequation(poisson)\n",
        "    j = numbermonomer+1\n",
        "    #going right to check for neighboring homochirality\n",
        "    while(self.easthomochiralcheck(j)):\n",
        "      poisson+=1\n",
        "      brk *= 1 - (self.poissonequation(poisson))\n",
        "      j += 1\n",
        "    #going left to check for neighboring homochirality\n",
        "    j=numbermonomer-1\n",
        "    while(self.easthomochiralcheck(j)):\n",
        "      poisson+=1\n",
        "      brk *= 1-(self.poissonequation(poisson))\n",
        "      j -= 1\n",
        "  return brk\n",
        "\n",
        "def poissonequation(self,k):\n",
        "  #checks if value has already been calulated\n",
        "  if (k not in poissondict):\n",
        "    #calculates\n",
        "    p= np.exp(-LAMBDA)*((LAMBDA**k)/(np.math.factorial(k)))\n",
        "    #adds to dictionary\n",
        "    poissondict[k]=p\n",
        "  return poissondict[k]\n",
        "\n",
        "\n",
        "\n",
        "def reset_break_probability(self):\n",
        "  \"\"\" recalculates break probabilities for all monomers in polymer \n",
        "    can be altered to incorporate left right homochiral sensitivity\"\"\"\n",
        "  #if the polymer is of length one(meaning it is about to be deleted\n",
        "  #and simply recorded as a monomer) it sets its monomers \n",
        "  #brk probability to =-1\n",
        "  if self.get_length() == 1 :\n",
        "    self._monomers[0].set_eastbrkprob(-1)\n",
        "  #otherwise goes through indices and recalcultes break prob\n",
        "  else:\n",
        "    for n in range(self.get_length()):\n",
        "      ####################################################################\n",
        "      #LEFT RIGHT SENSITIVITY CHOICE\n",
        "      #comment out biaseastbondbreak to get no left/right sensitivity.   #\n",
        "      #comment out eastbonbreakprobability to get left/right sensirtivity#\n",
        "      ####################################################################\n",
        "      #self._monomers[n].set_eastbrkprob(self.biaseastbondbreakprobability(n))\n",
        "      self._monomers[n].set_eastbrkprob(self.eastbondbreakprobability(n))\n",
        "      #calculates poisson brk probabilities with poisson distribution\n",
        "      #self._monomers[n].set_eastbrkprob(self.poissonbreakprobability(n))\n",
        "  "
      ],
      "execution_count": 35,
      "outputs": []
    },
    {
      "cell_type": "markdown",
      "metadata": {
        "id": "oV4UK3XdkNoF",
        "colab_type": "text"
      },
      "source": [
        "## The Reactables class"
      ]
    },
    {
      "cell_type": "markdown",
      "metadata": {
        "id": "NPkloQE3XbaD",
        "colab_type": "text"
      },
      "source": [
        "This is the Reactables class aka the stylish little bag we keep our contestants in. As all good dating shows, we define our members by the relationship they are in. So a single monomer will be addd to the bag alone, but a monomer in a polymer will not be. Rather each polymer will be recorded once. Its like if you have charlie, ben, and jack. Jack and Ben are in a relationship so they are jointly called Jen. If these three were in the reactable bag they would be recognized as two things, charlie and Jen(Ben+JAck). The reactable class is the heart and center of our game- I mean dating- show. Its here we ask all the members just the right questions to get them falling in love and breaking hearts, and then we are curteous enough to do all the splitting and merging for them. "
      ]
    },
    {
      "cell_type": "markdown",
      "metadata": {
        "id": "HVY41XQPUjIT",
        "colab_type": "text"
      },
      "source": [
        "### Constructor"
      ]
    },
    {
      "cell_type": "code",
      "metadata": {
        "id": "JAdpBmhBUuGc",
        "colab_type": "code",
        "colab": {}
      },
      "source": [
        "class Reactables:\n",
        "\n",
        "  def __init__(self, reactables = []):\n",
        "    \"\"\"\n",
        "    Constructor class for Reactables object\n",
        "    Accepts list of reactables or defaults to empty list\n",
        "    Reactables functions as a bin for reactable objects monomer and polymer\n",
        "    Methods consist mostly of list handling\n",
        "    \"\"\"\n",
        "    self._reactables = reactables\n",
        "\n",
        "    #The reactables bag also handles remembering its history\n",
        "    self._history = []\n",
        "    self._leftrighthistory = []\n",
        "    self._lookup = {}\n",
        "    self._hist_stats = pd.DataFrame()\n",
        "\n",
        "    \n",
        "\n",
        "\n",
        "  def __str__(self):\n",
        "    \"\"\"\n",
        "    str method for Reactables class\n",
        "    \"\"\"\n",
        "    return str(self.get_reactables())"
      ],
      "execution_count": 36,
      "outputs": []
    },
    {
      "cell_type": "markdown",
      "metadata": {
        "id": "hqD3AL_kUldF",
        "colab_type": "text"
      },
      "source": [
        "### Getters and Setters"
      ]
    },
    {
      "cell_type": "code",
      "metadata": {
        "id": "7hRne9W9U3No",
        "colab_type": "code",
        "colab": {}
      },
      "source": [
        "%%add_to Reactables\n",
        "\n",
        "#################\n",
        "#GETTERS/SETTERS#\n",
        "#################\n",
        "\n",
        "def get_reactables(self):\n",
        "  \"\"\"\n",
        "  Getter method for reactables in Reactables\n",
        "  Returns a list of the objects currently in the Reactables bag\n",
        "  \"\"\"\n",
        "  return self._reactables\n",
        "\n",
        "def get_history(self):\n",
        "  \"\"\" Return the history of the reactables bag.\n",
        "  \"\"\"\n",
        "  return self._history\n",
        "\n",
        "def get_leftrighthistory(self):\n",
        "  return self._leftrighthistory\n",
        "\n",
        "def get_count(self):\n",
        "  \"\"\"\n",
        "  Getter method for Reactables class\n",
        "  Returns the number of objects in the Reactables bag\n",
        "  \"\"\"\n",
        "  return len(self.get_reactables()) \n",
        "\n",
        "\n",
        "def set_reactables(self, new_list):\n",
        "  \"\"\"\n",
        "  Setter method for the Reactables class\n",
        "  Sets the reactables bag to a new list\n",
        "  Used mostly as a helper function in bonding\n",
        "  \"\"\"\n",
        "  self._reactables = new_list\n",
        "\n",
        "\n",
        "def get_bond_chance(self, reactable1, reactable2):\n",
        "  \"\"\"\n",
        "  Returns the probability that two given reactables in the reactables bag will bond\n",
        "  \"\"\"\n",
        "  return BOND_PROB\n",
        "\n",
        "def get_free_monomers(self):\n",
        "  return [r for r in self.get_reactables() if isinstance(r, Monomer)]\n",
        "\n",
        "def get_polymers(self):\n",
        "  return [r for r in self.get_reactables() if isinstance(r, Polymer)]\n",
        "\n",
        "def get_bound_monomers(self):\n",
        "  bound = []\n",
        "  for p in self.get_polymers():\n",
        "    bound.extend(p.get_monomers())\n",
        "  return bound\n",
        "\n",
        "def record_leftrighthomochiral(self):\n",
        "  \"\"\"returns the number of left and right homochiral bonds, (left,right)\"\"\"\n",
        "  l=0\n",
        "  r=0\n",
        "  for polymer in self.get_polymers() :\n",
        "    tuple1=polymer.get_leftrighthomochiralbonds()\n",
        "    l += tuple1[0]\n",
        "    r += tuple1[1]\n",
        "  tuple2=(l,r)\n",
        "  self._leftrighthistory.append(tuple2)\n",
        "  return tuple2\n",
        "\n",
        "def get_stats(self):\n",
        "  return self._hist_stats\n",
        "\n",
        "def set_hist_stats(self,df):\n",
        "  self._hist_stats = df\n",
        "\n",
        "def get_lookup(self):\n",
        "  return self._lookup\n",
        "\n",
        "def add_stat_lookup(self, key, value):\n",
        "  self._lookup[key] = value"
      ],
      "execution_count": 37,
      "outputs": []
    },
    {
      "cell_type": "markdown",
      "metadata": {
        "id": "HEFlHyn6UoPU",
        "colab_type": "text"
      },
      "source": [
        "### Functionality methods"
      ]
    },
    {
      "cell_type": "markdown",
      "metadata": {
        "id": "cz4Cis4ze7j6",
        "colab_type": "text"
      },
      "source": [
        "#### Top level functionality"
      ]
    },
    {
      "cell_type": "code",
      "metadata": {
        "id": "UZMHOVm_fDL0",
        "colab_type": "code",
        "colab": {}
      },
      "source": [
        "%%add_to Reactables\n",
        "\n",
        "def refill(self, pool_size):\n",
        "  #Do we have less than the required number of things in the pool?\n",
        "  dearth = pool_size - self.get_count()\n",
        "  #If so,\n",
        "  if dearth > 0:\n",
        "    new = []\n",
        "    #Make as many monomers as we need to get back up to the riquired amount\n",
        "    for n in range(dearth):\n",
        "      new.append(Monomer())\n",
        "    #And add them to the reactables bag\n",
        "    self.add(new)\n",
        "\n",
        "def randomize_reactables(self):\n",
        "  \"\"\"\n",
        "  Randomizes the order of the reactables list\n",
        "  \"\"\"\n",
        "  #Get the current reactables\n",
        "  reactables = self.get_reactables()\n",
        "  #Shuffle them\n",
        "  random.shuffle(reactables)\n",
        "  #And reset the reactables list to the new sorted list\n",
        "  self.set_reactables(reactables)\n",
        "\n",
        "def do_the_thing(self):\n",
        "  \"\"\"Handle a single iteration of the reactables.\n",
        "\n",
        "  \"\"\"\n",
        "  #We keep track of bonding by storing the most recent reactable to choose to bond as the 'bachelor.'\n",
        "  bachelor = None\n",
        "  #We need a copy of the reactables because indices will change as soon as we start doing stuff\n",
        "  reactables = copy.copy(self.get_reactables())\n",
        "  #Iterate through each reactable\n",
        "  for item in reactables:\n",
        "    #Roll a random number in (0,1) to compare against our probabilities\n",
        "    roll = random.random()\n",
        "    #If our reactable is a monomer...\n",
        "    if isinstance(item, Monomer):\n",
        "      #We get our breaking and bonding chances (parameters now, may become functions later?)\n",
        "      brk = POOF_CHANCE\n",
        "      bond = BOND_PROB\n",
        "      #If we roll to break the monomer\n",
        "      if 0 < roll <= brk:\n",
        "        #Just delete it\n",
        "        del item\n",
        "      #If we roll to bond the monomer\n",
        "      elif brk < roll <= brk+bond:\n",
        "        #Check if there's a reactable waiting to bond\n",
        "        if bachelor == None:\n",
        "          #If not, make this monomer the bachelor. Someone will come along to bond later.\n",
        "          bachelor = item\n",
        "        else:\n",
        "          #If there is someone waiting, bond them together and reset the bachelor chair to empty.\n",
        "          self.bond_pair(bachelor, item)\n",
        "          bachelor = None\n",
        "      else:\n",
        "        continue\n",
        "    #If the reactable is a polymer instead...\n",
        "    elif isinstance(item, Polymer):\n",
        "      #Choose whether the polymer will break or bond. It's 50-50 right now.\n",
        "      if roll >= 0.5:\n",
        "        #This is the same bonding logic as for the monomer. It's not in a helper function because it needs to be able to access bachelor.\n",
        "        if bachelor == None:\n",
        "          bachelor = item\n",
        "        else:\n",
        "          self.bond_pair(bachelor, item)\n",
        "          bachelor = None\n",
        "      #Here's what happens if the polymer is chosen to check breaking\n",
        "      else:\n",
        "        #It finds its break location\n",
        "        break_spot = item.brkloc()\n",
        "        #Which might turn out to be nowhere.\n",
        "        if break_spot != None:\n",
        "          #If somewhere does break, call break_polymer to handle the breaking\n",
        "          self.break_polymer(item,break_spot)\n",
        "    else:\n",
        "      #You never know what might end up in your reactables bag\n",
        "      raise ValueError(\"This thing is neither a monomer or a polymer. What?!\")\n",
        "\n",
        "def iterate(self,size):\n",
        "  \"\"\"\n",
        "  Handles full sequence of iteration\n",
        "  \"\"\"\n",
        "  self.randomize_reactables()\n",
        "  self.do_the_thing()\n",
        "  self.log()\n",
        "  self.record_leftrighthomochiral()\n",
        "  self.refill(size)"
      ],
      "execution_count": 38,
      "outputs": []
    },
    {
      "cell_type": "markdown",
      "metadata": {
        "id": "ALnPeaUCfhL4",
        "colab_type": "text"
      },
      "source": [
        "#### Functionality helpers"
      ]
    },
    {
      "cell_type": "code",
      "metadata": {
        "id": "hpqCXL48VGTB",
        "colab_type": "code",
        "colab": {}
      },
      "source": [
        "%%add_to Reactables\n",
        "\n",
        "\n",
        "def add(self, new_reactables):\n",
        "  \"\"\"\n",
        "  Adds a list of reactables to the reactables bag\n",
        "  Built on extend(); argument must be iterable\n",
        "  \"\"\"\n",
        "  #print(\"list of new Reactbles\", new_reactables)\n",
        "  #print(\"list of get Reactables:\",self.get_reactables())\n",
        "  self.get_reactables().extend(new_reactables)\n",
        "  #print(\"reactables list is now\",self.get_reactables())\n",
        "\n",
        "\n",
        "def subtract(self, removables):\n",
        "  \"\"\"\n",
        "  Removes a list of reactables from the reactables bag\n",
        "  Built on list comprehension; argument must be iterable\n",
        "  \"\"\"\n",
        "  self.set_reactables([reactable for reactable in self.get_reactables() if not (reactable in removables)])\n",
        "\n",
        "\n",
        "def bond_pair(self, west, east):\n",
        "  \"\"\"\n",
        "  Accepts two reactables from the bag\n",
        "  Bonds them together, handling deletion of any emptied polymer\n",
        "  \"\"\"\n",
        "  #Take your two reactables and check if the west one is a monomer or a polymer \n",
        "  if isinstance(west, Polymer):\n",
        "    #If it's a polymer, all you've got to do is append the east item and then take it out of the bag\n",
        "    west.append(east)\n",
        "    self.subtract([east])\n",
        "    #recalculate the breakprobabilities of the bonds in polymer\n",
        "    west.reset_break_probability()\n",
        "  if isinstance(west, Monomer):\n",
        "    #If west friend is a Monomer, then make a new polymer containing west\n",
        "    newpoly = Polymer([west])\n",
        "    #Add the east things to it\n",
        "    newpoly.append(east)\n",
        "    #Remove both the west monomer and the east thing\n",
        "    self.subtract([east])\n",
        "    self.subtract([west])\n",
        "    #And put the new polymer into the reactables bag\n",
        "    self.add([newpoly])\n",
        "    #recalculates break probability\n",
        "    newpoly.reset_break_probability()\n",
        "\n",
        "\n",
        "def break_polymer(self, polymer, brk_location):\n",
        "  #breaks polymer at given location and creates a new polymer of the \n",
        "  #monomers removed\n",
        "  #when polymer is made-breakprobabilities are calculated\n",
        "  newPolymer = Polymer(polymer.removeright(n))\n",
        "  polys = [newPolymer, polymer]\n",
        "  #resets break probabilities in polymer\n",
        "  polymer.reset_break_probability()\n",
        "  #goes throught the two new polymers\n",
        "  for poly in polys:\n",
        "    #checks if they are of length 1\n",
        "    if poly.get_length() <= 1:\n",
        "      #adds them to reactable as a single monomer\n",
        "      self.add(poly.get_monomers())\n",
        "      #subtracts polymer from reactable list\n",
        "      self.subtract([poly])\n",
        "      del poly\n",
        "    #checks if the polymer is not in the reactables list\n",
        "    elif (poly not in self.get_reactables()):\n",
        "      #add polymer to reactable list\n",
        "      self.add([poly])\n",
        "    \n",
        "\n"
      ],
      "execution_count": 39,
      "outputs": []
    },
    {
      "cell_type": "markdown",
      "metadata": {
        "id": "CmKsCAazVPy_",
        "colab_type": "text"
      },
      "source": [
        "### Current state data methods"
      ]
    },
    {
      "cell_type": "code",
      "metadata": {
        "id": "4FVYtSkYVZ7n",
        "colab_type": "code",
        "colab": {}
      },
      "source": [
        "%%add_to Reactables\n",
        "\n",
        "# def get_overall_chirality(self):\n",
        "#   \"\"\" Return the total quantity of left- and right-handed monomers in the reactable\n",
        "#     pool, including monomers within polymers.\n",
        "\n",
        "#   RETURN tuple\n",
        "#   (Left-handed_quantity, Right-handed_quantity)\n",
        "#   \"\"\"\n",
        "#   left_count = 0\n",
        "#   right_count = 0\n",
        "#   for reactable in self.get_reactables():\n",
        "#     if isinstance(reactable, Monomer):\n",
        "#       if reactable.get_handedness():\n",
        "#         left_count += 1\n",
        "#       else:\n",
        "#         right_count += 1\n",
        "#     elif isinstance(reactable, Polymer):\n",
        "#       l, r = reactable.get_chirality()\n",
        "#       left_count += l\n",
        "#       right_count += r\n",
        "#     else:\n",
        "#       print(f\"{reactable}, which is a {type(reactable)}\")\n",
        "#       raise ValueError\n",
        "#   return (left_count, right_count)\n",
        "\n",
        "# def get_polymer_chirality(self):\n",
        "#   \"\"\" Return the total quantity of left- and right-handed monomers in the polymers\n",
        "#   within the reactable pool.\n",
        "\n",
        "#   RETURN tuple\n",
        "#   (Left-handed_quantity, Right-handed_quantity)\n",
        "#   \"\"\"\n",
        "#   left_count = 0\n",
        "#   right_count = 0\n",
        "#   for reactable in self.get_reactables():\n",
        "#     if isinstance(reactable, Polymer):\n",
        "#       l, r = reactable.get_chirality()\n",
        "#       left_count += l\n",
        "#       right_count += r\n",
        "#   return (left_count, right_count)\n",
        "\n",
        "# def get_free_proportion(self):\n",
        "#   \"\"\"Return the proportion of free monomers to total population\"\"\"\n",
        "#   return len(self.get_free_monomers())/self.unit_count()\n",
        "\n",
        "# def unit_count(self):\n",
        "#   \"\"\"return the total number of monomers in the bag, both free and bound\"\"\"\n",
        "#   bound = 0\n",
        "#   for p in self.get_polymers():\n",
        "#     bound += p.get_length()\n",
        "#   return len(self.get_free_monomers()) + bound\n",
        "\n",
        "# def get_polymer_ee(self):\n",
        "#   ee = []\n",
        "#   for polymer in self.get_polymers():\n",
        "#     ee.append(polymer.get_signed_ee())\n",
        "#   return ee\n",
        "\n",
        "# def avg_ee_by_length(self):\n",
        "#   \"\"\" Return a list containing the enantiomeric excess of all reactables sorted by size.\n",
        "#   That is:\n",
        "#   [(ee of monomers),(ee of 2-mers),(ee of 3-mers) etc]\n",
        "#   \"\"\"\n",
        "#   output = []\n",
        "#   for n in range(1,self.max_length()+1):\n",
        "#     group = self.get_reactables_by_length(n)\n",
        "#     ees = []\n",
        "#     # print(f\"For length {n} I got {len(group)} reactables.\")\n",
        "#     if len(group) > 0:\n",
        "#       # eestr = \"\"\n",
        "#       for r in group:\n",
        "#         ees.append(r.get_ee())\n",
        "#         # eestr += f\", {r.get_ee()}\"\n",
        "#       output.append(np.mean(ees))\n",
        "#       # print(f\"The ee's of this length were {eestr}.\\nThe average ee was {np.mean(ees)}.\")\n",
        "#     else:\n",
        "#       output.append(0)\n",
        "#   return output\n",
        "\n",
        "# def get_reactables_by_length(self,length):\n",
        "#   if length <= 1:\n",
        "#     #return the monomers\n",
        "#     return self.get_free_monomers()\n",
        "#   else:\n",
        "#     return [p for p in self.get_polymers() if p.get_length() == length]\n",
        "\n",
        "# def max_length(self):\n",
        "#   \"\"\" Return the length of the longest polymer in the reactables bag.\n",
        "#   \"\"\"\n",
        "#   length = 0\n",
        "#   for p in self.get_polymers():\n",
        "#     if p.get_length() > length:\n",
        "#       length = p.get_length()\n",
        "#   return length\n",
        "\n"
      ],
      "execution_count": 40,
      "outputs": []
    },
    {
      "cell_type": "markdown",
      "metadata": {
        "id": "FVHgjYMhkuri",
        "colab_type": "text"
      },
      "source": [
        "### History handling methods"
      ]
    },
    {
      "cell_type": "code",
      "metadata": {
        "id": "tps6afh4kzUe",
        "colab_type": "code",
        "colab": {}
      },
      "source": [
        "%%add_to Reactables\n",
        "\n",
        "\n",
        "def log(self):\n",
        "  \"\"\" Translate current reactables into a loggable list of tuples.\n",
        "  This log keeps the full sequences of the polymers without digesting the data, \n",
        "  so it should be more flexible as we more forward with pulling new information\n",
        "  out of this simulation. \n",
        "  There is one major piece of information lost, however, which is the identities\n",
        "  of the individual polymers and monomers. \"\"\"\n",
        "  log = []\n",
        "  for r in self.get_reactables():\n",
        "    log.append(r.generate_log())\n",
        "  (self._history).append(log)\n",
        "\n",
        "def parse_history(self):\n",
        "    \"\"\" Create an array of plottable information from the history log. \"\"\"\n",
        "\n",
        "    # Column labels for History Handling #\n",
        "    Type = \"Type\"                   # Monomer or polymer\n",
        "    Length = \"Length\"               # How many monomers in the thing\n",
        "    nLefts = \"#Lefts\"               # How many left monomers in the thing\n",
        "    nRights = \"#Rights\"             # How many right monomers in the thing\n",
        "    Sequence = \"Sequence\"           # The string sequence of the thing\n",
        "    nLhomo = \"#LeftHomochiral\"      # The number of left homochiral bonds in the polymer\n",
        "    nRhomo = \"#RightHomochiral\"     # The number of right homochiral bonds in the polymer\n",
        "    nHomo = \"#Homochiral\"           # The overall number of homochiral bonds in the polymer\n",
        "    sEE = \"Signed ee\"               # The signed enantiomeric excess of the polymer (+ if more True)\n",
        "    pcHomo = \"%Homochirality\"       # The proportion of bonds in the polymer that are homochiral\n",
        "    pcLhomo = \"%LeftHomochirality\"  # The proportion of bonds in the polymer that are left homochiral\n",
        "    pcRhomo = \"%RightHomochirality\" # The proportion of bonds in the polymer that are right homochiral\n",
        "    Iter = \"Iteration\"              # The iteration number at which the item is found\n",
        "\n",
        "    \n",
        "    history = self.get_history()\n",
        "    individual_stats = pd.DataFrame()\n",
        "    for n in range(len(history)):\n",
        "        iteration = history[n]\n",
        "        for item in iteration:\n",
        "            # Translate\n",
        "            sequence = self.standard_form(item)\n",
        "\n",
        "            if len(item) == 1: # It's a monomer\n",
        "                #Is it in the lookup table?\n",
        "                if sequence not in self.get_lookup():\n",
        "                    # Get the info\n",
        "                    lr = self.count_LR(item)\n",
        "                    # And put it in the lookup table\n",
        "                    self.add_stat_lookup(sequence, {Type: 'Monomer', \n",
        "                                                    Length:1, \n",
        "                                                    nLefts:lr[0], \n",
        "                                                    nRights:lr[1],\n",
        "                                                    Sequence:sequence})\n",
        "                # Now that the data is searchable...\n",
        "                # Log it  \n",
        "                new_log = self.get_lookup().get(sequence)\n",
        "                new_log[Iter]=n\n",
        "                individual_stats = individual_stats.append(new_log, ignore_index=True)\n",
        "\n",
        "            elif len(item) > 1: # It's a polymer\n",
        "                #Is it in the lookup table?\n",
        "                if sequence not in self.get_lookup():\n",
        "                    # Get basic info\n",
        "                    length = len(item)\n",
        "                    lr = self.count_LR(item)\n",
        "                    bonds = self.homochiral_bond_counts(item)\n",
        "                    total_homos = bonds[0]+bonds[1]\n",
        "                    signed_ee = (lr[0]-lr[1])/(lr[0]+lr[1])\n",
        "                    homochirality = total_homos/(length-1)\n",
        "                    lhomochirality = bonds[0]/(length-1)\n",
        "                    rhomochirality = bonds[1]/(length-1)\n",
        "                    # And put it in the lookup table\n",
        "                    self.add_stat_lookup(sequence, {Type: 'Polymer', \n",
        "                                                    Length: length, \n",
        "                                                    nLefts:lr[0], \n",
        "                                                    nRights:lr[1],\n",
        "                                                    nLhomo:bonds[0],\n",
        "                                                    nRhomo:bonds[1],\n",
        "                                                    nHomo:total_homos,\n",
        "                                                    sEE:signed_ee,\n",
        "                                                    pcHomo:homochirality,\n",
        "                                                    pcLhomo:lhomochirality,\n",
        "                                                    pcRhomo:rhomochirality,\n",
        "                                                    Sequence:sequence})\n",
        "                # Now that the data is searchable...\n",
        "                # Log it\n",
        "                new_log = self.get_lookup().get(sequence)\n",
        "                new_log[Iter]=n\n",
        "                individual_stats = individual_stats.append(new_log, ignore_index=True)\n",
        "                \n",
        "            else:\n",
        "                raise ValueError(\"There's something with length 0 in your history.\")\n",
        "    self.set_hist_stats(individual_stats)\n",
        "\n",
        "\n",
        "\n",
        "\n",
        "\n",
        "\n",
        "\n",
        "\n"
      ],
      "execution_count": 41,
      "outputs": []
    },
    {
      "cell_type": "markdown",
      "metadata": {
        "id": "UkZ1_7xIy0Yd",
        "colab_type": "text"
      },
      "source": [
        "#### Low level info functions"
      ]
    },
    {
      "cell_type": "code",
      "metadata": {
        "id": "qJQfgfeSy5Me",
        "colab_type": "code",
        "colab": {}
      },
      "source": [
        "%%add_to Reactables\n",
        "\n",
        "## New ones ##\n",
        "\n",
        "  \n",
        "# Functions for getting the info we want to log\n",
        "    \n",
        "# Number of right and left monomers in a polymer (works on monomers too)\n",
        "\n",
        "\n",
        "def count_LR(self, log):\n",
        "    \"\"\" Return (n_Lefts, n_Rights) \"\"\"\n",
        "    if L and not R:\n",
        "        return (sum(log), len(log)-sum(log))\n",
        "    elif R and not L:\n",
        "        return (len(log)-sum(log), sum(log))\n",
        "    else:\n",
        "        raise ValueError(\"Your L's and R's are screwed up somehow.\")\n",
        "    \n",
        "\n",
        "\n",
        "# HOMOCHIRALITY SEQUENCES #\n",
        "\n",
        "def homochirality_sequence(self, log):\n",
        "  \"\"\" Return a boolean list of bonds within a given logged polymer, True if the bond is\n",
        "      homochiral. \"\"\"\n",
        "  return [i[0]==i[1] for i in list(more_itertools.pairwise(log))]\n",
        "\n",
        "def _is_L_True(self, log):\n",
        "    return log[:-1]\n",
        "\n",
        "\n",
        "def T_homochirality_sequence(self,h_seq,L_seq):\n",
        "    \"\"\" Return a boolean list of bonds within a polymer, true if the bond is \n",
        "    a homochiral bond between two True monomers. Parameters are the outputs of \n",
        "    homochirality_sequence() and _is_L_True(). \"\"\"\n",
        "    return eAnd(h_seq,L_seq)\n",
        "\n",
        "# HOMOCHIRAL BOND COUNTS #\n",
        "    \n",
        "\n",
        "def homochiral_bond_counts(self,log):\n",
        "    \"\"\" Return (number of left homochiral bonds, number of right homochiral bonds) \"\"\"\n",
        "    homo = self.homochirality_sequence(log)\n",
        "    west_true = log[:-1]\n",
        "    true_homochiral = eAnd(homo,west_true)\n",
        "    west_false = [not m for m in west_true]\n",
        "    false_homochiral = eAnd(homo,west_false)\n",
        "    if L and not R:\n",
        "        return (sum(true_homochiral), sum(false_homochiral))\n",
        "    elif R and not L: \n",
        "        return (sum(false_homochiral), sum(true_homochiral))\n",
        "    else:\n",
        "        raise ValueError(\"Your L's and R's are screwed up somehow.\")\n",
        "\n",
        "\n",
        "def get_polymer_chain_lengths(self,polylog):\n",
        "  \"\"\" Return the lengths of the homochiral chains in a given polymer log. \"\"\"\n",
        "  count = 1\n",
        "  lengths = [] \n",
        "  for n in range(1,len(polylog)):\n",
        "    if polylog[n] == polylog[n-1]:\n",
        "      count += 1\n",
        "    else:\n",
        "      lengths.append(count)\n",
        "      count = 1\n",
        "  lengths.append(count)\n",
        "  return lengths\n",
        "    \n",
        "\n",
        "def standard_form(self,poly):\n",
        "  if len(poly) == 0:\n",
        "    return ''\n",
        "  return ''.join(['L' if m else 'R' for m in poly])\n",
        "    \n",
        "\n",
        "\n",
        "\n",
        "## Old ones ##\n",
        "\n",
        "\n",
        "\n",
        "def hist_get_polymer_homochirality_of_bonds(self,polylog):\n",
        "  \"\"\" Return a boolean list of bonds within a given logged polymer, True if the bond is\n",
        "      homochiral. \"\"\"\n",
        "  return [i[0]==i[1] for i in list(more_itertools.pairwise(polylog))]\n",
        "\n",
        "def hist_get_polymer_ee(self,polylog):\n",
        "  \"\"\" Return the (signed) enantiomeric excess of a logged polymer. \"\"\"\n",
        "  length = len(polylog)\n",
        "  n_True = sum(polylog)\n",
        "  n_False = length - n_True\n",
        "  return (n_True - n_False) / length\n",
        "\n",
        "def hist_get_polymers(self,iteration):\n",
        "  \"\"\" Return a list of the polymer logs in an iteration. This is just the iteration\n",
        "  but without the monomers. \"\"\"\n",
        "  return [r for r in iteration if len(r) > 1]\n",
        "\n",
        "def hist_count_longest_homochiral_chain(self,polylog):\n",
        "  \"\"\" Return the length of the longest homochiral chain given the log of a polymer. \"\"\"\n",
        "  previous = None\n",
        "  count = 1\n",
        "  longest = 1\n",
        "  for monomer in polylog:\n",
        "    if monomer == previous:\n",
        "      count += 1\n",
        "    else:\n",
        "      longest = max(count, longest)\n",
        "      count = 1\n",
        "    previous = monomer\n",
        "  longest = max(count, longest)\n",
        "  return longest\n",
        "\n",
        "def hist_get_polymer_chain_lengths(self,polylog):\n",
        "  \"\"\" Return the lengths of the homochiral chains in a given polymer log. \"\"\"\n",
        "  count = 1\n",
        "  lengths = [] \n",
        "  for n in range(1,len(polylog)):\n",
        "    if polylog[n] == polylog[n-1]:\n",
        "      count += 1\n",
        "    else:\n",
        "      lengths.append(count)\n",
        "      count = 1\n",
        "  lengths.append(count)\n",
        "  return lengths\n",
        "\n",
        "def hist_get_iteration_chain_lengths(self,iteration):\n",
        "  \"\"\" Return the lengths of all the homochiral chains in polymers in a given iteration. \"\"\"\n",
        "  polymers = self.hist_get_polymers(iteration)\n",
        "  chain_lengths = []\n",
        "  for polymer in polymers:\n",
        "    chain_lengths.extend(self.hist_get_polymer_chain_lengths(polymer))\n",
        "  return chain_lengths\n",
        "\n",
        "def hist_get_bond_status(self,polylog):\n",
        "  \"\"\" Iterate through the monomers in polylog ONCE to get number of left homochiral\n",
        "  and right homochiral bonds, as well as chain lengths if at all possible. \"\"\"\n",
        "  for m in polylog:\n",
        "    pass\n"
      ],
      "execution_count": 42,
      "outputs": []
    },
    {
      "cell_type": "markdown",
      "metadata": {
        "id": "WdlB4JOXUq9i",
        "colab_type": "text"
      },
      "source": [
        "### Plotting methods"
      ]
    },
    {
      "cell_type": "code",
      "metadata": {
        "id": "czdjDAVBPpQI",
        "colab_type": "code",
        "colab": {}
      },
      "source": [
        "%%add_to Reactables\n",
        "\n",
        "def visualize_parameters(self,stamp=\"\"):\n",
        "  fig,ax = plt.subplots()\n",
        "\n",
        "  parameters = ['POOF_CHANCE','BOND_PROB','BASE_BOND_BREAK_PROBABILITY',\n",
        "                'HOMOCHIRAL_BREAK_FACTOR','HOMOCHIRAL_NEIGHBOR_IMPROV_FACTOR',\n",
        "                'LENGTH_FACTOR','HOMOCHIRAL_BREAK_FACTOR_LEFT',\n",
        "                'HOMOCHIRAL_BREAK_FACTOR_RIGHT',\n",
        "                'HOMOCHIRAL_NEIGHBOR_IMPROV_FACTOR_LEFT',\n",
        "                'HOMOCHIRAL_NEIGHBOR_IMPROV_FACTOR_RIGHT']\n",
        "  values = [POOF_CHANCE,BOND_PROB,BASE_BOND_BREAK_PROBABILITY,\n",
        "            HOMOCHIRAL_BREAK_FACTOR,HOMOCHIRAL_NEIGHBOR_IMPROV_FACTOR,\n",
        "            LENGTH_FACTOR,HOMOCHIRAL_BREAK_FACTOR_LEFT,\n",
        "            HOMOCHIRAL_BREAK_FACTOR_RIGHT,\n",
        "            HOMOCHIRAL_NEIGHBOR_IMPROV_FACTOR_LEFT,\n",
        "            HOMOCHIRAL_NEIGHBOR_IMPROV_FACTOR_RIGHT]\n",
        "\n",
        "  ypos = np.arange(len(parameters))\n",
        "\n",
        "  ax.barh(ypos, values, align='center')\n",
        "  ax.set_yticks(ypos)\n",
        "  ax.set_yticklabels(parameters)\n",
        "  ax.invert_yaxis()  # labels read top-to-bottom\n",
        "  ax.set_xlabel('Value')\n",
        "  ax.set_title(f\"{stamp}Parameter values\")\n",
        "\n",
        "\n",
        "\n",
        "def plot_signed_ee_spread(self,cmap='bone',stamp=\"\"):\n",
        "  #First make the polymerspread thingy\n",
        "  poly_ee_hist = []\n",
        "  for iteration in self.get_history():\n",
        "    polys = [log for log in iteration if not isinstance(log,bool)]\n",
        "    polydata = [log for log in polys if len(log) > 1] # All the polymers (not monomers) in the iteration\n",
        "    poly_ees = [self.hist_get_polymer_ee(poly) for poly in polydata] # the EE of each polymer in the iteration\n",
        "    poly_ee_hist.append(poly_ees) # Put the EE list in our plottable structure\n",
        "  #Now we can make the plot\n",
        "  fig,ax = plt.subplots()\n",
        "  ys = []\n",
        "  xs = []\n",
        "  for n in range(len(poly_ee_hist)):\n",
        "    y = poly_ee_hist[n]\n",
        "    x = [n] * len(y)\n",
        "    ys.extend(y)\n",
        "    xs.extend(x)\n",
        "  ax.hexbin(xs,ys,cmap=cmap)\n",
        "  ax.set_title(f\"{stamp}polymer spread\")\n",
        "  ax.set_xlabel(\"iteraions\")\n",
        "  ax.set_ylabel(\"ee\")\n",
        "\n",
        "def plot_ee_heatmap(self,cmap='bone',stamp=\"\"):\n",
        "  #Need to figure out how to get ees_by_length from history\n",
        "  ees_by_length = []\n",
        "  for iteration in self.get_history():\n",
        "    ee_data = []\n",
        "    #get the polymers\n",
        "    polys = [log for log in iteration if not isinstance(log,bool)]\n",
        "    #get the length of the longest polymer\n",
        "    lengths = [len(log) for log in polys]\n",
        "    try:\n",
        "      biggest = max(lengths)\n",
        "    except:\n",
        "      biggest = 0\n",
        "    for n in range(1,biggest+1):\n",
        "      ees = [abs(self.hist_get_polymer_ee(log)) for log in polys if len(log) == n]\n",
        "      if len(ees) > 0:\n",
        "        ee_data.append(np.mean(ees))\n",
        "      else:\n",
        "        ee_data.append(0)\n",
        "    ees_by_length.append(ee_data)\n",
        "  #Need to make a new ee array with rectangular dimensions\n",
        "  ee = numpy_fillna(ees_by_length)\n",
        "  fig,ax = plt.subplots(dpi=150)\n",
        "  im = ax.imshow(ee,cmap=cmap)\n",
        "  ax.set_title(f\"{stamp}ee of polymers by length through iterations\")\n",
        "  ax.set_xlabel(\"polymer lengths\")\n",
        "  ax.set_ylabel(\"iterations\")\n",
        "  fig.tight_layout()\n",
        "  plt.show()\n",
        "\n",
        "def plot_leftrighthomochirality(self):\n",
        "  plt.figure()\n",
        "  l=np.zeros((ITERATIONS+1))\n",
        "  r=np.zeros((ITERATIONS+1))\n",
        "  x= np.arange(ITERATIONS+1)\n",
        "  i=1\n",
        "  for iteration in self.get_leftrighthistory():\n",
        "    l[i] = iteration[0]\n",
        "    r[i] = iteration[1]\n",
        "    i+= 1\n",
        "  plt.plot(x,l,label=\"left homochiral\")\n",
        "  plt.plot(x,r,label=\"right homochiral\")\n",
        "  plt.ylabel(\"Number of bonds\")\n",
        "  plt.xlabel(\"Iterations\")\n",
        "  plt.title(\"Left right homochiral bonds when LEFT=\"+str(HOMOCHIRAL_BREAK_FACTOR_LEFT) +  \"and right=\" + str(HOMOCHIRAL_BREAK_FACTOR_RIGHT))\n",
        "  plt.legend()\n",
        "  plt.show()\n",
        "\n",
        "def plot_homochiral_chain_lengths(self):\n",
        "  \"\"\" Plot a chart of the mean length of homochiral chains present at each iteration.\n",
        "  The plot generated will attempt to summarize the mean lengths of homochiral\n",
        "  chains within polymers across iterations. It will also attempt to visualize the \n",
        "  varience with continuous lines plotting the standard deviation around that mean.\n",
        "  \n",
        "  The x axis of the resulting plot is iterations, and the y axis is length of \n",
        "  the homochiral chains. Both of these are discrete categories, but the plot will\n",
        "  treat iterations as continuous to improve readability for large n.\n",
        "  \"\"\"\n",
        "  # Get the history and read it \n",
        "  history = self.get_history()\n",
        "  means = []\n",
        "  stdevs= []\n",
        "  maxes = []\n",
        "  for iteration in history:\n",
        "    # Get the chain lengths in that iteration\n",
        "    iter_data = self.hist_get_iteration_chain_lengths(iteration)\n",
        "    means.append(np.mean(iter_data))\n",
        "    stdevs.append(np.std(iter_data))\n",
        "    maxes.append(max(iter_data))\n",
        "  # Plot those data\n",
        "  fig,ax = plt.subplots()\n",
        "  ax.fill_between(np.arange(0,len(means)), [m + s for m, s in zip(means, stdevs)],[m - s for m, s in zip(means, stdevs)], alpha=0.2, label = \"Means +- one standard deviation\")\n",
        "  ax.plot(means, 'k-', label = \"Mean homochiral chain length\")\n",
        "  ax.plot(maxes, 'b.', label = \"Max homochiral chain length\")\n",
        "  ax.set_xlabel(\"Iteration\")\n",
        "  ax.set_ylabel(\"Homochiral chain length\")\n",
        "  ax.legend()\n",
        "\n",
        "def plot_homochirality_vs_length(self):\n",
        "  \"\"\" Take all the polymers that ever existed in history and plot them on a\n",
        "  scatter plot of length vs homochirality. Homochirality is the percent of their\n",
        "  bonds that are homochiral. \"\"\"\n",
        "  #Get the history\n",
        "  history = self.get_history()\n",
        "  #Get the polymers\n",
        "  x = []\n",
        "  y = []\n",
        "  for i in history:\n",
        "    for p in self.hist_get_polymers(i):\n",
        "      homochirality = sum(self.hist_get_polymer_homochirality_of_bonds(p))/len(p)\n",
        "      x.append(len(p))\n",
        "      y.append(homochirality)\n",
        "  fig,ax = plt.subplots()\n",
        "  ax.scatter(x,y)\n",
        "  ax.set_xlabel(\"Polymer lengths\")\n",
        "  ax.set_ylabel(\"Homochirality\")\n",
        "        \n",
        "\n",
        "\n",
        "    \n",
        "\n",
        "\n",
        "  \n"
      ],
      "execution_count": 43,
      "outputs": []
    },
    {
      "cell_type": "markdown",
      "metadata": {
        "id": "DdqK65C-8cpi",
        "colab_type": "text"
      },
      "source": [
        "## Test program"
      ]
    },
    {
      "cell_type": "code",
      "metadata": {
        "id": "MelavdvZ8ptf",
        "colab_type": "code",
        "colab": {
          "base_uri": "https://localhost:8080/",
          "height": 1000
        },
        "outputId": "563740d6-dd11-44da-f5e4-3c91111d2720"
      },
      "source": [
        "POOL_SIZE = 1000\n",
        "ITERATIONS = 10\n",
        "\n",
        "\n",
        "a = Reactables(make_pool(POOL_SIZE))\n",
        "\n",
        "print(\"Running.............|\\n\", end=\"\")\n",
        "\n",
        "monomercounts = []\n",
        "\n",
        "for n in range(ITERATIONS):\n",
        "  a.iterate(POOL_SIZE)\n",
        "  monomercounts.append(len(a.get_free_monomers())+len(a.get_bound_monomers()))\n",
        "  if n % (ITERATIONS / 10) == 0:\n",
        "    print(\"##\",end=\"\")\n",
        "\n",
        "print(\"\\nDone.\")\n",
        "\n",
        "a.parse_history()\n",
        "\n",
        "stats = a.get_stats()\n",
        "\n",
        "plots = [\"parameters\",\"polymer ee spread\",\"polyspread plotly\",\"ee heatmap\",\"leftright chirality\",\n",
        "         \"homochiral chain lengths\", \"homochirality vs length\"]\n",
        "tb = widgets.TabBar(plots)\n",
        "\n",
        "with tb.output_to(\"parameters\"):\n",
        "  a.visualize_parameters()\n",
        "\n",
        "with tb.output_to(\"polymer ee spread\"):\n",
        "  a.plot_signed_ee_spread()\n",
        "\n",
        "with tb.output_to(\"polyspread plotly\"):\n",
        "  df = stats\n",
        "  fig = px.scatter(df, x=\"Iteration\", y=\"Signed ee\", hover_data=[\"Sequence\"])\n",
        "  fig.show()\n",
        "\n",
        "with tb.output_to(\"ee heatmap\"):\n",
        "  a.plot_ee_heatmap()\n",
        "\n",
        "with tb.output_to(\"leftright chirality\"):\n",
        "  a.plot_leftrighthomochirality()\n",
        "\n",
        "with tb.output_to(\"homochiral chain lengths\"):\n",
        "  a.plot_homochiral_chain_lengths()\n",
        "\n",
        "with tb.output_to(\"homochirality vs length\"):\n",
        "  a.plot_homochirality_vs_length()\n",
        "\n",
        "\n"
      ],
      "execution_count": 49,
      "outputs": [
        {
          "output_type": "stream",
          "text": [
            "Running.............|\n",
            "####################\n",
            "Done.\n"
          ],
          "name": "stdout"
        },
        {
          "output_type": "display_data",
          "data": {
            "text/html": [
              "<link rel=stylesheet type=text/css href='/nbextensions/google.colab/tabbar.css'></link>"
            ],
            "text/plain": [
              "<IPython.core.display.HTML object>"
            ]
          },
          "metadata": {
            "tags": [
              "outputarea_id8"
            ]
          }
        },
        {
          "output_type": "display_data",
          "data": {
            "text/html": [
              "<script src='/nbextensions/google.colab/tabbar_main.min.js'></script>"
            ],
            "text/plain": [
              "<IPython.core.display.HTML object>"
            ]
          },
          "metadata": {
            "tags": [
              "outputarea_id8"
            ]
          }
        },
        {
          "output_type": "display_data",
          "data": {
            "text/html": [
              "<div id=\"id8\"></div>"
            ],
            "text/plain": [
              "<IPython.core.display.HTML object>"
            ]
          },
          "metadata": {
            "tags": [
              "outputarea_id8"
            ]
          }
        },
        {
          "output_type": "display_data",
          "data": {
            "application/javascript": [
              "window[\"74e877a0-ba43-11ea-b542-0242ac1c0002\"] = colab_lib.createTabBar({\"location\": \"top\", \"elementId\": \"id8\", \"tabNames\": [\"parameters\", \"polymer ee spread\", \"polyspread plotly\", \"ee heatmap\", \"leftright chirality\", \"homochiral chain lengths\", \"homochirality vs length\"], \"initialSelection\": 0, \"contentBorder\": [\"0px\"], \"contentHeight\": [\"initial\"], \"borderColor\": [\"#a7a7a7\"]});\n",
              "//# sourceURL=js_e2e8692a6b"
            ],
            "text/plain": [
              "<IPython.core.display.Javascript object>"
            ]
          },
          "metadata": {
            "tags": [
              "outputarea_id8"
            ]
          }
        },
        {
          "output_type": "display_data",
          "data": {
            "application/javascript": [
              "window[\"74e8c7be-ba43-11ea-b542-0242ac1c0002\"] = window[\"id8\"].setSelectedTabIndex(0);\n",
              "//# sourceURL=js_4e665f7b37"
            ],
            "text/plain": [
              "<IPython.core.display.Javascript object>"
            ]
          },
          "metadata": {
            "tags": [
              "outputarea_id8"
            ]
          }
        },
        {
          "output_type": "display_data",
          "data": {
            "application/javascript": [
              "window[\"74ea4fa8-ba43-11ea-b542-0242ac1c0002\"] = google.colab.output.getActiveOutputArea();\n",
              "//# sourceURL=js_06bb251d95"
            ],
            "text/plain": [
              "<IPython.core.display.Javascript object>"
            ]
          },
          "metadata": {
            "tags": [
              "id8_content_0",
              "outputarea_id8"
            ]
          }
        },
        {
          "output_type": "display_data",
          "data": {
            "application/javascript": [
              "window[\"74eab33a-ba43-11ea-b542-0242ac1c0002\"] = document.querySelector(\"#id8_content_0\");\n",
              "//# sourceURL=js_8a755443bf"
            ],
            "text/plain": [
              "<IPython.core.display.Javascript object>"
            ]
          },
          "metadata": {
            "tags": [
              "id8_content_0",
              "outputarea_id8"
            ]
          }
        },
        {
          "output_type": "display_data",
          "data": {
            "application/javascript": [
              "window[\"74eaf61a-ba43-11ea-b542-0242ac1c0002\"] = google.colab.output.setActiveOutputArea(window[\"74eab33a-ba43-11ea-b542-0242ac1c0002\"]);\n",
              "//# sourceURL=js_113ca362ce"
            ],
            "text/plain": [
              "<IPython.core.display.Javascript object>"
            ]
          },
          "metadata": {
            "tags": [
              "id8_content_0",
              "outputarea_id8"
            ]
          }
        },
        {
          "output_type": "display_data",
          "data": {
            "application/javascript": [
              "window[\"74eb2e28-ba43-11ea-b542-0242ac1c0002\"] = window[\"id8\"].setSelectedTabIndex(0);\n",
              "//# sourceURL=js_3c7ffd2949"
            ],
            "text/plain": [
              "<IPython.core.display.Javascript object>"
            ]
          },
          "metadata": {
            "tags": [
              "id8_content_0",
              "outputarea_id8"
            ]
          }
        },
        {
          "output_type": "display_data",
          "data": {
            "image/png": "[encoded data removed]",
            "text/plain": [
              "<Figure size 432x288 with 1 Axes>"
            ]
          },
          "metadata": {
            "tags": [
              "id8_content_0",
              "outputarea_id8",
              "user_output"
            ],
            "needs_background": "light"
          }
        },
        {
          "output_type": "display_data",
          "data": {
            "application/javascript": [
              "window[\"7504d4d6-ba43-11ea-b542-0242ac1c0002\"] = google.colab.output.setActiveOutputArea(window[\"74ea4fa8-ba43-11ea-b542-0242ac1c0002\"]);\n",
              "//# sourceURL=js_edff7694a8"
            ],
            "text/plain": [
              "<IPython.core.display.Javascript object>"
            ]
          },
          "metadata": {
            "tags": [
              "id8_content_0",
              "outputarea_id8"
            ]
          }
        },
        {
          "output_type": "display_data",
          "data": {
            "application/javascript": [
              "window[\"75067b1a-ba43-11ea-b542-0242ac1c0002\"] = google.colab.output.getActiveOutputArea();\n",
              "//# sourceURL=js_bb9d8e1b53"
            ],
            "text/plain": [
              "<IPython.core.display.Javascript object>"
            ]
          },
          "metadata": {
            "tags": [
              "id8_content_1",
              "outputarea_id8"
            ]
          }
        },
        {
          "output_type": "display_data",
          "data": {
            "application/javascript": [
              "window[\"7506c26e-ba43-11ea-b542-0242ac1c0002\"] = document.querySelector(\"#id8_content_1\");\n",
              "//# sourceURL=js_a11d6f145c"
            ],
            "text/plain": [
              "<IPython.core.display.Javascript object>"
            ]
          },
          "metadata": {
            "tags": [
              "id8_content_1",
              "outputarea_id8"
            ]
          }
        },
        {
          "output_type": "display_data",
          "data": {
            "application/javascript": [
              "window[\"75070a44-ba43-11ea-b542-0242ac1c0002\"] = google.colab.output.setActiveOutputArea(window[\"7506c26e-ba43-11ea-b542-0242ac1c0002\"]);\n",
              "//# sourceURL=js_eaa61434d9"
            ],
            "text/plain": [
              "<IPython.core.display.Javascript object>"
            ]
          },
          "metadata": {
            "tags": [
              "id8_content_1",
              "outputarea_id8"
            ]
          }
        },
        {
          "output_type": "display_data",
          "data": {
            "application/javascript": [
              "window[\"75074b08-ba43-11ea-b542-0242ac1c0002\"] = window[\"id8\"].setSelectedTabIndex(1);\n",
              "//# sourceURL=js_0f36d132c5"
            ],
            "text/plain": [
              "<IPython.core.display.Javascript object>"
            ]
          },
          "metadata": {
            "tags": [
              "id8_content_1",
              "outputarea_id8"
            ]
          }
        },
        {
          "output_type": "display_data",
          "data": {
            "image/png": "[encoded data removed]",
            "text/plain": [
              "<Figure size 432x288 with 1 Axes>"
            ]
          },
          "metadata": {
            "tags": [
              "id8_content_1",
              "outputarea_id8",
              "user_output"
            ],
            "needs_background": "light"
          }
        },
        {
          "output_type": "display_data",
          "data": {
            "application/javascript": [
              "window[\"7529d9b6-ba43-11ea-b542-0242ac1c0002\"] = google.colab.output.setActiveOutputArea(window[\"75067b1a-ba43-11ea-b542-0242ac1c0002\"]);\n",
              "//# sourceURL=js_980e61f82c"
            ],
            "text/plain": [
              "<IPython.core.display.Javascript object>"
            ]
          },
          "metadata": {
            "tags": [
              "id8_content_1",
              "outputarea_id8"
            ]
          }
        },
        {
          "output_type": "display_data",
          "data": {
            "application/javascript": [
              "window[\"752af710-ba43-11ea-b542-0242ac1c0002\"] = google.colab.output.getActiveOutputArea();\n",
              "//# sourceURL=js_51fb0137aa"
            ],
            "text/plain": [
              "<IPython.core.display.Javascript object>"
            ]
          },
          "metadata": {
            "tags": [
              "id8_content_2",
              "outputarea_id8"
            ]
          }
        },
        {
          "output_type": "display_data",
          "data": {
            "application/javascript": [
              "window[\"752b2da2-ba43-11ea-b542-0242ac1c0002\"] = document.querySelector(\"#id8_content_2\");\n",
              "//# sourceURL=js_8b8e9eda8e"
            ],
            "text/plain": [
              "<IPython.core.display.Javascript object>"
            ]
          },
          "metadata": {
            "tags": [
              "id8_content_2",
              "outputarea_id8"
            ]
          }
        },
        {
          "output_type": "display_data",
          "data": {
            "application/javascript": [
              "window[\"752b60e2-ba43-11ea-b542-0242ac1c0002\"] = google.colab.output.setActiveOutputArea(window[\"752b2da2-ba43-11ea-b542-0242ac1c0002\"]);\n",
              "//# sourceURL=js_02405d96a8"
            ],
            "text/plain": [
              "<IPython.core.display.Javascript object>"
            ]
          },
          "metadata": {
            "tags": [
              "id8_content_2",
              "outputarea_id8"
            ]
          }
        },
        {
          "output_type": "display_data",
          "data": {
            "application/javascript": [
              "window[\"752b9878-ba43-11ea-b542-0242ac1c0002\"] = window[\"id8\"].setSelectedTabIndex(2);\n",
              "//# sourceURL=js_9e99fd8556"
            ],
            "text/plain": [
              "<IPython.core.display.Javascript object>"
            ]
          },
          "metadata": {
            "tags": [
              "id8_content_2",
              "outputarea_id8"
            ]
          }
        },
        {
          "output_type": "display_data",
          "data": {
            "text/html": [
              "<html>\n",
              "<head><meta charset=\"utf-8\" /></head>\n",
              "<body>\n",
              "    <div>\n",
              "            <script src=\"https://cdnjs.cloudflare.com/ajax/libs/mathjax/2.7.5/MathJax.js?config=TeX-AMS-MML_SVG\"></script><script type=\"text/javascript\">if (window.MathJax) {MathJax.Hub.Config({SVG: {font: \"STIX-Web\"}});}</script>\n",
              "                <script type=\"text/javascript\">window.PlotlyConfig = {MathJaxConfig: 'local'};</script>\n",
              "        <script src=\"https://cdn.plot.ly/plotly-latest.min.js\"></script>    \n",
              "            <div id=\"9a764a15-83fa-4434-9429-493c7ec78da9\" class=\"plotly-graph-div\" style=\"height:525px; width:100%;\"></div>\n",
              "            <script type=\"text/javascript\">\n",
              "                \n",
              "                    window.PLOTLYENV=window.PLOTLYENV || {};\n",
              "                    \n",
              "                if (document.getElementById(\"9a764a15-83fa-4434-9429-493c7ec78da9\")) {\n",
              "                    Plotly.newPlot(\n",
              "                        '9a764a15-83fa-4434-9429-493c7ec78da9',\n",
              "                        [{\"customdata\": [[\"R\"], [\"L\"], [\"L\"], [\"L\"], [\"L\"], [\"L\"], [\"R\"], [\"L\"], [\"L\"], [\"L\"], [\"R\"], [\"R\"], [\"L\"], [\"L\"], [\"L\"], [\"R\"], [\"R\"], [\"L\"], [\"R\"], [\"R\"], [\"R\"], [\"R\"], [\"R\"], [\"R\"], [\"L\"], [\"L\"], [\"R\"], [\"R\"], [\"L\"], [\"R\"], [\"L\"], [\"R\"], [\"L\"], [\"R\"], [\"L\"], [\"L\"], [\"R\"], [\"R\"], [\"R\"], [\"R\"], [\"L\"], [\"R\"], [\"L\"], [\"R\"], [\"R\"], [\"L\"], [\"R\"], [\"R\"], [\"R\"], [\"L\"], [\"R\"], [\"L\"], [\"R\"], [\"L\"], [\"R\"], [\"L\"], [\"R\"], [\"L\"], [\"L\"], [\"L\"], [\"L\"], [\"R\"], [\"L\"], [\"R\"], [\"L\"], [\"L\"], [\"L\"], [\"L\"], [\"R\"], [\"L\"], [\"L\"], [\"L\"], [\"L\"], [\"L\"], [\"R\"], [\"R\"], [\"L\"], [\"R\"], [\"R\"], [\"R\"], [\"R\"], [\"L\"], [\"R\"], [\"R\"], [\"L\"], [\"L\"], [\"R\"], [\"L\"], [\"L\"], [\"R\"], [\"R\"], [\"L\"], [\"R\"], [\"R\"], [\"L\"], [\"L\"], [\"L\"], [\"R\"], [\"L\"], [\"L\"], [\"R\"], [\"L\"], [\"L\"], [\"R\"], [\"L\"], [\"L\"], [\"L\"], [\"L\"], [\"R\"], [\"R\"], [\"L\"], [\"L\"], [\"L\"], [\"R\"], [\"L\"], [\"L\"], [\"L\"], [\"L\"], [\"R\"], [\"R\"], [\"R\"], [\"R\"], [\"L\"], [\"R\"], [\"R\"], [\"R\"], [\"R\"], [\"R\"], [\"L\"], [\"R\"], [\"L\"], [\"L\"], [\"R\"], [\"L\"], [\"R\"], [\"R\"], [\"L\"], [\"L\"], [\"R\"], [\"R\"], [\"R\"], [\"L\"], [\"L\"], [\"L\"], [\"L\"], [\"L\"], [\"L\"], [\"L\"], [\"R\"], [\"R\"], [\"L\"], [\"R\"], [\"R\"], [\"L\"], [\"R\"], [\"L\"], [\"L\"], [\"R\"], [\"R\"], [\"R\"], [\"R\"], [\"L\"], [\"R\"], [\"R\"], [\"R\"], [\"L\"], [\"R\"], [\"R\"], [\"R\"], [\"L\"], [\"R\"], [\"R\"], [\"L\"], [\"L\"], [\"R\"], [\"L\"], [\"L\"], [\"L\"], [\"L\"], [\"R\"], [\"L\"], [\"R\"], [\"L\"], [\"L\"], [\"L\"], [\"R\"], [\"R\"], [\"R\"], [\"L\"], [\"L\"], [\"L\"], [\"L\"], [\"R\"], [\"R\"], [\"R\"], [\"R\"], [\"R\"], [\"R\"], [\"L\"], [\"R\"], [\"R\"], [\"R\"], [\"L\"], [\"R\"], [\"R\"], [\"R\"], [\"L\"], [\"R\"], [\"L\"], [\"L\"], [\"R\"], [\"R\"], [\"R\"], [\"R\"], [\"R\"], [\"L\"], [\"L\"], [\"L\"], [\"R\"], [\"L\"], [\"L\"], [\"R\"], [\"R\"], [\"R\"], [\"L\"], [\"L\"], [\"L\"], [\"R\"], [\"L\"], [\"R\"], [\"R\"], [\"R\"], [\"R\"], [\"R\"], [\"L\"], [\"R\"], [\"L\"], [\"L\"], [\"R\"], [\"R\"], [\"R\"], [\"L\"], [\"L\"], [\"R\"], [\"R\"], [\"R\"], [\"R\"], [\"L\"], [\"L\"], [\"R\"], [\"R\"], [\"R\"], [\"L\"], [\"R\"], [\"R\"], [\"R\"], [\"L\"], [\"L\"], [\"L\"], [\"R\"], [\"R\"], [\"L\"], [\"R\"], [\"R\"], [\"R\"], [\"R\"], [\"L\"], [\"L\"], [\"R\"], [\"L\"], [\"L\"], [\"R\"], [\"R\"], [\"R\"], [\"R\"], [\"R\"], [\"L\"], [\"R\"], [\"R\"], [\"L\"], [\"L\"], [\"R\"], [\"L\"], [\"R\"], [\"L\"], [\"R\"], [\"L\"], [\"L\"], [\"R\"], [\"L\"], [\"L\"], [\"L\"], [\"L\"], [\"L\"], [\"L\"], [\"L\"], [\"L\"], [\"L\"], [\"R\"], [\"R\"], [\"L\"], [\"L\"], [\"L\"], [\"R\"], [\"R\"], [\"L\"], [\"R\"], [\"R\"], [\"R\"], [\"L\"], [\"L\"], [\"R\"], [\"L\"], [\"L\"], [\"R\"], [\"R\"], [\"R\"], [\"R\"], [\"R\"], [\"R\"], [\"R\"], [\"L\"], [\"R\"], [\"R\"], [\"L\"], [\"R\"], [\"L\"], [\"L\"], [\"L\"], [\"R\"], [\"L\"], [\"R\"], [\"R\"], [\"L\"], [\"R\"], [\"L\"], [\"R\"], [\"L\"], [\"L\"], [\"L\"], [\"L\"], [\"R\"], [\"L\"], [\"L\"], [\"L\"], [\"R\"], [\"L\"], [\"L\"], [\"R\"], [\"R\"], [\"R\"], [\"R\"], [\"L\"], [\"L\"], [\"R\"], [\"L\"], [\"L\"], [\"L\"], [\"L\"], [\"L\"], [\"R\"], [\"L\"], [\"R\"], [\"R\"], [\"R\"], [\"R\"], [\"L\"], [\"R\"], [\"L\"], [\"R\"], [\"R\"], [\"L\"], [\"L\"], [\"L\"], [\"R\"], [\"L\"], [\"L\"], [\"L\"], [\"L\"], [\"L\"], [\"R\"], [\"R\"], [\"L\"], [\"L\"], [\"L\"], [\"R\"], [\"L\"], [\"L\"], [\"R\"], [\"R\"], [\"R\"], [\"R\"], [\"L\"], [\"L\"], [\"L\"], [\"L\"], [\"L\"], [\"R\"], [\"R\"], [\"R\"], [\"R\"], [\"L\"], [\"L\"], [\"L\"], [\"L\"], [\"R\"], [\"L\"], [\"R\"], [\"L\"], [\"L\"], [\"R\"], [\"L\"], [\"R\"], [\"L\"], [\"L\"], [\"L\"], [\"L\"], [\"R\"], [\"L\"], [\"R\"], [\"R\"], [\"R\"], [\"R\"], [\"L\"], [\"L\"], [\"L\"], [\"L\"], [\"R\"], [\"R\"], [\"L\"], [\"L\"], [\"L\"], [\"L\"], [\"L\"], [\"R\"], [\"R\"], [\"L\"], [\"L\"], [\"R\"], [\"R\"], [\"R\"], [\"R\"], [\"L\"], [\"R\"], [\"L\"], [\"L\"], [\"L\"], [\"R\"], [\"R\"], [\"L\"], [\"R\"], [\"R\"], [\"L\"], [\"R\"], [\"L\"], [\"R\"], [\"R\"], [\"L\"], [\"L\"], [\"L\"], [\"R\"], [\"R\"], [\"L\"], [\"R\"], [\"R\"], [\"R\"], [\"R\"], [\"L\"], [\"L\"], [\"L\"], [\"L\"], [\"L\"], [\"R\"], [\"L\"], [\"R\"], [\"L\"], [\"R\"], [\"L\"], [\"R\"], [\"L\"], [\"L\"], [\"L\"], [\"L\"], [\"R\"], [\"R\"], [\"R\"], [\"L\"], [\"L\"], [\"L\"], [\"L\"], [\"L\"], [\"L\"], [\"R\"], [\"L\"], [\"R\"], [\"R\"], [\"R\"], [\"L\"], [\"R\"], [\"R\"], [\"L\"], [\"L\"], [\"R\"], [\"L\"], [\"R\"], [\"L\"], [\"R\"], [\"L\"], [\"R\"], [\"R\"], [\"L\"], [\"R\"], [\"R\"], [\"R\"], [\"R\"], [\"R\"], [\"L\"], [\"R\"], [\"L\"], [\"R\"], [\"L\"], [\"L\"], [\"L\"], [\"L\"], [\"L\"], [\"R\"], [\"R\"], [\"L\"], [\"L\"], [\"R\"], [\"R\"], [\"R\"], [\"L\"], [\"R\"], [\"L\"], [\"R\"], [\"L\"], [\"R\"], [\"L\"], [\"R\"], [\"R\"], [\"R\"], [\"R\"], [\"L\"], [\"L\"], [\"L\"], [\"L\"], [\"R\"], [\"R\"], [\"R\"], [\"R\"], [\"R\"], [\"L\"], [\"L\"], [\"L\"], [\"L\"], [\"L\"], [\"R\"], [\"R\"], [\"L\"], [\"R\"], [\"R\"], [\"L\"], [\"L\"], [\"L\"], [\"R\"], [\"R\"], [\"L\"], [\"R\"], [\"L\"], [\"L\"], [\"L\"], [\"R\"], [\"R\"], [\"R\"], [\"L\"], [\"R\"], [\"L\"], [\"R\"], [\"L\"], [\"L\"], [\"R\"], [\"R\"], [\"R\"], [\"R\"], [\"L\"], [\"R\"], [\"R\"], [\"L\"], [\"R\"], [\"R\"], [\"L\"], [\"L\"], [\"L\"], [\"R\"], [\"R\"], [\"L\"], [\"L\"], [\"R\"], [\"L\"], [\"L\"], [\"R\"], [\"R\"], [\"L\"], [\"L\"], [\"R\"], [\"L\"], [\"L\"], [\"L\"], [\"R\"], [\"R\"], [\"R\"], [\"L\"], [\"L\"], [\"L\"], [\"R\"], [\"R\"], [\"R\"], [\"L\"], [\"L\"], [\"L\"], [\"L\"], [\"L\"], [\"R\"], [\"R\"], [\"L\"], [\"R\"], [\"R\"], [\"L\"], [\"L\"], [\"R\"], [\"R\"], [\"R\"], [\"L\"], [\"L\"], [\"L\"], [\"L\"], [\"L\"], [\"L\"], [\"R\"], [\"R\"], [\"R\"], [\"L\"], [\"L\"], [\"L\"], [\"R\"], [\"R\"], [\"R\"], [\"R\"], [\"L\"], [\"L\"], [\"R\"], [\"L\"], [\"R\"], [\"L\"], [\"R\"], [\"R\"], [\"R\"], [\"L\"], [\"R\"], [\"R\"], [\"R\"], [\"L\"], [\"R\"], [\"R\"], [\"L\"], [\"R\"], [\"R\"], [\"L\"], [\"L\"], [\"R\"], [\"R\"], [\"RL\"], [\"RR\"], [\"LL\"], [\"LR\"], [\"LL\"], [\"LL\"], [\"RR\"], [\"LR\"], [\"RL\"], [\"RL\"], [\"LR\"], [\"LR\"], [\"LL\"], [\"RL\"], [\"RR\"], [\"LL\"], [\"LR\"], [\"RL\"], [\"LL\"], [\"LL\"], [\"LL\"], [\"LR\"], [\"RR\"], [\"RR\"], [\"RL\"], [\"RR\"], [\"RL\"], [\"LR\"], [\"RL\"], [\"RL\"], [\"LL\"], [\"RL\"], [\"LL\"], [\"RL\"], [\"LL\"], [\"RR\"], [\"LR\"], [\"RR\"], [\"LR\"], [\"LL\"], [\"LR\"], [\"LR\"], [\"LL\"], [\"RR\"], [\"LL\"], [\"RL\"], [\"RR\"], [\"RL\"], [\"LL\"], [\"LL\"], [\"LL\"], [\"RL\"], [\"LR\"], [\"RR\"], [\"RL\"], [\"LL\"], [\"LL\"], [\"RL\"], [\"RL\"], [\"LL\"], [\"LR\"], [\"LR\"], [\"RR\"], [\"LL\"], [\"RL\"], [\"RL\"], [\"RL\"], [\"RL\"], [\"RR\"], [\"LL\"], [\"RL\"], [\"LR\"], [\"RL\"], [\"LL\"], [\"LL\"], [\"LL\"], [\"RL\"], [\"RL\"], [\"RL\"], [\"LR\"], [\"RL\"], [\"LR\"], [\"LL\"], [\"LR\"], [\"LR\"], [\"RL\"], [\"RR\"], [\"LR\"], [\"LR\"], [\"RL\"], [\"LL\"], [\"LL\"], [\"LR\"], [\"LL\"], [\"LR\"], [\"LL\"], [\"RL\"], [\"LL\"], [\"RR\"], [\"LR\"], [\"LR\"], [\"LL\"], [\"RL\"], [\"RL\"], [\"LR\"], [\"LR\"], [\"RR\"], [\"RL\"], [\"LL\"], [\"LL\"], [\"LL\"], [\"RL\"], [\"LL\"], [\"RL\"], [\"RR\"], [\"LL\"], [\"RL\"], [\"RR\"], [\"LR\"], [\"RL\"], [\"LL\"], [\"LL\"], [\"LL\"], [\"RL\"], [\"RL\"], [\"LL\"], [\"RR\"], [\"RL\"], [\"LL\"], [\"LL\"], [\"RR\"], [\"RR\"], [\"RR\"], [\"LL\"], [\"LR\"], [\"RR\"], [\"RR\"], [\"RR\"], [\"RL\"], [\"LR\"], [\"RR\"], [\"RR\"], [\"LL\"], [\"LR\"], [\"LR\"], [\"LL\"], [\"RL\"], [\"LL\"], [\"RR\"], [\"LL\"], [\"LL\"], [\"LR\"], [\"RR\"], [\"LL\"], [\"RL\"], [\"RL\"], [\"LR\"], [\"RL\"], [\"LL\"], [\"RR\"], [\"RL\"], [\"RL\"], [\"RR\"], [\"LR\"], [\"L\"], [\"LL\"], [\"L\"], [\"LL\"], [\"R\"], [\"L\"], [\"L\"], [\"R\"], [\"L\"], [\"R\"], [\"R\"], [\"R\"], [\"R\"], [\"LL\"], [\"R\"], [\"L\"], [\"L\"], [\"R\"], [\"L\"], [\"R\"], [\"R\"], [\"L\"], [\"L\"], [\"RL\"], [\"L\"], [\"R\"], [\"L\"], [\"L\"], [\"L\"], [\"R\"], [\"L\"], [\"LRL\"], [\"R\"], [\"L\"], [\"R\"], [\"L\"], [\"L\"], [\"R\"], [\"R\"], [\"R\"], [\"R\"], [\"L\"], [\"R\"], [\"R\"], [\"L\"], [\"R\"], [\"R\"], [\"R\"], [\"L\"], [\"L\"], [\"L\"], [\"L\"], [\"LLRR\"], [\"L\"], [\"L\"], [\"L\"], [\"R\"], [\"LL\"], [\"L\"], [\"R\"], [\"L\"], [\"LR\"], [\"L\"], [\"L\"], [\"R\"], [\"LLR\"], [\"L\"], [\"R\"], [\"R\"], [\"R\"], [\"L\"], [\"R\"], [\"R\"], [\"L\"], [\"R\"], [\"R\"], [\"L\"], [\"R\"], [\"L\"], [\"RLRR\"], [\"R\"], [\"L\"], [\"L\"], [\"R\"], [\"R\"], [\"R\"], [\"L\"], [\"R\"], [\"R\"], [\"L\"], [\"R\"], [\"L\"], [\"RL\"], [\"L\"], [\"RR\"], [\"R\"], [\"L\"], [\"L\"], [\"L\"], [\"R\"], [\"L\"], [\"L\"], [\"R\"], [\"R\"], [\"R\"], [\"RL\"], [\"L\"], [\"L\"], [\"L\"], [\"R\"], [\"R\"], [\"R\"], [\"L\"], [\"L\"], [\"L\"], [\"R\"], [\"L\"], [\"L\"], [\"R\"], [\"L\"], [\"LR\"], [\"R\"], [\"R\"], [\"L\"], [\"L\"], [\"L\"], [\"L\"], [\"R\"], [\"LRRL\"], [\"RLL\"], [\"L\"], [\"L\"], [\"R\"], [\"R\"], [\"L\"], [\"L\"], [\"R\"], [\"R\"], [\"R\"], [\"R\"], [\"RRR\"], [\"L\"], [\"R\"], [\"R\"], [\"L\"], [\"R\"], [\"R\"], [\"L\"], [\"R\"], [\"L\"], [\"R\"], [\"R\"], [\"LLL\"], [\"R\"], [\"L\"], [\"L\"], [\"R\"], [\"L\"], [\"LLL\"], [\"R\"], [\"L\"], [\"R\"], [\"L\"], [\"L\"], [\"LL\"], [\"LR\"], [\"R\"], [\"L\"], [\"L\"], [\"R\"], [\"LL\"], [\"LL\"], [\"L\"], [\"L\"], [\"R\"], [\"R\"], [\"L\"], [\"R\"], [\"RLR\"], [\"L\"], [\"R\"], [\"R\"], [\"L\"], [\"LLL\"], [\"L\"], [\"R\"], [\"R\"], [\"L\"], [\"RL\"], [\"L\"], [\"L\"], [\"L\"], [\"L\"], [\"R\"], [\"R\"], [\"R\"], [\"R\"], [\"L\"], [\"L\"], [\"L\"], [\"R\"], [\"LL\"], [\"RL\"], [\"R\"], [\"R\"], [\"LL\"], [\"LL\"], [\"R\"], [\"LRL\"], [\"RRLR\"], [\"L\"], [\"R\"], [\"R\"], [\"L\"], [\"R\"], [\"LL\"], [\"R\"], [\"R\"], [\"RLLL\"], [\"R\"], [\"L\"], [\"L\"], [\"R\"], [\"L\"], [\"LR\"], [\"R\"], [\"L\"], [\"L\"], [\"L\"], [\"L\"], [\"R\"], [\"L\"], [\"R\"], [\"R\"], [\"L\"], [\"L\"], [\"LRL\"], [\"L\"], [\"RLR\"], [\"R\"], [\"R\"], [\"L\"], [\"L\"], [\"L\"], [\"L\"], [\"RR\"], [\"L\"], [\"L\"], [\"L\"], [\"LL\"], [\"R\"], [\"L\"], [\"L\"], [\"L\"], [\"R\"], [\"R\"], [\"LLLL\"], [\"L\"], [\"L\"], [\"R\"], [\"L\"], [\"R\"], [\"LR\"], [\"RL\"], [\"R\"], [\"L\"], [\"R\"], [\"R\"], [\"R\"], [\"R\"], [\"LRRL\"], [\"LRL\"], [\"R\"], [\"RL\"], [\"R\"], [\"L\"], [\"R\"], [\"L\"], [\"R\"], [\"R\"], [\"L\"], [\"R\"], [\"R\"], [\"R\"], [\"R\"], [\"RL\"], [\"L\"], [\"L\"], [\"RR\"], [\"RL\"], [\"R\"], [\"R\"], [\"R\"], [\"R\"], [\"L\"], [\"L\"], [\"L\"], [\"R\"], [\"L\"], [\"R\"], [\"L\"], [\"L\"], [\"L\"], [\"L\"], [\"R\"], [\"L\"], [\"L\"], [\"R\"], [\"R\"], [\"L\"], [\"L\"], [\"LR\"], [\"R\"], [\"R\"], [\"L\"], [\"R\"], [\"L\"], [\"L\"], [\"LL\"], [\"L\"], [\"L\"], [\"RR\"], [\"R\"], [\"L\"], [\"L\"], [\"R\"], [\"R\"], [\"RRR\"], [\"R\"], [\"L\"], [\"L\"], [\"RLR\"], [\"R\"], [\"R\"], [\"RRR\"], [\"RR\"], [\"L\"], [\"RLLR\"], [\"RR\"], [\"R\"], [\"R\"], [\"R\"], [\"L\"], [\"R\"], [\"R\"], [\"R\"], [\"L\"], [\"L\"], [\"L\"], [\"L\"], [\"L\"], [\"LR\"], [\"R\"], [\"L\"], [\"L\"], [\"R\"], [\"L\"], [\"L\"], [\"L\"], [\"R\"], [\"R\"], [\"L\"], [\"R\"], [\"R\"], [\"R\"], [\"L\"], [\"R\"], [\"L\"], [\"L\"], [\"L\"], [\"L\"], [\"L\"], [\"RRL\"], [\"L\"], [\"LLR\"], [\"R\"], [\"LL\"], [\"L\"], [\"L\"], [\"L\"], [\"LLR\"], [\"L\"], [\"L\"], [\"R\"], [\"L\"], [\"RLLL\"], [\"R\"], [\"R\"], [\"LLRL\"], [\"R\"], [\"LR\"], [\"L\"], [\"R\"], [\"L\"], [\"RLR\"], [\"R\"], [\"R\"], [\"R\"], [\"R\"], [\"R\"], [\"LR\"], [\"LLR\"], [\"R\"], [\"RL\"], [\"R\"], [\"R\"], [\"L\"], [\"LR\"], [\"L\"], [\"R\"], [\"RLL\"], [\"R\"], [\"R\"], [\"RL\"], [\"R\"], [\"L\"], [\"R\"], [\"RRL\"], [\"RLL\"], [\"L\"], [\"LR\"], [\"L\"], [\"R\"], [\"L\"], [\"RLR\"], [\"R\"], [\"LL\"], [\"R\"], [\"L\"], [\"L\"], [\"L\"], [\"R\"], [\"L\"], [\"R\"], [\"LL\"], [\"L\"], [\"L\"], [\"R\"], [\"L\"], [\"L\"], [\"L\"], [\"RR\"], [\"R\"], [\"LL\"], [\"R\"], [\"R\"], [\"R\"], [\"LR\"], [\"L\"], [\"LLRR\"], [\"LL\"], [\"L\"], [\"L\"], [\"R\"], [\"L\"], [\"R\"], [\"RLL\"], [\"LR\"], [\"L\"], [\"L\"], [\"L\"], [\"L\"], [\"L\"], [\"L\"], [\"R\"], [\"L\"], [\"R\"], [\"R\"], [\"L\"], [\"R\"], [\"R\"], [\"L\"], [\"R\"], [\"L\"], [\"R\"], [\"R\"], [\"R\"], [\"LL\"], [\"R\"], [\"R\"], [\"R\"], [\"L\"], [\"L\"], [\"L\"], [\"LLRR\"], [\"L\"], [\"L\"], [\"R\"], [\"L\"], [\"R\"], [\"R\"], [\"R\"], [\"R\"], [\"L\"], [\"L\"], [\"RR\"], [\"L\"], [\"LR\"], [\"LLL\"], [\"R\"], [\"R\"], [\"R\"], [\"L\"], [\"R\"], [\"L\"], [\"LR\"], [\"L\"], [\"R\"], [\"R\"], [\"L\"], [\"RR\"], [\"LLR\"], [\"R\"], [\"R\"], [\"LRRR\"], [\"L\"], [\"L\"], [\"R\"], [\"L\"], [\"L\"], [\"LL\"], [\"LR\"], [\"L\"], [\"L\"], [\"L\"], [\"L\"], [\"R\"], [\"L\"], [\"R\"], [\"L\"], [\"R\"], [\"R\"], [\"R\"], [\"R\"], [\"L\"], [\"RRL\"], [\"L\"], [\"L\"], [\"L\"], [\"L\"], [\"L\"], [\"R\"], [\"R\"], [\"R\"], [\"L\"], [\"R\"], [\"L\"], [\"R\"], [\"R\"], [\"R\"], [\"L\"], [\"LL\"], [\"R\"], [\"L\"], [\"R\"], [\"RLRL\"], [\"R\"], [\"R\"], [\"L\"], [\"RL\"], [\"LRRL\"], [\"R\"], [\"R\"], [\"R\"], [\"R\"], [\"LL\"], [\"R\"], [\"R\"], [\"R\"], [\"R\"], [\"RLLR\"], [\"R\"], [\"L\"], [\"RRL\"], [\"R\"], [\"L\"], [\"L\"], [\"L\"], [\"L\"], [\"R\"], [\"R\"], [\"R\"], [\"L\"], [\"R\"], [\"R\"], [\"RL\"], [\"L\"], [\"R\"], [\"RL\"], [\"LRL\"], [\"R\"], [\"R\"], [\"L\"], [\"R\"], [\"L\"], [\"RLL\"], [\"R\"], [\"R\"], [\"R\"], [\"R\"], [\"R\"], [\"L\"], [\"R\"], [\"RL\"], [\"R\"], [\"R\"], [\"L\"], [\"L\"], [\"L\"], [\"R\"], [\"L\"], [\"RL\"], [\"R\"], [\"L\"], [\"L\"], [\"R\"], [\"L\"], [\"L\"], [\"R\"], [\"R\"], [\"R\"], [\"L\"], [\"R\"], [\"L\"], [\"R\"], [\"R\"], [\"R\"], [\"LL\"], [\"RRL\"], [\"L\"], [\"L\"], [\"L\"], [\"R\"], [\"LR\"], [\"R\"], [\"L\"], [\"L\"], [\"RRLL\"], [\"L\"], [\"L\"], [\"L\"], [\"RR\"], [\"R\"], [\"LR\"], [\"R\"], [\"L\"], [\"L\"], [\"R\"], [\"LR\"], [\"R\"], [\"L\"], [\"RR\"], [\"RLR\"], [\"LR\"], [\"LL\"], [\"RR\"], [\"LRL\"], [\"RR\"], [\"LL\"], [\"LL\"], [\"LL\"], [\"RR\"], [\"RL\"], [\"LL\"], [\"LR\"], [\"RL\"], [\"LR\"], [\"LR\"], [\"RR\"], [\"LR\"], [\"RL\"], [\"LR\"], [\"LLL\"], [\"RR\"], [\"RL\"], [\"LR\"], [\"LL\"], [\"LR\"], [\"LL\"], [\"LL\"], [\"LLR\"], [\"LL\"], [\"RL\"], [\"LL\"], [\"LL\"], [\"LL\"], [\"RR\"], [\"LLL\"], [\"RRL\"], [\"LL\"], [\"RR\"], [\"LL\"], [\"RRL\"], [\"LL\"], [\"RLR\"], [\"RLL\"], [\"RR\"], [\"RR\"], [\"LR\"], [\"RR\"], [\"LR\"], [\"LL\"], [\"LRL\"], [\"LL\"], [\"LR\"], [\"RLR\"], [\"LL\"], [\"RRL\"], [\"RLL\"], [\"LL\"], [\"LR\"], [\"RR\"], [\"RR\"], [\"LL\"], [\"RR\"], [\"RR\"], [\"LR\"], [\"RL\"], [\"LR\"], [\"LL\"], [\"LL\"], [\"LL\"], [\"RRR\"], [\"RL\"], [\"RLL\"], [\"LR\"], [\"RR\"], [\"LL\"], [\"RR\"], [\"LRL\"], [\"RL\"], [\"RL\"], [\"RR\"], [\"RRL\"], [\"LLL\"], [\"LRR\"], [\"LL\"], [\"RL\"], [\"LL\"], [\"RR\"], [\"RR\"], [\"LL\"], [\"LR\"], [\"LL\"], [\"RL\"], [\"LR\"], [\"LL\"], [\"LR\"], [\"RR\"], [\"LR\"], [\"RL\"], [\"RR\"], [\"RR\"], [\"RL\"], [\"RR\"], [\"RL\"], [\"RR\"], [\"LLL\"], [\"RR\"], [\"RLL\"], [\"LL\"], [\"RR\"], [\"LR\"], [\"RR\"], [\"RR\"], [\"RL\"], [\"LL\"], [\"RRR\"], [\"RL\"], [\"RRL\"], [\"RR\"], [\"LL\"], [\"RR\"], [\"LRL\"], [\"LL\"], [\"RL\"], [\"RR\"], [\"LR\"], [\"LR\"], [\"LL\"], [\"LR\"], [\"LR\"], [\"LR\"], [\"LR\"], [\"RL\"], [\"RL\"], [\"RR\"], [\"LRR\"], [\"LL\"], [\"RR\"], [\"RLL\"], [\"RL\"], [\"LLL\"], [\"LL\"], [\"LR\"], [\"LRR\"], [\"RRR\"], [\"RL\"], [\"LR\"], [\"LL\"], [\"LRL\"], [\"LRR\"], [\"L\"], [\"L\"], [\"R\"], [\"R\"], [\"RRL\"], [\"L\"], [\"R\"], [\"L\"], [\"R\"], [\"R\"], [\"R\"], [\"R\"], [\"L\"], [\"R\"], [\"RLR\"], [\"L\"], [\"L\"], [\"R\"], [\"LR\"], [\"RL\"], [\"L\"], [\"LR\"], [\"R\"], [\"LRL\"], [\"L\"], [\"R\"], [\"R\"], [\"R\"], [\"L\"], [\"RL\"], [\"R\"], [\"R\"], [\"L\"], [\"LLLL\"], [\"RRL\"], [\"L\"], [\"LLRR\"], [\"R\"], [\"LR\"], [\"R\"], [\"R\"], [\"R\"], [\"R\"], [\"LLL\"], [\"R\"], [\"L\"], [\"L\"], [\"R\"], [\"R\"], [\"RR\"], [\"LLL\"], [\"L\"], [\"LL\"], [\"R\"], [\"R\"], [\"R\"], [\"RRL\"], [\"LLL\"], [\"LR\"], [\"L\"], [\"LR\"], [\"L\"], [\"L\"], [\"RL\"], [\"L\"], [\"R\"], [\"LR\"], [\"L\"], [\"LL\"], [\"R\"], [\"L\"], [\"L\"], [\"L\"], [\"RLLL\"], [\"LR\"], [\"R\"], [\"L\"], [\"R\"], [\"R\"], [\"R\"], [\"LLL\"], [\"LR\"], [\"R\"], [\"L\"], [\"RLRRLL\"], [\"L\"], [\"L\"], [\"R\"], [\"LR\"], [\"R\"], [\"L\"], [\"L\"], [\"LLR\"], [\"L\"], [\"L\"], [\"R\"], [\"LLLRR\"], [\"R\"], [\"LRL\"], [\"L\"], [\"R\"], [\"LLR\"], [\"L\"], [\"R\"], [\"R\"], [\"R\"], [\"R\"], [\"RRL\"], [\"LL\"], [\"RRL\"], [\"RL\"], [\"R\"], [\"R\"], [\"R\"], [\"L\"], [\"R\"], [\"R\"], [\"L\"], [\"R\"], [\"R\"], [\"L\"], [\"L\"], [\"LRRR\"], [\"L\"], [\"L\"], [\"R\"], [\"R\"], [\"LR\"], [\"L\"], [\"L\"], [\"R\"], [\"L\"], [\"LRLR\"], [\"R\"], [\"RRR\"], [\"RR\"], [\"R\"], [\"R\"], [\"L\"], [\"R\"], [\"R\"], [\"R\"], [\"L\"], [\"L\"], [\"RR\"], [\"R\"], [\"L\"], [\"L\"], [\"R\"], [\"LL\"], [\"R\"], [\"RLLR\"], [\"LLL\"], [\"L\"], [\"RLL\"], [\"RL\"], [\"L\"], [\"LRL\"], [\"R\"], [\"R\"], [\"L\"], [\"R\"], [\"LRLL\"], [\"L\"], [\"LLRL\"], [\"R\"], [\"L\"], [\"R\"], [\"LLR\"], [\"RLL\"], [\"L\"], [\"LL\"], [\"RLRR\"], [\"LLR\"], [\"L\"], [\"R\"], [\"LL\"], [\"LRL\"], [\"L\"], [\"L\"], [\"R\"], [\"R\"], [\"R\"], [\"R\"], [\"R\"], [\"L\"], [\"L\"], [\"LLRLRL\"], [\"L\"], [\"L\"], [\"L\"], [\"RLLLL\"], [\"RR\"], [\"R\"], [\"L\"], [\"R\"], [\"R\"], [\"RR\"], [\"R\"], [\"RR\"], [\"RRR\"], [\"L\"], [\"L\"], [\"R\"], [\"R\"], [\"L\"], [\"L\"], [\"R\"], [\"RLRLR\"], [\"L\"], [\"R\"], [\"R\"], [\"LRLL\"], [\"R\"], [\"R\"], [\"L\"], [\"LL\"], [\"L\"], [\"L\"], [\"R\"], [\"LL\"], [\"L\"], [\"R\"], [\"LL\"], [\"R\"], [\"L\"], [\"LRLLL\"], [\"R\"], [\"LL\"], [\"L\"], [\"L\"], [\"R\"], [\"L\"], [\"LR\"], [\"RR\"], [\"L\"], [\"RLRRL\"], [\"R\"], [\"R\"], [\"L\"], [\"R\"], [\"R\"], [\"R\"], [\"R\"], [\"R\"], [\"L\"], [\"L\"], [\"LRR\"], [\"L\"], [\"L\"], [\"R\"], [\"R\"], [\"R\"], [\"L\"], [\"L\"], [\"L\"], [\"L\"], [\"LR\"], [\"R\"], [\"L\"], [\"RL\"], [\"RLL\"], [\"LR\"], [\"RLLR\"], [\"LL\"], [\"L\"], [\"R\"], [\"RL\"], [\"LLR\"], [\"RR\"], [\"RR\"], [\"RRL\"], [\"L\"], [\"L\"], [\"L\"], [\"L\"], [\"LLLL\"], [\"L\"], [\"R\"], [\"L\"], [\"L\"], [\"LRR\"], [\"R\"], [\"R\"], [\"R\"], [\"R\"], [\"L\"], [\"LR\"], [\"L\"], [\"R\"], [\"RRL\"], [\"L\"], [\"LRR\"], [\"R\"], [\"L\"], [\"R\"], [\"L\"], [\"LRLR\"], [\"L\"], [\"R\"], [\"LLR\"], [\"L\"], [\"R\"], [\"L\"], [\"L\"], [\"R\"], [\"R\"], [\"L\"], [\"RL\"], [\"R\"], [\"LL\"], [\"L\"], [\"L\"], [\"RRLL\"], [\"L\"], [\"L\"], [\"R\"], [\"L\"], [\"L\"], [\"L\"], [\"R\"], [\"R\"], [\"R\"], [\"RLL\"], [\"RL\"], [\"R\"], [\"LR\"], [\"R\"], [\"L\"], [\"R\"], [\"L\"], [\"R\"], [\"LLRR\"], [\"R\"], [\"RRR\"], [\"LL\"], [\"L\"], [\"L\"], [\"RR\"], [\"RL\"], [\"L\"], [\"R\"], [\"RRRRRL\"], [\"L\"], [\"LR\"], [\"RR\"], [\"R\"], [\"R\"], [\"R\"], [\"R\"], [\"R\"], [\"R\"], [\"R\"], [\"R\"], [\"LR\"], [\"LRL\"], [\"R\"], [\"LL\"], [\"L\"], [\"L\"], [\"LRRL\"], [\"R\"], [\"LR\"], [\"R\"], [\"L\"], [\"R\"], [\"L\"], [\"L\"], [\"R\"], [\"LRLL\"], [\"LR\"], [\"L\"], [\"L\"], [\"RL\"], [\"RL\"], [\"R\"], [\"R\"], [\"LL\"], [\"RL\"], [\"L\"], [\"RR\"], [\"L\"], [\"R\"], [\"RL\"], [\"LLLR\"], [\"R\"], [\"R\"], [\"R\"], [\"L\"], [\"L\"], [\"RL\"], [\"LL\"], [\"L\"], [\"RL\"], [\"R\"], [\"R\"], [\"RRLLRL\"], [\"R\"], [\"RLLRR\"], [\"RR\"], [\"RLLL\"], [\"LR\"], [\"LLR\"], [\"R\"], [\"L\"], [\"L\"], [\"L\"], [\"R\"], [\"L\"], [\"L\"], [\"L\"], [\"R\"], [\"R\"], [\"L\"], [\"LR\"], [\"R\"], [\"RR\"], [\"R\"], [\"L\"], [\"R\"], [\"R\"], [\"R\"], [\"R\"], [\"R\"], [\"R\"], [\"L\"], [\"R\"], [\"R\"], [\"R\"], [\"L\"], [\"LL\"], [\"L\"], [\"R\"], [\"LRL\"], [\"R\"], [\"L\"], [\"LR\"], [\"L\"], [\"RR\"], [\"L\"], [\"RRL\"], [\"LR\"], [\"L\"], [\"R\"], [\"RR\"], [\"R\"], [\"R\"], [\"L\"], [\"L\"], [\"L\"], [\"LLRRLL\"], [\"L\"], [\"R\"], [\"LL\"], [\"R\"], [\"R\"], [\"R\"], [\"R\"], [\"R\"], [\"R\"], [\"R\"], [\"L\"], [\"R\"], [\"R\"], [\"R\"], [\"RR\"], [\"L\"], [\"RLL\"], [\"L\"], [\"L\"], [\"L\"], [\"L\"], [\"L\"], [\"R\"], [\"R\"], [\"R\"], [\"LL\"], [\"LLLL\"], [\"L\"], [\"RRL\"], [\"L\"], [\"L\"], [\"R\"], [\"R\"], [\"R\"], [\"R\"], [\"R\"], [\"L\"], [\"RR\"], [\"L\"], [\"L\"], [\"L\"], [\"L\"], [\"L\"], [\"L\"], [\"LLL\"], [\"R\"], [\"L\"], [\"R\"], [\"L\"], [\"R\"], [\"R\"], [\"L\"], [\"R\"], [\"R\"], [\"R\"], [\"L\"], [\"R\"], [\"RRR\"], [\"RL\"], [\"L\"], [\"LRL\"], [\"R\"], [\"R\"], [\"L\"], [\"L\"], [\"L\"], [\"L\"], [\"R\"], [\"RLR\"], [\"L\"], [\"RRL\"], [\"L\"], [\"R\"], [\"L\"], [\"L\"], [\"L\"], [\"R\"], [\"L\"], [\"R\"], [\"L\"], [\"L\"], [\"R\"], [\"R\"], [\"R\"], [\"R\"], [\"R\"], [\"R\"], [\"R\"], [\"LLL\"], [\"R\"], [\"R\"], [\"LR\"], [\"LL\"], [\"L\"], [\"LRRRL\"], [\"RR\"], [\"L\"], [\"L\"], [\"L\"], [\"R\"], [\"RLRLLL\"], [\"L\"], [\"LLLRR\"], [\"LL\"], [\"R\"], [\"R\"], [\"RLR\"], [\"LLRR\"], [\"L\"], [\"LRR\"], [\"R\"], [\"LLL\"], [\"L\"], [\"L\"], [\"L\"], [\"R\"], [\"R\"], [\"R\"], [\"R\"], [\"L\"], [\"R\"], [\"R\"], [\"R\"], [\"L\"], [\"R\"], [\"L\"], [\"R\"], [\"L\"], [\"L\"], [\"L\"], [\"L\"], [\"LRL\"], [\"R\"], [\"R\"], [\"LL\"], [\"RRR\"], [\"L\"], [\"R\"], [\"RL\"], [\"LLR\"], [\"R\"], [\"R\"], [\"L\"], [\"L\"], [\"R\"], [\"LRL\"], [\"R\"], [\"R\"], [\"R\"], [\"R\"], [\"L\"], [\"R\"], [\"RRRL\"], [\"RRL\"], [\"L\"], [\"LL\"], [\"L\"], [\"L\"], [\"R\"], [\"LR\"], [\"RRRLL\"], [\"RR\"], [\"R\"], [\"R\"], [\"L\"], [\"LLL\"], [\"LL\"], [\"RRL\"], [\"R\"], [\"LL\"], [\"LL\"], [\"L\"], [\"R\"], [\"R\"], [\"R\"], [\"R\"], [\"R\"], [\"R\"], [\"R\"], [\"R\"], [\"R\"], [\"RLL\"], [\"L\"], [\"R\"], [\"RRRL\"], [\"L\"], [\"L\"], [\"R\"], [\"R\"], [\"L\"], [\"L\"], [\"L\"], [\"R\"], [\"R\"], [\"RLRLLR\"], [\"L\"], [\"L\"], [\"L\"], [\"L\"], [\"R\"], [\"LRL\"], [\"R\"], [\"R\"], [\"R\"], [\"L\"], [\"L\"], [\"L\"], [\"L\"], [\"LL\"], [\"R\"], [\"L\"], [\"RLLL\"], [\"L\"], [\"R\"], [\"LRLLL\"], [\"RR\"], [\"L\"], [\"R\"], [\"L\"], [\"RR\"], [\"R\"], [\"R\"], [\"LLRL\"], [\"LRL\"], [\"LR\"], [\"L\"], [\"R\"], [\"R\"], [\"RL\"], [\"R\"], [\"LL\"], [\"LL\"], [\"LLLR\"], [\"RR\"], [\"LL\"], [\"LL\"], [\"RR\"], [\"RR\"], [\"LRLR\"], [\"LRR\"], [\"RL\"], [\"RRR\"], [\"LR\"], [\"RLL\"], [\"LLL\"], [\"LL\"], [\"LR\"], [\"LLRRL\"], [\"R\"], [\"LL\"], [\"RRL\"], [\"LR\"], [\"RR\"], [\"LR\"], [\"RR\"], [\"LR\"], [\"RL\"], [\"RRLR\"], [\"RRRLL\"], [\"R\"], [\"RLRL\"], [\"RL\"], [\"RRL\"], [\"RL\"], [\"RRRL\"], [\"LR\"], [\"LR\"], [\"LRRR\"], [\"RR\"], [\"LR\"], [\"LL\"], [\"LL\"], [\"LL\"], [\"RR\"], [\"LR\"], [\"LR\"], [\"RR\"], [\"LR\"], [\"LL\"], [\"RR\"], [\"LL\"], [\"RRL\"], [\"LRL\"], [\"L\"], [\"LL\"], [\"RL\"], [\"RL\"], [\"RL\"], [\"RL\"], [\"L\"], [\"RRLR\"], [\"LL\"], [\"LR\"], [\"LL\"], [\"RL\"], [\"LL\"], [\"RL\"], [\"RR\"], [\"L\"], [\"RR\"], [\"RLR\"], [\"RRLLL\"], [\"RL\"], [\"RL\"], [\"LL\"], [\"RR\"], [\"LR\"], [\"LL\"], [\"LL\"], [\"RR\"], [\"RL\"], [\"RLL\"], [\"LR\"], [\"LR\"], [\"RL\"], [\"RLL\"], [\"RR\"], [\"RLR\"], [\"RR\"], [\"LR\"], [\"LL\"], [\"RLLL\"], [\"LRRL\"], [\"RLL\"], [\"LRR\"], [\"RLR\"], [\"LL\"], [\"RRR\"], [\"LR\"], [\"LL\"], [\"RRR\"], [\"LR\"], [\"RL\"], [\"RRL\"], [\"RR\"], [\"LLR\"], [\"LL\"], [\"LLL\"], [\"LL\"], [\"LLL\"], [\"RR\"], [\"LLR\"], [\"RRL\"], [\"LL\"], [\"R\"], [\"LRL\"], [\"LL\"], [\"RL\"], [\"LR\"], [\"LR\"], [\"LRLL\"], [\"RRL\"], [\"RRLL\"], [\"LL\"], [\"RLL\"], [\"LL\"], [\"RR\"], [\"RL\"], [\"LRLR\"], [\"LR\"], [\"LR\"], [\"RL\"], [\"LR\"], [\"L\"], [\"LLL\"], [\"L\"], [\"L\"], [\"LLRL\"], [\"R\"], [\"L\"], [\"LL\"], [\"RLLL\"], [\"R\"], [\"R\"], [\"LLLLRRL\"], [\"LR\"], [\"RR\"], [\"R\"], [\"R\"], [\"R\"], [\"R\"], [\"L\"], [\"R\"], [\"R\"], [\"L\"], [\"LR\"], [\"L\"], [\"L\"], [\"RLR\"], [\"R\"], [\"L\"], [\"R\"], [\"R\"], [\"LLL\"], [\"LL\"], [\"RLRL\"], [\"RR\"], [\"RLL\"], [\"R\"], [\"L\"], [\"R\"], [\"RR\"], [\"L\"], [\"RRL\"], [\"L\"], [\"R\"], [\"L\"], [\"L\"], [\"RR\"], [\"RL\"], [\"L\"], [\"R\"], [\"R\"], [\"R\"], [\"R\"], [\"L\"], [\"RR\"], [\"L\"], [\"LR\"], [\"R\"], [\"R\"], [\"L\"], [\"L\"], [\"RR\"], [\"R\"], [\"L\"], [\"L\"], [\"L\"], [\"R\"], [\"RRRLLR\"], [\"RLRL\"], [\"R\"], [\"L\"], [\"LRL\"], [\"RL\"], [\"L\"], [\"L\"], [\"LL\"], [\"R\"], [\"R\"], [\"L\"], [\"L\"], [\"LL\"], [\"LR\"], [\"R\"], [\"R\"], [\"L\"], [\"R\"], [\"R\"], [\"LR\"], [\"RLRR\"], [\"R\"], [\"R\"], [\"R\"], [\"R\"], [\"RRR\"], [\"RRRLR\"], [\"R\"], [\"LL\"], [\"LR\"], [\"L\"], [\"L\"], [\"RL\"], [\"RRL\"], [\"R\"], [\"R\"], [\"L\"], [\"L\"], [\"R\"], [\"L\"], [\"LL\"], [\"LLR\"], [\"LLRL\"], [\"L\"], [\"LR\"], [\"L\"], [\"R\"], [\"RLL\"], [\"R\"], [\"RRRR\"], [\"L\"], [\"L\"], [\"RRLL\"], [\"L\"], [\"RL\"], [\"R\"], [\"LR\"], [\"R\"], [\"R\"], [\"R\"], [\"LRRLR\"], [\"L\"], [\"LR\"], [\"RLLRRR\"], [\"L\"], [\"LLLR\"], [\"L\"], [\"L\"], [\"L\"], [\"R\"], [\"LRR\"], [\"L\"], [\"R\"], [\"R\"], [\"L\"], [\"R\"], [\"L\"], [\"R\"], [\"RLLR\"], [\"L\"], [\"L\"], [\"RRLRR\"], [\"R\"], [\"R\"], [\"R\"], [\"RLRRRL\"], [\"L\"], [\"R\"], [\"R\"], [\"L\"], [\"L\"], [\"RRR\"], [\"R\"], [\"R\"], [\"L\"], [\"R\"], [\"RR\"], [\"L\"], [\"R\"], [\"L\"], [\"L\"], [\"RRL\"], [\"LRLL\"], [\"R\"], [\"LR\"], [\"RR\"], [\"LLL\"], [\"RLRRLLR\"], [\"L\"], [\"R\"], [\"R\"], [\"L\"], [\"R\"], [\"L\"], [\"LRRR\"], [\"L\"], [\"L\"], [\"L\"], [\"R\"], [\"RR\"], [\"R\"], [\"L\"], [\"RLLL\"], [\"R\"], [\"RRL\"], [\"L\"], [\"R\"], [\"L\"], [\"L\"], [\"LR\"], [\"LL\"], [\"L\"], [\"L\"], [\"RL\"], [\"L\"], [\"R\"], [\"RRL\"], [\"LL\"], [\"L\"], [\"L\"], [\"L\"], [\"RRL\"], [\"LL\"], [\"LL\"], [\"RR\"], [\"L\"], [\"LLL\"], [\"R\"], [\"LLL\"], [\"RRRR\"], [\"L\"], [\"L\"], [\"L\"], [\"L\"], [\"L\"], [\"L\"], [\"R\"], [\"LLLR\"], [\"LLR\"], [\"L\"], [\"R\"], [\"LRRLR\"], [\"L\"], [\"R\"], [\"R\"], [\"L\"], [\"LR\"], [\"LR\"], [\"L\"], [\"L\"], [\"L\"], [\"R\"], [\"R\"], [\"L\"], [\"L\"], [\"R\"], [\"RLR\"], [\"L\"], [\"RR\"], [\"RLLR\"], [\"R\"], [\"L\"], [\"LRR\"], [\"RL\"], [\"RRLLLRR\"], [\"L\"], [\"R\"], [\"R\"], [\"LLL\"], [\"L\"], [\"L\"], [\"RLRL\"], [\"R\"], [\"R\"], [\"LRLL\"], [\"R\"], [\"R\"], [\"R\"], [\"RR\"], [\"R\"], [\"L\"], [\"R\"], [\"L\"], [\"R\"], [\"LRR\"], [\"RRLRLL\"], [\"R\"], [\"R\"], [\"R\"], [\"LL\"], [\"R\"], [\"LLL\"], [\"RL\"], [\"LLRL\"], [\"L\"], [\"L\"], [\"LR\"], [\"L\"], [\"RR\"], [\"L\"], [\"R\"], [\"R\"], [\"R\"], [\"R\"], [\"R\"], [\"R\"], [\"R\"], [\"L\"], [\"R\"], [\"RL\"], [\"RL\"], [\"R\"], [\"R\"], [\"LLL\"], [\"LL\"], [\"LRR\"], [\"RLRLL\"], [\"R\"], [\"R\"], [\"R\"], [\"LL\"], [\"L\"], [\"L\"], [\"R\"], [\"L\"], [\"L\"], [\"L\"], [\"L\"], [\"L\"], [\"L\"], [\"LR\"], [\"L\"], [\"LL\"], [\"R\"], [\"R\"], [\"RRL\"], [\"L\"], [\"LR\"], [\"R\"], [\"RLLL\"], [\"RR\"], [\"R\"], [\"R\"], [\"LRR\"], [\"LLRRLLL\"], [\"L\"], [\"L\"], [\"R\"], [\"L\"], [\"R\"], [\"LLLLLRLL\"], [\"LRL\"], [\"R\"], [\"L\"], [\"R\"], [\"L\"], [\"L\"], [\"RLLLRR\"], [\"R\"], [\"LLRL\"], [\"R\"], [\"R\"], [\"LRLL\"], [\"R\"], [\"R\"], [\"LL\"], [\"L\"], [\"RRRLL\"], [\"R\"], [\"RRLR\"], [\"R\"], [\"R\"], [\"R\"], [\"R\"], [\"R\"], [\"R\"], [\"L\"], [\"R\"], [\"LL\"], [\"R\"], [\"RRLLL\"], [\"L\"], [\"RR\"], [\"R\"], [\"R\"], [\"LL\"], [\"LR\"], [\"LLR\"], [\"LLLR\"], [\"R\"], [\"RL\"], [\"LLR\"], [\"LL\"], [\"LLR\"], [\"L\"], [\"R\"], [\"L\"], [\"R\"], [\"R\"], [\"R\"], [\"L\"], [\"R\"], [\"LLRR\"], [\"L\"], [\"LLL\"], [\"L\"], [\"RRL\"], [\"R\"], [\"LRRR\"], [\"L\"], [\"R\"], [\"L\"], [\"RR\"], [\"LR\"], [\"L\"], [\"L\"], [\"R\"], [\"R\"], [\"R\"], [\"L\"], [\"LLR\"], [\"L\"], [\"L\"], [\"L\"], [\"R\"], [\"RLRL\"], [\"RLR\"], [\"LRL\"], [\"L\"], [\"L\"], [\"RLRL\"], [\"L\"], [\"L\"], [\"LL\"], [\"LRRRR\"], [\"L\"], [\"RLLLLR\"], [\"L\"], [\"L\"], [\"R\"], [\"RLRLR\"], [\"RL\"], [\"R\"], [\"R\"], [\"R\"], [\"L\"], [\"RLR\"], [\"RRLR\"], [\"R\"], [\"L\"], [\"R\"], [\"L\"], [\"L\"], [\"R\"], [\"RRLR\"], [\"R\"], [\"LRL\"], [\"LR\"], [\"L\"], [\"R\"], [\"LL\"], [\"RL\"], [\"R\"], [\"L\"], [\"LRLR\"], [\"R\"], [\"LLRLL\"], [\"L\"], [\"L\"], [\"R\"], [\"L\"], [\"R\"], [\"LLL\"], [\"R\"], [\"LRL\"], [\"R\"], [\"L\"], [\"RLL\"], [\"L\"], [\"RRL\"], [\"R\"], [\"RRR\"], [\"R\"], [\"R\"], [\"L\"], [\"L\"], [\"LRLL\"], [\"RLL\"], [\"RRLLL\"], [\"R\"], [\"R\"], [\"RL\"], [\"R\"], [\"LRL\"], [\"LL\"], [\"L\"], [\"L\"], [\"L\"], [\"L\"], [\"R\"], [\"LL\"], [\"R\"], [\"LLR\"], [\"L\"], [\"LRLR\"], [\"RRLLL\"], [\"L\"], [\"RL\"], [\"L\"], [\"L\"], [\"L\"], [\"R\"], [\"R\"], [\"L\"], [\"L\"], [\"L\"], [\"R\"], [\"R\"], [\"R\"], [\"LR\"], [\"L\"], [\"LLLL\"], [\"L\"], [\"RR\"], [\"R\"], [\"LLL\"], [\"R\"], [\"R\"], [\"R\"], [\"R\"], [\"LLRR\"], [\"LR\"], [\"L\"], [\"RLLLL\"], [\"RR\"], [\"R\"], [\"LR\"], [\"RRLL\"], [\"L\"], [\"L\"], [\"R\"], [\"RR\"], [\"R\"], [\"L\"], [\"L\"], [\"R\"], [\"R\"], [\"L\"], [\"R\"], [\"R\"], [\"LLR\"], [\"R\"], [\"L\"], [\"RRL\"], [\"R\"], [\"R\"], [\"RRRL\"], [\"R\"], [\"R\"], [\"LLR\"], [\"R\"], [\"RRL\"], [\"L\"], [\"LLR\"], [\"LLLRL\"], [\"L\"], [\"L\"], [\"LLRL\"], [\"L\"], [\"LRRR\"], [\"L\"], [\"LR\"], [\"L\"], [\"LRLRRR\"], [\"L\"], [\"LRL\"], [\"R\"], [\"LR\"], [\"R\"], [\"L\"], [\"R\"], [\"R\"], [\"R\"], [\"LLR\"], [\"R\"], [\"R\"], [\"R\"], [\"L\"], [\"R\"], [\"LRLLR\"], [\"L\"], [\"L\"], [\"R\"], [\"L\"], [\"L\"], [\"R\"], [\"RRL\"], [\"RLL\"], [\"R\"], [\"L\"], [\"L\"], [\"L\"], [\"L\"], [\"RLLLR\"], [\"LR\"], [\"R\"], [\"RL\"], [\"L\"], [\"L\"], [\"R\"], [\"L\"], [\"R\"], [\"L\"], [\"RLRR\"], [\"LL\"], [\"R\"], [\"LL\"], [\"L\"], [\"R\"], [\"R\"], [\"R\"], [\"R\"], [\"RRLR\"], [\"L\"], [\"LLL\"], [\"L\"], [\"R\"], [\"L\"], [\"L\"], [\"L\"], [\"RR\"], [\"R\"], [\"R\"], [\"R\"], [\"R\"], [\"LL\"], [\"L\"], [\"LLLR\"], [\"RLL\"], [\"R\"], [\"LR\"], [\"LR\"], [\"R\"], [\"L\"], [\"RRLR\"], [\"R\"], [\"RL\"], [\"LLRL\"], [\"R\"], [\"L\"], [\"L\"], [\"L\"], [\"R\"], [\"R\"], [\"R\"], [\"LL\"], [\"RLLR\"], [\"L\"], [\"R\"], [\"L\"], [\"L\"], [\"RRL\"], [\"LR\"], [\"R\"], [\"R\"], [\"R\"], [\"R\"], [\"RLLLL\"], [\"R\"], [\"LL\"], [\"LLR\"], [\"L\"], [\"RL\"], [\"R\"], [\"R\"], [\"LR\"], [\"L\"], [\"L\"], [\"RR\"], [\"R\"], [\"LLRR\"], [\"R\"], [\"R\"], [\"R\"], [\"LRLL\"], [\"R\"], [\"R\"], [\"LRRL\"], [\"LL\"], [\"LLR\"], [\"L\"], [\"LR\"], [\"R\"], [\"RRR\"], [\"RLL\"], [\"R\"], [\"LR\"], [\"L\"], [\"RRR\"], [\"L\"], [\"RRLR\"], [\"RRL\"], [\"LLRR\"], [\"LR\"], [\"LLRL\"], [\"RL\"], [\"RR\"], [\"RRLLR\"], [\"RLL\"], [\"RR\"], [\"RL\"], [\"LL\"], [\"RRR\"], [\"RL\"], [\"RR\"], [\"RRR\"], [\"RR\"], [\"RLR\"], [\"RR\"], [\"RL\"], [\"R\"], [\"LR\"], [\"RLR\"], [\"RR\"], [\"LLRL\"], [\"RL\"], [\"LL\"], [\"LL\"], [\"LR\"], [\"LRR\"], [\"LLL\"], [\"RLLL\"], [\"RLR\"], [\"RLR\"], [\"LRRLL\"], [\"R\"], [\"RR\"], [\"LL\"], [\"RLLRR\"], [\"RRLLL\"], [\"LL\"], [\"LR\"], [\"LL\"], [\"LR\"], [\"LR\"], [\"LLL\"], [\"RLRL\"], [\"RL\"], [\"RR\"], [\"RLR\"], [\"RLL\"], [\"RR\"], [\"LR\"], [\"LL\"], [\"LLRL\"], [\"LRL\"], [\"LLL\"], [\"RL\"], [\"LRLLRR\"], [\"LR\"], [\"RL\"], [\"RLLL\"], [\"RRRR\"], [\"LLLRL\"], [\"LL\"], [\"RR\"], [\"RR\"], [\"LL\"], [\"LLL\"], [\"RL\"], [\"LR\"], [\"RR\"], [\"LL\"], [\"RLRLR\"], [\"LRRLL\"], [\"RR\"], [\"RL\"], [\"LLRLLL\"], [\"RL\"], [\"LL\"], [\"RLR\"], [\"RR\"], [\"LRR\"], [\"LRLRLR\"], [\"RR\"], [\"LL\"], [\"RR\"], [\"RLLL\"], [\"LRR\"], [\"LRR\"], [\"L\"], [\"RL\"], [\"RL\"], [\"LLRLL\"], [\"RRR\"], [\"RL\"], [\"RR\"], [\"RLRR\"], [\"RL\"], [\"LL\"], [\"RR\"], [\"L\"], [\"LL\"], [\"RR\"], [\"LLRR\"], [\"RL\"], [\"RRRR\"], [\"RR\"], [\"LLR\"], [\"RLRLLL\"], [\"LL\"], [\"RR\"], [\"LL\"], [\"LL\"], [\"LR\"], [\"RL\"], [\"LL\"], [\"RR\"], [\"LRLRRL\"], [\"LRRRRRL\"], [\"LLR\"], [\"RL\"], [\"LR\"], [\"RR\"], [\"LLRLR\"], [\"RL\"], [\"RL\"], [\"LRL\"], [\"LR\"], [\"RRRLR\"], [\"LL\"], [\"R\"], [\"LL\"], [\"R\"], [\"RRLLL\"], [\"RLL\"], [\"R\"], [\"R\"], [\"RLLLRLL\"], [\"LLR\"], [\"R\"], [\"L\"], [\"R\"], [\"L\"], [\"L\"], [\"R\"], [\"RRRRR\"], [\"LLL\"], [\"R\"], [\"RLRLL\"], [\"L\"], [\"RLRRRL\"], [\"LL\"], [\"L\"], [\"LLRL\"], [\"LLRRLLLRLRL\"], [\"LRRR\"], [\"R\"], [\"LLL\"], [\"RR\"], [\"L\"], [\"L\"], [\"L\"], [\"LLL\"], [\"L\"], [\"LR\"], [\"LRLL\"], [\"R\"], [\"LRRLRL\"], [\"L\"], [\"L\"], [\"L\"], [\"LR\"], [\"L\"], [\"R\"], [\"R\"], [\"L\"], [\"LLRRRRR\"], [\"L\"], [\"LLR\"], [\"RLR\"], [\"LLLR\"], [\"L\"], [\"RR\"], [\"R\"], [\"LRL\"], [\"R\"], [\"R\"], [\"LRL\"], [\"R\"], [\"L\"], [\"R\"], [\"R\"], [\"R\"], [\"R\"], [\"R\"], [\"L\"], [\"RL\"], [\"LRLL\"], [\"LL\"], [\"LRL\"], [\"L\"], [\"RR\"], [\"L\"], [\"LLR\"], [\"L\"], [\"R\"], [\"L\"], [\"L\"], [\"R\"], [\"L\"], [\"R\"], [\"R\"], [\"LLLRLR\"], [\"LLRLL\"], [\"R\"], [\"LL\"], [\"R\"], [\"R\"], [\"RR\"], [\"L\"], [\"R\"], [\"L\"], [\"LRRRRRLLR\"], [\"R\"], [\"R\"], [\"L\"], [\"RLLL\"], [\"L\"], [\"RLL\"], [\"L\"], [\"LLRR\"], [\"RL\"], [\"R\"], [\"R\"], [\"LRLRLRRL\"], [\"L\"], [\"L\"], [\"R\"], [\"RLLLL\"], [\"L\"], [\"R\"], [\"L\"], [\"R\"], [\"LLLLLR\"], [\"RL\"], [\"R\"], [\"L\"], [\"LLL\"], [\"LRRLR\"], [\"L\"], [\"R\"], [\"LL\"], [\"R\"], [\"L\"], [\"R\"], [\"L\"], [\"L\"], [\"RRLL\"], [\"RLLLR\"], [\"LL\"], [\"L\"], [\"L\"], [\"R\"], [\"LL\"], [\"L\"], [\"L\"], [\"L\"], [\"RR\"], [\"L\"], [\"LLRLRL\"], [\"L\"], [\"RL\"], [\"RL\"], [\"LLRRLR\"], [\"R\"], [\"L\"], [\"RRLRL\"], [\"L\"], [\"R\"], [\"LR\"], [\"LRLL\"], [\"L\"], [\"RR\"], [\"R\"], [\"RL\"], [\"LRL\"], [\"LRRLR\"], [\"R\"], [\"RLLR\"], [\"R\"], [\"L\"], [\"R\"], [\"LL\"], [\"LRLL\"], [\"R\"], [\"LR\"], [\"LRR\"], [\"R\"], [\"RLLR\"], [\"R\"], [\"RL\"], [\"R\"], [\"L\"], [\"LL\"], [\"R\"], [\"L\"], [\"L\"], [\"L\"], [\"L\"], [\"R\"], [\"R\"], [\"L\"], [\"R\"], [\"RR\"], [\"L\"], [\"LR\"], [\"LR\"], [\"R\"], [\"LLL\"], [\"R\"], [\"LRLRLL\"], [\"L\"], [\"L\"], [\"L\"], [\"LLLR\"], [\"L\"], [\"RRLL\"], [\"L\"], [\"R\"], [\"LR\"], [\"R\"], [\"RRL\"], [\"RRL\"], [\"R\"], [\"L\"], [\"R\"], [\"LLRLRLLL\"], [\"LR\"], [\"L\"], [\"RLRRL\"], [\"RLR\"], [\"R\"], [\"R\"], [\"L\"], [\"R\"], [\"R\"], [\"R\"], [\"L\"], [\"RR\"], [\"RR\"], [\"RLL\"], [\"R\"], [\"RL\"], [\"L\"], [\"L\"], [\"R\"], [\"R\"], [\"LLR\"], [\"LR\"], [\"R\"], [\"L\"], [\"RR\"], [\"L\"], [\"L\"], [\"R\"], [\"L\"], [\"R\"], [\"R\"], [\"R\"], [\"RRLLL\"], [\"L\"], [\"L\"], [\"R\"], [\"R\"], [\"LLRL\"], [\"L\"], [\"R\"], [\"R\"], [\"L\"], [\"RLRR\"], [\"R\"], [\"RLR\"], [\"L\"], [\"LRLLR\"], [\"L\"], [\"LLRRLLL\"], [\"R\"], [\"L\"], [\"RLRR\"], [\"L\"], [\"R\"], [\"RRLRR\"], [\"LR\"], [\"R\"], [\"R\"], [\"L\"], [\"RL\"], [\"L\"], [\"R\"], [\"LL\"], [\"R\"], [\"R\"], [\"RR\"], [\"LRLR\"], [\"RRL\"], [\"RLRRRR\"], [\"R\"], [\"R\"], [\"LLRRL\"], [\"LLR\"], [\"R\"], [\"L\"], [\"RRRR\"], [\"L\"], [\"RLR\"], [\"L\"], [\"L\"], [\"R\"], [\"L\"], [\"RLLRRR\"], [\"R\"], [\"RLRR\"], [\"L\"], [\"R\"], [\"R\"], [\"RRLRRLRL\"], [\"L\"], [\"R\"], [\"RRLLR\"], [\"L\"], [\"LLL\"], [\"R\"], [\"R\"], [\"RLRL\"], [\"R\"], [\"L\"], [\"LLRR\"], [\"L\"], [\"RRLRRR\"], [\"R\"], [\"LLLLLLLLRRL\"], [\"L\"], [\"LLR\"], [\"RRR\"], [\"LRLL\"], [\"LRR\"], [\"LL\"], [\"LR\"], [\"R\"], [\"RRLLL\"], [\"L\"], [\"LLR\"], [\"RRL\"], [\"LRRLL\"], [\"RR\"], [\"LLRL\"], [\"RLLL\"], [\"LLLLL\"], [\"R\"], [\"RRL\"], [\"LRRR\"], [\"R\"], [\"R\"], [\"LRLL\"], [\"L\"], [\"L\"], [\"R\"], [\"R\"], [\"RLRRR\"], [\"L\"], [\"RL\"], [\"LLLRLRRLLR\"], [\"R\"], [\"RRRR\"], [\"L\"], [\"R\"], [\"R\"], [\"R\"], [\"L\"], [\"LL\"], [\"L\"], [\"L\"], [\"L\"], [\"L\"], [\"R\"], [\"R\"], [\"LLR\"], [\"R\"], [\"R\"], [\"R\"], [\"R\"], [\"RLRLRLLLL\"], [\"RLLRR\"], [\"L\"], [\"LRL\"], [\"L\"], [\"R\"], [\"L\"], [\"R\"], [\"LLLL\"], [\"L\"], [\"L\"], [\"R\"], [\"LLRLRRLLLRR\"], [\"R\"], [\"LLL\"], [\"L\"], [\"R\"], [\"R\"], [\"RRRLRR\"], [\"R\"], [\"RR\"], [\"L\"], [\"RL\"], [\"L\"], [\"R\"], [\"LLR\"], [\"R\"], [\"RLLR\"], [\"R\"], [\"L\"], [\"R\"], [\"R\"], [\"L\"], [\"RLLR\"], [\"L\"], [\"RRL\"], [\"L\"], [\"R\"], [\"RLLR\"], [\"L\"], [\"RRRR\"], [\"R\"], [\"RLLL\"], [\"L\"], [\"RL\"], [\"L\"], [\"LRL\"], [\"RLR\"], [\"RLR\"], [\"R\"], [\"R\"], [\"L\"], [\"R\"], [\"R\"], [\"LR\"], [\"R\"], [\"L\"], [\"R\"], [\"RR\"], [\"R\"], [\"L\"], [\"R\"], [\"LL\"], [\"RRLRR\"], [\"R\"], [\"R\"], [\"RL\"], [\"LLRLR\"], [\"R\"], [\"L\"], [\"R\"], [\"L\"], [\"R\"], [\"L\"], [\"R\"], [\"R\"], [\"R\"], [\"R\"], [\"L\"], [\"R\"], [\"R\"], [\"R\"], [\"L\"], [\"R\"], [\"L\"], [\"R\"], [\"L\"], [\"RR\"], [\"RRLRLRRR\"], [\"RL\"], [\"R\"], [\"LLR\"], [\"LLLRRL\"], [\"LLL\"], [\"R\"], [\"L\"], [\"R\"], [\"R\"], [\"LL\"], [\"L\"], [\"R\"], [\"RR\"], [\"L\"], [\"RLL\"], [\"R\"], [\"R\"], [\"RRLRRLR\"], [\"L\"], [\"R\"], [\"L\"], [\"R\"], [\"R\"], [\"L\"], [\"LRRR\"], [\"L\"], [\"R\"], [\"LR\"], [\"RRL\"], [\"RR\"], [\"L\"], [\"RRLLRL\"], [\"R\"], [\"RR\"], [\"LRL\"], [\"L\"], [\"LLL\"], [\"L\"], [\"L\"], [\"R\"], [\"RRLLLRRRLL\"], [\"L\"], [\"R\"], [\"R\"], [\"R\"], [\"RRLRRL\"], [\"L\"], [\"RL\"], [\"L\"], [\"R\"], [\"L\"], [\"L\"], [\"R\"], [\"L\"], [\"R\"], [\"R\"], [\"LLLR\"], [\"L\"], [\"R\"], [\"LL\"], [\"L\"], [\"L\"], [\"RLLLR\"], [\"L\"], [\"LLL\"], [\"L\"], [\"LL\"], [\"R\"], [\"L\"], [\"L\"], [\"R\"], [\"R\"], [\"L\"], [\"L\"], [\"LR\"], [\"R\"], [\"R\"], [\"L\"], [\"L\"], [\"LLLR\"], [\"R\"], [\"L\"], [\"R\"], [\"R\"], [\"L\"], [\"L\"], [\"L\"], [\"LLLR\"], [\"R\"], [\"L\"], [\"L\"], [\"L\"], [\"LL\"], [\"R\"], [\"LRLRRRRRL\"], [\"L\"], [\"R\"], [\"LL\"], [\"RRLL\"], [\"R\"], [\"R\"], [\"L\"], [\"R\"], [\"RRRR\"], [\"R\"], [\"R\"], [\"RLR\"], [\"R\"], [\"LRL\"], [\"L\"], [\"RL\"], [\"LR\"], [\"RLRRR\"], [\"R\"], [\"LR\"], [\"L\"], [\"RLRRRL\"], [\"LRLLRLLL\"], [\"LLRLR\"], [\"R\"], [\"L\"], [\"RRL\"], [\"RLLR\"], [\"R\"], [\"L\"], [\"R\"], [\"L\"], [\"R\"], [\"R\"], [\"LRR\"], [\"L\"], [\"RRRRR\"], [\"L\"], [\"R\"], [\"R\"], [\"R\"], [\"L\"], [\"LR\"], [\"R\"], [\"R\"], [\"RRRLRL\"], [\"L\"], [\"LLR\"], [\"R\"], [\"R\"], [\"LRLL\"], [\"RL\"], [\"L\"], [\"LLR\"], [\"R\"], [\"L\"], [\"RLLLR\"], [\"L\"], [\"R\"], [\"RLLR\"], [\"LL\"], [\"L\"], [\"RLL\"], [\"R\"], [\"L\"], [\"L\"], [\"R\"], [\"RRLL\"], [\"R\"], [\"RR\"], [\"RRL\"], [\"L\"], [\"L\"], [\"R\"], [\"L\"], [\"L\"], [\"L\"], [\"L\"], [\"RRR\"], [\"L\"], [\"L\"], [\"RLRRR\"], [\"RLRL\"], [\"LRRLL\"], [\"R\"], [\"L\"], [\"L\"], [\"L\"], [\"RR\"], [\"L\"], [\"L\"], [\"LRRRR\"], [\"LRL\"], [\"R\"], [\"R\"], [\"L\"], [\"L\"], [\"R\"], [\"R\"], [\"LRRRRLL\"], [\"RR\"], [\"RLLR\"], [\"R\"], [\"LL\"], [\"L\"], [\"LL\"], [\"L\"], [\"LL\"], [\"LLLRLR\"], [\"LR\"], [\"R\"], [\"LRLR\"], [\"RRL\"], [\"RR\"], [\"RL\"], [\"R\"], [\"RLR\"], [\"L\"], [\"LLLR\"], [\"L\"], [\"RLR\"], [\"R\"], [\"L\"], [\"RR\"], [\"R\"], [\"RR\"], [\"L\"], [\"RR\"], [\"LL\"], [\"L\"], [\"LLLLL\"], [\"LRRR\"], [\"R\"], [\"LR\"], [\"LL\"], [\"L\"], [\"R\"], [\"RRR\"], [\"R\"], [\"LR\"], [\"R\"], [\"R\"], [\"LLRR\"], [\"RLRLLR\"], [\"R\"], [\"LL\"], [\"L\"], [\"R\"], [\"RRL\"], [\"RR\"], [\"L\"], [\"L\"], [\"LLL\"], [\"L\"], [\"L\"], [\"LRL\"], [\"RR\"], [\"L\"], [\"LLRLL\"], [\"L\"], [\"R\"], [\"LR\"], [\"LL\"], [\"L\"], [\"RR\"], [\"RR\"], [\"RR\"], [\"RR\"], [\"LL\"], [\"LR\"], [\"RL\"], [\"RLL\"], [\"RRL\"], [\"R\"], [\"LLLL\"], [\"RLLRR\"], [\"RR\"], [\"RL\"], [\"RRLRLL\"], [\"LR\"], [\"RLL\"], [\"RR\"], [\"RRLL\"], [\"L\"], [\"RL\"], [\"RR\"], [\"LL\"], [\"RLLRL\"], [\"RR\"], [\"RR\"], [\"RLR\"], [\"LRLRLR\"], [\"RL\"], [\"LL\"], [\"RLLRL\"], [\"LLR\"], [\"RR\"], [\"LRL\"], [\"RL\"], [\"RLLR\"], [\"RL\"], [\"RL\"], [\"LLRLRRL\"], [\"R\"], [\"RRRRR\"], [\"LR\"], [\"RL\"], [\"RL\"], [\"LRRR\"], [\"RLRR\"], [\"LL\"], [\"RLR\"], [\"RL\"], [\"RR\"], [\"RLL\"], [\"RL\"], [\"RL\"], [\"RL\"], [\"LR\"], [\"LL\"], [\"R\"], [\"RL\"], [\"LR\"], [\"LR\"], [\"LLLRLL\"], [\"LL\"], [\"RRLRLR\"], [\"LLRRLL\"], [\"RLL\"], [\"LL\"], [\"LRR\"], [\"LRL\"], [\"LR\"], [\"RLRLR\"], [\"LRLLL\"], [\"RRRLLR\"], [\"RR\"], [\"LRL\"], [\"R\"], [\"RL\"], [\"RRLLLL\"], [\"RR\"], [\"RL\"], [\"LLL\"], [\"RL\"], [\"LR\"], [\"LRR\"], [\"RL\"], [\"RLR\"], [\"LR\"], [\"RL\"], [\"LL\"], [\"RR\"], [\"LRRLR\"], [\"RL\"], [\"LL\"], [\"LR\"], [\"RL\"], [\"RRRLR\"], [\"LRL\"], [\"RRLR\"], [\"RR\"], [\"LLLLRL\"], [\"LLL\"], [\"LR\"], [\"LR\"], [\"L\"], [\"RLR\"], [\"R\"], [\"R\"], [\"RRR\"], [\"LLR\"], [\"LRRR\"], [\"L\"], [\"LRRLL\"], [\"L\"], [\"R\"], [\"L\"], [\"L\"], [\"RRLLLL\"], [\"LLLLRRRRLL\"], [\"L\"], [\"RLLR\"], [\"RLR\"], [\"RRLRRL\"], [\"RL\"], [\"R\"], [\"L\"], [\"L\"], [\"L\"], [\"L\"], [\"LLRRLL\"], [\"R\"], [\"L\"], [\"L\"], [\"LLR\"], [\"L\"], [\"L\"], [\"LLR\"], [\"LR\"], [\"L\"], [\"R\"], [\"R\"], [\"RLR\"], [\"RRRRL\"], [\"R\"], [\"R\"], [\"R\"], [\"L\"], [\"LRRLRLLLR\"], [\"L\"], [\"L\"], [\"RL\"], [\"L\"], [\"R\"], [\"LLL\"], [\"R\"], [\"LR\"], [\"L\"], [\"L\"], [\"L\"], [\"L\"], [\"L\"], [\"R\"], [\"L\"], [\"L\"], [\"L\"], [\"RLLR\"], [\"LLLR\"], [\"R\"], [\"RLR\"], [\"L\"], [\"R\"], [\"L\"], [\"L\"], [\"R\"], [\"LLR\"], [\"R\"], [\"RLRRR\"], [\"R\"], [\"RR\"], [\"RL\"], [\"L\"], [\"LLR\"], [\"R\"], [\"L\"], [\"R\"], [\"R\"], [\"L\"], [\"R\"], [\"L\"], [\"RR\"], [\"L\"], [\"LL\"], [\"L\"], [\"LLR\"], [\"LRLLL\"], [\"L\"], [\"RLRR\"], [\"L\"], [\"RLLLL\"], [\"RLL\"], [\"LLRLRL\"], [\"L\"], [\"LL\"], [\"L\"], [\"LRLLRRR\"], [\"L\"], [\"R\"], [\"L\"], [\"L\"], [\"L\"], [\"R\"], [\"R\"], [\"L\"], [\"L\"], [\"R\"], [\"L\"], [\"LRRLLRR\"], [\"R\"], [\"L\"], [\"LRLLR\"], [\"L\"], [\"L\"], [\"R\"], [\"L\"], [\"LLRL\"], [\"R\"], [\"L\"], [\"LLRLRRLR\"], [\"R\"], [\"RLL\"], [\"L\"], [\"L\"], [\"L\"], [\"R\"], [\"LRLRR\"], [\"R\"], [\"RR\"], [\"R\"], [\"L\"], [\"RLRRL\"], [\"L\"], [\"LL\"], [\"R\"], [\"LR\"], [\"R\"], [\"RRRLLR\"], [\"R\"], [\"RRRL\"], [\"LL\"], [\"RRLRL\"], [\"R\"], [\"R\"], [\"L\"], [\"L\"], [\"RL\"], [\"RL\"], [\"R\"], [\"L\"], [\"R\"], [\"LR\"], [\"L\"], [\"L\"], [\"R\"], [\"R\"], [\"R\"], [\"RRL\"], [\"RRRR\"], [\"R\"], [\"R\"], [\"LR\"], [\"R\"], [\"R\"], [\"L\"], [\"L\"], [\"L\"], [\"RL\"], [\"RRRR\"], [\"RR\"], [\"R\"], [\"R\"], [\"L\"], [\"L\"], [\"R\"], [\"R\"], [\"L\"], [\"R\"], [\"RL\"], [\"LRLRRRRRLLR\"], [\"R\"], [\"R\"], [\"R\"], [\"RLLL\"], [\"L\"], [\"L\"], [\"LL\"], [\"RRLLR\"], [\"R\"], [\"RRLRRL\"], [\"R\"], [\"LLRL\"], [\"R\"], [\"LRRLLL\"], [\"R\"], [\"LLRRLL\"], [\"R\"], [\"RRRRLLR\"], [\"L\"], [\"LLRLR\"], [\"R\"], [\"L\"], [\"LR\"], [\"LL\"], [\"RLLRL\"], [\"RLRLLR\"], [\"L\"], [\"R\"], [\"R\"], [\"RRL\"], [\"LLLRLRR\"], [\"R\"], [\"R\"], [\"RLLLRR\"], [\"L\"], [\"L\"], [\"R\"], [\"LLL\"], [\"L\"], [\"LLRRLR\"], [\"RRRLRLRR\"], [\"R\"], [\"R\"], [\"R\"], [\"RLRRR\"], [\"L\"], [\"R\"], [\"L\"], [\"LR\"], [\"RR\"], [\"LRRLR\"], [\"L\"], [\"R\"], [\"L\"], [\"R\"], [\"R\"], [\"R\"], [\"RLRRL\"], [\"L\"], [\"L\"], [\"LRL\"], [\"R\"], [\"L\"], [\"R\"], [\"RRL\"], [\"L\"], [\"RRLL\"], [\"R\"], [\"R\"], [\"L\"], [\"R\"], [\"LLRR\"], [\"R\"], [\"R\"], [\"R\"], [\"R\"], [\"LLRRLLR\"], [\"LRRR\"], [\"LR\"], [\"R\"], [\"R\"], [\"R\"], [\"R\"], [\"R\"], [\"L\"], [\"R\"], [\"LR\"], [\"LRLL\"], [\"RRLLRL\"], [\"LL\"], [\"R\"], [\"L\"], [\"RRLL\"], [\"RRLRLLR\"], [\"RLR\"], [\"LRLL\"], [\"L\"], [\"L\"], [\"R\"], [\"L\"], [\"LRL\"], [\"RLRRRR\"], [\"LLRLRR\"], [\"R\"], [\"L\"], [\"L\"], [\"R\"], [\"L\"], [\"RRLRR\"], [\"R\"], [\"L\"], [\"RLLLR\"], [\"L\"], [\"L\"], [\"R\"], [\"LL\"], [\"L\"], [\"R\"], [\"RR\"], [\"LRLR\"], [\"RL\"], [\"R\"], [\"LLLLL\"], [\"LLLL\"], [\"RLRLR\"], [\"L\"], [\"R\"], [\"L\"], [\"RLLRRR\"], [\"RR\"], [\"RLRRL\"], [\"L\"], [\"LLRLR\"], [\"L\"], [\"R\"], [\"L\"], [\"R\"], [\"RRL\"], [\"LRL\"], [\"RLL\"], [\"RLLL\"], [\"RRLR\"], [\"RRL\"], [\"LL\"], [\"RRR\"], [\"RLLL\"], [\"L\"], [\"RLLRR\"], [\"R\"], [\"LLLLLRLR\"], [\"R\"], [\"RLRR\"], [\"LLLLL\"], [\"RRLLL\"], [\"L\"], [\"R\"], [\"L\"], [\"L\"], [\"LRLRLRL\"], [\"RLRRR\"], [\"R\"], [\"L\"], [\"L\"], [\"L\"], [\"LRLRL\"], [\"L\"], [\"L\"], [\"R\"], [\"L\"], [\"R\"], [\"LRL\"], [\"R\"], [\"LLLRLRRLLRLLLL\"], [\"RLRLL\"], [\"R\"], [\"R\"], [\"RLRL\"], [\"L\"], [\"RLRLLRR\"], [\"R\"], [\"RRRRR\"], [\"R\"], [\"L\"], [\"R\"], [\"LLL\"], [\"R\"], [\"R\"], [\"L\"], [\"LL\"], [\"LLLR\"], [\"L\"], [\"RR\"], [\"R\"], [\"L\"], [\"L\"], [\"R\"], [\"L\"], [\"LRLLRL\"], [\"L\"], [\"LL\"], [\"L\"], [\"RRLLLL\"], [\"LRLL\"], [\"R\"], [\"R\"], [\"LL\"], [\"R\"], [\"R\"], [\"L\"], [\"LRLL\"], [\"RR\"], [\"LL\"], [\"L\"], [\"LLLRR\"], [\"R\"], [\"L\"], [\"R\"], [\"RRL\"], [\"R\"], [\"LLL\"], [\"R\"], [\"R\"], [\"R\"], [\"L\"], [\"R\"], [\"L\"], [\"L\"], [\"L\"], [\"R\"], [\"LLL\"], [\"RLRRL\"], [\"RLRRRL\"], [\"R\"], [\"R\"], [\"LRRLRL\"], [\"R\"], [\"RRL\"], [\"RLLRRR\"], [\"LRLRLL\"], [\"LR\"], [\"R\"], [\"R\"], [\"RR\"], [\"R\"], [\"R\"], [\"RRL\"], [\"L\"], [\"RLR\"], [\"L\"], [\"R\"], [\"RLR\"], [\"R\"], [\"R\"], [\"L\"], [\"R\"], [\"L\"], [\"R\"], [\"RRLLL\"], [\"LLRLLLR\"], [\"LRLRRRLRR\"], [\"L\"], [\"L\"], [\"LRLL\"], [\"LR\"], [\"LRRLR\"], [\"L\"], [\"L\"], [\"R\"], [\"R\"], [\"L\"], [\"R\"], [\"RRL\"], [\"R\"], [\"L\"], [\"RL\"], [\"RRRLRLRLR\"], [\"LL\"], [\"LLL\"], [\"RLRR\"], [\"R\"], [\"RL\"], [\"L\"], [\"R\"], [\"L\"], [\"L\"], [\"L\"], [\"RRLRLRR\"], [\"RLLR\"], [\"RL\"], [\"RLLRLR\"], [\"L\"], [\"RRL\"], [\"L\"], [\"RR\"], [\"L\"], [\"R\"], [\"L\"], [\"LR\"], [\"L\"], [\"R\"], [\"LL\"], [\"R\"], [\"RRLL\"], [\"LLRL\"], [\"RRL\"], [\"L\"], [\"LLL\"], [\"L\"], [\"L\"], [\"R\"], [\"L\"], [\"L\"], [\"LR\"], [\"R\"], [\"L\"], [\"L\"], [\"R\"], [\"RRLRR\"], [\"LRRLRLL\"], [\"L\"], [\"L\"], [\"L\"], [\"L\"], [\"RL\"], [\"LRLR\"], [\"LRR\"], [\"L\"], [\"RLRRL\"], [\"L\"], [\"R\"], [\"LRLLL\"], [\"LRLLRLLL\"], [\"RRL\"], [\"L\"], [\"L\"], [\"R\"], [\"RRLL\"], [\"R\"], [\"L\"], [\"RLLLLL\"], [\"LL\"], [\"R\"], [\"R\"], [\"RRRRLRL\"], [\"L\"], [\"LRR\"], [\"L\"], [\"R\"], [\"R\"], [\"R\"], [\"LRLRRRRLR\"], [\"RLLLR\"], [\"R\"], [\"L\"], [\"RRL\"], [\"RL\"], [\"L\"], [\"LLRLRRL\"], [\"LRR\"], [\"R\"], [\"LR\"], [\"L\"], [\"RR\"], [\"R\"], [\"L\"], [\"L\"], [\"L\"], [\"L\"], [\"RR\"], [\"R\"], [\"L\"], [\"L\"], [\"R\"], [\"LL\"], [\"L\"], [\"R\"], [\"RR\"], [\"LLLLRL\"], [\"L\"], [\"LL\"], [\"RRRR\"], [\"R\"], [\"L\"], [\"L\"], [\"L\"], [\"R\"], [\"R\"], [\"RRLRRL\"], [\"LL\"], [\"R\"], [\"LR\"], [\"RLLRLRLRLLLL\"], [\"L\"], [\"L\"], [\"RLRLL\"], [\"R\"], [\"R\"], [\"LL\"], [\"R\"], [\"L\"], [\"LLR\"], [\"RLRR\"], [\"RLRLRL\"], [\"LRL\"], [\"R\"], [\"L\"], [\"LLLRRLR\"], [\"RR\"], [\"LRL\"], [\"R\"], [\"RRLLLR\"], [\"R\"], [\"RRL\"], [\"R\"], [\"RL\"], [\"L\"], [\"L\"], [\"L\"], [\"LLRL\"], [\"LLLLLRR\"], [\"L\"], [\"LLRL\"], [\"RL\"], [\"LLR\"], [\"RRRRL\"], [\"RLRRRL\"], [\"L\"], [\"R\"], [\"L\"], [\"LLR\"], [\"L\"], [\"RRR\"], [\"RLLR\"], [\"L\"], [\"L\"], [\"R\"], [\"LRRRR\"], [\"RL\"], [\"R\"], [\"R\"], [\"R\"], [\"L\"], [\"R\"], [\"LRL\"], [\"LLL\"], [\"L\"], [\"R\"], [\"L\"], [\"L\"], [\"L\"], [\"R\"], [\"L\"], [\"L\"], [\"RLRLL\"], [\"R\"], [\"LLL\"], [\"RLR\"], [\"L\"], [\"RLR\"], [\"R\"], [\"L\"], [\"LL\"], [\"L\"], [\"L\"], [\"L\"], [\"RLR\"], [\"L\"], [\"RL\"], [\"RLR\"], [\"R\"], [\"L\"], [\"LRLLL\"], [\"LRR\"], [\"LLLRLL\"], [\"L\"], [\"L\"], [\"RL\"], [\"R\"], [\"RLLLL\"], [\"L\"], [\"R\"], [\"R\"], [\"RLRR\"], [\"LRRRRR\"], [\"L\"], [\"L\"], [\"R\"], [\"R\"], [\"LRRLLRL\"], [\"R\"], [\"R\"], [\"LRLL\"], [\"RRLLR\"], [\"LL\"], [\"LRRLLRRR\"], [\"R\"], [\"LRL\"], [\"RR\"], [\"R\"], [\"LLR\"], [\"R\"], [\"L\"], [\"LLR\"], [\"RR\"], [\"L\"], [\"LRLRLR\"], [\"R\"], [\"R\"], [\"LRRRR\"], [\"LLLLR\"], [\"LL\"], [\"RR\"], [\"LR\"], [\"RL\"], [\"RLL\"], [\"LLR\"], [\"L\"], [\"LRLLR\"], [\"RRL\"], [\"RL\"], [\"LL\"], [\"LLL\"], [\"LLLLL\"], [\"LL\"], [\"RL\"], [\"RR\"], [\"RL\"], [\"LLLLR\"], [\"RRLL\"], [\"RL\"], [\"RRL\"], [\"LLRL\"], [\"RLLRLL\"], [\"RLR\"], [\"LRR\"], [\"LRR\"], [\"LL\"], [\"LLR\"], [\"RL\"], [\"RL\"], [\"RL\"], [\"LLLRLRLLL\"], [\"RR\"], [\"RLLR\"], [\"RR\"], [\"LR\"], [\"RRL\"], [\"LL\"], [\"RR\"], [\"RR\"], [\"LLLRR\"], [\"R\"], [\"LRLRL\"], [\"LL\"], [\"RL\"], [\"RRR\"], [\"LRR\"], [\"RR\"], [\"RLR\"], [\"RR\"], [\"LR\"], [\"LLLLLLLLLRRL\"], [\"RR\"], [\"RR\"], [\"LLLRR\"], [\"RR\"], [\"LLLRR\"], [\"LRRLRRR\"], [\"LR\"], [\"LR\"], [\"RRR\"], [\"LLLLR\"], [\"LL\"], [\"RRL\"], [\"LRL\"], [\"RL\"], [\"LRRL\"], [\"RL\"], [\"LL\"], [\"RLLRRRRR\"], [\"RRRL\"], [\"LLLL\"], [\"LRL\"], [\"LL\"], [\"RRL\"], [\"RRR\"], [\"RL\"], [\"LRLLR\"], [\"LRRLRLRRR\"], [\"LRL\"], [\"LR\"], [\"RRRRRR\"], [\"RL\"], [\"RL\"], [\"RR\"], [\"LR\"], [\"LL\"], [\"LR\"], [\"LR\"], [\"RR\"], [\"LL\"], [\"RR\"], [\"LRLLR\"], [\"RRLLL\"], [\"LRRRRR\"], [\"RLLRRL\"], [\"LR\"], [\"LR\"], [\"RRLLLRLL\"], [\"RLR\"], [\"LRL\"], [\"RR\"], [\"LRRLLLRRRLL\"], [\"RLLL\"], [\"LR\"], [\"RR\"], [\"RL\"], [\"LLR\"], [\"RLRRR\"], [\"RR\"], [\"LR\"], [\"RL\"], [\"RL\"], [\"RLRLRL\"], [\"RLR\"], [\"R\"], [\"R\"], [\"RRRL\"], [\"LR\"], [\"R\"], [\"L\"], [\"L\"], [\"RL\"], [\"R\"], [\"L\"], [\"RRL\"], [\"RR\"], [\"RRLLR\"], [\"RLLLRR\"], [\"LRL\"], [\"LLLLL\"], [\"L\"], [\"R\"], [\"L\"], [\"L\"], [\"L\"], [\"LRL\"], [\"R\"], [\"L\"], [\"R\"], [\"R\"], [\"LRLRRRRLRR\"], [\"R\"], [\"L\"], [\"L\"], [\"LRR\"], [\"L\"], [\"L\"], [\"LLR\"], [\"R\"], [\"R\"], [\"LRLL\"], [\"L\"], [\"L\"], [\"RLLR\"], [\"R\"], [\"LRRLLRL\"], [\"LLL\"], [\"L\"], [\"L\"], [\"R\"], [\"LLL\"], [\"LLLLLLLRLR\"], [\"L\"], [\"R\"], [\"LLRL\"], [\"RLLL\"], [\"R\"], [\"R\"], [\"L\"], [\"L\"], [\"L\"], [\"R\"], [\"RLLR\"], [\"R\"], [\"RRR\"], [\"R\"], [\"L\"], [\"LRL\"], [\"RL\"], [\"LLRLRR\"], [\"LLLLLLL\"], [\"R\"], [\"LL\"], [\"RRLR\"], [\"L\"], [\"RLLRRRR\"], [\"LRRRRR\"], [\"L\"], [\"RRLRRL\"], [\"L\"], [\"L\"], [\"L\"], [\"R\"], [\"R\"], [\"LL\"], [\"LRRL\"], [\"L\"], [\"LR\"], [\"R\"], [\"RR\"], [\"L\"], [\"L\"], [\"L\"], [\"L\"], [\"R\"], [\"R\"], [\"L\"], [\"LLRLR\"], [\"RLLLL\"], [\"LLLL\"], [\"RRRLRLRL\"], [\"RRLRLLR\"], [\"R\"], [\"RLLLRL\"], [\"R\"], [\"LRRLLL\"], [\"L\"], [\"L\"], [\"RRRRLR\"], [\"LRLLRRRR\"], [\"R\"], [\"LR\"], [\"R\"], [\"RLLRL\"], [\"LR\"], [\"L\"], [\"RL\"], [\"L\"], [\"R\"], [\"L\"], [\"LLLRR\"], [\"LLRR\"], [\"L\"], [\"R\"], [\"RL\"], [\"RRLLL\"], [\"L\"], [\"LLRRRLRR\"], [\"LRRLL\"], [\"R\"], [\"L\"], [\"LRRRRRR\"], [\"RRLRRL\"], [\"L\"], [\"R\"], [\"LR\"], [\"L\"], [\"L\"], [\"LRLRLRLRRLR\"], [\"R\"], [\"RLLLLLRRLR\"], [\"R\"], [\"RLLL\"], [\"R\"], [\"RLLLRRLLR\"], [\"RLLLR\"], [\"L\"], [\"LLR\"], [\"L\"], [\"LLR\"], [\"L\"], [\"LLR\"], [\"R\"], [\"LLRRLL\"], [\"L\"], [\"LLLRLLL\"], [\"R\"], [\"LRLRLRL\"], [\"RLL\"], [\"R\"], [\"L\"], [\"R\"], [\"RRLL\"], [\"RLR\"], [\"L\"], [\"L\"], [\"RL\"], [\"L\"], [\"RLR\"], [\"R\"], [\"L\"], [\"L\"], [\"L\"], [\"LRR\"], [\"R\"], [\"LRRL\"], [\"L\"], [\"RRRRR\"], [\"RLLLRL\"], [\"LL\"], [\"R\"], [\"LLRLLRLLL\"], [\"R\"], [\"R\"], [\"L\"], [\"LRLRRRL\"], [\"L\"], [\"L\"], [\"R\"], [\"L\"], [\"L\"], [\"L\"], [\"R\"], [\"RLRLLRL\"], [\"RR\"], [\"R\"], [\"R\"], [\"L\"], [\"LL\"], [\"RLRRR\"], [\"RLL\"], [\"L\"], [\"RL\"], [\"R\"], [\"LLL\"], [\"RRLLLL\"], [\"L\"], [\"RRL\"], [\"R\"], [\"R\"], [\"RRL\"], [\"RLRRR\"], [\"RLRRR\"], [\"R\"], [\"L\"], [\"R\"], [\"L\"], [\"LRLR\"], [\"L\"], [\"R\"], [\"L\"], [\"LLR\"], [\"L\"], [\"L\"], [\"LR\"], [\"RRLRLRLL\"], [\"LL\"], [\"RRLRRRR\"], [\"L\"], [\"LRLLRL\"], [\"L\"], [\"L\"], [\"R\"], [\"L\"], [\"R\"], [\"L\"], [\"L\"], [\"RR\"], [\"R\"], [\"RLLR\"], [\"R\"], [\"R\"], [\"RLRRL\"], [\"RL\"], [\"L\"], [\"LLR\"], [\"RLRLL\"], [\"R\"], [\"R\"], [\"R\"], [\"LRLRRLR\"], [\"R\"], [\"RL\"], [\"LRR\"], [\"L\"], [\"R\"], [\"L\"], [\"RLLRLRLRLLLLLRRLRRR\"], [\"R\"], [\"R\"], [\"LL\"], [\"L\"], [\"R\"], [\"LLR\"], [\"R\"], [\"LLLRLRR\"], [\"RR\"], [\"R\"], [\"L\"], [\"LR\"], [\"L\"], [\"L\"], [\"LLRLR\"], [\"RR\"], [\"L\"], [\"LLR\"], [\"L\"], [\"L\"], [\"LLRLRLL\"], [\"L\"], [\"L\"], [\"LRRLRLLR\"], [\"R\"], [\"RLRR\"], [\"L\"], [\"L\"], [\"LLR\"], [\"R\"], [\"RR\"], [\"R\"], [\"R\"], [\"R\"], [\"R\"], [\"L\"], [\"RRLL\"], [\"L\"], [\"L\"], [\"L\"], [\"R\"], [\"RLLRRLR\"], [\"L\"], [\"L\"], [\"LLRLL\"], [\"L\"], [\"LRRLR\"], [\"RR\"], [\"LRRRRR\"], [\"R\"], [\"RLLLRLLRLLL\"], [\"LR\"], [\"LLL\"], [\"R\"], [\"L\"], [\"R\"], [\"RR\"], [\"L\"], [\"L\"], [\"L\"], [\"L\"], [\"L\"], [\"R\"], [\"L\"], [\"L\"], [\"L\"], [\"R\"], [\"R\"], [\"R\"], [\"LRLR\"], [\"L\"], [\"L\"], [\"L\"], [\"RRL\"], [\"LRRLLRR\"], [\"L\"], [\"L\"], [\"RRLLRL\"], [\"RLLLLLR\"], [\"R\"], [\"LLR\"], [\"R\"], [\"RLRRRL\"], [\"RRLLL\"], [\"L\"], [\"LR\"], [\"L\"], [\"L\"], [\"L\"], [\"L\"], [\"RLLR\"], [\"LLRL\"], [\"R\"], [\"R\"], [\"L\"], [\"L\"], [\"LL\"], [\"RLLRLR\"], [\"L\"], [\"LRLRL\"], [\"RLRLLR\"], [\"RRRRLRL\"], [\"RRLLL\"], [\"RR\"], [\"RLRRL\"], [\"RR\"], [\"LLLLRR\"], [\"LRLL\"], [\"L\"], [\"L\"], [\"LL\"], [\"L\"], [\"L\"], [\"L\"], [\"LRR\"], [\"R\"], [\"L\"], [\"LLLRRLLL\"], [\"R\"], [\"R\"], [\"LRLLRR\"], [\"R\"], [\"L\"], [\"RRR\"], [\"R\"], [\"L\"], [\"LRLR\"], [\"L\"], [\"R\"], [\"LLRL\"], [\"LL\"], [\"L\"], [\"LLLRLRLLLLLL\"], [\"R\"], [\"LRRRLLRLLLR\"], [\"RRRRRR\"], [\"L\"], [\"LRRLR\"], [\"R\"], [\"L\"], [\"RRLL\"], [\"R\"], [\"L\"], [\"R\"], [\"L\"], [\"R\"], [\"R\"], [\"R\"], [\"R\"], [\"L\"], [\"LRLRLLRRRRL\"], [\"RRLLLL\"], [\"RLLRLLR\"], [\"R\"], [\"RRL\"], [\"R\"], [\"R\"], [\"L\"], [\"R\"], [\"L\"], [\"LR\"], [\"RLRLLRRR\"], [\"L\"], [\"R\"], [\"L\"], [\"LRRLRL\"], [\"L\"], [\"LRLL\"], [\"L\"], [\"LRLLR\"], [\"RLRRL\"], [\"L\"], [\"RRRRRRR\"], [\"L\"], [\"RRRLL\"], [\"R\"], [\"LRLLR\"], [\"L\"], [\"LL\"], [\"L\"], [\"LLLLRLRRLLLRLL\"], [\"RR\"], [\"LLLRLRR\"], [\"LLR\"], [\"L\"], [\"R\"], [\"LR\"], [\"R\"], [\"R\"], [\"LRLLR\"], [\"L\"], [\"L\"], [\"L\"], [\"RLRRRL\"], [\"L\"], [\"L\"], [\"RRLLRRLL\"], [\"L\"], [\"LRRR\"], [\"L\"], [\"LLLRRLRR\"], [\"R\"], [\"L\"], [\"LL\"], [\"LRRLLRR\"], [\"L\"], [\"L\"], [\"RRL\"], [\"R\"], [\"L\"], [\"L\"], [\"RLR\"], [\"LRLL\"], [\"RLLRR\"], [\"LL\"], [\"L\"], [\"RR\"], [\"L\"], [\"R\"], [\"RRLLLRR\"], [\"L\"], [\"RLR\"], [\"RLR\"], [\"L\"], [\"R\"], [\"R\"], [\"LLRRR\"], [\"L\"], [\"R\"], [\"R\"], [\"R\"], [\"L\"], [\"L\"], [\"R\"], [\"LL\"], [\"L\"], [\"RLR\"], [\"R\"], [\"R\"], [\"L\"], [\"L\"], [\"L\"], [\"LLRRRL\"], [\"R\"], [\"LLR\"], [\"R\"], [\"L\"], [\"L\"], [\"R\"], [\"RRL\"], [\"LLLR\"], [\"LL\"], [\"R\"], [\"R\"], [\"LRL\"], [\"RR\"], [\"R\"], [\"L\"], [\"L\"], [\"RLRRRRL\"], [\"RRL\"], [\"R\"], [\"RRLL\"], [\"L\"], [\"R\"], [\"LLRRL\"], [\"R\"], [\"LRLRL\"], [\"L\"], [\"L\"], [\"RRRLRLRLRR\"], [\"R\"], [\"L\"], [\"L\"], [\"RRLLLRLLR\"], [\"RRRRLRL\"], [\"L\"], [\"RLRLRL\"], [\"LL\"], [\"L\"], [\"RR\"], [\"R\"], [\"RR\"], [\"L\"], [\"RRLRLRLL\"], [\"RR\"], [\"LLL\"], [\"R\"], [\"L\"], [\"LRLLL\"], [\"LRLLL\"], [\"L\"], [\"LLL\"], [\"L\"], [\"R\"], [\"L\"], [\"R\"], [\"RLRRRRR\"], [\"L\"], [\"LLR\"], [\"R\"], [\"LLL\"], [\"LLLRLRR\"], [\"L\"], [\"L\"], [\"L\"], [\"RRL\"], [\"RR\"], [\"R\"], [\"RRR\"], [\"LLLLRRRRRL\"], [\"R\"], [\"R\"], [\"R\"], [\"RR\"], [\"R\"], [\"RR\"], [\"RLLLL\"], [\"R\"], [\"L\"], [\"L\"], [\"RLR\"], [\"RLR\"], [\"L\"], [\"R\"], [\"L\"], [\"RLR\"], [\"L\"], [\"LLLLLR\"], [\"R\"], [\"RL\"], [\"R\"], [\"RL\"], [\"R\"], [\"R\"], [\"L\"], [\"LLLLR\"], [\"L\"], [\"RLRRR\"], [\"L\"], [\"L\"], [\"L\"], [\"R\"], [\"LRL\"], [\"RRR\"], [\"R\"], [\"L\"], [\"RLL\"], [\"R\"], [\"LLLRRLRLR\"], [\"R\"], [\"RLLL\"], [\"LRL\"], [\"L\"], [\"L\"], [\"RLLRRRLLRRLR\"], [\"L\"], [\"R\"], [\"L\"], [\"LR\"], [\"L\"], [\"L\"], [\"R\"], [\"RR\"], [\"LRL\"], [\"RL\"], [\"L\"], [\"LRR\"], [\"LRRRR\"], [\"RLR\"], [\"LRR\"], [\"R\"], [\"R\"], [\"RLL\"], [\"R\"], [\"R\"], [\"L\"], [\"L\"], [\"R\"], [\"LLR\"], [\"R\"], [\"LL\"], [\"LRLRR\"], [\"R\"], [\"LRLLR\"], [\"RLRRLLLLR\"], [\"RL\"], [\"R\"], [\"L\"], [\"RRLRLRRRR\"], [\"LLR\"], [\"R\"], [\"R\"], [\"RRRRL\"], [\"RLRRRRLLR\"], [\"R\"], [\"L\"], [\"RR\"], [\"R\"], [\"R\"], [\"R\"], [\"L\"], [\"RL\"], [\"R\"], [\"LLLLRRR\"], [\"LRRRLL\"], [\"R\"], [\"LL\"], [\"RRRLRLRRL\"], [\"R\"], [\"RRL\"], [\"R\"], [\"R\"], [\"R\"], [\"LLR\"], [\"LRLLRRLLLRRRLL\"], [\"L\"], [\"LRLL\"], [\"R\"], [\"RLLRRL\"], [\"R\"], [\"LLLRRRLRRR\"], [\"L\"], [\"RLR\"], [\"RRL\"], [\"R\"], [\"L\"], [\"R\"], [\"L\"], [\"LR\"], [\"RR\"], [\"LLL\"], [\"RL\"], [\"RR\"], [\"RLRLLR\"], [\"RRRLRR\"], [\"LRL\"], [\"LLLL\"], [\"RR\"], [\"LR\"], [\"LLLLLLRR\"], [\"LR\"], [\"LL\"], [\"RRRRLLR\"], [\"LR\"], [\"LLRRL\"], [\"RRLRRR\"], [\"R\"], [\"RRL\"], [\"LR\"], [\"LLR\"], [\"LL\"], [\"LL\"], [\"LLLRLRRL\"], [\"RLLLLL\"], [\"RL\"], [\"LRRR\"], [\"RR\"], [\"LL\"], [\"LLLRLR\"], [\"RL\"], [\"RRRR\"], [\"RR\"], [\"RL\"], [\"LL\"], [\"RLR\"], [\"RL\"], [\"RR\"], [\"LLRRLRLRRR\"], [\"LRLRRL\"], [\"LL\"], [\"RL\"], [\"LL\"], [\"RR\"], [\"RL\"], [\"LR\"], [\"RRLR\"], [\"RL\"], [\"RLLLL\"], [\"RRRLRRL\"], [\"R\"], [\"RR\"], [\"LL\"], [\"RLLR\"], [\"RR\"], [\"RLRLR\"], [\"LR\"], [\"RRL\"], [\"LLRLRRRRRLLR\"], [\"RR\"], [\"RLR\"], [\"LLR\"], [\"LL\"], [\"LRL\"], [\"LR\"], [\"RR\"], [\"RLRLLL\"], [\"RRR\"], [\"RRRLLRL\"], [\"RL\"], [\"RLL\"], [\"LR\"], [\"LRLRL\"], [\"RR\"], [\"LL\"], [\"RR\"], [\"RRL\"], [\"RRLLL\"], [\"LR\"], [\"LRL\"], [\"RL\"], [\"RLR\"], [\"LR\"], [\"RL\"], [\"LR\"], [\"RR\"], [\"RL\"], [\"LRRL\"], [\"LR\"], [\"LLRLLLL\"], [\"RLLRRLL\"], [\"RL\"], [\"RL\"], [\"LRL\"], [\"LL\"], [\"RLRRLRLLLR\"], [\"LRLRR\"], [\"LL\"], [\"LL\"], [\"LR\"], [\"RLLRLRRLR\"], [\"RRR\"], [\"RRLRRL\"], [\"LR\"], [\"RLL\"], [\"LL\"], [\"RRL\"], [\"RRLLRRR\"], [\"L\"], [\"LR\"], [\"R\"], [\"LRR\"], [\"L\"], [\"R\"], [\"RR\"], [\"R\"], [\"LR\"], [\"R\"], [\"LRLRLLRR\"], [\"L\"], [\"RLL\"], [\"LL\"], [\"L\"], [\"L\"], [\"RRLLL\"], [\"L\"], [\"LR\"], [\"L\"], [\"L\"], [\"RL\"], [\"RLR\"], [\"R\"], [\"LLLRLRLRL\"], [\"RRLLRLRRRRRLLR\"], [\"R\"], [\"R\"], [\"L\"], [\"L\"], [\"R\"], [\"L\"], [\"L\"], [\"RL\"], [\"R\"], [\"RRLR\"], [\"RLRRR\"], [\"RLRLRL\"], [\"RRL\"], [\"RLLLLLRL\"], [\"LLLLRLRR\"], [\"L\"], [\"LRRLRLR\"], [\"R\"], [\"R\"], [\"R\"], [\"L\"], [\"R\"], [\"LRLLRLRLLRRR\"], [\"LRRLR\"], [\"R\"], [\"L\"], [\"LRRLRLRLLR\"], [\"LLRRLRLR\"], [\"LRL\"], [\"R\"], [\"RLRRLLLL\"], [\"L\"], [\"L\"], [\"LRLRRRL\"], [\"L\"], [\"L\"], [\"RLRL\"], [\"R\"], [\"RRR\"], [\"LRRLR\"], [\"R\"], [\"L\"], [\"L\"], [\"RRL\"], [\"RLR\"], [\"RLL\"], [\"R\"], [\"L\"], [\"LLRRL\"], [\"R\"], [\"R\"], [\"L\"], [\"LLLRRLRL\"], [\"L\"], [\"LLLLLR\"], [\"L\"], [\"LLL\"], [\"LR\"], [\"RRRLRRL\"], [\"L\"], [\"L\"], [\"RR\"], [\"L\"], [\"L\"], [\"RRL\"], [\"R\"], [\"LRLLLR\"], [\"L\"], [\"LLRLL\"], [\"L\"], [\"LRRR\"], [\"L\"], [\"LRLRL\"], [\"R\"], [\"LLRRRL\"], [\"RRL\"], [\"RRL\"], [\"L\"], [\"R\"], [\"R\"], [\"LLR\"], [\"LLRLLLRLRRL\"], [\"L\"], [\"L\"], [\"RLRRL\"], [\"R\"], [\"R\"], [\"R\"], [\"LL\"], [\"RLRRLRLL\"], [\"RRR\"], [\"R\"], [\"R\"], [\"L\"], [\"L\"], [\"R\"], [\"LLLRRLLL\"], [\"L\"], [\"LRR\"], [\"L\"], [\"R\"], [\"L\"], [\"RRLLL\"], [\"R\"], [\"R\"], [\"RLLRRLL\"], [\"R\"], [\"R\"], [\"R\"], [\"R\"], [\"R\"], [\"L\"], [\"LL\"], [\"RR\"], [\"RR\"], [\"RRLLLRLR\"], [\"L\"], [\"L\"], [\"RLLL\"], [\"RRLL\"], [\"R\"], [\"RLRR\"], [\"RRRRLRL\"], [\"L\"], [\"LL\"], [\"R\"], [\"RL\"], [\"RRRLRRR\"], [\"R\"], [\"R\"], [\"R\"], [\"RRLRRL\"], [\"L\"], [\"LR\"], [\"RRLLLL\"], [\"L\"], [\"R\"], [\"R\"], [\"LR\"], [\"R\"], [\"R\"], [\"L\"], [\"LRLL\"], [\"RR\"], [\"L\"], [\"L\"], [\"L\"], [\"R\"], [\"RRRRRRR\"], [\"L\"], [\"LRRRLL\"], [\"R\"], [\"R\"], [\"R\"], [\"LLLRLR\"], [\"L\"], [\"L\"], [\"LRLLRLRRRLL\"], [\"R\"], [\"L\"], [\"RLRLLR\"], [\"RRR\"], [\"L\"], [\"L\"], [\"RR\"], [\"R\"], [\"LRLRRL\"], [\"LRLRRLR\"], [\"R\"], [\"L\"], [\"L\"], [\"L\"], [\"LRR\"], [\"L\"], [\"R\"], [\"RLRRRLLR\"], [\"R\"], [\"L\"], [\"R\"], [\"R\"], [\"L\"], [\"R\"], [\"LLR\"], [\"R\"], [\"LLR\"], [\"L\"], [\"L\"], [\"L\"], [\"L\"], [\"L\"], [\"R\"], [\"R\"], [\"L\"], [\"R\"], [\"RR\"], [\"LLLLRRRRRLL\"], [\"R\"], [\"L\"], [\"L\"], [\"LLLRLRR\"], [\"R\"], [\"LRR\"], [\"L\"], [\"R\"], [\"RLLRLR\"], [\"RLR\"], [\"R\"], [\"R\"], [\"L\"], [\"R\"], [\"R\"], [\"R\"], [\"RRRLRLRLRRRRLLRRLL\"], [\"R\"], [\"L\"], [\"L\"], [\"LRL\"], [\"RRRLL\"], [\"L\"], [\"R\"], [\"R\"], [\"R\"], [\"R\"], [\"R\"], [\"LLR\"], [\"R\"], [\"R\"], [\"L\"], [\"LRL\"], [\"LRRRL\"], [\"L\"], [\"R\"], [\"R\"], [\"LLLLLLRR\"], [\"RLLLLRLLRLLL\"], [\"L\"], [\"RLLLR\"], [\"LLRRRLR\"], [\"R\"], [\"L\"], [\"L\"], [\"R\"], [\"LLRRRL\"], [\"RRL\"], [\"RRLLRRR\"], [\"RLLL\"], [\"LLR\"], [\"R\"], [\"L\"], [\"R\"], [\"RLRLL\"], [\"L\"], [\"L\"], [\"R\"], [\"L\"], [\"LLLRLRR\"], [\"L\"], [\"L\"], [\"R\"], [\"RL\"], [\"L\"], [\"L\"], [\"LRRRRRR\"], [\"RRLLR\"], [\"L\"], [\"RR\"], [\"R\"], [\"LL\"], [\"RLR\"], [\"RRRLLRL\"], [\"R\"], [\"RR\"], [\"LLR\"], [\"L\"], [\"RR\"], [\"LL\"], [\"R\"], [\"L\"], [\"L\"], [\"RR\"], [\"LLLRLLL\"], [\"LRLRLRL\"], [\"R\"], [\"R\"], [\"R\"], [\"RRLRRR\"], [\"R\"], [\"L\"], [\"L\"], [\"L\"], [\"RLRRRRLLR\"], [\"LLR\"], [\"L\"], [\"R\"], [\"LRLRLR\"], [\"LLLRR\"], [\"RRR\"], [\"L\"], [\"RRLRRRR\"], [\"L\"], [\"R\"], [\"L\"], [\"RLLLRR\"], [\"LRL\"], [\"R\"], [\"LRRRR\"], [\"R\"], [\"R\"], [\"LLR\"], [\"R\"], [\"R\"], [\"R\"], [\"RR\"], [\"LLR\"], [\"R\"], [\"RLR\"], [\"RLLRRL\"], [\"R\"], [\"LR\"], [\"RLL\"], [\"L\"], [\"L\"], [\"LL\"], [\"L\"], [\"L\"], [\"RLRRLR\"], [\"L\"], [\"LLLL\"], [\"L\"], [\"R\"], [\"RRRRR\"], [\"R\"], [\"R\"], [\"L\"], [\"R\"], [\"RR\"], [\"L\"], [\"L\"], [\"RLL\"], [\"LRL\"], [\"L\"], [\"L\"], [\"RLRRRRRRLR\"], [\"RL\"], [\"RLR\"], [\"LR\"], [\"L\"], [\"RR\"], [\"L\"], [\"RLRRR\"], [\"RRRRL\"], [\"L\"], [\"RRLLLL\"], [\"L\"], [\"RR\"], [\"RL\"], [\"RLLRLRRL\"], [\"LRLLR\"], [\"LRLRRLLRL\"], [\"LLRRLRL\"], [\"R\"], [\"R\"], [\"LLL\"], [\"LRRLL\"], [\"RR\"], [\"RRLRLLR\"], [\"R\"], [\"L\"], [\"R\"], [\"R\"], [\"LR\"], [\"R\"], [\"L\"], [\"L\"], [\"LLLLRRR\"], [\"R\"], [\"RLLRLR\"], [\"L\"], [\"LL\"], [\"L\"], [\"R\"], [\"R\"], [\"R\"], [\"L\"], [\"R\"], [\"RR\"], [\"L\"], [\"L\"], [\"LRLL\"], [\"L\"], [\"LRRRLLRLLLRLRR\"], [\"L\"], [\"R\"], [\"L\"], [\"L\"], [\"L\"], [\"R\"], [\"L\"], [\"RLL\"], [\"R\"], [\"L\"], [\"L\"], [\"R\"], [\"RLRLLLL\"], [\"RLLRRLRR\"], [\"R\"], [\"LLRLRLRLR\"], [\"R\"], [\"L\"], [\"LLRLRR\"], [\"L\"], [\"RRLRRLL\"], [\"RLRR\"], [\"L\"], [\"L\"], [\"L\"], [\"LLRLR\"], [\"L\"], [\"RRLL\"], [\"RRL\"], [\"R\"], [\"LR\"], [\"RRL\"], [\"R\"], [\"L\"], [\"LRLLLRR\"], [\"L\"], [\"RLRR\"], [\"LLRRLL\"], [\"L\"], [\"LLRRL\"], [\"RRLLLRLL\"], [\"LRRLLLR\"], [\"RRLLLRR\"], [\"R\"], [\"LRLLL\"], [\"L\"], [\"R\"], [\"RL\"], [\"L\"], [\"R\"], [\"L\"], [\"R\"], [\"L\"], [\"L\"], [\"R\"], [\"LLL\"], [\"LLLRLRLL\"], [\"R\"], [\"R\"], [\"RRLRRL\"], [\"L\"], [\"RLRLR\"], [\"LLLL\"], [\"R\"], [\"RLRLRL\"], [\"RR\"], [\"RRLLLR\"], [\"LLLLLLLR\"], [\"L\"], [\"L\"], [\"LLLRRRLRRRL\"], [\"LLR\"], [\"LL\"], [\"L\"], [\"LRL\"], [\"LLR\"], [\"LRLLRR\"], [\"RLR\"], [\"L\"], [\"L\"], [\"R\"], [\"R\"], [\"L\"], [\"RRLL\"], [\"R\"], [\"L\"], [\"R\"], [\"RLLLL\"], [\"LLRRLLRL\"], [\"RLRLLR\"], [\"L\"], [\"L\"], [\"L\"], [\"R\"], [\"L\"], [\"RLLLRRLL\"], [\"L\"], [\"LRRL\"], [\"L\"], [\"LLRLRLRRR\"], [\"R\"], [\"RRLLR\"], [\"L\"], [\"LRRRRR\"], [\"L\"], [\"L\"], [\"L\"], [\"LLRRRRLLR\"], [\"RLRRRLRLLRRLLLRRRLL\"], [\"LLRLLLL\"], [\"L\"], [\"RRLRLRLLRRLR\"], [\"R\"], [\"LRRLLRR\"], [\"L\"], [\"RLLRL\"], [\"R\"], [\"L\"], [\"LR\"], [\"L\"], [\"RRRRLR\"], [\"RRL\"], [\"L\"], [\"RLLRR\"], [\"LLR\"], [\"RRL\"], [\"LRLR\"], [\"L\"], [\"R\"], [\"LL\"], [\"R\"], [\"R\"], [\"L\"], [\"L\"], [\"RL\"], [\"LLLLR\"], [\"LLL\"], [\"R\"], [\"LLRLRLRLLRL\"], [\"L\"], [\"L\"], [\"L\"], [\"L\"], [\"R\"], [\"L\"], [\"R\"], [\"L\"], [\"L\"], [\"L\"], [\"LLR\"], [\"LLLRL\"], [\"RLLLRLLR\"], [\"L\"], [\"L\"], [\"RL\"], [\"RLLRL\"], [\"L\"], [\"R\"], [\"L\"], [\"L\"], [\"RR\"], [\"L\"], [\"R\"], [\"RRLRRLRLLR\"], [\"R\"], [\"LL\"], [\"RLLL\"], [\"LL\"], [\"R\"], [\"RLLRL\"], [\"R\"], [\"LLLL\"], [\"R\"], [\"L\"], [\"R\"], [\"L\"], [\"RRRRLRL\"], [\"LLL\"], [\"R\"], [\"R\"], [\"RRRLRL\"], [\"R\"], [\"L\"], [\"L\"], [\"RR\"], [\"RRLRLRRRR\"], [\"R\"], [\"R\"], [\"LR\"], [\"RRRR\"], [\"RLRLR\"], [\"RL\"], [\"L\"], [\"L\"], [\"R\"], [\"L\"], [\"RLLL\"], [\"LLL\"], [\"L\"], [\"R\"], [\"L\"], [\"LRRLR\"], [\"R\"], [\"L\"], [\"L\"], [\"LLLR\"], [\"R\"], [\"L\"], [\"R\"], [\"L\"], [\"R\"], [\"RLRRRL\"], [\"R\"], [\"LLRL\"], [\"R\"], [\"RR\"], [\"RLLR\"], [\"L\"], [\"LL\"], [\"L\"], [\"RR\"], [\"L\"], [\"RRR\"], [\"R\"], [\"L\"], [\"R\"], [\"LL\"], [\"LLR\"], [\"LLLLRR\"], [\"L\"], [\"RRRLRLRRLRLLRLRLRLLLLLRRLRRR\"], [\"R\"], [\"L\"], [\"L\"], [\"RRL\"], [\"LLR\"], [\"RLLLL\"], [\"RLR\"], [\"LLRLLR\"], [\"LL\"], [\"L\"], [\"L\"], [\"R\"], [\"R\"], [\"RLLRRRLL\"], [\"L\"], [\"RRLL\"], [\"R\"], [\"L\"], [\"R\"], [\"R\"], [\"R\"], [\"RRLLL\"], [\"L\"], [\"RRL\"], [\"LRLLLLLL\"], [\"LRLLL\"], [\"L\"], [\"R\"], [\"L\"], [\"RLRR\"], [\"RLRRRRL\"], [\"LLR\"], [\"LLRRRLRR\"], [\"RRLLR\"], [\"RLLL\"], [\"L\"], [\"R\"], [\"LRRLLRL\"], [\"LRLR\"], [\"LRLLRRRR\"], [\"L\"], [\"L\"], [\"R\"], [\"LL\"], [\"RR\"], [\"L\"], [\"L\"], [\"R\"], [\"R\"], [\"LRLLR\"], [\"L\"], [\"R\"], [\"LRR\"], [\"RL\"], [\"L\"], [\"L\"], [\"R\"], [\"RRL\"], [\"LR\"], [\"LLLL\"], [\"RLRLL\"], [\"LLRRL\"], [\"LRLLRLLR\"], [\"RRRRLRLRL\"], [\"LLLRLL\"], [\"LL\"], [\"LRL\"], [\"RR\"], [\"R\"], [\"RL\"], [\"RLLRLRLL\"], [\"RL\"], [\"RRLR\"], [\"R\"], [\"LL\"], [\"LLRLRL\"], [\"LRL\"], [\"RL\"], [\"LR\"], [\"LLLL\"], [\"RLRLRLRLRRLR\"], [\"RR\"], [\"LL\"], [\"RR\"], [\"RLRLRL\"], [\"LR\"], [\"RRR\"], [\"LLLLLLLL\"], [\"LLL\"], [\"LL\"], [\"RRL\"], [\"RR\"], [\"LRRL\"], [\"LRLRRL\"], [\"LR\"], [\"RL\"], [\"RR\"], [\"LRLLLRL\"], [\"LLR\"], [\"RR\"], [\"LR\"], [\"RL\"], [\"RLR\"], [\"LRRL\"], [\"RL\"], [\"RL\"], [\"RL\"], [\"RR\"], [\"RRLLLL\"], [\"RLRR\"], [\"LR\"], [\"LLRRLLRR\"], [\"RL\"], [\"RLLLRLRR\"], [\"RR\"], [\"LRRLR\"], [\"LRLLR\"], [\"RRR\"], [\"RL\"], [\"LRRRRRRR\"], [\"LR\"], [\"RRL\"], [\"R\"], [\"RRLLRRRR\"], [\"RRRRR\"], [\"LL\"], [\"LR\"], [\"LLRLLRR\"], [\"LLRRLRL\"], [\"LRR\"], [\"RL\"], [\"RRLLLLL\"], [\"R\"], [\"RR\"], [\"RR\"], [\"LRLL\"], [\"RL\"], [\"LLLL\"], [\"RRL\"], [\"LR\"], [\"RLRLRR\"], [\"LRLLRR\"], [\"RR\"], [\"R\"], [\"LR\"], [\"LL\"], [\"LRL\"], [\"RLL\"], [\"RL\"], [\"LRRLL\"], [\"RR\"], [\"RLL\"], [\"LLL\"], [\"RRLLLRL\"], [\"LL\"], [\"LRRLRLRLL\"], [\"RL\"], [\"RLLR\"], [\"RRRL\"], [\"RLLLRRLRR\"], [\"LL\"], [\"LRLLLLLRRLR\"], [\"RRLR\"], [\"RLRLRRRRLRR\"], [\"LL\"], [\"RL\"], [\"LR\"], [\"RLRRRRR\"], [\"LRLR\"], [\"R\"], [\"L\"], [\"LL\"], [\"LRRL\"], [\"LRRLRLRRR\"], [\"R\"], [\"RRL\"], [\"R\"], [\"R\"], [\"RLLLRLLR\"], [\"RLLLRR\"], [\"L\"], [\"L\"], [\"RL\"], [\"L\"], [\"L\"], [\"RLLR\"], [\"LR\"], [\"L\"], [\"L\"], [\"L\"], [\"RLRLRRRRLRRR\"], [\"LRRRRRL\"], [\"L\"], [\"LLRR\"], [\"RLL\"], [\"L\"], [\"RLRRLLLL\"], [\"R\"], [\"L\"], [\"R\"], [\"L\"], [\"L\"], [\"L\"], [\"RLR\"], [\"L\"], [\"L\"], [\"LLRLL\"], [\"L\"], [\"R\"], [\"LRRLLRL\"], [\"R\"], [\"R\"], [\"RLRRRRR\"], [\"L\"], [\"LRLLRL\"], [\"LL\"], [\"L\"], [\"LLR\"], [\"RLLR\"], [\"L\"], [\"R\"], [\"R\"], [\"L\"], [\"R\"], [\"R\"], [\"L\"], [\"RRLLLLL\"], [\"LRLRRLRL\"], [\"R\"], [\"RLR\"], [\"LRR\"], [\"LL\"], [\"RLLRRL\"], [\"R\"], [\"LLRRLLRRR\"], [\"R\"], [\"R\"], [\"RLL\"], [\"LRLLLLLL\"], [\"LRLLRRRR\"], [\"L\"], [\"LRLLLLLRRLRRR\"], [\"R\"], [\"R\"], [\"R\"], [\"LLLRLRR\"], [\"R\"], [\"L\"], [\"L\"], [\"LRRLLRRLRRLLLR\"], [\"L\"], [\"R\"], [\"RRL\"], [\"R\"], [\"R\"], [\"R\"], [\"R\"], [\"L\"], [\"LLRRLL\"], [\"LLLL\"], [\"L\"], [\"RLLRR\"], [\"L\"], [\"LLRLLLLLL\"], [\"L\"], [\"RLRRRL\"], [\"RRLRLRRL\"], [\"R\"], [\"RRL\"], [\"RL\"], [\"RR\"], [\"RRLL\"], [\"L\"], [\"L\"], [\"L\"], [\"R\"], [\"R\"], [\"L\"], [\"LR\"], [\"LLRRRRLLR\"], [\"L\"], [\"RL\"], [\"LR\"], [\"L\"], [\"R\"], [\"LL\"], [\"L\"], [\"RRR\"], [\"LLL\"], [\"L\"], [\"RRLLRRRR\"], [\"LLLLRLRR\"], [\"RL\"], [\"L\"], [\"R\"], [\"RRL\"], [\"RRR\"], [\"L\"], [\"L\"], [\"L\"], [\"R\"], [\"R\"], [\"RRRRRRRL\"], [\"R\"], [\"LRRRLLL\"], [\"RLRRRRRRLR\"], [\"RLR\"], [\"R\"], [\"R\"], [\"LRRLRRLRLLLL\"], [\"R\"], [\"R\"], [\"L\"], [\"RLRRRRRR\"], [\"RRL\"], [\"L\"], [\"RLLLL\"], [\"L\"], [\"L\"], [\"R\"], [\"R\"], [\"LLLLLLLR\"], [\"R\"], [\"R\"], [\"R\"], [\"R\"], [\"L\"], [\"RRLLL\"], [\"L\"], [\"RRRLLL\"], [\"R\"], [\"R\"], [\"L\"], [\"L\"], [\"R\"], [\"RLRRRRLLRR\"], [\"R\"], [\"R\"], [\"RRLR\"], [\"LLRLRLRRR\"], [\"LLLLLRL\"], [\"LLLL\"], [\"RRLLRRLLRRRLL\"], [\"L\"], [\"RR\"], [\"LL\"], [\"R\"], [\"L\"], [\"RLLLLLRLLRR\"], [\"L\"], [\"R\"], [\"L\"], [\"RRLLLRLR\"], [\"RRLLRRR\"], [\"R\"], [\"L\"], [\"R\"], [\"RL\"], [\"L\"], [\"R\"], [\"RR\"], [\"R\"], [\"L\"], [\"RRRL\"], [\"LRLR\"], [\"LR\"], [\"L\"], [\"RRLRRRRRLLL\"], [\"RR\"], [\"LRRL\"], [\"R\"], [\"L\"], [\"LLRRRLLLLRL\"], [\"RR\"], [\"L\"], [\"LLLRLRRRL\"], [\"RRRRLR\"], [\"L\"], [\"R\"], [\"L\"], [\"R\"], [\"R\"], [\"R\"], [\"R\"], [\"R\"], [\"LLRRLLRL\"], [\"L\"], [\"RR\"], [\"LL\"], [\"R\"], [\"R\"], [\"RLLRLRRRR\"], [\"RLLRLRLRRLR\"], [\"L\"], [\"RRL\"], [\"L\"], [\"LRL\"], [\"LLLLRRRRRLLRR\"], [\"L\"], [\"RRLLR\"], [\"LR\"], [\"L\"], [\"R\"], [\"R\"], [\"RLLRLRRRL\"], [\"LLRLLRR\"], [\"LLRLLLR\"], [\"R\"], [\"LLRLR\"], [\"R\"], [\"L\"], [\"L\"], [\"L\"], [\"R\"], [\"L\"], [\"RRLL\"], [\"RR\"], [\"RLLRLR\"], [\"R\"], [\"R\"], [\"L\"], [\"LRLLRLRLL\"], [\"R\"], [\"L\"], [\"RRLL\"], [\"LLL\"], [\"R\"], [\"R\"], [\"L\"], [\"RLLRL\"], [\"L\"], [\"RRLLLLRL\"], [\"R\"], [\"R\"], [\"L\"], [\"L\"], [\"LLLRRRLRRRLR\"], [\"R\"], [\"R\"], [\"RRLLRLRRRRRLLRRRRLRLRLRRRRLLRRLL\"], [\"RLRLRL\"], [\"R\"], [\"RLRRLR\"], [\"L\"], [\"RLR\"], [\"RRLLLRLL\"], [\"L\"], [\"R\"], [\"L\"], [\"RRR\"], [\"RRLRRRRRRR\"], [\"LLRLR\"], [\"R\"], [\"L\"], [\"RLLRRLLR\"], [\"L\"], [\"R\"], [\"R\"], [\"L\"], [\"LL\"], [\"R\"], [\"L\"], [\"LRRLR\"], [\"R\"], [\"L\"], [\"L\"], [\"R\"], [\"LLR\"], [\"LLRRLRL\"], [\"LR\"], [\"LLRLRLRLL\"], [\"RLRLR\"], [\"LRLRLR\"], [\"LRRRRRLLLL\"], [\"R\"], [\"LRLLR\"], [\"L\"], [\"R\"], [\"LRL\"], [\"RRR\"], [\"R\"], [\"LRLLL\"], [\"L\"], [\"L\"], [\"LLRRRL\"], [\"LRLLRLLR\"], [\"LRLLRR\"], [\"L\"], [\"R\"], [\"R\"], [\"RLLRLRLL\"], [\"L\"], [\"LRLR\"], [\"R\"], [\"L\"], [\"R\"], [\"LL\"], [\"RRLR\"], [\"LLRLL\"], [\"R\"], [\"RRLR\"], [\"L\"], [\"L\"], [\"L\"], [\"L\"], [\"LRL\"], [\"LRLLLRL\"], [\"L\"], [\"R\"], [\"RLLLLRL\"], [\"L\"], [\"LLRLLL\"], [\"L\"], [\"LRLLRLRRR\"], [\"LL\"], [\"L\"], [\"L\"], [\"LRRLRLRLL\"], [\"R\"], [\"LLLRLRL\"], [\"R\"], [\"L\"], [\"L\"], [\"RLRR\"], [\"RRRRLR\"], [\"LRRLRLRLL\"], [\"R\"], [\"L\"], [\"RR\"], [\"RR\"], [\"L\"], [\"RRLLRRL\"], [\"L\"], [\"RRLRRL\"], [\"LLLLRR\"], [\"R\"], [\"LLR\"], [\"R\"], [\"L\"], [\"R\"], [\"L\"], [\"RLRLRL\"], [\"L\"], [\"L\"], [\"L\"], [\"LLRLRR\"], [\"L\"], [\"RRLRRRRR\"], [\"R\"], [\"LLR\"], [\"L\"], [\"R\"], [\"R\"], [\"L\"], [\"RL\"], [\"LLR\"], [\"L\"], [\"RL\"], [\"RLLRLRRL\"], [\"L\"], [\"LLRRRLRR\"], [\"L\"], [\"R\"], [\"R\"], [\"RR\"], [\"L\"], [\"R\"], [\"R\"], [\"R\"], [\"L\"], [\"LRL\"], [\"L\"], [\"L\"], [\"R\"], [\"LLLRR\"], [\"RRL\"], [\"L\"], [\"LLLL\"], [\"RLLL\"], [\"L\"], [\"RRLR\"], [\"R\"], [\"RL\"], [\"LLLRLRLLLRLR\"], [\"L\"], [\"L\"], [\"LLLR\"], [\"L\"], [\"L\"], [\"L\"], [\"LLLL\"], [\"L\"], [\"R\"], [\"L\"], [\"L\"], [\"RRLRRR\"], [\"L\"], [\"R\"], [\"RRRRRLR\"], [\"R\"], [\"RRRLRRL\"], [\"RRLLLL\"], [\"L\"], [\"LRLL\"], [\"R\"], [\"L\"], [\"R\"], [\"LLRRL\"], [\"LLRR\"], [\"R\"], [\"R\"], [\"RLRRLRLL\"], [\"RLRRRLLRLLLR\"], [\"L\"], [\"R\"], [\"L\"], [\"LLLL\"], [\"RLRRR\"], [\"L\"], [\"RRL\"], [\"RRLLLRR\"], [\"L\"], [\"LLLRLLR\"], [\"R\"], [\"LL\"], [\"RR\"], [\"RLRRRRL\"], [\"R\"], [\"L\"], [\"LR\"], [\"L\"], [\"L\"], [\"L\"], [\"R\"], [\"L\"], [\"R\"], [\"L\"], [\"L\"], [\"L\"], [\"RLR\"], [\"LLRRLRL\"], [\"L\"], [\"RLLRL\"], [\"L\"], [\"RLRLLR\"], [\"L\"], [\"R\"], [\"LLR\"], [\"R\"], [\"R\"], [\"L\"], [\"L\"], [\"LRRLL\"], [\"L\"], [\"L\"], [\"LRRRRRLRL\"], [\"L\"], [\"RLRRRLRLR\"], [\"RRRLRR\"], [\"L\"], [\"R\"], [\"RL\"], [\"L\"], [\"LL\"], [\"R\"], [\"LLLRRLLL\"], [\"LRLLLRR\"], [\"R\"], [\"LRLL\"], [\"L\"], [\"LLLLLLLL\"], [\"LRLR\"], [\"L\"], [\"R\"], [\"R\"], [\"LLRR\"], [\"LL\"], [\"R\"], [\"LLRLLLRLR\"], [\"RR\"], [\"L\"], [\"L\"], [\"R\"], [\"L\"], [\"LLRRRLRL\"], [\"R\"], [\"R\"], [\"RR\"], [\"R\"], [\"R\"], [\"R\"], [\"RLRL\"], [\"L\"], [\"LR\"], [\"RRRRLRLRL\"], [\"L\"], [\"RLR\"], [\"RRL\"], [\"L\"], [\"R\"], [\"RRRLL\"], [\"RLLLRRLL\"], [\"RRL\"], [\"R\"], [\"LRRRLR\"], [\"L\"], [\"R\"], [\"RRLLRLRLRLR\"], [\"RL\"], [\"RLLL\"], [\"R\"], [\"LRLRRLLRL\"], [\"RRLRRLL\"], [\"R\"], [\"RRRLRLRRLRLLRLRLRLLLLLRRLRRRR\"], [\"L\"], [\"L\"], [\"L\"], [\"R\"], [\"R\"], [\"L\"], [\"L\"], [\"RLRLLRLRR\"], [\"LLL\"], [\"R\"], [\"L\"], [\"L\"], [\"R\"], [\"L\"], [\"LLRLLL\"], [\"R\"], [\"L\"], [\"RLL\"], [\"R\"], [\"L\"], [\"L\"], [\"R\"], [\"RLLLR\"], [\"R\"], [\"LRLLR\"], [\"L\"], [\"LRRRL\"], [\"RRR\"], [\"LRLLR\"], [\"R\"], [\"R\"], [\"R\"], [\"R\"], [\"RRLRRLR\"], [\"R\"], [\"L\"], [\"L\"], [\"RRLLLRLRRLLL\"], [\"L\"], [\"LLRRL\"], [\"LLRRLRLR\"], [\"LLLLR\"], [\"L\"], [\"R\"], [\"R\"], [\"L\"], [\"L\"], [\"LLLRLLL\"], [\"L\"], [\"RLLL\"], [\"RLRRR\"], [\"R\"], [\"RRRL\"], [\"L\"], [\"R\"], [\"LRR\"], [\"R\"], [\"RRLRLRRRR\"], [\"RL\"], [\"RL\"], [\"R\"], [\"LR\"], [\"LL\"], [\"L\"], [\"R\"], [\"R\"], [\"LRLLL\"], [\"LRLLRR\"], [\"L\"], [\"R\"], [\"LLLLRRR\"], [\"RLLL\"], [\"RLRRLRLRLLRR\"], [\"R\"], [\"R\"], [\"RRLR\"], [\"L\"], [\"L\"], [\"L\"], [\"LRLRR\"], [\"RRR\"], [\"RLRR\"], [\"R\"], [\"LLLRRLL\"], [\"L\"], [\"L\"], [\"RLR\"], [\"LLRRR\"], [\"L\"], [\"LLLL\"], [\"RRRLRL\"], [\"L\"], [\"R\"], [\"L\"], [\"L\"], [\"L\"], [\"R\"], [\"L\"], [\"L\"], [\"LRLLLRR\"], [\"RRR\"], [\"L\"], [\"L\"], [\"L\"], [\"LRL\"], [\"LRLRLRL\"], [\"L\"], [\"LR\"], [\"RLLLRLRRLLL\"], [\"R\"], [\"RRLLR\"], [\"LLR\"], [\"R\"], [\"L\"], [\"RLLRL\"], [\"LRRRLLRLL\"], [\"R\"], [\"RRLLLRL\"], [\"L\"], [\"R\"], [\"RRL\"], [\"L\"], [\"LRRRR\"], [\"L\"], [\"R\"], [\"L\"], [\"RRLLL\"], [\"R\"], [\"L\"], [\"R\"], [\"L\"], [\"LRRLRR\"], [\"L\"], [\"RL\"], [\"RLLRRLRR\"], [\"RLLLLRLLR\"], [\"RLL\"], [\"R\"], [\"RLRR\"], [\"RR\"], [\"LLR\"], [\"RRLLLRRLRR\"], [\"LRRLRLLR\"], [\"LL\"], [\"LR\"], [\"LRL\"], [\"LR\"], [\"RR\"], [\"LRRRLRRR\"], [\"LRRLLLR\"], [\"LLRRLL\"], [\"RLRLRL\"], [\"RL\"], [\"RR\"], [\"LR\"], [\"LRRLR\"], [\"LRLR\"], [\"RLRLLR\"], [\"LRRRR\"], [\"RR\"], [\"RRL\"], [\"RLLL\"], [\"RL\"], [\"RLLR\"], [\"LR\"], [\"LLLLLLLRR\"], [\"LRR\"], [\"RLLLL\"], [\"LR\"], [\"LL\"], [\"LR\"], [\"LL\"], [\"LR\"], [\"RRR\"], [\"RRRLRLRLLRRLR\"], [\"LRLRLRL\"], [\"LLR\"], [\"LL\"], [\"LR\"], [\"RL\"], [\"LL\"], [\"RL\"], [\"LR\"], [\"RLRLRRL\"], [\"RL\"], [\"RLLLRRLRL\"], [\"RL\"], [\"RLLLRLRLRL\"], [\"LRR\"], [\"LRLRLRR\"], [\"LL\"], [\"LR\"], [\"LRLRLL\"], [\"R\"], [\"RRLLR\"], [\"LL\"], [\"LRLRLLR\"], [\"LR\"], [\"RR\"], [\"LLL\"], [\"LR\"], [\"RLLRLRL\"], [\"LLR\"], [\"RLRLLL\"], [\"RRLRRRLRLLRRLLLRRRLL\"], [\"RLRRRRRR\"], [\"RR\"], [\"RRRRL\"], [\"LL\"], [\"RL\"], [\"RL\"], [\"RR\"], [\"RL\"], [\"RRR\"], [\"LRLLL\"], [\"LR\"], [\"RLLR\"], [\"RR\"], [\"LRLRLRLRLRRLR\"], [\"RR\"], [\"RRLRRL\"], [\"RL\"], [\"RR\"], [\"LLLR\"], [\"RLLRRL\"], [\"RR\"], [\"LLL\"], [\"LL\"], [\"RL\"], [\"RLL\"], [\"LR\"], [\"LRRRRLRL\"], [\"LRR\"], [\"RL\"], [\"RR\"], [\"LL\"], [\"LL\"], [\"LL\"], [\"RRLRLR\"], [\"LLRL\"], [\"RRRL\"], [\"LL\"], [\"LLLR\"], [\"RRRLRRLRLLR\"], [\"RL\"], [\"LR\"], [\"RRRRLLRL\"], [\"LLLR\"], [\"LRLRR\"], [\"RLLRLLR\"], [\"LRLLLRR\"], [\"LLL\"], [\"RRLLRRL\"], [\"R\"], [\"RRL\"], [\"RLLRL\"], [\"L\"], [\"R\"], [\"RLRLLR\"], [\"L\"], [\"LLRLLRR\"], [\"LLLR\"], [\"LLLLRRR\"], [\"L\"], [\"L\"], [\"LLL\"], [\"LRLLLRR\"], [\"RL\"], [\"L\"], [\"R\"], [\"LLLRLRL\"], [\"RRLRRLRRLLRLR\"], [\"RR\"], [\"LRLLRL\"], [\"L\"], [\"LLLLRLRR\"], [\"R\"], [\"RLR\"], [\"RLLRLRRRL\"], [\"L\"], [\"L\"], [\"R\"], [\"L\"], [\"L\"], [\"R\"], [\"LLLL\"], [\"LLRL\"], [\"R\"], [\"R\"], [\"R\"], [\"LRRRLLRLLL\"], [\"LLRRLLRL\"], [\"R\"], [\"LLLRLRLLR\"], [\"L\"], [\"R\"], [\"R\"], [\"L\"], [\"R\"], [\"L\"], [\"L\"], [\"LLRRLLRRR\"], [\"RLRLRRLRRL\"], [\"L\"], [\"LLL\"], [\"RLL\"], [\"RRL\"], [\"R\"], [\"L\"], [\"RR\"], [\"L\"], [\"LRR\"], [\"LLRLLL\"], [\"R\"], [\"LLRRL\"], [\"R\"], [\"R\"], [\"LLLLLLLRLRRRRLRL\"], [\"LRLLR\"], [\"L\"], [\"R\"], [\"LRRLRLLR\"], [\"L\"], [\"LLLRLLRLLR\"], [\"L\"], [\"RRLL\"], [\"RRLL\"], [\"R\"], [\"R\"], [\"LRRLLLR\"], [\"LLL\"], [\"L\"], [\"LRLLLR\"], [\"R\"], [\"L\"], [\"LLLLRRRRRLLRRRR\"], [\"LRLRR\"], [\"L\"], [\"R\"], [\"RRLLLRLLR\"], [\"R\"], [\"RLRLLR\"], [\"LLRRLLRR\"], [\"L\"], [\"R\"], [\"L\"], [\"L\"], [\"R\"], [\"LRLR\"], [\"LLL\"], [\"L\"], [\"R\"], [\"RL\"], [\"L\"], [\"R\"], [\"R\"], [\"R\"], [\"LL\"], [\"R\"], [\"L\"], [\"R\"], [\"R\"], [\"R\"], [\"LRLLLRR\"], [\"LLLLLLLRR\"], [\"L\"], [\"LLRLRLRLL\"], [\"R\"], [\"RRRRLLRLL\"], [\"L\"], [\"RRLRLRRLLRR\"], [\"R\"], [\"R\"], [\"RLLRLRRRR\"], [\"RLLLRRLRL\"], [\"L\"], [\"R\"], [\"RRR\"], [\"RR\"], [\"R\"], [\"R\"], [\"LR\"], [\"R\"], [\"R\"], [\"LLLRLRRRL\"], [\"R\"], [\"RRR\"], [\"L\"], [\"R\"], [\"L\"], [\"RLRRLRLLR\"], [\"L\"], [\"RLLLRR\"], [\"R\"], [\"LRRLRR\"], [\"R\"], [\"R\"], [\"RRLRLLR\"], [\"L\"], [\"R\"], [\"R\"], [\"R\"], [\"R\"], [\"RRRRLRRLLLLRLLR\"], [\"R\"], [\"LRLLL\"], [\"L\"], [\"R\"], [\"L\"], [\"L\"], [\"LRRLRRLRR\"], [\"LRRLRLRRRL\"], [\"L\"], [\"L\"], [\"LLRRL\"], [\"L\"], [\"L\"], [\"LLR\"], [\"RRLLRR\"], [\"LLRLL\"], [\"R\"], [\"RLLRLLLRRLL\"], [\"L\"], [\"L\"], [\"R\"], [\"LLR\"], [\"L\"], [\"L\"], [\"LLL\"], [\"R\"], [\"RLRRRLLRLL\"], [\"RRRRLRLRL\"], [\"R\"], [\"RLLRLRRRRR\"], [\"L\"], [\"RRL\"], [\"L\"], [\"L\"], [\"RLRLRLRRLLRL\"], [\"RLRR\"], [\"RRLRL\"], [\"LL\"], [\"R\"], [\"LRLRR\"], [\"L\"], [\"RLL\"], [\"L\"], [\"R\"], [\"R\"], [\"RLLLRRLL\"], [\"L\"], [\"R\"], [\"RR\"], [\"L\"], [\"R\"], [\"L\"], [\"RRLRL\"], [\"LRLL\"], [\"RLRRRRRR\"], [\"RLRLRL\"], [\"R\"], [\"LLRLLL\"], [\"RRRLRLRLLR\"], [\"R\"], [\"LLLRLRLLLR\"], [\"LRLRLR\"], [\"LRLLRLRRRRRRRRLR\"], [\"LR\"], [\"L\"], [\"L\"], [\"RRLRLRRRRRLL\"], [\"R\"], [\"RR\"], [\"RRLL\"], [\"L\"], [\"R\"], [\"L\"], [\"RR\"], [\"RRLLLRLRL\"], [\"R\"], [\"RRRLL\"], [\"LRLRLL\"], [\"LRLRRLRLRLL\"], [\"LRLRRLLRL\"], [\"RLRLRRRRLR\"], [\"LRRRL\"], [\"LRR\"], [\"L\"], [\"L\"], [\"RRLRRRLRLL\"], [\"LLLRLRR\"], [\"L\"], [\"R\"], [\"LRRRL\"], [\"L\"], [\"LLRRL\"], [\"R\"], [\"R\"], [\"L\"], [\"R\"], [\"R\"], [\"RRRRRRRL\"], [\"L\"], [\"RLR\"], [\"L\"], [\"R\"], [\"R\"], [\"L\"], [\"LRLLRLRR\"], [\"L\"], [\"R\"], [\"L\"], [\"RLRRR\"], [\"RLRRRL\"], [\"LLLLLRLR\"], [\"R\"], [\"R\"], [\"LRLRLRLRLR\"], [\"R\"], [\"L\"], [\"LLLRL\"], [\"LLR\"], [\"L\"], [\"L\"], [\"R\"], [\"LRLR\"], [\"L\"], [\"L\"], [\"LRLR\"], [\"LLLLRR\"], [\"L\"], [\"L\"], [\"LRLRRL\"], [\"LLLRLLL\"], [\"LRLLRRLLRRL\"], [\"RRLRRLL\"], [\"LR\"], [\"RLRR\"], [\"RLLLRLRRLL\"], [\"L\"], [\"RRLR\"], [\"LRR\"], [\"R\"], [\"R\"], [\"L\"], [\"L\"], [\"L\"], [\"L\"], [\"L\"], [\"L\"], [\"L\"], [\"L\"], [\"R\"], [\"L\"], [\"LRRRLLRLRLRLR\"], [\"LLLRRLLLRL\"], [\"L\"], [\"L\"], [\"L\"], [\"L\"], [\"LR\"], [\"RRLLLRR\"], [\"RLLRLR\"], [\"LLLRRRLRRR\"], [\"LLLL\"], [\"L\"], [\"L\"], [\"L\"], [\"RRLLRLRRRR\"], [\"LRRLLL\"], [\"R\"], [\"RRLR\"], [\"R\"], [\"RLLRLLRRLRRR\"], [\"L\"], [\"R\"], [\"L\"], [\"LL\"], [\"LRRLRRRRR\"], [\"LLR\"], [\"R\"], [\"RLRLRLR\"], [\"RLLLL\"], [\"R\"], [\"L\"], [\"L\"], [\"R\"], [\"RLRRRRRRLRR\"], [\"L\"], [\"LRLLRRRL\"], [\"L\"], [\"RLL\"], [\"R\"], [\"R\"], [\"RR\"], [\"R\"], [\"R\"], [\"L\"], [\"LRLLLLLRRL\"], [\"LRRLLR\"], [\"RL\"], [\"LRLLL\"], [\"L\"], [\"LRRLR\"], [\"L\"], [\"L\"], [\"R\"], [\"RRRLRRLR\"], [\"LR\"], [\"R\"], [\"L\"], [\"RLLL\"], [\"RLLRRLRLLRRRR\"], [\"L\"], [\"L\"], [\"R\"], [\"RLL\"], [\"LLRRRLRRLRRLRLLLL\"], [\"LL\"], [\"LRLRLRR\"], [\"R\"], [\"RRLLLLL\"], [\"LLR\"], [\"R\"], [\"RR\"], [\"RRLLL\"], [\"R\"], [\"L\"], [\"L\"], [\"LL\"], [\"L\"], [\"RRLLLRL\"], [\"L\"], [\"L\"], [\"R\"], [\"RLRRRRRR\"], [\"RLL\"], [\"LL\"], [\"L\"], [\"L\"], [\"L\"], [\"R\"], [\"LLLRR\"], [\"R\"], [\"L\"], [\"LL\"], [\"LRRL\"], [\"R\"], [\"R\"], [\"L\"], [\"R\"], [\"LRLLLRRR\"], [\"LRRRRRLRL\"], [\"RRRLRR\"], [\"R\"], [\"R\"], [\"LLRLLL\"], [\"L\"], [\"RLR\"], [\"R\"], [\"R\"], [\"L\"], [\"R\"], [\"R\"], [\"LLLLRLRRLR\"], [\"R\"], [\"LRRRLR\"], [\"R\"], [\"LL\"], [\"LL\"], [\"R\"], [\"R\"], [\"L\"], [\"R\"], [\"RRL\"], [\"RLRRLRLRLL\"], [\"L\"], [\"LRLLRRL\"], [\"R\"], [\"R\"], [\"L\"], [\"RL\"], [\"L\"], [\"R\"], [\"L\"], [\"RLLRLRRLR\"], [\"R\"], [\"RLLLRLLR\"], [\"R\"], [\"R\"], [\"R\"], [\"L\"], [\"RL\"], [\"L\"], [\"RLRL\"], [\"R\"], [\"LRLRLRLRLRRRRLLRR\"], [\"R\"], [\"RRRLRLRRLRLLRLRLRLLLLLRRLRRRR\"], [\"L\"], [\"RRLLLRRLRR\"], [\"LLR\"], [\"LL\"], [\"L\"], [\"L\"], [\"R\"], [\"R\"], [\"R\"], [\"R\"], [\"LL\"], [\"L\"], [\"L\"], [\"L\"], [\"L\"], [\"L\"], [\"R\"], [\"R\"], [\"LRRLRLRLL\"], [\"LL\"], [\"RR\"], [\"R\"], [\"L\"], [\"RR\"], [\"RRLLLRLL\"], [\"R\"], [\"RLRRLLLLL\"], [\"L\"], [\"R\"], [\"LRLLLRL\"], [\"L\"], [\"R\"], [\"L\"], [\"RR\"], [\"L\"], [\"RRLRLR\"], [\"RRR\"], [\"LRRLLRRLRR\"], [\"L\"], [\"R\"], [\"L\"], [\"R\"], [\"R\"], [\"L\"], [\"RLRLLRLRRLL\"], [\"R\"], [\"R\"], [\"R\"], [\"RRLLLLRLRL\"], [\"LLLL\"], [\"LRLRRLRL\"], [\"R\"], [\"R\"], [\"RLLLRL\"], [\"RRRLLL\"], [\"LRRRLLLRLRLRL\"], [\"RLRRRLRLR\"], [\"RL\"], [\"RRLRRR\"], [\"L\"], [\"R\"], [\"R\"], [\"L\"], [\"RRLLLL\"], [\"R\"], [\"R\"], [\"RLRLLL\"], [\"R\"], [\"LLL\"], [\"RR\"], [\"RLLRLRLRRL\"], [\"LR\"], [\"LRRRRRLR\"], [\"RLLRRRLRRL\"], [\"L\"], [\"R\"], [\"L\"], [\"R\"], [\"RRLLRRLLRR\"], [\"R\"], [\"L\"], [\"LRRLLLLRL\"], [\"L\"], [\"L\"], [\"L\"], [\"L\"], [\"L\"], [\"L\"], [\"L\"], [\"L\"], [\"R\"], [\"L\"], [\"RRRLRRLRLL\"], [\"LRRL\"], [\"R\"], [\"L\"], [\"LLLRR\"], [\"R\"], [\"R\"], [\"R\"], [\"RR\"], [\"R\"], [\"R\"], [\"R\"], [\"L\"], [\"RRLLLRRLRL\"], [\"R\"], [\"L\"], [\"R\"], [\"L\"], [\"R\"], [\"R\"], [\"RRR\"], [\"LLLLRRRLLL\"], [\"R\"], [\"R\"], [\"R\"], [\"L\"], [\"RRLR\"], [\"RLLRLRL\"], [\"L\"], [\"R\"], [\"RLLLLLL\"], [\"L\"], [\"LR\"], [\"LLRLR\"], [\"LRLL\"], [\"LRL\"], [\"LLL\"], [\"L\"], [\"RR\"], [\"LLRLLLR\"], [\"R\"], [\"R\"], [\"LRRRRRLLLL\"], [\"RL\"], [\"R\"], [\"LLLL\"], [\"RRLRRRRR\"], [\"LRRRL\"], [\"LLRRRLRL\"], [\"RL\"], [\"R\"], [\"L\"], [\"L\"], [\"RLL\"], [\"RLLLL\"], [\"L\"], [\"RLLL\"], [\"L\"], [\"R\"], [\"R\"], [\"L\"], [\"R\"], [\"R\"], [\"LL\"], [\"LLLL\"], [\"LRLR\"], [\"RR\"], [\"L\"], [\"LRRRLRRRL\"], [\"RLLRL\"], [\"L\"], [\"RLLRLL\"], [\"RRRRLR\"], [\"L\"], [\"L\"], [\"L\"], [\"R\"], [\"R\"], [\"L\"], [\"R\"], [\"LRRLLLLLR\"], [\"R\"], [\"RLLL\"], [\"R\"], [\"LR\"], [\"R\"], [\"R\"], [\"LLRRRLLLLRLRRR\"], [\"L\"], [\"RRRLR\"], [\"L\"], [\"LRLRLRL\"], [\"LRR\"], [\"R\"], [\"L\"], [\"RRR\"], [\"L\"], [\"LL\"], [\"R\"], [\"L\"], [\"L\"], [\"RRRR\"], [\"R\"], [\"RLRLRL\"], [\"LL\"], [\"L\"], [\"L\"], [\"LRLL\"], [\"RRRLL\"], [\"L\"], [\"L\"], [\"R\"], [\"L\"], [\"R\"], [\"RLR\"], [\"L\"], [\"RRLLR\"], [\"L\"], [\"L\"], [\"L\"], [\"L\"], [\"L\"], [\"R\"], [\"L\"], [\"R\"], [\"RL\"], [\"R\"], [\"L\"], [\"L\"], [\"LLRLLLLLL\"], [\"L\"], [\"L\"], [\"R\"], [\"RRLRRL\"], [\"R\"], [\"L\"], [\"L\"], [\"RRLLLR\"], [\"RRLL\"], [\"L\"], [\"LLRRRLLR\"], [\"LLLR\"], [\"R\"], [\"LLRRRLRR\"], [\"LLRRRLL\"], [\"RRR\"], [\"R\"], [\"RL\"], [\"LLLLLRLLLRL\"], [\"LRL\"], [\"RLLLLLRLLR\"], [\"L\"], [\"R\"], [\"RRR\"], [\"L\"], [\"LLRR\"], [\"LLRRLLLR\"], [\"RRRLRRRRRLLL\"], [\"LR\"], [\"LLLRRLRLR\"], [\"RL\"], [\"LL\"], [\"RRL\"], [\"RLLRRRRLLR\"], [\"RL\"], [\"RLR\"], [\"RR\"], [\"LL\"], [\"LRLLL\"], [\"RL\"], [\"LR\"], [\"RR\"], [\"RL\"], [\"LRL\"], [\"RR\"], [\"RRRR\"], [\"LR\"], [\"LLRLR\"], [\"RL\"], [\"RR\"], [\"RRLR\"], [\"LLLRR\"], [\"LR\"], [\"RR\"], [\"LLRRRR\"], [\"RR\"], [\"RLLLLLLLL\"], [\"LR\"], [\"RLR\"], [\"RLRLR\"], [\"LR\"], [\"RRLLRRL\"], [\"LL\"], [\"RR\"], [\"RRLLLRRRLL\"], [\"LRRR\"], [\"LL\"], [\"LRLR\"], [\"LL\"], [\"RLR\"], [\"RRLRRRRL\"], [\"L\"], [\"LL\"], [\"LRRLLRRRR\"], [\"LR\"], [\"RLR\"], [\"RRRLR\"], [\"LL\"], [\"LL\"], [\"LR\"], [\"RLLRRRRLRLRLRRRRLLRRLL\"], [\"LR\"], [\"RR\"], [\"RRLLRLRLL\"], [\"LR\"], [\"RR\"], [\"RRR\"], [\"RL\"], [\"LL\"], [\"LRL\"], [\"LR\"], [\"RL\"], [\"RL\"], [\"RL\"], [\"RRLR\"], [\"RR\"], [\"RR\"], [\"LLLRR\"], [\"RLL\"], [\"RRLLRRLRR\"], [\"RRRRLRL\"], [\"RR\"], [\"RRR\"], [\"LR\"], [\"LLLR\"], [\"RL\"], [\"LRL\"], [\"RR\"], [\"LRRLRRRRRRR\"], [\"LL\"], [\"LR\"], [\"LLRLLLLLL\"], [\"R\"], [\"RLL\"], [\"LRRLLRRR\"], [\"LRRLLLRLRRLLL\"], [\"R\"], [\"RRL\"], [\"LLLRLLLRLR\"], [\"RLLR\"], [\"LR\"], [\"LLLRRLRL\"], [\"LRR\"], [\"RRRLR\"], [\"RL\"], [\"LLRLL\"], [\"LR\"], [\"LL\"], [\"RR\"], [\"RLRLLRLRLL\"], [\"RLR\"], [\"LRRLL\"], [\"RL\"], [\"LL\"], [\"LRLLRRLLR\"], [\"LLLLLR\"], [\"LLL\"], [\"RLR\"], [\"RRRRL\"], [\"R\"], [\"RLLRLRLRRR\"], [\"LRRLLL\"], [\"LRRRRL\"]], \"hoverlabel\": {\"namelength\": 0}, \"hovertemplate\": \"Iteration=%{x}<br>Signed ee=%{y}<br>Sequence=%{customdata[0]}\", \"legendgroup\": \"\", \"marker\": {\"color\": \"#636efa\", \"symbol\": \"circle\"}, \"mode\": \"markers\", \"name\": \"\", \"showlegend\": false, \"type\": \"scattergl\", \"x\": [0.0, 0.0, 0.0, 0.0, 0.0, 0.0, 0.0, 0.0, 0.0, 0.0, 0.0, 0.0, 0.0, 0.0, 0.0, 0.0, 0.0, 0.0, 0.0, 0.0, 0.0, 0.0, 0.0, 0.0, 0.0, 0.0, 0.0, 0.0, 0.0, 0.0, 0.0, 0.0, 0.0, 0.0, 0.0, 0.0, 0.0, 0.0, 0.0, 0.0, 0.0, 0.0, 0.0, 0.0, 0.0, 0.0, 0.0, 0.0, 0.0, 0.0, 0.0, 0.0, 0.0, 0.0, 0.0, 0.0, 0.0, 0.0, 0.0, 0.0, 0.0, 0.0, 0.0, 0.0, 0.0, 0.0, 0.0, 0.0, 0.0, 0.0, 0.0, 0.0, 0.0, 0.0, 0.0, 0.0, 0.0, 0.0, 0.0, 0.0, 0.0, 0.0, 0.0, 0.0, 0.0, 0.0, 0.0, 0.0, 0.0, 0.0, 0.0, 0.0, 0.0, 0.0, 0.0, 0.0, 0.0, 0.0, 0.0, 0.0, 0.0, 0.0, 0.0, 0.0, 0.0, 0.0, 0.0, 0.0, 0.0, 0.0, 0.0, 0.0, 0.0, 0.0, 0.0, 0.0, 0.0, 0.0, 0.0, 0.0, 0.0, 0.0, 0.0, 0.0, 0.0, 0.0, 0.0, 0.0, 0.0, 0.0, 0.0, 0.0, 0.0, 0.0, 0.0, 0.0, 0.0, 0.0, 0.0, 0.0, 0.0, 0.0, 0.0, 0.0, 0.0, 0.0, 0.0, 0.0, 0.0, 0.0, 0.0, 0.0, 0.0, 0.0, 0.0, 0.0, 0.0, 0.0, 0.0, 0.0, 0.0, 0.0, 0.0, 0.0, 0.0, 0.0, 0.0, 0.0, 0.0, 0.0, 0.0, 0.0, 0.0, 0.0, 0.0, 0.0, 0.0, 0.0, 0.0, 0.0, 0.0, 0.0, 0.0, 0.0, 0.0, 0.0, 0.0, 0.0, 0.0, 0.0, 0.0, 0.0, 0.0, 0.0, 0.0, 0.0, 0.0, 0.0, 0.0, 0.0, 0.0, 0.0, 0.0, 0.0, 0.0, 0.0, 0.0, 0.0, 0.0, 0.0, 0.0, 0.0, 0.0, 0.0, 0.0, 0.0, 0.0, 0.0, 0.0, 0.0, 0.0, 0.0, 0.0, 0.0, 0.0, 0.0, 0.0, 0.0, 0.0, 0.0, 0.0, 0.0, 0.0, 0.0, 0.0, 0.0, 0.0, 0.0, 0.0, 0.0, 0.0, 0.0, 0.0, 0.0, 0.0, 0.0, 0.0, 0.0, 0.0, 0.0, 0.0, 0.0, 0.0, 0.0, 0.0, 0.0, 0.0, 0.0, 0.0, 0.0, 0.0, 0.0, 0.0, 0.0, 0.0, 0.0, 0.0, 0.0, 0.0, 0.0, 0.0, 0.0, 0.0, 0.0, 0.0, 0.0, 0.0, 0.0, 0.0, 0.0, 0.0, 0.0, 0.0, 0.0, 0.0, 0.0, 0.0, 0.0, 0.0, 0.0, 0.0, 0.0, 0.0, 0.0, 0.0, 0.0, 0.0, 0.0, 0.0, 0.0, 0.0, 0.0, 0.0, 0.0, 0.0, 0.0, 0.0, 0.0, 0.0, 0.0, 0.0, 0.0, 0.0, 0.0, 0.0, 0.0, 0.0, 0.0, 0.0, 0.0, 0.0, 0.0, 0.0, 0.0, 0.0, 0.0, 0.0, 0.0, 0.0, 0.0, 0.0, 0.0, 0.0, 0.0, 0.0, 0.0, 0.0, 0.0, 0.0, 0.0, 0.0, 0.0, 0.0, 0.0, 0.0, 0.0, 0.0, 0.0, 0.0, 0.0, 0.0, 0.0, 0.0, 0.0, 0.0, 0.0, 0.0, 0.0, 0.0, 0.0, 0.0, 0.0, 0.0, 0.0, 0.0, 0.0, 0.0, 0.0, 0.0, 0.0, 0.0, 0.0, 0.0, 0.0, 0.0, 0.0, 0.0, 0.0, 0.0, 0.0, 0.0, 0.0, 0.0, 0.0, 0.0, 0.0, 0.0, 0.0, 0.0, 0.0, 0.0, 0.0, 0.0, 0.0, 0.0, 0.0, 0.0, 0.0, 0.0, 0.0, 0.0, 0.0, 0.0, 0.0, 0.0, 0.0, 0.0, 0.0, 0.0, 0.0, 0.0, 0.0, 0.0, 0.0, 0.0, 0.0, 0.0, 0.0, 0.0, 0.0, 0.0, 0.0, 0.0, 0.0, 0.0, 0.0, 0.0, 0.0, 0.0, 0.0, 0.0, 0.0, 0.0, 0.0, 0.0, 0.0, 0.0, 0.0, 0.0, 0.0, 0.0, 0.0, 0.0, 0.0, 0.0, 0.0, 0.0, 0.0, 0.0, 0.0, 0.0, 0.0, 0.0, 0.0, 0.0, 0.0, 0.0, 0.0, 0.0, 0.0, 0.0, 0.0, 0.0, 0.0, 0.0, 0.0, 0.0, 0.0, 0.0, 0.0, 0.0, 0.0, 0.0, 0.0, 0.0, 0.0, 0.0, 0.0, 0.0, 0.0, 0.0, 0.0, 0.0, 0.0, 0.0, 0.0, 0.0, 0.0, 0.0, 0.0, 0.0, 0.0, 0.0, 0.0, 0.0, 0.0, 0.0, 0.0, 0.0, 0.0, 0.0, 0.0, 0.0, 0.0, 0.0, 0.0, 0.0, 0.0, 0.0, 0.0, 0.0, 0.0, 0.0, 0.0, 0.0, 0.0, 0.0, 0.0, 0.0, 0.0, 0.0, 0.0, 0.0, 0.0, 0.0, 0.0, 0.0, 0.0, 0.0, 0.0, 0.0, 0.0, 0.0, 0.0, 0.0, 0.0, 0.0, 0.0, 0.0, 0.0, 0.0, 0.0, 0.0, 0.0, 0.0, 0.0, 0.0, 0.0, 0.0, 0.0, 0.0, 0.0, 0.0, 0.0, 0.0, 0.0, 0.0, 0.0, 0.0, 0.0, 0.0, 0.0, 0.0, 0.0, 0.0, 0.0, 0.0, 0.0, 0.0, 0.0, 0.0, 0.0, 0.0, 0.0, 0.0, 0.0, 0.0, 0.0, 0.0, 0.0, 0.0, 0.0, 0.0, 0.0, 0.0, 0.0, 0.0, 0.0, 0.0, 0.0, 0.0, 0.0, 0.0, 0.0, 0.0, 0.0, 0.0, 0.0, 0.0, 0.0, 0.0, 0.0, 0.0, 0.0, 0.0, 0.0, 0.0, 0.0, 0.0, 0.0, 0.0, 0.0, 0.0, 0.0, 0.0, 0.0, 0.0, 0.0, 0.0, 0.0, 0.0, 0.0, 0.0, 0.0, 0.0, 0.0, 0.0, 0.0, 0.0, 0.0, 0.0, 0.0, 0.0, 0.0, 0.0, 0.0, 0.0, 0.0, 0.0, 0.0, 0.0, 0.0, 0.0, 0.0, 0.0, 0.0, 0.0, 0.0, 0.0, 0.0, 0.0, 0.0, 0.0, 0.0, 0.0, 0.0, 0.0, 0.0, 0.0, 0.0, 0.0, 0.0, 0.0, 0.0, 0.0, 0.0, 0.0, 0.0, 0.0, 0.0, 0.0, 0.0, 0.0, 0.0, 0.0, 0.0, 0.0, 0.0, 0.0, 0.0, 0.0, 0.0, 0.0, 0.0, 0.0, 0.0, 0.0, 0.0, 0.0, 0.0, 0.0, 0.0, 0.0, 0.0, 0.0, 0.0, 0.0, 0.0, 0.0, 0.0, 0.0, 0.0, 0.0, 0.0, 0.0, 0.0, 0.0, 0.0, 0.0, 0.0, 0.0, 0.0, 0.0, 0.0, 0.0, 0.0, 0.0, 0.0, 0.0, 0.0, 0.0, 0.0, 0.0, 0.0, 0.0, 0.0, 0.0, 0.0, 0.0, 0.0, 0.0, 0.0, 0.0, 0.0, 0.0, 0.0, 0.0, 0.0, 0.0, 0.0, 0.0, 0.0, 0.0, 0.0, 0.0, 0.0, 0.0, 0.0, 0.0, 0.0, 0.0, 0.0, 0.0, 0.0, 0.0, 0.0, 0.0, 0.0, 0.0, 0.0, 0.0, 0.0, 0.0, 0.0, 0.0, 0.0, 0.0, 0.0, 0.0, 0.0, 0.0, 0.0, 0.0, 0.0, 0.0, 0.0, 0.0, 0.0, 0.0, 0.0, 0.0, 0.0, 0.0, 0.0, 0.0, 0.0, 0.0, 0.0, 0.0, 0.0, 0.0, 0.0, 0.0, 0.0, 0.0, 0.0, 0.0, 0.0, 0.0, 0.0, 0.0, 0.0, 0.0, 0.0, 0.0, 0.0, 0.0, 0.0, 0.0, 0.0, 0.0, 0.0, 0.0, 0.0, 0.0, 0.0, 0.0, 0.0, 0.0, 0.0, 0.0, 0.0, 0.0, 0.0, 0.0, 0.0, 0.0, 0.0, 0.0, 0.0, 0.0, 0.0, 0.0, 0.0, 0.0, 0.0, 1.0, 1.0, 1.0, 1.0, 1.0, 1.0, 1.0, 1.0, 1.0, 1.0, 1.0, 1.0, 1.0, 1.0, 1.0, 1.0, 1.0, 1.0, 1.0, 1.0, 1.0, 1.0, 1.0, 1.0, 1.0, 1.0, 1.0, 1.0, 1.0, 1.0, 1.0, 1.0, 1.0, 1.0, 1.0, 1.0, 1.0, 1.0, 1.0, 1.0, 1.0, 1.0, 1.0, 1.0, 1.0, 1.0, 1.0, 1.0, 1.0, 1.0, 1.0, 1.0, 1.0, 1.0, 1.0, 1.0, 1.0, 1.0, 1.0, 1.0, 1.0, 1.0, 1.0, 1.0, 1.0, 1.0, 1.0, 1.0, 1.0, 1.0, 1.0, 1.0, 1.0, 1.0, 1.0, 1.0, 1.0, 1.0, 1.0, 1.0, 1.0, 1.0, 1.0, 1.0, 1.0, 1.0, 1.0, 1.0, 1.0, 1.0, 1.0, 1.0, 1.0, 1.0, 1.0, 1.0, 1.0, 1.0, 1.0, 1.0, 1.0, 1.0, 1.0, 1.0, 1.0, 1.0, 1.0, 1.0, 1.0, 1.0, 1.0, 1.0, 1.0, 1.0, 1.0, 1.0, 1.0, 1.0, 1.0, 1.0, 1.0, 1.0, 1.0, 1.0, 1.0, 1.0, 1.0, 1.0, 1.0, 1.0, 1.0, 1.0, 1.0, 1.0, 1.0, 1.0, 1.0, 1.0, 1.0, 1.0, 1.0, 1.0, 1.0, 1.0, 1.0, 1.0, 1.0, 1.0, 1.0, 1.0, 1.0, 1.0, 1.0, 1.0, 1.0, 1.0, 1.0, 1.0, 1.0, 1.0, 1.0, 1.0, 1.0, 1.0, 1.0, 1.0, 1.0, 1.0, 1.0, 1.0, 1.0, 1.0, 1.0, 1.0, 1.0, 1.0, 1.0, 1.0, 1.0, 1.0, 1.0, 1.0, 1.0, 1.0, 1.0, 1.0, 1.0, 1.0, 1.0, 1.0, 1.0, 1.0, 1.0, 1.0, 1.0, 1.0, 1.0, 1.0, 1.0, 1.0, 1.0, 1.0, 1.0, 1.0, 1.0, 1.0, 1.0, 1.0, 1.0, 1.0, 1.0, 1.0, 1.0, 1.0, 1.0, 1.0, 1.0, 1.0, 1.0, 1.0, 1.0, 1.0, 1.0, 1.0, 1.0, 1.0, 1.0, 1.0, 1.0, 1.0, 1.0, 1.0, 1.0, 1.0, 1.0, 1.0, 1.0, 1.0, 1.0, 1.0, 1.0, 1.0, 1.0, 1.0, 1.0, 1.0, 1.0, 1.0, 1.0, 1.0, 1.0, 1.0, 1.0, 1.0, 1.0, 1.0, 1.0, 1.0, 1.0, 1.0, 1.0, 1.0, 1.0, 1.0, 1.0, 1.0, 1.0, 1.0, 1.0, 1.0, 1.0, 1.0, 1.0, 1.0, 1.0, 1.0, 1.0, 1.0, 1.0, 1.0, 1.0, 1.0, 1.0, 1.0, 1.0, 1.0, 1.0, 1.0, 1.0, 1.0, 1.0, 1.0, 1.0, 1.0, 1.0, 1.0, 1.0, 1.0, 1.0, 1.0, 1.0, 1.0, 1.0, 1.0, 1.0, 1.0, 1.0, 1.0, 1.0, 1.0, 1.0, 1.0, 1.0, 1.0, 1.0, 1.0, 1.0, 1.0, 1.0, 1.0, 1.0, 1.0, 1.0, 1.0, 1.0, 1.0, 1.0, 1.0, 1.0, 1.0, 1.0, 1.0, 1.0, 1.0, 1.0, 1.0, 1.0, 1.0, 1.0, 1.0, 1.0, 1.0, 1.0, 1.0, 1.0, 1.0, 1.0, 1.0, 1.0, 1.0, 1.0, 1.0, 1.0, 1.0, 1.0, 1.0, 1.0, 1.0, 1.0, 1.0, 1.0, 1.0, 1.0, 1.0, 1.0, 1.0, 1.0, 1.0, 1.0, 1.0, 1.0, 1.0, 1.0, 1.0, 1.0, 1.0, 1.0, 1.0, 1.0, 1.0, 1.0, 1.0, 1.0, 1.0, 1.0, 1.0, 1.0, 1.0, 1.0, 1.0, 1.0, 1.0, 1.0, 1.0, 1.0, 1.0, 1.0, 1.0, 1.0, 1.0, 1.0, 1.0, 1.0, 1.0, 1.0, 1.0, 1.0, 1.0, 1.0, 1.0, 1.0, 1.0, 1.0, 1.0, 1.0, 1.0, 1.0, 1.0, 1.0, 1.0, 1.0, 1.0, 1.0, 1.0, 1.0, 1.0, 1.0, 1.0, 1.0, 1.0, 1.0, 1.0, 1.0, 1.0, 1.0, 1.0, 1.0, 1.0, 1.0, 1.0, 1.0, 1.0, 1.0, 1.0, 1.0, 1.0, 1.0, 1.0, 1.0, 1.0, 1.0, 1.0, 1.0, 1.0, 1.0, 1.0, 1.0, 1.0, 1.0, 1.0, 1.0, 1.0, 1.0, 1.0, 1.0, 1.0, 1.0, 1.0, 1.0, 1.0, 1.0, 1.0, 1.0, 1.0, 1.0, 1.0, 1.0, 1.0, 1.0, 1.0, 1.0, 1.0, 1.0, 1.0, 1.0, 1.0, 1.0, 1.0, 1.0, 1.0, 1.0, 1.0, 1.0, 1.0, 1.0, 1.0, 1.0, 1.0, 1.0, 1.0, 1.0, 1.0, 1.0, 1.0, 1.0, 1.0, 1.0, 1.0, 1.0, 1.0, 1.0, 1.0, 1.0, 1.0, 1.0, 1.0, 1.0, 1.0, 1.0, 1.0, 1.0, 1.0, 1.0, 1.0, 1.0, 1.0, 1.0, 1.0, 1.0, 1.0, 1.0, 1.0, 1.0, 1.0, 1.0, 1.0, 1.0, 1.0, 1.0, 1.0, 1.0, 1.0, 1.0, 1.0, 1.0, 1.0, 1.0, 1.0, 1.0, 1.0, 1.0, 1.0, 1.0, 1.0, 1.0, 1.0, 1.0, 1.0, 1.0, 1.0, 1.0, 1.0, 1.0, 1.0, 1.0, 1.0, 1.0, 1.0, 1.0, 1.0, 1.0, 1.0, 1.0, 1.0, 1.0, 1.0, 1.0, 1.0, 1.0, 1.0, 1.0, 1.0, 1.0, 1.0, 1.0, 1.0, 1.0, 1.0, 1.0, 1.0, 1.0, 1.0, 1.0, 1.0, 1.0, 1.0, 1.0, 1.0, 1.0, 1.0, 1.0, 1.0, 1.0, 1.0, 1.0, 1.0, 1.0, 1.0, 1.0, 1.0, 1.0, 1.0, 1.0, 1.0, 1.0, 1.0, 1.0, 1.0, 1.0, 1.0, 1.0, 1.0, 1.0, 1.0, 1.0, 1.0, 1.0, 1.0, 1.0, 1.0, 1.0, 1.0, 1.0, 1.0, 1.0, 1.0, 1.0, 1.0, 1.0, 1.0, 1.0, 1.0, 1.0, 1.0, 1.0, 1.0, 1.0, 1.0, 1.0, 1.0, 1.0, 1.0, 1.0, 1.0, 1.0, 1.0, 1.0, 1.0, 1.0, 1.0, 1.0, 1.0, 1.0, 1.0, 1.0, 1.0, 1.0, 1.0, 1.0, 1.0, 1.0, 1.0, 1.0, 1.0, 1.0, 1.0, 1.0, 1.0, 1.0, 1.0, 1.0, 1.0, 1.0, 1.0, 1.0, 1.0, 1.0, 1.0, 1.0, 1.0, 1.0, 1.0, 1.0, 1.0, 1.0, 1.0, 1.0, 1.0, 1.0, 1.0, 1.0, 1.0, 1.0, 1.0, 1.0, 1.0, 1.0, 1.0, 1.0, 1.0, 1.0, 1.0, 1.0, 1.0, 1.0, 1.0, 1.0, 1.0, 1.0, 1.0, 1.0, 1.0, 1.0, 1.0, 1.0, 1.0, 1.0, 1.0, 1.0, 1.0, 1.0, 1.0, 1.0, 1.0, 1.0, 1.0, 1.0, 1.0, 1.0, 1.0, 1.0, 1.0, 1.0, 1.0, 1.0, 1.0, 1.0, 1.0, 1.0, 1.0, 1.0, 1.0, 1.0, 1.0, 1.0, 1.0, 1.0, 1.0, 1.0, 1.0, 1.0, 1.0, 1.0, 1.0, 1.0, 1.0, 1.0, 1.0, 1.0, 1.0, 1.0, 1.0, 1.0, 1.0, 1.0, 1.0, 1.0, 1.0, 1.0, 1.0, 1.0, 1.0, 1.0, 1.0, 1.0, 1.0, 1.0, 1.0, 1.0, 1.0, 1.0, 1.0, 1.0, 1.0, 1.0, 1.0, 1.0, 1.0, 1.0, 1.0, 1.0, 2.0, 2.0, 2.0, 2.0, 2.0, 2.0, 2.0, 2.0, 2.0, 2.0, 2.0, 2.0, 2.0, 2.0, 2.0, 2.0, 2.0, 2.0, 2.0, 2.0, 2.0, 2.0, 2.0, 2.0, 2.0, 2.0, 2.0, 2.0, 2.0, 2.0, 2.0, 2.0, 2.0, 2.0, 2.0, 2.0, 2.0, 2.0, 2.0, 2.0, 2.0, 2.0, 2.0, 2.0, 2.0, 2.0, 2.0, 2.0, 2.0, 2.0, 2.0, 2.0, 2.0, 2.0, 2.0, 2.0, 2.0, 2.0, 2.0, 2.0, 2.0, 2.0, 2.0, 2.0, 2.0, 2.0, 2.0, 2.0, 2.0, 2.0, 2.0, 2.0, 2.0, 2.0, 2.0, 2.0, 2.0, 2.0, 2.0, 2.0, 2.0, 2.0, 2.0, 2.0, 2.0, 2.0, 2.0, 2.0, 2.0, 2.0, 2.0, 2.0, 2.0, 2.0, 2.0, 2.0, 2.0, 2.0, 2.0, 2.0, 2.0, 2.0, 2.0, 2.0, 2.0, 2.0, 2.0, 2.0, 2.0, 2.0, 2.0, 2.0, 2.0, 2.0, 2.0, 2.0, 2.0, 2.0, 2.0, 2.0, 2.0, 2.0, 2.0, 2.0, 2.0, 2.0, 2.0, 2.0, 2.0, 2.0, 2.0, 2.0, 2.0, 2.0, 2.0, 2.0, 2.0, 2.0, 2.0, 2.0, 2.0, 2.0, 2.0, 2.0, 2.0, 2.0, 2.0, 2.0, 2.0, 2.0, 2.0, 2.0, 2.0, 2.0, 2.0, 2.0, 2.0, 2.0, 2.0, 2.0, 2.0, 2.0, 2.0, 2.0, 2.0, 2.0, 2.0, 2.0, 2.0, 2.0, 2.0, 2.0, 2.0, 2.0, 2.0, 2.0, 2.0, 2.0, 2.0, 2.0, 2.0, 2.0, 2.0, 2.0, 2.0, 2.0, 2.0, 2.0, 2.0, 2.0, 2.0, 2.0, 2.0, 2.0, 2.0, 2.0, 2.0, 2.0, 2.0, 2.0, 2.0, 2.0, 2.0, 2.0, 2.0, 2.0, 2.0, 2.0, 2.0, 2.0, 2.0, 2.0, 2.0, 2.0, 2.0, 2.0, 2.0, 2.0, 2.0, 2.0, 2.0, 2.0, 2.0, 2.0, 2.0, 2.0, 2.0, 2.0, 2.0, 2.0, 2.0, 2.0, 2.0, 2.0, 2.0, 2.0, 2.0, 2.0, 2.0, 2.0, 2.0, 2.0, 2.0, 2.0, 2.0, 2.0, 2.0, 2.0, 2.0, 2.0, 2.0, 2.0, 2.0, 2.0, 2.0, 2.0, 2.0, 2.0, 2.0, 2.0, 2.0, 2.0, 2.0, 2.0, 2.0, 2.0, 2.0, 2.0, 2.0, 2.0, 2.0, 2.0, 2.0, 2.0, 2.0, 2.0, 2.0, 2.0, 2.0, 2.0, 2.0, 2.0, 2.0, 2.0, 2.0, 2.0, 2.0, 2.0, 2.0, 2.0, 2.0, 2.0, 2.0, 2.0, 2.0, 2.0, 2.0, 2.0, 2.0, 2.0, 2.0, 2.0, 2.0, 2.0, 2.0, 2.0, 2.0, 2.0, 2.0, 2.0, 2.0, 2.0, 2.0, 2.0, 2.0, 2.0, 2.0, 2.0, 2.0, 2.0, 2.0, 2.0, 2.0, 2.0, 2.0, 2.0, 2.0, 2.0, 2.0, 2.0, 2.0, 2.0, 2.0, 2.0, 2.0, 2.0, 2.0, 2.0, 2.0, 2.0, 2.0, 2.0, 2.0, 2.0, 2.0, 2.0, 2.0, 2.0, 2.0, 2.0, 2.0, 2.0, 2.0, 2.0, 2.0, 2.0, 2.0, 2.0, 2.0, 2.0, 2.0, 2.0, 2.0, 2.0, 2.0, 2.0, 2.0, 2.0, 2.0, 2.0, 2.0, 2.0, 2.0, 2.0, 2.0, 2.0, 2.0, 2.0, 2.0, 2.0, 2.0, 2.0, 2.0, 2.0, 2.0, 2.0, 2.0, 2.0, 2.0, 2.0, 2.0, 2.0, 2.0, 2.0, 2.0, 2.0, 2.0, 2.0, 2.0, 2.0, 2.0, 2.0, 2.0, 2.0, 2.0, 2.0, 2.0, 2.0, 2.0, 2.0, 2.0, 2.0, 2.0, 2.0, 2.0, 2.0, 2.0, 2.0, 2.0, 2.0, 2.0, 2.0, 2.0, 2.0, 2.0, 2.0, 2.0, 2.0, 2.0, 2.0, 2.0, 2.0, 2.0, 2.0, 2.0, 2.0, 2.0, 2.0, 2.0, 2.0, 2.0, 2.0, 2.0, 2.0, 2.0, 2.0, 2.0, 2.0, 2.0, 2.0, 2.0, 2.0, 2.0, 2.0, 2.0, 2.0, 2.0, 2.0, 2.0, 2.0, 2.0, 2.0, 2.0, 2.0, 2.0, 2.0, 2.0, 2.0, 2.0, 2.0, 2.0, 2.0, 2.0, 2.0, 2.0, 2.0, 2.0, 2.0, 2.0, 2.0, 2.0, 2.0, 2.0, 2.0, 2.0, 2.0, 2.0, 2.0, 2.0, 2.0, 2.0, 2.0, 2.0, 2.0, 2.0, 2.0, 2.0, 2.0, 2.0, 2.0, 2.0, 2.0, 2.0, 2.0, 2.0, 2.0, 2.0, 2.0, 2.0, 2.0, 2.0, 2.0, 2.0, 2.0, 2.0, 2.0, 2.0, 2.0, 2.0, 2.0, 2.0, 2.0, 2.0, 2.0, 2.0, 2.0, 2.0, 2.0, 2.0, 2.0, 2.0, 2.0, 2.0, 2.0, 2.0, 2.0, 2.0, 2.0, 2.0, 2.0, 2.0, 2.0, 2.0, 2.0, 2.0, 2.0, 2.0, 2.0, 2.0, 2.0, 2.0, 2.0, 2.0, 2.0, 2.0, 2.0, 2.0, 2.0, 2.0, 2.0, 2.0, 2.0, 2.0, 2.0, 2.0, 2.0, 2.0, 2.0, 2.0, 2.0, 2.0, 2.0, 2.0, 2.0, 2.0, 2.0, 2.0, 2.0, 2.0, 2.0, 2.0, 2.0, 2.0, 2.0, 2.0, 2.0, 2.0, 2.0, 2.0, 2.0, 2.0, 2.0, 2.0, 2.0, 2.0, 2.0, 2.0, 2.0, 2.0, 2.0, 2.0, 2.0, 2.0, 2.0, 2.0, 2.0, 2.0, 2.0, 2.0, 2.0, 2.0, 2.0, 2.0, 2.0, 2.0, 2.0, 2.0, 2.0, 2.0, 2.0, 2.0, 2.0, 2.0, 2.0, 2.0, 2.0, 2.0, 2.0, 2.0, 2.0, 2.0, 2.0, 2.0, 2.0, 2.0, 2.0, 2.0, 2.0, 2.0, 2.0, 2.0, 2.0, 2.0, 2.0, 2.0, 2.0, 2.0, 2.0, 2.0, 2.0, 2.0, 2.0, 2.0, 2.0, 2.0, 2.0, 2.0, 2.0, 2.0, 2.0, 2.0, 2.0, 2.0, 2.0, 2.0, 2.0, 2.0, 2.0, 2.0, 2.0, 2.0, 2.0, 2.0, 2.0, 2.0, 2.0, 2.0, 2.0, 2.0, 2.0, 2.0, 2.0, 2.0, 2.0, 2.0, 2.0, 2.0, 2.0, 2.0, 2.0, 2.0, 2.0, 2.0, 2.0, 2.0, 2.0, 2.0, 2.0, 2.0, 2.0, 2.0, 2.0, 2.0, 2.0, 2.0, 2.0, 2.0, 2.0, 2.0, 2.0, 2.0, 2.0, 2.0, 2.0, 2.0, 2.0, 2.0, 2.0, 2.0, 2.0, 2.0, 2.0, 2.0, 2.0, 2.0, 2.0, 2.0, 2.0, 2.0, 2.0, 2.0, 2.0, 2.0, 2.0, 2.0, 2.0, 2.0, 2.0, 2.0, 2.0, 2.0, 2.0, 2.0, 2.0, 2.0, 2.0, 2.0, 2.0, 2.0, 2.0, 2.0, 2.0, 2.0, 2.0, 2.0, 2.0, 2.0, 2.0, 2.0, 2.0, 2.0, 2.0, 2.0, 2.0, 2.0, 2.0, 2.0, 2.0, 2.0, 2.0, 2.0, 2.0, 2.0, 2.0, 2.0, 2.0, 2.0, 2.0, 2.0, 2.0, 2.0, 2.0, 2.0, 2.0, 2.0, 2.0, 2.0, 2.0, 2.0, 2.0, 2.0, 2.0, 2.0, 2.0, 2.0, 2.0, 2.0, 2.0, 2.0, 2.0, 2.0, 2.0, 2.0, 2.0, 2.0, 2.0, 2.0, 2.0, 2.0, 2.0, 2.0, 2.0, 2.0, 2.0, 2.0, 3.0, 3.0, 3.0, 3.0, 3.0, 3.0, 3.0, 3.0, 3.0, 3.0, 3.0, 3.0, 3.0, 3.0, 3.0, 3.0, 3.0, 3.0, 3.0, 3.0, 3.0, 3.0, 3.0, 3.0, 3.0, 3.0, 3.0, 3.0, 3.0, 3.0, 3.0, 3.0, 3.0, 3.0, 3.0, 3.0, 3.0, 3.0, 3.0, 3.0, 3.0, 3.0, 3.0, 3.0, 3.0, 3.0, 3.0, 3.0, 3.0, 3.0, 3.0, 3.0, 3.0, 3.0, 3.0, 3.0, 3.0, 3.0, 3.0, 3.0, 3.0, 3.0, 3.0, 3.0, 3.0, 3.0, 3.0, 3.0, 3.0, 3.0, 3.0, 3.0, 3.0, 3.0, 3.0, 3.0, 3.0, 3.0, 3.0, 3.0, 3.0, 3.0, 3.0, 3.0, 3.0, 3.0, 3.0, 3.0, 3.0, 3.0, 3.0, 3.0, 3.0, 3.0, 3.0, 3.0, 3.0, 3.0, 3.0, 3.0, 3.0, 3.0, 3.0, 3.0, 3.0, 3.0, 3.0, 3.0, 3.0, 3.0, 3.0, 3.0, 3.0, 3.0, 3.0, 3.0, 3.0, 3.0, 3.0, 3.0, 3.0, 3.0, 3.0, 3.0, 3.0, 3.0, 3.0, 3.0, 3.0, 3.0, 3.0, 3.0, 3.0, 3.0, 3.0, 3.0, 3.0, 3.0, 3.0, 3.0, 3.0, 3.0, 3.0, 3.0, 3.0, 3.0, 3.0, 3.0, 3.0, 3.0, 3.0, 3.0, 3.0, 3.0, 3.0, 3.0, 3.0, 3.0, 3.0, 3.0, 3.0, 3.0, 3.0, 3.0, 3.0, 3.0, 3.0, 3.0, 3.0, 3.0, 3.0, 3.0, 3.0, 3.0, 3.0, 3.0, 3.0, 3.0, 3.0, 3.0, 3.0, 3.0, 3.0, 3.0, 3.0, 3.0, 3.0, 3.0, 3.0, 3.0, 3.0, 3.0, 3.0, 3.0, 3.0, 3.0, 3.0, 3.0, 3.0, 3.0, 3.0, 3.0, 3.0, 3.0, 3.0, 3.0, 3.0, 3.0, 3.0, 3.0, 3.0, 3.0, 3.0, 3.0, 3.0, 3.0, 3.0, 3.0, 3.0, 3.0, 3.0, 3.0, 3.0, 3.0, 3.0, 3.0, 3.0, 3.0, 3.0, 3.0, 3.0, 3.0, 3.0, 3.0, 3.0, 3.0, 3.0, 3.0, 3.0, 3.0, 3.0, 3.0, 3.0, 3.0, 3.0, 3.0, 3.0, 3.0, 3.0, 3.0, 3.0, 3.0, 3.0, 3.0, 3.0, 3.0, 3.0, 3.0, 3.0, 3.0, 3.0, 3.0, 3.0, 3.0, 3.0, 3.0, 3.0, 3.0, 3.0, 3.0, 3.0, 3.0, 3.0, 3.0, 3.0, 3.0, 3.0, 3.0, 3.0, 3.0, 3.0, 3.0, 3.0, 3.0, 3.0, 3.0, 3.0, 3.0, 3.0, 3.0, 3.0, 3.0, 3.0, 3.0, 3.0, 3.0, 3.0, 3.0, 3.0, 3.0, 3.0, 3.0, 3.0, 3.0, 3.0, 3.0, 3.0, 3.0, 3.0, 3.0, 3.0, 3.0, 3.0, 3.0, 3.0, 3.0, 3.0, 3.0, 3.0, 3.0, 3.0, 3.0, 3.0, 3.0, 3.0, 3.0, 3.0, 3.0, 3.0, 3.0, 3.0, 3.0, 3.0, 3.0, 3.0, 3.0, 3.0, 3.0, 3.0, 3.0, 3.0, 3.0, 3.0, 3.0, 3.0, 3.0, 3.0, 3.0, 3.0, 3.0, 3.0, 3.0, 3.0, 3.0, 3.0, 3.0, 3.0, 3.0, 3.0, 3.0, 3.0, 3.0, 3.0, 3.0, 3.0, 3.0, 3.0, 3.0, 3.0, 3.0, 3.0, 3.0, 3.0, 3.0, 3.0, 3.0, 3.0, 3.0, 3.0, 3.0, 3.0, 3.0, 3.0, 3.0, 3.0, 3.0, 3.0, 3.0, 3.0, 3.0, 3.0, 3.0, 3.0, 3.0, 3.0, 3.0, 3.0, 3.0, 3.0, 3.0, 3.0, 3.0, 3.0, 3.0, 3.0, 3.0, 3.0, 3.0, 3.0, 3.0, 3.0, 3.0, 3.0, 3.0, 3.0, 3.0, 3.0, 3.0, 3.0, 3.0, 3.0, 3.0, 3.0, 3.0, 3.0, 3.0, 3.0, 3.0, 3.0, 3.0, 3.0, 3.0, 3.0, 3.0, 3.0, 3.0, 3.0, 3.0, 3.0, 3.0, 3.0, 3.0, 3.0, 3.0, 3.0, 3.0, 3.0, 3.0, 3.0, 3.0, 3.0, 3.0, 3.0, 3.0, 3.0, 3.0, 3.0, 3.0, 3.0, 3.0, 3.0, 3.0, 3.0, 3.0, 3.0, 3.0, 3.0, 3.0, 3.0, 3.0, 3.0, 3.0, 3.0, 3.0, 3.0, 3.0, 3.0, 3.0, 3.0, 3.0, 3.0, 3.0, 3.0, 3.0, 3.0, 3.0, 3.0, 3.0, 3.0, 3.0, 3.0, 3.0, 3.0, 3.0, 3.0, 3.0, 3.0, 3.0, 3.0, 3.0, 3.0, 3.0, 3.0, 3.0, 3.0, 3.0, 3.0, 3.0, 3.0, 3.0, 3.0, 3.0, 3.0, 3.0, 3.0, 3.0, 3.0, 3.0, 3.0, 3.0, 3.0, 3.0, 3.0, 3.0, 3.0, 3.0, 3.0, 3.0, 3.0, 3.0, 3.0, 3.0, 3.0, 3.0, 3.0, 3.0, 3.0, 3.0, 3.0, 3.0, 3.0, 3.0, 3.0, 3.0, 3.0, 3.0, 3.0, 3.0, 3.0, 3.0, 3.0, 3.0, 3.0, 3.0, 3.0, 3.0, 3.0, 3.0, 3.0, 3.0, 3.0, 3.0, 3.0, 3.0, 3.0, 3.0, 3.0, 3.0, 3.0, 3.0, 3.0, 3.0, 3.0, 3.0, 3.0, 3.0, 3.0, 3.0, 3.0, 3.0, 3.0, 3.0, 3.0, 3.0, 3.0, 3.0, 3.0, 3.0, 3.0, 3.0, 3.0, 3.0, 3.0, 3.0, 3.0, 3.0, 3.0, 3.0, 3.0, 3.0, 3.0, 3.0, 3.0, 3.0, 3.0, 3.0, 3.0, 3.0, 3.0, 3.0, 3.0, 3.0, 3.0, 3.0, 3.0, 3.0, 3.0, 3.0, 3.0, 3.0, 3.0, 3.0, 3.0, 3.0, 3.0, 3.0, 3.0, 3.0, 3.0, 3.0, 3.0, 3.0, 3.0, 3.0, 3.0, 3.0, 3.0, 3.0, 3.0, 3.0, 3.0, 3.0, 3.0, 3.0, 3.0, 3.0, 3.0, 3.0, 3.0, 3.0, 3.0, 3.0, 3.0, 3.0, 3.0, 3.0, 3.0, 3.0, 3.0, 3.0, 3.0, 3.0, 3.0, 3.0, 3.0, 3.0, 3.0, 3.0, 3.0, 3.0, 3.0, 3.0, 3.0, 3.0, 3.0, 3.0, 3.0, 3.0, 3.0, 3.0, 3.0, 3.0, 3.0, 3.0, 3.0, 3.0, 3.0, 3.0, 3.0, 3.0, 3.0, 3.0, 3.0, 3.0, 3.0, 3.0, 3.0, 3.0, 3.0, 3.0, 3.0, 3.0, 3.0, 3.0, 3.0, 3.0, 3.0, 3.0, 3.0, 3.0, 3.0, 3.0, 3.0, 3.0, 3.0, 3.0, 3.0, 3.0, 3.0, 3.0, 3.0, 3.0, 3.0, 3.0, 3.0, 3.0, 3.0, 3.0, 3.0, 3.0, 3.0, 3.0, 3.0, 3.0, 3.0, 3.0, 3.0, 3.0, 3.0, 3.0, 3.0, 3.0, 3.0, 3.0, 3.0, 3.0, 3.0, 3.0, 3.0, 3.0, 3.0, 3.0, 3.0, 3.0, 3.0, 3.0, 3.0, 3.0, 3.0, 3.0, 3.0, 3.0, 3.0, 3.0, 3.0, 3.0, 3.0, 3.0, 3.0, 3.0, 3.0, 3.0, 3.0, 3.0, 3.0, 3.0, 3.0, 3.0, 3.0, 3.0, 3.0, 3.0, 3.0, 3.0, 3.0, 3.0, 3.0, 3.0, 3.0, 3.0, 3.0, 3.0, 3.0, 3.0, 3.0, 3.0, 3.0, 3.0, 3.0, 3.0, 3.0, 3.0, 3.0, 3.0, 3.0, 3.0, 3.0, 3.0, 3.0, 3.0, 3.0, 3.0, 3.0, 3.0, 3.0, 4.0, 4.0, 4.0, 4.0, 4.0, 4.0, 4.0, 4.0, 4.0, 4.0, 4.0, 4.0, 4.0, 4.0, 4.0, 4.0, 4.0, 4.0, 4.0, 4.0, 4.0, 4.0, 4.0, 4.0, 4.0, 4.0, 4.0, 4.0, 4.0, 4.0, 4.0, 4.0, 4.0, 4.0, 4.0, 4.0, 4.0, 4.0, 4.0, 4.0, 4.0, 4.0, 4.0, 4.0, 4.0, 4.0, 4.0, 4.0, 4.0, 4.0, 4.0, 4.0, 4.0, 4.0, 4.0, 4.0, 4.0, 4.0, 4.0, 4.0, 4.0, 4.0, 4.0, 4.0, 4.0, 4.0, 4.0, 4.0, 4.0, 4.0, 4.0, 4.0, 4.0, 4.0, 4.0, 4.0, 4.0, 4.0, 4.0, 4.0, 4.0, 4.0, 4.0, 4.0, 4.0, 4.0, 4.0, 4.0, 4.0, 4.0, 4.0, 4.0, 4.0, 4.0, 4.0, 4.0, 4.0, 4.0, 4.0, 4.0, 4.0, 4.0, 4.0, 4.0, 4.0, 4.0, 4.0, 4.0, 4.0, 4.0, 4.0, 4.0, 4.0, 4.0, 4.0, 4.0, 4.0, 4.0, 4.0, 4.0, 4.0, 4.0, 4.0, 4.0, 4.0, 4.0, 4.0, 4.0, 4.0, 4.0, 4.0, 4.0, 4.0, 4.0, 4.0, 4.0, 4.0, 4.0, 4.0, 4.0, 4.0, 4.0, 4.0, 4.0, 4.0, 4.0, 4.0, 4.0, 4.0, 4.0, 4.0, 4.0, 4.0, 4.0, 4.0, 4.0, 4.0, 4.0, 4.0, 4.0, 4.0, 4.0, 4.0, 4.0, 4.0, 4.0, 4.0, 4.0, 4.0, 4.0, 4.0, 4.0, 4.0, 4.0, 4.0, 4.0, 4.0, 4.0, 4.0, 4.0, 4.0, 4.0, 4.0, 4.0, 4.0, 4.0, 4.0, 4.0, 4.0, 4.0, 4.0, 4.0, 4.0, 4.0, 4.0, 4.0, 4.0, 4.0, 4.0, 4.0, 4.0, 4.0, 4.0, 4.0, 4.0, 4.0, 4.0, 4.0, 4.0, 4.0, 4.0, 4.0, 4.0, 4.0, 4.0, 4.0, 4.0, 4.0, 4.0, 4.0, 4.0, 4.0, 4.0, 4.0, 4.0, 4.0, 4.0, 4.0, 4.0, 4.0, 4.0, 4.0, 4.0, 4.0, 4.0, 4.0, 4.0, 4.0, 4.0, 4.0, 4.0, 4.0, 4.0, 4.0, 4.0, 4.0, 4.0, 4.0, 4.0, 4.0, 4.0, 4.0, 4.0, 4.0, 4.0, 4.0, 4.0, 4.0, 4.0, 4.0, 4.0, 4.0, 4.0, 4.0, 4.0, 4.0, 4.0, 4.0, 4.0, 4.0, 4.0, 4.0, 4.0, 4.0, 4.0, 4.0, 4.0, 4.0, 4.0, 4.0, 4.0, 4.0, 4.0, 4.0, 4.0, 4.0, 4.0, 4.0, 4.0, 4.0, 4.0, 4.0, 4.0, 4.0, 4.0, 4.0, 4.0, 4.0, 4.0, 4.0, 4.0, 4.0, 4.0, 4.0, 4.0, 4.0, 4.0, 4.0, 4.0, 4.0, 4.0, 4.0, 4.0, 4.0, 4.0, 4.0, 4.0, 4.0, 4.0, 4.0, 4.0, 4.0, 4.0, 4.0, 4.0, 4.0, 4.0, 4.0, 4.0, 4.0, 4.0, 4.0, 4.0, 4.0, 4.0, 4.0, 4.0, 4.0, 4.0, 4.0, 4.0, 4.0, 4.0, 4.0, 4.0, 4.0, 4.0, 4.0, 4.0, 4.0, 4.0, 4.0, 4.0, 4.0, 4.0, 4.0, 4.0, 4.0, 4.0, 4.0, 4.0, 4.0, 4.0, 4.0, 4.0, 4.0, 4.0, 4.0, 4.0, 4.0, 4.0, 4.0, 4.0, 4.0, 4.0, 4.0, 4.0, 4.0, 4.0, 4.0, 4.0, 4.0, 4.0, 4.0, 4.0, 4.0, 4.0, 4.0, 4.0, 4.0, 4.0, 4.0, 4.0, 4.0, 4.0, 4.0, 4.0, 4.0, 4.0, 4.0, 4.0, 4.0, 4.0, 4.0, 4.0, 4.0, 4.0, 4.0, 4.0, 4.0, 4.0, 4.0, 4.0, 4.0, 4.0, 4.0, 4.0, 4.0, 4.0, 4.0, 4.0, 4.0, 4.0, 4.0, 4.0, 4.0, 4.0, 4.0, 4.0, 4.0, 4.0, 4.0, 4.0, 4.0, 4.0, 4.0, 4.0, 4.0, 4.0, 4.0, 4.0, 4.0, 4.0, 4.0, 4.0, 4.0, 4.0, 4.0, 4.0, 4.0, 4.0, 4.0, 4.0, 4.0, 4.0, 4.0, 4.0, 4.0, 4.0, 4.0, 4.0, 4.0, 4.0, 4.0, 4.0, 4.0, 4.0, 4.0, 4.0, 4.0, 4.0, 4.0, 4.0, 4.0, 4.0, 4.0, 4.0, 4.0, 4.0, 4.0, 4.0, 4.0, 4.0, 4.0, 4.0, 4.0, 4.0, 4.0, 4.0, 4.0, 4.0, 4.0, 4.0, 4.0, 4.0, 4.0, 4.0, 4.0, 4.0, 4.0, 4.0, 4.0, 4.0, 4.0, 4.0, 4.0, 4.0, 4.0, 4.0, 4.0, 4.0, 4.0, 4.0, 4.0, 4.0, 4.0, 4.0, 4.0, 4.0, 4.0, 4.0, 4.0, 4.0, 4.0, 4.0, 4.0, 4.0, 4.0, 4.0, 4.0, 4.0, 4.0, 4.0, 4.0, 4.0, 4.0, 4.0, 4.0, 4.0, 4.0, 4.0, 4.0, 4.0, 4.0, 4.0, 4.0, 4.0, 4.0, 4.0, 4.0, 4.0, 4.0, 4.0, 4.0, 4.0, 4.0, 4.0, 4.0, 4.0, 4.0, 4.0, 4.0, 4.0, 4.0, 4.0, 4.0, 4.0, 4.0, 4.0, 4.0, 4.0, 4.0, 4.0, 4.0, 4.0, 4.0, 4.0, 4.0, 4.0, 4.0, 4.0, 4.0, 4.0, 4.0, 4.0, 4.0, 4.0, 4.0, 4.0, 4.0, 4.0, 4.0, 4.0, 4.0, 4.0, 4.0, 4.0, 4.0, 4.0, 4.0, 4.0, 4.0, 4.0, 4.0, 4.0, 4.0, 4.0, 4.0, 4.0, 4.0, 4.0, 4.0, 4.0, 4.0, 4.0, 4.0, 4.0, 4.0, 4.0, 4.0, 4.0, 4.0, 4.0, 4.0, 4.0, 4.0, 4.0, 4.0, 4.0, 4.0, 4.0, 4.0, 4.0, 4.0, 4.0, 4.0, 4.0, 4.0, 4.0, 4.0, 4.0, 4.0, 4.0, 4.0, 4.0, 4.0, 4.0, 4.0, 4.0, 4.0, 4.0, 4.0, 4.0, 4.0, 4.0, 4.0, 4.0, 4.0, 4.0, 4.0, 4.0, 4.0, 4.0, 4.0, 4.0, 4.0, 4.0, 4.0, 4.0, 4.0, 4.0, 4.0, 4.0, 4.0, 4.0, 4.0, 4.0, 4.0, 4.0, 4.0, 4.0, 4.0, 4.0, 4.0, 4.0, 4.0, 4.0, 4.0, 4.0, 4.0, 4.0, 4.0, 4.0, 4.0, 4.0, 4.0, 4.0, 4.0, 4.0, 4.0, 4.0, 4.0, 4.0, 4.0, 4.0, 4.0, 4.0, 4.0, 4.0, 4.0, 4.0, 4.0, 4.0, 4.0, 4.0, 4.0, 4.0, 4.0, 4.0, 4.0, 4.0, 4.0, 4.0, 4.0, 4.0, 4.0, 4.0, 4.0, 4.0, 4.0, 4.0, 4.0, 4.0, 4.0, 4.0, 4.0, 4.0, 4.0, 4.0, 4.0, 4.0, 4.0, 4.0, 4.0, 4.0, 4.0, 4.0, 4.0, 4.0, 4.0, 4.0, 4.0, 4.0, 4.0, 4.0, 4.0, 4.0, 4.0, 4.0, 4.0, 4.0, 4.0, 4.0, 4.0, 4.0, 4.0, 4.0, 4.0, 4.0, 4.0, 4.0, 4.0, 4.0, 4.0, 4.0, 4.0, 4.0, 4.0, 4.0, 4.0, 4.0, 4.0, 4.0, 4.0, 4.0, 4.0, 4.0, 4.0, 4.0, 4.0, 4.0, 4.0, 4.0, 4.0, 4.0, 4.0, 4.0, 4.0, 4.0, 4.0, 4.0, 4.0, 4.0, 4.0, 4.0, 4.0, 4.0, 4.0, 4.0, 4.0, 4.0, 4.0, 4.0, 4.0, 4.0, 5.0, 5.0, 5.0, 5.0, 5.0, 5.0, 5.0, 5.0, 5.0, 5.0, 5.0, 5.0, 5.0, 5.0, 5.0, 5.0, 5.0, 5.0, 5.0, 5.0, 5.0, 5.0, 5.0, 5.0, 5.0, 5.0, 5.0, 5.0, 5.0, 5.0, 5.0, 5.0, 5.0, 5.0, 5.0, 5.0, 5.0, 5.0, 5.0, 5.0, 5.0, 5.0, 5.0, 5.0, 5.0, 5.0, 5.0, 5.0, 5.0, 5.0, 5.0, 5.0, 5.0, 5.0, 5.0, 5.0, 5.0, 5.0, 5.0, 5.0, 5.0, 5.0, 5.0, 5.0, 5.0, 5.0, 5.0, 5.0, 5.0, 5.0, 5.0, 5.0, 5.0, 5.0, 5.0, 5.0, 5.0, 5.0, 5.0, 5.0, 5.0, 5.0, 5.0, 5.0, 5.0, 5.0, 5.0, 5.0, 5.0, 5.0, 5.0, 5.0, 5.0, 5.0, 5.0, 5.0, 5.0, 5.0, 5.0, 5.0, 5.0, 5.0, 5.0, 5.0, 5.0, 5.0, 5.0, 5.0, 5.0, 5.0, 5.0, 5.0, 5.0, 5.0, 5.0, 5.0, 5.0, 5.0, 5.0, 5.0, 5.0, 5.0, 5.0, 5.0, 5.0, 5.0, 5.0, 5.0, 5.0, 5.0, 5.0, 5.0, 5.0, 5.0, 5.0, 5.0, 5.0, 5.0, 5.0, 5.0, 5.0, 5.0, 5.0, 5.0, 5.0, 5.0, 5.0, 5.0, 5.0, 5.0, 5.0, 5.0, 5.0, 5.0, 5.0, 5.0, 5.0, 5.0, 5.0, 5.0, 5.0, 5.0, 5.0, 5.0, 5.0, 5.0, 5.0, 5.0, 5.0, 5.0, 5.0, 5.0, 5.0, 5.0, 5.0, 5.0, 5.0, 5.0, 5.0, 5.0, 5.0, 5.0, 5.0, 5.0, 5.0, 5.0, 5.0, 5.0, 5.0, 5.0, 5.0, 5.0, 5.0, 5.0, 5.0, 5.0, 5.0, 5.0, 5.0, 5.0, 5.0, 5.0, 5.0, 5.0, 5.0, 5.0, 5.0, 5.0, 5.0, 5.0, 5.0, 5.0, 5.0, 5.0, 5.0, 5.0, 5.0, 5.0, 5.0, 5.0, 5.0, 5.0, 5.0, 5.0, 5.0, 5.0, 5.0, 5.0, 5.0, 5.0, 5.0, 5.0, 5.0, 5.0, 5.0, 5.0, 5.0, 5.0, 5.0, 5.0, 5.0, 5.0, 5.0, 5.0, 5.0, 5.0, 5.0, 5.0, 5.0, 5.0, 5.0, 5.0, 5.0, 5.0, 5.0, 5.0, 5.0, 5.0, 5.0, 5.0, 5.0, 5.0, 5.0, 5.0, 5.0, 5.0, 5.0, 5.0, 5.0, 5.0, 5.0, 5.0, 5.0, 5.0, 5.0, 5.0, 5.0, 5.0, 5.0, 5.0, 5.0, 5.0, 5.0, 5.0, 5.0, 5.0, 5.0, 5.0, 5.0, 5.0, 5.0, 5.0, 5.0, 5.0, 5.0, 5.0, 5.0, 5.0, 5.0, 5.0, 5.0, 5.0, 5.0, 5.0, 5.0, 5.0, 5.0, 5.0, 5.0, 5.0, 5.0, 5.0, 5.0, 5.0, 5.0, 5.0, 5.0, 5.0, 5.0, 5.0, 5.0, 5.0, 5.0, 5.0, 5.0, 5.0, 5.0, 5.0, 5.0, 5.0, 5.0, 5.0, 5.0, 5.0, 5.0, 5.0, 5.0, 5.0, 5.0, 5.0, 5.0, 5.0, 5.0, 5.0, 5.0, 5.0, 5.0, 5.0, 5.0, 5.0, 5.0, 5.0, 5.0, 5.0, 5.0, 5.0, 5.0, 5.0, 5.0, 5.0, 5.0, 5.0, 5.0, 5.0, 5.0, 5.0, 5.0, 5.0, 5.0, 5.0, 5.0, 5.0, 5.0, 5.0, 5.0, 5.0, 5.0, 5.0, 5.0, 5.0, 5.0, 5.0, 5.0, 5.0, 5.0, 5.0, 5.0, 5.0, 5.0, 5.0, 5.0, 5.0, 5.0, 5.0, 5.0, 5.0, 5.0, 5.0, 5.0, 5.0, 5.0, 5.0, 5.0, 5.0, 5.0, 5.0, 5.0, 5.0, 5.0, 5.0, 5.0, 5.0, 5.0, 5.0, 5.0, 5.0, 5.0, 5.0, 5.0, 5.0, 5.0, 5.0, 5.0, 5.0, 5.0, 5.0, 5.0, 5.0, 5.0, 5.0, 5.0, 5.0, 5.0, 5.0, 5.0, 5.0, 5.0, 5.0, 5.0, 5.0, 5.0, 5.0, 5.0, 5.0, 5.0, 5.0, 5.0, 5.0, 5.0, 5.0, 5.0, 5.0, 5.0, 5.0, 5.0, 5.0, 5.0, 5.0, 5.0, 5.0, 5.0, 5.0, 5.0, 5.0, 5.0, 5.0, 5.0, 5.0, 5.0, 5.0, 5.0, 5.0, 5.0, 5.0, 5.0, 5.0, 5.0, 5.0, 5.0, 5.0, 5.0, 5.0, 5.0, 5.0, 5.0, 5.0, 5.0, 5.0, 5.0, 5.0, 5.0, 5.0, 5.0, 5.0, 5.0, 5.0, 5.0, 5.0, 5.0, 5.0, 5.0, 5.0, 5.0, 5.0, 5.0, 5.0, 5.0, 5.0, 5.0, 5.0, 5.0, 5.0, 5.0, 5.0, 5.0, 5.0, 5.0, 5.0, 5.0, 5.0, 5.0, 5.0, 5.0, 5.0, 5.0, 5.0, 5.0, 5.0, 5.0, 5.0, 5.0, 5.0, 5.0, 5.0, 5.0, 5.0, 5.0, 5.0, 5.0, 5.0, 5.0, 5.0, 5.0, 5.0, 5.0, 5.0, 5.0, 5.0, 5.0, 5.0, 5.0, 5.0, 5.0, 5.0, 5.0, 5.0, 5.0, 5.0, 5.0, 5.0, 5.0, 5.0, 5.0, 5.0, 5.0, 5.0, 5.0, 5.0, 5.0, 5.0, 5.0, 5.0, 5.0, 5.0, 5.0, 5.0, 5.0, 5.0, 5.0, 5.0, 5.0, 5.0, 5.0, 5.0, 5.0, 5.0, 5.0, 5.0, 5.0, 5.0, 5.0, 5.0, 5.0, 5.0, 5.0, 5.0, 5.0, 5.0, 5.0, 5.0, 5.0, 5.0, 5.0, 5.0, 5.0, 5.0, 5.0, 5.0, 5.0, 5.0, 5.0, 5.0, 5.0, 5.0, 5.0, 5.0, 5.0, 5.0, 5.0, 5.0, 5.0, 5.0, 5.0, 5.0, 5.0, 5.0, 5.0, 5.0, 5.0, 5.0, 5.0, 5.0, 5.0, 5.0, 5.0, 5.0, 5.0, 5.0, 5.0, 5.0, 5.0, 5.0, 5.0, 5.0, 5.0, 5.0, 5.0, 5.0, 5.0, 5.0, 5.0, 5.0, 5.0, 5.0, 5.0, 5.0, 5.0, 5.0, 5.0, 5.0, 5.0, 5.0, 5.0, 5.0, 5.0, 5.0, 5.0, 5.0, 5.0, 5.0, 5.0, 5.0, 5.0, 5.0, 5.0, 5.0, 5.0, 5.0, 5.0, 5.0, 5.0, 5.0, 5.0, 5.0, 5.0, 5.0, 5.0, 5.0, 5.0, 5.0, 5.0, 5.0, 5.0, 5.0, 5.0, 5.0, 5.0, 5.0, 5.0, 5.0, 5.0, 5.0, 5.0, 5.0, 5.0, 5.0, 5.0, 5.0, 5.0, 5.0, 5.0, 5.0, 5.0, 5.0, 5.0, 5.0, 5.0, 5.0, 5.0, 5.0, 5.0, 5.0, 5.0, 5.0, 5.0, 5.0, 5.0, 5.0, 5.0, 5.0, 5.0, 5.0, 5.0, 5.0, 5.0, 5.0, 5.0, 5.0, 5.0, 5.0, 5.0, 5.0, 5.0, 5.0, 5.0, 5.0, 5.0, 5.0, 5.0, 5.0, 5.0, 5.0, 5.0, 5.0, 5.0, 5.0, 5.0, 5.0, 5.0, 5.0, 5.0, 5.0, 5.0, 5.0, 5.0, 5.0, 5.0, 5.0, 5.0, 5.0, 5.0, 5.0, 5.0, 5.0, 5.0, 5.0, 5.0, 5.0, 5.0, 5.0, 5.0, 5.0, 5.0, 5.0, 5.0, 5.0, 5.0, 5.0, 5.0, 5.0, 5.0, 5.0, 5.0, 5.0, 5.0, 5.0, 5.0, 5.0, 5.0, 5.0, 5.0, 5.0, 5.0, 5.0, 5.0, 5.0, 6.0, 6.0, 6.0, 6.0, 6.0, 6.0, 6.0, 6.0, 6.0, 6.0, 6.0, 6.0, 6.0, 6.0, 6.0, 6.0, 6.0, 6.0, 6.0, 6.0, 6.0, 6.0, 6.0, 6.0, 6.0, 6.0, 6.0, 6.0, 6.0, 6.0, 6.0, 6.0, 6.0, 6.0, 6.0, 6.0, 6.0, 6.0, 6.0, 6.0, 6.0, 6.0, 6.0, 6.0, 6.0, 6.0, 6.0, 6.0, 6.0, 6.0, 6.0, 6.0, 6.0, 6.0, 6.0, 6.0, 6.0, 6.0, 6.0, 6.0, 6.0, 6.0, 6.0, 6.0, 6.0, 6.0, 6.0, 6.0, 6.0, 6.0, 6.0, 6.0, 6.0, 6.0, 6.0, 6.0, 6.0, 6.0, 6.0, 6.0, 6.0, 6.0, 6.0, 6.0, 6.0, 6.0, 6.0, 6.0, 6.0, 6.0, 6.0, 6.0, 6.0, 6.0, 6.0, 6.0, 6.0, 6.0, 6.0, 6.0, 6.0, 6.0, 6.0, 6.0, 6.0, 6.0, 6.0, 6.0, 6.0, 6.0, 6.0, 6.0, 6.0, 6.0, 6.0, 6.0, 6.0, 6.0, 6.0, 6.0, 6.0, 6.0, 6.0, 6.0, 6.0, 6.0, 6.0, 6.0, 6.0, 6.0, 6.0, 6.0, 6.0, 6.0, 6.0, 6.0, 6.0, 6.0, 6.0, 6.0, 6.0, 6.0, 6.0, 6.0, 6.0, 6.0, 6.0, 6.0, 6.0, 6.0, 6.0, 6.0, 6.0, 6.0, 6.0, 6.0, 6.0, 6.0, 6.0, 6.0, 6.0, 6.0, 6.0, 6.0, 6.0, 6.0, 6.0, 6.0, 6.0, 6.0, 6.0, 6.0, 6.0, 6.0, 6.0, 6.0, 6.0, 6.0, 6.0, 6.0, 6.0, 6.0, 6.0, 6.0, 6.0, 6.0, 6.0, 6.0, 6.0, 6.0, 6.0, 6.0, 6.0, 6.0, 6.0, 6.0, 6.0, 6.0, 6.0, 6.0, 6.0, 6.0, 6.0, 6.0, 6.0, 6.0, 6.0, 6.0, 6.0, 6.0, 6.0, 6.0, 6.0, 6.0, 6.0, 6.0, 6.0, 6.0, 6.0, 6.0, 6.0, 6.0, 6.0, 6.0, 6.0, 6.0, 6.0, 6.0, 6.0, 6.0, 6.0, 6.0, 6.0, 6.0, 6.0, 6.0, 6.0, 6.0, 6.0, 6.0, 6.0, 6.0, 6.0, 6.0, 6.0, 6.0, 6.0, 6.0, 6.0, 6.0, 6.0, 6.0, 6.0, 6.0, 6.0, 6.0, 6.0, 6.0, 6.0, 6.0, 6.0, 6.0, 6.0, 6.0, 6.0, 6.0, 6.0, 6.0, 6.0, 6.0, 6.0, 6.0, 6.0, 6.0, 6.0, 6.0, 6.0, 6.0, 6.0, 6.0, 6.0, 6.0, 6.0, 6.0, 6.0, 6.0, 6.0, 6.0, 6.0, 6.0, 6.0, 6.0, 6.0, 6.0, 6.0, 6.0, 6.0, 6.0, 6.0, 6.0, 6.0, 6.0, 6.0, 6.0, 6.0, 6.0, 6.0, 6.0, 6.0, 6.0, 6.0, 6.0, 6.0, 6.0, 6.0, 6.0, 6.0, 6.0, 6.0, 6.0, 6.0, 6.0, 6.0, 6.0, 6.0, 6.0, 6.0, 6.0, 6.0, 6.0, 6.0, 6.0, 6.0, 6.0, 6.0, 6.0, 6.0, 6.0, 6.0, 6.0, 6.0, 6.0, 6.0, 6.0, 6.0, 6.0, 6.0, 6.0, 6.0, 6.0, 6.0, 6.0, 6.0, 6.0, 6.0, 6.0, 6.0, 6.0, 6.0, 6.0, 6.0, 6.0, 6.0, 6.0, 6.0, 6.0, 6.0, 6.0, 6.0, 6.0, 6.0, 6.0, 6.0, 6.0, 6.0, 6.0, 6.0, 6.0, 6.0, 6.0, 6.0, 6.0, 6.0, 6.0, 6.0, 6.0, 6.0, 6.0, 6.0, 6.0, 6.0, 6.0, 6.0, 6.0, 6.0, 6.0, 6.0, 6.0, 6.0, 6.0, 6.0, 6.0, 6.0, 6.0, 6.0, 6.0, 6.0, 6.0, 6.0, 6.0, 6.0, 6.0, 6.0, 6.0, 6.0, 6.0, 6.0, 6.0, 6.0, 6.0, 6.0, 6.0, 6.0, 6.0, 6.0, 6.0, 6.0, 6.0, 6.0, 6.0, 6.0, 6.0, 6.0, 6.0, 6.0, 6.0, 6.0, 6.0, 6.0, 6.0, 6.0, 6.0, 6.0, 6.0, 6.0, 6.0, 6.0, 6.0, 6.0, 6.0, 6.0, 6.0, 6.0, 6.0, 6.0, 6.0, 6.0, 6.0, 6.0, 6.0, 6.0, 6.0, 6.0, 6.0, 6.0, 6.0, 6.0, 6.0, 6.0, 6.0, 6.0, 6.0, 6.0, 6.0, 6.0, 6.0, 6.0, 6.0, 6.0, 6.0, 6.0, 6.0, 6.0, 6.0, 6.0, 6.0, 6.0, 6.0, 6.0, 6.0, 6.0, 6.0, 6.0, 6.0, 6.0, 6.0, 6.0, 6.0, 6.0, 6.0, 6.0, 6.0, 6.0, 6.0, 6.0, 6.0, 6.0, 6.0, 6.0, 6.0, 6.0, 6.0, 6.0, 6.0, 6.0, 6.0, 6.0, 6.0, 6.0, 6.0, 6.0, 6.0, 6.0, 6.0, 6.0, 6.0, 6.0, 6.0, 6.0, 6.0, 6.0, 6.0, 6.0, 6.0, 6.0, 6.0, 6.0, 6.0, 6.0, 6.0, 6.0, 6.0, 6.0, 6.0, 6.0, 6.0, 6.0, 6.0, 6.0, 6.0, 6.0, 6.0, 6.0, 6.0, 6.0, 6.0, 6.0, 6.0, 6.0, 6.0, 6.0, 6.0, 6.0, 6.0, 6.0, 6.0, 6.0, 6.0, 6.0, 6.0, 6.0, 6.0, 6.0, 6.0, 6.0, 6.0, 6.0, 6.0, 6.0, 6.0, 6.0, 6.0, 6.0, 6.0, 6.0, 6.0, 6.0, 6.0, 6.0, 6.0, 6.0, 6.0, 6.0, 6.0, 6.0, 6.0, 6.0, 6.0, 6.0, 6.0, 6.0, 6.0, 6.0, 6.0, 6.0, 6.0, 6.0, 6.0, 6.0, 6.0, 6.0, 6.0, 6.0, 6.0, 6.0, 6.0, 6.0, 6.0, 6.0, 6.0, 6.0, 6.0, 6.0, 6.0, 6.0, 6.0, 6.0, 6.0, 6.0, 6.0, 6.0, 6.0, 6.0, 6.0, 6.0, 6.0, 6.0, 6.0, 6.0, 6.0, 6.0, 6.0, 6.0, 6.0, 6.0, 6.0, 6.0, 6.0, 6.0, 6.0, 6.0, 6.0, 6.0, 6.0, 6.0, 6.0, 6.0, 6.0, 6.0, 6.0, 6.0, 6.0, 6.0, 6.0, 6.0, 6.0, 6.0, 6.0, 6.0, 6.0, 6.0, 6.0, 6.0, 6.0, 6.0, 6.0, 6.0, 6.0, 6.0, 6.0, 6.0, 6.0, 6.0, 6.0, 6.0, 6.0, 6.0, 6.0, 6.0, 6.0, 6.0, 6.0, 6.0, 6.0, 6.0, 6.0, 6.0, 6.0, 6.0, 6.0, 6.0, 6.0, 6.0, 6.0, 6.0, 6.0, 6.0, 6.0, 6.0, 6.0, 6.0, 6.0, 6.0, 6.0, 6.0, 6.0, 6.0, 6.0, 6.0, 6.0, 6.0, 6.0, 6.0, 6.0, 6.0, 6.0, 6.0, 6.0, 6.0, 6.0, 6.0, 6.0, 6.0, 6.0, 6.0, 6.0, 6.0, 6.0, 6.0, 6.0, 6.0, 6.0, 6.0, 6.0, 6.0, 6.0, 6.0, 6.0, 6.0, 6.0, 6.0, 6.0, 6.0, 6.0, 6.0, 6.0, 6.0, 6.0, 6.0, 6.0, 6.0, 6.0, 6.0, 6.0, 6.0, 6.0, 6.0, 6.0, 6.0, 6.0, 6.0, 6.0, 6.0, 6.0, 6.0, 6.0, 6.0, 6.0, 6.0, 6.0, 6.0, 6.0, 6.0, 6.0, 6.0, 6.0, 6.0, 6.0, 6.0, 6.0, 6.0, 6.0, 6.0, 6.0, 7.0, 7.0, 7.0, 7.0, 7.0, 7.0, 7.0, 7.0, 7.0, 7.0, 7.0, 7.0, 7.0, 7.0, 7.0, 7.0, 7.0, 7.0, 7.0, 7.0, 7.0, 7.0, 7.0, 7.0, 7.0, 7.0, 7.0, 7.0, 7.0, 7.0, 7.0, 7.0, 7.0, 7.0, 7.0, 7.0, 7.0, 7.0, 7.0, 7.0, 7.0, 7.0, 7.0, 7.0, 7.0, 7.0, 7.0, 7.0, 7.0, 7.0, 7.0, 7.0, 7.0, 7.0, 7.0, 7.0, 7.0, 7.0, 7.0, 7.0, 7.0, 7.0, 7.0, 7.0, 7.0, 7.0, 7.0, 7.0, 7.0, 7.0, 7.0, 7.0, 7.0, 7.0, 7.0, 7.0, 7.0, 7.0, 7.0, 7.0, 7.0, 7.0, 7.0, 7.0, 7.0, 7.0, 7.0, 7.0, 7.0, 7.0, 7.0, 7.0, 7.0, 7.0, 7.0, 7.0, 7.0, 7.0, 7.0, 7.0, 7.0, 7.0, 7.0, 7.0, 7.0, 7.0, 7.0, 7.0, 7.0, 7.0, 7.0, 7.0, 7.0, 7.0, 7.0, 7.0, 7.0, 7.0, 7.0, 7.0, 7.0, 7.0, 7.0, 7.0, 7.0, 7.0, 7.0, 7.0, 7.0, 7.0, 7.0, 7.0, 7.0, 7.0, 7.0, 7.0, 7.0, 7.0, 7.0, 7.0, 7.0, 7.0, 7.0, 7.0, 7.0, 7.0, 7.0, 7.0, 7.0, 7.0, 7.0, 7.0, 7.0, 7.0, 7.0, 7.0, 7.0, 7.0, 7.0, 7.0, 7.0, 7.0, 7.0, 7.0, 7.0, 7.0, 7.0, 7.0, 7.0, 7.0, 7.0, 7.0, 7.0, 7.0, 7.0, 7.0, 7.0, 7.0, 7.0, 7.0, 7.0, 7.0, 7.0, 7.0, 7.0, 7.0, 7.0, 7.0, 7.0, 7.0, 7.0, 7.0, 7.0, 7.0, 7.0, 7.0, 7.0, 7.0, 7.0, 7.0, 7.0, 7.0, 7.0, 7.0, 7.0, 7.0, 7.0, 7.0, 7.0, 7.0, 7.0, 7.0, 7.0, 7.0, 7.0, 7.0, 7.0, 7.0, 7.0, 7.0, 7.0, 7.0, 7.0, 7.0, 7.0, 7.0, 7.0, 7.0, 7.0, 7.0, 7.0, 7.0, 7.0, 7.0, 7.0, 7.0, 7.0, 7.0, 7.0, 7.0, 7.0, 7.0, 7.0, 7.0, 7.0, 7.0, 7.0, 7.0, 7.0, 7.0, 7.0, 7.0, 7.0, 7.0, 7.0, 7.0, 7.0, 7.0, 7.0, 7.0, 7.0, 7.0, 7.0, 7.0, 7.0, 7.0, 7.0, 7.0, 7.0, 7.0, 7.0, 7.0, 7.0, 7.0, 7.0, 7.0, 7.0, 7.0, 7.0, 7.0, 7.0, 7.0, 7.0, 7.0, 7.0, 7.0, 7.0, 7.0, 7.0, 7.0, 7.0, 7.0, 7.0, 7.0, 7.0, 7.0, 7.0, 7.0, 7.0, 7.0, 7.0, 7.0, 7.0, 7.0, 7.0, 7.0, 7.0, 7.0, 7.0, 7.0, 7.0, 7.0, 7.0, 7.0, 7.0, 7.0, 7.0, 7.0, 7.0, 7.0, 7.0, 7.0, 7.0, 7.0, 7.0, 7.0, 7.0, 7.0, 7.0, 7.0, 7.0, 7.0, 7.0, 7.0, 7.0, 7.0, 7.0, 7.0, 7.0, 7.0, 7.0, 7.0, 7.0, 7.0, 7.0, 7.0, 7.0, 7.0, 7.0, 7.0, 7.0, 7.0, 7.0, 7.0, 7.0, 7.0, 7.0, 7.0, 7.0, 7.0, 7.0, 7.0, 7.0, 7.0, 7.0, 7.0, 7.0, 7.0, 7.0, 7.0, 7.0, 7.0, 7.0, 7.0, 7.0, 7.0, 7.0, 7.0, 7.0, 7.0, 7.0, 7.0, 7.0, 7.0, 7.0, 7.0, 7.0, 7.0, 7.0, 7.0, 7.0, 7.0, 7.0, 7.0, 7.0, 7.0, 7.0, 7.0, 7.0, 7.0, 7.0, 7.0, 7.0, 7.0, 7.0, 7.0, 7.0, 7.0, 7.0, 7.0, 7.0, 7.0, 7.0, 7.0, 7.0, 7.0, 7.0, 7.0, 7.0, 7.0, 7.0, 7.0, 7.0, 7.0, 7.0, 7.0, 7.0, 7.0, 7.0, 7.0, 7.0, 7.0, 7.0, 7.0, 7.0, 7.0, 7.0, 7.0, 7.0, 7.0, 7.0, 7.0, 7.0, 7.0, 7.0, 7.0, 7.0, 7.0, 7.0, 7.0, 7.0, 7.0, 7.0, 7.0, 7.0, 7.0, 7.0, 7.0, 7.0, 7.0, 7.0, 7.0, 7.0, 7.0, 7.0, 7.0, 7.0, 7.0, 7.0, 7.0, 7.0, 7.0, 7.0, 7.0, 7.0, 7.0, 7.0, 7.0, 7.0, 7.0, 7.0, 7.0, 7.0, 7.0, 7.0, 7.0, 7.0, 7.0, 7.0, 7.0, 7.0, 7.0, 7.0, 7.0, 7.0, 7.0, 7.0, 7.0, 7.0, 7.0, 7.0, 7.0, 7.0, 7.0, 7.0, 7.0, 7.0, 7.0, 7.0, 7.0, 7.0, 7.0, 7.0, 7.0, 7.0, 7.0, 7.0, 7.0, 7.0, 7.0, 7.0, 7.0, 7.0, 7.0, 7.0, 7.0, 7.0, 7.0, 7.0, 7.0, 7.0, 7.0, 7.0, 7.0, 7.0, 7.0, 7.0, 7.0, 7.0, 7.0, 7.0, 7.0, 7.0, 7.0, 7.0, 7.0, 7.0, 7.0, 7.0, 7.0, 7.0, 7.0, 7.0, 7.0, 7.0, 7.0, 7.0, 7.0, 7.0, 7.0, 7.0, 7.0, 7.0, 7.0, 7.0, 7.0, 7.0, 7.0, 7.0, 7.0, 7.0, 7.0, 7.0, 7.0, 7.0, 7.0, 7.0, 7.0, 7.0, 7.0, 7.0, 7.0, 7.0, 7.0, 7.0, 7.0, 7.0, 7.0, 7.0, 7.0, 7.0, 7.0, 7.0, 7.0, 7.0, 7.0, 7.0, 7.0, 7.0, 7.0, 7.0, 7.0, 7.0, 7.0, 7.0, 7.0, 7.0, 7.0, 7.0, 7.0, 7.0, 7.0, 7.0, 7.0, 7.0, 7.0, 7.0, 7.0, 7.0, 7.0, 7.0, 7.0, 7.0, 7.0, 7.0, 7.0, 7.0, 7.0, 7.0, 7.0, 7.0, 7.0, 7.0, 7.0, 7.0, 7.0, 7.0, 7.0, 7.0, 7.0, 7.0, 7.0, 7.0, 7.0, 7.0, 7.0, 7.0, 7.0, 7.0, 7.0, 7.0, 7.0, 7.0, 7.0, 7.0, 7.0, 7.0, 7.0, 7.0, 7.0, 7.0, 7.0, 7.0, 7.0, 7.0, 7.0, 7.0, 7.0, 7.0, 7.0, 7.0, 7.0, 7.0, 7.0, 7.0, 7.0, 7.0, 7.0, 7.0, 7.0, 7.0, 7.0, 7.0, 7.0, 7.0, 7.0, 7.0, 7.0, 7.0, 7.0, 7.0, 7.0, 7.0, 7.0, 7.0, 7.0, 7.0, 7.0, 7.0, 7.0, 7.0, 7.0, 7.0, 7.0, 7.0, 7.0, 7.0, 7.0, 7.0, 7.0, 7.0, 7.0, 7.0, 7.0, 7.0, 7.0, 7.0, 7.0, 7.0, 7.0, 7.0, 7.0, 7.0, 7.0, 7.0, 7.0, 7.0, 7.0, 7.0, 7.0, 7.0, 7.0, 7.0, 7.0, 7.0, 7.0, 7.0, 7.0, 7.0, 7.0, 7.0, 7.0, 7.0, 7.0, 7.0, 7.0, 7.0, 7.0, 7.0, 7.0, 7.0, 7.0, 7.0, 7.0, 7.0, 7.0, 7.0, 7.0, 7.0, 7.0, 7.0, 7.0, 7.0, 7.0, 7.0, 7.0, 7.0, 7.0, 7.0, 7.0, 7.0, 7.0, 7.0, 7.0, 7.0, 7.0, 7.0, 7.0, 7.0, 7.0, 7.0, 7.0, 7.0, 7.0, 7.0, 7.0, 7.0, 7.0, 7.0, 7.0, 7.0, 7.0, 7.0, 7.0, 7.0, 7.0, 7.0, 7.0, 7.0, 7.0, 7.0, 7.0, 7.0, 7.0, 7.0, 7.0, 7.0, 7.0, 7.0, 7.0, 7.0, 7.0, 7.0, 7.0, 7.0, 7.0, 7.0, 8.0, 8.0, 8.0, 8.0, 8.0, 8.0, 8.0, 8.0, 8.0, 8.0, 8.0, 8.0, 8.0, 8.0, 8.0, 8.0, 8.0, 8.0, 8.0, 8.0, 8.0, 8.0, 8.0, 8.0, 8.0, 8.0, 8.0, 8.0, 8.0, 8.0, 8.0, 8.0, 8.0, 8.0, 8.0, 8.0, 8.0, 8.0, 8.0, 8.0, 8.0, 8.0, 8.0, 8.0, 8.0, 8.0, 8.0, 8.0, 8.0, 8.0, 8.0, 8.0, 8.0, 8.0, 8.0, 8.0, 8.0, 8.0, 8.0, 8.0, 8.0, 8.0, 8.0, 8.0, 8.0, 8.0, 8.0, 8.0, 8.0, 8.0, 8.0, 8.0, 8.0, 8.0, 8.0, 8.0, 8.0, 8.0, 8.0, 8.0, 8.0, 8.0, 8.0, 8.0, 8.0, 8.0, 8.0, 8.0, 8.0, 8.0, 8.0, 8.0, 8.0, 8.0, 8.0, 8.0, 8.0, 8.0, 8.0, 8.0, 8.0, 8.0, 8.0, 8.0, 8.0, 8.0, 8.0, 8.0, 8.0, 8.0, 8.0, 8.0, 8.0, 8.0, 8.0, 8.0, 8.0, 8.0, 8.0, 8.0, 8.0, 8.0, 8.0, 8.0, 8.0, 8.0, 8.0, 8.0, 8.0, 8.0, 8.0, 8.0, 8.0, 8.0, 8.0, 8.0, 8.0, 8.0, 8.0, 8.0, 8.0, 8.0, 8.0, 8.0, 8.0, 8.0, 8.0, 8.0, 8.0, 8.0, 8.0, 8.0, 8.0, 8.0, 8.0, 8.0, 8.0, 8.0, 8.0, 8.0, 8.0, 8.0, 8.0, 8.0, 8.0, 8.0, 8.0, 8.0, 8.0, 8.0, 8.0, 8.0, 8.0, 8.0, 8.0, 8.0, 8.0, 8.0, 8.0, 8.0, 8.0, 8.0, 8.0, 8.0, 8.0, 8.0, 8.0, 8.0, 8.0, 8.0, 8.0, 8.0, 8.0, 8.0, 8.0, 8.0, 8.0, 8.0, 8.0, 8.0, 8.0, 8.0, 8.0, 8.0, 8.0, 8.0, 8.0, 8.0, 8.0, 8.0, 8.0, 8.0, 8.0, 8.0, 8.0, 8.0, 8.0, 8.0, 8.0, 8.0, 8.0, 8.0, 8.0, 8.0, 8.0, 8.0, 8.0, 8.0, 8.0, 8.0, 8.0, 8.0, 8.0, 8.0, 8.0, 8.0, 8.0, 8.0, 8.0, 8.0, 8.0, 8.0, 8.0, 8.0, 8.0, 8.0, 8.0, 8.0, 8.0, 8.0, 8.0, 8.0, 8.0, 8.0, 8.0, 8.0, 8.0, 8.0, 8.0, 8.0, 8.0, 8.0, 8.0, 8.0, 8.0, 8.0, 8.0, 8.0, 8.0, 8.0, 8.0, 8.0, 8.0, 8.0, 8.0, 8.0, 8.0, 8.0, 8.0, 8.0, 8.0, 8.0, 8.0, 8.0, 8.0, 8.0, 8.0, 8.0, 8.0, 8.0, 8.0, 8.0, 8.0, 8.0, 8.0, 8.0, 8.0, 8.0, 8.0, 8.0, 8.0, 8.0, 8.0, 8.0, 8.0, 8.0, 8.0, 8.0, 8.0, 8.0, 8.0, 8.0, 8.0, 8.0, 8.0, 8.0, 8.0, 8.0, 8.0, 8.0, 8.0, 8.0, 8.0, 8.0, 8.0, 8.0, 8.0, 8.0, 8.0, 8.0, 8.0, 8.0, 8.0, 8.0, 8.0, 8.0, 8.0, 8.0, 8.0, 8.0, 8.0, 8.0, 8.0, 8.0, 8.0, 8.0, 8.0, 8.0, 8.0, 8.0, 8.0, 8.0, 8.0, 8.0, 8.0, 8.0, 8.0, 8.0, 8.0, 8.0, 8.0, 8.0, 8.0, 8.0, 8.0, 8.0, 8.0, 8.0, 8.0, 8.0, 8.0, 8.0, 8.0, 8.0, 8.0, 8.0, 8.0, 8.0, 8.0, 8.0, 8.0, 8.0, 8.0, 8.0, 8.0, 8.0, 8.0, 8.0, 8.0, 8.0, 8.0, 8.0, 8.0, 8.0, 8.0, 8.0, 8.0, 8.0, 8.0, 8.0, 8.0, 8.0, 8.0, 8.0, 8.0, 8.0, 8.0, 8.0, 8.0, 8.0, 8.0, 8.0, 8.0, 8.0, 8.0, 8.0, 8.0, 8.0, 8.0, 8.0, 8.0, 8.0, 8.0, 8.0, 8.0, 8.0, 8.0, 8.0, 8.0, 8.0, 8.0, 8.0, 8.0, 8.0, 8.0, 8.0, 8.0, 8.0, 8.0, 8.0, 8.0, 8.0, 8.0, 8.0, 8.0, 8.0, 8.0, 8.0, 8.0, 8.0, 8.0, 8.0, 8.0, 8.0, 8.0, 8.0, 8.0, 8.0, 8.0, 8.0, 8.0, 8.0, 8.0, 8.0, 8.0, 8.0, 8.0, 8.0, 8.0, 8.0, 8.0, 8.0, 8.0, 8.0, 8.0, 8.0, 8.0, 8.0, 8.0, 8.0, 8.0, 8.0, 8.0, 8.0, 8.0, 8.0, 8.0, 8.0, 8.0, 8.0, 8.0, 8.0, 8.0, 8.0, 8.0, 8.0, 8.0, 8.0, 8.0, 8.0, 8.0, 8.0, 8.0, 8.0, 8.0, 8.0, 8.0, 8.0, 8.0, 8.0, 8.0, 8.0, 8.0, 8.0, 8.0, 8.0, 8.0, 8.0, 8.0, 8.0, 8.0, 8.0, 8.0, 8.0, 8.0, 8.0, 8.0, 8.0, 8.0, 8.0, 8.0, 8.0, 8.0, 8.0, 8.0, 8.0, 8.0, 8.0, 8.0, 8.0, 8.0, 8.0, 8.0, 8.0, 8.0, 8.0, 8.0, 8.0, 8.0, 8.0, 8.0, 8.0, 8.0, 8.0, 8.0, 8.0, 8.0, 8.0, 8.0, 8.0, 8.0, 8.0, 8.0, 8.0, 8.0, 8.0, 8.0, 8.0, 8.0, 8.0, 8.0, 8.0, 8.0, 8.0, 8.0, 8.0, 8.0, 8.0, 8.0, 8.0, 8.0, 8.0, 8.0, 8.0, 8.0, 8.0, 8.0, 8.0, 8.0, 8.0, 8.0, 8.0, 8.0, 8.0, 8.0, 8.0, 8.0, 8.0, 8.0, 8.0, 8.0, 8.0, 8.0, 8.0, 8.0, 8.0, 8.0, 8.0, 8.0, 8.0, 8.0, 8.0, 8.0, 8.0, 8.0, 8.0, 8.0, 8.0, 8.0, 8.0, 8.0, 8.0, 8.0, 8.0, 8.0, 8.0, 8.0, 8.0, 8.0, 8.0, 8.0, 8.0, 8.0, 8.0, 8.0, 8.0, 8.0, 8.0, 8.0, 8.0, 8.0, 8.0, 8.0, 8.0, 8.0, 8.0, 8.0, 8.0, 8.0, 8.0, 8.0, 8.0, 8.0, 8.0, 8.0, 8.0, 8.0, 8.0, 8.0, 8.0, 8.0, 8.0, 8.0, 8.0, 8.0, 8.0, 8.0, 8.0, 8.0, 8.0, 8.0, 8.0, 8.0, 8.0, 8.0, 8.0, 8.0, 8.0, 8.0, 8.0, 8.0, 8.0, 8.0, 8.0, 8.0, 8.0, 8.0, 8.0, 8.0, 8.0, 8.0, 8.0, 8.0, 8.0, 8.0, 8.0, 8.0, 8.0, 8.0, 8.0, 8.0, 8.0, 8.0, 8.0, 8.0, 8.0, 8.0, 8.0, 8.0, 8.0, 8.0, 8.0, 8.0, 8.0, 8.0, 8.0, 8.0, 8.0, 8.0, 8.0, 8.0, 8.0, 8.0, 8.0, 8.0, 8.0, 8.0, 8.0, 8.0, 8.0, 8.0, 8.0, 8.0, 8.0, 8.0, 8.0, 8.0, 8.0, 8.0, 8.0, 8.0, 8.0, 8.0, 8.0, 8.0, 8.0, 8.0, 8.0, 8.0, 8.0, 8.0, 8.0, 8.0, 8.0, 8.0, 8.0, 8.0, 8.0, 8.0, 8.0, 8.0, 8.0, 8.0, 8.0, 8.0, 8.0, 8.0, 8.0, 8.0, 8.0, 8.0, 8.0, 8.0, 8.0, 8.0, 8.0, 8.0, 8.0, 8.0, 8.0, 8.0, 8.0, 8.0, 8.0, 8.0, 8.0, 8.0, 8.0, 8.0, 8.0, 8.0, 8.0, 8.0, 8.0, 8.0, 8.0, 8.0, 8.0, 9.0, 9.0, 9.0, 9.0, 9.0, 9.0, 9.0, 9.0, 9.0, 9.0, 9.0, 9.0, 9.0, 9.0, 9.0, 9.0, 9.0, 9.0, 9.0, 9.0, 9.0, 9.0, 9.0, 9.0, 9.0, 9.0, 9.0, 9.0, 9.0, 9.0, 9.0, 9.0, 9.0, 9.0, 9.0, 9.0, 9.0, 9.0, 9.0, 9.0, 9.0, 9.0, 9.0, 9.0, 9.0, 9.0, 9.0, 9.0, 9.0, 9.0, 9.0, 9.0, 9.0, 9.0, 9.0, 9.0, 9.0, 9.0, 9.0, 9.0, 9.0, 9.0, 9.0, 9.0, 9.0, 9.0, 9.0, 9.0, 9.0, 9.0, 9.0, 9.0, 9.0, 9.0, 9.0, 9.0, 9.0, 9.0, 9.0, 9.0, 9.0, 9.0, 9.0, 9.0, 9.0, 9.0, 9.0, 9.0, 9.0, 9.0, 9.0, 9.0, 9.0, 9.0, 9.0, 9.0, 9.0, 9.0, 9.0, 9.0, 9.0, 9.0, 9.0, 9.0, 9.0, 9.0, 9.0, 9.0, 9.0, 9.0, 9.0, 9.0, 9.0, 9.0, 9.0, 9.0, 9.0, 9.0, 9.0, 9.0, 9.0, 9.0, 9.0, 9.0, 9.0, 9.0, 9.0, 9.0, 9.0, 9.0, 9.0, 9.0, 9.0, 9.0, 9.0, 9.0, 9.0, 9.0, 9.0, 9.0, 9.0, 9.0, 9.0, 9.0, 9.0, 9.0, 9.0, 9.0, 9.0, 9.0, 9.0, 9.0, 9.0, 9.0, 9.0, 9.0, 9.0, 9.0, 9.0, 9.0, 9.0, 9.0, 9.0, 9.0, 9.0, 9.0, 9.0, 9.0, 9.0, 9.0, 9.0, 9.0, 9.0, 9.0, 9.0, 9.0, 9.0, 9.0, 9.0, 9.0, 9.0, 9.0, 9.0, 9.0, 9.0, 9.0, 9.0, 9.0, 9.0, 9.0, 9.0, 9.0, 9.0, 9.0, 9.0, 9.0, 9.0, 9.0, 9.0, 9.0, 9.0, 9.0, 9.0, 9.0, 9.0, 9.0, 9.0, 9.0, 9.0, 9.0, 9.0, 9.0, 9.0, 9.0, 9.0, 9.0, 9.0, 9.0, 9.0, 9.0, 9.0, 9.0, 9.0, 9.0, 9.0, 9.0, 9.0, 9.0, 9.0, 9.0, 9.0, 9.0, 9.0, 9.0, 9.0, 9.0, 9.0, 9.0, 9.0, 9.0, 9.0, 9.0, 9.0, 9.0, 9.0, 9.0, 9.0, 9.0, 9.0, 9.0, 9.0, 9.0, 9.0, 9.0, 9.0, 9.0, 9.0, 9.0, 9.0, 9.0, 9.0, 9.0, 9.0, 9.0, 9.0, 9.0, 9.0, 9.0, 9.0, 9.0, 9.0, 9.0, 9.0, 9.0, 9.0, 9.0, 9.0, 9.0, 9.0, 9.0, 9.0, 9.0, 9.0, 9.0, 9.0, 9.0, 9.0, 9.0, 9.0, 9.0, 9.0, 9.0, 9.0, 9.0, 9.0, 9.0, 9.0, 9.0, 9.0, 9.0, 9.0, 9.0, 9.0, 9.0, 9.0, 9.0, 9.0, 9.0, 9.0, 9.0, 9.0, 9.0, 9.0, 9.0, 9.0, 9.0, 9.0, 9.0, 9.0, 9.0, 9.0, 9.0, 9.0, 9.0, 9.0, 9.0, 9.0, 9.0, 9.0, 9.0, 9.0, 9.0, 9.0, 9.0, 9.0, 9.0, 9.0, 9.0, 9.0, 9.0, 9.0, 9.0, 9.0, 9.0, 9.0, 9.0, 9.0, 9.0, 9.0, 9.0, 9.0, 9.0, 9.0, 9.0, 9.0, 9.0, 9.0, 9.0, 9.0, 9.0, 9.0, 9.0, 9.0, 9.0, 9.0, 9.0, 9.0, 9.0, 9.0, 9.0, 9.0, 9.0, 9.0, 9.0, 9.0, 9.0, 9.0, 9.0, 9.0, 9.0, 9.0, 9.0, 9.0, 9.0, 9.0, 9.0, 9.0, 9.0, 9.0, 9.0, 9.0, 9.0, 9.0, 9.0, 9.0, 9.0, 9.0, 9.0, 9.0, 9.0, 9.0, 9.0, 9.0, 9.0, 9.0, 9.0, 9.0, 9.0, 9.0, 9.0, 9.0, 9.0, 9.0, 9.0, 9.0, 9.0, 9.0, 9.0, 9.0, 9.0, 9.0, 9.0, 9.0, 9.0, 9.0, 9.0, 9.0, 9.0, 9.0, 9.0, 9.0, 9.0, 9.0, 9.0, 9.0, 9.0, 9.0, 9.0, 9.0, 9.0, 9.0, 9.0, 9.0, 9.0, 9.0, 9.0, 9.0, 9.0, 9.0, 9.0, 9.0, 9.0, 9.0, 9.0, 9.0, 9.0, 9.0, 9.0, 9.0, 9.0, 9.0, 9.0, 9.0, 9.0, 9.0, 9.0, 9.0, 9.0, 9.0, 9.0, 9.0, 9.0, 9.0, 9.0, 9.0, 9.0, 9.0, 9.0, 9.0, 9.0, 9.0, 9.0, 9.0, 9.0, 9.0, 9.0, 9.0, 9.0, 9.0, 9.0, 9.0, 9.0, 9.0, 9.0, 9.0, 9.0, 9.0, 9.0, 9.0, 9.0, 9.0, 9.0, 9.0, 9.0, 9.0, 9.0, 9.0, 9.0, 9.0, 9.0, 9.0, 9.0, 9.0, 9.0, 9.0, 9.0, 9.0, 9.0, 9.0, 9.0, 9.0, 9.0, 9.0, 9.0, 9.0, 9.0, 9.0, 9.0, 9.0, 9.0, 9.0, 9.0, 9.0, 9.0, 9.0, 9.0, 9.0, 9.0, 9.0, 9.0, 9.0, 9.0, 9.0, 9.0, 9.0, 9.0, 9.0, 9.0, 9.0, 9.0, 9.0, 9.0, 9.0, 9.0, 9.0, 9.0, 9.0, 9.0, 9.0, 9.0, 9.0, 9.0, 9.0, 9.0, 9.0, 9.0, 9.0, 9.0, 9.0, 9.0, 9.0, 9.0, 9.0, 9.0, 9.0, 9.0, 9.0, 9.0, 9.0, 9.0, 9.0, 9.0, 9.0, 9.0, 9.0, 9.0, 9.0, 9.0, 9.0, 9.0, 9.0, 9.0, 9.0, 9.0, 9.0, 9.0, 9.0, 9.0, 9.0, 9.0, 9.0, 9.0, 9.0, 9.0, 9.0, 9.0, 9.0, 9.0, 9.0, 9.0, 9.0, 9.0, 9.0, 9.0, 9.0, 9.0, 9.0, 9.0, 9.0, 9.0, 9.0, 9.0, 9.0, 9.0, 9.0, 9.0, 9.0, 9.0, 9.0, 9.0, 9.0, 9.0, 9.0, 9.0, 9.0, 9.0, 9.0, 9.0, 9.0, 9.0, 9.0, 9.0, 9.0, 9.0, 9.0, 9.0, 9.0, 9.0, 9.0, 9.0, 9.0, 9.0, 9.0, 9.0, 9.0, 9.0, 9.0, 9.0, 9.0, 9.0, 9.0, 9.0, 9.0, 9.0, 9.0, 9.0, 9.0, 9.0, 9.0, 9.0, 9.0, 9.0, 9.0, 9.0, 9.0, 9.0, 9.0, 9.0, 9.0, 9.0, 9.0, 9.0, 9.0, 9.0, 9.0, 9.0, 9.0, 9.0, 9.0, 9.0, 9.0, 9.0, 9.0, 9.0, 9.0, 9.0, 9.0, 9.0, 9.0, 9.0, 9.0, 9.0, 9.0, 9.0, 9.0, 9.0, 9.0, 9.0, 9.0, 9.0, 9.0, 9.0, 9.0, 9.0, 9.0, 9.0, 9.0, 9.0, 9.0, 9.0, 9.0, 9.0, 9.0, 9.0, 9.0, 9.0, 9.0, 9.0, 9.0, 9.0, 9.0, 9.0, 9.0, 9.0, 9.0, 9.0, 9.0, 9.0, 9.0, 9.0, 9.0, 9.0, 9.0, 9.0, 9.0, 9.0, 9.0, 9.0, 9.0, 9.0, 9.0, 9.0, 9.0, 9.0, 9.0, 9.0, 9.0, 9.0, 9.0, 9.0, 9.0, 9.0, 9.0, 9.0, 9.0, 9.0, 9.0, 9.0, 9.0, 9.0, 9.0, 9.0, 9.0, 9.0, 9.0, 9.0, 9.0, 9.0, 9.0, 9.0, 9.0, 9.0, 9.0, 9.0, 9.0, 9.0, 9.0, 9.0, 9.0, 9.0, 9.0, 9.0, 9.0, 9.0, 9.0, 9.0, 9.0, 9.0, 9.0, 9.0, 9.0, 9.0, 9.0, 9.0, 9.0, 9.0, 9.0, 9.0, 9.0, 9.0, 9.0, 9.0], \"xaxis\": \"x\", \"y\": [null, null, null, null, null, null, null, null, null, null, null, null, null, null, null, null, null, null, null, null, null, null, null, null, null, null, null, null, null, null, null, null, null, null, null, null, null, null, null, null, null, null, null, null, null, null, null, null, null, null, null, null, null, null, null, null, null, null, null, null, null, null, null, null, null, null, null, null, null, null, null, null, null, null, null, null, null, null, null, null, null, null, null, null, null, null, null, null, null, null, null, null, null, null, null, null, null, null, null, null, null, null, null, null, null, null, null, null, null, null, null, null, null, null, null, null, null, null, null, null, null, null, null, null, null, null, null, null, null, null, null, null, null, null, null, null, null, null, null, null, null, null, null, null, null, null, null, null, null, null, null, null, null, null, null, null, null, null, null, null, null, null, null, null, null, null, null, null, null, null, null, null, null, null, null, null, null, null, null, null, null, null, null, null, null, null, null, null, null, null, null, null, null, null, null, null, null, null, null, null, null, null, null, null, null, null, null, null, null, null, null, null, null, null, null, null, null, null, null, null, null, null, null, null, null, null, null, null, null, null, null, null, null, null, null, null, null, null, null, null, null, null, null, null, null, null, null, null, null, null, null, null, null, null, null, null, null, null, null, null, null, null, null, null, null, null, null, null, null, null, null, null, null, null, null, null, null, null, null, null, null, null, null, null, null, null, null, null, null, null, null, null, null, null, null, null, null, null, null, null, null, null, null, null, null, null, null, null, null, null, null, null, null, null, null, null, null, null, null, null, null, null, null, null, null, null, null, null, null, null, null, null, null, null, null, null, null, null, null, null, null, null, null, null, null, null, null, null, null, null, null, null, null, null, null, null, null, null, null, null, null, null, null, null, null, null, null, null, null, null, null, null, null, null, null, null, null, null, null, null, null, null, null, null, null, null, null, null, null, null, null, null, null, null, null, null, null, null, null, null, null, null, null, null, null, null, null, null, null, null, null, null, null, null, null, null, null, null, null, null, null, null, null, null, null, null, null, null, null, null, null, null, null, null, null, null, null, null, null, null, null, null, null, null, null, null, null, null, null, null, null, null, null, null, null, null, null, null, null, null, null, null, null, null, null, null, null, null, null, null, null, null, null, null, null, null, null, null, null, null, null, null, null, null, null, null, null, null, null, null, null, null, null, null, null, null, null, null, null, null, null, null, null, null, null, null, null, null, null, null, null, null, null, null, null, null, null, null, null, null, null, null, null, null, null, null, null, null, null, null, null, null, null, null, null, null, null, null, null, null, null, null, null, null, null, null, null, null, null, null, null, null, null, null, null, null, null, null, null, null, null, null, null, null, null, null, null, null, null, null, null, null, null, null, null, null, null, null, null, null, null, null, null, null, null, null, null, null, null, null, null, null, null, null, null, null, null, null, null, null, null, null, null, null, null, null, null, null, null, null, null, null, null, null, null, null, null, null, null, null, null, null, null, null, null, null, null, null, null, null, null, null, null, null, null, null, null, null, null, null, null, null, null, null, null, null, null, null, null, null, null, null, null, null, null, null, null, null, null, null, null, null, null, null, null, null, null, null, null, null, null, null, 0.0, -1.0, 1.0, 0.0, 1.0, 1.0, -1.0, 0.0, 0.0, 0.0, 0.0, 0.0, 1.0, 0.0, -1.0, 1.0, 0.0, 0.0, 1.0, 1.0, 1.0, 0.0, -1.0, -1.0, 0.0, -1.0, 0.0, 0.0, 0.0, 0.0, 1.0, 0.0, 1.0, 0.0, 1.0, -1.0, 0.0, -1.0, 0.0, 1.0, 0.0, 0.0, 1.0, -1.0, 1.0, 0.0, -1.0, 0.0, 1.0, 1.0, 1.0, 0.0, 0.0, -1.0, 0.0, 1.0, 1.0, 0.0, 0.0, 1.0, 0.0, 0.0, -1.0, 1.0, 0.0, 0.0, 0.0, 0.0, -1.0, 1.0, 0.0, 0.0, 0.0, 1.0, 1.0, 1.0, 0.0, 0.0, 0.0, 0.0, 0.0, 0.0, 1.0, 0.0, 0.0, 0.0, -1.0, 0.0, 0.0, 0.0, 1.0, 1.0, 0.0, 1.0, 0.0, 1.0, 0.0, 1.0, -1.0, 0.0, 0.0, 1.0, 0.0, 0.0, 0.0, 0.0, -1.0, 0.0, 1.0, 1.0, 1.0, 0.0, 1.0, 0.0, -1.0, 1.0, 0.0, -1.0, 0.0, 0.0, 1.0, 1.0, 1.0, 0.0, 0.0, 1.0, -1.0, 0.0, 1.0, 1.0, -1.0, -1.0, -1.0, 1.0, 0.0, -1.0, -1.0, -1.0, 0.0, 0.0, -1.0, -1.0, 1.0, 0.0, 0.0, 1.0, 0.0, 1.0, -1.0, 1.0, 1.0, 0.0, -1.0, 1.0, 0.0, 0.0, 0.0, 0.0, 1.0, -1.0, 0.0, 0.0, -1.0, 0.0, null, 1.0, null, 1.0, null, null, null, null, null, null, null, null, null, 1.0, null, null, null, null, null, null, null, null, null, 0.0, null, null, null, null, null, null, null, 0.3333333333333333, null, null, null, null, null, null, null, null, null, null, null, null, null, null, null, null, null, null, null, null, 0.0, null, null, null, null, 1.0, null, null, null, 0.0, null, null, null, 0.3333333333333333, null, null, null, null, null, null, null, null, null, null, null, null, null, -0.5, null, null, null, null, null, null, null, null, null, null, null, null, 0.0, null, -1.0, null, null, null, null, null, null, null, null, null, null, 0.0, null, null, null, null, null, null, null, null, null, null, null, null, null, null, 0.0, null, null, null, null, null, null, null, 0.0, 0.3333333333333333, null, null, null, null, null, null, null, null, null, null, -1.0, null, null, null, null, null, null, null, null, null, null, null, 1.0, null, null, null, null, null, 1.0, null, null, null, null, null, 1.0, 0.0, null, null, null, null, 1.0, 1.0, null, null, null, null, null, null, -0.3333333333333333, null, null, null, null, 1.0, null, null, null, null, 0.0, null, null, null, null, null, null, null, null, null, null, null, null, 1.0, 0.0, null, null, 1.0, 1.0, null, 0.3333333333333333, -0.5, null, null, null, null, null, 1.0, null, null, 0.5, null, null, null, null, null, 0.0, null, null, null, null, null, null, null, null, null, null, null, 0.3333333333333333, null, -0.3333333333333333, null, null, null, null, null, null, -1.0, null, null, null, 1.0, null, null, null, null, null, null, 1.0, null, null, null, null, null, 0.0, 0.0, null, null, null, null, null, null, 0.0, 0.3333333333333333, null, 0.0, null, null, null, null, null, null, null, null, null, null, null, 0.0, null, null, -1.0, 0.0, null, null, null, null, null, null, null, null, null, null, null, null, null, null, null, null, null, null, null, null, null, 0.0, null, null, null, null, null, null, 1.0, null, null, -1.0, null, null, null, null, null, -1.0, null, null, null, -0.3333333333333333, null, null, -1.0, -1.0, null, 0.0, -1.0, null, null, null, null, null, null, null, null, null, null, null, null, 0.0, null, null, null, null, null, null, null, null, null, null, null, null, null, null, null, null, null, null, null, null, -0.3333333333333333, null, 0.3333333333333333, null, 1.0, null, null, null, 0.3333333333333333, null, null, null, null, 0.5, null, null, 0.5, null, 0.0, null, null, null, -0.3333333333333333, null, null, null, null, null, 0.0, 0.3333333333333333, null, 0.0, null, null, null, 0.0, null, null, 0.3333333333333333, null, null, 0.0, null, null, null, -0.3333333333333333, 0.3333333333333333, null, 0.0, null, null, null, -0.3333333333333333, null, 1.0, null, null, null, null, null, null, null, 1.0, null, null, null, null, null, null, -1.0, null, 1.0, null, null, null, 0.0, null, 0.0, 1.0, null, null, null, null, null, 0.3333333333333333, 0.0, null, null, null, null, null, null, null, null, null, null, null, null, null, null, null, null, null, null, null, 1.0, null, null, null, null, null, null, 0.0, null, null, null, null, null, null, null, null, null, null, -1.0, null, 0.0, 1.0, null, null, null, null, null, null, 0.0, null, null, null, null, -1.0, 0.3333333333333333, null, null, -0.5, null, null, null, null, null, 1.0, 0.0, null, null, null, null, null, null, null, null, null, null, null, null, null, -0.3333333333333333, null, null, null, null, null, null, null, null, null, null, null, null, null, null, null, 1.0, null, null, null, 0.0, null, null, null, 0.0, 0.0, null, null, null, null, 1.0, null, null, null, null, 0.0, null, null, -0.3333333333333333, null, null, null, null, null, null, null, null, null, null, null, 0.0, null, null, 0.0, 0.3333333333333333, null, null, null, null, null, 0.3333333333333333, null, null, null, null, null, null, null, 0.0, null, null, null, null, null, null, null, 0.0, null, null, null, null, null, null, null, null, null, null, null, null, null, null, null, 1.0, -0.3333333333333333, null, null, null, null, 0.0, null, null, null, 0.0, null, null, null, -1.0, null, 0.0, null, null, null, null, 0.0, null, null, -1.0, -0.3333333333333333, 0.0, 1.0, -1.0, 0.3333333333333333, -1.0, 1.0, 1.0, 1.0, -1.0, 0.0, 1.0, 0.0, 0.0, 0.0, 0.0, -1.0, 0.0, 0.0, 0.0, 1.0, -1.0, 0.0, 0.0, 1.0, 0.0, 1.0, 1.0, 0.3333333333333333, 1.0, 0.0, 1.0, 1.0, 1.0, -1.0, 1.0, -0.3333333333333333, 1.0, -1.0, 1.0, -0.3333333333333333, 1.0, -0.3333333333333333, 0.3333333333333333, -1.0, -1.0, 0.0, -1.0, 0.0, 1.0, 0.3333333333333333, 1.0, 0.0, -0.3333333333333333, 1.0, -0.3333333333333333, 0.3333333333333333, 1.0, 0.0, -1.0, -1.0, 1.0, -1.0, -1.0, 0.0, 0.0, 0.0, 1.0, 1.0, 1.0, -1.0, 0.0, 0.3333333333333333, 0.0, -1.0, 1.0, -1.0, 0.3333333333333333, 0.0, 0.0, -1.0, -0.3333333333333333, 1.0, -0.3333333333333333, 1.0, 0.0, 1.0, -1.0, -1.0, 1.0, 0.0, 1.0, 0.0, 0.0, 1.0, 0.0, -1.0, 0.0, 0.0, -1.0, -1.0, 0.0, -1.0, 0.0, -1.0, 1.0, -1.0, 0.3333333333333333, 1.0, -1.0, 0.0, -1.0, -1.0, 0.0, 1.0, -1.0, 0.0, -0.3333333333333333, -1.0, 1.0, -1.0, 0.3333333333333333, 1.0, 0.0, -1.0, 0.0, 0.0, 1.0, 0.0, 0.0, 0.0, 0.0, 0.0, 0.0, -1.0, -0.3333333333333333, 1.0, -1.0, 0.3333333333333333, 0.0, 1.0, 1.0, 0.0, -0.3333333333333333, -1.0, 0.0, 0.0, 1.0, 0.3333333333333333, -0.3333333333333333, null, null, null, null, -0.3333333333333333, null, null, null, null, null, null, null, null, null, -0.3333333333333333, null, null, null, 0.0, 0.0, null, 0.0, null, 0.3333333333333333, null, null, null, null, null, 0.0, null, null, null, 1.0, -0.3333333333333333, null, 0.0, null, 0.0, null, null, null, null, 1.0, null, null, null, null, null, -1.0, 1.0, null, 1.0, null, null, null, -0.3333333333333333, 1.0, 0.0, null, 0.0, null, null, 0.0, null, null, 0.0, null, 1.0, null, null, null, null, 0.5, 0.0, null, null, null, null, null, 1.0, 0.0, null, null, 0.0, null, null, null, 0.0, null, null, null, 0.3333333333333333, null, null, null, 0.2, null, 0.3333333333333333, null, null, 0.3333333333333333, null, null, null, null, null, -0.3333333333333333, 1.0, -0.3333333333333333, 0.0, null, null, null, null, null, null, null, null, null, null, null, -0.5, null, null, null, null, 0.0, null, null, null, null, 0.0, null, -1.0, -1.0, null, null, null, null, null, null, null, null, -1.0, null, null, null, null, 1.0, null, 0.0, 1.0, null, 0.3333333333333333, 0.0, null, 0.3333333333333333, null, null, null, null, 0.5, null, 0.5, null, null, null, 0.3333333333333333, 0.3333333333333333, null, 1.0, -0.5, 0.3333333333333333, null, null, 1.0, 0.3333333333333333, null, null, null, null, null, null, null, null, null, 0.3333333333333333, null, null, null, 0.6, -1.0, null, null, null, null, -1.0, null, -1.0, -1.0, null, null, null, null, null, null, null, -0.2, null, null, null, 0.5, null, null, null, 1.0, null, null, null, 1.0, null, null, 1.0, null, null, 0.6, null, 1.0, null, null, null, null, 0.0, -1.0, null, -0.2, null, null, null, null, null, null, null, null, null, null, -0.3333333333333333, null, null, null, null, null, null, null, null, null, 0.0, null, null, 0.0, 0.3333333333333333, 0.0, 0.0, 1.0, null, null, 0.0, 0.3333333333333333, -1.0, -1.0, -0.3333333333333333, null, null, null, null, 1.0, null, null, null, null, -0.3333333333333333, null, null, null, null, null, 0.0, null, null, -0.3333333333333333, null, -0.3333333333333333, null, null, null, null, 0.0, null, null, 0.3333333333333333, null, null, null, null, null, null, null, 0.0, null, 1.0, null, null, 0.0, null, null, null, null, null, null, null, null, null, 0.3333333333333333, 0.0, null, 0.0, null, null, null, null, null, 0.0, null, -1.0, 1.0, null, null, -1.0, 0.0, null, null, -0.6666666666666666, null, 0.0, -1.0, null, null, null, null, null, null, null, null, 0.0, 0.3333333333333333, null, 1.0, null, null, 0.0, null, 0.0, null, null, null, null, null, null, 0.5, 0.0, null, null, 0.0, 0.0, null, null, 1.0, 0.0, null, -1.0, null, null, 0.0, 0.5, null, null, null, null, null, 0.0, 1.0, null, 0.0, null, null, 0.0, null, -0.2, -1.0, 0.5, 0.0, 0.3333333333333333, null, null, null, null, null, null, null, null, null, null, null, 0.0, null, -1.0, null, null, null, null, null, null, null, null, null, null, null, null, null, 1.0, null, null, 0.3333333333333333, null, null, 0.0, null, -1.0, null, -0.3333333333333333, 0.0, null, null, -1.0, null, null, null, null, null, 0.3333333333333333, null, null, 1.0, null, null, null, null, null, null, null, null, null, null, null, -1.0, null, 0.3333333333333333, null, null, null, null, null, null, null, null, 1.0, 1.0, null, -0.3333333333333333, null, null, null, null, null, null, null, null, -1.0, null, null, null, null, null, null, 1.0, null, null, null, null, null, null, null, null, null, null, null, null, -1.0, 0.0, null, 0.3333333333333333, null, null, null, null, null, null, null, -0.3333333333333333, null, -0.3333333333333333, null, null, null, null, null, null, null, null, null, null, null, null, null, null, null, null, null, 1.0, null, null, 0.0, 1.0, null, -0.2, -1.0, null, null, null, null, 0.3333333333333333, null, 0.2, 1.0, null, null, -0.3333333333333333, 0.0, null, -0.3333333333333333, null, 1.0, null, null, null, null, null, null, null, null, null, null, null, null, null, null, null, null, null, null, null, 0.3333333333333333, null, null, 1.0, -1.0, null, null, 0.0, 0.3333333333333333, null, null, null, null, null, 0.3333333333333333, null, null, null, null, null, null, -0.5, -0.3333333333333333, null, 1.0, null, null, null, 0.0, -0.2, -1.0, null, null, null, 1.0, 1.0, -0.3333333333333333, null, 1.0, 1.0, null, null, null, null, null, null, null, null, null, null, 0.3333333333333333, null, null, -0.5, null, null, null, null, null, null, null, null, null, 0.0, null, null, null, null, null, 0.3333333333333333, null, null, null, null, null, null, null, 1.0, null, null, 0.5, null, null, 0.6, -1.0, null, null, null, -1.0, null, null, 0.5, 0.3333333333333333, 0.0, null, null, null, 0.0, null, 1.0, 1.0, 0.5, -1.0, 1.0, 1.0, -1.0, -1.0, 0.0, -0.3333333333333333, 0.0, -1.0, 0.0, 0.3333333333333333, 1.0, 1.0, 0.0, 0.2, null, 1.0, -0.3333333333333333, 0.0, -1.0, 0.0, -1.0, 0.0, 0.0, -0.5, -0.2, null, 0.0, 0.0, -0.3333333333333333, 0.0, -0.5, 0.0, 0.0, -0.5, -1.0, 0.0, 1.0, 1.0, 1.0, -1.0, 0.0, 0.0, -1.0, 0.0, 1.0, -1.0, 1.0, -0.3333333333333333, 0.3333333333333333, null, 1.0, 0.0, 0.0, 0.0, 0.0, null, -0.5, 1.0, 0.0, 1.0, 0.0, 1.0, 0.0, -1.0, null, -1.0, -0.3333333333333333, 0.2, 0.0, 0.0, 1.0, -1.0, 0.0, 1.0, 1.0, -1.0, 0.0, 0.3333333333333333, 0.0, 0.0, 0.0, 0.3333333333333333, -1.0, -0.3333333333333333, -1.0, 0.0, 1.0, 0.5, 0.0, 0.3333333333333333, -0.3333333333333333, -0.3333333333333333, 1.0, -1.0, 0.0, 1.0, -1.0, 0.0, 0.0, -0.3333333333333333, -1.0, 0.3333333333333333, 1.0, 1.0, 1.0, 1.0, -1.0, 0.3333333333333333, -0.3333333333333333, 1.0, null, 0.3333333333333333, 1.0, 0.0, 0.0, 0.0, 0.5, -0.3333333333333333, 0.0, 1.0, 0.3333333333333333, 1.0, -1.0, 0.0, 0.0, 0.0, 0.0, 0.0, 0.0, null, 1.0, null, null, 0.5, null, null, 1.0, 0.5, null, null, 0.42857142857142855, 0.0, -1.0, null, null, null, null, null, null, null, null, 0.0, null, null, -0.3333333333333333, null, null, null, null, 1.0, 1.0, 0.0, -1.0, 0.3333333333333333, null, null, null, -1.0, null, -0.3333333333333333, null, null, null, null, -1.0, 0.0, null, null, null, null, null, null, -1.0, null, 0.0, null, null, null, null, -1.0, null, null, null, null, null, -0.3333333333333333, 0.0, null, null, 0.3333333333333333, 0.0, null, null, 1.0, null, null, null, null, 1.0, 0.0, null, null, null, null, null, 0.0, -0.5, null, null, null, null, -1.0, -0.6, null, 1.0, 0.0, null, null, 0.0, -0.3333333333333333, null, null, null, null, null, null, 1.0, 0.3333333333333333, 0.5, null, 0.0, null, null, 0.3333333333333333, null, -1.0, null, null, 0.0, null, 0.0, null, 0.0, null, null, null, -0.2, null, 0.0, -0.3333333333333333, null, 0.5, null, null, null, null, -0.3333333333333333, null, null, null, null, null, null, null, 0.0, null, null, -0.6, null, null, null, -0.3333333333333333, null, null, null, null, null, -1.0, null, null, null, null, -1.0, null, null, null, null, -0.3333333333333333, 0.5, null, 0.0, -1.0, 1.0, -0.14285714285714285, null, null, null, null, null, null, -0.5, null, null, null, null, -1.0, null, null, 0.5, null, -0.3333333333333333, null, null, null, null, 0.0, 1.0, null, null, 0.0, null, null, -0.3333333333333333, 1.0, null, null, null, -0.3333333333333333, 1.0, 1.0, -1.0, null, 1.0, null, 1.0, -1.0, null, null, null, null, null, null, null, 0.5, 0.3333333333333333, null, null, -0.2, null, null, null, null, 0.0, 0.0, null, null, null, null, null, null, null, null, -0.3333333333333333, null, -1.0, 0.0, null, null, -0.3333333333333333, 0.0, -0.14285714285714285, null, null, null, 1.0, null, null, 0.0, null, null, 0.5, null, null, null, -1.0, null, null, null, null, null, -0.3333333333333333, 0.0, null, null, null, 1.0, null, 1.0, 0.0, 0.5, null, null, 0.0, null, -1.0, null, null, null, null, null, null, null, null, null, null, 0.0, 0.0, null, null, 1.0, 1.0, -0.3333333333333333, 0.2, null, null, null, 1.0, null, null, null, null, null, null, null, null, null, 0.0, null, 1.0, null, null, -0.3333333333333333, null, 0.0, null, 0.5, -1.0, null, null, -0.3333333333333333, 0.42857142857142855, null, null, null, null, null, 0.75, 0.3333333333333333, null, null, null, null, null, 0.0, null, 0.5, null, null, 0.5, null, null, 1.0, null, -0.2, null, -0.5, null, null, null, null, null, null, null, null, 1.0, null, 0.2, null, -1.0, null, null, 1.0, 0.0, 0.3333333333333333, 0.5, null, 0.0, 0.3333333333333333, 1.0, 0.3333333333333333, null, null, null, null, null, null, null, null, 0.0, null, 1.0, null, -0.3333333333333333, null, -0.5, null, null, null, -1.0, 0.0, null, null, null, null, null, null, 0.3333333333333333, null, null, null, null, 0.0, -0.3333333333333333, 0.3333333333333333, null, null, 0.0, null, null, 1.0, -0.6, null, 0.3333333333333333, null, null, null, -0.2, 0.0, null, null, null, null, -0.3333333333333333, -0.5, null, null, null, null, null, null, -0.5, null, 0.3333333333333333, 0.0, null, null, 1.0, 0.0, null, null, 0.0, null, 0.6, null, null, null, null, null, 1.0, null, 0.3333333333333333, null, null, 0.3333333333333333, null, -0.3333333333333333, null, -1.0, null, null, null, null, 0.5, 0.3333333333333333, 0.2, null, null, 0.0, null, 0.3333333333333333, 1.0, null, null, null, null, null, 1.0, null, 0.3333333333333333, null, 0.0, 0.2, null, 0.0, null, null, null, null, null, null, null, null, null, null, null, 0.0, null, 1.0, null, -1.0, null, 1.0, null, null, null, null, 0.0, 0.0, null, 0.6, -1.0, null, 0.0, 0.0, null, null, null, -1.0, null, null, null, null, null, null, null, null, 0.3333333333333333, null, null, -0.3333333333333333, null, null, -0.5, null, null, 0.3333333333333333, null, -0.3333333333333333, null, 0.3333333333333333, 0.6, null, null, 0.5, null, -0.5, null, 0.0, null, -0.3333333333333333, null, 0.3333333333333333, null, 0.0, null, null, null, null, null, 0.3333333333333333, null, null, null, null, null, 0.2, null, null, null, null, null, null, -0.3333333333333333, 0.3333333333333333, null, null, null, null, null, 0.2, 0.0, null, 0.0, null, null, null, null, null, null, -0.5, 1.0, null, 1.0, null, null, null, null, null, -0.5, null, 1.0, null, null, null, null, null, -1.0, null, null, null, null, 1.0, null, 0.5, 0.3333333333333333, null, 0.0, 0.0, null, null, -0.5, null, 0.0, 0.5, null, null, null, null, null, null, null, 1.0, 0.0, null, null, null, null, -0.3333333333333333, 0.0, null, null, null, null, 0.6, null, 1.0, 0.3333333333333333, null, 0.0, null, null, 0.0, null, null, -1.0, null, 0.0, null, null, null, 0.5, null, null, 0.0, 1.0, 0.3333333333333333, null, 0.0, null, -1.0, 0.3333333333333333, null, 0.0, null, -1.0, null, -0.5, -0.3333333333333333, 0.0, 0.0, 0.5, 0.0, -1.0, -0.2, 0.3333333333333333, -1.0, 0.0, 1.0, -1.0, 0.0, -1.0, -1.0, -1.0, -0.3333333333333333, -1.0, 0.0, null, 0.0, -0.3333333333333333, -1.0, 0.5, 0.0, 1.0, 1.0, 0.0, -0.3333333333333333, 1.0, 0.5, -0.3333333333333333, -0.3333333333333333, 0.2, null, -1.0, 1.0, -0.2, 0.2, 1.0, 0.0, 1.0, 0.0, 0.0, 1.0, 0.0, 0.0, -1.0, -0.3333333333333333, 0.3333333333333333, -1.0, 0.0, 1.0, 0.5, 0.3333333333333333, 1.0, 0.0, 0.0, 0.0, 0.0, 0.5, -1.0, 0.6, 1.0, -1.0, -1.0, 1.0, 1.0, 0.0, 0.0, -1.0, 1.0, -0.2, 0.2, -1.0, 0.0, 0.6666666666666666, 0.0, 1.0, -0.3333333333333333, -1.0, -0.3333333333333333, 0.0, -1.0, 1.0, -1.0, 0.5, -0.3333333333333333, -0.3333333333333333, null, 0.0, 0.0, 0.6, -1.0, 0.0, -1.0, -0.5, 0.0, 1.0, -1.0, null, 1.0, -1.0, 0.0, 0.0, -1.0, -1.0, 0.3333333333333333, 0.3333333333333333, 1.0, -1.0, 1.0, 1.0, 0.0, 0.0, 1.0, -1.0, 0.0, -0.42857142857142855, 0.3333333333333333, 0.0, 0.0, -1.0, 0.2, 0.0, 0.0, 0.3333333333333333, 0.0, -0.6, 1.0, null, 1.0, null, 0.2, 0.3333333333333333, null, null, 0.42857142857142855, 0.3333333333333333, null, null, null, null, null, null, -1.0, 1.0, null, 0.2, null, -0.3333333333333333, 1.0, null, 0.5, 0.2727272727272727, -0.5, null, 1.0, -1.0, null, null, null, 1.0, null, 0.0, 0.5, null, 0.0, null, null, null, 0.0, null, null, null, null, -0.42857142857142855, null, 0.3333333333333333, -0.3333333333333333, 0.5, null, -1.0, null, 0.3333333333333333, null, null, 0.3333333333333333, null, null, null, null, null, null, null, null, 0.0, 0.5, 1.0, 0.3333333333333333, null, -1.0, null, 0.3333333333333333, null, null, null, null, null, null, null, null, 0.3333333333333333, 0.6, null, 1.0, null, null, -1.0, null, null, null, -0.3333333333333333, null, null, null, 0.5, null, 0.3333333333333333, null, 0.0, 0.0, null, null, 0.0, null, null, null, 0.6, null, null, null, null, 0.6666666666666666, 0.0, null, null, 1.0, -0.2, null, null, 1.0, null, null, null, null, null, 0.0, 0.2, 1.0, null, null, null, 1.0, null, null, null, -1.0, null, 0.3333333333333333, null, 0.0, 0.0, 0.0, null, null, -0.2, null, null, 0.0, 0.5, null, -1.0, null, 0.0, 0.3333333333333333, -0.2, null, 0.0, null, null, null, 1.0, 0.5, null, 0.0, -0.3333333333333333, null, 0.0, null, 0.0, null, null, 1.0, null, null, null, null, null, null, null, null, null, -1.0, null, 0.0, 0.0, null, 1.0, null, 0.3333333333333333, null, null, null, 0.5, null, 0.0, null, null, 0.0, null, -0.3333333333333333, -0.3333333333333333, null, null, null, 0.5, 0.0, null, -0.2, -0.3333333333333333, null, null, null, null, null, null, null, -1.0, -1.0, 0.3333333333333333, null, 0.0, null, null, null, null, 0.3333333333333333, 0.0, null, null, -1.0, null, null, null, null, null, null, null, 0.2, null, null, null, null, 0.5, null, null, null, null, -0.5, null, -0.3333333333333333, null, 0.2, null, 0.42857142857142855, null, null, -0.5, null, null, -0.6, 0.0, null, null, null, 0.0, null, null, 1.0, null, null, -1.0, 0.0, -0.3333333333333333, -0.6666666666666666, null, null, 0.2, 0.3333333333333333, null, null, -1.0, null, -0.3333333333333333, null, null, null, null, -0.3333333333333333, null, -0.5, null, null, null, -0.25, null, null, -0.2, null, 1.0, null, null, 0.0, null, null, 0.0, null, -0.6666666666666666, null, 0.6363636363636364, null, 0.3333333333333333, -1.0, 0.5, -0.3333333333333333, 1.0, 0.0, null, 0.2, null, 0.3333333333333333, -0.3333333333333333, 0.2, -1.0, 0.5, 0.5, 1.0, null, -0.3333333333333333, -0.5, null, null, 0.5, null, null, null, null, -0.6, null, 0.0, 0.2, null, -1.0, null, null, null, null, null, 1.0, null, null, null, null, null, null, 0.3333333333333333, null, null, null, null, 0.3333333333333333, -0.2, null, 0.3333333333333333, null, null, null, null, 1.0, null, null, null, 0.09090909090909091, null, 1.0, null, null, null, -0.6666666666666666, null, -1.0, null, 0.0, null, null, 0.3333333333333333, null, 0.0, null, null, null, null, null, 0.0, null, -0.3333333333333333, null, null, 0.0, null, -1.0, null, 0.5, null, 0.0, null, 0.3333333333333333, -0.3333333333333333, -0.3333333333333333, null, null, null, null, null, 0.0, null, null, null, -1.0, null, null, null, 1.0, -0.6, null, null, 0.0, 0.2, null, null, null, null, null, null, null, null, null, null, null, null, null, null, null, null, null, null, null, -1.0, -0.5, 0.0, null, 0.3333333333333333, 0.3333333333333333, 1.0, null, null, null, null, 1.0, null, null, -1.0, null, 0.3333333333333333, null, null, -0.42857142857142855, null, null, null, null, null, null, -0.5, null, null, 0.0, -0.3333333333333333, -1.0, null, 0.0, null, -1.0, 0.3333333333333333, null, 1.0, null, null, null, 0.0, null, null, null, null, -0.3333333333333333, null, 0.0, null, null, null, null, null, null, null, null, 0.5, null, null, 1.0, null, null, 0.2, null, 1.0, null, 1.0, null, null, null, null, null, null, null, 0.0, null, null, null, null, 0.5, null, null, null, null, null, null, null, 0.5, null, null, null, null, 1.0, null, -0.3333333333333333, null, null, 1.0, 0.0, null, null, null, null, -1.0, null, null, -0.3333333333333333, null, 0.3333333333333333, null, 0.0, 0.0, -0.6, null, 0.0, null, -0.3333333333333333, 0.5, 0.2, null, null, -0.3333333333333333, 0.0, null, null, null, null, null, null, -0.3333333333333333, null, -1.0, null, null, null, null, null, 0.0, null, null, -0.3333333333333333, null, 0.3333333333333333, null, null, 0.5, 0.0, null, 0.3333333333333333, null, null, 0.2, null, null, 0.0, 1.0, null, 0.3333333333333333, null, null, null, null, 0.0, null, -1.0, -0.3333333333333333, null, null, null, null, null, null, null, -1.0, null, null, -0.6, 0.0, 0.2, null, null, null, null, -1.0, null, null, -0.6, 0.3333333333333333, null, null, null, null, null, null, -0.14285714285714285, -1.0, 0.0, null, 1.0, null, 1.0, null, 1.0, 0.3333333333333333, 0.0, null, 0.0, -0.3333333333333333, -1.0, 0.0, null, -0.3333333333333333, null, 0.5, null, -0.3333333333333333, null, null, -1.0, null, -1.0, null, -1.0, 1.0, null, 1.0, -0.5, null, 0.0, 1.0, null, null, -1.0, null, 0.0, null, null, 0.0, 0.0, null, 1.0, null, null, -0.3333333333333333, -1.0, null, null, 1.0, null, null, 0.3333333333333333, -1.0, null, 0.6, null, null, 0.0, 1.0, null, -1.0, -1.0, -1.0, -1.0, 1.0, 0.0, 0.0, 0.3333333333333333, -0.3333333333333333, null, 1.0, -0.2, -1.0, 0.0, 0.0, 0.0, 0.3333333333333333, -1.0, 0.0, null, 0.0, -1.0, 1.0, 0.2, -1.0, -1.0, -0.3333333333333333, 0.0, 0.0, 1.0, 0.2, 0.3333333333333333, -1.0, 0.3333333333333333, 0.0, 0.0, 0.0, 0.0, 0.14285714285714285, null, -1.0, 0.0, 0.0, 0.0, -0.5, -0.5, 1.0, -0.3333333333333333, 0.0, -1.0, 0.3333333333333333, 0.0, 0.0, 0.0, 0.0, 1.0, null, 0.0, 0.0, 0.0, 0.6666666666666666, 1.0, -0.3333333333333333, 0.3333333333333333, 0.3333333333333333, 1.0, -0.3333333333333333, 0.3333333333333333, 0.0, -0.2, 0.6, -0.3333333333333333, -1.0, 0.3333333333333333, null, 0.0, 0.3333333333333333, -1.0, 0.0, 1.0, 0.0, 0.0, -0.3333333333333333, 0.0, -0.3333333333333333, 0.0, 0.0, 1.0, -1.0, -0.2, 0.0, 1.0, 0.0, 0.0, -0.6, 0.3333333333333333, -0.5, -1.0, 0.6666666666666666, 1.0, 0.0, 0.0, null, -0.3333333333333333, null, null, -1.0, 0.3333333333333333, -0.5, null, 0.2, null, null, null, null, 0.3333333333333333, 0.2, null, 0.0, -0.3333333333333333, -0.3333333333333333, 0.0, null, null, null, null, null, 0.3333333333333333, null, null, null, 0.3333333333333333, null, null, 0.3333333333333333, 0.0, null, null, null, -0.3333333333333333, -0.6, null, null, null, null, 0.1111111111111111, null, null, 0.0, null, null, 1.0, null, 0.0, null, null, null, null, null, null, null, null, null, 0.0, 0.5, null, -0.3333333333333333, null, null, null, null, null, 0.3333333333333333, null, -0.6, null, -1.0, 0.0, null, 0.3333333333333333, null, null, null, null, null, null, null, -1.0, null, 1.0, null, 0.3333333333333333, 0.6, null, -0.5, null, 0.6, 0.3333333333333333, 0.3333333333333333, null, 1.0, null, -0.14285714285714285, null, null, null, null, null, null, null, null, null, null, null, -0.14285714285714285, null, null, 0.2, null, null, null, null, 0.5, null, null, 0.0, null, 0.3333333333333333, null, null, null, null, -0.2, null, -1.0, null, null, -0.2, null, 1.0, null, 0.0, null, -0.3333333333333333, null, -0.5, 1.0, -0.2, null, null, null, null, 0.0, 0.0, null, null, null, 0.0, null, null, null, null, null, -0.3333333333333333, -1.0, null, null, 0.0, null, null, null, null, null, 0.0, -1.0, -1.0, null, null, null, null, null, null, null, null, 0.0, -0.2727272727272727, null, null, null, 0.5, null, null, 1.0, -0.2, null, -0.3333333333333333, null, 0.5, null, 0.3333333333333333, null, 0.3333333333333333, null, -0.42857142857142855, null, 0.2, null, null, 0.0, 1.0, 0.2, 0.0, null, null, null, -0.3333333333333333, 0.14285714285714285, null, null, 0.0, null, null, null, 1.0, null, 0.0, -0.5, null, null, null, -0.6, null, null, null, 0.0, -1.0, -0.2, null, null, null, null, null, null, -0.2, null, null, 0.3333333333333333, null, null, null, -0.3333333333333333, null, 0.0, null, null, null, null, 0.0, null, null, null, null, 0.14285714285714285, -0.5, 0.0, null, null, null, null, null, null, null, 0.0, 0.5, 0.0, 1.0, null, null, 0.0, -0.14285714285714285, -0.3333333333333333, 0.5, null, null, null, null, 0.3333333333333333, -0.6666666666666666, 0.0, null, null, null, null, null, -0.6, null, null, 0.2, null, null, null, 1.0, null, null, -1.0, 0.0, 0.0, null, 1.0, 1.0, -0.2, null, null, null, -0.3333333333333333, -1.0, -0.2, null, 0.2, null, null, null, null, -0.3333333333333333, 0.3333333333333333, 0.3333333333333333, 0.5, -0.5, -0.3333333333333333, 1.0, -1.0, 0.5, null, -0.2, null, 0.5, null, -0.5, 1.0, 0.2, null, null, null, null, 0.14285714285714285, -0.6, null, null, null, null, 0.2, null, null, null, null, null, 0.3333333333333333, null, 0.42857142857142855, 0.2, null, null, 0.0, null, -0.14285714285714285, null, -1.0, null, null, null, 1.0, null, null, null, 1.0, 0.5, null, -1.0, null, null, null, null, null, 0.3333333333333333, null, 1.0, null, 0.3333333333333333, 0.5, null, null, 1.0, null, null, null, 0.5, -1.0, 1.0, null, 0.2, null, null, null, -0.3333333333333333, null, 1.0, null, null, null, null, null, null, null, null, null, 1.0, -0.2, -0.3333333333333333, null, null, 0.0, null, -0.3333333333333333, -0.3333333333333333, 0.3333333333333333, 0.0, null, null, -1.0, null, null, -0.3333333333333333, null, -0.3333333333333333, null, null, -0.3333333333333333, null, null, null, null, null, null, 0.2, 0.42857142857142855, -0.3333333333333333, null, null, 0.5, 0.0, -0.2, null, null, null, null, null, null, -0.3333333333333333, null, null, 0.0, -0.3333333333333333, 1.0, 1.0, -0.5, null, 0.0, null, null, null, null, null, -0.42857142857142855, 0.0, 0.0, 0.0, null, -0.3333333333333333, null, -1.0, null, null, null, 0.0, null, null, 1.0, null, 0.0, 0.5, -0.3333333333333333, null, 1.0, null, null, null, null, null, 0.0, null, null, null, null, -0.6, 0.14285714285714285, null, null, null, null, 0.0, 0.0, -0.3333333333333333, null, -0.2, null, null, 0.6, 0.5, -0.3333333333333333, null, null, null, 0.0, null, null, 0.6666666666666666, 1.0, null, null, -0.42857142857142855, null, -0.3333333333333333, null, null, null, null, -0.3333333333333333, 0.2, null, null, -0.3333333333333333, 0.0, null, 0.14285714285714285, -0.3333333333333333, null, 0.0, null, -1.0, null, null, null, null, null, -1.0, null, null, null, null, 1.0, null, null, -1.0, 0.6666666666666666, null, 1.0, -1.0, null, null, null, null, null, null, -0.3333333333333333, 1.0, null, 0.0, 0.3333333333333333, null, null, 0.2, null, null, 1.0, null, null, 0.3333333333333333, -0.5, 0.0, 0.3333333333333333, null, null, 0.14285714285714285, -1.0, 0.3333333333333333, null, 0.0, null, -0.3333333333333333, null, 0.0, null, null, null, 0.5, 0.42857142857142855, null, 0.5, 0.0, 0.3333333333333333, -0.6, -0.3333333333333333, null, null, null, 0.3333333333333333, null, -1.0, 0.0, null, null, null, -0.6, 0.0, null, null, null, null, null, 0.3333333333333333, 1.0, null, null, null, null, null, null, null, null, 0.2, null, 1.0, -0.3333333333333333, null, -0.3333333333333333, null, null, 1.0, null, null, null, -0.3333333333333333, null, 0.0, -0.3333333333333333, null, null, 0.6, -0.3333333333333333, 0.6666666666666666, null, null, 0.0, null, 0.6, null, null, null, -0.5, -0.6666666666666666, null, null, null, null, 0.14285714285714285, null, null, 0.5, -0.2, 1.0, -0.25, null, 0.3333333333333333, -1.0, null, 0.3333333333333333, null, null, 0.3333333333333333, -1.0, null, 0.0, null, null, -0.6, 0.6, 1.0, -1.0, 0.0, 0.0, 0.3333333333333333, 0.3333333333333333, null, 0.2, -0.3333333333333333, 0.0, 1.0, 1.0, 1.0, 1.0, 0.0, -1.0, 0.0, 0.6, 0.0, 0.0, -0.3333333333333333, 0.5, 0.3333333333333333, -0.3333333333333333, -0.3333333333333333, -0.3333333333333333, 1.0, 0.3333333333333333, 0.0, 0.0, 0.0, 0.5555555555555556, -1.0, 0.0, -1.0, 0.0, -0.3333333333333333, 1.0, -1.0, -1.0, 0.2, null, 0.2, 1.0, 0.0, -1.0, -0.3333333333333333, -1.0, -0.3333333333333333, -1.0, 0.0, 0.6666666666666666, -1.0, -1.0, 0.2, -1.0, 0.2, -0.42857142857142855, 0.0, 0.0, -1.0, 0.6, 1.0, -0.3333333333333333, 0.3333333333333333, 0.0, 0.0, 0.0, 1.0, -0.5, -0.5, 1.0, 0.3333333333333333, 1.0, -0.3333333333333333, -1.0, 0.0, 0.2, -0.3333333333333333, 0.3333333333333333, 0.0, -1.0, 0.0, 0.0, -1.0, 0.0, 1.0, 0.0, 0.0, -1.0, 1.0, -1.0, 0.2, 0.2, -0.6666666666666666, 0.0, 0.0, 0.0, 0.25, -0.3333333333333333, 0.3333333333333333, -1.0, 0.09090909090909091, 0.5, 0.0, -1.0, 0.0, 0.3333333333333333, -0.6, -1.0, 0.0, 0.0, 0.0, 0.0, -0.3333333333333333, null, null, -0.5, 0.0, null, null, null, 0.0, null, null, -0.3333333333333333, -1.0, -0.2, 0.0, 0.3333333333333333, 1.0, null, null, null, null, null, 0.3333333333333333, null, null, null, null, -0.4, null, null, null, -0.3333333333333333, null, null, 0.3333333333333333, null, null, 0.5, null, null, 0.0, null, 0.14285714285714285, 1.0, null, null, null, 1.0, 0.6, null, null, 0.5, 0.5, null, null, null, null, null, null, 0.0, null, -1.0, null, null, 0.3333333333333333, 0.0, 0.0, 1.0, null, 1.0, -0.5, null, -0.42857142857142855, -0.6666666666666666, null, -0.3333333333333333, null, null, null, null, null, 1.0, 0.0, null, 0.0, null, -1.0, null, null, null, null, null, null, null, 0.2, 0.6, 1.0, -0.25, -0.14285714285714285, null, 0.3333333333333333, null, 0.3333333333333333, null, null, -0.6666666666666666, -0.25, null, 0.0, null, 0.2, 0.0, null, 0.0, null, null, null, 0.2, 0.0, null, null, 0.0, 0.2, null, -0.25, 0.2, null, null, -0.7142857142857143, -0.3333333333333333, null, null, 0.0, null, null, -0.09090909090909091, null, 0.2, null, 0.5, null, 0.1111111111111111, 0.2, null, 0.3333333333333333, null, 0.3333333333333333, null, 0.3333333333333333, null, 0.3333333333333333, null, 0.7142857142857143, null, 0.14285714285714285, 0.3333333333333333, null, null, null, 0.0, -0.3333333333333333, null, null, 0.0, null, -0.3333333333333333, null, null, null, null, -0.3333333333333333, null, 0.0, null, -1.0, 0.3333333333333333, 1.0, null, 0.5555555555555556, null, null, null, -0.14285714285714285, null, null, null, null, null, null, null, 0.14285714285714285, -1.0, null, null, null, 1.0, -0.6, 0.3333333333333333, null, 0.0, null, 1.0, 0.3333333333333333, null, -0.3333333333333333, null, null, -0.3333333333333333, -0.6, -0.6, null, null, null, null, 0.0, null, null, null, 0.3333333333333333, null, null, 0.0, 0.0, 1.0, -0.7142857142857143, null, 0.3333333333333333, null, null, null, null, null, null, null, -1.0, null, 0.0, null, null, -0.2, 0.0, null, 0.3333333333333333, 0.2, null, null, null, -0.14285714285714285, null, 0.0, -0.3333333333333333, null, null, null, 0.05263157894736842, null, null, 1.0, null, null, 0.3333333333333333, null, 0.14285714285714285, -1.0, null, null, 0.0, null, null, 0.2, -1.0, null, 0.3333333333333333, null, null, 0.42857142857142855, null, null, 0.0, null, -0.5, null, null, 0.3333333333333333, null, -1.0, null, null, null, null, null, 0.0, null, null, null, null, -0.14285714285714285, null, null, 0.6, null, -0.2, -1.0, -0.6666666666666666, null, 0.45454545454545453, 0.0, 1.0, null, null, null, -1.0, null, null, null, null, null, null, null, null, null, null, null, null, 0.0, null, null, null, -0.3333333333333333, -0.14285714285714285, null, null, 0.0, 0.42857142857142855, null, 0.3333333333333333, null, -0.3333333333333333, 0.2, null, 0.0, null, null, null, null, 0.0, 0.5, null, null, null, null, 1.0, 0.0, null, 0.2, 0.0, -0.42857142857142855, 0.2, -1.0, -0.2, -1.0, 0.3333333333333333, 0.5, null, null, 1.0, null, null, null, -0.3333333333333333, null, null, 0.5, null, null, 0.0, null, null, -1.0, null, null, 0.0, null, null, 0.5, 1.0, null, 0.6666666666666666, null, 0.09090909090909091, -1.0, null, -0.2, null, null, 0.0, null, null, null, null, null, null, null, null, null, -0.09090909090909091, 0.3333333333333333, 0.14285714285714285, null, -0.3333333333333333, null, null, null, null, null, 0.0, -0.25, null, null, null, 0.0, null, 0.5, null, 0.2, -0.2, null, -1.0, null, -0.2, null, 0.2, null, 1.0, null, 0.42857142857142855, -1.0, 0.14285714285714285, 0.3333333333333333, null, null, 0.0, null, null, 0.2, null, null, null, -0.3333333333333333, null, null, 0.0, null, -0.5, null, 0.0, null, null, 1.0, -0.14285714285714285, null, null, -0.3333333333333333, null, null, null, -0.3333333333333333, 0.5, -0.2, 1.0, null, -1.0, null, null, -0.14285714285714285, null, -0.3333333333333333, -0.3333333333333333, null, null, null, -0.2, null, null, null, null, null, null, null, 1.0, null, -0.3333333333333333, null, null, null, null, null, 0.0, null, 0.3333333333333333, null, null, null, null, -0.3333333333333333, 0.5, 1.0, null, null, 0.3333333333333333, -1.0, null, null, null, -0.42857142857142855, -0.3333333333333333, null, 0.0, null, null, 0.2, null, 0.2, null, null, -0.4, null, null, null, 0.1111111111111111, -0.42857142857142855, null, 0.0, 1.0, null, -1.0, null, -1.0, null, 0.0, -1.0, 1.0, null, null, 0.6, 0.6, null, 1.0, null, null, null, null, -0.7142857142857143, null, 0.3333333333333333, null, 1.0, 0.14285714285714285, null, null, null, -0.3333333333333333, -1.0, null, -1.0, 0.0, null, null, null, -1.0, null, -1.0, 0.6, null, null, null, -0.3333333333333333, -0.3333333333333333, null, null, null, -0.3333333333333333, null, 0.6666666666666666, null, 0.0, null, 0.0, null, null, null, 0.6, null, -0.6, null, null, null, null, 0.3333333333333333, -1.0, null, null, 0.3333333333333333, null, 0.1111111111111111, null, 0.5, 0.3333333333333333, null, null, -0.16666666666666666, null, null, null, 0.0, null, null, null, -1.0, 0.3333333333333333, 0.0, null, -0.3333333333333333, -0.6, -0.3333333333333333, -0.3333333333333333, null, null, 0.3333333333333333, null, null, null, null, null, 0.3333333333333333, null, 1.0, -0.2, null, 0.2, 0.1111111111111111, 0.0, null, null, -0.5555555555555556, 0.3333333333333333, null, null, -0.6, -0.3333333333333333, null, null, -1.0, null, null, null, null, 0.0, null, 0.14285714285714285, 0.0, null, 1.0, -0.3333333333333333, null, -0.3333333333333333, null, null, null, 0.3333333333333333, 0.14285714285714285, null, 0.5, null, 0.0, null, -0.2, null, -0.3333333333333333, -0.3333333333333333, null, null, null, null, 0.0, -1.0, 1.0, 0.0, -1.0, 0.0, -0.6666666666666666, 0.3333333333333333, 1.0, -1.0, 0.0, 0.5, 0.0, 1.0, -0.42857142857142855, 0.0, 0.2, -0.6666666666666666, null, -0.3333333333333333, 0.0, 0.3333333333333333, 1.0, 1.0, 0.25, 0.6666666666666666, 0.0, -0.5, -1.0, 1.0, 0.3333333333333333, 0.0, -1.0, -1.0, 0.0, 1.0, -0.3333333333333333, 0.0, -1.0, -0.2, 0.0, 1.0, 0.0, 1.0, -1.0, 0.0, 0.0, -0.5, 0.0, 0.6, -0.42857142857142855, null, -1.0, 1.0, 0.0, -1.0, -0.2, 0.0, -0.3333333333333333, -0.16666666666666666, -1.0, -0.3333333333333333, 0.3333333333333333, 1.0, 0.3333333333333333, 0.0, -1.0, 0.3333333333333333, -1.0, -0.14285714285714285, 0.0, 0.3333333333333333, 0.0, 0.2, -1.0, 1.0, -1.0, -0.3333333333333333, 0.2, 0.0, 0.3333333333333333, 0.0, -0.3333333333333333, 0.0, 0.0, 0.0, -1.0, 0.0, 0.0, 0.0, 0.7142857142857143, 0.14285714285714285, 0.0, 0.0, 0.3333333333333333, 1.0, 0.0, -0.2, 1.0, 1.0, 0.0, -0.1111111111111111, -1.0, -0.3333333333333333, 0.0, 0.3333333333333333, 1.0, -0.3333333333333333, -0.42857142857142855, null, 0.0, null, -0.3333333333333333, null, null, -1.0, null, 0.0, null, 0.0, null, 0.3333333333333333, 1.0, null, null, 0.2, null, 0.0, null, null, 0.0, -0.3333333333333333, null, 0.3333333333333333, -0.2857142857142857, null, null, null, null, null, null, null, 0.0, null, -0.5, -0.6, 0.0, -0.3333333333333333, 0.5, 0.25, null, -0.14285714285714285, null, null, null, null, null, 0.0, -0.2, null, null, 0.0, 0.0, 0.3333333333333333, null, 0.25, null, null, -0.14285714285714285, null, null, 0.0, null, -1.0, -0.2, null, null, null, -0.3333333333333333, -0.3333333333333333, 0.3333333333333333, null, null, 0.2, null, null, null, 0.25, null, 0.6666666666666666, null, 1.0, 0.0, -0.42857142857142855, null, null, -1.0, null, null, -0.3333333333333333, null, 0.3333333333333333, null, 0.6, null, -0.5, null, 0.2, null, 0.0, -0.3333333333333333, -0.3333333333333333, null, null, null, 0.3333333333333333, 0.2727272727272727, null, null, -0.2, null, null, null, 1.0, 0.0, -1.0, null, null, null, null, null, 0.5, null, -0.3333333333333333, null, null, null, 0.2, null, null, 0.14285714285714285, null, null, null, null, null, null, 1.0, -1.0, -1.0, 0.0, null, null, 0.5, 0.0, null, -0.5, -0.42857142857142855, null, 1.0, null, 0.0, -0.7142857142857143, null, null, null, -0.3333333333333333, null, 0.0, 0.3333333333333333, null, null, null, 0.0, null, null, null, 0.5, -1.0, null, null, null, null, -1.0, null, 0.0, null, null, null, 0.3333333333333333, null, null, 0.09090909090909091, null, null, 0.0, -1.0, null, null, -1.0, null, 0.0, -0.14285714285714285, null, null, null, null, -0.3333333333333333, null, null, -0.25, null, null, null, null, null, null, 0.3333333333333333, null, 0.3333333333333333, null, null, null, null, null, null, null, null, null, -1.0, 0.09090909090909091, null, null, null, 0.14285714285714285, null, -0.3333333333333333, null, null, 0.0, -0.3333333333333333, null, null, null, null, null, null, -0.2222222222222222, null, null, null, 0.3333333333333333, -0.2, null, null, null, null, null, null, 0.3333333333333333, null, null, null, 0.3333333333333333, -0.2, null, null, null, 0.5, 0.5, null, 0.2, -0.14285714285714285, null, null, null, null, 0.0, -0.3333333333333333, -0.42857142857142855, 0.5, 0.3333333333333333, null, null, null, 0.2, null, null, null, null, 0.14285714285714285, null, null, null, 0.0, null, null, -0.7142857142857143, -0.2, null, -1.0, null, 1.0, -0.3333333333333333, -0.14285714285714285, null, -1.0, 0.3333333333333333, null, -1.0, 1.0, null, null, null, -1.0, 0.7142857142857143, 0.14285714285714285, null, null, null, -0.6666666666666666, null, null, null, null, -0.3333333333333333, 0.3333333333333333, null, null, 0.0, 0.2, -1.0, null, -0.7142857142857143, null, null, null, 0.0, 0.3333333333333333, null, -0.6, null, null, 0.3333333333333333, null, null, null, -1.0, 0.3333333333333333, null, -0.3333333333333333, 0.0, null, 0.0, 0.3333333333333333, null, null, 1.0, null, null, -0.3333333333333333, null, 1.0, null, null, -1.0, null, null, null, null, -1.0, null, null, 0.3333333333333333, 0.3333333333333333, null, null, -0.6, 0.0, -0.3333333333333333, 0.0, null, -1.0, null, -0.6, -0.6, null, 0.3333333333333333, null, -1.0, 0.0, 0.0, 0.2, 0.1111111111111111, 0.14285714285714285, null, null, 1.0, 0.2, -1.0, -0.14285714285714285, null, null, null, null, 0.0, null, null, null, 0.14285714285714285, null, 0.0, null, 1.0, null, null, null, null, null, null, -1.0, null, null, 0.5, null, 0.0, null, null, null, null, null, null, null, 0.3333333333333333, null, null, null, null, 0.42857142857142855, -0.25, null, 0.1111111111111111, null, null, 0.0, null, -0.14285714285714285, -0.5, null, null, null, 0.2, null, 0.0, -0.3333333333333333, null, 0.0, -0.3333333333333333, null, null, 0.14285714285714285, null, -0.5, 0.3333333333333333, null, 0.2, 0.25, 0.14285714285714285, -0.14285714285714285, null, 0.6, null, null, 0.0, null, null, null, null, null, null, null, 1.0, 0.5, null, null, -0.3333333333333333, null, -0.2, 1.0, null, 0.0, -1.0, 0.0, 0.75, null, null, -0.09090909090909091, 0.3333333333333333, 1.0, null, 0.3333333333333333, 0.3333333333333333, 0.0, -0.3333333333333333, null, null, null, null, null, 0.0, null, null, null, 0.6, 0.25, 0.0, null, null, null, null, null, 0.25, null, 0.0, null, -0.1111111111111111, null, -0.2, null, -0.6666666666666666, null, null, null, -0.1111111111111111, -0.05263157894736842, 0.7142857142857143, null, -0.16666666666666666, null, -0.14285714285714285, null, 0.2, null, null, 0.0, null, -0.6666666666666666, -0.3333333333333333, null, -0.2, 0.3333333333333333, -0.3333333333333333, 0.0, null, null, 1.0, null, null, null, null, 0.0, 0.6, 1.0, null, 0.2727272727272727, null, null, null, null, null, null, null, null, null, null, 0.3333333333333333, 0.6, 0.25, null, null, 0.0, 0.2, null, null, null, null, -1.0, null, null, -0.2, null, 1.0, 0.5, 1.0, null, 0.2, null, 1.0, null, null, null, null, -0.42857142857142855, 1.0, null, null, -0.3333333333333333, null, null, null, -1.0, -0.5555555555555556, null, null, 0.0, -1.0, -0.2, 0.0, null, null, null, null, 0.5, 1.0, null, null, null, -0.2, null, null, null, 0.5, null, null, null, null, null, -0.3333333333333333, null, 0.5, null, -1.0, 0.0, null, 1.0, null, -1.0, null, -1.0, null, null, null, 1.0, 0.3333333333333333, 0.3333333333333333, null, -0.07142857142857142, null, null, null, -0.3333333333333333, 0.3333333333333333, 0.6, -0.3333333333333333, 0.3333333333333333, 1.0, null, null, null, null, 0.0, null, 0.0, null, null, null, null, null, 0.2, null, -0.3333333333333333, 0.75, 0.6, null, null, null, -0.5, -0.42857142857142855, 0.3333333333333333, -0.25, -0.2, 0.5, null, null, 0.14285714285714285, 0.0, -0.25, null, null, null, 1.0, -1.0, null, null, null, null, 0.2, null, null, -0.3333333333333333, 0.0, null, null, null, -0.3333333333333333, 0.0, 1.0, 0.2, 0.2, 0.25, -0.3333333333333333, 0.6666666666666666, 1.0, 0.3333333333333333, -1.0, null, 0.0, 0.25, 0.0, -0.5, null, 1.0, 0.3333333333333333, 0.3333333333333333, 0.0, 0.0, 1.0, -0.16666666666666666, -1.0, 1.0, -1.0, 0.0, 0.0, -1.0, 1.0, 1.0, 1.0, -0.3333333333333333, -1.0, 0.0, 0.0, 0.0, 0.0, -1.0, 0.42857142857142855, 0.3333333333333333, -1.0, 0.0, 0.0, -0.3333333333333333, 0.0, 0.0, 0.0, 0.0, -1.0, 0.3333333333333333, -0.5, 0.0, 0.0, 0.0, 0.0, -1.0, -0.2, 0.2, -1.0, 0.0, -0.75, 0.0, -0.3333333333333333, null, -0.5, -1.0, 1.0, 0.0, 0.14285714285714285, 0.14285714285714285, -0.3333333333333333, 0.0, 0.42857142857142855, null, -1.0, -1.0, 0.5, 0.0, 1.0, -0.3333333333333333, 0.0, -0.3333333333333333, 0.0, -1.0, null, 0.0, 1.0, 0.3333333333333333, 0.3333333333333333, 0.0, 0.2, -1.0, 0.3333333333333333, 1.0, 0.14285714285714285, 1.0, 0.1111111111111111, 0.0, 0.0, -0.5, -0.1111111111111111, 1.0, 0.2727272727272727, -0.5, -0.45454545454545453, 1.0, 0.0, 0.0, -0.7142857142857143, 0.0, null, null, 1.0, 0.0, -0.3333333333333333, null, -0.3333333333333333, null, null, 0.25, 0.0, null, null, 0.0, null, null, 0.0, 0.0, null, null, null, -0.5, -0.42857142857142855, null, 0.0, 0.3333333333333333, null, 0.25, null, null, null, null, null, null, -0.3333333333333333, null, null, 0.6, null, null, 0.14285714285714285, null, null, -0.7142857142857143, null, 0.3333333333333333, 1.0, null, 0.3333333333333333, 0.0, null, null, null, null, null, null, null, 0.42857142857142855, 0.0, null, -0.3333333333333333, -0.3333333333333333, 1.0, 0.0, null, -0.1111111111111111, null, null, 0.3333333333333333, 0.75, -0.25, null, 0.07692307692307693, null, null, null, 0.14285714285714285, null, null, null, 0.0, null, null, -0.3333333333333333, null, null, null, null, null, 0.3333333333333333, 1.0, null, -0.2, null, 0.7777777777777778, null, -0.3333333333333333, -0.25, null, -0.3333333333333333, 0.0, -1.0, 0.0, null, null, null, null, null, null, 0.0, -0.1111111111111111, null, 0.0, 0.0, null, null, 1.0, null, -1.0, 1.0, null, -0.5, 0.25, 0.0, null, null, -0.3333333333333333, -1.0, null, null, null, null, null, -0.75, null, 0.14285714285714285, -0.6, -0.3333333333333333, null, null, 0.16666666666666666, null, null, null, -0.75, -0.3333333333333333, null, 0.6, null, null, null, null, 0.75, null, null, null, null, null, 0.2, null, 0.0, null, null, null, null, null, -0.4, null, null, -0.5, -0.1111111111111111, 0.7142857142857143, 1.0, -0.07692307692307693, null, -1.0, 1.0, null, null, 0.2727272727272727, null, null, null, 0.0, -0.42857142857142855, null, null, null, 0.0, null, null, -1.0, null, null, -0.5, 0.0, 0.0, null, -0.2727272727272727, -1.0, 0.0, null, null, 0.2727272727272727, -1.0, null, 0.1111111111111111, -0.6666666666666666, null, null, null, null, null, null, null, null, 0.25, null, -1.0, 1.0, null, null, -0.3333333333333333, -0.09090909090909091, null, -0.3333333333333333, null, 0.3333333333333333, -0.07692307692307693, null, -0.2, 0.0, null, null, null, -0.1111111111111111, 0.14285714285714285, 0.42857142857142855, null, 0.2, null, null, null, null, null, null, 0.0, -1.0, 0.0, null, null, null, 0.3333333333333333, null, null, 0.0, 1.0, null, null, null, 0.2, null, 0.25, null, null, null, null, -0.16666666666666666, null, null, -0.25, 0.0, null, -0.3333333333333333, null, -0.3333333333333333, 0.25, null, null, null, -1.0, -0.8, 0.2, null, null, 0.0, null, null, null, null, 1.0, null, null, -0.2, null, null, null, null, 0.3333333333333333, 0.14285714285714285, 0.0, 0.3333333333333333, -0.2, 0.0, 0.0, null, 0.2, null, null, 0.3333333333333333, -1.0, null, 0.6, null, null, 0.0, 0.25, 0.0, null, null, null, 0.25, null, 0.0, null, null, null, 1.0, -0.5, 0.6, null, -0.5, null, null, null, null, 0.3333333333333333, 0.42857142857142855, null, null, 0.42857142857142855, null, 0.6666666666666666, null, -0.1111111111111111, 1.0, null, null, 0.1111111111111111, null, 0.42857142857142855, null, null, null, -0.5, -0.6666666666666666, 0.1111111111111111, null, null, -1.0, -1.0, null, -0.14285714285714285, null, -0.3333333333333333, 0.3333333333333333, null, 0.3333333333333333, null, null, null, null, 0.0, null, null, null, 0.0, null, -0.75, null, 0.3333333333333333, null, null, null, null, 0.0, 0.3333333333333333, null, 0.0, 0.0, null, -0.25, null, null, null, -1.0, null, null, null, null, null, 0.3333333333333333, null, null, null, 0.2, -0.3333333333333333, null, 1.0, 0.5, null, -0.5, null, 0.0, 0.3333333333333333, null, null, 0.5, null, null, null, 1.0, null, null, null, null, -0.6666666666666666, null, null, -0.7142857142857143, null, -0.42857142857142855, 0.3333333333333333, null, 0.5, null, null, null, 0.2, 0.0, null, null, 0.0, 0.0, null, null, null, 1.0, -0.6, null, -0.3333333333333333, -0.14285714285714285, null, 0.42857142857142855, null, 1.0, -1.0, -0.42857142857142855, null, null, 0.0, null, null, null, null, null, null, null, null, null, -0.3333333333333333, 0.14285714285714285, null, 0.2, null, 0.0, null, null, 0.3333333333333333, null, null, null, null, 0.2, null, null, -0.3333333333333333, null, -0.3333333333333333, -0.6666666666666666, null, null, 0.0, null, 1.0, null, 0.5, 0.14285714285714285, null, 0.5, null, 1.0, 0.0, null, null, null, 0.0, 1.0, null, 0.3333333333333333, -1.0, null, null, null, null, 0.0, null, null, -1.0, null, null, null, 0.0, null, 0.0, -0.3333333333333333, null, -0.3333333333333333, -0.3333333333333333, null, null, -0.2, 0.25, -0.3333333333333333, null, -0.3333333333333333, null, null, -0.09090909090909091, 0.0, 0.5, null, 0.1111111111111111, -0.14285714285714285, null, -0.10344827586206896, null, null, null, null, null, null, null, -0.1111111111111111, 1.0, null, null, null, null, null, 0.6666666666666666, null, null, 0.3333333333333333, null, null, null, null, 0.2, null, 0.2, null, -0.2, -1.0, 0.2, null, null, null, null, -0.42857142857142855, null, null, null, 0.16666666666666666, null, 0.2, 0.0, 0.6, null, null, null, null, null, 0.7142857142857143, null, 0.5, -0.6, null, -0.5, null, null, -0.3333333333333333, null, -0.5555555555555556, 0.0, 0.0, null, 0.0, 1.0, null, null, null, 0.6, 0.0, null, null, 0.14285714285714285, 0.5, -0.16666666666666666, null, null, -0.5, null, null, null, -0.2, -1.0, -0.5, null, 0.42857142857142855, null, null, -0.3333333333333333, -0.2, null, 1.0, -0.3333333333333333, null, null, null, null, null, null, null, null, 0.14285714285714285, -1.0, null, null, null, 0.3333333333333333, 0.14285714285714285, null, 0.0, 0.2727272727272727, null, -0.2, 0.3333333333333333, null, null, 0.2, 0.1111111111111111, null, 0.14285714285714285, null, null, -0.3333333333333333, null, -0.6, null, null, null, 0.2, null, null, null, null, -0.3333333333333333, null, 0.0, -0.25, 0.3333333333333333, 0.3333333333333333, null, -0.5, -1.0, 0.3333333333333333, -0.2, 0.0, 1.0, 0.0, 0.3333333333333333, 0.0, -1.0, -0.5, 0.14285714285714285, 0.3333333333333333, 0.0, 0.0, -1.0, 0.0, -0.2, 0.0, 0.0, -0.6, -1.0, -0.3333333333333333, 0.5, 0.0, 0.0, 0.0, 0.5555555555555556, -0.3333333333333333, 0.6, 0.0, 1.0, 0.0, 1.0, 0.0, -1.0, -0.23076923076923078, 0.14285714285714285, 0.3333333333333333, 1.0, 0.0, 0.0, 1.0, 0.0, 0.0, -0.14285714285714285, 0.0, 0.1111111111111111, 0.0, 0.2, -0.3333333333333333, -0.14285714285714285, 1.0, 0.0, 0.3333333333333333, null, -0.2, 1.0, 0.14285714285714285, 0.0, -1.0, 1.0, 0.0, 0.14285714285714285, 0.3333333333333333, 0.3333333333333333, -0.1, -0.75, -1.0, -0.6, 1.0, 0.0, 0.0, -1.0, 0.0, -1.0, 0.6, 0.0, 0.0, -1.0, -0.07692307692307693, -1.0, -0.3333333333333333, 0.0, -1.0, 0.5, 0.0, -1.0, 1.0, 1.0, 0.0, 0.3333333333333333, 0.0, -0.25, -0.3333333333333333, 0.0, -1.0, 1.0, 1.0, 1.0, -0.3333333333333333, 0.5, -0.5, 1.0, 0.5, -0.2727272727272727, 0.0, 0.0, -0.25, 0.5, -0.2, 0.14285714285714285, 0.14285714285714285, 1.0, -0.14285714285714285, null, -0.3333333333333333, 0.2, null, null, 0.0, null, 0.14285714285714285, 0.5, 0.14285714285714285, null, null, 1.0, 0.14285714285714285, 0.0, null, null, 0.42857142857142855, -0.23076923076923078, -1.0, 0.3333333333333333, null, 0.25, null, -0.3333333333333333, -0.1111111111111111, null, null, null, null, null, null, 1.0, 0.5, null, null, null, 0.2, 0.25, null, 0.3333333333333333, null, null, null, null, null, null, null, -0.1111111111111111, -0.2, null, 1.0, 0.3333333333333333, -0.3333333333333333, null, null, -1.0, null, -0.3333333333333333, 0.6666666666666666, null, 0.2, null, null, 0.25, 0.2, null, null, 0.0, null, 0.4, null, 0.0, 0.0, null, null, 0.14285714285714285, 1.0, null, 0.3333333333333333, null, null, -0.2, -0.2, null, null, 0.1111111111111111, null, 0.0, 0.0, null, null, null, null, null, 0.0, 1.0, null, null, 0.0, null, null, null, null, 1.0, null, null, null, null, null, 0.14285714285714285, 0.5555555555555556, null, 0.3333333333333333, null, -0.1111111111111111, null, -0.2727272727272727, null, null, -0.3333333333333333, 0.1111111111111111, null, null, -1.0, -1.0, null, null, 0.0, null, null, 0.1111111111111111, null, -1.0, null, null, null, -0.1111111111111111, null, 0.0, null, -0.3333333333333333, null, null, -0.14285714285714285, null, null, null, null, null, -0.06666666666666667, null, 0.6, null, null, null, null, -0.3333333333333333, -0.2, null, null, 0.2, null, null, 0.3333333333333333, -0.3333333333333333, 0.6, null, 0.2727272727272727, null, null, null, 0.3333333333333333, null, null, 1.0, null, 0.0, -0.3333333333333333, null, -0.4, null, -0.3333333333333333, null, null, 0.0, -0.5, -0.2, 1.0, null, -0.2, null, 0.3333333333333333, null, null, null, 0.25, null, null, -1.0, null, null, null, -0.2, 0.5, -0.75, 0.0, null, 0.6666666666666666, -0.2, null, 0.4, 0.0, -0.375, 0.0, null, null, -0.3333333333333333, null, -1.0, 0.0, null, null, null, -1.0, 0.1111111111111111, null, -0.2, 0.3333333333333333, 0.09090909090909091, 0.1111111111111111, -0.4, -0.2, -0.3333333333333333, null, null, -0.2, 0.14285714285714285, null, null, -0.2, null, 0.2, null, null, null, null, null, -0.75, null, -0.3333333333333333, null, null, null, null, 0.0, null, null, null, -0.6, -0.3333333333333333, 0.5, null, null, 0.0, null, null, 0.6, 0.3333333333333333, null, null, null, 0.0, null, null, 0.0, 0.3333333333333333, null, null, 0.0, 0.7142857142857143, 0.09090909090909091, -0.14285714285714285, 0.0, -0.5, 0.2, null, -0.5, -0.3333333333333333, null, null, null, null, null, null, null, null, null, null, null, null, -0.07692307692307693, 0.4, null, null, null, null, 0.0, -0.14285714285714285, 0.0, -0.2, 1.0, null, null, null, -0.4, 0.3333333333333333, null, -0.5, null, -0.16666666666666666, null, null, null, 1.0, -0.5555555555555556, 0.3333333333333333, null, -0.14285714285714285, 0.6, null, null, null, null, -0.6363636363636364, null, 0.0, null, 0.3333333333333333, null, null, -1.0, null, null, null, 0.4, 0.0, 0.0, 0.6, null, -0.2, null, null, null, -0.5, 0.0, null, null, 0.5, -0.23076923076923078, null, null, null, 0.3333333333333333, 0.058823529411764705, 1.0, -0.14285714285714285, null, 0.42857142857142855, 0.3333333333333333, null, -1.0, 0.2, null, null, null, 1.0, null, 0.14285714285714285, null, null, null, -0.75, 0.3333333333333333, 1.0, null, null, null, null, 0.2, null, null, 1.0, 0.0, null, null, null, null, 0.0, -0.3333333333333333, -0.6666666666666666, null, null, 0.6666666666666666, null, -0.3333333333333333, null, null, null, null, null, 0.2, null, -0.3333333333333333, null, 1.0, 1.0, null, null, null, null, -0.3333333333333333, 0.0, null, 0.14285714285714285, null, null, null, 0.0, null, null, null, -0.1111111111111111, null, 0.25, null, null, null, null, 0.0, null, 0.0, null, -0.17647058823529413, null, -0.10344827586206896, null, -0.2, 0.3333333333333333, 1.0, null, null, null, null, null, null, 1.0, null, null, null, null, null, null, null, 0.1111111111111111, 1.0, -1.0, null, null, -1.0, 0.25, null, 0.3333333333333333, null, null, 0.42857142857142855, null, null, null, -1.0, null, -0.3333333333333333, -1.0, -0.2, null, null, null, null, null, null, 0.09090909090909091, null, null, null, 0.2, 1.0, 0.0, null, null, 0.3333333333333333, 0.0, 0.07692307692307693, -0.3333333333333333, 0.0, -0.6666666666666666, null, null, null, null, 0.3333333333333333, null, null, 0.3333333333333333, null, 1.0, -1.0, 0.0, 0.0, -0.5, -0.2, null, null, null, null, -0.2, null, null, 0.3333333333333333, null, null, null, null, null, null, null, null, null, null, -0.2, 0.0, null, null, 0.2, null, null, null, -1.0, null, null, null, null, 0.0, null, null, null, null, null, null, -1.0, 0.4, null, null, null, null, -0.5, 0.14285714285714285, null, null, 0.7142857142857143, null, 0.0, 0.2, 0.5, 0.3333333333333333, 1.0, null, -1.0, 0.42857142857142855, null, null, 0.0, 0.0, null, 1.0, -0.75, -0.2, 0.0, 0.0, null, null, null, 0.3333333333333333, 0.6, null, 0.5, null, null, null, null, null, null, 1.0, 1.0, 0.0, -1.0, null, -0.3333333333333333, 0.2, null, 0.3333333333333333, -0.6666666666666666, null, null, null, null, null, null, null, 0.3333333333333333, null, 0.5, null, 0.0, null, null, 0.0, null, -0.6, null, 0.14285714285714285, -0.3333333333333333, null, null, -1.0, null, 1.0, null, null, null, -1.0, null, 0.0, 1.0, null, null, 0.5, -0.2, null, null, null, null, null, -0.3333333333333333, null, -0.2, null, null, null, null, null, null, null, null, 0.0, null, null, null, 0.7777777777777778, null, null, null, -0.3333333333333333, null, null, null, 0.0, 0.0, null, 0.0, 0.5, null, -0.25, 0.14285714285714285, -1.0, null, 0.0, 0.6363636363636364, 0.3333333333333333, 0.4, null, null, -1.0, null, 0.0, 0.25, -0.3333333333333333, 0.0, 0.1111111111111111, 0.0, 1.0, -0.3333333333333333, -0.2, 0.0, -0.3333333333333333, -1.0, 1.0, 0.6, 0.0, 0.0, -1.0, 0.0, 0.3333333333333333, -1.0, -1.0, 0.0, 0.2, 0.0, -1.0, -0.5, 0.2, 0.0, -1.0, -0.3333333333333333, -1.0, 0.7777777777777778, 0.0, -0.3333333333333333, -0.2, 0.0, -0.14285714285714285, 1.0, -1.0, 0.0, -0.5, 1.0, 0.0, 1.0, -0.3333333333333333, -0.5, null, 1.0, -0.3333333333333333, 0.0, -0.3333333333333333, -0.6, 1.0, 1.0, 0.0, -0.18181818181818182, 0.0, -1.0, 0.1111111111111111, 0.0, -1.0, -1.0, 0.0, 1.0, 0.3333333333333333, 0.0, 0.0, 0.0, 0.0, -0.5, -1.0, -1.0, 0.2, 0.3333333333333333, -0.3333333333333333, -0.42857142857142855, -1.0, -1.0, 0.0, 0.5, 0.0, 0.3333333333333333, -1.0, -0.6363636363636364, 1.0, 0.0, 0.7777777777777778, null, 0.3333333333333333, -0.25, 0.23076923076923078, null, -0.3333333333333333, 0.4, 0.0, 0.0, 0.25, -0.3333333333333333, -0.6, 0.0, 0.6, 0.0, 1.0, -1.0, 0.2, -0.3333333333333333, 0.2, 0.0, 1.0, 0.1111111111111111, 0.6666666666666666, 1.0, -0.3333333333333333, -0.6, null, -0.2, 0.3333333333333333, -0.3333333333333333], \"yaxis\": \"y\"}],\n",
              "                        {\"legend\": {\"tracegroupgap\": 0}, \"margin\": {\"t\": 60}, \"template\": {\"data\": {\"bar\": [{\"error_x\": {\"color\": \"#2a3f5f\"}, \"error_y\": {\"color\": \"#2a3f5f\"}, \"marker\": {\"line\": {\"color\": \"#E5ECF6\", \"width\": 0.5}}, \"type\": \"bar\"}], \"barpolar\": [{\"marker\": {\"line\": {\"color\": \"#E5ECF6\", \"width\": 0.5}}, \"type\": \"barpolar\"}], \"carpet\": [{\"aaxis\": {\"endlinecolor\": \"#2a3f5f\", \"gridcolor\": \"white\", \"linecolor\": \"white\", \"minorgridcolor\": \"white\", \"startlinecolor\": \"#2a3f5f\"}, \"baxis\": {\"endlinecolor\": \"#2a3f5f\", \"gridcolor\": \"white\", \"linecolor\": \"white\", \"minorgridcolor\": \"white\", \"startlinecolor\": \"#2a3f5f\"}, \"type\": \"carpet\"}], \"choropleth\": [{\"colorbar\": {\"outlinewidth\": 0, \"ticks\": \"\"}, \"type\": \"choropleth\"}], \"contour\": [{\"colorbar\": {\"outlinewidth\": 0, \"ticks\": \"\"}, \"colorscale\": [[0.0, \"#0d0887\"], [0.1111111111111111, \"#46039f\"], [0.2222222222222222, \"#7201a8\"], [0.3333333333333333, \"#9c179e\"], [0.4444444444444444, \"#bd3786\"], [0.5555555555555556, \"#d8576b\"], [0.6666666666666666, \"#ed7953\"], [0.7777777777777778, \"#fb9f3a\"], [0.8888888888888888, \"#fdca26\"], [1.0, \"#f0f921\"]], \"type\": \"contour\"}], \"contourcarpet\": [{\"colorbar\": {\"outlinewidth\": 0, \"ticks\": \"\"}, \"type\": \"contourcarpet\"}], \"heatmap\": [{\"colorbar\": {\"outlinewidth\": 0, \"ticks\": \"\"}, \"colorscale\": [[0.0, \"#0d0887\"], [0.1111111111111111, \"#46039f\"], [0.2222222222222222, \"#7201a8\"], [0.3333333333333333, \"#9c179e\"], [0.4444444444444444, \"#bd3786\"], [0.5555555555555556, \"#d8576b\"], [0.6666666666666666, \"#ed7953\"], [0.7777777777777778, \"#fb9f3a\"], [0.8888888888888888, \"#fdca26\"], [1.0, \"#f0f921\"]], \"type\": \"heatmap\"}], \"heatmapgl\": [{\"colorbar\": {\"outlinewidth\": 0, \"ticks\": \"\"}, \"colorscale\": [[0.0, \"#0d0887\"], [0.1111111111111111, \"#46039f\"], [0.2222222222222222, \"#7201a8\"], [0.3333333333333333, \"#9c179e\"], [0.4444444444444444, \"#bd3786\"], [0.5555555555555556, \"#d8576b\"], [0.6666666666666666, \"#ed7953\"], [0.7777777777777778, \"#fb9f3a\"], [0.8888888888888888, \"#fdca26\"], [1.0, \"#f0f921\"]], \"type\": \"heatmapgl\"}], \"histogram\": [{\"marker\": {\"colorbar\": {\"outlinewidth\": 0, \"ticks\": \"\"}}, \"type\": \"histogram\"}], \"histogram2d\": [{\"colorbar\": {\"outlinewidth\": 0, \"ticks\": \"\"}, \"colorscale\": [[0.0, \"#0d0887\"], [0.1111111111111111, \"#46039f\"], [0.2222222222222222, \"#7201a8\"], [0.3333333333333333, \"#9c179e\"], [0.4444444444444444, \"#bd3786\"], [0.5555555555555556, \"#d8576b\"], [0.6666666666666666, \"#ed7953\"], [0.7777777777777778, \"#fb9f3a\"], [0.8888888888888888, \"#fdca26\"], [1.0, \"#f0f921\"]], \"type\": \"histogram2d\"}], \"histogram2dcontour\": [{\"colorbar\": {\"outlinewidth\": 0, \"ticks\": \"\"}, \"colorscale\": [[0.0, \"#0d0887\"], [0.1111111111111111, \"#46039f\"], [0.2222222222222222, \"#7201a8\"], [0.3333333333333333, \"#9c179e\"], [0.4444444444444444, \"#bd3786\"], [0.5555555555555556, \"#d8576b\"], [0.6666666666666666, \"#ed7953\"], [0.7777777777777778, \"#fb9f3a\"], [0.8888888888888888, \"#fdca26\"], [1.0, \"#f0f921\"]], \"type\": \"histogram2dcontour\"}], \"mesh3d\": [{\"colorbar\": {\"outlinewidth\": 0, \"ticks\": \"\"}, \"type\": \"mesh3d\"}], \"parcoords\": [{\"line\": {\"colorbar\": {\"outlinewidth\": 0, \"ticks\": \"\"}}, \"type\": \"parcoords\"}], \"pie\": [{\"automargin\": true, \"type\": \"pie\"}], \"scatter\": [{\"marker\": {\"colorbar\": {\"outlinewidth\": 0, \"ticks\": \"\"}}, \"type\": \"scatter\"}], \"scatter3d\": [{\"line\": {\"colorbar\": {\"outlinewidth\": 0, \"ticks\": \"\"}}, \"marker\": {\"colorbar\": {\"outlinewidth\": 0, \"ticks\": \"\"}}, \"type\": \"scatter3d\"}], \"scattercarpet\": [{\"marker\": {\"colorbar\": {\"outlinewidth\": 0, \"ticks\": \"\"}}, \"type\": \"scattercarpet\"}], \"scattergeo\": [{\"marker\": {\"colorbar\": {\"outlinewidth\": 0, \"ticks\": \"\"}}, \"type\": \"scattergeo\"}], \"scattergl\": [{\"marker\": {\"colorbar\": {\"outlinewidth\": 0, \"ticks\": \"\"}}, \"type\": \"scattergl\"}], \"scattermapbox\": [{\"marker\": {\"colorbar\": {\"outlinewidth\": 0, \"ticks\": \"\"}}, \"type\": \"scattermapbox\"}], \"scatterpolar\": [{\"marker\": {\"colorbar\": {\"outlinewidth\": 0, \"ticks\": \"\"}}, \"type\": \"scatterpolar\"}], \"scatterpolargl\": [{\"marker\": {\"colorbar\": {\"outlinewidth\": 0, \"ticks\": \"\"}}, \"type\": \"scatterpolargl\"}], \"scatterternary\": [{\"marker\": {\"colorbar\": {\"outlinewidth\": 0, \"ticks\": \"\"}}, \"type\": \"scatterternary\"}], \"surface\": [{\"colorbar\": {\"outlinewidth\": 0, \"ticks\": \"\"}, \"colorscale\": [[0.0, \"#0d0887\"], [0.1111111111111111, \"#46039f\"], [0.2222222222222222, \"#7201a8\"], [0.3333333333333333, \"#9c179e\"], [0.4444444444444444, \"#bd3786\"], [0.5555555555555556, \"#d8576b\"], [0.6666666666666666, \"#ed7953\"], [0.7777777777777778, \"#fb9f3a\"], [0.8888888888888888, \"#fdca26\"], [1.0, \"#f0f921\"]], \"type\": \"surface\"}], \"table\": [{\"cells\": {\"fill\": {\"color\": \"#EBF0F8\"}, \"line\": {\"color\": \"white\"}}, \"header\": {\"fill\": {\"color\": \"#C8D4E3\"}, \"line\": {\"color\": \"white\"}}, \"type\": \"table\"}]}, \"layout\": {\"annotationdefaults\": {\"arrowcolor\": \"#2a3f5f\", \"arrowhead\": 0, \"arrowwidth\": 1}, \"coloraxis\": {\"colorbar\": {\"outlinewidth\": 0, \"ticks\": \"\"}}, \"colorscale\": {\"diverging\": [[0, \"#8e0152\"], [0.1, \"#c51b7d\"], [0.2, \"#de77ae\"], [0.3, \"#f1b6da\"], [0.4, \"#fde0ef\"], [0.5, \"#f7f7f7\"], [0.6, \"#e6f5d0\"], [0.7, \"#b8e186\"], [0.8, \"#7fbc41\"], [0.9, \"#4d9221\"], [1, \"#276419\"]], \"sequential\": [[0.0, \"#0d0887\"], [0.1111111111111111, \"#46039f\"], [0.2222222222222222, \"#7201a8\"], [0.3333333333333333, \"#9c179e\"], [0.4444444444444444, \"#bd3786\"], [0.5555555555555556, \"#d8576b\"], [0.6666666666666666, \"#ed7953\"], [0.7777777777777778, \"#fb9f3a\"], [0.8888888888888888, \"#fdca26\"], [1.0, \"#f0f921\"]], \"sequentialminus\": [[0.0, \"#0d0887\"], [0.1111111111111111, \"#46039f\"], [0.2222222222222222, \"#7201a8\"], [0.3333333333333333, \"#9c179e\"], [0.4444444444444444, \"#bd3786\"], [0.5555555555555556, \"#d8576b\"], [0.6666666666666666, \"#ed7953\"], [0.7777777777777778, \"#fb9f3a\"], [0.8888888888888888, \"#fdca26\"], [1.0, \"#f0f921\"]]}, \"colorway\": [\"#636efa\", \"#EF553B\", \"#00cc96\", \"#ab63fa\", \"#FFA15A\", \"#19d3f3\", \"#FF6692\", \"#B6E880\", \"#FF97FF\", \"#FECB52\"], \"font\": {\"color\": \"#2a3f5f\"}, \"geo\": {\"bgcolor\": \"white\", \"lakecolor\": \"white\", \"landcolor\": \"#E5ECF6\", \"showlakes\": true, \"showland\": true, \"subunitcolor\": \"white\"}, \"hoverlabel\": {\"align\": \"left\"}, \"hovermode\": \"closest\", \"mapbox\": {\"style\": \"light\"}, \"paper_bgcolor\": \"white\", \"plot_bgcolor\": \"#E5ECF6\", \"polar\": {\"angularaxis\": {\"gridcolor\": \"white\", \"linecolor\": \"white\", \"ticks\": \"\"}, \"bgcolor\": \"#E5ECF6\", \"radialaxis\": {\"gridcolor\": \"white\", \"linecolor\": \"white\", \"ticks\": \"\"}}, \"scene\": {\"xaxis\": {\"backgroundcolor\": \"#E5ECF6\", \"gridcolor\": \"white\", \"gridwidth\": 2, \"linecolor\": \"white\", \"showbackground\": true, \"ticks\": \"\", \"zerolinecolor\": \"white\"}, \"yaxis\": {\"backgroundcolor\": \"#E5ECF6\", \"gridcolor\": \"white\", \"gridwidth\": 2, \"linecolor\": \"white\", \"showbackground\": true, \"ticks\": \"\", \"zerolinecolor\": \"white\"}, \"zaxis\": {\"backgroundcolor\": \"#E5ECF6\", \"gridcolor\": \"white\", \"gridwidth\": 2, \"linecolor\": \"white\", \"showbackground\": true, \"ticks\": \"\", \"zerolinecolor\": \"white\"}}, \"shapedefaults\": {\"line\": {\"color\": \"#2a3f5f\"}}, \"ternary\": {\"aaxis\": {\"gridcolor\": \"white\", \"linecolor\": \"white\", \"ticks\": \"\"}, \"baxis\": {\"gridcolor\": \"white\", \"linecolor\": \"white\", \"ticks\": \"\"}, \"bgcolor\": \"#E5ECF6\", \"caxis\": {\"gridcolor\": \"white\", \"linecolor\": \"white\", \"ticks\": \"\"}}, \"title\": {\"x\": 0.05}, \"xaxis\": {\"automargin\": true, \"gridcolor\": \"white\", \"linecolor\": \"white\", \"ticks\": \"\", \"title\": {\"standoff\": 15}, \"zerolinecolor\": \"white\", \"zerolinewidth\": 2}, \"yaxis\": {\"automargin\": true, \"gridcolor\": \"white\", \"linecolor\": \"white\", \"ticks\": \"\", \"title\": {\"standoff\": 15}, \"zerolinecolor\": \"white\", \"zerolinewidth\": 2}}}, \"xaxis\": {\"anchor\": \"y\", \"domain\": [0.0, 1.0], \"title\": {\"text\": \"Iteration\"}}, \"yaxis\": {\"anchor\": \"x\", \"domain\": [0.0, 1.0], \"title\": {\"text\": \"Signed ee\"}}},\n",
              "                        {\"responsive\": true}\n",
              "                    ).then(function(){\n",
              "                            \n",
              "var gd = document.getElementById('9a764a15-83fa-4434-9429-493c7ec78da9');\n",
              "var x = new MutationObserver(function (mutations, observer) {{\n",
              "        var display = window.getComputedStyle(gd).display;\n",
              "        if (!display || display === 'none') {{\n",
              "            console.log([gd, 'removed!']);\n",
              "            Plotly.purge(gd);\n",
              "            observer.disconnect();\n",
              "        }}\n",
              "}});\n",
              "\n",
              "// Listen for the removal of the full notebook cells\n",
              "var notebookContainer = gd.closest('#notebook-container');\n",
              "if (notebookContainer) {{\n",
              "    x.observe(notebookContainer, {childList: true});\n",
              "}}\n",
              "\n",
              "// Listen for the clearing of the current output cell\n",
              "var outputEl = gd.closest('.output');\n",
              "if (outputEl) {{\n",
              "    x.observe(outputEl, {childList: true});\n",
              "}}\n",
              "\n",
              "                        })\n",
              "                };\n",
              "                \n",
              "            </script>\n",
              "        </div>\n",
              "</body>\n",
              "</html>"
            ]
          },
          "metadata": {
            "tags": [
              "id8_content_2",
              "outputarea_id8",
              "user_output"
            ]
          }
        },
        {
          "output_type": "display_data",
          "data": {
            "application/javascript": [
              "window[\"75770dc6-ba43-11ea-b542-0242ac1c0002\"] = google.colab.output.setActiveOutputArea(window[\"752af710-ba43-11ea-b542-0242ac1c0002\"]);\n",
              "//# sourceURL=js_be7a51327a"
            ],
            "text/plain": [
              "<IPython.core.display.Javascript object>"
            ]
          },
          "metadata": {
            "tags": [
              "id8_content_2",
              "outputarea_id8"
            ]
          }
        },
        {
          "output_type": "display_data",
          "data": {
            "application/javascript": [
              "window[\"75780b86-ba43-11ea-b542-0242ac1c0002\"] = google.colab.output.getActiveOutputArea();\n",
              "//# sourceURL=js_c3d9db92b1"
            ],
            "text/plain": [
              "<IPython.core.display.Javascript object>"
            ]
          },
          "metadata": {
            "tags": [
              "id8_content_3",
              "outputarea_id8"
            ]
          }
        },
        {
          "output_type": "display_data",
          "data": {
            "application/javascript": [
              "window[\"757843bc-ba43-11ea-b542-0242ac1c0002\"] = document.querySelector(\"#id8_content_3\");\n",
              "//# sourceURL=js_0b3178297a"
            ],
            "text/plain": [
              "<IPython.core.display.Javascript object>"
            ]
          },
          "metadata": {
            "tags": [
              "id8_content_3",
              "outputarea_id8"
            ]
          }
        },
        {
          "output_type": "display_data",
          "data": {
            "application/javascript": [
              "window[\"75787ed6-ba43-11ea-b542-0242ac1c0002\"] = google.colab.output.setActiveOutputArea(window[\"757843bc-ba43-11ea-b542-0242ac1c0002\"]);\n",
              "//# sourceURL=js_0b2990dbe4"
            ],
            "text/plain": [
              "<IPython.core.display.Javascript object>"
            ]
          },
          "metadata": {
            "tags": [
              "id8_content_3",
              "outputarea_id8"
            ]
          }
        },
        {
          "output_type": "display_data",
          "data": {
            "application/javascript": [
              "window[\"7578bfea-ba43-11ea-b542-0242ac1c0002\"] = window[\"id8\"].setSelectedTabIndex(3);\n",
              "//# sourceURL=js_750d2289d6"
            ],
            "text/plain": [
              "<IPython.core.display.Javascript object>"
            ]
          },
          "metadata": {
            "tags": [
              "id8_content_3",
              "outputarea_id8"
            ]
          }
        },
        {
          "output_type": "display_data",
          "data": {
            "image/png": "[encoded data removed]",
            "text/plain": [
              "<Figure size 900x600 with 1 Axes>"
            ]
          },
          "metadata": {
            "tags": [
              "id8_content_3",
              "outputarea_id8",
              "user_output"
            ],
            "needs_background": "light"
          }
        },
        {
          "output_type": "display_data",
          "data": {
            "application/javascript": [
              "window[\"75a7fad0-ba43-11ea-b542-0242ac1c0002\"] = google.colab.output.setActiveOutputArea(window[\"75780b86-ba43-11ea-b542-0242ac1c0002\"]);\n",
              "//# sourceURL=js_35120b1458"
            ],
            "text/plain": [
              "<IPython.core.display.Javascript object>"
            ]
          },
          "metadata": {
            "tags": [
              "id8_content_3",
              "outputarea_id8"
            ]
          }
        },
        {
          "output_type": "display_data",
          "data": {
            "application/javascript": [
              "window[\"75aa9128-ba43-11ea-b542-0242ac1c0002\"] = google.colab.output.getActiveOutputArea();\n",
              "//# sourceURL=js_90a8094266"
            ],
            "text/plain": [
              "<IPython.core.display.Javascript object>"
            ]
          },
          "metadata": {
            "tags": [
              "id8_content_4",
              "outputarea_id8"
            ]
          }
        },
        {
          "output_type": "display_data",
          "data": {
            "application/javascript": [
              "window[\"75ab095a-ba43-11ea-b542-0242ac1c0002\"] = document.querySelector(\"#id8_content_4\");\n",
              "//# sourceURL=js_f15aa609dc"
            ],
            "text/plain": [
              "<IPython.core.display.Javascript object>"
            ]
          },
          "metadata": {
            "tags": [
              "id8_content_4",
              "outputarea_id8"
            ]
          }
        },
        {
          "output_type": "display_data",
          "data": {
            "application/javascript": [
              "window[\"75ab531a-ba43-11ea-b542-0242ac1c0002\"] = google.colab.output.setActiveOutputArea(window[\"75ab095a-ba43-11ea-b542-0242ac1c0002\"]);\n",
              "//# sourceURL=js_9ac4d41382"
            ],
            "text/plain": [
              "<IPython.core.display.Javascript object>"
            ]
          },
          "metadata": {
            "tags": [
              "id8_content_4",
              "outputarea_id8"
            ]
          }
        },
        {
          "output_type": "display_data",
          "data": {
            "application/javascript": [
              "window[\"75ab9e56-ba43-11ea-b542-0242ac1c0002\"] = window[\"id8\"].setSelectedTabIndex(4);\n",
              "//# sourceURL=js_79ebe4e268"
            ],
            "text/plain": [
              "<IPython.core.display.Javascript object>"
            ]
          },
          "metadata": {
            "tags": [
              "id8_content_4",
              "outputarea_id8"
            ]
          }
        },
        {
          "output_type": "display_data",
          "data": {
            "image/png": "[encoded data removed]",
            "text/plain": [
              "<Figure size 432x288 with 1 Axes>"
            ]
          },
          "metadata": {
            "tags": [
              "id8_content_4",
              "outputarea_id8",
              "user_output"
            ],
            "needs_background": "light"
          }
        },
        {
          "output_type": "display_data",
          "data": {
            "application/javascript": [
              "window[\"75c4250c-ba43-11ea-b542-0242ac1c0002\"] = google.colab.output.setActiveOutputArea(window[\"75aa9128-ba43-11ea-b542-0242ac1c0002\"]);\n",
              "//# sourceURL=js_5a2bdd185f"
            ],
            "text/plain": [
              "<IPython.core.display.Javascript object>"
            ]
          },
          "metadata": {
            "tags": [
              "id8_content_4",
              "outputarea_id8"
            ]
          }
        },
        {
          "output_type": "display_data",
          "data": {
            "application/javascript": [
              "window[\"75c56494-ba43-11ea-b542-0242ac1c0002\"] = google.colab.output.getActiveOutputArea();\n",
              "//# sourceURL=js_71199bcb84"
            ],
            "text/plain": [
              "<IPython.core.display.Javascript object>"
            ]
          },
          "metadata": {
            "tags": [
              "id8_content_5",
              "outputarea_id8"
            ]
          }
        },
        {
          "output_type": "display_data",
          "data": {
            "application/javascript": [
              "window[\"75c639be-ba43-11ea-b542-0242ac1c0002\"] = document.querySelector(\"#id8_content_5\");\n",
              "//# sourceURL=js_9a73738792"
            ],
            "text/plain": [
              "<IPython.core.display.Javascript object>"
            ]
          },
          "metadata": {
            "tags": [
              "id8_content_5",
              "outputarea_id8"
            ]
          }
        },
        {
          "output_type": "display_data",
          "data": {
            "application/javascript": [
              "window[\"75c67f64-ba43-11ea-b542-0242ac1c0002\"] = google.colab.output.setActiveOutputArea(window[\"75c639be-ba43-11ea-b542-0242ac1c0002\"]);\n",
              "//# sourceURL=js_f72591cb13"
            ],
            "text/plain": [
              "<IPython.core.display.Javascript object>"
            ]
          },
          "metadata": {
            "tags": [
              "id8_content_5",
              "outputarea_id8"
            ]
          }
        },
        {
          "output_type": "display_data",
          "data": {
            "application/javascript": [
              "window[\"75c6cd48-ba43-11ea-b542-0242ac1c0002\"] = window[\"id8\"].setSelectedTabIndex(5);\n",
              "//# sourceURL=js_0236d235f3"
            ],
            "text/plain": [
              "<IPython.core.display.Javascript object>"
            ]
          },
          "metadata": {
            "tags": [
              "id8_content_5",
              "outputarea_id8"
            ]
          }
        },
        {
          "output_type": "display_data",
          "data": {
            "image/png": "[encoded data removed]",
            "text/plain": [
              "<Figure size 432x288 with 1 Axes>"
            ]
          },
          "metadata": {
            "tags": [
              "id8_content_5",
              "outputarea_id8",
              "user_output"
            ],
            "needs_background": "light"
          }
        },
        {
          "output_type": "display_data",
          "data": {
            "application/javascript": [
              "window[\"75e2bfee-ba43-11ea-b542-0242ac1c0002\"] = google.colab.output.setActiveOutputArea(window[\"75c56494-ba43-11ea-b542-0242ac1c0002\"]);\n",
              "//# sourceURL=js_8d74717afb"
            ],
            "text/plain": [
              "<IPython.core.display.Javascript object>"
            ]
          },
          "metadata": {
            "tags": [
              "id8_content_5",
              "outputarea_id8"
            ]
          }
        },
        {
          "output_type": "display_data",
          "data": {
            "application/javascript": [
              "window[\"75e4526e-ba43-11ea-b542-0242ac1c0002\"] = google.colab.output.getActiveOutputArea();\n",
              "//# sourceURL=js_aabd5fb4a4"
            ],
            "text/plain": [
              "<IPython.core.display.Javascript object>"
            ]
          },
          "metadata": {
            "tags": [
              "id8_content_6",
              "outputarea_id8"
            ]
          }
        },
        {
          "output_type": "display_data",
          "data": {
            "application/javascript": [
              "window[\"75e49c56-ba43-11ea-b542-0242ac1c0002\"] = document.querySelector(\"#id8_content_6\");\n",
              "//# sourceURL=js_260f9aab10"
            ],
            "text/plain": [
              "<IPython.core.display.Javascript object>"
            ]
          },
          "metadata": {
            "tags": [
              "id8_content_6",
              "outputarea_id8"
            ]
          }
        },
        {
          "output_type": "display_data",
          "data": {
            "application/javascript": [
              "window[\"75e4e224-ba43-11ea-b542-0242ac1c0002\"] = google.colab.output.setActiveOutputArea(window[\"75e49c56-ba43-11ea-b542-0242ac1c0002\"]);\n",
              "//# sourceURL=js_b258dbe494"
            ],
            "text/plain": [
              "<IPython.core.display.Javascript object>"
            ]
          },
          "metadata": {
            "tags": [
              "id8_content_6",
              "outputarea_id8"
            ]
          }
        },
        {
          "output_type": "display_data",
          "data": {
            "application/javascript": [
              "window[\"75e533be-ba43-11ea-b542-0242ac1c0002\"] = window[\"id8\"].setSelectedTabIndex(6);\n",
              "//# sourceURL=js_4e27bb0a47"
            ],
            "text/plain": [
              "<IPython.core.display.Javascript object>"
            ]
          },
          "metadata": {
            "tags": [
              "id8_content_6",
              "outputarea_id8"
            ]
          }
        },
        {
          "output_type": "display_data",
          "data": {
            "image/png": "[encoded data removed]",
            "text/plain": [
              "<Figure size 432x288 with 1 Axes>"
            ]
          },
          "metadata": {
            "tags": [
              "id8_content_6",
              "outputarea_id8",
              "user_output"
            ],
            "needs_background": "light"
          }
        },
        {
          "output_type": "display_data",
          "data": {
            "application/javascript": [
              "window[\"7603a68c-ba43-11ea-b542-0242ac1c0002\"] = google.colab.output.setActiveOutputArea(window[\"75e4526e-ba43-11ea-b542-0242ac1c0002\"]);\n",
              "//# sourceURL=js_f7cc381105"
            ],
            "text/plain": [
              "<IPython.core.display.Javascript object>"
            ]
          },
          "metadata": {
            "tags": [
              "id8_content_6",
              "outputarea_id8"
            ]
          }
        }
      ]
    },
    {
      "cell_type": "markdown",
      "metadata": {
        "id": "3nujicdthc10",
        "colab_type": "text"
      },
      "source": [
        "# a spot for checking code things"
      ]
    },
    {
      "cell_type": "code",
      "metadata": {
        "id": "0dyyujrlhrLd",
        "colab_type": "code",
        "colab": {}
      },
      "source": [
        "\n"
      ],
      "execution_count": 44,
      "outputs": []
    },
    {
      "cell_type": "markdown",
      "metadata": {
        "id": "Bz-0l0AhLPnT",
        "colab_type": "text"
      },
      "source": [
        "# Observations"
      ]
    },
    {
      "cell_type": "markdown",
      "metadata": {
        "id": "UmLV03D1LUng",
        "colab_type": "text"
      },
      "source": [
        "Under the current refill rules, the upper bound for the total number of monomers (both free and within polymers) in the world is $1/2(P)(I)$ for $P$ = pool size and $I$ = number of iterations.\n",
        "\n",
        "The upper bound on possible polymer size is \n",
        "\n",
        "$\n",
        "\\begin{equation}\n",
        "  bound=\\left\\{\n",
        "  \\begin{array}{@{}ll@{}}\n",
        "    2^n, & n \\leq\\ T \\\\\n",
        "    2^T+(n-T)(2^{T-1}), & n>T\n",
        "  \\end{array}\\right.\n",
        "\\end{equation} \n",
        "$\n",
        "\n",
        "for $T=log_2(P)$.\n",
        "\n",
        "For $P < 100$ or so, these bounds are substantially lower than $2^n$, but for large $P$ it matters less.\n",
        "\n",
        "Also $2^T+(n-T)(2^{T-1}) = P(1+1/2(n-log_2(P))$ I think."
      ]
    }
  ]
}