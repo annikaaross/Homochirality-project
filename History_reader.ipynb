{
  "nbformat": 4,
  "nbformat_minor": 0,
  "metadata": {
    "colab": {
      "name": "History_reader.ipynb",
      "provenance": [],
      "collapsed_sections": [],
      "authorship_tag": "ABX9TyMvO+KDNtkiyaI8USYFXvJP",
      "include_colab_link": true
    },
    "kernelspec": {
      "name": "python3",
      "display_name": "Python 3"
    },
    "widgets": {
      "application/vnd.jupyter.widget-state+json": {
        "482f8ec565e4468fa5ed4c17861448b5": {
          "model_module": "@jupyter-widgets/controls",
          "model_name": "VBoxModel",
          "state": {
            "_view_name": "VBoxView",
            "_dom_classes": [],
            "_model_name": "VBoxModel",
            "_view_module": "@jupyter-widgets/controls",
            "_model_module_version": "1.5.0",
            "_view_count": null,
            "_view_module_version": "1.5.0",
            "box_style": "",
            "layout": "IPY_MODEL_5278b138d6d24b5abf44286f081ba12e",
            "_model_module": "@jupyter-widgets/controls",
            "children": [
              "IPY_MODEL_fa0a4132c7314202acf34ac49296ce9c",
              "IPY_MODEL_6f40dad0a31944a0ae6b6fce621f90f6"
            ]
          }
        },
        "5278b138d6d24b5abf44286f081ba12e": {
          "model_module": "@jupyter-widgets/base",
          "model_name": "LayoutModel",
          "state": {
            "_view_name": "LayoutView",
            "grid_template_rows": null,
            "right": null,
            "justify_content": null,
            "_view_module": "@jupyter-widgets/base",
            "overflow": null,
            "_model_module_version": "1.2.0",
            "_view_count": null,
            "flex_flow": null,
            "width": null,
            "min_width": null,
            "border": null,
            "align_items": null,
            "bottom": null,
            "_model_module": "@jupyter-widgets/base",
            "top": null,
            "grid_column": null,
            "overflow_y": null,
            "overflow_x": null,
            "grid_auto_flow": null,
            "grid_area": null,
            "grid_template_columns": null,
            "flex": null,
            "_model_name": "LayoutModel",
            "justify_items": null,
            "grid_row": null,
            "max_height": null,
            "align_content": null,
            "visibility": null,
            "align_self": null,
            "height": null,
            "min_height": null,
            "padding": null,
            "grid_auto_rows": null,
            "grid_gap": null,
            "max_width": null,
            "order": null,
            "_view_module_version": "1.2.0",
            "grid_template_areas": null,
            "object_position": null,
            "object_fit": null,
            "grid_auto_columns": null,
            "margin": null,
            "display": null,
            "left": null
          }
        },
        "fa0a4132c7314202acf34ac49296ce9c": {
          "model_module": "@jupyter-widgets/controls",
          "model_name": "TextModel",
          "state": {
            "_view_name": "TextView",
            "style": "IPY_MODEL_2542504d992448e6b434655c2f656884",
            "_dom_classes": [],
            "description": "subfolder:",
            "_model_name": "TextModel",
            "placeholder": "enter subfolder name",
            "_view_module": "@jupyter-widgets/controls",
            "_model_module_version": "1.5.0",
            "value": "vary_pool_fusion",
            "_view_count": null,
            "disabled": false,
            "_view_module_version": "1.5.0",
            "continuous_update": true,
            "description_tooltip": null,
            "_model_module": "@jupyter-widgets/controls",
            "layout": "IPY_MODEL_310c627a7ac64970bbe95ebdd3684c89"
          }
        },
        "6f40dad0a31944a0ae6b6fce621f90f6": {
          "model_module": "@jupyter-widgets/controls",
          "model_name": "TextModel",
          "state": {
            "_view_name": "TextView",
            "style": "IPY_MODEL_37b198b5ab7541838f30a3b0f154f8a3",
            "_dom_classes": [],
            "description": "batch:",
            "_model_name": "TextModel",
            "placeholder": "enter batch name",
            "_view_module": "@jupyter-widgets/controls",
            "_model_module_version": "1.5.0",
            "value": "batch1",
            "_view_count": null,
            "disabled": false,
            "_view_module_version": "1.5.0",
            "continuous_update": true,
            "description_tooltip": null,
            "_model_module": "@jupyter-widgets/controls",
            "layout": "IPY_MODEL_e066991031b746fcbf10f5b11dc6ccdd"
          }
        },
        "2542504d992448e6b434655c2f656884": {
          "model_module": "@jupyter-widgets/controls",
          "model_name": "DescriptionStyleModel",
          "state": {
            "_view_name": "StyleView",
            "_model_name": "DescriptionStyleModel",
            "description_width": "",
            "_view_module": "@jupyter-widgets/base",
            "_model_module_version": "1.5.0",
            "_view_count": null,
            "_view_module_version": "1.2.0",
            "_model_module": "@jupyter-widgets/controls"
          }
        },
        "310c627a7ac64970bbe95ebdd3684c89": {
          "model_module": "@jupyter-widgets/base",
          "model_name": "LayoutModel",
          "state": {
            "_view_name": "LayoutView",
            "grid_template_rows": null,
            "right": null,
            "justify_content": null,
            "_view_module": "@jupyter-widgets/base",
            "overflow": null,
            "_model_module_version": "1.2.0",
            "_view_count": null,
            "flex_flow": null,
            "width": null,
            "min_width": null,
            "border": null,
            "align_items": null,
            "bottom": null,
            "_model_module": "@jupyter-widgets/base",
            "top": null,
            "grid_column": null,
            "overflow_y": null,
            "overflow_x": null,
            "grid_auto_flow": null,
            "grid_area": null,
            "grid_template_columns": null,
            "flex": null,
            "_model_name": "LayoutModel",
            "justify_items": null,
            "grid_row": null,
            "max_height": null,
            "align_content": null,
            "visibility": null,
            "align_self": null,
            "height": null,
            "min_height": null,
            "padding": null,
            "grid_auto_rows": null,
            "grid_gap": null,
            "max_width": null,
            "order": null,
            "_view_module_version": "1.2.0",
            "grid_template_areas": null,
            "object_position": null,
            "object_fit": null,
            "grid_auto_columns": null,
            "margin": null,
            "display": null,
            "left": null
          }
        },
        "37b198b5ab7541838f30a3b0f154f8a3": {
          "model_module": "@jupyter-widgets/controls",
          "model_name": "DescriptionStyleModel",
          "state": {
            "_view_name": "StyleView",
            "_model_name": "DescriptionStyleModel",
            "description_width": "",
            "_view_module": "@jupyter-widgets/base",
            "_model_module_version": "1.5.0",
            "_view_count": null,
            "_view_module_version": "1.2.0",
            "_model_module": "@jupyter-widgets/controls"
          }
        },
        "e066991031b746fcbf10f5b11dc6ccdd": {
          "model_module": "@jupyter-widgets/base",
          "model_name": "LayoutModel",
          "state": {
            "_view_name": "LayoutView",
            "grid_template_rows": null,
            "right": null,
            "justify_content": null,
            "_view_module": "@jupyter-widgets/base",
            "overflow": null,
            "_model_module_version": "1.2.0",
            "_view_count": null,
            "flex_flow": null,
            "width": null,
            "min_width": null,
            "border": null,
            "align_items": null,
            "bottom": null,
            "_model_module": "@jupyter-widgets/base",
            "top": null,
            "grid_column": null,
            "overflow_y": null,
            "overflow_x": null,
            "grid_auto_flow": null,
            "grid_area": null,
            "grid_template_columns": null,
            "flex": null,
            "_model_name": "LayoutModel",
            "justify_items": null,
            "grid_row": null,
            "max_height": null,
            "align_content": null,
            "visibility": null,
            "align_self": null,
            "height": null,
            "min_height": null,
            "padding": null,
            "grid_auto_rows": null,
            "grid_gap": null,
            "max_width": null,
            "order": null,
            "_view_module_version": "1.2.0",
            "grid_template_areas": null,
            "object_position": null,
            "object_fit": null,
            "grid_auto_columns": null,
            "margin": null,
            "display": null,
            "left": null
          }
        },
        "43b0d50ee1e94bb58e0e4976420a64ea": {
          "model_module": "@jupyter-widgets/controls",
          "model_name": "CheckboxModel",
          "state": {
            "_view_name": "CheckboxView",
            "style": "IPY_MODEL_a40a7adea8394f599504a359c3496c58",
            "_dom_classes": [],
            "description": "Force reparse",
            "_model_name": "CheckboxModel",
            "_view_module": "@jupyter-widgets/controls",
            "_model_module_version": "1.5.0",
            "value": true,
            "_view_count": null,
            "disabled": false,
            "_view_module_version": "1.5.0",
            "indent": true,
            "description_tooltip": null,
            "_model_module": "@jupyter-widgets/controls",
            "layout": "IPY_MODEL_d91d07ea9d2f4f678bb72ed280855fd9"
          }
        },
        "a40a7adea8394f599504a359c3496c58": {
          "model_module": "@jupyter-widgets/controls",
          "model_name": "DescriptionStyleModel",
          "state": {
            "_view_name": "StyleView",
            "_model_name": "DescriptionStyleModel",
            "description_width": "",
            "_view_module": "@jupyter-widgets/base",
            "_model_module_version": "1.5.0",
            "_view_count": null,
            "_view_module_version": "1.2.0",
            "_model_module": "@jupyter-widgets/controls"
          }
        },
        "d91d07ea9d2f4f678bb72ed280855fd9": {
          "model_module": "@jupyter-widgets/base",
          "model_name": "LayoutModel",
          "state": {
            "_view_name": "LayoutView",
            "grid_template_rows": null,
            "right": null,
            "justify_content": null,
            "_view_module": "@jupyter-widgets/base",
            "overflow": null,
            "_model_module_version": "1.2.0",
            "_view_count": null,
            "flex_flow": null,
            "width": null,
            "min_width": null,
            "border": null,
            "align_items": null,
            "bottom": null,
            "_model_module": "@jupyter-widgets/base",
            "top": null,
            "grid_column": null,
            "overflow_y": null,
            "overflow_x": null,
            "grid_auto_flow": null,
            "grid_area": null,
            "grid_template_columns": null,
            "flex": null,
            "_model_name": "LayoutModel",
            "justify_items": null,
            "grid_row": null,
            "max_height": null,
            "align_content": null,
            "visibility": null,
            "align_self": null,
            "height": null,
            "min_height": null,
            "padding": null,
            "grid_auto_rows": null,
            "grid_gap": null,
            "max_width": null,
            "order": null,
            "_view_module_version": "1.2.0",
            "grid_template_areas": null,
            "object_position": null,
            "object_fit": null,
            "grid_auto_columns": null,
            "margin": null,
            "display": null,
            "left": null
          }
        },
        "bdf36cbfcc644a02b0755c350a2f4094": {
          "model_module": "@jupyter-widgets/controls",
          "model_name": "ButtonModel",
          "state": {
            "_view_name": "ButtonView",
            "style": "IPY_MODEL_5fceccc5e7274e6ab6c621b585c979de",
            "_dom_classes": [],
            "description": "Get data",
            "_model_name": "ButtonModel",
            "button_style": "",
            "_view_module": "@jupyter-widgets/controls",
            "_model_module_version": "1.5.0",
            "tooltip": "",
            "_view_count": null,
            "disabled": false,
            "_view_module_version": "1.5.0",
            "layout": "IPY_MODEL_2b017e64cfe9418890b65b5fd09c625a",
            "_model_module": "@jupyter-widgets/controls",
            "icon": ""
          }
        },
        "5fceccc5e7274e6ab6c621b585c979de": {
          "model_module": "@jupyter-widgets/controls",
          "model_name": "ButtonStyleModel",
          "state": {
            "_view_name": "StyleView",
            "_model_name": "ButtonStyleModel",
            "_view_module": "@jupyter-widgets/base",
            "_model_module_version": "1.5.0",
            "_view_count": null,
            "button_color": null,
            "font_weight": "",
            "_view_module_version": "1.2.0",
            "_model_module": "@jupyter-widgets/controls"
          }
        },
        "2b017e64cfe9418890b65b5fd09c625a": {
          "model_module": "@jupyter-widgets/base",
          "model_name": "LayoutModel",
          "state": {
            "_view_name": "LayoutView",
            "grid_template_rows": null,
            "right": null,
            "justify_content": null,
            "_view_module": "@jupyter-widgets/base",
            "overflow": null,
            "_model_module_version": "1.2.0",
            "_view_count": null,
            "flex_flow": null,
            "width": null,
            "min_width": null,
            "border": null,
            "align_items": null,
            "bottom": null,
            "_model_module": "@jupyter-widgets/base",
            "top": null,
            "grid_column": null,
            "overflow_y": null,
            "overflow_x": null,
            "grid_auto_flow": null,
            "grid_area": null,
            "grid_template_columns": null,
            "flex": null,
            "_model_name": "LayoutModel",
            "justify_items": null,
            "grid_row": null,
            "max_height": null,
            "align_content": null,
            "visibility": null,
            "align_self": null,
            "height": null,
            "min_height": null,
            "padding": null,
            "grid_auto_rows": null,
            "grid_gap": null,
            "max_width": null,
            "order": null,
            "_view_module_version": "1.2.0",
            "grid_template_areas": null,
            "object_position": null,
            "object_fit": null,
            "grid_auto_columns": null,
            "margin": null,
            "display": null,
            "left": null
          }
        },
        "83e2fc90f8d54b5cab6c37654a8bf14b": {
          "model_module": "@jupyter-widgets/controls",
          "model_name": "VBoxModel",
          "state": {
            "_view_name": "VBoxView",
            "_dom_classes": [],
            "_model_name": "VBoxModel",
            "_view_module": "@jupyter-widgets/controls",
            "_model_module_version": "1.5.0",
            "_view_count": null,
            "_view_module_version": "1.5.0",
            "box_style": "",
            "layout": "IPY_MODEL_902eb6ee507940acb66a753c000aa345",
            "_model_module": "@jupyter-widgets/controls",
            "children": [
              "IPY_MODEL_ec0d1c184b64468d8bcfc9b0487e0362",
              "IPY_MODEL_e5e0e73385414f33adf52af6f161cbaf"
            ]
          }
        },
        "902eb6ee507940acb66a753c000aa345": {
          "model_module": "@jupyter-widgets/base",
          "model_name": "LayoutModel",
          "state": {
            "_view_name": "LayoutView",
            "grid_template_rows": null,
            "right": null,
            "justify_content": null,
            "_view_module": "@jupyter-widgets/base",
            "overflow": null,
            "_model_module_version": "1.2.0",
            "_view_count": null,
            "flex_flow": null,
            "width": null,
            "min_width": null,
            "border": null,
            "align_items": null,
            "bottom": null,
            "_model_module": "@jupyter-widgets/base",
            "top": null,
            "grid_column": null,
            "overflow_y": null,
            "overflow_x": null,
            "grid_auto_flow": null,
            "grid_area": null,
            "grid_template_columns": null,
            "flex": null,
            "_model_name": "LayoutModel",
            "justify_items": null,
            "grid_row": null,
            "max_height": null,
            "align_content": null,
            "visibility": null,
            "align_self": null,
            "height": null,
            "min_height": null,
            "padding": null,
            "grid_auto_rows": null,
            "grid_gap": null,
            "max_width": null,
            "order": null,
            "_view_module_version": "1.2.0",
            "grid_template_areas": null,
            "object_position": null,
            "object_fit": null,
            "grid_auto_columns": null,
            "margin": null,
            "display": null,
            "left": null
          }
        },
        "ec0d1c184b64468d8bcfc9b0487e0362": {
          "model_module": "@jupyter-widgets/output",
          "model_name": "OutputModel",
          "state": {
            "_view_name": "OutputView",
            "msg_id": "",
            "_dom_classes": [],
            "_model_name": "OutputModel",
            "outputs": [
              {
                "output_type": "stream",
                "metadata": {
                  "tags": []
                },
                "text": "ok done\n",
                "stream": "stdout"
              }
            ],
            "_view_module": "@jupyter-widgets/output",
            "_model_module_version": "1.0.0",
            "_view_count": null,
            "_view_module_version": "1.0.0",
            "layout": "IPY_MODEL_4b558ff653eb451c88d0524f8f5517d4",
            "_model_module": "@jupyter-widgets/output"
          }
        },
        "e5e0e73385414f33adf52af6f161cbaf": {
          "model_module": "@jupyter-widgets/controls",
          "model_name": "FloatProgressModel",
          "state": {
            "_view_name": "ProgressView",
            "style": "IPY_MODEL_5610b9beb1744258a2e31539320af92c",
            "_dom_classes": [],
            "description": "",
            "_model_name": "FloatProgressModel",
            "bar_style": "",
            "max": 100,
            "_view_module": "@jupyter-widgets/controls",
            "_model_module_version": "1.5.0",
            "value": 100,
            "_view_count": null,
            "_view_module_version": "1.5.0",
            "orientation": "horizontal",
            "min": 0,
            "description_tooltip": null,
            "_model_module": "@jupyter-widgets/controls",
            "layout": "IPY_MODEL_3378252facdf4d2592c2ec6ebefde9dd"
          }
        },
        "5610b9beb1744258a2e31539320af92c": {
          "model_module": "@jupyter-widgets/controls",
          "model_name": "ProgressStyleModel",
          "state": {
            "_view_name": "StyleView",
            "_model_name": "ProgressStyleModel",
            "description_width": "",
            "_view_module": "@jupyter-widgets/base",
            "_model_module_version": "1.5.0",
            "_view_count": null,
            "_view_module_version": "1.2.0",
            "bar_color": null,
            "_model_module": "@jupyter-widgets/controls"
          }
        },
        "3378252facdf4d2592c2ec6ebefde9dd": {
          "model_module": "@jupyter-widgets/base",
          "model_name": "LayoutModel",
          "state": {
            "_view_name": "LayoutView",
            "grid_template_rows": null,
            "right": null,
            "justify_content": null,
            "_view_module": "@jupyter-widgets/base",
            "overflow": null,
            "_model_module_version": "1.2.0",
            "_view_count": null,
            "flex_flow": null,
            "width": null,
            "min_width": null,
            "border": null,
            "align_items": null,
            "bottom": null,
            "_model_module": "@jupyter-widgets/base",
            "top": null,
            "grid_column": null,
            "overflow_y": null,
            "overflow_x": null,
            "grid_auto_flow": null,
            "grid_area": null,
            "grid_template_columns": null,
            "flex": null,
            "_model_name": "LayoutModel",
            "justify_items": null,
            "grid_row": null,
            "max_height": null,
            "align_content": null,
            "visibility": null,
            "align_self": null,
            "height": null,
            "min_height": null,
            "padding": null,
            "grid_auto_rows": null,
            "grid_gap": null,
            "max_width": null,
            "order": null,
            "_view_module_version": "1.2.0",
            "grid_template_areas": null,
            "object_position": null,
            "object_fit": null,
            "grid_auto_columns": null,
            "margin": null,
            "display": null,
            "left": null
          }
        },
        "4b558ff653eb451c88d0524f8f5517d4": {
          "model_module": "@jupyter-widgets/base",
          "model_name": "LayoutModel",
          "state": {
            "_view_name": "LayoutView",
            "grid_template_rows": null,
            "right": null,
            "justify_content": null,
            "_view_module": "@jupyter-widgets/base",
            "overflow": null,
            "_model_module_version": "1.2.0",
            "_view_count": null,
            "flex_flow": null,
            "width": null,
            "min_width": null,
            "border": null,
            "align_items": null,
            "bottom": null,
            "_model_module": "@jupyter-widgets/base",
            "top": null,
            "grid_column": null,
            "overflow_y": null,
            "overflow_x": null,
            "grid_auto_flow": null,
            "grid_area": null,
            "grid_template_columns": null,
            "flex": null,
            "_model_name": "LayoutModel",
            "justify_items": null,
            "grid_row": null,
            "max_height": null,
            "align_content": null,
            "visibility": null,
            "align_self": null,
            "height": null,
            "min_height": null,
            "padding": null,
            "grid_auto_rows": null,
            "grid_gap": null,
            "max_width": null,
            "order": null,
            "_view_module_version": "1.2.0",
            "grid_template_areas": null,
            "object_position": null,
            "object_fit": null,
            "grid_auto_columns": null,
            "margin": null,
            "display": null,
            "left": null
          }
        },
        "a80c60373b914fd0bf985519e812ccb3": {
          "model_module": "@jupyter-widgets/controls",
          "model_name": "VBoxModel",
          "state": {
            "_view_name": "VBoxView",
            "_dom_classes": [],
            "_model_name": "VBoxModel",
            "_view_module": "@jupyter-widgets/controls",
            "_model_module_version": "1.5.0",
            "_view_count": null,
            "_view_module_version": "1.5.0",
            "box_style": "",
            "layout": "IPY_MODEL_b12c08ece2df4dda8c79cbc7ecb267ce",
            "_model_module": "@jupyter-widgets/controls",
            "children": [
              "IPY_MODEL_118fdd477d4b45ac9f9edf8f2c6db157",
              "IPY_MODEL_02ce6d08fae142f190958a3155fd9b2c"
            ]
          }
        },
        "b12c08ece2df4dda8c79cbc7ecb267ce": {
          "model_module": "@jupyter-widgets/base",
          "model_name": "LayoutModel",
          "state": {
            "_view_name": "LayoutView",
            "grid_template_rows": null,
            "right": null,
            "justify_content": null,
            "_view_module": "@jupyter-widgets/base",
            "overflow": null,
            "_model_module_version": "1.2.0",
            "_view_count": null,
            "flex_flow": null,
            "width": null,
            "min_width": null,
            "border": null,
            "align_items": null,
            "bottom": null,
            "_model_module": "@jupyter-widgets/base",
            "top": null,
            "grid_column": null,
            "overflow_y": null,
            "overflow_x": null,
            "grid_auto_flow": null,
            "grid_area": null,
            "grid_template_columns": null,
            "flex": null,
            "_model_name": "LayoutModel",
            "justify_items": null,
            "grid_row": null,
            "max_height": null,
            "align_content": null,
            "visibility": null,
            "align_self": null,
            "height": null,
            "min_height": null,
            "padding": null,
            "grid_auto_rows": null,
            "grid_gap": null,
            "max_width": null,
            "order": null,
            "_view_module_version": "1.2.0",
            "grid_template_areas": null,
            "object_position": null,
            "object_fit": null,
            "grid_auto_columns": null,
            "margin": null,
            "display": null,
            "left": null
          }
        },
        "118fdd477d4b45ac9f9edf8f2c6db157": {
          "model_module": "@jupyter-widgets/controls",
          "model_name": "VBoxModel",
          "state": {
            "_view_name": "VBoxView",
            "_dom_classes": [],
            "_model_name": "VBoxModel",
            "_view_module": "@jupyter-widgets/controls",
            "_model_module_version": "1.5.0",
            "_view_count": null,
            "_view_module_version": "1.5.0",
            "box_style": "",
            "layout": "IPY_MODEL_0a007aa2e77e47a5bb399f31192d98f2",
            "_model_module": "@jupyter-widgets/controls",
            "children": [
              "IPY_MODEL_7823a1efe4bf41cda779a87b63177ce8",
              "IPY_MODEL_e1ce6601bfab4c2d8518b3851aaacfd8",
              "IPY_MODEL_307423b7999f4b19a208a0066a742ef0"
            ]
          }
        },
        "02ce6d08fae142f190958a3155fd9b2c": {
          "model_module": "@jupyter-widgets/controls",
          "model_name": "HBoxModel",
          "state": {
            "_view_name": "HBoxView",
            "_dom_classes": [],
            "_model_name": "HBoxModel",
            "_view_module": "@jupyter-widgets/controls",
            "_model_module_version": "1.5.0",
            "_view_count": null,
            "_view_module_version": "1.5.0",
            "box_style": "",
            "layout": "IPY_MODEL_def85c9358164ef7a8e40a00fa46f3de",
            "_model_module": "@jupyter-widgets/controls",
            "children": [
              "IPY_MODEL_06c8db5e0dc64be1b05359c7d535fe96",
              "IPY_MODEL_a0419fabfb2c4efeb7cf2e83e080ad3f"
            ]
          }
        },
        "0a007aa2e77e47a5bb399f31192d98f2": {
          "model_module": "@jupyter-widgets/base",
          "model_name": "LayoutModel",
          "state": {
            "_view_name": "LayoutView",
            "grid_template_rows": null,
            "right": null,
            "justify_content": null,
            "_view_module": "@jupyter-widgets/base",
            "overflow": null,
            "_model_module_version": "1.2.0",
            "_view_count": null,
            "flex_flow": null,
            "width": null,
            "min_width": null,
            "border": null,
            "align_items": null,
            "bottom": null,
            "_model_module": "@jupyter-widgets/base",
            "top": null,
            "grid_column": null,
            "overflow_y": null,
            "overflow_x": null,
            "grid_auto_flow": null,
            "grid_area": null,
            "grid_template_columns": null,
            "flex": null,
            "_model_name": "LayoutModel",
            "justify_items": null,
            "grid_row": null,
            "max_height": null,
            "align_content": null,
            "visibility": null,
            "align_self": null,
            "height": null,
            "min_height": null,
            "padding": null,
            "grid_auto_rows": null,
            "grid_gap": null,
            "max_width": null,
            "order": null,
            "_view_module_version": "1.2.0",
            "grid_template_areas": null,
            "object_position": null,
            "object_fit": null,
            "grid_auto_columns": null,
            "margin": null,
            "display": null,
            "left": null
          }
        },
        "7823a1efe4bf41cda779a87b63177ce8": {
          "model_module": "@jupyter-widgets/controls",
          "model_name": "DropdownModel",
          "state": {
            "_options_labels": [
              "POOL_SIZE",
              "FUSION"
            ],
            "_view_name": "DropdownView",
            "style": "IPY_MODEL_f55b5a2b8afd4645963aa783f76b786b",
            "_dom_classes": [],
            "description": "group",
            "_model_name": "DropdownModel",
            "index": 0,
            "_view_module": "@jupyter-widgets/controls",
            "_model_module_version": "1.5.0",
            "_view_count": null,
            "disabled": false,
            "_view_module_version": "1.5.0",
            "description_tooltip": null,
            "_model_module": "@jupyter-widgets/controls",
            "layout": "IPY_MODEL_52dae35726184d31b5594c7244521208"
          }
        },
        "e1ce6601bfab4c2d8518b3851aaacfd8": {
          "model_module": "@jupyter-widgets/controls",
          "model_name": "DropdownModel",
          "state": {
            "_options_labels": [
              "None",
              "POOL_SIZE",
              "FUSION"
            ],
            "_view_name": "DropdownView",
            "style": "IPY_MODEL_fabf598d1e0546f6b0617519cd5a3c53",
            "_dom_classes": [],
            "description": "color",
            "_model_name": "DropdownModel",
            "index": 2,
            "_view_module": "@jupyter-widgets/controls",
            "_model_module_version": "1.5.0",
            "_view_count": null,
            "disabled": false,
            "_view_module_version": "1.5.0",
            "description_tooltip": null,
            "_model_module": "@jupyter-widgets/controls",
            "layout": "IPY_MODEL_d259f9cbc96e43d995f8698caf1e7abd"
          }
        },
        "307423b7999f4b19a208a0066a742ef0": {
          "model_module": "@jupyter-widgets/controls",
          "model_name": "DropdownModel",
          "state": {
            "_options_labels": [
              "MaxLen",
              "LongestChain"
            ],
            "_view_name": "DropdownView",
            "style": "IPY_MODEL_63d6d18229014ae88031506221abe719",
            "_dom_classes": [],
            "description": "stat",
            "_model_name": "DropdownModel",
            "index": 1,
            "_view_module": "@jupyter-widgets/controls",
            "_model_module_version": "1.5.0",
            "_view_count": null,
            "disabled": false,
            "_view_module_version": "1.5.0",
            "description_tooltip": null,
            "_model_module": "@jupyter-widgets/controls",
            "layout": "IPY_MODEL_4be17a31b6e34206a37475c9efe33d8b"
          }
        },
        "def85c9358164ef7a8e40a00fa46f3de": {
          "model_module": "@jupyter-widgets/base",
          "model_name": "LayoutModel",
          "state": {
            "_view_name": "LayoutView",
            "grid_template_rows": null,
            "right": null,
            "justify_content": null,
            "_view_module": "@jupyter-widgets/base",
            "overflow": null,
            "_model_module_version": "1.2.0",
            "_view_count": null,
            "flex_flow": null,
            "width": null,
            "min_width": null,
            "border": null,
            "align_items": null,
            "bottom": null,
            "_model_module": "@jupyter-widgets/base",
            "top": null,
            "grid_column": null,
            "overflow_y": null,
            "overflow_x": null,
            "grid_auto_flow": null,
            "grid_area": null,
            "grid_template_columns": null,
            "flex": null,
            "_model_name": "LayoutModel",
            "justify_items": null,
            "grid_row": null,
            "max_height": null,
            "align_content": null,
            "visibility": null,
            "align_self": null,
            "height": null,
            "min_height": null,
            "padding": null,
            "grid_auto_rows": null,
            "grid_gap": null,
            "max_width": null,
            "order": null,
            "_view_module_version": "1.2.0",
            "grid_template_areas": null,
            "object_position": null,
            "object_fit": null,
            "grid_auto_columns": null,
            "margin": null,
            "display": null,
            "left": null
          }
        },
        "06c8db5e0dc64be1b05359c7d535fe96": {
          "model_module": "@jupyter-widgets/controls",
          "model_name": "ButtonModel",
          "state": {
            "_view_name": "ButtonView",
            "style": "IPY_MODEL_3667ee5c063f4a05a46e42bd776dbf89",
            "_dom_classes": [],
            "description": "plot",
            "_model_name": "ButtonModel",
            "button_style": "",
            "_view_module": "@jupyter-widgets/controls",
            "_model_module_version": "1.5.0",
            "tooltip": "",
            "_view_count": null,
            "disabled": false,
            "_view_module_version": "1.5.0",
            "layout": "IPY_MODEL_89329a32422646f9a5f69651fb55b5d8",
            "_model_module": "@jupyter-widgets/controls",
            "icon": ""
          }
        },
        "a0419fabfb2c4efeb7cf2e83e080ad3f": {
          "model_module": "@jupyter-widgets/controls",
          "model_name": "ButtonModel",
          "state": {
            "_view_name": "ButtonView",
            "style": "IPY_MODEL_00fb990381c240fa9e97a4ca46542311",
            "_dom_classes": [],
            "description": "clear output",
            "_model_name": "ButtonModel",
            "button_style": "",
            "_view_module": "@jupyter-widgets/controls",
            "_model_module_version": "1.5.0",
            "tooltip": "",
            "_view_count": null,
            "disabled": false,
            "_view_module_version": "1.5.0",
            "layout": "IPY_MODEL_12b1858ad4014a059dd9bf0ac36d5519",
            "_model_module": "@jupyter-widgets/controls",
            "icon": ""
          }
        },
        "f55b5a2b8afd4645963aa783f76b786b": {
          "model_module": "@jupyter-widgets/controls",
          "model_name": "DescriptionStyleModel",
          "state": {
            "_view_name": "StyleView",
            "_model_name": "DescriptionStyleModel",
            "description_width": "",
            "_view_module": "@jupyter-widgets/base",
            "_model_module_version": "1.5.0",
            "_view_count": null,
            "_view_module_version": "1.2.0",
            "_model_module": "@jupyter-widgets/controls"
          }
        },
        "52dae35726184d31b5594c7244521208": {
          "model_module": "@jupyter-widgets/base",
          "model_name": "LayoutModel",
          "state": {
            "_view_name": "LayoutView",
            "grid_template_rows": null,
            "right": null,
            "justify_content": null,
            "_view_module": "@jupyter-widgets/base",
            "overflow": null,
            "_model_module_version": "1.2.0",
            "_view_count": null,
            "flex_flow": null,
            "width": null,
            "min_width": null,
            "border": null,
            "align_items": null,
            "bottom": null,
            "_model_module": "@jupyter-widgets/base",
            "top": null,
            "grid_column": null,
            "overflow_y": null,
            "overflow_x": null,
            "grid_auto_flow": null,
            "grid_area": null,
            "grid_template_columns": null,
            "flex": null,
            "_model_name": "LayoutModel",
            "justify_items": null,
            "grid_row": null,
            "max_height": null,
            "align_content": null,
            "visibility": null,
            "align_self": null,
            "height": null,
            "min_height": null,
            "padding": null,
            "grid_auto_rows": null,
            "grid_gap": null,
            "max_width": null,
            "order": null,
            "_view_module_version": "1.2.0",
            "grid_template_areas": null,
            "object_position": null,
            "object_fit": null,
            "grid_auto_columns": null,
            "margin": null,
            "display": null,
            "left": null
          }
        },
        "fabf598d1e0546f6b0617519cd5a3c53": {
          "model_module": "@jupyter-widgets/controls",
          "model_name": "DescriptionStyleModel",
          "state": {
            "_view_name": "StyleView",
            "_model_name": "DescriptionStyleModel",
            "description_width": "",
            "_view_module": "@jupyter-widgets/base",
            "_model_module_version": "1.5.0",
            "_view_count": null,
            "_view_module_version": "1.2.0",
            "_model_module": "@jupyter-widgets/controls"
          }
        },
        "d259f9cbc96e43d995f8698caf1e7abd": {
          "model_module": "@jupyter-widgets/base",
          "model_name": "LayoutModel",
          "state": {
            "_view_name": "LayoutView",
            "grid_template_rows": null,
            "right": null,
            "justify_content": null,
            "_view_module": "@jupyter-widgets/base",
            "overflow": null,
            "_model_module_version": "1.2.0",
            "_view_count": null,
            "flex_flow": null,
            "width": null,
            "min_width": null,
            "border": null,
            "align_items": null,
            "bottom": null,
            "_model_module": "@jupyter-widgets/base",
            "top": null,
            "grid_column": null,
            "overflow_y": null,
            "overflow_x": null,
            "grid_auto_flow": null,
            "grid_area": null,
            "grid_template_columns": null,
            "flex": null,
            "_model_name": "LayoutModel",
            "justify_items": null,
            "grid_row": null,
            "max_height": null,
            "align_content": null,
            "visibility": null,
            "align_self": null,
            "height": null,
            "min_height": null,
            "padding": null,
            "grid_auto_rows": null,
            "grid_gap": null,
            "max_width": null,
            "order": null,
            "_view_module_version": "1.2.0",
            "grid_template_areas": null,
            "object_position": null,
            "object_fit": null,
            "grid_auto_columns": null,
            "margin": null,
            "display": null,
            "left": null
          }
        },
        "63d6d18229014ae88031506221abe719": {
          "model_module": "@jupyter-widgets/controls",
          "model_name": "DescriptionStyleModel",
          "state": {
            "_view_name": "StyleView",
            "_model_name": "DescriptionStyleModel",
            "description_width": "",
            "_view_module": "@jupyter-widgets/base",
            "_model_module_version": "1.5.0",
            "_view_count": null,
            "_view_module_version": "1.2.0",
            "_model_module": "@jupyter-widgets/controls"
          }
        },
        "4be17a31b6e34206a37475c9efe33d8b": {
          "model_module": "@jupyter-widgets/base",
          "model_name": "LayoutModel",
          "state": {
            "_view_name": "LayoutView",
            "grid_template_rows": null,
            "right": null,
            "justify_content": null,
            "_view_module": "@jupyter-widgets/base",
            "overflow": null,
            "_model_module_version": "1.2.0",
            "_view_count": null,
            "flex_flow": null,
            "width": null,
            "min_width": null,
            "border": null,
            "align_items": null,
            "bottom": null,
            "_model_module": "@jupyter-widgets/base",
            "top": null,
            "grid_column": null,
            "overflow_y": null,
            "overflow_x": null,
            "grid_auto_flow": null,
            "grid_area": null,
            "grid_template_columns": null,
            "flex": null,
            "_model_name": "LayoutModel",
            "justify_items": null,
            "grid_row": null,
            "max_height": null,
            "align_content": null,
            "visibility": null,
            "align_self": null,
            "height": null,
            "min_height": null,
            "padding": null,
            "grid_auto_rows": null,
            "grid_gap": null,
            "max_width": null,
            "order": null,
            "_view_module_version": "1.2.0",
            "grid_template_areas": null,
            "object_position": null,
            "object_fit": null,
            "grid_auto_columns": null,
            "margin": null,
            "display": null,
            "left": null
          }
        },
        "3667ee5c063f4a05a46e42bd776dbf89": {
          "model_module": "@jupyter-widgets/controls",
          "model_name": "ButtonStyleModel",
          "state": {
            "_view_name": "StyleView",
            "_model_name": "ButtonStyleModel",
            "_view_module": "@jupyter-widgets/base",
            "_model_module_version": "1.5.0",
            "_view_count": null,
            "button_color": null,
            "font_weight": "",
            "_view_module_version": "1.2.0",
            "_model_module": "@jupyter-widgets/controls"
          }
        },
        "89329a32422646f9a5f69651fb55b5d8": {
          "model_module": "@jupyter-widgets/base",
          "model_name": "LayoutModel",
          "state": {
            "_view_name": "LayoutView",
            "grid_template_rows": null,
            "right": null,
            "justify_content": null,
            "_view_module": "@jupyter-widgets/base",
            "overflow": null,
            "_model_module_version": "1.2.0",
            "_view_count": null,
            "flex_flow": null,
            "width": null,
            "min_width": null,
            "border": null,
            "align_items": null,
            "bottom": null,
            "_model_module": "@jupyter-widgets/base",
            "top": null,
            "grid_column": null,
            "overflow_y": null,
            "overflow_x": null,
            "grid_auto_flow": null,
            "grid_area": null,
            "grid_template_columns": null,
            "flex": null,
            "_model_name": "LayoutModel",
            "justify_items": null,
            "grid_row": null,
            "max_height": null,
            "align_content": null,
            "visibility": null,
            "align_self": null,
            "height": null,
            "min_height": null,
            "padding": null,
            "grid_auto_rows": null,
            "grid_gap": null,
            "max_width": null,
            "order": null,
            "_view_module_version": "1.2.0",
            "grid_template_areas": null,
            "object_position": null,
            "object_fit": null,
            "grid_auto_columns": null,
            "margin": null,
            "display": null,
            "left": null
          }
        },
        "00fb990381c240fa9e97a4ca46542311": {
          "model_module": "@jupyter-widgets/controls",
          "model_name": "ButtonStyleModel",
          "state": {
            "_view_name": "StyleView",
            "_model_name": "ButtonStyleModel",
            "_view_module": "@jupyter-widgets/base",
            "_model_module_version": "1.5.0",
            "_view_count": null,
            "button_color": null,
            "font_weight": "",
            "_view_module_version": "1.2.0",
            "_model_module": "@jupyter-widgets/controls"
          }
        },
        "12b1858ad4014a059dd9bf0ac36d5519": {
          "model_module": "@jupyter-widgets/base",
          "model_name": "LayoutModel",
          "state": {
            "_view_name": "LayoutView",
            "grid_template_rows": null,
            "right": null,
            "justify_content": null,
            "_view_module": "@jupyter-widgets/base",
            "overflow": null,
            "_model_module_version": "1.2.0",
            "_view_count": null,
            "flex_flow": null,
            "width": null,
            "min_width": null,
            "border": null,
            "align_items": null,
            "bottom": null,
            "_model_module": "@jupyter-widgets/base",
            "top": null,
            "grid_column": null,
            "overflow_y": null,
            "overflow_x": null,
            "grid_auto_flow": null,
            "grid_area": null,
            "grid_template_columns": null,
            "flex": null,
            "_model_name": "LayoutModel",
            "justify_items": null,
            "grid_row": null,
            "max_height": null,
            "align_content": null,
            "visibility": null,
            "align_self": null,
            "height": null,
            "min_height": null,
            "padding": null,
            "grid_auto_rows": null,
            "grid_gap": null,
            "max_width": null,
            "order": null,
            "_view_module_version": "1.2.0",
            "grid_template_areas": null,
            "object_position": null,
            "object_fit": null,
            "grid_auto_columns": null,
            "margin": null,
            "display": null,
            "left": null
          }
        },
        "f2e536d5db6a4e0f84231ca9109400a3": {
          "model_module": "@jupyter-widgets/controls",
          "model_name": "VBoxModel",
          "state": {
            "_view_name": "VBoxView",
            "_dom_classes": [],
            "_model_name": "VBoxModel",
            "_view_module": "@jupyter-widgets/controls",
            "_model_module_version": "1.5.0",
            "_view_count": null,
            "_view_module_version": "1.5.0",
            "box_style": "",
            "layout": "IPY_MODEL_405e85e3d5fb4671a58caacbd1b39bff",
            "_model_module": "@jupyter-widgets/controls",
            "children": [
              "IPY_MODEL_48f98d490d434b3c9f432491069f2200",
              "IPY_MODEL_33aed49a01e84cd7a92d2cfabb5853ab"
            ]
          }
        },
        "405e85e3d5fb4671a58caacbd1b39bff": {
          "model_module": "@jupyter-widgets/base",
          "model_name": "LayoutModel",
          "state": {
            "_view_name": "LayoutView",
            "grid_template_rows": null,
            "right": null,
            "justify_content": null,
            "_view_module": "@jupyter-widgets/base",
            "overflow": null,
            "_model_module_version": "1.2.0",
            "_view_count": null,
            "flex_flow": null,
            "width": null,
            "min_width": null,
            "border": null,
            "align_items": null,
            "bottom": null,
            "_model_module": "@jupyter-widgets/base",
            "top": null,
            "grid_column": null,
            "overflow_y": null,
            "overflow_x": null,
            "grid_auto_flow": null,
            "grid_area": null,
            "grid_template_columns": null,
            "flex": null,
            "_model_name": "LayoutModel",
            "justify_items": null,
            "grid_row": null,
            "max_height": null,
            "align_content": null,
            "visibility": null,
            "align_self": null,
            "height": null,
            "min_height": null,
            "padding": null,
            "grid_auto_rows": null,
            "grid_gap": null,
            "max_width": null,
            "order": null,
            "_view_module_version": "1.2.0",
            "grid_template_areas": null,
            "object_position": null,
            "object_fit": null,
            "grid_auto_columns": null,
            "margin": null,
            "display": null,
            "left": null
          }
        },
        "48f98d490d434b3c9f432491069f2200": {
          "model_module": "@jupyter-widgets/controls",
          "model_name": "HBoxModel",
          "state": {
            "_view_name": "HBoxView",
            "_dom_classes": [],
            "_model_name": "HBoxModel",
            "_view_module": "@jupyter-widgets/controls",
            "_model_module_version": "1.5.0",
            "_view_count": null,
            "_view_module_version": "1.5.0",
            "box_style": "",
            "layout": "IPY_MODEL_8b7c1d53d75a4b2badc8ebc99a037469",
            "_model_module": "@jupyter-widgets/controls",
            "children": [
              "IPY_MODEL_a9db0f5e6f2b4310adc11bfa66e327f5",
              "IPY_MODEL_b140af70ff6f47cab19d05625711ec8f"
            ]
          }
        },
        "33aed49a01e84cd7a92d2cfabb5853ab": {
          "model_module": "@jupyter-widgets/controls",
          "model_name": "HBoxModel",
          "state": {
            "_view_name": "HBoxView",
            "_dom_classes": [],
            "_model_name": "HBoxModel",
            "_view_module": "@jupyter-widgets/controls",
            "_model_module_version": "1.5.0",
            "_view_count": null,
            "_view_module_version": "1.5.0",
            "box_style": "",
            "layout": "IPY_MODEL_897939ffaa2b4c2b821ed9ce291ef7af",
            "_model_module": "@jupyter-widgets/controls",
            "children": [
              "IPY_MODEL_747a0832c4b64386acde1dbae3d28a07",
              "IPY_MODEL_4b9f775f202743d3baa1792cfcd90eb7"
            ]
          }
        },
        "8b7c1d53d75a4b2badc8ebc99a037469": {
          "model_module": "@jupyter-widgets/base",
          "model_name": "LayoutModel",
          "state": {
            "_view_name": "LayoutView",
            "grid_template_rows": null,
            "right": null,
            "justify_content": null,
            "_view_module": "@jupyter-widgets/base",
            "overflow": null,
            "_model_module_version": "1.2.0",
            "_view_count": null,
            "flex_flow": null,
            "width": null,
            "min_width": null,
            "border": null,
            "align_items": null,
            "bottom": null,
            "_model_module": "@jupyter-widgets/base",
            "top": null,
            "grid_column": null,
            "overflow_y": null,
            "overflow_x": null,
            "grid_auto_flow": null,
            "grid_area": null,
            "grid_template_columns": null,
            "flex": null,
            "_model_name": "LayoutModel",
            "justify_items": null,
            "grid_row": null,
            "max_height": null,
            "align_content": null,
            "visibility": null,
            "align_self": null,
            "height": null,
            "min_height": null,
            "padding": null,
            "grid_auto_rows": null,
            "grid_gap": null,
            "max_width": null,
            "order": null,
            "_view_module_version": "1.2.0",
            "grid_template_areas": null,
            "object_position": null,
            "object_fit": null,
            "grid_auto_columns": null,
            "margin": null,
            "display": null,
            "left": null
          }
        },
        "a9db0f5e6f2b4310adc11bfa66e327f5": {
          "model_module": "@jupyter-widgets/controls",
          "model_name": "VBoxModel",
          "state": {
            "_view_name": "VBoxView",
            "_dom_classes": [],
            "_model_name": "VBoxModel",
            "_view_module": "@jupyter-widgets/controls",
            "_model_module_version": "1.5.0",
            "_view_count": null,
            "_view_module_version": "1.5.0",
            "box_style": "",
            "layout": "IPY_MODEL_b6683c4a74a048519624c8d97089ec37",
            "_model_module": "@jupyter-widgets/controls",
            "children": [
              "IPY_MODEL_eca811cfbb9a4e2e8fdc9a7bcab38383",
              "IPY_MODEL_c5c77a4dc8b844f5bb5caa2d5da9bd81"
            ]
          }
        },
        "b140af70ff6f47cab19d05625711ec8f": {
          "model_module": "@jupyter-widgets/controls",
          "model_name": "SelectModel",
          "state": {
            "_options_labels": [
              "batch1_2020-08-03_20:22:20.581248",
              "batch1_2020-08-03_20:22:21.062224",
              "batch1_2020-08-03_20:22:21.584753",
              "batch1_2020-08-03_20:22:25.346513",
              "batch1_2020-08-03_20:22:26.095085",
              "batch1_2020-08-03_20:22:26.639593",
              "batch1_2020-08-03_20:22:30.054952",
              "batch1_2020-08-03_20:22:30.557435",
              "batch1_2020-08-03_20:22:31.104898"
            ],
            "_view_name": "SelectView",
            "style": "IPY_MODEL_5dfd2639f6cc4655ab07251969bc809a",
            "rows": 5,
            "_dom_classes": [],
            "description": "Select file:",
            "_model_name": "SelectModel",
            "index": 0,
            "_view_module": "@jupyter-widgets/controls",
            "_model_module_version": "1.5.0",
            "_view_count": null,
            "disabled": false,
            "_view_module_version": "1.5.0",
            "description_tooltip": null,
            "_model_module": "@jupyter-widgets/controls",
            "layout": "IPY_MODEL_f086e7e2c35143119da8ff8536e645b7"
          }
        },
        "897939ffaa2b4c2b821ed9ce291ef7af": {
          "model_module": "@jupyter-widgets/base",
          "model_name": "LayoutModel",
          "state": {
            "_view_name": "LayoutView",
            "grid_template_rows": null,
            "right": null,
            "justify_content": null,
            "_view_module": "@jupyter-widgets/base",
            "overflow": null,
            "_model_module_version": "1.2.0",
            "_view_count": null,
            "flex_flow": null,
            "width": null,
            "min_width": null,
            "border": null,
            "align_items": null,
            "bottom": null,
            "_model_module": "@jupyter-widgets/base",
            "top": null,
            "grid_column": null,
            "overflow_y": null,
            "overflow_x": null,
            "grid_auto_flow": null,
            "grid_area": null,
            "grid_template_columns": null,
            "flex": null,
            "_model_name": "LayoutModel",
            "justify_items": null,
            "grid_row": null,
            "max_height": null,
            "align_content": null,
            "visibility": null,
            "align_self": null,
            "height": null,
            "min_height": null,
            "padding": null,
            "grid_auto_rows": null,
            "grid_gap": null,
            "max_width": null,
            "order": null,
            "_view_module_version": "1.2.0",
            "grid_template_areas": null,
            "object_position": null,
            "object_fit": null,
            "grid_auto_columns": null,
            "margin": null,
            "display": null,
            "left": null
          }
        },
        "747a0832c4b64386acde1dbae3d28a07": {
          "model_module": "@jupyter-widgets/controls",
          "model_name": "ButtonModel",
          "state": {
            "_view_name": "ButtonView",
            "style": "IPY_MODEL_caef73107b934c10be157ccf281da214",
            "_dom_classes": [],
            "description": "Update file list",
            "_model_name": "ButtonModel",
            "button_style": "",
            "_view_module": "@jupyter-widgets/controls",
            "_model_module_version": "1.5.0",
            "tooltip": "",
            "_view_count": null,
            "disabled": false,
            "_view_module_version": "1.5.0",
            "layout": "IPY_MODEL_03234ed1895248e9b6f0459330e52294",
            "_model_module": "@jupyter-widgets/controls",
            "icon": ""
          }
        },
        "4b9f775f202743d3baa1792cfcd90eb7": {
          "model_module": "@jupyter-widgets/controls",
          "model_name": "ButtonModel",
          "state": {
            "_view_name": "ButtonView",
            "style": "IPY_MODEL_12980bf105f54ff8a7cddd6f8141ba25",
            "_dom_classes": [],
            "description": "Plot this run",
            "_model_name": "ButtonModel",
            "button_style": "",
            "_view_module": "@jupyter-widgets/controls",
            "_model_module_version": "1.5.0",
            "tooltip": "",
            "_view_count": null,
            "disabled": false,
            "_view_module_version": "1.5.0",
            "layout": "IPY_MODEL_71e99653240c4376a25697541bce4624",
            "_model_module": "@jupyter-widgets/controls",
            "icon": ""
          }
        },
        "b6683c4a74a048519624c8d97089ec37": {
          "model_module": "@jupyter-widgets/base",
          "model_name": "LayoutModel",
          "state": {
            "_view_name": "LayoutView",
            "grid_template_rows": null,
            "right": null,
            "justify_content": null,
            "_view_module": "@jupyter-widgets/base",
            "overflow": null,
            "_model_module_version": "1.2.0",
            "_view_count": null,
            "flex_flow": null,
            "width": null,
            "min_width": null,
            "border": null,
            "align_items": null,
            "bottom": null,
            "_model_module": "@jupyter-widgets/base",
            "top": null,
            "grid_column": null,
            "overflow_y": null,
            "overflow_x": null,
            "grid_auto_flow": null,
            "grid_area": null,
            "grid_template_columns": null,
            "flex": null,
            "_model_name": "LayoutModel",
            "justify_items": null,
            "grid_row": null,
            "max_height": null,
            "align_content": null,
            "visibility": null,
            "align_self": null,
            "height": null,
            "min_height": null,
            "padding": null,
            "grid_auto_rows": null,
            "grid_gap": null,
            "max_width": null,
            "order": null,
            "_view_module_version": "1.2.0",
            "grid_template_areas": null,
            "object_position": null,
            "object_fit": null,
            "grid_auto_columns": null,
            "margin": null,
            "display": null,
            "left": null
          }
        },
        "eca811cfbb9a4e2e8fdc9a7bcab38383": {
          "model_module": "@jupyter-widgets/controls",
          "model_name": "SelectionSliderModel",
          "state": {
            "_options_labels": [
              "10",
              "160",
              "235",
              "310",
              "385",
              "460",
              "535",
              "610",
              "685",
              "760",
              "835",
              "85",
              "910",
              "985"
            ],
            "_view_name": "SelectionSliderView",
            "style": "IPY_MODEL_c13658cf45bc46888afc0f1b50da43db",
            "_dom_classes": [],
            "description": "POOL_SIZE",
            "_model_name": "SelectionSliderModel",
            "orientation": "horizontal",
            "index": 7,
            "_view_module": "@jupyter-widgets/controls",
            "_model_module_version": "1.5.0",
            "_view_count": null,
            "disabled": false,
            "_view_module_version": "1.5.0",
            "continuous_update": true,
            "description_tooltip": null,
            "readout": true,
            "_model_module": "@jupyter-widgets/controls",
            "layout": "IPY_MODEL_9f1b7f25bdb94809a93f73262985283b"
          }
        },
        "c5c77a4dc8b844f5bb5caa2d5da9bd81": {
          "model_module": "@jupyter-widgets/controls",
          "model_name": "SelectionSliderModel",
          "state": {
            "_options_labels": [
              "False",
              "True"
            ],
            "_view_name": "SelectionSliderView",
            "style": "IPY_MODEL_7954162ee7514f53b30ff4146d6b3533",
            "_dom_classes": [],
            "description": "FUSION",
            "_model_name": "SelectionSliderModel",
            "orientation": "horizontal",
            "index": 1,
            "_view_module": "@jupyter-widgets/controls",
            "_model_module_version": "1.5.0",
            "_view_count": null,
            "disabled": false,
            "_view_module_version": "1.5.0",
            "continuous_update": true,
            "description_tooltip": null,
            "readout": true,
            "_model_module": "@jupyter-widgets/controls",
            "layout": "IPY_MODEL_1261c7d4290440d0a109d4d0e426d6c2"
          }
        },
        "5dfd2639f6cc4655ab07251969bc809a": {
          "model_module": "@jupyter-widgets/controls",
          "model_name": "DescriptionStyleModel",
          "state": {
            "_view_name": "StyleView",
            "_model_name": "DescriptionStyleModel",
            "description_width": "",
            "_view_module": "@jupyter-widgets/base",
            "_model_module_version": "1.5.0",
            "_view_count": null,
            "_view_module_version": "1.2.0",
            "_model_module": "@jupyter-widgets/controls"
          }
        },
        "f086e7e2c35143119da8ff8536e645b7": {
          "model_module": "@jupyter-widgets/base",
          "model_name": "LayoutModel",
          "state": {
            "_view_name": "LayoutView",
            "grid_template_rows": null,
            "right": null,
            "justify_content": null,
            "_view_module": "@jupyter-widgets/base",
            "overflow": null,
            "_model_module_version": "1.2.0",
            "_view_count": null,
            "flex_flow": null,
            "width": null,
            "min_width": null,
            "border": null,
            "align_items": null,
            "bottom": null,
            "_model_module": "@jupyter-widgets/base",
            "top": null,
            "grid_column": null,
            "overflow_y": null,
            "overflow_x": null,
            "grid_auto_flow": null,
            "grid_area": null,
            "grid_template_columns": null,
            "flex": null,
            "_model_name": "LayoutModel",
            "justify_items": null,
            "grid_row": null,
            "max_height": null,
            "align_content": null,
            "visibility": null,
            "align_self": null,
            "height": null,
            "min_height": null,
            "padding": null,
            "grid_auto_rows": null,
            "grid_gap": null,
            "max_width": null,
            "order": null,
            "_view_module_version": "1.2.0",
            "grid_template_areas": null,
            "object_position": null,
            "object_fit": null,
            "grid_auto_columns": null,
            "margin": null,
            "display": null,
            "left": null
          }
        },
        "caef73107b934c10be157ccf281da214": {
          "model_module": "@jupyter-widgets/controls",
          "model_name": "ButtonStyleModel",
          "state": {
            "_view_name": "StyleView",
            "_model_name": "ButtonStyleModel",
            "_view_module": "@jupyter-widgets/base",
            "_model_module_version": "1.5.0",
            "_view_count": null,
            "button_color": null,
            "font_weight": "",
            "_view_module_version": "1.2.0",
            "_model_module": "@jupyter-widgets/controls"
          }
        },
        "03234ed1895248e9b6f0459330e52294": {
          "model_module": "@jupyter-widgets/base",
          "model_name": "LayoutModel",
          "state": {
            "_view_name": "LayoutView",
            "grid_template_rows": null,
            "right": null,
            "justify_content": null,
            "_view_module": "@jupyter-widgets/base",
            "overflow": null,
            "_model_module_version": "1.2.0",
            "_view_count": null,
            "flex_flow": null,
            "width": null,
            "min_width": null,
            "border": null,
            "align_items": null,
            "bottom": null,
            "_model_module": "@jupyter-widgets/base",
            "top": null,
            "grid_column": null,
            "overflow_y": null,
            "overflow_x": null,
            "grid_auto_flow": null,
            "grid_area": null,
            "grid_template_columns": null,
            "flex": null,
            "_model_name": "LayoutModel",
            "justify_items": null,
            "grid_row": null,
            "max_height": null,
            "align_content": null,
            "visibility": null,
            "align_self": null,
            "height": null,
            "min_height": null,
            "padding": null,
            "grid_auto_rows": null,
            "grid_gap": null,
            "max_width": null,
            "order": null,
            "_view_module_version": "1.2.0",
            "grid_template_areas": null,
            "object_position": null,
            "object_fit": null,
            "grid_auto_columns": null,
            "margin": null,
            "display": null,
            "left": null
          }
        },
        "12980bf105f54ff8a7cddd6f8141ba25": {
          "model_module": "@jupyter-widgets/controls",
          "model_name": "ButtonStyleModel",
          "state": {
            "_view_name": "StyleView",
            "_model_name": "ButtonStyleModel",
            "_view_module": "@jupyter-widgets/base",
            "_model_module_version": "1.5.0",
            "_view_count": null,
            "button_color": null,
            "font_weight": "",
            "_view_module_version": "1.2.0",
            "_model_module": "@jupyter-widgets/controls"
          }
        },
        "71e99653240c4376a25697541bce4624": {
          "model_module": "@jupyter-widgets/base",
          "model_name": "LayoutModel",
          "state": {
            "_view_name": "LayoutView",
            "grid_template_rows": null,
            "right": null,
            "justify_content": null,
            "_view_module": "@jupyter-widgets/base",
            "overflow": null,
            "_model_module_version": "1.2.0",
            "_view_count": null,
            "flex_flow": null,
            "width": null,
            "min_width": null,
            "border": null,
            "align_items": null,
            "bottom": null,
            "_model_module": "@jupyter-widgets/base",
            "top": null,
            "grid_column": null,
            "overflow_y": null,
            "overflow_x": null,
            "grid_auto_flow": null,
            "grid_area": null,
            "grid_template_columns": null,
            "flex": null,
            "_model_name": "LayoutModel",
            "justify_items": null,
            "grid_row": null,
            "max_height": null,
            "align_content": null,
            "visibility": null,
            "align_self": null,
            "height": null,
            "min_height": null,
            "padding": null,
            "grid_auto_rows": null,
            "grid_gap": null,
            "max_width": null,
            "order": null,
            "_view_module_version": "1.2.0",
            "grid_template_areas": null,
            "object_position": null,
            "object_fit": null,
            "grid_auto_columns": null,
            "margin": null,
            "display": null,
            "left": null
          }
        },
        "c13658cf45bc46888afc0f1b50da43db": {
          "model_module": "@jupyter-widgets/controls",
          "model_name": "DescriptionStyleModel",
          "state": {
            "_view_name": "StyleView",
            "_model_name": "DescriptionStyleModel",
            "description_width": "",
            "_view_module": "@jupyter-widgets/base",
            "_model_module_version": "1.5.0",
            "_view_count": null,
            "_view_module_version": "1.2.0",
            "_model_module": "@jupyter-widgets/controls"
          }
        },
        "9f1b7f25bdb94809a93f73262985283b": {
          "model_module": "@jupyter-widgets/base",
          "model_name": "LayoutModel",
          "state": {
            "_view_name": "LayoutView",
            "grid_template_rows": null,
            "right": null,
            "justify_content": null,
            "_view_module": "@jupyter-widgets/base",
            "overflow": null,
            "_model_module_version": "1.2.0",
            "_view_count": null,
            "flex_flow": null,
            "width": null,
            "min_width": null,
            "border": null,
            "align_items": null,
            "bottom": null,
            "_model_module": "@jupyter-widgets/base",
            "top": null,
            "grid_column": null,
            "overflow_y": null,
            "overflow_x": null,
            "grid_auto_flow": null,
            "grid_area": null,
            "grid_template_columns": null,
            "flex": null,
            "_model_name": "LayoutModel",
            "justify_items": null,
            "grid_row": null,
            "max_height": null,
            "align_content": null,
            "visibility": null,
            "align_self": null,
            "height": null,
            "min_height": null,
            "padding": null,
            "grid_auto_rows": null,
            "grid_gap": null,
            "max_width": null,
            "order": null,
            "_view_module_version": "1.2.0",
            "grid_template_areas": null,
            "object_position": null,
            "object_fit": null,
            "grid_auto_columns": null,
            "margin": null,
            "display": null,
            "left": null
          }
        },
        "7954162ee7514f53b30ff4146d6b3533": {
          "model_module": "@jupyter-widgets/controls",
          "model_name": "DescriptionStyleModel",
          "state": {
            "_view_name": "StyleView",
            "_model_name": "DescriptionStyleModel",
            "description_width": "",
            "_view_module": "@jupyter-widgets/base",
            "_model_module_version": "1.5.0",
            "_view_count": null,
            "_view_module_version": "1.2.0",
            "_model_module": "@jupyter-widgets/controls"
          }
        },
        "1261c7d4290440d0a109d4d0e426d6c2": {
          "model_module": "@jupyter-widgets/base",
          "model_name": "LayoutModel",
          "state": {
            "_view_name": "LayoutView",
            "grid_template_rows": null,
            "right": null,
            "justify_content": null,
            "_view_module": "@jupyter-widgets/base",
            "overflow": null,
            "_model_module_version": "1.2.0",
            "_view_count": null,
            "flex_flow": null,
            "width": null,
            "min_width": null,
            "border": null,
            "align_items": null,
            "bottom": null,
            "_model_module": "@jupyter-widgets/base",
            "top": null,
            "grid_column": null,
            "overflow_y": null,
            "overflow_x": null,
            "grid_auto_flow": null,
            "grid_area": null,
            "grid_template_columns": null,
            "flex": null,
            "_model_name": "LayoutModel",
            "justify_items": null,
            "grid_row": null,
            "max_height": null,
            "align_content": null,
            "visibility": null,
            "align_self": null,
            "height": null,
            "min_height": null,
            "padding": null,
            "grid_auto_rows": null,
            "grid_gap": null,
            "max_width": null,
            "order": null,
            "_view_module_version": "1.2.0",
            "grid_template_areas": null,
            "object_position": null,
            "object_fit": null,
            "grid_auto_columns": null,
            "margin": null,
            "display": null,
            "left": null
          }
        },
        "a1f0cab313644c50aad6d5f1c3f58d96": {
          "model_module": "@jupyter-widgets/controls",
          "model_name": "VBoxModel",
          "state": {
            "_view_name": "VBoxView",
            "_dom_classes": [],
            "_model_name": "VBoxModel",
            "_view_module": "@jupyter-widgets/controls",
            "_model_module_version": "1.5.0",
            "_view_count": null,
            "_view_module_version": "1.5.0",
            "box_style": "",
            "layout": "IPY_MODEL_70faeed8036f4f158d27cd197f57e7c3",
            "_model_module": "@jupyter-widgets/controls",
            "children": [
              "IPY_MODEL_95296d899f0e4296a5cc516a1ffcd930",
              "IPY_MODEL_938de88cdeeb4b2d9f103f331e6d75f6"
            ]
          }
        },
        "70faeed8036f4f158d27cd197f57e7c3": {
          "model_module": "@jupyter-widgets/base",
          "model_name": "LayoutModel",
          "state": {
            "_view_name": "LayoutView",
            "grid_template_rows": null,
            "right": null,
            "justify_content": null,
            "_view_module": "@jupyter-widgets/base",
            "overflow": null,
            "_model_module_version": "1.2.0",
            "_view_count": null,
            "flex_flow": null,
            "width": null,
            "min_width": null,
            "border": null,
            "align_items": null,
            "bottom": null,
            "_model_module": "@jupyter-widgets/base",
            "top": null,
            "grid_column": null,
            "overflow_y": null,
            "overflow_x": null,
            "grid_auto_flow": null,
            "grid_area": null,
            "grid_template_columns": null,
            "flex": null,
            "_model_name": "LayoutModel",
            "justify_items": null,
            "grid_row": null,
            "max_height": null,
            "align_content": null,
            "visibility": null,
            "align_self": null,
            "height": null,
            "min_height": null,
            "padding": null,
            "grid_auto_rows": null,
            "grid_gap": null,
            "max_width": null,
            "order": null,
            "_view_module_version": "1.2.0",
            "grid_template_areas": null,
            "object_position": null,
            "object_fit": null,
            "grid_auto_columns": null,
            "margin": null,
            "display": null,
            "left": null
          }
        },
        "95296d899f0e4296a5cc516a1ffcd930": {
          "model_module": "@jupyter-widgets/controls",
          "model_name": "HBoxModel",
          "state": {
            "_view_name": "HBoxView",
            "_dom_classes": [],
            "_model_name": "HBoxModel",
            "_view_module": "@jupyter-widgets/controls",
            "_model_module_version": "1.5.0",
            "_view_count": null,
            "_view_module_version": "1.5.0",
            "box_style": "",
            "layout": "IPY_MODEL_fada97dbe6664927a46d67d588b5eafa",
            "_model_module": "@jupyter-widgets/controls",
            "children": [
              "IPY_MODEL_6db19d0ab54a4c259640d11b6c08a41f",
              "IPY_MODEL_22c7fed354c64e8c80368a519b709774"
            ]
          }
        },
        "938de88cdeeb4b2d9f103f331e6d75f6": {
          "model_module": "@jupyter-widgets/controls",
          "model_name": "HBoxModel",
          "state": {
            "_view_name": "HBoxView",
            "_dom_classes": [],
            "_model_name": "HBoxModel",
            "_view_module": "@jupyter-widgets/controls",
            "_model_module_version": "1.5.0",
            "_view_count": null,
            "_view_module_version": "1.5.0",
            "box_style": "",
            "layout": "IPY_MODEL_3790917bcca54b3893e243550e8d02e7",
            "_model_module": "@jupyter-widgets/controls",
            "children": [
              "IPY_MODEL_0af662cdd4b24886870051962b975e84",
              "IPY_MODEL_8b1749d031b04cc98b2fccccc00e57cb"
            ]
          }
        },
        "fada97dbe6664927a46d67d588b5eafa": {
          "model_module": "@jupyter-widgets/base",
          "model_name": "LayoutModel",
          "state": {
            "_view_name": "LayoutView",
            "grid_template_rows": null,
            "right": null,
            "justify_content": null,
            "_view_module": "@jupyter-widgets/base",
            "overflow": null,
            "_model_module_version": "1.2.0",
            "_view_count": null,
            "flex_flow": null,
            "width": null,
            "min_width": null,
            "border": null,
            "align_items": null,
            "bottom": null,
            "_model_module": "@jupyter-widgets/base",
            "top": null,
            "grid_column": null,
            "overflow_y": null,
            "overflow_x": null,
            "grid_auto_flow": null,
            "grid_area": null,
            "grid_template_columns": null,
            "flex": null,
            "_model_name": "LayoutModel",
            "justify_items": null,
            "grid_row": null,
            "max_height": null,
            "align_content": null,
            "visibility": null,
            "align_self": null,
            "height": null,
            "min_height": null,
            "padding": null,
            "grid_auto_rows": null,
            "grid_gap": null,
            "max_width": null,
            "order": null,
            "_view_module_version": "1.2.0",
            "grid_template_areas": null,
            "object_position": null,
            "object_fit": null,
            "grid_auto_columns": null,
            "margin": null,
            "display": null,
            "left": null
          }
        },
        "6db19d0ab54a4c259640d11b6c08a41f": {
          "model_module": "@jupyter-widgets/controls",
          "model_name": "VBoxModel",
          "state": {
            "_view_name": "VBoxView",
            "_dom_classes": [],
            "_model_name": "VBoxModel",
            "_view_module": "@jupyter-widgets/controls",
            "_model_module_version": "1.5.0",
            "_view_count": null,
            "_view_module_version": "1.5.0",
            "box_style": "",
            "layout": "IPY_MODEL_9e920ab41393441d942e9d7a4f99d8bf",
            "_model_module": "@jupyter-widgets/controls",
            "children": [
              "IPY_MODEL_12e49c4e26fd4bf186c480dbcd114a77",
              "IPY_MODEL_bb2d461f18a14ac0978bf380e6b52c0d"
            ]
          }
        },
        "22c7fed354c64e8c80368a519b709774": {
          "model_module": "@jupyter-widgets/controls",
          "model_name": "SelectModel",
          "state": {
            "_options_labels": [
              "batch1_2020-08-03_20:22:53.401209",
              "batch1_2020-08-03_20:22:54.065574",
              "batch1_2020-08-03_20:22:54.758198",
              "batch1_2020-08-03_20:22:59.337630",
              "batch1_2020-08-03_20:23:00.116532",
              "batch1_2020-08-03_20:23:00.793767",
              "batch1_2020-08-03_20:23:05.384795",
              "batch1_2020-08-03_20:23:06.038293",
              "batch1_2020-08-03_20:23:06.789987"
            ],
            "_view_name": "SelectView",
            "style": "IPY_MODEL_046c9a866ca74e3787697d823ab83b98",
            "rows": 5,
            "_dom_classes": [],
            "description": "Select file:",
            "_model_name": "SelectModel",
            "index": 1,
            "_view_module": "@jupyter-widgets/controls",
            "_model_module_version": "1.5.0",
            "_view_count": null,
            "disabled": false,
            "_view_module_version": "1.5.0",
            "description_tooltip": null,
            "_model_module": "@jupyter-widgets/controls",
            "layout": "IPY_MODEL_3c8c7b7784544c2bb75bb978631ca793"
          }
        },
        "3790917bcca54b3893e243550e8d02e7": {
          "model_module": "@jupyter-widgets/base",
          "model_name": "LayoutModel",
          "state": {
            "_view_name": "LayoutView",
            "grid_template_rows": null,
            "right": null,
            "justify_content": null,
            "_view_module": "@jupyter-widgets/base",
            "overflow": null,
            "_model_module_version": "1.2.0",
            "_view_count": null,
            "flex_flow": null,
            "width": null,
            "min_width": null,
            "border": null,
            "align_items": null,
            "bottom": null,
            "_model_module": "@jupyter-widgets/base",
            "top": null,
            "grid_column": null,
            "overflow_y": null,
            "overflow_x": null,
            "grid_auto_flow": null,
            "grid_area": null,
            "grid_template_columns": null,
            "flex": null,
            "_model_name": "LayoutModel",
            "justify_items": null,
            "grid_row": null,
            "max_height": null,
            "align_content": null,
            "visibility": null,
            "align_self": null,
            "height": null,
            "min_height": null,
            "padding": null,
            "grid_auto_rows": null,
            "grid_gap": null,
            "max_width": null,
            "order": null,
            "_view_module_version": "1.2.0",
            "grid_template_areas": null,
            "object_position": null,
            "object_fit": null,
            "grid_auto_columns": null,
            "margin": null,
            "display": null,
            "left": null
          }
        },
        "0af662cdd4b24886870051962b975e84": {
          "model_module": "@jupyter-widgets/controls",
          "model_name": "ButtonModel",
          "state": {
            "_view_name": "ButtonView",
            "style": "IPY_MODEL_f9b5925ff80747e7904d8f1eff6da5ce",
            "_dom_classes": [],
            "description": "Update file list",
            "_model_name": "ButtonModel",
            "button_style": "",
            "_view_module": "@jupyter-widgets/controls",
            "_model_module_version": "1.5.0",
            "tooltip": "",
            "_view_count": null,
            "disabled": false,
            "_view_module_version": "1.5.0",
            "layout": "IPY_MODEL_15a1f00a355b4ad7af0b237b22d11ecd",
            "_model_module": "@jupyter-widgets/controls",
            "icon": ""
          }
        },
        "8b1749d031b04cc98b2fccccc00e57cb": {
          "model_module": "@jupyter-widgets/controls",
          "model_name": "ButtonModel",
          "state": {
            "_view_name": "ButtonView",
            "style": "IPY_MODEL_b24cc72edca140d7be28c1a5845a5c8b",
            "_dom_classes": [],
            "description": "Plot this run",
            "_model_name": "ButtonModel",
            "button_style": "",
            "_view_module": "@jupyter-widgets/controls",
            "_model_module_version": "1.5.0",
            "tooltip": "",
            "_view_count": null,
            "disabled": false,
            "_view_module_version": "1.5.0",
            "layout": "IPY_MODEL_d8042dd8c2ec4f6897481dfccab3308d",
            "_model_module": "@jupyter-widgets/controls",
            "icon": ""
          }
        },
        "9e920ab41393441d942e9d7a4f99d8bf": {
          "model_module": "@jupyter-widgets/base",
          "model_name": "LayoutModel",
          "state": {
            "_view_name": "LayoutView",
            "grid_template_rows": null,
            "right": null,
            "justify_content": null,
            "_view_module": "@jupyter-widgets/base",
            "overflow": null,
            "_model_module_version": "1.2.0",
            "_view_count": null,
            "flex_flow": null,
            "width": null,
            "min_width": null,
            "border": null,
            "align_items": null,
            "bottom": null,
            "_model_module": "@jupyter-widgets/base",
            "top": null,
            "grid_column": null,
            "overflow_y": null,
            "overflow_x": null,
            "grid_auto_flow": null,
            "grid_area": null,
            "grid_template_columns": null,
            "flex": null,
            "_model_name": "LayoutModel",
            "justify_items": null,
            "grid_row": null,
            "max_height": null,
            "align_content": null,
            "visibility": null,
            "align_self": null,
            "height": null,
            "min_height": null,
            "padding": null,
            "grid_auto_rows": null,
            "grid_gap": null,
            "max_width": null,
            "order": null,
            "_view_module_version": "1.2.0",
            "grid_template_areas": null,
            "object_position": null,
            "object_fit": null,
            "grid_auto_columns": null,
            "margin": null,
            "display": null,
            "left": null
          }
        },
        "12e49c4e26fd4bf186c480dbcd114a77": {
          "model_module": "@jupyter-widgets/controls",
          "model_name": "SelectionSliderModel",
          "state": {
            "_options_labels": [
              "10",
              "160",
              "235",
              "310",
              "385",
              "460",
              "535",
              "610",
              "685",
              "760",
              "835",
              "85",
              "910",
              "985"
            ],
            "_view_name": "SelectionSliderView",
            "style": "IPY_MODEL_c334558451d74f4695300d794960e425",
            "_dom_classes": [],
            "description": "POOL_SIZE",
            "_model_name": "SelectionSliderModel",
            "orientation": "horizontal",
            "index": 9,
            "_view_module": "@jupyter-widgets/controls",
            "_model_module_version": "1.5.0",
            "_view_count": null,
            "disabled": false,
            "_view_module_version": "1.5.0",
            "continuous_update": true,
            "description_tooltip": null,
            "readout": true,
            "_model_module": "@jupyter-widgets/controls",
            "layout": "IPY_MODEL_feb4ed9e1dfc4b6ebb289bd097f07c8e"
          }
        },
        "bb2d461f18a14ac0978bf380e6b52c0d": {
          "model_module": "@jupyter-widgets/controls",
          "model_name": "SelectionSliderModel",
          "state": {
            "_options_labels": [
              "False",
              "True"
            ],
            "_view_name": "SelectionSliderView",
            "style": "IPY_MODEL_90d47b21671d46f2a13457d445433dab",
            "_dom_classes": [],
            "description": "FUSION",
            "_model_name": "SelectionSliderModel",
            "orientation": "horizontal",
            "index": 1,
            "_view_module": "@jupyter-widgets/controls",
            "_model_module_version": "1.5.0",
            "_view_count": null,
            "disabled": false,
            "_view_module_version": "1.5.0",
            "continuous_update": true,
            "description_tooltip": null,
            "readout": true,
            "_model_module": "@jupyter-widgets/controls",
            "layout": "IPY_MODEL_ca37b199cfad49d39758519a554f1938"
          }
        },
        "046c9a866ca74e3787697d823ab83b98": {
          "model_module": "@jupyter-widgets/controls",
          "model_name": "DescriptionStyleModel",
          "state": {
            "_view_name": "StyleView",
            "_model_name": "DescriptionStyleModel",
            "description_width": "",
            "_view_module": "@jupyter-widgets/base",
            "_model_module_version": "1.5.0",
            "_view_count": null,
            "_view_module_version": "1.2.0",
            "_model_module": "@jupyter-widgets/controls"
          }
        },
        "3c8c7b7784544c2bb75bb978631ca793": {
          "model_module": "@jupyter-widgets/base",
          "model_name": "LayoutModel",
          "state": {
            "_view_name": "LayoutView",
            "grid_template_rows": null,
            "right": null,
            "justify_content": null,
            "_view_module": "@jupyter-widgets/base",
            "overflow": null,
            "_model_module_version": "1.2.0",
            "_view_count": null,
            "flex_flow": null,
            "width": null,
            "min_width": null,
            "border": null,
            "align_items": null,
            "bottom": null,
            "_model_module": "@jupyter-widgets/base",
            "top": null,
            "grid_column": null,
            "overflow_y": null,
            "overflow_x": null,
            "grid_auto_flow": null,
            "grid_area": null,
            "grid_template_columns": null,
            "flex": null,
            "_model_name": "LayoutModel",
            "justify_items": null,
            "grid_row": null,
            "max_height": null,
            "align_content": null,
            "visibility": null,
            "align_self": null,
            "height": null,
            "min_height": null,
            "padding": null,
            "grid_auto_rows": null,
            "grid_gap": null,
            "max_width": null,
            "order": null,
            "_view_module_version": "1.2.0",
            "grid_template_areas": null,
            "object_position": null,
            "object_fit": null,
            "grid_auto_columns": null,
            "margin": null,
            "display": null,
            "left": null
          }
        },
        "f9b5925ff80747e7904d8f1eff6da5ce": {
          "model_module": "@jupyter-widgets/controls",
          "model_name": "ButtonStyleModel",
          "state": {
            "_view_name": "StyleView",
            "_model_name": "ButtonStyleModel",
            "_view_module": "@jupyter-widgets/base",
            "_model_module_version": "1.5.0",
            "_view_count": null,
            "button_color": null,
            "font_weight": "",
            "_view_module_version": "1.2.0",
            "_model_module": "@jupyter-widgets/controls"
          }
        },
        "15a1f00a355b4ad7af0b237b22d11ecd": {
          "model_module": "@jupyter-widgets/base",
          "model_name": "LayoutModel",
          "state": {
            "_view_name": "LayoutView",
            "grid_template_rows": null,
            "right": null,
            "justify_content": null,
            "_view_module": "@jupyter-widgets/base",
            "overflow": null,
            "_model_module_version": "1.2.0",
            "_view_count": null,
            "flex_flow": null,
            "width": null,
            "min_width": null,
            "border": null,
            "align_items": null,
            "bottom": null,
            "_model_module": "@jupyter-widgets/base",
            "top": null,
            "grid_column": null,
            "overflow_y": null,
            "overflow_x": null,
            "grid_auto_flow": null,
            "grid_area": null,
            "grid_template_columns": null,
            "flex": null,
            "_model_name": "LayoutModel",
            "justify_items": null,
            "grid_row": null,
            "max_height": null,
            "align_content": null,
            "visibility": null,
            "align_self": null,
            "height": null,
            "min_height": null,
            "padding": null,
            "grid_auto_rows": null,
            "grid_gap": null,
            "max_width": null,
            "order": null,
            "_view_module_version": "1.2.0",
            "grid_template_areas": null,
            "object_position": null,
            "object_fit": null,
            "grid_auto_columns": null,
            "margin": null,
            "display": null,
            "left": null
          }
        },
        "b24cc72edca140d7be28c1a5845a5c8b": {
          "model_module": "@jupyter-widgets/controls",
          "model_name": "ButtonStyleModel",
          "state": {
            "_view_name": "StyleView",
            "_model_name": "ButtonStyleModel",
            "_view_module": "@jupyter-widgets/base",
            "_model_module_version": "1.5.0",
            "_view_count": null,
            "button_color": null,
            "font_weight": "",
            "_view_module_version": "1.2.0",
            "_model_module": "@jupyter-widgets/controls"
          }
        },
        "d8042dd8c2ec4f6897481dfccab3308d": {
          "model_module": "@jupyter-widgets/base",
          "model_name": "LayoutModel",
          "state": {
            "_view_name": "LayoutView",
            "grid_template_rows": null,
            "right": null,
            "justify_content": null,
            "_view_module": "@jupyter-widgets/base",
            "overflow": null,
            "_model_module_version": "1.2.0",
            "_view_count": null,
            "flex_flow": null,
            "width": null,
            "min_width": null,
            "border": null,
            "align_items": null,
            "bottom": null,
            "_model_module": "@jupyter-widgets/base",
            "top": null,
            "grid_column": null,
            "overflow_y": null,
            "overflow_x": null,
            "grid_auto_flow": null,
            "grid_area": null,
            "grid_template_columns": null,
            "flex": null,
            "_model_name": "LayoutModel",
            "justify_items": null,
            "grid_row": null,
            "max_height": null,
            "align_content": null,
            "visibility": null,
            "align_self": null,
            "height": null,
            "min_height": null,
            "padding": null,
            "grid_auto_rows": null,
            "grid_gap": null,
            "max_width": null,
            "order": null,
            "_view_module_version": "1.2.0",
            "grid_template_areas": null,
            "object_position": null,
            "object_fit": null,
            "grid_auto_columns": null,
            "margin": null,
            "display": null,
            "left": null
          }
        },
        "c334558451d74f4695300d794960e425": {
          "model_module": "@jupyter-widgets/controls",
          "model_name": "DescriptionStyleModel",
          "state": {
            "_view_name": "StyleView",
            "_model_name": "DescriptionStyleModel",
            "description_width": "",
            "_view_module": "@jupyter-widgets/base",
            "_model_module_version": "1.5.0",
            "_view_count": null,
            "_view_module_version": "1.2.0",
            "_model_module": "@jupyter-widgets/controls"
          }
        },
        "feb4ed9e1dfc4b6ebb289bd097f07c8e": {
          "model_module": "@jupyter-widgets/base",
          "model_name": "LayoutModel",
          "state": {
            "_view_name": "LayoutView",
            "grid_template_rows": null,
            "right": null,
            "justify_content": null,
            "_view_module": "@jupyter-widgets/base",
            "overflow": null,
            "_model_module_version": "1.2.0",
            "_view_count": null,
            "flex_flow": null,
            "width": null,
            "min_width": null,
            "border": null,
            "align_items": null,
            "bottom": null,
            "_model_module": "@jupyter-widgets/base",
            "top": null,
            "grid_column": null,
            "overflow_y": null,
            "overflow_x": null,
            "grid_auto_flow": null,
            "grid_area": null,
            "grid_template_columns": null,
            "flex": null,
            "_model_name": "LayoutModel",
            "justify_items": null,
            "grid_row": null,
            "max_height": null,
            "align_content": null,
            "visibility": null,
            "align_self": null,
            "height": null,
            "min_height": null,
            "padding": null,
            "grid_auto_rows": null,
            "grid_gap": null,
            "max_width": null,
            "order": null,
            "_view_module_version": "1.2.0",
            "grid_template_areas": null,
            "object_position": null,
            "object_fit": null,
            "grid_auto_columns": null,
            "margin": null,
            "display": null,
            "left": null
          }
        },
        "90d47b21671d46f2a13457d445433dab": {
          "model_module": "@jupyter-widgets/controls",
          "model_name": "DescriptionStyleModel",
          "state": {
            "_view_name": "StyleView",
            "_model_name": "DescriptionStyleModel",
            "description_width": "",
            "_view_module": "@jupyter-widgets/base",
            "_model_module_version": "1.5.0",
            "_view_count": null,
            "_view_module_version": "1.2.0",
            "_model_module": "@jupyter-widgets/controls"
          }
        },
        "ca37b199cfad49d39758519a554f1938": {
          "model_module": "@jupyter-widgets/base",
          "model_name": "LayoutModel",
          "state": {
            "_view_name": "LayoutView",
            "grid_template_rows": null,
            "right": null,
            "justify_content": null,
            "_view_module": "@jupyter-widgets/base",
            "overflow": null,
            "_model_module_version": "1.2.0",
            "_view_count": null,
            "flex_flow": null,
            "width": null,
            "min_width": null,
            "border": null,
            "align_items": null,
            "bottom": null,
            "_model_module": "@jupyter-widgets/base",
            "top": null,
            "grid_column": null,
            "overflow_y": null,
            "overflow_x": null,
            "grid_auto_flow": null,
            "grid_area": null,
            "grid_template_columns": null,
            "flex": null,
            "_model_name": "LayoutModel",
            "justify_items": null,
            "grid_row": null,
            "max_height": null,
            "align_content": null,
            "visibility": null,
            "align_self": null,
            "height": null,
            "min_height": null,
            "padding": null,
            "grid_auto_rows": null,
            "grid_gap": null,
            "max_width": null,
            "order": null,
            "_view_module_version": "1.2.0",
            "grid_template_areas": null,
            "object_position": null,
            "object_fit": null,
            "grid_auto_columns": null,
            "margin": null,
            "display": null,
            "left": null
          }
        }
      }
    }
  },
  "cells": [
    {
      "cell_type": "markdown",
      "metadata": {
        "id": "view-in-github",
        "colab_type": "text"
      },
      "source": [
        "<a href=\"https://colab.research.google.com/github/annikaaross/Homochirality-project/blob/master/History_reader.ipynb\" target=\"_parent\"><img src=\"https://colab.research.google.com/assets/colab-badge.svg\" alt=\"Open In Colab\"/></a>"
      ]
    },
    {
      "cell_type": "code",
      "metadata": {
        "id": "duYO-tSssN_Z",
        "colab_type": "code",
        "cellView": "form",
        "colab": {
          "base_uri": "https://localhost:8080/",
          "height": 35
        },
        "outputId": "5eea2543-156c-4819-bbe3-3f5927a1461e"
      },
      "source": [
        "#@title **Mount drive**\n",
        "from google.colab import drive\n",
        "drive.mount('/content/drive',force_remount=True)\n",
        "wdir = '/content/drive/Shared drives/Homochirality'"
      ],
      "execution_count": 1,
      "outputs": [
        {
          "output_type": "stream",
          "text": [
            "Mounted at /content/drive\n"
          ],
          "name": "stdout"
        }
      ]
    },
    {
      "cell_type": "code",
      "metadata": {
        "id": "Wfmf007asW-c",
        "colab_type": "code",
        "cellView": "form",
        "colab": {}
      },
      "source": [
        "# @title **Imports**\n",
        "import numpy as np\n",
        "import copy\n",
        "from google.colab import widgets, output\n",
        "import pandas as pd\n",
        "import plotly.express as px\n",
        "import plotly.graph_objects as go\n",
        "import time\n",
        "import datetime\n",
        "import uuid\n",
        "from IPython.display import display, Markdown, clear_output\n",
        "import ipywidgets\n",
        "import glob\n",
        "import csv\n",
        "\n",
        "\n",
        "parameters = [\"BASE_BOND_BREAK_PROBABILITY\",\"HOMOCHIRAL_BREAK_FACTOR\",\"HOMOCHIRAL_NEIGHBOR_IMPROV_FACTOR\",\"LENGTH_FACTOR\",\"N\",\"LAMBDA\",\"HOMOCHIRAL_BREAK_FACTOR_LEFT\",\"HOMOCHIRAL_BREAK_FACTOR_RIGHT\",\"HOMOCHIRAL_NEIGHBOR_IMPROV_FACTOR_LEFT\",\"HOMOCHIRAL_NEIGHBOR_IMPROV_FACTOR_RIGHT\",\"POOF_CHANCE\",\"BOND_PROB\",\"POOL_SIZE\",\"iterations\",\"METHOD\",\"POISSON_FACTOR\",\"FUSION\"]\n",
        "statistics = [\"MaxLen\"]"
      ],
      "execution_count": 2,
      "outputs": []
    },
    {
      "cell_type": "code",
      "metadata": {
        "id": "APqgU7Xm832k",
        "colab_type": "code",
        "colab": {}
      },
      "source": [
        "# Option 3: Pick a single plot to compare over runs"
      ],
      "execution_count": 3,
      "outputs": []
    },
    {
      "cell_type": "code",
      "metadata": {
        "id": "r0hSx43Hpg7W",
        "colab_type": "code",
        "cellView": "code",
        "colab": {}
      },
      "source": [
        "#@title **Helper functions**\n",
        "\n",
        "# A function to work out which column names are what \n",
        "def id_headers(info):\n",
        "  # Make a list to store the various categories\n",
        "  indep_vars = [] # parameters that change\n",
        "  constants = [] # parameters that don't change\n",
        "  measures = [] # data calculated in parsing\n",
        "  # Iterate through all the columns in info\n",
        "  for col in info:\n",
        "    # And get the ones that are parameters (are all upper-case)\n",
        "    if col.isupper():\n",
        "      # Find how many different values that parameter takes over the course of the run\n",
        "      n=len(info[col].unique())\n",
        "      # If it's more than one\n",
        "      if n > 1:\n",
        "        # Then the parameter varies and we want to store it in indep_vars.\n",
        "        indep_vars.append(col)\n",
        "      else: \n",
        "        # The parameter doesn't very and we want it in constants.\n",
        "        constants.append(col)\n",
        "    else:\n",
        "      # It's not a parameter\n",
        "      # Check if it's a \"bookkeeping\" column\n",
        "      if (col != \"Path\") and (col != \"Unnamed: 0\"):\n",
        "        # It's a calculated data point and we store it in measures\n",
        "        measures.append(col)\n",
        "  # Now we return the lists we've made.\n",
        "  return indep_vars, constants, measures\n",
        "\n",
        "def plots(runname):\n",
        "  # Get the run you want\n",
        "\n",
        "  d_file = f\"{wdir}/{folder.value}/{runname}_data.csv\"\n",
        "  p_file = f\"{wdir}/{folder.value}/{runname}_params.csv\"\n",
        "\n",
        "  # First get the stats we want from the datafile\n",
        "  data = pd.read_csv(d_file, engine='python')\n",
        "\n",
        "  # Then get the parameters\n",
        "  param_file = open(p_file,'r')\n",
        "  reader = csv.reader(param_file)\n",
        "  params = {rows[0]:rows[1] for rows in reader}\n",
        "  param_file.close()\n",
        "\n",
        "  # The plots\n",
        "\n",
        "  stats = data\n",
        "\n",
        "  iterations = data[\"Iteration\"].max()\n",
        "\n",
        "\n",
        "  plots = [\"Signed EE of Polymers by Iteration\",\"Proportion of Bond Types\",\n",
        "           \"Homochirality vs Length\",\n",
        "           \"Homochirality vs Age\",\n",
        "           \"Homochirality vs Length through Time\",\"Length histogram over time\",\n",
        "           \"Length by homochirality through age\",\"Age by homochirality through length\"]\n",
        "  tb = widgets.TabBar(plots)\n",
        "\n",
        "  with tb.output_to(\"Signed EE of Polymers by Iteration\", select=True):\n",
        "    tb.clear_tab()\n",
        "    df = stats\n",
        "    counts = df.groupby(\"Iteration\")['Signed ee'].value_counts().reset_index(name='count')\n",
        "    fig = px.scatter(counts, x=\"Iteration\", y=\"Signed ee\", size='count')\n",
        "    fig.show()\n",
        "\n",
        "\n",
        "  with tb.output_to(\"Proportion of Bond Types\", select=False):\n",
        "    tb.clear_tab()\n",
        "\n",
        "    df = stats\n",
        "    lefts = df.groupby(\"Iteration\")[\"#LeftHomochiral\"].sum().rename(\"LL\")\n",
        "    rights = df.groupby(\"Iteration\")[\"#RightHomochiral\"].sum().rename(\"RR\")\n",
        "    total = (df.groupby(\"Iteration\")['Length'].sum() - df.groupby(\"Iteration\")['Length'].count()).rename(\"Total\")\n",
        "    bondcounts = pd.DataFrame([lefts, rights, total]).transpose()\n",
        "    bondcounts[\"LR\"] = bondcounts[\"Total\"] - bondcounts[\"RR\"] - bondcounts[\"LL\"]\n",
        "    bondcounts = bondcounts.apply(lambda x : x / bondcounts[\"Total\"])\n",
        "    \n",
        "    fig = go.Figure()\n",
        "    fig.add_trace(go.Scatter(y=bondcounts[\"LL\"],\n",
        "                        mode='lines',\n",
        "                        name='left homochiral'))\n",
        "    fig.add_trace(go.Scatter(y=bondcounts[\"RR\"],\n",
        "                        mode='lines',\n",
        "                        name='right homochiral'))\n",
        "    fig.add_trace(go.Scatter(y=bondcounts[\"LR\"],\n",
        "                        mode='lines', name='heterochiral'))\n",
        "    fig.update_layout(title='Proportion of LL, RR, and LR bonds by iteration',\n",
        "                    xaxis_title='Iteration',\n",
        "                    yaxis_title='Proportion')\n",
        "    fig.update_yaxes(range=[0, 1])\n",
        "\n",
        "    fig.show()\n",
        "\n",
        "  with tb.output_to(\"Homochirality vs Length through Time\", select=False):\n",
        "    tb.clear_tab()\n",
        "    df = stats\n",
        "    maxlen = max(df[\"Length\"])\n",
        "\n",
        "    fig = px.scatter(df, x=\"Length\", y=\"%Homochirality\",animation_frame=\"Iteration\",\n",
        "                    range_x=[-1,maxlen+1],range_y=[-0.01,1.2])\n",
        "    fig.show()\n",
        "\n",
        "  with tb.output_to(\"Homochirality vs Length\", select=False):\n",
        "    tb.clear_tab()\n",
        "    df = stats\n",
        "    df = df.groupby(\"Length\")['%Homochirality'].value_counts().reset_index(name='count')\n",
        "    fig = px.scatter(df, x=\"Length\",y=\"%Homochirality\",size='count')\n",
        "    fig.update_traces(marker=dict(line=dict(color='DarkSlateGrey')),\n",
        "                    selector=dict(mode='markers'))\n",
        "    fig.show()\n",
        "\n",
        "  with tb.output_to(\"Homochirality vs Age\", select=False):\n",
        "    tb.clear_tab()\n",
        "    df = stats\n",
        "    df = df.groupby(\"Age\")['%Homochirality'].value_counts().reset_index(name='count')\n",
        "    fig = px.scatter(df, x=\"Age\",y=\"%Homochirality\",size='count')\n",
        "    fig.update_traces(marker=dict(line=dict(color='DarkSlateGrey')),\n",
        "                    selector=dict(mode='markers'))\n",
        "    # This gets the mode of col b for each value of col a\n",
        "    modes = df.groupby(\"Age\")[\"%Homochirality\"].agg(lambda x:x.value_counts().index[0])\n",
        "    fig.add_trace(go.Scatter(y=modes, mode=\"markers\"))\n",
        "    fig.show()\n",
        "\n",
        "  with tb.output_to(\"Length by homochirality through age\", select = False):\n",
        "    tb.clear_tab()\n",
        "    df = stats\n",
        "    fig = px.scatter(df, x=\"Length\", y=\"%Homochirality\", animation_frame=\"Age\", hover_name=\"%Homochirality\", range_x=[1,maxlen+1])\n",
        "    fig.show()\n",
        "\n",
        "  with tb.output_to(\"Age by homochirality through length\", select = False):\n",
        "    tb.clear_tab()\n",
        "    df = stats\n",
        "    fig = px.scatter(df, x=\"Age\", y=\"%Homochirality\", animation_frame=\"Length\", hover_name=\"%Homochirality\", range_y=(0,1), range_x=[-1,iterations+1])\n",
        "    fig.show()\n",
        "\n",
        "  with tb.output_to(\"Length histogram over time\", select=False):\n",
        "    tb.clear_tab()\n",
        "    df = stats\n",
        "\n",
        "    # Just the polymers please\n",
        "    df = df[df[\"Length\"]>1]\n",
        "\n",
        "    # Find the largest count overall\n",
        "    count_iteration = df.groupby(\"Iteration\")[\"Length\"].value_counts()\n",
        "    biggest = max(count_iteration)\n",
        "\n",
        "    fig = px.histogram(df, x=\"Length\", animation_frame=\"Iteration\",range_x=(0,max(df[\"Length\"])),\n",
        "                        nbins=max(df[\"Length\"]))\n",
        "    fig.show()\n",
        "\n",
        "\n",
        "\n",
        "###############\n",
        "\n",
        "# Functions to calculate stats in data parsing\n",
        "\n",
        "def max_len(df):\n",
        "  return max(df[\"Length\"])\n",
        "\n",
        "def longest_chain(df):\n",
        "  return df[\"Longest chain length\"].dropna().max()\n",
        "\n"
      ],
      "execution_count": 12,
      "outputs": []
    },
    {
      "cell_type": "code",
      "metadata": {
        "id": "aX0HxB3Ecyt0",
        "colab_type": "code",
        "cellView": "form",
        "colab": {
          "base_uri": "https://localhost:8080/",
          "height": 1000,
          "referenced_widgets": [
            "482f8ec565e4468fa5ed4c17861448b5",
            "5278b138d6d24b5abf44286f081ba12e",
            "fa0a4132c7314202acf34ac49296ce9c",
            "6f40dad0a31944a0ae6b6fce621f90f6",
            "2542504d992448e6b434655c2f656884",
            "310c627a7ac64970bbe95ebdd3684c89",
            "37b198b5ab7541838f30a3b0f154f8a3",
            "e066991031b746fcbf10f5b11dc6ccdd",
            "43b0d50ee1e94bb58e0e4976420a64ea",
            "a40a7adea8394f599504a359c3496c58",
            "d91d07ea9d2f4f678bb72ed280855fd9",
            "bdf36cbfcc644a02b0755c350a2f4094",
            "5fceccc5e7274e6ab6c621b585c979de",
            "2b017e64cfe9418890b65b5fd09c625a",
            "83e2fc90f8d54b5cab6c37654a8bf14b",
            "902eb6ee507940acb66a753c000aa345",
            "ec0d1c184b64468d8bcfc9b0487e0362",
            "e5e0e73385414f33adf52af6f161cbaf",
            "5610b9beb1744258a2e31539320af92c",
            "3378252facdf4d2592c2ec6ebefde9dd",
            "4b558ff653eb451c88d0524f8f5517d4"
          ]
        },
        "outputId": "893881b2-10f5-4745-8878-ab9016eb7ef6"
      },
      "source": [
        "# @title **Import data**\n",
        "\n",
        "# Get folder name and batch name\n",
        "folder = ipywidgets.Text(description=\"subfolder:\",placeholder=\"enter subfolder name\",value=\"small_tests\")\n",
        "batch = ipywidgets.Text(description=\"batch:\",placeholder=\"enter batch name\",value=\"test\")\n",
        "# Checkbox for if we wanna force a reparse\n",
        "reparse = ipywidgets.Checkbox(description=\"Force reparse\",value=False)\n",
        "# Text and int bar widgets for the progress bar\n",
        "status_text = ipywidgets.Output()\n",
        "progress_bar = ipywidgets.FloatProgress(min=0, max=100) \n",
        "# Make a name for the data to go into\n",
        "info = None\n",
        "# Make a spot for storing out the variables that change\n",
        "changers = None\n",
        "\n",
        "def get_data(b):\n",
        "  progress_bar.value = 0\n",
        "  global info\n",
        "  batch_path = f\"{wdir}/{folder.value}/{batch.value}\"\n",
        "  # Do we want to force a re-parse?\n",
        "  if not reparse.value:\n",
        "    try:\n",
        "      with status_text:\n",
        "        clear_output()\n",
        "        print(\"loading info\")\n",
        "      info = pd.read_csv(f\"{batch_path}_info.csv\")\n",
        "    except:\n",
        "      # parse\n",
        "      info = parse(batch_path)\n",
        "      # export\n",
        "      info.to_csv(f\"{batch_path}_info.csv\")\n",
        "  else:\n",
        "    # parse\n",
        "    info = parse(batch_path)\n",
        "    # export\n",
        "    info.to_csv(f\"{batch_path}_info.csv\")\n",
        "  # Say \"I'm done!\"\n",
        "  with status_text:\n",
        "    clear_output()\n",
        "    print(\"ok done\")\n",
        "  progress_bar.value = 100\n",
        "  for col in info:\n",
        "    if col.isupper():\n",
        "      print(f\"{col}: {info[col].unique()}\")\n",
        "  \n",
        "\n",
        "\n",
        "\n",
        "  \n",
        "\n",
        "def parse(path):\n",
        "  # Prep the feedback\n",
        "  with status_text:\n",
        "    clear_output()\n",
        "    print(\"parsing info\")\n",
        "\n",
        "  # Get all the filenames under that batchname\n",
        "  params_filenames = []\n",
        "  data_filenames = [] \n",
        "  for filename in glob.glob(f\"{path}_*.csv\"):\n",
        "    if filename[-10:-4] == \"params\":\n",
        "      params_filenames.append(filename)\n",
        "    elif filename[-8:-4] == \"data\":\n",
        "      data_filenames.append(filename)\n",
        "\n",
        "  # Get the amount to increment the progress bar after each file\n",
        "  increment = 1/len(data_filenames) * 100\n",
        "\n",
        "  # Sort the filenames lists so they'll definitely sync\n",
        "  params_filenames.sort()\n",
        "  data_filenames.sort()\n",
        "\n",
        "  info_list = []\n",
        "  for p_file, d_file in zip(params_filenames,data_filenames):\n",
        "\n",
        "    # First step is getting the general path for this run!\n",
        "    run_path = d_file[:-9]\n",
        "\n",
        "    # First get the stats we want from the datafile\n",
        "    data = pd.read_csv(d_file, engine='python')\n",
        "    stats = {\"MaxLen\":max_len(data),\n",
        "             \"LongestChain\":longest_chain(data)}\n",
        "\n",
        "    # Then get the parameters\n",
        "    params = open(p_file,'r')\n",
        "    reader = csv.reader(params)\n",
        "    param_dict = {rows[0]:rows[1] for rows in reader}\n",
        "    params.close()\n",
        "\n",
        "    # Merge the parameters and the stats into a single dictionary\n",
        "    info_row = {\"Path\":run_path,**param_dict,**stats}\n",
        "    \n",
        "    # Store the row\n",
        "    info_list.append(info_row)\n",
        "\n",
        "    # Last step is incrementing the progress bar!\n",
        "    progress_bar.value += increment\n",
        "\n",
        "  # Turn this list into a DataFrame and return it\n",
        "  return pd.DataFrame(info_list)\n",
        "\n",
        "\n",
        "with status_text:\n",
        "  clear_output()\n",
        "progress_bar.value = 0\n",
        "loc_box = ipywidgets.VBox([folder,batch])\n",
        "display(loc_box)\n",
        "# Button for running the parsing stuff\n",
        "parse_button = ipywidgets.Button(description=\"Get data\")\n",
        "parse_button.on_click(get_data)\n",
        "display(reparse)\n",
        "display(parse_button)\n",
        "# Box for progress bars!\n",
        "progress = ipywidgets.VBox([status_text,progress_bar])\n",
        "display(progress)\n",
        "\n",
        "\n",
        "\n",
        " \n",
        "\n"
      ],
      "execution_count": 5,
      "outputs": [
        {
          "output_type": "display_data",
          "data": {
            "application/vnd.jupyter.widget-view+json": {
              "model_id": "482f8ec565e4468fa5ed4c17861448b5",
              "version_minor": 0,
              "version_major": 2
            },
            "text/plain": [
              "VBox(children=(Text(value='small_tests', description='subfolder:', placeholder='enter subfolder name'), Text(v…"
            ]
          },
          "metadata": {
            "tags": []
          }
        },
        {
          "output_type": "display_data",
          "data": {
            "application/vnd.jupyter.widget-view+json": {
              "model_id": "43b0d50ee1e94bb58e0e4976420a64ea",
              "version_minor": 0,
              "version_major": 2
            },
            "text/plain": [
              "Checkbox(value=False, description='Force reparse')"
            ]
          },
          "metadata": {
            "tags": []
          }
        },
        {
          "output_type": "display_data",
          "data": {
            "application/vnd.jupyter.widget-view+json": {
              "model_id": "bdf36cbfcc644a02b0755c350a2f4094",
              "version_minor": 0,
              "version_major": 2
            },
            "text/plain": [
              "Button(description='Get data', style=ButtonStyle())"
            ]
          },
          "metadata": {
            "tags": []
          }
        },
        {
          "output_type": "display_data",
          "data": {
            "application/vnd.jupyter.widget-view+json": {
              "model_id": "83e2fc90f8d54b5cab6c37654a8bf14b",
              "version_minor": 0,
              "version_major": 2
            },
            "text/plain": [
              "VBox(children=(Output(), FloatProgress(value=0.0)))"
            ]
          },
          "metadata": {
            "tags": []
          }
        },
        {
          "output_type": "stream",
          "text": [
            "BASE_BOND_BREAK_PROBABILITY: ['0.5']\n",
            "HOMOCHIRAL_BREAK_FACTOR: ['0.5']\n",
            "HOMOCHIRAL_NEIGHBOR_IMPROV_FACTOR: ['0.5']\n",
            "LENGTH_FACTOR: ['0.6']\n",
            "N: ['40']\n",
            "LAMBDA: ['6']\n",
            "HOMOCHIRAL_BREAK_FACTOR_LEFT: ['0.5']\n",
            "HOMOCHIRAL_BREAK_FACTOR_RIGHT: ['0.5']\n",
            "HOMOCHIRAL_NEIGHBOR_IMPROV_FACTOR_LEFT: ['0.5']\n",
            "HOMOCHIRAL_NEIGHBOR_IMPROV_FACTOR_RIGHT: ['0.5']\n",
            "POOF_CHANCE: ['0.33']\n",
            "BOND_PROB: ['0.33']\n",
            "POOL_SIZE: ['10' '85' '160' '235' '310' '385' '460' '535' '610' '685' '760' '835'\n",
            " '910' '985']\n",
            "ITERATIONS: ['100']\n",
            "METHOD: ['standard']\n",
            "POISSON_FACTOR: ['1']\n",
            "FUSION: ['True' 'False']\n",
            "REFILLRANDOM: ['False']\n",
            "REFILLPERCENT: ['[False']\n",
            "REFILLNUMBER: ['[False']\n",
            "REFILLNUMBERDECREASE: ['[False']\n",
            "REFILLNORMAL: ['False']\n",
            "REFILLPERCENTDECREASE: ['[False']\n",
            "BASE_BOND_BREAK_PROBABILITY: ['0.5']\n",
            "HOMOCHIRAL_BREAK_FACTOR: ['0.5']\n",
            "HOMOCHIRAL_NEIGHBOR_IMPROV_FACTOR: ['0.5']\n",
            "LENGTH_FACTOR: ['0.6']\n",
            "N: ['40']\n",
            "LAMBDA: ['6']\n",
            "HOMOCHIRAL_BREAK_FACTOR_LEFT: ['0.5']\n",
            "HOMOCHIRAL_BREAK_FACTOR_RIGHT: ['0.5']\n",
            "HOMOCHIRAL_NEIGHBOR_IMPROV_FACTOR_LEFT: ['0.5']\n",
            "HOMOCHIRAL_NEIGHBOR_IMPROV_FACTOR_RIGHT: ['0.5']\n",
            "POOF_CHANCE: ['0.33']\n",
            "BOND_PROB: ['0.33']\n",
            "POOL_SIZE: ['10' '85' '160' '235' '310' '385' '460' '535' '610' '685' '760' '835'\n",
            " '910' '985']\n",
            "ITERATIONS: ['100']\n",
            "METHOD: ['standard']\n",
            "POISSON_FACTOR: ['1']\n",
            "FUSION: ['True' 'False']\n",
            "REFILLRANDOM: ['False']\n",
            "REFILLPERCENT: ['[False']\n",
            "REFILLNUMBER: ['[False']\n",
            "REFILLNUMBERDECREASE: ['[False']\n",
            "REFILLNORMAL: ['False']\n",
            "REFILLPERCENTDECREASE: ['[False']\n"
          ],
          "name": "stdout"
        }
      ]
    },
    {
      "cell_type": "code",
      "metadata": {
        "id": "7MZQU5JYSvN5",
        "colab_type": "code",
        "cellView": "form",
        "colab": {
          "base_uri": "https://localhost:8080/",
          "height": 670,
          "referenced_widgets": [
            "a80c60373b914fd0bf985519e812ccb3",
            "b12c08ece2df4dda8c79cbc7ecb267ce",
            "118fdd477d4b45ac9f9edf8f2c6db157",
            "02ce6d08fae142f190958a3155fd9b2c",
            "0a007aa2e77e47a5bb399f31192d98f2",
            "7823a1efe4bf41cda779a87b63177ce8",
            "e1ce6601bfab4c2d8518b3851aaacfd8",
            "307423b7999f4b19a208a0066a742ef0",
            "def85c9358164ef7a8e40a00fa46f3de",
            "06c8db5e0dc64be1b05359c7d535fe96",
            "a0419fabfb2c4efeb7cf2e83e080ad3f",
            "f55b5a2b8afd4645963aa783f76b786b",
            "52dae35726184d31b5594c7244521208",
            "fabf598d1e0546f6b0617519cd5a3c53",
            "d259f9cbc96e43d995f8698caf1e7abd",
            "63d6d18229014ae88031506221abe719",
            "4be17a31b6e34206a37475c9efe33d8b",
            "3667ee5c063f4a05a46e42bd776dbf89",
            "89329a32422646f9a5f69651fb55b5d8",
            "00fb990381c240fa9e97a4ca46542311",
            "12b1858ad4014a059dd9bf0ac36d5519"
          ]
        },
        "outputId": "b95ac6f9-d12f-4927-caed-4b1763c91265"
      },
      "source": [
        "#@title **Boxplot**\n",
        "# First check if info has been imported\n",
        "if not isinstance(info,pd.DataFrame):\n",
        "  print(\"Please import your batch, then re-run this cell.\")\n",
        "\n",
        "else:\n",
        "  # An import to allow clearing the output down the line\n",
        "  import IPython.display\n",
        "\n",
        "\n",
        "  def make_boxplot(b):\n",
        "    # Make the boxplot using the values selected in widgets\n",
        "    fig = px.box(info, \n",
        "                 x=boxplot_groups.value,\n",
        "                 y=boxplot_measures.value,\n",
        "                 color=boxplot_colors.value,\n",
        "                 hover_data=[\"Path\"])\n",
        "    fig.show()\n",
        "\n",
        "\n",
        "  def clear(b):\n",
        "    # Deletes the plots it's already made\n",
        "    IPython.display.clear_output(wait=True)\n",
        "    display(boxplot_container)\n",
        "\n",
        "\n",
        "  # Now we're cooking with gas.\n",
        "  # Run id_headers to get the varying and static parameters\n",
        "  # and the measured stats\n",
        "  vars, constants, measures = id_headers(info)\n",
        "\n",
        "  # Widget making and handling\n",
        "  # Dropdown menus\n",
        "  boxplot_groups = ipywidgets.Dropdown(options=vars, description=\"group\")\n",
        "  boxplot_colors = ipywidgets.Dropdown(options=[None]+vars, description=\"color\")\n",
        "  boxplot_measures = ipywidgets.Dropdown(options=measures, description=\"stat\")\n",
        "  # Buttons\n",
        "  boxplot_button = ipywidgets.Button(description=\"plot\")\n",
        "  boxplot_clear_button = ipywidgets.Button(description=\"clear output\")\n",
        "  # Layout\n",
        "  boxplot_selectors = ipywidgets.VBox([boxplot_groups,boxplot_colors,boxplot_measures])\n",
        "  boxplot_container = ipywidgets.VBox([boxplot_selectors,ipywidgets.HBox([boxplot_button,boxplot_clear_button])])\n",
        "  # Button behavior\n",
        "  boxplot_button.on_click(make_boxplot)\n",
        "  boxplot_clear_button.on_click(clear)\n",
        "  # Show the widgets\n",
        "  display(boxplot_container)\n",
        "  "
      ],
      "execution_count": 9,
      "outputs": [
        {
          "output_type": "display_data",
          "data": {
            "application/vnd.jupyter.widget-view+json": {
              "model_id": "a80c60373b914fd0bf985519e812ccb3",
              "version_minor": 0,
              "version_major": 2
            },
            "text/plain": [
              "VBox(children=(VBox(children=(Dropdown(description='group', options=('POOL_SIZE', 'FUSION'), value='POOL_SIZE'…"
            ]
          },
          "metadata": {
            "tags": []
          }
        },
        {
          "output_type": "display_data",
          "data": {
            "text/html": [
              "<html>\n",
              "<head><meta charset=\"utf-8\" /></head>\n",
              "<body>\n",
              "    <div>\n",
              "            <script src=\"https://cdnjs.cloudflare.com/ajax/libs/mathjax/2.7.5/MathJax.js?config=TeX-AMS-MML_SVG\"></script><script type=\"text/javascript\">if (window.MathJax) {MathJax.Hub.Config({SVG: {font: \"STIX-Web\"}});}</script>\n",
              "                <script type=\"text/javascript\">window.PlotlyConfig = {MathJaxConfig: 'local'};</script>\n",
              "        <script src=\"https://cdn.plot.ly/plotly-latest.min.js\"></script>    \n",
              "            <div id=\"7201cc8c-6b13-4a5d-bdd3-c463a0b4d2d3\" class=\"plotly-graph-div\" style=\"height:525px; width:100%;\"></div>\n",
              "            <script type=\"text/javascript\">\n",
              "                \n",
              "                    window.PLOTLYENV=window.PLOTLYENV || {};\n",
              "                    \n",
              "                if (document.getElementById(\"7201cc8c-6b13-4a5d-bdd3-c463a0b4d2d3\")) {\n",
              "                    Plotly.newPlot(\n",
              "                        '7201cc8c-6b13-4a5d-bdd3-c463a0b4d2d3',\n",
              "                        [{\"alignmentgroup\": \"True\", \"customdata\": [[\"/content/drive/Shared drives/Homochirality/vary_pool_fusion/batch1_2020-08-03_20:21:27.180857\"], [\"/content/drive/Shared drives/Homochirality/vary_pool_fusion/batch1_2020-08-03_20:21:27.225879\"], [\"/content/drive/Shared drives/Homochirality/vary_pool_fusion/batch1_2020-08-03_20:21:27.260578\"], [\"/content/drive/Shared drives/Homochirality/vary_pool_fusion/batch1_2020-08-03_20:21:27.440493\"], [\"/content/drive/Shared drives/Homochirality/vary_pool_fusion/batch1_2020-08-03_20:21:27.480595\"], [\"/content/drive/Shared drives/Homochirality/vary_pool_fusion/batch1_2020-08-03_20:21:27.514159\"], [\"/content/drive/Shared drives/Homochirality/vary_pool_fusion/batch1_2020-08-03_20:21:27.679629\"], [\"/content/drive/Shared drives/Homochirality/vary_pool_fusion/batch1_2020-08-03_20:21:27.744378\"], [\"/content/drive/Shared drives/Homochirality/vary_pool_fusion/batch1_2020-08-03_20:21:27.782119\"], [\"/content/drive/Shared drives/Homochirality/vary_pool_fusion/batch1_2020-08-03_20:21:27.944508\"], [\"/content/drive/Shared drives/Homochirality/vary_pool_fusion/batch1_2020-08-03_20:21:28.080025\"], [\"/content/drive/Shared drives/Homochirality/vary_pool_fusion/batch1_2020-08-03_20:21:28.201135\"], [\"/content/drive/Shared drives/Homochirality/vary_pool_fusion/batch1_2020-08-03_20:21:28.707448\"], [\"/content/drive/Shared drives/Homochirality/vary_pool_fusion/batch1_2020-08-03_20:21:28.808641\"], [\"/content/drive/Shared drives/Homochirality/vary_pool_fusion/batch1_2020-08-03_20:21:28.911422\"], [\"/content/drive/Shared drives/Homochirality/vary_pool_fusion/batch1_2020-08-03_20:21:29.419824\"], [\"/content/drive/Shared drives/Homochirality/vary_pool_fusion/batch1_2020-08-03_20:21:29.534247\"], [\"/content/drive/Shared drives/Homochirality/vary_pool_fusion/batch1_2020-08-03_20:21:29.650285\"], [\"/content/drive/Shared drives/Homochirality/vary_pool_fusion/batch1_2020-08-03_20:21:30.151411\"], [\"/content/drive/Shared drives/Homochirality/vary_pool_fusion/batch1_2020-08-03_20:21:30.357373\"], [\"/content/drive/Shared drives/Homochirality/vary_pool_fusion/batch1_2020-08-03_20:21:30.524039\"], [\"/content/drive/Shared drives/Homochirality/vary_pool_fusion/batch1_2020-08-03_20:21:31.490611\"], [\"/content/drive/Shared drives/Homochirality/vary_pool_fusion/batch1_2020-08-03_20:21:31.672495\"], [\"/content/drive/Shared drives/Homochirality/vary_pool_fusion/batch1_2020-08-03_20:21:31.827206\"], [\"/content/drive/Shared drives/Homochirality/vary_pool_fusion/batch1_2020-08-03_20:21:32.715725\"], [\"/content/drive/Shared drives/Homochirality/vary_pool_fusion/batch1_2020-08-03_20:21:32.898524\"], [\"/content/drive/Shared drives/Homochirality/vary_pool_fusion/batch1_2020-08-03_20:21:33.066725\"], [\"/content/drive/Shared drives/Homochirality/vary_pool_fusion/batch1_2020-08-03_20:21:33.998661\"], [\"/content/drive/Shared drives/Homochirality/vary_pool_fusion/batch1_2020-08-03_20:21:34.354568\"], [\"/content/drive/Shared drives/Homochirality/vary_pool_fusion/batch1_2020-08-03_20:21:34.595614\"], [\"/content/drive/Shared drives/Homochirality/vary_pool_fusion/batch1_2020-08-03_20:21:35.832023\"], [\"/content/drive/Shared drives/Homochirality/vary_pool_fusion/batch1_2020-08-03_20:21:36.079159\"], [\"/content/drive/Shared drives/Homochirality/vary_pool_fusion/batch1_2020-08-03_20:21:36.342201\"], [\"/content/drive/Shared drives/Homochirality/vary_pool_fusion/batch1_2020-08-03_20:21:37.953433\"], [\"/content/drive/Shared drives/Homochirality/vary_pool_fusion/batch1_2020-08-03_20:21:38.227517\"], [\"/content/drive/Shared drives/Homochirality/vary_pool_fusion/batch1_2020-08-03_20:21:38.510707\"], [\"/content/drive/Shared drives/Homochirality/vary_pool_fusion/batch1_2020-08-03_20:21:40.049441\"], [\"/content/drive/Shared drives/Homochirality/vary_pool_fusion/batch1_2020-08-03_20:21:40.434275\"], [\"/content/drive/Shared drives/Homochirality/vary_pool_fusion/batch1_2020-08-03_20:21:40.799427\"], [\"/content/drive/Shared drives/Homochirality/vary_pool_fusion/batch1_2020-08-03_20:21:42.704734\"], [\"/content/drive/Shared drives/Homochirality/vary_pool_fusion/batch1_2020-08-03_20:21:43.024078\"], [\"/content/drive/Shared drives/Homochirality/vary_pool_fusion/batch1_2020-08-03_20:21:43.402099\"], [\"/content/drive/Shared drives/Homochirality/vary_pool_fusion/batch1_2020-08-03_20:21:45.355044\"], [\"/content/drive/Shared drives/Homochirality/vary_pool_fusion/batch1_2020-08-03_20:21:45.665916\"], [\"/content/drive/Shared drives/Homochirality/vary_pool_fusion/batch1_2020-08-03_20:21:46.006346\"], [\"/content/drive/Shared drives/Homochirality/vary_pool_fusion/batch1_2020-08-03_20:21:48.082582\"], [\"/content/drive/Shared drives/Homochirality/vary_pool_fusion/batch1_2020-08-03_20:21:48.488820\"], [\"/content/drive/Shared drives/Homochirality/vary_pool_fusion/batch1_2020-08-03_20:21:48.891402\"], [\"/content/drive/Shared drives/Homochirality/vary_pool_fusion/batch1_2020-08-03_20:21:51.163975\"], [\"/content/drive/Shared drives/Homochirality/vary_pool_fusion/batch1_2020-08-03_20:21:51.614423\"], [\"/content/drive/Shared drives/Homochirality/vary_pool_fusion/batch1_2020-08-03_20:21:52.028324\"], [\"/content/drive/Shared drives/Homochirality/vary_pool_fusion/batch1_2020-08-03_20:21:54.331911\"], [\"/content/drive/Shared drives/Homochirality/vary_pool_fusion/batch1_2020-08-03_20:21:54.700415\"], [\"/content/drive/Shared drives/Homochirality/vary_pool_fusion/batch1_2020-08-03_20:21:55.072198\"], [\"/content/drive/Shared drives/Homochirality/vary_pool_fusion/batch1_2020-08-03_20:21:57.506388\"], [\"/content/drive/Shared drives/Homochirality/vary_pool_fusion/batch1_2020-08-03_20:21:57.996077\"], [\"/content/drive/Shared drives/Homochirality/vary_pool_fusion/batch1_2020-08-03_20:21:58.487525\"], [\"/content/drive/Shared drives/Homochirality/vary_pool_fusion/batch1_2020-08-03_20:22:01.240940\"], [\"/content/drive/Shared drives/Homochirality/vary_pool_fusion/batch1_2020-08-03_20:22:01.736084\"], [\"/content/drive/Shared drives/Homochirality/vary_pool_fusion/batch1_2020-08-03_20:22:02.238905\"], [\"/content/drive/Shared drives/Homochirality/vary_pool_fusion/batch1_2020-08-03_20:22:04.682375\"], [\"/content/drive/Shared drives/Homochirality/vary_pool_fusion/batch1_2020-08-03_20:22:05.138871\"], [\"/content/drive/Shared drives/Homochirality/vary_pool_fusion/batch1_2020-08-03_20:22:05.648263\"], [\"/content/drive/Shared drives/Homochirality/vary_pool_fusion/batch1_2020-08-03_20:22:08.224338\"], [\"/content/drive/Shared drives/Homochirality/vary_pool_fusion/batch1_2020-08-03_20:22:08.728196\"], [\"/content/drive/Shared drives/Homochirality/vary_pool_fusion/batch1_2020-08-03_20:22:09.220426\"], [\"/content/drive/Shared drives/Homochirality/vary_pool_fusion/batch1_2020-08-03_20:22:12.474837\"], [\"/content/drive/Shared drives/Homochirality/vary_pool_fusion/batch1_2020-08-03_20:22:12.980979\"], [\"/content/drive/Shared drives/Homochirality/vary_pool_fusion/batch1_2020-08-03_20:22:13.501657\"], [\"/content/drive/Shared drives/Homochirality/vary_pool_fusion/batch1_2020-08-03_20:22:16.468953\"], [\"/content/drive/Shared drives/Homochirality/vary_pool_fusion/batch1_2020-08-03_20:22:17.040697\"], [\"/content/drive/Shared drives/Homochirality/vary_pool_fusion/batch1_2020-08-03_20:22:17.579168\"], [\"/content/drive/Shared drives/Homochirality/vary_pool_fusion/batch1_2020-08-03_20:22:20.581248\"], [\"/content/drive/Shared drives/Homochirality/vary_pool_fusion/batch1_2020-08-03_20:22:21.062224\"], [\"/content/drive/Shared drives/Homochirality/vary_pool_fusion/batch1_2020-08-03_20:22:21.584753\"], [\"/content/drive/Shared drives/Homochirality/vary_pool_fusion/batch1_2020-08-03_20:22:25.346513\"], [\"/content/drive/Shared drives/Homochirality/vary_pool_fusion/batch1_2020-08-03_20:22:26.095085\"], [\"/content/drive/Shared drives/Homochirality/vary_pool_fusion/batch1_2020-08-03_20:22:26.639593\"], [\"/content/drive/Shared drives/Homochirality/vary_pool_fusion/batch1_2020-08-03_20:22:30.054952\"], [\"/content/drive/Shared drives/Homochirality/vary_pool_fusion/batch1_2020-08-03_20:22:30.557435\"], [\"/content/drive/Shared drives/Homochirality/vary_pool_fusion/batch1_2020-08-03_20:22:31.104898\"], [\"/content/drive/Shared drives/Homochirality/vary_pool_fusion/batch1_2020-08-03_20:22:34.376039\"], [\"/content/drive/Shared drives/Homochirality/vary_pool_fusion/batch1_2020-08-03_20:22:34.975535\"], [\"/content/drive/Shared drives/Homochirality/vary_pool_fusion/batch1_2020-08-03_20:22:35.900743\"], [\"/content/drive/Shared drives/Homochirality/vary_pool_fusion/batch1_2020-08-03_20:22:39.776891\"], [\"/content/drive/Shared drives/Homochirality/vary_pool_fusion/batch1_2020-08-03_20:22:40.349391\"], [\"/content/drive/Shared drives/Homochirality/vary_pool_fusion/batch1_2020-08-03_20:22:41.046436\"], [\"/content/drive/Shared drives/Homochirality/vary_pool_fusion/batch1_2020-08-03_20:22:47.946629\"], [\"/content/drive/Shared drives/Homochirality/vary_pool_fusion/batch1_2020-08-03_20:22:48.799198\"], [\"/content/drive/Shared drives/Homochirality/vary_pool_fusion/batch1_2020-08-03_20:22:49.382439\"], [\"/content/drive/Shared drives/Homochirality/vary_pool_fusion/batch1_2020-08-03_20:22:53.401209\"], [\"/content/drive/Shared drives/Homochirality/vary_pool_fusion/batch1_2020-08-03_20:22:54.065574\"], [\"/content/drive/Shared drives/Homochirality/vary_pool_fusion/batch1_2020-08-03_20:22:54.758198\"], [\"/content/drive/Shared drives/Homochirality/vary_pool_fusion/batch1_2020-08-03_20:22:59.337630\"], [\"/content/drive/Shared drives/Homochirality/vary_pool_fusion/batch1_2020-08-03_20:23:00.116532\"], [\"/content/drive/Shared drives/Homochirality/vary_pool_fusion/batch1_2020-08-03_20:23:00.793767\"], [\"/content/drive/Shared drives/Homochirality/vary_pool_fusion/batch1_2020-08-03_20:23:05.384795\"], [\"/content/drive/Shared drives/Homochirality/vary_pool_fusion/batch1_2020-08-03_20:23:06.038293\"], [\"/content/drive/Shared drives/Homochirality/vary_pool_fusion/batch1_2020-08-03_20:23:06.789987\"], [\"/content/drive/Shared drives/Homochirality/vary_pool_fusion/batch1_2020-08-03_20:23:11.344990\"], [\"/content/drive/Shared drives/Homochirality/vary_pool_fusion/batch1_2020-08-03_20:23:12.232812\"], [\"/content/drive/Shared drives/Homochirality/vary_pool_fusion/batch1_2020-08-03_20:23:12.912644\"], [\"/content/drive/Shared drives/Homochirality/vary_pool_fusion/batch1_2020-08-03_20:23:17.833167\"], [\"/content/drive/Shared drives/Homochirality/vary_pool_fusion/batch1_2020-08-03_20:23:18.584197\"], [\"/content/drive/Shared drives/Homochirality/vary_pool_fusion/batch1_2020-08-03_20:23:19.428551\"], [\"/content/drive/Shared drives/Homochirality/vary_pool_fusion/batch1_2020-08-03_20:23:24.290286\"], [\"/content/drive/Shared drives/Homochirality/vary_pool_fusion/batch1_2020-08-03_20:23:25.039129\"], [\"/content/drive/Shared drives/Homochirality/vary_pool_fusion/batch1_2020-08-03_20:23:25.905187\"], [\"/content/drive/Shared drives/Homochirality/vary_pool_fusion/batch1_2020-08-03_20:23:30.608665\"], [\"/content/drive/Shared drives/Homochirality/vary_pool_fusion/batch1_2020-08-03_20:23:31.361647\"], [\"/content/drive/Shared drives/Homochirality/vary_pool_fusion/batch1_2020-08-03_20:23:32.071472\"], [\"/content/drive/Shared drives/Homochirality/vary_pool_fusion/batch1_2020-08-03_20:23:37.262293\"], [\"/content/drive/Shared drives/Homochirality/vary_pool_fusion/batch1_2020-08-03_20:23:38.272122\"], [\"/content/drive/Shared drives/Homochirality/vary_pool_fusion/batch1_2020-08-03_20:23:38.956328\"], [\"/content/drive/Shared drives/Homochirality/vary_pool_fusion/batch1_2020-08-03_20:23:44.114772\"], [\"/content/drive/Shared drives/Homochirality/vary_pool_fusion/batch1_2020-08-03_20:23:44.959429\"], [\"/content/drive/Shared drives/Homochirality/vary_pool_fusion/batch1_2020-08-03_20:23:45.805244\"], [\"/content/drive/Shared drives/Homochirality/vary_pool_fusion/batch1_2020-08-03_20:23:50.933297\"], [\"/content/drive/Shared drives/Homochirality/vary_pool_fusion/batch1_2020-08-03_20:23:51.740559\"], [\"/content/drive/Shared drives/Homochirality/vary_pool_fusion/batch1_2020-08-03_20:23:52.601485\"], [\"/content/drive/Shared drives/Homochirality/vary_pool_fusion/batch1_2020-08-03_20:23:58.419434\"], [\"/content/drive/Shared drives/Homochirality/vary_pool_fusion/batch1_2020-08-03_20:23:59.298620\"], [\"/content/drive/Shared drives/Homochirality/vary_pool_fusion/batch1_2020-08-03_20:24:00.201279\"], [\"/content/drive/Shared drives/Homochirality/vary_pool_fusion/batch1_2020-08-03_20:24:06.055315\"], [\"/content/drive/Shared drives/Homochirality/vary_pool_fusion/batch1_2020-08-03_20:24:06.874125\"], [\"/content/drive/Shared drives/Homochirality/vary_pool_fusion/batch1_2020-08-03_20:24:07.710299\"]], \"hoverlabel\": {\"namelength\": 0}, \"hovertemplate\": \"FUSION=True<br>POOL_SIZE=%{x}<br>LongestChain=%{y}<br>Path=%{customdata[0]}\", \"legendgroup\": \"FUSION=True\", \"marker\": {\"color\": \"#636efa\"}, \"name\": \"FUSION=True\", \"notched\": false, \"offsetgroup\": \"FUSION=True\", \"orientation\": \"v\", \"showlegend\": true, \"type\": \"box\", \"x\": [\"10\", \"10\", \"10\", \"10\", \"10\", \"10\", \"10\", \"10\", \"10\", \"85\", \"85\", \"85\", \"85\", \"85\", \"85\", \"85\", \"85\", \"85\", \"160\", \"160\", \"160\", \"160\", \"160\", \"160\", \"160\", \"160\", \"160\", \"235\", \"235\", \"235\", \"235\", \"235\", \"235\", \"235\", \"235\", \"235\", \"310\", \"310\", \"310\", \"310\", \"310\", \"310\", \"310\", \"310\", \"310\", \"385\", \"385\", \"385\", \"385\", \"385\", \"385\", \"385\", \"385\", \"385\", \"460\", \"460\", \"460\", \"460\", \"460\", \"460\", \"460\", \"460\", \"460\", \"535\", \"535\", \"535\", \"535\", \"535\", \"535\", \"535\", \"535\", \"535\", \"610\", \"610\", \"610\", \"610\", \"610\", \"610\", \"610\", \"610\", \"610\", \"685\", \"685\", \"685\", \"685\", \"685\", \"685\", \"685\", \"685\", \"685\", \"760\", \"760\", \"760\", \"760\", \"760\", \"760\", \"760\", \"760\", \"760\", \"835\", \"835\", \"835\", \"835\", \"835\", \"835\", \"835\", \"835\", \"835\", \"910\", \"910\", \"910\", \"910\", \"910\", \"910\", \"910\", \"910\", \"910\", \"985\", \"985\", \"985\", \"985\", \"985\", \"985\", \"985\", \"985\", \"985\"], \"x0\": \" \", \"xaxis\": \"x\", \"y\": [4.0, 8.0, 6.0, 7.0, 6.0, 7.0, 4.0, 6.0, 5.0, 17.0, 17.0, 14.0, 12.0, 14.0, 14.0, 9.0, 28.0, 8.0, 19.0, 12.0, 11.0, 13.0, 12.0, 14.0, 7.0, 14.0, 11.0, 12.0, 10.0, 10.0, 27.0, 12.0, 18.0, 13.0, 16.0, 15.0, 13.0, 10.0, 13.0, 11.0, 17.0, 10.0, 11.0, 15.0, 19.0, 13.0, 10.0, 12.0, 17.0, 25.0, 12.0, 17.0, 18.0, 15.0, 18.0, 13.0, 11.0, 12.0, 15.0, 13.0, 11.0, 21.0, 9.0, 15.0, 16.0, 16.0, 15.0, 16.0, 12.0, 20.0, 15.0, 13.0, 12.0, 16.0, 19.0, 35.0, 19.0, 15.0, 15.0, 10.0, 16.0, 13.0, 14.0, 12.0, 16.0, 13.0, 18.0, 16.0, 15.0, 14.0, 15.0, 31.0, 14.0, 17.0, 14.0, 26.0, 11.0, 12.0, 12.0, 18.0, 15.0, 17.0, 16.0, 16.0, 9.0, 16.0, 16.0, 21.0, 14.0, 16.0, 13.0, 18.0, 12.0, 17.0, 13.0, 16.0, 13.0, 12.0, 18.0, 15.0, 21.0, 20.0, 18.0, 15.0, 19.0, 11.0], \"y0\": \" \", \"yaxis\": \"y\"}, {\"alignmentgroup\": \"True\", \"customdata\": [[\"/content/drive/Shared drives/Homochirality/vary_pool_fusion/batch1_2020-08-03_20:21:27.296110\"], [\"/content/drive/Shared drives/Homochirality/vary_pool_fusion/batch1_2020-08-03_20:21:27.363467\"], [\"/content/drive/Shared drives/Homochirality/vary_pool_fusion/batch1_2020-08-03_20:21:27.403066\"], [\"/content/drive/Shared drives/Homochirality/vary_pool_fusion/batch1_2020-08-03_20:21:27.557129\"], [\"/content/drive/Shared drives/Homochirality/vary_pool_fusion/batch1_2020-08-03_20:21:27.603579\"], [\"/content/drive/Shared drives/Homochirality/vary_pool_fusion/batch1_2020-08-03_20:21:27.641773\"], [\"/content/drive/Shared drives/Homochirality/vary_pool_fusion/batch1_2020-08-03_20:21:27.819721\"], [\"/content/drive/Shared drives/Homochirality/vary_pool_fusion/batch1_2020-08-03_20:21:27.858577\"], [\"/content/drive/Shared drives/Homochirality/vary_pool_fusion/batch1_2020-08-03_20:21:27.901500\"], [\"/content/drive/Shared drives/Homochirality/vary_pool_fusion/batch1_2020-08-03_20:21:28.301986\"], [\"/content/drive/Shared drives/Homochirality/vary_pool_fusion/batch1_2020-08-03_20:21:28.450458\"], [\"/content/drive/Shared drives/Homochirality/vary_pool_fusion/batch1_2020-08-03_20:21:28.578394\"], [\"/content/drive/Shared drives/Homochirality/vary_pool_fusion/batch1_2020-08-03_20:21:29.029728\"], [\"/content/drive/Shared drives/Homochirality/vary_pool_fusion/batch1_2020-08-03_20:21:29.160609\"], [\"/content/drive/Shared drives/Homochirality/vary_pool_fusion/batch1_2020-08-03_20:21:29.290598\"], [\"/content/drive/Shared drives/Homochirality/vary_pool_fusion/batch1_2020-08-03_20:21:29.755769\"], [\"/content/drive/Shared drives/Homochirality/vary_pool_fusion/batch1_2020-08-03_20:21:29.891709\"], [\"/content/drive/Shared drives/Homochirality/vary_pool_fusion/batch1_2020-08-03_20:21:30.022641\"], [\"/content/drive/Shared drives/Homochirality/vary_pool_fusion/batch1_2020-08-03_20:21:30.710123\"], [\"/content/drive/Shared drives/Homochirality/vary_pool_fusion/batch1_2020-08-03_20:21:30.966033\"], [\"/content/drive/Shared drives/Homochirality/vary_pool_fusion/batch1_2020-08-03_20:21:31.189256\"], [\"/content/drive/Shared drives/Homochirality/vary_pool_fusion/batch1_2020-08-03_20:21:32.008092\"], [\"/content/drive/Shared drives/Homochirality/vary_pool_fusion/batch1_2020-08-03_20:21:32.253665\"], [\"/content/drive/Shared drives/Homochirality/vary_pool_fusion/batch1_2020-08-03_20:21:32.492800\"], [\"/content/drive/Shared drives/Homochirality/vary_pool_fusion/batch1_2020-08-03_20:21:33.237298\"], [\"/content/drive/Shared drives/Homochirality/vary_pool_fusion/batch1_2020-08-03_20:21:33.475428\"], [\"/content/drive/Shared drives/Homochirality/vary_pool_fusion/batch1_2020-08-03_20:21:33.761304\"], [\"/content/drive/Shared drives/Homochirality/vary_pool_fusion/batch1_2020-08-03_20:21:34.808774\"], [\"/content/drive/Shared drives/Homochirality/vary_pool_fusion/batch1_2020-08-03_20:21:35.162731\"], [\"/content/drive/Shared drives/Homochirality/vary_pool_fusion/batch1_2020-08-03_20:21:35.483824\"], [\"/content/drive/Shared drives/Homochirality/vary_pool_fusion/batch1_2020-08-03_20:21:36.607452\"], [\"/content/drive/Shared drives/Homochirality/vary_pool_fusion/batch1_2020-08-03_20:21:37.022633\"], [\"/content/drive/Shared drives/Homochirality/vary_pool_fusion/batch1_2020-08-03_20:21:37.501116\"], [\"/content/drive/Shared drives/Homochirality/vary_pool_fusion/batch1_2020-08-03_20:21:38.810474\"], [\"/content/drive/Shared drives/Homochirality/vary_pool_fusion/batch1_2020-08-03_20:21:39.207097\"], [\"/content/drive/Shared drives/Homochirality/vary_pool_fusion/batch1_2020-08-03_20:21:39.685805\"], [\"/content/drive/Shared drives/Homochirality/vary_pool_fusion/batch1_2020-08-03_20:21:41.149167\"], [\"/content/drive/Shared drives/Homochirality/vary_pool_fusion/batch1_2020-08-03_20:21:41.618082\"], [\"/content/drive/Shared drives/Homochirality/vary_pool_fusion/batch1_2020-08-03_20:21:42.072210\"], [\"/content/drive/Shared drives/Homochirality/vary_pool_fusion/batch1_2020-08-03_20:21:43.817555\"], [\"/content/drive/Shared drives/Homochirality/vary_pool_fusion/batch1_2020-08-03_20:21:44.324625\"], [\"/content/drive/Shared drives/Homochirality/vary_pool_fusion/batch1_2020-08-03_20:21:44.793032\"], [\"/content/drive/Shared drives/Homochirality/vary_pool_fusion/batch1_2020-08-03_20:21:46.339176\"], [\"/content/drive/Shared drives/Homochirality/vary_pool_fusion/batch1_2020-08-03_20:21:46.843481\"], [\"/content/drive/Shared drives/Homochirality/vary_pool_fusion/batch1_2020-08-03_20:21:47.448830\"], [\"/content/drive/Shared drives/Homochirality/vary_pool_fusion/batch1_2020-08-03_20:21:49.300152\"], [\"/content/drive/Shared drives/Homochirality/vary_pool_fusion/batch1_2020-08-03_20:21:49.857687\"], [\"/content/drive/Shared drives/Homochirality/vary_pool_fusion/batch1_2020-08-03_20:21:50.483680\"], [\"/content/drive/Shared drives/Homochirality/vary_pool_fusion/batch1_2020-08-03_20:21:52.481629\"], [\"/content/drive/Shared drives/Homochirality/vary_pool_fusion/batch1_2020-08-03_20:21:53.085802\"], [\"/content/drive/Shared drives/Homochirality/vary_pool_fusion/batch1_2020-08-03_20:21:53.765198\"], [\"/content/drive/Shared drives/Homochirality/vary_pool_fusion/batch1_2020-08-03_20:21:55.502999\"], [\"/content/drive/Shared drives/Homochirality/vary_pool_fusion/batch1_2020-08-03_20:21:56.105050\"], [\"/content/drive/Shared drives/Homochirality/vary_pool_fusion/batch1_2020-08-03_20:21:56.821548\"], [\"/content/drive/Shared drives/Homochirality/vary_pool_fusion/batch1_2020-08-03_20:21:59.040633\"], [\"/content/drive/Shared drives/Homochirality/vary_pool_fusion/batch1_2020-08-03_20:21:59.793103\"], [\"/content/drive/Shared drives/Homochirality/vary_pool_fusion/batch1_2020-08-03_20:22:00.528524\"], [\"/content/drive/Shared drives/Homochirality/vary_pool_fusion/batch1_2020-08-03_20:22:02.657661\"], [\"/content/drive/Shared drives/Homochirality/vary_pool_fusion/batch1_2020-08-03_20:22:03.291371\"], [\"/content/drive/Shared drives/Homochirality/vary_pool_fusion/batch1_2020-08-03_20:22:03.972008\"], [\"/content/drive/Shared drives/Homochirality/vary_pool_fusion/batch1_2020-08-03_20:22:06.059878\"], [\"/content/drive/Shared drives/Homochirality/vary_pool_fusion/batch1_2020-08-03_20:22:06.777722\"], [\"/content/drive/Shared drives/Homochirality/vary_pool_fusion/batch1_2020-08-03_20:22:07.558560\"], [\"/content/drive/Shared drives/Homochirality/vary_pool_fusion/batch1_2020-08-03_20:22:09.891126\"], [\"/content/drive/Shared drives/Homochirality/vary_pool_fusion/batch1_2020-08-03_20:22:10.675192\"], [\"/content/drive/Shared drives/Homochirality/vary_pool_fusion/batch1_2020-08-03_20:22:11.477091\"], [\"/content/drive/Shared drives/Homochirality/vary_pool_fusion/batch1_2020-08-03_20:22:13.949230\"], [\"/content/drive/Shared drives/Homochirality/vary_pool_fusion/batch1_2020-08-03_20:22:14.923378\"], [\"/content/drive/Shared drives/Homochirality/vary_pool_fusion/batch1_2020-08-03_20:22:15.717292\"], [\"/content/drive/Shared drives/Homochirality/vary_pool_fusion/batch1_2020-08-03_20:22:18.094537\"], [\"/content/drive/Shared drives/Homochirality/vary_pool_fusion/batch1_2020-08-03_20:22:18.889147\"], [\"/content/drive/Shared drives/Homochirality/vary_pool_fusion/batch1_2020-08-03_20:22:19.782754\"], [\"/content/drive/Shared drives/Homochirality/vary_pool_fusion/batch1_2020-08-03_20:22:22.184668\"], [\"/content/drive/Shared drives/Homochirality/vary_pool_fusion/batch1_2020-08-03_20:22:23.430144\"], [\"/content/drive/Shared drives/Homochirality/vary_pool_fusion/batch1_2020-08-03_20:22:24.349664\"], [\"/content/drive/Shared drives/Homochirality/vary_pool_fusion/batch1_2020-08-03_20:22:27.114192\"], [\"/content/drive/Shared drives/Homochirality/vary_pool_fusion/batch1_2020-08-03_20:22:28.167403\"], [\"/content/drive/Shared drives/Homochirality/vary_pool_fusion/batch1_2020-08-03_20:22:29.050562\"], [\"/content/drive/Shared drives/Homochirality/vary_pool_fusion/batch1_2020-08-03_20:22:31.602690\"], [\"/content/drive/Shared drives/Homochirality/vary_pool_fusion/batch1_2020-08-03_20:22:32.565010\"], [\"/content/drive/Shared drives/Homochirality/vary_pool_fusion/batch1_2020-08-03_20:22:33.478905\"], [\"/content/drive/Shared drives/Homochirality/vary_pool_fusion/batch1_2020-08-03_20:22:36.565380\"], [\"/content/drive/Shared drives/Homochirality/vary_pool_fusion/batch1_2020-08-03_20:22:37.555612\"], [\"/content/drive/Shared drives/Homochirality/vary_pool_fusion/batch1_2020-08-03_20:22:38.644817\"], [\"/content/drive/Shared drives/Homochirality/vary_pool_fusion/batch1_2020-08-03_20:22:42.137521\"], [\"/content/drive/Shared drives/Homochirality/vary_pool_fusion/batch1_2020-08-03_20:22:44.029605\"], [\"/content/drive/Shared drives/Homochirality/vary_pool_fusion/batch1_2020-08-03_20:22:46.052727\"], [\"/content/drive/Shared drives/Homochirality/vary_pool_fusion/batch1_2020-08-03_20:22:50.013468\"], [\"/content/drive/Shared drives/Homochirality/vary_pool_fusion/batch1_2020-08-03_20:22:51.118843\"], [\"/content/drive/Shared drives/Homochirality/vary_pool_fusion/batch1_2020-08-03_20:22:52.181546\"], [\"/content/drive/Shared drives/Homochirality/vary_pool_fusion/batch1_2020-08-03_20:22:55.450682\"], [\"/content/drive/Shared drives/Homochirality/vary_pool_fusion/batch1_2020-08-03_20:22:56.781666\"], [\"/content/drive/Shared drives/Homochirality/vary_pool_fusion/batch1_2020-08-03_20:22:57.993288\"], [\"/content/drive/Shared drives/Homochirality/vary_pool_fusion/batch1_2020-08-03_20:23:01.464115\"], [\"/content/drive/Shared drives/Homochirality/vary_pool_fusion/batch1_2020-08-03_20:23:02.737477\"], [\"/content/drive/Shared drives/Homochirality/vary_pool_fusion/batch1_2020-08-03_20:23:04.185320\"], [\"/content/drive/Shared drives/Homochirality/vary_pool_fusion/batch1_2020-08-03_20:23:07.651728\"], [\"/content/drive/Shared drives/Homochirality/vary_pool_fusion/batch1_2020-08-03_20:23:08.850497\"], [\"/content/drive/Shared drives/Homochirality/vary_pool_fusion/batch1_2020-08-03_20:23:10.166083\"], [\"/content/drive/Shared drives/Homochirality/vary_pool_fusion/batch1_2020-08-03_20:23:13.734425\"], [\"/content/drive/Shared drives/Homochirality/vary_pool_fusion/batch1_2020-08-03_20:23:15.146504\"], [\"/content/drive/Shared drives/Homochirality/vary_pool_fusion/batch1_2020-08-03_20:23:16.495416\"], [\"/content/drive/Shared drives/Homochirality/vary_pool_fusion/batch1_2020-08-03_20:23:20.121396\"], [\"/content/drive/Shared drives/Homochirality/vary_pool_fusion/batch1_2020-08-03_20:23:21.434321\"], [\"/content/drive/Shared drives/Homochirality/vary_pool_fusion/batch1_2020-08-03_20:23:22.919066\"], [\"/content/drive/Shared drives/Homochirality/vary_pool_fusion/batch1_2020-08-03_20:23:26.652393\"], [\"/content/drive/Shared drives/Homochirality/vary_pool_fusion/batch1_2020-08-03_20:23:28.000457\"], [\"/content/drive/Shared drives/Homochirality/vary_pool_fusion/batch1_2020-08-03_20:23:29.250716\"], [\"/content/drive/Shared drives/Homochirality/vary_pool_fusion/batch1_2020-08-03_20:23:32.807229\"], [\"/content/drive/Shared drives/Homochirality/vary_pool_fusion/batch1_2020-08-03_20:23:34.337918\"], [\"/content/drive/Shared drives/Homochirality/vary_pool_fusion/batch1_2020-08-03_20:23:35.902680\"], [\"/content/drive/Shared drives/Homochirality/vary_pool_fusion/batch1_2020-08-03_20:23:39.749541\"], [\"/content/drive/Shared drives/Homochirality/vary_pool_fusion/batch1_2020-08-03_20:23:41.264029\"], [\"/content/drive/Shared drives/Homochirality/vary_pool_fusion/batch1_2020-08-03_20:23:42.656139\"], [\"/content/drive/Shared drives/Homochirality/vary_pool_fusion/batch1_2020-08-03_20:23:46.548107\"], [\"/content/drive/Shared drives/Homochirality/vary_pool_fusion/batch1_2020-08-03_20:23:47.908611\"], [\"/content/drive/Shared drives/Homochirality/vary_pool_fusion/batch1_2020-08-03_20:23:49.435795\"], [\"/content/drive/Shared drives/Homochirality/vary_pool_fusion/batch1_2020-08-03_20:23:53.584081\"], [\"/content/drive/Shared drives/Homochirality/vary_pool_fusion/batch1_2020-08-03_20:23:55.102677\"], [\"/content/drive/Shared drives/Homochirality/vary_pool_fusion/batch1_2020-08-03_20:23:56.724820\"], [\"/content/drive/Shared drives/Homochirality/vary_pool_fusion/batch1_2020-08-03_20:24:01.201825\"], [\"/content/drive/Shared drives/Homochirality/vary_pool_fusion/batch1_2020-08-03_20:24:02.825469\"], [\"/content/drive/Shared drives/Homochirality/vary_pool_fusion/batch1_2020-08-03_20:24:04.425911\"], [\"/content/drive/Shared drives/Homochirality/vary_pool_fusion/batch1_2020-08-03_20:24:08.503503\"], [\"/content/drive/Shared drives/Homochirality/vary_pool_fusion/batch1_2020-08-03_20:24:10.176532\"], [\"/content/drive/Shared drives/Homochirality/vary_pool_fusion/batch1_2020-08-03_20:24:11.890815\"]], \"hoverlabel\": {\"namelength\": 0}, \"hovertemplate\": \"FUSION=False<br>POOL_SIZE=%{x}<br>LongestChain=%{y}<br>Path=%{customdata[0]}\", \"legendgroup\": \"FUSION=False\", \"marker\": {\"color\": \"#EF553B\"}, \"name\": \"FUSION=False\", \"notched\": false, \"offsetgroup\": \"FUSION=False\", \"orientation\": \"v\", \"showlegend\": true, \"type\": \"box\", \"x\": [\"10\", \"10\", \"10\", \"10\", \"10\", \"10\", \"10\", \"10\", \"10\", \"85\", \"85\", \"85\", \"85\", \"85\", \"85\", \"85\", \"85\", \"85\", \"160\", \"160\", \"160\", \"160\", \"160\", \"160\", \"160\", \"160\", \"160\", \"235\", \"235\", \"235\", \"235\", \"235\", \"235\", \"235\", \"235\", \"235\", \"310\", \"310\", \"310\", \"310\", \"310\", \"310\", \"310\", \"310\", \"310\", \"385\", \"385\", \"385\", \"385\", \"385\", \"385\", \"385\", \"385\", \"385\", \"460\", \"460\", \"460\", \"460\", \"460\", \"460\", \"460\", \"460\", \"460\", \"535\", \"535\", \"535\", \"535\", \"535\", \"535\", \"535\", \"535\", \"535\", \"610\", \"610\", \"610\", \"610\", \"610\", \"610\", \"610\", \"610\", \"610\", \"685\", \"685\", \"685\", \"685\", \"685\", \"685\", \"685\", \"685\", \"685\", \"760\", \"760\", \"760\", \"760\", \"760\", \"760\", \"760\", \"760\", \"760\", \"835\", \"835\", \"835\", \"835\", \"835\", \"835\", \"835\", \"835\", \"835\", \"910\", \"910\", \"910\", \"910\", \"910\", \"910\", \"910\", \"910\", \"910\", \"985\", \"985\", \"985\", \"985\", \"985\", \"985\", \"985\", \"985\", \"985\"], \"x0\": \" \", \"xaxis\": \"x\", \"y\": [4.0, 4.0, 5.0, 4.0, 4.0, 7.0, 5.0, 4.0, 3.0, 9.0, 8.0, 11.0, 7.0, 7.0, 8.0, 7.0, 9.0, 7.0, 9.0, 9.0, 9.0, 11.0, 7.0, 11.0, 9.0, 8.0, 9.0, 8.0, 8.0, 7.0, 10.0, 9.0, 10.0, 9.0, 11.0, 8.0, 10.0, 10.0, 10.0, 9.0, 8.0, 12.0, 9.0, 9.0, 8.0, 9.0, 12.0, 9.0, 10.0, 12.0, 9.0, 7.0, 12.0, 9.0, 9.0, 8.0, 13.0, 8.0, 10.0, 10.0, 12.0, 11.0, 10.0, 9.0, 10.0, 9.0, 9.0, 8.0, 9.0, 11.0, 9.0, 11.0, 9.0, 9.0, 12.0, 9.0, 12.0, 10.0, 10.0, 10.0, 8.0, 10.0, 9.0, 10.0, 10.0, 10.0, 12.0, 11.0, 10.0, 11.0, 12.0, 9.0, 11.0, 8.0, 12.0, 12.0, 10.0, 10.0, 9.0, 11.0, 10.0, 10.0, 12.0, 13.0, 10.0, 11.0, 10.0, 12.0, 11.0, 10.0, 10.0, 9.0, 9.0, 10.0, 10.0, 10.0, 9.0, 10.0, 10.0, 11.0, 10.0, 12.0, 11.0, 12.0, 12.0, 10.0], \"y0\": \" \", \"yaxis\": \"y\"}],\n",
              "                        {\"boxmode\": \"group\", \"legend\": {\"tracegroupgap\": 0}, \"margin\": {\"t\": 60}, \"template\": {\"data\": {\"bar\": [{\"error_x\": {\"color\": \"#2a3f5f\"}, \"error_y\": {\"color\": \"#2a3f5f\"}, \"marker\": {\"line\": {\"color\": \"#E5ECF6\", \"width\": 0.5}}, \"type\": \"bar\"}], \"barpolar\": [{\"marker\": {\"line\": {\"color\": \"#E5ECF6\", \"width\": 0.5}}, \"type\": \"barpolar\"}], \"carpet\": [{\"aaxis\": {\"endlinecolor\": \"#2a3f5f\", \"gridcolor\": \"white\", \"linecolor\": \"white\", \"minorgridcolor\": \"white\", \"startlinecolor\": \"#2a3f5f\"}, \"baxis\": {\"endlinecolor\": \"#2a3f5f\", \"gridcolor\": \"white\", \"linecolor\": \"white\", \"minorgridcolor\": \"white\", \"startlinecolor\": \"#2a3f5f\"}, \"type\": \"carpet\"}], \"choropleth\": [{\"colorbar\": {\"outlinewidth\": 0, \"ticks\": \"\"}, \"type\": \"choropleth\"}], \"contour\": [{\"colorbar\": {\"outlinewidth\": 0, \"ticks\": \"\"}, \"colorscale\": [[0.0, \"#0d0887\"], [0.1111111111111111, \"#46039f\"], [0.2222222222222222, \"#7201a8\"], [0.3333333333333333, \"#9c179e\"], [0.4444444444444444, \"#bd3786\"], [0.5555555555555556, \"#d8576b\"], [0.6666666666666666, \"#ed7953\"], [0.7777777777777778, \"#fb9f3a\"], [0.8888888888888888, \"#fdca26\"], [1.0, \"#f0f921\"]], \"type\": \"contour\"}], \"contourcarpet\": [{\"colorbar\": {\"outlinewidth\": 0, \"ticks\": \"\"}, \"type\": \"contourcarpet\"}], \"heatmap\": [{\"colorbar\": {\"outlinewidth\": 0, \"ticks\": \"\"}, \"colorscale\": [[0.0, \"#0d0887\"], [0.1111111111111111, \"#46039f\"], [0.2222222222222222, \"#7201a8\"], [0.3333333333333333, \"#9c179e\"], [0.4444444444444444, \"#bd3786\"], [0.5555555555555556, \"#d8576b\"], [0.6666666666666666, \"#ed7953\"], [0.7777777777777778, \"#fb9f3a\"], [0.8888888888888888, \"#fdca26\"], [1.0, \"#f0f921\"]], \"type\": \"heatmap\"}], \"heatmapgl\": [{\"colorbar\": {\"outlinewidth\": 0, \"ticks\": \"\"}, \"colorscale\": [[0.0, \"#0d0887\"], [0.1111111111111111, \"#46039f\"], [0.2222222222222222, \"#7201a8\"], [0.3333333333333333, \"#9c179e\"], [0.4444444444444444, \"#bd3786\"], [0.5555555555555556, \"#d8576b\"], [0.6666666666666666, \"#ed7953\"], [0.7777777777777778, \"#fb9f3a\"], [0.8888888888888888, \"#fdca26\"], [1.0, \"#f0f921\"]], \"type\": \"heatmapgl\"}], \"histogram\": [{\"marker\": {\"colorbar\": {\"outlinewidth\": 0, \"ticks\": \"\"}}, \"type\": \"histogram\"}], \"histogram2d\": [{\"colorbar\": {\"outlinewidth\": 0, \"ticks\": \"\"}, \"colorscale\": [[0.0, \"#0d0887\"], [0.1111111111111111, \"#46039f\"], [0.2222222222222222, \"#7201a8\"], [0.3333333333333333, \"#9c179e\"], [0.4444444444444444, \"#bd3786\"], [0.5555555555555556, \"#d8576b\"], [0.6666666666666666, \"#ed7953\"], [0.7777777777777778, \"#fb9f3a\"], [0.8888888888888888, \"#fdca26\"], [1.0, \"#f0f921\"]], \"type\": \"histogram2d\"}], \"histogram2dcontour\": [{\"colorbar\": {\"outlinewidth\": 0, \"ticks\": \"\"}, \"colorscale\": [[0.0, \"#0d0887\"], [0.1111111111111111, \"#46039f\"], [0.2222222222222222, \"#7201a8\"], [0.3333333333333333, \"#9c179e\"], [0.4444444444444444, \"#bd3786\"], [0.5555555555555556, \"#d8576b\"], [0.6666666666666666, \"#ed7953\"], [0.7777777777777778, \"#fb9f3a\"], [0.8888888888888888, \"#fdca26\"], [1.0, \"#f0f921\"]], \"type\": \"histogram2dcontour\"}], \"mesh3d\": [{\"colorbar\": {\"outlinewidth\": 0, \"ticks\": \"\"}, \"type\": \"mesh3d\"}], \"parcoords\": [{\"line\": {\"colorbar\": {\"outlinewidth\": 0, \"ticks\": \"\"}}, \"type\": \"parcoords\"}], \"pie\": [{\"automargin\": true, \"type\": \"pie\"}], \"scatter\": [{\"marker\": {\"colorbar\": {\"outlinewidth\": 0, \"ticks\": \"\"}}, \"type\": \"scatter\"}], \"scatter3d\": [{\"line\": {\"colorbar\": {\"outlinewidth\": 0, \"ticks\": \"\"}}, \"marker\": {\"colorbar\": {\"outlinewidth\": 0, \"ticks\": \"\"}}, \"type\": \"scatter3d\"}], \"scattercarpet\": [{\"marker\": {\"colorbar\": {\"outlinewidth\": 0, \"ticks\": \"\"}}, \"type\": \"scattercarpet\"}], \"scattergeo\": [{\"marker\": {\"colorbar\": {\"outlinewidth\": 0, \"ticks\": \"\"}}, \"type\": \"scattergeo\"}], \"scattergl\": [{\"marker\": {\"colorbar\": {\"outlinewidth\": 0, \"ticks\": \"\"}}, \"type\": \"scattergl\"}], \"scattermapbox\": [{\"marker\": {\"colorbar\": {\"outlinewidth\": 0, \"ticks\": \"\"}}, \"type\": \"scattermapbox\"}], \"scatterpolar\": [{\"marker\": {\"colorbar\": {\"outlinewidth\": 0, \"ticks\": \"\"}}, \"type\": \"scatterpolar\"}], \"scatterpolargl\": [{\"marker\": {\"colorbar\": {\"outlinewidth\": 0, \"ticks\": \"\"}}, \"type\": \"scatterpolargl\"}], \"scatterternary\": [{\"marker\": {\"colorbar\": {\"outlinewidth\": 0, \"ticks\": \"\"}}, \"type\": \"scatterternary\"}], \"surface\": [{\"colorbar\": {\"outlinewidth\": 0, \"ticks\": \"\"}, \"colorscale\": [[0.0, \"#0d0887\"], [0.1111111111111111, \"#46039f\"], [0.2222222222222222, \"#7201a8\"], [0.3333333333333333, \"#9c179e\"], [0.4444444444444444, \"#bd3786\"], [0.5555555555555556, \"#d8576b\"], [0.6666666666666666, \"#ed7953\"], [0.7777777777777778, \"#fb9f3a\"], [0.8888888888888888, \"#fdca26\"], [1.0, \"#f0f921\"]], \"type\": \"surface\"}], \"table\": [{\"cells\": {\"fill\": {\"color\": \"#EBF0F8\"}, \"line\": {\"color\": \"white\"}}, \"header\": {\"fill\": {\"color\": \"#C8D4E3\"}, \"line\": {\"color\": \"white\"}}, \"type\": \"table\"}]}, \"layout\": {\"annotationdefaults\": {\"arrowcolor\": \"#2a3f5f\", \"arrowhead\": 0, \"arrowwidth\": 1}, \"coloraxis\": {\"colorbar\": {\"outlinewidth\": 0, \"ticks\": \"\"}}, \"colorscale\": {\"diverging\": [[0, \"#8e0152\"], [0.1, \"#c51b7d\"], [0.2, \"#de77ae\"], [0.3, \"#f1b6da\"], [0.4, \"#fde0ef\"], [0.5, \"#f7f7f7\"], [0.6, \"#e6f5d0\"], [0.7, \"#b8e186\"], [0.8, \"#7fbc41\"], [0.9, \"#4d9221\"], [1, \"#276419\"]], \"sequential\": [[0.0, \"#0d0887\"], [0.1111111111111111, \"#46039f\"], [0.2222222222222222, \"#7201a8\"], [0.3333333333333333, \"#9c179e\"], [0.4444444444444444, \"#bd3786\"], [0.5555555555555556, \"#d8576b\"], [0.6666666666666666, \"#ed7953\"], [0.7777777777777778, \"#fb9f3a\"], [0.8888888888888888, \"#fdca26\"], [1.0, \"#f0f921\"]], \"sequentialminus\": [[0.0, \"#0d0887\"], [0.1111111111111111, \"#46039f\"], [0.2222222222222222, \"#7201a8\"], [0.3333333333333333, \"#9c179e\"], [0.4444444444444444, \"#bd3786\"], [0.5555555555555556, \"#d8576b\"], [0.6666666666666666, \"#ed7953\"], [0.7777777777777778, \"#fb9f3a\"], [0.8888888888888888, \"#fdca26\"], [1.0, \"#f0f921\"]]}, \"colorway\": [\"#636efa\", \"#EF553B\", \"#00cc96\", \"#ab63fa\", \"#FFA15A\", \"#19d3f3\", \"#FF6692\", \"#B6E880\", \"#FF97FF\", \"#FECB52\"], \"font\": {\"color\": \"#2a3f5f\"}, \"geo\": {\"bgcolor\": \"white\", \"lakecolor\": \"white\", \"landcolor\": \"#E5ECF6\", \"showlakes\": true, \"showland\": true, \"subunitcolor\": \"white\"}, \"hoverlabel\": {\"align\": \"left\"}, \"hovermode\": \"closest\", \"mapbox\": {\"style\": \"light\"}, \"paper_bgcolor\": \"white\", \"plot_bgcolor\": \"#E5ECF6\", \"polar\": {\"angularaxis\": {\"gridcolor\": \"white\", \"linecolor\": \"white\", \"ticks\": \"\"}, \"bgcolor\": \"#E5ECF6\", \"radialaxis\": {\"gridcolor\": \"white\", \"linecolor\": \"white\", \"ticks\": \"\"}}, \"scene\": {\"xaxis\": {\"backgroundcolor\": \"#E5ECF6\", \"gridcolor\": \"white\", \"gridwidth\": 2, \"linecolor\": \"white\", \"showbackground\": true, \"ticks\": \"\", \"zerolinecolor\": \"white\"}, \"yaxis\": {\"backgroundcolor\": \"#E5ECF6\", \"gridcolor\": \"white\", \"gridwidth\": 2, \"linecolor\": \"white\", \"showbackground\": true, \"ticks\": \"\", \"zerolinecolor\": \"white\"}, \"zaxis\": {\"backgroundcolor\": \"#E5ECF6\", \"gridcolor\": \"white\", \"gridwidth\": 2, \"linecolor\": \"white\", \"showbackground\": true, \"ticks\": \"\", \"zerolinecolor\": \"white\"}}, \"shapedefaults\": {\"line\": {\"color\": \"#2a3f5f\"}}, \"ternary\": {\"aaxis\": {\"gridcolor\": \"white\", \"linecolor\": \"white\", \"ticks\": \"\"}, \"baxis\": {\"gridcolor\": \"white\", \"linecolor\": \"white\", \"ticks\": \"\"}, \"bgcolor\": \"#E5ECF6\", \"caxis\": {\"gridcolor\": \"white\", \"linecolor\": \"white\", \"ticks\": \"\"}}, \"title\": {\"x\": 0.05}, \"xaxis\": {\"automargin\": true, \"gridcolor\": \"white\", \"linecolor\": \"white\", \"ticks\": \"\", \"title\": {\"standoff\": 15}, \"zerolinecolor\": \"white\", \"zerolinewidth\": 2}, \"yaxis\": {\"automargin\": true, \"gridcolor\": \"white\", \"linecolor\": \"white\", \"ticks\": \"\", \"title\": {\"standoff\": 15}, \"zerolinecolor\": \"white\", \"zerolinewidth\": 2}}}, \"xaxis\": {\"anchor\": \"y\", \"domain\": [0.0, 1.0], \"title\": {\"text\": \"POOL_SIZE\"}}, \"yaxis\": {\"anchor\": \"x\", \"domain\": [0.0, 1.0], \"title\": {\"text\": \"LongestChain\"}}},\n",
              "                        {\"responsive\": true}\n",
              "                    ).then(function(){\n",
              "                            \n",
              "var gd = document.getElementById('7201cc8c-6b13-4a5d-bdd3-c463a0b4d2d3');\n",
              "var x = new MutationObserver(function (mutations, observer) {{\n",
              "        var display = window.getComputedStyle(gd).display;\n",
              "        if (!display || display === 'none') {{\n",
              "            console.log([gd, 'removed!']);\n",
              "            Plotly.purge(gd);\n",
              "            observer.disconnect();\n",
              "        }}\n",
              "}});\n",
              "\n",
              "// Listen for the removal of the full notebook cells\n",
              "var notebookContainer = gd.closest('#notebook-container');\n",
              "if (notebookContainer) {{\n",
              "    x.observe(notebookContainer, {childList: true});\n",
              "}}\n",
              "\n",
              "// Listen for the clearing of the current output cell\n",
              "var outputEl = gd.closest('.output');\n",
              "if (outputEl) {{\n",
              "    x.observe(outputEl, {childList: true});\n",
              "}}\n",
              "\n",
              "                        })\n",
              "                };\n",
              "                \n",
              "            </script>\n",
              "        </div>\n",
              "</body>\n",
              "</html>"
            ]
          },
          "metadata": {
            "tags": []
          }
        }
      ]
    },
    {
      "cell_type": "code",
      "metadata": {
        "id": "O0r-dzWBJtzN",
        "colab_type": "code",
        "cellView": "form",
        "colab": {
          "resources": {
            "http://localhost:8080/nbextensions/google.colab/tabbar.css": {
              "data": "Lmdvb2ctdGFie3Bvc2l0aW9uOnJlbGF0aXZlO3BhZGRpbmc6NHB4IDhweDtjb2xvcjojMDBjO3RleHQtZGVjb3JhdGlvbjp1bmRlcmxpbmU7Y3Vyc29yOmRlZmF1bHR9Lmdvb2ctdGFiLWJhci10b3AgLmdvb2ctdGFie21hcmdpbjoxcHggNHB4IDAgMDtib3JkZXItYm90dG9tOjA7ZmxvYXQ6bGVmdH0uZ29vZy10YWItYmFyLXRvcDphZnRlciwuZ29vZy10YWItYmFyLWJvdHRvbTphZnRlcntjb250ZW50OiIgIjtkaXNwbGF5OmJsb2NrO2hlaWdodDowO2NsZWFyOmJvdGg7dmlzaWJpbGl0eTpoaWRkZW59Lmdvb2ctdGFiLWJhci1ib3R0b20gLmdvb2ctdGFie21hcmdpbjowIDRweCAxcHggMDtib3JkZXItdG9wOjA7ZmxvYXQ6bGVmdH0uZ29vZy10YWItYmFyLXN0YXJ0IC5nb29nLXRhYnttYXJnaW46MCAwIDRweCAxcHg7Ym9yZGVyLXJpZ2h0OjB9Lmdvb2ctdGFiLWJhci1lbmQgLmdvb2ctdGFie21hcmdpbjowIDFweCA0cHggMDtib3JkZXItbGVmdDowfS5nb29nLXRhYi1ob3ZlcntiYWNrZ3JvdW5kOiNlZWV9Lmdvb2ctdGFiLWRpc2FibGVke2NvbG9yOiM2NjZ9Lmdvb2ctdGFiLXNlbGVjdGVke2NvbG9yOiMwMDA7YmFja2dyb3VuZDojZmZmO3RleHQtZGVjb3JhdGlvbjpub25lO2ZvbnQtd2VpZ2h0OmJvbGQ7Ym9yZGVyOjFweCBzb2xpZCAjNmI5MGRhfS5nb29nLXRhYi1iYXItdG9we3BhZGRpbmctdG9wOjVweCFpbXBvcnRhbnQ7cGFkZGluZy1sZWZ0OjVweCFpbXBvcnRhbnQ7Ym9yZGVyLWJvdHRvbToxcHggc29saWQgIzZiOTBkYSFpbXBvcnRhbnR9Lmdvb2ctdGFiLWJhci10b3AgLmdvb2ctdGFiLXNlbGVjdGVke3RvcDoxcHg7bWFyZ2luLXRvcDowO3BhZGRpbmctYm90dG9tOjVweH0uZ29vZy10YWItYmFyLWJvdHRvbSAuZ29vZy10YWItc2VsZWN0ZWR7dG9wOi0xcHg7bWFyZ2luLWJvdHRvbTowO3BhZGRpbmctdG9wOjVweH0uZ29vZy10YWItYmFyLXN0YXJ0IC5nb29nLXRhYi1zZWxlY3RlZHtsZWZ0OjFweDttYXJnaW4tbGVmdDowO3BhZGRpbmctcmlnaHQ6OXB4fS5nb29nLXRhYi1iYXItZW5kIC5nb29nLXRhYi1zZWxlY3RlZHtsZWZ0Oi0xcHg7bWFyZ2luLXJpZ2h0OjA7cGFkZGluZy1sZWZ0OjlweH0uZ29vZy10YWItYmFye21hcmdpbjowO2JvcmRlcjowO3BhZGRpbmc6MDtsaXN0LXN0eWxlOm5vbmU7Y3Vyc29yOmRlZmF1bHQ7b3V0bGluZTpub25lO2JhY2tncm91bmQ6I2ViZWZmOX0uZ29vZy10YWItYmFyLWNsZWFye2NsZWFyOmJvdGg7aGVpZ2h0OjA7b3ZlcmZsb3c6aGlkZGVufS5nb29nLXRhYi1iYXItc3RhcnR7ZmxvYXQ6bGVmdH0uZ29vZy10YWItYmFyLWVuZHtmbG9hdDpyaWdodH0qIGh0bWwgLmdvb2ctdGFiLWJhci1zdGFydHttYXJnaW4tcmlnaHQ6LTNweH0qIGh0bWwgLmdvb2ctdGFiLWJhci1lbmR7bWFyZ2luLWxlZnQ6LTNweH0=",
              "ok": true,
              "headers": [
                [
                  "content-type",
                  "text/css"
                ]
              ],
              "status": 200,
              "status_text": ""
            },
            "http://localhost:8080/nbextensions/google.colab/tabbar_main.min.js": {
              "data": "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",
              "ok": true,
              "headers": [
                [
                  "content-type",
                  "application/javascript"
                ]
              ],
              "status": 200,
              "status_text": ""
            }
          },
          "base_uri": "https://localhost:8080/",
          "height": 885,
          "referenced_widgets": [
            "f2e536d5db6a4e0f84231ca9109400a3",
            "405e85e3d5fb4671a58caacbd1b39bff",
            "48f98d490d434b3c9f432491069f2200",
            "33aed49a01e84cd7a92d2cfabb5853ab",
            "8b7c1d53d75a4b2badc8ebc99a037469",
            "a9db0f5e6f2b4310adc11bfa66e327f5",
            "b140af70ff6f47cab19d05625711ec8f",
            "897939ffaa2b4c2b821ed9ce291ef7af",
            "747a0832c4b64386acde1dbae3d28a07",
            "4b9f775f202743d3baa1792cfcd90eb7",
            "b6683c4a74a048519624c8d97089ec37",
            "eca811cfbb9a4e2e8fdc9a7bcab38383",
            "c5c77a4dc8b844f5bb5caa2d5da9bd81",
            "5dfd2639f6cc4655ab07251969bc809a",
            "f086e7e2c35143119da8ff8536e645b7",
            "caef73107b934c10be157ccf281da214",
            "03234ed1895248e9b6f0459330e52294",
            "12980bf105f54ff8a7cddd6f8141ba25",
            "71e99653240c4376a25697541bce4624",
            "c13658cf45bc46888afc0f1b50da43db",
            "9f1b7f25bdb94809a93f73262985283b",
            "7954162ee7514f53b30ff4146d6b3533",
            "1261c7d4290440d0a109d4d0e426d6c2",
            "a1f0cab313644c50aad6d5f1c3f58d96",
            "70faeed8036f4f158d27cd197f57e7c3",
            "95296d899f0e4296a5cc516a1ffcd930",
            "938de88cdeeb4b2d9f103f331e6d75f6",
            "fada97dbe6664927a46d67d588b5eafa",
            "6db19d0ab54a4c259640d11b6c08a41f",
            "22c7fed354c64e8c80368a519b709774",
            "3790917bcca54b3893e243550e8d02e7",
            "0af662cdd4b24886870051962b975e84",
            "8b1749d031b04cc98b2fccccc00e57cb",
            "9e920ab41393441d942e9d7a4f99d8bf",
            "12e49c4e26fd4bf186c480dbcd114a77",
            "bb2d461f18a14ac0978bf380e6b52c0d",
            "046c9a866ca74e3787697d823ab83b98",
            "3c8c7b7784544c2bb75bb978631ca793",
            "f9b5925ff80747e7904d8f1eff6da5ce",
            "15a1f00a355b4ad7af0b237b22d11ecd",
            "b24cc72edca140d7be28c1a5845a5c8b",
            "d8042dd8c2ec4f6897481dfccab3308d",
            "c334558451d74f4695300d794960e425",
            "feb4ed9e1dfc4b6ebb289bd097f07c8e",
            "90d47b21671d46f2a13457d445433dab",
            "ca37b199cfad49d39758519a554f1938"
          ]
        },
        "outputId": "6db5d576-0b76-46b3-c762-30aa1b51c4d5"
      },
      "source": [
        "#@title **Plot an individual run**\n",
        "\n",
        "# First check if info has been imported\n",
        "if not isinstance(info,pd.DataFrame):\n",
        "  print(\"Please import your batch, then re-run this cell.\")\n",
        "\n",
        "else:\n",
        "\n",
        "  # Definitions\n",
        "\n",
        "  # Get just the filename part of the Paths series\n",
        "  def filenames_from_paths(df):\n",
        "    trim = lambda x : x[len(wdir)+len(folder.value)+2:]\n",
        "    return list(map(trim,list(df[\"Path\"])))\n",
        "\n",
        "  # Get the filenames of the runs that match the selected var values\n",
        "  def get_values(b):\n",
        "    value = lambda x : x.value\n",
        "    selected_values = list(map(value, var_widgets))\n",
        "    df = info\n",
        "    for n in range(len(vars)):\n",
        "      df = df[df[vars[n]]==selected_values[n]]\n",
        "    file_selector.options = filenames_from_paths(df)\n",
        "\n",
        "\n",
        "  def clear(b):\n",
        "      # Deletes the plots it's already made\n",
        "      clear_output(wait=True)\n",
        "      display(boxplot_container)\n",
        "\n",
        "  # Show the plots of the the selected run\n",
        "  def plot(b):\n",
        "    clear_output(wait=True)\n",
        "    display(selector_box)\n",
        "    plots(file_selector.value)\n",
        "\n",
        "  # Main\n",
        "\n",
        "  # Here's a list of the filenames you can pick.\n",
        "  filenames = filenames_from_paths(info)\n",
        "\n",
        "  # Widgets\n",
        "  button = ipywidgets.Button(description=\"Update file list\")\n",
        "  out = ipywidgets.Output()\n",
        "  file_selector = ipywidgets.Select(options=filenames,description=\"Select file:\")\n",
        "  plot_button = ipywidgets.Button(description=\"Plot this run\")\n",
        "\n",
        "  # Run id_headers to get the varying and static parameters\n",
        "  # and the measured stats\n",
        "  vars, constants, measures = id_headers(info)\n",
        "  var_vals = []\n",
        "  var_widgets = []\n",
        "\n",
        "  # Now we need the values that each of the vars takes\n",
        "  for var in vars:\n",
        "    # Get the unique values that are taken by var\n",
        "    uniques = info[var].unique()\n",
        "    uniques.sort()\n",
        "    var_vals.append(uniques)\n",
        "\n",
        "  # Make a slider widget for each variable\n",
        "  for n in range(len(vars)):\n",
        "    var_widgets.append(ipywidgets.SelectionSlider(options=var_vals[n],description=vars[n]))\n",
        "      \n",
        "  # What the buttons do\n",
        "  button.on_click(get_values)\n",
        "  plot_button.on_click(plot)\n",
        "\n",
        "  # Widget layouts\n",
        "  selector_box = ipywidgets.VBox([ipywidgets.HBox([ipywidgets.VBox(var_widgets),file_selector]),\n",
        "                                  ipywidgets.HBox([button,plot_button])])\n",
        "  # Show the widgets\n",
        "  display(selector_box)\n",
        "\n",
        "\n"
      ],
      "execution_count": 11,
      "outputs": [
        {
          "output_type": "display_data",
          "data": {
            "application/vnd.jupyter.widget-view+json": {
              "model_id": "a1f0cab313644c50aad6d5f1c3f58d96",
              "version_minor": 0,
              "version_major": 2
            },
            "text/plain": [
              "VBox(children=(HBox(children=(VBox(children=(SelectionSlider(description='POOL_SIZE', index=9, options=('10', …"
            ]
          },
          "metadata": {
            "tags": []
          }
        },
        {
          "output_type": "display_data",
          "data": {
            "text/html": [
              "<link rel=stylesheet type=text/css href='/nbextensions/google.colab/tabbar.css'></link>"
            ],
            "text/plain": [
              "<IPython.core.display.HTML object>"
            ]
          },
          "metadata": {
            "tags": [
              "outputarea_id15"
            ]
          }
        },
        {
          "output_type": "display_data",
          "data": {
            "text/html": [
              "<script src='/nbextensions/google.colab/tabbar_main.min.js'></script>"
            ],
            "text/plain": [
              "<IPython.core.display.HTML object>"
            ]
          },
          "metadata": {
            "tags": [
              "outputarea_id15"
            ]
          }
        },
        {
          "output_type": "display_data",
          "data": {
            "text/html": [
              "<div id=\"id15\"></div>"
            ],
            "text/plain": [
              "<IPython.core.display.HTML object>"
            ]
          },
          "metadata": {
            "tags": [
              "outputarea_id15"
            ]
          }
        },
        {
          "output_type": "display_data",
          "data": {
            "application/javascript": [
              "window[\"15de183e-d5d0-11ea-88cf-0242ac1c0002\"] = colab_lib.createTabBar({\"location\": \"top\", \"elementId\": \"id15\", \"tabNames\": [\"Signed EE of Polymers by Iteration\", \"Proportion of Bond Types\", \"Homochirality vs Length\", \"Homochirality vs Age\", \"Homochirality vs Length through Time\", \"Length histogram over time\", \"Length by homochirality through age\", \"Age by homochirality through length\"], \"initialSelection\": 0, \"contentBorder\": [\"0px\"], \"contentHeight\": [\"initial\"], \"borderColor\": [\"#a7a7a7\"]});\n",
              "//# sourceURL=js_0839284d3d"
            ],
            "text/plain": [
              "<IPython.core.display.Javascript object>"
            ]
          },
          "metadata": {
            "tags": [
              "outputarea_id15"
            ]
          }
        },
        {
          "output_type": "display_data",
          "data": {
            "application/javascript": [
              "window[\"15de649c-d5d0-11ea-88cf-0242ac1c0002\"] = window[\"id15\"].setSelectedTabIndex(0);\n",
              "//# sourceURL=js_05e63f52f0"
            ],
            "text/plain": [
              "<IPython.core.display.Javascript object>"
            ]
          },
          "metadata": {
            "tags": [
              "outputarea_id15"
            ]
          }
        },
        {
          "output_type": "display_data",
          "data": {
            "application/javascript": [
              "window[\"15df5712-d5d0-11ea-88cf-0242ac1c0002\"] = google.colab.output.getActiveOutputArea();\n",
              "//# sourceURL=js_45c555369d"
            ],
            "text/plain": [
              "<IPython.core.display.Javascript object>"
            ]
          },
          "metadata": {
            "tags": [
              "id15_content_0",
              "outputarea_id15"
            ]
          }
        },
        {
          "output_type": "display_data",
          "data": {
            "application/javascript": [
              "window[\"15df9772-d5d0-11ea-88cf-0242ac1c0002\"] = document.querySelector(\"#id15_content_0\");\n",
              "//# sourceURL=js_eed8e39891"
            ],
            "text/plain": [
              "<IPython.core.display.Javascript object>"
            ]
          },
          "metadata": {
            "tags": [
              "id15_content_0",
              "outputarea_id15"
            ]
          }
        },
        {
          "output_type": "display_data",
          "data": {
            "application/javascript": [
              "window[\"15dfd110-d5d0-11ea-88cf-0242ac1c0002\"] = google.colab.output.setActiveOutputArea(window[\"15df9772-d5d0-11ea-88cf-0242ac1c0002\"]);\n",
              "//# sourceURL=js_14fbcb6aa8"
            ],
            "text/plain": [
              "<IPython.core.display.Javascript object>"
            ]
          },
          "metadata": {
            "tags": [
              "id15_content_0",
              "outputarea_id15"
            ]
          }
        },
        {
          "output_type": "display_data",
          "data": {
            "application/javascript": [
              "window[\"15e00e0a-d5d0-11ea-88cf-0242ac1c0002\"] = window[\"id15\"].setSelectedTabIndex(0);\n",
              "//# sourceURL=js_5c7c57212e"
            ],
            "text/plain": [
              "<IPython.core.display.Javascript object>"
            ]
          },
          "metadata": {
            "tags": [
              "id15_content_0",
              "outputarea_id15"
            ]
          }
        },
        {
          "output_type": "display_data",
          "data": {
            "text/html": [
              "<html>\n",
              "<head><meta charset=\"utf-8\" /></head>\n",
              "<body>\n",
              "    <div>\n",
              "            <script src=\"https://cdnjs.cloudflare.com/ajax/libs/mathjax/2.7.5/MathJax.js?config=TeX-AMS-MML_SVG\"></script><script type=\"text/javascript\">if (window.MathJax) {MathJax.Hub.Config({SVG: {font: \"STIX-Web\"}});}</script>\n",
              "                <script type=\"text/javascript\">window.PlotlyConfig = {MathJaxConfig: 'local'};</script>\n",
              "        <script src=\"https://cdn.plot.ly/plotly-latest.min.js\"></script>    \n",
              "            <div id=\"2f3c81ed-2e0f-4464-b053-57ab67b18566\" class=\"plotly-graph-div\" style=\"height:525px; width:100%;\"></div>\n",
              "            <script type=\"text/javascript\">\n",
              "                \n",
              "                    window.PLOTLYENV=window.PLOTLYENV || {};\n",
              "                    \n",
              "                if (document.getElementById(\"2f3c81ed-2e0f-4464-b053-57ab67b18566\")) {\n",
              "                    Plotly.newPlot(\n",
              "                        '2f3c81ed-2e0f-4464-b053-57ab67b18566',\n",
              "                        [{\"hoverlabel\": {\"namelength\": 0}, \"hovertemplate\": \"Iteration=%{x}<br>Signed ee=%{y}<br>count=%{marker.size}\", \"legendgroup\": \"\", \"marker\": {\"color\": \"#636efa\", \"size\": [58, 39, 31, 34, 31, 29, 24, 23, 4, 2, 44, 33, 22, 17, 11, 9, 7, 4, 3, 3, 2, 1, 1, 35, 22, 19, 16, 11, 8, 6, 5, 5, 3, 3, 3, 2, 2, 1, 1, 1, 1, 1, 28, 18, 16, 15, 12, 6, 6, 5, 4, 4, 3, 3, 2, 2, 2, 1, 1, 1, 1, 1, 1, 1, 1, 34, 14, 13, 11, 9, 4, 4, 4, 3, 3, 3, 3, 2, 2, 2, 2, 1, 1, 1, 1, 1, 1, 1, 1, 1, 1, 1, 1, 19, 14, 11, 10, 10, 7, 6, 4, 4, 3, 3, 2, 2, 2, 2, 1, 1, 1, 1, 1, 1, 1, 1, 1, 1, 1, 1, 1, 1, 1, 19, 10, 8, 8, 7, 6, 5, 5, 4, 4, 3, 2, 2, 2, 2, 2, 2, 2, 1, 1, 1, 1, 1, 1, 1, 1, 1, 1, 1, 1, 15, 13, 8, 8, 7, 7, 5, 5, 4, 3, 2, 2, 2, 2, 2, 1, 1, 1, 1, 1, 1, 1, 1, 1, 1, 1, 1, 1, 1, 13, 11, 7, 7, 6, 6, 5, 3, 3, 3, 2, 1, 1, 1, 1, 1, 1, 1, 1, 1, 1, 1, 1, 1, 1, 1, 1, 1, 1, 1, 1, 1, 1, 1, 1, 1, 1, 1, 14, 11, 8, 8, 7, 4, 3, 3, 3, 2, 2, 1, 1, 1, 1, 1, 1, 1, 1, 1, 1, 1, 1, 1, 1, 1, 1, 1, 1, 1, 1, 1, 1, 13, 10, 7, 4, 3, 3, 3, 3, 2, 2, 2, 2, 2, 2, 1, 1, 1, 1, 1, 1, 1, 1, 1, 1, 1, 1, 1, 1, 1, 1, 1, 1, 1, 13, 12, 4, 4, 3, 3, 3, 3, 2, 2, 2, 2, 1, 1, 1, 1, 1, 1, 1, 1, 1, 1, 1, 1, 1, 1, 1, 1, 1, 1, 1, 12, 7, 4, 4, 4, 3, 2, 2, 2, 2, 2, 2, 1, 1, 1, 1, 1, 1, 1, 1, 1, 1, 1, 1, 1, 1, 1, 1, 1, 1, 1, 1, 1, 9, 4, 4, 3, 2, 2, 2, 2, 2, 1, 1, 1, 1, 1, 1, 1, 1, 1, 1, 1, 1, 1, 1, 1, 1, 1, 1, 1, 1, 1, 1, 1, 5, 5, 3, 3, 3, 2, 2, 1, 1, 1, 1, 1, 1, 1, 1, 1, 1, 1, 1, 1, 1, 1, 1, 1, 1, 1, 1, 4, 4, 3, 3, 2, 2, 1, 1, 1, 1, 1, 1, 1, 1, 1, 1, 1, 1, 1, 1, 1, 1, 1, 1, 1, 1, 1, 1, 1, 4, 4, 3, 3, 2, 2, 2, 1, 1, 1, 1, 1, 1, 1, 1, 1, 1, 1, 1, 1, 1, 1, 1, 1, 1, 1, 5, 3, 2, 2, 2, 2, 1, 1, 1, 1, 1, 1, 1, 1, 1, 1, 1, 1, 1, 1, 1, 1, 1, 1, 1, 6, 4, 2, 2, 2, 2, 1, 1, 1, 1, 1, 1, 1, 1, 1, 1, 1, 1, 1, 1, 1, 1, 1, 1, 4, 3, 2, 2, 2, 1, 1, 1, 1, 1, 1, 1, 1, 1, 1, 1, 1, 1, 1, 1, 1, 1, 2, 2, 1, 1, 1, 1, 1, 1, 1, 1, 1, 1, 1, 1, 1, 1, 1, 1, 1, 2, 1, 1, 1, 1, 1, 1, 1, 1, 1, 1, 1, 1, 1, 1, 1, 1, 1, 1, 3, 1, 1, 1, 1, 1, 1, 1, 1, 1, 1, 1, 1, 1, 1, 1, 3, 3, 2, 2, 1, 1, 1, 1, 1, 1, 1, 1, 3, 2, 1, 1, 1, 1, 1, 1, 1, 1, 1, 1, 1, 1, 1, 1, 1, 1, 1, 1, 1, 1, 1, 1, 1, 1, 1, 1, 1, 1, 3, 1, 1, 1, 1, 1, 1, 1, 1, 1, 1, 1, 1, 1, 1, 1, 1, 1, 1, 1, 1, 2, 1, 1, 1, 1, 1, 1, 1, 1, 1, 2, 2, 1, 1, 1, 1, 1, 1, 1, 1, 2, 1, 1, 1, 1, 1, 1, 1, 1, 1, 1, 1, 2, 1, 1, 1, 1, 1, 1, 1, 1, 1, 1, 1, 3, 1, 1, 1, 1, 1, 1, 1, 1, 1, 1, 1, 1, 1, 1, 1, 1, 1, 2, 1, 1, 1, 1, 1, 1, 1, 1, 1, 1, 1, 1, 1, 1, 1, 1, 1, 1, 1, 1, 1, 1, 1, 1, 1, 1, 1, 1, 1, 1, 1, 1, 1, 1, 1, 1, 1, 1, 1, 1, 1, 1, 1, 1, 1, 1, 1, 1, 1, 1, 1, 1, 1, 1, 1, 1, 1, 1, 1, 1, 1, 1, 1, 1, 1, 1, 1, 1, 1, 1, 1, 1, 1, 1, 1, 1, 1, 1, 1, 1, 1, 1, 1, 1, 1, 1, 1, 1, 1, 1, 1, 1], \"sizemode\": \"area\", \"sizeref\": 0.145, \"symbol\": \"circle\"}, \"mode\": \"markers\", \"name\": \"\", \"showlegend\": false, \"type\": \"scatter\", \"x\": [0, 0, 0, 1, 1, 1, 1, 1, 1, 1, 2, 2, 2, 2, 2, 2, 2, 2, 2, 2, 2, 2, 2, 3, 3, 3, 3, 3, 3, 3, 3, 3, 3, 3, 3, 3, 3, 3, 3, 3, 3, 3, 4, 4, 4, 4, 4, 4, 4, 4, 4, 4, 4, 4, 4, 4, 4, 4, 4, 4, 4, 4, 4, 4, 4, 5, 5, 5, 5, 5, 5, 5, 5, 5, 5, 5, 5, 5, 5, 5, 5, 5, 5, 5, 5, 5, 5, 5, 5, 5, 5, 5, 5, 6, 6, 6, 6, 6, 6, 6, 6, 6, 6, 6, 6, 6, 6, 6, 6, 6, 6, 6, 6, 6, 6, 6, 6, 6, 6, 6, 6, 6, 6, 7, 7, 7, 7, 7, 7, 7, 7, 7, 7, 7, 7, 7, 7, 7, 7, 7, 7, 7, 7, 7, 7, 7, 7, 7, 7, 7, 7, 7, 7, 8, 8, 8, 8, 8, 8, 8, 8, 8, 8, 8, 8, 8, 8, 8, 8, 8, 8, 8, 8, 8, 8, 8, 8, 8, 8, 8, 8, 8, 9, 9, 9, 9, 9, 9, 9, 9, 9, 9, 9, 9, 9, 9, 9, 9, 9, 9, 9, 9, 9, 9, 9, 9, 9, 9, 9, 9, 9, 9, 9, 9, 9, 9, 9, 9, 9, 9, 10, 10, 10, 10, 10, 10, 10, 10, 10, 10, 10, 10, 10, 10, 10, 10, 10, 10, 10, 10, 10, 10, 10, 10, 10, 10, 10, 10, 10, 10, 10, 10, 10, 11, 11, 11, 11, 11, 11, 11, 11, 11, 11, 11, 11, 11, 11, 11, 11, 11, 11, 11, 11, 11, 11, 11, 11, 11, 11, 11, 11, 11, 11, 11, 11, 11, 12, 12, 12, 12, 12, 12, 12, 12, 12, 12, 12, 12, 12, 12, 12, 12, 12, 12, 12, 12, 12, 12, 12, 12, 12, 12, 12, 12, 12, 12, 12, 13, 13, 13, 13, 13, 13, 13, 13, 13, 13, 13, 13, 13, 13, 13, 13, 13, 13, 13, 13, 13, 13, 13, 13, 13, 13, 13, 13, 13, 13, 13, 13, 13, 14, 14, 14, 14, 14, 14, 14, 14, 14, 14, 14, 14, 14, 14, 14, 14, 14, 14, 14, 14, 14, 14, 14, 14, 14, 14, 14, 14, 14, 14, 14, 14, 15, 15, 15, 15, 15, 15, 15, 15, 15, 15, 15, 15, 15, 15, 15, 15, 15, 15, 15, 15, 15, 15, 15, 15, 15, 15, 15, 16, 16, 16, 16, 16, 16, 16, 16, 16, 16, 16, 16, 16, 16, 16, 16, 16, 16, 16, 16, 16, 16, 16, 16, 16, 16, 16, 16, 16, 17, 17, 17, 17, 17, 17, 17, 17, 17, 17, 17, 17, 17, 17, 17, 17, 17, 17, 17, 17, 17, 17, 17, 17, 17, 17, 18, 18, 18, 18, 18, 18, 18, 18, 18, 18, 18, 18, 18, 18, 18, 18, 18, 18, 18, 18, 18, 18, 18, 18, 18, 19, 19, 19, 19, 19, 19, 19, 19, 19, 19, 19, 19, 19, 19, 19, 19, 19, 19, 19, 19, 19, 19, 19, 19, 20, 20, 20, 20, 20, 20, 20, 20, 20, 20, 20, 20, 20, 20, 20, 20, 20, 20, 20, 20, 20, 20, 21, 21, 21, 21, 21, 21, 21, 21, 21, 21, 21, 21, 21, 21, 21, 21, 21, 21, 21, 22, 22, 22, 22, 22, 22, 22, 22, 22, 22, 22, 22, 22, 22, 22, 22, 22, 22, 22, 23, 23, 23, 23, 23, 23, 23, 23, 23, 23, 23, 23, 23, 23, 23, 23, 24, 24, 24, 24, 24, 24, 24, 24, 24, 24, 24, 24, 25, 25, 25, 25, 25, 25, 25, 25, 25, 25, 25, 25, 25, 25, 25, 25, 25, 26, 26, 26, 26, 26, 26, 26, 26, 26, 26, 26, 26, 26, 27, 27, 27, 27, 27, 27, 27, 27, 27, 27, 27, 28, 28, 28, 28, 28, 28, 28, 28, 28, 28, 29, 29, 29, 29, 29, 29, 29, 29, 29, 29, 30, 30, 30, 30, 30, 30, 30, 30, 30, 30, 31, 31, 31, 31, 31, 31, 31, 31, 31, 31, 31, 31, 32, 32, 32, 32, 32, 32, 32, 32, 32, 32, 32, 32, 33, 33, 33, 33, 33, 33, 33, 33, 33, 34, 34, 34, 34, 34, 34, 34, 34, 34, 35, 35, 35, 35, 35, 35, 35, 35, 36, 36, 36, 36, 36, 36, 36, 37, 37, 37, 37, 37, 38, 38, 38, 38, 39, 39, 39, 40, 40, 40, 41, 41, 41, 42, 42, 43, 43, 44, 45, 46, 47, 48, 49, 50, 51, 52, 53, 54, 55, 56, 57, 58, 59, 60, 61, 62, 63, 64, 65, 66, 67, 68, 69, 70, 71, 72, 73, 74, 75, 76, 77, 78, 79, 80, 81, 82, 83, 84, 85, 86, 87, 88, 89, 90, 91, 92, 93, 94, 95, 96, 97, 98, 99], \"xaxis\": \"x\", \"y\": [0.0, -1.0, 1.0, -1.0, 0.0, 1.0, -0.3333333333333333, 0.3333333333333333, -0.5, 0.5, 0.0, -1.0, 1.0, -0.3333333333333333, 0.3333333333333333, 0.5, -0.5, -0.6, -0.2, 0.2, 0.6, -0.14285714285714285, 0.6666666666666666, 0.0, -1.0, 1.0, -0.3333333333333333, 0.3333333333333333, -0.5, -0.2, -0.6, 0.2, -0.42857142857142855, 0.5, 0.6, 0.42857142857142855, 0.6666666666666666, -0.6666666666666666, -0.4, -0.14285714285714285, 0.25, 0.8, 0.0, -1.0, 0.3333333333333333, 1.0, -0.3333333333333333, -0.5, -0.2, 0.5, -0.14285714285714285, 0.2, -0.25, 0.6, 0.14285714285714285, 0.25, 0.42857142857142855, -0.7142857142857143, -0.6666666666666666, -0.6, -0.5714285714285714, -0.42857142857142855, -0.1111111111111111, -0.09090909090909093, 0.7142857142857143, 0.0, -1.0, 0.3333333333333333, -0.3333333333333333, 1.0, -0.6, -0.14285714285714285, 0.5, -0.5, 0.1111111111111111, 0.2, 0.6, -0.5555555555555556, -0.2307692307692308, -0.1111111111111111, 0.42857142857142855, -0.6666666666666666, -0.625, -0.25, -0.2222222222222222, -0.2, -0.07692307692307693, 0.14285714285714285, 0.25, 0.4, 0.6363636363636364, 0.6666666666666666, 0.75, 0.0, -0.3333333333333333, -1.0, 0.3333333333333333, 1.0, 0.2, 0.5, -0.5, -0.2, 0.14285714285714285, 0.42857142857142855, -0.6, -0.42857142857142855, -0.14285714285714285, 0.1111111111111111, -0.75, -0.6470588235294118, -0.6363636363636364, -0.5555555555555556, -0.125, -0.1, -0.06666666666666668, 0.06666666666666668, 0.07692307692307693, 0.09090909090909093, 0.4545454545454545, 0.5555555555555556, 0.6, 0.6666666666666666, 0.7777777777777778, 0.0, -0.3333333333333333, -1.0, 1.0, 0.3333333333333333, 0.5, 0.14285714285714285, 0.2, -0.5, 0.1111111111111111, -0.6, -0.7142857142857143, -0.25, -0.2, -0.09090909090909093, 0.07692307692307693, 0.25, 0.6, -0.8, -0.7777777777777778, -0.6842105263157895, -0.4, -0.3, -0.2727272727272727, -0.18181818181818185, -0.1111111111111111, 0.2222222222222222, 0.2307692307692308, 0.4666666666666667, 0.5555555555555556, 0.0, -1.0, -0.3333333333333333, 0.3333333333333333, -0.2, 1.0, 0.2, 0.5, -0.5, 0.42857142857142855, -0.4545454545454545, -0.42857142857142855, -0.14285714285714285, 0.1111111111111111, 0.16666666666666666, -0.7333333333333333, -0.6, -0.5384615384615384, -0.3043478260869565, -0.25, -0.16666666666666666, -0.1111111111111111, -0.09090909090909093, -0.05882352941176471, 0.2631578947368421, 0.2727272727272727, 0.3043478260869565, 0.5384615384615384, 0.6, 0.0, -1.0, 0.5, 1.0, 0.25, 0.3333333333333333, -0.3333333333333333, -0.6, 0.14285714285714285, 0.2, -0.2, -0.8181818181818182, -0.7777777777777778, -0.6666666666666666, -0.625, -0.5714285714285714, -0.5555555555555556, -0.5, -0.3076923076923077, -0.28, -0.25, -0.2222222222222222, -0.15789473684210525, -0.1111111111111111, -0.09090909090909093, -0.06666666666666668, -0.05882352941176471, 0.09090909090909093, 0.1111111111111111, 0.125, 0.16666666666666666, 0.17647058823529413, 0.2857142857142857, 0.3684210526315789, 0.4117647058823529, 0.42857142857142855, 0.6, 0.7142857142857143, 0.0, 1.0, -1.0, -0.3333333333333333, 0.2, 0.3333333333333333, -0.2, -0.1111111111111111, 0.5, 0.1111111111111111, 0.25, -0.8333333333333334, -0.8, -0.7777777777777778, -0.6666666666666666, -0.6470588235294118, -0.6, -0.5, -0.42857142857142855, -0.3103448275862069, -0.3, -0.2857142857142857, -0.15151515151515152, -0.125, -0.1, -0.08333333333333333, 0.043478260869565216, 0.09090909090909093, 0.2631578947368421, 0.3, 0.3636363636363637, 0.4, 0.6363636363636364, 0.0, -1.0, 0.3333333333333333, 1.0, -0.5, -0.14285714285714285, 0.14285714285714285, 0.2, -0.6666666666666666, -0.3333333333333333, -0.2, 0.07692307692307693, 0.5, 0.6666666666666666, -0.8, -0.7777777777777778, -0.75, -0.6363636363636364, -0.25, -0.21212121212121213, -0.17647058823529413, -0.16666666666666666, -0.07692307692307693, -0.06976744186046513, -0.06666666666666668, -0.02325581395348837, 0.06666666666666668, 0.16666666666666666, 0.2857142857142857, 0.4, 0.42857142857142855, 0.4666666666666667, 0.8181818181818182, 0.0, -1.0, -0.3333333333333333, 1.0, -0.5, -0.2, 0.07692307692307693, 0.3333333333333333, -0.8, -0.1111111111111111, 0.2, 0.6, -0.4545454545454545, -0.38461538461538464, -0.3636363636363637, -0.25, -0.14285714285714285, -0.09090909090909093, -0.07317073170731707, 0.037037037037037035, 0.09090909090909093, 0.14285714285714285, 0.15789473684210525, 0.16666666666666666, 0.2727272727272727, 0.4, 0.4545454545454545, 0.5, 0.5555555555555556, 0.6363636363636364, 0.8181818181818182, 0.0, -1.0, -0.3333333333333333, 0.3333333333333333, 1.0, -0.2, -0.8181818181818182, -0.6, -0.5, -0.42857142857142855, -0.25, 0.2, -0.7142857142857143, -0.5555555555555556, -0.4, -0.29411764705882354, -0.13333333333333333, -0.1111111111111111, -0.09090909090909093, -0.037037037037037035, -0.027027027027027032, 0.05882352941176471, 0.07142857142857142, 0.1111111111111111, 0.13043478260869565, 0.16666666666666666, 0.2727272727272727, 0.2857142857142857, 0.35135135135135137, 0.5, 0.5384615384615384, 0.6, 0.6666666666666666, 0.0, -1.0, 1.0, -0.42857142857142855, -0.5, -0.4, 0.06666666666666668, 0.07692307692307693, 0.3333333333333333, -0.6666666666666666, -0.6, -0.375, -0.3636363636363637, -0.3333333333333333, -0.2727272727272727, -0.2222222222222222, -0.2, -0.1875, -0.17647058823529413, -0.07692307692307693, -0.07317073170731707, -0.06666666666666668, -0.03448275862068965, 0.1111111111111111, 0.15789473684210525, 0.2, 0.21739130434782608, 0.38461538461538464, 0.42857142857142855, 0.5652173913043478, 0.6, 0.6666666666666666, 0.0, 1.0, -1.0, -0.5, 0.3333333333333333, -0.2, -0.125, -0.875, -0.6666666666666666, -0.4482758620689655, -0.39130434782608703, -0.3636363636363637, -0.3333333333333333, -0.2631578947368421, -0.2222222222222222, -0.21212121212121213, -0.06666666666666668, -0.045454545454545456, -0.02127659574468085, 0.03225806451612903, 0.037037037037037035, 0.06976744186046513, 0.18181818181818185, 0.19047619047619047, 0.5, 0.6666666666666666, 0.7142857142857143, 0.0, 1.0, -1.0, 0.3333333333333333, -0.15151515151515152, 0.7142857142857143, -0.8, -0.7142857142857143, -0.6363636363636364, -0.6, -0.5, -0.41935483870967744, -0.4, -0.3023255813953488, -0.2857142857142857, -0.2307692307692308, -0.2, -0.1794871794871795, -0.1111111111111111, -0.05882352941176471, 0.09090909090909093, 0.1153846153846154, 0.14285714285714285, 0.15625, 0.20833333333333331, 0.25, 0.2835820895522388, 0.6666666666666666, 0.75, -1.0, -0.2, 0.0, 1.0, -0.14285714285714285, 0.14285714285714285, 0.5, -0.7777777777777778, -0.7142857142857143, -0.5, -0.4509803921568628, -0.4074074074074074, -0.29411764705882354, -0.2207792207792208, -0.17647058823529413, -0.125, -0.1111111111111111, 0.12195121951219512, 0.12727272727272726, 0.14, 0.2, 0.21212121212121213, 0.4545454545454545, 0.6, 0.7142857142857143, 0.7777777777777778, 0.0, -1.0, -0.42857142857142855, -0.25, -0.1111111111111111, 1.0, -0.5555555555555556, -0.4, -0.3333333333333333, -0.2857142857142857, -0.2195121951219512, -0.2, -0.1851851851851852, -0.09774436090225563, -0.07692307692307693, 0.028571428571428567, 0.08, 0.125, 0.17647058823529413, 0.18095238095238092, 0.2307692307692308, 0.3333333333333333, 0.6, 0.7142857142857143, 0.75, -1.0, 1.0, 0.0, 0.3333333333333333, 0.5, 0.6, -0.6, -0.5, -0.3636363636363637, -0.35714285714285715, -0.3333333333333333, -0.2307692307692308, -0.2, -0.09219858156028367, -0.07142857142857142, -0.04477611940298507, -0.012987012987012988, 0.05555555555555555, 0.06666666666666668, 0.07692307692307693, 0.08333333333333333, 0.14782608695652175, 0.2631578947368421, 0.75, 0.0, -1.0, -0.5, 0.3333333333333333, 1.0, -0.5555555555555556, -0.4, -0.3103448275862069, -0.2911392405063291, -0.1292517006802721, -0.125, -0.08571428571428573, -0.05263157894736842, -0.016393442622950817, 0.07692307692307693, 0.15789473684210525, 0.17647058823529413, 0.2, 0.3636363636363637, 0.42857142857142855, 0.6666666666666666, 0.75, -1.0, 0.0, -0.7142857142857143, -0.5, -0.35714285714285715, -0.3012048192771085, -0.18181818181818185, -0.09090909090909093, -0.08571428571428573, -0.07692307692307693, -0.0410958904109589, 0.09090909090909093, 0.10526315789473684, 0.125, 0.15966386554621848, 0.21739130434782608, 0.3333333333333333, 0.6, 1.0, -0.5, -1.0, -0.4736842105263158, -0.3793103448275862, -0.3333333333333333, -0.1826086956521739, -0.14285714285714285, -0.1111111111111111, -0.02654867256637168, -0.012987012987012988, 0.0, 0.07692307692307693, 0.1111111111111111, 0.15, 0.3333333333333333, 0.375, 0.4, 0.4545454545454545, 0.6, -1.0, -0.35714285714285715, -0.28205128205128205, -0.2727272727272727, -0.25, -0.1724137931034483, -0.1111111111111111, -0.07692307692307693, -0.017543859649122806, -0.01276595744680851, 0.024390243902439025, 0.09090909090909093, 0.1, 0.16666666666666666, 0.3333333333333333, 1.0, -1.0, 0.3333333333333333, -0.14285714285714285, 0.05882352941176471, -0.6666666666666666, -0.6, -0.1153846153846154, -0.1111111111111111, -0.1, -0.03355704697986577, -0.008695652173913044, 0.125, -1.0, 0.0, -0.3333333333333333, -0.2727272727272727, -0.25, -0.21428571428571427, -0.2, -0.125, -0.09090909090909093, -0.061224489795918366, -0.05882352941176471, -0.03355704697986577, -0.010309278350515464, 0.043478260869565216, 0.1, 0.3333333333333333, 1.0, -1.0, -0.3333333333333333, -0.21428571428571427, -0.16129032258064516, -0.13043478260869565, -0.1111111111111111, -0.043478260869565216, -0.04, -0.03746397694524496, 0.014084507042253518, 0.1282051282051282, 0.14285714285714285, 0.3333333333333333, 0.0, -0.5294117647058824, -0.2525252525252525, -0.2, -0.1746031746031746, -0.1111111111111111, -0.05084745762711865, 0.02325581395348837, 0.04838709677419355, 0.25, 0.5, -0.28, -0.2777777777777778, -0.2, -0.13432835820895522, -0.046875, -0.043478260869565216, -0.03746397694524496, 0.0, 0.1, 0.2222222222222222, -0.03157894736842105, -0.6, -0.2727272727272727, -0.2571428571428571, -0.25, -0.06451612903225806, -0.05882352941176471, 0.0, 0.1, 0.1111111111111111, -0.26666666666666666, 0.125, -1.0, -0.3333333333333333, -0.28, -0.2, -0.10280373831775699, -0.022950819672131147, -0.01492537313432836, 0.0, 0.05882352941176471, -0.7142857142857143, -0.6923076923076923, -0.42857142857142855, -0.26666666666666666, -0.16666666666666666, -0.026143790849673203, -0.02127659574468085, -0.0196078431372549, 0.0, 0.16129032258064516, 0.2727272727272727, 0.0, -1.0, -0.6, -0.5, -0.3333333333333333, -0.26666666666666666, -0.09859154929577464, -0.05625, -0.019417475728155338, 0.1111111111111111, 0.12, 0.3333333333333333, -0.5, -1.0, -0.21052631578947367, -0.09859154929577464, -0.049079754601227, -0.04477611940298507, -0.004329004329004329, 0.6, 1.0, -1.0, -0.8333333333333334, -0.5, -0.2692307692307692, -0.2432432432432433, -0.03052064631956912, 0.0, 0.3684210526315789, 1.0, 0.0, -1.0, -0.8333333333333334, -0.2903225806451613, -0.2549019607843137, -0.04, -0.028673835125448032, 0.42857142857142855, -1.0, -0.36507936507936506, -0.25, -0.030015797788309637, 0.0, 0.4, 0.4545454545454545, -1.0, -0.34375, -0.09523809523809523, -0.030015797788309637, 0.29411764705882354, -1.0, -0.20987654320987653, -0.09523809523809523, -0.030015797788309637, -1.0, -0.17073170731707318, -0.030015797788309637, -0.75, -0.034591194968553465, -0.030303030303030307, -0.060606060606060615, -0.05660377358490566, 0.0, -0.056657223796034, -0.05660377358490566, -0.056657223796034, -0.05660377358490566, -0.05665349143610012, -0.05789473684210526, -0.05789473684210526, -0.05789473684210526, -0.05789473684210526, -0.05789473684210526, -0.05789473684210526, -0.05789473684210526, -0.05789473684210526, -0.05789473684210526, -0.05789473684210526, -0.05789473684210526, -0.05789473684210526, -0.05789473684210526, -0.05789473684210526, -0.05789473684210526, -0.05789473684210526, -0.05789473684210526, -0.05789473684210526, -0.05789473684210526, -0.05789473684210526, -0.05789473684210526, -0.05789473684210526, -0.05789473684210526, -0.05789473684210526, -0.05789473684210526, -0.05789473684210526, -0.05789473684210526, -0.05789473684210526, -0.05789473684210526, -0.05789473684210526, -0.05789473684210526, -0.05789473684210526, -0.05789473684210526, -0.05789473684210526, -0.05789473684210526, -0.05789473684210526, -0.05789473684210526, -0.05789473684210526, -0.05789473684210526, -0.05789473684210526, -0.05789473684210526, -0.05789473684210526, -0.05789473684210526, -0.05789473684210526, -0.05789473684210526, -0.05789473684210526, -0.05789473684210526, -0.05789473684210526, -0.05789473684210526, -0.05789473684210526, -0.05789473684210526, -0.05789473684210526, -0.05789473684210526, -0.05789473684210526, -0.05789473684210526], \"yaxis\": \"y\"}],\n",
              "                        {\"legend\": {\"itemsizing\": \"constant\", \"tracegroupgap\": 0}, \"margin\": {\"t\": 60}, \"template\": {\"data\": {\"bar\": [{\"error_x\": {\"color\": \"#2a3f5f\"}, \"error_y\": {\"color\": \"#2a3f5f\"}, \"marker\": {\"line\": {\"color\": \"#E5ECF6\", \"width\": 0.5}}, \"type\": \"bar\"}], \"barpolar\": [{\"marker\": {\"line\": {\"color\": \"#E5ECF6\", \"width\": 0.5}}, \"type\": \"barpolar\"}], \"carpet\": [{\"aaxis\": {\"endlinecolor\": \"#2a3f5f\", \"gridcolor\": \"white\", \"linecolor\": \"white\", \"minorgridcolor\": \"white\", \"startlinecolor\": \"#2a3f5f\"}, \"baxis\": {\"endlinecolor\": \"#2a3f5f\", \"gridcolor\": \"white\", \"linecolor\": \"white\", \"minorgridcolor\": \"white\", \"startlinecolor\": \"#2a3f5f\"}, \"type\": \"carpet\"}], \"choropleth\": [{\"colorbar\": {\"outlinewidth\": 0, \"ticks\": \"\"}, \"type\": \"choropleth\"}], \"contour\": [{\"colorbar\": {\"outlinewidth\": 0, \"ticks\": \"\"}, \"colorscale\": [[0.0, \"#0d0887\"], [0.1111111111111111, \"#46039f\"], [0.2222222222222222, \"#7201a8\"], [0.3333333333333333, \"#9c179e\"], [0.4444444444444444, \"#bd3786\"], [0.5555555555555556, \"#d8576b\"], [0.6666666666666666, \"#ed7953\"], [0.7777777777777778, \"#fb9f3a\"], [0.8888888888888888, \"#fdca26\"], [1.0, \"#f0f921\"]], \"type\": \"contour\"}], \"contourcarpet\": [{\"colorbar\": {\"outlinewidth\": 0, \"ticks\": \"\"}, \"type\": \"contourcarpet\"}], \"heatmap\": [{\"colorbar\": {\"outlinewidth\": 0, \"ticks\": \"\"}, \"colorscale\": [[0.0, \"#0d0887\"], [0.1111111111111111, \"#46039f\"], [0.2222222222222222, \"#7201a8\"], [0.3333333333333333, \"#9c179e\"], [0.4444444444444444, \"#bd3786\"], [0.5555555555555556, \"#d8576b\"], [0.6666666666666666, \"#ed7953\"], [0.7777777777777778, \"#fb9f3a\"], [0.8888888888888888, \"#fdca26\"], [1.0, \"#f0f921\"]], \"type\": \"heatmap\"}], \"heatmapgl\": [{\"colorbar\": {\"outlinewidth\": 0, \"ticks\": \"\"}, \"colorscale\": [[0.0, \"#0d0887\"], [0.1111111111111111, \"#46039f\"], [0.2222222222222222, \"#7201a8\"], [0.3333333333333333, \"#9c179e\"], [0.4444444444444444, \"#bd3786\"], [0.5555555555555556, \"#d8576b\"], [0.6666666666666666, \"#ed7953\"], [0.7777777777777778, \"#fb9f3a\"], [0.8888888888888888, \"#fdca26\"], [1.0, \"#f0f921\"]], \"type\": \"heatmapgl\"}], \"histogram\": [{\"marker\": {\"colorbar\": {\"outlinewidth\": 0, \"ticks\": \"\"}}, \"type\": \"histogram\"}], \"histogram2d\": [{\"colorbar\": {\"outlinewidth\": 0, \"ticks\": \"\"}, \"colorscale\": [[0.0, \"#0d0887\"], [0.1111111111111111, \"#46039f\"], [0.2222222222222222, \"#7201a8\"], [0.3333333333333333, \"#9c179e\"], [0.4444444444444444, \"#bd3786\"], [0.5555555555555556, \"#d8576b\"], [0.6666666666666666, \"#ed7953\"], [0.7777777777777778, \"#fb9f3a\"], [0.8888888888888888, \"#fdca26\"], [1.0, \"#f0f921\"]], \"type\": \"histogram2d\"}], \"histogram2dcontour\": [{\"colorbar\": {\"outlinewidth\": 0, \"ticks\": \"\"}, \"colorscale\": [[0.0, \"#0d0887\"], [0.1111111111111111, \"#46039f\"], [0.2222222222222222, \"#7201a8\"], [0.3333333333333333, \"#9c179e\"], [0.4444444444444444, \"#bd3786\"], [0.5555555555555556, \"#d8576b\"], [0.6666666666666666, \"#ed7953\"], [0.7777777777777778, \"#fb9f3a\"], [0.8888888888888888, \"#fdca26\"], [1.0, \"#f0f921\"]], \"type\": \"histogram2dcontour\"}], \"mesh3d\": [{\"colorbar\": {\"outlinewidth\": 0, \"ticks\": \"\"}, \"type\": \"mesh3d\"}], \"parcoords\": [{\"line\": {\"colorbar\": {\"outlinewidth\": 0, \"ticks\": \"\"}}, \"type\": \"parcoords\"}], \"pie\": [{\"automargin\": true, \"type\": \"pie\"}], \"scatter\": [{\"marker\": {\"colorbar\": {\"outlinewidth\": 0, \"ticks\": \"\"}}, \"type\": \"scatter\"}], \"scatter3d\": [{\"line\": {\"colorbar\": {\"outlinewidth\": 0, \"ticks\": \"\"}}, \"marker\": {\"colorbar\": {\"outlinewidth\": 0, \"ticks\": \"\"}}, \"type\": \"scatter3d\"}], \"scattercarpet\": [{\"marker\": {\"colorbar\": {\"outlinewidth\": 0, \"ticks\": \"\"}}, \"type\": \"scattercarpet\"}], \"scattergeo\": [{\"marker\": {\"colorbar\": {\"outlinewidth\": 0, \"ticks\": \"\"}}, \"type\": \"scattergeo\"}], \"scattergl\": [{\"marker\": {\"colorbar\": {\"outlinewidth\": 0, \"ticks\": \"\"}}, \"type\": \"scattergl\"}], \"scattermapbox\": [{\"marker\": {\"colorbar\": {\"outlinewidth\": 0, \"ticks\": \"\"}}, \"type\": \"scattermapbox\"}], \"scatterpolar\": [{\"marker\": {\"colorbar\": {\"outlinewidth\": 0, \"ticks\": \"\"}}, \"type\": \"scatterpolar\"}], \"scatterpolargl\": [{\"marker\": {\"colorbar\": {\"outlinewidth\": 0, \"ticks\": \"\"}}, \"type\": \"scatterpolargl\"}], \"scatterternary\": [{\"marker\": {\"colorbar\": {\"outlinewidth\": 0, \"ticks\": \"\"}}, \"type\": \"scatterternary\"}], \"surface\": [{\"colorbar\": {\"outlinewidth\": 0, \"ticks\": \"\"}, \"colorscale\": [[0.0, \"#0d0887\"], [0.1111111111111111, \"#46039f\"], [0.2222222222222222, \"#7201a8\"], [0.3333333333333333, \"#9c179e\"], [0.4444444444444444, \"#bd3786\"], [0.5555555555555556, \"#d8576b\"], [0.6666666666666666, \"#ed7953\"], [0.7777777777777778, \"#fb9f3a\"], [0.8888888888888888, \"#fdca26\"], [1.0, \"#f0f921\"]], \"type\": \"surface\"}], \"table\": [{\"cells\": {\"fill\": {\"color\": \"#EBF0F8\"}, \"line\": {\"color\": \"white\"}}, \"header\": {\"fill\": {\"color\": \"#C8D4E3\"}, \"line\": {\"color\": \"white\"}}, \"type\": \"table\"}]}, \"layout\": {\"annotationdefaults\": {\"arrowcolor\": \"#2a3f5f\", \"arrowhead\": 0, \"arrowwidth\": 1}, \"coloraxis\": {\"colorbar\": {\"outlinewidth\": 0, \"ticks\": \"\"}}, \"colorscale\": {\"diverging\": [[0, \"#8e0152\"], [0.1, \"#c51b7d\"], [0.2, \"#de77ae\"], [0.3, \"#f1b6da\"], [0.4, \"#fde0ef\"], [0.5, \"#f7f7f7\"], [0.6, \"#e6f5d0\"], [0.7, \"#b8e186\"], [0.8, \"#7fbc41\"], [0.9, \"#4d9221\"], [1, \"#276419\"]], \"sequential\": [[0.0, \"#0d0887\"], [0.1111111111111111, \"#46039f\"], [0.2222222222222222, \"#7201a8\"], [0.3333333333333333, \"#9c179e\"], [0.4444444444444444, \"#bd3786\"], [0.5555555555555556, \"#d8576b\"], [0.6666666666666666, \"#ed7953\"], [0.7777777777777778, \"#fb9f3a\"], [0.8888888888888888, \"#fdca26\"], [1.0, \"#f0f921\"]], \"sequentialminus\": [[0.0, \"#0d0887\"], [0.1111111111111111, \"#46039f\"], [0.2222222222222222, \"#7201a8\"], [0.3333333333333333, \"#9c179e\"], [0.4444444444444444, \"#bd3786\"], [0.5555555555555556, \"#d8576b\"], [0.6666666666666666, \"#ed7953\"], [0.7777777777777778, \"#fb9f3a\"], [0.8888888888888888, \"#fdca26\"], [1.0, \"#f0f921\"]]}, \"colorway\": [\"#636efa\", \"#EF553B\", \"#00cc96\", \"#ab63fa\", \"#FFA15A\", \"#19d3f3\", \"#FF6692\", \"#B6E880\", \"#FF97FF\", \"#FECB52\"], \"font\": {\"color\": \"#2a3f5f\"}, \"geo\": {\"bgcolor\": \"white\", \"lakecolor\": \"white\", \"landcolor\": \"#E5ECF6\", \"showlakes\": true, \"showland\": true, \"subunitcolor\": \"white\"}, \"hoverlabel\": {\"align\": \"left\"}, \"hovermode\": \"closest\", \"mapbox\": {\"style\": \"light\"}, \"paper_bgcolor\": \"white\", \"plot_bgcolor\": \"#E5ECF6\", \"polar\": {\"angularaxis\": {\"gridcolor\": \"white\", \"linecolor\": \"white\", \"ticks\": \"\"}, \"bgcolor\": \"#E5ECF6\", \"radialaxis\": {\"gridcolor\": \"white\", \"linecolor\": \"white\", \"ticks\": \"\"}}, \"scene\": {\"xaxis\": {\"backgroundcolor\": \"#E5ECF6\", \"gridcolor\": \"white\", \"gridwidth\": 2, \"linecolor\": \"white\", \"showbackground\": true, \"ticks\": \"\", \"zerolinecolor\": \"white\"}, \"yaxis\": {\"backgroundcolor\": \"#E5ECF6\", \"gridcolor\": \"white\", \"gridwidth\": 2, \"linecolor\": \"white\", \"showbackground\": true, \"ticks\": \"\", \"zerolinecolor\": \"white\"}, \"zaxis\": {\"backgroundcolor\": \"#E5ECF6\", \"gridcolor\": \"white\", \"gridwidth\": 2, \"linecolor\": \"white\", \"showbackground\": true, \"ticks\": \"\", \"zerolinecolor\": \"white\"}}, \"shapedefaults\": {\"line\": {\"color\": \"#2a3f5f\"}}, \"ternary\": {\"aaxis\": {\"gridcolor\": \"white\", \"linecolor\": \"white\", \"ticks\": \"\"}, \"baxis\": {\"gridcolor\": \"white\", \"linecolor\": \"white\", \"ticks\": \"\"}, \"bgcolor\": \"#E5ECF6\", \"caxis\": {\"gridcolor\": \"white\", \"linecolor\": \"white\", \"ticks\": \"\"}}, \"title\": {\"x\": 0.05}, \"xaxis\": {\"automargin\": true, \"gridcolor\": \"white\", \"linecolor\": \"white\", \"ticks\": \"\", \"title\": {\"standoff\": 15}, \"zerolinecolor\": \"white\", \"zerolinewidth\": 2}, \"yaxis\": {\"automargin\": true, \"gridcolor\": \"white\", \"linecolor\": \"white\", \"ticks\": \"\", \"title\": {\"standoff\": 15}, \"zerolinecolor\": \"white\", \"zerolinewidth\": 2}}}, \"xaxis\": {\"anchor\": \"y\", \"domain\": [0.0, 1.0], \"title\": {\"text\": \"Iteration\"}}, \"yaxis\": {\"anchor\": \"x\", \"domain\": [0.0, 1.0], \"title\": {\"text\": \"Signed ee\"}}},\n",
              "                        {\"responsive\": true}\n",
              "                    ).then(function(){\n",
              "                            \n",
              "var gd = document.getElementById('2f3c81ed-2e0f-4464-b053-57ab67b18566');\n",
              "var x = new MutationObserver(function (mutations, observer) {{\n",
              "        var display = window.getComputedStyle(gd).display;\n",
              "        if (!display || display === 'none') {{\n",
              "            console.log([gd, 'removed!']);\n",
              "            Plotly.purge(gd);\n",
              "            observer.disconnect();\n",
              "        }}\n",
              "}});\n",
              "\n",
              "// Listen for the removal of the full notebook cells\n",
              "var notebookContainer = gd.closest('#notebook-container');\n",
              "if (notebookContainer) {{\n",
              "    x.observe(notebookContainer, {childList: true});\n",
              "}}\n",
              "\n",
              "// Listen for the clearing of the current output cell\n",
              "var outputEl = gd.closest('.output');\n",
              "if (outputEl) {{\n",
              "    x.observe(outputEl, {childList: true});\n",
              "}}\n",
              "\n",
              "                        })\n",
              "                };\n",
              "                \n",
              "            </script>\n",
              "        </div>\n",
              "</body>\n",
              "</html>"
            ]
          },
          "metadata": {
            "tags": [
              "id15_content_0",
              "outputarea_id15",
              "user_output"
            ]
          }
        },
        {
          "output_type": "display_data",
          "data": {
            "application/javascript": [
              "window[\"1692c478-d5d0-11ea-88cf-0242ac1c0002\"] = google.colab.output.setActiveOutputArea(window[\"15df5712-d5d0-11ea-88cf-0242ac1c0002\"]);\n",
              "//# sourceURL=js_e1737f3ef9"
            ],
            "text/plain": [
              "<IPython.core.display.Javascript object>"
            ]
          },
          "metadata": {
            "tags": [
              "id15_content_0",
              "outputarea_id15"
            ]
          }
        },
        {
          "output_type": "display_data",
          "data": {
            "application/javascript": [
              "window[\"1695c8d0-d5d0-11ea-88cf-0242ac1c0002\"] = google.colab.output.getActiveOutputArea();\n",
              "//# sourceURL=js_847cd4515b"
            ],
            "text/plain": [
              "<IPython.core.display.Javascript object>"
            ]
          },
          "metadata": {
            "tags": [
              "id15_content_1",
              "outputarea_id15"
            ]
          }
        },
        {
          "output_type": "display_data",
          "data": {
            "application/javascript": [
              "window[\"1696519c-d5d0-11ea-88cf-0242ac1c0002\"] = document.querySelector(\"#id15_content_1\");\n",
              "//# sourceURL=js_dbf61c1b8d"
            ],
            "text/plain": [
              "<IPython.core.display.Javascript object>"
            ]
          },
          "metadata": {
            "tags": [
              "id15_content_1",
              "outputarea_id15"
            ]
          }
        },
        {
          "output_type": "display_data",
          "data": {
            "application/javascript": [
              "window[\"1696bf6a-d5d0-11ea-88cf-0242ac1c0002\"] = google.colab.output.setActiveOutputArea(window[\"1696519c-d5d0-11ea-88cf-0242ac1c0002\"]);\n",
              "//# sourceURL=js_7396fd0f94"
            ],
            "text/plain": [
              "<IPython.core.display.Javascript object>"
            ]
          },
          "metadata": {
            "tags": [
              "id15_content_1",
              "outputarea_id15"
            ]
          }
        },
        {
          "output_type": "display_data",
          "data": {
            "text/html": [
              "<html>\n",
              "<head><meta charset=\"utf-8\" /></head>\n",
              "<body>\n",
              "    <div>\n",
              "            <script src=\"https://cdnjs.cloudflare.com/ajax/libs/mathjax/2.7.5/MathJax.js?config=TeX-AMS-MML_SVG\"></script><script type=\"text/javascript\">if (window.MathJax) {MathJax.Hub.Config({SVG: {font: \"STIX-Web\"}});}</script>\n",
              "                <script type=\"text/javascript\">window.PlotlyConfig = {MathJaxConfig: 'local'};</script>\n",
              "        <script src=\"https://cdn.plot.ly/plotly-latest.min.js\"></script>    \n",
              "            <div id=\"da48cb20-ec04-40ca-8ef0-df8d33f2768f\" class=\"plotly-graph-div\" style=\"height:525px; width:100%;\"></div>\n",
              "            <script type=\"text/javascript\">\n",
              "                \n",
              "                    window.PLOTLYENV=window.PLOTLYENV || {};\n",
              "                    \n",
              "                if (document.getElementById(\"da48cb20-ec04-40ca-8ef0-df8d33f2768f\")) {\n",
              "                    Plotly.newPlot(\n",
              "                        'da48cb20-ec04-40ca-8ef0-df8d33f2768f',\n",
              "                        [{\"mode\": \"lines\", \"name\": \"left homochiral\", \"type\": \"scatter\", \"y\": [0.2421875, 0.2511013215859031, 0.2484472049689441, 0.24935064935064935, 0.2448512585812357, 0.23636363636363636, 0.2504672897196262, 0.25444839857651247, 0.2659758203799655, 0.2711864406779661, 0.2754098360655738, 0.2759170653907496, 0.28081123244929795, 0.28290468986384265, 0.27941176470588236, 0.27793696275071633, 0.2776203966005666, 0.2782485875706215, 0.27871148459383754, 0.28270042194092826, 0.2859135285913529, 0.2865013774104683, 0.2863013698630137, 0.2866847826086957, 0.2903663500678426, 0.2903663500678426, 0.28993288590604027, 0.289544235924933, 0.2897196261682243, 0.29088471849865954, 0.29088471849865954, 0.29088471849865954, 0.29088471849865954, 0.2910547396528705, 0.2897196261682243, 0.2897196261682243, 0.28933333333333333, 0.28950863213811423, 0.2900662251655629, 0.2896825396825397, 0.2896825396825397, 0.28835978835978837, 0.2892998678996037, 0.2892998678996037, 0.29023746701846964, 0.2898550724637681, 0.2898550724637681, 0.2898550724637681, 0.2898550724637681, 0.2898550724637681, 0.2898550724637681, 0.2898550724637681, 0.2898550724637681, 0.2898550724637681, 0.2898550724637681, 0.2898550724637681, 0.2898550724637681, 0.2898550724637681, 0.2898550724637681, 0.2898550724637681, 0.2898550724637681, 0.2898550724637681, 0.2898550724637681, 0.2898550724637681, 0.2898550724637681, 0.2898550724637681, 0.2898550724637681, 0.2898550724637681, 0.2898550724637681, 0.2898550724637681, 0.2898550724637681, 0.2898550724637681, 0.2898550724637681, 0.2898550724637681, 0.2898550724637681, 0.2898550724637681, 0.2898550724637681, 0.2898550724637681, 0.2898550724637681, 0.2898550724637681, 0.2898550724637681, 0.2898550724637681, 0.2898550724637681, 0.2898550724637681, 0.2898550724637681, 0.2898550724637681, 0.2898550724637681, 0.2898550724637681, 0.2898550724637681, 0.2898550724637681, 0.2898550724637681, 0.2898550724637681, 0.2898550724637681, 0.2898550724637681, 0.2898550724637681, 0.2898550724637681, 0.2898550724637681, 0.2898550724637681, 0.2898550724637681, 0.2898550724637681]}, {\"mode\": \"lines\", \"name\": \"right homochiral\", \"type\": \"scatter\", \"y\": [0.3046875, 0.29515418502202645, 0.2981366459627329, 0.3064935064935065, 0.30892448512585813, 0.296969696969697, 0.2841121495327103, 0.2846975088967972, 0.2918825561312608, 0.3, 0.30983606557377047, 0.3078149920255183, 0.31825273010920435, 0.3207261724659607, 0.325, 0.32951289398280803, 0.3328611898016997, 0.3333333333333333, 0.3333333333333333, 0.3361462728551336, 0.3333333333333333, 0.3347107438016529, 0.33972602739726027, 0.33967391304347827, 0.3405698778833107, 0.344640434192673, 0.34496644295302015, 0.34718498659517427, 0.34579439252336447, 0.34584450402144773, 0.3445040214477212, 0.3445040214477212, 0.34584450402144773, 0.34579439252336447, 0.3471295060080107, 0.3471295060080107, 0.3466666666666667, 0.3452855245683931, 0.3456953642384106, 0.34656084656084657, 0.3478835978835979, 0.3492063492063492, 0.3487450462351387, 0.3487450462351387, 0.3482849604221636, 0.34782608695652173, 0.34782608695652173, 0.34782608695652173, 0.34782608695652173, 0.34782608695652173, 0.34782608695652173, 0.34782608695652173, 0.34782608695652173, 0.34782608695652173, 0.34782608695652173, 0.34782608695652173, 0.34782608695652173, 0.34782608695652173, 0.34782608695652173, 0.34782608695652173, 0.34782608695652173, 0.34782608695652173, 0.34782608695652173, 0.34782608695652173, 0.34782608695652173, 0.34782608695652173, 0.34782608695652173, 0.34782608695652173, 0.34782608695652173, 0.34782608695652173, 0.34782608695652173, 0.34782608695652173, 0.34782608695652173, 0.34782608695652173, 0.34782608695652173, 0.34782608695652173, 0.34782608695652173, 0.34782608695652173, 0.34782608695652173, 0.34782608695652173, 0.34782608695652173, 0.34782608695652173, 0.34782608695652173, 0.34782608695652173, 0.34782608695652173, 0.34782608695652173, 0.34782608695652173, 0.34782608695652173, 0.34782608695652173, 0.34782608695652173, 0.34782608695652173, 0.34782608695652173, 0.34782608695652173, 0.34782608695652173, 0.34782608695652173, 0.34782608695652173, 0.34782608695652173, 0.34782608695652173, 0.34782608695652173, 0.34782608695652173]}, {\"mode\": \"lines\", \"name\": \"heterochiral\", \"type\": \"scatter\", \"y\": [0.453125, 0.45374449339207046, 0.453416149068323, 0.44415584415584414, 0.4462242562929062, 0.4666666666666667, 0.4654205607476635, 0.4608540925266904, 0.4421416234887737, 0.4288135593220339, 0.41475409836065574, 0.41626794258373206, 0.40093603744149764, 0.39636913767019666, 0.39558823529411763, 0.39255014326647564, 0.3895184135977337, 0.3884180790960452, 0.38795518207282914, 0.38115330520393814, 0.3807531380753138, 0.3787878787878788, 0.37397260273972605, 0.3736413043478261, 0.36906377204884666, 0.3649932157394844, 0.3651006711409396, 0.3632707774798928, 0.3644859813084112, 0.3632707774798928, 0.3646112600536193, 0.3646112600536193, 0.3632707774798928, 0.36315086782376504, 0.36315086782376504, 0.36315086782376504, 0.364, 0.3652058432934927, 0.36423841059602646, 0.3637566137566138, 0.36243386243386244, 0.36243386243386244, 0.3619550858652576, 0.3619550858652576, 0.36147757255936674, 0.36231884057971014, 0.36231884057971014, 0.36231884057971014, 0.36231884057971014, 0.36231884057971014, 0.36231884057971014, 0.36231884057971014, 0.36231884057971014, 0.36231884057971014, 0.36231884057971014, 0.36231884057971014, 0.36231884057971014, 0.36231884057971014, 0.36231884057971014, 0.36231884057971014, 0.36231884057971014, 0.36231884057971014, 0.36231884057971014, 0.36231884057971014, 0.36231884057971014, 0.36231884057971014, 0.36231884057971014, 0.36231884057971014, 0.36231884057971014, 0.36231884057971014, 0.36231884057971014, 0.36231884057971014, 0.36231884057971014, 0.36231884057971014, 0.36231884057971014, 0.36231884057971014, 0.36231884057971014, 0.36231884057971014, 0.36231884057971014, 0.36231884057971014, 0.36231884057971014, 0.36231884057971014, 0.36231884057971014, 0.36231884057971014, 0.36231884057971014, 0.36231884057971014, 0.36231884057971014, 0.36231884057971014, 0.36231884057971014, 0.36231884057971014, 0.36231884057971014, 0.36231884057971014, 0.36231884057971014, 0.36231884057971014, 0.36231884057971014, 0.36231884057971014, 0.36231884057971014, 0.36231884057971014, 0.36231884057971014, 0.36231884057971014]}],\n",
              "                        {\"template\": {\"data\": {\"bar\": [{\"error_x\": {\"color\": \"#2a3f5f\"}, \"error_y\": {\"color\": \"#2a3f5f\"}, \"marker\": {\"line\": {\"color\": \"#E5ECF6\", \"width\": 0.5}}, \"type\": \"bar\"}], \"barpolar\": [{\"marker\": {\"line\": {\"color\": \"#E5ECF6\", \"width\": 0.5}}, \"type\": \"barpolar\"}], \"carpet\": [{\"aaxis\": {\"endlinecolor\": \"#2a3f5f\", \"gridcolor\": \"white\", \"linecolor\": \"white\", \"minorgridcolor\": \"white\", \"startlinecolor\": \"#2a3f5f\"}, \"baxis\": {\"endlinecolor\": \"#2a3f5f\", \"gridcolor\": \"white\", \"linecolor\": \"white\", \"minorgridcolor\": \"white\", \"startlinecolor\": \"#2a3f5f\"}, \"type\": \"carpet\"}], \"choropleth\": [{\"colorbar\": {\"outlinewidth\": 0, \"ticks\": \"\"}, \"type\": \"choropleth\"}], \"contour\": [{\"colorbar\": {\"outlinewidth\": 0, \"ticks\": \"\"}, \"colorscale\": [[0.0, \"#0d0887\"], [0.1111111111111111, \"#46039f\"], [0.2222222222222222, \"#7201a8\"], [0.3333333333333333, \"#9c179e\"], [0.4444444444444444, \"#bd3786\"], [0.5555555555555556, \"#d8576b\"], [0.6666666666666666, \"#ed7953\"], [0.7777777777777778, \"#fb9f3a\"], [0.8888888888888888, \"#fdca26\"], [1.0, \"#f0f921\"]], \"type\": \"contour\"}], \"contourcarpet\": [{\"colorbar\": {\"outlinewidth\": 0, \"ticks\": \"\"}, \"type\": \"contourcarpet\"}], \"heatmap\": [{\"colorbar\": {\"outlinewidth\": 0, \"ticks\": \"\"}, \"colorscale\": [[0.0, \"#0d0887\"], [0.1111111111111111, \"#46039f\"], [0.2222222222222222, \"#7201a8\"], [0.3333333333333333, \"#9c179e\"], [0.4444444444444444, \"#bd3786\"], [0.5555555555555556, \"#d8576b\"], [0.6666666666666666, \"#ed7953\"], [0.7777777777777778, \"#fb9f3a\"], [0.8888888888888888, \"#fdca26\"], [1.0, \"#f0f921\"]], \"type\": \"heatmap\"}], \"heatmapgl\": [{\"colorbar\": {\"outlinewidth\": 0, \"ticks\": \"\"}, \"colorscale\": [[0.0, \"#0d0887\"], [0.1111111111111111, \"#46039f\"], [0.2222222222222222, \"#7201a8\"], [0.3333333333333333, \"#9c179e\"], [0.4444444444444444, \"#bd3786\"], [0.5555555555555556, \"#d8576b\"], [0.6666666666666666, \"#ed7953\"], [0.7777777777777778, \"#fb9f3a\"], [0.8888888888888888, \"#fdca26\"], [1.0, \"#f0f921\"]], \"type\": \"heatmapgl\"}], \"histogram\": [{\"marker\": {\"colorbar\": {\"outlinewidth\": 0, \"ticks\": \"\"}}, \"type\": \"histogram\"}], \"histogram2d\": [{\"colorbar\": {\"outlinewidth\": 0, \"ticks\": \"\"}, \"colorscale\": [[0.0, \"#0d0887\"], [0.1111111111111111, \"#46039f\"], [0.2222222222222222, \"#7201a8\"], [0.3333333333333333, \"#9c179e\"], [0.4444444444444444, \"#bd3786\"], [0.5555555555555556, \"#d8576b\"], [0.6666666666666666, \"#ed7953\"], [0.7777777777777778, \"#fb9f3a\"], [0.8888888888888888, \"#fdca26\"], [1.0, \"#f0f921\"]], \"type\": \"histogram2d\"}], \"histogram2dcontour\": [{\"colorbar\": {\"outlinewidth\": 0, \"ticks\": \"\"}, \"colorscale\": [[0.0, \"#0d0887\"], [0.1111111111111111, \"#46039f\"], [0.2222222222222222, \"#7201a8\"], [0.3333333333333333, \"#9c179e\"], [0.4444444444444444, \"#bd3786\"], [0.5555555555555556, \"#d8576b\"], [0.6666666666666666, \"#ed7953\"], [0.7777777777777778, \"#fb9f3a\"], [0.8888888888888888, \"#fdca26\"], [1.0, \"#f0f921\"]], \"type\": \"histogram2dcontour\"}], \"mesh3d\": [{\"colorbar\": {\"outlinewidth\": 0, \"ticks\": \"\"}, \"type\": \"mesh3d\"}], \"parcoords\": [{\"line\": {\"colorbar\": {\"outlinewidth\": 0, \"ticks\": \"\"}}, \"type\": \"parcoords\"}], \"pie\": [{\"automargin\": true, \"type\": \"pie\"}], \"scatter\": [{\"marker\": {\"colorbar\": {\"outlinewidth\": 0, \"ticks\": \"\"}}, \"type\": \"scatter\"}], \"scatter3d\": [{\"line\": {\"colorbar\": {\"outlinewidth\": 0, \"ticks\": \"\"}}, \"marker\": {\"colorbar\": {\"outlinewidth\": 0, \"ticks\": \"\"}}, \"type\": \"scatter3d\"}], \"scattercarpet\": [{\"marker\": {\"colorbar\": {\"outlinewidth\": 0, \"ticks\": \"\"}}, \"type\": \"scattercarpet\"}], \"scattergeo\": [{\"marker\": {\"colorbar\": {\"outlinewidth\": 0, \"ticks\": \"\"}}, \"type\": \"scattergeo\"}], \"scattergl\": [{\"marker\": {\"colorbar\": {\"outlinewidth\": 0, \"ticks\": \"\"}}, \"type\": \"scattergl\"}], \"scattermapbox\": [{\"marker\": {\"colorbar\": {\"outlinewidth\": 0, \"ticks\": \"\"}}, \"type\": \"scattermapbox\"}], \"scatterpolar\": [{\"marker\": {\"colorbar\": {\"outlinewidth\": 0, \"ticks\": \"\"}}, \"type\": \"scatterpolar\"}], \"scatterpolargl\": [{\"marker\": {\"colorbar\": {\"outlinewidth\": 0, \"ticks\": \"\"}}, \"type\": \"scatterpolargl\"}], \"scatterternary\": [{\"marker\": {\"colorbar\": {\"outlinewidth\": 0, \"ticks\": \"\"}}, \"type\": \"scatterternary\"}], \"surface\": [{\"colorbar\": {\"outlinewidth\": 0, \"ticks\": \"\"}, \"colorscale\": [[0.0, \"#0d0887\"], [0.1111111111111111, \"#46039f\"], [0.2222222222222222, \"#7201a8\"], [0.3333333333333333, \"#9c179e\"], [0.4444444444444444, \"#bd3786\"], [0.5555555555555556, \"#d8576b\"], [0.6666666666666666, \"#ed7953\"], [0.7777777777777778, \"#fb9f3a\"], [0.8888888888888888, \"#fdca26\"], [1.0, \"#f0f921\"]], \"type\": \"surface\"}], \"table\": [{\"cells\": {\"fill\": {\"color\": \"#EBF0F8\"}, \"line\": {\"color\": \"white\"}}, \"header\": {\"fill\": {\"color\": \"#C8D4E3\"}, \"line\": {\"color\": \"white\"}}, \"type\": \"table\"}]}, \"layout\": {\"annotationdefaults\": {\"arrowcolor\": \"#2a3f5f\", \"arrowhead\": 0, \"arrowwidth\": 1}, \"coloraxis\": {\"colorbar\": {\"outlinewidth\": 0, \"ticks\": \"\"}}, \"colorscale\": {\"diverging\": [[0, \"#8e0152\"], [0.1, \"#c51b7d\"], [0.2, \"#de77ae\"], [0.3, \"#f1b6da\"], [0.4, \"#fde0ef\"], [0.5, \"#f7f7f7\"], [0.6, \"#e6f5d0\"], [0.7, \"#b8e186\"], [0.8, \"#7fbc41\"], [0.9, \"#4d9221\"], [1, \"#276419\"]], \"sequential\": [[0.0, \"#0d0887\"], [0.1111111111111111, \"#46039f\"], [0.2222222222222222, \"#7201a8\"], [0.3333333333333333, \"#9c179e\"], [0.4444444444444444, \"#bd3786\"], [0.5555555555555556, \"#d8576b\"], [0.6666666666666666, \"#ed7953\"], [0.7777777777777778, \"#fb9f3a\"], [0.8888888888888888, \"#fdca26\"], [1.0, \"#f0f921\"]], \"sequentialminus\": [[0.0, \"#0d0887\"], [0.1111111111111111, \"#46039f\"], [0.2222222222222222, \"#7201a8\"], [0.3333333333333333, \"#9c179e\"], [0.4444444444444444, \"#bd3786\"], [0.5555555555555556, \"#d8576b\"], [0.6666666666666666, \"#ed7953\"], [0.7777777777777778, \"#fb9f3a\"], [0.8888888888888888, \"#fdca26\"], [1.0, \"#f0f921\"]]}, \"colorway\": [\"#636efa\", \"#EF553B\", \"#00cc96\", \"#ab63fa\", \"#FFA15A\", \"#19d3f3\", \"#FF6692\", \"#B6E880\", \"#FF97FF\", \"#FECB52\"], \"font\": {\"color\": \"#2a3f5f\"}, \"geo\": {\"bgcolor\": \"white\", \"lakecolor\": \"white\", \"landcolor\": \"#E5ECF6\", \"showlakes\": true, \"showland\": true, \"subunitcolor\": \"white\"}, \"hoverlabel\": {\"align\": \"left\"}, \"hovermode\": \"closest\", \"mapbox\": {\"style\": \"light\"}, \"paper_bgcolor\": \"white\", \"plot_bgcolor\": \"#E5ECF6\", \"polar\": {\"angularaxis\": {\"gridcolor\": \"white\", \"linecolor\": \"white\", \"ticks\": \"\"}, \"bgcolor\": \"#E5ECF6\", \"radialaxis\": {\"gridcolor\": \"white\", \"linecolor\": \"white\", \"ticks\": \"\"}}, \"scene\": {\"xaxis\": {\"backgroundcolor\": \"#E5ECF6\", \"gridcolor\": \"white\", \"gridwidth\": 2, \"linecolor\": \"white\", \"showbackground\": true, \"ticks\": \"\", \"zerolinecolor\": \"white\"}, \"yaxis\": {\"backgroundcolor\": \"#E5ECF6\", \"gridcolor\": \"white\", \"gridwidth\": 2, \"linecolor\": \"white\", \"showbackground\": true, \"ticks\": \"\", \"zerolinecolor\": \"white\"}, \"zaxis\": {\"backgroundcolor\": \"#E5ECF6\", \"gridcolor\": \"white\", \"gridwidth\": 2, \"linecolor\": \"white\", \"showbackground\": true, \"ticks\": \"\", \"zerolinecolor\": \"white\"}}, \"shapedefaults\": {\"line\": {\"color\": \"#2a3f5f\"}}, \"ternary\": {\"aaxis\": {\"gridcolor\": \"white\", \"linecolor\": \"white\", \"ticks\": \"\"}, \"baxis\": {\"gridcolor\": \"white\", \"linecolor\": \"white\", \"ticks\": \"\"}, \"bgcolor\": \"#E5ECF6\", \"caxis\": {\"gridcolor\": \"white\", \"linecolor\": \"white\", \"ticks\": \"\"}}, \"title\": {\"x\": 0.05}, \"xaxis\": {\"automargin\": true, \"gridcolor\": \"white\", \"linecolor\": \"white\", \"ticks\": \"\", \"title\": {\"standoff\": 15}, \"zerolinecolor\": \"white\", \"zerolinewidth\": 2}, \"yaxis\": {\"automargin\": true, \"gridcolor\": \"white\", \"linecolor\": \"white\", \"ticks\": \"\", \"title\": {\"standoff\": 15}, \"zerolinecolor\": \"white\", \"zerolinewidth\": 2}}}, \"title\": {\"text\": \"Proportion of LL, RR, and LR bonds by iteration\"}, \"xaxis\": {\"title\": {\"text\": \"Iteration\"}}, \"yaxis\": {\"range\": [0, 1], \"title\": {\"text\": \"Proportion\"}}},\n",
              "                        {\"responsive\": true}\n",
              "                    ).then(function(){\n",
              "                            \n",
              "var gd = document.getElementById('da48cb20-ec04-40ca-8ef0-df8d33f2768f');\n",
              "var x = new MutationObserver(function (mutations, observer) {{\n",
              "        var display = window.getComputedStyle(gd).display;\n",
              "        if (!display || display === 'none') {{\n",
              "            console.log([gd, 'removed!']);\n",
              "            Plotly.purge(gd);\n",
              "            observer.disconnect();\n",
              "        }}\n",
              "}});\n",
              "\n",
              "// Listen for the removal of the full notebook cells\n",
              "var notebookContainer = gd.closest('#notebook-container');\n",
              "if (notebookContainer) {{\n",
              "    x.observe(notebookContainer, {childList: true});\n",
              "}}\n",
              "\n",
              "// Listen for the clearing of the current output cell\n",
              "var outputEl = gd.closest('.output');\n",
              "if (outputEl) {{\n",
              "    x.observe(outputEl, {childList: true});\n",
              "}}\n",
              "\n",
              "                        })\n",
              "                };\n",
              "                \n",
              "            </script>\n",
              "        </div>\n",
              "</body>\n",
              "</html>"
            ]
          },
          "metadata": {
            "tags": [
              "id15_content_1",
              "outputarea_id15",
              "user_output"
            ]
          }
        },
        {
          "output_type": "display_data",
          "data": {
            "application/javascript": [
              "window[\"16b05024-d5d0-11ea-88cf-0242ac1c0002\"] = google.colab.output.setActiveOutputArea(window[\"1695c8d0-d5d0-11ea-88cf-0242ac1c0002\"]);\n",
              "//# sourceURL=js_833f91e226"
            ],
            "text/plain": [
              "<IPython.core.display.Javascript object>"
            ]
          },
          "metadata": {
            "tags": [
              "id15_content_1",
              "outputarea_id15"
            ]
          }
        },
        {
          "output_type": "display_data",
          "data": {
            "application/javascript": [
              "window[\"16b1b89c-d5d0-11ea-88cf-0242ac1c0002\"] = google.colab.output.getActiveOutputArea();\n",
              "//# sourceURL=js_0dde2baaa6"
            ],
            "text/plain": [
              "<IPython.core.display.Javascript object>"
            ]
          },
          "metadata": {
            "tags": [
              "id15_content_4",
              "outputarea_id15"
            ]
          }
        },
        {
          "output_type": "display_data",
          "data": {
            "application/javascript": [
              "window[\"16b1fba4-d5d0-11ea-88cf-0242ac1c0002\"] = document.querySelector(\"#id15_content_4\");\n",
              "//# sourceURL=js_8d6cff49e7"
            ],
            "text/plain": [
              "<IPython.core.display.Javascript object>"
            ]
          },
          "metadata": {
            "tags": [
              "id15_content_4",
              "outputarea_id15"
            ]
          }
        },
        {
          "output_type": "display_data",
          "data": {
            "application/javascript": [
              "window[\"16b295f0-d5d0-11ea-88cf-0242ac1c0002\"] = google.colab.output.setActiveOutputArea(window[\"16b1fba4-d5d0-11ea-88cf-0242ac1c0002\"]);\n",
              "//# sourceURL=js_dfcbc61a63"
            ],
            "text/plain": [
              "<IPython.core.display.Javascript object>"
            ]
          },
          "metadata": {
            "tags": [
              "id15_content_4",
              "outputarea_id15"
            ]
          }
        },
        {
          "output_type": "display_data",
          "data": {
            "text/html": [
              "<html>\n",
              "<head><meta charset=\"utf-8\" /></head>\n",
              "<body>\n",
              "    <div>\n",
              "            <script src=\"https://cdnjs.cloudflare.com/ajax/libs/mathjax/2.7.5/MathJax.js?config=TeX-AMS-MML_SVG\"></script><script type=\"text/javascript\">if (window.MathJax) {MathJax.Hub.Config({SVG: {font: \"STIX-Web\"}});}</script>\n",
              "                <script type=\"text/javascript\">window.PlotlyConfig = {MathJaxConfig: 'local'};</script>\n",
              "        <script src=\"https://cdn.plot.ly/plotly-latest.min.js\"></script>    \n",
              "            <div id=\"99624e74-76d9-49d6-9b4e-0973deb5832b\" class=\"plotly-graph-div\" style=\"height:525px; width:100%;\"></div>\n",
              "            <script type=\"text/javascript\">\n",
              "                \n",
              "                    window.PLOTLYENV=window.PLOTLYENV || {};\n",
              "                    \n",
              "                if (document.getElementById(\"99624e74-76d9-49d6-9b4e-0973deb5832b\")) {\n",
              "                    Plotly.newPlot(\n",
              "                        '99624e74-76d9-49d6-9b4e-0973deb5832b',\n",
              "                        [{\"hoverlabel\": {\"namelength\": 0}, \"hovertemplate\": \"Iteration=0<br>Length=%{x}<br>%Homochirality=%{y}\", \"legendgroup\": \"\", \"marker\": {\"color\": \"#636efa\", \"symbol\": \"circle\"}, \"mode\": \"markers\", \"name\": \"\", \"showlegend\": false, \"type\": \"scatter\", \"x\": [1, 1, 1, 1, 1, 1, 1, 1, 1, 1, 1, 1, 1, 1, 1, 1, 1, 1, 1, 1, 1, 1, 1, 1, 1, 1, 1, 1, 1, 1, 1, 1, 1, 1, 1, 1, 1, 1, 1, 1, 1, 1, 1, 1, 1, 1, 1, 1, 1, 1, 1, 1, 1, 1, 1, 1, 1, 1, 1, 1, 1, 1, 1, 1, 1, 1, 1, 1, 1, 1, 1, 1, 1, 1, 1, 1, 1, 1, 1, 1, 1, 1, 1, 1, 1, 1, 1, 1, 1, 1, 1, 1, 1, 1, 1, 1, 1, 1, 1, 1, 1, 1, 1, 1, 1, 1, 1, 1, 1, 1, 1, 1, 1, 1, 1, 1, 1, 1, 1, 1, 1, 1, 1, 1, 1, 1, 1, 1, 1, 1, 1, 1, 1, 1, 1, 1, 1, 1, 1, 1, 1, 1, 1, 1, 1, 1, 1, 1, 1, 1, 1, 1, 1, 1, 1, 1, 1, 1, 1, 1, 1, 1, 1, 1, 1, 1, 1, 1, 1, 1, 1, 1, 1, 1, 1, 1, 1, 1, 1, 1, 1, 1, 1, 1, 1, 1, 1, 1, 1, 1, 1, 1, 1, 1, 1, 1, 1, 1, 1, 1, 1, 1, 1, 1, 1, 1, 1, 1, 1, 1, 1, 1, 1, 1, 1, 1, 1, 1, 1, 1, 1, 1, 1, 1, 1, 1, 1, 1, 1, 1, 1, 1, 1, 1, 1, 1, 1, 1, 1, 1, 1, 1, 1, 1, 1, 1, 1, 1, 1, 1, 1, 1, 1, 1, 1, 1, 1, 1, 1, 1, 1, 1, 1, 1, 1, 1, 1, 1, 1, 1, 1, 1, 1, 1, 1, 1, 1, 1, 1, 1, 1, 1, 1, 1, 1, 1, 1, 1, 1, 1, 1, 1, 1, 1, 1, 1, 1, 1, 1, 1, 1, 1, 1, 1, 1, 1, 1, 1, 1, 1, 1, 1, 1, 1, 1, 1, 1, 1, 1, 1, 1, 1, 1, 1, 1, 1, 1, 1, 1, 1, 1, 1, 1, 1, 1, 1, 1, 1, 1, 1, 1, 1, 1, 1, 1, 1, 1, 1, 1, 1, 1, 1, 1, 1, 1, 1, 1, 1, 1, 1, 1, 1, 1, 1, 1, 1, 1, 1, 1, 1, 1, 1, 1, 1, 1, 1, 1, 1, 1, 1, 1, 1, 1, 1, 1, 1, 1, 1, 1, 1, 1, 1, 1, 1, 1, 1, 1, 1, 1, 1, 1, 1, 1, 1, 1, 1, 1, 1, 1, 1, 1, 1, 1, 1, 1, 1, 1, 1, 1, 1, 1, 1, 1, 1, 1, 1, 1, 1, 1, 1, 1, 1, 1, 1, 1, 1, 1, 1, 1, 1, 1, 1, 1, 1, 1, 1, 1, 1, 1, 1, 1, 1, 1, 1, 1, 1, 1, 1, 1, 1, 1, 1, 1, 1, 1, 1, 1, 1, 1, 1, 1, 1, 1, 1, 1, 1, 1, 1, 1, 1, 1, 1, 1, 1, 1, 1, 1, 1, 1, 1, 1, 1, 1, 1, 1, 1, 1, 1, 1, 1, 1, 1, 1, 1, 2, 2, 2, 2, 2, 2, 2, 2, 2, 2, 2, 2, 2, 2, 2, 2, 2, 2, 2, 2, 2, 2, 2, 2, 2, 2, 2, 2, 2, 2, 2, 2, 2, 2, 2, 2, 2, 2, 2, 2, 2, 2, 2, 2, 2, 2, 2, 2, 2, 2, 2, 2, 2, 2, 2, 2, 2, 2, 2, 2, 2, 2, 2, 2, 2, 2, 2, 2, 2, 2, 2, 2, 2, 2, 2, 2, 2, 2, 2, 2, 2, 2, 2, 2, 2, 2, 2, 2, 2, 2, 2, 2, 2, 2, 2, 2, 2, 2, 2, 2, 2, 2, 2, 2, 2, 2, 2, 2, 2, 2, 2, 2, 2, 2, 2, 2, 2, 2, 2, 2, 2, 2, 2, 2, 2, 2, 2, 2], \"xaxis\": \"x\", \"y\": [null, null, null, null, null, null, null, null, null, null, null, null, null, null, null, null, null, null, null, null, null, null, null, null, null, null, null, null, null, null, null, null, null, null, null, null, null, null, null, null, null, null, null, null, null, null, null, null, null, null, null, null, null, null, null, null, null, null, null, null, null, null, null, null, null, null, null, null, null, null, null, null, null, null, null, null, null, null, null, null, null, null, null, null, null, null, null, null, null, null, null, null, null, null, null, null, null, null, null, null, null, null, null, null, null, null, null, null, null, null, null, null, null, null, null, null, null, null, null, null, null, null, null, null, null, null, null, null, null, null, null, null, null, null, null, null, null, null, null, null, null, null, null, null, null, null, null, null, null, null, null, null, null, null, null, null, null, null, null, null, null, null, null, null, null, null, null, null, null, null, null, null, null, null, null, null, null, null, null, null, null, null, null, null, null, null, null, null, null, null, null, null, null, null, null, null, null, null, null, null, null, null, null, null, null, null, null, null, null, null, null, null, null, null, null, null, null, null, null, null, null, null, null, null, null, null, null, null, null, null, null, null, null, null, null, null, null, null, null, null, null, null, null, null, null, null, null, null, null, null, null, null, null, null, null, null, null, null, null, null, null, null, null, null, null, null, null, null, null, null, null, null, null, null, null, null, null, null, null, null, null, null, null, null, null, null, null, null, null, null, null, null, null, null, null, null, null, null, null, null, null, null, null, null, null, null, null, null, null, null, null, null, null, null, null, null, null, null, null, null, null, null, null, null, null, null, null, null, null, null, null, null, null, null, null, null, null, null, null, null, null, null, null, null, null, null, null, null, null, null, null, null, null, null, null, null, null, null, null, null, null, null, null, null, null, null, null, null, null, null, null, null, null, null, null, null, null, null, null, null, null, null, null, null, null, null, null, null, null, null, null, null, null, null, null, null, null, null, null, null, null, null, null, null, null, null, null, null, null, null, null, null, null, null, null, null, null, null, null, null, null, null, null, null, null, null, null, null, null, null, null, null, null, null, null, null, null, null, null, null, null, null, null, null, null, null, null, null, null, null, null, null, null, null, null, null, null, null, null, null, null, null, null, null, null, null, null, null, null, null, null, null, null, null, null, null, null, null, null, null, null, null, null, null, null, null, null, null, null, null, null, null, null, null, null, null, null, null, null, null, null, null, null, null, 1.0, 1.0, 1.0, 1.0, 1.0, 0.0, 1.0, 0.0, 0.0, 0.0, 1.0, 1.0, 1.0, 0.0, 1.0, 0.0, 1.0, 1.0, 1.0, 0.0, 1.0, 1.0, 1.0, 0.0, 0.0, 0.0, 0.0, 0.0, 0.0, 1.0, 0.0, 0.0, 1.0, 1.0, 1.0, 0.0, 0.0, 1.0, 1.0, 0.0, 0.0, 1.0, 0.0, 1.0, 0.0, 0.0, 0.0, 1.0, 1.0, 1.0, 0.0, 0.0, 1.0, 1.0, 1.0, 0.0, 1.0, 0.0, 1.0, 0.0, 1.0, 0.0, 1.0, 1.0, 0.0, 1.0, 1.0, 1.0, 1.0, 1.0, 0.0, 0.0, 1.0, 0.0, 1.0, 1.0, 1.0, 0.0, 1.0, 1.0, 1.0, 1.0, 0.0, 1.0, 0.0, 1.0, 1.0, 0.0, 1.0, 1.0, 0.0, 1.0, 0.0, 0.0, 0.0, 1.0, 1.0, 0.0, 0.0, 1.0, 0.0, 1.0, 0.0, 1.0, 0.0, 0.0, 1.0, 0.0, 1.0, 0.0, 1.0, 1.0, 0.0, 0.0, 1.0, 1.0, 1.0, 0.0, 1.0, 0.0, 1.0, 0.0, 1.0, 1.0, 0.0, 0.0, 0.0, 0.0], \"yaxis\": \"y\"}],\n",
              "                        {\"legend\": {\"tracegroupgap\": 0}, \"margin\": {\"t\": 60}, \"sliders\": [{\"active\": 0, \"currentvalue\": {\"prefix\": \"Iteration=\"}, \"len\": 0.9, \"pad\": {\"b\": 10, \"t\": 60}, \"steps\": [{\"args\": [[\"0\"], {\"frame\": {\"duration\": 0, \"redraw\": false}, \"fromcurrent\": true, \"mode\": \"immediate\", \"transition\": {\"duration\": 0, \"easing\": \"linear\"}}], \"label\": \"0\", \"method\": \"animate\"}, {\"args\": [[\"1\"], {\"frame\": {\"duration\": 0, \"redraw\": false}, \"fromcurrent\": true, \"mode\": \"immediate\", \"transition\": {\"duration\": 0, \"easing\": \"linear\"}}], \"label\": \"1\", \"method\": \"animate\"}, {\"args\": [[\"2\"], {\"frame\": {\"duration\": 0, \"redraw\": false}, \"fromcurrent\": true, \"mode\": \"immediate\", \"transition\": {\"duration\": 0, \"easing\": \"linear\"}}], \"label\": \"2\", \"method\": \"animate\"}, {\"args\": [[\"3\"], {\"frame\": {\"duration\": 0, \"redraw\": false}, \"fromcurrent\": true, \"mode\": \"immediate\", \"transition\": {\"duration\": 0, \"easing\": \"linear\"}}], \"label\": \"3\", \"method\": \"animate\"}, {\"args\": [[\"4\"], {\"frame\": {\"duration\": 0, \"redraw\": false}, \"fromcurrent\": true, \"mode\": \"immediate\", \"transition\": {\"duration\": 0, \"easing\": \"linear\"}}], \"label\": \"4\", \"method\": \"animate\"}, {\"args\": [[\"5\"], {\"frame\": {\"duration\": 0, \"redraw\": false}, \"fromcurrent\": true, \"mode\": \"immediate\", \"transition\": {\"duration\": 0, \"easing\": \"linear\"}}], \"label\": \"5\", \"method\": \"animate\"}, {\"args\": [[\"6\"], {\"frame\": {\"duration\": 0, \"redraw\": false}, \"fromcurrent\": true, \"mode\": \"immediate\", \"transition\": {\"duration\": 0, \"easing\": \"linear\"}}], \"label\": \"6\", \"method\": \"animate\"}, {\"args\": [[\"7\"], {\"frame\": {\"duration\": 0, \"redraw\": false}, \"fromcurrent\": true, \"mode\": \"immediate\", \"transition\": {\"duration\": 0, \"easing\": \"linear\"}}], \"label\": \"7\", \"method\": \"animate\"}, {\"args\": [[\"8\"], {\"frame\": {\"duration\": 0, \"redraw\": false}, \"fromcurrent\": true, \"mode\": \"immediate\", \"transition\": {\"duration\": 0, \"easing\": \"linear\"}}], \"label\": \"8\", \"method\": \"animate\"}, {\"args\": [[\"9\"], {\"frame\": {\"duration\": 0, \"redraw\": false}, \"fromcurrent\": true, \"mode\": \"immediate\", \"transition\": {\"duration\": 0, \"easing\": \"linear\"}}], \"label\": \"9\", \"method\": \"animate\"}, {\"args\": [[\"10\"], {\"frame\": {\"duration\": 0, \"redraw\": false}, \"fromcurrent\": true, \"mode\": \"immediate\", \"transition\": {\"duration\": 0, \"easing\": \"linear\"}}], \"label\": \"10\", \"method\": \"animate\"}, {\"args\": [[\"11\"], {\"frame\": {\"duration\": 0, \"redraw\": false}, \"fromcurrent\": true, \"mode\": \"immediate\", \"transition\": {\"duration\": 0, \"easing\": \"linear\"}}], \"label\": \"11\", \"method\": \"animate\"}, {\"args\": [[\"12\"], {\"frame\": {\"duration\": 0, \"redraw\": false}, \"fromcurrent\": true, \"mode\": \"immediate\", \"transition\": {\"duration\": 0, \"easing\": \"linear\"}}], \"label\": \"12\", \"method\": \"animate\"}, {\"args\": [[\"13\"], {\"frame\": {\"duration\": 0, \"redraw\": false}, \"fromcurrent\": true, \"mode\": \"immediate\", \"transition\": {\"duration\": 0, \"easing\": \"linear\"}}], \"label\": \"13\", \"method\": \"animate\"}, {\"args\": [[\"14\"], {\"frame\": {\"duration\": 0, \"redraw\": false}, \"fromcurrent\": true, \"mode\": \"immediate\", \"transition\": {\"duration\": 0, \"easing\": \"linear\"}}], \"label\": \"14\", \"method\": \"animate\"}, {\"args\": [[\"15\"], {\"frame\": {\"duration\": 0, \"redraw\": false}, \"fromcurrent\": true, \"mode\": \"immediate\", \"transition\": {\"duration\": 0, \"easing\": \"linear\"}}], \"label\": \"15\", \"method\": \"animate\"}, {\"args\": [[\"16\"], {\"frame\": {\"duration\": 0, \"redraw\": false}, \"fromcurrent\": true, \"mode\": \"immediate\", \"transition\": {\"duration\": 0, \"easing\": \"linear\"}}], \"label\": \"16\", \"method\": \"animate\"}, {\"args\": [[\"17\"], {\"frame\": {\"duration\": 0, \"redraw\": false}, \"fromcurrent\": true, \"mode\": \"immediate\", \"transition\": {\"duration\": 0, \"easing\": \"linear\"}}], \"label\": \"17\", \"method\": \"animate\"}, {\"args\": [[\"18\"], {\"frame\": {\"duration\": 0, \"redraw\": false}, \"fromcurrent\": true, \"mode\": \"immediate\", \"transition\": {\"duration\": 0, \"easing\": \"linear\"}}], \"label\": \"18\", \"method\": \"animate\"}, {\"args\": [[\"19\"], {\"frame\": {\"duration\": 0, \"redraw\": false}, \"fromcurrent\": true, \"mode\": \"immediate\", \"transition\": {\"duration\": 0, \"easing\": \"linear\"}}], \"label\": \"19\", \"method\": \"animate\"}, {\"args\": [[\"20\"], {\"frame\": {\"duration\": 0, \"redraw\": false}, \"fromcurrent\": true, \"mode\": \"immediate\", \"transition\": {\"duration\": 0, \"easing\": \"linear\"}}], \"label\": \"20\", \"method\": \"animate\"}, {\"args\": [[\"21\"], {\"frame\": {\"duration\": 0, \"redraw\": false}, \"fromcurrent\": true, \"mode\": \"immediate\", \"transition\": {\"duration\": 0, \"easing\": \"linear\"}}], \"label\": \"21\", \"method\": \"animate\"}, {\"args\": [[\"22\"], {\"frame\": {\"duration\": 0, \"redraw\": false}, \"fromcurrent\": true, \"mode\": \"immediate\", \"transition\": {\"duration\": 0, \"easing\": \"linear\"}}], \"label\": \"22\", \"method\": \"animate\"}, {\"args\": [[\"23\"], {\"frame\": {\"duration\": 0, \"redraw\": false}, \"fromcurrent\": true, \"mode\": \"immediate\", \"transition\": {\"duration\": 0, \"easing\": \"linear\"}}], \"label\": \"23\", \"method\": \"animate\"}, {\"args\": [[\"24\"], {\"frame\": {\"duration\": 0, \"redraw\": false}, \"fromcurrent\": true, \"mode\": \"immediate\", \"transition\": {\"duration\": 0, \"easing\": \"linear\"}}], \"label\": \"24\", \"method\": \"animate\"}, {\"args\": [[\"25\"], {\"frame\": {\"duration\": 0, \"redraw\": false}, \"fromcurrent\": true, \"mode\": \"immediate\", \"transition\": {\"duration\": 0, \"easing\": \"linear\"}}], \"label\": \"25\", \"method\": \"animate\"}, {\"args\": [[\"26\"], {\"frame\": {\"duration\": 0, \"redraw\": false}, \"fromcurrent\": true, \"mode\": \"immediate\", \"transition\": {\"duration\": 0, \"easing\": \"linear\"}}], \"label\": \"26\", \"method\": \"animate\"}, {\"args\": [[\"27\"], {\"frame\": {\"duration\": 0, \"redraw\": false}, \"fromcurrent\": true, \"mode\": \"immediate\", \"transition\": {\"duration\": 0, \"easing\": \"linear\"}}], \"label\": \"27\", \"method\": \"animate\"}, {\"args\": [[\"28\"], {\"frame\": {\"duration\": 0, \"redraw\": false}, \"fromcurrent\": true, \"mode\": \"immediate\", \"transition\": {\"duration\": 0, \"easing\": \"linear\"}}], \"label\": \"28\", \"method\": \"animate\"}, {\"args\": [[\"29\"], {\"frame\": {\"duration\": 0, \"redraw\": false}, \"fromcurrent\": true, \"mode\": \"immediate\", \"transition\": {\"duration\": 0, \"easing\": \"linear\"}}], \"label\": \"29\", \"method\": \"animate\"}, {\"args\": [[\"30\"], {\"frame\": {\"duration\": 0, \"redraw\": false}, \"fromcurrent\": true, \"mode\": \"immediate\", \"transition\": {\"duration\": 0, \"easing\": \"linear\"}}], \"label\": \"30\", \"method\": \"animate\"}, {\"args\": [[\"31\"], {\"frame\": {\"duration\": 0, \"redraw\": false}, \"fromcurrent\": true, \"mode\": \"immediate\", \"transition\": {\"duration\": 0, \"easing\": \"linear\"}}], \"label\": \"31\", \"method\": \"animate\"}, {\"args\": [[\"32\"], {\"frame\": {\"duration\": 0, \"redraw\": false}, \"fromcurrent\": true, \"mode\": \"immediate\", \"transition\": {\"duration\": 0, \"easing\": \"linear\"}}], \"label\": \"32\", \"method\": \"animate\"}, {\"args\": [[\"33\"], {\"frame\": {\"duration\": 0, \"redraw\": false}, \"fromcurrent\": true, \"mode\": \"immediate\", \"transition\": {\"duration\": 0, \"easing\": \"linear\"}}], \"label\": \"33\", \"method\": \"animate\"}, {\"args\": [[\"34\"], {\"frame\": {\"duration\": 0, \"redraw\": false}, \"fromcurrent\": true, \"mode\": \"immediate\", \"transition\": {\"duration\": 0, \"easing\": \"linear\"}}], \"label\": \"34\", \"method\": \"animate\"}, {\"args\": [[\"35\"], {\"frame\": {\"duration\": 0, \"redraw\": false}, \"fromcurrent\": true, \"mode\": \"immediate\", \"transition\": {\"duration\": 0, \"easing\": \"linear\"}}], \"label\": \"35\", \"method\": \"animate\"}, {\"args\": [[\"36\"], {\"frame\": {\"duration\": 0, \"redraw\": false}, \"fromcurrent\": true, \"mode\": \"immediate\", \"transition\": {\"duration\": 0, \"easing\": \"linear\"}}], \"label\": \"36\", \"method\": \"animate\"}, {\"args\": [[\"37\"], {\"frame\": {\"duration\": 0, \"redraw\": false}, \"fromcurrent\": true, \"mode\": \"immediate\", \"transition\": {\"duration\": 0, \"easing\": \"linear\"}}], \"label\": \"37\", \"method\": \"animate\"}, {\"args\": [[\"38\"], {\"frame\": {\"duration\": 0, \"redraw\": false}, \"fromcurrent\": true, \"mode\": \"immediate\", \"transition\": {\"duration\": 0, \"easing\": \"linear\"}}], \"label\": \"38\", \"method\": \"animate\"}, {\"args\": [[\"39\"], {\"frame\": {\"duration\": 0, \"redraw\": false}, \"fromcurrent\": true, \"mode\": \"immediate\", \"transition\": {\"duration\": 0, \"easing\": \"linear\"}}], \"label\": \"39\", \"method\": \"animate\"}, {\"args\": [[\"40\"], {\"frame\": {\"duration\": 0, \"redraw\": false}, \"fromcurrent\": true, \"mode\": \"immediate\", \"transition\": {\"duration\": 0, \"easing\": \"linear\"}}], \"label\": \"40\", \"method\": \"animate\"}, {\"args\": [[\"41\"], {\"frame\": {\"duration\": 0, \"redraw\": false}, \"fromcurrent\": true, \"mode\": \"immediate\", \"transition\": {\"duration\": 0, \"easing\": \"linear\"}}], \"label\": \"41\", \"method\": \"animate\"}, {\"args\": [[\"42\"], {\"frame\": {\"duration\": 0, \"redraw\": false}, \"fromcurrent\": true, \"mode\": \"immediate\", \"transition\": {\"duration\": 0, \"easing\": \"linear\"}}], \"label\": \"42\", \"method\": \"animate\"}, {\"args\": [[\"43\"], {\"frame\": {\"duration\": 0, \"redraw\": false}, \"fromcurrent\": true, \"mode\": \"immediate\", \"transition\": {\"duration\": 0, \"easing\": \"linear\"}}], \"label\": \"43\", \"method\": \"animate\"}, {\"args\": [[\"44\"], {\"frame\": {\"duration\": 0, \"redraw\": false}, \"fromcurrent\": true, \"mode\": \"immediate\", \"transition\": {\"duration\": 0, \"easing\": \"linear\"}}], \"label\": \"44\", \"method\": \"animate\"}, {\"args\": [[\"45\"], {\"frame\": {\"duration\": 0, \"redraw\": false}, \"fromcurrent\": true, \"mode\": \"immediate\", \"transition\": {\"duration\": 0, \"easing\": \"linear\"}}], \"label\": \"45\", \"method\": \"animate\"}, {\"args\": [[\"46\"], {\"frame\": {\"duration\": 0, \"redraw\": false}, \"fromcurrent\": true, \"mode\": \"immediate\", \"transition\": {\"duration\": 0, \"easing\": \"linear\"}}], \"label\": \"46\", \"method\": \"animate\"}, {\"args\": [[\"47\"], {\"frame\": {\"duration\": 0, \"redraw\": false}, \"fromcurrent\": true, \"mode\": \"immediate\", \"transition\": {\"duration\": 0, \"easing\": \"linear\"}}], \"label\": \"47\", \"method\": \"animate\"}, {\"args\": [[\"48\"], {\"frame\": {\"duration\": 0, \"redraw\": false}, \"fromcurrent\": true, \"mode\": \"immediate\", \"transition\": {\"duration\": 0, \"easing\": \"linear\"}}], \"label\": \"48\", \"method\": \"animate\"}, {\"args\": [[\"49\"], {\"frame\": {\"duration\": 0, \"redraw\": false}, \"fromcurrent\": true, \"mode\": \"immediate\", \"transition\": {\"duration\": 0, \"easing\": \"linear\"}}], \"label\": \"49\", \"method\": \"animate\"}, {\"args\": [[\"50\"], {\"frame\": {\"duration\": 0, \"redraw\": false}, \"fromcurrent\": true, \"mode\": \"immediate\", \"transition\": {\"duration\": 0, \"easing\": \"linear\"}}], \"label\": \"50\", \"method\": \"animate\"}, {\"args\": [[\"51\"], {\"frame\": {\"duration\": 0, \"redraw\": false}, \"fromcurrent\": true, \"mode\": \"immediate\", \"transition\": {\"duration\": 0, \"easing\": \"linear\"}}], \"label\": \"51\", \"method\": \"animate\"}, {\"args\": [[\"52\"], {\"frame\": {\"duration\": 0, \"redraw\": false}, \"fromcurrent\": true, \"mode\": \"immediate\", \"transition\": {\"duration\": 0, \"easing\": \"linear\"}}], \"label\": \"52\", \"method\": \"animate\"}, {\"args\": [[\"53\"], {\"frame\": {\"duration\": 0, \"redraw\": false}, \"fromcurrent\": true, \"mode\": \"immediate\", \"transition\": {\"duration\": 0, \"easing\": \"linear\"}}], \"label\": \"53\", \"method\": \"animate\"}, {\"args\": [[\"54\"], {\"frame\": {\"duration\": 0, \"redraw\": false}, \"fromcurrent\": true, \"mode\": \"immediate\", \"transition\": {\"duration\": 0, \"easing\": \"linear\"}}], \"label\": \"54\", \"method\": \"animate\"}, {\"args\": [[\"55\"], {\"frame\": {\"duration\": 0, \"redraw\": false}, \"fromcurrent\": true, \"mode\": \"immediate\", \"transition\": {\"duration\": 0, \"easing\": \"linear\"}}], \"label\": \"55\", \"method\": \"animate\"}, {\"args\": [[\"56\"], {\"frame\": {\"duration\": 0, \"redraw\": false}, \"fromcurrent\": true, \"mode\": \"immediate\", \"transition\": {\"duration\": 0, \"easing\": \"linear\"}}], \"label\": \"56\", \"method\": \"animate\"}, {\"args\": [[\"57\"], {\"frame\": {\"duration\": 0, \"redraw\": false}, \"fromcurrent\": true, \"mode\": \"immediate\", \"transition\": {\"duration\": 0, \"easing\": \"linear\"}}], \"label\": \"57\", \"method\": \"animate\"}, {\"args\": [[\"58\"], {\"frame\": {\"duration\": 0, \"redraw\": false}, \"fromcurrent\": true, \"mode\": \"immediate\", \"transition\": {\"duration\": 0, \"easing\": \"linear\"}}], \"label\": \"58\", \"method\": \"animate\"}, {\"args\": [[\"59\"], {\"frame\": {\"duration\": 0, \"redraw\": false}, \"fromcurrent\": true, \"mode\": \"immediate\", \"transition\": {\"duration\": 0, \"easing\": \"linear\"}}], \"label\": \"59\", \"method\": \"animate\"}, {\"args\": [[\"60\"], {\"frame\": {\"duration\": 0, \"redraw\": false}, \"fromcurrent\": true, \"mode\": \"immediate\", \"transition\": {\"duration\": 0, \"easing\": \"linear\"}}], \"label\": \"60\", \"method\": \"animate\"}, {\"args\": [[\"61\"], {\"frame\": {\"duration\": 0, \"redraw\": false}, \"fromcurrent\": true, \"mode\": \"immediate\", \"transition\": {\"duration\": 0, \"easing\": \"linear\"}}], \"label\": \"61\", \"method\": \"animate\"}, {\"args\": [[\"62\"], {\"frame\": {\"duration\": 0, \"redraw\": false}, \"fromcurrent\": true, \"mode\": \"immediate\", \"transition\": {\"duration\": 0, \"easing\": \"linear\"}}], \"label\": \"62\", \"method\": \"animate\"}, {\"args\": [[\"63\"], {\"frame\": {\"duration\": 0, \"redraw\": false}, \"fromcurrent\": true, \"mode\": \"immediate\", \"transition\": {\"duration\": 0, \"easing\": \"linear\"}}], \"label\": \"63\", \"method\": \"animate\"}, {\"args\": [[\"64\"], {\"frame\": {\"duration\": 0, \"redraw\": false}, \"fromcurrent\": true, \"mode\": \"immediate\", \"transition\": {\"duration\": 0, \"easing\": \"linear\"}}], \"label\": \"64\", \"method\": \"animate\"}, {\"args\": [[\"65\"], {\"frame\": {\"duration\": 0, \"redraw\": false}, \"fromcurrent\": true, \"mode\": \"immediate\", \"transition\": {\"duration\": 0, \"easing\": \"linear\"}}], \"label\": \"65\", \"method\": \"animate\"}, {\"args\": [[\"66\"], {\"frame\": {\"duration\": 0, \"redraw\": false}, \"fromcurrent\": true, \"mode\": \"immediate\", \"transition\": {\"duration\": 0, \"easing\": \"linear\"}}], \"label\": \"66\", \"method\": \"animate\"}, {\"args\": [[\"67\"], {\"frame\": {\"duration\": 0, \"redraw\": false}, \"fromcurrent\": true, \"mode\": \"immediate\", \"transition\": {\"duration\": 0, \"easing\": \"linear\"}}], \"label\": \"67\", \"method\": \"animate\"}, {\"args\": [[\"68\"], {\"frame\": {\"duration\": 0, \"redraw\": false}, \"fromcurrent\": true, \"mode\": \"immediate\", \"transition\": {\"duration\": 0, \"easing\": \"linear\"}}], \"label\": \"68\", \"method\": \"animate\"}, {\"args\": [[\"69\"], {\"frame\": {\"duration\": 0, \"redraw\": false}, \"fromcurrent\": true, \"mode\": \"immediate\", \"transition\": {\"duration\": 0, \"easing\": \"linear\"}}], \"label\": \"69\", \"method\": \"animate\"}, {\"args\": [[\"70\"], {\"frame\": {\"duration\": 0, \"redraw\": false}, \"fromcurrent\": true, \"mode\": \"immediate\", \"transition\": {\"duration\": 0, \"easing\": \"linear\"}}], \"label\": \"70\", \"method\": \"animate\"}, {\"args\": [[\"71\"], {\"frame\": {\"duration\": 0, \"redraw\": false}, \"fromcurrent\": true, \"mode\": \"immediate\", \"transition\": {\"duration\": 0, \"easing\": \"linear\"}}], \"label\": \"71\", \"method\": \"animate\"}, {\"args\": [[\"72\"], {\"frame\": {\"duration\": 0, \"redraw\": false}, \"fromcurrent\": true, \"mode\": \"immediate\", \"transition\": {\"duration\": 0, \"easing\": \"linear\"}}], \"label\": \"72\", \"method\": \"animate\"}, {\"args\": [[\"73\"], {\"frame\": {\"duration\": 0, \"redraw\": false}, \"fromcurrent\": true, \"mode\": \"immediate\", \"transition\": {\"duration\": 0, \"easing\": \"linear\"}}], \"label\": \"73\", \"method\": \"animate\"}, {\"args\": [[\"74\"], {\"frame\": {\"duration\": 0, \"redraw\": false}, \"fromcurrent\": true, \"mode\": \"immediate\", \"transition\": {\"duration\": 0, \"easing\": \"linear\"}}], \"label\": \"74\", \"method\": \"animate\"}, {\"args\": [[\"75\"], {\"frame\": {\"duration\": 0, \"redraw\": false}, \"fromcurrent\": true, \"mode\": \"immediate\", \"transition\": {\"duration\": 0, \"easing\": \"linear\"}}], \"label\": \"75\", \"method\": \"animate\"}, {\"args\": [[\"76\"], {\"frame\": {\"duration\": 0, \"redraw\": false}, \"fromcurrent\": true, \"mode\": \"immediate\", \"transition\": {\"duration\": 0, \"easing\": \"linear\"}}], \"label\": \"76\", \"method\": \"animate\"}, {\"args\": [[\"77\"], {\"frame\": {\"duration\": 0, \"redraw\": false}, \"fromcurrent\": true, \"mode\": \"immediate\", \"transition\": {\"duration\": 0, \"easing\": \"linear\"}}], \"label\": \"77\", \"method\": \"animate\"}, {\"args\": [[\"78\"], {\"frame\": {\"duration\": 0, \"redraw\": false}, \"fromcurrent\": true, \"mode\": \"immediate\", \"transition\": {\"duration\": 0, \"easing\": \"linear\"}}], \"label\": \"78\", \"method\": \"animate\"}, {\"args\": [[\"79\"], {\"frame\": {\"duration\": 0, \"redraw\": false}, \"fromcurrent\": true, \"mode\": \"immediate\", \"transition\": {\"duration\": 0, \"easing\": \"linear\"}}], \"label\": \"79\", \"method\": \"animate\"}, {\"args\": [[\"80\"], {\"frame\": {\"duration\": 0, \"redraw\": false}, \"fromcurrent\": true, \"mode\": \"immediate\", \"transition\": {\"duration\": 0, \"easing\": \"linear\"}}], \"label\": \"80\", \"method\": \"animate\"}, {\"args\": [[\"81\"], {\"frame\": {\"duration\": 0, \"redraw\": false}, \"fromcurrent\": true, \"mode\": \"immediate\", \"transition\": {\"duration\": 0, \"easing\": \"linear\"}}], \"label\": \"81\", \"method\": \"animate\"}, {\"args\": [[\"82\"], {\"frame\": {\"duration\": 0, \"redraw\": false}, \"fromcurrent\": true, \"mode\": \"immediate\", \"transition\": {\"duration\": 0, \"easing\": \"linear\"}}], \"label\": \"82\", \"method\": \"animate\"}, {\"args\": [[\"83\"], {\"frame\": {\"duration\": 0, \"redraw\": false}, \"fromcurrent\": true, \"mode\": \"immediate\", \"transition\": {\"duration\": 0, \"easing\": \"linear\"}}], \"label\": \"83\", \"method\": \"animate\"}, {\"args\": [[\"84\"], {\"frame\": {\"duration\": 0, \"redraw\": false}, \"fromcurrent\": true, \"mode\": \"immediate\", \"transition\": {\"duration\": 0, \"easing\": \"linear\"}}], \"label\": \"84\", \"method\": \"animate\"}, {\"args\": [[\"85\"], {\"frame\": {\"duration\": 0, \"redraw\": false}, \"fromcurrent\": true, \"mode\": \"immediate\", \"transition\": {\"duration\": 0, \"easing\": \"linear\"}}], \"label\": \"85\", \"method\": \"animate\"}, {\"args\": [[\"86\"], {\"frame\": {\"duration\": 0, \"redraw\": false}, \"fromcurrent\": true, \"mode\": \"immediate\", \"transition\": {\"duration\": 0, \"easing\": \"linear\"}}], \"label\": \"86\", \"method\": \"animate\"}, {\"args\": [[\"87\"], {\"frame\": {\"duration\": 0, \"redraw\": false}, \"fromcurrent\": true, \"mode\": \"immediate\", \"transition\": {\"duration\": 0, \"easing\": \"linear\"}}], \"label\": \"87\", \"method\": \"animate\"}, {\"args\": [[\"88\"], {\"frame\": {\"duration\": 0, \"redraw\": false}, \"fromcurrent\": true, \"mode\": \"immediate\", \"transition\": {\"duration\": 0, \"easing\": \"linear\"}}], \"label\": \"88\", \"method\": \"animate\"}, {\"args\": [[\"89\"], {\"frame\": {\"duration\": 0, \"redraw\": false}, \"fromcurrent\": true, \"mode\": \"immediate\", \"transition\": {\"duration\": 0, \"easing\": \"linear\"}}], \"label\": \"89\", \"method\": \"animate\"}, {\"args\": [[\"90\"], {\"frame\": {\"duration\": 0, \"redraw\": false}, \"fromcurrent\": true, \"mode\": \"immediate\", \"transition\": {\"duration\": 0, \"easing\": \"linear\"}}], \"label\": \"90\", \"method\": \"animate\"}, {\"args\": [[\"91\"], {\"frame\": {\"duration\": 0, \"redraw\": false}, \"fromcurrent\": true, \"mode\": \"immediate\", \"transition\": {\"duration\": 0, \"easing\": \"linear\"}}], \"label\": \"91\", \"method\": \"animate\"}, {\"args\": [[\"92\"], {\"frame\": {\"duration\": 0, \"redraw\": false}, \"fromcurrent\": true, \"mode\": \"immediate\", \"transition\": {\"duration\": 0, \"easing\": \"linear\"}}], \"label\": \"92\", \"method\": \"animate\"}, {\"args\": [[\"93\"], {\"frame\": {\"duration\": 0, \"redraw\": false}, \"fromcurrent\": true, \"mode\": \"immediate\", \"transition\": {\"duration\": 0, \"easing\": \"linear\"}}], \"label\": \"93\", \"method\": \"animate\"}, {\"args\": [[\"94\"], {\"frame\": {\"duration\": 0, \"redraw\": false}, \"fromcurrent\": true, \"mode\": \"immediate\", \"transition\": {\"duration\": 0, \"easing\": \"linear\"}}], \"label\": \"94\", \"method\": \"animate\"}, {\"args\": [[\"95\"], {\"frame\": {\"duration\": 0, \"redraw\": false}, \"fromcurrent\": true, \"mode\": \"immediate\", \"transition\": {\"duration\": 0, \"easing\": \"linear\"}}], \"label\": \"95\", \"method\": \"animate\"}, {\"args\": [[\"96\"], {\"frame\": {\"duration\": 0, \"redraw\": false}, \"fromcurrent\": true, \"mode\": \"immediate\", \"transition\": {\"duration\": 0, \"easing\": \"linear\"}}], \"label\": \"96\", \"method\": \"animate\"}, {\"args\": [[\"97\"], {\"frame\": {\"duration\": 0, \"redraw\": false}, \"fromcurrent\": true, \"mode\": \"immediate\", \"transition\": {\"duration\": 0, \"easing\": \"linear\"}}], \"label\": \"97\", \"method\": \"animate\"}, {\"args\": [[\"98\"], {\"frame\": {\"duration\": 0, \"redraw\": false}, \"fromcurrent\": true, \"mode\": \"immediate\", \"transition\": {\"duration\": 0, \"easing\": \"linear\"}}], \"label\": \"98\", \"method\": \"animate\"}, {\"args\": [[\"99\"], {\"frame\": {\"duration\": 0, \"redraw\": false}, \"fromcurrent\": true, \"mode\": \"immediate\", \"transition\": {\"duration\": 0, \"easing\": \"linear\"}}], \"label\": \"99\", \"method\": \"animate\"}], \"x\": 0.1, \"xanchor\": \"left\", \"y\": 0, \"yanchor\": \"top\"}], \"template\": {\"data\": {\"bar\": [{\"error_x\": {\"color\": \"#2a3f5f\"}, \"error_y\": {\"color\": \"#2a3f5f\"}, \"marker\": {\"line\": {\"color\": \"#E5ECF6\", \"width\": 0.5}}, \"type\": \"bar\"}], \"barpolar\": [{\"marker\": {\"line\": {\"color\": \"#E5ECF6\", \"width\": 0.5}}, \"type\": \"barpolar\"}], \"carpet\": [{\"aaxis\": {\"endlinecolor\": \"#2a3f5f\", \"gridcolor\": \"white\", \"linecolor\": \"white\", \"minorgridcolor\": \"white\", \"startlinecolor\": \"#2a3f5f\"}, \"baxis\": {\"endlinecolor\": \"#2a3f5f\", \"gridcolor\": \"white\", \"linecolor\": \"white\", \"minorgridcolor\": \"white\", \"startlinecolor\": \"#2a3f5f\"}, \"type\": \"carpet\"}], \"choropleth\": [{\"colorbar\": {\"outlinewidth\": 0, \"ticks\": \"\"}, \"type\": \"choropleth\"}], \"contour\": [{\"colorbar\": {\"outlinewidth\": 0, \"ticks\": \"\"}, \"colorscale\": [[0.0, \"#0d0887\"], [0.1111111111111111, \"#46039f\"], [0.2222222222222222, \"#7201a8\"], [0.3333333333333333, \"#9c179e\"], [0.4444444444444444, \"#bd3786\"], [0.5555555555555556, \"#d8576b\"], [0.6666666666666666, \"#ed7953\"], [0.7777777777777778, \"#fb9f3a\"], [0.8888888888888888, \"#fdca26\"], [1.0, \"#f0f921\"]], \"type\": \"contour\"}], \"contourcarpet\": [{\"colorbar\": {\"outlinewidth\": 0, \"ticks\": \"\"}, \"type\": \"contourcarpet\"}], \"heatmap\": [{\"colorbar\": {\"outlinewidth\": 0, \"ticks\": \"\"}, \"colorscale\": [[0.0, \"#0d0887\"], [0.1111111111111111, \"#46039f\"], [0.2222222222222222, \"#7201a8\"], [0.3333333333333333, \"#9c179e\"], [0.4444444444444444, \"#bd3786\"], [0.5555555555555556, \"#d8576b\"], [0.6666666666666666, \"#ed7953\"], [0.7777777777777778, \"#fb9f3a\"], [0.8888888888888888, \"#fdca26\"], [1.0, \"#f0f921\"]], \"type\": \"heatmap\"}], \"heatmapgl\": [{\"colorbar\": {\"outlinewidth\": 0, \"ticks\": \"\"}, \"colorscale\": [[0.0, \"#0d0887\"], [0.1111111111111111, \"#46039f\"], [0.2222222222222222, \"#7201a8\"], [0.3333333333333333, \"#9c179e\"], [0.4444444444444444, \"#bd3786\"], [0.5555555555555556, \"#d8576b\"], [0.6666666666666666, \"#ed7953\"], [0.7777777777777778, \"#fb9f3a\"], [0.8888888888888888, \"#fdca26\"], [1.0, \"#f0f921\"]], \"type\": \"heatmapgl\"}], \"histogram\": [{\"marker\": {\"colorbar\": {\"outlinewidth\": 0, \"ticks\": \"\"}}, \"type\": \"histogram\"}], \"histogram2d\": [{\"colorbar\": {\"outlinewidth\": 0, \"ticks\": \"\"}, \"colorscale\": [[0.0, \"#0d0887\"], [0.1111111111111111, \"#46039f\"], [0.2222222222222222, \"#7201a8\"], [0.3333333333333333, \"#9c179e\"], [0.4444444444444444, \"#bd3786\"], [0.5555555555555556, \"#d8576b\"], [0.6666666666666666, \"#ed7953\"], [0.7777777777777778, \"#fb9f3a\"], [0.8888888888888888, \"#fdca26\"], [1.0, \"#f0f921\"]], \"type\": \"histogram2d\"}], \"histogram2dcontour\": [{\"colorbar\": {\"outlinewidth\": 0, \"ticks\": \"\"}, \"colorscale\": [[0.0, \"#0d0887\"], [0.1111111111111111, \"#46039f\"], [0.2222222222222222, \"#7201a8\"], [0.3333333333333333, \"#9c179e\"], [0.4444444444444444, \"#bd3786\"], [0.5555555555555556, \"#d8576b\"], [0.6666666666666666, \"#ed7953\"], [0.7777777777777778, \"#fb9f3a\"], [0.8888888888888888, \"#fdca26\"], [1.0, \"#f0f921\"]], \"type\": \"histogram2dcontour\"}], \"mesh3d\": [{\"colorbar\": {\"outlinewidth\": 0, \"ticks\": \"\"}, \"type\": \"mesh3d\"}], \"parcoords\": [{\"line\": {\"colorbar\": {\"outlinewidth\": 0, \"ticks\": \"\"}}, \"type\": \"parcoords\"}], \"pie\": [{\"automargin\": true, \"type\": \"pie\"}], \"scatter\": [{\"marker\": {\"colorbar\": {\"outlinewidth\": 0, \"ticks\": \"\"}}, \"type\": \"scatter\"}], \"scatter3d\": [{\"line\": {\"colorbar\": {\"outlinewidth\": 0, \"ticks\": \"\"}}, \"marker\": {\"colorbar\": {\"outlinewidth\": 0, \"ticks\": \"\"}}, \"type\": \"scatter3d\"}], \"scattercarpet\": [{\"marker\": {\"colorbar\": {\"outlinewidth\": 0, \"ticks\": \"\"}}, \"type\": \"scattercarpet\"}], \"scattergeo\": [{\"marker\": {\"colorbar\": {\"outlinewidth\": 0, \"ticks\": \"\"}}, \"type\": \"scattergeo\"}], \"scattergl\": [{\"marker\": {\"colorbar\": {\"outlinewidth\": 0, \"ticks\": \"\"}}, \"type\": \"scattergl\"}], \"scattermapbox\": [{\"marker\": {\"colorbar\": {\"outlinewidth\": 0, \"ticks\": \"\"}}, \"type\": \"scattermapbox\"}], \"scatterpolar\": [{\"marker\": {\"colorbar\": {\"outlinewidth\": 0, \"ticks\": \"\"}}, \"type\": \"scatterpolar\"}], \"scatterpolargl\": [{\"marker\": {\"colorbar\": {\"outlinewidth\": 0, \"ticks\": \"\"}}, \"type\": \"scatterpolargl\"}], \"scatterternary\": [{\"marker\": {\"colorbar\": {\"outlinewidth\": 0, \"ticks\": \"\"}}, \"type\": \"scatterternary\"}], \"surface\": [{\"colorbar\": {\"outlinewidth\": 0, \"ticks\": \"\"}, \"colorscale\": [[0.0, \"#0d0887\"], [0.1111111111111111, \"#46039f\"], [0.2222222222222222, \"#7201a8\"], [0.3333333333333333, \"#9c179e\"], [0.4444444444444444, \"#bd3786\"], [0.5555555555555556, \"#d8576b\"], [0.6666666666666666, \"#ed7953\"], [0.7777777777777778, \"#fb9f3a\"], [0.8888888888888888, \"#fdca26\"], [1.0, \"#f0f921\"]], \"type\": \"surface\"}], \"table\": [{\"cells\": {\"fill\": {\"color\": \"#EBF0F8\"}, \"line\": {\"color\": \"white\"}}, \"header\": {\"fill\": {\"color\": \"#C8D4E3\"}, \"line\": {\"color\": \"white\"}}, \"type\": \"table\"}]}, \"layout\": {\"annotationdefaults\": {\"arrowcolor\": \"#2a3f5f\", \"arrowhead\": 0, \"arrowwidth\": 1}, \"coloraxis\": {\"colorbar\": {\"outlinewidth\": 0, \"ticks\": \"\"}}, \"colorscale\": {\"diverging\": [[0, \"#8e0152\"], [0.1, \"#c51b7d\"], [0.2, \"#de77ae\"], [0.3, \"#f1b6da\"], [0.4, \"#fde0ef\"], [0.5, \"#f7f7f7\"], [0.6, \"#e6f5d0\"], [0.7, \"#b8e186\"], [0.8, \"#7fbc41\"], [0.9, \"#4d9221\"], [1, \"#276419\"]], \"sequential\": [[0.0, \"#0d0887\"], [0.1111111111111111, \"#46039f\"], [0.2222222222222222, \"#7201a8\"], [0.3333333333333333, \"#9c179e\"], [0.4444444444444444, \"#bd3786\"], [0.5555555555555556, \"#d8576b\"], [0.6666666666666666, \"#ed7953\"], [0.7777777777777778, \"#fb9f3a\"], [0.8888888888888888, \"#fdca26\"], [1.0, \"#f0f921\"]], \"sequentialminus\": [[0.0, \"#0d0887\"], [0.1111111111111111, \"#46039f\"], [0.2222222222222222, \"#7201a8\"], [0.3333333333333333, \"#9c179e\"], [0.4444444444444444, \"#bd3786\"], [0.5555555555555556, \"#d8576b\"], [0.6666666666666666, \"#ed7953\"], [0.7777777777777778, \"#fb9f3a\"], [0.8888888888888888, \"#fdca26\"], [1.0, \"#f0f921\"]]}, \"colorway\": [\"#636efa\", \"#EF553B\", \"#00cc96\", \"#ab63fa\", \"#FFA15A\", \"#19d3f3\", \"#FF6692\", \"#B6E880\", \"#FF97FF\", \"#FECB52\"], \"font\": {\"color\": \"#2a3f5f\"}, \"geo\": {\"bgcolor\": \"white\", \"lakecolor\": \"white\", \"landcolor\": \"#E5ECF6\", \"showlakes\": true, \"showland\": true, \"subunitcolor\": \"white\"}, \"hoverlabel\": {\"align\": \"left\"}, \"hovermode\": \"closest\", \"mapbox\": {\"style\": \"light\"}, \"paper_bgcolor\": \"white\", \"plot_bgcolor\": \"#E5ECF6\", \"polar\": {\"angularaxis\": {\"gridcolor\": \"white\", \"linecolor\": \"white\", \"ticks\": \"\"}, \"bgcolor\": \"#E5ECF6\", \"radialaxis\": {\"gridcolor\": \"white\", \"linecolor\": \"white\", \"ticks\": \"\"}}, \"scene\": {\"xaxis\": {\"backgroundcolor\": \"#E5ECF6\", \"gridcolor\": \"white\", \"gridwidth\": 2, \"linecolor\": \"white\", \"showbackground\": true, \"ticks\": \"\", \"zerolinecolor\": \"white\"}, \"yaxis\": {\"backgroundcolor\": \"#E5ECF6\", \"gridcolor\": \"white\", \"gridwidth\": 2, \"linecolor\": \"white\", \"showbackground\": true, \"ticks\": \"\", \"zerolinecolor\": \"white\"}, \"zaxis\": {\"backgroundcolor\": \"#E5ECF6\", \"gridcolor\": \"white\", \"gridwidth\": 2, \"linecolor\": \"white\", \"showbackground\": true, \"ticks\": \"\", \"zerolinecolor\": \"white\"}}, \"shapedefaults\": {\"line\": {\"color\": \"#2a3f5f\"}}, \"ternary\": {\"aaxis\": {\"gridcolor\": \"white\", \"linecolor\": \"white\", \"ticks\": \"\"}, \"baxis\": {\"gridcolor\": \"white\", \"linecolor\": \"white\", \"ticks\": \"\"}, \"bgcolor\": \"#E5ECF6\", \"caxis\": {\"gridcolor\": \"white\", \"linecolor\": \"white\", \"ticks\": \"\"}}, \"title\": {\"x\": 0.05}, \"xaxis\": {\"automargin\": true, \"gridcolor\": \"white\", \"linecolor\": \"white\", \"ticks\": \"\", \"title\": {\"standoff\": 15}, \"zerolinecolor\": \"white\", \"zerolinewidth\": 2}, \"yaxis\": {\"automargin\": true, \"gridcolor\": \"white\", \"linecolor\": \"white\", \"ticks\": \"\", \"title\": {\"standoff\": 15}, \"zerolinecolor\": \"white\", \"zerolinewidth\": 2}}}, \"updatemenus\": [{\"buttons\": [{\"args\": [null, {\"frame\": {\"duration\": 500, \"redraw\": false}, \"fromcurrent\": true, \"mode\": \"immediate\", \"transition\": {\"duration\": 500, \"easing\": \"linear\"}}], \"label\": \"&#9654;\", \"method\": \"animate\"}, {\"args\": [[null], {\"frame\": {\"duration\": 0, \"redraw\": false}, \"fromcurrent\": true, \"mode\": \"immediate\", \"transition\": {\"duration\": 0, \"easing\": \"linear\"}}], \"label\": \"&#9724;\", \"method\": \"animate\"}], \"direction\": \"left\", \"pad\": {\"r\": 10, \"t\": 70}, \"showactive\": false, \"type\": \"buttons\", \"x\": 0.1, \"xanchor\": \"right\", \"y\": 0, \"yanchor\": \"top\"}], \"xaxis\": {\"anchor\": \"y\", \"domain\": [0.0, 1.0], \"range\": [-1, 761], \"title\": {\"text\": \"Length\"}}, \"yaxis\": {\"anchor\": \"x\", \"domain\": [0.0, 1.0], \"range\": [-0.01, 1.2], \"title\": {\"text\": \"%Homochirality\"}}},\n",
              "                        {\"responsive\": true}\n",
              "                    ).then(function(){\n",
              "                            Plotly.addFrames('99624e74-76d9-49d6-9b4e-0973deb5832b', [{\"data\": [{\"hoverlabel\": {\"namelength\": 0}, \"hovertemplate\": \"Iteration=0<br>Length=%{x}<br>%Homochirality=%{y}\", \"legendgroup\": \"\", \"marker\": {\"color\": \"#636efa\", \"symbol\": \"circle\"}, \"mode\": \"markers\", \"name\": \"\", \"showlegend\": false, \"x\": [1, 1, 1, 1, 1, 1, 1, 1, 1, 1, 1, 1, 1, 1, 1, 1, 1, 1, 1, 1, 1, 1, 1, 1, 1, 1, 1, 1, 1, 1, 1, 1, 1, 1, 1, 1, 1, 1, 1, 1, 1, 1, 1, 1, 1, 1, 1, 1, 1, 1, 1, 1, 1, 1, 1, 1, 1, 1, 1, 1, 1, 1, 1, 1, 1, 1, 1, 1, 1, 1, 1, 1, 1, 1, 1, 1, 1, 1, 1, 1, 1, 1, 1, 1, 1, 1, 1, 1, 1, 1, 1, 1, 1, 1, 1, 1, 1, 1, 1, 1, 1, 1, 1, 1, 1, 1, 1, 1, 1, 1, 1, 1, 1, 1, 1, 1, 1, 1, 1, 1, 1, 1, 1, 1, 1, 1, 1, 1, 1, 1, 1, 1, 1, 1, 1, 1, 1, 1, 1, 1, 1, 1, 1, 1, 1, 1, 1, 1, 1, 1, 1, 1, 1, 1, 1, 1, 1, 1, 1, 1, 1, 1, 1, 1, 1, 1, 1, 1, 1, 1, 1, 1, 1, 1, 1, 1, 1, 1, 1, 1, 1, 1, 1, 1, 1, 1, 1, 1, 1, 1, 1, 1, 1, 1, 1, 1, 1, 1, 1, 1, 1, 1, 1, 1, 1, 1, 1, 1, 1, 1, 1, 1, 1, 1, 1, 1, 1, 1, 1, 1, 1, 1, 1, 1, 1, 1, 1, 1, 1, 1, 1, 1, 1, 1, 1, 1, 1, 1, 1, 1, 1, 1, 1, 1, 1, 1, 1, 1, 1, 1, 1, 1, 1, 1, 1, 1, 1, 1, 1, 1, 1, 1, 1, 1, 1, 1, 1, 1, 1, 1, 1, 1, 1, 1, 1, 1, 1, 1, 1, 1, 1, 1, 1, 1, 1, 1, 1, 1, 1, 1, 1, 1, 1, 1, 1, 1, 1, 1, 1, 1, 1, 1, 1, 1, 1, 1, 1, 1, 1, 1, 1, 1, 1, 1, 1, 1, 1, 1, 1, 1, 1, 1, 1, 1, 1, 1, 1, 1, 1, 1, 1, 1, 1, 1, 1, 1, 1, 1, 1, 1, 1, 1, 1, 1, 1, 1, 1, 1, 1, 1, 1, 1, 1, 1, 1, 1, 1, 1, 1, 1, 1, 1, 1, 1, 1, 1, 1, 1, 1, 1, 1, 1, 1, 1, 1, 1, 1, 1, 1, 1, 1, 1, 1, 1, 1, 1, 1, 1, 1, 1, 1, 1, 1, 1, 1, 1, 1, 1, 1, 1, 1, 1, 1, 1, 1, 1, 1, 1, 1, 1, 1, 1, 1, 1, 1, 1, 1, 1, 1, 1, 1, 1, 1, 1, 1, 1, 1, 1, 1, 1, 1, 1, 1, 1, 1, 1, 1, 1, 1, 1, 1, 1, 1, 1, 1, 1, 1, 1, 1, 1, 1, 1, 1, 1, 1, 1, 1, 1, 1, 1, 1, 1, 1, 1, 1, 1, 1, 1, 1, 1, 1, 1, 1, 1, 1, 1, 1, 1, 1, 1, 1, 1, 1, 1, 1, 1, 1, 1, 1, 1, 1, 1, 1, 1, 1, 1, 1, 1, 1, 1, 1, 1, 1, 1, 2, 2, 2, 2, 2, 2, 2, 2, 2, 2, 2, 2, 2, 2, 2, 2, 2, 2, 2, 2, 2, 2, 2, 2, 2, 2, 2, 2, 2, 2, 2, 2, 2, 2, 2, 2, 2, 2, 2, 2, 2, 2, 2, 2, 2, 2, 2, 2, 2, 2, 2, 2, 2, 2, 2, 2, 2, 2, 2, 2, 2, 2, 2, 2, 2, 2, 2, 2, 2, 2, 2, 2, 2, 2, 2, 2, 2, 2, 2, 2, 2, 2, 2, 2, 2, 2, 2, 2, 2, 2, 2, 2, 2, 2, 2, 2, 2, 2, 2, 2, 2, 2, 2, 2, 2, 2, 2, 2, 2, 2, 2, 2, 2, 2, 2, 2, 2, 2, 2, 2, 2, 2, 2, 2, 2, 2, 2, 2], \"xaxis\": \"x\", \"y\": [null, null, null, null, null, null, null, null, null, null, null, null, null, null, null, null, null, null, null, null, null, null, null, null, null, null, null, null, null, null, null, null, null, null, null, null, null, null, null, null, null, null, null, null, null, null, null, null, null, null, null, null, null, null, null, null, null, null, null, null, null, null, null, null, null, null, null, null, null, null, null, null, null, null, null, null, null, null, null, null, null, null, null, null, null, null, null, null, null, null, null, null, null, null, null, null, null, null, null, null, null, null, null, null, null, null, null, null, null, null, null, null, null, null, null, null, null, null, null, null, null, null, null, null, null, null, null, null, null, null, null, null, null, null, null, null, null, null, null, null, null, null, null, null, null, null, null, null, null, null, null, null, null, null, null, null, null, null, null, null, null, null, null, null, null, null, null, null, null, null, null, null, null, null, null, null, null, null, null, null, null, null, null, null, null, null, null, null, null, null, null, null, null, null, null, null, null, null, null, null, null, null, null, null, null, null, null, null, null, null, null, null, null, null, null, null, null, null, null, null, null, null, null, null, null, null, null, null, null, null, null, null, null, null, null, null, null, null, null, null, null, null, null, null, null, null, null, null, null, null, null, null, null, null, null, null, null, null, null, null, null, null, null, null, null, null, null, null, null, null, null, null, null, null, null, null, null, null, null, null, null, null, null, null, null, null, null, null, null, null, null, null, null, null, null, null, null, null, null, null, null, null, null, null, null, null, null, null, null, null, null, null, null, null, null, null, null, null, null, null, null, null, null, null, null, null, null, null, null, null, null, null, null, null, null, null, null, null, null, null, null, null, null, null, null, null, null, null, null, null, null, null, null, null, null, null, null, null, null, null, null, null, null, null, null, null, null, null, null, null, null, null, null, null, null, null, null, null, null, null, null, null, null, null, null, null, null, null, null, null, null, null, null, null, null, null, null, null, null, null, null, null, null, null, null, null, null, null, null, null, null, null, null, null, null, null, null, null, null, null, null, null, null, null, null, null, null, null, null, null, null, null, null, null, null, null, null, null, null, null, null, null, null, null, null, null, null, null, null, null, null, null, null, null, null, null, null, null, null, null, null, null, null, null, null, null, null, null, null, null, null, null, null, null, null, null, null, null, null, null, null, null, null, null, null, null, null, null, null, null, null, null, null, null, null, null, null, null, null, null, null, null, null, null, 1.0, 1.0, 1.0, 1.0, 1.0, 0.0, 1.0, 0.0, 0.0, 0.0, 1.0, 1.0, 1.0, 0.0, 1.0, 0.0, 1.0, 1.0, 1.0, 0.0, 1.0, 1.0, 1.0, 0.0, 0.0, 0.0, 0.0, 0.0, 0.0, 1.0, 0.0, 0.0, 1.0, 1.0, 1.0, 0.0, 0.0, 1.0, 1.0, 0.0, 0.0, 1.0, 0.0, 1.0, 0.0, 0.0, 0.0, 1.0, 1.0, 1.0, 0.0, 0.0, 1.0, 1.0, 1.0, 0.0, 1.0, 0.0, 1.0, 0.0, 1.0, 0.0, 1.0, 1.0, 0.0, 1.0, 1.0, 1.0, 1.0, 1.0, 0.0, 0.0, 1.0, 0.0, 1.0, 1.0, 1.0, 0.0, 1.0, 1.0, 1.0, 1.0, 0.0, 1.0, 0.0, 1.0, 1.0, 0.0, 1.0, 1.0, 0.0, 1.0, 0.0, 0.0, 0.0, 1.0, 1.0, 0.0, 0.0, 1.0, 0.0, 1.0, 0.0, 1.0, 0.0, 0.0, 1.0, 0.0, 1.0, 0.0, 1.0, 1.0, 0.0, 0.0, 1.0, 1.0, 1.0, 0.0, 1.0, 0.0, 1.0, 0.0, 1.0, 1.0, 0.0, 0.0, 0.0, 0.0], \"yaxis\": \"y\", \"type\": \"scatter\"}], \"name\": \"0\"}, {\"data\": [{\"hoverlabel\": {\"namelength\": 0}, \"hovertemplate\": \"Iteration=1<br>Length=%{x}<br>%Homochirality=%{y}\", \"legendgroup\": \"\", \"marker\": {\"color\": \"#636efa\", \"symbol\": \"circle\"}, \"mode\": \"markers\", \"name\": \"\", \"showlegend\": false, \"x\": [1, 1, 1, 3, 3, 2, 1, 1, 1, 1, 1, 3, 1, 1, 1, 1, 4, 1, 1, 1, 1, 1, 1, 1, 1, 1, 3, 1, 1, 1, 1, 1, 1, 1, 1, 1, 3, 1, 1, 2, 1, 1, 1, 1, 1, 1, 1, 1, 1, 1, 4, 1, 1, 3, 1, 1, 1, 1, 1, 1, 3, 1, 1, 1, 1, 2, 2, 2, 4, 1, 1, 1, 1, 1, 1, 1, 1, 1, 1, 2, 3, 1, 1, 1, 1, 3, 1, 1, 1, 1, 1, 1, 1, 1, 3, 1, 4, 1, 1, 1, 1, 2, 1, 3, 1, 1, 2, 1, 3, 1, 1, 3, 1, 2, 1, 1, 1, 3, 1, 1, 1, 1, 1, 3, 1, 1, 1, 1, 1, 1, 2, 1, 1, 1, 1, 1, 2, 2, 4, 1, 1, 1, 2, 1, 1, 1, 1, 2, 1, 1, 1, 1, 1, 1, 2, 1, 1, 2, 1, 1, 1, 1, 1, 1, 1, 1, 1, 1, 1, 2, 1, 1, 3, 1, 1, 1, 1, 1, 1, 1, 1, 3, 1, 1, 1, 1, 1, 1, 1, 1, 3, 1, 3, 1, 1, 2, 1, 1, 1, 1, 1, 1, 4, 1, 1, 1, 1, 1, 1, 1, 1, 1, 1, 1, 1, 1, 1, 1, 1, 1, 2, 1, 1, 1, 3, 2, 1, 1, 1, 1, 1, 1, 1, 1, 1, 1, 1, 1, 1, 1, 3, 1, 3, 1, 4, 1, 1, 1, 1, 1, 1, 4, 1, 1, 1, 2, 1, 1, 1, 1, 1, 1, 1, 3, 1, 1, 1, 1, 1, 1, 1, 1, 1, 1, 1, 1, 4, 1, 2, 1, 1, 1, 1, 1, 1, 1, 1, 1, 1, 3, 1, 1, 4, 1, 3, 1, 1, 3, 2, 1, 1, 1, 1, 1, 2, 1, 1, 1, 3, 1, 1, 1, 1, 3, 3, 1, 1, 1, 1, 1, 1, 1, 1, 1, 1, 1, 1, 1, 1, 1, 1, 1, 1, 1, 1, 1, 1, 1, 1, 1, 1, 1, 1, 3, 1, 1, 1, 1, 1, 1, 1, 1, 1, 1, 2, 3, 1, 1, 1, 1, 1, 1, 1, 1, 1, 1, 1, 1, 1, 3, 1, 1, 1, 2, 1, 1, 1, 1, 1, 2, 1, 1, 1, 1, 1, 1, 1, 3, 1, 3, 1, 1, 1, 2, 1, 1, 1, 1, 1, 1, 1, 1, 3, 1, 1, 1, 1, 1, 1, 1, 1, 1, 1, 1, 1, 1, 1, 1, 1, 2, 1, 1, 2, 3, 1, 1, 2, 1, 1, 2, 1, 1, 2, 2, 2, 3, 1, 1, 2, 1, 1, 3, 2, 3, 3, 1, 1, 3, 2, 1, 1, 3, 2, 3, 1, 1, 2, 2, 1, 1, 1, 1, 3, 2, 3, 2, 3, 1, 1, 2, 2, 2, 2, 3, 2, 2, 3, 3, 1, 1, 3, 3, 2, 1, 1, 2, 2, 2, 2, 2, 3, 2, 2, 3, 2, 2, 1, 1, 3, 1, 1, 3, 2, 2, 2, 2, 3, 1, 1, 2, 2, 2, 2, 2, 3, 2, 2, 3, 2, 2, 3, 3, 1, 1, 1, 1, 2, 2, 2, 2, 1, 1, 2], \"xaxis\": \"x\", \"y\": [null, null, null, 0.5, 0.0, 0.0, null, null, null, null, null, 1.0, null, null, null, null, 1.0, null, null, null, null, null, null, null, null, null, 0.5, null, null, null, null, null, null, null, null, null, 1.0, null, null, 1.0, null, null, null, null, null, null, null, null, null, null, 0.0, null, null, 0.5, null, null, null, null, null, null, 0.5, null, null, null, null, 0.0, 1.0, 0.0, 0.6666666666666666, null, null, null, null, null, null, null, null, null, null, 1.0, 0.5, null, null, null, null, 0.5, null, null, null, null, null, null, null, null, 0.5, null, 0.3333333333333333, null, null, null, null, 0.0, null, 1.0, null, null, 0.0, null, 0.0, null, null, 0.5, null, 1.0, null, null, null, 1.0, null, null, null, null, null, 0.5, null, null, null, null, null, null, 1.0, null, null, null, null, null, 1.0, 1.0, 1.0, null, null, null, 0.0, null, null, null, null, 1.0, null, null, null, null, null, null, 1.0, null, null, 0.0, null, null, null, null, null, null, null, null, null, null, null, 0.0, null, null, 0.0, null, null, null, null, null, null, null, null, 1.0, null, null, null, null, null, null, null, null, 1.0, null, 0.5, null, null, 0.0, null, null, null, null, null, null, 0.3333333333333333, null, null, null, null, null, null, null, null, null, null, null, null, null, null, null, null, null, 1.0, null, null, null, 0.5, 1.0, null, null, null, null, null, null, null, null, null, null, null, null, null, null, 0.0, null, 1.0, null, 0.3333333333333333, null, null, null, null, null, null, 0.6666666666666666, null, null, null, 1.0, null, null, null, null, null, null, null, 0.5, null, null, null, null, null, null, null, null, null, null, null, null, 0.6666666666666666, null, 1.0, null, null, null, null, null, null, null, null, null, null, 1.0, null, null, 0.0, null, 0.5, null, null, 0.5, 1.0, null, null, null, null, null, 1.0, null, null, null, 0.5, null, null, null, null, 0.0, 0.0, null, null, null, null, null, null, null, null, null, null, null, null, null, null, null, null, null, null, null, null, null, null, null, null, null, null, null, null, 0.5, null, null, null, null, null, null, null, null, null, null, 1.0, 1.0, null, null, null, null, null, null, null, null, null, null, null, null, null, 0.5, null, null, null, 1.0, null, null, null, null, null, 1.0, null, null, null, null, null, null, null, 0.5, null, 0.5, null, null, null, 1.0, null, null, null, null, null, null, null, null, 0.5, null, null, null, null, null, null, null, null, null, null, null, null, null, null, null, null, 1.0, null, null, 0.0, 0.0, null, null, 1.0, null, null, 0.0, null, null, 0.0, 1.0, 0.0, 0.5, null, null, 1.0, null, null, 1.0, 1.0, 0.0, 0.5, null, null, 0.5, 1.0, null, null, 0.0, 1.0, 0.0, null, null, 1.0, 0.0, null, null, null, null, 0.5, 1.0, 0.5, 1.0, 0.5, null, null, 0.0, 0.0, 1.0, 1.0, 1.0, 0.0, 1.0, 0.5, 0.5, null, null, 0.5, 0.0, 1.0, null, null, 1.0, 1.0, 1.0, 1.0, 0.0, 1.0, 1.0, 1.0, 0.5, 1.0, 0.0, null, null, 1.0, null, null, 0.5, 0.0, 1.0, 1.0, 0.0, 0.5, null, null, 1.0, 0.0, 0.0, 0.0, 0.0, 0.5, 0.0, 1.0, 0.0, 1.0, 0.0, 0.5, 0.5, null, null, null, null, 1.0, 1.0, 0.0, 0.0, null, null, 1.0], \"yaxis\": \"y\", \"type\": \"scatter\"}], \"name\": \"1\"}, {\"data\": [{\"hoverlabel\": {\"namelength\": 0}, \"hovertemplate\": \"Iteration=2<br>Length=%{x}<br>%Homochirality=%{y}\", \"legendgroup\": \"\", \"marker\": {\"color\": \"#636efa\", \"symbol\": \"circle\"}, \"mode\": \"markers\", \"name\": \"\", \"showlegend\": false, \"x\": [1, 1, 3, 1, 1, 2, 1, 1, 1, 1, 1, 3, 1, 1, 1, 1, 1, 1, 1, 1, 2, 1, 1, 1, 1, 4, 1, 1, 1, 1, 1, 1, 1, 1, 3, 1, 4, 1, 1, 1, 1, 3, 1, 1, 1, 5, 1, 1, 1, 1, 1, 1, 1, 1, 1, 3, 1, 1, 1, 1, 1, 2, 1, 1, 1, 1, 1, 1, 3, 1, 3, 1, 4, 1, 1, 4, 1, 4, 1, 1, 1, 6, 1, 1, 1, 4, 1, 1, 1, 1, 1, 6, 1, 1, 1, 1, 4, 1, 1, 3, 3, 1, 1, 2, 2, 1, 2, 1, 1, 1, 1, 1, 1, 1, 1, 1, 1, 3, 1, 1, 1, 1, 1, 1, 1, 1, 1, 5, 1, 1, 1, 1, 6, 1, 7, 4, 1, 4, 1, 1, 1, 1, 1, 1, 1, 1, 1, 1, 2, 3, 1, 4, 2, 1, 1, 1, 1, 2, 4, 1, 1, 1, 1, 1, 3, 1, 1, 1, 4, 1, 1, 1, 1, 2, 1, 1, 1, 1, 5, 1, 1, 1, 1, 1, 5, 3, 1, 1, 1, 1, 1, 2, 1, 1, 3, 1, 3, 1, 2, 1, 1, 3, 1, 1, 1, 3, 1, 1, 5, 5, 1, 2, 1, 1, 1, 1, 1, 1, 1, 2, 1, 1, 1, 1, 1, 1, 1, 2, 1, 1, 1, 1, 1, 1, 1, 1, 5, 3, 1, 5, 1, 1, 1, 1, 3, 1, 1, 1, 2, 1, 1, 1, 1, 5, 2, 1, 1, 1, 4, 1, 1, 1, 1, 1, 1, 5, 1, 1, 1, 1, 1, 1, 6, 1, 3, 2, 3, 1, 3, 1, 1, 1, 1, 1, 1, 1, 3, 1, 1, 2, 1, 1, 6, 1, 3, 2, 1, 1, 1, 1, 2, 2, 6, 1, 1, 1, 1, 1, 5, 1, 1, 2, 3, 1, 1, 1, 1, 1, 1, 1, 1, 1, 2, 1, 1, 1, 1, 1, 1, 1, 1, 5, 2, 1, 1, 1, 1, 2, 3, 2, 2, 1, 4, 1, 1, 2, 2, 4, 4, 2, 2, 4, 3, 1, 2, 2, 2, 2, 3, 2, 2, 1, 2, 4, 4, 2, 3, 2, 2, 2, 2, 1, 2, 2, 2, 4, 2, 1, 4, 3, 2, 1, 1, 2, 2, 3, 1, 1, 4, 4, 3, 2, 1, 1, 1, 3, 1, 1, 1, 3, 2, 3, 2, 2, 2, 1, 5, 1, 3, 2, 4, 2, 2, 1, 1, 2, 2, 1, 2, 1, 1, 3, 2, 2, 3, 2, 3, 1, 3, 4, 4, 2, 1, 4, 2, 4, 2, 3], \"xaxis\": \"x\", \"y\": [null, null, 0.0, null, null, 1.0, null, null, null, null, null, 0.5, null, null, null, null, null, null, null, null, 1.0, null, null, null, null, 1.0, null, null, null, null, null, null, null, null, 0.5, null, 0.3333333333333333, null, null, null, null, 1.0, null, null, null, 0.5, null, null, null, null, null, null, null, null, null, 1.0, null, null, null, null, null, 1.0, null, null, null, null, null, null, 0.5, null, 1.0, null, 1.0, null, null, 0.3333333333333333, null, 0.3333333333333333, null, null, null, 0.4, null, null, null, 1.0, null, null, null, null, null, 0.4, null, null, null, null, 0.6666666666666666, null, null, 1.0, 0.5, null, null, 0.0, 1.0, null, 1.0, null, null, null, null, null, null, null, null, null, null, 1.0, null, null, null, null, null, null, null, null, null, 0.25, null, null, null, null, 0.6, null, 0.3333333333333333, 0.3333333333333333, null, 0.3333333333333333, null, null, null, null, null, null, null, null, null, null, 1.0, 0.5, null, 0.6666666666666666, 1.0, null, null, null, null, 1.0, 1.0, null, null, null, null, null, 1.0, null, null, null, 0.0, null, null, null, null, 1.0, null, null, null, null, 0.75, null, null, null, null, null, 0.5, 1.0, null, null, null, null, null, 1.0, null, null, 0.5, null, 0.5, null, 0.0, null, null, 0.5, null, null, null, 1.0, null, null, 0.5, 0.75, null, 0.0, null, null, null, null, null, null, null, 1.0, null, null, null, null, null, null, null, 1.0, null, null, null, null, null, null, null, null, 0.25, 0.0, null, 0.75, null, null, null, null, 0.5, null, null, null, 1.0, null, null, null, null, 0.5, 0.0, null, null, null, 0.3333333333333333, null, null, null, null, null, null, 0.75, null, null, null, null, null, null, 0.6, null, 0.5, 0.0, 1.0, null, 0.0, null, null, null, null, null, null, null, 0.0, null, null, 0.0, null, null, 0.8, null, 0.5, 1.0, null, null, null, null, 1.0, 1.0, 0.4, null, null, null, null, null, 0.5, null, null, 1.0, 0.5, null, null, null, null, null, null, null, null, null, 0.0, null, null, null, null, null, null, null, null, 1.0, 1.0, null, null, null, null, 1.0, 0.5, 0.0, 1.0, null, 0.6666666666666666, null, null, 0.0, 1.0, 0.6666666666666666, 0.6666666666666666, 0.0, 0.0, 0.6666666666666666, 0.0, null, 1.0, 1.0, 0.0, 1.0, 0.0, 1.0, 0.0, null, 0.0, 0.6666666666666666, 0.6666666666666666, 0.0, 0.0, 1.0, 0.0, 1.0, 0.0, null, 0.0, 0.0, 0.0, 0.3333333333333333, 0.0, null, 0.6666666666666666, 0.0, 0.0, null, null, 0.0, 0.0, 1.0, null, null, 0.3333333333333333, 0.3333333333333333, 1.0, 0.0, null, null, null, 1.0, null, null, null, 0.5, 1.0, 1.0, 0.0, 1.0, 0.0, null, 0.5, null, 0.0, 1.0, 0.3333333333333333, 0.0, 1.0, null, null, 0.0, 0.0, null, 0.0, null, null, 1.0, 1.0, 1.0, 0.0, 1.0, 0.5, null, 0.5, 0.6666666666666666, 0.3333333333333333, 1.0, null, 0.6666666666666666, 0.0, 0.6666666666666666, 0.0, 1.0], \"yaxis\": \"y\", \"type\": \"scatter\"}], \"name\": \"2\"}, {\"data\": [{\"hoverlabel\": {\"namelength\": 0}, \"hovertemplate\": \"Iteration=3<br>Length=%{x}<br>%Homochirality=%{y}\", \"legendgroup\": \"\", \"marker\": {\"color\": \"#636efa\", \"symbol\": \"circle\"}, \"mode\": \"markers\", \"name\": \"\", \"showlegend\": false, \"x\": [1, 4, 1, 1, 4, 1, 1, 1, 10, 1, 5, 1, 1, 3, 1, 1, 1, 3, 1, 1, 1, 5, 1, 4, 1, 3, 5, 1, 1, 1, 1, 5, 6, 1, 1, 1, 1, 1, 1, 1, 1, 2, 1, 4, 1, 1, 1, 4, 1, 2, 1, 1, 3, 7, 1, 3, 1, 2, 5, 1, 1, 1, 3, 1, 1, 1, 1, 2, 2, 1, 3, 1, 1, 1, 1, 1, 2, 1, 4, 1, 1, 2, 1, 1, 1, 1, 1, 1, 1, 1, 4, 1, 1, 1, 10, 1, 1, 10, 1, 2, 1, 4, 4, 1, 1, 1, 2, 1, 1, 1, 1, 1, 1, 3, 1, 6, 1, 1, 1, 1, 4, 1, 1, 1, 2, 1, 4, 6, 1, 2, 1, 1, 1, 1, 1, 1, 1, 1, 1, 1, 1, 1, 1, 3, 5, 5, 1, 1, 3, 1, 1, 2, 4, 1, 1, 1, 1, 1, 1, 1, 1, 1, 3, 1, 1, 1, 1, 1, 1, 1, 2, 1, 2, 1, 5, 1, 1, 6, 2, 1, 8, 1, 3, 1, 1, 5, 2, 1, 1, 1, 1, 2, 1, 5, 1, 1, 1, 1, 5, 1, 1, 10, 1, 1, 2, 6, 1, 5, 2, 7, 1, 1, 1, 1, 1, 1, 1, 2, 1, 1, 1, 1, 3, 1, 1, 1, 6, 3, 1, 1, 6, 3, 1, 1, 1, 1, 1, 1, 3, 1, 7, 1, 2, 4, 1, 1, 1, 7, 1, 1, 3, 1, 5, 1, 1, 3, 1, 1, 1, 2, 1, 1, 1, 1, 3, 1, 4, 2, 1, 1, 1, 3, 1, 5, 1, 1, 2, 1, 3, 1, 1, 1, 1, 5, 4, 2, 3, 8, 4, 1, 2, 7, 1, 2, 2, 3, 4, 2, 4, 3, 1, 2, 2, 2, 1, 1, 1, 1, 4, 1, 4, 2, 7, 4, 1, 4, 5, 5, 1, 2, 2, 2, 1, 1, 2, 3, 2, 2, 2, 1, 3, 1, 2, 1, 1, 3, 3, 1, 1, 2, 4, 1, 1, 1, 1, 2, 6, 5, 2, 1, 1, 3, 3, 1, 1, 1, 1, 2, 1, 3, 1, 1, 3, 1, 2, 2, 1, 4, 1, 2, 1, 1, 2, 2, 2], \"xaxis\": \"x\", \"y\": [null, 0.3333333333333333, null, null, 1.0, null, null, null, 0.8888888888888888, null, 0.5, null, null, 0.5, null, null, null, 1.0, null, null, null, 0.75, null, 0.3333333333333333, null, 0.0, 0.75, null, null, null, null, 0.5, 0.6, null, null, null, null, null, null, null, null, 1.0, null, 0.3333333333333333, null, null, null, 0.6666666666666666, null, 1.0, null, null, 0.5, 0.6666666666666666, null, 0.5, null, 0.0, 0.5, null, null, null, 0.5, null, null, null, null, 1.0, 1.0, null, 0.0, null, null, null, null, null, 1.0, null, 0.6666666666666666, null, null, 0.0, null, null, null, null, null, null, null, null, 0.6666666666666666, null, null, null, 0.2222222222222222, null, null, 0.5555555555555556, null, 0.0, null, 0.6666666666666666, 0.6666666666666666, null, null, null, 0.0, null, null, null, null, null, null, 0.5, null, 0.8, null, null, null, null, 1.0, null, null, null, 1.0, null, 0.6666666666666666, 0.8, null, 1.0, null, null, null, null, null, null, null, null, null, null, null, null, null, 0.5, 0.75, 0.75, null, null, 1.0, null, null, 1.0, 0.3333333333333333, null, null, null, null, null, null, null, null, null, 1.0, null, null, null, null, null, null, null, 1.0, null, 0.0, null, 0.5, null, null, 0.6, 1.0, null, 0.7142857142857143, null, 1.0, null, null, 0.5, 1.0, null, null, null, null, 0.0, null, 0.25, null, null, null, null, 0.75, null, null, 0.7777777777777778, null, null, 0.0, 0.0, null, 0.5, 1.0, 0.8333333333333334, null, null, null, null, null, null, null, 1.0, null, null, null, null, 0.0, null, null, null, 0.6, 1.0, null, null, 0.6, 1.0, null, null, null, null, null, null, 0.5, null, 0.3333333333333333, null, 1.0, 0.3333333333333333, null, null, null, 0.5, null, null, 0.5, null, 0.25, null, null, 0.0, null, null, null, 0.0, null, null, null, null, 1.0, null, 0.3333333333333333, 0.0, null, null, null, 1.0, null, 0.5, null, null, 1.0, null, 0.0, null, null, null, null, 0.5, 0.3333333333333333, 1.0, 0.5, 0.2857142857142857, 1.0, null, 0.0, 0.5, null, 1.0, 0.0, 0.5, 0.6666666666666666, 1.0, 0.0, 0.0, null, 0.0, 1.0, 1.0, null, null, null, null, 0.6666666666666666, null, 1.0, 1.0, 0.5, 1.0, null, 1.0, 0.25, 0.5, null, 1.0, 1.0, 0.0, null, null, 1.0, 0.5, 0.0, 1.0, 1.0, null, 0.5, null, 0.0, null, null, 0.5, 0.5, null, null, 0.0, 0.3333333333333333, null, null, null, null, 0.0, 0.4, 0.75, 0.0, null, null, 0.5, 0.0, null, null, null, null, 0.0, null, 0.5, null, null, 0.5, null, 0.0, 0.0, null, 1.0, null, 0.0, null, null, 0.0, 0.0, 0.0], \"yaxis\": \"y\", \"type\": \"scatter\"}], \"name\": \"3\"}, {\"data\": [{\"hoverlabel\": {\"namelength\": 0}, \"hovertemplate\": \"Iteration=4<br>Length=%{x}<br>%Homochirality=%{y}\", \"legendgroup\": \"\", \"marker\": {\"color\": \"#636efa\", \"symbol\": \"circle\"}, \"mode\": \"markers\", \"name\": \"\", \"showlegend\": false, \"x\": [6, 1, 1, 14, 1, 1, 1, 1, 5, 1, 1, 1, 3, 1, 1, 3, 1, 1, 3, 1, 1, 1, 1, 5, 4, 1, 2, 1, 1, 1, 1, 1, 1, 1, 1, 1, 10, 1, 6, 1, 1, 1, 1, 2, 1, 2, 1, 1, 7, 1, 1, 3, 1, 1, 1, 1, 1, 1, 5, 1, 1, 1, 1, 1, 1, 1, 4, 1, 2, 5, 1, 1, 6, 1, 4, 1, 4, 1, 4, 1, 1, 1, 1, 1, 1, 1, 7, 6, 7, 1, 1, 1, 2, 1, 5, 1, 1, 1, 4, 1, 1, 7, 1, 1, 1, 1, 6, 1, 5, 2, 1, 1, 1, 3, 1, 1, 1, 1, 7, 1, 2, 1, 1, 1, 1, 1, 14, 1, 2, 8, 1, 5, 3, 1, 5, 5, 1, 1, 1, 1, 1, 1, 1, 1, 1, 1, 1, 1, 1, 2, 1, 1, 1, 1, 1, 1, 1, 3, 7, 5, 1, 1, 1, 1, 1, 2, 1, 4, 1, 1, 3, 5, 3, 1, 3, 1, 2, 9, 5, 1, 7, 1, 1, 11, 1, 1, 1, 1, 7, 6, 1, 1, 1, 1, 4, 2, 1, 1, 2, 1, 4, 1, 4, 1, 2, 1, 1, 8, 1, 1, 1, 2, 3, 5, 7, 1, 1, 6, 8, 1, 2, 1, 1, 1, 1, 7, 9, 6, 2, 1, 1, 1, 1, 1, 1, 8, 1, 1, 2, 2, 2, 1, 1, 2, 3, 2, 1, 2, 3, 6, 2, 1, 3, 1, 2, 4, 1, 2, 1, 2, 3, 3, 1, 1, 3, 5, 1, 2, 3, 1, 4, 2, 1, 1, 1, 2, 1, 1, 2, 3, 1, 2, 3, 4, 4, 2, 7, 3, 1, 1, 8, 3, 2, 1, 3, 1, 1, 3, 1, 2, 6, 2, 1, 1, 1, 6, 5, 2, 3, 1, 4, 2, 4, 1, 2, 1, 2, 2, 8, 1, 7, 2, 8], \"xaxis\": \"x\", \"y\": [0.6, null, null, 0.8461538461538461, null, null, null, null, 0.5, null, null, null, 0.5, null, null, 1.0, null, null, 0.5, null, null, null, null, 0.5, 0.0, null, 1.0, null, null, null, null, null, null, null, null, null, 0.5555555555555556, null, 0.2, null, null, null, null, 1.0, null, 0.0, null, null, 0.8333333333333334, null, null, 1.0, null, null, null, null, null, null, 1.0, null, null, null, null, null, null, null, 0.3333333333333333, null, 0.0, 0.5, null, null, 1.0, null, 0.3333333333333333, null, 0.3333333333333333, null, 1.0, null, null, null, null, null, null, null, 0.8333333333333334, 0.6, 0.6666666666666666, null, null, null, 1.0, null, 0.5, null, null, null, 0.3333333333333333, null, null, 0.5, null, null, null, null, 0.4, null, 0.5, 1.0, null, null, null, 1.0, null, null, null, null, 1.0, null, 1.0, null, null, null, null, null, 0.2307692307692308, null, 1.0, 0.8571428571428571, null, 0.5, 0.0, null, 1.0, 0.25, null, null, null, null, null, null, null, null, null, null, null, null, null, 1.0, null, null, null, null, null, null, null, 0.0, 0.5, 0.25, null, null, null, null, null, 0.0, null, 0.3333333333333333, null, null, 0.0, 0.75, 0.5, null, 0.5, null, 1.0, 0.375, 0.25, null, 0.6666666666666666, null, null, 0.7, null, null, null, null, 0.5, 0.4, null, null, null, null, 0.6666666666666666, 0.0, null, null, 1.0, null, 1.0, null, 0.6666666666666666, null, 1.0, null, null, 0.5714285714285714, null, null, null, 0.0, 0.5, 0.5, 0.8333333333333334, null, null, 0.6, 0.7142857142857143, null, 1.0, null, null, null, null, 0.16666666666666666, 0.5, 0.8, 1.0, null, null, null, null, null, null, 0.5714285714285714, null, null, 0.0, 0.0, 0.0, null, null, 0.0, 0.5, 1.0, null, 0.0, 0.0, 0.6, 0.0, null, 0.5, null, 0.0, 0.6666666666666666, null, 0.0, null, 1.0, 0.0, 1.0, null, null, 0.5, 0.5, null, 1.0, 0.5, null, 0.6666666666666666, 0.0, null, null, null, 0.0, null, null, 0.0, 0.5, null, 0.0, 0.5, 0.3333333333333333, 0.3333333333333333, 1.0, 0.6666666666666666, 0.5, null, null, 0.42857142857142855, 0.0, 1.0, null, 0.5, null, null, 1.0, null, 1.0, 0.6, 0.0, null, null, null, 0.4, 0.25, 1.0, 0.0, null, 0.6666666666666666, 1.0, 1.0, null, 0.0, null, 1.0, 0.0, 0.42857142857142855, null, 0.5, 0.0, 0.8571428571428571], \"yaxis\": \"y\", \"type\": \"scatter\"}], \"name\": \"4\"}, {\"data\": [{\"hoverlabel\": {\"namelength\": 0}, \"hovertemplate\": \"Iteration=5<br>Length=%{x}<br>%Homochirality=%{y}\", \"legendgroup\": \"\", \"marker\": {\"color\": \"#636efa\", \"symbol\": \"circle\"}, \"mode\": \"markers\", \"name\": \"\", \"showlegend\": false, \"x\": [6, 6, 1, 4, 1, 3, 9, 8, 1, 1, 5, 3, 3, 1, 8, 1, 2, 1, 1, 1, 1, 1, 3, 1, 1, 1, 3, 3, 1, 1, 10, 1, 1, 9, 1, 1, 7, 5, 1, 1, 1, 3, 1, 1, 1, 3, 2, 1, 1, 6, 1, 9, 1, 8, 1, 1, 1, 1, 1, 2, 7, 1, 1, 13, 2, 1, 1, 6, 4, 1, 1, 1, 5, 1, 2, 9, 13, 2, 10, 3, 1, 1, 3, 1, 1, 18, 1, 1, 1, 1, 1, 1, 1, 1, 3, 1, 1, 1, 10, 3, 1, 3, 1, 5, 5, 1, 1, 1, 1, 3, 1, 1, 1, 2, 3, 4, 1, 1, 4, 1, 1, 3, 1, 1, 1, 9, 1, 1, 1, 1, 1, 1, 1, 1, 14, 1, 1, 9, 1, 1, 1, 8, 1, 2, 1, 2, 6, 11, 1, 1, 1, 1, 1, 7, 1, 9, 1, 1, 7, 1, 6, 9, 1, 1, 1, 2, 5, 1, 1, 1, 1, 1, 1, 1, 2, 1, 1, 1, 1, 1, 1, 7, 1, 1, 1, 1, 16, 9, 1, 1, 3, 5, 1, 1, 1, 1, 13, 4, 1, 3, 8, 4, 4, 2, 1, 1, 1, 8, 3, 5, 1, 2, 2, 2, 2, 2, 2, 5, 1, 1, 3, 2, 2, 2, 5, 2, 4, 2, 4, 3, 8, 4, 1, 2, 7, 2, 1, 3, 2, 1, 2, 1, 1, 5, 2, 3, 2, 4, 6, 2, 4, 2, 4, 1, 1, 4, 1, 2, 8, 1, 7, 5, 2, 2, 3], \"xaxis\": \"x\", \"y\": [0.6, 0.6, null, 0.3333333333333333, null, 0.0, 0.875, 0.2857142857142857, null, null, 0.75, 0.5, 0.5, null, 0.42857142857142855, null, 0.0, null, null, null, null, null, 0.0, null, null, null, 0.0, 0.5, null, null, 0.5555555555555556, null, null, 0.5, null, null, 0.3333333333333333, 0.5, null, null, null, 0.5, null, null, null, 1.0, 1.0, null, null, 1.0, null, 0.625, null, 0.42857142857142855, null, null, null, null, null, 0.0, 0.3333333333333333, null, null, 0.75, 0.0, null, null, 0.4, 0.0, null, null, null, 0.75, null, 1.0, 0.375, 0.6666666666666666, 1.0, 0.3333333333333333, 0.5, null, null, 0.5, null, null, 0.35294117647058826, null, null, null, null, null, null, null, null, 1.0, null, null, null, 0.5555555555555556, 1.0, null, 0.0, null, 0.75, 0.5, null, null, null, null, 0.5, null, null, null, 0.0, 0.5, 0.6666666666666666, null, null, 0.0, null, null, 0.0, null, null, null, 0.375, null, null, null, null, null, null, null, null, 0.4615384615384616, null, null, 0.625, null, null, null, 0.42857142857142855, null, 1.0, null, 0.0, 0.8, 0.8, null, null, null, null, null, 0.3333333333333333, null, 0.625, null, null, 0.3333333333333333, null, 0.8, 0.375, null, null, null, 0.0, 0.25, null, null, null, null, null, null, null, 1.0, null, null, null, null, null, null, 1.0, null, null, null, null, 0.8666666666666667, 0.625, null, null, 0.5, 0.5, null, null, null, null, 0.5833333333333334, 0.3333333333333333, null, 0.5, 0.5714285714285714, 0.6666666666666666, 1.0, 0.0, null, null, null, 0.5714285714285714, 0.5, 1.0, null, 0.0, 1.0, 0.0, 0.0, 1.0, 0.0, 0.5, null, null, 0.5, 1.0, 1.0, 1.0, 0.0, 0.0, 0.6666666666666666, 0.0, 1.0, 1.0, 0.8571428571428571, 1.0, null, 0.0, 0.6666666666666666, 1.0, null, 0.5, 0.0, null, 1.0, null, null, 0.0, 0.0, 0.0, 0.0, 0.3333333333333333, 0.4, 0.0, 0.3333333333333333, 0.0, 0.6666666666666666, null, null, 0.3333333333333333, null, 1.0, 0.42857142857142855, null, 0.6666666666666666, 0.75, 0.0, 0.0, 0.0], \"yaxis\": \"y\", \"type\": \"scatter\"}], \"name\": \"5\"}, {\"data\": [{\"hoverlabel\": {\"namelength\": 0}, \"hovertemplate\": \"Iteration=6<br>Length=%{x}<br>%Homochirality=%{y}\", \"legendgroup\": \"\", \"marker\": {\"color\": \"#636efa\", \"symbol\": \"circle\"}, \"mode\": \"markers\", \"name\": \"\", \"showlegend\": false, \"x\": [17, 1, 1, 1, 4, 13, 1, 1, 1, 1, 9, 1, 10, 5, 14, 3, 2, 1, 6, 1, 1, 1, 4, 10, 1, 3, 4, 5, 1, 1, 20, 7, 5, 7, 15, 1, 6, 2, 1, 1, 5, 1, 1, 1, 1, 3, 9, 2, 1, 1, 1, 1, 1, 9, 1, 1, 15, 1, 1, 1, 15, 1, 1, 1, 11, 1, 2, 6, 1, 4, 1, 1, 1, 2, 1, 3, 3, 4, 2, 1, 1, 1, 3, 10, 1, 1, 7, 5, 4, 1, 4, 2, 1, 14, 9, 1, 4, 8, 1, 3, 4, 1, 1, 4, 1, 1, 7, 1, 1, 1, 1, 1, 5, 1, 1, 12, 3, 1, 1, 4, 1, 3, 1, 5, 2, 1, 1, 1, 1, 2, 1, 1, 1, 1, 7, 8, 9, 1, 1, 1, 1, 7, 1, 1, 1, 1, 1, 5, 11, 1, 1, 16, 2, 5, 1, 1, 1, 1, 1, 6, 6, 4, 11, 7, 1, 5, 5, 3, 6, 1, 1, 2, 1, 1, 9, 4, 1, 3, 2, 3, 1, 1, 4, 1, 3, 1, 1, 1, 1, 4, 6, 3, 1, 7, 2, 2, 7, 1, 4, 1, 1, 6, 4, 4, 3, 7, 6, 1, 1, 3, 1, 2, 3, 2, 1, 2, 2, 3, 1, 2, 4, 6, 2, 3, 7], \"xaxis\": \"x\", \"y\": [0.875, null, null, null, 1.0, 0.5, null, null, null, null, 0.875, null, 0.3333333333333333, 1.0, 0.4615384615384616, 0.5, 0.0, null, 0.8, null, null, null, 0.6666666666666666, 0.4444444444444444, null, 0.5, 0.0, 0.5, null, null, 0.631578947368421, 0.5, 0.5, 1.0, 0.35714285714285715, null, 0.4, 0.0, null, null, 0.5, null, null, null, null, 0.0, 0.5, 0.0, null, null, null, null, null, 0.875, null, null, 0.5714285714285714, null, null, null, 0.5, null, null, null, 0.6, null, 1.0, 0.8, null, 0.0, null, null, null, 0.0, null, 0.0, 0.5, 0.0, 1.0, null, null, null, 1.0, 0.5555555555555556, null, null, 0.8333333333333334, 0.5, 0.3333333333333333, null, 0.3333333333333333, 1.0, null, 0.2307692307692308, 0.5, null, 0.3333333333333333, 0.42857142857142855, null, 0.5, 0.6666666666666666, null, null, 0.3333333333333333, null, null, 0.5, null, null, null, null, null, 0.75, null, null, 0.5454545454545454, 0.5, null, null, 1.0, null, 0.5, null, 0.5, 1.0, null, null, null, null, 0.0, null, null, null, null, 0.5, 0.7142857142857143, 0.5, null, null, null, null, 0.3333333333333333, null, null, null, null, null, 0.75, 0.6, null, null, 0.6666666666666666, 1.0, 0.25, null, null, null, null, null, 0.2, 0.8, 0.3333333333333333, 0.7, 0.3333333333333333, null, 0.25, 0.25, 0.0, 0.6, null, null, 0.0, null, null, 0.375, 0.0, null, 1.0, 1.0, 1.0, null, null, 0.3333333333333333, null, 0.0, null, null, null, null, 0.6666666666666666, 0.4, 0.5, null, 0.5, 0.0, 0.0, 0.6666666666666666, null, 0.0, null, null, 0.8, 1.0, 1.0, 0.5, 0.5, 1.0, null, null, 0.0, null, 1.0, 1.0, 1.0, null, 0.0, 1.0, 0.0, null, 1.0, 0.3333333333333333, 0.2, 0.0, 0.0, 0.5], \"yaxis\": \"y\", \"type\": \"scatter\"}], \"name\": \"6\"}, {\"data\": [{\"hoverlabel\": {\"namelength\": 0}, \"hovertemplate\": \"Iteration=7<br>Length=%{x}<br>%Homochirality=%{y}\", \"legendgroup\": \"\", \"marker\": {\"color\": \"#636efa\", \"symbol\": \"circle\"}, \"mode\": \"markers\", \"name\": \"\", \"showlegend\": false, \"x\": [7, 4, 2, 1, 1, 9, 1, 1, 1, 1, 3, 4, 1, 1, 1, 10, 1, 1, 9, 1, 1, 13, 2, 8, 1, 9, 8, 1, 1, 1, 1, 2, 1, 1, 1, 9, 15, 12, 7, 1, 1, 10, 1, 9, 1, 4, 7, 1, 1, 2, 1, 5, 2, 1, 1, 2, 1, 21, 2, 22, 10, 1, 1, 1, 9, 1, 1, 1, 1, 1, 1, 8, 1, 1, 2, 1, 4, 1, 1, 13, 1, 7, 18, 8, 1, 19, 1, 1, 1, 1, 1, 11, 5, 1, 1, 2, 1, 6, 1, 3, 1, 1, 12, 2, 1, 1, 8, 1, 4, 2, 3, 1, 1, 11, 4, 1, 4, 5, 1, 3, 4, 1, 1, 4, 1, 1, 8, 10, 13, 1, 3, 2, 1, 1, 1, 2, 1, 1, 1, 18, 14, 20, 1, 1, 2, 1, 4, 3, 3, 1, 1, 3, 3, 11, 4, 6, 1, 5, 2, 2, 2, 3, 5, 5, 1, 4, 14, 1, 1, 2, 5, 1, 5, 5, 3, 2, 6, 7, 10, 3, 1, 4, 3, 2, 2, 1, 8, 3, 1, 1, 3, 3, 5, 1, 1, 3, 1, 2], \"xaxis\": \"x\", \"y\": [0.16666666666666666, 0.6666666666666666, 0.0, null, null, 0.375, null, null, null, null, 0.0, 1.0, null, null, null, 0.4444444444444444, null, null, 0.75, null, null, 0.4166666666666667, 0.0, 0.42857142857142855, null, 0.5, 0.42857142857142855, null, null, null, null, 1.0, null, null, null, 0.75, 0.7142857142857143, 0.9090909090909092, 0.0, null, null, 0.7777777777777778, null, 0.5, null, 0.3333333333333333, 0.8333333333333334, null, null, 0.0, null, 0.75, 0.0, null, null, 1.0, null, 0.5, 1.0, 0.5238095238095238, 0.4444444444444444, null, null, null, 0.125, null, null, null, null, null, null, 0.2857142857142857, null, null, 0.0, null, 0.0, null, null, 0.5833333333333334, null, 0.6666666666666666, 0.4117647058823529, 0.42857142857142855, null, 0.8888888888888888, null, null, null, null, null, 0.5, 0.25, null, null, 1.0, null, 0.4, null, 1.0, null, null, 0.6363636363636364, 0.0, null, null, 0.42857142857142855, null, 0.6666666666666666, 1.0, 1.0, null, null, 0.6, 0.6666666666666666, null, 1.0, 0.5, null, 0.5, 0.6666666666666666, null, null, 0.3333333333333333, null, null, 0.7142857142857143, 0.6666666666666666, 0.5833333333333334, null, 0.0, 1.0, null, null, null, 1.0, null, null, null, 0.4705882352941176, 0.6923076923076923, 0.6842105263157895, null, null, 1.0, null, 0.3333333333333333, 0.5, 0.5, null, null, 0.5, 0.5, 0.6, 0.6666666666666666, 0.2, null, 0.5, 0.0, 0.0, 0.0, 0.5, 0.5, 0.25, null, 0.6666666666666666, 0.5384615384615384, null, null, 1.0, 0.5, null, 0.75, 0.25, 0.5, 1.0, 0.6, 0.5, 0.5555555555555556, 0.0, null, 0.3333333333333333, 1.0, 1.0, 0.0, null, 0.2857142857142857, 0.5, null, null, 0.5, 0.0, 0.75, null, null, 0.5, null, 0.0], \"yaxis\": \"y\", \"type\": \"scatter\"}], \"name\": \"7\"}, {\"data\": [{\"hoverlabel\": {\"namelength\": 0}, \"hovertemplate\": \"Iteration=8<br>Length=%{x}<br>%Homochirality=%{y}\", \"legendgroup\": \"\", \"marker\": {\"color\": \"#636efa\", \"symbol\": \"circle\"}, \"mode\": \"markers\", \"name\": \"\", \"showlegend\": false, \"x\": [7, 1, 5, 1, 1, 6, 1, 1, 2, 4, 1, 1, 1, 1, 6, 1, 1, 4, 1, 1, 1, 1, 4, 2, 1, 1, 3, 1, 9, 1, 4, 1, 10, 1, 5, 3, 8, 1, 1, 1, 6, 23, 1, 2, 1, 1, 2, 2, 3, 24, 5, 1, 2, 1, 7, 1, 12, 7, 4, 1, 1, 1, 1, 18, 9, 3, 6, 7, 1, 1, 1, 1, 4, 15, 3, 1, 4, 5, 1, 1, 1, 1, 1, 2, 3, 9, 4, 1, 1, 8, 7, 23, 1, 1, 2, 2, 1, 13, 16, 17, 1, 18, 7, 13, 9, 11, 16, 1, 1, 1, 1, 4, 1, 12, 1, 5, 1, 1, 4, 1, 1, 3, 2, 1, 11, 1, 8, 12, 7, 1, 5, 1, 1, 3, 6, 1, 1, 1, 4, 9, 1, 5, 11, 2, 9, 2, 3, 5, 11, 5, 3, 1, 12, 2, 4, 5, 19, 2, 1, 1, 1, 5, 3, 1, 1, 1, 1, 5, 4, 1, 5, 1, 1, 4, 4, 2, 1, 2, 12, 1, 2], \"xaxis\": \"x\", \"y\": [0.3333333333333333, null, 0.0, null, null, 0.6, null, null, 1.0, 1.0, null, null, null, null, 0.2, null, null, 0.6666666666666666, null, null, null, null, 0.6666666666666666, 0.0, null, null, 1.0, null, 0.625, null, 0.3333333333333333, null, 0.2222222222222222, null, 0.75, 0.0, 1.0, null, null, null, 0.6, 0.6363636363636364, null, 1.0, null, null, 1.0, 0.0, 1.0, 0.5652173913043478, 0.25, null, 1.0, null, 0.5, null, 0.5454545454545454, 0.5, 0.0, null, null, null, null, 0.7058823529411765, 0.5, 0.5, 0.4, 0.5, null, null, null, null, 0.3333333333333333, 0.7142857142857143, 0.0, null, 0.6666666666666666, 0.25, null, null, null, null, null, 1.0, 1.0, 0.25, 0.3333333333333333, null, null, 0.5714285714285714, 0.8333333333333334, 0.6363636363636364, null, null, 1.0, 1.0, null, 0.75, 0.5333333333333333, 0.4375, null, 0.4705882352941176, 0.3333333333333333, 0.6666666666666666, 0.5, 0.3, 0.7333333333333333, null, null, null, null, 1.0, null, 0.5454545454545454, null, 0.75, null, null, 0.6666666666666666, null, null, 0.5, 1.0, null, 0.5, null, 1.0, 0.5454545454545454, 0.5, null, 0.5, null, null, 0.0, 0.4, null, null, null, 0.6666666666666666, 0.375, null, 0.25, 0.9, 0.0, 0.625, 1.0, 0.0, 0.0, 0.5, 0.5, 1.0, null, 0.6363636363636364, 0.0, 0.6666666666666666, 0.5, 0.5, 0.0, null, null, null, 0.75, 0.5, null, null, null, null, 0.75, 1.0, null, 0.75, null, null, 0.3333333333333333, 0.3333333333333333, 1.0, null, 1.0, 0.5454545454545454, null, 0.0], \"yaxis\": \"y\", \"type\": \"scatter\"}], \"name\": \"8\"}, {\"data\": [{\"hoverlabel\": {\"namelength\": 0}, \"hovertemplate\": \"Iteration=9<br>Length=%{x}<br>%Homochirality=%{y}\", \"legendgroup\": \"\", \"marker\": {\"color\": \"#636efa\", \"symbol\": \"circle\"}, \"mode\": \"markers\", \"name\": \"\", \"showlegend\": false, \"x\": [1, 18, 3, 1, 8, 1, 8, 1, 2, 8, 1, 2, 1, 1, 1, 25, 1, 1, 1, 1, 1, 14, 1, 6, 9, 1, 2, 5, 1, 1, 7, 4, 4, 1, 1, 1, 1, 2, 5, 1, 1, 1, 1, 2, 4, 11, 7, 1, 8, 12, 2, 1, 1, 11, 2, 9, 4, 1, 6, 1, 1, 3, 1, 8, 1, 1, 16, 1, 1, 1, 8, 3, 9, 1, 1, 1, 19, 21, 4, 1, 4, 12, 14, 8, 1, 1, 2, 1, 1, 10, 1, 4, 4, 1, 12, 1, 4, 3, 1, 14, 1, 1, 9, 1, 17, 1, 5, 1, 1, 6, 11, 26, 1, 1, 1, 4, 3, 8, 3, 5, 7, 2, 3, 2, 1, 16, 1, 8, 1, 4, 15, 1, 1, 5, 1, 3, 17, 4, 1, 9, 7, 4, 1, 2, 1, 1, 1, 1, 1, 3, 17, 5, 4, 5, 19, 1, 7, 5, 3, 1, 3, 1, 3, 3, 1, 1, 5, 2, 1, 2], \"xaxis\": \"x\", \"y\": [null, 0.5294117647058824, 0.5, null, 0.42857142857142855, null, 0.5714285714285714, null, 1.0, 0.5714285714285714, null, 0.0, null, null, null, 0.5833333333333334, null, null, null, null, null, 0.5384615384615384, null, 0.8, 0.5, null, 1.0, 0.25, null, null, 0.8333333333333334, 1.0, 0.3333333333333333, null, null, null, null, 1.0, 0.25, null, null, null, null, 0.0, 0.6666666666666666, 0.8, 0.5, null, 0.5714285714285714, 0.2727272727272727, 1.0, null, null, 0.2, 1.0, 1.0, 1.0, null, 0.8, null, null, 0.0, null, 0.7142857142857143, null, null, 0.5333333333333333, null, null, null, 0.42857142857142855, 0.5, 0.5, null, null, null, 0.5, 0.55, 0.0, null, 0.0, 0.5454545454545454, 0.6923076923076923, 0.2857142857142857, null, null, 0.0, null, null, 0.4444444444444444, null, 0.0, 1.0, null, 0.7272727272727273, null, 0.6666666666666666, 1.0, null, 0.5384615384615384, null, null, 0.375, null, 0.5625, null, 0.25, null, null, 0.4, 0.6, 0.6, null, null, null, 0.3333333333333333, 0.5, 0.5714285714285714, 0.5, 0.75, 0.6666666666666666, 1.0, 0.0, 0.0, null, 0.6666666666666666, null, 0.5714285714285714, null, 0.3333333333333333, 0.5714285714285714, null, null, 0.25, null, 1.0, 0.5, 0.6666666666666666, null, 0.75, 0.5, 0.6666666666666666, null, 1.0, null, null, null, null, null, 0.5, 0.6875, 0.5, 0.6666666666666666, 0.75, 0.7777777777777778, null, 1.0, 0.5, 0.5, null, 1.0, null, 1.0, 1.0, null, null, 0.5, 0.0, null, 1.0], \"yaxis\": \"y\", \"type\": \"scatter\"}], \"name\": \"9\"}, {\"data\": [{\"hoverlabel\": {\"namelength\": 0}, \"hovertemplate\": \"Iteration=10<br>Length=%{x}<br>%Homochirality=%{y}\", \"legendgroup\": \"\", \"marker\": {\"color\": \"#636efa\", \"symbol\": \"circle\"}, \"mode\": \"markers\", \"name\": \"\", \"showlegend\": false, \"x\": [17, 2, 1, 4, 9, 1, 1, 2, 1, 33, 1, 1, 1, 1, 9, 1, 7, 1, 20, 10, 1, 3, 5, 3, 23, 6, 3, 10, 1, 2, 1, 1, 6, 6, 1, 18, 1, 4, 24, 1, 6, 1, 1, 4, 11, 1, 15, 1, 1, 1, 10, 10, 1, 8, 12, 4, 5, 4, 1, 1, 16, 9, 1, 1, 1, 6, 1, 5, 1, 1, 6, 1, 3, 1, 1, 1, 5, 1, 3, 1, 4, 1, 1, 22, 1, 1, 1, 12, 1, 2, 1, 20, 19, 4, 29, 1, 2, 1, 1, 3, 1, 2, 1, 1, 14, 9, 1, 9, 8, 9, 4, 3, 4, 10, 2, 1, 5, 8, 1, 4, 2, 1, 2, 10, 11, 10, 6, 3, 2, 1, 2, 5, 2, 6, 2, 10, 5, 3, 1, 1, 2, 9, 3, 1, 6, 1, 1, 1, 1, 20], \"xaxis\": \"x\", \"y\": [0.6875, 1.0, null, 0.3333333333333333, 0.375, null, null, 1.0, null, 0.59375, null, null, null, null, 0.75, null, 0.6666666666666666, null, 0.5263157894736842, 0.2222222222222222, null, 1.0, 1.0, 0.5, 0.5, 0.6, 0.5, 0.6666666666666666, null, 1.0, null, null, 0.8, 0.4, null, 0.5294117647058824, null, 0.0, 0.43478260869565216, null, 0.6, null, null, 1.0, 0.4, null, 0.7142857142857143, null, null, null, 0.5555555555555556, 0.4444444444444444, null, 0.8571428571428571, 0.8181818181818182, 1.0, 0.5, 0.3333333333333333, null, null, 0.5333333333333333, 0.75, null, null, null, 0.6, null, 0.5, null, null, 0.8, null, 1.0, null, null, null, 0.5, null, 0.5, null, 1.0, null, null, 0.5714285714285714, null, null, null, 0.3636363636363637, null, 1.0, null, 0.5263157894736842, 0.5, 0.3333333333333333, 0.5714285714285714, null, 1.0, null, null, 1.0, null, 0.0, null, null, 0.6153846153846154, 0.5, null, 0.5, 0.5714285714285714, 0.125, 0.6666666666666666, 1.0, 1.0, 0.7777777777777778, 0.0, null, 0.75, 0.5714285714285714, null, 0.0, 0.0, null, 1.0, 0.7777777777777778, 0.9, 0.5555555555555556, 0.6, 0.5, 1.0, null, 0.0, 0.75, 1.0, 0.2, 0.0, 1.0, 0.25, 1.0, null, null, 0.0, 0.625, 0.5, null, 0.4, null, null, null, null, 0.7368421052631579], \"yaxis\": \"y\", \"type\": \"scatter\"}], \"name\": \"10\"}, {\"data\": [{\"hoverlabel\": {\"namelength\": 0}, \"hovertemplate\": \"Iteration=11<br>Length=%{x}<br>%Homochirality=%{y}\", \"legendgroup\": \"\", \"marker\": {\"color\": \"#636efa\", \"symbol\": \"circle\"}, \"mode\": \"markers\", \"name\": \"\", \"showlegend\": false, \"x\": [3, 1, 8, 8, 6, 1, 13, 1, 1, 5, 7, 2, 3, 4, 8, 1, 1, 5, 3, 28, 5, 1, 10, 1, 1, 15, 1, 3, 7, 6, 13, 3, 16, 1, 1, 5, 2, 1, 13, 1, 14, 21, 1, 6, 1, 2, 1, 1, 1, 1, 1, 1, 33, 1, 1, 1, 5, 1, 9, 11, 1, 1, 1, 10, 1, 8, 17, 8, 15, 15, 1, 14, 1, 1, 15, 4, 43, 4, 2, 1, 1, 2, 4, 2, 43, 1, 1, 1, 1, 1, 1, 4, 1, 2, 8, 1, 1, 8, 1, 1, 1, 2, 9, 3, 12, 6, 1, 8, 6, 2, 9, 21, 7, 1, 6, 12, 7, 2, 12, 1, 1, 1, 3, 1, 14, 7, 2, 1, 1, 10, 1, 3, 11], \"xaxis\": \"x\", \"y\": [0.0, null, 0.8571428571428571, 0.42857142857142855, 0.2, null, 0.5, null, null, 0.5, 0.5, 1.0, 1.0, 1.0, 0.42857142857142855, null, null, 1.0, 1.0, 0.5555555555555556, 0.5, null, 0.8888888888888888, null, null, 0.2857142857142857, null, 1.0, 0.6666666666666666, 0.8, 0.4166666666666667, 0.5, 0.6666666666666666, null, null, 0.25, 0.0, null, 0.25, null, 0.4615384615384616, 0.75, null, 0.6, null, 0.0, null, null, null, null, null, null, 0.5625, null, null, null, 1.0, null, 0.875, 0.7, null, null, null, 0.3333333333333333, null, 0.7142857142857143, 0.625, 0.7142857142857143, 0.5714285714285714, 0.7857142857142857, null, 0.6923076923076923, null, null, 0.5, 0.3333333333333333, 0.5238095238095238, 1.0, 0.0, null, null, 0.0, 1.0, 0.0, 0.5714285714285714, null, null, null, null, null, null, 0.6666666666666666, null, 0.0, 0.7142857142857143, null, null, 0.42857142857142855, null, null, null, 1.0, 0.75, 0.5, 0.3636363636363637, 0.6, null, 0.7142857142857143, 0.4, 1.0, 0.625, 0.7, 0.8333333333333334, null, 0.8, 0.3636363636363637, 0.5, 1.0, 0.4545454545454545, null, null, null, 0.5, null, 0.6153846153846154, 1.0, 1.0, null, null, 0.1111111111111111, null, 0.0, 0.9], \"yaxis\": \"y\", \"type\": \"scatter\"}], \"name\": \"11\"}, {\"data\": [{\"hoverlabel\": {\"namelength\": 0}, \"hovertemplate\": \"Iteration=12<br>Length=%{x}<br>%Homochirality=%{y}\", \"legendgroup\": \"\", \"marker\": {\"color\": \"#636efa\", \"symbol\": \"circle\"}, \"mode\": \"markers\", \"name\": \"\", \"showlegend\": false, \"x\": [1, 3, 1, 5, 1, 1, 22, 3, 22, 13, 9, 1, 1, 1, 1, 1, 9, 1, 15, 1, 1, 7, 2, 14, 1, 15, 1, 1, 1, 1, 2, 1, 1, 1, 1, 1, 3, 5, 3, 4, 8, 8, 1, 13, 1, 11, 16, 6, 1, 1, 11, 1, 44, 1, 2, 10, 2, 1, 1, 19, 1, 11, 3, 2, 9, 1, 2, 1, 10, 5, 4, 1, 2, 1, 13, 21, 1, 28, 1, 5, 27, 14, 1, 3, 41, 13, 1, 3, 15, 4, 2, 2, 1, 5, 1, 1, 9, 11, 3, 1, 8, 12, 3, 4, 44, 4, 15, 1, 2, 6, 8, 1, 10, 1, 11, 3, 8, 1, 2], \"xaxis\": \"x\", \"y\": [null, 1.0, null, 0.75, null, null, 0.7142857142857143, 0.5, 0.7619047619047619, 0.5833333333333334, 0.5, null, null, null, null, null, 0.625, null, 0.35714285714285715, null, null, 0.5, 0.0, 0.4615384615384616, null, 0.42857142857142855, null, null, null, null, 0.0, null, null, null, null, null, 1.0, 0.5, 1.0, 0.6666666666666666, 0.7142857142857143, 0.42857142857142855, null, 0.6666666666666666, null, 0.9, 0.6666666666666666, 0.6, null, null, 0.8, null, 0.5581395348837209, null, 1.0, 0.8888888888888888, 1.0, null, null, 0.2222222222222222, null, 0.6, 0.0, 1.0, 0.625, null, 0.0, null, 0.6666666666666666, 1.0, 1.0, null, 0.0, null, 0.6666666666666666, 0.65, null, 0.7407407407407407, null, 0.75, 0.5769230769230769, 0.38461538461538464, null, 1.0, 0.575, 0.3333333333333333, null, 1.0, 0.5714285714285714, 0.6666666666666666, 1.0, 0.0, null, 0.25, null, null, 0.375, 0.3, 1.0, null, 0.7142857142857143, 0.8181818181818182, 0.5, 0.6666666666666666, 0.5348837209302325, 0.3333333333333333, 0.6428571428571429, null, 1.0, 1.0, 0.8571428571428571, null, 0.7777777777777778, null, 0.1, 1.0, 1.0, null, 0.0], \"yaxis\": \"y\", \"type\": \"scatter\"}], \"name\": \"12\"}, {\"data\": [{\"hoverlabel\": {\"namelength\": 0}, \"hovertemplate\": \"Iteration=13<br>Length=%{x}<br>%Homochirality=%{y}\", \"legendgroup\": \"\", \"marker\": {\"color\": \"#636efa\", \"symbol\": \"circle\"}, \"mode\": \"markers\", \"name\": \"\", \"showlegend\": false, \"x\": [2, 1, 5, 1, 3, 1, 1, 1, 5, 28, 1, 1, 23, 1, 1, 12, 7, 9, 1, 1, 14, 5, 11, 54, 10, 1, 1, 5, 11, 1, 4, 4, 37, 1, 16, 9, 1, 1, 1, 30, 2, 17, 1, 1, 5, 2, 5, 1, 2, 2, 1, 2, 6, 1, 21, 14, 1, 2, 4, 2, 1, 3, 26, 8, 15, 1, 1, 1, 16, 37, 4, 9, 26, 4, 5, 12, 2, 2, 11, 4, 10, 28, 4, 6, 17, 12, 1, 16, 3, 10, 1, 1, 6, 11, 1, 7, 3, 3, 18], \"xaxis\": \"x\", \"y\": [1.0, null, 0.25, null, 1.0, null, null, null, 0.75, 0.5925925925925926, null, null, 0.2727272727272727, null, null, 0.6363636363636364, 0.8333333333333334, 0.375, null, null, 0.3076923076923077, 0.75, 0.7, 0.5660377358490566, 0.6666666666666666, null, null, 0.5, 0.6, null, 0.3333333333333333, 1.0, 0.6944444444444444, null, 0.6666666666666666, 0.875, null, null, null, 0.6551724137931034, 0.0, 0.6875, null, null, 0.25, 1.0, 0.75, null, 0.0, 1.0, null, 1.0, 0.6, null, 0.7, 0.6153846153846154, null, 1.0, 1.0, 0.0, null, 0.5, 0.64, 0.14285714285714285, 0.7142857142857143, null, null, null, 0.4666666666666667, 0.6666666666666666, 0.6666666666666666, 0.75, 0.56, 1.0, 1.0, 0.6363636363636364, 0.0, 0.0, 0.8, 0.6666666666666666, 0.4444444444444444, 0.5185185185185185, 0.3333333333333333, 0.8, 0.625, 0.3636363636363637, null, 0.4, 0.5, 0.8888888888888888, null, null, 0.8, 0.9, null, 0.8333333333333334, 1.0, 0.0, 0.4705882352941176], \"yaxis\": \"y\", \"type\": \"scatter\"}], \"name\": \"13\"}, {\"data\": [{\"hoverlabel\": {\"namelength\": 0}, \"hovertemplate\": \"Iteration=14<br>Length=%{x}<br>%Homochirality=%{y}\", \"legendgroup\": \"\", \"marker\": {\"color\": \"#636efa\", \"symbol\": \"circle\"}, \"mode\": \"markers\", \"name\": \"\", \"showlegend\": false, \"x\": [22, 5, 23, 2, 7, 8, 65, 1, 10, 13, 1, 1, 3, 20, 1, 26, 1, 2, 23, 2, 28, 1, 1, 5, 2, 18, 1, 4, 15, 1, 1, 1, 32, 1, 1, 19, 6, 1, 26, 1, 41, 2, 1, 1, 1, 28, 10, 2, 1, 20, 30, 9, 26, 1, 1, 16, 1, 29, 14, 4, 1, 17, 2, 1, 6, 1, 2, 7, 11, 2, 3, 18, 4, 3, 15, 1, 7, 13, 6, 1], \"xaxis\": \"x\", \"y\": [0.7142857142857143, 0.5, 0.5, 1.0, 0.8333333333333334, 0.8571428571428571, 0.625, null, 0.6666666666666666, 0.5, null, null, 0.5, 0.8421052631578947, null, 0.6, null, 0.0, 0.6818181818181818, 0.0, 0.5185185185185185, null, null, 0.75, 1.0, 0.5882352941176471, null, 1.0, 0.5, null, null, null, 0.6774193548387096, null, null, 0.4444444444444444, 0.8, null, 0.32, null, 0.575, 0.0, null, null, null, 0.7407407407407407, 0.6666666666666666, 0.0, null, 0.5789473684210527, 0.5517241379310345, 0.625, 0.56, null, null, 0.6666666666666666, null, 0.5, 0.6153846153846154, 1.0, null, 0.375, 1.0, null, 1.0, null, 1.0, 0.6666666666666666, 0.9, 0.0, 0.0, 0.7058823529411765, 1.0, 0.5, 0.5, null, 0.5, 0.5833333333333334, 0.8, null], \"yaxis\": \"y\", \"type\": \"scatter\"}], \"name\": \"14\"}, {\"data\": [{\"hoverlabel\": {\"namelength\": 0}, \"hovertemplate\": \"Iteration=15<br>Length=%{x}<br>%Homochirality=%{y}\", \"legendgroup\": \"\", \"marker\": {\"color\": \"#636efa\", \"symbol\": \"circle\"}, \"mode\": \"markers\", \"name\": \"\", \"showlegend\": false, \"x\": [1, 66, 2, 4, 29, 4, 1, 16, 1, 6, 6, 6, 1, 3, 1, 47, 4, 1, 30, 36, 1, 9, 44, 6, 2, 1, 19, 1, 4, 43, 1, 16, 1, 1, 16, 15, 16, 23, 6, 42, 1, 18, 31, 21, 1, 22, 1, 20, 7, 27, 3, 16, 6, 8, 1, 33, 3, 1, 4, 1, 1, 2], \"xaxis\": \"x\", \"y\": [null, 0.6153846153846154, 1.0, 0.6666666666666666, 0.75, 0.6666666666666666, null, 0.4666666666666667, null, 1.0, 0.6, 0.8, null, 0.0, null, 0.5869565217391305, 1.0, null, 0.5517241379310345, 0.6285714285714286, null, 0.375, 0.5581395348837209, 0.8, 0.0, null, 0.6111111111111112, null, 1.0, 0.5476190476190477, null, 0.6666666666666666, null, null, 0.6, 0.8571428571428571, 0.5333333333333333, 0.6363636363636364, 1.0, 0.4878048780487805, null, 0.35294117647058826, 0.6, 0.8, null, 0.5714285714285714, null, 0.5789473684210527, 0.6666666666666666, 0.3076923076923077, 1.0, 0.8666666666666667, 1.0, 0.7142857142857143, null, 0.6875, 1.0, null, 0.3333333333333333, null, null, 0.0], \"yaxis\": \"y\", \"type\": \"scatter\"}], \"name\": \"15\"}, {\"data\": [{\"hoverlabel\": {\"namelength\": 0}, \"hovertemplate\": \"Iteration=16<br>Length=%{x}<br>%Homochirality=%{y}\", \"legendgroup\": \"\", \"marker\": {\"color\": \"#636efa\", \"symbol\": \"circle\"}, \"mode\": \"markers\", \"name\": \"\", \"showlegend\": false, \"x\": [10, 67, 33, 1, 2, 6, 1, 31, 1, 1, 20, 18, 3, 17, 52, 3, 1, 1, 9, 1, 4, 4, 20, 3, 1, 66, 1, 11, 14, 43, 1, 7, 8, 1, 6, 7, 4, 11, 52, 1, 48, 39, 6, 64, 3, 1, 7, 5, 6, 5, 14, 4, 7, 8], \"xaxis\": \"x\", \"y\": [0.7777777777777778, 0.6060606060606061, 0.5625, null, 1.0, 1.0, null, 0.7, null, null, 0.6842105263157895, 0.4705882352941176, 0.0, 0.6875, 0.6470588235294118, 1.0, null, null, 0.75, null, 1.0, 0.3333333333333333, 0.8421052631578947, 0.5, null, 0.5692307692307692, null, 0.5, 0.4615384615384616, 0.5, null, 1.0, 0.7142857142857143, null, 0.8, 0.6666666666666666, 0.3333333333333333, 0.9, 0.5294117647058824, null, 0.4893617021276596, 0.5789473684210527, 0.4, 0.6190476190476191, 0.5, null, 0.8333333333333334, 0.5, 1.0, 0.75, 0.38461538461538464, 1.0, 0.8333333333333334, 0.7142857142857143], \"yaxis\": \"y\", \"type\": \"scatter\"}], \"name\": \"16\"}, {\"data\": [{\"hoverlabel\": {\"namelength\": 0}, \"hovertemplate\": \"Iteration=17<br>Length=%{x}<br>%Homochirality=%{y}\", \"legendgroup\": \"\", \"marker\": {\"color\": \"#636efa\", \"symbol\": \"circle\"}, \"mode\": \"markers\", \"name\": \"\", \"showlegend\": false, \"x\": [51, 4, 1, 1, 17, 9, 6, 5, 9, 2, 5, 100, 7, 14, 4, 55, 1, 15, 10, 1, 77, 1, 2, 1, 16, 11, 1, 1, 1, 7, 4, 17, 82, 14, 7, 7, 1, 50, 3, 1, 4, 1, 6, 35, 9, 1, 33, 7, 2, 27, 4, 10], \"xaxis\": \"x\", \"y\": [0.68, 0.3333333333333333, null, null, 0.375, 0.5, 1.0, 1.0, 0.75, 1.0, 0.75, 0.5959595959595959, 0.8333333333333334, 0.8461538461538461, 0.3333333333333333, 0.5185185185185185, null, 0.5, 0.8888888888888888, null, 0.6052631578947368, null, 0.0, null, 0.4, 0.8, null, null, null, 1.0, 0.6666666666666666, 0.6875, 0.5802469135802469, 0.4615384615384616, 0.6666666666666666, 0.3333333333333333, null, 0.6530612244897959, 1.0, null, 0.6666666666666666, null, 1.0, 0.6176470588235294, 0.75, null, 0.5, 0.5, 0.0, 0.5769230769230769, 1.0, 0.7777777777777778], \"yaxis\": \"y\", \"type\": \"scatter\"}], \"name\": \"17\"}, {\"data\": [{\"hoverlabel\": {\"namelength\": 0}, \"hovertemplate\": \"Iteration=18<br>Length=%{x}<br>%Homochirality=%{y}\", \"legendgroup\": \"\", \"marker\": {\"color\": \"#636efa\", \"symbol\": \"circle\"}, \"mode\": \"markers\", \"name\": \"\", \"showlegend\": false, \"x\": [27, 16, 50, 1, 13, 54, 42, 1, 1, 1, 8, 10, 24, 4, 1, 6, 133, 7, 105, 41, 12, 1, 8, 1, 6, 3, 2, 7, 14, 1, 10, 1, 2, 26, 5, 35, 7, 9, 1, 2, 8, 8, 1, 2, 34, 9], \"xaxis\": \"x\", \"y\": [0.5384615384615384, 0.7333333333333333, 0.5306122448979592, null, 0.75, 0.660377358490566, 0.6341463414634146, null, null, null, 0.7142857142857143, 0.7777777777777778, 0.6086956521739131, 1.0, null, 1.0, 0.6212121212121212, 0.6666666666666666, 0.6057692307692307, 0.55, 0.9090909090909092, null, 0.5714285714285714, null, 0.4, 1.0, 0.0, 1.0, 0.6923076923076923, null, 0.5555555555555556, null, 0.0, 0.56, 0.5, 0.5882352941176471, 0.3333333333333333, 0.75, null, 1.0, 0.2857142857142857, 0.5714285714285714, null, 0.0, 0.4848484848484849, 0.75], \"yaxis\": \"y\", \"type\": \"scatter\"}], \"name\": \"18\"}, {\"data\": [{\"hoverlabel\": {\"namelength\": 0}, \"hovertemplate\": \"Iteration=19<br>Length=%{x}<br>%Homochirality=%{y}\", \"legendgroup\": \"\", \"marker\": {\"color\": \"#636efa\", \"symbol\": \"circle\"}, \"mode\": \"markers\", \"name\": \"\", \"showlegend\": false, \"x\": [1, 141, 66, 6, 1, 1, 13, 28, 5, 3, 6, 3, 8, 1, 6, 1, 67, 1, 24, 5, 1, 4, 77, 4, 1, 115, 19, 8, 3, 3, 5, 1, 1, 1, 28, 13, 1, 3, 2, 3, 4, 36, 4, 8, 5, 15, 1, 5, 2], \"xaxis\": \"x\", \"y\": [null, 0.6, 0.6153846153846154, 1.0, null, null, 0.5, 0.5555555555555556, 0.5, 1.0, 1.0, 0.5, 0.7142857142857143, null, 1.0, null, 0.6666666666666666, null, 0.6956521739130435, 0.75, null, 0.3333333333333333, 0.5263157894736842, 1.0, null, 0.6052631578947368, 0.5, 0.8571428571428571, 1.0, 1.0, 0.5, null, null, null, 0.5925925925925926, 0.75, null, 0.5, 0.0, 0.5, 0.6666666666666666, 0.6, 1.0, 1.0, 1.0, 0.5, null, 0.5, 0.0], \"yaxis\": \"y\", \"type\": \"scatter\"}], \"name\": \"19\"}, {\"data\": [{\"hoverlabel\": {\"namelength\": 0}, \"hovertemplate\": \"Iteration=20<br>Length=%{x}<br>%Homochirality=%{y}\", \"legendgroup\": \"\", \"marker\": {\"color\": \"#636efa\", \"symbol\": \"circle\"}, \"mode\": \"markers\", \"name\": \"\", \"showlegend\": false, \"x\": [8, 147, 1, 1, 10, 26, 70, 17, 6, 7, 3, 1, 16, 3, 4, 16, 3, 79, 1, 1, 9, 10, 5, 6, 1, 2, 1, 1, 22, 1, 32, 8, 114, 1, 5, 19, 29, 1, 1, 61, 4, 1, 6], \"xaxis\": \"x\", \"y\": [0.7142857142857143, 0.6164383561643836, null, null, 0.4444444444444444, 0.64, 0.6666666666666666, 0.6875, 1.0, 0.8333333333333334, 1.0, null, 0.6666666666666666, 0.5, 0.6666666666666666, 0.6666666666666666, 1.0, 0.5897435897435898, null, null, 0.75, 0.7777777777777778, 1.0, 0.6, null, 0.0, null, null, 0.5714285714285714, null, 0.5483870967741935, 1.0, 0.6106194690265486, null, 0.5, 0.5555555555555556, 0.6071428571428571, null, null, 0.5, 0.6666666666666666, null, 0.6], \"yaxis\": \"y\", \"type\": \"scatter\"}], \"name\": \"20\"}, {\"data\": [{\"hoverlabel\": {\"namelength\": 0}, \"hovertemplate\": \"Iteration=21<br>Length=%{x}<br>%Homochirality=%{y}\", \"legendgroup\": \"\", \"marker\": {\"color\": \"#636efa\", \"symbol\": \"circle\"}, \"mode\": \"markers\", \"name\": \"\", \"showlegend\": false, \"x\": [38, 13, 1, 23, 5, 10, 1, 1, 22, 8, 8, 64, 1, 1, 1, 1, 1, 1, 42, 11, 7, 119, 1, 140, 73, 1, 83, 32, 3, 1, 7, 11, 28, 1], \"xaxis\": \"x\", \"y\": [0.5675675675675675, 0.75, null, 0.6818181818181818, 1.0, 0.6666666666666666, null, null, 0.5714285714285714, 0.8571428571428571, 1.0, 0.492063492063492, null, null, null, null, null, null, 0.6585365853658537, 0.8, 0.8333333333333334, 0.6101694915254238, null, 0.5971223021582733, 0.6805555555555556, null, 0.5975609756097561, 0.6129032258064516, 0.5, null, 1.0, 0.5, 0.5925925925925926, null], \"yaxis\": \"y\", \"type\": \"scatter\"}], \"name\": \"21\"}, {\"data\": [{\"hoverlabel\": {\"namelength\": 0}, \"hovertemplate\": \"Iteration=22<br>Length=%{x}<br>%Homochirality=%{y}\", \"legendgroup\": \"\", \"marker\": {\"color\": \"#636efa\", \"symbol\": \"circle\"}, \"mode\": \"markers\", \"name\": \"\", \"showlegend\": false, \"x\": [113, 39, 1, 6, 29, 1, 8, 1, 1, 18, 1, 115, 1, 49, 10, 19, 8, 1, 77, 16, 1, 11, 1, 3, 120, 27, 1, 5, 63, 14], \"xaxis\": \"x\", \"y\": [0.6160714285714286, 0.5526315789473685, null, 1.0, 0.6071428571428571, null, 0.8571428571428571, null, null, 0.7058823529411765, null, 0.6052631578947368, null, 0.6875, 0.7777777777777778, 0.7222222222222222, 0.7142857142857143, null, 0.5394736842105263, 0.8666666666666667, null, 0.7, null, 0.5, 0.6050420168067226, 0.5384615384615384, null, 0.75, 0.6774193548387096, 0.5384615384615384], \"yaxis\": \"y\", \"type\": \"scatter\"}], \"name\": \"22\"}, {\"data\": [{\"hoverlabel\": {\"namelength\": 0}, \"hovertemplate\": \"Iteration=23<br>Length=%{x}<br>%Homochirality=%{y}\", \"legendgroup\": \"\", \"marker\": {\"color\": \"#636efa\", \"symbol\": \"circle\"}, \"mode\": \"markers\", \"name\": \"\", \"showlegend\": false, \"x\": [114, 11, 5, 82, 29, 28, 4, 235, 26, 39, 1, 1, 63, 1, 40, 1, 1, 1, 24, 11, 2, 24, 12, 5], \"xaxis\": \"x\", \"y\": [0.6194690265486725, 0.7, 1.0, 0.5555555555555556, 0.7142857142857143, 0.5555555555555556, 1.0, 0.6025641025641025, 0.72, 0.6842105263157895, null, null, 0.6612903225806451, null, 0.5384615384615384, null, null, null, 0.5652173913043478, 0.9, 1.0, 0.6956521739130435, 0.6363636363636364, 1.0], \"yaxis\": \"y\", \"type\": \"scatter\"}], \"name\": \"23\"}, {\"data\": [{\"hoverlabel\": {\"namelength\": 0}, \"hovertemplate\": \"Iteration=24<br>Length=%{x}<br>%Homochirality=%{y}\", \"legendgroup\": \"\", \"marker\": {\"color\": \"#636efa\", \"symbol\": \"circle\"}, \"mode\": \"markers\", \"name\": \"\", \"showlegend\": false, \"x\": [115, 40, 28, 1, 1, 1, 5, 52, 34, 16, 1, 298, 9, 12, 68, 1, 2, 27, 6, 15, 14, 2, 12], \"xaxis\": \"x\", \"y\": [0.6228070175438597, 0.7692307692307693, 0.7407407407407407, null, null, null, 1.0, 0.6078431372549019, 0.5757575757575758, 0.8, null, 0.6161616161616161, 0.25, 0.6363636363636364, 0.5223880597014925, null, 1.0, 0.7307692307692307, 0.4, 0.7857142857142857, 0.7692307692307693, 1.0, 0.6363636363636364], \"yaxis\": \"y\", \"type\": \"scatter\"}], \"name\": \"24\"}, {\"data\": [{\"hoverlabel\": {\"namelength\": 0}, \"hovertemplate\": \"Iteration=25<br>Length=%{x}<br>%Homochirality=%{y}\", \"legendgroup\": \"\", \"marker\": {\"color\": \"#636efa\", \"symbol\": \"circle\"}, \"mode\": \"markers\", \"name\": \"\", \"showlegend\": false, \"x\": [18, 28, 32, 1, 4, 11, 40, 2, 24, 49, 1, 1, 17, 69, 298, 5, 97, 8, 24, 3, 3, 3, 22], \"xaxis\": \"x\", \"y\": [0.4705882352941176, 0.7407407407407407, 0.8387096774193549, null, 1.0, 0.9, 0.5641025641025641, 1.0, 0.5652173913043478, 0.6041666666666666, null, null, 0.75, 0.5147058823529411, 0.6161616161616161, 0.75, 0.65625, 0.5714285714285714, 0.6956521739130435, 0.5, 1.0, 1.0, 0.7619047619047619], \"yaxis\": \"y\", \"type\": \"scatter\"}], \"name\": \"25\"}, {\"data\": [{\"hoverlabel\": {\"namelength\": 0}, \"hovertemplate\": \"Iteration=26<br>Length=%{x}<br>%Homochirality=%{y}\", \"legendgroup\": \"\", \"marker\": {\"color\": \"#636efa\", \"symbol\": \"circle\"}, \"mode\": \"markers\", \"name\": \"\", \"showlegend\": false, \"x\": [18, 12, 23, 100, 56, 27, 1, 23, 71, 347, 31, 4, 39, 1, 7], \"xaxis\": \"x\", \"y\": [0.7647058823529411, 0.7272727272727273, 0.5, 0.6666666666666666, 0.7818181818181819, 0.5769230769230769, null, 0.7272727272727273, 0.5285714285714286, 0.615606936416185, 0.7, 1.0, 0.5789473684210527, null, 0.8333333333333334], \"yaxis\": \"y\", \"type\": \"scatter\"}], \"name\": \"26\"}, {\"data\": [{\"hoverlabel\": {\"namelength\": 0}, \"hovertemplate\": \"Iteration=27<br>Length=%{x}<br>%Homochirality=%{y}\", \"legendgroup\": \"\", \"marker\": {\"color\": \"#636efa\", \"symbol\": \"circle\"}, \"mode\": \"markers\", \"name\": \"\", \"showlegend\": false, \"x\": [63, 4, 10, 72, 15, 1, 43, 118, 248, 54, 8, 17, 8, 99], \"xaxis\": \"x\", \"y\": [0.7741935483870968, 0.6666666666666666, 0.4444444444444444, 0.5352112676056338, 0.8571428571428571, null, 0.5952380952380952, 0.6837606837606838, 0.6153846153846154, 0.6037735849056604, 0.8571428571428571, 0.6875, 0.5714285714285714, 0.6224489795918368], \"yaxis\": \"y\", \"type\": \"scatter\"}], \"name\": \"27\"}, {\"data\": [{\"hoverlabel\": {\"namelength\": 0}, \"hovertemplate\": \"Iteration=28<br>Length=%{x}<br>%Homochirality=%{y}\", \"legendgroup\": \"\", \"marker\": {\"color\": \"#636efa\", \"symbol\": \"circle\"}, \"mode\": \"markers\", \"name\": \"\", \"showlegend\": false, \"x\": [25, 80, 67, 128, 36, 347, 15, 20, 1, 18, 23], \"xaxis\": \"x\", \"y\": [0.7083333333333334, 0.5316455696202531, 0.7727272727272727, 0.6614173228346457, 0.5428571428571428, 0.615606936416185, 0.8571428571428571, 0.5263157894736842, null, 0.7647058823529411, 0.6818181818181818], \"yaxis\": \"y\", \"type\": \"scatter\"}], \"name\": \"28\"}, {\"data\": [{\"hoverlabel\": {\"namelength\": 0}, \"hovertemplate\": \"Iteration=29<br>Length=%{x}<br>%Homochirality=%{y}\", \"legendgroup\": \"\", \"marker\": {\"color\": \"#636efa\", \"symbol\": \"circle\"}, \"mode\": \"markers\", \"name\": \"\", \"showlegend\": false, \"x\": [85, 18, 22, 62, 95, 1, 20, 5, 24, 1, 106, 285, 35, 1], \"xaxis\": \"x\", \"y\": [0.7738095238095238, 0.6470588235294118, 0.8095238095238095, 0.6065573770491803, 0.5744680851063829, null, 0.5263157894736842, 0.75, 0.6956521739130435, null, 0.6380952380952379, 0.6197183098591549, 0.5588235294117647, null], \"yaxis\": \"y\", \"type\": \"scatter\"}], \"name\": \"29\"}, {\"data\": [{\"hoverlabel\": {\"namelength\": 0}, \"hovertemplate\": \"Iteration=30<br>Length=%{x}<br>%Homochirality=%{y}\", \"legendgroup\": \"\", \"marker\": {\"color\": \"#636efa\", \"symbol\": \"circle\"}, \"mode\": \"markers\", \"name\": \"\", \"showlegend\": false, \"x\": [30, 305, 25, 1, 30, 201, 1, 107, 3, 2, 5, 32, 2, 16], \"xaxis\": \"x\", \"y\": [0.6206896551724138, 0.6118421052631579, 0.6666666666666666, null, 0.5517241379310345, 0.605, null, 0.7735849056603774, 0.5, 0.0, 0.25, 0.6774193548387096, 1.0, 0.7333333333333333], \"yaxis\": \"y\", \"type\": \"scatter\"}], \"name\": \"30\"}, {\"data\": [{\"hoverlabel\": {\"namelength\": 0}, \"hovertemplate\": \"Iteration=31<br>Length=%{x}<br>%Homochirality=%{y}\", \"legendgroup\": \"\", \"marker\": {\"color\": \"#636efa\", \"symbol\": \"circle\"}, \"mode\": \"markers\", \"name\": \"\", \"showlegend\": false, \"x\": [306, 60, 31, 11, 17, 204, 7, 30, 2, 17, 47, 1, 14, 13], \"xaxis\": \"x\", \"y\": [0.6098360655737705, 0.7796610169491526, 0.7, 0.5, 0.6875, 0.6059113300492611, 0.3333333333333333, 0.5517241379310345, 0.0, 0.5, 0.7826086956521741, null, 0.7692307692307693, 0.8333333333333334], \"yaxis\": \"y\", \"type\": \"scatter\"}], \"name\": \"31\"}, {\"data\": [{\"hoverlabel\": {\"namelength\": 0}, \"hovertemplate\": \"Iteration=32<br>Length=%{x}<br>%Homochirality=%{y}\", \"legendgroup\": \"\", \"marker\": {\"color\": \"#636efa\", \"symbol\": \"circle\"}, \"mode\": \"markers\", \"name\": \"\", \"showlegend\": false, \"x\": [206, 3, 71, 4, 6, 320, 64, 9, 30, 1, 10, 3, 25, 8], \"xaxis\": \"x\", \"y\": [0.6, 1.0, 0.7285714285714285, 0.3333333333333333, 0.8, 0.6144200626959248, 0.7619047619047619, 0.75, 0.5517241379310345, null, 0.8888888888888888, 0.5, 0.7083333333333334, 0.2857142857142857], \"yaxis\": \"y\", \"type\": \"scatter\"}], \"name\": \"32\"}, {\"data\": [{\"hoverlabel\": {\"namelength\": 0}, \"hovertemplate\": \"Iteration=33<br>Length=%{x}<br>%Homochirality=%{y}\", \"legendgroup\": \"\", \"marker\": {\"color\": \"#636efa\", \"symbol\": \"circle\"}, \"mode\": \"markers\", \"name\": \"\", \"showlegend\": false, \"x\": [231, 5, 326, 4, 67, 38, 71, 2, 4, 4, 8], \"xaxis\": \"x\", \"y\": [0.6130434782608696, 0.75, 0.6184615384615385, 0.3333333333333333, 0.7727272727272727, 0.4864864864864865, 0.7285714285714285, 1.0, 0.6666666666666666, 0.3333333333333333, 1.0], \"yaxis\": \"y\", \"type\": \"scatter\"}], \"name\": \"33\"}, {\"data\": [{\"hoverlabel\": {\"namelength\": 0}, \"hovertemplate\": \"Iteration=34<br>Length=%{x}<br>%Homochirality=%{y}\", \"legendgroup\": \"\", \"marker\": {\"color\": \"#636efa\", \"symbol\": \"circle\"}, \"mode\": \"markers\", \"name\": \"\", \"showlegend\": false, \"x\": [72, 12, 19, 3, 557, 37, 4, 2, 52, 1, 1], \"xaxis\": \"x\", \"y\": [0.7605633802816901, 0.8181818181818182, 0.5, 1.0, 0.6151079136690647, 0.4722222222222222, 0.3333333333333333, 1.0, 0.8235294117647058, null, null], \"yaxis\": \"y\", \"type\": \"scatter\"}], \"name\": \"34\"}, {\"data\": [{\"hoverlabel\": {\"namelength\": 0}, \"hovertemplate\": \"Iteration=35<br>Length=%{x}<br>%Homochirality=%{y}\", \"legendgroup\": \"\", \"marker\": {\"color\": \"#636efa\", \"symbol\": \"circle\"}, \"mode\": \"markers\", \"name\": \"\", \"showlegend\": false, \"x\": [75, 31, 21, 2, 1, 12, 6, 2, 51, 1, 558], \"xaxis\": \"x\", \"y\": [0.7702702702702703, 0.5333333333333333, 0.5, 0.0, null, 0.8181818181818182, 0.0, 1.0, 0.84, null, 0.6140035906642729], \"yaxis\": \"y\", \"type\": \"scatter\"}], \"name\": \"35\"}, {\"data\": [{\"hoverlabel\": {\"namelength\": 0}, \"hovertemplate\": \"Iteration=36<br>Length=%{x}<br>%Homochirality=%{y}\", \"legendgroup\": \"\", \"marker\": {\"color\": \"#636efa\", \"symbol\": \"circle\"}, \"mode\": \"markers\", \"name\": \"\", \"showlegend\": false, \"x\": [63, 1, 10, 2, 633, 6, 11, 32, 1, 1], \"xaxis\": \"x\", \"y\": [0.8225806451612904, null, 0.6666666666666666, 1.0, 0.6313291139240507, 0.0, 0.4, 0.5161290322580645, null, null], \"yaxis\": \"y\", \"type\": \"scatter\"}], \"name\": \"36\"}, {\"data\": [{\"hoverlabel\": {\"namelength\": 0}, \"hovertemplate\": \"Iteration=37<br>Length=%{x}<br>%Homochirality=%{y}\", \"legendgroup\": \"\", \"marker\": {\"color\": \"#636efa\", \"symbol\": \"circle\"}, \"mode\": \"markers\", \"name\": \"\", \"showlegend\": false, \"x\": [64, 1, 2, 1, 633, 17, 42], \"xaxis\": \"x\", \"y\": [0.8095238095238095, null, 1.0, null, 0.6313291139240507, 0.3125, 0.5365853658536586], \"yaxis\": \"y\", \"type\": \"scatter\"}], \"name\": \"37\"}, {\"data\": [{\"hoverlabel\": {\"namelength\": 0}, \"hovertemplate\": \"Iteration=38<br>Length=%{x}<br>%Homochirality=%{y}\", \"legendgroup\": \"\", \"marker\": {\"color\": \"#636efa\", \"symbol\": \"circle\"}, \"mode\": \"markers\", \"name\": \"\", \"showlegend\": false, \"x\": [1, 81, 633, 3, 42], \"xaxis\": \"x\", \"y\": [null, 0.7125, 0.6313291139240507, 1.0, 0.5365853658536586], \"yaxis\": \"y\", \"type\": \"scatter\"}], \"name\": \"38\"}, {\"data\": [{\"hoverlabel\": {\"namelength\": 0}, \"hovertemplate\": \"Iteration=39<br>Length=%{x}<br>%Homochirality=%{y}\", \"legendgroup\": \"\", \"marker\": {\"color\": \"#636efa\", \"symbol\": \"circle\"}, \"mode\": \"markers\", \"name\": \"\", \"showlegend\": false, \"x\": [1, 633, 123, 3], \"xaxis\": \"x\", \"y\": [null, 0.6313291139240507, 0.6557377049180327, 1.0], \"yaxis\": \"y\", \"type\": \"scatter\"}], \"name\": \"39\"}, {\"data\": [{\"hoverlabel\": {\"namelength\": 0}, \"hovertemplate\": \"Iteration=40<br>Length=%{x}<br>%Homochirality=%{y}\", \"legendgroup\": \"\", \"marker\": {\"color\": \"#636efa\", \"symbol\": \"circle\"}, \"mode\": \"markers\", \"name\": \"\", \"showlegend\": false, \"x\": [1, 99, 636, 24], \"xaxis\": \"x\", \"y\": [null, 0.6326530612244898, 0.6330708661417322, 0.7826086956521741], \"yaxis\": \"y\", \"type\": \"scatter\"}], \"name\": \"40\"}, {\"data\": [{\"hoverlabel\": {\"namelength\": 0}, \"hovertemplate\": \"Iteration=41<br>Length=%{x}<br>%Homochirality=%{y}\", \"legendgroup\": \"\", \"marker\": {\"color\": \"#636efa\", \"symbol\": \"circle\"}, \"mode\": \"markers\", \"name\": \"\", \"showlegend\": false, \"x\": [53, 660, 1, 46], \"xaxis\": \"x\", \"y\": [0.4615384615384616, 0.6388467374810318, null, 0.8222222222222222], \"yaxis\": \"y\", \"type\": \"scatter\"}], \"name\": \"41\"}, {\"data\": [{\"hoverlabel\": {\"namelength\": 0}, \"hovertemplate\": \"Iteration=42<br>Length=%{x}<br>%Homochirality=%{y}\", \"legendgroup\": \"\", \"marker\": {\"color\": \"#636efa\", \"symbol\": \"circle\"}, \"mode\": \"markers\", \"name\": \"\", \"showlegend\": false, \"x\": [706, 1, 53], \"xaxis\": \"x\", \"y\": [0.6510638297872341, null, 0.4615384615384616], \"yaxis\": \"y\", \"type\": \"scatter\"}], \"name\": \"42\"}, {\"data\": [{\"hoverlabel\": {\"namelength\": 0}, \"hovertemplate\": \"Iteration=43<br>Length=%{x}<br>%Homochirality=%{y}\", \"legendgroup\": \"\", \"marker\": {\"color\": \"#636efa\", \"symbol\": \"circle\"}, \"mode\": \"markers\", \"name\": \"\", \"showlegend\": false, \"x\": [53, 1, 706], \"xaxis\": \"x\", \"y\": [0.4615384615384616, null, 0.6510638297872341], \"yaxis\": \"y\", \"type\": \"scatter\"}], \"name\": \"43\"}, {\"data\": [{\"hoverlabel\": {\"namelength\": 0}, \"hovertemplate\": \"Iteration=44<br>Length=%{x}<br>%Homochirality=%{y}\", \"legendgroup\": \"\", \"marker\": {\"color\": \"#636efa\", \"symbol\": \"circle\"}, \"mode\": \"markers\", \"name\": \"\", \"showlegend\": false, \"x\": [759, 1], \"xaxis\": \"x\", \"y\": [0.6385224274406333, null], \"yaxis\": \"y\", \"type\": \"scatter\"}], \"name\": \"44\"}, {\"data\": [{\"hoverlabel\": {\"namelength\": 0}, \"hovertemplate\": \"Iteration=45<br>Length=%{x}<br>%Homochirality=%{y}\", \"legendgroup\": \"\", \"marker\": {\"color\": \"#636efa\", \"symbol\": \"circle\"}, \"mode\": \"markers\", \"name\": \"\", \"showlegend\": false, \"x\": [760], \"xaxis\": \"x\", \"y\": [0.6376811594202898], \"yaxis\": \"y\", \"type\": \"scatter\"}], \"name\": \"45\"}, {\"data\": [{\"hoverlabel\": {\"namelength\": 0}, \"hovertemplate\": \"Iteration=46<br>Length=%{x}<br>%Homochirality=%{y}\", \"legendgroup\": \"\", \"marker\": {\"color\": \"#636efa\", \"symbol\": \"circle\"}, \"mode\": \"markers\", \"name\": \"\", \"showlegend\": false, \"x\": [760], \"xaxis\": \"x\", \"y\": [0.6376811594202898], \"yaxis\": \"y\", \"type\": \"scatter\"}], \"name\": \"46\"}, {\"data\": [{\"hoverlabel\": {\"namelength\": 0}, \"hovertemplate\": \"Iteration=47<br>Length=%{x}<br>%Homochirality=%{y}\", \"legendgroup\": \"\", \"marker\": {\"color\": \"#636efa\", \"symbol\": \"circle\"}, \"mode\": \"markers\", \"name\": \"\", \"showlegend\": false, \"x\": [760], \"xaxis\": \"x\", \"y\": [0.6376811594202898], \"yaxis\": \"y\", \"type\": \"scatter\"}], \"name\": \"47\"}, {\"data\": [{\"hoverlabel\": {\"namelength\": 0}, \"hovertemplate\": \"Iteration=48<br>Length=%{x}<br>%Homochirality=%{y}\", \"legendgroup\": \"\", \"marker\": {\"color\": \"#636efa\", \"symbol\": \"circle\"}, \"mode\": \"markers\", \"name\": \"\", \"showlegend\": false, \"x\": [760], \"xaxis\": \"x\", \"y\": [0.6376811594202898], \"yaxis\": \"y\", \"type\": \"scatter\"}], \"name\": \"48\"}, {\"data\": [{\"hoverlabel\": {\"namelength\": 0}, \"hovertemplate\": \"Iteration=49<br>Length=%{x}<br>%Homochirality=%{y}\", \"legendgroup\": \"\", \"marker\": {\"color\": \"#636efa\", \"symbol\": \"circle\"}, \"mode\": \"markers\", \"name\": \"\", \"showlegend\": false, \"x\": [760], \"xaxis\": \"x\", \"y\": [0.6376811594202898], \"yaxis\": \"y\", \"type\": \"scatter\"}], \"name\": \"49\"}, {\"data\": [{\"hoverlabel\": {\"namelength\": 0}, \"hovertemplate\": \"Iteration=50<br>Length=%{x}<br>%Homochirality=%{y}\", \"legendgroup\": \"\", \"marker\": {\"color\": \"#636efa\", \"symbol\": \"circle\"}, \"mode\": \"markers\", \"name\": \"\", \"showlegend\": false, \"x\": [760], \"xaxis\": \"x\", \"y\": [0.6376811594202898], \"yaxis\": \"y\", \"type\": \"scatter\"}], \"name\": \"50\"}, {\"data\": [{\"hoverlabel\": {\"namelength\": 0}, \"hovertemplate\": \"Iteration=51<br>Length=%{x}<br>%Homochirality=%{y}\", \"legendgroup\": \"\", \"marker\": {\"color\": \"#636efa\", \"symbol\": \"circle\"}, \"mode\": \"markers\", \"name\": \"\", \"showlegend\": false, \"x\": [760], \"xaxis\": \"x\", \"y\": [0.6376811594202898], \"yaxis\": \"y\", \"type\": \"scatter\"}], \"name\": \"51\"}, {\"data\": [{\"hoverlabel\": {\"namelength\": 0}, \"hovertemplate\": \"Iteration=52<br>Length=%{x}<br>%Homochirality=%{y}\", \"legendgroup\": \"\", \"marker\": {\"color\": \"#636efa\", \"symbol\": \"circle\"}, \"mode\": \"markers\", \"name\": \"\", \"showlegend\": false, \"x\": [760], \"xaxis\": \"x\", \"y\": [0.6376811594202898], \"yaxis\": \"y\", \"type\": \"scatter\"}], \"name\": \"52\"}, {\"data\": [{\"hoverlabel\": {\"namelength\": 0}, \"hovertemplate\": \"Iteration=53<br>Length=%{x}<br>%Homochirality=%{y}\", \"legendgroup\": \"\", \"marker\": {\"color\": \"#636efa\", \"symbol\": \"circle\"}, \"mode\": \"markers\", \"name\": \"\", \"showlegend\": false, \"x\": [760], \"xaxis\": \"x\", \"y\": [0.6376811594202898], \"yaxis\": \"y\", \"type\": \"scatter\"}], \"name\": \"53\"}, {\"data\": [{\"hoverlabel\": {\"namelength\": 0}, \"hovertemplate\": \"Iteration=54<br>Length=%{x}<br>%Homochirality=%{y}\", \"legendgroup\": \"\", \"marker\": {\"color\": \"#636efa\", \"symbol\": \"circle\"}, \"mode\": \"markers\", \"name\": \"\", \"showlegend\": false, \"x\": [760], \"xaxis\": \"x\", \"y\": [0.6376811594202898], \"yaxis\": \"y\", \"type\": \"scatter\"}], \"name\": \"54\"}, {\"data\": [{\"hoverlabel\": {\"namelength\": 0}, \"hovertemplate\": \"Iteration=55<br>Length=%{x}<br>%Homochirality=%{y}\", \"legendgroup\": \"\", \"marker\": {\"color\": \"#636efa\", \"symbol\": \"circle\"}, \"mode\": \"markers\", \"name\": \"\", \"showlegend\": false, \"x\": [760], \"xaxis\": \"x\", \"y\": [0.6376811594202898], \"yaxis\": \"y\", \"type\": \"scatter\"}], \"name\": \"55\"}, {\"data\": [{\"hoverlabel\": {\"namelength\": 0}, \"hovertemplate\": \"Iteration=56<br>Length=%{x}<br>%Homochirality=%{y}\", \"legendgroup\": \"\", \"marker\": {\"color\": \"#636efa\", \"symbol\": \"circle\"}, \"mode\": \"markers\", \"name\": \"\", \"showlegend\": false, \"x\": [760], \"xaxis\": \"x\", \"y\": [0.6376811594202898], \"yaxis\": \"y\", \"type\": \"scatter\"}], \"name\": \"56\"}, {\"data\": [{\"hoverlabel\": {\"namelength\": 0}, \"hovertemplate\": \"Iteration=57<br>Length=%{x}<br>%Homochirality=%{y}\", \"legendgroup\": \"\", \"marker\": {\"color\": \"#636efa\", \"symbol\": \"circle\"}, \"mode\": \"markers\", \"name\": \"\", \"showlegend\": false, \"x\": [760], \"xaxis\": \"x\", \"y\": [0.6376811594202898], \"yaxis\": \"y\", \"type\": \"scatter\"}], \"name\": \"57\"}, {\"data\": [{\"hoverlabel\": {\"namelength\": 0}, \"hovertemplate\": \"Iteration=58<br>Length=%{x}<br>%Homochirality=%{y}\", \"legendgroup\": \"\", \"marker\": {\"color\": \"#636efa\", \"symbol\": \"circle\"}, \"mode\": \"markers\", \"name\": \"\", \"showlegend\": false, \"x\": [760], \"xaxis\": \"x\", \"y\": [0.6376811594202898], \"yaxis\": \"y\", \"type\": \"scatter\"}], \"name\": \"58\"}, {\"data\": [{\"hoverlabel\": {\"namelength\": 0}, \"hovertemplate\": \"Iteration=59<br>Length=%{x}<br>%Homochirality=%{y}\", \"legendgroup\": \"\", \"marker\": {\"color\": \"#636efa\", \"symbol\": \"circle\"}, \"mode\": \"markers\", \"name\": \"\", \"showlegend\": false, \"x\": [760], \"xaxis\": \"x\", \"y\": [0.6376811594202898], \"yaxis\": \"y\", \"type\": \"scatter\"}], \"name\": \"59\"}, {\"data\": [{\"hoverlabel\": {\"namelength\": 0}, \"hovertemplate\": \"Iteration=60<br>Length=%{x}<br>%Homochirality=%{y}\", \"legendgroup\": \"\", \"marker\": {\"color\": \"#636efa\", \"symbol\": \"circle\"}, \"mode\": \"markers\", \"name\": \"\", \"showlegend\": false, \"x\": [760], \"xaxis\": \"x\", \"y\": [0.6376811594202898], \"yaxis\": \"y\", \"type\": \"scatter\"}], \"name\": \"60\"}, {\"data\": [{\"hoverlabel\": {\"namelength\": 0}, \"hovertemplate\": \"Iteration=61<br>Length=%{x}<br>%Homochirality=%{y}\", \"legendgroup\": \"\", \"marker\": {\"color\": \"#636efa\", \"symbol\": \"circle\"}, \"mode\": \"markers\", \"name\": \"\", \"showlegend\": false, \"x\": [760], \"xaxis\": \"x\", \"y\": [0.6376811594202898], \"yaxis\": \"y\", \"type\": \"scatter\"}], \"name\": \"61\"}, {\"data\": [{\"hoverlabel\": {\"namelength\": 0}, \"hovertemplate\": \"Iteration=62<br>Length=%{x}<br>%Homochirality=%{y}\", \"legendgroup\": \"\", \"marker\": {\"color\": \"#636efa\", \"symbol\": \"circle\"}, \"mode\": \"markers\", \"name\": \"\", \"showlegend\": false, \"x\": [760], \"xaxis\": \"x\", \"y\": [0.6376811594202898], \"yaxis\": \"y\", \"type\": \"scatter\"}], \"name\": \"62\"}, {\"data\": [{\"hoverlabel\": {\"namelength\": 0}, \"hovertemplate\": \"Iteration=63<br>Length=%{x}<br>%Homochirality=%{y}\", \"legendgroup\": \"\", \"marker\": {\"color\": \"#636efa\", \"symbol\": \"circle\"}, \"mode\": \"markers\", \"name\": \"\", \"showlegend\": false, \"x\": [760], \"xaxis\": \"x\", \"y\": [0.6376811594202898], \"yaxis\": \"y\", \"type\": \"scatter\"}], \"name\": \"63\"}, {\"data\": [{\"hoverlabel\": {\"namelength\": 0}, \"hovertemplate\": \"Iteration=64<br>Length=%{x}<br>%Homochirality=%{y}\", \"legendgroup\": \"\", \"marker\": {\"color\": \"#636efa\", \"symbol\": \"circle\"}, \"mode\": \"markers\", \"name\": \"\", \"showlegend\": false, \"x\": [760], \"xaxis\": \"x\", \"y\": [0.6376811594202898], \"yaxis\": \"y\", \"type\": \"scatter\"}], \"name\": \"64\"}, {\"data\": [{\"hoverlabel\": {\"namelength\": 0}, \"hovertemplate\": \"Iteration=65<br>Length=%{x}<br>%Homochirality=%{y}\", \"legendgroup\": \"\", \"marker\": {\"color\": \"#636efa\", \"symbol\": \"circle\"}, \"mode\": \"markers\", \"name\": \"\", \"showlegend\": false, \"x\": [760], \"xaxis\": \"x\", \"y\": [0.6376811594202898], \"yaxis\": \"y\", \"type\": \"scatter\"}], \"name\": \"65\"}, {\"data\": [{\"hoverlabel\": {\"namelength\": 0}, \"hovertemplate\": \"Iteration=66<br>Length=%{x}<br>%Homochirality=%{y}\", \"legendgroup\": \"\", \"marker\": {\"color\": \"#636efa\", \"symbol\": \"circle\"}, \"mode\": \"markers\", \"name\": \"\", \"showlegend\": false, \"x\": [760], \"xaxis\": \"x\", \"y\": [0.6376811594202898], \"yaxis\": \"y\", \"type\": \"scatter\"}], \"name\": \"66\"}, {\"data\": [{\"hoverlabel\": {\"namelength\": 0}, \"hovertemplate\": \"Iteration=67<br>Length=%{x}<br>%Homochirality=%{y}\", \"legendgroup\": \"\", \"marker\": {\"color\": \"#636efa\", \"symbol\": \"circle\"}, \"mode\": \"markers\", \"name\": \"\", \"showlegend\": false, \"x\": [760], \"xaxis\": \"x\", \"y\": [0.6376811594202898], \"yaxis\": \"y\", \"type\": \"scatter\"}], \"name\": \"67\"}, {\"data\": [{\"hoverlabel\": {\"namelength\": 0}, \"hovertemplate\": \"Iteration=68<br>Length=%{x}<br>%Homochirality=%{y}\", \"legendgroup\": \"\", \"marker\": {\"color\": \"#636efa\", \"symbol\": \"circle\"}, \"mode\": \"markers\", \"name\": \"\", \"showlegend\": false, \"x\": [760], \"xaxis\": \"x\", \"y\": [0.6376811594202898], \"yaxis\": \"y\", \"type\": \"scatter\"}], \"name\": \"68\"}, {\"data\": [{\"hoverlabel\": {\"namelength\": 0}, \"hovertemplate\": \"Iteration=69<br>Length=%{x}<br>%Homochirality=%{y}\", \"legendgroup\": \"\", \"marker\": {\"color\": \"#636efa\", \"symbol\": \"circle\"}, \"mode\": \"markers\", \"name\": \"\", \"showlegend\": false, \"x\": [760], \"xaxis\": \"x\", \"y\": [0.6376811594202898], \"yaxis\": \"y\", \"type\": \"scatter\"}], \"name\": \"69\"}, {\"data\": [{\"hoverlabel\": {\"namelength\": 0}, \"hovertemplate\": \"Iteration=70<br>Length=%{x}<br>%Homochirality=%{y}\", \"legendgroup\": \"\", \"marker\": {\"color\": \"#636efa\", \"symbol\": \"circle\"}, \"mode\": \"markers\", \"name\": \"\", \"showlegend\": false, \"x\": [760], \"xaxis\": \"x\", \"y\": [0.6376811594202898], \"yaxis\": \"y\", \"type\": \"scatter\"}], \"name\": \"70\"}, {\"data\": [{\"hoverlabel\": {\"namelength\": 0}, \"hovertemplate\": \"Iteration=71<br>Length=%{x}<br>%Homochirality=%{y}\", \"legendgroup\": \"\", \"marker\": {\"color\": \"#636efa\", \"symbol\": \"circle\"}, \"mode\": \"markers\", \"name\": \"\", \"showlegend\": false, \"x\": [760], \"xaxis\": \"x\", \"y\": [0.6376811594202898], \"yaxis\": \"y\", \"type\": \"scatter\"}], \"name\": \"71\"}, {\"data\": [{\"hoverlabel\": {\"namelength\": 0}, \"hovertemplate\": \"Iteration=72<br>Length=%{x}<br>%Homochirality=%{y}\", \"legendgroup\": \"\", \"marker\": {\"color\": \"#636efa\", \"symbol\": \"circle\"}, \"mode\": \"markers\", \"name\": \"\", \"showlegend\": false, \"x\": [760], \"xaxis\": \"x\", \"y\": [0.6376811594202898], \"yaxis\": \"y\", \"type\": \"scatter\"}], \"name\": \"72\"}, {\"data\": [{\"hoverlabel\": {\"namelength\": 0}, \"hovertemplate\": \"Iteration=73<br>Length=%{x}<br>%Homochirality=%{y}\", \"legendgroup\": \"\", \"marker\": {\"color\": \"#636efa\", \"symbol\": \"circle\"}, \"mode\": \"markers\", \"name\": \"\", \"showlegend\": false, \"x\": [760], \"xaxis\": \"x\", \"y\": [0.6376811594202898], \"yaxis\": \"y\", \"type\": \"scatter\"}], \"name\": \"73\"}, {\"data\": [{\"hoverlabel\": {\"namelength\": 0}, \"hovertemplate\": \"Iteration=74<br>Length=%{x}<br>%Homochirality=%{y}\", \"legendgroup\": \"\", \"marker\": {\"color\": \"#636efa\", \"symbol\": \"circle\"}, \"mode\": \"markers\", \"name\": \"\", \"showlegend\": false, \"x\": [760], \"xaxis\": \"x\", \"y\": [0.6376811594202898], \"yaxis\": \"y\", \"type\": \"scatter\"}], \"name\": \"74\"}, {\"data\": [{\"hoverlabel\": {\"namelength\": 0}, \"hovertemplate\": \"Iteration=75<br>Length=%{x}<br>%Homochirality=%{y}\", \"legendgroup\": \"\", \"marker\": {\"color\": \"#636efa\", \"symbol\": \"circle\"}, \"mode\": \"markers\", \"name\": \"\", \"showlegend\": false, \"x\": [760], \"xaxis\": \"x\", \"y\": [0.6376811594202898], \"yaxis\": \"y\", \"type\": \"scatter\"}], \"name\": \"75\"}, {\"data\": [{\"hoverlabel\": {\"namelength\": 0}, \"hovertemplate\": \"Iteration=76<br>Length=%{x}<br>%Homochirality=%{y}\", \"legendgroup\": \"\", \"marker\": {\"color\": \"#636efa\", \"symbol\": \"circle\"}, \"mode\": \"markers\", \"name\": \"\", \"showlegend\": false, \"x\": [760], \"xaxis\": \"x\", \"y\": [0.6376811594202898], \"yaxis\": \"y\", \"type\": \"scatter\"}], \"name\": \"76\"}, {\"data\": [{\"hoverlabel\": {\"namelength\": 0}, \"hovertemplate\": \"Iteration=77<br>Length=%{x}<br>%Homochirality=%{y}\", \"legendgroup\": \"\", \"marker\": {\"color\": \"#636efa\", \"symbol\": \"circle\"}, \"mode\": \"markers\", \"name\": \"\", \"showlegend\": false, \"x\": [760], \"xaxis\": \"x\", \"y\": [0.6376811594202898], \"yaxis\": \"y\", \"type\": \"scatter\"}], \"name\": \"77\"}, {\"data\": [{\"hoverlabel\": {\"namelength\": 0}, \"hovertemplate\": \"Iteration=78<br>Length=%{x}<br>%Homochirality=%{y}\", \"legendgroup\": \"\", \"marker\": {\"color\": \"#636efa\", \"symbol\": \"circle\"}, \"mode\": \"markers\", \"name\": \"\", \"showlegend\": false, \"x\": [760], \"xaxis\": \"x\", \"y\": [0.6376811594202898], \"yaxis\": \"y\", \"type\": \"scatter\"}], \"name\": \"78\"}, {\"data\": [{\"hoverlabel\": {\"namelength\": 0}, \"hovertemplate\": \"Iteration=79<br>Length=%{x}<br>%Homochirality=%{y}\", \"legendgroup\": \"\", \"marker\": {\"color\": \"#636efa\", \"symbol\": \"circle\"}, \"mode\": \"markers\", \"name\": \"\", \"showlegend\": false, \"x\": [760], \"xaxis\": \"x\", \"y\": [0.6376811594202898], \"yaxis\": \"y\", \"type\": \"scatter\"}], \"name\": \"79\"}, {\"data\": [{\"hoverlabel\": {\"namelength\": 0}, \"hovertemplate\": \"Iteration=80<br>Length=%{x}<br>%Homochirality=%{y}\", \"legendgroup\": \"\", \"marker\": {\"color\": \"#636efa\", \"symbol\": \"circle\"}, \"mode\": \"markers\", \"name\": \"\", \"showlegend\": false, \"x\": [760], \"xaxis\": \"x\", \"y\": [0.6376811594202898], \"yaxis\": \"y\", \"type\": \"scatter\"}], \"name\": \"80\"}, {\"data\": [{\"hoverlabel\": {\"namelength\": 0}, \"hovertemplate\": \"Iteration=81<br>Length=%{x}<br>%Homochirality=%{y}\", \"legendgroup\": \"\", \"marker\": {\"color\": \"#636efa\", \"symbol\": \"circle\"}, \"mode\": \"markers\", \"name\": \"\", \"showlegend\": false, \"x\": [760], \"xaxis\": \"x\", \"y\": [0.6376811594202898], \"yaxis\": \"y\", \"type\": \"scatter\"}], \"name\": \"81\"}, {\"data\": [{\"hoverlabel\": {\"namelength\": 0}, \"hovertemplate\": \"Iteration=82<br>Length=%{x}<br>%Homochirality=%{y}\", \"legendgroup\": \"\", \"marker\": {\"color\": \"#636efa\", \"symbol\": \"circle\"}, \"mode\": \"markers\", \"name\": \"\", \"showlegend\": false, \"x\": [760], \"xaxis\": \"x\", \"y\": [0.6376811594202898], \"yaxis\": \"y\", \"type\": \"scatter\"}], \"name\": \"82\"}, {\"data\": [{\"hoverlabel\": {\"namelength\": 0}, \"hovertemplate\": \"Iteration=83<br>Length=%{x}<br>%Homochirality=%{y}\", \"legendgroup\": \"\", \"marker\": {\"color\": \"#636efa\", \"symbol\": \"circle\"}, \"mode\": \"markers\", \"name\": \"\", \"showlegend\": false, \"x\": [760], \"xaxis\": \"x\", \"y\": [0.6376811594202898], \"yaxis\": \"y\", \"type\": \"scatter\"}], \"name\": \"83\"}, {\"data\": [{\"hoverlabel\": {\"namelength\": 0}, \"hovertemplate\": \"Iteration=84<br>Length=%{x}<br>%Homochirality=%{y}\", \"legendgroup\": \"\", \"marker\": {\"color\": \"#636efa\", \"symbol\": \"circle\"}, \"mode\": \"markers\", \"name\": \"\", \"showlegend\": false, \"x\": [760], \"xaxis\": \"x\", \"y\": [0.6376811594202898], \"yaxis\": \"y\", \"type\": \"scatter\"}], \"name\": \"84\"}, {\"data\": [{\"hoverlabel\": {\"namelength\": 0}, \"hovertemplate\": \"Iteration=85<br>Length=%{x}<br>%Homochirality=%{y}\", \"legendgroup\": \"\", \"marker\": {\"color\": \"#636efa\", \"symbol\": \"circle\"}, \"mode\": \"markers\", \"name\": \"\", \"showlegend\": false, \"x\": [760], \"xaxis\": \"x\", \"y\": [0.6376811594202898], \"yaxis\": \"y\", \"type\": \"scatter\"}], \"name\": \"85\"}, {\"data\": [{\"hoverlabel\": {\"namelength\": 0}, \"hovertemplate\": \"Iteration=86<br>Length=%{x}<br>%Homochirality=%{y}\", \"legendgroup\": \"\", \"marker\": {\"color\": \"#636efa\", \"symbol\": \"circle\"}, \"mode\": \"markers\", \"name\": \"\", \"showlegend\": false, \"x\": [760], \"xaxis\": \"x\", \"y\": [0.6376811594202898], \"yaxis\": \"y\", \"type\": \"scatter\"}], \"name\": \"86\"}, {\"data\": [{\"hoverlabel\": {\"namelength\": 0}, \"hovertemplate\": \"Iteration=87<br>Length=%{x}<br>%Homochirality=%{y}\", \"legendgroup\": \"\", \"marker\": {\"color\": \"#636efa\", \"symbol\": \"circle\"}, \"mode\": \"markers\", \"name\": \"\", \"showlegend\": false, \"x\": [760], \"xaxis\": \"x\", \"y\": [0.6376811594202898], \"yaxis\": \"y\", \"type\": \"scatter\"}], \"name\": \"87\"}, {\"data\": [{\"hoverlabel\": {\"namelength\": 0}, \"hovertemplate\": \"Iteration=88<br>Length=%{x}<br>%Homochirality=%{y}\", \"legendgroup\": \"\", \"marker\": {\"color\": \"#636efa\", \"symbol\": \"circle\"}, \"mode\": \"markers\", \"name\": \"\", \"showlegend\": false, \"x\": [760], \"xaxis\": \"x\", \"y\": [0.6376811594202898], \"yaxis\": \"y\", \"type\": \"scatter\"}], \"name\": \"88\"}, {\"data\": [{\"hoverlabel\": {\"namelength\": 0}, \"hovertemplate\": \"Iteration=89<br>Length=%{x}<br>%Homochirality=%{y}\", \"legendgroup\": \"\", \"marker\": {\"color\": \"#636efa\", \"symbol\": \"circle\"}, \"mode\": \"markers\", \"name\": \"\", \"showlegend\": false, \"x\": [760], \"xaxis\": \"x\", \"y\": [0.6376811594202898], \"yaxis\": \"y\", \"type\": \"scatter\"}], \"name\": \"89\"}, {\"data\": [{\"hoverlabel\": {\"namelength\": 0}, \"hovertemplate\": \"Iteration=90<br>Length=%{x}<br>%Homochirality=%{y}\", \"legendgroup\": \"\", \"marker\": {\"color\": \"#636efa\", \"symbol\": \"circle\"}, \"mode\": \"markers\", \"name\": \"\", \"showlegend\": false, \"x\": [760], \"xaxis\": \"x\", \"y\": [0.6376811594202898], \"yaxis\": \"y\", \"type\": \"scatter\"}], \"name\": \"90\"}, {\"data\": [{\"hoverlabel\": {\"namelength\": 0}, \"hovertemplate\": \"Iteration=91<br>Length=%{x}<br>%Homochirality=%{y}\", \"legendgroup\": \"\", \"marker\": {\"color\": \"#636efa\", \"symbol\": \"circle\"}, \"mode\": \"markers\", \"name\": \"\", \"showlegend\": false, \"x\": [760], \"xaxis\": \"x\", \"y\": [0.6376811594202898], \"yaxis\": \"y\", \"type\": \"scatter\"}], \"name\": \"91\"}, {\"data\": [{\"hoverlabel\": {\"namelength\": 0}, \"hovertemplate\": \"Iteration=92<br>Length=%{x}<br>%Homochirality=%{y}\", \"legendgroup\": \"\", \"marker\": {\"color\": \"#636efa\", \"symbol\": \"circle\"}, \"mode\": \"markers\", \"name\": \"\", \"showlegend\": false, \"x\": [760], \"xaxis\": \"x\", \"y\": [0.6376811594202898], \"yaxis\": \"y\", \"type\": \"scatter\"}], \"name\": \"92\"}, {\"data\": [{\"hoverlabel\": {\"namelength\": 0}, \"hovertemplate\": \"Iteration=93<br>Length=%{x}<br>%Homochirality=%{y}\", \"legendgroup\": \"\", \"marker\": {\"color\": \"#636efa\", \"symbol\": \"circle\"}, \"mode\": \"markers\", \"name\": \"\", \"showlegend\": false, \"x\": [760], \"xaxis\": \"x\", \"y\": [0.6376811594202898], \"yaxis\": \"y\", \"type\": \"scatter\"}], \"name\": \"93\"}, {\"data\": [{\"hoverlabel\": {\"namelength\": 0}, \"hovertemplate\": \"Iteration=94<br>Length=%{x}<br>%Homochirality=%{y}\", \"legendgroup\": \"\", \"marker\": {\"color\": \"#636efa\", \"symbol\": \"circle\"}, \"mode\": \"markers\", \"name\": \"\", \"showlegend\": false, \"x\": [760], \"xaxis\": \"x\", \"y\": [0.6376811594202898], \"yaxis\": \"y\", \"type\": \"scatter\"}], \"name\": \"94\"}, {\"data\": [{\"hoverlabel\": {\"namelength\": 0}, \"hovertemplate\": \"Iteration=95<br>Length=%{x}<br>%Homochirality=%{y}\", \"legendgroup\": \"\", \"marker\": {\"color\": \"#636efa\", \"symbol\": \"circle\"}, \"mode\": \"markers\", \"name\": \"\", \"showlegend\": false, \"x\": [760], \"xaxis\": \"x\", \"y\": [0.6376811594202898], \"yaxis\": \"y\", \"type\": \"scatter\"}], \"name\": \"95\"}, {\"data\": [{\"hoverlabel\": {\"namelength\": 0}, \"hovertemplate\": \"Iteration=96<br>Length=%{x}<br>%Homochirality=%{y}\", \"legendgroup\": \"\", \"marker\": {\"color\": \"#636efa\", \"symbol\": \"circle\"}, \"mode\": \"markers\", \"name\": \"\", \"showlegend\": false, \"x\": [760], \"xaxis\": \"x\", \"y\": [0.6376811594202898], \"yaxis\": \"y\", \"type\": \"scatter\"}], \"name\": \"96\"}, {\"data\": [{\"hoverlabel\": {\"namelength\": 0}, \"hovertemplate\": \"Iteration=97<br>Length=%{x}<br>%Homochirality=%{y}\", \"legendgroup\": \"\", \"marker\": {\"color\": \"#636efa\", \"symbol\": \"circle\"}, \"mode\": \"markers\", \"name\": \"\", \"showlegend\": false, \"x\": [760], \"xaxis\": \"x\", \"y\": [0.6376811594202898], \"yaxis\": \"y\", \"type\": \"scatter\"}], \"name\": \"97\"}, {\"data\": [{\"hoverlabel\": {\"namelength\": 0}, \"hovertemplate\": \"Iteration=98<br>Length=%{x}<br>%Homochirality=%{y}\", \"legendgroup\": \"\", \"marker\": {\"color\": \"#636efa\", \"symbol\": \"circle\"}, \"mode\": \"markers\", \"name\": \"\", \"showlegend\": false, \"x\": [760], \"xaxis\": \"x\", \"y\": [0.6376811594202898], \"yaxis\": \"y\", \"type\": \"scatter\"}], \"name\": \"98\"}, {\"data\": [{\"hoverlabel\": {\"namelength\": 0}, \"hovertemplate\": \"Iteration=99<br>Length=%{x}<br>%Homochirality=%{y}\", \"legendgroup\": \"\", \"marker\": {\"color\": \"#636efa\", \"symbol\": \"circle\"}, \"mode\": \"markers\", \"name\": \"\", \"showlegend\": false, \"x\": [760], \"xaxis\": \"x\", \"y\": [0.6376811594202898], \"yaxis\": \"y\", \"type\": \"scatter\"}], \"name\": \"99\"}]);\n",
              "                        }).then(function(){\n",
              "                            \n",
              "var gd = document.getElementById('99624e74-76d9-49d6-9b4e-0973deb5832b');\n",
              "var x = new MutationObserver(function (mutations, observer) {{\n",
              "        var display = window.getComputedStyle(gd).display;\n",
              "        if (!display || display === 'none') {{\n",
              "            console.log([gd, 'removed!']);\n",
              "            Plotly.purge(gd);\n",
              "            observer.disconnect();\n",
              "        }}\n",
              "}});\n",
              "\n",
              "// Listen for the removal of the full notebook cells\n",
              "var notebookContainer = gd.closest('#notebook-container');\n",
              "if (notebookContainer) {{\n",
              "    x.observe(notebookContainer, {childList: true});\n",
              "}}\n",
              "\n",
              "// Listen for the clearing of the current output cell\n",
              "var outputEl = gd.closest('.output');\n",
              "if (outputEl) {{\n",
              "    x.observe(outputEl, {childList: true});\n",
              "}}\n",
              "\n",
              "                        })\n",
              "                };\n",
              "                \n",
              "            </script>\n",
              "        </div>\n",
              "</body>\n",
              "</html>"
            ]
          },
          "metadata": {
            "tags": [
              "id15_content_4",
              "outputarea_id15",
              "user_output"
            ]
          }
        },
        {
          "output_type": "display_data",
          "data": {
            "application/javascript": [
              "window[\"18f46726-d5d0-11ea-88cf-0242ac1c0002\"] = google.colab.output.setActiveOutputArea(window[\"16b1b89c-d5d0-11ea-88cf-0242ac1c0002\"]);\n",
              "//# sourceURL=js_e7d6cfe2e1"
            ],
            "text/plain": [
              "<IPython.core.display.Javascript object>"
            ]
          },
          "metadata": {
            "tags": [
              "id15_content_4",
              "outputarea_id15"
            ]
          }
        },
        {
          "output_type": "display_data",
          "data": {
            "application/javascript": [
              "window[\"18f55bae-d5d0-11ea-88cf-0242ac1c0002\"] = google.colab.output.getActiveOutputArea();\n",
              "//# sourceURL=js_505878eb43"
            ],
            "text/plain": [
              "<IPython.core.display.Javascript object>"
            ]
          },
          "metadata": {
            "tags": [
              "id15_content_2",
              "outputarea_id15"
            ]
          }
        },
        {
          "output_type": "display_data",
          "data": {
            "application/javascript": [
              "window[\"18f593c6-d5d0-11ea-88cf-0242ac1c0002\"] = document.querySelector(\"#id15_content_2\");\n",
              "//# sourceURL=js_74d64a72bf"
            ],
            "text/plain": [
              "<IPython.core.display.Javascript object>"
            ]
          },
          "metadata": {
            "tags": [
              "id15_content_2",
              "outputarea_id15"
            ]
          }
        },
        {
          "output_type": "display_data",
          "data": {
            "application/javascript": [
              "window[\"18f5cc06-d5d0-11ea-88cf-0242ac1c0002\"] = google.colab.output.setActiveOutputArea(window[\"18f593c6-d5d0-11ea-88cf-0242ac1c0002\"]);\n",
              "//# sourceURL=js_83f2f853e1"
            ],
            "text/plain": [
              "<IPython.core.display.Javascript object>"
            ]
          },
          "metadata": {
            "tags": [
              "id15_content_2",
              "outputarea_id15"
            ]
          }
        },
        {
          "output_type": "display_data",
          "data": {
            "text/html": [
              "<html>\n",
              "<head><meta charset=\"utf-8\" /></head>\n",
              "<body>\n",
              "    <div>\n",
              "            <script src=\"https://cdnjs.cloudflare.com/ajax/libs/mathjax/2.7.5/MathJax.js?config=TeX-AMS-MML_SVG\"></script><script type=\"text/javascript\">if (window.MathJax) {MathJax.Hub.Config({SVG: {font: \"STIX-Web\"}});}</script>\n",
              "                <script type=\"text/javascript\">window.PlotlyConfig = {MathJaxConfig: 'local'};</script>\n",
              "        <script src=\"https://cdn.plot.ly/plotly-latest.min.js\"></script>    \n",
              "            <div id=\"0cba20e0-3fac-4362-93b0-9c866dc2d1e0\" class=\"plotly-graph-div\" style=\"height:525px; width:100%;\"></div>\n",
              "            <script type=\"text/javascript\">\n",
              "                \n",
              "                    window.PLOTLYENV=window.PLOTLYENV || {};\n",
              "                    \n",
              "                if (document.getElementById(\"0cba20e0-3fac-4362-93b0-9c866dc2d1e0\")) {\n",
              "                    Plotly.newPlot(\n",
              "                        '0cba20e0-3fac-4362-93b0-9c866dc2d1e0',\n",
              "                        [{\"hoverlabel\": {\"namelength\": 0}, \"hovertemplate\": \"Length=%{x}<br>%Homochirality=%{y}<br>count=%{marker.size}\", \"legendgroup\": \"\", \"marker\": {\"color\": \"#636efa\", \"line\": {\"color\": \"DarkSlateGrey\"}, \"size\": [294, 260, 146, 94, 67, 70, 68, 56, 19, 56, 42, 29, 17, 4, 28, 24, 21, 18, 7, 3, 25, 18, 16, 13, 9, 2, 1, 18, 17, 16, 11, 7, 7, 1, 15, 14, 12, 11, 5, 2, 2, 1, 10, 9, 8, 8, 6, 3, 3, 1, 1, 9, 7, 6, 6, 6, 2, 2, 1, 1, 7, 6, 4, 4, 2, 2, 1, 1, 5, 5, 4, 4, 2, 1, 1, 1, 6, 4, 4, 4, 2, 2, 2, 2, 1, 6, 4, 4, 3, 2, 2, 1, 1, 1, 9, 4, 3, 3, 2, 2, 1, 1, 8, 2, 2, 2, 1, 1, 1, 1, 1, 5, 3, 2, 2, 2, 1, 1, 1, 5, 1, 1, 1, 1, 1, 1, 1, 4, 2, 2, 2, 1, 1, 2, 2, 1, 1, 1, 1, 4, 2, 2, 1, 1, 3, 3, 3, 1, 1, 4, 3, 1, 1, 1, 2, 1, 1, 3, 2, 2, 1, 1, 3, 2, 1, 1, 4, 3, 3, 2, 2, 1, 1, 1, 1, 5, 1, 1, 3, 1, 1, 2, 1, 1, 1, 1, 2, 1, 1, 1, 1, 1, 1, 1, 1, 1, 1, 1, 1, 1, 1, 1, 1, 2, 1, 1, 1, 1, 1, 2, 1, 2, 1, 1, 1, 1, 1, 1, 1, 1, 2, 1, 1, 1, 1, 1, 1, 1, 1, 1, 1, 1, 1, 1, 1, 1, 3, 1, 1, 1, 1, 1, 1, 1, 1, 1, 1, 1, 1, 1, 1, 1, 1, 1, 2, 1, 2, 1, 1, 1, 1, 1, 2, 1, 1, 1, 1, 1, 1, 1, 1, 1, 1, 1, 1, 1, 1, 1, 1, 1, 1, 1, 1, 1, 1, 1, 1, 1, 1, 1, 2, 1, 1, 1, 1, 1, 1, 1, 1, 1, 1, 1, 1, 1, 1, 1, 1, 1, 2, 1, 1, 1, 1, 2, 1, 1, 4, 1, 1, 2, 1, 55], \"sizemode\": \"area\", \"sizeref\": 0.735, \"symbol\": \"circle\"}, \"mode\": \"markers\", \"name\": \"\", \"showlegend\": false, \"type\": \"scatter\", \"x\": [2, 2, 3, 3, 3, 4, 4, 4, 4, 5, 5, 5, 5, 5, 6, 6, 6, 6, 6, 6, 7, 7, 7, 7, 7, 7, 7, 8, 8, 8, 8, 8, 8, 8, 9, 9, 9, 9, 9, 9, 9, 9, 10, 10, 10, 10, 10, 10, 10, 10, 10, 11, 11, 11, 11, 11, 11, 11, 11, 11, 12, 12, 12, 12, 12, 12, 12, 12, 13, 13, 13, 13, 13, 13, 13, 13, 14, 14, 14, 14, 14, 14, 14, 14, 14, 15, 15, 15, 15, 15, 15, 15, 15, 15, 16, 16, 16, 16, 16, 16, 16, 16, 17, 17, 17, 17, 17, 17, 17, 17, 17, 18, 18, 18, 18, 18, 18, 18, 18, 19, 19, 19, 19, 19, 19, 19, 19, 20, 20, 20, 20, 20, 20, 21, 21, 21, 21, 21, 21, 22, 22, 22, 22, 22, 23, 23, 23, 23, 23, 24, 24, 24, 24, 24, 25, 25, 25, 26, 26, 26, 26, 26, 27, 27, 27, 27, 28, 28, 28, 28, 29, 29, 29, 29, 29, 30, 30, 30, 31, 31, 31, 32, 32, 32, 32, 32, 33, 33, 33, 33, 34, 34, 35, 35, 35, 36, 36, 36, 37, 37, 37, 38, 38, 39, 39, 39, 40, 40, 40, 41, 41, 42, 42, 42, 42, 43, 43, 43, 43, 43, 44, 44, 46, 47, 47, 48, 49, 49, 50, 50, 51, 51, 52, 52, 52, 52, 53, 54, 54, 54, 55, 56, 60, 61, 62, 63, 63, 63, 63, 64, 64, 64, 64, 65, 66, 66, 67, 67, 67, 68, 69, 70, 71, 71, 72, 72, 73, 75, 77, 77, 77, 79, 80, 81, 82, 82, 83, 85, 95, 97, 99, 99, 100, 100, 105, 106, 107, 113, 114, 114, 115, 115, 118, 119, 120, 123, 128, 133, 140, 141, 147, 201, 204, 206, 231, 235, 248, 285, 298, 305, 306, 320, 326, 347, 557, 558, 633, 636, 660, 706, 759, 760], \"xaxis\": \"x\", \"y\": [1.0, 0.0, 0.5, 1.0, 0.0, 0.3333333333333333, 0.6666666666666666, 1.0, 0.0, 0.5, 0.75, 0.25, 1.0, 0.0, 0.6, 0.8, 0.4, 1.0, 0.2, 0.0, 0.5, 0.8333333333333334, 0.6666666666666666, 0.3333333333333333, 1.0, 0.16666666666666666, 0.0, 0.7142857142857143, 0.42857142857142855, 0.5714285714285714, 0.8571428571428571, 0.2857142857142857, 1.0, 0.14285714285714285, 0.5, 0.75, 0.375, 0.625, 0.875, 0.125, 0.25, 1.0, 0.7777777777777778, 0.5555555555555556, 0.4444444444444444, 0.6666666666666666, 0.8888888888888888, 0.2222222222222222, 0.3333333333333333, 0.1111111111111111, 1.0, 0.9, 0.6, 0.5, 0.7, 0.8, 0.3, 0.4, 0.1, 0.2, 0.6363636363636364, 0.5454545454545454, 0.3636363636363637, 0.8181818181818182, 0.7272727272727273, 0.9090909090909092, 0.2727272727272727, 0.4545454545454545, 0.5833333333333334, 0.75, 0.5, 0.6666666666666666, 0.4166666666666667, 0.25, 0.3333333333333333, 0.8333333333333334, 0.4615384615384616, 0.5384615384615384, 0.6153846153846154, 0.6923076923076923, 0.2307692307692308, 0.38461538461538464, 0.7692307692307693, 0.8461538461538461, 0.3076923076923077, 0.5, 0.5714285714285714, 0.7142857142857143, 0.8571428571428571, 0.35714285714285715, 0.7857142857142857, 0.2857142857142857, 0.42857142857142855, 0.6428571428571429, 0.6666666666666666, 0.5333333333333333, 0.7333333333333333, 0.8666666666666667, 0.4, 0.4666666666666667, 0.6, 0.8, 0.6875, 0.375, 0.5, 0.625, 0.3125, 0.4375, 0.5625, 0.75, 0.875, 0.4705882352941176, 0.7058823529411765, 0.35294117647058826, 0.5294117647058824, 0.7647058823529411, 0.4117647058823529, 0.5882352941176471, 0.6470588235294118, 0.5, 0.2222222222222222, 0.4444444444444444, 0.5555555555555556, 0.6111111111111112, 0.7222222222222222, 0.7777777777777778, 0.8888888888888888, 0.5263157894736842, 0.5789473684210527, 0.6842105263157895, 0.8421052631578947, 0.631578947368421, 0.7368421052631579, 0.5, 0.7, 0.55, 0.65, 0.75, 0.8, 0.5714285714285714, 0.7142857142857143, 0.7619047619047619, 0.5238095238095238, 0.8095238095238095, 0.5, 0.6363636363636364, 0.6818181818181818, 0.2727272727272727, 0.7272727272727273, 0.6956521739130435, 0.5652173913043478, 0.43478260869565216, 0.6086956521739131, 0.7826086956521741, 0.7083333333333334, 0.5833333333333334, 0.6666666666666666, 0.56, 0.6, 0.64, 0.32, 0.72, 0.5769230769230769, 0.5384615384615384, 0.3076923076923077, 0.7307692307692307, 0.7407407407407407, 0.5555555555555556, 0.5925925925925926, 0.5185185185185185, 0.6071428571428571, 0.5, 0.5714285714285714, 0.7142857142857143, 0.75, 0.5517241379310345, 0.6206896551724138, 0.6551724137931034, 0.7, 0.5333333333333333, 0.6, 0.6774193548387096, 0.5161290322580645, 0.5483870967741935, 0.6129032258064516, 0.8387096774193549, 0.5625, 0.5, 0.59375, 0.6875, 0.4848484848484849, 0.5757575757575758, 0.5588235294117647, 0.5882352941176471, 0.6176470588235294, 0.5428571428571428, 0.6, 0.6285714285714286, 0.4722222222222222, 0.6666666666666666, 0.6944444444444444, 0.4864864864864865, 0.5675675675675675, 0.5789473684210527, 0.5526315789473685, 0.6842105263157895, 0.5384615384615384, 0.5641025641025641, 0.7692307692307693, 0.575, 0.55, 0.5365853658536586, 0.4878048780487805, 0.6341463414634146, 0.6585365853658537, 0.5, 0.5238095238095238, 0.5476190476190477, 0.5714285714285714, 0.5952380952380952, 0.5581395348837209, 0.5348837209302325, 0.8222222222222222, 0.5869565217391305, 0.7826086956521741, 0.4893617021276596, 0.6041666666666666, 0.6875, 0.5306122448979592, 0.6530612244897959, 0.68, 0.84, 0.5294117647058824, 0.6078431372549019, 0.6470588235294118, 0.8235294117647058, 0.4615384615384616, 0.5660377358490566, 0.6037735849056604, 0.660377358490566, 0.5185185185185185, 0.7818181818181819, 0.7796610169491526, 0.5, 0.6065573770491803, 0.6612903225806451, 0.6774193548387096, 0.7741935483870968, 0.8225806451612904, 0.492063492063492, 0.6190476190476191, 0.7619047619047619, 0.8095238095238095, 0.625, 0.6153846153846154, 0.5692307692307692, 0.7727272727272727, 0.6060606060606061, 0.6666666666666666, 0.5223880597014925, 0.5147058823529411, 0.6666666666666666, 0.7285714285714285, 0.5285714285714286, 0.5352112676056338, 0.7605633802816901, 0.6805555555555556, 0.7702702702702703, 0.5263157894736842, 0.5394736842105263, 0.6052631578947368, 0.5897435897435898, 0.5316455696202531, 0.7125, 0.5555555555555556, 0.5802469135802469, 0.5975609756097561, 0.7738095238095238, 0.5744680851063829, 0.65625, 0.6224489795918368, 0.6326530612244898, 0.5959595959595959, 0.6666666666666666, 0.6057692307692307, 0.6380952380952379, 0.7735849056603774, 0.6160714285714286, 0.6106194690265486, 0.6194690265486725, 0.6052631578947368, 0.6228070175438597, 0.6837606837606838, 0.6101694915254238, 0.6050420168067226, 0.6557377049180327, 0.6614173228346457, 0.6212121212121212, 0.5971223021582733, 0.6, 0.6164383561643836, 0.605, 0.6059113300492611, 0.6, 0.6130434782608696, 0.6025641025641025, 0.6153846153846154, 0.6197183098591549, 0.6161616161616161, 0.6118421052631579, 0.6098360655737705, 0.6144200626959248, 0.6184615384615385, 0.615606936416185, 0.6151079136690647, 0.6140035906642729, 0.6313291139240507, 0.6330708661417322, 0.6388467374810318, 0.6510638297872341, 0.6385224274406333, 0.6376811594202898], \"yaxis\": \"y\"}],\n",
              "                        {\"legend\": {\"itemsizing\": \"constant\", \"tracegroupgap\": 0}, \"margin\": {\"t\": 60}, \"template\": {\"data\": {\"bar\": [{\"error_x\": {\"color\": \"#2a3f5f\"}, \"error_y\": {\"color\": \"#2a3f5f\"}, \"marker\": {\"line\": {\"color\": \"#E5ECF6\", \"width\": 0.5}}, \"type\": \"bar\"}], \"barpolar\": [{\"marker\": {\"line\": {\"color\": \"#E5ECF6\", \"width\": 0.5}}, \"type\": \"barpolar\"}], \"carpet\": [{\"aaxis\": {\"endlinecolor\": \"#2a3f5f\", \"gridcolor\": \"white\", \"linecolor\": \"white\", \"minorgridcolor\": \"white\", \"startlinecolor\": \"#2a3f5f\"}, \"baxis\": {\"endlinecolor\": \"#2a3f5f\", \"gridcolor\": \"white\", \"linecolor\": \"white\", \"minorgridcolor\": \"white\", \"startlinecolor\": \"#2a3f5f\"}, \"type\": \"carpet\"}], \"choropleth\": [{\"colorbar\": {\"outlinewidth\": 0, \"ticks\": \"\"}, \"type\": \"choropleth\"}], \"contour\": [{\"colorbar\": {\"outlinewidth\": 0, \"ticks\": \"\"}, \"colorscale\": [[0.0, \"#0d0887\"], [0.1111111111111111, \"#46039f\"], [0.2222222222222222, \"#7201a8\"], [0.3333333333333333, \"#9c179e\"], [0.4444444444444444, \"#bd3786\"], [0.5555555555555556, \"#d8576b\"], [0.6666666666666666, \"#ed7953\"], [0.7777777777777778, \"#fb9f3a\"], [0.8888888888888888, \"#fdca26\"], [1.0, \"#f0f921\"]], \"type\": \"contour\"}], \"contourcarpet\": [{\"colorbar\": {\"outlinewidth\": 0, \"ticks\": \"\"}, \"type\": \"contourcarpet\"}], \"heatmap\": [{\"colorbar\": {\"outlinewidth\": 0, \"ticks\": \"\"}, \"colorscale\": [[0.0, \"#0d0887\"], [0.1111111111111111, \"#46039f\"], [0.2222222222222222, \"#7201a8\"], [0.3333333333333333, \"#9c179e\"], [0.4444444444444444, \"#bd3786\"], [0.5555555555555556, \"#d8576b\"], [0.6666666666666666, \"#ed7953\"], [0.7777777777777778, \"#fb9f3a\"], [0.8888888888888888, \"#fdca26\"], [1.0, \"#f0f921\"]], \"type\": \"heatmap\"}], \"heatmapgl\": [{\"colorbar\": {\"outlinewidth\": 0, \"ticks\": \"\"}, \"colorscale\": [[0.0, \"#0d0887\"], [0.1111111111111111, \"#46039f\"], [0.2222222222222222, \"#7201a8\"], [0.3333333333333333, \"#9c179e\"], [0.4444444444444444, \"#bd3786\"], [0.5555555555555556, \"#d8576b\"], [0.6666666666666666, \"#ed7953\"], [0.7777777777777778, \"#fb9f3a\"], [0.8888888888888888, \"#fdca26\"], [1.0, \"#f0f921\"]], \"type\": \"heatmapgl\"}], \"histogram\": [{\"marker\": {\"colorbar\": {\"outlinewidth\": 0, \"ticks\": \"\"}}, \"type\": \"histogram\"}], \"histogram2d\": [{\"colorbar\": {\"outlinewidth\": 0, \"ticks\": \"\"}, \"colorscale\": [[0.0, \"#0d0887\"], [0.1111111111111111, \"#46039f\"], [0.2222222222222222, \"#7201a8\"], [0.3333333333333333, \"#9c179e\"], [0.4444444444444444, \"#bd3786\"], [0.5555555555555556, \"#d8576b\"], [0.6666666666666666, \"#ed7953\"], [0.7777777777777778, \"#fb9f3a\"], [0.8888888888888888, \"#fdca26\"], [1.0, \"#f0f921\"]], \"type\": \"histogram2d\"}], \"histogram2dcontour\": [{\"colorbar\": {\"outlinewidth\": 0, \"ticks\": \"\"}, \"colorscale\": [[0.0, \"#0d0887\"], [0.1111111111111111, \"#46039f\"], [0.2222222222222222, \"#7201a8\"], [0.3333333333333333, \"#9c179e\"], [0.4444444444444444, \"#bd3786\"], [0.5555555555555556, \"#d8576b\"], [0.6666666666666666, \"#ed7953\"], [0.7777777777777778, \"#fb9f3a\"], [0.8888888888888888, \"#fdca26\"], [1.0, \"#f0f921\"]], \"type\": \"histogram2dcontour\"}], \"mesh3d\": [{\"colorbar\": {\"outlinewidth\": 0, \"ticks\": \"\"}, \"type\": \"mesh3d\"}], \"parcoords\": [{\"line\": {\"colorbar\": {\"outlinewidth\": 0, \"ticks\": \"\"}}, \"type\": \"parcoords\"}], \"pie\": [{\"automargin\": true, \"type\": \"pie\"}], \"scatter\": [{\"marker\": {\"colorbar\": {\"outlinewidth\": 0, \"ticks\": \"\"}}, \"type\": \"scatter\"}], \"scatter3d\": [{\"line\": {\"colorbar\": {\"outlinewidth\": 0, \"ticks\": \"\"}}, \"marker\": {\"colorbar\": {\"outlinewidth\": 0, \"ticks\": \"\"}}, \"type\": \"scatter3d\"}], \"scattercarpet\": [{\"marker\": {\"colorbar\": {\"outlinewidth\": 0, \"ticks\": \"\"}}, \"type\": \"scattercarpet\"}], \"scattergeo\": [{\"marker\": {\"colorbar\": {\"outlinewidth\": 0, \"ticks\": \"\"}}, \"type\": \"scattergeo\"}], \"scattergl\": [{\"marker\": {\"colorbar\": {\"outlinewidth\": 0, \"ticks\": \"\"}}, \"type\": \"scattergl\"}], \"scattermapbox\": [{\"marker\": {\"colorbar\": {\"outlinewidth\": 0, \"ticks\": \"\"}}, \"type\": \"scattermapbox\"}], \"scatterpolar\": [{\"marker\": {\"colorbar\": {\"outlinewidth\": 0, \"ticks\": \"\"}}, \"type\": \"scatterpolar\"}], \"scatterpolargl\": [{\"marker\": {\"colorbar\": {\"outlinewidth\": 0, \"ticks\": \"\"}}, \"type\": \"scatterpolargl\"}], \"scatterternary\": [{\"marker\": {\"colorbar\": {\"outlinewidth\": 0, \"ticks\": \"\"}}, \"type\": \"scatterternary\"}], \"surface\": [{\"colorbar\": {\"outlinewidth\": 0, \"ticks\": \"\"}, \"colorscale\": [[0.0, \"#0d0887\"], [0.1111111111111111, \"#46039f\"], [0.2222222222222222, \"#7201a8\"], [0.3333333333333333, \"#9c179e\"], [0.4444444444444444, \"#bd3786\"], [0.5555555555555556, \"#d8576b\"], [0.6666666666666666, \"#ed7953\"], [0.7777777777777778, \"#fb9f3a\"], [0.8888888888888888, \"#fdca26\"], [1.0, \"#f0f921\"]], \"type\": \"surface\"}], \"table\": [{\"cells\": {\"fill\": {\"color\": \"#EBF0F8\"}, \"line\": {\"color\": \"white\"}}, \"header\": {\"fill\": {\"color\": \"#C8D4E3\"}, \"line\": {\"color\": \"white\"}}, \"type\": \"table\"}]}, \"layout\": {\"annotationdefaults\": {\"arrowcolor\": \"#2a3f5f\", \"arrowhead\": 0, \"arrowwidth\": 1}, \"coloraxis\": {\"colorbar\": {\"outlinewidth\": 0, \"ticks\": \"\"}}, \"colorscale\": {\"diverging\": [[0, \"#8e0152\"], [0.1, \"#c51b7d\"], [0.2, \"#de77ae\"], [0.3, \"#f1b6da\"], [0.4, \"#fde0ef\"], [0.5, \"#f7f7f7\"], [0.6, \"#e6f5d0\"], [0.7, \"#b8e186\"], [0.8, \"#7fbc41\"], [0.9, \"#4d9221\"], [1, \"#276419\"]], \"sequential\": [[0.0, \"#0d0887\"], [0.1111111111111111, \"#46039f\"], [0.2222222222222222, \"#7201a8\"], [0.3333333333333333, \"#9c179e\"], [0.4444444444444444, \"#bd3786\"], [0.5555555555555556, \"#d8576b\"], [0.6666666666666666, \"#ed7953\"], [0.7777777777777778, \"#fb9f3a\"], [0.8888888888888888, \"#fdca26\"], [1.0, \"#f0f921\"]], \"sequentialminus\": [[0.0, \"#0d0887\"], [0.1111111111111111, \"#46039f\"], [0.2222222222222222, \"#7201a8\"], [0.3333333333333333, \"#9c179e\"], [0.4444444444444444, \"#bd3786\"], [0.5555555555555556, \"#d8576b\"], [0.6666666666666666, \"#ed7953\"], [0.7777777777777778, \"#fb9f3a\"], [0.8888888888888888, \"#fdca26\"], [1.0, \"#f0f921\"]]}, \"colorway\": [\"#636efa\", \"#EF553B\", \"#00cc96\", \"#ab63fa\", \"#FFA15A\", \"#19d3f3\", \"#FF6692\", \"#B6E880\", \"#FF97FF\", \"#FECB52\"], \"font\": {\"color\": \"#2a3f5f\"}, \"geo\": {\"bgcolor\": \"white\", \"lakecolor\": \"white\", \"landcolor\": \"#E5ECF6\", \"showlakes\": true, \"showland\": true, \"subunitcolor\": \"white\"}, \"hoverlabel\": {\"align\": \"left\"}, \"hovermode\": \"closest\", \"mapbox\": {\"style\": \"light\"}, \"paper_bgcolor\": \"white\", \"plot_bgcolor\": \"#E5ECF6\", \"polar\": {\"angularaxis\": {\"gridcolor\": \"white\", \"linecolor\": \"white\", \"ticks\": \"\"}, \"bgcolor\": \"#E5ECF6\", \"radialaxis\": {\"gridcolor\": \"white\", \"linecolor\": \"white\", \"ticks\": \"\"}}, \"scene\": {\"xaxis\": {\"backgroundcolor\": \"#E5ECF6\", \"gridcolor\": \"white\", \"gridwidth\": 2, \"linecolor\": \"white\", \"showbackground\": true, \"ticks\": \"\", \"zerolinecolor\": \"white\"}, \"yaxis\": {\"backgroundcolor\": \"#E5ECF6\", \"gridcolor\": \"white\", \"gridwidth\": 2, \"linecolor\": \"white\", \"showbackground\": true, \"ticks\": \"\", \"zerolinecolor\": \"white\"}, \"zaxis\": {\"backgroundcolor\": \"#E5ECF6\", \"gridcolor\": \"white\", \"gridwidth\": 2, \"linecolor\": \"white\", \"showbackground\": true, \"ticks\": \"\", \"zerolinecolor\": \"white\"}}, \"shapedefaults\": {\"line\": {\"color\": \"#2a3f5f\"}}, \"ternary\": {\"aaxis\": {\"gridcolor\": \"white\", \"linecolor\": \"white\", \"ticks\": \"\"}, \"baxis\": {\"gridcolor\": \"white\", \"linecolor\": \"white\", \"ticks\": \"\"}, \"bgcolor\": \"#E5ECF6\", \"caxis\": {\"gridcolor\": \"white\", \"linecolor\": \"white\", \"ticks\": \"\"}}, \"title\": {\"x\": 0.05}, \"xaxis\": {\"automargin\": true, \"gridcolor\": \"white\", \"linecolor\": \"white\", \"ticks\": \"\", \"title\": {\"standoff\": 15}, \"zerolinecolor\": \"white\", \"zerolinewidth\": 2}, \"yaxis\": {\"automargin\": true, \"gridcolor\": \"white\", \"linecolor\": \"white\", \"ticks\": \"\", \"title\": {\"standoff\": 15}, \"zerolinecolor\": \"white\", \"zerolinewidth\": 2}}}, \"xaxis\": {\"anchor\": \"y\", \"domain\": [0.0, 1.0], \"title\": {\"text\": \"Length\"}}, \"yaxis\": {\"anchor\": \"x\", \"domain\": [0.0, 1.0], \"title\": {\"text\": \"%Homochirality\"}}},\n",
              "                        {\"responsive\": true}\n",
              "                    ).then(function(){\n",
              "                            \n",
              "var gd = document.getElementById('0cba20e0-3fac-4362-93b0-9c866dc2d1e0');\n",
              "var x = new MutationObserver(function (mutations, observer) {{\n",
              "        var display = window.getComputedStyle(gd).display;\n",
              "        if (!display || display === 'none') {{\n",
              "            console.log([gd, 'removed!']);\n",
              "            Plotly.purge(gd);\n",
              "            observer.disconnect();\n",
              "        }}\n",
              "}});\n",
              "\n",
              "// Listen for the removal of the full notebook cells\n",
              "var notebookContainer = gd.closest('#notebook-container');\n",
              "if (notebookContainer) {{\n",
              "    x.observe(notebookContainer, {childList: true});\n",
              "}}\n",
              "\n",
              "// Listen for the clearing of the current output cell\n",
              "var outputEl = gd.closest('.output');\n",
              "if (outputEl) {{\n",
              "    x.observe(outputEl, {childList: true});\n",
              "}}\n",
              "\n",
              "                        })\n",
              "                };\n",
              "                \n",
              "            </script>\n",
              "        </div>\n",
              "</body>\n",
              "</html>"
            ]
          },
          "metadata": {
            "tags": [
              "id15_content_2",
              "outputarea_id15",
              "user_output"
            ]
          }
        },
        {
          "output_type": "display_data",
          "data": {
            "application/javascript": [
              "window[\"1925ed50-d5d0-11ea-88cf-0242ac1c0002\"] = google.colab.output.setActiveOutputArea(window[\"18f55bae-d5d0-11ea-88cf-0242ac1c0002\"]);\n",
              "//# sourceURL=js_ce7dada82f"
            ],
            "text/plain": [
              "<IPython.core.display.Javascript object>"
            ]
          },
          "metadata": {
            "tags": [
              "id15_content_2",
              "outputarea_id15"
            ]
          }
        },
        {
          "output_type": "display_data",
          "data": {
            "application/javascript": [
              "window[\"1927b61c-d5d0-11ea-88cf-0242ac1c0002\"] = google.colab.output.getActiveOutputArea();\n",
              "//# sourceURL=js_ae6a0e160f"
            ],
            "text/plain": [
              "<IPython.core.display.Javascript object>"
            ]
          },
          "metadata": {
            "tags": [
              "id15_content_3",
              "outputarea_id15"
            ]
          }
        },
        {
          "output_type": "display_data",
          "data": {
            "application/javascript": [
              "window[\"1928028e-d5d0-11ea-88cf-0242ac1c0002\"] = document.querySelector(\"#id15_content_3\");\n",
              "//# sourceURL=js_d0b85ed54c"
            ],
            "text/plain": [
              "<IPython.core.display.Javascript object>"
            ]
          },
          "metadata": {
            "tags": [
              "id15_content_3",
              "outputarea_id15"
            ]
          }
        },
        {
          "output_type": "display_data",
          "data": {
            "application/javascript": [
              "window[\"19284da2-d5d0-11ea-88cf-0242ac1c0002\"] = google.colab.output.setActiveOutputArea(window[\"1928028e-d5d0-11ea-88cf-0242ac1c0002\"]);\n",
              "//# sourceURL=js_27c03b9f38"
            ],
            "text/plain": [
              "<IPython.core.display.Javascript object>"
            ]
          },
          "metadata": {
            "tags": [
              "id15_content_3",
              "outputarea_id15"
            ]
          }
        },
        {
          "output_type": "display_data",
          "data": {
            "text/html": [
              "<html>\n",
              "<head><meta charset=\"utf-8\" /></head>\n",
              "<body>\n",
              "    <div>\n",
              "            <script src=\"https://cdnjs.cloudflare.com/ajax/libs/mathjax/2.7.5/MathJax.js?config=TeX-AMS-MML_SVG\"></script><script type=\"text/javascript\">if (window.MathJax) {MathJax.Hub.Config({SVG: {font: \"STIX-Web\"}});}</script>\n",
              "                <script type=\"text/javascript\">window.PlotlyConfig = {MathJaxConfig: 'local'};</script>\n",
              "        <script src=\"https://cdn.plot.ly/plotly-latest.min.js\"></script>    \n",
              "            <div id=\"43fad456-0c6d-4302-b236-8e4ada837d9b\" class=\"plotly-graph-div\" style=\"height:525px; width:100%;\"></div>\n",
              "            <script type=\"text/javascript\">\n",
              "                \n",
              "                    window.PLOTLYENV=window.PLOTLYENV || {};\n",
              "                    \n",
              "                if (document.getElementById(\"43fad456-0c6d-4302-b236-8e4ada837d9b\")) {\n",
              "                    Plotly.newPlot(\n",
              "                        '43fad456-0c6d-4302-b236-8e4ada837d9b',\n",
              "                        [{\"hoverlabel\": {\"namelength\": 0}, \"hovertemplate\": \"Age=%{x}<br>%Homochirality=%{y}<br>count=%{marker.size}\", \"legendgroup\": \"\", \"marker\": {\"color\": \"#636efa\", \"line\": {\"color\": \"DarkSlateGrey\"}, \"size\": [151, 150, 67, 57, 53, 7, 5, 41, 32, 24, 18, 12, 5, 3, 3, 2, 1, 27, 25, 20, 8, 7, 5, 5, 2, 2, 2, 1, 1, 1, 1, 1, 1, 1, 22, 19, 8, 6, 6, 5, 5, 3, 2, 2, 2, 2, 2, 2, 1, 1, 1, 1, 1, 1, 1, 1, 1, 15, 14, 14, 10, 8, 5, 4, 4, 3, 3, 2, 2, 2, 2, 1, 1, 1, 1, 1, 1, 1, 23, 11, 9, 7, 5, 5, 4, 3, 3, 3, 2, 2, 1, 1, 1, 1, 1, 1, 1, 1, 1, 1, 1, 1, 1, 1, 1, 15, 15, 11, 8, 5, 4, 3, 2, 2, 2, 2, 2, 1, 1, 1, 1, 1, 1, 1, 1, 1, 1, 1, 1, 1, 1, 1, 1, 1, 1, 1, 1, 16, 15, 8, 7, 6, 6, 4, 3, 2, 2, 2, 1, 1, 1, 1, 1, 1, 1, 1, 1, 1, 1, 1, 1, 1, 18, 13, 6, 6, 5, 4, 4, 3, 2, 2, 2, 2, 1, 1, 1, 1, 1, 1, 1, 1, 1, 1, 1, 1, 1, 1, 1, 1, 1, 16, 11, 5, 4, 4, 3, 3, 3, 2, 2, 2, 2, 2, 1, 1, 1, 1, 1, 1, 1, 1, 1, 1, 1, 1, 1, 1, 1, 1, 1, 1, 1, 11, 9, 6, 4, 3, 3, 2, 2, 2, 2, 2, 2, 2, 2, 2, 1, 1, 1, 1, 1, 1, 1, 1, 1, 1, 1, 1, 1, 1, 1, 1, 1, 1, 13, 7, 5, 5, 3, 2, 2, 2, 2, 1, 1, 1, 1, 1, 1, 1, 1, 1, 1, 1, 1, 1, 1, 1, 1, 1, 1, 1, 1, 1, 1, 1, 1, 1, 7, 5, 4, 4, 3, 2, 2, 2, 2, 2, 2, 2, 1, 1, 1, 1, 1, 1, 1, 1, 1, 1, 1, 1, 1, 1, 1, 1, 1, 1, 1, 1, 1, 1, 1, 9, 5, 4, 4, 3, 2, 1, 1, 1, 1, 1, 1, 1, 1, 1, 1, 1, 1, 1, 1, 1, 1, 1, 1, 1, 1, 1, 1, 8, 4, 3, 2, 2, 1, 1, 1, 1, 1, 1, 1, 1, 1, 1, 1, 1, 1, 1, 1, 1, 1, 1, 1, 1, 1, 1, 6, 5, 2, 2, 2, 2, 1, 1, 1, 1, 1, 1, 1, 1, 1, 1, 1, 1, 1, 1, 1, 1, 1, 1, 1, 1, 6, 4, 3, 3, 3, 2, 1, 1, 1, 1, 1, 1, 1, 1, 1, 1, 1, 1, 1, 1, 1, 1, 1, 5, 3, 3, 2, 1, 1, 1, 1, 1, 1, 1, 1, 1, 1, 1, 1, 1, 1, 1, 1, 1, 1, 1, 1, 1, 1, 10, 9, 2, 2, 2, 2, 1, 1, 1, 1, 1, 1, 1, 1, 1, 5, 5, 3, 2, 1, 1, 1, 1, 1, 1, 1, 1, 1, 1, 1, 1, 1, 1, 1, 3, 2, 1, 1, 1, 1, 1, 1, 1, 1, 1, 1, 1, 1, 1, 1, 1, 1, 2, 1, 1, 1, 1, 1, 1, 1, 1, 1, 1, 1, 1, 1, 1, 1, 1, 1, 1, 4, 2, 1, 1, 1, 1, 1, 1, 1, 1, 1, 1, 1, 1, 3, 2, 2, 1, 1, 1, 1, 1, 1, 1, 1, 1, 1, 1, 4, 2, 1, 1, 1, 1, 1, 1, 1, 1, 1, 1, 1, 1, 1, 1, 2, 1, 1, 1, 1, 1, 1, 1, 1, 1, 1, 1, 2, 1, 1, 1, 1, 1, 1, 1, 1, 1, 1, 1, 1, 1, 1, 1, 1, 1, 1, 1, 1, 1, 1, 1, 1, 1, 1, 1, 1, 1, 1, 1, 1, 1, 1, 1, 1, 1, 1, 1, 1, 1, 1, 1, 1, 2, 1, 1, 1, 1, 1, 1, 1, 1, 1, 1, 1, 1, 1, 1, 1, 1, 1, 1, 1, 1, 1, 1, 1, 1, 2, 2, 1, 1, 1, 1, 1, 1, 1, 2, 1, 1, 1, 1, 1, 1, 1, 2, 1, 1, 1, 1, 1, 1, 1, 1, 1, 1, 1, 1, 1, 1, 1, 1, 1, 1, 1, 1, 1, 1, 1, 1, 1, 1, 1, 1, 1, 1, 1, 1, 1, 1, 1, 1, 1, 1, 1, 1, 1, 1, 1, 1, 1, 1, 1, 1, 1, 1, 1, 1, 1, 1, 1, 1, 1, 1, 1, 1, 1, 1, 1, 1, 1, 1, 1, 1, 1, 1, 1, 1, 1, 1, 1, 1, 1, 1, 1, 1, 1, 1, 1, 1, 1, 1, 1, 1, 1, 1, 1, 1], \"sizemode\": \"area\", \"sizeref\": 0.3775, \"symbol\": \"circle\"}, \"mode\": \"markers\", \"name\": \"\", \"showlegend\": false, \"type\": \"scatter\", \"x\": [0, 0, 1, 1, 1, 1, 1, 2, 2, 2, 2, 2, 2, 2, 2, 2, 2, 3, 3, 3, 3, 3, 3, 3, 3, 3, 3, 3, 3, 3, 3, 3, 3, 3, 4, 4, 4, 4, 4, 4, 4, 4, 4, 4, 4, 4, 4, 4, 4, 4, 4, 4, 4, 4, 4, 4, 4, 5, 5, 5, 5, 5, 5, 5, 5, 5, 5, 5, 5, 5, 5, 5, 5, 5, 5, 5, 5, 5, 6, 6, 6, 6, 6, 6, 6, 6, 6, 6, 6, 6, 6, 6, 6, 6, 6, 6, 6, 6, 6, 6, 6, 6, 6, 6, 6, 7, 7, 7, 7, 7, 7, 7, 7, 7, 7, 7, 7, 7, 7, 7, 7, 7, 7, 7, 7, 7, 7, 7, 7, 7, 7, 7, 7, 7, 7, 7, 7, 8, 8, 8, 8, 8, 8, 8, 8, 8, 8, 8, 8, 8, 8, 8, 8, 8, 8, 8, 8, 8, 8, 8, 8, 8, 9, 9, 9, 9, 9, 9, 9, 9, 9, 9, 9, 9, 9, 9, 9, 9, 9, 9, 9, 9, 9, 9, 9, 9, 9, 9, 9, 9, 9, 10, 10, 10, 10, 10, 10, 10, 10, 10, 10, 10, 10, 10, 10, 10, 10, 10, 10, 10, 10, 10, 10, 10, 10, 10, 10, 10, 10, 10, 10, 10, 10, 11, 11, 11, 11, 11, 11, 11, 11, 11, 11, 11, 11, 11, 11, 11, 11, 11, 11, 11, 11, 11, 11, 11, 11, 11, 11, 11, 11, 11, 11, 11, 11, 11, 12, 12, 12, 12, 12, 12, 12, 12, 12, 12, 12, 12, 12, 12, 12, 12, 12, 12, 12, 12, 12, 12, 12, 12, 12, 12, 12, 12, 12, 12, 12, 12, 12, 12, 13, 13, 13, 13, 13, 13, 13, 13, 13, 13, 13, 13, 13, 13, 13, 13, 13, 13, 13, 13, 13, 13, 13, 13, 13, 13, 13, 13, 13, 13, 13, 13, 13, 13, 13, 14, 14, 14, 14, 14, 14, 14, 14, 14, 14, 14, 14, 14, 14, 14, 14, 14, 14, 14, 14, 14, 14, 14, 14, 14, 14, 14, 14, 15, 15, 15, 15, 15, 15, 15, 15, 15, 15, 15, 15, 15, 15, 15, 15, 15, 15, 15, 15, 15, 15, 15, 15, 15, 15, 15, 16, 16, 16, 16, 16, 16, 16, 16, 16, 16, 16, 16, 16, 16, 16, 16, 16, 16, 16, 16, 16, 16, 16, 16, 16, 16, 17, 17, 17, 17, 17, 17, 17, 17, 17, 17, 17, 17, 17, 17, 17, 17, 17, 17, 17, 17, 17, 17, 17, 18, 18, 18, 18, 18, 18, 18, 18, 18, 18, 18, 18, 18, 18, 18, 18, 18, 18, 18, 18, 18, 18, 18, 18, 18, 18, 19, 19, 19, 19, 19, 19, 19, 19, 19, 19, 19, 19, 19, 19, 19, 20, 20, 20, 20, 20, 20, 20, 20, 20, 20, 20, 20, 20, 20, 20, 20, 20, 20, 20, 21, 21, 21, 21, 21, 21, 21, 21, 21, 21, 21, 21, 21, 21, 21, 21, 21, 21, 22, 22, 22, 22, 22, 22, 22, 22, 22, 22, 22, 22, 22, 22, 22, 22, 22, 22, 22, 23, 23, 23, 23, 23, 23, 23, 23, 23, 23, 23, 23, 23, 23, 24, 24, 24, 24, 24, 24, 24, 24, 24, 24, 24, 24, 24, 24, 25, 25, 25, 25, 25, 25, 25, 25, 25, 25, 25, 25, 25, 25, 25, 25, 26, 26, 26, 26, 26, 26, 26, 26, 26, 26, 26, 26, 27, 27, 27, 27, 27, 27, 27, 27, 27, 27, 27, 27, 28, 28, 28, 28, 28, 28, 28, 28, 28, 28, 29, 29, 29, 29, 29, 29, 29, 29, 29, 29, 29, 30, 30, 30, 30, 30, 30, 30, 30, 30, 30, 30, 30, 31, 31, 31, 31, 31, 31, 31, 31, 31, 31, 31, 31, 32, 32, 32, 32, 32, 32, 32, 32, 32, 32, 32, 32, 32, 33, 33, 33, 33, 33, 33, 33, 33, 33, 34, 34, 34, 34, 34, 34, 34, 34, 35, 35, 35, 35, 35, 35, 35, 35, 36, 36, 36, 36, 36, 36, 36, 37, 37, 37, 37, 37, 38, 38, 38, 38, 39, 39, 39, 40, 40, 40, 41, 41, 41, 42, 42, 43, 43, 44, 45, 46, 47, 48, 49, 50, 51, 52, 53, 54, 55, 56, 57, 58, 59, 60, 61, 62, 63, 64, 65, 66, 67, 68, 69, 70, 71, 72, 73, 74, 75, 76, 77, 78, 79, 80, 81, 82, 83, 84, 85, 86, 87, 88, 89, 90, 91, 92, 93, 94, 95, 96, 97, 98, 99], \"xaxis\": \"x\", \"y\": [0.0, 1.0, 1.0, 0.0, 0.5, 0.6666666666666666, 0.3333333333333333, 1.0, 0.0, 0.5, 0.3333333333333333, 0.6666666666666666, 0.75, 0.25, 0.4, 0.6, 0.8, 1.0, 0.5, 0.0, 0.6666666666666666, 0.3333333333333333, 0.6, 0.75, 0.25, 0.4, 0.8, 0.2222222222222222, 0.2857142857142857, 0.5555555555555556, 0.7142857142857143, 0.7777777777777778, 0.8333333333333334, 0.8888888888888888, 0.5, 1.0, 0.0, 0.3333333333333333, 0.6666666666666666, 0.25, 0.6, 0.8333333333333334, 0.375, 0.4, 0.42857142857142855, 0.5714285714285714, 0.75, 0.8571428571428571, 0.16666666666666666, 0.2, 0.2307692307692308, 0.2857142857142857, 0.5555555555555556, 0.7, 0.7142857142857143, 0.8, 0.8461538461538461, 1.0, 0.0, 0.5, 0.3333333333333333, 0.6666666666666666, 0.42857142857142855, 0.625, 0.75, 0.4, 0.8, 0.25, 0.375, 0.5555555555555556, 0.5714285714285714, 0.35294117647058826, 0.4615384615384616, 0.5833333333333334, 0.6, 0.8571428571428571, 0.8666666666666667, 0.875, 0.5, 1.0, 0.0, 0.3333333333333333, 0.25, 0.6666666666666666, 0.8, 0.6, 0.75, 0.875, 0.2, 0.42857142857142855, 0.2307692307692308, 0.2857142857142857, 0.3, 0.35714285714285715, 0.375, 0.4, 0.4444444444444444, 0.4615384615384616, 0.5454545454545454, 0.5555555555555556, 0.5714285714285714, 0.631578947368421, 0.7, 0.7142857142857143, 0.8333333333333334, 0.5, 1.0, 0.0, 0.6666666666666666, 0.3333333333333333, 0.75, 0.6, 0.4, 0.42857142857142855, 0.4444444444444444, 0.5833333333333334, 0.7142857142857143, 0.125, 0.16666666666666666, 0.2, 0.25, 0.2727272727272727, 0.2857142857142857, 0.375, 0.4117647058823529, 0.4166666666666667, 0.4705882352941176, 0.5238095238095238, 0.5384615384615384, 0.5555555555555556, 0.6363636363636364, 0.6842105263157895, 0.6923076923076923, 0.7777777777777778, 0.8333333333333334, 0.8888888888888888, 0.9090909090909092, 0.5, 1.0, 0.0, 0.6666666666666666, 0.3333333333333333, 0.75, 0.5454545454545454, 0.6363636363636364, 0.25, 0.6, 0.625, 0.2, 0.2222222222222222, 0.375, 0.4, 0.4375, 0.4705882352941176, 0.5333333333333333, 0.5652173913043478, 0.5714285714285714, 0.7058823529411765, 0.7142857142857143, 0.7333333333333333, 0.8333333333333334, 0.9, 1.0, 0.5, 0.0, 0.5714285714285714, 0.6666666666666666, 0.25, 0.75, 0.8, 0.3333333333333333, 0.42857142857142855, 0.5384615384615384, 0.6, 0.2, 0.2857142857142857, 0.375, 0.4, 0.4444444444444444, 0.5294117647058824, 0.5333333333333333, 0.5454545454545454, 0.55, 0.5625, 0.5833333333333334, 0.6875, 0.6923076923076923, 0.7142857142857143, 0.7272727272727273, 0.7777777777777778, 0.8333333333333334, 1.0, 0.5, 0.6, 0.0, 0.5714285714285714, 0.4, 0.6666666666666666, 0.75, 0.3333333333333333, 0.5263157894736842, 0.5555555555555556, 0.7777777777777778, 0.8, 0.125, 0.2, 0.2222222222222222, 0.25, 0.3636363636363637, 0.375, 0.43478260869565216, 0.4444444444444444, 0.5294117647058824, 0.5333333333333333, 0.59375, 0.6153846153846154, 0.625, 0.6875, 0.7142857142857143, 0.7368421052631579, 0.8181818181818182, 0.8571428571428571, 0.9, 1.0, 0.5, 0.0, 0.7142857142857143, 0.42857142857142855, 0.6666666666666666, 0.25, 0.3333333333333333, 0.3636363636363637, 0.5714285714285714, 0.6, 0.625, 0.7, 0.75, 0.8, 0.1111111111111111, 0.2, 0.2857142857142857, 0.4, 0.4166666666666667, 0.4545454545454545, 0.4615384615384616, 0.5238095238095238, 0.5555555555555556, 0.5625, 0.6153846153846154, 0.6923076923076923, 0.7857142857142857, 0.8333333333333334, 0.8571428571428571, 0.875, 0.8888888888888888, 0.9, 1.0, 0.6666666666666666, 0.0, 0.5, 0.7142857142857143, 0.3333333333333333, 0.42857142857142855, 0.625, 0.75, 0.1, 0.2222222222222222, 0.25, 0.3, 0.35714285714285715, 0.375, 0.38461538461538464, 0.4615384615384616, 0.5348837209302325, 0.5581395348837209, 0.5714285714285714, 0.575, 0.5769230769230769, 0.5833333333333334, 0.6, 0.6428571428571429, 0.65, 0.7407407407407407, 0.7619047619047619, 0.7777777777777778, 0.8, 0.8181818181818182, 0.8571428571428571, 0.8888888888888888, 0.9, 1.0, 0.6666666666666666, 0.75, 0.8, 0.0, 0.25, 0.3333333333333333, 0.5, 0.6, 0.6363636363636364, 0.7, 0.8333333333333334, 0.14285714285714285, 0.2727272727272727, 0.3076923076923077, 0.3636363636363637, 0.375, 0.4, 0.4444444444444444, 0.4666666666666667, 0.4705882352941176, 0.5185185185185185, 0.56, 0.5660377358490566, 0.5925925925925926, 0.6153846153846154, 0.625, 0.64, 0.6551724137931034, 0.6875, 0.6944444444444444, 0.7142857142857143, 0.875, 0.8888888888888888, 0.9, 0.5, 1.0, 0.0, 0.6666666666666666, 0.8, 0.625, 0.32, 0.375, 0.4444444444444444, 0.5185185185185185, 0.5517241379310345, 0.56, 0.575, 0.5789473684210527, 0.5833333333333334, 0.5882352941176471, 0.6, 0.6153846153846154, 0.6774193548387096, 0.6818181818181818, 0.7058823529411765, 0.7142857142857143, 0.7407407407407407, 0.75, 0.8333333333333334, 0.8421052631578947, 0.8571428571428571, 0.9, 1.0, 0.6666666666666666, 0.6, 0.0, 0.8, 0.3076923076923077, 0.3333333333333333, 0.35294117647058826, 0.375, 0.4666666666666667, 0.4878048780487805, 0.5333333333333333, 0.5476190476190477, 0.5517241379310345, 0.5581395348837209, 0.5714285714285714, 0.5789473684210527, 0.5869565217391305, 0.6111111111111112, 0.6153846153846154, 0.6285714285714286, 0.6363636363636364, 0.6875, 0.7142857142857143, 0.75, 0.8571428571428571, 0.8666666666666667, 1.0, 0.5, 0.3333333333333333, 0.7142857142857143, 0.75, 0.8333333333333334, 0.0, 0.38461538461538464, 0.4, 0.4615384615384616, 0.4705882352941176, 0.4893617021276596, 0.5294117647058824, 0.5625, 0.5692307692307692, 0.5789473684210527, 0.6060606060606061, 0.6190476190476191, 0.6470588235294118, 0.6666666666666666, 0.6842105263157895, 0.6875, 0.7, 0.7777777777777778, 0.8421052631578947, 0.9, 1.0, 0.5, 0.3333333333333333, 0.6666666666666666, 0.75, 0.0, 0.375, 0.4, 0.4615384615384616, 0.5185185185185185, 0.5769230769230769, 0.5802469135802469, 0.5959595959595959, 0.6052631578947368, 0.6176470588235294, 0.6530612244897959, 0.68, 0.6875, 0.7777777777777778, 0.8, 0.8333333333333334, 0.8461538461538461, 0.8888888888888888, 1.0, 0.0, 0.75, 0.5714285714285714, 0.2857142857142857, 0.3333333333333333, 0.4, 0.4848484848484849, 0.5, 0.5306122448979592, 0.5384615384615384, 0.55, 0.5555555555555556, 0.56, 0.5882352941176471, 0.6057692307692307, 0.6086956521739131, 0.6212121212121212, 0.6341463414634146, 0.660377358490566, 0.6666666666666666, 0.6923076923076923, 0.7142857142857143, 0.7333333333333333, 0.7777777777777778, 0.9090909090909092, 1.0, 0.5, 0.0, 0.6, 0.6666666666666666, 0.75, 0.3333333333333333, 0.5263157894736842, 0.5555555555555556, 0.5925925925925926, 0.6052631578947368, 0.6153846153846154, 0.6956521739130435, 0.7142857142857143, 0.8571428571428571, 0.6666666666666666, 1.0, 0.5, 0.6, 0.0, 0.4444444444444444, 0.5483870967741935, 0.5555555555555556, 0.5714285714285714, 0.5897435897435898, 0.6071428571428571, 0.6106194690265486, 0.6164383561643836, 0.64, 0.6875, 0.7142857142857143, 0.75, 0.7777777777777778, 0.8333333333333334, 1.0, 0.5, 0.492063492063492, 0.5675675675675675, 0.5714285714285714, 0.5925925925925926, 0.5971223021582733, 0.5975609756097561, 0.6101694915254238, 0.6129032258064516, 0.6585365853658537, 0.6666666666666666, 0.6805555555555556, 0.6818181818181818, 0.75, 0.8, 0.8333333333333334, 0.8571428571428571, 0.5384615384615384, 0.5, 0.5394736842105263, 0.5526315789473685, 0.6050420168067226, 0.6052631578947368, 0.6071428571428571, 0.6160714285714286, 0.6774193548387096, 0.6875, 0.7, 0.7058823529411765, 0.7142857142857143, 0.7222222222222222, 0.75, 0.7777777777777778, 0.8571428571428571, 0.8666666666666667, 1.0, 1.0, 0.5555555555555556, 0.5384615384615384, 0.5652173913043478, 0.6025641025641025, 0.6194690265486725, 0.6363636363636364, 0.6612903225806451, 0.6842105263157895, 0.6956521739130435, 0.7, 0.7142857142857143, 0.72, 0.9, 1.0, 0.6363636363636364, 0.7692307692307693, 0.25, 0.4, 0.5223880597014925, 0.5757575757575758, 0.6078431372549019, 0.6161616161616161, 0.6228070175438597, 0.7307692307692307, 0.7407407407407407, 0.7857142857142857, 0.8, 1.0, 0.75, 0.4705882352941176, 0.5, 0.5147058823529411, 0.5641025641025641, 0.5652173913043478, 0.5714285714285714, 0.6041666666666666, 0.6161616161616161, 0.65625, 0.6956521739130435, 0.7407407407407407, 0.7619047619047619, 0.8387096774193549, 0.9, 0.7272727272727273, 0.5, 0.5285714285714286, 0.5769230769230769, 0.5789473684210527, 0.615606936416185, 0.6666666666666666, 0.7, 0.7647058823529411, 0.7818181818181819, 0.8333333333333334, 1.0, 0.8571428571428571, 0.4444444444444444, 0.5352112676056338, 0.5714285714285714, 0.5952380952380952, 0.6037735849056604, 0.6153846153846154, 0.6224489795918368, 0.6666666666666666, 0.6837606837606838, 0.6875, 0.7741935483870968, 0.5263157894736842, 0.5316455696202531, 0.5428571428571428, 0.615606936416185, 0.6614173228346457, 0.6818181818181818, 0.7083333333333334, 0.7647058823529411, 0.7727272727272727, 0.8571428571428571, 0.5263157894736842, 0.5588235294117647, 0.5744680851063829, 0.6065573770491803, 0.6197183098591549, 0.6380952380952379, 0.6470588235294118, 0.6956521739130435, 0.75, 0.7738095238095238, 0.8095238095238095, 0.0, 0.25, 0.5, 0.5517241379310345, 0.605, 0.6118421052631579, 0.6206896551724138, 0.6666666666666666, 0.6774193548387096, 0.7333333333333333, 0.7735849056603774, 1.0, 0.5, 0.0, 0.3333333333333333, 0.5517241379310345, 0.6059113300492611, 0.6098360655737705, 0.6875, 0.7, 0.7692307692307693, 0.7796610169491526, 0.7826086956521741, 0.8333333333333334, 0.2857142857142857, 0.3333333333333333, 0.5, 0.5517241379310345, 0.6, 0.6144200626959248, 0.7083333333333334, 0.7285714285714285, 0.75, 0.7619047619047619, 0.8, 0.8888888888888888, 1.0, 0.3333333333333333, 1.0, 0.4864864864864865, 0.6130434782608696, 0.6184615384615385, 0.6666666666666666, 0.7285714285714285, 0.75, 0.7727272727272727, 1.0, 0.3333333333333333, 0.4722222222222222, 0.5, 0.6151079136690647, 0.7605633802816901, 0.8181818181818182, 0.8235294117647058, 0.0, 0.5, 0.5333333333333333, 0.6140035906642729, 0.7702702702702703, 0.8181818181818182, 0.84, 1.0, 0.0, 0.4, 0.5161290322580645, 0.6313291139240507, 0.6666666666666666, 0.8225806451612904, 1.0, 0.3125, 0.5365853658536586, 0.6313291139240507, 0.8095238095238095, 1.0, 0.5365853658536586, 0.6313291139240507, 0.7125, 1.0, 0.6313291139240507, 0.6557377049180327, 1.0, 0.6326530612244898, 0.6330708661417322, 0.7826086956521741, 0.4615384615384616, 0.6388467374810318, 0.8222222222222222, 0.4615384615384616, 0.6510638297872341, 0.4615384615384616, 0.6510638297872341, 0.6385224274406333, 0.6376811594202898, 0.6376811594202898, 0.6376811594202898, 0.6376811594202898, 0.6376811594202898, 0.6376811594202898, 0.6376811594202898, 0.6376811594202898, 0.6376811594202898, 0.6376811594202898, 0.6376811594202898, 0.6376811594202898, 0.6376811594202898, 0.6376811594202898, 0.6376811594202898, 0.6376811594202898, 0.6376811594202898, 0.6376811594202898, 0.6376811594202898, 0.6376811594202898, 0.6376811594202898, 0.6376811594202898, 0.6376811594202898, 0.6376811594202898, 0.6376811594202898, 0.6376811594202898, 0.6376811594202898, 0.6376811594202898, 0.6376811594202898, 0.6376811594202898, 0.6376811594202898, 0.6376811594202898, 0.6376811594202898, 0.6376811594202898, 0.6376811594202898, 0.6376811594202898, 0.6376811594202898, 0.6376811594202898, 0.6376811594202898, 0.6376811594202898, 0.6376811594202898, 0.6376811594202898, 0.6376811594202898, 0.6376811594202898, 0.6376811594202898, 0.6376811594202898, 0.6376811594202898, 0.6376811594202898, 0.6376811594202898, 0.6376811594202898, 0.6376811594202898, 0.6376811594202898, 0.6376811594202898, 0.6376811594202898, 0.6376811594202898], \"yaxis\": \"y\"}, {\"mode\": \"markers\", \"type\": \"scatter\", \"y\": [1.0, 0.6666666666666666, 0.3333333333333333, 0.6666666666666666, 0.3333333333333333, 0.3333333333333333, 0.6666666666666666, 0.3333333333333333, 0.6666666666666666, 0.3333333333333333, 0.3333333333333333, 0.6666666666666666, 0.6666666666666666, 0.6666666666666666, 0.4444444444444444, 0.3333333333333333, 0.6666666666666666, 0.3333333333333333, 0.6666666666666666, 0.6666666666666666, 0.6666666666666666, 0.6666666666666666, 0.7222222222222222, 0.5555555555555556, 0.5223880597014925, 0.6041666666666666, 0.6666666666666666, 0.4444444444444444, 0.7083333333333334, 0.6470588235294118, 0.6666666666666666, 0.3333333333333333, 0.8888888888888888, 0.3333333333333333, 0.4722222222222222, 0.6140035906642729, 0.6666666666666666, 0.5365853658536586, 0.5365853658536586, 0.6557377049180327, 0.6330708661417322, 0.4615384615384616, 0.4615384615384616, 0.4615384615384616, 0.6385224274406333, 0.6376811594202898, 0.6376811594202898, 0.6376811594202898, 0.6376811594202898, 0.6376811594202898, 0.6376811594202898, 0.6376811594202898, 0.6376811594202898, 0.6376811594202898, 0.6376811594202898, 0.6376811594202898, 0.6376811594202898, 0.6376811594202898, 0.6376811594202898, 0.6376811594202898, 0.6376811594202898, 0.6376811594202898, 0.6376811594202898, 0.6376811594202898, 0.6376811594202898, 0.6376811594202898, 0.6376811594202898, 0.6376811594202898, 0.6376811594202898, 0.6376811594202898, 0.6376811594202898, 0.6376811594202898, 0.6376811594202898, 0.6376811594202898, 0.6376811594202898, 0.6376811594202898, 0.6376811594202898, 0.6376811594202898, 0.6376811594202898, 0.6376811594202898, 0.6376811594202898, 0.6376811594202898, 0.6376811594202898, 0.6376811594202898, 0.6376811594202898, 0.6376811594202898, 0.6376811594202898, 0.6376811594202898, 0.6376811594202898, 0.6376811594202898, 0.6376811594202898, 0.6376811594202898, 0.6376811594202898, 0.6376811594202898, 0.6376811594202898, 0.6376811594202898, 0.6376811594202898, 0.6376811594202898, 0.6376811594202898, 0.6376811594202898]}],\n",
              "                        {\"legend\": {\"itemsizing\": \"constant\", \"tracegroupgap\": 0}, \"margin\": {\"t\": 60}, \"template\": {\"data\": {\"bar\": [{\"error_x\": {\"color\": \"#2a3f5f\"}, \"error_y\": {\"color\": \"#2a3f5f\"}, \"marker\": {\"line\": {\"color\": \"#E5ECF6\", \"width\": 0.5}}, \"type\": \"bar\"}], \"barpolar\": [{\"marker\": {\"line\": {\"color\": \"#E5ECF6\", \"width\": 0.5}}, \"type\": \"barpolar\"}], \"carpet\": [{\"aaxis\": {\"endlinecolor\": \"#2a3f5f\", \"gridcolor\": \"white\", \"linecolor\": \"white\", \"minorgridcolor\": \"white\", \"startlinecolor\": \"#2a3f5f\"}, \"baxis\": {\"endlinecolor\": \"#2a3f5f\", \"gridcolor\": \"white\", \"linecolor\": \"white\", \"minorgridcolor\": \"white\", \"startlinecolor\": \"#2a3f5f\"}, \"type\": \"carpet\"}], \"choropleth\": [{\"colorbar\": {\"outlinewidth\": 0, \"ticks\": \"\"}, \"type\": \"choropleth\"}], \"contour\": [{\"colorbar\": {\"outlinewidth\": 0, \"ticks\": \"\"}, \"colorscale\": [[0.0, \"#0d0887\"], [0.1111111111111111, \"#46039f\"], [0.2222222222222222, \"#7201a8\"], [0.3333333333333333, \"#9c179e\"], [0.4444444444444444, \"#bd3786\"], [0.5555555555555556, \"#d8576b\"], [0.6666666666666666, \"#ed7953\"], [0.7777777777777778, \"#fb9f3a\"], [0.8888888888888888, \"#fdca26\"], [1.0, \"#f0f921\"]], \"type\": \"contour\"}], \"contourcarpet\": [{\"colorbar\": {\"outlinewidth\": 0, \"ticks\": \"\"}, \"type\": \"contourcarpet\"}], \"heatmap\": [{\"colorbar\": {\"outlinewidth\": 0, \"ticks\": \"\"}, \"colorscale\": [[0.0, \"#0d0887\"], [0.1111111111111111, \"#46039f\"], [0.2222222222222222, \"#7201a8\"], [0.3333333333333333, \"#9c179e\"], [0.4444444444444444, \"#bd3786\"], [0.5555555555555556, \"#d8576b\"], [0.6666666666666666, \"#ed7953\"], [0.7777777777777778, \"#fb9f3a\"], [0.8888888888888888, \"#fdca26\"], [1.0, \"#f0f921\"]], \"type\": \"heatmap\"}], \"heatmapgl\": [{\"colorbar\": {\"outlinewidth\": 0, \"ticks\": \"\"}, \"colorscale\": [[0.0, \"#0d0887\"], [0.1111111111111111, \"#46039f\"], [0.2222222222222222, \"#7201a8\"], [0.3333333333333333, \"#9c179e\"], [0.4444444444444444, \"#bd3786\"], [0.5555555555555556, \"#d8576b\"], [0.6666666666666666, \"#ed7953\"], [0.7777777777777778, \"#fb9f3a\"], [0.8888888888888888, \"#fdca26\"], [1.0, \"#f0f921\"]], \"type\": \"heatmapgl\"}], \"histogram\": [{\"marker\": {\"colorbar\": {\"outlinewidth\": 0, \"ticks\": \"\"}}, \"type\": \"histogram\"}], \"histogram2d\": [{\"colorbar\": {\"outlinewidth\": 0, \"ticks\": \"\"}, \"colorscale\": [[0.0, \"#0d0887\"], [0.1111111111111111, \"#46039f\"], [0.2222222222222222, \"#7201a8\"], [0.3333333333333333, \"#9c179e\"], [0.4444444444444444, \"#bd3786\"], [0.5555555555555556, \"#d8576b\"], [0.6666666666666666, \"#ed7953\"], [0.7777777777777778, \"#fb9f3a\"], [0.8888888888888888, \"#fdca26\"], [1.0, \"#f0f921\"]], \"type\": \"histogram2d\"}], \"histogram2dcontour\": [{\"colorbar\": {\"outlinewidth\": 0, \"ticks\": \"\"}, \"colorscale\": [[0.0, \"#0d0887\"], [0.1111111111111111, \"#46039f\"], [0.2222222222222222, \"#7201a8\"], [0.3333333333333333, \"#9c179e\"], [0.4444444444444444, \"#bd3786\"], [0.5555555555555556, \"#d8576b\"], [0.6666666666666666, \"#ed7953\"], [0.7777777777777778, \"#fb9f3a\"], [0.8888888888888888, \"#fdca26\"], [1.0, \"#f0f921\"]], \"type\": \"histogram2dcontour\"}], \"mesh3d\": [{\"colorbar\": {\"outlinewidth\": 0, \"ticks\": \"\"}, \"type\": \"mesh3d\"}], \"parcoords\": [{\"line\": {\"colorbar\": {\"outlinewidth\": 0, \"ticks\": \"\"}}, \"type\": \"parcoords\"}], \"pie\": [{\"automargin\": true, \"type\": \"pie\"}], \"scatter\": [{\"marker\": {\"colorbar\": {\"outlinewidth\": 0, \"ticks\": \"\"}}, \"type\": \"scatter\"}], \"scatter3d\": [{\"line\": {\"colorbar\": {\"outlinewidth\": 0, \"ticks\": \"\"}}, \"marker\": {\"colorbar\": {\"outlinewidth\": 0, \"ticks\": \"\"}}, \"type\": \"scatter3d\"}], \"scattercarpet\": [{\"marker\": {\"colorbar\": {\"outlinewidth\": 0, \"ticks\": \"\"}}, \"type\": \"scattercarpet\"}], \"scattergeo\": [{\"marker\": {\"colorbar\": {\"outlinewidth\": 0, \"ticks\": \"\"}}, \"type\": \"scattergeo\"}], \"scattergl\": [{\"marker\": {\"colorbar\": {\"outlinewidth\": 0, \"ticks\": \"\"}}, \"type\": \"scattergl\"}], \"scattermapbox\": [{\"marker\": {\"colorbar\": {\"outlinewidth\": 0, \"ticks\": \"\"}}, \"type\": \"scattermapbox\"}], \"scatterpolar\": [{\"marker\": {\"colorbar\": {\"outlinewidth\": 0, \"ticks\": \"\"}}, \"type\": \"scatterpolar\"}], \"scatterpolargl\": [{\"marker\": {\"colorbar\": {\"outlinewidth\": 0, \"ticks\": \"\"}}, \"type\": \"scatterpolargl\"}], \"scatterternary\": [{\"marker\": {\"colorbar\": {\"outlinewidth\": 0, \"ticks\": \"\"}}, \"type\": \"scatterternary\"}], \"surface\": [{\"colorbar\": {\"outlinewidth\": 0, \"ticks\": \"\"}, \"colorscale\": [[0.0, \"#0d0887\"], [0.1111111111111111, \"#46039f\"], [0.2222222222222222, \"#7201a8\"], [0.3333333333333333, \"#9c179e\"], [0.4444444444444444, \"#bd3786\"], [0.5555555555555556, \"#d8576b\"], [0.6666666666666666, \"#ed7953\"], [0.7777777777777778, \"#fb9f3a\"], [0.8888888888888888, \"#fdca26\"], [1.0, \"#f0f921\"]], \"type\": \"surface\"}], \"table\": [{\"cells\": {\"fill\": {\"color\": \"#EBF0F8\"}, \"line\": {\"color\": \"white\"}}, \"header\": {\"fill\": {\"color\": \"#C8D4E3\"}, \"line\": {\"color\": \"white\"}}, \"type\": \"table\"}]}, \"layout\": {\"annotationdefaults\": {\"arrowcolor\": \"#2a3f5f\", \"arrowhead\": 0, \"arrowwidth\": 1}, \"coloraxis\": {\"colorbar\": {\"outlinewidth\": 0, \"ticks\": \"\"}}, \"colorscale\": {\"diverging\": [[0, \"#8e0152\"], [0.1, \"#c51b7d\"], [0.2, \"#de77ae\"], [0.3, \"#f1b6da\"], [0.4, \"#fde0ef\"], [0.5, \"#f7f7f7\"], [0.6, \"#e6f5d0\"], [0.7, \"#b8e186\"], [0.8, \"#7fbc41\"], [0.9, \"#4d9221\"], [1, \"#276419\"]], \"sequential\": [[0.0, \"#0d0887\"], [0.1111111111111111, \"#46039f\"], [0.2222222222222222, \"#7201a8\"], [0.3333333333333333, \"#9c179e\"], [0.4444444444444444, \"#bd3786\"], [0.5555555555555556, \"#d8576b\"], [0.6666666666666666, \"#ed7953\"], [0.7777777777777778, \"#fb9f3a\"], [0.8888888888888888, \"#fdca26\"], [1.0, \"#f0f921\"]], \"sequentialminus\": [[0.0, \"#0d0887\"], [0.1111111111111111, \"#46039f\"], [0.2222222222222222, \"#7201a8\"], [0.3333333333333333, \"#9c179e\"], [0.4444444444444444, \"#bd3786\"], [0.5555555555555556, \"#d8576b\"], [0.6666666666666666, \"#ed7953\"], [0.7777777777777778, \"#fb9f3a\"], [0.8888888888888888, \"#fdca26\"], [1.0, \"#f0f921\"]]}, \"colorway\": [\"#636efa\", \"#EF553B\", \"#00cc96\", \"#ab63fa\", \"#FFA15A\", \"#19d3f3\", \"#FF6692\", \"#B6E880\", \"#FF97FF\", \"#FECB52\"], \"font\": {\"color\": \"#2a3f5f\"}, \"geo\": {\"bgcolor\": \"white\", \"lakecolor\": \"white\", \"landcolor\": \"#E5ECF6\", \"showlakes\": true, \"showland\": true, \"subunitcolor\": \"white\"}, \"hoverlabel\": {\"align\": \"left\"}, \"hovermode\": \"closest\", \"mapbox\": {\"style\": \"light\"}, \"paper_bgcolor\": \"white\", \"plot_bgcolor\": \"#E5ECF6\", \"polar\": {\"angularaxis\": {\"gridcolor\": \"white\", \"linecolor\": \"white\", \"ticks\": \"\"}, \"bgcolor\": \"#E5ECF6\", \"radialaxis\": {\"gridcolor\": \"white\", \"linecolor\": \"white\", \"ticks\": \"\"}}, \"scene\": {\"xaxis\": {\"backgroundcolor\": \"#E5ECF6\", \"gridcolor\": \"white\", \"gridwidth\": 2, \"linecolor\": \"white\", \"showbackground\": true, \"ticks\": \"\", \"zerolinecolor\": \"white\"}, \"yaxis\": {\"backgroundcolor\": \"#E5ECF6\", \"gridcolor\": \"white\", \"gridwidth\": 2, \"linecolor\": \"white\", \"showbackground\": true, \"ticks\": \"\", \"zerolinecolor\": \"white\"}, \"zaxis\": {\"backgroundcolor\": \"#E5ECF6\", \"gridcolor\": \"white\", \"gridwidth\": 2, \"linecolor\": \"white\", \"showbackground\": true, \"ticks\": \"\", \"zerolinecolor\": \"white\"}}, \"shapedefaults\": {\"line\": {\"color\": \"#2a3f5f\"}}, \"ternary\": {\"aaxis\": {\"gridcolor\": \"white\", \"linecolor\": \"white\", \"ticks\": \"\"}, \"baxis\": {\"gridcolor\": \"white\", \"linecolor\": \"white\", \"ticks\": \"\"}, \"bgcolor\": \"#E5ECF6\", \"caxis\": {\"gridcolor\": \"white\", \"linecolor\": \"white\", \"ticks\": \"\"}}, \"title\": {\"x\": 0.05}, \"xaxis\": {\"automargin\": true, \"gridcolor\": \"white\", \"linecolor\": \"white\", \"ticks\": \"\", \"title\": {\"standoff\": 15}, \"zerolinecolor\": \"white\", \"zerolinewidth\": 2}, \"yaxis\": {\"automargin\": true, \"gridcolor\": \"white\", \"linecolor\": \"white\", \"ticks\": \"\", \"title\": {\"standoff\": 15}, \"zerolinecolor\": \"white\", \"zerolinewidth\": 2}}}, \"xaxis\": {\"anchor\": \"y\", \"domain\": [0.0, 1.0], \"title\": {\"text\": \"Age\"}}, \"yaxis\": {\"anchor\": \"x\", \"domain\": [0.0, 1.0], \"title\": {\"text\": \"%Homochirality\"}}},\n",
              "                        {\"responsive\": true}\n",
              "                    ).then(function(){\n",
              "                            \n",
              "var gd = document.getElementById('43fad456-0c6d-4302-b236-8e4ada837d9b');\n",
              "var x = new MutationObserver(function (mutations, observer) {{\n",
              "        var display = window.getComputedStyle(gd).display;\n",
              "        if (!display || display === 'none') {{\n",
              "            console.log([gd, 'removed!']);\n",
              "            Plotly.purge(gd);\n",
              "            observer.disconnect();\n",
              "        }}\n",
              "}});\n",
              "\n",
              "// Listen for the removal of the full notebook cells\n",
              "var notebookContainer = gd.closest('#notebook-container');\n",
              "if (notebookContainer) {{\n",
              "    x.observe(notebookContainer, {childList: true});\n",
              "}}\n",
              "\n",
              "// Listen for the clearing of the current output cell\n",
              "var outputEl = gd.closest('.output');\n",
              "if (outputEl) {{\n",
              "    x.observe(outputEl, {childList: true});\n",
              "}}\n",
              "\n",
              "                        })\n",
              "                };\n",
              "                \n",
              "            </script>\n",
              "        </div>\n",
              "</body>\n",
              "</html>"
            ]
          },
          "metadata": {
            "tags": [
              "id15_content_3",
              "outputarea_id15",
              "user_output"
            ]
          }
        },
        {
          "output_type": "display_data",
          "data": {
            "application/javascript": [
              "window[\"19a539ca-d5d0-11ea-88cf-0242ac1c0002\"] = google.colab.output.setActiveOutputArea(window[\"1927b61c-d5d0-11ea-88cf-0242ac1c0002\"]);\n",
              "//# sourceURL=js_11970b7654"
            ],
            "text/plain": [
              "<IPython.core.display.Javascript object>"
            ]
          },
          "metadata": {
            "tags": [
              "id15_content_3",
              "outputarea_id15"
            ]
          }
        },
        {
          "output_type": "display_data",
          "data": {
            "application/javascript": [
              "window[\"19a69bda-d5d0-11ea-88cf-0242ac1c0002\"] = google.colab.output.getActiveOutputArea();\n",
              "//# sourceURL=js_d79a52c057"
            ],
            "text/plain": [
              "<IPython.core.display.Javascript object>"
            ]
          },
          "metadata": {
            "tags": [
              "id15_content_6",
              "outputarea_id15"
            ]
          }
        },
        {
          "output_type": "display_data",
          "data": {
            "application/javascript": [
              "window[\"19a78400-d5d0-11ea-88cf-0242ac1c0002\"] = document.querySelector(\"#id15_content_6\");\n",
              "//# sourceURL=js_ad10a322d0"
            ],
            "text/plain": [
              "<IPython.core.display.Javascript object>"
            ]
          },
          "metadata": {
            "tags": [
              "id15_content_6",
              "outputarea_id15"
            ]
          }
        },
        {
          "output_type": "display_data",
          "data": {
            "application/javascript": [
              "window[\"19a7c1fe-d5d0-11ea-88cf-0242ac1c0002\"] = google.colab.output.setActiveOutputArea(window[\"19a78400-d5d0-11ea-88cf-0242ac1c0002\"]);\n",
              "//# sourceURL=js_dc2e2b6760"
            ],
            "text/plain": [
              "<IPython.core.display.Javascript object>"
            ]
          },
          "metadata": {
            "tags": [
              "id15_content_6",
              "outputarea_id15"
            ]
          }
        },
        {
          "output_type": "display_data",
          "data": {
            "text/html": [
              "<html>\n",
              "<head><meta charset=\"utf-8\" /></head>\n",
              "<body>\n",
              "    <div>\n",
              "            <script src=\"https://cdnjs.cloudflare.com/ajax/libs/mathjax/2.7.5/MathJax.js?config=TeX-AMS-MML_SVG\"></script><script type=\"text/javascript\">if (window.MathJax) {MathJax.Hub.Config({SVG: {font: \"STIX-Web\"}});}</script>\n",
              "                <script type=\"text/javascript\">window.PlotlyConfig = {MathJaxConfig: 'local'};</script>\n",
              "        <script src=\"https://cdn.plot.ly/plotly-latest.min.js\"></script>    \n",
              "            <div id=\"70e985ae-d304-44a6-a5e2-c3450d677b42\" class=\"plotly-graph-div\" style=\"height:525px; width:100%;\"></div>\n",
              "            <script type=\"text/javascript\">\n",
              "                \n",
              "                    window.PLOTLYENV=window.PLOTLYENV || {};\n",
              "                    \n",
              "                if (document.getElementById(\"70e985ae-d304-44a6-a5e2-c3450d677b42\")) {\n",
              "                    Plotly.newPlot(\n",
              "                        '70e985ae-d304-44a6-a5e2-c3450d677b42',\n",
              "                        [{\"hoverlabel\": {\"namelength\": 0}, \"hovertemplate\": \"<b>%{hovertext}</b><br><br>Age=0<br>Length=%{x}<br>%Homochirality=%{y}\", \"hovertext\": [null, null, null, null, null, null, null, null, null, null, null, null, null, null, null, null, null, null, null, null, null, null, null, null, null, null, null, null, null, null, null, null, null, null, null, null, null, null, null, null, null, null, null, null, null, null, null, null, null, null, null, null, null, null, null, null, null, null, null, null, null, null, null, null, null, null, null, null, null, null, null, null, null, null, null, null, null, null, null, null, null, null, null, null, null, null, null, null, null, null, null, null, null, null, null, null, null, null, null, null, null, null, null, null, null, null, null, null, null, null, null, null, null, null, null, null, null, null, null, null, null, null, null, null, null, null, null, null, null, null, null, null, null, null, null, null, null, null, null, null, null, null, null, null, null, null, null, null, null, null, null, null, null, null, null, null, null, null, null, null, null, null, null, null, null, null, null, null, null, null, null, null, null, null, null, null, null, null, null, null, null, null, null, null, null, null, null, null, null, null, null, null, null, null, null, null, null, null, null, null, null, null, null, null, null, null, null, null, null, null, null, null, null, null, null, null, null, null, null, null, null, null, null, null, null, null, null, null, null, null, null, null, null, null, null, null, null, null, null, null, null, null, null, null, null, null, null, null, null, null, null, null, null, null, null, null, null, null, null, null, null, null, null, null, null, null, null, null, null, null, null, null, null, null, null, null, null, null, null, null, null, null, null, null, null, null, null, null, null, null, null, null, null, null, null, null, null, null, null, null, null, null, null, null, null, null, null, null, null, null, null, null, null, null, null, null, null, null, null, null, null, null, null, null, null, null, null, null, null, null, null, null, null, null, null, null, null, null, null, null, null, null, null, null, null, null, null, null, null, null, null, null, null, null, null, null, null, null, null, null, null, null, null, null, null, null, null, null, null, null, null, null, null, null, null, null, null, null, null, null, null, null, null, null, null, null, null, null, null, null, null, null, null, null, null, null, null, null, null, null, null, null, null, null, null, null, null, null, null, null, null, null, null, null, null, null, null, null, null, null, null, null, null, null, null, null, null, null, null, null, null, null, null, null, null, null, null, null, null, null, null, null, null, null, null, null, null, null, null, null, null, null, null, null, null, null, null, null, null, null, null, null, null, null, null, null, null, null, null, null, null, null, null, null, null, null, null, null, null, null, null, null, null, null, null, null, null, null, null, null, null, null, null, null, null, null, null, null, null, null, null, null, null, null, 1.0, 1.0, 1.0, 1.0, 1.0, 0.0, 1.0, 0.0, 0.0, 0.0, 1.0, 1.0, 1.0, 0.0, 1.0, 0.0, 1.0, 1.0, 1.0, 0.0, 1.0, 1.0, 1.0, 0.0, 0.0, 0.0, 0.0, 0.0, 0.0, 1.0, 0.0, 0.0, 1.0, 1.0, 1.0, 0.0, 0.0, 1.0, 1.0, 0.0, 0.0, 1.0, 0.0, 1.0, 0.0, 0.0, 0.0, 1.0, 1.0, 1.0, 0.0, 0.0, 1.0, 1.0, 1.0, 0.0, 1.0, 0.0, 1.0, 0.0, 1.0, 0.0, 1.0, 1.0, 0.0, 1.0, 1.0, 1.0, 1.0, 1.0, 0.0, 0.0, 1.0, 0.0, 1.0, 1.0, 1.0, 0.0, 1.0, 1.0, 1.0, 1.0, 0.0, 1.0, 0.0, 1.0, 1.0, 0.0, 1.0, 1.0, 0.0, 1.0, 0.0, 0.0, 0.0, 1.0, 1.0, 0.0, 0.0, 1.0, 0.0, 1.0, 0.0, 1.0, 0.0, 0.0, 1.0, 0.0, 1.0, 0.0, 1.0, 1.0, 0.0, 0.0, 1.0, 1.0, 1.0, 0.0, 1.0, 0.0, 1.0, 0.0, 1.0, 1.0, 0.0, 0.0, 0.0, 0.0, 0.0, 1.0, 0.0, 0.0, 1.0, 0.0, 1.0, 1.0, 1.0, 1.0, 1.0, 0.0, 1.0, 1.0, 0.0, 0.0, 1.0, 1.0, 0.0, 1.0, 1.0, 1.0, 1.0, 1.0, 1.0, 0.0, 1.0, 1.0, 1.0, 0.0, 0.0, 1.0, 1.0, 0.0, 1.0, 0.0, 0.0, 0.0, 0.0, 0.0, 1.0, 1.0, 0.0, 1.0, 1.0, 0.0, 0.0, 1.0, 1.0, 0.0, 1.0, 0.0, 1.0, 0.0, 0.0, 1.0, 1.0, 0.0, 1.0, 1.0, 0.0, 0.0, 1.0, 0.0, 1.0, 0.0, 0.0, 0.0, 0.0, 0.0, 0.0, 0.0, 1.0, 0.0, 1.0, 0.0, 1.0, 0.0, 1.0, 0.0, 0.0, 0.0, 1.0, 1.0, 1.0, 1.0, 0.0, 0.0, 1.0, 0.0, 1.0, 0.0, 1.0, 0.0, 1.0, 1.0, 1.0, 1.0, 1.0, 0.0, 1.0, 0.0, 1.0, 0.0, 0.0, 0.0, 0.0, 0.0, 0.0, 0.0, 0.0, 0.0, 0.0, 0.0, 1.0, 0.0, 0.0, 0.0, 1.0, 0.0, 0.0, 0.0, 0.0, 1.0, 1.0, 1.0, 1.0, 1.0, 0.0, 0.0, 0.0, 1.0, 0.0, 1.0, 0.0, 1.0, 1.0, 0.0, 0.0, 1.0, 0.0, 0.0, 0.0, 1.0, 0.0, 1.0, 0.0, 1.0, 1.0, 0.0, 1.0, 0.0, 0.0, 0.0, 1.0, 0.0, 0.0, 1.0, 0.0, 0.0, 1.0, 0.0, 1.0, 0.0, 0.0, 0.0, 1.0, 1.0, 1.0, 1.0, 0.0, 0.0, 0.0], \"legendgroup\": \"\", \"marker\": {\"color\": \"#636efa\", \"symbol\": \"circle\"}, \"mode\": \"markers\", \"name\": \"\", \"showlegend\": false, \"type\": \"scatter\", \"x\": [1, 1, 1, 1, 1, 1, 1, 1, 1, 1, 1, 1, 1, 1, 1, 1, 1, 1, 1, 1, 1, 1, 1, 1, 1, 1, 1, 1, 1, 1, 1, 1, 1, 1, 1, 1, 1, 1, 1, 1, 1, 1, 1, 1, 1, 1, 1, 1, 1, 1, 1, 1, 1, 1, 1, 1, 1, 1, 1, 1, 1, 1, 1, 1, 1, 1, 1, 1, 1, 1, 1, 1, 1, 1, 1, 1, 1, 1, 1, 1, 1, 1, 1, 1, 1, 1, 1, 1, 1, 1, 1, 1, 1, 1, 1, 1, 1, 1, 1, 1, 1, 1, 1, 1, 1, 1, 1, 1, 1, 1, 1, 1, 1, 1, 1, 1, 1, 1, 1, 1, 1, 1, 1, 1, 1, 1, 1, 1, 1, 1, 1, 1, 1, 1, 1, 1, 1, 1, 1, 1, 1, 1, 1, 1, 1, 1, 1, 1, 1, 1, 1, 1, 1, 1, 1, 1, 1, 1, 1, 1, 1, 1, 1, 1, 1, 1, 1, 1, 1, 1, 1, 1, 1, 1, 1, 1, 1, 1, 1, 1, 1, 1, 1, 1, 1, 1, 1, 1, 1, 1, 1, 1, 1, 1, 1, 1, 1, 1, 1, 1, 1, 1, 1, 1, 1, 1, 1, 1, 1, 1, 1, 1, 1, 1, 1, 1, 1, 1, 1, 1, 1, 1, 1, 1, 1, 1, 1, 1, 1, 1, 1, 1, 1, 1, 1, 1, 1, 1, 1, 1, 1, 1, 1, 1, 1, 1, 1, 1, 1, 1, 1, 1, 1, 1, 1, 1, 1, 1, 1, 1, 1, 1, 1, 1, 1, 1, 1, 1, 1, 1, 1, 1, 1, 1, 1, 1, 1, 1, 1, 1, 1, 1, 1, 1, 1, 1, 1, 1, 1, 1, 1, 1, 1, 1, 1, 1, 1, 1, 1, 1, 1, 1, 1, 1, 1, 1, 1, 1, 1, 1, 1, 1, 1, 1, 1, 1, 1, 1, 1, 1, 1, 1, 1, 1, 1, 1, 1, 1, 1, 1, 1, 1, 1, 1, 1, 1, 1, 1, 1, 1, 1, 1, 1, 1, 1, 1, 1, 1, 1, 1, 1, 1, 1, 1, 1, 1, 1, 1, 1, 1, 1, 1, 1, 1, 1, 1, 1, 1, 1, 1, 1, 1, 1, 1, 1, 1, 1, 1, 1, 1, 1, 1, 1, 1, 1, 1, 1, 1, 1, 1, 1, 1, 1, 1, 1, 1, 1, 1, 1, 1, 1, 1, 1, 1, 1, 1, 1, 1, 1, 1, 1, 1, 1, 1, 1, 1, 1, 1, 1, 1, 1, 1, 1, 1, 1, 1, 1, 1, 1, 1, 1, 1, 1, 1, 1, 1, 1, 1, 1, 1, 1, 1, 1, 1, 1, 1, 1, 1, 1, 1, 1, 1, 1, 1, 1, 1, 1, 1, 1, 1, 1, 1, 1, 1, 1, 1, 1, 1, 1, 1, 1, 1, 1, 1, 1, 1, 1, 1, 1, 1, 1, 1, 1, 1, 1, 1, 1, 1, 1, 1, 1, 1, 1, 1, 1, 1, 1, 1, 1, 1, 1, 1, 1, 1, 2, 2, 2, 2, 2, 2, 2, 2, 2, 2, 2, 2, 2, 2, 2, 2, 2, 2, 2, 2, 2, 2, 2, 2, 2, 2, 2, 2, 2, 2, 2, 2, 2, 2, 2, 2, 2, 2, 2, 2, 2, 2, 2, 2, 2, 2, 2, 2, 2, 2, 2, 2, 2, 2, 2, 2, 2, 2, 2, 2, 2, 2, 2, 2, 2, 2, 2, 2, 2, 2, 2, 2, 2, 2, 2, 2, 2, 2, 2, 2, 2, 2, 2, 2, 2, 2, 2, 2, 2, 2, 2, 2, 2, 2, 2, 2, 2, 2, 2, 2, 2, 2, 2, 2, 2, 2, 2, 2, 2, 2, 2, 2, 2, 2, 2, 2, 2, 2, 2, 2, 2, 2, 2, 2, 2, 2, 2, 2, 2, 2, 2, 2, 2, 2, 2, 2, 2, 2, 2, 2, 2, 2, 2, 2, 2, 2, 2, 2, 2, 2, 2, 2, 2, 2, 2, 2, 2, 2, 2, 2, 2, 2, 2, 2, 2, 2, 2, 2, 2, 2, 2, 2, 2, 2, 2, 2, 2, 2, 2, 2, 2, 2, 2, 2, 2, 2, 2, 2, 2, 2, 2, 2, 2, 2, 2, 2, 2, 2, 2, 2, 2, 2, 2, 2, 2, 2, 2, 2, 2, 2, 2, 2, 2, 2, 2, 2, 2, 2, 2, 2, 2, 2, 2, 2, 2, 2, 2, 2, 2, 2, 2, 2, 2, 2, 2, 2, 2, 2, 2, 2, 2, 2, 2, 2, 2, 2, 2, 2, 2, 2, 2, 2, 2, 2, 2, 2, 2, 2, 2, 2, 2, 2, 2, 2, 2, 2, 2, 2, 2, 2, 2, 2, 2, 2, 2, 2, 2, 2, 2, 2, 2, 2, 2, 2, 2, 2, 2, 2, 2, 2, 2, 2, 2, 2, 2, 2, 2, 2, 2, 2, 2], \"xaxis\": \"x\", \"y\": [null, null, null, null, null, null, null, null, null, null, null, null, null, null, null, null, null, null, null, null, null, null, null, null, null, null, null, null, null, null, null, null, null, null, null, null, null, null, null, null, null, null, null, null, null, null, null, null, null, null, null, null, null, null, null, null, null, null, null, null, null, null, null, null, null, null, null, null, null, null, null, null, null, null, null, null, null, null, null, null, null, null, null, null, null, null, null, null, null, null, null, null, null, null, null, null, null, null, null, null, null, null, null, null, null, null, null, null, null, null, null, null, null, null, null, null, null, null, null, null, null, null, null, null, null, null, null, null, null, null, null, null, null, null, null, null, null, null, null, null, null, null, null, null, null, null, null, null, null, null, null, null, null, null, null, null, null, null, null, null, null, null, null, null, null, null, null, null, null, null, null, null, null, null, null, null, null, null, null, null, null, null, null, null, null, null, null, null, null, null, null, null, null, null, null, null, null, null, null, null, null, null, null, null, null, null, null, null, null, null, null, null, null, null, null, null, null, null, null, null, null, null, null, null, null, null, null, null, null, null, null, null, null, null, null, null, null, null, null, null, null, null, null, null, null, null, null, null, null, null, null, null, null, null, null, null, null, null, null, null, null, null, null, null, null, null, null, null, null, null, null, null, null, null, null, null, null, null, null, null, null, null, null, null, null, null, null, null, null, null, null, null, null, null, null, null, null, null, null, null, null, null, null, null, null, null, null, null, null, null, null, null, null, null, null, null, null, null, null, null, null, null, null, null, null, null, null, null, null, null, null, null, null, null, null, null, null, null, null, null, null, null, null, null, null, null, null, null, null, null, null, null, null, null, null, null, null, null, null, null, null, null, null, null, null, null, null, null, null, null, null, null, null, null, null, null, null, null, null, null, null, null, null, null, null, null, null, null, null, null, null, null, null, null, null, null, null, null, null, null, null, null, null, null, null, null, null, null, null, null, null, null, null, null, null, null, null, null, null, null, null, null, null, null, null, null, null, null, null, null, null, null, null, null, null, null, null, null, null, null, null, null, null, null, null, null, null, null, null, null, null, null, null, null, null, null, null, null, null, null, null, null, null, null, null, null, null, null, null, null, null, null, null, null, null, null, null, null, null, null, null, null, null, null, null, null, null, null, null, null, null, null, null, null, null, null, null, null, null, null, null, null, null, null, 1.0, 1.0, 1.0, 1.0, 1.0, 0.0, 1.0, 0.0, 0.0, 0.0, 1.0, 1.0, 1.0, 0.0, 1.0, 0.0, 1.0, 1.0, 1.0, 0.0, 1.0, 1.0, 1.0, 0.0, 0.0, 0.0, 0.0, 0.0, 0.0, 1.0, 0.0, 0.0, 1.0, 1.0, 1.0, 0.0, 0.0, 1.0, 1.0, 0.0, 0.0, 1.0, 0.0, 1.0, 0.0, 0.0, 0.0, 1.0, 1.0, 1.0, 0.0, 0.0, 1.0, 1.0, 1.0, 0.0, 1.0, 0.0, 1.0, 0.0, 1.0, 0.0, 1.0, 1.0, 0.0, 1.0, 1.0, 1.0, 1.0, 1.0, 0.0, 0.0, 1.0, 0.0, 1.0, 1.0, 1.0, 0.0, 1.0, 1.0, 1.0, 1.0, 0.0, 1.0, 0.0, 1.0, 1.0, 0.0, 1.0, 1.0, 0.0, 1.0, 0.0, 0.0, 0.0, 1.0, 1.0, 0.0, 0.0, 1.0, 0.0, 1.0, 0.0, 1.0, 0.0, 0.0, 1.0, 0.0, 1.0, 0.0, 1.0, 1.0, 0.0, 0.0, 1.0, 1.0, 1.0, 0.0, 1.0, 0.0, 1.0, 0.0, 1.0, 1.0, 0.0, 0.0, 0.0, 0.0, 0.0, 1.0, 0.0, 0.0, 1.0, 0.0, 1.0, 1.0, 1.0, 1.0, 1.0, 0.0, 1.0, 1.0, 0.0, 0.0, 1.0, 1.0, 0.0, 1.0, 1.0, 1.0, 1.0, 1.0, 1.0, 0.0, 1.0, 1.0, 1.0, 0.0, 0.0, 1.0, 1.0, 0.0, 1.0, 0.0, 0.0, 0.0, 0.0, 0.0, 1.0, 1.0, 0.0, 1.0, 1.0, 0.0, 0.0, 1.0, 1.0, 0.0, 1.0, 0.0, 1.0, 0.0, 0.0, 1.0, 1.0, 0.0, 1.0, 1.0, 0.0, 0.0, 1.0, 0.0, 1.0, 0.0, 0.0, 0.0, 0.0, 0.0, 0.0, 0.0, 1.0, 0.0, 1.0, 0.0, 1.0, 0.0, 1.0, 0.0, 0.0, 0.0, 1.0, 1.0, 1.0, 1.0, 0.0, 0.0, 1.0, 0.0, 1.0, 0.0, 1.0, 0.0, 1.0, 1.0, 1.0, 1.0, 1.0, 0.0, 1.0, 0.0, 1.0, 0.0, 0.0, 0.0, 0.0, 0.0, 0.0, 0.0, 0.0, 0.0, 0.0, 0.0, 1.0, 0.0, 0.0, 0.0, 1.0, 0.0, 0.0, 0.0, 0.0, 1.0, 1.0, 1.0, 1.0, 1.0, 0.0, 0.0, 0.0, 1.0, 0.0, 1.0, 0.0, 1.0, 1.0, 0.0, 0.0, 1.0, 0.0, 0.0, 0.0, 1.0, 0.0, 1.0, 0.0, 1.0, 1.0, 0.0, 1.0, 0.0, 0.0, 0.0, 1.0, 0.0, 0.0, 1.0, 0.0, 0.0, 1.0, 0.0, 1.0, 0.0, 0.0, 0.0, 1.0, 1.0, 1.0, 1.0, 0.0, 0.0, 0.0], \"yaxis\": \"y\"}],\n",
              "                        {\"legend\": {\"tracegroupgap\": 0}, \"margin\": {\"t\": 60}, \"sliders\": [{\"active\": 0, \"currentvalue\": {\"prefix\": \"Age=\"}, \"len\": 0.9, \"pad\": {\"b\": 10, \"t\": 60}, \"steps\": [{\"args\": [[\"0\"], {\"frame\": {\"duration\": 0, \"redraw\": false}, \"fromcurrent\": true, \"mode\": \"immediate\", \"transition\": {\"duration\": 0, \"easing\": \"linear\"}}], \"label\": \"0\", \"method\": \"animate\"}, {\"args\": [[\"1\"], {\"frame\": {\"duration\": 0, \"redraw\": false}, \"fromcurrent\": true, \"mode\": \"immediate\", \"transition\": {\"duration\": 0, \"easing\": \"linear\"}}], \"label\": \"1\", \"method\": \"animate\"}, {\"args\": [[\"2\"], {\"frame\": {\"duration\": 0, \"redraw\": false}, \"fromcurrent\": true, \"mode\": \"immediate\", \"transition\": {\"duration\": 0, \"easing\": \"linear\"}}], \"label\": \"2\", \"method\": \"animate\"}, {\"args\": [[\"3\"], {\"frame\": {\"duration\": 0, \"redraw\": false}, \"fromcurrent\": true, \"mode\": \"immediate\", \"transition\": {\"duration\": 0, \"easing\": \"linear\"}}], \"label\": \"3\", \"method\": \"animate\"}, {\"args\": [[\"4\"], {\"frame\": {\"duration\": 0, \"redraw\": false}, \"fromcurrent\": true, \"mode\": \"immediate\", \"transition\": {\"duration\": 0, \"easing\": \"linear\"}}], \"label\": \"4\", \"method\": \"animate\"}, {\"args\": [[\"5\"], {\"frame\": {\"duration\": 0, \"redraw\": false}, \"fromcurrent\": true, \"mode\": \"immediate\", \"transition\": {\"duration\": 0, \"easing\": \"linear\"}}], \"label\": \"5\", \"method\": \"animate\"}, {\"args\": [[\"6\"], {\"frame\": {\"duration\": 0, \"redraw\": false}, \"fromcurrent\": true, \"mode\": \"immediate\", \"transition\": {\"duration\": 0, \"easing\": \"linear\"}}], \"label\": \"6\", \"method\": \"animate\"}, {\"args\": [[\"7\"], {\"frame\": {\"duration\": 0, \"redraw\": false}, \"fromcurrent\": true, \"mode\": \"immediate\", \"transition\": {\"duration\": 0, \"easing\": \"linear\"}}], \"label\": \"7\", \"method\": \"animate\"}, {\"args\": [[\"8\"], {\"frame\": {\"duration\": 0, \"redraw\": false}, \"fromcurrent\": true, \"mode\": \"immediate\", \"transition\": {\"duration\": 0, \"easing\": \"linear\"}}], \"label\": \"8\", \"method\": \"animate\"}, {\"args\": [[\"9\"], {\"frame\": {\"duration\": 0, \"redraw\": false}, \"fromcurrent\": true, \"mode\": \"immediate\", \"transition\": {\"duration\": 0, \"easing\": \"linear\"}}], \"label\": \"9\", \"method\": \"animate\"}, {\"args\": [[\"10\"], {\"frame\": {\"duration\": 0, \"redraw\": false}, \"fromcurrent\": true, \"mode\": \"immediate\", \"transition\": {\"duration\": 0, \"easing\": \"linear\"}}], \"label\": \"10\", \"method\": \"animate\"}, {\"args\": [[\"11\"], {\"frame\": {\"duration\": 0, \"redraw\": false}, \"fromcurrent\": true, \"mode\": \"immediate\", \"transition\": {\"duration\": 0, \"easing\": \"linear\"}}], \"label\": \"11\", \"method\": \"animate\"}, {\"args\": [[\"12\"], {\"frame\": {\"duration\": 0, \"redraw\": false}, \"fromcurrent\": true, \"mode\": \"immediate\", \"transition\": {\"duration\": 0, \"easing\": \"linear\"}}], \"label\": \"12\", \"method\": \"animate\"}, {\"args\": [[\"13\"], {\"frame\": {\"duration\": 0, \"redraw\": false}, \"fromcurrent\": true, \"mode\": \"immediate\", \"transition\": {\"duration\": 0, \"easing\": \"linear\"}}], \"label\": \"13\", \"method\": \"animate\"}, {\"args\": [[\"14\"], {\"frame\": {\"duration\": 0, \"redraw\": false}, \"fromcurrent\": true, \"mode\": \"immediate\", \"transition\": {\"duration\": 0, \"easing\": \"linear\"}}], \"label\": \"14\", \"method\": \"animate\"}, {\"args\": [[\"15\"], {\"frame\": {\"duration\": 0, \"redraw\": false}, \"fromcurrent\": true, \"mode\": \"immediate\", \"transition\": {\"duration\": 0, \"easing\": \"linear\"}}], \"label\": \"15\", \"method\": \"animate\"}, {\"args\": [[\"16\"], {\"frame\": {\"duration\": 0, \"redraw\": false}, \"fromcurrent\": true, \"mode\": \"immediate\", \"transition\": {\"duration\": 0, \"easing\": \"linear\"}}], \"label\": \"16\", \"method\": \"animate\"}, {\"args\": [[\"17\"], {\"frame\": {\"duration\": 0, \"redraw\": false}, \"fromcurrent\": true, \"mode\": \"immediate\", \"transition\": {\"duration\": 0, \"easing\": \"linear\"}}], \"label\": \"17\", \"method\": \"animate\"}, {\"args\": [[\"18\"], {\"frame\": {\"duration\": 0, \"redraw\": false}, \"fromcurrent\": true, \"mode\": \"immediate\", \"transition\": {\"duration\": 0, \"easing\": \"linear\"}}], \"label\": \"18\", \"method\": \"animate\"}, {\"args\": [[\"19\"], {\"frame\": {\"duration\": 0, \"redraw\": false}, \"fromcurrent\": true, \"mode\": \"immediate\", \"transition\": {\"duration\": 0, \"easing\": \"linear\"}}], \"label\": \"19\", \"method\": \"animate\"}, {\"args\": [[\"20\"], {\"frame\": {\"duration\": 0, \"redraw\": false}, \"fromcurrent\": true, \"mode\": \"immediate\", \"transition\": {\"duration\": 0, \"easing\": \"linear\"}}], \"label\": \"20\", \"method\": \"animate\"}, {\"args\": [[\"21\"], {\"frame\": {\"duration\": 0, \"redraw\": false}, \"fromcurrent\": true, \"mode\": \"immediate\", \"transition\": {\"duration\": 0, \"easing\": \"linear\"}}], \"label\": \"21\", \"method\": \"animate\"}, {\"args\": [[\"22\"], {\"frame\": {\"duration\": 0, \"redraw\": false}, \"fromcurrent\": true, \"mode\": \"immediate\", \"transition\": {\"duration\": 0, \"easing\": \"linear\"}}], \"label\": \"22\", \"method\": \"animate\"}, {\"args\": [[\"23\"], {\"frame\": {\"duration\": 0, \"redraw\": false}, \"fromcurrent\": true, \"mode\": \"immediate\", \"transition\": {\"duration\": 0, \"easing\": \"linear\"}}], \"label\": \"23\", \"method\": \"animate\"}, {\"args\": [[\"24\"], {\"frame\": {\"duration\": 0, \"redraw\": false}, \"fromcurrent\": true, \"mode\": \"immediate\", \"transition\": {\"duration\": 0, \"easing\": \"linear\"}}], \"label\": \"24\", \"method\": \"animate\"}, {\"args\": [[\"25\"], {\"frame\": {\"duration\": 0, \"redraw\": false}, \"fromcurrent\": true, \"mode\": \"immediate\", \"transition\": {\"duration\": 0, \"easing\": \"linear\"}}], \"label\": \"25\", \"method\": \"animate\"}, {\"args\": [[\"26\"], {\"frame\": {\"duration\": 0, \"redraw\": false}, \"fromcurrent\": true, \"mode\": \"immediate\", \"transition\": {\"duration\": 0, \"easing\": \"linear\"}}], \"label\": \"26\", \"method\": \"animate\"}, {\"args\": [[\"27\"], {\"frame\": {\"duration\": 0, \"redraw\": false}, \"fromcurrent\": true, \"mode\": \"immediate\", \"transition\": {\"duration\": 0, \"easing\": \"linear\"}}], \"label\": \"27\", \"method\": \"animate\"}, {\"args\": [[\"28\"], {\"frame\": {\"duration\": 0, \"redraw\": false}, \"fromcurrent\": true, \"mode\": \"immediate\", \"transition\": {\"duration\": 0, \"easing\": \"linear\"}}], \"label\": \"28\", \"method\": \"animate\"}, {\"args\": [[\"29\"], {\"frame\": {\"duration\": 0, \"redraw\": false}, \"fromcurrent\": true, \"mode\": \"immediate\", \"transition\": {\"duration\": 0, \"easing\": \"linear\"}}], \"label\": \"29\", \"method\": \"animate\"}, {\"args\": [[\"30\"], {\"frame\": {\"duration\": 0, \"redraw\": false}, \"fromcurrent\": true, \"mode\": \"immediate\", \"transition\": {\"duration\": 0, \"easing\": \"linear\"}}], \"label\": \"30\", \"method\": \"animate\"}, {\"args\": [[\"31\"], {\"frame\": {\"duration\": 0, \"redraw\": false}, \"fromcurrent\": true, \"mode\": \"immediate\", \"transition\": {\"duration\": 0, \"easing\": \"linear\"}}], \"label\": \"31\", \"method\": \"animate\"}, {\"args\": [[\"32\"], {\"frame\": {\"duration\": 0, \"redraw\": false}, \"fromcurrent\": true, \"mode\": \"immediate\", \"transition\": {\"duration\": 0, \"easing\": \"linear\"}}], \"label\": \"32\", \"method\": \"animate\"}, {\"args\": [[\"33\"], {\"frame\": {\"duration\": 0, \"redraw\": false}, \"fromcurrent\": true, \"mode\": \"immediate\", \"transition\": {\"duration\": 0, \"easing\": \"linear\"}}], \"label\": \"33\", \"method\": \"animate\"}, {\"args\": [[\"34\"], {\"frame\": {\"duration\": 0, \"redraw\": false}, \"fromcurrent\": true, \"mode\": \"immediate\", \"transition\": {\"duration\": 0, \"easing\": \"linear\"}}], \"label\": \"34\", \"method\": \"animate\"}, {\"args\": [[\"35\"], {\"frame\": {\"duration\": 0, \"redraw\": false}, \"fromcurrent\": true, \"mode\": \"immediate\", \"transition\": {\"duration\": 0, \"easing\": \"linear\"}}], \"label\": \"35\", \"method\": \"animate\"}, {\"args\": [[\"36\"], {\"frame\": {\"duration\": 0, \"redraw\": false}, \"fromcurrent\": true, \"mode\": \"immediate\", \"transition\": {\"duration\": 0, \"easing\": \"linear\"}}], \"label\": \"36\", \"method\": \"animate\"}, {\"args\": [[\"37\"], {\"frame\": {\"duration\": 0, \"redraw\": false}, \"fromcurrent\": true, \"mode\": \"immediate\", \"transition\": {\"duration\": 0, \"easing\": \"linear\"}}], \"label\": \"37\", \"method\": \"animate\"}, {\"args\": [[\"38\"], {\"frame\": {\"duration\": 0, \"redraw\": false}, \"fromcurrent\": true, \"mode\": \"immediate\", \"transition\": {\"duration\": 0, \"easing\": \"linear\"}}], \"label\": \"38\", \"method\": \"animate\"}, {\"args\": [[\"39\"], {\"frame\": {\"duration\": 0, \"redraw\": false}, \"fromcurrent\": true, \"mode\": \"immediate\", \"transition\": {\"duration\": 0, \"easing\": \"linear\"}}], \"label\": \"39\", \"method\": \"animate\"}, {\"args\": [[\"40\"], {\"frame\": {\"duration\": 0, \"redraw\": false}, \"fromcurrent\": true, \"mode\": \"immediate\", \"transition\": {\"duration\": 0, \"easing\": \"linear\"}}], \"label\": \"40\", \"method\": \"animate\"}, {\"args\": [[\"41\"], {\"frame\": {\"duration\": 0, \"redraw\": false}, \"fromcurrent\": true, \"mode\": \"immediate\", \"transition\": {\"duration\": 0, \"easing\": \"linear\"}}], \"label\": \"41\", \"method\": \"animate\"}, {\"args\": [[\"42\"], {\"frame\": {\"duration\": 0, \"redraw\": false}, \"fromcurrent\": true, \"mode\": \"immediate\", \"transition\": {\"duration\": 0, \"easing\": \"linear\"}}], \"label\": \"42\", \"method\": \"animate\"}, {\"args\": [[\"43\"], {\"frame\": {\"duration\": 0, \"redraw\": false}, \"fromcurrent\": true, \"mode\": \"immediate\", \"transition\": {\"duration\": 0, \"easing\": \"linear\"}}], \"label\": \"43\", \"method\": \"animate\"}, {\"args\": [[\"44\"], {\"frame\": {\"duration\": 0, \"redraw\": false}, \"fromcurrent\": true, \"mode\": \"immediate\", \"transition\": {\"duration\": 0, \"easing\": \"linear\"}}], \"label\": \"44\", \"method\": \"animate\"}, {\"args\": [[\"45\"], {\"frame\": {\"duration\": 0, \"redraw\": false}, \"fromcurrent\": true, \"mode\": \"immediate\", \"transition\": {\"duration\": 0, \"easing\": \"linear\"}}], \"label\": \"45\", \"method\": \"animate\"}, {\"args\": [[\"46\"], {\"frame\": {\"duration\": 0, \"redraw\": false}, \"fromcurrent\": true, \"mode\": \"immediate\", \"transition\": {\"duration\": 0, \"easing\": \"linear\"}}], \"label\": \"46\", \"method\": \"animate\"}, {\"args\": [[\"47\"], {\"frame\": {\"duration\": 0, \"redraw\": false}, \"fromcurrent\": true, \"mode\": \"immediate\", \"transition\": {\"duration\": 0, \"easing\": \"linear\"}}], \"label\": \"47\", \"method\": \"animate\"}, {\"args\": [[\"48\"], {\"frame\": {\"duration\": 0, \"redraw\": false}, \"fromcurrent\": true, \"mode\": \"immediate\", \"transition\": {\"duration\": 0, \"easing\": \"linear\"}}], \"label\": \"48\", \"method\": \"animate\"}, {\"args\": [[\"49\"], {\"frame\": {\"duration\": 0, \"redraw\": false}, \"fromcurrent\": true, \"mode\": \"immediate\", \"transition\": {\"duration\": 0, \"easing\": \"linear\"}}], \"label\": \"49\", \"method\": \"animate\"}, {\"args\": [[\"50\"], {\"frame\": {\"duration\": 0, \"redraw\": false}, \"fromcurrent\": true, \"mode\": \"immediate\", \"transition\": {\"duration\": 0, \"easing\": \"linear\"}}], \"label\": \"50\", \"method\": \"animate\"}, {\"args\": [[\"51\"], {\"frame\": {\"duration\": 0, \"redraw\": false}, \"fromcurrent\": true, \"mode\": \"immediate\", \"transition\": {\"duration\": 0, \"easing\": \"linear\"}}], \"label\": \"51\", \"method\": \"animate\"}, {\"args\": [[\"52\"], {\"frame\": {\"duration\": 0, \"redraw\": false}, \"fromcurrent\": true, \"mode\": \"immediate\", \"transition\": {\"duration\": 0, \"easing\": \"linear\"}}], \"label\": \"52\", \"method\": \"animate\"}, {\"args\": [[\"53\"], {\"frame\": {\"duration\": 0, \"redraw\": false}, \"fromcurrent\": true, \"mode\": \"immediate\", \"transition\": {\"duration\": 0, \"easing\": \"linear\"}}], \"label\": \"53\", \"method\": \"animate\"}, {\"args\": [[\"54\"], {\"frame\": {\"duration\": 0, \"redraw\": false}, \"fromcurrent\": true, \"mode\": \"immediate\", \"transition\": {\"duration\": 0, \"easing\": \"linear\"}}], \"label\": \"54\", \"method\": \"animate\"}, {\"args\": [[\"55\"], {\"frame\": {\"duration\": 0, \"redraw\": false}, \"fromcurrent\": true, \"mode\": \"immediate\", \"transition\": {\"duration\": 0, \"easing\": \"linear\"}}], \"label\": \"55\", \"method\": \"animate\"}, {\"args\": [[\"56\"], {\"frame\": {\"duration\": 0, \"redraw\": false}, \"fromcurrent\": true, \"mode\": \"immediate\", \"transition\": {\"duration\": 0, \"easing\": \"linear\"}}], \"label\": \"56\", \"method\": \"animate\"}, {\"args\": [[\"57\"], {\"frame\": {\"duration\": 0, \"redraw\": false}, \"fromcurrent\": true, \"mode\": \"immediate\", \"transition\": {\"duration\": 0, \"easing\": \"linear\"}}], \"label\": \"57\", \"method\": \"animate\"}, {\"args\": [[\"58\"], {\"frame\": {\"duration\": 0, \"redraw\": false}, \"fromcurrent\": true, \"mode\": \"immediate\", \"transition\": {\"duration\": 0, \"easing\": \"linear\"}}], \"label\": \"58\", \"method\": \"animate\"}, {\"args\": [[\"59\"], {\"frame\": {\"duration\": 0, \"redraw\": false}, \"fromcurrent\": true, \"mode\": \"immediate\", \"transition\": {\"duration\": 0, \"easing\": \"linear\"}}], \"label\": \"59\", \"method\": \"animate\"}, {\"args\": [[\"60\"], {\"frame\": {\"duration\": 0, \"redraw\": false}, \"fromcurrent\": true, \"mode\": \"immediate\", \"transition\": {\"duration\": 0, \"easing\": \"linear\"}}], \"label\": \"60\", \"method\": \"animate\"}, {\"args\": [[\"61\"], {\"frame\": {\"duration\": 0, \"redraw\": false}, \"fromcurrent\": true, \"mode\": \"immediate\", \"transition\": {\"duration\": 0, \"easing\": \"linear\"}}], \"label\": \"61\", \"method\": \"animate\"}, {\"args\": [[\"62\"], {\"frame\": {\"duration\": 0, \"redraw\": false}, \"fromcurrent\": true, \"mode\": \"immediate\", \"transition\": {\"duration\": 0, \"easing\": \"linear\"}}], \"label\": \"62\", \"method\": \"animate\"}, {\"args\": [[\"63\"], {\"frame\": {\"duration\": 0, \"redraw\": false}, \"fromcurrent\": true, \"mode\": \"immediate\", \"transition\": {\"duration\": 0, \"easing\": \"linear\"}}], \"label\": \"63\", \"method\": \"animate\"}, {\"args\": [[\"64\"], {\"frame\": {\"duration\": 0, \"redraw\": false}, \"fromcurrent\": true, \"mode\": \"immediate\", \"transition\": {\"duration\": 0, \"easing\": \"linear\"}}], \"label\": \"64\", \"method\": \"animate\"}, {\"args\": [[\"65\"], {\"frame\": {\"duration\": 0, \"redraw\": false}, \"fromcurrent\": true, \"mode\": \"immediate\", \"transition\": {\"duration\": 0, \"easing\": \"linear\"}}], \"label\": \"65\", \"method\": \"animate\"}, {\"args\": [[\"66\"], {\"frame\": {\"duration\": 0, \"redraw\": false}, \"fromcurrent\": true, \"mode\": \"immediate\", \"transition\": {\"duration\": 0, \"easing\": \"linear\"}}], \"label\": \"66\", \"method\": \"animate\"}, {\"args\": [[\"67\"], {\"frame\": {\"duration\": 0, \"redraw\": false}, \"fromcurrent\": true, \"mode\": \"immediate\", \"transition\": {\"duration\": 0, \"easing\": \"linear\"}}], \"label\": \"67\", \"method\": \"animate\"}, {\"args\": [[\"68\"], {\"frame\": {\"duration\": 0, \"redraw\": false}, \"fromcurrent\": true, \"mode\": \"immediate\", \"transition\": {\"duration\": 0, \"easing\": \"linear\"}}], \"label\": \"68\", \"method\": \"animate\"}, {\"args\": [[\"69\"], {\"frame\": {\"duration\": 0, \"redraw\": false}, \"fromcurrent\": true, \"mode\": \"immediate\", \"transition\": {\"duration\": 0, \"easing\": \"linear\"}}], \"label\": \"69\", \"method\": \"animate\"}, {\"args\": [[\"70\"], {\"frame\": {\"duration\": 0, \"redraw\": false}, \"fromcurrent\": true, \"mode\": \"immediate\", \"transition\": {\"duration\": 0, \"easing\": \"linear\"}}], \"label\": \"70\", \"method\": \"animate\"}, {\"args\": [[\"71\"], {\"frame\": {\"duration\": 0, \"redraw\": false}, \"fromcurrent\": true, \"mode\": \"immediate\", \"transition\": {\"duration\": 0, \"easing\": \"linear\"}}], \"label\": \"71\", \"method\": \"animate\"}, {\"args\": [[\"72\"], {\"frame\": {\"duration\": 0, \"redraw\": false}, \"fromcurrent\": true, \"mode\": \"immediate\", \"transition\": {\"duration\": 0, \"easing\": \"linear\"}}], \"label\": \"72\", \"method\": \"animate\"}, {\"args\": [[\"73\"], {\"frame\": {\"duration\": 0, \"redraw\": false}, \"fromcurrent\": true, \"mode\": \"immediate\", \"transition\": {\"duration\": 0, \"easing\": \"linear\"}}], \"label\": \"73\", \"method\": \"animate\"}, {\"args\": [[\"74\"], {\"frame\": {\"duration\": 0, \"redraw\": false}, \"fromcurrent\": true, \"mode\": \"immediate\", \"transition\": {\"duration\": 0, \"easing\": \"linear\"}}], \"label\": \"74\", \"method\": \"animate\"}, {\"args\": [[\"75\"], {\"frame\": {\"duration\": 0, \"redraw\": false}, \"fromcurrent\": true, \"mode\": \"immediate\", \"transition\": {\"duration\": 0, \"easing\": \"linear\"}}], \"label\": \"75\", \"method\": \"animate\"}, {\"args\": [[\"76\"], {\"frame\": {\"duration\": 0, \"redraw\": false}, \"fromcurrent\": true, \"mode\": \"immediate\", \"transition\": {\"duration\": 0, \"easing\": \"linear\"}}], \"label\": \"76\", \"method\": \"animate\"}, {\"args\": [[\"77\"], {\"frame\": {\"duration\": 0, \"redraw\": false}, \"fromcurrent\": true, \"mode\": \"immediate\", \"transition\": {\"duration\": 0, \"easing\": \"linear\"}}], \"label\": \"77\", \"method\": \"animate\"}, {\"args\": [[\"78\"], {\"frame\": {\"duration\": 0, \"redraw\": false}, \"fromcurrent\": true, \"mode\": \"immediate\", \"transition\": {\"duration\": 0, \"easing\": \"linear\"}}], \"label\": \"78\", \"method\": \"animate\"}, {\"args\": [[\"79\"], {\"frame\": {\"duration\": 0, \"redraw\": false}, \"fromcurrent\": true, \"mode\": \"immediate\", \"transition\": {\"duration\": 0, \"easing\": \"linear\"}}], \"label\": \"79\", \"method\": \"animate\"}, {\"args\": [[\"80\"], {\"frame\": {\"duration\": 0, \"redraw\": false}, \"fromcurrent\": true, \"mode\": \"immediate\", \"transition\": {\"duration\": 0, \"easing\": \"linear\"}}], \"label\": \"80\", \"method\": \"animate\"}, {\"args\": [[\"81\"], {\"frame\": {\"duration\": 0, \"redraw\": false}, \"fromcurrent\": true, \"mode\": \"immediate\", \"transition\": {\"duration\": 0, \"easing\": \"linear\"}}], \"label\": \"81\", \"method\": \"animate\"}, {\"args\": [[\"82\"], {\"frame\": {\"duration\": 0, \"redraw\": false}, \"fromcurrent\": true, \"mode\": \"immediate\", \"transition\": {\"duration\": 0, \"easing\": \"linear\"}}], \"label\": \"82\", \"method\": \"animate\"}, {\"args\": [[\"83\"], {\"frame\": {\"duration\": 0, \"redraw\": false}, \"fromcurrent\": true, \"mode\": \"immediate\", \"transition\": {\"duration\": 0, \"easing\": \"linear\"}}], \"label\": \"83\", \"method\": \"animate\"}, {\"args\": [[\"84\"], {\"frame\": {\"duration\": 0, \"redraw\": false}, \"fromcurrent\": true, \"mode\": \"immediate\", \"transition\": {\"duration\": 0, \"easing\": \"linear\"}}], \"label\": \"84\", \"method\": \"animate\"}, {\"args\": [[\"85\"], {\"frame\": {\"duration\": 0, \"redraw\": false}, \"fromcurrent\": true, \"mode\": \"immediate\", \"transition\": {\"duration\": 0, \"easing\": \"linear\"}}], \"label\": \"85\", \"method\": \"animate\"}, {\"args\": [[\"86\"], {\"frame\": {\"duration\": 0, \"redraw\": false}, \"fromcurrent\": true, \"mode\": \"immediate\", \"transition\": {\"duration\": 0, \"easing\": \"linear\"}}], \"label\": \"86\", \"method\": \"animate\"}, {\"args\": [[\"87\"], {\"frame\": {\"duration\": 0, \"redraw\": false}, \"fromcurrent\": true, \"mode\": \"immediate\", \"transition\": {\"duration\": 0, \"easing\": \"linear\"}}], \"label\": \"87\", \"method\": \"animate\"}, {\"args\": [[\"88\"], {\"frame\": {\"duration\": 0, \"redraw\": false}, \"fromcurrent\": true, \"mode\": \"immediate\", \"transition\": {\"duration\": 0, \"easing\": \"linear\"}}], \"label\": \"88\", \"method\": \"animate\"}, {\"args\": [[\"89\"], {\"frame\": {\"duration\": 0, \"redraw\": false}, \"fromcurrent\": true, \"mode\": \"immediate\", \"transition\": {\"duration\": 0, \"easing\": \"linear\"}}], \"label\": \"89\", \"method\": \"animate\"}, {\"args\": [[\"90\"], {\"frame\": {\"duration\": 0, \"redraw\": false}, \"fromcurrent\": true, \"mode\": \"immediate\", \"transition\": {\"duration\": 0, \"easing\": \"linear\"}}], \"label\": \"90\", \"method\": \"animate\"}, {\"args\": [[\"91\"], {\"frame\": {\"duration\": 0, \"redraw\": false}, \"fromcurrent\": true, \"mode\": \"immediate\", \"transition\": {\"duration\": 0, \"easing\": \"linear\"}}], \"label\": \"91\", \"method\": \"animate\"}, {\"args\": [[\"92\"], {\"frame\": {\"duration\": 0, \"redraw\": false}, \"fromcurrent\": true, \"mode\": \"immediate\", \"transition\": {\"duration\": 0, \"easing\": \"linear\"}}], \"label\": \"92\", \"method\": \"animate\"}, {\"args\": [[\"93\"], {\"frame\": {\"duration\": 0, \"redraw\": false}, \"fromcurrent\": true, \"mode\": \"immediate\", \"transition\": {\"duration\": 0, \"easing\": \"linear\"}}], \"label\": \"93\", \"method\": \"animate\"}, {\"args\": [[\"94\"], {\"frame\": {\"duration\": 0, \"redraw\": false}, \"fromcurrent\": true, \"mode\": \"immediate\", \"transition\": {\"duration\": 0, \"easing\": \"linear\"}}], \"label\": \"94\", \"method\": \"animate\"}, {\"args\": [[\"95\"], {\"frame\": {\"duration\": 0, \"redraw\": false}, \"fromcurrent\": true, \"mode\": \"immediate\", \"transition\": {\"duration\": 0, \"easing\": \"linear\"}}], \"label\": \"95\", \"method\": \"animate\"}, {\"args\": [[\"96\"], {\"frame\": {\"duration\": 0, \"redraw\": false}, \"fromcurrent\": true, \"mode\": \"immediate\", \"transition\": {\"duration\": 0, \"easing\": \"linear\"}}], \"label\": \"96\", \"method\": \"animate\"}, {\"args\": [[\"97\"], {\"frame\": {\"duration\": 0, \"redraw\": false}, \"fromcurrent\": true, \"mode\": \"immediate\", \"transition\": {\"duration\": 0, \"easing\": \"linear\"}}], \"label\": \"97\", \"method\": \"animate\"}, {\"args\": [[\"98\"], {\"frame\": {\"duration\": 0, \"redraw\": false}, \"fromcurrent\": true, \"mode\": \"immediate\", \"transition\": {\"duration\": 0, \"easing\": \"linear\"}}], \"label\": \"98\", \"method\": \"animate\"}, {\"args\": [[\"99\"], {\"frame\": {\"duration\": 0, \"redraw\": false}, \"fromcurrent\": true, \"mode\": \"immediate\", \"transition\": {\"duration\": 0, \"easing\": \"linear\"}}], \"label\": \"99\", \"method\": \"animate\"}], \"x\": 0.1, \"xanchor\": \"left\", \"y\": 0, \"yanchor\": \"top\"}], \"template\": {\"data\": {\"bar\": [{\"error_x\": {\"color\": \"#2a3f5f\"}, \"error_y\": {\"color\": \"#2a3f5f\"}, \"marker\": {\"line\": {\"color\": \"#E5ECF6\", \"width\": 0.5}}, \"type\": \"bar\"}], \"barpolar\": [{\"marker\": {\"line\": {\"color\": \"#E5ECF6\", \"width\": 0.5}}, \"type\": \"barpolar\"}], \"carpet\": [{\"aaxis\": {\"endlinecolor\": \"#2a3f5f\", \"gridcolor\": \"white\", \"linecolor\": \"white\", \"minorgridcolor\": \"white\", \"startlinecolor\": \"#2a3f5f\"}, \"baxis\": {\"endlinecolor\": \"#2a3f5f\", \"gridcolor\": \"white\", \"linecolor\": \"white\", \"minorgridcolor\": \"white\", \"startlinecolor\": \"#2a3f5f\"}, \"type\": \"carpet\"}], \"choropleth\": [{\"colorbar\": {\"outlinewidth\": 0, \"ticks\": \"\"}, \"type\": \"choropleth\"}], \"contour\": [{\"colorbar\": {\"outlinewidth\": 0, \"ticks\": \"\"}, \"colorscale\": [[0.0, \"#0d0887\"], [0.1111111111111111, \"#46039f\"], [0.2222222222222222, \"#7201a8\"], [0.3333333333333333, \"#9c179e\"], [0.4444444444444444, \"#bd3786\"], [0.5555555555555556, \"#d8576b\"], [0.6666666666666666, \"#ed7953\"], [0.7777777777777778, \"#fb9f3a\"], [0.8888888888888888, \"#fdca26\"], [1.0, \"#f0f921\"]], \"type\": \"contour\"}], \"contourcarpet\": [{\"colorbar\": {\"outlinewidth\": 0, \"ticks\": \"\"}, \"type\": \"contourcarpet\"}], \"heatmap\": [{\"colorbar\": {\"outlinewidth\": 0, \"ticks\": \"\"}, \"colorscale\": [[0.0, \"#0d0887\"], [0.1111111111111111, \"#46039f\"], [0.2222222222222222, \"#7201a8\"], [0.3333333333333333, \"#9c179e\"], [0.4444444444444444, \"#bd3786\"], [0.5555555555555556, \"#d8576b\"], [0.6666666666666666, \"#ed7953\"], [0.7777777777777778, \"#fb9f3a\"], [0.8888888888888888, \"#fdca26\"], [1.0, \"#f0f921\"]], \"type\": \"heatmap\"}], \"heatmapgl\": [{\"colorbar\": {\"outlinewidth\": 0, \"ticks\": \"\"}, \"colorscale\": [[0.0, \"#0d0887\"], [0.1111111111111111, \"#46039f\"], [0.2222222222222222, \"#7201a8\"], [0.3333333333333333, \"#9c179e\"], [0.4444444444444444, \"#bd3786\"], [0.5555555555555556, \"#d8576b\"], [0.6666666666666666, \"#ed7953\"], [0.7777777777777778, \"#fb9f3a\"], [0.8888888888888888, \"#fdca26\"], [1.0, \"#f0f921\"]], \"type\": \"heatmapgl\"}], \"histogram\": [{\"marker\": {\"colorbar\": {\"outlinewidth\": 0, \"ticks\": \"\"}}, \"type\": \"histogram\"}], \"histogram2d\": [{\"colorbar\": {\"outlinewidth\": 0, \"ticks\": \"\"}, \"colorscale\": [[0.0, \"#0d0887\"], [0.1111111111111111, \"#46039f\"], [0.2222222222222222, \"#7201a8\"], [0.3333333333333333, \"#9c179e\"], [0.4444444444444444, \"#bd3786\"], [0.5555555555555556, \"#d8576b\"], [0.6666666666666666, \"#ed7953\"], [0.7777777777777778, \"#fb9f3a\"], [0.8888888888888888, \"#fdca26\"], [1.0, \"#f0f921\"]], \"type\": \"histogram2d\"}], \"histogram2dcontour\": [{\"colorbar\": {\"outlinewidth\": 0, \"ticks\": \"\"}, \"colorscale\": [[0.0, \"#0d0887\"], [0.1111111111111111, \"#46039f\"], [0.2222222222222222, \"#7201a8\"], [0.3333333333333333, \"#9c179e\"], [0.4444444444444444, \"#bd3786\"], [0.5555555555555556, \"#d8576b\"], [0.6666666666666666, \"#ed7953\"], [0.7777777777777778, \"#fb9f3a\"], [0.8888888888888888, \"#fdca26\"], [1.0, \"#f0f921\"]], \"type\": \"histogram2dcontour\"}], \"mesh3d\": [{\"colorbar\": {\"outlinewidth\": 0, \"ticks\": \"\"}, \"type\": \"mesh3d\"}], \"parcoords\": [{\"line\": {\"colorbar\": {\"outlinewidth\": 0, \"ticks\": \"\"}}, \"type\": \"parcoords\"}], \"pie\": [{\"automargin\": true, \"type\": \"pie\"}], \"scatter\": [{\"marker\": {\"colorbar\": {\"outlinewidth\": 0, \"ticks\": \"\"}}, \"type\": \"scatter\"}], \"scatter3d\": [{\"line\": {\"colorbar\": {\"outlinewidth\": 0, \"ticks\": \"\"}}, \"marker\": {\"colorbar\": {\"outlinewidth\": 0, \"ticks\": \"\"}}, \"type\": \"scatter3d\"}], \"scattercarpet\": [{\"marker\": {\"colorbar\": {\"outlinewidth\": 0, \"ticks\": \"\"}}, \"type\": \"scattercarpet\"}], \"scattergeo\": [{\"marker\": {\"colorbar\": {\"outlinewidth\": 0, \"ticks\": \"\"}}, \"type\": \"scattergeo\"}], \"scattergl\": [{\"marker\": {\"colorbar\": {\"outlinewidth\": 0, \"ticks\": \"\"}}, \"type\": \"scattergl\"}], \"scattermapbox\": [{\"marker\": {\"colorbar\": {\"outlinewidth\": 0, \"ticks\": \"\"}}, \"type\": \"scattermapbox\"}], \"scatterpolar\": [{\"marker\": {\"colorbar\": {\"outlinewidth\": 0, \"ticks\": \"\"}}, \"type\": \"scatterpolar\"}], \"scatterpolargl\": [{\"marker\": {\"colorbar\": {\"outlinewidth\": 0, \"ticks\": \"\"}}, \"type\": \"scatterpolargl\"}], \"scatterternary\": [{\"marker\": {\"colorbar\": {\"outlinewidth\": 0, \"ticks\": \"\"}}, \"type\": \"scatterternary\"}], \"surface\": [{\"colorbar\": {\"outlinewidth\": 0, \"ticks\": \"\"}, \"colorscale\": [[0.0, \"#0d0887\"], [0.1111111111111111, \"#46039f\"], [0.2222222222222222, \"#7201a8\"], [0.3333333333333333, \"#9c179e\"], [0.4444444444444444, \"#bd3786\"], [0.5555555555555556, \"#d8576b\"], [0.6666666666666666, \"#ed7953\"], [0.7777777777777778, \"#fb9f3a\"], [0.8888888888888888, \"#fdca26\"], [1.0, \"#f0f921\"]], \"type\": \"surface\"}], \"table\": [{\"cells\": {\"fill\": {\"color\": \"#EBF0F8\"}, \"line\": {\"color\": \"white\"}}, \"header\": {\"fill\": {\"color\": \"#C8D4E3\"}, \"line\": {\"color\": \"white\"}}, \"type\": \"table\"}]}, \"layout\": {\"annotationdefaults\": {\"arrowcolor\": \"#2a3f5f\", \"arrowhead\": 0, \"arrowwidth\": 1}, \"coloraxis\": {\"colorbar\": {\"outlinewidth\": 0, \"ticks\": \"\"}}, \"colorscale\": {\"diverging\": [[0, \"#8e0152\"], [0.1, \"#c51b7d\"], [0.2, \"#de77ae\"], [0.3, \"#f1b6da\"], [0.4, \"#fde0ef\"], [0.5, \"#f7f7f7\"], [0.6, \"#e6f5d0\"], [0.7, \"#b8e186\"], [0.8, \"#7fbc41\"], [0.9, \"#4d9221\"], [1, \"#276419\"]], \"sequential\": [[0.0, \"#0d0887\"], [0.1111111111111111, \"#46039f\"], [0.2222222222222222, \"#7201a8\"], [0.3333333333333333, \"#9c179e\"], [0.4444444444444444, \"#bd3786\"], [0.5555555555555556, \"#d8576b\"], [0.6666666666666666, \"#ed7953\"], [0.7777777777777778, \"#fb9f3a\"], [0.8888888888888888, \"#fdca26\"], [1.0, \"#f0f921\"]], \"sequentialminus\": [[0.0, \"#0d0887\"], [0.1111111111111111, \"#46039f\"], [0.2222222222222222, \"#7201a8\"], [0.3333333333333333, \"#9c179e\"], [0.4444444444444444, \"#bd3786\"], [0.5555555555555556, \"#d8576b\"], [0.6666666666666666, \"#ed7953\"], [0.7777777777777778, \"#fb9f3a\"], [0.8888888888888888, \"#fdca26\"], [1.0, \"#f0f921\"]]}, \"colorway\": [\"#636efa\", \"#EF553B\", \"#00cc96\", \"#ab63fa\", \"#FFA15A\", \"#19d3f3\", \"#FF6692\", \"#B6E880\", \"#FF97FF\", \"#FECB52\"], \"font\": {\"color\": \"#2a3f5f\"}, \"geo\": {\"bgcolor\": \"white\", \"lakecolor\": \"white\", \"landcolor\": \"#E5ECF6\", \"showlakes\": true, \"showland\": true, \"subunitcolor\": \"white\"}, \"hoverlabel\": {\"align\": \"left\"}, \"hovermode\": \"closest\", \"mapbox\": {\"style\": \"light\"}, \"paper_bgcolor\": \"white\", \"plot_bgcolor\": \"#E5ECF6\", \"polar\": {\"angularaxis\": {\"gridcolor\": \"white\", \"linecolor\": \"white\", \"ticks\": \"\"}, \"bgcolor\": \"#E5ECF6\", \"radialaxis\": {\"gridcolor\": \"white\", \"linecolor\": \"white\", \"ticks\": \"\"}}, \"scene\": {\"xaxis\": {\"backgroundcolor\": \"#E5ECF6\", \"gridcolor\": \"white\", \"gridwidth\": 2, \"linecolor\": \"white\", \"showbackground\": true, \"ticks\": \"\", \"zerolinecolor\": \"white\"}, \"yaxis\": {\"backgroundcolor\": \"#E5ECF6\", \"gridcolor\": \"white\", \"gridwidth\": 2, \"linecolor\": \"white\", \"showbackground\": true, \"ticks\": \"\", \"zerolinecolor\": \"white\"}, \"zaxis\": {\"backgroundcolor\": \"#E5ECF6\", \"gridcolor\": \"white\", \"gridwidth\": 2, \"linecolor\": \"white\", \"showbackground\": true, \"ticks\": \"\", \"zerolinecolor\": \"white\"}}, \"shapedefaults\": {\"line\": {\"color\": \"#2a3f5f\"}}, \"ternary\": {\"aaxis\": {\"gridcolor\": \"white\", \"linecolor\": \"white\", \"ticks\": \"\"}, \"baxis\": {\"gridcolor\": \"white\", \"linecolor\": \"white\", \"ticks\": \"\"}, \"bgcolor\": \"#E5ECF6\", \"caxis\": {\"gridcolor\": \"white\", \"linecolor\": \"white\", \"ticks\": \"\"}}, \"title\": {\"x\": 0.05}, \"xaxis\": {\"automargin\": true, \"gridcolor\": \"white\", \"linecolor\": \"white\", \"ticks\": \"\", \"title\": {\"standoff\": 15}, \"zerolinecolor\": \"white\", \"zerolinewidth\": 2}, \"yaxis\": {\"automargin\": true, \"gridcolor\": \"white\", \"linecolor\": \"white\", \"ticks\": \"\", \"title\": {\"standoff\": 15}, \"zerolinecolor\": \"white\", \"zerolinewidth\": 2}}}, \"updatemenus\": [{\"buttons\": [{\"args\": [null, {\"frame\": {\"duration\": 500, \"redraw\": false}, \"fromcurrent\": true, \"mode\": \"immediate\", \"transition\": {\"duration\": 500, \"easing\": \"linear\"}}], \"label\": \"&#9654;\", \"method\": \"animate\"}, {\"args\": [[null], {\"frame\": {\"duration\": 0, \"redraw\": false}, \"fromcurrent\": true, \"mode\": \"immediate\", \"transition\": {\"duration\": 0, \"easing\": \"linear\"}}], \"label\": \"&#9724;\", \"method\": \"animate\"}], \"direction\": \"left\", \"pad\": {\"r\": 10, \"t\": 70}, \"showactive\": false, \"type\": \"buttons\", \"x\": 0.1, \"xanchor\": \"right\", \"y\": 0, \"yanchor\": \"top\"}], \"xaxis\": {\"anchor\": \"y\", \"domain\": [0.0, 1.0], \"range\": [1, 761], \"title\": {\"text\": \"Length\"}}, \"yaxis\": {\"anchor\": \"x\", \"domain\": [0.0, 1.0], \"title\": {\"text\": \"%Homochirality\"}}},\n",
              "                        {\"responsive\": true}\n",
              "                    ).then(function(){\n",
              "                            Plotly.addFrames('70e985ae-d304-44a6-a5e2-c3450d677b42', [{\"data\": [{\"hoverlabel\": {\"namelength\": 0}, \"hovertemplate\": \"<b>%{hovertext}</b><br><br>Age=0<br>Length=%{x}<br>%Homochirality=%{y}\", \"hovertext\": [null, null, null, null, null, null, null, null, null, null, null, null, null, null, null, null, null, null, null, null, null, null, null, null, null, null, null, null, null, null, null, null, null, null, null, null, null, null, null, null, null, null, null, null, null, null, null, null, null, null, null, null, null, null, null, null, null, null, null, null, null, null, null, null, null, null, null, null, null, null, null, null, null, null, null, null, null, null, null, null, null, null, null, null, null, null, null, null, null, null, null, null, null, null, null, null, null, null, null, null, null, null, null, null, null, null, null, null, null, null, null, null, null, null, null, null, null, null, null, null, null, null, null, null, null, null, null, null, null, null, null, null, null, null, null, null, null, null, null, null, null, null, null, null, null, null, null, null, null, null, null, null, null, null, null, null, null, null, null, null, null, null, null, null, null, null, null, null, null, null, null, null, null, null, null, null, null, null, null, null, null, null, null, null, null, null, null, null, null, null, null, null, null, null, null, null, null, null, null, null, null, null, null, null, null, null, null, null, null, null, null, null, null, null, null, null, null, null, null, null, null, null, null, null, null, null, null, null, null, null, null, null, null, null, null, null, null, null, null, null, null, null, null, null, null, null, null, null, null, null, null, null, null, null, null, null, null, null, null, null, null, null, null, null, null, null, null, null, null, null, null, null, null, null, null, null, null, null, null, null, null, null, null, null, null, null, null, null, null, null, null, null, null, null, null, null, null, null, null, null, null, null, null, null, null, null, null, null, null, null, null, null, null, null, null, null, null, null, null, null, null, null, null, null, null, null, null, null, null, null, null, null, null, null, null, null, null, null, null, null, null, null, null, null, null, null, null, null, null, null, null, null, null, null, null, null, null, null, null, null, null, null, null, null, null, null, null, null, null, null, null, null, null, null, null, null, null, null, null, null, null, null, null, null, null, null, null, null, null, null, null, null, null, null, null, null, null, null, null, null, null, null, null, null, null, null, null, null, null, null, null, null, null, null, null, null, null, null, null, null, null, null, null, null, null, null, null, null, null, null, null, null, null, null, null, null, null, null, null, null, null, null, null, null, null, null, null, null, null, null, null, null, null, null, null, null, null, null, null, null, null, null, null, null, null, null, null, null, null, null, null, null, null, null, null, null, null, null, null, null, null, null, null, null, null, null, null, null, null, null, null, null, null, null, null, null, null, null, null, null, null, null, null, null, 1.0, 1.0, 1.0, 1.0, 1.0, 0.0, 1.0, 0.0, 0.0, 0.0, 1.0, 1.0, 1.0, 0.0, 1.0, 0.0, 1.0, 1.0, 1.0, 0.0, 1.0, 1.0, 1.0, 0.0, 0.0, 0.0, 0.0, 0.0, 0.0, 1.0, 0.0, 0.0, 1.0, 1.0, 1.0, 0.0, 0.0, 1.0, 1.0, 0.0, 0.0, 1.0, 0.0, 1.0, 0.0, 0.0, 0.0, 1.0, 1.0, 1.0, 0.0, 0.0, 1.0, 1.0, 1.0, 0.0, 1.0, 0.0, 1.0, 0.0, 1.0, 0.0, 1.0, 1.0, 0.0, 1.0, 1.0, 1.0, 1.0, 1.0, 0.0, 0.0, 1.0, 0.0, 1.0, 1.0, 1.0, 0.0, 1.0, 1.0, 1.0, 1.0, 0.0, 1.0, 0.0, 1.0, 1.0, 0.0, 1.0, 1.0, 0.0, 1.0, 0.0, 0.0, 0.0, 1.0, 1.0, 0.0, 0.0, 1.0, 0.0, 1.0, 0.0, 1.0, 0.0, 0.0, 1.0, 0.0, 1.0, 0.0, 1.0, 1.0, 0.0, 0.0, 1.0, 1.0, 1.0, 0.0, 1.0, 0.0, 1.0, 0.0, 1.0, 1.0, 0.0, 0.0, 0.0, 0.0, 0.0, 1.0, 0.0, 0.0, 1.0, 0.0, 1.0, 1.0, 1.0, 1.0, 1.0, 0.0, 1.0, 1.0, 0.0, 0.0, 1.0, 1.0, 0.0, 1.0, 1.0, 1.0, 1.0, 1.0, 1.0, 0.0, 1.0, 1.0, 1.0, 0.0, 0.0, 1.0, 1.0, 0.0, 1.0, 0.0, 0.0, 0.0, 0.0, 0.0, 1.0, 1.0, 0.0, 1.0, 1.0, 0.0, 0.0, 1.0, 1.0, 0.0, 1.0, 0.0, 1.0, 0.0, 0.0, 1.0, 1.0, 0.0, 1.0, 1.0, 0.0, 0.0, 1.0, 0.0, 1.0, 0.0, 0.0, 0.0, 0.0, 0.0, 0.0, 0.0, 1.0, 0.0, 1.0, 0.0, 1.0, 0.0, 1.0, 0.0, 0.0, 0.0, 1.0, 1.0, 1.0, 1.0, 0.0, 0.0, 1.0, 0.0, 1.0, 0.0, 1.0, 0.0, 1.0, 1.0, 1.0, 1.0, 1.0, 0.0, 1.0, 0.0, 1.0, 0.0, 0.0, 0.0, 0.0, 0.0, 0.0, 0.0, 0.0, 0.0, 0.0, 0.0, 1.0, 0.0, 0.0, 0.0, 1.0, 0.0, 0.0, 0.0, 0.0, 1.0, 1.0, 1.0, 1.0, 1.0, 0.0, 0.0, 0.0, 1.0, 0.0, 1.0, 0.0, 1.0, 1.0, 0.0, 0.0, 1.0, 0.0, 0.0, 0.0, 1.0, 0.0, 1.0, 0.0, 1.0, 1.0, 0.0, 1.0, 0.0, 0.0, 0.0, 1.0, 0.0, 0.0, 1.0, 0.0, 0.0, 1.0, 0.0, 1.0, 0.0, 0.0, 0.0, 1.0, 1.0, 1.0, 1.0, 0.0, 0.0, 0.0], \"legendgroup\": \"\", \"marker\": {\"color\": \"#636efa\", \"symbol\": \"circle\"}, \"mode\": \"markers\", \"name\": \"\", \"showlegend\": false, \"x\": [1, 1, 1, 1, 1, 1, 1, 1, 1, 1, 1, 1, 1, 1, 1, 1, 1, 1, 1, 1, 1, 1, 1, 1, 1, 1, 1, 1, 1, 1, 1, 1, 1, 1, 1, 1, 1, 1, 1, 1, 1, 1, 1, 1, 1, 1, 1, 1, 1, 1, 1, 1, 1, 1, 1, 1, 1, 1, 1, 1, 1, 1, 1, 1, 1, 1, 1, 1, 1, 1, 1, 1, 1, 1, 1, 1, 1, 1, 1, 1, 1, 1, 1, 1, 1, 1, 1, 1, 1, 1, 1, 1, 1, 1, 1, 1, 1, 1, 1, 1, 1, 1, 1, 1, 1, 1, 1, 1, 1, 1, 1, 1, 1, 1, 1, 1, 1, 1, 1, 1, 1, 1, 1, 1, 1, 1, 1, 1, 1, 1, 1, 1, 1, 1, 1, 1, 1, 1, 1, 1, 1, 1, 1, 1, 1, 1, 1, 1, 1, 1, 1, 1, 1, 1, 1, 1, 1, 1, 1, 1, 1, 1, 1, 1, 1, 1, 1, 1, 1, 1, 1, 1, 1, 1, 1, 1, 1, 1, 1, 1, 1, 1, 1, 1, 1, 1, 1, 1, 1, 1, 1, 1, 1, 1, 1, 1, 1, 1, 1, 1, 1, 1, 1, 1, 1, 1, 1, 1, 1, 1, 1, 1, 1, 1, 1, 1, 1, 1, 1, 1, 1, 1, 1, 1, 1, 1, 1, 1, 1, 1, 1, 1, 1, 1, 1, 1, 1, 1, 1, 1, 1, 1, 1, 1, 1, 1, 1, 1, 1, 1, 1, 1, 1, 1, 1, 1, 1, 1, 1, 1, 1, 1, 1, 1, 1, 1, 1, 1, 1, 1, 1, 1, 1, 1, 1, 1, 1, 1, 1, 1, 1, 1, 1, 1, 1, 1, 1, 1, 1, 1, 1, 1, 1, 1, 1, 1, 1, 1, 1, 1, 1, 1, 1, 1, 1, 1, 1, 1, 1, 1, 1, 1, 1, 1, 1, 1, 1, 1, 1, 1, 1, 1, 1, 1, 1, 1, 1, 1, 1, 1, 1, 1, 1, 1, 1, 1, 1, 1, 1, 1, 1, 1, 1, 1, 1, 1, 1, 1, 1, 1, 1, 1, 1, 1, 1, 1, 1, 1, 1, 1, 1, 1, 1, 1, 1, 1, 1, 1, 1, 1, 1, 1, 1, 1, 1, 1, 1, 1, 1, 1, 1, 1, 1, 1, 1, 1, 1, 1, 1, 1, 1, 1, 1, 1, 1, 1, 1, 1, 1, 1, 1, 1, 1, 1, 1, 1, 1, 1, 1, 1, 1, 1, 1, 1, 1, 1, 1, 1, 1, 1, 1, 1, 1, 1, 1, 1, 1, 1, 1, 1, 1, 1, 1, 1, 1, 1, 1, 1, 1, 1, 1, 1, 1, 1, 1, 1, 1, 1, 1, 1, 1, 1, 1, 1, 1, 1, 1, 1, 1, 1, 1, 1, 1, 1, 1, 1, 1, 1, 1, 1, 1, 1, 1, 1, 1, 1, 1, 1, 1, 1, 1, 1, 1, 1, 1, 1, 1, 1, 1, 1, 1, 1, 1, 1, 1, 1, 1, 1, 1, 1, 1, 1, 1, 1, 2, 2, 2, 2, 2, 2, 2, 2, 2, 2, 2, 2, 2, 2, 2, 2, 2, 2, 2, 2, 2, 2, 2, 2, 2, 2, 2, 2, 2, 2, 2, 2, 2, 2, 2, 2, 2, 2, 2, 2, 2, 2, 2, 2, 2, 2, 2, 2, 2, 2, 2, 2, 2, 2, 2, 2, 2, 2, 2, 2, 2, 2, 2, 2, 2, 2, 2, 2, 2, 2, 2, 2, 2, 2, 2, 2, 2, 2, 2, 2, 2, 2, 2, 2, 2, 2, 2, 2, 2, 2, 2, 2, 2, 2, 2, 2, 2, 2, 2, 2, 2, 2, 2, 2, 2, 2, 2, 2, 2, 2, 2, 2, 2, 2, 2, 2, 2, 2, 2, 2, 2, 2, 2, 2, 2, 2, 2, 2, 2, 2, 2, 2, 2, 2, 2, 2, 2, 2, 2, 2, 2, 2, 2, 2, 2, 2, 2, 2, 2, 2, 2, 2, 2, 2, 2, 2, 2, 2, 2, 2, 2, 2, 2, 2, 2, 2, 2, 2, 2, 2, 2, 2, 2, 2, 2, 2, 2, 2, 2, 2, 2, 2, 2, 2, 2, 2, 2, 2, 2, 2, 2, 2, 2, 2, 2, 2, 2, 2, 2, 2, 2, 2, 2, 2, 2, 2, 2, 2, 2, 2, 2, 2, 2, 2, 2, 2, 2, 2, 2, 2, 2, 2, 2, 2, 2, 2, 2, 2, 2, 2, 2, 2, 2, 2, 2, 2, 2, 2, 2, 2, 2, 2, 2, 2, 2, 2, 2, 2, 2, 2, 2, 2, 2, 2, 2, 2, 2, 2, 2, 2, 2, 2, 2, 2, 2, 2, 2, 2, 2, 2, 2, 2, 2, 2, 2, 2, 2, 2, 2, 2, 2, 2, 2, 2, 2, 2, 2, 2, 2, 2, 2, 2, 2, 2, 2, 2, 2, 2, 2, 2, 2], \"xaxis\": \"x\", \"y\": [null, null, null, null, null, null, null, null, null, null, null, null, null, null, null, null, null, null, null, null, null, null, null, null, null, null, null, null, null, null, null, null, null, null, null, null, null, null, null, null, null, null, null, null, null, null, null, null, null, null, null, null, null, null, null, null, null, null, null, null, null, null, null, null, null, null, null, null, null, null, null, null, null, null, null, null, null, null, null, null, null, null, null, null, null, null, null, null, null, null, null, null, null, null, null, null, null, null, null, null, null, null, null, null, null, null, null, null, null, null, null, null, null, null, null, null, null, null, null, null, null, null, null, null, null, null, null, null, null, null, null, null, null, null, null, null, null, null, null, null, null, null, null, null, null, null, null, null, null, null, null, null, null, null, null, null, null, null, null, null, null, null, null, null, null, null, null, null, null, null, null, null, null, null, null, null, null, null, null, null, null, null, null, null, null, null, null, null, null, null, null, null, null, null, null, null, null, null, null, null, null, null, null, null, null, null, null, null, null, null, null, null, null, null, null, null, null, null, null, null, null, null, null, null, null, null, null, null, null, null, null, null, null, null, null, null, null, null, null, null, null, null, null, null, null, null, null, null, null, null, null, null, null, null, null, null, null, null, null, null, null, null, null, null, null, null, null, null, null, null, null, null, null, null, null, null, null, null, null, null, null, null, null, null, null, null, null, null, null, null, null, null, null, null, null, null, null, null, null, null, null, null, null, null, null, null, null, null, null, null, null, null, null, null, null, null, null, null, null, null, null, null, null, null, null, null, null, null, null, null, null, null, null, null, null, null, null, null, null, null, null, null, null, null, null, null, null, null, null, null, null, null, null, null, null, null, null, null, null, null, null, null, null, null, null, null, null, null, null, null, null, null, null, null, null, null, null, null, null, null, null, null, null, null, null, null, null, null, null, null, null, null, null, null, null, null, null, null, null, null, null, null, null, null, null, null, null, null, null, null, null, null, null, null, null, null, null, null, null, null, null, null, null, null, null, null, null, null, null, null, null, null, null, null, null, null, null, null, null, null, null, null, null, null, null, null, null, null, null, null, null, null, null, null, null, null, null, null, null, null, null, null, null, null, null, null, null, null, null, null, null, null, null, null, null, null, null, null, null, null, null, null, null, null, null, null, null, null, null, null, null, null, null, null, null, null, null, null, null, null, null, null, null, null, 1.0, 1.0, 1.0, 1.0, 1.0, 0.0, 1.0, 0.0, 0.0, 0.0, 1.0, 1.0, 1.0, 0.0, 1.0, 0.0, 1.0, 1.0, 1.0, 0.0, 1.0, 1.0, 1.0, 0.0, 0.0, 0.0, 0.0, 0.0, 0.0, 1.0, 0.0, 0.0, 1.0, 1.0, 1.0, 0.0, 0.0, 1.0, 1.0, 0.0, 0.0, 1.0, 0.0, 1.0, 0.0, 0.0, 0.0, 1.0, 1.0, 1.0, 0.0, 0.0, 1.0, 1.0, 1.0, 0.0, 1.0, 0.0, 1.0, 0.0, 1.0, 0.0, 1.0, 1.0, 0.0, 1.0, 1.0, 1.0, 1.0, 1.0, 0.0, 0.0, 1.0, 0.0, 1.0, 1.0, 1.0, 0.0, 1.0, 1.0, 1.0, 1.0, 0.0, 1.0, 0.0, 1.0, 1.0, 0.0, 1.0, 1.0, 0.0, 1.0, 0.0, 0.0, 0.0, 1.0, 1.0, 0.0, 0.0, 1.0, 0.0, 1.0, 0.0, 1.0, 0.0, 0.0, 1.0, 0.0, 1.0, 0.0, 1.0, 1.0, 0.0, 0.0, 1.0, 1.0, 1.0, 0.0, 1.0, 0.0, 1.0, 0.0, 1.0, 1.0, 0.0, 0.0, 0.0, 0.0, 0.0, 1.0, 0.0, 0.0, 1.0, 0.0, 1.0, 1.0, 1.0, 1.0, 1.0, 0.0, 1.0, 1.0, 0.0, 0.0, 1.0, 1.0, 0.0, 1.0, 1.0, 1.0, 1.0, 1.0, 1.0, 0.0, 1.0, 1.0, 1.0, 0.0, 0.0, 1.0, 1.0, 0.0, 1.0, 0.0, 0.0, 0.0, 0.0, 0.0, 1.0, 1.0, 0.0, 1.0, 1.0, 0.0, 0.0, 1.0, 1.0, 0.0, 1.0, 0.0, 1.0, 0.0, 0.0, 1.0, 1.0, 0.0, 1.0, 1.0, 0.0, 0.0, 1.0, 0.0, 1.0, 0.0, 0.0, 0.0, 0.0, 0.0, 0.0, 0.0, 1.0, 0.0, 1.0, 0.0, 1.0, 0.0, 1.0, 0.0, 0.0, 0.0, 1.0, 1.0, 1.0, 1.0, 0.0, 0.0, 1.0, 0.0, 1.0, 0.0, 1.0, 0.0, 1.0, 1.0, 1.0, 1.0, 1.0, 0.0, 1.0, 0.0, 1.0, 0.0, 0.0, 0.0, 0.0, 0.0, 0.0, 0.0, 0.0, 0.0, 0.0, 0.0, 1.0, 0.0, 0.0, 0.0, 1.0, 0.0, 0.0, 0.0, 0.0, 1.0, 1.0, 1.0, 1.0, 1.0, 0.0, 0.0, 0.0, 1.0, 0.0, 1.0, 0.0, 1.0, 1.0, 0.0, 0.0, 1.0, 0.0, 0.0, 0.0, 1.0, 0.0, 1.0, 0.0, 1.0, 1.0, 0.0, 1.0, 0.0, 0.0, 0.0, 1.0, 0.0, 0.0, 1.0, 0.0, 0.0, 1.0, 0.0, 1.0, 0.0, 0.0, 0.0, 1.0, 1.0, 1.0, 1.0, 0.0, 0.0, 0.0], \"yaxis\": \"y\", \"type\": \"scatter\"}], \"name\": \"0\"}, {\"data\": [{\"hoverlabel\": {\"namelength\": 0}, \"hovertemplate\": \"<b>%{hovertext}</b><br><br>Age=1<br>Length=%{x}<br>%Homochirality=%{y}\", \"hovertext\": [null, null, null, 0.5, 0.0, 0.0, null, null, null, null, null, 1.0, null, null, null, null, 1.0, null, null, null, null, null, null, null, null, null, 0.5, null, null, null, null, null, null, null, null, null, 1.0, null, null, 1.0, null, null, null, null, null, null, null, null, null, null, 0.0, null, null, 0.5, null, null, null, null, null, null, 0.5, null, null, null, null, 0.0, 1.0, 0.0, 0.6666666666666666, null, null, null, null, null, null, null, null, null, null, 1.0, 0.5, null, null, null, null, 0.5, null, null, null, null, null, null, null, null, 0.5, null, 0.3333333333333333, null, null, null, null, 0.0, null, 1.0, null, null, 0.0, null, 0.0, null, null, 0.5, null, 1.0, null, null, null, 1.0, null, null, null, null, null, 0.5, null, null, null, null, null, null, 1.0, null, null, null, null, null, 1.0, 1.0, 1.0, null, null, null, 0.0, null, null, null, null, 1.0, null, null, null, null, null, null, 1.0, null, null, 0.0, null, null, null, null, null, null, null, null, null, null, null, 0.0, null, null, 0.0, null, null, null, null, null, null, null, null, 1.0, null, null, null, null, null, null, null, null, 1.0, null, 0.5, null, null, 0.0, null, null, null, null, null, null, 0.3333333333333333, null, null, null, null, null, null, null, null, null, null, null, null, null, null, null, null, null, 1.0, null, null, null, 0.5, 1.0, null, null, null, null, null, null, null, null, null, null, null, null, null, null, 0.0, null, 1.0, null, 0.3333333333333333, null, null, null, null, null, null, 0.6666666666666666, null, null, null, 1.0, null, null, null, null, null, null, null, 0.5, null, null, null, null, null, null, null, null, null, null, null, null, 0.6666666666666666, null, 1.0, null, null, null, null, null, null, null, null, null, null, 1.0, null, null, 0.0, null, 0.5, null, null, 0.5, 1.0, null, null, null, null, null, 1.0, null, null, null, 0.5, null, null, null, null, 0.0, 0.0, null, null, null, null, null, null, null, null, null, null, null, null, null, null, null, null, null, null, null, null, null, null, null, null, null, null, null, null, 0.5, null, null, null, null, null, null, null, null, null, null, 1.0, 1.0, null, null, null, null, null, null, null, null, null, null, null, null, null, 0.5, null, null, null, 1.0, null, null, null, null, null, 1.0, null, null, null, null, null, null, null, 0.5, null, 0.5, null, null, null, 1.0, null, null, null, null, null, null, null, null, 0.5, null, null, null, null, null, null, null, null, null, null, null, null, null, null, null, null, 1.0, null, null, 0.0, null, null, null, null, null, null, 0.5, null, null, null, null, 1.0, 0.0, 0.5, null, null, 0.5, null, null, 0.0, 0.0, null, null, null, null, null, null, 0.5, 0.5, 0.5, null, null, 1.0, 0.5, 0.5, null, null, 0.5, 0.0, null, null, 1.0, 0.5, null, null, 1.0, null, null, 0.5, 0.5, null, null, 0.5, 0.0, 0.5, 0.5, null, null, null, null, null, null, 1.0, 0.5, 1.0, 1.0, 1.0, 0.6666666666666666, 0.5, 1.0, 1.0, 1.0, 1.0, 0.5, 0.6666666666666666, 0.5, 1.0, 0.0, 0.3333333333333333, 0.0, 0.0, 1.0, 1.0, 0.5, 0.5, 0.0, 0.0, 1.0, 1.0, 1.0, 0.5, 0.0, 1.0, 1.0, 0.6666666666666666, 0.0, 0.6666666666666666, 0.0, 1.0, 1.0, 1.0, 0.0, 1.0, 1.0, 0.0, 0.5, 0.5, 0.5, 0.0, 0.5, 0.5, 0.0, 0.3333333333333333, 0.0, 0.0, 0.5, 1.0, 0.5, 0.0, 0.5, 0.0, 0.0, 0.5, 0.0, 0.0, 1.0, 0.0, 0.5, 0.0, 1.0, 0.0, 0.0, 0.0, 1.0, 1.0, 1.0, 0.0, 0.0, 0.0, 1.0, 1.0, 0.5, 0.0, 0.0, 0.0, 0.0, 0.0, 0.0, 1.0, 1.0, 1.0, 0.0], \"legendgroup\": \"\", \"marker\": {\"color\": \"#636efa\", \"symbol\": \"circle\"}, \"mode\": \"markers\", \"name\": \"\", \"showlegend\": false, \"x\": [1, 1, 1, 3, 3, 2, 1, 1, 1, 1, 1, 3, 1, 1, 1, 1, 4, 1, 1, 1, 1, 1, 1, 1, 1, 1, 3, 1, 1, 1, 1, 1, 1, 1, 1, 1, 3, 1, 1, 2, 1, 1, 1, 1, 1, 1, 1, 1, 1, 1, 4, 1, 1, 3, 1, 1, 1, 1, 1, 1, 3, 1, 1, 1, 1, 2, 2, 2, 4, 1, 1, 1, 1, 1, 1, 1, 1, 1, 1, 2, 3, 1, 1, 1, 1, 3, 1, 1, 1, 1, 1, 1, 1, 1, 3, 1, 4, 1, 1, 1, 1, 2, 1, 3, 1, 1, 2, 1, 3, 1, 1, 3, 1, 2, 1, 1, 1, 3, 1, 1, 1, 1, 1, 3, 1, 1, 1, 1, 1, 1, 2, 1, 1, 1, 1, 1, 2, 2, 4, 1, 1, 1, 2, 1, 1, 1, 1, 2, 1, 1, 1, 1, 1, 1, 2, 1, 1, 2, 1, 1, 1, 1, 1, 1, 1, 1, 1, 1, 1, 2, 1, 1, 3, 1, 1, 1, 1, 1, 1, 1, 1, 3, 1, 1, 1, 1, 1, 1, 1, 1, 3, 1, 3, 1, 1, 2, 1, 1, 1, 1, 1, 1, 4, 1, 1, 1, 1, 1, 1, 1, 1, 1, 1, 1, 1, 1, 1, 1, 1, 1, 2, 1, 1, 1, 3, 2, 1, 1, 1, 1, 1, 1, 1, 1, 1, 1, 1, 1, 1, 1, 3, 1, 3, 1, 4, 1, 1, 1, 1, 1, 1, 4, 1, 1, 1, 2, 1, 1, 1, 1, 1, 1, 1, 3, 1, 1, 1, 1, 1, 1, 1, 1, 1, 1, 1, 1, 4, 1, 2, 1, 1, 1, 1, 1, 1, 1, 1, 1, 1, 3, 1, 1, 4, 1, 3, 1, 1, 3, 2, 1, 1, 1, 1, 1, 2, 1, 1, 1, 3, 1, 1, 1, 1, 3, 3, 1, 1, 1, 1, 1, 1, 1, 1, 1, 1, 1, 1, 1, 1, 1, 1, 1, 1, 1, 1, 1, 1, 1, 1, 1, 1, 1, 1, 3, 1, 1, 1, 1, 1, 1, 1, 1, 1, 1, 2, 3, 1, 1, 1, 1, 1, 1, 1, 1, 1, 1, 1, 1, 1, 3, 1, 1, 1, 2, 1, 1, 1, 1, 1, 2, 1, 1, 1, 1, 1, 1, 1, 3, 1, 3, 1, 1, 1, 2, 1, 1, 1, 1, 1, 1, 1, 1, 3, 1, 1, 1, 1, 1, 1, 1, 1, 1, 1, 1, 1, 1, 1, 1, 1, 2, 1, 1, 3, 1, 1, 1, 1, 1, 1, 3, 1, 1, 1, 1, 3, 3, 3, 1, 1, 3, 1, 1, 3, 3, 1, 1, 1, 1, 1, 1, 3, 3, 3, 1, 1, 3, 3, 3, 1, 1, 3, 3, 1, 1, 3, 3, 1, 1, 3, 1, 1, 3, 3, 1, 1, 3, 3, 3, 3, 1, 1, 1, 1, 1, 1, 2, 3, 3, 2, 3, 4, 3, 2, 2, 3, 2, 3, 4, 3, 2, 3, 4, 2, 3, 2, 2, 3, 3, 3, 3, 3, 3, 3, 3, 3, 2, 2, 4, 2, 4, 2, 2, 2, 2, 2, 2, 2, 3, 3, 3, 3, 3, 3, 3, 2, 4, 3, 2, 3, 2, 3, 3, 3, 2, 3, 3, 2, 4, 2, 2, 3, 2, 2, 3, 3, 3, 2, 2, 3, 3, 3, 3, 2, 2, 3, 2, 2, 2, 3, 3, 3, 2, 2, 2, 2], \"xaxis\": \"x\", \"y\": [null, null, null, 0.5, 0.0, 0.0, null, null, null, null, null, 1.0, null, null, null, null, 1.0, null, null, null, null, null, null, null, null, null, 0.5, null, null, null, null, null, null, null, null, null, 1.0, null, null, 1.0, null, null, null, null, null, null, null, null, null, null, 0.0, null, null, 0.5, null, null, null, null, null, null, 0.5, null, null, null, null, 0.0, 1.0, 0.0, 0.6666666666666666, null, null, null, null, null, null, null, null, null, null, 1.0, 0.5, null, null, null, null, 0.5, null, null, null, null, null, null, null, null, 0.5, null, 0.3333333333333333, null, null, null, null, 0.0, null, 1.0, null, null, 0.0, null, 0.0, null, null, 0.5, null, 1.0, null, null, null, 1.0, null, null, null, null, null, 0.5, null, null, null, null, null, null, 1.0, null, null, null, null, null, 1.0, 1.0, 1.0, null, null, null, 0.0, null, null, null, null, 1.0, null, null, null, null, null, null, 1.0, null, null, 0.0, null, null, null, null, null, null, null, null, null, null, null, 0.0, null, null, 0.0, null, null, null, null, null, null, null, null, 1.0, null, null, null, null, null, null, null, null, 1.0, null, 0.5, null, null, 0.0, null, null, null, null, null, null, 0.3333333333333333, null, null, null, null, null, null, null, null, null, null, null, null, null, null, null, null, null, 1.0, null, null, null, 0.5, 1.0, null, null, null, null, null, null, null, null, null, null, null, null, null, null, 0.0, null, 1.0, null, 0.3333333333333333, null, null, null, null, null, null, 0.6666666666666666, null, null, null, 1.0, null, null, null, null, null, null, null, 0.5, null, null, null, null, null, null, null, null, null, null, null, null, 0.6666666666666666, null, 1.0, null, null, null, null, null, null, null, null, null, null, 1.0, null, null, 0.0, null, 0.5, null, null, 0.5, 1.0, null, null, null, null, null, 1.0, null, null, null, 0.5, null, null, null, null, 0.0, 0.0, null, null, null, null, null, null, null, null, null, null, null, null, null, null, null, null, null, null, null, null, null, null, null, null, null, null, null, null, 0.5, null, null, null, null, null, null, null, null, null, null, 1.0, 1.0, null, null, null, null, null, null, null, null, null, null, null, null, null, 0.5, null, null, null, 1.0, null, null, null, null, null, 1.0, null, null, null, null, null, null, null, 0.5, null, 0.5, null, null, null, 1.0, null, null, null, null, null, null, null, null, 0.5, null, null, null, null, null, null, null, null, null, null, null, null, null, null, null, null, 1.0, null, null, 0.0, null, null, null, null, null, null, 0.5, null, null, null, null, 1.0, 0.0, 0.5, null, null, 0.5, null, null, 0.0, 0.0, null, null, null, null, null, null, 0.5, 0.5, 0.5, null, null, 1.0, 0.5, 0.5, null, null, 0.5, 0.0, null, null, 1.0, 0.5, null, null, 1.0, null, null, 0.5, 0.5, null, null, 0.5, 0.0, 0.5, 0.5, null, null, null, null, null, null, 1.0, 0.5, 1.0, 1.0, 1.0, 0.6666666666666666, 0.5, 1.0, 1.0, 1.0, 1.0, 0.5, 0.6666666666666666, 0.5, 1.0, 0.0, 0.3333333333333333, 0.0, 0.0, 1.0, 1.0, 0.5, 0.5, 0.0, 0.0, 1.0, 1.0, 1.0, 0.5, 0.0, 1.0, 1.0, 0.6666666666666666, 0.0, 0.6666666666666666, 0.0, 1.0, 1.0, 1.0, 0.0, 1.0, 1.0, 0.0, 0.5, 0.5, 0.5, 0.0, 0.5, 0.5, 0.0, 0.3333333333333333, 0.0, 0.0, 0.5, 1.0, 0.5, 0.0, 0.5, 0.0, 0.0, 0.5, 0.0, 0.0, 1.0, 0.0, 0.5, 0.0, 1.0, 0.0, 0.0, 0.0, 1.0, 1.0, 1.0, 0.0, 0.0, 0.0, 1.0, 1.0, 0.5, 0.0, 0.0, 0.0, 0.0, 0.0, 0.0, 1.0, 1.0, 1.0, 0.0], \"yaxis\": \"y\", \"type\": \"scatter\"}], \"name\": \"1\"}, {\"data\": [{\"hoverlabel\": {\"namelength\": 0}, \"hovertemplate\": \"<b>%{hovertext}</b><br><br>Age=2<br>Length=%{x}<br>%Homochirality=%{y}\", \"hovertext\": [null, null, 0.0, null, null, 1.0, null, null, null, null, null, 0.5, null, null, null, null, null, null, null, null, null, null, null, null, 1.0, null, null, null, null, null, null, null, null, null, 0.3333333333333333, null, null, null, null, null, null, null, 0.5, null, null, null, null, null, null, null, null, null, 1.0, null, null, null, null, null, null, null, null, null, null, null, 0.5, null, null, 1.0, null, null, 0.3333333333333333, null, 0.3333333333333333, null, null, null, 0.4, null, null, null, 1.0, null, null, null, null, null, 0.4, null, null, null, null, null, null, 1.0, null, null, 0.0, null, null, null, null, null, null, null, null, null, null, null, null, null, null, null, null, null, null, null, null, 0.25, null, null, null, null, 0.6, null, 0.3333333333333333, 0.3333333333333333, null, 0.3333333333333333, null, null, null, null, null, null, null, null, null, null, null, 1.0, null, null, null, null, 1.0, 1.0, null, null, null, null, null, 1.0, null, null, null, 0.0, null, null, null, null, 1.0, null, null, null, null, 0.75, null, null, null, null, null, 0.5, 1.0, null, null, null, null, null, 1.0, null, null, 0.5, null, null, 0.0, null, null, 0.5, null, null, null, 1.0, null, null, 0.5, 0.75, null, 0.0, null, null, null, null, null, null, null, null, null, null, null, null, null, null, 1.0, null, null, null, null, null, null, null, null, 0.25, null, 0.75, null, null, null, null, 0.5, null, null, null, 1.0, null, null, null, null, 0.5, 0.0, null, null, null, null, null, null, null, null, null, 0.75, null, null, null, null, null, null, 0.6, null, 0.5, 1.0, null, null, null, null, null, null, null, null, 0.0, null, null, 0.0, null, null, 0.8, null, 0.5, 1.0, null, null, null, null, 1.0, 0.4, null, null, null, null, null, 0.5, null, null, null, null, null, null, null, null, null, null, null, 0.0, null, null, null, null, null, null, null, null, 1.0, 1.0, null, null, null, null, null, 0.6666666666666666, null, null, 0.6666666666666666, 0.6666666666666666, 0.6666666666666666, 0.0, null, 0.0, 0.0, null, 0.6666666666666666, 0.6666666666666666, 0.0, null, 0.3333333333333333, null, 0.6666666666666666, null, null, 1.0, null, null, 0.3333333333333333, 0.3333333333333333, 0.0, null, null, null, null, null, null, 0.5, 1.0, null, 0.5, null, 0.0, 0.3333333333333333, null, null, null, null, null, 0.0, 0.5, null, 0.5, 0.6666666666666666, 0.3333333333333333, null, 0.6666666666666666, 0.6666666666666666, 1.0, 0.3333333333333333, 0.5, 0.5, 0.5, 0.3333333333333333, 1.0, 0.0, 0.5, 0.25, 1.0, 1.0, 1.0, 1.0, 0.3333333333333333, 0.0, 1.0, 0.3333333333333333, 1.0, 0.75, 0.0, 0.5, 1.0, 1.0, 0.3333333333333333, 1.0, 1.0, 0.0, 0.6666666666666666, 1.0, 0.0, 1.0, 0.3333333333333333, 0.0, 0.6666666666666666, 0.0, 0.0, 0.0, 0.5, 0.5, 1.0, 0.3333333333333333, 0.0, 0.0, 0.0, 0.0, 0.0, 0.0, 0.5, 1.0, 1.0, 0.0, 1.0], \"legendgroup\": \"\", \"marker\": {\"color\": \"#636efa\", \"symbol\": \"circle\"}, \"mode\": \"markers\", \"name\": \"\", \"showlegend\": false, \"x\": [1, 1, 3, 1, 1, 2, 1, 1, 1, 1, 1, 3, 1, 1, 1, 1, 1, 1, 1, 1, 1, 1, 1, 1, 4, 1, 1, 1, 1, 1, 1, 1, 1, 1, 4, 1, 1, 1, 1, 1, 1, 1, 5, 1, 1, 1, 1, 1, 1, 1, 1, 1, 3, 1, 1, 1, 1, 1, 1, 1, 1, 1, 1, 1, 3, 1, 1, 4, 1, 1, 4, 1, 4, 1, 1, 1, 6, 1, 1, 1, 4, 1, 1, 1, 1, 1, 6, 1, 1, 1, 1, 1, 1, 3, 1, 1, 2, 1, 1, 1, 1, 1, 1, 1, 1, 1, 1, 1, 1, 1, 1, 1, 1, 1, 1, 1, 1, 5, 1, 1, 1, 1, 6, 1, 7, 4, 1, 4, 1, 1, 1, 1, 1, 1, 1, 1, 1, 1, 1, 2, 1, 1, 1, 1, 2, 4, 1, 1, 1, 1, 1, 3, 1, 1, 1, 4, 1, 1, 1, 1, 2, 1, 1, 1, 1, 5, 1, 1, 1, 1, 1, 5, 3, 1, 1, 1, 1, 1, 2, 1, 1, 3, 1, 1, 2, 1, 1, 3, 1, 1, 1, 3, 1, 1, 5, 5, 1, 2, 1, 1, 1, 1, 1, 1, 1, 1, 1, 1, 1, 1, 1, 1, 2, 1, 1, 1, 1, 1, 1, 1, 1, 5, 1, 5, 1, 1, 1, 1, 3, 1, 1, 1, 2, 1, 1, 1, 1, 5, 2, 1, 1, 1, 1, 1, 1, 1, 1, 1, 5, 1, 1, 1, 1, 1, 1, 6, 1, 3, 3, 1, 1, 1, 1, 1, 1, 1, 1, 3, 1, 1, 2, 1, 1, 6, 1, 3, 2, 1, 1, 1, 1, 2, 6, 1, 1, 1, 1, 1, 5, 1, 1, 1, 1, 1, 1, 1, 1, 1, 1, 1, 2, 1, 1, 1, 1, 1, 1, 1, 1, 5, 2, 1, 1, 1, 1, 1, 4, 1, 1, 4, 4, 4, 3, 1, 3, 2, 1, 4, 4, 2, 1, 4, 1, 4, 1, 1, 3, 1, 1, 4, 4, 2, 1, 1, 1, 1, 1, 1, 3, 3, 1, 5, 1, 3, 4, 1, 1, 1, 1, 1, 3, 3, 1, 3, 4, 4, 1, 4, 4, 3, 4, 5, 5, 3, 4, 3, 2, 5, 5, 2, 3, 3, 2, 4, 3, 3, 4, 4, 5, 2, 5, 2, 3, 4, 2, 2, 3, 4, 2, 2, 3, 4, 2, 4, 2, 2, 2, 3, 3, 2, 4, 3, 4, 4, 2, 3, 2, 3, 2, 2, 2, 2], \"xaxis\": \"x\", \"y\": [null, null, 0.0, null, null, 1.0, null, null, null, null, null, 0.5, null, null, null, null, null, null, null, null, null, null, null, null, 1.0, null, null, null, null, null, null, null, null, null, 0.3333333333333333, null, null, null, null, null, null, null, 0.5, null, null, null, null, null, null, null, null, null, 1.0, null, null, null, null, null, null, null, null, null, null, null, 0.5, null, null, 1.0, null, null, 0.3333333333333333, null, 0.3333333333333333, null, null, null, 0.4, null, null, null, 1.0, null, null, null, null, null, 0.4, null, null, null, null, null, null, 1.0, null, null, 0.0, null, null, null, null, null, null, null, null, null, null, null, null, null, null, null, null, null, null, null, null, 0.25, null, null, null, null, 0.6, null, 0.3333333333333333, 0.3333333333333333, null, 0.3333333333333333, null, null, null, null, null, null, null, null, null, null, null, 1.0, null, null, null, null, 1.0, 1.0, null, null, null, null, null, 1.0, null, null, null, 0.0, null, null, null, null, 1.0, null, null, null, null, 0.75, null, null, null, null, null, 0.5, 1.0, null, null, null, null, null, 1.0, null, null, 0.5, null, null, 0.0, null, null, 0.5, null, null, null, 1.0, null, null, 0.5, 0.75, null, 0.0, null, null, null, null, null, null, null, null, null, null, null, null, null, null, 1.0, null, null, null, null, null, null, null, null, 0.25, null, 0.75, null, null, null, null, 0.5, null, null, null, 1.0, null, null, null, null, 0.5, 0.0, null, null, null, null, null, null, null, null, null, 0.75, null, null, null, null, null, null, 0.6, null, 0.5, 1.0, null, null, null, null, null, null, null, null, 0.0, null, null, 0.0, null, null, 0.8, null, 0.5, 1.0, null, null, null, null, 1.0, 0.4, null, null, null, null, null, 0.5, null, null, null, null, null, null, null, null, null, null, null, 0.0, null, null, null, null, null, null, null, null, 1.0, 1.0, null, null, null, null, null, 0.6666666666666666, null, null, 0.6666666666666666, 0.6666666666666666, 0.6666666666666666, 0.0, null, 0.0, 0.0, null, 0.6666666666666666, 0.6666666666666666, 0.0, null, 0.3333333333333333, null, 0.6666666666666666, null, null, 1.0, null, null, 0.3333333333333333, 0.3333333333333333, 0.0, null, null, null, null, null, null, 0.5, 1.0, null, 0.5, null, 0.0, 0.3333333333333333, null, null, null, null, null, 0.0, 0.5, null, 0.5, 0.6666666666666666, 0.3333333333333333, null, 0.6666666666666666, 0.6666666666666666, 1.0, 0.3333333333333333, 0.5, 0.5, 0.5, 0.3333333333333333, 1.0, 0.0, 0.5, 0.25, 1.0, 1.0, 1.0, 1.0, 0.3333333333333333, 0.0, 1.0, 0.3333333333333333, 1.0, 0.75, 0.0, 0.5, 1.0, 1.0, 0.3333333333333333, 1.0, 1.0, 0.0, 0.6666666666666666, 1.0, 0.0, 1.0, 0.3333333333333333, 0.0, 0.6666666666666666, 0.0, 0.0, 0.0, 0.5, 0.5, 1.0, 0.3333333333333333, 0.0, 0.0, 0.0, 0.0, 0.0, 0.0, 0.5, 1.0, 1.0, 0.0, 1.0], \"yaxis\": \"y\", \"type\": \"scatter\"}], \"name\": \"2\"}, {\"data\": [{\"hoverlabel\": {\"namelength\": 0}, \"hovertemplate\": \"<b>%{hovertext}</b><br><br>Age=3<br>Length=%{x}<br>%Homochirality=%{y}\", \"hovertext\": [null, null, null, 1.0, null, null, null, 0.8888888888888888, null, 0.5, null, null, null, null, null, 1.0, null, null, null, 0.75, null, 0.3333333333333333, null, 0.75, null, null, null, null, 0.6, null, null, null, null, null, null, null, null, null, 0.3333333333333333, null, null, null, 0.6666666666666666, null, null, null, 0.5, 0.6666666666666666, null, 0.5, null, 0.0, null, null, null, null, null, null, null, 1.0, 1.0, null, 0.0, null, null, null, null, null, 1.0, null, 0.6666666666666666, null, null, 0.0, null, null, null, null, null, null, null, null, null, null, null, 0.2222222222222222, null, null, 0.5555555555555556, null, null, 0.6666666666666666, null, null, null, null, null, null, null, null, null, 0.5, null, 0.8, null, null, null, null, 1.0, null, null, null, 1.0, null, 0.6666666666666666, 0.8, null, null, null, null, null, null, null, null, null, null, null, null, null, null, 0.5, 0.75, 0.75, null, null, 1.0, null, null, null, null, null, null, null, null, null, null, null, null, null, null, null, null, null, null, 1.0, null, null, 0.5, null, null, 0.6, null, 0.7142857142857143, null, 1.0, null, null, 1.0, null, null, null, null, 0.0, null, null, null, null, null, 0.75, null, null, 0.7777777777777778, null, null, 0.0, null, 0.5, 0.8333333333333334, null, null, null, null, null, null, null, null, null, null, null, 0.0, null, null, null, 0.6, null, null, 0.6, null, null, null, null, null, null, 0.5, null, 0.3333333333333333, null, null, null, null, 0.5, null, null, 0.5, null, 0.25, null, null, null, null, null, 0.0, null, null, null, null, null, 0.3333333333333333, 0.0, null, null, null, 1.0, null, 0.5, null, null, null, null, null, null, null, 0.5, 0.2857142857142857, 1.0, null, 0.5, null, 0.5, 0.6666666666666666, 0.0, 0.0, null, null, null, null, null, 0.6666666666666666, null, 1.0, 0.5, 1.0, null, 0.25, 0.5, null, null, null, 1.0, null, 0.5, null, 0.0, null, null, 0.5, null, null, 0.3333333333333333, null, null, null, null, 0.4, null, null, 0.5, null, null, null, null, 0.0, null, null, null, null, null, 1.0, null, null, null, 1.0, 1.0, 0.0, 0.4, 1.0, 1.0, 0.3333333333333333, 0.0, 0.5, 0.6, 0.0, 0.5, 0.0, 1.0, 1.0, 0.3333333333333333, 0.5, 1.0, 0.5, 0.5, 0.5, 0.0, 0.6666666666666666, 0.0, 0.0, 1.0, 1.0, 0.0, 1.0], \"legendgroup\": \"\", \"marker\": {\"color\": \"#636efa\", \"symbol\": \"circle\"}, \"mode\": \"markers\", \"name\": \"\", \"showlegend\": false, \"x\": [1, 1, 1, 4, 1, 1, 1, 10, 1, 5, 1, 1, 1, 1, 1, 3, 1, 1, 1, 5, 1, 4, 1, 5, 1, 1, 1, 1, 6, 1, 1, 1, 1, 1, 1, 1, 1, 1, 4, 1, 1, 1, 4, 1, 1, 1, 3, 7, 1, 3, 1, 2, 1, 1, 1, 1, 1, 1, 1, 2, 2, 1, 3, 1, 1, 1, 1, 1, 2, 1, 4, 1, 1, 2, 1, 1, 1, 1, 1, 1, 1, 1, 1, 1, 1, 10, 1, 1, 10, 1, 1, 4, 1, 1, 1, 1, 1, 1, 1, 1, 1, 3, 1, 6, 1, 1, 1, 1, 4, 1, 1, 1, 2, 1, 4, 6, 1, 1, 1, 1, 1, 1, 1, 1, 1, 1, 1, 1, 1, 1, 3, 5, 5, 1, 1, 3, 1, 1, 1, 1, 1, 1, 1, 1, 1, 1, 1, 1, 1, 1, 1, 1, 1, 1, 2, 1, 1, 5, 1, 1, 6, 1, 8, 1, 3, 1, 1, 2, 1, 1, 1, 1, 2, 1, 1, 1, 1, 1, 5, 1, 1, 10, 1, 1, 6, 1, 5, 7, 1, 1, 1, 1, 1, 1, 1, 1, 1, 1, 1, 3, 1, 1, 1, 6, 1, 1, 6, 1, 1, 1, 1, 1, 1, 3, 1, 7, 1, 1, 1, 1, 7, 1, 1, 3, 1, 5, 1, 1, 1, 1, 1, 2, 1, 1, 1, 1, 1, 4, 2, 1, 1, 1, 3, 1, 5, 1, 1, 1, 1, 1, 1, 1, 5, 8, 4, 1, 7, 1, 3, 4, 4, 3, 1, 1, 1, 1, 1, 4, 1, 4, 7, 4, 1, 5, 5, 1, 1, 1, 2, 1, 3, 1, 2, 1, 1, 3, 1, 1, 4, 1, 1, 1, 1, 6, 1, 1, 3, 1, 1, 1, 1, 2, 1, 1, 1, 1, 1, 4, 1, 1, 1, 3, 5, 2, 6, 5, 2, 4, 2, 3, 6, 2, 3, 3, 3, 4, 7, 3, 2, 3, 5, 3, 2, 4, 3, 3, 2, 4, 2, 2], \"xaxis\": \"x\", \"y\": [null, null, null, 1.0, null, null, null, 0.8888888888888888, null, 0.5, null, null, null, null, null, 1.0, null, null, null, 0.75, null, 0.3333333333333333, null, 0.75, null, null, null, null, 0.6, null, null, null, null, null, null, null, null, null, 0.3333333333333333, null, null, null, 0.6666666666666666, null, null, null, 0.5, 0.6666666666666666, null, 0.5, null, 0.0, null, null, null, null, null, null, null, 1.0, 1.0, null, 0.0, null, null, null, null, null, 1.0, null, 0.6666666666666666, null, null, 0.0, null, null, null, null, null, null, null, null, null, null, null, 0.2222222222222222, null, null, 0.5555555555555556, null, null, 0.6666666666666666, null, null, null, null, null, null, null, null, null, 0.5, null, 0.8, null, null, null, null, 1.0, null, null, null, 1.0, null, 0.6666666666666666, 0.8, null, null, null, null, null, null, null, null, null, null, null, null, null, null, 0.5, 0.75, 0.75, null, null, 1.0, null, null, null, null, null, null, null, null, null, null, null, null, null, null, null, null, null, null, 1.0, null, null, 0.5, null, null, 0.6, null, 0.7142857142857143, null, 1.0, null, null, 1.0, null, null, null, null, 0.0, null, null, null, null, null, 0.75, null, null, 0.7777777777777778, null, null, 0.0, null, 0.5, 0.8333333333333334, null, null, null, null, null, null, null, null, null, null, null, 0.0, null, null, null, 0.6, null, null, 0.6, null, null, null, null, null, null, 0.5, null, 0.3333333333333333, null, null, null, null, 0.5, null, null, 0.5, null, 0.25, null, null, null, null, null, 0.0, null, null, null, null, null, 0.3333333333333333, 0.0, null, null, null, 1.0, null, 0.5, null, null, null, null, null, null, null, 0.5, 0.2857142857142857, 1.0, null, 0.5, null, 0.5, 0.6666666666666666, 0.0, 0.0, null, null, null, null, null, 0.6666666666666666, null, 1.0, 0.5, 1.0, null, 0.25, 0.5, null, null, null, 1.0, null, 0.5, null, 0.0, null, null, 0.5, null, null, 0.3333333333333333, null, null, null, null, 0.4, null, null, 0.5, null, null, null, null, 0.0, null, null, null, null, null, 1.0, null, null, null, 1.0, 1.0, 0.0, 0.4, 1.0, 1.0, 0.3333333333333333, 0.0, 0.5, 0.6, 0.0, 0.5, 0.0, 1.0, 1.0, 0.3333333333333333, 0.5, 1.0, 0.5, 0.5, 0.5, 0.0, 0.6666666666666666, 0.0, 0.0, 1.0, 1.0, 0.0, 1.0], \"yaxis\": \"y\", \"type\": \"scatter\"}], \"name\": \"3\"}, {\"data\": [{\"hoverlabel\": {\"namelength\": 0}, \"hovertemplate\": \"<b>%{hovertext}</b><br><br>Age=4<br>Length=%{x}<br>%Homochirality=%{y}\", \"hovertext\": [0.6, null, null, 0.8461538461538461, null, null, null, null, 0.5, null, null, null, 0.5, null, null, null, null, 0.5, null, null, null, null, 0.0, null, 1.0, null, null, null, null, null, null, null, null, null, 0.5555555555555556, null, 0.2, null, null, null, null, null, null, null, 0.8333333333333334, null, null, null, null, null, null, null, null, null, null, null, null, null, null, null, 0.3333333333333333, null, 0.5, null, null, 1.0, null, null, 0.3333333333333333, null, 1.0, null, null, null, null, null, null, null, 0.8333333333333334, 0.6, 0.6666666666666666, null, null, null, null, 0.5, null, null, null, null, null, 0.5, null, null, null, null, null, 0.5, 1.0, null, null, null, 1.0, null, null, null, null, 1.0, null, null, null, null, null, null, 0.2307692307692308, null, 1.0, 0.8571428571428571, null, 0.5, null, 0.25, null, null, null, null, null, null, null, null, null, null, null, null, null, null, null, null, null, null, null, null, 0.5, 0.25, null, null, null, null, null, null, null, null, 0.0, 0.75, 0.5, null, null, 1.0, 0.375, 0.25, null, 0.6666666666666666, null, null, 0.7, null, null, null, null, 0.5, 0.4, null, null, null, null, 0.6666666666666666, null, null, 1.0, null, 1.0, null, null, null, null, 0.5714285714285714, null, null, null, 0.5, 0.8333333333333334, null, null, 0.6, 0.7142857142857143, null, 1.0, null, null, null, null, 0.16666666666666666, 0.5, 0.8, null, null, null, null, null, null, 0.5714285714285714, null, null, 0.0, null, null, null, 0.0, null, 0.5, null, 0.6666666666666666, null, null, 1.0, null, null, 0.5, 0.5, null, 0.5, null, 0.6666666666666666, null, null, null, null, null, 0.5, null, 0.5, 0.3333333333333333, 0.6666666666666666, null, null, 0.42857142857142855, 1.0, null, null, null, null, 0.6, null, null, null, 0.4, 0.25, 0.0, null, null, null, 0.42857142857142855, null, 0.5, 0.8571428571428571, 0.6, 0.3333333333333333, 0.2857142857142857, 0.75, 0.0, 1.0, 0.0, 0.375, 1.0, 1.0, 0.0, 0.5, 0.25, 1.0, 0.3333333333333333, 0.3333333333333333, 0.5, 1.0, 1.0], \"legendgroup\": \"\", \"marker\": {\"color\": \"#636efa\", \"symbol\": \"circle\"}, \"mode\": \"markers\", \"name\": \"\", \"showlegend\": false, \"x\": [6, 1, 1, 14, 1, 1, 1, 1, 5, 1, 1, 1, 3, 1, 1, 1, 1, 3, 1, 1, 1, 1, 4, 1, 2, 1, 1, 1, 1, 1, 1, 1, 1, 1, 10, 1, 6, 1, 1, 1, 1, 1, 1, 1, 7, 1, 1, 1, 1, 1, 1, 1, 1, 1, 1, 1, 1, 1, 1, 1, 4, 1, 5, 1, 1, 6, 1, 1, 4, 1, 4, 1, 1, 1, 1, 1, 1, 1, 7, 6, 7, 1, 1, 1, 1, 5, 1, 1, 1, 1, 1, 7, 1, 1, 1, 1, 1, 5, 2, 1, 1, 1, 3, 1, 1, 1, 1, 7, 1, 1, 1, 1, 1, 1, 14, 1, 2, 8, 1, 5, 1, 5, 1, 1, 1, 1, 1, 1, 1, 1, 1, 1, 1, 1, 1, 1, 1, 1, 1, 1, 1, 1, 7, 5, 1, 1, 1, 1, 1, 1, 1, 1, 3, 5, 3, 1, 1, 2, 9, 5, 1, 7, 1, 1, 11, 1, 1, 1, 1, 7, 6, 1, 1, 1, 1, 4, 1, 1, 2, 1, 4, 1, 1, 1, 1, 8, 1, 1, 1, 5, 7, 1, 1, 6, 8, 1, 2, 1, 1, 1, 1, 7, 9, 6, 1, 1, 1, 1, 1, 1, 8, 1, 1, 2, 1, 1, 1, 3, 1, 3, 1, 4, 1, 1, 2, 1, 1, 3, 5, 1, 3, 1, 4, 1, 1, 1, 1, 1, 3, 1, 3, 4, 7, 1, 1, 8, 2, 1, 1, 1, 1, 6, 1, 1, 1, 6, 5, 3, 1, 1, 1, 8, 1, 7, 8, 6, 4, 8, 5, 3, 6, 3, 9, 7, 4, 4, 7, 5, 3, 4, 4, 5, 2, 4], \"xaxis\": \"x\", \"y\": [0.6, null, null, 0.8461538461538461, null, null, null, null, 0.5, null, null, null, 0.5, null, null, null, null, 0.5, null, null, null, null, 0.0, null, 1.0, null, null, null, null, null, null, null, null, null, 0.5555555555555556, null, 0.2, null, null, null, null, null, null, null, 0.8333333333333334, null, null, null, null, null, null, null, null, null, null, null, null, null, null, null, 0.3333333333333333, null, 0.5, null, null, 1.0, null, null, 0.3333333333333333, null, 1.0, null, null, null, null, null, null, null, 0.8333333333333334, 0.6, 0.6666666666666666, null, null, null, null, 0.5, null, null, null, null, null, 0.5, null, null, null, null, null, 0.5, 1.0, null, null, null, 1.0, null, null, null, null, 1.0, null, null, null, null, null, null, 0.2307692307692308, null, 1.0, 0.8571428571428571, null, 0.5, null, 0.25, null, null, null, null, null, null, null, null, null, null, null, null, null, null, null, null, null, null, null, null, 0.5, 0.25, null, null, null, null, null, null, null, null, 0.0, 0.75, 0.5, null, null, 1.0, 0.375, 0.25, null, 0.6666666666666666, null, null, 0.7, null, null, null, null, 0.5, 0.4, null, null, null, null, 0.6666666666666666, null, null, 1.0, null, 1.0, null, null, null, null, 0.5714285714285714, null, null, null, 0.5, 0.8333333333333334, null, null, 0.6, 0.7142857142857143, null, 1.0, null, null, null, null, 0.16666666666666666, 0.5, 0.8, null, null, null, null, null, null, 0.5714285714285714, null, null, 0.0, null, null, null, 0.0, null, 0.5, null, 0.6666666666666666, null, null, 1.0, null, null, 0.5, 0.5, null, 0.5, null, 0.6666666666666666, null, null, null, null, null, 0.5, null, 0.5, 0.3333333333333333, 0.6666666666666666, null, null, 0.42857142857142855, 1.0, null, null, null, null, 0.6, null, null, null, 0.4, 0.25, 0.0, null, null, null, 0.42857142857142855, null, 0.5, 0.8571428571428571, 0.6, 0.3333333333333333, 0.2857142857142857, 0.75, 0.0, 1.0, 0.0, 0.375, 1.0, 1.0, 0.0, 0.5, 0.25, 1.0, 0.3333333333333333, 0.3333333333333333, 0.5, 1.0, 1.0], \"yaxis\": \"y\", \"type\": \"scatter\"}], \"name\": \"4\"}, {\"data\": [{\"hoverlabel\": {\"namelength\": 0}, \"hovertemplate\": \"<b>%{hovertext}</b><br><br>Age=5<br>Length=%{x}<br>%Homochirality=%{y}\", \"hovertext\": [0.6, null, null, 0.0, 0.875, null, null, 0.5, 0.5, null, 0.42857142857142855, null, null, null, null, null, null, null, null, null, null, null, 0.5555555555555556, null, null, 0.5, null, null, 0.5, null, null, null, null, null, null, 1.0, null, null, null, 0.625, null, 0.42857142857142855, null, null, null, null, null, 0.3333333333333333, null, null, 0.75, null, null, 0.4, null, null, null, 0.75, null, 1.0, 0.375, 0.6666666666666666, 0.3333333333333333, 0.5, null, null, 0.5, null, null, 0.35294117647058826, null, null, null, null, null, null, null, null, 1.0, null, null, null, 0.5555555555555556, 1.0, null, 0.0, null, 0.75, 0.5, null, null, null, null, null, null, null, 0.6666666666666666, null, null, 0.0, null, null, null, null, null, 0.375, null, null, null, null, null, null, null, null, 0.4615384615384616, null, null, 0.625, null, null, null, 0.42857142857142855, null, 1.0, null, 0.8, 0.8, null, null, null, null, null, 0.3333333333333333, null, 0.625, null, null, 0.3333333333333333, null, 0.8, null, null, null, 0.25, null, null, null, null, null, null, null, null, null, null, null, null, null, null, null, null, null, 0.8666666666666667, 0.625, null, null, null, null, null, null, 0.5833333333333334, 0.3333333333333333, null, 0.5, 0.5714285714285714, 0.6666666666666666, 0.0, null, null, null, 0.5714285714285714, 1.0, null, 0.5, null, null, 0.5, 1.0, 0.0, 0.0, 0.6666666666666666, 1.0, 1.0, 0.8571428571428571, 1.0, null, 0.6666666666666666, 1.0, null, 0.5, 0.0, null, null, null, 0.0, 0.0, 0.3333333333333333, 0.4, 0.3333333333333333, 0.6666666666666666, null, null, 0.3333333333333333, null, 0.42857142857142855, null, 0.6666666666666666, 0.75, 0.0, 1.0, 0.3333333333333333, 1.0, 0.0, 0.0, 0.3333333333333333, 0.4, 0.5, 0.0, 0.0, 0.42857142857142855, 0.6666666666666666, 0.5, 0.5, 0.25, 1.0, 1.0], \"legendgroup\": \"\", \"marker\": {\"color\": \"#636efa\", \"symbol\": \"circle\"}, \"mode\": \"markers\", \"name\": \"\", \"showlegend\": false, \"x\": [6, 1, 1, 3, 9, 1, 1, 3, 3, 1, 8, 1, 1, 1, 1, 1, 1, 1, 1, 1, 1, 1, 10, 1, 1, 9, 1, 1, 5, 1, 1, 1, 1, 1, 1, 3, 1, 1, 1, 9, 1, 8, 1, 1, 1, 1, 1, 7, 1, 1, 13, 1, 1, 6, 1, 1, 1, 5, 1, 2, 9, 13, 10, 3, 1, 1, 3, 1, 1, 18, 1, 1, 1, 1, 1, 1, 1, 1, 3, 1, 1, 1, 10, 3, 1, 3, 1, 5, 5, 1, 1, 1, 1, 1, 1, 1, 4, 1, 1, 4, 1, 1, 1, 1, 1, 9, 1, 1, 1, 1, 1, 1, 1, 1, 14, 1, 1, 9, 1, 1, 1, 8, 1, 2, 1, 6, 11, 1, 1, 1, 1, 1, 7, 1, 9, 1, 1, 7, 1, 6, 1, 1, 1, 5, 1, 1, 1, 1, 1, 1, 1, 1, 1, 1, 1, 1, 1, 1, 1, 1, 1, 16, 9, 1, 1, 1, 1, 1, 1, 13, 4, 1, 3, 8, 4, 2, 1, 1, 1, 8, 5, 1, 5, 1, 1, 3, 2, 5, 2, 4, 4, 3, 8, 4, 1, 7, 2, 1, 3, 2, 1, 1, 1, 5, 2, 4, 6, 4, 4, 1, 1, 4, 1, 8, 1, 7, 5, 2, 4, 10, 7, 2, 4, 4, 6, 3, 2, 7, 8, 4, 3, 3, 5, 2, 4], \"xaxis\": \"x\", \"y\": [0.6, null, null, 0.0, 0.875, null, null, 0.5, 0.5, null, 0.42857142857142855, null, null, null, null, null, null, null, null, null, null, null, 0.5555555555555556, null, null, 0.5, null, null, 0.5, null, null, null, null, null, null, 1.0, null, null, null, 0.625, null, 0.42857142857142855, null, null, null, null, null, 0.3333333333333333, null, null, 0.75, null, null, 0.4, null, null, null, 0.75, null, 1.0, 0.375, 0.6666666666666666, 0.3333333333333333, 0.5, null, null, 0.5, null, null, 0.35294117647058826, null, null, null, null, null, null, null, null, 1.0, null, null, null, 0.5555555555555556, 1.0, null, 0.0, null, 0.75, 0.5, null, null, null, null, null, null, null, 0.6666666666666666, null, null, 0.0, null, null, null, null, null, 0.375, null, null, null, null, null, null, null, null, 0.4615384615384616, null, null, 0.625, null, null, null, 0.42857142857142855, null, 1.0, null, 0.8, 0.8, null, null, null, null, null, 0.3333333333333333, null, 0.625, null, null, 0.3333333333333333, null, 0.8, null, null, null, 0.25, null, null, null, null, null, null, null, null, null, null, null, null, null, null, null, null, null, 0.8666666666666667, 0.625, null, null, null, null, null, null, 0.5833333333333334, 0.3333333333333333, null, 0.5, 0.5714285714285714, 0.6666666666666666, 0.0, null, null, null, 0.5714285714285714, 1.0, null, 0.5, null, null, 0.5, 1.0, 0.0, 0.0, 0.6666666666666666, 1.0, 1.0, 0.8571428571428571, 1.0, null, 0.6666666666666666, 1.0, null, 0.5, 0.0, null, null, null, 0.0, 0.0, 0.3333333333333333, 0.4, 0.3333333333333333, 0.6666666666666666, null, null, 0.3333333333333333, null, 0.42857142857142855, null, 0.6666666666666666, 0.75, 0.0, 1.0, 0.3333333333333333, 1.0, 0.0, 0.0, 0.3333333333333333, 0.4, 0.5, 0.0, 0.0, 0.42857142857142855, 0.6666666666666666, 0.5, 0.5, 0.25, 1.0, 1.0], \"yaxis\": \"y\", \"type\": \"scatter\"}], \"name\": \"5\"}, {\"data\": [{\"hoverlabel\": {\"namelength\": 0}, \"hovertemplate\": \"<b>%{hovertext}</b><br><br>Age=6<br>Length=%{x}<br>%Homochirality=%{y}\", \"hovertext\": [0.875, null, null, null, 0.5, null, null, null, null, 0.875, null, 1.0, 0.4615384615384616, 0.5, 0.0, null, 0.8, null, null, null, 0.6666666666666666, 0.4444444444444444, null, 0.5, 0.5, null, null, 0.631578947368421, 0.5, 0.5, 0.35714285714285715, null, 0.4, null, null, 0.5, null, null, null, null, 0.0, 0.5, 0.0, null, null, null, null, null, 0.875, null, null, 0.5714285714285714, null, null, null, 0.5, null, null, null, 0.6, null, 1.0, 0.8, null, null, null, null, 0.0, null, 0.0, null, null, null, 1.0, 0.5555555555555556, null, null, 0.8333333333333334, 0.5, null, 0.3333333333333333, null, 0.2307692307692308, 0.5, null, 0.3333333333333333, 0.42857142857142855, null, 0.5, null, null, 0.3333333333333333, null, null, 0.5, null, null, null, null, null, 0.75, null, null, 0.5454545454545454, 0.5, null, null, 1.0, null, 0.5, null, 0.5, null, null, null, null, 0.0, null, null, null, null, 0.7142857142857143, 0.5, null, null, null, null, 0.3333333333333333, null, null, null, null, null, 0.75, 0.6, null, null, 0.6666666666666666, 1.0, 0.25, null, null, null, null, null, 0.2, 0.8, 0.7, 0.3333333333333333, null, 0.25, 0.6, null, null, 0.0, null, null, 0.375, null, null, null, 0.3333333333333333, null, null, null, null, null, 0.6666666666666666, null, 0.5, 0.0, 0.6666666666666666, null, null, null, 0.8, 1.0, 1.0, 0.5, 0.5, 1.0, null, null, null, 1.0, null, 1.0, null, 0.2, 0.5, 0.42857142857142855, 0.2857142857142857, 0.25, 0.6666666666666666, 0.25, 0.5, 0.75, 1.0, 0.5, 0.3333333333333333, 0.25, 0.3, 0.0], \"legendgroup\": \"\", \"marker\": {\"color\": \"#636efa\", \"symbol\": \"circle\"}, \"mode\": \"markers\", \"name\": \"\", \"showlegend\": false, \"x\": [17, 1, 1, 1, 13, 1, 1, 1, 1, 9, 1, 5, 14, 3, 2, 1, 6, 1, 1, 1, 4, 10, 1, 3, 5, 1, 1, 20, 7, 5, 15, 1, 6, 1, 1, 5, 1, 1, 1, 1, 3, 9, 2, 1, 1, 1, 1, 1, 9, 1, 1, 15, 1, 1, 1, 15, 1, 1, 1, 11, 1, 2, 6, 1, 1, 1, 1, 2, 1, 4, 1, 1, 1, 3, 10, 1, 1, 7, 5, 1, 4, 1, 14, 9, 1, 4, 8, 1, 3, 1, 1, 4, 1, 1, 7, 1, 1, 1, 1, 1, 5, 1, 1, 12, 3, 1, 1, 4, 1, 3, 1, 5, 1, 1, 1, 1, 2, 1, 1, 1, 1, 8, 9, 1, 1, 1, 1, 7, 1, 1, 1, 1, 1, 5, 11, 1, 1, 16, 2, 5, 1, 1, 1, 1, 1, 6, 6, 11, 7, 1, 5, 6, 1, 1, 2, 1, 1, 9, 1, 1, 1, 4, 1, 1, 1, 1, 1, 4, 1, 7, 2, 7, 1, 1, 1, 6, 4, 4, 3, 7, 6, 1, 1, 1, 3, 1, 2, 1, 6, 7, 8, 8, 5, 4, 5, 5, 5, 3, 3, 4, 9, 11, 3], \"xaxis\": \"x\", \"y\": [0.875, null, null, null, 0.5, null, null, null, null, 0.875, null, 1.0, 0.4615384615384616, 0.5, 0.0, null, 0.8, null, null, null, 0.6666666666666666, 0.4444444444444444, null, 0.5, 0.5, null, null, 0.631578947368421, 0.5, 0.5, 0.35714285714285715, null, 0.4, null, null, 0.5, null, null, null, null, 0.0, 0.5, 0.0, null, null, null, null, null, 0.875, null, null, 0.5714285714285714, null, null, null, 0.5, null, null, null, 0.6, null, 1.0, 0.8, null, null, null, null, 0.0, null, 0.0, null, null, null, 1.0, 0.5555555555555556, null, null, 0.8333333333333334, 0.5, null, 0.3333333333333333, null, 0.2307692307692308, 0.5, null, 0.3333333333333333, 0.42857142857142855, null, 0.5, null, null, 0.3333333333333333, null, null, 0.5, null, null, null, null, null, 0.75, null, null, 0.5454545454545454, 0.5, null, null, 1.0, null, 0.5, null, 0.5, null, null, null, null, 0.0, null, null, null, null, 0.7142857142857143, 0.5, null, null, null, null, 0.3333333333333333, null, null, null, null, null, 0.75, 0.6, null, null, 0.6666666666666666, 1.0, 0.25, null, null, null, null, null, 0.2, 0.8, 0.7, 0.3333333333333333, null, 0.25, 0.6, null, null, 0.0, null, null, 0.375, null, null, null, 0.3333333333333333, null, null, null, null, null, 0.6666666666666666, null, 0.5, 0.0, 0.6666666666666666, null, null, null, 0.8, 1.0, 1.0, 0.5, 0.5, 1.0, null, null, null, 1.0, null, 1.0, null, 0.2, 0.5, 0.42857142857142855, 0.2857142857142857, 0.25, 0.6666666666666666, 0.25, 0.5, 0.75, 1.0, 0.5, 0.3333333333333333, 0.25, 0.3, 0.0], \"yaxis\": \"y\", \"type\": \"scatter\"}], \"name\": \"6\"}, {\"data\": [{\"hoverlabel\": {\"namelength\": 0}, \"hovertemplate\": \"<b>%{hovertext}</b><br><br>Age=7<br>Length=%{x}<br>%Homochirality=%{y}\", \"hovertext\": [0.16666666666666666, 0.6666666666666666, null, null, 0.375, null, null, null, null, 1.0, null, null, null, 0.4444444444444444, null, null, 0.75, null, null, 0.4166666666666667, 0.42857142857142855, null, 0.5, null, null, null, null, null, null, null, 0.75, 0.7142857142857143, 0.9090909090909092, null, null, 0.7777777777777778, null, 0.5, null, 0.3333333333333333, 0.8333333333333334, null, null, 0.0, null, 0.75, 0.0, null, null, 1.0, null, 0.5, 1.0, 0.5238095238095238, 0.4444444444444444, null, null, null, 0.125, null, null, null, null, null, null, null, null, null, 0.0, null, null, 0.5833333333333334, null, 0.6666666666666666, 0.4117647058823529, 0.42857142857142855, null, 0.8888888888888888, null, null, null, null, null, 0.5, null, null, null, 0.4, null, 1.0, null, null, 0.6363636363636364, 0.0, null, null, null, 0.6666666666666666, 1.0, 1.0, null, null, 0.6, null, 1.0, 0.5, null, 0.5, null, null, null, null, 0.7142857142857143, 0.6666666666666666, 0.5833333333333334, null, 0.0, 1.0, null, null, null, 1.0, null, null, null, 0.4705882352941176, 0.6923076923076923, 0.6842105263157895, null, null, 1.0, null, 0.3333333333333333, null, null, 0.5, 0.6, 0.6666666666666666, 0.2, null, 0.5, 0.0, 0.5, null, 0.6666666666666666, 0.5384615384615384, null, null, null, 0.25, 0.5, 1.0, 0.6, 0.5, 0.5555555555555556, null, 0.3333333333333333, 1.0, 1.0, 0.0, null, 0.2857142857142857, 0.5, null, null, 0.5, 0.0, 0.75, null, null, null, 0.6666666666666666, 1.0, 0.5, 0.4, 0.3333333333333333, 0.0, 1.0, 0.3333333333333333, 0.2727272727272727, 0.0, 0.0, 0.6666666666666666, 0.5], \"legendgroup\": \"\", \"marker\": {\"color\": \"#636efa\", \"symbol\": \"circle\"}, \"mode\": \"markers\", \"name\": \"\", \"showlegend\": false, \"x\": [7, 4, 1, 1, 9, 1, 1, 1, 1, 4, 1, 1, 1, 10, 1, 1, 9, 1, 1, 13, 8, 1, 9, 1, 1, 1, 1, 1, 1, 1, 9, 15, 12, 1, 1, 10, 1, 9, 1, 4, 7, 1, 1, 2, 1, 5, 2, 1, 1, 2, 1, 21, 2, 22, 10, 1, 1, 1, 9, 1, 1, 1, 1, 1, 1, 1, 1, 1, 4, 1, 1, 13, 1, 7, 18, 8, 1, 19, 1, 1, 1, 1, 1, 11, 1, 1, 1, 6, 1, 3, 1, 1, 12, 2, 1, 1, 1, 4, 2, 3, 1, 1, 11, 1, 4, 5, 1, 3, 1, 1, 1, 1, 8, 10, 13, 1, 3, 2, 1, 1, 1, 2, 1, 1, 1, 18, 14, 20, 1, 1, 2, 1, 4, 1, 1, 3, 11, 4, 6, 1, 5, 2, 3, 1, 4, 14, 1, 1, 1, 5, 3, 2, 6, 7, 10, 1, 4, 3, 2, 2, 1, 8, 3, 1, 1, 3, 3, 5, 1, 1, 1, 4, 2, 9, 6, 7, 3, 4, 4, 12, 4, 2, 4, 5], \"xaxis\": \"x\", \"y\": [0.16666666666666666, 0.6666666666666666, null, null, 0.375, null, null, null, null, 1.0, null, null, null, 0.4444444444444444, null, null, 0.75, null, null, 0.4166666666666667, 0.42857142857142855, null, 0.5, null, null, null, null, null, null, null, 0.75, 0.7142857142857143, 0.9090909090909092, null, null, 0.7777777777777778, null, 0.5, null, 0.3333333333333333, 0.8333333333333334, null, null, 0.0, null, 0.75, 0.0, null, null, 1.0, null, 0.5, 1.0, 0.5238095238095238, 0.4444444444444444, null, null, null, 0.125, null, null, null, null, null, null, null, null, null, 0.0, null, null, 0.5833333333333334, null, 0.6666666666666666, 0.4117647058823529, 0.42857142857142855, null, 0.8888888888888888, null, null, null, null, null, 0.5, null, null, null, 0.4, null, 1.0, null, null, 0.6363636363636364, 0.0, null, null, null, 0.6666666666666666, 1.0, 1.0, null, null, 0.6, null, 1.0, 0.5, null, 0.5, null, null, null, null, 0.7142857142857143, 0.6666666666666666, 0.5833333333333334, null, 0.0, 1.0, null, null, null, 1.0, null, null, null, 0.4705882352941176, 0.6923076923076923, 0.6842105263157895, null, null, 1.0, null, 0.3333333333333333, null, null, 0.5, 0.6, 0.6666666666666666, 0.2, null, 0.5, 0.0, 0.5, null, 0.6666666666666666, 0.5384615384615384, null, null, null, 0.25, 0.5, 1.0, 0.6, 0.5, 0.5555555555555556, null, 0.3333333333333333, 1.0, 1.0, 0.0, null, 0.2857142857142857, 0.5, null, null, 0.5, 0.0, 0.75, null, null, null, 0.6666666666666666, 1.0, 0.5, 0.4, 0.3333333333333333, 0.0, 1.0, 0.3333333333333333, 0.2727272727272727, 0.0, 0.0, 0.6666666666666666, 0.5], \"yaxis\": \"y\", \"type\": \"scatter\"}], \"name\": \"7\"}, {\"data\": [{\"hoverlabel\": {\"namelength\": 0}, \"hovertemplate\": \"<b>%{hovertext}</b><br><br>Age=8<br>Length=%{x}<br>%Homochirality=%{y}\", \"hovertext\": [0.3333333333333333, null, 0.0, null, null, 0.6, null, null, 1.0, null, null, null, null, 0.2, null, null, 0.6666666666666666, null, null, null, null, 0.0, null, null, null, 0.625, null, 0.3333333333333333, null, 0.2222222222222222, null, 0.75, 0.0, 1.0, null, null, null, 0.6, 0.6363636363636364, null, 1.0, null, null, 1.0, 0.5652173913043478, 0.25, null, 1.0, null, 0.5, null, 0.5454545454545454, 0.5, 0.0, null, null, null, null, 0.7058823529411765, 0.5, null, null, null, null, 0.7142857142857143, 0.0, null, 0.6666666666666666, 0.25, null, null, null, null, null, 1.0, 1.0, 0.3333333333333333, null, null, 0.5714285714285714, 0.8333333333333334, 0.6363636363636364, null, null, 1.0, 1.0, null, 0.75, 0.5333333333333333, 0.4375, null, 0.4705882352941176, 0.6666666666666666, 0.5, 0.7333333333333333, null, null, null, null, 1.0, null, 0.5454545454545454, null, 0.75, null, null, 0.6666666666666666, null, null, 0.5, null, 0.5, null, 1.0, 0.5454545454545454, 0.5, null, 0.5, null, null, 0.4, null, null, null, 0.6666666666666666, 0.375, null, 0.9, 0.625, 0.0, 0.5, 0.5, 1.0, null, 0.6363636363636364, 0.6666666666666666, 0.5, 0.5, null, null, null, 0.75, 0.5, null, null, null, null, 0.75, null, 0.75, null, null, 0.3333333333333333, 0.3333333333333333, 1.0, null, 0.5454545454545454, null, 0.5, 1.0, 0.6666666666666666, 0.5, 0.0, 0.0, 0.5, 0.3333333333333333, 1.0], \"legendgroup\": \"\", \"marker\": {\"color\": \"#636efa\", \"symbol\": \"circle\"}, \"mode\": \"markers\", \"name\": \"\", \"showlegend\": false, \"x\": [7, 1, 5, 1, 1, 6, 1, 1, 4, 1, 1, 1, 1, 6, 1, 1, 4, 1, 1, 1, 1, 2, 1, 1, 1, 9, 1, 4, 1, 10, 1, 5, 3, 8, 1, 1, 1, 6, 23, 1, 2, 1, 1, 3, 24, 5, 1, 2, 1, 7, 1, 12, 7, 4, 1, 1, 1, 1, 18, 7, 1, 1, 1, 1, 15, 3, 1, 4, 5, 1, 1, 1, 1, 1, 2, 3, 4, 1, 1, 8, 7, 23, 1, 1, 2, 2, 1, 13, 16, 17, 1, 18, 13, 9, 16, 1, 1, 1, 1, 4, 1, 12, 1, 5, 1, 1, 4, 1, 1, 3, 1, 11, 1, 8, 12, 7, 1, 5, 1, 1, 6, 1, 1, 1, 4, 9, 1, 11, 9, 5, 11, 5, 3, 1, 12, 4, 5, 19, 1, 1, 1, 5, 3, 1, 1, 1, 1, 5, 1, 5, 1, 1, 4, 4, 2, 1, 12, 1, 9, 4, 4, 7, 2, 4, 5, 4, 3], \"xaxis\": \"x\", \"y\": [0.3333333333333333, null, 0.0, null, null, 0.6, null, null, 1.0, null, null, null, null, 0.2, null, null, 0.6666666666666666, null, null, null, null, 0.0, null, null, null, 0.625, null, 0.3333333333333333, null, 0.2222222222222222, null, 0.75, 0.0, 1.0, null, null, null, 0.6, 0.6363636363636364, null, 1.0, null, null, 1.0, 0.5652173913043478, 0.25, null, 1.0, null, 0.5, null, 0.5454545454545454, 0.5, 0.0, null, null, null, null, 0.7058823529411765, 0.5, null, null, null, null, 0.7142857142857143, 0.0, null, 0.6666666666666666, 0.25, null, null, null, null, null, 1.0, 1.0, 0.3333333333333333, null, null, 0.5714285714285714, 0.8333333333333334, 0.6363636363636364, null, null, 1.0, 1.0, null, 0.75, 0.5333333333333333, 0.4375, null, 0.4705882352941176, 0.6666666666666666, 0.5, 0.7333333333333333, null, null, null, null, 1.0, null, 0.5454545454545454, null, 0.75, null, null, 0.6666666666666666, null, null, 0.5, null, 0.5, null, 1.0, 0.5454545454545454, 0.5, null, 0.5, null, null, 0.4, null, null, null, 0.6666666666666666, 0.375, null, 0.9, 0.625, 0.0, 0.5, 0.5, 1.0, null, 0.6363636363636364, 0.6666666666666666, 0.5, 0.5, null, null, null, 0.75, 0.5, null, null, null, null, 0.75, null, 0.75, null, null, 0.3333333333333333, 0.3333333333333333, 1.0, null, 0.5454545454545454, null, 0.5, 1.0, 0.6666666666666666, 0.5, 0.0, 0.0, 0.5, 0.3333333333333333, 1.0], \"yaxis\": \"y\", \"type\": \"scatter\"}], \"name\": \"8\"}, {\"data\": [{\"hoverlabel\": {\"namelength\": 0}, \"hovertemplate\": \"<b>%{hovertext}</b><br><br>Age=9<br>Length=%{x}<br>%Homochirality=%{y}\", \"hovertext\": [null, 0.5294117647058824, 0.5, null, 0.42857142857142855, null, 0.5714285714285714, null, 0.5714285714285714, null, 0.0, null, null, null, 0.5833333333333334, null, null, null, null, null, 0.5384615384615384, null, 0.8, null, 1.0, 0.25, null, null, 0.8333333333333334, null, null, null, null, 1.0, 0.25, null, null, null, null, 0.8, 0.5, null, 0.5714285714285714, 1.0, null, null, 0.2, 1.0, 1.0, 1.0, null, 0.8, null, null, 0.0, null, 0.7142857142857143, null, null, 0.5333333333333333, null, null, null, 0.42857142857142855, 0.5, 0.5, null, null, null, 0.5, 0.55, 0.0, null, 0.5454545454545454, 0.6923076923076923, 0.2857142857142857, null, null, null, null, 0.4444444444444444, null, 0.0, null, 0.7272727272727273, null, 0.6666666666666666, 1.0, null, 0.5384615384615384, null, null, 0.375, null, 0.5625, null, 0.25, null, null, 0.4, 0.6, 0.6, null, null, null, 0.3333333333333333, 0.5, 0.5714285714285714, 0.5, 0.75, 0.6666666666666666, 1.0, null, 0.6666666666666666, null, 0.5714285714285714, null, 0.3333333333333333, 0.5714285714285714, null, null, 0.25, null, 1.0, 0.5, 0.6666666666666666, null, 0.75, null, 1.0, null, null, null, null, null, 0.5, 0.6875, 0.6666666666666666, 0.75, 0.7777777777777778, null, 1.0, 0.5, 0.5, null, 1.0, null, 1.0, 1.0, null, null, 0.5, null, 1.0, 1.0, 1.0, 0.0, 0.75, 0.0, 0.5, 1.0], \"legendgroup\": \"\", \"marker\": {\"color\": \"#636efa\", \"symbol\": \"circle\"}, \"mode\": \"markers\", \"name\": \"\", \"showlegend\": false, \"x\": [1, 18, 3, 1, 8, 1, 8, 1, 8, 1, 2, 1, 1, 1, 25, 1, 1, 1, 1, 1, 14, 1, 6, 1, 2, 5, 1, 1, 7, 1, 1, 1, 1, 2, 5, 1, 1, 1, 1, 11, 7, 1, 8, 2, 1, 1, 11, 2, 9, 4, 1, 6, 1, 1, 3, 1, 8, 1, 1, 16, 1, 1, 1, 8, 3, 9, 1, 1, 1, 19, 21, 4, 1, 12, 14, 8, 1, 1, 1, 1, 10, 1, 4, 1, 12, 1, 4, 3, 1, 14, 1, 1, 9, 1, 17, 1, 5, 1, 1, 6, 11, 26, 1, 1, 1, 4, 3, 8, 3, 5, 7, 2, 1, 16, 1, 8, 1, 4, 15, 1, 1, 5, 1, 3, 17, 4, 1, 9, 1, 2, 1, 1, 1, 1, 1, 3, 17, 4, 5, 19, 1, 7, 5, 3, 1, 3, 1, 3, 3, 1, 1, 5, 1, 2, 5, 4, 2, 5, 4, 5, 4], \"xaxis\": \"x\", \"y\": [null, 0.5294117647058824, 0.5, null, 0.42857142857142855, null, 0.5714285714285714, null, 0.5714285714285714, null, 0.0, null, null, null, 0.5833333333333334, null, null, null, null, null, 0.5384615384615384, null, 0.8, null, 1.0, 0.25, null, null, 0.8333333333333334, null, null, null, null, 1.0, 0.25, null, null, null, null, 0.8, 0.5, null, 0.5714285714285714, 1.0, null, null, 0.2, 1.0, 1.0, 1.0, null, 0.8, null, null, 0.0, null, 0.7142857142857143, null, null, 0.5333333333333333, null, null, null, 0.42857142857142855, 0.5, 0.5, null, null, null, 0.5, 0.55, 0.0, null, 0.5454545454545454, 0.6923076923076923, 0.2857142857142857, null, null, null, null, 0.4444444444444444, null, 0.0, null, 0.7272727272727273, null, 0.6666666666666666, 1.0, null, 0.5384615384615384, null, null, 0.375, null, 0.5625, null, 0.25, null, null, 0.4, 0.6, 0.6, null, null, null, 0.3333333333333333, 0.5, 0.5714285714285714, 0.5, 0.75, 0.6666666666666666, 1.0, null, 0.6666666666666666, null, 0.5714285714285714, null, 0.3333333333333333, 0.5714285714285714, null, null, 0.25, null, 1.0, 0.5, 0.6666666666666666, null, 0.75, null, 1.0, null, null, null, null, null, 0.5, 0.6875, 0.6666666666666666, 0.75, 0.7777777777777778, null, 1.0, 0.5, 0.5, null, 1.0, null, 1.0, 1.0, null, null, 0.5, null, 1.0, 1.0, 1.0, 0.0, 0.75, 0.0, 0.5, 1.0], \"yaxis\": \"y\", \"type\": \"scatter\"}], \"name\": \"9\"}, {\"data\": [{\"hoverlabel\": {\"namelength\": 0}, \"hovertemplate\": \"<b>%{hovertext}</b><br><br>Age=10<br>Length=%{x}<br>%Homochirality=%{y}\", \"hovertext\": [0.6875, 1.0, null, 0.3333333333333333, 0.375, null, null, 1.0, null, 0.59375, null, null, null, null, 0.75, null, 0.6666666666666666, null, 0.5263157894736842, 0.2222222222222222, null, 1.0, 0.5, 0.5, 0.6, 0.5, 0.6666666666666666, null, 1.0, null, null, 0.8, 0.4, null, 0.5294117647058824, null, 0.43478260869565216, null, 0.6, null, null, 1.0, 0.4, null, 0.7142857142857143, null, null, null, 0.5555555555555556, 0.4444444444444444, null, 0.8571428571428571, 0.8181818181818182, 0.5, 0.3333333333333333, null, null, 0.5333333333333333, 0.75, null, null, null, 0.6, null, null, null, 0.8, null, 1.0, null, null, null, 0.5, null, 0.5, null, null, null, 0.5714285714285714, null, null, null, 0.3636363636363637, null, null, 0.5263157894736842, 0.5, 0.5714285714285714, null, 1.0, null, null, 1.0, null, null, null, 0.6153846153846154, 0.5, null, 0.5, 0.5714285714285714, 0.125, 0.6666666666666666, 1.0, 1.0, 0.7777777777777778, 0.0, null, 0.5714285714285714, null, 0.0, null, 0.7777777777777778, 0.9, 0.5555555555555556, 0.6, 0.5, 1.0, null, 0.75, 1.0, 0.2, 0.0, 1.0, 0.25, null, null, 0.625, 0.5, null, 0.4, null, null, null, null, 0.7368421052631579, 0.0, 1.0, 1.0, 0.6, 1.0], \"legendgroup\": \"\", \"marker\": {\"color\": \"#636efa\", \"symbol\": \"circle\"}, \"mode\": \"markers\", \"name\": \"\", \"showlegend\": false, \"x\": [17, 2, 1, 4, 9, 1, 1, 2, 1, 33, 1, 1, 1, 1, 9, 1, 7, 1, 20, 10, 1, 3, 3, 23, 6, 3, 10, 1, 2, 1, 1, 6, 6, 1, 18, 1, 24, 1, 6, 1, 1, 4, 11, 1, 15, 1, 1, 1, 10, 10, 1, 8, 12, 5, 4, 1, 1, 16, 9, 1, 1, 1, 6, 1, 1, 1, 6, 1, 3, 1, 1, 1, 5, 1, 3, 1, 1, 1, 22, 1, 1, 1, 12, 1, 1, 20, 19, 29, 1, 2, 1, 1, 3, 1, 1, 1, 14, 9, 1, 9, 8, 9, 4, 3, 4, 10, 2, 1, 8, 1, 2, 1, 10, 11, 10, 6, 3, 2, 1, 5, 2, 6, 2, 10, 5, 1, 1, 9, 3, 1, 6, 1, 1, 1, 1, 20, 3, 5, 5, 6, 3], \"xaxis\": \"x\", \"y\": [0.6875, 1.0, null, 0.3333333333333333, 0.375, null, null, 1.0, null, 0.59375, null, null, null, null, 0.75, null, 0.6666666666666666, null, 0.5263157894736842, 0.2222222222222222, null, 1.0, 0.5, 0.5, 0.6, 0.5, 0.6666666666666666, null, 1.0, null, null, 0.8, 0.4, null, 0.5294117647058824, null, 0.43478260869565216, null, 0.6, null, null, 1.0, 0.4, null, 0.7142857142857143, null, null, null, 0.5555555555555556, 0.4444444444444444, null, 0.8571428571428571, 0.8181818181818182, 0.5, 0.3333333333333333, null, null, 0.5333333333333333, 0.75, null, null, null, 0.6, null, null, null, 0.8, null, 1.0, null, null, null, 0.5, null, 0.5, null, null, null, 0.5714285714285714, null, null, null, 0.3636363636363637, null, null, 0.5263157894736842, 0.5, 0.5714285714285714, null, 1.0, null, null, 1.0, null, null, null, 0.6153846153846154, 0.5, null, 0.5, 0.5714285714285714, 0.125, 0.6666666666666666, 1.0, 1.0, 0.7777777777777778, 0.0, null, 0.5714285714285714, null, 0.0, null, 0.7777777777777778, 0.9, 0.5555555555555556, 0.6, 0.5, 1.0, null, 0.75, 1.0, 0.2, 0.0, 1.0, 0.25, null, null, 0.625, 0.5, null, 0.4, null, null, null, null, 0.7368421052631579, 0.0, 1.0, 1.0, 0.6, 1.0], \"yaxis\": \"y\", \"type\": \"scatter\"}], \"name\": \"10\"}, {\"data\": [{\"hoverlabel\": {\"namelength\": 0}, \"hovertemplate\": \"<b>%{hovertext}</b><br><br>Age=11<br>Length=%{x}<br>%Homochirality=%{y}\", \"hovertext\": [null, 0.8571428571428571, 0.42857142857142855, 0.2, null, 0.5, null, null, 0.5, 1.0, 1.0, 0.42857142857142855, null, null, 1.0, 0.5555555555555556, 0.5, null, 0.8888888888888888, null, null, 0.2857142857142857, null, 1.0, 0.6666666666666666, 0.8, 0.4166666666666667, 0.5, 0.6666666666666666, null, null, 0.25, 0.0, null, 0.25, null, 0.4615384615384616, 0.75, null, 0.6, null, 0.0, null, null, null, null, null, null, 0.5625, null, null, null, null, 0.875, 0.7, null, null, null, 0.3333333333333333, null, 0.7142857142857143, 0.625, 0.7142857142857143, 0.5714285714285714, 0.7857142857142857, null, 0.6923076923076923, null, null, 0.5, 0.3333333333333333, 0.5238095238095238, 1.0, 0.0, null, null, 0.0, 0.0, 0.5714285714285714, null, null, null, null, null, null, 0.6666666666666666, null, 0.7142857142857143, null, null, 0.42857142857142855, null, null, null, 1.0, 0.75, 0.5, 0.3636363636363637, 0.6, null, 0.7142857142857143, 0.4, 1.0, 0.625, 0.7, 0.8333333333333334, null, 0.8, 0.3636363636363637, 0.5, 0.4545454545454545, null, null, null, 0.5, null, 0.6153846153846154, 1.0, null, null, 0.1111111111111111, null, 0.9, 1.0, 0.0, 1.0, 0.5, 1.0], \"legendgroup\": \"\", \"marker\": {\"color\": \"#636efa\", \"symbol\": \"circle\"}, \"mode\": \"markers\", \"name\": \"\", \"showlegend\": false, \"x\": [1, 8, 8, 6, 1, 13, 1, 1, 7, 2, 3, 8, 1, 1, 3, 28, 5, 1, 10, 1, 1, 15, 1, 3, 7, 6, 13, 3, 16, 1, 1, 5, 2, 1, 13, 1, 14, 21, 1, 6, 1, 2, 1, 1, 1, 1, 1, 1, 33, 1, 1, 1, 1, 9, 11, 1, 1, 1, 10, 1, 8, 17, 8, 15, 15, 1, 14, 1, 1, 15, 4, 43, 4, 2, 1, 1, 2, 2, 43, 1, 1, 1, 1, 1, 1, 4, 1, 8, 1, 1, 8, 1, 1, 1, 2, 9, 3, 12, 6, 1, 8, 6, 2, 9, 21, 7, 1, 6, 12, 7, 12, 1, 1, 1, 3, 1, 14, 7, 1, 1, 10, 1, 11, 5, 2, 3, 3, 3], \"xaxis\": \"x\", \"y\": [null, 0.8571428571428571, 0.42857142857142855, 0.2, null, 0.5, null, null, 0.5, 1.0, 1.0, 0.42857142857142855, null, null, 1.0, 0.5555555555555556, 0.5, null, 0.8888888888888888, null, null, 0.2857142857142857, null, 1.0, 0.6666666666666666, 0.8, 0.4166666666666667, 0.5, 0.6666666666666666, null, null, 0.25, 0.0, null, 0.25, null, 0.4615384615384616, 0.75, null, 0.6, null, 0.0, null, null, null, null, null, null, 0.5625, null, null, null, null, 0.875, 0.7, null, null, null, 0.3333333333333333, null, 0.7142857142857143, 0.625, 0.7142857142857143, 0.5714285714285714, 0.7857142857142857, null, 0.6923076923076923, null, null, 0.5, 0.3333333333333333, 0.5238095238095238, 1.0, 0.0, null, null, 0.0, 0.0, 0.5714285714285714, null, null, null, null, null, null, 0.6666666666666666, null, 0.7142857142857143, null, null, 0.42857142857142855, null, null, null, 1.0, 0.75, 0.5, 0.3636363636363637, 0.6, null, 0.7142857142857143, 0.4, 1.0, 0.625, 0.7, 0.8333333333333334, null, 0.8, 0.3636363636363637, 0.5, 0.4545454545454545, null, null, null, 0.5, null, 0.6153846153846154, 1.0, null, null, 0.1111111111111111, null, 0.9, 1.0, 0.0, 1.0, 0.5, 1.0], \"yaxis\": \"y\", \"type\": \"scatter\"}], \"name\": \"11\"}, {\"data\": [{\"hoverlabel\": {\"namelength\": 0}, \"hovertemplate\": \"<b>%{hovertext}</b><br><br>Age=12<br>Length=%{x}<br>%Homochirality=%{y}\", \"hovertext\": [null, 1.0, null, 0.75, null, null, 0.7142857142857143, 0.5, 0.7619047619047619, 0.5833333333333334, 0.5, null, null, null, null, null, 0.625, null, 0.35714285714285715, null, null, 0.5, 0.0, 0.4615384615384616, null, 0.42857142857142855, null, null, null, null, 0.0, null, null, null, null, null, 1.0, 0.5, 1.0, 0.6666666666666666, 0.7142857142857143, 0.42857142857142855, null, 0.6666666666666666, null, 0.9, 0.6666666666666666, null, null, 0.8, null, 0.5581395348837209, null, 1.0, 0.8888888888888888, 1.0, null, null, 0.2222222222222222, null, 0.6, 0.625, null, 0.0, null, 0.6666666666666666, 1.0, null, 0.0, null, 0.6666666666666666, 0.65, null, 0.7407407407407407, null, 0.75, 0.5769230769230769, 0.38461538461538464, null, 1.0, 0.575, 0.3333333333333333, null, 1.0, 0.5714285714285714, 0.6666666666666666, null, 0.25, null, null, 0.375, 0.3, null, 0.7142857142857143, 0.8181818181818182, 0.5, 0.6666666666666666, 0.5348837209302325, 0.3333333333333333, 0.6428571428571429, null, 1.0, 0.8571428571428571, null, 0.7777777777777778, null, 0.1, 1.0, 1.0, null, 0.0, 1.0, 1.0], \"legendgroup\": \"\", \"marker\": {\"color\": \"#636efa\", \"symbol\": \"circle\"}, \"mode\": \"markers\", \"name\": \"\", \"showlegend\": false, \"x\": [1, 3, 1, 5, 1, 1, 22, 3, 22, 13, 9, 1, 1, 1, 1, 1, 9, 1, 15, 1, 1, 7, 2, 14, 1, 15, 1, 1, 1, 1, 2, 1, 1, 1, 1, 1, 3, 5, 3, 4, 8, 8, 1, 13, 1, 11, 16, 1, 1, 11, 1, 44, 1, 2, 10, 2, 1, 1, 19, 1, 11, 9, 1, 2, 1, 10, 4, 1, 2, 1, 13, 21, 1, 28, 1, 5, 27, 14, 1, 3, 41, 13, 1, 3, 15, 4, 1, 5, 1, 1, 9, 11, 1, 8, 12, 3, 4, 44, 4, 15, 1, 6, 8, 1, 10, 1, 11, 3, 8, 1, 2, 2, 4], \"xaxis\": \"x\", \"y\": [null, 1.0, null, 0.75, null, null, 0.7142857142857143, 0.5, 0.7619047619047619, 0.5833333333333334, 0.5, null, null, null, null, null, 0.625, null, 0.35714285714285715, null, null, 0.5, 0.0, 0.4615384615384616, null, 0.42857142857142855, null, null, null, null, 0.0, null, null, null, null, null, 1.0, 0.5, 1.0, 0.6666666666666666, 0.7142857142857143, 0.42857142857142855, null, 0.6666666666666666, null, 0.9, 0.6666666666666666, null, null, 0.8, null, 0.5581395348837209, null, 1.0, 0.8888888888888888, 1.0, null, null, 0.2222222222222222, null, 0.6, 0.625, null, 0.0, null, 0.6666666666666666, 1.0, null, 0.0, null, 0.6666666666666666, 0.65, null, 0.7407407407407407, null, 0.75, 0.5769230769230769, 0.38461538461538464, null, 1.0, 0.575, 0.3333333333333333, null, 1.0, 0.5714285714285714, 0.6666666666666666, null, 0.25, null, null, 0.375, 0.3, null, 0.7142857142857143, 0.8181818181818182, 0.5, 0.6666666666666666, 0.5348837209302325, 0.3333333333333333, 0.6428571428571429, null, 1.0, 0.8571428571428571, null, 0.7777777777777778, null, 0.1, 1.0, 1.0, null, 0.0, 1.0, 1.0], \"yaxis\": \"y\", \"type\": \"scatter\"}], \"name\": \"12\"}, {\"data\": [{\"hoverlabel\": {\"namelength\": 0}, \"hovertemplate\": \"<b>%{hovertext}</b><br><br>Age=13<br>Length=%{x}<br>%Homochirality=%{y}\", \"hovertext\": [null, 0.25, null, null, null, null, 0.75, 0.5925925925925926, null, null, 0.2727272727272727, null, null, 0.6363636363636364, 0.8333333333333334, 0.375, null, null, 0.3076923076923077, 0.75, 0.7, 0.5660377358490566, 0.6666666666666666, null, null, 0.5, 0.6, null, 0.3333333333333333, 1.0, 0.6944444444444444, null, 0.6666666666666666, 0.875, null, null, null, 0.6551724137931034, 0.0, 0.6875, null, null, 0.25, 1.0, 0.75, null, 0.0, null, 0.6, null, 0.7, 0.6153846153846154, null, 1.0, 1.0, null, 0.64, 0.14285714285714285, 0.7142857142857143, null, null, null, 0.4666666666666667, 0.6666666666666666, 0.6666666666666666, 0.75, 0.56, 1.0, 1.0, 0.6363636363636364, 0.8, 0.6666666666666666, 0.4444444444444444, 0.5185185185185185, 0.3333333333333333, 0.8, 0.625, 0.3636363636363637, null, 0.4, 0.5, 0.8888888888888888, null, null, 0.8, 0.9, null, 0.8333333333333334, 0.0, 0.4705882352941176, 0.8, 1.0], \"legendgroup\": \"\", \"marker\": {\"color\": \"#636efa\", \"symbol\": \"circle\"}, \"mode\": \"markers\", \"name\": \"\", \"showlegend\": false, \"x\": [1, 5, 1, 1, 1, 1, 5, 28, 1, 1, 23, 1, 1, 12, 7, 9, 1, 1, 14, 5, 11, 54, 10, 1, 1, 5, 11, 1, 4, 4, 37, 1, 16, 9, 1, 1, 1, 30, 2, 17, 1, 1, 5, 2, 5, 1, 2, 1, 6, 1, 21, 14, 1, 2, 4, 1, 26, 8, 15, 1, 1, 1, 16, 37, 4, 9, 26, 4, 5, 12, 11, 4, 10, 28, 4, 6, 17, 12, 1, 16, 3, 10, 1, 1, 6, 11, 1, 7, 3, 18, 6, 3], \"xaxis\": \"x\", \"y\": [null, 0.25, null, null, null, null, 0.75, 0.5925925925925926, null, null, 0.2727272727272727, null, null, 0.6363636363636364, 0.8333333333333334, 0.375, null, null, 0.3076923076923077, 0.75, 0.7, 0.5660377358490566, 0.6666666666666666, null, null, 0.5, 0.6, null, 0.3333333333333333, 1.0, 0.6944444444444444, null, 0.6666666666666666, 0.875, null, null, null, 0.6551724137931034, 0.0, 0.6875, null, null, 0.25, 1.0, 0.75, null, 0.0, null, 0.6, null, 0.7, 0.6153846153846154, null, 1.0, 1.0, null, 0.64, 0.14285714285714285, 0.7142857142857143, null, null, null, 0.4666666666666667, 0.6666666666666666, 0.6666666666666666, 0.75, 0.56, 1.0, 1.0, 0.6363636363636364, 0.8, 0.6666666666666666, 0.4444444444444444, 0.5185185185185185, 0.3333333333333333, 0.8, 0.625, 0.3636363636363637, null, 0.4, 0.5, 0.8888888888888888, null, null, 0.8, 0.9, null, 0.8333333333333334, 0.0, 0.4705882352941176, 0.8, 1.0], \"yaxis\": \"y\", \"type\": \"scatter\"}], \"name\": \"13\"}, {\"data\": [{\"hoverlabel\": {\"namelength\": 0}, \"hovertemplate\": \"<b>%{hovertext}</b><br><br>Age=14<br>Length=%{x}<br>%Homochirality=%{y}\", \"hovertext\": [0.7142857142857143, 0.5, 0.5, 0.8333333333333334, 0.8571428571428571, 0.625, null, 0.6666666666666666, 0.5, null, null, 0.5, 0.8421052631578947, null, 0.6, null, 0.0, 0.6818181818181818, 0.5185185185185185, null, null, 0.75, 0.5882352941176471, null, 1.0, 0.5, null, null, null, 0.6774193548387096, null, null, 0.4444444444444444, 0.8, null, 0.32, null, 0.575, null, null, null, 0.7407407407407407, 0.6666666666666666, 0.0, null, 0.5789473684210527, 0.5517241379310345, 0.625, 0.56, null, null, 0.6666666666666666, null, 0.5, 0.6153846153846154, 1.0, null, 0.375, null, 1.0, null, 1.0, 0.6666666666666666, 0.9, 0.0, 0.0, 0.7058823529411765, 0.5, 0.5, null, 0.5, 0.5833333333333334, 0.8, null, 1.0, 0.8], \"legendgroup\": \"\", \"marker\": {\"color\": \"#636efa\", \"symbol\": \"circle\"}, \"mode\": \"markers\", \"name\": \"\", \"showlegend\": false, \"x\": [22, 5, 23, 7, 8, 65, 1, 10, 13, 1, 1, 3, 20, 1, 26, 1, 2, 23, 28, 1, 1, 5, 18, 1, 4, 15, 1, 1, 1, 32, 1, 1, 19, 6, 1, 26, 1, 41, 1, 1, 1, 28, 10, 2, 1, 20, 30, 9, 26, 1, 1, 16, 1, 29, 14, 4, 1, 17, 1, 6, 1, 2, 7, 11, 2, 3, 18, 3, 15, 1, 7, 13, 6, 1, 3, 6], \"xaxis\": \"x\", \"y\": [0.7142857142857143, 0.5, 0.5, 0.8333333333333334, 0.8571428571428571, 0.625, null, 0.6666666666666666, 0.5, null, null, 0.5, 0.8421052631578947, null, 0.6, null, 0.0, 0.6818181818181818, 0.5185185185185185, null, null, 0.75, 0.5882352941176471, null, 1.0, 0.5, null, null, null, 0.6774193548387096, null, null, 0.4444444444444444, 0.8, null, 0.32, null, 0.575, null, null, null, 0.7407407407407407, 0.6666666666666666, 0.0, null, 0.5789473684210527, 0.5517241379310345, 0.625, 0.56, null, null, 0.6666666666666666, null, 0.5, 0.6153846153846154, 1.0, null, 0.375, null, 1.0, null, 1.0, 0.6666666666666666, 0.9, 0.0, 0.0, 0.7058823529411765, 0.5, 0.5, null, 0.5, 0.5833333333333334, 0.8, null, 1.0, 0.8], \"yaxis\": \"y\", \"type\": \"scatter\"}], \"name\": \"14\"}, {\"data\": [{\"hoverlabel\": {\"namelength\": 0}, \"hovertemplate\": \"<b>%{hovertext}</b><br><br>Age=15<br>Length=%{x}<br>%Homochirality=%{y}\", \"hovertext\": [null, 0.6153846153846154, 1.0, 0.6666666666666666, 0.75, 0.6666666666666666, null, 0.4666666666666667, null, 1.0, 0.6, null, 0.0, null, 0.5869565217391305, 1.0, null, 0.5517241379310345, 0.6285714285714286, null, 0.375, 0.5581395348837209, 0.8, 0.0, null, 0.6111111111111112, null, 1.0, 0.5476190476190477, null, 0.6666666666666666, null, null, 0.6, 0.8571428571428571, 0.5333333333333333, 0.6363636363636364, 1.0, 0.4878048780487805, null, 0.35294117647058826, 0.6, 0.8, null, 0.5714285714285714, null, 0.5789473684210527, 0.6666666666666666, 0.3076923076923077, 0.8666666666666667, 1.0, 0.7142857142857143, null, 0.6875, 1.0, null, 0.3333333333333333, null, null, 1.0], \"legendgroup\": \"\", \"marker\": {\"color\": \"#636efa\", \"symbol\": \"circle\"}, \"mode\": \"markers\", \"name\": \"\", \"showlegend\": false, \"x\": [1, 66, 2, 4, 29, 4, 1, 16, 1, 6, 6, 1, 3, 1, 47, 4, 1, 30, 36, 1, 9, 44, 6, 2, 1, 19, 1, 4, 43, 1, 16, 1, 1, 16, 15, 16, 23, 6, 42, 1, 18, 31, 21, 1, 22, 1, 20, 7, 27, 16, 6, 8, 1, 33, 3, 1, 4, 1, 1, 5], \"xaxis\": \"x\", \"y\": [null, 0.6153846153846154, 1.0, 0.6666666666666666, 0.75, 0.6666666666666666, null, 0.4666666666666667, null, 1.0, 0.6, null, 0.0, null, 0.5869565217391305, 1.0, null, 0.5517241379310345, 0.6285714285714286, null, 0.375, 0.5581395348837209, 0.8, 0.0, null, 0.6111111111111112, null, 1.0, 0.5476190476190477, null, 0.6666666666666666, null, null, 0.6, 0.8571428571428571, 0.5333333333333333, 0.6363636363636364, 1.0, 0.4878048780487805, null, 0.35294117647058826, 0.6, 0.8, null, 0.5714285714285714, null, 0.5789473684210527, 0.6666666666666666, 0.3076923076923077, 0.8666666666666667, 1.0, 0.7142857142857143, null, 0.6875, 1.0, null, 0.3333333333333333, null, null, 1.0], \"yaxis\": \"y\", \"type\": \"scatter\"}], \"name\": \"15\"}, {\"data\": [{\"hoverlabel\": {\"namelength\": 0}, \"hovertemplate\": \"<b>%{hovertext}</b><br><br>Age=16<br>Length=%{x}<br>%Homochirality=%{y}\", \"hovertext\": [0.7777777777777778, 0.6060606060606061, 0.5625, null, 1.0, 1.0, null, 0.7, null, null, 0.6842105263157895, 0.4705882352941176, 0.0, 0.6875, 0.6470588235294118, null, null, 0.75, null, 1.0, 0.3333333333333333, 0.8421052631578947, 0.5, null, 0.5692307692307692, null, 0.5, 0.4615384615384616, 0.5, null, 1.0, 0.7142857142857143, null, 0.6666666666666666, 0.3333333333333333, 0.9, 0.5294117647058824, null, 0.4893617021276596, 0.5789473684210527, 0.4, 0.6190476190476191, 0.5, null, 0.8333333333333334, 0.5, 1.0, 0.75, 0.38461538461538464, 1.0, 0.8333333333333334, 0.7142857142857143], \"legendgroup\": \"\", \"marker\": {\"color\": \"#636efa\", \"symbol\": \"circle\"}, \"mode\": \"markers\", \"name\": \"\", \"showlegend\": false, \"x\": [10, 67, 33, 1, 2, 6, 1, 31, 1, 1, 20, 18, 3, 17, 52, 1, 1, 9, 1, 4, 4, 20, 3, 1, 66, 1, 11, 14, 43, 1, 7, 8, 1, 7, 4, 11, 52, 1, 48, 39, 6, 64, 3, 1, 7, 5, 6, 5, 14, 4, 7, 8], \"xaxis\": \"x\", \"y\": [0.7777777777777778, 0.6060606060606061, 0.5625, null, 1.0, 1.0, null, 0.7, null, null, 0.6842105263157895, 0.4705882352941176, 0.0, 0.6875, 0.6470588235294118, null, null, 0.75, null, 1.0, 0.3333333333333333, 0.8421052631578947, 0.5, null, 0.5692307692307692, null, 0.5, 0.4615384615384616, 0.5, null, 1.0, 0.7142857142857143, null, 0.6666666666666666, 0.3333333333333333, 0.9, 0.5294117647058824, null, 0.4893617021276596, 0.5789473684210527, 0.4, 0.6190476190476191, 0.5, null, 0.8333333333333334, 0.5, 1.0, 0.75, 0.38461538461538464, 1.0, 0.8333333333333334, 0.7142857142857143], \"yaxis\": \"y\", \"type\": \"scatter\"}], \"name\": \"16\"}, {\"data\": [{\"hoverlabel\": {\"namelength\": 0}, \"hovertemplate\": \"<b>%{hovertext}</b><br><br>Age=17<br>Length=%{x}<br>%Homochirality=%{y}\", \"hovertext\": [0.68, 0.3333333333333333, null, null, 0.375, 0.5, 1.0, 0.75, 1.0, 0.75, 0.5959595959595959, 0.8333333333333334, 0.8461538461538461, 0.3333333333333333, 0.5185185185185185, null, 0.5, 0.8888888888888888, null, 0.6052631578947368, null, 0.0, null, 0.4, 0.8, null, null, null, 1.0, 0.6666666666666666, 0.6875, 0.5802469135802469, 0.4615384615384616, 0.6666666666666666, 0.3333333333333333, null, 0.6530612244897959, 1.0, null, 0.6666666666666666, null, 1.0, 0.6176470588235294, 0.75, null, 0.5, 0.5, 0.0, 0.5769230769230769, 1.0, 0.7777777777777778], \"legendgroup\": \"\", \"marker\": {\"color\": \"#636efa\", \"symbol\": \"circle\"}, \"mode\": \"markers\", \"name\": \"\", \"showlegend\": false, \"x\": [51, 4, 1, 1, 17, 9, 6, 9, 2, 5, 100, 7, 14, 4, 55, 1, 15, 10, 1, 77, 1, 2, 1, 16, 11, 1, 1, 1, 7, 4, 17, 82, 14, 7, 7, 1, 50, 3, 1, 4, 1, 6, 35, 9, 1, 33, 7, 2, 27, 4, 10], \"xaxis\": \"x\", \"y\": [0.68, 0.3333333333333333, null, null, 0.375, 0.5, 1.0, 0.75, 1.0, 0.75, 0.5959595959595959, 0.8333333333333334, 0.8461538461538461, 0.3333333333333333, 0.5185185185185185, null, 0.5, 0.8888888888888888, null, 0.6052631578947368, null, 0.0, null, 0.4, 0.8, null, null, null, 1.0, 0.6666666666666666, 0.6875, 0.5802469135802469, 0.4615384615384616, 0.6666666666666666, 0.3333333333333333, null, 0.6530612244897959, 1.0, null, 0.6666666666666666, null, 1.0, 0.6176470588235294, 0.75, null, 0.5, 0.5, 0.0, 0.5769230769230769, 1.0, 0.7777777777777778], \"yaxis\": \"y\", \"type\": \"scatter\"}], \"name\": \"17\"}, {\"data\": [{\"hoverlabel\": {\"namelength\": 0}, \"hovertemplate\": \"<b>%{hovertext}</b><br><br>Age=18<br>Length=%{x}<br>%Homochirality=%{y}\", \"hovertext\": [0.5384615384615384, 0.7333333333333333, 0.5306122448979592, null, 0.75, 0.660377358490566, 0.6341463414634146, null, null, null, 0.7142857142857143, 0.7777777777777778, 0.6086956521739131, 1.0, null, 1.0, 0.6212121212121212, 0.6666666666666666, 0.6057692307692307, 0.55, 0.9090909090909092, null, 0.5714285714285714, null, 0.4, 1.0, 0.0, 1.0, 0.6923076923076923, null, 0.5555555555555556, null, 0.0, 0.56, 0.5, 0.5882352941176471, 0.3333333333333333, 0.75, null, 1.0, 0.2857142857142857, 0.5714285714285714, null, 0.0, 0.4848484848484849, 0.75], \"legendgroup\": \"\", \"marker\": {\"color\": \"#636efa\", \"symbol\": \"circle\"}, \"mode\": \"markers\", \"name\": \"\", \"showlegend\": false, \"x\": [27, 16, 50, 1, 13, 54, 42, 1, 1, 1, 8, 10, 24, 4, 1, 6, 133, 7, 105, 41, 12, 1, 8, 1, 6, 3, 2, 7, 14, 1, 10, 1, 2, 26, 5, 35, 7, 9, 1, 2, 8, 8, 1, 2, 34, 9], \"xaxis\": \"x\", \"y\": [0.5384615384615384, 0.7333333333333333, 0.5306122448979592, null, 0.75, 0.660377358490566, 0.6341463414634146, null, null, null, 0.7142857142857143, 0.7777777777777778, 0.6086956521739131, 1.0, null, 1.0, 0.6212121212121212, 0.6666666666666666, 0.6057692307692307, 0.55, 0.9090909090909092, null, 0.5714285714285714, null, 0.4, 1.0, 0.0, 1.0, 0.6923076923076923, null, 0.5555555555555556, null, 0.0, 0.56, 0.5, 0.5882352941176471, 0.3333333333333333, 0.75, null, 1.0, 0.2857142857142857, 0.5714285714285714, null, 0.0, 0.4848484848484849, 0.75], \"yaxis\": \"y\", \"type\": \"scatter\"}], \"name\": \"18\"}, {\"data\": [{\"hoverlabel\": {\"namelength\": 0}, \"hovertemplate\": \"<b>%{hovertext}</b><br><br>Age=19<br>Length=%{x}<br>%Homochirality=%{y}\", \"hovertext\": [null, 0.6, 0.6153846153846154, 1.0, null, null, 0.5, 0.5555555555555556, 0.5, 1.0, 1.0, 0.5, 0.7142857142857143, null, 1.0, null, 0.6666666666666666, null, 0.6956521739130435, 0.75, null, 0.3333333333333333, 0.5263157894736842, 1.0, null, 0.6052631578947368, 0.5, 0.8571428571428571, 1.0, 1.0, 0.5, null, null, null, 0.5925925925925926, 0.75, null, 0.5, 0.0, 0.5, 0.6666666666666666, 0.6, 1.0, 1.0, 1.0, 0.5, null, 0.5, 0.0], \"legendgroup\": \"\", \"marker\": {\"color\": \"#636efa\", \"symbol\": \"circle\"}, \"mode\": \"markers\", \"name\": \"\", \"showlegend\": false, \"x\": [1, 141, 66, 6, 1, 1, 13, 28, 5, 3, 6, 3, 8, 1, 6, 1, 67, 1, 24, 5, 1, 4, 77, 4, 1, 115, 19, 8, 3, 3, 5, 1, 1, 1, 28, 13, 1, 3, 2, 3, 4, 36, 4, 8, 5, 15, 1, 5, 2], \"xaxis\": \"x\", \"y\": [null, 0.6, 0.6153846153846154, 1.0, null, null, 0.5, 0.5555555555555556, 0.5, 1.0, 1.0, 0.5, 0.7142857142857143, null, 1.0, null, 0.6666666666666666, null, 0.6956521739130435, 0.75, null, 0.3333333333333333, 0.5263157894736842, 1.0, null, 0.6052631578947368, 0.5, 0.8571428571428571, 1.0, 1.0, 0.5, null, null, null, 0.5925925925925926, 0.75, null, 0.5, 0.0, 0.5, 0.6666666666666666, 0.6, 1.0, 1.0, 1.0, 0.5, null, 0.5, 0.0], \"yaxis\": \"y\", \"type\": \"scatter\"}], \"name\": \"19\"}, {\"data\": [{\"hoverlabel\": {\"namelength\": 0}, \"hovertemplate\": \"<b>%{hovertext}</b><br><br>Age=20<br>Length=%{x}<br>%Homochirality=%{y}\", \"hovertext\": [0.7142857142857143, 0.6164383561643836, null, null, 0.4444444444444444, 0.64, 0.6666666666666666, 0.6875, 1.0, 0.8333333333333334, 1.0, null, 0.6666666666666666, 0.5, 0.6666666666666666, 0.6666666666666666, 1.0, 0.5897435897435898, null, null, 0.75, 0.7777777777777778, 1.0, 0.6, null, 0.0, null, null, 0.5714285714285714, null, 0.5483870967741935, 1.0, 0.6106194690265486, null, 0.5, 0.5555555555555556, 0.6071428571428571, null, null, 0.5, 0.6666666666666666, null, 0.6], \"legendgroup\": \"\", \"marker\": {\"color\": \"#636efa\", \"symbol\": \"circle\"}, \"mode\": \"markers\", \"name\": \"\", \"showlegend\": false, \"x\": [8, 147, 1, 1, 10, 26, 70, 17, 6, 7, 3, 1, 16, 3, 4, 16, 3, 79, 1, 1, 9, 10, 5, 6, 1, 2, 1, 1, 22, 1, 32, 8, 114, 1, 5, 19, 29, 1, 1, 61, 4, 1, 6], \"xaxis\": \"x\", \"y\": [0.7142857142857143, 0.6164383561643836, null, null, 0.4444444444444444, 0.64, 0.6666666666666666, 0.6875, 1.0, 0.8333333333333334, 1.0, null, 0.6666666666666666, 0.5, 0.6666666666666666, 0.6666666666666666, 1.0, 0.5897435897435898, null, null, 0.75, 0.7777777777777778, 1.0, 0.6, null, 0.0, null, null, 0.5714285714285714, null, 0.5483870967741935, 1.0, 0.6106194690265486, null, 0.5, 0.5555555555555556, 0.6071428571428571, null, null, 0.5, 0.6666666666666666, null, 0.6], \"yaxis\": \"y\", \"type\": \"scatter\"}], \"name\": \"20\"}, {\"data\": [{\"hoverlabel\": {\"namelength\": 0}, \"hovertemplate\": \"<b>%{hovertext}</b><br><br>Age=21<br>Length=%{x}<br>%Homochirality=%{y}\", \"hovertext\": [0.5675675675675675, 0.75, null, 0.6818181818181818, 1.0, 0.6666666666666666, null, null, 0.5714285714285714, 0.8571428571428571, 1.0, 0.492063492063492, null, null, null, null, null, null, 0.6585365853658537, 0.8, 0.8333333333333334, 0.6101694915254238, null, 0.5971223021582733, 0.6805555555555556, null, 0.5975609756097561, 0.6129032258064516, 0.5, null, 1.0, 0.5, 0.5925925925925926, null], \"legendgroup\": \"\", \"marker\": {\"color\": \"#636efa\", \"symbol\": \"circle\"}, \"mode\": \"markers\", \"name\": \"\", \"showlegend\": false, \"x\": [38, 13, 1, 23, 5, 10, 1, 1, 22, 8, 8, 64, 1, 1, 1, 1, 1, 1, 42, 11, 7, 119, 1, 140, 73, 1, 83, 32, 3, 1, 7, 11, 28, 1], \"xaxis\": \"x\", \"y\": [0.5675675675675675, 0.75, null, 0.6818181818181818, 1.0, 0.6666666666666666, null, null, 0.5714285714285714, 0.8571428571428571, 1.0, 0.492063492063492, null, null, null, null, null, null, 0.6585365853658537, 0.8, 0.8333333333333334, 0.6101694915254238, null, 0.5971223021582733, 0.6805555555555556, null, 0.5975609756097561, 0.6129032258064516, 0.5, null, 1.0, 0.5, 0.5925925925925926, null], \"yaxis\": \"y\", \"type\": \"scatter\"}], \"name\": \"21\"}, {\"data\": [{\"hoverlabel\": {\"namelength\": 0}, \"hovertemplate\": \"<b>%{hovertext}</b><br><br>Age=22<br>Length=%{x}<br>%Homochirality=%{y}\", \"hovertext\": [0.6160714285714286, 0.5526315789473685, null, 1.0, 0.6071428571428571, null, 0.8571428571428571, null, null, 0.7058823529411765, null, 0.6052631578947368, null, 0.6875, 0.7777777777777778, 0.7222222222222222, 0.7142857142857143, null, 0.5394736842105263, 0.8666666666666667, null, 0.7, null, 0.5, 0.6050420168067226, 0.5384615384615384, null, 0.75, 0.6774193548387096, 0.5384615384615384], \"legendgroup\": \"\", \"marker\": {\"color\": \"#636efa\", \"symbol\": \"circle\"}, \"mode\": \"markers\", \"name\": \"\", \"showlegend\": false, \"x\": [113, 39, 1, 6, 29, 1, 8, 1, 1, 18, 1, 115, 1, 49, 10, 19, 8, 1, 77, 16, 1, 11, 1, 3, 120, 27, 1, 5, 63, 14], \"xaxis\": \"x\", \"y\": [0.6160714285714286, 0.5526315789473685, null, 1.0, 0.6071428571428571, null, 0.8571428571428571, null, null, 0.7058823529411765, null, 0.6052631578947368, null, 0.6875, 0.7777777777777778, 0.7222222222222222, 0.7142857142857143, null, 0.5394736842105263, 0.8666666666666667, null, 0.7, null, 0.5, 0.6050420168067226, 0.5384615384615384, null, 0.75, 0.6774193548387096, 0.5384615384615384], \"yaxis\": \"y\", \"type\": \"scatter\"}], \"name\": \"22\"}, {\"data\": [{\"hoverlabel\": {\"namelength\": 0}, \"hovertemplate\": \"<b>%{hovertext}</b><br><br>Age=23<br>Length=%{x}<br>%Homochirality=%{y}\", \"hovertext\": [0.6194690265486725, 0.7, 1.0, 0.5555555555555556, 0.7142857142857143, 0.5555555555555556, 1.0, 0.6025641025641025, 0.72, 0.6842105263157895, null, null, 0.6612903225806451, null, 0.5384615384615384, null, null, null, 0.5652173913043478, 0.9, 1.0, 0.6956521739130435, 0.6363636363636364, 1.0], \"legendgroup\": \"\", \"marker\": {\"color\": \"#636efa\", \"symbol\": \"circle\"}, \"mode\": \"markers\", \"name\": \"\", \"showlegend\": false, \"x\": [114, 11, 5, 82, 29, 28, 4, 235, 26, 39, 1, 1, 63, 1, 40, 1, 1, 1, 24, 11, 2, 24, 12, 5], \"xaxis\": \"x\", \"y\": [0.6194690265486725, 0.7, 1.0, 0.5555555555555556, 0.7142857142857143, 0.5555555555555556, 1.0, 0.6025641025641025, 0.72, 0.6842105263157895, null, null, 0.6612903225806451, null, 0.5384615384615384, null, null, null, 0.5652173913043478, 0.9, 1.0, 0.6956521739130435, 0.6363636363636364, 1.0], \"yaxis\": \"y\", \"type\": \"scatter\"}], \"name\": \"23\"}, {\"data\": [{\"hoverlabel\": {\"namelength\": 0}, \"hovertemplate\": \"<b>%{hovertext}</b><br><br>Age=24<br>Length=%{x}<br>%Homochirality=%{y}\", \"hovertext\": [0.6228070175438597, 0.7692307692307693, 0.7407407407407407, null, null, null, 1.0, 0.6078431372549019, 0.5757575757575758, 0.8, null, 0.6161616161616161, 0.25, 0.6363636363636364, 0.5223880597014925, null, 1.0, 0.7307692307692307, 0.4, 0.7857142857142857, 0.7692307692307693, 1.0, 0.6363636363636364], \"legendgroup\": \"\", \"marker\": {\"color\": \"#636efa\", \"symbol\": \"circle\"}, \"mode\": \"markers\", \"name\": \"\", \"showlegend\": false, \"x\": [115, 40, 28, 1, 1, 1, 5, 52, 34, 16, 1, 298, 9, 12, 68, 1, 2, 27, 6, 15, 14, 2, 12], \"xaxis\": \"x\", \"y\": [0.6228070175438597, 0.7692307692307693, 0.7407407407407407, null, null, null, 1.0, 0.6078431372549019, 0.5757575757575758, 0.8, null, 0.6161616161616161, 0.25, 0.6363636363636364, 0.5223880597014925, null, 1.0, 0.7307692307692307, 0.4, 0.7857142857142857, 0.7692307692307693, 1.0, 0.6363636363636364], \"yaxis\": \"y\", \"type\": \"scatter\"}], \"name\": \"24\"}, {\"data\": [{\"hoverlabel\": {\"namelength\": 0}, \"hovertemplate\": \"<b>%{hovertext}</b><br><br>Age=25<br>Length=%{x}<br>%Homochirality=%{y}\", \"hovertext\": [0.4705882352941176, 0.7407407407407407, 0.8387096774193549, null, 1.0, 0.9, 0.5641025641025641, 1.0, 0.5652173913043478, 0.6041666666666666, null, null, 0.75, 0.5147058823529411, 0.6161616161616161, 0.75, 0.65625, 0.5714285714285714, 0.6956521739130435, 0.5, 1.0, 1.0, 0.7619047619047619], \"legendgroup\": \"\", \"marker\": {\"color\": \"#636efa\", \"symbol\": \"circle\"}, \"mode\": \"markers\", \"name\": \"\", \"showlegend\": false, \"x\": [18, 28, 32, 1, 4, 11, 40, 2, 24, 49, 1, 1, 17, 69, 298, 5, 97, 8, 24, 3, 3, 3, 22], \"xaxis\": \"x\", \"y\": [0.4705882352941176, 0.7407407407407407, 0.8387096774193549, null, 1.0, 0.9, 0.5641025641025641, 1.0, 0.5652173913043478, 0.6041666666666666, null, null, 0.75, 0.5147058823529411, 0.6161616161616161, 0.75, 0.65625, 0.5714285714285714, 0.6956521739130435, 0.5, 1.0, 1.0, 0.7619047619047619], \"yaxis\": \"y\", \"type\": \"scatter\"}], \"name\": \"25\"}, {\"data\": [{\"hoverlabel\": {\"namelength\": 0}, \"hovertemplate\": \"<b>%{hovertext}</b><br><br>Age=26<br>Length=%{x}<br>%Homochirality=%{y}\", \"hovertext\": [0.7647058823529411, 0.7272727272727273, 0.5, 0.6666666666666666, 0.7818181818181819, 0.5769230769230769, null, 0.7272727272727273, 0.5285714285714286, 0.615606936416185, 0.7, 1.0, 0.5789473684210527, null, 0.8333333333333334], \"legendgroup\": \"\", \"marker\": {\"color\": \"#636efa\", \"symbol\": \"circle\"}, \"mode\": \"markers\", \"name\": \"\", \"showlegend\": false, \"x\": [18, 12, 23, 100, 56, 27, 1, 23, 71, 347, 31, 4, 39, 1, 7], \"xaxis\": \"x\", \"y\": [0.7647058823529411, 0.7272727272727273, 0.5, 0.6666666666666666, 0.7818181818181819, 0.5769230769230769, null, 0.7272727272727273, 0.5285714285714286, 0.615606936416185, 0.7, 1.0, 0.5789473684210527, null, 0.8333333333333334], \"yaxis\": \"y\", \"type\": \"scatter\"}], \"name\": \"26\"}, {\"data\": [{\"hoverlabel\": {\"namelength\": 0}, \"hovertemplate\": \"<b>%{hovertext}</b><br><br>Age=27<br>Length=%{x}<br>%Homochirality=%{y}\", \"hovertext\": [0.7741935483870968, 0.6666666666666666, 0.4444444444444444, 0.5352112676056338, 0.8571428571428571, null, 0.5952380952380952, 0.6837606837606838, 0.6153846153846154, 0.6037735849056604, 0.8571428571428571, 0.6875, 0.5714285714285714, 0.6224489795918368], \"legendgroup\": \"\", \"marker\": {\"color\": \"#636efa\", \"symbol\": \"circle\"}, \"mode\": \"markers\", \"name\": \"\", \"showlegend\": false, \"x\": [63, 4, 10, 72, 15, 1, 43, 118, 248, 54, 8, 17, 8, 99], \"xaxis\": \"x\", \"y\": [0.7741935483870968, 0.6666666666666666, 0.4444444444444444, 0.5352112676056338, 0.8571428571428571, null, 0.5952380952380952, 0.6837606837606838, 0.6153846153846154, 0.6037735849056604, 0.8571428571428571, 0.6875, 0.5714285714285714, 0.6224489795918368], \"yaxis\": \"y\", \"type\": \"scatter\"}], \"name\": \"27\"}, {\"data\": [{\"hoverlabel\": {\"namelength\": 0}, \"hovertemplate\": \"<b>%{hovertext}</b><br><br>Age=28<br>Length=%{x}<br>%Homochirality=%{y}\", \"hovertext\": [0.7083333333333334, 0.5316455696202531, 0.7727272727272727, 0.6614173228346457, 0.5428571428571428, 0.615606936416185, 0.8571428571428571, 0.5263157894736842, null, 0.7647058823529411, 0.6818181818181818], \"legendgroup\": \"\", \"marker\": {\"color\": \"#636efa\", \"symbol\": \"circle\"}, \"mode\": \"markers\", \"name\": \"\", \"showlegend\": false, \"x\": [25, 80, 67, 128, 36, 347, 15, 20, 1, 18, 23], \"xaxis\": \"x\", \"y\": [0.7083333333333334, 0.5316455696202531, 0.7727272727272727, 0.6614173228346457, 0.5428571428571428, 0.615606936416185, 0.8571428571428571, 0.5263157894736842, null, 0.7647058823529411, 0.6818181818181818], \"yaxis\": \"y\", \"type\": \"scatter\"}], \"name\": \"28\"}, {\"data\": [{\"hoverlabel\": {\"namelength\": 0}, \"hovertemplate\": \"<b>%{hovertext}</b><br><br>Age=29<br>Length=%{x}<br>%Homochirality=%{y}\", \"hovertext\": [0.7738095238095238, 0.6470588235294118, 0.8095238095238095, 0.6065573770491803, 0.5744680851063829, null, 0.5263157894736842, 0.75, 0.6956521739130435, null, 0.6380952380952379, 0.6197183098591549, 0.5588235294117647, null], \"legendgroup\": \"\", \"marker\": {\"color\": \"#636efa\", \"symbol\": \"circle\"}, \"mode\": \"markers\", \"name\": \"\", \"showlegend\": false, \"x\": [85, 18, 22, 62, 95, 1, 20, 5, 24, 1, 106, 285, 35, 1], \"xaxis\": \"x\", \"y\": [0.7738095238095238, 0.6470588235294118, 0.8095238095238095, 0.6065573770491803, 0.5744680851063829, null, 0.5263157894736842, 0.75, 0.6956521739130435, null, 0.6380952380952379, 0.6197183098591549, 0.5588235294117647, null], \"yaxis\": \"y\", \"type\": \"scatter\"}], \"name\": \"29\"}, {\"data\": [{\"hoverlabel\": {\"namelength\": 0}, \"hovertemplate\": \"<b>%{hovertext}</b><br><br>Age=30<br>Length=%{x}<br>%Homochirality=%{y}\", \"hovertext\": [0.6206896551724138, 0.6118421052631579, 0.6666666666666666, null, 0.5517241379310345, 0.605, null, 0.7735849056603774, 0.5, 0.0, 0.25, 0.6774193548387096, 1.0, 0.7333333333333333], \"legendgroup\": \"\", \"marker\": {\"color\": \"#636efa\", \"symbol\": \"circle\"}, \"mode\": \"markers\", \"name\": \"\", \"showlegend\": false, \"x\": [30, 305, 25, 1, 30, 201, 1, 107, 3, 2, 5, 32, 2, 16], \"xaxis\": \"x\", \"y\": [0.6206896551724138, 0.6118421052631579, 0.6666666666666666, null, 0.5517241379310345, 0.605, null, 0.7735849056603774, 0.5, 0.0, 0.25, 0.6774193548387096, 1.0, 0.7333333333333333], \"yaxis\": \"y\", \"type\": \"scatter\"}], \"name\": \"30\"}, {\"data\": [{\"hoverlabel\": {\"namelength\": 0}, \"hovertemplate\": \"<b>%{hovertext}</b><br><br>Age=31<br>Length=%{x}<br>%Homochirality=%{y}\", \"hovertext\": [0.6098360655737705, 0.7796610169491526, 0.7, 0.5, 0.6875, 0.6059113300492611, 0.3333333333333333, 0.5517241379310345, 0.0, 0.5, 0.7826086956521741, null, 0.7692307692307693, 0.8333333333333334], \"legendgroup\": \"\", \"marker\": {\"color\": \"#636efa\", \"symbol\": \"circle\"}, \"mode\": \"markers\", \"name\": \"\", \"showlegend\": false, \"x\": [306, 60, 31, 11, 17, 204, 7, 30, 2, 17, 47, 1, 14, 13], \"xaxis\": \"x\", \"y\": [0.6098360655737705, 0.7796610169491526, 0.7, 0.5, 0.6875, 0.6059113300492611, 0.3333333333333333, 0.5517241379310345, 0.0, 0.5, 0.7826086956521741, null, 0.7692307692307693, 0.8333333333333334], \"yaxis\": \"y\", \"type\": \"scatter\"}], \"name\": \"31\"}, {\"data\": [{\"hoverlabel\": {\"namelength\": 0}, \"hovertemplate\": \"<b>%{hovertext}</b><br><br>Age=32<br>Length=%{x}<br>%Homochirality=%{y}\", \"hovertext\": [0.6, 1.0, 0.7285714285714285, 0.3333333333333333, 0.8, 0.6144200626959248, 0.7619047619047619, 0.75, 0.5517241379310345, null, 0.8888888888888888, 0.5, 0.7083333333333334, 0.2857142857142857], \"legendgroup\": \"\", \"marker\": {\"color\": \"#636efa\", \"symbol\": \"circle\"}, \"mode\": \"markers\", \"name\": \"\", \"showlegend\": false, \"x\": [206, 3, 71, 4, 6, 320, 64, 9, 30, 1, 10, 3, 25, 8], \"xaxis\": \"x\", \"y\": [0.6, 1.0, 0.7285714285714285, 0.3333333333333333, 0.8, 0.6144200626959248, 0.7619047619047619, 0.75, 0.5517241379310345, null, 0.8888888888888888, 0.5, 0.7083333333333334, 0.2857142857142857], \"yaxis\": \"y\", \"type\": \"scatter\"}], \"name\": \"32\"}, {\"data\": [{\"hoverlabel\": {\"namelength\": 0}, \"hovertemplate\": \"<b>%{hovertext}</b><br><br>Age=33<br>Length=%{x}<br>%Homochirality=%{y}\", \"hovertext\": [0.6130434782608696, 0.75, 0.6184615384615385, 0.3333333333333333, 0.7727272727272727, 0.4864864864864865, 0.7285714285714285, 1.0, 0.6666666666666666, 0.3333333333333333, 1.0], \"legendgroup\": \"\", \"marker\": {\"color\": \"#636efa\", \"symbol\": \"circle\"}, \"mode\": \"markers\", \"name\": \"\", \"showlegend\": false, \"x\": [231, 5, 326, 4, 67, 38, 71, 2, 4, 4, 8], \"xaxis\": \"x\", \"y\": [0.6130434782608696, 0.75, 0.6184615384615385, 0.3333333333333333, 0.7727272727272727, 0.4864864864864865, 0.7285714285714285, 1.0, 0.6666666666666666, 0.3333333333333333, 1.0], \"yaxis\": \"y\", \"type\": \"scatter\"}], \"name\": \"33\"}, {\"data\": [{\"hoverlabel\": {\"namelength\": 0}, \"hovertemplate\": \"<b>%{hovertext}</b><br><br>Age=34<br>Length=%{x}<br>%Homochirality=%{y}\", \"hovertext\": [0.7605633802816901, 0.8181818181818182, 0.5, 1.0, 0.6151079136690647, 0.4722222222222222, 0.3333333333333333, 1.0, 0.8235294117647058, null, null], \"legendgroup\": \"\", \"marker\": {\"color\": \"#636efa\", \"symbol\": \"circle\"}, \"mode\": \"markers\", \"name\": \"\", \"showlegend\": false, \"x\": [72, 12, 19, 3, 557, 37, 4, 2, 52, 1, 1], \"xaxis\": \"x\", \"y\": [0.7605633802816901, 0.8181818181818182, 0.5, 1.0, 0.6151079136690647, 0.4722222222222222, 0.3333333333333333, 1.0, 0.8235294117647058, null, null], \"yaxis\": \"y\", \"type\": \"scatter\"}], \"name\": \"34\"}, {\"data\": [{\"hoverlabel\": {\"namelength\": 0}, \"hovertemplate\": \"<b>%{hovertext}</b><br><br>Age=35<br>Length=%{x}<br>%Homochirality=%{y}\", \"hovertext\": [0.7702702702702703, 0.5333333333333333, 0.5, 0.0, null, 0.8181818181818182, 0.0, 1.0, 0.84, null, 0.6140035906642729], \"legendgroup\": \"\", \"marker\": {\"color\": \"#636efa\", \"symbol\": \"circle\"}, \"mode\": \"markers\", \"name\": \"\", \"showlegend\": false, \"x\": [75, 31, 21, 2, 1, 12, 6, 2, 51, 1, 558], \"xaxis\": \"x\", \"y\": [0.7702702702702703, 0.5333333333333333, 0.5, 0.0, null, 0.8181818181818182, 0.0, 1.0, 0.84, null, 0.6140035906642729], \"yaxis\": \"y\", \"type\": \"scatter\"}], \"name\": \"35\"}, {\"data\": [{\"hoverlabel\": {\"namelength\": 0}, \"hovertemplate\": \"<b>%{hovertext}</b><br><br>Age=36<br>Length=%{x}<br>%Homochirality=%{y}\", \"hovertext\": [0.8225806451612904, null, 0.6666666666666666, 1.0, 0.6313291139240507, 0.0, 0.4, 0.5161290322580645, null, null], \"legendgroup\": \"\", \"marker\": {\"color\": \"#636efa\", \"symbol\": \"circle\"}, \"mode\": \"markers\", \"name\": \"\", \"showlegend\": false, \"x\": [63, 1, 10, 2, 633, 6, 11, 32, 1, 1], \"xaxis\": \"x\", \"y\": [0.8225806451612904, null, 0.6666666666666666, 1.0, 0.6313291139240507, 0.0, 0.4, 0.5161290322580645, null, null], \"yaxis\": \"y\", \"type\": \"scatter\"}], \"name\": \"36\"}, {\"data\": [{\"hoverlabel\": {\"namelength\": 0}, \"hovertemplate\": \"<b>%{hovertext}</b><br><br>Age=37<br>Length=%{x}<br>%Homochirality=%{y}\", \"hovertext\": [0.8095238095238095, null, 1.0, null, 0.6313291139240507, 0.3125, 0.5365853658536586], \"legendgroup\": \"\", \"marker\": {\"color\": \"#636efa\", \"symbol\": \"circle\"}, \"mode\": \"markers\", \"name\": \"\", \"showlegend\": false, \"x\": [64, 1, 2, 1, 633, 17, 42], \"xaxis\": \"x\", \"y\": [0.8095238095238095, null, 1.0, null, 0.6313291139240507, 0.3125, 0.5365853658536586], \"yaxis\": \"y\", \"type\": \"scatter\"}], \"name\": \"37\"}, {\"data\": [{\"hoverlabel\": {\"namelength\": 0}, \"hovertemplate\": \"<b>%{hovertext}</b><br><br>Age=38<br>Length=%{x}<br>%Homochirality=%{y}\", \"hovertext\": [null, 0.7125, 0.6313291139240507, 1.0, 0.5365853658536586], \"legendgroup\": \"\", \"marker\": {\"color\": \"#636efa\", \"symbol\": \"circle\"}, \"mode\": \"markers\", \"name\": \"\", \"showlegend\": false, \"x\": [1, 81, 633, 3, 42], \"xaxis\": \"x\", \"y\": [null, 0.7125, 0.6313291139240507, 1.0, 0.5365853658536586], \"yaxis\": \"y\", \"type\": \"scatter\"}], \"name\": \"38\"}, {\"data\": [{\"hoverlabel\": {\"namelength\": 0}, \"hovertemplate\": \"<b>%{hovertext}</b><br><br>Age=39<br>Length=%{x}<br>%Homochirality=%{y}\", \"hovertext\": [null, 0.6313291139240507, 0.6557377049180327, 1.0], \"legendgroup\": \"\", \"marker\": {\"color\": \"#636efa\", \"symbol\": \"circle\"}, \"mode\": \"markers\", \"name\": \"\", \"showlegend\": false, \"x\": [1, 633, 123, 3], \"xaxis\": \"x\", \"y\": [null, 0.6313291139240507, 0.6557377049180327, 1.0], \"yaxis\": \"y\", \"type\": \"scatter\"}], \"name\": \"39\"}, {\"data\": [{\"hoverlabel\": {\"namelength\": 0}, \"hovertemplate\": \"<b>%{hovertext}</b><br><br>Age=40<br>Length=%{x}<br>%Homochirality=%{y}\", \"hovertext\": [null, 0.6326530612244898, 0.6330708661417322, 0.7826086956521741], \"legendgroup\": \"\", \"marker\": {\"color\": \"#636efa\", \"symbol\": \"circle\"}, \"mode\": \"markers\", \"name\": \"\", \"showlegend\": false, \"x\": [1, 99, 636, 24], \"xaxis\": \"x\", \"y\": [null, 0.6326530612244898, 0.6330708661417322, 0.7826086956521741], \"yaxis\": \"y\", \"type\": \"scatter\"}], \"name\": \"40\"}, {\"data\": [{\"hoverlabel\": {\"namelength\": 0}, \"hovertemplate\": \"<b>%{hovertext}</b><br><br>Age=41<br>Length=%{x}<br>%Homochirality=%{y}\", \"hovertext\": [0.4615384615384616, 0.6388467374810318, null, 0.8222222222222222], \"legendgroup\": \"\", \"marker\": {\"color\": \"#636efa\", \"symbol\": \"circle\"}, \"mode\": \"markers\", \"name\": \"\", \"showlegend\": false, \"x\": [53, 660, 1, 46], \"xaxis\": \"x\", \"y\": [0.4615384615384616, 0.6388467374810318, null, 0.8222222222222222], \"yaxis\": \"y\", \"type\": \"scatter\"}], \"name\": \"41\"}, {\"data\": [{\"hoverlabel\": {\"namelength\": 0}, \"hovertemplate\": \"<b>%{hovertext}</b><br><br>Age=42<br>Length=%{x}<br>%Homochirality=%{y}\", \"hovertext\": [0.6510638297872341, null, 0.4615384615384616], \"legendgroup\": \"\", \"marker\": {\"color\": \"#636efa\", \"symbol\": \"circle\"}, \"mode\": \"markers\", \"name\": \"\", \"showlegend\": false, \"x\": [706, 1, 53], \"xaxis\": \"x\", \"y\": [0.6510638297872341, null, 0.4615384615384616], \"yaxis\": \"y\", \"type\": \"scatter\"}], \"name\": \"42\"}, {\"data\": [{\"hoverlabel\": {\"namelength\": 0}, \"hovertemplate\": \"<b>%{hovertext}</b><br><br>Age=43<br>Length=%{x}<br>%Homochirality=%{y}\", \"hovertext\": [0.4615384615384616, null, 0.6510638297872341], \"legendgroup\": \"\", \"marker\": {\"color\": \"#636efa\", \"symbol\": \"circle\"}, \"mode\": \"markers\", \"name\": \"\", \"showlegend\": false, \"x\": [53, 1, 706], \"xaxis\": \"x\", \"y\": [0.4615384615384616, null, 0.6510638297872341], \"yaxis\": \"y\", \"type\": \"scatter\"}], \"name\": \"43\"}, {\"data\": [{\"hoverlabel\": {\"namelength\": 0}, \"hovertemplate\": \"<b>%{hovertext}</b><br><br>Age=44<br>Length=%{x}<br>%Homochirality=%{y}\", \"hovertext\": [0.6385224274406333, null], \"legendgroup\": \"\", \"marker\": {\"color\": \"#636efa\", \"symbol\": \"circle\"}, \"mode\": \"markers\", \"name\": \"\", \"showlegend\": false, \"x\": [759, 1], \"xaxis\": \"x\", \"y\": [0.6385224274406333, null], \"yaxis\": \"y\", \"type\": \"scatter\"}], \"name\": \"44\"}, {\"data\": [{\"hoverlabel\": {\"namelength\": 0}, \"hovertemplate\": \"<b>%{hovertext}</b><br><br>Age=45<br>Length=%{x}<br>%Homochirality=%{y}\", \"hovertext\": [0.6376811594202898], \"legendgroup\": \"\", \"marker\": {\"color\": \"#636efa\", \"symbol\": \"circle\"}, \"mode\": \"markers\", \"name\": \"\", \"showlegend\": false, \"x\": [760], \"xaxis\": \"x\", \"y\": [0.6376811594202898], \"yaxis\": \"y\", \"type\": \"scatter\"}], \"name\": \"45\"}, {\"data\": [{\"hoverlabel\": {\"namelength\": 0}, \"hovertemplate\": \"<b>%{hovertext}</b><br><br>Age=46<br>Length=%{x}<br>%Homochirality=%{y}\", \"hovertext\": [0.6376811594202898], \"legendgroup\": \"\", \"marker\": {\"color\": \"#636efa\", \"symbol\": \"circle\"}, \"mode\": \"markers\", \"name\": \"\", \"showlegend\": false, \"x\": [760], \"xaxis\": \"x\", \"y\": [0.6376811594202898], \"yaxis\": \"y\", \"type\": \"scatter\"}], \"name\": \"46\"}, {\"data\": [{\"hoverlabel\": {\"namelength\": 0}, \"hovertemplate\": \"<b>%{hovertext}</b><br><br>Age=47<br>Length=%{x}<br>%Homochirality=%{y}\", \"hovertext\": [0.6376811594202898], \"legendgroup\": \"\", \"marker\": {\"color\": \"#636efa\", \"symbol\": \"circle\"}, \"mode\": \"markers\", \"name\": \"\", \"showlegend\": false, \"x\": [760], \"xaxis\": \"x\", \"y\": [0.6376811594202898], \"yaxis\": \"y\", \"type\": \"scatter\"}], \"name\": \"47\"}, {\"data\": [{\"hoverlabel\": {\"namelength\": 0}, \"hovertemplate\": \"<b>%{hovertext}</b><br><br>Age=48<br>Length=%{x}<br>%Homochirality=%{y}\", \"hovertext\": [0.6376811594202898], \"legendgroup\": \"\", \"marker\": {\"color\": \"#636efa\", \"symbol\": \"circle\"}, \"mode\": \"markers\", \"name\": \"\", \"showlegend\": false, \"x\": [760], \"xaxis\": \"x\", \"y\": [0.6376811594202898], \"yaxis\": \"y\", \"type\": \"scatter\"}], \"name\": \"48\"}, {\"data\": [{\"hoverlabel\": {\"namelength\": 0}, \"hovertemplate\": \"<b>%{hovertext}</b><br><br>Age=49<br>Length=%{x}<br>%Homochirality=%{y}\", \"hovertext\": [0.6376811594202898], \"legendgroup\": \"\", \"marker\": {\"color\": \"#636efa\", \"symbol\": \"circle\"}, \"mode\": \"markers\", \"name\": \"\", \"showlegend\": false, \"x\": [760], \"xaxis\": \"x\", \"y\": [0.6376811594202898], \"yaxis\": \"y\", \"type\": \"scatter\"}], \"name\": \"49\"}, {\"data\": [{\"hoverlabel\": {\"namelength\": 0}, \"hovertemplate\": \"<b>%{hovertext}</b><br><br>Age=50<br>Length=%{x}<br>%Homochirality=%{y}\", \"hovertext\": [0.6376811594202898], \"legendgroup\": \"\", \"marker\": {\"color\": \"#636efa\", \"symbol\": \"circle\"}, \"mode\": \"markers\", \"name\": \"\", \"showlegend\": false, \"x\": [760], \"xaxis\": \"x\", \"y\": [0.6376811594202898], \"yaxis\": \"y\", \"type\": \"scatter\"}], \"name\": \"50\"}, {\"data\": [{\"hoverlabel\": {\"namelength\": 0}, \"hovertemplate\": \"<b>%{hovertext}</b><br><br>Age=51<br>Length=%{x}<br>%Homochirality=%{y}\", \"hovertext\": [0.6376811594202898], \"legendgroup\": \"\", \"marker\": {\"color\": \"#636efa\", \"symbol\": \"circle\"}, \"mode\": \"markers\", \"name\": \"\", \"showlegend\": false, \"x\": [760], \"xaxis\": \"x\", \"y\": [0.6376811594202898], \"yaxis\": \"y\", \"type\": \"scatter\"}], \"name\": \"51\"}, {\"data\": [{\"hoverlabel\": {\"namelength\": 0}, \"hovertemplate\": \"<b>%{hovertext}</b><br><br>Age=52<br>Length=%{x}<br>%Homochirality=%{y}\", \"hovertext\": [0.6376811594202898], \"legendgroup\": \"\", \"marker\": {\"color\": \"#636efa\", \"symbol\": \"circle\"}, \"mode\": \"markers\", \"name\": \"\", \"showlegend\": false, \"x\": [760], \"xaxis\": \"x\", \"y\": [0.6376811594202898], \"yaxis\": \"y\", \"type\": \"scatter\"}], \"name\": \"52\"}, {\"data\": [{\"hoverlabel\": {\"namelength\": 0}, \"hovertemplate\": \"<b>%{hovertext}</b><br><br>Age=53<br>Length=%{x}<br>%Homochirality=%{y}\", \"hovertext\": [0.6376811594202898], \"legendgroup\": \"\", \"marker\": {\"color\": \"#636efa\", \"symbol\": \"circle\"}, \"mode\": \"markers\", \"name\": \"\", \"showlegend\": false, \"x\": [760], \"xaxis\": \"x\", \"y\": [0.6376811594202898], \"yaxis\": \"y\", \"type\": \"scatter\"}], \"name\": \"53\"}, {\"data\": [{\"hoverlabel\": {\"namelength\": 0}, \"hovertemplate\": \"<b>%{hovertext}</b><br><br>Age=54<br>Length=%{x}<br>%Homochirality=%{y}\", \"hovertext\": [0.6376811594202898], \"legendgroup\": \"\", \"marker\": {\"color\": \"#636efa\", \"symbol\": \"circle\"}, \"mode\": \"markers\", \"name\": \"\", \"showlegend\": false, \"x\": [760], \"xaxis\": \"x\", \"y\": [0.6376811594202898], \"yaxis\": \"y\", \"type\": \"scatter\"}], \"name\": \"54\"}, {\"data\": [{\"hoverlabel\": {\"namelength\": 0}, \"hovertemplate\": \"<b>%{hovertext}</b><br><br>Age=55<br>Length=%{x}<br>%Homochirality=%{y}\", \"hovertext\": [0.6376811594202898], \"legendgroup\": \"\", \"marker\": {\"color\": \"#636efa\", \"symbol\": \"circle\"}, \"mode\": \"markers\", \"name\": \"\", \"showlegend\": false, \"x\": [760], \"xaxis\": \"x\", \"y\": [0.6376811594202898], \"yaxis\": \"y\", \"type\": \"scatter\"}], \"name\": \"55\"}, {\"data\": [{\"hoverlabel\": {\"namelength\": 0}, \"hovertemplate\": \"<b>%{hovertext}</b><br><br>Age=56<br>Length=%{x}<br>%Homochirality=%{y}\", \"hovertext\": [0.6376811594202898], \"legendgroup\": \"\", \"marker\": {\"color\": \"#636efa\", \"symbol\": \"circle\"}, \"mode\": \"markers\", \"name\": \"\", \"showlegend\": false, \"x\": [760], \"xaxis\": \"x\", \"y\": [0.6376811594202898], \"yaxis\": \"y\", \"type\": \"scatter\"}], \"name\": \"56\"}, {\"data\": [{\"hoverlabel\": {\"namelength\": 0}, \"hovertemplate\": \"<b>%{hovertext}</b><br><br>Age=57<br>Length=%{x}<br>%Homochirality=%{y}\", \"hovertext\": [0.6376811594202898], \"legendgroup\": \"\", \"marker\": {\"color\": \"#636efa\", \"symbol\": \"circle\"}, \"mode\": \"markers\", \"name\": \"\", \"showlegend\": false, \"x\": [760], \"xaxis\": \"x\", \"y\": [0.6376811594202898], \"yaxis\": \"y\", \"type\": \"scatter\"}], \"name\": \"57\"}, {\"data\": [{\"hoverlabel\": {\"namelength\": 0}, \"hovertemplate\": \"<b>%{hovertext}</b><br><br>Age=58<br>Length=%{x}<br>%Homochirality=%{y}\", \"hovertext\": [0.6376811594202898], \"legendgroup\": \"\", \"marker\": {\"color\": \"#636efa\", \"symbol\": \"circle\"}, \"mode\": \"markers\", \"name\": \"\", \"showlegend\": false, \"x\": [760], \"xaxis\": \"x\", \"y\": [0.6376811594202898], \"yaxis\": \"y\", \"type\": \"scatter\"}], \"name\": \"58\"}, {\"data\": [{\"hoverlabel\": {\"namelength\": 0}, \"hovertemplate\": \"<b>%{hovertext}</b><br><br>Age=59<br>Length=%{x}<br>%Homochirality=%{y}\", \"hovertext\": [0.6376811594202898], \"legendgroup\": \"\", \"marker\": {\"color\": \"#636efa\", \"symbol\": \"circle\"}, \"mode\": \"markers\", \"name\": \"\", \"showlegend\": false, \"x\": [760], \"xaxis\": \"x\", \"y\": [0.6376811594202898], \"yaxis\": \"y\", \"type\": \"scatter\"}], \"name\": \"59\"}, {\"data\": [{\"hoverlabel\": {\"namelength\": 0}, \"hovertemplate\": \"<b>%{hovertext}</b><br><br>Age=60<br>Length=%{x}<br>%Homochirality=%{y}\", \"hovertext\": [0.6376811594202898], \"legendgroup\": \"\", \"marker\": {\"color\": \"#636efa\", \"symbol\": \"circle\"}, \"mode\": \"markers\", \"name\": \"\", \"showlegend\": false, \"x\": [760], \"xaxis\": \"x\", \"y\": [0.6376811594202898], \"yaxis\": \"y\", \"type\": \"scatter\"}], \"name\": \"60\"}, {\"data\": [{\"hoverlabel\": {\"namelength\": 0}, \"hovertemplate\": \"<b>%{hovertext}</b><br><br>Age=61<br>Length=%{x}<br>%Homochirality=%{y}\", \"hovertext\": [0.6376811594202898], \"legendgroup\": \"\", \"marker\": {\"color\": \"#636efa\", \"symbol\": \"circle\"}, \"mode\": \"markers\", \"name\": \"\", \"showlegend\": false, \"x\": [760], \"xaxis\": \"x\", \"y\": [0.6376811594202898], \"yaxis\": \"y\", \"type\": \"scatter\"}], \"name\": \"61\"}, {\"data\": [{\"hoverlabel\": {\"namelength\": 0}, \"hovertemplate\": \"<b>%{hovertext}</b><br><br>Age=62<br>Length=%{x}<br>%Homochirality=%{y}\", \"hovertext\": [0.6376811594202898], \"legendgroup\": \"\", \"marker\": {\"color\": \"#636efa\", \"symbol\": \"circle\"}, \"mode\": \"markers\", \"name\": \"\", \"showlegend\": false, \"x\": [760], \"xaxis\": \"x\", \"y\": [0.6376811594202898], \"yaxis\": \"y\", \"type\": \"scatter\"}], \"name\": \"62\"}, {\"data\": [{\"hoverlabel\": {\"namelength\": 0}, \"hovertemplate\": \"<b>%{hovertext}</b><br><br>Age=63<br>Length=%{x}<br>%Homochirality=%{y}\", \"hovertext\": [0.6376811594202898], \"legendgroup\": \"\", \"marker\": {\"color\": \"#636efa\", \"symbol\": \"circle\"}, \"mode\": \"markers\", \"name\": \"\", \"showlegend\": false, \"x\": [760], \"xaxis\": \"x\", \"y\": [0.6376811594202898], \"yaxis\": \"y\", \"type\": \"scatter\"}], \"name\": \"63\"}, {\"data\": [{\"hoverlabel\": {\"namelength\": 0}, \"hovertemplate\": \"<b>%{hovertext}</b><br><br>Age=64<br>Length=%{x}<br>%Homochirality=%{y}\", \"hovertext\": [0.6376811594202898], \"legendgroup\": \"\", \"marker\": {\"color\": \"#636efa\", \"symbol\": \"circle\"}, \"mode\": \"markers\", \"name\": \"\", \"showlegend\": false, \"x\": [760], \"xaxis\": \"x\", \"y\": [0.6376811594202898], \"yaxis\": \"y\", \"type\": \"scatter\"}], \"name\": \"64\"}, {\"data\": [{\"hoverlabel\": {\"namelength\": 0}, \"hovertemplate\": \"<b>%{hovertext}</b><br><br>Age=65<br>Length=%{x}<br>%Homochirality=%{y}\", \"hovertext\": [0.6376811594202898], \"legendgroup\": \"\", \"marker\": {\"color\": \"#636efa\", \"symbol\": \"circle\"}, \"mode\": \"markers\", \"name\": \"\", \"showlegend\": false, \"x\": [760], \"xaxis\": \"x\", \"y\": [0.6376811594202898], \"yaxis\": \"y\", \"type\": \"scatter\"}], \"name\": \"65\"}, {\"data\": [{\"hoverlabel\": {\"namelength\": 0}, \"hovertemplate\": \"<b>%{hovertext}</b><br><br>Age=66<br>Length=%{x}<br>%Homochirality=%{y}\", \"hovertext\": [0.6376811594202898], \"legendgroup\": \"\", \"marker\": {\"color\": \"#636efa\", \"symbol\": \"circle\"}, \"mode\": \"markers\", \"name\": \"\", \"showlegend\": false, \"x\": [760], \"xaxis\": \"x\", \"y\": [0.6376811594202898], \"yaxis\": \"y\", \"type\": \"scatter\"}], \"name\": \"66\"}, {\"data\": [{\"hoverlabel\": {\"namelength\": 0}, \"hovertemplate\": \"<b>%{hovertext}</b><br><br>Age=67<br>Length=%{x}<br>%Homochirality=%{y}\", \"hovertext\": [0.6376811594202898], \"legendgroup\": \"\", \"marker\": {\"color\": \"#636efa\", \"symbol\": \"circle\"}, \"mode\": \"markers\", \"name\": \"\", \"showlegend\": false, \"x\": [760], \"xaxis\": \"x\", \"y\": [0.6376811594202898], \"yaxis\": \"y\", \"type\": \"scatter\"}], \"name\": \"67\"}, {\"data\": [{\"hoverlabel\": {\"namelength\": 0}, \"hovertemplate\": \"<b>%{hovertext}</b><br><br>Age=68<br>Length=%{x}<br>%Homochirality=%{y}\", \"hovertext\": [0.6376811594202898], \"legendgroup\": \"\", \"marker\": {\"color\": \"#636efa\", \"symbol\": \"circle\"}, \"mode\": \"markers\", \"name\": \"\", \"showlegend\": false, \"x\": [760], \"xaxis\": \"x\", \"y\": [0.6376811594202898], \"yaxis\": \"y\", \"type\": \"scatter\"}], \"name\": \"68\"}, {\"data\": [{\"hoverlabel\": {\"namelength\": 0}, \"hovertemplate\": \"<b>%{hovertext}</b><br><br>Age=69<br>Length=%{x}<br>%Homochirality=%{y}\", \"hovertext\": [0.6376811594202898], \"legendgroup\": \"\", \"marker\": {\"color\": \"#636efa\", \"symbol\": \"circle\"}, \"mode\": \"markers\", \"name\": \"\", \"showlegend\": false, \"x\": [760], \"xaxis\": \"x\", \"y\": [0.6376811594202898], \"yaxis\": \"y\", \"type\": \"scatter\"}], \"name\": \"69\"}, {\"data\": [{\"hoverlabel\": {\"namelength\": 0}, \"hovertemplate\": \"<b>%{hovertext}</b><br><br>Age=70<br>Length=%{x}<br>%Homochirality=%{y}\", \"hovertext\": [0.6376811594202898], \"legendgroup\": \"\", \"marker\": {\"color\": \"#636efa\", \"symbol\": \"circle\"}, \"mode\": \"markers\", \"name\": \"\", \"showlegend\": false, \"x\": [760], \"xaxis\": \"x\", \"y\": [0.6376811594202898], \"yaxis\": \"y\", \"type\": \"scatter\"}], \"name\": \"70\"}, {\"data\": [{\"hoverlabel\": {\"namelength\": 0}, \"hovertemplate\": \"<b>%{hovertext}</b><br><br>Age=71<br>Length=%{x}<br>%Homochirality=%{y}\", \"hovertext\": [0.6376811594202898], \"legendgroup\": \"\", \"marker\": {\"color\": \"#636efa\", \"symbol\": \"circle\"}, \"mode\": \"markers\", \"name\": \"\", \"showlegend\": false, \"x\": [760], \"xaxis\": \"x\", \"y\": [0.6376811594202898], \"yaxis\": \"y\", \"type\": \"scatter\"}], \"name\": \"71\"}, {\"data\": [{\"hoverlabel\": {\"namelength\": 0}, \"hovertemplate\": \"<b>%{hovertext}</b><br><br>Age=72<br>Length=%{x}<br>%Homochirality=%{y}\", \"hovertext\": [0.6376811594202898], \"legendgroup\": \"\", \"marker\": {\"color\": \"#636efa\", \"symbol\": \"circle\"}, \"mode\": \"markers\", \"name\": \"\", \"showlegend\": false, \"x\": [760], \"xaxis\": \"x\", \"y\": [0.6376811594202898], \"yaxis\": \"y\", \"type\": \"scatter\"}], \"name\": \"72\"}, {\"data\": [{\"hoverlabel\": {\"namelength\": 0}, \"hovertemplate\": \"<b>%{hovertext}</b><br><br>Age=73<br>Length=%{x}<br>%Homochirality=%{y}\", \"hovertext\": [0.6376811594202898], \"legendgroup\": \"\", \"marker\": {\"color\": \"#636efa\", \"symbol\": \"circle\"}, \"mode\": \"markers\", \"name\": \"\", \"showlegend\": false, \"x\": [760], \"xaxis\": \"x\", \"y\": [0.6376811594202898], \"yaxis\": \"y\", \"type\": \"scatter\"}], \"name\": \"73\"}, {\"data\": [{\"hoverlabel\": {\"namelength\": 0}, \"hovertemplate\": \"<b>%{hovertext}</b><br><br>Age=74<br>Length=%{x}<br>%Homochirality=%{y}\", \"hovertext\": [0.6376811594202898], \"legendgroup\": \"\", \"marker\": {\"color\": \"#636efa\", \"symbol\": \"circle\"}, \"mode\": \"markers\", \"name\": \"\", \"showlegend\": false, \"x\": [760], \"xaxis\": \"x\", \"y\": [0.6376811594202898], \"yaxis\": \"y\", \"type\": \"scatter\"}], \"name\": \"74\"}, {\"data\": [{\"hoverlabel\": {\"namelength\": 0}, \"hovertemplate\": \"<b>%{hovertext}</b><br><br>Age=75<br>Length=%{x}<br>%Homochirality=%{y}\", \"hovertext\": [0.6376811594202898], \"legendgroup\": \"\", \"marker\": {\"color\": \"#636efa\", \"symbol\": \"circle\"}, \"mode\": \"markers\", \"name\": \"\", \"showlegend\": false, \"x\": [760], \"xaxis\": \"x\", \"y\": [0.6376811594202898], \"yaxis\": \"y\", \"type\": \"scatter\"}], \"name\": \"75\"}, {\"data\": [{\"hoverlabel\": {\"namelength\": 0}, \"hovertemplate\": \"<b>%{hovertext}</b><br><br>Age=76<br>Length=%{x}<br>%Homochirality=%{y}\", \"hovertext\": [0.6376811594202898], \"legendgroup\": \"\", \"marker\": {\"color\": \"#636efa\", \"symbol\": \"circle\"}, \"mode\": \"markers\", \"name\": \"\", \"showlegend\": false, \"x\": [760], \"xaxis\": \"x\", \"y\": [0.6376811594202898], \"yaxis\": \"y\", \"type\": \"scatter\"}], \"name\": \"76\"}, {\"data\": [{\"hoverlabel\": {\"namelength\": 0}, \"hovertemplate\": \"<b>%{hovertext}</b><br><br>Age=77<br>Length=%{x}<br>%Homochirality=%{y}\", \"hovertext\": [0.6376811594202898], \"legendgroup\": \"\", \"marker\": {\"color\": \"#636efa\", \"symbol\": \"circle\"}, \"mode\": \"markers\", \"name\": \"\", \"showlegend\": false, \"x\": [760], \"xaxis\": \"x\", \"y\": [0.6376811594202898], \"yaxis\": \"y\", \"type\": \"scatter\"}], \"name\": \"77\"}, {\"data\": [{\"hoverlabel\": {\"namelength\": 0}, \"hovertemplate\": \"<b>%{hovertext}</b><br><br>Age=78<br>Length=%{x}<br>%Homochirality=%{y}\", \"hovertext\": [0.6376811594202898], \"legendgroup\": \"\", \"marker\": {\"color\": \"#636efa\", \"symbol\": \"circle\"}, \"mode\": \"markers\", \"name\": \"\", \"showlegend\": false, \"x\": [760], \"xaxis\": \"x\", \"y\": [0.6376811594202898], \"yaxis\": \"y\", \"type\": \"scatter\"}], \"name\": \"78\"}, {\"data\": [{\"hoverlabel\": {\"namelength\": 0}, \"hovertemplate\": \"<b>%{hovertext}</b><br><br>Age=79<br>Length=%{x}<br>%Homochirality=%{y}\", \"hovertext\": [0.6376811594202898], \"legendgroup\": \"\", \"marker\": {\"color\": \"#636efa\", \"symbol\": \"circle\"}, \"mode\": \"markers\", \"name\": \"\", \"showlegend\": false, \"x\": [760], \"xaxis\": \"x\", \"y\": [0.6376811594202898], \"yaxis\": \"y\", \"type\": \"scatter\"}], \"name\": \"79\"}, {\"data\": [{\"hoverlabel\": {\"namelength\": 0}, \"hovertemplate\": \"<b>%{hovertext}</b><br><br>Age=80<br>Length=%{x}<br>%Homochirality=%{y}\", \"hovertext\": [0.6376811594202898], \"legendgroup\": \"\", \"marker\": {\"color\": \"#636efa\", \"symbol\": \"circle\"}, \"mode\": \"markers\", \"name\": \"\", \"showlegend\": false, \"x\": [760], \"xaxis\": \"x\", \"y\": [0.6376811594202898], \"yaxis\": \"y\", \"type\": \"scatter\"}], \"name\": \"80\"}, {\"data\": [{\"hoverlabel\": {\"namelength\": 0}, \"hovertemplate\": \"<b>%{hovertext}</b><br><br>Age=81<br>Length=%{x}<br>%Homochirality=%{y}\", \"hovertext\": [0.6376811594202898], \"legendgroup\": \"\", \"marker\": {\"color\": \"#636efa\", \"symbol\": \"circle\"}, \"mode\": \"markers\", \"name\": \"\", \"showlegend\": false, \"x\": [760], \"xaxis\": \"x\", \"y\": [0.6376811594202898], \"yaxis\": \"y\", \"type\": \"scatter\"}], \"name\": \"81\"}, {\"data\": [{\"hoverlabel\": {\"namelength\": 0}, \"hovertemplate\": \"<b>%{hovertext}</b><br><br>Age=82<br>Length=%{x}<br>%Homochirality=%{y}\", \"hovertext\": [0.6376811594202898], \"legendgroup\": \"\", \"marker\": {\"color\": \"#636efa\", \"symbol\": \"circle\"}, \"mode\": \"markers\", \"name\": \"\", \"showlegend\": false, \"x\": [760], \"xaxis\": \"x\", \"y\": [0.6376811594202898], \"yaxis\": \"y\", \"type\": \"scatter\"}], \"name\": \"82\"}, {\"data\": [{\"hoverlabel\": {\"namelength\": 0}, \"hovertemplate\": \"<b>%{hovertext}</b><br><br>Age=83<br>Length=%{x}<br>%Homochirality=%{y}\", \"hovertext\": [0.6376811594202898], \"legendgroup\": \"\", \"marker\": {\"color\": \"#636efa\", \"symbol\": \"circle\"}, \"mode\": \"markers\", \"name\": \"\", \"showlegend\": false, \"x\": [760], \"xaxis\": \"x\", \"y\": [0.6376811594202898], \"yaxis\": \"y\", \"type\": \"scatter\"}], \"name\": \"83\"}, {\"data\": [{\"hoverlabel\": {\"namelength\": 0}, \"hovertemplate\": \"<b>%{hovertext}</b><br><br>Age=84<br>Length=%{x}<br>%Homochirality=%{y}\", \"hovertext\": [0.6376811594202898], \"legendgroup\": \"\", \"marker\": {\"color\": \"#636efa\", \"symbol\": \"circle\"}, \"mode\": \"markers\", \"name\": \"\", \"showlegend\": false, \"x\": [760], \"xaxis\": \"x\", \"y\": [0.6376811594202898], \"yaxis\": \"y\", \"type\": \"scatter\"}], \"name\": \"84\"}, {\"data\": [{\"hoverlabel\": {\"namelength\": 0}, \"hovertemplate\": \"<b>%{hovertext}</b><br><br>Age=85<br>Length=%{x}<br>%Homochirality=%{y}\", \"hovertext\": [0.6376811594202898], \"legendgroup\": \"\", \"marker\": {\"color\": \"#636efa\", \"symbol\": \"circle\"}, \"mode\": \"markers\", \"name\": \"\", \"showlegend\": false, \"x\": [760], \"xaxis\": \"x\", \"y\": [0.6376811594202898], \"yaxis\": \"y\", \"type\": \"scatter\"}], \"name\": \"85\"}, {\"data\": [{\"hoverlabel\": {\"namelength\": 0}, \"hovertemplate\": \"<b>%{hovertext}</b><br><br>Age=86<br>Length=%{x}<br>%Homochirality=%{y}\", \"hovertext\": [0.6376811594202898], \"legendgroup\": \"\", \"marker\": {\"color\": \"#636efa\", \"symbol\": \"circle\"}, \"mode\": \"markers\", \"name\": \"\", \"showlegend\": false, \"x\": [760], \"xaxis\": \"x\", \"y\": [0.6376811594202898], \"yaxis\": \"y\", \"type\": \"scatter\"}], \"name\": \"86\"}, {\"data\": [{\"hoverlabel\": {\"namelength\": 0}, \"hovertemplate\": \"<b>%{hovertext}</b><br><br>Age=87<br>Length=%{x}<br>%Homochirality=%{y}\", \"hovertext\": [0.6376811594202898], \"legendgroup\": \"\", \"marker\": {\"color\": \"#636efa\", \"symbol\": \"circle\"}, \"mode\": \"markers\", \"name\": \"\", \"showlegend\": false, \"x\": [760], \"xaxis\": \"x\", \"y\": [0.6376811594202898], \"yaxis\": \"y\", \"type\": \"scatter\"}], \"name\": \"87\"}, {\"data\": [{\"hoverlabel\": {\"namelength\": 0}, \"hovertemplate\": \"<b>%{hovertext}</b><br><br>Age=88<br>Length=%{x}<br>%Homochirality=%{y}\", \"hovertext\": [0.6376811594202898], \"legendgroup\": \"\", \"marker\": {\"color\": \"#636efa\", \"symbol\": \"circle\"}, \"mode\": \"markers\", \"name\": \"\", \"showlegend\": false, \"x\": [760], \"xaxis\": \"x\", \"y\": [0.6376811594202898], \"yaxis\": \"y\", \"type\": \"scatter\"}], \"name\": \"88\"}, {\"data\": [{\"hoverlabel\": {\"namelength\": 0}, \"hovertemplate\": \"<b>%{hovertext}</b><br><br>Age=89<br>Length=%{x}<br>%Homochirality=%{y}\", \"hovertext\": [0.6376811594202898], \"legendgroup\": \"\", \"marker\": {\"color\": \"#636efa\", \"symbol\": \"circle\"}, \"mode\": \"markers\", \"name\": \"\", \"showlegend\": false, \"x\": [760], \"xaxis\": \"x\", \"y\": [0.6376811594202898], \"yaxis\": \"y\", \"type\": \"scatter\"}], \"name\": \"89\"}, {\"data\": [{\"hoverlabel\": {\"namelength\": 0}, \"hovertemplate\": \"<b>%{hovertext}</b><br><br>Age=90<br>Length=%{x}<br>%Homochirality=%{y}\", \"hovertext\": [0.6376811594202898], \"legendgroup\": \"\", \"marker\": {\"color\": \"#636efa\", \"symbol\": \"circle\"}, \"mode\": \"markers\", \"name\": \"\", \"showlegend\": false, \"x\": [760], \"xaxis\": \"x\", \"y\": [0.6376811594202898], \"yaxis\": \"y\", \"type\": \"scatter\"}], \"name\": \"90\"}, {\"data\": [{\"hoverlabel\": {\"namelength\": 0}, \"hovertemplate\": \"<b>%{hovertext}</b><br><br>Age=91<br>Length=%{x}<br>%Homochirality=%{y}\", \"hovertext\": [0.6376811594202898], \"legendgroup\": \"\", \"marker\": {\"color\": \"#636efa\", \"symbol\": \"circle\"}, \"mode\": \"markers\", \"name\": \"\", \"showlegend\": false, \"x\": [760], \"xaxis\": \"x\", \"y\": [0.6376811594202898], \"yaxis\": \"y\", \"type\": \"scatter\"}], \"name\": \"91\"}, {\"data\": [{\"hoverlabel\": {\"namelength\": 0}, \"hovertemplate\": \"<b>%{hovertext}</b><br><br>Age=92<br>Length=%{x}<br>%Homochirality=%{y}\", \"hovertext\": [0.6376811594202898], \"legendgroup\": \"\", \"marker\": {\"color\": \"#636efa\", \"symbol\": \"circle\"}, \"mode\": \"markers\", \"name\": \"\", \"showlegend\": false, \"x\": [760], \"xaxis\": \"x\", \"y\": [0.6376811594202898], \"yaxis\": \"y\", \"type\": \"scatter\"}], \"name\": \"92\"}, {\"data\": [{\"hoverlabel\": {\"namelength\": 0}, \"hovertemplate\": \"<b>%{hovertext}</b><br><br>Age=93<br>Length=%{x}<br>%Homochirality=%{y}\", \"hovertext\": [0.6376811594202898], \"legendgroup\": \"\", \"marker\": {\"color\": \"#636efa\", \"symbol\": \"circle\"}, \"mode\": \"markers\", \"name\": \"\", \"showlegend\": false, \"x\": [760], \"xaxis\": \"x\", \"y\": [0.6376811594202898], \"yaxis\": \"y\", \"type\": \"scatter\"}], \"name\": \"93\"}, {\"data\": [{\"hoverlabel\": {\"namelength\": 0}, \"hovertemplate\": \"<b>%{hovertext}</b><br><br>Age=94<br>Length=%{x}<br>%Homochirality=%{y}\", \"hovertext\": [0.6376811594202898], \"legendgroup\": \"\", \"marker\": {\"color\": \"#636efa\", \"symbol\": \"circle\"}, \"mode\": \"markers\", \"name\": \"\", \"showlegend\": false, \"x\": [760], \"xaxis\": \"x\", \"y\": [0.6376811594202898], \"yaxis\": \"y\", \"type\": \"scatter\"}], \"name\": \"94\"}, {\"data\": [{\"hoverlabel\": {\"namelength\": 0}, \"hovertemplate\": \"<b>%{hovertext}</b><br><br>Age=95<br>Length=%{x}<br>%Homochirality=%{y}\", \"hovertext\": [0.6376811594202898], \"legendgroup\": \"\", \"marker\": {\"color\": \"#636efa\", \"symbol\": \"circle\"}, \"mode\": \"markers\", \"name\": \"\", \"showlegend\": false, \"x\": [760], \"xaxis\": \"x\", \"y\": [0.6376811594202898], \"yaxis\": \"y\", \"type\": \"scatter\"}], \"name\": \"95\"}, {\"data\": [{\"hoverlabel\": {\"namelength\": 0}, \"hovertemplate\": \"<b>%{hovertext}</b><br><br>Age=96<br>Length=%{x}<br>%Homochirality=%{y}\", \"hovertext\": [0.6376811594202898], \"legendgroup\": \"\", \"marker\": {\"color\": \"#636efa\", \"symbol\": \"circle\"}, \"mode\": \"markers\", \"name\": \"\", \"showlegend\": false, \"x\": [760], \"xaxis\": \"x\", \"y\": [0.6376811594202898], \"yaxis\": \"y\", \"type\": \"scatter\"}], \"name\": \"96\"}, {\"data\": [{\"hoverlabel\": {\"namelength\": 0}, \"hovertemplate\": \"<b>%{hovertext}</b><br><br>Age=97<br>Length=%{x}<br>%Homochirality=%{y}\", \"hovertext\": [0.6376811594202898], \"legendgroup\": \"\", \"marker\": {\"color\": \"#636efa\", \"symbol\": \"circle\"}, \"mode\": \"markers\", \"name\": \"\", \"showlegend\": false, \"x\": [760], \"xaxis\": \"x\", \"y\": [0.6376811594202898], \"yaxis\": \"y\", \"type\": \"scatter\"}], \"name\": \"97\"}, {\"data\": [{\"hoverlabel\": {\"namelength\": 0}, \"hovertemplate\": \"<b>%{hovertext}</b><br><br>Age=98<br>Length=%{x}<br>%Homochirality=%{y}\", \"hovertext\": [0.6376811594202898], \"legendgroup\": \"\", \"marker\": {\"color\": \"#636efa\", \"symbol\": \"circle\"}, \"mode\": \"markers\", \"name\": \"\", \"showlegend\": false, \"x\": [760], \"xaxis\": \"x\", \"y\": [0.6376811594202898], \"yaxis\": \"y\", \"type\": \"scatter\"}], \"name\": \"98\"}, {\"data\": [{\"hoverlabel\": {\"namelength\": 0}, \"hovertemplate\": \"<b>%{hovertext}</b><br><br>Age=99<br>Length=%{x}<br>%Homochirality=%{y}\", \"hovertext\": [0.6376811594202898], \"legendgroup\": \"\", \"marker\": {\"color\": \"#636efa\", \"symbol\": \"circle\"}, \"mode\": \"markers\", \"name\": \"\", \"showlegend\": false, \"x\": [760], \"xaxis\": \"x\", \"y\": [0.6376811594202898], \"yaxis\": \"y\", \"type\": \"scatter\"}], \"name\": \"99\"}]);\n",
              "                        }).then(function(){\n",
              "                            \n",
              "var gd = document.getElementById('70e985ae-d304-44a6-a5e2-c3450d677b42');\n",
              "var x = new MutationObserver(function (mutations, observer) {{\n",
              "        var display = window.getComputedStyle(gd).display;\n",
              "        if (!display || display === 'none') {{\n",
              "            console.log([gd, 'removed!']);\n",
              "            Plotly.purge(gd);\n",
              "            observer.disconnect();\n",
              "        }}\n",
              "}});\n",
              "\n",
              "// Listen for the removal of the full notebook cells\n",
              "var notebookContainer = gd.closest('#notebook-container');\n",
              "if (notebookContainer) {{\n",
              "    x.observe(notebookContainer, {childList: true});\n",
              "}}\n",
              "\n",
              "// Listen for the clearing of the current output cell\n",
              "var outputEl = gd.closest('.output');\n",
              "if (outputEl) {{\n",
              "    x.observe(outputEl, {childList: true});\n",
              "}}\n",
              "\n",
              "                        })\n",
              "                };\n",
              "                \n",
              "            </script>\n",
              "        </div>\n",
              "</body>\n",
              "</html>"
            ]
          },
          "metadata": {
            "tags": [
              "id15_content_6",
              "outputarea_id15",
              "user_output"
            ]
          }
        },
        {
          "output_type": "display_data",
          "data": {
            "application/javascript": [
              "window[\"1bf2adde-d5d0-11ea-88cf-0242ac1c0002\"] = google.colab.output.setActiveOutputArea(window[\"19a69bda-d5d0-11ea-88cf-0242ac1c0002\"]);\n",
              "//# sourceURL=js_d8e109ec10"
            ],
            "text/plain": [
              "<IPython.core.display.Javascript object>"
            ]
          },
          "metadata": {
            "tags": [
              "id15_content_6",
              "outputarea_id15"
            ]
          }
        },
        {
          "output_type": "display_data",
          "data": {
            "application/javascript": [
              "window[\"1bf39b4a-d5d0-11ea-88cf-0242ac1c0002\"] = google.colab.output.getActiveOutputArea();\n",
              "//# sourceURL=js_d65a6b85ba"
            ],
            "text/plain": [
              "<IPython.core.display.Javascript object>"
            ]
          },
          "metadata": {
            "tags": [
              "id15_content_7",
              "outputarea_id15"
            ]
          }
        },
        {
          "output_type": "display_data",
          "data": {
            "application/javascript": [
              "window[\"1bf3e4f6-d5d0-11ea-88cf-0242ac1c0002\"] = document.querySelector(\"#id15_content_7\");\n",
              "//# sourceURL=js_9294bb0c93"
            ],
            "text/plain": [
              "<IPython.core.display.Javascript object>"
            ]
          },
          "metadata": {
            "tags": [
              "id15_content_7",
              "outputarea_id15"
            ]
          }
        },
        {
          "output_type": "display_data",
          "data": {
            "application/javascript": [
              "window[\"1bf42402-d5d0-11ea-88cf-0242ac1c0002\"] = google.colab.output.setActiveOutputArea(window[\"1bf3e4f6-d5d0-11ea-88cf-0242ac1c0002\"]);\n",
              "//# sourceURL=js_6e6fd34ea7"
            ],
            "text/plain": [
              "<IPython.core.display.Javascript object>"
            ]
          },
          "metadata": {
            "tags": [
              "id15_content_7",
              "outputarea_id15"
            ]
          }
        },
        {
          "output_type": "display_data",
          "data": {
            "text/html": [
              "<html>\n",
              "<head><meta charset=\"utf-8\" /></head>\n",
              "<body>\n",
              "    <div>\n",
              "            <script src=\"https://cdnjs.cloudflare.com/ajax/libs/mathjax/2.7.5/MathJax.js?config=TeX-AMS-MML_SVG\"></script><script type=\"text/javascript\">if (window.MathJax) {MathJax.Hub.Config({SVG: {font: \"STIX-Web\"}});}</script>\n",
              "                <script type=\"text/javascript\">window.PlotlyConfig = {MathJaxConfig: 'local'};</script>\n",
              "        <script src=\"https://cdn.plot.ly/plotly-latest.min.js\"></script>    \n",
              "            <div id=\"4b614326-4d73-4653-b38a-db66ab71d679\" class=\"plotly-graph-div\" style=\"height:525px; width:100%;\"></div>\n",
              "            <script type=\"text/javascript\">\n",
              "                \n",
              "                    window.PLOTLYENV=window.PLOTLYENV || {};\n",
              "                    \n",
              "                if (document.getElementById(\"4b614326-4d73-4653-b38a-db66ab71d679\")) {\n",
              "                    Plotly.newPlot(\n",
              "                        '4b614326-4d73-4653-b38a-db66ab71d679',\n",
              "                        [{\"hoverlabel\": {\"namelength\": 0}, \"hovertemplate\": \"<b>%{hovertext}</b><br><br>Length=1<br>Age=%{x}<br>%Homochirality=%{y}\", \"hovertext\": [null, null, null, null, null, null, null, null, null, null, null, null, null, null, null, null, null, null, null, null, null, null, null, null, null, null, null, null, null, null, null, null, null, null, null, null, null, null, null, null, null, null, null, null, null, null, null, null, null, null, null, null, null, null, null, null, null, null, null, null, null, null, null, null, null, null, null, null, null, null, null, null, null, null, null, null, null, null, null, null, null, null, null, null, null, null, null, null, null, null, null, null, null, null, null, null, null, null, null, null, null, null, null, null, null, null, null, null, null, null, null, null, null, null, null, null, null, null, null, null, null, null, null, null, null, null, null, null, null, null, null, null, null, null, null, null, null, null, null, null, null, null, null, null, null, null, null, null, null, null, null, null, null, null, null, null, null, null, null, null, null, null, null, null, null, null, null, null, null, null, null, null, null, null, null, null, null, null, null, null, null, null, null, null, null, null, null, null, null, null, null, null, null, null, null, null, null, null, null, null, null, null, null, null, null, null, null, null, null, null, null, null, null, null, null, null, null, null, null, null, null, null, null, null, null, null, null, null, null, null, null, null, null, null, null, null, null, null, null, null, null, null, null, null, null, null, null, null, null, null, null, null, null, null, null, null, null, null, null, null, null, null, null, null, null, null, null, null, null, null, null, null, null, null, null, null, null, null, null, null, null, null, null, null, null, null, null, null, null, null, null, null, null, null, null, null, null, null, null, null, null, null, null, null, null, null, null, null, null, null, null, null, null, null, null, null, null, null, null, null, null, null, null, null, null, null, null, null, null, null, null, null, null, null, null, null, null, null, null, null, null, null, null, null, null, null, null, null, null, null, null, null, null, null, null, null, null, null, null, null, null, null, null, null, null, null, null, null, null, null, null, null, null, null, null, null, null, null, null, null, null, null, null, null, null, null, null, null, null, null, null, null, null, null, null, null, null, null, null, null, null, null, null, null, null, null, null, null, null, null, null, null, null, null, null, null, null, null, null, null, null, null, null, null, null, null, null, null, null, null, null, null, null, null, null, null, null, null, null, null, null, null, null, null, null, null, null, null, null, null, null, null, null, null, null, null, null, null, null, null, null, null, null, null, null, null, null, null, null, null, null, null, null, null, null, null, null, null, null, null, null, null, null, null, null, null, null, null, null, null, null, null, null, null, null, null, null, null, null, null, null, null, null, null, null, null, null, null, null, null, null, null, null, null, null, null, null, null, null, null, null, null, null, null, null, null, null, null, null, null, null, null, null, null, null, null, null, null, null, null, null, null, null, null, null, null, null, null, null, null, null, null, null, null, null, null, null, null, null, null, null, null, null, null, null, null, null, null, null, null, null, null, null, null, null, null, null, null, null, null, null, null, null, null, null, null, null, null, null, null, null, null, null, null, null, null, null, null, null, null, null, null, null, null, null, null, null, null, null, null, null, null, null, null, null, null, null, null, null, null, null, null, null, null, null, null, null, null, null, null, null, null, null, null, null, null, null, null, null, null, null, null, null, null, null, null, null, null, null, null, null, null, null, null, null, null, null, null, null, null, null, null, null, null, null, null, null, null, null, null, null, null, null, null, null, null, null, null, null, null, null, null, null, null, null, null, null, null, null, null, null, null, null, null, null, null, null, null, null, null, null, null, null, null, null, null, null, null, null, null, null, null, null, null, null, null, null, null, null, null, null, null, null, null, null, null, null, null, null, null, null, null, null, null, null, null, null, null, null, null, null, null, null, null, null, null, null, null, null, null, null, null, null, null, null, null, null, null, null, null, null, null, null, null, null, null, null, null, null, null, null, null, null, null, null, null, null, null, null, null, null, null, null, null, null, null, null, null, null, null, null, null, null, null, null, null, null, null, null, null, null, null, null, null, null, null, null, null, null, null, null, null, null, null, null, null, null, null, null, null, null, null, null, null, null, null, null, null, null, null, null, null, null, null, null, null, null, null, null, null, null, null, null, null, null, null, null, null, null, null, null, null, null, null, null, null, null, null, null, null, null, null, null, null, null, null, null, null, null, null, null, null, null, null, null, null, null, null, null, null, null, null, null, null, null, null, null, null, null, null, null, null, null, null, null, null, null, null, null, null, null, null, null, null, null, null, null, null, null, null, null, null, null, null, null, null, null, null, null, null, null, null, null, null, null, null, null, null, null, null, null, null, null, null, null, null, null, null, null, null, null, null, null, null, null, null, null, null, null, null, null, null, null, null, null, null, null, null, null, null, null, null, null, null, null, null, null, null, null, null, null, null, null, null, null, null, null, null, null, null, null, null, null, null, null, null, null, null, null, null, null, null, null, null, null, null, null, null, null, null, null, null, null, null, null, null, null, null, null, null, null, null, null, null, null, null, null, null, null, null, null, null, null, null, null, null, null, null, null, null, null, null, null, null, null, null, null, null, null, null, null, null, null, null, null, null, null, null, null, null, null, null, null, null, null, null, null, null, null, null, null, null, null, null, null, null, null, null, null, null, null, null, null, null, null, null, null, null, null, null, null, null, null, null, null, null, null, null, null, null, null, null, null, null, null, null, null, null, null, null, null, null, null, null, null, null, null, null, null, null, null, null, null, null, null, null, null, null, null, null, null, null, null, null, null, null, null, null, null, null, null, null, null, null, null, null, null, null, null, null, null, null, null, null, null, null, null, null, null, null, null, null, null, null, null, null, null, null, null, null, null, null, null, null, null, null, null, null, null, null, null, null, null, null, null, null, null, null, null, null, null, null, null, null, null, null, null, null, null, null, null, null, null, null, null, null, null, null, null, null, null, null, null, null, null, null, null, null, null, null, null, null, null, null, null, null, null, null, null, null, null, null, null, null, null, null, null, null, null, null, null, null, null, null, null, null, null, null, null, null, null, null, null, null, null, null, null, null, null, null, null, null, null, null, null, null, null, null, null, null, null, null, null, null, null, null, null, null, null, null, null, null, null, null, null, null, null, null, null, null, null, null, null, null, null, null, null, null, null, null, null, null, null, null, null, null, null, null, null, null, null, null, null, null, null, null, null, null, null, null, null, null, null, null, null, null, null, null, null, null, null, null, null, null, null, null, null, null, null, null, null, null, null, null, null, null, null, null, null, null, null, null, null, null, null, null, null, null, null, null, null, null, null, null, null, null, null, null, null, null, null, null, null, null, null, null, null, null, null, null, null, null, null, null, null, null, null, null, null, null, null, null, null, null, null, null, null, null, null, null, null, null, null, null, null, null, null, null, null, null, null, null, null, null, null, null, null, null, null, null, null, null, null, null, null, null, null, null, null, null, null, null, null, null, null, null, null, null, null, null, null, null, null, null, null, null, null, null, null, null, null, null, null, null, null, null, null, null, null, null, null, null, null, null, null, null, null, null, null, null, null, null, null, null, null, null, null, null, null, null, null, null, null, null, null, null, null, null, null, null, null, null, null, null, null, null, null, null, null, null, null, null, null, null, null, null, null, null, null, null, null, null, null, null, null, null, null, null, null, null, null, null, null, null, null, null, null, null, null, null, null, null, null, null, null, null, null, null, null, null, null, null, null, null, null, null, null, null, null, null, null, null, null, null, null, null, null, null, null, null, null, null, null, null, null, null, null, null, null, null, null, null, null, null, null, null, null, null, null, null, null, null, null, null, null, null, null, null, null, null, null, null, null, null, null, null, null, null, null, null, null, null, null, null, null, null, null, null, null, null, null, null, null, null, null, null, null, null, null, null, null, null, null, null, null, null, null, null, null, null, null, null, null, null, null, null, null, null, null, null, null, null, null, null, null, null, null, null, null, null, null, null, null, null, null, null, null, null, null, null, null, null, null, null, null, null, null, null, null, null, null, null, null, null, null, null, null, null, null, null, null, null, null, null, null, null, null, null, null, null, null, null, null, null, null, null, null, null, null, null, null, null, null, null, null, null, null, null, null, null, null, null, null, null, null, null, null, null, null, null, null, null, null, null, null, null, null, null, null, null, null, null, null, null, null, null, null, null, null, null, null, null, null, null, null, null, null, null, null, null, null, null, null, null, null, null, null, null, null, null, null, null, null, null, null, null, null, null, null, null, null, null, null, null, null, null, null, null, null, null, null, null, null, null, null, null, null, null, null, null, null, null, null, null, null, null, null, null, null, null, null, null, null, null, null, null, null, null, null, null, null, null, null, null, null, null, null, null, null, null, null, null, null, null, null, null, null, null, null, null, null, null, null, null, null, null, null, null, null, null, null, null, null, null, null, null, null, null, null, null, null, null, null, null, null, null, null, null, null, null, null, null, null, null, null, null, null, null, null, null, null, null, null, null, null, null, null, null, null, null, null, null, null, null, null, null, null, null, null, null, null, null, null, null, null, null, null, null, null, null, null, null, null, null, null, null, null, null, null, null, null, null, null, null, null, null, null, null, null, null, null, null, null, null, null, null, null, null, null, null, null, null, null, null, null, null, null, null, null, null, null, null, null, null, null, null, null, null, null, null, null, null, null, null, null, null, null, null, null, null, null, null, null, null, null, null, null, null, null, null, null, null, null, null, null, null, null, null, null, null, null, null, null, null, null, null, null, null, null, null, null, null, null, null, null, null, null, null, null, null, null, null, null, null, null, null, null, null, null, null, null, null, null, null, null, null, null, null, null, null, null, null, null, null, null, null, null, null, null, null, null, null, null, null, null, null, null, null, null, null, null, null, null, null, null, null, null, null, null, null, null, null, null, null, null, null, null, null, null, null, null, null, null, null, null, null, null, null, null, null, null, null, null, null, null, null, null, null, null, null, null, null, null, null, null, null, null, null, null, null, null, null, null, null, null, null, null, null, null, null, null, null, null, null, null, null, null, null, null, null, null, null, null, null, null, null, null, null, null, null, null, null, null, null, null, null, null, null, null, null, null, null, null, null, null, null, null, null, null, null, null, null, null, null, null, null, null, null, null, null, null, null, null, null, null, null, null, null, null, null, null, null, null, null, null, null, null, null, null, null, null, null, null, null, null, null, null, null, null, null, null, null, null, null, null, null, null, null, null, null, null, null, null, null, null, null, null, null, null, null, null, null, null, null, null, null, null, null, null, null, null, null, null, null, null, null, null, null, null, null, null, null, null, null, null, null, null, null, null, null, null, null, null, null, null, null, null, null, null, null, null, null, null, null, null, null, null, null, null, null, null, null, null, null, null, null, null, null, null, null, null, null, null, null, null, null, null, null, null, null, null, null, null, null, null, null, null, null, null, null, null, null, null, null, null, null, null, null, null, null, null, null, null, null, null, null, null, null, null, null, null, null, null, null, null, null, null, null, null, null, null, null, null, null, null, null, null, null, null, null, null, null, null, null, null, null, null, null, null, null, null, null, null, null, null, null, null, null, null, null, null, null, null, null, null, null, null, null, null, null, null, null, null, null, null, null, null, null, null, null, null, null, null, null, null, null, null, null, null, null, null, null, null, null, null, null, null, null, null, null, null, null, null, null, null, null, null, null, null, null, null, null, null, null, null, null, null, null, null, null, null, null, null, null, null, null, null, null, null, null, null, null, null, null, null, null, null, null, null, null, null, null, null, null, null, null, null, null, null, null, null, null, null, null, null, null, null, null, null, null, null, null, null, null, null, null, null, null, null, null, null, null, null, null, null, null, null, null, null, null, null, null, null, null, null, null, null, null, null, null, null, null, null, null], \"legendgroup\": \"\", \"marker\": {\"color\": \"#636efa\", \"symbol\": \"circle\"}, \"mode\": \"markers\", \"name\": \"\", \"showlegend\": false, \"type\": \"scatter\", \"x\": [0, 0, 0, 0, 0, 0, 0, 0, 0, 0, 0, 0, 0, 0, 0, 0, 0, 0, 0, 0, 0, 0, 0, 0, 0, 0, 0, 0, 0, 0, 0, 0, 0, 0, 0, 0, 0, 0, 0, 0, 0, 0, 0, 0, 0, 0, 0, 0, 0, 0, 0, 0, 0, 0, 0, 0, 0, 0, 0, 0, 0, 0, 0, 0, 0, 0, 0, 0, 0, 0, 0, 0, 0, 0, 0, 0, 0, 0, 0, 0, 0, 0, 0, 0, 0, 0, 0, 0, 0, 0, 0, 0, 0, 0, 0, 0, 0, 0, 0, 0, 0, 0, 0, 0, 0, 0, 0, 0, 0, 0, 0, 0, 0, 0, 0, 0, 0, 0, 0, 0, 0, 0, 0, 0, 0, 0, 0, 0, 0, 0, 0, 0, 0, 0, 0, 0, 0, 0, 0, 0, 0, 0, 0, 0, 0, 0, 0, 0, 0, 0, 0, 0, 0, 0, 0, 0, 0, 0, 0, 0, 0, 0, 0, 0, 0, 0, 0, 0, 0, 0, 0, 0, 0, 0, 0, 0, 0, 0, 0, 0, 0, 0, 0, 0, 0, 0, 0, 0, 0, 0, 0, 0, 0, 0, 0, 0, 0, 0, 0, 0, 0, 0, 0, 0, 0, 0, 0, 0, 0, 0, 0, 0, 0, 0, 0, 0, 0, 0, 0, 0, 0, 0, 0, 0, 0, 0, 0, 0, 0, 0, 0, 0, 0, 0, 0, 0, 0, 0, 0, 0, 0, 0, 0, 0, 0, 0, 0, 0, 0, 0, 0, 0, 0, 0, 0, 0, 0, 0, 0, 0, 0, 0, 0, 0, 0, 0, 0, 0, 0, 0, 0, 0, 0, 0, 0, 0, 0, 0, 0, 0, 0, 0, 0, 0, 0, 0, 0, 0, 0, 0, 0, 0, 0, 0, 0, 0, 0, 0, 0, 0, 0, 0, 0, 0, 0, 0, 0, 0, 0, 0, 0, 0, 0, 0, 0, 0, 0, 0, 0, 0, 0, 0, 0, 0, 0, 0, 0, 0, 0, 0, 0, 0, 0, 0, 0, 0, 0, 0, 0, 0, 0, 0, 0, 0, 0, 0, 0, 0, 0, 0, 0, 0, 0, 0, 0, 0, 0, 0, 0, 0, 0, 0, 0, 0, 0, 0, 0, 0, 0, 0, 0, 0, 0, 0, 0, 0, 0, 0, 0, 0, 0, 0, 0, 0, 0, 0, 0, 0, 0, 0, 0, 0, 0, 0, 0, 0, 0, 0, 0, 0, 0, 0, 0, 0, 0, 0, 0, 0, 0, 0, 0, 0, 0, 0, 0, 0, 0, 0, 0, 0, 0, 0, 0, 0, 0, 0, 0, 0, 0, 0, 0, 0, 0, 0, 0, 0, 0, 0, 0, 0, 0, 0, 0, 0, 0, 0, 0, 0, 0, 0, 0, 0, 0, 0, 0, 0, 0, 0, 0, 0, 0, 0, 0, 0, 0, 0, 0, 0, 0, 0, 0, 0, 0, 0, 0, 0, 0, 0, 0, 0, 0, 0, 0, 0, 0, 0, 0, 0, 0, 0, 0, 0, 0, 0, 0, 0, 0, 0, 0, 0, 0, 0, 0, 0, 1, 1, 1, 1, 1, 1, 1, 1, 1, 1, 1, 1, 1, 1, 1, 1, 1, 1, 1, 1, 1, 1, 1, 1, 1, 1, 1, 1, 1, 1, 1, 1, 1, 1, 1, 1, 1, 1, 1, 1, 1, 1, 1, 1, 1, 1, 1, 1, 1, 1, 1, 1, 1, 1, 1, 1, 1, 1, 1, 1, 1, 1, 1, 1, 1, 1, 1, 1, 1, 1, 1, 1, 1, 1, 1, 1, 1, 1, 1, 1, 1, 1, 1, 1, 1, 1, 1, 1, 1, 1, 1, 1, 1, 1, 1, 1, 1, 1, 1, 1, 1, 1, 1, 1, 1, 1, 1, 1, 1, 1, 1, 1, 1, 1, 1, 1, 1, 1, 1, 1, 1, 1, 1, 1, 1, 1, 1, 1, 1, 1, 1, 1, 1, 1, 1, 1, 1, 1, 1, 1, 1, 1, 1, 1, 1, 1, 1, 1, 1, 1, 1, 1, 1, 1, 1, 1, 1, 1, 1, 1, 1, 1, 1, 1, 1, 1, 1, 1, 1, 1, 1, 1, 1, 1, 1, 1, 1, 1, 1, 1, 1, 1, 1, 1, 1, 1, 1, 1, 1, 1, 1, 1, 1, 1, 1, 1, 1, 1, 1, 1, 1, 1, 1, 1, 1, 1, 1, 1, 1, 1, 1, 1, 1, 1, 1, 1, 1, 1, 1, 1, 1, 1, 1, 1, 1, 1, 1, 1, 1, 1, 1, 1, 1, 1, 1, 1, 1, 1, 1, 1, 1, 1, 1, 1, 1, 1, 1, 1, 1, 1, 1, 1, 1, 1, 1, 1, 1, 1, 1, 1, 1, 1, 1, 1, 1, 1, 1, 1, 1, 1, 1, 1, 1, 1, 1, 1, 1, 1, 1, 1, 1, 1, 1, 1, 1, 1, 1, 1, 1, 1, 1, 1, 1, 1, 1, 1, 1, 1, 1, 1, 1, 1, 1, 1, 1, 1, 1, 1, 1, 1, 1, 1, 1, 1, 1, 1, 1, 1, 1, 1, 1, 1, 1, 1, 1, 1, 1, 1, 1, 1, 1, 1, 1, 1, 1, 1, 1, 1, 1, 1, 1, 1, 1, 1, 1, 1, 1, 1, 1, 1, 1, 1, 1, 1, 1, 1, 1, 1, 1, 1, 1, 1, 1, 1, 1, 1, 1, 1, 1, 1, 1, 1, 1, 1, 1, 1, 1, 1, 1, 1, 1, 1, 1, 1, 1, 1, 2, 2, 2, 2, 2, 2, 2, 2, 2, 2, 2, 2, 2, 2, 2, 2, 2, 2, 2, 2, 2, 2, 2, 2, 2, 2, 2, 2, 2, 2, 2, 2, 2, 2, 2, 2, 2, 2, 2, 2, 2, 2, 2, 2, 2, 2, 2, 2, 2, 2, 2, 2, 2, 2, 2, 2, 2, 2, 2, 2, 2, 2, 2, 2, 2, 2, 2, 2, 2, 2, 2, 2, 2, 2, 2, 2, 2, 2, 2, 2, 2, 2, 2, 2, 2, 2, 2, 2, 2, 2, 2, 2, 2, 2, 2, 2, 2, 2, 2, 2, 2, 2, 2, 2, 2, 2, 2, 2, 2, 2, 2, 2, 2, 2, 2, 2, 2, 2, 2, 2, 2, 2, 2, 2, 2, 2, 2, 2, 2, 2, 2, 2, 2, 2, 2, 2, 2, 2, 2, 2, 2, 2, 2, 2, 2, 2, 2, 2, 2, 2, 2, 2, 2, 2, 2, 2, 2, 2, 2, 2, 2, 2, 2, 2, 2, 2, 2, 2, 2, 2, 2, 2, 2, 2, 2, 2, 2, 2, 2, 2, 2, 2, 2, 2, 2, 2, 2, 2, 2, 2, 2, 2, 2, 2, 2, 2, 2, 2, 2, 2, 2, 2, 2, 2, 2, 2, 2, 2, 2, 2, 2, 2, 2, 2, 2, 2, 2, 2, 2, 2, 2, 2, 2, 2, 2, 2, 2, 2, 2, 2, 2, 2, 2, 2, 2, 2, 2, 2, 2, 2, 2, 2, 2, 2, 2, 2, 2, 2, 2, 2, 2, 2, 2, 2, 2, 2, 2, 2, 2, 2, 2, 2, 2, 2, 2, 2, 2, 2, 2, 2, 2, 2, 2, 2, 2, 2, 2, 2, 2, 2, 2, 3, 3, 3, 3, 3, 3, 3, 3, 3, 3, 3, 3, 3, 3, 3, 3, 3, 3, 3, 3, 3, 3, 3, 3, 3, 3, 3, 3, 3, 3, 3, 3, 3, 3, 3, 3, 3, 3, 3, 3, 3, 3, 3, 3, 3, 3, 3, 3, 3, 3, 3, 3, 3, 3, 3, 3, 3, 3, 3, 3, 3, 3, 3, 3, 3, 3, 3, 3, 3, 3, 3, 3, 3, 3, 3, 3, 3, 3, 3, 3, 3, 3, 3, 3, 3, 3, 3, 3, 3, 3, 3, 3, 3, 3, 3, 3, 3, 3, 3, 3, 3, 3, 3, 3, 3, 3, 3, 3, 3, 3, 3, 3, 3, 3, 3, 3, 3, 3, 3, 3, 3, 3, 3, 3, 3, 3, 3, 3, 3, 3, 3, 3, 3, 3, 3, 3, 3, 3, 3, 3, 3, 3, 3, 3, 3, 3, 3, 3, 3, 3, 3, 3, 3, 3, 3, 3, 3, 3, 3, 3, 3, 3, 3, 3, 3, 3, 3, 3, 3, 3, 3, 3, 3, 3, 3, 3, 3, 3, 3, 3, 3, 3, 3, 3, 3, 3, 3, 3, 3, 3, 3, 3, 3, 3, 3, 3, 3, 3, 3, 3, 3, 3, 3, 3, 3, 3, 3, 3, 3, 3, 3, 3, 3, 3, 3, 3, 3, 3, 3, 3, 3, 3, 3, 3, 3, 3, 3, 3, 3, 3, 4, 4, 4, 4, 4, 4, 4, 4, 4, 4, 4, 4, 4, 4, 4, 4, 4, 4, 4, 4, 4, 4, 4, 4, 4, 4, 4, 4, 4, 4, 4, 4, 4, 4, 4, 4, 4, 4, 4, 4, 4, 4, 4, 4, 4, 4, 4, 4, 4, 4, 4, 4, 4, 4, 4, 4, 4, 4, 4, 4, 4, 4, 4, 4, 4, 4, 4, 4, 4, 4, 4, 4, 4, 4, 4, 4, 4, 4, 4, 4, 4, 4, 4, 4, 4, 4, 4, 4, 4, 4, 4, 4, 4, 4, 4, 4, 4, 4, 4, 4, 4, 4, 4, 4, 4, 4, 4, 4, 4, 4, 4, 4, 4, 4, 4, 4, 4, 4, 4, 4, 4, 4, 4, 4, 4, 4, 4, 4, 4, 4, 4, 4, 4, 4, 4, 4, 4, 4, 4, 4, 4, 4, 4, 4, 4, 4, 4, 4, 4, 4, 4, 4, 4, 4, 4, 4, 4, 4, 4, 4, 4, 4, 4, 4, 4, 4, 4, 4, 4, 4, 4, 4, 4, 4, 4, 4, 4, 4, 4, 4, 4, 4, 4, 4, 4, 4, 4, 4, 4, 5, 5, 5, 5, 5, 5, 5, 5, 5, 5, 5, 5, 5, 5, 5, 5, 5, 5, 5, 5, 5, 5, 5, 5, 5, 5, 5, 5, 5, 5, 5, 5, 5, 5, 5, 5, 5, 5, 5, 5, 5, 5, 5, 5, 5, 5, 5, 5, 5, 5, 5, 5, 5, 5, 5, 5, 5, 5, 5, 5, 5, 5, 5, 5, 5, 5, 5, 5, 5, 5, 5, 5, 5, 5, 5, 5, 5, 5, 5, 5, 5, 5, 5, 5, 5, 5, 5, 5, 5, 5, 5, 5, 5, 5, 5, 5, 5, 5, 5, 5, 5, 5, 5, 5, 5, 5, 5, 5, 5, 5, 5, 5, 5, 5, 5, 5, 5, 5, 5, 5, 5, 5, 5, 5, 5, 5, 5, 5, 5, 5, 5, 5, 5, 5, 5, 5, 5, 5, 5, 5, 6, 6, 6, 6, 6, 6, 6, 6, 6, 6, 6, 6, 6, 6, 6, 6, 6, 6, 6, 6, 6, 6, 6, 6, 6, 6, 6, 6, 6, 6, 6, 6, 6, 6, 6, 6, 6, 6, 6, 6, 6, 6, 6, 6, 6, 6, 6, 6, 6, 6, 6, 6, 6, 6, 6, 6, 6, 6, 6, 6, 6, 6, 6, 6, 6, 6, 6, 6, 6, 6, 6, 6, 6, 6, 6, 6, 6, 6, 6, 6, 6, 6, 6, 6, 6, 6, 6, 6, 6, 6, 6, 6, 6, 6, 6, 6, 6, 6, 6, 6, 6, 6, 6, 6, 6, 6, 6, 6, 6, 6, 6, 7, 7, 7, 7, 7, 7, 7, 7, 7, 7, 7, 7, 7, 7, 7, 7, 7, 7, 7, 7, 7, 7, 7, 7, 7, 7, 7, 7, 7, 7, 7, 7, 7, 7, 7, 7, 7, 7, 7, 7, 7, 7, 7, 7, 7, 7, 7, 7, 7, 7, 7, 7, 7, 7, 7, 7, 7, 7, 7, 7, 7, 7, 7, 7, 7, 7, 7, 7, 7, 7, 7, 7, 7, 7, 7, 7, 7, 7, 7, 7, 7, 7, 7, 7, 7, 7, 7, 7, 7, 7, 7, 7, 7, 8, 8, 8, 8, 8, 8, 8, 8, 8, 8, 8, 8, 8, 8, 8, 8, 8, 8, 8, 8, 8, 8, 8, 8, 8, 8, 8, 8, 8, 8, 8, 8, 8, 8, 8, 8, 8, 8, 8, 8, 8, 8, 8, 8, 8, 8, 8, 8, 8, 8, 8, 8, 8, 8, 8, 8, 8, 8, 8, 8, 8, 8, 8, 8, 8, 8, 8, 8, 8, 8, 8, 8, 8, 8, 8, 8, 8, 8, 8, 8, 8, 8, 9, 9, 9, 9, 9, 9, 9, 9, 9, 9, 9, 9, 9, 9, 9, 9, 9, 9, 9, 9, 9, 9, 9, 9, 9, 9, 9, 9, 9, 9, 9, 9, 9, 9, 9, 9, 9, 9, 9, 9, 9, 9, 9, 9, 9, 9, 9, 9, 9, 9, 9, 9, 9, 9, 9, 9, 9, 9, 9, 9, 9, 9, 9, 9, 9, 9, 9, 9, 9, 9, 9, 9, 9, 9, 9, 9, 9, 10, 10, 10, 10, 10, 10, 10, 10, 10, 10, 10, 10, 10, 10, 10, 10, 10, 10, 10, 10, 10, 10, 10, 10, 10, 10, 10, 10, 10, 10, 10, 10, 10, 10, 10, 10, 10, 10, 10, 10, 10, 10, 10, 10, 10, 10, 10, 10, 10, 10, 10, 10, 10, 10, 10, 10, 10, 10, 10, 10, 10, 10, 10, 11, 11, 11, 11, 11, 11, 11, 11, 11, 11, 11, 11, 11, 11, 11, 11, 11, 11, 11, 11, 11, 11, 11, 11, 11, 11, 11, 11, 11, 11, 11, 11, 11, 11, 11, 11, 11, 11, 11, 11, 11, 11, 11, 11, 11, 11, 11, 11, 11, 11, 11, 11, 11, 11, 11, 11, 12, 12, 12, 12, 12, 12, 12, 12, 12, 12, 12, 12, 12, 12, 12, 12, 12, 12, 12, 12, 12, 12, 12, 12, 12, 12, 12, 12, 12, 12, 12, 12, 12, 12, 12, 12, 12, 12, 12, 12, 12, 12, 12, 12, 12, 12, 12, 13, 13, 13, 13, 13, 13, 13, 13, 13, 13, 13, 13, 13, 13, 13, 13, 13, 13, 13, 13, 13, 13, 13, 13, 13, 13, 13, 13, 13, 13, 13, 13, 14, 14, 14, 14, 14, 14, 14, 14, 14, 14, 14, 14, 14, 14, 14, 14, 14, 14, 14, 14, 14, 14, 14, 14, 14, 14, 14, 15, 15, 15, 15, 15, 15, 15, 15, 15, 15, 15, 15, 15, 15, 15, 15, 15, 15, 15, 16, 16, 16, 16, 16, 16, 16, 16, 16, 16, 16, 16, 16, 17, 17, 17, 17, 17, 17, 17, 17, 17, 17, 17, 17, 17, 18, 18, 18, 18, 18, 18, 18, 18, 18, 18, 18, 19, 19, 19, 19, 19, 19, 19, 19, 19, 19, 19, 19, 19, 20, 20, 20, 20, 20, 20, 20, 20, 20, 20, 20, 20, 20, 21, 21, 21, 21, 21, 21, 21, 21, 21, 21, 21, 21, 21, 22, 22, 22, 22, 22, 22, 22, 22, 22, 22, 23, 23, 23, 23, 23, 23, 24, 24, 24, 24, 24, 25, 25, 25, 26, 26, 27, 28, 29, 29, 29, 30, 30, 31, 32, 34, 34, 35, 35, 36, 36, 36, 37, 37, 38, 39, 40, 41, 42, 43, 44], \"xaxis\": \"x\", \"y\": [null, null, null, null, null, null, null, null, null, null, null, null, null, null, null, null, null, null, null, null, null, null, null, null, null, null, null, null, null, null, null, null, null, null, null, null, null, null, null, null, null, null, null, null, null, null, null, null, null, null, null, null, null, null, null, null, null, null, null, null, null, null, null, null, null, null, null, null, null, null, null, null, null, null, null, null, null, null, null, null, null, null, null, null, null, null, null, null, null, null, null, null, null, null, null, null, null, null, null, null, null, null, null, null, null, null, null, null, null, null, null, null, null, null, null, null, null, null, null, null, null, null, null, null, null, null, null, null, null, null, null, null, null, null, null, null, null, null, null, null, null, null, null, null, null, null, null, null, null, null, null, null, null, null, null, null, null, null, null, null, null, null, null, null, null, null, null, null, null, null, null, null, null, null, null, null, null, null, null, null, null, null, null, null, null, null, null, null, null, null, null, null, null, null, null, null, null, null, null, null, null, null, null, null, null, null, null, null, null, null, null, null, null, null, null, null, null, null, null, null, null, null, null, null, null, null, null, null, null, null, null, null, null, null, null, null, null, null, null, null, null, null, null, null, null, null, null, null, null, null, null, null, null, null, null, null, null, null, null, null, null, null, null, null, null, null, null, null, null, null, null, null, null, null, null, null, null, null, null, null, null, null, null, null, null, null, null, null, null, null, null, null, null, null, null, null, null, null, null, null, null, null, null, null, null, null, null, null, null, null, null, null, null, null, null, null, null, null, null, null, null, null, null, null, null, null, null, null, null, null, null, null, null, null, null, null, null, null, null, null, null, null, null, null, null, null, null, null, null, null, null, null, null, null, null, null, null, null, null, null, null, null, null, null, null, null, null, null, null, null, null, null, null, null, null, null, null, null, null, null, null, null, null, null, null, null, null, null, null, null, null, null, null, null, null, null, null, null, null, null, null, null, null, null, null, null, null, null, null, null, null, null, null, null, null, null, null, null, null, null, null, null, null, null, null, null, null, null, null, null, null, null, null, null, null, null, null, null, null, null, null, null, null, null, null, null, null, null, null, null, null, null, null, null, null, null, null, null, null, null, null, null, null, null, null, null, null, null, null, null, null, null, null, null, null, null, null, null, null, null, null, null, null, null, null, null, null, null, null, null, null, null, null, null, null, null, null, null, null, null, null, null, null, null, null, null, null, null, null, null, null, null, null, null, null, null, null, null, null, null, null, null, null, null, null, null, null, null, null, null, null, null, null, null, null, null, null, null, null, null, null, null, null, null, null, null, null, null, null, null, null, null, null, null, null, null, null, null, null, null, null, null, null, null, null, null, null, null, null, null, null, null, null, null, null, null, null, null, null, null, null, null, null, null, null, null, null, null, null, null, null, null, null, null, null, null, null, null, null, null, null, null, null, null, null, null, null, null, null, null, null, null, null, null, null, null, null, null, null, null, null, null, null, null, null, null, null, null, null, null, null, null, null, null, null, null, null, null, null, null, null, null, null, null, null, null, null, null, null, null, null, null, null, null, null, null, null, null, null, null, null, null, null, null, null, null, null, null, null, null, null, null, null, null, null, null, null, null, null, null, null, null, null, null, null, null, null, null, null, null, null, null, null, null, null, null, null, null, null, null, null, null, null, null, null, null, null, null, null, null, null, null, null, null, null, null, null, null, null, null, null, null, null, null, null, null, null, null, null, null, null, null, null, null, null, null, null, null, null, null, null, null, null, null, null, null, null, null, null, null, null, null, null, null, null, null, null, null, null, null, null, null, null, null, null, null, null, null, null, null, null, null, null, null, null, null, null, null, null, null, null, null, null, null, null, null, null, null, null, null, null, null, null, null, null, null, null, null, null, null, null, null, null, null, null, null, null, null, null, null, null, null, null, null, null, null, null, null, null, null, null, null, null, null, null, null, null, null, null, null, null, null, null, null, null, null, null, null, null, null, null, null, null, null, null, null, null, null, null, null, null, null, null, null, null, null, null, null, null, null, null, null, null, null, null, null, null, null, null, null, null, null, null, null, null, null, null, null, null, null, null, null, null, null, null, null, null, null, null, null, null, null, null, null, null, null, null, null, null, null, null, null, null, null, null, null, null, null, null, null, null, null, null, null, null, null, null, null, null, null, null, null, null, null, null, null, null, null, null, null, null, null, null, null, null, null, null, null, null, null, null, null, null, null, null, null, null, null, null, null, null, null, null, null, null, null, null, null, null, null, null, null, null, null, null, null, null, null, null, null, null, null, null, null, null, null, null, null, null, null, null, null, null, null, null, null, null, null, null, null, null, null, null, null, null, null, null, null, null, null, null, null, null, null, null, null, null, null, null, null, null, null, null, null, null, null, null, null, null, null, null, null, null, null, null, null, null, null, null, null, null, null, null, null, null, null, null, null, null, null, null, null, null, null, null, null, null, null, null, null, null, null, null, null, null, null, null, null, null, null, null, null, null, null, null, null, null, null, null, null, null, null, null, null, null, null, null, null, null, null, null, null, null, null, null, null, null, null, null, null, null, null, null, null, null, null, null, null, null, null, null, null, null, null, null, null, null, null, null, null, null, null, null, null, null, null, null, null, null, null, null, null, null, null, null, null, null, null, null, null, null, null, null, null, null, null, null, null, null, null, null, null, null, null, null, null, null, null, null, null, null, null, null, null, null, null, null, null, null, null, null, null, null, null, null, null, null, null, null, null, null, null, null, null, null, null, null, null, null, null, null, null, null, null, null, null, null, null, null, null, null, null, null, null, null, null, null, null, null, null, null, null, null, null, null, null, null, null, null, null, null, null, null, null, null, null, null, null, null, null, null, null, null, null, null, null, null, null, null, null, null, null, null, null, null, null, null, null, null, null, null, null, null, null, null, null, null, null, null, null, null, null, null, null, null, null, null, null, null, null, null, null, null, null, null, null, null, null, null, null, null, null, null, null, null, null, null, null, null, null, null, null, null, null, null, null, null, null, null, null, null, null, null, null, null, null, null, null, null, null, null, null, null, null, null, null, null, null, null, null, null, null, null, null, null, null, null, null, null, null, null, null, null, null, null, null, null, null, null, null, null, null, null, null, null, null, null, null, null, null, null, null, null, null, null, null, null, null, null, null, null, null, null, null, null, null, null, null, null, null, null, null, null, null, null, null, null, null, null, null, null, null, null, null, null, null, null, null, null, null, null, null, null, null, null, null, null, null, null, null, null, null, null, null, null, null, null, null, null, null, null, null, null, null, null, null, null, null, null, null, null, null, null, null, null, null, null, null, null, null, null, null, null, null, null, null, null, null, null, null, null, null, null, null, null, null, null, null, null, null, null, null, null, null, null, null, null, null, null, null, null, null, null, null, null, null, null, null, null, null, null, null, null, null, null, null, null, null, null, null, null, null, null, null, null, null, null, null, null, null, null, null, null, null, null, null, null, null, null, null, null, null, null, null, null, null, null, null, null, null, null, null, null, null, null, null, null, null, null, null, null, null, null, null, null, null, null, null, null, null, null, null, null, null, null, null, null, null, null, null, null, null, null, null, null, null, null, null, null, null, null, null, null, null, null, null, null, null, null, null, null, null, null, null, null, null, null, null, null, null, null, null, null, null, null, null, null, null, null, null, null, null, null, null, null, null, null, null, null, null, null, null, null, null, null, null, null, null, null, null, null, null, null, null, null, null, null, null, null, null, null, null, null, null, null, null, null, null, null, null, null, null, null, null, null, null, null, null, null, null, null, null, null, null, null, null, null, null, null, null, null, null, null, null, null, null, null, null, null, null, null, null, null, null, null, null, null, null, null, null, null, null, null, null, null, null, null, null, null, null, null, null, null, null, null, null, null, null, null, null, null, null, null, null, null, null, null, null, null, null, null, null, null, null, null, null, null, null, null, null, null, null, null, null, null, null, null, null, null, null, null, null, null, null, null, null, null, null, null, null, null, null, null, null, null, null, null, null, null, null, null, null, null, null, null, null, null, null, null, null, null, null, null, null, null, null, null, null, null, null, null, null, null, null, null, null, null, null, null, null, null, null, null, null, null, null, null, null, null, null, null, null, null, null, null, null, null, null, null, null, null, null, null, null, null, null, null, null, null, null, null, null, null, null, null, null, null, null, null, null, null, null, null, null, null, null, null, null, null, null, null, null, null, null, null, null, null, null, null, null, null, null, null, null, null, null, null, null, null, null, null, null, null, null, null, null, null, null, null, null, null, null, null, null, null, null, null, null, null, null, null, null, null, null, null, null, null, null, null, null, null, null, null, null, null, null, null, null, null, null, null, null, null, null, null, null, null, null, null, null, null, null, null, null, null, null, null, null, null, null, null, null, null, null, null, null, null, null, null, null, null, null, null, null, null, null, null, null, null, null, null, null, null, null, null, null, null, null, null, null, null, null, null, null, null, null, null, null, null, null, null, null, null, null, null, null, null, null, null, null, null, null, null, null, null, null, null, null, null, null, null, null, null, null, null, null, null, null, null, null, null, null, null, null, null, null, null, null, null, null, null, null, null, null, null, null, null, null, null, null, null, null, null, null, null, null, null, null, null, null, null, null, null, null, null, null, null, null, null, null, null, null, null, null, null, null, null, null, null, null, null, null, null, null, null, null, null, null, null, null, null, null, null, null, null, null, null, null, null, null, null, null, null, null, null, null, null, null, null, null, null, null, null, null, null, null, null, null, null, null, null, null, null, null, null, null, null, null, null, null, null, null, null, null, null, null, null, null, null, null, null, null, null, null, null, null, null, null, null, null, null, null, null, null, null, null, null, null, null, null, null, null, null, null, null, null, null, null, null, null, null, null, null, null, null, null, null, null, null, null, null, null, null, null, null, null, null, null, null, null, null, null, null, null, null, null, null, null, null, null, null, null, null, null, null, null, null, null, null, null, null, null, null, null, null, null, null, null, null, null, null, null, null, null, null, null, null, null, null, null, null, null, null, null, null, null, null, null, null, null, null, null, null, null, null, null, null, null, null, null, null, null, null, null, null, null, null, null, null, null, null, null, null, null, null, null, null, null, null, null, null, null, null, null, null, null, null, null, null, null, null, null, null, null, null, null, null, null, null, null, null, null, null, null, null, null, null, null, null, null, null, null, null, null, null, null, null, null, null, null, null, null, null, null, null, null, null, null, null, null, null, null, null, null, null, null, null, null, null, null, null, null, null, null, null, null, null, null, null, null, null, null, null, null, null, null, null, null, null, null, null, null, null, null, null, null, null, null, null, null, null, null, null, null, null, null, null, null, null, null, null, null, null, null, null, null, null, null, null, null, null, null, null, null, null, null, null, null, null, null, null, null, null, null, null, null, null, null, null, null, null, null, null, null, null, null, null, null, null, null, null, null, null, null, null, null, null, null, null, null, null, null, null, null, null, null, null, null, null, null, null, null, null, null, null, null, null, null, null, null, null, null, null, null, null, null, null, null, null, null, null, null, null, null, null, null, null, null, null, null, null, null, null, null, null, null, null, null, null, null, null, null, null, null, null, null, null, null, null, null, null, null, null, null, null, null, null, null, null, null, null, null, null, null, null, null, null, null, null, null, null, null, null, null, null, null, null, null, null, null, null, null, null, null, null, null, null, null, null, null, null, null, null, null, null, null, null, null, null, null, null, null, null, null, null, null, null, null, null, null, null, null, null, null], \"yaxis\": \"y\"}],\n",
              "                        {\"legend\": {\"tracegroupgap\": 0}, \"margin\": {\"t\": 60}, \"sliders\": [{\"active\": 0, \"currentvalue\": {\"prefix\": \"Length=\"}, \"len\": 0.9, \"pad\": {\"b\": 10, \"t\": 60}, \"steps\": [{\"args\": [[\"1\"], {\"frame\": {\"duration\": 0, \"redraw\": false}, \"fromcurrent\": true, \"mode\": \"immediate\", \"transition\": {\"duration\": 0, \"easing\": \"linear\"}}], \"label\": \"1\", \"method\": \"animate\"}, {\"args\": [[\"2\"], {\"frame\": {\"duration\": 0, \"redraw\": false}, \"fromcurrent\": true, \"mode\": \"immediate\", \"transition\": {\"duration\": 0, \"easing\": \"linear\"}}], \"label\": \"2\", \"method\": \"animate\"}, {\"args\": [[\"3\"], {\"frame\": {\"duration\": 0, \"redraw\": false}, \"fromcurrent\": true, \"mode\": \"immediate\", \"transition\": {\"duration\": 0, \"easing\": \"linear\"}}], \"label\": \"3\", \"method\": \"animate\"}, {\"args\": [[\"4\"], {\"frame\": {\"duration\": 0, \"redraw\": false}, \"fromcurrent\": true, \"mode\": \"immediate\", \"transition\": {\"duration\": 0, \"easing\": \"linear\"}}], \"label\": \"4\", \"method\": \"animate\"}, {\"args\": [[\"5\"], {\"frame\": {\"duration\": 0, \"redraw\": false}, \"fromcurrent\": true, \"mode\": \"immediate\", \"transition\": {\"duration\": 0, \"easing\": \"linear\"}}], \"label\": \"5\", \"method\": \"animate\"}, {\"args\": [[\"6\"], {\"frame\": {\"duration\": 0, \"redraw\": false}, \"fromcurrent\": true, \"mode\": \"immediate\", \"transition\": {\"duration\": 0, \"easing\": \"linear\"}}], \"label\": \"6\", \"method\": \"animate\"}, {\"args\": [[\"7\"], {\"frame\": {\"duration\": 0, \"redraw\": false}, \"fromcurrent\": true, \"mode\": \"immediate\", \"transition\": {\"duration\": 0, \"easing\": \"linear\"}}], \"label\": \"7\", \"method\": \"animate\"}, {\"args\": [[\"10\"], {\"frame\": {\"duration\": 0, \"redraw\": false}, \"fromcurrent\": true, \"mode\": \"immediate\", \"transition\": {\"duration\": 0, \"easing\": \"linear\"}}], \"label\": \"10\", \"method\": \"animate\"}, {\"args\": [[\"8\"], {\"frame\": {\"duration\": 0, \"redraw\": false}, \"fromcurrent\": true, \"mode\": \"immediate\", \"transition\": {\"duration\": 0, \"easing\": \"linear\"}}], \"label\": \"8\", \"method\": \"animate\"}, {\"args\": [[\"14\"], {\"frame\": {\"duration\": 0, \"redraw\": false}, \"fromcurrent\": true, \"mode\": \"immediate\", \"transition\": {\"duration\": 0, \"easing\": \"linear\"}}], \"label\": \"14\", \"method\": \"animate\"}, {\"args\": [[\"9\"], {\"frame\": {\"duration\": 0, \"redraw\": false}, \"fromcurrent\": true, \"mode\": \"immediate\", \"transition\": {\"duration\": 0, \"easing\": \"linear\"}}], \"label\": \"9\", \"method\": \"animate\"}, {\"args\": [[\"11\"], {\"frame\": {\"duration\": 0, \"redraw\": false}, \"fromcurrent\": true, \"mode\": \"immediate\", \"transition\": {\"duration\": 0, \"easing\": \"linear\"}}], \"label\": \"11\", \"method\": \"animate\"}, {\"args\": [[\"13\"], {\"frame\": {\"duration\": 0, \"redraw\": false}, \"fromcurrent\": true, \"mode\": \"immediate\", \"transition\": {\"duration\": 0, \"easing\": \"linear\"}}], \"label\": \"13\", \"method\": \"animate\"}, {\"args\": [[\"18\"], {\"frame\": {\"duration\": 0, \"redraw\": false}, \"fromcurrent\": true, \"mode\": \"immediate\", \"transition\": {\"duration\": 0, \"easing\": \"linear\"}}], \"label\": \"18\", \"method\": \"animate\"}, {\"args\": [[\"16\"], {\"frame\": {\"duration\": 0, \"redraw\": false}, \"fromcurrent\": true, \"mode\": \"immediate\", \"transition\": {\"duration\": 0, \"easing\": \"linear\"}}], \"label\": \"16\", \"method\": \"animate\"}, {\"args\": [[\"17\"], {\"frame\": {\"duration\": 0, \"redraw\": false}, \"fromcurrent\": true, \"mode\": \"immediate\", \"transition\": {\"duration\": 0, \"easing\": \"linear\"}}], \"label\": \"17\", \"method\": \"animate\"}, {\"args\": [[\"20\"], {\"frame\": {\"duration\": 0, \"redraw\": false}, \"fromcurrent\": true, \"mode\": \"immediate\", \"transition\": {\"duration\": 0, \"easing\": \"linear\"}}], \"label\": \"20\", \"method\": \"animate\"}, {\"args\": [[\"15\"], {\"frame\": {\"duration\": 0, \"redraw\": false}, \"fromcurrent\": true, \"mode\": \"immediate\", \"transition\": {\"duration\": 0, \"easing\": \"linear\"}}], \"label\": \"15\", \"method\": \"animate\"}, {\"args\": [[\"12\"], {\"frame\": {\"duration\": 0, \"redraw\": false}, \"fromcurrent\": true, \"mode\": \"immediate\", \"transition\": {\"duration\": 0, \"easing\": \"linear\"}}], \"label\": \"12\", \"method\": \"animate\"}, {\"args\": [[\"21\"], {\"frame\": {\"duration\": 0, \"redraw\": false}, \"fromcurrent\": true, \"mode\": \"immediate\", \"transition\": {\"duration\": 0, \"easing\": \"linear\"}}], \"label\": \"21\", \"method\": \"animate\"}, {\"args\": [[\"22\"], {\"frame\": {\"duration\": 0, \"redraw\": false}, \"fromcurrent\": true, \"mode\": \"immediate\", \"transition\": {\"duration\": 0, \"easing\": \"linear\"}}], \"label\": \"22\", \"method\": \"animate\"}, {\"args\": [[\"19\"], {\"frame\": {\"duration\": 0, \"redraw\": false}, \"fromcurrent\": true, \"mode\": \"immediate\", \"transition\": {\"duration\": 0, \"easing\": \"linear\"}}], \"label\": \"19\", \"method\": \"animate\"}, {\"args\": [[\"23\"], {\"frame\": {\"duration\": 0, \"redraw\": false}, \"fromcurrent\": true, \"mode\": \"immediate\", \"transition\": {\"duration\": 0, \"easing\": \"linear\"}}], \"label\": \"23\", \"method\": \"animate\"}, {\"args\": [[\"24\"], {\"frame\": {\"duration\": 0, \"redraw\": false}, \"fromcurrent\": true, \"mode\": \"immediate\", \"transition\": {\"duration\": 0, \"easing\": \"linear\"}}], \"label\": \"24\", \"method\": \"animate\"}, {\"args\": [[\"25\"], {\"frame\": {\"duration\": 0, \"redraw\": false}, \"fromcurrent\": true, \"mode\": \"immediate\", \"transition\": {\"duration\": 0, \"easing\": \"linear\"}}], \"label\": \"25\", \"method\": \"animate\"}, {\"args\": [[\"26\"], {\"frame\": {\"duration\": 0, \"redraw\": false}, \"fromcurrent\": true, \"mode\": \"immediate\", \"transition\": {\"duration\": 0, \"easing\": \"linear\"}}], \"label\": \"26\", \"method\": \"animate\"}, {\"args\": [[\"33\"], {\"frame\": {\"duration\": 0, \"redraw\": false}, \"fromcurrent\": true, \"mode\": \"immediate\", \"transition\": {\"duration\": 0, \"easing\": \"linear\"}}], \"label\": \"33\", \"method\": \"animate\"}, {\"args\": [[\"29\"], {\"frame\": {\"duration\": 0, \"redraw\": false}, \"fromcurrent\": true, \"mode\": \"immediate\", \"transition\": {\"duration\": 0, \"easing\": \"linear\"}}], \"label\": \"29\", \"method\": \"animate\"}, {\"args\": [[\"28\"], {\"frame\": {\"duration\": 0, \"redraw\": false}, \"fromcurrent\": true, \"mode\": \"immediate\", \"transition\": {\"duration\": 0, \"easing\": \"linear\"}}], \"label\": \"28\", \"method\": \"animate\"}, {\"args\": [[\"43\"], {\"frame\": {\"duration\": 0, \"redraw\": false}, \"fromcurrent\": true, \"mode\": \"immediate\", \"transition\": {\"duration\": 0, \"easing\": \"linear\"}}], \"label\": \"43\", \"method\": \"animate\"}, {\"args\": [[\"44\"], {\"frame\": {\"duration\": 0, \"redraw\": false}, \"fromcurrent\": true, \"mode\": \"immediate\", \"transition\": {\"duration\": 0, \"easing\": \"linear\"}}], \"label\": \"44\", \"method\": \"animate\"}, {\"args\": [[\"27\"], {\"frame\": {\"duration\": 0, \"redraw\": false}, \"fromcurrent\": true, \"mode\": \"immediate\", \"transition\": {\"duration\": 0, \"easing\": \"linear\"}}], \"label\": \"27\", \"method\": \"animate\"}, {\"args\": [[\"41\"], {\"frame\": {\"duration\": 0, \"redraw\": false}, \"fromcurrent\": true, \"mode\": \"immediate\", \"transition\": {\"duration\": 0, \"easing\": \"linear\"}}], \"label\": \"41\", \"method\": \"animate\"}, {\"args\": [[\"54\"], {\"frame\": {\"duration\": 0, \"redraw\": false}, \"fromcurrent\": true, \"mode\": \"immediate\", \"transition\": {\"duration\": 0, \"easing\": \"linear\"}}], \"label\": \"54\", \"method\": \"animate\"}, {\"args\": [[\"37\"], {\"frame\": {\"duration\": 0, \"redraw\": false}, \"fromcurrent\": true, \"mode\": \"immediate\", \"transition\": {\"duration\": 0, \"easing\": \"linear\"}}], \"label\": \"37\", \"method\": \"animate\"}, {\"args\": [[\"30\"], {\"frame\": {\"duration\": 0, \"redraw\": false}, \"fromcurrent\": true, \"mode\": \"immediate\", \"transition\": {\"duration\": 0, \"easing\": \"linear\"}}], \"label\": \"30\", \"method\": \"animate\"}, {\"args\": [[\"65\"], {\"frame\": {\"duration\": 0, \"redraw\": false}, \"fromcurrent\": true, \"mode\": \"immediate\", \"transition\": {\"duration\": 0, \"easing\": \"linear\"}}], \"label\": \"65\", \"method\": \"animate\"}, {\"args\": [[\"32\"], {\"frame\": {\"duration\": 0, \"redraw\": false}, \"fromcurrent\": true, \"mode\": \"immediate\", \"transition\": {\"duration\": 0, \"easing\": \"linear\"}}], \"label\": \"32\", \"method\": \"animate\"}, {\"args\": [[\"66\"], {\"frame\": {\"duration\": 0, \"redraw\": false}, \"fromcurrent\": true, \"mode\": \"immediate\", \"transition\": {\"duration\": 0, \"easing\": \"linear\"}}], \"label\": \"66\", \"method\": \"animate\"}, {\"args\": [[\"47\"], {\"frame\": {\"duration\": 0, \"redraw\": false}, \"fromcurrent\": true, \"mode\": \"immediate\", \"transition\": {\"duration\": 0, \"easing\": \"linear\"}}], \"label\": \"47\", \"method\": \"animate\"}, {\"args\": [[\"36\"], {\"frame\": {\"duration\": 0, \"redraw\": false}, \"fromcurrent\": true, \"mode\": \"immediate\", \"transition\": {\"duration\": 0, \"easing\": \"linear\"}}], \"label\": \"36\", \"method\": \"animate\"}, {\"args\": [[\"42\"], {\"frame\": {\"duration\": 0, \"redraw\": false}, \"fromcurrent\": true, \"mode\": \"immediate\", \"transition\": {\"duration\": 0, \"easing\": \"linear\"}}], \"label\": \"42\", \"method\": \"animate\"}, {\"args\": [[\"31\"], {\"frame\": {\"duration\": 0, \"redraw\": false}, \"fromcurrent\": true, \"mode\": \"immediate\", \"transition\": {\"duration\": 0, \"easing\": \"linear\"}}], \"label\": \"31\", \"method\": \"animate\"}, {\"args\": [[\"67\"], {\"frame\": {\"duration\": 0, \"redraw\": false}, \"fromcurrent\": true, \"mode\": \"immediate\", \"transition\": {\"duration\": 0, \"easing\": \"linear\"}}], \"label\": \"67\", \"method\": \"animate\"}, {\"args\": [[\"52\"], {\"frame\": {\"duration\": 0, \"redraw\": false}, \"fromcurrent\": true, \"mode\": \"immediate\", \"transition\": {\"duration\": 0, \"easing\": \"linear\"}}], \"label\": \"52\", \"method\": \"animate\"}, {\"args\": [[\"48\"], {\"frame\": {\"duration\": 0, \"redraw\": false}, \"fromcurrent\": true, \"mode\": \"immediate\", \"transition\": {\"duration\": 0, \"easing\": \"linear\"}}], \"label\": \"48\", \"method\": \"animate\"}, {\"args\": [[\"39\"], {\"frame\": {\"duration\": 0, \"redraw\": false}, \"fromcurrent\": true, \"mode\": \"immediate\", \"transition\": {\"duration\": 0, \"easing\": \"linear\"}}], \"label\": \"39\", \"method\": \"animate\"}, {\"args\": [[\"64\"], {\"frame\": {\"duration\": 0, \"redraw\": false}, \"fromcurrent\": true, \"mode\": \"immediate\", \"transition\": {\"duration\": 0, \"easing\": \"linear\"}}], \"label\": \"64\", \"method\": \"animate\"}, {\"args\": [[\"51\"], {\"frame\": {\"duration\": 0, \"redraw\": false}, \"fromcurrent\": true, \"mode\": \"immediate\", \"transition\": {\"duration\": 0, \"easing\": \"linear\"}}], \"label\": \"51\", \"method\": \"animate\"}, {\"args\": [[\"100\"], {\"frame\": {\"duration\": 0, \"redraw\": false}, \"fromcurrent\": true, \"mode\": \"immediate\", \"transition\": {\"duration\": 0, \"easing\": \"linear\"}}], \"label\": \"100\", \"method\": \"animate\"}, {\"args\": [[\"55\"], {\"frame\": {\"duration\": 0, \"redraw\": false}, \"fromcurrent\": true, \"mode\": \"immediate\", \"transition\": {\"duration\": 0, \"easing\": \"linear\"}}], \"label\": \"55\", \"method\": \"animate\"}, {\"args\": [[\"77\"], {\"frame\": {\"duration\": 0, \"redraw\": false}, \"fromcurrent\": true, \"mode\": \"immediate\", \"transition\": {\"duration\": 0, \"easing\": \"linear\"}}], \"label\": \"77\", \"method\": \"animate\"}, {\"args\": [[\"82\"], {\"frame\": {\"duration\": 0, \"redraw\": false}, \"fromcurrent\": true, \"mode\": \"immediate\", \"transition\": {\"duration\": 0, \"easing\": \"linear\"}}], \"label\": \"82\", \"method\": \"animate\"}, {\"args\": [[\"50\"], {\"frame\": {\"duration\": 0, \"redraw\": false}, \"fromcurrent\": true, \"mode\": \"immediate\", \"transition\": {\"duration\": 0, \"easing\": \"linear\"}}], \"label\": \"50\", \"method\": \"animate\"}, {\"args\": [[\"35\"], {\"frame\": {\"duration\": 0, \"redraw\": false}, \"fromcurrent\": true, \"mode\": \"immediate\", \"transition\": {\"duration\": 0, \"easing\": \"linear\"}}], \"label\": \"35\", \"method\": \"animate\"}, {\"args\": [[\"133\"], {\"frame\": {\"duration\": 0, \"redraw\": false}, \"fromcurrent\": true, \"mode\": \"immediate\", \"transition\": {\"duration\": 0, \"easing\": \"linear\"}}], \"label\": \"133\", \"method\": \"animate\"}, {\"args\": [[\"105\"], {\"frame\": {\"duration\": 0, \"redraw\": false}, \"fromcurrent\": true, \"mode\": \"immediate\", \"transition\": {\"duration\": 0, \"easing\": \"linear\"}}], \"label\": \"105\", \"method\": \"animate\"}, {\"args\": [[\"34\"], {\"frame\": {\"duration\": 0, \"redraw\": false}, \"fromcurrent\": true, \"mode\": \"immediate\", \"transition\": {\"duration\": 0, \"easing\": \"linear\"}}], \"label\": \"34\", \"method\": \"animate\"}, {\"args\": [[\"141\"], {\"frame\": {\"duration\": 0, \"redraw\": false}, \"fromcurrent\": true, \"mode\": \"immediate\", \"transition\": {\"duration\": 0, \"easing\": \"linear\"}}], \"label\": \"141\", \"method\": \"animate\"}, {\"args\": [[\"115\"], {\"frame\": {\"duration\": 0, \"redraw\": false}, \"fromcurrent\": true, \"mode\": \"immediate\", \"transition\": {\"duration\": 0, \"easing\": \"linear\"}}], \"label\": \"115\", \"method\": \"animate\"}, {\"args\": [[\"147\"], {\"frame\": {\"duration\": 0, \"redraw\": false}, \"fromcurrent\": true, \"mode\": \"immediate\", \"transition\": {\"duration\": 0, \"easing\": \"linear\"}}], \"label\": \"147\", \"method\": \"animate\"}, {\"args\": [[\"70\"], {\"frame\": {\"duration\": 0, \"redraw\": false}, \"fromcurrent\": true, \"mode\": \"immediate\", \"transition\": {\"duration\": 0, \"easing\": \"linear\"}}], \"label\": \"70\", \"method\": \"animate\"}, {\"args\": [[\"79\"], {\"frame\": {\"duration\": 0, \"redraw\": false}, \"fromcurrent\": true, \"mode\": \"immediate\", \"transition\": {\"duration\": 0, \"easing\": \"linear\"}}], \"label\": \"79\", \"method\": \"animate\"}, {\"args\": [[\"114\"], {\"frame\": {\"duration\": 0, \"redraw\": false}, \"fromcurrent\": true, \"mode\": \"immediate\", \"transition\": {\"duration\": 0, \"easing\": \"linear\"}}], \"label\": \"114\", \"method\": \"animate\"}, {\"args\": [[\"61\"], {\"frame\": {\"duration\": 0, \"redraw\": false}, \"fromcurrent\": true, \"mode\": \"immediate\", \"transition\": {\"duration\": 0, \"easing\": \"linear\"}}], \"label\": \"61\", \"method\": \"animate\"}, {\"args\": [[\"38\"], {\"frame\": {\"duration\": 0, \"redraw\": false}, \"fromcurrent\": true, \"mode\": \"immediate\", \"transition\": {\"duration\": 0, \"easing\": \"linear\"}}], \"label\": \"38\", \"method\": \"animate\"}, {\"args\": [[\"119\"], {\"frame\": {\"duration\": 0, \"redraw\": false}, \"fromcurrent\": true, \"mode\": \"immediate\", \"transition\": {\"duration\": 0, \"easing\": \"linear\"}}], \"label\": \"119\", \"method\": \"animate\"}, {\"args\": [[\"140\"], {\"frame\": {\"duration\": 0, \"redraw\": false}, \"fromcurrent\": true, \"mode\": \"immediate\", \"transition\": {\"duration\": 0, \"easing\": \"linear\"}}], \"label\": \"140\", \"method\": \"animate\"}, {\"args\": [[\"73\"], {\"frame\": {\"duration\": 0, \"redraw\": false}, \"fromcurrent\": true, \"mode\": \"immediate\", \"transition\": {\"duration\": 0, \"easing\": \"linear\"}}], \"label\": \"73\", \"method\": \"animate\"}, {\"args\": [[\"83\"], {\"frame\": {\"duration\": 0, \"redraw\": false}, \"fromcurrent\": true, \"mode\": \"immediate\", \"transition\": {\"duration\": 0, \"easing\": \"linear\"}}], \"label\": \"83\", \"method\": \"animate\"}, {\"args\": [[\"113\"], {\"frame\": {\"duration\": 0, \"redraw\": false}, \"fromcurrent\": true, \"mode\": \"immediate\", \"transition\": {\"duration\": 0, \"easing\": \"linear\"}}], \"label\": \"113\", \"method\": \"animate\"}, {\"args\": [[\"49\"], {\"frame\": {\"duration\": 0, \"redraw\": false}, \"fromcurrent\": true, \"mode\": \"immediate\", \"transition\": {\"duration\": 0, \"easing\": \"linear\"}}], \"label\": \"49\", \"method\": \"animate\"}, {\"args\": [[\"120\"], {\"frame\": {\"duration\": 0, \"redraw\": false}, \"fromcurrent\": true, \"mode\": \"immediate\", \"transition\": {\"duration\": 0, \"easing\": \"linear\"}}], \"label\": \"120\", \"method\": \"animate\"}, {\"args\": [[\"63\"], {\"frame\": {\"duration\": 0, \"redraw\": false}, \"fromcurrent\": true, \"mode\": \"immediate\", \"transition\": {\"duration\": 0, \"easing\": \"linear\"}}], \"label\": \"63\", \"method\": \"animate\"}, {\"args\": [[\"235\"], {\"frame\": {\"duration\": 0, \"redraw\": false}, \"fromcurrent\": true, \"mode\": \"immediate\", \"transition\": {\"duration\": 0, \"easing\": \"linear\"}}], \"label\": \"235\", \"method\": \"animate\"}, {\"args\": [[\"40\"], {\"frame\": {\"duration\": 0, \"redraw\": false}, \"fromcurrent\": true, \"mode\": \"immediate\", \"transition\": {\"duration\": 0, \"easing\": \"linear\"}}], \"label\": \"40\", \"method\": \"animate\"}, {\"args\": [[\"298\"], {\"frame\": {\"duration\": 0, \"redraw\": false}, \"fromcurrent\": true, \"mode\": \"immediate\", \"transition\": {\"duration\": 0, \"easing\": \"linear\"}}], \"label\": \"298\", \"method\": \"animate\"}, {\"args\": [[\"68\"], {\"frame\": {\"duration\": 0, \"redraw\": false}, \"fromcurrent\": true, \"mode\": \"immediate\", \"transition\": {\"duration\": 0, \"easing\": \"linear\"}}], \"label\": \"68\", \"method\": \"animate\"}, {\"args\": [[\"69\"], {\"frame\": {\"duration\": 0, \"redraw\": false}, \"fromcurrent\": true, \"mode\": \"immediate\", \"transition\": {\"duration\": 0, \"easing\": \"linear\"}}], \"label\": \"69\", \"method\": \"animate\"}, {\"args\": [[\"97\"], {\"frame\": {\"duration\": 0, \"redraw\": false}, \"fromcurrent\": true, \"mode\": \"immediate\", \"transition\": {\"duration\": 0, \"easing\": \"linear\"}}], \"label\": \"97\", \"method\": \"animate\"}, {\"args\": [[\"56\"], {\"frame\": {\"duration\": 0, \"redraw\": false}, \"fromcurrent\": true, \"mode\": \"immediate\", \"transition\": {\"duration\": 0, \"easing\": \"linear\"}}], \"label\": \"56\", \"method\": \"animate\"}, {\"args\": [[\"71\"], {\"frame\": {\"duration\": 0, \"redraw\": false}, \"fromcurrent\": true, \"mode\": \"immediate\", \"transition\": {\"duration\": 0, \"easing\": \"linear\"}}], \"label\": \"71\", \"method\": \"animate\"}, {\"args\": [[\"347\"], {\"frame\": {\"duration\": 0, \"redraw\": false}, \"fromcurrent\": true, \"mode\": \"immediate\", \"transition\": {\"duration\": 0, \"easing\": \"linear\"}}], \"label\": \"347\", \"method\": \"animate\"}, {\"args\": [[\"72\"], {\"frame\": {\"duration\": 0, \"redraw\": false}, \"fromcurrent\": true, \"mode\": \"immediate\", \"transition\": {\"duration\": 0, \"easing\": \"linear\"}}], \"label\": \"72\", \"method\": \"animate\"}, {\"args\": [[\"118\"], {\"frame\": {\"duration\": 0, \"redraw\": false}, \"fromcurrent\": true, \"mode\": \"immediate\", \"transition\": {\"duration\": 0, \"easing\": \"linear\"}}], \"label\": \"118\", \"method\": \"animate\"}, {\"args\": [[\"248\"], {\"frame\": {\"duration\": 0, \"redraw\": false}, \"fromcurrent\": true, \"mode\": \"immediate\", \"transition\": {\"duration\": 0, \"easing\": \"linear\"}}], \"label\": \"248\", \"method\": \"animate\"}, {\"args\": [[\"99\"], {\"frame\": {\"duration\": 0, \"redraw\": false}, \"fromcurrent\": true, \"mode\": \"immediate\", \"transition\": {\"duration\": 0, \"easing\": \"linear\"}}], \"label\": \"99\", \"method\": \"animate\"}, {\"args\": [[\"80\"], {\"frame\": {\"duration\": 0, \"redraw\": false}, \"fromcurrent\": true, \"mode\": \"immediate\", \"transition\": {\"duration\": 0, \"easing\": \"linear\"}}], \"label\": \"80\", \"method\": \"animate\"}, {\"args\": [[\"128\"], {\"frame\": {\"duration\": 0, \"redraw\": false}, \"fromcurrent\": true, \"mode\": \"immediate\", \"transition\": {\"duration\": 0, \"easing\": \"linear\"}}], \"label\": \"128\", \"method\": \"animate\"}, {\"args\": [[\"85\"], {\"frame\": {\"duration\": 0, \"redraw\": false}, \"fromcurrent\": true, \"mode\": \"immediate\", \"transition\": {\"duration\": 0, \"easing\": \"linear\"}}], \"label\": \"85\", \"method\": \"animate\"}, {\"args\": [[\"62\"], {\"frame\": {\"duration\": 0, \"redraw\": false}, \"fromcurrent\": true, \"mode\": \"immediate\", \"transition\": {\"duration\": 0, \"easing\": \"linear\"}}], \"label\": \"62\", \"method\": \"animate\"}, {\"args\": [[\"95\"], {\"frame\": {\"duration\": 0, \"redraw\": false}, \"fromcurrent\": true, \"mode\": \"immediate\", \"transition\": {\"duration\": 0, \"easing\": \"linear\"}}], \"label\": \"95\", \"method\": \"animate\"}, {\"args\": [[\"106\"], {\"frame\": {\"duration\": 0, \"redraw\": false}, \"fromcurrent\": true, \"mode\": \"immediate\", \"transition\": {\"duration\": 0, \"easing\": \"linear\"}}], \"label\": \"106\", \"method\": \"animate\"}, {\"args\": [[\"285\"], {\"frame\": {\"duration\": 0, \"redraw\": false}, \"fromcurrent\": true, \"mode\": \"immediate\", \"transition\": {\"duration\": 0, \"easing\": \"linear\"}}], \"label\": \"285\", \"method\": \"animate\"}, {\"args\": [[\"305\"], {\"frame\": {\"duration\": 0, \"redraw\": false}, \"fromcurrent\": true, \"mode\": \"immediate\", \"transition\": {\"duration\": 0, \"easing\": \"linear\"}}], \"label\": \"305\", \"method\": \"animate\"}, {\"args\": [[\"201\"], {\"frame\": {\"duration\": 0, \"redraw\": false}, \"fromcurrent\": true, \"mode\": \"immediate\", \"transition\": {\"duration\": 0, \"easing\": \"linear\"}}], \"label\": \"201\", \"method\": \"animate\"}, {\"args\": [[\"107\"], {\"frame\": {\"duration\": 0, \"redraw\": false}, \"fromcurrent\": true, \"mode\": \"immediate\", \"transition\": {\"duration\": 0, \"easing\": \"linear\"}}], \"label\": \"107\", \"method\": \"animate\"}, {\"args\": [[\"306\"], {\"frame\": {\"duration\": 0, \"redraw\": false}, \"fromcurrent\": true, \"mode\": \"immediate\", \"transition\": {\"duration\": 0, \"easing\": \"linear\"}}], \"label\": \"306\", \"method\": \"animate\"}, {\"args\": [[\"60\"], {\"frame\": {\"duration\": 0, \"redraw\": false}, \"fromcurrent\": true, \"mode\": \"immediate\", \"transition\": {\"duration\": 0, \"easing\": \"linear\"}}], \"label\": \"60\", \"method\": \"animate\"}, {\"args\": [[\"204\"], {\"frame\": {\"duration\": 0, \"redraw\": false}, \"fromcurrent\": true, \"mode\": \"immediate\", \"transition\": {\"duration\": 0, \"easing\": \"linear\"}}], \"label\": \"204\", \"method\": \"animate\"}, {\"args\": [[\"206\"], {\"frame\": {\"duration\": 0, \"redraw\": false}, \"fromcurrent\": true, \"mode\": \"immediate\", \"transition\": {\"duration\": 0, \"easing\": \"linear\"}}], \"label\": \"206\", \"method\": \"animate\"}, {\"args\": [[\"320\"], {\"frame\": {\"duration\": 0, \"redraw\": false}, \"fromcurrent\": true, \"mode\": \"immediate\", \"transition\": {\"duration\": 0, \"easing\": \"linear\"}}], \"label\": \"320\", \"method\": \"animate\"}, {\"args\": [[\"231\"], {\"frame\": {\"duration\": 0, \"redraw\": false}, \"fromcurrent\": true, \"mode\": \"immediate\", \"transition\": {\"duration\": 0, \"easing\": \"linear\"}}], \"label\": \"231\", \"method\": \"animate\"}, {\"args\": [[\"326\"], {\"frame\": {\"duration\": 0, \"redraw\": false}, \"fromcurrent\": true, \"mode\": \"immediate\", \"transition\": {\"duration\": 0, \"easing\": \"linear\"}}], \"label\": \"326\", \"method\": \"animate\"}, {\"args\": [[\"557\"], {\"frame\": {\"duration\": 0, \"redraw\": false}, \"fromcurrent\": true, \"mode\": \"immediate\", \"transition\": {\"duration\": 0, \"easing\": \"linear\"}}], \"label\": \"557\", \"method\": \"animate\"}, {\"args\": [[\"75\"], {\"frame\": {\"duration\": 0, \"redraw\": false}, \"fromcurrent\": true, \"mode\": \"immediate\", \"transition\": {\"duration\": 0, \"easing\": \"linear\"}}], \"label\": \"75\", \"method\": \"animate\"}, {\"args\": [[\"558\"], {\"frame\": {\"duration\": 0, \"redraw\": false}, \"fromcurrent\": true, \"mode\": \"immediate\", \"transition\": {\"duration\": 0, \"easing\": \"linear\"}}], \"label\": \"558\", \"method\": \"animate\"}, {\"args\": [[\"633\"], {\"frame\": {\"duration\": 0, \"redraw\": false}, \"fromcurrent\": true, \"mode\": \"immediate\", \"transition\": {\"duration\": 0, \"easing\": \"linear\"}}], \"label\": \"633\", \"method\": \"animate\"}, {\"args\": [[\"81\"], {\"frame\": {\"duration\": 0, \"redraw\": false}, \"fromcurrent\": true, \"mode\": \"immediate\", \"transition\": {\"duration\": 0, \"easing\": \"linear\"}}], \"label\": \"81\", \"method\": \"animate\"}, {\"args\": [[\"123\"], {\"frame\": {\"duration\": 0, \"redraw\": false}, \"fromcurrent\": true, \"mode\": \"immediate\", \"transition\": {\"duration\": 0, \"easing\": \"linear\"}}], \"label\": \"123\", \"method\": \"animate\"}, {\"args\": [[\"636\"], {\"frame\": {\"duration\": 0, \"redraw\": false}, \"fromcurrent\": true, \"mode\": \"immediate\", \"transition\": {\"duration\": 0, \"easing\": \"linear\"}}], \"label\": \"636\", \"method\": \"animate\"}, {\"args\": [[\"53\"], {\"frame\": {\"duration\": 0, \"redraw\": false}, \"fromcurrent\": true, \"mode\": \"immediate\", \"transition\": {\"duration\": 0, \"easing\": \"linear\"}}], \"label\": \"53\", \"method\": \"animate\"}, {\"args\": [[\"660\"], {\"frame\": {\"duration\": 0, \"redraw\": false}, \"fromcurrent\": true, \"mode\": \"immediate\", \"transition\": {\"duration\": 0, \"easing\": \"linear\"}}], \"label\": \"660\", \"method\": \"animate\"}, {\"args\": [[\"46\"], {\"frame\": {\"duration\": 0, \"redraw\": false}, \"fromcurrent\": true, \"mode\": \"immediate\", \"transition\": {\"duration\": 0, \"easing\": \"linear\"}}], \"label\": \"46\", \"method\": \"animate\"}, {\"args\": [[\"706\"], {\"frame\": {\"duration\": 0, \"redraw\": false}, \"fromcurrent\": true, \"mode\": \"immediate\", \"transition\": {\"duration\": 0, \"easing\": \"linear\"}}], \"label\": \"706\", \"method\": \"animate\"}, {\"args\": [[\"759\"], {\"frame\": {\"duration\": 0, \"redraw\": false}, \"fromcurrent\": true, \"mode\": \"immediate\", \"transition\": {\"duration\": 0, \"easing\": \"linear\"}}], \"label\": \"759\", \"method\": \"animate\"}, {\"args\": [[\"760\"], {\"frame\": {\"duration\": 0, \"redraw\": false}, \"fromcurrent\": true, \"mode\": \"immediate\", \"transition\": {\"duration\": 0, \"easing\": \"linear\"}}], \"label\": \"760\", \"method\": \"animate\"}], \"x\": 0.1, \"xanchor\": \"left\", \"y\": 0, \"yanchor\": \"top\"}], \"template\": {\"data\": {\"bar\": [{\"error_x\": {\"color\": \"#2a3f5f\"}, \"error_y\": {\"color\": \"#2a3f5f\"}, \"marker\": {\"line\": {\"color\": \"#E5ECF6\", \"width\": 0.5}}, \"type\": \"bar\"}], \"barpolar\": [{\"marker\": {\"line\": {\"color\": \"#E5ECF6\", \"width\": 0.5}}, \"type\": \"barpolar\"}], \"carpet\": [{\"aaxis\": {\"endlinecolor\": \"#2a3f5f\", \"gridcolor\": \"white\", \"linecolor\": \"white\", \"minorgridcolor\": \"white\", \"startlinecolor\": \"#2a3f5f\"}, \"baxis\": {\"endlinecolor\": \"#2a3f5f\", \"gridcolor\": \"white\", \"linecolor\": \"white\", \"minorgridcolor\": \"white\", \"startlinecolor\": \"#2a3f5f\"}, \"type\": \"carpet\"}], \"choropleth\": [{\"colorbar\": {\"outlinewidth\": 0, \"ticks\": \"\"}, \"type\": \"choropleth\"}], \"contour\": [{\"colorbar\": {\"outlinewidth\": 0, \"ticks\": \"\"}, \"colorscale\": [[0.0, \"#0d0887\"], [0.1111111111111111, \"#46039f\"], [0.2222222222222222, \"#7201a8\"], [0.3333333333333333, \"#9c179e\"], [0.4444444444444444, \"#bd3786\"], [0.5555555555555556, \"#d8576b\"], [0.6666666666666666, \"#ed7953\"], [0.7777777777777778, \"#fb9f3a\"], [0.8888888888888888, \"#fdca26\"], [1.0, \"#f0f921\"]], \"type\": \"contour\"}], \"contourcarpet\": [{\"colorbar\": {\"outlinewidth\": 0, \"ticks\": \"\"}, \"type\": \"contourcarpet\"}], \"heatmap\": [{\"colorbar\": {\"outlinewidth\": 0, \"ticks\": \"\"}, \"colorscale\": [[0.0, \"#0d0887\"], [0.1111111111111111, \"#46039f\"], [0.2222222222222222, \"#7201a8\"], [0.3333333333333333, \"#9c179e\"], [0.4444444444444444, \"#bd3786\"], [0.5555555555555556, \"#d8576b\"], [0.6666666666666666, \"#ed7953\"], [0.7777777777777778, \"#fb9f3a\"], [0.8888888888888888, \"#fdca26\"], [1.0, \"#f0f921\"]], \"type\": \"heatmap\"}], \"heatmapgl\": [{\"colorbar\": {\"outlinewidth\": 0, \"ticks\": \"\"}, \"colorscale\": [[0.0, \"#0d0887\"], [0.1111111111111111, \"#46039f\"], [0.2222222222222222, \"#7201a8\"], [0.3333333333333333, \"#9c179e\"], [0.4444444444444444, \"#bd3786\"], [0.5555555555555556, \"#d8576b\"], [0.6666666666666666, \"#ed7953\"], [0.7777777777777778, \"#fb9f3a\"], [0.8888888888888888, \"#fdca26\"], [1.0, \"#f0f921\"]], \"type\": \"heatmapgl\"}], \"histogram\": [{\"marker\": {\"colorbar\": {\"outlinewidth\": 0, \"ticks\": \"\"}}, \"type\": \"histogram\"}], \"histogram2d\": [{\"colorbar\": {\"outlinewidth\": 0, \"ticks\": \"\"}, \"colorscale\": [[0.0, \"#0d0887\"], [0.1111111111111111, \"#46039f\"], [0.2222222222222222, \"#7201a8\"], [0.3333333333333333, \"#9c179e\"], [0.4444444444444444, \"#bd3786\"], [0.5555555555555556, \"#d8576b\"], [0.6666666666666666, \"#ed7953\"], [0.7777777777777778, \"#fb9f3a\"], [0.8888888888888888, \"#fdca26\"], [1.0, \"#f0f921\"]], \"type\": \"histogram2d\"}], \"histogram2dcontour\": [{\"colorbar\": {\"outlinewidth\": 0, \"ticks\": \"\"}, \"colorscale\": [[0.0, \"#0d0887\"], [0.1111111111111111, \"#46039f\"], [0.2222222222222222, \"#7201a8\"], [0.3333333333333333, \"#9c179e\"], [0.4444444444444444, \"#bd3786\"], [0.5555555555555556, \"#d8576b\"], [0.6666666666666666, \"#ed7953\"], [0.7777777777777778, \"#fb9f3a\"], [0.8888888888888888, \"#fdca26\"], [1.0, \"#f0f921\"]], \"type\": \"histogram2dcontour\"}], \"mesh3d\": [{\"colorbar\": {\"outlinewidth\": 0, \"ticks\": \"\"}, \"type\": \"mesh3d\"}], \"parcoords\": [{\"line\": {\"colorbar\": {\"outlinewidth\": 0, \"ticks\": \"\"}}, \"type\": \"parcoords\"}], \"pie\": [{\"automargin\": true, \"type\": \"pie\"}], \"scatter\": [{\"marker\": {\"colorbar\": {\"outlinewidth\": 0, \"ticks\": \"\"}}, \"type\": \"scatter\"}], \"scatter3d\": [{\"line\": {\"colorbar\": {\"outlinewidth\": 0, \"ticks\": \"\"}}, \"marker\": {\"colorbar\": {\"outlinewidth\": 0, \"ticks\": \"\"}}, \"type\": \"scatter3d\"}], \"scattercarpet\": [{\"marker\": {\"colorbar\": {\"outlinewidth\": 0, \"ticks\": \"\"}}, \"type\": \"scattercarpet\"}], \"scattergeo\": [{\"marker\": {\"colorbar\": {\"outlinewidth\": 0, \"ticks\": \"\"}}, \"type\": \"scattergeo\"}], \"scattergl\": [{\"marker\": {\"colorbar\": {\"outlinewidth\": 0, \"ticks\": \"\"}}, \"type\": \"scattergl\"}], \"scattermapbox\": [{\"marker\": {\"colorbar\": {\"outlinewidth\": 0, \"ticks\": \"\"}}, \"type\": \"scattermapbox\"}], \"scatterpolar\": [{\"marker\": {\"colorbar\": {\"outlinewidth\": 0, \"ticks\": \"\"}}, \"type\": \"scatterpolar\"}], \"scatterpolargl\": [{\"marker\": {\"colorbar\": {\"outlinewidth\": 0, \"ticks\": \"\"}}, \"type\": \"scatterpolargl\"}], \"scatterternary\": [{\"marker\": {\"colorbar\": {\"outlinewidth\": 0, \"ticks\": \"\"}}, \"type\": \"scatterternary\"}], \"surface\": [{\"colorbar\": {\"outlinewidth\": 0, \"ticks\": \"\"}, \"colorscale\": [[0.0, \"#0d0887\"], [0.1111111111111111, \"#46039f\"], [0.2222222222222222, \"#7201a8\"], [0.3333333333333333, \"#9c179e\"], [0.4444444444444444, \"#bd3786\"], [0.5555555555555556, \"#d8576b\"], [0.6666666666666666, \"#ed7953\"], [0.7777777777777778, \"#fb9f3a\"], [0.8888888888888888, \"#fdca26\"], [1.0, \"#f0f921\"]], \"type\": \"surface\"}], \"table\": [{\"cells\": {\"fill\": {\"color\": \"#EBF0F8\"}, \"line\": {\"color\": \"white\"}}, \"header\": {\"fill\": {\"color\": \"#C8D4E3\"}, \"line\": {\"color\": \"white\"}}, \"type\": \"table\"}]}, \"layout\": {\"annotationdefaults\": {\"arrowcolor\": \"#2a3f5f\", \"arrowhead\": 0, \"arrowwidth\": 1}, \"coloraxis\": {\"colorbar\": {\"outlinewidth\": 0, \"ticks\": \"\"}}, \"colorscale\": {\"diverging\": [[0, \"#8e0152\"], [0.1, \"#c51b7d\"], [0.2, \"#de77ae\"], [0.3, \"#f1b6da\"], [0.4, \"#fde0ef\"], [0.5, \"#f7f7f7\"], [0.6, \"#e6f5d0\"], [0.7, \"#b8e186\"], [0.8, \"#7fbc41\"], [0.9, \"#4d9221\"], [1, \"#276419\"]], \"sequential\": [[0.0, \"#0d0887\"], [0.1111111111111111, \"#46039f\"], [0.2222222222222222, \"#7201a8\"], [0.3333333333333333, \"#9c179e\"], [0.4444444444444444, \"#bd3786\"], [0.5555555555555556, \"#d8576b\"], [0.6666666666666666, \"#ed7953\"], [0.7777777777777778, \"#fb9f3a\"], [0.8888888888888888, \"#fdca26\"], [1.0, \"#f0f921\"]], \"sequentialminus\": [[0.0, \"#0d0887\"], [0.1111111111111111, \"#46039f\"], [0.2222222222222222, \"#7201a8\"], [0.3333333333333333, \"#9c179e\"], [0.4444444444444444, \"#bd3786\"], [0.5555555555555556, \"#d8576b\"], [0.6666666666666666, \"#ed7953\"], [0.7777777777777778, \"#fb9f3a\"], [0.8888888888888888, \"#fdca26\"], [1.0, \"#f0f921\"]]}, \"colorway\": [\"#636efa\", \"#EF553B\", \"#00cc96\", \"#ab63fa\", \"#FFA15A\", \"#19d3f3\", \"#FF6692\", \"#B6E880\", \"#FF97FF\", \"#FECB52\"], \"font\": {\"color\": \"#2a3f5f\"}, \"geo\": {\"bgcolor\": \"white\", \"lakecolor\": \"white\", \"landcolor\": \"#E5ECF6\", \"showlakes\": true, \"showland\": true, \"subunitcolor\": \"white\"}, \"hoverlabel\": {\"align\": \"left\"}, \"hovermode\": \"closest\", \"mapbox\": {\"style\": \"light\"}, \"paper_bgcolor\": \"white\", \"plot_bgcolor\": \"#E5ECF6\", \"polar\": {\"angularaxis\": {\"gridcolor\": \"white\", \"linecolor\": \"white\", \"ticks\": \"\"}, \"bgcolor\": \"#E5ECF6\", \"radialaxis\": {\"gridcolor\": \"white\", \"linecolor\": \"white\", \"ticks\": \"\"}}, \"scene\": {\"xaxis\": {\"backgroundcolor\": \"#E5ECF6\", \"gridcolor\": \"white\", \"gridwidth\": 2, \"linecolor\": \"white\", \"showbackground\": true, \"ticks\": \"\", \"zerolinecolor\": \"white\"}, \"yaxis\": {\"backgroundcolor\": \"#E5ECF6\", \"gridcolor\": \"white\", \"gridwidth\": 2, \"linecolor\": \"white\", \"showbackground\": true, \"ticks\": \"\", \"zerolinecolor\": \"white\"}, \"zaxis\": {\"backgroundcolor\": \"#E5ECF6\", \"gridcolor\": \"white\", \"gridwidth\": 2, \"linecolor\": \"white\", \"showbackground\": true, \"ticks\": \"\", \"zerolinecolor\": \"white\"}}, \"shapedefaults\": {\"line\": {\"color\": \"#2a3f5f\"}}, \"ternary\": {\"aaxis\": {\"gridcolor\": \"white\", \"linecolor\": \"white\", \"ticks\": \"\"}, \"baxis\": {\"gridcolor\": \"white\", \"linecolor\": \"white\", \"ticks\": \"\"}, \"bgcolor\": \"#E5ECF6\", \"caxis\": {\"gridcolor\": \"white\", \"linecolor\": \"white\", \"ticks\": \"\"}}, \"title\": {\"x\": 0.05}, \"xaxis\": {\"automargin\": true, \"gridcolor\": \"white\", \"linecolor\": \"white\", \"ticks\": \"\", \"title\": {\"standoff\": 15}, \"zerolinecolor\": \"white\", \"zerolinewidth\": 2}, \"yaxis\": {\"automargin\": true, \"gridcolor\": \"white\", \"linecolor\": \"white\", \"ticks\": \"\", \"title\": {\"standoff\": 15}, \"zerolinecolor\": \"white\", \"zerolinewidth\": 2}}}, \"updatemenus\": [{\"buttons\": [{\"args\": [null, {\"frame\": {\"duration\": 500, \"redraw\": false}, \"fromcurrent\": true, \"mode\": \"immediate\", \"transition\": {\"duration\": 500, \"easing\": \"linear\"}}], \"label\": \"&#9654;\", \"method\": \"animate\"}, {\"args\": [[null], {\"frame\": {\"duration\": 0, \"redraw\": false}, \"fromcurrent\": true, \"mode\": \"immediate\", \"transition\": {\"duration\": 0, \"easing\": \"linear\"}}], \"label\": \"&#9724;\", \"method\": \"animate\"}], \"direction\": \"left\", \"pad\": {\"r\": 10, \"t\": 70}, \"showactive\": false, \"type\": \"buttons\", \"x\": 0.1, \"xanchor\": \"right\", \"y\": 0, \"yanchor\": \"top\"}], \"xaxis\": {\"anchor\": \"y\", \"domain\": [0.0, 1.0], \"range\": [-1, 100], \"title\": {\"text\": \"Age\"}}, \"yaxis\": {\"anchor\": \"x\", \"domain\": [0.0, 1.0], \"range\": [0, 1], \"title\": {\"text\": \"%Homochirality\"}}},\n",
              "                        {\"responsive\": true}\n",
              "                    ).then(function(){\n",
              "                            Plotly.addFrames('4b614326-4d73-4653-b38a-db66ab71d679', [{\"data\": [{\"hoverlabel\": {\"namelength\": 0}, \"hovertemplate\": \"<b>%{hovertext}</b><br><br>Length=1<br>Age=%{x}<br>%Homochirality=%{y}\", \"hovertext\": [null, null, null, null, null, null, null, null, null, null, null, null, null, null, null, null, null, null, null, null, null, null, null, null, null, null, null, null, null, null, null, null, null, null, null, null, null, null, null, null, null, null, null, null, null, null, null, null, null, null, null, null, null, null, null, null, null, null, null, null, null, null, null, null, null, null, null, null, null, null, null, null, null, null, null, null, null, null, null, null, null, null, null, null, null, null, null, null, null, null, null, null, null, null, null, null, null, null, null, null, null, null, null, null, null, null, null, null, null, null, null, null, null, null, null, null, null, null, null, null, null, null, null, null, null, null, null, null, null, null, null, null, null, null, null, null, null, null, null, null, null, null, null, null, null, null, null, null, null, null, null, null, null, null, null, null, null, null, null, null, null, null, null, null, null, null, null, null, null, null, null, null, null, null, null, null, null, null, null, null, null, null, null, null, null, null, null, null, null, null, null, null, null, null, null, null, null, null, null, null, null, null, null, null, null, null, null, null, null, null, null, null, null, null, null, null, null, null, null, null, null, null, null, null, null, null, null, null, null, null, null, null, null, null, null, null, null, null, null, null, null, null, null, null, null, null, null, null, null, null, null, null, null, null, null, null, null, null, null, null, null, null, null, null, null, null, null, null, null, null, null, null, null, null, null, null, null, null, null, null, null, null, null, null, null, null, null, null, null, null, null, null, null, null, null, null, null, null, null, null, null, null, null, null, null, null, null, null, null, null, null, null, null, null, null, null, null, null, null, null, null, null, null, null, null, null, null, null, null, null, null, null, null, null, null, null, null, null, null, null, null, null, null, null, null, null, null, null, null, null, null, null, null, null, null, null, null, null, null, null, null, null, null, null, null, null, null, null, null, null, null, null, null, null, null, null, null, null, null, null, null, null, null, null, null, null, null, null, null, null, null, null, null, null, null, null, null, null, null, null, null, null, null, null, null, null, null, null, null, null, null, null, null, null, null, null, null, null, null, null, null, null, null, null, null, null, null, null, null, null, null, null, null, null, null, null, null, null, null, null, null, null, null, null, null, null, null, null, null, null, null, null, null, null, null, null, null, null, null, null, null, null, null, null, null, null, null, null, null, null, null, null, null, null, null, null, null, null, null, null, null, null, null, null, null, null, null, null, null, null, null, null, null, null, null, null, null, null, null, null, null, null, null, null, null, null, null, null, null, null, null, null, null, null, null, null, null, null, null, null, null, null, null, null, null, null, null, null, null, null, null, null, null, null, null, null, null, null, null, null, null, null, null, null, null, null, null, null, null, null, null, null, null, null, null, null, null, null, null, null, null, null, null, null, null, null, null, null, null, null, null, null, null, null, null, null, null, null, null, null, null, null, null, null, null, null, null, null, null, null, null, null, null, null, null, null, null, null, null, null, null, null, null, null, null, null, null, null, null, null, null, null, null, null, null, null, null, null, null, null, null, null, null, null, null, null, null, null, null, null, null, null, null, null, null, null, null, null, null, null, null, null, null, null, null, null, null, null, null, null, null, null, null, null, null, null, null, null, null, null, null, null, null, null, null, null, null, null, null, null, null, null, null, null, null, null, null, null, null, null, null, null, null, null, null, null, null, null, null, null, null, null, null, null, null, null, null, null, null, null, null, null, null, null, null, null, null, null, null, null, null, null, null, null, null, null, null, null, null, null, null, null, null, null, null, null, null, null, null, null, null, null, null, null, null, null, null, null, null, null, null, null, null, null, null, null, null, null, null, null, null, null, null, null, null, null, null, null, null, null, null, null, null, null, null, null, null, null, null, null, null, null, null, null, null, null, null, null, null, null, null, null, null, null, null, null, null, null, null, null, null, null, null, null, null, null, null, null, null, null, null, null, null, null, null, null, null, null, null, null, null, null, null, null, null, null, null, null, null, null, null, null, null, null, null, null, null, null, null, null, null, null, null, null, null, null, null, null, null, null, null, null, null, null, null, null, null, null, null, null, null, null, null, null, null, null, null, null, null, null, null, null, null, null, null, null, null, null, null, null, null, null, null, null, null, null, null, null, null, null, null, null, null, null, null, null, null, null, null, null, null, null, null, null, null, null, null, null, null, null, null, null, null, null, null, null, null, null, null, null, null, null, null, null, null, null, null, null, null, null, null, null, null, null, null, null, null, null, null, null, null, null, null, null, null, null, null, null, null, null, null, null, null, null, null, null, null, null, null, null, null, null, null, null, null, null, null, null, null, null, null, null, null, null, null, null, null, null, null, null, null, null, null, null, null, null, null, null, null, null, null, null, null, null, null, null, null, null, null, null, null, null, null, null, null, null, null, null, null, null, null, null, null, null, null, null, null, null, null, null, null, null, null, null, null, null, null, null, null, null, null, null, null, null, null, null, null, null, null, null, null, null, null, null, null, null, null, null, null, null, null, null, null, null, null, null, null, null, null, null, null, null, null, null, null, null, null, null, null, null, null, null, null, null, null, null, null, null, null, null, null, null, null, null, null, null, null, null, null, null, null, null, null, null, null, null, null, null, null, null, null, null, null, null, null, null, null, null, null, null, null, null, null, null, null, null, null, null, null, null, null, null, null, null, null, null, null, null, null, null, null, null, null, null, null, null, null, null, null, null, null, null, null, null, null, null, null, null, null, null, null, null, null, null, null, null, null, null, null, null, null, null, null, null, null, null, null, null, null, null, null, null, null, null, null, null, null, null, null, null, null, null, null, null, null, null, null, null, null, null, null, null, null, null, null, null, null, null, null, null, null, null, null, null, null, null, null, null, null, null, null, null, null, null, null, null, null, null, null, null, null, null, null, null, null, null, null, null, null, null, null, null, null, null, null, null, null, null, null, null, null, null, null, null, null, null, null, null, null, null, null, null, null, null, null, null, null, null, null, null, null, null, null, null, null, null, null, null, null, null, null, null, null, null, null, null, null, null, null, null, null, null, null, null, null, null, null, null, null, null, null, null, null, null, null, null, null, null, null, null, null, null, null, null, null, null, null, null, null, null, null, null, null, null, null, null, null, null, null, null, null, null, null, null, null, null, null, null, null, null, null, null, null, null, null, null, null, null, null, null, null, null, null, null, null, null, null, null, null, null, null, null, null, null, null, null, null, null, null, null, null, null, null, null, null, null, null, null, null, null, null, null, null, null, null, null, null, null, null, null, null, null, null, null, null, null, null, null, null, null, null, null, null, null, null, null, null, null, null, null, null, null, null, null, null, null, null, null, null, null, null, null, null, null, null, null, null, null, null, null, null, null, null, null, null, null, null, null, null, null, null, null, null, null, null, null, null, null, null, null, null, null, null, null, null, null, null, null, null, null, null, null, null, null, null, null, null, null, null, null, null, null, null, null, null, null, null, null, null, null, null, null, null, null, null, null, null, null, null, null, null, null, null, null, null, null, null, null, null, null, null, null, null, null, null, null, null, null, null, null, null, null, null, null, null, null, null, null, null, null, null, null, null, null, null, null, null, null, null, null, null, null, null, null, null, null, null, null, null, null, null, null, null, null, null, null, null, null, null, null, null, null, null, null, null, null, null, null, null, null, null, null, null, null, null, null, null, null, null, null, null, null, null, null, null, null, null, null, null, null, null, null, null, null, null, null, null, null, null, null, null, null, null, null, null, null, null, null, null, null, null, null, null, null, null, null, null, null, null, null, null, null, null, null, null, null, null, null, null, null, null, null, null, null, null, null, null, null, null, null, null, null, null, null, null, null, null, null, null, null, null, null, null, null, null, null, null, null, null, null, null, null, null, null, null, null, null, null, null, null, null, null, null, null, null, null, null, null, null, null, null, null, null, null, null, null, null, null, null, null, null, null, null, null, null, null, null, null, null, null, null, null, null, null, null, null, null, null, null, null, null, null, null, null, null, null, null, null, null, null, null, null, null, null, null, null, null, null, null, null, null, null, null, null, null, null, null, null, null, null, null, null, null, null, null, null, null, null, null, null, null, null, null, null, null, null, null, null, null, null, null, null, null, null, null, null, null, null, null, null, null, null, null, null, null, null, null, null, null, null, null, null, null, null, null, null, null, null, null, null, null, null, null, null, null, null, null, null, null, null, null, null, null, null, null, null, null, null, null, null, null, null, null, null, null, null, null, null, null, null, null, null, null, null, null, null, null, null, null, null, null, null, null, null, null, null, null, null, null, null, null, null, null, null, null, null, null, null, null, null, null, null, null, null, null, null, null, null, null, null, null, null, null, null, null, null, null, null, null, null, null, null, null, null, null, null, null, null, null, null, null, null, null, null, null, null, null, null, null, null, null, null, null, null, null, null, null, null, null, null, null, null, null, null, null, null, null, null, null, null, null, null, null, null, null, null, null, null, null, null, null, null, null, null, null, null, null, null, null, null, null, null, null, null, null, null, null, null, null, null, null, null, null, null, null, null, null, null, null, null, null, null, null, null, null, null, null, null, null, null, null, null, null, null, null, null, null, null, null, null, null, null, null, null, null, null, null, null, null, null, null, null, null, null, null, null, null, null, null, null, null, null, null, null, null, null, null, null, null, null, null, null, null, null, null, null, null, null, null, null, null, null, null, null, null, null, null, null, null, null, null, null, null, null, null, null, null, null, null, null, null, null, null, null, null, null, null, null, null, null, null, null, null, null, null, null, null, null, null, null, null, null, null, null, null, null, null, null, null, null, null, null, null, null, null, null, null, null, null, null, null, null, null, null, null, null, null, null, null, null, null, null, null, null, null, null, null, null, null, null, null, null, null, null, null, null, null, null, null, null, null, null, null, null, null, null, null, null, null, null, null, null, null, null, null, null, null, null, null, null, null, null, null, null, null, null, null, null, null, null, null, null, null, null, null, null, null, null, null, null, null, null, null, null, null, null, null, null, null, null, null, null, null, null, null, null, null, null, null, null, null, null, null, null, null, null, null, null, null, null, null, null, null, null, null, null, null, null, null, null, null, null, null, null, null, null, null, null, null, null, null, null, null, null, null, null, null, null, null, null, null, null, null, null, null, null, null, null, null, null, null, null, null, null, null, null, null, null, null, null, null, null, null, null, null, null, null, null, null, null, null, null, null, null, null, null, null, null, null, null, null, null, null, null, null, null, null, null, null, null, null, null, null, null, null, null, null, null, null, null, null, null, null, null, null, null, null, null, null, null, null, null, null, null, null, null, null, null, null, null, null, null, null, null, null, null, null, null, null, null, null, null, null, null, null, null, null, null, null, null, null, null, null, null, null, null, null, null, null, null, null, null, null, null, null, null, null, null, null, null, null, null, null, null, null, null, null, null, null, null, null, null, null, null, null, null, null, null, null, null, null, null, null, null, null, null, null, null, null, null, null, null, null, null, null, null, null, null, null, null, null, null, null, null, null, null, null, null, null, null, null, null, null, null, null, null, null, null, null, null, null, null, null, null, null, null, null, null, null, null, null, null, null, null, null, null, null, null, null, null, null, null, null, null, null, null, null, null, null, null, null, null, null, null, null, null, null, null, null, null, null, null, null, null, null, null, null, null, null, null, null, null, null, null, null, null, null, null, null, null, null, null, null, null, null, null, null, null, null, null, null, null, null, null, null, null, null, null, null, null, null, null, null, null, null, null, null, null, null, null, null, null, null, null, null, null, null, null, null, null, null, null, null, null, null, null, null, null, null, null, null, null, null, null], \"legendgroup\": \"\", \"marker\": {\"color\": \"#636efa\", \"symbol\": \"circle\"}, \"mode\": \"markers\", \"name\": \"\", \"showlegend\": false, \"x\": [0, 0, 0, 0, 0, 0, 0, 0, 0, 0, 0, 0, 0, 0, 0, 0, 0, 0, 0, 0, 0, 0, 0, 0, 0, 0, 0, 0, 0, 0, 0, 0, 0, 0, 0, 0, 0, 0, 0, 0, 0, 0, 0, 0, 0, 0, 0, 0, 0, 0, 0, 0, 0, 0, 0, 0, 0, 0, 0, 0, 0, 0, 0, 0, 0, 0, 0, 0, 0, 0, 0, 0, 0, 0, 0, 0, 0, 0, 0, 0, 0, 0, 0, 0, 0, 0, 0, 0, 0, 0, 0, 0, 0, 0, 0, 0, 0, 0, 0, 0, 0, 0, 0, 0, 0, 0, 0, 0, 0, 0, 0, 0, 0, 0, 0, 0, 0, 0, 0, 0, 0, 0, 0, 0, 0, 0, 0, 0, 0, 0, 0, 0, 0, 0, 0, 0, 0, 0, 0, 0, 0, 0, 0, 0, 0, 0, 0, 0, 0, 0, 0, 0, 0, 0, 0, 0, 0, 0, 0, 0, 0, 0, 0, 0, 0, 0, 0, 0, 0, 0, 0, 0, 0, 0, 0, 0, 0, 0, 0, 0, 0, 0, 0, 0, 0, 0, 0, 0, 0, 0, 0, 0, 0, 0, 0, 0, 0, 0, 0, 0, 0, 0, 0, 0, 0, 0, 0, 0, 0, 0, 0, 0, 0, 0, 0, 0, 0, 0, 0, 0, 0, 0, 0, 0, 0, 0, 0, 0, 0, 0, 0, 0, 0, 0, 0, 0, 0, 0, 0, 0, 0, 0, 0, 0, 0, 0, 0, 0, 0, 0, 0, 0, 0, 0, 0, 0, 0, 0, 0, 0, 0, 0, 0, 0, 0, 0, 0, 0, 0, 0, 0, 0, 0, 0, 0, 0, 0, 0, 0, 0, 0, 0, 0, 0, 0, 0, 0, 0, 0, 0, 0, 0, 0, 0, 0, 0, 0, 0, 0, 0, 0, 0, 0, 0, 0, 0, 0, 0, 0, 0, 0, 0, 0, 0, 0, 0, 0, 0, 0, 0, 0, 0, 0, 0, 0, 0, 0, 0, 0, 0, 0, 0, 0, 0, 0, 0, 0, 0, 0, 0, 0, 0, 0, 0, 0, 0, 0, 0, 0, 0, 0, 0, 0, 0, 0, 0, 0, 0, 0, 0, 0, 0, 0, 0, 0, 0, 0, 0, 0, 0, 0, 0, 0, 0, 0, 0, 0, 0, 0, 0, 0, 0, 0, 0, 0, 0, 0, 0, 0, 0, 0, 0, 0, 0, 0, 0, 0, 0, 0, 0, 0, 0, 0, 0, 0, 0, 0, 0, 0, 0, 0, 0, 0, 0, 0, 0, 0, 0, 0, 0, 0, 0, 0, 0, 0, 0, 0, 0, 0, 0, 0, 0, 0, 0, 0, 0, 0, 0, 0, 0, 0, 0, 0, 0, 0, 0, 0, 0, 0, 0, 0, 0, 0, 0, 0, 0, 0, 0, 0, 0, 0, 0, 0, 0, 0, 0, 0, 0, 0, 0, 0, 0, 0, 0, 0, 0, 0, 0, 0, 0, 0, 0, 0, 0, 0, 0, 0, 0, 0, 0, 0, 0, 0, 0, 0, 0, 0, 0, 0, 0, 0, 0, 0, 0, 1, 1, 1, 1, 1, 1, 1, 1, 1, 1, 1, 1, 1, 1, 1, 1, 1, 1, 1, 1, 1, 1, 1, 1, 1, 1, 1, 1, 1, 1, 1, 1, 1, 1, 1, 1, 1, 1, 1, 1, 1, 1, 1, 1, 1, 1, 1, 1, 1, 1, 1, 1, 1, 1, 1, 1, 1, 1, 1, 1, 1, 1, 1, 1, 1, 1, 1, 1, 1, 1, 1, 1, 1, 1, 1, 1, 1, 1, 1, 1, 1, 1, 1, 1, 1, 1, 1, 1, 1, 1, 1, 1, 1, 1, 1, 1, 1, 1, 1, 1, 1, 1, 1, 1, 1, 1, 1, 1, 1, 1, 1, 1, 1, 1, 1, 1, 1, 1, 1, 1, 1, 1, 1, 1, 1, 1, 1, 1, 1, 1, 1, 1, 1, 1, 1, 1, 1, 1, 1, 1, 1, 1, 1, 1, 1, 1, 1, 1, 1, 1, 1, 1, 1, 1, 1, 1, 1, 1, 1, 1, 1, 1, 1, 1, 1, 1, 1, 1, 1, 1, 1, 1, 1, 1, 1, 1, 1, 1, 1, 1, 1, 1, 1, 1, 1, 1, 1, 1, 1, 1, 1, 1, 1, 1, 1, 1, 1, 1, 1, 1, 1, 1, 1, 1, 1, 1, 1, 1, 1, 1, 1, 1, 1, 1, 1, 1, 1, 1, 1, 1, 1, 1, 1, 1, 1, 1, 1, 1, 1, 1, 1, 1, 1, 1, 1, 1, 1, 1, 1, 1, 1, 1, 1, 1, 1, 1, 1, 1, 1, 1, 1, 1, 1, 1, 1, 1, 1, 1, 1, 1, 1, 1, 1, 1, 1, 1, 1, 1, 1, 1, 1, 1, 1, 1, 1, 1, 1, 1, 1, 1, 1, 1, 1, 1, 1, 1, 1, 1, 1, 1, 1, 1, 1, 1, 1, 1, 1, 1, 1, 1, 1, 1, 1, 1, 1, 1, 1, 1, 1, 1, 1, 1, 1, 1, 1, 1, 1, 1, 1, 1, 1, 1, 1, 1, 1, 1, 1, 1, 1, 1, 1, 1, 1, 1, 1, 1, 1, 1, 1, 1, 1, 1, 1, 1, 1, 1, 1, 1, 1, 1, 1, 1, 1, 1, 1, 1, 1, 1, 1, 1, 1, 1, 1, 1, 1, 1, 1, 1, 1, 1, 1, 1, 1, 1, 1, 1, 1, 1, 1, 1, 1, 1, 1, 1, 1, 1, 2, 2, 2, 2, 2, 2, 2, 2, 2, 2, 2, 2, 2, 2, 2, 2, 2, 2, 2, 2, 2, 2, 2, 2, 2, 2, 2, 2, 2, 2, 2, 2, 2, 2, 2, 2, 2, 2, 2, 2, 2, 2, 2, 2, 2, 2, 2, 2, 2, 2, 2, 2, 2, 2, 2, 2, 2, 2, 2, 2, 2, 2, 2, 2, 2, 2, 2, 2, 2, 2, 2, 2, 2, 2, 2, 2, 2, 2, 2, 2, 2, 2, 2, 2, 2, 2, 2, 2, 2, 2, 2, 2, 2, 2, 2, 2, 2, 2, 2, 2, 2, 2, 2, 2, 2, 2, 2, 2, 2, 2, 2, 2, 2, 2, 2, 2, 2, 2, 2, 2, 2, 2, 2, 2, 2, 2, 2, 2, 2, 2, 2, 2, 2, 2, 2, 2, 2, 2, 2, 2, 2, 2, 2, 2, 2, 2, 2, 2, 2, 2, 2, 2, 2, 2, 2, 2, 2, 2, 2, 2, 2, 2, 2, 2, 2, 2, 2, 2, 2, 2, 2, 2, 2, 2, 2, 2, 2, 2, 2, 2, 2, 2, 2, 2, 2, 2, 2, 2, 2, 2, 2, 2, 2, 2, 2, 2, 2, 2, 2, 2, 2, 2, 2, 2, 2, 2, 2, 2, 2, 2, 2, 2, 2, 2, 2, 2, 2, 2, 2, 2, 2, 2, 2, 2, 2, 2, 2, 2, 2, 2, 2, 2, 2, 2, 2, 2, 2, 2, 2, 2, 2, 2, 2, 2, 2, 2, 2, 2, 2, 2, 2, 2, 2, 2, 2, 2, 2, 2, 2, 2, 2, 2, 2, 2, 2, 2, 2, 2, 2, 2, 2, 2, 2, 2, 2, 2, 2, 2, 2, 2, 2, 3, 3, 3, 3, 3, 3, 3, 3, 3, 3, 3, 3, 3, 3, 3, 3, 3, 3, 3, 3, 3, 3, 3, 3, 3, 3, 3, 3, 3, 3, 3, 3, 3, 3, 3, 3, 3, 3, 3, 3, 3, 3, 3, 3, 3, 3, 3, 3, 3, 3, 3, 3, 3, 3, 3, 3, 3, 3, 3, 3, 3, 3, 3, 3, 3, 3, 3, 3, 3, 3, 3, 3, 3, 3, 3, 3, 3, 3, 3, 3, 3, 3, 3, 3, 3, 3, 3, 3, 3, 3, 3, 3, 3, 3, 3, 3, 3, 3, 3, 3, 3, 3, 3, 3, 3, 3, 3, 3, 3, 3, 3, 3, 3, 3, 3, 3, 3, 3, 3, 3, 3, 3, 3, 3, 3, 3, 3, 3, 3, 3, 3, 3, 3, 3, 3, 3, 3, 3, 3, 3, 3, 3, 3, 3, 3, 3, 3, 3, 3, 3, 3, 3, 3, 3, 3, 3, 3, 3, 3, 3, 3, 3, 3, 3, 3, 3, 3, 3, 3, 3, 3, 3, 3, 3, 3, 3, 3, 3, 3, 3, 3, 3, 3, 3, 3, 3, 3, 3, 3, 3, 3, 3, 3, 3, 3, 3, 3, 3, 3, 3, 3, 3, 3, 3, 3, 3, 3, 3, 3, 3, 3, 3, 3, 3, 3, 3, 3, 3, 3, 3, 3, 3, 3, 3, 3, 3, 3, 3, 3, 3, 4, 4, 4, 4, 4, 4, 4, 4, 4, 4, 4, 4, 4, 4, 4, 4, 4, 4, 4, 4, 4, 4, 4, 4, 4, 4, 4, 4, 4, 4, 4, 4, 4, 4, 4, 4, 4, 4, 4, 4, 4, 4, 4, 4, 4, 4, 4, 4, 4, 4, 4, 4, 4, 4, 4, 4, 4, 4, 4, 4, 4, 4, 4, 4, 4, 4, 4, 4, 4, 4, 4, 4, 4, 4, 4, 4, 4, 4, 4, 4, 4, 4, 4, 4, 4, 4, 4, 4, 4, 4, 4, 4, 4, 4, 4, 4, 4, 4, 4, 4, 4, 4, 4, 4, 4, 4, 4, 4, 4, 4, 4, 4, 4, 4, 4, 4, 4, 4, 4, 4, 4, 4, 4, 4, 4, 4, 4, 4, 4, 4, 4, 4, 4, 4, 4, 4, 4, 4, 4, 4, 4, 4, 4, 4, 4, 4, 4, 4, 4, 4, 4, 4, 4, 4, 4, 4, 4, 4, 4, 4, 4, 4, 4, 4, 4, 4, 4, 4, 4, 4, 4, 4, 4, 4, 4, 4, 4, 4, 4, 4, 4, 4, 4, 4, 4, 4, 4, 4, 4, 5, 5, 5, 5, 5, 5, 5, 5, 5, 5, 5, 5, 5, 5, 5, 5, 5, 5, 5, 5, 5, 5, 5, 5, 5, 5, 5, 5, 5, 5, 5, 5, 5, 5, 5, 5, 5, 5, 5, 5, 5, 5, 5, 5, 5, 5, 5, 5, 5, 5, 5, 5, 5, 5, 5, 5, 5, 5, 5, 5, 5, 5, 5, 5, 5, 5, 5, 5, 5, 5, 5, 5, 5, 5, 5, 5, 5, 5, 5, 5, 5, 5, 5, 5, 5, 5, 5, 5, 5, 5, 5, 5, 5, 5, 5, 5, 5, 5, 5, 5, 5, 5, 5, 5, 5, 5, 5, 5, 5, 5, 5, 5, 5, 5, 5, 5, 5, 5, 5, 5, 5, 5, 5, 5, 5, 5, 5, 5, 5, 5, 5, 5, 5, 5, 5, 5, 5, 5, 5, 5, 6, 6, 6, 6, 6, 6, 6, 6, 6, 6, 6, 6, 6, 6, 6, 6, 6, 6, 6, 6, 6, 6, 6, 6, 6, 6, 6, 6, 6, 6, 6, 6, 6, 6, 6, 6, 6, 6, 6, 6, 6, 6, 6, 6, 6, 6, 6, 6, 6, 6, 6, 6, 6, 6, 6, 6, 6, 6, 6, 6, 6, 6, 6, 6, 6, 6, 6, 6, 6, 6, 6, 6, 6, 6, 6, 6, 6, 6, 6, 6, 6, 6, 6, 6, 6, 6, 6, 6, 6, 6, 6, 6, 6, 6, 6, 6, 6, 6, 6, 6, 6, 6, 6, 6, 6, 6, 6, 6, 6, 6, 6, 7, 7, 7, 7, 7, 7, 7, 7, 7, 7, 7, 7, 7, 7, 7, 7, 7, 7, 7, 7, 7, 7, 7, 7, 7, 7, 7, 7, 7, 7, 7, 7, 7, 7, 7, 7, 7, 7, 7, 7, 7, 7, 7, 7, 7, 7, 7, 7, 7, 7, 7, 7, 7, 7, 7, 7, 7, 7, 7, 7, 7, 7, 7, 7, 7, 7, 7, 7, 7, 7, 7, 7, 7, 7, 7, 7, 7, 7, 7, 7, 7, 7, 7, 7, 7, 7, 7, 7, 7, 7, 7, 7, 7, 8, 8, 8, 8, 8, 8, 8, 8, 8, 8, 8, 8, 8, 8, 8, 8, 8, 8, 8, 8, 8, 8, 8, 8, 8, 8, 8, 8, 8, 8, 8, 8, 8, 8, 8, 8, 8, 8, 8, 8, 8, 8, 8, 8, 8, 8, 8, 8, 8, 8, 8, 8, 8, 8, 8, 8, 8, 8, 8, 8, 8, 8, 8, 8, 8, 8, 8, 8, 8, 8, 8, 8, 8, 8, 8, 8, 8, 8, 8, 8, 8, 8, 9, 9, 9, 9, 9, 9, 9, 9, 9, 9, 9, 9, 9, 9, 9, 9, 9, 9, 9, 9, 9, 9, 9, 9, 9, 9, 9, 9, 9, 9, 9, 9, 9, 9, 9, 9, 9, 9, 9, 9, 9, 9, 9, 9, 9, 9, 9, 9, 9, 9, 9, 9, 9, 9, 9, 9, 9, 9, 9, 9, 9, 9, 9, 9, 9, 9, 9, 9, 9, 9, 9, 9, 9, 9, 9, 9, 9, 10, 10, 10, 10, 10, 10, 10, 10, 10, 10, 10, 10, 10, 10, 10, 10, 10, 10, 10, 10, 10, 10, 10, 10, 10, 10, 10, 10, 10, 10, 10, 10, 10, 10, 10, 10, 10, 10, 10, 10, 10, 10, 10, 10, 10, 10, 10, 10, 10, 10, 10, 10, 10, 10, 10, 10, 10, 10, 10, 10, 10, 10, 10, 11, 11, 11, 11, 11, 11, 11, 11, 11, 11, 11, 11, 11, 11, 11, 11, 11, 11, 11, 11, 11, 11, 11, 11, 11, 11, 11, 11, 11, 11, 11, 11, 11, 11, 11, 11, 11, 11, 11, 11, 11, 11, 11, 11, 11, 11, 11, 11, 11, 11, 11, 11, 11, 11, 11, 11, 12, 12, 12, 12, 12, 12, 12, 12, 12, 12, 12, 12, 12, 12, 12, 12, 12, 12, 12, 12, 12, 12, 12, 12, 12, 12, 12, 12, 12, 12, 12, 12, 12, 12, 12, 12, 12, 12, 12, 12, 12, 12, 12, 12, 12, 12, 12, 13, 13, 13, 13, 13, 13, 13, 13, 13, 13, 13, 13, 13, 13, 13, 13, 13, 13, 13, 13, 13, 13, 13, 13, 13, 13, 13, 13, 13, 13, 13, 13, 14, 14, 14, 14, 14, 14, 14, 14, 14, 14, 14, 14, 14, 14, 14, 14, 14, 14, 14, 14, 14, 14, 14, 14, 14, 14, 14, 15, 15, 15, 15, 15, 15, 15, 15, 15, 15, 15, 15, 15, 15, 15, 15, 15, 15, 15, 16, 16, 16, 16, 16, 16, 16, 16, 16, 16, 16, 16, 16, 17, 17, 17, 17, 17, 17, 17, 17, 17, 17, 17, 17, 17, 18, 18, 18, 18, 18, 18, 18, 18, 18, 18, 18, 19, 19, 19, 19, 19, 19, 19, 19, 19, 19, 19, 19, 19, 20, 20, 20, 20, 20, 20, 20, 20, 20, 20, 20, 20, 20, 21, 21, 21, 21, 21, 21, 21, 21, 21, 21, 21, 21, 21, 22, 22, 22, 22, 22, 22, 22, 22, 22, 22, 23, 23, 23, 23, 23, 23, 24, 24, 24, 24, 24, 25, 25, 25, 26, 26, 27, 28, 29, 29, 29, 30, 30, 31, 32, 34, 34, 35, 35, 36, 36, 36, 37, 37, 38, 39, 40, 41, 42, 43, 44], \"xaxis\": \"x\", \"y\": [null, null, null, null, null, null, null, null, null, null, null, null, null, null, null, null, null, null, null, null, null, null, null, null, null, null, null, null, null, null, null, null, null, null, null, null, null, null, null, null, null, null, null, null, null, null, null, null, null, null, null, null, null, null, null, null, null, null, null, null, null, null, null, null, null, null, null, null, null, null, null, null, null, null, null, null, null, null, null, null, null, null, null, null, null, null, null, null, null, null, null, null, null, null, null, null, null, null, null, null, null, null, null, null, null, null, null, null, null, null, null, null, null, null, null, null, null, null, null, null, null, null, null, null, null, null, null, null, null, null, null, null, null, null, null, null, null, null, null, null, null, null, null, null, null, null, null, null, null, null, null, null, null, null, null, null, null, null, null, null, null, null, null, null, null, null, null, null, null, null, null, null, null, null, null, null, null, null, null, null, null, null, null, null, null, null, null, null, null, null, null, null, null, null, null, null, null, null, null, null, null, null, null, null, null, null, null, null, null, null, null, null, null, null, null, null, null, null, null, null, null, null, null, null, null, null, null, null, null, null, null, null, null, null, null, null, null, null, null, null, null, null, null, null, null, null, null, null, null, null, null, null, null, null, null, null, null, null, null, null, null, null, null, null, null, null, null, null, null, null, null, null, null, null, null, null, null, null, null, null, null, null, null, null, null, null, null, null, null, null, null, null, null, null, null, null, null, null, null, null, null, null, null, null, null, null, null, null, null, null, null, null, null, null, null, null, null, null, null, null, null, null, null, null, null, null, null, null, null, null, null, null, null, null, null, null, null, null, null, null, null, null, null, null, null, null, null, null, null, null, null, null, null, null, null, null, null, null, null, null, null, null, null, null, null, null, null, null, null, null, null, null, null, null, null, null, null, null, null, null, null, null, null, null, null, null, null, null, null, null, null, null, null, null, null, null, null, null, null, null, null, null, null, null, null, null, null, null, null, null, null, null, null, null, null, null, null, null, null, null, null, null, null, null, null, null, null, null, null, null, null, null, null, null, null, null, null, null, null, null, null, null, null, null, null, null, null, null, null, null, null, null, null, null, null, null, null, null, null, null, null, null, null, null, null, null, null, null, null, null, null, null, null, null, null, null, null, null, null, null, null, null, null, null, null, null, null, null, null, null, null, null, null, null, null, null, null, null, null, null, null, null, null, null, null, null, null, null, null, null, null, null, null, null, null, null, null, null, null, null, null, null, null, null, null, null, null, null, null, null, null, null, null, null, null, null, null, null, null, null, null, null, null, null, null, null, null, null, null, null, null, null, null, null, null, null, null, null, null, null, null, null, null, null, null, null, null, null, null, null, null, null, null, null, null, null, null, null, null, null, null, null, null, null, null, null, null, null, null, null, null, null, null, null, null, null, null, null, null, null, null, null, null, null, null, null, null, null, null, null, null, null, null, null, null, null, null, null, null, null, null, null, null, null, null, null, null, null, null, null, null, null, null, null, null, null, null, null, null, null, null, null, null, null, null, null, null, null, null, null, null, null, null, null, null, null, null, null, null, null, null, null, null, null, null, null, null, null, null, null, null, null, null, null, null, null, null, null, null, null, null, null, null, null, null, null, null, null, null, null, null, null, null, null, null, null, null, null, null, null, null, null, null, null, null, null, null, null, null, null, null, null, null, null, null, null, null, null, null, null, null, null, null, null, null, null, null, null, null, null, null, null, null, null, null, null, null, null, null, null, null, null, null, null, null, null, null, null, null, null, null, null, null, null, null, null, null, null, null, null, null, null, null, null, null, null, null, null, null, null, null, null, null, null, null, null, null, null, null, null, null, null, null, null, null, null, null, null, null, null, null, null, null, null, null, null, null, null, null, null, null, null, null, null, null, null, null, null, null, null, null, null, null, null, null, null, null, null, null, null, null, null, null, null, null, null, null, null, null, null, null, null, null, null, null, null, null, null, null, null, null, null, null, null, null, null, null, null, null, null, null, null, null, null, null, null, null, null, null, null, null, null, null, null, null, null, null, null, null, null, null, null, null, null, null, null, null, null, null, null, null, null, null, null, null, null, null, null, null, null, null, null, null, null, null, null, null, null, null, null, null, null, null, null, null, null, null, null, null, null, null, null, null, null, null, null, null, null, null, null, null, null, null, null, null, null, null, null, null, null, null, null, null, null, null, null, null, null, null, null, null, null, null, null, null, null, null, null, null, null, null, null, null, null, null, null, null, null, null, null, null, null, null, null, null, null, null, null, null, null, null, null, null, null, null, null, null, null, null, null, null, null, null, null, null, null, null, null, null, null, null, null, null, null, null, null, null, null, null, null, null, null, null, null, null, null, null, null, null, null, null, null, null, null, null, null, null, null, null, null, null, null, null, null, null, null, null, null, null, null, null, null, null, null, null, null, null, null, null, null, null, null, null, null, null, null, null, null, null, null, null, null, null, null, null, null, null, null, null, null, null, null, null, null, null, null, null, null, null, null, null, null, null, null, null, null, null, null, null, null, null, null, null, null, null, null, null, null, null, null, null, null, null, null, null, null, null, null, null, null, null, null, null, null, null, null, null, null, null, null, null, null, null, null, null, null, null, null, null, null, null, null, null, null, null, null, null, null, null, null, null, null, null, null, null, null, null, null, null, null, null, null, null, null, null, null, null, null, null, null, null, null, null, null, null, null, null, null, null, null, null, null, null, null, null, null, null, null, null, null, null, null, null, null, null, null, null, null, null, null, null, null, null, null, null, null, null, null, null, null, null, null, null, null, null, null, null, null, null, null, null, null, null, null, null, null, null, null, null, null, null, null, null, null, null, null, null, null, null, null, null, null, null, null, null, null, null, null, null, null, null, null, null, null, null, null, null, null, null, null, null, null, null, null, null, null, null, null, null, null, null, null, null, null, null, null, null, null, null, null, null, null, null, null, null, null, null, null, null, null, null, null, null, null, null, null, null, null, null, null, null, null, null, null, null, null, null, null, null, null, null, null, null, null, null, null, null, null, null, null, null, null, null, null, null, null, null, null, null, null, null, null, null, null, null, null, null, null, null, null, null, null, null, null, null, null, null, null, null, null, null, null, null, null, null, null, null, null, null, null, null, null, null, null, null, null, null, null, null, null, null, null, null, null, null, null, null, null, null, null, null, null, null, null, null, null, null, null, null, null, null, null, null, null, null, null, null, null, null, null, null, null, null, null, null, null, null, null, null, null, null, null, null, null, null, null, null, null, null, null, null, null, null, null, null, null, null, null, null, null, null, null, null, null, null, null, null, null, null, null, null, null, null, null, null, null, null, null, null, null, null, null, null, null, null, null, null, null, null, null, null, null, null, null, null, null, null, null, null, null, null, null, null, null, null, null, null, null, null, null, null, null, null, null, null, null, null, null, null, null, null, null, null, null, null, null, null, null, null, null, null, null, null, null, null, null, null, null, null, null, null, null, null, null, null, null, null, null, null, null, null, null, null, null, null, null, null, null, null, null, null, null, null, null, null, null, null, null, null, null, null, null, null, null, null, null, null, null, null, null, null, null, null, null, null, null, null, null, null, null, null, null, null, null, null, null, null, null, null, null, null, null, null, null, null, null, null, null, null, null, null, null, null, null, null, null, null, null, null, null, null, null, null, null, null, null, null, null, null, null, null, null, null, null, null, null, null, null, null, null, null, null, null, null, null, null, null, null, null, null, null, null, null, null, null, null, null, null, null, null, null, null, null, null, null, null, null, null, null, null, null, null, null, null, null, null, null, null, null, null, null, null, null, null, null, null, null, null, null, null, null, null, null, null, null, null, null, null, null, null, null, null, null, null, null, null, null, null, null, null, null, null, null, null, null, null, null, null, null, null, null, null, null, null, null, null, null, null, null, null, null, null, null, null, null, null, null, null, null, null, null, null, null, null, null, null, null, null, null, null, null, null, null, null, null, null, null, null, null, null, null, null, null, null, null, null, null, null, null, null, null, null, null, null, null, null, null, null, null, null, null, null, null, null, null, null, null, null, null, null, null, null, null, null, null, null, null, null, null, null, null, null, null, null, null, null, null, null, null, null, null, null, null, null, null, null, null, null, null, null, null, null, null, null, null, null, null, null, null, null, null, null, null, null, null, null, null, null, null, null, null, null, null, null, null, null, null, null, null, null, null, null, null, null, null, null, null, null, null, null, null, null, null, null, null, null, null, null, null, null, null, null, null, null, null, null, null, null, null, null, null, null, null, null, null, null, null, null, null, null, null, null, null, null, null, null, null, null, null, null, null, null, null, null, null, null, null, null, null, null, null, null, null, null, null, null, null, null, null, null, null, null, null, null, null, null, null, null, null, null, null, null, null, null, null, null, null, null, null, null, null, null, null, null, null, null, null, null, null, null, null, null, null, null, null, null, null, null, null, null, null, null, null, null, null, null, null, null, null, null, null, null, null, null, null, null, null, null, null, null, null, null, null, null, null, null, null, null, null, null, null, null, null, null, null, null, null, null, null, null, null, null, null, null, null, null, null, null, null, null, null, null, null, null, null, null, null, null, null, null, null, null, null, null, null, null, null, null, null, null, null, null, null, null, null, null, null, null, null, null, null, null, null, null, null, null, null, null, null, null, null, null, null, null, null, null, null, null, null, null, null, null, null, null, null, null, null, null, null, null, null, null, null, null, null, null, null, null, null, null, null, null, null, null, null, null, null, null, null, null, null, null, null, null, null, null, null, null, null, null, null, null, null, null, null, null, null, null, null, null, null, null, null, null, null, null, null, null, null, null, null, null, null, null, null, null, null, null, null, null, null, null, null, null, null, null, null, null, null, null, null, null, null, null, null, null, null, null, null, null, null, null, null, null, null, null, null, null, null, null, null, null, null, null, null, null, null, null, null, null, null, null, null, null, null, null, null, null, null, null, null, null, null, null, null, null, null, null, null, null, null, null, null, null, null, null, null, null, null, null, null, null, null, null, null, null, null, null, null, null, null, null, null, null, null, null, null, null, null, null, null, null, null, null, null, null, null, null, null, null, null, null, null, null, null, null, null, null, null, null, null, null, null, null, null, null, null, null, null, null, null, null, null, null, null, null, null, null, null, null, null, null, null, null, null, null, null, null, null, null, null, null, null, null, null, null, null, null, null, null, null, null, null, null, null, null, null, null, null, null, null, null, null, null, null, null, null, null, null, null, null, null, null, null, null, null, null, null, null, null, null, null, null, null, null, null, null, null, null, null, null, null, null, null, null, null, null, null, null, null, null, null, null, null, null, null, null, null, null, null, null, null, null, null, null, null, null, null, null, null, null, null, null, null, null, null, null, null, null, null, null, null, null, null, null, null, null, null, null, null, null, null, null, null, null, null, null, null, null, null, null, null, null, null, null, null, null, null, null, null, null, null, null, null, null, null, null, null, null, null, null, null, null, null, null, null, null, null, null, null, null, null, null, null, null, null, null, null, null, null, null, null, null, null, null, null, null, null, null, null, null, null, null, null, null, null, null, null, null, null, null, null, null, null, null, null, null, null, null, null, null, null, null, null, null, null, null, null, null, null, null, null, null, null, null, null, null, null, null, null, null, null, null, null, null, null, null, null, null, null, null, null, null, null, null, null, null, null, null, null, null, null, null, null, null, null, null, null, null, null, null, null, null, null, null, null, null, null, null, null, null, null, null, null], \"yaxis\": \"y\", \"type\": \"scatter\"}], \"name\": \"1\"}, {\"data\": [{\"hoverlabel\": {\"namelength\": 0}, \"hovertemplate\": \"<b>%{hovertext}</b><br><br>Length=2<br>Age=%{x}<br>%Homochirality=%{y}\", \"hovertext\": [1.0, 1.0, 1.0, 1.0, 1.0, 0.0, 1.0, 0.0, 0.0, 0.0, 1.0, 1.0, 1.0, 0.0, 1.0, 0.0, 1.0, 1.0, 1.0, 0.0, 1.0, 1.0, 1.0, 0.0, 0.0, 0.0, 0.0, 0.0, 0.0, 1.0, 0.0, 0.0, 1.0, 1.0, 1.0, 0.0, 0.0, 1.0, 1.0, 0.0, 0.0, 1.0, 0.0, 1.0, 0.0, 0.0, 0.0, 1.0, 1.0, 1.0, 0.0, 0.0, 1.0, 1.0, 1.0, 0.0, 1.0, 0.0, 1.0, 0.0, 1.0, 0.0, 1.0, 1.0, 0.0, 1.0, 1.0, 1.0, 1.0, 1.0, 0.0, 0.0, 1.0, 0.0, 1.0, 1.0, 1.0, 0.0, 1.0, 1.0, 1.0, 1.0, 0.0, 1.0, 0.0, 1.0, 1.0, 0.0, 1.0, 1.0, 0.0, 1.0, 0.0, 0.0, 0.0, 1.0, 1.0, 0.0, 0.0, 1.0, 0.0, 1.0, 0.0, 1.0, 0.0, 0.0, 1.0, 0.0, 1.0, 0.0, 1.0, 1.0, 0.0, 0.0, 1.0, 1.0, 1.0, 0.0, 1.0, 0.0, 1.0, 0.0, 1.0, 1.0, 0.0, 0.0, 0.0, 0.0, 0.0, 1.0, 0.0, 1.0, 0.0, 1.0, 0.0, 0.0, 1.0, 1.0, 1.0, 1.0, 0.0, 1.0, 1.0, 0.0, 0.0, 0.0, 1.0, 1.0, 1.0, 1.0, 1.0, 1.0, 1.0, 1.0, 1.0, 1.0, 1.0, 0.0, 1.0, 0.0, 0.0, 1.0, 0.0, 1.0, 1.0, 1.0, 1.0, 1.0, 0.0, 1.0, 1.0, 0.0, 0.0, 1.0, 1.0, 0.0, 1.0, 1.0, 1.0, 1.0, 1.0, 1.0, 0.0, 1.0, 1.0, 1.0, 0.0, 0.0, 1.0, 1.0, 0.0, 1.0, 0.0, 0.0, 0.0, 0.0, 0.0, 1.0, 1.0, 0.0, 1.0, 1.0, 0.0, 0.0, 1.0, 1.0, 1.0, 1.0, 0.0, 1.0, 1.0, 1.0, 1.0, 1.0, 1.0, 1.0, 0.0, 0.0, 1.0, 1.0, 1.0, 0.0, 0.0, 0.0, 1.0, 1.0, 1.0, 1.0, 0.0, 1.0, 1.0, 0.0, 1.0, 0.0, 1.0, 0.0, 0.0, 1.0, 1.0, 0.0, 1.0, 1.0, 0.0, 0.0, 0.0, 1.0, 0.0, 1.0, 0.0, 0.0, 0.0, 0.0, 0.0, 0.0, 0.0, 0.0, 0.0, 1.0, 0.0, 1.0, 0.0, 1.0, 0.0, 1.0, 0.0, 0.0, 0.0, 1.0, 1.0, 1.0, 1.0, 0.0, 0.0, 1.0, 1.0, 0.0, 1.0, 1.0, 1.0, 0.0, 0.0, 0.0, 1.0, 1.0, 1.0, 1.0, 0.0, 1.0, 1.0, 0.0, 0.0, 1.0, 1.0, 1.0, 0.0, 0.0, 1.0, 1.0, 0.0, 1.0, 0.0, 1.0, 0.0, 1.0, 1.0, 1.0, 1.0, 1.0, 0.0, 1.0, 0.0, 1.0, 1.0, 0.0, 0.0, 0.0, 0.0, 0.0, 0.0, 0.0, 0.0, 0.0, 0.0, 0.0, 1.0, 1.0, 0.0, 0.0, 1.0, 1.0, 1.0, 1.0, 1.0, 0.0, 1.0, 0.0, 1.0, 1.0, 0.0, 1.0, 1.0, 0.0, 0.0, 0.0, 0.0, 1.0, 0.0, 0.0, 0.0, 0.0, 1.0, 1.0, 0.0, 0.0, 0.0, 0.0, 1.0, 1.0, 1.0, 0.0, 1.0, 1.0, 0.0, 1.0, 0.0, 0.0, 0.0, 1.0, 0.0, 0.0, 1.0, 1.0, 0.0, 1.0, 0.0, 0.0, 1.0, 0.0, 0.0, 1.0, 0.0, 0.0, 1.0, 0.0, 1.0, 1.0, 1.0, 0.0, 0.0, 0.0, 1.0, 0.0, 1.0, 0.0, 0.0, 0.0, 0.0, 1.0, 0.0, 0.0, 0.0, 0.0, 0.0, 1.0, 0.0, 1.0, 1.0, 1.0, 0.0, 1.0, 0.0, 1.0, 0.0, 0.0, 1.0, 1.0, 0.0, 1.0, 1.0, 0.0, 0.0, 0.0, 1.0, 0.0, 0.0, 1.0, 1.0, 0.0, 1.0, 0.0, 1.0, 1.0, 1.0, 1.0, 0.0, 0.0, 0.0, 1.0, 1.0, 1.0, 0.0, 0.0, 1.0, 0.0, 1.0, 1.0, 0.0, 1.0, 1.0, 1.0, 1.0, 1.0, 0.0, 1.0, 0.0, 0.0, 1.0, 1.0, 0.0, 1.0, 0.0, 1.0, 1.0, 0.0, 1.0, 1.0, 0.0, 1.0, 0.0, 1.0, 0.0, 1.0, 1.0, 1.0, 1.0, 1.0, 1.0, 0.0, 0.0, 0.0, 1.0, 1.0, 0.0, 1.0, 0.0, 0.0, 1.0, 0.0, 0.0, 0.0, 0.0, 0.0, 0.0, 1.0, 1.0, 1.0, 1.0, 0.0, 0.0, 1.0, 1.0, 1.0, 0.0, 0.0, 1.0, 0.0, 1.0, 0.0, 1.0, 0.0, 1.0, 0.0, 1.0, 1.0, 1.0, 0.0, 0.0, 0.0, 1.0, 0.0, 0.0, 1.0, 0.0, 0.0, 1.0, 1.0, 0.0, 1.0, 0.0, 0.0, 1.0, 1.0, 0.0, 0.0, 0.0, 0.0, 1.0, 0.0, 0.0, 0.0, 0.0, 1.0, 1.0, 1.0, 1.0, 0.0, 1.0, 0.0, 1.0, 1.0, 0.0, 1.0, 1.0, 1.0], \"legendgroup\": \"\", \"marker\": {\"color\": \"#636efa\", \"symbol\": \"circle\"}, \"mode\": \"markers\", \"name\": \"\", \"showlegend\": false, \"x\": [0, 0, 0, 0, 0, 0, 0, 0, 0, 0, 0, 0, 0, 0, 0, 0, 0, 0, 0, 0, 0, 0, 0, 0, 0, 0, 0, 0, 0, 0, 0, 0, 0, 0, 0, 0, 0, 0, 0, 0, 0, 0, 0, 0, 0, 0, 0, 0, 0, 0, 0, 0, 0, 0, 0, 0, 0, 0, 0, 0, 0, 0, 0, 0, 0, 0, 0, 0, 0, 0, 0, 0, 0, 0, 0, 0, 0, 0, 0, 0, 0, 0, 0, 0, 0, 0, 0, 0, 0, 0, 0, 0, 0, 0, 0, 0, 0, 0, 0, 0, 0, 0, 0, 0, 0, 0, 0, 0, 0, 0, 0, 0, 0, 0, 0, 0, 0, 0, 0, 0, 0, 0, 0, 0, 0, 0, 0, 0, 1, 1, 1, 1, 1, 1, 1, 1, 1, 1, 1, 1, 1, 1, 1, 1, 1, 1, 1, 1, 1, 1, 1, 1, 1, 1, 1, 1, 1, 0, 0, 0, 0, 0, 0, 0, 0, 0, 0, 0, 0, 0, 0, 0, 0, 0, 0, 0, 0, 0, 0, 0, 0, 0, 0, 0, 0, 0, 0, 0, 0, 0, 0, 0, 0, 0, 0, 0, 0, 0, 0, 0, 0, 0, 0, 0, 0, 2, 1, 1, 2, 1, 1, 1, 2, 2, 2, 2, 2, 2, 1, 2, 2, 2, 1, 2, 2, 2, 1, 1, 2, 2, 0, 0, 0, 0, 0, 0, 0, 0, 0, 0, 0, 0, 2, 0, 0, 0, 0, 0, 2, 0, 0, 0, 0, 0, 0, 0, 2, 0, 0, 0, 0, 0, 0, 0, 0, 0, 0, 0, 0, 0, 0, 0, 0, 1, 1, 3, 3, 3, 3, 3, 1, 1, 3, 1, 1, 3, 2, 1, 3, 3, 1, 2, 1, 2, 3, 3, 1, 0, 0, 0, 0, 0, 0, 0, 0, 0, 0, 0, 0, 0, 0, 0, 3, 3, 0, 0, 0, 3, 0, 2, 0, 0, 0, 0, 4, 2, 1, 3, 2, 4, 2, 4, 3, 1, 4, 3, 4, 2, 2, 4, 1, 4, 0, 0, 0, 0, 0, 3, 0, 0, 4, 0, 0, 0, 0, 0, 0, 4, 0, 2, 0, 0, 2, 0, 0, 0, 1, 3, 1, 2, 5, 1, 1, 5, 1, 2, 1, 5, 0, 0, 0, 3, 0, 0, 5, 0, 0, 5, 0, 0, 5, 5, 0, 5, 0, 0, 0, 0, 0, 5, 6, 5, 6, 6, 6, 1, 2, 1, 6, 6, 6, 0, 6, 0, 0, 0, 0, 6, 0, 0, 2, 5, 1, 7, 7, 7, 7, 2, 1, 7, 7, 7, 7, 7, 0, 7, 0, 0, 7, 7, 7, 0, 2, 8, 8, 7, 1, 8, 8, 8, 8, 3, 0, 0, 0, 0, 8, 0, 0, 4, 9, 9, 9, 1, 9, 9, 1, 9, 7, 9, 8, 9, 10, 10, 10, 5, 10, 9, 10, 10, 0, 10, 0, 10, 10, 0, 11, 11, 11, 11, 11, 11, 0, 11, 11, 0, 0, 12, 12, 12, 12, 1, 12, 12, 0, 11, 0, 12, 1, 13, 13, 13, 2, 1, 13, 2, 0, 0, 2, 14, 3, 3, 1, 14, 12, 14, 14, 15, 15, 0, 16, 17, 17, 17, 18, 18, 18, 18, 19, 19, 20, 23, 24, 24, 25, 30, 30, 31, 33, 34, 35, 35, 36, 37], \"xaxis\": \"x\", \"y\": [1.0, 1.0, 1.0, 1.0, 1.0, 0.0, 1.0, 0.0, 0.0, 0.0, 1.0, 1.0, 1.0, 0.0, 1.0, 0.0, 1.0, 1.0, 1.0, 0.0, 1.0, 1.0, 1.0, 0.0, 0.0, 0.0, 0.0, 0.0, 0.0, 1.0, 0.0, 0.0, 1.0, 1.0, 1.0, 0.0, 0.0, 1.0, 1.0, 0.0, 0.0, 1.0, 0.0, 1.0, 0.0, 0.0, 0.0, 1.0, 1.0, 1.0, 0.0, 0.0, 1.0, 1.0, 1.0, 0.0, 1.0, 0.0, 1.0, 0.0, 1.0, 0.0, 1.0, 1.0, 0.0, 1.0, 1.0, 1.0, 1.0, 1.0, 0.0, 0.0, 1.0, 0.0, 1.0, 1.0, 1.0, 0.0, 1.0, 1.0, 1.0, 1.0, 0.0, 1.0, 0.0, 1.0, 1.0, 0.0, 1.0, 1.0, 0.0, 1.0, 0.0, 0.0, 0.0, 1.0, 1.0, 0.0, 0.0, 1.0, 0.0, 1.0, 0.0, 1.0, 0.0, 0.0, 1.0, 0.0, 1.0, 0.0, 1.0, 1.0, 0.0, 0.0, 1.0, 1.0, 1.0, 0.0, 1.0, 0.0, 1.0, 0.0, 1.0, 1.0, 0.0, 0.0, 0.0, 0.0, 0.0, 1.0, 0.0, 1.0, 0.0, 1.0, 0.0, 0.0, 1.0, 1.0, 1.0, 1.0, 0.0, 1.0, 1.0, 0.0, 0.0, 0.0, 1.0, 1.0, 1.0, 1.0, 1.0, 1.0, 1.0, 1.0, 1.0, 1.0, 1.0, 0.0, 1.0, 0.0, 0.0, 1.0, 0.0, 1.0, 1.0, 1.0, 1.0, 1.0, 0.0, 1.0, 1.0, 0.0, 0.0, 1.0, 1.0, 0.0, 1.0, 1.0, 1.0, 1.0, 1.0, 1.0, 0.0, 1.0, 1.0, 1.0, 0.0, 0.0, 1.0, 1.0, 0.0, 1.0, 0.0, 0.0, 0.0, 0.0, 0.0, 1.0, 1.0, 0.0, 1.0, 1.0, 0.0, 0.0, 1.0, 1.0, 1.0, 1.0, 0.0, 1.0, 1.0, 1.0, 1.0, 1.0, 1.0, 1.0, 0.0, 0.0, 1.0, 1.0, 1.0, 0.0, 0.0, 0.0, 1.0, 1.0, 1.0, 1.0, 0.0, 1.0, 1.0, 0.0, 1.0, 0.0, 1.0, 0.0, 0.0, 1.0, 1.0, 0.0, 1.0, 1.0, 0.0, 0.0, 0.0, 1.0, 0.0, 1.0, 0.0, 0.0, 0.0, 0.0, 0.0, 0.0, 0.0, 0.0, 0.0, 1.0, 0.0, 1.0, 0.0, 1.0, 0.0, 1.0, 0.0, 0.0, 0.0, 1.0, 1.0, 1.0, 1.0, 0.0, 0.0, 1.0, 1.0, 0.0, 1.0, 1.0, 1.0, 0.0, 0.0, 0.0, 1.0, 1.0, 1.0, 1.0, 0.0, 1.0, 1.0, 0.0, 0.0, 1.0, 1.0, 1.0, 0.0, 0.0, 1.0, 1.0, 0.0, 1.0, 0.0, 1.0, 0.0, 1.0, 1.0, 1.0, 1.0, 1.0, 0.0, 1.0, 0.0, 1.0, 1.0, 0.0, 0.0, 0.0, 0.0, 0.0, 0.0, 0.0, 0.0, 0.0, 0.0, 0.0, 1.0, 1.0, 0.0, 0.0, 1.0, 1.0, 1.0, 1.0, 1.0, 0.0, 1.0, 0.0, 1.0, 1.0, 0.0, 1.0, 1.0, 0.0, 0.0, 0.0, 0.0, 1.0, 0.0, 0.0, 0.0, 0.0, 1.0, 1.0, 0.0, 0.0, 0.0, 0.0, 1.0, 1.0, 1.0, 0.0, 1.0, 1.0, 0.0, 1.0, 0.0, 0.0, 0.0, 1.0, 0.0, 0.0, 1.0, 1.0, 0.0, 1.0, 0.0, 0.0, 1.0, 0.0, 0.0, 1.0, 0.0, 0.0, 1.0, 0.0, 1.0, 1.0, 1.0, 0.0, 0.0, 0.0, 1.0, 0.0, 1.0, 0.0, 0.0, 0.0, 0.0, 1.0, 0.0, 0.0, 0.0, 0.0, 0.0, 1.0, 0.0, 1.0, 1.0, 1.0, 0.0, 1.0, 0.0, 1.0, 0.0, 0.0, 1.0, 1.0, 0.0, 1.0, 1.0, 0.0, 0.0, 0.0, 1.0, 0.0, 0.0, 1.0, 1.0, 0.0, 1.0, 0.0, 1.0, 1.0, 1.0, 1.0, 0.0, 0.0, 0.0, 1.0, 1.0, 1.0, 0.0, 0.0, 1.0, 0.0, 1.0, 1.0, 0.0, 1.0, 1.0, 1.0, 1.0, 1.0, 0.0, 1.0, 0.0, 0.0, 1.0, 1.0, 0.0, 1.0, 0.0, 1.0, 1.0, 0.0, 1.0, 1.0, 0.0, 1.0, 0.0, 1.0, 0.0, 1.0, 1.0, 1.0, 1.0, 1.0, 1.0, 0.0, 0.0, 0.0, 1.0, 1.0, 0.0, 1.0, 0.0, 0.0, 1.0, 0.0, 0.0, 0.0, 0.0, 0.0, 0.0, 1.0, 1.0, 1.0, 1.0, 0.0, 0.0, 1.0, 1.0, 1.0, 0.0, 0.0, 1.0, 0.0, 1.0, 0.0, 1.0, 0.0, 1.0, 0.0, 1.0, 1.0, 1.0, 0.0, 0.0, 0.0, 1.0, 0.0, 0.0, 1.0, 0.0, 0.0, 1.0, 1.0, 0.0, 1.0, 0.0, 0.0, 1.0, 1.0, 0.0, 0.0, 0.0, 0.0, 1.0, 0.0, 0.0, 0.0, 0.0, 1.0, 1.0, 1.0, 1.0, 0.0, 1.0, 0.0, 1.0, 1.0, 0.0, 1.0, 1.0, 1.0], \"yaxis\": \"y\", \"type\": \"scatter\"}], \"name\": \"2\"}, {\"data\": [{\"hoverlabel\": {\"namelength\": 0}, \"hovertemplate\": \"<b>%{hovertext}</b><br><br>Length=3<br>Age=%{x}<br>%Homochirality=%{y}\", \"hovertext\": [0.5, 0.0, 1.0, 0.5, 1.0, 0.5, 0.5, 0.5, 0.5, 0.5, 1.0, 0.0, 0.5, 1.0, 0.5, 0.0, 1.0, 1.0, 0.5, 0.5, 0.0, 1.0, 0.5, 1.0, 0.5, 0.5, 0.5, 0.0, 0.0, 0.5, 1.0, 0.5, 0.5, 0.5, 0.5, 0.0, 0.5, 1.0, 0.0, 0.5, 0.5, 0.0, 0.0, 0.5, 0.5, 0.5, 1.0, 0.5, 0.5, 0.5, 0.0, 1.0, 0.5, 1.0, 0.5, 0.5, 0.5, 0.0, 0.5, 0.5, 0.0, 0.5, 0.5, 1.0, 1.0, 0.5, 1.0, 1.0, 0.5, 1.0, 0.5, 1.0, 1.0, 0.5, 0.5, 0.5, 1.0, 0.0, 0.5, 0.5, 1.0, 0.0, 0.0, 0.5, 0.5, 0.5, 0.0, 0.0, 0.0, 0.0, 1.0, 1.0, 1.0, 0.5, 1.0, 0.0, 1.0, 0.0, 0.5, 0.5, 1.0, 0.5, 1.0, 0.0, 0.5, 0.5, 0.5, 0.0, 0.5, 0.5, 1.0, 1.0, 1.0, 0.0, 1.0, 1.0, 0.5, 0.5, 0.0, 1.0, 1.0, 0.0, 0.5, 0.5, 0.0, 0.5, 0.5, 0.5, 0.5, 0.5, 0.0, 0.5, 0.5, 0.5, 1.0, 0.5, 1.0, 1.0, 0.0, 0.0, 0.0, 0.5, 0.5, 0.5, 0.5, 0.0, 0.5, 0.0, 1.0, 0.5, 0.5, 0.5, 0.5, 0.5, 0.0, 0.5, 1.0, 0.0, 0.0, 0.5, 0.5, 0.0, 0.0, 0.5, 0.5, 1.0, 0.5, 0.5, 1.0, 1.0, 0.0, 0.5, 0.5, 0.0, 0.5, 0.5, 0.5, 0.5, 1.0, 0.5, 0.0, 0.0, 0.5, 0.5, 0.0, 0.0, 0.5, 1.0, 0.5, 0.5, 0.5, 0.0, 1.0, 1.0, 0.0, 0.5, 0.5, 0.0, 1.0, 0.0, 0.0, 0.0, 1.0, 1.0, 0.5, 0.0, 0.5, 0.5, 0.5, 0.5, 0.5, 0.5, 0.0, 1.0, 0.5, 0.5, 0.0, 0.5, 1.0, 0.0, 1.0, 0.5, 0.0, 1.0, 0.5, 0.0, 0.0, 1.0, 0.5, 0.5, 0.0, 0.5, 1.0, 0.5, 0.5, 0.0, 1.0, 0.5, 0.5, 1.0, 1.0, 1.0, 1.0, 0.5, 0.5, 1.0, 0.5, 1.0, 1.0, 0.5, 1.0, 0.5, 0.0, 1.0, 1.0, 1.0, 0.5, 0.5, 0.5, 0.0, 1.0, 0.5, 1.0, 1.0, 0.0, 1.0, 1.0, 1.0, 0.5, 1.0, 1.0, 0.5, 0.5, 1.0, 0.0, 0.5, 0.0, 0.5, 0.0, 1.0, 1.0, 0.0, 1.0, 0.5, 0.5, 1.0, 1.0, 1.0, 0.5, 1.0, 1.0, 0.5, 0.5, 1.0, 0.5, 1.0, 0.5, 0.5, 0.5, 1.0, 1.0, 0.5, 1.0, 0.5, 1.0, 1.0, 1.0], \"legendgroup\": \"\", \"marker\": {\"color\": \"#636efa\", \"symbol\": \"circle\"}, \"mode\": \"markers\", \"name\": \"\", \"showlegend\": false, \"x\": [1, 1, 1, 1, 1, 1, 1, 1, 1, 1, 1, 1, 1, 1, 1, 1, 1, 1, 1, 1, 1, 1, 1, 1, 1, 1, 1, 1, 1, 1, 1, 1, 1, 1, 1, 1, 1, 1, 1, 1, 1, 1, 1, 1, 1, 1, 1, 1, 1, 1, 1, 1, 1, 1, 1, 1, 1, 1, 1, 1, 2, 2, 1, 1, 2, 2, 1, 2, 1, 1, 1, 2, 2, 2, 1, 2, 2, 1, 2, 2, 2, 1, 2, 2, 1, 1, 2, 2, 1, 1, 2, 1, 1, 2, 2, 2, 1, 2, 2, 2, 2, 1, 3, 1, 3, 3, 2, 3, 3, 3, 3, 2, 3, 3, 2, 2, 3, 3, 2, 2, 3, 1, 1, 3, 3, 1, 3, 1, 3, 3, 1, 1, 1, 4, 3, 4, 2, 4, 1, 2, 4, 4, 1, 3, 1, 4, 4, 1, 2, 4, 4, 4, 4, 3, 3, 1, 3, 4, 5, 5, 5, 4, 1, 1, 3, 5, 5, 5, 5, 5, 5, 3, 1, 4, 2, 5, 3, 5, 5, 5, 1, 1, 6, 6, 6, 1, 2, 6, 6, 6, 6, 2, 1, 4, 1, 5, 6, 3, 6, 1, 1, 2, 7, 7, 7, 7, 1, 5, 2, 7, 7, 7, 3, 7, 7, 7, 7, 5, 6, 8, 8, 6, 8, 8, 8, 6, 7, 8, 8, 9, 9, 9, 9, 9, 9, 1, 9, 9, 9, 9, 9, 9, 10, 10, 10, 10, 10, 10, 10, 10, 8, 10, 10, 11, 11, 11, 11, 11, 11, 1, 12, 12, 12, 12, 1, 12, 12, 10, 12, 12, 11, 11, 13, 11, 13, 14, 14, 14, 15, 13, 15, 16, 14, 16, 16, 17, 18, 19, 19, 19, 19, 19, 19, 20, 20, 20, 21, 22, 25, 25, 25, 30, 32, 32, 34, 38, 39], \"xaxis\": \"x\", \"y\": [0.5, 0.0, 1.0, 0.5, 1.0, 0.5, 0.5, 0.5, 0.5, 0.5, 1.0, 0.0, 0.5, 1.0, 0.5, 0.0, 1.0, 1.0, 0.5, 0.5, 0.0, 1.0, 0.5, 1.0, 0.5, 0.5, 0.5, 0.0, 0.0, 0.5, 1.0, 0.5, 0.5, 0.5, 0.5, 0.0, 0.5, 1.0, 0.0, 0.5, 0.5, 0.0, 0.0, 0.5, 0.5, 0.5, 1.0, 0.5, 0.5, 0.5, 0.0, 1.0, 0.5, 1.0, 0.5, 0.5, 0.5, 0.0, 0.5, 0.5, 0.0, 0.5, 0.5, 1.0, 1.0, 0.5, 1.0, 1.0, 0.5, 1.0, 0.5, 1.0, 1.0, 0.5, 0.5, 0.5, 1.0, 0.0, 0.5, 0.5, 1.0, 0.0, 0.0, 0.5, 0.5, 0.5, 0.0, 0.0, 0.0, 0.0, 1.0, 1.0, 1.0, 0.5, 1.0, 0.0, 1.0, 0.0, 0.5, 0.5, 1.0, 0.5, 1.0, 0.0, 0.5, 0.5, 0.5, 0.0, 0.5, 0.5, 1.0, 1.0, 1.0, 0.0, 1.0, 1.0, 0.5, 0.5, 0.0, 1.0, 1.0, 0.0, 0.5, 0.5, 0.0, 0.5, 0.5, 0.5, 0.5, 0.5, 0.0, 0.5, 0.5, 0.5, 1.0, 0.5, 1.0, 1.0, 0.0, 0.0, 0.0, 0.5, 0.5, 0.5, 0.5, 0.0, 0.5, 0.0, 1.0, 0.5, 0.5, 0.5, 0.5, 0.5, 0.0, 0.5, 1.0, 0.0, 0.0, 0.5, 0.5, 0.0, 0.0, 0.5, 0.5, 1.0, 0.5, 0.5, 1.0, 1.0, 0.0, 0.5, 0.5, 0.0, 0.5, 0.5, 0.5, 0.5, 1.0, 0.5, 0.0, 0.0, 0.5, 0.5, 0.0, 0.0, 0.5, 1.0, 0.5, 0.5, 0.5, 0.0, 1.0, 1.0, 0.0, 0.5, 0.5, 0.0, 1.0, 0.0, 0.0, 0.0, 1.0, 1.0, 0.5, 0.0, 0.5, 0.5, 0.5, 0.5, 0.5, 0.5, 0.0, 1.0, 0.5, 0.5, 0.0, 0.5, 1.0, 0.0, 1.0, 0.5, 0.0, 1.0, 0.5, 0.0, 0.0, 1.0, 0.5, 0.5, 0.0, 0.5, 1.0, 0.5, 0.5, 0.0, 1.0, 0.5, 0.5, 1.0, 1.0, 1.0, 1.0, 0.5, 0.5, 1.0, 0.5, 1.0, 1.0, 0.5, 1.0, 0.5, 0.0, 1.0, 1.0, 1.0, 0.5, 0.5, 0.5, 0.0, 1.0, 0.5, 1.0, 1.0, 0.0, 1.0, 1.0, 1.0, 0.5, 1.0, 1.0, 0.5, 0.5, 1.0, 0.0, 0.5, 0.0, 0.5, 0.0, 1.0, 1.0, 0.0, 1.0, 0.5, 0.5, 1.0, 1.0, 1.0, 0.5, 1.0, 1.0, 0.5, 0.5, 1.0, 0.5, 1.0, 0.5, 0.5, 0.5, 1.0, 1.0, 0.5, 1.0, 0.5, 1.0, 1.0, 1.0], \"yaxis\": \"y\", \"type\": \"scatter\"}], \"name\": \"3\"}, {\"data\": [{\"hoverlabel\": {\"namelength\": 0}, \"hovertemplate\": \"<b>%{hovertext}</b><br><br>Length=4<br>Age=%{x}<br>%Homochirality=%{y}\", \"hovertext\": [1.0, 0.0, 0.6666666666666666, 0.3333333333333333, 1.0, 0.3333333333333333, 0.3333333333333333, 0.6666666666666666, 0.6666666666666666, 0.0, 1.0, 0.3333333333333333, 1.0, 0.3333333333333333, 0.3333333333333333, 1.0, 0.6666666666666666, 0.3333333333333333, 0.3333333333333333, 0.6666666666666666, 1.0, 0.0, 0.3333333333333333, 0.6666666666666666, 0.6666666666666666, 0.6666666666666666, 0.6666666666666666, 0.6666666666666666, 0.6666666666666666, 0.3333333333333333, 0.6666666666666666, 0.3333333333333333, 0.3333333333333333, 0.3333333333333333, 0.6666666666666666, 0.3333333333333333, 0.6666666666666666, 0.6666666666666666, 0.3333333333333333, 1.0, 0.3333333333333333, 0.3333333333333333, 0.6666666666666666, 0.6666666666666666, 0.6666666666666666, 0.6666666666666666, 0.6666666666666666, 1.0, 0.6666666666666666, 0.3333333333333333, 0.3333333333333333, 0.3333333333333333, 0.3333333333333333, 1.0, 0.6666666666666666, 0.0, 0.6666666666666666, 1.0, 1.0, 1.0, 0.3333333333333333, 1.0, 0.0, 0.3333333333333333, 0.3333333333333333, 0.3333333333333333, 1.0, 0.3333333333333333, 0.3333333333333333, 0.6666666666666666, 1.0, 0.6666666666666666, 0.6666666666666666, 0.6666666666666666, 0.3333333333333333, 0.3333333333333333, 0.6666666666666666, 1.0, 0.3333333333333333, 0.0, 0.6666666666666666, 0.0, 0.3333333333333333, 0.6666666666666666, 1.0, 0.6666666666666666, 1.0, 1.0, 0.3333333333333333, 0.3333333333333333, 0.6666666666666666, 0.3333333333333333, 1.0, 0.6666666666666666, 0.0, 0.0, 0.0, 0.3333333333333333, 0.3333333333333333, 0.3333333333333333, 0.6666666666666666, 0.3333333333333333, 1.0, 0.3333333333333333, 0.0, 0.3333333333333333, 0.6666666666666666, 0.0, 1.0, 1.0, 0.3333333333333333, 0.6666666666666666, 1.0, 0.3333333333333333, 0.0, 0.6666666666666666, 0.6666666666666666, 1.0, 0.6666666666666666, 0.3333333333333333, 0.3333333333333333, 0.6666666666666666, 0.6666666666666666, 0.3333333333333333, 1.0, 0.6666666666666666, 0.6666666666666666, 0.3333333333333333, 0.0, 0.3333333333333333, 0.6666666666666666, 0.3333333333333333, 1.0, 0.6666666666666666, 0.6666666666666666, 0.6666666666666666, 1.0, 0.3333333333333333, 0.3333333333333333, 1.0, 0.3333333333333333, 0.6666666666666666, 1.0, 0.0, 0.0, 0.0, 1.0, 0.6666666666666666, 0.3333333333333333, 0.3333333333333333, 0.6666666666666666, 0.6666666666666666, 0.6666666666666666, 0.3333333333333333, 0.0, 1.0, 1.0, 0.3333333333333333, 1.0, 0.3333333333333333, 0.6666666666666666, 1.0, 0.0, 1.0, 0.3333333333333333, 1.0, 1.0, 0.6666666666666666, 0.6666666666666666, 1.0, 0.6666666666666666, 0.6666666666666666, 0.3333333333333333, 0.3333333333333333, 1.0, 1.0, 0.6666666666666666, 1.0, 0.6666666666666666, 0.3333333333333333, 1.0, 1.0, 1.0, 0.6666666666666666, 0.6666666666666666, 1.0, 1.0, 0.3333333333333333, 1.0, 0.3333333333333333, 0.3333333333333333, 1.0, 0.3333333333333333, 0.3333333333333333, 0.6666666666666666, 0.6666666666666666, 1.0, 1.0, 0.3333333333333333, 1.0, 0.6666666666666666, 1.0, 0.6666666666666666, 0.6666666666666666, 1.0, 1.0, 1.0, 0.6666666666666666, 0.3333333333333333, 0.3333333333333333, 0.6666666666666666, 0.3333333333333333, 0.3333333333333333], \"legendgroup\": \"\", \"marker\": {\"color\": \"#636efa\", \"symbol\": \"circle\"}, \"mode\": \"markers\", \"name\": \"\", \"showlegend\": false, \"x\": [1, 1, 1, 1, 1, 1, 1, 1, 1, 1, 2, 2, 2, 2, 2, 2, 1, 2, 2, 1, 2, 2, 1, 2, 2, 2, 2, 2, 2, 2, 2, 2, 2, 2, 2, 2, 2, 2, 2, 3, 3, 3, 3, 3, 1, 1, 3, 3, 3, 2, 2, 3, 2, 3, 3, 3, 3, 3, 3, 2, 3, 3, 4, 4, 2, 4, 4, 1, 3, 4, 4, 2, 4, 4, 2, 4, 2, 3, 4, 1, 5, 5, 5, 5, 4, 5, 5, 5, 5, 5, 5, 5, 5, 6, 4, 5, 6, 5, 6, 6, 3, 6, 6, 2, 2, 6, 6, 2, 6, 6, 4, 7, 7, 7, 7, 7, 6, 7, 5, 4, 7, 7, 7, 7, 8, 8, 7, 8, 8, 6, 8, 8, 8, 8, 8, 8, 7, 8, 8, 8, 7, 8, 9, 9, 7, 9, 3, 9, 9, 9, 9, 7, 9, 10, 8, 10, 9, 10, 4, 8, 10, 10, 9, 9, 11, 11, 5, 11, 12, 12, 12, 12, 12, 13, 13, 13, 13, 13, 13, 13, 14, 14, 12, 15, 15, 15, 15, 15, 16, 16, 16, 16, 17, 17, 17, 17, 17, 18, 19, 19, 19, 19, 20, 20, 23, 25, 26, 27, 32, 33, 33, 33, 34], \"xaxis\": \"x\", \"y\": [1.0, 0.0, 0.6666666666666666, 0.3333333333333333, 1.0, 0.3333333333333333, 0.3333333333333333, 0.6666666666666666, 0.6666666666666666, 0.0, 1.0, 0.3333333333333333, 1.0, 0.3333333333333333, 0.3333333333333333, 1.0, 0.6666666666666666, 0.3333333333333333, 0.3333333333333333, 0.6666666666666666, 1.0, 0.0, 0.3333333333333333, 0.6666666666666666, 0.6666666666666666, 0.6666666666666666, 0.6666666666666666, 0.6666666666666666, 0.6666666666666666, 0.3333333333333333, 0.6666666666666666, 0.3333333333333333, 0.3333333333333333, 0.3333333333333333, 0.6666666666666666, 0.3333333333333333, 0.6666666666666666, 0.6666666666666666, 0.3333333333333333, 1.0, 0.3333333333333333, 0.3333333333333333, 0.6666666666666666, 0.6666666666666666, 0.6666666666666666, 0.6666666666666666, 0.6666666666666666, 1.0, 0.6666666666666666, 0.3333333333333333, 0.3333333333333333, 0.3333333333333333, 0.3333333333333333, 1.0, 0.6666666666666666, 0.0, 0.6666666666666666, 1.0, 1.0, 1.0, 0.3333333333333333, 1.0, 0.0, 0.3333333333333333, 0.3333333333333333, 0.3333333333333333, 1.0, 0.3333333333333333, 0.3333333333333333, 0.6666666666666666, 1.0, 0.6666666666666666, 0.6666666666666666, 0.6666666666666666, 0.3333333333333333, 0.3333333333333333, 0.6666666666666666, 1.0, 0.3333333333333333, 0.0, 0.6666666666666666, 0.0, 0.3333333333333333, 0.6666666666666666, 1.0, 0.6666666666666666, 1.0, 1.0, 0.3333333333333333, 0.3333333333333333, 0.6666666666666666, 0.3333333333333333, 1.0, 0.6666666666666666, 0.0, 0.0, 0.0, 0.3333333333333333, 0.3333333333333333, 0.3333333333333333, 0.6666666666666666, 0.3333333333333333, 1.0, 0.3333333333333333, 0.0, 0.3333333333333333, 0.6666666666666666, 0.0, 1.0, 1.0, 0.3333333333333333, 0.6666666666666666, 1.0, 0.3333333333333333, 0.0, 0.6666666666666666, 0.6666666666666666, 1.0, 0.6666666666666666, 0.3333333333333333, 0.3333333333333333, 0.6666666666666666, 0.6666666666666666, 0.3333333333333333, 1.0, 0.6666666666666666, 0.6666666666666666, 0.3333333333333333, 0.0, 0.3333333333333333, 0.6666666666666666, 0.3333333333333333, 1.0, 0.6666666666666666, 0.6666666666666666, 0.6666666666666666, 1.0, 0.3333333333333333, 0.3333333333333333, 1.0, 0.3333333333333333, 0.6666666666666666, 1.0, 0.0, 0.0, 0.0, 1.0, 0.6666666666666666, 0.3333333333333333, 0.3333333333333333, 0.6666666666666666, 0.6666666666666666, 0.6666666666666666, 0.3333333333333333, 0.0, 1.0, 1.0, 0.3333333333333333, 1.0, 0.3333333333333333, 0.6666666666666666, 1.0, 0.0, 1.0, 0.3333333333333333, 1.0, 1.0, 0.6666666666666666, 0.6666666666666666, 1.0, 0.6666666666666666, 0.6666666666666666, 0.3333333333333333, 0.3333333333333333, 1.0, 1.0, 0.6666666666666666, 1.0, 0.6666666666666666, 0.3333333333333333, 1.0, 1.0, 1.0, 0.6666666666666666, 0.6666666666666666, 1.0, 1.0, 0.3333333333333333, 1.0, 0.3333333333333333, 0.3333333333333333, 1.0, 0.3333333333333333, 0.3333333333333333, 0.6666666666666666, 0.6666666666666666, 1.0, 1.0, 0.3333333333333333, 1.0, 0.6666666666666666, 1.0, 0.6666666666666666, 0.6666666666666666, 1.0, 1.0, 1.0, 0.6666666666666666, 0.3333333333333333, 0.3333333333333333, 0.6666666666666666, 0.3333333333333333, 0.3333333333333333], \"yaxis\": \"y\", \"type\": \"scatter\"}], \"name\": \"4\"}, {\"data\": [{\"hoverlabel\": {\"namelength\": 0}, \"hovertemplate\": \"<b>%{hovertext}</b><br><br>Length=5<br>Age=%{x}<br>%Homochirality=%{y}\", \"hovertext\": [0.5, 0.25, 0.75, 0.5, 0.5, 0.75, 0.25, 0.75, 0.5, 0.75, 0.5, 1.0, 0.5, 0.5, 0.75, 0.75, 0.5, 0.5, 0.75, 0.75, 0.5, 0.5, 0.25, 0.75, 0.5, 0.25, 0.5, 0.5, 0.25, 0.5, 0.75, 0.5, 0.5, 1.0, 0.5, 0.5, 0.5, 0.5, 1.0, 0.25, 0.25, 0.75, 0.25, 0.5, 0.5, 0.25, 0.75, 0.5, 0.75, 0.75, 0.5, 0.25, 0.5, 1.0, 0.5, 0.0, 0.0, 0.75, 1.0, 0.5, 0.5, 0.5, 0.5, 0.75, 0.5, 0.75, 0.25, 0.25, 0.25, 0.75, 0.25, 0.5, 0.5, 0.5, 0.25, 0.5, 0.75, 0.25, 0.75, 0.0, 0.75, 0.25, 0.25, 0.75, 0.5, 0.25, 0.0, 0.5, 0.5, 0.75, 0.75, 0.75, 0.25, 0.25, 0.25, 0.75, 0.25, 0.5, 0.75, 0.5, 0.5, 1.0, 0.5, 0.5, 0.5, 0.75, 0.75, 0.25, 0.5, 1.0, 0.5, 0.25, 1.0, 0.75, 0.5, 1.0, 0.75, 0.25, 0.25, 0.75, 0.75, 0.5, 0.25, 0.75, 1.0, 0.5, 0.75, 0.5, 0.75, 1.0, 0.75, 0.5, 0.5, 0.75, 0.5, 1.0, 0.5, 1.0, 0.5, 1.0, 0.75, 1.0, 1.0, 1.0, 0.75, 0.75, 0.25, 0.75], \"legendgroup\": \"\", \"marker\": {\"color\": \"#636efa\", \"symbol\": \"circle\"}, \"mode\": \"markers\", \"name\": \"\", \"showlegend\": false, \"x\": [2, 2, 2, 2, 2, 2, 2, 2, 2, 2, 2, 2, 2, 3, 3, 3, 2, 2, 3, 3, 3, 2, 2, 3, 3, 3, 3, 3, 3, 3, 2, 4, 2, 3, 4, 4, 4, 4, 3, 4, 4, 4, 4, 4, 4, 4, 4, 5, 5, 5, 5, 5, 3, 5, 5, 5, 5, 5, 6, 6, 6, 6, 6, 6, 6, 6, 6, 4, 6, 7, 6, 7, 7, 4, 6, 6, 6, 7, 7, 8, 8, 8, 8, 8, 8, 5, 8, 8, 8, 8, 8, 8, 9, 9, 9, 9, 9, 7, 9, 9, 9, 9, 10, 8, 10, 9, 10, 10, 9, 10, 11, 11, 10, 12, 12, 11, 12, 12, 13, 13, 13, 13, 13, 13, 13, 14, 14, 16, 16, 15, 17, 18, 19, 19, 19, 19, 19, 20, 20, 21, 22, 23, 23, 24, 25, 29, 30, 33], \"xaxis\": \"x\", \"y\": [0.5, 0.25, 0.75, 0.5, 0.5, 0.75, 0.25, 0.75, 0.5, 0.75, 0.5, 1.0, 0.5, 0.5, 0.75, 0.75, 0.5, 0.5, 0.75, 0.75, 0.5, 0.5, 0.25, 0.75, 0.5, 0.25, 0.5, 0.5, 0.25, 0.5, 0.75, 0.5, 0.5, 1.0, 0.5, 0.5, 0.5, 0.5, 1.0, 0.25, 0.25, 0.75, 0.25, 0.5, 0.5, 0.25, 0.75, 0.5, 0.75, 0.75, 0.5, 0.25, 0.5, 1.0, 0.5, 0.0, 0.0, 0.75, 1.0, 0.5, 0.5, 0.5, 0.5, 0.75, 0.5, 0.75, 0.25, 0.25, 0.25, 0.75, 0.25, 0.5, 0.5, 0.5, 0.25, 0.5, 0.75, 0.25, 0.75, 0.0, 0.75, 0.25, 0.25, 0.75, 0.5, 0.25, 0.0, 0.5, 0.5, 0.75, 0.75, 0.75, 0.25, 0.25, 0.25, 0.75, 0.25, 0.5, 0.75, 0.5, 0.5, 1.0, 0.5, 0.5, 0.5, 0.75, 0.75, 0.25, 0.5, 1.0, 0.5, 0.25, 1.0, 0.75, 0.5, 1.0, 0.75, 0.25, 0.25, 0.75, 0.75, 0.5, 0.25, 0.75, 1.0, 0.5, 0.75, 0.5, 0.75, 1.0, 0.75, 0.5, 0.5, 0.75, 0.5, 1.0, 0.5, 1.0, 0.5, 1.0, 0.75, 1.0, 1.0, 1.0, 0.75, 0.75, 0.25, 0.75], \"yaxis\": \"y\", \"type\": \"scatter\"}], \"name\": \"5\"}, {\"data\": [{\"hoverlabel\": {\"namelength\": 0}, \"hovertemplate\": \"<b>%{hovertext}</b><br><br>Length=6<br>Age=%{x}<br>%Homochirality=%{y}\", \"hovertext\": [0.4, 0.4, 0.6, 0.6, 0.8, 0.4, 0.6, 0.8, 0.8, 0.6, 0.0, 0.6, 0.6, 0.4, 0.6, 0.2, 1.0, 0.6, 0.4, 0.4, 0.6, 0.8, 0.6, 0.6, 0.4, 0.6, 0.6, 1.0, 0.4, 0.8, 0.8, 0.4, 0.8, 0.4, 0.8, 0.2, 0.8, 0.6, 0.4, 0.8, 1.0, 0.2, 0.4, 0.2, 0.6, 0.6, 0.2, 0.6, 0.4, 0.4, 0.8, 0.8, 0.4, 0.6, 0.8, 0.4, 0.6, 0.6, 0.8, 0.6, 0.2, 0.4, 0.2, 0.8, 0.6, 0.6, 0.4, 0.8, 0.6, 1.0, 0.6, 0.8, 0.8, 0.8, 1.0, 0.8, 1.0, 0.6, 0.8, 0.8, 1.0, 1.0, 1.0, 0.8, 0.4, 1.0, 1.0, 1.0, 1.0, 0.4, 1.0, 1.0, 1.0, 1.0, 0.6, 0.6, 1.0, 0.4, 0.8, 0.0, 0.0], \"legendgroup\": \"\", \"marker\": {\"color\": \"#636efa\", \"symbol\": \"circle\"}, \"mode\": \"markers\", \"name\": \"\", \"showlegend\": false, \"x\": [2, 2, 2, 2, 2, 2, 3, 3, 3, 3, 3, 3, 3, 3, 4, 4, 4, 4, 3, 4, 4, 4, 3, 4, 4, 5, 4, 4, 5, 5, 5, 5, 6, 6, 6, 6, 6, 6, 5, 6, 6, 6, 7, 7, 7, 8, 8, 8, 7, 8, 9, 9, 9, 10, 10, 10, 10, 10, 10, 10, 10, 10, 11, 11, 11, 11, 11, 11, 10, 12, 13, 13, 13, 14, 14, 14, 15, 15, 13, 15, 15, 15, 16, 14, 16, 16, 17, 17, 18, 18, 19, 19, 19, 20, 20, 20, 22, 24, 32, 35, 36], \"xaxis\": \"x\", \"y\": [0.4, 0.4, 0.6, 0.6, 0.8, 0.4, 0.6, 0.8, 0.8, 0.6, 0.0, 0.6, 0.6, 0.4, 0.6, 0.2, 1.0, 0.6, 0.4, 0.4, 0.6, 0.8, 0.6, 0.6, 0.4, 0.6, 0.6, 1.0, 0.4, 0.8, 0.8, 0.4, 0.8, 0.4, 0.8, 0.2, 0.8, 0.6, 0.4, 0.8, 1.0, 0.2, 0.4, 0.2, 0.6, 0.6, 0.2, 0.6, 0.4, 0.4, 0.8, 0.8, 0.4, 0.6, 0.8, 0.4, 0.6, 0.6, 0.8, 0.6, 0.2, 0.4, 0.2, 0.8, 0.6, 0.6, 0.4, 0.8, 0.6, 1.0, 0.6, 0.8, 0.8, 0.8, 1.0, 0.8, 1.0, 0.6, 0.8, 0.8, 1.0, 1.0, 1.0, 0.8, 0.4, 1.0, 1.0, 1.0, 1.0, 0.4, 1.0, 1.0, 1.0, 1.0, 0.6, 0.6, 1.0, 0.4, 0.8, 0.0, 0.0], \"yaxis\": \"y\", \"type\": \"scatter\"}], \"name\": \"6\"}, {\"data\": [{\"hoverlabel\": {\"namelength\": 0}, \"hovertemplate\": \"<b>%{hovertext}</b><br><br>Length=7<br>Age=%{x}<br>%Homochirality=%{y}\", \"hovertext\": [0.3333333333333333, 0.6666666666666666, 0.8333333333333334, 0.3333333333333333, 0.5, 0.5, 0.5, 0.8333333333333334, 0.8333333333333334, 0.6666666666666666, 0.5, 1.0, 0.5, 0.6666666666666666, 0.5, 0.8333333333333334, 0.16666666666666666, 0.6666666666666666, 0.5, 0.3333333333333333, 0.3333333333333333, 0.3333333333333333, 0.3333333333333333, 1.0, 0.6666666666666666, 0.6666666666666666, 0.5, 1.0, 0.8333333333333334, 0.5, 0.5, 0.3333333333333333, 0.3333333333333333, 0.5, 0.6666666666666666, 0.5, 0.5, 0.16666666666666666, 0.0, 0.8333333333333334, 0.6666666666666666, 0.5, 0.3333333333333333, 0.5, 0.5, 0.5, 0.8333333333333334, 0.3333333333333333, 0.5, 0.8333333333333334, 0.5, 0.6666666666666666, 0.5, 1.0, 0.6666666666666666, 0.5, 0.6666666666666666, 0.8333333333333334, 0.5, 1.0, 0.5, 0.8333333333333334, 0.8333333333333334, 0.8333333333333334, 0.6666666666666666, 0.5, 0.6666666666666666, 1.0, 0.6666666666666666, 0.8333333333333334, 0.8333333333333334, 0.8333333333333334, 1.0, 0.6666666666666666, 0.3333333333333333, 0.5, 0.6666666666666666, 1.0, 0.3333333333333333, 0.8333333333333334, 0.8333333333333334, 1.0, 0.8333333333333334, 0.3333333333333333], \"legendgroup\": \"\", \"marker\": {\"color\": \"#636efa\", \"symbol\": \"circle\"}, \"mode\": \"markers\", \"name\": \"\", \"showlegend\": false, \"x\": [2, 3, 3, 3, 3, 3, 3, 4, 4, 4, 4, 4, 4, 4, 4, 4, 4, 4, 4, 3, 5, 5, 5, 4, 5, 5, 6, 5, 6, 6, 4, 6, 6, 6, 6, 6, 6, 7, 5, 7, 7, 7, 8, 8, 8, 8, 8, 7, 8, 9, 9, 9, 8, 9, 10, 11, 11, 11, 11, 11, 12, 13, 13, 14, 14, 14, 15, 16, 16, 16, 16, 17, 17, 17, 17, 17, 18, 18, 18, 20, 21, 21, 26, 31], \"xaxis\": \"x\", \"y\": [0.3333333333333333, 0.6666666666666666, 0.8333333333333334, 0.3333333333333333, 0.5, 0.5, 0.5, 0.8333333333333334, 0.8333333333333334, 0.6666666666666666, 0.5, 1.0, 0.5, 0.6666666666666666, 0.5, 0.8333333333333334, 0.16666666666666666, 0.6666666666666666, 0.5, 0.3333333333333333, 0.3333333333333333, 0.3333333333333333, 0.3333333333333333, 1.0, 0.6666666666666666, 0.6666666666666666, 0.5, 1.0, 0.8333333333333334, 0.5, 0.5, 0.3333333333333333, 0.3333333333333333, 0.5, 0.6666666666666666, 0.5, 0.5, 0.16666666666666666, 0.0, 0.8333333333333334, 0.6666666666666666, 0.5, 0.3333333333333333, 0.5, 0.5, 0.5, 0.8333333333333334, 0.3333333333333333, 0.5, 0.8333333333333334, 0.5, 0.6666666666666666, 0.5, 1.0, 0.6666666666666666, 0.5, 0.6666666666666666, 0.8333333333333334, 0.5, 1.0, 0.5, 0.8333333333333334, 0.8333333333333334, 0.8333333333333334, 0.6666666666666666, 0.5, 0.6666666666666666, 1.0, 0.6666666666666666, 0.8333333333333334, 0.8333333333333334, 0.8333333333333334, 1.0, 0.6666666666666666, 0.3333333333333333, 0.5, 0.6666666666666666, 1.0, 0.3333333333333333, 0.8333333333333334, 0.8333333333333334, 1.0, 0.8333333333333334, 0.3333333333333333], \"yaxis\": \"y\", \"type\": \"scatter\"}], \"name\": \"7\"}, {\"data\": [{\"hoverlabel\": {\"namelength\": 0}, \"hovertemplate\": \"<b>%{hovertext}</b><br><br>Length=10<br>Age=%{x}<br>%Homochirality=%{y}\", \"hovertext\": [0.8888888888888888, 0.2222222222222222, 0.5555555555555556, 0.7777777777777778, 0.5555555555555556, 0.5555555555555556, 0.3333333333333333, 0.5555555555555556, 0.3333333333333333, 0.4444444444444444, 0.5555555555555556, 0.4444444444444444, 0.7777777777777778, 0.4444444444444444, 0.6666666666666666, 0.5555555555555556, 0.2222222222222222, 0.4444444444444444, 0.2222222222222222, 0.6666666666666666, 0.5555555555555556, 0.4444444444444444, 0.7777777777777778, 0.7777777777777778, 0.5555555555555556, 1.0, 0.8888888888888888, 0.3333333333333333, 0.1111111111111111, 0.8888888888888888, 0.6666666666666666, 0.7777777777777778, 0.6666666666666666, 0.4444444444444444, 0.8888888888888888, 0.6666666666666666, 0.6666666666666666, 0.7777777777777778, 0.8888888888888888, 0.7777777777777778, 0.7777777777777778, 0.5555555555555556, 0.4444444444444444, 0.7777777777777778, 0.6666666666666666, 0.7777777777777778, 0.4444444444444444, 0.8888888888888888, 0.6666666666666666], \"legendgroup\": \"\", \"marker\": {\"color\": \"#636efa\", \"symbol\": \"circle\"}, \"mode\": \"markers\", \"name\": \"\", \"showlegend\": false, \"x\": [3, 3, 3, 3, 4, 5, 5, 5, 5, 6, 6, 7, 7, 7, 7, 7, 8, 9, 10, 10, 10, 10, 10, 10, 10, 10, 11, 11, 11, 12, 12, 12, 13, 13, 13, 14, 14, 16, 17, 17, 18, 18, 20, 20, 21, 22, 27, 32, 36], \"xaxis\": \"x\", \"y\": [0.8888888888888888, 0.2222222222222222, 0.5555555555555556, 0.7777777777777778, 0.5555555555555556, 0.5555555555555556, 0.3333333333333333, 0.5555555555555556, 0.3333333333333333, 0.4444444444444444, 0.5555555555555556, 0.4444444444444444, 0.7777777777777778, 0.4444444444444444, 0.6666666666666666, 0.5555555555555556, 0.2222222222222222, 0.4444444444444444, 0.2222222222222222, 0.6666666666666666, 0.5555555555555556, 0.4444444444444444, 0.7777777777777778, 0.7777777777777778, 0.5555555555555556, 1.0, 0.8888888888888888, 0.3333333333333333, 0.1111111111111111, 0.8888888888888888, 0.6666666666666666, 0.7777777777777778, 0.6666666666666666, 0.4444444444444444, 0.8888888888888888, 0.6666666666666666, 0.6666666666666666, 0.7777777777777778, 0.8888888888888888, 0.7777777777777778, 0.7777777777777778, 0.5555555555555556, 0.4444444444444444, 0.7777777777777778, 0.6666666666666666, 0.7777777777777778, 0.4444444444444444, 0.8888888888888888, 0.6666666666666666], \"yaxis\": \"y\", \"type\": \"scatter\"}], \"name\": \"10\"}, {\"data\": [{\"hoverlabel\": {\"namelength\": 0}, \"hovertemplate\": \"<b>%{hovertext}</b><br><br>Length=8<br>Age=%{x}<br>%Homochirality=%{y}\", \"hovertext\": [0.7142857142857143, 0.2857142857142857, 0.8571428571428571, 0.5714285714285714, 0.7142857142857143, 0.5714285714285714, 0.42857142857142855, 0.42857142857142855, 0.8571428571428571, 0.2857142857142857, 0.42857142857142855, 0.42857142857142855, 0.42857142857142855, 0.5714285714285714, 0.5714285714285714, 0.8571428571428571, 0.42857142857142855, 0.42857142857142855, 0.7142857142857143, 0.42857142857142855, 0.42857142857142855, 0.2857142857142857, 0.42857142857142855, 0.42857142857142855, 0.7142857142857143, 0.2857142857142857, 1.0, 0.5714285714285714, 1.0, 0.42857142857142855, 0.5714285714285714, 0.5714285714285714, 0.5714285714285714, 0.7142857142857143, 0.42857142857142855, 0.2857142857142857, 0.5714285714285714, 0.5714285714285714, 0.8571428571428571, 0.5714285714285714, 0.5714285714285714, 0.8571428571428571, 0.42857142857142855, 0.42857142857142855, 0.7142857142857143, 0.7142857142857143, 0.7142857142857143, 0.42857142857142855, 0.7142857142857143, 0.7142857142857143, 0.42857142857142855, 0.7142857142857143, 0.8571428571428571, 1.0, 0.14285714285714285, 0.8571428571428571, 0.7142857142857143, 0.7142857142857143, 0.7142857142857143, 0.7142857142857143, 0.5714285714285714, 0.2857142857142857, 0.5714285714285714, 0.7142857142857143, 0.8571428571428571, 1.0, 0.7142857142857143, 1.0, 0.8571428571428571, 1.0, 0.8571428571428571, 0.7142857142857143, 0.5714285714285714, 0.8571428571428571, 0.5714285714285714, 0.2857142857142857, 1.0], \"legendgroup\": \"\", \"marker\": {\"color\": \"#636efa\", \"symbol\": \"circle\"}, \"mode\": \"markers\", \"name\": \"\", \"showlegend\": false, \"x\": [3, 3, 4, 4, 4, 4, 4, 4, 4, 4, 5, 5, 5, 5, 5, 5, 5, 6, 6, 7, 6, 6, 7, 5, 7, 7, 8, 8, 8, 9, 9, 9, 9, 9, 9, 9, 9, 9, 10, 10, 10, 11, 11, 11, 11, 11, 11, 11, 11, 12, 12, 12, 12, 12, 13, 14, 15, 16, 16, 18, 18, 18, 18, 19, 19, 19, 20, 20, 21, 21, 22, 22, 25, 27, 27, 32, 33], \"xaxis\": \"x\", \"y\": [0.7142857142857143, 0.2857142857142857, 0.8571428571428571, 0.5714285714285714, 0.7142857142857143, 0.5714285714285714, 0.42857142857142855, 0.42857142857142855, 0.8571428571428571, 0.2857142857142857, 0.42857142857142855, 0.42857142857142855, 0.42857142857142855, 0.5714285714285714, 0.5714285714285714, 0.8571428571428571, 0.42857142857142855, 0.42857142857142855, 0.7142857142857143, 0.42857142857142855, 0.42857142857142855, 0.2857142857142857, 0.42857142857142855, 0.42857142857142855, 0.7142857142857143, 0.2857142857142857, 1.0, 0.5714285714285714, 1.0, 0.42857142857142855, 0.5714285714285714, 0.5714285714285714, 0.5714285714285714, 0.7142857142857143, 0.42857142857142855, 0.2857142857142857, 0.5714285714285714, 0.5714285714285714, 0.8571428571428571, 0.5714285714285714, 0.5714285714285714, 0.8571428571428571, 0.42857142857142855, 0.42857142857142855, 0.7142857142857143, 0.7142857142857143, 0.7142857142857143, 0.42857142857142855, 0.7142857142857143, 0.7142857142857143, 0.42857142857142855, 0.7142857142857143, 0.8571428571428571, 1.0, 0.14285714285714285, 0.8571428571428571, 0.7142857142857143, 0.7142857142857143, 0.7142857142857143, 0.7142857142857143, 0.5714285714285714, 0.2857142857142857, 0.5714285714285714, 0.7142857142857143, 0.8571428571428571, 1.0, 0.7142857142857143, 1.0, 0.8571428571428571, 1.0, 0.8571428571428571, 0.7142857142857143, 0.5714285714285714, 0.8571428571428571, 0.5714285714285714, 0.2857142857142857, 1.0], \"yaxis\": \"y\", \"type\": \"scatter\"}], \"name\": \"8\"}, {\"data\": [{\"hoverlabel\": {\"namelength\": 0}, \"hovertemplate\": \"<b>%{hovertext}</b><br><br>Length=14<br>Age=%{x}<br>%Homochirality=%{y}\", \"hovertext\": [0.8461538461538461, 0.2307692307692308, 0.4615384615384616, 0.4615384615384616, 0.2307692307692308, 0.6923076923076923, 0.5384615384615384, 0.5384615384615384, 0.6923076923076923, 0.5384615384615384, 0.6153846153846154, 0.4615384615384616, 0.6923076923076923, 0.6153846153846154, 0.4615384615384616, 0.38461538461538464, 0.3076923076923077, 0.6153846153846154, 0.6153846153846154, 0.4615384615384616, 0.38461538461538464, 0.8461538461538461, 0.4615384615384616, 0.6923076923076923, 0.5384615384615384, 0.7692307692307693, 0.7692307692307693], \"legendgroup\": \"\", \"marker\": {\"color\": \"#636efa\", \"symbol\": \"circle\"}, \"mode\": \"markers\", \"name\": \"\", \"showlegend\": false, \"x\": [4, 4, 5, 6, 6, 7, 7, 9, 9, 9, 10, 11, 11, 11, 12, 12, 13, 13, 14, 16, 16, 17, 17, 18, 22, 24, 31], \"xaxis\": \"x\", \"y\": [0.8461538461538461, 0.2307692307692308, 0.4615384615384616, 0.4615384615384616, 0.2307692307692308, 0.6923076923076923, 0.5384615384615384, 0.5384615384615384, 0.6923076923076923, 0.5384615384615384, 0.6153846153846154, 0.4615384615384616, 0.6923076923076923, 0.6153846153846154, 0.4615384615384616, 0.38461538461538464, 0.3076923076923077, 0.6153846153846154, 0.6153846153846154, 0.4615384615384616, 0.38461538461538464, 0.8461538461538461, 0.4615384615384616, 0.6923076923076923, 0.5384615384615384, 0.7692307692307693, 0.7692307692307693], \"yaxis\": \"y\", \"type\": \"scatter\"}], \"name\": \"14\"}, {\"data\": [{\"hoverlabel\": {\"namelength\": 0}, \"hovertemplate\": \"<b>%{hovertext}</b><br><br>Length=9<br>Age=%{x}<br>%Homochirality=%{y}\", \"hovertext\": [0.375, 0.5, 0.875, 0.5, 0.625, 0.375, 0.375, 0.625, 0.625, 0.375, 0.625, 0.875, 0.5, 0.875, 0.5, 0.5, 0.375, 0.375, 0.75, 0.5, 0.75, 0.5, 0.125, 0.625, 0.5, 0.25, 0.5, 0.375, 0.625, 0.5, 1.0, 0.5, 0.375, 0.75, 0.375, 0.75, 0.75, 0.5, 0.5, 0.125, 0.625, 0.875, 0.75, 0.625, 0.5, 0.625, 0.625, 0.375, 0.375, 0.875, 0.75, 0.625, 0.375, 0.75, 0.5, 0.75, 0.75, 0.75, 0.75, 0.75, 0.25, 0.75], \"legendgroup\": \"\", \"marker\": {\"color\": \"#636efa\", \"symbol\": \"circle\"}, \"mode\": \"markers\", \"name\": \"\", \"showlegend\": false, \"x\": [4, 4, 5, 5, 5, 5, 5, 5, 5, 4, 5, 6, 6, 6, 6, 6, 6, 7, 7, 7, 7, 7, 7, 8, 7, 6, 8, 8, 8, 8, 9, 9, 9, 9, 10, 10, 10, 10, 10, 10, 10, 11, 11, 11, 12, 12, 12, 12, 13, 13, 13, 14, 15, 16, 17, 17, 17, 18, 18, 20, 24, 32], \"xaxis\": \"x\", \"y\": [0.375, 0.5, 0.875, 0.5, 0.625, 0.375, 0.375, 0.625, 0.625, 0.375, 0.625, 0.875, 0.5, 0.875, 0.5, 0.5, 0.375, 0.375, 0.75, 0.5, 0.75, 0.5, 0.125, 0.625, 0.5, 0.25, 0.5, 0.375, 0.625, 0.5, 1.0, 0.5, 0.375, 0.75, 0.375, 0.75, 0.75, 0.5, 0.5, 0.125, 0.625, 0.875, 0.75, 0.625, 0.5, 0.625, 0.625, 0.375, 0.375, 0.875, 0.75, 0.625, 0.375, 0.75, 0.5, 0.75, 0.75, 0.75, 0.75, 0.75, 0.25, 0.75], \"yaxis\": \"y\", \"type\": \"scatter\"}], \"name\": \"9\"}, {\"data\": [{\"hoverlabel\": {\"namelength\": 0}, \"hovertemplate\": \"<b>%{hovertext}</b><br><br>Length=11<br>Age=%{x}<br>%Homochirality=%{y}\", \"hovertext\": [0.7, 0.8, 0.6, 0.6, 0.7, 0.5, 0.6, 0.6, 0.3, 0.5, 0.9, 0.5, 0.8, 0.2, 0.6, 0.4, 0.9, 0.7, 0.9, 0.9, 0.8, 0.6, 0.3, 0.1, 0.7, 0.6, 0.8, 0.9, 0.9, 0.5, 0.9, 0.8, 0.8, 0.5, 0.7, 0.7, 0.9, 0.9, 0.5, 0.4], \"legendgroup\": \"\", \"marker\": {\"color\": \"#636efa\", \"symbol\": \"circle\"}, \"mode\": \"markers\", \"name\": \"\", \"showlegend\": false, \"x\": [4, 5, 6, 6, 6, 7, 7, 7, 6, 8, 8, 8, 9, 9, 9, 10, 10, 11, 11, 12, 12, 12, 12, 12, 13, 13, 13, 13, 14, 16, 16, 17, 21, 21, 22, 23, 23, 25, 31, 36], \"xaxis\": \"x\", \"y\": [0.7, 0.8, 0.6, 0.6, 0.7, 0.5, 0.6, 0.6, 0.3, 0.5, 0.9, 0.5, 0.8, 0.2, 0.6, 0.4, 0.9, 0.7, 0.9, 0.9, 0.8, 0.6, 0.3, 0.1, 0.7, 0.6, 0.8, 0.9, 0.9, 0.5, 0.9, 0.8, 0.8, 0.5, 0.7, 0.7, 0.9, 0.9, 0.5, 0.4], \"yaxis\": \"y\", \"type\": \"scatter\"}], \"name\": \"11\"}, {\"data\": [{\"hoverlabel\": {\"namelength\": 0}, \"hovertemplate\": \"<b>%{hovertext}</b><br><br>Length=13<br>Age=%{x}<br>%Homochirality=%{y}\", \"hovertext\": [0.75, 0.6666666666666666, 0.5833333333333334, 0.5, 0.4166666666666667, 0.5833333333333334, 0.5833333333333334, 0.75, 0.6666666666666666, 0.5, 0.4166666666666667, 0.25, 0.5833333333333334, 0.6666666666666666, 0.6666666666666666, 0.3333333333333333, 0.5, 0.5833333333333334, 0.75, 0.5, 0.75, 0.75, 0.8333333333333334], \"legendgroup\": \"\", \"marker\": {\"color\": \"#636efa\", \"symbol\": \"circle\"}, \"mode\": \"markers\", \"name\": \"\", \"showlegend\": false, \"x\": [5, 5, 5, 6, 7, 7, 7, 8, 8, 11, 11, 11, 12, 12, 12, 12, 14, 14, 18, 19, 19, 21, 31], \"xaxis\": \"x\", \"y\": [0.75, 0.6666666666666666, 0.5833333333333334, 0.5, 0.4166666666666667, 0.5833333333333334, 0.5833333333333334, 0.75, 0.6666666666666666, 0.5, 0.4166666666666667, 0.25, 0.5833333333333334, 0.6666666666666666, 0.6666666666666666, 0.3333333333333333, 0.5, 0.5833333333333334, 0.75, 0.5, 0.75, 0.75, 0.8333333333333334], \"yaxis\": \"y\", \"type\": \"scatter\"}], \"name\": \"13\"}, {\"data\": [{\"hoverlabel\": {\"namelength\": 0}, \"hovertemplate\": \"<b>%{hovertext}</b><br><br>Length=18<br>Age=%{x}<br>%Homochirality=%{y}\", \"hovertext\": [0.35294117647058826, 0.4117647058823529, 0.4705882352941176, 0.7058823529411765, 0.4705882352941176, 0.5294117647058824, 0.5294117647058824, 0.4705882352941176, 0.5882352941176471, 0.7058823529411765, 0.35294117647058826, 0.4705882352941176, 0.7058823529411765, 0.4705882352941176, 0.7647058823529411, 0.7647058823529411, 0.6470588235294118], \"legendgroup\": \"\", \"marker\": {\"color\": \"#636efa\", \"symbol\": \"circle\"}, \"mode\": \"markers\", \"name\": \"\", \"showlegend\": false, \"x\": [5, 7, 7, 8, 8, 9, 10, 13, 14, 14, 15, 16, 22, 25, 26, 28, 29], \"xaxis\": \"x\", \"y\": [0.35294117647058826, 0.4117647058823529, 0.4705882352941176, 0.7058823529411765, 0.4705882352941176, 0.5294117647058824, 0.5294117647058824, 0.4705882352941176, 0.5882352941176471, 0.7058823529411765, 0.35294117647058826, 0.4705882352941176, 0.7058823529411765, 0.4705882352941176, 0.7647058823529411, 0.7647058823529411, 0.6470588235294118], \"yaxis\": \"y\", \"type\": \"scatter\"}], \"name\": \"18\"}, {\"data\": [{\"hoverlabel\": {\"namelength\": 0}, \"hovertemplate\": \"<b>%{hovertext}</b><br><br>Length=16<br>Age=%{x}<br>%Homochirality=%{y}\", \"hovertext\": [0.8666666666666667, 0.6666666666666666, 0.5333333333333333, 0.7333333333333333, 0.5333333333333333, 0.6666666666666666, 0.5333333333333333, 0.6666666666666666, 0.6666666666666666, 0.6666666666666666, 0.4666666666666667, 0.4, 0.6666666666666666, 0.4666666666666667, 0.6666666666666666, 0.6, 0.5333333333333333, 0.8666666666666667, 0.4, 0.7333333333333333, 0.6666666666666666, 0.6666666666666666, 0.8666666666666667, 0.8, 0.7333333333333333], \"legendgroup\": \"\", \"marker\": {\"color\": \"#636efa\", \"symbol\": \"circle\"}, \"mode\": \"markers\", \"name\": \"\", \"showlegend\": false, \"x\": [5, 6, 8, 8, 9, 9, 10, 11, 12, 13, 13, 13, 14, 15, 15, 15, 15, 15, 17, 18, 20, 20, 22, 24, 30], \"xaxis\": \"x\", \"y\": [0.8666666666666667, 0.6666666666666666, 0.5333333333333333, 0.7333333333333333, 0.5333333333333333, 0.6666666666666666, 0.5333333333333333, 0.6666666666666666, 0.6666666666666666, 0.6666666666666666, 0.4666666666666667, 0.4, 0.6666666666666666, 0.4666666666666667, 0.6666666666666666, 0.6, 0.5333333333333333, 0.8666666666666667, 0.4, 0.7333333333333333, 0.6666666666666666, 0.6666666666666666, 0.8666666666666667, 0.8, 0.7333333333333333], \"yaxis\": \"y\", \"type\": \"scatter\"}], \"name\": \"16\"}, {\"data\": [{\"hoverlabel\": {\"namelength\": 0}, \"hovertemplate\": \"<b>%{hovertext}</b><br><br>Length=17<br>Age=%{x}<br>%Homochirality=%{y}\", \"hovertext\": [0.875, 0.4375, 0.5625, 0.5, 0.6875, 0.6875, 0.625, 0.6875, 0.625, 0.375, 0.6875, 0.375, 0.6875, 0.6875, 0.75, 0.6875, 0.6875, 0.5, 0.3125], \"legendgroup\": \"\", \"marker\": {\"color\": \"#636efa\", \"symbol\": \"circle\"}, \"mode\": \"markers\", \"name\": \"\", \"showlegend\": false, \"x\": [6, 8, 9, 9, 9, 10, 11, 13, 13, 14, 16, 17, 17, 20, 25, 27, 31, 31, 37], \"xaxis\": \"x\", \"y\": [0.875, 0.4375, 0.5625, 0.5, 0.6875, 0.6875, 0.625, 0.6875, 0.625, 0.375, 0.6875, 0.375, 0.6875, 0.6875, 0.75, 0.6875, 0.6875, 0.5, 0.3125], \"yaxis\": \"y\", \"type\": \"scatter\"}], \"name\": \"17\"}, {\"data\": [{\"hoverlabel\": {\"namelength\": 0}, \"hovertemplate\": \"<b>%{hovertext}</b><br><br>Length=20<br>Age=%{x}<br>%Homochirality=%{y}\", \"hovertext\": [0.631578947368421, 0.6842105263157895, 0.5263157894736842, 0.5263157894736842, 0.7368421052631579, 0.8421052631578947, 0.5789473684210527, 0.5789473684210527, 0.6842105263157895, 0.8421052631578947, 0.5263157894736842, 0.5263157894736842], \"legendgroup\": \"\", \"marker\": {\"color\": \"#636efa\", \"symbol\": \"circle\"}, \"mode\": \"markers\", \"name\": \"\", \"showlegend\": false, \"x\": [6, 7, 10, 10, 10, 14, 14, 15, 16, 16, 28, 29], \"xaxis\": \"x\", \"y\": [0.631578947368421, 0.6842105263157895, 0.5263157894736842, 0.5263157894736842, 0.7368421052631579, 0.8421052631578947, 0.5789473684210527, 0.5789473684210527, 0.6842105263157895, 0.8421052631578947, 0.5263157894736842, 0.5263157894736842], \"yaxis\": \"y\", \"type\": \"scatter\"}], \"name\": \"20\"}, {\"data\": [{\"hoverlabel\": {\"namelength\": 0}, \"hovertemplate\": \"<b>%{hovertext}</b><br><br>Length=15<br>Age=%{x}<br>%Homochirality=%{y}\", \"hovertext\": [0.35714285714285715, 0.5714285714285714, 0.5, 0.7142857142857143, 0.7142857142857143, 0.5714285714285714, 0.7142857142857143, 0.2857142857142857, 0.5714285714285714, 0.7857142857142857, 0.5, 0.35714285714285715, 0.42857142857142855, 0.5714285714285714, 0.6428571428571429, 0.7142857142857143, 0.5, 0.5, 0.8571428571428571, 0.5, 0.5, 0.7857142857142857, 0.8571428571428571, 0.8571428571428571], \"legendgroup\": \"\", \"marker\": {\"color\": \"#636efa\", \"symbol\": \"circle\"}, \"mode\": \"markers\", \"name\": \"\", \"showlegend\": false, \"x\": [6, 6, 6, 7, 8, 9, 10, 11, 11, 11, 11, 12, 12, 12, 12, 13, 14, 14, 15, 17, 19, 24, 27, 28], \"xaxis\": \"x\", \"y\": [0.35714285714285715, 0.5714285714285714, 0.5, 0.7142857142857143, 0.7142857142857143, 0.5714285714285714, 0.7142857142857143, 0.2857142857142857, 0.5714285714285714, 0.7857142857142857, 0.5, 0.35714285714285715, 0.42857142857142855, 0.5714285714285714, 0.6428571428571429, 0.7142857142857143, 0.5, 0.5, 0.8571428571428571, 0.5, 0.5, 0.7857142857142857, 0.8571428571428571, 0.8571428571428571], \"yaxis\": \"y\", \"type\": \"scatter\"}], \"name\": \"15\"}, {\"data\": [{\"hoverlabel\": {\"namelength\": 0}, \"hovertemplate\": \"<b>%{hovertext}</b><br><br>Length=12<br>Age=%{x}<br>%Homochirality=%{y}\", \"hovertext\": [0.5454545454545454, 0.9090909090909092, 0.6363636363636364, 0.5454545454545454, 0.5454545454545454, 0.5454545454545454, 0.6363636363636364, 0.5454545454545454, 0.2727272727272727, 0.5454545454545454, 0.7272727272727273, 0.8181818181818182, 0.3636363636363637, 0.3636363636363637, 0.3636363636363637, 0.4545454545454545, 0.8181818181818182, 0.6363636363636364, 0.6363636363636364, 0.3636363636363637, 0.9090909090909092, 0.6363636363636364, 0.6363636363636364, 0.6363636363636364, 0.7272727272727273, 0.8181818181818182, 0.8181818181818182], \"legendgroup\": \"\", \"marker\": {\"color\": \"#636efa\", \"symbol\": \"circle\"}, \"mode\": \"markers\", \"name\": \"\", \"showlegend\": false, \"x\": [6, 7, 7, 8, 8, 8, 8, 8, 7, 9, 9, 10, 10, 11, 11, 11, 12, 13, 13, 13, 18, 23, 24, 24, 26, 34, 35], \"xaxis\": \"x\", \"y\": [0.5454545454545454, 0.9090909090909092, 0.6363636363636364, 0.5454545454545454, 0.5454545454545454, 0.5454545454545454, 0.6363636363636364, 0.5454545454545454, 0.2727272727272727, 0.5454545454545454, 0.7272727272727273, 0.8181818181818182, 0.3636363636363637, 0.3636363636363637, 0.3636363636363637, 0.4545454545454545, 0.8181818181818182, 0.6363636363636364, 0.6363636363636364, 0.3636363636363637, 0.9090909090909092, 0.6363636363636364, 0.6363636363636364, 0.6363636363636364, 0.7272727272727273, 0.8181818181818182, 0.8181818181818182], \"yaxis\": \"y\", \"type\": \"scatter\"}], \"name\": \"12\"}, {\"data\": [{\"hoverlabel\": {\"namelength\": 0}, \"hovertemplate\": \"<b>%{hovertext}</b><br><br>Length=21<br>Age=%{x}<br>%Homochirality=%{y}\", \"hovertext\": [0.5, 0.55, 0.75, 0.7, 0.65, 0.7, 0.8, 0.5], \"legendgroup\": \"\", \"marker\": {\"color\": \"#636efa\", \"symbol\": \"circle\"}, \"mode\": \"markers\", \"name\": \"\", \"showlegend\": false, \"x\": [7, 9, 11, 11, 12, 13, 15, 35], \"xaxis\": \"x\", \"y\": [0.5, 0.55, 0.75, 0.7, 0.65, 0.7, 0.8, 0.5], \"yaxis\": \"y\", \"type\": \"scatter\"}], \"name\": \"21\"}, {\"data\": [{\"hoverlabel\": {\"namelength\": 0}, \"hovertemplate\": \"<b>%{hovertext}</b><br><br>Length=22<br>Age=%{x}<br>%Homochirality=%{y}\", \"hovertext\": [0.5238095238095238, 0.5714285714285714, 0.7142857142857143, 0.7619047619047619, 0.7142857142857143, 0.5714285714285714, 0.5714285714285714, 0.5714285714285714, 0.7619047619047619, 0.8095238095238095], \"legendgroup\": \"\", \"marker\": {\"color\": \"#636efa\", \"symbol\": \"circle\"}, \"mode\": \"markers\", \"name\": \"\", \"showlegend\": false, \"x\": [7, 10, 12, 12, 14, 15, 20, 21, 25, 29], \"xaxis\": \"x\", \"y\": [0.5238095238095238, 0.5714285714285714, 0.7142857142857143, 0.7619047619047619, 0.7142857142857143, 0.5714285714285714, 0.5714285714285714, 0.5714285714285714, 0.7619047619047619, 0.8095238095238095], \"yaxis\": \"y\", \"type\": \"scatter\"}], \"name\": \"22\"}, {\"data\": [{\"hoverlabel\": {\"namelength\": 0}, \"hovertemplate\": \"<b>%{hovertext}</b><br><br>Length=19<br>Age=%{x}<br>%Homochirality=%{y}\", \"hovertext\": [0.8888888888888888, 0.5, 0.5, 0.7777777777777778, 0.5, 0.2222222222222222, 0.4444444444444444, 0.6111111111111112, 0.5, 0.5555555555555556, 0.7222222222222222, 0.5], \"legendgroup\": \"\", \"marker\": {\"color\": \"#636efa\", \"symbol\": \"circle\"}, \"mode\": \"markers\", \"name\": \"\", \"showlegend\": false, \"x\": [7, 8, 9, 9, 10, 12, 14, 15, 19, 20, 22, 34], \"xaxis\": \"x\", \"y\": [0.8888888888888888, 0.5, 0.5, 0.7777777777777778, 0.5, 0.2222222222222222, 0.4444444444444444, 0.6111111111111112, 0.5, 0.5555555555555556, 0.7222222222222222, 0.5], \"yaxis\": \"y\", \"type\": \"scatter\"}], \"name\": \"19\"}, {\"data\": [{\"hoverlabel\": {\"namelength\": 0}, \"hovertemplate\": \"<b>%{hovertext}</b><br><br>Length=23<br>Age=%{x}<br>%Homochirality=%{y}\", \"hovertext\": [0.6363636363636364, 0.6363636363636364, 0.5, 0.2727272727272727, 0.5, 0.6818181818181818, 0.6363636363636364, 0.6818181818181818, 0.5, 0.7272727272727273, 0.6818181818181818], \"legendgroup\": \"\", \"marker\": {\"color\": \"#636efa\", \"symbol\": \"circle\"}, \"mode\": \"markers\", \"name\": \"\", \"showlegend\": false, \"x\": [8, 8, 10, 13, 14, 14, 15, 21, 26, 26, 28], \"xaxis\": \"x\", \"y\": [0.6363636363636364, 0.6363636363636364, 0.5, 0.2727272727272727, 0.5, 0.6818181818181818, 0.6363636363636364, 0.6818181818181818, 0.5, 0.7272727272727273, 0.6818181818181818], \"yaxis\": \"y\", \"type\": \"scatter\"}], \"name\": \"23\"}, {\"data\": [{\"hoverlabel\": {\"namelength\": 0}, \"hovertemplate\": \"<b>%{hovertext}</b><br><br>Length=24<br>Age=%{x}<br>%Homochirality=%{y}\", \"hovertext\": [0.5652173913043478, 0.43478260869565216, 0.6086956521739131, 0.6956521739130435, 0.5652173913043478, 0.6956521739130435, 0.5652173913043478, 0.6956521739130435, 0.6956521739130435, 0.7826086956521741], \"legendgroup\": \"\", \"marker\": {\"color\": \"#636efa\", \"symbol\": \"circle\"}, \"mode\": \"markers\", \"name\": \"\", \"showlegend\": false, \"x\": [8, 10, 18, 19, 23, 23, 25, 25, 29, 40], \"xaxis\": \"x\", \"y\": [0.5652173913043478, 0.43478260869565216, 0.6086956521739131, 0.6956521739130435, 0.5652173913043478, 0.6956521739130435, 0.5652173913043478, 0.6956521739130435, 0.6956521739130435, 0.7826086956521741], \"yaxis\": \"y\", \"type\": \"scatter\"}], \"name\": \"24\"}, {\"data\": [{\"hoverlabel\": {\"namelength\": 0}, \"hovertemplate\": \"<b>%{hovertext}</b><br><br>Length=25<br>Age=%{x}<br>%Homochirality=%{y}\", \"hovertext\": [0.5833333333333334, 0.7083333333333334, 0.6666666666666666, 0.7083333333333334], \"legendgroup\": \"\", \"marker\": {\"color\": \"#636efa\", \"symbol\": \"circle\"}, \"mode\": \"markers\", \"name\": \"\", \"showlegend\": false, \"x\": [9, 28, 30, 32], \"xaxis\": \"x\", \"y\": [0.5833333333333334, 0.7083333333333334, 0.6666666666666666, 0.7083333333333334], \"yaxis\": \"y\", \"type\": \"scatter\"}], \"name\": \"25\"}, {\"data\": [{\"hoverlabel\": {\"namelength\": 0}, \"hovertemplate\": \"<b>%{hovertext}</b><br><br>Length=26<br>Age=%{x}<br>%Homochirality=%{y}\", \"hovertext\": [0.6, 0.64, 0.56, 0.6, 0.32, 0.56, 0.56, 0.64, 0.72], \"legendgroup\": \"\", \"marker\": {\"color\": \"#636efa\", \"symbol\": \"circle\"}, \"mode\": \"markers\", \"name\": \"\", \"showlegend\": false, \"x\": [9, 13, 13, 14, 14, 14, 18, 20, 23], \"xaxis\": \"x\", \"y\": [0.6, 0.64, 0.56, 0.6, 0.32, 0.56, 0.56, 0.64, 0.72], \"yaxis\": \"y\", \"type\": \"scatter\"}], \"name\": \"26\"}, {\"data\": [{\"hoverlabel\": {\"namelength\": 0}, \"hovertemplate\": \"<b>%{hovertext}</b><br><br>Length=33<br>Age=%{x}<br>%Homochirality=%{y}\", \"hovertext\": [0.59375, 0.5625, 0.6875, 0.5625, 0.5], \"legendgroup\": \"\", \"marker\": {\"color\": \"#636efa\", \"symbol\": \"circle\"}, \"mode\": \"markers\", \"name\": \"\", \"showlegend\": false, \"x\": [10, 11, 15, 16, 17], \"xaxis\": \"x\", \"y\": [0.59375, 0.5625, 0.6875, 0.5625, 0.5], \"yaxis\": \"y\", \"type\": \"scatter\"}], \"name\": \"33\"}, {\"data\": [{\"hoverlabel\": {\"namelength\": 0}, \"hovertemplate\": \"<b>%{hovertext}</b><br><br>Length=29<br>Age=%{x}<br>%Homochirality=%{y}\", \"hovertext\": [0.5714285714285714, 0.5, 0.75, 0.6071428571428571, 0.6071428571428571, 0.7142857142857143], \"legendgroup\": \"\", \"marker\": {\"color\": \"#636efa\", \"symbol\": \"circle\"}, \"mode\": \"markers\", \"name\": \"\", \"showlegend\": false, \"x\": [10, 14, 15, 20, 22, 23], \"xaxis\": \"x\", \"y\": [0.5714285714285714, 0.5, 0.75, 0.6071428571428571, 0.6071428571428571, 0.7142857142857143], \"yaxis\": \"y\", \"type\": \"scatter\"}], \"name\": \"29\"}, {\"data\": [{\"hoverlabel\": {\"namelength\": 0}, \"hovertemplate\": \"<b>%{hovertext}</b><br><br>Length=28<br>Age=%{x}<br>%Homochirality=%{y}\", \"hovertext\": [0.5555555555555556, 0.7407407407407407, 0.5925925925925926, 0.5185185185185185, 0.5185185185185185, 0.7407407407407407, 0.5555555555555556, 0.5925925925925926, 0.5925925925925926, 0.5555555555555556, 0.7407407407407407, 0.7407407407407407], \"legendgroup\": \"\", \"marker\": {\"color\": \"#636efa\", \"symbol\": \"circle\"}, \"mode\": \"markers\", \"name\": \"\", \"showlegend\": false, \"x\": [11, 12, 13, 13, 14, 14, 19, 19, 21, 23, 24, 25], \"xaxis\": \"x\", \"y\": [0.5555555555555556, 0.7407407407407407, 0.5925925925925926, 0.5185185185185185, 0.5185185185185185, 0.7407407407407407, 0.5555555555555556, 0.5925925925925926, 0.5925925925925926, 0.5555555555555556, 0.7407407407407407, 0.7407407407407407], \"yaxis\": \"y\", \"type\": \"scatter\"}], \"name\": \"28\"}, {\"data\": [{\"hoverlabel\": {\"namelength\": 0}, \"hovertemplate\": \"<b>%{hovertext}</b><br><br>Length=43<br>Age=%{x}<br>%Homochirality=%{y}\", \"hovertext\": [0.5238095238095238, 0.5714285714285714, 0.5476190476190477, 0.5, 0.5952380952380952], \"legendgroup\": \"\", \"marker\": {\"color\": \"#636efa\", \"symbol\": \"circle\"}, \"mode\": \"markers\", \"name\": \"\", \"showlegend\": false, \"x\": [11, 11, 15, 16, 27], \"xaxis\": \"x\", \"y\": [0.5238095238095238, 0.5714285714285714, 0.5476190476190477, 0.5, 0.5952380952380952], \"yaxis\": \"y\", \"type\": \"scatter\"}], \"name\": \"43\"}, {\"data\": [{\"hoverlabel\": {\"namelength\": 0}, \"hovertemplate\": \"<b>%{hovertext}</b><br><br>Length=44<br>Age=%{x}<br>%Homochirality=%{y}\", \"hovertext\": [0.5581395348837209, 0.5348837209302325, 0.5581395348837209], \"legendgroup\": \"\", \"marker\": {\"color\": \"#636efa\", \"symbol\": \"circle\"}, \"mode\": \"markers\", \"name\": \"\", \"showlegend\": false, \"x\": [12, 12, 15], \"xaxis\": \"x\", \"y\": [0.5581395348837209, 0.5348837209302325, 0.5581395348837209], \"yaxis\": \"y\", \"type\": \"scatter\"}], \"name\": \"44\"}, {\"data\": [{\"hoverlabel\": {\"namelength\": 0}, \"hovertemplate\": \"<b>%{hovertext}</b><br><br>Length=27<br>Age=%{x}<br>%Homochirality=%{y}\", \"hovertext\": [0.5769230769230769, 0.3076923076923077, 0.5769230769230769, 0.5384615384615384, 0.5384615384615384, 0.7307692307692307, 0.5769230769230769], \"legendgroup\": \"\", \"marker\": {\"color\": \"#636efa\", \"symbol\": \"circle\"}, \"mode\": \"markers\", \"name\": \"\", \"showlegend\": false, \"x\": [12, 15, 17, 18, 22, 24, 26], \"xaxis\": \"x\", \"y\": [0.5769230769230769, 0.3076923076923077, 0.5769230769230769, 0.5384615384615384, 0.5384615384615384, 0.7307692307692307, 0.5769230769230769], \"yaxis\": \"y\", \"type\": \"scatter\"}], \"name\": \"27\"}, {\"data\": [{\"hoverlabel\": {\"namelength\": 0}, \"hovertemplate\": \"<b>%{hovertext}</b><br><br>Length=41<br>Age=%{x}<br>%Homochirality=%{y}\", \"hovertext\": [0.575, 0.575, 0.55], \"legendgroup\": \"\", \"marker\": {\"color\": \"#636efa\", \"symbol\": \"circle\"}, \"mode\": \"markers\", \"name\": \"\", \"showlegend\": false, \"x\": [12, 14, 18], \"xaxis\": \"x\", \"y\": [0.575, 0.575, 0.55], \"yaxis\": \"y\", \"type\": \"scatter\"}], \"name\": \"41\"}, {\"data\": [{\"hoverlabel\": {\"namelength\": 0}, \"hovertemplate\": \"<b>%{hovertext}</b><br><br>Length=54<br>Age=%{x}<br>%Homochirality=%{y}\", \"hovertext\": [0.5660377358490566, 0.660377358490566, 0.6037735849056604], \"legendgroup\": \"\", \"marker\": {\"color\": \"#636efa\", \"symbol\": \"circle\"}, \"mode\": \"markers\", \"name\": \"\", \"showlegend\": false, \"x\": [13, 18, 27], \"xaxis\": \"x\", \"y\": [0.5660377358490566, 0.660377358490566, 0.6037735849056604], \"yaxis\": \"y\", \"type\": \"scatter\"}], \"name\": \"54\"}, {\"data\": [{\"hoverlabel\": {\"namelength\": 0}, \"hovertemplate\": \"<b>%{hovertext}</b><br><br>Length=37<br>Age=%{x}<br>%Homochirality=%{y}\", \"hovertext\": [0.6944444444444444, 0.6666666666666666, 0.4722222222222222], \"legendgroup\": \"\", \"marker\": {\"color\": \"#636efa\", \"symbol\": \"circle\"}, \"mode\": \"markers\", \"name\": \"\", \"showlegend\": false, \"x\": [13, 13, 34], \"xaxis\": \"x\", \"y\": [0.6944444444444444, 0.6666666666666666, 0.4722222222222222], \"yaxis\": \"y\", \"type\": \"scatter\"}], \"name\": \"37\"}, {\"data\": [{\"hoverlabel\": {\"namelength\": 0}, \"hovertemplate\": \"<b>%{hovertext}</b><br><br>Length=30<br>Age=%{x}<br>%Homochirality=%{y}\", \"hovertext\": [0.6551724137931034, 0.5517241379310345, 0.5517241379310345, 0.6206896551724138, 0.5517241379310345, 0.5517241379310345, 0.5517241379310345], \"legendgroup\": \"\", \"marker\": {\"color\": \"#636efa\", \"symbol\": \"circle\"}, \"mode\": \"markers\", \"name\": \"\", \"showlegend\": false, \"x\": [13, 14, 15, 30, 30, 31, 32], \"xaxis\": \"x\", \"y\": [0.6551724137931034, 0.5517241379310345, 0.5517241379310345, 0.6206896551724138, 0.5517241379310345, 0.5517241379310345, 0.5517241379310345], \"yaxis\": \"y\", \"type\": \"scatter\"}], \"name\": \"30\"}, {\"data\": [{\"hoverlabel\": {\"namelength\": 0}, \"hovertemplate\": \"<b>%{hovertext}</b><br><br>Length=65<br>Age=%{x}<br>%Homochirality=%{y}\", \"hovertext\": [0.625], \"legendgroup\": \"\", \"marker\": {\"color\": \"#636efa\", \"symbol\": \"circle\"}, \"mode\": \"markers\", \"name\": \"\", \"showlegend\": false, \"x\": [14], \"xaxis\": \"x\", \"y\": [0.625], \"yaxis\": \"y\", \"type\": \"scatter\"}], \"name\": \"65\"}, {\"data\": [{\"hoverlabel\": {\"namelength\": 0}, \"hovertemplate\": \"<b>%{hovertext}</b><br><br>Length=32<br>Age=%{x}<br>%Homochirality=%{y}\", \"hovertext\": [0.6774193548387096, 0.5483870967741935, 0.6129032258064516, 0.8387096774193549, 0.6774193548387096, 0.5161290322580645], \"legendgroup\": \"\", \"marker\": {\"color\": \"#636efa\", \"symbol\": \"circle\"}, \"mode\": \"markers\", \"name\": \"\", \"showlegend\": false, \"x\": [14, 20, 21, 25, 30, 36], \"xaxis\": \"x\", \"y\": [0.6774193548387096, 0.5483870967741935, 0.6129032258064516, 0.8387096774193549, 0.6774193548387096, 0.5161290322580645], \"yaxis\": \"y\", \"type\": \"scatter\"}], \"name\": \"32\"}, {\"data\": [{\"hoverlabel\": {\"namelength\": 0}, \"hovertemplate\": \"<b>%{hovertext}</b><br><br>Length=66<br>Age=%{x}<br>%Homochirality=%{y}\", \"hovertext\": [0.6153846153846154, 0.5692307692307692, 0.6153846153846154], \"legendgroup\": \"\", \"marker\": {\"color\": \"#636efa\", \"symbol\": \"circle\"}, \"mode\": \"markers\", \"name\": \"\", \"showlegend\": false, \"x\": [15, 16, 19], \"xaxis\": \"x\", \"y\": [0.6153846153846154, 0.5692307692307692, 0.6153846153846154], \"yaxis\": \"y\", \"type\": \"scatter\"}], \"name\": \"66\"}, {\"data\": [{\"hoverlabel\": {\"namelength\": 0}, \"hovertemplate\": \"<b>%{hovertext}</b><br><br>Length=47<br>Age=%{x}<br>%Homochirality=%{y}\", \"hovertext\": [0.5869565217391305, 0.7826086956521741], \"legendgroup\": \"\", \"marker\": {\"color\": \"#636efa\", \"symbol\": \"circle\"}, \"mode\": \"markers\", \"name\": \"\", \"showlegend\": false, \"x\": [15, 31], \"xaxis\": \"x\", \"y\": [0.5869565217391305, 0.7826086956521741], \"yaxis\": \"y\", \"type\": \"scatter\"}], \"name\": \"47\"}, {\"data\": [{\"hoverlabel\": {\"namelength\": 0}, \"hovertemplate\": \"<b>%{hovertext}</b><br><br>Length=36<br>Age=%{x}<br>%Homochirality=%{y}\", \"hovertext\": [0.6285714285714286, 0.6, 0.5428571428571428], \"legendgroup\": \"\", \"marker\": {\"color\": \"#636efa\", \"symbol\": \"circle\"}, \"mode\": \"markers\", \"name\": \"\", \"showlegend\": false, \"x\": [15, 19, 28], \"xaxis\": \"x\", \"y\": [0.6285714285714286, 0.6, 0.5428571428571428], \"yaxis\": \"y\", \"type\": \"scatter\"}], \"name\": \"36\"}, {\"data\": [{\"hoverlabel\": {\"namelength\": 0}, \"hovertemplate\": \"<b>%{hovertext}</b><br><br>Length=42<br>Age=%{x}<br>%Homochirality=%{y}\", \"hovertext\": [0.4878048780487805, 0.6341463414634146, 0.6585365853658537, 0.5365853658536586, 0.5365853658536586], \"legendgroup\": \"\", \"marker\": {\"color\": \"#636efa\", \"symbol\": \"circle\"}, \"mode\": \"markers\", \"name\": \"\", \"showlegend\": false, \"x\": [15, 18, 21, 37, 38], \"xaxis\": \"x\", \"y\": [0.4878048780487805, 0.6341463414634146, 0.6585365853658537, 0.5365853658536586, 0.5365853658536586], \"yaxis\": \"y\", \"type\": \"scatter\"}], \"name\": \"42\"}, {\"data\": [{\"hoverlabel\": {\"namelength\": 0}, \"hovertemplate\": \"<b>%{hovertext}</b><br><br>Length=31<br>Age=%{x}<br>%Homochirality=%{y}\", \"hovertext\": [0.6, 0.7, 0.7, 0.7, 0.5333333333333333], \"legendgroup\": \"\", \"marker\": {\"color\": \"#636efa\", \"symbol\": \"circle\"}, \"mode\": \"markers\", \"name\": \"\", \"showlegend\": false, \"x\": [15, 16, 26, 31, 35], \"xaxis\": \"x\", \"y\": [0.6, 0.7, 0.7, 0.7, 0.5333333333333333], \"yaxis\": \"y\", \"type\": \"scatter\"}], \"name\": \"31\"}, {\"data\": [{\"hoverlabel\": {\"namelength\": 0}, \"hovertemplate\": \"<b>%{hovertext}</b><br><br>Length=67<br>Age=%{x}<br>%Homochirality=%{y}\", \"hovertext\": [0.6060606060606061, 0.6666666666666666, 0.7727272727272727, 0.7727272727272727], \"legendgroup\": \"\", \"marker\": {\"color\": \"#636efa\", \"symbol\": \"circle\"}, \"mode\": \"markers\", \"name\": \"\", \"showlegend\": false, \"x\": [16, 19, 28, 33], \"xaxis\": \"x\", \"y\": [0.6060606060606061, 0.6666666666666666, 0.7727272727272727, 0.7727272727272727], \"yaxis\": \"y\", \"type\": \"scatter\"}], \"name\": \"67\"}, {\"data\": [{\"hoverlabel\": {\"namelength\": 0}, \"hovertemplate\": \"<b>%{hovertext}</b><br><br>Length=52<br>Age=%{x}<br>%Homochirality=%{y}\", \"hovertext\": [0.6470588235294118, 0.5294117647058824, 0.6078431372549019, 0.8235294117647058], \"legendgroup\": \"\", \"marker\": {\"color\": \"#636efa\", \"symbol\": \"circle\"}, \"mode\": \"markers\", \"name\": \"\", \"showlegend\": false, \"x\": [16, 16, 24, 34], \"xaxis\": \"x\", \"y\": [0.6470588235294118, 0.5294117647058824, 0.6078431372549019, 0.8235294117647058], \"yaxis\": \"y\", \"type\": \"scatter\"}], \"name\": \"52\"}, {\"data\": [{\"hoverlabel\": {\"namelength\": 0}, \"hovertemplate\": \"<b>%{hovertext}</b><br><br>Length=48<br>Age=%{x}<br>%Homochirality=%{y}\", \"hovertext\": [0.4893617021276596], \"legendgroup\": \"\", \"marker\": {\"color\": \"#636efa\", \"symbol\": \"circle\"}, \"mode\": \"markers\", \"name\": \"\", \"showlegend\": false, \"x\": [16], \"xaxis\": \"x\", \"y\": [0.4893617021276596], \"yaxis\": \"y\", \"type\": \"scatter\"}], \"name\": \"48\"}, {\"data\": [{\"hoverlabel\": {\"namelength\": 0}, \"hovertemplate\": \"<b>%{hovertext}</b><br><br>Length=39<br>Age=%{x}<br>%Homochirality=%{y}\", \"hovertext\": [0.5789473684210527, 0.5526315789473685, 0.6842105263157895, 0.5789473684210527], \"legendgroup\": \"\", \"marker\": {\"color\": \"#636efa\", \"symbol\": \"circle\"}, \"mode\": \"markers\", \"name\": \"\", \"showlegend\": false, \"x\": [16, 22, 23, 26], \"xaxis\": \"x\", \"y\": [0.5789473684210527, 0.5526315789473685, 0.6842105263157895, 0.5789473684210527], \"yaxis\": \"y\", \"type\": \"scatter\"}], \"name\": \"39\"}, {\"data\": [{\"hoverlabel\": {\"namelength\": 0}, \"hovertemplate\": \"<b>%{hovertext}</b><br><br>Length=64<br>Age=%{x}<br>%Homochirality=%{y}\", \"hovertext\": [0.6190476190476191, 0.492063492063492, 0.7619047619047619, 0.8095238095238095], \"legendgroup\": \"\", \"marker\": {\"color\": \"#636efa\", \"symbol\": \"circle\"}, \"mode\": \"markers\", \"name\": \"\", \"showlegend\": false, \"x\": [16, 21, 32, 37], \"xaxis\": \"x\", \"y\": [0.6190476190476191, 0.492063492063492, 0.7619047619047619, 0.8095238095238095], \"yaxis\": \"y\", \"type\": \"scatter\"}], \"name\": \"64\"}, {\"data\": [{\"hoverlabel\": {\"namelength\": 0}, \"hovertemplate\": \"<b>%{hovertext}</b><br><br>Length=51<br>Age=%{x}<br>%Homochirality=%{y}\", \"hovertext\": [0.68, 0.84], \"legendgroup\": \"\", \"marker\": {\"color\": \"#636efa\", \"symbol\": \"circle\"}, \"mode\": \"markers\", \"name\": \"\", \"showlegend\": false, \"x\": [17, 35], \"xaxis\": \"x\", \"y\": [0.68, 0.84], \"yaxis\": \"y\", \"type\": \"scatter\"}], \"name\": \"51\"}, {\"data\": [{\"hoverlabel\": {\"namelength\": 0}, \"hovertemplate\": \"<b>%{hovertext}</b><br><br>Length=100<br>Age=%{x}<br>%Homochirality=%{y}\", \"hovertext\": [0.5959595959595959, 0.6666666666666666], \"legendgroup\": \"\", \"marker\": {\"color\": \"#636efa\", \"symbol\": \"circle\"}, \"mode\": \"markers\", \"name\": \"\", \"showlegend\": false, \"x\": [17, 26], \"xaxis\": \"x\", \"y\": [0.5959595959595959, 0.6666666666666666], \"yaxis\": \"y\", \"type\": \"scatter\"}], \"name\": \"100\"}, {\"data\": [{\"hoverlabel\": {\"namelength\": 0}, \"hovertemplate\": \"<b>%{hovertext}</b><br><br>Length=55<br>Age=%{x}<br>%Homochirality=%{y}\", \"hovertext\": [0.5185185185185185], \"legendgroup\": \"\", \"marker\": {\"color\": \"#636efa\", \"symbol\": \"circle\"}, \"mode\": \"markers\", \"name\": \"\", \"showlegend\": false, \"x\": [17], \"xaxis\": \"x\", \"y\": [0.5185185185185185], \"yaxis\": \"y\", \"type\": \"scatter\"}], \"name\": \"55\"}, {\"data\": [{\"hoverlabel\": {\"namelength\": 0}, \"hovertemplate\": \"<b>%{hovertext}</b><br><br>Length=77<br>Age=%{x}<br>%Homochirality=%{y}\", \"hovertext\": [0.6052631578947368, 0.5263157894736842, 0.5394736842105263], \"legendgroup\": \"\", \"marker\": {\"color\": \"#636efa\", \"symbol\": \"circle\"}, \"mode\": \"markers\", \"name\": \"\", \"showlegend\": false, \"x\": [17, 19, 22], \"xaxis\": \"x\", \"y\": [0.6052631578947368, 0.5263157894736842, 0.5394736842105263], \"yaxis\": \"y\", \"type\": \"scatter\"}], \"name\": \"77\"}, {\"data\": [{\"hoverlabel\": {\"namelength\": 0}, \"hovertemplate\": \"<b>%{hovertext}</b><br><br>Length=82<br>Age=%{x}<br>%Homochirality=%{y}\", \"hovertext\": [0.5802469135802469, 0.5555555555555556], \"legendgroup\": \"\", \"marker\": {\"color\": \"#636efa\", \"symbol\": \"circle\"}, \"mode\": \"markers\", \"name\": \"\", \"showlegend\": false, \"x\": [17, 23], \"xaxis\": \"x\", \"y\": [0.5802469135802469, 0.5555555555555556], \"yaxis\": \"y\", \"type\": \"scatter\"}], \"name\": \"82\"}, {\"data\": [{\"hoverlabel\": {\"namelength\": 0}, \"hovertemplate\": \"<b>%{hovertext}</b><br><br>Length=50<br>Age=%{x}<br>%Homochirality=%{y}\", \"hovertext\": [0.6530612244897959, 0.5306122448979592], \"legendgroup\": \"\", \"marker\": {\"color\": \"#636efa\", \"symbol\": \"circle\"}, \"mode\": \"markers\", \"name\": \"\", \"showlegend\": false, \"x\": [17, 18], \"xaxis\": \"x\", \"y\": [0.6530612244897959, 0.5306122448979592], \"yaxis\": \"y\", \"type\": \"scatter\"}], \"name\": \"50\"}, {\"data\": [{\"hoverlabel\": {\"namelength\": 0}, \"hovertemplate\": \"<b>%{hovertext}</b><br><br>Length=35<br>Age=%{x}<br>%Homochirality=%{y}\", \"hovertext\": [0.6176470588235294, 0.5882352941176471, 0.5588235294117647], \"legendgroup\": \"\", \"marker\": {\"color\": \"#636efa\", \"symbol\": \"circle\"}, \"mode\": \"markers\", \"name\": \"\", \"showlegend\": false, \"x\": [17, 18, 29], \"xaxis\": \"x\", \"y\": [0.6176470588235294, 0.5882352941176471, 0.5588235294117647], \"yaxis\": \"y\", \"type\": \"scatter\"}], \"name\": \"35\"}, {\"data\": [{\"hoverlabel\": {\"namelength\": 0}, \"hovertemplate\": \"<b>%{hovertext}</b><br><br>Length=133<br>Age=%{x}<br>%Homochirality=%{y}\", \"hovertext\": [0.6212121212121212], \"legendgroup\": \"\", \"marker\": {\"color\": \"#636efa\", \"symbol\": \"circle\"}, \"mode\": \"markers\", \"name\": \"\", \"showlegend\": false, \"x\": [18], \"xaxis\": \"x\", \"y\": [0.6212121212121212], \"yaxis\": \"y\", \"type\": \"scatter\"}], \"name\": \"133\"}, {\"data\": [{\"hoverlabel\": {\"namelength\": 0}, \"hovertemplate\": \"<b>%{hovertext}</b><br><br>Length=105<br>Age=%{x}<br>%Homochirality=%{y}\", \"hovertext\": [0.6057692307692307], \"legendgroup\": \"\", \"marker\": {\"color\": \"#636efa\", \"symbol\": \"circle\"}, \"mode\": \"markers\", \"name\": \"\", \"showlegend\": false, \"x\": [18], \"xaxis\": \"x\", \"y\": [0.6057692307692307], \"yaxis\": \"y\", \"type\": \"scatter\"}], \"name\": \"105\"}, {\"data\": [{\"hoverlabel\": {\"namelength\": 0}, \"hovertemplate\": \"<b>%{hovertext}</b><br><br>Length=34<br>Age=%{x}<br>%Homochirality=%{y}\", \"hovertext\": [0.4848484848484849, 0.5757575757575758], \"legendgroup\": \"\", \"marker\": {\"color\": \"#636efa\", \"symbol\": \"circle\"}, \"mode\": \"markers\", \"name\": \"\", \"showlegend\": false, \"x\": [18, 24], \"xaxis\": \"x\", \"y\": [0.4848484848484849, 0.5757575757575758], \"yaxis\": \"y\", \"type\": \"scatter\"}], \"name\": \"34\"}, {\"data\": [{\"hoverlabel\": {\"namelength\": 0}, \"hovertemplate\": \"<b>%{hovertext}</b><br><br>Length=141<br>Age=%{x}<br>%Homochirality=%{y}\", \"hovertext\": [0.6], \"legendgroup\": \"\", \"marker\": {\"color\": \"#636efa\", \"symbol\": \"circle\"}, \"mode\": \"markers\", \"name\": \"\", \"showlegend\": false, \"x\": [19], \"xaxis\": \"x\", \"y\": [0.6], \"yaxis\": \"y\", \"type\": \"scatter\"}], \"name\": \"141\"}, {\"data\": [{\"hoverlabel\": {\"namelength\": 0}, \"hovertemplate\": \"<b>%{hovertext}</b><br><br>Length=115<br>Age=%{x}<br>%Homochirality=%{y}\", \"hovertext\": [0.6052631578947368, 0.6052631578947368, 0.6228070175438597], \"legendgroup\": \"\", \"marker\": {\"color\": \"#636efa\", \"symbol\": \"circle\"}, \"mode\": \"markers\", \"name\": \"\", \"showlegend\": false, \"x\": [19, 22, 24], \"xaxis\": \"x\", \"y\": [0.6052631578947368, 0.6052631578947368, 0.6228070175438597], \"yaxis\": \"y\", \"type\": \"scatter\"}], \"name\": \"115\"}, {\"data\": [{\"hoverlabel\": {\"namelength\": 0}, \"hovertemplate\": \"<b>%{hovertext}</b><br><br>Length=147<br>Age=%{x}<br>%Homochirality=%{y}\", \"hovertext\": [0.6164383561643836], \"legendgroup\": \"\", \"marker\": {\"color\": \"#636efa\", \"symbol\": \"circle\"}, \"mode\": \"markers\", \"name\": \"\", \"showlegend\": false, \"x\": [20], \"xaxis\": \"x\", \"y\": [0.6164383561643836], \"yaxis\": \"y\", \"type\": \"scatter\"}], \"name\": \"147\"}, {\"data\": [{\"hoverlabel\": {\"namelength\": 0}, \"hovertemplate\": \"<b>%{hovertext}</b><br><br>Length=70<br>Age=%{x}<br>%Homochirality=%{y}\", \"hovertext\": [0.6666666666666666], \"legendgroup\": \"\", \"marker\": {\"color\": \"#636efa\", \"symbol\": \"circle\"}, \"mode\": \"markers\", \"name\": \"\", \"showlegend\": false, \"x\": [20], \"xaxis\": \"x\", \"y\": [0.6666666666666666], \"yaxis\": \"y\", \"type\": \"scatter\"}], \"name\": \"70\"}, {\"data\": [{\"hoverlabel\": {\"namelength\": 0}, \"hovertemplate\": \"<b>%{hovertext}</b><br><br>Length=79<br>Age=%{x}<br>%Homochirality=%{y}\", \"hovertext\": [0.5897435897435898], \"legendgroup\": \"\", \"marker\": {\"color\": \"#636efa\", \"symbol\": \"circle\"}, \"mode\": \"markers\", \"name\": \"\", \"showlegend\": false, \"x\": [20], \"xaxis\": \"x\", \"y\": [0.5897435897435898], \"yaxis\": \"y\", \"type\": \"scatter\"}], \"name\": \"79\"}, {\"data\": [{\"hoverlabel\": {\"namelength\": 0}, \"hovertemplate\": \"<b>%{hovertext}</b><br><br>Length=114<br>Age=%{x}<br>%Homochirality=%{y}\", \"hovertext\": [0.6106194690265486, 0.6194690265486725], \"legendgroup\": \"\", \"marker\": {\"color\": \"#636efa\", \"symbol\": \"circle\"}, \"mode\": \"markers\", \"name\": \"\", \"showlegend\": false, \"x\": [20, 23], \"xaxis\": \"x\", \"y\": [0.6106194690265486, 0.6194690265486725], \"yaxis\": \"y\", \"type\": \"scatter\"}], \"name\": \"114\"}, {\"data\": [{\"hoverlabel\": {\"namelength\": 0}, \"hovertemplate\": \"<b>%{hovertext}</b><br><br>Length=61<br>Age=%{x}<br>%Homochirality=%{y}\", \"hovertext\": [0.5], \"legendgroup\": \"\", \"marker\": {\"color\": \"#636efa\", \"symbol\": \"circle\"}, \"mode\": \"markers\", \"name\": \"\", \"showlegend\": false, \"x\": [20], \"xaxis\": \"x\", \"y\": [0.5], \"yaxis\": \"y\", \"type\": \"scatter\"}], \"name\": \"61\"}, {\"data\": [{\"hoverlabel\": {\"namelength\": 0}, \"hovertemplate\": \"<b>%{hovertext}</b><br><br>Length=38<br>Age=%{x}<br>%Homochirality=%{y}\", \"hovertext\": [0.5675675675675675, 0.4864864864864865], \"legendgroup\": \"\", \"marker\": {\"color\": \"#636efa\", \"symbol\": \"circle\"}, \"mode\": \"markers\", \"name\": \"\", \"showlegend\": false, \"x\": [21, 33], \"xaxis\": \"x\", \"y\": [0.5675675675675675, 0.4864864864864865], \"yaxis\": \"y\", \"type\": \"scatter\"}], \"name\": \"38\"}, {\"data\": [{\"hoverlabel\": {\"namelength\": 0}, \"hovertemplate\": \"<b>%{hovertext}</b><br><br>Length=119<br>Age=%{x}<br>%Homochirality=%{y}\", \"hovertext\": [0.6101694915254238], \"legendgroup\": \"\", \"marker\": {\"color\": \"#636efa\", \"symbol\": \"circle\"}, \"mode\": \"markers\", \"name\": \"\", \"showlegend\": false, \"x\": [21], \"xaxis\": \"x\", \"y\": [0.6101694915254238], \"yaxis\": \"y\", \"type\": \"scatter\"}], \"name\": \"119\"}, {\"data\": [{\"hoverlabel\": {\"namelength\": 0}, \"hovertemplate\": \"<b>%{hovertext}</b><br><br>Length=140<br>Age=%{x}<br>%Homochirality=%{y}\", \"hovertext\": [0.5971223021582733], \"legendgroup\": \"\", \"marker\": {\"color\": \"#636efa\", \"symbol\": \"circle\"}, \"mode\": \"markers\", \"name\": \"\", \"showlegend\": false, \"x\": [21], \"xaxis\": \"x\", \"y\": [0.5971223021582733], \"yaxis\": \"y\", \"type\": \"scatter\"}], \"name\": \"140\"}, {\"data\": [{\"hoverlabel\": {\"namelength\": 0}, \"hovertemplate\": \"<b>%{hovertext}</b><br><br>Length=73<br>Age=%{x}<br>%Homochirality=%{y}\", \"hovertext\": [0.6805555555555556], \"legendgroup\": \"\", \"marker\": {\"color\": \"#636efa\", \"symbol\": \"circle\"}, \"mode\": \"markers\", \"name\": \"\", \"showlegend\": false, \"x\": [21], \"xaxis\": \"x\", \"y\": [0.6805555555555556], \"yaxis\": \"y\", \"type\": \"scatter\"}], \"name\": \"73\"}, {\"data\": [{\"hoverlabel\": {\"namelength\": 0}, \"hovertemplate\": \"<b>%{hovertext}</b><br><br>Length=83<br>Age=%{x}<br>%Homochirality=%{y}\", \"hovertext\": [0.5975609756097561], \"legendgroup\": \"\", \"marker\": {\"color\": \"#636efa\", \"symbol\": \"circle\"}, \"mode\": \"markers\", \"name\": \"\", \"showlegend\": false, \"x\": [21], \"xaxis\": \"x\", \"y\": [0.5975609756097561], \"yaxis\": \"y\", \"type\": \"scatter\"}], \"name\": \"83\"}, {\"data\": [{\"hoverlabel\": {\"namelength\": 0}, \"hovertemplate\": \"<b>%{hovertext}</b><br><br>Length=113<br>Age=%{x}<br>%Homochirality=%{y}\", \"hovertext\": [0.6160714285714286], \"legendgroup\": \"\", \"marker\": {\"color\": \"#636efa\", \"symbol\": \"circle\"}, \"mode\": \"markers\", \"name\": \"\", \"showlegend\": false, \"x\": [22], \"xaxis\": \"x\", \"y\": [0.6160714285714286], \"yaxis\": \"y\", \"type\": \"scatter\"}], \"name\": \"113\"}, {\"data\": [{\"hoverlabel\": {\"namelength\": 0}, \"hovertemplate\": \"<b>%{hovertext}</b><br><br>Length=49<br>Age=%{x}<br>%Homochirality=%{y}\", \"hovertext\": [0.6875, 0.6041666666666666], \"legendgroup\": \"\", \"marker\": {\"color\": \"#636efa\", \"symbol\": \"circle\"}, \"mode\": \"markers\", \"name\": \"\", \"showlegend\": false, \"x\": [22, 25], \"xaxis\": \"x\", \"y\": [0.6875, 0.6041666666666666], \"yaxis\": \"y\", \"type\": \"scatter\"}], \"name\": \"49\"}, {\"data\": [{\"hoverlabel\": {\"namelength\": 0}, \"hovertemplate\": \"<b>%{hovertext}</b><br><br>Length=120<br>Age=%{x}<br>%Homochirality=%{y}\", \"hovertext\": [0.6050420168067226], \"legendgroup\": \"\", \"marker\": {\"color\": \"#636efa\", \"symbol\": \"circle\"}, \"mode\": \"markers\", \"name\": \"\", \"showlegend\": false, \"x\": [22], \"xaxis\": \"x\", \"y\": [0.6050420168067226], \"yaxis\": \"y\", \"type\": \"scatter\"}], \"name\": \"120\"}, {\"data\": [{\"hoverlabel\": {\"namelength\": 0}, \"hovertemplate\": \"<b>%{hovertext}</b><br><br>Length=63<br>Age=%{x}<br>%Homochirality=%{y}\", \"hovertext\": [0.6774193548387096, 0.6612903225806451, 0.7741935483870968, 0.8225806451612904], \"legendgroup\": \"\", \"marker\": {\"color\": \"#636efa\", \"symbol\": \"circle\"}, \"mode\": \"markers\", \"name\": \"\", \"showlegend\": false, \"x\": [22, 23, 27, 36], \"xaxis\": \"x\", \"y\": [0.6774193548387096, 0.6612903225806451, 0.7741935483870968, 0.8225806451612904], \"yaxis\": \"y\", \"type\": \"scatter\"}], \"name\": \"63\"}, {\"data\": [{\"hoverlabel\": {\"namelength\": 0}, \"hovertemplate\": \"<b>%{hovertext}</b><br><br>Length=235<br>Age=%{x}<br>%Homochirality=%{y}\", \"hovertext\": [0.6025641025641025], \"legendgroup\": \"\", \"marker\": {\"color\": \"#636efa\", \"symbol\": \"circle\"}, \"mode\": \"markers\", \"name\": \"\", \"showlegend\": false, \"x\": [23], \"xaxis\": \"x\", \"y\": [0.6025641025641025], \"yaxis\": \"y\", \"type\": \"scatter\"}], \"name\": \"235\"}, {\"data\": [{\"hoverlabel\": {\"namelength\": 0}, \"hovertemplate\": \"<b>%{hovertext}</b><br><br>Length=40<br>Age=%{x}<br>%Homochirality=%{y}\", \"hovertext\": [0.5384615384615384, 0.7692307692307693, 0.5641025641025641], \"legendgroup\": \"\", \"marker\": {\"color\": \"#636efa\", \"symbol\": \"circle\"}, \"mode\": \"markers\", \"name\": \"\", \"showlegend\": false, \"x\": [23, 24, 25], \"xaxis\": \"x\", \"y\": [0.5384615384615384, 0.7692307692307693, 0.5641025641025641], \"yaxis\": \"y\", \"type\": \"scatter\"}], \"name\": \"40\"}, {\"data\": [{\"hoverlabel\": {\"namelength\": 0}, \"hovertemplate\": \"<b>%{hovertext}</b><br><br>Length=298<br>Age=%{x}<br>%Homochirality=%{y}\", \"hovertext\": [0.6161616161616161, 0.6161616161616161], \"legendgroup\": \"\", \"marker\": {\"color\": \"#636efa\", \"symbol\": \"circle\"}, \"mode\": \"markers\", \"name\": \"\", \"showlegend\": false, \"x\": [24, 25], \"xaxis\": \"x\", \"y\": [0.6161616161616161, 0.6161616161616161], \"yaxis\": \"y\", \"type\": \"scatter\"}], \"name\": \"298\"}, {\"data\": [{\"hoverlabel\": {\"namelength\": 0}, \"hovertemplate\": \"<b>%{hovertext}</b><br><br>Length=68<br>Age=%{x}<br>%Homochirality=%{y}\", \"hovertext\": [0.5223880597014925], \"legendgroup\": \"\", \"marker\": {\"color\": \"#636efa\", \"symbol\": \"circle\"}, \"mode\": \"markers\", \"name\": \"\", \"showlegend\": false, \"x\": [24], \"xaxis\": \"x\", \"y\": [0.5223880597014925], \"yaxis\": \"y\", \"type\": \"scatter\"}], \"name\": \"68\"}, {\"data\": [{\"hoverlabel\": {\"namelength\": 0}, \"hovertemplate\": \"<b>%{hovertext}</b><br><br>Length=69<br>Age=%{x}<br>%Homochirality=%{y}\", \"hovertext\": [0.5147058823529411], \"legendgroup\": \"\", \"marker\": {\"color\": \"#636efa\", \"symbol\": \"circle\"}, \"mode\": \"markers\", \"name\": \"\", \"showlegend\": false, \"x\": [25], \"xaxis\": \"x\", \"y\": [0.5147058823529411], \"yaxis\": \"y\", \"type\": \"scatter\"}], \"name\": \"69\"}, {\"data\": [{\"hoverlabel\": {\"namelength\": 0}, \"hovertemplate\": \"<b>%{hovertext}</b><br><br>Length=97<br>Age=%{x}<br>%Homochirality=%{y}\", \"hovertext\": [0.65625], \"legendgroup\": \"\", \"marker\": {\"color\": \"#636efa\", \"symbol\": \"circle\"}, \"mode\": \"markers\", \"name\": \"\", \"showlegend\": false, \"x\": [25], \"xaxis\": \"x\", \"y\": [0.65625], \"yaxis\": \"y\", \"type\": \"scatter\"}], \"name\": \"97\"}, {\"data\": [{\"hoverlabel\": {\"namelength\": 0}, \"hovertemplate\": \"<b>%{hovertext}</b><br><br>Length=56<br>Age=%{x}<br>%Homochirality=%{y}\", \"hovertext\": [0.7818181818181819], \"legendgroup\": \"\", \"marker\": {\"color\": \"#636efa\", \"symbol\": \"circle\"}, \"mode\": \"markers\", \"name\": \"\", \"showlegend\": false, \"x\": [26], \"xaxis\": \"x\", \"y\": [0.7818181818181819], \"yaxis\": \"y\", \"type\": \"scatter\"}], \"name\": \"56\"}, {\"data\": [{\"hoverlabel\": {\"namelength\": 0}, \"hovertemplate\": \"<b>%{hovertext}</b><br><br>Length=71<br>Age=%{x}<br>%Homochirality=%{y}\", \"hovertext\": [0.5285714285714286, 0.7285714285714285, 0.7285714285714285], \"legendgroup\": \"\", \"marker\": {\"color\": \"#636efa\", \"symbol\": \"circle\"}, \"mode\": \"markers\", \"name\": \"\", \"showlegend\": false, \"x\": [26, 32, 33], \"xaxis\": \"x\", \"y\": [0.5285714285714286, 0.7285714285714285, 0.7285714285714285], \"yaxis\": \"y\", \"type\": \"scatter\"}], \"name\": \"71\"}, {\"data\": [{\"hoverlabel\": {\"namelength\": 0}, \"hovertemplate\": \"<b>%{hovertext}</b><br><br>Length=347<br>Age=%{x}<br>%Homochirality=%{y}\", \"hovertext\": [0.615606936416185, 0.615606936416185], \"legendgroup\": \"\", \"marker\": {\"color\": \"#636efa\", \"symbol\": \"circle\"}, \"mode\": \"markers\", \"name\": \"\", \"showlegend\": false, \"x\": [26, 28], \"xaxis\": \"x\", \"y\": [0.615606936416185, 0.615606936416185], \"yaxis\": \"y\", \"type\": \"scatter\"}], \"name\": \"347\"}, {\"data\": [{\"hoverlabel\": {\"namelength\": 0}, \"hovertemplate\": \"<b>%{hovertext}</b><br><br>Length=72<br>Age=%{x}<br>%Homochirality=%{y}\", \"hovertext\": [0.5352112676056338, 0.7605633802816901], \"legendgroup\": \"\", \"marker\": {\"color\": \"#636efa\", \"symbol\": \"circle\"}, \"mode\": \"markers\", \"name\": \"\", \"showlegend\": false, \"x\": [27, 34], \"xaxis\": \"x\", \"y\": [0.5352112676056338, 0.7605633802816901], \"yaxis\": \"y\", \"type\": \"scatter\"}], \"name\": \"72\"}, {\"data\": [{\"hoverlabel\": {\"namelength\": 0}, \"hovertemplate\": \"<b>%{hovertext}</b><br><br>Length=118<br>Age=%{x}<br>%Homochirality=%{y}\", \"hovertext\": [0.6837606837606838], \"legendgroup\": \"\", \"marker\": {\"color\": \"#636efa\", \"symbol\": \"circle\"}, \"mode\": \"markers\", \"name\": \"\", \"showlegend\": false, \"x\": [27], \"xaxis\": \"x\", \"y\": [0.6837606837606838], \"yaxis\": \"y\", \"type\": \"scatter\"}], \"name\": \"118\"}, {\"data\": [{\"hoverlabel\": {\"namelength\": 0}, \"hovertemplate\": \"<b>%{hovertext}</b><br><br>Length=248<br>Age=%{x}<br>%Homochirality=%{y}\", \"hovertext\": [0.6153846153846154], \"legendgroup\": \"\", \"marker\": {\"color\": \"#636efa\", \"symbol\": \"circle\"}, \"mode\": \"markers\", \"name\": \"\", \"showlegend\": false, \"x\": [27], \"xaxis\": \"x\", \"y\": [0.6153846153846154], \"yaxis\": \"y\", \"type\": \"scatter\"}], \"name\": \"248\"}, {\"data\": [{\"hoverlabel\": {\"namelength\": 0}, \"hovertemplate\": \"<b>%{hovertext}</b><br><br>Length=99<br>Age=%{x}<br>%Homochirality=%{y}\", \"hovertext\": [0.6224489795918368, 0.6326530612244898], \"legendgroup\": \"\", \"marker\": {\"color\": \"#636efa\", \"symbol\": \"circle\"}, \"mode\": \"markers\", \"name\": \"\", \"showlegend\": false, \"x\": [27, 40], \"xaxis\": \"x\", \"y\": [0.6224489795918368, 0.6326530612244898], \"yaxis\": \"y\", \"type\": \"scatter\"}], \"name\": \"99\"}, {\"data\": [{\"hoverlabel\": {\"namelength\": 0}, \"hovertemplate\": \"<b>%{hovertext}</b><br><br>Length=80<br>Age=%{x}<br>%Homochirality=%{y}\", \"hovertext\": [0.5316455696202531], \"legendgroup\": \"\", \"marker\": {\"color\": \"#636efa\", \"symbol\": \"circle\"}, \"mode\": \"markers\", \"name\": \"\", \"showlegend\": false, \"x\": [28], \"xaxis\": \"x\", \"y\": [0.5316455696202531], \"yaxis\": \"y\", \"type\": \"scatter\"}], \"name\": \"80\"}, {\"data\": [{\"hoverlabel\": {\"namelength\": 0}, \"hovertemplate\": \"<b>%{hovertext}</b><br><br>Length=128<br>Age=%{x}<br>%Homochirality=%{y}\", \"hovertext\": [0.6614173228346457], \"legendgroup\": \"\", \"marker\": {\"color\": \"#636efa\", \"symbol\": \"circle\"}, \"mode\": \"markers\", \"name\": \"\", \"showlegend\": false, \"x\": [28], \"xaxis\": \"x\", \"y\": [0.6614173228346457], \"yaxis\": \"y\", \"type\": \"scatter\"}], \"name\": \"128\"}, {\"data\": [{\"hoverlabel\": {\"namelength\": 0}, \"hovertemplate\": \"<b>%{hovertext}</b><br><br>Length=85<br>Age=%{x}<br>%Homochirality=%{y}\", \"hovertext\": [0.7738095238095238], \"legendgroup\": \"\", \"marker\": {\"color\": \"#636efa\", \"symbol\": \"circle\"}, \"mode\": \"markers\", \"name\": \"\", \"showlegend\": false, \"x\": [29], \"xaxis\": \"x\", \"y\": [0.7738095238095238], \"yaxis\": \"y\", \"type\": \"scatter\"}], \"name\": \"85\"}, {\"data\": [{\"hoverlabel\": {\"namelength\": 0}, \"hovertemplate\": \"<b>%{hovertext}</b><br><br>Length=62<br>Age=%{x}<br>%Homochirality=%{y}\", \"hovertext\": [0.6065573770491803], \"legendgroup\": \"\", \"marker\": {\"color\": \"#636efa\", \"symbol\": \"circle\"}, \"mode\": \"markers\", \"name\": \"\", \"showlegend\": false, \"x\": [29], \"xaxis\": \"x\", \"y\": [0.6065573770491803], \"yaxis\": \"y\", \"type\": \"scatter\"}], \"name\": \"62\"}, {\"data\": [{\"hoverlabel\": {\"namelength\": 0}, \"hovertemplate\": \"<b>%{hovertext}</b><br><br>Length=95<br>Age=%{x}<br>%Homochirality=%{y}\", \"hovertext\": [0.5744680851063829], \"legendgroup\": \"\", \"marker\": {\"color\": \"#636efa\", \"symbol\": \"circle\"}, \"mode\": \"markers\", \"name\": \"\", \"showlegend\": false, \"x\": [29], \"xaxis\": \"x\", \"y\": [0.5744680851063829], \"yaxis\": \"y\", \"type\": \"scatter\"}], \"name\": \"95\"}, {\"data\": [{\"hoverlabel\": {\"namelength\": 0}, \"hovertemplate\": \"<b>%{hovertext}</b><br><br>Length=106<br>Age=%{x}<br>%Homochirality=%{y}\", \"hovertext\": [0.6380952380952379], \"legendgroup\": \"\", \"marker\": {\"color\": \"#636efa\", \"symbol\": \"circle\"}, \"mode\": \"markers\", \"name\": \"\", \"showlegend\": false, \"x\": [29], \"xaxis\": \"x\", \"y\": [0.6380952380952379], \"yaxis\": \"y\", \"type\": \"scatter\"}], \"name\": \"106\"}, {\"data\": [{\"hoverlabel\": {\"namelength\": 0}, \"hovertemplate\": \"<b>%{hovertext}</b><br><br>Length=285<br>Age=%{x}<br>%Homochirality=%{y}\", \"hovertext\": [0.6197183098591549], \"legendgroup\": \"\", \"marker\": {\"color\": \"#636efa\", \"symbol\": \"circle\"}, \"mode\": \"markers\", \"name\": \"\", \"showlegend\": false, \"x\": [29], \"xaxis\": \"x\", \"y\": [0.6197183098591549], \"yaxis\": \"y\", \"type\": \"scatter\"}], \"name\": \"285\"}, {\"data\": [{\"hoverlabel\": {\"namelength\": 0}, \"hovertemplate\": \"<b>%{hovertext}</b><br><br>Length=305<br>Age=%{x}<br>%Homochirality=%{y}\", \"hovertext\": [0.6118421052631579], \"legendgroup\": \"\", \"marker\": {\"color\": \"#636efa\", \"symbol\": \"circle\"}, \"mode\": \"markers\", \"name\": \"\", \"showlegend\": false, \"x\": [30], \"xaxis\": \"x\", \"y\": [0.6118421052631579], \"yaxis\": \"y\", \"type\": \"scatter\"}], \"name\": \"305\"}, {\"data\": [{\"hoverlabel\": {\"namelength\": 0}, \"hovertemplate\": \"<b>%{hovertext}</b><br><br>Length=201<br>Age=%{x}<br>%Homochirality=%{y}\", \"hovertext\": [0.605], \"legendgroup\": \"\", \"marker\": {\"color\": \"#636efa\", \"symbol\": \"circle\"}, \"mode\": \"markers\", \"name\": \"\", \"showlegend\": false, \"x\": [30], \"xaxis\": \"x\", \"y\": [0.605], \"yaxis\": \"y\", \"type\": \"scatter\"}], \"name\": \"201\"}, {\"data\": [{\"hoverlabel\": {\"namelength\": 0}, \"hovertemplate\": \"<b>%{hovertext}</b><br><br>Length=107<br>Age=%{x}<br>%Homochirality=%{y}\", \"hovertext\": [0.7735849056603774], \"legendgroup\": \"\", \"marker\": {\"color\": \"#636efa\", \"symbol\": \"circle\"}, \"mode\": \"markers\", \"name\": \"\", \"showlegend\": false, \"x\": [30], \"xaxis\": \"x\", \"y\": [0.7735849056603774], \"yaxis\": \"y\", \"type\": \"scatter\"}], \"name\": \"107\"}, {\"data\": [{\"hoverlabel\": {\"namelength\": 0}, \"hovertemplate\": \"<b>%{hovertext}</b><br><br>Length=306<br>Age=%{x}<br>%Homochirality=%{y}\", \"hovertext\": [0.6098360655737705], \"legendgroup\": \"\", \"marker\": {\"color\": \"#636efa\", \"symbol\": \"circle\"}, \"mode\": \"markers\", \"name\": \"\", \"showlegend\": false, \"x\": [31], \"xaxis\": \"x\", \"y\": [0.6098360655737705], \"yaxis\": \"y\", \"type\": \"scatter\"}], \"name\": \"306\"}, {\"data\": [{\"hoverlabel\": {\"namelength\": 0}, \"hovertemplate\": \"<b>%{hovertext}</b><br><br>Length=60<br>Age=%{x}<br>%Homochirality=%{y}\", \"hovertext\": [0.7796610169491526], \"legendgroup\": \"\", \"marker\": {\"color\": \"#636efa\", \"symbol\": \"circle\"}, \"mode\": \"markers\", \"name\": \"\", \"showlegend\": false, \"x\": [31], \"xaxis\": \"x\", \"y\": [0.7796610169491526], \"yaxis\": \"y\", \"type\": \"scatter\"}], \"name\": \"60\"}, {\"data\": [{\"hoverlabel\": {\"namelength\": 0}, \"hovertemplate\": \"<b>%{hovertext}</b><br><br>Length=204<br>Age=%{x}<br>%Homochirality=%{y}\", \"hovertext\": [0.6059113300492611], \"legendgroup\": \"\", \"marker\": {\"color\": \"#636efa\", \"symbol\": \"circle\"}, \"mode\": \"markers\", \"name\": \"\", \"showlegend\": false, \"x\": [31], \"xaxis\": \"x\", \"y\": [0.6059113300492611], \"yaxis\": \"y\", \"type\": \"scatter\"}], \"name\": \"204\"}, {\"data\": [{\"hoverlabel\": {\"namelength\": 0}, \"hovertemplate\": \"<b>%{hovertext}</b><br><br>Length=206<br>Age=%{x}<br>%Homochirality=%{y}\", \"hovertext\": [0.6], \"legendgroup\": \"\", \"marker\": {\"color\": \"#636efa\", \"symbol\": \"circle\"}, \"mode\": \"markers\", \"name\": \"\", \"showlegend\": false, \"x\": [32], \"xaxis\": \"x\", \"y\": [0.6], \"yaxis\": \"y\", \"type\": \"scatter\"}], \"name\": \"206\"}, {\"data\": [{\"hoverlabel\": {\"namelength\": 0}, \"hovertemplate\": \"<b>%{hovertext}</b><br><br>Length=320<br>Age=%{x}<br>%Homochirality=%{y}\", \"hovertext\": [0.6144200626959248], \"legendgroup\": \"\", \"marker\": {\"color\": \"#636efa\", \"symbol\": \"circle\"}, \"mode\": \"markers\", \"name\": \"\", \"showlegend\": false, \"x\": [32], \"xaxis\": \"x\", \"y\": [0.6144200626959248], \"yaxis\": \"y\", \"type\": \"scatter\"}], \"name\": \"320\"}, {\"data\": [{\"hoverlabel\": {\"namelength\": 0}, \"hovertemplate\": \"<b>%{hovertext}</b><br><br>Length=231<br>Age=%{x}<br>%Homochirality=%{y}\", \"hovertext\": [0.6130434782608696], \"legendgroup\": \"\", \"marker\": {\"color\": \"#636efa\", \"symbol\": \"circle\"}, \"mode\": \"markers\", \"name\": \"\", \"showlegend\": false, \"x\": [33], \"xaxis\": \"x\", \"y\": [0.6130434782608696], \"yaxis\": \"y\", \"type\": \"scatter\"}], \"name\": \"231\"}, {\"data\": [{\"hoverlabel\": {\"namelength\": 0}, \"hovertemplate\": \"<b>%{hovertext}</b><br><br>Length=326<br>Age=%{x}<br>%Homochirality=%{y}\", \"hovertext\": [0.6184615384615385], \"legendgroup\": \"\", \"marker\": {\"color\": \"#636efa\", \"symbol\": \"circle\"}, \"mode\": \"markers\", \"name\": \"\", \"showlegend\": false, \"x\": [33], \"xaxis\": \"x\", \"y\": [0.6184615384615385], \"yaxis\": \"y\", \"type\": \"scatter\"}], \"name\": \"326\"}, {\"data\": [{\"hoverlabel\": {\"namelength\": 0}, \"hovertemplate\": \"<b>%{hovertext}</b><br><br>Length=557<br>Age=%{x}<br>%Homochirality=%{y}\", \"hovertext\": [0.6151079136690647], \"legendgroup\": \"\", \"marker\": {\"color\": \"#636efa\", \"symbol\": \"circle\"}, \"mode\": \"markers\", \"name\": \"\", \"showlegend\": false, \"x\": [34], \"xaxis\": \"x\", \"y\": [0.6151079136690647], \"yaxis\": \"y\", \"type\": \"scatter\"}], \"name\": \"557\"}, {\"data\": [{\"hoverlabel\": {\"namelength\": 0}, \"hovertemplate\": \"<b>%{hovertext}</b><br><br>Length=75<br>Age=%{x}<br>%Homochirality=%{y}\", \"hovertext\": [0.7702702702702703], \"legendgroup\": \"\", \"marker\": {\"color\": \"#636efa\", \"symbol\": \"circle\"}, \"mode\": \"markers\", \"name\": \"\", \"showlegend\": false, \"x\": [35], \"xaxis\": \"x\", \"y\": [0.7702702702702703], \"yaxis\": \"y\", \"type\": \"scatter\"}], \"name\": \"75\"}, {\"data\": [{\"hoverlabel\": {\"namelength\": 0}, \"hovertemplate\": \"<b>%{hovertext}</b><br><br>Length=558<br>Age=%{x}<br>%Homochirality=%{y}\", \"hovertext\": [0.6140035906642729], \"legendgroup\": \"\", \"marker\": {\"color\": \"#636efa\", \"symbol\": \"circle\"}, \"mode\": \"markers\", \"name\": \"\", \"showlegend\": false, \"x\": [35], \"xaxis\": \"x\", \"y\": [0.6140035906642729], \"yaxis\": \"y\", \"type\": \"scatter\"}], \"name\": \"558\"}, {\"data\": [{\"hoverlabel\": {\"namelength\": 0}, \"hovertemplate\": \"<b>%{hovertext}</b><br><br>Length=633<br>Age=%{x}<br>%Homochirality=%{y}\", \"hovertext\": [0.6313291139240507, 0.6313291139240507, 0.6313291139240507, 0.6313291139240507], \"legendgroup\": \"\", \"marker\": {\"color\": \"#636efa\", \"symbol\": \"circle\"}, \"mode\": \"markers\", \"name\": \"\", \"showlegend\": false, \"x\": [36, 37, 38, 39], \"xaxis\": \"x\", \"y\": [0.6313291139240507, 0.6313291139240507, 0.6313291139240507, 0.6313291139240507], \"yaxis\": \"y\", \"type\": \"scatter\"}], \"name\": \"633\"}, {\"data\": [{\"hoverlabel\": {\"namelength\": 0}, \"hovertemplate\": \"<b>%{hovertext}</b><br><br>Length=81<br>Age=%{x}<br>%Homochirality=%{y}\", \"hovertext\": [0.7125], \"legendgroup\": \"\", \"marker\": {\"color\": \"#636efa\", \"symbol\": \"circle\"}, \"mode\": \"markers\", \"name\": \"\", \"showlegend\": false, \"x\": [38], \"xaxis\": \"x\", \"y\": [0.7125], \"yaxis\": \"y\", \"type\": \"scatter\"}], \"name\": \"81\"}, {\"data\": [{\"hoverlabel\": {\"namelength\": 0}, \"hovertemplate\": \"<b>%{hovertext}</b><br><br>Length=123<br>Age=%{x}<br>%Homochirality=%{y}\", \"hovertext\": [0.6557377049180327], \"legendgroup\": \"\", \"marker\": {\"color\": \"#636efa\", \"symbol\": \"circle\"}, \"mode\": \"markers\", \"name\": \"\", \"showlegend\": false, \"x\": [39], \"xaxis\": \"x\", \"y\": [0.6557377049180327], \"yaxis\": \"y\", \"type\": \"scatter\"}], \"name\": \"123\"}, {\"data\": [{\"hoverlabel\": {\"namelength\": 0}, \"hovertemplate\": \"<b>%{hovertext}</b><br><br>Length=636<br>Age=%{x}<br>%Homochirality=%{y}\", \"hovertext\": [0.6330708661417322], \"legendgroup\": \"\", \"marker\": {\"color\": \"#636efa\", \"symbol\": \"circle\"}, \"mode\": \"markers\", \"name\": \"\", \"showlegend\": false, \"x\": [40], \"xaxis\": \"x\", \"y\": [0.6330708661417322], \"yaxis\": \"y\", \"type\": \"scatter\"}], \"name\": \"636\"}, {\"data\": [{\"hoverlabel\": {\"namelength\": 0}, \"hovertemplate\": \"<b>%{hovertext}</b><br><br>Length=53<br>Age=%{x}<br>%Homochirality=%{y}\", \"hovertext\": [0.4615384615384616, 0.4615384615384616, 0.4615384615384616], \"legendgroup\": \"\", \"marker\": {\"color\": \"#636efa\", \"symbol\": \"circle\"}, \"mode\": \"markers\", \"name\": \"\", \"showlegend\": false, \"x\": [41, 42, 43], \"xaxis\": \"x\", \"y\": [0.4615384615384616, 0.4615384615384616, 0.4615384615384616], \"yaxis\": \"y\", \"type\": \"scatter\"}], \"name\": \"53\"}, {\"data\": [{\"hoverlabel\": {\"namelength\": 0}, \"hovertemplate\": \"<b>%{hovertext}</b><br><br>Length=660<br>Age=%{x}<br>%Homochirality=%{y}\", \"hovertext\": [0.6388467374810318], \"legendgroup\": \"\", \"marker\": {\"color\": \"#636efa\", \"symbol\": \"circle\"}, \"mode\": \"markers\", \"name\": \"\", \"showlegend\": false, \"x\": [41], \"xaxis\": \"x\", \"y\": [0.6388467374810318], \"yaxis\": \"y\", \"type\": \"scatter\"}], \"name\": \"660\"}, {\"data\": [{\"hoverlabel\": {\"namelength\": 0}, \"hovertemplate\": \"<b>%{hovertext}</b><br><br>Length=46<br>Age=%{x}<br>%Homochirality=%{y}\", \"hovertext\": [0.8222222222222222], \"legendgroup\": \"\", \"marker\": {\"color\": \"#636efa\", \"symbol\": \"circle\"}, \"mode\": \"markers\", \"name\": \"\", \"showlegend\": false, \"x\": [41], \"xaxis\": \"x\", \"y\": [0.8222222222222222], \"yaxis\": \"y\", \"type\": \"scatter\"}], \"name\": \"46\"}, {\"data\": [{\"hoverlabel\": {\"namelength\": 0}, \"hovertemplate\": \"<b>%{hovertext}</b><br><br>Length=706<br>Age=%{x}<br>%Homochirality=%{y}\", \"hovertext\": [0.6510638297872341, 0.6510638297872341], \"legendgroup\": \"\", \"marker\": {\"color\": \"#636efa\", \"symbol\": \"circle\"}, \"mode\": \"markers\", \"name\": \"\", \"showlegend\": false, \"x\": [42, 43], \"xaxis\": \"x\", \"y\": [0.6510638297872341, 0.6510638297872341], \"yaxis\": \"y\", \"type\": \"scatter\"}], \"name\": \"706\"}, {\"data\": [{\"hoverlabel\": {\"namelength\": 0}, \"hovertemplate\": \"<b>%{hovertext}</b><br><br>Length=759<br>Age=%{x}<br>%Homochirality=%{y}\", \"hovertext\": [0.6385224274406333], \"legendgroup\": \"\", \"marker\": {\"color\": \"#636efa\", \"symbol\": \"circle\"}, \"mode\": \"markers\", \"name\": \"\", \"showlegend\": false, \"x\": [44], \"xaxis\": \"x\", \"y\": [0.6385224274406333], \"yaxis\": \"y\", \"type\": \"scatter\"}], \"name\": \"759\"}, {\"data\": [{\"hoverlabel\": {\"namelength\": 0}, \"hovertemplate\": \"<b>%{hovertext}</b><br><br>Length=760<br>Age=%{x}<br>%Homochirality=%{y}\", \"hovertext\": [0.6376811594202898, 0.6376811594202898, 0.6376811594202898, 0.6376811594202898, 0.6376811594202898, 0.6376811594202898, 0.6376811594202898, 0.6376811594202898, 0.6376811594202898, 0.6376811594202898, 0.6376811594202898, 0.6376811594202898, 0.6376811594202898, 0.6376811594202898, 0.6376811594202898, 0.6376811594202898, 0.6376811594202898, 0.6376811594202898, 0.6376811594202898, 0.6376811594202898, 0.6376811594202898, 0.6376811594202898, 0.6376811594202898, 0.6376811594202898, 0.6376811594202898, 0.6376811594202898, 0.6376811594202898, 0.6376811594202898, 0.6376811594202898, 0.6376811594202898, 0.6376811594202898, 0.6376811594202898, 0.6376811594202898, 0.6376811594202898, 0.6376811594202898, 0.6376811594202898, 0.6376811594202898, 0.6376811594202898, 0.6376811594202898, 0.6376811594202898, 0.6376811594202898, 0.6376811594202898, 0.6376811594202898, 0.6376811594202898, 0.6376811594202898, 0.6376811594202898, 0.6376811594202898, 0.6376811594202898, 0.6376811594202898, 0.6376811594202898, 0.6376811594202898, 0.6376811594202898, 0.6376811594202898, 0.6376811594202898, 0.6376811594202898], \"legendgroup\": \"\", \"marker\": {\"color\": \"#636efa\", \"symbol\": \"circle\"}, \"mode\": \"markers\", \"name\": \"\", \"showlegend\": false, \"x\": [45, 46, 47, 48, 49, 50, 51, 52, 53, 54, 55, 56, 57, 58, 59, 60, 61, 62, 63, 64, 65, 66, 67, 68, 69, 70, 71, 72, 73, 74, 75, 76, 77, 78, 79, 80, 81, 82, 83, 84, 85, 86, 87, 88, 89, 90, 91, 92, 93, 94, 95, 96, 97, 98, 99], \"xaxis\": \"x\", \"y\": [0.6376811594202898, 0.6376811594202898, 0.6376811594202898, 0.6376811594202898, 0.6376811594202898, 0.6376811594202898, 0.6376811594202898, 0.6376811594202898, 0.6376811594202898, 0.6376811594202898, 0.6376811594202898, 0.6376811594202898, 0.6376811594202898, 0.6376811594202898, 0.6376811594202898, 0.6376811594202898, 0.6376811594202898, 0.6376811594202898, 0.6376811594202898, 0.6376811594202898, 0.6376811594202898, 0.6376811594202898, 0.6376811594202898, 0.6376811594202898, 0.6376811594202898, 0.6376811594202898, 0.6376811594202898, 0.6376811594202898, 0.6376811594202898, 0.6376811594202898, 0.6376811594202898, 0.6376811594202898, 0.6376811594202898, 0.6376811594202898, 0.6376811594202898, 0.6376811594202898, 0.6376811594202898, 0.6376811594202898, 0.6376811594202898, 0.6376811594202898, 0.6376811594202898, 0.6376811594202898, 0.6376811594202898, 0.6376811594202898, 0.6376811594202898, 0.6376811594202898, 0.6376811594202898, 0.6376811594202898, 0.6376811594202898, 0.6376811594202898, 0.6376811594202898, 0.6376811594202898, 0.6376811594202898, 0.6376811594202898, 0.6376811594202898], \"yaxis\": \"y\", \"type\": \"scatter\"}], \"name\": \"760\"}]);\n",
              "                        }).then(function(){\n",
              "                            \n",
              "var gd = document.getElementById('4b614326-4d73-4653-b38a-db66ab71d679');\n",
              "var x = new MutationObserver(function (mutations, observer) {{\n",
              "        var display = window.getComputedStyle(gd).display;\n",
              "        if (!display || display === 'none') {{\n",
              "            console.log([gd, 'removed!']);\n",
              "            Plotly.purge(gd);\n",
              "            observer.disconnect();\n",
              "        }}\n",
              "}});\n",
              "\n",
              "// Listen for the removal of the full notebook cells\n",
              "var notebookContainer = gd.closest('#notebook-container');\n",
              "if (notebookContainer) {{\n",
              "    x.observe(notebookContainer, {childList: true});\n",
              "}}\n",
              "\n",
              "// Listen for the clearing of the current output cell\n",
              "var outputEl = gd.closest('.output');\n",
              "if (outputEl) {{\n",
              "    x.observe(outputEl, {childList: true});\n",
              "}}\n",
              "\n",
              "                        })\n",
              "                };\n",
              "                \n",
              "            </script>\n",
              "        </div>\n",
              "</body>\n",
              "</html>"
            ]
          },
          "metadata": {
            "tags": [
              "id15_content_7",
              "outputarea_id15",
              "user_output"
            ]
          }
        },
        {
          "output_type": "display_data",
          "data": {
            "application/javascript": [
              "window[\"1ed94ac6-d5d0-11ea-88cf-0242ac1c0002\"] = google.colab.output.setActiveOutputArea(window[\"1bf39b4a-d5d0-11ea-88cf-0242ac1c0002\"]);\n",
              "//# sourceURL=js_d96311f800"
            ],
            "text/plain": [
              "<IPython.core.display.Javascript object>"
            ]
          },
          "metadata": {
            "tags": [
              "id15_content_7",
              "outputarea_id15"
            ]
          }
        },
        {
          "output_type": "display_data",
          "data": {
            "application/javascript": [
              "window[\"1eda5164-d5d0-11ea-88cf-0242ac1c0002\"] = google.colab.output.getActiveOutputArea();\n",
              "//# sourceURL=js_637bae1ac9"
            ],
            "text/plain": [
              "<IPython.core.display.Javascript object>"
            ]
          },
          "metadata": {
            "tags": [
              "id15_content_5",
              "outputarea_id15"
            ]
          }
        },
        {
          "output_type": "display_data",
          "data": {
            "application/javascript": [
              "window[\"1eda8c38-d5d0-11ea-88cf-0242ac1c0002\"] = document.querySelector(\"#id15_content_5\");\n",
              "//# sourceURL=js_e08f09cf49"
            ],
            "text/plain": [
              "<IPython.core.display.Javascript object>"
            ]
          },
          "metadata": {
            "tags": [
              "id15_content_5",
              "outputarea_id15"
            ]
          }
        },
        {
          "output_type": "display_data",
          "data": {
            "application/javascript": [
              "window[\"1edac9d2-d5d0-11ea-88cf-0242ac1c0002\"] = google.colab.output.setActiveOutputArea(window[\"1eda8c38-d5d0-11ea-88cf-0242ac1c0002\"]);\n",
              "//# sourceURL=js_3eec18a2c8"
            ],
            "text/plain": [
              "<IPython.core.display.Javascript object>"
            ]
          },
          "metadata": {
            "tags": [
              "id15_content_5",
              "outputarea_id15"
            ]
          }
        },
        {
          "output_type": "display_data",
          "data": {
            "text/html": [
              "<html>\n",
              "<head><meta charset=\"utf-8\" /></head>\n",
              "<body>\n",
              "    <div>\n",
              "            <script src=\"https://cdnjs.cloudflare.com/ajax/libs/mathjax/2.7.5/MathJax.js?config=TeX-AMS-MML_SVG\"></script><script type=\"text/javascript\">if (window.MathJax) {MathJax.Hub.Config({SVG: {font: \"STIX-Web\"}});}</script>\n",
              "                <script type=\"text/javascript\">window.PlotlyConfig = {MathJaxConfig: 'local'};</script>\n",
              "        <script src=\"https://cdn.plot.ly/plotly-latest.min.js\"></script>    \n",
              "            <div id=\"9e880944-c176-48f2-b1c5-18be6b050d18\" class=\"plotly-graph-div\" style=\"height:525px; width:100%;\"></div>\n",
              "            <script type=\"text/javascript\">\n",
              "                \n",
              "                    window.PLOTLYENV=window.PLOTLYENV || {};\n",
              "                    \n",
              "                if (document.getElementById(\"9e880944-c176-48f2-b1c5-18be6b050d18\")) {\n",
              "                    Plotly.newPlot(\n",
              "                        '9e880944-c176-48f2-b1c5-18be6b050d18',\n",
              "                        [{\"alignmentgroup\": \"True\", \"bingroup\": \"x\", \"hoverlabel\": {\"namelength\": 0}, \"hovertemplate\": \"Iteration=0<br>Length=%{x}<br>count=%{y}\", \"legendgroup\": \"\", \"marker\": {\"color\": \"#636efa\"}, \"name\": \"\", \"nbinsx\": 760, \"offsetgroup\": \"\", \"orientation\": \"v\", \"showlegend\": false, \"type\": \"histogram\", \"x\": [2, 2, 2, 2, 2, 2, 2, 2, 2, 2, 2, 2, 2, 2, 2, 2, 2, 2, 2, 2, 2, 2, 2, 2, 2, 2, 2, 2, 2, 2, 2, 2, 2, 2, 2, 2, 2, 2, 2, 2, 2, 2, 2, 2, 2, 2, 2, 2, 2, 2, 2, 2, 2, 2, 2, 2, 2, 2, 2, 2, 2, 2, 2, 2, 2, 2, 2, 2, 2, 2, 2, 2, 2, 2, 2, 2, 2, 2, 2, 2, 2, 2, 2, 2, 2, 2, 2, 2, 2, 2, 2, 2, 2, 2, 2, 2, 2, 2, 2, 2, 2, 2, 2, 2, 2, 2, 2, 2, 2, 2, 2, 2, 2, 2, 2, 2, 2, 2, 2, 2, 2, 2, 2, 2, 2, 2, 2, 2], \"xaxis\": \"x\", \"yaxis\": \"y\"}],\n",
              "                        {\"barmode\": \"relative\", \"legend\": {\"tracegroupgap\": 0}, \"margin\": {\"t\": 60}, \"sliders\": [{\"active\": 0, \"currentvalue\": {\"prefix\": \"Iteration=\"}, \"len\": 0.9, \"pad\": {\"b\": 10, \"t\": 60}, \"steps\": [{\"args\": [[\"0\"], {\"frame\": {\"duration\": 0, \"redraw\": true}, \"fromcurrent\": true, \"mode\": \"immediate\", \"transition\": {\"duration\": 0, \"easing\": \"linear\"}}], \"label\": \"0\", \"method\": \"animate\"}, {\"args\": [[\"1\"], {\"frame\": {\"duration\": 0, \"redraw\": true}, \"fromcurrent\": true, \"mode\": \"immediate\", \"transition\": {\"duration\": 0, \"easing\": \"linear\"}}], \"label\": \"1\", \"method\": \"animate\"}, {\"args\": [[\"2\"], {\"frame\": {\"duration\": 0, \"redraw\": true}, \"fromcurrent\": true, \"mode\": \"immediate\", \"transition\": {\"duration\": 0, \"easing\": \"linear\"}}], \"label\": \"2\", \"method\": \"animate\"}, {\"args\": [[\"3\"], {\"frame\": {\"duration\": 0, \"redraw\": true}, \"fromcurrent\": true, \"mode\": \"immediate\", \"transition\": {\"duration\": 0, \"easing\": \"linear\"}}], \"label\": \"3\", \"method\": \"animate\"}, {\"args\": [[\"4\"], {\"frame\": {\"duration\": 0, \"redraw\": true}, \"fromcurrent\": true, \"mode\": \"immediate\", \"transition\": {\"duration\": 0, \"easing\": \"linear\"}}], \"label\": \"4\", \"method\": \"animate\"}, {\"args\": [[\"5\"], {\"frame\": {\"duration\": 0, \"redraw\": true}, \"fromcurrent\": true, \"mode\": \"immediate\", \"transition\": {\"duration\": 0, \"easing\": \"linear\"}}], \"label\": \"5\", \"method\": \"animate\"}, {\"args\": [[\"6\"], {\"frame\": {\"duration\": 0, \"redraw\": true}, \"fromcurrent\": true, \"mode\": \"immediate\", \"transition\": {\"duration\": 0, \"easing\": \"linear\"}}], \"label\": \"6\", \"method\": \"animate\"}, {\"args\": [[\"7\"], {\"frame\": {\"duration\": 0, \"redraw\": true}, \"fromcurrent\": true, \"mode\": \"immediate\", \"transition\": {\"duration\": 0, \"easing\": \"linear\"}}], \"label\": \"7\", \"method\": \"animate\"}, {\"args\": [[\"8\"], {\"frame\": {\"duration\": 0, \"redraw\": true}, \"fromcurrent\": true, \"mode\": \"immediate\", \"transition\": {\"duration\": 0, \"easing\": \"linear\"}}], \"label\": \"8\", \"method\": \"animate\"}, {\"args\": [[\"9\"], {\"frame\": {\"duration\": 0, \"redraw\": true}, \"fromcurrent\": true, \"mode\": \"immediate\", \"transition\": {\"duration\": 0, \"easing\": \"linear\"}}], \"label\": \"9\", \"method\": \"animate\"}, {\"args\": [[\"10\"], {\"frame\": {\"duration\": 0, \"redraw\": true}, \"fromcurrent\": true, \"mode\": \"immediate\", \"transition\": {\"duration\": 0, \"easing\": \"linear\"}}], \"label\": \"10\", \"method\": \"animate\"}, {\"args\": [[\"11\"], {\"frame\": {\"duration\": 0, \"redraw\": true}, \"fromcurrent\": true, \"mode\": \"immediate\", \"transition\": {\"duration\": 0, \"easing\": \"linear\"}}], \"label\": \"11\", \"method\": \"animate\"}, {\"args\": [[\"12\"], {\"frame\": {\"duration\": 0, \"redraw\": true}, \"fromcurrent\": true, \"mode\": \"immediate\", \"transition\": {\"duration\": 0, \"easing\": \"linear\"}}], \"label\": \"12\", \"method\": \"animate\"}, {\"args\": [[\"13\"], {\"frame\": {\"duration\": 0, \"redraw\": true}, \"fromcurrent\": true, \"mode\": \"immediate\", \"transition\": {\"duration\": 0, \"easing\": \"linear\"}}], \"label\": \"13\", \"method\": \"animate\"}, {\"args\": [[\"14\"], {\"frame\": {\"duration\": 0, \"redraw\": true}, \"fromcurrent\": true, \"mode\": \"immediate\", \"transition\": {\"duration\": 0, \"easing\": \"linear\"}}], \"label\": \"14\", \"method\": \"animate\"}, {\"args\": [[\"15\"], {\"frame\": {\"duration\": 0, \"redraw\": true}, \"fromcurrent\": true, \"mode\": \"immediate\", \"transition\": {\"duration\": 0, \"easing\": \"linear\"}}], \"label\": \"15\", \"method\": \"animate\"}, {\"args\": [[\"16\"], {\"frame\": {\"duration\": 0, \"redraw\": true}, \"fromcurrent\": true, \"mode\": \"immediate\", \"transition\": {\"duration\": 0, \"easing\": \"linear\"}}], \"label\": \"16\", \"method\": \"animate\"}, {\"args\": [[\"17\"], {\"frame\": {\"duration\": 0, \"redraw\": true}, \"fromcurrent\": true, \"mode\": \"immediate\", \"transition\": {\"duration\": 0, \"easing\": \"linear\"}}], \"label\": \"17\", \"method\": \"animate\"}, {\"args\": [[\"18\"], {\"frame\": {\"duration\": 0, \"redraw\": true}, \"fromcurrent\": true, \"mode\": \"immediate\", \"transition\": {\"duration\": 0, \"easing\": \"linear\"}}], \"label\": \"18\", \"method\": \"animate\"}, {\"args\": [[\"19\"], {\"frame\": {\"duration\": 0, \"redraw\": true}, \"fromcurrent\": true, \"mode\": \"immediate\", \"transition\": {\"duration\": 0, \"easing\": \"linear\"}}], \"label\": \"19\", \"method\": \"animate\"}, {\"args\": [[\"20\"], {\"frame\": {\"duration\": 0, \"redraw\": true}, \"fromcurrent\": true, \"mode\": \"immediate\", \"transition\": {\"duration\": 0, \"easing\": \"linear\"}}], \"label\": \"20\", \"method\": \"animate\"}, {\"args\": [[\"21\"], {\"frame\": {\"duration\": 0, \"redraw\": true}, \"fromcurrent\": true, \"mode\": \"immediate\", \"transition\": {\"duration\": 0, \"easing\": \"linear\"}}], \"label\": \"21\", \"method\": \"animate\"}, {\"args\": [[\"22\"], {\"frame\": {\"duration\": 0, \"redraw\": true}, \"fromcurrent\": true, \"mode\": \"immediate\", \"transition\": {\"duration\": 0, \"easing\": \"linear\"}}], \"label\": \"22\", \"method\": \"animate\"}, {\"args\": [[\"23\"], {\"frame\": {\"duration\": 0, \"redraw\": true}, \"fromcurrent\": true, \"mode\": \"immediate\", \"transition\": {\"duration\": 0, \"easing\": \"linear\"}}], \"label\": \"23\", \"method\": \"animate\"}, {\"args\": [[\"24\"], {\"frame\": {\"duration\": 0, \"redraw\": true}, \"fromcurrent\": true, \"mode\": \"immediate\", \"transition\": {\"duration\": 0, \"easing\": \"linear\"}}], \"label\": \"24\", \"method\": \"animate\"}, {\"args\": [[\"25\"], {\"frame\": {\"duration\": 0, \"redraw\": true}, \"fromcurrent\": true, \"mode\": \"immediate\", \"transition\": {\"duration\": 0, \"easing\": \"linear\"}}], \"label\": \"25\", \"method\": \"animate\"}, {\"args\": [[\"26\"], {\"frame\": {\"duration\": 0, \"redraw\": true}, \"fromcurrent\": true, \"mode\": \"immediate\", \"transition\": {\"duration\": 0, \"easing\": \"linear\"}}], \"label\": \"26\", \"method\": \"animate\"}, {\"args\": [[\"27\"], {\"frame\": {\"duration\": 0, \"redraw\": true}, \"fromcurrent\": true, \"mode\": \"immediate\", \"transition\": {\"duration\": 0, \"easing\": \"linear\"}}], \"label\": \"27\", \"method\": \"animate\"}, {\"args\": [[\"28\"], {\"frame\": {\"duration\": 0, \"redraw\": true}, \"fromcurrent\": true, \"mode\": \"immediate\", \"transition\": {\"duration\": 0, \"easing\": \"linear\"}}], \"label\": \"28\", \"method\": \"animate\"}, {\"args\": [[\"29\"], {\"frame\": {\"duration\": 0, \"redraw\": true}, \"fromcurrent\": true, \"mode\": \"immediate\", \"transition\": {\"duration\": 0, \"easing\": \"linear\"}}], \"label\": \"29\", \"method\": \"animate\"}, {\"args\": [[\"30\"], {\"frame\": {\"duration\": 0, \"redraw\": true}, \"fromcurrent\": true, \"mode\": \"immediate\", \"transition\": {\"duration\": 0, \"easing\": \"linear\"}}], \"label\": \"30\", \"method\": \"animate\"}, {\"args\": [[\"31\"], {\"frame\": {\"duration\": 0, \"redraw\": true}, \"fromcurrent\": true, \"mode\": \"immediate\", \"transition\": {\"duration\": 0, \"easing\": \"linear\"}}], \"label\": \"31\", \"method\": \"animate\"}, {\"args\": [[\"32\"], {\"frame\": {\"duration\": 0, \"redraw\": true}, \"fromcurrent\": true, \"mode\": \"immediate\", \"transition\": {\"duration\": 0, \"easing\": \"linear\"}}], \"label\": \"32\", \"method\": \"animate\"}, {\"args\": [[\"33\"], {\"frame\": {\"duration\": 0, \"redraw\": true}, \"fromcurrent\": true, \"mode\": \"immediate\", \"transition\": {\"duration\": 0, \"easing\": \"linear\"}}], \"label\": \"33\", \"method\": \"animate\"}, {\"args\": [[\"34\"], {\"frame\": {\"duration\": 0, \"redraw\": true}, \"fromcurrent\": true, \"mode\": \"immediate\", \"transition\": {\"duration\": 0, \"easing\": \"linear\"}}], \"label\": \"34\", \"method\": \"animate\"}, {\"args\": [[\"35\"], {\"frame\": {\"duration\": 0, \"redraw\": true}, \"fromcurrent\": true, \"mode\": \"immediate\", \"transition\": {\"duration\": 0, \"easing\": \"linear\"}}], \"label\": \"35\", \"method\": \"animate\"}, {\"args\": [[\"36\"], {\"frame\": {\"duration\": 0, \"redraw\": true}, \"fromcurrent\": true, \"mode\": \"immediate\", \"transition\": {\"duration\": 0, \"easing\": \"linear\"}}], \"label\": \"36\", \"method\": \"animate\"}, {\"args\": [[\"37\"], {\"frame\": {\"duration\": 0, \"redraw\": true}, \"fromcurrent\": true, \"mode\": \"immediate\", \"transition\": {\"duration\": 0, \"easing\": \"linear\"}}], \"label\": \"37\", \"method\": \"animate\"}, {\"args\": [[\"38\"], {\"frame\": {\"duration\": 0, \"redraw\": true}, \"fromcurrent\": true, \"mode\": \"immediate\", \"transition\": {\"duration\": 0, \"easing\": \"linear\"}}], \"label\": \"38\", \"method\": \"animate\"}, {\"args\": [[\"39\"], {\"frame\": {\"duration\": 0, \"redraw\": true}, \"fromcurrent\": true, \"mode\": \"immediate\", \"transition\": {\"duration\": 0, \"easing\": \"linear\"}}], \"label\": \"39\", \"method\": \"animate\"}, {\"args\": [[\"40\"], {\"frame\": {\"duration\": 0, \"redraw\": true}, \"fromcurrent\": true, \"mode\": \"immediate\", \"transition\": {\"duration\": 0, \"easing\": \"linear\"}}], \"label\": \"40\", \"method\": \"animate\"}, {\"args\": [[\"41\"], {\"frame\": {\"duration\": 0, \"redraw\": true}, \"fromcurrent\": true, \"mode\": \"immediate\", \"transition\": {\"duration\": 0, \"easing\": \"linear\"}}], \"label\": \"41\", \"method\": \"animate\"}, {\"args\": [[\"42\"], {\"frame\": {\"duration\": 0, \"redraw\": true}, \"fromcurrent\": true, \"mode\": \"immediate\", \"transition\": {\"duration\": 0, \"easing\": \"linear\"}}], \"label\": \"42\", \"method\": \"animate\"}, {\"args\": [[\"43\"], {\"frame\": {\"duration\": 0, \"redraw\": true}, \"fromcurrent\": true, \"mode\": \"immediate\", \"transition\": {\"duration\": 0, \"easing\": \"linear\"}}], \"label\": \"43\", \"method\": \"animate\"}, {\"args\": [[\"44\"], {\"frame\": {\"duration\": 0, \"redraw\": true}, \"fromcurrent\": true, \"mode\": \"immediate\", \"transition\": {\"duration\": 0, \"easing\": \"linear\"}}], \"label\": \"44\", \"method\": \"animate\"}, {\"args\": [[\"45\"], {\"frame\": {\"duration\": 0, \"redraw\": true}, \"fromcurrent\": true, \"mode\": \"immediate\", \"transition\": {\"duration\": 0, \"easing\": \"linear\"}}], \"label\": \"45\", \"method\": \"animate\"}, {\"args\": [[\"46\"], {\"frame\": {\"duration\": 0, \"redraw\": true}, \"fromcurrent\": true, \"mode\": \"immediate\", \"transition\": {\"duration\": 0, \"easing\": \"linear\"}}], \"label\": \"46\", \"method\": \"animate\"}, {\"args\": [[\"47\"], {\"frame\": {\"duration\": 0, \"redraw\": true}, \"fromcurrent\": true, \"mode\": \"immediate\", \"transition\": {\"duration\": 0, \"easing\": \"linear\"}}], \"label\": \"47\", \"method\": \"animate\"}, {\"args\": [[\"48\"], {\"frame\": {\"duration\": 0, \"redraw\": true}, \"fromcurrent\": true, \"mode\": \"immediate\", \"transition\": {\"duration\": 0, \"easing\": \"linear\"}}], \"label\": \"48\", \"method\": \"animate\"}, {\"args\": [[\"49\"], {\"frame\": {\"duration\": 0, \"redraw\": true}, \"fromcurrent\": true, \"mode\": \"immediate\", \"transition\": {\"duration\": 0, \"easing\": \"linear\"}}], \"label\": \"49\", \"method\": \"animate\"}, {\"args\": [[\"50\"], {\"frame\": {\"duration\": 0, \"redraw\": true}, \"fromcurrent\": true, \"mode\": \"immediate\", \"transition\": {\"duration\": 0, \"easing\": \"linear\"}}], \"label\": \"50\", \"method\": \"animate\"}, {\"args\": [[\"51\"], {\"frame\": {\"duration\": 0, \"redraw\": true}, \"fromcurrent\": true, \"mode\": \"immediate\", \"transition\": {\"duration\": 0, \"easing\": \"linear\"}}], \"label\": \"51\", \"method\": \"animate\"}, {\"args\": [[\"52\"], {\"frame\": {\"duration\": 0, \"redraw\": true}, \"fromcurrent\": true, \"mode\": \"immediate\", \"transition\": {\"duration\": 0, \"easing\": \"linear\"}}], \"label\": \"52\", \"method\": \"animate\"}, {\"args\": [[\"53\"], {\"frame\": {\"duration\": 0, \"redraw\": true}, \"fromcurrent\": true, \"mode\": \"immediate\", \"transition\": {\"duration\": 0, \"easing\": \"linear\"}}], \"label\": \"53\", \"method\": \"animate\"}, {\"args\": [[\"54\"], {\"frame\": {\"duration\": 0, \"redraw\": true}, \"fromcurrent\": true, \"mode\": \"immediate\", \"transition\": {\"duration\": 0, \"easing\": \"linear\"}}], \"label\": \"54\", \"method\": \"animate\"}, {\"args\": [[\"55\"], {\"frame\": {\"duration\": 0, \"redraw\": true}, \"fromcurrent\": true, \"mode\": \"immediate\", \"transition\": {\"duration\": 0, \"easing\": \"linear\"}}], \"label\": \"55\", \"method\": \"animate\"}, {\"args\": [[\"56\"], {\"frame\": {\"duration\": 0, \"redraw\": true}, \"fromcurrent\": true, \"mode\": \"immediate\", \"transition\": {\"duration\": 0, \"easing\": \"linear\"}}], \"label\": \"56\", \"method\": \"animate\"}, {\"args\": [[\"57\"], {\"frame\": {\"duration\": 0, \"redraw\": true}, \"fromcurrent\": true, \"mode\": \"immediate\", \"transition\": {\"duration\": 0, \"easing\": \"linear\"}}], \"label\": \"57\", \"method\": \"animate\"}, {\"args\": [[\"58\"], {\"frame\": {\"duration\": 0, \"redraw\": true}, \"fromcurrent\": true, \"mode\": \"immediate\", \"transition\": {\"duration\": 0, \"easing\": \"linear\"}}], \"label\": \"58\", \"method\": \"animate\"}, {\"args\": [[\"59\"], {\"frame\": {\"duration\": 0, \"redraw\": true}, \"fromcurrent\": true, \"mode\": \"immediate\", \"transition\": {\"duration\": 0, \"easing\": \"linear\"}}], \"label\": \"59\", \"method\": \"animate\"}, {\"args\": [[\"60\"], {\"frame\": {\"duration\": 0, \"redraw\": true}, \"fromcurrent\": true, \"mode\": \"immediate\", \"transition\": {\"duration\": 0, \"easing\": \"linear\"}}], \"label\": \"60\", \"method\": \"animate\"}, {\"args\": [[\"61\"], {\"frame\": {\"duration\": 0, \"redraw\": true}, \"fromcurrent\": true, \"mode\": \"immediate\", \"transition\": {\"duration\": 0, \"easing\": \"linear\"}}], \"label\": \"61\", \"method\": \"animate\"}, {\"args\": [[\"62\"], {\"frame\": {\"duration\": 0, \"redraw\": true}, \"fromcurrent\": true, \"mode\": \"immediate\", \"transition\": {\"duration\": 0, \"easing\": \"linear\"}}], \"label\": \"62\", \"method\": \"animate\"}, {\"args\": [[\"63\"], {\"frame\": {\"duration\": 0, \"redraw\": true}, \"fromcurrent\": true, \"mode\": \"immediate\", \"transition\": {\"duration\": 0, \"easing\": \"linear\"}}], \"label\": \"63\", \"method\": \"animate\"}, {\"args\": [[\"64\"], {\"frame\": {\"duration\": 0, \"redraw\": true}, \"fromcurrent\": true, \"mode\": \"immediate\", \"transition\": {\"duration\": 0, \"easing\": \"linear\"}}], \"label\": \"64\", \"method\": \"animate\"}, {\"args\": [[\"65\"], {\"frame\": {\"duration\": 0, \"redraw\": true}, \"fromcurrent\": true, \"mode\": \"immediate\", \"transition\": {\"duration\": 0, \"easing\": \"linear\"}}], \"label\": \"65\", \"method\": \"animate\"}, {\"args\": [[\"66\"], {\"frame\": {\"duration\": 0, \"redraw\": true}, \"fromcurrent\": true, \"mode\": \"immediate\", \"transition\": {\"duration\": 0, \"easing\": \"linear\"}}], \"label\": \"66\", \"method\": \"animate\"}, {\"args\": [[\"67\"], {\"frame\": {\"duration\": 0, \"redraw\": true}, \"fromcurrent\": true, \"mode\": \"immediate\", \"transition\": {\"duration\": 0, \"easing\": \"linear\"}}], \"label\": \"67\", \"method\": \"animate\"}, {\"args\": [[\"68\"], {\"frame\": {\"duration\": 0, \"redraw\": true}, \"fromcurrent\": true, \"mode\": \"immediate\", \"transition\": {\"duration\": 0, \"easing\": \"linear\"}}], \"label\": \"68\", \"method\": \"animate\"}, {\"args\": [[\"69\"], {\"frame\": {\"duration\": 0, \"redraw\": true}, \"fromcurrent\": true, \"mode\": \"immediate\", \"transition\": {\"duration\": 0, \"easing\": \"linear\"}}], \"label\": \"69\", \"method\": \"animate\"}, {\"args\": [[\"70\"], {\"frame\": {\"duration\": 0, \"redraw\": true}, \"fromcurrent\": true, \"mode\": \"immediate\", \"transition\": {\"duration\": 0, \"easing\": \"linear\"}}], \"label\": \"70\", \"method\": \"animate\"}, {\"args\": [[\"71\"], {\"frame\": {\"duration\": 0, \"redraw\": true}, \"fromcurrent\": true, \"mode\": \"immediate\", \"transition\": {\"duration\": 0, \"easing\": \"linear\"}}], \"label\": \"71\", \"method\": \"animate\"}, {\"args\": [[\"72\"], {\"frame\": {\"duration\": 0, \"redraw\": true}, \"fromcurrent\": true, \"mode\": \"immediate\", \"transition\": {\"duration\": 0, \"easing\": \"linear\"}}], \"label\": \"72\", \"method\": \"animate\"}, {\"args\": [[\"73\"], {\"frame\": {\"duration\": 0, \"redraw\": true}, \"fromcurrent\": true, \"mode\": \"immediate\", \"transition\": {\"duration\": 0, \"easing\": \"linear\"}}], \"label\": \"73\", \"method\": \"animate\"}, {\"args\": [[\"74\"], {\"frame\": {\"duration\": 0, \"redraw\": true}, \"fromcurrent\": true, \"mode\": \"immediate\", \"transition\": {\"duration\": 0, \"easing\": \"linear\"}}], \"label\": \"74\", \"method\": \"animate\"}, {\"args\": [[\"75\"], {\"frame\": {\"duration\": 0, \"redraw\": true}, \"fromcurrent\": true, \"mode\": \"immediate\", \"transition\": {\"duration\": 0, \"easing\": \"linear\"}}], \"label\": \"75\", \"method\": \"animate\"}, {\"args\": [[\"76\"], {\"frame\": {\"duration\": 0, \"redraw\": true}, \"fromcurrent\": true, \"mode\": \"immediate\", \"transition\": {\"duration\": 0, \"easing\": \"linear\"}}], \"label\": \"76\", \"method\": \"animate\"}, {\"args\": [[\"77\"], {\"frame\": {\"duration\": 0, \"redraw\": true}, \"fromcurrent\": true, \"mode\": \"immediate\", \"transition\": {\"duration\": 0, \"easing\": \"linear\"}}], \"label\": \"77\", \"method\": \"animate\"}, {\"args\": [[\"78\"], {\"frame\": {\"duration\": 0, \"redraw\": true}, \"fromcurrent\": true, \"mode\": \"immediate\", \"transition\": {\"duration\": 0, \"easing\": \"linear\"}}], \"label\": \"78\", \"method\": \"animate\"}, {\"args\": [[\"79\"], {\"frame\": {\"duration\": 0, \"redraw\": true}, \"fromcurrent\": true, \"mode\": \"immediate\", \"transition\": {\"duration\": 0, \"easing\": \"linear\"}}], \"label\": \"79\", \"method\": \"animate\"}, {\"args\": [[\"80\"], {\"frame\": {\"duration\": 0, \"redraw\": true}, \"fromcurrent\": true, \"mode\": \"immediate\", \"transition\": {\"duration\": 0, \"easing\": \"linear\"}}], \"label\": \"80\", \"method\": \"animate\"}, {\"args\": [[\"81\"], {\"frame\": {\"duration\": 0, \"redraw\": true}, \"fromcurrent\": true, \"mode\": \"immediate\", \"transition\": {\"duration\": 0, \"easing\": \"linear\"}}], \"label\": \"81\", \"method\": \"animate\"}, {\"args\": [[\"82\"], {\"frame\": {\"duration\": 0, \"redraw\": true}, \"fromcurrent\": true, \"mode\": \"immediate\", \"transition\": {\"duration\": 0, \"easing\": \"linear\"}}], \"label\": \"82\", \"method\": \"animate\"}, {\"args\": [[\"83\"], {\"frame\": {\"duration\": 0, \"redraw\": true}, \"fromcurrent\": true, \"mode\": \"immediate\", \"transition\": {\"duration\": 0, \"easing\": \"linear\"}}], \"label\": \"83\", \"method\": \"animate\"}, {\"args\": [[\"84\"], {\"frame\": {\"duration\": 0, \"redraw\": true}, \"fromcurrent\": true, \"mode\": \"immediate\", \"transition\": {\"duration\": 0, \"easing\": \"linear\"}}], \"label\": \"84\", \"method\": \"animate\"}, {\"args\": [[\"85\"], {\"frame\": {\"duration\": 0, \"redraw\": true}, \"fromcurrent\": true, \"mode\": \"immediate\", \"transition\": {\"duration\": 0, \"easing\": \"linear\"}}], \"label\": \"85\", \"method\": \"animate\"}, {\"args\": [[\"86\"], {\"frame\": {\"duration\": 0, \"redraw\": true}, \"fromcurrent\": true, \"mode\": \"immediate\", \"transition\": {\"duration\": 0, \"easing\": \"linear\"}}], \"label\": \"86\", \"method\": \"animate\"}, {\"args\": [[\"87\"], {\"frame\": {\"duration\": 0, \"redraw\": true}, \"fromcurrent\": true, \"mode\": \"immediate\", \"transition\": {\"duration\": 0, \"easing\": \"linear\"}}], \"label\": \"87\", \"method\": \"animate\"}, {\"args\": [[\"88\"], {\"frame\": {\"duration\": 0, \"redraw\": true}, \"fromcurrent\": true, \"mode\": \"immediate\", \"transition\": {\"duration\": 0, \"easing\": \"linear\"}}], \"label\": \"88\", \"method\": \"animate\"}, {\"args\": [[\"89\"], {\"frame\": {\"duration\": 0, \"redraw\": true}, \"fromcurrent\": true, \"mode\": \"immediate\", \"transition\": {\"duration\": 0, \"easing\": \"linear\"}}], \"label\": \"89\", \"method\": \"animate\"}, {\"args\": [[\"90\"], {\"frame\": {\"duration\": 0, \"redraw\": true}, \"fromcurrent\": true, \"mode\": \"immediate\", \"transition\": {\"duration\": 0, \"easing\": \"linear\"}}], \"label\": \"90\", \"method\": \"animate\"}, {\"args\": [[\"91\"], {\"frame\": {\"duration\": 0, \"redraw\": true}, \"fromcurrent\": true, \"mode\": \"immediate\", \"transition\": {\"duration\": 0, \"easing\": \"linear\"}}], \"label\": \"91\", \"method\": \"animate\"}, {\"args\": [[\"92\"], {\"frame\": {\"duration\": 0, \"redraw\": true}, \"fromcurrent\": true, \"mode\": \"immediate\", \"transition\": {\"duration\": 0, \"easing\": \"linear\"}}], \"label\": \"92\", \"method\": \"animate\"}, {\"args\": [[\"93\"], {\"frame\": {\"duration\": 0, \"redraw\": true}, \"fromcurrent\": true, \"mode\": \"immediate\", \"transition\": {\"duration\": 0, \"easing\": \"linear\"}}], \"label\": \"93\", \"method\": \"animate\"}, {\"args\": [[\"94\"], {\"frame\": {\"duration\": 0, \"redraw\": true}, \"fromcurrent\": true, \"mode\": \"immediate\", \"transition\": {\"duration\": 0, \"easing\": \"linear\"}}], \"label\": \"94\", \"method\": \"animate\"}, {\"args\": [[\"95\"], {\"frame\": {\"duration\": 0, \"redraw\": true}, \"fromcurrent\": true, \"mode\": \"immediate\", \"transition\": {\"duration\": 0, \"easing\": \"linear\"}}], \"label\": \"95\", \"method\": \"animate\"}, {\"args\": [[\"96\"], {\"frame\": {\"duration\": 0, \"redraw\": true}, \"fromcurrent\": true, \"mode\": \"immediate\", \"transition\": {\"duration\": 0, \"easing\": \"linear\"}}], \"label\": \"96\", \"method\": \"animate\"}, {\"args\": [[\"97\"], {\"frame\": {\"duration\": 0, \"redraw\": true}, \"fromcurrent\": true, \"mode\": \"immediate\", \"transition\": {\"duration\": 0, \"easing\": \"linear\"}}], \"label\": \"97\", \"method\": \"animate\"}, {\"args\": [[\"98\"], {\"frame\": {\"duration\": 0, \"redraw\": true}, \"fromcurrent\": true, \"mode\": \"immediate\", \"transition\": {\"duration\": 0, \"easing\": \"linear\"}}], \"label\": \"98\", \"method\": \"animate\"}, {\"args\": [[\"99\"], {\"frame\": {\"duration\": 0, \"redraw\": true}, \"fromcurrent\": true, \"mode\": \"immediate\", \"transition\": {\"duration\": 0, \"easing\": \"linear\"}}], \"label\": \"99\", \"method\": \"animate\"}], \"x\": 0.1, \"xanchor\": \"left\", \"y\": 0, \"yanchor\": \"top\"}], \"template\": {\"data\": {\"bar\": [{\"error_x\": {\"color\": \"#2a3f5f\"}, \"error_y\": {\"color\": \"#2a3f5f\"}, \"marker\": {\"line\": {\"color\": \"#E5ECF6\", \"width\": 0.5}}, \"type\": \"bar\"}], \"barpolar\": [{\"marker\": {\"line\": {\"color\": \"#E5ECF6\", \"width\": 0.5}}, \"type\": \"barpolar\"}], \"carpet\": [{\"aaxis\": {\"endlinecolor\": \"#2a3f5f\", \"gridcolor\": \"white\", \"linecolor\": \"white\", \"minorgridcolor\": \"white\", \"startlinecolor\": \"#2a3f5f\"}, \"baxis\": {\"endlinecolor\": \"#2a3f5f\", \"gridcolor\": \"white\", \"linecolor\": \"white\", \"minorgridcolor\": \"white\", \"startlinecolor\": \"#2a3f5f\"}, \"type\": \"carpet\"}], \"choropleth\": [{\"colorbar\": {\"outlinewidth\": 0, \"ticks\": \"\"}, \"type\": \"choropleth\"}], \"contour\": [{\"colorbar\": {\"outlinewidth\": 0, \"ticks\": \"\"}, \"colorscale\": [[0.0, \"#0d0887\"], [0.1111111111111111, \"#46039f\"], [0.2222222222222222, \"#7201a8\"], [0.3333333333333333, \"#9c179e\"], [0.4444444444444444, \"#bd3786\"], [0.5555555555555556, \"#d8576b\"], [0.6666666666666666, \"#ed7953\"], [0.7777777777777778, \"#fb9f3a\"], [0.8888888888888888, \"#fdca26\"], [1.0, \"#f0f921\"]], \"type\": \"contour\"}], \"contourcarpet\": [{\"colorbar\": {\"outlinewidth\": 0, \"ticks\": \"\"}, \"type\": \"contourcarpet\"}], \"heatmap\": [{\"colorbar\": {\"outlinewidth\": 0, \"ticks\": \"\"}, \"colorscale\": [[0.0, \"#0d0887\"], [0.1111111111111111, \"#46039f\"], [0.2222222222222222, \"#7201a8\"], [0.3333333333333333, \"#9c179e\"], [0.4444444444444444, \"#bd3786\"], [0.5555555555555556, \"#d8576b\"], [0.6666666666666666, \"#ed7953\"], [0.7777777777777778, \"#fb9f3a\"], [0.8888888888888888, \"#fdca26\"], [1.0, \"#f0f921\"]], \"type\": \"heatmap\"}], \"heatmapgl\": [{\"colorbar\": {\"outlinewidth\": 0, \"ticks\": \"\"}, \"colorscale\": [[0.0, \"#0d0887\"], [0.1111111111111111, \"#46039f\"], [0.2222222222222222, \"#7201a8\"], [0.3333333333333333, \"#9c179e\"], [0.4444444444444444, \"#bd3786\"], [0.5555555555555556, \"#d8576b\"], [0.6666666666666666, \"#ed7953\"], [0.7777777777777778, \"#fb9f3a\"], [0.8888888888888888, \"#fdca26\"], [1.0, \"#f0f921\"]], \"type\": \"heatmapgl\"}], \"histogram\": [{\"marker\": {\"colorbar\": {\"outlinewidth\": 0, \"ticks\": \"\"}}, \"type\": \"histogram\"}], \"histogram2d\": [{\"colorbar\": {\"outlinewidth\": 0, \"ticks\": \"\"}, \"colorscale\": [[0.0, \"#0d0887\"], [0.1111111111111111, \"#46039f\"], [0.2222222222222222, \"#7201a8\"], [0.3333333333333333, \"#9c179e\"], [0.4444444444444444, \"#bd3786\"], [0.5555555555555556, \"#d8576b\"], [0.6666666666666666, \"#ed7953\"], [0.7777777777777778, \"#fb9f3a\"], [0.8888888888888888, \"#fdca26\"], [1.0, \"#f0f921\"]], \"type\": \"histogram2d\"}], \"histogram2dcontour\": [{\"colorbar\": {\"outlinewidth\": 0, \"ticks\": \"\"}, \"colorscale\": [[0.0, \"#0d0887\"], [0.1111111111111111, \"#46039f\"], [0.2222222222222222, \"#7201a8\"], [0.3333333333333333, \"#9c179e\"], [0.4444444444444444, \"#bd3786\"], [0.5555555555555556, \"#d8576b\"], [0.6666666666666666, \"#ed7953\"], [0.7777777777777778, \"#fb9f3a\"], [0.8888888888888888, \"#fdca26\"], [1.0, \"#f0f921\"]], \"type\": \"histogram2dcontour\"}], \"mesh3d\": [{\"colorbar\": {\"outlinewidth\": 0, \"ticks\": \"\"}, \"type\": \"mesh3d\"}], \"parcoords\": [{\"line\": {\"colorbar\": {\"outlinewidth\": 0, \"ticks\": \"\"}}, \"type\": \"parcoords\"}], \"pie\": [{\"automargin\": true, \"type\": \"pie\"}], \"scatter\": [{\"marker\": {\"colorbar\": {\"outlinewidth\": 0, \"ticks\": \"\"}}, \"type\": \"scatter\"}], \"scatter3d\": [{\"line\": {\"colorbar\": {\"outlinewidth\": 0, \"ticks\": \"\"}}, \"marker\": {\"colorbar\": {\"outlinewidth\": 0, \"ticks\": \"\"}}, \"type\": \"scatter3d\"}], \"scattercarpet\": [{\"marker\": {\"colorbar\": {\"outlinewidth\": 0, \"ticks\": \"\"}}, \"type\": \"scattercarpet\"}], \"scattergeo\": [{\"marker\": {\"colorbar\": {\"outlinewidth\": 0, \"ticks\": \"\"}}, \"type\": \"scattergeo\"}], \"scattergl\": [{\"marker\": {\"colorbar\": {\"outlinewidth\": 0, \"ticks\": \"\"}}, \"type\": \"scattergl\"}], \"scattermapbox\": [{\"marker\": {\"colorbar\": {\"outlinewidth\": 0, \"ticks\": \"\"}}, \"type\": \"scattermapbox\"}], \"scatterpolar\": [{\"marker\": {\"colorbar\": {\"outlinewidth\": 0, \"ticks\": \"\"}}, \"type\": \"scatterpolar\"}], \"scatterpolargl\": [{\"marker\": {\"colorbar\": {\"outlinewidth\": 0, \"ticks\": \"\"}}, \"type\": \"scatterpolargl\"}], \"scatterternary\": [{\"marker\": {\"colorbar\": {\"outlinewidth\": 0, \"ticks\": \"\"}}, \"type\": \"scatterternary\"}], \"surface\": [{\"colorbar\": {\"outlinewidth\": 0, \"ticks\": \"\"}, \"colorscale\": [[0.0, \"#0d0887\"], [0.1111111111111111, \"#46039f\"], [0.2222222222222222, \"#7201a8\"], [0.3333333333333333, \"#9c179e\"], [0.4444444444444444, \"#bd3786\"], [0.5555555555555556, \"#d8576b\"], [0.6666666666666666, \"#ed7953\"], [0.7777777777777778, \"#fb9f3a\"], [0.8888888888888888, \"#fdca26\"], [1.0, \"#f0f921\"]], \"type\": \"surface\"}], \"table\": [{\"cells\": {\"fill\": {\"color\": \"#EBF0F8\"}, \"line\": {\"color\": \"white\"}}, \"header\": {\"fill\": {\"color\": \"#C8D4E3\"}, \"line\": {\"color\": \"white\"}}, \"type\": \"table\"}]}, \"layout\": {\"annotationdefaults\": {\"arrowcolor\": \"#2a3f5f\", \"arrowhead\": 0, \"arrowwidth\": 1}, \"coloraxis\": {\"colorbar\": {\"outlinewidth\": 0, \"ticks\": \"\"}}, \"colorscale\": {\"diverging\": [[0, \"#8e0152\"], [0.1, \"#c51b7d\"], [0.2, \"#de77ae\"], [0.3, \"#f1b6da\"], [0.4, \"#fde0ef\"], [0.5, \"#f7f7f7\"], [0.6, \"#e6f5d0\"], [0.7, \"#b8e186\"], [0.8, \"#7fbc41\"], [0.9, \"#4d9221\"], [1, \"#276419\"]], \"sequential\": [[0.0, \"#0d0887\"], [0.1111111111111111, \"#46039f\"], [0.2222222222222222, \"#7201a8\"], [0.3333333333333333, \"#9c179e\"], [0.4444444444444444, \"#bd3786\"], [0.5555555555555556, \"#d8576b\"], [0.6666666666666666, \"#ed7953\"], [0.7777777777777778, \"#fb9f3a\"], [0.8888888888888888, \"#fdca26\"], [1.0, \"#f0f921\"]], \"sequentialminus\": [[0.0, \"#0d0887\"], [0.1111111111111111, \"#46039f\"], [0.2222222222222222, \"#7201a8\"], [0.3333333333333333, \"#9c179e\"], [0.4444444444444444, \"#bd3786\"], [0.5555555555555556, \"#d8576b\"], [0.6666666666666666, \"#ed7953\"], [0.7777777777777778, \"#fb9f3a\"], [0.8888888888888888, \"#fdca26\"], [1.0, \"#f0f921\"]]}, \"colorway\": [\"#636efa\", \"#EF553B\", \"#00cc96\", \"#ab63fa\", \"#FFA15A\", \"#19d3f3\", \"#FF6692\", \"#B6E880\", \"#FF97FF\", \"#FECB52\"], \"font\": {\"color\": \"#2a3f5f\"}, \"geo\": {\"bgcolor\": \"white\", \"lakecolor\": \"white\", \"landcolor\": \"#E5ECF6\", \"showlakes\": true, \"showland\": true, \"subunitcolor\": \"white\"}, \"hoverlabel\": {\"align\": \"left\"}, \"hovermode\": \"closest\", \"mapbox\": {\"style\": \"light\"}, \"paper_bgcolor\": \"white\", \"plot_bgcolor\": \"#E5ECF6\", \"polar\": {\"angularaxis\": {\"gridcolor\": \"white\", \"linecolor\": \"white\", \"ticks\": \"\"}, \"bgcolor\": \"#E5ECF6\", \"radialaxis\": {\"gridcolor\": \"white\", \"linecolor\": \"white\", \"ticks\": \"\"}}, \"scene\": {\"xaxis\": {\"backgroundcolor\": \"#E5ECF6\", \"gridcolor\": \"white\", \"gridwidth\": 2, \"linecolor\": \"white\", \"showbackground\": true, \"ticks\": \"\", \"zerolinecolor\": \"white\"}, \"yaxis\": {\"backgroundcolor\": \"#E5ECF6\", \"gridcolor\": \"white\", \"gridwidth\": 2, \"linecolor\": \"white\", \"showbackground\": true, \"ticks\": \"\", \"zerolinecolor\": \"white\"}, \"zaxis\": {\"backgroundcolor\": \"#E5ECF6\", \"gridcolor\": \"white\", \"gridwidth\": 2, \"linecolor\": \"white\", \"showbackground\": true, \"ticks\": \"\", \"zerolinecolor\": \"white\"}}, \"shapedefaults\": {\"line\": {\"color\": \"#2a3f5f\"}}, \"ternary\": {\"aaxis\": {\"gridcolor\": \"white\", \"linecolor\": \"white\", \"ticks\": \"\"}, \"baxis\": {\"gridcolor\": \"white\", \"linecolor\": \"white\", \"ticks\": \"\"}, \"bgcolor\": \"#E5ECF6\", \"caxis\": {\"gridcolor\": \"white\", \"linecolor\": \"white\", \"ticks\": \"\"}}, \"title\": {\"x\": 0.05}, \"xaxis\": {\"automargin\": true, \"gridcolor\": \"white\", \"linecolor\": \"white\", \"ticks\": \"\", \"title\": {\"standoff\": 15}, \"zerolinecolor\": \"white\", \"zerolinewidth\": 2}, \"yaxis\": {\"automargin\": true, \"gridcolor\": \"white\", \"linecolor\": \"white\", \"ticks\": \"\", \"title\": {\"standoff\": 15}, \"zerolinecolor\": \"white\", \"zerolinewidth\": 2}}}, \"updatemenus\": [{\"buttons\": [{\"args\": [null, {\"frame\": {\"duration\": 500, \"redraw\": true}, \"fromcurrent\": true, \"mode\": \"immediate\", \"transition\": {\"duration\": 500, \"easing\": \"linear\"}}], \"label\": \"&#9654;\", \"method\": \"animate\"}, {\"args\": [[null], {\"frame\": {\"duration\": 0, \"redraw\": true}, \"fromcurrent\": true, \"mode\": \"immediate\", \"transition\": {\"duration\": 0, \"easing\": \"linear\"}}], \"label\": \"&#9724;\", \"method\": \"animate\"}], \"direction\": \"left\", \"pad\": {\"r\": 10, \"t\": 70}, \"showactive\": false, \"type\": \"buttons\", \"x\": 0.1, \"xanchor\": \"right\", \"y\": 0, \"yanchor\": \"top\"}], \"xaxis\": {\"anchor\": \"y\", \"domain\": [0.0, 1.0], \"range\": [0, 760], \"title\": {\"text\": \"Length\"}}, \"yaxis\": {\"anchor\": \"x\", \"domain\": [0.0, 1.0], \"title\": {\"text\": \"count\"}}},\n",
              "                        {\"responsive\": true}\n",
              "                    ).then(function(){\n",
              "                            Plotly.addFrames('9e880944-c176-48f2-b1c5-18be6b050d18', [{\"data\": [{\"alignmentgroup\": \"True\", \"bingroup\": \"x\", \"hoverlabel\": {\"namelength\": 0}, \"hovertemplate\": \"Iteration=0<br>Length=%{x}<br>count=%{y}\", \"legendgroup\": \"\", \"marker\": {\"color\": \"#636efa\"}, \"name\": \"\", \"nbinsx\": 760, \"offsetgroup\": \"\", \"orientation\": \"v\", \"showlegend\": false, \"x\": [2, 2, 2, 2, 2, 2, 2, 2, 2, 2, 2, 2, 2, 2, 2, 2, 2, 2, 2, 2, 2, 2, 2, 2, 2, 2, 2, 2, 2, 2, 2, 2, 2, 2, 2, 2, 2, 2, 2, 2, 2, 2, 2, 2, 2, 2, 2, 2, 2, 2, 2, 2, 2, 2, 2, 2, 2, 2, 2, 2, 2, 2, 2, 2, 2, 2, 2, 2, 2, 2, 2, 2, 2, 2, 2, 2, 2, 2, 2, 2, 2, 2, 2, 2, 2, 2, 2, 2, 2, 2, 2, 2, 2, 2, 2, 2, 2, 2, 2, 2, 2, 2, 2, 2, 2, 2, 2, 2, 2, 2, 2, 2, 2, 2, 2, 2, 2, 2, 2, 2, 2, 2, 2, 2, 2, 2, 2, 2], \"xaxis\": \"x\", \"yaxis\": \"y\", \"type\": \"histogram\"}], \"name\": \"0\"}, {\"data\": [{\"alignmentgroup\": \"True\", \"bingroup\": \"x\", \"hoverlabel\": {\"namelength\": 0}, \"hovertemplate\": \"Iteration=1<br>Length=%{x}<br>count=%{y}\", \"legendgroup\": \"\", \"marker\": {\"color\": \"#636efa\"}, \"name\": \"\", \"nbinsx\": 760, \"offsetgroup\": \"\", \"orientation\": \"v\", \"showlegend\": false, \"x\": [3, 3, 2, 3, 4, 3, 3, 2, 4, 3, 3, 2, 2, 2, 4, 2, 3, 3, 3, 4, 2, 3, 2, 3, 3, 2, 3, 3, 2, 2, 2, 4, 2, 2, 2, 2, 2, 3, 3, 3, 3, 2, 4, 2, 3, 2, 3, 3, 4, 4, 2, 3, 4, 2, 3, 4, 3, 3, 2, 2, 3, 3, 3, 3, 2, 3, 3, 2, 2, 3, 3, 2, 3, 2, 2, 3, 2, 2, 2, 2, 2, 3, 2, 3, 2, 3, 3, 3, 2, 3, 2, 3, 2, 2, 3, 2, 3, 2, 3, 2, 2, 2, 2, 3, 2, 2, 3, 3, 3, 3, 2, 2, 2, 2, 2, 2, 3, 2, 2, 3, 2, 2, 3, 3, 2, 2, 2, 2, 3, 2, 2, 2, 2, 2, 3, 2, 2, 3, 2, 2, 3, 3, 2, 2, 2, 2, 2], \"xaxis\": \"x\", \"yaxis\": \"y\", \"type\": \"histogram\"}], \"name\": \"1\"}, {\"data\": [{\"alignmentgroup\": \"True\", \"bingroup\": \"x\", \"hoverlabel\": {\"namelength\": 0}, \"hovertemplate\": \"Iteration=2<br>Length=%{x}<br>count=%{y}\", \"legendgroup\": \"\", \"marker\": {\"color\": \"#636efa\"}, \"name\": \"\", \"nbinsx\": 760, \"offsetgroup\": \"\", \"orientation\": \"v\", \"showlegend\": false, \"x\": [3, 2, 3, 2, 4, 3, 4, 3, 5, 3, 2, 3, 3, 4, 4, 4, 6, 4, 6, 4, 3, 3, 2, 2, 2, 3, 5, 6, 7, 4, 4, 2, 3, 4, 2, 2, 4, 3, 4, 2, 5, 5, 3, 2, 3, 3, 2, 3, 3, 5, 5, 2, 2, 2, 5, 3, 5, 3, 2, 5, 2, 4, 5, 6, 3, 2, 3, 3, 3, 2, 6, 3, 2, 2, 2, 6, 5, 2, 3, 2, 5, 2, 2, 3, 2, 2, 4, 2, 2, 4, 4, 2, 2, 4, 3, 2, 2, 2, 2, 3, 2, 2, 2, 4, 4, 2, 3, 2, 2, 2, 2, 2, 2, 2, 4, 2, 4, 3, 2, 2, 2, 3, 4, 4, 3, 2, 3, 3, 2, 3, 2, 2, 2, 5, 3, 2, 4, 2, 2, 2, 2, 2, 3, 2, 2, 3, 2, 3, 3, 4, 4, 2, 4, 2, 4, 2, 3], \"xaxis\": \"x\", \"yaxis\": \"y\", \"type\": \"histogram\"}], \"name\": \"2\"}, {\"data\": [{\"alignmentgroup\": \"True\", \"bingroup\": \"x\", \"hoverlabel\": {\"namelength\": 0}, \"hovertemplate\": \"Iteration=3<br>Length=%{x}<br>count=%{y}\", \"legendgroup\": \"\", \"marker\": {\"color\": \"#636efa\"}, \"name\": \"\", \"nbinsx\": 760, \"offsetgroup\": \"\", \"orientation\": \"v\", \"showlegend\": false, \"x\": [4, 4, 10, 5, 3, 3, 5, 4, 3, 5, 5, 6, 2, 4, 4, 2, 3, 7, 3, 2, 5, 3, 2, 2, 3, 2, 4, 2, 4, 10, 10, 2, 4, 4, 2, 3, 6, 4, 2, 4, 6, 2, 3, 5, 5, 3, 2, 4, 3, 2, 2, 5, 6, 2, 8, 3, 5, 2, 2, 5, 5, 10, 2, 6, 5, 2, 7, 2, 3, 6, 3, 6, 3, 3, 7, 2, 4, 7, 3, 5, 3, 2, 3, 4, 2, 3, 5, 2, 3, 5, 4, 2, 3, 8, 4, 2, 7, 2, 2, 3, 4, 2, 4, 3, 2, 2, 2, 4, 4, 2, 7, 4, 4, 5, 5, 2, 2, 2, 2, 3, 2, 2, 2, 3, 2, 3, 3, 2, 4, 2, 6, 5, 2, 3, 3, 2, 3, 3, 2, 2, 4, 2, 2, 2, 2], \"xaxis\": \"x\", \"yaxis\": \"y\", \"type\": \"histogram\"}], \"name\": \"3\"}, {\"data\": [{\"alignmentgroup\": \"True\", \"bingroup\": \"x\", \"hoverlabel\": {\"namelength\": 0}, \"hovertemplate\": \"Iteration=4<br>Length=%{x}<br>count=%{y}\", \"legendgroup\": \"\", \"marker\": {\"color\": \"#636efa\"}, \"name\": \"\", \"nbinsx\": 760, \"offsetgroup\": \"\", \"orientation\": \"v\", \"showlegend\": false, \"x\": [6, 14, 5, 3, 3, 3, 5, 4, 2, 10, 6, 2, 2, 7, 3, 5, 4, 2, 5, 6, 4, 4, 4, 7, 6, 7, 2, 5, 4, 7, 6, 5, 2, 3, 7, 2, 14, 2, 8, 5, 3, 5, 5, 2, 3, 7, 5, 2, 4, 3, 5, 3, 3, 2, 9, 5, 7, 11, 7, 6, 4, 2, 2, 4, 4, 2, 8, 2, 3, 5, 7, 6, 8, 2, 7, 9, 6, 2, 8, 2, 2, 2, 2, 3, 2, 2, 3, 6, 2, 3, 2, 4, 2, 2, 3, 3, 3, 5, 2, 3, 4, 2, 2, 2, 3, 2, 3, 4, 4, 2, 7, 3, 8, 3, 2, 3, 3, 2, 6, 2, 6, 5, 2, 3, 4, 2, 4, 2, 2, 2, 8, 7, 2, 8], \"xaxis\": \"x\", \"yaxis\": \"y\", \"type\": \"histogram\"}], \"name\": \"4\"}, {\"data\": [{\"alignmentgroup\": \"True\", \"bingroup\": \"x\", \"hoverlabel\": {\"namelength\": 0}, \"hovertemplate\": \"Iteration=5<br>Length=%{x}<br>count=%{y}\", \"legendgroup\": \"\", \"marker\": {\"color\": \"#636efa\"}, \"name\": \"\", \"nbinsx\": 760, \"offsetgroup\": \"\", \"orientation\": \"v\", \"showlegend\": false, \"x\": [6, 6, 4, 3, 9, 8, 5, 3, 3, 8, 2, 3, 3, 3, 10, 9, 7, 5, 3, 3, 2, 6, 9, 8, 2, 7, 13, 2, 6, 4, 5, 2, 9, 13, 2, 10, 3, 3, 18, 3, 10, 3, 3, 5, 5, 3, 2, 3, 4, 4, 3, 9, 14, 9, 8, 2, 2, 6, 11, 7, 9, 7, 6, 9, 2, 5, 2, 7, 16, 9, 3, 5, 13, 4, 3, 8, 4, 4, 2, 8, 3, 5, 2, 2, 2, 2, 2, 2, 5, 3, 2, 2, 2, 5, 2, 4, 2, 4, 3, 8, 4, 2, 7, 2, 3, 2, 2, 5, 2, 3, 2, 4, 6, 2, 4, 2, 4, 4, 2, 8, 7, 5, 2, 2, 3], \"xaxis\": \"x\", \"yaxis\": \"y\", \"type\": \"histogram\"}], \"name\": \"5\"}, {\"data\": [{\"alignmentgroup\": \"True\", \"bingroup\": \"x\", \"hoverlabel\": {\"namelength\": 0}, \"hovertemplate\": \"Iteration=6<br>Length=%{x}<br>count=%{y}\", \"legendgroup\": \"\", \"marker\": {\"color\": \"#636efa\"}, \"name\": \"\", \"nbinsx\": 760, \"offsetgroup\": \"\", \"orientation\": \"v\", \"showlegend\": false, \"x\": [17, 4, 13, 9, 10, 5, 14, 3, 2, 6, 4, 10, 3, 4, 5, 20, 7, 5, 7, 15, 6, 2, 5, 3, 9, 2, 9, 15, 15, 11, 2, 6, 4, 2, 3, 3, 4, 2, 3, 10, 7, 5, 4, 4, 2, 14, 9, 4, 8, 3, 4, 4, 7, 5, 12, 3, 4, 3, 5, 2, 2, 7, 8, 9, 7, 5, 11, 16, 2, 5, 6, 6, 4, 11, 7, 5, 5, 3, 6, 2, 9, 4, 3, 2, 3, 4, 3, 4, 6, 3, 7, 2, 2, 7, 4, 6, 4, 4, 3, 7, 6, 3, 2, 3, 2, 2, 2, 3, 2, 4, 6, 2, 3, 7], \"xaxis\": \"x\", \"yaxis\": \"y\", \"type\": \"histogram\"}], \"name\": \"6\"}, {\"data\": [{\"alignmentgroup\": \"True\", \"bingroup\": \"x\", \"hoverlabel\": {\"namelength\": 0}, \"hovertemplate\": \"Iteration=7<br>Length=%{x}<br>count=%{y}\", \"legendgroup\": \"\", \"marker\": {\"color\": \"#636efa\"}, \"name\": \"\", \"nbinsx\": 760, \"offsetgroup\": \"\", \"orientation\": \"v\", \"showlegend\": false, \"x\": [7, 4, 2, 9, 3, 4, 10, 9, 13, 2, 8, 9, 8, 2, 9, 15, 12, 7, 10, 9, 4, 7, 2, 5, 2, 2, 21, 2, 22, 10, 9, 8, 2, 4, 13, 7, 18, 8, 19, 11, 5, 2, 6, 3, 12, 2, 8, 4, 2, 3, 11, 4, 4, 5, 3, 4, 4, 8, 10, 13, 3, 2, 2, 18, 14, 20, 2, 4, 3, 3, 3, 3, 11, 4, 6, 5, 2, 2, 2, 3, 5, 5, 4, 14, 2, 5, 5, 5, 3, 2, 6, 7, 10, 3, 4, 3, 2, 2, 8, 3, 3, 3, 5, 3, 2], \"xaxis\": \"x\", \"yaxis\": \"y\", \"type\": \"histogram\"}], \"name\": \"7\"}, {\"data\": [{\"alignmentgroup\": \"True\", \"bingroup\": \"x\", \"hoverlabel\": {\"namelength\": 0}, \"hovertemplate\": \"Iteration=8<br>Length=%{x}<br>count=%{y}\", \"legendgroup\": \"\", \"marker\": {\"color\": \"#636efa\"}, \"name\": \"\", \"nbinsx\": 760, \"offsetgroup\": \"\", \"orientation\": \"v\", \"showlegend\": false, \"x\": [7, 5, 6, 2, 4, 6, 4, 4, 2, 3, 9, 4, 10, 5, 3, 8, 6, 23, 2, 2, 2, 3, 24, 5, 2, 7, 12, 7, 4, 18, 9, 3, 6, 7, 4, 15, 3, 4, 5, 2, 3, 9, 4, 8, 7, 23, 2, 2, 13, 16, 17, 18, 7, 13, 9, 11, 16, 4, 12, 5, 4, 3, 2, 11, 8, 12, 7, 5, 3, 6, 4, 9, 5, 11, 2, 9, 2, 3, 5, 11, 5, 3, 12, 2, 4, 5, 19, 2, 5, 3, 5, 4, 5, 4, 4, 2, 2, 12, 2], \"xaxis\": \"x\", \"yaxis\": \"y\", \"type\": \"histogram\"}], \"name\": \"8\"}, {\"data\": [{\"alignmentgroup\": \"True\", \"bingroup\": \"x\", \"hoverlabel\": {\"namelength\": 0}, \"hovertemplate\": \"Iteration=9<br>Length=%{x}<br>count=%{y}\", \"legendgroup\": \"\", \"marker\": {\"color\": \"#636efa\"}, \"name\": \"\", \"nbinsx\": 760, \"offsetgroup\": \"\", \"orientation\": \"v\", \"showlegend\": false, \"x\": [18, 3, 8, 8, 2, 8, 2, 25, 14, 6, 9, 2, 5, 7, 4, 4, 2, 5, 2, 4, 11, 7, 8, 12, 2, 11, 2, 9, 4, 6, 3, 8, 16, 8, 3, 9, 19, 21, 4, 4, 12, 14, 8, 2, 10, 4, 4, 12, 4, 3, 14, 9, 17, 5, 6, 11, 26, 4, 3, 8, 3, 5, 7, 2, 3, 2, 16, 8, 4, 15, 5, 3, 17, 4, 9, 7, 4, 2, 3, 17, 5, 4, 5, 19, 7, 5, 3, 3, 3, 3, 5, 2, 2], \"xaxis\": \"x\", \"yaxis\": \"y\", \"type\": \"histogram\"}], \"name\": \"9\"}, {\"data\": [{\"alignmentgroup\": \"True\", \"bingroup\": \"x\", \"hoverlabel\": {\"namelength\": 0}, \"hovertemplate\": \"Iteration=10<br>Length=%{x}<br>count=%{y}\", \"legendgroup\": \"\", \"marker\": {\"color\": \"#636efa\"}, \"name\": \"\", \"nbinsx\": 760, \"offsetgroup\": \"\", \"orientation\": \"v\", \"showlegend\": false, \"x\": [17, 2, 4, 9, 2, 33, 9, 7, 20, 10, 3, 5, 3, 23, 6, 3, 10, 2, 6, 6, 18, 4, 24, 6, 4, 11, 15, 10, 10, 8, 12, 4, 5, 4, 16, 9, 6, 5, 6, 3, 5, 3, 4, 22, 12, 2, 20, 19, 4, 29, 2, 3, 2, 14, 9, 9, 8, 9, 4, 3, 4, 10, 2, 5, 8, 4, 2, 2, 10, 11, 10, 6, 3, 2, 2, 5, 2, 6, 2, 10, 5, 3, 2, 9, 3, 6, 20], \"xaxis\": \"x\", \"yaxis\": \"y\", \"type\": \"histogram\"}], \"name\": \"10\"}, {\"data\": [{\"alignmentgroup\": \"True\", \"bingroup\": \"x\", \"hoverlabel\": {\"namelength\": 0}, \"hovertemplate\": \"Iteration=11<br>Length=%{x}<br>count=%{y}\", \"legendgroup\": \"\", \"marker\": {\"color\": \"#636efa\"}, \"name\": \"\", \"nbinsx\": 760, \"offsetgroup\": \"\", \"orientation\": \"v\", \"showlegend\": false, \"x\": [3, 8, 8, 6, 13, 5, 7, 2, 3, 4, 8, 5, 3, 28, 5, 10, 15, 3, 7, 6, 13, 3, 16, 5, 2, 13, 14, 21, 6, 2, 33, 5, 9, 11, 10, 8, 17, 8, 15, 15, 14, 15, 4, 43, 4, 2, 2, 4, 2, 43, 4, 2, 8, 8, 2, 9, 3, 12, 6, 8, 6, 2, 9, 21, 7, 6, 12, 7, 2, 12, 3, 14, 7, 2, 10, 3, 11], \"xaxis\": \"x\", \"yaxis\": \"y\", \"type\": \"histogram\"}], \"name\": \"11\"}, {\"data\": [{\"alignmentgroup\": \"True\", \"bingroup\": \"x\", \"hoverlabel\": {\"namelength\": 0}, \"hovertemplate\": \"Iteration=12<br>Length=%{x}<br>count=%{y}\", \"legendgroup\": \"\", \"marker\": {\"color\": \"#636efa\"}, \"name\": \"\", \"nbinsx\": 760, \"offsetgroup\": \"\", \"orientation\": \"v\", \"showlegend\": false, \"x\": [3, 5, 22, 3, 22, 13, 9, 9, 15, 7, 2, 14, 15, 2, 3, 5, 3, 4, 8, 8, 13, 11, 16, 6, 11, 44, 2, 10, 2, 19, 11, 3, 2, 9, 2, 10, 5, 4, 2, 13, 21, 28, 5, 27, 14, 3, 41, 13, 3, 15, 4, 2, 2, 5, 9, 11, 3, 8, 12, 3, 4, 44, 4, 15, 2, 6, 8, 10, 11, 3, 8, 2], \"xaxis\": \"x\", \"yaxis\": \"y\", \"type\": \"histogram\"}], \"name\": \"12\"}, {\"data\": [{\"alignmentgroup\": \"True\", \"bingroup\": \"x\", \"hoverlabel\": {\"namelength\": 0}, \"hovertemplate\": \"Iteration=13<br>Length=%{x}<br>count=%{y}\", \"legendgroup\": \"\", \"marker\": {\"color\": \"#636efa\"}, \"name\": \"\", \"nbinsx\": 760, \"offsetgroup\": \"\", \"orientation\": \"v\", \"showlegend\": false, \"x\": [2, 5, 3, 5, 28, 23, 12, 7, 9, 14, 5, 11, 54, 10, 5, 11, 4, 4, 37, 16, 9, 30, 2, 17, 5, 2, 5, 2, 2, 2, 6, 21, 14, 2, 4, 2, 3, 26, 8, 15, 16, 37, 4, 9, 26, 4, 5, 12, 2, 2, 11, 4, 10, 28, 4, 6, 17, 12, 16, 3, 10, 6, 11, 7, 3, 3, 18], \"xaxis\": \"x\", \"yaxis\": \"y\", \"type\": \"histogram\"}], \"name\": \"13\"}, {\"data\": [{\"alignmentgroup\": \"True\", \"bingroup\": \"x\", \"hoverlabel\": {\"namelength\": 0}, \"hovertemplate\": \"Iteration=14<br>Length=%{x}<br>count=%{y}\", \"legendgroup\": \"\", \"marker\": {\"color\": \"#636efa\"}, \"name\": \"\", \"nbinsx\": 760, \"offsetgroup\": \"\", \"orientation\": \"v\", \"showlegend\": false, \"x\": [22, 5, 23, 2, 7, 8, 65, 10, 13, 3, 20, 26, 2, 23, 2, 28, 5, 2, 18, 4, 15, 32, 19, 6, 26, 41, 2, 28, 10, 2, 20, 30, 9, 26, 16, 29, 14, 4, 17, 2, 6, 2, 7, 11, 2, 3, 18, 4, 3, 15, 7, 13, 6], \"xaxis\": \"x\", \"yaxis\": \"y\", \"type\": \"histogram\"}], \"name\": \"14\"}, {\"data\": [{\"alignmentgroup\": \"True\", \"bingroup\": \"x\", \"hoverlabel\": {\"namelength\": 0}, \"hovertemplate\": \"Iteration=15<br>Length=%{x}<br>count=%{y}\", \"legendgroup\": \"\", \"marker\": {\"color\": \"#636efa\"}, \"name\": \"\", \"nbinsx\": 760, \"offsetgroup\": \"\", \"orientation\": \"v\", \"showlegend\": false, \"x\": [66, 2, 4, 29, 4, 16, 6, 6, 6, 3, 47, 4, 30, 36, 9, 44, 6, 2, 19, 4, 43, 16, 16, 15, 16, 23, 6, 42, 18, 31, 21, 22, 20, 7, 27, 3, 16, 6, 8, 33, 3, 4, 2], \"xaxis\": \"x\", \"yaxis\": \"y\", \"type\": \"histogram\"}], \"name\": \"15\"}, {\"data\": [{\"alignmentgroup\": \"True\", \"bingroup\": \"x\", \"hoverlabel\": {\"namelength\": 0}, \"hovertemplate\": \"Iteration=16<br>Length=%{x}<br>count=%{y}\", \"legendgroup\": \"\", \"marker\": {\"color\": \"#636efa\"}, \"name\": \"\", \"nbinsx\": 760, \"offsetgroup\": \"\", \"orientation\": \"v\", \"showlegend\": false, \"x\": [10, 67, 33, 2, 6, 31, 20, 18, 3, 17, 52, 3, 9, 4, 4, 20, 3, 66, 11, 14, 43, 7, 8, 6, 7, 4, 11, 52, 48, 39, 6, 64, 3, 7, 5, 6, 5, 14, 4, 7, 8], \"xaxis\": \"x\", \"yaxis\": \"y\", \"type\": \"histogram\"}], \"name\": \"16\"}, {\"data\": [{\"alignmentgroup\": \"True\", \"bingroup\": \"x\", \"hoverlabel\": {\"namelength\": 0}, \"hovertemplate\": \"Iteration=17<br>Length=%{x}<br>count=%{y}\", \"legendgroup\": \"\", \"marker\": {\"color\": \"#636efa\"}, \"name\": \"\", \"nbinsx\": 760, \"offsetgroup\": \"\", \"orientation\": \"v\", \"showlegend\": false, \"x\": [51, 4, 17, 9, 6, 5, 9, 2, 5, 100, 7, 14, 4, 55, 15, 10, 77, 2, 16, 11, 7, 4, 17, 82, 14, 7, 7, 50, 3, 4, 6, 35, 9, 33, 7, 2, 27, 4, 10], \"xaxis\": \"x\", \"yaxis\": \"y\", \"type\": \"histogram\"}], \"name\": \"17\"}, {\"data\": [{\"alignmentgroup\": \"True\", \"bingroup\": \"x\", \"hoverlabel\": {\"namelength\": 0}, \"hovertemplate\": \"Iteration=18<br>Length=%{x}<br>count=%{y}\", \"legendgroup\": \"\", \"marker\": {\"color\": \"#636efa\"}, \"name\": \"\", \"nbinsx\": 760, \"offsetgroup\": \"\", \"orientation\": \"v\", \"showlegend\": false, \"x\": [27, 16, 50, 13, 54, 42, 8, 10, 24, 4, 6, 133, 7, 105, 41, 12, 8, 6, 3, 2, 7, 14, 10, 2, 26, 5, 35, 7, 9, 2, 8, 8, 2, 34, 9], \"xaxis\": \"x\", \"yaxis\": \"y\", \"type\": \"histogram\"}], \"name\": \"18\"}, {\"data\": [{\"alignmentgroup\": \"True\", \"bingroup\": \"x\", \"hoverlabel\": {\"namelength\": 0}, \"hovertemplate\": \"Iteration=19<br>Length=%{x}<br>count=%{y}\", \"legendgroup\": \"\", \"marker\": {\"color\": \"#636efa\"}, \"name\": \"\", \"nbinsx\": 760, \"offsetgroup\": \"\", \"orientation\": \"v\", \"showlegend\": false, \"x\": [141, 66, 6, 13, 28, 5, 3, 6, 3, 8, 6, 67, 24, 5, 4, 77, 4, 115, 19, 8, 3, 3, 5, 28, 13, 3, 2, 3, 4, 36, 4, 8, 5, 15, 5, 2], \"xaxis\": \"x\", \"yaxis\": \"y\", \"type\": \"histogram\"}], \"name\": \"19\"}, {\"data\": [{\"alignmentgroup\": \"True\", \"bingroup\": \"x\", \"hoverlabel\": {\"namelength\": 0}, \"hovertemplate\": \"Iteration=20<br>Length=%{x}<br>count=%{y}\", \"legendgroup\": \"\", \"marker\": {\"color\": \"#636efa\"}, \"name\": \"\", \"nbinsx\": 760, \"offsetgroup\": \"\", \"orientation\": \"v\", \"showlegend\": false, \"x\": [8, 147, 10, 26, 70, 17, 6, 7, 3, 16, 3, 4, 16, 3, 79, 9, 10, 5, 6, 2, 22, 32, 8, 114, 5, 19, 29, 61, 4, 6], \"xaxis\": \"x\", \"yaxis\": \"y\", \"type\": \"histogram\"}], \"name\": \"20\"}, {\"data\": [{\"alignmentgroup\": \"True\", \"bingroup\": \"x\", \"hoverlabel\": {\"namelength\": 0}, \"hovertemplate\": \"Iteration=21<br>Length=%{x}<br>count=%{y}\", \"legendgroup\": \"\", \"marker\": {\"color\": \"#636efa\"}, \"name\": \"\", \"nbinsx\": 760, \"offsetgroup\": \"\", \"orientation\": \"v\", \"showlegend\": false, \"x\": [38, 13, 23, 5, 10, 22, 8, 8, 64, 42, 11, 7, 119, 140, 73, 83, 32, 3, 7, 11, 28], \"xaxis\": \"x\", \"yaxis\": \"y\", \"type\": \"histogram\"}], \"name\": \"21\"}, {\"data\": [{\"alignmentgroup\": \"True\", \"bingroup\": \"x\", \"hoverlabel\": {\"namelength\": 0}, \"hovertemplate\": \"Iteration=22<br>Length=%{x}<br>count=%{y}\", \"legendgroup\": \"\", \"marker\": {\"color\": \"#636efa\"}, \"name\": \"\", \"nbinsx\": 760, \"offsetgroup\": \"\", \"orientation\": \"v\", \"showlegend\": false, \"x\": [113, 39, 6, 29, 8, 18, 115, 49, 10, 19, 8, 77, 16, 11, 3, 120, 27, 5, 63, 14], \"xaxis\": \"x\", \"yaxis\": \"y\", \"type\": \"histogram\"}], \"name\": \"22\"}, {\"data\": [{\"alignmentgroup\": \"True\", \"bingroup\": \"x\", \"hoverlabel\": {\"namelength\": 0}, \"hovertemplate\": \"Iteration=23<br>Length=%{x}<br>count=%{y}\", \"legendgroup\": \"\", \"marker\": {\"color\": \"#636efa\"}, \"name\": \"\", \"nbinsx\": 760, \"offsetgroup\": \"\", \"orientation\": \"v\", \"showlegend\": false, \"x\": [114, 11, 5, 82, 29, 28, 4, 235, 26, 39, 63, 40, 24, 11, 2, 24, 12, 5], \"xaxis\": \"x\", \"yaxis\": \"y\", \"type\": \"histogram\"}], \"name\": \"23\"}, {\"data\": [{\"alignmentgroup\": \"True\", \"bingroup\": \"x\", \"hoverlabel\": {\"namelength\": 0}, \"hovertemplate\": \"Iteration=24<br>Length=%{x}<br>count=%{y}\", \"legendgroup\": \"\", \"marker\": {\"color\": \"#636efa\"}, \"name\": \"\", \"nbinsx\": 760, \"offsetgroup\": \"\", \"orientation\": \"v\", \"showlegend\": false, \"x\": [115, 40, 28, 5, 52, 34, 16, 298, 9, 12, 68, 2, 27, 6, 15, 14, 2, 12], \"xaxis\": \"x\", \"yaxis\": \"y\", \"type\": \"histogram\"}], \"name\": \"24\"}, {\"data\": [{\"alignmentgroup\": \"True\", \"bingroup\": \"x\", \"hoverlabel\": {\"namelength\": 0}, \"hovertemplate\": \"Iteration=25<br>Length=%{x}<br>count=%{y}\", \"legendgroup\": \"\", \"marker\": {\"color\": \"#636efa\"}, \"name\": \"\", \"nbinsx\": 760, \"offsetgroup\": \"\", \"orientation\": \"v\", \"showlegend\": false, \"x\": [18, 28, 32, 4, 11, 40, 2, 24, 49, 17, 69, 298, 5, 97, 8, 24, 3, 3, 3, 22], \"xaxis\": \"x\", \"yaxis\": \"y\", \"type\": \"histogram\"}], \"name\": \"25\"}, {\"data\": [{\"alignmentgroup\": \"True\", \"bingroup\": \"x\", \"hoverlabel\": {\"namelength\": 0}, \"hovertemplate\": \"Iteration=26<br>Length=%{x}<br>count=%{y}\", \"legendgroup\": \"\", \"marker\": {\"color\": \"#636efa\"}, \"name\": \"\", \"nbinsx\": 760, \"offsetgroup\": \"\", \"orientation\": \"v\", \"showlegend\": false, \"x\": [18, 12, 23, 100, 56, 27, 23, 71, 347, 31, 4, 39, 7], \"xaxis\": \"x\", \"yaxis\": \"y\", \"type\": \"histogram\"}], \"name\": \"26\"}, {\"data\": [{\"alignmentgroup\": \"True\", \"bingroup\": \"x\", \"hoverlabel\": {\"namelength\": 0}, \"hovertemplate\": \"Iteration=27<br>Length=%{x}<br>count=%{y}\", \"legendgroup\": \"\", \"marker\": {\"color\": \"#636efa\"}, \"name\": \"\", \"nbinsx\": 760, \"offsetgroup\": \"\", \"orientation\": \"v\", \"showlegend\": false, \"x\": [63, 4, 10, 72, 15, 43, 118, 248, 54, 8, 17, 8, 99], \"xaxis\": \"x\", \"yaxis\": \"y\", \"type\": \"histogram\"}], \"name\": \"27\"}, {\"data\": [{\"alignmentgroup\": \"True\", \"bingroup\": \"x\", \"hoverlabel\": {\"namelength\": 0}, \"hovertemplate\": \"Iteration=28<br>Length=%{x}<br>count=%{y}\", \"legendgroup\": \"\", \"marker\": {\"color\": \"#636efa\"}, \"name\": \"\", \"nbinsx\": 760, \"offsetgroup\": \"\", \"orientation\": \"v\", \"showlegend\": false, \"x\": [25, 80, 67, 128, 36, 347, 15, 20, 18, 23], \"xaxis\": \"x\", \"yaxis\": \"y\", \"type\": \"histogram\"}], \"name\": \"28\"}, {\"data\": [{\"alignmentgroup\": \"True\", \"bingroup\": \"x\", \"hoverlabel\": {\"namelength\": 0}, \"hovertemplate\": \"Iteration=29<br>Length=%{x}<br>count=%{y}\", \"legendgroup\": \"\", \"marker\": {\"color\": \"#636efa\"}, \"name\": \"\", \"nbinsx\": 760, \"offsetgroup\": \"\", \"orientation\": \"v\", \"showlegend\": false, \"x\": [85, 18, 22, 62, 95, 20, 5, 24, 106, 285, 35], \"xaxis\": \"x\", \"yaxis\": \"y\", \"type\": \"histogram\"}], \"name\": \"29\"}, {\"data\": [{\"alignmentgroup\": \"True\", \"bingroup\": \"x\", \"hoverlabel\": {\"namelength\": 0}, \"hovertemplate\": \"Iteration=30<br>Length=%{x}<br>count=%{y}\", \"legendgroup\": \"\", \"marker\": {\"color\": \"#636efa\"}, \"name\": \"\", \"nbinsx\": 760, \"offsetgroup\": \"\", \"orientation\": \"v\", \"showlegend\": false, \"x\": [30, 305, 25, 30, 201, 107, 3, 2, 5, 32, 2, 16], \"xaxis\": \"x\", \"yaxis\": \"y\", \"type\": \"histogram\"}], \"name\": \"30\"}, {\"data\": [{\"alignmentgroup\": \"True\", \"bingroup\": \"x\", \"hoverlabel\": {\"namelength\": 0}, \"hovertemplate\": \"Iteration=31<br>Length=%{x}<br>count=%{y}\", \"legendgroup\": \"\", \"marker\": {\"color\": \"#636efa\"}, \"name\": \"\", \"nbinsx\": 760, \"offsetgroup\": \"\", \"orientation\": \"v\", \"showlegend\": false, \"x\": [306, 60, 31, 11, 17, 204, 7, 30, 2, 17, 47, 14, 13], \"xaxis\": \"x\", \"yaxis\": \"y\", \"type\": \"histogram\"}], \"name\": \"31\"}, {\"data\": [{\"alignmentgroup\": \"True\", \"bingroup\": \"x\", \"hoverlabel\": {\"namelength\": 0}, \"hovertemplate\": \"Iteration=32<br>Length=%{x}<br>count=%{y}\", \"legendgroup\": \"\", \"marker\": {\"color\": \"#636efa\"}, \"name\": \"\", \"nbinsx\": 760, \"offsetgroup\": \"\", \"orientation\": \"v\", \"showlegend\": false, \"x\": [206, 3, 71, 4, 6, 320, 64, 9, 30, 10, 3, 25, 8], \"xaxis\": \"x\", \"yaxis\": \"y\", \"type\": \"histogram\"}], \"name\": \"32\"}, {\"data\": [{\"alignmentgroup\": \"True\", \"bingroup\": \"x\", \"hoverlabel\": {\"namelength\": 0}, \"hovertemplate\": \"Iteration=33<br>Length=%{x}<br>count=%{y}\", \"legendgroup\": \"\", \"marker\": {\"color\": \"#636efa\"}, \"name\": \"\", \"nbinsx\": 760, \"offsetgroup\": \"\", \"orientation\": \"v\", \"showlegend\": false, \"x\": [231, 5, 326, 4, 67, 38, 71, 2, 4, 4, 8], \"xaxis\": \"x\", \"yaxis\": \"y\", \"type\": \"histogram\"}], \"name\": \"33\"}, {\"data\": [{\"alignmentgroup\": \"True\", \"bingroup\": \"x\", \"hoverlabel\": {\"namelength\": 0}, \"hovertemplate\": \"Iteration=34<br>Length=%{x}<br>count=%{y}\", \"legendgroup\": \"\", \"marker\": {\"color\": \"#636efa\"}, \"name\": \"\", \"nbinsx\": 760, \"offsetgroup\": \"\", \"orientation\": \"v\", \"showlegend\": false, \"x\": [72, 12, 19, 3, 557, 37, 4, 2, 52], \"xaxis\": \"x\", \"yaxis\": \"y\", \"type\": \"histogram\"}], \"name\": \"34\"}, {\"data\": [{\"alignmentgroup\": \"True\", \"bingroup\": \"x\", \"hoverlabel\": {\"namelength\": 0}, \"hovertemplate\": \"Iteration=35<br>Length=%{x}<br>count=%{y}\", \"legendgroup\": \"\", \"marker\": {\"color\": \"#636efa\"}, \"name\": \"\", \"nbinsx\": 760, \"offsetgroup\": \"\", \"orientation\": \"v\", \"showlegend\": false, \"x\": [75, 31, 21, 2, 12, 6, 2, 51, 558], \"xaxis\": \"x\", \"yaxis\": \"y\", \"type\": \"histogram\"}], \"name\": \"35\"}, {\"data\": [{\"alignmentgroup\": \"True\", \"bingroup\": \"x\", \"hoverlabel\": {\"namelength\": 0}, \"hovertemplate\": \"Iteration=36<br>Length=%{x}<br>count=%{y}\", \"legendgroup\": \"\", \"marker\": {\"color\": \"#636efa\"}, \"name\": \"\", \"nbinsx\": 760, \"offsetgroup\": \"\", \"orientation\": \"v\", \"showlegend\": false, \"x\": [63, 10, 2, 633, 6, 11, 32], \"xaxis\": \"x\", \"yaxis\": \"y\", \"type\": \"histogram\"}], \"name\": \"36\"}, {\"data\": [{\"alignmentgroup\": \"True\", \"bingroup\": \"x\", \"hoverlabel\": {\"namelength\": 0}, \"hovertemplate\": \"Iteration=37<br>Length=%{x}<br>count=%{y}\", \"legendgroup\": \"\", \"marker\": {\"color\": \"#636efa\"}, \"name\": \"\", \"nbinsx\": 760, \"offsetgroup\": \"\", \"orientation\": \"v\", \"showlegend\": false, \"x\": [64, 2, 633, 17, 42], \"xaxis\": \"x\", \"yaxis\": \"y\", \"type\": \"histogram\"}], \"name\": \"37\"}, {\"data\": [{\"alignmentgroup\": \"True\", \"bingroup\": \"x\", \"hoverlabel\": {\"namelength\": 0}, \"hovertemplate\": \"Iteration=38<br>Length=%{x}<br>count=%{y}\", \"legendgroup\": \"\", \"marker\": {\"color\": \"#636efa\"}, \"name\": \"\", \"nbinsx\": 760, \"offsetgroup\": \"\", \"orientation\": \"v\", \"showlegend\": false, \"x\": [81, 633, 3, 42], \"xaxis\": \"x\", \"yaxis\": \"y\", \"type\": \"histogram\"}], \"name\": \"38\"}, {\"data\": [{\"alignmentgroup\": \"True\", \"bingroup\": \"x\", \"hoverlabel\": {\"namelength\": 0}, \"hovertemplate\": \"Iteration=39<br>Length=%{x}<br>count=%{y}\", \"legendgroup\": \"\", \"marker\": {\"color\": \"#636efa\"}, \"name\": \"\", \"nbinsx\": 760, \"offsetgroup\": \"\", \"orientation\": \"v\", \"showlegend\": false, \"x\": [633, 123, 3], \"xaxis\": \"x\", \"yaxis\": \"y\", \"type\": \"histogram\"}], \"name\": \"39\"}, {\"data\": [{\"alignmentgroup\": \"True\", \"bingroup\": \"x\", \"hoverlabel\": {\"namelength\": 0}, \"hovertemplate\": \"Iteration=40<br>Length=%{x}<br>count=%{y}\", \"legendgroup\": \"\", \"marker\": {\"color\": \"#636efa\"}, \"name\": \"\", \"nbinsx\": 760, \"offsetgroup\": \"\", \"orientation\": \"v\", \"showlegend\": false, \"x\": [99, 636, 24], \"xaxis\": \"x\", \"yaxis\": \"y\", \"type\": \"histogram\"}], \"name\": \"40\"}, {\"data\": [{\"alignmentgroup\": \"True\", \"bingroup\": \"x\", \"hoverlabel\": {\"namelength\": 0}, \"hovertemplate\": \"Iteration=41<br>Length=%{x}<br>count=%{y}\", \"legendgroup\": \"\", \"marker\": {\"color\": \"#636efa\"}, \"name\": \"\", \"nbinsx\": 760, \"offsetgroup\": \"\", \"orientation\": \"v\", \"showlegend\": false, \"x\": [53, 660, 46], \"xaxis\": \"x\", \"yaxis\": \"y\", \"type\": \"histogram\"}], \"name\": \"41\"}, {\"data\": [{\"alignmentgroup\": \"True\", \"bingroup\": \"x\", \"hoverlabel\": {\"namelength\": 0}, \"hovertemplate\": \"Iteration=42<br>Length=%{x}<br>count=%{y}\", \"legendgroup\": \"\", \"marker\": {\"color\": \"#636efa\"}, \"name\": \"\", \"nbinsx\": 760, \"offsetgroup\": \"\", \"orientation\": \"v\", \"showlegend\": false, \"x\": [706, 53], \"xaxis\": \"x\", \"yaxis\": \"y\", \"type\": \"histogram\"}], \"name\": \"42\"}, {\"data\": [{\"alignmentgroup\": \"True\", \"bingroup\": \"x\", \"hoverlabel\": {\"namelength\": 0}, \"hovertemplate\": \"Iteration=43<br>Length=%{x}<br>count=%{y}\", \"legendgroup\": \"\", \"marker\": {\"color\": \"#636efa\"}, \"name\": \"\", \"nbinsx\": 760, \"offsetgroup\": \"\", \"orientation\": \"v\", \"showlegend\": false, \"x\": [53, 706], \"xaxis\": \"x\", \"yaxis\": \"y\", \"type\": \"histogram\"}], \"name\": \"43\"}, {\"data\": [{\"alignmentgroup\": \"True\", \"bingroup\": \"x\", \"hoverlabel\": {\"namelength\": 0}, \"hovertemplate\": \"Iteration=44<br>Length=%{x}<br>count=%{y}\", \"legendgroup\": \"\", \"marker\": {\"color\": \"#636efa\"}, \"name\": \"\", \"nbinsx\": 760, \"offsetgroup\": \"\", \"orientation\": \"v\", \"showlegend\": false, \"x\": [759], \"xaxis\": \"x\", \"yaxis\": \"y\", \"type\": \"histogram\"}], \"name\": \"44\"}, {\"data\": [{\"alignmentgroup\": \"True\", \"bingroup\": \"x\", \"hoverlabel\": {\"namelength\": 0}, \"hovertemplate\": \"Iteration=45<br>Length=%{x}<br>count=%{y}\", \"legendgroup\": \"\", \"marker\": {\"color\": \"#636efa\"}, \"name\": \"\", \"nbinsx\": 760, \"offsetgroup\": \"\", \"orientation\": \"v\", \"showlegend\": false, \"x\": [760], \"xaxis\": \"x\", \"yaxis\": \"y\", \"type\": \"histogram\"}], \"name\": \"45\"}, {\"data\": [{\"alignmentgroup\": \"True\", \"bingroup\": \"x\", \"hoverlabel\": {\"namelength\": 0}, \"hovertemplate\": \"Iteration=46<br>Length=%{x}<br>count=%{y}\", \"legendgroup\": \"\", \"marker\": {\"color\": \"#636efa\"}, \"name\": \"\", \"nbinsx\": 760, \"offsetgroup\": \"\", \"orientation\": \"v\", \"showlegend\": false, \"x\": [760], \"xaxis\": \"x\", \"yaxis\": \"y\", \"type\": \"histogram\"}], \"name\": \"46\"}, {\"data\": [{\"alignmentgroup\": \"True\", \"bingroup\": \"x\", \"hoverlabel\": {\"namelength\": 0}, \"hovertemplate\": \"Iteration=47<br>Length=%{x}<br>count=%{y}\", \"legendgroup\": \"\", \"marker\": {\"color\": \"#636efa\"}, \"name\": \"\", \"nbinsx\": 760, \"offsetgroup\": \"\", \"orientation\": \"v\", \"showlegend\": false, \"x\": [760], \"xaxis\": \"x\", \"yaxis\": \"y\", \"type\": \"histogram\"}], \"name\": \"47\"}, {\"data\": [{\"alignmentgroup\": \"True\", \"bingroup\": \"x\", \"hoverlabel\": {\"namelength\": 0}, \"hovertemplate\": \"Iteration=48<br>Length=%{x}<br>count=%{y}\", \"legendgroup\": \"\", \"marker\": {\"color\": \"#636efa\"}, \"name\": \"\", \"nbinsx\": 760, \"offsetgroup\": \"\", \"orientation\": \"v\", \"showlegend\": false, \"x\": [760], \"xaxis\": \"x\", \"yaxis\": \"y\", \"type\": \"histogram\"}], \"name\": \"48\"}, {\"data\": [{\"alignmentgroup\": \"True\", \"bingroup\": \"x\", \"hoverlabel\": {\"namelength\": 0}, \"hovertemplate\": \"Iteration=49<br>Length=%{x}<br>count=%{y}\", \"legendgroup\": \"\", \"marker\": {\"color\": \"#636efa\"}, \"name\": \"\", \"nbinsx\": 760, \"offsetgroup\": \"\", \"orientation\": \"v\", \"showlegend\": false, \"x\": [760], \"xaxis\": \"x\", \"yaxis\": \"y\", \"type\": \"histogram\"}], \"name\": \"49\"}, {\"data\": [{\"alignmentgroup\": \"True\", \"bingroup\": \"x\", \"hoverlabel\": {\"namelength\": 0}, \"hovertemplate\": \"Iteration=50<br>Length=%{x}<br>count=%{y}\", \"legendgroup\": \"\", \"marker\": {\"color\": \"#636efa\"}, \"name\": \"\", \"nbinsx\": 760, \"offsetgroup\": \"\", \"orientation\": \"v\", \"showlegend\": false, \"x\": [760], \"xaxis\": \"x\", \"yaxis\": \"y\", \"type\": \"histogram\"}], \"name\": \"50\"}, {\"data\": [{\"alignmentgroup\": \"True\", \"bingroup\": \"x\", \"hoverlabel\": {\"namelength\": 0}, \"hovertemplate\": \"Iteration=51<br>Length=%{x}<br>count=%{y}\", \"legendgroup\": \"\", \"marker\": {\"color\": \"#636efa\"}, \"name\": \"\", \"nbinsx\": 760, \"offsetgroup\": \"\", \"orientation\": \"v\", \"showlegend\": false, \"x\": [760], \"xaxis\": \"x\", \"yaxis\": \"y\", \"type\": \"histogram\"}], \"name\": \"51\"}, {\"data\": [{\"alignmentgroup\": \"True\", \"bingroup\": \"x\", \"hoverlabel\": {\"namelength\": 0}, \"hovertemplate\": \"Iteration=52<br>Length=%{x}<br>count=%{y}\", \"legendgroup\": \"\", \"marker\": {\"color\": \"#636efa\"}, \"name\": \"\", \"nbinsx\": 760, \"offsetgroup\": \"\", \"orientation\": \"v\", \"showlegend\": false, \"x\": [760], \"xaxis\": \"x\", \"yaxis\": \"y\", \"type\": \"histogram\"}], \"name\": \"52\"}, {\"data\": [{\"alignmentgroup\": \"True\", \"bingroup\": \"x\", \"hoverlabel\": {\"namelength\": 0}, \"hovertemplate\": \"Iteration=53<br>Length=%{x}<br>count=%{y}\", \"legendgroup\": \"\", \"marker\": {\"color\": \"#636efa\"}, \"name\": \"\", \"nbinsx\": 760, \"offsetgroup\": \"\", \"orientation\": \"v\", \"showlegend\": false, \"x\": [760], \"xaxis\": \"x\", \"yaxis\": \"y\", \"type\": \"histogram\"}], \"name\": \"53\"}, {\"data\": [{\"alignmentgroup\": \"True\", \"bingroup\": \"x\", \"hoverlabel\": {\"namelength\": 0}, \"hovertemplate\": \"Iteration=54<br>Length=%{x}<br>count=%{y}\", \"legendgroup\": \"\", \"marker\": {\"color\": \"#636efa\"}, \"name\": \"\", \"nbinsx\": 760, \"offsetgroup\": \"\", \"orientation\": \"v\", \"showlegend\": false, \"x\": [760], \"xaxis\": \"x\", \"yaxis\": \"y\", \"type\": \"histogram\"}], \"name\": \"54\"}, {\"data\": [{\"alignmentgroup\": \"True\", \"bingroup\": \"x\", \"hoverlabel\": {\"namelength\": 0}, \"hovertemplate\": \"Iteration=55<br>Length=%{x}<br>count=%{y}\", \"legendgroup\": \"\", \"marker\": {\"color\": \"#636efa\"}, \"name\": \"\", \"nbinsx\": 760, \"offsetgroup\": \"\", \"orientation\": \"v\", \"showlegend\": false, \"x\": [760], \"xaxis\": \"x\", \"yaxis\": \"y\", \"type\": \"histogram\"}], \"name\": \"55\"}, {\"data\": [{\"alignmentgroup\": \"True\", \"bingroup\": \"x\", \"hoverlabel\": {\"namelength\": 0}, \"hovertemplate\": \"Iteration=56<br>Length=%{x}<br>count=%{y}\", \"legendgroup\": \"\", \"marker\": {\"color\": \"#636efa\"}, \"name\": \"\", \"nbinsx\": 760, \"offsetgroup\": \"\", \"orientation\": \"v\", \"showlegend\": false, \"x\": [760], \"xaxis\": \"x\", \"yaxis\": \"y\", \"type\": \"histogram\"}], \"name\": \"56\"}, {\"data\": [{\"alignmentgroup\": \"True\", \"bingroup\": \"x\", \"hoverlabel\": {\"namelength\": 0}, \"hovertemplate\": \"Iteration=57<br>Length=%{x}<br>count=%{y}\", \"legendgroup\": \"\", \"marker\": {\"color\": \"#636efa\"}, \"name\": \"\", \"nbinsx\": 760, \"offsetgroup\": \"\", \"orientation\": \"v\", \"showlegend\": false, \"x\": [760], \"xaxis\": \"x\", \"yaxis\": \"y\", \"type\": \"histogram\"}], \"name\": \"57\"}, {\"data\": [{\"alignmentgroup\": \"True\", \"bingroup\": \"x\", \"hoverlabel\": {\"namelength\": 0}, \"hovertemplate\": \"Iteration=58<br>Length=%{x}<br>count=%{y}\", \"legendgroup\": \"\", \"marker\": {\"color\": \"#636efa\"}, \"name\": \"\", \"nbinsx\": 760, \"offsetgroup\": \"\", \"orientation\": \"v\", \"showlegend\": false, \"x\": [760], \"xaxis\": \"x\", \"yaxis\": \"y\", \"type\": \"histogram\"}], \"name\": \"58\"}, {\"data\": [{\"alignmentgroup\": \"True\", \"bingroup\": \"x\", \"hoverlabel\": {\"namelength\": 0}, \"hovertemplate\": \"Iteration=59<br>Length=%{x}<br>count=%{y}\", \"legendgroup\": \"\", \"marker\": {\"color\": \"#636efa\"}, \"name\": \"\", \"nbinsx\": 760, \"offsetgroup\": \"\", \"orientation\": \"v\", \"showlegend\": false, \"x\": [760], \"xaxis\": \"x\", \"yaxis\": \"y\", \"type\": \"histogram\"}], \"name\": \"59\"}, {\"data\": [{\"alignmentgroup\": \"True\", \"bingroup\": \"x\", \"hoverlabel\": {\"namelength\": 0}, \"hovertemplate\": \"Iteration=60<br>Length=%{x}<br>count=%{y}\", \"legendgroup\": \"\", \"marker\": {\"color\": \"#636efa\"}, \"name\": \"\", \"nbinsx\": 760, \"offsetgroup\": \"\", \"orientation\": \"v\", \"showlegend\": false, \"x\": [760], \"xaxis\": \"x\", \"yaxis\": \"y\", \"type\": \"histogram\"}], \"name\": \"60\"}, {\"data\": [{\"alignmentgroup\": \"True\", \"bingroup\": \"x\", \"hoverlabel\": {\"namelength\": 0}, \"hovertemplate\": \"Iteration=61<br>Length=%{x}<br>count=%{y}\", \"legendgroup\": \"\", \"marker\": {\"color\": \"#636efa\"}, \"name\": \"\", \"nbinsx\": 760, \"offsetgroup\": \"\", \"orientation\": \"v\", \"showlegend\": false, \"x\": [760], \"xaxis\": \"x\", \"yaxis\": \"y\", \"type\": \"histogram\"}], \"name\": \"61\"}, {\"data\": [{\"alignmentgroup\": \"True\", \"bingroup\": \"x\", \"hoverlabel\": {\"namelength\": 0}, \"hovertemplate\": \"Iteration=62<br>Length=%{x}<br>count=%{y}\", \"legendgroup\": \"\", \"marker\": {\"color\": \"#636efa\"}, \"name\": \"\", \"nbinsx\": 760, \"offsetgroup\": \"\", \"orientation\": \"v\", \"showlegend\": false, \"x\": [760], \"xaxis\": \"x\", \"yaxis\": \"y\", \"type\": \"histogram\"}], \"name\": \"62\"}, {\"data\": [{\"alignmentgroup\": \"True\", \"bingroup\": \"x\", \"hoverlabel\": {\"namelength\": 0}, \"hovertemplate\": \"Iteration=63<br>Length=%{x}<br>count=%{y}\", \"legendgroup\": \"\", \"marker\": {\"color\": \"#636efa\"}, \"name\": \"\", \"nbinsx\": 760, \"offsetgroup\": \"\", \"orientation\": \"v\", \"showlegend\": false, \"x\": [760], \"xaxis\": \"x\", \"yaxis\": \"y\", \"type\": \"histogram\"}], \"name\": \"63\"}, {\"data\": [{\"alignmentgroup\": \"True\", \"bingroup\": \"x\", \"hoverlabel\": {\"namelength\": 0}, \"hovertemplate\": \"Iteration=64<br>Length=%{x}<br>count=%{y}\", \"legendgroup\": \"\", \"marker\": {\"color\": \"#636efa\"}, \"name\": \"\", \"nbinsx\": 760, \"offsetgroup\": \"\", \"orientation\": \"v\", \"showlegend\": false, \"x\": [760], \"xaxis\": \"x\", \"yaxis\": \"y\", \"type\": \"histogram\"}], \"name\": \"64\"}, {\"data\": [{\"alignmentgroup\": \"True\", \"bingroup\": \"x\", \"hoverlabel\": {\"namelength\": 0}, \"hovertemplate\": \"Iteration=65<br>Length=%{x}<br>count=%{y}\", \"legendgroup\": \"\", \"marker\": {\"color\": \"#636efa\"}, \"name\": \"\", \"nbinsx\": 760, \"offsetgroup\": \"\", \"orientation\": \"v\", \"showlegend\": false, \"x\": [760], \"xaxis\": \"x\", \"yaxis\": \"y\", \"type\": \"histogram\"}], \"name\": \"65\"}, {\"data\": [{\"alignmentgroup\": \"True\", \"bingroup\": \"x\", \"hoverlabel\": {\"namelength\": 0}, \"hovertemplate\": \"Iteration=66<br>Length=%{x}<br>count=%{y}\", \"legendgroup\": \"\", \"marker\": {\"color\": \"#636efa\"}, \"name\": \"\", \"nbinsx\": 760, \"offsetgroup\": \"\", \"orientation\": \"v\", \"showlegend\": false, \"x\": [760], \"xaxis\": \"x\", \"yaxis\": \"y\", \"type\": \"histogram\"}], \"name\": \"66\"}, {\"data\": [{\"alignmentgroup\": \"True\", \"bingroup\": \"x\", \"hoverlabel\": {\"namelength\": 0}, \"hovertemplate\": \"Iteration=67<br>Length=%{x}<br>count=%{y}\", \"legendgroup\": \"\", \"marker\": {\"color\": \"#636efa\"}, \"name\": \"\", \"nbinsx\": 760, \"offsetgroup\": \"\", \"orientation\": \"v\", \"showlegend\": false, \"x\": [760], \"xaxis\": \"x\", \"yaxis\": \"y\", \"type\": \"histogram\"}], \"name\": \"67\"}, {\"data\": [{\"alignmentgroup\": \"True\", \"bingroup\": \"x\", \"hoverlabel\": {\"namelength\": 0}, \"hovertemplate\": \"Iteration=68<br>Length=%{x}<br>count=%{y}\", \"legendgroup\": \"\", \"marker\": {\"color\": \"#636efa\"}, \"name\": \"\", \"nbinsx\": 760, \"offsetgroup\": \"\", \"orientation\": \"v\", \"showlegend\": false, \"x\": [760], \"xaxis\": \"x\", \"yaxis\": \"y\", \"type\": \"histogram\"}], \"name\": \"68\"}, {\"data\": [{\"alignmentgroup\": \"True\", \"bingroup\": \"x\", \"hoverlabel\": {\"namelength\": 0}, \"hovertemplate\": \"Iteration=69<br>Length=%{x}<br>count=%{y}\", \"legendgroup\": \"\", \"marker\": {\"color\": \"#636efa\"}, \"name\": \"\", \"nbinsx\": 760, \"offsetgroup\": \"\", \"orientation\": \"v\", \"showlegend\": false, \"x\": [760], \"xaxis\": \"x\", \"yaxis\": \"y\", \"type\": \"histogram\"}], \"name\": \"69\"}, {\"data\": [{\"alignmentgroup\": \"True\", \"bingroup\": \"x\", \"hoverlabel\": {\"namelength\": 0}, \"hovertemplate\": \"Iteration=70<br>Length=%{x}<br>count=%{y}\", \"legendgroup\": \"\", \"marker\": {\"color\": \"#636efa\"}, \"name\": \"\", \"nbinsx\": 760, \"offsetgroup\": \"\", \"orientation\": \"v\", \"showlegend\": false, \"x\": [760], \"xaxis\": \"x\", \"yaxis\": \"y\", \"type\": \"histogram\"}], \"name\": \"70\"}, {\"data\": [{\"alignmentgroup\": \"True\", \"bingroup\": \"x\", \"hoverlabel\": {\"namelength\": 0}, \"hovertemplate\": \"Iteration=71<br>Length=%{x}<br>count=%{y}\", \"legendgroup\": \"\", \"marker\": {\"color\": \"#636efa\"}, \"name\": \"\", \"nbinsx\": 760, \"offsetgroup\": \"\", \"orientation\": \"v\", \"showlegend\": false, \"x\": [760], \"xaxis\": \"x\", \"yaxis\": \"y\", \"type\": \"histogram\"}], \"name\": \"71\"}, {\"data\": [{\"alignmentgroup\": \"True\", \"bingroup\": \"x\", \"hoverlabel\": {\"namelength\": 0}, \"hovertemplate\": \"Iteration=72<br>Length=%{x}<br>count=%{y}\", \"legendgroup\": \"\", \"marker\": {\"color\": \"#636efa\"}, \"name\": \"\", \"nbinsx\": 760, \"offsetgroup\": \"\", \"orientation\": \"v\", \"showlegend\": false, \"x\": [760], \"xaxis\": \"x\", \"yaxis\": \"y\", \"type\": \"histogram\"}], \"name\": \"72\"}, {\"data\": [{\"alignmentgroup\": \"True\", \"bingroup\": \"x\", \"hoverlabel\": {\"namelength\": 0}, \"hovertemplate\": \"Iteration=73<br>Length=%{x}<br>count=%{y}\", \"legendgroup\": \"\", \"marker\": {\"color\": \"#636efa\"}, \"name\": \"\", \"nbinsx\": 760, \"offsetgroup\": \"\", \"orientation\": \"v\", \"showlegend\": false, \"x\": [760], \"xaxis\": \"x\", \"yaxis\": \"y\", \"type\": \"histogram\"}], \"name\": \"73\"}, {\"data\": [{\"alignmentgroup\": \"True\", \"bingroup\": \"x\", \"hoverlabel\": {\"namelength\": 0}, \"hovertemplate\": \"Iteration=74<br>Length=%{x}<br>count=%{y}\", \"legendgroup\": \"\", \"marker\": {\"color\": \"#636efa\"}, \"name\": \"\", \"nbinsx\": 760, \"offsetgroup\": \"\", \"orientation\": \"v\", \"showlegend\": false, \"x\": [760], \"xaxis\": \"x\", \"yaxis\": \"y\", \"type\": \"histogram\"}], \"name\": \"74\"}, {\"data\": [{\"alignmentgroup\": \"True\", \"bingroup\": \"x\", \"hoverlabel\": {\"namelength\": 0}, \"hovertemplate\": \"Iteration=75<br>Length=%{x}<br>count=%{y}\", \"legendgroup\": \"\", \"marker\": {\"color\": \"#636efa\"}, \"name\": \"\", \"nbinsx\": 760, \"offsetgroup\": \"\", \"orientation\": \"v\", \"showlegend\": false, \"x\": [760], \"xaxis\": \"x\", \"yaxis\": \"y\", \"type\": \"histogram\"}], \"name\": \"75\"}, {\"data\": [{\"alignmentgroup\": \"True\", \"bingroup\": \"x\", \"hoverlabel\": {\"namelength\": 0}, \"hovertemplate\": \"Iteration=76<br>Length=%{x}<br>count=%{y}\", \"legendgroup\": \"\", \"marker\": {\"color\": \"#636efa\"}, \"name\": \"\", \"nbinsx\": 760, \"offsetgroup\": \"\", \"orientation\": \"v\", \"showlegend\": false, \"x\": [760], \"xaxis\": \"x\", \"yaxis\": \"y\", \"type\": \"histogram\"}], \"name\": \"76\"}, {\"data\": [{\"alignmentgroup\": \"True\", \"bingroup\": \"x\", \"hoverlabel\": {\"namelength\": 0}, \"hovertemplate\": \"Iteration=77<br>Length=%{x}<br>count=%{y}\", \"legendgroup\": \"\", \"marker\": {\"color\": \"#636efa\"}, \"name\": \"\", \"nbinsx\": 760, \"offsetgroup\": \"\", \"orientation\": \"v\", \"showlegend\": false, \"x\": [760], \"xaxis\": \"x\", \"yaxis\": \"y\", \"type\": \"histogram\"}], \"name\": \"77\"}, {\"data\": [{\"alignmentgroup\": \"True\", \"bingroup\": \"x\", \"hoverlabel\": {\"namelength\": 0}, \"hovertemplate\": \"Iteration=78<br>Length=%{x}<br>count=%{y}\", \"legendgroup\": \"\", \"marker\": {\"color\": \"#636efa\"}, \"name\": \"\", \"nbinsx\": 760, \"offsetgroup\": \"\", \"orientation\": \"v\", \"showlegend\": false, \"x\": [760], \"xaxis\": \"x\", \"yaxis\": \"y\", \"type\": \"histogram\"}], \"name\": \"78\"}, {\"data\": [{\"alignmentgroup\": \"True\", \"bingroup\": \"x\", \"hoverlabel\": {\"namelength\": 0}, \"hovertemplate\": \"Iteration=79<br>Length=%{x}<br>count=%{y}\", \"legendgroup\": \"\", \"marker\": {\"color\": \"#636efa\"}, \"name\": \"\", \"nbinsx\": 760, \"offsetgroup\": \"\", \"orientation\": \"v\", \"showlegend\": false, \"x\": [760], \"xaxis\": \"x\", \"yaxis\": \"y\", \"type\": \"histogram\"}], \"name\": \"79\"}, {\"data\": [{\"alignmentgroup\": \"True\", \"bingroup\": \"x\", \"hoverlabel\": {\"namelength\": 0}, \"hovertemplate\": \"Iteration=80<br>Length=%{x}<br>count=%{y}\", \"legendgroup\": \"\", \"marker\": {\"color\": \"#636efa\"}, \"name\": \"\", \"nbinsx\": 760, \"offsetgroup\": \"\", \"orientation\": \"v\", \"showlegend\": false, \"x\": [760], \"xaxis\": \"x\", \"yaxis\": \"y\", \"type\": \"histogram\"}], \"name\": \"80\"}, {\"data\": [{\"alignmentgroup\": \"True\", \"bingroup\": \"x\", \"hoverlabel\": {\"namelength\": 0}, \"hovertemplate\": \"Iteration=81<br>Length=%{x}<br>count=%{y}\", \"legendgroup\": \"\", \"marker\": {\"color\": \"#636efa\"}, \"name\": \"\", \"nbinsx\": 760, \"offsetgroup\": \"\", \"orientation\": \"v\", \"showlegend\": false, \"x\": [760], \"xaxis\": \"x\", \"yaxis\": \"y\", \"type\": \"histogram\"}], \"name\": \"81\"}, {\"data\": [{\"alignmentgroup\": \"True\", \"bingroup\": \"x\", \"hoverlabel\": {\"namelength\": 0}, \"hovertemplate\": \"Iteration=82<br>Length=%{x}<br>count=%{y}\", \"legendgroup\": \"\", \"marker\": {\"color\": \"#636efa\"}, \"name\": \"\", \"nbinsx\": 760, \"offsetgroup\": \"\", \"orientation\": \"v\", \"showlegend\": false, \"x\": [760], \"xaxis\": \"x\", \"yaxis\": \"y\", \"type\": \"histogram\"}], \"name\": \"82\"}, {\"data\": [{\"alignmentgroup\": \"True\", \"bingroup\": \"x\", \"hoverlabel\": {\"namelength\": 0}, \"hovertemplate\": \"Iteration=83<br>Length=%{x}<br>count=%{y}\", \"legendgroup\": \"\", \"marker\": {\"color\": \"#636efa\"}, \"name\": \"\", \"nbinsx\": 760, \"offsetgroup\": \"\", \"orientation\": \"v\", \"showlegend\": false, \"x\": [760], \"xaxis\": \"x\", \"yaxis\": \"y\", \"type\": \"histogram\"}], \"name\": \"83\"}, {\"data\": [{\"alignmentgroup\": \"True\", \"bingroup\": \"x\", \"hoverlabel\": {\"namelength\": 0}, \"hovertemplate\": \"Iteration=84<br>Length=%{x}<br>count=%{y}\", \"legendgroup\": \"\", \"marker\": {\"color\": \"#636efa\"}, \"name\": \"\", \"nbinsx\": 760, \"offsetgroup\": \"\", \"orientation\": \"v\", \"showlegend\": false, \"x\": [760], \"xaxis\": \"x\", \"yaxis\": \"y\", \"type\": \"histogram\"}], \"name\": \"84\"}, {\"data\": [{\"alignmentgroup\": \"True\", \"bingroup\": \"x\", \"hoverlabel\": {\"namelength\": 0}, \"hovertemplate\": \"Iteration=85<br>Length=%{x}<br>count=%{y}\", \"legendgroup\": \"\", \"marker\": {\"color\": \"#636efa\"}, \"name\": \"\", \"nbinsx\": 760, \"offsetgroup\": \"\", \"orientation\": \"v\", \"showlegend\": false, \"x\": [760], \"xaxis\": \"x\", \"yaxis\": \"y\", \"type\": \"histogram\"}], \"name\": \"85\"}, {\"data\": [{\"alignmentgroup\": \"True\", \"bingroup\": \"x\", \"hoverlabel\": {\"namelength\": 0}, \"hovertemplate\": \"Iteration=86<br>Length=%{x}<br>count=%{y}\", \"legendgroup\": \"\", \"marker\": {\"color\": \"#636efa\"}, \"name\": \"\", \"nbinsx\": 760, \"offsetgroup\": \"\", \"orientation\": \"v\", \"showlegend\": false, \"x\": [760], \"xaxis\": \"x\", \"yaxis\": \"y\", \"type\": \"histogram\"}], \"name\": \"86\"}, {\"data\": [{\"alignmentgroup\": \"True\", \"bingroup\": \"x\", \"hoverlabel\": {\"namelength\": 0}, \"hovertemplate\": \"Iteration=87<br>Length=%{x}<br>count=%{y}\", \"legendgroup\": \"\", \"marker\": {\"color\": \"#636efa\"}, \"name\": \"\", \"nbinsx\": 760, \"offsetgroup\": \"\", \"orientation\": \"v\", \"showlegend\": false, \"x\": [760], \"xaxis\": \"x\", \"yaxis\": \"y\", \"type\": \"histogram\"}], \"name\": \"87\"}, {\"data\": [{\"alignmentgroup\": \"True\", \"bingroup\": \"x\", \"hoverlabel\": {\"namelength\": 0}, \"hovertemplate\": \"Iteration=88<br>Length=%{x}<br>count=%{y}\", \"legendgroup\": \"\", \"marker\": {\"color\": \"#636efa\"}, \"name\": \"\", \"nbinsx\": 760, \"offsetgroup\": \"\", \"orientation\": \"v\", \"showlegend\": false, \"x\": [760], \"xaxis\": \"x\", \"yaxis\": \"y\", \"type\": \"histogram\"}], \"name\": \"88\"}, {\"data\": [{\"alignmentgroup\": \"True\", \"bingroup\": \"x\", \"hoverlabel\": {\"namelength\": 0}, \"hovertemplate\": \"Iteration=89<br>Length=%{x}<br>count=%{y}\", \"legendgroup\": \"\", \"marker\": {\"color\": \"#636efa\"}, \"name\": \"\", \"nbinsx\": 760, \"offsetgroup\": \"\", \"orientation\": \"v\", \"showlegend\": false, \"x\": [760], \"xaxis\": \"x\", \"yaxis\": \"y\", \"type\": \"histogram\"}], \"name\": \"89\"}, {\"data\": [{\"alignmentgroup\": \"True\", \"bingroup\": \"x\", \"hoverlabel\": {\"namelength\": 0}, \"hovertemplate\": \"Iteration=90<br>Length=%{x}<br>count=%{y}\", \"legendgroup\": \"\", \"marker\": {\"color\": \"#636efa\"}, \"name\": \"\", \"nbinsx\": 760, \"offsetgroup\": \"\", \"orientation\": \"v\", \"showlegend\": false, \"x\": [760], \"xaxis\": \"x\", \"yaxis\": \"y\", \"type\": \"histogram\"}], \"name\": \"90\"}, {\"data\": [{\"alignmentgroup\": \"True\", \"bingroup\": \"x\", \"hoverlabel\": {\"namelength\": 0}, \"hovertemplate\": \"Iteration=91<br>Length=%{x}<br>count=%{y}\", \"legendgroup\": \"\", \"marker\": {\"color\": \"#636efa\"}, \"name\": \"\", \"nbinsx\": 760, \"offsetgroup\": \"\", \"orientation\": \"v\", \"showlegend\": false, \"x\": [760], \"xaxis\": \"x\", \"yaxis\": \"y\", \"type\": \"histogram\"}], \"name\": \"91\"}, {\"data\": [{\"alignmentgroup\": \"True\", \"bingroup\": \"x\", \"hoverlabel\": {\"namelength\": 0}, \"hovertemplate\": \"Iteration=92<br>Length=%{x}<br>count=%{y}\", \"legendgroup\": \"\", \"marker\": {\"color\": \"#636efa\"}, \"name\": \"\", \"nbinsx\": 760, \"offsetgroup\": \"\", \"orientation\": \"v\", \"showlegend\": false, \"x\": [760], \"xaxis\": \"x\", \"yaxis\": \"y\", \"type\": \"histogram\"}], \"name\": \"92\"}, {\"data\": [{\"alignmentgroup\": \"True\", \"bingroup\": \"x\", \"hoverlabel\": {\"namelength\": 0}, \"hovertemplate\": \"Iteration=93<br>Length=%{x}<br>count=%{y}\", \"legendgroup\": \"\", \"marker\": {\"color\": \"#636efa\"}, \"name\": \"\", \"nbinsx\": 760, \"offsetgroup\": \"\", \"orientation\": \"v\", \"showlegend\": false, \"x\": [760], \"xaxis\": \"x\", \"yaxis\": \"y\", \"type\": \"histogram\"}], \"name\": \"93\"}, {\"data\": [{\"alignmentgroup\": \"True\", \"bingroup\": \"x\", \"hoverlabel\": {\"namelength\": 0}, \"hovertemplate\": \"Iteration=94<br>Length=%{x}<br>count=%{y}\", \"legendgroup\": \"\", \"marker\": {\"color\": \"#636efa\"}, \"name\": \"\", \"nbinsx\": 760, \"offsetgroup\": \"\", \"orientation\": \"v\", \"showlegend\": false, \"x\": [760], \"xaxis\": \"x\", \"yaxis\": \"y\", \"type\": \"histogram\"}], \"name\": \"94\"}, {\"data\": [{\"alignmentgroup\": \"True\", \"bingroup\": \"x\", \"hoverlabel\": {\"namelength\": 0}, \"hovertemplate\": \"Iteration=95<br>Length=%{x}<br>count=%{y}\", \"legendgroup\": \"\", \"marker\": {\"color\": \"#636efa\"}, \"name\": \"\", \"nbinsx\": 760, \"offsetgroup\": \"\", \"orientation\": \"v\", \"showlegend\": false, \"x\": [760], \"xaxis\": \"x\", \"yaxis\": \"y\", \"type\": \"histogram\"}], \"name\": \"95\"}, {\"data\": [{\"alignmentgroup\": \"True\", \"bingroup\": \"x\", \"hoverlabel\": {\"namelength\": 0}, \"hovertemplate\": \"Iteration=96<br>Length=%{x}<br>count=%{y}\", \"legendgroup\": \"\", \"marker\": {\"color\": \"#636efa\"}, \"name\": \"\", \"nbinsx\": 760, \"offsetgroup\": \"\", \"orientation\": \"v\", \"showlegend\": false, \"x\": [760], \"xaxis\": \"x\", \"yaxis\": \"y\", \"type\": \"histogram\"}], \"name\": \"96\"}, {\"data\": [{\"alignmentgroup\": \"True\", \"bingroup\": \"x\", \"hoverlabel\": {\"namelength\": 0}, \"hovertemplate\": \"Iteration=97<br>Length=%{x}<br>count=%{y}\", \"legendgroup\": \"\", \"marker\": {\"color\": \"#636efa\"}, \"name\": \"\", \"nbinsx\": 760, \"offsetgroup\": \"\", \"orientation\": \"v\", \"showlegend\": false, \"x\": [760], \"xaxis\": \"x\", \"yaxis\": \"y\", \"type\": \"histogram\"}], \"name\": \"97\"}, {\"data\": [{\"alignmentgroup\": \"True\", \"bingroup\": \"x\", \"hoverlabel\": {\"namelength\": 0}, \"hovertemplate\": \"Iteration=98<br>Length=%{x}<br>count=%{y}\", \"legendgroup\": \"\", \"marker\": {\"color\": \"#636efa\"}, \"name\": \"\", \"nbinsx\": 760, \"offsetgroup\": \"\", \"orientation\": \"v\", \"showlegend\": false, \"x\": [760], \"xaxis\": \"x\", \"yaxis\": \"y\", \"type\": \"histogram\"}], \"name\": \"98\"}, {\"data\": [{\"alignmentgroup\": \"True\", \"bingroup\": \"x\", \"hoverlabel\": {\"namelength\": 0}, \"hovertemplate\": \"Iteration=99<br>Length=%{x}<br>count=%{y}\", \"legendgroup\": \"\", \"marker\": {\"color\": \"#636efa\"}, \"name\": \"\", \"nbinsx\": 760, \"offsetgroup\": \"\", \"orientation\": \"v\", \"showlegend\": false, \"x\": [760], \"xaxis\": \"x\", \"yaxis\": \"y\", \"type\": \"histogram\"}], \"name\": \"99\"}]);\n",
              "                        }).then(function(){\n",
              "                            \n",
              "var gd = document.getElementById('9e880944-c176-48f2-b1c5-18be6b050d18');\n",
              "var x = new MutationObserver(function (mutations, observer) {{\n",
              "        var display = window.getComputedStyle(gd).display;\n",
              "        if (!display || display === 'none') {{\n",
              "            console.log([gd, 'removed!']);\n",
              "            Plotly.purge(gd);\n",
              "            observer.disconnect();\n",
              "        }}\n",
              "}});\n",
              "\n",
              "// Listen for the removal of the full notebook cells\n",
              "var notebookContainer = gd.closest('#notebook-container');\n",
              "if (notebookContainer) {{\n",
              "    x.observe(notebookContainer, {childList: true});\n",
              "}}\n",
              "\n",
              "// Listen for the clearing of the current output cell\n",
              "var outputEl = gd.closest('.output');\n",
              "if (outputEl) {{\n",
              "    x.observe(outputEl, {childList: true});\n",
              "}}\n",
              "\n",
              "                        })\n",
              "                };\n",
              "                \n",
              "            </script>\n",
              "        </div>\n",
              "</body>\n",
              "</html>"
            ]
          },
          "metadata": {
            "tags": [
              "id15_content_5",
              "outputarea_id15",
              "user_output"
            ]
          }
        },
        {
          "output_type": "display_data",
          "data": {
            "application/javascript": [
              "window[\"213c453e-d5d0-11ea-88cf-0242ac1c0002\"] = google.colab.output.setActiveOutputArea(window[\"1eda5164-d5d0-11ea-88cf-0242ac1c0002\"]);\n",
              "//# sourceURL=js_e08d8317cc"
            ],
            "text/plain": [
              "<IPython.core.display.Javascript object>"
            ]
          },
          "metadata": {
            "tags": [
              "id15_content_5",
              "outputarea_id15"
            ]
          }
        }
      ]
    }
  ]
}