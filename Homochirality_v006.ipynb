{
  "nbformat": 4,
  "nbformat_minor": 0,
  "metadata": {
    "colab": {
      "name": "check-in-copy.ipynb",
      "provenance": [],
      "collapsed_sections": [
        "AvOcPptw5JVf",
        "a8egVnJUbTYf",
        "axVuXR__qoi4",
        "jI9isLxnRk5d",
        "RX_K0yxjTSEx",
        "IdB8k_yadghA",
        "1lx9FPNLeRNM",
        "HVY41XQPUjIT",
        "hqD3AL_kUldF",
        "HEFlHyn6UoPU",
        "cz4Cis4ze7j6",
        "ALnPeaUCfhL4",
        "CmKsCAazVPy_",
        "DdqK65C-8cpi",
        "3nujicdthc10"
      ],
      "toc_visible": true,
      "include_colab_link": true
    },
    "kernelspec": {
      "name": "python3",
      "display_name": "Python 3"
    }
  },
  "cells": [
    {
      "cell_type": "markdown",
      "metadata": {
        "id": "view-in-github",
        "colab_type": "text"
      },
      "source": [
        "<a href=\"https://colab.research.google.com/github/annikaaross/Homochirality-project/blob/annika-branch/Homochirality_v006.ipynb\" target=\"_parent\"><img src=\"https://colab.research.google.com/assets/colab-badge.svg\" alt=\"Open In Colab\"/></a>"
      ]
    },
    {
      "cell_type": "markdown",
      "metadata": {
        "id": "IO4sCUUbimaZ",
        "colab_type": "text"
      },
      "source": [
        "# Homochirality Model"
      ]
    },
    {
      "cell_type": "markdown",
      "metadata": {
        "id": "AhJ4LH11izgn",
        "colab_type": "text"
      },
      "source": [
        "I have changed this Hello and welcome to *Do Opposites Attract?*, the first monomer dating show. We're here to see if similarity between member(s) of a relationship matters in the strength of the bond between the individuals. Read on as we introduce you to our monomers, our polymers, and the stylish bag that they reside in. Along the way we will keep you up to date on all the drama of falling in love and breaking hearts. "
      ]
    },
    {
      "cell_type": "markdown",
      "metadata": {
        "id": "AvOcPptw5JVf",
        "colab_type": "text"
      },
      "source": [
        "## Global Parameters"
      ]
    },
    {
      "cell_type": "markdown",
      "metadata": {
        "id": "lfMJif2R5Uc7",
        "colab_type": "text"
      },
      "source": [
        "Here's where we keep the rules by which our contestants must play."
      ]
    },
    {
      "cell_type": "code",
      "metadata": {
        "id": "zW---ckX5eKf",
        "colab_type": "code",
        "colab": {}
      },
      "source": [
        "#the bond break probbility applied to all bonds\n",
        "BASE_BOND_BREAK_PROBABILITY = 0.9\n",
        "#if a bond itself is homochiral the base bond fator is multiplied by\n",
        "#this factor\n",
        "HOMOCHIRAL_BREAK_FACTOR = 0.5\n",
        "#this factor is incorporated for each additional neighboring homochiral bond\n",
        "# becomes less and less influential as the bond gets further away\n",
        "HOMOCHIRAL_NEIGHBOR_IMPROV_FACTOR = 0.3\n",
        "#decreases the break probability based on the length of the polymer\n",
        "LENGTH_FACTOR = 0.6\n",
        "\n",
        "\n",
        "\n",
        "#limits the influence of length on breakprobabiltiy(the larger the less influence it has)\n",
        "N=40\n",
        "\n",
        "#saves the break probabilities of sequences of polymers\n",
        "break_prob_lookup_table = {}\n",
        "\n",
        "poisson_dict={}\n",
        "\n",
        "#used in Poisson distribution\n",
        "LAMBDA=6\n",
        "#################################################################\n",
        "#these are the same factors as before but with on for left and  #\n",
        "#one for right homochiral bonds.                                #\n",
        "#used in biaseastbondbreakability method which can be choosen to#\n",
        "#be used over the regular eastbondbreakability method in the    #\n",
        "#self.reset_break_probability() method                          #\n",
        "#################################################################\n",
        "HOMOCHIRAL_BREAK_FACTOR_LEFT = 0.0\n",
        "HOMOCHIRAL_BREAK_FACTOR_RIGHT = 0.9\n",
        "HOMOCHIRAL_NEIGHBOR_IMPROV_FACTOR_LEFT = 0.3\n",
        "HOMOCHIRAL_NEIGHBOR_IMPROV_FACTOR_RIGHT = 0.3\n",
        "\n",
        "N_RANDS = 1000\n",
        "\n",
        "\n",
        "rands = []\n",
        "\n",
        "\n",
        "#These are the liklihoods that a monomer will choose to poof or bond, respectively.\n",
        "#Used in the Reactables class.\n",
        "POOF_CHANCE = 0.3333\n",
        "BOND_PROB = 0.3333\n",
        "\n",
        "# Shorthands #\n",
        "L = True\n",
        "R = False"
      ],
      "execution_count": 1,
      "outputs": []
    },
    {
      "cell_type": "markdown",
      "metadata": {
        "id": "a8egVnJUbTYf",
        "colab_type": "text"
      },
      "source": [
        "## Imports and Helpers"
      ]
    },
    {
      "cell_type": "markdown",
      "metadata": {
        "id": "IN4PxtbgaqnM",
        "colab_type": "text"
      },
      "source": [
        "First we install a package called ```jdc``` which allows us to define classes across different cells using the syntax\n",
        "\n",
        "```\n",
        "%%add_to our_class\n",
        "def our_function(self, our_variable):\n",
        "  print our_variable\n",
        "```\n",
        "\n",
        "The documentation on this magic function can be found at https://alexhagen.github.io/jdc/\n",
        "\n",
        "\n",
        "\n",
        "\n"
      ]
    },
    {
      "cell_type": "code",
      "metadata": {
        "id": "5f4ViqWCQDL_",
        "colab_type": "code",
        "colab": {
          "base_uri": "https://localhost:8080/",
          "height": 34
        },
        "outputId": "fe098dfa-6fbd-4d2c-aba6-28e931f9503d"
      },
      "source": [
        "!pip install jdc"
      ],
      "execution_count": 2,
      "outputs": [
        {
          "output_type": "stream",
          "text": [
            "Requirement already satisfied: jdc in /usr/local/lib/python3.6/dist-packages (0.0.9)\n"
          ],
          "name": "stdout"
        }
      ]
    },
    {
      "cell_type": "markdown",
      "metadata": {
        "id": "5DONDBNfbdC3",
        "colab_type": "text"
      },
      "source": [
        "Here are the imports."
      ]
    },
    {
      "cell_type": "code",
      "metadata": {
        "id": "7gkyGmzI6Vst",
        "colab_type": "code",
        "colab": {}
      },
      "source": [
        "import random\n",
        "import numpy as np\n",
        "import copy\n",
        "from google.colab import widgets\n",
        "import matplotlib.pyplot as plt\n",
        "import jdc\n",
        "import more_itertools\n",
        "import pandas as pd\n",
        "import plotly.express as px"
      ],
      "execution_count": 3,
      "outputs": []
    },
    {
      "cell_type": "markdown",
      "metadata": {
        "id": "Gc5E3314bsom",
        "colab_type": "text"
      },
      "source": [
        "And here are some helper functions."
      ]
    },
    {
      "cell_type": "code",
      "metadata": {
        "id": "PckJQLzVbvor",
        "colab_type": "code",
        "colab": {}
      },
      "source": [
        "def make_pool(n):\n",
        "  \"\"\"\n",
        "  Return a list of n new monomers.\n",
        "  \"\"\"\n",
        "  monomers = []\n",
        "  for n in range(n):\n",
        "    monomers.append(Monomer())\n",
        "  return monomers\n",
        "\n",
        "\n",
        "def numpy_fillna(data):\n",
        "  \"\"\" Rectangularize a jagged array.\n",
        "\n",
        "  Source: https://stackoverflow.com/a/32043366\n",
        "  \"\"\"\n",
        "  # Get lengths of each row of data\n",
        "  lens = np.array([len(i) for i in data])\n",
        "\n",
        "  # Mask of valid places in each row\n",
        "  mask = np.arange(lens.max()) < lens[:,None]\n",
        "\n",
        "  # Setup output array and put elements from data into masked positions\n",
        "  out = np.zeros(mask.shape, dtype=float)\n",
        "  out[mask] = np.concatenate(data)\n",
        "  return out\n",
        "\n",
        "def eAnd(*args): # From https://stackoverflow.com/q/2770434\n",
        "  return [all(tuple) for tuple in zip(*args)]\n",
        "\n",
        "def get_rand():\n",
        "  \"\"\"A function to provide uniform random numbers\"\"\"\n",
        "  if len(rands)<= 10:\n",
        "    randsarray = np.random.rand(N_RANDS)\n",
        "    rands.extend(randsarray.tolist())\n",
        "  return rands.pop()\n",
        "\n",
        "def poissonequation(k):\n",
        "  #checks if value has already been calulated\n",
        "  if k not in poisson_dict:\n",
        "    #otherwise calculates the values\n",
        "    p = (np.exp(-LAMBDA)*((LAMBDA**k)/(np.math.factorial(k))))\n",
        "    #adds to dictionary\n",
        "    poisson_dict[k] = 1-(np.sqrt(p))\n",
        "  return poisson_dict[k]\n"
      ],
      "execution_count": 4,
      "outputs": []
    },
    {
      "cell_type": "markdown",
      "metadata": {
        "id": "axVuXR__qoi4",
        "colab_type": "text"
      },
      "source": [
        "## The Monomer class"
      ]
    },
    {
      "cell_type": "markdown",
      "metadata": {
        "id": "ECDSIjWMVTb9",
        "colab_type": "text"
      },
      "source": [
        "These are our Monomers. The individuals in our dating show. They are the best thing a girl can be in this worl, beautiful little fools. They know that they exist and they know what kind of monomer they are, left or right(thats handedness not political party alignment) What more can you ask for?"
      ]
    },
    {
      "cell_type": "markdown",
      "metadata": {
        "id": "jI9isLxnRk5d",
        "colab_type": "text"
      },
      "source": [
        "### Constructor"
      ]
    },
    {
      "cell_type": "code",
      "metadata": {
        "id": "7TlZA8Njjd2D",
        "colab_type": "code",
        "colab": {}
      },
      "source": [
        "class Monomer:\n",
        "\n",
        "  def __init__(self, **kwargs):\n",
        "    \"\"\"\n",
        "    The constructor method for Monomer objects. Assigns default handedness.\n",
        "    Accepts argument hand = bool with keyword.\n",
        "    Considering other syntax for passing in handedness.\n",
        "    keeps track of how old the monomer\n",
        "    \"\"\"\n",
        "    import random\n",
        "    self._handedness = kwargs['hand'] if 'hand' in kwargs else random.choice([True,False])\n",
        "    self._eastbrkprob = kwargs['brkprob'] if 'brkprob' in kwargs else -1\n",
        "    #keeps track of its age, the number of iterations it has survived\n",
        "    self._age = 0\n",
        "  \n",
        "  def __repr__(self):\n",
        "    return str(f\"{self.get_handedness()}-monomer\")\n"
      ],
      "execution_count": 5,
      "outputs": []
    },
    {
      "cell_type": "markdown",
      "metadata": {
        "id": "aP-4RlM7Q9IS",
        "colab_type": "text"
      },
      "source": [
        "### Getters and Setters"
      ]
    },
    {
      "cell_type": "code",
      "metadata": {
        "id": "IJM6sYAdRHFc",
        "colab_type": "code",
        "colab": {}
      },
      "source": [
        "%%add_to Monomer\n",
        "\n",
        "def get_handedness(self):\n",
        "  \"\"\"Getter method for Monomer handedness.\"\"\"\n",
        "  return self._handedness\n",
        "\n",
        "def get_age(self):\n",
        "  \"\"\"Getter method for Monomer age\"\"\"\n",
        "  return self._age\n",
        "\n",
        "\n",
        "def get_eastbrkprob(self):\n",
        "  \"\"\"Getter method for east bond brk probability\"\"\"\n",
        "  return self._eastbrkprob\n",
        "\n",
        "def set_eastbrkprob(self, newbrk):\n",
        "  \"\"\"Setter method for east bond brk probability\"\"\"\n",
        "  self._eastbrkprob = newbrk\n",
        "\n",
        "def set_age(self, newage):\n",
        "  \"\"\"setter method for age\"\"\"\n",
        "  self._age = newage\n",
        "\n",
        "def reset_eastbrkprob(self) :\n",
        "  \"\"\"reset east brk probability to -1 \n",
        "      to be called when single monomer is broken from polymer\"\"\"\n",
        "  self.set_eastbrkprob(-1)\n"
      ],
      "execution_count": 6,
      "outputs": []
    },
    {
      "cell_type": "markdown",
      "metadata": {
        "id": "ihXAcN9GRXPL",
        "colab_type": "text"
      },
      "source": [
        "### Polymer Compatibility"
      ]
    },
    {
      "cell_type": "code",
      "metadata": {
        "id": "4fFeZGU6Ra7W",
        "colab_type": "code",
        "colab": {}
      },
      "source": [
        "%%add_to Monomer\n",
        "\n",
        "def get_chirality(self):\n",
        "  \"\"\" Return an expression of handedness compatible with the Polymer notation\n",
        "  of chirality (n_lefts, n_rights).\n",
        "  \"\"\"\n",
        "  if self.get_handedness():\n",
        "    return (1,0)\n",
        "  else:\n",
        "    return (0,1)\n",
        "\n",
        "def get_length(self):\n",
        "  \"\"\" Return 1. \"\"\"\n",
        "  return 1\n",
        "\n",
        "def get_ee(self):\n",
        "  \"\"\" Return the enantiomeric excess of the monomer. This value is always 1. \"\"\"\n",
        "  return 1\n",
        "\n",
        "def get_signed_ee(self):\n",
        "  \"\"\" Return the signed enantiomeric excess of the monomer.\n",
        "  Returns 1 if left handed, -1 if right handed.\n",
        "  \"\"\"\n",
        "  if self.get_handedness():\n",
        "    return 1\n",
        "  else:\n",
        "    return -1\n",
        "\n",
        "def generate_old_log(self):\n",
        "  \"\"\" Return a log tuple in the format\n",
        "  (length, signed ee, total # homochiral bonds)\n",
        "  \"\"\"\n",
        "  return (self.get_length(), \n",
        "          self.get_signed_ee())\n",
        "          #sum(self.get_leftrighthomochiralbonds()))\n",
        "\n",
        "def generate_log(self):\n",
        "  \"\"\" Return a log compatible with the reactables history. \"\"\"\n",
        "  return (self.get_handedness(),)\n",
        "\n",
        "def birthday(self):\n",
        "  \"\"\"ages the monomer up\"\"\"\n",
        "  self._age += 1"
      ],
      "execution_count": 7,
      "outputs": []
    },
    {
      "cell_type": "markdown",
      "metadata": {
        "id": "lisjFJ2YqZf7",
        "colab_type": "text"
      },
      "source": [
        "## The Polymer class"
      ]
    },
    {
      "cell_type": "markdown",
      "metadata": {
        "id": "E9EWk1VVV-Oc",
        "colab_type": "text"
      },
      "source": [
        "This is our Polymer class, aka the relationships in this dating show. They contain a list of all the monomers that are inside of them. It is kept in a specific order. They are pretty open books. They can tell us how many monomers they contain, they add new members(either monomers or whole other polymers), they can remove entire groups of members after a certain index, they can check which of their bonds are homochiral and use this to calculate probability of a certain bond breaking(the weak areas in their relationship). They can use this to then tell the producers if and where they are planning on breaking off members of they ranks. Like all good relationships, they use purely mathematics and chance to determine these heart breaking decisions. They can also tell us how many left handed monomers and how many right handed monomers they contain. "
      ]
    },
    {
      "cell_type": "markdown",
      "metadata": {
        "id": "RX_K0yxjTSEx",
        "colab_type": "text"
      },
      "source": [
        "### Constructor"
      ]
    },
    {
      "cell_type": "code",
      "metadata": {
        "id": "zNkhoo72TYUM",
        "colab_type": "code",
        "colab": {}
      },
      "source": [
        "class Polymer:\n",
        "  def __init__(self, monomers = []):\n",
        "    \"\"\" Constructor method for Polymer.\n",
        "    In addition to setting the monomers list, also calculates all break probabilities\n",
        "    of the bonds it contains using reset_break_probability.\n",
        "    \"\"\"\n",
        "    self._monomers = monomers\n",
        "    #self.reset_break_probability()\n",
        "    #keeps track of the age of itself(number of iterations it has survived)\n",
        "    self._age = 0\n",
        "\n",
        "  def __str__(self):\n",
        "    \"\"\" str function for Polymer class. \"\"\"\n",
        "    return f\"\\nA polymer of length {self.get_length()}: {self.get_sequence()}\"\n",
        "  \n",
        "  def __repr__(self):\n",
        "    \"\"\" repr function for Polymer class. \"\"\"\n",
        "    return f\"{self.get_sequence()}-polymer\""
      ],
      "execution_count": 8,
      "outputs": []
    },
    {
      "cell_type": "markdown",
      "metadata": {
        "id": "67fSyVs_Tdlh",
        "colab_type": "text"
      },
      "source": [
        "### Getters, Setters, and Logs"
      ]
    },
    {
      "cell_type": "code",
      "metadata": {
        "id": "ziWCTo2GTcrv",
        "colab_type": "code",
        "colab": {}
      },
      "source": [
        "%%add_to Polymer\n",
        "\n",
        "\n",
        "def get_monomers(self):\n",
        "  \"\"\" Return list of monomers in the polymer. \"\"\"\n",
        "  return self._monomers\n",
        "\n",
        "\n",
        "def get_length(self):\n",
        "  \"\"\" Return the number of monomers in the polymer. \"\"\"\n",
        "  return len(self._monomers)\n",
        "\n",
        "\n",
        "def get_sequence(self):\n",
        "  \"\"\" Return the sequence of monomers in the polymer in a human-readable (and loggable) format. \"\"\"\n",
        "  sequence = []\n",
        "  for monomer in self.get_monomers():\n",
        "    sequence.append(monomer.get_handedness())\n",
        "  return sequence\n",
        "\n",
        "def get_age(self):\n",
        "  \"\"\"\n",
        "  Getter method for the age of the polymer\n",
        "  \"\"\"\n",
        "  return self._age\n",
        "\n",
        "\n",
        "def set_age(self, newage):\n",
        "  \"\"\"\n",
        "  Setter method for the age of the polymer\n",
        "  \"\"\"\n",
        "  self._age = newage\n",
        "\n",
        "def set_monomers(self, new_monomers):\n",
        "  \"\"\" Set the monomers in the polymer to new_monomers. \"\"\"\n",
        "  self._monomers = new_monomers\n",
        "\n",
        "def get_avg_age(self):\n",
        "  \"\"\"\n",
        "  calculates the average age of the monomers in the polymer\n",
        "  \"\"\"\n",
        "  totalage = 0\n",
        "  for n in range(self.get_length()):\n",
        "    totalage += self.get_monomers()[n].get_age()\n",
        "  avgage= totalage/self.get_length()\n",
        "  return avgage\n",
        "\n",
        "\n",
        "def get_chirality(self):\n",
        "  \"\"\" Return the chiralities of the monomers within the polymer.\n",
        "\n",
        "  RETURN: tuple\n",
        "  (number_lefts, number_rights)\n",
        "  \"\"\"\n",
        "  #Get the monomer handednesses\n",
        "  sequence = self.get_sequence()\n",
        "  #Count the number of trues\n",
        "  n_true = sum(sequence)\n",
        "  #The number of falses is the total minus the number of trues\n",
        "  #Return that.\n",
        "  return (n_true, len(sequence) - n_true)\n",
        "\n",
        "def birthday(self):\n",
        "  \"\"\"\n",
        "  Ages up the polymer and all of the monomers in the polymer\n",
        "  \"\"\"\n",
        "  self._age += 1\n",
        "  for n in range(self.get_length()):\n",
        "    self.get_monomers()[n].birthday()\n",
        "    \n",
        "\n",
        "def get_signed_ee(self):\n",
        "  lefts, rights = self.get_chirality()\n",
        "  return (lefts - rights) / self.get_length()\n",
        "\n",
        "def get_ee(self):\n",
        "  lefts, rights = self.get_chirality()\n",
        "  return abs((lefts - rights) / self.get_length())\n",
        "\n",
        "#def get_leftrighthomochiralbonds(self):\n",
        "  #\"\"\"\n",
        "  #returns  # of left and right homochiral bonds in tuple (l,r)\n",
        "  #\"\"\"\n",
        "  #l=0\n",
        "\n",
        "  #r=0\n",
        "\n",
        "  #for n in range(self.get_length()):\n",
        "    #if (self.easthomochiralbiascheck(n) == 3):\n",
        "         # l += 1\n",
        "    #elif (self.easthomochiralbiascheck(n) == 5):\n",
        "        #  r += 1\n",
        "  #tuple1 = (l , r)\n",
        "  \n",
        "  #return tuple1\n",
        "  \n",
        "def generate_old_log(self):\n",
        "  \"\"\" Return a log tuple in the format\n",
        "  (length, signed ee, total # homochiral bonds)\n",
        "  \"\"\"\n",
        "  return (self.get_length(), \n",
        "          self.get_signed_ee())\n",
        "          #sum(self.get_leftrighthomochiralbonds()))\n",
        "  \n",
        "def generate_log(self):\n",
        "  \"\"\" Return a log tuple formatted simply as the list of boolean handednesses of the monomers contained\n",
        "  in the polymer. Will be heavier than holding data about the polymer like in the other log format,\n",
        "  but should allow access to more information and more kinds of information.\n",
        "  \"\"\"\n",
        "  return tuple(self.get_sequence())"
      ],
      "execution_count": 9,
      "outputs": []
    },
    {
      "cell_type": "markdown",
      "metadata": {
        "id": "IdB8k_yadghA",
        "colab_type": "text"
      },
      "source": [
        "### Functionality methods"
      ]
    },
    {
      "cell_type": "code",
      "metadata": {
        "id": "Xa_gIPs0dcjS",
        "colab_type": "code",
        "colab": {}
      },
      "source": [
        "%%add_to Polymer\n",
        "\n",
        "def append(self, other):\n",
        "  \"\"\"\n",
        "  Adds a reactable (monomer or polymer) to the end of the Polymer.\n",
        "  If the added reactable is a polymer, append() deletes it after taking its monomers.\n",
        "  \"\"\"\n",
        "  #Check the type of thing to add\n",
        "  if isinstance(other, Monomer):\n",
        "    #Monomers can just be appended to the list\n",
        "    self._monomers.append(other)\n",
        "  elif isinstance(other, Polymer):\n",
        "    #For polymers we need to extend rather than append, to avoid nested lists\n",
        "    self._monomers.extend(other.get_monomers())\n",
        "    #Then once the monomers are safely in their new polymer, the old one is deleted\n",
        "    del other\n",
        "\n",
        "def brkloc(self):\n",
        "\n",
        "  #makes a list of all the indices of monomers in the polymer except \n",
        "  #for the last one\n",
        "  indices = []\n",
        "  for n in range(self.get_length() - 1):\n",
        "    indices.append(n)\n",
        "  #puts indices in random order\n",
        "  random.shuffle(indices)\n",
        "  #tests if each indices will break\n",
        "  for index in indices:\n",
        "    #gets the breakprobability for monomer at n index\n",
        "    brkprob = self._monomers[index].get_eastbrkprob()\n",
        "    rand = get_rand()\n",
        "    # checks if the random number is less than the brkprob then the index of\n",
        "    #the monomer is returned from the method\n",
        "    #indicating this polymer breaks at the east bond of this monomer\n",
        "    if(brkprob > rand):\n",
        "      #print(self)\n",
        "      #print(break_prob_lookup_table[tuple(self.get_sequence())])\n",
        "      #print(index)\n",
        "      #print(\"brkprob is:\")\n",
        "      #print(brkprob)\n",
        "      #print(\"rand is\")\n",
        "      #print(rand)\n",
        "      #print(\"now I go to brk polymer\")\n",
        "      return index\n",
        "  return None\n",
        "\n",
        "def removeright(self,location):\n",
        "  \"\"\"\n",
        "  Removes all monomers to the right (east) of a given index\n",
        "  \"\"\"\n",
        "  #creates a list of monomers in the polymer to the left, and including,\n",
        "  #the monomer at the location(index) provided\n",
        "  newList = self._monomers[0:location+1]\n",
        "\n",
        "  #makes a list of the monoers to the rightof the monomer at the \n",
        "  #index provided\n",
        "  removed = self._monomers[location+1:]\n",
        "\n",
        "  #sets the polymers monomers to newList(the monomers to the left\n",
        "  #of  and the index provided)\n",
        "  self.set_monomers(newList)\n",
        "  #print(\"after breaking ractable is:\",self)\n",
        "  #print(\"after breaking removed is:\",removed)\n",
        "\n",
        "  #returns the monomers that were removed, everything the right\n",
        "  #of the index provided\n",
        "  return removed"
      ],
      "execution_count": 10,
      "outputs": []
    },
    {
      "cell_type": "markdown",
      "metadata": {
        "id": "1lx9FPNLeRNM",
        "colab_type": "text"
      },
      "source": [
        "### Homochirality handling"
      ]
    },
    {
      "cell_type": "code",
      "metadata": {
        "id": "THNcbUmt1vm7",
        "colab_type": "code",
        "colab": {}
      },
      "source": [
        "%%add_to Polymer\n",
        "def easthomochiralcheck(self,numbermonomer):\n",
        "  \"\"\"\n",
        "  Takes the index of a monomer within the Polymer and returns whether its east bond is homochiral.\n",
        "  \"\"\"\n",
        "  #First check that the index isn't out of bounds \n",
        "  if (0 > numbermonomer or numbermonomer >= self.get_length()-1):\n",
        "    return False\n",
        "  #get the handedness of this monomer and its east neighbor, and return whether or not they're equal (bool)\n",
        "  return self._monomers[numbermonomer].get_handedness() == self._monomers[numbermonomer+1].get_handedness()\n",
        "\n",
        "def easthomochiralbiascheck (self, numbermonomer):\n",
        "  \"\"\" this method can be used in place of the east homochiral check method\n",
        "  returns false if not homochiral, 3 if homochiral left, 5 if homochiral right\"\"\"\n",
        "\n",
        "  #First check that the index isn't out of bounds or if not homochiral\n",
        "  if (0 > numbermonomer or numbermonomer >= self.get_length()-1 or not self.easthomochiralcheck(numbermonomer)):\n",
        "    return False\n",
        "  \n",
        "  #otherwise check if they are homochiral left or right\n",
        "  elif self._monomers[numbermonomer].get_handedness():\n",
        "      #means left homochiral\n",
        "      return 3\n",
        "  elif not self._monomers[numbermonomer].get_handedness():\n",
        "      #means right homochiral\n",
        "      return 5\n",
        "  \n",
        "\n",
        "def eastbondbreakprobability(self,numbermonomer):\n",
        "  \"\"\"\n",
        "  Takes the index of a monomer within the Polymer\n",
        "  Returns the probability that the monomer's east bond will break\n",
        "  returns -3 if the monomer has no east bond\n",
        "  \"\"\"\n",
        "  ##############################\n",
        "  #Override to return an equal break chance for every bond in the polymer\n",
        "  #Simply comment out this line to get the regular function\n",
        "  #return (0.3)\n",
        "  ##############################\n",
        "\n",
        "  #First check if the monomer is the last one in the polymer\n",
        "  if (numbermonomer >= self.get_length()-1):\n",
        "    #If so, it doesn't have an east bond to break, so the probability is 0(return -3)\n",
        "    return -3\n",
        "    \n",
        "  #now we initialize brk probability (brk)\n",
        "  brk = (BASE_BOND_BREAK_PROBABILITY) * (LENGTH_FACTOR**(self.get_length()/N))\n",
        "  #check if the east bond is homochiral\n",
        "  if (self.easthomochiralcheck(numbermonomer)):\n",
        "    #if so multiply it by homochiral break factor (shrinks probability)\n",
        "    brk *= HOMOCHIRAL_BREAK_FACTOR\n",
        "    #goes through method which checks and calculates benefit of all homochiral neighbors\n",
        "    brk = self.checkforhomochiralneighbors(numbermonomer,brk,HOMOCHIRAL_NEIGHBOR_IMPROV_FACTOR)\n",
        "  #end def: returns break probability of monomers east bond\n",
        "  return brk\n",
        "\n",
        "def biaseastbondbreakprobability(self,numbermonomer):\n",
        "  \"\"\"\n",
        "  ***left-right sensitivity****\n",
        "  Takes the index of a monomer within the Polymer\n",
        "  Returns the probability that the monomer's east bond will break\n",
        "  returns -3 if the monomer has no east bond\n",
        "  \"\"\"\n",
        "  ##############################\n",
        "  #Override to return an equal break chance for every bond in the polymer\n",
        "  #Simply comment out this line to get the regular function\n",
        "  #return (0.3)\n",
        "  ##############################\n",
        "  \n",
        "  #First check if the monomer is the last one in the polymer\n",
        "  if (numbermonomer >= self.get_length()-1):\n",
        "    #If so, it doesn't have an east bond to break, so the probability is 0 (returns -3)\n",
        "    return -3\n",
        "  \n",
        "  #initialize the brk probability\n",
        "  brk = (BASE_BOND_BREAK_PROBABILITY) * (LENGTH_FACTOR**(self.get_length()/N))\n",
        "\n",
        "  #check if the east bond is homochiral left\n",
        "  if (self.easthomochiralbiascheck(numbermonomer) == 3):\n",
        "    brk *= HOMOCHIRAL_BREAK_FACTOR_LEFT\n",
        "\n",
        "    #run through function that recalculates brk based on benfits of homochiral neighbors\n",
        "    brk = self.checkforhomochiralneighbors(numbermonomer, brk, HOMOCHIRAL_NEIGHBOR_IMPROV_FACTOR_LEFT)\n",
        "\n",
        "  #otherwise checks if bond is homochiral right\n",
        "  elif (self.easthomochiralbiascheck(numbermonomer) == 5):\n",
        "    brk *= HOMOCHIRAL_BREAK_FACTOR_RIGHT\n",
        "\n",
        "    #run through function that recalculates brk based on benfits of homochiral neighbors\n",
        "    brk = self.checkforhomochiralneighbors(numbermonomer,brk, HOMOCHIRAL_NEIGHBOR_IMPROV_FACTOR_RIGHT)\n",
        "   \n",
        "  return brk\n",
        "\n",
        "def checkforhomochiralneighbors(self, numbermonomer, brk, neighborfactor):\n",
        "\n",
        "  \"\"\"\n",
        "  helps all the versions of the eastbond break calculating functions\n",
        "  takes in a brk probability a number monomer and the desired neighbor improvement factor\n",
        "  and calculates how the neighbors a bond will increase the strength of the bond\n",
        "  it then returns the new brk prob to the eastbond brk function\n",
        "  \"\"\"\n",
        "  brk = brk\n",
        "  j = numbermonomer + 1\n",
        "  #going right to check for homochiral neighbors\n",
        "  while(self.easthomochiralcheck(j)):\n",
        "    #calculates decrease to brk prob for a neighbor of that distance for the bond\n",
        "    brk *= 1 - (neighborfactor**abs(j - numbermonomer))\n",
        "    j += 1\n",
        "\n",
        "  #going left to check for homochiral neighbors\n",
        "  j=numbermonomer-1\n",
        "  while(self.easthomochiralcheck(j)):\n",
        "    #calculates decrease to brk prob for a neighbor of that distance for the bond\n",
        "    brk *= 1-(neighborfactor**abs(numbermonomer - j))\n",
        "    j -= 1\n",
        "\n",
        "  return brk\n",
        "\n",
        "\n",
        "def poissonbreakprobability(self,numbermonomer):\n",
        "  \"\"\"\n",
        "  Takes the index of a monomer within the Polymer\n",
        "  Returns the probability that the monomer's east bond will break\n",
        "  based on Poisson distribution\n",
        "  returns -3 if the monomer has no east bond\n",
        "  \"\"\"\n",
        "\n",
        "  #First check if the monomer is the last one in the polymer\n",
        "  if (numbermonomer >= self.get_length()-1):\n",
        "    #If so, it doesn't have an east bond to break, so the probability is 0(return -3)\n",
        "    return -3\n",
        "\n",
        "  #With that out of the way, we initialize brk to the base probability of breaking a bond\n",
        "  brk = (BASE_BOND_BREAK_PROBABILITY) #* (LENGTH_FACTOR**(self.get_length()/N))\n",
        "\n",
        "  #keeps track of the number of the total consecutive homochiral bonds\n",
        "  homochiralcount=0 \n",
        "\n",
        "  #check if the east bond is homochiral\n",
        "  if (self.easthomochiralcheck(numbermonomer)):\n",
        "    #if so homochiral count increases by 1\n",
        "    homochiralcount +=1\n",
        "    #brk gets benefited by the poisson distribution of homochiral count \n",
        "    brk *= (poissonequation(homochiralcount))\n",
        "\n",
        "    #set j to monomer to right\n",
        "    j = numbermonomer+1\n",
        "\n",
        "    #going right to check for neighboring homochirality\n",
        "    while(self.easthomochiralcheck(j)):\n",
        "      #if homochiral increases count\n",
        "      homochiralcount += 1\n",
        "      #recalculates brk prob\n",
        "      brk *= (poissonequation(homochiralcount))\n",
        "\n",
        "      #check next monomer\n",
        "      j += 1\n",
        "\n",
        "    #going left to check for neighboring homochirality\n",
        "    j=numbermonomer-1\n",
        "    homochiralcount = 1\n",
        "    while(self.easthomochiralcheck(j)):\n",
        "      homochiralcount += 1\n",
        "      brk *= (poissonequation(homochiralcount))\n",
        "      j -= 1\n",
        "\n",
        "  return brk\n",
        "\n",
        "\n",
        "def reset_break_probability(self):\n",
        "    \n",
        "  \"\"\" \n",
        "  resets the break probabilities of the monomers in a \n",
        "  sequence. 1)checks lookup table to see if similar polymer values\n",
        "  have been caluclated, otherwise calculates values and adds\n",
        "  polymer to lookup table 2)sets values to monomers.\n",
        " \n",
        "  \"\"\"\n",
        "  #store self as list of booleans to be added to lookup table\n",
        "  polyseq = self.get_monomers().copy()\n",
        "  for n in range(self.get_length()):\n",
        "    polyseq[n] = polyseq[n].get_handedness()\n",
        "\n",
        "\n",
        "  # All stored sequences start with True. If the one being requested doesn't, invert so that it does\n",
        "  #comment out if right/left sensitivity is included\n",
        "  #if polyseq[0] == True:\n",
        "    #polyseq = [not mono for mono in polyseq]\n",
        "\n",
        "  #make polyseq a tuple able to be added as an index of a dictionary  \n",
        "  polyseq = tuple(polyseq)\n",
        "\n",
        "  # If the sequence is already in the table (dict), retrieves its previously calculated break probabilities\n",
        "  if polyseq in break_prob_lookup_table:\n",
        "    the_probs = break_prob_lookup_table[polyseq]\n",
        "    \n",
        "  else: # Otherwise calculate and add to the lookup table\n",
        "    # Calculate the break probabilities\n",
        "    the_probs = self.calculatebrkprob()\n",
        "    #and add it to the lookup table\n",
        "    break_prob_lookup_table[polyseq] = the_probs\n",
        "\n",
        "  #set monomers eastbond brk probs to correlated values stored in the_probs\n",
        "  for n in range (self.get_length()):\n",
        "    self._monomers[n].set_eastbrkprob(the_probs[n])\n",
        "\n",
        "  #end def: polymer break probabilities recalculated and added\n",
        "  #to lookup table (if not already there)\n",
        "\n",
        "def calculatebrkprob(self):\n",
        "    \n",
        "  \"\"\"\n",
        "  generates and returns a list of break probabilities for the monomers at each index of\n",
        "  a polymer. This method can be altered to calculate normally\n",
        "  with left/right sensitivity or with a poisson distribution\n",
        " \n",
        "  \"\"\"\n",
        "\n",
        "  #initialize brk_probs as an empty list\n",
        "  brk_probs = []\n",
        "  \n",
        "  #checks if polymer is of length one -meaning it is lone monomer\n",
        "  if self.get_length() == 1 :\n",
        "    #if so adds -1 to list(brk prob value assigned to individual monomers)\n",
        "    brk_probs.append(-1)\n",
        "    \n",
        "  else:\n",
        "    #otherwise goes through all the indices of the polymer,calculates its brk probability, and appends it to brk_probs \n",
        "    for n in range(self.get_length()):\n",
        "\n",
        "      #############################################################\n",
        "      #LEFT RIGHT SENSITIVITY/POISSON EQUATIONS CHOICE.           #\n",
        "      #pick one-comment out the rest.                             #\n",
        "      #############################################################\n",
        "\n",
        "      #this line if uncommented will have left/right sensitivity\n",
        "      #brk_probs.append(self.biaseastbondbreakprobability(n))\n",
        "\n",
        "      #this line if uncommented will calculate probabilities normally\n",
        "      brk_probs.append(self.eastbondbreakprobability(n))\n",
        "\n",
        "      #this line if uncommented will calculate brk probabilities with poisson distribution\n",
        "      #brk_probs.append(self.poissonbreakprobability(n))\n",
        "\n",
        "  #returns in order list of brk probs for the east bond of all the monomers in a polymer\n",
        "  return brk_probs\n"
      ],
      "execution_count": 11,
      "outputs": []
    },
    {
      "cell_type": "markdown",
      "metadata": {
        "id": "oV4UK3XdkNoF",
        "colab_type": "text"
      },
      "source": [
        "## The Reactables class"
      ]
    },
    {
      "cell_type": "markdown",
      "metadata": {
        "id": "NPkloQE3XbaD",
        "colab_type": "text"
      },
      "source": [
        "This is the Reactables class aka the stylish little bag we keep our contestants in. As all good dating shows, we define our members by the relationship they are in. So a single monomer will be addd to the bag alone, but a monomer in a polymer will not be. Rather each polymer will be recorded once. Its like if you have charlie, ben, and jack. Jack and Ben are in a relationship so they are jointly called Jen. If these three were in the reactable bag they would be recognized as two things, charlie and Jen(Ben+JAck). The reactable class is the heart and center of our game- I mean dating- show. Its here we ask all the members just the right questions to get them falling in love and breaking hearts, and then we are curteous enough to do all the splitting and merging for them. "
      ]
    },
    {
      "cell_type": "markdown",
      "metadata": {
        "id": "HVY41XQPUjIT",
        "colab_type": "text"
      },
      "source": [
        "### Constructor"
      ]
    },
    {
      "cell_type": "code",
      "metadata": {
        "id": "JAdpBmhBUuGc",
        "colab_type": "code",
        "colab": {}
      },
      "source": [
        "class Reactables:\n",
        "\n",
        "  def __init__(self, reactables = []):\n",
        "    \"\"\"\n",
        "    Constructor class for Reactables object\n",
        "    Accepts list of reactables or defaults to empty list\n",
        "    Reactables functions as a bin for reactable objects monomer and polymer\n",
        "    Methods consist mostly of list handling\n",
        "    \"\"\"\n",
        "    self._reactables = reactables\n",
        "    #The reactables bag also handles remembering its history\n",
        "    self._history = []\n",
        "    #self._leftrighthistory = []\n",
        "    #list of the age of the polymers in the reactables bag. \n",
        "    self._agehistory = []\n",
        "    self._lookup = {}\n",
        "    self._hist_stats = pd.DataFrame()\n",
        "\n",
        "\n",
        "  def __str__(self):\n",
        "    \"\"\"\n",
        "    str method for Reactables class\n",
        "    \"\"\"\n",
        "    return str(self.get_reactables())"
      ],
      "execution_count": 12,
      "outputs": []
    },
    {
      "cell_type": "markdown",
      "metadata": {
        "id": "hqD3AL_kUldF",
        "colab_type": "text"
      },
      "source": [
        "### Getters and Setters"
      ]
    },
    {
      "cell_type": "code",
      "metadata": {
        "id": "7hRne9W9U3No",
        "colab_type": "code",
        "colab": {}
      },
      "source": [
        "%%add_to Reactables\n",
        "\n",
        "#################\n",
        "#GETTERS/SETTERS#\n",
        "#################\n",
        "\n",
        "def get_reactables(self):\n",
        "  \"\"\"\n",
        "  Getter method for reactables in Reactables\n",
        "  Returns a list of the objects currently in the Reactables bag\n",
        "  \"\"\"\n",
        "  return self._reactables\n",
        "\n",
        "def get_history(self):\n",
        "  \"\"\" Return the history of the reactables bag.\n",
        "  \"\"\"\n",
        "  return self._history\n",
        "\n",
        "#def get_leftrighthistory(self):\n",
        "  #return self._leftrighthistory\n",
        "\n",
        "def get_agehistory(self):\n",
        "  \"\"\"\n",
        "  Getter method for the age history of the reactables bag\n",
        "  \"\"\"\n",
        "  return self._agehistory\n",
        "  \n",
        "def get_count(self):\n",
        "  \"\"\"\n",
        "  Getter method for Reactables class\n",
        "  Returns the number of objects in the Reactables bag\n",
        "  \"\"\"\n",
        "  return len(self.get_reactables()) \n",
        "\n",
        "\n",
        "def set_reactables(self, new_list):\n",
        "  \"\"\"\n",
        "  Setter method for the Reactables class\n",
        "  Sets the reactables bag to a new list\n",
        "  Used mostly as a helper function in bonding\n",
        "  \"\"\"\n",
        "  self._reactables = new_list\n",
        "\n",
        "def set_agehistory(self, newagehistory):\n",
        "  self._agehistory = newagehistory\n",
        "\n",
        "\n",
        "def get_bond_chance(self, reactable1, reactable2):\n",
        "  \"\"\"\n",
        "  Returns the probability that two given reactables in the reactables bag will bond\n",
        "  \"\"\"\n",
        "  return BOND_PROB\n",
        "\n",
        "def get_free_monomers(self):\n",
        "  return [r for r in self.get_reactables() if isinstance(r, Monomer)]\n",
        "\n",
        "def get_polymers(self):\n",
        "  return [r for r in self.get_reactables() if isinstance(r, Polymer)]\n",
        "\n",
        "def get_bound_monomers(self):\n",
        "  bound = []\n",
        "  for p in self.get_polymers():\n",
        "    bound.extend(p.get_monomers())\n",
        "  return bound\n",
        "\n",
        "#def record_leftrighthomochiral(self):\n",
        " # \"\"\"returns the number of left and right homochiral bonds, (left,right)\"\"\"\n",
        " # l=0\n",
        "  #r=0\n",
        "  #for polymer in self.get_polymers() :\n",
        "   # tuple1 = polymer.get_leftrighthomochiralbonds()\n",
        "    #l += tuple1[0]\n",
        "    #r += tuple1[1]\n",
        "  #tuple2 = (l , r)\n",
        "  #self._leftrighthistory.append(tuple2)\n",
        "  #return tuple2\n",
        "\n",
        "def get_stats(self):\n",
        "  return self._hist_stats\n",
        "\n",
        "def set_hist_stats(self,df):\n",
        "  self._hist_stats = df\n",
        "\n",
        "def get_lookup(self):\n",
        "  return self._lookup\n",
        "\n",
        "def add_stat_lookup(self, key, value):\n",
        "  self._lookup[key] = value"
      ],
      "execution_count": 13,
      "outputs": []
    },
    {
      "cell_type": "markdown",
      "metadata": {
        "id": "HEFlHyn6UoPU",
        "colab_type": "text"
      },
      "source": [
        "### Functionality methods"
      ]
    },
    {
      "cell_type": "markdown",
      "metadata": {
        "id": "cz4Cis4ze7j6",
        "colab_type": "text"
      },
      "source": [
        "#### Top level functionality"
      ]
    },
    {
      "cell_type": "code",
      "metadata": {
        "id": "UZMHOVm_fDL0",
        "colab_type": "code",
        "colab": {}
      },
      "source": [
        "%%add_to Reactables\n",
        "\n",
        "def refill(self, pool_size):\n",
        "  #Do we have less than the required number of things in the pool?\n",
        "  dearth = pool_size - self.get_count()\n",
        "  #If so,\n",
        "  if dearth > 0:\n",
        "    new = []\n",
        "    #Make as many monomers as we need to get back up to the riquired amount\n",
        "    for n in range(dearth):\n",
        "      new.append(Monomer())\n",
        "    #And add them to the reactables bag\n",
        "    self.add(new)\n",
        "\n",
        "def randomize_reactables(self):\n",
        "  \"\"\"\n",
        "  Randomizes the order of the reactables list\n",
        "  \"\"\"\n",
        "  #Get the current reactables\n",
        "  reactables = self.get_reactables()\n",
        "  #Shuffle them\n",
        "  random.shuffle(reactables)\n",
        "  #And reset the reactables list to the new sorted list\n",
        "  self.set_reactables(reactables)\n",
        "\n",
        "def do_the_thing(self):\n",
        "  \"\"\"\n",
        "  Handle a single iteration of the reactables.\n",
        "\n",
        "  \"\"\"\n",
        "  #We keep track of bonding by storing the most recent reactable to choose to bond as the 'bachelor.'\n",
        "  bachelor = None\n",
        "  #We need a copy of the reactables because indices will change as soon as we start doing stuff\n",
        "  reactables = copy.copy(self.get_reactables())\n",
        "  #Iterate through each reactable\n",
        "  for item in reactables:\n",
        "    #Roll a random number in (0,1) to compare against our probabilities\n",
        "    roll = get_rand()\n",
        "    #If our reactable is a monomer...\n",
        "    if isinstance(item, Monomer):\n",
        "      #We get our breaking and bonding chances (parameters now, may become functions later?)\n",
        "      brk = POOF_CHANCE\n",
        "      bond = BOND_PROB\n",
        "      #If we roll to break the monomer\n",
        "      if 0 < roll <= brk:\n",
        "        #Just delete it\n",
        "        del item\n",
        "      #If we roll to bond the monomer\n",
        "      elif brk < roll <= brk+bond:\n",
        "        #Check if there's a reactable waiting to bond\n",
        "        if bachelor == None:\n",
        "          #If not, make this monomer the bachelor. Someone will come along to bond later.\n",
        "          bachelor = item\n",
        "        else:\n",
        "          #If there is someone waiting, bond them together and reset the bachelor chair to empty.\n",
        "          self.bond_pair(bachelor, item)\n",
        "          #print(\"I have gone to bonnnnnnddddddd!!!!\")\n",
        "          bachelor= None\n",
        "      else:\n",
        "        continue\n",
        "    #If the reactable is a polymer instead...\n",
        "    elif isinstance(item, Polymer):\n",
        "      #Choose whether the polymer will break or bond. It's 50-50 right now.\n",
        "      if roll >= 0.6:\n",
        "        #This is the same bonding logic as for the monomer. It's not in a helper function because it needs to be able to access bachelor.\n",
        "        if bachelor == None:\n",
        "          bachelor = item\n",
        "        else:\n",
        "          self.bond_pair(bachelor, item)\n",
        "          #print(\"I have gone to bonnnnnnddddddd!!!!\")\n",
        "          bachelor = None\n",
        "      #Here's what happens if the polymer is chosen to check breaking\n",
        "      else:\n",
        "        #It finds its break location\n",
        "        #print(\"I am going to fing my brk location!!!\")\n",
        "        break_spot = item.brkloc()\n",
        "        #print(break_spot)\n",
        "        #Which might turn out to be nowhere.\n",
        "        if break_spot != None:\n",
        "          #print(\"I am going to break myself!\")\n",
        "          #If somewhere does break, call break_polymer to handle the breaking\n",
        "          self.break_polymer(item,break_spot)\n",
        "    else:\n",
        "      #You never know what might end up in your reactables bag\n",
        "      raise ValueError(\"This thing is neither a monomer or a polymer. What?!\")\n",
        "\n",
        "def iterate(self,size):\n",
        "  \"\"\"\n",
        "  Handles full sequence of iteration\n",
        "  \"\"\"\n",
        "  self.randomize_reactables()\n",
        "  self.do_the_thing()\n",
        "  self.log()\n",
        "  self.ageup()\n",
        "  #self.record_leftrighthomochiral()\n",
        "  self.refill(size)"
      ],
      "execution_count": 14,
      "outputs": []
    },
    {
      "cell_type": "markdown",
      "metadata": {
        "id": "ALnPeaUCfhL4",
        "colab_type": "text"
      },
      "source": [
        "#### Functionality helpers"
      ]
    },
    {
      "cell_type": "code",
      "metadata": {
        "id": "hpqCXL48VGTB",
        "colab_type": "code",
        "colab": {}
      },
      "source": [
        "%%add_to Reactables\n",
        "\n",
        "\n",
        "def add(self, new_reactables):\n",
        "  \"\"\"\n",
        "  Adds a list of reactables to the reactables bag\n",
        "  Built on extend(); argument must be iterable\n",
        "  \"\"\"\n",
        "  #print(\"list of new Reactbles\", new_reactables)\n",
        "  #print(\"list of get Reactables:\",self.get_reactables())\n",
        "  self.get_reactables().extend(new_reactables)\n",
        "  #print(\"reactables list is now\",self.get_reactables())\n",
        "\n",
        "\n",
        "def subtract(self, removables):\n",
        "  \"\"\"\n",
        "  Removes a list of reactables from the reactables bag\n",
        "  Built on list comprehension; argument must be iterable\n",
        "  \"\"\"\n",
        "  self.set_reactables([reactable for reactable in self.get_reactables() if not (reactable in removables)])\n",
        "\n",
        "\n",
        "def bond_pair(self, west, east):\n",
        "  \"\"\"\n",
        "  Accepts two reactables from the bag\n",
        "  Bonds them together, handling deletion of any emptied polymer\n",
        "  \"\"\"\n",
        "\n",
        "  #this is my attempt to get the ages working properly the idea is:\n",
        "\n",
        "  #if both are polymers or both are monomers:\n",
        "  if (type(west) == type(east) and type(west) == Polymer):\n",
        "    #set the new age to the maximum age of the polymers\n",
        "    age = max(west.get_age(), east.get_age())\n",
        "  \n",
        "  if (type(west) == type(east) and type(west) == Monomer):\n",
        "    #set age to 0 it is a brand new polymer\n",
        "    age = 0\n",
        "\n",
        "  #if only one is a polymer:\n",
        "  if isinstance(west, Polymer) and isinstance(east, Monomer):\n",
        "    #set the age to the age of the polymer\n",
        "    age = west.get_age()\n",
        "  if isinstance(west, Monomer) and isinstance(east, Polymer):\n",
        "    # set the age to the age of the polymer\n",
        "    age = east.get_age()\n",
        "\n",
        "  #Take your two reactables and check if the west one is a monomer or a polymer \n",
        "  if isinstance(west, Polymer):\n",
        "    #If it's a polymer, all you've got to do is append the east item and then take it out of the bag\n",
        "    west.append(east)\n",
        "    self.subtract([east])\n",
        "    #recalculate the breakprobabilities of the bonds in polymer\n",
        "    west.reset_break_probability()\n",
        "    #set new polymer to age that was calculated before\n",
        "    west.set_age(age)\n",
        "    #print(\"I have just bonded are we good with my break probs?/?????\")\n",
        "    #print(west)\n",
        "    brkprobs = []\n",
        "    for n in range(west.get_length()):\n",
        "      brkprobs.append(west.get_monomers()[n].get_eastbrkprob())\n",
        "    #print(brkprobs)\n",
        "    #print(\"compared toooo\")\n",
        "    #print(break_prob_lookup_table[tuple(west.get_sequence())])\n",
        "    #print(\"#####################\")\n",
        "\n",
        "  if isinstance(west, Monomer):\n",
        "    #If west friend is a Monomer, then make a new polymer containing west\n",
        "    newpoly = Polymer([west])\n",
        "    #Add the east things to it\n",
        "    newpoly.append(east)\n",
        "    #Remove both the west monomer and the east thing\n",
        "    self.subtract([east])\n",
        "    self.subtract([west])\n",
        "    #And put the new polymer into the reactables bag\n",
        "    self.add([newpoly])\n",
        "    #recalculates break probability\n",
        "    newpoly.reset_break_probability()\n",
        "    #set new polymer to age that was calculated before\n",
        "    newpoly.set_age(age)\n",
        "    #print(\"I have just bonded are we good with my break probs?/?????\")\n",
        "    #print(newpoly)\n",
        "    brkprobs = []\n",
        "    for n in range(newpoly.get_length()):\n",
        "      brkprobs.append(newpoly.get_monomers()[n].get_eastbrkprob())\n",
        "    #print(brkprobs)\n",
        "    #print(\"compared toooo\")\n",
        "    #print(break_prob_lookup_table[tuple(newpoly.get_sequence())])\n",
        "    #print(\"#####################\")\n",
        "\n",
        "\n",
        "\n",
        "def break_polymer(self, polymer, brk_location):\n",
        "  #note age for both new polymers to obtain\n",
        "  age = polymer.get_age()\n",
        "  #breaks polymer at given location and creates a new polymer of the \n",
        "  #monomers removed\n",
        "  #when polymer is made-breakprobabilities are calculated\n",
        "  #print(polymer)\n",
        "  newPolymer = Polymer(polymer.removeright(brk_location))\n",
        "  #print(\"I have broken myself at \")\n",
        "  #print(brk_location)\n",
        "  #print(polymer)\n",
        "  #print(newPolymer)\n",
        "  #if(newPolymer._monomers[0].get_handedness() and polymer._monomers[-1].get_handedness()):\n",
        "    #print (\"left breaking when literally impossible????\")\n",
        "  #if(not newPolymer._monomers[0].get_handedness() and not polymer._monomers[-1].get_handedness()):\n",
        "   # print(\"right breaking\")\n",
        "  polys = [newPolymer, polymer]\n",
        "  #resets break probabilities in polymers\n",
        "  #goes throught the two new polymers\n",
        "  for poly in polys:\n",
        "    #reset both ages to the age of the original polymer\n",
        "    poly.set_age(age)\n",
        "    #resets break probabilities in polymers\n",
        "    poly.reset_break_probability()\n",
        "    brkprobs = []\n",
        "    for n in range(poly.get_length()):\n",
        "      brkprobs.append(poly.get_monomers()[n].get_eastbrkprob())\n",
        "    #print(brkprobs)\n",
        "    #print(\"compared tooooooooo\")\n",
        "    #print(break_prob_lookup_table[tuple(poly.get_sequence())])\n",
        "    #print(\"############################\")\n",
        "    if poly.get_length()==0:\n",
        "      print(\"whyyyyyyyyyyy is this happening????\")\n",
        "    #checks if they are of length 1\n",
        "    if poly.get_length() <= 1:\n",
        "      #adds them to reactable as a single monomer\n",
        "      self.add(poly.get_monomers())\n",
        "      #subtracts polymer from reactable list\n",
        "      self.subtract([poly])\n",
        "      del poly\n",
        "    #checks if the polymer is not in the reactables list\n",
        "    elif (poly not in self.get_reactables()):\n",
        "      #add polymer to reactable list\n",
        "      self.add([poly])\n",
        "\n",
        "    \n",
        "\n"
      ],
      "execution_count": 15,
      "outputs": []
    },
    {
      "cell_type": "markdown",
      "metadata": {
        "id": "CmKsCAazVPy_",
        "colab_type": "text"
      },
      "source": [
        "### Current state data methods"
      ]
    },
    {
      "cell_type": "code",
      "metadata": {
        "id": "4FVYtSkYVZ7n",
        "colab_type": "code",
        "colab": {}
      },
      "source": [
        "%%add_to Reactables\n",
        "\n",
        "def get_overall_chirality(self):\n",
        "  \"\"\" Return the total quantity of left- and right-handed monomers in the reactable\n",
        "    pool, including monomers within polymers.\n",
        "\n",
        "  RETURN tuple\n",
        "  (Left-handed_quantity, Right-handed_quantity)\n",
        "  \"\"\"\n",
        "  left_count = 0\n",
        "  right_count = 0\n",
        "  for reactable in self.get_reactables():\n",
        "    if isinstance(reactable, Monomer):\n",
        "      if reactable.get_handedness():\n",
        "        left_count += 1\n",
        "      else:\n",
        "        right_count += 1\n",
        "    elif isinstance(reactable, Polymer):\n",
        "      l, r = reactable.get_chirality()\n",
        "      left_count += l\n",
        "      right_count += r\n",
        "    else:\n",
        "      print(f\"{reactable}, which is a {type(reactable)}\")\n",
        "      raise ValueError\n",
        "  return (left_count, right_count)\n",
        "\n",
        "def get_polymer_chirality(self):\n",
        "  \"\"\" Return the total quantity of left- and right-handed monomers in the polymers\n",
        "  within the reactable pool.\n",
        "\n",
        "  RETURN tuple\n",
        "  (Left-handed_quantity, Right-handed_quantity)\n",
        "  \"\"\"\n",
        "  left_count = 0\n",
        "  right_count = 0\n",
        "  for reactable in self.get_reactables():\n",
        "    if isinstance(reactable, Polymer):\n",
        "      l, r = reactable.get_chirality()\n",
        "      left_count += l\n",
        "      right_count += r\n",
        "  return (left_count, right_count)\n",
        "\n",
        "def get_free_proportion(self):\n",
        "  \"\"\"Return the proportion of free monomers to total population\"\"\"\n",
        "  return len(self.get_free_monomers())/self.unit_count()\n",
        "\n",
        "def unit_count(self):\n",
        "  \"\"\"return the total number of monomers in the bag, both free and bound\"\"\"\n",
        "  bound = 0\n",
        "  for p in self.get_polymers():\n",
        "    bound += p.get_length()\n",
        "  return len(self.get_free_monomers()) + bound\n",
        "\n",
        "def get_polymer_ee(self):\n",
        "  ee = []\n",
        "  for polymer in self.get_polymers():\n",
        "    ee.append(polymer.get_signed_ee())\n",
        "  return ee\n",
        "\n",
        "def avg_ee_by_length(self):\n",
        "  \"\"\" Return a list containing the enantiomeric excess of all reactables sorted by size.\n",
        "  That is:\n",
        "  [(ee of monomers),(ee of 2-mers),(ee of 3-mers) etc]\n",
        "  \"\"\"\n",
        "  output = []\n",
        "  for n in range(1,self.max_length()+1):\n",
        "    group = self.get_reactables_by_length(n)\n",
        "    ees = []\n",
        "    # print(f\"For length {n} I got {len(group)} reactables.\")\n",
        "    if len(group) > 0:\n",
        "      # eestr = \"\"\n",
        "      for r in group:\n",
        "        ees.append(r.get_ee())\n",
        "        # eestr += f\", {r.get_ee()}\"\n",
        "      output.append(np.mean(ees))\n",
        "      # print(f\"The ee's of this length were {eestr}.\\nThe average ee was {np.mean(ees)}.\")\n",
        "    else:\n",
        "      output.append(0)\n",
        "  return output\n",
        "\n",
        "def get_reactables_by_length(self,length):\n",
        "  if length <= 1:\n",
        "    #return the monomers\n",
        "    return self.get_free_monomers()\n",
        "  else:\n",
        "    return [p for p in self.get_polymers() if p.get_length() == length]\n",
        "\n",
        "def max_length(self):\n",
        "  \"\"\" Return the length of the longest polymer in the reactables bag.\n",
        "  \"\"\"\n",
        "  length = 0\n",
        "  for p in self.get_polymers():\n",
        "    if p.get_length() > length:\n",
        "      length = p.get_length()\n",
        "  return length\n",
        "\n",
        "def ageup(self):\n",
        "  \"\"\"\n",
        "  Method that ages up every reactable in the reactables bag\n",
        "  \"\"\"\n",
        "  for reactable in self.get_reactables():\n",
        "    reactable.birthday()\n",
        "    \n",
        "\n",
        "def logagehistory (self):\n",
        "  \"\"\"\n",
        "  Method that logs the age of the molecules in the current iteration. Only logs the polymers ages.\n",
        "  \"\"\"\n",
        "  log = []\n",
        "  #gets all the polymers in an iteration\n",
        "  polymers = self.get_polymers()\n",
        "  #Goes through polymers\n",
        "  for molecule in polymers:\n",
        "    #appends age to log\n",
        "    log.append(molecule.get_age())\n",
        "    #returns log of a list of ages of the polymers of current iteration\n",
        "  return log\n",
        "  \n",
        "\n"
      ],
      "execution_count": 16,
      "outputs": []
    },
    {
      "cell_type": "markdown",
      "metadata": {
        "id": "FVHgjYMhkuri",
        "colab_type": "text"
      },
      "source": [
        "### History handling methods"
      ]
    },
    {
      "cell_type": "code",
      "metadata": {
        "id": "tps6afh4kzUe",
        "colab_type": "code",
        "colab": {}
      },
      "source": [
        "%%add_to Reactables\n",
        "\n",
        "# def old_log(self):\n",
        "#   \"\"\" Translate current reactables list into a lighter-weight list of tuples \n",
        "#     describing the bag state, then logs that list into self._history.\n",
        "#     Log format: (length,signed_ee)\n",
        "#     e.g.  True-monomer would be (1,1)\n",
        "#           [False, True, False, False]-polymer would be (4,-0.5)\n",
        "#     \"\"\"\n",
        "#   log = []\n",
        "#   for r in self.get_reactables():\n",
        "#     log.append(r.generate_old_log())\n",
        "#   (self._history).append(log)\n",
        "\n",
        "def log(self):\n",
        "  \"\"\" Translate current reactables into a loggable list of tuples.\n",
        "  This log keeps the full sequences of the polymers without digesting the data, \n",
        "  so it should be more flexible as we more forward with pulling new information\n",
        "  out of this simulation. \n",
        "  There is one major piece of information lost, however, which is the identities\n",
        "  of the individual polymers and monomers. \"\"\"\n",
        "  log = []\n",
        "  for r in self.get_reactables():\n",
        "    log.append(r.generate_log())\n",
        "  (self._history).append(log)\n",
        "  #appends the iterations age to the age history\n",
        "  self._agehistory.append(self.logagehistory())\n",
        "  \n",
        "\n",
        "\n",
        "\n",
        "\n",
        "# def get_iter_polymers_by_length(self, single_iteration_log):\n",
        "#   # So we have something like this: [(t,f,f),(t),(f,f),(f),(t,t,t,f)]\n",
        "#   polymers_by_length = []\n",
        "#   lengths = [len(log) for log in single_iteration_log]\n",
        "#   biggest = max(lengths)\n",
        "#   for n in range(1, biggest+1):\n",
        "#     polys = [log for log in single_iteration_log if len(log) == n]\n",
        "#     if len(polys) > 0:\n",
        "#       polymers_by_length.append(polys)\n",
        "#     else:\n",
        "#       polymers_by_length.append([])\n",
        "#   return polymers_by_length\n",
        "\n",
        "# def get_iter_ees_by_length(self,single_iter_log):\n",
        "#   polymers_by_length = self.get_iter_polymers_by_length(single_iter_log)\n",
        "#   for length_category in polymers_by_length:\n",
        "#     for polymer in length_category:\n",
        "#       ee = hist_get_polymer_ee(polymer)\n",
        "\n",
        "\n",
        "def parse_history(self):\n",
        "    \"\"\" Create an array of plottable information from the history log. \"\"\"\n",
        "\n",
        "    # Column labels for History Handling #\n",
        "    Type = \"Type\"                   # Monomer or polymer\n",
        "    Length = \"Length\"               # How many monomers in the thing\n",
        "    nLefts = \"#Lefts\"               # How many left monomers in the thing\n",
        "    nRights = \"#Rights\"             # How many right monomers in the thing\n",
        "    Sequence = \"Sequence\"           # The string sequence of the thing\n",
        "    nLhomo = \"#LeftHomochiral\"      # The number of left homochiral bonds in the polymer\n",
        "    nRhomo = \"#RightHomochiral\"     # The number of right homochiral bonds in the polymer\n",
        "    nHomo = \"#Homochiral\"           # The overall number of homochiral bonds in the polymer\n",
        "    sEE = \"Signed ee\"               # The signed enantiomeric excess of the polymer (+ if more True)\n",
        "    pcHomo = \"%Homochirality\"       # The proportion of bonds in the polymer that are homochiral\n",
        "    pcLhomo = \"%LeftHomochirality\"  # The proportion of bonds in the polymer that are left homochiral\n",
        "    pcRhomo = \"%RightHomochirality\" # The proportion of bonds in the polymer that are right homochiral\n",
        "    Iter = \"Iteration\"              # The iteration number at which the item is found\n",
        "\n",
        "    \n",
        "    history = self.get_history()\n",
        "    individual_stats = pd.DataFrame()\n",
        "    for n in range(len(history)):\n",
        "        iteration = history[n]\n",
        "        for item in iteration:\n",
        "            # Translate\n",
        "            sequence = self.standard_form(item)\n",
        "\n",
        "            if len(item) == 1: # It's a monomer\n",
        "                #Is it in the lookup table?\n",
        "                if sequence not in self.get_lookup():\n",
        "                    # Get the info\n",
        "                    lr = self.count_LR(item)\n",
        "                    # And put it in the lookup table\n",
        "                    self.add_stat_lookup(sequence, {Type: 'Monomer', \n",
        "                                                    Length:1, \n",
        "                                                    nLefts:lr[0], \n",
        "                                                    nRights:lr[1],\n",
        "                                                    Sequence:sequence})\n",
        "                # Now that the data is searchable...\n",
        "                # Log it  \n",
        "                new_log = self.get_lookup().get(sequence)\n",
        "                new_log[Iter]=n\n",
        "                individual_stats = individual_stats.append(new_log, ignore_index=True)\n",
        "\n",
        "            elif len(item) > 1: # It's a polymer\n",
        "                #Is it in the lookup table?\n",
        "                if sequence not in self.get_lookup():\n",
        "                    # Get basic info\n",
        "                    length = len(item)\n",
        "                    lr = self.count_LR(item)\n",
        "                    bonds = self.homochiral_bond_counts(item)\n",
        "                    total_homos = bonds[0]+bonds[1]\n",
        "                    signed_ee = (lr[0]-lr[1])/(lr[0]+lr[1])\n",
        "                    homochirality = total_homos/(length-1)\n",
        "                    lhomochirality = bonds[0]/(length-1)\n",
        "                    rhomochirality = bonds[1]/(length-1)\n",
        "                    # And put it in the lookup table\n",
        "                    self.add_stat_lookup(sequence, {Type: 'Polymer', \n",
        "                                                    Length: length, \n",
        "                                                    nLefts:lr[0], \n",
        "                                                    nRights:lr[1],\n",
        "                                                    nLhomo:bonds[0],\n",
        "                                                    nRhomo:bonds[1],\n",
        "                                                    nHomo:total_homos,\n",
        "                                                    sEE:signed_ee,\n",
        "                                                    pcHomo:homochirality,\n",
        "                                                    pcLhomo:lhomochirality,\n",
        "                                                    pcRhomo:rhomochirality,\n",
        "                                                    Sequence:sequence})\n",
        "                # Now that the data is searchable...\n",
        "                # Log it\n",
        "                new_log = self.get_lookup().get(sequence)\n",
        "                new_log[Iter]=n\n",
        "                individual_stats = individual_stats.append(new_log, ignore_index=True)\n",
        "                \n",
        "            else:\n",
        "                raise ValueError(\"There's something with length 0 in your history.\")\n",
        "    self.set_hist_stats(individual_stats)\n",
        "\n"
      ],
      "execution_count": 17,
      "outputs": []
    },
    {
      "cell_type": "markdown",
      "metadata": {
        "id": "UkZ1_7xIy0Yd",
        "colab_type": "text"
      },
      "source": [
        "#### Low level info functions"
      ]
    },
    {
      "cell_type": "code",
      "metadata": {
        "id": "qJQfgfeSy5Me",
        "colab_type": "code",
        "colab": {}
      },
      "source": [
        "%%add_to Reactables\n",
        "\n",
        "## New ones ##\n",
        "\n",
        "  \n",
        "# Functions for getting the info we want to log\n",
        "    \n",
        "# Number of right and left monomers in a polymer (works on monomers too)\n",
        "\n",
        "\n",
        "def count_LR(self, log):\n",
        "    \"\"\" Return (n_Lefts, n_Rights) \"\"\"\n",
        "    if L and not R:\n",
        "        return (sum(log), len(log)-sum(log))\n",
        "    elif R and not L:\n",
        "        return (len(log)-sum(log), sum(log))\n",
        "    else:\n",
        "        raise ValueError(\"Your L's and R's are screwed up somehow.\")\n",
        "    \n",
        "\n",
        "\n",
        "# HOMOCHIRALITY SEQUENCES #\n",
        "\n",
        "def homochirality_sequence(self, log):\n",
        "  \"\"\" Return a boolean list of bonds within a given logged polymer, True if the bond is\n",
        "      homochiral. \"\"\"\n",
        "  return [i[0]==i[1] for i in list(more_itertools.pairwise(log))]\n",
        "\n",
        "def _is_L_True(self, log):\n",
        "    return log[:-1]\n",
        "\n",
        "\n",
        "def T_homochirality_sequence(self,h_seq,L_seq):\n",
        "    \"\"\" Return a boolean list of bonds within a polymer, true if the bond is \n",
        "    a homochiral bond between two True monomers. Parameters are the outputs of \n",
        "    homochirality_sequence() and _is_L_True(). \"\"\"\n",
        "    return eAnd(h_seq,L_seq)\n",
        "\n",
        "# HOMOCHIRAL BOND COUNTS #\n",
        "    \n",
        "\n",
        "def homochiral_bond_counts(self,log):\n",
        "    \"\"\" Return (number of left homochiral bonds, number of right homochiral bonds) \"\"\"\n",
        "    homo = self.homochirality_sequence(log)\n",
        "    west_true = log[:-1]\n",
        "    true_homochiral = eAnd(homo,west_true)\n",
        "    west_false = [not m for m in west_true]\n",
        "    false_homochiral = eAnd(homo,west_false)\n",
        "    if L and not R:\n",
        "        return (sum(true_homochiral), sum(false_homochiral))\n",
        "    elif R and not L: \n",
        "        return (sum(false_homochiral), sum(true_homochiral))\n",
        "    else:\n",
        "        raise ValueError(\"Your L's and R's are screwed up somehow.\")\n",
        "\n",
        "\n",
        "def get_polymer_chain_lengths(self,polylog):\n",
        "  \"\"\" Return the lengths of the homochiral chains in a given polymer log. \"\"\"\n",
        "  count = 1\n",
        "  lengths = [] \n",
        "  for n in range(1,len(polylog)):\n",
        "    if polylog[n] == polylog[n-1]:\n",
        "      count += 1\n",
        "    else:\n",
        "      lengths.append(count)\n",
        "      count = 1\n",
        "  lengths.append(count)\n",
        "  return lengths\n",
        "    \n",
        "\n",
        "def standard_form(self,poly):\n",
        "  if len(poly) == 0:\n",
        "    return ''\n",
        "  return ''.join(['L' if m else 'R' for m in poly])\n",
        "    \n",
        "\n",
        "\n",
        "\n",
        "## Old ones ##\n",
        "\n",
        "def hist_get_polymer_homochirality_of_bonds(self,polylog):\n",
        "  \"\"\" Return a boolean list of bonds within a given logged polymer, True if the bond is\n",
        "      homochiral. \"\"\"\n",
        "  return [i[0]==i[1] for i in list(more_itertools.pairwise(polylog))]\n",
        "\n",
        "def hist_get_polymer_ee(self,polylog):\n",
        "  \"\"\" Return the (signed) enantiomeric excess of a logged polymer. \"\"\"\n",
        "  length = len(polylog)\n",
        "  n_True = sum(polylog)\n",
        "  n_False = length - n_True\n",
        "  return (n_True - n_False) / length\n",
        "\n",
        "def hist_get_polymers(self,iteration):\n",
        "  \"\"\" Return a list of the polymer logs in an iteration. This is just the iteration\n",
        "  but without the monomers. \"\"\"\n",
        "  return [r for r in iteration if len(r) > 1]\n",
        "\n",
        "def hist_count_longest_homochiral_chain(self,polylog):\n",
        "  \"\"\" Return the length of the longest homochiral chain given the log of a polymer. \"\"\"\n",
        "  previous = None\n",
        "  count = 1\n",
        "  longest = 1\n",
        "  for monomer in polylog:\n",
        "    if monomer == previous:\n",
        "      count += 1\n",
        "    else:\n",
        "      longest = max(count, longest)\n",
        "      count = 1\n",
        "    previous = monomer\n",
        "  longest = max(count, longest)\n",
        "  return longest\n",
        "\n",
        "def hist_get_polymer_chain_lengths(self,polylog):\n",
        "  \"\"\" Return the lengths of the homochiral chains in a given polymer log. \"\"\"\n",
        "  count = 1\n",
        "  lengths = [] \n",
        "  for n in range(1,len(polylog)):\n",
        "    if polylog[n] == polylog[n-1]:\n",
        "      count += 1\n",
        "    else:\n",
        "      lengths.append(count)\n",
        "      count = 1\n",
        "  lengths.append(count)\n",
        "  return lengths\n",
        "\n",
        "def hist_get_iteration_chain_lengths(self,iteration):\n",
        "  \"\"\" Return the lengths of all the homochiral chains in polymers in a given iteration. \"\"\"\n",
        "  polymers = self.hist_get_polymers(iteration)\n",
        "  chain_lengths = []\n",
        "  for polymer in polymers:\n",
        "    chain_lengths.extend(self.hist_get_polymer_chain_lengths(polymer))\n",
        "  return chain_lengths\n",
        "\n",
        "# Other new ones #\n",
        "\n",
        "def hist_get_leftright_homochiral_count_iteration(self,iteration):\n",
        "  \"\"\"\n",
        "  returns a tuple (l,r)of the total number of left homochiral bonds and right homochiral bonds in an iteration \n",
        "  \"\"\"\n",
        "  #initilize l to keep track of the number of homochiral bonds\n",
        "  l=0\n",
        "  #initilize r to keep track of the number of homochiral bonds\n",
        "  r=0\n",
        "\n",
        "  #run through reactables in the iteration\n",
        "  for reactable in iteration:\n",
        "     #add the left homochiral bond count in each reactable\n",
        "     l += self.hist_get_leftright_homochiral_count_polymer(reactable)[0]\n",
        "     #add the right homochiral bond count in each reactable\n",
        "     r += self.hist_get_leftright_homochiral_count_polymer(reactable)[1]\n",
        "\n",
        "  #place l and r in a tuple\n",
        "  leftrightcount=(l,r)\n",
        "\n",
        "  #return the tuple\n",
        "  return leftrightcount\n",
        "\n",
        "def hist_get_leftright_homochiral_count_polymer(self,polymer):\n",
        "  \"\"\"\n",
        "  returns a tuple (l,r)of the total number of left homochiral bonds and right homochiral bonds in an polymer \n",
        "  \"\"\"\n",
        "\n",
        "  #initialize l to keep track of the number of left homochiral bonds\n",
        "  l=0\n",
        "  #initialize r to keep trac of the number of right homochiral bonds\n",
        "  r=0\n",
        "\n",
        "  #go through the monomers in the polymer\n",
        "  for monomer in range(len(polymer)-1):\n",
        "\n",
        "      #check if they are homochiral\n",
        "        if (polymer[monomer]== polymer[monomer+1]):\n",
        "          #if so check if they are homochiral left\n",
        "          if (polymer[monomer]):\n",
        "            #if so add one to l\n",
        "            l += 1\n",
        "          #otherwise check if they are homochiral right\n",
        "          elif (not polymer[monomer]):\n",
        "            #if so add one to r\n",
        "            r += 1\n",
        "  #place l and r in a tuple\n",
        "  leftrightcount= (l,r)\n",
        "  #return the tuple\n",
        "  return leftrightcount\n",
        "\n",
        "def hist_get_bond_status(self,polylog):\n",
        "  \"\"\" Iterate through the monomers in polylog ONCE to get number of left homochiral\n",
        "  and right homochiral bonds, as well as chain lengths if at all possible. \"\"\"\n",
        "  for m in polylog:\n",
        "    pass\n"
      ],
      "execution_count": 18,
      "outputs": []
    },
    {
      "cell_type": "markdown",
      "metadata": {
        "id": "WdlB4JOXUq9i",
        "colab_type": "text"
      },
      "source": [
        "### Plotting methods"
      ]
    },
    {
      "cell_type": "code",
      "metadata": {
        "id": "czdjDAVBPpQI",
        "colab_type": "code",
        "colab": {}
      },
      "source": [
        "%%add_to Reactables\n",
        "\n",
        "def visualize_parameters(self,stamp=\"\"):\n",
        "  fig,ax = plt.subplots()\n",
        "\n",
        "  parameters = ['POOF_CHANCE','BOND_PROB','BASE_BOND_BREAK_PROBABILITY',\n",
        "                'HOMOCHIRAL_BREAK_FACTOR','HOMOCHIRAL_NEIGHBOR_IMPROV_FACTOR',\n",
        "                'LENGTH_FACTOR','HOMOCHIRAL_BREAK_FACTOR_LEFT',\n",
        "                'HOMOCHIRAL_BREAK_FACTOR_RIGHT',\n",
        "                'HOMOCHIRAL_NEIGHBOR_IMPROV_FACTOR_LEFT',\n",
        "                'HOMOCHIRAL_NEIGHBOR_IMPROV_FACTOR_RIGHT']\n",
        "  values = [POOF_CHANCE,BOND_PROB,BASE_BOND_BREAK_PROBABILITY,\n",
        "            HOMOCHIRAL_BREAK_FACTOR,HOMOCHIRAL_NEIGHBOR_IMPROV_FACTOR,\n",
        "            LENGTH_FACTOR,HOMOCHIRAL_BREAK_FACTOR_LEFT,\n",
        "            HOMOCHIRAL_BREAK_FACTOR_RIGHT,\n",
        "            HOMOCHIRAL_NEIGHBOR_IMPROV_FACTOR_LEFT,\n",
        "            HOMOCHIRAL_NEIGHBOR_IMPROV_FACTOR_RIGHT]\n",
        "\n",
        "  ypos = np.arange(len(parameters))\n",
        "\n",
        "  ax.barh(ypos, values, align='center')\n",
        "  ax.set_yticks(ypos)\n",
        "  ax.set_yticklabels(parameters)\n",
        "  ax.invert_yaxis()  # labels read top-to-bottom\n",
        "  ax.set_xlabel('Value')\n",
        "  ax.set_title(f\"{stamp}Parameter values\")\n",
        "\n",
        "\n",
        "\n",
        "def plot_signed_ee_spread(self,cmap='bone',stamp=\"\"):\n",
        "  #First make the polymerspread thingy\n",
        "  poly_ee_hist = []\n",
        "  for iteration in self.get_history():\n",
        "    polys = [log for log in iteration if not isinstance(log,bool)]\n",
        "    polydata = [log for log in polys if len(log) > 1] # All the polymers (not monomers) in the iteration\n",
        "    poly_ees = [self.hist_get_polymer_ee(poly) for poly in polydata] # the EE of each polymer in the iteration\n",
        "    poly_ee_hist.append(poly_ees) # Put the EE list in our plottable structure\n",
        "  #Now we can make the plot\n",
        "  fig,ax = plt.subplots()\n",
        "  ys = []\n",
        "  xs = []\n",
        "  for n in range(len(poly_ee_hist)):\n",
        "    y = poly_ee_hist[n]\n",
        "    x = [n] * len(y)\n",
        "    ys.extend(y)\n",
        "    xs.extend(x)\n",
        "  ax.hexbin(xs,ys,cmap=cmap)\n",
        "  ax.set_title(f\"{stamp}polymer spread\")\n",
        "  ax.set_xlabel(\"iteraions\")\n",
        "  ax.set_ylabel(\"ee\")\n",
        "\n",
        "def plot_ee_heatmap(self,cmap='bone',stamp=\"\"):\n",
        "  #Need to figure out how to get ees_by_length from history\n",
        "  ees_by_length = []\n",
        "  for iteration in self.get_history():\n",
        "    ee_data = []\n",
        "    #get the polymers\n",
        "    polys = [log for log in iteration if not isinstance(log,bool)]\n",
        "    #get the length of the longest polymer\n",
        "    lengths = [len(log) for log in polys]\n",
        "    try:\n",
        "      biggest = max(lengths)\n",
        "    except:\n",
        "      biggest = 0\n",
        "    for n in range(1,biggest+1):\n",
        "      ees = [abs(self.hist_get_polymer_ee(log)) for log in polys if len(log) == n]\n",
        "      if len(ees) > 0:\n",
        "        ee_data.append(np.mean(ees))\n",
        "      else:\n",
        "        ee_data.append(0)\n",
        "    ees_by_length.append(ee_data)\n",
        "  #Need to make a new ee array with rectangular dimensions\n",
        "  ee = numpy_fillna(ees_by_length)\n",
        "  fig,ax = plt.subplots(dpi=150)\n",
        "  im = ax.imshow(ee,cmap=cmap)\n",
        "  ax.set_title(f\"{stamp}ee of polymers by length through iterations\")\n",
        "  ax.set_xlabel(\"polymer lengths\")\n",
        "  ax.set_ylabel(\"iterations\")\n",
        "  fig.tight_layout()\n",
        "  plt.show()\n",
        "\n",
        "def plot_leftrighthomochirality(self):\n",
        "  \"\"\"\n",
        "  Plot the percent of bonds that are left homochiral and right homochiral in each iteration\n",
        "  \"\"\"\n",
        " #make list to hold the number of left bonds\n",
        "  L=[]\n",
        " #make list to hold the number of right bonds\n",
        "  R=[]\n",
        " #make list to hold the number of iteration\n",
        "  x=[]\n",
        " #integer to keep track of iterations\n",
        "  i=1\n",
        "\n",
        " #work through history of reactables bag\n",
        "  for iteration in self.get_history():\n",
        "\n",
        "    #get the left right homochiral count in the iteration(returned as a tuple)\n",
        "    leftrightcount=self.hist_get_leftright_homochiral_count_iteration(iteration)\n",
        "\n",
        "    #initiate bonds as 0 to keep track of total number of bonds in the iteration\n",
        "    bonds = 0\n",
        "\n",
        "    #work through the polymers in iteration\n",
        "    for polymer in self.hist_get_polymers(iteration):\n",
        "      #add all the bonds in the a polymer to the total number of bonds\n",
        "      bonds += len(polymer)- 1\n",
        "\n",
        "    #to avoid a divide by zero error\n",
        "    if bonds == 0:\n",
        "      #just append 0 to L and R\n",
        "      L.append(0)\n",
        "      R.append(0)\n",
        "    else: # append percent left homochiral bonds and percent which are right homochiral bonds\n",
        "      L.append(leftrightcount[0]/bonds)\n",
        "      R.append(leftrightcount[1]/bonds)\n",
        "    #append the iteration to x\n",
        "    x.append(i)\n",
        "    #increment the iteration tracker\n",
        "    i+=1\n",
        "  \n",
        "  #Plot the data\n",
        "  plt.figure() \n",
        "  plt.plot(x,L,label=\"left homochiral\")\n",
        "  plt.plot(x,R,label=\"right homochiral\")\n",
        "  plt.ylabel(\"percentage of total bonds in the pool\")\n",
        "  plt.xlabel(\"Iterations\")\n",
        "  plt.title(\"Peercent of bonds in an iteration that are left or right homochiral \")\n",
        "  plt.legend()\n",
        "  plt.show()\n",
        "\n",
        "def plot_homochiral_chain_lengths(self):\n",
        "  \"\"\" Plot a chart of the mean length of homochiral chains present at each iteration.\n",
        "  The plot generated will attempt to summarize the mean lengths of homochiral\n",
        "  chains within polymers across iterations. It will also attempt to visualize the \n",
        "  varience with continuous lines plotting the standard deviation around that mean.\n",
        "  \n",
        "  The x axis of the resulting plot is iterations, and the y axis is length of \n",
        "  the homochiral chains. Both of these are discrete categories, but the plot will\n",
        "  treat iterations as continuous to improve readability for large n.\n",
        "  \"\"\"\n",
        "  # Get the history and read it \n",
        "  history = self.get_history()\n",
        "  means = []\n",
        "  stdevs= []\n",
        "  maxes = []\n",
        "  for iteration in history:\n",
        "    # Get the chain lengths in that iteration\n",
        "    iter_data = self.hist_get_iteration_chain_lengths(iteration)\n",
        "    if iter_data == []:\n",
        "      means.append(0)\n",
        "      stdevs.append(0)\n",
        "      maxes.append(0)\n",
        "      print(\"this happened in this iteration???whyyyyyyyyyyyyy\")\n",
        "      print (iteration)\n",
        "      print (iter_data)\n",
        "    else:\n",
        "      means.append(np.mean(iter_data))\n",
        "      stdevs.append(np.std(iter_data))\n",
        "      maxes.append(max(iter_data))\n",
        "  # Plot those data\n",
        "  fig,ax = plt.subplots()\n",
        "  ax.fill_between(np.arange(0,len(means)), [m + s for m, s in zip(means, stdevs)],[m - s for m, s in zip(means, stdevs)], alpha=0.2, label = \"Means +- one standard deviation\")\n",
        "  ax.plot(means, 'k-', label = \"Mean homochiral chain length\")\n",
        "  ax.plot(maxes, 'b.', label = \"Max homochiral chain length\")\n",
        "  ax.set_xlabel(\"Iteration\")\n",
        "  ax.set_ylabel(\"Homochiral chain length\")\n",
        "  ax.legend()\n",
        "\n",
        "def plot_homochirality_vs_length(self):\n",
        "  \"\"\" Take all the polymers that ever existed in history and plot them on a\n",
        "  scatter plot of length vs homochirality. Homochirality is the percent of their\n",
        "  bonds that are homochiral. \"\"\"\n",
        "  #Get the history\n",
        "  history = self.get_history()\n",
        "  #Get the polymers\n",
        "  x = []\n",
        "  y = []\n",
        "  for i in history:\n",
        "    for p in self.hist_get_polymers(i):\n",
        "      homochirality = sum(self.hist_get_polymer_homochirality_of_bonds(p))/len(p)\n",
        "      x.append(len(p))\n",
        "      y.append(homochirality)\n",
        "  fig,ax = plt.subplots()\n",
        "  ax.scatter(x,y)\n",
        "  ax.set_xlabel(\"Polymer lengths\")\n",
        "  ax.set_ylabel(\"Homochirality\")\n",
        "\n",
        "def plot_age_vs_homochirality_leftright(self):\n",
        "  \"\"\"\n",
        "  Make a plot showing the age of a polymer vs the percent of its bonds that are \n",
        "  left homochiral(shown in negative numbers) and right homochiral\n",
        "\n",
        "  \"\"\"\n",
        "  #l is a list to hold the percent of bonds that are left homochiral in a polymer\n",
        "  l=[]\n",
        "  #r is a list to hold the percent of bonds that are right homochiral in a polymer\n",
        "  r=[]\n",
        "  #x is a list that holds the ages of the polymers\n",
        "  x=[]\n",
        "\n",
        "  #go through the age history in each iteration\n",
        "  for iteration in self.get_agehistory():\n",
        "    #go through each reactable in an iteration(only polymers are present in the age history)\n",
        "    for reactable in iteration:\n",
        "      #add age to the x\n",
        "      x.append(reactable)\n",
        "  #go through the general history\n",
        "  for iteration in self.get_history():\n",
        "    #go through the reactables in the iteration\n",
        "    for reactable in iteration:\n",
        "      #only look at the polymers\n",
        "      if len(reactable) > 1:\n",
        "        #get the number of left and number of right homochiral bonds in the polymer\n",
        "        leftrightcount = self.hist_get_leftright_homochiral_count_polymer(reactable)\n",
        "        #add the left and right count as a percentage of the total number of bonds in the reactable\n",
        "        l.append((leftrightcount[0])/(len(reactable)-1))\n",
        "        r.append(-1 * (leftrightcount[1])/(len(reactable)-1))\n",
        "  #Plot the data\n",
        "  plt.figure()\n",
        "  plt.scatter(x,l, label = \"left\")\n",
        "  plt.scatter(x,r, label=\"right\")\n",
        "  plt.xlabel(\"age\")\n",
        "  plt.ylabel(\"signed percent of bonds that are homochiral\")\n",
        "  plt.legend()\n",
        "  plt.show()\n",
        "\n",
        "def plot_age_vs_homochirality_ee(self):\n",
        "  \"\"\" \n",
        "  Make a plot of the ages of a polymer vs the homochirality of the reactable. No left right sensitivity\n",
        "  \"\"\"\n",
        "  #x keeps track of the ages of the polymers\n",
        "  x=[]\n",
        "  #y keeps track of the enantiomeric excess of the polymers\n",
        "  y=[]\n",
        "  #go through iteration of age history\n",
        "  for iteration in self.get_agehistory():\n",
        "    #go through every reactable in the iteration\n",
        "    for reactable in iteration:\n",
        "      #add age to the list\n",
        "      x.append(reactable)\n",
        "  #go through the general history\n",
        "  for iteration in self.get_history():\n",
        "    #go through the reactables in the iterations\n",
        "    for reactable in iteration:\n",
        "      #only go through the polymers\n",
        "      if len(reactable) > 1:\n",
        "        #append the enantiomeric excess of the polymer\n",
        "        y.append(abs(self.hist_get_polymer_ee(reactable)))\n",
        "  #plot the data\n",
        "  plt.figure()\n",
        "  plt.scatter(x,y)\n",
        "  plt.xlabel(\"age\")\n",
        "  plt.ylabel(\"polymer_ee\")\n",
        "  plt.show()\n",
        "\n",
        "def plot_age_vs_length(self):\n",
        "  \"\"\"\n",
        "  Make a plot of the age of a reactable vs the length of the total homochiral \n",
        "  chains vs and the total nonhomochiral chains in the molecule.\n",
        "  \"\"\"\n",
        "  plt.figure()\n",
        "  z =[]\n",
        "  #x keeps track of the ages of the reactables\n",
        "  x= []\n",
        "  y =[]\n",
        "  ages = self.get_agehistory()\n",
        "  #go through the iterations of the age history\n",
        "  for iteration in self.get_agehistory():\n",
        "    #go through the reactables in the iteration\n",
        "    for reactable in iteration:\n",
        "      #add the age of the reactable to the list\n",
        "      x.append(reactable)\n",
        "\n",
        "  #go through the iterations of the general history\n",
        "  for iteration in self.get_history():\n",
        "    #go through the reactables of the iteration\n",
        "    for reactable in iteration:\n",
        "      #only go through the polymers \n",
        "      if len(reactable) > 1 :\n",
        "        #get a list of the lengths of the homochiral chain lengths in the polymer\n",
        "        homochiralchainlengths =self.hist_get_polymer_chain_lengths(reactable)\n",
        "        #go through the chain lengths \n",
        "        for n in homochiralchainlengths: \n",
        "          #Remove those that are of length one or less\n",
        "          if n < 2:\n",
        "            homochiralchainlengths.remove(n) \n",
        "        \n",
        "        number =sum(homochiralchainlengths)/(len(reactable))\n",
        "       # y.append(len(reactable) - number)\n",
        "        z.append(number) \n",
        "  plt.figure()\n",
        " # plt.scatter(x,y, label= \"of reactable\") \n",
        "  plt.scatter(x,z)\n",
        "  plt.xlabel(\"age\")\n",
        "  plt.ylabel(\"percent homochiral chain\")\n",
        "  plt.show()\n",
        "\n",
        "def plot_homochiral_lengths_vs_poisson(self):\n",
        "  \"\"\"\n",
        "  This graph visualizes the frequency of homochiral chain lengths in the history of the reactable bag.\n",
        "  It graphs the frequency of different homochiral lengths in the bag vs the poisson distribution. \n",
        "  Do factor in liklihood that these  molecules will form, the frequencies are increased by a \n",
        "  factor of thenumber of bonds they have to account for the fact that having more bonds, is less likely. \n",
        "  \"\"\"\n",
        "  #create a dictionary to track the frequency of each length of a certain homochiral bond\n",
        "  lengths = {}\n",
        "  #x is a list of the lengths to go on the x axis\n",
        "  x=[]\n",
        "  #y is a frequency to go on y axis\n",
        "  y=[]\n",
        "  #p is to store values for a length\n",
        "  p=[]\n",
        "\n",
        "  #go through the iterations of general history\n",
        "  for iteration in self.get_history():\n",
        "    #go through the reactables of the iterations\n",
        "    for reactable in iteration:\n",
        "      #go through the polymers\n",
        "      if len(reactable) >1: \n",
        "        #if so return a list  of the lenghts of the homochiral chains in the polymer\n",
        "        for n in self.hist_get_polymer_chain_lengths(reactable):\n",
        "          #only include the lengths that are greater than one\n",
        "          if n > 1:\n",
        "            #if the length is already in the dictiionary\n",
        "            if n in lengths:\n",
        "            #add one to its frequnency\n",
        "              lengths[n] += 1\n",
        "            else:#otherwise add it to the dictionay with a frequency of occurence of 1\n",
        "              lengths[n] = 1\n",
        "    #go through all of the recorded lengths\n",
        "  for n in lengths:\n",
        "    #the raise the frequency of them to a factor of the number of bonds in them, to\n",
        "    #account for the decreased liklihood of occuring as the length increases that does not\n",
        "    #have to do with homochirality\n",
        "    number = (lengths[n]/len(self.get_history()))**((n/2)-1)\n",
        "    #add the recalculated frequencied to the dictionaru\n",
        "    lengths[n] = number\n",
        "    #append the frequency to the y\n",
        "    y.append(lengths[n])\n",
        "    #append the lenght to x\n",
        "    x.append(n)\n",
        "    #plot the data\n",
        "  plt.figure()\n",
        "  #plot x and y together before sorting x\n",
        "  plt.bar(x,y, label = \"Homichiral lengths\")\n",
        "  #sort x so that it is in numerical order\n",
        "  x.sort()\n",
        "  #go through the lengths stored in x and calculate the poisson value for the length\n",
        "  #and append this to list p \n",
        "  #multiply the values by 1000 so that they appear nicely on graph with frequencies\n",
        "  for n in x:\n",
        "    p.append(100* poissonequation(n))\n",
        "  #plot x vs p\n",
        "  plt.plot(x,p,label = \"poisson equation\", color = 'orange')\n",
        "  plt.xlabel(\"length\")\n",
        "  plt.ylabel(\"frequency\")\n",
        "  plt.title(\"Lambda =\" + str(LAMBDA))\n",
        "  plt.legend()\n",
        "  plt.show()\n",
        "\n",
        "\n",
        "        \n",
        "\n",
        "\n",
        "\n",
        "    \n",
        "\n",
        "\n",
        "  \n"
      ],
      "execution_count": 19,
      "outputs": []
    },
    {
      "cell_type": "markdown",
      "metadata": {
        "id": "DdqK65C-8cpi",
        "colab_type": "text"
      },
      "source": [
        "## Test program"
      ]
    },
    {
      "cell_type": "code",
      "metadata": {
        "id": "MelavdvZ8ptf",
        "colab_type": "code",
        "colab": {
          "base_uri": "https://localhost:8080/",
          "height": 1000
        },
        "outputId": "04a41ed5-19bf-4ce5-dc2f-e52c9726cc97"
      },
      "source": [
        "POOL_SIZE = 100\n",
        "ITERATIONS = 100\n",
        "\n",
        "\n",
        "a = Reactables(make_pool(POOL_SIZE))\n",
        "\n",
        "print(\"Running.............|\\n\", end=\"\")\n",
        "\n",
        "monomercounts = []\n",
        "\n",
        "\n",
        "\n",
        "for n in range(ITERATIONS):\n",
        "  a.iterate(POOL_SIZE)\n",
        "  monomercounts.append(len(a.get_free_monomers())+len(a.get_bound_monomers()))\n",
        "  if n % (ITERATIONS / 10) == 0:\n",
        "    print(\"##\",end=\"\")\n",
        "\n",
        "print(\"\\nDone.\")\n",
        "\n",
        "a.parse_history()\n",
        "\n",
        "stats = a.get_stats()\n",
        "\n",
        "plots = [\"parameters\",\"polymer ee spread\",\"polyspread plotly\",\"ee heatmap\",\"leftright chirality\",\n",
        "         \"homochiral chain lengths\", \"homochirality vs length\",\"leftright Homochirality vs age\",\"Homochirality vs age\", \n",
        "         \"Homochiral chain length vs age\",\"Homochiral length frequency against poisson\"]\n",
        "tb = widgets.TabBar(plots)\n",
        "\n",
        "with tb.output_to(\"parameters\"):\n",
        "  a.visualize_parameters()\n",
        "\n",
        "with tb.output_to(\"polymer ee spread\"):\n",
        "  a.plot_signed_ee_spread()\n",
        "\n",
        "#with tb.output_to(\"polyspread plotly\"):\n",
        "  #df = stats\n",
        "  # HAHAHAHAHAHAHAHAHAHAHAHHAHAHHAHHAHA!!!!!\n",
        "  # I'm so good.\n",
        "  #counts = df.groupby(\"Iteration\")['Signed ee'].value_counts().reset_index(name='count')\n",
        "  #fig = px.scatter(counts, x=\"Iteration\", y=\"Signed ee\", size='count')\n",
        "  #fig.show()\n",
        "\n",
        "with tb.output_to(\"ee heatmap\"):\n",
        "  a.plot_ee_heatmap()\n",
        "\n",
        "with tb.output_to(\"leftright chirality\"):\n",
        "  a.plot_leftrighthomochirality()\n",
        "\n",
        "with tb.output_to(\"homochiral chain lengths\"):\n",
        "  a.plot_homochiral_chain_lengths()\n",
        "\n",
        "with tb.output_to(\"homochirality vs length\"):\n",
        "  a.plot_homochirality_vs_length()\n",
        "\n",
        "with tb.output_to(\"leftright Homochirality vs age\"):\n",
        "  a.plot_age_vs_homochirality_leftright()\n",
        "\n",
        "with tb.output_to(\"Homochirality vs age\"):\n",
        "  a.plot_age_vs_homochirality_ee()\n",
        "\n",
        "with tb.output_to(\"Homochiral chain length vs age\"):\n",
        "  a.plot_age_vs_length()\n",
        "\n",
        "with tb.output_to(\"Homochiral length frequency against poisson\"):\n",
        "  a.plot_homochiral_lengths_vs_poisson()\n",
        "\n",
        "print(break_prob_lookup_table)\n",
        "\n",
        "\n"
      ],
      "execution_count": 20,
      "outputs": [
        {
          "output_type": "stream",
          "text": [
            "Running.............|\n",
            "####################\n",
            "Done.\n"
          ],
          "name": "stdout"
        },
        {
          "output_type": "display_data",
          "data": {
            "text/html": [
              "<link rel=stylesheet type=text/css href='/nbextensions/google.colab/tabbar.css'></link>"
            ],
            "text/plain": [
              "<IPython.core.display.HTML object>"
            ]
          },
          "metadata": {
            "tags": [
              "outputarea_id1"
            ]
          }
        },
        {
          "output_type": "display_data",
          "data": {
            "text/html": [
              "<script src='/nbextensions/google.colab/tabbar_main.min.js'></script>"
            ],
            "text/plain": [
              "<IPython.core.display.HTML object>"
            ]
          },
          "metadata": {
            "tags": [
              "outputarea_id1"
            ]
          }
        },
        {
          "output_type": "display_data",
          "data": {
            "text/html": [
              "<div id=\"id1\"></div>"
            ],
            "text/plain": [
              "<IPython.core.display.HTML object>"
            ]
          },
          "metadata": {
            "tags": [
              "outputarea_id1"
            ]
          }
        },
        {
          "output_type": "display_data",
          "data": {
            "application/javascript": [
              "window[\"9c0dc93c-bd5b-11ea-9e82-0242ac1c0002\"] = colab_lib.createTabBar({\"location\": \"top\", \"elementId\": \"id1\", \"tabNames\": [\"parameters\", \"polymer ee spread\", \"polyspread plotly\", \"ee heatmap\", \"leftright chirality\", \"homochiral chain lengths\", \"homochirality vs length\", \"leftright Homochirality vs age\", \"Homochirality vs age\", \"Homochiral chain length vs age\", \"Homochiral length frequency against poisson\"], \"initialSelection\": 0, \"contentBorder\": [\"0px\"], \"contentHeight\": [\"initial\"], \"borderColor\": [\"#a7a7a7\"]});\n",
              "//# sourceURL=js_eea0bd588a"
            ],
            "text/plain": [
              "<IPython.core.display.Javascript object>"
            ]
          },
          "metadata": {
            "tags": [
              "outputarea_id1"
            ]
          }
        },
        {
          "output_type": "display_data",
          "data": {
            "application/javascript": [
              "window[\"9c0e3d9a-bd5b-11ea-9e82-0242ac1c0002\"] = window[\"id1\"].setSelectedTabIndex(0);\n",
              "//# sourceURL=js_8aaa45cf17"
            ],
            "text/plain": [
              "<IPython.core.display.Javascript object>"
            ]
          },
          "metadata": {
            "tags": [
              "outputarea_id1"
            ]
          }
        },
        {
          "output_type": "display_data",
          "data": {
            "application/javascript": [
              "window[\"9c0fc3a4-bd5b-11ea-9e82-0242ac1c0002\"] = google.colab.output.getActiveOutputArea();\n",
              "//# sourceURL=js_a9c6e73ac5"
            ],
            "text/plain": [
              "<IPython.core.display.Javascript object>"
            ]
          },
          "metadata": {
            "tags": [
              "id1_content_0",
              "outputarea_id1"
            ]
          }
        },
        {
          "output_type": "display_data",
          "data": {
            "application/javascript": [
              "window[\"9c10081e-bd5b-11ea-9e82-0242ac1c0002\"] = document.querySelector(\"#id1_content_0\");\n",
              "//# sourceURL=js_0c5ba2206e"
            ],
            "text/plain": [
              "<IPython.core.display.Javascript object>"
            ]
          },
          "metadata": {
            "tags": [
              "id1_content_0",
              "outputarea_id1"
            ]
          }
        },
        {
          "output_type": "display_data",
          "data": {
            "application/javascript": [
              "window[\"9c105e22-bd5b-11ea-9e82-0242ac1c0002\"] = google.colab.output.setActiveOutputArea(window[\"9c10081e-bd5b-11ea-9e82-0242ac1c0002\"]);\n",
              "//# sourceURL=js_dacd2e2af9"
            ],
            "text/plain": [
              "<IPython.core.display.Javascript object>"
            ]
          },
          "metadata": {
            "tags": [
              "id1_content_0",
              "outputarea_id1"
            ]
          }
        },
        {
          "output_type": "display_data",
          "data": {
            "application/javascript": [
              "window[\"9c10eb58-bd5b-11ea-9e82-0242ac1c0002\"] = window[\"id1\"].setSelectedTabIndex(0);\n",
              "//# sourceURL=js_f5db2eaab6"
            ],
            "text/plain": [
              "<IPython.core.display.Javascript object>"
            ]
          },
          "metadata": {
            "tags": [
              "id1_content_0",
              "outputarea_id1"
            ]
          }
        },
        {
          "output_type": "display_data",
          "data": {
            "image/png": "[encoded data removed]",
            "text/plain": [
              "<Figure size 432x288 with 1 Axes>"
            ]
          },
          "metadata": {
            "tags": [
              "id1_content_0",
              "outputarea_id1",
              "user_output"
            ],
            "needs_background": "light"
          }
        },
        {
          "output_type": "display_data",
          "data": {
            "application/javascript": [
              "window[\"9c30f268-bd5b-11ea-9e82-0242ac1c0002\"] = google.colab.output.setActiveOutputArea(window[\"9c0fc3a4-bd5b-11ea-9e82-0242ac1c0002\"]);\n",
              "//# sourceURL=js_d903c5161c"
            ],
            "text/plain": [
              "<IPython.core.display.Javascript object>"
            ]
          },
          "metadata": {
            "tags": [
              "id1_content_0",
              "outputarea_id1"
            ]
          }
        },
        {
          "output_type": "display_data",
          "data": {
            "application/javascript": [
              "window[\"9c326346-bd5b-11ea-9e82-0242ac1c0002\"] = google.colab.output.getActiveOutputArea();\n",
              "//# sourceURL=js_97989bc8db"
            ],
            "text/plain": [
              "<IPython.core.display.Javascript object>"
            ]
          },
          "metadata": {
            "tags": [
              "id1_content_1",
              "outputarea_id1"
            ]
          }
        },
        {
          "output_type": "display_data",
          "data": {
            "application/javascript": [
              "window[\"9c32b6c0-bd5b-11ea-9e82-0242ac1c0002\"] = document.querySelector(\"#id1_content_1\");\n",
              "//# sourceURL=js_0433b7aeac"
            ],
            "text/plain": [
              "<IPython.core.display.Javascript object>"
            ]
          },
          "metadata": {
            "tags": [
              "id1_content_1",
              "outputarea_id1"
            ]
          }
        },
        {
          "output_type": "display_data",
          "data": {
            "application/javascript": [
              "window[\"9c3303aa-bd5b-11ea-9e82-0242ac1c0002\"] = google.colab.output.setActiveOutputArea(window[\"9c32b6c0-bd5b-11ea-9e82-0242ac1c0002\"]);\n",
              "//# sourceURL=js_f929566e3e"
            ],
            "text/plain": [
              "<IPython.core.display.Javascript object>"
            ]
          },
          "metadata": {
            "tags": [
              "id1_content_1",
              "outputarea_id1"
            ]
          }
        },
        {
          "output_type": "display_data",
          "data": {
            "application/javascript": [
              "window[\"9c334fe0-bd5b-11ea-9e82-0242ac1c0002\"] = window[\"id1\"].setSelectedTabIndex(1);\n",
              "//# sourceURL=js_024822e40b"
            ],
            "text/plain": [
              "<IPython.core.display.Javascript object>"
            ]
          },
          "metadata": {
            "tags": [
              "id1_content_1",
              "outputarea_id1"
            ]
          }
        },
        {
          "output_type": "display_data",
          "data": {
            "image/png": "[encoded data removed]",
            "text/plain": [
              "<Figure size 432x288 with 1 Axes>"
            ]
          },
          "metadata": {
            "tags": [
              "id1_content_1",
              "outputarea_id1",
              "user_output"
            ],
            "needs_background": "light"
          }
        },
        {
          "output_type": "display_data",
          "data": {
            "application/javascript": [
              "window[\"9c61cdfc-bd5b-11ea-9e82-0242ac1c0002\"] = google.colab.output.setActiveOutputArea(window[\"9c326346-bd5b-11ea-9e82-0242ac1c0002\"]);\n",
              "//# sourceURL=js_569ea3d8e0"
            ],
            "text/plain": [
              "<IPython.core.display.Javascript object>"
            ]
          },
          "metadata": {
            "tags": [
              "id1_content_1",
              "outputarea_id1"
            ]
          }
        },
        {
          "output_type": "display_data",
          "data": {
            "application/javascript": [
              "window[\"9c62be2e-bd5b-11ea-9e82-0242ac1c0002\"] = google.colab.output.getActiveOutputArea();\n",
              "//# sourceURL=js_e4aa874582"
            ],
            "text/plain": [
              "<IPython.core.display.Javascript object>"
            ]
          },
          "metadata": {
            "tags": [
              "id1_content_3",
              "outputarea_id1"
            ]
          }
        },
        {
          "output_type": "display_data",
          "data": {
            "application/javascript": [
              "window[\"9c62f704-bd5b-11ea-9e82-0242ac1c0002\"] = document.querySelector(\"#id1_content_3\");\n",
              "//# sourceURL=js_724fbac5ff"
            ],
            "text/plain": [
              "<IPython.core.display.Javascript object>"
            ]
          },
          "metadata": {
            "tags": [
              "id1_content_3",
              "outputarea_id1"
            ]
          }
        },
        {
          "output_type": "display_data",
          "data": {
            "application/javascript": [
              "window[\"9c632de6-bd5b-11ea-9e82-0242ac1c0002\"] = google.colab.output.setActiveOutputArea(window[\"9c62f704-bd5b-11ea-9e82-0242ac1c0002\"]);\n",
              "//# sourceURL=js_1b36c9816a"
            ],
            "text/plain": [
              "<IPython.core.display.Javascript object>"
            ]
          },
          "metadata": {
            "tags": [
              "id1_content_3",
              "outputarea_id1"
            ]
          }
        },
        {
          "output_type": "display_data",
          "data": {
            "application/javascript": [
              "window[\"9c63672a-bd5b-11ea-9e82-0242ac1c0002\"] = window[\"id1\"].setSelectedTabIndex(3);\n",
              "//# sourceURL=js_5e43e9c9e2"
            ],
            "text/plain": [
              "<IPython.core.display.Javascript object>"
            ]
          },
          "metadata": {
            "tags": [
              "id1_content_3",
              "outputarea_id1"
            ]
          }
        },
        {
          "output_type": "display_data",
          "data": {
            "image/png": "[encoded data removed]",
            "text/plain": [
              "<Figure size 900x600 with 1 Axes>"
            ]
          },
          "metadata": {
            "tags": [
              "id1_content_3",
              "outputarea_id1",
              "user_output"
            ],
            "needs_background": "light"
          }
        },
        {
          "output_type": "display_data",
          "data": {
            "application/javascript": [
              "window[\"9c962cfa-bd5b-11ea-9e82-0242ac1c0002\"] = google.colab.output.setActiveOutputArea(window[\"9c62be2e-bd5b-11ea-9e82-0242ac1c0002\"]);\n",
              "//# sourceURL=js_06e7781e60"
            ],
            "text/plain": [
              "<IPython.core.display.Javascript object>"
            ]
          },
          "metadata": {
            "tags": [
              "id1_content_3",
              "outputarea_id1"
            ]
          }
        },
        {
          "output_type": "display_data",
          "data": {
            "application/javascript": [
              "window[\"9c976ae8-bd5b-11ea-9e82-0242ac1c0002\"] = google.colab.output.getActiveOutputArea();\n",
              "//# sourceURL=js_f8e7cf3be9"
            ],
            "text/plain": [
              "<IPython.core.display.Javascript object>"
            ]
          },
          "metadata": {
            "tags": [
              "id1_content_4",
              "outputarea_id1"
            ]
          }
        },
        {
          "output_type": "display_data",
          "data": {
            "application/javascript": [
              "window[\"9c97ae7c-bd5b-11ea-9e82-0242ac1c0002\"] = document.querySelector(\"#id1_content_4\");\n",
              "//# sourceURL=js_5cf6208a39"
            ],
            "text/plain": [
              "<IPython.core.display.Javascript object>"
            ]
          },
          "metadata": {
            "tags": [
              "id1_content_4",
              "outputarea_id1"
            ]
          }
        },
        {
          "output_type": "display_data",
          "data": {
            "application/javascript": [
              "window[\"9c97ed2e-bd5b-11ea-9e82-0242ac1c0002\"] = google.colab.output.setActiveOutputArea(window[\"9c97ae7c-bd5b-11ea-9e82-0242ac1c0002\"]);\n",
              "//# sourceURL=js_0ecf07997f"
            ],
            "text/plain": [
              "<IPython.core.display.Javascript object>"
            ]
          },
          "metadata": {
            "tags": [
              "id1_content_4",
              "outputarea_id1"
            ]
          }
        },
        {
          "output_type": "display_data",
          "data": {
            "application/javascript": [
              "window[\"9c9824b0-bd5b-11ea-9e82-0242ac1c0002\"] = window[\"id1\"].setSelectedTabIndex(4);\n",
              "//# sourceURL=js_aa7d100191"
            ],
            "text/plain": [
              "<IPython.core.display.Javascript object>"
            ]
          },
          "metadata": {
            "tags": [
              "id1_content_4",
              "outputarea_id1"
            ]
          }
        },
        {
          "output_type": "display_data",
          "data": {
            "image/png": "[encoded data removed]",
            "text/plain": [
              "<Figure size 432x288 with 1 Axes>"
            ]
          },
          "metadata": {
            "tags": [
              "id1_content_4",
              "outputarea_id1",
              "user_output"
            ],
            "needs_background": "light"
          }
        },
        {
          "output_type": "display_data",
          "data": {
            "application/javascript": [
              "window[\"9cc2977c-bd5b-11ea-9e82-0242ac1c0002\"] = google.colab.output.setActiveOutputArea(window[\"9c976ae8-bd5b-11ea-9e82-0242ac1c0002\"]);\n",
              "//# sourceURL=js_5b17608267"
            ],
            "text/plain": [
              "<IPython.core.display.Javascript object>"
            ]
          },
          "metadata": {
            "tags": [
              "id1_content_4",
              "outputarea_id1"
            ]
          }
        },
        {
          "output_type": "display_data",
          "data": {
            "application/javascript": [
              "window[\"9cc3b4a4-bd5b-11ea-9e82-0242ac1c0002\"] = google.colab.output.getActiveOutputArea();\n",
              "//# sourceURL=js_de8933fcc7"
            ],
            "text/plain": [
              "<IPython.core.display.Javascript object>"
            ]
          },
          "metadata": {
            "tags": [
              "id1_content_5",
              "outputarea_id1"
            ]
          }
        },
        {
          "output_type": "display_data",
          "data": {
            "application/javascript": [
              "window[\"9cc47a74-bd5b-11ea-9e82-0242ac1c0002\"] = document.querySelector(\"#id1_content_5\");\n",
              "//# sourceURL=js_6331ba3d80"
            ],
            "text/plain": [
              "<IPython.core.display.Javascript object>"
            ]
          },
          "metadata": {
            "tags": [
              "id1_content_5",
              "outputarea_id1"
            ]
          }
        },
        {
          "output_type": "display_data",
          "data": {
            "application/javascript": [
              "window[\"9cc4fe0e-bd5b-11ea-9e82-0242ac1c0002\"] = google.colab.output.setActiveOutputArea(window[\"9cc47a74-bd5b-11ea-9e82-0242ac1c0002\"]);\n",
              "//# sourceURL=js_cd84b1318d"
            ],
            "text/plain": [
              "<IPython.core.display.Javascript object>"
            ]
          },
          "metadata": {
            "tags": [
              "id1_content_5",
              "outputarea_id1"
            ]
          }
        },
        {
          "output_type": "display_data",
          "data": {
            "application/javascript": [
              "window[\"9cc58482-bd5b-11ea-9e82-0242ac1c0002\"] = window[\"id1\"].setSelectedTabIndex(5);\n",
              "//# sourceURL=js_7ebe3c570c"
            ],
            "text/plain": [
              "<IPython.core.display.Javascript object>"
            ]
          },
          "metadata": {
            "tags": [
              "id1_content_5",
              "outputarea_id1"
            ]
          }
        },
        {
          "output_type": "display_data",
          "data": {
            "image/png": "[encoded data removed]",
            "text/plain": [
              "<Figure size 432x288 with 1 Axes>"
            ]
          },
          "metadata": {
            "tags": [
              "id1_content_5",
              "outputarea_id1",
              "user_output"
            ],
            "needs_background": "light"
          }
        },
        {
          "output_type": "display_data",
          "data": {
            "application/javascript": [
              "window[\"9ced74a6-bd5b-11ea-9e82-0242ac1c0002\"] = google.colab.output.setActiveOutputArea(window[\"9cc3b4a4-bd5b-11ea-9e82-0242ac1c0002\"]);\n",
              "//# sourceURL=js_2c00b60b5a"
            ],
            "text/plain": [
              "<IPython.core.display.Javascript object>"
            ]
          },
          "metadata": {
            "tags": [
              "id1_content_5",
              "outputarea_id1"
            ]
          }
        },
        {
          "output_type": "display_data",
          "data": {
            "application/javascript": [
              "window[\"9ceecca2-bd5b-11ea-9e82-0242ac1c0002\"] = google.colab.output.getActiveOutputArea();\n",
              "//# sourceURL=js_5baa43815b"
            ],
            "text/plain": [
              "<IPython.core.display.Javascript object>"
            ]
          },
          "metadata": {
            "tags": [
              "id1_content_6",
              "outputarea_id1"
            ]
          }
        },
        {
          "output_type": "display_data",
          "data": {
            "application/javascript": [
              "window[\"9cef3354-bd5b-11ea-9e82-0242ac1c0002\"] = document.querySelector(\"#id1_content_6\");\n",
              "//# sourceURL=js_52917db5b4"
            ],
            "text/plain": [
              "<IPython.core.display.Javascript object>"
            ]
          },
          "metadata": {
            "tags": [
              "id1_content_6",
              "outputarea_id1"
            ]
          }
        },
        {
          "output_type": "display_data",
          "data": {
            "application/javascript": [
              "window[\"9cef8cc8-bd5b-11ea-9e82-0242ac1c0002\"] = google.colab.output.setActiveOutputArea(window[\"9cef3354-bd5b-11ea-9e82-0242ac1c0002\"]);\n",
              "//# sourceURL=js_9ef2efe94a"
            ],
            "text/plain": [
              "<IPython.core.display.Javascript object>"
            ]
          },
          "metadata": {
            "tags": [
              "id1_content_6",
              "outputarea_id1"
            ]
          }
        },
        {
          "output_type": "display_data",
          "data": {
            "application/javascript": [
              "window[\"9cefe484-bd5b-11ea-9e82-0242ac1c0002\"] = window[\"id1\"].setSelectedTabIndex(6);\n",
              "//# sourceURL=js_ac7b4cbf5d"
            ],
            "text/plain": [
              "<IPython.core.display.Javascript object>"
            ]
          },
          "metadata": {
            "tags": [
              "id1_content_6",
              "outputarea_id1"
            ]
          }
        },
        {
          "output_type": "display_data",
          "data": {
            "image/png": "[encoded data removed]",
            "text/plain": [
              "<Figure size 432x288 with 1 Axes>"
            ]
          },
          "metadata": {
            "tags": [
              "id1_content_6",
              "outputarea_id1",
              "user_output"
            ],
            "needs_background": "light"
          }
        },
        {
          "output_type": "display_data",
          "data": {
            "application/javascript": [
              "window[\"9d1c2058-bd5b-11ea-9e82-0242ac1c0002\"] = google.colab.output.setActiveOutputArea(window[\"9ceecca2-bd5b-11ea-9e82-0242ac1c0002\"]);\n",
              "//# sourceURL=js_cb05f5dcf9"
            ],
            "text/plain": [
              "<IPython.core.display.Javascript object>"
            ]
          },
          "metadata": {
            "tags": [
              "id1_content_6",
              "outputarea_id1"
            ]
          }
        },
        {
          "output_type": "display_data",
          "data": {
            "application/javascript": [
              "window[\"9d1d56d0-bd5b-11ea-9e82-0242ac1c0002\"] = google.colab.output.getActiveOutputArea();\n",
              "//# sourceURL=js_392e90c3c1"
            ],
            "text/plain": [
              "<IPython.core.display.Javascript object>"
            ]
          },
          "metadata": {
            "tags": [
              "id1_content_7",
              "outputarea_id1"
            ]
          }
        },
        {
          "output_type": "display_data",
          "data": {
            "application/javascript": [
              "window[\"9d1d9a6e-bd5b-11ea-9e82-0242ac1c0002\"] = document.querySelector(\"#id1_content_7\");\n",
              "//# sourceURL=js_839d7ad6df"
            ],
            "text/plain": [
              "<IPython.core.display.Javascript object>"
            ]
          },
          "metadata": {
            "tags": [
              "id1_content_7",
              "outputarea_id1"
            ]
          }
        },
        {
          "output_type": "display_data",
          "data": {
            "application/javascript": [
              "window[\"9d1ddd3a-bd5b-11ea-9e82-0242ac1c0002\"] = google.colab.output.setActiveOutputArea(window[\"9d1d9a6e-bd5b-11ea-9e82-0242ac1c0002\"]);\n",
              "//# sourceURL=js_364a2b1645"
            ],
            "text/plain": [
              "<IPython.core.display.Javascript object>"
            ]
          },
          "metadata": {
            "tags": [
              "id1_content_7",
              "outputarea_id1"
            ]
          }
        },
        {
          "output_type": "display_data",
          "data": {
            "application/javascript": [
              "window[\"9d1e1b74-bd5b-11ea-9e82-0242ac1c0002\"] = window[\"id1\"].setSelectedTabIndex(7);\n",
              "//# sourceURL=js_1627fb20f2"
            ],
            "text/plain": [
              "<IPython.core.display.Javascript object>"
            ]
          },
          "metadata": {
            "tags": [
              "id1_content_7",
              "outputarea_id1"
            ]
          }
        },
        {
          "output_type": "display_data",
          "data": {
            "image/png": "[encoded data removed]",
            "text/plain": [
              "<Figure size 432x288 with 1 Axes>"
            ]
          },
          "metadata": {
            "tags": [
              "id1_content_7",
              "outputarea_id1",
              "user_output"
            ],
            "needs_background": "light"
          }
        },
        {
          "output_type": "display_data",
          "data": {
            "application/javascript": [
              "window[\"9d772444-bd5b-11ea-9e82-0242ac1c0002\"] = google.colab.output.setActiveOutputArea(window[\"9d1d56d0-bd5b-11ea-9e82-0242ac1c0002\"]);\n",
              "//# sourceURL=js_c7a82c1424"
            ],
            "text/plain": [
              "<IPython.core.display.Javascript object>"
            ]
          },
          "metadata": {
            "tags": [
              "id1_content_7",
              "outputarea_id1"
            ]
          }
        },
        {
          "output_type": "display_data",
          "data": {
            "application/javascript": [
              "window[\"9d7a793c-bd5b-11ea-9e82-0242ac1c0002\"] = google.colab.output.getActiveOutputArea();\n",
              "//# sourceURL=js_979d39125d"
            ],
            "text/plain": [
              "<IPython.core.display.Javascript object>"
            ]
          },
          "metadata": {
            "tags": [
              "id1_content_8",
              "outputarea_id1"
            ]
          }
        },
        {
          "output_type": "display_data",
          "data": {
            "application/javascript": [
              "window[\"9d7ae7be-bd5b-11ea-9e82-0242ac1c0002\"] = document.querySelector(\"#id1_content_8\");\n",
              "//# sourceURL=js_53c64d5fd2"
            ],
            "text/plain": [
              "<IPython.core.display.Javascript object>"
            ]
          },
          "metadata": {
            "tags": [
              "id1_content_8",
              "outputarea_id1"
            ]
          }
        },
        {
          "output_type": "display_data",
          "data": {
            "application/javascript": [
              "window[\"9d7b63a6-bd5b-11ea-9e82-0242ac1c0002\"] = google.colab.output.setActiveOutputArea(window[\"9d7ae7be-bd5b-11ea-9e82-0242ac1c0002\"]);\n",
              "//# sourceURL=js_0ba18c03bd"
            ],
            "text/plain": [
              "<IPython.core.display.Javascript object>"
            ]
          },
          "metadata": {
            "tags": [
              "id1_content_8",
              "outputarea_id1"
            ]
          }
        },
        {
          "output_type": "display_data",
          "data": {
            "application/javascript": [
              "window[\"9d7c2bb0-bd5b-11ea-9e82-0242ac1c0002\"] = window[\"id1\"].setSelectedTabIndex(8);\n",
              "//# sourceURL=js_0bb525a4d9"
            ],
            "text/plain": [
              "<IPython.core.display.Javascript object>"
            ]
          },
          "metadata": {
            "tags": [
              "id1_content_8",
              "outputarea_id1"
            ]
          }
        },
        {
          "output_type": "display_data",
          "data": {
            "image/png": "[encoded data removed]",
            "text/plain": [
              "<Figure size 432x288 with 1 Axes>"
            ]
          },
          "metadata": {
            "tags": [
              "id1_content_8",
              "outputarea_id1",
              "user_output"
            ],
            "needs_background": "light"
          }
        },
        {
          "output_type": "display_data",
          "data": {
            "application/javascript": [
              "window[\"9db1fb64-bd5b-11ea-9e82-0242ac1c0002\"] = google.colab.output.setActiveOutputArea(window[\"9d7a793c-bd5b-11ea-9e82-0242ac1c0002\"]);\n",
              "//# sourceURL=js_17e529f4b8"
            ],
            "text/plain": [
              "<IPython.core.display.Javascript object>"
            ]
          },
          "metadata": {
            "tags": [
              "id1_content_8",
              "outputarea_id1"
            ]
          }
        },
        {
          "output_type": "display_data",
          "data": {
            "application/javascript": [
              "window[\"9db3d79a-bd5b-11ea-9e82-0242ac1c0002\"] = google.colab.output.getActiveOutputArea();\n",
              "//# sourceURL=js_c0baff59cf"
            ],
            "text/plain": [
              "<IPython.core.display.Javascript object>"
            ]
          },
          "metadata": {
            "tags": [
              "id1_content_9",
              "outputarea_id1"
            ]
          }
        },
        {
          "output_type": "display_data",
          "data": {
            "application/javascript": [
              "window[\"9db425e2-bd5b-11ea-9e82-0242ac1c0002\"] = document.querySelector(\"#id1_content_9\");\n",
              "//# sourceURL=js_3967de5226"
            ],
            "text/plain": [
              "<IPython.core.display.Javascript object>"
            ]
          },
          "metadata": {
            "tags": [
              "id1_content_9",
              "outputarea_id1"
            ]
          }
        },
        {
          "output_type": "display_data",
          "data": {
            "application/javascript": [
              "window[\"9db46bb0-bd5b-11ea-9e82-0242ac1c0002\"] = google.colab.output.setActiveOutputArea(window[\"9db425e2-bd5b-11ea-9e82-0242ac1c0002\"]);\n",
              "//# sourceURL=js_26e28b0cbb"
            ],
            "text/plain": [
              "<IPython.core.display.Javascript object>"
            ]
          },
          "metadata": {
            "tags": [
              "id1_content_9",
              "outputarea_id1"
            ]
          }
        },
        {
          "output_type": "display_data",
          "data": {
            "application/javascript": [
              "window[\"9db4af6c-bd5b-11ea-9e82-0242ac1c0002\"] = window[\"id1\"].setSelectedTabIndex(9);\n",
              "//# sourceURL=js_c04fb65a6d"
            ],
            "text/plain": [
              "<IPython.core.display.Javascript object>"
            ]
          },
          "metadata": {
            "tags": [
              "id1_content_9",
              "outputarea_id1"
            ]
          }
        },
        {
          "output_type": "display_data",
          "data": {
            "text/plain": [
              "<Figure size 432x288 with 0 Axes>"
            ]
          },
          "metadata": {
            "tags": [
              "id1_content_9",
              "outputarea_id1",
              "user_output"
            ]
          }
        },
        {
          "output_type": "display_data",
          "data": {
            "image/png": "[encoded data removed]",
            "text/plain": [
              "<Figure size 432x288 with 1 Axes>"
            ]
          },
          "metadata": {
            "tags": [
              "id1_content_9",
              "outputarea_id1",
              "user_output"
            ],
            "needs_background": "light"
          }
        },
        {
          "output_type": "display_data",
          "data": {
            "application/javascript": [
              "window[\"9dde79e6-bd5b-11ea-9e82-0242ac1c0002\"] = google.colab.output.setActiveOutputArea(window[\"9db3d79a-bd5b-11ea-9e82-0242ac1c0002\"]);\n",
              "//# sourceURL=js_4d4749c225"
            ],
            "text/plain": [
              "<IPython.core.display.Javascript object>"
            ]
          },
          "metadata": {
            "tags": [
              "id1_content_9",
              "outputarea_id1"
            ]
          }
        },
        {
          "output_type": "display_data",
          "data": {
            "application/javascript": [
              "window[\"9ddfbe14-bd5b-11ea-9e82-0242ac1c0002\"] = google.colab.output.getActiveOutputArea();\n",
              "//# sourceURL=js_1a5f02390b"
            ],
            "text/plain": [
              "<IPython.core.display.Javascript object>"
            ]
          },
          "metadata": {
            "tags": [
              "id1_content_10",
              "outputarea_id1"
            ]
          }
        },
        {
          "output_type": "display_data",
          "data": {
            "application/javascript": [
              "window[\"9ddffa50-bd5b-11ea-9e82-0242ac1c0002\"] = document.querySelector(\"#id1_content_10\");\n",
              "//# sourceURL=js_9c552a92de"
            ],
            "text/plain": [
              "<IPython.core.display.Javascript object>"
            ]
          },
          "metadata": {
            "tags": [
              "id1_content_10",
              "outputarea_id1"
            ]
          }
        },
        {
          "output_type": "display_data",
          "data": {
            "application/javascript": [
              "window[\"9de040dc-bd5b-11ea-9e82-0242ac1c0002\"] = google.colab.output.setActiveOutputArea(window[\"9ddffa50-bd5b-11ea-9e82-0242ac1c0002\"]);\n",
              "//# sourceURL=js_91ca680370"
            ],
            "text/plain": [
              "<IPython.core.display.Javascript object>"
            ]
          },
          "metadata": {
            "tags": [
              "id1_content_10",
              "outputarea_id1"
            ]
          }
        },
        {
          "output_type": "display_data",
          "data": {
            "application/javascript": [
              "window[\"9de07fd4-bd5b-11ea-9e82-0242ac1c0002\"] = window[\"id1\"].setSelectedTabIndex(10);\n",
              "//# sourceURL=js_2ca9ca43fe"
            ],
            "text/plain": [
              "<IPython.core.display.Javascript object>"
            ]
          },
          "metadata": {
            "tags": [
              "id1_content_10",
              "outputarea_id1"
            ]
          }
        },
        {
          "output_type": "display_data",
          "data": {
            "image/png": "[encoded data removed]",
            "text/plain": [
              "<Figure size 432x288 with 1 Axes>"
            ]
          },
          "metadata": {
            "tags": [
              "id1_content_10",
              "outputarea_id1",
              "user_output"
            ],
            "needs_background": "light"
          }
        },
        {
          "output_type": "display_data",
          "data": {
            "application/javascript": [
              "window[\"9e0348b6-bd5b-11ea-9e82-0242ac1c0002\"] = google.colab.output.setActiveOutputArea(window[\"9ddfbe14-bd5b-11ea-9e82-0242ac1c0002\"]);\n",
              "//# sourceURL=js_e8e7d49ce5"
            ],
            "text/plain": [
              "<IPython.core.display.Javascript object>"
            ]
          },
          "metadata": {
            "tags": [
              "id1_content_10",
              "outputarea_id1"
            ]
          }
        },
        {
          "output_type": "stream",
          "text": [
            "{(False, False): [0.4386519620865721, -3], (True, True): [0.4386519620865721, -3], (False, True): [0.8773039241731442, -3], (True, False): [0.8773039241731442, -3], (False,): [-1], (True,): [-1], (True, False, False): [0.8661714269251446, 0.4330857134625723, -3], (False, False, True): [0.4330857134625723, 0.8661714269251446, -3], (False, False, True, True): [0.4275900974275544, 0.8551801948551088, 0.4275900974275544, -3], (False, False, False): [0.30315999942380056, 0.30315999942380056, -3], (False, True, False): [0.8661714269251446, 0.8661714269251446, -3], (True, False, False, False): [0.8551801948551088, 0.29931306819928805, 0.29931306819928805, -3], (True, True, False): [0.4330857134625723, 0.8661714269251446, -3], (False, False, False, True): [0.29931306819928805, 0.29931306819928805, 0.8551801948551088, -3], (False, True, True): [0.8661714269251446, 0.4330857134625723, -3], (True, True, True): [0.30315999942380056, 0.30315999942380056, -3], (True, False, False, True, True): [0.8443284353867567, 0.42216421769337836, 0.8443284353867567, 0.42216421769337836, -3], (True, False, True): [0.8661714269251446, 0.8661714269251446, -3], (False, False, True, True, True, True): [0.4168071893453006, 0.8336143786906012, 0.26550617961295647, 0.20423552277919726, 0.26550617961295647, -3], (True, True, True, True): [0.2723748920613521, 0.20951914773950162, 0.2723748920613521, -3], (False, True, True, True, True): [0.8443284353867567, 0.268918606670682, 0.20686046666975538, 0.268918606670682, -3], (False, True, True, True, True, False): [0.8336143786906012, 0.26550617961295647, 0.20423552277919726, 0.26550617961295647, 0.8336143786906012, -3], (True, False, False, True): [0.8551801948551088, 0.4275900974275544, 0.8551801948551088, -3], (True, True, True, True, True, True): [0.25624497891002307, 0.18083625893438465, 0.16912743641345326, 0.18083625893438462, 0.25624497891002307, -3], (True, True, True, False): [0.29931306819928805, 0.29931306819928805, 0.8551801948551088, -3], (True, False, True, True): [0.8551801948551088, 0.8551801948551088, 0.4275900974275544, -3], (True, True, False, False, False): [0.42216421769337836, 0.8443284353867567, 0.29551495238536485, 0.29551495238536485, -3], (False, False, False, False, False, False): [0.25624497891002307, 0.18083625893438465, 0.16912743641345326, 0.18083625893438462, 0.25624497891002307, -3], (True, True, True, True, True, True, True): [0.25237859921981814, 0.17709536118154384, 0.1624728084234347, 0.16247280842343473, 0.17709536118154384, 0.25237859921981814, -3], (True, True, True, False, False): [0.29551495238536485, 0.29551495238536485, 0.8443284353867567, 0.42216421769337836, -3], (True, True, False, True, True): [0.42216421769337836, 0.8443284353867567, 0.8443284353867567, 0.42216421769337836, -3], (True, True, False, False, True): [0.42216421769337836, 0.8443284353867567, 0.42216421769337836, 0.8443284353867567, -3], (False, True, True, True): [0.8551801948551088, 0.29931306819928805, 0.29931306819928805, -3], (False, False, False, True, False): [0.29551495238536485, 0.29551495238536485, 0.8443284353867567, 0.8443284353867567, -3], (True, True, True, False, False, True): [0.2917650325417104, 0.2917650325417104, 0.8336143786906012, 0.4168071893453006, 0.8336143786906012, -3], (False, False, False, False, False, False, True): [0.2529933731164912, 0.1785415477180601, 0.16698130362120733, 0.17854154771806013, 0.2529933731164912, 0.823036277395303, -3], (True, True, False, True): [0.4275900974275544, 0.8551801948551088, 0.8551801948551088, -3], (False, True, True, True, True, True, True): [0.823036277395303, 0.2529933731164912, 0.1785415477180601, 0.16698130362120733, 0.17854154771806013, 0.2529933731164912, -3], (False, True, False, False, False): [0.8443284353867567, 0.8443284353867567, 0.29551495238536485, 0.29551495238536485, -3], (False, False, False, False): [0.2723748920613521, 0.20951914773950162, 0.2723748920613521, -3], (False, False, True, True, True, False): [0.4168071893453006, 0.8336143786906012, 0.2917650325417104, 0.2917650325417104, 0.8336143786906012, -3], (False, True, True, True, True, True, True, True): [0.8125924063026908, 0.24917605562705278, 0.17484811987022159, 0.16041111914699227, 0.16041111914699227, 0.17484811987022159, 0.24917605562705278, -3], (False, True, False, False, True, True): [0.8336143786906012, 0.8336143786906012, 0.4168071893453006, 0.8336143786906012, 0.4168071893453006, -3], (False, True, True, True, True, True): [0.8336143786906012, 0.25833751276340666, 0.1858543257290695, 0.1858543257290695, 0.25833751276340666, -3], (True, False, True, False, False, True, True): [0.823036277395303, 0.823036277395303, 0.823036277395303, 0.4115181386976515, 0.823036277395303, 0.4115181386976515, -3], (True, True, True, True, False): [0.268918606670682, 0.20686046666975538, 0.268918606670682, 0.8443284353867567, -3], (True, True, True, True, True): [0.2616578042905736, 0.1882430246694774, 0.1882430246694774, 0.2616578042905736, -3], (False, False, False, False, False): [0.2616578042905736, 0.1882430246694774, 0.1882430246694774, 0.2616578042905736, -3], (False, True, False, True): [0.8551801948551088, 0.8551801948551088, 0.8551801948551088, -3], (False, True, True, True, True, True, True, True, False, False, False, True): [0.7721254803996854, 0.23676714200485605, 0.166140721356295, 0.15242268014338994, 0.15242268014338992, 0.166140721356295, 0.23676714200485605, 0.7721254803996854, 0.2702439181398899, 0.2702439181398899, 0.7721254803996854, -3], (False, True, False, True, True, True, True, True, True, True, False, False, False, True): [0.7526541265652423, 0.7526541265652423, 0.7526541265652423, 0.23079638088457805, 0.1619510075675939, 0.1485789060253155, 0.1485789060253155, 0.1619510075675939, 0.23079638088457805, 0.7526541265652423, 0.2634289442978348, 0.2634289442978348, 0.7526541265652423, -3], (False, True, True, False): [0.8551801948551088, 0.4275900974275544, 0.8551801948551088, -3], (True, False, False, True, False, True): [0.8336143786906012, 0.4168071893453006, 0.8336143786906012, 0.8336143786906012, 0.8336143786906012, -3], (True, True, True, True, True, True, True, True): [0.24899440628250066, 0.17442323893893694, 0.15911178908190166, 0.15608001893002346, 0.15911178908190163, 0.17442323893893694, 0.24899440628250066, -3], (True, False, False, False, False, False, False, True): [0.8125924063026908, 0.24978302838603084, 0.1762759551065849, 0.16486240405651828, 0.17627595510658492, 0.24978302838603084, 0.8125924063026908, -3], (False, False, True, False, True): [0.42216421769337836, 0.8443284353867567, 0.8443284353867567, 0.8443284353867567, -3], (False, False, True, True, True, True, True, True): [0.4062962031513454, 0.8125924063026908, 0.24978302838603084, 0.1762759551065849, 0.16486240405651828, 0.17627595510658492, 0.24978302838603084, -3], (False, False, False, False, True, False, True, True, True, True, True, True, True, False, False, False, True): [0.2307098981822382, 0.1774691524478755, 0.2307098981822382, 0.7243638875423491, 0.7243638875423491, 0.7243638875423491, 0.2221213672888379, 0.15586370590754187, 0.1429942256032494, 0.1429942256032494, 0.15586370590754184, 0.2221213672888379, 0.7243638875423491, 0.2535273606398222, 0.2535273606398222, 0.7243638875423491, -3], (True, True, True, True, True, True, True, True, True, True): [0.24264629679450858, 0.16986355250383578, 0.15460964590805065, 0.15054493272448946, 0.1496892636801639, 0.15054493272448943, 0.15460964590805068, 0.16986355250383578, 0.24264629679450858, -3], (False, True, True, False, True): [0.8443284353867567, 0.42216421769337836, 0.8443284353867567, 0.8443284353867567, -3], (True, False, False, False, False, True, False, True, True, True, True, True, True, True, False, False, False, True): [0.715172114016184, 0.22778231831415457, 0.17521716793396505, 0.22778231831415457, 0.715172114016184, 0.715172114016184, 0.715172114016184, 0.2193027710852526, 0.15388588245404014, 0.14117970867343133, 0.1411797086734313, 0.15388588245404014, 0.2193027710852526, 0.715172114016184, 0.25031023990566437, 0.25031023990566437, 0.715172114016184, -3], (True, False, True, False, False): [0.8443284353867567, 0.8443284353867567, 0.8443284353867567, 0.42216421769337836, -3], (True, False, False, False, False, False, False, True, True): [0.8022810621063953, 0.24661342113877574, 0.17403911160111202, 0.16277039214492492, 0.17403911160111205, 0.24661342113877574, 0.8022810621063953, 0.40114053105319764, -3], (True, True, True, True, True, True, True, True, True, True, True, True): [0.23652122375109924, 0.16556583427546426, 0.1506678747864519, 0.14660946121396795, 0.14545373531004716, 0.14520613800785143, 0.14545373531004713, 0.14660946121396795, 0.1506678747864519, 0.16556583427546426, 0.23652122375109924, -3], (False, True, True, True, True, False, False, False, False, True, False, True, True, True, True, True, True, True, False, False, False, True): [0.6795566975770003, 0.2164388081782746, 0.16649139090636506, 0.2164388081782746, 0.6795566975770003, 0.2164388081782746, 0.16649139090636506, 0.2164388081782746, 0.6795566975770003, 0.6795566975770003, 0.6795566975770003, 0.20838154056550182, 0.14622239882499602, 0.13414898974770276, 0.13414898974770276, 0.146222398824996, 0.20838154056550182, 0.6795566975770003, 0.2378448441519501, 0.2378448441519501, 0.6795566975770003, -3], (False, True, False, False): [0.8551801948551088, 0.8551801948551088, 0.4275900974275544, -3], (False, False, False, False, False, True, True): [0.25505935388294304, 0.18349593804528277, 0.18349593804528277, 0.25505935388294304, 0.823036277395303, 0.4115181386976515, -3], (True, True, False, False, True, False, True): [0.4115181386976515, 0.823036277395303, 0.4115181386976515, 0.823036277395303, 0.823036277395303, 0.823036277395303, -3], (False, False, False, False, False, True, True, False, True): [0.2486273022873029, 0.17886856279662078, 0.1788685627966208, 0.2486273022873029, 0.8022810621063953, 0.40114053105319764, 0.8022810621063953, 0.8022810621063953, -3], (False, False, False, True, False, True, False, False): [0.28440734220594177, 0.28440734220594177, 0.8125924063026908, 0.8125924063026908, 0.8125924063026908, 0.8125924063026908, 0.4062962031513454, -3], (False, False, False, False, True, True, True, True, True): [0.25552651828088685, 0.1965588602160668, 0.25552651828088685, 0.8022810621063953, 0.2486273022873029, 0.17886856279662078, 0.1788685627966208, 0.2486273022873029, -3], (False, True, True, True, True, False, False, False, False, True, False, True, True, True, True, True, True, True): [0.715172114016184, 0.22778231831415457, 0.17521716793396505, 0.22778231831415457, 0.715172114016184, 0.22778231831415457, 0.17521716793396505, 0.22778231831415457, 0.715172114016184, 0.715172114016184, 0.715172114016184, 0.2193027710852526, 0.15388588245404014, 0.14117970867343133, 0.1411797086734313, 0.15388588245404014, 0.2193027710852526, -3], (True, True, False, False, True, False, True, True, True): [0.40114053105319764, 0.8022810621063953, 0.40114053105319764, 0.8022810621063953, 0.8022810621063953, 0.8022810621063953, 0.2807983717372383, 0.2807983717372383, -3], (False, False, False, False, False, True, True, False, True, False, False): [0.24235745328137043, 0.1743578800585399, 0.1743578800585399, 0.24235745328137043, 0.7820492489730428, 0.3910246244865214, 0.7820492489730428, 0.7820492489730428, 0.7820492489730428, 0.3910246244865214, -3], (False, False, True, True, True, True, True, True, True, True, True, True, True, True): [0.37632706328262117, 0.7526541265652423, 0.23055666416341514, 0.16139061790985026, 0.14686835310775798, 0.14291228404880496, 0.14178570308127353, 0.14154434965368354, 0.14178570308127353, 0.14291228404880496, 0.146868353107758, 0.1613906179098503, 0.23055666416341514, -3], (False, False, False, False, False, False, True, True): [0.24978302838603084, 0.1762759551065849, 0.16486240405651828, 0.17627595510658492, 0.24978302838603084, 0.8125924063026908, 0.4062962031513454, -3], (True, False, False, False, False, True): [0.8336143786906012, 0.26550617961295647, 0.20423552277919726, 0.26550617961295647, 0.8336143786906012, -3], (True, True, False, False): [0.4275900974275544, 0.8551801948551088, 0.4275900974275544, -3], (True, False, True, True, True, True, True, True, True): [0.8022810621063953, 0.8022810621063953, 0.2460141505254085, 0.172629394797143, 0.15837559155701195, 0.15837559155701195, 0.17262939479714304, 0.2460141505254085, -3], (False, True, True, True, True, False, False, False, False): [0.8022810621063953, 0.25552651828088685, 0.1965588602160668, 0.25552651828088685, 0.8022810621063953, 0.25552651828088685, 0.1965588602160668, 0.25552651828088685, -3], (False, False, False, False, False, False, True, True, False, False, False): [0.24039435790979133, 0.16965021729695928, 0.1586656708532713, 0.1696502172969593, 0.24039435790979133, 0.7820492489730428, 0.3910246244865214, 0.7820492489730428, 0.27371723714056495, 0.27371723714056495, -3], (False, False, False, False, False, True, True, False, True, False, False, False): [0.23928207243860272, 0.17214537585510986, 0.17214537585510986, 0.23928207243860272, 0.7721254803996854, 0.3860627401998427, 0.7721254803996854, 0.7721254803996854, 0.7721254803996854, 0.2702439181398899, 0.2702439181398899, -3], (False, True, True, True, True, True, True, True, True, True, True, True, True): [0.7623276389119008, 0.23351990140436035, 0.16346489622691796, 0.1487559835305192, 0.14474906896160972, 0.14360800857449593, 0.1433635531439018, 0.14360800857449593, 0.14474906896160972, 0.14875598353051916, 0.16346489622691796, 0.23351990140436035, -3], (False, True, True, False, False): [0.8443284353867567, 0.42216421769337836, 0.8443284353867567, 0.42216421769337836, -3], (True, True, True, True, True, True, True, True, True, True, True): [0.23956253528654314, 0.1676970754821169, 0.1526143517163425, 0.14852624691020053, 0.1474306612622881, 0.1474306612622881, 0.14852624691020053, 0.15261435171634252, 0.16769707548211693, 0.23956253528654314, -3], (True, False, True, False, False, True): [0.8336143786906012, 0.8336143786906012, 0.8336143786906012, 0.4168071893453006, 0.8336143786906012, -3], (True, False, True, True, True, True, True, True, True, False, False): [0.7820492489730428, 0.7820492489730428, 0.23981019962007052, 0.16827605053685393, 0.15438169774023294, 0.15438169774023297, 0.16827605053685393, 0.23981019962007052, 0.7820492489730428, 0.3910246244865214, -3], (False, False, False, True, True, False, False, False): [0.28440734220594177, 0.28440734220594177, 0.8125924063026908, 0.4062962031513454, 0.8125924063026908, 0.28440734220594177, 0.28440734220594177, -3], (True, True, True, True, True, True, False): [0.2529933731164912, 0.1785415477180601, 0.16698130362120733, 0.17854154771806013, 0.2529933731164912, 0.823036277395303, -3], (True, False, True, False): [0.8551801948551088, 0.8551801948551088, 0.8551801948551088, -3], (False, True, True, True, False): [0.8443284353867567, 0.29551495238536485, 0.29551495238536485, 0.8443284353867567, -3], (False, False, True, True, True, True, False): [0.4115181386976515, 0.823036277395303, 0.26213705435040396, 0.2016438879618492, 0.26213705435040396, 0.823036277395303, -3], (False, False, False, True, True, False, False): [0.288062697088356, 0.288062697088356, 0.823036277395303, 0.4115181386976515, 0.823036277395303, 0.4115181386976515, -3], (True, False, False, False, True, True, False, False, False): [0.8022810621063953, 0.2807983717372383, 0.2807983717372383, 0.8022810621063953, 0.40114053105319764, 0.8022810621063953, 0.2807983717372383, 0.2807983717372383, -3], (True, False, False, False, False, True, True, True, True): [0.8022810621063953, 0.25552651828088685, 0.1965588602160668, 0.25552651828088685, 0.8022810621063953, 0.25552651828088685, 0.1965588602160668, 0.25552651828088685, -3], (True, True, True, True, True, True, True, True, True): [0.24578104213755742, 0.17208436434677282, 0.1567110138846852, 0.15285124503523434, 0.15285124503523434, 0.15671101388468522, 0.17208436434677285, 0.24578104213755742, -3], (False, False, False, False, False, True): [0.25833751276340666, 0.1858543257290695, 0.1858543257290695, 0.25833751276340666, 0.8336143786906012, -3], (False, True, False, False, True, True, True, True, True): [0.8022810621063953, 0.8022810621063953, 0.40114053105319764, 0.8022810621063953, 0.2486273022873029, 0.17886856279662078, 0.1788685627966208, 0.2486273022873029, -3], (False, False, False, False, False, True, True, True, True, False): [0.2454723605593269, 0.17659882054627832, 0.17659882054627832, 0.2454723605593269, 0.7921005631140541, 0.2522840293518262, 0.1940646379629432, 0.2522840293518262, 0.7921005631140541, -3], (False, False, False, True, True, False, False, True): [0.28440734220594177, 0.28440734220594177, 0.8125924063026908, 0.4062962031513454, 0.8125924063026908, 0.4062962031513454, 0.8125924063026908, -3], (True, False, False, False, True): [0.8443284353867567, 0.29551495238536485, 0.29551495238536485, 0.8443284353867567, -3], (True, False, True, True, True, True): [0.8336143786906012, 0.8336143786906012, 0.26550617961295647, 0.20423552277919726, 0.26550617961295647, -3], (False, True, False, False, False, False, True, True, True, True): [0.7921005631140541, 0.7921005631140541, 0.2522840293518262, 0.1940646379629432, 0.2522840293518262, 0.7921005631140541, 0.2522840293518262, 0.1940646379629432, 0.2522840293518262, -3], (False, True, False, False, False, True): [0.8336143786906012, 0.8336143786906012, 0.2917650325417104, 0.2917650325417104, 0.8336143786906012, -3], (False, False, False, False, False, True, True, True, True): [0.2486273022873029, 0.17886856279662078, 0.1788685627966208, 0.2486273022873029, 0.8022810621063953, 0.25552651828088685, 0.1965588602160668, 0.25552651828088685, -3], (False, False, True, False): [0.4275900974275544, 0.8551801948551088, 0.8551801948551088, -3], (False, True, False, False, False, False, True, True, True): [0.8022810621063953, 0.8022810621063953, 0.25552651828088685, 0.1965588602160668, 0.25552651828088685, 0.8022810621063953, 0.2807983717372383, 0.2807983717372383, -3], (False, False, False, False, True, True): [0.26550617961295647, 0.20423552277919726, 0.26550617961295647, 0.8336143786906012, 0.4168071893453006, -3], (False, True, False, False, True): [0.8443284353867567, 0.8443284353867567, 0.42216421769337836, 0.8443284353867567, -3], (True, True, False, False, True, False): [0.4168071893453006, 0.8336143786906012, 0.4168071893453006, 0.8336143786906012, 0.8336143786906012, -3], (True, True, True, True, True, True, False, True, False): [0.24661342113877574, 0.17403911160111202, 0.16277039214492492, 0.17403911160111205, 0.24661342113877574, 0.8022810621063953, 0.8022810621063953, 0.8022810621063953, -3], (True, False, False, False, False, True, True, True): [0.8125924063026908, 0.25881068140740704, 0.19908513954415924, 0.25881068140740704, 0.8125924063026908, 0.28440734220594177, 0.28440734220594177, -3], (False, False, False, True, True, True, True): [0.288062697088356, 0.288062697088356, 0.823036277395303, 0.26213705435040396, 0.2016438879618492, 0.26213705435040396, -3], (False, True, False, True, True): [0.8443284353867567, 0.8443284353867567, 0.8443284353867567, 0.42216421769337836, -3], (True, True, True, True, True, True, False, True, False, False, False, False): [0.23734388765185005, 0.1674974507070219, 0.15665229202814998, 0.16749745070702188, 0.23734388765185005, 0.7721254803996854, 0.7721254803996854, 0.7721254803996854, 0.24592196550729983, 0.18917074269792292, 0.24592196550729983, -3], (True, True, True, False, False, True, False): [0.288062697088356, 0.288062697088356, 0.823036277395303, 0.4115181386976515, 0.823036277395303, 0.823036277395303, -3], (False, False, False, True, True, True): [0.2917650325417104, 0.2917650325417104, 0.8336143786906012, 0.2917650325417104, 0.2917650325417104, -3], (False, True, False, False, False, True, False, True, True): [0.8022810621063953, 0.8022810621063953, 0.2807983717372383, 0.2807983717372383, 0.8022810621063953, 0.8022810621063953, 0.8022810621063953, 0.40114053105319764, -3], (True, False, False, False, False): [0.8443284353867567, 0.268918606670682, 0.20686046666975538, 0.268918606670682, -3], (True, True, True, True, False, False, True, False): [0.25881068140740704, 0.19908513954415924, 0.25881068140740704, 0.8125924063026908, 0.4062962031513454, 0.8125924063026908, 0.8125924063026908, -3], (False, False, False, True, False, False, False, True, True, True): [0.2772351970899189, 0.2772351970899189, 0.7921005631140541, 0.7921005631140541, 0.2772351970899189, 0.2772351970899189, 0.7921005631140541, 0.2772351970899189, 0.2772351970899189, -3], (True, False, False, False, False, True, True, True, True, True): [0.7921005631140541, 0.2522840293518262, 0.1940646379629432, 0.2522840293518262, 0.7921005631140541, 0.2454723605593269, 0.17659882054627832, 0.17659882054627832, 0.2454723605593269, -3], (False, False, False, True, True): [0.29551495238536485, 0.29551495238536485, 0.8443284353867567, 0.42216421769337836, -3], (False, False, False, True, False, True, True): [0.288062697088356, 0.288062697088356, 0.823036277395303, 0.823036277395303, 0.823036277395303, 0.4115181386976515, -3], (False, False, False, True, False, False, False, True, True, True, False, False, False): [0.2668146736191653, 0.2668146736191653, 0.7623276389119008, 0.7623276389119008, 0.2668146736191653, 0.2668146736191653, 0.7623276389119008, 0.2668146736191653, 0.2668146736191653, 0.7623276389119008, 0.2668146736191653, 0.2668146736191653, -3], (True, True, True, True, False, False, True): [0.26213705435040396, 0.2016438879618492, 0.26213705435040396, 0.823036277395303, 0.4115181386976515, 0.823036277395303, -3], (True, True, True, True, True, True, False, True): [0.24978302838603084, 0.1762759551065849, 0.16486240405651828, 0.17627595510658492, 0.24978302838603084, 0.8125924063026908, 0.8125924063026908, -3], (False, False, False, True, False, True, True, True): [0.28440734220594177, 0.28440734220594177, 0.8125924063026908, 0.8125924063026908, 0.8125924063026908, 0.28440734220594177, 0.28440734220594177, -3], (False, True, False, False, False, False): [0.8336143786906012, 0.8336143786906012, 0.26550617961295647, 0.20423552277919726, 0.26550617961295647, -3], (False, False, False, True, False, False, False, False): [0.28440734220594177, 0.28440734220594177, 0.8125924063026908, 0.8125924063026908, 0.25881068140740704, 0.19908513954415924, 0.25881068140740704, -3], (False, False, False, False, True, False, True, True, True): [0.25552651828088685, 0.1965588602160668, 0.25552651828088685, 0.8022810621063953, 0.8022810621063953, 0.8022810621063953, 0.2807983717372383, 0.2807983717372383, -3], (True, True, True, True, False, False, True, True): [0.25881068140740704, 0.19908513954415924, 0.25881068140740704, 0.8125924063026908, 0.4062962031513454, 0.8125924063026908, 0.4062962031513454, -3], (False, False, False, True, True, True, False, False, False): [0.2807983717372383, 0.2807983717372383, 0.8022810621063953, 0.2807983717372383, 0.2807983717372383, 0.8022810621063953, 0.2807983717372383, 0.2807983717372383, -3], (False, False, True, True, True): [0.42216421769337836, 0.8443284353867567, 0.29551495238536485, 0.29551495238536485, -3], (False, False, False, False, True, False, True, True, True, False): [0.2522840293518262, 0.1940646379629432, 0.2522840293518262, 0.7921005631140541, 0.7921005631140541, 0.7921005631140541, 0.2772351970899189, 0.2772351970899189, 0.7921005631140541, -3], (False, False, True, False, False, False, False): [0.4115181386976515, 0.823036277395303, 0.823036277395303, 0.26213705435040396, 0.2016438879618492, 0.26213705435040396, -3], (False, False, False, True, True, True, False, False, False, False): [0.2772351970899189, 0.2772351970899189, 0.7921005631140541, 0.2772351970899189, 0.2772351970899189, 0.7921005631140541, 0.2522840293518262, 0.1940646379629432, 0.2522840293518262, -3], (True, True, True, False, True): [0.29551495238536485, 0.29551495238536485, 0.8443284353867567, 0.8443284353867567, -3], (True, True, True, True, False, False, False): [0.26213705435040396, 0.2016438879618492, 0.26213705435040396, 0.823036277395303, 0.288062697088356, 0.288062697088356, -3], (False, False, False, True, True, True, False, False, False, False, True, True, True): [0.2668146736191653, 0.2668146736191653, 0.7623276389119008, 0.2668146736191653, 0.2668146736191653, 0.7623276389119008, 0.2428013529934404, 0.1867702715334157, 0.2428013529934404, 0.7623276389119008, 0.2668146736191653, 0.2668146736191653, -3], (True, True, False, False, True, True, True): [0.4115181386976515, 0.823036277395303, 0.4115181386976515, 0.823036277395303, 0.288062697088356, 0.288062697088356, -3], (True, True, True, True, True, True, True, True, True, True, False, False): [0.23652727595989312, 0.16557995687289562, 0.1507107211890591, 0.14674851138175177, 0.14591442048132922, 0.14674851138175177, 0.15071072118905907, 0.16557995687289562, 0.23652727595989312, 0.7721254803996854, 0.3860627401998427, -3], (True, True, False, True, False, False, False): [0.4115181386976515, 0.823036277395303, 0.823036277395303, 0.823036277395303, 0.288062697088356, 0.288062697088356, -3], (False, False, False, False, True, True, True, False, False, False, False, True, True, True): [0.23972033931102968, 0.18440026100848436, 0.23972033931102968, 0.7526541265652423, 0.2634289442978348, 0.2634289442978348, 0.7526541265652423, 0.23972033931102968, 0.18440026100848436, 0.23972033931102968, 0.7526541265652423, 0.2634289442978348, 0.2634289442978348, -3], (True, False, True, True, True, True, False, False): [0.8125924063026908, 0.8125924063026908, 0.25881068140740704, 0.19908513954415924, 0.25881068140740704, 0.8125924063026908, 0.4062962031513454, -3], (False, False, False, False, True, False, True, True, True, True, True, False, False, True, True, True): [0.23367510486853774, 0.17975008066810594, 0.23367510486853774, 0.7336737986453304, 0.7336737986453304, 0.7336737986453304, 0.22736587703708722, 0.1635725734079764, 0.1635725734079764, 0.22736587703708722, 0.7336737986453304, 0.3668368993226652, 0.7336737986453304, 0.25678582952586565, 0.25678582952586565, -3], (False, False, False, False, True, True, True, False, False, False, False, True, True, True, True, True, True, True): [0.22778231831415457, 0.17521716793396505, 0.22778231831415457, 0.715172114016184, 0.25031023990566437, 0.25031023990566437, 0.715172114016184, 0.22778231831415457, 0.17521716793396505, 0.22778231831415457, 0.715172114016184, 0.2193027710852526, 0.15388588245404014, 0.14117970867343133, 0.1411797086734313, 0.15388588245404014, 0.2193027710852526, -3], (False, False, False, False, True, False, True, True, True, True, True, False, False, True, True, True, False): [0.2307098981822382, 0.1774691524478755, 0.2307098981822382, 0.7243638875423491, 0.7243638875423491, 0.7243638875423491, 0.22448073093131776, 0.1614969287275667, 0.1614969287275667, 0.22448073093131776, 0.7243638875423491, 0.3621819437711746, 0.7243638875423491, 0.2535273606398222, 0.2535273606398222, 0.7243638875423491, -3], (True, False, True, True, True, True, False, False, True): [0.8022810621063953, 0.8022810621063953, 0.25552651828088685, 0.1965588602160668, 0.25552651828088685, 0.8022810621063953, 0.40114053105319764, 0.8022810621063953, -3], (True, True, False, True, False, False, False, False, False, False): [0.39605028155702704, 0.7921005631140541, 0.7921005631140541, 0.7921005631140541, 0.24348403443879635, 0.1718306523915288, 0.16070492669711328, 0.1718306523915288, 0.24348403443879635, -3], (True, True, True, False, True, True, False, False, False): [0.2807983717372383, 0.2807983717372383, 0.8022810621063953, 0.8022810621063953, 0.40114053105319764, 0.8022810621063953, 0.2807983717372383, 0.2807983717372383, -3], (True, False, True, True, True, True, False, False, True, False): [0.7921005631140541, 0.7921005631140541, 0.2522840293518262, 0.1940646379629432, 0.2522840293518262, 0.7921005631140541, 0.39605028155702704, 0.7921005631140541, 0.7921005631140541, -3], (False, False, False, False, True, False, True, True, True, True, True, False, False): [0.2428013529934404, 0.1867702715334157, 0.2428013529934404, 0.7623276389119008, 0.7623276389119008, 0.7623276389119008, 0.23624571646261752, 0.16996094709540827, 0.1699609470954083, 0.23624571646261752, 0.7623276389119008, 0.3811638194559504, -3], (False, False, False, False, True, True, True, True, True, True, True): [0.24908268579791412, 0.19160206599839547, 0.24908268579791412, 0.7820492489730428, 0.23981019962007052, 0.16827605053685393, 0.15438169774023294, 0.15438169774023297, 0.16827605053685393, 0.23981019962007052, -3], (False, False, False, False, True, True, True): [0.26213705435040396, 0.2016438879618492, 0.26213705435040396, 0.823036277395303, 0.288062697088356, 0.288062697088356, -3], (False, True, True, True, True, True, True, True, True, True, True): [0.7820492489730428, 0.23956725068873844, 0.16770807880916758, 0.15264773577615676, 0.14863460153471933, 0.1477897904530891, 0.14863460153471933, 0.15264773577615676, 0.1677080788091676, 0.23956725068873844, -3], (False, False, False, False, True, False, True, True, True, True, True): [0.24908268579791412, 0.19160206599839547, 0.24908268579791412, 0.7820492489730428, 0.7820492489730428, 0.7820492489730428, 0.24235745328137043, 0.1743578800585399, 0.1743578800585399, 0.24235745328137043, -3], (True, False, True, True, True, True, False, False, True, False, False, True, True): [0.7623276389119008, 0.7623276389119008, 0.2428013529934404, 0.1867702715334157, 0.2428013529934404, 0.7623276389119008, 0.3811638194559504, 0.7623276389119008, 0.7623276389119008, 0.3811638194559504, 0.7623276389119008, 0.3811638194559504, -3], (True, True, True, True, True, True, True, False, False): [0.2460141505254085, 0.172629394797143, 0.15837559155701195, 0.15837559155701195, 0.17262939479714304, 0.2460141505254085, 0.8022810621063953, 0.40114053105319764, -3], (True, True, True, False, False, False, False): [0.288062697088356, 0.288062697088356, 0.823036277395303, 0.26213705435040396, 0.2016438879618492, 0.26213705435040396, -3], (True, False, True, True, True, True, True, True, True, True, True, True): [0.7721254803996854, 0.7721254803996854, 0.23652727595989312, 0.16557995687289562, 0.1507107211890591, 0.14674851138175177, 0.14591442048132922, 0.14674851138175177, 0.15071072118905907, 0.16557995687289562, 0.23652727595989312, -3], (False, False, False, False, True, False, True, True, True, True, True, False): [0.24592196550729983, 0.18917074269792292, 0.24592196550729983, 0.7721254803996854, 0.7721254803996854, 0.7721254803996854, 0.23928207243860272, 0.17214537585510986, 0.17214537585510986, 0.23928207243860272, 0.7721254803996854, -3], (False, False, False, False, False, False, False, False): [0.24899440628250066, 0.17442323893893694, 0.15911178908190166, 0.15608001893002346, 0.15911178908190163, 0.17442323893893694, 0.24899440628250066, -3], (True, True, True, True, False, False): [0.26550617961295647, 0.20423552277919726, 0.26550617961295647, 0.8336143786906012, 0.4168071893453006, -3], (True, False, False, False, False, False, False, False, False, False, False): [0.7820492489730428, 0.23956725068873844, 0.16770807880916758, 0.15264773577615676, 0.14863460153471933, 0.1477897904530891, 0.14863460153471933, 0.15264773577615676, 0.1677080788091676, 0.23956725068873844, -3], (True, False, True, True, True, True, True, True, True, True, True, True, False, False): [0.7526541265652423, 0.7526541265652423, 0.23056256374844267, 0.1614043843655681, 0.1469101190156957, 0.14304782766864235, 0.14223477075746702, 0.14304782766864235, 0.14691011901569573, 0.16140438436556812, 0.23056256374844267, 0.7526541265652423, 0.37632706328262117, -3], (True, False, True, True, True, True, False, False, True, True, True): [0.7820492489730428, 0.7820492489730428, 0.24908268579791412, 0.19160206599839547, 0.24908268579791412, 0.7820492489730428, 0.3910246244865214, 0.7820492489730428, 0.27371723714056495, 0.27371723714056495, -3], (False, True, True, True, True, True, False): [0.823036277395303, 0.25505935388294304, 0.18349593804528277, 0.18349593804528277, 0.25505935388294304, 0.823036277395303, -3], (False, False, False, False, True): [0.268918606670682, 0.20686046666975538, 0.268918606670682, 0.8443284353867567, -3], (False, True, True, False, False, False, False): [0.823036277395303, 0.4115181386976515, 0.823036277395303, 0.26213705435040396, 0.2016438879618492, 0.26213705435040396, -3], (False, False, False, False, False, False, False, False, False, False): [0.24264629679450858, 0.16986355250383578, 0.15460964590805065, 0.15054493272448946, 0.1496892636801639, 0.15054493272448943, 0.15460964590805068, 0.16986355250383578, 0.24264629679450858, -3], (False, True, False, True, True, True, True, True, True, True, True, True, True, False, False): [0.7431033656922869, 0.7431033656922869, 0.7431033656922869, 0.22763685347210888, 0.15935625279422205, 0.1450459115836054, 0.14123263055852525, 0.1404298908858538, 0.14123263055852525, 0.14504591158360544, 0.15935625279422205, 0.22763685347210888, 0.7431033656922869, 0.3715516828461434, -3], (True, True, False, False, True, True): [0.4168071893453006, 0.8336143786906012, 0.4168071893453006, 0.8336143786906012, 0.4168071893453006, -3], (True, False, True, True, True, True, False, False, True, True, True, False): [0.7721254803996854, 0.7721254803996854, 0.24592196550729983, 0.18917074269792292, 0.24592196550729983, 0.7721254803996854, 0.3860627401998427, 0.7721254803996854, 0.2702439181398899, 0.2702439181398899, 0.7721254803996854, -3], (False, False, False, False, False, False, False, False, False, False, False): [0.23956253528654314, 0.1676970754821169, 0.1526143517163425, 0.14852624691020053, 0.1474306612622881, 0.1474306612622881, 0.14852624691020053, 0.15261435171634252, 0.16769707548211693, 0.23956253528654314, -3], (False, True, True, True, True, True, True, True, True, True, True, False, False): [0.7623276389119008, 0.23352587681400186, 0.16347883961646853, 0.1487982862361862, 0.14488635466035657, 0.1440628479080242, 0.14488635466035657, 0.1487982862361862, 0.16347883961646853, 0.23352587681400186, 0.7623276389119008, 0.3811638194559504, -3], (False, False, True, True, False): [0.42216421769337836, 0.8443284353867567, 0.42216421769337836, 0.8443284353867567, -3], (False, False, True, False, False): [0.42216421769337836, 0.8443284353867567, 0.8443284353867567, 0.42216421769337836, -3], (True, False, True, True, True, True, False): [0.823036277395303, 0.823036277395303, 0.26213705435040396, 0.2016438879618492, 0.26213705435040396, 0.823036277395303, -3], (True, True, False, False, True, True, True, True): [0.4062962031513454, 0.8125924063026908, 0.4062962031513454, 0.8125924063026908, 0.25881068140740704, 0.19908513954415924, 0.25881068140740704, -3], (True, False, True, True, False): [0.8443284353867567, 0.8443284353867567, 0.42216421769337836, 0.8443284353867567, -3], (True, True, True, True, False, True): [0.26550617961295647, 0.20423552277919726, 0.26550617961295647, 0.8336143786906012, 0.8336143786906012, -3], (False, False, True, False, False, True, True): [0.4115181386976515, 0.823036277395303, 0.823036277395303, 0.4115181386976515, 0.823036277395303, 0.4115181386976515, -3], (True, True, True, True, True, False, False, True, True, True, False): [0.24235745328137043, 0.1743578800585399, 0.1743578800585399, 0.24235745328137043, 0.7820492489730428, 0.3910246244865214, 0.7820492489730428, 0.27371723714056495, 0.27371723714056495, 0.7820492489730428, -3], (True, True, True, False, False, True, True, True, False): [0.2807983717372383, 0.2807983717372383, 0.8022810621063953, 0.40114053105319764, 0.8022810621063953, 0.2807983717372383, 0.2807983717372383, 0.8022810621063953, -3], (False, False, False, False, False, False, False, False, False): [0.24578104213755742, 0.17208436434677282, 0.1567110138846852, 0.15285124503523434, 0.15285124503523434, 0.15671101388468522, 0.17208436434677285, 0.24578104213755742, -3], (True, False, True, True, True, True, False, True): [0.8125924063026908, 0.8125924063026908, 0.25881068140740704, 0.19908513954415924, 0.25881068140740704, 0.8125924063026908, 0.8125924063026908, -3], (False, False, True, True, True, True, True, False, True): [0.40114053105319764, 0.8022810621063953, 0.2486273022873029, 0.17886856279662078, 0.1788685627966208, 0.2486273022873029, 0.8022810621063953, 0.8022810621063953, -3], (True, False, True, True, False, True, True): [0.823036277395303, 0.823036277395303, 0.4115181386976515, 0.823036277395303, 0.823036277395303, 0.4115181386976515, -3], (False, False, True, False, False, False): [0.4168071893453006, 0.8336143786906012, 0.8336143786906012, 0.2917650325417104, 0.2917650325417104, -3], (True, False, False, True, False, False, False): [0.823036277395303, 0.4115181386976515, 0.823036277395303, 0.823036277395303, 0.288062697088356, 0.288062697088356, -3], (True, True, True, True, True, False, True): [0.25505935388294304, 0.18349593804528277, 0.18349593804528277, 0.25505935388294304, 0.823036277395303, 0.823036277395303, -3], (True, True, True, True, True, True, True, True, True, True, False, False, False, False): [0.23056256374844267, 0.1614043843655681, 0.1469101190156957, 0.14304782766864235, 0.14223477075746702, 0.14304782766864235, 0.14691011901569573, 0.16140438436556812, 0.23056256374844267, 0.7526541265652423, 0.23972033931102968, 0.18440026100848436, 0.23972033931102968, -3], (True, True, True, False, False, True, True, True, False, False, False, True, False): [0.2668146736191653, 0.2668146736191653, 0.7623276389119008, 0.3811638194559504, 0.7623276389119008, 0.2668146736191653, 0.2668146736191653, 0.7623276389119008, 0.2668146736191653, 0.2668146736191653, 0.7623276389119008, 0.7623276389119008, -3], (True, False, True, True, False, True): [0.8336143786906012, 0.8336143786906012, 0.4168071893453006, 0.8336143786906012, 0.8336143786906012, -3], (True, False, False, True, False, False): [0.8336143786906012, 0.4168071893453006, 0.8336143786906012, 0.8336143786906012, 0.4168071893453006, -3], (True, True, False, False, False, False): [0.4168071893453006, 0.8336143786906012, 0.26550617961295647, 0.20423552277919726, 0.26550617961295647, -3], (True, True, True, False, False, True, True, True, False, False, False, True): [0.2702439181398899, 0.2702439181398899, 0.7721254803996854, 0.3860627401998427, 0.7721254803996854, 0.2702439181398899, 0.2702439181398899, 0.7721254803996854, 0.2702439181398899, 0.2702439181398899, 0.7721254803996854, -3], (True, False, True, False, False, True, False, False): [0.8125924063026908, 0.8125924063026908, 0.8125924063026908, 0.4062962031513454, 0.8125924063026908, 0.8125924063026908, 0.4062962031513454, -3], (True, False, True, True, True, True, False, True, True, False): [0.7921005631140541, 0.7921005631140541, 0.2522840293518262, 0.1940646379629432, 0.2522840293518262, 0.7921005631140541, 0.7921005631140541, 0.39605028155702704, 0.7921005631140541, -3], (True, True, True, True, True, False): [0.25833751276340666, 0.1858543257290695, 0.1858543257290695, 0.25833751276340666, 0.8336143786906012, -3], (True, True, True, False, True, False): [0.2917650325417104, 0.2917650325417104, 0.8336143786906012, 0.8336143786906012, 0.8336143786906012, -3], (False, False, True, True, True, True, True, False): [0.4062962031513454, 0.8125924063026908, 0.251822793009407, 0.18116747698518493, 0.18116747698518493, 0.251822793009407, 0.8125924063026908, -3], (False, False, True, True, False, True): [0.4168071893453006, 0.8336143786906012, 0.4168071893453006, 0.8336143786906012, 0.8336143786906012, -3], (True, False, False, True, True, False): [0.8336143786906012, 0.4168071893453006, 0.8336143786906012, 0.4168071893453006, 0.8336143786906012, -3], (True, True, True, True, False, True, True, False): [0.25881068140740704, 0.19908513954415924, 0.25881068140740704, 0.8125924063026908, 0.8125924063026908, 0.4062962031513454, 0.8125924063026908, -3], (True, True, True, False, False, True, True, True): [0.28440734220594177, 0.28440734220594177, 0.8125924063026908, 0.4062962031513454, 0.8125924063026908, 0.28440734220594177, 0.28440734220594177, -3], (False, False, False, True, False, False): [0.2917650325417104, 0.2917650325417104, 0.8336143786906012, 0.8336143786906012, 0.4168071893453006, -3], (True, True, True, True, False, True, True, False, True, False, False, True, True, False): [0.23972033931102968, 0.18440026100848436, 0.23972033931102968, 0.7526541265652423, 0.7526541265652423, 0.37632706328262117, 0.7526541265652423, 0.7526541265652423, 0.7526541265652423, 0.37632706328262117, 0.7526541265652423, 0.37632706328262117, 0.7526541265652423, -3], (True, True, True, False, False, True, True, True, True): [0.2807983717372383, 0.2807983717372383, 0.8022810621063953, 0.40114053105319764, 0.8022810621063953, 0.25552651828088685, 0.1965588602160668, 0.25552651828088685, -3], (False, False, True, True, True, True, True, False, False): [0.40114053105319764, 0.8022810621063953, 0.2486273022873029, 0.17886856279662078, 0.1788685627966208, 0.2486273022873029, 0.8022810621063953, 0.40114053105319764, -3], (False, False, False, False, True, False, False): [0.26213705435040396, 0.2016438879618492, 0.26213705435040396, 0.823036277395303, 0.823036277395303, 0.4115181386976515, -3], (False, True, True, True, False, False, True, True, True, True): [0.7921005631140541, 0.2772351970899189, 0.2772351970899189, 0.7921005631140541, 0.39605028155702704, 0.7921005631140541, 0.2522840293518262, 0.1940646379629432, 0.2522840293518262, -3], (True, False, False, True, False): [0.8443284353867567, 0.42216421769337836, 0.8443284353867567, 0.8443284353867567, -3], (False, True, False, False, True, True, False): [0.823036277395303, 0.823036277395303, 0.4115181386976515, 0.823036277395303, 0.4115181386976515, 0.823036277395303, -3], (True, True, True, True, False, True, True): [0.26213705435040396, 0.2016438879618492, 0.26213705435040396, 0.823036277395303, 0.823036277395303, 0.4115181386976515, -3], (False, False, True, True, True, True, True): [0.4115181386976515, 0.823036277395303, 0.25505935388294304, 0.18349593804528277, 0.18349593804528277, 0.25505935388294304, -3], (True, True, True, True, True, True, True, False, True): [0.2460141505254085, 0.172629394797143, 0.15837559155701195, 0.15837559155701195, 0.17262939479714304, 0.2460141505254085, 0.8022810621063953, 0.8022810621063953, -3], (True, False, False, False, True, False): [0.8336143786906012, 0.2917650325417104, 0.2917650325417104, 0.8336143786906012, 0.8336143786906012, -3], (False, False, False, False, True, False, False, True): [0.25881068140740704, 0.19908513954415924, 0.25881068140740704, 0.8125924063026908, 0.8125924063026908, 0.4062962031513454, 0.8125924063026908, -3], (False, True, True, True, False, False): [0.8336143786906012, 0.2917650325417104, 0.2917650325417104, 0.8336143786906012, 0.4168071893453006, -3], (True, False, False, False, True, False, False, False): [0.8125924063026908, 0.28440734220594177, 0.28440734220594177, 0.8125924063026908, 0.8125924063026908, 0.28440734220594177, 0.28440734220594177, -3], (True, False, False, True, True, True, True, True): [0.8125924063026908, 0.4062962031513454, 0.8125924063026908, 0.251822793009407, 0.18116747698518493, 0.18116747698518493, 0.251822793009407, -3], (False, True, True, True, True, True, True, False, True): [0.8022810621063953, 0.24661342113877574, 0.17403911160111202, 0.16277039214492492, 0.17403911160111205, 0.24661342113877574, 0.8022810621063953, 0.8022810621063953, -3], (True, True, False, False, False, False, True, False, False, True): [0.39605028155702704, 0.7921005631140541, 0.2522840293518262, 0.1940646379629432, 0.2522840293518262, 0.7921005631140541, 0.7921005631140541, 0.39605028155702704, 0.7921005631140541, -3], (True, True, False, False, False, True, False, False, False): [0.40114053105319764, 0.8022810621063953, 0.2807983717372383, 0.2807983717372383, 0.8022810621063953, 0.8022810621063953, 0.2807983717372383, 0.2807983717372383, -3], (False, False, False, False, True, True, True, False, False): [0.25552651828088685, 0.1965588602160668, 0.25552651828088685, 0.8022810621063953, 0.2807983717372383, 0.2807983717372383, 0.8022810621063953, 0.40114053105319764, -3], (True, True, False, False, False, False, True, False, False, True, True, True): [0.3860627401998427, 0.7721254803996854, 0.24592196550729983, 0.18917074269792292, 0.24592196550729983, 0.7721254803996854, 0.7721254803996854, 0.3860627401998427, 0.7721254803996854, 0.2702439181398899, 0.2702439181398899, -3], (False, False, False, False, True, True, True, False, False, False): [0.2522840293518262, 0.1940646379629432, 0.2522840293518262, 0.7921005631140541, 0.2772351970899189, 0.2772351970899189, 0.7921005631140541, 0.2772351970899189, 0.2772351970899189, -3], (False, False, True, False, False, True): [0.4168071893453006, 0.8336143786906012, 0.8336143786906012, 0.4168071893453006, 0.8336143786906012, -3], (True, True, True, False, False, False, True, False, False, False): [0.2772351970899189, 0.2772351970899189, 0.7921005631140541, 0.2772351970899189, 0.2772351970899189, 0.7921005631140541, 0.7921005631140541, 0.2772351970899189, 0.2772351970899189, -3], (False, True, False, True, True, True, True, True): [0.8125924063026908, 0.8125924063026908, 0.8125924063026908, 0.251822793009407, 0.18116747698518493, 0.18116747698518493, 0.251822793009407, -3], (True, True, True, False, True, True): [0.2917650325417104, 0.2917650325417104, 0.8336143786906012, 0.8336143786906012, 0.4168071893453006, -3], (True, False, False, False, False, True, True): [0.823036277395303, 0.26213705435040396, 0.2016438879618492, 0.26213705435040396, 0.823036277395303, 0.4115181386976515, -3], (True, True, True, False, False, False, False, True, False, False, True, True, True): [0.2668146736191653, 0.2668146736191653, 0.7623276389119008, 0.2428013529934404, 0.1867702715334157, 0.2428013529934404, 0.7623276389119008, 0.7623276389119008, 0.3811638194559504, 0.7623276389119008, 0.2668146736191653, 0.2668146736191653, -3], (True, True, False, True, False, True, True, True, True, True): [0.39605028155702704, 0.7921005631140541, 0.7921005631140541, 0.7921005631140541, 0.7921005631140541, 0.2454723605593269, 0.17659882054627832, 0.17659882054627832, 0.2454723605593269, -3], (True, True, True, False, False, False, True, False, False, False, False): [0.27371723714056495, 0.27371723714056495, 0.7820492489730428, 0.27371723714056495, 0.27371723714056495, 0.7820492489730428, 0.7820492489730428, 0.24908268579791412, 0.19160206599839547, 0.24908268579791412, -3], (False, False, True, False, False, False, True, True, True): [0.40114053105319764, 0.8022810621063953, 0.8022810621063953, 0.2807983717372383, 0.2807983717372383, 0.8022810621063953, 0.2807983717372383, 0.2807983717372383, -3], (True, True, True, False, False, False, False, True, False, False, True, True, True, False): [0.2634289442978348, 0.2634289442978348, 0.7526541265652423, 0.23972033931102968, 0.18440026100848436, 0.23972033931102968, 0.7526541265652423, 0.7526541265652423, 0.37632706328262117, 0.7526541265652423, 0.2634289442978348, 0.2634289442978348, 0.7526541265652423, -3], (False, False, False, False, False, False, True, True, True, True, True): [0.24039435790979133, 0.16965021729695928, 0.1586656708532713, 0.1696502172969593, 0.24039435790979133, 0.7820492489730428, 0.24235745328137043, 0.1743578800585399, 0.1743578800585399, 0.24235745328137043, -3], (False, False, False, True, True, False): [0.2917650325417104, 0.2917650325417104, 0.8336143786906012, 0.4168071893453006, 0.8336143786906012, -3], (False, False, False, False, False, False, True, True, True, True, True, True): [0.23734388765185005, 0.1674974507070219, 0.15665229202814998, 0.16749745070702188, 0.23734388765185005, 0.7721254803996854, 0.23734388765185005, 0.1674974507070219, 0.15665229202814998, 0.16749745070702188, 0.23734388765185005, -3], (True, False, False, False, False, False): [0.8336143786906012, 0.25833751276340666, 0.1858543257290695, 0.1858543257290695, 0.25833751276340666, -3], (False, False, False, False, False, True, False, True, True): [0.2486273022873029, 0.17886856279662078, 0.1788685627966208, 0.2486273022873029, 0.8022810621063953, 0.8022810621063953, 0.8022810621063953, 0.40114053105319764, -3], (False, True, False, True, False): [0.8443284353867567, 0.8443284353867567, 0.8443284353867567, 0.8443284353867567, -3], (True, True, False, True, False, True, True, True, True, True, False, False): [0.3860627401998427, 0.7721254803996854, 0.7721254803996854, 0.7721254803996854, 0.7721254803996854, 0.23928207243860272, 0.17214537585510986, 0.17214537585510986, 0.23928207243860272, 0.7721254803996854, 0.3860627401998427, -3], (True, True, True, False, False, False, True, False, False, False, False, False, False): [0.2668146736191653, 0.2668146736191653, 0.7623276389119008, 0.2668146736191653, 0.2668146736191653, 0.7623276389119008, 0.7623276389119008, 0.23433212615927032, 0.16537200152383225, 0.15466446185682153, 0.16537200152383227, 0.23433212615927032, -3], (True, True, True, False, False, False, False, True, False, False, True, True, True, False, True): [0.2600861779923004, 0.2600861779923004, 0.7431033656922869, 0.23667842197299335, 0.18206032459461025, 0.23667842197299335, 0.7431033656922869, 0.7431033656922869, 0.3715516828461434, 0.7431033656922869, 0.2600861779923004, 0.2600861779923004, 0.7431033656922869, 0.7431033656922869, -3], (False, False, False, False, False, True, False): [0.25505935388294304, 0.18349593804528277, 0.18349593804528277, 0.25505935388294304, 0.823036277395303, 0.823036277395303, -3], (True, False, False, True, True, True, True, True, True): [0.8022810621063953, 0.40114053105319764, 0.8022810621063953, 0.24661342113877574, 0.17403911160111202, 0.16277039214492492, 0.17403911160111205, 0.24661342113877574, -3], (False, True, False, False, False, False, False, False, True, True, True, True, True, True): [0.7526541265652423, 0.7526541265652423, 0.23135858223941985, 0.1632735231047423, 0.1527018561411259, 0.1632735231047423, 0.23135858223941985, 0.7526541265652423, 0.23135858223941985, 0.1632735231047423, 0.1527018561411259, 0.1632735231047423, 0.23135858223941985, -3], (True, False, True, False, True, False): [0.8336143786906012, 0.8336143786906012, 0.8336143786906012, 0.8336143786906012, 0.8336143786906012, -3], (True, True, False, True, False, True, True, True, True, True, False): [0.3910246244865214, 0.7820492489730428, 0.7820492489730428, 0.7820492489730428, 0.7820492489730428, 0.24235745328137043, 0.1743578800585399, 0.1743578800585399, 0.24235745328137043, 0.7820492489730428, -3], (True, True, True, False, False, False, False, True, False, False, True, True, True, False, True, False): [0.25678582952586565, 0.25678582952586565, 0.7336737986453304, 0.23367510486853774, 0.17975008066810594, 0.23367510486853774, 0.7336737986453304, 0.7336737986453304, 0.3668368993226652, 0.7336737986453304, 0.25678582952586565, 0.25678582952586565, 0.7336737986453304, 0.7336737986453304, 0.7336737986453304, -3], (True, True, False, True, False): [0.42216421769337836, 0.8443284353867567, 0.8443284353867567, 0.8443284353867567, -3], (True, True, False, False, False, True, False, True): [0.4062962031513454, 0.8125924063026908, 0.28440734220594177, 0.28440734220594177, 0.8125924063026908, 0.8125924063026908, 0.8125924063026908, -3], (True, True, True, False, False, False, False, True, False, False): [0.2772351970899189, 0.2772351970899189, 0.7921005631140541, 0.2522840293518262, 0.1940646379629432, 0.2522840293518262, 0.7921005631140541, 0.7921005631140541, 0.39605028155702704, -3], (True, False, False, False, True, True): [0.8336143786906012, 0.2917650325417104, 0.2917650325417104, 0.8336143786906012, 0.4168071893453006, -3], (False, True, True, True, True, False, False): [0.823036277395303, 0.26213705435040396, 0.2016438879618492, 0.26213705435040396, 0.823036277395303, 0.4115181386976515, -3], (False, True, False, False, False, False, False, False): [0.8125924063026908, 0.8125924063026908, 0.24978302838603084, 0.1762759551065849, 0.16486240405651828, 0.17627595510658492, 0.24978302838603084, -3], (False, True, True, False, False, True, True, True, True, True, True): [0.7820492489730428, 0.3910246244865214, 0.7820492489730428, 0.3910246244865214, 0.7820492489730428, 0.24039435790979133, 0.16965021729695928, 0.1586656708532713, 0.1696502172969593, 0.24039435790979133, -3], (True, True, True, True, True, True, True, False, False, False, False, False): [0.23676714200485605, 0.166140721356295, 0.15242268014338994, 0.15242268014338992, 0.166140721356295, 0.23676714200485605, 0.7721254803996854, 0.23928207243860272, 0.17214537585510986, 0.17214537585510986, 0.23928207243860272, -3], (True, False, False, False, False, True, False, False): [0.8125924063026908, 0.25881068140740704, 0.19908513954415924, 0.25881068140740704, 0.8125924063026908, 0.8125924063026908, 0.4062962031513454, -3], (False, True, False, False, False, False, False, False, True, False, True, False): [0.7721254803996854, 0.7721254803996854, 0.23734388765185005, 0.1674974507070219, 0.15665229202814998, 0.16749745070702188, 0.23734388765185005, 0.7721254803996854, 0.7721254803996854, 0.7721254803996854, 0.7721254803996854, -3], (True, False, False, False, True, True, True): [0.823036277395303, 0.288062697088356, 0.288062697088356, 0.823036277395303, 0.288062697088356, 0.288062697088356, -3], (True, False, True, False, True): [0.8443284353867567, 0.8443284353867567, 0.8443284353867567, 0.8443284353867567, -3], (False, True, True, False, False, False, True, False, False, False): [0.7921005631140541, 0.39605028155702704, 0.7921005631140541, 0.2772351970899189, 0.2772351970899189, 0.7921005631140541, 0.7921005631140541, 0.2772351970899189, 0.2772351970899189, -3], (False, False, False, True, True, False, False, False, True, False, True): [0.27371723714056495, 0.27371723714056495, 0.7820492489730428, 0.3910246244865214, 0.7820492489730428, 0.27371723714056495, 0.27371723714056495, 0.7820492489730428, 0.7820492489730428, 0.7820492489730428, -3], (False, True, True, False, False, True, True, True, True, True, True, True): [0.7721254803996854, 0.3860627401998427, 0.7721254803996854, 0.3860627401998427, 0.7721254803996854, 0.23676714200485605, 0.166140721356295, 0.15242268014338994, 0.15242268014338992, 0.166140721356295, 0.23676714200485605, -3], (False, False, False, False, False, False, True, False, True, False): [0.24348403443879635, 0.1718306523915288, 0.16070492669711328, 0.1718306523915288, 0.24348403443879635, 0.7921005631140541, 0.7921005631140541, 0.7921005631140541, 0.7921005631140541, -3], (False, False, True, True, True, True, True, True, True): [0.40114053105319764, 0.8022810621063953, 0.2460141505254085, 0.172629394797143, 0.15837559155701195, 0.15837559155701195, 0.17262939479714304, 0.2460141505254085, -3], (True, False, False, True, True, True): [0.8336143786906012, 0.4168071893453006, 0.8336143786906012, 0.2917650325417104, 0.2917650325417104, -3], (False, False, False, True, False, True): [0.2917650325417104, 0.2917650325417104, 0.8336143786906012, 0.8336143786906012, 0.8336143786906012, -3], (True, False, True, True, False, False, False, True, False, False, False): [0.7820492489730428, 0.7820492489730428, 0.3910246244865214, 0.7820492489730428, 0.27371723714056495, 0.27371723714056495, 0.7820492489730428, 0.7820492489730428, 0.27371723714056495, 0.27371723714056495, -3], (True, False, True, True, False, False, False, True, False, False, False, False): [0.7721254803996854, 0.7721254803996854, 0.3860627401998427, 0.7721254803996854, 0.2702439181398899, 0.2702439181398899, 0.7721254803996854, 0.7721254803996854, 0.24592196550729983, 0.18917074269792292, 0.24592196550729983, -3], (False, False, False, False, False, False, False, True, False, True, False): [0.23981019962007052, 0.16827605053685393, 0.15438169774023294, 0.15438169774023297, 0.16827605053685393, 0.23981019962007052, 0.7820492489730428, 0.7820492489730428, 0.7820492489730428, 0.7820492489730428, -3], (True, True, True, True, True, True, True, True, False): [0.2458348062096755, 0.17220990536778594, 0.15709274926540015, 0.15409945058497262, 0.15709274926540015, 0.17220990536778596, 0.2458348062096755, 0.8022810621063953, -3], (False, False, True, True, True, True, True, True, True, True): [0.39605028155702704, 0.7921005631140541, 0.24271529969866668, 0.17002465776457704, 0.15509932993751327, 0.15214401454703136, 0.15509932993751327, 0.17002465776457704, 0.24271529969866668, -3], (True, True, False, True, True, True): [0.4168071893453006, 0.8336143786906012, 0.8336143786906012, 0.2917650325417104, 0.2917650325417104, -3], (True, False, False, True, False, False, True, True): [0.8125924063026908, 0.4062962031513454, 0.8125924063026908, 0.8125924063026908, 0.4062962031513454, 0.8125924063026908, 0.4062962031513454, -3], (False, False, False, False, False, False, False, True): [0.24917605562705278, 0.17484811987022159, 0.16041111914699227, 0.16041111914699227, 0.17484811987022159, 0.24917605562705278, 0.8125924063026908, -3], (True, True, False, True, True, True, False): [0.4115181386976515, 0.823036277395303, 0.823036277395303, 0.288062697088356, 0.288062697088356, 0.823036277395303, -3], (False, False, False, False, True, False): [0.26550617961295647, 0.20423552277919726, 0.26550617961295647, 0.8336143786906012, 0.8336143786906012, -3], (False, False, True, False, False, False, False, True): [0.4062962031513454, 0.8125924063026908, 0.8125924063026908, 0.25881068140740704, 0.19908513954415924, 0.25881068140740704, 0.8125924063026908, -3], (False, False, False, False, False, False, False, True, True): [0.2460141505254085, 0.172629394797143, 0.15837559155701195, 0.15837559155701195, 0.17262939479714304, 0.2460141505254085, 0.8022810621063953, 0.40114053105319764, -3], (True, False, False, True, False, False, True): [0.823036277395303, 0.4115181386976515, 0.823036277395303, 0.823036277395303, 0.4115181386976515, 0.823036277395303, -3], (True, True, False, True, True, True, False, True): [0.4062962031513454, 0.8125924063026908, 0.8125924063026908, 0.28440734220594177, 0.28440734220594177, 0.8125924063026908, 0.8125924063026908, -3], (False, False, False, False, True, True, True, True, True, True, True, True): [0.24592196550729983, 0.18917074269792292, 0.24592196550729983, 0.7721254803996854, 0.2365945387583345, 0.16573699940339923, 0.15118805643422847, 0.14830726777951841, 0.15118805643422845, 0.1657369994033992, 0.2365945387583345, -3], (False, True, False, False, True, False, False, True): [0.8125924063026908, 0.8125924063026908, 0.4062962031513454, 0.8125924063026908, 0.8125924063026908, 0.4062962031513454, 0.8125924063026908, -3], (False, True, False, False, True, False): [0.8336143786906012, 0.8336143786906012, 0.4168071893453006, 0.8336143786906012, 0.8336143786906012, -3], (False, False, False, False, False, False, False): [0.25237859921981814, 0.17709536118154384, 0.1624728084234347, 0.16247280842343473, 0.17709536118154384, 0.25237859921981814, -3], (True, True, True, True, True, True, False, True, False, True): [0.24348403443879635, 0.1718306523915288, 0.16070492669711328, 0.1718306523915288, 0.24348403443879635, 0.7921005631140541, 0.7921005631140541, 0.7921005631140541, 0.7921005631140541, -3], (True, False, False, False, False, False, False): [0.823036277395303, 0.2529933731164912, 0.1785415477180601, 0.16698130362120733, 0.17854154771806013, 0.2529933731164912, -3], (False, True, False, True, True, False): [0.8336143786906012, 0.8336143786906012, 0.8336143786906012, 0.4168071893453006, 0.8336143786906012, -3], (False, False, False, False, True, True, True, True, True, True, True, True, True): [0.2428013529934404, 0.1867702715334157, 0.2428013529934404, 0.7623276389119008, 0.23354119945209792, 0.16351460025954528, 0.14890683932205198, 0.1452392861256419, 0.14523928612564188, 0.14890683932205198, 0.16351460025954528, 0.23354119945209792, -3], (False, False, False, False, True, False, False, False, False, True): [0.2522840293518262, 0.1940646379629432, 0.2522840293518262, 0.7921005631140541, 0.7921005631140541, 0.2522840293518262, 0.1940646379629432, 0.2522840293518262, 0.7921005631140541, -3], (False, False, False, False, True, True, True, True): [0.25881068140740704, 0.19908513954415924, 0.25881068140740704, 0.8125924063026908, 0.25881068140740704, 0.19908513954415924, 0.25881068140740704, -3], (False, False, False, False, True, False, False, False, False, True, True): [0.24908268579791412, 0.19160206599839547, 0.24908268579791412, 0.7820492489730428, 0.7820492489730428, 0.24908268579791412, 0.19160206599839547, 0.24908268579791412, 0.7820492489730428, 0.3910246244865214, -3], (True, True, True, True, True, True, False, True, False, True, False, False, False, False, False, False, False): [0.2226624370107741, 0.1571365116519224, 0.14696220514208572, 0.1571365116519224, 0.2226624370107741, 0.7243638875423491, 0.7243638875423491, 0.7243638875423491, 0.7243638875423491, 0.7243638875423491, 0.2221213672888379, 0.15586370590754187, 0.1429942256032494, 0.1429942256032494, 0.15586370590754184, 0.2221213672888379, -3], (False, False, False, True, False, False, False, False, True, True): [0.2772351970899189, 0.2772351970899189, 0.7921005631140541, 0.7921005631140541, 0.2522840293518262, 0.1940646379629432, 0.2522840293518262, 0.7921005631140541, 0.39605028155702704, -3], (False, True, False, True, False, False, False, False, False, False, False): [0.7820492489730428, 0.7820492489730428, 0.7820492489730428, 0.7820492489730428, 0.23981019962007052, 0.16827605053685393, 0.15438169774023294, 0.15438169774023297, 0.16827605053685393, 0.23981019962007052, -3], (False, True, True, True, True, True, True, False): [0.8125924063026908, 0.24978302838603084, 0.1762759551065849, 0.16486240405651828, 0.17627595510658492, 0.24978302838603084, 0.8125924063026908, -3], (True, True, True, True, True, False, False, True, True): [0.2486273022873029, 0.17886856279662078, 0.1788685627966208, 0.2486273022873029, 0.8022810621063953, 0.40114053105319764, 0.8022810621063953, 0.40114053105319764, -3], (False, True, False, False, False, False, False, False, False): [0.8022810621063953, 0.8022810621063953, 0.2460141505254085, 0.172629394797143, 0.15837559155701195, 0.15837559155701195, 0.17262939479714304, 0.2460141505254085, -3], (False, False, False, True, False, False, False, False, True, True, True): [0.27371723714056495, 0.27371723714056495, 0.7820492489730428, 0.7820492489730428, 0.24908268579791412, 0.19160206599839547, 0.24908268579791412, 0.7820492489730428, 0.27371723714056495, 0.27371723714056495, -3], (True, True, True, True, True, False, False): [0.25505935388294304, 0.18349593804528277, 0.18349593804528277, 0.25505935388294304, 0.823036277395303, 0.4115181386976515, -3], (False, True, True, True, True, True, True, True, False, True): [0.7921005631140541, 0.24289236823511007, 0.17043882410715744, 0.15636589367629122, 0.15636589367629122, 0.17043882410715744, 0.24289236823511007, 0.7921005631140541, 0.7921005631140541, -3], (True, True, True, False, False, False): [0.2917650325417104, 0.2917650325417104, 0.8336143786906012, 0.2917650325417104, 0.2917650325417104, -3], (False, True, True, True, True, True, True, True, True, True, True, True, False, False): [0.7526541265652423, 0.2305580255855004, 0.16139379462390985, 0.14687798977266697, 0.14294354580227192, 0.14188914026452634, 0.14188914026452637, 0.14294354580227192, 0.146877989772667, 0.16139379462390988, 0.2305580255855004, 0.7526541265652423, 0.37632706328262117, -3], (False, False, True, False, False, False, False, False, False, False): [0.39605028155702704, 0.7921005631140541, 0.7921005631140541, 0.24289236823511007, 0.17043882410715744, 0.15636589367629122, 0.15636589367629122, 0.17043882410715744, 0.24289236823511007, -3], (False, False, True, False, False, False, False, True, True): [0.40114053105319764, 0.8022810621063953, 0.8022810621063953, 0.25552651828088685, 0.1965588602160668, 0.25552651828088685, 0.8022810621063953, 0.40114053105319764, -3], (False, True, True, True, True, True, True, True, True, True, True, True): [0.7721254803996854, 0.2365226203935204, 0.16556909317192517, 0.150677760754335, 0.1466415317169545, 0.14555984843955957, 0.14555984843955957, 0.14664153171695446, 0.150677760754335, 0.16556909317192517, 0.2365226203935204, -3], (True, False, False, True, False, False, False, False, False, False, False): [0.7820492489730428, 0.3910246244865214, 0.7820492489730428, 0.7820492489730428, 0.23981019962007052, 0.16827605053685393, 0.15438169774023294, 0.15438169774023297, 0.16827605053685393, 0.23981019962007052, -3], (True, True, True, True, True, True, True, False): [0.24917605562705278, 0.17484811987022159, 0.16041111914699227, 0.16041111914699227, 0.17484811987022159, 0.24917605562705278, 0.8125924063026908, -3], (True, False, False, False, False, False, False, False): [0.8125924063026908, 0.24917605562705278, 0.17484811987022159, 0.16041111914699227, 0.16041111914699227, 0.17484811987022159, 0.24917605562705278, -3], (False, True, True, True, True, True, True, True, True, True): [0.7921005631140541, 0.24266221786262257, 0.16990070978906666, 0.15472243856576512, 0.1509116480292004, 0.1509116480292004, 0.15472243856576512, 0.16990070978906666, 0.24266221786262257, -3], (True, True, False, False, True, False, False, False, False): [0.40114053105319764, 0.8022810621063953, 0.40114053105319764, 0.8022810621063953, 0.8022810621063953, 0.25552651828088685, 0.1965588602160668, 0.25552651828088685, -3], (True, True, True, True, True, True, False, False, False, False, False, False, False): [0.23433212615927032, 0.16537200152383225, 0.15466446185682153, 0.16537200152383227, 0.23433212615927032, 0.7623276389119008, 0.23376269909270328, 0.16403248831148923, 0.15048852138668736, 0.15048852138668734, 0.16403248831148923, 0.23376269909270328, -3], (True, True, False, False, True, False, False, False, False, False, True, True): [0.3860627401998427, 0.7721254803996854, 0.3860627401998427, 0.7721254803996854, 0.7721254803996854, 0.23928207243860272, 0.17214537585510986, 0.17214537585510986, 0.23928207243860272, 0.7721254803996854, 0.3860627401998427, -3], (False, True, True, True, True, True, True, True, True): [0.8022810621063953, 0.2458348062096755, 0.17220990536778594, 0.15709274926540015, 0.15409945058497262, 0.15709274926540015, 0.17220990536778596, 0.2458348062096755, -3], (False, False, False, True, True, True, True, True, True, True): [0.2772351970899189, 0.2772351970899189, 0.7921005631140541, 0.24289236823511007, 0.17043882410715744, 0.15636589367629122, 0.15636589367629122, 0.17043882410715744, 0.24289236823511007, -3], (True, True, True, False, True, True, True): [0.288062697088356, 0.288062697088356, 0.823036277395303, 0.823036277395303, 0.288062697088356, 0.288062697088356, -3], (False, True, True, False, False, True, False, False, False, False, False, True, True): [0.7623276389119008, 0.3811638194559504, 0.7623276389119008, 0.3811638194559504, 0.7623276389119008, 0.7623276389119008, 0.23624571646261752, 0.16996094709540827, 0.1699609470954083, 0.23624571646261752, 0.7623276389119008, 0.3811638194559504, -3], (True, True, True, True, True, True, False, False, False, False, False): [0.24039435790979133, 0.16965021729695928, 0.1586656708532713, 0.1696502172969593, 0.24039435790979133, 0.7820492489730428, 0.24235745328137043, 0.1743578800585399, 0.1743578800585399, 0.24235745328137043, -3], (True, False, True, True, True, True, True, True, True, True): [0.7921005631140541, 0.7921005631140541, 0.24271529969866668, 0.17002465776457704, 0.15509932993751327, 0.15214401454703136, 0.15509932993751327, 0.17002465776457704, 0.24271529969866668, -3], (False, True, True, False, False, True): [0.8336143786906012, 0.4168071893453006, 0.8336143786906012, 0.4168071893453006, 0.8336143786906012, -3], (True, True, True, False, True, True, True, True): [0.28440734220594177, 0.28440734220594177, 0.8125924063026908, 0.8125924063026908, 0.25881068140740704, 0.19908513954415924, 0.25881068140740704, -3], (True, True, True, True, True, True, False, False, False, False, False, False): [0.23734388765185005, 0.1674974507070219, 0.15665229202814998, 0.16749745070702188, 0.23734388765185005, 0.7721254803996854, 0.23734388765185005, 0.1674974507070219, 0.15665229202814998, 0.16749745070702188, 0.23734388765185005, -3], (False, True, True, False, False, True, False, False, False, False, False): [0.7820492489730428, 0.3910246244865214, 0.7820492489730428, 0.3910246244865214, 0.7820492489730428, 0.7820492489730428, 0.24235745328137043, 0.1743578800585399, 0.1743578800585399, 0.24235745328137043, -3], (True, True, True, False, True, True, True, True, True, True, True, True, True, True, True): [0.2600861779923004, 0.2600861779923004, 0.7431033656922869, 0.7431033656922869, 0.227632372895922, 0.1593457974304762, 0.14501419004274207, 0.14112967197084805, 0.1400886462510012, 0.14008864625100118, 0.14112967197084808, 0.1450141900427421, 0.15934579743047622, 0.227632372895922, -3], (False, False, False, False, True, True, False, False): [0.25881068140740704, 0.19908513954415924, 0.25881068140740704, 0.8125924063026908, 0.4062962031513454, 0.8125924063026908, 0.4062962031513454, -3], (False, False, False, True, True, True, True, True, True): [0.2807983717372383, 0.2807983717372383, 0.8022810621063953, 0.24661342113877574, 0.17403911160111202, 0.16277039214492492, 0.17403911160111205, 0.24661342113877574, -3], (True, False, False, False, False, True, True, False, False): [0.8022810621063953, 0.25552651828088685, 0.1965588602160668, 0.25552651828088685, 0.8022810621063953, 0.40114053105319764, 0.8022810621063953, 0.40114053105319764, -3], (True, True, True, False, True, True, False, True, True, True): [0.2772351970899189, 0.2772351970899189, 0.7921005631140541, 0.7921005631140541, 0.39605028155702704, 0.7921005631140541, 0.7921005631140541, 0.2772351970899189, 0.2772351970899189, -3], (True, True, True, False, False, True, False, False, False): [0.2807983717372383, 0.2807983717372383, 0.8022810621063953, 0.40114053105319764, 0.8022810621063953, 0.8022810621063953, 0.2807983717372383, 0.2807983717372383, -3], (True, True, True, False, True, True, False, True, True, True, True): [0.27371723714056495, 0.27371723714056495, 0.7820492489730428, 0.7820492489730428, 0.3910246244865214, 0.7820492489730428, 0.7820492489730428, 0.24908268579791412, 0.19160206599839547, 0.24908268579791412, -3], (True, True, True, False, False, True, False, False): [0.28440734220594177, 0.28440734220594177, 0.8125924063026908, 0.4062962031513454, 0.8125924063026908, 0.8125924063026908, 0.4062962031513454, -3], (True, True, False, False, False, False, True, True, False, False): [0.39605028155702704, 0.7921005631140541, 0.2522840293518262, 0.1940646379629432, 0.2522840293518262, 0.7921005631140541, 0.39605028155702704, 0.7921005631140541, 0.39605028155702704, -3], (True, False, False, False, True, True, True, True, True, True): [0.7921005631140541, 0.2772351970899189, 0.2772351970899189, 0.7921005631140541, 0.24348403443879635, 0.1718306523915288, 0.16070492669711328, 0.1718306523915288, 0.24348403443879635, -3], (True, False, False, False, False, False, True): [0.823036277395303, 0.25505935388294304, 0.18349593804528277, 0.18349593804528277, 0.25505935388294304, 0.823036277395303, -3], (True, True, False, False, True, False, False): [0.4115181386976515, 0.823036277395303, 0.4115181386976515, 0.823036277395303, 0.823036277395303, 0.4115181386976515, -3], (True, True, True, True, False, True, True, True, True, True, True, True): [0.24592196550729983, 0.18917074269792292, 0.24592196550729983, 0.7721254803996854, 0.7721254803996854, 0.23676714200485605, 0.166140721356295, 0.15242268014338994, 0.15242268014338992, 0.166140721356295, 0.23676714200485605, -3], (False, False, False, False, False, True, True, True): [0.251822793009407, 0.18116747698518493, 0.18116747698518493, 0.251822793009407, 0.8125924063026908, 0.28440734220594177, 0.28440734220594177, -3], (True, True, False, False, False, False, True, True, False, False, False): [0.3910246244865214, 0.7820492489730428, 0.24908268579791412, 0.19160206599839547, 0.24908268579791412, 0.7820492489730428, 0.3910246244865214, 0.7820492489730428, 0.27371723714056495, 0.27371723714056495, -3], (False, True, True, False, True, True, True, True): [0.8125924063026908, 0.4062962031513454, 0.8125924063026908, 0.8125924063026908, 0.25881068140740704, 0.19908513954415924, 0.25881068140740704, -3], (True, False, False, False, False, False, True, False, False, True, False, False, True, True): [0.7526541265652423, 0.23324789014963188, 0.16780423751772078, 0.16780423751772078, 0.23324789014963188, 0.7526541265652423, 0.7526541265652423, 0.37632706328262117, 0.7526541265652423, 0.7526541265652423, 0.37632706328262117, 0.7526541265652423, 0.37632706328262117, -3], (True, True, True, True, True, True, True, False, False, False): [0.24289236823511007, 0.17043882410715744, 0.15636589367629122, 0.15636589367629122, 0.17043882410715744, 0.24289236823511007, 0.7921005631140541, 0.2772351970899189, 0.2772351970899189, -3], (True, True, False, False, False, False, True, True, False, False, False, True): [0.3860627401998427, 0.7721254803996854, 0.24592196550729983, 0.18917074269792292, 0.24592196550729983, 0.7721254803996854, 0.3860627401998427, 0.7721254803996854, 0.2702439181398899, 0.2702439181398899, 0.7721254803996854, -3], (True, False, True, True, True): [0.8443284353867567, 0.8443284353867567, 0.29551495238536485, 0.29551495238536485, -3], (True, True, False, False, False, False, True, True, False, False, False, True, False): [0.3811638194559504, 0.7623276389119008, 0.2428013529934404, 0.1867702715334157, 0.2428013529934404, 0.7623276389119008, 0.3811638194559504, 0.7623276389119008, 0.2668146736191653, 0.2668146736191653, 0.7623276389119008, 0.7623276389119008, -3], (True, False, False, False, False, False, True, True): [0.8125924063026908, 0.251822793009407, 0.18116747698518493, 0.18116747698518493, 0.251822793009407, 0.8125924063026908, 0.4062962031513454, -3], (True, False, False, False, False, False, True, False, False, True, False, False, True, True, False): [0.7431033656922869, 0.2302881045797225, 0.16567489538109534, 0.16567489538109534, 0.2302881045797225, 0.7431033656922869, 0.7431033656922869, 0.3715516828461434, 0.7431033656922869, 0.7431033656922869, 0.3715516828461434, 0.7431033656922869, 0.3715516828461434, 0.7431033656922869, -3], (True, True, True, True, True, False, True, True): [0.251822793009407, 0.18116747698518493, 0.18116747698518493, 0.251822793009407, 0.8125924063026908, 0.8125924063026908, 0.4062962031513454, -3], (False, False, True, False, False, False, False, False, True, True): [0.39605028155702704, 0.7921005631140541, 0.7921005631140541, 0.2454723605593269, 0.17659882054627832, 0.17659882054627832, 0.2454723605593269, 0.7921005631140541, 0.39605028155702704, -3], (True, False, False, False, False, False, True, False): [0.8125924063026908, 0.251822793009407, 0.18116747698518493, 0.18116747698518493, 0.251822793009407, 0.8125924063026908, 0.8125924063026908, -3], (True, True, False, False, False, True, False): [0.4115181386976515, 0.823036277395303, 0.288062697088356, 0.288062697088356, 0.823036277395303, 0.823036277395303, -3], (False, False, False, False, False, False, True, True, True, True): [0.24348403443879635, 0.1718306523915288, 0.16070492669711328, 0.1718306523915288, 0.24348403443879635, 0.7921005631140541, 0.2522840293518262, 0.1940646379629432, 0.2522840293518262, -3], (True, True, False, False, False, False, True): [0.4115181386976515, 0.823036277395303, 0.26213705435040396, 0.2016438879618492, 0.26213705435040396, 0.823036277395303, -3], (True, True, True, True, True, False, True, True, False): [0.2486273022873029, 0.17886856279662078, 0.1788685627966208, 0.2486273022873029, 0.8022810621063953, 0.8022810621063953, 0.40114053105319764, 0.8022810621063953, -3], (False, False, True, True, True, True, True, True, True, True, False, False, False, False, False, True, False): [0.3621819437711746, 0.7243638875423491, 0.22195944081208435, 0.15548495710218652, 0.1418359723758631, 0.13913338151196167, 0.14183597237586307, 0.15548495710218652, 0.22195944081208435, 0.7243638875423491, 0.22448073093131776, 0.1614969287275667, 0.1614969287275667, 0.22448073093131776, 0.7243638875423491, 0.7243638875423491, -3], (True, False, False, True, False, False, False, False, False, True, True): [0.7820492489730428, 0.3910246244865214, 0.7820492489730428, 0.7820492489730428, 0.24235745328137043, 0.1743578800585399, 0.1743578800585399, 0.24235745328137043, 0.7820492489730428, 0.3910246244865214, -3], (False, True, True, True, True, True, False, True, True, False): [0.7921005631140541, 0.2454723605593269, 0.17659882054627832, 0.17659882054627832, 0.2454723605593269, 0.7921005631140541, 0.7921005631140541, 0.39605028155702704, 0.7921005631140541, -3], (False, False, False, False, False, False, True, True, True): [0.24661342113877574, 0.17403911160111202, 0.16277039214492492, 0.17403911160111205, 0.24661342113877574, 0.8022810621063953, 0.2807983717372383, 0.2807983717372383, -3], (True, False, False, True, False, False, False, False): [0.8125924063026908, 0.4062962031513454, 0.8125924063026908, 0.8125924063026908, 0.25881068140740704, 0.19908513954415924, 0.25881068140740704, -3], (True, True, False, False, False, False, False): [0.4115181386976515, 0.823036277395303, 0.25505935388294304, 0.18349593804528277, 0.18349593804528277, 0.25505935388294304, -3], (False, False, True, True, True, True, True, True, True, True, False, False, False, False, False): [0.3715516828461434, 0.7431033656922869, 0.2277015880433366, 0.15950739251948232, 0.14550530508408324, 0.1427327975066166, 0.14550530508408324, 0.15950739251948232, 0.2277015880433366, 0.7431033656922869, 0.2302881045797225, 0.16567489538109534, 0.16567489538109534, 0.2302881045797225, -3], (True, True, False, False, False, False, False, False, False, False, False, False, True, True, True): [0.3715516828461434, 0.7431033656922869, 0.22763685347210888, 0.15935625279422205, 0.1450459115836054, 0.14123263055852525, 0.1404298908858538, 0.14123263055852525, 0.14504591158360544, 0.15935625279422205, 0.22763685347210888, 0.7431033656922869, 0.2600861779923004, 0.2600861779923004, -3], (False, True, True, True, True, True, False, True, True): [0.8022810621063953, 0.2486273022873029, 0.17886856279662078, 0.1788685627966208, 0.2486273022873029, 0.8022810621063953, 0.8022810621063953, 0.40114053105319764, -3], (False, True, False, False, True, False, False, False, False): [0.8022810621063953, 0.8022810621063953, 0.40114053105319764, 0.8022810621063953, 0.8022810621063953, 0.25552651828088685, 0.1965588602160668, 0.25552651828088685, -3], (True, False, True, True, False, True, True, True, True): [0.8022810621063953, 0.8022810621063953, 0.40114053105319764, 0.8022810621063953, 0.8022810621063953, 0.25552651828088685, 0.1965588602160668, 0.25552651828088685, -3], (False, False, True, True, True, True, True, True, True, True, True, True, True, False, True): [0.3715516828461434, 0.7431033656922869, 0.227632372895922, 0.1593457974304762, 0.14501419004274207, 0.14112967197084805, 0.1400886462510012, 0.14008864625100118, 0.14112967197084808, 0.1450141900427421, 0.15934579743047622, 0.227632372895922, 0.7431033656922869, 0.7431033656922869, -3], (True, True, False, False, False, False, False, False, False, False, False, False, True, True, True, False, False): [0.3621819437711746, 0.7243638875423491, 0.22189633870834244, 0.1553376287976651, 0.1413881637972977, 0.137671045566989, 0.1368885492726289, 0.137671045566989, 0.1413881637972977, 0.1553376287976651, 0.22189633870834244, 0.7243638875423491, 0.2535273606398222, 0.2535273606398222, 0.7243638875423491, 0.3621819437711746, -3], (True, True, True, True, False, False, False, False, False, False, False): [0.24908268579791412, 0.19160206599839547, 0.24908268579791412, 0.7820492489730428, 0.23981019962007052, 0.16827605053685393, 0.15438169774023294, 0.15438169774023297, 0.16827605053685393, 0.23981019962007052, -3], (True, True, False, True, False, True): [0.4168071893453006, 0.8336143786906012, 0.8336143786906012, 0.8336143786906012, 0.8336143786906012, -3], (False, True, False, True, True, False, True): [0.823036277395303, 0.823036277395303, 0.823036277395303, 0.4115181386976515, 0.823036277395303, 0.823036277395303, -3], (False, False, True, True, False, False, False, False, False, False, False, False, False, False, True, True, True, False, False): [0.3530484894834539, 0.7060969789669078, 0.3530484894834539, 0.7060969789669078, 0.21630058745386885, 0.15142034590660314, 0.1378226565900051, 0.1341992761343769, 0.13343651272360682, 0.1341992761343769, 0.13782265659000506, 0.1514203459066031, 0.21630058745386885, 0.7060969789669078, 0.24713394263841773, 0.24713394263841773, 0.7060969789669078, 0.3530484894834539, -3], (True, True, True, True, True, True, True, True, True, True, True, False, True): [0.23352128032416852, 0.1634681137698013, 0.14876574405098636, 0.14478073250780918, 0.1437127751876077, 0.1437127751876077, 0.14478073250780918, 0.14876574405098636, 0.16346811376980128, 0.23352128032416852, 0.7623276389119008, 0.7623276389119008, -3], (False, True, True, False, True, False, True): [0.823036277395303, 0.4115181386976515, 0.823036277395303, 0.823036277395303, 0.823036277395303, 0.823036277395303, -3], (False, False, False, False, False, False, False, False, False, True, True, True, False, False): [0.23057769195081157, 0.1614396912260392, 0.1470172946234762, 0.14339628063057466, 0.14339628063057466, 0.14701729462347624, 0.16143969122603924, 0.23057769195081157, 0.7526541265652423, 0.2634289442978348, 0.2634289442978348, 0.7526541265652423, 0.37632706328262117, -3], (False, False, False, False, False, False, False, False, True, True, True, False, False): [0.23359228608506472, 0.1636338893648923, 0.1492695643634552, 0.1464253313092468, 0.14926956436345518, 0.1636338893648923, 0.23359228608506472, 0.7623276389119008, 0.2668146736191653, 0.2668146736191653, 0.7623276389119008, 0.3811638194559504, -3], (False, True, True, False, True, False, True, True, False, True): [0.7921005631140541, 0.39605028155702704, 0.7921005631140541, 0.7921005631140541, 0.7921005631140541, 0.7921005631140541, 0.39605028155702704, 0.7921005631140541, 0.7921005631140541, -3], (True, True, True, True, True, True, False, True, False, False, True, True, True): [0.23433212615927032, 0.16537200152383225, 0.15466446185682153, 0.16537200152383227, 0.23433212615927032, 0.7623276389119008, 0.7623276389119008, 0.7623276389119008, 0.3811638194559504, 0.7623276389119008, 0.2668146736191653, 0.2668146736191653, -3], (False, False, True, True, False, False, True, True, False, True, False, True, True, False, True): [0.3715516828461434, 0.7431033656922869, 0.3715516828461434, 0.7431033656922869, 0.3715516828461434, 0.7431033656922869, 0.3715516828461434, 0.7431033656922869, 0.7431033656922869, 0.7431033656922869, 0.7431033656922869, 0.3715516828461434, 0.7431033656922869, 0.7431033656922869, -3], (True, True, True, True, True, True, False, True, False, False, True, True, True, False, False, False): [0.22552421343308682, 0.15915611392596105, 0.14885104180125852, 0.15915611392596105, 0.22552421343308682, 0.7336737986453304, 0.7336737986453304, 0.7336737986453304, 0.3668368993226652, 0.7336737986453304, 0.25678582952586565, 0.25678582952586565, 0.7336737986453304, 0.25678582952586565, 0.25678582952586565, -3], (False, False, False, False, False, False, False, True, True, True, False, False): [0.23676714200485605, 0.166140721356295, 0.15242268014338994, 0.15242268014338992, 0.166140721356295, 0.23676714200485605, 0.7721254803996854, 0.2702439181398899, 0.2702439181398899, 0.7721254803996854, 0.3860627401998427, -3], (True, True, False, True, False, False, True, True, True, False, False, False): [0.3860627401998427, 0.7721254803996854, 0.7721254803996854, 0.7721254803996854, 0.3860627401998427, 0.7721254803996854, 0.2702439181398899, 0.2702439181398899, 0.7721254803996854, 0.2702439181398899, 0.2702439181398899, -3], (True, True, False, True, False, True, True, False, True): [0.40114053105319764, 0.8022810621063953, 0.8022810621063953, 0.8022810621063953, 0.8022810621063953, 0.40114053105319764, 0.8022810621063953, 0.8022810621063953, -3], (False, False, True, True, False, False): [0.4168071893453006, 0.8336143786906012, 0.4168071893453006, 0.8336143786906012, 0.4168071893453006, -3], (True, True, True, True, False, True, False): [0.26213705435040396, 0.2016438879618492, 0.26213705435040396, 0.823036277395303, 0.823036277395303, 0.823036277395303, -3], (False, True, True, True, True, True, True, True, True, False): [0.7921005631140541, 0.24271529969866668, 0.17002465776457704, 0.15509932993751327, 0.15214401454703136, 0.15509932993751327, 0.17002465776457704, 0.24271529969866668, 0.7921005631140541, -3], (False, False, False, False, False, False, False, True, True, True, False, False, False): [0.23376269909270328, 0.16403248831148923, 0.15048852138668736, 0.15048852138668734, 0.16403248831148923, 0.23376269909270328, 0.7623276389119008, 0.2668146736191653, 0.2668146736191653, 0.7623276389119008, 0.2668146736191653, 0.2668146736191653, -3], (True, True, False, True, False, False): [0.4168071893453006, 0.8336143786906012, 0.8336143786906012, 0.8336143786906012, 0.4168071893453006, -3], (True, True, True, True, False, True, False, True, True, True, True): [0.24908268579791412, 0.19160206599839547, 0.24908268579791412, 0.7820492489730428, 0.7820492489730428, 0.7820492489730428, 0.7820492489730428, 0.24908268579791412, 0.19160206599839547, 0.24908268579791412, -3], (True, False, True, False, True, True, False, True): [0.8125924063026908, 0.8125924063026908, 0.8125924063026908, 0.8125924063026908, 0.4062962031513454, 0.8125924063026908, 0.8125924063026908, -3], (True, True, True, True, True, True, True, True, False, True): [0.24271529969866668, 0.17002465776457704, 0.15509932993751327, 0.15214401454703136, 0.15509932993751327, 0.17002465776457704, 0.24271529969866668, 0.7921005631140541, 0.7921005631140541, -3], (True, True, True, False, True, False, False, True, True, True, False, False, False): [0.2668146736191653, 0.2668146736191653, 0.7623276389119008, 0.7623276389119008, 0.7623276389119008, 0.3811638194559504, 0.7623276389119008, 0.2668146736191653, 0.2668146736191653, 0.7623276389119008, 0.2668146736191653, 0.2668146736191653, -3], (False, True, True, False, True, False, False): [0.823036277395303, 0.4115181386976515, 0.823036277395303, 0.823036277395303, 0.823036277395303, 0.4115181386976515, -3], (False, False, False, True, False, False, True): [0.288062697088356, 0.288062697088356, 0.823036277395303, 0.823036277395303, 0.4115181386976515, 0.823036277395303, -3], (True, True, True, True, False, True, False, True): [0.25881068140740704, 0.19908513954415924, 0.25881068140740704, 0.8125924063026908, 0.8125924063026908, 0.8125924063026908, 0.8125924063026908, -3], (True, True, True, False, False, False, False, False, True): [0.2807983717372383, 0.2807983717372383, 0.8022810621063953, 0.2486273022873029, 0.17886856279662078, 0.1788685627966208, 0.2486273022873029, 0.8022810621063953, -3], (False, False, False, True, True, True, True, True, True, True, True): [0.27371723714056495, 0.27371723714056495, 0.7820492489730428, 0.2396353779845475, 0.16786713973404935, 0.15313120598853708, 0.15021339190124666, 0.15313120598853708, 0.16786713973404938, 0.2396353779845475, -3], (True, True, True, False, True, False, False, True): [0.28440734220594177, 0.28440734220594177, 0.8125924063026908, 0.8125924063026908, 0.8125924063026908, 0.4062962031513454, 0.8125924063026908, -3], (True, True, True, True, True, True, True, False, False, False, False, False, True): [0.23376269909270328, 0.16403248831148923, 0.15048852138668736, 0.15048852138668734, 0.16403248831148923, 0.23376269909270328, 0.7623276389119008, 0.23624571646261752, 0.16996094709540827, 0.1699609470954083, 0.23624571646261752, 0.7623276389119008, -3], (True, True, True, True, False, True, False, False, True): [0.25552651828088685, 0.1965588602160668, 0.25552651828088685, 0.8022810621063953, 0.8022810621063953, 0.8022810621063953, 0.40114053105319764, 0.8022810621063953, -3], (False, False, False, True, False, False, True, False): [0.28440734220594177, 0.28440734220594177, 0.8125924063026908, 0.8125924063026908, 0.4062962031513454, 0.8125924063026908, 0.8125924063026908, -3], (True, True, True, True, True, False, True, False, False, True): [0.2454723605593269, 0.17659882054627832, 0.17659882054627832, 0.2454723605593269, 0.7921005631140541, 0.7921005631140541, 0.7921005631140541, 0.39605028155702704, 0.7921005631140541, -3], (True, True, True, True, True, True, True, True, True, False, False, False): [0.23654279553270804, 0.16561617713083415, 0.1508206694570933, 0.1471059789105043, 0.1471059789105043, 0.15082066945709327, 0.16561617713083412, 0.23654279553270804, 0.7721254803996854, 0.2702439181398899, 0.2702439181398899, -3], (False, True, True, False, True, False, False, True, False): [0.8022810621063953, 0.40114053105319764, 0.8022810621063953, 0.8022810621063953, 0.8022810621063953, 0.40114053105319764, 0.8022810621063953, 0.8022810621063953, -3], (True, True, False, True, False, False, True, False): [0.4062962031513454, 0.8125924063026908, 0.8125924063026908, 0.8125924063026908, 0.4062962031513454, 0.8125924063026908, 0.8125924063026908, -3], (True, True, True, True, True, True, True, True, True, False, False, False, True, True): [0.23057769195081157, 0.1614396912260392, 0.1470172946234762, 0.14339628063057466, 0.14339628063057466, 0.14701729462347624, 0.16143969122603924, 0.23057769195081157, 0.7526541265652423, 0.2634289442978348, 0.2634289442978348, 0.7526541265652423, 0.37632706328262117, -3], (False, True, True, False, False, True, False): [0.823036277395303, 0.4115181386976515, 0.823036277395303, 0.4115181386976515, 0.823036277395303, 0.823036277395303, -3], (True, True, True, True, True, True, True, True, False, False): [0.24271529969866668, 0.17002465776457704, 0.15509932993751327, 0.15214401454703136, 0.15509932993751327, 0.17002465776457704, 0.24271529969866668, 0.7921005631140541, 0.39605028155702704, -3], (True, True, True, True, True, True, True, True, True, False, False): [0.23958296972738227, 0.16774476458918325, 0.1527590971579849, 0.14899666342684656, 0.14899666342684656, 0.1527590971579849, 0.16774476458918325, 0.23958296972738227, 0.7820492489730428, 0.3910246244865214, -3], (True, True, True, True, True, True, True, True, True, False, False, False, True, True, True): [0.2276517897060315, 0.15939111163033562, 0.14515172719272892, 0.141576661846813, 0.141576661846813, 0.14515172719272892, 0.15939111163033562, 0.2276517897060315, 0.7431033656922869, 0.2600861779923004, 0.2600861779923004, 0.7431033656922869, 0.2600861779923004, 0.2600861779923004, -3], (False, True, False, True, False, False): [0.8336143786906012, 0.8336143786906012, 0.8336143786906012, 0.8336143786906012, 0.4168071893453006, -3], (True, False, False, False, False, False, False, False, True, True): [0.7921005631140541, 0.24289236823511007, 0.17043882410715744, 0.15636589367629122, 0.15636589367629122, 0.17043882410715744, 0.24289236823511007, 0.7921005631140541, 0.39605028155702704, -3], (True, True, True, True, True, True, True, True, True, False, False, False, True, True, True, True): [0.2247630155280371, 0.157368527366561, 0.14330983277166107, 0.13978013301004064, 0.13978013301004064, 0.14330983277166107, 0.157368527366561, 0.2247630155280371, 0.7336737986453304, 0.25678582952586565, 0.25678582952586565, 0.7336737986453304, 0.23367510486853774, 0.17975008066810594, 0.23367510486853774, -3], (True, True, True, True, True, True, False, False): [0.24978302838603084, 0.1762759551065849, 0.16486240405651828, 0.17627595510658492, 0.24978302838603084, 0.8125924063026908, 0.4062962031513454, -3], (False, False, False, True, False, False, False): [0.288062697088356, 0.288062697088356, 0.823036277395303, 0.823036277395303, 0.288062697088356, 0.288062697088356, -3], (True, True, False, False, False, True, True, True): [0.4062962031513454, 0.8125924063026908, 0.28440734220594177, 0.28440734220594177, 0.8125924063026908, 0.28440734220594177, 0.28440734220594177, -3], (False, False, False, True, False, True, False, False, False, False, False, False): [0.2702439181398899, 0.2702439181398899, 0.7721254803996854, 0.7721254803996854, 0.7721254803996854, 0.7721254803996854, 0.23734388765185005, 0.1674974507070219, 0.15665229202814998, 0.16749745070702188, 0.23734388765185005, -3], (True, True, True, False, False, False, True, True, True): [0.2807983717372383, 0.2807983717372383, 0.8022810621063953, 0.2807983717372383, 0.2807983717372383, 0.8022810621063953, 0.2807983717372383, 0.2807983717372383, -3], (False, False, False, True, False, True, False): [0.288062697088356, 0.288062697088356, 0.823036277395303, 0.823036277395303, 0.823036277395303, 0.823036277395303, -3], (True, True, True, False, False, False, True, True, True, True, True): [0.27371723714056495, 0.27371723714056495, 0.7820492489730428, 0.27371723714056495, 0.27371723714056495, 0.7820492489730428, 0.24235745328137043, 0.1743578800585399, 0.1743578800585399, 0.24235745328137043, -3], (False, False, False, True, False, False, False, True): [0.28440734220594177, 0.28440734220594177, 0.8125924063026908, 0.8125924063026908, 0.28440734220594177, 0.28440734220594177, 0.8125924063026908, -3], (True, True, True, False, False, False, True, True, True, True, True, True): [0.2702439181398899, 0.2702439181398899, 0.7721254803996854, 0.2702439181398899, 0.2702439181398899, 0.7721254803996854, 0.23734388765185005, 0.1674974507070219, 0.15665229202814998, 0.16749745070702188, 0.23734388765185005, -3], (True, True, True, False, False, False, True, True, True, True, True, True, False, False): [0.2634289442978348, 0.2634289442978348, 0.7526541265652423, 0.2634289442978348, 0.2634289442978348, 0.7526541265652423, 0.23135858223941985, 0.1632735231047423, 0.1527018561411259, 0.1632735231047423, 0.23135858223941985, 0.7526541265652423, 0.37632706328262117, -3], (False, True, True, True, True, False, True, False, False, False): [0.7921005631140541, 0.2522840293518262, 0.1940646379629432, 0.2522840293518262, 0.7921005631140541, 0.7921005631140541, 0.7921005631140541, 0.2772351970899189, 0.2772351970899189, -3], (False, True, False, True, True, True, True): [0.823036277395303, 0.823036277395303, 0.823036277395303, 0.26213705435040396, 0.2016438879618492, 0.26213705435040396, -3], (True, True, True, True, True, True, False, False, False): [0.24661342113877574, 0.17403911160111202, 0.16277039214492492, 0.17403911160111205, 0.24661342113877574, 0.8022810621063953, 0.2807983717372383, 0.2807983717372383, -3], (False, False, False, True, False, False, True, False, True, True, True, True, True, True, True, True, True): [0.2535273606398222, 0.2535273606398222, 0.7243638875423491, 0.7243638875423491, 0.3621819437711746, 0.7243638875423491, 0.7243638875423491, 0.7243638875423491, 0.22191089828237875, 0.15537160856845902, 0.14149131096298972, 0.13800640112171478, 0.13800640112171478, 0.14149131096298972, 0.15537160856845902, 0.22191089828237875, -3], (False, False, False, True, False, False, True, False, True, True, True, True, True, True, True, True, True, True, True): [0.24713394263841773, 0.24713394263841773, 0.7060969789669078, 0.7060969789669078, 0.3530484894834539, 0.7060969789669078, 0.7060969789669078, 0.7060969789669078, 0.21629633000940598, 0.15141041121770818, 0.13779251477500887, 0.13410144486207495, 0.13311226199768844, 0.13311226199768844, 0.13410144486207495, 0.1377925147750088, 0.15141041121770818, 0.21629633000940598, -3], (True, True, True, True, True, True, False, False, False, False): [0.24348403443879635, 0.1718306523915288, 0.16070492669711328, 0.1718306523915288, 0.24348403443879635, 0.7921005631140541, 0.2522840293518262, 0.1940646379629432, 0.2522840293518262, -3], (False, True, True, True, True, True, True, False, False, False, False): [0.7820492489730428, 0.24039435790979133, 0.16965021729695928, 0.1586656708532713, 0.1696502172969593, 0.24039435790979133, 0.7820492489730428, 0.24908268579791412, 0.19160206599839547, 0.24908268579791412, -3], (True, True, False, False, False, True): [0.4168071893453006, 0.8336143786906012, 0.2917650325417104, 0.2917650325417104, 0.8336143786906012, -3], (True, False, False, False, False, False, True, True, True, True): [0.7921005631140541, 0.2454723605593269, 0.17659882054627832, 0.17659882054627832, 0.2454723605593269, 0.7921005631140541, 0.2522840293518262, 0.1940646379629432, 0.2522840293518262, -3], (False, True, True, True, True, False, False, False, True, False, False, True): [0.7721254803996854, 0.24592196550729983, 0.18917074269792292, 0.24592196550729983, 0.7721254803996854, 0.2702439181398899, 0.2702439181398899, 0.7721254803996854, 0.7721254803996854, 0.3860627401998427, 0.7721254803996854, -3]}\n"
          ],
          "name": "stdout"
        }
      ]
    },
    {
      "cell_type": "code",
      "metadata": {
        "id": "gWef4TPafFB7",
        "colab_type": "code",
        "colab": {}
      },
      "source": [
        ""
      ],
      "execution_count": 20,
      "outputs": []
    },
    {
      "cell_type": "markdown",
      "metadata": {
        "id": "3nujicdthc10",
        "colab_type": "text"
      },
      "source": [
        "# a spot for checking code things"
      ]
    },
    {
      "cell_type": "code",
      "metadata": {
        "id": "0dyyujrlhrLd",
        "colab_type": "code",
        "colab": {
          "base_uri": "https://localhost:8080/",
          "height": 1000
        },
        "outputId": "b798e618-43f0-49b4-810e-a00dca7928d5"
      },
      "source": [
        "a = Monomer(hand = True)\n",
        "b = Polymer(monomers = [a])\n",
        "c = Monomer(hand = False)\n",
        "d = Polymer(monomers = [c])\n",
        "print(\"b is\")\n",
        "print(b)\n",
        "print(\"d is\")\n",
        "print(d)\n",
        "for n in range(12):\n",
        "  #newmonomer = Monomer(handedness = True)\n",
        "  monomer = Monomer(hand = True)\n",
        "  print(\"Monomer is\")\n",
        "  print(monomer)\n",
        "  b.append(monomer)\n",
        "  print(\"b is\")\n",
        "  print(b)\n",
        "  monomer = Monomer(hand = False)\n",
        "  print(\"Monomer is\")\n",
        "  print(monomer)\n",
        "  #othernewbie = Monomer (handedness = False)\n",
        "  d.append(monomer)\n",
        "  print(\"d is\")\n",
        "  print(d)\n",
        "X = []\n",
        "Y = []\n",
        "P = []\n",
        "L = []\n",
        "R = []\n",
        "for z in range(b.get_length()-1):\n",
        "  X.append(z)\n",
        "  Y.append(b.eastbondbreakprobability(z))\n",
        "  P.append(b.poissonbreakprobability(z))\n",
        "  L.append(b.biaseastbondbreakprobability(z))\n",
        "  R.append(d.biaseastbondbreakprobability(z))\n",
        "plt.figure()\n",
        "#plt.plot(X,Y,label = \"normal\")\n",
        "#plt.plot(X,R,label = \"right\")\n",
        "#plt.plot(X,L,label = \"left\")\n",
        "plt.plot(X,P,label = \"poisson\")\n",
        "plt.legend()\n",
        "plt.ylabel(\"brk probability\")\n",
        "plt.xlabel(\"length\")\n",
        "plt.title(\"comparison of brk prob calculation methods\")\n",
        "plt.show()\n",
        "\n",
        "\n",
        "\n",
        "\n",
        "\n",
        "###def normalbrk():\n",
        "  #newMonomer = Monomer(handedness = True)\n",
        "  #a = Polymer(monomers =[newMonomer])\n",
        "  #x=[]\n",
        "  #y=[]\n",
        "  #for n in range(1,10):\n",
        "    #newmonomer= Monomer(handedness = True)\n",
        "    #a.append(newmonomer)\n",
        "    #x.append(n)\n",
        "    #y.append(a.eastbondbreakprobability(0))\n",
        "    #plt.plot(x,y)\n",
        "  #plt.ylabel(\"brk probability\")\n",
        "  #plt.xlabel(\"length\")\n",
        "  ##plt.show()\n",
        "\n",
        "#def lengthgraph():\n",
        " # x = []\n",
        "  #y = []\n",
        "  #for n in range(30):\n",
        "   # x.append(n)\n",
        "    #y.append(lengthfactor(n))\n",
        "  #plt.plot(x,y)\n",
        "  #plt.show()\n",
        "\n",
        "#def leftrightplot():\n",
        " # leftmonomer = Monomer(handedness = True)\n",
        "  #rightmonomer = Monomer(handedness = False)\n",
        "  #a = Polymer(monomers = [leftmonomer])\n",
        "  #b = Polymer(monomers = [rightmonomer])\n",
        "  #x = []\n",
        "  #r = []\n",
        "  #l = []\n",
        "  #brkleft = BASE_BOND_BREAK_PROBABILITY\n",
        "  #brkright = BASE_BOND_BREAK_PROBABILITY\n",
        "  #for n in range(30):\n",
        "   # newleft = Monomer(handedness = True)\n",
        "    #newright = Monomer(handedness = False)\n",
        "    #a.append(newleft)\n",
        "    #b.append(newright)\n",
        "    #x.append(n)\n",
        "    #l.append(a.biaseastbondbreakprobability(1))\n",
        "    #r.append(b.biaseastbondbreakprobability(1))\n",
        "  #plt.figure()\n",
        "  #plt.plot(x,r,label = \"right\")\n",
        "  #plt.plot(x,l, label = \"left\")\n",
        "  #plt.ylabel(\"brk probability\")\n",
        "  #plt.xlabel(\"length\")\n",
        "  #lt.title(\"'leftright calculation\")\n",
        "  #plt.legend()\n",
        "  #plt.show()\n",
        "\n",
        "#def poissonplot():\n",
        " # b = Monomer(handedness = True)\n",
        "  #a = Polymer(monomers = [b])\n",
        "  #x=[]\n",
        "  #y=[]\n",
        "  #for n in range(30):\n",
        "   # newmonomer = Monomer(handedness = True)\n",
        "    #a.append(newmonomer)\n",
        "    #x.append(n)\n",
        "    #y.append(a.poissonbreakprobability(0))\n",
        "  #plt.figure()\n",
        "  #plt.plot(x,y)\n",
        "  #plt.ylabel(\"brk probability\")\n",
        "  #plt.xlabel(\"length\")\n",
        "  #plt.title(\"Poisson brk\")\n",
        "  #plt.show()\n",
        "\n",
        "\n",
        "\n",
        "#poissonplot()\n",
        "#lengthgraph()\n",
        "#leftrightplot()\n",
        "#normalbrk()"
      ],
      "execution_count": 21,
      "outputs": [
        {
          "output_type": "stream",
          "text": [
            "b is\n",
            "\n",
            "A polymer of length 1: [True]\n",
            "d is\n",
            "\n",
            "A polymer of length 1: [False]\n",
            "Monomer is\n",
            "True-monomer\n",
            "b is\n",
            "\n",
            "A polymer of length 2: [True, True]\n",
            "Monomer is\n",
            "False-monomer\n",
            "d is\n",
            "\n",
            "A polymer of length 2: [False, False]\n",
            "Monomer is\n",
            "True-monomer\n",
            "b is\n",
            "\n",
            "A polymer of length 3: [True, True, True]\n",
            "Monomer is\n",
            "False-monomer\n",
            "d is\n",
            "\n",
            "A polymer of length 3: [False, False, False]\n",
            "Monomer is\n",
            "True-monomer\n",
            "b is\n",
            "\n",
            "A polymer of length 4: [True, True, True, True]\n",
            "Monomer is\n",
            "False-monomer\n",
            "d is\n",
            "\n",
            "A polymer of length 4: [False, False, False, False]\n",
            "Monomer is\n",
            "True-monomer\n",
            "b is\n",
            "\n",
            "A polymer of length 5: [True, True, True, True, True]\n",
            "Monomer is\n",
            "False-monomer\n",
            "d is\n",
            "\n",
            "A polymer of length 5: [False, False, False, False, False]\n",
            "Monomer is\n",
            "True-monomer\n",
            "b is\n",
            "\n",
            "A polymer of length 6: [True, True, True, True, True, True]\n",
            "Monomer is\n",
            "False-monomer\n",
            "d is\n",
            "\n",
            "A polymer of length 6: [False, False, False, False, False, False]\n",
            "Monomer is\n",
            "True-monomer\n",
            "b is\n",
            "\n",
            "A polymer of length 7: [True, True, True, True, True, True, True]\n",
            "Monomer is\n",
            "False-monomer\n",
            "d is\n",
            "\n",
            "A polymer of length 7: [False, False, False, False, False, False, False]\n",
            "Monomer is\n",
            "True-monomer\n",
            "b is\n",
            "\n",
            "A polymer of length 8: [True, True, True, True, True, True, True, True]\n",
            "Monomer is\n",
            "False-monomer\n",
            "d is\n",
            "\n",
            "A polymer of length 8: [False, False, False, False, False, False, False, False]\n",
            "Monomer is\n",
            "True-monomer\n",
            "b is\n",
            "\n",
            "A polymer of length 9: [True, True, True, True, True, True, True, True, True]\n",
            "Monomer is\n",
            "False-monomer\n",
            "d is\n",
            "\n",
            "A polymer of length 9: [False, False, False, False, False, False, False, False, False]\n",
            "Monomer is\n",
            "True-monomer\n",
            "b is\n",
            "\n",
            "A polymer of length 10: [True, True, True, True, True, True, True, True, True, True]\n",
            "Monomer is\n",
            "False-monomer\n",
            "d is\n",
            "\n",
            "A polymer of length 10: [False, False, False, False, False, False, False, False, False, False]\n",
            "Monomer is\n",
            "True-monomer\n",
            "b is\n",
            "\n",
            "A polymer of length 11: [True, True, True, True, True, True, True, True, True, True, True]\n",
            "Monomer is\n",
            "False-monomer\n",
            "d is\n",
            "\n",
            "A polymer of length 11: [False, False, False, False, False, False, False, False, False, False, False]\n",
            "Monomer is\n",
            "True-monomer\n",
            "b is\n",
            "\n",
            "A polymer of length 12: [True, True, True, True, True, True, True, True, True, True, True, True]\n",
            "Monomer is\n",
            "False-monomer\n",
            "d is\n",
            "\n",
            "A polymer of length 12: [False, False, False, False, False, False, False, False, False, False, False, False]\n",
            "Monomer is\n",
            "True-monomer\n",
            "b is\n",
            "\n",
            "A polymer of length 13: [True, True, True, True, True, True, True, True, True, True, True, True, True]\n",
            "Monomer is\n",
            "False-monomer\n",
            "d is\n",
            "\n",
            "A polymer of length 13: [False, False, False, False, False, False, False, False, False, False, False, False, False]\n"
          ],
          "name": "stdout"
        },
        {
          "output_type": "display_data",
          "data": {
            "image/png": "[encoded data removed]",
            "text/plain": [
              "<Figure size 432x288 with 1 Axes>"
            ]
          },
          "metadata": {
            "tags": [],
            "needs_background": "light"
          }
        }
      ]
    },
    {
      "cell_type": "markdown",
      "metadata": {
        "id": "Bz-0l0AhLPnT",
        "colab_type": "text"
      },
      "source": [
        "# Observations"
      ]
    },
    {
      "cell_type": "markdown",
      "metadata": {
        "id": "UmLV03D1LUng",
        "colab_type": "text"
      },
      "source": [
        "Under the current refill rules, the upper bound for the total number of monomers (both free and within polymers) in the world is $1/2(P)(I)$ for $P$ = pool size and $I$ = number of iterations.\n",
        "\n",
        "The upper bound on possible polymer size is \n",
        "\n",
        "$\n",
        "\\begin{equation}\n",
        "  bound=\\left\\{\n",
        "  \\begin{array}{@{}ll@{}}\n",
        "    2^n, & n \\leq\\ T \\\\\n",
        "    2^T+(n-T)(2^{T-1}), & n>T\n",
        "  \\end{array}\\right.\n",
        "\\end{equation} \n",
        "$\n",
        "\n",
        "for $T=log_2(P)$.\n",
        "\n",
        "For $P < 100$ or so, these bounds are substantially lower than $2^n$, but for large $P$ it matters less.\n",
        "\n",
        "Also $2^T+(n-T)(2^{T-1}) = P(1+1/2(n-log_2(P))$ I think."
      ]
    }
  ]
}