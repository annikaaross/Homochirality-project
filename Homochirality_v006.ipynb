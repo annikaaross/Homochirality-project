{
  "nbformat": 4,
  "nbformat_minor": 0,
  "metadata": {
    "colab": {
      "name": "Homochirality_v006.ipynb",
      "provenance": [],
      "collapsed_sections": [
        "AvOcPptw5JVf",
        "a8egVnJUbTYf",
        "axVuXR__qoi4",
        "jI9isLxnRk5d",
        "RX_K0yxjTSEx",
        "IdB8k_yadghA",
        "1lx9FPNLeRNM",
        "HVY41XQPUjIT",
        "hqD3AL_kUldF",
        "HEFlHyn6UoPU",
        "cz4Cis4ze7j6",
        "ALnPeaUCfhL4",
        "CmKsCAazVPy_",
        "DdqK65C-8cpi",
        "3nujicdthc10"
      ],
      "toc_visible": true,
      "include_colab_link": true
    },
    "kernelspec": {
      "name": "python3",
      "display_name": "Python 3"
    }
  },
  "cells": [
    {
      "cell_type": "markdown",
      "metadata": {
        "id": "view-in-github",
        "colab_type": "text"
      },
      "source": [
        "<a href=\"https://colab.research.google.com/github/annikaaross/Homochirality-project/blob/lio's-branch/Homochirality_v006.ipynb\" target=\"_parent\"><img src=\"https://colab.research.google.com/assets/colab-badge.svg\" alt=\"Open In Colab\"/></a>"
      ]
    },
    {
      "cell_type": "markdown",
      "metadata": {
        "id": "IO4sCUUbimaZ",
        "colab_type": "text"
      },
      "source": [
        "# Homochirality Model"
      ]
    },
    {
      "cell_type": "markdown",
      "metadata": {
        "id": "AhJ4LH11izgn",
        "colab_type": "text"
      },
      "source": [
        "Hello and welcome to *Do Opposites Attract?*, the first monomer dating show. We're here to see if similarity between member(s) of a relationship matters in the strength of the bond between the individuals. Read on as we introduce you to our monomers, our polymers, and the stylish bag that they reside in. Along the way we will keep you up to date on all the drama of falling in love and breaking hearts. "
      ]
    },
    {
      "cell_type": "markdown",
      "metadata": {
        "id": "AvOcPptw5JVf",
        "colab_type": "text"
      },
      "source": [
        "## Global Parameters"
      ]
    },
    {
      "cell_type": "markdown",
      "metadata": {
        "id": "lfMJif2R5Uc7",
        "colab_type": "text"
      },
      "source": [
        "Here's where we keep the rules by which our contestants must play."
      ]
    },
    {
      "cell_type": "code",
      "metadata": {
        "id": "zW---ckX5eKf",
        "colab_type": "code",
        "colab": {}
      },
      "source": [
        "#the bond break probbility applied to all bonds\n",
        "BASE_BOND_BREAK_PROBABILITY = 0.9\n",
        "#if a bond itself is homochiral the base bond fator is multiplied by\n",
        "#this factor\n",
        "HOMOCHIRAL_BREAK_FACTOR = 0.9\n",
        "#this factor is incorporated for each additional neighboring homochiral bond\n",
        "# becomes less and less influential as the bond gets further away\n",
        "HOMOCHIRAL_NEIGHBOR_IMPROV_FACTOR = 0.3\n",
        "#decreases the break probability based on the length of the polymer\n",
        "LENGTH_FACTOR = 0.6\n",
        "\n",
        "\n",
        "\n",
        "#limits the influence of length on breakprobabiltiy(the larger the less influence it has)\n",
        "N=40\n",
        "\n",
        "#saves the break probabilities of sequences of polymers\n",
        "break_prob_lookup_table = {}\n",
        "\n",
        "poisson_dict={}\n",
        "\n",
        "#used in Poisson distribution\n",
        "LAMBDA=6\n",
        "#################################################################\n",
        "#these are the same factors as before but with on for left and  #\n",
        "#one for right homochiral bonds.                                #\n",
        "#used in biaseastbondbreakability method which can be choosen to#\n",
        "#be used over the regular eastbondbreakability method in the    #\n",
        "#self.reset_break_probability() method                          #\n",
        "#################################################################\n",
        "HOMOCHIRAL_BREAK_FACTOR_LEFT = 0.0\n",
        "HOMOCHIRAL_BREAK_FACTOR_RIGHT = 0.9\n",
        "HOMOCHIRAL_NEIGHBOR_IMPROV_FACTOR_LEFT = 0.3\n",
        "HOMOCHIRAL_NEIGHBOR_IMPROV_FACTOR_RIGHT = 0.3\n",
        "\n",
        "N_RANDS = 1000\n",
        "\n",
        "\n",
        "rands = []\n",
        "\n",
        "\n",
        "#These are the liklihoods that a monomer will choose to poof or bond, respectively.\n",
        "#Used in the Reactables class.\n",
        "POOF_CHANCE = 0.3333\n",
        "BOND_PROB = 0.3333\n",
        "\n",
        "# Shorthands #\n",
        "L = True\n",
        "R = False"
      ],
      "execution_count": null,
      "outputs": []
    },
    {
      "cell_type": "markdown",
      "metadata": {
        "id": "a8egVnJUbTYf",
        "colab_type": "text"
      },
      "source": [
        "## Imports and Helpers"
      ]
    },
    {
      "cell_type": "markdown",
      "metadata": {
        "id": "IN4PxtbgaqnM",
        "colab_type": "text"
      },
      "source": [
        "First we install a package called ```jdc``` which allows us to define classes across different cells using the syntax\n",
        "\n",
        "```\n",
        "%%add_to our_class\n",
        "def our_function(self, our_variable):\n",
        "  print our_variable\n",
        "```\n",
        "\n",
        "The documentation on this magic function can be found at https://alexhagen.github.io/jdc/\n",
        "\n",
        "\n",
        "\n",
        "\n"
      ]
    },
    {
      "cell_type": "code",
      "metadata": {
        "id": "5f4ViqWCQDL_",
        "colab_type": "code",
        "colab": {
          "base_uri": "https://localhost:8080/",
          "height": 107
        },
        "outputId": "6a9962d4-9d80-4226-9da0-fdebaae02ddf"
      },
      "source": [
        "!pip install jdc"
      ],
      "execution_count": null,
      "outputs": [
        {
          "output_type": "stream",
          "text": [
            "Collecting jdc\n",
            "  Downloading https://files.pythonhosted.org/packages/5a/cb/9afea749985eef20f3160e8826a531c7502e40c35a038dfe49b67726e9a0/jdc-0.0.9-py2.py3-none-any.whl\n",
            "Installing collected packages: jdc\n",
            "Successfully installed jdc-0.0.9\n"
          ],
          "name": "stdout"
        }
      ]
    },
    {
      "cell_type": "markdown",
      "metadata": {
        "id": "5DONDBNfbdC3",
        "colab_type": "text"
      },
      "source": [
        "Here are the imports."
      ]
    },
    {
      "cell_type": "code",
      "metadata": {
        "id": "7gkyGmzI6Vst",
        "colab_type": "code",
        "colab": {}
      },
      "source": [
        "import random\n",
        "import numpy as np\n",
        "import copy\n",
        "from google.colab import widgets\n",
        "import matplotlib.pyplot as plt\n",
        "import jdc\n",
        "import more_itertools\n",
        "import pandas as pd\n",
        "import plotly.express as px"
      ],
      "execution_count": null,
      "outputs": []
    },
    {
      "cell_type": "markdown",
      "metadata": {
        "id": "Gc5E3314bsom",
        "colab_type": "text"
      },
      "source": [
        "And here are some helper functions."
      ]
    },
    {
      "cell_type": "code",
      "metadata": {
        "id": "PckJQLzVbvor",
        "colab_type": "code",
        "colab": {}
      },
      "source": [
        "def make_pool(n):\n",
        "  \"\"\"\n",
        "  Return a list of n new monomers.\n",
        "  \"\"\"\n",
        "  monomers = []\n",
        "  for n in range(n):\n",
        "    monomers.append(Monomer())\n",
        "  return monomers\n",
        "\n",
        "\n",
        "def numpy_fillna(data):\n",
        "  \"\"\" Rectangularize a jagged array.\n",
        "\n",
        "  Source: https://stackoverflow.com/a/32043366\n",
        "  \"\"\"\n",
        "  # Get lengths of each row of data\n",
        "  lens = np.array([len(i) for i in data])\n",
        "\n",
        "  # Mask of valid places in each row\n",
        "  mask = np.arange(lens.max()) < lens[:,None]\n",
        "\n",
        "  # Setup output array and put elements from data into masked positions\n",
        "  out = np.zeros(mask.shape, dtype=float)\n",
        "  out[mask] = np.concatenate(data)\n",
        "  return out\n",
        "\n",
        "def eAnd(*args): # From https://stackoverflow.com/q/2770434\n",
        "  return [all(tuple) for tuple in zip(*args)]\n",
        "\n",
        "def get_rand():\n",
        "  \"\"\"A function to provide uniform random numbers\"\"\"\n",
        "  if len(rands)<= 10:\n",
        "    randsarray = np.random.rand(N_RANDS)\n",
        "    rands.extend(randsarray.tolist())\n",
        "  return rands.pop()\n",
        "\n",
        "def poissonequation(k):\n",
        "  #checks if value has already been calulated\n",
        "  if k not in poisson_dict:\n",
        "    #otherwise calculates the values\n",
        "    p = np.exp(-LAMBDA)*((LAMBDA**k)/(np.math.factorial(k)))\n",
        "    #adds to dictionary\n",
        "    poisson_dict[k] = p\n",
        "  return poisson_dict[k]\n"
      ],
      "execution_count": null,
      "outputs": []
    },
    {
      "cell_type": "markdown",
      "metadata": {
        "id": "axVuXR__qoi4",
        "colab_type": "text"
      },
      "source": [
        "## The Monomer class"
      ]
    },
    {
      "cell_type": "markdown",
      "metadata": {
        "id": "ECDSIjWMVTb9",
        "colab_type": "text"
      },
      "source": [
        "These are our Monomers. The individuals in our dating show. They are the best thing a girl can be in this worl, beautiful little fools. They know that they exist and they know what kind of monomer they are, left or right(thats handedness not political party alignment) What more can you ask for?"
      ]
    },
    {
      "cell_type": "markdown",
      "metadata": {
        "id": "jI9isLxnRk5d",
        "colab_type": "text"
      },
      "source": [
        "### Constructor"
      ]
    },
    {
      "cell_type": "code",
      "metadata": {
        "id": "7TlZA8Njjd2D",
        "colab_type": "code",
        "colab": {}
      },
      "source": [
        "class Monomer:\n",
        "\n",
        "  def __init__(self, **kwargs):\n",
        "    \"\"\"\n",
        "    The constructor method for Monomer objects. Assigns default handedness.\n",
        "    Accepts argument hand = bool with keyword.\n",
        "    Considering other syntax for passing in handedness.\n",
        "    Keeps track of how old the monomer is\n",
        "    \"\"\"\n",
        "    import random\n",
        "    self._handedness = kwargs['hand'] if 'hand' in kwargs else random.choice([True,False])\n",
        "    self._eastbrkprob = kwargs['brkprob'] if 'brkprob' in kwargs else -1\n",
        "    #keeps track of its age, the number of iterations it has survived\n",
        "    self._age = 0\n",
        "  \n",
        "  def __repr__(self):\n",
        "    return str(f\"{self.get_handedness()}-monomer\")\n"
      ],
      "execution_count": null,
      "outputs": []
    },
    {
      "cell_type": "markdown",
      "metadata": {
        "id": "aP-4RlM7Q9IS",
        "colab_type": "text"
      },
      "source": [
        "### Getters and Setters"
      ]
    },
    {
      "cell_type": "code",
      "metadata": {
        "id": "IJM6sYAdRHFc",
        "colab_type": "code",
        "colab": {}
      },
      "source": [
        "%%add_to Monomer\n",
        "\n",
        "def get_handedness(self):\n",
        "  \"\"\"Getter method for Monomer handedness.\"\"\"\n",
        "  return self._handedness\n",
        "\n",
        "def get_age(self):\n",
        "  \"\"\"Getter method for Monomer age\"\"\"\n",
        "  return self._age\n",
        "\n",
        "\n",
        "def get_eastbrkprob(self):\n",
        "  \"\"\"Getter method for east bond brk probability\"\"\"\n",
        "  return self._eastbrkprob\n",
        "\n",
        "def set_eastbrkprob(self, newbrk):\n",
        "  \"\"\"Setter method for east bond brk probability\"\"\"\n",
        "  self._eastbrkprob = newbrk\n",
        "\n",
        "def set_age(self, newage):\n",
        "  \"\"\"setter method for age\"\"\"\n",
        "  self._age = newage\n",
        "\n",
        "def reset_eastbrkprob(self) :\n",
        "  \"\"\"reset east brk probability to -1 \n",
        "      to be called when single monomer is broken from polymer\"\"\"\n",
        "  self.set_eastbrkprob(-1)\n"
      ],
      "execution_count": null,
      "outputs": []
    },
    {
      "cell_type": "markdown",
      "metadata": {
        "id": "ihXAcN9GRXPL",
        "colab_type": "text"
      },
      "source": [
        "### Polymer Compatibility"
      ]
    },
    {
      "cell_type": "code",
      "metadata": {
        "id": "4fFeZGU6Ra7W",
        "colab_type": "code",
        "colab": {}
      },
      "source": [
        "%%add_to Monomer\n",
        "\n",
        "def get_chirality(self):\n",
        "  \"\"\" Return an expression of handedness compatible with the Polymer notation\n",
        "  of chirality (n_lefts, n_rights).\n",
        "  \"\"\"\n",
        "  if self.get_handedness():\n",
        "    return (1,0)\n",
        "  else:\n",
        "    return (0,1)\n",
        "\n",
        "def get_length(self):\n",
        "  \"\"\" Return 1. \"\"\"\n",
        "  return 1\n",
        "\n",
        "def get_ee(self):\n",
        "  \"\"\" Return the enantiomeric excess of the monomer. This value is always 1. \"\"\"\n",
        "  return 1\n",
        "\n",
        "def get_signed_ee(self):\n",
        "  \"\"\" Return the signed enantiomeric excess of the monomer.\n",
        "  Returns 1 if left handed, -1 if right handed.\n",
        "  \"\"\"\n",
        "  if self.get_handedness():\n",
        "    return 1\n",
        "  else:\n",
        "    return -1\n",
        "\n",
        "# def generate_old_log(self):\n",
        "#   \"\"\" Return a log tuple in the format\n",
        "#   (length, signed ee, total # homochiral bonds)\n",
        "#   \"\"\"\n",
        "#   return (self.get_length(), \n",
        "#           self.get_signed_ee())\n",
        "#           #sum(self.get_leftrighthomochiralbonds()))\n",
        "\n",
        "def generate_log(self):\n",
        "  \"\"\" Return a log compatible with the reactables history. \"\"\"\n",
        "  return (self.get_handedness(),)\n",
        "\n",
        "def birthday(self):\n",
        "  \"\"\"ages the monomer up\"\"\"\n",
        "  self._age += 1"
      ],
      "execution_count": null,
      "outputs": []
    },
    {
      "cell_type": "markdown",
      "metadata": {
        "id": "lisjFJ2YqZf7",
        "colab_type": "text"
      },
      "source": [
        "## The Polymer class"
      ]
    },
    {
      "cell_type": "markdown",
      "metadata": {
        "id": "E9EWk1VVV-Oc",
        "colab_type": "text"
      },
      "source": [
        "This is our Polymer class, aka the relationships in this dating show. They contain a list of all the monomers that are inside of them. It is kept in a specific order. They are pretty open books. They can tell us how many monomers they contain, they add new members(either monomers or whole other polymers), they can remove entire groups of members after a certain index, they can check which of their bonds are homochiral and use this to calculate probability of a certain bond breaking(the weak areas in their relationship). They can use this to then tell the producers if and where they are planning on breaking off members of they ranks. Like all good relationships, they use purely mathematics and chance to determine these heart breaking decisions. They can also tell us how many left handed monomers and how many right handed monomers they contain. "
      ]
    },
    {
      "cell_type": "markdown",
      "metadata": {
        "id": "RX_K0yxjTSEx",
        "colab_type": "text"
      },
      "source": [
        "### Constructor"
      ]
    },
    {
      "cell_type": "code",
      "metadata": {
        "id": "zNkhoo72TYUM",
        "colab_type": "code",
        "colab": {}
      },
      "source": [
        "class Polymer:\n",
        "  def __init__(self, monomers = []):\n",
        "    \"\"\" Constructor method for Polymer.\n",
        "    In addition to setting the monomers list, also calculates all break probabilities\n",
        "    of the bonds it contains using reset_break_probability.\n",
        "    \"\"\"\n",
        "    self._monomers = monomers\n",
        "    #self.reset_break_probability()\n",
        "    #keeps track of the age of itself(number of iterations it has survived)\n",
        "    self._age = 0\n",
        "\n",
        "  def __str__(self):\n",
        "    \"\"\" str function for Polymer class. \"\"\"\n",
        "    return f\"\\nA polymer of length {self.get_length()}: {self.get_sequence()}\"\n",
        "  \n",
        "  def __repr__(self):\n",
        "    \"\"\" repr function for Polymer class. \"\"\"\n",
        "    return f\"{self.get_sequence()}-polymer\""
      ],
      "execution_count": null,
      "outputs": []
    },
    {
      "cell_type": "markdown",
      "metadata": {
        "id": "67fSyVs_Tdlh",
        "colab_type": "text"
      },
      "source": [
        "### Getters, Setters, and Logs"
      ]
    },
    {
      "cell_type": "code",
      "metadata": {
        "id": "ziWCTo2GTcrv",
        "colab_type": "code",
        "colab": {}
      },
      "source": [
        "%%add_to Polymer\n",
        "\n",
        "\n",
        "def get_monomers(self):\n",
        "  \"\"\" Return list of monomers in the polymer. \"\"\"\n",
        "  return self._monomers\n",
        "\n",
        "\n",
        "def get_length(self):\n",
        "  \"\"\" Return the number of monomers in the polymer. \"\"\"\n",
        "  return len(self._monomers)\n",
        "\n",
        "\n",
        "def get_sequence(self):\n",
        "  \"\"\" Return the sequence of monomers in the polymer in a human-readable (and loggable) format. \"\"\"\n",
        "  sequence = []\n",
        "  for monomer in self.get_monomers():\n",
        "    sequence.append(monomer.get_handedness())\n",
        "  return sequence\n",
        "\n",
        "def get_age(self):\n",
        "  \"\"\"\n",
        "  Getter method for the age of the polymer\n",
        "  \"\"\"\n",
        "  return self._age\n",
        "\n",
        "\n",
        "def set_age(self, newage):\n",
        "  \"\"\"\n",
        "  Setter method for the age of the polymer\n",
        "  \"\"\"\n",
        "  self._age = newage\n",
        "\n",
        "def set_monomers(self, new_monomers):\n",
        "  \"\"\" Set the monomers in the polymer to new_monomers. \"\"\"\n",
        "  self._monomers = new_monomers\n",
        "\n",
        "def get_avg_age(self):\n",
        "  \"\"\"\n",
        "  calculates the average age of the monomers in the polymer\n",
        "  \"\"\"\n",
        "  totalage = 0\n",
        "  for n in range(self.get_length()):\n",
        "    totalage += self.get_monomers()[n].get_age()\n",
        "  avgage= totalage/self.get_length()\n",
        "  return avgage\n",
        "\n",
        "\n",
        "def get_chirality(self):\n",
        "  \"\"\" Return the chiralities of the monomers within the polymer.\n",
        "\n",
        "  RETURN: tuple\n",
        "  (number_lefts, number_rights)\n",
        "  \"\"\"\n",
        "  #Get the monomer handednesses\n",
        "  sequence = self.get_sequence()\n",
        "  #Count the number of trues\n",
        "  n_true = sum(sequence)\n",
        "  #The number of falses is the total minus the number of trues\n",
        "  #Return that.\n",
        "  return (n_true, len(sequence) - n_true)\n",
        "\n",
        "def birthday(self):\n",
        "  \"\"\"\n",
        "  Ages up the polymer and all of the monomers in the polymer\n",
        "  \"\"\"\n",
        "  self._age += 1\n",
        "  for n in range(self.get_length()):\n",
        "    self.get_monomers()[n].birthday()\n",
        "    \n",
        "\n",
        "def get_signed_ee(self):\n",
        "  lefts, rights = self.get_chirality()\n",
        "  return (lefts - rights) / self.get_length()\n",
        "\n",
        "def get_ee(self):\n",
        "  lefts, rights = self.get_chirality()\n",
        "  return abs((lefts - rights) / self.get_length())\n",
        "\n",
        "#def get_leftrighthomochiralbonds(self):\n",
        "  #\"\"\"\n",
        "  #returns  # of left and right homochiral bonds in tuple (l,r)\n",
        "  #\"\"\"\n",
        "  #l=0\n",
        "\n",
        "  #r=0\n",
        "\n",
        "  #for n in range(self.get_length()):\n",
        "    #if (self.easthomochiralbiascheck(n) == 3):\n",
        "         # l += 1\n",
        "    #elif (self.easthomochiralbiascheck(n) == 5):\n",
        "        #  r += 1\n",
        "  #tuple1 = (l , r)\n",
        "  \n",
        "  #return tuple1\n",
        "  \n",
        "def generate_old_log(self):\n",
        "  \"\"\" Return a log tuple in the format\n",
        "  (length, signed ee, total # homochiral bonds)\n",
        "  \"\"\"\n",
        "  return (self.get_length(), \n",
        "          self.get_signed_ee())\n",
        "          #sum(self.get_leftrighthomochiralbonds()))\n",
        "  \n",
        "def generate_log(self):\n",
        "  \"\"\" Return a log tuple formatted simply as the list of boolean handednesses of the monomers contained\n",
        "  in the polymer. Will be heavier than holding data about the polymer like in the other log format,\n",
        "  but should allow access to more information and more kinds of information.\n",
        "  \"\"\"\n",
        "  return tuple(self.get_sequence())"
      ],
      "execution_count": null,
      "outputs": []
    },
    {
      "cell_type": "markdown",
      "metadata": {
        "id": "IdB8k_yadghA",
        "colab_type": "text"
      },
      "source": [
        "### Functionality methods"
      ]
    },
    {
      "cell_type": "code",
      "metadata": {
        "id": "Xa_gIPs0dcjS",
        "colab_type": "code",
        "colab": {}
      },
      "source": [
        "%%add_to Polymer\n",
        "\n",
        "def append(self, other):\n",
        "  \"\"\"\n",
        "  Adds a reactable (monomer or polymer) to the end of the Polymer.\n",
        "  If the added reactable is a polymer, append() deletes it after taking its monomers.\n",
        "  \"\"\"\n",
        "  #Check the type of thing to add\n",
        "  if isinstance(other, Monomer):\n",
        "    #Monomers can just be appended to the list\n",
        "    self._monomers.append(other)\n",
        "  elif isinstance(other, Polymer):\n",
        "    #For polymers we need to extend rather than append, to avoid nested lists\n",
        "    self._monomers.extend(other.get_monomers())\n",
        "    #Then once the monomers are safely in their new polymer, the old one is deleted\n",
        "    del other\n",
        "\n",
        "def brkloc(self):\n",
        "\n",
        "  #makes a list of all the indices of monomers in the polymer except \n",
        "  #for the last one\n",
        "  indices = []\n",
        "  for n in range(self.get_length() - 1):\n",
        "    indices.append(n)\n",
        "  #puts indices in random order\n",
        "  random.shuffle(indices)\n",
        "  #tests if each indices will break\n",
        "  for index in indices:\n",
        "    #gets the breakprobability for monomer at n index\n",
        "    brkprob = self._monomers[n].get_eastbrkprob()\n",
        "    rand = get_rand()\n",
        "    # checks if the random number is less than the brkprob then the index of\n",
        "    #the monomer is returned from the method\n",
        "    #indicating this polymer breaks at the east bond of this monomer\n",
        "    if(brkprob > rand):\n",
        "      return n\n",
        "  return None\n",
        "\n",
        "def removeright(self,location):\n",
        "  \"\"\"\n",
        "  Removes all monomers to the right (east) of a given index\n",
        "  \"\"\"\n",
        "  #creates a list of monomers in the polymer to the left, and including,\n",
        "  #the monomer at the location(index) provided\n",
        "  newList = self._monomers[0:location+1]\n",
        "\n",
        "  #makes a list of the monoers to the rightof the monomer at the \n",
        "  #index provided\n",
        "  removed = self._monomers[location+1:]\n",
        "\n",
        "  #sets the polymers monomers to newList(the monomers to the left\n",
        "  #of  and the index provided)\n",
        "  self.set_monomers(newList)\n",
        "  #print(\"after breaking ractable is:\",self)\n",
        "  #print(\"after breaking removed is:\",removed)\n",
        "\n",
        "  #returns the monomers that were removed, everything the right\n",
        "  #of the index provided\n",
        "  return removed"
      ],
      "execution_count": null,
      "outputs": []
    },
    {
      "cell_type": "markdown",
      "metadata": {
        "id": "1lx9FPNLeRNM",
        "colab_type": "text"
      },
      "source": [
        "### Homochirality handling"
      ]
    },
    {
      "cell_type": "code",
      "metadata": {
        "id": "THNcbUmt1vm7",
        "colab_type": "code",
        "colab": {}
      },
      "source": [
        "%%add_to Polymer\n",
        "def easthomochiralcheck(self,numbermonomer):\n",
        "  \"\"\"\n",
        "  Takes the index of a monomer within the Polymer and returns whether its east bond is homochiral.\n",
        "  \"\"\"\n",
        "  #First check that the index isn't out of bounds \n",
        "  if (0 > numbermonomer or numbermonomer >= self.get_length()-1):\n",
        "    return False\n",
        "  #get the handedness of this monomer and its east neighbor, and return whether or not they're equal (bool)\n",
        "  return self._monomers[numbermonomer].get_handedness() == self._monomers[numbermonomer+1].get_handedness()\n",
        "\n",
        "def easthomochiralbiascheck (self, numbermonomer):\n",
        "  \"\"\" this method can be used in place of the east homochiral check method\n",
        "  returns false if not homochiral, 3 if homochiral left, 5 if homochiral right\"\"\"\n",
        "\n",
        "  #First check that the index isn't out of bounds or if not homochiral\n",
        "  if (0 > numbermonomer or numbermonomer >= self.get_length()-1 or not self.easthomochiralcheck(numbermonomer)):\n",
        "    return False\n",
        "  \n",
        "  #otherwise check if they are homochiral left or right\n",
        "  elif self._monomers[numbermonomer].get_handedness():\n",
        "      #means left homochiral\n",
        "      return 3\n",
        "  elif not self._monomers[numbermonomer].get_handedness():\n",
        "      #means right homochiral\n",
        "      return 5\n",
        "  \n",
        "\n",
        "def eastbondbreakprobability(self,numbermonomer):\n",
        "  \"\"\"\n",
        "  Takes the index of a monomer within the Polymer\n",
        "  Returns the probability that the monomer's east bond will break\n",
        "  returns -3 if the monomer has no east bond\n",
        "  \"\"\"\n",
        "  ##############################\n",
        "  #Override to return an equal break chance for every bond in the polymer\n",
        "  #Simply comment out this line to get the regular function\n",
        "  #return (0.3)\n",
        "  ##############################\n",
        "\n",
        "  #First check if the monomer is the last one in the polymer\n",
        "  if (numbermonomer >= self.get_length()-1):\n",
        "    #If so, it doesn't have an east bond to break, so the probability is 0(return -3)\n",
        "    return -3\n",
        "    \n",
        "  #now we initialize brk probability (brk)\n",
        "  brk = (BASE_BOND_BREAK_PROBABILITY) * (LENGTH_FACTOR**(self.get_length()/N))\n",
        "  #check if the east bond is homochiral\n",
        "  if (self.easthomochiralcheck(numbermonomer)):\n",
        "    #if so multiply it by homochiral break factor (shrinks probability)\n",
        "    brk *= HOMOCHIRAL_BREAK_FACTOR\n",
        "    #goes through method which checks and calculates benefit of all homochiral neighbors\n",
        "    brk = self.checkforhomochiralneighbors(numbermonomer,brk,HOMOCHIRAL_NEIGHBOR_IMPROV_FACTOR)\n",
        "  #end def: returns break probability of monomers east bond\n",
        "  return brk\n",
        "\n",
        "def biaseastbondbreakprobability(self,numbermonomer):\n",
        "  \"\"\"\n",
        "  ***left-right sensitivity****\n",
        "  Takes the index of a monomer within the Polymer\n",
        "  Returns the probability that the monomer's east bond will break\n",
        "  returns -3 if the monomer has no east bond\n",
        "  \"\"\"\n",
        "  ##############################\n",
        "  #Override to return an equal break chance for every bond in the polymer\n",
        "  #Simply comment out this line to get the regular function\n",
        "  #return (0.3)\n",
        "  ##############################\n",
        "  \n",
        "  #First check if the monomer is the last one in the polymer\n",
        "  if (numbermonomer >= self.get_length()-1):\n",
        "    #If so, it doesn't have an east bond to break, so the probability is 0 (returns -3)\n",
        "    return -3\n",
        "  \n",
        "  #initialize the brk probability\n",
        "  brk = (BASE_BOND_BREAK_PROBABILITY) * (LENGTH_FACTOR**(self.get_length()/N))\n",
        "\n",
        "  #check if the east bond is homochiral left\n",
        "  if (self.easthomochiralbiascheck(numbermonomer) == 3):\n",
        "    brk *= HOMOCHIRAL_BREAK_FACTOR_LEFT\n",
        "\n",
        "    #run through function that recalculates brk based on benfits of homochiral neighbors\n",
        "    brk = self.checkforhomochiralneighbors(numbermonomer, brk, HOMOCHIRAL_NEIGHBOR_IMPROV_FACTOR_LEFT)\n",
        "\n",
        "  #otherwise checks if bond is homochiral right\n",
        "  elif (self.easthomochiralbiascheck(numbermonomer) == 5):\n",
        "    brk *= HOMOCHIRAL_BREAK_FACTOR_RIGHT\n",
        "\n",
        "    #run through function that recalculates brk based on benfits of homochiral neighbors\n",
        "    brk = self.checkforhomochiralneighbors(numbermonomer,brk, HOMOCHIRAL_NEIGHBOR_IMPROV_FACTOR_RIGHT)\n",
        "   \n",
        "  return brk\n",
        "\n",
        "def checkforhomochiralneighbors(self, numbermonomer, brk, neighborfactor):\n",
        "\n",
        "  \"\"\"\n",
        "  helps all the versions of the eastbond break calculating functions\n",
        "  takes in a brk probability a number monomer and the desired neighbor improvement factor\n",
        "  and calculates how the neighbors a bond will increase the strength of the bond\n",
        "  it then returns the new brk prob to the eastbond brk function\n",
        "  \"\"\"\n",
        "  brk = brk\n",
        "  j = numbermonomer + 1\n",
        "  #going right to check for homochiral neighbors\n",
        "  while(self.easthomochiralcheck(j)):\n",
        "    #calculates decrease to brk prob for a neighbor of that distance for the bond\n",
        "    brk *= 1 - (neighborfactor**abs(j - numbermonomer))\n",
        "    j += 1\n",
        "\n",
        "  #going left to check for homochiral neighbors\n",
        "  j=numbermonomer-1\n",
        "  while(self.easthomochiralcheck(j)):\n",
        "    #calculates decrease to brk prob for a neighbor of that distance for the bond\n",
        "    brk *= 1-(neighborfactor**abs(numbermonomer - j))\n",
        "    j -= 1\n",
        "\n",
        "  return brk\n",
        "\n",
        "\n",
        "def poissonbreakprobability(self,numbermonomer):\n",
        "  \"\"\"\n",
        "  Takes the index of a monomer within the Polymer\n",
        "  Returns the probability that the monomer's east bond will break\n",
        "  based on Poisson distribution\n",
        "  returns -3 if the monomer has no east bond\n",
        "  \"\"\"\n",
        "\n",
        "  #First check if the monomer is the last one in the polymer\n",
        "  if (numbermonomer >= self.get_length()-1):\n",
        "    #If so, it doesn't have an east bond to break, so the probability is 0(return -3)\n",
        "    return -3\n",
        "\n",
        "  #With that out of the way, we initialize brk to the base probability of breaking a bond\n",
        "  brk = (BASE_BOND_BREAK_PROBABILITY) * (LENGTH_FACTOR**(self.get_length()/N))\n",
        "\n",
        "  #keeps track of the number of the total consecutive homochiral bonds\n",
        "  homochiralcount=0 \n",
        "\n",
        "  #check if the east bond is homochiral\n",
        "  if (self.easthomochiralcheck(numbermonomer)):\n",
        "    #if so homochiral count increases by 1\n",
        "    homochiralcount +=1\n",
        "    #brk gets benefited by the poisson distribution of homochiral count \n",
        "    brk *= 1-(1.3*(poissonequation(homochiralcount)))\n",
        "\n",
        "    #set j to monomer to right\n",
        "    j = numbermonomer+1\n",
        "\n",
        "    #going right to check for neighboring homochirality\n",
        "    while(self.easthomochiralcheck(j)):\n",
        "      #if homochiral increases count\n",
        "      homochiralcount += 1\n",
        "      #recalculates brk prob\n",
        "      brk *= 1-(1.3*(poissonequation(homochiralcount)))\n",
        "\n",
        "      #check next monomer\n",
        "      j += 1\n",
        "\n",
        "    #going left to check for neighboring homochirality\n",
        "    j=numbermonomer-1\n",
        "    while(self.easthomochiralcheck(j)):\n",
        "      homochiralcount += 1\n",
        "      brk *= 1-(1.3*(poissonequation(homochiralcount)))\n",
        "      j -= 1\n",
        "\n",
        "  return brk\n",
        "\n",
        "\n",
        "def reset_break_probability(self):\n",
        "    \n",
        "  \"\"\" \n",
        "  resets the break probabilities of the monomers in a \n",
        "  sequence. 1)checks lookup table to see if similar polymer values\n",
        "  have been caluclated, otherwise calculates values and adds\n",
        "  polymer to lookup table 2)sets values to monomers.\n",
        " \n",
        "  \"\"\"\n",
        "  #store self as list of booleans to be added to lookup table\n",
        "  polyseq = self.get_monomers().copy()\n",
        "  for n in range(self.get_length()):\n",
        "    polyseq[n] = polyseq[n].get_handedness()\n",
        "\n",
        "\n",
        "  # All stored sequences start with True. If the one being requested doesn't, invert so that it does\n",
        "  #comment out if right/left sensitivity is included\n",
        "  if polyseq[0] == True:\n",
        "    polyseq = [not mono for mono in polyseq]\n",
        "\n",
        "  #make polyseq a tuple able to be added as an index of a dictionary  \n",
        "  polyseq = tuple(polyseq)\n",
        "\n",
        "  # If the sequence is already in the table (dict), retrieves its previously calculated break probabilities\n",
        "  if polyseq in break_prob_lookup_table:\n",
        "    the_probs = break_prob_lookup_table[polyseq]\n",
        "    \n",
        "  else: # Otherwise calculate and add to the lookup table\n",
        "    # Calculate the break probabilities\n",
        "    the_probs = self.calculatebrkprob()\n",
        "    #and add it to the lookup table\n",
        "    break_prob_lookup_table[polyseq] = the_probs\n",
        "\n",
        "  #set monomers eastbond brk probs to correlated values stored in the_probs\n",
        "  for n in range (self.get_length()):\n",
        "    self._monomers[n].set_eastbrkprob(the_probs[n])\n",
        "\n",
        "  #end def: polymer break probabilities recalculated and added\n",
        "  #to lookup table (if not already there)\n",
        "\n",
        "def calculatebrkprob(self):\n",
        "    \n",
        "  \"\"\"\n",
        "  generates and returns a list of break probabilities for the monomers at each index of\n",
        "  a polymer. This method can be altered to calculate normally\n",
        "  with left/right sensitivity or with a poisson distribution\n",
        " \n",
        "  \"\"\"\n",
        "\n",
        "  #initialize brk_probs as an empty list\n",
        "  brk_probs = []\n",
        "  \n",
        "  #checks if polymer is of length one -meaning it is lone monomer\n",
        "  if self.get_length() == 1 :\n",
        "    #if so adds -1 to list(brk prob value assigned to individual monomers)\n",
        "    brk_probs.append(-1)\n",
        "    \n",
        "  else:\n",
        "    #otherwise goes through all the indices of the polymer,calculates its brk probability, and appends it to brk_probs \n",
        "    for n in range(self.get_length()):\n",
        "\n",
        "      #############################################################\n",
        "      #LEFT RIGHT SENSITIVITY/POISSON EQUATIONS CHOICE.           #\n",
        "      #pick one-comment out the rest.                             #\n",
        "      #############################################################\n",
        "\n",
        "      #this line if uncommented will have left/right sensitivity\n",
        "      #brk_probs.append(self.biaseastbondbreakprobability(n))\n",
        "\n",
        "      #this line if uncommented will calculate probabilities normally\n",
        "      #brk_probs.append(self.eastbondbreakprobability(n))\n",
        "\n",
        "      #this line if uncommented will calculate brk probabilities with poisson distribution\n",
        "      brk_probs.append(self.poissonbreakprobability(n))\n",
        "\n",
        "  #returns in order list of brk probs for the east bond of all the monomers in a polymer\n",
        "  return brk_probs\n"
      ],
      "execution_count": null,
      "outputs": []
    },
    {
      "cell_type": "markdown",
      "metadata": {
        "id": "oV4UK3XdkNoF",
        "colab_type": "text"
      },
      "source": [
        "## The Reactables class"
      ]
    },
    {
      "cell_type": "markdown",
      "metadata": {
        "id": "NPkloQE3XbaD",
        "colab_type": "text"
      },
      "source": [
        "This is the Reactables class aka the stylish little bag we keep our contestants in. As all good dating shows, we define our members by the relationship they are in. So a single monomer will be addd to the bag alone, but a monomer in a polymer will not be. Rather each polymer will be recorded once. Its like if you have charlie, ben, and jack. Jack and Ben are in a relationship so they are jointly called Jen. If these three were in the reactable bag they would be recognized as two things, charlie and Jen(Ben+JAck). The reactable class is the heart and center of our game- I mean dating- show. Its here we ask all the members just the right questions to get them falling in love and breaking hearts, and then we are curteous enough to do all the splitting and merging for them. "
      ]
    },
    {
      "cell_type": "markdown",
      "metadata": {
        "id": "HVY41XQPUjIT",
        "colab_type": "text"
      },
      "source": [
        "### Constructor"
      ]
    },
    {
      "cell_type": "code",
      "metadata": {
        "id": "JAdpBmhBUuGc",
        "colab_type": "code",
        "colab": {}
      },
      "source": [
        "class Reactables:\n",
        "\n",
        "  def __init__(self, reactables = []):\n",
        "    \"\"\"\n",
        "    Constructor class for Reactables object\n",
        "    Accepts list of reactables or defaults to empty list\n",
        "    Reactables functions as a bin for reactable objects monomer and polymer\n",
        "    Methods consist mostly of list handling\n",
        "    \"\"\"\n",
        "    self._reactables = reactables\n",
        "    #The reactables bag also handles remembering its history\n",
        "    self._history = []\n",
        "    #self._leftrighthistory = []\n",
        "    #list of the age of the polymers in the reactables bag. \n",
        "    self._agehistory = []\n",
        "    self._lookup = {}\n",
        "    self._hist_stats = pd.DataFrame()\n",
        "\n",
        "\n",
        "  def __str__(self):\n",
        "    \"\"\"\n",
        "    str method for Reactables class\n",
        "    \"\"\"\n",
        "    return str(self.get_reactables())"
      ],
      "execution_count": null,
      "outputs": []
    },
    {
      "cell_type": "markdown",
      "metadata": {
        "id": "hqD3AL_kUldF",
        "colab_type": "text"
      },
      "source": [
        "### Getters and Setters"
      ]
    },
    {
      "cell_type": "code",
      "metadata": {
        "id": "7hRne9W9U3No",
        "colab_type": "code",
        "colab": {}
      },
      "source": [
        "%%add_to Reactables\n",
        "\n",
        "#################\n",
        "#GETTERS/SETTERS#\n",
        "#################\n",
        "\n",
        "def get_reactables(self):\n",
        "  \"\"\"\n",
        "  Getter method for reactables in Reactables\n",
        "  Returns a list of the objects currently in the Reactables bag\n",
        "  \"\"\"\n",
        "  return self._reactables\n",
        "\n",
        "def get_history(self):\n",
        "  \"\"\" Return the history of the reactables bag.\n",
        "  \"\"\"\n",
        "  return self._history\n",
        "\n",
        "#def get_leftrighthistory(self):\n",
        "  #return self._leftrighthistory\n",
        "\n",
        "def get_agehistory(self):\n",
        "  \"\"\"\n",
        "  Getter method for the age history of the reactables bag\n",
        "  \"\"\"\n",
        "  return self._agehistory\n",
        "  \n",
        "def get_count(self):\n",
        "  \"\"\"\n",
        "  Getter method for Reactables class\n",
        "  Returns the number of objects in the Reactables bag\n",
        "  \"\"\"\n",
        "  return len(self.get_reactables()) \n",
        "\n",
        "\n",
        "def set_reactables(self, new_list):\n",
        "  \"\"\"\n",
        "  Setter method for the Reactables class\n",
        "  Sets the reactables bag to a new list\n",
        "  Used mostly as a helper function in bonding\n",
        "  \"\"\"\n",
        "  self._reactables = new_list\n",
        "\n",
        "def set_agehistory(self, newagehistory):\n",
        "  self._agehistory = newagehistory\n",
        "\n",
        "\n",
        "def get_bond_chance(self, reactable1, reactable2):\n",
        "  \"\"\"\n",
        "  Returns the probability that two given reactables in the reactables bag will bond\n",
        "  \"\"\"\n",
        "  return BOND_PROB\n",
        "\n",
        "def get_free_monomers(self):\n",
        "  return [r for r in self.get_reactables() if isinstance(r, Monomer)]\n",
        "\n",
        "def get_polymers(self):\n",
        "  return [r for r in self.get_reactables() if isinstance(r, Polymer)]\n",
        "\n",
        "def get_bound_monomers(self):\n",
        "  bound = []\n",
        "  for p in self.get_polymers():\n",
        "    bound.extend(p.get_monomers())\n",
        "  return bound\n",
        "\n",
        "#def record_leftrighthomochiral(self):\n",
        " # \"\"\"returns the number of left and right homochiral bonds, (left,right)\"\"\"\n",
        " # l=0\n",
        "  #r=0\n",
        "  #for polymer in self.get_polymers() :\n",
        "   # tuple1 = polymer.get_leftrighthomochiralbonds()\n",
        "    #l += tuple1[0]\n",
        "    #r += tuple1[1]\n",
        "  #tuple2 = (l , r)\n",
        "  #self._leftrighthistory.append(tuple2)\n",
        "  #return tuple2\n",
        "\n",
        "def get_stats(self):\n",
        "  return self._hist_stats\n",
        "\n",
        "def set_hist_stats(self,df):\n",
        "  self._hist_stats = df\n",
        "\n",
        "def get_lookup(self):\n",
        "  return self._lookup\n",
        "\n",
        "def add_stat_lookup(self, key, value):\n",
        "  self._lookup[key] = value"
      ],
      "execution_count": null,
      "outputs": []
    },
    {
      "cell_type": "markdown",
      "metadata": {
        "id": "HEFlHyn6UoPU",
        "colab_type": "text"
      },
      "source": [
        "### Functionality methods"
      ]
    },
    {
      "cell_type": "markdown",
      "metadata": {
        "id": "cz4Cis4ze7j6",
        "colab_type": "text"
      },
      "source": [
        "#### Top level functionality"
      ]
    },
    {
      "cell_type": "code",
      "metadata": {
        "id": "UZMHOVm_fDL0",
        "colab_type": "code",
        "colab": {}
      },
      "source": [
        "%%add_to Reactables\n",
        "\n",
        "def refill(self, pool_size):\n",
        "  #Do we have less than the required number of things in the pool?\n",
        "  dearth = pool_size - self.get_count()\n",
        "  #If so,\n",
        "  if dearth > 0:\n",
        "    new = []\n",
        "    #Make as many monomers as we need to get back up to the riquired amount\n",
        "    for n in range(dearth):\n",
        "      new.append(Monomer())\n",
        "    #And add them to the reactables bag\n",
        "    self.add(new)\n",
        "\n",
        "def randomize_reactables(self):\n",
        "  \"\"\"\n",
        "  Randomizes the order of the reactables list\n",
        "  \"\"\"\n",
        "  #Get the current reactables\n",
        "  reactables = self.get_reactables()\n",
        "  #Shuffle them\n",
        "  random.shuffle(reactables)\n",
        "  #And reset the reactables list to the new sorted list\n",
        "  self.set_reactables(reactables)\n",
        "\n",
        "def do_the_thing(self):\n",
        "  \"\"\"\n",
        "  Handle a single iteration of the reactables.\n",
        "\n",
        "  \"\"\"\n",
        "  #We keep track of bonding by storing the most recent reactable to choose to bond as the 'bachelor.'\n",
        "  bachelor = None\n",
        "  #We need a copy of the reactables because indices will change as soon as we start doing stuff\n",
        "  reactables = copy.copy(self.get_reactables())\n",
        "  #Iterate through each reactable\n",
        "  for item in reactables:\n",
        "    #Roll a random number in (0,1) to compare against our probabilities\n",
        "    roll = get_rand()\n",
        "    #If our reactable is a monomer...\n",
        "    if isinstance(item, Monomer):\n",
        "      #We get our breaking and bonding chances (parameters now, may become functions later?)\n",
        "      brk = POOF_CHANCE\n",
        "      bond = BOND_PROB\n",
        "      #If we roll to break the monomer\n",
        "      if 0 < roll <= brk:\n",
        "        #Just delete it\n",
        "        del item\n",
        "      #If we roll to bond the monomer\n",
        "      elif brk < roll <= brk+bond:\n",
        "        #Check if there's a reactable waiting to bond\n",
        "        if bachelor == None:\n",
        "          #If not, make this monomer the bachelor. Someone will come along to bond later.\n",
        "          bachelor = item\n",
        "        else:\n",
        "          #If there is someone waiting, bond them together and reset the bachelor chair to empty.\n",
        "          self.bond_pair(bachelor, item)\n",
        "          bachelor= None\n",
        "      else:\n",
        "        continue\n",
        "    #If the reactable is a polymer instead...\n",
        "    elif isinstance(item, Polymer):\n",
        "      #Choose whether the polymer will break or bond. It's 50-50 right now.\n",
        "      if roll >= 0.33:\n",
        "        #This is the same bonding logic as for the monomer. It's not in a helper function because it needs to be able to access bachelor.\n",
        "        if bachelor == None:\n",
        "          bachelor = item\n",
        "        else:\n",
        "          self.bond_pair(bachelor, item)\n",
        "          bachelor = None\n",
        "      #Here's what happens if the polymer is chosen to check breaking\n",
        "      else:\n",
        "        #It finds its break location\n",
        "        break_spot = item.brkloc()\n",
        "        #Which might turn out to be nowhere.\n",
        "        if break_spot != None:\n",
        "          #If somewhere does break, call break_polymer to handle the breaking\n",
        "          self.break_polymer(item,break_spot)\n",
        "    else:\n",
        "      #You never know what might end up in your reactables bag\n",
        "      raise ValueError(\"This thing is neither a monomer or a polymer. What?!\")\n",
        "\n",
        "def iterate(self,size):\n",
        "  \"\"\"\n",
        "  Handles full sequence of iteration\n",
        "  \"\"\"\n",
        "  self.randomize_reactables()\n",
        "  self.do_the_thing()\n",
        "  self.log()\n",
        "  self.ageup()\n",
        "  #self.record_leftrighthomochiral()\n",
        "  self.refill(size)"
      ],
      "execution_count": null,
      "outputs": []
    },
    {
      "cell_type": "markdown",
      "metadata": {
        "id": "ALnPeaUCfhL4",
        "colab_type": "text"
      },
      "source": [
        "#### Functionality helpers"
      ]
    },
    {
      "cell_type": "code",
      "metadata": {
        "id": "hpqCXL48VGTB",
        "colab_type": "code",
        "colab": {}
      },
      "source": [
        "%%add_to Reactables\n",
        "\n",
        "\n",
        "def add(self, new_reactables):\n",
        "  \"\"\"\n",
        "  Adds a list of reactables to the reactables bag\n",
        "  Built on extend(); argument must be iterable\n",
        "  \"\"\"\n",
        "  #print(\"list of new Reactbles\", new_reactables)\n",
        "  #print(\"list of get Reactables:\",self.get_reactables())\n",
        "  self.get_reactables().extend(new_reactables)\n",
        "  #print(\"reactables list is now\",self.get_reactables())\n",
        "\n",
        "\n",
        "def subtract(self, removables):\n",
        "  \"\"\"\n",
        "  Removes a list of reactables from the reactables bag\n",
        "  Built on list comprehension; argument must be iterable\n",
        "  \"\"\"\n",
        "  self.set_reactables([reactable for reactable in self.get_reactables() if not (reactable in removables)])\n",
        "\n",
        "\n",
        "def bond_pair(self, west, east):\n",
        "  \"\"\"\n",
        "  Accepts two reactables from the bag\n",
        "  Bonds them together, handling deletion of any emptied polymer\n",
        "  \"\"\"\n",
        "\n",
        "  #this is my attempt to get the ages working properly the idea is:\n",
        "\n",
        "  #if both are polymers or both are monomers:\n",
        "  if (type(west) == type(east) and type(west) == Polymer):\n",
        "    #set the new age to the maximum age of the polymers\n",
        "    age = max(west.get_age(), east.get_age())\n",
        "  \n",
        "  if (type(west) == type(east) and type(west) == Monomer):\n",
        "    #set age to 0 it is a brand new polymer\n",
        "    age = 0\n",
        "\n",
        "  #if only one is a polymer:\n",
        "  elif isinstance(west, Polymer) and isinstance(east, Monomer):\n",
        "    #set the age to the age of the polymer\n",
        "    age = west.get_age()\n",
        "  elif isinstance(west, Monomer) and isinstance(east, Polymer):\n",
        "    # set the age to the age of the polymer\n",
        "    age = east.get_age()\n",
        "\n",
        "  #Take your two reactables and check if the west one is a monomer or a polymer \n",
        "  if isinstance(west, Polymer):\n",
        "    #If it's a polymer, all you've got to do is append the east item and then take it out of the bag\n",
        "    west.append(east)\n",
        "    self.subtract([east])\n",
        "    #recalculate the breakprobabilities of the bonds in polymer\n",
        "    west.reset_break_probability()\n",
        "    #set new polymer to age that was calculated before\n",
        "    west.set_age(age)\n",
        "\n",
        "  if isinstance(west, Monomer):\n",
        "    #If west friend is a Monomer, then make a new polymer containing west\n",
        "    newpoly = Polymer([west])\n",
        "    #Add the east things to it\n",
        "    newpoly.append(east)\n",
        "    #Remove both the west monomer and the east thing\n",
        "    self.subtract([east])\n",
        "    self.subtract([west])\n",
        "    #And put the new polymer into the reactables bag\n",
        "    self.add([newpoly])\n",
        "    #recalculates break probability\n",
        "    newpoly.reset_break_probability()\n",
        "    #set new polymer to age that was calculated before\n",
        "    newpoly.set_age(age)\n",
        "\n",
        "\n",
        "\n",
        "def break_polymer(self, polymer, brk_location):\n",
        "  #breaks polymer at given location and creates a new polymer of the \n",
        "  #monomers removed\n",
        "  #when polymer is made-breakprobabilities are calculated\n",
        "  newPolymer = Polymer(polymer.removeright(brk_location))\n",
        "  #if(newPolymer._monomers[0].get_handedness() and polymer._monomers[-1].get_handedness()):\n",
        "    #print (\"left breaking when literally impossible????\")\n",
        "  #if(not newPolymer._monomers[0].get_handedness() and not polymer._monomers[-1].get_handedness()):\n",
        "   # print(\"right breaking\")\n",
        "  polys = [newPolymer, polymer]\n",
        "  #resets break probabilities in polymers\n",
        "  #goes throught the two new polymers\n",
        "  for poly in polys:\n",
        "    #resets break probabilities in polymers\n",
        "    polymer.reset_break_probability()\n",
        "    if poly.get_length()==0:\n",
        "      print(\"whyyyyyyyyyyy is this happening????\")\n",
        "    #checks if they are of length 1\n",
        "    if poly.get_length() <= 1:\n",
        "      #adds them to reactable as a single monomer\n",
        "      self.add(poly.get_monomers())\n",
        "      #subtracts polymer from reactable list\n",
        "      self.subtract([poly])\n",
        "      del poly\n",
        "    #checks if the polymer is not in the reactables list\n",
        "    elif (poly not in self.get_reactables()):\n",
        "      #add polymer to reactable list\n",
        "      self.add([poly])\n",
        "\n",
        "    \n",
        "\n"
      ],
      "execution_count": null,
      "outputs": []
    },
    {
      "cell_type": "markdown",
      "metadata": {
        "id": "CmKsCAazVPy_",
        "colab_type": "text"
      },
      "source": [
        "### Current state data methods"
      ]
    },
    {
      "cell_type": "code",
      "metadata": {
        "id": "4FVYtSkYVZ7n",
        "colab_type": "code",
        "colab": {}
      },
      "source": [
        "%%add_to Reactables\n",
        "\n",
        "def get_overall_chirality(self):\n",
        "  \"\"\" Return the total quantity of left- and right-handed monomers in the reactable\n",
        "    pool, including monomers within polymers.\n",
        "\n",
        "  RETURN tuple\n",
        "  (Left-handed_quantity, Right-handed_quantity)\n",
        "  \"\"\"\n",
        "  left_count = 0\n",
        "  right_count = 0\n",
        "  for reactable in self.get_reactables():\n",
        "    if isinstance(reactable, Monomer):\n",
        "      if reactable.get_handedness():\n",
        "        left_count += 1\n",
        "      else:\n",
        "        right_count += 1\n",
        "    elif isinstance(reactable, Polymer):\n",
        "      l, r = reactable.get_chirality()\n",
        "      left_count += l\n",
        "      right_count += r\n",
        "    else:\n",
        "      print(f\"{reactable}, which is a {type(reactable)}\")\n",
        "      raise ValueError\n",
        "  return (left_count, right_count)\n",
        "\n",
        "def get_polymer_chirality(self):\n",
        "  \"\"\" Return the total quantity of left- and right-handed monomers in the polymers\n",
        "  within the reactable pool.\n",
        "\n",
        "  RETURN tuple\n",
        "  (Left-handed_quantity, Right-handed_quantity)\n",
        "  \"\"\"\n",
        "  left_count = 0\n",
        "  right_count = 0\n",
        "  for reactable in self.get_reactables():\n",
        "    if isinstance(reactable, Polymer):\n",
        "      l, r = reactable.get_chirality()\n",
        "      left_count += l\n",
        "      right_count += r\n",
        "  return (left_count, right_count)\n",
        "\n",
        "def get_free_proportion(self):\n",
        "  \"\"\"Return the proportion of free monomers to total population\"\"\"\n",
        "  return len(self.get_free_monomers())/self.unit_count()\n",
        "\n",
        "def unit_count(self):\n",
        "  \"\"\"return the total number of monomers in the bag, both free and bound\"\"\"\n",
        "  bound = 0\n",
        "  for p in self.get_polymers():\n",
        "    bound += p.get_length()\n",
        "  return len(self.get_free_monomers()) + bound\n",
        "\n",
        "def get_polymer_ee(self):\n",
        "  ee = []\n",
        "  for polymer in self.get_polymers():\n",
        "    ee.append(polymer.get_signed_ee())\n",
        "  return ee\n",
        "\n",
        "def avg_ee_by_length(self):\n",
        "  \"\"\" Return a list containing the enantiomeric excess of all reactables sorted by size.\n",
        "  That is:\n",
        "  [(ee of monomers),(ee of 2-mers),(ee of 3-mers) etc]\n",
        "  \"\"\"\n",
        "  output = []\n",
        "  for n in range(1,self.max_length()+1):\n",
        "    group = self.get_reactables_by_length(n)\n",
        "    ees = []\n",
        "    # print(f\"For length {n} I got {len(group)} reactables.\")\n",
        "    if len(group) > 0:\n",
        "      # eestr = \"\"\n",
        "      for r in group:\n",
        "        ees.append(r.get_ee())\n",
        "        # eestr += f\", {r.get_ee()}\"\n",
        "      output.append(np.mean(ees))\n",
        "      # print(f\"The ee's of this length were {eestr}.\\nThe average ee was {np.mean(ees)}.\")\n",
        "    else:\n",
        "      output.append(0)\n",
        "  return output\n",
        "\n",
        "def get_reactables_by_length(self,length):\n",
        "  if length <= 1:\n",
        "    #return the monomers\n",
        "    return self.get_free_monomers()\n",
        "  else:\n",
        "    return [p for p in self.get_polymers() if p.get_length() == length]\n",
        "\n",
        "def max_length(self):\n",
        "  \"\"\" Return the length of the longest polymer in the reactables bag.\n",
        "  \"\"\"\n",
        "  length = 0\n",
        "  for p in self.get_polymers():\n",
        "    if p.get_length() > length:\n",
        "      length = p.get_length()\n",
        "  return length\n",
        "\n",
        "def ageup(self):\n",
        "  \"\"\"\n",
        "  Method that ages up every reactable in the reactables bag\n",
        "  \"\"\"\n",
        "  for reactable in self.get_reactables():\n",
        "    reactable.birthday()\n",
        "    \n",
        "\n",
        "def logagehistory (self):\n",
        "  \"\"\"\n",
        "  Method that logs the age of the molecules in the current iteration. Only logs the polymers ages.\n",
        "  \"\"\"\n",
        "  log = []\n",
        "  #gets all the polymers in an iteration\n",
        "  polymers = self.get_polymers()\n",
        "  #Goes through polymers\n",
        "  for molecule in polymers:\n",
        "    #appends age to log\n",
        "    log.append(molecule.get_age())\n",
        "    #returns log of a list of ages of the polymers of current iteration\n",
        "  return log\n",
        "  \n",
        "\n"
      ],
      "execution_count": null,
      "outputs": []
    },
    {
      "cell_type": "markdown",
      "metadata": {
        "id": "FVHgjYMhkuri",
        "colab_type": "text"
      },
      "source": [
        "### History handling methods"
      ]
    },
    {
      "cell_type": "code",
      "metadata": {
        "id": "tps6afh4kzUe",
        "colab_type": "code",
        "colab": {}
      },
      "source": [
        "%%add_to Reactables\n",
        "\n",
        "# def old_log(self):\n",
        "#   \"\"\" Translate current reactables list into a lighter-weight list of tuples \n",
        "#     describing the bag state, then logs that list into self._history.\n",
        "#     Log format: (length,signed_ee)\n",
        "#     e.g.  True-monomer would be (1,1)\n",
        "#           [False, True, False, False]-polymer would be (4,-0.5)\n",
        "#     \"\"\"\n",
        "#   log = []\n",
        "#   for r in self.get_reactables():\n",
        "#     log.append(r.generate_old_log())\n",
        "#   (self._history).append(log)\n",
        "\n",
        "def log(self):\n",
        "  \"\"\" Translate current reactables into a loggable list of tuples.\n",
        "  This log keeps the full sequences of the polymers without digesting the data, \n",
        "  so it should be more flexible as we more forward with pulling new information\n",
        "  out of this simulation. \n",
        "  There is one major piece of information lost, however, which is the identities\n",
        "  of the individual polymers and monomers. \"\"\"\n",
        "  log = []\n",
        "  for r in self.get_reactables():\n",
        "    log.append(r.generate_log())\n",
        "  (self._history).append(log)\n",
        "  #appends the iterations age to the age history\n",
        "  self._agehistory.append(self.logagehistory())\n",
        "  \n",
        "\n",
        "\n",
        "\n",
        "\n",
        "# def get_iter_polymers_by_length(self, single_iteration_log):\n",
        "#   # So we have something like this: [(t,f,f),(t),(f,f),(f),(t,t,t,f)]\n",
        "#   polymers_by_length = []\n",
        "#   lengths = [len(log) for log in single_iteration_log]\n",
        "#   biggest = max(lengths)\n",
        "#   for n in range(1, biggest+1):\n",
        "#     polys = [log for log in single_iteration_log if len(log) == n]\n",
        "#     if len(polys) > 0:\n",
        "#       polymers_by_length.append(polys)\n",
        "#     else:\n",
        "#       polymers_by_length.append([])\n",
        "#   return polymers_by_length\n",
        "\n",
        "# def get_iter_ees_by_length(self,single_iter_log):\n",
        "#   polymers_by_length = self.get_iter_polymers_by_length(single_iter_log)\n",
        "#   for length_category in polymers_by_length:\n",
        "#     for polymer in length_category:\n",
        "#       ee = hist_get_polymer_ee(polymer)\n",
        "\n",
        "\n",
        "def parse_history(self):\n",
        "    \"\"\" Create an array of plottable information from the history log. \"\"\"\n",
        "\n",
        "    # Column labels for History Handling #\n",
        "    Type = \"Type\"                   # Monomer or polymer\n",
        "    Length = \"Length\"               # How many monomers in the thing\n",
        "    nLefts = \"#Lefts\"               # How many left monomers in the thing\n",
        "    nRights = \"#Rights\"             # How many right monomers in the thing\n",
        "    Sequence = \"Sequence\"           # The string sequence of the thing\n",
        "    nLhomo = \"#LeftHomochiral\"      # The number of left homochiral bonds in the polymer\n",
        "    nRhomo = \"#RightHomochiral\"     # The number of right homochiral bonds in the polymer\n",
        "    nHomo = \"#Homochiral\"           # The overall number of homochiral bonds in the polymer\n",
        "    sEE = \"Signed ee\"               # The signed enantiomeric excess of the polymer (+ if more True)\n",
        "    pcHomo = \"%Homochirality\"       # The proportion of bonds in the polymer that are homochiral\n",
        "    pcLhomo = \"%LeftHomochirality\"  # The proportion of bonds in the polymer that are left homochiral\n",
        "    pcRhomo = \"%RightHomochirality\" # The proportion of bonds in the polymer that are right homochiral\n",
        "    Iter = \"Iteration\"              # The iteration number at which the item is found\n",
        "\n",
        "    \n",
        "    history = self.get_history()\n",
        "    individual_stats = pd.DataFrame()\n",
        "    for n in range(len(history)):\n",
        "        iteration = history[n]\n",
        "        for item in iteration:\n",
        "            # Translate\n",
        "            sequence = self.standard_form(item)\n",
        "\n",
        "            if len(item) == 1: # It's a monomer\n",
        "                #Is it in the lookup table?\n",
        "                if sequence not in self.get_lookup():\n",
        "                    # Get the info\n",
        "                    lr = self.count_LR(item)\n",
        "                    # And put it in the lookup table\n",
        "                    self.add_stat_lookup(sequence, {Type: 'Monomer', \n",
        "                                                    Length:1, \n",
        "                                                    nLefts:lr[0], \n",
        "                                                    nRights:lr[1],\n",
        "                                                    Sequence:sequence})\n",
        "                # Now that the data is searchable...\n",
        "                # Log it  \n",
        "                new_log = self.get_lookup().get(sequence)\n",
        "                new_log[Iter]=n\n",
        "                individual_stats = individual_stats.append(new_log, ignore_index=True)\n",
        "\n",
        "            elif len(item) > 1: # It's a polymer\n",
        "                #Is it in the lookup table?\n",
        "                if sequence not in self.get_lookup():\n",
        "                    # Get basic info\n",
        "                    length = len(item)\n",
        "                    lr = self.count_LR(item)\n",
        "                    bonds = self.homochiral_bond_counts(item)\n",
        "                    total_homos = bonds[0]+bonds[1]\n",
        "                    signed_ee = (lr[0]-lr[1])/(lr[0]+lr[1])\n",
        "                    homochirality = total_homos/(length-1)\n",
        "                    lhomochirality = bonds[0]/(length-1)\n",
        "                    rhomochirality = bonds[1]/(length-1)\n",
        "                    # And put it in the lookup table\n",
        "                    self.add_stat_lookup(sequence, {Type: 'Polymer', \n",
        "                                                    Length: length, \n",
        "                                                    nLefts:lr[0], \n",
        "                                                    nRights:lr[1],\n",
        "                                                    nLhomo:bonds[0],\n",
        "                                                    nRhomo:bonds[1],\n",
        "                                                    nHomo:total_homos,\n",
        "                                                    sEE:signed_ee,\n",
        "                                                    pcHomo:homochirality,\n",
        "                                                    pcLhomo:lhomochirality,\n",
        "                                                    pcRhomo:rhomochirality,\n",
        "                                                    Sequence:sequence})\n",
        "                # Now that the data is searchable...\n",
        "                # Log it\n",
        "                new_log = self.get_lookup().get(sequence)\n",
        "                new_log[Iter]=n\n",
        "                individual_stats = individual_stats.append(new_log, ignore_index=True)\n",
        "                \n",
        "            else:\n",
        "                raise ValueError(\"There's something with length 0 in your history.\")\n",
        "    self.set_hist_stats(individual_stats)\n",
        "\n"
      ],
      "execution_count": null,
      "outputs": []
    },
    {
      "cell_type": "markdown",
      "metadata": {
        "id": "UkZ1_7xIy0Yd",
        "colab_type": "text"
      },
      "source": [
        "#### Low level info functions"
      ]
    },
    {
      "cell_type": "code",
      "metadata": {
        "id": "qJQfgfeSy5Me",
        "colab_type": "code",
        "colab": {}
      },
      "source": [
        "%%add_to Reactables\n",
        "\n",
        "## New ones ##\n",
        "\n",
        "  \n",
        "# Functions for getting the info we want to log\n",
        "    \n",
        "# Number of right and left monomers in a polymer (works on monomers too)\n",
        "\n",
        "\n",
        "def count_LR(self, log):\n",
        "    \"\"\" Return (n_Lefts, n_Rights) \"\"\"\n",
        "    if L and not R:\n",
        "        return (sum(log), len(log)-sum(log))\n",
        "    elif R and not L:\n",
        "        return (len(log)-sum(log), sum(log))\n",
        "    else:\n",
        "        raise ValueError(\"Your L's and R's are screwed up somehow.\")\n",
        "    \n",
        "\n",
        "\n",
        "# HOMOCHIRALITY SEQUENCES #\n",
        "\n",
        "def homochirality_sequence(self, log):\n",
        "  \"\"\" Return a boolean list of bonds within a given logged polymer, True if the bond is\n",
        "      homochiral. \"\"\"\n",
        "  return [i[0]==i[1] for i in list(more_itertools.pairwise(log))]\n",
        "\n",
        "def _is_L_True(self, log):\n",
        "    return log[:-1]\n",
        "\n",
        "\n",
        "def T_homochirality_sequence(self,h_seq,L_seq):\n",
        "    \"\"\" Return a boolean list of bonds within a polymer, true if the bond is \n",
        "    a homochiral bond between two True monomers. Parameters are the outputs of \n",
        "    homochirality_sequence() and _is_L_True(). \"\"\"\n",
        "    return eAnd(h_seq,L_seq)\n",
        "\n",
        "# HOMOCHIRAL BOND COUNTS #\n",
        "    \n",
        "\n",
        "def homochiral_bond_counts(self,log):\n",
        "    \"\"\" Return (number of left homochiral bonds, number of right homochiral bonds) \"\"\"\n",
        "    homo = self.homochirality_sequence(log)\n",
        "    west_true = log[:-1]\n",
        "    true_homochiral = eAnd(homo,west_true)\n",
        "    west_false = [not m for m in west_true]\n",
        "    false_homochiral = eAnd(homo,west_false)\n",
        "    if L and not R:\n",
        "        return (sum(true_homochiral), sum(false_homochiral))\n",
        "    elif R and not L: \n",
        "        return (sum(false_homochiral), sum(true_homochiral))\n",
        "    else:\n",
        "        raise ValueError(\"Your L's and R's are screwed up somehow.\")\n",
        "\n",
        "\n",
        "def get_polymer_chain_lengths(self,polylog):\n",
        "  \"\"\" Return the lengths of the homochiral chains in a given polymer log. \"\"\"\n",
        "  count = 1\n",
        "  lengths = [] \n",
        "  for n in range(1,len(polylog)):\n",
        "    if polylog[n] == polylog[n-1]:\n",
        "      count += 1\n",
        "    else:\n",
        "      lengths.append(count)\n",
        "      count = 1\n",
        "  lengths.append(count)\n",
        "  return lengths\n",
        "    \n",
        "\n",
        "def standard_form(self,poly):\n",
        "  if len(poly) == 0:\n",
        "    return ''\n",
        "  return ''.join(['L' if m else 'R' for m in poly])\n",
        "    \n",
        "\n",
        "\n",
        "\n",
        "## Old ones ##\n",
        "\n",
        "def hist_get_polymer_homochirality_of_bonds(self,polylog):\n",
        "  \"\"\" Return a boolean list of bonds within a given logged polymer, True if the bond is\n",
        "      homochiral. \"\"\"\n",
        "  return [i[0]==i[1] for i in list(more_itertools.pairwise(polylog))]\n",
        "\n",
        "def hist_get_polymer_ee(self,polylog):\n",
        "  \"\"\" Return the (signed) enantiomeric excess of a logged polymer. \"\"\"\n",
        "  length = len(polylog)\n",
        "  n_True = sum(polylog)\n",
        "  n_False = length - n_True\n",
        "  return (n_True - n_False) / length\n",
        "\n",
        "def hist_get_polymers(self,iteration):\n",
        "  \"\"\" Return a list of the polymer logs in an iteration. This is just the iteration\n",
        "  but without the monomers. \"\"\"\n",
        "  return [r for r in iteration if len(r) > 1]\n",
        "\n",
        "def hist_count_longest_homochiral_chain(self,polylog):\n",
        "  \"\"\" Return the length of the longest homochiral chain given the log of a polymer. \"\"\"\n",
        "  previous = None\n",
        "  count = 1\n",
        "  longest = 1\n",
        "  for monomer in polylog:\n",
        "    if monomer == previous:\n",
        "      count += 1\n",
        "    else:\n",
        "      longest = max(count, longest)\n",
        "      count = 1\n",
        "    previous = monomer\n",
        "  longest = max(count, longest)\n",
        "  return longest\n",
        "\n",
        "def hist_get_polymer_chain_lengths(self,polylog):\n",
        "  \"\"\" Return the lengths of the homochiral chains in a given polymer log. \"\"\"\n",
        "  count = 1\n",
        "  lengths = [] \n",
        "  for n in range(1,len(polylog)):\n",
        "    if polylog[n] == polylog[n-1]:\n",
        "      count += 1\n",
        "    else:\n",
        "      lengths.append(count)\n",
        "      count = 1\n",
        "  lengths.append(count)\n",
        "  return lengths\n",
        "\n",
        "def hist_get_iteration_chain_lengths(self,iteration):\n",
        "  \"\"\" Return the lengths of all the homochiral chains in polymers in a given iteration. \"\"\"\n",
        "  polymers = self.hist_get_polymers(iteration)\n",
        "  chain_lengths = []\n",
        "  for polymer in polymers:\n",
        "    chain_lengths.extend(self.hist_get_polymer_chain_lengths(polymer))\n",
        "  return chain_lengths\n",
        "\n",
        "# Other new ones #\n",
        "\n",
        "def hist_get_leftright_homochiral_count_iteration(self,iteration):\n",
        "  \"\"\"\n",
        "  returns a tuple (l,r)of the total number of left homochiral bonds and right homochiral bonds in an iteration \n",
        "  \"\"\"\n",
        "  #initilize l to keep track of the number of homochiral bonds\n",
        "  l=0\n",
        "  #initilize r to keep track of the number of homochiral bonds\n",
        "  r=0\n",
        "\n",
        "  #run through reactables in the iteration\n",
        "  for reactable in iteration:\n",
        "     #add the left homochiral bond count in each reactable\n",
        "     l += self.hist_get_leftright_homochiral_count_polymer(reactable)[0]\n",
        "     #add the right homochiral bond count in each reactable\n",
        "     r += self.hist_get_leftright_homochiral_count_polymer(reactable)[1]\n",
        "\n",
        "  #place l and r in a tuple\n",
        "  leftrightcount=(l,r)\n",
        "\n",
        "  #return the tuple\n",
        "  return leftrightcount\n",
        "\n",
        "def hist_get_leftright_homochiral_count_polymer(self,polymer):\n",
        "  \"\"\"\n",
        "  returns a tuple (l,r)of the total number of left homochiral bonds and right homochiral bonds in an polymer \n",
        "  \"\"\"\n",
        "\n",
        "  #initialize l to keep track of the number of left homochiral bonds\n",
        "  l=0\n",
        "  #initialize r to keep trac of the number of right homochiral bonds\n",
        "  r=0\n",
        "\n",
        "  #go through the monomers in the polymer\n",
        "  for monomer in range(len(polymer)-1):\n",
        "\n",
        "      #check if they are homochiral\n",
        "        if (polymer[monomer]== polymer[monomer+1]):\n",
        "          #if so check if they are homochiral left\n",
        "          if (polymer[monomer]):\n",
        "            #if so add one to l\n",
        "            l += 1\n",
        "          #otherwise check if they are homochiral right\n",
        "          elif (not polymer[monomer]):\n",
        "            #if so add one to r\n",
        "            r += 1\n",
        "  #place l and r in a tuple\n",
        "  leftrightcount= (l,r)\n",
        "  #return the tuple\n",
        "  return leftrightcount\n",
        "\n",
        "def hist_get_bond_status(self,polylog):\n",
        "  \"\"\" Iterate through the monomers in polylog ONCE to get number of left homochiral\n",
        "  and right homochiral bonds, as well as chain lengths if at all possible. \"\"\"\n",
        "  for m in polylog:\n",
        "    pass\n"
      ],
      "execution_count": null,
      "outputs": []
    },
    {
      "cell_type": "markdown",
      "metadata": {
        "id": "WdlB4JOXUq9i",
        "colab_type": "text"
      },
      "source": [
        "### Plotting methods"
      ]
    },
    {
      "cell_type": "code",
      "metadata": {
        "id": "czdjDAVBPpQI",
        "colab_type": "code",
        "colab": {}
      },
      "source": [
        "%%add_to Reactables\n",
        "\n",
        "def visualize_parameters(self,stamp=\"\"):\n",
        "  fig,ax = plt.subplots()\n",
        "\n",
        "  parameters = ['POOF_CHANCE','BOND_PROB','BASE_BOND_BREAK_PROBABILITY',\n",
        "                'HOMOCHIRAL_BREAK_FACTOR','HOMOCHIRAL_NEIGHBOR_IMPROV_FACTOR',\n",
        "                'LENGTH_FACTOR','HOMOCHIRAL_BREAK_FACTOR_LEFT',\n",
        "                'HOMOCHIRAL_BREAK_FACTOR_RIGHT',\n",
        "                'HOMOCHIRAL_NEIGHBOR_IMPROV_FACTOR_LEFT',\n",
        "                'HOMOCHIRAL_NEIGHBOR_IMPROV_FACTOR_RIGHT']\n",
        "  values = [POOF_CHANCE,BOND_PROB,BASE_BOND_BREAK_PROBABILITY,\n",
        "            HOMOCHIRAL_BREAK_FACTOR,HOMOCHIRAL_NEIGHBOR_IMPROV_FACTOR,\n",
        "            LENGTH_FACTOR,HOMOCHIRAL_BREAK_FACTOR_LEFT,\n",
        "            HOMOCHIRAL_BREAK_FACTOR_RIGHT,\n",
        "            HOMOCHIRAL_NEIGHBOR_IMPROV_FACTOR_LEFT,\n",
        "            HOMOCHIRAL_NEIGHBOR_IMPROV_FACTOR_RIGHT]\n",
        "\n",
        "  ypos = np.arange(len(parameters))\n",
        "\n",
        "  ax.barh(ypos, values, align='center')\n",
        "  ax.set_yticks(ypos)\n",
        "  ax.set_yticklabels(parameters)\n",
        "  ax.invert_yaxis()  # labels read top-to-bottom\n",
        "  ax.set_xlabel('Value')\n",
        "  ax.set_title(f\"{stamp}Parameter values\")\n",
        "\n",
        "\n",
        "\n",
        "def plot_signed_ee_spread(self,cmap='bone',stamp=\"\"):\n",
        "  #First make the polymerspread thingy\n",
        "  poly_ee_hist = []\n",
        "  for iteration in self.get_history():\n",
        "    polys = [log for log in iteration if not isinstance(log,bool)]\n",
        "    polydata = [log for log in polys if len(log) > 1] # All the polymers (not monomers) in the iteration\n",
        "    poly_ees = [self.hist_get_polymer_ee(poly) for poly in polydata] # the EE of each polymer in the iteration\n",
        "    poly_ee_hist.append(poly_ees) # Put the EE list in our plottable structure\n",
        "  #Now we can make the plot\n",
        "  fig,ax = plt.subplots()\n",
        "  ys = []\n",
        "  xs = []\n",
        "  for n in range(len(poly_ee_hist)):\n",
        "    y = poly_ee_hist[n]\n",
        "    x = [n] * len(y)\n",
        "    ys.extend(y)\n",
        "    xs.extend(x)\n",
        "  ax.hexbin(xs,ys,cmap=cmap)\n",
        "  ax.set_title(f\"{stamp}polymer spread\")\n",
        "  ax.set_xlabel(\"iteraions\")\n",
        "  ax.set_ylabel(\"ee\")\n",
        "\n",
        "def plot_ee_heatmap(self,cmap='bone',stamp=\"\"):\n",
        "  #Need to figure out how to get ees_by_length from history\n",
        "  ees_by_length = []\n",
        "  for iteration in self.get_history():\n",
        "    ee_data = []\n",
        "    #get the polymers\n",
        "    polys = [log for log in iteration if not isinstance(log,bool)]\n",
        "    #get the length of the longest polymer\n",
        "    lengths = [len(log) for log in polys]\n",
        "    try:\n",
        "      biggest = max(lengths)\n",
        "    except:\n",
        "      biggest = 0\n",
        "    for n in range(1,biggest+1):\n",
        "      ees = [abs(self.hist_get_polymer_ee(log)) for log in polys if len(log) == n]\n",
        "      if len(ees) > 0:\n",
        "        ee_data.append(np.mean(ees))\n",
        "      else:\n",
        "        ee_data.append(0)\n",
        "    ees_by_length.append(ee_data)\n",
        "  #Need to make a new ee array with rectangular dimensions\n",
        "  ee = numpy_fillna(ees_by_length)\n",
        "  fig,ax = plt.subplots(dpi=150)\n",
        "  im = ax.imshow(ee,cmap=cmap)\n",
        "  ax.set_title(f\"{stamp}ee of polymers by length through iterations\")\n",
        "  ax.set_xlabel(\"polymer lengths\")\n",
        "  ax.set_ylabel(\"iterations\")\n",
        "  fig.tight_layout()\n",
        "  plt.show()\n",
        "\n",
        "def plot_leftrighthomochirality(self):\n",
        "  \"\"\"\n",
        "  Plot the percent of bonds that are left homochiral and right homochiral in each iteration\n",
        "  \"\"\"\n",
        " #make list to hold the number of left bonds\n",
        "  L=[]\n",
        " #make list to hold the number of right bonds\n",
        "  R=[]\n",
        " #make list to hold the number of iteration\n",
        "  x=[]\n",
        " #integer to keep track of iterations\n",
        "  i=1\n",
        "\n",
        " #work through history of reactables bag\n",
        "  for iteration in self.get_history():\n",
        "\n",
        "    #get the left right homochiral count in the iteration(returned as a tuple)\n",
        "    leftrightcount=self.hist_get_leftright_homochiral_count_iteration(iteration)\n",
        "\n",
        "    #initiate bonds as 0 to keep track of total number of bonds in the iteration\n",
        "    bonds = 0\n",
        "\n",
        "    #work through the polymers in iteration\n",
        "    for polymer in self.hist_get_polymers(iteration):\n",
        "      #add all the bonds in the a polymer to the total number of bonds\n",
        "      bonds += len(polymer)- 1\n",
        "\n",
        "    #to avoid a divide by zero error\n",
        "    if bonds == 0:\n",
        "      #just append 0 to L and R\n",
        "      L.append(0)\n",
        "      R.append(0)\n",
        "    else: # append percent left homochiral bonds and percent which are right homochiral bonds\n",
        "      L.append(leftrightcount[0]/bonds)\n",
        "      R.append(leftrightcount[1]/bonds)\n",
        "    #append the iteration to x\n",
        "    x.append(i)\n",
        "    #increment the iteration tracker\n",
        "    i+=1\n",
        "  \n",
        "  #Plot the data\n",
        "  plt.figure() \n",
        "  plt.plot(x,L,label=\"left homochiral\")\n",
        "  plt.plot(x,R,label=\"right homochiral\")\n",
        "  plt.ylabel(\"percentage of total bonds in the pool\")\n",
        "  plt.xlabel(\"Iterations\")\n",
        "  plt.title(\"Peercent of bonds in an iteration that are left or right homochiral \")\n",
        "  plt.legend()\n",
        "  plt.show()\n",
        "\n",
        "def plot_homochiral_chain_lengths(self):\n",
        "  \"\"\" Plot a chart of the mean length of homochiral chains present at each iteration.\n",
        "  The plot generated will attempt to summarize the mean lengths of homochiral\n",
        "  chains within polymers across iterations. It will also attempt to visualize the \n",
        "  varience with continuous lines plotting the standard deviation around that mean.\n",
        "  \n",
        "  The x axis of the resulting plot is iterations, and the y axis is length of \n",
        "  the homochiral chains. Both of these are discrete categories, but the plot will\n",
        "  treat iterations as continuous to improve readability for large n.\n",
        "  \"\"\"\n",
        "  # Get the history and read it \n",
        "  history = self.get_history()\n",
        "  means = []\n",
        "  stdevs= []\n",
        "  maxes = []\n",
        "  for iteration in history:\n",
        "    # Get the chain lengths in that iteration\n",
        "    iter_data = self.hist_get_iteration_chain_lengths(iteration)\n",
        "    if iter_data == []:\n",
        "      means.append(0)\n",
        "      stdevs.append(0)\n",
        "      maxes.append(0)\n",
        "      print(\"this happened in this iteration???whyyyyyyyyyyyyy\")\n",
        "      print (iteration)\n",
        "      print (iter_data)\n",
        "    else:\n",
        "      means.append(np.mean(iter_data))\n",
        "      stdevs.append(np.std(iter_data))\n",
        "      maxes.append(max(iter_data))\n",
        "  # Plot those data\n",
        "  fig,ax = plt.subplots()\n",
        "  ax.fill_between(np.arange(0,len(means)), [m + s for m, s in zip(means, stdevs)],[m - s for m, s in zip(means, stdevs)], alpha=0.2, label = \"Means +- one standard deviation\")\n",
        "  ax.plot(means, 'k-', label = \"Mean homochiral chain length\")\n",
        "  ax.plot(maxes, 'b.', label = \"Max homochiral chain length\")\n",
        "  ax.set_xlabel(\"Iteration\")\n",
        "  ax.set_ylabel(\"Homochiral chain length\")\n",
        "  ax.legend()\n",
        "\n",
        "def plot_homochirality_vs_length(self):\n",
        "  \"\"\" Take all the polymers that ever existed in history and plot them on a\n",
        "  scatter plot of length vs homochirality. Homochirality is the percent of their\n",
        "  bonds that are homochiral. \"\"\"\n",
        "  #Get the history\n",
        "  history = self.get_history()\n",
        "  #Get the polymers\n",
        "  x = []\n",
        "  y = []\n",
        "  for i in history:\n",
        "    for p in self.hist_get_polymers(i):\n",
        "      homochirality = sum(self.hist_get_polymer_homochirality_of_bonds(p))/len(p)\n",
        "      x.append(len(p))\n",
        "      y.append(homochirality)\n",
        "  fig,ax = plt.subplots()\n",
        "  ax.scatter(x,y)\n",
        "  ax.set_xlabel(\"Polymer lengths\")\n",
        "  ax.set_ylabel(\"Homochirality\")\n",
        "\n",
        "def plot_age_vs_homochirality_leftright(self):\n",
        "  \"\"\"\n",
        "  Make a plot showing the age of a polymer vs the percent of its bonds that are \n",
        "  left homochiral(shown in negative numbers) and right homochiral\n",
        "\n",
        "  \"\"\"\n",
        "  #l is a list to hold the percent of bonds that are left homochiral in a polymer\n",
        "  l=[]\n",
        "  #r is a list to hold the percent of bonds that are right homochiral in a polymer\n",
        "  r=[]\n",
        "  #x is a list that holds the ages of the polymers\n",
        "  x=[]\n",
        "\n",
        "  #go through the age history in each iteration\n",
        "  for iteration in self.get_agehistory():\n",
        "    #go through each reactable in an iteration(only polymers are present in the age history)\n",
        "    for reactable in iteration:\n",
        "      #add age to the x\n",
        "      x.append(reactable)\n",
        "  #go through the general history\n",
        "  for iteration in self.get_history():\n",
        "    #go through the reactables in the iteration\n",
        "    for reactable in iteration:\n",
        "      #only look at the polymers\n",
        "      if len(reactable) > 1:\n",
        "        #get the number of left and number of right homochiral bonds in the polymer\n",
        "        leftrightcount = self.hist_get_leftright_homochiral_count_polymer(reactable)\n",
        "        #add the left and right count as a percentage of the total number of bonds in the reactable\n",
        "        l.append((leftrightcount[0])/(len(reactable)-1))\n",
        "        r.append(-1 * (leftrightcount[1])/(len(reactable)-1))\n",
        "  #Plot the data\n",
        "  plt.figure()\n",
        "  plt.scatter(x,l, label = \"left\")\n",
        "  plt.scatter(x,r, label=\"right\")\n",
        "  plt.xlabel(\"age\")\n",
        "  plt.ylabel(\"signed percent of bonds that are homochiral\")\n",
        "  plt.legend()\n",
        "  plt.show()\n",
        "\n",
        "def plot_age_vs_homochirality_ee(self):\n",
        "  \"\"\" \n",
        "  Make a plot of the ages of a polymer vs the homochirality of the reactable. No left right sensitivity\n",
        "  \"\"\"\n",
        "  #x keeps track of the ages of the polymers\n",
        "  x=[]\n",
        "  #y keeps track of the enantiomeric excess of the polymers\n",
        "  y=[]\n",
        "  #go through iteration of age history\n",
        "  for iteration in self.get_agehistory():\n",
        "    #go through every reactable in the iteration\n",
        "    for reactable in iteration:\n",
        "      #add age to the list\n",
        "      x.append(reactable)\n",
        "  #go through the general history\n",
        "  for iteration in self.get_history():\n",
        "    #go through the reactables in the iterations\n",
        "    for reactable in iteration:\n",
        "      #only go through the polymers\n",
        "      if len(reactable) > 1:\n",
        "        #append the enantiomeric excess of the polymer\n",
        "        y.append(abs(self.hist_get_polymer_ee(reactable)))\n",
        "  #plot the data\n",
        "  plt.figure()\n",
        "  plt.scatter(x,y)\n",
        "  plt.xlabel(\"age\")\n",
        "  plt.ylabel(\"polymer_ee\")\n",
        "  plt.show()\n",
        "\n",
        "def plot_age_vs_length(self):\n",
        "  \"\"\"\n",
        "  Make a plot of the age of a reactable vs the length of the total homochiral \n",
        "  chains vs and the total nonhomochiral chains in the molecule.\n",
        "  \"\"\"\n",
        "  plt.figure()\n",
        "  z =[]\n",
        "  #x keeps track of the ages of the reactables\n",
        "  x= []\n",
        "  y =[]\n",
        "  ages = self.get_agehistory()\n",
        "  #go through the iterations of the age history\n",
        "  for iteration in self.get_agehistory():\n",
        "    #go through the reactables in the iteration\n",
        "    for reactable in iteration:\n",
        "      #add the age of the reactable to the list\n",
        "      x.append(reactable)\n",
        "\n",
        "  #go through the iterations of the general history\n",
        "  for iteration in self.get_history():\n",
        "    #go through the reactables of the iteration\n",
        "    for reactable in iteration:\n",
        "      #only go through the polymers \n",
        "      if len(reactable) > 1 :\n",
        "        #get a list of the lengths of the homochiral chain lengths in the polymer\n",
        "        homochiralchainlengths =self.hist_get_polymer_chain_lengths(reactable)\n",
        "        #go through the chain lengths \n",
        "        for n in homochiralchainlengths: \n",
        "          #Remove those that are of length one or less\n",
        "          if n < 2:\n",
        "            homochiralchainlengths.remove(n) \n",
        "        \n",
        "        number =sum(homochiralchainlengths)/(len(reactable))\n",
        "       # y.append(len(reactable) - number)\n",
        "        z.append(number) \n",
        "  plt.figure()\n",
        " # plt.scatter(x,y, label= \"of reactable\") \n",
        "  plt.scatter(x,z)\n",
        "  plt.xlabel(\"age\")\n",
        "  plt.ylabel(\"percent homochiral chain\")\n",
        "  plt.show()\n",
        "\n",
        "def plot_homochiral_lengths_vs_poisson(self):\n",
        "  \"\"\"\n",
        "  This graph visualizes the frequency of homochiral chain lengths in the history of the reactable bag.\n",
        "  It graphs the frequency of different homochiral lengths in the bag vs the poisson distribution. \n",
        "  Do factor in liklihood that these  molecules will form, the frequencies are increased by a \n",
        "  factor of thenumber of bonds they have to account for the fact that having more bonds, is less likely. \n",
        "  \"\"\"\n",
        "  #create a dictionary to track the frequency of each length of a certain homochiral bond\n",
        "  lengths = {}\n",
        "  #x is a list of the lengths to go on the x axis\n",
        "  x=[]\n",
        "  #y is a frequency to go on y axis\n",
        "  y=[]\n",
        "  #p is to store values for a length\n",
        "  p=[]\n",
        "\n",
        "  #go through the iterations of general history\n",
        "  for iteration in self.get_history():\n",
        "    #go through the reactables of the iterations\n",
        "    for reactable in iteration:\n",
        "      #go through the polymers\n",
        "      if len(reactable) >1: \n",
        "        #if so return a list  of the lenghts of the homochiral chains in the polymer\n",
        "        for n in self.hist_get_polymer_chain_lengths(reactable):\n",
        "          #only include the lengths that are greater than one\n",
        "          if n > 1:\n",
        "            #if the length is already in the dictiionary\n",
        "            if n in lengths:\n",
        "            #add one to its frequnency\n",
        "              lengths[n] += 1\n",
        "            else:#otherwise add it to the dictionay with a frequency of occurence of 1\n",
        "              lengths[n] = 1\n",
        "    #go through all of the recorded lengths\n",
        "  for n in lengths:\n",
        "    #the raise the frequency of them to a factor of the number of bonds in them, to\n",
        "    #account for the decreased liklihood of occuring as the length increases that does not\n",
        "    #have to do with homochirality\n",
        "    number = (lengths[n]/len(self.get_history()))**((n/2)-1)\n",
        "    #add the recalculated frequencied to the dictionaru\n",
        "    lengths[n] = number\n",
        "    #append the frequency to the y\n",
        "    y.append(lengths[n])\n",
        "    #append the lenght to x\n",
        "    x.append(n)\n",
        "    #plot the data\n",
        "  plt.figure()\n",
        "  #plot x and y together before sorting x\n",
        "  plt.bar(x,y, label = \"Homichiral lengths\")\n",
        "  #sort x so that it is in numerical order\n",
        "  x.sort()\n",
        "  #go through the lengths stored in x and calculate the poisson value for the length\n",
        "  #and append this to list p \n",
        "  #multiply the values by 1000 so that they appear nicely on graph with frequencies\n",
        "  for n in x:\n",
        "    p.append(1000* poissonequation(n))\n",
        "  #plot x vs p\n",
        "  plt.plot(x,p,label = \"poisson equation\", color = 'orange')\n",
        "  plt.xlabel(\"length\")\n",
        "  plt.ylabel(\"frequency\")\n",
        "  plt.title(\"Lambda =\" + str(LAMBDA))\n",
        "  plt.legend()\n",
        "  plt.show()\n",
        "\n",
        "\n",
        "        \n",
        "\n",
        "\n",
        "\n",
        "    \n",
        "\n",
        "\n",
        "  \n"
      ],
      "execution_count": null,
      "outputs": []
    },
    {
      "cell_type": "markdown",
      "metadata": {
        "id": "DdqK65C-8cpi",
        "colab_type": "text"
      },
      "source": [
        "## Test program"
      ]
    },
    {
      "cell_type": "code",
      "metadata": {
        "id": "MelavdvZ8ptf",
        "colab_type": "code",
        "colab": {
          "base_uri": "https://localhost:8080/",
          "height": 1000
        },
        "outputId": "5af85ab1-275a-4eb5-fbba-f328d8f2aaf5"
      },
      "source": [
        "import time\n",
        "\n",
        "POOL_SIZE = 100\n",
        "ITERATIONS = 100\n",
        "\n",
        "time1 = time.time()\n",
        "a = Reactables(make_pool(POOL_SIZE))\n",
        "\n",
        "print(\"Running.............|\\n\", end=\"\")\n",
        "\n",
        "monomercounts = []\n",
        "\n",
        "\n",
        "\n",
        "for n in range(ITERATIONS):\n",
        "  a.iterate(POOL_SIZE)\n",
        "  monomercounts.append(len(a.get_free_monomers())+len(a.get_bound_monomers()))\n",
        "  if n % (ITERATIONS / 10) == 0:\n",
        "    print(\"##\",end=\"\")\n",
        "\n",
        "print(\"\\nDone.\")\n",
        "\n",
        "time2 = time.time()\n",
        "runduration = time2-time1\n",
        "print(f\"The simulation took {runduration} seconds.\")\n",
        "\n",
        "a.parse_history()\n",
        "\n",
        "stats = a.get_stats()\n",
        "\n",
        "time3 = time.time()\n",
        "statduration = time3 - time2\n",
        "print(f\"Parsing the history took {statduration} seconds.\")\n",
        "\n",
        "plots = [\"parameters\",\"polymer ee spread\",\"polyspread plotly\",\"ee heatmap\",\"leftright chirality\",\n",
        "         \"homochiral chain lengths\", \"homochirality vs length\",\"leftright Homochirality vs age\",\"Homochirality vs age\", \n",
        "         \"Homochiral chain length vs age\",\"Homochiral length frequency against poisson\"]\n",
        "tb = widgets.TabBar(plots)\n",
        "\n",
        "with tb.output_to(\"parameters\"):\n",
        "  a.visualize_parameters()\n",
        "\n",
        "with tb.output_to(\"polymer ee spread\"):\n",
        "  a.plot_signed_ee_spread()\n",
        "\n",
        "with tb.output_to(\"polyspread plotly\"):\n",
        "  df = stats\n",
        "  # HAHAHAHAHAHAHAHAHAHAHAHHAHAHHAHHAHA!!!!!\n",
        "  # I'm so good.\n",
        "  counts = df.groupby(\"Iteration\")['Signed ee'].value_counts().reset_index(name='count')\n",
        "  fig = px.scatter(counts, x=\"Iteration\", y=\"Signed ee\", size='count')\n",
        "  fig.show()\n",
        "\n",
        "with tb.output_to(\"ee heatmap\"):\n",
        "  a.plot_ee_heatmap()\n",
        "\n",
        "with tb.output_to(\"leftright chirality\"):\n",
        "  a.plot_leftrighthomochirality()\n",
        "\n",
        "with tb.output_to(\"homochiral chain lengths\"):\n",
        "  a.plot_homochiral_chain_lengths()\n",
        "\n",
        "with tb.output_to(\"homochirality vs length\"):\n",
        "  a.plot_homochirality_vs_length()\n",
        "\n",
        "with tb.output_to(\"leftright Homochirality vs age\"):\n",
        "  a.plot_age_vs_homochirality_leftright()\n",
        "\n",
        "with tb.output_to(\"Homochirality vs age\"):\n",
        "  a.plot_age_vs_homochirality_ee()\n",
        "\n",
        "with tb.output_to(\"Homochiral chain length vs age\"):\n",
        "  a.plot_age_vs_length()\n",
        "\n",
        "with tb.output_to(\"Homochiral length frequency against poisson\"):\n",
        "  a.plot_homochiral_lengths_vs_poisson()\n",
        "\n",
        "time4 = time.time()\n",
        "plottingduration = time4 - time3\n",
        "print(f\"Plotting took {plottingduration} seconds.\")\n"
      ],
      "execution_count": null,
      "outputs": [
        {
          "output_type": "stream",
          "text": [
            "Running.............|\n",
            "####################\n",
            "Done.\n",
            "The simulation took 0.4351658821105957 seconds.\n",
            "Parsing the history took 61.75309491157532 seconds.\n"
          ],
          "name": "stdout"
        },
        {
          "output_type": "display_data",
          "data": {
            "text/html": [
              "<link rel=stylesheet type=text/css href='/nbextensions/google.colab/tabbar.css'></link>"
            ],
            "text/plain": [
              "<IPython.core.display.HTML object>"
            ]
          },
          "metadata": {
            "tags": [
              "outputarea_id2"
            ]
          }
        },
        {
          "output_type": "display_data",
          "data": {
            "text/html": [
              "<script src='/nbextensions/google.colab/tabbar_main.min.js'></script>"
            ],
            "text/plain": [
              "<IPython.core.display.HTML object>"
            ]
          },
          "metadata": {
            "tags": [
              "outputarea_id2"
            ]
          }
        },
        {
          "output_type": "display_data",
          "data": {
            "text/html": [
              "<div id=\"id2\"></div>"
            ],
            "text/plain": [
              "<IPython.core.display.HTML object>"
            ]
          },
          "metadata": {
            "tags": [
              "outputarea_id2"
            ]
          }
        },
        {
          "output_type": "display_data",
          "data": {
            "application/javascript": [
              "window[\"cf856598-bbaf-11ea-974d-0242ac1c0002\"] = colab_lib.createTabBar({\"location\": \"top\", \"elementId\": \"id2\", \"tabNames\": [\"parameters\", \"polymer ee spread\", \"polyspread plotly\", \"ee heatmap\", \"leftright chirality\", \"homochiral chain lengths\", \"homochirality vs length\", \"leftright Homochirality vs age\", \"Homochirality vs age\", \"Homochiral chain length vs age\", \"Homochiral length frequency against poisson\"], \"initialSelection\": 0, \"contentBorder\": [\"0px\"], \"contentHeight\": [\"initial\"], \"borderColor\": [\"#a7a7a7\"]});\n",
              "//# sourceURL=js_dd9b09feb5"
            ],
            "text/plain": [
              "<IPython.core.display.Javascript object>"
            ]
          },
          "metadata": {
            "tags": [
              "outputarea_id2"
            ]
          }
        },
        {
          "output_type": "display_data",
          "data": {
            "application/javascript": [
              "window[\"cf85a95e-bbaf-11ea-974d-0242ac1c0002\"] = window[\"id2\"].setSelectedTabIndex(0);\n",
              "//# sourceURL=js_bfb3a6d726"
            ],
            "text/plain": [
              "<IPython.core.display.Javascript object>"
            ]
          },
          "metadata": {
            "tags": [
              "outputarea_id2"
            ]
          }
        },
        {
          "output_type": "display_data",
          "data": {
            "application/javascript": [
              "window[\"cf872806-bbaf-11ea-974d-0242ac1c0002\"] = google.colab.output.getActiveOutputArea();\n",
              "//# sourceURL=js_f7a225cdce"
            ],
            "text/plain": [
              "<IPython.core.display.Javascript object>"
            ]
          },
          "metadata": {
            "tags": [
              "id2_content_0",
              "outputarea_id2"
            ]
          }
        },
        {
          "output_type": "display_data",
          "data": {
            "application/javascript": [
              "window[\"cf8776da-bbaf-11ea-974d-0242ac1c0002\"] = document.querySelector(\"#id2_content_0\");\n",
              "//# sourceURL=js_518781004d"
            ],
            "text/plain": [
              "<IPython.core.display.Javascript object>"
            ]
          },
          "metadata": {
            "tags": [
              "id2_content_0",
              "outputarea_id2"
            ]
          }
        },
        {
          "output_type": "display_data",
          "data": {
            "application/javascript": [
              "window[\"cf87c216-bbaf-11ea-974d-0242ac1c0002\"] = google.colab.output.setActiveOutputArea(window[\"cf8776da-bbaf-11ea-974d-0242ac1c0002\"]);\n",
              "//# sourceURL=js_d0a286d054"
            ],
            "text/plain": [
              "<IPython.core.display.Javascript object>"
            ]
          },
          "metadata": {
            "tags": [
              "id2_content_0",
              "outputarea_id2"
            ]
          }
        },
        {
          "output_type": "display_data",
          "data": {
            "application/javascript": [
              "window[\"cf883d0e-bbaf-11ea-974d-0242ac1c0002\"] = window[\"id2\"].setSelectedTabIndex(0);\n",
              "//# sourceURL=js_329dd5e6e4"
            ],
            "text/plain": [
              "<IPython.core.display.Javascript object>"
            ]
          },
          "metadata": {
            "tags": [
              "id2_content_0",
              "outputarea_id2"
            ]
          }
        },
        {
          "output_type": "display_data",
          "data": {
            "image/png": "[encoded data removed]",
            "text/plain": [
              "<Figure size 432x288 with 1 Axes>"
            ]
          },
          "metadata": {
            "tags": [
              "id2_content_0",
              "outputarea_id2",
              "user_output"
            ],
            "needs_background": "light"
          }
        },
        {
          "output_type": "display_data",
          "data": {
            "application/javascript": [
              "window[\"cfa5d0a8-bbaf-11ea-974d-0242ac1c0002\"] = google.colab.output.setActiveOutputArea(window[\"cf872806-bbaf-11ea-974d-0242ac1c0002\"]);\n",
              "//# sourceURL=js_6351d1cd44"
            ],
            "text/plain": [
              "<IPython.core.display.Javascript object>"
            ]
          },
          "metadata": {
            "tags": [
              "id2_content_0",
              "outputarea_id2"
            ]
          }
        },
        {
          "output_type": "display_data",
          "data": {
            "application/javascript": [
              "window[\"cfa8024c-bbaf-11ea-974d-0242ac1c0002\"] = google.colab.output.getActiveOutputArea();\n",
              "//# sourceURL=js_9217bd2a5f"
            ],
            "text/plain": [
              "<IPython.core.display.Javascript object>"
            ]
          },
          "metadata": {
            "tags": [
              "id2_content_1",
              "outputarea_id2"
            ]
          }
        },
        {
          "output_type": "display_data",
          "data": {
            "application/javascript": [
              "window[\"cfa85f6c-bbaf-11ea-974d-0242ac1c0002\"] = document.querySelector(\"#id2_content_1\");\n",
              "//# sourceURL=js_1cba0b2382"
            ],
            "text/plain": [
              "<IPython.core.display.Javascript object>"
            ]
          },
          "metadata": {
            "tags": [
              "id2_content_1",
              "outputarea_id2"
            ]
          }
        },
        {
          "output_type": "display_data",
          "data": {
            "application/javascript": [
              "window[\"cfa8b426-bbaf-11ea-974d-0242ac1c0002\"] = google.colab.output.setActiveOutputArea(window[\"cfa85f6c-bbaf-11ea-974d-0242ac1c0002\"]);\n",
              "//# sourceURL=js_4fc2b4f5c6"
            ],
            "text/plain": [
              "<IPython.core.display.Javascript object>"
            ]
          },
          "metadata": {
            "tags": [
              "id2_content_1",
              "outputarea_id2"
            ]
          }
        },
        {
          "output_type": "display_data",
          "data": {
            "application/javascript": [
              "window[\"cfa9332e-bbaf-11ea-974d-0242ac1c0002\"] = window[\"id2\"].setSelectedTabIndex(1);\n",
              "//# sourceURL=js_d0716d6c74"
            ],
            "text/plain": [
              "<IPython.core.display.Javascript object>"
            ]
          },
          "metadata": {
            "tags": [
              "id2_content_1",
              "outputarea_id2"
            ]
          }
        },
        {
          "output_type": "display_data",
          "data": {
            "image/png": "[encoded data removed]",
            "text/plain": [
              "<Figure size 432x288 with 1 Axes>"
            ]
          },
          "metadata": {
            "tags": [
              "id2_content_1",
              "outputarea_id2",
              "user_output"
            ],
            "needs_background": "light"
          }
        },
        {
          "output_type": "display_data",
          "data": {
            "application/javascript": [
              "window[\"cfd16826-bbaf-11ea-974d-0242ac1c0002\"] = google.colab.output.setActiveOutputArea(window[\"cfa8024c-bbaf-11ea-974d-0242ac1c0002\"]);\n",
              "//# sourceURL=js_34ffdcbde5"
            ],
            "text/plain": [
              "<IPython.core.display.Javascript object>"
            ]
          },
          "metadata": {
            "tags": [
              "id2_content_1",
              "outputarea_id2"
            ]
          }
        },
        {
          "output_type": "display_data",
          "data": {
            "application/javascript": [
              "window[\"cfd2fefc-bbaf-11ea-974d-0242ac1c0002\"] = google.colab.output.getActiveOutputArea();\n",
              "//# sourceURL=js_aac686fccf"
            ],
            "text/plain": [
              "<IPython.core.display.Javascript object>"
            ]
          },
          "metadata": {
            "tags": [
              "id2_content_2",
              "outputarea_id2"
            ]
          }
        },
        {
          "output_type": "display_data",
          "data": {
            "application/javascript": [
              "window[\"cfd33bd8-bbaf-11ea-974d-0242ac1c0002\"] = document.querySelector(\"#id2_content_2\");\n",
              "//# sourceURL=js_073f4dcc1e"
            ],
            "text/plain": [
              "<IPython.core.display.Javascript object>"
            ]
          },
          "metadata": {
            "tags": [
              "id2_content_2",
              "outputarea_id2"
            ]
          }
        },
        {
          "output_type": "display_data",
          "data": {
            "application/javascript": [
              "window[\"cfd37904-bbaf-11ea-974d-0242ac1c0002\"] = google.colab.output.setActiveOutputArea(window[\"cfd33bd8-bbaf-11ea-974d-0242ac1c0002\"]);\n",
              "//# sourceURL=js_887a29728e"
            ],
            "text/plain": [
              "<IPython.core.display.Javascript object>"
            ]
          },
          "metadata": {
            "tags": [
              "id2_content_2",
              "outputarea_id2"
            ]
          }
        },
        {
          "output_type": "display_data",
          "data": {
            "application/javascript": [
              "window[\"cfd3ad3e-bbaf-11ea-974d-0242ac1c0002\"] = window[\"id2\"].setSelectedTabIndex(2);\n",
              "//# sourceURL=js_f8f88da27d"
            ],
            "text/plain": [
              "<IPython.core.display.Javascript object>"
            ]
          },
          "metadata": {
            "tags": [
              "id2_content_2",
              "outputarea_id2"
            ]
          }
        },
        {
          "output_type": "display_data",
          "data": {
            "text/html": [
              "<html>\n",
              "<head><meta charset=\"utf-8\" /></head>\n",
              "<body>\n",
              "    <div>\n",
              "            <script src=\"https://cdnjs.cloudflare.com/ajax/libs/mathjax/2.7.5/MathJax.js?config=TeX-AMS-MML_SVG\"></script><script type=\"text/javascript\">if (window.MathJax) {MathJax.Hub.Config({SVG: {font: \"STIX-Web\"}});}</script>\n",
              "                <script type=\"text/javascript\">window.PlotlyConfig = {MathJaxConfig: 'local'};</script>\n",
              "        <script src=\"https://cdn.plot.ly/plotly-latest.min.js\"></script>    \n",
              "            <div id=\"776f1c68-b311-4b68-a495-699e5ff5f80d\" class=\"plotly-graph-div\" style=\"height:525px; width:100%;\"></div>\n",
              "            <script type=\"text/javascript\">\n",
              "                \n",
              "                    window.PLOTLYENV=window.PLOTLYENV || {};\n",
              "                    \n",
              "                if (document.getElementById(\"776f1c68-b311-4b68-a495-699e5ff5f80d\")) {\n",
              "                    Plotly.newPlot(\n",
              "                        '776f1c68-b311-4b68-a495-699e5ff5f80d',\n",
              "                        [{\"hoverlabel\": {\"namelength\": 0}, \"hovertemplate\": \"Iteration=%{x}<br>Signed ee=%{y}<br>count=%{marker.size}\", \"legendgroup\": \"\", \"marker\": {\"color\": \"#636efa\", \"size\": [10, 5, 1, 10, 3, 3, 3, 2, 1, 8, 4, 4, 2, 2, 1, 1, 1, 10, 5, 5, 1, 1, 1, 1, 1, 1, 1, 1, 8, 4, 4, 4, 3, 2, 2, 6, 4, 3, 3, 3, 3, 1, 1, 1, 1, 1, 12, 4, 2, 2, 2, 1, 1, 1, 1, 1, 1, 6, 5, 3, 3, 3, 3, 2, 1, 1, 1, 1, 11, 5, 3, 2, 2, 2, 1, 1, 1, 1, 1, 7, 3, 2, 2, 2, 1, 1, 1, 1, 1, 1, 1, 1, 1, 1, 3, 2, 2, 2, 2, 2, 2, 1, 1, 1, 1, 1, 1, 1, 1, 1, 12, 4, 4, 2, 2, 1, 1, 1, 1, 1, 1, 1, 1, 1, 4, 3, 3, 2, 2, 2, 2, 1, 1, 1, 1, 1, 1, 1, 1, 7, 3, 3, 3, 3, 2, 1, 1, 1, 1, 1, 1, 1, 1, 1, 8, 3, 2, 1, 1, 1, 1, 1, 1, 1, 1, 1, 1, 1, 1, 1, 1, 5, 4, 3, 2, 2, 1, 1, 1, 1, 1, 1, 1, 1, 1, 1, 1, 5, 3, 3, 2, 1, 1, 1, 1, 1, 1, 1, 1, 1, 1, 1, 1, 1, 7, 4, 3, 2, 2, 1, 1, 1, 1, 1, 1, 1, 1, 1, 1, 1, 1, 1, 8, 7, 4, 4, 1, 1, 1, 1, 1, 1, 1, 1, 1, 1, 1, 5, 4, 2, 2, 2, 1, 1, 1, 1, 1, 1, 1, 1, 1, 1, 1, 1, 1, 1, 5, 4, 4, 4, 3, 2, 2, 1, 1, 1, 1, 1, 1, 1, 6, 4, 3, 3, 3, 2, 1, 1, 1, 1, 1, 1, 1, 1, 4, 4, 3, 3, 2, 2, 1, 1, 1, 1, 1, 1, 1, 1, 1, 1, 9, 4, 2, 2, 2, 1, 1, 1, 1, 1, 1, 1, 1, 1, 1, 1, 5, 3, 3, 2, 2, 1, 1, 1, 1, 1, 1, 1, 1, 1, 1, 1, 1, 7, 5, 3, 2, 2, 2, 1, 1, 1, 1, 1, 1, 1, 1, 1, 1, 4, 4, 3, 3, 2, 2, 2, 1, 1, 1, 1, 1, 1, 1, 1, 1, 9, 4, 4, 2, 2, 2, 1, 1, 1, 1, 1, 1, 1, 1, 1, 1, 6, 5, 3, 3, 1, 1, 1, 1, 1, 1, 1, 1, 1, 1, 1, 1, 1, 10, 4, 2, 1, 1, 1, 1, 1, 1, 1, 1, 1, 1, 1, 1, 7, 6, 3, 2, 1, 1, 1, 1, 1, 1, 1, 1, 1, 7, 3, 3, 3, 2, 1, 1, 1, 1, 1, 1, 1, 1, 1, 5, 3, 2, 2, 2, 2, 1, 1, 1, 1, 1, 1, 1, 1, 1, 1, 1, 1, 1, 11, 5, 3, 2, 1, 1, 1, 1, 1, 1, 1, 1, 1, 1, 1, 5, 4, 2, 2, 2, 2, 2, 1, 1, 1, 1, 1, 1, 1, 1, 11, 6, 2, 2, 1, 1, 1, 1, 1, 1, 1, 1, 1, 1, 7, 6, 3, 2, 1, 1, 1, 1, 1, 1, 1, 1, 1, 1, 1, 1, 1, 1, 12, 5, 2, 2, 2, 2, 1, 1, 1, 1, 1, 1, 1, 1, 1, 8, 3, 3, 2, 1, 1, 1, 1, 1, 1, 1, 1, 1, 1, 1, 1, 1, 7, 3, 3, 2, 1, 1, 1, 1, 1, 1, 1, 1, 1, 1, 1, 1, 5, 4, 3, 2, 1, 1, 1, 1, 1, 1, 1, 1, 1, 1, 1, 1, 4, 3, 3, 2, 2, 2, 1, 1, 1, 1, 1, 1, 1, 1, 1, 7, 7, 4, 2, 2, 1, 1, 1, 1, 1, 1, 1, 1, 1, 1, 1, 1, 1, 4, 4, 3, 2, 2, 2, 1, 1, 1, 1, 1, 1, 1, 1, 1, 1, 1, 1, 8, 5, 1, 1, 1, 1, 1, 1, 1, 1, 1, 1, 1, 1, 1, 1, 1, 1, 4, 3, 3, 3, 2, 2, 1, 1, 1, 1, 1, 1, 1, 1, 1, 1, 10, 3, 2, 2, 1, 1, 1, 1, 1, 1, 1, 1, 1, 1, 1, 1, 1, 1, 4, 3, 3, 2, 2, 2, 2, 1, 1, 1, 1, 1, 1, 1, 1, 1, 9, 2, 2, 1, 1, 1, 1, 1, 1, 1, 1, 1, 1, 1, 1, 1, 1, 5, 4, 4, 3, 2, 1, 1, 1, 1, 1, 1, 1, 1, 1, 1, 1, 1, 1, 1, 9, 3, 2, 1, 1, 1, 1, 1, 1, 1, 1, 1, 1, 1, 1, 1, 1, 8, 3, 3, 2, 2, 1, 1, 1, 1, 1, 1, 1, 1, 1, 1, 1, 1, 1, 10, 3, 3, 2, 1, 1, 1, 1, 1, 1, 1, 1, 1, 1, 1, 1, 4, 3, 3, 2, 2, 1, 1, 1, 1, 1, 1, 1, 1, 1, 1, 1, 1, 1, 11, 2, 2, 2, 1, 1, 1, 1, 1, 1, 1, 1, 1, 1, 1, 9, 3, 3, 2, 1, 1, 1, 1, 1, 1, 1, 1, 1, 1, 1, 1, 1, 1, 6, 4, 3, 3, 2, 1, 1, 1, 1, 1, 1, 1, 1, 1, 1, 1, 1, 1, 1, 9, 2, 2, 2, 1, 1, 1, 1, 1, 1, 1, 1, 1, 1, 1, 1, 1, 1, 1, 5, 4, 3, 2, 1, 1, 1, 1, 1, 1, 1, 1, 1, 1, 1, 1, 1, 7, 5, 3, 2, 2, 1, 1, 1, 1, 1, 1, 1, 1, 1, 1, 1, 1, 1, 1, 8, 4, 3, 2, 1, 1, 1, 1, 1, 1, 1, 1, 1, 1, 1, 1, 1, 6, 5, 3, 2, 2, 2, 2, 1, 1, 1, 1, 1, 1, 1, 1, 1, 10, 4, 2, 2, 1, 1, 1, 1, 1, 1, 1, 1, 1, 1, 1, 10, 3, 3, 2, 2, 2, 1, 1, 1, 1, 1, 1, 1, 1, 1, 4, 3, 3, 2, 2, 2, 2, 1, 1, 1, 1, 1, 1, 1, 1, 1, 1, 1, 1, 7, 4, 3, 2, 2, 2, 1, 1, 1, 1, 1, 1, 1, 1, 1, 1, 6, 2, 2, 2, 2, 1, 1, 1, 1, 1, 1, 1, 1, 1, 1, 1, 1, 1, 6, 3, 3, 2, 1, 1, 1, 1, 1, 1, 1, 1, 1, 1, 1, 1, 1, 1, 1, 4, 3, 3, 2, 2, 2, 1, 1, 1, 1, 1, 1, 1, 1, 1, 1, 1, 1, 7, 4, 3, 2, 1, 1, 1, 1, 1, 1, 1, 1, 1, 1, 1, 4, 3, 3, 2, 2, 2, 2, 1, 1, 1, 1, 1, 1, 1, 1, 1, 1, 7, 6, 3, 1, 1, 1, 1, 1, 1, 1, 1, 1, 1, 1, 1, 1, 1, 8, 3, 2, 2, 1, 1, 1, 1, 1, 1, 1, 1, 1, 1, 1, 1, 1, 1, 4, 4, 2, 2, 2, 1, 1, 1, 1, 1, 1, 1, 1, 1, 1, 1, 1, 1, 1, 1, 7, 3, 3, 2, 2, 1, 1, 1, 1, 1, 1, 1, 1, 1, 1, 1, 1, 1, 1, 1, 6, 4, 4, 2, 2, 1, 1, 1, 1, 1, 1, 1, 1, 1, 1, 1, 1, 1, 5, 4, 3, 2, 1, 1, 1, 1, 1, 1, 1, 1, 1, 1, 1, 1, 1, 1, 1, 6, 2, 2, 2, 2, 1, 1, 1, 1, 1, 1, 1, 1, 1, 1, 1, 1, 8, 4, 3, 2, 1, 1, 1, 1, 1, 1, 1, 1, 1, 1, 1, 1, 1, 1, 8, 3, 2, 2, 1, 1, 1, 1, 1, 1, 1, 1, 1, 1, 1, 1, 1, 1, 1, 8, 4, 3, 3, 2, 1, 1, 1, 1, 1, 1, 1, 1, 1, 1, 1, 1, 5, 4, 3, 2, 1, 1, 1, 1, 1, 1, 1, 1, 1, 1, 10, 1, 1, 1, 1, 1, 1, 1, 1, 1, 1, 1, 1, 1, 1, 1, 1, 1, 4, 4, 2, 1, 1, 1, 1, 1, 1, 1, 1, 1, 1, 1, 1, 8, 3, 1, 1, 1, 1, 1, 1, 1, 1, 1, 1, 1, 1, 1, 7, 4, 2, 2, 2, 1, 1, 1, 1, 1, 1, 1, 1, 1, 1, 6, 2, 2, 2, 2, 1, 1, 1, 1, 1, 1, 1, 1, 1, 6, 3, 3, 2, 2, 1, 1, 1, 1, 1, 1, 1, 1, 7, 6, 2, 2, 2, 1, 1, 1, 1, 1, 1, 1, 9, 3, 3, 1, 1, 1, 1, 1, 1, 1, 1, 1, 1, 1, 1, 8, 3, 3, 2, 1, 1, 1, 1, 1, 1, 1, 1, 1, 1, 1, 1, 1, 6, 3, 3, 2, 1, 1, 1, 1, 1, 1, 1, 1, 1, 1, 1, 1, 4, 2, 2, 2, 2, 1, 1, 1, 1, 1, 1, 1, 1, 1, 1, 1, 1, 6, 4, 4, 3, 1, 1, 1, 1, 1, 1, 1, 1, 1, 1, 1, 1, 4, 3, 3, 2, 2, 2, 2, 1, 1, 1, 1, 1, 1, 1, 1, 1, 1, 9, 4, 2, 2, 2, 1, 1, 1, 1, 1, 1, 1, 1, 1, 1, 1, 1, 5, 4, 4, 3, 1, 1, 1, 1, 1, 1, 1, 1, 1, 1, 1, 1, 7, 1, 1, 1, 1, 1, 1, 1, 1, 1, 1, 1, 1, 1, 1, 1, 1, 1, 1, 1, 1, 7, 2, 2, 2, 1, 1, 1, 1, 1, 1, 1, 1, 1, 1, 1, 1, 1, 8, 5, 2, 1, 1, 1, 1, 1, 1, 1, 1, 1, 1, 1], \"sizemode\": \"area\", \"sizeref\": 0.03, \"symbol\": \"circle\"}, \"mode\": \"markers\", \"name\": \"\", \"showlegend\": false, \"type\": \"scattergl\", \"x\": [0.0, 0.0, 0.0, 1.0, 1.0, 1.0, 1.0, 1.0, 1.0, 2.0, 2.0, 2.0, 2.0, 2.0, 2.0, 2.0, 2.0, 3.0, 3.0, 3.0, 3.0, 3.0, 3.0, 3.0, 3.0, 3.0, 3.0, 3.0, 4.0, 4.0, 4.0, 4.0, 4.0, 4.0, 4.0, 5.0, 5.0, 5.0, 5.0, 5.0, 5.0, 5.0, 5.0, 5.0, 5.0, 5.0, 6.0, 6.0, 6.0, 6.0, 6.0, 6.0, 6.0, 6.0, 6.0, 6.0, 6.0, 7.0, 7.0, 7.0, 7.0, 7.0, 7.0, 7.0, 7.0, 7.0, 7.0, 7.0, 8.0, 8.0, 8.0, 8.0, 8.0, 8.0, 8.0, 8.0, 8.0, 8.0, 8.0, 9.0, 9.0, 9.0, 9.0, 9.0, 9.0, 9.0, 9.0, 9.0, 9.0, 9.0, 9.0, 9.0, 9.0, 9.0, 10.0, 10.0, 10.0, 10.0, 10.0, 10.0, 10.0, 10.0, 10.0, 10.0, 10.0, 10.0, 10.0, 10.0, 10.0, 10.0, 11.0, 11.0, 11.0, 11.0, 11.0, 11.0, 11.0, 11.0, 11.0, 11.0, 11.0, 11.0, 11.0, 11.0, 12.0, 12.0, 12.0, 12.0, 12.0, 12.0, 12.0, 12.0, 12.0, 12.0, 12.0, 12.0, 12.0, 12.0, 12.0, 13.0, 13.0, 13.0, 13.0, 13.0, 13.0, 13.0, 13.0, 13.0, 13.0, 13.0, 13.0, 13.0, 13.0, 13.0, 14.0, 14.0, 14.0, 14.0, 14.0, 14.0, 14.0, 14.0, 14.0, 14.0, 14.0, 14.0, 14.0, 14.0, 14.0, 14.0, 14.0, 15.0, 15.0, 15.0, 15.0, 15.0, 15.0, 15.0, 15.0, 15.0, 15.0, 15.0, 15.0, 15.0, 15.0, 15.0, 15.0, 16.0, 16.0, 16.0, 16.0, 16.0, 16.0, 16.0, 16.0, 16.0, 16.0, 16.0, 16.0, 16.0, 16.0, 16.0, 16.0, 16.0, 17.0, 17.0, 17.0, 17.0, 17.0, 17.0, 17.0, 17.0, 17.0, 17.0, 17.0, 17.0, 17.0, 17.0, 17.0, 17.0, 17.0, 17.0, 18.0, 18.0, 18.0, 18.0, 18.0, 18.0, 18.0, 18.0, 18.0, 18.0, 18.0, 18.0, 18.0, 18.0, 18.0, 19.0, 19.0, 19.0, 19.0, 19.0, 19.0, 19.0, 19.0, 19.0, 19.0, 19.0, 19.0, 19.0, 19.0, 19.0, 19.0, 19.0, 19.0, 19.0, 20.0, 20.0, 20.0, 20.0, 20.0, 20.0, 20.0, 20.0, 20.0, 20.0, 20.0, 20.0, 20.0, 20.0, 21.0, 21.0, 21.0, 21.0, 21.0, 21.0, 21.0, 21.0, 21.0, 21.0, 21.0, 21.0, 21.0, 21.0, 22.0, 22.0, 22.0, 22.0, 22.0, 22.0, 22.0, 22.0, 22.0, 22.0, 22.0, 22.0, 22.0, 22.0, 22.0, 22.0, 23.0, 23.0, 23.0, 23.0, 23.0, 23.0, 23.0, 23.0, 23.0, 23.0, 23.0, 23.0, 23.0, 23.0, 23.0, 23.0, 24.0, 24.0, 24.0, 24.0, 24.0, 24.0, 24.0, 24.0, 24.0, 24.0, 24.0, 24.0, 24.0, 24.0, 24.0, 24.0, 24.0, 25.0, 25.0, 25.0, 25.0, 25.0, 25.0, 25.0, 25.0, 25.0, 25.0, 25.0, 25.0, 25.0, 25.0, 25.0, 25.0, 26.0, 26.0, 26.0, 26.0, 26.0, 26.0, 26.0, 26.0, 26.0, 26.0, 26.0, 26.0, 26.0, 26.0, 26.0, 26.0, 27.0, 27.0, 27.0, 27.0, 27.0, 27.0, 27.0, 27.0, 27.0, 27.0, 27.0, 27.0, 27.0, 27.0, 27.0, 27.0, 28.0, 28.0, 28.0, 28.0, 28.0, 28.0, 28.0, 28.0, 28.0, 28.0, 28.0, 28.0, 28.0, 28.0, 28.0, 28.0, 28.0, 29.0, 29.0, 29.0, 29.0, 29.0, 29.0, 29.0, 29.0, 29.0, 29.0, 29.0, 29.0, 29.0, 29.0, 29.0, 30.0, 30.0, 30.0, 30.0, 30.0, 30.0, 30.0, 30.0, 30.0, 30.0, 30.0, 30.0, 30.0, 31.0, 31.0, 31.0, 31.0, 31.0, 31.0, 31.0, 31.0, 31.0, 31.0, 31.0, 31.0, 31.0, 31.0, 32.0, 32.0, 32.0, 32.0, 32.0, 32.0, 32.0, 32.0, 32.0, 32.0, 32.0, 32.0, 32.0, 32.0, 32.0, 32.0, 32.0, 32.0, 32.0, 33.0, 33.0, 33.0, 33.0, 33.0, 33.0, 33.0, 33.0, 33.0, 33.0, 33.0, 33.0, 33.0, 33.0, 33.0, 34.0, 34.0, 34.0, 34.0, 34.0, 34.0, 34.0, 34.0, 34.0, 34.0, 34.0, 34.0, 34.0, 34.0, 34.0, 35.0, 35.0, 35.0, 35.0, 35.0, 35.0, 35.0, 35.0, 35.0, 35.0, 35.0, 35.0, 35.0, 35.0, 36.0, 36.0, 36.0, 36.0, 36.0, 36.0, 36.0, 36.0, 36.0, 36.0, 36.0, 36.0, 36.0, 36.0, 36.0, 36.0, 36.0, 36.0, 37.0, 37.0, 37.0, 37.0, 37.0, 37.0, 37.0, 37.0, 37.0, 37.0, 37.0, 37.0, 37.0, 37.0, 37.0, 38.0, 38.0, 38.0, 38.0, 38.0, 38.0, 38.0, 38.0, 38.0, 38.0, 38.0, 38.0, 38.0, 38.0, 38.0, 38.0, 38.0, 39.0, 39.0, 39.0, 39.0, 39.0, 39.0, 39.0, 39.0, 39.0, 39.0, 39.0, 39.0, 39.0, 39.0, 39.0, 39.0, 40.0, 40.0, 40.0, 40.0, 40.0, 40.0, 40.0, 40.0, 40.0, 40.0, 40.0, 40.0, 40.0, 40.0, 40.0, 40.0, 41.0, 41.0, 41.0, 41.0, 41.0, 41.0, 41.0, 41.0, 41.0, 41.0, 41.0, 41.0, 41.0, 41.0, 41.0, 42.0, 42.0, 42.0, 42.0, 42.0, 42.0, 42.0, 42.0, 42.0, 42.0, 42.0, 42.0, 42.0, 42.0, 42.0, 42.0, 42.0, 42.0, 43.0, 43.0, 43.0, 43.0, 43.0, 43.0, 43.0, 43.0, 43.0, 43.0, 43.0, 43.0, 43.0, 43.0, 43.0, 43.0, 43.0, 43.0, 44.0, 44.0, 44.0, 44.0, 44.0, 44.0, 44.0, 44.0, 44.0, 44.0, 44.0, 44.0, 44.0, 44.0, 44.0, 44.0, 44.0, 44.0, 45.0, 45.0, 45.0, 45.0, 45.0, 45.0, 45.0, 45.0, 45.0, 45.0, 45.0, 45.0, 45.0, 45.0, 45.0, 45.0, 46.0, 46.0, 46.0, 46.0, 46.0, 46.0, 46.0, 46.0, 46.0, 46.0, 46.0, 46.0, 46.0, 46.0, 46.0, 46.0, 46.0, 46.0, 47.0, 47.0, 47.0, 47.0, 47.0, 47.0, 47.0, 47.0, 47.0, 47.0, 47.0, 47.0, 47.0, 47.0, 47.0, 47.0, 48.0, 48.0, 48.0, 48.0, 48.0, 48.0, 48.0, 48.0, 48.0, 48.0, 48.0, 48.0, 48.0, 48.0, 48.0, 48.0, 48.0, 49.0, 49.0, 49.0, 49.0, 49.0, 49.0, 49.0, 49.0, 49.0, 49.0, 49.0, 49.0, 49.0, 49.0, 49.0, 49.0, 49.0, 49.0, 49.0, 50.0, 50.0, 50.0, 50.0, 50.0, 50.0, 50.0, 50.0, 50.0, 50.0, 50.0, 50.0, 50.0, 50.0, 50.0, 50.0, 50.0, 51.0, 51.0, 51.0, 51.0, 51.0, 51.0, 51.0, 51.0, 51.0, 51.0, 51.0, 51.0, 51.0, 51.0, 51.0, 51.0, 51.0, 51.0, 52.0, 52.0, 52.0, 52.0, 52.0, 52.0, 52.0, 52.0, 52.0, 52.0, 52.0, 52.0, 52.0, 52.0, 52.0, 52.0, 53.0, 53.0, 53.0, 53.0, 53.0, 53.0, 53.0, 53.0, 53.0, 53.0, 53.0, 53.0, 53.0, 53.0, 53.0, 53.0, 53.0, 53.0, 54.0, 54.0, 54.0, 54.0, 54.0, 54.0, 54.0, 54.0, 54.0, 54.0, 54.0, 54.0, 54.0, 54.0, 54.0, 55.0, 55.0, 55.0, 55.0, 55.0, 55.0, 55.0, 55.0, 55.0, 55.0, 55.0, 55.0, 55.0, 55.0, 55.0, 55.0, 55.0, 55.0, 56.0, 56.0, 56.0, 56.0, 56.0, 56.0, 56.0, 56.0, 56.0, 56.0, 56.0, 56.0, 56.0, 56.0, 56.0, 56.0, 56.0, 56.0, 56.0, 57.0, 57.0, 57.0, 57.0, 57.0, 57.0, 57.0, 57.0, 57.0, 57.0, 57.0, 57.0, 57.0, 57.0, 57.0, 57.0, 57.0, 57.0, 57.0, 58.0, 58.0, 58.0, 58.0, 58.0, 58.0, 58.0, 58.0, 58.0, 58.0, 58.0, 58.0, 58.0, 58.0, 58.0, 58.0, 58.0, 59.0, 59.0, 59.0, 59.0, 59.0, 59.0, 59.0, 59.0, 59.0, 59.0, 59.0, 59.0, 59.0, 59.0, 59.0, 59.0, 59.0, 59.0, 59.0, 60.0, 60.0, 60.0, 60.0, 60.0, 60.0, 60.0, 60.0, 60.0, 60.0, 60.0, 60.0, 60.0, 60.0, 60.0, 60.0, 60.0, 61.0, 61.0, 61.0, 61.0, 61.0, 61.0, 61.0, 61.0, 61.0, 61.0, 61.0, 61.0, 61.0, 61.0, 61.0, 61.0, 62.0, 62.0, 62.0, 62.0, 62.0, 62.0, 62.0, 62.0, 62.0, 62.0, 62.0, 62.0, 62.0, 62.0, 62.0, 63.0, 63.0, 63.0, 63.0, 63.0, 63.0, 63.0, 63.0, 63.0, 63.0, 63.0, 63.0, 63.0, 63.0, 63.0, 64.0, 64.0, 64.0, 64.0, 64.0, 64.0, 64.0, 64.0, 64.0, 64.0, 64.0, 64.0, 64.0, 64.0, 64.0, 64.0, 64.0, 64.0, 64.0, 65.0, 65.0, 65.0, 65.0, 65.0, 65.0, 65.0, 65.0, 65.0, 65.0, 65.0, 65.0, 65.0, 65.0, 65.0, 65.0, 66.0, 66.0, 66.0, 66.0, 66.0, 66.0, 66.0, 66.0, 66.0, 66.0, 66.0, 66.0, 66.0, 66.0, 66.0, 66.0, 66.0, 66.0, 67.0, 67.0, 67.0, 67.0, 67.0, 67.0, 67.0, 67.0, 67.0, 67.0, 67.0, 67.0, 67.0, 67.0, 67.0, 67.0, 67.0, 67.0, 67.0, 68.0, 68.0, 68.0, 68.0, 68.0, 68.0, 68.0, 68.0, 68.0, 68.0, 68.0, 68.0, 68.0, 68.0, 68.0, 68.0, 68.0, 68.0, 69.0, 69.0, 69.0, 69.0, 69.0, 69.0, 69.0, 69.0, 69.0, 69.0, 69.0, 69.0, 69.0, 69.0, 69.0, 70.0, 70.0, 70.0, 70.0, 70.0, 70.0, 70.0, 70.0, 70.0, 70.0, 70.0, 70.0, 70.0, 70.0, 70.0, 70.0, 70.0, 71.0, 71.0, 71.0, 71.0, 71.0, 71.0, 71.0, 71.0, 71.0, 71.0, 71.0, 71.0, 71.0, 71.0, 71.0, 71.0, 71.0, 72.0, 72.0, 72.0, 72.0, 72.0, 72.0, 72.0, 72.0, 72.0, 72.0, 72.0, 72.0, 72.0, 72.0, 72.0, 72.0, 72.0, 72.0, 73.0, 73.0, 73.0, 73.0, 73.0, 73.0, 73.0, 73.0, 73.0, 73.0, 73.0, 73.0, 73.0, 73.0, 73.0, 73.0, 73.0, 73.0, 73.0, 73.0, 74.0, 74.0, 74.0, 74.0, 74.0, 74.0, 74.0, 74.0, 74.0, 74.0, 74.0, 74.0, 74.0, 74.0, 74.0, 74.0, 74.0, 74.0, 74.0, 74.0, 75.0, 75.0, 75.0, 75.0, 75.0, 75.0, 75.0, 75.0, 75.0, 75.0, 75.0, 75.0, 75.0, 75.0, 75.0, 75.0, 75.0, 75.0, 76.0, 76.0, 76.0, 76.0, 76.0, 76.0, 76.0, 76.0, 76.0, 76.0, 76.0, 76.0, 76.0, 76.0, 76.0, 76.0, 76.0, 76.0, 76.0, 77.0, 77.0, 77.0, 77.0, 77.0, 77.0, 77.0, 77.0, 77.0, 77.0, 77.0, 77.0, 77.0, 77.0, 77.0, 77.0, 77.0, 78.0, 78.0, 78.0, 78.0, 78.0, 78.0, 78.0, 78.0, 78.0, 78.0, 78.0, 78.0, 78.0, 78.0, 78.0, 78.0, 78.0, 78.0, 79.0, 79.0, 79.0, 79.0, 79.0, 79.0, 79.0, 79.0, 79.0, 79.0, 79.0, 79.0, 79.0, 79.0, 79.0, 79.0, 79.0, 79.0, 79.0, 80.0, 80.0, 80.0, 80.0, 80.0, 80.0, 80.0, 80.0, 80.0, 80.0, 80.0, 80.0, 80.0, 80.0, 80.0, 80.0, 80.0, 81.0, 81.0, 81.0, 81.0, 81.0, 81.0, 81.0, 81.0, 81.0, 81.0, 81.0, 81.0, 81.0, 81.0, 82.0, 82.0, 82.0, 82.0, 82.0, 82.0, 82.0, 82.0, 82.0, 82.0, 82.0, 82.0, 82.0, 82.0, 82.0, 82.0, 82.0, 82.0, 83.0, 83.0, 83.0, 83.0, 83.0, 83.0, 83.0, 83.0, 83.0, 83.0, 83.0, 83.0, 83.0, 83.0, 83.0, 84.0, 84.0, 84.0, 84.0, 84.0, 84.0, 84.0, 84.0, 84.0, 84.0, 84.0, 84.0, 84.0, 84.0, 84.0, 85.0, 85.0, 85.0, 85.0, 85.0, 85.0, 85.0, 85.0, 85.0, 85.0, 85.0, 85.0, 85.0, 85.0, 85.0, 86.0, 86.0, 86.0, 86.0, 86.0, 86.0, 86.0, 86.0, 86.0, 86.0, 86.0, 86.0, 86.0, 86.0, 87.0, 87.0, 87.0, 87.0, 87.0, 87.0, 87.0, 87.0, 87.0, 87.0, 87.0, 87.0, 87.0, 88.0, 88.0, 88.0, 88.0, 88.0, 88.0, 88.0, 88.0, 88.0, 88.0, 88.0, 88.0, 89.0, 89.0, 89.0, 89.0, 89.0, 89.0, 89.0, 89.0, 89.0, 89.0, 89.0, 89.0, 89.0, 89.0, 89.0, 90.0, 90.0, 90.0, 90.0, 90.0, 90.0, 90.0, 90.0, 90.0, 90.0, 90.0, 90.0, 90.0, 90.0, 90.0, 90.0, 90.0, 91.0, 91.0, 91.0, 91.0, 91.0, 91.0, 91.0, 91.0, 91.0, 91.0, 91.0, 91.0, 91.0, 91.0, 91.0, 91.0, 92.0, 92.0, 92.0, 92.0, 92.0, 92.0, 92.0, 92.0, 92.0, 92.0, 92.0, 92.0, 92.0, 92.0, 92.0, 92.0, 92.0, 93.0, 93.0, 93.0, 93.0, 93.0, 93.0, 93.0, 93.0, 93.0, 93.0, 93.0, 93.0, 93.0, 93.0, 93.0, 93.0, 94.0, 94.0, 94.0, 94.0, 94.0, 94.0, 94.0, 94.0, 94.0, 94.0, 94.0, 94.0, 94.0, 94.0, 94.0, 94.0, 94.0, 95.0, 95.0, 95.0, 95.0, 95.0, 95.0, 95.0, 95.0, 95.0, 95.0, 95.0, 95.0, 95.0, 95.0, 95.0, 95.0, 95.0, 96.0, 96.0, 96.0, 96.0, 96.0, 96.0, 96.0, 96.0, 96.0, 96.0, 96.0, 96.0, 96.0, 96.0, 96.0, 96.0, 97.0, 97.0, 97.0, 97.0, 97.0, 97.0, 97.0, 97.0, 97.0, 97.0, 97.0, 97.0, 97.0, 97.0, 97.0, 97.0, 97.0, 97.0, 97.0, 97.0, 97.0, 98.0, 98.0, 98.0, 98.0, 98.0, 98.0, 98.0, 98.0, 98.0, 98.0, 98.0, 98.0, 98.0, 98.0, 98.0, 98.0, 98.0, 99.0, 99.0, 99.0, 99.0, 99.0, 99.0, 99.0, 99.0, 99.0, 99.0, 99.0, 99.0, 99.0, 99.0], \"xaxis\": \"x\", \"y\": [0.0, -1.0, 1.0, 0.0, -0.3333333333333333, 0.3333333333333333, 1.0, -1.0, -0.5, 0.0, -1.0, 0.3333333333333333, -0.3333333333333333, 1.0, -0.6, -0.2, 0.2, 0.0, -1.0, 1.0, -0.7142857142857143, -0.5, -0.3333333333333333, -0.2, -0.14285714285714285, 0.14285714285714285, 0.2, 0.5, 0.0, -1.0, 0.3333333333333333, 1.0, -0.3333333333333333, -0.5, -0.2, 0.0, 1.0, -1.0, -0.5, -0.3333333333333333, 0.3333333333333333, -0.2, -0.14285714285714285, 0.14285714285714285, 0.2, 0.42857142857142855, 0.0, 0.3333333333333333, -1.0, -0.6, 1.0, -0.5, -0.3333333333333333, -0.2727272727272727, -0.25, -0.2, 0.25, 0.3333333333333333, 0.0, -1.0, -0.2, 0.2, 1.0, -0.3333333333333333, -0.5555555555555556, -0.09090909090909091, -0.058823529411764705, 0.14285714285714285, 0.0, -1.0, 1.0, -0.5, -0.125, 0.5, -0.2, -0.16666666666666666, 0.25, 0.3333333333333333, 0.6666666666666666, 0.0, -0.14285714285714285, 0.3333333333333333, 0.6, 1.0, -1.0, -0.6, -0.3333333333333333, -0.2222222222222222, -0.2, -0.17647058823529413, -0.125, 0.14285714285714285, 0.2, 0.7142857142857143, 0.0, -1.0, -0.3333333333333333, 0.1111111111111111, 0.2, 0.6, 1.0, -0.5, -0.2631578947368421, -0.14285714285714285, -0.125, -0.06666666666666667, 0.06666666666666667, 0.07692307692307693, 0.3333333333333333, 0.75, 0.0, -1.0, 0.3333333333333333, -0.2, 1.0, -0.6666666666666666, -0.5, -0.3333333333333333, -0.2222222222222222, -0.17647058823529413, 0.14285714285714285, 0.25, 0.6363636363636364, 0.75, -1.0, 0.3333333333333333, 1.0, -0.3333333333333333, -0.14285714285714285, 0.0, 0.2, -0.6, -0.5, -0.42857142857142855, -0.1111111111111111, -0.09523809523809523, -0.09090909090909091, 0.7142857142857143, 0.8, 0.0, -1.0, -0.3333333333333333, -0.2, 0.3333333333333333, 1.0, -0.42857142857142855, -0.25, -0.21739130434782608, -0.07317073170731707, 0.2, 0.23809523809523808, 0.25, 0.5, 0.6363636363636364, 0.0, -1.0, 1.0, -0.6, -0.3333333333333333, -0.25, -0.2, -0.14285714285714285, -0.1, -0.09523809523809523, -0.07692307692307693, 0.1111111111111111, 0.3, 0.3333333333333333, 0.375, 0.42857142857142855, 0.5, 0.3333333333333333, -1.0, 0.0, -0.3333333333333333, -0.25, -0.6666666666666666, -0.16666666666666666, -0.14285714285714285, -0.11627906976744186, -0.1111111111111111, 0.09090909090909091, 0.18181818181818182, 0.2, 0.2631578947368421, 0.4117647058823529, 0.6666666666666666, 0.0, -1.0, -0.3333333333333333, 1.0, -0.7142857142857143, -0.6, -0.4, -0.21739130434782608, -0.14285714285714285, -0.1, -0.09523809523809523, 0.14285714285714285, 0.2, 0.23809523809523808, 0.375, 0.5, 0.7142857142857143, 0.0, 1.0, -1.0, -0.6666666666666666, -0.07692307692307693, -0.6, -0.4, -0.3333333333333333, -0.21739130434782608, -0.2, -0.16666666666666666, -0.14285714285714285, -0.06976744186046512, 0.1724137931034483, 0.2, 0.3333333333333333, 0.4666666666666667, 0.5, 0.0, 1.0, -1.0, -0.3333333333333333, -0.5, -0.45454545454545453, -0.2222222222222222, -0.2, -0.18181818181818182, -0.06382978723404255, 0.13333333333333333, 0.15789473684210525, 0.4, 0.5, 0.5555555555555556, 0.0, 1.0, -1.0, -0.5, -0.3333333333333333, -0.5555555555555556, -0.5384615384615384, -0.25, -0.21428571428571427, -0.2, -0.17647058823529413, -0.08695652173913043, -0.07692307692307693, 0.09523809523809523, 0.23809523809523808, 0.3333333333333333, 0.47368421052631576, 0.5, 0.5555555555555556, -0.3333333333333333, 0.0, 0.5, 1.0, -1.0, -0.6, -0.5, -0.13333333333333333, -0.125, -0.1111111111111111, -0.10638297872340426, -0.058823529411764705, 0.11627906976744186, 0.3333333333333333, 0.0, -1.0, -0.3333333333333333, -0.2, 1.0, 0.3333333333333333, -0.5555555555555556, -0.5, -0.25, -0.08333333333333333, -0.07692307692307693, 0.13636363636363635, 0.14285714285714285, 0.14814814814814814, 0.0, 1.0, -1.0, -0.5, -0.3333333333333333, -0.2, -0.6, -0.14285714285714285, -0.12195121951219512, -0.07692307692307693, -0.02702702702702703, 0.1111111111111111, 0.1320754716981132, 0.2, 0.3333333333333333, 0.5, 0.0, -1.0, -0.5, 0.6, 1.0, -0.7142857142857143, -0.5555555555555556, -0.4, -0.3333333333333333, -0.15789473684210525, -0.1, -0.06666666666666667, 0.11538461538461539, 0.13043478260869565, 0.14285714285714285, 0.2, 0.0, -0.3333333333333333, 1.0, 0.3333333333333333, 0.5, -1.0, -0.6666666666666666, -0.6, -0.25, -0.14285714285714285, -0.1111111111111111, -0.07317073170731707, -0.05263157894736842, 0.02564102564102564, 0.09803921568627451, 0.1111111111111111, 0.14285714285714285, 0.0, -1.0, 0.5, -0.3333333333333333, -0.2, 1.0, -0.42857142857142855, -0.4, -0.17647058823529413, -0.16363636363636364, -0.09523809523809523, 0.08, 0.1111111111111111, 0.13043478260869565, 0.14285714285714285, 0.2, -1.0, 0.0, -0.5, -0.3333333333333333, 0.2, 0.5, 1.0, -0.15789473684210525, -0.14814814814814814, -0.11627906976744186, -0.06666666666666667, -0.05263157894736842, 0.03333333333333333, 0.05263157894736842, 0.1111111111111111, 0.3333333333333333, 0.0, -1.0, -0.2, -0.42857142857142855, -0.3333333333333333, 0.3333333333333333, -0.5, -0.13636363636363635, -0.12727272727272726, -0.045454545454545456, 0.01639344262295082, 0.03125, 0.1111111111111111, 0.2, 0.25, 1.0, 0.0, 0.3333333333333333, -1.0, -0.3333333333333333, -0.4, -0.14285714285714285, -0.11627906976744186, -0.10714285714285714, -0.06976744186046512, -0.058823529411764705, -0.043478260869565216, 0.03333333333333333, 0.046153846153846156, 0.1111111111111111, 0.2, 0.25, 1.0, 0.0, -0.3333333333333333, 1.0, -1.0, -0.2727272727272727, -0.14285714285714285, -0.1111111111111111, -0.08771929824561403, -0.047619047619047616, -0.01818181818181818, 0.014925373134328358, 0.05084745762711865, 0.2, 0.3333333333333333, 0.5, 0.0, 0.3333333333333333, -0.3333333333333333, -0.14285714285714285, -1.0, -0.15789473684210525, -0.1111111111111111, -0.10344827586206896, -0.037037037037037035, -0.009174311926605505, 0.03333333333333333, 0.6, 1.0, 0.0, -1.0, -0.3333333333333333, 0.3333333333333333, -0.2, -0.2857142857142857, -0.14285714285714285, -0.1111111111111111, -0.0847457627118644, -0.07692307692307693, -0.009009009009009009, 0.018867924528301886, 0.04918032786885246, 1.0, 0.0, -0.3333333333333333, -0.5, -0.2, 0.3333333333333333, 1.0, -1.0, -0.6, -0.42857142857142855, -0.38461538461538464, -0.15384615384615385, -0.1111111111111111, -0.06666666666666667, -0.037037037037037035, -0.017857142857142856, 0.038461538461538464, 0.06666666666666667, 0.1111111111111111, 0.42857142857142855, 0.0, 1.0, -0.3333333333333333, -0.5, -1.0, -0.6666666666666666, -0.25, -0.2, -0.14285714285714285, -0.08196721311475409, -0.009009009009009009, 0.05357142857142857, 0.058823529411764705, 0.3333333333333333, 0.6666666666666666, -0.3333333333333333, 0.0, -0.5, -0.2, 0.2, 0.3333333333333333, 1.0, -1.0, -0.18518518518518517, -0.125, -0.07462686567164178, -0.037037037037037035, 0.04424778761061947, 0.05263157894736842, 0.7142857142857143, 0.0, -1.0, -0.3333333333333333, 0.3333333333333333, -0.5, -0.4, -0.21428571428571427, -0.14285714285714285, -0.0967741935483871, -0.06060606060606061, -0.009009009009009009, 0.056910569105691054, 0.5, 1.0, 0.0, -1.0, -0.3333333333333333, 0.3333333333333333, -0.5, -0.45454545454545453, -0.23076923076923078, -0.2, -0.18518518518518517, -0.15151515151515152, -0.04477611940298507, 0.037037037037037035, 0.04838709677419355, 0.05263157894736842, 0.14285714285714285, 0.4, 0.5, 0.6, 0.0, -1.0, -0.2, 0.1111111111111111, 0.3333333333333333, 1.0, -0.5, -0.4, -0.23076923076923078, -0.14285714285714285, -0.09090909090909091, -0.008849557522123894, 0.056910569105691054, 0.2, 0.23076923076923078, 0.0, -1.0, -0.3333333333333333, 1.0, -0.6, -0.5, -0.25925925925925924, -0.2, -0.13513513513513514, -0.07692307692307693, -0.02702702702702703, 0.037037037037037035, 0.058823529411764705, 0.06451612903225806, 0.2, 0.2857142857142857, 0.3333333333333333, 0.0, -1.0, -0.3333333333333333, 1.0, -0.2857142857142857, -0.23076923076923078, -0.2, -0.1111111111111111, -0.07692307692307693, -0.0136986301369863, 0.008403361344537815, 0.056, 0.2, 0.23076923076923078, 0.3333333333333333, 0.5, 1.0, 0.0, -1.0, -0.2, -0.2972972972972973, -0.2857142857142857, -0.21739130434782608, -0.14285714285714285, -0.037037037037037035, 0.01639344262295082, 0.058823529411764705, 0.06666666666666667, 0.07086614173228346, 0.2857142857142857, 0.3333333333333333, 0.6, -1.0, 0.0, 1.0, -0.3333333333333333, -0.2, 0.2, -0.3157894736842105, -0.2727272727272727, -0.08333333333333333, -0.07692307692307693, 0.024390243902439025, 0.08527131782945736, 0.125, 0.23076923076923078, 0.6, -1.0, 0.0, 1.0, -0.5, -0.3333333333333333, -0.28205128205128205, -0.2, -0.17647058823529413, -0.14285714285714285, -0.125, -0.056910569105691054, -0.04, 0.03225806451612903, 0.06666666666666667, 0.078125, 0.3333333333333333, 0.5, 0.6666666666666666, -1.0, 0.0, -0.3333333333333333, -0.2, 0.3333333333333333, 1.0, -0.6, -0.5, -0.2682926829268293, -0.2222222222222222, -0.125, -0.09090909090909091, -0.04838709677419355, 0.04065040650406504, 0.07086614173228346, 0.17647058823529413, 0.45454545454545453, 0.7142857142857143, 0.0, -1.0, -0.5, -0.42857142857142855, -0.3333333333333333, -0.2631578947368421, -0.23809523809523808, -0.16666666666666666, -0.1111111111111111, -0.056, -0.05263157894736842, 0.04838709677419355, 0.06349206349206349, 0.1111111111111111, 0.3333333333333333, 0.4, 0.5, 1.0, 0.0, -0.2, 0.3333333333333333, 1.0, -1.0, -0.3333333333333333, -0.6666666666666666, -0.3, -0.2727272727272727, -0.21951219512195122, -0.16666666666666666, -0.06451612903225806, 0.039473684210526314, 0.072, 0.07692307692307693, 0.391304347826087, 0.0, -1.0, -0.5, 1.0, -0.7142857142857143, -0.38461538461538464, -0.3333333333333333, -0.2631578947368421, -0.25, -0.1111111111111111, -0.09090909090909091, -0.058823529411764705, -0.047619047619047616, 0.03184713375796178, 0.08064516129032258, 0.25, 0.45454545454545453, 0.5, 0.0, -0.3333333333333333, 1.0, -1.0, -0.2, -0.1111111111111111, 0.3333333333333333, -0.75, -0.5, -0.2682926829268293, -0.09090909090909091, -0.07692307692307693, -0.03937007874015748, 0.031446540880503145, 0.09090909090909091, 0.136986301369863, 0.0, -0.5, -0.23809523809523808, -1.0, -0.7777777777777778, -0.6, -0.3333333333333333, -0.3, -0.2727272727272727, -0.09090909090909091, -0.047619047619047616, 0.02531645569620253, 0.14482758620689656, 0.23076923076923078, 0.3333333333333333, 0.6, 1.0, -1.0, -0.3333333333333333, 1.0, -0.2, 0.0, -0.6, -0.5, -0.28205128205128205, -0.21739130434782608, -0.1111111111111111, -0.09090909090909091, -0.06666666666666667, -0.056, 0.031446540880503145, 0.07692307692307693, 0.1506849315068493, 0.2, 0.2857142857142857, 0.6666666666666666, 0.0, 1.0, -0.42857142857142855, -0.6363636363636364, -0.5, -0.29411764705882354, -0.25, -0.18181818181818182, -0.125, -0.09090909090909091, -0.0625, 0.024691358024691357, 0.14285714285714285, 0.2, 0.23076923076923078, 0.3333333333333333, 0.6, 0.0, -0.3333333333333333, 0.3333333333333333, -1.0, -0.06666666666666667, -0.6666666666666666, -0.28, -0.2727272727272727, -0.25, -0.23809523809523808, -0.2, -0.03816793893129771, 0.031055900621118012, 0.1111111111111111, 0.136986301369863, 0.14285714285714285, 0.16666666666666666, 0.5, 0.0, -1.0, 1.0, -0.3333333333333333, -0.5714285714285714, -0.42857142857142855, -0.2549019607843137, -0.125, -0.08695652173913043, -0.05714285714285714, 0.12582781456953643, 0.14285714285714285, 0.23076923076923078, 0.25, 0.3333333333333333, 0.6, 0.0, 0.3333333333333333, 1.0, -0.3333333333333333, -0.2, -0.5384615384615384, -0.5, -0.38461538461538464, -0.2692307692307692, -0.09090909090909091, -0.06666666666666667, -0.06382978723404255, 0.00546448087431694, 0.12, 0.14285714285714285, 0.25, 0.2857142857142857, 0.6666666666666666, 0.0, -1.0, 0.5, 1.0, -0.6, -0.5714285714285714, -0.3333333333333333, -0.1724137931034483, -0.09090909090909091, -0.05714285714285714, 0.05263157894736842, 0.1111111111111111, 0.11258278145695365, 0.23076923076923078, 0.3333333333333333, 0.0, 0.3333333333333333, 1.0, -1.0, -0.6923076923076923, -0.6666666666666666, -0.29411764705882354, -0.2, -0.15789473684210525, -0.1111111111111111, -0.04964539007092199, -0.041666666666666664, 0.0055248618784530384, 0.1, 0.11842105263157894, 0.14285714285714285, 0.16666666666666666, 0.5, 0.0, 1.0, -1.0, -0.3333333333333333, 0.3333333333333333, -0.5555555555555556, -0.391304347826087, -0.1724137931034483, -0.14285714285714285, -0.09090909090909091, -0.06382978723404255, -0.05714285714285714, 0.011111111111111112, 0.09090909090909091, 0.1111111111111111, 0.14285714285714285, 0.2, 0.23076923076923078, 0.5, 0.0, -1.0, 0.1111111111111111, 0.5, -0.5238095238095238, -0.5, -0.44, -0.2, -0.16666666666666666, -0.13333333333333333, -0.08333333333333333, -0.050359712230215826, 0.00558659217877095, 0.09090909090909091, 0.1, 0.11688311688311688, 0.25, 0.3333333333333333, 1.0, 0.3333333333333333, 0.0, 1.0, -1.0, -0.45454545454545453, -0.4166666666666667, -0.3333333333333333, -0.23076923076923078, -0.2, -0.0967741935483871, -0.057971014492753624, -0.03571428571428571, 0.011111111111111112, 0.0967741935483871, 0.1111111111111111, 0.2, 0.23076923076923078, 0.0, 1.0, -1.0, -0.5, 0.06666666666666667, -0.3333333333333333, -0.2, -0.16666666666666666, -0.11475409836065574, -0.05263157894736842, -0.050359712230215826, 0.0055248618784530384, 0.1111111111111111, 0.11688311688311688, 0.14285714285714285, 0.25, 0.2727272727272727, 0.3333333333333333, 0.6, 0.0, 0.3333333333333333, 1.0, -0.3333333333333333, -1.0, -0.6, -0.52, -0.3076923076923077, -0.1111111111111111, -0.05084745762711865, -0.04285714285714286, 0.03225806451612903, 0.05116279069767442, 0.14285714285714285, 0.2, 0.23076923076923078, 0.5, 0.0, 0.3333333333333333, -0.3333333333333333, -1.0, -0.5, 0.07692307692307693, 0.5, -0.28, -0.2, -0.1111111111111111, -0.03546099290780142, -0.012448132780082987, 0.059907834101382486, 0.17647058823529413, 0.2, 1.0, 0.0, -0.3333333333333333, -1.0, -0.2, -0.4782608695652174, -0.09090909090909091, -0.08108108108108109, -0.027777777777777776, -0.004081632653061225, 0.03225806451612903, 0.0502283105022831, 0.125, 0.13333333333333333, 0.6666666666666666, 1.0, 0.0, -0.3333333333333333, 1.0, -0.5, 0.2, 0.3333333333333333, -1.0, -0.45454545454545453, -0.25, -0.10526315789473684, -0.0273972602739726, 0.049773755656108594, 0.06666666666666667, 0.1724137931034483, 0.42857142857142855, 0.0, -0.3333333333333333, 0.3333333333333333, -1.0, -0.2, -0.14285714285714285, 1.0, -0.25, -0.2413793103448276, -0.09090909090909091, -0.07692307692307693, -0.034013605442176874, -0.004048582995951417, 0.030303030303030304, 0.05454545454545454, 0.058823529411764705, 0.1111111111111111, 0.21428571428571427, 0.5, 0.0, -0.3333333333333333, -0.5, -1.0, 0.2, 1.0, -0.2857142857142857, -0.15789473684210525, -0.12195121951219512, -0.02702702702702703, -0.008130081300813009, 0.058823529411764705, 0.08571428571428572, 0.18518518518518517, 0.3333333333333333, 0.5, 0.0, -0.6, -0.2, 0.3333333333333333, 1.0, -1.0, -0.5, -0.4, -0.3333333333333333, -0.17391304347826086, -0.14285714285714285, -0.08695652173913043, -0.020134228187919462, -0.012145748987854251, 0.058823529411764705, 0.061946902654867256, 0.21428571428571427, 0.6, 0.0, 0.3333333333333333, 1.0, -1.0, -0.6666666666666666, -0.42857142857142855, -0.2727272727272727, -0.25, -0.23809523809523808, -0.2, -0.14285714285714285, -0.1111111111111111, -0.019867549668874173, -0.008064516129032258, 0.06666666666666667, 0.08571428571428572, 0.18518518518518517, 0.5, 0.6666666666666666, 0.0, -1.0, 0.5, -0.2, 0.2, 1.0, -0.3333333333333333, -0.25, -0.16363636363636364, -0.14285714285714285, -0.09090909090909091, -0.013157894736842105, -0.004016064257028112, 0.061946902654867256, 0.08108108108108109, 0.1111111111111111, 0.21428571428571427, 0.3333333333333333, 0.0, 1.0, -1.0, -0.1111111111111111, -0.3333333333333333, -0.2, -0.18518518518518517, -0.14285714285714285, -0.08333333333333333, -0.0196078431372549, 0.045454545454545456, 0.06666666666666667, 0.1724137931034483, 0.3333333333333333, 0.42857142857142855, 1.0, -1.0, 0.0, -0.5, -0.3333333333333333, 0.2, 0.3333333333333333, -0.23076923076923078, -0.2, -0.12, -0.08695652173913043, -0.005076142131979695, 0.00398406374501992, 0.061946902654867256, 0.1111111111111111, 0.21428571428571427, 0.5, 0.0, -1.0, 1.0, -0.4, -0.3333333333333333, -0.2, -0.17857142857142858, -0.14285714285714285, -0.09090909090909091, -0.08333333333333333, -0.06382978723404255, 0.057777777777777775, 0.09090909090909091, 0.18518518518518517, 0.25, 0.3333333333333333, 0.6, 0.0, 1.0, -1.0, -0.3333333333333333, -0.5, -0.45454545454545453, -0.23076923076923078, -0.22033898305084745, -0.041666666666666664, -0.005128205128205128, 0.00398406374501992, 0.058823529411764705, 0.0625, 0.1111111111111111, 0.2, 0.25, 0.5, 0.6666666666666666, 0.0, 0.3333333333333333, -0.5, 0.2, 1.0, -1.0, -0.6, -0.5555555555555556, -0.20689655172413793, -0.16666666666666666, -0.14285714285714285, -0.043478260869565216, -0.04, -0.005128205128205128, 0.04, 0.05829596412556054, 0.16666666666666666, 0.5, 0.6666666666666666, 0.7142857142857143, 0.0, -1.0, 0.3333333333333333, -0.14285714285714285, 0.5, -0.6363636363636364, -0.38461538461538464, -0.3333333333333333, -0.19298245614035087, -0.061224489795918366, -0.010309278350515464, -0.004016064257028112, 0.058823529411764705, 0.061224489795918366, 0.0625, 0.14285714285714285, 0.2, 0.6, 0.75, 1.0, 1.0, 0.0, 0.3333333333333333, -1.0, -0.4666666666666667, -0.6, -0.2, -0.1724137931034483, -0.06666666666666667, -0.041666666666666664, -0.008064516129032258, -0.005128205128205128, 0.037037037037037035, 0.041666666666666664, 0.07692307692307693, 0.08620689655172414, 0.09090909090909091, 0.2, 0.0, 1.0, -1.0, -0.14285714285714285, -0.6666666666666666, -0.5, -0.42857142857142855, -0.15254237288135594, -0.02040816326530612, -0.012145748987854251, -0.010309278350515464, 0.02127659574468085, 0.07142857142857142, 0.09012875536480687, 0.12, 0.14285714285714285, 0.2, 0.3333333333333333, 0.42857142857142855, 0.0, -1.0, -0.3333333333333333, 0.3333333333333333, 1.0, -0.42857142857142855, -0.4117647058823529, -0.1724137931034483, -0.1111111111111111, -0.041666666666666664, -0.008130081300813009, 0.034482758620689655, 0.041666666666666664, 0.07627118644067797, 0.08333333333333333, 0.42857142857142855, 0.5, 0.0, 1.0, -1.0, 0.3333333333333333, -0.5, -0.4444444444444444, -0.375, -0.1111111111111111, -0.03937007874015748, -0.0196078431372549, -0.012145748987854251, 0.037037037037037035, 0.06382978723404255, 0.07142857142857142, 0.08085106382978724, 0.2, 0.42857142857142855, 0.6666666666666666, 0.0, -0.3333333333333333, -1.0, 0.3333333333333333, -0.6, -0.5, -0.2, -0.09090909090909091, -0.0390625, -0.030303030303030304, -0.008130081300813009, 0.018867924528301886, 0.034482758620689655, 0.08333333333333333, 0.08547008547008547, 0.42857142857142855, 0.5, 0.7142857142857143, 1.0, 0.0, -1.0, -0.3333333333333333, 1.0, 0.037037037037037035, -0.47368421052631576, -0.25, -0.04247104247104247, -0.004048582995951417, 0.05555555555555555, 0.10638297872340426, 0.1111111111111111, 0.14285714285714285, 0.2, 0.5, 0.6666666666666666, 0.75, 0.0, -0.3333333333333333, -1.0, 0.3333333333333333, -0.42857142857142855, -0.2222222222222222, -0.046153846153846156, -0.02857142857142857, 0.05, 0.05084745762711865, 0.1111111111111111, 0.42857142857142855, 0.7142857142857143, 1.0, 0.0, -1.0, -0.5, -0.36363636363636365, -0.3333333333333333, -0.15789473684210525, -0.1111111111111111, -0.05555555555555555, -0.04247104247104247, -0.037037037037037035, 0.011406844106463879, 0.035211267605633804, 0.06666666666666667, 0.1320754716981132, 0.2, 0.5, 0.6666666666666666, 1.0, -0.3333333333333333, 0.0, 0.2, -0.30434782608695654, -0.2, -0.07692307692307693, -0.046153846153846156, -0.02857142857142857, 0.007575757575757576, 0.03496503496503497, 0.06451612903225806, 0.09090909090909091, 0.3333333333333333, 0.5, 1.0, -1.0, 0.0, -0.2727272727272727, -0.14285714285714285, -0.1111111111111111, -0.05555555555555555, -0.04182509505703422, 0.007518796992481203, 0.03832752613240418, 0.06896551724137931, 0.07936507936507936, 0.09090909090909091, 0.1111111111111111, 0.3333333333333333, 1.0, 1.0, 0.0, -1.0, -0.3333333333333333, 0.3333333333333333, -0.21739130434782608, -0.2, -0.1836734693877551, -0.03816793893129771, -0.022222222222222223, 0.011235955056179775, 0.031141868512110725, 0.0625, 0.07246376811594203, 0.25, 0.0, -1.0, -0.2, 0.3333333333333333, 1.0, -0.16666666666666666, -0.14285714285714285, -0.034220532319391636, -0.02127659574468085, 0.007462686567164179, 0.034482758620689655, 0.047619047619047616, 0.07042253521126761, 0.5, 0.0, -1.0, -0.3333333333333333, 0.2, 1.0, -0.2, -0.1891891891891892, -0.03787878787878788, 0.0037174721189591076, 0.031141868512110725, 0.05555555555555555, 0.0625, 0.3333333333333333, 0.0, 1.0, -0.3333333333333333, -0.2, 0.3333333333333333, -1.0, -0.037037037037037035, 0.0036900369003690036, 0.02127659574468085, 0.027777777777777776, 0.047619047619047616, 0.0684931506849315, 0.0, -1.0, 0.3333333333333333, -0.3333333333333333, -0.1891891891891892, -0.1111111111111111, -0.033210332103321034, 0.007352941176470588, 0.02422145328719723, 0.05555555555555555, 0.07692307692307693, 0.14285714285714285, 0.2, 0.25, 0.5, 0.0, 0.2, 1.0, -0.14285714285714285, -1.0, -0.3333333333333333, -0.25, -0.2, -0.03676470588235294, 0.003663003663003663, 0.022222222222222223, 0.027777777777777776, 0.0625, 0.07042253521126761, 0.25, 0.2727272727272727, 0.3333333333333333, 0.0, -1.0, 1.0, 0.5, -0.5, -0.25, -0.175, -0.04059040590405904, 0.0072992700729927005, 0.031141868512110725, 0.047619047619047616, 0.05714285714285714, 0.1111111111111111, 0.2, 0.25, 0.3333333333333333, -1.0, 0.14285714285714285, 0.3333333333333333, 0.6, 1.0, -0.3333333333333333, -0.2, -0.16049382716049382, -0.1111111111111111, -0.037037037037037035, -0.018867924528301886, -0.013986013986013986, 0.0, 0.036211699164345405, 0.0625, 0.2727272727272727, 0.42857142857142855, 1.0, -1.0, 0.0, 0.5, -0.5, -0.3333333333333333, -0.2, -0.175, -0.04059040590405904, -0.017421602787456445, 0.030303030303030304, 0.0335195530726257, 0.1111111111111111, 0.2, 0.25, 0.6666666666666666, 1.0, -0.3333333333333333, 0.0, -1.0, 0.2, 0.3333333333333333, 0.7142857142857143, -0.16455696202531644, -0.14285714285714285, -0.034055727554179564, -0.013888888888888888, 0.015384615384615385, 0.036211699164345405, 0.09090909090909091, 0.14285714285714285, 0.2727272727272727, 0.5555555555555556, 0.0, 1.0, -1.0, 0.07692307692307693, 0.3333333333333333, -0.5, -0.42857142857142855, -0.25, -0.2, -0.14634146341463414, -0.031055900621118012, -0.01730103806228374, 0.0335195530726257, 0.38461538461538464, 0.5, 0.7142857142857143, 0.7777777777777778, -1.0, -0.3333333333333333, 0.0, 0.3333333333333333, -0.5555555555555556, -0.25, -0.13253012048192772, -0.09090909090909091, -0.028037383177570093, -0.020833333333333332, -0.014925373134328358, 0.03888888888888889, 0.5, 0.75, 0.8, 1.0, 0.0, -1.0, -0.5, -0.45454545454545453, -0.4, -0.3333333333333333, -0.2, -0.14634146341463414, -0.09090909090909091, -0.043478260869565216, -0.037037037037037035, -0.01730103806228374, 0.03314917127071823, 0.2, 0.23076923076923078, 0.2727272727272727, 0.3333333333333333, 0.5, 0.5555555555555556, 0.8181818181818182, 1.0, 0.0, -1.0, 0.2, 0.3333333333333333, -0.6666666666666666, -0.5, -0.2727272727272727, -0.2, -0.07692307692307693, -0.043478260869565216, -0.04225352112676056, -0.04024767801857585, -0.020689655172413793, 0.09090909090909091, 0.4, 0.8333333333333334, 1.0, 0.0, -0.3333333333333333, -1.0, -0.42857142857142855, -0.09090909090909091, -0.037267080745341616, -0.027777777777777776, -0.024054982817869417, 0.06666666666666667, 0.16666666666666666, 0.2727272727272727, 0.29411764705882354, 0.5, 0.6923076923076923], \"yaxis\": \"y\"}],\n",
              "                        {\"legend\": {\"itemsizing\": \"constant\", \"tracegroupgap\": 0}, \"margin\": {\"t\": 60}, \"template\": {\"data\": {\"bar\": [{\"error_x\": {\"color\": \"#2a3f5f\"}, \"error_y\": {\"color\": \"#2a3f5f\"}, \"marker\": {\"line\": {\"color\": \"#E5ECF6\", \"width\": 0.5}}, \"type\": \"bar\"}], \"barpolar\": [{\"marker\": {\"line\": {\"color\": \"#E5ECF6\", \"width\": 0.5}}, \"type\": \"barpolar\"}], \"carpet\": [{\"aaxis\": {\"endlinecolor\": \"#2a3f5f\", \"gridcolor\": \"white\", \"linecolor\": \"white\", \"minorgridcolor\": \"white\", \"startlinecolor\": \"#2a3f5f\"}, \"baxis\": {\"endlinecolor\": \"#2a3f5f\", \"gridcolor\": \"white\", \"linecolor\": \"white\", \"minorgridcolor\": \"white\", \"startlinecolor\": \"#2a3f5f\"}, \"type\": \"carpet\"}], \"choropleth\": [{\"colorbar\": {\"outlinewidth\": 0, \"ticks\": \"\"}, \"type\": \"choropleth\"}], \"contour\": [{\"colorbar\": {\"outlinewidth\": 0, \"ticks\": \"\"}, \"colorscale\": [[0.0, \"#0d0887\"], [0.1111111111111111, \"#46039f\"], [0.2222222222222222, \"#7201a8\"], [0.3333333333333333, \"#9c179e\"], [0.4444444444444444, \"#bd3786\"], [0.5555555555555556, \"#d8576b\"], [0.6666666666666666, \"#ed7953\"], [0.7777777777777778, \"#fb9f3a\"], [0.8888888888888888, \"#fdca26\"], [1.0, \"#f0f921\"]], \"type\": \"contour\"}], \"contourcarpet\": [{\"colorbar\": {\"outlinewidth\": 0, \"ticks\": \"\"}, \"type\": \"contourcarpet\"}], \"heatmap\": [{\"colorbar\": {\"outlinewidth\": 0, \"ticks\": \"\"}, \"colorscale\": [[0.0, \"#0d0887\"], [0.1111111111111111, \"#46039f\"], [0.2222222222222222, \"#7201a8\"], [0.3333333333333333, \"#9c179e\"], [0.4444444444444444, \"#bd3786\"], [0.5555555555555556, \"#d8576b\"], [0.6666666666666666, \"#ed7953\"], [0.7777777777777778, \"#fb9f3a\"], [0.8888888888888888, \"#fdca26\"], [1.0, \"#f0f921\"]], \"type\": \"heatmap\"}], \"heatmapgl\": [{\"colorbar\": {\"outlinewidth\": 0, \"ticks\": \"\"}, \"colorscale\": [[0.0, \"#0d0887\"], [0.1111111111111111, \"#46039f\"], [0.2222222222222222, \"#7201a8\"], [0.3333333333333333, \"#9c179e\"], [0.4444444444444444, \"#bd3786\"], [0.5555555555555556, \"#d8576b\"], [0.6666666666666666, \"#ed7953\"], [0.7777777777777778, \"#fb9f3a\"], [0.8888888888888888, \"#fdca26\"], [1.0, \"#f0f921\"]], \"type\": \"heatmapgl\"}], \"histogram\": [{\"marker\": {\"colorbar\": {\"outlinewidth\": 0, \"ticks\": \"\"}}, \"type\": \"histogram\"}], \"histogram2d\": [{\"colorbar\": {\"outlinewidth\": 0, \"ticks\": \"\"}, \"colorscale\": [[0.0, \"#0d0887\"], [0.1111111111111111, \"#46039f\"], [0.2222222222222222, \"#7201a8\"], [0.3333333333333333, \"#9c179e\"], [0.4444444444444444, \"#bd3786\"], [0.5555555555555556, \"#d8576b\"], [0.6666666666666666, \"#ed7953\"], [0.7777777777777778, \"#fb9f3a\"], [0.8888888888888888, \"#fdca26\"], [1.0, \"#f0f921\"]], \"type\": \"histogram2d\"}], \"histogram2dcontour\": [{\"colorbar\": {\"outlinewidth\": 0, \"ticks\": \"\"}, \"colorscale\": [[0.0, \"#0d0887\"], [0.1111111111111111, \"#46039f\"], [0.2222222222222222, \"#7201a8\"], [0.3333333333333333, \"#9c179e\"], [0.4444444444444444, \"#bd3786\"], [0.5555555555555556, \"#d8576b\"], [0.6666666666666666, \"#ed7953\"], [0.7777777777777778, \"#fb9f3a\"], [0.8888888888888888, \"#fdca26\"], [1.0, \"#f0f921\"]], \"type\": \"histogram2dcontour\"}], \"mesh3d\": [{\"colorbar\": {\"outlinewidth\": 0, \"ticks\": \"\"}, \"type\": \"mesh3d\"}], \"parcoords\": [{\"line\": {\"colorbar\": {\"outlinewidth\": 0, \"ticks\": \"\"}}, \"type\": \"parcoords\"}], \"pie\": [{\"automargin\": true, \"type\": \"pie\"}], \"scatter\": [{\"marker\": {\"colorbar\": {\"outlinewidth\": 0, \"ticks\": \"\"}}, \"type\": \"scatter\"}], \"scatter3d\": [{\"line\": {\"colorbar\": {\"outlinewidth\": 0, \"ticks\": \"\"}}, \"marker\": {\"colorbar\": {\"outlinewidth\": 0, \"ticks\": \"\"}}, \"type\": \"scatter3d\"}], \"scattercarpet\": [{\"marker\": {\"colorbar\": {\"outlinewidth\": 0, \"ticks\": \"\"}}, \"type\": \"scattercarpet\"}], \"scattergeo\": [{\"marker\": {\"colorbar\": {\"outlinewidth\": 0, \"ticks\": \"\"}}, \"type\": \"scattergeo\"}], \"scattergl\": [{\"marker\": {\"colorbar\": {\"outlinewidth\": 0, \"ticks\": \"\"}}, \"type\": \"scattergl\"}], \"scattermapbox\": [{\"marker\": {\"colorbar\": {\"outlinewidth\": 0, \"ticks\": \"\"}}, \"type\": \"scattermapbox\"}], \"scatterpolar\": [{\"marker\": {\"colorbar\": {\"outlinewidth\": 0, \"ticks\": \"\"}}, \"type\": \"scatterpolar\"}], \"scatterpolargl\": [{\"marker\": {\"colorbar\": {\"outlinewidth\": 0, \"ticks\": \"\"}}, \"type\": \"scatterpolargl\"}], \"scatterternary\": [{\"marker\": {\"colorbar\": {\"outlinewidth\": 0, \"ticks\": \"\"}}, \"type\": \"scatterternary\"}], \"surface\": [{\"colorbar\": {\"outlinewidth\": 0, \"ticks\": \"\"}, \"colorscale\": [[0.0, \"#0d0887\"], [0.1111111111111111, \"#46039f\"], [0.2222222222222222, \"#7201a8\"], [0.3333333333333333, \"#9c179e\"], [0.4444444444444444, \"#bd3786\"], [0.5555555555555556, \"#d8576b\"], [0.6666666666666666, \"#ed7953\"], [0.7777777777777778, \"#fb9f3a\"], [0.8888888888888888, \"#fdca26\"], [1.0, \"#f0f921\"]], \"type\": \"surface\"}], \"table\": [{\"cells\": {\"fill\": {\"color\": \"#EBF0F8\"}, \"line\": {\"color\": \"white\"}}, \"header\": {\"fill\": {\"color\": \"#C8D4E3\"}, \"line\": {\"color\": \"white\"}}, \"type\": \"table\"}]}, \"layout\": {\"annotationdefaults\": {\"arrowcolor\": \"#2a3f5f\", \"arrowhead\": 0, \"arrowwidth\": 1}, \"coloraxis\": {\"colorbar\": {\"outlinewidth\": 0, \"ticks\": \"\"}}, \"colorscale\": {\"diverging\": [[0, \"#8e0152\"], [0.1, \"#c51b7d\"], [0.2, \"#de77ae\"], [0.3, \"#f1b6da\"], [0.4, \"#fde0ef\"], [0.5, \"#f7f7f7\"], [0.6, \"#e6f5d0\"], [0.7, \"#b8e186\"], [0.8, \"#7fbc41\"], [0.9, \"#4d9221\"], [1, \"#276419\"]], \"sequential\": [[0.0, \"#0d0887\"], [0.1111111111111111, \"#46039f\"], [0.2222222222222222, \"#7201a8\"], [0.3333333333333333, \"#9c179e\"], [0.4444444444444444, \"#bd3786\"], [0.5555555555555556, \"#d8576b\"], [0.6666666666666666, \"#ed7953\"], [0.7777777777777778, \"#fb9f3a\"], [0.8888888888888888, \"#fdca26\"], [1.0, \"#f0f921\"]], \"sequentialminus\": [[0.0, \"#0d0887\"], [0.1111111111111111, \"#46039f\"], [0.2222222222222222, \"#7201a8\"], [0.3333333333333333, \"#9c179e\"], [0.4444444444444444, \"#bd3786\"], [0.5555555555555556, \"#d8576b\"], [0.6666666666666666, \"#ed7953\"], [0.7777777777777778, \"#fb9f3a\"], [0.8888888888888888, \"#fdca26\"], [1.0, \"#f0f921\"]]}, \"colorway\": [\"#636efa\", \"#EF553B\", \"#00cc96\", \"#ab63fa\", \"#FFA15A\", \"#19d3f3\", \"#FF6692\", \"#B6E880\", \"#FF97FF\", \"#FECB52\"], \"font\": {\"color\": \"#2a3f5f\"}, \"geo\": {\"bgcolor\": \"white\", \"lakecolor\": \"white\", \"landcolor\": \"#E5ECF6\", \"showlakes\": true, \"showland\": true, \"subunitcolor\": \"white\"}, \"hoverlabel\": {\"align\": \"left\"}, \"hovermode\": \"closest\", \"mapbox\": {\"style\": \"light\"}, \"paper_bgcolor\": \"white\", \"plot_bgcolor\": \"#E5ECF6\", \"polar\": {\"angularaxis\": {\"gridcolor\": \"white\", \"linecolor\": \"white\", \"ticks\": \"\"}, \"bgcolor\": \"#E5ECF6\", \"radialaxis\": {\"gridcolor\": \"white\", \"linecolor\": \"white\", \"ticks\": \"\"}}, \"scene\": {\"xaxis\": {\"backgroundcolor\": \"#E5ECF6\", \"gridcolor\": \"white\", \"gridwidth\": 2, \"linecolor\": \"white\", \"showbackground\": true, \"ticks\": \"\", \"zerolinecolor\": \"white\"}, \"yaxis\": {\"backgroundcolor\": \"#E5ECF6\", \"gridcolor\": \"white\", \"gridwidth\": 2, \"linecolor\": \"white\", \"showbackground\": true, \"ticks\": \"\", \"zerolinecolor\": \"white\"}, \"zaxis\": {\"backgroundcolor\": \"#E5ECF6\", \"gridcolor\": \"white\", \"gridwidth\": 2, \"linecolor\": \"white\", \"showbackground\": true, \"ticks\": \"\", \"zerolinecolor\": \"white\"}}, \"shapedefaults\": {\"line\": {\"color\": \"#2a3f5f\"}}, \"ternary\": {\"aaxis\": {\"gridcolor\": \"white\", \"linecolor\": \"white\", \"ticks\": \"\"}, \"baxis\": {\"gridcolor\": \"white\", \"linecolor\": \"white\", \"ticks\": \"\"}, \"bgcolor\": \"#E5ECF6\", \"caxis\": {\"gridcolor\": \"white\", \"linecolor\": \"white\", \"ticks\": \"\"}}, \"title\": {\"x\": 0.05}, \"xaxis\": {\"automargin\": true, \"gridcolor\": \"white\", \"linecolor\": \"white\", \"ticks\": \"\", \"title\": {\"standoff\": 15}, \"zerolinecolor\": \"white\", \"zerolinewidth\": 2}, \"yaxis\": {\"automargin\": true, \"gridcolor\": \"white\", \"linecolor\": \"white\", \"ticks\": \"\", \"title\": {\"standoff\": 15}, \"zerolinecolor\": \"white\", \"zerolinewidth\": 2}}}, \"xaxis\": {\"anchor\": \"y\", \"domain\": [0.0, 1.0], \"title\": {\"text\": \"Iteration\"}}, \"yaxis\": {\"anchor\": \"x\", \"domain\": [0.0, 1.0], \"title\": {\"text\": \"Signed ee\"}}},\n",
              "                        {\"responsive\": true}\n",
              "                    ).then(function(){\n",
              "                            \n",
              "var gd = document.getElementById('776f1c68-b311-4b68-a495-699e5ff5f80d');\n",
              "var x = new MutationObserver(function (mutations, observer) {{\n",
              "        var display = window.getComputedStyle(gd).display;\n",
              "        if (!display || display === 'none') {{\n",
              "            console.log([gd, 'removed!']);\n",
              "            Plotly.purge(gd);\n",
              "            observer.disconnect();\n",
              "        }}\n",
              "}});\n",
              "\n",
              "// Listen for the removal of the full notebook cells\n",
              "var notebookContainer = gd.closest('#notebook-container');\n",
              "if (notebookContainer) {{\n",
              "    x.observe(notebookContainer, {childList: true});\n",
              "}}\n",
              "\n",
              "// Listen for the clearing of the current output cell\n",
              "var outputEl = gd.closest('.output');\n",
              "if (outputEl) {{\n",
              "    x.observe(outputEl, {childList: true});\n",
              "}}\n",
              "\n",
              "                        })\n",
              "                };\n",
              "                \n",
              "            </script>\n",
              "        </div>\n",
              "</body>\n",
              "</html>"
            ]
          },
          "metadata": {
            "tags": [
              "id2_content_2",
              "outputarea_id2",
              "user_output"
            ]
          }
        },
        {
          "output_type": "display_data",
          "data": {
            "application/javascript": [
              "window[\"d0261c4a-bbaf-11ea-974d-0242ac1c0002\"] = google.colab.output.setActiveOutputArea(window[\"cfd2fefc-bbaf-11ea-974d-0242ac1c0002\"]);\n",
              "//# sourceURL=js_8a1d1df81b"
            ],
            "text/plain": [
              "<IPython.core.display.Javascript object>"
            ]
          },
          "metadata": {
            "tags": [
              "id2_content_2",
              "outputarea_id2"
            ]
          }
        },
        {
          "output_type": "display_data",
          "data": {
            "application/javascript": [
              "window[\"d027b366-bbaf-11ea-974d-0242ac1c0002\"] = google.colab.output.getActiveOutputArea();\n",
              "//# sourceURL=js_4586d13117"
            ],
            "text/plain": [
              "<IPython.core.display.Javascript object>"
            ]
          },
          "metadata": {
            "tags": [
              "id2_content_3",
              "outputarea_id2"
            ]
          }
        },
        {
          "output_type": "display_data",
          "data": {
            "application/javascript": [
              "window[\"d0282044-bbaf-11ea-974d-0242ac1c0002\"] = document.querySelector(\"#id2_content_3\");\n",
              "//# sourceURL=js_ea98464597"
            ],
            "text/plain": [
              "<IPython.core.display.Javascript object>"
            ]
          },
          "metadata": {
            "tags": [
              "id2_content_3",
              "outputarea_id2"
            ]
          }
        },
        {
          "output_type": "display_data",
          "data": {
            "application/javascript": [
              "window[\"d02878c8-bbaf-11ea-974d-0242ac1c0002\"] = google.colab.output.setActiveOutputArea(window[\"d0282044-bbaf-11ea-974d-0242ac1c0002\"]);\n",
              "//# sourceURL=js_96ae810bd9"
            ],
            "text/plain": [
              "<IPython.core.display.Javascript object>"
            ]
          },
          "metadata": {
            "tags": [
              "id2_content_3",
              "outputarea_id2"
            ]
          }
        },
        {
          "output_type": "display_data",
          "data": {
            "application/javascript": [
              "window[\"d028c1fc-bbaf-11ea-974d-0242ac1c0002\"] = window[\"id2\"].setSelectedTabIndex(3);\n",
              "//# sourceURL=js_3faa016938"
            ],
            "text/plain": [
              "<IPython.core.display.Javascript object>"
            ]
          },
          "metadata": {
            "tags": [
              "id2_content_3",
              "outputarea_id2"
            ]
          }
        },
        {
          "output_type": "display_data",
          "data": {
            "image/png": "[encoded data removed]",
            "text/plain": [
              "<Figure size 900x600 with 1 Axes>"
            ]
          },
          "metadata": {
            "tags": [
              "id2_content_3",
              "outputarea_id2",
              "user_output"
            ],
            "needs_background": "light"
          }
        },
        {
          "output_type": "display_data",
          "data": {
            "application/javascript": [
              "window[\"d0737a12-bbaf-11ea-974d-0242ac1c0002\"] = google.colab.output.setActiveOutputArea(window[\"d027b366-bbaf-11ea-974d-0242ac1c0002\"]);\n",
              "//# sourceURL=js_3e9bca3bc0"
            ],
            "text/plain": [
              "<IPython.core.display.Javascript object>"
            ]
          },
          "metadata": {
            "tags": [
              "id2_content_3",
              "outputarea_id2"
            ]
          }
        },
        {
          "output_type": "display_data",
          "data": {
            "application/javascript": [
              "window[\"d0748420-bbaf-11ea-974d-0242ac1c0002\"] = google.colab.output.getActiveOutputArea();\n",
              "//# sourceURL=js_f4252fa015"
            ],
            "text/plain": [
              "<IPython.core.display.Javascript object>"
            ]
          },
          "metadata": {
            "tags": [
              "id2_content_4",
              "outputarea_id2"
            ]
          }
        },
        {
          "output_type": "display_data",
          "data": {
            "application/javascript": [
              "window[\"d074c8fe-bbaf-11ea-974d-0242ac1c0002\"] = document.querySelector(\"#id2_content_4\");\n",
              "//# sourceURL=js_49d7c8cef4"
            ],
            "text/plain": [
              "<IPython.core.display.Javascript object>"
            ]
          },
          "metadata": {
            "tags": [
              "id2_content_4",
              "outputarea_id2"
            ]
          }
        },
        {
          "output_type": "display_data",
          "data": {
            "application/javascript": [
              "window[\"d075211e-bbaf-11ea-974d-0242ac1c0002\"] = google.colab.output.setActiveOutputArea(window[\"d074c8fe-bbaf-11ea-974d-0242ac1c0002\"]);\n",
              "//# sourceURL=js_bbdb0c22f5"
            ],
            "text/plain": [
              "<IPython.core.display.Javascript object>"
            ]
          },
          "metadata": {
            "tags": [
              "id2_content_4",
              "outputarea_id2"
            ]
          }
        },
        {
          "output_type": "display_data",
          "data": {
            "application/javascript": [
              "window[\"d0756ee4-bbaf-11ea-974d-0242ac1c0002\"] = window[\"id2\"].setSelectedTabIndex(4);\n",
              "//# sourceURL=js_6dda214f57"
            ],
            "text/plain": [
              "<IPython.core.display.Javascript object>"
            ]
          },
          "metadata": {
            "tags": [
              "id2_content_4",
              "outputarea_id2"
            ]
          }
        },
        {
          "output_type": "display_data",
          "data": {
            "image/png": "[encoded data removed]",
            "text/plain": [
              "<Figure size 432x288 with 1 Axes>"
            ]
          },
          "metadata": {
            "tags": [
              "id2_content_4",
              "outputarea_id2",
              "user_output"
            ],
            "needs_background": "light"
          }
        },
        {
          "output_type": "display_data",
          "data": {
            "application/javascript": [
              "window[\"d09cc78c-bbaf-11ea-974d-0242ac1c0002\"] = google.colab.output.setActiveOutputArea(window[\"d0748420-bbaf-11ea-974d-0242ac1c0002\"]);\n",
              "//# sourceURL=js_d88f8bf44f"
            ],
            "text/plain": [
              "<IPython.core.display.Javascript object>"
            ]
          },
          "metadata": {
            "tags": [
              "id2_content_4",
              "outputarea_id2"
            ]
          }
        },
        {
          "output_type": "display_data",
          "data": {
            "application/javascript": [
              "window[\"d0a0b1e4-bbaf-11ea-974d-0242ac1c0002\"] = google.colab.output.getActiveOutputArea();\n",
              "//# sourceURL=js_80ea93f95f"
            ],
            "text/plain": [
              "<IPython.core.display.Javascript object>"
            ]
          },
          "metadata": {
            "tags": [
              "id2_content_5",
              "outputarea_id2"
            ]
          }
        },
        {
          "output_type": "display_data",
          "data": {
            "application/javascript": [
              "window[\"d0a10a7c-bbaf-11ea-974d-0242ac1c0002\"] = document.querySelector(\"#id2_content_5\");\n",
              "//# sourceURL=js_c27dadcdba"
            ],
            "text/plain": [
              "<IPython.core.display.Javascript object>"
            ]
          },
          "metadata": {
            "tags": [
              "id2_content_5",
              "outputarea_id2"
            ]
          }
        },
        {
          "output_type": "display_data",
          "data": {
            "application/javascript": [
              "window[\"d0a1bd46-bbaf-11ea-974d-0242ac1c0002\"] = google.colab.output.setActiveOutputArea(window[\"d0a10a7c-bbaf-11ea-974d-0242ac1c0002\"]);\n",
              "//# sourceURL=js_4ec771dff3"
            ],
            "text/plain": [
              "<IPython.core.display.Javascript object>"
            ]
          },
          "metadata": {
            "tags": [
              "id2_content_5",
              "outputarea_id2"
            ]
          }
        },
        {
          "output_type": "display_data",
          "data": {
            "application/javascript": [
              "window[\"d0a23078-bbaf-11ea-974d-0242ac1c0002\"] = window[\"id2\"].setSelectedTabIndex(5);\n",
              "//# sourceURL=js_db99315856"
            ],
            "text/plain": [
              "<IPython.core.display.Javascript object>"
            ]
          },
          "metadata": {
            "tags": [
              "id2_content_5",
              "outputarea_id2"
            ]
          }
        },
        {
          "output_type": "display_data",
          "data": {
            "image/png": "[encoded data removed]",
            "text/plain": [
              "<Figure size 432x288 with 1 Axes>"
            ]
          },
          "metadata": {
            "tags": [
              "id2_content_5",
              "outputarea_id2",
              "user_output"
            ],
            "needs_background": "light"
          }
        },
        {
          "output_type": "display_data",
          "data": {
            "application/javascript": [
              "window[\"d0c7f27c-bbaf-11ea-974d-0242ac1c0002\"] = google.colab.output.setActiveOutputArea(window[\"d0a0b1e4-bbaf-11ea-974d-0242ac1c0002\"]);\n",
              "//# sourceURL=js_d6b6656561"
            ],
            "text/plain": [
              "<IPython.core.display.Javascript object>"
            ]
          },
          "metadata": {
            "tags": [
              "id2_content_5",
              "outputarea_id2"
            ]
          }
        },
        {
          "output_type": "display_data",
          "data": {
            "application/javascript": [
              "window[\"d0c95810-bbaf-11ea-974d-0242ac1c0002\"] = google.colab.output.getActiveOutputArea();\n",
              "//# sourceURL=js_843866ab40"
            ],
            "text/plain": [
              "<IPython.core.display.Javascript object>"
            ]
          },
          "metadata": {
            "tags": [
              "id2_content_6",
              "outputarea_id2"
            ]
          }
        },
        {
          "output_type": "display_data",
          "data": {
            "application/javascript": [
              "window[\"d0c9aea0-bbaf-11ea-974d-0242ac1c0002\"] = document.querySelector(\"#id2_content_6\");\n",
              "//# sourceURL=js_a71b69b4d4"
            ],
            "text/plain": [
              "<IPython.core.display.Javascript object>"
            ]
          },
          "metadata": {
            "tags": [
              "id2_content_6",
              "outputarea_id2"
            ]
          }
        },
        {
          "output_type": "display_data",
          "data": {
            "application/javascript": [
              "window[\"d0ca0198-bbaf-11ea-974d-0242ac1c0002\"] = google.colab.output.setActiveOutputArea(window[\"d0c9aea0-bbaf-11ea-974d-0242ac1c0002\"]);\n",
              "//# sourceURL=js_338a8f2250"
            ],
            "text/plain": [
              "<IPython.core.display.Javascript object>"
            ]
          },
          "metadata": {
            "tags": [
              "id2_content_6",
              "outputarea_id2"
            ]
          }
        },
        {
          "output_type": "display_data",
          "data": {
            "application/javascript": [
              "window[\"d0ca4b26-bbaf-11ea-974d-0242ac1c0002\"] = window[\"id2\"].setSelectedTabIndex(6);\n",
              "//# sourceURL=js_967cd1d6ab"
            ],
            "text/plain": [
              "<IPython.core.display.Javascript object>"
            ]
          },
          "metadata": {
            "tags": [
              "id2_content_6",
              "outputarea_id2"
            ]
          }
        },
        {
          "output_type": "display_data",
          "data": {
            "image/png": "[encoded data removed]",
            "text/plain": [
              "<Figure size 432x288 with 1 Axes>"
            ]
          },
          "metadata": {
            "tags": [
              "id2_content_6",
              "outputarea_id2",
              "user_output"
            ],
            "needs_background": "light"
          }
        },
        {
          "output_type": "display_data",
          "data": {
            "application/javascript": [
              "window[\"d0eaa286-bbaf-11ea-974d-0242ac1c0002\"] = google.colab.output.setActiveOutputArea(window[\"d0c95810-bbaf-11ea-974d-0242ac1c0002\"]);\n",
              "//# sourceURL=js_0b722cea16"
            ],
            "text/plain": [
              "<IPython.core.display.Javascript object>"
            ]
          },
          "metadata": {
            "tags": [
              "id2_content_6",
              "outputarea_id2"
            ]
          }
        },
        {
          "output_type": "display_data",
          "data": {
            "application/javascript": [
              "window[\"d0ed191c-bbaf-11ea-974d-0242ac1c0002\"] = google.colab.output.getActiveOutputArea();\n",
              "//# sourceURL=js_25bb962c38"
            ],
            "text/plain": [
              "<IPython.core.display.Javascript object>"
            ]
          },
          "metadata": {
            "tags": [
              "id2_content_7",
              "outputarea_id2"
            ]
          }
        },
        {
          "output_type": "display_data",
          "data": {
            "application/javascript": [
              "window[\"d0ed6822-bbaf-11ea-974d-0242ac1c0002\"] = document.querySelector(\"#id2_content_7\");\n",
              "//# sourceURL=js_7c734821e7"
            ],
            "text/plain": [
              "<IPython.core.display.Javascript object>"
            ]
          },
          "metadata": {
            "tags": [
              "id2_content_7",
              "outputarea_id2"
            ]
          }
        },
        {
          "output_type": "display_data",
          "data": {
            "application/javascript": [
              "window[\"d0edd7c6-bbaf-11ea-974d-0242ac1c0002\"] = google.colab.output.setActiveOutputArea(window[\"d0ed6822-bbaf-11ea-974d-0242ac1c0002\"]);\n",
              "//# sourceURL=js_7f317972ed"
            ],
            "text/plain": [
              "<IPython.core.display.Javascript object>"
            ]
          },
          "metadata": {
            "tags": [
              "id2_content_7",
              "outputarea_id2"
            ]
          }
        },
        {
          "output_type": "display_data",
          "data": {
            "application/javascript": [
              "window[\"d0ee3da6-bbaf-11ea-974d-0242ac1c0002\"] = window[\"id2\"].setSelectedTabIndex(7);\n",
              "//# sourceURL=js_3bc6d69790"
            ],
            "text/plain": [
              "<IPython.core.display.Javascript object>"
            ]
          },
          "metadata": {
            "tags": [
              "id2_content_7",
              "outputarea_id2"
            ]
          }
        },
        {
          "output_type": "display_data",
          "data": {
            "image/png": "[encoded data removed]",
            "text/plain": [
              "<Figure size 432x288 with 1 Axes>"
            ]
          },
          "metadata": {
            "tags": [
              "id2_content_7",
              "outputarea_id2",
              "user_output"
            ],
            "needs_background": "light"
          }
        },
        {
          "output_type": "display_data",
          "data": {
            "application/javascript": [
              "window[\"d12276ac-bbaf-11ea-974d-0242ac1c0002\"] = google.colab.output.setActiveOutputArea(window[\"d0ed191c-bbaf-11ea-974d-0242ac1c0002\"]);\n",
              "//# sourceURL=js_1106e8cef6"
            ],
            "text/plain": [
              "<IPython.core.display.Javascript object>"
            ]
          },
          "metadata": {
            "tags": [
              "id2_content_7",
              "outputarea_id2"
            ]
          }
        },
        {
          "output_type": "display_data",
          "data": {
            "application/javascript": [
              "window[\"d1255c6e-bbaf-11ea-974d-0242ac1c0002\"] = google.colab.output.getActiveOutputArea();\n",
              "//# sourceURL=js_38186b3397"
            ],
            "text/plain": [
              "<IPython.core.display.Javascript object>"
            ]
          },
          "metadata": {
            "tags": [
              "id2_content_8",
              "outputarea_id2"
            ]
          }
        },
        {
          "output_type": "display_data",
          "data": {
            "application/javascript": [
              "window[\"d125c35c-bbaf-11ea-974d-0242ac1c0002\"] = document.querySelector(\"#id2_content_8\");\n",
              "//# sourceURL=js_32cee23c09"
            ],
            "text/plain": [
              "<IPython.core.display.Javascript object>"
            ]
          },
          "metadata": {
            "tags": [
              "id2_content_8",
              "outputarea_id2"
            ]
          }
        },
        {
          "output_type": "display_data",
          "data": {
            "application/javascript": [
              "window[\"d1261c30-bbaf-11ea-974d-0242ac1c0002\"] = google.colab.output.setActiveOutputArea(window[\"d125c35c-bbaf-11ea-974d-0242ac1c0002\"]);\n",
              "//# sourceURL=js_6d3f6b1840"
            ],
            "text/plain": [
              "<IPython.core.display.Javascript object>"
            ]
          },
          "metadata": {
            "tags": [
              "id2_content_8",
              "outputarea_id2"
            ]
          }
        },
        {
          "output_type": "display_data",
          "data": {
            "application/javascript": [
              "window[\"d1269e62-bbaf-11ea-974d-0242ac1c0002\"] = window[\"id2\"].setSelectedTabIndex(8);\n",
              "//# sourceURL=js_bef1fb3577"
            ],
            "text/plain": [
              "<IPython.core.display.Javascript object>"
            ]
          },
          "metadata": {
            "tags": [
              "id2_content_8",
              "outputarea_id2"
            ]
          }
        },
        {
          "output_type": "display_data",
          "data": {
            "image/png": "[encoded data removed]",
            "text/plain": [
              "<Figure size 432x288 with 1 Axes>"
            ]
          },
          "metadata": {
            "tags": [
              "id2_content_8",
              "outputarea_id2",
              "user_output"
            ],
            "needs_background": "light"
          }
        },
        {
          "output_type": "display_data",
          "data": {
            "application/javascript": [
              "window[\"d14464e2-bbaf-11ea-974d-0242ac1c0002\"] = google.colab.output.setActiveOutputArea(window[\"d1255c6e-bbaf-11ea-974d-0242ac1c0002\"]);\n",
              "//# sourceURL=js_fca8047be1"
            ],
            "text/plain": [
              "<IPython.core.display.Javascript object>"
            ]
          },
          "metadata": {
            "tags": [
              "id2_content_8",
              "outputarea_id2"
            ]
          }
        },
        {
          "output_type": "display_data",
          "data": {
            "application/javascript": [
              "window[\"d145960a-bbaf-11ea-974d-0242ac1c0002\"] = google.colab.output.getActiveOutputArea();\n",
              "//# sourceURL=js_6e0a4fedbf"
            ],
            "text/plain": [
              "<IPython.core.display.Javascript object>"
            ]
          },
          "metadata": {
            "tags": [
              "id2_content_9",
              "outputarea_id2"
            ]
          }
        },
        {
          "output_type": "display_data",
          "data": {
            "application/javascript": [
              "window[\"d145da20-bbaf-11ea-974d-0242ac1c0002\"] = document.querySelector(\"#id2_content_9\");\n",
              "//# sourceURL=js_6c15da6dc5"
            ],
            "text/plain": [
              "<IPython.core.display.Javascript object>"
            ]
          },
          "metadata": {
            "tags": [
              "id2_content_9",
              "outputarea_id2"
            ]
          }
        },
        {
          "output_type": "display_data",
          "data": {
            "application/javascript": [
              "window[\"d1461c24-bbaf-11ea-974d-0242ac1c0002\"] = google.colab.output.setActiveOutputArea(window[\"d145da20-bbaf-11ea-974d-0242ac1c0002\"]);\n",
              "//# sourceURL=js_dd6fb898d3"
            ],
            "text/plain": [
              "<IPython.core.display.Javascript object>"
            ]
          },
          "metadata": {
            "tags": [
              "id2_content_9",
              "outputarea_id2"
            ]
          }
        },
        {
          "output_type": "display_data",
          "data": {
            "application/javascript": [
              "window[\"d1465a86-bbaf-11ea-974d-0242ac1c0002\"] = window[\"id2\"].setSelectedTabIndex(9);\n",
              "//# sourceURL=js_fd5b941fb7"
            ],
            "text/plain": [
              "<IPython.core.display.Javascript object>"
            ]
          },
          "metadata": {
            "tags": [
              "id2_content_9",
              "outputarea_id2"
            ]
          }
        },
        {
          "output_type": "display_data",
          "data": {
            "text/plain": [
              "<Figure size 432x288 with 0 Axes>"
            ]
          },
          "metadata": {
            "tags": [
              "id2_content_9",
              "outputarea_id2",
              "user_output"
            ]
          }
        },
        {
          "output_type": "display_data",
          "data": {
            "image/png": "[encoded data removed]",
            "text/plain": [
              "<Figure size 432x288 with 1 Axes>"
            ]
          },
          "metadata": {
            "tags": [
              "id2_content_9",
              "outputarea_id2",
              "user_output"
            ],
            "needs_background": "light"
          }
        },
        {
          "output_type": "display_data",
          "data": {
            "application/javascript": [
              "window[\"d168206c-bbaf-11ea-974d-0242ac1c0002\"] = google.colab.output.setActiveOutputArea(window[\"d145960a-bbaf-11ea-974d-0242ac1c0002\"]);\n",
              "//# sourceURL=js_239893a8f5"
            ],
            "text/plain": [
              "<IPython.core.display.Javascript object>"
            ]
          },
          "metadata": {
            "tags": [
              "id2_content_9",
              "outputarea_id2"
            ]
          }
        },
        {
          "output_type": "display_data",
          "data": {
            "application/javascript": [
              "window[\"d16972a0-bbaf-11ea-974d-0242ac1c0002\"] = google.colab.output.getActiveOutputArea();\n",
              "//# sourceURL=js_c7e37f7d27"
            ],
            "text/plain": [
              "<IPython.core.display.Javascript object>"
            ]
          },
          "metadata": {
            "tags": [
              "id2_content_10",
              "outputarea_id2"
            ]
          }
        },
        {
          "output_type": "display_data",
          "data": {
            "application/javascript": [
              "window[\"d169b454-bbaf-11ea-974d-0242ac1c0002\"] = document.querySelector(\"#id2_content_10\");\n",
              "//# sourceURL=js_864d222bfc"
            ],
            "text/plain": [
              "<IPython.core.display.Javascript object>"
            ]
          },
          "metadata": {
            "tags": [
              "id2_content_10",
              "outputarea_id2"
            ]
          }
        },
        {
          "output_type": "display_data",
          "data": {
            "application/javascript": [
              "window[\"d169ff90-bbaf-11ea-974d-0242ac1c0002\"] = google.colab.output.setActiveOutputArea(window[\"d169b454-bbaf-11ea-974d-0242ac1c0002\"]);\n",
              "//# sourceURL=js_48298572ab"
            ],
            "text/plain": [
              "<IPython.core.display.Javascript object>"
            ]
          },
          "metadata": {
            "tags": [
              "id2_content_10",
              "outputarea_id2"
            ]
          }
        },
        {
          "output_type": "display_data",
          "data": {
            "application/javascript": [
              "window[\"d16a3f1e-bbaf-11ea-974d-0242ac1c0002\"] = window[\"id2\"].setSelectedTabIndex(10);\n",
              "//# sourceURL=js_63692bef50"
            ],
            "text/plain": [
              "<IPython.core.display.Javascript object>"
            ]
          },
          "metadata": {
            "tags": [
              "id2_content_10",
              "outputarea_id2"
            ]
          }
        },
        {
          "output_type": "display_data",
          "data": {
            "image/png": "[encoded data removed]",
            "text/plain": [
              "<Figure size 432x288 with 1 Axes>"
            ]
          },
          "metadata": {
            "tags": [
              "id2_content_10",
              "outputarea_id2",
              "user_output"
            ],
            "needs_background": "light"
          }
        },
        {
          "output_type": "display_data",
          "data": {
            "application/javascript": [
              "window[\"d18cc28c-bbaf-11ea-974d-0242ac1c0002\"] = google.colab.output.setActiveOutputArea(window[\"d16972a0-bbaf-11ea-974d-0242ac1c0002\"]);\n",
              "//# sourceURL=js_fb9d02e13f"
            ],
            "text/plain": [
              "<IPython.core.display.Javascript object>"
            ]
          },
          "metadata": {
            "tags": [
              "id2_content_10",
              "outputarea_id2"
            ]
          }
        },
        {
          "output_type": "stream",
          "text": [
            "Plotting took 3.435358762741089 seconds.\n"
          ],
          "name": "stdout"
        }
      ]
    },
    {
      "cell_type": "code",
      "metadata": {
        "id": "gWef4TPafFB7",
        "colab_type": "code",
        "colab": {}
      },
      "source": [
        ""
      ],
      "execution_count": null,
      "outputs": []
    },
    {
      "cell_type": "markdown",
      "metadata": {
        "id": "3nujicdthc10",
        "colab_type": "text"
      },
      "source": [
        "# a spot for checking code things"
      ]
    },
    {
      "cell_type": "code",
      "metadata": {
        "id": "0dyyujrlhrLd",
        "colab_type": "code",
        "colab": {}
      },
      "source": [
        ""
      ],
      "execution_count": null,
      "outputs": []
    }
  ]
}