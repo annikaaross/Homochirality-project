{
  "nbformat": 4,
  "nbformat_minor": 0,
  "metadata": {
    "colab": {
      "name": "Homochirality_v006.ipynb",
      "provenance": [],
      "collapsed_sections": [
        "AvOcPptw5JVf",
        "a8egVnJUbTYf",
        "axVuXR__qoi4",
        "jI9isLxnRk5d",
        "RX_K0yxjTSEx",
        "IdB8k_yadghA",
        "1lx9FPNLeRNM",
        "HVY41XQPUjIT",
        "hqD3AL_kUldF",
        "HEFlHyn6UoPU",
        "cz4Cis4ze7j6",
        "ALnPeaUCfhL4",
        "CmKsCAazVPy_",
        "DdqK65C-8cpi",
        "3nujicdthc10"
      ],
      "toc_visible": true,
      "include_colab_link": true
    },
    "kernelspec": {
      "name": "python3",
      "display_name": "Python 3"
    }
  },
  "cells": [
    {
      "cell_type": "markdown",
      "metadata": {
        "id": "view-in-github",
        "colab_type": "text"
      },
      "source": [
        "<a href=\"https://colab.research.google.com/github/annikaaross/Homochirality-project/blob/lio/Homochirality_v006.ipynb\" target=\"_parent\"><img src=\"https://colab.research.google.com/assets/colab-badge.svg\" alt=\"Open In Colab\"/></a>"
      ]
    },
    {
      "cell_type": "markdown",
      "metadata": {
        "id": "IO4sCUUbimaZ",
        "colab_type": "text"
      },
      "source": [
        "# Homochirality Model"
      ]
    },
    {
      "cell_type": "markdown",
      "metadata": {
        "id": "AI0F-yrSs0rg",
        "colab_type": "text"
      },
      "source": [
        "Hello and welcome to Do Opposites Attract?, the first monomer dating show. We're here to see if similarity between member(s) of a relationship matters in the strength of the bond between the individuals. Read on as we introduce you to our monomers, our polymers, and the stylish bag that they reside in. Along the way we will keep you up to date on all the drama of falling in love and breaking hearts."
      ]
    },
    {
      "cell_type": "markdown",
      "metadata": {
        "id": "AvOcPptw5JVf",
        "colab_type": "text"
      },
      "source": [
        "## Global Parameters"
      ]
    },
    {
      "cell_type": "markdown",
      "metadata": {
        "id": "lfMJif2R5Uc7",
        "colab_type": "text"
      },
      "source": [
        "Here's where we keep the rules by which our contestants must play."
      ]
    },
    {
      "cell_type": "code",
      "metadata": {
        "id": "zW---ckX5eKf",
        "colab_type": "code",
        "colab": {}
      },
      "source": [
        "#the bond break probbility applied to all bonds\n",
        "BASE_BOND_BREAK_PROBABILITY = 0.9\n",
        "#if a bond itself is homochiral the base bond fator is multiplied by\n",
        "#this factor\n",
        "HOMOCHIRAL_BREAK_FACTOR = 0.9\n",
        "#this factor is incorporated for each additional neighboring homochiral bond\n",
        "# becomes less and less influential as the bond gets further away\n",
        "HOMOCHIRAL_NEIGHBOR_IMPROV_FACTOR = 0.3\n",
        "#decreases the break probability based on the length of the polymer\n",
        "LENGTH_FACTOR = 0.6\n",
        "\n",
        "\n",
        "\n",
        "#limits the influence of length on breakprobabiltiy(the larger the less influence it has)\n",
        "N=40\n",
        "\n",
        "#saves the break probabilities of sequences of polymers\n",
        "break_prob_lookup_table = {}\n",
        "\n",
        "poisson_dict={}\n",
        "\n",
        "#used in Poisson distribution\n",
        "LAMBDA=6\n",
        "#################################################################\n",
        "#these are the same factors as before but with on for left and  #\n",
        "#one for right homochiral bonds.                                #\n",
        "#used in biaseastbondbreakability method which can be choosen to#\n",
        "#be used over the regular eastbondbreakability method in the    #\n",
        "#self.reset_break_probability() method                          #\n",
        "#################################################################\n",
        "HOMOCHIRAL_BREAK_FACTOR_LEFT = 0.0\n",
        "HOMOCHIRAL_BREAK_FACTOR_RIGHT = 0.9\n",
        "HOMOCHIRAL_NEIGHBOR_IMPROV_FACTOR_LEFT = 0.3\n",
        "HOMOCHIRAL_NEIGHBOR_IMPROV_FACTOR_RIGHT = 0.3\n",
        "\n",
        "N_RANDS = 1000\n",
        "\n",
        "\n",
        "rands = []\n",
        "\n",
        "\n",
        "#These are the liklihoods that a monomer will choose to poof or bond, respectively.\n",
        "#Used in the Reactables class.\n",
        "POOF_CHANCE = 0.3333\n",
        "BOND_PROB = 0.3333\n",
        "\n",
        "# Shorthands #\n",
        "L = True\n",
        "R = False"
      ],
      "execution_count": 1,
      "outputs": []
    },
    {
      "cell_type": "markdown",
      "metadata": {
        "id": "a8egVnJUbTYf",
        "colab_type": "text"
      },
      "source": [
        "## Imports and Helpers"
      ]
    },
    {
      "cell_type": "markdown",
      "metadata": {
        "id": "IN4PxtbgaqnM",
        "colab_type": "text"
      },
      "source": [
        "First we install a package called ```jdc``` which allows us to define classes across different cells using the syntax\n",
        "\n",
        "```\n",
        "%%add_to our_class\n",
        "def our_function(self, our_variable):\n",
        "  print our_variable\n",
        "```\n",
        "\n",
        "The documentation on this magic function can be found at https://alexhagen.github.io/jdc/\n",
        "\n",
        "\n",
        "\n",
        "\n"
      ]
    },
    {
      "cell_type": "code",
      "metadata": {
        "id": "5f4ViqWCQDL_",
        "colab_type": "code",
        "colab": {
          "base_uri": "https://localhost:8080/",
          "height": 0
        },
        "outputId": "27a7b336-842a-4cbd-d494-f25e03ac293a"
      },
      "source": [
        "!pip install jdc"
      ],
      "execution_count": 2,
      "outputs": [
        {
          "output_type": "stream",
          "text": [
            "Collecting jdc\n",
            "  Downloading https://files.pythonhosted.org/packages/5a/cb/9afea749985eef20f3160e8826a531c7502e40c35a038dfe49b67726e9a0/jdc-0.0.9-py2.py3-none-any.whl\n",
            "Installing collected packages: jdc\n",
            "Successfully installed jdc-0.0.9\n"
          ],
          "name": "stdout"
        }
      ]
    },
    {
      "cell_type": "markdown",
      "metadata": {
        "id": "5DONDBNfbdC3",
        "colab_type": "text"
      },
      "source": [
        "Here are the imports."
      ]
    },
    {
      "cell_type": "code",
      "metadata": {
        "id": "7gkyGmzI6Vst",
        "colab_type": "code",
        "colab": {}
      },
      "source": [
        "import random\n",
        "import numpy as np\n",
        "import copy\n",
        "from google.colab import widgets\n",
        "import matplotlib.pyplot as plt\n",
        "import jdc\n",
        "import more_itertools\n",
        "import pandas as pd\n",
        "import plotly.express as px\n",
        "import time"
      ],
      "execution_count": 3,
      "outputs": []
    },
    {
      "cell_type": "markdown",
      "metadata": {
        "id": "Gc5E3314bsom",
        "colab_type": "text"
      },
      "source": [
        "And here are some helper functions."
      ]
    },
    {
      "cell_type": "code",
      "metadata": {
        "id": "PckJQLzVbvor",
        "colab_type": "code",
        "colab": {}
      },
      "source": [
        "def make_pool(n):\n",
        "  \"\"\"\n",
        "  Return a list of n new monomers.\n",
        "  \"\"\"\n",
        "  monomers = []\n",
        "  for n in range(n):\n",
        "    monomers.append(Monomer())\n",
        "  return monomers\n",
        "\n",
        "\n",
        "def numpy_fillna(data):\n",
        "  \"\"\" Rectangularize a jagged array.\n",
        "\n",
        "  Source: https://stackoverflow.com/a/32043366\n",
        "  \"\"\"\n",
        "  # Get lengths of each row of data\n",
        "  lens = np.array([len(i) for i in data])\n",
        "\n",
        "  # Mask of valid places in each row\n",
        "  mask = np.arange(lens.max()) < lens[:,None]\n",
        "\n",
        "  # Setup output array and put elements from data into masked positions\n",
        "  out = np.zeros(mask.shape, dtype=float)\n",
        "  out[mask] = np.concatenate(data)\n",
        "  return out\n",
        "\n",
        "def eAnd(*args): # From https://stackoverflow.com/q/2770434\n",
        "  return [all(tuple) for tuple in zip(*args)]\n",
        "\n",
        "def get_rand():\n",
        "  \"\"\"A function to provide uniform random numbers\"\"\"\n",
        "  if len(rands)<= 10:\n",
        "    randsarray = np.random.rand(N_RANDS)\n",
        "    rands.extend(randsarray.tolist())\n",
        "  return rands.pop()\n",
        "\n",
        "def poissonequation(k):\n",
        "  #checks if value has already been calulated\n",
        "  if k not in poisson_dict:\n",
        "    #otherwise calculates the values\n",
        "    p = np.exp(-LAMBDA)*((LAMBDA**k)/(np.math.factorial(k)))\n",
        "    #adds to dictionary\n",
        "    poisson_dict[k] = 1- np.sqrt(p)\n",
        "  return poisson_dict[k]\n"
      ],
      "execution_count": 4,
      "outputs": []
    },
    {
      "cell_type": "markdown",
      "metadata": {
        "id": "axVuXR__qoi4",
        "colab_type": "text"
      },
      "source": [
        "## The Monomer class"
      ]
    },
    {
      "cell_type": "markdown",
      "metadata": {
        "id": "NgRYt5tGs6Q6",
        "colab_type": "text"
      },
      "source": [
        "These are our Monomers. The individuals in our dating show. They are the best thing a girl can be in this worl, beautiful little fools. They know that they exist and they know what kind of monomer they are, left or right(thats handedness not political party alignment) What more can you ask for?"
      ]
    },
    {
      "cell_type": "markdown",
      "metadata": {
        "id": "jI9isLxnRk5d",
        "colab_type": "text"
      },
      "source": [
        "### Constructor"
      ]
    },
    {
      "cell_type": "code",
      "metadata": {
        "id": "7TlZA8Njjd2D",
        "colab_type": "code",
        "colab": {}
      },
      "source": [
        "class Monomer:\n",
        "\n",
        "  def __init__(self, **kwargs):\n",
        "    \"\"\"\n",
        "    The constructor method for Monomer objects. Assigns default handedness.\n",
        "    Accepts argument hand = bool with keyword.\n",
        "    Considering other syntax for passing in handedness.\n",
        "    Keeps track of how old the monomer is\n",
        "    \"\"\"\n",
        "    import random\n",
        "    self._handedness = kwargs['hand'] if 'hand' in kwargs else random.choice([True,False])\n",
        "    self._eastbrkprob = kwargs['brkprob'] if 'brkprob' in kwargs else -1\n",
        "    #keeps track of its age, the number of iterations it has survived\n",
        "    self._age = 0\n",
        "  \n",
        "  def __repr__(self):\n",
        "    return str(f\"{self.get_handedness()}-monomer\")\n"
      ],
      "execution_count": 5,
      "outputs": []
    },
    {
      "cell_type": "markdown",
      "metadata": {
        "id": "aP-4RlM7Q9IS",
        "colab_type": "text"
      },
      "source": [
        "### Getters and Setters"
      ]
    },
    {
      "cell_type": "code",
      "metadata": {
        "id": "IJM6sYAdRHFc",
        "colab_type": "code",
        "colab": {}
      },
      "source": [
        "%%add_to Monomer\n",
        "\n",
        "def get_handedness(self):\n",
        "  \"\"\"Getter method for Monomer handedness.\"\"\"\n",
        "  return self._handedness\n",
        "\n",
        "def get_age(self):\n",
        "  \"\"\"Getter method for Monomer age\"\"\"\n",
        "  return self._age\n",
        "\n",
        "\n",
        "def get_eastbrkprob(self):\n",
        "  \"\"\"Getter method for east bond brk probability\"\"\"\n",
        "  return self._eastbrkprob\n",
        "\n",
        "def set_eastbrkprob(self, newbrk):\n",
        "  \"\"\"Setter method for east bond brk probability\"\"\"\n",
        "  self._eastbrkprob = newbrk\n",
        "\n",
        "def set_age(self, newage):\n",
        "  \"\"\"setter method for age\"\"\"\n",
        "  self._age = newage\n",
        "\n",
        "def reset_eastbrkprob(self) :\n",
        "  \"\"\"reset east brk probability to -1 \n",
        "      to be called when single monomer is broken from polymer\"\"\"\n",
        "  self.set_eastbrkprob(-1)\n"
      ],
      "execution_count": 6,
      "outputs": []
    },
    {
      "cell_type": "markdown",
      "metadata": {
        "id": "ihXAcN9GRXPL",
        "colab_type": "text"
      },
      "source": [
        "### Polymer Compatibility"
      ]
    },
    {
      "cell_type": "code",
      "metadata": {
        "id": "4fFeZGU6Ra7W",
        "colab_type": "code",
        "colab": {}
      },
      "source": [
        "%%add_to Monomer\n",
        "\n",
        "def get_chirality(self):\n",
        "  \"\"\" Return an expression of handedness compatible with the Polymer notation\n",
        "  of chirality (n_lefts, n_rights).\n",
        "  \"\"\"\n",
        "  if self.get_handedness():\n",
        "    return (1,0)\n",
        "  else:\n",
        "    return (0,1)\n",
        "\n",
        "def get_length(self):\n",
        "  \"\"\" Return 1. \"\"\"\n",
        "  return 1\n",
        "\n",
        "def get_ee(self):\n",
        "  \"\"\" Return the enantiomeric excess of the monomer. This value is always 1. \"\"\"\n",
        "  return 1\n",
        "\n",
        "def get_signed_ee(self):\n",
        "  \"\"\" Return the signed enantiomeric excess of the monomer.\n",
        "  Returns 1 if left handed, -1 if right handed.\n",
        "  \"\"\"\n",
        "  if self.get_handedness():\n",
        "    return 1\n",
        "  else:\n",
        "    return -1\n",
        "\n",
        "def generate_log(self):\n",
        "  \"\"\" Return a log compatible with the reactables history. \"\"\"\n",
        "  return (self.get_handedness(),self.get_age())\n",
        "\n",
        "def get_sequence(self):\n",
        "  return (self.get_handedness(),)\n",
        "\n",
        "def birthday(self):\n",
        "  \"\"\"ages the monomer up\"\"\"\n",
        "  self._age += 1"
      ],
      "execution_count": 7,
      "outputs": []
    },
    {
      "cell_type": "markdown",
      "metadata": {
        "id": "lisjFJ2YqZf7",
        "colab_type": "text"
      },
      "source": [
        "## The Polymer class"
      ]
    },
    {
      "cell_type": "markdown",
      "metadata": {
        "id": "h8Z3nHigtAsf",
        "colab_type": "text"
      },
      "source": [
        "This is our Polymer class, aka the relationships in this dating show. They contain a list of all the monomers that are inside of them. It is kept in a specific order. They are pretty open books. They can tell us how many monomers they contain, they add new members(either monomers or whole other polymers), they can remove entire groups of members after a certain index, they can check which of their bonds are homochiral and use this to calculate probability of a certain bond breaking(the weak areas in their relationship). They can use this to then tell the producers if and where they are planning on breaking off members of they ranks. Like all good relationships, they use purely mathematics and chance to determine these heart breaking decisions. They can also tell us how many left handed monomers and how many right handed monomers they contain. "
      ]
    },
    {
      "cell_type": "markdown",
      "metadata": {
        "id": "RX_K0yxjTSEx",
        "colab_type": "text"
      },
      "source": [
        "### Constructor"
      ]
    },
    {
      "cell_type": "code",
      "metadata": {
        "id": "zNkhoo72TYUM",
        "colab_type": "code",
        "colab": {}
      },
      "source": [
        "class Polymer:\n",
        "  def __init__(self, monomers = []):\n",
        "    \"\"\" Constructor method for Polymer.\n",
        "    In addition to setting the monomers list, also calculates all break probabilities\n",
        "    of the bonds it contains using reset_break_probability.\n",
        "    \"\"\"\n",
        "    self._monomers = monomers\n",
        "    #self.reset_break_probability()\n",
        "    #keeps track of the age of itself(number of iterations it has survived)\n",
        "    self._age = 0\n",
        "\n",
        "  def __str__(self):\n",
        "    \"\"\" str function for Polymer class. \"\"\"\n",
        "    return f\"\\nA polymer of length {self.get_length()}: {self.get_sequence()}\"\n",
        "  \n",
        "  def __repr__(self):\n",
        "    \"\"\" repr function for Polymer class. \"\"\"\n",
        "    return f\"{self.get_sequence()}-polymer\""
      ],
      "execution_count": 8,
      "outputs": []
    },
    {
      "cell_type": "markdown",
      "metadata": {
        "id": "67fSyVs_Tdlh",
        "colab_type": "text"
      },
      "source": [
        "### Getters, Setters, and Logs"
      ]
    },
    {
      "cell_type": "code",
      "metadata": {
        "id": "ziWCTo2GTcrv",
        "colab_type": "code",
        "colab": {}
      },
      "source": [
        "%%add_to Polymer\n",
        "\n",
        "\n",
        "def get_monomers(self):\n",
        "  \"\"\" Return list of monomers in the polymer. \"\"\"\n",
        "  return self._monomers\n",
        "\n",
        "\n",
        "def get_length(self):\n",
        "  \"\"\" Return the number of monomers in the polymer. \"\"\"\n",
        "  return len(self._monomers)\n",
        "\n",
        "\n",
        "def get_sequence(self):\n",
        "  \"\"\" Return the sequence of monomers in the polymer in a human-readable (and loggable) format. \"\"\"\n",
        "  sequence = []\n",
        "  for monomer in self.get_monomers():\n",
        "    sequence.append(monomer.get_handedness())\n",
        "  return sequence\n",
        "\n",
        "def get_age(self):\n",
        "  \"\"\"\n",
        "  Getter method for the age of the polymer\n",
        "  \"\"\"\n",
        "  return self._age\n",
        "\n",
        "\n",
        "def set_age(self, newage):\n",
        "  \"\"\"\n",
        "  Setter method for the age of the polymer\n",
        "  \"\"\"\n",
        "  self._age = newage\n",
        "\n",
        "def set_monomers(self, new_monomers):\n",
        "  \"\"\" Set the monomers in the polymer to new_monomers. \"\"\"\n",
        "  self._monomers = new_monomers\n",
        "\n",
        "def get_avg_age(self):\n",
        "  \"\"\"\n",
        "  calculates the average age of the monomers in the polymer\n",
        "  \"\"\"\n",
        "  totalage = 0\n",
        "  for n in range(self.get_length()):\n",
        "    totalage += self.get_monomers()[n].get_age()\n",
        "  avgage= totalage/self.get_length()\n",
        "  return avgage\n",
        "\n",
        "\n",
        "def get_chirality(self):\n",
        "  \"\"\" Return the chiralities of the monomers within the polymer.\n",
        "\n",
        "  RETURN: tuple\n",
        "  (number_lefts, number_rights)\n",
        "  \"\"\"\n",
        "  #Get the monomer handednesses\n",
        "  sequence = self.get_sequence()\n",
        "  #Count the number of trues\n",
        "  n_true = sum(sequence)\n",
        "  #The number of falses is the total minus the number of trues\n",
        "  #Return that.\n",
        "  return (n_true, len(sequence) - n_true)\n",
        "\n",
        "def birthday(self):\n",
        "  \"\"\"\n",
        "  Ages up the polymer and all of the monomers in the polymer\n",
        "  \"\"\"\n",
        "  self._age += 1\n",
        "  for n in range(self.get_length()):\n",
        "    self.get_monomers()[n].birthday()\n",
        "    \n",
        "\n",
        "def get_signed_ee(self):\n",
        "  lefts, rights = self.get_chirality()\n",
        "  return (lefts - rights) / self.get_length()\n",
        "\n",
        "def get_ee(self):\n",
        "  lefts, rights = self.get_chirality()\n",
        "  return abs((lefts - rights) / self.get_length())\n",
        "\n",
        "  \n",
        "def generate_log(self):\n",
        "  \"\"\" Return a log tuple formatted simply as the list of boolean handednesses of the monomers contained\n",
        "  in the polymer. Will be heavier than holding data about the polymer like in the other log format,\n",
        "  but should allow access to more information and more kinds of information.\n",
        "  \"\"\"\n",
        "  return (self.get_sequence(),self.get_age())"
      ],
      "execution_count": 9,
      "outputs": []
    },
    {
      "cell_type": "markdown",
      "metadata": {
        "id": "IdB8k_yadghA",
        "colab_type": "text"
      },
      "source": [
        "### Functionality methods"
      ]
    },
    {
      "cell_type": "code",
      "metadata": {
        "id": "Xa_gIPs0dcjS",
        "colab_type": "code",
        "colab": {}
      },
      "source": [
        "%%add_to Polymer\n",
        "\n",
        "def append(self, other):\n",
        "  \"\"\"\n",
        "  Adds a reactable (monomer or polymer) to the end of the Polymer.\n",
        "  If the added reactable is a polymer, append() deletes it after taking its monomers.\n",
        "  \"\"\"\n",
        "  #Check the type of thing to add\n",
        "  if isinstance(other, Monomer):\n",
        "    #Monomers can just be appended to the list\n",
        "    self._monomers.append(other)\n",
        "  elif isinstance(other, Polymer):\n",
        "    #For polymers we need to extend rather than append, to avoid nested lists\n",
        "    self._monomers.extend(other.get_monomers())\n",
        "    #Then once the monomers are safely in their new polymer, the old one is deleted\n",
        "    del other\n",
        "\n",
        "def brkloc(self):\n",
        "\n",
        "  #makes a list of all the indices of monomers in the polymer except \n",
        "  #for the last one\n",
        "  indices = []\n",
        "  for n in range(self.get_length() - 1):\n",
        "    indices.append(n)\n",
        "  #puts indices in random order\n",
        "  random.shuffle(indices)\n",
        "  #tests if each indices will break\n",
        "  for index in indices:\n",
        "    #gets the breakprobability for monomer at n index\n",
        "    brkprob = self._monomers[index].get_eastbrkprob()\n",
        "    rand = get_rand()\n",
        "    # checks if the random number is less than the brkprob then the index of\n",
        "    #the monomer is returned from the method\n",
        "    #indicating this polymer breaks at the east bond of this monomer\n",
        "    if(brkprob > rand):\n",
        "      return index\n",
        "  return None\n",
        "\n",
        "def removeright(self,location):\n",
        "  \"\"\"\n",
        "  Removes all monomers to the right (east) of a given index\n",
        "  \"\"\"\n",
        "  #creates a list of monomers in the polymer to the left, and including,\n",
        "  #the monomer at the location(index) provided\n",
        "  newList = self._monomers[0:location+1]\n",
        "\n",
        "  #makes a list of the monoers to the rightof the monomer at the \n",
        "  #index provided\n",
        "  removed = self._monomers[location+1:]\n",
        "\n",
        "  #sets the polymers monomers to newList(the monomers to the left\n",
        "  #of  and the index provided)\n",
        "  self.set_monomers(newList)\n",
        "  #print(\"after breaking ractable is:\",self)\n",
        "  #print(\"after breaking removed is:\",removed)\n",
        "\n",
        "  #returns the monomers that were removed, everything the right\n",
        "  #of the index provided\n",
        "  return removed"
      ],
      "execution_count": 10,
      "outputs": []
    },
    {
      "cell_type": "markdown",
      "metadata": {
        "id": "1lx9FPNLeRNM",
        "colab_type": "text"
      },
      "source": [
        "### Homochirality handling"
      ]
    },
    {
      "cell_type": "code",
      "metadata": {
        "id": "THNcbUmt1vm7",
        "colab_type": "code",
        "colab": {}
      },
      "source": [
        "%%add_to Polymer\n",
        "def easthomochiralcheck(self,numbermonomer):\n",
        "  \"\"\"\n",
        "  Takes the index of a monomer within the Polymer and returns whether its east bond is homochiral.\n",
        "  \"\"\"\n",
        "  #First check that the index isn't out of bounds \n",
        "  if (0 > numbermonomer or numbermonomer >= self.get_length()-1):\n",
        "    return False\n",
        "  #get the handedness of this monomer and its east neighbor, and return whether or not they're equal (bool)\n",
        "  return self._monomers[numbermonomer].get_handedness() == self._monomers[numbermonomer+1].get_handedness()\n",
        "\n",
        "def easthomochiralbiascheck (self, numbermonomer):\n",
        "  \"\"\" this method can be used in place of the east homochiral check method\n",
        "  returns false if not homochiral, 3 if homochiral left, 5 if homochiral right\"\"\"\n",
        "\n",
        "  #First check that the index isn't out of bounds or if not homochiral\n",
        "  if (0 > numbermonomer or numbermonomer >= self.get_length()-1 or not self.easthomochiralcheck(numbermonomer)):\n",
        "    return False\n",
        "  \n",
        "  #otherwise check if they are homochiral left or right\n",
        "  elif self._monomers[numbermonomer].get_handedness():\n",
        "      #means left homochiral\n",
        "      return 3\n",
        "  elif not self._monomers[numbermonomer].get_handedness():\n",
        "      #means right homochiral\n",
        "      return 5\n",
        "  \n",
        "\n",
        "def eastbondbreakprobability(self,numbermonomer):\n",
        "  \"\"\"\n",
        "  Takes the index of a monomer within the Polymer\n",
        "  Returns the probability that the monomer's east bond will break\n",
        "  returns -3 if the monomer has no east bond\n",
        "  \"\"\"\n",
        "  ##############################\n",
        "  #Override to return an equal break chance for every bond in the polymer\n",
        "  #Simply comment out this line to get the regular function\n",
        "  #return (0.3)\n",
        "  ##############################\n",
        "\n",
        "  #First check if the monomer is the last one in the polymer\n",
        "  if (numbermonomer >= self.get_length()-1):\n",
        "    #If so, it doesn't have an east bond to break, so the probability is 0(return -3)\n",
        "    return -3\n",
        "    \n",
        "  #now we initialize brk probability (brk)\n",
        "  brk = (BASE_BOND_BREAK_PROBABILITY) * (LENGTH_FACTOR**(self.get_length()/N))\n",
        "  #check if the east bond is homochiral\n",
        "  if (self.easthomochiralcheck(numbermonomer)):\n",
        "    #if so multiply it by homochiral break factor (shrinks probability)\n",
        "    brk *= HOMOCHIRAL_BREAK_FACTOR\n",
        "    #goes through method which checks and calculates benefit of all homochiral neighbors\n",
        "    brk = self.checkforhomochiralneighbors(numbermonomer,brk,HOMOCHIRAL_NEIGHBOR_IMPROV_FACTOR)\n",
        "  #end def: returns break probability of monomers east bond\n",
        "  return brk\n",
        "\n",
        "def biaseastbondbreakprobability(self,numbermonomer):\n",
        "  \"\"\"\n",
        "  ***left-right sensitivity****\n",
        "  Takes the index of a monomer within the Polymer\n",
        "  Returns the probability that the monomer's east bond will break\n",
        "  returns -3 if the monomer has no east bond\n",
        "  \"\"\"\n",
        "  ##############################\n",
        "  #Override to return an equal break chance for every bond in the polymer\n",
        "  #Simply comment out this line to get the regular function\n",
        "  #return (0.3)\n",
        "  ##############################\n",
        "  \n",
        "  #First check if the monomer is the last one in the polymer\n",
        "  if (numbermonomer >= self.get_length()-1):\n",
        "    #If so, it doesn't have an east bond to break, so the probability is 0 (returns -3)\n",
        "    return -3\n",
        "  \n",
        "  #initialize the brk probability\n",
        "  brk = (BASE_BOND_BREAK_PROBABILITY) * (LENGTH_FACTOR**(self.get_length()/N))\n",
        "\n",
        "  #check if the east bond is homochiral left\n",
        "  if (self.easthomochiralbiascheck(numbermonomer) == 3):\n",
        "    brk *= HOMOCHIRAL_BREAK_FACTOR_LEFT\n",
        "\n",
        "    #run through function that recalculates brk based on benfits of homochiral neighbors\n",
        "    brk = self.checkforhomochiralneighbors(numbermonomer, brk, HOMOCHIRAL_NEIGHBOR_IMPROV_FACTOR_LEFT)\n",
        "\n",
        "  #otherwise checks if bond is homochiral right\n",
        "  elif (self.easthomochiralbiascheck(numbermonomer) == 5):\n",
        "    brk *= HOMOCHIRAL_BREAK_FACTOR_RIGHT\n",
        "\n",
        "    #run through function that recalculates brk based on benfits of homochiral neighbors\n",
        "    brk = self.checkforhomochiralneighbors(numbermonomer,brk, HOMOCHIRAL_NEIGHBOR_IMPROV_FACTOR_RIGHT)\n",
        "   \n",
        "  return brk\n",
        "\n",
        "def checkforhomochiralneighbors(self, numbermonomer, brk, neighborfactor):\n",
        "\n",
        "  \"\"\"\n",
        "  helps all the versions of the eastbond break calculating functions\n",
        "  takes in a brk probability a number monomer and the desired neighbor improvement factor\n",
        "  and calculates how the neighbors a bond will increase the strength of the bond\n",
        "  it then returns the new brk prob to the eastbond brk function\n",
        "  \"\"\"\n",
        "  brk = brk\n",
        "  j = numbermonomer + 1\n",
        "  #going right to check for homochiral neighbors\n",
        "  while(self.easthomochiralcheck(j)):\n",
        "    #calculates decrease to brk prob for a neighbor of that distance for the bond\n",
        "    brk *= 1 - (neighborfactor**abs(j - numbermonomer))\n",
        "    j += 1\n",
        "\n",
        "  #going left to check for homochiral neighbors\n",
        "  j=numbermonomer-1\n",
        "  while(self.easthomochiralcheck(j)):\n",
        "    #calculates decrease to brk prob for a neighbor of that distance for the bond\n",
        "    brk *= 1-(neighborfactor**abs(numbermonomer - j))\n",
        "    j -= 1\n",
        "\n",
        "  return brk\n",
        "\n",
        "\n",
        "def poissonbreakprobability(self,numbermonomer):\n",
        "  \"\"\"\n",
        "  Takes the index of a monomer within the Polymer\n",
        "  Returns the probability that the monomer's east bond will break\n",
        "  based on Poisson distribution\n",
        "  returns -3 if the monomer has no east bond\n",
        "  \"\"\"\n",
        "\n",
        "  #First check if the monomer is the last one in the polymer\n",
        "  if (numbermonomer >= self.get_length()-1):\n",
        "    #If so, it doesn't have an east bond to break, so the probability is 0(return -3)\n",
        "    return -3\n",
        "\n",
        "  #With that out of the way, we initialize brk to the base probability of breaking a bond\n",
        "  brk = (BASE_BOND_BREAK_PROBABILITY) * (LENGTH_FACTOR**(self.get_length()/N))\n",
        "\n",
        "  #keeps track of the number of the total consecutive homochiral bonds\n",
        "  homochiralcount=0 \n",
        "\n",
        "  #check if the east bond is homochiral\n",
        "  if (self.easthomochiralcheck(numbermonomer)):\n",
        "    #if so homochiral count increases by 1\n",
        "    homochiralcount +=1\n",
        "    #brk gets benefited by the poisson distribution of homochiral count \n",
        "    brk *= poissonequation(homochiralcount)\n",
        "\n",
        "    #set j to monomer to right\n",
        "    j = numbermonomer+1\n",
        "\n",
        "    #going right to check for neighboring homochirality\n",
        "    while(self.easthomochiralcheck(j)):\n",
        "      #if homochiral increases count\n",
        "      homochiralcount += 1\n",
        "      #recalculates brk prob\n",
        "      brk *= poissonequation(homochiralcount)\n",
        "\n",
        "      #check next monomer\n",
        "      j += 1\n",
        "\n",
        "    #going left to check for neighboring homochirality\n",
        "    j=numbermonomer-1\n",
        "    homochiralcount = 1\n",
        "    while(self.easthomochiralcheck(j)):\n",
        "      homochiralcount += 1\n",
        "      brk *= poissonequation(homochiralcount)\n",
        "      j -= 1\n",
        "\n",
        "  return brk\n",
        "\n",
        "\n",
        "def reset_break_probability(self):\n",
        "    \n",
        "  \"\"\" \n",
        "  resets the break probabilities of the monomers in a \n",
        "  sequence. 1)checks lookup table to see if similar polymer values\n",
        "  have been caluclated, otherwise calculates values and adds\n",
        "  polymer to lookup table 2)sets values to monomers.\n",
        " \n",
        "  \"\"\"\n",
        "  #store self as list of booleans to be added to lookup table\n",
        "  polyseq = self.get_monomers().copy()\n",
        "  for n in range(self.get_length()):\n",
        "    polyseq[n] = polyseq[n].get_handedness()\n",
        "\n",
        "  ##########################\n",
        "  # LEFT/RIGHT SENSITIVITY #\n",
        "  ##########################\n",
        "  # All stored sequences start with True. If the one being requested doesn't, invert so that it does\n",
        "  #comment out if right/left sensitivity is included\n",
        "  if polyseq[0] == True:\n",
        "    polyseq = [not mono for mono in polyseq]\n",
        "\n",
        "  #make polyseq a tuple able to be added as an index of a dictionary  \n",
        "  polyseq = tuple(polyseq)\n",
        "\n",
        "  # If the sequence is already in the table (dict), retrieves its previously calculated break probabilities\n",
        "  if polyseq in break_prob_lookup_table:\n",
        "    the_probs = break_prob_lookup_table[polyseq]\n",
        "    \n",
        "  else: # Otherwise calculate and add to the lookup table\n",
        "    # Calculate the break probabilities\n",
        "    the_probs = self.calculatebrkprob()\n",
        "    #and add it to the lookup table\n",
        "    break_prob_lookup_table[polyseq] = the_probs\n",
        "\n",
        "  #set monomers eastbond brk probs to correlated values stored in the_probs\n",
        "  for n in range (self.get_length()):\n",
        "    self._monomers[n].set_eastbrkprob(the_probs[n])\n",
        "\n",
        "  #end def: polymer break probabilities recalculated and added\n",
        "  #to lookup table (if not already there)\n",
        "\n",
        "def calculatebrkprob(self):\n",
        "    \n",
        "  \"\"\"\n",
        "  generates and returns a list of break probabilities for the monomers at each index of\n",
        "  a polymer. This method can be altered to calculate normally\n",
        "  with left/right sensitivity or with a poisson distribution\n",
        " \n",
        "  \"\"\"\n",
        "\n",
        "  #initialize brk_probs as an empty list\n",
        "  brk_probs = []\n",
        "  \n",
        "  #checks if polymer is of length one -meaning it is lone monomer\n",
        "  if self.get_length() == 1 :\n",
        "    #if so adds -1 to list(brk prob value assigned to individual monomers)\n",
        "    brk_probs.append(-1)\n",
        "    \n",
        "  else:\n",
        "    #otherwise goes through all the indices of the polymer,calculates its brk probability, and appends it to brk_probs \n",
        "    for n in range(self.get_length()):\n",
        "\n",
        "      #############################################################\n",
        "      #LEFT RIGHT SENSITIVITY/POISSON EQUATIONS CHOICE.           #\n",
        "      #pick one-comment out the rest.                             #\n",
        "      #############################################################\n",
        "\n",
        "      #this line if uncommented will have left/right sensitivity\n",
        "      #brk_probs.append(self.biaseastbondbreakprobability(n))\n",
        "\n",
        "      #this line if uncommented will calculate probabilities normally\n",
        "      #brk_probs.append(self.eastbondbreakprobability(n))\n",
        "\n",
        "      #this line if uncommented will calculate brk probabilities with poisson distribution\n",
        "      brk_probs.append(self.poissonbreakprobability(n))\n",
        "\n",
        "  #returns in order list of brk probs for the east bond of all the monomers in a polymer\n",
        "  return brk_probs\n"
      ],
      "execution_count": 11,
      "outputs": []
    },
    {
      "cell_type": "markdown",
      "metadata": {
        "id": "oV4UK3XdkNoF",
        "colab_type": "text"
      },
      "source": [
        "## The Reactables class"
      ]
    },
    {
      "cell_type": "markdown",
      "metadata": {
        "id": "6M112CR6tFmH",
        "colab_type": "text"
      },
      "source": [
        "This is the Reactables class aka the stylish little bag we keep our contestants in. As all good dating shows, we define our members by the relationship they are in. So a single monomer will be addd to the bag alone, but a monomer in a polymer will not be. Rather each polymer will be recorded once. Its like if you have charlie, ben, and jack. Jack and Ben are in a relationship so they are jointly called Jen. If these three were in the reactable bag they would be recognized as two things, charlie and Jen(Ben+JAck). The reactable class is the heart and center of our game- I mean dating- show. Its here we ask all the members just the right questions to get them falling in love and breaking hearts, and then we are curteous enough to do all the splitting and merging for them."
      ]
    },
    {
      "cell_type": "markdown",
      "metadata": {
        "id": "HVY41XQPUjIT",
        "colab_type": "text"
      },
      "source": [
        "### Constructor"
      ]
    },
    {
      "cell_type": "code",
      "metadata": {
        "id": "JAdpBmhBUuGc",
        "colab_type": "code",
        "colab": {}
      },
      "source": [
        "class Reactables:\n",
        "\n",
        "  def __init__(self, reactables = []):\n",
        "    \"\"\"\n",
        "    Constructor class for Reactables object\n",
        "    Accepts list of reactables or defaults to empty list\n",
        "    Reactables functions as a bin for reactable objects monomer and polymer\n",
        "    Methods consist mostly of list handling\n",
        "    \"\"\"\n",
        "    self._reactables = reactables\n",
        "    #The reactables bag also handles remembering its history\n",
        "    self._history = []\n",
        "    #list of the age of the polymers in the reactables bag. \n",
        "    self._agehistory = []\n",
        "    self._lookup = {}\n",
        "    self._hist_stats = pd.DataFrame()\n",
        "\n",
        "\n",
        "  def __str__(self):\n",
        "    \"\"\"\n",
        "    str method for Reactables class\n",
        "    \"\"\"\n",
        "    return str(self.get_reactables())"
      ],
      "execution_count": 12,
      "outputs": []
    },
    {
      "cell_type": "markdown",
      "metadata": {
        "id": "hqD3AL_kUldF",
        "colab_type": "text"
      },
      "source": [
        "### Getters and Setters"
      ]
    },
    {
      "cell_type": "code",
      "metadata": {
        "id": "7hRne9W9U3No",
        "colab_type": "code",
        "colab": {}
      },
      "source": [
        "%%add_to Reactables\n",
        "\n",
        "#################\n",
        "#GETTERS/SETTERS#\n",
        "#################\n",
        "\n",
        "def get_reactables(self):\n",
        "  \"\"\"\n",
        "  Getter method for reactables in Reactables\n",
        "  Returns a list of the objects currently in the Reactables bag\n",
        "  \"\"\"\n",
        "  return self._reactables\n",
        "\n",
        "def get_history(self):\n",
        "  \"\"\" Return the history of the reactables bag.\n",
        "  \"\"\"\n",
        "  return self._history\n",
        "\n",
        "def set_history(self, new_hist):\n",
        "  \"\"\" Set the history to now_hist. \"\"\"\n",
        "  self._history = new_hist\n",
        "\n",
        "#def get_leftrighthistory(self):\n",
        "  #return self._leftrighthistory\n",
        "\n",
        "def get_agehistory(self):\n",
        "  \"\"\"\n",
        "  Getter method for the age history of the reactables bag\n",
        "  \"\"\"\n",
        "  return self._agehistory\n",
        "  \n",
        "def get_count(self):\n",
        "  \"\"\"\n",
        "  Getter method for Reactables class\n",
        "  Returns the number of objects in the Reactables bag\n",
        "  \"\"\"\n",
        "  return len(self.get_reactables()) \n",
        "\n",
        "\n",
        "def set_reactables(self, new_list):\n",
        "  \"\"\"\n",
        "  Setter method for the Reactables class\n",
        "  Sets the reactables bag to a new list\n",
        "  Used mostly as a helper function in bonding\n",
        "  \"\"\"\n",
        "  self._reactables = new_list\n",
        "\n",
        "def set_agehistory(self, newagehistory):\n",
        "  self._agehistory = newagehistory\n",
        "\n",
        "\n",
        "def get_bond_chance(self, reactable1, reactable2):\n",
        "  \"\"\"\n",
        "  Returns the probability that two given reactables in the reactables bag will bond\n",
        "  \"\"\"\n",
        "  return BOND_PROB\n",
        "\n",
        "def get_free_monomers(self):\n",
        "  return [r for r in self.get_reactables() if isinstance(r, Monomer)]\n",
        "\n",
        "def get_polymers(self):\n",
        "  return [r for r in self.get_reactables() if isinstance(r, Polymer)]\n",
        "\n",
        "def get_bound_monomers(self):\n",
        "  bound = []\n",
        "  for p in self.get_polymers():\n",
        "    bound.extend(p.get_monomers())\n",
        "  return bound\n",
        "\n",
        "\n",
        "def get_stats(self):\n",
        "  return self._hist_stats\n",
        "\n",
        "def set_hist_stats(self,df):\n",
        "  self._hist_stats = df\n",
        "\n",
        "def get_lookup(self):\n",
        "  return self._lookup\n",
        "\n",
        "def add_stat_lookup(self, key, value):\n",
        "  self._lookup[key] = value\n",
        "\n",
        "def add_log(self, log):\n",
        "  (self._history).append(log.copy())\n"
      ],
      "execution_count": 13,
      "outputs": []
    },
    {
      "cell_type": "markdown",
      "metadata": {
        "id": "HEFlHyn6UoPU",
        "colab_type": "text"
      },
      "source": [
        "### Functionality methods"
      ]
    },
    {
      "cell_type": "markdown",
      "metadata": {
        "id": "cz4Cis4ze7j6",
        "colab_type": "text"
      },
      "source": [
        "#### Top level functionality"
      ]
    },
    {
      "cell_type": "code",
      "metadata": {
        "id": "UZMHOVm_fDL0",
        "colab_type": "code",
        "colab": {}
      },
      "source": [
        "%%add_to Reactables\n",
        "\n",
        "def refill(self, pool_size):\n",
        "  #Do we have less than the required number of things in the pool?\n",
        "  dearth = pool_size - self.get_count()\n",
        "  #If so,\n",
        "  if dearth > 0:\n",
        "    new = []\n",
        "    #Make as many monomers as we need to get back up to the riquired amount\n",
        "    for n in range(dearth):\n",
        "      new.append(Monomer())\n",
        "    #And add them to the reactables bag\n",
        "    self.add(new)\n",
        "\n",
        "def randomize_reactables(self):\n",
        "  \"\"\"\n",
        "  Randomizes the order of the reactables list\n",
        "  \"\"\"\n",
        "  #Get the current reactables\n",
        "  reactables = self.get_reactables()\n",
        "  #Shuffle them\n",
        "  random.shuffle(reactables)\n",
        "  #And reset the reactables list to the new sorted list\n",
        "  self.set_reactables(reactables)\n",
        "\n",
        "def do_the_thing(self):\n",
        "  \"\"\"\n",
        "  Handle a single iteration of the reactables.\n",
        "\n",
        "  \"\"\"\n",
        "  #We keep track of bonding by storing the most recent reactable to choose to bond as the 'bachelor.'\n",
        "  bachelor = None\n",
        "  #We need a copy of the reactables because indices will change as soon as we start doing stuff\n",
        "  reactables = copy.copy(self.get_reactables())\n",
        "  #Iterate through each reactable\n",
        "  for item in reactables:\n",
        "    #Roll a random number in (0,1) to compare against our probabilities\n",
        "    roll = get_rand()\n",
        "    #If our reactable is a monomer...\n",
        "    if isinstance(item, Monomer):\n",
        "      #We get our breaking and bonding chances (parameters now, may become functions later?)\n",
        "      brk = POOF_CHANCE\n",
        "      bond = BOND_PROB\n",
        "      #If we roll to break the monomer\n",
        "      if 0 < roll <= brk:\n",
        "        #Just delete it\n",
        "        del item\n",
        "      #If we roll to bond the monomer\n",
        "      elif brk < roll <= brk+bond:\n",
        "        #Check if there's a reactable waiting to bond\n",
        "        if bachelor == None:\n",
        "          #If not, make this monomer the bachelor. Someone will come along to bond later.\n",
        "          bachelor = item\n",
        "        else:\n",
        "          #If there is someone waiting, bond them together and reset the bachelor chair to empty.\n",
        "          self.bond_pair(bachelor, item)\n",
        "          bachelor= None\n",
        "      else:\n",
        "        continue\n",
        "    #If the reactable is a polymer instead...\n",
        "    elif isinstance(item, Polymer):\n",
        "      #Choose whether the polymer will break or bond. It's 50-50 right now.\n",
        "      if roll >= 0.33:\n",
        "        #This is the same bonding logic as for the monomer. It's not in a helper function because it needs to be able to access bachelor.\n",
        "        if bachelor == None:\n",
        "          bachelor = item\n",
        "        else:\n",
        "          self.bond_pair(bachelor, item)\n",
        "          bachelor = None\n",
        "      #Here's what happens if the polymer is chosen to check breaking\n",
        "      else:\n",
        "        #It finds its break location\n",
        "        break_spot = item.brkloc()\n",
        "        #Which might turn out to be nowhere.\n",
        "        if break_spot != None:\n",
        "          #If somewhere does break, call break_polymer to handle the breaking\n",
        "          self.break_polymer(item,break_spot)\n",
        "    else:\n",
        "      #You never know what might end up in your reactables bag\n",
        "      raise ValueError(\"This thing is neither a monomer or a polymer. What?!\")\n",
        "\n",
        "def iterate(self,size,iteration_number):\n",
        "  \"\"\"\n",
        "  Handles full sequence of iteration\n",
        "  \"\"\"\n",
        "  self.randomize_reactables()\n",
        "  self.do_the_thing()\n",
        "  self.log(iteration_number)\n",
        "  self.ageup()\n",
        "  #self.record_leftrighthomochiral()\n",
        "  self.refill(size)\n",
        "\n",
        "def simulate(self, poolsize, iterations):\n",
        "  for n in range(iterations):\n",
        "    self.iterate(poolsize, n)\n",
        "  self.parse_history()\n"
      ],
      "execution_count": 14,
      "outputs": []
    },
    {
      "cell_type": "markdown",
      "metadata": {
        "id": "ALnPeaUCfhL4",
        "colab_type": "text"
      },
      "source": [
        "#### Functionality helpers"
      ]
    },
    {
      "cell_type": "code",
      "metadata": {
        "id": "hpqCXL48VGTB",
        "colab_type": "code",
        "colab": {}
      },
      "source": [
        "%%add_to Reactables\n",
        "\n",
        "\n",
        "def add(self, new_reactables):\n",
        "  \"\"\"\n",
        "  Adds a list of reactables to the reactables bag\n",
        "  Built on extend(); argument must be iterable\n",
        "  \"\"\"\n",
        "  #print(\"list of new Reactbles\", new_reactables)\n",
        "  #print(\"list of get Reactables:\",self.get_reactables())\n",
        "  self.get_reactables().extend(new_reactables)\n",
        "  #print(\"reactables list is now\",self.get_reactables())\n",
        "\n",
        "\n",
        "def subtract(self, removables):\n",
        "  \"\"\"\n",
        "  Removes a list of reactables from the reactables bag\n",
        "  Built on list comprehension; argument must be iterable\n",
        "  \"\"\"\n",
        "  self.set_reactables([reactable for reactable in self.get_reactables() if not (reactable in removables)])\n",
        "\n",
        "\n",
        "def bond_pair(self, west, east):\n",
        "  \"\"\"\n",
        "  Accepts two reactables from the bag\n",
        "  Bonds them together, handling deletion of any emptied polymer\n",
        "  \"\"\"\n",
        "\n",
        "  #this is my attempt to get the ages working properly the idea is:\n",
        "\n",
        "  #if both are polymers or both are monomers:\n",
        "  if (type(west) == type(east) and type(west) == Polymer):\n",
        "    #set the new age to the maximum age of the polymers\n",
        "    age = max(west.get_age(), east.get_age())\n",
        "  \n",
        "  if (type(west) == type(east) and type(west) == Monomer):\n",
        "    #set age to 0 it is a brand new polymer\n",
        "    age = 0\n",
        "\n",
        "  #if only one is a polymer:\n",
        "  elif isinstance(west, Polymer) and isinstance(east, Monomer):\n",
        "    #set the age to the age of the polymer\n",
        "    age = west.get_age()\n",
        "  elif isinstance(west, Monomer) and isinstance(east, Polymer):\n",
        "    # set the age to the age of the polymer\n",
        "    age = east.get_age()\n",
        "\n",
        "  #Take your two reactables and check if the west one is a monomer or a polymer \n",
        "  if isinstance(west, Polymer):\n",
        "    #If it's a polymer, all you've got to do is append the east item and then take it out of the bag\n",
        "    west.append(east)\n",
        "    self.subtract([east])\n",
        "    #recalculate the breakprobabilities of the bonds in polymer\n",
        "    west.reset_break_probability()\n",
        "    #set new polymer to age that was calculated before\n",
        "    west.set_age(age)\n",
        "\n",
        "  if isinstance(west, Monomer):\n",
        "    #If west friend is a Monomer, then make a new polymer containing west\n",
        "    newpoly = Polymer([west])\n",
        "    #Add the east things to it\n",
        "    newpoly.append(east)\n",
        "    #Remove both the west monomer and the east thing\n",
        "    self.subtract([east])\n",
        "    self.subtract([west])\n",
        "    #And put the new polymer into the reactables bag\n",
        "    self.add([newpoly])\n",
        "    #recalculates break probability\n",
        "    newpoly.reset_break_probability()\n",
        "    #set new polymer to age that was calculated before\n",
        "    newpoly.set_age(age)\n",
        "\n",
        "\n",
        "\n",
        "def break_polymer(self, polymer, brk_location):\n",
        "  #breaks polymer at given location and creates a new polymer of the \n",
        "  #monomers removed\n",
        "  #when polymer is made-breakprobabilities are calculated\n",
        "  newPolymer = Polymer(polymer.removeright(brk_location))\n",
        "  #if(newPolymer._monomers[0].get_handedness() and polymer._monomers[-1].get_handedness()):\n",
        "    #print (\"left breaking when literally impossible????\")\n",
        "  #if(not newPolymer._monomers[0].get_handedness() and not polymer._monomers[-1].get_handedness()):\n",
        "   # print(\"right breaking\")\n",
        "  polys = [newPolymer, polymer]\n",
        "  #resets break probabilities in polymers\n",
        "  #goes throught the two new polymers\n",
        "  for poly in polys:\n",
        "    #resets break probabilities in polymers\n",
        "    polymer.reset_break_probability()\n",
        "    if poly.get_length()==0:\n",
        "      print(\"whyyyyyyyyyyy is this happening????\")\n",
        "    #checks if they are of length 1\n",
        "    if poly.get_length() <= 1:\n",
        "      #adds them to reactable as a single monomer\n",
        "      self.add(poly.get_monomers())\n",
        "      #subtracts polymer from reactable list\n",
        "      self.subtract([poly])\n",
        "      del poly\n",
        "    #checks if the polymer is not in the reactables list\n",
        "    elif (poly not in self.get_reactables()):\n",
        "      #add polymer to reactable list\n",
        "      self.add([poly])\n",
        "\n",
        "    \n",
        "\n"
      ],
      "execution_count": 15,
      "outputs": []
    },
    {
      "cell_type": "markdown",
      "metadata": {
        "id": "CmKsCAazVPy_",
        "colab_type": "text"
      },
      "source": [
        "### Current state data methods"
      ]
    },
    {
      "cell_type": "code",
      "metadata": {
        "id": "4FVYtSkYVZ7n",
        "colab_type": "code",
        "colab": {}
      },
      "source": [
        "%%add_to Reactables\n",
        "\n",
        "def get_overall_chirality(self):\n",
        "  \"\"\" Return the total quantity of left- and right-handed monomers in the reactable\n",
        "    pool, including monomers within polymers.\n",
        "\n",
        "  RETURN tuple\n",
        "  (Left-handed_quantity, Right-handed_quantity)\n",
        "  \"\"\"\n",
        "  left_count = 0\n",
        "  right_count = 0\n",
        "  for reactable in self.get_reactables():\n",
        "    if isinstance(reactable, Monomer):\n",
        "      if reactable.get_handedness():\n",
        "        left_count += 1\n",
        "      else:\n",
        "        right_count += 1\n",
        "    elif isinstance(reactable, Polymer):\n",
        "      l, r = reactable.get_chirality()\n",
        "      left_count += l\n",
        "      right_count += r\n",
        "    else:\n",
        "      print(f\"{reactable}, which is a {type(reactable)}\")\n",
        "      raise ValueError\n",
        "  return (left_count, right_count)\n",
        "\n",
        "def get_polymer_chirality(self):\n",
        "  \"\"\" Return the total quantity of left- and right-handed monomers in the polymers\n",
        "  within the reactable pool.\n",
        "\n",
        "  RETURN tuple\n",
        "  (Left-handed_quantity, Right-handed_quantity)\n",
        "  \"\"\"\n",
        "  left_count = 0\n",
        "  right_count = 0\n",
        "  for reactable in self.get_reactables():\n",
        "    if isinstance(reactable, Polymer):\n",
        "      l, r = reactable.get_chirality()\n",
        "      left_count += l\n",
        "      right_count += r\n",
        "  return (left_count, right_count)\n",
        "\n",
        "def get_free_proportion(self):\n",
        "  \"\"\"Return the proportion of free monomers to total population\"\"\"\n",
        "  return len(self.get_free_monomers())/self.unit_count()\n",
        "\n",
        "def unit_count(self):\n",
        "  \"\"\"return the total number of monomers in the bag, both free and bound\"\"\"\n",
        "  bound = 0\n",
        "  for p in self.get_polymers():\n",
        "    bound += p.get_length()\n",
        "  return len(self.get_free_monomers()) + bound\n",
        "\n",
        "def get_polymer_ee(self):\n",
        "  ee = []\n",
        "  for polymer in self.get_polymers():\n",
        "    ee.append(polymer.get_signed_ee())\n",
        "  return ee\n",
        "\n",
        "def avg_ee_by_length(self):\n",
        "  \"\"\" Return a list containing the enantiomeric excess of all reactables sorted by size.\n",
        "  That is:\n",
        "  [(ee of monomers),(ee of 2-mers),(ee of 3-mers) etc]\n",
        "  \"\"\"\n",
        "  output = []\n",
        "  for n in range(1,self.max_length()+1):\n",
        "    group = self.get_reactables_by_length(n)\n",
        "    ees = []\n",
        "    # print(f\"For length {n} I got {len(group)} reactables.\")\n",
        "    if len(group) > 0:\n",
        "      # eestr = \"\"\n",
        "      for r in group:\n",
        "        ees.append(r.get_ee())\n",
        "        # eestr += f\", {r.get_ee()}\"\n",
        "      output.append(np.mean(ees))\n",
        "      # print(f\"The ee's of this length were {eestr}.\\nThe average ee was {np.mean(ees)}.\")\n",
        "    else:\n",
        "      output.append(0)\n",
        "  return output\n",
        "\n",
        "def get_reactables_by_length(self,length):\n",
        "  if length <= 1:\n",
        "    #return the monomers\n",
        "    return self.get_free_monomers()\n",
        "  else:\n",
        "    return [p for p in self.get_polymers() if p.get_length() == length]\n",
        "\n",
        "def max_length(self):\n",
        "  \"\"\" Return the length of the longest polymer in the reactables bag.\n",
        "  \"\"\"\n",
        "  length = 0\n",
        "  for p in self.get_polymers():\n",
        "    if p.get_length() > length:\n",
        "      length = p.get_length()\n",
        "  return length\n",
        "\n",
        "def ageup(self):\n",
        "  \"\"\"\n",
        "  Method that ages up every reactable in the reactables bag\n",
        "  \"\"\"\n",
        "  for reactable in self.get_reactables():\n",
        "    reactable.birthday()\n",
        "    \n",
        "\n",
        "def logagehistory (self):\n",
        "  \"\"\"\n",
        "  Method that logs the age of the molecules in the current iteration. Only logs the polymers ages.\n",
        "  \"\"\"\n",
        "  log = []\n",
        "  #gets all the polymers in an iteration\n",
        "  polymers = self.get_polymers()\n",
        "  #Goes through polymers\n",
        "  for molecule in polymers:\n",
        "    #appends age to log\n",
        "    log.append(molecule.get_age())\n",
        "    #returns log of a list of ages of the polymers of current iteration\n",
        "  return log\n",
        "  \n",
        "\n"
      ],
      "execution_count": 16,
      "outputs": []
    },
    {
      "cell_type": "markdown",
      "metadata": {
        "id": "FVHgjYMhkuri",
        "colab_type": "text"
      },
      "source": [
        "### History handling methods"
      ]
    },
    {
      "cell_type": "code",
      "metadata": {
        "id": "tps6afh4kzUe",
        "colab_type": "code",
        "colab": {}
      },
      "source": [
        "%%add_to Reactables\n",
        "\n",
        "def log(self, iteration):\n",
        "  \"\"\" Translate current reactables into a loggable list of tuples.\n",
        "  This log keeps the full sequences of the polymers without digesting the data, \n",
        "  so it should be more flexible as we more forward with pulling new information\n",
        "  out of this simulation. \n",
        "  There is one major piece of information lost, however, which is the identities\n",
        "  of the individual polymers and monomers. \"\"\"\n",
        "\n",
        "  # Column labels for History Handling #\n",
        "  Type = \"Type\"                   # Monomer or polymer\n",
        "  Length = \"Length\"               # How many monomers in the thing\n",
        "  nLefts = \"#Lefts\"               # How many left monomers in the thing\n",
        "  nRights = \"#Rights\"             # How many right monomers in the thing\n",
        "  Sequence = \"Sequence\"           # The string sequence of the thing\n",
        "  nLhomo = \"#LeftHomochiral\"      # The number of left homochiral bonds in the polymer\n",
        "  nRhomo = \"#RightHomochiral\"     # The number of right homochiral bonds in the polymer\n",
        "  nHomo = \"#Homochiral\"           # The overall number of homochiral bonds in the polymer\n",
        "  sEE = \"Signed ee\"               # The signed enantiomeric excess of the polymer (+ if more True)\n",
        "  pcHomo = \"%Homochirality\"       # The proportion of bonds in the polymer that are homochiral\n",
        "  pcLhomo = \"%LeftHomochirality\"  # The proportion of bonds in the polymer that are left homochiral\n",
        "  pcRhomo = \"%RightHomochirality\" # The proportion of bonds in the polymer that are right homochiral\n",
        "  Iter = \"Iteration\"              # The iteration number at which the item is found\n",
        "  Age = \"Age\"                     # The age of the item\n",
        "\n",
        "\n",
        "  for r in self.get_reactables():\n",
        "    item = r.get_sequence()\n",
        "    age = r.get_age()\n",
        "    # Translate\n",
        "    sequence = self.standard_form(item)\n",
        "\n",
        "    #Is it in the lookup table?\n",
        "    if sequence not in self.get_lookup():\n",
        "\n",
        "      # If not, check what kind of data to gether\n",
        "      if len(item) == 1: # It's a monomer\n",
        "        # Get the info\n",
        "        lr = self.count_LR(item)\n",
        "        # And put it in the lookup table\n",
        "        self.add_stat_lookup(sequence, {Type: 'Monomer', \n",
        "                                        Length:1, \n",
        "                                        nLefts:lr[0], \n",
        "                                        nRights:lr[1],\n",
        "                                        Sequence:sequence})\n",
        "      elif len(item) > 1: # It's a polymer\n",
        "        # Get basic info\n",
        "        length = len(item)\n",
        "        lr = self.count_LR(item)\n",
        "        bonds = self.homochiral_bond_counts(item)\n",
        "        total_homos = bonds[0]+bonds[1]\n",
        "        signed_ee = (lr[0]-lr[1])/(lr[0]+lr[1])\n",
        "        homochirality = total_homos/(length-1)\n",
        "        lhomochirality = bonds[0]/(length-1)\n",
        "        rhomochirality = bonds[1]/(length-1)\n",
        "        # And put it in the lookup table\n",
        "        self.add_stat_lookup(sequence, {Type: 'Polymer', \n",
        "                                        Length: length, \n",
        "                                        nLefts:lr[0], \n",
        "                                        nRights:lr[1],\n",
        "                                        nLhomo:bonds[0],\n",
        "                                        nRhomo:bonds[1],\n",
        "                                        nHomo:total_homos,\n",
        "                                        sEE:signed_ee,\n",
        "                                        pcHomo:homochirality,\n",
        "                                        pcLhomo:lhomochirality,\n",
        "                                        pcRhomo:rhomochirality,\n",
        "                                        Sequence:sequence})\n",
        "      else:\n",
        "        raise ValueError(\"There's something with length 0 in your history.\")\n",
        "\n",
        "    # Now that the data is searchable...\n",
        "    # Log it\n",
        "    new_log = self.get_lookup().get(sequence)\n",
        "    new_log[Iter] = iteration\n",
        "    new_log[Age] = age\n",
        "    self.add_log(new_log)\n",
        "\n",
        "\n",
        "def parse_history(self):\n",
        "  \"\"\" Create an array of plottable information from the history log. \"\"\"\n",
        "  parsed_hist = pd.DataFrame(self.get_history())\n",
        "  self.set_hist_stats(parsed_hist)\n"
      ],
      "execution_count": 17,
      "outputs": []
    },
    {
      "cell_type": "markdown",
      "metadata": {
        "id": "UkZ1_7xIy0Yd",
        "colab_type": "text"
      },
      "source": [
        "#### Low level info functions"
      ]
    },
    {
      "cell_type": "code",
      "metadata": {
        "id": "qJQfgfeSy5Me",
        "colab_type": "code",
        "colab": {}
      },
      "source": [
        "%%add_to Reactables\n",
        "\n",
        "## New ones ##\n",
        "\n",
        "  \n",
        "# Functions for getting the info we want to log\n",
        "    \n",
        "# Number of right and left monomers in a polymer (works on monomers too)\n",
        "\n",
        "\n",
        "def count_LR(self, log):\n",
        "    \"\"\" Return (n_Lefts, n_Rights) \"\"\"\n",
        "    if L and not R:\n",
        "        return (sum(log), len(log)-sum(log))\n",
        "    elif R and not L:\n",
        "        return (len(log)-sum(log), sum(log))\n",
        "    else:\n",
        "        raise ValueError(\"Your L's and R's are screwed up somehow.\")\n",
        "    \n",
        "\n",
        "\n",
        "# HOMOCHIRALITY SEQUENCES #\n",
        "\n",
        "def homochirality_sequence(self, log):\n",
        "  \"\"\" Return a boolean list of bonds within a given logged polymer, True if the bond is\n",
        "      homochiral. \"\"\"\n",
        "  return [i[0]==i[1] for i in list(more_itertools.pairwise(log))]\n",
        "\n",
        "def _is_L_True(self, log):\n",
        "    return log[:-1]\n",
        "\n",
        "\n",
        "def T_homochirality_sequence(self,h_seq,L_seq):\n",
        "    \"\"\" Return a boolean list of bonds within a polymer, true if the bond is \n",
        "    a homochiral bond between two True monomers. Parameters are the outputs of \n",
        "    homochirality_sequence() and _is_L_True(). \"\"\"\n",
        "    return eAnd(h_seq,L_seq)\n",
        "\n",
        "# HOMOCHIRAL BOND COUNTS #\n",
        "    \n",
        "\n",
        "def homochiral_bond_counts(self,log):\n",
        "    \"\"\" Return (number of left homochiral bonds, number of right homochiral bonds) \"\"\"\n",
        "    homo = self.homochirality_sequence(log)\n",
        "    west_true = log[:-1]\n",
        "    true_homochiral = eAnd(homo,west_true)\n",
        "    west_false = [not m for m in west_true]\n",
        "    false_homochiral = eAnd(homo,west_false)\n",
        "    if L and not R:\n",
        "        return (sum(true_homochiral), sum(false_homochiral))\n",
        "    elif R and not L: \n",
        "        return (sum(false_homochiral), sum(true_homochiral))\n",
        "    else:\n",
        "        raise ValueError(\"Your L's and R's are screwed up somehow.\")\n",
        "\n",
        "\n",
        "def get_polymer_chain_lengths(self,polylog):\n",
        "  \"\"\" Return the lengths of the homochiral chains in a given polymer log. \"\"\"\n",
        "  count = 1\n",
        "  lengths = [] \n",
        "  for n in range(1,len(polylog)):\n",
        "    if polylog[n] == polylog[n-1]:\n",
        "      count += 1\n",
        "    else:\n",
        "      lengths.append(count)\n",
        "      count = 1\n",
        "  lengths.append(count)\n",
        "  return lengths\n",
        "    \n",
        "\n",
        "def standard_form(self,poly):\n",
        "  if len(poly) == 0:\n",
        "    return ''\n",
        "  return ''.join(['L' if m else 'R' for m in poly])\n",
        "    \n",
        "\n",
        "\n",
        "\n",
        "## Old ones ##\n",
        "\n",
        "def hist_get_polymer_homochirality_of_bonds(self,polylog):\n",
        "  \"\"\" Return a boolean list of bonds within a given logged polymer, True if the bond is\n",
        "      homochiral. \"\"\"\n",
        "  return [i[0]==i[1] for i in list(more_itertools.pairwise(polylog))]\n",
        "\n",
        "def hist_get_polymer_ee(self,polylog):\n",
        "  \"\"\" Return the (signed) enantiomeric excess of a logged polymer. \"\"\"\n",
        "  length = len(polylog)\n",
        "  n_True = sum(polylog)\n",
        "  n_False = length - n_True\n",
        "  return (n_True - n_False) / length\n",
        "\n",
        "def hist_get_polymers(self,iteration):\n",
        "  \"\"\" Return a list of the polymer logs in an iteration. This is just the iteration\n",
        "  but without the monomers. \"\"\"\n",
        "  return [r for r in iteration if len(r) > 1]\n",
        "\n",
        "def hist_count_longest_homochiral_chain(self,polylog):\n",
        "  \"\"\" Return the length of the longest homochiral chain given the log of a polymer. \"\"\"\n",
        "  previous = None\n",
        "  count = 1\n",
        "  longest = 1\n",
        "  for monomer in polylog:\n",
        "    if monomer == previous:\n",
        "      count += 1\n",
        "    else:\n",
        "      longest = max(count, longest)\n",
        "      count = 1\n",
        "    previous = monomer\n",
        "  longest = max(count, longest)\n",
        "  return longest\n",
        "\n",
        "def hist_get_polymer_chain_lengths(self,polylog):\n",
        "  \"\"\" Return the lengths of the homochiral chains in a given polymer log. \"\"\"\n",
        "  count = 1\n",
        "  lengths = [] \n",
        "  for n in range(1,len(polylog)):\n",
        "    if polylog[n] == polylog[n-1]:\n",
        "      count += 1\n",
        "    else:\n",
        "      lengths.append(count)\n",
        "      count = 1\n",
        "  lengths.append(count)\n",
        "  return lengths\n",
        "\n",
        "def hist_get_iteration_chain_lengths(self,iteration):\n",
        "  \"\"\" Return the lengths of all the homochiral chains in polymers in a given iteration. \"\"\"\n",
        "  polymers = self.hist_get_polymers(iteration)\n",
        "  chain_lengths = []\n",
        "  for polymer in polymers:\n",
        "    chain_lengths.extend(self.hist_get_polymer_chain_lengths(polymer))\n",
        "  return chain_lengths\n",
        "\n",
        "# Other new ones #\n",
        "\n",
        "def hist_get_leftright_homochiral_count_iteration(self,iteration):\n",
        "  \"\"\"\n",
        "  returns a tuple (l,r)of the total number of left homochiral bonds and right homochiral bonds in an iteration \n",
        "  \"\"\"\n",
        "  #initilize l to keep track of the number of homochiral bonds\n",
        "  l=0\n",
        "  #initilize r to keep track of the number of homochiral bonds\n",
        "  r=0\n",
        "\n",
        "  #run through reactables in the iteration\n",
        "  for reactable in iteration:\n",
        "     #add the left homochiral bond count in each reactable\n",
        "     l += self.hist_get_leftright_homochiral_count_polymer(reactable)[0]\n",
        "     #add the right homochiral bond count in each reactable\n",
        "     r += self.hist_get_leftright_homochiral_count_polymer(reactable)[1]\n",
        "\n",
        "  #place l and r in a tuple\n",
        "  leftrightcount=(l,r)\n",
        "\n",
        "  #return the tuple\n",
        "  return leftrightcount\n",
        "\n",
        "def hist_get_leftright_homochiral_count_polymer(self,polymer):\n",
        "  \"\"\"\n",
        "  returns a tuple (l,r)of the total number of left homochiral bonds and right homochiral bonds in an polymer \n",
        "  \"\"\"\n",
        "\n",
        "  #initialize l to keep track of the number of left homochiral bonds\n",
        "  l=0\n",
        "  #initialize r to keep trac of the number of right homochiral bonds\n",
        "  r=0\n",
        "\n",
        "  #go through the monomers in the polymer\n",
        "  for monomer in range(len(polymer)-1):\n",
        "\n",
        "      #check if they are homochiral\n",
        "        if (polymer[monomer]== polymer[monomer+1]):\n",
        "          #if so check if they are homochiral left\n",
        "          if (polymer[monomer]):\n",
        "            #if so add one to l\n",
        "            l += 1\n",
        "          #otherwise check if they are homochiral right\n",
        "          elif (not polymer[monomer]):\n",
        "            #if so add one to r\n",
        "            r += 1\n",
        "  #place l and r in a tuple\n",
        "  leftrightcount= (l,r)\n",
        "  #return the tuple\n",
        "  return leftrightcount\n",
        "\n",
        "def hist_get_bond_status(self,polylog):\n",
        "  \"\"\" Iterate through the monomers in polylog ONCE to get number of left homochiral\n",
        "  and right homochiral bonds, as well as chain lengths if at all possible. \"\"\"\n",
        "  for m in polylog:\n",
        "    pass\n"
      ],
      "execution_count": 18,
      "outputs": []
    },
    {
      "cell_type": "markdown",
      "metadata": {
        "id": "WdlB4JOXUq9i",
        "colab_type": "text"
      },
      "source": [
        "### Plotting methods"
      ]
    },
    {
      "cell_type": "code",
      "metadata": {
        "id": "czdjDAVBPpQI",
        "colab_type": "code",
        "colab": {}
      },
      "source": [
        "%%add_to Reactables\n",
        "\n",
        "def visualize_parameters(self,stamp=\"\"):\n",
        "  fig,ax = plt.subplots()\n",
        "\n",
        "  parameters = ['POOF_CHANCE','BOND_PROB','BASE_BOND_BREAK_PROBABILITY',\n",
        "                'HOMOCHIRAL_BREAK_FACTOR','HOMOCHIRAL_NEIGHBOR_IMPROV_FACTOR',\n",
        "                'LENGTH_FACTOR','HOMOCHIRAL_BREAK_FACTOR_LEFT',\n",
        "                'HOMOCHIRAL_BREAK_FACTOR_RIGHT',\n",
        "                'HOMOCHIRAL_NEIGHBOR_IMPROV_FACTOR_LEFT',\n",
        "                'HOMOCHIRAL_NEIGHBOR_IMPROV_FACTOR_RIGHT']\n",
        "  values = [POOF_CHANCE,BOND_PROB,BASE_BOND_BREAK_PROBABILITY,\n",
        "            HOMOCHIRAL_BREAK_FACTOR,HOMOCHIRAL_NEIGHBOR_IMPROV_FACTOR,\n",
        "            LENGTH_FACTOR,HOMOCHIRAL_BREAK_FACTOR_LEFT,\n",
        "            HOMOCHIRAL_BREAK_FACTOR_RIGHT,\n",
        "            HOMOCHIRAL_NEIGHBOR_IMPROV_FACTOR_LEFT,\n",
        "            HOMOCHIRAL_NEIGHBOR_IMPROV_FACTOR_RIGHT]\n",
        "\n",
        "  ypos = np.arange(len(parameters))\n",
        "\n",
        "  ax.barh(ypos, values, align='center')\n",
        "  ax.set_yticks(ypos)\n",
        "  ax.set_yticklabels(parameters)\n",
        "  ax.invert_yaxis()  # labels read top-to-bottom\n",
        "  ax.set_xlabel('Value')\n",
        "  ax.set_title(f\"{stamp}Parameter values\")\n",
        "\n",
        "\n",
        "\n",
        "def plot_signed_ee_spread(self,cmap='bone',stamp=\"\"):\n",
        "  #First make the polymerspread thingy\n",
        "  poly_ee_hist = []\n",
        "  for iteration in self.get_history():\n",
        "    polys = [log for log in iteration if not isinstance(log,bool)]\n",
        "    polydata = [log for log in polys if len(log) > 1] # All the polymers (not monomers) in the iteration\n",
        "    poly_ees = [self.hist_get_polymer_ee(poly) for poly in polydata] # the EE of each polymer in the iteration\n",
        "    poly_ee_hist.append(poly_ees) # Put the EE list in our plottable structure\n",
        "  #Now we can make the plot\n",
        "  fig,ax = plt.subplots()\n",
        "  ys = []\n",
        "  xs = []\n",
        "  for n in range(len(poly_ee_hist)):\n",
        "    y = poly_ee_hist[n]\n",
        "    x = [n] * len(y)\n",
        "    ys.extend(y)\n",
        "    xs.extend(x)\n",
        "  ax.hexbin(xs,ys,cmap=cmap)\n",
        "  ax.set_title(f\"{stamp}polymer spread\")\n",
        "  ax.set_xlabel(\"iteraions\")\n",
        "  ax.set_ylabel(\"ee\")\n",
        "\n",
        "def plot_ee_heatmap(self,cmap='bone',stamp=\"\"):\n",
        "  #Need to figure out how to get ees_by_length from history\n",
        "  ees_by_length = []\n",
        "  for iteration in self.get_history():\n",
        "    ee_data = []\n",
        "    #get the polymers\n",
        "    polys = [log for log in iteration if not isinstance(log,bool)]\n",
        "    #get the length of the longest polymer\n",
        "    lengths = [len(log) for log in polys]\n",
        "    try:\n",
        "      biggest = max(lengths)\n",
        "    except:\n",
        "      biggest = 0\n",
        "    for n in range(1,biggest+1):\n",
        "      ees = [abs(self.hist_get_polymer_ee(log)) for log in polys if len(log) == n]\n",
        "      if len(ees) > 0:\n",
        "        ee_data.append(np.mean(ees))\n",
        "      else:\n",
        "        ee_data.append(0)\n",
        "    ees_by_length.append(ee_data)\n",
        "  #Need to make a new ee array with rectangular dimensions\n",
        "  ee = numpy_fillna(ees_by_length)\n",
        "  fig,ax = plt.subplots(dpi=150)\n",
        "  im = ax.imshow(ee,cmap=cmap)\n",
        "  ax.set_title(f\"{stamp}ee of polymers by length through iterations\")\n",
        "  ax.set_xlabel(\"polymer lengths\")\n",
        "  ax.set_ylabel(\"iterations\")\n",
        "  fig.tight_layout()\n",
        "  plt.show()\n",
        "\n",
        "def plot_leftrighthomochirality(self):\n",
        "  \"\"\"\n",
        "  Plot the percent of bonds that are left homochiral and right homochiral in each iteration\n",
        "  \"\"\"\n",
        " #make list to hold the number of left bonds\n",
        "  L=[]\n",
        " #make list to hold the number of right bonds\n",
        "  R=[]\n",
        " #make list to hold the number of iteration\n",
        "  x=[]\n",
        " #integer to keep track of iterations\n",
        "  i=1\n",
        "\n",
        " #work through history of reactables bag\n",
        "  for iteration in self.get_history():\n",
        "\n",
        "    #get the left right homochiral count in the iteration(returned as a tuple)\n",
        "    leftrightcount=self.hist_get_leftright_homochiral_count_iteration(iteration)\n",
        "\n",
        "    #initiate bonds as 0 to keep track of total number of bonds in the iteration\n",
        "    bonds = 0\n",
        "\n",
        "    #work through the polymers in iteration\n",
        "    for polymer in self.hist_get_polymers(iteration):\n",
        "      #add all the bonds in the a polymer to the total number of bonds\n",
        "      bonds += len(polymer)- 1\n",
        "\n",
        "    #to avoid a divide by zero error\n",
        "    if bonds == 0:\n",
        "      #just append 0 to L and R\n",
        "      L.append(0)\n",
        "      R.append(0)\n",
        "    else: # append percent left homochiral bonds and percent which are right homochiral bonds\n",
        "      L.append(leftrightcount[0]/bonds)\n",
        "      R.append(leftrightcount[1]/bonds)\n",
        "    #append the iteration to x\n",
        "    x.append(i)\n",
        "    #increment the iteration tracker\n",
        "    i+=1\n",
        "  \n",
        "  #Plot the data\n",
        "  plt.figure() \n",
        "  plt.plot(x,L,label=\"left homochiral\")\n",
        "  plt.plot(x,R,label=\"right homochiral\")\n",
        "  plt.ylabel(\"percentage of total bonds in the pool\")\n",
        "  plt.xlabel(\"Iterations\")\n",
        "  plt.title(\"Peercent of bonds in an iteration that are left or right homochiral \")\n",
        "  plt.legend()\n",
        "  plt.show()\n",
        "\n",
        "def plot_homochiral_chain_lengths(self):\n",
        "  \"\"\" Plot a chart of the mean length of homochiral chains present at each iteration.\n",
        "  The plot generated will attempt to summarize the mean lengths of homochiral\n",
        "  chains within polymers across iterations. It will also attempt to visualize the \n",
        "  varience with continuous lines plotting the standard deviation around that mean.\n",
        "  \n",
        "  The x axis of the resulting plot is iterations, and the y axis is length of \n",
        "  the homochiral chains. Both of these are discrete categories, but the plot will\n",
        "  treat iterations as continuous to improve readability for large n.\n",
        "  \"\"\"\n",
        "  # Get the history and read it \n",
        "  history = self.get_history()\n",
        "  means = []\n",
        "  stdevs= []\n",
        "  maxes = []\n",
        "  for iteration in history:\n",
        "    # Get the chain lengths in that iteration\n",
        "    iter_data = self.hist_get_iteration_chain_lengths(iteration)\n",
        "    if iter_data == []:\n",
        "      means.append(0)\n",
        "      stdevs.append(0)\n",
        "      maxes.append(0)\n",
        "      print(\"this happened in this iteration???whyyyyyyyyyyyyy\")\n",
        "      print (iteration)\n",
        "      print (iter_data)\n",
        "    else:\n",
        "      means.append(np.mean(iter_data))\n",
        "      stdevs.append(np.std(iter_data))\n",
        "      maxes.append(max(iter_data))\n",
        "  # Plot those data\n",
        "  fig,ax = plt.subplots()\n",
        "  ax.fill_between(np.arange(0,len(means)), [m + s for m, s in zip(means, stdevs)],[m - s for m, s in zip(means, stdevs)], alpha=0.2, label = \"Means +- one standard deviation\")\n",
        "  ax.plot(means, 'k-', label = \"Mean homochiral chain length\")\n",
        "  ax.plot(maxes, 'b.', label = \"Max homochiral chain length\")\n",
        "  ax.set_xlabel(\"Iteration\")\n",
        "  ax.set_ylabel(\"Homochiral chain length\")\n",
        "  ax.legend()\n",
        "\n",
        "def plot_homochirality_vs_length(self):\n",
        "  \"\"\" Take all the polymers that ever existed in history and plot them on a\n",
        "  scatter plot of length vs homochirality. Homochirality is the percent of their\n",
        "  bonds that are homochiral. \"\"\"\n",
        "  #Get the history\n",
        "  history = self.get_history()\n",
        "  #Get the polymers\n",
        "  x = []\n",
        "  y = []\n",
        "  for i in history:\n",
        "    for p in self.hist_get_polymers(i):\n",
        "      homochirality = sum(self.hist_get_polymer_homochirality_of_bonds(p))/len(p)\n",
        "      x.append(len(p))\n",
        "      y.append(homochirality)\n",
        "  fig,ax = plt.subplots()\n",
        "  ax.scatter(x,y)\n",
        "  ax.set_xlabel(\"Polymer lengths\")\n",
        "  ax.set_ylabel(\"Homochirality\")\n",
        "\n",
        "def plot_age_vs_homochirality_leftright(self):\n",
        "  \"\"\"\n",
        "  Make a plot showing the age of a polymer vs the percent of its bonds that are \n",
        "  left homochiral(shown in negative numbers) and right homochiral\n",
        "\n",
        "  \"\"\"\n",
        "  #l is a list to hold the percent of bonds that are left homochiral in a polymer\n",
        "  l=[]\n",
        "  #r is a list to hold the percent of bonds that are right homochiral in a polymer\n",
        "  r=[]\n",
        "  #x is a list that holds the ages of the polymers\n",
        "  x=[]\n",
        "\n",
        "  #go through the age history in each iteration\n",
        "  for iteration in self.get_agehistory():\n",
        "    #go through each reactable in an iteration(only polymers are present in the age history)\n",
        "    for reactable in iteration:\n",
        "      #add age to the x\n",
        "      x.append(reactable)\n",
        "  #go through the general history\n",
        "  for iteration in self.get_history():\n",
        "    #go through the reactables in the iteration\n",
        "    for reactable in iteration:\n",
        "      #only look at the polymers\n",
        "      if len(reactable) > 1:\n",
        "        #get the number of left and number of right homochiral bonds in the polymer\n",
        "        leftrightcount = self.hist_get_leftright_homochiral_count_polymer(reactable)\n",
        "        #add the left and right count as a percentage of the total number of bonds in the reactable\n",
        "        l.append((leftrightcount[0])/(len(reactable)-1))\n",
        "        r.append(-1 * (leftrightcount[1])/(len(reactable)-1))\n",
        "  #Plot the data\n",
        "  plt.figure()\n",
        "  plt.scatter(x,l, label = \"left\")\n",
        "  plt.scatter(x,r, label=\"right\")\n",
        "  plt.xlabel(\"age\")\n",
        "  plt.ylabel(\"signed percent of bonds that are homochiral\")\n",
        "  plt.legend()\n",
        "  plt.show()\n",
        "\n",
        "def plot_age_vs_homochirality_ee(self):\n",
        "  \"\"\" \n",
        "  Make a plot of the ages of a polymer vs the homochirality of the reactable. No left right sensitivity\n",
        "  \"\"\"\n",
        "  #x keeps track of the ages of the polymers\n",
        "  x=[]\n",
        "  #y keeps track of the enantiomeric excess of the polymers\n",
        "  y=[]\n",
        "  #go through iteration of age history\n",
        "  for iteration in self.get_agehistory():\n",
        "    #go through every reactable in the iteration\n",
        "    for reactable in iteration:\n",
        "      #add age to the list\n",
        "      x.append(reactable)\n",
        "  #go through the general history\n",
        "  for iteration in self.get_history():\n",
        "    #go through the reactables in the iterations\n",
        "    for reactable in iteration:\n",
        "      #only go through the polymers\n",
        "      if len(reactable) > 1:\n",
        "        #append the enantiomeric excess of the polymer\n",
        "        y.append(abs(self.hist_get_polymer_ee(reactable)))\n",
        "  #plot the data\n",
        "  plt.figure()\n",
        "  plt.scatter(x,y)\n",
        "  plt.xlabel(\"age\")\n",
        "  plt.ylabel(\"polymer_ee\")\n",
        "  plt.show()\n",
        "\n",
        "def plot_age_vs_length(self):\n",
        "  \"\"\"\n",
        "  Make a plot of the age of a reactable vs the length of the total homochiral \n",
        "  chains vs and the total nonhomochiral chains in the molecule.\n",
        "  \"\"\"\n",
        "  plt.figure()\n",
        "  z =[]\n",
        "  #x keeps track of the ages of the reactables\n",
        "  x= []\n",
        "  y =[]\n",
        "  ages = self.get_agehistory()\n",
        "  #go through the iterations of the age history\n",
        "  for iteration in self.get_agehistory():\n",
        "    #go through the reactables in the iteration\n",
        "    for reactable in iteration:\n",
        "      #add the age of the reactable to the list\n",
        "      x.append(reactable)\n",
        "\n",
        "  #go through the iterations of the general history\n",
        "  for iteration in self.get_history():\n",
        "    #go through the reactables of the iteration\n",
        "    for reactable in iteration:\n",
        "      #only go through the polymers \n",
        "      if len(reactable) > 1 :\n",
        "        #get a list of the lengths of the homochiral chain lengths in the polymer\n",
        "        homochiralchainlengths =self.hist_get_polymer_chain_lengths(reactable)\n",
        "        #go through the chain lengths \n",
        "        for n in homochiralchainlengths: \n",
        "          #Remove those that are of length one or less\n",
        "          if n < 2:\n",
        "            homochiralchainlengths.remove(n) \n",
        "        \n",
        "        number =sum(homochiralchainlengths)/(len(reactable))\n",
        "       # y.append(len(reactable) - number)\n",
        "        z.append(number) \n",
        "  plt.figure()\n",
        " # plt.scatter(x,y, label= \"of reactable\") \n",
        "  plt.scatter(x,z)\n",
        "  plt.xlabel(\"age\")\n",
        "  plt.ylabel(\"percent homochiral chain\")\n",
        "  plt.show()\n",
        "\n",
        "def plot_homochiral_lengths_vs_poisson(self):\n",
        "  \"\"\"\n",
        "  This graph visualizes the frequency of homochiral chain lengths in the history of the reactable bag.\n",
        "  It graphs the frequency of different homochiral lengths in the bag vs the poisson distribution. \n",
        "  Do factor in liklihood that these  molecules will form, the frequencies are increased by a \n",
        "  factor of thenumber of bonds they have to account for the fact that having more bonds, is less likely. \n",
        "  \"\"\"\n",
        "  #create a dictionary to track the frequency of each length of a certain homochiral bond\n",
        "  lengths = {}\n",
        "  #x is a list of the lengths to go on the x axis\n",
        "  x=[]\n",
        "  #y is a frequency to go on y axis\n",
        "  y=[]\n",
        "  #p is to store values for a length\n",
        "  p=[]\n",
        "\n",
        "  #go through the iterations of general history\n",
        "  for iteration in self.get_history():\n",
        "    #go through the reactables of the iterations\n",
        "    for reactable in iteration:\n",
        "      #go through the polymers\n",
        "      if len(reactable) >1: \n",
        "        #if so return a list  of the lenghts of the homochiral chains in the polymer\n",
        "        for n in self.hist_get_polymer_chain_lengths(reactable):\n",
        "          #only include the lengths that are greater than one\n",
        "          if n > 1:\n",
        "            #if the length is already in the dictiionary\n",
        "            if n in lengths:\n",
        "            #add one to its frequnency\n",
        "              lengths[n] += 1\n",
        "            else:#otherwise add it to the dictionay with a frequency of occurence of 1\n",
        "              lengths[n] = 1\n",
        "    #go through all of the recorded lengths\n",
        "  for n in lengths:\n",
        "    #the raise the frequency of them to a factor of the number of bonds in them, to\n",
        "    #account for the decreased liklihood of occuring as the length increases that does not\n",
        "    #have to do with homochirality\n",
        "    number = (lengths[n]/len(self.get_history()))**((n/2)-1)\n",
        "    #add the recalculated frequencied to the dictionaru\n",
        "    lengths[n] = number\n",
        "    #append the frequency to the y\n",
        "    y.append(lengths[n])\n",
        "    #append the lenght to x\n",
        "    x.append(n)\n",
        "    #plot the data\n",
        "  plt.figure()\n",
        "  #plot x and y together before sorting x\n",
        "  plt.bar(x,y, label = \"Homichiral lengths\")\n",
        "  #sort x so that it is in numerical order\n",
        "  x.sort()\n",
        "  #go through the lengths stored in x and calculate the poisson value for the length\n",
        "  #and append this to list p \n",
        "  #multiply the values by 1000 so that they appear nicely on graph with frequencies\n",
        "  for n in x:\n",
        "    p.append(1000* poissonequation(n))\n",
        "  #plot x vs p\n",
        "  plt.plot(x,p,label = \"poisson equation\", color = 'orange')\n",
        "  plt.xlabel(\"length\")\n",
        "  plt.ylabel(\"frequency\")\n",
        "  plt.title(\"Lambda =\" + str(LAMBDA))\n",
        "  plt.legend()\n",
        "  plt.show()\n",
        "\n",
        "\n",
        "        \n",
        "\n",
        "\n",
        "\n",
        "    \n",
        "\n",
        "\n",
        "  \n"
      ],
      "execution_count": 19,
      "outputs": []
    },
    {
      "cell_type": "markdown",
      "metadata": {
        "id": "DdqK65C-8cpi",
        "colab_type": "text"
      },
      "source": [
        "## Test program"
      ]
    },
    {
      "cell_type": "code",
      "metadata": {
        "id": "MelavdvZ8ptf",
        "colab_type": "code",
        "colab": {
          "resources": {
            "http://localhost:8080/nbextensions/google.colab/tabbar.css": {
              "data": "Lmdvb2ctdGFie3Bvc2l0aW9uOnJlbGF0aXZlO3BhZGRpbmc6NHB4IDhweDtjb2xvcjojMDBjO3RleHQtZGVjb3JhdGlvbjp1bmRlcmxpbmU7Y3Vyc29yOmRlZmF1bHR9Lmdvb2ctdGFiLWJhci10b3AgLmdvb2ctdGFie21hcmdpbjoxcHggNHB4IDAgMDtib3JkZXItYm90dG9tOjA7ZmxvYXQ6bGVmdH0uZ29vZy10YWItYmFyLXRvcDphZnRlciwuZ29vZy10YWItYmFyLWJvdHRvbTphZnRlcntjb250ZW50OiIgIjtkaXNwbGF5OmJsb2NrO2hlaWdodDowO2NsZWFyOmJvdGg7dmlzaWJpbGl0eTpoaWRkZW59Lmdvb2ctdGFiLWJhci1ib3R0b20gLmdvb2ctdGFie21hcmdpbjowIDRweCAxcHggMDtib3JkZXItdG9wOjA7ZmxvYXQ6bGVmdH0uZ29vZy10YWItYmFyLXN0YXJ0IC5nb29nLXRhYnttYXJnaW46MCAwIDRweCAxcHg7Ym9yZGVyLXJpZ2h0OjB9Lmdvb2ctdGFiLWJhci1lbmQgLmdvb2ctdGFie21hcmdpbjowIDFweCA0cHggMDtib3JkZXItbGVmdDowfS5nb29nLXRhYi1ob3ZlcntiYWNrZ3JvdW5kOiNlZWV9Lmdvb2ctdGFiLWRpc2FibGVke2NvbG9yOiM2NjZ9Lmdvb2ctdGFiLXNlbGVjdGVke2NvbG9yOiMwMDA7YmFja2dyb3VuZDojZmZmO3RleHQtZGVjb3JhdGlvbjpub25lO2ZvbnQtd2VpZ2h0OmJvbGQ7Ym9yZGVyOjFweCBzb2xpZCAjNmI5MGRhfS5nb29nLXRhYi1iYXItdG9we3BhZGRpbmctdG9wOjVweCFpbXBvcnRhbnQ7cGFkZGluZy1sZWZ0OjVweCFpbXBvcnRhbnQ7Ym9yZGVyLWJvdHRvbToxcHggc29saWQgIzZiOTBkYSFpbXBvcnRhbnR9Lmdvb2ctdGFiLWJhci10b3AgLmdvb2ctdGFiLXNlbGVjdGVke3RvcDoxcHg7bWFyZ2luLXRvcDowO3BhZGRpbmctYm90dG9tOjVweH0uZ29vZy10YWItYmFyLWJvdHRvbSAuZ29vZy10YWItc2VsZWN0ZWR7dG9wOi0xcHg7bWFyZ2luLWJvdHRvbTowO3BhZGRpbmctdG9wOjVweH0uZ29vZy10YWItYmFyLXN0YXJ0IC5nb29nLXRhYi1zZWxlY3RlZHtsZWZ0OjFweDttYXJnaW4tbGVmdDowO3BhZGRpbmctcmlnaHQ6OXB4fS5nb29nLXRhYi1iYXItZW5kIC5nb29nLXRhYi1zZWxlY3RlZHtsZWZ0Oi0xcHg7bWFyZ2luLXJpZ2h0OjA7cGFkZGluZy1sZWZ0OjlweH0uZ29vZy10YWItYmFye21hcmdpbjowO2JvcmRlcjowO3BhZGRpbmc6MDtsaXN0LXN0eWxlOm5vbmU7Y3Vyc29yOmRlZmF1bHQ7b3V0bGluZTpub25lO2JhY2tncm91bmQ6I2ViZWZmOX0uZ29vZy10YWItYmFyLWNsZWFye2NsZWFyOmJvdGg7aGVpZ2h0OjA7b3ZlcmZsb3c6aGlkZGVufS5nb29nLXRhYi1iYXItc3RhcnR7ZmxvYXQ6bGVmdH0uZ29vZy10YWItYmFyLWVuZHtmbG9hdDpyaWdodH0qIGh0bWwgLmdvb2ctdGFiLWJhci1zdGFydHttYXJnaW4tcmlnaHQ6LTNweH0qIGh0bWwgLmdvb2ctdGFiLWJhci1lbmR7bWFyZ2luLWxlZnQ6LTNweH0=",
              "ok": true,
              "headers": [
                [
                  "content-type",
                  "text/css"
                ]
              ],
              "status": 200,
              "status_text": ""
            },
            "http://localhost:8080/nbextensions/google.colab/tabbar_main.min.js": {
              "data": "Ly8gY2xhbmctZm9ybWF0IG9mZgooZnVuY3Rpb24oKXt2YXIgaCxhYT1mdW5jdGlvbihhKXt2YXIgYj0wO3JldHVybiBmdW5jdGlvbigpe3JldHVybiBiPGEubGVuZ3RoP3tkb25lOiExLHZhbHVlOmFbYisrXX06e2RvbmU6ITB9fX0sYmE9ZnVuY3Rpb24oYSl7dmFyIGI9InVuZGVmaW5lZCIhPXR5cGVvZiBTeW1ib2wmJlN5bWJvbC5pdGVyYXRvciYmYVtTeW1ib2wuaXRlcmF0b3JdO3JldHVybiBiP2IuY2FsbChhKTp7bmV4dDphYShhKX19LGw9dGhpc3x8c2VsZixjYT1mdW5jdGlvbigpe30sZGE9ZnVuY3Rpb24oYSl7YS5CYT12b2lkIDA7YS5SPWZ1bmN0aW9uKCl7cmV0dXJuIGEuQmE/YS5CYTphLkJhPW5ldyBhfX0sZWE9ZnVuY3Rpb24oYSl7dmFyIGI9dHlwZW9mIGE7aWYoIm9iamVjdCI9PWIpaWYoYSl7aWYoYSBpbnN0YW5jZW9mIEFycmF5KXJldHVybiJhcnJheSI7aWYoYSBpbnN0YW5jZW9mIE9iamVjdClyZXR1cm4gYjt2YXIgYz1PYmplY3QucHJvdG90eXBlLnRvU3RyaW5nLmNhbGwoYSk7aWYoIltvYmplY3QgV2luZG93XSI9PWMpcmV0dXJuIm9iamVjdCI7CmlmKCJbb2JqZWN0IEFycmF5XSI9PWN8fCJudW1iZXIiPT10eXBlb2YgYS5sZW5ndGgmJiJ1bmRlZmluZWQiIT10eXBlb2YgYS5zcGxpY2UmJiJ1bmRlZmluZWQiIT10eXBlb2YgYS5wcm9wZXJ0eUlzRW51bWVyYWJsZSYmIWEucHJvcGVydHlJc0VudW1lcmFibGUoInNwbGljZSIpKXJldHVybiJhcnJheSI7aWYoIltvYmplY3QgRnVuY3Rpb25dIj09Y3x8InVuZGVmaW5lZCIhPXR5cGVvZiBhLmNhbGwmJiJ1bmRlZmluZWQiIT10eXBlb2YgYS5wcm9wZXJ0eUlzRW51bWVyYWJsZSYmIWEucHJvcGVydHlJc0VudW1lcmFibGUoImNhbGwiKSlyZXR1cm4iZnVuY3Rpb24ifWVsc2UgcmV0dXJuIm51bGwiO2Vsc2UgaWYoImZ1bmN0aW9uIj09YiYmInVuZGVmaW5lZCI9PXR5cGVvZiBhLmNhbGwpcmV0dXJuIm9iamVjdCI7cmV0dXJuIGJ9LGZhPWZ1bmN0aW9uKGEpe3JldHVybiJhcnJheSI9PWVhKGEpfSxoYT1mdW5jdGlvbihhKXt2YXIgYj1lYShhKTtyZXR1cm4iYXJyYXkiPT1ifHwib2JqZWN0Ij09CmImJiJudW1iZXIiPT10eXBlb2YgYS5sZW5ndGh9LGlhPWZ1bmN0aW9uKGEpe3JldHVybiJmdW5jdGlvbiI9PWVhKGEpfSxtPWZ1bmN0aW9uKGEpe3ZhciBiPXR5cGVvZiBhO3JldHVybiJvYmplY3QiPT1iJiZudWxsIT1hfHwiZnVuY3Rpb24iPT1ifSxqYT0iY2xvc3VyZV91aWRfIisoMUU5Kk1hdGgucmFuZG9tKCk+Pj4wKSxrYT0wLGxhPWZ1bmN0aW9uKGEsYil7dmFyIGM9QXJyYXkucHJvdG90eXBlLnNsaWNlLmNhbGwoYXJndW1lbnRzLDEpO3JldHVybiBmdW5jdGlvbigpe3ZhciBkPWMuc2xpY2UoKTtkLnB1c2guYXBwbHkoZCxhcmd1bWVudHMpO3JldHVybiBhLmFwcGx5KHRoaXMsZCl9fSxuPWZ1bmN0aW9uKGEsYil7ZnVuY3Rpb24gYygpe31jLnByb3RvdHlwZT1iLnByb3RvdHlwZTthLmk9Yi5wcm90b3R5cGU7YS5wcm90b3R5cGU9bmV3IGM7YS5wcm90b3R5cGUuY29uc3RydWN0b3I9YX07dmFyIG1hLG5hPXtlYjoiYWN0aXZlZGVzY2VuZGFudCIsamI6ImF0b21pYyIsa2I6ImF1dG9jb21wbGV0ZSIsbWI6ImJ1c3kiLHBiOiJjaGVja2VkIixxYjoiY29saW5kZXgiLHZiOiJjb250cm9scyIseGI6ImRlc2NyaWJlZGJ5IixBYjoiZGlzYWJsZWQiLENiOiJkcm9wZWZmZWN0IixEYjoiZXhwYW5kZWQiLEViOiJmbG93dG8iLEdiOiJncmFiYmVkIixLYjoiaGFzcG9wdXAiLE1iOiJoaWRkZW4iLE9iOiJpbnZhbGlkIixQYjoibGFiZWwiLFFiOiJsYWJlbGxlZGJ5IixSYjoibGV2ZWwiLFdiOiJsaXZlIixrYzoibXVsdGlsaW5lIixsYzoibXVsdGlzZWxlY3RhYmxlIixwYzoib3JpZW50YXRpb24iLHFjOiJvd25zIixyYzoicG9zaW5zZXQiLHRjOiJwcmVzc2VkIix4YzoicmVhZG9ubHkiLHpjOiJyZWxldmFudCIsQWM6InJlcXVpcmVkIixFYzoicm93aW5kZXgiLEhjOiJzZWxlY3RlZCIsSmM6InNldHNpemUiLExjOiJzb3J0IixaYzoidmFsdWVtYXgiLCRjOiJ2YWx1ZW1pbiIsYWQ6InZhbHVlbm93IiwKYmQ6InZhbHVldGV4dCJ9O3ZhciBvYT1mdW5jdGlvbihhLGIsYyl7Zm9yKHZhciBkIGluIGEpYi5jYWxsKGMsYVtkXSxkLGEpfSxwYT1mdW5jdGlvbihhLGIpe2Zvcih2YXIgYyBpbiBhKWlmKGFbY109PWIpcmV0dXJuITA7cmV0dXJuITF9LHFhPWZ1bmN0aW9uKGEsYixjKXtpZihudWxsIT09YSYmYiBpbiBhKXRocm93IEVycm9yKCdUaGUgb2JqZWN0IGFscmVhZHkgY29udGFpbnMgdGhlIGtleSAiJytiKyciJyk7YVtiXT1jfSxzYT1mdW5jdGlvbihhKXt2YXIgYj17fSxjO2ZvcihjIGluIGEpYlthW2NdXT1jO3JldHVybiBifSx0YT0iY29uc3RydWN0b3IgaGFzT3duUHJvcGVydHkgaXNQcm90b3R5cGVPZiBwcm9wZXJ0eUlzRW51bWVyYWJsZSB0b0xvY2FsZVN0cmluZyB0b1N0cmluZyB2YWx1ZU9mIi5zcGxpdCgiICIpLHVhPWZ1bmN0aW9uKGEsYil7Zm9yKHZhciBjLGQsZT0xO2U8YXJndW1lbnRzLmxlbmd0aDtlKyspe2Q9YXJndW1lbnRzW2VdO2ZvcihjIGluIGQpYVtjXT1kW2NdO2Zvcih2YXIgZj0wO2Y8dGEubGVuZ3RoO2YrKyljPQp0YVtmXSxPYmplY3QucHJvdG90eXBlLmhhc093blByb3BlcnR5LmNhbGwoZCxjKSYmKGFbY109ZFtjXSl9fTt2YXIgdmE9e2ZiOiJhbGVydCIsZ2I6ImFsZXJ0ZGlhbG9nIixoYjoiYXBwbGljYXRpb24iLGliOiJhcnRpY2xlIixsYjoiYmFubmVyIixuYjoiYnV0dG9uIixvYjoiY2hlY2tib3giLHJiOiJjb2x1bW5oZWFkZXIiLHNiOiJjb21ib2JveCIsdGI6ImNvbXBsZW1lbnRhcnkiLHViOiJjb250ZW50aW5mbyIsd2I6ImRlZmluaXRpb24iLHliOiJkaWFsb2ciLHpiOiJkaXJlY3RvcnkiLEJiOiJkb2N1bWVudCIsRmI6ImZvcm0iLEhiOiJncmlkIixJYjoiZ3JpZGNlbGwiLEpiOiJncm91cCIsTGI6ImhlYWRpbmciLE5iOiJpbWciLFNiOiJsaW5rIixUYjoibGlzdCIsVWI6Imxpc3Rib3giLFZiOiJsaXN0aXRlbSIsWGI6ImxvZyIsWWI6Im1haW4iLFpiOiJtYXJxdWVlIiwkYjoibWF0aCIsYWM6Im1lbnUiLGJjOiJtZW51YmFyIixjYzoibWVudWl0ZW0iLGRjOiJtZW51aXRlbWNoZWNrYm94IixlYzoibWVudWl0ZW1yYWRpbyIsbWM6Im5hdmlnYXRpb24iLG5jOiJub3RlIixvYzoib3B0aW9uIiwKc2M6InByZXNlbnRhdGlvbiIsdWM6InByb2dyZXNzYmFyIix2YzoicmFkaW8iLHdjOiJyYWRpb2dyb3VwIix5YzoicmVnaW9uIixCYzoicm93IixDYzoicm93Z3JvdXAiLERjOiJyb3doZWFkZXIiLEZjOiJzY3JvbGxiYXIiLEdjOiJzZWFyY2giLEljOiJzZXBhcmF0b3IiLEtjOiJzbGlkZXIiLE1jOiJzcGluYnV0dG9uIixOYzoic3RhdHVzIixPYzoidGFiIixQYzoidGFibGlzdCIsUWM6InRhYnBhbmVsIixSYzoidGV4dGJveCIsU2M6InRleHRpbmZvIixUYzoidGltZXIiLFVjOiJ0b29sYmFyIixWYzoidG9vbHRpcCIsV2M6InRyZWUiLFhjOiJ0cmVlZ3JpZCIsWWM6InRyZWVpdGVtIn07dmFyIHdhPWZ1bmN0aW9uKGEpe2lmKEVycm9yLmNhcHR1cmVTdGFja1RyYWNlKUVycm9yLmNhcHR1cmVTdGFja1RyYWNlKHRoaXMsd2EpO2Vsc2V7dmFyIGI9RXJyb3IoKS5zdGFjaztiJiYodGhpcy5zdGFjaz1iKX1hJiYodGhpcy5tZXNzYWdlPVN0cmluZyhhKSl9O24od2EsRXJyb3IpO3dhLnByb3RvdHlwZS5uYW1lPSJDdXN0b21FcnJvciI7dmFyIHhhO3ZhciB5YT1mdW5jdGlvbihhLGIpe2E9YS5zcGxpdCgiJXMiKTtmb3IodmFyIGM9IiIsZD1hLmxlbmd0aC0xLGU9MDtlPGQ7ZSsrKWMrPWFbZV0rKGU8Yi5sZW5ndGg/YltlXToiJXMiKTt3YS5jYWxsKHRoaXMsYythW2RdKX07bih5YSx3YSk7eWEucHJvdG90eXBlLm5hbWU9IkFzc2VydGlvbkVycm9yIjsKdmFyIHphPWZ1bmN0aW9uKGEsYixjLGQpe3ZhciBlPSJBc3NlcnRpb24gZmFpbGVkIjtpZihjKXtlKz0iOiAiK2M7dmFyIGY9ZH1lbHNlIGEmJihlKz0iOiAiK2EsZj1iKTt0aHJvdyBuZXcgeWEoIiIrZSxmfHxbXSk7fSxxPWZ1bmN0aW9uKGEsYixjKXthfHx6YSgiIixudWxsLGIsQXJyYXkucHJvdG90eXBlLnNsaWNlLmNhbGwoYXJndW1lbnRzLDIpKTtyZXR1cm4gYX0sQWE9ZnVuY3Rpb24oYSxiLGMpe20oYSkmJjE9PWEubm9kZVR5cGV8fHphKCJFeHBlY3RlZCBFbGVtZW50IGJ1dCBnb3QgJXM6ICVzLiIsW2VhKGEpLGFdLGIsQXJyYXkucHJvdG90eXBlLnNsaWNlLmNhbGwoYXJndW1lbnRzLDIpKX0sQ2E9ZnVuY3Rpb24oYSxiLGMsZCl7YSBpbnN0YW5jZW9mIGJ8fHphKCJFeHBlY3RlZCBpbnN0YW5jZW9mICVzIGJ1dCBnb3QgJXMuIixbQmEoYiksQmEoYSldLGMsQXJyYXkucHJvdG90eXBlLnNsaWNlLmNhbGwoYXJndW1lbnRzLDMpKX0sQmE9ZnVuY3Rpb24oYSl7cmV0dXJuIGEgaW5zdGFuY2VvZgpGdW5jdGlvbj9hLmRpc3BsYXlOYW1lfHxhLm5hbWV8fCJ1bmtub3duIHR5cGUgbmFtZSI6YSBpbnN0YW5jZW9mIE9iamVjdD9hLmNvbnN0cnVjdG9yLmRpc3BsYXlOYW1lfHxhLmNvbnN0cnVjdG9yLm5hbWV8fE9iamVjdC5wcm90b3R5cGUudG9TdHJpbmcuY2FsbChhKTpudWxsPT09YT8ibnVsbCI6dHlwZW9mIGF9O3ZhciBEYT1BcnJheS5wcm90b3R5cGUuaW5kZXhPZj9mdW5jdGlvbihhLGIpe3EobnVsbCE9YS5sZW5ndGgpO3JldHVybiBBcnJheS5wcm90b3R5cGUuaW5kZXhPZi5jYWxsKGEsYix2b2lkIDApfTpmdW5jdGlvbihhLGIpe2lmKCJzdHJpbmciPT09dHlwZW9mIGEpcmV0dXJuInN0cmluZyIhPT10eXBlb2YgYnx8MSE9Yi5sZW5ndGg/LTE6YS5pbmRleE9mKGIsMCk7Zm9yKHZhciBjPTA7YzxhLmxlbmd0aDtjKyspaWYoYyBpbiBhJiZhW2NdPT09YilyZXR1cm4gYztyZXR1cm4tMX0scj1BcnJheS5wcm90b3R5cGUuZm9yRWFjaD9mdW5jdGlvbihhLGIsYyl7cShudWxsIT1hLmxlbmd0aCk7QXJyYXkucHJvdG90eXBlLmZvckVhY2guY2FsbChhLGIsYyl9OmZ1bmN0aW9uKGEsYixjKXtmb3IodmFyIGQ9YS5sZW5ndGgsZT0ic3RyaW5nIj09PXR5cGVvZiBhP2Euc3BsaXQoIiIpOmEsZj0wO2Y8ZDtmKyspZiBpbiBlJiZiLmNhbGwoYyxlW2ZdLGYsYSl9LEVhPUFycmF5LnByb3RvdHlwZS5maWx0ZXI/CmZ1bmN0aW9uKGEsYil7cShudWxsIT1hLmxlbmd0aCk7cmV0dXJuIEFycmF5LnByb3RvdHlwZS5maWx0ZXIuY2FsbChhLGIsdm9pZCAwKX06ZnVuY3Rpb24oYSxiKXtmb3IodmFyIGM9YS5sZW5ndGgsZD1bXSxlPTAsZj0ic3RyaW5nIj09PXR5cGVvZiBhP2Euc3BsaXQoIiIpOmEsZz0wO2c8YztnKyspaWYoZyBpbiBmKXt2YXIgaz1mW2ddO2IuY2FsbCh2b2lkIDAsayxnLGEpJiYoZFtlKytdPWspfXJldHVybiBkfSxGYT1BcnJheS5wcm90b3R5cGUuZXZlcnk/ZnVuY3Rpb24oYSxiKXtxKG51bGwhPWEubGVuZ3RoKTtyZXR1cm4gQXJyYXkucHJvdG90eXBlLmV2ZXJ5LmNhbGwoYSxiLHZvaWQgMCl9OmZ1bmN0aW9uKGEsYil7Zm9yKHZhciBjPWEubGVuZ3RoLGQ9InN0cmluZyI9PT10eXBlb2YgYT9hLnNwbGl0KCIiKTphLGU9MDtlPGM7ZSsrKWlmKGUgaW4gZCYmIWIuY2FsbCh2b2lkIDAsZFtlXSxlLGEpKXJldHVybiExO3JldHVybiEwfSxHYT1mdW5jdGlvbihhLGIpe3JldHVybiAwPD0KRGEoYSxiKX0sSGE9ZnVuY3Rpb24oYSxiKXtiPURhKGEsYik7dmFyIGM7aWYoYz0wPD1iKXEobnVsbCE9YS5sZW5ndGgpLEFycmF5LnByb3RvdHlwZS5zcGxpY2UuY2FsbChhLGIsMSk7cmV0dXJuIGN9LElhPWZ1bmN0aW9uKGEpe3JldHVybiBBcnJheS5wcm90b3R5cGUuY29uY2F0LmFwcGx5KFtdLGFyZ3VtZW50cyl9LEphPWZ1bmN0aW9uKGEpe3ZhciBiPWEubGVuZ3RoO2lmKDA8Yil7Zm9yKHZhciBjPUFycmF5KGIpLGQ9MDtkPGI7ZCsrKWNbZF09YVtkXTtyZXR1cm4gY31yZXR1cm5bXX0sTGE9ZnVuY3Rpb24oYSxiLGMsZCl7cShudWxsIT1hLmxlbmd0aCk7QXJyYXkucHJvdG90eXBlLnNwbGljZS5hcHBseShhLEthKGFyZ3VtZW50cywxKSl9LEthPWZ1bmN0aW9uKGEsYixjKXtxKG51bGwhPWEubGVuZ3RoKTtyZXR1cm4gMj49YXJndW1lbnRzLmxlbmd0aD9BcnJheS5wcm90b3R5cGUuc2xpY2UuY2FsbChhLGIpOkFycmF5LnByb3RvdHlwZS5zbGljZS5jYWxsKGEsYixjKX07dmFyIE1hPVN0cmluZy5wcm90b3R5cGUudHJpbT9mdW5jdGlvbihhKXtyZXR1cm4gYS50cmltKCl9OmZ1bmN0aW9uKGEpe3JldHVybi9eW1xzXHhhMF0qKFtcc1xTXSo/KVtcc1x4YTBdKiQvLmV4ZWMoYSlbMV19LE5hPS8mL2csT2E9LzwvZyxQYT0vPi9nLFFhPS8iL2csUmE9LycvZyxTYT0vXHgwMC9nLFRhPS9bXHgwMCY8PiInXS8sdD1mdW5jdGlvbihhLGIpe3JldHVybi0xIT1hLmluZGV4T2YoYil9LFVhPWZ1bmN0aW9uKGEsYil7cmV0dXJuIGE8Yj8tMTphPmI/MTowfTt2YXIgdTthOnt2YXIgVmE9bC5uYXZpZ2F0b3I7aWYoVmEpe3ZhciBXYT1WYS51c2VyQWdlbnQ7aWYoV2Epe3U9V2E7YnJlYWsgYX19dT0iIn07LyoKCiBDb3B5cmlnaHQgVGhlIENsb3N1cmUgTGlicmFyeSBBdXRob3JzLgogU1BEWC1MaWNlbnNlLUlkZW50aWZpZXI6IEFwYWNoZS0yLjAKKi8KdmFyIFhhPWZ1bmN0aW9uKGEpe1RhLnRlc3QoYSkmJigtMSE9YS5pbmRleE9mKCImIikmJihhPWEucmVwbGFjZShOYSwiJmFtcDsiKSksLTEhPWEuaW5kZXhPZigiPCIpJiYoYT1hLnJlcGxhY2UoT2EsIiZsdDsiKSksLTEhPWEuaW5kZXhPZigiPiIpJiYoYT1hLnJlcGxhY2UoUGEsIiZndDsiKSksLTEhPWEuaW5kZXhPZignIicpJiYoYT1hLnJlcGxhY2UoUWEsIiZxdW90OyIpKSwtMSE9YS5pbmRleE9mKCInIikmJihhPWEucmVwbGFjZShSYSwiJiMzOTsiKSksLTEhPWEuaW5kZXhPZigiXHgwMCIpJiYoYT1hLnJlcGxhY2UoU2EsIiYjMDsiKSkpO3JldHVybiBhfTt2YXIgWWE9ZnVuY3Rpb24oYSl7WWFbIiAiXShhKTtyZXR1cm4gYX07WWFbIiAiXT1jYTt2YXIgJGE9ZnVuY3Rpb24oYSxiKXt2YXIgYz1aYTtyZXR1cm4gT2JqZWN0LnByb3RvdHlwZS5oYXNPd25Qcm9wZXJ0eS5jYWxsKGMsYSk/Y1thXTpjW2FdPWIoYSl9O3ZhciBhYj10KHUsIk9wZXJhIiksdj10KHUsIlRyaWRlbnQiKXx8dCh1LCJNU0lFIiksYmI9dCh1LCJFZGdlIikseD10KHUsIkdlY2tvIikmJiEodCh1LnRvTG93ZXJDYXNlKCksIndlYmtpdCIpJiYhdCh1LCJFZGdlIikpJiYhKHQodSwiVHJpZGVudCIpfHx0KHUsIk1TSUUiKSkmJiF0KHUsIkVkZ2UiKSx5PXQodS50b0xvd2VyQ2FzZSgpLCJ3ZWJraXQiKSYmIXQodSwiRWRnZSIpLHo9dCh1LCJNYWNpbnRvc2giKSxjYj1mdW5jdGlvbigpe3ZhciBhPWwuZG9jdW1lbnQ7cmV0dXJuIGE/YS5kb2N1bWVudE1vZGU6dm9pZCAwfSxkYjsKYTp7dmFyIGViPSIiLGZiPWZ1bmN0aW9uKCl7dmFyIGE9dTtpZih4KXJldHVybi9ydjooW15cKTtdKykoXCl8OykvLmV4ZWMoYSk7aWYoYmIpcmV0dXJuL0VkZ2VcLyhbXGRcLl0rKS8uZXhlYyhhKTtpZih2KXJldHVybi9cYig/Ok1TSUV8cnYpWzogXShbXlwpO10rKShcKXw7KS8uZXhlYyhhKTtpZih5KXJldHVybi9XZWJLaXRcLyhcUyspLy5leGVjKGEpO2lmKGFiKXJldHVybi8oPzpWZXJzaW9uKVsgXC9dPyhcUyspLy5leGVjKGEpfSgpO2ZiJiYoZWI9ZmI/ZmJbMV06IiIpO2lmKHYpe3ZhciBnYj1jYigpO2lmKG51bGwhPWdiJiZnYj5wYXJzZUZsb2F0KGViKSl7ZGI9U3RyaW5nKGdiKTticmVhayBhfX1kYj1lYn0KdmFyIGhiPWRiLFphPXt9LEE9ZnVuY3Rpb24oYSl7cmV0dXJuICRhKGEsZnVuY3Rpb24oKXtmb3IodmFyIGI9MCxjPU1hKFN0cmluZyhoYikpLnNwbGl0KCIuIiksZD1NYShTdHJpbmcoYSkpLnNwbGl0KCIuIiksZT1NYXRoLm1heChjLmxlbmd0aCxkLmxlbmd0aCksZj0wOzA9PWImJmY8ZTtmKyspe3ZhciBnPWNbZl18fCIiLGs9ZFtmXXx8IiI7ZG97Zz0vKFxkKikoXEQqKSguKikvLmV4ZWMoZyl8fFsiIiwiIiwiIiwiIl07az0vKFxkKikoXEQqKSguKikvLmV4ZWMoayl8fFsiIiwiIiwiIiwiIl07aWYoMD09Z1swXS5sZW5ndGgmJjA9PWtbMF0ubGVuZ3RoKWJyZWFrO2I9VWEoMD09Z1sxXS5sZW5ndGg/MDpwYXJzZUludChnWzFdLDEwKSwwPT1rWzFdLmxlbmd0aD8wOnBhcnNlSW50KGtbMV0sMTApKXx8VWEoMD09Z1syXS5sZW5ndGgsMD09a1syXS5sZW5ndGgpfHxVYShnWzJdLGtbMl0pO2c9Z1szXTtrPWtbM119d2hpbGUoMD09Yil9cmV0dXJuIDA8PWJ9KX0saWI7CmliPWwuZG9jdW1lbnQmJnY/Y2IoKTp2b2lkIDA7dmFyIGpiPSF2fHw5PD1OdW1iZXIoaWIpO3ZhciBsYj1mdW5jdGlvbihhLGIpe29hKGIsZnVuY3Rpb24oYyxkKXtjJiYib2JqZWN0Ij09dHlwZW9mIGMmJmMuZGQmJihjPWMuY2QoKSk7InN0eWxlIj09ZD9hLnN0eWxlLmNzc1RleHQ9YzoiY2xhc3MiPT1kP2EuY2xhc3NOYW1lPWM6ImZvciI9PWQ/YS5odG1sRm9yPWM6a2IuaGFzT3duUHJvcGVydHkoZCk/YS5zZXRBdHRyaWJ1dGUoa2JbZF0sYyk6MD09ZC5sYXN0SW5kZXhPZigiYXJpYS0iLDApfHwwPT1kLmxhc3RJbmRleE9mKCJkYXRhLSIsMCk/YS5zZXRBdHRyaWJ1dGUoZCxjKTphW2RdPWN9KX0sa2I9e2NlbGxwYWRkaW5nOiJjZWxsUGFkZGluZyIsY2VsbHNwYWNpbmc6ImNlbGxTcGFjaW5nIixjb2xzcGFuOiJjb2xTcGFuIixmcmFtZWJvcmRlcjoiZnJhbWVCb3JkZXIiLGhlaWdodDoiaGVpZ2h0IixtYXhsZW5ndGg6Im1heExlbmd0aCIsbm9uY2U6Im5vbmNlIixyb2xlOiJyb2xlIixyb3dzcGFuOiJyb3dTcGFuIix0eXBlOiJ0eXBlIix1c2VtYXA6InVzZU1hcCIsdmFsaWduOiJ2QWxpZ24iLAp3aWR0aDoid2lkdGgifSxtYj1mdW5jdGlvbihhLGIsYyl7ZnVuY3Rpb24gZChrKXtrJiZiLmFwcGVuZENoaWxkKCJzdHJpbmciPT09dHlwZW9mIGs/YS5jcmVhdGVUZXh0Tm9kZShrKTprKX1mb3IodmFyIGU9MjtlPGMubGVuZ3RoO2UrKyl7dmFyIGY9Y1tlXTtpZighaGEoZil8fG0oZikmJjA8Zi5ub2RlVHlwZSlkKGYpO2Vsc2V7YTp7aWYoZiYmIm51bWJlciI9PXR5cGVvZiBmLmxlbmd0aCl7aWYobShmKSl7dmFyIGc9ImZ1bmN0aW9uIj09dHlwZW9mIGYuaXRlbXx8InN0cmluZyI9PXR5cGVvZiBmLml0ZW07YnJlYWsgYX1pZihpYShmKSl7Zz0iZnVuY3Rpb24iPT10eXBlb2YgZi5pdGVtO2JyZWFrIGF9fWc9ITF9cihnP0phKGYpOmYsZCl9fX0sbmI9ZnVuY3Rpb24oYSxiKXtiPVN0cmluZyhiKTsiYXBwbGljYXRpb24veGh0bWwreG1sIj09PWEuY29udGVudFR5cGUmJihiPWIudG9Mb3dlckNhc2UoKSk7cmV0dXJuIGEuY3JlYXRlRWxlbWVudChiKX0sb2I9ZnVuY3Rpb24oYSl7YSYmCmEucGFyZW50Tm9kZSYmYS5wYXJlbnROb2RlLnJlbW92ZUNoaWxkKGEpfSxwYj1mdW5jdGlvbihhLGIpe2lmKCFhfHwhYilyZXR1cm4hMTtpZihhLmNvbnRhaW5zJiYxPT1iLm5vZGVUeXBlKXJldHVybiBhPT1ifHxhLmNvbnRhaW5zKGIpO2lmKCJ1bmRlZmluZWQiIT10eXBlb2YgYS5jb21wYXJlRG9jdW1lbnRQb3NpdGlvbilyZXR1cm4gYT09Ynx8ISEoYS5jb21wYXJlRG9jdW1lbnRQb3NpdGlvbihiKSYxNik7Zm9yKDtiJiZhIT1iOyliPWIucGFyZW50Tm9kZTtyZXR1cm4gYj09YX0scWI9ZnVuY3Rpb24oYSl7cShhLCJOb2RlIGNhbm5vdCBiZSBudWxsIG9yIHVuZGVmaW5lZC4iKTtyZXR1cm4gOT09YS5ub2RlVHlwZT9hOmEub3duZXJEb2N1bWVudHx8YS5kb2N1bWVudH0scmI9ZnVuY3Rpb24oYSxiKXtiP2EudGFiSW5kZXg9MDooYS50YWJJbmRleD0tMSxhLnJlbW92ZUF0dHJpYnV0ZSgidGFiSW5kZXgiKSl9LHNiPWZ1bmN0aW9uKGEpe3JldHVybiB2JiYhQSgiOSIpPyhhPWEuZ2V0QXR0cmlidXRlTm9kZSgidGFiaW5kZXgiKSwKbnVsbCE9YSYmYS5zcGVjaWZpZWQpOmEuaGFzQXR0cmlidXRlKCJ0YWJpbmRleCIpfSx0Yj1mdW5jdGlvbihhKXthPWEudGFiSW5kZXg7cmV0dXJuIm51bWJlciI9PT10eXBlb2YgYSYmMDw9YSYmMzI3Njg+YX0sdWI9ZnVuY3Rpb24oYSl7dGhpcy5hPWF8fGwuZG9jdW1lbnR8fGRvY3VtZW50fTt1Yi5wcm90b3R5cGUuZj1mdW5jdGlvbihhKXtyZXR1cm4ic3RyaW5nIj09PXR5cGVvZiBhP3RoaXMuYS5nZXRFbGVtZW50QnlJZChhKTphfTsKdWIucHJvdG90eXBlLmI9ZnVuY3Rpb24oYSxiLGMpe3ZhciBkPXRoaXMuYSxlPWFyZ3VtZW50cyxmPVN0cmluZyhlWzBdKSxnPWVbMV07aWYoIWpiJiZnJiYoZy5uYW1lfHxnLnR5cGUpKXtmPVsiPCIsZl07Zy5uYW1lJiZmLnB1c2goJyBuYW1lPSInLFhhKGcubmFtZSksJyInKTtpZihnLnR5cGUpe2YucHVzaCgnIHR5cGU9IicsWGEoZy50eXBlKSwnIicpO3ZhciBrPXt9O3VhKGssZyk7ZGVsZXRlIGsudHlwZTtnPWt9Zi5wdXNoKCI+Iik7Zj1mLmpvaW4oIiIpfWY9bmIoZCxmKTtnJiYoInN0cmluZyI9PT10eXBlb2YgZz9mLmNsYXNzTmFtZT1nOmZhKGcpP2YuY2xhc3NOYW1lPWcuam9pbigiICIpOmxiKGYsZykpOzI8ZS5sZW5ndGgmJm1iKGQsZixlKTtyZXR1cm4gZn07dmFyIHZiPWZ1bmN0aW9uKGEsYil7Yj8ocShwYSh2YSxiKSwiTm8gc3VjaCBBUklBIHJvbGUgIitiKSxhLnNldEF0dHJpYnV0ZSgicm9sZSIsYikpOmEucmVtb3ZlQXR0cmlidXRlKCJyb2xlIil9LHhiPWZ1bmN0aW9uKGEsYixjKXtmYShjKSYmKGM9Yy5qb2luKCIgIikpO3ZhciBkPXdiKGIpOyIiPT09Y3x8dm9pZCAwPT1jPyhtYXx8KG1hPXthdG9taWM6ITEsYXV0b2NvbXBsZXRlOiJub25lIixkcm9wZWZmZWN0OiJub25lIixoYXNwb3B1cDohMSxsaXZlOiJvZmYiLG11bHRpbGluZTohMSxtdWx0aXNlbGVjdGFibGU6ITEsb3JpZW50YXRpb246InZlcnRpY2FsIixyZWFkb25seTohMSxyZWxldmFudDoiYWRkaXRpb25zIHRleHQiLHJlcXVpcmVkOiExLHNvcnQ6Im5vbmUiLGJ1c3k6ITEsZGlzYWJsZWQ6ITEsaGlkZGVuOiExLGludmFsaWQ6ImZhbHNlIn0pLGM9bWEsYiBpbiBjP2Euc2V0QXR0cmlidXRlKGQsY1tiXSk6YS5yZW1vdmVBdHRyaWJ1dGUoZCkpOmEuc2V0QXR0cmlidXRlKGQsCmMpfSx3Yj1mdW5jdGlvbihhKXtxKGEsIkFSSUEgYXR0cmlidXRlIGNhbm5vdCBiZSBlbXB0eS4iKTtxKHBhKG5hLGEpLCJObyBzdWNoIEFSSUEgYXR0cmlidXRlICIrYSk7cmV0dXJuImFyaWEtIithfTt2YXIgeWI9T2JqZWN0LmZyZWV6ZXx8ZnVuY3Rpb24oYSl7cmV0dXJuIGF9O3ZhciBDPWZ1bmN0aW9uKCl7dGhpcy5VPXRoaXMuVTt0aGlzLko9dGhpcy5KfTtDLnByb3RvdHlwZS5VPSExO0MucHJvdG90eXBlLk49ZnVuY3Rpb24oKXt0aGlzLlV8fCh0aGlzLlU9ITAsdGhpcy51KCkpfTt2YXIgemI9ZnVuY3Rpb24oYSxiKXthLlU/YigpOihhLkp8fChhLko9W10pLGEuSi5wdXNoKGIpKX07Qy5wcm90b3R5cGUudT1mdW5jdGlvbigpe2lmKHRoaXMuSilmb3IoO3RoaXMuSi5sZW5ndGg7KXRoaXMuSi5zaGlmdCgpKCl9O3ZhciBBYj1mdW5jdGlvbihhKXthJiYiZnVuY3Rpb24iPT10eXBlb2YgYS5OJiZhLk4oKX07dmFyIEJiPWZ1bmN0aW9uKGEpe3JldHVybiJzdHJpbmciPT10eXBlb2YgYS5jbGFzc05hbWU/YS5jbGFzc05hbWU6YS5nZXRBdHRyaWJ1dGUmJmEuZ2V0QXR0cmlidXRlKCJjbGFzcyIpfHwiIn0sRD1mdW5jdGlvbihhKXtyZXR1cm4gYS5jbGFzc0xpc3Q/YS5jbGFzc0xpc3Q6QmIoYSkubWF0Y2goL1xTKy9nKXx8W119LENiPWZ1bmN0aW9uKGEsYil7InN0cmluZyI9PXR5cGVvZiBhLmNsYXNzTmFtZT9hLmNsYXNzTmFtZT1iOmEuc2V0QXR0cmlidXRlJiZhLnNldEF0dHJpYnV0ZSgiY2xhc3MiLGIpfSxEYj1mdW5jdGlvbihhLGIpe3JldHVybiBhLmNsYXNzTGlzdD9hLmNsYXNzTGlzdC5jb250YWlucyhiKTpHYShEKGEpLGIpfSxFYj1mdW5jdGlvbihhLGIpe2lmKGEuY2xhc3NMaXN0KWEuY2xhc3NMaXN0LmFkZChiKTtlbHNlIGlmKCFEYihhLGIpKXt2YXIgYz1CYihhKTtDYihhLGMrKDA8Yy5sZW5ndGg/IiAiK2I6YikpfX0sRmI9ZnVuY3Rpb24oYSxiKXtpZihhLmNsYXNzTGlzdClyKGIsCmZ1bmN0aW9uKGUpe0ViKGEsZSl9KTtlbHNle3ZhciBjPXt9O3IoRChhKSxmdW5jdGlvbihlKXtjW2VdPSEwfSk7cihiLGZ1bmN0aW9uKGUpe2NbZV09ITB9KTtiPSIiO2Zvcih2YXIgZCBpbiBjKWIrPTA8Yi5sZW5ndGg/IiAiK2Q6ZDtDYihhLGIpfX0sR2I9ZnVuY3Rpb24oYSxiKXthLmNsYXNzTGlzdD9hLmNsYXNzTGlzdC5yZW1vdmUoYik6RGIoYSxiKSYmQ2IoYSxFYShEKGEpLGZ1bmN0aW9uKGMpe3JldHVybiBjIT1ifSkuam9pbigiICIpKX0sSGI9ZnVuY3Rpb24oYSxiKXthLmNsYXNzTGlzdD9yKGIsZnVuY3Rpb24oYyl7R2IoYSxjKX0pOkNiKGEsRWEoRChhKSxmdW5jdGlvbihjKXtyZXR1cm4hR2EoYixjKX0pLmpvaW4oIiAiKSl9O3ZhciBJYj0hdnx8OTw9TnVtYmVyKGliKSxKYj0hdnx8OTw9TnVtYmVyKGliKSxLYj12JiYhQSgiOSIpLExiPWZ1bmN0aW9uKCl7aWYoIWwuYWRkRXZlbnRMaXN0ZW5lcnx8IU9iamVjdC5kZWZpbmVQcm9wZXJ0eSlyZXR1cm4hMTt2YXIgYT0hMSxiPU9iamVjdC5kZWZpbmVQcm9wZXJ0eSh7fSwicGFzc2l2ZSIse2dldDpmdW5jdGlvbigpe2E9ITB9fSk7dHJ5e2wuYWRkRXZlbnRMaXN0ZW5lcigidGVzdCIsY2EsYiksbC5yZW1vdmVFdmVudExpc3RlbmVyKCJ0ZXN0IixjYSxiKX1jYXRjaChjKXt9cmV0dXJuIGF9KCk7dmFyIEU9ZnVuY3Rpb24oYSxiKXt0aGlzLnR5cGU9YTt0aGlzLmE9dGhpcy50YXJnZXQ9Yjt0aGlzLmg9ITE7dGhpcy5LYT0hMH07RS5wcm90b3R5cGUuaj1mdW5jdGlvbigpe3RoaXMuaD0hMH07RS5wcm90b3R5cGUuZz1mdW5jdGlvbigpe3RoaXMuS2E9ITF9O3ZhciBGPXtMOiJtb3VzZWRvd24iLE06Im1vdXNldXAiLGFhOiJtb3VzZWNhbmNlbCIsaGM6Im1vdXNlbW92ZSIsamM6Im1vdXNlb3ZlciIsaWM6Im1vdXNlb3V0IixmYzoibW91c2VlbnRlciIsZ2M6Im1vdXNlbGVhdmUifTt2YXIgRz1mdW5jdGlvbihhLGIpe0UuY2FsbCh0aGlzLGE/YS50eXBlOiIiKTt0aGlzLnJlbGF0ZWRUYXJnZXQ9dGhpcy5hPXRoaXMudGFyZ2V0PW51bGw7dGhpcy5idXR0b249dGhpcy5zY3JlZW5ZPXRoaXMuc2NyZWVuWD10aGlzLmNsaWVudFk9dGhpcy5jbGllbnRYPTA7dGhpcy5rZXk9IiI7dGhpcy5jPTA7dGhpcy5BPXRoaXMubWV0YUtleT10aGlzLnNoaWZ0S2V5PXRoaXMuYWx0S2V5PXRoaXMuY3RybEtleT0hMTt0aGlzLnBvaW50ZXJJZD0wO3RoaXMucG9pbnRlclR5cGU9IiI7dGhpcy5iPW51bGw7aWYoYSl7dmFyIGM9dGhpcy50eXBlPWEudHlwZSxkPWEuY2hhbmdlZFRvdWNoZXMmJmEuY2hhbmdlZFRvdWNoZXMubGVuZ3RoP2EuY2hhbmdlZFRvdWNoZXNbMF06bnVsbDt0aGlzLnRhcmdldD1hLnRhcmdldHx8YS5zcmNFbGVtZW50O3RoaXMuYT1iO2lmKGI9YS5yZWxhdGVkVGFyZ2V0KXtpZih4KXthOnt0cnl7WWEoYi5ub2RlTmFtZSk7dmFyIGU9ITA7YnJlYWsgYX1jYXRjaChmKXt9ZT0KITF9ZXx8KGI9bnVsbCl9fWVsc2UibW91c2VvdmVyIj09Yz9iPWEuZnJvbUVsZW1lbnQ6Im1vdXNlb3V0Ij09YyYmKGI9YS50b0VsZW1lbnQpO3RoaXMucmVsYXRlZFRhcmdldD1iO2Q/KHRoaXMuY2xpZW50WD12b2lkIDAhPT1kLmNsaWVudFg/ZC5jbGllbnRYOmQucGFnZVgsdGhpcy5jbGllbnRZPXZvaWQgMCE9PWQuY2xpZW50WT9kLmNsaWVudFk6ZC5wYWdlWSx0aGlzLnNjcmVlblg9ZC5zY3JlZW5YfHwwLHRoaXMuc2NyZWVuWT1kLnNjcmVlbll8fDApOih0aGlzLmNsaWVudFg9dm9pZCAwIT09YS5jbGllbnRYP2EuY2xpZW50WDphLnBhZ2VYLHRoaXMuY2xpZW50WT12b2lkIDAhPT1hLmNsaWVudFk/YS5jbGllbnRZOmEucGFnZVksdGhpcy5zY3JlZW5YPWEuc2NyZWVuWHx8MCx0aGlzLnNjcmVlblk9YS5zY3JlZW5ZfHwwKTt0aGlzLmJ1dHRvbj1hLmJ1dHRvbjt0aGlzLmM9YS5rZXlDb2RlfHwwO3RoaXMua2V5PWEua2V5fHwiIjt0aGlzLmN0cmxLZXk9YS5jdHJsS2V5O3RoaXMuYWx0S2V5PQphLmFsdEtleTt0aGlzLnNoaWZ0S2V5PWEuc2hpZnRLZXk7dGhpcy5tZXRhS2V5PWEubWV0YUtleTt0aGlzLkE9ej9hLm1ldGFLZXk6YS5jdHJsS2V5O3RoaXMucG9pbnRlcklkPWEucG9pbnRlcklkfHwwO3RoaXMucG9pbnRlclR5cGU9InN0cmluZyI9PT10eXBlb2YgYS5wb2ludGVyVHlwZT9hLnBvaW50ZXJUeXBlOk1iW2EucG9pbnRlclR5cGVdfHwiIjt0aGlzLmI9YTthLmRlZmF1bHRQcmV2ZW50ZWQmJnRoaXMuZygpfX07bihHLEUpO3ZhciBOYj15YihbMSw0LDJdKSxNYj15Yih7MjoidG91Y2giLDM6InBlbiIsNDoibW91c2UifSksT2I9ZnVuY3Rpb24oYSl7cmV0dXJuIEliPzA9PWEuYi5idXR0b246ImNsaWNrIj09YS50eXBlPyEwOiEhKGEuYi5idXR0b24mTmJbMF0pfTtHLnByb3RvdHlwZS5qPWZ1bmN0aW9uKCl7Ry5pLmouY2FsbCh0aGlzKTt0aGlzLmIuc3RvcFByb3BhZ2F0aW9uP3RoaXMuYi5zdG9wUHJvcGFnYXRpb24oKTp0aGlzLmIuY2FuY2VsQnViYmxlPSEwfTsKRy5wcm90b3R5cGUuZz1mdW5jdGlvbigpe0cuaS5nLmNhbGwodGhpcyk7dmFyIGE9dGhpcy5iO2lmKGEucHJldmVudERlZmF1bHQpYS5wcmV2ZW50RGVmYXVsdCgpO2Vsc2UgaWYoYS5yZXR1cm5WYWx1ZT0hMSxLYil0cnl7aWYoYS5jdHJsS2V5fHwxMTI8PWEua2V5Q29kZSYmMTIzPj1hLmtleUNvZGUpYS5rZXlDb2RlPS0xfWNhdGNoKGIpe319O3ZhciBQYj0iY2xvc3VyZV9saXN0ZW5hYmxlXyIrKDFFNipNYXRoLnJhbmRvbSgpfDApLFFiPWZ1bmN0aW9uKGEpe3JldHVybiEoIWF8fCFhW1BiXSl9LFJiPTA7dmFyIFNiPWZ1bmN0aW9uKGEsYixjLGQsZSl7dGhpcy5saXN0ZW5lcj1hO3RoaXMuYT1udWxsO3RoaXMuc3JjPWI7dGhpcy50eXBlPWM7dGhpcy5jYXB0dXJlPSEhZDt0aGlzLm1hPWU7dGhpcy5rZXk9KytSYjt0aGlzLlg9dGhpcy5oYT0hMX0sVGI9ZnVuY3Rpb24oYSl7YS5YPSEwO2EubGlzdGVuZXI9bnVsbDthLmE9bnVsbDthLnNyYz1udWxsO2EubWE9bnVsbH07dmFyIFViPWZ1bmN0aW9uKGEpe3RoaXMuc3JjPWE7dGhpcy5hPXt9O3RoaXMuYj0wfTtVYi5wcm90b3R5cGUuYWRkPWZ1bmN0aW9uKGEsYixjLGQsZSl7dmFyIGY9YS50b1N0cmluZygpO2E9dGhpcy5hW2ZdO2F8fChhPXRoaXMuYVtmXT1bXSx0aGlzLmIrKyk7dmFyIGc9VmIoYSxiLGQsZSk7LTE8Zz8oYj1hW2ddLGN8fChiLmhhPSExKSk6KGI9bmV3IFNiKGIsdGhpcy5zcmMsZiwhIWQsZSksYi5oYT1jLGEucHVzaChiKSk7cmV0dXJuIGJ9Owp2YXIgV2I9ZnVuY3Rpb24oYSxiKXt2YXIgYz1iLnR5cGU7YyBpbiBhLmEmJkhhKGEuYVtjXSxiKSYmKFRiKGIpLDA9PWEuYVtjXS5sZW5ndGgmJihkZWxldGUgYS5hW2NdLGEuYi0tKSl9LFhiPWZ1bmN0aW9uKGEsYixjLGQsZSl7YT1hLmFbYi50b1N0cmluZygpXTtiPS0xO2EmJihiPVZiKGEsYyxkLGUpKTtyZXR1cm4tMTxiP2FbYl06bnVsbH0sVmI9ZnVuY3Rpb24oYSxiLGMsZCl7Zm9yKHZhciBlPTA7ZTxhLmxlbmd0aDsrK2Upe3ZhciBmPWFbZV07aWYoIWYuWCYmZi5saXN0ZW5lcj09YiYmZi5jYXB0dXJlPT0hIWMmJmYubWE9PWQpcmV0dXJuIGV9cmV0dXJuLTF9O3ZhciBZYj0iY2xvc3VyZV9sbV8iKygxRTYqTWF0aC5yYW5kb20oKXwwKSxaYj17fSwkYj0wLGJjPWZ1bmN0aW9uKGEsYixjLGQsZSl7aWYoZCYmZC5vbmNlKXJldHVybiBhYyhhLGIsYyxkLGUpO2lmKGZhKGIpKXtmb3IodmFyIGY9MDtmPGIubGVuZ3RoO2YrKyliYyhhLGJbZl0sYyxkLGUpO3JldHVybiBudWxsfWM9Y2MoYyk7cmV0dXJuIFFiKGEpP2RjKGEsYixjLG0oZCk/ISFkLmNhcHR1cmU6ISFkLGUpOmVjKGEsYixjLCExLGQsZSl9LGVjPWZ1bmN0aW9uKGEsYixjLGQsZSxmKXtpZighYil0aHJvdyBFcnJvcigiSW52YWxpZCBldmVudCB0eXBlIik7dmFyIGc9bShlKT8hIWUuY2FwdHVyZTohIWUsaz1mYyhhKTtrfHwoYVtZYl09az1uZXcgVWIoYSkpO2M9ay5hZGQoYixjLGQsZyxmKTtpZihjLmEpcmV0dXJuIGM7ZD1nYygpO2MuYT1kO2Quc3JjPWE7ZC5saXN0ZW5lcj1jO2lmKGEuYWRkRXZlbnRMaXN0ZW5lcilMYnx8KGU9Zyksdm9pZCAwPT09ZSYmKGU9ITEpLGEuYWRkRXZlbnRMaXN0ZW5lcihiLnRvU3RyaW5nKCksCmQsZSk7ZWxzZSBpZihhLmF0dGFjaEV2ZW50KWEuYXR0YWNoRXZlbnQoaGMoYi50b1N0cmluZygpKSxkKTtlbHNlIGlmKGEuYWRkTGlzdGVuZXImJmEucmVtb3ZlTGlzdGVuZXIpcSgiY2hhbmdlIj09PWIsIk1lZGlhUXVlcnlMaXN0IG9ubHkgaGFzIGEgY2hhbmdlIGV2ZW50IiksYS5hZGRMaXN0ZW5lcihkKTtlbHNlIHRocm93IEVycm9yKCJhZGRFdmVudExpc3RlbmVyIGFuZCBhdHRhY2hFdmVudCBhcmUgdW5hdmFpbGFibGUuIik7JGIrKztyZXR1cm4gY30sZ2M9ZnVuY3Rpb24oKXt2YXIgYT1pYyxiPUpiP2Z1bmN0aW9uKGMpe3JldHVybiBhLmNhbGwoYi5zcmMsYi5saXN0ZW5lcixjKX06ZnVuY3Rpb24oYyl7Yz1hLmNhbGwoYi5zcmMsYi5saXN0ZW5lcixjKTtpZighYylyZXR1cm4gY307cmV0dXJuIGJ9LGFjPWZ1bmN0aW9uKGEsYixjLGQsZSl7aWYoZmEoYikpe2Zvcih2YXIgZj0wO2Y8Yi5sZW5ndGg7ZisrKWFjKGEsYltmXSxjLGQsZSk7cmV0dXJuIG51bGx9Yz1jYyhjKTtyZXR1cm4gUWIoYSk/CmEuaC5hZGQoU3RyaW5nKGIpLGMsITAsbShkKT8hIWQuY2FwdHVyZTohIWQsZSk6ZWMoYSxiLGMsITAsZCxlKX0samM9ZnVuY3Rpb24oYSxiLGMsZCxlKXtpZihmYShiKSlmb3IodmFyIGY9MDtmPGIubGVuZ3RoO2YrKylqYyhhLGJbZl0sYyxkLGUpO2Vsc2UgZD1tKGQpPyEhZC5jYXB0dXJlOiEhZCxjPWNjKGMpLFFiKGEpPyhhPWEuaCxiPVN0cmluZyhiKS50b1N0cmluZygpLGIgaW4gYS5hJiYoZj1hLmFbYl0sYz1WYihmLGMsZCxlKSwtMTxjJiYoVGIoZltjXSkscShudWxsIT1mLmxlbmd0aCksQXJyYXkucHJvdG90eXBlLnNwbGljZS5jYWxsKGYsYywxKSwwPT1mLmxlbmd0aCYmKGRlbGV0ZSBhLmFbYl0sYS5iLS0pKSkpOmEmJihhPWZjKGEpKSYmKGM9WGIoYSxiLGMsZCxlKSkmJmtjKGMpfSxrYz1mdW5jdGlvbihhKXtpZigibnVtYmVyIiE9PXR5cGVvZiBhJiZhJiYhYS5YKXt2YXIgYj1hLnNyYztpZihRYihiKSlXYihiLmgsYSk7ZWxzZXt2YXIgYz1hLnR5cGUsZD1hLmE7Yi5yZW1vdmVFdmVudExpc3RlbmVyPwpiLnJlbW92ZUV2ZW50TGlzdGVuZXIoYyxkLGEuY2FwdHVyZSk6Yi5kZXRhY2hFdmVudD9iLmRldGFjaEV2ZW50KGhjKGMpLGQpOmIuYWRkTGlzdGVuZXImJmIucmVtb3ZlTGlzdGVuZXImJmIucmVtb3ZlTGlzdGVuZXIoZCk7JGItLTsoYz1mYyhiKSk/KFdiKGMsYSksMD09Yy5iJiYoYy5zcmM9bnVsbCxiW1liXT1udWxsKSk6VGIoYSl9fX0saGM9ZnVuY3Rpb24oYSl7cmV0dXJuIGEgaW4gWmI/WmJbYV06WmJbYV09Im9uIithfSxtYz1mdW5jdGlvbihhLGIsYyxkKXt2YXIgZT0hMDtpZihhPWZjKGEpKWlmKGI9YS5hW2IudG9TdHJpbmcoKV0pZm9yKGI9Yi5jb25jYXQoKSxhPTA7YTxiLmxlbmd0aDthKyspe3ZhciBmPWJbYV07ZiYmZi5jYXB0dXJlPT1jJiYhZi5YJiYoZj1sYyhmLGQpLGU9ZSYmITEhPT1mKX1yZXR1cm4gZX0sbGM9ZnVuY3Rpb24oYSxiKXt2YXIgYz1hLmxpc3RlbmVyLGQ9YS5tYXx8YS5zcmM7YS5oYSYma2MoYSk7cmV0dXJuIGMuY2FsbChkLGIpfSxpYz1mdW5jdGlvbihhLApiKXtpZihhLlgpcmV0dXJuITA7aWYoIUpiKXtpZighYilhOntiPVsid2luZG93IiwiZXZlbnQiXTtmb3IodmFyIGM9bCxkPTA7ZDxiLmxlbmd0aDtkKyspaWYoYz1jW2JbZF1dLG51bGw9PWMpe2I9bnVsbDticmVhayBhfWI9Y31kPWI7Yj1uZXcgRyhkLHRoaXMpO2M9ITA7aWYoISgwPmQua2V5Q29kZXx8dm9pZCAwIT1kLnJldHVyblZhbHVlKSl7YTp7dmFyIGU9ITE7aWYoMD09ZC5rZXlDb2RlKXRyeXtkLmtleUNvZGU9LTE7YnJlYWsgYX1jYXRjaChnKXtlPSEwfWlmKGV8fHZvaWQgMD09ZC5yZXR1cm5WYWx1ZSlkLnJldHVyblZhbHVlPSEwfWQ9W107Zm9yKGU9Yi5hO2U7ZT1lLnBhcmVudE5vZGUpZC5wdXNoKGUpO2E9YS50eXBlO2ZvcihlPWQubGVuZ3RoLTE7IWIuaCYmMDw9ZTtlLS0pe2IuYT1kW2VdO3ZhciBmPW1jKGRbZV0sYSwhMCxiKTtjPWMmJmZ9Zm9yKGU9MDshYi5oJiZlPGQubGVuZ3RoO2UrKyliLmE9ZFtlXSxmPW1jKGRbZV0sYSwhMSxiKSxjPWMmJmZ9cmV0dXJuIGN9cmV0dXJuIGxjKGEsCm5ldyBHKGIsdGhpcykpfSxmYz1mdW5jdGlvbihhKXthPWFbWWJdO3JldHVybiBhIGluc3RhbmNlb2YgVWI/YTpudWxsfSxuYz0iX19jbG9zdXJlX2V2ZW50c19mbl8iKygxRTkqTWF0aC5yYW5kb20oKT4+PjApLGNjPWZ1bmN0aW9uKGEpe3EoYSwiTGlzdGVuZXIgY2FuIG5vdCBiZSBudWxsLiIpO2lmKGlhKGEpKXJldHVybiBhO3EoYS5oYW5kbGVFdmVudCwiQW4gb2JqZWN0IGxpc3RlbmVyIG11c3QgaGF2ZSBoYW5kbGVFdmVudCBtZXRob2QuIik7YVtuY118fChhW25jXT1mdW5jdGlvbihiKXtyZXR1cm4gYS5oYW5kbGVFdmVudChiKX0pO3JldHVybiBhW25jXX07dmFyIG9jPWZ1bmN0aW9uKGEpe0MuY2FsbCh0aGlzKTt0aGlzLmI9YTt0aGlzLmE9e319O24ob2MsQyk7CnZhciBwYz1bXSxIPWZ1bmN0aW9uKGEsYixjLGQpe2ZhKGMpfHwoYyYmKHBjWzBdPWMudG9TdHJpbmcoKSksYz1wYyk7Zm9yKHZhciBlPTA7ZTxjLmxlbmd0aDtlKyspe3ZhciBmPWJjKGIsY1tlXSxkfHxhLmhhbmRsZUV2ZW50LCExLGEuYnx8YSk7aWYoIWYpYnJlYWs7YS5hW2Yua2V5XT1mfXJldHVybiBhfSxxYz1mdW5jdGlvbihhLGIsYyxkLGUsZil7aWYoZmEoYykpZm9yKHZhciBnPTA7ZzxjLmxlbmd0aDtnKyspcWMoYSxiLGNbZ10sZCxlLGYpO2Vsc2UgZD1kfHxhLmhhbmRsZUV2ZW50LGU9bShlKT8hIWUuY2FwdHVyZTohIWUsZj1mfHxhLmJ8fGEsZD1jYyhkKSxlPSEhZSxjPVFiKGIpP1hiKGIuaCxTdHJpbmcoYyksZCxlLGYpOmI/KGI9ZmMoYikpP1hiKGIsYyxkLGUsZik6bnVsbDpudWxsLGMmJihrYyhjKSxkZWxldGUgYS5hW2Mua2V5XSk7cmV0dXJuIGF9LHJjPWZ1bmN0aW9uKGEpe29hKGEuYSxmdW5jdGlvbihiLGMpe3RoaXMuYS5oYXNPd25Qcm9wZXJ0eShjKSYma2MoYil9LAphKTthLmE9e319O29jLnByb3RvdHlwZS51PWZ1bmN0aW9uKCl7b2MuaS51LmNhbGwodGhpcyk7cmModGhpcyl9O29jLnByb3RvdHlwZS5oYW5kbGVFdmVudD1mdW5jdGlvbigpe3Rocm93IEVycm9yKCJFdmVudEhhbmRsZXIuaGFuZGxlRXZlbnQgbm90IGltcGxlbWVudGVkIik7fTt2YXIgST1mdW5jdGlvbigpe0MuY2FsbCh0aGlzKTt0aGlzLmg9bmV3IFViKHRoaXMpO3RoaXMuTWE9dGhpczt0aGlzLnBhPW51bGx9O24oSSxDKTtJLnByb3RvdHlwZVtQYl09ITA7SS5wcm90b3R5cGUucmE9ZnVuY3Rpb24oYSl7dGhpcy5wYT1hfTtJLnByb3RvdHlwZS5yZW1vdmVFdmVudExpc3RlbmVyPWZ1bmN0aW9uKGEsYixjLGQpe2pjKHRoaXMsYSxiLGMsZCl9Owp2YXIgdWM9ZnVuY3Rpb24oYSxiKXtzYyhhKTt2YXIgYz1hLnBhO2lmKGMpe3ZhciBkPVtdO2Zvcih2YXIgZT0xO2M7Yz1jLnBhKWQucHVzaChjKSxxKDFFMz4rK2UsImluZmluaXRlIGxvb3AiKX1hPWEuTWE7Yz1iLnR5cGV8fGI7InN0cmluZyI9PT10eXBlb2YgYj9iPW5ldyBFKGIsYSk6YiBpbnN0YW5jZW9mIEU/Yi50YXJnZXQ9Yi50YXJnZXR8fGE6KGU9YixiPW5ldyBFKGMsYSksdWEoYixlKSk7ZT0hMDtpZihkKWZvcih2YXIgZj1kLmxlbmd0aC0xOyFiLmgmJjA8PWY7Zi0tKXt2YXIgZz1iLmE9ZFtmXTtlPXRjKGcsYywhMCxiKSYmZX1iLmh8fChnPWIuYT1hLGU9dGMoZyxjLCEwLGIpJiZlLGIuaHx8KGU9dGMoZyxjLCExLGIpJiZlKSk7aWYoZClmb3IoZj0wOyFiLmgmJmY8ZC5sZW5ndGg7ZisrKWc9Yi5hPWRbZl0sZT10YyhnLGMsITEsYikmJmU7cmV0dXJuIGV9OwpJLnByb3RvdHlwZS51PWZ1bmN0aW9uKCl7SS5pLnUuY2FsbCh0aGlzKTtpZih0aGlzLmgpe3ZhciBhPXRoaXMuaCxiPTAsYztmb3IoYyBpbiBhLmEpe2Zvcih2YXIgZD1hLmFbY10sZT0wO2U8ZC5sZW5ndGg7ZSsrKSsrYixUYihkW2VdKTtkZWxldGUgYS5hW2NdO2EuYi0tfX10aGlzLnBhPW51bGx9O3ZhciBkYz1mdW5jdGlvbihhLGIsYyxkLGUpe3NjKGEpO3JldHVybiBhLmguYWRkKFN0cmluZyhiKSxjLCExLGQsZSl9LHRjPWZ1bmN0aW9uKGEsYixjLGQpe2I9YS5oLmFbU3RyaW5nKGIpXTtpZighYilyZXR1cm4hMDtiPWIuY29uY2F0KCk7Zm9yKHZhciBlPSEwLGY9MDtmPGIubGVuZ3RoOysrZil7dmFyIGc9YltmXTtpZihnJiYhZy5YJiZnLmNhcHR1cmU9PWMpe3ZhciBrPWcubGlzdGVuZXIscD1nLm1hfHxnLnNyYztnLmhhJiZXYihhLmgsZyk7ZT0hMSE9PWsuY2FsbChwLGQpJiZlfX1yZXR1cm4gZSYmMCE9ZC5LYX0sc2M9ZnVuY3Rpb24oYSl7cShhLmgsIkV2ZW50IHRhcmdldCBpcyBub3QgaW5pdGlhbGl6ZWQuIERpZCB5b3UgY2FsbCB0aGUgc3VwZXJjbGFzcyAoZ29vZy5ldmVudHMuRXZlbnRUYXJnZXQpIGNvbnN0cnVjdG9yPyIpfTt2YXIgeGM9ZnVuY3Rpb24oYSxiLGMsZCxlLGYpe2lmKHkmJiFBKCI1MjUiKSlyZXR1cm4hMDtpZih6JiZlKXJldHVybiB2YyhhKTtpZihlJiYhZClyZXR1cm4hMTtpZigheCl7Im51bWJlciI9PT10eXBlb2YgYiYmKGI9d2MoYikpO3ZhciBnPTE3PT1ifHwxOD09Ynx8eiYmOTE9PWI7aWYoKCFjfHx6KSYmZ3x8eiYmMTY9PWImJihkfHxmKSlyZXR1cm4hMX1pZigoeXx8YmIpJiZkJiZjKXN3aXRjaChhKXtjYXNlIDIyMDpjYXNlIDIxOTpjYXNlIDIyMTpjYXNlIDE5MjpjYXNlIDE4NjpjYXNlIDE4OTpjYXNlIDE4NzpjYXNlIDE4ODpjYXNlIDE5MDpjYXNlIDE5MTpjYXNlIDE5MjpjYXNlIDIyMjpyZXR1cm4hMX1pZih2JiZkJiZiPT1hKXJldHVybiExO3N3aXRjaChhKXtjYXNlIDEzOnJldHVybiB4P2Z8fGU/ITE6IShjJiZkKTohMDtjYXNlIDI3OnJldHVybiEoeXx8YmJ8fHgpfXJldHVybiB4JiYoZHx8ZXx8Zik/ITE6dmMoYSl9LHZjPWZ1bmN0aW9uKGEpe2lmKDQ4PD1hJiY1Nz49YXx8Cjk2PD1hJiYxMDY+PWF8fDY1PD1hJiY5MD49YXx8KHl8fGJiKSYmMD09YSlyZXR1cm4hMDtzd2l0Y2goYSl7Y2FzZSAzMjpjYXNlIDQzOmNhc2UgNjM6Y2FzZSA2NDpjYXNlIDEwNzpjYXNlIDEwOTpjYXNlIDExMDpjYXNlIDExMTpjYXNlIDE4NjpjYXNlIDU5OmNhc2UgMTg5OmNhc2UgMTg3OmNhc2UgNjE6Y2FzZSAxODg6Y2FzZSAxOTA6Y2FzZSAxOTE6Y2FzZSAxOTI6Y2FzZSAyMjI6Y2FzZSAyMTk6Y2FzZSAyMjA6Y2FzZSAyMjE6Y2FzZSAxNjM6Y2FzZSA1ODpyZXR1cm4hMDtjYXNlIDE3MzpyZXR1cm4geDtkZWZhdWx0OnJldHVybiExfX0sd2M9ZnVuY3Rpb24oYSl7aWYoeClhPXljKGEpO2Vsc2UgaWYoeiYmeSlzd2l0Y2goYSl7Y2FzZSA5MzphPTkxfXJldHVybiBhfSx5Yz1mdW5jdGlvbihhKXtzd2l0Y2goYSl7Y2FzZSA2MTpyZXR1cm4gMTg3O2Nhc2UgNTk6cmV0dXJuIDE4NjtjYXNlIDE3MzpyZXR1cm4gMTg5O2Nhc2UgMjI0OnJldHVybiA5MTtjYXNlIDA6cmV0dXJuIDIyNDsKZGVmYXVsdDpyZXR1cm4gYX19O3ZhciBKPWZ1bmN0aW9uKGEsYil7SS5jYWxsKHRoaXMpO2EmJnpjKHRoaXMsYSxiKX07bihKLEkpO2g9Si5wcm90b3R5cGU7aC5TPW51bGw7aC5uYT1udWxsO2guQ2E9bnVsbDtoLm9hPW51bGw7aC53PS0xO2guRj0tMTtoLnVhPSExOwp2YXIgQWM9ezM6MTMsMTI6MTQ0LDYzMjMyOjM4LDYzMjMzOjQwLDYzMjM0OjM3LDYzMjM1OjM5LDYzMjM2OjExMiw2MzIzNzoxMTMsNjMyMzg6MTE0LDYzMjM5OjExNSw2MzI0MDoxMTYsNjMyNDE6MTE3LDYzMjQyOjExOCw2MzI0MzoxMTksNjMyNDQ6MTIwLDYzMjQ1OjEyMSw2MzI0NjoxMjIsNjMyNDc6MTIzLDYzMjQ4OjQ0LDYzMjcyOjQ2LDYzMjczOjM2LDYzMjc1OjM1LDYzMjc2OjMzLDYzMjc3OjM0LDYzMjg5OjE0NCw2MzMwMjo0NX0sQmM9e1VwOjM4LERvd246NDAsTGVmdDozNyxSaWdodDozOSxFbnRlcjoxMyxGMToxMTIsRjI6MTEzLEYzOjExNCxGNDoxMTUsRjU6MTE2LEY2OjExNyxGNzoxMTgsRjg6MTE5LEY5OjEyMCxGMTA6MTIxLEYxMToxMjIsRjEyOjEyMywiVSswMDdGIjo0NixIb21lOjM2LEVuZDozNSxQYWdlVXA6MzMsUGFnZURvd246MzQsSW5zZXJ0OjQ1fSxDYz0heXx8QSgiNTI1IiksRGM9eiYmeDsKSi5wcm90b3R5cGUuYT1mdW5jdGlvbihhKXtpZih5fHxiYilpZigxNz09dGhpcy53JiYhYS5jdHJsS2V5fHwxOD09dGhpcy53JiYhYS5hbHRLZXl8fHomJjkxPT10aGlzLncmJiFhLm1ldGFLZXkpdGhpcy5GPXRoaXMudz0tMTstMT09dGhpcy53JiYoYS5jdHJsS2V5JiYxNyE9YS5jP3RoaXMudz0xNzphLmFsdEtleSYmMTghPWEuYz90aGlzLnc9MTg6YS5tZXRhS2V5JiY5MSE9YS5jJiYodGhpcy53PTkxKSk7Q2MmJiF4YyhhLmMsdGhpcy53LGEuc2hpZnRLZXksYS5jdHJsS2V5LGEuYWx0S2V5LGEubWV0YUtleSk/dGhpcy5oYW5kbGVFdmVudChhKToodGhpcy5GPXdjKGEuYyksRGMmJih0aGlzLnVhPWEuYWx0S2V5KSl9O0oucHJvdG90eXBlLmI9ZnVuY3Rpb24oYSl7dGhpcy5GPXRoaXMudz0tMTt0aGlzLnVhPWEuYWx0S2V5fTsKSi5wcm90b3R5cGUuaGFuZGxlRXZlbnQ9ZnVuY3Rpb24oYSl7dmFyIGI9YS5iLGM9Yi5hbHRLZXk7aWYodiYmImtleXByZXNzIj09YS50eXBlKXt2YXIgZD10aGlzLkY7dmFyIGU9MTMhPWQmJjI3IT1kP2Iua2V5Q29kZTowfWVsc2UoeXx8YmIpJiYia2V5cHJlc3MiPT1hLnR5cGU/KGQ9dGhpcy5GLGU9MDw9Yi5jaGFyQ29kZSYmNjMyMzI+Yi5jaGFyQ29kZSYmdmMoZCk/Yi5jaGFyQ29kZTowKTphYiYmIXk/KGQ9dGhpcy5GLGU9dmMoZCk/Yi5rZXlDb2RlOjApOigia2V5cHJlc3MiPT1hLnR5cGU/KERjJiYoYz10aGlzLnVhKSxiLmtleUNvZGU9PWIuY2hhckNvZGU/MzI+Yi5rZXlDb2RlPyhkPWIua2V5Q29kZSxlPTApOihkPXRoaXMuRixlPWIuY2hhckNvZGUpOihkPWIua2V5Q29kZXx8dGhpcy5GLGU9Yi5jaGFyQ29kZXx8MCkpOihkPWIua2V5Q29kZXx8dGhpcy5GLGU9Yi5jaGFyQ29kZXx8MCkseiYmNjM9PWUmJjIyND09ZCYmKGQ9MTkxKSk7dmFyIGY9ZD13YyhkKTtkPzYzMjMyPD0KZCYmZCBpbiBBYz9mPUFjW2RdOjI1PT1kJiZhLnNoaWZ0S2V5JiYoZj05KTpiLmtleUlkZW50aWZpZXImJmIua2V5SWRlbnRpZmllciBpbiBCYyYmKGY9QmNbYi5rZXlJZGVudGlmaWVyXSk7eCYmQ2MmJiJrZXlwcmVzcyI9PWEudHlwZSYmIXhjKGYsdGhpcy53LGEuc2hpZnRLZXksYS5jdHJsS2V5LGMsYS5tZXRhS2V5KXx8KGE9Zj09dGhpcy53LHRoaXMudz1mLGI9bmV3IEVjKGYsZSxhLGIpLGIuYWx0S2V5PWMsdWModGhpcyxiKSl9O0oucHJvdG90eXBlLmY9ZnVuY3Rpb24oKXtyZXR1cm4gdGhpcy5TfTsKdmFyIHpjPWZ1bmN0aW9uKGEsYixjKXthLm9hJiZGYyhhKTthLlM9YjthLm5hPWJjKGEuUywia2V5cHJlc3MiLGEsYyk7YS5DYT1iYyhhLlMsImtleWRvd24iLGEuYSxjLGEpO2Eub2E9YmMoYS5TLCJrZXl1cCIsYS5iLGMsYSl9LEZjPWZ1bmN0aW9uKGEpe2EubmEmJihrYyhhLm5hKSxrYyhhLkNhKSxrYyhhLm9hKSxhLm5hPW51bGwsYS5DYT1udWxsLGEub2E9bnVsbCk7YS5TPW51bGw7YS53PS0xO2EuRj0tMX07Si5wcm90b3R5cGUudT1mdW5jdGlvbigpe0ouaS51LmNhbGwodGhpcyk7RmModGhpcyl9O3ZhciBFYz1mdW5jdGlvbihhLGIsYyxkKXtHLmNhbGwodGhpcyxkKTt0aGlzLnR5cGU9ImtleSI7dGhpcy5jPWE7dGhpcy5yZXBlYXQ9Y307bihFYyxHKTt2YXIgR2M9eD8iTW96VXNlclNlbGVjdCI6eXx8YmI/IldlYmtpdFVzZXJTZWxlY3QiOm51bGwsSGM9ZnVuY3Rpb24oYSxiKXtiPWI/bnVsbDphLmdldEVsZW1lbnRzQnlUYWdOYW1lKCIqIik7aWYoR2Mpe3ZhciBjPSJub25lIjthLnN0eWxlJiYoYS5zdHlsZVtHY109Yyk7aWYoYil7YT0wO2Zvcih2YXIgZDtkPWJbYV07YSsrKWQuc3R5bGUmJihkLnN0eWxlW0djXT1jKX19ZWxzZSBpZih2fHxhYilpZihjPSJvbiIsYS5zZXRBdHRyaWJ1dGUoInVuc2VsZWN0YWJsZSIsYyksYilmb3IoYT0wO2Q9YlthXTthKyspZC5zZXRBdHRyaWJ1dGUoInVuc2VsZWN0YWJsZSIsYyl9O3ZhciBJYz1mdW5jdGlvbigpe307ZGEoSWMpO0ljLnByb3RvdHlwZS5hPTA7dmFyIEs9ZnVuY3Rpb24oYSl7SS5jYWxsKHRoaXMpO3RoaXMuaj1hfHx4YXx8KHhhPW5ldyB1Yik7dGhpcy5xYT1KYzt0aGlzLlk9bnVsbDt0aGlzLm09ITE7dGhpcy5hPW51bGw7dGhpcy5BPXZvaWQgMDt0aGlzLmc9dGhpcy5jPXRoaXMuYj1udWxsO3RoaXMuR2E9ITF9O24oSyxJKTtLLnByb3RvdHlwZS5PYT1JYy5SKCk7CnZhciBKYz1udWxsLEtjPWZ1bmN0aW9uKGEsYil7c3dpdGNoKGEpe2Nhc2UgMTpyZXR1cm4gYj8iZGlzYWJsZSI6ImVuYWJsZSI7Y2FzZSAyOnJldHVybiBiPyJoaWdobGlnaHQiOiJ1bmhpZ2hsaWdodCI7Y2FzZSA0OnJldHVybiBiPyJhY3RpdmF0ZSI6ImRlYWN0aXZhdGUiO2Nhc2UgODpyZXR1cm4gYj8ic2VsZWN0IjoidW5zZWxlY3QiO2Nhc2UgMTY6cmV0dXJuIGI/ImNoZWNrIjoidW5jaGVjayI7Y2FzZSAzMjpyZXR1cm4gYj8iZm9jdXMiOiJibHVyIjtjYXNlIDY0OnJldHVybiBiPyJvcGVuIjoiY2xvc2UifXRocm93IEVycm9yKCJJbnZhbGlkIGNvbXBvbmVudCBzdGF0ZSIpO30sTGM9ZnVuY3Rpb24oYSl7cmV0dXJuIGEuWXx8KGEuWT0iOiIrKGEuT2EuYSsrKS50b1N0cmluZygzNikpfSxNYz1mdW5jdGlvbihhLGIpe2lmKGEuYiYmYS5iLmcpe3ZhciBjPWEuYi5nLGQ9YS5ZO2QgaW4gYyYmZGVsZXRlIGNbZF07cWEoYS5iLmcsYixhKX1hLlk9Yn07Sy5wcm90b3R5cGUuZj1mdW5jdGlvbigpe3JldHVybiB0aGlzLmF9Owp2YXIgTmM9ZnVuY3Rpb24oYSl7YT1hLmE7cShhLCJDYW4gbm90IGNhbGwgZ2V0RWxlbWVudFN0cmljdCBiZWZvcmUgcmVuZGVyaW5nL2RlY29yYXRpbmcuIik7cmV0dXJuIGF9LE9jPWZ1bmN0aW9uKGEpe2EuQXx8KGEuQT1uZXcgb2MoYSkpO3JldHVybiBxKGEuQSl9O0sucHJvdG90eXBlLnJhPWZ1bmN0aW9uKGEpe2lmKHRoaXMuYiYmdGhpcy5iIT1hKXRocm93IEVycm9yKCJNZXRob2Qgbm90IHN1cHBvcnRlZCIpO0suaS5yYS5jYWxsKHRoaXMsYSl9O0sucHJvdG90eXBlLmlhPWZ1bmN0aW9uKCl7dGhpcy5hPW5iKHRoaXMuai5hLCJESVYiKX07CnZhciBQYz1mdW5jdGlvbihhLGIpe2lmKGEubSl0aHJvdyBFcnJvcigiQ29tcG9uZW50IGFscmVhZHkgcmVuZGVyZWQiKTtpZihiJiZhLnhhKGIpKXthLkdhPSEwO3ZhciBjPXFiKGIpO2EuaiYmYS5qLmE9PWN8fChhLmo9Yj9uZXcgdWIocWIoYikpOnhhfHwoeGE9bmV3IHViKSk7YS52YShiKTthLkQoKX1lbHNlIHRocm93IEVycm9yKCJJbnZhbGlkIGVsZW1lbnQgdG8gZGVjb3JhdGUiKTt9O2g9Sy5wcm90b3R5cGU7aC54YT1mdW5jdGlvbigpe3JldHVybiEwfTtoLnZhPWZ1bmN0aW9uKGEpe3RoaXMuYT1hfTtoLkQ9ZnVuY3Rpb24oKXt0aGlzLm09ITA7UWModGhpcyxmdW5jdGlvbihhKXshYS5tJiZhLmYoKSYmYS5EKCl9KX07aC5QPWZ1bmN0aW9uKCl7UWModGhpcyxmdW5jdGlvbihhKXthLm0mJmEuUCgpfSk7dGhpcy5BJiZyYyh0aGlzLkEpO3RoaXMubT0hMX07CmgudT1mdW5jdGlvbigpe3RoaXMubSYmdGhpcy5QKCk7dGhpcy5BJiYodGhpcy5BLk4oKSxkZWxldGUgdGhpcy5BKTtRYyh0aGlzLGZ1bmN0aW9uKGEpe2EuTigpfSk7IXRoaXMuR2EmJnRoaXMuYSYmb2IodGhpcy5hKTt0aGlzLmI9dGhpcy5hPXRoaXMuZz10aGlzLmM9bnVsbDtLLmkudS5jYWxsKHRoaXMpfTtoLnNhPWZ1bmN0aW9uKGEsYil7dGhpcy50YShhLFJjKHRoaXMpLGIpfTsKaC50YT1mdW5jdGlvbihhLGIsYyl7cSghIWEsIlByb3ZpZGVkIGVsZW1lbnQgbXVzdCBub3QgYmUgbnVsbC4iKTtpZihhLm0mJihjfHwhdGhpcy5tKSl0aHJvdyBFcnJvcigiQ29tcG9uZW50IGFscmVhZHkgcmVuZGVyZWQiKTtpZigwPmJ8fGI+UmModGhpcykpdGhyb3cgRXJyb3IoIkNoaWxkIGNvbXBvbmVudCBpbmRleCBvdXQgb2YgYm91bmRzIik7dGhpcy5nJiZ0aGlzLmN8fCh0aGlzLmc9e30sdGhpcy5jPVtdKTtpZihhLmI9PXRoaXMpe3ZhciBkPUxjKGEpO3RoaXMuZ1tkXT1hO0hhKHRoaXMuYyxhKX1lbHNlIHFhKHRoaXMuZyxMYyhhKSxhKTtpZihhPT10aGlzKXRocm93IEVycm9yKCJVbmFibGUgdG8gc2V0IHBhcmVudCBjb21wb25lbnQiKTtpZihkPXRoaXMmJmEuYiYmYS5ZKXt2YXIgZT1hLmI7ZD1hLlk7ZS5nJiZkPyhlPWUuZyxkPShudWxsIT09ZSYmZCBpbiBlP2VbZF06dm9pZCAwKXx8bnVsbCk6ZD1udWxsfWlmKGQmJmEuYiE9dGhpcyl0aHJvdyBFcnJvcigiVW5hYmxlIHRvIHNldCBwYXJlbnQgY29tcG9uZW50Iik7CmEuYj10aGlzO0suaS5yYS5jYWxsKGEsdGhpcyk7TGEodGhpcy5jLGIsMCxhKTtpZihhLm0mJnRoaXMubSYmYS5iPT10aGlzKWM9dGhpcy5qYSgpLGI9Yy5jaGlsZE5vZGVzW2JdfHxudWxsLGIhPWEuZigpJiZjLmluc2VydEJlZm9yZShhLmYoKSxiKTtlbHNlIGlmKGMpe3RoaXMuYXx8dGhpcy5pYSgpO2M9TCh0aGlzLGIrMSk7Yj10aGlzLmphKCk7Yz1jP2MuYTpudWxsO2lmKGEubSl0aHJvdyBFcnJvcigiQ29tcG9uZW50IGFscmVhZHkgcmVuZGVyZWQiKTthLmF8fGEuaWEoKTtiP2IuaW5zZXJ0QmVmb3JlKGEuYSxjfHxudWxsKTphLmouYS5ib2R5LmFwcGVuZENoaWxkKGEuYSk7YS5iJiYhYS5iLm18fGEuRCgpfWVsc2UgdGhpcy5tJiYhYS5tJiZhLmEmJmEuYS5wYXJlbnROb2RlJiYxPT1hLmEucGFyZW50Tm9kZS5ub2RlVHlwZSYmYS5EKCl9O2guamE9ZnVuY3Rpb24oKXtyZXR1cm4gdGhpcy5hfTsKdmFyIFNjPWZ1bmN0aW9uKGEpe2lmKG51bGw9PWEucWEpe3ZhciBiPWEubT9hLmE6YS5qLmEuYm9keTthOnt2YXIgYz1xYihiKTtpZihjLmRlZmF1bHRWaWV3JiZjLmRlZmF1bHRWaWV3LmdldENvbXB1dGVkU3R5bGUmJihjPWMuZGVmYXVsdFZpZXcuZ2V0Q29tcHV0ZWRTdHlsZShiLG51bGwpKSl7Yz1jLmRpcmVjdGlvbnx8Yy5nZXRQcm9wZXJ0eVZhbHVlKCJkaXJlY3Rpb24iKXx8IiI7YnJlYWsgYX1jPSIifWEucWE9InJ0bCI9PShjfHwoYi5jdXJyZW50U3R5bGU/Yi5jdXJyZW50U3R5bGUuZGlyZWN0aW9uOm51bGwpfHxiLnN0eWxlJiZiLnN0eWxlLmRpcmVjdGlvbil9cmV0dXJuIGEucWF9LFJjPWZ1bmN0aW9uKGEpe3JldHVybiBhLmM/YS5jLmxlbmd0aDowfSxMPWZ1bmN0aW9uKGEsYil7cmV0dXJuIGEuYz9hLmNbYl18fG51bGw6bnVsbH0sUWM9ZnVuY3Rpb24oYSxiLGMpe2EuYyYmcihhLmMsYixjKX0sVGM9ZnVuY3Rpb24oYSxiKXtyZXR1cm4gYS5jJiZiP0RhKGEuYyxiKTotMX07dmFyIFZjPWZ1bmN0aW9uKGEsYil7aWYoIWEpdGhyb3cgRXJyb3IoIkludmFsaWQgY2xhc3MgbmFtZSAiK2EpO2lmKCFpYShiKSl0aHJvdyBFcnJvcigiSW52YWxpZCBkZWNvcmF0b3IgZnVuY3Rpb24gIitiKTtVY1thXT1ifSxXYz17fSxVYz17fTt2YXIgWGM9ZnVuY3Rpb24oYSl7dGhpcy5oPWF9O2RhKFhjKTt2YXIgWWM9ZnVuY3Rpb24oYSxiKXthJiYoYS50YWJJbmRleD1iPzA6LTEpfSwkYz1mdW5jdGlvbihhLGIsYyl7Yy5pZCYmTWMoYixjLmlkKTt2YXIgZD1hLmIoKSxlPSExLGY9RChjKTtmJiZyKGYsZnVuY3Rpb24oZyl7Zz09ZD9lPSEwOmcmJnRoaXMuZyhiLGcsZCl9LGEpO2V8fEViKGMsZCk7WmMoYixjKTtyZXR1cm4gY307WGMucHJvdG90eXBlLmc9ZnVuY3Rpb24oYSxiLGMpe2I9PWMrIi1kaXNhYmxlZCI/YS5aKCExKTpiPT1jKyItaG9yaXpvbnRhbCI/YWQoYSwiaG9yaXpvbnRhbCIpOmI9PWMrIi12ZXJ0aWNhbCImJmFkKGEsInZlcnRpY2FsIil9Owp2YXIgWmM9ZnVuY3Rpb24oYSxiKXtpZihiKWZvcih2YXIgYz1iLmZpcnN0Q2hpbGQsZDtjJiZjLnBhcmVudE5vZGU9PWI7KXtkPWMubmV4dFNpYmxpbmc7aWYoMT09Yy5ub2RlVHlwZSl7YTp7dmFyIGU9YztxKGUpO2U9RChlKTtmb3IodmFyIGY9MCxnPWUubGVuZ3RoO2Y8ZztmKyspe3ZhciBrPWVbZl07aWYoaz1rIGluIFVjP1VjW2tdKCk6bnVsbCl7ZT1rO2JyZWFrIGF9fWU9bnVsbH1lJiYoZS5hPWMsYS5pc0VuYWJsZWQoKXx8ZS5aKCExKSxhLnNhKGUpLFBjKGUsYykpfWVsc2UgYy5ub2RlVmFsdWUmJiIiIT1NYShjLm5vZGVWYWx1ZSl8fGIucmVtb3ZlQ2hpbGQoYyk7Yz1kfX0sYmQ9ZnVuY3Rpb24oYSxiKXtiPWIuZigpO3EoYiwiVGhlIGNvbnRhaW5lciBET00gZWxlbWVudCBjYW5ub3QgYmUgbnVsbC4iKTtIYyhiLHgpO3YmJihiLmhpZGVGb2N1cz0hMCk7KGE9YS5oKSYmdmIoYixhKX07WGMucHJvdG90eXBlLmI9ZnVuY3Rpb24oKXtyZXR1cm4iZ29vZy1jb250YWluZXIifTsKWGMucHJvdG90eXBlLmM9ZnVuY3Rpb24oYSl7dmFyIGI9dGhpcy5iKCksYz1bYiwiaG9yaXpvbnRhbCI9PWEuSD9iKyItaG9yaXpvbnRhbCI6YisiLXZlcnRpY2FsIl07YS5pc0VuYWJsZWQoKXx8Yy5wdXNoKGIrIi1kaXNhYmxlZCIpO3JldHVybiBjfTt2YXIgTT1mdW5jdGlvbigpe30sY2Q7ZGEoTSk7dmFyIGRkPXtidXR0b246InByZXNzZWQiLGNoZWNrYm94OiJjaGVja2VkIixtZW51aXRlbToic2VsZWN0ZWQiLG1lbnVpdGVtY2hlY2tib3g6ImNoZWNrZWQiLG1lbnVpdGVtcmFkaW86ImNoZWNrZWQiLHJhZGlvOiJjaGVja2VkIix0YWI6InNlbGVjdGVkIix0cmVlaXRlbToic2VsZWN0ZWQifTtNLnByb3RvdHlwZS5oPWZ1bmN0aW9uKCl7fTtNLnByb3RvdHlwZS5jPWZ1bmN0aW9uKGEpe3JldHVybiBhLmouYigiRElWIixlZCh0aGlzLGEpLmpvaW4oIiAiKSxhLmJhKX07dmFyIGdkPWZ1bmN0aW9uKGEsYixjKXtpZihhPWEuZj9hLmYoKTphKXt2YXIgZD1bYl07diYmIUEoIjciKSYmKGQ9ZmQoRChhKSxiKSxkLnB1c2goYikpOyhjP0ZiOkhiKShhLGQpfX07Ck0ucHJvdG90eXBlLmc9ZnVuY3Rpb24oYSxiKXtiLmlkJiZNYyhhLGIuaWQpO2ImJmIuZmlyc3RDaGlsZD9oZChhLGIuZmlyc3RDaGlsZC5uZXh0U2libGluZz9KYShiLmNoaWxkTm9kZXMpOmIuZmlyc3RDaGlsZCk6YS5iYT1udWxsO3ZhciBjPTAsZD10aGlzLmEoKSxlPXRoaXMuYSgpLGY9ITEsZz0hMSxrPSExLHA9SmEoRChiKSk7cihwLGZ1bmN0aW9uKEIpe2Z8fEIhPWQ/Z3x8QiE9ZT9jfD1pZCh0aGlzLEIpOmc9ITA6KGY9ITAsZT09ZCYmKGc9ITApKTsxPT1pZCh0aGlzLEIpJiYoQWEoYiksc2IoYikmJnRiKGIpJiZyYihiLCExKSl9LHRoaXMpO2Eubz1jO2Z8fChwLnB1c2goZCksZT09ZCYmKGc9ITApKTtnfHxwLnB1c2goZSk7KGE9YS53YSkmJnAucHVzaC5hcHBseShwLGEpO2lmKHYmJiFBKCI3Iikpe3ZhciB3PWZkKHApOzA8dy5sZW5ndGgmJihwLnB1c2guYXBwbHkocCx3KSxrPSEwKX1mJiZnJiYhYSYmIWt8fENiKGIscC5qb2luKCIgIikpO3JldHVybiBifTsKdmFyIGpkPWZ1bmN0aW9uKGEsYil7aWYoYT1hLmgoKSl7cShiLCJUaGUgZWxlbWVudCBwYXNzZWQgYXMgYSBmaXJzdCBwYXJhbWV0ZXIgY2Fubm90IGJlIG51bGwuIik7dmFyIGM9Yi5nZXRBdHRyaWJ1dGUoInJvbGUiKXx8bnVsbDthIT1jJiZ2YihiLGEpfX0sa2Q9ZnVuY3Rpb24oYSxiKXt2YXIgYztpZihhLnYmMzImJihjPWEuZigpKSl7aWYoIWImJmEubyYzMil7dHJ5e2MuYmx1cigpfWNhdGNoKGQpe31hLm8mMzImJmEuRmEobnVsbCl9KHNiKGMpJiZ0YihjKSkhPWImJnJiKGMsYil9fSxsZD1mdW5jdGlvbihhLGIsYyl7Y2R8fChjZD17MToiZGlzYWJsZWQiLDg6InNlbGVjdGVkIiwxNjoiY2hlY2tlZCIsNjQ6ImV4cGFuZGVkIn0pO3EoYSwiVGhlIGVsZW1lbnQgcGFzc2VkIGFzIGEgZmlyc3QgcGFyYW1ldGVyIGNhbm5vdCBiZSBudWxsLiIpO2I9Y2RbYl07dmFyIGQ9YS5nZXRBdHRyaWJ1dGUoInJvbGUiKXx8bnVsbDtkJiYoZD1kZFtkXXx8YixiPSJjaGVja2VkIj09Ynx8InNlbGVjdGVkIj09CmI/ZDpiKTtiJiZ4YihhLGIsYyl9O00ucHJvdG90eXBlLmE9ZnVuY3Rpb24oKXtyZXR1cm4iZ29vZy1jb250cm9sIn07CnZhciBlZD1mdW5jdGlvbihhLGIpe3ZhciBjPWEuYSgpLGQ9W2NdLGU9YS5hKCk7ZSE9YyYmZC5wdXNoKGUpO2M9Yi5vO2ZvcihlPVtdO2M7KXt2YXIgZj1jJi1jO2UucHVzaChtZChhLGYpKTtjJj1+Zn1kLnB1c2guYXBwbHkoZCxlKTsoYT1iLndhKSYmZC5wdXNoLmFwcGx5KGQsYSk7diYmIUEoIjciKSYmZC5wdXNoLmFwcGx5KGQsZmQoZCkpO3JldHVybiBkfSxmZD1mdW5jdGlvbihhLGIpe3ZhciBjPVtdO2ImJihhPUlhKGEsW2JdKSk7cihbXSxmdW5jdGlvbihkKXshRmEoZCxsYShHYSxhKSl8fGImJiFHYShkLGIpfHxjLnB1c2goZC5qb2luKCJfIikpfSk7cmV0dXJuIGN9LG1kPWZ1bmN0aW9uKGEsYil7YS5ifHxuZChhKTtyZXR1cm4gYS5iW2JdfSxpZD1mdW5jdGlvbihhLGIpe2Euanx8KGEuYnx8bmQoYSksYS5qPXNhKGEuYikpO2E9cGFyc2VJbnQoYS5qW2JdLDEwKTtyZXR1cm4gaXNOYU4oYSk/MDphfSxuZD1mdW5jdGlvbihhKXt2YXIgYj1hLmEoKSxjPSF0KGIucmVwbGFjZSgvXHhhMHxccy9nLAoiICIpLCIgIik7cShjLCJDb250cm9sUmVuZGVyZXIgaGFzIGFuIGludmFsaWQgY3NzIGNsYXNzOiAnIitiKyInIik7YS5iPXsxOmIrIi1kaXNhYmxlZCIsMjpiKyItaG92ZXIiLDQ6YisiLWFjdGl2ZSIsODpiKyItc2VsZWN0ZWQiLDE2OmIrIi1jaGVja2VkIiwzMjpiKyItZm9jdXNlZCIsNjQ6YisiLW9wZW4ifX07dmFyIE49ZnVuY3Rpb24oYSxiLGMpe0suY2FsbCh0aGlzLGMpO2lmKCFiKXtiPXRoaXMuY29uc3RydWN0b3I7Zm9yKHZhciBkO2I7KXtkPWJbamFdfHwoYltqYV09KytrYSk7aWYoZD1XY1tkXSlicmVhaztiPWIuaT9iLmkuY29uc3RydWN0b3I6bnVsbH1iPWQ/aWEoZC5SKT9kLlIoKTpuZXcgZDpudWxsfXRoaXMuQj1iO3RoaXMuYmE9dm9pZCAwIT09YT9hOm51bGx9O24oTixLKTtoPU4ucHJvdG90eXBlO2guYmE9bnVsbDtoLm89MDtoLnY9Mzk7aC5LPTA7aC5JYT0hMDtoLndhPW51bGw7aC55YT0hMDtoLmlhPWZ1bmN0aW9uKCl7dmFyIGE9dGhpcy5CLmModGhpcyk7dGhpcy5hPWE7amQodGhpcy5CLGEpO0hjKGEsIXYmJiFhYik7dGhpcy5pc1Zpc2libGUoKXx8KGEuc3R5bGUuZGlzcGxheT0ibm9uZSIsYSYmeGIoYSwiaGlkZGVuIiwhMCkpfTtoLmphPWZ1bmN0aW9uKCl7cmV0dXJuIHRoaXMuZigpfTtoLnhhPWZ1bmN0aW9uKCl7cmV0dXJuITB9OwpoLnZhPWZ1bmN0aW9uKGEpe3RoaXMuYT1hPXRoaXMuQi5nKHRoaXMsYSk7amQodGhpcy5CLGEpO0hjKGEsIXYmJiFhYik7dGhpcy5JYT0ibm9uZSIhPWEuc3R5bGUuZGlzcGxheX07CmguRD1mdW5jdGlvbigpe04uaS5ELmNhbGwodGhpcyk7dmFyIGE9TmModGhpcyk7cSh0aGlzKTtxKGEpO3RoaXMuaXNWaXNpYmxlKCl8fHhiKGEsImhpZGRlbiIsIXRoaXMuaXNWaXNpYmxlKCkpO3RoaXMuaXNFbmFibGVkKCl8fGxkKGEsMSwhdGhpcy5pc0VuYWJsZWQoKSk7dGhpcy52JjgmJmxkKGEsOCwhISh0aGlzLm8mOCkpO3RoaXMudiYxNiYmbGQoYSwxNiwhISh0aGlzLm8mMTYpKTt0aGlzLnYmNjQmJmxkKGEsNjQsISEodGhpcy5vJjY0KSk7YT10aGlzLkI7U2ModGhpcykmJmdkKHRoaXMuZigpLGEuYSgpKyItcnRsIiwhMCk7dGhpcy5pc0VuYWJsZWQoKSYma2QodGhpcyx0aGlzLmlzVmlzaWJsZSgpKTtpZih0aGlzLnYmLTImJih0aGlzLnlhJiZvZCh0aGlzLCEwKSx0aGlzLnYmMzImJihhPXRoaXMuZigpKSkpe3ZhciBiPXRoaXMuV3x8KHRoaXMuVz1uZXcgSik7emMoYixhKTtIKEgoSChPYyh0aGlzKSxiLCJrZXkiLHRoaXMuZmEpLGEsImZvY3VzIix0aGlzLk5hKSxhLCJibHVyIiwKdGhpcy5GYSl9fTt2YXIgb2Q9ZnVuY3Rpb24oYSxiKXt2YXIgYz1PYyhhKSxkPWEuZigpO2I/KEgoSChIKEgoYyxkLEYuTCxhLmthKSxkLFtGLk0sRi5hYV0sYS5sYSksZCwibW91c2VvdmVyIixhLkFhKSxkLCJtb3VzZW91dCIsYS56YSksYS5lYSE9Y2EmJkgoYyxkLCJjb250ZXh0bWVudSIsYS5lYSksdiYmKEEoOSl8fEgoYyxkLCJkYmxjbGljayIsYS5KYSksYS5nYXx8KGEuZ2E9bmV3IHBkKGEpLHpiKGEsbGEoQWIsYS5nYSkpKSkpOihxYyhxYyhxYyhxYyhjLGQsRi5MLGEua2EpLGQsW0YuTSxGLmFhXSxhLmxhKSxkLCJtb3VzZW92ZXIiLGEuQWEpLGQsIm1vdXNlb3V0IixhLnphKSxhLmVhIT1jYSYmcWMoYyxkLCJjb250ZXh0bWVudSIsYS5lYSksdiYmKEEoOSl8fHFjKGMsZCwiZGJsY2xpY2siLGEuSmEpLEFiKGEuZ2EpLGEuZ2E9bnVsbCkpfTsKTi5wcm90b3R5cGUuUD1mdW5jdGlvbigpe04uaS5QLmNhbGwodGhpcyk7dGhpcy5XJiZGYyh0aGlzLlcpO3RoaXMuaXNWaXNpYmxlKCkmJnRoaXMuaXNFbmFibGVkKCkmJmtkKHRoaXMsITEpfTtOLnByb3RvdHlwZS51PWZ1bmN0aW9uKCl7Ti5pLnUuY2FsbCh0aGlzKTt0aGlzLlcmJih0aGlzLlcuTigpLGRlbGV0ZSB0aGlzLlcpO2RlbGV0ZSB0aGlzLkI7dGhpcy5nYT10aGlzLndhPXRoaXMuYmE9bnVsbH07dmFyIGhkPWZ1bmN0aW9uKGEsYil7YS5iYT1ifTtOLnByb3RvdHlwZS5pc1Zpc2libGU9ZnVuY3Rpb24oKXtyZXR1cm4gdGhpcy5JYX07Ti5wcm90b3R5cGUuaXNFbmFibGVkPWZ1bmN0aW9uKCl7cmV0dXJuISh0aGlzLm8mMSl9OwpOLnByb3RvdHlwZS5aPWZ1bmN0aW9uKGEpe3ZhciBiPXRoaXMuYjtiJiYiZnVuY3Rpb24iPT10eXBlb2YgYi5pc0VuYWJsZWQmJiFiLmlzRW5hYmxlZCgpfHwhTyh0aGlzLDEsIWEpfHwoYXx8KHFkKHRoaXMsITEpLFAodGhpcywhMSkpLHRoaXMuaXNWaXNpYmxlKCkmJmtkKHRoaXMsYSksUSh0aGlzLDEsIWEsITApKX07CnZhciBQPWZ1bmN0aW9uKGEsYil7TyhhLDIsYikmJlEoYSwyLGIpfSxxZD1mdW5jdGlvbihhLGIpe08oYSw0LGIpJiZRKGEsNCxiKX0scmQ9ZnVuY3Rpb24oYSxiKXtPKGEsOCxiKSYmUShhLDgsYil9LHNkPWZ1bmN0aW9uKGEsYil7TyhhLDY0LGIpJiZRKGEsNjQsYil9LFE9ZnVuY3Rpb24oYSxiLGMsZCl7aWYoIWQmJjE9PWIpYS5aKCFjKTtlbHNlIGlmKGEudiZiJiZjIT0hIShhLm8mYikpe3ZhciBlPWEuQjtpZihkPWEuZigpKShlPW1kKGUsYikpJiZnZChhLGUsYyksbGQoZCxiLGMpO2Eubz1jP2Eub3xiOmEubyZ+Yn19LHRkPWZ1bmN0aW9uKGEsYixjKXtpZihhLm0mJmEubyZiJiYhYyl0aHJvdyBFcnJvcigiQ29tcG9uZW50IGFscmVhZHkgcmVuZGVyZWQiKTshYyYmYS5vJmImJlEoYSxiLCExKTthLnY9Yz9hLnZ8YjphLnYmfmJ9LFI9ZnVuY3Rpb24oYSxiKXtyZXR1cm4hISgyNTUmYikmJiEhKGEudiZiKX0sTz1mdW5jdGlvbihhLGIsYyl7cmV0dXJuISEoYS52JmIpJiYhIShhLm8mCmIpIT1jJiYoIShhLksmYil8fHVjKGEsS2MoYixjKSkpJiYhYS5VfTtoPU4ucHJvdG90eXBlO2guQWE9ZnVuY3Rpb24oYSl7KCFhLnJlbGF0ZWRUYXJnZXR8fCFwYih0aGlzLmYoKSxhLnJlbGF0ZWRUYXJnZXQpKSYmdWModGhpcywiZW50ZXIiKSYmdGhpcy5pc0VuYWJsZWQoKSYmUih0aGlzLDIpJiZQKHRoaXMsITApfTtoLnphPWZ1bmN0aW9uKGEpe2EucmVsYXRlZFRhcmdldCYmcGIodGhpcy5mKCksYS5yZWxhdGVkVGFyZ2V0KXx8IXVjKHRoaXMsImxlYXZlIil8fChSKHRoaXMsNCkmJnFkKHRoaXMsITEpLFIodGhpcywyKSYmUCh0aGlzLCExKSl9O2guZWE9Y2E7Cmgua2E9ZnVuY3Rpb24oYSl7aWYodGhpcy5pc0VuYWJsZWQoKSYmKFIodGhpcywyKSYmUCh0aGlzLCEwKSxPYihhKSYmISh5JiZ6JiZhLmN0cmxLZXkpKSl7Uih0aGlzLDQpJiZxZCh0aGlzLCEwKTt2YXIgYjtpZihiPXRoaXMuQil7dmFyIGM7Yj10aGlzLnYmMzImJihjPXRoaXMuZigpKT9zYihjKSYmdGIoYyk6ITF9YiYmdGhpcy5mKCkuZm9jdXMoKX0hT2IoYSl8fHkmJnomJmEuY3RybEtleXx8YS5nKCl9O2gubGE9ZnVuY3Rpb24oYSl7dGhpcy5pc0VuYWJsZWQoKSYmKFIodGhpcywyKSYmUCh0aGlzLCEwKSx0aGlzLm8mNCYmdWQodGhpcyxhKSYmUih0aGlzLDQpJiZxZCh0aGlzLCExKSl9O2guSmE9ZnVuY3Rpb24oYSl7dGhpcy5pc0VuYWJsZWQoKSYmdWQodGhpcyxhKX07CnZhciB1ZD1mdW5jdGlvbihhLGIpe2lmKFIoYSwxNikpe3ZhciBjPSEoYS5vJjE2KTtPKGEsMTYsYykmJlEoYSwxNixjKX1SKGEsOCkmJnJkKGEsITApO1IoYSw2NCkmJnNkKGEsIShhLm8mNjQpKTtjPW5ldyBFKCJhY3Rpb24iLGEpO2ImJihjLmFsdEtleT1iLmFsdEtleSxjLmN0cmxLZXk9Yi5jdHJsS2V5LGMubWV0YUtleT1iLm1ldGFLZXksYy5zaGlmdEtleT1iLnNoaWZ0S2V5LGMuQT1iLkEpO3JldHVybiB1YyhhLGMpfTtOLnByb3RvdHlwZS5OYT1mdW5jdGlvbigpe1IodGhpcywzMikmJk8odGhpcywzMiwhMCkmJlEodGhpcywzMiwhMCl9O04ucHJvdG90eXBlLkZhPWZ1bmN0aW9uKCl7Uih0aGlzLDQpJiZxZCh0aGlzLCExKTtSKHRoaXMsMzIpJiZPKHRoaXMsMzIsITEpJiZRKHRoaXMsMzIsITEpfTsKTi5wcm90b3R5cGUuZmE9ZnVuY3Rpb24oYSl7cmV0dXJuIHRoaXMuaXNWaXNpYmxlKCkmJnRoaXMuaXNFbmFibGVkKCkmJjEzPT1hLmMmJnVkKHRoaXMsYSk/KGEuZygpLGEuaigpLCEwKTohMX07aWYoIWlhKE4pKXRocm93IEVycm9yKCJJbnZhbGlkIGNvbXBvbmVudCBjbGFzcyAiK04pO2lmKCFpYShNKSl0aHJvdyBFcnJvcigiSW52YWxpZCByZW5kZXJlciBjbGFzcyAiK00pO3ZhciB2ZD1OW2phXXx8KE5bamFdPSsra2EpO1djW3ZkXT1NO1ZjKCJnb29nLWNvbnRyb2wiLGZ1bmN0aW9uKCl7cmV0dXJuIG5ldyBOKG51bGwpfSk7dmFyIHBkPWZ1bmN0aW9uKGEpe0MuY2FsbCh0aGlzKTt0aGlzLmI9YTt0aGlzLmE9ITE7dGhpcy5jPW5ldyBvYyh0aGlzKTt6Yih0aGlzLGxhKEFiLHRoaXMuYykpO2E9TmModGhpcy5iKTtIKEgoSCh0aGlzLmMsYSxGLkwsdGhpcy5oKSxhLEYuTSx0aGlzLmopLGEsImNsaWNrIix0aGlzLmcpfTtuKHBkLEMpO3ZhciB3ZD0hdnx8OTw9TnVtYmVyKGliKTsKcGQucHJvdG90eXBlLmg9ZnVuY3Rpb24oKXt0aGlzLmE9ITF9O3BkLnByb3RvdHlwZS5qPWZ1bmN0aW9uKCl7dGhpcy5hPSEwfTt2YXIgeGQ9ZnVuY3Rpb24oYSxiKXtpZighd2QpcmV0dXJuIGEuYnV0dG9uPTAsYS50eXBlPWIsYTt2YXIgYz1kb2N1bWVudC5jcmVhdGVFdmVudCgiTW91c2VFdmVudHMiKTtjLmluaXRNb3VzZUV2ZW50KGIsYS5idWJibGVzLGEuY2FuY2VsYWJsZSxhLnZpZXd8fG51bGwsYS5kZXRhaWwsYS5zY3JlZW5YLGEuc2NyZWVuWSxhLmNsaWVudFgsYS5jbGllbnRZLGEuY3RybEtleSxhLmFsdEtleSxhLnNoaWZ0S2V5LGEubWV0YUtleSwwLGEucmVsYXRlZFRhcmdldHx8bnVsbCk7cmV0dXJuIGN9OwpwZC5wcm90b3R5cGUuZz1mdW5jdGlvbihhKXtpZih0aGlzLmEpdGhpcy5hPSExO2Vsc2V7dmFyIGI9YS5iLGM9Yi5idXR0b24sZD1iLnR5cGUsZT14ZChiLCJtb3VzZWRvd24iKTt0aGlzLmIua2EobmV3IEcoZSxhLmEpKTtlPXhkKGIsIm1vdXNldXAiKTt0aGlzLmIubGEobmV3IEcoZSxhLmEpKTt3ZHx8KGIuYnV0dG9uPWMsYi50eXBlPWQpfX07cGQucHJvdG90eXBlLnU9ZnVuY3Rpb24oKXt0aGlzLmI9bnVsbDtwZC5pLnUuY2FsbCh0aGlzKX07dmFyIFM9ZnVuY3Rpb24oYSxiLGMpe0suY2FsbCh0aGlzLGMpO3RoaXMuZGE9Ynx8WGMuUigpO3RoaXMuSD1hfHwidmVydGljYWwifTtuKFMsSyk7aD1TLnByb3RvdHlwZTtoLkRhPW51bGw7aC5jYT1udWxsO2guZGE9bnVsbDtoLkg9bnVsbDtoLlQ9ITA7aC5PPSEwO2gubD0tMTtoLnM9bnVsbDtoLlY9ITE7aC5JPW51bGw7dmFyIHlkPWZ1bmN0aW9uKGEpe3JldHVybiBhLkRhfHxhLmYoKX07aD1TLnByb3RvdHlwZTtoLmlhPWZ1bmN0aW9uKCl7dGhpcy5hPXRoaXMuai5iKCJESVYiLHRoaXMuZGEuYyh0aGlzKS5qb2luKCIgIikpfTtoLmphPWZ1bmN0aW9uKCl7cmV0dXJuIHRoaXMuZigpfTtoLnhhPWZ1bmN0aW9uKGEpe3JldHVybiJESVYiPT1hLnRhZ05hbWV9O2gudmE9ZnVuY3Rpb24oYSl7dGhpcy5hPSRjKHRoaXMuZGEsdGhpcyxhKTsibm9uZSI9PWEuc3R5bGUuZGlzcGxheSYmKHRoaXMuVD0hMSl9OwpoLkQ9ZnVuY3Rpb24oKXtTLmkuRC5jYWxsKHRoaXMpO1FjKHRoaXMsZnVuY3Rpb24oYil7Yi5tJiZ6ZCh0aGlzLGIpfSx0aGlzKTt2YXIgYT10aGlzLmYoKTtiZCh0aGlzLmRhLHRoaXMpO0FkKHRoaXMsdGhpcy5UKTtIKEgoSChIKEgoSChIKEgoT2ModGhpcyksdGhpcywiZW50ZXIiLHRoaXMuV2EpLHRoaXMsImhpZ2hsaWdodCIsdGhpcy5YYSksdGhpcywidW5oaWdobGlnaHQiLHRoaXMuY2IpLHRoaXMsIm9wZW4iLHRoaXMuWWEpLHRoaXMsImNsb3NlIix0aGlzLlVhKSxhLEYuTCx0aGlzLlNhKSxxYihhKSxbRi5NLEYuYWFdLHRoaXMuVmEpLGEsW0YuTCxGLk0sRi5hYSwibW91c2VvdmVyIiwibW91c2VvdXQiLCJjb250ZXh0bWVudSJdLHRoaXMuVGEpO0JkKHRoaXMpfTt2YXIgQmQ9ZnVuY3Rpb24oYSl7dmFyIGI9T2MoYSksYz15ZChhKTtIKEgoSChiLGMsImZvY3VzIixhLkhhKSxjLCJibHVyIixhLlFhKSxhLmNhfHwoYS5jYT1uZXcgSih5ZChhKSkpLCJrZXkiLGEuUmEpfTtoPVMucHJvdG90eXBlOwpoLlA9ZnVuY3Rpb24oKXtDZCh0aGlzLC0xKTt0aGlzLnMmJnNkKHRoaXMucywhMSk7dGhpcy5WPSExO1MuaS5QLmNhbGwodGhpcyl9O2gudT1mdW5jdGlvbigpe1MuaS51LmNhbGwodGhpcyk7dGhpcy5jYSYmKHRoaXMuY2EuTigpLHRoaXMuY2E9bnVsbCk7dGhpcy5kYT10aGlzLnM9dGhpcy5JPXRoaXMuRGE9bnVsbH07aC5XYT1mdW5jdGlvbigpe3JldHVybiEwfTsKaC5YYT1mdW5jdGlvbihhKXt2YXIgYj1UYyh0aGlzLGEudGFyZ2V0KTtpZigtMTxiJiZiIT10aGlzLmwpe3ZhciBjPUwodGhpcyx0aGlzLmwpO2MmJlAoYywhMSk7dGhpcy5sPWI7Yz1MKHRoaXMsdGhpcy5sKTt0aGlzLlYmJnFkKGMsITApO3RoaXMucyYmYyE9dGhpcy5zJiYoYy52JjY0P3NkKGMsITApOnNkKHRoaXMucywhMSkpfWI9dGhpcy5mKCk7cShiLCJUaGUgRE9NIGVsZW1lbnQgZm9yIHRoZSBjb250YWluZXIgY2Fubm90IGJlIG51bGwuIik7bnVsbCE9YS50YXJnZXQuZigpJiZ4YihiLCJhY3RpdmVkZXNjZW5kYW50IixhLnRhcmdldC5mKCkuaWQpfTtoLmNiPWZ1bmN0aW9uKGEpe2EudGFyZ2V0PT1MKHRoaXMsdGhpcy5sKSYmKHRoaXMubD0tMSk7YT10aGlzLmYoKTtxKGEsIlRoZSBET00gZWxlbWVudCBmb3IgdGhlIGNvbnRhaW5lciBjYW5ub3QgYmUgbnVsbC4iKTthLnJlbW92ZUF0dHJpYnV0ZSh3YigiYWN0aXZlZGVzY2VuZGFudCIpKX07CmguWWE9ZnVuY3Rpb24oYSl7KGE9YS50YXJnZXQpJiZhIT10aGlzLnMmJmEuYj09dGhpcyYmKHRoaXMucyYmc2QodGhpcy5zLCExKSx0aGlzLnM9YSl9O2guVWE9ZnVuY3Rpb24oYSl7YS50YXJnZXQ9PXRoaXMucyYmKHRoaXMucz1udWxsKTt2YXIgYj10aGlzLmYoKSxjPWEudGFyZ2V0LmYoKTtiJiZhLnRhcmdldC5vJjImJmMmJihhPSIiLGMmJihhPWMuaWQscShhLCJUaGUgYWN0aXZlIGVsZW1lbnQgc2hvdWxkIGhhdmUgYW4gaWQuIikpLHhiKGIsImFjdGl2ZWRlc2NlbmRhbnQiLGEpKX07aC5TYT1mdW5jdGlvbihhKXt0aGlzLk8mJih0aGlzLlY9ITApO3ZhciBiPXlkKHRoaXMpO2ImJnNiKGIpJiZ0YihiKT9iLmZvY3VzKCk6YS5nKCl9O2guVmE9ZnVuY3Rpb24oKXt0aGlzLlY9ITF9OwpoLlRhPWZ1bmN0aW9uKGEpe2E6e3ZhciBiPWEudGFyZ2V0O2lmKHRoaXMuSSlmb3IodmFyIGM9dGhpcy5mKCk7YiYmYiE9PWM7KXt2YXIgZD1iLmlkO2lmKGQgaW4gdGhpcy5JKXtiPXRoaXMuSVtkXTticmVhayBhfWI9Yi5wYXJlbnROb2RlfWI9bnVsbH1pZihiKXN3aXRjaChhLnR5cGUpe2Nhc2UgRi5MOmIua2EoYSk7YnJlYWs7Y2FzZSBGLk06Y2FzZSBGLmFhOmIubGEoYSk7YnJlYWs7Y2FzZSAibW91c2VvdmVyIjpiLkFhKGEpO2JyZWFrO2Nhc2UgIm1vdXNlb3V0IjpiLnphKGEpO2JyZWFrO2Nhc2UgImNvbnRleHRtZW51IjpiLmVhKGEpfX07aC5IYT1mdW5jdGlvbigpe307aC5RYT1mdW5jdGlvbigpe0NkKHRoaXMsLTEpO3RoaXMuVj0hMTt0aGlzLnMmJnNkKHRoaXMucywhMSl9OwpoLlJhPWZ1bmN0aW9uKGEpe3JldHVybiB0aGlzLmlzRW5hYmxlZCgpJiZ0aGlzLmlzVmlzaWJsZSgpJiYoMCE9UmModGhpcyl8fHRoaXMuRGEpJiZEZCh0aGlzLGEpPyhhLmcoKSxhLmooKSwhMCk6ITF9Owp2YXIgRGQ9ZnVuY3Rpb24oYSxiKXt2YXIgYz1MKGEsYS5sKTtpZihjJiYiZnVuY3Rpb24iPT10eXBlb2YgYy5mYSYmYy5mYShiKXx8YS5zJiZhLnMhPWMmJiJmdW5jdGlvbiI9PXR5cGVvZiBhLnMuZmEmJmEucy5mYShiKSlyZXR1cm4hMDtpZihiLnNoaWZ0S2V5fHxiLmN0cmxLZXl8fGIubWV0YUtleXx8Yi5hbHRLZXkpcmV0dXJuITE7c3dpdGNoKGIuYyl7Y2FzZSAyNzp5ZChhKS5ibHVyKCk7YnJlYWs7Y2FzZSAzNjpFZChhKTticmVhaztjYXNlIDM1OkZkKGEpO2JyZWFrO2Nhc2UgMzg6aWYoInZlcnRpY2FsIj09YS5IKUdkKGEpO2Vsc2UgcmV0dXJuITE7YnJlYWs7Y2FzZSAzNzppZigiaG9yaXpvbnRhbCI9PWEuSClTYyhhKT9IZChhKTpHZChhKTtlbHNlIHJldHVybiExO2JyZWFrO2Nhc2UgNDA6aWYoInZlcnRpY2FsIj09YS5IKUhkKGEpO2Vsc2UgcmV0dXJuITE7YnJlYWs7Y2FzZSAzOTppZigiaG9yaXpvbnRhbCI9PWEuSClTYyhhKT9HZChhKTpIZChhKTtlbHNlIHJldHVybiExOwpicmVhaztkZWZhdWx0OnJldHVybiExfXJldHVybiEwfSx6ZD1mdW5jdGlvbihhLGIpe3ZhciBjPWIuZigpO2M9Yy5pZHx8KGMuaWQ9TGMoYikpO2EuSXx8KGEuST17fSk7YS5JW2NdPWJ9O1MucHJvdG90eXBlLnNhPWZ1bmN0aW9uKGEsYil7Q2EoYSxOLCJUaGUgY2hpbGQgb2YgYSBjb250YWluZXIgbXVzdCBiZSBhIGNvbnRyb2wiKTtTLmkuc2EuY2FsbCh0aGlzLGEsYil9O1MucHJvdG90eXBlLnRhPWZ1bmN0aW9uKGEsYixjKXtDYShhLE4pO2EuS3w9MjthLkt8PTY0O3RkKGEsMzIsITEpO2EubSYmMCE9YS55YSYmb2QoYSwhMSk7YS55YT0hMTt2YXIgZD1hLmI9PXRoaXM/VGModGhpcyxhKTotMTtTLmkudGEuY2FsbCh0aGlzLGEsYixjKTthLm0mJnRoaXMubSYmemQodGhpcyxhKTthPWQ7LTE9PWEmJihhPVJjKHRoaXMpKTthPT10aGlzLmw/dGhpcy5sPU1hdGgubWluKFJjKHRoaXMpLTEsYik6YT50aGlzLmwmJmI8PXRoaXMubD90aGlzLmwrKzphPHRoaXMubCYmYj50aGlzLmwmJnRoaXMubC0tfTsKdmFyIGFkPWZ1bmN0aW9uKGEsYil7aWYoYS5mKCkpdGhyb3cgRXJyb3IoIkNvbXBvbmVudCBhbHJlYWR5IHJlbmRlcmVkIik7YS5IPWJ9O1MucHJvdG90eXBlLmlzVmlzaWJsZT1mdW5jdGlvbigpe3JldHVybiB0aGlzLlR9O3ZhciBBZD1mdW5jdGlvbihhLGIpe2EuVD1iO3ZhciBjPWEuZigpO2MmJihjLnN0eWxlLmRpc3BsYXk9Yj8iIjoibm9uZSIsWWMoeWQoYSksYS5PJiZhLlQpKX07Uy5wcm90b3R5cGUuaXNFbmFibGVkPWZ1bmN0aW9uKCl7cmV0dXJuIHRoaXMuT307Uy5wcm90b3R5cGUuWj1mdW5jdGlvbihhKXt0aGlzLk8hPWEmJnVjKHRoaXMsYT8iZW5hYmxlIjoiZGlzYWJsZSIpJiYoYT8odGhpcy5PPSEwLFFjKHRoaXMsZnVuY3Rpb24oYil7Yi5MYT9kZWxldGUgYi5MYTpiLlooITApfSkpOihRYyh0aGlzLGZ1bmN0aW9uKGIpe2IuaXNFbmFibGVkKCk/Yi5aKCExKTpiLkxhPSEwfSksdGhpcy5WPXRoaXMuTz0hMSksWWMoeWQodGhpcyksYSYmdGhpcy5UKSl9Owp2YXIgQ2Q9ZnVuY3Rpb24oYSxiKXsoYj1MKGEsYikpP1AoYiwhMCk6LTE8YS5sJiZQKEwoYSxhLmwpLCExKX0sRWQ9ZnVuY3Rpb24oYSl7SWQoYSxmdW5jdGlvbihiLGMpe3JldHVybihiKzEpJWN9LFJjKGEpLTEpfSxGZD1mdW5jdGlvbihhKXtJZChhLGZ1bmN0aW9uKGIsYyl7Yi0tO3JldHVybiAwPmI/Yy0xOmJ9LDApfSxIZD1mdW5jdGlvbihhKXtJZChhLGZ1bmN0aW9uKGIsYyl7cmV0dXJuKGIrMSklY30sYS5sKX0sR2Q9ZnVuY3Rpb24oYSl7SWQoYSxmdW5jdGlvbihiLGMpe2ItLTtyZXR1cm4gMD5iP2MtMTpifSxhLmwpfSxJZD1mdW5jdGlvbihhLGIsYyl7Yz0wPmM/VGMoYSxhLnMpOmM7dmFyIGQ9UmMoYSk7Yz1iLmNhbGwoYSxjLGQpO2Zvcih2YXIgZT0wO2U8PWQ7KXt2YXIgZj1MKGEsYyksZztpZihnPWYpZz1mLmlzVmlzaWJsZSgpJiZmLmlzRW5hYmxlZCgpJiYhIShmLnYmMik7aWYoZyl7YS5FYShjKTticmVha31lKys7Yz1iLmNhbGwoYSxjLGQpfX07ClMucHJvdG90eXBlLkVhPWZ1bmN0aW9uKGEpe0NkKHRoaXMsYSl9O3ZhciBUPWZ1bmN0aW9uKCl7fTtuKFQsTSk7ZGEoVCk7VC5wcm90b3R5cGUuYT1mdW5jdGlvbigpe3JldHVybiJnb29nLXRhYiJ9O1QucHJvdG90eXBlLmg9ZnVuY3Rpb24oKXtyZXR1cm4idGFiIn07VC5wcm90b3R5cGUuYz1mdW5jdGlvbihhKXt2YXIgYj1ULmkuYy5jYWxsKHRoaXMsYSk7KGE9YS5QYSkmJmImJihiLnRpdGxlPWF8fCIiKTtyZXR1cm4gYn07VC5wcm90b3R5cGUuZz1mdW5jdGlvbihhLGIpe2I9VC5pLmcuY2FsbCh0aGlzLGEsYik7dmFyIGM9Yi50aXRsZXx8IiI7YyYmKGEuUGE9Yyk7YS5vJjgmJihjPWEuYikmJmlhKGMuRykmJihRKGEsOCwhMSksYy5HKGEpKTtyZXR1cm4gYn07dmFyIEpkPWZ1bmN0aW9uKGEsYixjKXtOLmNhbGwodGhpcyxhLGJ8fFQuUigpLGMpO3RkKHRoaXMsOCwhMCk7dGhpcy5LfD05fTtuKEpkLE4pO1ZjKCJnb29nLXRhYiIsZnVuY3Rpb24oKXtyZXR1cm4gbmV3IEpkKG51bGwpfSk7dmFyIFU9ZnVuY3Rpb24oKXt0aGlzLmg9InRhYmxpc3QifTtuKFUsWGMpO2RhKFUpO1UucHJvdG90eXBlLmI9ZnVuY3Rpb24oKXtyZXR1cm4iZ29vZy10YWItYmFyIn07VS5wcm90b3R5cGUuZz1mdW5jdGlvbihhLGIsYyl7dGhpcy5qfHwodGhpcy5hfHxLZCh0aGlzKSx0aGlzLmo9c2EodGhpcy5hKSk7dmFyIGQ9dGhpcy5qW2JdO2Q/KGFkKGEsTGQoZCkpLGEuQj1kKTpVLmkuZy5jYWxsKHRoaXMsYSxiLGMpfTtVLnByb3RvdHlwZS5jPWZ1bmN0aW9uKGEpe3ZhciBiPVUuaS5jLmNhbGwodGhpcyxhKTt0aGlzLmF8fEtkKHRoaXMpO2IucHVzaCh0aGlzLmFbYS5CXSk7cmV0dXJuIGJ9O3ZhciBLZD1mdW5jdGlvbihhKXt2YXIgYj1hLmIoKTthLmE9e3RvcDpiKyItdG9wIixib3R0b206YisiLWJvdHRvbSIsc3RhcnQ6YisiLXN0YXJ0IixlbmQ6YisiLWVuZCJ9fTt2YXIgVj1mdW5jdGlvbihhLGIsYyl7YT1hfHwidG9wIjthZCh0aGlzLExkKGEpKTt0aGlzLkI9YTtTLmNhbGwodGhpcyx0aGlzLkgsYnx8VS5SKCksYyk7TWQodGhpcyl9O24oVixTKTtoPVYucHJvdG90eXBlO2guQz1udWxsO2guRD1mdW5jdGlvbigpe1YuaS5ELmNhbGwodGhpcyk7TWQodGhpcyl9O2gudT1mdW5jdGlvbigpe1YuaS51LmNhbGwodGhpcyk7dGhpcy5DPW51bGx9O2guRWE9ZnVuY3Rpb24oYSl7Vi5pLkVhLmNhbGwodGhpcyxhKTt0aGlzLkcoTCh0aGlzLGEpKX07aC5HPWZ1bmN0aW9uKGEpe2E/cmQoYSwhMCk6dGhpcy5DJiZyZCh0aGlzLkMsITEpfTsKdmFyIE5kPWZ1bmN0aW9uKGEsYil7aWYoYiYmYj09YS5DKXtmb3IodmFyIGM9VGMoYSxiKSxkPWMtMTtiPUwoYSxkKTtkLS0pe3ZhciBlPWI7aWYoZS5pc1Zpc2libGUoKSYmZS5pc0VuYWJsZWQoKSl7YS5HKGIpO3JldHVybn19Zm9yKGMrPTE7Yj1MKGEsYyk7YysrKWlmKGQ9YixkLmlzVmlzaWJsZSgpJiZkLmlzRW5hYmxlZCgpKXthLkcoYik7cmV0dXJufWEuRyhudWxsKX19O2g9Vi5wcm90b3R5cGU7aC5hYj1mdW5jdGlvbihhKXt0aGlzLkMmJnRoaXMuQyE9YS50YXJnZXQmJnJkKHRoaXMuQywhMSk7dGhpcy5DPWEudGFyZ2V0fTtoLmJiPWZ1bmN0aW9uKGEpe2EudGFyZ2V0PT10aGlzLkMmJih0aGlzLkM9bnVsbCl9O2guWmE9ZnVuY3Rpb24oYSl7TmQodGhpcyxhLnRhcmdldCl9O2guJGE9ZnVuY3Rpb24oYSl7TmQodGhpcyxhLnRhcmdldCl9O2guSGE9ZnVuY3Rpb24oKXtMKHRoaXMsdGhpcy5sKXx8Q2QodGhpcyxUYyh0aGlzLHRoaXMuQ3x8TCh0aGlzLDApKSl9Owp2YXIgTWQ9ZnVuY3Rpb24oYSl7SChIKEgoSChPYyhhKSxhLCJzZWxlY3QiLGEuYWIpLGEsInVuc2VsZWN0IixhLmJiKSxhLCJkaXNhYmxlIixhLlphKSxhLCJoaWRlIixhLiRhKX0sTGQ9ZnVuY3Rpb24oYSl7cmV0dXJuInN0YXJ0Ij09YXx8ImVuZCI9PWE/InZlcnRpY2FsIjoiaG9yaXpvbnRhbCJ9O1ZjKCJnb29nLXRhYi1iYXIiLGZ1bmN0aW9uKCl7cmV0dXJuIG5ldyBWfSk7ZnVuY3Rpb24gT2QoYSl7dmFyIGI9e3RvcDoiYm90dG9tIixib3R0b206InRvcCIsc3RhcnQ6InJpZ2h0IixlbmQ6ImxlZnQifVthLmxvY2F0aW9uXSxjPWEuZWxlbWVudElkLGQ9ZG9jdW1lbnQuY3JlYXRlRWxlbWVudCgic3R5bGUiKTtkLnRleHRDb250ZW50PSJcbiAgICBmaWVsZHNldCB7XG4gICAgICBwYWRkaW5nOiAxMHB4O1xuICAgICAgYm9yZGVyOiAxcHggc29saWQgIzM2OTtcbiAgICB9XG5cbiAgICAjIitjKyIgLmdvb2ctdGFiLWNvbnRlbnQge1xuICAgICAgbWluLWhlaWdodDogM2VtO1xuICAgICAgbWFyZ2luOiAwO1xuICAgICAgYm9yZGVyOiAiK2EuYm9yZGVyKyIgc29saWQgIithLmJvcmRlckNvbG9yKyI7XG4gICAgICBib3JkZXItdG9wOiAwO1xuICAgICAgaGVpZ2h0OiAiK2EuY29udGVudEhlaWdodCsiO1xuICAgICAgcGFkZGluZzogNHB4IDhweDtcbiAgICAgIG1hcmdpbi1yaWdodDogNHB4O1xuICAgICAgYmFja2dyb3VuZDogdmFyKC0tY29sYWItcHJpbWFyeS1zdXJmYWNlLWNvbG9yKTtcbiAgICAgIG92ZXJmbG93OiBhdXRvO1xuICAgIH1cblxuICAgICMiKwpjKyIgLmdvb2ctdGFiLWJhci0iK2EubG9jYXRpb24rIiAuZ29vZy10YWItc2VsZWN0ZWQge1xuICAgICAgYmFja2dyb3VuZC1jb2xvcjogdmFyKC0tY29sYWItcHJpbWFyeS1zdXJmYWNlLWNvbG9yKTtcbiAgICAgIGJvcmRlcjogMXB4IHNvbGlkICIrYS5ib3JkZXJDb2xvcisiO1xuICAgICAgYm9yZGVyLSIrYisiOiAwcHg7XG4gICAgfVxuXG4gICAgIyIrYysiIC5nb29nLXRhYi1iYXItIithLmxvY2F0aW9uKyIge1xuICAgICAgcGFkZGluZy0iK2EubG9jYXRpb24rIjogNXB4ICFpbXBvcnRhbnQ7XG4gICAgICBib3JkZXItIitiKyI6IDFweCBzb2xpZCAiK2EuYm9yZGVyQ29sb3IrIiAhaW1wb3J0YW50O1xuICAgICAgYmFja2dyb3VuZDogdmFyKC0tY29sYWItcHJpbWFyeS1zdXJmYWNlLWNvbG9yKTtcbiAgICB9XG5cbiAgICAjIitjKyIgLmdvb2ctdGFiLWJhciB7XG4gICAgICAgbWFyZ2luOiAwO1xuICAgICAgIGJvcmRlcjogMDtcbiAgICAgICBwYWRkaW5nOiAwO1xuICAgICAgIGxpc3Qtc3R5bGU6IG5vbmU7XG4gICAgICAgY3Vyc29yOiBkZWZhdWx0O1xuICAgICAgIG91dGxpbmU6IG5vbmU7XG4gICAgICAgYmFja2dyb3VuZDogdmFyKC0tY29sYWItcHJpbWFyeS1zdXJmYWNlLWNvbG9yKTtcbiAgICAgICBtYXJnaW4tcmlnaHQ6IDRweDtcbiAgICAgIH1cblxuICAgICAjIisKYysiIC5nb29nLXRhYiB7XG4gICAgICAgcG9zaXRpb246IHJlbGF0aXZlO1xuICAgICAgIHBhZGRpbmc6IDRweCA4cHg7XG4gICAgICAgY29sb3I6IHZhcigtLWNvbGFiLXByaW1hcnktdGV4dC1jb2xvcik7XG4gICAgICAgdGV4dC1kZWNvcmF0aW9uOiBpbml0aWFsO1xuICAgICAgIGN1cnNvcjogZGVmYXVsdDtcbiAgICAgIH1cblxuICAgICAgIyIrYysiIC5nb29nLXRhYi1ob3ZlciB7XG4gICAgICAgIGJhY2tncm91bmQtY29sb3I6IHZhcigtLWNvbGFiLWhpZ2hsaWdodGVkLXN1cmZhY2UtY29sb3IpO1xuICAgICAgfVxuICAgICAgIjtyZXR1cm4gZH0KdmFyIFBkPWZ1bmN0aW9uKGEpe3ZhciBiPWEuZWxlbWVudElkLGM9YS50YWJOYW1lcyxkPWEuc2VsZWN0ZWRJbmRleDsiY29udGVudEJvcmRlciJpbiBhfHwoYS5jb250ZW50Qm9yZGVyPSIwcHgiKTsiY29udGVudEhlaWdodCJpbiBhfHwoYS5jb250ZW50SGVpZ2h0PSJpbml0aWFsIik7ImJvcmRlckNvbG9yImluIGF8fChhLmJvcmRlckNvbG9yPSJ2YXIoLS1jb2xhYi1ib3JkZXItY29sb3IpIik7YS5sb2NhdGlvbnx8KGEubG9jYXRpb249InRvcCIpO3ZhciBlPWRvY3VtZW50LnF1ZXJ5U2VsZWN0b3IoIiMiK2IpLGY9ZG9jdW1lbnQuY3JlYXRlRWxlbWVudCgiZGl2Iik7Zi5jbGFzc0xpc3QuYWRkKCJnb29nLXRhYi1iYXIiKTt2YXIgZz1hLmxvY2F0aW9uO2YuY2xhc3NMaXN0LmFkZCgiZ29vZy10YWItYmFyLSIrZyk7Zm9yKHZhciBrPVtdLHA9YmEoYyksdz1wLm5leHQoKTshdy5kb25lO3c9cC5uZXh0KCkpe3c9dy52YWx1ZTt2YXIgQj1kb2N1bWVudC5jcmVhdGVFbGVtZW50KCJkaXYiKTsKQi5jbGFzc0xpc3QuYWRkKCJnb29nLXRhYiIpO0IudGV4dENvbnRlbnQ9dztmLmFwcGVuZENoaWxkKEIpO2sucHVzaChCKX0iYm90dG9tIiE9ZyYmZS5hcHBlbmRDaGlsZChmKTtwPW51bGw7aWYoInRvcCI9PWd8fCJib3R0b20iPT1nKXA9ZG9jdW1lbnQuY3JlYXRlRWxlbWVudCgiZGl2IikscC5jbGFzc0xpc3QuYWRkKCJnb29nLXRhYi1iYXItY2xlYXIiKTsidG9wIj09ZyYmcCYmZS5hcHBlbmRDaGlsZChwKTtCPWRvY3VtZW50LmNyZWF0ZUVsZW1lbnQoImRpdiIpO0IuY2xhc3NMaXN0LmFkZCgiZ29vZy10YWItY29udGVudCIpO3ZhciByYT1bXTtjPWJhKGMpO2Zvcih3PWMubmV4dCgpOyF3LmRvbmU7dz1jLm5leHQoKSl3PWRvY3VtZW50LmNyZWF0ZUVsZW1lbnQoImRpdiIpLHcuaWQ9ZS5pZCsiX2NvbnRlbnRfIityYS5sZW5ndGgsdy5zdHlsZS5kaXNwbGF5PSJub25lIixCLmFwcGVuZENoaWxkKHcpLHJhLnB1c2godyk7ZS5hcHBlbmRDaGlsZChCKTsiYm90dG9tIj09ZyYmKHAmJgplLmFwcGVuZENoaWxkKHApLGUuYXBwZW5kQ2hpbGQoZikpO3ZhciBYPW5ldyBWKGcpO1BjKFgsZik7dmFyIFk9LTE7ZGMoWCwic2VsZWN0IixmdW5jdGlvbihaKXtaPWsuaW5kZXhPZihaLnRhcmdldC5mKCkpO1ohPVkmJigwPD1ZJiZZPHJhLmxlbmd0aCYmKHJhW1ldLnN0eWxlLmRpc3BsYXk9Im5vbmUiLFk9LTEpLDA8PVomJlo8cmEubGVuZ3RoJiYoWT1aLHJhW1ldLnN0eWxlLmRpc3BsYXk9ImlubGluZSIsd2luZG93LmRpc3BhdGNoRXZlbnQobmV3IEV2ZW50KCJyZXNpemUiKSksZ29vZ2xlLmNvbGFiLm91dHB1dC5yZXNpemVJZnJhbWVUb0NvbnRlbnQoKSksWC5HKEwoWCxZKSkpfSk7WC5HKEwoWCxkKSk7d2luZG93W2JdPXtzZXRTZWxlY3RlZFRhYkluZGV4OmZ1bmN0aW9uKFope1guRyhMKFgsWikpfX07ZG9jdW1lbnQuaGVhZC5hcHBlbmRDaGlsZChPZChhKSl9LFFkPVsiY29sYWJfbGliIiwiY3JlYXRlVGFiQmFyIl0sVz1sOwpRZFswXWluIFd8fCJ1bmRlZmluZWQiPT10eXBlb2YgVy5leGVjU2NyaXB0fHxXLmV4ZWNTY3JpcHQoInZhciAiK1FkWzBdKTtmb3IodmFyIFJkO1FkLmxlbmd0aCYmKFJkPVFkLnNoaWZ0KCkpOylRZC5sZW5ndGh8fHZvaWQgMD09PVBkP1dbUmRdJiZXW1JkXSE9PU9iamVjdC5wcm90b3R5cGVbUmRdP1c9V1tSZF06Vz1XW1JkXT17fTpXW1JkXT1QZDt9KS5jYWxsKHRoaXMpOwovLyBjbGFuZy1mb3JtYXQgb24K",
              "ok": true,
              "headers": [
                [
                  "content-type",
                  "application/javascript"
                ]
              ],
              "status": 200,
              "status_text": ""
            }
          },
          "base_uri": "https://localhost:8080/",
          "height": 670
        },
        "outputId": "1701cb1b-c3a9-4f5a-85a7-7d6e27619084"
      },
      "source": [
        "import time\n",
        "\n",
        "POOL_SIZE = 100\n",
        "ITERATIONS = 100\n",
        "\n",
        "print(\"Running...\")\n",
        "time1 = time.time()\n",
        "\n",
        "\n",
        "a = Reactables(make_pool(POOL_SIZE))\n",
        "a.simulate(POOL_SIZE, ITERATIONS)\n",
        "\n",
        "\n",
        "time2 = time.time()\n",
        "runduration = time2-time1\n",
        "print(f\"The simulation and history making took {runduration} seconds.\")\n",
        "\n",
        "\n",
        "stats = a.get_stats()\n",
        "\n",
        "\n",
        "\n",
        "plots = [\"parameters\",\"polymer ee spread\",\"ee heatmap\",\"leftright chirality\",\n",
        "         \"homochiral chain lengths\", \"homochirality vs length\",\"leftright Homochirality vs age\",\"Homochirality vs age\", \n",
        "         \"Homochiral chain length vs age\",\"Homochiral length frequency against poisson\",\n",
        "         \"homochirality over time\"]\n",
        "tb = widgets.TabBar(plots)\n",
        "\n",
        "# with tb.output_to(\"parameters\"):\n",
        "#   a.visualize_parameters()\n",
        "\n",
        "with tb.output_to(\"polymer ee spread\"):\n",
        "  df = stats\n",
        "  counts = df.groupby(\"Iteration\")['Signed ee'].value_counts().reset_index(name='count')\n",
        "  fig = px.scatter(counts, x=\"Iteration\", y=\"Signed ee\", size='count')\n",
        "  fig.show()\n",
        "\n",
        "\n",
        "with tb.output_to(\"leftright chirality\"):\n",
        "  import plotly.graph_objects as go\n",
        "\n",
        "  df = stats\n",
        "  lefts = df.groupby(\"Iteration\")[\"#LeftHomochiral\"].sum().rename(\"LL\")\n",
        "  rights = df.groupby(\"Iteration\")[\"#RightHomochiral\"].sum().rename(\"RR\")\n",
        "  heteros = (df.groupby(\"Iteration\")['Length'].sum() - df.groupby(\"Iteration\")['Length'].count()).rename(\"LR\")\n",
        "  bondcounts = pd.DataFrame([lefts, rights, heteros]).transpose()\n",
        "  bondcounts[\"Total\"] = bondcounts[\"LL\"] + bondcounts[\"RR\"] + bondcounts[\"LR\"]\n",
        "  bondcounts = bondcounts.apply(lambda x : x / bondcounts[\"Total\"])\n",
        "  \n",
        "  fig = go.Figure()\n",
        "  fig.add_trace(go.Scatter(y=bondcounts[\"LL\"],\n",
        "                      mode='lines',\n",
        "                      name='left homochiral'))\n",
        "  fig.add_trace(go.Scatter(y=bondcounts[\"RR\"],\n",
        "                      mode='lines',\n",
        "                      name='right homochiral'))\n",
        "  fig.add_trace(go.Scatter(y=bondcounts[\"LR\"],\n",
        "                      mode='lines', name='heterochiral'))\n",
        "  fig.update_layout(title='Proportion of LL, RR, and LR bonds by iteration',\n",
        "                   xaxis_title='Iteration',\n",
        "                   yaxis_title='Proportion')\n",
        "  fig.update_yaxes(range=[0, 1])\n",
        "\n",
        "  fig.show()\n",
        "\n",
        "with tb.output_to(\"homochirality over time\"):\n",
        "  df = stats\n",
        "  maxlen = df[\"Length\"].max()\n",
        "\n",
        "  fig = px.scatter(df, x=\"Length\", y=\"%Homochirality\",animation_frame=\"Iteration\",\n",
        "                   range_x=[-1,maxlen+1],range_y=[-0.01,1.2])\n",
        "  fig.show()\n",
        "\n",
        "# # with tb.output_to(\"ee heatmap\"):\n",
        "# #   a.plot_ee_heatmap()\n",
        "\n",
        "# # with tb.output_to(\"homochiral chain lengths\"):\n",
        "# #   a.plot_homochiral_chain_lengths()\n",
        "\n",
        "with tb.output_to(\"homochirality vs length\"):\n",
        "  df = stats\n",
        "  df = df.groupby(\"Length\")['%Homochirality'].value_counts().reset_index(name='count')\n",
        "  fig = px.scatter(df, x=\"Length\",y=\"%Homochirality\",size='count')\n",
        "  fig.update_traces(marker=dict(line=dict(color='DarkSlateGrey')),\n",
        "                  selector=dict(mode='markers'))\n",
        "  fig.show()\n",
        "\n",
        "# # with tb.output_to(\"leftright Homochirality vs age\"):\n",
        "# #   a.plot_age_vs_homochirality_leftright()\n",
        "\n",
        "with tb.output_to(\"Homochirality vs age\"):\n",
        "  df = stats\n",
        "  df = df.groupby(\"Age\")['%Homochirality'].value_counts().reset_index(name='count')\n",
        "  fig = px.scatter(df, x=\"Age\",y=\"%Homochirality\",size='count')\n",
        "  fig.update_traces(marker=dict(line=dict(color='DarkSlateGrey')),\n",
        "                  selector=dict(mode='markers'))\n",
        "  fig.show()\n",
        "\n",
        "# # with tb.output_to(\"Homochiral chain length vs age\"):\n",
        "# #   a.plot_age_vs_length()\n",
        "\n",
        "# # with tb.output_to(\"Homochiral length frequency against poisson\"):\n",
        "# #   a.plot_homochiral_lengths_vs_poisson()\n",
        "\n",
        "\n",
        "\n",
        "# time3 = time.time()\n",
        "# plottingduration = time3 - time2\n",
        "# print(f\"Plotting took {plottingduration} seconds.\")\n"
      ],
      "execution_count": 30,
      "outputs": [
        {
          "output_type": "stream",
          "text": [
            "Running...\n",
            "The simulation and history making took 0.4282405376434326 seconds.\n"
          ],
          "name": "stdout"
        },
        {
          "output_type": "display_data",
          "data": {
            "text/html": [
              "<link rel=stylesheet type=text/css href='/nbextensions/google.colab/tabbar.css'></link>"
            ],
            "text/plain": [
              "<IPython.core.display.HTML object>"
            ]
          },
          "metadata": {
            "tags": [
              "outputarea_id11"
            ]
          }
        },
        {
          "output_type": "display_data",
          "data": {
            "text/html": [
              "<script src='/nbextensions/google.colab/tabbar_main.min.js'></script>"
            ],
            "text/plain": [
              "<IPython.core.display.HTML object>"
            ]
          },
          "metadata": {
            "tags": [
              "outputarea_id11"
            ]
          }
        },
        {
          "output_type": "display_data",
          "data": {
            "text/html": [
              "<div id=\"id11\"></div>"
            ],
            "text/plain": [
              "<IPython.core.display.HTML object>"
            ]
          },
          "metadata": {
            "tags": [
              "outputarea_id11"
            ]
          }
        },
        {
          "output_type": "display_data",
          "data": {
            "application/javascript": [
              "window[\"fe9431de-bd76-11ea-920b-0242ac1c0002\"] = colab_lib.createTabBar({\"location\": \"top\", \"elementId\": \"id11\", \"tabNames\": [\"parameters\", \"polymer ee spread\", \"ee heatmap\", \"leftright chirality\", \"homochiral chain lengths\", \"homochirality vs length\", \"leftright Homochirality vs age\", \"Homochirality vs age\", \"Homochiral chain length vs age\", \"Homochiral length frequency against poisson\", \"homochirality over time\"], \"initialSelection\": 0, \"contentBorder\": [\"0px\"], \"contentHeight\": [\"initial\"], \"borderColor\": [\"#a7a7a7\"]});\n",
              "//# sourceURL=js_0bd7cf7265"
            ],
            "text/plain": [
              "<IPython.core.display.Javascript object>"
            ]
          },
          "metadata": {
            "tags": [
              "outputarea_id11"
            ]
          }
        },
        {
          "output_type": "display_data",
          "data": {
            "application/javascript": [
              "window[\"fe946f64-bd76-11ea-920b-0242ac1c0002\"] = window[\"id11\"].setSelectedTabIndex(0);\n",
              "//# sourceURL=js_c6306b5b34"
            ],
            "text/plain": [
              "<IPython.core.display.Javascript object>"
            ]
          },
          "metadata": {
            "tags": [
              "outputarea_id11"
            ]
          }
        },
        {
          "output_type": "display_data",
          "data": {
            "application/javascript": [
              "window[\"fe95a7e4-bd76-11ea-920b-0242ac1c0002\"] = google.colab.output.getActiveOutputArea();\n",
              "//# sourceURL=js_cfce67b7f6"
            ],
            "text/plain": [
              "<IPython.core.display.Javascript object>"
            ]
          },
          "metadata": {
            "tags": [
              "id11_content_1",
              "outputarea_id11"
            ]
          }
        },
        {
          "output_type": "display_data",
          "data": {
            "application/javascript": [
              "window[\"fe95ed62-bd76-11ea-920b-0242ac1c0002\"] = document.querySelector(\"#id11_content_1\");\n",
              "//# sourceURL=js_912509353c"
            ],
            "text/plain": [
              "<IPython.core.display.Javascript object>"
            ]
          },
          "metadata": {
            "tags": [
              "id11_content_1",
              "outputarea_id11"
            ]
          }
        },
        {
          "output_type": "display_data",
          "data": {
            "application/javascript": [
              "window[\"fe963362-bd76-11ea-920b-0242ac1c0002\"] = google.colab.output.setActiveOutputArea(window[\"fe95ed62-bd76-11ea-920b-0242ac1c0002\"]);\n",
              "//# sourceURL=js_8735760ec6"
            ],
            "text/plain": [
              "<IPython.core.display.Javascript object>"
            ]
          },
          "metadata": {
            "tags": [
              "id11_content_1",
              "outputarea_id11"
            ]
          }
        },
        {
          "output_type": "display_data",
          "data": {
            "application/javascript": [
              "window[\"fe967fac-bd76-11ea-920b-0242ac1c0002\"] = window[\"id11\"].setSelectedTabIndex(1);\n",
              "//# sourceURL=js_9da47e39fd"
            ],
            "text/plain": [
              "<IPython.core.display.Javascript object>"
            ]
          },
          "metadata": {
            "tags": [
              "id11_content_1",
              "outputarea_id11"
            ]
          }
        },
        {
          "output_type": "display_data",
          "data": {
            "text/html": [
              "<html>\n",
              "<head><meta charset=\"utf-8\" /></head>\n",
              "<body>\n",
              "    <div>\n",
              "            <script src=\"https://cdnjs.cloudflare.com/ajax/libs/mathjax/2.7.5/MathJax.js?config=TeX-AMS-MML_SVG\"></script><script type=\"text/javascript\">if (window.MathJax) {MathJax.Hub.Config({SVG: {font: \"STIX-Web\"}});}</script>\n",
              "                <script type=\"text/javascript\">window.PlotlyConfig = {MathJaxConfig: 'local'};</script>\n",
              "        <script src=\"https://cdn.plot.ly/plotly-latest.min.js\"></script>    \n",
              "            <div id=\"0f0e20c5-2c95-4f69-ba55-5ed586e3db2e\" class=\"plotly-graph-div\" style=\"height:525px; width:100%;\"></div>\n",
              "            <script type=\"text/javascript\">\n",
              "                \n",
              "                    window.PLOTLYENV=window.PLOTLYENV || {};\n",
              "                    \n",
              "                if (document.getElementById(\"0f0e20c5-2c95-4f69-ba55-5ed586e3db2e\")) {\n",
              "                    Plotly.newPlot(\n",
              "                        '0f0e20c5-2c95-4f69-ba55-5ed586e3db2e',\n",
              "                        [{\"hoverlabel\": {\"namelength\": 0}, \"hovertemplate\": \"Iteration=%{x}<br>Signed ee=%{y}<br>count=%{marker.size}\", \"legendgroup\": \"\", \"marker\": {\"color\": \"#636efa\", \"size\": [9, 3, 2, 6, 5, 4, 2, 2, 1, 5, 4, 4, 4, 3, 1, 1, 1, 7, 7, 4, 4, 1, 1, 1, 1, 6, 6, 4, 3, 2, 1, 1, 1, 1, 1, 1, 1, 7, 6, 5, 3, 3, 2, 2, 2, 1, 7, 5, 5, 3, 3, 2, 2, 1, 1, 1, 1, 1, 9, 5, 4, 3, 3, 2, 2, 1, 1, 1, 1, 1, 1, 8, 5, 5, 4, 3, 2, 2, 2, 1, 1, 1, 1, 11, 10, 5, 3, 3, 2, 1, 1, 1, 1, 1, 1, 1, 7, 5, 4, 4, 3, 2, 2, 1, 1, 1, 1, 1, 1, 1, 1, 7, 5, 5, 4, 2, 2, 1, 1, 1, 1, 1, 1, 1, 1, 1, 1, 8, 6, 3, 3, 2, 1, 1, 1, 1, 1, 1, 1, 1, 1, 1, 6, 5, 4, 2, 2, 2, 2, 1, 1, 1, 1, 1, 1, 1, 1, 5, 5, 4, 4, 2, 2, 2, 1, 1, 1, 1, 1, 1, 1, 1, 8, 6, 5, 5, 2, 2, 1, 1, 1, 1, 1, 1, 1, 1, 1, 1, 8, 8, 6, 5, 3, 3, 1, 1, 1, 1, 1, 1, 1, 8, 5, 4, 3, 2, 2, 2, 1, 1, 1, 1, 1, 1, 1, 1, 5, 5, 4, 4, 3, 2, 1, 1, 1, 1, 1, 1, 1, 1, 1, 1, 1, 8, 6, 4, 2, 2, 2, 2, 1, 1, 1, 1, 1, 1, 1, 1, 1, 1, 1, 7, 5, 2, 2, 1, 1, 1, 1, 1, 1, 1, 1, 1, 1, 1, 1, 1, 1, 1, 1, 7, 5, 5, 3, 3, 2, 2, 1, 1, 1, 1, 1, 1, 1, 1, 1, 1, 9, 5, 4, 2, 2, 2, 1, 1, 1, 1, 1, 1, 1, 1, 1, 1, 1, 1, 1, 1, 1, 9, 5, 5, 3, 2, 2, 2, 1, 1, 1, 1, 1, 1, 1, 1, 1, 1, 1, 7, 3, 2, 2, 2, 2, 1, 1, 1, 1, 1, 1, 1, 1, 1, 1, 1, 1, 1, 13, 6, 5, 2, 2, 2, 1, 1, 1, 1, 1, 1, 1, 1, 1, 1, 1, 6, 6, 5, 3, 3, 2, 2, 1, 1, 1, 1, 1, 1, 1, 1, 1, 7, 3, 3, 2, 2, 1, 1, 1, 1, 1, 1, 1, 1, 1, 1, 1, 1, 1, 1, 1, 3, 3, 3, 3, 2, 2, 2, 1, 1, 1, 1, 1, 1, 1, 1, 1, 1, 1, 1, 1, 6, 3, 3, 2, 2, 2, 2, 2, 1, 1, 1, 1, 1, 1, 1, 1, 1, 1, 1, 1, 1, 1, 1, 6, 3, 2, 2, 2, 2, 2, 2, 1, 1, 1, 1, 1, 1, 1, 1, 1, 1, 1, 1, 1, 1, 1, 1, 7, 3, 2, 2, 2, 1, 1, 1, 1, 1, 1, 1, 1, 1, 1, 1, 1, 1, 1, 1, 1, 1, 9, 5, 2, 2, 2, 2, 2, 1, 1, 1, 1, 1, 1, 1, 1, 1, 1, 1, 1, 1, 6, 5, 4, 4, 1, 1, 1, 1, 1, 1, 1, 1, 1, 1, 1, 1, 1, 1, 6, 3, 3, 3, 3, 1, 1, 1, 1, 1, 1, 1, 1, 1, 1, 1, 1, 1, 1, 1, 1, 10, 9, 4, 2, 2, 2, 1, 1, 1, 1, 1, 1, 1, 1, 1, 1, 1, 1, 1, 7, 5, 4, 4, 4, 2, 2, 1, 1, 1, 1, 1, 1, 1, 1, 1, 1, 1, 1, 1, 1, 1, 1, 7, 7, 4, 3, 2, 2, 2, 1, 1, 1, 1, 1, 1, 1, 1, 1, 1, 1, 1, 1, 1, 1, 1, 8, 5, 4, 3, 2, 2, 1, 1, 1, 1, 1, 1, 1, 1, 1, 1, 1, 1, 1, 1, 1, 1, 1, 1, 11, 7, 7, 2, 2, 2, 2, 2, 1, 1, 1, 1, 1, 1, 1, 1, 1, 1, 1, 1, 1, 1, 1, 1, 7, 6, 4, 3, 3, 2, 2, 2, 1, 1, 1, 1, 1, 1, 1, 1, 1, 1, 1, 1, 1, 1, 1, 1, 1, 1, 1, 8, 7, 2, 2, 2, 1, 1, 1, 1, 1, 1, 1, 1, 1, 1, 1, 1, 1, 1, 1, 1, 1, 1, 1, 1, 1, 1, 9, 8, 5, 5, 4, 3, 2, 1, 1, 1, 1, 1, 1, 1, 1, 1, 1, 1, 1, 1, 1, 1, 5, 5, 3, 3, 2, 2, 2, 2, 2, 1, 1, 1, 1, 1, 1, 1, 1, 1, 1, 1, 1, 1, 1, 1, 7, 3, 3, 2, 2, 2, 2, 1, 1, 1, 1, 1, 1, 1, 1, 1, 1, 1, 1, 1, 1, 1, 7, 5, 4, 4, 3, 2, 2, 1, 1, 1, 1, 1, 1, 1, 1, 1, 1, 1, 1, 1, 7, 3, 3, 2, 2, 2, 2, 1, 1, 1, 1, 1, 1, 1, 1, 1, 1, 1, 1, 1, 1, 1, 1, 1, 8, 5, 3, 3, 2, 2, 2, 1, 1, 1, 1, 1, 1, 1, 1, 1, 1, 1, 1, 1, 1, 1, 1, 1, 1, 1, 6, 3, 3, 2, 2, 1, 1, 1, 1, 1, 1, 1, 1, 1, 1, 1, 1, 1, 1, 1, 1, 1, 1, 1, 1, 1, 1, 1, 3, 3, 3, 3, 2, 2, 2, 2, 1, 1, 1, 1, 1, 1, 1, 1, 1, 1, 1, 1, 1, 1, 1, 1, 1, 5, 4, 2, 2, 1, 1, 1, 1, 1, 1, 1, 1, 1, 1, 1, 1, 1, 1, 1, 1, 1, 1, 1, 1, 1, 4, 4, 3, 3, 2, 2, 2, 1, 1, 1, 1, 1, 1, 1, 1, 1, 1, 1, 1, 1, 1, 1, 1, 9, 5, 4, 2, 2, 2, 1, 1, 1, 1, 1, 1, 1, 1, 1, 1, 1, 1, 1, 1, 1, 1, 1, 1, 1, 1, 1, 1, 7, 4, 3, 2, 2, 2, 2, 1, 1, 1, 1, 1, 1, 1, 1, 1, 1, 1, 1, 1, 1, 1, 1, 1, 1, 1, 1, 6, 5, 2, 2, 2, 2, 1, 1, 1, 1, 1, 1, 1, 1, 1, 1, 1, 1, 1, 1, 1, 1, 1, 1, 1, 1, 1, 11, 7, 7, 3, 2, 2, 2, 1, 1, 1, 1, 1, 1, 1, 1, 1, 1, 1, 1, 1, 1, 1, 1, 1, 1, 1, 1, 1, 7, 7, 5, 4, 4, 3, 2, 2, 2, 2, 1, 1, 1, 1, 1, 1, 1, 1, 1, 1, 1, 1, 1, 1, 1, 1, 1, 1, 6, 4, 4, 4, 3, 2, 2, 2, 1, 1, 1, 1, 1, 1, 1, 1, 1, 1, 1, 1, 1, 1, 1, 1, 1, 1, 1, 1, 1, 1, 12, 4, 3, 3, 2, 2, 2, 2, 2, 1, 1, 1, 1, 1, 1, 1, 1, 1, 1, 1, 1, 1, 1, 1, 1, 1, 8, 4, 2, 2, 2, 2, 1, 1, 1, 1, 1, 1, 1, 1, 1, 1, 1, 1, 1, 1, 1, 1, 1, 1, 1, 1, 1, 1, 13, 4, 4, 3, 3, 3, 2, 2, 2, 1, 1, 1, 1, 1, 1, 1, 1, 1, 1, 1, 1, 1, 1, 1, 1, 1, 1, 1, 1, 9, 9, 5, 2, 2, 1, 1, 1, 1, 1, 1, 1, 1, 1, 1, 1, 1, 1, 1, 1, 1, 1, 1, 1, 1, 1, 1, 1, 7, 5, 4, 4, 3, 3, 3, 2, 1, 1, 1, 1, 1, 1, 1, 1, 1, 1, 1, 1, 1, 1, 1, 1, 1, 1, 1, 1, 1, 1, 9, 3, 3, 2, 2, 2, 1, 1, 1, 1, 1, 1, 1, 1, 1, 1, 1, 1, 1, 1, 1, 1, 1, 1, 1, 1, 1, 1, 1, 6, 2, 2, 2, 2, 2, 2, 1, 1, 1, 1, 1, 1, 1, 1, 1, 1, 1, 1, 1, 1, 1, 1, 1, 1, 1, 1, 1, 1, 1, 6, 4, 3, 3, 2, 2, 2, 1, 1, 1, 1, 1, 1, 1, 1, 1, 1, 1, 1, 1, 1, 1, 1, 1, 1, 1, 1, 7, 5, 5, 3, 3, 1, 1, 1, 1, 1, 1, 1, 1, 1, 1, 1, 1, 1, 1, 1, 1, 1, 1, 1, 1, 8, 4, 3, 3, 2, 2, 2, 2, 1, 1, 1, 1, 1, 1, 1, 1, 1, 1, 1, 1, 1, 1, 1, 1, 8, 4, 3, 3, 1, 1, 1, 1, 1, 1, 1, 1, 1, 1, 1, 1, 1, 1, 1, 1, 1, 1, 1, 1, 1, 6, 4, 2, 2, 2, 2, 2, 1, 1, 1, 1, 1, 1, 1, 1, 1, 1, 1, 1, 1, 1, 1, 1, 1, 1, 1, 5, 4, 3, 3, 1, 1, 1, 1, 1, 1, 1, 1, 1, 1, 1, 1, 1, 1, 1, 1, 1, 1, 1, 1, 1, 1, 6, 5, 4, 3, 1, 1, 1, 1, 1, 1, 1, 1, 1, 1, 1, 1, 1, 1, 1, 1, 1, 1, 1, 1, 1, 1, 8, 4, 3, 2, 1, 1, 1, 1, 1, 1, 1, 1, 1, 1, 1, 1, 1, 1, 1, 1, 1, 1, 1, 1, 1, 5, 4, 2, 2, 1, 1, 1, 1, 1, 1, 1, 1, 1, 1, 1, 1, 1, 1, 1, 1, 1, 1, 1, 1, 8, 3, 3, 2, 2, 2, 1, 1, 1, 1, 1, 1, 1, 1, 1, 1, 1, 1, 1, 1, 1, 1, 1, 8, 2, 2, 2, 2, 2, 1, 1, 1, 1, 1, 1, 1, 1, 1, 1, 1, 1, 1, 1, 1, 1, 1, 1, 1, 1, 5, 4, 4, 3, 3, 2, 2, 1, 1, 1, 1, 1, 1, 1, 1, 1, 1, 1, 1, 6, 3, 3, 2, 2, 2, 1, 1, 1, 1, 1, 1, 1, 1, 1, 1, 1, 1, 1, 1, 1, 1, 1, 6, 3, 3, 2, 2, 2, 1, 1, 1, 1, 1, 1, 1, 1, 1, 1, 1, 1, 1, 1, 1, 1, 1, 1, 1, 1, 1, 1, 1, 8, 5, 4, 3, 2, 2, 1, 1, 1, 1, 1, 1, 1, 1, 1, 1, 1, 1, 1, 1, 1, 1, 1, 1, 1, 1, 6, 5, 3, 2, 2, 2, 1, 1, 1, 1, 1, 1, 1, 1, 1, 1, 1, 1, 1, 1, 1, 1, 1, 1, 1, 1, 1, 1, 1, 1, 1, 8, 5, 3, 2, 2, 2, 2, 1, 1, 1, 1, 1, 1, 1, 1, 1, 1, 1, 1, 1, 1, 1, 1, 1, 1, 10, 5, 3, 2, 1, 1, 1, 1, 1, 1, 1, 1, 1, 1, 1, 1, 1, 1, 1, 1, 1, 1, 1, 1, 1, 1, 1, 1, 7, 5, 4, 2, 2, 1, 1, 1, 1, 1, 1, 1, 1, 1, 1, 1, 1, 1, 1, 1, 1, 1, 1, 1, 8, 4, 4, 3, 2, 1, 1, 1, 1, 1, 1, 1, 1, 1, 1, 1, 1, 1, 1, 1, 1, 1, 1, 1, 1, 1, 1, 7, 6, 5, 4, 2, 2, 2, 1, 1, 1, 1, 1, 1, 1, 1, 1, 1, 1, 1, 1, 1, 1, 1, 1, 1, 1, 1, 1, 1, 7, 3, 3, 2, 2, 2, 1, 1, 1, 1, 1, 1, 1, 1, 1, 1, 1, 1, 1, 1, 1, 1, 1, 1, 1, 1, 1, 9, 4, 3, 2, 2, 1, 1, 1, 1, 1, 1, 1, 1, 1, 1, 1, 1, 1, 1, 1, 1, 1, 1, 1, 1, 1, 1, 1, 9, 5, 3, 2, 2, 2, 1, 1, 1, 1, 1, 1, 1, 1, 1, 1, 1, 1, 1, 1, 1, 1, 1, 1, 1, 1, 1, 6, 6, 4, 3, 3, 2, 2, 2, 1, 1, 1, 1, 1, 1, 1, 1, 1, 1, 1, 1, 1, 1, 1, 1, 1, 1, 1, 1, 1, 1, 1, 1, 1, 1, 8, 5, 4, 4, 3, 2, 2, 2, 1, 1, 1, 1, 1, 1, 1, 1, 1, 1, 1, 1, 1, 1, 1, 1, 1, 1, 1, 1, 1, 1, 8, 4, 3, 2, 2, 2, 2, 1, 1, 1, 1, 1, 1, 1, 1, 1, 1, 1, 1, 1, 1, 1, 1, 1, 1, 1, 1, 9, 8, 4, 2, 2, 2, 2, 2, 2, 1, 1, 1, 1, 1, 1, 1, 1, 1, 1, 1, 1, 1, 1, 1, 8, 6, 4, 3, 2, 2, 1, 1, 1, 1, 1, 1, 1, 1, 1, 1, 1, 1, 1, 1, 1, 1, 1, 1, 1, 1, 1, 5, 4, 3, 3, 2, 2, 2, 1, 1, 1, 1, 1, 1, 1, 1, 1, 1, 1, 1, 1, 1, 1, 1, 1, 1, 1, 1, 1, 1, 1, 1, 7, 4, 4, 3, 2, 2, 2, 2, 1, 1, 1, 1, 1, 1, 1, 1, 1, 1, 1, 1, 1, 1, 1, 1, 1, 1, 1, 1, 1, 4, 3, 3, 3, 3, 3, 2, 2, 1, 1, 1, 1, 1, 1, 1, 1, 1, 1, 1, 1, 1, 1, 1, 1, 1, 1, 1, 1, 1, 1, 5, 3, 1, 1, 1, 1, 1, 1, 1, 1, 1, 1, 1, 1, 1, 1, 1, 1, 1, 1, 1, 1, 1, 1, 1, 1, 1, 1, 1, 1, 1, 1, 1, 1, 1, 10, 4, 3, 2, 2, 2, 2, 1, 1, 1, 1, 1, 1, 1, 1, 1, 1, 1, 1, 1, 1, 1, 1, 1, 1, 1, 1, 1, 1, 1, 1, 1, 5, 4, 3, 3, 2, 2, 2, 2, 2, 1, 1, 1, 1, 1, 1, 1, 1, 1, 1, 1, 1, 1, 1, 1, 1, 1, 1, 1, 1, 1, 1, 1, 1, 1], \"sizemode\": \"area\", \"sizeref\": 0.0325, \"symbol\": \"circle\"}, \"mode\": \"markers\", \"name\": \"\", \"showlegend\": false, \"type\": \"scattergl\", \"x\": [0, 0, 0, 1, 1, 1, 1, 1, 1, 2, 2, 2, 2, 2, 2, 2, 2, 3, 3, 3, 3, 3, 3, 3, 3, 4, 4, 4, 4, 4, 4, 4, 4, 4, 4, 4, 4, 5, 5, 5, 5, 5, 5, 5, 5, 5, 6, 6, 6, 6, 6, 6, 6, 6, 6, 6, 6, 6, 7, 7, 7, 7, 7, 7, 7, 7, 7, 7, 7, 7, 7, 8, 8, 8, 8, 8, 8, 8, 8, 8, 8, 8, 8, 9, 9, 9, 9, 9, 9, 9, 9, 9, 9, 9, 9, 9, 10, 10, 10, 10, 10, 10, 10, 10, 10, 10, 10, 10, 10, 10, 10, 11, 11, 11, 11, 11, 11, 11, 11, 11, 11, 11, 11, 11, 11, 11, 11, 12, 12, 12, 12, 12, 12, 12, 12, 12, 12, 12, 12, 12, 12, 12, 13, 13, 13, 13, 13, 13, 13, 13, 13, 13, 13, 13, 13, 13, 13, 14, 14, 14, 14, 14, 14, 14, 14, 14, 14, 14, 14, 14, 14, 14, 15, 15, 15, 15, 15, 15, 15, 15, 15, 15, 15, 15, 15, 15, 15, 15, 16, 16, 16, 16, 16, 16, 16, 16, 16, 16, 16, 16, 16, 17, 17, 17, 17, 17, 17, 17, 17, 17, 17, 17, 17, 17, 17, 17, 18, 18, 18, 18, 18, 18, 18, 18, 18, 18, 18, 18, 18, 18, 18, 18, 18, 19, 19, 19, 19, 19, 19, 19, 19, 19, 19, 19, 19, 19, 19, 19, 19, 19, 19, 20, 20, 20, 20, 20, 20, 20, 20, 20, 20, 20, 20, 20, 20, 20, 20, 20, 20, 20, 20, 21, 21, 21, 21, 21, 21, 21, 21, 21, 21, 21, 21, 21, 21, 21, 21, 21, 22, 22, 22, 22, 22, 22, 22, 22, 22, 22, 22, 22, 22, 22, 22, 22, 22, 22, 22, 22, 22, 23, 23, 23, 23, 23, 23, 23, 23, 23, 23, 23, 23, 23, 23, 23, 23, 23, 23, 24, 24, 24, 24, 24, 24, 24, 24, 24, 24, 24, 24, 24, 24, 24, 24, 24, 24, 24, 25, 25, 25, 25, 25, 25, 25, 25, 25, 25, 25, 25, 25, 25, 25, 25, 25, 26, 26, 26, 26, 26, 26, 26, 26, 26, 26, 26, 26, 26, 26, 26, 26, 27, 27, 27, 27, 27, 27, 27, 27, 27, 27, 27, 27, 27, 27, 27, 27, 27, 27, 27, 27, 28, 28, 28, 28, 28, 28, 28, 28, 28, 28, 28, 28, 28, 28, 28, 28, 28, 28, 28, 28, 29, 29, 29, 29, 29, 29, 29, 29, 29, 29, 29, 29, 29, 29, 29, 29, 29, 29, 29, 29, 29, 29, 29, 30, 30, 30, 30, 30, 30, 30, 30, 30, 30, 30, 30, 30, 30, 30, 30, 30, 30, 30, 30, 30, 30, 30, 30, 31, 31, 31, 31, 31, 31, 31, 31, 31, 31, 31, 31, 31, 31, 31, 31, 31, 31, 31, 31, 31, 31, 32, 32, 32, 32, 32, 32, 32, 32, 32, 32, 32, 32, 32, 32, 32, 32, 32, 32, 32, 32, 33, 33, 33, 33, 33, 33, 33, 33, 33, 33, 33, 33, 33, 33, 33, 33, 33, 33, 34, 34, 34, 34, 34, 34, 34, 34, 34, 34, 34, 34, 34, 34, 34, 34, 34, 34, 34, 34, 34, 35, 35, 35, 35, 35, 35, 35, 35, 35, 35, 35, 35, 35, 35, 35, 35, 35, 35, 35, 36, 36, 36, 36, 36, 36, 36, 36, 36, 36, 36, 36, 36, 36, 36, 36, 36, 36, 36, 36, 36, 36, 36, 37, 37, 37, 37, 37, 37, 37, 37, 37, 37, 37, 37, 37, 37, 37, 37, 37, 37, 37, 37, 37, 37, 37, 38, 38, 38, 38, 38, 38, 38, 38, 38, 38, 38, 38, 38, 38, 38, 38, 38, 38, 38, 38, 38, 38, 38, 38, 39, 39, 39, 39, 39, 39, 39, 39, 39, 39, 39, 39, 39, 39, 39, 39, 39, 39, 39, 39, 39, 39, 39, 39, 40, 40, 40, 40, 40, 40, 40, 40, 40, 40, 40, 40, 40, 40, 40, 40, 40, 40, 40, 40, 40, 40, 40, 40, 40, 40, 40, 41, 41, 41, 41, 41, 41, 41, 41, 41, 41, 41, 41, 41, 41, 41, 41, 41, 41, 41, 41, 41, 41, 41, 41, 41, 41, 41, 42, 42, 42, 42, 42, 42, 42, 42, 42, 42, 42, 42, 42, 42, 42, 42, 42, 42, 42, 42, 42, 42, 43, 43, 43, 43, 43, 43, 43, 43, 43, 43, 43, 43, 43, 43, 43, 43, 43, 43, 43, 43, 43, 43, 43, 43, 44, 44, 44, 44, 44, 44, 44, 44, 44, 44, 44, 44, 44, 44, 44, 44, 44, 44, 44, 44, 44, 44, 45, 45, 45, 45, 45, 45, 45, 45, 45, 45, 45, 45, 45, 45, 45, 45, 45, 45, 45, 45, 46, 46, 46, 46, 46, 46, 46, 46, 46, 46, 46, 46, 46, 46, 46, 46, 46, 46, 46, 46, 46, 46, 46, 46, 47, 47, 47, 47, 47, 47, 47, 47, 47, 47, 47, 47, 47, 47, 47, 47, 47, 47, 47, 47, 47, 47, 47, 47, 47, 47, 48, 48, 48, 48, 48, 48, 48, 48, 48, 48, 48, 48, 48, 48, 48, 48, 48, 48, 48, 48, 48, 48, 48, 48, 48, 48, 48, 48, 49, 49, 49, 49, 49, 49, 49, 49, 49, 49, 49, 49, 49, 49, 49, 49, 49, 49, 49, 49, 49, 49, 49, 49, 49, 50, 50, 50, 50, 50, 50, 50, 50, 50, 50, 50, 50, 50, 50, 50, 50, 50, 50, 50, 50, 50, 50, 50, 50, 50, 51, 51, 51, 51, 51, 51, 51, 51, 51, 51, 51, 51, 51, 51, 51, 51, 51, 51, 51, 51, 51, 51, 51, 52, 52, 52, 52, 52, 52, 52, 52, 52, 52, 52, 52, 52, 52, 52, 52, 52, 52, 52, 52, 52, 52, 52, 52, 52, 52, 52, 52, 53, 53, 53, 53, 53, 53, 53, 53, 53, 53, 53, 53, 53, 53, 53, 53, 53, 53, 53, 53, 53, 53, 53, 53, 53, 53, 53, 54, 54, 54, 54, 54, 54, 54, 54, 54, 54, 54, 54, 54, 54, 54, 54, 54, 54, 54, 54, 54, 54, 54, 54, 54, 54, 54, 55, 55, 55, 55, 55, 55, 55, 55, 55, 55, 55, 55, 55, 55, 55, 55, 55, 55, 55, 55, 55, 55, 55, 55, 55, 55, 55, 55, 56, 56, 56, 56, 56, 56, 56, 56, 56, 56, 56, 56, 56, 56, 56, 56, 56, 56, 56, 56, 56, 56, 56, 56, 56, 56, 56, 56, 57, 57, 57, 57, 57, 57, 57, 57, 57, 57, 57, 57, 57, 57, 57, 57, 57, 57, 57, 57, 57, 57, 57, 57, 57, 57, 57, 57, 57, 57, 58, 58, 58, 58, 58, 58, 58, 58, 58, 58, 58, 58, 58, 58, 58, 58, 58, 58, 58, 58, 58, 58, 58, 58, 58, 58, 59, 59, 59, 59, 59, 59, 59, 59, 59, 59, 59, 59, 59, 59, 59, 59, 59, 59, 59, 59, 59, 59, 59, 59, 59, 59, 59, 59, 60, 60, 60, 60, 60, 60, 60, 60, 60, 60, 60, 60, 60, 60, 60, 60, 60, 60, 60, 60, 60, 60, 60, 60, 60, 60, 60, 60, 60, 61, 61, 61, 61, 61, 61, 61, 61, 61, 61, 61, 61, 61, 61, 61, 61, 61, 61, 61, 61, 61, 61, 61, 61, 61, 61, 61, 61, 62, 62, 62, 62, 62, 62, 62, 62, 62, 62, 62, 62, 62, 62, 62, 62, 62, 62, 62, 62, 62, 62, 62, 62, 62, 62, 62, 62, 62, 62, 63, 63, 63, 63, 63, 63, 63, 63, 63, 63, 63, 63, 63, 63, 63, 63, 63, 63, 63, 63, 63, 63, 63, 63, 63, 63, 63, 63, 63, 64, 64, 64, 64, 64, 64, 64, 64, 64, 64, 64, 64, 64, 64, 64, 64, 64, 64, 64, 64, 64, 64, 64, 64, 64, 64, 64, 64, 64, 64, 65, 65, 65, 65, 65, 65, 65, 65, 65, 65, 65, 65, 65, 65, 65, 65, 65, 65, 65, 65, 65, 65, 65, 65, 65, 65, 65, 66, 66, 66, 66, 66, 66, 66, 66, 66, 66, 66, 66, 66, 66, 66, 66, 66, 66, 66, 66, 66, 66, 66, 66, 66, 67, 67, 67, 67, 67, 67, 67, 67, 67, 67, 67, 67, 67, 67, 67, 67, 67, 67, 67, 67, 67, 67, 67, 67, 68, 68, 68, 68, 68, 68, 68, 68, 68, 68, 68, 68, 68, 68, 68, 68, 68, 68, 68, 68, 68, 68, 68, 68, 68, 69, 69, 69, 69, 69, 69, 69, 69, 69, 69, 69, 69, 69, 69, 69, 69, 69, 69, 69, 69, 69, 69, 69, 69, 69, 69, 70, 70, 70, 70, 70, 70, 70, 70, 70, 70, 70, 70, 70, 70, 70, 70, 70, 70, 70, 70, 70, 70, 70, 70, 70, 70, 71, 71, 71, 71, 71, 71, 71, 71, 71, 71, 71, 71, 71, 71, 71, 71, 71, 71, 71, 71, 71, 71, 71, 71, 71, 71, 72, 72, 72, 72, 72, 72, 72, 72, 72, 72, 72, 72, 72, 72, 72, 72, 72, 72, 72, 72, 72, 72, 72, 72, 72, 73, 73, 73, 73, 73, 73, 73, 73, 73, 73, 73, 73, 73, 73, 73, 73, 73, 73, 73, 73, 73, 73, 73, 73, 74, 74, 74, 74, 74, 74, 74, 74, 74, 74, 74, 74, 74, 74, 74, 74, 74, 74, 74, 74, 74, 74, 74, 75, 75, 75, 75, 75, 75, 75, 75, 75, 75, 75, 75, 75, 75, 75, 75, 75, 75, 75, 75, 75, 75, 75, 75, 75, 75, 76, 76, 76, 76, 76, 76, 76, 76, 76, 76, 76, 76, 76, 76, 76, 76, 76, 76, 76, 77, 77, 77, 77, 77, 77, 77, 77, 77, 77, 77, 77, 77, 77, 77, 77, 77, 77, 77, 77, 77, 77, 77, 78, 78, 78, 78, 78, 78, 78, 78, 78, 78, 78, 78, 78, 78, 78, 78, 78, 78, 78, 78, 78, 78, 78, 78, 78, 78, 78, 78, 78, 79, 79, 79, 79, 79, 79, 79, 79, 79, 79, 79, 79, 79, 79, 79, 79, 79, 79, 79, 79, 79, 79, 79, 79, 79, 79, 80, 80, 80, 80, 80, 80, 80, 80, 80, 80, 80, 80, 80, 80, 80, 80, 80, 80, 80, 80, 80, 80, 80, 80, 80, 80, 80, 80, 80, 80, 80, 81, 81, 81, 81, 81, 81, 81, 81, 81, 81, 81, 81, 81, 81, 81, 81, 81, 81, 81, 81, 81, 81, 81, 81, 81, 82, 82, 82, 82, 82, 82, 82, 82, 82, 82, 82, 82, 82, 82, 82, 82, 82, 82, 82, 82, 82, 82, 82, 82, 82, 82, 82, 82, 83, 83, 83, 83, 83, 83, 83, 83, 83, 83, 83, 83, 83, 83, 83, 83, 83, 83, 83, 83, 83, 83, 83, 83, 84, 84, 84, 84, 84, 84, 84, 84, 84, 84, 84, 84, 84, 84, 84, 84, 84, 84, 84, 84, 84, 84, 84, 84, 84, 84, 84, 85, 85, 85, 85, 85, 85, 85, 85, 85, 85, 85, 85, 85, 85, 85, 85, 85, 85, 85, 85, 85, 85, 85, 85, 85, 85, 85, 85, 85, 86, 86, 86, 86, 86, 86, 86, 86, 86, 86, 86, 86, 86, 86, 86, 86, 86, 86, 86, 86, 86, 86, 86, 86, 86, 86, 86, 87, 87, 87, 87, 87, 87, 87, 87, 87, 87, 87, 87, 87, 87, 87, 87, 87, 87, 87, 87, 87, 87, 87, 87, 87, 87, 87, 87, 88, 88, 88, 88, 88, 88, 88, 88, 88, 88, 88, 88, 88, 88, 88, 88, 88, 88, 88, 88, 88, 88, 88, 88, 88, 88, 88, 89, 89, 89, 89, 89, 89, 89, 89, 89, 89, 89, 89, 89, 89, 89, 89, 89, 89, 89, 89, 89, 89, 89, 89, 89, 89, 89, 89, 89, 89, 89, 89, 89, 89, 90, 90, 90, 90, 90, 90, 90, 90, 90, 90, 90, 90, 90, 90, 90, 90, 90, 90, 90, 90, 90, 90, 90, 90, 90, 90, 90, 90, 90, 90, 91, 91, 91, 91, 91, 91, 91, 91, 91, 91, 91, 91, 91, 91, 91, 91, 91, 91, 91, 91, 91, 91, 91, 91, 91, 91, 91, 92, 92, 92, 92, 92, 92, 92, 92, 92, 92, 92, 92, 92, 92, 92, 92, 92, 92, 92, 92, 92, 92, 92, 92, 93, 93, 93, 93, 93, 93, 93, 93, 93, 93, 93, 93, 93, 93, 93, 93, 93, 93, 93, 93, 93, 93, 93, 93, 93, 93, 93, 94, 94, 94, 94, 94, 94, 94, 94, 94, 94, 94, 94, 94, 94, 94, 94, 94, 94, 94, 94, 94, 94, 94, 94, 94, 94, 94, 94, 94, 94, 94, 95, 95, 95, 95, 95, 95, 95, 95, 95, 95, 95, 95, 95, 95, 95, 95, 95, 95, 95, 95, 95, 95, 95, 95, 95, 95, 95, 95, 95, 96, 96, 96, 96, 96, 96, 96, 96, 96, 96, 96, 96, 96, 96, 96, 96, 96, 96, 96, 96, 96, 96, 96, 96, 96, 96, 96, 96, 96, 96, 97, 97, 97, 97, 97, 97, 97, 97, 97, 97, 97, 97, 97, 97, 97, 97, 97, 97, 97, 97, 97, 97, 97, 97, 97, 97, 97, 97, 97, 97, 97, 97, 97, 97, 97, 98, 98, 98, 98, 98, 98, 98, 98, 98, 98, 98, 98, 98, 98, 98, 98, 98, 98, 98, 98, 98, 98, 98, 98, 98, 98, 98, 98, 98, 98, 98, 98, 99, 99, 99, 99, 99, 99, 99, 99, 99, 99, 99, 99, 99, 99, 99, 99, 99, 99, 99, 99, 99, 99, 99, 99, 99, 99, 99, 99, 99, 99, 99, 99, 99, 99], \"xaxis\": \"x\", \"y\": [0.0, 1.0, -1.0, 0.0, 1.0, -1.0, -0.3333333333333333, 0.3333333333333333, 0.5, 0.3333333333333333, -1.0, 0.0, 1.0, -0.3333333333333333, -0.6, -0.2, 0.2, -1.0, 0.0, -0.3333333333333333, 1.0, -0.14285714285714285, 0.3333333333333333, 0.5, 0.6, -0.3333333333333333, 0.0, -1.0, 1.0, -0.5, -0.25, -0.2, -0.14285714285714285, 0.14285714285714285, 0.3333333333333333, 0.6, 0.7142857142857143, 1.0, 0.0, -1.0, -0.3333333333333333, 0.3333333333333333, -0.2, -0.1111111111111111, 0.5, -0.5, 0.0, -1.0, 1.0, -0.3333333333333333, 0.3333333333333333, -0.6, 0.09090909090909091, -0.14285714285714285, 0.1111111111111111, 0.14285714285714285, 0.5, 0.6, 0.0, -1.0, -0.3333333333333333, 0.2, 1.0, 0.3333333333333333, 0.6, -0.6666666666666666, -0.6, -0.25, -0.2, -0.1111111111111111, 0.25, 0.0, -0.3333333333333333, 1.0, -1.0, 0.3333333333333333, -0.2, 0.14285714285714285, 0.5, -0.6, -0.5, -0.42857142857142855, 0.6666666666666666, 0.0, 1.0, -0.3333333333333333, -1.0, 0.2, 0.5, -0.7142857142857143, -0.6666666666666666, -0.42857142857142855, -0.2727272727272727, -0.25, 0.25, 0.3333333333333333, 0.0, -1.0, 0.3333333333333333, 1.0, -0.3333333333333333, 0.14285714285714285, 0.2, -0.75, -0.7142857142857143, -0.5, -0.2, -0.16666666666666666, 0.4, 0.6, 0.6666666666666666, -1.0, -0.3333333333333333, 1.0, 0.0, -0.2, 0.5, -0.6666666666666666, -0.5, -0.4, -0.25, -0.07692307692307693, 0.06666666666666667, 0.14285714285714285, 0.3333333333333333, 0.4, 0.5384615384615384, 1.0, 0.0, -1.0, -0.3333333333333333, -0.25, -0.5, -0.38461538461538464, -0.21739130434782608, -0.2, -0.1111111111111111, 0.17647058823529413, 0.2, 0.25, 0.3333333333333333, 0.45454545454545453, 0.0, -1.0, 1.0, -0.3333333333333333, -0.1111111111111111, 0.3333333333333333, 0.5, -0.375, -0.2857142857142857, -0.2, -0.14285714285714285, 0.058823529411764705, 0.2, 0.2631578947368421, 0.6, -0.3333333333333333, 1.0, -1.0, 0.0, -0.25, 0.2, 0.3333333333333333, -0.5555555555555556, -0.42857142857142855, -0.2, -0.15151515151515152, -0.09090909090909091, -0.05263157894736842, 0.25, 0.38461538461538464, -1.0, 0.0, 0.3333333333333333, 1.0, -0.6, 0.2, -0.6666666666666666, -0.5, -0.3333333333333333, -0.29411764705882354, -0.2857142857142857, -0.25, -0.14285714285714285, -0.10344827586206896, 0.2857142857142857, 0.6363636363636364, -0.3333333333333333, 1.0, -1.0, 0.0, 0.3333333333333333, 0.5, -0.25, -0.2, -0.09090909090909091, -0.05263157894736842, 0.125, 0.14285714285714285, 0.5555555555555556, 0.0, 1.0, -1.0, 0.3333333333333333, -0.6, -0.2, 0.2, -0.5, -0.38461538461538464, -0.25, -0.058823529411764705, -0.05263157894736842, 0.14285714285714285, 0.2727272727272727, 0.7142857142857143, -1.0, 1.0, 0.0, 0.3333333333333333, 0.5, 0.14285714285714285, -0.6666666666666666, -0.6, -0.3333333333333333, -0.2857142857142857, -0.2, -0.17647058823529413, -0.14285714285714285, -0.1, -0.07142857142857142, 0.16666666666666666, 0.6, 0.0, 1.0, -1.0, -0.5, -0.3333333333333333, -0.14285714285714285, 0.3333333333333333, -0.75, -0.2222222222222222, -0.2, -0.1111111111111111, 0.0625, 0.15789473684210525, 0.2, 0.25, 0.5, 0.6, 0.6666666666666666, 0.0, 1.0, 0.2, 0.3333333333333333, -1.0, -0.42857142857142855, -0.4117647058823529, -0.4, -0.3333333333333333, -0.25, -0.15789473684210525, -0.14285714285714285, -0.13043478260869565, -0.1, -0.09090909090909091, -0.043478260869565216, 0.1111111111111111, 0.23076923076923078, 0.5, 0.6, 0.0, -0.3333333333333333, 0.3333333333333333, -1.0, 1.0, -0.25, -0.14285714285714285, -0.45454545454545453, -0.42857142857142855, -0.16666666666666666, -0.12195121951219512, 0.14285714285714285, 0.2, 0.25, 0.2727272727272727, 0.375, 0.6666666666666666, 0.0, -1.0, 1.0, -0.5, -0.3333333333333333, 0.6, -0.5384615384615384, -0.29411764705882354, -0.2, -0.125, -0.12, -0.1111111111111111, -0.09090909090909091, 0.09090909090909091, 0.1111111111111111, 0.2, 0.25, 0.3333333333333333, 0.4, 0.4117647058823529, 0.75, 0.0, -1.0, 1.0, 0.3333333333333333, -0.3333333333333333, 0.14285714285714285, 0.2, -0.8, -0.6, -0.25, -0.2, -0.16, -0.07692307692307693, 0.13043478260869565, 0.2631578947368421, 0.2727272727272727, 0.42857142857142855, 0.6666666666666666, -0.3333333333333333, 0.3333333333333333, -1.0, 0.07692307692307693, 0.14285714285714285, 0.42857142857142855, -0.42857142857142855, -0.38461538461538464, -0.0967741935483871, -0.043478260869565216, 0.0, 0.06666666666666667, 0.12, 0.16666666666666666, 0.2, 0.25, 0.2727272727272727, 0.2857142857142857, 1.0, 0.0, 1.0, -1.0, -0.5, 0.3333333333333333, 0.5, -0.42857142857142855, -0.4, -0.3333333333333333, -0.2972972972972973, -0.14285714285714285, -0.125, 0.07692307692307693, 0.1, 0.2, 0.29411764705882354, 0.6, 0.0, 1.0, -1.0, 0.1111111111111111, 0.3333333333333333, -0.3333333333333333, 0.14285714285714285, -0.5555555555555556, -0.38461538461538464, -0.3157894736842105, -0.29411764705882354, -0.16666666666666666, 0.058823529411764705, 0.06666666666666667, 0.2, 0.5, 0.0, -0.3333333333333333, 1.0, -1.0, -0.5, -0.42857142857142855, -0.28205128205128205, -0.15789473684210525, -0.09090909090909091, 0.034482758620689655, 0.04, 0.07692307692307693, 0.1111111111111111, 0.13043478260869565, 0.16666666666666666, 0.25, 0.2727272727272727, 0.3333333333333333, 0.4, 0.5, -0.5, 0.0, 0.3333333333333333, 1.0, -0.14285714285714285, 0.2, 0.2727272727272727, -1.0, -0.75, -0.3488372093023256, -0.3333333333333333, -0.2631578947368421, -0.2, 0.07692307692307693, 0.0967741935483871, 0.1, 0.14285714285714285, 0.23076923076923078, 0.25, 0.6, 1.0, 0.0, 0.3333333333333333, -1.0, -0.6, -0.5, -0.25, 0.2, -0.4, -0.36363636363636365, -0.3333333333333333, -0.29411764705882354, -0.14285714285714285, -0.1111111111111111, 0.04, 0.1, 0.1111111111111111, 0.14285714285714285, 0.18518518518518517, 0.2727272727272727, 0.2857142857142857, 0.5, 0.7333333333333333, 0.0, 1.0, -1.0, -0.6666666666666666, -0.14285714285714285, 0.2, 0.3333333333333333, 0.6, -0.75, -0.5555555555555556, -0.5294117647058824, -0.4, -0.36363636363636365, -0.3333333333333333, -0.29411764705882354, -0.13043478260869565, -0.058823529411764705, 0.07317073170731707, 0.1111111111111111, 0.1724137931034483, 0.25, 0.2727272727272727, 0.29411764705882354, 0.7647058823529411, 0.0, -1.0, -0.25, 0.2, 0.6666666666666666, -0.7142857142857143, -0.6, -0.5, -0.3333333333333333, -0.2692307692307692, -0.2631578947368421, -0.23809523809523808, -0.1111111111111111, -0.0196078431372549, 0.125, 0.14285714285714285, 0.3125, 0.3333333333333333, 0.6, 0.7142857142857143, 0.8, 1.0, 0.0, 1.0, -1.0, -0.5, -0.3333333333333333, 0.3333333333333333, 0.5, -0.7142857142857143, -0.6, -0.2830188679245283, -0.2727272727272727, -0.21875, -0.2, -0.15789473684210525, -0.038461538461538464, 0.058823529411764705, 0.14285714285714285, 0.17073170731707318, 0.2, 0.8, 0.0, -1.0, -0.3333333333333333, 1.0, -0.5555555555555556, -0.4, -0.25925925925925924, -0.22388059701492538, -0.2, -0.1724137931034483, -0.1282051282051282, -0.018867924528301886, 0.14285714285714285, 0.2, 0.3103448275862069, 0.3333333333333333, 0.6, 0.6666666666666666, 0.0, -1.0, -0.5, 0.3333333333333333, 1.0, -0.4, -0.37777777777777777, -0.3333333333333333, -0.3142857142857143, -0.2727272727272727, -0.2, -0.17647058823529413, -0.15, -0.125, -0.058823529411764705, 0.06666666666666667, 0.2, 0.2631578947368421, 0.45454545454545453, 0.5, 0.6, 1.0, 0.0, -1.0, -0.4, -0.2, 0.14285714285714285, -0.45454545454545453, -0.34782608695652173, -0.2777777777777778, -0.1724137931034483, -0.12195121951219512, -0.058823529411764705, -0.022222222222222223, 0.08695652173913043, 0.23076923076923078, 0.3333333333333333, 0.4117647058823529, 0.5555555555555556, 0.6666666666666666, 1.0, 0.0, -0.3333333333333333, 0.3333333333333333, 0.5, -0.6, -0.2, -1.0, -0.75, -0.3617021276595745, -0.2857142857142857, -0.2727272727272727, -0.25, -0.16666666666666666, -0.13513513513513514, -0.09523809523809523, 0.058823529411764705, 0.125, 0.14285714285714285, 0.25, 0.2857142857142857, 0.42857142857142855, 0.6666666666666666, 0.3333333333333333, 1.0, 0.0, -0.3333333333333333, -1.0, -0.2, -0.09090909090909091, -0.6666666666666666, -0.4, -0.32075471698113206, -0.2413793103448276, -0.22580645161290322, -0.16666666666666666, -0.1282051282051282, -0.07692307692307693, 0.02702702702702703, 0.05263157894736842, 0.14285714285714285, 0.2727272727272727, 0.45454545454545453, 0.5, 0.5555555555555556, 0.75, 0.0, 1.0, -0.3333333333333333, 0.3333333333333333, 0.42857142857142855, 0.5, -1.0, -0.5555555555555556, -0.5, -0.42857142857142855, -0.3684210526315789, -0.3469387755102041, -0.23333333333333334, -0.2, -0.16666666666666666, -0.14285714285714285, -0.022222222222222223, 0.022222222222222223, 0.1, 0.1111111111111111, 0.125, 0.25, 0.2631578947368421, 0.6666666666666666, 0.0, -1.0, 1.0, -0.6, 0.14285714285714285, 0.25, 0.3333333333333333, 0.7142857142857143, -0.5, -0.4482758620689655, -0.4444444444444444, -0.4, -0.3333333333333333, -0.2, -0.1935483870967742, -0.16666666666666666, -0.1111111111111111, -0.05454545454545454, 0.21739130434782608, 0.38461538461538464, 0.4, 0.42857142857142855, 0.5, 0.6, 0.0, 1.0, 0.3333333333333333, -1.0, 0.5, -0.5, 0.14285714285714285, 0.6, -0.75, -0.6, -0.4666666666666667, -0.42857142857142855, -0.4, -0.36363636363636365, -0.3333333333333333, -0.2631578947368421, -0.1111111111111111, -0.1, -0.07692307692307693, -0.05263157894736842, -0.015873015873015872, 0.037037037037037035, 0.125, 0.2, 0.25, 0.45454545454545453, 0.75, 0.0, 1.0, -0.1111111111111111, 0.25, 0.42857142857142855, -1.0, -0.8333333333333334, -0.7142857142857143, -0.6923076923076923, -0.42857142857142855, -0.41935483870967744, -0.4, -0.38461538461538464, -0.3333333333333333, -0.2857142857142857, -0.25, -0.16666666666666666, -0.08571428571428572, -0.06666666666666667, -0.023255813953488372, 0.05405405405405406, 0.08333333333333333, 0.1111111111111111, 0.2, 0.3333333333333333, 0.5555555555555556, 0.6, 0.0, 1.0, -1.0, 0.3333333333333333, -0.3333333333333333, -0.5, -0.2, -0.5714285714285714, -0.38461538461538464, -0.375, -0.23076923076923078, -0.14285714285714285, -0.05263157894736842, -0.045454545454545456, 0.058823529411764705, 0.06666666666666667, 0.07692307692307693, 0.08860759493670886, 0.125, 0.15789473684210525, 0.4, 0.5, -1.0, 1.0, -0.2, 0.5, -0.5, -0.3333333333333333, 0.0, 0.1, 0.14285714285714285, -0.45454545454545453, -0.42857142857142855, -0.3793103448275862, -0.23076923076923078, -0.2222222222222222, -0.058823529411764705, -0.043478260869565216, 0.02127659574468085, 0.037037037037037035, 0.06666666666666667, 0.17647058823529413, 0.45454545454545453, 0.6, 0.6666666666666666, 0.7142857142857143, 0.0, -1.0, 1.0, -0.3333333333333333, -0.15789473684210525, 0.2727272727272727, 0.5, -0.6666666666666666, -0.5384615384615384, -0.5, -0.4, -0.38461538461538464, 0.041666666666666664, 0.047619047619047616, 0.06493506493506493, 0.125, 0.14285714285714285, 0.18181818181818182, 0.2, 0.3333333333333333, 0.4117647058823529, 0.6666666666666666, 0.0, 0.3333333333333333, -1.0, -0.3333333333333333, 1.0, -0.2, 0.07692307692307693, -0.6, -0.5, -0.42857142857142855, -0.35353535353535354, -0.09090909090909091, -0.04, 0.061224489795918366, 0.06666666666666667, 0.1, 0.17647058823529413, 0.21739130434782608, 0.6666666666666666, 0.8181818181818182, 0.0, -1.0, -0.3333333333333333, 0.2, 0.25, 0.5, 1.0, -0.6, -0.36283185840707965, -0.25, -0.15789473684210525, -0.1111111111111111, -0.034482758620689655, 0.043478260869565216, 0.047619047619047616, 0.07142857142857142, 0.07692307692307693, 0.08, 0.08108108108108109, 0.16666666666666666, 0.29411764705882354, 0.3333333333333333, 0.4, 0.8, 0.0, 1.0, -1.0, 0.3333333333333333, -0.3333333333333333, 0.5, 0.75, -0.7777777777777778, -0.6363636363636364, -0.625, -0.6, -0.45454545454545453, -0.2, -0.1111111111111111, -0.1, -0.09090909090909091, -0.04, 0.023255813953488372, 0.05263157894736842, 0.06666666666666667, 0.07692307692307693, 0.2222222222222222, 0.23076923076923078, 0.28, 0.2857142857142857, 0.4117647058823529, 0.0, 0.3333333333333333, 1.0, -1.0, 0.5, -0.6363636363636364, -0.6, -0.5555555555555556, -0.5, -0.43820224719101125, -0.3333333333333333, -0.25, -0.1724137931034483, -0.14285714285714285, -0.11764705882352941, 0.014925373134328358, 0.058823529411764705, 0.125, 0.18518518518518517, 0.2, 0.25, 0.2631578947368421, 0.29411764705882354, 0.375, 0.45454545454545453, 0.6, 0.75, 0.8, -1.0, 0.0, 0.14285714285714285, 0.2, -0.6666666666666666, 0.3333333333333333, 0.5, 1.0, -0.75, -0.4444444444444444, -0.42857142857142855, -0.3333333333333333, -0.2, -0.16, -0.14285714285714285, -0.09090909090909091, -0.047619047619047616, 0.061224489795918366, 0.09090909090909091, 0.29411764705882354, 0.4117647058823529, 0.42857142857142855, 0.4482758620689655, 0.6, 0.6666666666666666, 0.0, 0.3333333333333333, 0.5, 1.0, -1.0, -0.7647058823529411, -0.6363636363636364, -0.6, -0.4105263157894737, -0.17647058823529413, -0.16666666666666666, -0.11764705882352941, -0.1111111111111111, -0.1, -0.046153846153846156, -0.04, 0.014492753623188406, 0.10344827586206896, 0.1111111111111111, 0.1724137931034483, 0.2, 0.25, 0.4, 0.6, 0.6363636363636364, -1.0, 0.0, -0.3333333333333333, 0.3333333333333333, -0.1111111111111111, -0.09090909090909091, 1.0, -0.8461538461538461, -0.5, -0.375, -0.15151515151515152, -0.06060606060606061, 0.1111111111111111, 0.18181818181818182, 0.2, 0.21212121212121213, 0.2222222222222222, 0.2631578947368421, 0.2727272727272727, 0.375, 0.4, 0.42857142857142855, 0.5, 0.0, 1.0, -1.0, 0.14285714285714285, 0.3333333333333333, 0.5, -0.8666666666666667, -0.6, -0.5, -0.3333333333333333, -0.3088235294117647, -0.2413793103448276, -0.2, -0.14285714285714285, -0.13513513513513514, -0.06666666666666667, -0.037037037037037035, -0.0196078431372549, 0.047619047619047616, 0.05263157894736842, 0.08108108108108109, 0.125, 0.13043478260869565, 0.13636363636363635, 0.2, 0.3793103448275862, 0.42857142857142855, 0.7142857142857143, 0.0, 1.0, 0.2, -0.5, -0.3333333333333333, -0.2, 0.07692307692307693, -1.0, -0.8666666666666667, -0.8461538461538461, -0.38461538461538464, -0.30434782608695654, -0.2857142857142857, -0.25, -0.14285714285714285, -0.047619047619047616, -0.038461538461538464, 0.043478260869565216, 0.1, 0.13043478260869565, 0.16666666666666666, 0.25, 0.3333333333333333, 0.3548387096774194, 0.38461538461538464, 0.5555555555555556, 0.6666666666666666, 0.0, 1.0, -0.5, 0.1111111111111111, 0.17647058823529413, 0.3333333333333333, -1.0, -0.7333333333333333, -0.35135135135135137, -0.3103448275862069, -0.30434782608695654, -0.2857142857142857, -0.23076923076923078, -0.1834319526627219, -0.1111111111111111, 0.024390243902439025, 0.07692307692307693, 0.1, 0.11764705882352941, 0.14285714285714285, 0.16666666666666666, 0.2, 0.38461538461538464, 0.42857142857142855, 0.5, 0.5555555555555556, 0.7777777777777778, 1.0, 0.0, 0.3333333333333333, -0.3333333333333333, -1.0, -0.5, 0.2, -0.6470588235294118, -0.6, -0.5384615384615384, -0.38461538461538464, -0.3684210526315789, -0.36, -0.23809523809523808, -0.23076923076923078, -0.2, -0.18823529411764706, -0.16666666666666666, -0.14285714285714285, -0.043478260869565216, 0.10344827586206896, 0.1111111111111111, 0.125, 0.14285714285714285, 0.18518518518518517, 0.2857142857142857, 0.6, 0.6666666666666666, 0.0, 1.0, -0.3333333333333333, -1.0, 0.3333333333333333, -0.2727272727272727, -0.4, 0.09090909090909091, 0.2, 0.5, -0.7142857142857143, -0.5555555555555556, -0.45454545454545453, -0.42857142857142855, -0.25925925925925924, -0.2, -0.18604651162790697, -0.07692307692307693, -0.037037037037037035, 0.043478260869565216, 0.06666666666666667, 0.1111111111111111, 0.125, 0.375, 0.38461538461538464, 0.42857142857142855, 0.6, 0.7142857142857143, -0.3333333333333333, -1.0, 0.0, 0.3333333333333333, 1.0, -0.5, 0.1111111111111111, 0.6, -0.5714285714285714, -0.2413793103448276, -0.23809523809523808, -0.2, -0.16666666666666666, -0.14285714285714285, -0.12, -0.06666666666666667, -0.04, -0.024390243902439025, 0.07692307692307693, 0.08333333333333333, 0.125, 0.14285714285714285, 0.2, 0.2631578947368421, 0.2727272727272727, 0.36, 0.42857142857142855, 0.5, 0.6666666666666666, 0.7777777777777778, 0.0, 1.0, -0.3333333333333333, 0.5, -0.6, -0.2, -0.14285714285714285, 0.06666666666666667, 0.3333333333333333, -1.0, -0.5555555555555556, -0.5172413793103449, -0.375, -0.2857142857142857, -0.2727272727272727, -0.26666666666666666, -0.25, -0.046511627906976744, 0.047619047619047616, 0.13333333333333333, 0.23404255319148937, 0.2727272727272727, 0.38461538461538464, 0.5555555555555556, 0.6, 0.7777777777777778, 0.0, -1.0, -0.45454545454545453, -0.25, 0.7142857142857143, 1.0, -0.7142857142857143, -0.5384615384615384, -0.5, -0.44, -0.42857142857142855, -0.3333333333333333, -0.3157894736842105, -0.30612244897959184, -0.30434782608695654, -0.2727272727272727, -0.1111111111111111, -0.07317073170731707, -0.022222222222222223, 0.018867924528301886, 0.058823529411764705, 0.0967741935483871, 0.18032786885245902, 0.2, 0.2777777777777778, 0.6, 0.75, 0.7647058823529411, 0.0, -1.0, 0.3333333333333333, -0.5, -0.3333333333333333, 1.0, -0.42857142857142855, 0.1111111111111111, 0.6, -0.7142857142857143, -0.6666666666666666, -0.6, -0.5294117647058824, -0.47368421052631576, -0.2903225806451613, -0.28, -0.25, -0.2, -0.17647058823529413, -0.05263157894736842, -0.05154639175257732, 0.09090909090909091, 0.13043478260869565, 0.2, 0.2682926829268293, 0.42857142857142855, 0.5555555555555556, 0.7777777777777778, 0.8461538461538461, -0.3333333333333333, 0.0, -1.0, -0.2, 0.09090909090909091, -0.6, -0.5384615384615384, -0.5, -0.42857142857142855, -0.29411764705882354, -0.2857142857142857, -0.2631578947368421, -0.2571428571428571, -0.25, -0.125, -0.037037037037037035, -0.022222222222222223, 0.06666666666666667, 0.125, 0.24324324324324326, 0.25, 0.2857142857142857, 0.38461538461538464, 0.4, 0.5, 0.7142857142857143, 0.8095238095238095, 1.0, 0.0, -0.3333333333333333, -1.0, -0.2, -0.6, -0.5, 0.3333333333333333, 1.0, -0.5714285714285714, -0.5238095238095238, -0.4117647058823529, -0.375, -0.2542372881355932, -0.25, -0.17647058823529413, -0.16666666666666666, -0.14285714285714285, -0.07692307692307693, -0.02857142857142857, -0.021739130434782608, 0.1111111111111111, 0.14285714285714285, 0.2, 0.23076923076923078, 0.25, 0.2727272727272727, 0.2972972972972973, 0.5, 0.52, 0.8181818181818182, 0.0, -1.0, -0.3333333333333333, -0.6, 0.06666666666666667, 1.0, -0.7142857142857143, -0.48148148148148145, -0.45454545454545453, -0.4, -0.375, -0.3684210526315789, -0.35294117647058826, -0.3, -0.29411764705882354, -0.25, -0.21212121212121213, -0.1111111111111111, -0.03896103896103896, 0.041666666666666664, 0.09090909090909091, 0.1111111111111111, 0.16363636363636364, 0.2, 0.3333333333333333, 0.3870967741935484, 0.4117647058823529, 0.5, 0.6666666666666666, 0.0, -1.0, -0.6666666666666666, -0.5, -0.3333333333333333, -0.14285714285714285, 0.14285714285714285, -0.6, -0.5714285714285714, -0.5555555555555556, -0.36, -0.29411764705882354, -0.25, -0.24528301886792453, -0.2, -0.1111111111111111, -0.033707865168539325, -0.012658227848101266, 0.058823529411764705, 0.06666666666666667, 0.125, 0.16666666666666666, 0.2, 0.2727272727272727, 0.3333333333333333, 0.375, 0.42857142857142855, 0.4444444444444444, 0.6129032258064516, 1.0, 0.0, -1.0, -0.3333333333333333, -0.2, -0.6, -0.25, 0.6666666666666666, -0.47368421052631576, -0.42857142857142855, -0.4117647058823529, -0.3076923076923077, -0.2727272727272727, -0.22580645161290322, -0.21739130434782608, -0.16666666666666666, -0.14285714285714285, -0.1111111111111111, -0.022222222222222223, 0.08571428571428572, 0.1111111111111111, 0.14285714285714285, 0.2, 0.23076923076923078, 0.2558139534883721, 0.3333333333333333, 0.3902439024390244, 1.0, -1.0, -0.2, 0.0, -0.5, 1.0, -0.6363636363636364, -0.6, -0.5555555555555556, -0.4074074074074074, -0.3333333333333333, -0.25925925925925924, -0.23076923076923078, -0.16666666666666666, -0.16455696202531644, -0.08333333333333333, -0.07692307692307693, -0.061946902654867256, 0.14285714285714285, 0.2, 0.25, 0.28888888888888886, 0.3333333333333333, 0.3563218390804598, 0.38461538461538464, 0.42857142857142855, -1.0, 0.3333333333333333, -0.3333333333333333, 0.0, -0.6666666666666666, -0.6, -0.2, -0.14285714285714285, -0.75, -0.35714285714285715, -0.25, -0.21428571428571427, -0.15, -0.12, -0.1111111111111111, -0.09090909090909091, -0.05555555555555555, 0.05263157894736842, 0.14285714285714285, 0.16666666666666666, 0.2, 0.2727272727272727, 0.2830188679245283, 0.5, -1.0, -0.3333333333333333, -0.6, 0.0, -0.6666666666666666, -0.6363636363636364, -0.625, -0.5, -0.3103448275862069, -0.25, -0.24324324324324326, -0.18604651162790697, -0.11627906976744186, -0.11538461538461539, -0.10638297872340426, -0.04, 0.05521472392638037, 0.1282051282051282, 0.14285714285714285, 0.18181818181818182, 0.25925925925925924, 0.4, 0.42857142857142855, 0.6, 1.0, 0.0, -1.0, -0.6666666666666666, -0.6, -0.2, -0.14285714285714285, 1.0, -0.5294117647058824, -0.42857142857142855, -0.4, -0.375, -0.3333333333333333, -0.21739130434782608, -0.13043478260869565, -0.11538461538461539, -0.1111111111111111, -0.09090909090909091, -0.07692307692307693, -0.02702702702702703, 0.06097560975609756, 0.13924050632911392, 0.16666666666666666, 0.2, 0.21739130434782608, 0.2857142857142857, 0.5862068965517241, -1.0, 0.0, -0.5, -0.3333333333333333, -0.6666666666666666, -0.625, -0.6, -0.5384615384615384, -0.45454545454545453, -0.30303030303030304, -0.2727272727272727, -0.25925925925925924, -0.125, -0.09433962264150944, -0.07692307692307693, -0.06666666666666667, 0.05263157894736842, 0.053763440860215055, 0.06666666666666667, 0.1111111111111111, 0.2, 0.23076923076923078, 0.23404255319148937, 0.2857142857142857, 0.3333333333333333, 0.6, -1.0, 0.0, -0.3333333333333333, 1.0, -0.6666666666666666, -0.6470588235294118, -0.5789473684210527, -0.5, -0.31343283582089554, -0.2727272727272727, -0.2692307692307692, -0.21428571428571427, -0.2, -0.08695652173913043, -0.07407407407407407, -0.04, 0.041666666666666664, 0.1111111111111111, 0.13725490196078433, 0.14285714285714285, 0.18518518518518517, 0.19327731092436976, 0.23809523809523808, 0.45454545454545453, 0.5, 0.75, 0.0, -1.0, -0.5, 1.0, -0.6666666666666666, -0.41935483870967744, -0.3157894736842105, -0.24444444444444444, -0.23809523809523808, -0.23076923076923078, -0.18181818181818182, -0.14285714285714285, -0.13636363636363635, -0.1320754716981132, -0.08333333333333333, -0.058823529411764705, 0.09090909090909091, 0.14285714285714285, 0.19658119658119658, 0.2, 0.22033898305084745, 0.2727272727272727, 0.5, 0.5454545454545454, 0.6666666666666666, 0.3333333333333333, 0.0, -0.5, -0.42857142857142855, -0.6, -0.4, -0.3333333333333333, -0.2857142857142857, -0.2727272727272727, -0.2676056338028169, -0.23943661971830985, -0.2, -0.17391304347826086, -0.10344827586206896, -0.08, 0.08888888888888889, 0.1111111111111111, 0.1717171717171717, 0.17647058823529413, 0.17857142857142858, 0.2, 0.5, 0.6, 1.0, 0.0, -0.3333333333333333, -0.25, 0.1111111111111111, 0.3333333333333333, 1.0, -0.5555555555555556, -0.4666666666666667, -0.41935483870967744, -0.30434782608695654, -0.20754716981132076, -0.19230769230769232, -0.1566265060240964, -0.11864406779661017, -0.1111111111111111, -0.1, -0.058823529411764705, 0.15625, 0.15789473684210525, 0.16, 0.3684210526315789, 0.4666666666666667, 0.5, 0.0, -1.0, -0.3333333333333333, 0.2, 0.3333333333333333, 1.0, -0.6, -0.5714285714285714, -0.375, -0.24324324324324326, -0.23684210526315788, -0.21311475409836064, -0.15315315315315314, -0.14285714285714285, -0.09090909090909091, -0.08196721311475409, -0.038461538461538464, 0.125, 0.14285714285714285, 0.16831683168316833, 0.16923076923076924, 0.1724137931034483, 0.18518518518518517, 0.5, 0.5652173913043478, 0.6, 0.3333333333333333, -1.0, -0.3333333333333333, 0.0, 1.0, -0.2222222222222222, 0.2, -0.7142857142857143, -0.45454545454545453, -0.24675324675324675, -0.19444444444444445, -0.17037037037037037, -0.16071428571428573, 0.14666666666666667, 0.15789473684210525, 0.16666666666666666, 0.18181818181818182, 0.25301204819277107, 0.5, 0.0, -1.0, 1.0, -0.3333333333333333, -0.2222222222222222, -0.17647058823529413, -0.5, -0.391304347826087, -0.2631578947368421, -0.25, -0.2, -0.10204081632653061, 0.07692307692307693, 0.09090909090909091, 0.1111111111111111, 0.11627906976744186, 0.14285714285714285, 0.16129032258064516, 0.16312056737588654, 0.25, 0.2857142857142857, 0.5675675675675675, 0.6666666666666666, 0.0, -1.0, -0.3333333333333333, 0.2, 0.3333333333333333, 1.0, -0.6666666666666666, -0.6, -0.48148148148148145, -0.42857142857142855, -0.37142857142857144, -0.2857142857142857, -0.2558139534883721, -0.2222222222222222, -0.2087912087912088, -0.15942028985507245, -0.15789473684210525, -0.1320754716981132, -0.09803921568627451, 0.07692307692307693, 0.13636363636363635, 0.14285714285714285, 0.14685314685314685, 0.17647058823529413, 0.25, 0.29411764705882354, 0.38235294117647056, 0.5, 0.75, 0.0, 0.3333333333333333, -1.0, -0.3333333333333333, -0.5, 0.6, -0.75, -0.7142857142857143, -0.6666666666666666, -0.48148148148148145, -0.4, -0.3684210526315789, -0.2653061224489796, -0.16546762589928057, -0.16417910447761194, -0.09375, -0.043478260869565216, 0.010526315789473684, 0.078125, 0.09090909090909091, 0.1, 0.14285714285714285, 0.2222222222222222, 0.4084507042253521, 0.7333333333333333, 1.0, 0.0, -0.3333333333333333, 0.5, -1.0, -0.5, 1.0, -0.7777777777777778, -0.6666666666666666, -0.5172413793103449, -0.2857142857142857, -0.25, -0.21212121212121213, -0.2, -0.1891891891891892, -0.16083916083916083, -0.14705882352941177, -0.14285714285714285, -0.12121212121212122, -0.09090909090909091, -0.0297029702970297, 0.023255813953488372, 0.07692307692307693, 0.1, 0.16666666666666666, 0.17894736842105263, 0.2, 0.3333333333333333, 0.38666666666666666, 0.6470588235294118, 0.6666666666666666, 0.7142857142857143, 0.0, 0.3333333333333333, -0.6, -1.0, -0.42857142857142855, -0.2, 0.09090909090909091, -0.6666666666666666, -0.5454545454545454, -0.4, -0.3333333333333333, -0.2413793103448276, -0.21052631578947367, -0.16666666666666666, -0.15789473684210525, -0.136986301369863, -0.07692307692307693, 0.011764705882352941, 0.022222222222222223, 0.14285714285714285, 0.14772727272727273, 0.1724137931034483, 0.25, 0.6, 0.6666666666666666, 0.0, -0.3333333333333333, -1.0, -0.5555555555555556, -0.6666666666666666, -0.5, -0.42857142857142855, -0.37254901960784315, -0.2631578947368421, -0.2, -0.136986301369863, -0.13513513513513514, -0.1111111111111111, -0.1, -0.09090909090909091, -0.07692307692307693, -0.06666666666666667, -0.04, 0.1111111111111111, 0.15254237288135594, 0.18181818181818182, 0.2, 0.23404255319148937, 0.25, 0.3333333333333333, 0.4, 0.42857142857142855, 0.7142857142857143, 0.0, 0.3333333333333333, -1.0, -0.3333333333333333, -0.2, -0.6, -0.5294117647058824, -0.5, -0.4, -0.30434782608695654, -0.28205128205128205, -0.21052631578947367, -0.14285714285714285, -0.12041884816753927, -0.06542056074766354, -0.02127659574468085, 0.05263157894736842, 0.14102564102564102, 0.16666666666666666, 0.21739130434782608, 0.23809523809523808, 0.25, 0.2765957446808511, 0.45454545454545453, 0.0, -1.0, -0.2, -0.3333333333333333, 0.3333333333333333, -0.6, -0.45454545454545453, -0.4444444444444444, -0.3142857142857143, -0.3, -0.1794871794871795, -0.14285714285714285, -0.125, -0.09090909090909091, -0.047619047619047616, 0.022222222222222223, 0.08108108108108109, 0.12903225806451613, 0.1337579617834395, 0.14285714285714285, 0.25, 0.2857142857142857, 0.2916666666666667, 0.42857142857142855, 0.5, 0.6666666666666666, 1.0, 0.3333333333333333, 0.0, -1.0, -0.3333333333333333, -0.5, 0.2, 1.0, -0.6666666666666666, -0.3150684931506849, -0.2727272727272727, -0.23076923076923078, -0.2, -0.17647058823529413, -0.15384615384615385, -0.15151515151515152, -0.14285714285714285, -0.1282051282051282, -0.058823529411764705, -0.05263157894736842, -0.03225806451612903, 0.07692307692307693, 0.09375, 0.1, 0.10526315789473684, 0.13548387096774195, 0.2653061224489796, 0.2857142857142857, 0.42857142857142855, 0.6363636363636364, 0.0, -0.2, 1.0, 0.09090909090909091, 0.1111111111111111, 0.5, -0.75, -0.6666666666666666, -0.5384615384615384, -0.5, -0.42857142857142855, -0.3333333333333333, -0.32432432432432434, -0.21428571428571427, -0.20512820512820512, -0.1794871794871795, -0.1464968152866242, -0.1111111111111111, -0.0625, -0.05263157894736842, 0.06666666666666667, 0.13095238095238096, 0.14754098360655737, 0.2, 0.25, 0.29411764705882354, 0.3333333333333333, 0.0, -0.3333333333333333, -1.0, -0.07692307692307693, 0.08333333333333333, -0.6, -0.4666666666666667, -0.42857142857142855, -0.4166666666666667, -0.30666666666666664, -0.25925925925925924, -0.23076923076923078, -0.14285714285714285, -0.13253012048192772, -0.12280701754385964, -0.12, -0.1111111111111111, 0.12903225806451613, 0.14285714285714285, 0.15789473684210525, 0.2, 0.2222222222222222, 0.25, 0.3333333333333333, 0.4, 0.4074074074074074, 0.6, 1.0, 0.0, -0.3333333333333333, -1.0, -0.2727272727272727, 0.3333333333333333, 1.0, -0.5, -0.45454545454545453, -0.21428571428571427, -0.18518518518518517, -0.16666666666666666, -0.14792899408284024, -0.1111111111111111, -0.09090909090909091, -0.08695652173913043, -0.07692307692307693, -0.034482758620689655, 0.008403361344537815, 0.04, 0.07317073170731707, 0.1111111111111111, 0.14285714285714285, 0.16417910447761194, 0.2, 0.25, 0.2727272727272727, 0.41818181818181815, 0.0, 0.3333333333333333, 1.0, -0.3333333333333333, -0.2, -1.0, -0.5, -0.2727272727272727, -0.5555555555555556, -0.4782608695652174, -0.4666666666666667, -0.42857142857142855, -0.391304347826087, -0.28205128205128205, -0.25, -0.1724137931034483, -0.15789473684210525, -0.1292517006802721, -0.09090909090909091, -0.07142857142857142, -0.06666666666666667, -0.03225806451612903, 0.016666666666666666, 0.047619047619047616, 0.09090909090909091, 0.1111111111111111, 0.15555555555555556, 0.15789473684210525, 0.1875, 0.2857142857142857, 0.4, 0.4146341463414634, 0.42857142857142855, 0.6, 0.0, -1.0, 0.14285714285714285, 0.3333333333333333, -0.5, -0.3333333333333333, -0.25, -0.2, -0.7142857142857143, -0.42857142857142855, -0.375, -0.29411764705882354, -0.2523364485981308, -0.2222222222222222, -0.1568627450980392, -0.1111111111111111, -0.09090909090909091, -0.06666666666666667, -0.05263157894736842, 0.01639344262295082, 0.08196721311475409, 0.15151515151515152, 0.15328467153284672, 0.16666666666666666, 0.2, 0.2727272727272727, 0.30434782608695654, 0.375, 0.42857142857142855, 1.0, 0.0, -1.0, 0.3333333333333333, -0.5384615384615384, -0.3333333333333333, 0.1111111111111111, 0.2, -0.5, -0.4782608695652174, -0.42857142857142855, -0.28, -0.26126126126126126, -0.25, -0.18518518518518517, -0.14728682170542637, -0.1111111111111111, -0.05263157894736842, -0.03225806451612903, 0.016129032258064516, 0.02127659574468085, 0.03225806451612903, 0.06451612903225806, 0.1510791366906475, 0.2727272727272727, 0.3953488372093023, 0.6, 1.0, 0.0, -1.0, 0.3333333333333333, -0.25, -0.2, 0.047619047619047616, 0.2, 0.5, 1.0, -0.6190476190476191, -0.5, -0.4666666666666667, -0.42857142857142855, -0.375, -0.3333333333333333, -0.29411764705882354, -0.18518518518518517, -0.13846153846153847, -0.04, 0.04918032786885246, 0.10569105691056911, 0.1111111111111111, 0.125, 0.4666666666666667, 0.0, -1.0, 1.0, 0.3333333333333333, -0.3333333333333333, 0.5, -0.75, -0.6666666666666666, -0.5294117647058824, -0.36, -0.3246753246753247, -0.29411764705882354, -0.2727272727272727, -0.23076923076923078, -0.2222222222222222, -0.1450381679389313, -0.08571428571428572, 0.043478260869565216, 0.050505050505050504, 0.05263157894736842, 0.07462686567164178, 0.08333333333333333, 0.1111111111111111, 0.16666666666666666, 0.2087912087912088, 0.5384615384615384, 0.6, -1.0, 0.0, 0.3333333333333333, 1.0, -0.3333333333333333, -0.2, 0.5, -0.7777777777777778, -0.5555555555555556, -0.47368421052631576, -0.47058823529411764, -0.4666666666666667, -0.4444444444444444, -0.20930232558139536, -0.18181818181818182, -0.16666666666666666, -0.15384615384615385, -0.15, -0.1347517730496454, -0.1, -0.09090909090909091, 0.04, 0.043478260869565216, 0.058823529411764705, 0.10126582278481013, 0.12, 0.12121212121212122, 0.13131313131313133, 0.24324324324324326, 0.5714285714285714, 0.6, -1.0, 0.0, 1.0, -0.5, -0.47368421052631576, -0.23076923076923078, 0.07692307692307693, 0.3333333333333333, -0.4358974358974359, -0.42857142857142855, -0.3, -0.2857142857142857, -0.1891891891891892, -0.17647058823529413, -0.17073170731707318, -0.16981132075471697, -0.15555555555555556, -0.14782608695652175, -0.07692307692307693, -0.02702702702702703, -0.023255813953488372, 0.09433962264150944, 0.12, 0.14285714285714285, 0.16129032258064516, 0.1746031746031746, 0.3142857142857143, 0.5, 0.5384615384615384, -0.2, -1.0, -0.3333333333333333, 0.0, 0.3333333333333333, 1.0, -0.25, -0.14285714285714285, -0.7777777777777778, -0.6, -0.5, -0.45454545454545453, -0.36363636363636365, -0.2727272727272727, -0.17391304347826086, -0.17307692307692307, -0.1724137931034483, -0.17073170731707318, -0.1111111111111111, -0.05263157894736842, 0.05405405405405406, 0.056179775280898875, 0.07246376811594203, 0.07692307692307693, 0.09090909090909091, 0.1111111111111111, 0.11764705882352941, 0.6, 0.6666666666666666, 0.75, 0.0, -0.2, -1.0, -0.8571428571428571, -0.6, -0.5, -0.47058823529411764, -0.42857142857142855, -0.375, -0.3333333333333333, -0.3142857142857143, -0.2727272727272727, -0.21739130434782608, -0.21212121212121213, -0.19148936170212766, -0.16666666666666666, -0.1509433962264151, -0.125, -0.09090909090909091, -0.05263157894736842, -0.04, 0.0136986301369863, 0.030303030303030304, 0.030927835051546393, 0.04918032786885246, 0.07692307692307693, 0.08571428571428572, 0.09090909090909091, 0.175, 0.2, 0.3142857142857143, 0.3333333333333333, 0.6, 0.6923076923076923, 1.0, 0.0, -0.3333333333333333, -1.0, -0.1111111111111111, -0.09090909090909091, 0.3333333333333333, 1.0, -0.8, -0.5652173913043478, -0.5, -0.4117647058823529, -0.3142857142857143, -0.2727272727272727, -0.23529411764705882, -0.23404255319148937, -0.20833333333333334, -0.18518518518518517, -0.14018691588785046, -0.1, -0.08571428571428572, -0.07142857142857142, -0.023809523809523808, 0.05263157894736842, 0.09803921568627451, 0.09859154929577464, 0.1111111111111111, 0.15151515151515152, 0.16049382716049382, 0.2222222222222222, 0.22580645161290322, 0.5714285714285714, 0.6363636363636364, 0.0, -1.0, -0.3333333333333333, 0.3333333333333333, -0.25, -0.2, -0.14285714285714285, -0.06666666666666667, 0.06666666666666667, -0.8, -0.6666666666666666, -0.5714285714285714, -0.5555555555555556, -0.3125, -0.2777777777777778, -0.2571428571428571, -0.23076923076923078, -0.13333333333333333, -0.1282051282051282, -0.05263157894736842, -0.02631578947368421, -0.022727272727272728, 0.08333333333333333, 0.1111111111111111, 0.12, 0.14285714285714285, 0.1566265060240964, 0.15789473684210525, 0.1891891891891892, 0.2, 0.2222222222222222, 0.6666666666666666, 0.75, 1.0], \"yaxis\": \"y\"}],\n",
              "                        {\"legend\": {\"itemsizing\": \"constant\", \"tracegroupgap\": 0}, \"margin\": {\"t\": 60}, \"template\": {\"data\": {\"bar\": [{\"error_x\": {\"color\": \"#2a3f5f\"}, \"error_y\": {\"color\": \"#2a3f5f\"}, \"marker\": {\"line\": {\"color\": \"#E5ECF6\", \"width\": 0.5}}, \"type\": \"bar\"}], \"barpolar\": [{\"marker\": {\"line\": {\"color\": \"#E5ECF6\", \"width\": 0.5}}, \"type\": \"barpolar\"}], \"carpet\": [{\"aaxis\": {\"endlinecolor\": \"#2a3f5f\", \"gridcolor\": \"white\", \"linecolor\": \"white\", \"minorgridcolor\": \"white\", \"startlinecolor\": \"#2a3f5f\"}, \"baxis\": {\"endlinecolor\": \"#2a3f5f\", \"gridcolor\": \"white\", \"linecolor\": \"white\", \"minorgridcolor\": \"white\", \"startlinecolor\": \"#2a3f5f\"}, \"type\": \"carpet\"}], \"choropleth\": [{\"colorbar\": {\"outlinewidth\": 0, \"ticks\": \"\"}, \"type\": \"choropleth\"}], \"contour\": [{\"colorbar\": {\"outlinewidth\": 0, \"ticks\": \"\"}, \"colorscale\": [[0.0, \"#0d0887\"], [0.1111111111111111, \"#46039f\"], [0.2222222222222222, \"#7201a8\"], [0.3333333333333333, \"#9c179e\"], [0.4444444444444444, \"#bd3786\"], [0.5555555555555556, \"#d8576b\"], [0.6666666666666666, \"#ed7953\"], [0.7777777777777778, \"#fb9f3a\"], [0.8888888888888888, \"#fdca26\"], [1.0, \"#f0f921\"]], \"type\": \"contour\"}], \"contourcarpet\": [{\"colorbar\": {\"outlinewidth\": 0, \"ticks\": \"\"}, \"type\": \"contourcarpet\"}], \"heatmap\": [{\"colorbar\": {\"outlinewidth\": 0, \"ticks\": \"\"}, \"colorscale\": [[0.0, \"#0d0887\"], [0.1111111111111111, \"#46039f\"], [0.2222222222222222, \"#7201a8\"], [0.3333333333333333, \"#9c179e\"], [0.4444444444444444, \"#bd3786\"], [0.5555555555555556, \"#d8576b\"], [0.6666666666666666, \"#ed7953\"], [0.7777777777777778, \"#fb9f3a\"], [0.8888888888888888, \"#fdca26\"], [1.0, \"#f0f921\"]], \"type\": \"heatmap\"}], \"heatmapgl\": [{\"colorbar\": {\"outlinewidth\": 0, \"ticks\": \"\"}, \"colorscale\": [[0.0, \"#0d0887\"], [0.1111111111111111, \"#46039f\"], [0.2222222222222222, \"#7201a8\"], [0.3333333333333333, \"#9c179e\"], [0.4444444444444444, \"#bd3786\"], [0.5555555555555556, \"#d8576b\"], [0.6666666666666666, \"#ed7953\"], [0.7777777777777778, \"#fb9f3a\"], [0.8888888888888888, \"#fdca26\"], [1.0, \"#f0f921\"]], \"type\": \"heatmapgl\"}], \"histogram\": [{\"marker\": {\"colorbar\": {\"outlinewidth\": 0, \"ticks\": \"\"}}, \"type\": \"histogram\"}], \"histogram2d\": [{\"colorbar\": {\"outlinewidth\": 0, \"ticks\": \"\"}, \"colorscale\": [[0.0, \"#0d0887\"], [0.1111111111111111, \"#46039f\"], [0.2222222222222222, \"#7201a8\"], [0.3333333333333333, \"#9c179e\"], [0.4444444444444444, \"#bd3786\"], [0.5555555555555556, \"#d8576b\"], [0.6666666666666666, \"#ed7953\"], [0.7777777777777778, \"#fb9f3a\"], [0.8888888888888888, \"#fdca26\"], [1.0, \"#f0f921\"]], \"type\": \"histogram2d\"}], \"histogram2dcontour\": [{\"colorbar\": {\"outlinewidth\": 0, \"ticks\": \"\"}, \"colorscale\": [[0.0, \"#0d0887\"], [0.1111111111111111, \"#46039f\"], [0.2222222222222222, \"#7201a8\"], [0.3333333333333333, \"#9c179e\"], [0.4444444444444444, \"#bd3786\"], [0.5555555555555556, \"#d8576b\"], [0.6666666666666666, \"#ed7953\"], [0.7777777777777778, \"#fb9f3a\"], [0.8888888888888888, \"#fdca26\"], [1.0, \"#f0f921\"]], \"type\": \"histogram2dcontour\"}], \"mesh3d\": [{\"colorbar\": {\"outlinewidth\": 0, \"ticks\": \"\"}, \"type\": \"mesh3d\"}], \"parcoords\": [{\"line\": {\"colorbar\": {\"outlinewidth\": 0, \"ticks\": \"\"}}, \"type\": \"parcoords\"}], \"pie\": [{\"automargin\": true, \"type\": \"pie\"}], \"scatter\": [{\"marker\": {\"colorbar\": {\"outlinewidth\": 0, \"ticks\": \"\"}}, \"type\": \"scatter\"}], \"scatter3d\": [{\"line\": {\"colorbar\": {\"outlinewidth\": 0, \"ticks\": \"\"}}, \"marker\": {\"colorbar\": {\"outlinewidth\": 0, \"ticks\": \"\"}}, \"type\": \"scatter3d\"}], \"scattercarpet\": [{\"marker\": {\"colorbar\": {\"outlinewidth\": 0, \"ticks\": \"\"}}, \"type\": \"scattercarpet\"}], \"scattergeo\": [{\"marker\": {\"colorbar\": {\"outlinewidth\": 0, \"ticks\": \"\"}}, \"type\": \"scattergeo\"}], \"scattergl\": [{\"marker\": {\"colorbar\": {\"outlinewidth\": 0, \"ticks\": \"\"}}, \"type\": \"scattergl\"}], \"scattermapbox\": [{\"marker\": {\"colorbar\": {\"outlinewidth\": 0, \"ticks\": \"\"}}, \"type\": \"scattermapbox\"}], \"scatterpolar\": [{\"marker\": {\"colorbar\": {\"outlinewidth\": 0, \"ticks\": \"\"}}, \"type\": \"scatterpolar\"}], \"scatterpolargl\": [{\"marker\": {\"colorbar\": {\"outlinewidth\": 0, \"ticks\": \"\"}}, \"type\": \"scatterpolargl\"}], \"scatterternary\": [{\"marker\": {\"colorbar\": {\"outlinewidth\": 0, \"ticks\": \"\"}}, \"type\": \"scatterternary\"}], \"surface\": [{\"colorbar\": {\"outlinewidth\": 0, \"ticks\": \"\"}, \"colorscale\": [[0.0, \"#0d0887\"], [0.1111111111111111, \"#46039f\"], [0.2222222222222222, \"#7201a8\"], [0.3333333333333333, \"#9c179e\"], [0.4444444444444444, \"#bd3786\"], [0.5555555555555556, \"#d8576b\"], [0.6666666666666666, \"#ed7953\"], [0.7777777777777778, \"#fb9f3a\"], [0.8888888888888888, \"#fdca26\"], [1.0, \"#f0f921\"]], \"type\": \"surface\"}], \"table\": [{\"cells\": {\"fill\": {\"color\": \"#EBF0F8\"}, \"line\": {\"color\": \"white\"}}, \"header\": {\"fill\": {\"color\": \"#C8D4E3\"}, \"line\": {\"color\": \"white\"}}, \"type\": \"table\"}]}, \"layout\": {\"annotationdefaults\": {\"arrowcolor\": \"#2a3f5f\", \"arrowhead\": 0, \"arrowwidth\": 1}, \"coloraxis\": {\"colorbar\": {\"outlinewidth\": 0, \"ticks\": \"\"}}, \"colorscale\": {\"diverging\": [[0, \"#8e0152\"], [0.1, \"#c51b7d\"], [0.2, \"#de77ae\"], [0.3, \"#f1b6da\"], [0.4, \"#fde0ef\"], [0.5, \"#f7f7f7\"], [0.6, \"#e6f5d0\"], [0.7, \"#b8e186\"], [0.8, \"#7fbc41\"], [0.9, \"#4d9221\"], [1, \"#276419\"]], \"sequential\": [[0.0, \"#0d0887\"], [0.1111111111111111, \"#46039f\"], [0.2222222222222222, \"#7201a8\"], [0.3333333333333333, \"#9c179e\"], [0.4444444444444444, \"#bd3786\"], [0.5555555555555556, \"#d8576b\"], [0.6666666666666666, \"#ed7953\"], [0.7777777777777778, \"#fb9f3a\"], [0.8888888888888888, \"#fdca26\"], [1.0, \"#f0f921\"]], \"sequentialminus\": [[0.0, \"#0d0887\"], [0.1111111111111111, \"#46039f\"], [0.2222222222222222, \"#7201a8\"], [0.3333333333333333, \"#9c179e\"], [0.4444444444444444, \"#bd3786\"], [0.5555555555555556, \"#d8576b\"], [0.6666666666666666, \"#ed7953\"], [0.7777777777777778, \"#fb9f3a\"], [0.8888888888888888, \"#fdca26\"], [1.0, \"#f0f921\"]]}, \"colorway\": [\"#636efa\", \"#EF553B\", \"#00cc96\", \"#ab63fa\", \"#FFA15A\", \"#19d3f3\", \"#FF6692\", \"#B6E880\", \"#FF97FF\", \"#FECB52\"], \"font\": {\"color\": \"#2a3f5f\"}, \"geo\": {\"bgcolor\": \"white\", \"lakecolor\": \"white\", \"landcolor\": \"#E5ECF6\", \"showlakes\": true, \"showland\": true, \"subunitcolor\": \"white\"}, \"hoverlabel\": {\"align\": \"left\"}, \"hovermode\": \"closest\", \"mapbox\": {\"style\": \"light\"}, \"paper_bgcolor\": \"white\", \"plot_bgcolor\": \"#E5ECF6\", \"polar\": {\"angularaxis\": {\"gridcolor\": \"white\", \"linecolor\": \"white\", \"ticks\": \"\"}, \"bgcolor\": \"#E5ECF6\", \"radialaxis\": {\"gridcolor\": \"white\", \"linecolor\": \"white\", \"ticks\": \"\"}}, \"scene\": {\"xaxis\": {\"backgroundcolor\": \"#E5ECF6\", \"gridcolor\": \"white\", \"gridwidth\": 2, \"linecolor\": \"white\", \"showbackground\": true, \"ticks\": \"\", \"zerolinecolor\": \"white\"}, \"yaxis\": {\"backgroundcolor\": \"#E5ECF6\", \"gridcolor\": \"white\", \"gridwidth\": 2, \"linecolor\": \"white\", \"showbackground\": true, \"ticks\": \"\", \"zerolinecolor\": \"white\"}, \"zaxis\": {\"backgroundcolor\": \"#E5ECF6\", \"gridcolor\": \"white\", \"gridwidth\": 2, \"linecolor\": \"white\", \"showbackground\": true, \"ticks\": \"\", \"zerolinecolor\": \"white\"}}, \"shapedefaults\": {\"line\": {\"color\": \"#2a3f5f\"}}, \"ternary\": {\"aaxis\": {\"gridcolor\": \"white\", \"linecolor\": \"white\", \"ticks\": \"\"}, \"baxis\": {\"gridcolor\": \"white\", \"linecolor\": \"white\", \"ticks\": \"\"}, \"bgcolor\": \"#E5ECF6\", \"caxis\": {\"gridcolor\": \"white\", \"linecolor\": \"white\", \"ticks\": \"\"}}, \"title\": {\"x\": 0.05}, \"xaxis\": {\"automargin\": true, \"gridcolor\": \"white\", \"linecolor\": \"white\", \"ticks\": \"\", \"title\": {\"standoff\": 15}, \"zerolinecolor\": \"white\", \"zerolinewidth\": 2}, \"yaxis\": {\"automargin\": true, \"gridcolor\": \"white\", \"linecolor\": \"white\", \"ticks\": \"\", \"title\": {\"standoff\": 15}, \"zerolinecolor\": \"white\", \"zerolinewidth\": 2}}}, \"xaxis\": {\"anchor\": \"y\", \"domain\": [0.0, 1.0], \"title\": {\"text\": \"Iteration\"}}, \"yaxis\": {\"anchor\": \"x\", \"domain\": [0.0, 1.0], \"title\": {\"text\": \"Signed ee\"}}},\n",
              "                        {\"responsive\": true}\n",
              "                    ).then(function(){\n",
              "                            \n",
              "var gd = document.getElementById('0f0e20c5-2c95-4f69-ba55-5ed586e3db2e');\n",
              "var x = new MutationObserver(function (mutations, observer) {{\n",
              "        var display = window.getComputedStyle(gd).display;\n",
              "        if (!display || display === 'none') {{\n",
              "            console.log([gd, 'removed!']);\n",
              "            Plotly.purge(gd);\n",
              "            observer.disconnect();\n",
              "        }}\n",
              "}});\n",
              "\n",
              "// Listen for the removal of the full notebook cells\n",
              "var notebookContainer = gd.closest('#notebook-container');\n",
              "if (notebookContainer) {{\n",
              "    x.observe(notebookContainer, {childList: true});\n",
              "}}\n",
              "\n",
              "// Listen for the clearing of the current output cell\n",
              "var outputEl = gd.closest('.output');\n",
              "if (outputEl) {{\n",
              "    x.observe(outputEl, {childList: true});\n",
              "}}\n",
              "\n",
              "                        })\n",
              "                };\n",
              "                \n",
              "            </script>\n",
              "        </div>\n",
              "</body>\n",
              "</html>"
            ]
          },
          "metadata": {
            "tags": [
              "id11_content_1",
              "outputarea_id11",
              "user_output"
            ]
          }
        },
        {
          "output_type": "display_data",
          "data": {
            "application/javascript": [
              "window[\"fec6f132-bd76-11ea-920b-0242ac1c0002\"] = google.colab.output.setActiveOutputArea(window[\"fe95a7e4-bd76-11ea-920b-0242ac1c0002\"]);\n",
              "//# sourceURL=js_d7a98c19ba"
            ],
            "text/plain": [
              "<IPython.core.display.Javascript object>"
            ]
          },
          "metadata": {
            "tags": [
              "id11_content_1",
              "outputarea_id11"
            ]
          }
        },
        {
          "output_type": "display_data",
          "data": {
            "application/javascript": [
              "window[\"fec808e2-bd76-11ea-920b-0242ac1c0002\"] = google.colab.output.getActiveOutputArea();\n",
              "//# sourceURL=js_6991f2cb1d"
            ],
            "text/plain": [
              "<IPython.core.display.Javascript object>"
            ]
          },
          "metadata": {
            "tags": [
              "id11_content_3",
              "outputarea_id11"
            ]
          }
        },
        {
          "output_type": "display_data",
          "data": {
            "application/javascript": [
              "window[\"fec83952-bd76-11ea-920b-0242ac1c0002\"] = document.querySelector(\"#id11_content_3\");\n",
              "//# sourceURL=js_8d4393abd8"
            ],
            "text/plain": [
              "<IPython.core.display.Javascript object>"
            ]
          },
          "metadata": {
            "tags": [
              "id11_content_3",
              "outputarea_id11"
            ]
          }
        },
        {
          "output_type": "display_data",
          "data": {
            "application/javascript": [
              "window[\"fec866f2-bd76-11ea-920b-0242ac1c0002\"] = google.colab.output.setActiveOutputArea(window[\"fec83952-bd76-11ea-920b-0242ac1c0002\"]);\n",
              "//# sourceURL=js_0be11137c4"
            ],
            "text/plain": [
              "<IPython.core.display.Javascript object>"
            ]
          },
          "metadata": {
            "tags": [
              "id11_content_3",
              "outputarea_id11"
            ]
          }
        },
        {
          "output_type": "display_data",
          "data": {
            "application/javascript": [
              "window[\"fec89410-bd76-11ea-920b-0242ac1c0002\"] = window[\"id11\"].setSelectedTabIndex(3);\n",
              "//# sourceURL=js_95ca09255e"
            ],
            "text/plain": [
              "<IPython.core.display.Javascript object>"
            ]
          },
          "metadata": {
            "tags": [
              "id11_content_3",
              "outputarea_id11"
            ]
          }
        },
        {
          "output_type": "display_data",
          "data": {
            "text/html": [
              "<html>\n",
              "<head><meta charset=\"utf-8\" /></head>\n",
              "<body>\n",
              "    <div>\n",
              "            <script src=\"https://cdnjs.cloudflare.com/ajax/libs/mathjax/2.7.5/MathJax.js?config=TeX-AMS-MML_SVG\"></script><script type=\"text/javascript\">if (window.MathJax) {MathJax.Hub.Config({SVG: {font: \"STIX-Web\"}});}</script>\n",
              "                <script type=\"text/javascript\">window.PlotlyConfig = {MathJaxConfig: 'local'};</script>\n",
              "        <script src=\"https://cdn.plot.ly/plotly-latest.min.js\"></script>    \n",
              "            <div id=\"87cd6ce8-550d-477d-b6bc-d525dd9d637d\" class=\"plotly-graph-div\" style=\"height:525px; width:100%;\"></div>\n",
              "            <script type=\"text/javascript\">\n",
              "                \n",
              "                    window.PLOTLYENV=window.PLOTLYENV || {};\n",
              "                    \n",
              "                if (document.getElementById(\"87cd6ce8-550d-477d-b6bc-d525dd9d637d\")) {\n",
              "                    Plotly.newPlot(\n",
              "                        '87cd6ce8-550d-477d-b6bc-d525dd9d637d',\n",
              "                        [{\"mode\": \"lines\", \"name\": \"left homochiral\", \"type\": \"scatter\", \"y\": [0.15789473684210525, 0.17391304347826086, 0.16216216216216217, 0.16494845360824742, 0.17272727272727273, 0.18604651162790697, 0.19463087248322147, 0.17647058823529413, 0.1657142857142857, 0.17582417582417584, 0.17326732673267325, 0.16228070175438597, 0.175, 0.1839080459770115, 0.17437722419928825, 0.1643835616438356, 0.17320261437908496, 0.16772151898734178, 0.17455621301775148, 0.17134831460674158, 0.17232375979112272, 0.16414141414141414, 0.17349397590361446, 0.1720183486238532, 0.17429193899782136, 0.18480492813141683, 0.1794871794871795, 0.18147448015122875, 0.18065693430656934, 0.18518518518518517, 0.1835016835016835, 0.17957166392092258, 0.17100977198697068, 0.16352201257861634, 0.16539050535987748, 0.16516516516516516, 0.16715976331360946, 0.17216642754662842, 0.1731301939058172, 0.17027027027027028, 0.1693548387096774, 0.1662269129287599, 0.16601815823605706, 0.16457286432160803, 0.1694915254237288, 0.17122473246135553, 0.1755813953488372, 0.1715909090909091, 0.17718715393134, 0.1744312026002167, 0.1751592356687898, 0.17317845828933473, 0.1703011422637591, 0.1683673469387755, 0.1698685540950455, 0.1700404858299595, 0.17105263157894737, 0.17044334975369457, 0.16911045943304007, 0.17395437262357413, 0.1759697256385998, 0.17794253938832252, 0.17534246575342466, 0.1730257320319432, 0.17152961980548187, 0.1736842105263158, 0.17491467576791808, 0.173109243697479, 0.1717588769611891, 0.17073170731707318, 0.17131474103585656, 0.16989914662529093, 0.1704892966360856, 0.16981132075471697, 0.16865671641791044, 0.1713235294117647, 0.17027417027417027, 0.16989247311827957, 0.17045454545454544, 0.17110799438990182, 0.17202797202797201, 0.1715076071922545, 0.17119565217391305, 0.17402945113788487, 0.1728476821192053, 0.1718032786885246, 0.17172369270497095, 0.16783663050414804, 0.16909436352121596, 0.1694915254237288, 0.16885553470919323, 0.1694495980210266, 0.16922133660331085, 0.17110036275695284, 0.17191283292978207, 0.16895522388059703, 0.16864608076009502, 0.1683521713265913, 0.16785290628706998, 0.16913946587537093]}, {\"mode\": \"lines\", \"name\": \"right homochiral\", \"type\": \"scatter\", \"y\": [0.10526315789473684, 0.17391304347826086, 0.1891891891891892, 0.20618556701030927, 0.19090909090909092, 0.17054263565891473, 0.1610738255033557, 0.17647058823529413, 0.18857142857142858, 0.17032967032967034, 0.17326732673267325, 0.19736842105263158, 0.1875, 0.17624521072796934, 0.19217081850533807, 0.2089041095890411, 0.20261437908496732, 0.20253164556962025, 0.20710059171597633, 0.20786516853932585, 0.20365535248041775, 0.20959595959595959, 0.20240963855421687, 0.2018348623853211, 0.19389978213507625, 0.19301848049281314, 0.1992110453648915, 0.19848771266540643, 0.19708029197080293, 0.19400352733686066, 0.19696969696969696, 0.19604612850082373, 0.20195439739413681, 0.20911949685534592, 0.20673813169984687, 0.2057057057057057, 0.20266272189349113, 0.20086083213773315, 0.1994459833795014, 0.20540540540540542, 0.20833333333333334, 0.20976253298153033, 0.20881971465629054, 0.20854271356783918, 0.20581113801452786, 0.20214030915576695, 0.20116279069767443, 0.20454545454545456, 0.19933554817275748, 0.20043336944745396, 0.19957537154989385, 0.19746568109820486, 0.19937694704049844, 0.19795918367346937, 0.19716885743174925, 0.19838056680161945, 0.19838056680161945, 0.2, 0.19941348973607037, 0.19771863117870722, 0.1977294228949858, 0.19647822057460612, 0.19908675799086759, 0.19875776397515527, 0.1989389920424403, 0.19824561403508772, 0.19880546075085323, 0.2, 0.20066061106523533, 0.2008130081300813, 0.200796812749004, 0.20248254460822343, 0.20030581039755352, 0.2, 0.19925373134328359, 0.19852941176470587, 0.19913419913419914, 0.1992831541218638, 0.19602272727272727, 0.1956521739130435, 0.19230769230769232, 0.19294605809128632, 0.19293478260869565, 0.19210174029451138, 0.1913907284768212, 0.1921311475409836, 0.1923821820529374, 0.19527760051052967, 0.19632678910702978, 0.19648462021343377, 0.19637273295809882, 0.19542362399505256, 0.19558553034947884, 0.19528415961305925, 0.19309927360774817, 0.19701492537313434, 0.19596199524940616, 0.19571683521713265, 0.1963226571767497, 0.1970326409495549]}, {\"mode\": \"lines\", \"name\": \"heterochiral\", \"type\": \"scatter\", \"y\": [0.7368421052631579, 0.6521739130434783, 0.6486486486486487, 0.6288659793814433, 0.6363636363636364, 0.6434108527131783, 0.6442953020134228, 0.6470588235294118, 0.6457142857142857, 0.6538461538461539, 0.6534653465346535, 0.6403508771929824, 0.6375, 0.6398467432950191, 0.6334519572953736, 0.6267123287671232, 0.6241830065359477, 0.629746835443038, 0.6183431952662722, 0.6207865168539326, 0.6240208877284595, 0.6262626262626263, 0.6240963855421687, 0.6261467889908257, 0.6318082788671024, 0.62217659137577, 0.621301775147929, 0.6200378071833649, 0.6222627737226277, 0.6208112874779541, 0.6195286195286195, 0.6243822075782537, 0.6270358306188925, 0.6273584905660378, 0.6278713629402757, 0.6291291291291291, 0.6301775147928994, 0.6269727403156384, 0.6274238227146814, 0.6243243243243243, 0.6223118279569892, 0.6240105540897097, 0.6251621271076524, 0.6268844221105527, 0.6246973365617433, 0.6266349583828775, 0.6232558139534884, 0.6238636363636364, 0.6234772978959026, 0.6251354279523293, 0.6252653927813163, 0.6293558606124604, 0.6303219106957425, 0.6336734693877552, 0.6329625884732053, 0.631578947368421, 0.6305668016194332, 0.6295566502463055, 0.6314760508308895, 0.6283269961977186, 0.6263008514664143, 0.6255792400370713, 0.6255707762557078, 0.6282165039929015, 0.6295313881520778, 0.6280701754385964, 0.6262798634812287, 0.626890756302521, 0.6275805119735756, 0.6284552845528455, 0.6278884462151394, 0.6276183087664856, 0.6292048929663608, 0.630188679245283, 0.6320895522388059, 0.6301470588235294, 0.6305916305916306, 0.6308243727598566, 0.6335227272727273, 0.6332398316970547, 0.6356643356643357, 0.6355463347164592, 0.6358695652173914, 0.6338688085676037, 0.6357615894039735, 0.6360655737704918, 0.6358941252420917, 0.6368857689853222, 0.6345788473717543, 0.6340238543628374, 0.6347717323327079, 0.6351267779839208, 0.6351931330472103, 0.6336154776299879, 0.6349878934624698, 0.6340298507462686, 0.6353919239904988, 0.635930993456276, 0.6358244365361803, 0.6338278931750742]}],\n",
              "                        {\"template\": {\"data\": {\"bar\": [{\"error_x\": {\"color\": \"#2a3f5f\"}, \"error_y\": {\"color\": \"#2a3f5f\"}, \"marker\": {\"line\": {\"color\": \"#E5ECF6\", \"width\": 0.5}}, \"type\": \"bar\"}], \"barpolar\": [{\"marker\": {\"line\": {\"color\": \"#E5ECF6\", \"width\": 0.5}}, \"type\": \"barpolar\"}], \"carpet\": [{\"aaxis\": {\"endlinecolor\": \"#2a3f5f\", \"gridcolor\": \"white\", \"linecolor\": \"white\", \"minorgridcolor\": \"white\", \"startlinecolor\": \"#2a3f5f\"}, \"baxis\": {\"endlinecolor\": \"#2a3f5f\", \"gridcolor\": \"white\", \"linecolor\": \"white\", \"minorgridcolor\": \"white\", \"startlinecolor\": \"#2a3f5f\"}, \"type\": \"carpet\"}], \"choropleth\": [{\"colorbar\": {\"outlinewidth\": 0, \"ticks\": \"\"}, \"type\": \"choropleth\"}], \"contour\": [{\"colorbar\": {\"outlinewidth\": 0, \"ticks\": \"\"}, \"colorscale\": [[0.0, \"#0d0887\"], [0.1111111111111111, \"#46039f\"], [0.2222222222222222, \"#7201a8\"], [0.3333333333333333, \"#9c179e\"], [0.4444444444444444, \"#bd3786\"], [0.5555555555555556, \"#d8576b\"], [0.6666666666666666, \"#ed7953\"], [0.7777777777777778, \"#fb9f3a\"], [0.8888888888888888, \"#fdca26\"], [1.0, \"#f0f921\"]], \"type\": \"contour\"}], \"contourcarpet\": [{\"colorbar\": {\"outlinewidth\": 0, \"ticks\": \"\"}, \"type\": \"contourcarpet\"}], \"heatmap\": [{\"colorbar\": {\"outlinewidth\": 0, \"ticks\": \"\"}, \"colorscale\": [[0.0, \"#0d0887\"], [0.1111111111111111, \"#46039f\"], [0.2222222222222222, \"#7201a8\"], [0.3333333333333333, \"#9c179e\"], [0.4444444444444444, \"#bd3786\"], [0.5555555555555556, \"#d8576b\"], [0.6666666666666666, \"#ed7953\"], [0.7777777777777778, \"#fb9f3a\"], [0.8888888888888888, \"#fdca26\"], [1.0, \"#f0f921\"]], \"type\": \"heatmap\"}], \"heatmapgl\": [{\"colorbar\": {\"outlinewidth\": 0, \"ticks\": \"\"}, \"colorscale\": [[0.0, \"#0d0887\"], [0.1111111111111111, \"#46039f\"], [0.2222222222222222, \"#7201a8\"], [0.3333333333333333, \"#9c179e\"], [0.4444444444444444, \"#bd3786\"], [0.5555555555555556, \"#d8576b\"], [0.6666666666666666, \"#ed7953\"], [0.7777777777777778, \"#fb9f3a\"], [0.8888888888888888, \"#fdca26\"], [1.0, \"#f0f921\"]], \"type\": \"heatmapgl\"}], \"histogram\": [{\"marker\": {\"colorbar\": {\"outlinewidth\": 0, \"ticks\": \"\"}}, \"type\": \"histogram\"}], \"histogram2d\": [{\"colorbar\": {\"outlinewidth\": 0, \"ticks\": \"\"}, \"colorscale\": [[0.0, \"#0d0887\"], [0.1111111111111111, \"#46039f\"], [0.2222222222222222, \"#7201a8\"], [0.3333333333333333, \"#9c179e\"], [0.4444444444444444, \"#bd3786\"], [0.5555555555555556, \"#d8576b\"], [0.6666666666666666, \"#ed7953\"], [0.7777777777777778, \"#fb9f3a\"], [0.8888888888888888, \"#fdca26\"], [1.0, \"#f0f921\"]], \"type\": \"histogram2d\"}], \"histogram2dcontour\": [{\"colorbar\": {\"outlinewidth\": 0, \"ticks\": \"\"}, \"colorscale\": [[0.0, \"#0d0887\"], [0.1111111111111111, \"#46039f\"], [0.2222222222222222, \"#7201a8\"], [0.3333333333333333, \"#9c179e\"], [0.4444444444444444, \"#bd3786\"], [0.5555555555555556, \"#d8576b\"], [0.6666666666666666, \"#ed7953\"], [0.7777777777777778, \"#fb9f3a\"], [0.8888888888888888, \"#fdca26\"], [1.0, \"#f0f921\"]], \"type\": \"histogram2dcontour\"}], \"mesh3d\": [{\"colorbar\": {\"outlinewidth\": 0, \"ticks\": \"\"}, \"type\": \"mesh3d\"}], \"parcoords\": [{\"line\": {\"colorbar\": {\"outlinewidth\": 0, \"ticks\": \"\"}}, \"type\": \"parcoords\"}], \"pie\": [{\"automargin\": true, \"type\": \"pie\"}], \"scatter\": [{\"marker\": {\"colorbar\": {\"outlinewidth\": 0, \"ticks\": \"\"}}, \"type\": \"scatter\"}], \"scatter3d\": [{\"line\": {\"colorbar\": {\"outlinewidth\": 0, \"ticks\": \"\"}}, \"marker\": {\"colorbar\": {\"outlinewidth\": 0, \"ticks\": \"\"}}, \"type\": \"scatter3d\"}], \"scattercarpet\": [{\"marker\": {\"colorbar\": {\"outlinewidth\": 0, \"ticks\": \"\"}}, \"type\": \"scattercarpet\"}], \"scattergeo\": [{\"marker\": {\"colorbar\": {\"outlinewidth\": 0, \"ticks\": \"\"}}, \"type\": \"scattergeo\"}], \"scattergl\": [{\"marker\": {\"colorbar\": {\"outlinewidth\": 0, \"ticks\": \"\"}}, \"type\": \"scattergl\"}], \"scattermapbox\": [{\"marker\": {\"colorbar\": {\"outlinewidth\": 0, \"ticks\": \"\"}}, \"type\": \"scattermapbox\"}], \"scatterpolar\": [{\"marker\": {\"colorbar\": {\"outlinewidth\": 0, \"ticks\": \"\"}}, \"type\": \"scatterpolar\"}], \"scatterpolargl\": [{\"marker\": {\"colorbar\": {\"outlinewidth\": 0, \"ticks\": \"\"}}, \"type\": \"scatterpolargl\"}], \"scatterternary\": [{\"marker\": {\"colorbar\": {\"outlinewidth\": 0, \"ticks\": \"\"}}, \"type\": \"scatterternary\"}], \"surface\": [{\"colorbar\": {\"outlinewidth\": 0, \"ticks\": \"\"}, \"colorscale\": [[0.0, \"#0d0887\"], [0.1111111111111111, \"#46039f\"], [0.2222222222222222, \"#7201a8\"], [0.3333333333333333, \"#9c179e\"], [0.4444444444444444, \"#bd3786\"], [0.5555555555555556, \"#d8576b\"], [0.6666666666666666, \"#ed7953\"], [0.7777777777777778, \"#fb9f3a\"], [0.8888888888888888, \"#fdca26\"], [1.0, \"#f0f921\"]], \"type\": \"surface\"}], \"table\": [{\"cells\": {\"fill\": {\"color\": \"#EBF0F8\"}, \"line\": {\"color\": \"white\"}}, \"header\": {\"fill\": {\"color\": \"#C8D4E3\"}, \"line\": {\"color\": \"white\"}}, \"type\": \"table\"}]}, \"layout\": {\"annotationdefaults\": {\"arrowcolor\": \"#2a3f5f\", \"arrowhead\": 0, \"arrowwidth\": 1}, \"coloraxis\": {\"colorbar\": {\"outlinewidth\": 0, \"ticks\": \"\"}}, \"colorscale\": {\"diverging\": [[0, \"#8e0152\"], [0.1, \"#c51b7d\"], [0.2, \"#de77ae\"], [0.3, \"#f1b6da\"], [0.4, \"#fde0ef\"], [0.5, \"#f7f7f7\"], [0.6, \"#e6f5d0\"], [0.7, \"#b8e186\"], [0.8, \"#7fbc41\"], [0.9, \"#4d9221\"], [1, \"#276419\"]], \"sequential\": [[0.0, \"#0d0887\"], [0.1111111111111111, \"#46039f\"], [0.2222222222222222, \"#7201a8\"], [0.3333333333333333, \"#9c179e\"], [0.4444444444444444, \"#bd3786\"], [0.5555555555555556, \"#d8576b\"], [0.6666666666666666, \"#ed7953\"], [0.7777777777777778, \"#fb9f3a\"], [0.8888888888888888, \"#fdca26\"], [1.0, \"#f0f921\"]], \"sequentialminus\": [[0.0, \"#0d0887\"], [0.1111111111111111, \"#46039f\"], [0.2222222222222222, \"#7201a8\"], [0.3333333333333333, \"#9c179e\"], [0.4444444444444444, \"#bd3786\"], [0.5555555555555556, \"#d8576b\"], [0.6666666666666666, \"#ed7953\"], [0.7777777777777778, \"#fb9f3a\"], [0.8888888888888888, \"#fdca26\"], [1.0, \"#f0f921\"]]}, \"colorway\": [\"#636efa\", \"#EF553B\", \"#00cc96\", \"#ab63fa\", \"#FFA15A\", \"#19d3f3\", \"#FF6692\", \"#B6E880\", \"#FF97FF\", \"#FECB52\"], \"font\": {\"color\": \"#2a3f5f\"}, \"geo\": {\"bgcolor\": \"white\", \"lakecolor\": \"white\", \"landcolor\": \"#E5ECF6\", \"showlakes\": true, \"showland\": true, \"subunitcolor\": \"white\"}, \"hoverlabel\": {\"align\": \"left\"}, \"hovermode\": \"closest\", \"mapbox\": {\"style\": \"light\"}, \"paper_bgcolor\": \"white\", \"plot_bgcolor\": \"#E5ECF6\", \"polar\": {\"angularaxis\": {\"gridcolor\": \"white\", \"linecolor\": \"white\", \"ticks\": \"\"}, \"bgcolor\": \"#E5ECF6\", \"radialaxis\": {\"gridcolor\": \"white\", \"linecolor\": \"white\", \"ticks\": \"\"}}, \"scene\": {\"xaxis\": {\"backgroundcolor\": \"#E5ECF6\", \"gridcolor\": \"white\", \"gridwidth\": 2, \"linecolor\": \"white\", \"showbackground\": true, \"ticks\": \"\", \"zerolinecolor\": \"white\"}, \"yaxis\": {\"backgroundcolor\": \"#E5ECF6\", \"gridcolor\": \"white\", \"gridwidth\": 2, \"linecolor\": \"white\", \"showbackground\": true, \"ticks\": \"\", \"zerolinecolor\": \"white\"}, \"zaxis\": {\"backgroundcolor\": \"#E5ECF6\", \"gridcolor\": \"white\", \"gridwidth\": 2, \"linecolor\": \"white\", \"showbackground\": true, \"ticks\": \"\", \"zerolinecolor\": \"white\"}}, \"shapedefaults\": {\"line\": {\"color\": \"#2a3f5f\"}}, \"ternary\": {\"aaxis\": {\"gridcolor\": \"white\", \"linecolor\": \"white\", \"ticks\": \"\"}, \"baxis\": {\"gridcolor\": \"white\", \"linecolor\": \"white\", \"ticks\": \"\"}, \"bgcolor\": \"#E5ECF6\", \"caxis\": {\"gridcolor\": \"white\", \"linecolor\": \"white\", \"ticks\": \"\"}}, \"title\": {\"x\": 0.05}, \"xaxis\": {\"automargin\": true, \"gridcolor\": \"white\", \"linecolor\": \"white\", \"ticks\": \"\", \"title\": {\"standoff\": 15}, \"zerolinecolor\": \"white\", \"zerolinewidth\": 2}, \"yaxis\": {\"automargin\": true, \"gridcolor\": \"white\", \"linecolor\": \"white\", \"ticks\": \"\", \"title\": {\"standoff\": 15}, \"zerolinecolor\": \"white\", \"zerolinewidth\": 2}}}, \"title\": {\"text\": \"Proportion of LL, RR, and LR bonds by iteration\"}, \"xaxis\": {\"title\": {\"text\": \"Iteration\"}}, \"yaxis\": {\"range\": [0, 1], \"title\": {\"text\": \"Proportion\"}}},\n",
              "                        {\"responsive\": true}\n",
              "                    ).then(function(){\n",
              "                            \n",
              "var gd = document.getElementById('87cd6ce8-550d-477d-b6bc-d525dd9d637d');\n",
              "var x = new MutationObserver(function (mutations, observer) {{\n",
              "        var display = window.getComputedStyle(gd).display;\n",
              "        if (!display || display === 'none') {{\n",
              "            console.log([gd, 'removed!']);\n",
              "            Plotly.purge(gd);\n",
              "            observer.disconnect();\n",
              "        }}\n",
              "}});\n",
              "\n",
              "// Listen for the removal of the full notebook cells\n",
              "var notebookContainer = gd.closest('#notebook-container');\n",
              "if (notebookContainer) {{\n",
              "    x.observe(notebookContainer, {childList: true});\n",
              "}}\n",
              "\n",
              "// Listen for the clearing of the current output cell\n",
              "var outputEl = gd.closest('.output');\n",
              "if (outputEl) {{\n",
              "    x.observe(outputEl, {childList: true});\n",
              "}}\n",
              "\n",
              "                        })\n",
              "                };\n",
              "                \n",
              "            </script>\n",
              "        </div>\n",
              "</body>\n",
              "</html>"
            ]
          },
          "metadata": {
            "tags": [
              "id11_content_3",
              "outputarea_id11",
              "user_output"
            ]
          }
        },
        {
          "output_type": "display_data",
          "data": {
            "application/javascript": [
              "window[\"fee3517e-bd76-11ea-920b-0242ac1c0002\"] = google.colab.output.setActiveOutputArea(window[\"fec808e2-bd76-11ea-920b-0242ac1c0002\"]);\n",
              "//# sourceURL=js_322437d4c8"
            ],
            "text/plain": [
              "<IPython.core.display.Javascript object>"
            ]
          },
          "metadata": {
            "tags": [
              "id11_content_3",
              "outputarea_id11"
            ]
          }
        },
        {
          "output_type": "display_data",
          "data": {
            "application/javascript": [
              "window[\"fee50c58-bd76-11ea-920b-0242ac1c0002\"] = google.colab.output.getActiveOutputArea();\n",
              "//# sourceURL=js_ca4e277f8b"
            ],
            "text/plain": [
              "<IPython.core.display.Javascript object>"
            ]
          },
          "metadata": {
            "tags": [
              "id11_content_10",
              "outputarea_id11"
            ]
          }
        },
        {
          "output_type": "display_data",
          "data": {
            "application/javascript": [
              "window[\"fee54f42-bd76-11ea-920b-0242ac1c0002\"] = document.querySelector(\"#id11_content_10\");\n",
              "//# sourceURL=js_e11fd921b7"
            ],
            "text/plain": [
              "<IPython.core.display.Javascript object>"
            ]
          },
          "metadata": {
            "tags": [
              "id11_content_10",
              "outputarea_id11"
            ]
          }
        },
        {
          "output_type": "display_data",
          "data": {
            "application/javascript": [
              "window[\"fee59196-bd76-11ea-920b-0242ac1c0002\"] = google.colab.output.setActiveOutputArea(window[\"fee54f42-bd76-11ea-920b-0242ac1c0002\"]);\n",
              "//# sourceURL=js_1a57684de8"
            ],
            "text/plain": [
              "<IPython.core.display.Javascript object>"
            ]
          },
          "metadata": {
            "tags": [
              "id11_content_10",
              "outputarea_id11"
            ]
          }
        },
        {
          "output_type": "display_data",
          "data": {
            "application/javascript": [
              "window[\"fee5c634-bd76-11ea-920b-0242ac1c0002\"] = window[\"id11\"].setSelectedTabIndex(10);\n",
              "//# sourceURL=js_c81988bc78"
            ],
            "text/plain": [
              "<IPython.core.display.Javascript object>"
            ]
          },
          "metadata": {
            "tags": [
              "id11_content_10",
              "outputarea_id11"
            ]
          }
        },
        {
          "output_type": "display_data",
          "data": {
            "text/html": [
              "<html>\n",
              "<head><meta charset=\"utf-8\" /></head>\n",
              "<body>\n",
              "    <div>\n",
              "            <script src=\"https://cdnjs.cloudflare.com/ajax/libs/mathjax/2.7.5/MathJax.js?config=TeX-AMS-MML_SVG\"></script><script type=\"text/javascript\">if (window.MathJax) {MathJax.Hub.Config({SVG: {font: \"STIX-Web\"}});}</script>\n",
              "                <script type=\"text/javascript\">window.PlotlyConfig = {MathJaxConfig: 'local'};</script>\n",
              "        <script src=\"https://cdn.plot.ly/plotly-latest.min.js\"></script>    \n",
              "            <div id=\"ccdb6fec-fe01-43ce-b5ee-193423efa711\" class=\"plotly-graph-div\" style=\"height:525px; width:100%;\"></div>\n",
              "            <script type=\"text/javascript\">\n",
              "                \n",
              "                    window.PLOTLYENV=window.PLOTLYENV || {};\n",
              "                    \n",
              "                if (document.getElementById(\"ccdb6fec-fe01-43ce-b5ee-193423efa711\")) {\n",
              "                    Plotly.newPlot(\n",
              "                        'ccdb6fec-fe01-43ce-b5ee-193423efa711',\n",
              "                        [{\"hoverlabel\": {\"namelength\": 0}, \"hovertemplate\": \"Iteration=0<br>Length=%{x}<br>%Homochirality=%{y}\", \"legendgroup\": \"\", \"marker\": {\"color\": \"#636efa\", \"symbol\": \"circle\"}, \"mode\": \"markers\", \"name\": \"\", \"showlegend\": false, \"type\": \"scatter\", \"x\": [1, 1, 1, 1, 1, 1, 1, 1, 1, 1, 1, 1, 1, 1, 1, 1, 1, 1, 1, 1, 1, 1, 1, 1, 1, 1, 1, 1, 1, 1, 1, 1, 1, 1, 1, 1, 1, 1, 1, 1, 1, 1, 1, 1, 1, 1, 1, 1, 1, 1, 1, 1, 1, 1, 1, 1, 1, 1, 1, 1, 1, 1, 1, 1, 1, 1, 1, 1, 1, 1, 1, 1, 2, 2, 2, 2, 2, 2, 2, 2, 2, 2, 2, 2, 2, 2], \"xaxis\": \"x\", \"y\": [null, null, null, null, null, null, null, null, null, null, null, null, null, null, null, null, null, null, null, null, null, null, null, null, null, null, null, null, null, null, null, null, null, null, null, null, null, null, null, null, null, null, null, null, null, null, null, null, null, null, null, null, null, null, null, null, null, null, null, null, null, null, null, null, null, null, null, null, null, null, null, null, 1.0, 1.0, 0.0, 0.0, 0.0, 0.0, 0.0, 0.0, 1.0, 1.0, 1.0, 0.0, 0.0, 0.0], \"yaxis\": \"y\"}],\n",
              "                        {\"legend\": {\"tracegroupgap\": 0}, \"margin\": {\"t\": 60}, \"sliders\": [{\"active\": 0, \"currentvalue\": {\"prefix\": \"Iteration=\"}, \"len\": 0.9, \"pad\": {\"b\": 10, \"t\": 60}, \"steps\": [{\"args\": [[\"0\"], {\"frame\": {\"duration\": 0, \"redraw\": false}, \"fromcurrent\": true, \"mode\": \"immediate\", \"transition\": {\"duration\": 0, \"easing\": \"linear\"}}], \"label\": \"0\", \"method\": \"animate\"}, {\"args\": [[\"1\"], {\"frame\": {\"duration\": 0, \"redraw\": false}, \"fromcurrent\": true, \"mode\": \"immediate\", \"transition\": {\"duration\": 0, \"easing\": \"linear\"}}], \"label\": \"1\", \"method\": \"animate\"}, {\"args\": [[\"2\"], {\"frame\": {\"duration\": 0, \"redraw\": false}, \"fromcurrent\": true, \"mode\": \"immediate\", \"transition\": {\"duration\": 0, \"easing\": \"linear\"}}], \"label\": \"2\", \"method\": \"animate\"}, {\"args\": [[\"3\"], {\"frame\": {\"duration\": 0, \"redraw\": false}, \"fromcurrent\": true, \"mode\": \"immediate\", \"transition\": {\"duration\": 0, \"easing\": \"linear\"}}], \"label\": \"3\", \"method\": \"animate\"}, {\"args\": [[\"4\"], {\"frame\": {\"duration\": 0, \"redraw\": false}, \"fromcurrent\": true, \"mode\": \"immediate\", \"transition\": {\"duration\": 0, \"easing\": \"linear\"}}], \"label\": \"4\", \"method\": \"animate\"}, {\"args\": [[\"5\"], {\"frame\": {\"duration\": 0, \"redraw\": false}, \"fromcurrent\": true, \"mode\": \"immediate\", \"transition\": {\"duration\": 0, \"easing\": \"linear\"}}], \"label\": \"5\", \"method\": \"animate\"}, {\"args\": [[\"6\"], {\"frame\": {\"duration\": 0, \"redraw\": false}, \"fromcurrent\": true, \"mode\": \"immediate\", \"transition\": {\"duration\": 0, \"easing\": \"linear\"}}], \"label\": \"6\", \"method\": \"animate\"}, {\"args\": [[\"7\"], {\"frame\": {\"duration\": 0, \"redraw\": false}, \"fromcurrent\": true, \"mode\": \"immediate\", \"transition\": {\"duration\": 0, \"easing\": \"linear\"}}], \"label\": \"7\", \"method\": \"animate\"}, {\"args\": [[\"8\"], {\"frame\": {\"duration\": 0, \"redraw\": false}, \"fromcurrent\": true, \"mode\": \"immediate\", \"transition\": {\"duration\": 0, \"easing\": \"linear\"}}], \"label\": \"8\", \"method\": \"animate\"}, {\"args\": [[\"9\"], {\"frame\": {\"duration\": 0, \"redraw\": false}, \"fromcurrent\": true, \"mode\": \"immediate\", \"transition\": {\"duration\": 0, \"easing\": \"linear\"}}], \"label\": \"9\", \"method\": \"animate\"}, {\"args\": [[\"10\"], {\"frame\": {\"duration\": 0, \"redraw\": false}, \"fromcurrent\": true, \"mode\": \"immediate\", \"transition\": {\"duration\": 0, \"easing\": \"linear\"}}], \"label\": \"10\", \"method\": \"animate\"}, {\"args\": [[\"11\"], {\"frame\": {\"duration\": 0, \"redraw\": false}, \"fromcurrent\": true, \"mode\": \"immediate\", \"transition\": {\"duration\": 0, \"easing\": \"linear\"}}], \"label\": \"11\", \"method\": \"animate\"}, {\"args\": [[\"12\"], {\"frame\": {\"duration\": 0, \"redraw\": false}, \"fromcurrent\": true, \"mode\": \"immediate\", \"transition\": {\"duration\": 0, \"easing\": \"linear\"}}], \"label\": \"12\", \"method\": \"animate\"}, {\"args\": [[\"13\"], {\"frame\": {\"duration\": 0, \"redraw\": false}, \"fromcurrent\": true, \"mode\": \"immediate\", \"transition\": {\"duration\": 0, \"easing\": \"linear\"}}], \"label\": \"13\", \"method\": \"animate\"}, {\"args\": [[\"14\"], {\"frame\": {\"duration\": 0, \"redraw\": false}, \"fromcurrent\": true, \"mode\": \"immediate\", \"transition\": {\"duration\": 0, \"easing\": \"linear\"}}], \"label\": \"14\", \"method\": \"animate\"}, {\"args\": [[\"15\"], {\"frame\": {\"duration\": 0, \"redraw\": false}, \"fromcurrent\": true, \"mode\": \"immediate\", \"transition\": {\"duration\": 0, \"easing\": \"linear\"}}], \"label\": \"15\", \"method\": \"animate\"}, {\"args\": [[\"16\"], {\"frame\": {\"duration\": 0, \"redraw\": false}, \"fromcurrent\": true, \"mode\": \"immediate\", \"transition\": {\"duration\": 0, \"easing\": \"linear\"}}], \"label\": \"16\", \"method\": \"animate\"}, {\"args\": [[\"17\"], {\"frame\": {\"duration\": 0, \"redraw\": false}, \"fromcurrent\": true, \"mode\": \"immediate\", \"transition\": {\"duration\": 0, \"easing\": \"linear\"}}], \"label\": \"17\", \"method\": \"animate\"}, {\"args\": [[\"18\"], {\"frame\": {\"duration\": 0, \"redraw\": false}, \"fromcurrent\": true, \"mode\": \"immediate\", \"transition\": {\"duration\": 0, \"easing\": \"linear\"}}], \"label\": \"18\", \"method\": \"animate\"}, {\"args\": [[\"19\"], {\"frame\": {\"duration\": 0, \"redraw\": false}, \"fromcurrent\": true, \"mode\": \"immediate\", \"transition\": {\"duration\": 0, \"easing\": \"linear\"}}], \"label\": \"19\", \"method\": \"animate\"}, {\"args\": [[\"20\"], {\"frame\": {\"duration\": 0, \"redraw\": false}, \"fromcurrent\": true, \"mode\": \"immediate\", \"transition\": {\"duration\": 0, \"easing\": \"linear\"}}], \"label\": \"20\", \"method\": \"animate\"}, {\"args\": [[\"21\"], {\"frame\": {\"duration\": 0, \"redraw\": false}, \"fromcurrent\": true, \"mode\": \"immediate\", \"transition\": {\"duration\": 0, \"easing\": \"linear\"}}], \"label\": \"21\", \"method\": \"animate\"}, {\"args\": [[\"22\"], {\"frame\": {\"duration\": 0, \"redraw\": false}, \"fromcurrent\": true, \"mode\": \"immediate\", \"transition\": {\"duration\": 0, \"easing\": \"linear\"}}], \"label\": \"22\", \"method\": \"animate\"}, {\"args\": [[\"23\"], {\"frame\": {\"duration\": 0, \"redraw\": false}, \"fromcurrent\": true, \"mode\": \"immediate\", \"transition\": {\"duration\": 0, \"easing\": \"linear\"}}], \"label\": \"23\", \"method\": \"animate\"}, {\"args\": [[\"24\"], {\"frame\": {\"duration\": 0, \"redraw\": false}, \"fromcurrent\": true, \"mode\": \"immediate\", \"transition\": {\"duration\": 0, \"easing\": \"linear\"}}], \"label\": \"24\", \"method\": \"animate\"}, {\"args\": [[\"25\"], {\"frame\": {\"duration\": 0, \"redraw\": false}, \"fromcurrent\": true, \"mode\": \"immediate\", \"transition\": {\"duration\": 0, \"easing\": \"linear\"}}], \"label\": \"25\", \"method\": \"animate\"}, {\"args\": [[\"26\"], {\"frame\": {\"duration\": 0, \"redraw\": false}, \"fromcurrent\": true, \"mode\": \"immediate\", \"transition\": {\"duration\": 0, \"easing\": \"linear\"}}], \"label\": \"26\", \"method\": \"animate\"}, {\"args\": [[\"27\"], {\"frame\": {\"duration\": 0, \"redraw\": false}, \"fromcurrent\": true, \"mode\": \"immediate\", \"transition\": {\"duration\": 0, \"easing\": \"linear\"}}], \"label\": \"27\", \"method\": \"animate\"}, {\"args\": [[\"28\"], {\"frame\": {\"duration\": 0, \"redraw\": false}, \"fromcurrent\": true, \"mode\": \"immediate\", \"transition\": {\"duration\": 0, \"easing\": \"linear\"}}], \"label\": \"28\", \"method\": \"animate\"}, {\"args\": [[\"29\"], {\"frame\": {\"duration\": 0, \"redraw\": false}, \"fromcurrent\": true, \"mode\": \"immediate\", \"transition\": {\"duration\": 0, \"easing\": \"linear\"}}], \"label\": \"29\", \"method\": \"animate\"}, {\"args\": [[\"30\"], {\"frame\": {\"duration\": 0, \"redraw\": false}, \"fromcurrent\": true, \"mode\": \"immediate\", \"transition\": {\"duration\": 0, \"easing\": \"linear\"}}], \"label\": \"30\", \"method\": \"animate\"}, {\"args\": [[\"31\"], {\"frame\": {\"duration\": 0, \"redraw\": false}, \"fromcurrent\": true, \"mode\": \"immediate\", \"transition\": {\"duration\": 0, \"easing\": \"linear\"}}], \"label\": \"31\", \"method\": \"animate\"}, {\"args\": [[\"32\"], {\"frame\": {\"duration\": 0, \"redraw\": false}, \"fromcurrent\": true, \"mode\": \"immediate\", \"transition\": {\"duration\": 0, \"easing\": \"linear\"}}], \"label\": \"32\", \"method\": \"animate\"}, {\"args\": [[\"33\"], {\"frame\": {\"duration\": 0, \"redraw\": false}, \"fromcurrent\": true, \"mode\": \"immediate\", \"transition\": {\"duration\": 0, \"easing\": \"linear\"}}], \"label\": \"33\", \"method\": \"animate\"}, {\"args\": [[\"34\"], {\"frame\": {\"duration\": 0, \"redraw\": false}, \"fromcurrent\": true, \"mode\": \"immediate\", \"transition\": {\"duration\": 0, \"easing\": \"linear\"}}], \"label\": \"34\", \"method\": \"animate\"}, {\"args\": [[\"35\"], {\"frame\": {\"duration\": 0, \"redraw\": false}, \"fromcurrent\": true, \"mode\": \"immediate\", \"transition\": {\"duration\": 0, \"easing\": \"linear\"}}], \"label\": \"35\", \"method\": \"animate\"}, {\"args\": [[\"36\"], {\"frame\": {\"duration\": 0, \"redraw\": false}, \"fromcurrent\": true, \"mode\": \"immediate\", \"transition\": {\"duration\": 0, \"easing\": \"linear\"}}], \"label\": \"36\", \"method\": \"animate\"}, {\"args\": [[\"37\"], {\"frame\": {\"duration\": 0, \"redraw\": false}, \"fromcurrent\": true, \"mode\": \"immediate\", \"transition\": {\"duration\": 0, \"easing\": \"linear\"}}], \"label\": \"37\", \"method\": \"animate\"}, {\"args\": [[\"38\"], {\"frame\": {\"duration\": 0, \"redraw\": false}, \"fromcurrent\": true, \"mode\": \"immediate\", \"transition\": {\"duration\": 0, \"easing\": \"linear\"}}], \"label\": \"38\", \"method\": \"animate\"}, {\"args\": [[\"39\"], {\"frame\": {\"duration\": 0, \"redraw\": false}, \"fromcurrent\": true, \"mode\": \"immediate\", \"transition\": {\"duration\": 0, \"easing\": \"linear\"}}], \"label\": \"39\", \"method\": \"animate\"}, {\"args\": [[\"40\"], {\"frame\": {\"duration\": 0, \"redraw\": false}, \"fromcurrent\": true, \"mode\": \"immediate\", \"transition\": {\"duration\": 0, \"easing\": \"linear\"}}], \"label\": \"40\", \"method\": \"animate\"}, {\"args\": [[\"41\"], {\"frame\": {\"duration\": 0, \"redraw\": false}, \"fromcurrent\": true, \"mode\": \"immediate\", \"transition\": {\"duration\": 0, \"easing\": \"linear\"}}], \"label\": \"41\", \"method\": \"animate\"}, {\"args\": [[\"42\"], {\"frame\": {\"duration\": 0, \"redraw\": false}, \"fromcurrent\": true, \"mode\": \"immediate\", \"transition\": {\"duration\": 0, \"easing\": \"linear\"}}], \"label\": \"42\", \"method\": \"animate\"}, {\"args\": [[\"43\"], {\"frame\": {\"duration\": 0, \"redraw\": false}, \"fromcurrent\": true, \"mode\": \"immediate\", \"transition\": {\"duration\": 0, \"easing\": \"linear\"}}], \"label\": \"43\", \"method\": \"animate\"}, {\"args\": [[\"44\"], {\"frame\": {\"duration\": 0, \"redraw\": false}, \"fromcurrent\": true, \"mode\": \"immediate\", \"transition\": {\"duration\": 0, \"easing\": \"linear\"}}], \"label\": \"44\", \"method\": \"animate\"}, {\"args\": [[\"45\"], {\"frame\": {\"duration\": 0, \"redraw\": false}, \"fromcurrent\": true, \"mode\": \"immediate\", \"transition\": {\"duration\": 0, \"easing\": \"linear\"}}], \"label\": \"45\", \"method\": \"animate\"}, {\"args\": [[\"46\"], {\"frame\": {\"duration\": 0, \"redraw\": false}, \"fromcurrent\": true, \"mode\": \"immediate\", \"transition\": {\"duration\": 0, \"easing\": \"linear\"}}], \"label\": \"46\", \"method\": \"animate\"}, {\"args\": [[\"47\"], {\"frame\": {\"duration\": 0, \"redraw\": false}, \"fromcurrent\": true, \"mode\": \"immediate\", \"transition\": {\"duration\": 0, \"easing\": \"linear\"}}], \"label\": \"47\", \"method\": \"animate\"}, {\"args\": [[\"48\"], {\"frame\": {\"duration\": 0, \"redraw\": false}, \"fromcurrent\": true, \"mode\": \"immediate\", \"transition\": {\"duration\": 0, \"easing\": \"linear\"}}], \"label\": \"48\", \"method\": \"animate\"}, {\"args\": [[\"49\"], {\"frame\": {\"duration\": 0, \"redraw\": false}, \"fromcurrent\": true, \"mode\": \"immediate\", \"transition\": {\"duration\": 0, \"easing\": \"linear\"}}], \"label\": \"49\", \"method\": \"animate\"}, {\"args\": [[\"50\"], {\"frame\": {\"duration\": 0, \"redraw\": false}, \"fromcurrent\": true, \"mode\": \"immediate\", \"transition\": {\"duration\": 0, \"easing\": \"linear\"}}], \"label\": \"50\", \"method\": \"animate\"}, {\"args\": [[\"51\"], {\"frame\": {\"duration\": 0, \"redraw\": false}, \"fromcurrent\": true, \"mode\": \"immediate\", \"transition\": {\"duration\": 0, \"easing\": \"linear\"}}], \"label\": \"51\", \"method\": \"animate\"}, {\"args\": [[\"52\"], {\"frame\": {\"duration\": 0, \"redraw\": false}, \"fromcurrent\": true, \"mode\": \"immediate\", \"transition\": {\"duration\": 0, \"easing\": \"linear\"}}], \"label\": \"52\", \"method\": \"animate\"}, {\"args\": [[\"53\"], {\"frame\": {\"duration\": 0, \"redraw\": false}, \"fromcurrent\": true, \"mode\": \"immediate\", \"transition\": {\"duration\": 0, \"easing\": \"linear\"}}], \"label\": \"53\", \"method\": \"animate\"}, {\"args\": [[\"54\"], {\"frame\": {\"duration\": 0, \"redraw\": false}, \"fromcurrent\": true, \"mode\": \"immediate\", \"transition\": {\"duration\": 0, \"easing\": \"linear\"}}], \"label\": \"54\", \"method\": \"animate\"}, {\"args\": [[\"55\"], {\"frame\": {\"duration\": 0, \"redraw\": false}, \"fromcurrent\": true, \"mode\": \"immediate\", \"transition\": {\"duration\": 0, \"easing\": \"linear\"}}], \"label\": \"55\", \"method\": \"animate\"}, {\"args\": [[\"56\"], {\"frame\": {\"duration\": 0, \"redraw\": false}, \"fromcurrent\": true, \"mode\": \"immediate\", \"transition\": {\"duration\": 0, \"easing\": \"linear\"}}], \"label\": \"56\", \"method\": \"animate\"}, {\"args\": [[\"57\"], {\"frame\": {\"duration\": 0, \"redraw\": false}, \"fromcurrent\": true, \"mode\": \"immediate\", \"transition\": {\"duration\": 0, \"easing\": \"linear\"}}], \"label\": \"57\", \"method\": \"animate\"}, {\"args\": [[\"58\"], {\"frame\": {\"duration\": 0, \"redraw\": false}, \"fromcurrent\": true, \"mode\": \"immediate\", \"transition\": {\"duration\": 0, \"easing\": \"linear\"}}], \"label\": \"58\", \"method\": \"animate\"}, {\"args\": [[\"59\"], {\"frame\": {\"duration\": 0, \"redraw\": false}, \"fromcurrent\": true, \"mode\": \"immediate\", \"transition\": {\"duration\": 0, \"easing\": \"linear\"}}], \"label\": \"59\", \"method\": \"animate\"}, {\"args\": [[\"60\"], {\"frame\": {\"duration\": 0, \"redraw\": false}, \"fromcurrent\": true, \"mode\": \"immediate\", \"transition\": {\"duration\": 0, \"easing\": \"linear\"}}], \"label\": \"60\", \"method\": \"animate\"}, {\"args\": [[\"61\"], {\"frame\": {\"duration\": 0, \"redraw\": false}, \"fromcurrent\": true, \"mode\": \"immediate\", \"transition\": {\"duration\": 0, \"easing\": \"linear\"}}], \"label\": \"61\", \"method\": \"animate\"}, {\"args\": [[\"62\"], {\"frame\": {\"duration\": 0, \"redraw\": false}, \"fromcurrent\": true, \"mode\": \"immediate\", \"transition\": {\"duration\": 0, \"easing\": \"linear\"}}], \"label\": \"62\", \"method\": \"animate\"}, {\"args\": [[\"63\"], {\"frame\": {\"duration\": 0, \"redraw\": false}, \"fromcurrent\": true, \"mode\": \"immediate\", \"transition\": {\"duration\": 0, \"easing\": \"linear\"}}], \"label\": \"63\", \"method\": \"animate\"}, {\"args\": [[\"64\"], {\"frame\": {\"duration\": 0, \"redraw\": false}, \"fromcurrent\": true, \"mode\": \"immediate\", \"transition\": {\"duration\": 0, \"easing\": \"linear\"}}], \"label\": \"64\", \"method\": \"animate\"}, {\"args\": [[\"65\"], {\"frame\": {\"duration\": 0, \"redraw\": false}, \"fromcurrent\": true, \"mode\": \"immediate\", \"transition\": {\"duration\": 0, \"easing\": \"linear\"}}], \"label\": \"65\", \"method\": \"animate\"}, {\"args\": [[\"66\"], {\"frame\": {\"duration\": 0, \"redraw\": false}, \"fromcurrent\": true, \"mode\": \"immediate\", \"transition\": {\"duration\": 0, \"easing\": \"linear\"}}], \"label\": \"66\", \"method\": \"animate\"}, {\"args\": [[\"67\"], {\"frame\": {\"duration\": 0, \"redraw\": false}, \"fromcurrent\": true, \"mode\": \"immediate\", \"transition\": {\"duration\": 0, \"easing\": \"linear\"}}], \"label\": \"67\", \"method\": \"animate\"}, {\"args\": [[\"68\"], {\"frame\": {\"duration\": 0, \"redraw\": false}, \"fromcurrent\": true, \"mode\": \"immediate\", \"transition\": {\"duration\": 0, \"easing\": \"linear\"}}], \"label\": \"68\", \"method\": \"animate\"}, {\"args\": [[\"69\"], {\"frame\": {\"duration\": 0, \"redraw\": false}, \"fromcurrent\": true, \"mode\": \"immediate\", \"transition\": {\"duration\": 0, \"easing\": \"linear\"}}], \"label\": \"69\", \"method\": \"animate\"}, {\"args\": [[\"70\"], {\"frame\": {\"duration\": 0, \"redraw\": false}, \"fromcurrent\": true, \"mode\": \"immediate\", \"transition\": {\"duration\": 0, \"easing\": \"linear\"}}], \"label\": \"70\", \"method\": \"animate\"}, {\"args\": [[\"71\"], {\"frame\": {\"duration\": 0, \"redraw\": false}, \"fromcurrent\": true, \"mode\": \"immediate\", \"transition\": {\"duration\": 0, \"easing\": \"linear\"}}], \"label\": \"71\", \"method\": \"animate\"}, {\"args\": [[\"72\"], {\"frame\": {\"duration\": 0, \"redraw\": false}, \"fromcurrent\": true, \"mode\": \"immediate\", \"transition\": {\"duration\": 0, \"easing\": \"linear\"}}], \"label\": \"72\", \"method\": \"animate\"}, {\"args\": [[\"73\"], {\"frame\": {\"duration\": 0, \"redraw\": false}, \"fromcurrent\": true, \"mode\": \"immediate\", \"transition\": {\"duration\": 0, \"easing\": \"linear\"}}], \"label\": \"73\", \"method\": \"animate\"}, {\"args\": [[\"74\"], {\"frame\": {\"duration\": 0, \"redraw\": false}, \"fromcurrent\": true, \"mode\": \"immediate\", \"transition\": {\"duration\": 0, \"easing\": \"linear\"}}], \"label\": \"74\", \"method\": \"animate\"}, {\"args\": [[\"75\"], {\"frame\": {\"duration\": 0, \"redraw\": false}, \"fromcurrent\": true, \"mode\": \"immediate\", \"transition\": {\"duration\": 0, \"easing\": \"linear\"}}], \"label\": \"75\", \"method\": \"animate\"}, {\"args\": [[\"76\"], {\"frame\": {\"duration\": 0, \"redraw\": false}, \"fromcurrent\": true, \"mode\": \"immediate\", \"transition\": {\"duration\": 0, \"easing\": \"linear\"}}], \"label\": \"76\", \"method\": \"animate\"}, {\"args\": [[\"77\"], {\"frame\": {\"duration\": 0, \"redraw\": false}, \"fromcurrent\": true, \"mode\": \"immediate\", \"transition\": {\"duration\": 0, \"easing\": \"linear\"}}], \"label\": \"77\", \"method\": \"animate\"}, {\"args\": [[\"78\"], {\"frame\": {\"duration\": 0, \"redraw\": false}, \"fromcurrent\": true, \"mode\": \"immediate\", \"transition\": {\"duration\": 0, \"easing\": \"linear\"}}], \"label\": \"78\", \"method\": \"animate\"}, {\"args\": [[\"79\"], {\"frame\": {\"duration\": 0, \"redraw\": false}, \"fromcurrent\": true, \"mode\": \"immediate\", \"transition\": {\"duration\": 0, \"easing\": \"linear\"}}], \"label\": \"79\", \"method\": \"animate\"}, {\"args\": [[\"80\"], {\"frame\": {\"duration\": 0, \"redraw\": false}, \"fromcurrent\": true, \"mode\": \"immediate\", \"transition\": {\"duration\": 0, \"easing\": \"linear\"}}], \"label\": \"80\", \"method\": \"animate\"}, {\"args\": [[\"81\"], {\"frame\": {\"duration\": 0, \"redraw\": false}, \"fromcurrent\": true, \"mode\": \"immediate\", \"transition\": {\"duration\": 0, \"easing\": \"linear\"}}], \"label\": \"81\", \"method\": \"animate\"}, {\"args\": [[\"82\"], {\"frame\": {\"duration\": 0, \"redraw\": false}, \"fromcurrent\": true, \"mode\": \"immediate\", \"transition\": {\"duration\": 0, \"easing\": \"linear\"}}], \"label\": \"82\", \"method\": \"animate\"}, {\"args\": [[\"83\"], {\"frame\": {\"duration\": 0, \"redraw\": false}, \"fromcurrent\": true, \"mode\": \"immediate\", \"transition\": {\"duration\": 0, \"easing\": \"linear\"}}], \"label\": \"83\", \"method\": \"animate\"}, {\"args\": [[\"84\"], {\"frame\": {\"duration\": 0, \"redraw\": false}, \"fromcurrent\": true, \"mode\": \"immediate\", \"transition\": {\"duration\": 0, \"easing\": \"linear\"}}], \"label\": \"84\", \"method\": \"animate\"}, {\"args\": [[\"85\"], {\"frame\": {\"duration\": 0, \"redraw\": false}, \"fromcurrent\": true, \"mode\": \"immediate\", \"transition\": {\"duration\": 0, \"easing\": \"linear\"}}], \"label\": \"85\", \"method\": \"animate\"}, {\"args\": [[\"86\"], {\"frame\": {\"duration\": 0, \"redraw\": false}, \"fromcurrent\": true, \"mode\": \"immediate\", \"transition\": {\"duration\": 0, \"easing\": \"linear\"}}], \"label\": \"86\", \"method\": \"animate\"}, {\"args\": [[\"87\"], {\"frame\": {\"duration\": 0, \"redraw\": false}, \"fromcurrent\": true, \"mode\": \"immediate\", \"transition\": {\"duration\": 0, \"easing\": \"linear\"}}], \"label\": \"87\", \"method\": \"animate\"}, {\"args\": [[\"88\"], {\"frame\": {\"duration\": 0, \"redraw\": false}, \"fromcurrent\": true, \"mode\": \"immediate\", \"transition\": {\"duration\": 0, \"easing\": \"linear\"}}], \"label\": \"88\", \"method\": \"animate\"}, {\"args\": [[\"89\"], {\"frame\": {\"duration\": 0, \"redraw\": false}, \"fromcurrent\": true, \"mode\": \"immediate\", \"transition\": {\"duration\": 0, \"easing\": \"linear\"}}], \"label\": \"89\", \"method\": \"animate\"}, {\"args\": [[\"90\"], {\"frame\": {\"duration\": 0, \"redraw\": false}, \"fromcurrent\": true, \"mode\": \"immediate\", \"transition\": {\"duration\": 0, \"easing\": \"linear\"}}], \"label\": \"90\", \"method\": \"animate\"}, {\"args\": [[\"91\"], {\"frame\": {\"duration\": 0, \"redraw\": false}, \"fromcurrent\": true, \"mode\": \"immediate\", \"transition\": {\"duration\": 0, \"easing\": \"linear\"}}], \"label\": \"91\", \"method\": \"animate\"}, {\"args\": [[\"92\"], {\"frame\": {\"duration\": 0, \"redraw\": false}, \"fromcurrent\": true, \"mode\": \"immediate\", \"transition\": {\"duration\": 0, \"easing\": \"linear\"}}], \"label\": \"92\", \"method\": \"animate\"}, {\"args\": [[\"93\"], {\"frame\": {\"duration\": 0, \"redraw\": false}, \"fromcurrent\": true, \"mode\": \"immediate\", \"transition\": {\"duration\": 0, \"easing\": \"linear\"}}], \"label\": \"93\", \"method\": \"animate\"}, {\"args\": [[\"94\"], {\"frame\": {\"duration\": 0, \"redraw\": false}, \"fromcurrent\": true, \"mode\": \"immediate\", \"transition\": {\"duration\": 0, \"easing\": \"linear\"}}], \"label\": \"94\", \"method\": \"animate\"}, {\"args\": [[\"95\"], {\"frame\": {\"duration\": 0, \"redraw\": false}, \"fromcurrent\": true, \"mode\": \"immediate\", \"transition\": {\"duration\": 0, \"easing\": \"linear\"}}], \"label\": \"95\", \"method\": \"animate\"}, {\"args\": [[\"96\"], {\"frame\": {\"duration\": 0, \"redraw\": false}, \"fromcurrent\": true, \"mode\": \"immediate\", \"transition\": {\"duration\": 0, \"easing\": \"linear\"}}], \"label\": \"96\", \"method\": \"animate\"}, {\"args\": [[\"97\"], {\"frame\": {\"duration\": 0, \"redraw\": false}, \"fromcurrent\": true, \"mode\": \"immediate\", \"transition\": {\"duration\": 0, \"easing\": \"linear\"}}], \"label\": \"97\", \"method\": \"animate\"}, {\"args\": [[\"98\"], {\"frame\": {\"duration\": 0, \"redraw\": false}, \"fromcurrent\": true, \"mode\": \"immediate\", \"transition\": {\"duration\": 0, \"easing\": \"linear\"}}], \"label\": \"98\", \"method\": \"animate\"}, {\"args\": [[\"99\"], {\"frame\": {\"duration\": 0, \"redraw\": false}, \"fromcurrent\": true, \"mode\": \"immediate\", \"transition\": {\"duration\": 0, \"easing\": \"linear\"}}], \"label\": \"99\", \"method\": \"animate\"}], \"x\": 0.1, \"xanchor\": \"left\", \"y\": 0, \"yanchor\": \"top\"}], \"template\": {\"data\": {\"bar\": [{\"error_x\": {\"color\": \"#2a3f5f\"}, \"error_y\": {\"color\": \"#2a3f5f\"}, \"marker\": {\"line\": {\"color\": \"#E5ECF6\", \"width\": 0.5}}, \"type\": \"bar\"}], \"barpolar\": [{\"marker\": {\"line\": {\"color\": \"#E5ECF6\", \"width\": 0.5}}, \"type\": \"barpolar\"}], \"carpet\": [{\"aaxis\": {\"endlinecolor\": \"#2a3f5f\", \"gridcolor\": \"white\", \"linecolor\": \"white\", \"minorgridcolor\": \"white\", \"startlinecolor\": \"#2a3f5f\"}, \"baxis\": {\"endlinecolor\": \"#2a3f5f\", \"gridcolor\": \"white\", \"linecolor\": \"white\", \"minorgridcolor\": \"white\", \"startlinecolor\": \"#2a3f5f\"}, \"type\": \"carpet\"}], \"choropleth\": [{\"colorbar\": {\"outlinewidth\": 0, \"ticks\": \"\"}, \"type\": \"choropleth\"}], \"contour\": [{\"colorbar\": {\"outlinewidth\": 0, \"ticks\": \"\"}, \"colorscale\": [[0.0, \"#0d0887\"], [0.1111111111111111, \"#46039f\"], [0.2222222222222222, \"#7201a8\"], [0.3333333333333333, \"#9c179e\"], [0.4444444444444444, \"#bd3786\"], [0.5555555555555556, \"#d8576b\"], [0.6666666666666666, \"#ed7953\"], [0.7777777777777778, \"#fb9f3a\"], [0.8888888888888888, \"#fdca26\"], [1.0, \"#f0f921\"]], \"type\": \"contour\"}], \"contourcarpet\": [{\"colorbar\": {\"outlinewidth\": 0, \"ticks\": \"\"}, \"type\": \"contourcarpet\"}], \"heatmap\": [{\"colorbar\": {\"outlinewidth\": 0, \"ticks\": \"\"}, \"colorscale\": [[0.0, \"#0d0887\"], [0.1111111111111111, \"#46039f\"], [0.2222222222222222, \"#7201a8\"], [0.3333333333333333, \"#9c179e\"], [0.4444444444444444, \"#bd3786\"], [0.5555555555555556, \"#d8576b\"], [0.6666666666666666, \"#ed7953\"], [0.7777777777777778, \"#fb9f3a\"], [0.8888888888888888, \"#fdca26\"], [1.0, \"#f0f921\"]], \"type\": \"heatmap\"}], \"heatmapgl\": [{\"colorbar\": {\"outlinewidth\": 0, \"ticks\": \"\"}, \"colorscale\": [[0.0, \"#0d0887\"], [0.1111111111111111, \"#46039f\"], [0.2222222222222222, \"#7201a8\"], [0.3333333333333333, \"#9c179e\"], [0.4444444444444444, \"#bd3786\"], [0.5555555555555556, \"#d8576b\"], [0.6666666666666666, \"#ed7953\"], [0.7777777777777778, \"#fb9f3a\"], [0.8888888888888888, \"#fdca26\"], [1.0, \"#f0f921\"]], \"type\": \"heatmapgl\"}], \"histogram\": [{\"marker\": {\"colorbar\": {\"outlinewidth\": 0, \"ticks\": \"\"}}, \"type\": \"histogram\"}], \"histogram2d\": [{\"colorbar\": {\"outlinewidth\": 0, \"ticks\": \"\"}, \"colorscale\": [[0.0, \"#0d0887\"], [0.1111111111111111, \"#46039f\"], [0.2222222222222222, \"#7201a8\"], [0.3333333333333333, \"#9c179e\"], [0.4444444444444444, \"#bd3786\"], [0.5555555555555556, \"#d8576b\"], [0.6666666666666666, \"#ed7953\"], [0.7777777777777778, \"#fb9f3a\"], [0.8888888888888888, \"#fdca26\"], [1.0, \"#f0f921\"]], \"type\": \"histogram2d\"}], \"histogram2dcontour\": [{\"colorbar\": {\"outlinewidth\": 0, \"ticks\": \"\"}, \"colorscale\": [[0.0, \"#0d0887\"], [0.1111111111111111, \"#46039f\"], [0.2222222222222222, \"#7201a8\"], [0.3333333333333333, \"#9c179e\"], [0.4444444444444444, \"#bd3786\"], [0.5555555555555556, \"#d8576b\"], [0.6666666666666666, \"#ed7953\"], [0.7777777777777778, \"#fb9f3a\"], [0.8888888888888888, \"#fdca26\"], [1.0, \"#f0f921\"]], \"type\": \"histogram2dcontour\"}], \"mesh3d\": [{\"colorbar\": {\"outlinewidth\": 0, \"ticks\": \"\"}, \"type\": \"mesh3d\"}], \"parcoords\": [{\"line\": {\"colorbar\": {\"outlinewidth\": 0, \"ticks\": \"\"}}, \"type\": \"parcoords\"}], \"pie\": [{\"automargin\": true, \"type\": \"pie\"}], \"scatter\": [{\"marker\": {\"colorbar\": {\"outlinewidth\": 0, \"ticks\": \"\"}}, \"type\": \"scatter\"}], \"scatter3d\": [{\"line\": {\"colorbar\": {\"outlinewidth\": 0, \"ticks\": \"\"}}, \"marker\": {\"colorbar\": {\"outlinewidth\": 0, \"ticks\": \"\"}}, \"type\": \"scatter3d\"}], \"scattercarpet\": [{\"marker\": {\"colorbar\": {\"outlinewidth\": 0, \"ticks\": \"\"}}, \"type\": \"scattercarpet\"}], \"scattergeo\": [{\"marker\": {\"colorbar\": {\"outlinewidth\": 0, \"ticks\": \"\"}}, \"type\": \"scattergeo\"}], \"scattergl\": [{\"marker\": {\"colorbar\": {\"outlinewidth\": 0, \"ticks\": \"\"}}, \"type\": \"scattergl\"}], \"scattermapbox\": [{\"marker\": {\"colorbar\": {\"outlinewidth\": 0, \"ticks\": \"\"}}, \"type\": \"scattermapbox\"}], \"scatterpolar\": [{\"marker\": {\"colorbar\": {\"outlinewidth\": 0, \"ticks\": \"\"}}, \"type\": \"scatterpolar\"}], \"scatterpolargl\": [{\"marker\": {\"colorbar\": {\"outlinewidth\": 0, \"ticks\": \"\"}}, \"type\": \"scatterpolargl\"}], \"scatterternary\": [{\"marker\": {\"colorbar\": {\"outlinewidth\": 0, \"ticks\": \"\"}}, \"type\": \"scatterternary\"}], \"surface\": [{\"colorbar\": {\"outlinewidth\": 0, \"ticks\": \"\"}, \"colorscale\": [[0.0, \"#0d0887\"], [0.1111111111111111, \"#46039f\"], [0.2222222222222222, \"#7201a8\"], [0.3333333333333333, \"#9c179e\"], [0.4444444444444444, \"#bd3786\"], [0.5555555555555556, \"#d8576b\"], [0.6666666666666666, \"#ed7953\"], [0.7777777777777778, \"#fb9f3a\"], [0.8888888888888888, \"#fdca26\"], [1.0, \"#f0f921\"]], \"type\": \"surface\"}], \"table\": [{\"cells\": {\"fill\": {\"color\": \"#EBF0F8\"}, \"line\": {\"color\": \"white\"}}, \"header\": {\"fill\": {\"color\": \"#C8D4E3\"}, \"line\": {\"color\": \"white\"}}, \"type\": \"table\"}]}, \"layout\": {\"annotationdefaults\": {\"arrowcolor\": \"#2a3f5f\", \"arrowhead\": 0, \"arrowwidth\": 1}, \"coloraxis\": {\"colorbar\": {\"outlinewidth\": 0, \"ticks\": \"\"}}, \"colorscale\": {\"diverging\": [[0, \"#8e0152\"], [0.1, \"#c51b7d\"], [0.2, \"#de77ae\"], [0.3, \"#f1b6da\"], [0.4, \"#fde0ef\"], [0.5, \"#f7f7f7\"], [0.6, \"#e6f5d0\"], [0.7, \"#b8e186\"], [0.8, \"#7fbc41\"], [0.9, \"#4d9221\"], [1, \"#276419\"]], \"sequential\": [[0.0, \"#0d0887\"], [0.1111111111111111, \"#46039f\"], [0.2222222222222222, \"#7201a8\"], [0.3333333333333333, \"#9c179e\"], [0.4444444444444444, \"#bd3786\"], [0.5555555555555556, \"#d8576b\"], [0.6666666666666666, \"#ed7953\"], [0.7777777777777778, \"#fb9f3a\"], [0.8888888888888888, \"#fdca26\"], [1.0, \"#f0f921\"]], \"sequentialminus\": [[0.0, \"#0d0887\"], [0.1111111111111111, \"#46039f\"], [0.2222222222222222, \"#7201a8\"], [0.3333333333333333, \"#9c179e\"], [0.4444444444444444, \"#bd3786\"], [0.5555555555555556, \"#d8576b\"], [0.6666666666666666, \"#ed7953\"], [0.7777777777777778, \"#fb9f3a\"], [0.8888888888888888, \"#fdca26\"], [1.0, \"#f0f921\"]]}, \"colorway\": [\"#636efa\", \"#EF553B\", \"#00cc96\", \"#ab63fa\", \"#FFA15A\", \"#19d3f3\", \"#FF6692\", \"#B6E880\", \"#FF97FF\", \"#FECB52\"], \"font\": {\"color\": \"#2a3f5f\"}, \"geo\": {\"bgcolor\": \"white\", \"lakecolor\": \"white\", \"landcolor\": \"#E5ECF6\", \"showlakes\": true, \"showland\": true, \"subunitcolor\": \"white\"}, \"hoverlabel\": {\"align\": \"left\"}, \"hovermode\": \"closest\", \"mapbox\": {\"style\": \"light\"}, \"paper_bgcolor\": \"white\", \"plot_bgcolor\": \"#E5ECF6\", \"polar\": {\"angularaxis\": {\"gridcolor\": \"white\", \"linecolor\": \"white\", \"ticks\": \"\"}, \"bgcolor\": \"#E5ECF6\", \"radialaxis\": {\"gridcolor\": \"white\", \"linecolor\": \"white\", \"ticks\": \"\"}}, \"scene\": {\"xaxis\": {\"backgroundcolor\": \"#E5ECF6\", \"gridcolor\": \"white\", \"gridwidth\": 2, \"linecolor\": \"white\", \"showbackground\": true, \"ticks\": \"\", \"zerolinecolor\": \"white\"}, \"yaxis\": {\"backgroundcolor\": \"#E5ECF6\", \"gridcolor\": \"white\", \"gridwidth\": 2, \"linecolor\": \"white\", \"showbackground\": true, \"ticks\": \"\", \"zerolinecolor\": \"white\"}, \"zaxis\": {\"backgroundcolor\": \"#E5ECF6\", \"gridcolor\": \"white\", \"gridwidth\": 2, \"linecolor\": \"white\", \"showbackground\": true, \"ticks\": \"\", \"zerolinecolor\": \"white\"}}, \"shapedefaults\": {\"line\": {\"color\": \"#2a3f5f\"}}, \"ternary\": {\"aaxis\": {\"gridcolor\": \"white\", \"linecolor\": \"white\", \"ticks\": \"\"}, \"baxis\": {\"gridcolor\": \"white\", \"linecolor\": \"white\", \"ticks\": \"\"}, \"bgcolor\": \"#E5ECF6\", \"caxis\": {\"gridcolor\": \"white\", \"linecolor\": \"white\", \"ticks\": \"\"}}, \"title\": {\"x\": 0.05}, \"xaxis\": {\"automargin\": true, \"gridcolor\": \"white\", \"linecolor\": \"white\", \"ticks\": \"\", \"title\": {\"standoff\": 15}, \"zerolinecolor\": \"white\", \"zerolinewidth\": 2}, \"yaxis\": {\"automargin\": true, \"gridcolor\": \"white\", \"linecolor\": \"white\", \"ticks\": \"\", \"title\": {\"standoff\": 15}, \"zerolinecolor\": \"white\", \"zerolinewidth\": 2}}}, \"updatemenus\": [{\"buttons\": [{\"args\": [null, {\"frame\": {\"duration\": 500, \"redraw\": false}, \"fromcurrent\": true, \"mode\": \"immediate\", \"transition\": {\"duration\": 500, \"easing\": \"linear\"}}], \"label\": \"&#9654;\", \"method\": \"animate\"}, {\"args\": [[null], {\"frame\": {\"duration\": 0, \"redraw\": false}, \"fromcurrent\": true, \"mode\": \"immediate\", \"transition\": {\"duration\": 0, \"easing\": \"linear\"}}], \"label\": \"&#9724;\", \"method\": \"animate\"}], \"direction\": \"left\", \"pad\": {\"r\": 10, \"t\": 70}, \"showactive\": false, \"type\": \"buttons\", \"x\": 0.1, \"xanchor\": \"right\", \"y\": 0, \"yanchor\": \"top\"}], \"xaxis\": {\"anchor\": \"y\", \"domain\": [0.0, 1.0], \"range\": [-1, 199], \"title\": {\"text\": \"Length\"}}, \"yaxis\": {\"anchor\": \"x\", \"domain\": [0.0, 1.0], \"range\": [-0.01, 1.2], \"title\": {\"text\": \"%Homochirality\"}}},\n",
              "                        {\"responsive\": true}\n",
              "                    ).then(function(){\n",
              "                            Plotly.addFrames('ccdb6fec-fe01-43ce-b5ee-193423efa711', [{\"data\": [{\"hoverlabel\": {\"namelength\": 0}, \"hovertemplate\": \"Iteration=0<br>Length=%{x}<br>%Homochirality=%{y}\", \"legendgroup\": \"\", \"marker\": {\"color\": \"#636efa\", \"symbol\": \"circle\"}, \"mode\": \"markers\", \"name\": \"\", \"showlegend\": false, \"x\": [1, 1, 1, 1, 1, 1, 1, 1, 1, 1, 1, 1, 1, 1, 1, 1, 1, 1, 1, 1, 1, 1, 1, 1, 1, 1, 1, 1, 1, 1, 1, 1, 1, 1, 1, 1, 1, 1, 1, 1, 1, 1, 1, 1, 1, 1, 1, 1, 1, 1, 1, 1, 1, 1, 1, 1, 1, 1, 1, 1, 1, 1, 1, 1, 1, 1, 1, 1, 1, 1, 1, 1, 2, 2, 2, 2, 2, 2, 2, 2, 2, 2, 2, 2, 2, 2], \"xaxis\": \"x\", \"y\": [null, null, null, null, null, null, null, null, null, null, null, null, null, null, null, null, null, null, null, null, null, null, null, null, null, null, null, null, null, null, null, null, null, null, null, null, null, null, null, null, null, null, null, null, null, null, null, null, null, null, null, null, null, null, null, null, null, null, null, null, null, null, null, null, null, null, null, null, null, null, null, null, 1.0, 1.0, 0.0, 0.0, 0.0, 0.0, 0.0, 0.0, 1.0, 1.0, 1.0, 0.0, 0.0, 0.0], \"yaxis\": \"y\", \"type\": \"scatter\"}], \"name\": \"0\"}, {\"data\": [{\"hoverlabel\": {\"namelength\": 0}, \"hovertemplate\": \"Iteration=1<br>Length=%{x}<br>%Homochirality=%{y}\", \"legendgroup\": \"\", \"marker\": {\"color\": \"#636efa\", \"symbol\": \"circle\"}, \"mode\": \"markers\", \"name\": \"\", \"showlegend\": false, \"x\": [1, 1, 4, 1, 1, 1, 1, 1, 1, 4, 1, 1, 1, 1, 1, 1, 1, 1, 1, 1, 1, 1, 1, 1, 1, 1, 4, 1, 1, 1, 1, 1, 1, 1, 1, 1, 1, 1, 1, 1, 1, 3, 1, 1, 1, 1, 1, 1, 2, 1, 1, 1, 1, 1, 1, 1, 1, 1, 1, 1, 3, 1, 1, 1, 2, 2, 2, 3, 2, 2, 2, 2, 1, 1, 2, 2, 3, 2, 1, 1, 1, 1, 2, 2], \"xaxis\": \"x\", \"y\": [null, null, 0.3333333333333333, null, null, null, null, null, null, 0.6666666666666666, null, null, null, null, null, null, null, null, null, null, null, null, null, null, null, null, 1.0, null, null, null, null, null, null, null, null, null, null, null, null, null, null, 0.5, null, null, null, null, null, null, 1.0, null, null, null, null, null, null, null, null, null, null, null, 0.0, null, null, null, 0.0, 1.0, 0.0, 0.5, 1.0, 1.0, 1.0, 1.0, null, null, 1.0, 1.0, 0.0, 0.0, null, null, null, null, 0.0, 0.0], \"yaxis\": \"y\", \"type\": \"scatter\"}], \"name\": \"1\"}, {\"data\": [{\"hoverlabel\": {\"namelength\": 0}, \"hovertemplate\": \"Iteration=2<br>Length=%{x}<br>%Homochirality=%{y}\", \"legendgroup\": \"\", \"marker\": {\"color\": \"#636efa\", \"symbol\": \"circle\"}, \"mode\": \"markers\", \"name\": \"\", \"showlegend\": false, \"x\": [1, 1, 1, 3, 1, 1, 1, 1, 1, 5, 1, 1, 1, 1, 3, 1, 1, 1, 1, 5, 1, 1, 1, 1, 1, 1, 1, 1, 1, 1, 1, 1, 1, 1, 1, 1, 1, 1, 1, 1, 3, 1, 3, 1, 1, 1, 3, 1, 1, 1, 1, 1, 1, 4, 1, 1, 6, 1, 1, 1, 1, 3, 2, 4, 2, 1, 5, 1, 1, 2, 3, 1, 1, 2, 2, 2, 2, 2, 3, 2, 1, 1], \"xaxis\": \"x\", \"y\": [null, null, null, 0.5, null, null, null, null, null, 0.75, null, null, null, null, 0.5, null, null, null, null, 0.25, null, null, null, null, null, null, null, null, null, null, null, null, null, null, null, null, null, null, null, null, 0.5, null, 0.5, null, null, null, 0.5, null, null, null, null, null, null, 0.0, null, null, 0.8, null, null, null, null, 0.0, 1.0, 0.0, 1.0, null, 0.75, null, null, 1.0, 1.0, null, null, 0.0, 0.0, 1.0, 1.0, 1.0, 0.5, 1.0, null, null], \"yaxis\": \"y\", \"type\": \"scatter\"}], \"name\": \"2\"}, {\"data\": [{\"hoverlabel\": {\"namelength\": 0}, \"hovertemplate\": \"Iteration=3<br>Length=%{x}<br>%Homochirality=%{y}\", \"legendgroup\": \"\", \"marker\": {\"color\": \"#636efa\", \"symbol\": \"circle\"}, \"mode\": \"markers\", \"name\": \"\", \"showlegend\": false, \"x\": [1, 1, 1, 3, 1, 1, 1, 1, 6, 1, 1, 1, 1, 1, 1, 1, 1, 1, 1, 1, 1, 4, 1, 1, 1, 1, 1, 7, 1, 1, 1, 6, 2, 1, 3, 1, 1, 1, 1, 1, 1, 1, 1, 1, 1, 1, 1, 1, 1, 1, 1, 5, 6, 1, 1, 1, 3, 1, 1, 1, 1, 4, 1, 2, 2, 2, 1, 2, 1, 1, 2, 2, 2, 2, 2, 1, 1, 1, 2, 2, 3, 1, 1, 4, 3, 6, 1], \"xaxis\": \"x\", \"y\": [null, null, null, 0.5, null, null, null, null, 0.6, null, null, null, null, null, null, null, null, null, null, null, null, 1.0, null, null, null, null, null, 0.8333333333333334, null, null, null, 0.2, 0.0, null, 1.0, null, null, null, null, null, null, null, null, null, null, null, null, null, null, null, null, 0.75, 0.2, null, null, null, 0.5, null, null, null, null, 0.3333333333333333, null, 0.0, 0.0, 0.0, null, 1.0, null, null, 1.0, 1.0, 1.0, 0.0, 1.0, null, null, null, 1.0, 1.0, 1.0, null, null, 0.6666666666666666, 1.0, 0.4, null], \"yaxis\": \"y\", \"type\": \"scatter\"}], \"name\": \"3\"}, {\"data\": [{\"hoverlabel\": {\"namelength\": 0}, \"hovertemplate\": \"Iteration=4<br>Length=%{x}<br>%Homochirality=%{y}\", \"legendgroup\": \"\", \"marker\": {\"color\": \"#636efa\", \"symbol\": \"circle\"}, \"mode\": \"markers\", \"name\": \"\", \"showlegend\": false, \"x\": [1, 4, 1, 1, 1, 1, 1, 1, 1, 1, 2, 1, 3, 1, 1, 1, 1, 1, 4, 1, 4, 5, 1, 1, 2, 1, 1, 3, 1, 1, 1, 3, 1, 1, 1, 7, 1, 2, 1, 3, 1, 1, 1, 3, 1, 1, 1, 1, 1, 1, 1, 1, 1, 1, 1, 1, 1, 1, 1, 1, 1, 1, 1, 1, 1, 1, 1, 2, 2, 1, 2, 2, 3, 3, 1, 1, 3, 2, 1, 1, 7, 2, 1, 1, 1, 1, 7, 2, 5, 3, 8], \"xaxis\": \"x\", \"y\": [null, 0.6666666666666666, null, null, null, null, null, null, null, null, 1.0, null, 0.5, null, null, null, null, null, 0.6666666666666666, null, 0.6666666666666666, 0.75, null, null, 0.0, null, null, 0.5, null, null, null, 0.0, null, null, null, 0.6666666666666666, null, 1.0, null, 1.0, null, null, null, 1.0, null, null, null, null, null, null, null, null, null, null, null, null, null, null, null, null, null, null, null, null, null, null, null, 0.0, 1.0, null, 0.0, 0.0, 0.5, 0.5, null, null, 0.5, 0.0, null, null, 0.16666666666666666, 1.0, null, null, null, null, 0.3333333333333333, 1.0, 0.75, 0.5, 0.8571428571428571], \"yaxis\": \"y\", \"type\": \"scatter\"}], \"name\": \"4\"}, {\"data\": [{\"hoverlabel\": {\"namelength\": 0}, \"hovertemplate\": \"Iteration=5<br>Length=%{x}<br>%Homochirality=%{y}\", \"legendgroup\": \"\", \"marker\": {\"color\": \"#636efa\", \"symbol\": \"circle\"}, \"mode\": \"markers\", \"name\": \"\", \"showlegend\": false, \"x\": [1, 2, 1, 1, 1, 8, 1, 1, 1, 1, 1, 2, 10, 1, 1, 3, 1, 4, 1, 1, 1, 1, 1, 1, 6, 1, 1, 1, 1, 1, 1, 1, 1, 1, 1, 1, 1, 9, 1, 1, 1, 2, 1, 1, 1, 2, 1, 1, 4, 1, 1, 1, 1, 1, 1, 3, 9, 4, 2, 1, 1, 2, 1, 2, 1, 5, 3, 1, 2, 5, 2, 2, 1, 1, 3, 2, 2, 3, 2, 3, 1, 1, 1, 2, 1, 1, 4], \"xaxis\": \"x\", \"y\": [null, 1.0, null, null, null, 0.5714285714285714, null, null, null, null, null, 1.0, 0.2222222222222222, null, null, 0.5, null, 0.6666666666666666, null, null, null, null, null, null, 0.6, null, null, null, null, null, null, null, null, null, null, null, null, 0.25, null, null, null, 1.0, null, null, null, 1.0, null, null, 1.0, null, null, null, null, null, null, 1.0, 0.75, 0.3333333333333333, 1.0, null, null, 0.0, null, 0.0, null, 0.75, 0.5, null, 1.0, 0.75, 1.0, 0.0, null, null, 0.0, 1.0, 1.0, 0.5, 0.0, 0.5, null, null, null, 1.0, null, null, 0.3333333333333333], \"yaxis\": \"y\", \"type\": \"scatter\"}], \"name\": \"5\"}, {\"data\": [{\"hoverlabel\": {\"namelength\": 0}, \"hovertemplate\": \"Iteration=6<br>Length=%{x}<br>%Homochirality=%{y}\", \"legendgroup\": \"\", \"marker\": {\"color\": \"#636efa\", \"symbol\": \"circle\"}, \"mode\": \"markers\", \"name\": \"\", \"showlegend\": false, \"x\": [2, 11, 1, 7, 1, 1, 1, 1, 2, 1, 1, 1, 1, 1, 1, 1, 5, 1, 1, 1, 2, 1, 7, 1, 1, 1, 1, 1, 6, 1, 11, 1, 3, 1, 1, 2, 1, 1, 1, 1, 1, 1, 5, 1, 1, 1, 2, 3, 1, 1, 1, 4, 1, 1, 1, 1, 9, 1, 1, 1, 1, 1, 1, 1, 1, 2, 4, 4, 2, 3, 1, 1, 2, 1, 1, 2, 3, 1, 3, 4, 3, 2, 3, 1, 5, 3, 2], \"xaxis\": \"x\", \"y\": [0.0, 0.8, null, 0.3333333333333333, null, null, null, null, 1.0, null, null, null, null, null, null, null, 0.75, null, null, null, 1.0, null, 0.5, null, null, null, null, null, 0.6, null, 0.3, null, 1.0, null, null, 1.0, null, null, null, null, null, null, 0.5, null, null, null, 1.0, 0.5, null, null, null, 0.6666666666666666, null, null, null, null, 0.625, null, null, null, null, null, null, null, null, 0.0, 0.6666666666666666, 0.0, 1.0, 1.0, null, null, 1.0, null, null, 0.0, 0.5, null, 0.5, 0.3333333333333333, 1.0, 1.0, 0.0, null, 0.75, 0.0, 0.0], \"yaxis\": \"y\", \"type\": \"scatter\"}], \"name\": \"6\"}, {\"data\": [{\"hoverlabel\": {\"namelength\": 0}, \"hovertemplate\": \"Iteration=7<br>Length=%{x}<br>%Homochirality=%{y}\", \"legendgroup\": \"\", \"marker\": {\"color\": \"#636efa\", \"symbol\": \"circle\"}, \"mode\": \"markers\", \"name\": \"\", \"showlegend\": false, \"x\": [5, 3, 1, 1, 5, 1, 1, 1, 1, 1, 1, 5, 8, 1, 1, 1, 9, 1, 3, 1, 4, 1, 1, 2, 1, 1, 1, 1, 1, 1, 4, 1, 1, 1, 1, 1, 1, 6, 1, 1, 1, 1, 1, 1, 5, 6, 1, 1, 1, 2, 6, 8, 1, 4, 1, 1, 1, 5, 1, 1, 1, 1, 2, 1, 1, 3, 1, 6, 3, 2, 2, 2, 1, 1, 1, 4, 2, 5, 10, 2, 2, 3, 1, 2, 1, 4], \"xaxis\": \"x\", \"y\": [0.75, 0.0, null, null, 0.5, null, null, null, null, null, null, 0.25, 0.42857142857142855, null, null, null, 0.75, null, 1.0, null, 1.0, null, null, 0.0, null, null, null, null, null, null, 0.6666666666666666, null, null, null, null, null, null, 0.6, null, null, null, null, null, null, 0.5, 0.8, null, null, null, 0.0, 0.8, 0.42857142857142855, null, 1.0, null, null, null, 0.5, null, null, null, null, 1.0, null, null, 0.5, null, 0.4, 1.0, 1.0, 1.0, 1.0, null, null, null, 0.0, 0.0, 0.25, 0.6666666666666666, 0.0, 0.0, 0.0, null, 0.0, null, 0.3333333333333333], \"yaxis\": \"y\", \"type\": \"scatter\"}], \"name\": \"7\"}, {\"data\": [{\"hoverlabel\": {\"namelength\": 0}, \"hovertemplate\": \"Iteration=8<br>Length=%{x}<br>%Homochirality=%{y}\", \"legendgroup\": \"\", \"marker\": {\"color\": \"#636efa\", \"symbol\": \"circle\"}, \"mode\": \"markers\", \"name\": \"\", \"showlegend\": false, \"x\": [1, 6, 5, 2, 1, 1, 1, 4, 1, 9, 1, 1, 3, 1, 1, 1, 1, 1, 1, 1, 1, 1, 9, 4, 2, 1, 6, 1, 1, 1, 7, 1, 1, 1, 4, 6, 1, 10, 1, 1, 7, 1, 1, 5, 1, 1, 1, 1, 1, 3, 1, 1, 1, 1, 2, 1, 1, 1, 1, 1, 1, 3, 1, 7, 4, 2, 1, 1, 1, 1, 3, 2, 1, 3, 1, 2, 1, 1, 1, 1, 2, 4, 6, 1, 1, 1, 1, 2, 1, 5, 1, 2, 3, 2, 1, 1, 2], \"xaxis\": \"x\", \"y\": [null, 0.6, 0.5, 1.0, null, null, null, 0.3333333333333333, null, 0.625, null, null, 1.0, null, null, null, null, null, null, null, null, null, 0.5, 1.0, 0.0, null, 0.6, null, null, null, 0.8333333333333334, null, null, null, 0.6666666666666666, 0.6, null, 0.6666666666666666, null, null, 0.3333333333333333, null, null, 1.0, null, null, null, null, null, 1.0, null, null, null, null, 1.0, null, null, null, null, null, null, 0.0, null, 0.3333333333333333, 0.3333333333333333, 0.0, null, null, null, null, 0.0, 0.0, null, 0.5, null, 1.0, null, null, null, null, 1.0, 0.6666666666666666, 0.2, null, null, null, null, 0.0, null, 0.75, null, 1.0, 0.0, 0.0, null, null, 0.0], \"yaxis\": \"y\", \"type\": \"scatter\"}], \"name\": \"8\"}, {\"data\": [{\"hoverlabel\": {\"namelength\": 0}, \"hovertemplate\": \"Iteration=9<br>Length=%{x}<br>%Homochirality=%{y}\", \"legendgroup\": \"\", \"marker\": {\"color\": \"#636efa\", \"symbol\": \"circle\"}, \"mode\": \"markers\", \"name\": \"\", \"showlegend\": false, \"x\": [1, 1, 8, 1, 11, 1, 1, 2, 1, 1, 4, 1, 1, 1, 2, 3, 1, 1, 1, 1, 1, 1, 1, 1, 3, 1, 10, 1, 6, 1, 1, 1, 1, 1, 3, 7, 1, 1, 6, 1, 1, 5, 1, 2, 3, 1, 1, 5, 1, 1, 1, 1, 1, 2, 1, 1, 1, 5, 2, 1, 1, 1, 1, 1, 1, 2, 1, 1, 1, 2, 2, 1, 2, 7, 8, 1, 2, 4, 2, 4, 8, 2, 2, 4, 2, 3, 4, 2, 2, 3, 1, 2, 1, 2], \"xaxis\": \"x\", \"y\": [null, null, 0.2857142857142857, null, 0.5, null, null, 0.0, null, null, 0.3333333333333333, null, null, null, 0.0, 0.5, null, null, null, null, null, null, null, null, 1.0, null, 0.4444444444444444, null, 0.8, null, null, null, null, null, 0.0, 0.6666666666666666, null, null, 0.8, null, null, 0.25, null, 1.0, 0.5, null, null, 1.0, null, null, null, null, null, 1.0, null, null, null, 0.25, 0.0, null, null, null, null, null, null, 1.0, null, null, null, 1.0, 1.0, null, 1.0, 0.8333333333333334, 0.8571428571428571, null, 1.0, 0.0, 0.0, 0.6666666666666666, 0.2857142857142857, 0.0, 1.0, 0.3333333333333333, 1.0, 0.5, 0.3333333333333333, 0.0, 1.0, 0.0, null, 1.0, null, 0.0], \"yaxis\": \"y\", \"type\": \"scatter\"}], \"name\": \"9\"}, {\"data\": [{\"hoverlabel\": {\"namelength\": 0}, \"hovertemplate\": \"Iteration=10<br>Length=%{x}<br>%Homochirality=%{y}\", \"legendgroup\": \"\", \"marker\": {\"color\": \"#636efa\", \"symbol\": \"circle\"}, \"mode\": \"markers\", \"name\": \"\", \"showlegend\": false, \"x\": [1, 1, 1, 1, 1, 1, 10, 1, 1, 3, 1, 5, 3, 9, 1, 8, 1, 1, 1, 1, 1, 5, 1, 1, 1, 1, 1, 1, 1, 6, 5, 1, 1, 1, 1, 1, 1, 1, 1, 14, 2, 6, 1, 1, 1, 1, 1, 4, 2, 1, 1, 2, 1, 1, 1, 1, 1, 7, 3, 2, 4, 1, 3, 4, 1, 8, 12, 2, 3, 3, 1, 1, 2, 3, 2, 5, 2, 1, 1, 7, 1, 2, 1, 3, 1, 1, 6], \"xaxis\": \"x\", \"y\": [null, null, null, null, null, null, 0.4444444444444444, null, null, 0.5, null, 0.25, 1.0, 0.875, null, 0.7142857142857143, null, null, null, null, null, 0.5, null, null, null, null, null, null, null, 0.4, 0.5, null, null, null, null, null, null, null, null, 0.46153846153846156, 1.0, 0.4, null, null, null, null, null, 0.3333333333333333, 1.0, null, null, 1.0, null, null, null, null, null, 0.6666666666666666, 0.5, 1.0, 0.3333333333333333, null, 1.0, 0.0, null, 0.7142857142857143, 0.45454545454545453, 0.0, 1.0, 0.5, null, null, 1.0, 0.5, 0.0, 0.0, 0.0, null, null, 0.3333333333333333, null, 0.0, null, 1.0, null, null, 0.8], \"yaxis\": \"y\", \"type\": \"scatter\"}], \"name\": \"10\"}, {\"data\": [{\"hoverlabel\": {\"namelength\": 0}, \"hovertemplate\": \"Iteration=11<br>Length=%{x}<br>%Homochirality=%{y}\", \"legendgroup\": \"\", \"marker\": {\"color\": \"#636efa\", \"symbol\": \"circle\"}, \"mode\": \"markers\", \"name\": \"\", \"showlegend\": false, \"x\": [3, 1, 7, 1, 1, 1, 2, 3, 1, 15, 1, 1, 1, 1, 13, 1, 1, 1, 2, 1, 1, 4, 1, 10, 1, 1, 4, 1, 1, 1, 3, 1, 1, 1, 1, 3, 10, 1, 1, 1, 1, 1, 1, 1, 1, 12, 1, 1, 1, 1, 4, 1, 1, 1, 1, 2, 13, 3, 8, 1, 2, 1, 1, 1, 3, 15, 1, 4, 1, 1, 3, 3, 3, 2, 2, 2, 6, 1, 2, 2, 5, 2, 4, 1, 1, 1], \"xaxis\": \"x\", \"y\": [0.0, null, 0.5, null, null, null, 1.0, 0.5, null, 0.5, null, null, null, null, 0.5833333333333334, null, null, null, 1.0, null, null, 1.0, null, 0.3333333333333333, null, null, 0.6666666666666666, null, null, null, 1.0, null, null, null, null, 0.0, 0.8888888888888888, null, null, null, null, null, null, null, null, 0.6363636363636364, null, null, null, null, 0.6666666666666666, null, null, null, null, 1.0, 0.5, 0.0, 0.5714285714285714, null, 0.0, null, null, null, 1.0, 0.42857142857142855, null, 1.0, null, null, 0.5, 0.5, 1.0, 1.0, 1.0, 1.0, 0.8, null, 0.0, 0.0, 0.0, 1.0, 0.3333333333333333, null, null, null], \"yaxis\": \"y\", \"type\": \"scatter\"}], \"name\": \"11\"}, {\"data\": [{\"hoverlabel\": {\"namelength\": 0}, \"hovertemplate\": \"Iteration=12<br>Length=%{x}<br>%Homochirality=%{y}\", \"legendgroup\": \"\", \"marker\": {\"color\": \"#636efa\", \"symbol\": \"circle\"}, \"mode\": \"markers\", \"name\": \"\", \"showlegend\": false, \"x\": [1, 3, 1, 1, 1, 1, 1, 5, 1, 1, 23, 1, 1, 1, 1, 1, 1, 1, 1, 1, 1, 1, 1, 1, 9, 1, 3, 1, 1, 1, 2, 11, 1, 8, 1, 2, 1, 1, 2, 1, 2, 1, 1, 2, 17, 1, 16, 1, 1, 1, 1, 5, 1, 1, 8, 1, 1, 1, 1, 1, 1, 3, 1, 16, 2, 5, 1, 4, 2, 1, 3, 2, 3, 13, 2, 1, 1, 1, 1, 1, 1, 2, 1, 1, 1, 1, 3, 2, 1, 3, 1, 1, 2], \"xaxis\": \"x\", \"y\": [null, 0.0, null, null, null, null, null, 0.5, null, null, 0.6818181818181818, null, null, null, null, null, null, null, null, null, null, null, null, null, 0.625, null, 1.0, null, null, null, 1.0, 0.4, null, 0.7142857142857143, null, 0.0, null, null, 1.0, null, 1.0, null, null, 1.0, 0.625, null, 0.5333333333333333, null, null, null, null, 0.25, null, null, 0.42857142857142855, null, null, null, null, null, null, 0.5, null, 0.4666666666666667, 0.0, 1.0, null, 0.3333333333333333, 0.0, null, 1.0, 1.0, 0.0, 0.5833333333333334, 0.0, null, null, null, null, null, null, 1.0, null, null, null, null, 0.5, 1.0, null, 1.0, null, null, 0.0], \"yaxis\": \"y\", \"type\": \"scatter\"}], \"name\": \"12\"}, {\"data\": [{\"hoverlabel\": {\"namelength\": 0}, \"hovertemplate\": \"Iteration=13<br>Length=%{x}<br>%Homochirality=%{y}\", \"legendgroup\": \"\", \"marker\": {\"color\": \"#636efa\", \"symbol\": \"circle\"}, \"mode\": \"markers\", \"name\": \"\", \"showlegend\": false, \"x\": [1, 1, 1, 5, 1, 7, 1, 1, 9, 10, 1, 1, 19, 1, 1, 1, 16, 1, 1, 1, 1, 1, 3, 1, 1, 1, 1, 4, 1, 1, 1, 1, 12, 1, 1, 1, 1, 3, 1, 1, 3, 18, 1, 1, 1, 1, 1, 2, 1, 1, 1, 1, 5, 4, 1, 1, 9, 1, 4, 1, 1, 1, 1, 1, 1, 1, 1, 1, 4, 2, 1, 5, 4, 2, 1, 3, 1, 3, 3, 2, 2, 14, 17, 2, 2, 1], \"xaxis\": \"x\", \"y\": [null, null, null, 0.25, null, 0.3333333333333333, null, null, 0.75, 0.6666666666666666, null, null, 0.6111111111111112, null, null, null, 0.4666666666666667, null, null, null, null, null, 1.0, null, null, null, null, 0.6666666666666666, null, null, null, null, 0.45454545454545453, null, null, null, null, 0.5, null, null, 0.5, 0.5294117647058824, null, null, null, null, null, 1.0, null, null, null, null, 0.75, 0.3333333333333333, null, null, 0.375, null, 0.3333333333333333, null, null, null, null, null, null, null, null, null, 0.3333333333333333, 1.0, null, 0.25, 1.0, 0.0, null, 1.0, null, 0.5, 1.0, 0.0, 1.0, 0.8461538461538461, 0.4375, 1.0, 1.0, null], \"yaxis\": \"y\", \"type\": \"scatter\"}], \"name\": \"13\"}, {\"data\": [{\"hoverlabel\": {\"namelength\": 0}, \"hovertemplate\": \"Iteration=14<br>Length=%{x}<br>%Homochirality=%{y}\", \"legendgroup\": \"\", \"marker\": {\"color\": \"#636efa\", \"symbol\": \"circle\"}, \"mode\": \"markers\", \"name\": \"\", \"showlegend\": false, \"x\": [1, 1, 16, 1, 5, 1, 33, 2, 1, 4, 1, 1, 1, 1, 1, 1, 1, 1, 1, 1, 3, 1, 5, 7, 1, 1, 1, 1, 1, 1, 1, 1, 1, 1, 1, 1, 5, 1, 1, 1, 1, 13, 1, 2, 6, 1, 3, 1, 1, 1, 11, 1, 1, 3, 1, 1, 1, 1, 8, 1, 1, 4, 1, 1, 2, 1, 3, 5, 10, 19, 3, 3, 1, 9, 6, 2, 8, 1, 2, 1, 1, 1, 1, 1, 2, 1, 2, 4, 1], \"xaxis\": \"x\", \"y\": [null, null, 0.6666666666666666, null, 1.0, null, 0.4375, 1.0, null, 0.6666666666666666, null, null, null, null, null, null, null, null, null, null, 0.5, null, 0.75, 0.6666666666666666, null, null, null, null, null, null, null, null, null, null, null, null, 1.0, null, null, null, null, 0.4166666666666667, null, 1.0, 0.2, null, 0.5, null, null, null, 0.6, null, null, 0.5, null, null, null, null, 0.42857142857142855, null, null, 1.0, null, null, 1.0, null, 0.5, 0.75, 0.3333333333333333, 0.5555555555555556, 0.5, 0.5, null, 0.875, 0.4, 1.0, 0.8571428571428571, null, 1.0, null, null, null, null, null, 1.0, null, 0.0, 0.3333333333333333, null], \"yaxis\": \"y\", \"type\": \"scatter\"}], \"name\": \"14\"}, {\"data\": [{\"hoverlabel\": {\"namelength\": 0}, \"hovertemplate\": \"Iteration=15<br>Length=%{x}<br>%Homochirality=%{y}\", \"legendgroup\": \"\", \"marker\": {\"color\": \"#636efa\", \"symbol\": \"circle\"}, \"mode\": \"markers\", \"name\": \"\", \"showlegend\": false, \"x\": [1, 1, 3, 1, 1, 1, 1, 1, 1, 3, 1, 1, 14, 1, 1, 1, 1, 1, 1, 1, 1, 1, 14, 1, 1, 3, 1, 1, 6, 2, 1, 5, 2, 1, 5, 1, 1, 1, 6, 4, 1, 1, 1, 3, 3, 1, 1, 3, 1, 1, 1, 1, 1, 1, 1, 1, 1, 7, 1, 29, 1, 1, 4, 1, 1, 17, 1, 3, 4, 3, 4, 6, 2, 2, 3, 1, 3, 2, 2, 1, 11, 5, 5, 1, 1, 5, 2, 8, 2, 1, 1, 1, 1, 1, 16], \"xaxis\": \"x\", \"y\": [null, null, 1.0, null, null, null, null, null, null, 0.5, null, null, 0.46153846153846156, null, null, null, null, null, null, null, null, null, 0.8461538461538461, null, null, 1.0, null, null, 0.8, 1.0, null, 0.75, 0.0, null, 0.75, null, null, null, 0.6, 0.6666666666666666, null, null, null, 1.0, 1.0, null, null, 0.5, null, null, null, null, null, null, null, null, null, 0.3333333333333333, null, 0.4642857142857143, null, null, 1.0, null, null, 0.4375, null, 0.0, 0.3333333333333333, 0.0, 0.6666666666666666, 0.8, 1.0, 1.0, 1.0, null, 0.5, 1.0, 1.0, null, 0.6, 0.75, 0.25, null, null, 1.0, 1.0, 0.7142857142857143, 0.0, null, null, null, null, null, 0.4666666666666667], \"yaxis\": \"y\", \"type\": \"scatter\"}], \"name\": \"15\"}, {\"data\": [{\"hoverlabel\": {\"namelength\": 0}, \"hovertemplate\": \"Iteration=16<br>Length=%{x}<br>%Homochirality=%{y}\", \"legendgroup\": \"\", \"marker\": {\"color\": \"#636efa\", \"symbol\": \"circle\"}, \"mode\": \"markers\", \"name\": \"\", \"showlegend\": false, \"x\": [2, 1, 1, 1, 1, 6, 1, 4, 4, 3, 1, 1, 1, 2, 1, 1, 1, 2, 3, 1, 1, 1, 1, 1, 1, 7, 3, 1, 1, 1, 1, 1, 1, 1, 1, 1, 1, 33, 1, 1, 1, 9, 2, 1, 1, 3, 1, 1, 1, 1, 19, 1, 1, 1, 16, 1, 2, 2, 1, 1, 1, 1, 1, 7, 4, 3, 12, 1, 2, 4, 2, 1, 3, 6, 3, 1, 15, 2, 3, 3, 3, 4, 2, 1, 1, 1, 3, 3, 15, 8, 2, 1], \"xaxis\": \"x\", \"y\": [1.0, null, null, null, null, 0.6, null, 0.6666666666666666, 1.0, 0.5, null, null, null, 1.0, null, null, null, 0.0, 0.5, null, null, null, null, null, null, 1.0, 1.0, null, null, null, null, null, null, null, null, null, null, 0.46875, null, null, null, 0.75, 0.0, null, null, 0.5, null, null, null, null, 0.4444444444444444, null, null, null, 0.6666666666666666, null, 0.0, 0.0, null, null, null, null, null, 0.5, 0.6666666666666666, 1.0, 0.5454545454545454, null, 0.0, 1.0, 1.0, null, 1.0, 0.6, 0.5, null, 0.8571428571428571, 1.0, 0.5, 1.0, 0.0, 0.3333333333333333, 1.0, null, null, null, 0.5, 1.0, 0.5, 0.42857142857142855, 1.0, null], \"yaxis\": \"y\", \"type\": \"scatter\"}], \"name\": \"16\"}, {\"data\": [{\"hoverlabel\": {\"namelength\": 0}, \"hovertemplate\": \"Iteration=17<br>Length=%{x}<br>%Homochirality=%{y}\", \"legendgroup\": \"\", \"marker\": {\"color\": \"#636efa\", \"symbol\": \"circle\"}, \"mode\": \"markers\", \"name\": \"\", \"showlegend\": false, \"x\": [1, 1, 1, 2, 5, 1, 1, 1, 3, 1, 22, 15, 1, 1, 1, 1, 1, 3, 1, 5, 1, 1, 1, 1, 1, 19, 1, 1, 34, 1, 15, 2, 1, 1, 1, 1, 1, 1, 7, 2, 1, 1, 1, 1, 1, 4, 1, 1, 1, 2, 6, 1, 1, 1, 1, 1, 1, 7, 1, 13, 11, 1, 1, 2, 2, 1, 1, 16, 5, 1, 1, 1, 1, 1, 5, 1, 1, 1, 2, 2, 2, 1, 1, 5, 2, 1, 2, 3, 3, 3, 1, 2], \"xaxis\": \"x\", \"y\": [null, null, null, 0.0, 0.5, null, null, null, 1.0, null, 0.38095238095238093, 0.7142857142857143, null, null, null, null, null, 1.0, null, 0.25, null, null, null, null, null, 0.6666666666666666, null, null, 0.48484848484848486, null, 0.7142857142857143, 1.0, null, null, null, null, null, null, 0.6666666666666666, 0.0, null, null, null, null, null, 0.3333333333333333, null, null, null, 1.0, 0.8, null, null, null, null, null, null, 0.5, null, 0.5833333333333334, 0.6, null, null, 1.0, 1.0, null, null, 0.8, 1.0, null, null, null, null, null, 0.75, null, null, null, 0.0, 0.0, 0.0, null, null, 0.25, 0.0, null, 1.0, 0.5, 0.5, 1.0, null, 0.0], \"yaxis\": \"y\", \"type\": \"scatter\"}], \"name\": \"17\"}, {\"data\": [{\"hoverlabel\": {\"namelength\": 0}, \"hovertemplate\": \"Iteration=18<br>Length=%{x}<br>%Homochirality=%{y}\", \"legendgroup\": \"\", \"marker\": {\"color\": \"#636efa\", \"symbol\": \"circle\"}, \"mode\": \"markers\", \"name\": \"\", \"showlegend\": false, \"x\": [2, 1, 4, 14, 1, 10, 1, 1, 1, 1, 1, 1, 1, 1, 3, 1, 4, 4, 9, 1, 1, 1, 1, 1, 1, 1, 8, 1, 1, 20, 1, 1, 1, 1, 1, 1, 1, 1, 4, 1, 5, 1, 1, 1, 1, 1, 6, 1, 1, 4, 1, 1, 1, 1, 1, 14, 1, 7, 15, 1, 1, 1, 7, 1, 2, 4, 12, 1, 1, 6, 6, 3, 3, 1, 4, 1, 1, 1, 17, 1, 1, 2, 2, 1, 1, 28, 6, 2, 3, 3], \"xaxis\": \"x\", \"y\": [1.0, null, 0.6666666666666666, 0.7692307692307693, null, 0.3333333333333333, null, null, null, null, null, null, null, null, 1.0, null, 0.6666666666666666, 1.0, 0.75, null, null, null, null, null, null, null, 0.5714285714285714, null, null, 0.6842105263157895, null, null, null, null, null, null, null, null, 0.3333333333333333, null, 0.5, null, null, null, null, null, 0.4, null, null, 1.0, null, null, null, null, null, 0.6153846153846154, null, 0.5, 0.7142857142857143, null, null, null, 0.6666666666666666, null, 1.0, 1.0, 0.36363636363636365, null, null, 0.8, 0.6, 1.0, 0.5, null, 0.3333333333333333, null, null, null, 0.75, null, null, 1.0, 1.0, null, null, 0.5185185185185185, 0.2, 1.0, 0.5, 0.0], \"yaxis\": \"y\", \"type\": \"scatter\"}], \"name\": \"18\"}, {\"data\": [{\"hoverlabel\": {\"namelength\": 0}, \"hovertemplate\": \"Iteration=19<br>Length=%{x}<br>%Homochirality=%{y}\", \"legendgroup\": \"\", \"marker\": {\"color\": \"#636efa\", \"symbol\": \"circle\"}, \"mode\": \"markers\", \"name\": \"\", \"showlegend\": false, \"x\": [1, 1, 1, 1, 1, 19, 1, 1, 1, 1, 1, 1, 1, 4, 1, 1, 1, 1, 1, 1, 1, 1, 1, 1, 32, 2, 1, 8, 1, 1, 1, 6, 18, 6, 1, 3, 1, 1, 4, 2, 1, 1, 1, 1, 1, 5, 1, 1, 1, 1, 1, 1, 1, 4, 1, 7, 5, 2, 22, 8, 1, 3, 3, 3, 1, 9, 2, 1, 1, 10, 2, 16, 1, 1, 7, 1, 6, 2, 15, 1, 2, 5, 2, 2, 5, 4, 3, 1], \"xaxis\": \"x\", \"y\": [null, null, null, null, null, 0.5, null, null, null, null, null, null, null, 0.6666666666666666, null, null, null, null, null, null, null, null, null, null, 0.5483870967741935, 1.0, null, 0.5714285714285714, null, null, null, 0.4, 0.7058823529411765, 0.6, null, 1.0, null, null, 1.0, 0.0, null, null, null, null, null, 0.5, null, null, null, null, null, null, null, 1.0, null, 0.16666666666666666, 0.25, 1.0, 0.6666666666666666, 0.8571428571428571, null, 1.0, 0.5, 0.5, null, 0.375, 0.0, null, null, 0.7777777777777778, 0.0, 0.6666666666666666, null, null, 0.6666666666666666, null, 0.6, 0.0, 0.6428571428571429, null, 1.0, 0.75, 1.0, 1.0, 1.0, 0.6666666666666666, 0.0, null], \"yaxis\": \"y\", \"type\": \"scatter\"}], \"name\": \"19\"}, {\"data\": [{\"hoverlabel\": {\"namelength\": 0}, \"hovertemplate\": \"Iteration=20<br>Length=%{x}<br>%Homochirality=%{y}\", \"legendgroup\": \"\", \"marker\": {\"color\": \"#636efa\", \"symbol\": \"circle\"}, \"mode\": \"markers\", \"name\": \"\", \"showlegend\": false, \"x\": [9, 1, 1, 3, 1, 1, 1, 1, 1, 1, 1, 8, 1, 1, 40, 1, 10, 1, 1, 1, 1, 1, 23, 1, 1, 1, 4, 1, 1, 1, 1, 7, 1, 1, 6, 1, 1, 6, 3, 1, 1, 7, 1, 1, 1, 1, 13, 5, 1, 1, 1, 1, 23, 1, 6, 17, 1, 1, 1, 6, 1, 1, 19, 6, 2, 2, 2, 1, 1, 5, 11, 2, 2, 1, 3, 6, 6, 1, 1, 1, 5, 4], \"xaxis\": \"x\", \"y\": [0.625, null, null, 0.0, null, null, null, null, null, null, null, 0.7142857142857143, null, null, 0.6153846153846154, null, 0.5555555555555556, null, null, null, null, null, 0.6818181818181818, null, null, null, 0.6666666666666666, null, null, null, null, 0.5, null, null, 1.0, null, null, 0.2, 1.0, null, null, 0.6666666666666666, null, null, null, null, 0.5833333333333334, 0.25, null, null, null, null, 0.5909090909090909, null, 0.6, 0.625, null, null, null, 0.4, null, null, 0.7222222222222222, 0.6, 1.0, 0.0, 0.0, null, null, 0.5, 0.8, 1.0, 1.0, null, 1.0, 0.2, 0.2, null, null, null, 0.75, 0.3333333333333333], \"yaxis\": \"y\", \"type\": \"scatter\"}], \"name\": \"20\"}, {\"data\": [{\"hoverlabel\": {\"namelength\": 0}, \"hovertemplate\": \"Iteration=21<br>Length=%{x}<br>%Homochirality=%{y}\", \"legendgroup\": \"\", \"marker\": {\"color\": \"#636efa\", \"symbol\": \"circle\"}, \"mode\": \"markers\", \"name\": \"\", \"showlegend\": false, \"x\": [1, 2, 1, 1, 1, 1, 1, 16, 1, 16, 1, 1, 1, 7, 1, 1, 3, 1, 1, 1, 1, 1, 1, 1, 1, 1, 8, 1, 1, 9, 1, 3, 7, 1, 1, 1, 6, 1, 1, 1, 24, 1, 11, 1, 3, 1, 1, 7, 2, 8, 1, 1, 41, 1, 1, 1, 11, 1, 1, 1, 1, 3, 1, 3, 3, 1, 2, 1, 10, 2, 3, 2, 1, 1, 2, 1, 1, 2, 3, 3, 2, 1, 1, 3, 14, 24, 4, 9, 7, 1, 1], \"xaxis\": \"x\", \"y\": [null, 0.0, null, null, null, null, null, 0.7333333333333333, null, 0.6, null, null, null, 0.16666666666666666, null, null, 0.0, null, null, null, null, null, null, null, null, null, 0.5714285714285714, null, null, 0.5, null, 0.0, 1.0, null, null, null, 0.8, null, null, null, 0.5652173913043478, null, 0.5, null, 0.5, null, null, 0.5, 0.0, 0.7142857142857143, null, null, 0.625, null, null, null, 0.6, null, null, null, null, 0.5, null, 0.5, 1.0, null, 1.0, null, 0.5555555555555556, 1.0, 0.5, 0.0, null, null, 0.0, null, null, 0.0, 0.5, 1.0, 1.0, null, null, 0.0, 0.6923076923076923, 0.6956521739130435, 0.3333333333333333, 0.75, 0.5, null, null], \"yaxis\": \"y\", \"type\": \"scatter\"}], \"name\": \"21\"}, {\"data\": [{\"hoverlabel\": {\"namelength\": 0}, \"hovertemplate\": \"Iteration=22<br>Length=%{x}<br>%Homochirality=%{y}\", \"legendgroup\": \"\", \"marker\": {\"color\": \"#636efa\", \"symbol\": \"circle\"}, \"mode\": \"markers\", \"name\": \"\", \"showlegend\": false, \"x\": [25, 3, 1, 5, 6, 1, 1, 1, 11, 2, 1, 1, 1, 1, 1, 8, 3, 1, 2, 1, 1, 1, 1, 1, 1, 1, 13, 11, 1, 1, 1, 1, 1, 1, 1, 1, 8, 1, 1, 2, 1, 48, 6, 7, 1, 1, 9, 1, 1, 2, 1, 1, 1, 1, 1, 1, 3, 1, 2, 8, 18, 10, 2, 1, 1, 2, 9, 1, 3, 1, 2, 2, 4, 2, 17, 1, 2, 1, 5, 10, 2, 2, 1, 1, 5, 1, 1, 1, 17], \"xaxis\": \"x\", \"y\": [0.5416666666666666, 0.5, null, 0.5, 0.8, null, null, null, 0.4, 1.0, null, null, null, null, null, 0.7142857142857143, 1.0, null, 0.0, null, null, null, null, null, null, null, 0.75, 0.7, null, null, null, null, null, null, null, null, 0.7142857142857143, null, null, 0.0, null, 0.5957446808510638, 0.4, 1.0, null, null, 0.375, null, null, 1.0, null, null, null, null, null, null, 0.0, null, 1.0, 0.2857142857142857, 0.7058823529411765, 0.6666666666666666, 1.0, null, null, 1.0, 0.625, null, 0.5, null, 0.0, 0.0, 0.6666666666666666, 1.0, 0.6875, null, 0.0, null, 0.25, 0.5555555555555556, 0.0, 1.0, null, null, 0.75, null, null, null, 0.625], \"yaxis\": \"y\", \"type\": \"scatter\"}], \"name\": \"22\"}, {\"data\": [{\"hoverlabel\": {\"namelength\": 0}, \"hovertemplate\": \"Iteration=23<br>Length=%{x}<br>%Homochirality=%{y}\", \"legendgroup\": \"\", \"marker\": {\"color\": \"#636efa\", \"symbol\": \"circle\"}, \"mode\": \"markers\", \"name\": \"\", \"showlegend\": false, \"x\": [1, 1, 1, 50, 1, 1, 1, 1, 1, 23, 1, 10, 7, 1, 1, 1, 3, 7, 1, 1, 1, 1, 1, 9, 1, 2, 1, 7, 5, 1, 1, 6, 1, 1, 1, 1, 1, 3, 1, 12, 10, 1, 1, 1, 5, 1, 7, 4, 1, 19, 1, 1, 2, 1, 26, 1, 1, 11, 1, 1, 2, 1, 2, 1, 2, 10, 6, 10, 3, 1, 2, 1, 1, 2, 12, 2, 16, 1, 3, 1, 1, 2, 2, 3, 2, 3], \"xaxis\": \"x\", \"y\": [null, null, null, 0.6122448979591837, null, null, null, null, null, 0.6818181818181818, null, 0.7777777777777778, 0.16666666666666666, null, null, null, 0.5, 1.0, null, null, null, null, null, 0.625, null, 1.0, null, 0.3333333333333333, 0.25, null, null, 0.6, null, null, null, null, null, 1.0, null, 0.5454545454545454, 0.6666666666666666, null, null, null, 0.5, null, 0.6666666666666666, 0.3333333333333333, null, 0.6111111111111112, null, null, 1.0, null, 0.56, null, null, 0.5, null, null, 1.0, null, 1.0, null, 1.0, 0.3333333333333333, 0.4, 0.8888888888888888, 0.5, null, 0.0, null, null, 1.0, 0.45454545454545453, 0.0, 0.7333333333333333, null, 1.0, null, null, 0.0, 0.0, 0.5, 0.0, 1.0], \"yaxis\": \"y\", \"type\": \"scatter\"}], \"name\": \"23\"}, {\"data\": [{\"hoverlabel\": {\"namelength\": 0}, \"hovertemplate\": \"Iteration=24<br>Length=%{x}<br>%Homochirality=%{y}\", \"legendgroup\": \"\", \"marker\": {\"color\": \"#636efa\", \"symbol\": \"circle\"}, \"mode\": \"markers\", \"name\": \"\", \"showlegend\": false, \"x\": [1, 13, 2, 1, 1, 8, 1, 1, 4, 31, 1, 11, 1, 3, 1, 1, 1, 1, 1, 1, 21, 2, 14, 1, 3, 1, 3, 1, 1, 1, 23, 1, 7, 1, 1, 1, 5, 1, 15, 1, 13, 1, 1, 1, 1, 3, 14, 1, 13, 1, 1, 1, 1, 1, 1, 1, 1, 25, 1, 1, 1, 3, 1, 9, 1, 1, 1, 1, 1, 1, 3, 1, 1, 36, 12, 2, 6, 1, 7, 1, 1, 3, 7], \"xaxis\": \"x\", \"y\": [null, 0.3333333333333333, 1.0, null, null, 0.7142857142857143, null, null, 1.0, 0.5333333333333333, null, 0.7, null, 0.0, null, null, null, null, null, null, 0.6, 0.0, 0.5384615384615384, null, 0.0, null, 0.5, null, null, null, 0.6363636363636364, null, 0.3333333333333333, null, null, null, 0.75, null, 0.5, null, 0.9166666666666666, null, null, null, null, 0.5, 0.6153846153846154, null, 0.5, null, null, null, null, null, null, null, null, 0.6666666666666666, null, null, null, 0.5, null, 0.625, null, null, null, null, null, null, 0.5, null, null, 0.6285714285714286, 0.45454545454545453, 1.0, 0.4, null, 0.8333333333333334, null, null, 0.0, 0.5], \"yaxis\": \"y\", \"type\": \"scatter\"}], \"name\": \"24\"}, {\"data\": [{\"hoverlabel\": {\"namelength\": 0}, \"hovertemplate\": \"Iteration=25<br>Length=%{x}<br>%Homochirality=%{y}\", \"legendgroup\": \"\", \"marker\": {\"color\": \"#636efa\", \"symbol\": \"circle\"}, \"mode\": \"markers\", \"name\": \"\", \"showlegend\": false, \"x\": [1, 1, 18, 1, 1, 1, 7, 1, 1, 6, 1, 1, 1, 4, 1, 1, 2, 1, 1, 1, 1, 1, 1, 1, 1, 1, 1, 7, 4, 1, 5, 1, 1, 9, 1, 15, 12, 1, 1, 1, 1, 1, 20, 1, 1, 1, 1, 1, 1, 17, 2, 1, 1, 8, 1, 10, 14, 1, 2, 3, 32, 2, 1, 2, 2, 2, 4, 2, 2, 26, 5, 2, 1, 1, 8, 2, 1, 2, 2, 1, 24, 2, 37, 2, 4, 12, 3], \"xaxis\": \"x\", \"y\": [null, null, 0.5882352941176471, null, null, null, 0.5, null, null, 0.4, null, null, null, 0.3333333333333333, null, null, 1.0, null, null, null, null, null, null, null, null, null, null, 0.3333333333333333, 0.6666666666666666, null, 0.25, null, null, 0.75, null, 0.8571428571428571, 0.7272727272727273, null, null, null, null, null, 0.42105263157894735, null, null, null, null, null, null, 0.6875, 0.0, null, null, 0.8571428571428571, null, 0.6666666666666666, 0.5384615384615384, null, 0.0, 1.0, 0.5161290322580645, 0.0, null, 1.0, 1.0, 1.0, 0.0, 1.0, 0.0, 0.68, 0.75, 1.0, null, null, 0.42857142857142855, 0.0, null, 1.0, 1.0, null, 0.6521739130434783, 0.0, 0.6388888888888888, 1.0, 0.3333333333333333, 0.7272727272727273, 1.0], \"yaxis\": \"y\", \"type\": \"scatter\"}], \"name\": \"25\"}, {\"data\": [{\"hoverlabel\": {\"namelength\": 0}, \"hovertemplate\": \"Iteration=26<br>Length=%{x}<br>%Homochirality=%{y}\", \"legendgroup\": \"\", \"marker\": {\"color\": \"#636efa\", \"symbol\": \"circle\"}, \"mode\": \"markers\", \"name\": \"\", \"showlegend\": false, \"x\": [1, 9, 27, 1, 6, 1, 1, 1, 1, 1, 1, 1, 3, 1, 1, 7, 13, 1, 1, 1, 35, 3, 30, 1, 3, 1, 1, 1, 1, 1, 5, 1, 1, 1, 1, 1, 1, 1, 16, 17, 1, 1, 1, 1, 1, 4, 2, 3, 1, 3, 34, 2, 9, 6, 3, 36, 1, 1, 38, 1, 1, 3, 1, 1, 1, 1, 1, 1, 1, 1, 3, 2, 1, 1, 1, 2, 2, 1, 1, 2, 2, 2, 1, 6, 1, 2, 9, 2], \"xaxis\": \"x\", \"y\": [null, 0.625, 0.6923076923076923, null, 0.4, null, null, null, null, null, null, null, 0.5, null, null, 0.3333333333333333, 0.6666666666666666, null, null, null, 0.6470588235294118, 1.0, 0.6551724137931034, null, 0.5, null, null, null, null, null, 0.25, null, null, null, null, null, null, null, 0.6666666666666666, 0.75, null, null, null, null, null, 0.6666666666666666, 1.0, 1.0, null, 0.0, 0.48484848484848486, 1.0, 0.75, 0.2, 1.0, 0.5142857142857142, null, null, 0.6486486486486487, null, null, 1.0, null, null, null, null, null, null, null, null, 0.5, 0.0, null, null, null, 1.0, 1.0, null, null, 0.0, 1.0, 1.0, null, 1.0, null, 0.0, 0.5, 0.0], \"yaxis\": \"y\", \"type\": \"scatter\"}], \"name\": \"26\"}, {\"data\": [{\"hoverlabel\": {\"namelength\": 0}, \"hovertemplate\": \"Iteration=27<br>Length=%{x}<br>%Homochirality=%{y}\", \"legendgroup\": \"\", \"marker\": {\"color\": \"#636efa\", \"symbol\": \"circle\"}, \"mode\": \"markers\", \"name\": \"\", \"showlegend\": false, \"x\": [1, 6, 9, 1, 18, 1, 1, 2, 1, 3, 1, 1, 1, 1, 1, 1, 1, 1, 1, 1, 1, 8, 1, 29, 1, 1, 38, 1, 1, 1, 39, 1, 1, 2, 1, 1, 1, 1, 25, 8, 1, 4, 1, 1, 1, 12, 11, 1, 1, 1, 3, 1, 1, 1, 1, 1, 1, 1, 23, 3, 1, 12, 1, 1, 1, 1, 1, 4, 6, 2, 4, 1, 4, 3, 2, 39, 1, 1, 1, 10, 1, 1, 1, 4, 11, 2, 14], \"xaxis\": \"x\", \"y\": [null, 0.8, 0.375, null, 0.7647058823529411, null, null, 0.0, null, 0.0, null, null, null, null, null, null, null, null, null, null, null, 0.8571428571428571, null, 0.6785714285714286, null, null, 0.5135135135135135, null, null, null, 0.631578947368421, null, null, 1.0, null, null, null, null, 0.625, 0.42857142857142855, null, 0.3333333333333333, null, null, null, 0.7272727272727273, 0.6, null, null, null, 0.0, null, null, null, null, null, null, null, 0.5, 1.0, null, 0.7272727272727273, null, null, null, null, null, 1.0, 0.4, 0.0, 0.6666666666666666, null, 1.0, 0.5, 1.0, 0.6578947368421053, null, null, null, 0.7777777777777778, null, null, null, 0.3333333333333333, 0.5, 0.0, 0.6153846153846154], \"yaxis\": \"y\", \"type\": \"scatter\"}], \"name\": \"27\"}, {\"data\": [{\"hoverlabel\": {\"namelength\": 0}, \"hovertemplate\": \"Iteration=28<br>Length=%{x}<br>%Homochirality=%{y}\", \"legendgroup\": \"\", \"marker\": {\"color\": \"#636efa\", \"symbol\": \"circle\"}, \"mode\": \"markers\", \"name\": \"\", \"showlegend\": false, \"x\": [1, 5, 1, 1, 3, 1, 1, 7, 1, 1, 1, 1, 1, 1, 1, 2, 1, 1, 1, 1, 1, 11, 1, 1, 1, 9, 1, 42, 1, 1, 1, 1, 1, 1, 1, 26, 26, 1, 1, 1, 1, 1, 1, 1, 1, 15, 1, 1, 1, 4, 1, 43, 1, 1, 1, 1, 1, 1, 8, 31, 15, 1, 1, 1, 3, 4, 8, 2, 7, 1, 1, 2, 1, 1, 1, 5, 19, 4, 1, 1, 2, 2, 40, 2, 10, 11, 4], \"xaxis\": \"x\", \"y\": [null, 0.5, null, null, 0.5, null, null, 0.5, null, null, null, null, null, null, null, 0.0, null, null, null, null, null, 0.7, null, null, null, 0.875, null, 0.5121951219512195, null, null, null, null, null, null, null, 0.52, 0.6, null, null, null, null, null, null, null, null, 0.6428571428571429, null, null, null, 0.6666666666666666, null, 0.6904761904761905, null, null, null, null, null, null, 0.8571428571428571, 0.7, 0.42857142857142855, null, null, null, 0.5, 0.3333333333333333, 0.5714285714285714, 1.0, 0.3333333333333333, null, null, 0.0, null, null, null, 0.75, 0.7222222222222222, 0.3333333333333333, null, null, 1.0, 1.0, 0.6153846153846154, 1.0, 0.3333333333333333, 0.7, 0.6666666666666666], \"yaxis\": \"y\", \"type\": \"scatter\"}], \"name\": \"28\"}, {\"data\": [{\"hoverlabel\": {\"namelength\": 0}, \"hovertemplate\": \"Iteration=29<br>Length=%{x}<br>%Homochirality=%{y}\", \"legendgroup\": \"\", \"marker\": {\"color\": \"#636efa\", \"symbol\": \"circle\"}, \"mode\": \"markers\", \"name\": \"\", \"showlegend\": false, \"x\": [1, 1, 1, 14, 1, 1, 1, 1, 3, 6, 1, 15, 1, 9, 25, 27, 1, 1, 1, 10, 1, 2, 1, 1, 2, 1, 1, 7, 1, 10, 1, 1, 1, 1, 2, 1, 1, 1, 1, 1, 2, 1, 1, 1, 1, 1, 2, 6, 1, 1, 1, 1, 1, 1, 1, 45, 1, 1, 1, 1, 1, 1, 1, 1, 7, 16, 1, 40, 44, 16, 1, 5, 3, 1, 2, 17, 4, 2, 2, 1, 1, 8, 5, 3, 2, 11, 2, 8, 5], \"xaxis\": \"x\", \"y\": [null, null, null, 0.6153846153846154, null, null, null, null, 0.0, 0.6, null, 0.7142857142857143, null, 0.5, 0.625, 0.5, null, null, null, 0.8888888888888888, null, 0.0, null, null, 0.0, null, null, 0.6666666666666666, null, 0.8888888888888888, null, null, null, null, 1.0, null, null, null, null, null, 1.0, null, null, null, null, null, 1.0, 0.6, null, null, null, null, null, null, null, 0.5, null, null, null, null, null, null, null, null, 0.3333333333333333, 0.4666666666666667, null, 0.6153846153846154, 0.6744186046511628, 0.7333333333333333, null, 0.5, 0.0, null, 1.0, 0.8125, 0.6666666666666666, 1.0, 0.0, null, null, 0.42857142857142855, 0.75, 1.0, 1.0, 0.4, 1.0, 0.8571428571428571, 0.5], \"yaxis\": \"y\", \"type\": \"scatter\"}], \"name\": \"29\"}, {\"data\": [{\"hoverlabel\": {\"namelength\": 0}, \"hovertemplate\": \"Iteration=30<br>Length=%{x}<br>%Homochirality=%{y}\", \"legendgroup\": \"\", \"marker\": {\"color\": \"#636efa\", \"symbol\": \"circle\"}, \"mode\": \"markers\", \"name\": \"\", \"showlegend\": false, \"x\": [15, 1, 1, 1, 6, 1, 1, 1, 15, 1, 1, 9, 1, 1, 1, 1, 1, 1, 1, 5, 1, 1, 1, 17, 1, 41, 1, 2, 1, 8, 1, 1, 29, 1, 3, 10, 1, 5, 17, 7, 1, 1, 3, 1, 1, 1, 1, 1, 17, 1, 1, 1, 1, 44, 1, 11, 46, 4, 8, 6, 2, 2, 2, 1, 17, 1, 1, 2, 5, 2, 17, 2, 2, 1, 1, 7, 1, 9, 1, 2, 1, 1, 6, 1], \"xaxis\": \"x\", \"y\": [0.5714285714285714, null, null, null, 0.6, null, null, null, 0.5714285714285714, null, null, 0.875, null, null, null, null, null, null, null, 0.5, null, null, null, 0.75, null, 0.625, null, 0.0, null, 0.5714285714285714, null, null, 0.4642857142857143, null, 0.5, 0.6666666666666666, null, 0.75, 0.75, 0.5, null, null, 0.5, null, null, null, null, null, 0.5, null, null, null, null, 0.6744186046511628, null, 0.9, 0.5111111111111111, 1.0, 0.7142857142857143, 0.8, 1.0, 0.0, 0.0, null, 0.5, null, null, 0.0, 0.75, 1.0, 0.6875, 1.0, 1.0, null, null, 0.3333333333333333, null, 0.875, null, 0.0, null, null, 0.4, null], \"yaxis\": \"y\", \"type\": \"scatter\"}], \"name\": \"30\"}, {\"data\": [{\"hoverlabel\": {\"namelength\": 0}, \"hovertemplate\": \"Iteration=31<br>Length=%{x}<br>%Homochirality=%{y}\", \"legendgroup\": \"\", \"marker\": {\"color\": \"#636efa\", \"symbol\": \"circle\"}, \"mode\": \"markers\", \"name\": \"\", \"showlegend\": false, \"x\": [1, 1, 1, 1, 19, 1, 1, 5, 1, 1, 1, 1, 1, 1, 1, 1, 1, 1, 18, 1, 1, 2, 10, 52, 7, 1, 8, 1, 1, 1, 63, 1, 1, 6, 40, 1, 1, 32, 51, 1, 1, 1, 1, 1, 1, 8, 1, 5, 1, 1, 1, 1, 7, 1, 1, 1, 1, 1, 6, 3, 1, 1, 1, 8, 2, 2, 5, 1, 16, 1, 1, 1, 1, 3, 7, 4, 1, 1, 1, 3, 2, 5, 2, 2, 1, 1, 3, 1, 6], \"xaxis\": \"x\", \"y\": [null, null, null, null, 0.5, null, null, 1.0, null, null, null, null, null, null, null, null, null, null, 0.7058823529411765, null, null, 0.0, 0.8888888888888888, 0.6470588235294118, 0.3333333333333333, null, 0.8571428571428571, null, null, null, 0.5806451612903226, null, null, 0.8, 0.5641025641025641, null, null, 0.5483870967741935, 0.64, null, null, null, null, null, null, 0.42857142857142855, null, 0.25, null, null, null, null, 0.6666666666666666, null, null, null, null, null, 0.6, 0.5, null, null, null, 0.42857142857142855, 0.0, 0.0, 0.5, null, 0.6, null, null, null, null, 1.0, 0.6666666666666666, 0.3333333333333333, null, null, null, 1.0, 0.0, 0.75, 0.0, 1.0, null, null, 0.5, null, 0.6], \"yaxis\": \"y\", \"type\": \"scatter\"}], \"name\": \"31\"}, {\"data\": [{\"hoverlabel\": {\"namelength\": 0}, \"hovertemplate\": \"Iteration=32<br>Length=%{x}<br>%Homochirality=%{y}\", \"legendgroup\": \"\", \"marker\": {\"color\": \"#636efa\", \"symbol\": \"circle\"}, \"mode\": \"markers\", \"name\": \"\", \"showlegend\": false, \"x\": [1, 2, 1, 1, 6, 22, 1, 5, 1, 1, 19, 1, 1, 4, 1, 1, 1, 1, 1, 1, 1, 1, 5, 1, 2, 1, 1, 1, 1, 1, 1, 1, 1, 1, 10, 1, 1, 1, 9, 1, 1, 1, 1, 1, 10, 1, 17, 1, 5, 3, 1, 3, 41, 1, 2, 1, 1, 1, 1, 4, 1, 1, 1, 1, 7, 1, 1, 2, 2, 2, 7, 2, 1, 52, 2, 2, 53, 4, 1, 1, 64, 27, 2, 5, 1, 1, 2, 1, 4, 6, 1, 1, 1, 8], \"xaxis\": \"x\", \"y\": [null, 0.0, null, null, 0.4, 0.5238095238095238, null, 1.0, null, null, 0.7222222222222222, null, null, 0.3333333333333333, null, null, null, null, null, null, null, null, 0.5, null, 1.0, null, null, null, null, null, null, null, null, null, 0.4444444444444444, null, null, null, 0.75, null, null, null, null, null, 0.8888888888888888, null, 0.625, null, 0.25, 0.5, null, 0.0, 0.575, null, 0.0, null, null, null, null, 0.3333333333333333, null, null, null, null, 0.6666666666666666, null, null, 0.0, 0.0, 1.0, 0.5, 1.0, null, 0.6274509803921569, 0.0, 0.0, 0.6538461538461539, 0.3333333333333333, null, null, 0.5714285714285714, 0.6153846153846154, 1.0, 1.0, null, null, 1.0, null, 0.6666666666666666, 0.2, null, null, null, 0.5714285714285714], \"yaxis\": \"y\", \"type\": \"scatter\"}], \"name\": \"32\"}, {\"data\": [{\"hoverlabel\": {\"namelength\": 0}, \"hovertemplate\": \"Iteration=33<br>Length=%{x}<br>%Homochirality=%{y}\", \"legendgroup\": \"\", \"marker\": {\"color\": \"#636efa\", \"symbol\": \"circle\"}, \"mode\": \"markers\", \"name\": \"\", \"showlegend\": false, \"x\": [1, 10, 1, 1, 1, 3, 4, 1, 1, 1, 1, 1, 1, 1, 1, 1, 1, 1, 1, 67, 1, 1, 1, 2, 1, 1, 29, 5, 12, 1, 1, 1, 6, 1, 1, 5, 1, 1, 1, 1, 6, 1, 1, 1, 39, 9, 1, 1, 54, 1, 29, 1, 1, 9, 1, 1, 1, 42, 5, 1, 3, 1, 6, 1, 1, 2, 2, 2, 3, 1, 2, 3, 1, 1, 2, 53, 2, 1, 1, 3, 6, 3, 1, 1, 1, 4], \"xaxis\": \"x\", \"y\": [null, 0.6666666666666666, null, null, null, 1.0, 1.0, null, null, null, null, null, null, null, null, null, null, null, null, 0.5606060606060606, null, null, null, 1.0, null, null, 0.6071428571428571, 0.5, 0.36363636363636365, null, null, null, 0.2, null, null, 0.5, null, null, null, null, 0.4, null, null, null, 0.5526315789473685, 1.0, null, null, 0.6415094339622641, null, 0.6071428571428571, null, null, 0.625, null, null, null, 0.5853658536585366, 0.5, null, 0.0, null, 0.8, null, null, 0.0, 0.0, 0.0, 1.0, null, 1.0, 0.5, null, null, 1.0, 0.6153846153846154, 0.0, null, null, 1.0, 0.4, 0.5, null, null, null, 1.0], \"yaxis\": \"y\", \"type\": \"scatter\"}], \"name\": \"33\"}, {\"data\": [{\"hoverlabel\": {\"namelength\": 0}, \"hovertemplate\": \"Iteration=34<br>Length=%{x}<br>%Homochirality=%{y}\", \"legendgroup\": \"\", \"marker\": {\"color\": \"#636efa\", \"symbol\": \"circle\"}, \"mode\": \"markers\", \"name\": \"\", \"showlegend\": false, \"x\": [30, 9, 10, 11, 1, 1, 1, 1, 1, 1, 5, 1, 1, 1, 1, 2, 1, 1, 1, 1, 19, 1, 1, 1, 1, 45, 4, 2, 1, 1, 1, 1, 1, 1, 1, 1, 1, 1, 9, 4, 1, 1, 35, 1, 1, 1, 1, 1, 30, 2, 1, 1, 17, 1, 1, 2, 1, 1, 1, 1, 1, 1, 45, 1, 1, 2, 1, 1, 2, 34, 1, 1, 4, 11, 5, 4, 40, 2, 6, 32, 1, 1, 4, 1, 1, 4, 9, 2, 2], \"xaxis\": \"x\", \"y\": [0.6206896551724138, 1.0, 0.5555555555555556, 0.4, null, null, null, null, null, null, 0.25, null, null, null, null, 1.0, null, null, null, null, 0.5555555555555556, null, null, null, null, 0.6136363636363636, 0.6666666666666666, 0.0, null, null, null, null, null, null, null, null, null, null, 0.25, 1.0, null, null, 0.5882352941176471, null, null, null, null, null, 0.6206896551724138, 1.0, null, null, 0.375, null, null, 0.0, null, null, null, null, null, null, 0.6818181818181818, null, null, 0.0, null, null, 1.0, 0.6666666666666666, null, null, 0.6666666666666666, 0.7, 0.75, 1.0, 0.5384615384615384, 0.0, 0.6, 0.5483870967741935, null, null, 0.6666666666666666, null, null, 0.6666666666666666, 0.5, 0.0, 0.0], \"yaxis\": \"y\", \"type\": \"scatter\"}], \"name\": \"34\"}, {\"data\": [{\"hoverlabel\": {\"namelength\": 0}, \"hovertemplate\": \"Iteration=35<br>Length=%{x}<br>%Homochirality=%{y}\", \"legendgroup\": \"\", \"marker\": {\"color\": \"#636efa\", \"symbol\": \"circle\"}, \"mode\": \"markers\", \"name\": \"\", \"showlegend\": false, \"x\": [36, 1, 45, 1, 1, 41, 1, 1, 1, 1, 1, 1, 4, 1, 29, 1, 1, 4, 1, 3, 1, 1, 7, 1, 3, 4, 1, 1, 11, 1, 1, 8, 1, 1, 15, 1, 1, 1, 1, 1, 1, 1, 6, 1, 7, 1, 10, 3, 1, 13, 1, 4, 46, 1, 1, 1, 2, 1, 2, 3, 1, 1, 1, 2, 6, 2, 1, 1, 1, 2, 2, 6, 3, 2, 2, 2, 17, 1, 1, 10, 10, 9, 2, 1, 10, 1, 17, 46, 5, 1, 1], \"xaxis\": \"x\", \"y\": [0.6, null, 0.6136363636363636, null, null, 0.525, null, null, null, null, null, null, 0.3333333333333333, null, 0.6071428571428571, null, null, 0.6666666666666666, null, 1.0, null, null, 0.5, null, 1.0, 1.0, null, null, 0.5, null, null, 0.5714285714285714, null, null, 0.6428571428571429, null, null, null, null, null, null, null, 0.4, null, 0.5, null, 0.3333333333333333, 1.0, null, 0.5833333333333334, null, 1.0, 0.6, null, null, null, 0.0, null, 1.0, 1.0, null, null, null, 1.0, 0.2, 1.0, null, null, null, 1.0, 0.0, 0.6, 0.0, 1.0, 1.0, 0.0, 0.5, null, null, 0.3333333333333333, 0.3333333333333333, 0.75, 1.0, null, 0.6666666666666666, null, 0.625, 0.6666666666666666, 1.0, null, null], \"yaxis\": \"y\", \"type\": \"scatter\"}], \"name\": \"35\"}, {\"data\": [{\"hoverlabel\": {\"namelength\": 0}, \"hovertemplate\": \"Iteration=36<br>Length=%{x}<br>%Homochirality=%{y}\", \"legendgroup\": \"\", \"marker\": {\"color\": \"#636efa\", \"symbol\": \"circle\"}, \"mode\": \"markers\", \"name\": \"\", \"showlegend\": false, \"x\": [1, 37, 1, 2, 1, 1, 3, 1, 1, 1, 1, 3, 2, 1, 1, 17, 1, 1, 1, 1, 1, 3, 1, 1, 4, 1, 1, 1, 1, 1, 48, 1, 14, 5, 1, 3, 1, 1, 1, 7, 1, 1, 1, 1, 1, 15, 5, 1, 3, 2, 4, 4, 1, 6, 1, 4, 7, 9, 1, 28, 1, 1, 1, 1, 1, 2, 8, 1, 1, 1, 1, 14, 8, 3, 30, 1, 1, 18, 2, 3, 1, 11, 3, 3, 8, 12, 6, 2, 42, 5, 1, 8, 47], \"xaxis\": \"x\", \"y\": [null, 0.6388888888888888, null, 1.0, null, null, 0.5, null, null, null, null, 0.5, 1.0, null, null, 0.375, null, null, null, null, null, 1.0, null, null, 0.6666666666666666, null, null, null, null, null, 0.6170212765957447, null, 0.6153846153846154, 0.75, null, 0.5, null, null, null, 1.0, null, null, null, null, null, 0.6428571428571429, 0.5, null, 0.5, 0.0, 0.3333333333333333, 0.3333333333333333, null, 0.8, null, 0.6666666666666666, 0.3333333333333333, 0.375, null, 0.6296296296296297, null, null, null, null, null, 1.0, 0.42857142857142855, null, null, null, null, 0.6153846153846154, 0.7142857142857143, 0.5, 0.5862068965517241, null, null, 0.47058823529411764, 0.0, 0.5, null, 0.4, 0.5, 1.0, 0.42857142857142855, 0.6363636363636364, 0.6, 1.0, 0.5121951219512195, 1.0, null, 0.5714285714285714, 0.6521739130434783], \"yaxis\": \"y\", \"type\": \"scatter\"}], \"name\": \"36\"}, {\"data\": [{\"hoverlabel\": {\"namelength\": 0}, \"hovertemplate\": \"Iteration=37<br>Length=%{x}<br>%Homochirality=%{y}\", \"legendgroup\": \"\", \"marker\": {\"color\": \"#636efa\", \"symbol\": \"circle\"}, \"mode\": \"markers\", \"name\": \"\", \"showlegend\": false, \"x\": [1, 1, 1, 9, 1, 6, 1, 1, 3, 1, 3, 6, 2, 1, 8, 5, 3, 11, 2, 1, 8, 1, 11, 1, 53, 1, 1, 6, 1, 18, 1, 1, 6, 19, 1, 1, 1, 7, 1, 18, 1, 1, 4, 1, 1, 3, 6, 1, 1, 36, 1, 1, 1, 2, 1, 1, 1, 2, 29, 1, 1, 1, 1, 11, 10, 1, 1, 3, 1, 2, 39, 5, 1, 1, 31, 2, 1, 1, 8, 2, 3, 2, 1, 11, 1, 13, 15, 1, 37], \"xaxis\": \"x\", \"y\": [null, null, null, 0.5, null, 1.0, null, null, 0.5, null, 0.0, 0.4, 1.0, null, 0.2857142857142857, 0.5, 1.0, 0.6, 1.0, null, 0.7142857142857143, null, 0.4, null, 0.6538461538461539, null, null, 1.0, null, 0.6470588235294118, null, null, 0.6, 0.4444444444444444, null, null, null, 0.5, null, 0.6470588235294118, null, null, 0.6666666666666666, null, null, 0.0, 0.6, null, null, 0.6571428571428571, null, null, null, 1.0, null, null, null, 1.0, 0.6428571428571429, null, null, null, null, 0.6, 0.3333333333333333, null, null, 0.5, null, 0.0, 0.5526315789473685, 0.5, null, null, 0.6, 0.0, null, null, 0.8571428571428571, 1.0, 0.5, 1.0, null, 0.3, null, 0.6666666666666666, 0.5714285714285714, null, 0.6388888888888888], \"yaxis\": \"y\", \"type\": \"scatter\"}], \"name\": \"37\"}, {\"data\": [{\"hoverlabel\": {\"namelength\": 0}, \"hovertemplate\": \"Iteration=38<br>Length=%{x}<br>%Homochirality=%{y}\", \"legendgroup\": \"\", \"marker\": {\"color\": \"#636efa\", \"symbol\": \"circle\"}, \"mode\": \"markers\", \"name\": \"\", \"showlegend\": false, \"x\": [7, 1, 1, 1, 1, 1, 20, 1, 3, 4, 1, 6, 19, 1, 1, 7, 1, 4, 1, 1, 1, 4, 4, 1, 1, 1, 1, 1, 3, 1, 1, 1, 45, 1, 9, 6, 1, 14, 45, 2, 10, 1, 1, 9, 1, 1, 8, 1, 2, 2, 1, 16, 1, 1, 1, 1, 21, 60, 1, 1, 1, 1, 1, 4, 12, 4, 1, 2, 1, 49, 1, 12, 2, 19, 3, 7, 2, 1, 3, 4, 6, 2, 18, 16], \"xaxis\": \"x\", \"y\": [0.3333333333333333, null, null, null, null, null, 0.47368421052631576, null, 0.5, 0.6666666666666666, null, 0.8, 0.6111111111111112, null, null, 0.6666666666666666, null, 0.6666666666666666, null, null, null, 0.3333333333333333, 0.6666666666666666, null, null, null, null, null, 1.0, null, null, null, 0.6590909090909091, null, 0.375, 1.0, null, 0.6153846153846154, 0.6136363636363636, 1.0, 0.3333333333333333, null, null, 0.75, null, null, 0.5714285714285714, null, 1.0, 0.0, null, 0.7333333333333333, null, null, null, null, 0.55, 0.6101694915254238, null, null, null, null, null, 0.3333333333333333, 0.45454545454545453, 0.0, null, 1.0, null, 0.6458333333333334, null, 0.6363636363636364, 0.0, 0.6666666666666666, 0.5, 0.3333333333333333, 0.0, null, 0.0, 1.0, 0.6, 0.0, 0.5882352941176471, 0.5333333333333333], \"yaxis\": \"y\", \"type\": \"scatter\"}], \"name\": \"38\"}, {\"data\": [{\"hoverlabel\": {\"namelength\": 0}, \"hovertemplate\": \"Iteration=39<br>Length=%{x}<br>%Homochirality=%{y}\", \"legendgroup\": \"\", \"marker\": {\"color\": \"#636efa\", \"symbol\": \"circle\"}, \"mode\": \"markers\", \"name\": \"\", \"showlegend\": false, \"x\": [16, 1, 1, 12, 1, 1, 1, 62, 5, 3, 1, 20, 1, 20, 1, 3, 1, 1, 1, 1, 1, 4, 1, 1, 5, 1, 14, 2, 4, 18, 1, 1, 10, 1, 1, 1, 1, 1, 1, 5, 23, 1, 12, 2, 4, 7, 1, 2, 1, 1, 2, 1, 1, 1, 7, 55, 1, 1, 4, 5, 2, 6, 1, 13, 29, 8, 2, 3, 46, 2, 8, 1, 1, 2, 3, 2, 2, 2, 1, 1, 7, 21, 4, 4, 2, 2, 9, 2, 6, 1, 1], \"xaxis\": \"x\", \"y\": [0.4, null, null, 0.7272727272727273, null, null, null, 0.6065573770491803, 0.5, 1.0, null, 0.47368421052631576, null, 0.631578947368421, null, 1.0, null, null, null, null, null, 1.0, null, null, 0.5, null, 0.46153846153846156, 1.0, 0.3333333333333333, 0.5882352941176471, null, null, 0.5555555555555556, null, null, null, null, null, null, 0.75, 0.5909090909090909, null, 0.6363636363636364, 1.0, 0.3333333333333333, 0.8333333333333334, null, 0.0, null, null, 1.0, null, null, null, 0.6666666666666666, 0.5555555555555556, null, null, 1.0, 1.0, 0.0, 0.6, null, 0.6666666666666666, 0.75, 0.42857142857142855, 0.0, 0.5, 0.6666666666666666, 0.0, 0.5714285714285714, null, null, 1.0, 1.0, 1.0, 1.0, 0.0, null, null, 0.8333333333333334, 0.5, 0.0, 0.6666666666666666, 0.0, 1.0, 0.5, 1.0, 0.4, null, null], \"yaxis\": \"y\", \"type\": \"scatter\"}], \"name\": \"39\"}, {\"data\": [{\"hoverlabel\": {\"namelength\": 0}, \"hovertemplate\": \"Iteration=40<br>Length=%{x}<br>%Homochirality=%{y}\", \"legendgroup\": \"\", \"marker\": {\"color\": \"#636efa\", \"symbol\": \"circle\"}, \"mode\": \"markers\", \"name\": \"\", \"showlegend\": false, \"x\": [4, 22, 2, 1, 16, 1, 1, 1, 1, 1, 1, 1, 5, 1, 1, 1, 26, 1, 1, 1, 5, 1, 4, 1, 1, 1, 30, 5, 1, 1, 1, 10, 1, 1, 2, 1, 11, 9, 8, 9, 3, 1, 1, 3, 3, 19, 2, 5, 6, 1, 9, 1, 1, 1, 1, 1, 5, 63, 1, 2, 1, 1, 1, 40, 4, 1, 1, 21, 2, 1, 3, 8, 1, 1, 4, 8, 8, 14, 1, 4, 1, 4, 1, 27, 3, 2, 30, 1, 1, 7, 1, 1, 3, 4, 1, 8, 1, 19, 1], \"xaxis\": \"x\", \"y\": [0.0, 0.7142857142857143, 0.0, null, 0.4, null, null, null, null, null, null, null, 1.0, null, null, null, 0.56, null, null, null, 0.75, null, 1.0, null, null, null, 0.6206896551724138, 0.75, null, null, null, 0.5555555555555556, null, null, 1.0, null, 0.6, 0.375, 0.5714285714285714, 0.875, 1.0, null, null, 0.5, 0.5, 0.4444444444444444, 0.0, 0.75, 0.2, null, 0.5, null, null, null, null, null, 0.5, 0.5645161290322581, null, 1.0, null, null, null, 0.5641025641025641, 0.6666666666666666, null, null, 0.6, 0.0, null, 1.0, 0.7142857142857143, null, null, 0.6666666666666666, 0.5714285714285714, 0.7142857142857143, 0.46153846153846156, null, 0.3333333333333333, null, 1.0, null, 0.8461538461538461, 1.0, 0.0, 0.7586206896551724, null, null, 0.3333333333333333, null, null, 0.5, 1.0, null, 0.8571428571428571, null, 0.5, null], \"yaxis\": \"y\", \"type\": \"scatter\"}], \"name\": \"40\"}, {\"data\": [{\"hoverlabel\": {\"namelength\": 0}, \"hovertemplate\": \"Iteration=41<br>Length=%{x}<br>%Homochirality=%{y}\", \"legendgroup\": \"\", \"marker\": {\"color\": \"#636efa\", \"symbol\": \"circle\"}, \"mode\": \"markers\", \"name\": \"\", \"showlegend\": false, \"x\": [1, 74, 1, 1, 1, 1, 5, 1, 1, 3, 1, 1, 1, 1, 8, 12, 1, 6, 36, 35, 1, 1, 9, 4, 1, 1, 3, 1, 4, 1, 1, 1, 8, 18, 15, 1, 1, 1, 1, 12, 1, 2, 1, 1, 26, 4, 24, 1, 10, 1, 43, 1, 3, 1, 6, 13, 1, 1, 8, 1, 1, 1, 1, 1, 1, 1, 7, 2, 31, 7, 2, 1, 3, 7, 2, 1, 1, 6, 12, 4, 1, 1, 5, 9, 4, 1, 3, 7, 1, 14], \"xaxis\": \"x\", \"y\": [null, 0.5616438356164384, null, null, null, null, 0.5, null, null, 0.5, null, null, null, null, 0.2857142857142857, 0.45454545454545453, null, 0.4, 0.8285714285714286, 0.5294117647058824, null, null, 0.25, 0.3333333333333333, null, null, 1.0, null, 1.0, null, null, null, 0.2857142857142857, 0.7647058823529411, 0.5, null, null, null, null, 0.9090909090909091, null, 1.0, null, null, 0.64, 0.3333333333333333, 0.4782608695652174, null, 0.4444444444444444, null, 0.5714285714285714, null, 1.0, null, 0.4, 0.6666666666666666, null, null, 0.7142857142857143, null, null, null, null, null, null, null, 0.6666666666666666, 0.0, 0.6, 0.6666666666666666, 1.0, null, 1.0, 0.6666666666666666, 0.0, null, null, 1.0, 0.8181818181818182, 0.0, null, null, 0.75, 0.625, 1.0, null, 0.5, 0.6666666666666666, null, 0.6153846153846154], \"yaxis\": \"y\", \"type\": \"scatter\"}], \"name\": \"41\"}, {\"data\": [{\"hoverlabel\": {\"namelength\": 0}, \"hovertemplate\": \"Iteration=42<br>Length=%{x}<br>%Homochirality=%{y}\", \"legendgroup\": \"\", \"marker\": {\"color\": \"#636efa\", \"symbol\": \"circle\"}, \"mode\": \"markers\", \"name\": \"\", \"showlegend\": false, \"x\": [1, 1, 8, 1, 1, 1, 1, 1, 6, 1, 4, 1, 16, 1, 34, 1, 1, 1, 9, 19, 1, 15, 1, 9, 1, 1, 1, 10, 5, 4, 1, 5, 1, 1, 1, 7, 4, 1, 1, 1, 44, 16, 1, 1, 1, 1, 4, 19, 1, 1, 2, 32, 13, 79, 1, 26, 2, 1, 2, 3, 3, 2, 2, 2, 13, 8, 2, 5, 3, 1, 1, 30, 2, 5, 6, 1, 4, 3, 1, 14, 3, 1, 4, 7, 8, 3, 1, 2, 3, 2, 1], \"xaxis\": \"x\", \"y\": [null, null, 0.5714285714285714, null, null, null, null, null, 0.4, null, 0.3333333333333333, null, 0.5333333333333333, null, 0.8181818181818182, null, null, null, 0.625, 0.5, null, 0.5714285714285714, null, 0.375, null, null, null, 0.3333333333333333, 1.0, 1.0, null, 1.0, null, null, null, 0.5, 0.0, null, null, null, 0.5581395348837209, 0.4, null, null, null, null, 0.6666666666666666, 0.7777777777777778, null, null, 1.0, 0.6129032258064516, 0.9166666666666666, 0.5641025641025641, null, 0.64, 1.0, null, 0.0, 0.5, 0.5, 0.0, 0.0, 0.0, 0.5, 0.5714285714285714, 1.0, 0.25, 0.5, null, null, 0.4827586206896552, 0.0, 1.0, 0.6, null, 0.6666666666666666, 1.0, null, 0.6153846153846154, 0.5, null, 0.3333333333333333, 1.0, 1.0, 0.0, null, 1.0, 1.0, 1.0, null], \"yaxis\": \"y\", \"type\": \"scatter\"}], \"name\": \"42\"}, {\"data\": [{\"hoverlabel\": {\"namelength\": 0}, \"hovertemplate\": \"Iteration=43<br>Length=%{x}<br>%Homochirality=%{y}\", \"legendgroup\": \"\", \"marker\": {\"color\": \"#636efa\", \"symbol\": \"circle\"}, \"mode\": \"markers\", \"name\": \"\", \"showlegend\": false, \"x\": [1, 1, 1, 6, 5, 1, 1, 1, 7, 58, 10, 1, 8, 4, 17, 1, 1, 1, 1, 1, 1, 10, 1, 16, 1, 13, 1, 5, 8, 1, 1, 1, 6, 1, 20, 2, 1, 1, 1, 5, 3, 17, 1, 12, 7, 75, 47, 27, 1, 1, 1, 1, 1, 23, 3, 22, 1, 1, 1, 18, 2, 1, 5, 1, 1, 1, 7, 1, 1, 2, 1, 20, 6, 14, 11, 3, 4, 7, 1, 1, 1, 3, 2], \"xaxis\": \"x\", \"y\": [null, null, null, 1.0, 0.0, null, null, null, 0.5, 0.631578947368421, 0.3333333333333333, null, 0.7142857142857143, 0.3333333333333333, 0.5625, null, null, null, null, null, null, 0.5555555555555556, null, 0.5333333333333333, null, 0.4166666666666667, null, 0.5, 1.0, null, null, null, 0.6, null, 0.5263157894736842, 1.0, null, null, null, 1.0, 1.0, 0.375, null, 0.5454545454545454, 0.8333333333333334, 0.5675675675675675, 0.5652173913043478, 0.8461538461538461, null, null, null, null, null, 0.6818181818181818, 1.0, 0.6666666666666666, null, null, null, 0.47058823529411764, 1.0, null, 0.75, null, null, null, 1.0, null, null, 0.0, null, 0.42105263157894735, 1.0, 0.46153846153846156, 0.4, 0.5, 0.3333333333333333, 0.8333333333333334, null, null, null, 0.5, 1.0], \"yaxis\": \"y\", \"type\": \"scatter\"}], \"name\": \"43\"}, {\"data\": [{\"hoverlabel\": {\"namelength\": 0}, \"hovertemplate\": \"Iteration=44<br>Length=%{x}<br>%Homochirality=%{y}\", \"legendgroup\": \"\", \"marker\": {\"color\": \"#636efa\", \"symbol\": \"circle\"}, \"mode\": \"markers\", \"name\": \"\", \"showlegend\": false, \"x\": [11, 1, 22, 1, 77, 2, 1, 1, 19, 1, 1, 1, 1, 1, 1, 1, 1, 1, 1, 7, 15, 1, 1, 1, 1, 13, 21, 3, 19, 1, 80, 1, 1, 4, 1, 1, 1, 1, 1, 1, 1, 5, 1, 6, 16, 1, 1, 5, 1, 1, 32, 1, 2, 12, 11, 1, 26, 1, 1, 17, 1, 2, 1, 1, 1, 6, 1, 2, 2, 8, 6, 3, 16, 1, 1, 2, 24, 48, 1, 1, 4, 1, 4], \"xaxis\": \"x\", \"y\": [0.7, null, 0.47619047619047616, null, 0.5657894736842105, 1.0, null, null, 0.6111111111111112, null, null, null, null, null, null, null, null, null, null, 0.3333333333333333, 0.5, null, null, null, null, 0.5, 0.55, 0.0, 0.5, null, 0.6455696202531646, null, null, 0.6666666666666666, null, null, null, null, null, null, null, 1.0, null, 0.8, 0.4, null, null, 1.0, null, null, 0.8064516129032258, null, 0.0, 0.36363636363636365, 0.7, null, 0.44, null, null, 0.75, null, 1.0, null, null, null, 1.0, null, 0.0, 0.0, 0.8571428571428571, 0.6, 0.5, 0.6, null, null, 0.0, 0.6956521739130435, 0.574468085106383, null, null, 1.0, null, 0.6666666666666666], \"yaxis\": \"y\", \"type\": \"scatter\"}], \"name\": \"44\"}, {\"data\": [{\"hoverlabel\": {\"namelength\": 0}, \"hovertemplate\": \"Iteration=45<br>Length=%{x}<br>%Homochirality=%{y}\", \"legendgroup\": \"\", \"marker\": {\"color\": \"#636efa\", \"symbol\": \"circle\"}, \"mode\": \"markers\", \"name\": \"\", \"showlegend\": false, \"x\": [6, 1, 1, 7, 1, 1, 1, 1, 23, 15, 1, 1, 1, 1, 1, 1, 3, 1, 1, 1, 1, 1, 1, 15, 1, 21, 1, 1, 1, 20, 1, 1, 1, 12, 1, 2, 1, 1, 6, 1, 1, 1, 11, 1, 1, 1, 1, 3, 99, 1, 9, 1, 26, 3, 2, 1, 78, 1, 5, 25, 1, 1, 49, 20, 6, 2, 3, 1, 2, 6, 2, 6, 17, 3, 1, 1, 1, 1, 1, 4, 11, 15, 2, 2, 14, 6, 6, 1, 1], \"xaxis\": \"x\", \"y\": [0.8, null, null, 1.0, null, null, null, null, 0.45454545454545453, 0.42857142857142855, null, null, null, null, null, null, 0.0, null, null, null, null, null, null, 0.35714285714285715, null, 0.55, null, null, null, 0.631578947368421, null, null, null, 0.7272727272727273, null, 1.0, null, null, 0.8, null, null, null, 0.3, null, null, null, null, 0.5, 0.6122448979591837, null, 0.75, null, 0.84, 0.0, 0.0, null, 0.5584415584415584, null, 0.5, 0.6666666666666666, null, null, 0.5833333333333334, 0.5789473684210527, 0.8, 0.0, 1.0, null, 0.0, 1.0, 1.0, 1.0, 0.4375, 1.0, null, null, null, null, null, 0.6666666666666666, 0.8, 0.5714285714285714, 0.0, 0.0, 0.46153846153846156, 0.8, 0.4, null, null], \"yaxis\": \"y\", \"type\": \"scatter\"}], \"name\": \"45\"}, {\"data\": [{\"hoverlabel\": {\"namelength\": 0}, \"hovertemplate\": \"Iteration=46<br>Length=%{x}<br>%Homochirality=%{y}\", \"legendgroup\": \"\", \"marker\": {\"color\": \"#636efa\", \"symbol\": \"circle\"}, \"mode\": \"markers\", \"name\": \"\", \"showlegend\": false, \"x\": [1, 1, 28, 1, 113, 1, 1, 1, 17, 13, 2, 1, 1, 1, 6, 1, 1, 1, 1, 1, 1, 1, 1, 1, 1, 9, 1, 37, 1, 23, 1, 4, 1, 1, 1, 8, 3, 10, 12, 1, 1, 1, 1, 1, 1, 3, 58, 7, 1, 4, 1, 1, 1, 1, 1, 1, 1, 1, 1, 24, 5, 15, 10, 1, 1, 4, 2, 1, 1, 1, 21, 16, 2, 3, 1, 2, 1, 1, 2, 2, 1, 4, 19, 1, 20, 2, 1, 1, 8, 50, 6], \"xaxis\": \"x\", \"y\": [null, null, 0.8148148148148148, null, 0.5892857142857143, null, null, null, 0.5625, 0.5, 0.0, null, null, null, 1.0, null, null, null, null, null, null, null, null, null, null, 0.375, null, 0.6944444444444444, null, 0.5, null, 0.3333333333333333, null, null, null, 0.8571428571428571, 0.5, 0.7777777777777778, 0.8181818181818182, null, null, null, null, null, null, 0.0, 0.5964912280701754, 1.0, null, 1.0, null, null, null, null, null, null, null, null, null, 0.4782608695652174, 0.25, 0.5714285714285714, 0.7777777777777778, null, null, 0.6666666666666666, 0.0, null, null, null, 0.65, 0.4, 0.0, 0.5, null, 0.0, null, null, 0.0, 1.0, null, 0.6666666666666666, 0.6111111111111112, null, 0.47368421052631576, 0.0, null, null, 1.0, 0.5918367346938775, 0.4], \"yaxis\": \"y\", \"type\": \"scatter\"}], \"name\": \"46\"}, {\"data\": [{\"hoverlabel\": {\"namelength\": 0}, \"hovertemplate\": \"Iteration=47<br>Length=%{x}<br>%Homochirality=%{y}\", \"legendgroup\": \"\", \"marker\": {\"color\": \"#636efa\", \"symbol\": \"circle\"}, \"mode\": \"markers\", \"name\": \"\", \"showlegend\": false, \"x\": [1, 3, 1, 13, 2, 11, 1, 1, 1, 1, 1, 1, 66, 1, 1, 1, 1, 8, 1, 1, 2, 10, 1, 1, 1, 30, 5, 1, 2, 4, 1, 1, 21, 1, 1, 1, 1, 1, 1, 1, 1, 88, 18, 1, 1, 20, 1, 3, 4, 1, 13, 1, 43, 1, 1, 19, 14, 1, 17, 1, 1, 2, 8, 4, 1, 16, 1, 1, 25, 2, 2, 9, 2, 2, 9, 2, 2, 15, 1, 2, 3, 25, 1, 2, 3, 9, 33], \"xaxis\": \"x\", \"y\": [null, 1.0, null, 0.5833333333333334, 1.0, 0.8, null, null, null, null, null, null, 0.6153846153846154, null, null, null, null, 0.7142857142857143, null, null, 0.0, 0.3333333333333333, null, null, null, 0.7931034482758621, 0.75, null, 0.0, 0.3333333333333333, null, null, 0.45, null, null, null, null, null, null, null, null, 0.6206896551724138, 0.5294117647058824, null, null, 0.5789473684210527, null, 1.0, 0.3333333333333333, null, 0.8333333333333334, null, 0.6428571428571429, null, null, 0.6666666666666666, 0.38461538461538464, null, 0.625, null, null, 0.0, 0.8571428571428571, 0.3333333333333333, null, 0.6, null, null, 0.5, 0.0, 1.0, 0.875, 1.0, 1.0, 0.625, 1.0, 0.0, 0.35714285714285715, null, 1.0, 0.5, 0.5, null, 0.0, 0.5, 0.625, 0.59375], \"yaxis\": \"y\", \"type\": \"scatter\"}], \"name\": \"47\"}, {\"data\": [{\"hoverlabel\": {\"namelength\": 0}, \"hovertemplate\": \"Iteration=48<br>Length=%{x}<br>%Homochirality=%{y}\", \"legendgroup\": \"\", \"marker\": {\"color\": \"#636efa\", \"symbol\": \"circle\"}, \"mode\": \"markers\", \"name\": \"\", \"showlegend\": false, \"x\": [4, 1, 1, 1, 1, 1, 1, 4, 1, 1, 6, 1, 18, 8, 17, 8, 1, 1, 64, 11, 1, 1, 1, 1, 1, 27, 34, 1, 3, 1, 1, 1, 1, 1, 1, 1, 4, 1, 3, 16, 1, 11, 10, 1, 1, 1, 8, 1, 5, 1, 1, 89, 19, 1, 1, 1, 29, 1, 1, 9, 67, 17, 3, 22, 1, 1, 1, 1, 5, 5, 21, 1, 1, 2, 14, 1, 1, 16, 2, 1, 1, 8, 2, 3, 4, 4], \"xaxis\": \"x\", \"y\": [0.6666666666666666, null, null, null, null, null, null, 0.0, null, null, 0.2, null, 0.5294117647058824, 0.7142857142857143, 0.6875, 0.7142857142857143, null, null, 0.5873015873015873, 0.8, null, null, null, null, null, 0.5, 0.5454545454545454, null, 1.0, null, null, null, null, null, null, null, 1.0, null, 1.0, 0.4666666666666667, null, 0.8, 0.7777777777777778, null, null, null, 1.0, null, 0.75, null, null, 0.6136363636363636, 0.5, null, null, null, 0.6071428571428571, null, null, 0.75, 0.6212121212121212, 0.4375, 0.0, 0.8095238095238095, null, null, null, null, 0.5, 0.5, 0.55, null, null, 0.0, 0.8461538461538461, null, null, 0.4, 0.0, null, null, 0.42857142857142855, 1.0, 0.5, 0.6666666666666666, 0.6666666666666666], \"yaxis\": \"y\", \"type\": \"scatter\"}], \"name\": \"48\"}, {\"data\": [{\"hoverlabel\": {\"namelength\": 0}, \"hovertemplate\": \"Iteration=49<br>Length=%{x}<br>%Homochirality=%{y}\", \"legendgroup\": \"\", \"marker\": {\"color\": \"#636efa\", \"symbol\": \"circle\"}, \"mode\": \"markers\", \"name\": \"\", \"showlegend\": false, \"x\": [1, 7, 7, 49, 1, 1, 1, 1, 1, 1, 68, 1, 90, 6, 1, 2, 3, 1, 1, 16, 1, 1, 1, 1, 1, 21, 1, 1, 1, 1, 7, 4, 1, 2, 1, 1, 1, 1, 1, 35, 1, 1, 29, 1, 1, 1, 1, 1, 1, 1, 17, 1, 1, 1, 1, 5, 11, 1, 50, 5, 1, 5, 12, 1, 33, 1, 1, 14, 15, 2, 4, 6, 12, 1, 1, 15, 1, 1, 2, 1, 4, 5, 3, 3, 28, 17], \"xaxis\": \"x\", \"y\": [null, 0.3333333333333333, 0.5, 0.5625, null, null, null, null, null, null, 0.6268656716417911, null, 0.6067415730337079, 0.8, null, 1.0, 0.5, null, null, 0.7333333333333333, null, null, null, null, null, 0.85, null, null, null, null, 0.16666666666666666, 1.0, null, 1.0, null, null, null, null, null, 0.6176470588235294, null, null, 0.5714285714285714, null, null, null, null, null, null, null, 0.6875, null, null, null, null, 0.5, 0.9, null, 0.4897959183673469, 0.75, null, 0.25, 0.8181818181818182, null, 0.625, null, null, 0.6153846153846154, 0.7142857142857143, 0.0, 0.3333333333333333, 0.6, 0.7272727272727273, null, null, 0.42857142857142855, null, null, 1.0, null, 0.6666666666666666, 0.0, 0.5, 1.0, 0.48148148148148145, 0.5], \"yaxis\": \"y\", \"type\": \"scatter\"}], \"name\": \"49\"}, {\"data\": [{\"hoverlabel\": {\"namelength\": 0}, \"hovertemplate\": \"Iteration=50<br>Length=%{x}<br>%Homochirality=%{y}\", \"legendgroup\": \"\", \"marker\": {\"color\": \"#636efa\", \"symbol\": \"circle\"}, \"mode\": \"markers\", \"name\": \"\", \"showlegend\": false, \"x\": [1, 25, 1, 1, 9, 1, 1, 18, 1, 1, 34, 5, 1, 1, 18, 1, 1, 1, 1, 11, 1, 1, 1, 30, 3, 9, 65, 1, 1, 1, 1, 1, 1, 1, 17, 1, 1, 18, 1, 1, 1, 1, 1, 4, 1, 1, 1, 1, 1, 29, 1, 1, 36, 1, 1, 95, 1, 1, 1, 1, 1, 1, 5, 4, 1, 12, 1, 1, 1, 17, 29, 1, 2, 4, 11, 1, 2, 1, 69, 8, 2, 3, 5, 20, 1, 1, 2, 2], \"xaxis\": \"x\", \"y\": [null, 0.75, null, null, 0.375, null, null, 0.7058823529411765, null, null, 0.6060606060606061, 0.75, null, null, 0.47058823529411764, null, null, null, null, 0.8, null, null, null, 0.5517241379310345, 0.5, 0.375, 0.53125, null, null, null, null, null, null, null, 0.6875, null, null, 0.47058823529411764, null, null, null, null, null, 1.0, null, null, null, null, null, 0.42857142857142855, null, null, 0.6, null, null, 0.5957446808510638, null, null, null, null, null, null, 0.75, 0.6666666666666666, null, 0.9090909090909091, null, null, null, 0.75, 0.5, null, 0.0, 0.3333333333333333, 0.9, null, 0.0, null, 0.6323529411764706, 0.2857142857142857, 0.0, 1.0, 0.75, 0.7368421052631579, null, null, 0.0, 1.0], \"yaxis\": \"y\", \"type\": \"scatter\"}], \"name\": \"50\"}, {\"data\": [{\"hoverlabel\": {\"namelength\": 0}, \"hovertemplate\": \"Iteration=51<br>Length=%{x}<br>%Homochirality=%{y}\", \"legendgroup\": \"\", \"marker\": {\"color\": \"#636efa\", \"symbol\": \"circle\"}, \"mode\": \"markers\", \"name\": \"\", \"showlegend\": false, \"x\": [1, 11, 1, 1, 3, 1, 1, 1, 1, 1, 1, 1, 1, 1, 19, 1, 24, 1, 1, 1, 1, 18, 1, 1, 32, 1, 1, 3, 1, 1, 1, 112, 1, 4, 1, 1, 1, 1, 1, 1, 6, 1, 1, 1, 6, 5, 1, 1, 1, 33, 1, 1, 36, 18, 1, 4, 1, 3, 4, 1, 1, 2, 1, 1, 1, 11, 1, 22, 1, 14, 1, 1, 3, 1, 1, 70, 1, 1, 1, 2, 33, 66, 1, 11, 9, 8, 2, 6, 2, 13, 10, 1, 7], \"xaxis\": \"x\", \"y\": [null, 0.9, null, null, 0.0, null, null, null, null, null, null, null, null, null, 0.5, null, 0.7391304347826086, null, null, null, null, 0.5882352941176471, null, null, 0.5161290322580645, null, null, 0.5, null, null, null, 0.6036036036036037, null, 0.6666666666666666, null, null, null, null, null, null, 0.8, null, null, null, 0.6, 0.5, null, null, null, 0.4375, null, null, 0.5714285714285714, 0.7647058823529411, null, 0.3333333333333333, null, 0.0, 1.0, null, null, 1.0, null, null, null, 0.6, null, 0.42857142857142855, null, 0.5384615384615384, null, null, 0.5, null, null, 0.6231884057971014, null, null, null, 1.0, 0.625, 0.5230769230769231, null, 0.3, 0.25, 1.0, 1.0, 1.0, 0.0, 0.9166666666666666, 0.4444444444444444, null, 0.8333333333333334], \"yaxis\": \"y\", \"type\": \"scatter\"}], \"name\": \"51\"}, {\"data\": [{\"hoverlabel\": {\"namelength\": 0}, \"hovertemplate\": \"Iteration=52<br>Length=%{x}<br>%Homochirality=%{y}\", \"legendgroup\": \"\", \"marker\": {\"color\": \"#636efa\", \"symbol\": \"circle\"}, \"mode\": \"markers\", \"name\": \"\", \"showlegend\": false, \"x\": [1, 1, 7, 1, 1, 1, 2, 3, 1, 2, 1, 2, 29, 1, 5, 1, 1, 21, 8, 1, 1, 1, 1, 2, 1, 12, 2, 3, 15, 1, 1, 1, 1, 1, 1, 1, 44, 1, 1, 8, 1, 1, 1, 1, 27, 1, 1, 1, 1, 1, 1, 5, 16, 12, 3, 1, 1, 7, 3, 23, 1, 136, 1, 1, 5, 51, 15, 2, 29, 2, 37, 1, 37, 7, 1, 21, 1, 2, 2, 2, 2, 6, 7, 2, 4, 1, 2, 2, 19], \"xaxis\": \"x\", \"y\": [null, null, 0.8333333333333334, null, null, null, 1.0, 0.0, null, 1.0, null, 1.0, 0.42857142857142855, null, 0.5, null, null, 0.5, 0.8571428571428571, null, null, null, null, 0.0, null, 0.45454545454545453, 0.0, 1.0, 0.9285714285714286, null, null, null, null, null, null, null, 0.5581395348837209, null, null, 1.0, null, null, null, null, 0.5769230769230769, null, null, null, null, null, null, 0.25, 0.4666666666666667, 0.7272727272727273, 0.5, null, null, 0.8333333333333334, 0.5, 0.4090909090909091, null, 0.6296296296296297, null, null, 0.5, 0.7, 0.5714285714285714, 1.0, 0.5714285714285714, 1.0, 0.5555555555555556, null, 0.6111111111111112, 0.6666666666666666, null, 0.7, null, 0.0, 0.0, 1.0, 1.0, 0.2, 0.16666666666666666, 0.0, 0.0, null, 0.0, 0.0, 0.4444444444444444], \"yaxis\": \"y\", \"type\": \"scatter\"}], \"name\": \"52\"}, {\"data\": [{\"hoverlabel\": {\"namelength\": 0}, \"hovertemplate\": \"Iteration=53<br>Length=%{x}<br>%Homochirality=%{y}\", \"legendgroup\": \"\", \"marker\": {\"color\": \"#636efa\", \"symbol\": \"circle\"}, \"mode\": \"markers\", \"name\": \"\", \"showlegend\": false, \"x\": [12, 1, 5, 1, 1, 4, 1, 13, 1, 39, 30, 1, 1, 3, 1, 7, 1, 2, 1, 4, 15, 1, 1, 1, 8, 10, 6, 8, 1, 1, 23, 1, 1, 1, 1, 16, 13, 1, 1, 1, 1, 138, 14, 1, 1, 31, 1, 52, 23, 1, 3, 1, 1, 4, 15, 1, 9, 1, 1, 22, 1, 1, 1, 20, 15, 13, 4, 14, 3, 1, 1, 4, 1, 3, 13, 1, 1, 21, 1, 2, 6, 1, 14, 2, 1, 1], \"xaxis\": \"x\", \"y\": [0.2727272727272727, null, 0.0, null, null, 0.6666666666666666, null, 0.4166666666666667, null, 0.5789473684210527, 0.6206896551724138, null, null, 0.5, null, 0.3333333333333333, null, 0.0, null, 0.0, 0.9285714285714286, null, null, null, 0.5714285714285714, 0.4444444444444444, 0.6, 0.5714285714285714, null, null, 0.4090909090909091, null, null, null, null, 0.6, 0.8333333333333334, null, null, null, null, 0.6277372262773723, 0.5384615384615384, null, null, 0.5333333333333333, null, 0.6862745098039216, 0.5, null, 1.0, null, null, 1.0, 0.35714285714285715, null, 0.625, null, null, 0.7142857142857143, null, null, null, 0.42105263157894735, 0.7857142857142857, 0.6666666666666666, 1.0, 0.38461538461538464, 1.0, null, null, 0.3333333333333333, null, 0.5, 0.3333333333333333, null, null, 0.5, null, 0.0, 0.8, null, 0.5384615384615384, 1.0, null, null], \"yaxis\": \"y\", \"type\": \"scatter\"}], \"name\": \"53\"}, {\"data\": [{\"hoverlabel\": {\"namelength\": 0}, \"hovertemplate\": \"Iteration=54<br>Length=%{x}<br>%Homochirality=%{y}\", \"legendgroup\": \"\", \"marker\": {\"color\": \"#636efa\", \"symbol\": \"circle\"}, \"mode\": \"markers\", \"name\": \"\", \"showlegend\": false, \"x\": [1, 37, 1, 1, 7, 1, 1, 1, 1, 17, 22, 40, 1, 2, 1, 1, 1, 9, 1, 29, 1, 1, 1, 13, 1, 1, 1, 24, 1, 2, 5, 1, 1, 1, 1, 1, 23, 1, 9, 1, 1, 1, 1, 1, 1, 3, 1, 1, 1, 1, 4, 1, 1, 41, 1, 15, 1, 1, 1, 169, 1, 1, 9, 34, 2, 7, 1, 27, 1, 1, 1, 5, 1, 9, 17, 12, 2, 2, 4, 8, 1, 1, 3, 2, 1, 1, 1, 4, 2, 14, 13, 6, 1, 13, 1], \"xaxis\": \"x\", \"y\": [null, 0.7777777777777778, null, null, 0.0, null, null, null, null, 0.5, 0.47619047619047616, 0.6666666666666666, null, 1.0, null, null, null, 0.875, null, 0.5, null, null, null, 0.5, null, null, null, 0.5217391304347826, null, 1.0, 0.75, null, null, null, null, null, 0.45454545454545453, null, 0.25, null, null, null, null, null, null, 0.0, null, null, null, null, 1.0, null, null, 0.475, null, 0.7142857142857143, null, null, null, 0.6071428571428571, null, null, 0.5, 0.5757575757575758, 0.0, 0.6666666666666666, null, 0.46153846153846156, null, null, null, 1.0, null, 0.625, 0.6875, 0.7272727272727273, 1.0, 0.0, 0.3333333333333333, 0.7142857142857143, null, null, 0.5, 0.0, null, null, null, 0.6666666666666666, 1.0, 0.38461538461538464, 0.8333333333333334, 0.4, null, 0.5, null], \"yaxis\": \"y\", \"type\": \"scatter\"}], \"name\": \"54\"}, {\"data\": [{\"hoverlabel\": {\"namelength\": 0}, \"hovertemplate\": \"Iteration=55<br>Length=%{x}<br>%Homochirality=%{y}\", \"legendgroup\": \"\", \"marker\": {\"color\": \"#636efa\", \"symbol\": \"circle\"}, \"mode\": \"markers\", \"name\": \"\", \"showlegend\": false, \"x\": [1, 1, 1, 1, 15, 1, 1, 2, 4, 4, 1, 2, 1, 1, 1, 3, 27, 1, 1, 6, 1, 1, 1, 1, 20, 1, 1, 1, 1, 1, 25, 1, 1, 1, 17, 6, 1, 1, 1, 1, 5, 1, 14, 29, 3, 13, 4, 1, 9, 1, 8, 1, 1, 1, 1, 5, 1, 1, 23, 16, 1, 1, 27, 1, 3, 1, 2, 1, 1, 3, 170, 3, 6, 2, 13, 2, 1, 1, 25, 13, 2, 3, 2, 5, 2, 3, 12, 2, 1, 3, 4, 21, 2, 14, 4, 6, 2, 7, 38, 6, 12, 1], \"xaxis\": \"x\", \"y\": [null, null, null, null, 0.5, null, null, 0.0, 1.0, 0.0, null, 1.0, null, null, null, 0.5, 0.6538461538461539, null, null, 0.8, null, null, null, null, 0.47368421052631576, null, null, null, null, null, 0.4583333333333333, null, null, null, 0.6875, 0.8, null, null, null, null, 0.75, null, 0.7692307692307693, 0.5, 1.0, 0.3333333333333333, 0.3333333333333333, null, 0.75, null, 0.42857142857142855, null, null, null, null, 0.5, null, null, 0.45454545454545453, 0.4666666666666667, null, null, 0.6153846153846154, null, 0.5, null, 1.0, null, null, 0.0, 0.6094674556213018, 1.0, 1.0, 1.0, 0.75, 0.0, null, null, 0.5, 0.6666666666666666, 1.0, 0.5, 1.0, 0.5, 0.0, 0.5, 0.36363636363636365, 1.0, null, 1.0, 0.0, 0.5, 1.0, 0.46153846153846156, 0.3333333333333333, 0.6, 1.0, 0.3333333333333333, 0.7837837837837838, 0.2, 0.8181818181818182, null], \"yaxis\": \"y\", \"type\": \"scatter\"}], \"name\": \"55\"}, {\"data\": [{\"hoverlabel\": {\"namelength\": 0}, \"hovertemplate\": \"Iteration=56<br>Length=%{x}<br>%Homochirality=%{y}\", \"legendgroup\": \"\", \"marker\": {\"color\": \"#636efa\", \"symbol\": \"circle\"}, \"mode\": \"markers\", \"name\": \"\", \"showlegend\": false, \"x\": [1, 11, 5, 1, 1, 15, 2, 13, 1, 13, 1, 1, 2, 1, 3, 1, 22, 1, 1, 2, 1, 1, 2, 32, 1, 1, 1, 2, 10, 1, 2, 3, 15, 11, 2, 1, 1, 172, 1, 1, 33, 27, 1, 4, 1, 1, 1, 4, 1, 1, 5, 2, 9, 1, 1, 27, 3, 1, 10, 1, 7, 1, 1, 1, 1, 23, 1, 25, 27, 9, 5, 1, 12, 1, 3, 2, 11, 1, 1, 1, 2, 3, 14, 7, 1, 3, 2, 3, 1, 11, 5, 1, 2, 1, 16, 4, 2, 2, 14, 1, 1, 2, 1], \"xaxis\": \"x\", \"y\": [null, 0.9, 0.5, null, null, 0.8571428571428571, 1.0, 0.4166666666666667, null, 0.5833333333333334, null, null, 1.0, null, 0.5, null, 0.5238095238095238, null, null, 1.0, null, null, 1.0, 0.6774193548387096, null, null, null, 0.0, 0.7777777777777778, null, 0.0, 0.5, 0.5, 0.8, 0.0, null, null, 0.6023391812865497, null, null, 0.46875, 0.5, null, 1.0, null, null, null, 0.3333333333333333, null, null, 0.75, 0.0, 0.25, null, null, 0.4230769230769231, 0.0, null, 0.5555555555555556, null, 0.8333333333333334, null, null, null, null, 0.5, null, 0.5, 0.7307692307692307, 0.875, 0.75, null, 0.36363636363636365, null, 1.0, 1.0, 0.4, null, null, null, 0.0, 0.5, 0.6153846153846154, 0.8333333333333334, null, 0.5, 1.0, 0.5, null, 0.4, 1.0, null, 1.0, null, 0.4666666666666667, 0.6666666666666666, 0.0, 0.0, 0.7692307692307693, null, null, 1.0, null], \"yaxis\": \"y\", \"type\": \"scatter\"}], \"name\": \"56\"}, {\"data\": [{\"hoverlabel\": {\"namelength\": 0}, \"hovertemplate\": \"Iteration=57<br>Length=%{x}<br>%Homochirality=%{y}\", \"legendgroup\": \"\", \"marker\": {\"color\": \"#636efa\", \"symbol\": \"circle\"}, \"mode\": \"markers\", \"name\": \"\", \"showlegend\": false, \"x\": [42, 32, 25, 1, 6, 3, 2, 3, 1, 1, 18, 1, 1, 13, 29, 1, 1, 1, 1, 25, 1, 1, 12, 90, 9, 1, 1, 4, 28, 1, 1, 2, 24, 1, 1, 38, 6, 11, 1, 1, 1, 15, 1, 5, 1, 14, 2, 1, 6, 3, 1, 1, 1, 1, 2, 8, 1, 1, 1, 7, 2, 2, 1, 9, 6, 1, 1, 2, 82, 5, 5, 1, 6, 9, 1, 2, 5, 1, 1, 14, 12, 3, 1, 3, 6, 25, 6], \"xaxis\": \"x\", \"y\": [0.6585365853658537, 0.4838709677419355, 0.7083333333333334, null, 1.0, 0.5, 1.0, 0.5, null, null, 0.4117647058823529, null, null, 0.8333333333333334, 0.5, null, null, null, null, 0.5416666666666666, null, null, 0.7272727272727273, 0.6067415730337079, 0.75, null, null, 0.3333333333333333, 0.7037037037037037, null, null, 0.0, 0.4782608695652174, null, null, 0.5405405405405406, 0.4, 0.8, null, null, null, 0.42857142857142855, null, 0.75, null, 0.46153846153846156, 1.0, null, 0.4, 0.0, null, null, null, null, 0.0, 0.7142857142857143, null, null, null, 0.6666666666666666, 1.0, 1.0, null, 0.875, 1.0, null, null, 0.0, 0.5925925925925926, 0.5, 0.75, null, 0.6, 0.625, null, 0.0, 0.5, null, null, 0.38461538461538464, 0.7272727272727273, 1.0, null, 0.0, 0.6, 0.4583333333333333, 0.6], \"yaxis\": \"y\", \"type\": \"scatter\"}], \"name\": \"57\"}, {\"data\": [{\"hoverlabel\": {\"namelength\": 0}, \"hovertemplate\": \"Iteration=58<br>Length=%{x}<br>%Homochirality=%{y}\", \"legendgroup\": \"\", \"marker\": {\"color\": \"#636efa\", \"symbol\": \"circle\"}, \"mode\": \"markers\", \"name\": \"\", \"showlegend\": false, \"x\": [3, 2, 1, 1, 1, 1, 48, 1, 1, 1, 3, 21, 1, 15, 1, 1, 8, 4, 4, 1, 2, 9, 1, 5, 1, 1, 1, 1, 1, 2, 1, 1, 1, 26, 1, 30, 1, 1, 1, 32, 9, 1, 7, 1, 1, 1, 15, 5, 2, 1, 14, 1, 1, 1, 1, 1, 47, 1, 1, 86, 42, 5, 2, 8, 15, 3, 26, 29, 11, 1, 10, 1, 3, 2, 1, 3, 2, 5, 1, 9, 2, 14, 1, 4, 30, 2, 4, 1, 11, 1, 48, 6, 1], \"xaxis\": \"x\", \"y\": [0.0, 1.0, null, null, null, null, 0.6808510638297872, null, null, null, 0.0, 0.45, null, 0.7142857142857143, null, null, 0.2857142857142857, 0.3333333333333333, 0.3333333333333333, null, 0.0, 0.75, null, 0.75, null, null, null, null, null, 0.0, null, null, null, 0.72, null, 0.4827586206896552, null, null, null, 0.5806451612903226, 0.875, null, 0.5, null, null, null, 0.42857142857142855, 0.5, 0.0, null, 0.6923076923076923, null, null, null, null, null, 0.5869565217391305, null, null, 0.5764705882352941, 0.5609756097560976, 0.75, 0.0, 1.0, 0.42857142857142855, 0.5, 0.44, 0.6785714285714286, 0.6, null, 0.5555555555555556, null, 0.5, 0.0, null, 1.0, 1.0, 0.75, null, 0.75, 0.0, 0.46153846153846156, null, 0.6666666666666666, 0.4827586206896552, 0.0, 0.3333333333333333, null, 0.7, null, 0.6382978723404256, 1.0, null], \"yaxis\": \"y\", \"type\": \"scatter\"}], \"name\": \"58\"}, {\"data\": [{\"hoverlabel\": {\"namelength\": 0}, \"hovertemplate\": \"Iteration=59<br>Length=%{x}<br>%Homochirality=%{y}\", \"legendgroup\": \"\", \"marker\": {\"color\": \"#636efa\", \"symbol\": \"circle\"}, \"mode\": \"markers\", \"name\": \"\", \"showlegend\": false, \"x\": [1, 36, 1, 1, 9, 3, 1, 1, 5, 1, 1, 1, 1, 90, 1, 61, 6, 8, 53, 1, 2, 1, 1, 1, 16, 1, 1, 1, 1, 17, 1, 1, 49, 1, 41, 1, 4, 7, 1, 5, 1, 25, 4, 6, 11, 1, 1, 2, 7, 1, 2, 17, 1, 6, 11, 1, 1, 1, 1, 1, 1, 1, 1, 14, 1, 7, 1, 1, 22, 1, 4, 2, 22, 3, 13, 8, 1, 1, 38, 8, 31, 23, 3, 1, 2], \"xaxis\": \"x\", \"y\": [null, 0.6571428571428571, null, null, 0.375, 0.5, null, null, 0.75, null, null, null, null, 0.5730337078651685, null, 0.5666666666666667, 0.0, 0.2857142857142857, 0.5384615384615384, null, 0.0, null, null, null, 0.7333333333333333, null, null, null, null, 0.4375, null, null, 0.6875, null, 0.425, null, 0.6666666666666666, 0.8333333333333334, null, 0.25, null, 0.5833333333333334, 0.3333333333333333, 0.6, 0.7, null, null, 1.0, 0.6666666666666666, null, 1.0, 0.875, null, 1.0, 0.6, null, null, null, null, null, null, null, null, 0.7692307692307693, null, 0.6666666666666666, null, null, 0.6190476190476191, null, 0.3333333333333333, 1.0, 0.5714285714285714, 1.0, 0.6666666666666666, 0.5714285714285714, null, null, 0.5675675675675675, 0.7142857142857143, 0.5, 0.7272727272727273, 1.0, null, 0.0], \"yaxis\": \"y\", \"type\": \"scatter\"}], \"name\": \"59\"}, {\"data\": [{\"hoverlabel\": {\"namelength\": 0}, \"hovertemplate\": \"Iteration=60<br>Length=%{x}<br>%Homochirality=%{y}\", \"legendgroup\": \"\", \"marker\": {\"color\": \"#636efa\", \"symbol\": \"circle\"}, \"mode\": \"markers\", \"name\": \"\", \"showlegend\": false, \"x\": [1, 97, 1, 1, 26, 1, 41, 1, 1, 6, 1, 1, 1, 1, 1, 31, 1, 1, 17, 1, 1, 1, 5, 5, 10, 17, 1, 1, 1, 19, 1, 5, 12, 27, 1, 8, 1, 1, 3, 2, 1, 4, 28, 1, 1, 3, 1, 1, 1, 50, 1, 12, 3, 1, 1, 46, 19, 1, 7, 9, 11, 1, 1, 1, 2, 2, 15, 20, 13, 1, 2, 2, 18, 1, 1, 7, 2, 6, 3, 3, 2, 1, 1, 2, 1, 9, 2, 14, 5, 27, 2, 2, 1, 6, 7, 12, 3, 2, 5], \"xaxis\": \"x\", \"y\": [null, 0.5833333333333334, null, null, 0.44, null, 0.625, null, null, 0.4, null, null, null, null, null, 0.6, null, null, 0.75, null, null, null, 0.25, 0.75, 0.8888888888888888, 0.6875, null, null, null, 0.6666666666666666, null, 0.75, 0.6363636363636364, 0.6923076923076923, null, 0.14285714285714285, null, null, 0.5, 0.0, null, 0.6666666666666666, 0.5925925925925926, null, null, 0.0, null, null, null, 0.6938775510204082, null, 0.7272727272727273, 0.0, null, null, 0.5333333333333333, 0.5555555555555556, null, 0.5, 0.625, 0.5, null, null, null, 0.0, 0.0, 0.42857142857142855, 0.47368421052631576, 0.8333333333333334, null, 0.0, 1.0, 0.8823529411764706, null, null, 0.5, 0.0, 0.8, 0.0, 0.0, 0.0, null, null, 1.0, null, 0.625, 0.0, 0.46153846153846156, 1.0, 0.5, 1.0, 1.0, null, 0.6, 0.6666666666666666, 0.6363636363636364, 1.0, 0.0, 1.0], \"yaxis\": \"y\", \"type\": \"scatter\"}], \"name\": \"60\"}, {\"data\": [{\"hoverlabel\": {\"namelength\": 0}, \"hovertemplate\": \"Iteration=61<br>Length=%{x}<br>%Homochirality=%{y}\", \"legendgroup\": \"\", \"marker\": {\"color\": \"#636efa\", \"symbol\": \"circle\"}, \"mode\": \"markers\", \"name\": \"\", \"showlegend\": false, \"x\": [16, 5, 1, 1, 1, 35, 11, 1, 2, 21, 1, 15, 2, 1, 11, 6, 1, 20, 3, 37, 1, 45, 1, 5, 9, 1, 1, 10, 26, 1, 1, 21, 1, 1, 1, 1, 1, 42, 20, 1, 19, 1, 1, 48, 1, 16, 2, 2, 15, 1, 3, 1, 8, 2, 14, 1, 1, 1, 5, 15, 13, 1, 12, 2, 1, 2, 1, 1, 8, 4, 2, 3, 14, 6, 1, 2, 51, 81, 1, 1, 5, 3, 2, 4, 1, 1, 1], \"xaxis\": \"x\", \"y\": [0.6666666666666666, 0.5, null, null, null, 0.5588235294117647, 0.8, null, 0.0, 0.9, null, 0.5714285714285714, 1.0, null, 0.5, 0.2, null, 0.5789473684210527, 0.5, 0.5833333333333334, null, 0.5454545454545454, null, 0.0, 0.5, null, null, 0.6666666666666666, 0.72, null, null, 0.55, null, null, null, null, null, 0.6341463414634146, 0.47368421052631576, null, 0.7222222222222222, null, null, 0.5106382978723404, null, 0.5333333333333333, 0.0, 0.0, 0.6428571428571429, null, 0.0, null, 0.5714285714285714, 1.0, 0.7692307692307693, null, null, null, 1.0, 0.5714285714285714, 0.6666666666666666, null, 0.45454545454545453, 0.0, null, 1.0, null, null, 0.5714285714285714, 1.0, 1.0, 0.5, 0.7692307692307693, 0.6, null, 0.0, 0.7, 0.6, null, null, 0.0, 0.0, 0.0, 0.3333333333333333, null, null, null], \"yaxis\": \"y\", \"type\": \"scatter\"}], \"name\": \"61\"}, {\"data\": [{\"hoverlabel\": {\"namelength\": 0}, \"hovertemplate\": \"Iteration=62<br>Length=%{x}<br>%Homochirality=%{y}\", \"legendgroup\": \"\", \"marker\": {\"color\": \"#636efa\", \"symbol\": \"circle\"}, \"mode\": \"markers\", \"name\": \"\", \"showlegend\": false, \"x\": [59, 16, 14, 35, 5, 6, 7, 1, 13, 1, 13, 1, 1, 1, 1, 37, 5, 6, 2, 1, 1, 1, 2, 1, 1, 1, 1, 1, 16, 1, 1, 1, 1, 21, 4, 45, 1, 8, 1, 6, 1, 1, 1, 1, 10, 25, 4, 1, 1, 1, 16, 5, 3, 1, 1, 3, 1, 15, 92, 2, 1, 1, 4, 10, 5, 1, 1, 5, 2, 2, 5, 2, 33, 3, 6, 22, 5, 1, 17, 12, 10, 5, 12, 11, 17, 4, 2, 49, 1, 1], \"xaxis\": \"x\", \"y\": [0.6896551724137931, 0.6, 0.6923076923076923, 0.5, 0.25, 0.4, 0.5, null, 0.5, null, 0.5833333333333334, null, null, null, null, 0.6388888888888888, 1.0, 0.4, 1.0, null, null, null, 1.0, null, null, null, null, null, 0.6666666666666666, null, null, null, null, 0.6, 0.6666666666666666, 0.7045454545454546, null, 0.42857142857142855, null, 0.6, null, null, null, null, 0.5555555555555556, 0.6666666666666666, 0.3333333333333333, null, null, null, 0.7333333333333333, 0.5, 0.0, null, null, 0.5, null, 0.42857142857142855, 0.6153846153846154, 1.0, null, null, 0.0, 0.6666666666666666, 0.75, null, null, 0.5, 0.0, 1.0, 0.75, 1.0, 0.53125, 0.5, 0.0, 0.9047619047619048, 0.75, null, 0.5, 0.5454545454545454, 0.4444444444444444, 0.5, 0.45454545454545453, 0.8, 0.625, 0.6666666666666666, 0.0, 0.5, null, null], \"yaxis\": \"y\", \"type\": \"scatter\"}], \"name\": \"62\"}, {\"data\": [{\"hoverlabel\": {\"namelength\": 0}, \"hovertemplate\": \"Iteration=63<br>Length=%{x}<br>%Homochirality=%{y}\", \"legendgroup\": \"\", \"marker\": {\"color\": \"#636efa\", \"symbol\": \"circle\"}, \"mode\": \"markers\", \"name\": \"\", \"showlegend\": false, \"x\": [17, 1, 2, 1, 11, 1, 20, 1, 3, 1, 62, 1, 1, 1, 34, 2, 64, 19, 2, 6, 1, 1, 1, 77, 15, 1, 7, 5, 4, 48, 1, 1, 30, 1, 1, 27, 1, 14, 1, 14, 33, 1, 1, 1, 55, 1, 16, 15, 1, 1, 17, 9, 1, 3, 9, 1, 45, 1, 2, 2, 4, 1, 2, 1, 2, 4, 1, 10, 6, 15, 2, 11, 2, 5, 1, 1, 1], \"xaxis\": \"x\", \"y\": [0.75, null, 0.0, null, 0.4, null, 0.3684210526315789, null, 1.0, null, 0.6557377049180327, null, null, null, 0.5454545454545454, 1.0, 0.6825396825396826, 0.5555555555555556, 1.0, 0.6, null, null, null, 0.6710526315789473, 0.7142857142857143, null, 0.6666666666666666, 0.5, 0.3333333333333333, 0.5106382978723404, null, null, 0.7586206896551724, null, null, 0.6153846153846154, null, 0.46153846153846156, null, 0.3076923076923077, 0.65625, null, null, null, 0.5, null, 0.5333333333333333, 0.7857142857142857, null, null, 0.5, 0.5, null, 0.5, 0.5, null, 0.7045454545454546, null, 0.0, 0.0, 0.6666666666666666, null, 0.0, null, 0.0, 1.0, null, 0.4444444444444444, 0.4, 0.2857142857142857, 1.0, 0.6, 0.0, 0.25, null, null, null], \"yaxis\": \"y\", \"type\": \"scatter\"}], \"name\": \"63\"}, {\"data\": [{\"hoverlabel\": {\"namelength\": 0}, \"hovertemplate\": \"Iteration=64<br>Length=%{x}<br>%Homochirality=%{y}\", \"legendgroup\": \"\", \"marker\": {\"color\": \"#636efa\", \"symbol\": \"circle\"}, \"mode\": \"markers\", \"name\": \"\", \"showlegend\": false, \"x\": [4, 1, 14, 1, 9, 1, 1, 1, 1, 1, 79, 1, 1, 1, 53, 11, 1, 16, 1, 1, 6, 1, 1, 64, 1, 1, 25, 7, 1, 1, 1, 1, 1, 89, 1, 63, 1, 1, 1, 1, 15, 3, 1, 14, 1, 1, 7, 1, 7, 1, 40, 1, 1, 1, 31, 1, 5, 1, 2, 1, 1, 4, 1, 1, 1, 5, 1, 18, 6, 1, 34, 1, 1, 10, 5, 18, 17, 4, 1, 1, 2, 1, 2, 1, 7, 8, 1, 24, 15, 1, 1, 6, 2, 2, 1, 1], \"xaxis\": \"x\", \"y\": [0.3333333333333333, null, 0.6153846153846154, null, 0.5, null, null, null, null, null, 0.6794871794871795, null, null, null, 0.5384615384615384, 0.8, null, 0.26666666666666666, null, null, 0.8, null, null, 0.6507936507936508, null, null, 0.5416666666666666, 0.6666666666666666, null, null, null, null, null, 0.5113636363636364, null, 0.5483870967741935, null, null, null, null, 0.5714285714285714, 0.0, null, 0.7692307692307693, null, null, 0.5, null, 0.5, null, 0.717948717948718, null, null, null, 0.7666666666666667, null, 0.25, null, 1.0, null, null, 1.0, null, null, null, 0.5, null, 0.7058823529411765, 0.6, null, 0.696969696969697, null, null, 0.4444444444444444, 0.0, 0.7058823529411765, 0.5, 0.6666666666666666, null, null, 0.0, null, 0.0, null, 0.3333333333333333, 0.42857142857142855, null, 0.6086956521739131, 0.2857142857142857, null, null, 0.4, 1.0, 0.0, null, null], \"yaxis\": \"y\", \"type\": \"scatter\"}], \"name\": \"64\"}, {\"data\": [{\"hoverlabel\": {\"namelength\": 0}, \"hovertemplate\": \"Iteration=65<br>Length=%{x}<br>%Homochirality=%{y}\", \"legendgroup\": \"\", \"marker\": {\"color\": \"#636efa\", \"symbol\": \"circle\"}, \"mode\": \"markers\", \"name\": \"\", \"showlegend\": false, \"x\": [1, 1, 5, 1, 9, 1, 1, 1, 1, 1, 1, 8, 31, 1, 1, 1, 1, 7, 5, 35, 5, 1, 23, 1, 1, 1, 30, 36, 1, 1, 1, 3, 1, 82, 1, 64, 1, 12, 1, 90, 1, 1, 1, 50, 1, 1, 1, 16, 4, 6, 1, 1, 1, 1, 2, 1, 1, 1, 12, 1, 17, 1, 1, 1, 1, 4, 1, 15, 7, 15, 2, 22, 7, 1, 2, 1, 1, 1, 1, 1, 43, 4, 1, 2, 1, 1, 3, 19, 13, 3, 5, 26, 9, 1, 5, 1], \"xaxis\": \"x\", \"y\": [null, null, 0.5, null, 0.375, null, null, null, null, null, null, 0.42857142857142855, 0.7, null, null, null, null, 0.6666666666666666, 0.5, 0.7058823529411765, 1.0, null, 0.5, null, null, null, 0.7586206896551724, 0.6857142857142857, null, null, null, 1.0, null, 0.654320987654321, null, 0.6825396825396826, null, 0.36363636363636365, null, 0.5056179775280899, null, null, null, 0.5510204081632653, null, null, null, 0.26666666666666666, 0.3333333333333333, 0.8, null, null, null, null, 1.0, null, null, null, 0.45454545454545453, null, 0.5625, null, null, null, null, 0.0, null, 0.5714285714285714, 0.0, 0.7857142857142857, 0.0, 0.3333333333333333, 0.5, null, 0.0, null, null, null, null, null, 0.6904761904761905, 0.0, null, 1.0, null, null, 0.5, 0.7222222222222222, 0.5833333333333334, 0.5, 0.75, 0.56, 0.5, null, 1.0, null], \"yaxis\": \"y\", \"type\": \"scatter\"}], \"name\": \"65\"}, {\"data\": [{\"hoverlabel\": {\"namelength\": 0}, \"hovertemplate\": \"Iteration=66<br>Length=%{x}<br>%Homochirality=%{y}\", \"legendgroup\": \"\", \"marker\": {\"color\": \"#636efa\", \"symbol\": \"circle\"}, \"mode\": \"markers\", \"name\": \"\", \"showlegend\": false, \"x\": [1, 1, 35, 1, 1, 1, 1, 35, 1, 1, 1, 25, 113, 1, 1, 1, 1, 2, 87, 5, 1, 1, 2, 1, 45, 1, 4, 1, 27, 5, 1, 1, 42, 1, 24, 1, 79, 1, 26, 1, 1, 1, 52, 1, 1, 1, 1, 1, 2, 4, 1, 1, 27, 1, 5, 1, 1, 1, 8, 3, 14, 4, 3, 2, 6, 13, 5, 3, 4, 9, 1, 1, 2, 24, 5, 2, 3, 2, 11, 2, 4, 2], \"xaxis\": \"x\", \"y\": [null, null, 0.5294117647058824, null, null, null, null, 0.6176470588235294, null, null, null, 0.75, 0.5, null, null, null, null, 1.0, 0.6511627906976745, 0.0, null, null, 1.0, null, 0.6818181818181818, null, 0.3333333333333333, null, 0.7307692307692307, 1.0, null, null, 0.6585365853658537, null, 0.34782608695652173, null, 0.7051282051282052, null, 0.56, null, null, null, 0.6470588235294118, null, null, null, null, null, 1.0, 0.3333333333333333, null, null, 0.46153846153846156, null, 0.5, null, null, null, 0.14285714285714285, 0.0, 0.5384615384615384, 0.3333333333333333, 1.0, 0.0, 0.8, 0.5, 0.5, 1.0, 0.6666666666666666, 0.625, null, null, 1.0, 0.5652173913043478, 0.5, 1.0, 0.0, 0.0, 0.7, 1.0, 0.6666666666666666, 1.0], \"yaxis\": \"y\", \"type\": \"scatter\"}], \"name\": \"66\"}, {\"data\": [{\"hoverlabel\": {\"namelength\": 0}, \"hovertemplate\": \"Iteration=67<br>Length=%{x}<br>%Homochirality=%{y}\", \"legendgroup\": \"\", \"marker\": {\"color\": \"#636efa\", \"symbol\": \"circle\"}, \"mode\": \"markers\", \"name\": \"\", \"showlegend\": false, \"x\": [1, 3, 1, 1, 108, 3, 1, 1, 1, 1, 28, 4, 1, 1, 3, 1, 1, 1, 1, 1, 1, 19, 1, 3, 1, 1, 1, 1, 2, 15, 25, 8, 1, 1, 1, 1, 1, 1, 12, 53, 2, 1, 6, 1, 27, 1, 1, 6, 1, 5, 22, 1, 3, 1, 1, 1, 77, 1, 1, 1, 4, 32, 1, 1, 3, 1, 10, 1, 35, 1, 5, 7, 8, 6, 80, 2, 6, 2, 1, 15, 2, 2, 10, 28, 55, 1, 1, 42], \"xaxis\": \"x\", \"y\": [null, 0.5, null, null, 0.5046728971962616, 1.0, null, null, null, null, 0.5555555555555556, 0.0, null, null, 0.5, null, null, null, null, null, null, 0.5555555555555556, null, 0.5, null, null, null, null, 1.0, 0.42857142857142855, 0.375, 0.5714285714285714, null, null, null, null, null, null, 0.9090909090909091, 0.6153846153846154, 0.0, null, 0.6, null, 0.7307692307692307, null, null, 0.2, null, 1.0, 0.5238095238095238, null, 1.0, null, null, null, 0.5921052631578947, null, null, null, 1.0, 0.7096774193548387, null, null, 0.5, null, 0.5555555555555556, null, 0.6176470588235294, null, 0.25, 0.6666666666666666, 0.7142857142857143, 0.4, 0.7088607594936709, 1.0, 0.6, 0.0, null, 0.6428571428571429, 1.0, 1.0, 0.5555555555555556, 0.4444444444444444, 0.6296296296296297, null, null, 0.6585365853658537], \"yaxis\": \"y\", \"type\": \"scatter\"}], \"name\": \"67\"}, {\"data\": [{\"hoverlabel\": {\"namelength\": 0}, \"hovertemplate\": \"Iteration=68<br>Length=%{x}<br>%Homochirality=%{y}\", \"legendgroup\": \"\", \"marker\": {\"color\": \"#636efa\", \"symbol\": \"circle\"}, \"mode\": \"markers\", \"name\": \"\", \"showlegend\": false, \"x\": [1, 1, 1, 37, 1, 1, 1, 1, 6, 5, 1, 1, 1, 1, 1, 3, 6, 10, 1, 25, 1, 1, 2, 1, 4, 1, 1, 1, 1, 1, 1, 22, 1, 1, 1, 163, 1, 1, 1, 5, 47, 1, 1, 16, 2, 1, 1, 86, 1, 52, 2, 3, 1, 1, 1, 1, 1, 54, 1, 1, 3, 1, 8, 1, 1, 78, 2, 1, 2, 11, 5, 1, 30, 1, 3, 43, 2, 6, 7, 5, 3, 1, 7, 3, 2, 29], \"xaxis\": \"x\", \"y\": [null, null, null, 0.6111111111111112, null, null, null, null, 0.4, 1.0, null, null, null, null, null, 0.0, 0.6, 0.8888888888888888, null, 0.5416666666666666, null, null, 1.0, null, 0.3333333333333333, null, null, null, null, null, null, 0.47619047619047616, null, null, null, 0.5432098765432098, null, null, null, 0.5, 0.5434782608695652, null, null, 0.6666666666666666, 0.0, null, null, 0.6941176470588235, null, 0.5490196078431373, 1.0, 0.5, null, null, null, null, null, 0.6037735849056604, null, null, 1.0, null, 0.2857142857142857, null, null, 0.5974025974025974, 1.0, null, 1.0, 0.6, 0.5, null, 0.7241379310344828, null, 0.5, 0.6666666666666666, 1.0, 0.8, 0.3333333333333333, 0.75, 1.0, null, 0.6666666666666666, 1.0, 0.0, 0.4642857142857143], \"yaxis\": \"y\", \"type\": \"scatter\"}], \"name\": \"68\"}, {\"data\": [{\"hoverlabel\": {\"namelength\": 0}, \"hovertemplate\": \"Iteration=69<br>Length=%{x}<br>%Homochirality=%{y}\", \"legendgroup\": \"\", \"marker\": {\"color\": \"#636efa\", \"symbol\": \"circle\"}, \"mode\": \"markers\", \"name\": \"\", \"showlegend\": false, \"x\": [32, 1, 1, 42, 1, 1, 6, 1, 7, 1, 1, 2, 1, 1, 1, 12, 1, 1, 1, 1, 1, 4, 1, 1, 2, 37, 2, 1, 164, 3, 1, 1, 92, 1, 1, 1, 1, 23, 5, 44, 23, 1, 1, 1, 5, 1, 79, 1, 1, 1, 1, 1, 1, 52, 1, 1, 1, 1, 29, 1, 12, 9, 26, 12, 1, 7, 5, 10, 5, 4, 2, 17, 1, 1, 14, 1, 1, 6, 5, 4, 5, 1, 2, 2, 1, 1, 1], \"xaxis\": \"x\", \"y\": [0.4838709677419355, null, null, 0.7073170731707317, null, null, 1.0, null, 0.6666666666666666, null, null, 0.0, null, null, null, 0.5454545454545454, null, null, null, null, null, 1.0, null, null, 1.0, 0.5555555555555556, 0.0, null, 0.5398773006134969, 0.5, null, null, 0.6923076923076923, null, null, null, null, 0.45454545454545453, 0.25, 0.6744186046511628, 0.5, null, null, null, 1.0, null, 0.6025641025641025, null, null, null, null, null, null, 0.5490196078431373, null, null, null, null, 0.7142857142857143, null, 0.2727272727272727, 0.25, 0.56, 0.6363636363636364, null, 0.3333333333333333, 0.5, 0.5555555555555556, 0.5, 0.0, 1.0, 0.6875, null, null, 0.8461538461538461, null, null, 0.6, 0.75, 1.0, 0.75, null, 0.0, 0.0, null, null, null], \"yaxis\": \"y\", \"type\": \"scatter\"}], \"name\": \"69\"}, {\"data\": [{\"hoverlabel\": {\"namelength\": 0}, \"hovertemplate\": \"Iteration=70<br>Length=%{x}<br>%Homochirality=%{y}\", \"legendgroup\": \"\", \"marker\": {\"color\": \"#636efa\", \"symbol\": \"circle\"}, \"mode\": \"markers\", \"name\": \"\", \"showlegend\": false, \"x\": [1, 13, 1, 1, 1, 5, 3, 1, 1, 4, 1, 1, 20, 6, 25, 1, 1, 1, 3, 1, 1, 1, 1, 7, 1, 1, 1, 14, 1, 1, 1, 1, 4, 1, 93, 171, 16, 1, 3, 13, 1, 11, 1, 1, 1, 1, 1, 1, 66, 27, 47, 1, 1, 1, 13, 1, 1, 11, 1, 1, 1, 1, 4, 9, 1, 1, 3, 1, 1, 2, 38, 3, 2, 53, 16, 45, 26, 1, 1, 15, 2, 1, 2, 30, 1], \"xaxis\": \"x\", \"y\": [null, 0.5833333333333334, null, null, null, 0.5, 0.5, null, null, 0.6666666666666666, null, null, 0.6842105263157895, 0.6, 0.4166666666666667, null, null, null, 0.5, null, null, null, null, 1.0, null, null, null, 0.5384615384615384, null, null, null, null, 0.3333333333333333, null, 0.6304347826086957, 0.5352941176470588, 0.4, null, 0.0, 0.5833333333333334, null, 0.6, null, null, null, null, null, null, 0.7076923076923077, 0.5769230769230769, 0.6956521739130435, null, null, null, 0.25, null, null, 0.6, null, null, null, null, 1.0, 0.25, null, null, 1.0, null, null, 0.0, 0.5675675675675675, 0.5, 1.0, 0.5576923076923077, 0.6, 0.6818181818181818, 0.68, null, null, 0.5, 0.0, null, 1.0, 0.7241379310344828, null], \"yaxis\": \"y\", \"type\": \"scatter\"}], \"name\": \"70\"}, {\"data\": [{\"hoverlabel\": {\"namelength\": 0}, \"hovertemplate\": \"Iteration=71<br>Length=%{x}<br>%Homochirality=%{y}\", \"legendgroup\": \"\", \"marker\": {\"color\": \"#636efa\", \"symbol\": \"circle\"}, \"mode\": \"markers\", \"name\": \"\", \"showlegend\": false, \"x\": [33, 1, 1, 1, 1, 6, 2, 1, 19, 4, 1, 1, 1, 119, 1, 1, 1, 30, 1, 1, 96, 1, 1, 1, 1, 1, 1, 15, 1, 1, 1, 3, 1, 14, 27, 51, 1, 1, 22, 1, 1, 1, 36, 2, 21, 1, 1, 1, 1, 1, 67, 1, 1, 25, 1, 6, 2, 2, 9, 2, 52, 54, 8, 3, 1, 1, 2, 2, 2, 1, 46, 17, 2, 7, 5, 2, 28, 4, 2], \"xaxis\": \"x\", \"y\": [0.71875, null, null, null, null, 0.6, 1.0, null, 0.6111111111111112, 0.6666666666666666, null, null, null, 0.5423728813559322, null, null, null, 0.5517241379310345, null, null, 0.6210526315789474, null, null, null, null, null, null, 0.5714285714285714, null, null, null, 0.5, null, 0.5384615384615384, 0.38461538461538464, 0.7, null, null, 0.6190476190476191, null, null, null, 0.5714285714285714, 0.0, 0.65, null, null, null, null, null, 0.696969696969697, null, null, 0.5416666666666666, null, 0.6, 1.0, 0.0, 0.125, 1.0, 0.5294117647058824, 0.5660377358490566, 0.7142857142857143, 0.5, null, null, 1.0, 1.0, 1.0, null, 0.6666666666666666, 0.625, 1.0, 0.16666666666666666, 1.0, 0.0, 0.5555555555555556, 0.3333333333333333, 1.0], \"yaxis\": \"y\", \"type\": \"scatter\"}], \"name\": \"71\"}, {\"data\": [{\"hoverlabel\": {\"namelength\": 0}, \"hovertemplate\": \"Iteration=72<br>Length=%{x}<br>%Homochirality=%{y}\", \"legendgroup\": \"\", \"marker\": {\"color\": \"#636efa\", \"symbol\": \"circle\"}, \"mode\": \"markers\", \"name\": \"\", \"showlegend\": false, \"x\": [1, 1, 1, 6, 1, 1, 3, 45, 1, 1, 8, 48, 4, 2, 1, 1, 1, 1, 88, 1, 1, 44, 4, 14, 1, 1, 1, 1, 1, 1, 117, 1, 6, 1, 4, 53, 1, 1, 1, 1, 1, 1, 1, 1, 1, 1, 1, 70, 1, 1, 59, 22, 1, 6, 68, 1, 31, 1, 1, 1, 2, 1, 1, 1, 8, 1, 11, 1, 2, 1, 2, 2, 38, 2, 20, 26, 2, 11, 1, 1, 5, 2, 2, 21, 1, 3], \"xaxis\": \"x\", \"y\": [null, null, null, 0.6, null, null, 1.0, 0.5454545454545454, null, null, 0.42857142857142855, 0.6382978723404256, 0.6666666666666666, 0.0, null, null, null, null, 0.6896551724137931, null, null, 0.46511627906976744, 1.0, 0.46153846153846156, null, null, null, null, null, null, 0.5517241379310345, null, 0.8, null, 0.3333333333333333, 0.5384615384615384, null, null, null, null, null, null, null, null, null, null, null, 0.6231884057971014, null, null, 0.6896551724137931, 0.7619047619047619, null, 0.4, 0.5671641791044776, null, 0.6, null, null, null, 1.0, null, null, null, 0.2857142857142857, null, 0.2, null, 1.0, null, 0.0, 0.0, 0.5405405405405406, 0.0, 0.5789473684210527, 0.64, 0.0, 0.7, null, null, 0.5, 1.0, 0.0, 0.65, null, 1.0], \"yaxis\": \"y\", \"type\": \"scatter\"}], \"name\": \"72\"}, {\"data\": [{\"hoverlabel\": {\"namelength\": 0}, \"hovertemplate\": \"Iteration=73<br>Length=%{x}<br>%Homochirality=%{y}\", \"legendgroup\": \"\", \"marker\": {\"color\": \"#636efa\", \"symbol\": \"circle\"}, \"mode\": \"markers\", \"name\": \"\", \"showlegend\": false, \"x\": [30, 1, 46, 1, 1, 24, 1, 1, 90, 1, 1, 50, 1, 1, 58, 71, 1, 1, 1, 1, 1, 1, 15, 1, 1, 1, 5, 1, 1, 42, 1, 1, 1, 5, 56, 1, 1, 1, 1, 1, 4, 99, 1, 71, 1, 1, 1, 1, 3, 1, 8, 10, 1, 1, 7, 1, 1, 1, 1, 1, 1, 1, 1, 1, 1, 1, 1, 72, 3, 1, 8, 2, 3, 7, 1, 2, 22, 1, 1, 17, 12, 1, 1, 2, 3, 18, 3, 1], \"xaxis\": \"x\", \"y\": [0.5862068965517241, null, 0.4888888888888889, null, null, 0.5217391304347826, null, null, 0.6179775280898876, null, null, 0.6122448979591837, null, null, 0.543859649122807, 0.7, null, null, null, null, null, null, 0.5, null, null, null, 0.5, null, null, 0.5121951219512195, null, null, null, 0.75, 0.6727272727272727, null, null, null, null, null, 0.6666666666666666, 0.5816326530612245, null, 0.5714285714285714, null, null, null, null, 0.0, null, 0.5714285714285714, 0.4444444444444444, null, null, 0.8333333333333334, null, null, null, null, null, null, null, null, null, null, null, null, 0.6338028169014085, 0.5, null, 0.42857142857142855, 0.0, 0.0, 0.5, null, 0.0, 0.6190476190476191, null, null, 0.625, 0.6363636363636364, null, null, 0.0, 1.0, 0.4117647058823529, 0.5, null], \"yaxis\": \"y\", \"type\": \"scatter\"}], \"name\": \"73\"}, {\"data\": [{\"hoverlabel\": {\"namelength\": 0}, \"hovertemplate\": \"Iteration=74<br>Length=%{x}<br>%Homochirality=%{y}\", \"legendgroup\": \"\", \"marker\": {\"color\": \"#636efa\", \"symbol\": \"circle\"}, \"mode\": \"markers\", \"name\": \"\", \"showlegend\": false, \"x\": [2, 1, 1, 1, 1, 3, 1, 1, 1, 2, 1, 1, 1, 1, 1, 1, 1, 52, 1, 1, 1, 1, 1, 4, 1, 1, 1, 1, 15, 1, 1, 9, 1, 8, 1, 1, 1, 1, 53, 1, 1, 1, 1, 2, 1, 23, 1, 1, 1, 18, 1, 30, 9, 3, 83, 1, 59, 1, 1, 1, 57, 1, 1, 31, 3, 1, 1, 19, 9, 6, 100, 72, 9, 64, 2, 2, 1, 1, 1, 4, 60, 2, 1, 6, 8, 2, 51, 2], \"xaxis\": \"x\", \"y\": [0.0, null, null, null, null, 0.5, null, null, null, 0.0, null, null, null, null, null, null, null, 0.5098039215686274, null, null, null, null, null, 0.0, null, null, null, null, 0.5, null, null, 0.5, null, 0.42857142857142855, null, null, null, null, 0.5192307692307693, null, null, null, null, 0.0, null, 0.6363636363636364, null, null, null, 0.5882352941176471, null, 0.7241379310344828, 0.5, 1.0, 0.573170731707317, null, 0.5344827586206896, null, null, null, 0.6607142857142857, null, null, 0.6, 0.5, null, null, 0.3888888888888889, 0.5, 0.6, 0.5858585858585859, 0.6901408450704225, 0.625, 0.6507936507936508, 0.0, 0.0, null, null, null, 0.6666666666666666, 0.576271186440678, 1.0, null, 0.4, 0.5714285714285714, 0.0, 0.6, 0.0], \"yaxis\": \"y\", \"type\": \"scatter\"}], \"name\": \"74\"}, {\"data\": [{\"hoverlabel\": {\"namelength\": 0}, \"hovertemplate\": \"Iteration=75<br>Length=%{x}<br>%Homochirality=%{y}\", \"legendgroup\": \"\", \"marker\": {\"color\": \"#636efa\", \"symbol\": \"circle\"}, \"mode\": \"markers\", \"name\": \"\", \"showlegend\": false, \"x\": [1, 1, 14, 1, 74, 1, 23, 76, 1, 1, 5, 1, 1, 1, 1, 27, 1, 3, 1, 1, 16, 1, 1, 22, 7, 32, 2, 101, 1, 1, 1, 1, 1, 1, 11, 5, 1, 1, 9, 1, 1, 1, 6, 111, 1, 1, 1, 1, 1, 1, 1, 1, 1, 1, 1, 1, 1, 1, 3, 1, 1, 1, 2, 1, 1, 1, 1, 61, 7, 4, 2, 2, 2, 2, 61, 2, 2, 52, 5, 10, 1, 1, 1, 1, 5, 1, 2, 4, 58, 65], \"xaxis\": \"x\", \"y\": [null, null, 0.5384615384615384, null, 0.684931506849315, null, 0.7727272727272727, 0.5466666666666666, null, null, 1.0, null, null, null, null, 0.4230769230769231, null, 0.5, null, null, 0.6666666666666666, null, null, 0.6190476190476191, 0.5, 0.5806451612903226, 0.0, 0.59, null, null, null, null, null, null, 0.5, 0.75, null, null, 0.625, null, null, null, 0.4, 0.5181818181818182, null, null, null, null, null, null, null, null, null, null, null, null, null, null, 0.5, null, null, null, 0.0, null, null, null, null, 0.5833333333333334, 0.5, 0.3333333333333333, 0.0, 1.0, 0.0, 1.0, 0.55, 1.0, 0.0, 0.6078431372549019, 0.75, 0.5555555555555556, null, null, null, null, 0.5, null, 0.0, 0.3333333333333333, 0.6666666666666666, 0.640625], \"yaxis\": \"y\", \"type\": \"scatter\"}], \"name\": \"75\"}, {\"data\": [{\"hoverlabel\": {\"namelength\": 0}, \"hovertemplate\": \"Iteration=76<br>Length=%{x}<br>%Homochirality=%{y}\", \"legendgroup\": \"\", \"marker\": {\"color\": \"#636efa\", \"symbol\": \"circle\"}, \"mode\": \"markers\", \"name\": \"\", \"showlegend\": false, \"x\": [1, 1, 3, 1, 1, 4, 18, 15, 1, 1, 1, 7, 1, 1, 1, 15, 1, 1, 1, 72, 3, 1, 1, 1, 1, 1, 1, 1, 6, 75, 1, 1, 1, 11, 135, 1, 1, 1, 54, 12, 3, 1, 1, 112, 1, 30, 1, 1, 1, 1, 3, 1, 1, 66, 1, 1, 1, 1, 8, 2, 83, 2, 1, 1, 3, 2, 77, 10, 3, 2, 3, 1, 2, 6, 1, 1, 57, 1, 1, 1, 2, 3, 1], \"xaxis\": \"x\", \"y\": [null, null, 0.0, null, null, 0.6666666666666666, 0.47058823529411764, 0.5714285714285714, null, null, null, 0.8333333333333334, null, null, null, 0.5, null, null, null, 0.5492957746478874, 0.5, null, null, null, null, null, null, null, 0.8, 0.6486486486486487, null, null, null, 0.4, 0.6343283582089553, null, null, null, 0.5849056603773585, 0.6363636363636364, 0.5, null, null, 0.5225225225225225, null, 0.4482758620689655, null, null, null, null, 0.0, null, null, 0.6307692307692307, null, null, null, null, 0.42857142857142855, 1.0, 0.6097560975609756, 1.0, null, null, 0.5, 0.0, 0.5526315789473685, 0.5555555555555556, 1.0, 1.0, 1.0, null, 1.0, 0.4, null, null, 0.6607142857142857, null, null, null, 1.0, 0.5, null], \"yaxis\": \"y\", \"type\": \"scatter\"}], \"name\": \"76\"}, {\"data\": [{\"hoverlabel\": {\"namelength\": 0}, \"hovertemplate\": \"Iteration=77<br>Length=%{x}<br>%Homochirality=%{y}\", \"legendgroup\": \"\", \"marker\": {\"color\": \"#636efa\", \"symbol\": \"circle\"}, \"mode\": \"markers\", \"name\": \"\", \"showlegend\": false, \"x\": [1, 141, 1, 1, 5, 1, 8, 1, 1, 1, 1, 1, 1, 1, 1, 12, 1, 1, 1, 2, 1, 1, 1, 4, 1, 1, 1, 80, 1, 1, 1, 1, 14, 1, 1, 1, 6, 1, 136, 1, 1, 13, 1, 1, 23, 7, 57, 1, 22, 1, 1, 1, 1, 1, 1, 1, 2, 16, 3, 1, 1, 1, 18, 1, 37, 1, 1, 1, 2, 1, 1, 8, 17, 1, 2, 1, 2, 43, 9, 1, 49, 90, 1, 1, 31, 1, 2, 2, 4, 46, 1, 1, 2, 1], \"xaxis\": \"x\", \"y\": [null, 0.6428571428571429, null, null, 0.5, null, 0.7142857142857143, null, null, null, null, null, null, null, null, 0.36363636363636365, null, null, null, 1.0, null, null, null, 0.3333333333333333, null, null, null, 0.5443037974683544, null, null, null, null, 0.6923076923076923, null, null, null, 0.6, null, 0.6370370370370371, null, null, 0.5833333333333334, null, null, 0.5909090909090909, 0.8333333333333334, 0.5892857142857143, null, 0.5714285714285714, null, null, null, null, null, null, null, 1.0, 0.5333333333333333, 0.5, null, null, null, 0.47058823529411764, null, 0.6666666666666666, null, null, null, 0.0, null, null, 0.42857142857142855, 0.4375, null, 1.0, null, 1.0, 0.6666666666666666, 0.625, null, 0.5416666666666666, 0.5168539325842697, null, null, 0.43333333333333335, null, 1.0, 1.0, 0.3333333333333333, 0.5777777777777777, null, null, 0.0, null], \"yaxis\": \"y\", \"type\": \"scatter\"}], \"name\": \"77\"}, {\"data\": [{\"hoverlabel\": {\"namelength\": 0}, \"hovertemplate\": \"Iteration=78<br>Length=%{x}<br>%Homochirality=%{y}\", \"legendgroup\": \"\", \"marker\": {\"color\": \"#636efa\", \"symbol\": \"circle\"}, \"mode\": \"markers\", \"name\": \"\", \"showlegend\": false, \"x\": [1, 1, 35, 43, 1, 1, 1, 27, 1, 1, 7, 1, 2, 1, 1, 6, 1, 1, 1, 1, 1, 1, 1, 91, 1, 1, 1, 1, 51, 1, 1, 1, 1, 1, 1, 1, 8, 1, 1, 68, 1, 17, 1, 5, 1, 1, 1, 2, 143, 1, 1, 138, 3, 1, 7, 1, 3, 1, 3, 8, 1, 18, 1, 44, 1, 2, 14, 14, 19, 53, 39, 1, 2, 2, 3, 3, 2, 5, 1, 1, 5, 4, 10, 17, 2, 2, 1, 6], \"xaxis\": \"x\", \"y\": [null, null, 0.5294117647058824, 0.5952380952380952, null, null, null, 0.5769230769230769, null, null, 0.6666666666666666, null, 1.0, null, null, 0.8, null, null, null, null, null, null, null, 0.5111111111111111, null, null, null, null, 0.52, null, null, null, null, null, null, null, 0.7142857142857143, null, null, 0.5522388059701493, null, 0.5625, null, 0.5, null, null, null, 1.0, 0.6408450704225352, null, null, 0.635036496350365, 0.5, null, 0.5, null, 0.5, null, 0.5, 0.7142857142857143, null, 0.4117647058823529, null, 0.6511627906976745, null, 1.0, 0.5384615384615384, 0.5384615384615384, 0.4444444444444444, 0.5384615384615384, 0.5526315789473685, null, 0.0, 1.0, 0.5, 1.0, 0.0, 0.25, null, null, 0.5, 0.6666666666666666, 0.5555555555555556, 0.5625, 0.0, 0.0, null, 0.8], \"yaxis\": \"y\", \"type\": \"scatter\"}], \"name\": \"78\"}, {\"data\": [{\"hoverlabel\": {\"namelength\": 0}, \"hovertemplate\": \"Iteration=79<br>Length=%{x}<br>%Homochirality=%{y}\", \"legendgroup\": \"\", \"marker\": {\"color\": \"#636efa\", \"symbol\": \"circle\"}, \"mode\": \"markers\", \"name\": \"\", \"showlegend\": false, \"x\": [1, 1, 1, 67, 1, 1, 10, 1, 49, 9, 1, 1, 139, 1, 71, 1, 1, 1, 1, 1, 95, 1, 2, 1, 1, 1, 6, 3, 1, 23, 1, 1, 8, 1, 1, 1, 6, 1, 8, 18, 1, 1, 3, 1, 10, 1, 18, 128, 1, 1, 64, 1, 1, 7, 1, 1, 6, 1, 1, 2, 2, 1, 5, 2, 2, 1, 2, 11, 1, 40, 4, 27, 1, 1, 7, 1, 4, 19, 2, 1, 1, 3, 8, 15, 27, 8, 3, 2, 2], \"xaxis\": \"x\", \"y\": [null, null, null, 0.5454545454545454, null, null, 0.6666666666666666, null, 0.625, 0.5, null, null, 0.6304347826086957, null, 0.5714285714285714, null, null, null, null, null, 0.5851063829787234, null, 1.0, null, null, null, 0.2, 0.5, null, 0.5, null, null, 0.42857142857142855, null, null, null, 0.6, null, 0.7142857142857143, 0.5882352941176471, null, null, 0.5, null, 0.5555555555555556, null, 0.5294117647058824, 0.6299212598425197, null, null, 0.47619047619047616, null, null, 0.6666666666666666, null, null, 0.6, null, null, 1.0, 0.0, null, 0.75, 1.0, 0.0, null, 1.0, 0.5, null, 0.5384615384615384, 0.3333333333333333, 0.5769230769230769, null, null, 0.6666666666666666, null, 0.3333333333333333, 0.5555555555555556, 0.0, null, null, 0.0, 0.2857142857142857, 0.7142857142857143, 0.6153846153846154, 0.7142857142857143, 1.0, 0.0, 0.0], \"yaxis\": \"y\", \"type\": \"scatter\"}], \"name\": \"79\"}, {\"data\": [{\"hoverlabel\": {\"namelength\": 0}, \"hovertemplate\": \"Iteration=80<br>Length=%{x}<br>%Homochirality=%{y}\", \"legendgroup\": \"\", \"marker\": {\"color\": \"#636efa\", \"symbol\": \"circle\"}, \"mode\": \"markers\", \"name\": \"\", \"showlegend\": false, \"x\": [26, 1, 1, 43, 1, 2, 1, 5, 1, 101, 1, 1, 1, 1, 8, 3, 6, 1, 10, 1, 8, 1, 143, 2, 1, 1, 1, 1, 1, 1, 1, 1, 17, 6, 1, 1, 1, 20, 3, 2, 1, 1, 1, 1, 1, 9, 1, 37, 75, 28, 4, 1, 1, 1, 1, 1, 1, 68, 12, 11, 1, 66, 12, 33, 3, 2, 1, 1, 1, 1, 1, 9, 1, 1, 15, 6, 1, 1, 1, 1, 2, 1, 2, 29, 4, 4, 2, 2, 3, 7, 7, 95, 1, 2], \"xaxis\": \"x\", \"y\": [0.48, null, null, 0.5476190476190477, null, 0.0, null, 0.25, null, 0.58, null, null, null, null, 0.42857142857142855, 0.0, 0.6, null, 0.3333333333333333, null, 0.5714285714285714, null, 0.6267605633802817, 1.0, null, null, null, null, null, null, null, null, 0.6875, 0.6, null, null, null, 0.631578947368421, 1.0, 0.0, null, null, null, null, null, 0.75, null, 0.6111111111111112, 0.5540540540540541, 0.5555555555555556, 0.6666666666666666, null, null, null, null, null, null, 0.5373134328358209, 0.45454545454545453, 0.6, null, 0.49230769230769234, 0.5454545454545454, 0.5, 0.0, 0.0, null, null, null, null, null, 0.625, null, null, 0.5, 0.6, null, null, null, null, 0.0, null, 1.0, 0.6428571428571429, 0.6666666666666666, 0.6666666666666666, 0.0, 0.0, 0.0, 0.6666666666666666, 0.5, 0.6702127659574468, null, 1.0], \"yaxis\": \"y\", \"type\": \"scatter\"}], \"name\": \"80\"}, {\"data\": [{\"hoverlabel\": {\"namelength\": 0}, \"hovertemplate\": \"Iteration=81<br>Length=%{x}<br>%Homochirality=%{y}\", \"legendgroup\": \"\", \"marker\": {\"color\": \"#636efa\", \"symbol\": \"circle\"}, \"mode\": \"markers\", \"name\": \"\", \"showlegend\": false, \"x\": [176, 1, 87, 38, 10, 2, 1, 29, 1, 1, 4, 1, 1, 1, 1, 1, 12, 1, 45, 1, 22, 1, 1, 1, 38, 1, 6, 1, 1, 12, 10, 1, 1, 1, 5, 1, 1, 6, 1, 1, 1, 1, 11, 22, 1, 1, 3, 1, 6, 1, 1, 1, 1, 1, 1, 146, 85, 5, 1, 9, 1, 78, 1, 8, 5, 6, 5, 1, 21, 2, 1, 1, 3, 4, 4, 1, 1, 2, 2, 7, 3, 3, 2, 1, 10, 7, 1, 1, 1, 1], \"xaxis\": \"x\", \"y\": [0.5714285714285714, null, 0.6627906976744186, 0.4594594594594595, 0.5555555555555556, 0.0, null, 0.5714285714285714, null, null, 0.0, null, null, null, null, null, 0.6363636363636364, null, 0.5227272727272727, null, 0.5238095238095238, null, null, null, 0.5945945945945946, null, 0.6, null, null, 0.36363636363636365, 0.6666666666666666, null, null, null, 0.75, null, null, 0.4, null, null, null, null, 0.5, 0.7142857142857143, null, null, 1.0, null, 0.8, null, null, null, null, null, null, 0.6275862068965518, 0.5714285714285714, 0.75, null, 0.5, null, 0.4935064935064935, null, 0.8571428571428571, 0.5, 0.4, 0.75, null, 0.6, 0.0, null, null, 0.5, 0.3333333333333333, 0.0, null, null, 0.0, 1.0, 0.5, 0.5, 0.0, 0.0, null, 0.6666666666666666, 0.5, null, null, null, null], \"yaxis\": \"y\", \"type\": \"scatter\"}], \"name\": \"81\"}, {\"data\": [{\"hoverlabel\": {\"namelength\": 0}, \"hovertemplate\": \"Iteration=82<br>Length=%{x}<br>%Homochirality=%{y}\", \"legendgroup\": \"\", \"marker\": {\"color\": \"#636efa\", \"symbol\": \"circle\"}, \"mode\": \"markers\", \"name\": \"\", \"showlegend\": false, \"x\": [5, 37, 9, 1, 1, 1, 1, 1, 4, 1, 20, 1, 9, 1, 1, 1, 1, 51, 1, 46, 1, 1, 5, 1, 1, 10, 6, 1, 18, 1, 42, 9, 1, 1, 1, 100, 1, 1, 1, 8, 1, 1, 1, 47, 1, 1, 1, 7, 1, 146, 1, 1, 1, 6, 2, 2, 1, 6, 18, 2, 6, 3, 3, 8, 4, 6, 2, 1, 177, 45, 7, 2, 2, 22, 38, 13, 1, 1, 2, 5, 9, 1, 11], \"xaxis\": \"x\", \"y\": [1.0, 0.4722222222222222, 0.625, null, null, null, null, null, 0.6666666666666666, null, 0.7368421052631579, null, 0.5, null, null, null, null, 0.62, null, 0.5111111111111111, null, null, 0.25, null, null, 0.4444444444444444, 0.4, null, 0.5294117647058824, null, 0.6585365853658537, 0.75, null, null, null, 0.494949494949495, null, null, null, 0.2857142857142857, null, null, null, 0.5652173913043478, null, null, null, 0.5, null, 0.6275862068965518, null, null, null, 0.8, 0.0, 0.0, null, 0.6, 0.47058823529411764, 1.0, 0.8, 0.0, 0.0, 0.42857142857142855, 0.3333333333333333, 0.4, 0.0, null, 0.5681818181818182, 0.6818181818181818, 0.6666666666666666, 0.0, 0.0, 0.6190476190476191, 0.5675675675675675, 0.5833333333333334, null, null, 1.0, 0.25, 0.75, null, 0.7], \"yaxis\": \"y\", \"type\": \"scatter\"}], \"name\": \"82\"}, {\"data\": [{\"hoverlabel\": {\"namelength\": 0}, \"hovertemplate\": \"Iteration=83<br>Length=%{x}<br>%Homochirality=%{y}\", \"legendgroup\": \"\", \"marker\": {\"color\": \"#636efa\", \"symbol\": \"circle\"}, \"mode\": \"markers\", \"name\": \"\", \"showlegend\": false, \"x\": [1, 1, 1, 1, 2, 3, 4, 5, 1, 1, 156, 1, 1, 1, 60, 69, 1, 5, 1, 38, 3, 1, 5, 3, 1, 1, 1, 1, 1, 1, 6, 1, 1, 4, 1, 1, 17, 44, 1, 191, 1, 1, 1, 1, 1, 1, 1, 1, 107, 11, 2, 47, 47, 1, 1, 1, 19, 1, 1, 1, 3, 6, 8, 1, 1, 1, 3, 1, 2, 39, 21, 1, 3, 1, 7, 4, 1, 1, 23, 3, 1, 1, 10, 2, 2, 2, 1, 1, 1], \"xaxis\": \"x\", \"y\": [null, null, null, null, 1.0, 0.5, 0.0, 0.5, null, null, 0.567741935483871, null, null, null, 0.576271186440678, 0.6029411764705882, null, 0.75, null, 0.5945945945945946, 0.5, null, 0.75, 0.5, null, null, null, null, null, null, 0.8, null, null, 0.6666666666666666, null, null, 0.5625, 0.5116279069767442, null, 0.6421052631578947, null, null, null, null, null, null, null, null, 0.49056603773584906, 0.5, 1.0, 0.6956521739130435, 0.5217391304347826, null, null, null, 0.5555555555555556, null, null, null, 0.0, 0.2, 0.5714285714285714, null, null, null, 0.5, null, 0.0, 0.5526315789473685, 0.6, null, 0.5, null, 0.5, 0.3333333333333333, null, null, 0.6363636363636364, 0.5, null, null, 0.6666666666666666, 1.0, 0.0, 1.0, null, null, null], \"yaxis\": \"y\", \"type\": \"scatter\"}], \"name\": \"83\"}, {\"data\": [{\"hoverlabel\": {\"namelength\": 0}, \"hovertemplate\": \"Iteration=84<br>Length=%{x}<br>%Homochirality=%{y}\", \"legendgroup\": \"\", \"marker\": {\"color\": \"#636efa\", \"symbol\": \"circle\"}, \"mode\": \"markers\", \"name\": \"\", \"showlegend\": false, \"x\": [1, 14, 14, 1, 1, 40, 1, 21, 1, 48, 1, 1, 6, 1, 1, 1, 1, 11, 1, 18, 1, 5, 1, 37, 1, 4, 1, 62, 1, 1, 1, 1, 1, 70, 1, 1, 6, 1, 1, 1, 1, 2, 1, 2, 10, 3, 1, 1, 1, 1, 1, 2, 1, 1, 4, 9, 1, 1, 1, 1, 5, 1, 5, 11, 7, 1, 1, 3, 26, 2, 157, 4, 2, 24, 70, 1, 4, 5, 3, 192, 2, 3, 4, 45, 39, 1, 2], \"xaxis\": \"x\", \"y\": [null, 0.46153846153846156, 0.5384615384615384, null, null, 0.5384615384615384, null, 0.4, null, 0.6808510638297872, null, null, 0.6, null, null, null, null, 0.4, null, 0.5882352941176471, null, 0.0, null, 0.5, null, 0.6666666666666666, null, 0.5737704918032787, null, null, null, null, null, 0.5942028985507246, null, null, 0.6, null, null, null, null, 1.0, null, 1.0, 0.6666666666666666, 1.0, null, null, null, null, null, 0.0, null, null, 0.6666666666666666, 0.5, null, null, null, null, 0.5, null, 0.75, 0.6, 0.8333333333333334, null, null, 0.5, 0.64, 1.0, 0.5641025641025641, 0.0, 0.0, 0.6521739130434783, 0.4782608695652174, null, 0.3333333333333333, 0.5, 0.5, 0.6387434554973822, 0.0, 0.5, 0.3333333333333333, 0.5, 0.6052631578947368, null, 1.0], \"yaxis\": \"y\", \"type\": \"scatter\"}], \"name\": \"84\"}, {\"data\": [{\"hoverlabel\": {\"namelength\": 0}, \"hovertemplate\": \"Iteration=85<br>Length=%{x}<br>%Homochirality=%{y}\", \"legendgroup\": \"\", \"marker\": {\"color\": \"#636efa\", \"symbol\": \"circle\"}, \"mode\": \"markers\", \"name\": \"\", \"showlegend\": false, \"x\": [3, 6, 1, 1, 73, 1, 1, 155, 1, 1, 1, 1, 6, 1, 12, 1, 1, 6, 13, 1, 1, 1, 64, 1, 7, 18, 4, 7, 14, 3, 1, 1, 1, 1, 3, 34, 1, 2, 19, 1, 1, 13, 1, 31, 49, 1, 1, 3, 3, 1, 1, 4, 1, 195, 20, 5, 17, 1, 1, 1, 1, 1, 12, 3, 1, 2, 2, 5, 1, 26, 2, 22, 1, 2, 1, 10, 2, 15, 2, 11, 2, 3, 2, 1, 2, 1, 1, 2, 38, 66], \"xaxis\": \"x\", \"y\": [0.5, 0.2, null, null, 0.5972222222222222, null, null, 0.564935064935065, null, null, null, null, 0.4, null, 0.7272727272727273, null, null, 0.8, 0.5833333333333334, null, null, null, 0.5873015873015873, null, 0.8333333333333334, 0.4117647058823529, 0.6666666666666666, 0.3333333333333333, 0.6923076923076923, 0.5, null, null, null, null, 0.5, 0.48484848484848486, null, 1.0, 0.4444444444444444, null, null, 0.5833333333333334, null, 0.5666666666666667, 0.6666666666666666, null, null, 0.5, 0.0, null, null, 0.3333333333333333, null, 0.634020618556701, 0.42105263157894735, 0.75, 0.5625, null, null, null, null, null, 0.7272727272727273, 0.5, null, 1.0, 0.0, 0.5, null, 0.64, 1.0, 0.6190476190476191, null, 1.0, null, 0.5555555555555556, 0.0, 0.42857142857142855, 1.0, 0.6, 0.0, 0.0, 1.0, null, 1.0, null, null, 0.0, 0.4864864864864865, 0.47692307692307695], \"yaxis\": \"y\", \"type\": \"scatter\"}], \"name\": \"85\"}, {\"data\": [{\"hoverlabel\": {\"namelength\": 0}, \"hovertemplate\": \"Iteration=86<br>Length=%{x}<br>%Homochirality=%{y}\", \"legendgroup\": \"\", \"marker\": {\"color\": \"#636efa\", \"symbol\": \"circle\"}, \"mode\": \"markers\", \"name\": \"\", \"showlegend\": false, \"x\": [1, 2, 1, 2, 5, 28, 39, 15, 1, 9, 1, 38, 22, 1, 1, 5, 1, 1, 17, 1, 1, 32, 1, 1, 1, 1, 78, 1, 1, 1, 8, 1, 1, 1, 1, 1, 44, 9, 1, 1, 14, 6, 61, 1, 1, 1, 168, 1, 4, 15, 1, 1, 1, 5, 1, 1, 18, 1, 1, 1, 3, 1, 16, 13, 157, 4, 4, 1, 4, 12, 1, 1, 74, 2, 1, 1, 4, 2, 1, 15, 6, 1, 2, 63, 1], \"xaxis\": \"x\", \"y\": [null, 1.0, null, 0.0, 0.25, 0.6666666666666666, 0.5, 0.5, null, 0.5, null, 0.6756756756756757, 0.42857142857142855, null, null, 0.75, null, null, 0.6875, null, null, 0.5806451612903226, null, null, null, null, 0.5194805194805194, null, null, null, 0.7142857142857143, null, null, null, null, null, 0.4883720930232558, 0.25, null, null, 0.46153846153846156, 0.6, 0.6833333333333333, null, null, null, 0.5688622754491018, null, 0.6666666666666666, 0.7142857142857143, null, null, null, 0.5, null, null, 0.5294117647058824, null, null, null, 0.0, null, 0.4, 0.6666666666666666, 0.6282051282051282, 0.6666666666666666, 0.6666666666666666, null, 0.6666666666666666, 0.5454545454545454, null, null, 0.589041095890411, 1.0, null, null, 0.0, 0.0, null, 0.42857142857142855, 0.2, null, 1.0, 0.5806451612903226, null], \"yaxis\": \"y\", \"type\": \"scatter\"}], \"name\": \"86\"}, {\"data\": [{\"hoverlabel\": {\"namelength\": 0}, \"hovertemplate\": \"Iteration=87<br>Length=%{x}<br>%Homochirality=%{y}\", \"legendgroup\": \"\", \"marker\": {\"color\": \"#636efa\", \"symbol\": \"circle\"}, \"mode\": \"markers\", \"name\": \"\", \"showlegend\": false, \"x\": [39, 1, 1, 14, 1, 10, 1, 57, 1, 1, 1, 2, 1, 13, 1, 3, 13, 6, 6, 1, 1, 1, 8, 1, 6, 1, 1, 1, 1, 5, 1, 114, 48, 5, 7, 1, 3, 1, 1, 1, 24, 19, 166, 21, 1, 1, 1, 1, 124, 1, 24, 1, 1, 1, 1, 1, 1, 15, 1, 1, 1, 1, 1, 1, 1, 2, 2, 27, 1, 10, 2, 2, 2, 2, 54, 3, 25, 2, 54, 2, 75, 1, 1, 4, 3, 1, 18], \"xaxis\": \"x\", \"y\": [0.6842105263157895, null, null, 0.6153846153846154, null, 0.6666666666666666, null, 0.5, null, null, null, 1.0, null, 0.5833333333333334, null, 0.5, 0.4166666666666667, 0.6, 0.6, null, null, null, 0.2857142857142857, null, 0.0, null, null, null, null, 0.75, null, 0.5663716814159292, 0.48936170212765956, 0.5, 0.6666666666666666, null, 0.5, null, null, null, 0.391304347826087, 0.6666666666666666, 0.6181818181818182, 0.5, null, null, null, null, 0.6341463414634146, null, 0.5217391304347826, null, null, null, null, null, null, 0.42857142857142855, null, null, null, null, null, null, null, 0.0, 0.0, 0.6923076923076923, null, 0.6666666666666666, 0.0, 1.0, 0.0, 0.0, 0.5660377358490566, 1.0, 0.5416666666666666, 0.0, 0.5094339622641509, 1.0, 0.581081081081081, null, null, 0.0, 0.0, null, 0.7058823529411765], \"yaxis\": \"y\", \"type\": \"scatter\"}], \"name\": \"87\"}, {\"data\": [{\"hoverlabel\": {\"namelength\": 0}, \"hovertemplate\": \"Iteration=88<br>Length=%{x}<br>%Homochirality=%{y}\", \"legendgroup\": \"\", \"marker\": {\"color\": \"#636efa\", \"symbol\": \"circle\"}, \"mode\": \"markers\", \"name\": \"\", \"showlegend\": false, \"x\": [1, 1, 1, 1, 1, 1, 1, 12, 1, 1, 1, 1, 1, 1, 1, 9, 11, 1, 54, 134, 29, 1, 1, 1, 1, 1, 1, 1, 1, 1, 1, 2, 46, 3, 2, 169, 16, 2, 1, 1, 1, 55, 1, 1, 1, 1, 77, 2, 3, 12, 1, 55, 1, 3, 26, 7, 2, 1, 1, 1, 1, 1, 1, 1, 119, 14, 25, 2, 1, 2, 1, 1, 1, 1, 28, 1, 1, 3, 2, 3, 3, 11, 3, 1, 2, 1, 2, 1, 1, 6, 18, 2, 5, 2, 41, 22], \"xaxis\": \"x\", \"y\": [null, null, null, null, null, null, null, 0.36363636363636365, null, null, null, null, null, null, null, 0.625, 0.6, null, 0.6226415094339622, 0.631578947368421, 0.42857142857142855, null, null, null, null, null, null, null, null, null, null, 0.0, 0.6666666666666666, 0.5, 0.0, 0.625, 0.8, 0.0, null, null, null, 0.5185185185185185, null, null, null, null, 0.5789473684210527, 0.0, 0.0, 0.7272727272727273, null, 0.5740740740740741, null, 0.5, 0.52, 0.5, 0.0, null, null, null, null, null, null, null, 0.5677966101694916, 0.38461538461538464, 0.375, 1.0, null, 1.0, null, null, null, null, 0.5555555555555556, null, null, 0.5, 0.0, 0.5, 0.5, 0.7, 1.0, null, 0.0, null, 1.0, null, null, 0.4, 0.5882352941176471, 0.0, 0.25, 1.0, 0.5, 0.5714285714285714], \"yaxis\": \"y\", \"type\": \"scatter\"}], \"name\": \"88\"}, {\"data\": [{\"hoverlabel\": {\"namelength\": 0}, \"hovertemplate\": \"Iteration=89<br>Length=%{x}<br>%Homochirality=%{y}\", \"legendgroup\": \"\", \"marker\": {\"color\": \"#636efa\", \"symbol\": \"circle\"}, \"mode\": \"markers\", \"name\": \"\", \"showlegend\": false, \"x\": [1, 29, 5, 1, 1, 1, 1, 1, 1, 1, 19, 1, 1, 1, 4, 1, 2, 6, 5, 1, 1, 41, 1, 1, 11, 42, 22, 1, 1, 78, 1, 1, 1, 3, 1, 3, 5, 1, 9, 1, 3, 31, 30, 1, 8, 1, 1, 10, 14, 11, 1, 3, 1, 32, 1, 3, 28, 10, 1, 1, 1, 3, 2, 15, 3, 2, 2, 3, 2, 9, 19, 3, 14, 1, 135, 147, 1, 1, 11, 2, 2, 23, 14, 120, 32, 5, 2, 1, 23, 2, 1, 2], \"xaxis\": \"x\", \"y\": [null, 0.5714285714285714, 0.25, null, null, null, null, null, null, null, 0.6111111111111112, null, null, null, 0.3333333333333333, null, 1.0, 0.6, 0.0, null, null, 0.625, null, null, 0.4, 0.5121951219512195, 0.5714285714285714, null, null, 0.5714285714285714, null, null, null, 1.0, null, 0.0, 0.5, null, 0.375, null, 0.5, 0.5666666666666667, 0.41379310344827586, null, 0.5714285714285714, null, null, 0.5555555555555556, 0.6923076923076923, 0.8, null, 0.5, null, 0.41935483870967744, null, 0.5, 0.5185185185185185, 0.6666666666666666, null, null, null, 0.5, 0.0, 0.6428571428571429, 0.5, 1.0, 0.0, 0.0, 0.0, 0.75, 0.3333333333333333, 0.5, 0.38461538461538464, null, 0.6343283582089553, 0.636986301369863, null, null, 0.5, 1.0, 1.0, 0.7272727272727273, 0.6153846153846154, 0.5714285714285714, 0.6451612903225806, 0.75, 0.0, null, 0.6818181818181818, 0.0, null, 1.0], \"yaxis\": \"y\", \"type\": \"scatter\"}], \"name\": \"89\"}, {\"data\": [{\"hoverlabel\": {\"namelength\": 0}, \"hovertemplate\": \"Iteration=90<br>Length=%{x}<br>%Homochirality=%{y}\", \"legendgroup\": \"\", \"marker\": {\"color\": \"#636efa\", \"symbol\": \"circle\"}, \"mode\": \"markers\", \"name\": \"\", \"showlegend\": false, \"x\": [14, 7, 1, 5, 4, 137, 1, 1, 8, 2, 10, 1, 42, 7, 1, 1, 23, 1, 1, 17, 4, 1, 1, 1, 24, 1, 1, 102, 1, 1, 1, 61, 4, 27, 1, 107, 1, 1, 1, 1, 1, 11, 16, 2, 4, 1, 1, 1, 1, 2, 7, 122, 9, 1, 54, 2, 1, 6, 3, 1, 1, 12, 16, 1, 1, 25, 3, 5, 1, 1, 1, 1, 1, 1, 1, 1, 11, 45, 2, 33, 7, 1, 19, 2, 2, 1, 1, 3, 2, 2, 2, 3, 20, 3, 7], \"xaxis\": \"x\", \"y\": [0.6153846153846154, 0.5, null, 1.0, 0.6666666666666666, 0.625, null, null, 0.14285714285714285, 1.0, 0.6666666666666666, null, 0.6341463414634146, 0.3333333333333333, null, null, 0.36363636363636365, null, null, 0.5625, 0.6666666666666666, null, null, null, 0.5652173913043478, null, null, 0.7128712871287128, null, null, null, 0.45, 0.3333333333333333, 0.5384615384615384, null, 0.5660377358490566, null, null, null, null, null, 0.4, 0.6666666666666666, 0.0, 0.6666666666666666, null, null, null, null, 0.0, 0.6666666666666666, 0.5619834710743802, 0.5, null, 0.6037735849056604, 0.0, null, 1.0, 0.5, null, null, 0.5454545454545454, 0.7333333333333333, null, null, 0.6666666666666666, 0.0, 0.75, null, null, null, null, null, null, null, null, 0.7, 0.45454545454545453, 1.0, 0.40625, 0.6666666666666666, null, 0.3888888888888889, 1.0, 1.0, null, null, 0.0, 0.0, 0.0, 0.0, 0.5, 0.7368421052631579, 0.5, 0.6666666666666666], \"yaxis\": \"y\", \"type\": \"scatter\"}], \"name\": \"90\"}, {\"data\": [{\"hoverlabel\": {\"namelength\": 0}, \"hovertemplate\": \"Iteration=91<br>Length=%{x}<br>%Homochirality=%{y}\", \"legendgroup\": \"\", \"marker\": {\"color\": \"#636efa\", \"symbol\": \"circle\"}, \"mode\": \"markers\", \"name\": \"\", \"showlegend\": false, \"x\": [31, 1, 4, 1, 4, 139, 1, 1, 13, 3, 1, 6, 14, 1, 56, 1, 1, 1, 1, 1, 9, 1, 1, 47, 3, 1, 129, 1, 3, 1, 5, 6, 1, 1, 1, 1, 1, 124, 1, 43, 1, 1, 1, 6, 1, 27, 25, 1, 1, 5, 9, 1, 1, 1, 1, 19, 111, 1, 1, 2, 1, 31, 1, 1, 1, 15, 62, 3, 7, 13, 1, 1, 27, 7, 2, 1, 1, 1, 2, 1, 2, 4, 8, 4, 11, 1, 6, 23], \"xaxis\": \"x\", \"y\": [0.43333333333333335, null, 1.0, null, 0.3333333333333333, 0.6231884057971014, null, null, 0.75, 0.5, null, 0.4, 0.38461538461538464, null, 0.4909090909090909, null, null, null, null, null, 0.625, null, null, 0.4782608695652174, 0.0, null, 0.671875, null, 1.0, null, 0.5, 0.6, null, null, null, null, null, 0.5609756097560976, null, 0.6190476190476191, null, null, null, 0.6, null, 0.6538461538461539, 0.4166666666666667, null, null, 0.75, 0.5, null, null, null, null, 0.6111111111111112, 0.5545454545454546, null, null, 0.0, null, 0.5666666666666667, null, null, null, 0.5714285714285714, 0.45901639344262296, 1.0, 0.6666666666666666, 0.75, null, null, 0.4230769230769231, 1.0, 0.0, null, null, null, 1.0, null, 0.0, 0.6666666666666666, 0.5714285714285714, 0.6666666666666666, 0.7, null, 0.6, 0.6818181818181818], \"yaxis\": \"y\", \"type\": \"scatter\"}], \"name\": \"91\"}, {\"data\": [{\"hoverlabel\": {\"namelength\": 0}, \"hovertemplate\": \"Iteration=92<br>Length=%{x}<br>%Homochirality=%{y}\", \"legendgroup\": \"\", \"marker\": {\"color\": \"#636efa\", \"symbol\": \"circle\"}, \"mode\": \"markers\", \"name\": \"\", \"showlegend\": false, \"x\": [1, 1, 1, 1, 1, 5, 1, 1, 1, 16, 1, 1, 112, 1, 1, 75, 1, 1, 21, 1, 6, 1, 4, 17, 10, 1, 1, 16, 16, 1, 1, 90, 1, 1, 1, 1, 130, 1, 1, 61, 7, 1, 1, 1, 3, 1, 1, 1, 6, 15, 3, 18, 21, 4, 1, 1, 1, 1, 16, 1, 15, 1, 1, 27, 2, 3, 1, 2, 7, 2, 3, 2, 21, 32, 8, 123, 2, 1, 20, 2, 2, 2, 2, 2, 106, 8, 1, 2, 2, 1, 15], \"xaxis\": \"x\", \"y\": [null, null, null, null, null, 0.5, null, null, null, 0.4666666666666667, null, null, 0.5585585585585585, null, null, 0.5, null, null, 0.65, null, 0.6, null, 0.3333333333333333, 0.5625, 0.4444444444444444, null, null, 0.7333333333333333, 0.6666666666666666, null, null, 0.5393258426966292, null, null, null, null, 0.6666666666666666, null, null, 0.5166666666666667, 1.0, null, null, null, 0.5, null, null, null, 0.6, 0.6428571428571429, 0.0, 0.5882352941176471, 0.55, 0.6666666666666666, null, null, null, null, 0.4666666666666667, null, 0.6428571428571429, null, null, 0.6538461538461539, 1.0, 0.5, null, 1.0, 0.6666666666666666, 1.0, 0.5, 1.0, 0.4, 0.41935483870967744, 0.14285714285714285, 0.6229508196721312, 0.0, null, 0.5789473684210527, 0.0, 1.0, 1.0, 1.0, 1.0, 0.5619047619047619, 0.5714285714285714, null, 0.0, 1.0, null, 0.6428571428571429], \"yaxis\": \"y\", \"type\": \"scatter\"}], \"name\": \"92\"}, {\"data\": [{\"hoverlabel\": {\"namelength\": 0}, \"hovertemplate\": \"Iteration=93<br>Length=%{x}<br>%Homochirality=%{y}\", \"legendgroup\": \"\", \"marker\": {\"color\": \"#636efa\", \"symbol\": \"circle\"}, \"mode\": \"markers\", \"name\": \"\", \"showlegend\": false, \"x\": [110, 2, 1, 1, 1, 1, 1, 3, 1, 1, 1, 4, 2, 1, 1, 24, 25, 1, 2, 1, 1, 1, 1, 2, 1, 4, 11, 1, 8, 4, 1, 26, 1, 1, 4, 2, 3, 1, 67, 6, 1, 1, 1, 77, 1, 22, 48, 1, 4, 1, 1, 23, 10, 198, 1, 1, 1, 1, 1, 9, 18, 1, 2, 17, 1, 1, 1, 1, 13, 17, 3, 2, 2, 3, 19, 1, 91, 2, 10, 35, 1, 1, 5, 131, 3, 1, 3, 18], \"xaxis\": \"x\", \"y\": [0.5596330275229358, 0.0, null, null, null, null, null, 0.5, null, null, null, 0.6666666666666666, 1.0, null, null, 0.5217391304347826, 0.5833333333333334, null, 0.0, null, null, null, null, 1.0, null, 1.0, 0.2, null, 0.8571428571428571, 0.3333333333333333, null, 0.68, null, null, 1.0, 1.0, 0.5, null, 0.5303030303030303, 0.4, null, null, null, 0.5657894736842105, null, 0.5714285714285714, 0.5106382978723404, null, 0.6666666666666666, null, null, 0.5454545454545454, 0.6666666666666666, 0.5736040609137056, null, null, null, null, null, 0.625, 0.6470588235294118, null, 1.0, 0.5, null, null, null, null, 0.75, 0.6875, 0.5, 1.0, 0.0, 1.0, 0.4444444444444444, null, 0.5444444444444444, 1.0, 0.4444444444444444, 0.5294117647058824, null, null, 0.75, 0.6692307692307692, 1.0, null, 0.5, 0.5294117647058824], \"yaxis\": \"y\", \"type\": \"scatter\"}], \"name\": \"93\"}, {\"data\": [{\"hoverlabel\": {\"namelength\": 0}, \"hovertemplate\": \"Iteration=94<br>Length=%{x}<br>%Homochirality=%{y}\", \"legendgroup\": \"\", \"marker\": {\"color\": \"#636efa\", \"symbol\": \"circle\"}, \"mode\": \"markers\", \"name\": \"\", \"showlegend\": false, \"x\": [1, 1, 4, 1, 1, 52, 1, 2, 1, 1, 40, 1, 1, 1, 1, 18, 1, 1, 3, 1, 1, 3, 1, 36, 4, 1, 15, 1, 1, 1, 20, 1, 25, 1, 1, 141, 1, 1, 23, 34, 6, 1, 99, 3, 1, 4, 1, 1, 3, 1, 20, 1, 2, 1, 1, 9, 66, 3, 3, 1, 1, 11, 25, 1, 5, 1, 1, 1, 1, 1, 5, 3, 1, 1, 1, 158, 14, 2, 1, 2, 3, 1, 1, 1, 1, 1, 1, 1, 2, 43, 19, 1, 2, 1, 68, 9, 44, 37, 4], \"xaxis\": \"x\", \"y\": [null, null, 1.0, null, null, 0.5882352941176471, null, 1.0, null, null, 0.5897435897435898, null, null, null, null, 0.47058823529411764, null, null, 0.5, null, null, 1.0, null, 0.6571428571428571, 0.3333333333333333, null, 0.42857142857142855, null, null, null, 0.5263157894736842, null, 0.5416666666666666, null, null, 0.65, null, null, 0.45454545454545453, 0.5757575757575758, 0.4, null, 0.5714285714285714, 0.5, null, 0.3333333333333333, null, null, 0.5, null, 0.5263157894736842, null, 1.0, null, null, 0.5, 0.5538461538461539, 1.0, 0.5, null, null, 0.4, 0.5, null, 0.75, null, null, null, null, null, 0.5, 0.0, null, null, null, 0.5732484076433121, 0.6923076923076923, 1.0, null, 0.0, 1.0, null, null, null, null, null, null, null, 0.0, 0.5714285714285714, 0.6666666666666666, null, 1.0, null, 0.5223880597014925, 0.75, 0.5813953488372093, 0.5277777777777778, 0.6666666666666666], \"yaxis\": \"y\", \"type\": \"scatter\"}], \"name\": \"94\"}, {\"data\": [{\"hoverlabel\": {\"namelength\": 0}, \"hovertemplate\": \"Iteration=95<br>Length=%{x}<br>%Homochirality=%{y}\", \"legendgroup\": \"\", \"marker\": {\"color\": \"#636efa\", \"symbol\": \"circle\"}, \"mode\": \"markers\", \"name\": \"\", \"showlegend\": false, \"x\": [1, 3, 4, 1, 2, 2, 1, 6, 1, 1, 3, 1, 1, 37, 3, 39, 3, 53, 4, 20, 1, 1, 31, 1, 1, 1, 2, 43, 1, 2, 26, 1, 1, 1, 45, 1, 41, 26, 1, 1, 1, 7, 1, 19, 1, 13, 1, 1, 1, 1, 7, 4, 6, 1, 1, 115, 1, 1, 1, 1, 1, 19, 1, 1, 100, 4, 1, 13, 1, 4, 63, 2, 2, 2, 37, 26, 35, 2, 1, 159, 17, 16, 1, 1, 14, 2, 26], \"xaxis\": \"x\", \"y\": [null, 0.0, 0.3333333333333333, null, 1.0, 1.0, null, 0.8, null, null, 1.0, null, null, 0.6666666666666666, 1.0, 0.5789473684210527, 0.5, 0.5961538461538461, 0.3333333333333333, 0.47368421052631576, null, null, 0.5, null, null, null, 1.0, 0.5, null, 1.0, 0.48, null, null, null, 0.5681818181818182, null, 0.6, 0.6, null, null, null, 0.16666666666666666, null, 0.4444444444444444, null, 0.75, null, null, null, null, 0.6666666666666666, 0.6666666666666666, 0.2, null, null, 0.6403508771929824, null, null, null, null, null, 0.6666666666666666, null, null, 0.5757575757575758, 1.0, null, 0.75, null, 0.3333333333333333, 0.5483870967741935, 1.0, 1.0, 1.0, 0.5555555555555556, 0.52, 0.5294117647058824, 0.0, null, 0.569620253164557, 0.5, 0.4666666666666667, null, null, 0.6923076923076923, 1.0, 0.68], \"yaxis\": \"y\", \"type\": \"scatter\"}], \"name\": \"95\"}, {\"data\": [{\"hoverlabel\": {\"namelength\": 0}, \"hovertemplate\": \"Iteration=96<br>Length=%{x}<br>%Homochirality=%{y}\", \"legendgroup\": \"\", \"marker\": {\"color\": \"#636efa\", \"symbol\": \"circle\"}, \"mode\": \"markers\", \"name\": \"\", \"showlegend\": false, \"x\": [1, 1, 74, 89, 1, 1, 46, 104, 1, 2, 36, 1, 1, 9, 1, 1, 1, 1, 4, 1, 1, 1, 1, 5, 52, 69, 102, 1, 22, 3, 1, 36, 1, 8, 11, 33, 1, 1, 1, 1, 18, 1, 1, 1, 1, 5, 1, 1, 45, 7, 4, 1, 8, 1, 14, 1, 6, 1, 1, 1, 2, 1, 1, 1, 4, 2, 11, 1, 5, 1, 1, 5, 1, 1, 3, 2, 90, 5, 6, 35, 8, 12, 1, 3, 38, 1, 1, 29, 2, 1, 1, 41], \"xaxis\": \"x\", \"y\": [null, null, 0.4931506849315068, 0.5681818181818182, null, null, 0.5777777777777777, 0.6407766990291263, null, 1.0, 0.5714285714285714, null, null, 0.875, null, null, null, null, 1.0, null, null, null, null, 0.0, 0.49019607843137253, 0.47058823529411764, 0.5643564356435643, null, 0.38095238095238093, 0.5, null, 0.5428571428571428, null, 0.7142857142857143, 0.3, 0.625, null, null, null, null, 0.5294117647058824, null, null, null, null, 0.5, null, null, 0.5909090909090909, 0.6666666666666666, 0.6666666666666666, null, 0.5714285714285714, null, 0.7692307692307693, null, 0.2, null, null, null, 1.0, null, null, null, 0.6666666666666666, 1.0, 0.7, null, 0.5, null, null, 0.5, null, null, 0.5, 1.0, 0.6404494382022472, 1.0, 0.2, 0.6176470588235294, 0.5714285714285714, 0.8181818181818182, null, 0.5, 0.5675675675675675, null, null, 0.6785714285714286, 0.0, null, null, 0.575], \"yaxis\": \"y\", \"type\": \"scatter\"}], \"name\": \"96\"}, {\"data\": [{\"hoverlabel\": {\"namelength\": 0}, \"hovertemplate\": \"Iteration=97<br>Length=%{x}<br>%Homochirality=%{y}\", \"legendgroup\": \"\", \"marker\": {\"color\": \"#636efa\", \"symbol\": \"circle\"}, \"mode\": \"markers\", \"name\": \"\", \"showlegend\": false, \"x\": [1, 61, 1, 1, 1, 1, 6, 19, 20, 1, 1, 11, 1, 1, 1, 32, 1, 46, 1, 33, 1, 1, 1, 1, 4, 5, 1, 1, 6, 1, 1, 1, 1, 10, 1, 14, 35, 1, 1, 1, 1, 73, 1, 1, 1, 1, 1, 1, 1, 1, 16, 106, 1, 4, 5, 1, 1, 1, 22, 2, 55, 36, 13, 97, 1, 1, 1, 1, 1, 1, 3, 1, 3, 13, 1, 1, 70, 1, 1, 1, 5, 10, 1, 2, 7, 1, 1, 2, 1, 1, 1, 1, 47, 25, 10, 33, 80, 1, 34, 35, 1], \"xaxis\": \"x\", \"y\": [null, 0.48333333333333334, null, null, null, null, 0.0, 0.5555555555555556, 0.5263157894736842, null, null, 0.4, null, null, null, 0.6774193548387096, null, 0.6, null, 0.5, null, null, null, null, 0.3333333333333333, 0.0, null, null, 0.8, null, null, null, null, 0.7777777777777778, null, 0.8461538461538461, 0.5294117647058824, null, null, null, null, 0.5, null, null, null, null, null, null, null, null, 0.8, 0.638095238095238, null, 0.6666666666666666, 0.5, null, null, null, 0.6190476190476191, 0.0, 0.48148148148148145, 0.6, 0.6666666666666666, 0.5729166666666666, null, null, null, null, null, null, 0.5, null, 0.5, 0.5833333333333334, null, null, 0.6666666666666666, null, null, null, 0.75, 0.2222222222222222, null, 1.0, 0.6666666666666666, null, null, 1.0, null, null, null, null, 0.5652173913043478, 0.4166666666666667, 0.8888888888888888, 0.5625, 0.5569620253164557, null, 0.6363636363636364, 0.5588235294117647, null], \"yaxis\": \"y\", \"type\": \"scatter\"}], \"name\": \"97\"}, {\"data\": [{\"hoverlabel\": {\"namelength\": 0}, \"hovertemplate\": \"Iteration=98<br>Length=%{x}<br>%Homochirality=%{y}\", \"legendgroup\": \"\", \"marker\": {\"color\": \"#636efa\", \"symbol\": \"circle\"}, \"mode\": \"markers\", \"name\": \"\", \"showlegend\": false, \"x\": [51, 1, 81, 1, 48, 38, 1, 11, 1, 33, 1, 35, 1, 1, 1, 1, 1, 1, 1, 33, 1, 1, 1, 1, 1, 1, 19, 1, 18, 1, 2, 31, 1, 3, 2, 1, 1, 11, 1, 1, 1, 1, 1, 4, 84, 1, 18, 1, 1, 1, 9, 1, 1, 1, 1, 70, 11, 14, 2, 1, 1, 1, 2, 1, 1, 35, 10, 1, 4, 2, 28, 71, 1, 1, 6, 1, 2, 2, 1, 4, 4, 3, 2, 17, 107, 34, 3, 1, 1, 4, 27, 3, 27, 23, 3, 47, 20, 4], \"xaxis\": \"x\", \"y\": [0.48, null, 0.5625, null, 0.574468085106383, 0.5135135135135135, null, 0.8, null, 0.46875, null, 0.35294117647058826, null, null, null, null, null, null, null, 0.65625, null, null, null, null, null, null, 0.6111111111111112, null, 0.5294117647058824, null, 0.0, 0.5, null, 0.0, 0.0, null, null, 0.8, null, null, null, null, null, 0.6666666666666666, 0.4939759036144578, null, 0.7058823529411765, null, null, null, 0.375, null, null, null, null, 0.6666666666666666, 0.5, 0.6153846153846154, 0.0, null, null, null, 1.0, null, null, 0.5588235294117647, 0.7777777777777778, null, 0.3333333333333333, 1.0, 0.48148148148148145, 0.6714285714285714, null, null, 0.8, null, 1.0, 0.0, null, 0.3333333333333333, 1.0, 0.0, 0.0, 0.8125, 0.6415094339622641, 0.48484848484848486, 0.5, null, null, 0.3333333333333333, 0.6923076923076923, 0.5, 0.34615384615384615, 0.7272727272727273, 0.5, 0.6086956521739131, 0.5263157894736842, 1.0], \"yaxis\": \"y\", \"type\": \"scatter\"}], \"name\": \"98\"}, {\"data\": [{\"hoverlabel\": {\"namelength\": 0}, \"hovertemplate\": \"Iteration=99<br>Length=%{x}<br>%Homochirality=%{y}\", \"legendgroup\": \"\", \"marker\": {\"color\": \"#636efa\", \"symbol\": \"circle\"}, \"mode\": \"markers\", \"name\": \"\", \"showlegend\": false, \"x\": [88, 3, 1, 1, 1, 1, 1, 1, 1, 1, 83, 3, 1, 39, 13, 1, 1, 60, 1, 1, 10, 18, 1, 30, 1, 1, 1, 1, 14, 1, 20, 1, 19, 1, 1, 37, 1, 6, 7, 1, 18, 40, 1, 1, 1, 1, 6, 1, 35, 1, 1, 76, 15, 1, 2, 36, 10, 1, 8, 3, 1, 75, 1, 1, 1, 1, 1, 1, 1, 15, 3, 25, 2, 1, 3, 1, 2, 1, 30, 1, 15, 1, 1, 2, 1, 9, 1, 1, 48, 14, 5, 8, 4, 72, 1, 1, 1, 7, 19, 1, 3, 24, 32, 2], \"xaxis\": \"x\", \"y\": [0.4942528735632184, 1.0, null, null, null, null, null, null, null, null, 0.5609756097560976, 1.0, null, 0.39473684210526316, 0.3333333333333333, null, null, 0.6779661016949152, null, null, 0.3333333333333333, 0.6470588235294118, null, 0.4482758620689655, null, null, null, null, 0.6923076923076923, null, 0.5789473684210527, null, 0.5555555555555556, null, null, 0.4722222222222222, null, 0.6, 0.5, null, 0.6470588235294118, 0.5641025641025641, null, null, null, null, 0.8, null, 0.47058823529411764, null, null, 0.68, 0.8571428571428571, null, 0.0, 0.5714285714285714, 0.8888888888888888, null, 0.8571428571428571, 0.5, null, 0.6081081081081081, null, null, null, null, null, null, null, 0.6428571428571429, 0.5, 0.5833333333333334, 0.0, null, 0.5, null, 1.0, null, 0.5172413793103449, null, 0.2857142857142857, null, null, 0.0, null, 0.875, null, null, 0.6170212765957447, 0.46153846153846156, 0.25, 0.5714285714285714, 1.0, 0.676056338028169, null, null, null, 0.6666666666666666, 0.5555555555555556, null, 0.5, 0.34782608695652173, 0.7096774193548387, 1.0], \"yaxis\": \"y\", \"type\": \"scatter\"}], \"name\": \"99\"}]);\n",
              "                        }).then(function(){\n",
              "                            \n",
              "var gd = document.getElementById('ccdb6fec-fe01-43ce-b5ee-193423efa711');\n",
              "var x = new MutationObserver(function (mutations, observer) {{\n",
              "        var display = window.getComputedStyle(gd).display;\n",
              "        if (!display || display === 'none') {{\n",
              "            console.log([gd, 'removed!']);\n",
              "            Plotly.purge(gd);\n",
              "            observer.disconnect();\n",
              "        }}\n",
              "}});\n",
              "\n",
              "// Listen for the removal of the full notebook cells\n",
              "var notebookContainer = gd.closest('#notebook-container');\n",
              "if (notebookContainer) {{\n",
              "    x.observe(notebookContainer, {childList: true});\n",
              "}}\n",
              "\n",
              "// Listen for the clearing of the current output cell\n",
              "var outputEl = gd.closest('.output');\n",
              "if (outputEl) {{\n",
              "    x.observe(outputEl, {childList: true});\n",
              "}}\n",
              "\n",
              "                        })\n",
              "                };\n",
              "                \n",
              "            </script>\n",
              "        </div>\n",
              "</body>\n",
              "</html>"
            ]
          },
          "metadata": {
            "tags": [
              "id11_content_10",
              "outputarea_id11",
              "user_output"
            ]
          }
        },
        {
          "output_type": "display_data",
          "data": {
            "application/javascript": [
              "window[\"0159249c-bd77-11ea-920b-0242ac1c0002\"] = google.colab.output.setActiveOutputArea(window[\"fee50c58-bd76-11ea-920b-0242ac1c0002\"]);\n",
              "//# sourceURL=js_3d2aaba8cc"
            ],
            "text/plain": [
              "<IPython.core.display.Javascript object>"
            ]
          },
          "metadata": {
            "tags": [
              "id11_content_10",
              "outputarea_id11"
            ]
          }
        },
        {
          "output_type": "display_data",
          "data": {
            "application/javascript": [
              "window[\"015a5ab0-bd77-11ea-920b-0242ac1c0002\"] = google.colab.output.getActiveOutputArea();\n",
              "//# sourceURL=js_6861039758"
            ],
            "text/plain": [
              "<IPython.core.display.Javascript object>"
            ]
          },
          "metadata": {
            "tags": [
              "id11_content_5",
              "outputarea_id11"
            ]
          }
        },
        {
          "output_type": "display_data",
          "data": {
            "application/javascript": [
              "window[\"015a9a70-bd77-11ea-920b-0242ac1c0002\"] = document.querySelector(\"#id11_content_5\");\n",
              "//# sourceURL=js_330b0b40a9"
            ],
            "text/plain": [
              "<IPython.core.display.Javascript object>"
            ]
          },
          "metadata": {
            "tags": [
              "id11_content_5",
              "outputarea_id11"
            ]
          }
        },
        {
          "output_type": "display_data",
          "data": {
            "application/javascript": [
              "window[\"015adfe4-bd77-11ea-920b-0242ac1c0002\"] = google.colab.output.setActiveOutputArea(window[\"015a9a70-bd77-11ea-920b-0242ac1c0002\"]);\n",
              "//# sourceURL=js_072db9fdcb"
            ],
            "text/plain": [
              "<IPython.core.display.Javascript object>"
            ]
          },
          "metadata": {
            "tags": [
              "id11_content_5",
              "outputarea_id11"
            ]
          }
        },
        {
          "output_type": "display_data",
          "data": {
            "application/javascript": [
              "window[\"015b35d4-bd77-11ea-920b-0242ac1c0002\"] = window[\"id11\"].setSelectedTabIndex(5);\n",
              "//# sourceURL=js_2f49a42c35"
            ],
            "text/plain": [
              "<IPython.core.display.Javascript object>"
            ]
          },
          "metadata": {
            "tags": [
              "id11_content_5",
              "outputarea_id11"
            ]
          }
        },
        {
          "output_type": "display_data",
          "data": {
            "text/html": [
              "<html>\n",
              "<head><meta charset=\"utf-8\" /></head>\n",
              "<body>\n",
              "    <div>\n",
              "            <script src=\"https://cdnjs.cloudflare.com/ajax/libs/mathjax/2.7.5/MathJax.js?config=TeX-AMS-MML_SVG\"></script><script type=\"text/javascript\">if (window.MathJax) {MathJax.Hub.Config({SVG: {font: \"STIX-Web\"}});}</script>\n",
              "                <script type=\"text/javascript\">window.PlotlyConfig = {MathJaxConfig: 'local'};</script>\n",
              "        <script src=\"https://cdn.plot.ly/plotly-latest.min.js\"></script>    \n",
              "            <div id=\"e73641fc-56ca-46d5-8b6d-4f610e1d4a18\" class=\"plotly-graph-div\" style=\"height:525px; width:100%;\"></div>\n",
              "            <script type=\"text/javascript\">\n",
              "                \n",
              "                    window.PLOTLYENV=window.PLOTLYENV || {};\n",
              "                    \n",
              "                if (document.getElementById(\"e73641fc-56ca-46d5-8b6d-4f610e1d4a18\")) {\n",
              "                    Plotly.newPlot(\n",
              "                        'e73641fc-56ca-46d5-8b6d-4f610e1d4a18',\n",
              "                        [{\"hoverlabel\": {\"namelength\": 0}, \"hovertemplate\": \"Length=%{x}<br>%Homochirality=%{y}<br>count=%{marker.size}\", \"legendgroup\": \"\", \"marker\": {\"color\": \"#636efa\", \"line\": {\"color\": \"DarkSlateGrey\"}, \"size\": [440, 391, 237, 142, 98, 107, 105, 65, 29, 81, 80, 40, 38, 13, 73, 49, 47, 25, 20, 4, 46, 38, 28, 19, 12, 8, 2, 32, 31, 26, 18, 14, 7, 4, 27, 25, 22, 15, 13, 9, 2, 1, 21, 20, 15, 13, 10, 9, 2, 19, 16, 16, 15, 13, 5, 5, 2, 15, 11, 10, 9, 8, 5, 3, 2, 17, 10, 9, 7, 5, 5, 4, 3, 1, 16, 15, 12, 9, 8, 7, 5, 1, 14, 14, 13, 11, 10, 4, 3, 3, 3, 2, 11, 10, 9, 8, 7, 7, 3, 2, 13, 10, 9, 9, 8, 6, 3, 2, 1, 9, 9, 8, 8, 5, 4, 3, 1, 10, 9, 8, 7, 7, 5, 2, 1, 1, 7, 6, 5, 4, 3, 3, 2, 1, 6, 5, 5, 4, 2, 2, 1, 1, 1, 7, 5, 4, 3, 3, 2, 2, 2, 1, 1, 1, 1, 7, 6, 5, 3, 3, 3, 2, 1, 1, 1, 4, 3, 3, 2, 2, 2, 1, 1, 1, 7, 5, 4, 3, 3, 2, 2, 2, 2, 1, 5, 5, 4, 3, 3, 2, 2, 2, 1, 4, 4, 4, 4, 3, 3, 3, 2, 2, 1, 1, 1, 4, 2, 2, 1, 1, 1, 1, 1, 1, 4, 4, 4, 3, 3, 3, 2, 1, 1, 4, 3, 3, 3, 2, 2, 2, 1, 1, 1, 1, 5, 3, 3, 2, 2, 2, 1, 3, 3, 2, 2, 2, 2, 2, 1, 1, 1, 3, 3, 2, 2, 2, 1, 1, 1, 1, 1, 4, 2, 2, 1, 1, 1, 1, 1, 6, 4, 3, 1, 1, 1, 1, 1, 1, 4, 3, 3, 1, 1, 1, 1, 1, 4, 3, 3, 2, 2, 1, 1, 1, 1, 1, 4, 2, 2, 2, 1, 1, 1, 1, 1, 4, 2, 1, 1, 1, 1, 1, 1, 3, 3, 3, 1, 1, 1, 4, 2, 1, 1, 1, 1, 1, 4, 4, 2, 1, 1, 1, 2, 2, 2, 1, 1, 1, 1, 1, 3, 2, 1, 1, 1, 1, 1, 4, 3, 2, 2, 2, 1, 1, 1, 1, 1, 4, 2, 2, 2, 1, 1, 3, 2, 1, 1, 1, 1, 1, 1, 3, 2, 2, 2, 2, 1, 1, 1, 1, 1, 1, 1, 1, 1, 1, 2, 1, 1, 1, 1, 3, 1, 1, 1, 1, 1, 2, 2, 1, 1, 1, 1, 1, 1, 1, 4, 2, 2, 1, 1, 1, 2, 2, 1, 1, 1, 1, 1, 1, 1, 1, 1, 1, 1, 1, 2, 1, 1, 1, 1, 1, 1, 2, 1, 2, 1, 1, 1, 1, 1, 1, 1, 1, 1, 1, 1, 1, 1, 2, 2, 1, 2, 2, 2, 1, 1, 1, 1, 1, 1, 1, 1, 1, 1, 1, 1, 1, 1, 1, 1, 1, 1, 1, 1, 1, 1, 1, 1, 2, 2, 1, 1, 2, 1, 1, 1, 1, 1, 1, 1, 1, 1, 1, 1, 1, 1, 1, 1, 1, 1, 1, 1, 1, 2, 1, 1, 1, 1, 1, 1, 1, 1, 1, 1, 1, 1, 1, 1, 1, 1, 1, 1, 1, 1, 1, 1, 1, 1, 1, 1, 1, 1, 1, 1, 1, 1, 1, 1, 1, 1, 2, 1, 1, 1, 1, 1, 1, 1, 1, 1, 1, 1, 1, 1, 1, 1, 1, 1, 1, 1, 1, 1, 1, 1, 1, 1, 1, 1, 1, 1, 1, 1, 1, 1, 1, 1, 1, 1, 1, 1, 1, 1, 1, 1, 1, 1, 1, 1, 1, 1, 1, 1, 1, 1, 1, 1, 1, 1, 2, 1, 1, 1, 1, 1, 1, 1, 1, 1, 1, 1, 2, 1, 1, 1, 1, 1, 1, 1, 1, 1, 1, 1, 1, 1, 1, 1, 1, 1, 1, 1, 1, 1, 1], \"sizemode\": \"area\", \"sizeref\": 1.1, \"symbol\": \"circle\"}, \"mode\": \"markers\", \"name\": \"\", \"showlegend\": false, \"type\": \"scatter\", \"x\": [2, 2, 3, 3, 3, 4, 4, 4, 4, 5, 5, 5, 5, 5, 6, 6, 6, 6, 6, 6, 7, 7, 7, 7, 7, 7, 7, 8, 8, 8, 8, 8, 8, 8, 9, 9, 9, 9, 9, 9, 9, 9, 10, 10, 10, 10, 10, 10, 10, 11, 11, 11, 11, 11, 11, 11, 11, 12, 12, 12, 12, 12, 12, 12, 12, 13, 13, 13, 13, 13, 13, 13, 13, 13, 14, 14, 14, 14, 14, 14, 14, 14, 15, 15, 15, 15, 15, 15, 15, 15, 15, 15, 16, 16, 16, 16, 16, 16, 16, 16, 17, 17, 17, 17, 17, 17, 17, 17, 17, 18, 18, 18, 18, 18, 18, 18, 18, 19, 19, 19, 19, 19, 19, 19, 19, 19, 20, 20, 20, 20, 20, 20, 20, 20, 21, 21, 21, 21, 21, 21, 21, 21, 21, 22, 22, 22, 22, 22, 22, 22, 22, 22, 22, 22, 22, 23, 23, 23, 23, 23, 23, 23, 23, 23, 23, 24, 24, 24, 24, 24, 24, 24, 24, 24, 25, 25, 25, 25, 25, 25, 25, 25, 25, 25, 26, 26, 26, 26, 26, 26, 26, 26, 26, 27, 27, 27, 27, 27, 27, 27, 27, 27, 27, 27, 27, 28, 28, 28, 28, 28, 28, 28, 28, 28, 29, 29, 29, 29, 29, 29, 29, 29, 29, 30, 30, 30, 30, 30, 30, 30, 30, 30, 30, 30, 31, 31, 31, 31, 31, 31, 31, 32, 32, 32, 32, 32, 32, 32, 32, 32, 32, 33, 33, 33, 33, 33, 33, 33, 33, 33, 33, 34, 34, 34, 34, 34, 34, 34, 34, 35, 35, 35, 35, 35, 35, 35, 35, 35, 36, 36, 36, 36, 36, 36, 36, 36, 37, 37, 37, 37, 37, 37, 37, 37, 37, 37, 38, 38, 38, 38, 38, 38, 38, 38, 38, 39, 39, 39, 39, 39, 39, 39, 39, 40, 40, 40, 40, 40, 40, 41, 41, 41, 41, 41, 41, 41, 42, 42, 42, 42, 42, 42, 43, 43, 43, 43, 43, 43, 43, 43, 44, 44, 44, 44, 44, 44, 44, 45, 45, 45, 45, 45, 45, 45, 45, 45, 45, 46, 46, 46, 46, 46, 46, 47, 47, 47, 47, 47, 47, 47, 47, 48, 48, 48, 48, 48, 48, 48, 49, 49, 49, 49, 49, 49, 49, 49, 50, 50, 50, 50, 50, 51, 51, 51, 51, 51, 51, 52, 52, 52, 52, 52, 52, 52, 52, 52, 53, 53, 53, 53, 53, 53, 54, 54, 54, 54, 54, 54, 55, 55, 55, 55, 55, 55, 56, 56, 57, 57, 57, 58, 58, 58, 58, 59, 59, 60, 60, 60, 61, 61, 61, 61, 61, 61, 61, 62, 62, 62, 62, 63, 63, 63, 64, 64, 64, 64, 64, 65, 65, 66, 66, 66, 66, 66, 66, 66, 67, 67, 67, 67, 67, 68, 68, 68, 68, 68, 69, 69, 69, 70, 70, 70, 70, 71, 71, 71, 72, 72, 72, 72, 73, 73, 74, 74, 74, 74, 75, 75, 75, 75, 75, 75, 76, 76, 77, 77, 77, 77, 77, 78, 78, 78, 78, 78, 79, 79, 79, 79, 80, 80, 80, 80, 81, 81, 82, 82, 83, 83, 83, 84, 85, 86, 86, 87, 87, 88, 88, 88, 89, 89, 89, 90, 90, 90, 90, 90, 90, 90, 91, 91, 92, 92, 93, 95, 95, 95, 96, 97, 97, 99, 99, 99, 100, 100, 100, 101, 101, 102, 102, 104, 106, 106, 107, 107, 107, 108, 110, 111, 111, 112, 112, 112, 113, 113, 114, 115, 117, 119, 119, 120, 122, 123, 124, 124, 128, 129, 130, 131, 134, 135, 136, 136, 137, 138, 138, 139, 139, 141, 141, 143, 143, 146, 147, 155, 156, 157, 157, 158, 159, 163, 164, 166, 168, 169, 169, 170, 171, 172, 176, 177, 191, 192, 195, 198], \"xaxis\": \"x\", \"y\": [1.0, 0.0, 0.5, 1.0, 0.0, 0.3333333333333333, 0.6666666666666666, 1.0, 0.0, 0.5, 0.75, 0.25, 1.0, 0.0, 0.6, 0.4, 0.8, 0.2, 1.0, 0.0, 0.6666666666666666, 0.5, 0.3333333333333333, 0.8333333333333334, 1.0, 0.16666666666666666, 0.0, 0.5714285714285714, 0.7142857142857143, 0.42857142857142855, 0.8571428571428571, 0.2857142857142857, 1.0, 0.14285714285714285, 0.625, 0.5, 0.75, 0.375, 0.875, 0.25, 1.0, 0.125, 0.6666666666666666, 0.5555555555555556, 0.3333333333333333, 0.4444444444444444, 0.8888888888888888, 0.7777777777777778, 0.2222222222222222, 0.6, 0.4, 0.7, 0.8, 0.5, 0.3, 0.9, 0.2, 0.7272727272727273, 0.45454545454545453, 0.6363636363636364, 0.36363636363636365, 0.5454545454545454, 0.8181818181818182, 0.9090909090909091, 0.2727272727272727, 0.5833333333333334, 0.6666666666666666, 0.5, 0.75, 0.4166666666666667, 0.8333333333333334, 0.3333333333333333, 0.9166666666666666, 0.25, 0.6153846153846154, 0.46153846153846156, 0.5384615384615384, 0.6923076923076923, 0.7692307692307693, 0.38461538461538464, 0.8461538461538461, 0.3076923076923077, 0.42857142857142855, 0.5714285714285714, 0.5, 0.6428571428571429, 0.7142857142857143, 0.8571428571428571, 0.2857142857142857, 0.35714285714285715, 0.7857142857142857, 0.9285714285714286, 0.4666666666666667, 0.6666666666666666, 0.7333333333333333, 0.4, 0.5333333333333333, 0.6, 0.8, 0.26666666666666666, 0.6875, 0.5, 0.5625, 0.625, 0.75, 0.4375, 0.375, 0.8125, 0.875, 0.5294117647058824, 0.5882352941176471, 0.47058823529411764, 0.7058823529411765, 0.6470588235294118, 0.4117647058823529, 0.7647058823529411, 0.8823529411764706, 0.5555555555555556, 0.6111111111111112, 0.4444444444444444, 0.5, 0.6666666666666666, 0.7222222222222222, 0.3888888888888889, 0.3333333333333333, 0.7777777777777778, 0.47368421052631576, 0.5789473684210527, 0.5263157894736842, 0.42105263157894735, 0.631578947368421, 0.7368421052631579, 0.6842105263157895, 0.3684210526315789, 0.55, 0.5, 0.6, 0.65, 0.4, 0.45, 0.7, 0.85, 0.9, 0.6190476190476191, 0.5714285714285714, 0.5238095238095238, 0.47619047619047616, 0.7142857142857143, 0.38095238095238093, 0.42857142857142855, 0.6666666666666666, 0.3333333333333333, 0.7619047619047619, 0.8095238095238095, 0.9047619047619048, 0.5, 0.6818181818181818, 0.45454545454545453, 0.5909090909090909, 0.6363636363636364, 0.7272727272727273, 0.4090909090909091, 0.36363636363636365, 0.5454545454545454, 0.7727272727272727, 0.5217391304347826, 0.4782608695652174, 0.5652173913043478, 0.34782608695652173, 0.6521739130434783, 0.6956521739130435, 0.391304347826087, 0.6086956521739131, 0.7391304347826086, 0.5416666666666666, 0.5, 0.6666666666666666, 0.4166666666666667, 0.5833333333333334, 0.375, 0.4583333333333333, 0.625, 0.75, 0.7083333333333334, 0.56, 0.64, 0.68, 0.44, 0.52, 0.48, 0.6, 0.72, 0.84, 0.5, 0.5769230769230769, 0.6153846153846154, 0.6923076923076923, 0.4230769230769231, 0.6538461538461539, 0.7307692307692307, 0.46153846153846156, 0.8461538461538461, 0.34615384615384615, 0.38461538461538464, 0.5384615384615384, 0.5555555555555556, 0.48148148148148145, 0.5185185185185185, 0.4444444444444444, 0.5925925925925926, 0.6296296296296297, 0.6666666666666666, 0.7037037037037037, 0.8148148148148148, 0.5, 0.5714285714285714, 0.6071428571428571, 0.42857142857142855, 0.4642857142857143, 0.6785714285714286, 0.6428571428571429, 0.7142857142857143, 0.75, 0.6206896551724138, 0.4827586206896552, 0.7241379310344828, 0.7586206896551724, 0.4482758620689655, 0.5517241379310345, 0.5862068965517241, 0.41379310344827586, 0.5172413793103449, 0.6551724137931034, 0.7931034482758621, 0.6, 0.5, 0.5666666666666667, 0.43333333333333335, 0.5333333333333333, 0.7, 0.7666666666666667, 0.5483870967741935, 0.5806451612903226, 0.41935483870967744, 0.4838709677419355, 0.5161290322580645, 0.6774193548387096, 0.7096774193548387, 0.6129032258064516, 0.6451612903225806, 0.8064516129032258, 0.46875, 0.625, 0.4375, 0.5, 0.65625, 0.40625, 0.53125, 0.5625, 0.59375, 0.71875, 0.48484848484848486, 0.5454545454545454, 0.5757575757575758, 0.6060606060606061, 0.6363636363636364, 0.6666666666666666, 0.696969696969697, 0.8181818181818182, 0.5294117647058824, 0.6176470588235294, 0.5588235294117647, 0.35294117647058826, 0.47058823529411764, 0.5, 0.5882352941176471, 0.6470588235294118, 0.7058823529411765, 0.5714285714285714, 0.6, 0.6571428571428571, 0.5142857142857142, 0.5428571428571428, 0.6285714285714286, 0.6857142857142857, 0.8285714285714286, 0.6388888888888888, 0.5555555555555556, 0.6111111111111112, 0.4722222222222222, 0.6666666666666666, 0.5, 0.5277777777777778, 0.5833333333333334, 0.6944444444444444, 0.7777777777777778, 0.5675675675675675, 0.5135135135135135, 0.5405405405405406, 0.5945945945945946, 0.4594594594594595, 0.4864864864864865, 0.6486486486486487, 0.6756756756756757, 0.7837837837837838, 0.5526315789473685, 0.5789473684210527, 0.39473684210526316, 0.5, 0.6052631578947368, 0.631578947368421, 0.6578947368421053, 0.6842105263157895, 0.5384615384615384, 0.5641025641025641, 0.6153846153846154, 0.5897435897435898, 0.6666666666666666, 0.717948717948718, 0.625, 0.575, 0.425, 0.475, 0.5, 0.525, 0.6, 0.5121951219512195, 0.6585365853658537, 0.6341463414634146, 0.5609756097560976, 0.5853658536585366, 0.7073170731707317, 0.5714285714285714, 0.6666666666666666, 0.6904761904761905, 0.5, 0.5476190476190477, 0.5952380952380952, 0.6190476190476191, 0.6428571428571429, 0.6744186046511628, 0.5581395348837209, 0.46511627906976744, 0.4883720930232558, 0.5116279069767442, 0.5813953488372093, 0.6511627906976745, 0.6818181818181818, 0.6136363636363636, 0.5, 0.5454545454545454, 0.7045454545454546, 0.45454545454545453, 0.5227272727272727, 0.5681818181818182, 0.5909090909090909, 0.6590909090909091, 0.6666666666666666, 0.5111111111111111, 0.5777777777777777, 0.6, 0.4888888888888889, 0.5333333333333333, 0.5652173913043478, 0.6956521739130435, 0.4782608695652174, 0.5217391304347826, 0.5434782608695652, 0.5869565217391305, 0.6086956521739131, 0.6521739130434783, 0.5106382978723404, 0.574468085106383, 0.6170212765957447, 0.6382978723404256, 0.6808510638297872, 0.48936170212765956, 0.5957446808510638, 0.5, 0.5416666666666666, 0.5625, 0.5833333333333334, 0.625, 0.6458333333333334, 0.6666666666666666, 0.6875, 0.6122448979591837, 0.4897959183673469, 0.5510204081632653, 0.5918367346938775, 0.6938775510204082, 0.7, 0.48, 0.52, 0.6, 0.62, 0.64, 0.5490196078431373, 0.6470588235294118, 0.49019607843137253, 0.5098039215686274, 0.5294117647058824, 0.5882352941176471, 0.6078431372549019, 0.6274509803921569, 0.6862745098039216, 0.5384615384615384, 0.6153846153846154, 0.6538461538461539, 0.5192307692307693, 0.5576923076923077, 0.5961538461538461, 0.5660377358490566, 0.6037735849056604, 0.5094339622641509, 0.5849056603773585, 0.6226415094339622, 0.6415094339622641, 0.48148148148148145, 0.5, 0.5185185185185185, 0.5555555555555556, 0.5740740740740741, 0.6296296296296297, 0.4909090909090909, 0.6727272727272727, 0.6607142857142857, 0.5, 0.5892857142857143, 0.543859649122807, 0.5964912280701754, 0.631578947368421, 0.6666666666666666, 0.6896551724137931, 0.5344827586206896, 0.576271186440678, 0.6101694915254238, 0.6779661016949152, 0.45, 0.48333333333333334, 0.5166666666666667, 0.55, 0.5666666666666667, 0.5833333333333334, 0.6833333333333333, 0.45901639344262296, 0.5737704918032787, 0.6065573770491803, 0.6557377049180327, 0.5483870967741935, 0.5806451612903226, 0.5645161290322581, 0.5873015873015873, 0.6507936507936508, 0.6825396825396826, 0.47619047619047616, 0.5714285714285714, 0.53125, 0.640625, 0.47692307692307695, 0.49230769230769234, 0.5230769230769231, 0.5538461538461539, 0.6153846153846154, 0.6307692307692307, 0.7076923076923077, 0.5303030303030303, 0.5454545454545454, 0.5606060606060606, 0.6212121212121212, 0.696969696969697, 0.5223880597014925, 0.5373134328358209, 0.5522388059701493, 0.5671641791044776, 0.6268656716417911, 0.47058823529411764, 0.6029411764705882, 0.6323529411764706, 0.6231884057971014, 0.6666666666666666, 0.4782608695652174, 0.5942028985507246, 0.5714285714285714, 0.6714285714285714, 0.7, 0.5492957746478874, 0.6338028169014085, 0.676056338028169, 0.6901408450704225, 0.5, 0.5972222222222222, 0.4931506849315068, 0.5616438356164384, 0.589041095890411, 0.684931506849315, 0.5, 0.5540540540540541, 0.5675675675675675, 0.581081081081081, 0.6081081081081081, 0.6486486486486487, 0.5466666666666666, 0.68, 0.5657894736842105, 0.5526315789473685, 0.5789473684210527, 0.5921052631578947, 0.6710526315789473, 0.4935064935064935, 0.5194805194805194, 0.5584415584415584, 0.5714285714285714, 0.5974025974025974, 0.5641025641025641, 0.6025641025641025, 0.6794871794871795, 0.7051282051282052, 0.5443037974683544, 0.5569620253164557, 0.6455696202531646, 0.7088607594936709, 0.5625, 0.6, 0.5925925925925926, 0.654320987654321, 0.5609756097560976, 0.573170731707317, 0.6097560975609756, 0.4939759036144578, 0.5714285714285714, 0.5764705882352941, 0.6941176470588235, 0.6511627906976745, 0.6627906976744186, 0.4942528735632184, 0.6206896551724138, 0.6896551724137931, 0.5113636363636364, 0.5681818181818182, 0.6136363636363636, 0.6067415730337079, 0.5056179775280899, 0.5168539325842697, 0.5393258426966292, 0.5730337078651685, 0.6179775280898876, 0.6404494382022472, 0.5111111111111111, 0.5444444444444444, 0.6153846153846154, 0.6923076923076923, 0.6304347826086957, 0.5851063829787234, 0.5957446808510638, 0.6702127659574468, 0.6210526315789474, 0.5729166666666666, 0.5833333333333334, 0.5714285714285714, 0.5816326530612245, 0.6122448979591837, 0.494949494949495, 0.5757575757575758, 0.5858585858585859, 0.58, 0.59, 0.5643564356435643, 0.7128712871287128, 0.6407766990291263, 0.5619047619047619, 0.638095238095238, 0.49056603773584906, 0.5660377358490566, 0.6415094339622641, 0.5046728971962616, 0.5596330275229358, 0.5181818181818182, 0.5545454545454546, 0.5225225225225225, 0.5585585585585585, 0.6036036036036037, 0.5, 0.5892857142857143, 0.5663716814159292, 0.6403508771929824, 0.5517241379310345, 0.5423728813559322, 0.5677966101694916, 0.5714285714285714, 0.5619834710743802, 0.6229508196721312, 0.5609756097560976, 0.6341463414634146, 0.6299212598425197, 0.671875, 0.6666666666666666, 0.6692307692307692, 0.631578947368421, 0.6343283582089553, 0.6296296296296297, 0.6370370370370371, 0.625, 0.6277372262773723, 0.635036496350365, 0.6231884057971014, 0.6304347826086957, 0.6428571428571429, 0.65, 0.6267605633802817, 0.6408450704225352, 0.6275862068965518, 0.636986301369863, 0.564935064935065, 0.567741935483871, 0.5641025641025641, 0.6282051282051282, 0.5732484076433121, 0.569620253164557, 0.5432098765432098, 0.5398773006134969, 0.6181818181818182, 0.5688622754491018, 0.6071428571428571, 0.625, 0.6094674556213018, 0.5352941176470588, 0.6023391812865497, 0.5714285714285714, 0.5681818181818182, 0.6421052631578947, 0.6387434554973822, 0.634020618556701, 0.5736040609137056], \"yaxis\": \"y\"}],\n",
              "                        {\"legend\": {\"itemsizing\": \"constant\", \"tracegroupgap\": 0}, \"margin\": {\"t\": 60}, \"template\": {\"data\": {\"bar\": [{\"error_x\": {\"color\": \"#2a3f5f\"}, \"error_y\": {\"color\": \"#2a3f5f\"}, \"marker\": {\"line\": {\"color\": \"#E5ECF6\", \"width\": 0.5}}, \"type\": \"bar\"}], \"barpolar\": [{\"marker\": {\"line\": {\"color\": \"#E5ECF6\", \"width\": 0.5}}, \"type\": \"barpolar\"}], \"carpet\": [{\"aaxis\": {\"endlinecolor\": \"#2a3f5f\", \"gridcolor\": \"white\", \"linecolor\": \"white\", \"minorgridcolor\": \"white\", \"startlinecolor\": \"#2a3f5f\"}, \"baxis\": {\"endlinecolor\": \"#2a3f5f\", \"gridcolor\": \"white\", \"linecolor\": \"white\", \"minorgridcolor\": \"white\", \"startlinecolor\": \"#2a3f5f\"}, \"type\": \"carpet\"}], \"choropleth\": [{\"colorbar\": {\"outlinewidth\": 0, \"ticks\": \"\"}, \"type\": \"choropleth\"}], \"contour\": [{\"colorbar\": {\"outlinewidth\": 0, \"ticks\": \"\"}, \"colorscale\": [[0.0, \"#0d0887\"], [0.1111111111111111, \"#46039f\"], [0.2222222222222222, \"#7201a8\"], [0.3333333333333333, \"#9c179e\"], [0.4444444444444444, \"#bd3786\"], [0.5555555555555556, \"#d8576b\"], [0.6666666666666666, \"#ed7953\"], [0.7777777777777778, \"#fb9f3a\"], [0.8888888888888888, \"#fdca26\"], [1.0, \"#f0f921\"]], \"type\": \"contour\"}], \"contourcarpet\": [{\"colorbar\": {\"outlinewidth\": 0, \"ticks\": \"\"}, \"type\": \"contourcarpet\"}], \"heatmap\": [{\"colorbar\": {\"outlinewidth\": 0, \"ticks\": \"\"}, \"colorscale\": [[0.0, \"#0d0887\"], [0.1111111111111111, \"#46039f\"], [0.2222222222222222, \"#7201a8\"], [0.3333333333333333, \"#9c179e\"], [0.4444444444444444, \"#bd3786\"], [0.5555555555555556, \"#d8576b\"], [0.6666666666666666, \"#ed7953\"], [0.7777777777777778, \"#fb9f3a\"], [0.8888888888888888, \"#fdca26\"], [1.0, \"#f0f921\"]], \"type\": \"heatmap\"}], \"heatmapgl\": [{\"colorbar\": {\"outlinewidth\": 0, \"ticks\": \"\"}, \"colorscale\": [[0.0, \"#0d0887\"], [0.1111111111111111, \"#46039f\"], [0.2222222222222222, \"#7201a8\"], [0.3333333333333333, \"#9c179e\"], [0.4444444444444444, \"#bd3786\"], [0.5555555555555556, \"#d8576b\"], [0.6666666666666666, \"#ed7953\"], [0.7777777777777778, \"#fb9f3a\"], [0.8888888888888888, \"#fdca26\"], [1.0, \"#f0f921\"]], \"type\": \"heatmapgl\"}], \"histogram\": [{\"marker\": {\"colorbar\": {\"outlinewidth\": 0, \"ticks\": \"\"}}, \"type\": \"histogram\"}], \"histogram2d\": [{\"colorbar\": {\"outlinewidth\": 0, \"ticks\": \"\"}, \"colorscale\": [[0.0, \"#0d0887\"], [0.1111111111111111, \"#46039f\"], [0.2222222222222222, \"#7201a8\"], [0.3333333333333333, \"#9c179e\"], [0.4444444444444444, \"#bd3786\"], [0.5555555555555556, \"#d8576b\"], [0.6666666666666666, \"#ed7953\"], [0.7777777777777778, \"#fb9f3a\"], [0.8888888888888888, \"#fdca26\"], [1.0, \"#f0f921\"]], \"type\": \"histogram2d\"}], \"histogram2dcontour\": [{\"colorbar\": {\"outlinewidth\": 0, \"ticks\": \"\"}, \"colorscale\": [[0.0, \"#0d0887\"], [0.1111111111111111, \"#46039f\"], [0.2222222222222222, \"#7201a8\"], [0.3333333333333333, \"#9c179e\"], [0.4444444444444444, \"#bd3786\"], [0.5555555555555556, \"#d8576b\"], [0.6666666666666666, \"#ed7953\"], [0.7777777777777778, \"#fb9f3a\"], [0.8888888888888888, \"#fdca26\"], [1.0, \"#f0f921\"]], \"type\": \"histogram2dcontour\"}], \"mesh3d\": [{\"colorbar\": {\"outlinewidth\": 0, \"ticks\": \"\"}, \"type\": \"mesh3d\"}], \"parcoords\": [{\"line\": {\"colorbar\": {\"outlinewidth\": 0, \"ticks\": \"\"}}, \"type\": \"parcoords\"}], \"pie\": [{\"automargin\": true, \"type\": \"pie\"}], \"scatter\": [{\"marker\": {\"colorbar\": {\"outlinewidth\": 0, \"ticks\": \"\"}}, \"type\": \"scatter\"}], \"scatter3d\": [{\"line\": {\"colorbar\": {\"outlinewidth\": 0, \"ticks\": \"\"}}, \"marker\": {\"colorbar\": {\"outlinewidth\": 0, \"ticks\": \"\"}}, \"type\": \"scatter3d\"}], \"scattercarpet\": [{\"marker\": {\"colorbar\": {\"outlinewidth\": 0, \"ticks\": \"\"}}, \"type\": \"scattercarpet\"}], \"scattergeo\": [{\"marker\": {\"colorbar\": {\"outlinewidth\": 0, \"ticks\": \"\"}}, \"type\": \"scattergeo\"}], \"scattergl\": [{\"marker\": {\"colorbar\": {\"outlinewidth\": 0, \"ticks\": \"\"}}, \"type\": \"scattergl\"}], \"scattermapbox\": [{\"marker\": {\"colorbar\": {\"outlinewidth\": 0, \"ticks\": \"\"}}, \"type\": \"scattermapbox\"}], \"scatterpolar\": [{\"marker\": {\"colorbar\": {\"outlinewidth\": 0, \"ticks\": \"\"}}, \"type\": \"scatterpolar\"}], \"scatterpolargl\": [{\"marker\": {\"colorbar\": {\"outlinewidth\": 0, \"ticks\": \"\"}}, \"type\": \"scatterpolargl\"}], \"scatterternary\": [{\"marker\": {\"colorbar\": {\"outlinewidth\": 0, \"ticks\": \"\"}}, \"type\": \"scatterternary\"}], \"surface\": [{\"colorbar\": {\"outlinewidth\": 0, \"ticks\": \"\"}, \"colorscale\": [[0.0, \"#0d0887\"], [0.1111111111111111, \"#46039f\"], [0.2222222222222222, \"#7201a8\"], [0.3333333333333333, \"#9c179e\"], [0.4444444444444444, \"#bd3786\"], [0.5555555555555556, \"#d8576b\"], [0.6666666666666666, \"#ed7953\"], [0.7777777777777778, \"#fb9f3a\"], [0.8888888888888888, \"#fdca26\"], [1.0, \"#f0f921\"]], \"type\": \"surface\"}], \"table\": [{\"cells\": {\"fill\": {\"color\": \"#EBF0F8\"}, \"line\": {\"color\": \"white\"}}, \"header\": {\"fill\": {\"color\": \"#C8D4E3\"}, \"line\": {\"color\": \"white\"}}, \"type\": \"table\"}]}, \"layout\": {\"annotationdefaults\": {\"arrowcolor\": \"#2a3f5f\", \"arrowhead\": 0, \"arrowwidth\": 1}, \"coloraxis\": {\"colorbar\": {\"outlinewidth\": 0, \"ticks\": \"\"}}, \"colorscale\": {\"diverging\": [[0, \"#8e0152\"], [0.1, \"#c51b7d\"], [0.2, \"#de77ae\"], [0.3, \"#f1b6da\"], [0.4, \"#fde0ef\"], [0.5, \"#f7f7f7\"], [0.6, \"#e6f5d0\"], [0.7, \"#b8e186\"], [0.8, \"#7fbc41\"], [0.9, \"#4d9221\"], [1, \"#276419\"]], \"sequential\": [[0.0, \"#0d0887\"], [0.1111111111111111, \"#46039f\"], [0.2222222222222222, \"#7201a8\"], [0.3333333333333333, \"#9c179e\"], [0.4444444444444444, \"#bd3786\"], [0.5555555555555556, \"#d8576b\"], [0.6666666666666666, \"#ed7953\"], [0.7777777777777778, \"#fb9f3a\"], [0.8888888888888888, \"#fdca26\"], [1.0, \"#f0f921\"]], \"sequentialminus\": [[0.0, \"#0d0887\"], [0.1111111111111111, \"#46039f\"], [0.2222222222222222, \"#7201a8\"], [0.3333333333333333, \"#9c179e\"], [0.4444444444444444, \"#bd3786\"], [0.5555555555555556, \"#d8576b\"], [0.6666666666666666, \"#ed7953\"], [0.7777777777777778, \"#fb9f3a\"], [0.8888888888888888, \"#fdca26\"], [1.0, \"#f0f921\"]]}, \"colorway\": [\"#636efa\", \"#EF553B\", \"#00cc96\", \"#ab63fa\", \"#FFA15A\", \"#19d3f3\", \"#FF6692\", \"#B6E880\", \"#FF97FF\", \"#FECB52\"], \"font\": {\"color\": \"#2a3f5f\"}, \"geo\": {\"bgcolor\": \"white\", \"lakecolor\": \"white\", \"landcolor\": \"#E5ECF6\", \"showlakes\": true, \"showland\": true, \"subunitcolor\": \"white\"}, \"hoverlabel\": {\"align\": \"left\"}, \"hovermode\": \"closest\", \"mapbox\": {\"style\": \"light\"}, \"paper_bgcolor\": \"white\", \"plot_bgcolor\": \"#E5ECF6\", \"polar\": {\"angularaxis\": {\"gridcolor\": \"white\", \"linecolor\": \"white\", \"ticks\": \"\"}, \"bgcolor\": \"#E5ECF6\", \"radialaxis\": {\"gridcolor\": \"white\", \"linecolor\": \"white\", \"ticks\": \"\"}}, \"scene\": {\"xaxis\": {\"backgroundcolor\": \"#E5ECF6\", \"gridcolor\": \"white\", \"gridwidth\": 2, \"linecolor\": \"white\", \"showbackground\": true, \"ticks\": \"\", \"zerolinecolor\": \"white\"}, \"yaxis\": {\"backgroundcolor\": \"#E5ECF6\", \"gridcolor\": \"white\", \"gridwidth\": 2, \"linecolor\": \"white\", \"showbackground\": true, \"ticks\": \"\", \"zerolinecolor\": \"white\"}, \"zaxis\": {\"backgroundcolor\": \"#E5ECF6\", \"gridcolor\": \"white\", \"gridwidth\": 2, \"linecolor\": \"white\", \"showbackground\": true, \"ticks\": \"\", \"zerolinecolor\": \"white\"}}, \"shapedefaults\": {\"line\": {\"color\": \"#2a3f5f\"}}, \"ternary\": {\"aaxis\": {\"gridcolor\": \"white\", \"linecolor\": \"white\", \"ticks\": \"\"}, \"baxis\": {\"gridcolor\": \"white\", \"linecolor\": \"white\", \"ticks\": \"\"}, \"bgcolor\": \"#E5ECF6\", \"caxis\": {\"gridcolor\": \"white\", \"linecolor\": \"white\", \"ticks\": \"\"}}, \"title\": {\"x\": 0.05}, \"xaxis\": {\"automargin\": true, \"gridcolor\": \"white\", \"linecolor\": \"white\", \"ticks\": \"\", \"title\": {\"standoff\": 15}, \"zerolinecolor\": \"white\", \"zerolinewidth\": 2}, \"yaxis\": {\"automargin\": true, \"gridcolor\": \"white\", \"linecolor\": \"white\", \"ticks\": \"\", \"title\": {\"standoff\": 15}, \"zerolinecolor\": \"white\", \"zerolinewidth\": 2}}}, \"xaxis\": {\"anchor\": \"y\", \"domain\": [0.0, 1.0], \"title\": {\"text\": \"Length\"}}, \"yaxis\": {\"anchor\": \"x\", \"domain\": [0.0, 1.0], \"title\": {\"text\": \"%Homochirality\"}}},\n",
              "                        {\"responsive\": true}\n",
              "                    ).then(function(){\n",
              "                            \n",
              "var gd = document.getElementById('e73641fc-56ca-46d5-8b6d-4f610e1d4a18');\n",
              "var x = new MutationObserver(function (mutations, observer) {{\n",
              "        var display = window.getComputedStyle(gd).display;\n",
              "        if (!display || display === 'none') {{\n",
              "            console.log([gd, 'removed!']);\n",
              "            Plotly.purge(gd);\n",
              "            observer.disconnect();\n",
              "        }}\n",
              "}});\n",
              "\n",
              "// Listen for the removal of the full notebook cells\n",
              "var notebookContainer = gd.closest('#notebook-container');\n",
              "if (notebookContainer) {{\n",
              "    x.observe(notebookContainer, {childList: true});\n",
              "}}\n",
              "\n",
              "// Listen for the clearing of the current output cell\n",
              "var outputEl = gd.closest('.output');\n",
              "if (outputEl) {{\n",
              "    x.observe(outputEl, {childList: true});\n",
              "}}\n",
              "\n",
              "                        })\n",
              "                };\n",
              "                \n",
              "            </script>\n",
              "        </div>\n",
              "</body>\n",
              "</html>"
            ]
          },
          "metadata": {
            "tags": [
              "id11_content_5",
              "outputarea_id11",
              "user_output"
            ]
          }
        },
        {
          "output_type": "display_data",
          "data": {
            "application/javascript": [
              "window[\"01bd3f18-bd77-11ea-920b-0242ac1c0002\"] = google.colab.output.setActiveOutputArea(window[\"015a5ab0-bd77-11ea-920b-0242ac1c0002\"]);\n",
              "//# sourceURL=js_9c6eeae8ee"
            ],
            "text/plain": [
              "<IPython.core.display.Javascript object>"
            ]
          },
          "metadata": {
            "tags": [
              "id11_content_5",
              "outputarea_id11"
            ]
          }
        },
        {
          "output_type": "display_data",
          "data": {
            "application/javascript": [
              "window[\"01be8f8a-bd77-11ea-920b-0242ac1c0002\"] = google.colab.output.getActiveOutputArea();\n",
              "//# sourceURL=js_be0988841e"
            ],
            "text/plain": [
              "<IPython.core.display.Javascript object>"
            ]
          },
          "metadata": {
            "tags": [
              "id11_content_7",
              "outputarea_id11"
            ]
          }
        },
        {
          "output_type": "display_data",
          "data": {
            "application/javascript": [
              "window[\"01bed120-bd77-11ea-920b-0242ac1c0002\"] = document.querySelector(\"#id11_content_7\");\n",
              "//# sourceURL=js_f2d0a05169"
            ],
            "text/plain": [
              "<IPython.core.display.Javascript object>"
            ]
          },
          "metadata": {
            "tags": [
              "id11_content_7",
              "outputarea_id11"
            ]
          }
        },
        {
          "output_type": "display_data",
          "data": {
            "application/javascript": [
              "window[\"01bf2b52-bd77-11ea-920b-0242ac1c0002\"] = google.colab.output.setActiveOutputArea(window[\"01bed120-bd77-11ea-920b-0242ac1c0002\"]);\n",
              "//# sourceURL=js_99ca67befe"
            ],
            "text/plain": [
              "<IPython.core.display.Javascript object>"
            ]
          },
          "metadata": {
            "tags": [
              "id11_content_7",
              "outputarea_id11"
            ]
          }
        },
        {
          "output_type": "display_data",
          "data": {
            "application/javascript": [
              "window[\"01bf9970-bd77-11ea-920b-0242ac1c0002\"] = window[\"id11\"].setSelectedTabIndex(7);\n",
              "//# sourceURL=js_2d328146e9"
            ],
            "text/plain": [
              "<IPython.core.display.Javascript object>"
            ]
          },
          "metadata": {
            "tags": [
              "id11_content_7",
              "outputarea_id11"
            ]
          }
        },
        {
          "output_type": "display_data",
          "data": {
            "text/html": [
              "<html>\n",
              "<head><meta charset=\"utf-8\" /></head>\n",
              "<body>\n",
              "    <div>\n",
              "            <script src=\"https://cdnjs.cloudflare.com/ajax/libs/mathjax/2.7.5/MathJax.js?config=TeX-AMS-MML_SVG\"></script><script type=\"text/javascript\">if (window.MathJax) {MathJax.Hub.Config({SVG: {font: \"STIX-Web\"}});}</script>\n",
              "                <script type=\"text/javascript\">window.PlotlyConfig = {MathJaxConfig: 'local'};</script>\n",
              "        <script src=\"https://cdn.plot.ly/plotly-latest.min.js\"></script>    \n",
              "            <div id=\"9d43cc89-25f3-4b5e-8a69-d467e8edf1d8\" class=\"plotly-graph-div\" style=\"height:525px; width:100%;\"></div>\n",
              "            <script type=\"text/javascript\">\n",
              "                \n",
              "                    window.PLOTLYENV=window.PLOTLYENV || {};\n",
              "                    \n",
              "                if (document.getElementById(\"9d43cc89-25f3-4b5e-8a69-d467e8edf1d8\")) {\n",
              "                    Plotly.newPlot(\n",
              "                        '9d43cc89-25f3-4b5e-8a69-d467e8edf1d8',\n",
              "                        [{\"hoverlabel\": {\"namelength\": 0}, \"hovertemplate\": \"Age=%{x}<br>%Homochirality=%{y}<br>count=%{marker.size}\", \"legendgroup\": \"\", \"marker\": {\"color\": \"#636efa\", \"line\": {\"color\": \"DarkSlateGrey\"}, \"size\": [373, 309, 87, 50, 35, 30, 18, 14, 13, 12, 10, 9, 9, 8, 8, 8, 7, 6, 6, 5, 5, 5, 5, 4, 4, 4, 4, 4, 3, 3, 3, 3, 3, 3, 3, 3, 2, 2, 2, 2, 2, 2, 2, 2, 2, 2, 2, 2, 2, 2, 2, 2, 2, 2, 2, 2, 1, 1, 1, 1, 1, 1, 1, 1, 1, 1, 1, 1, 1, 1, 1, 1, 1, 1, 1, 1, 1, 1, 1, 1, 1, 1, 1, 1, 1, 1, 1, 1, 1, 1, 1, 1, 1, 1, 1, 1, 1, 1, 1, 1, 1, 1, 1, 1, 1, 1, 1, 1, 1, 1, 1, 1, 1, 1, 1, 1, 1, 1, 1, 1, 1, 1, 1, 1, 1, 1, 1, 1, 1, 1, 146, 127, 90, 26, 24, 16, 14, 11, 8, 8, 8, 7, 6, 5, 5, 4, 3, 3, 3, 3, 3, 3, 3, 3, 3, 2, 2, 2, 2, 2, 2, 2, 2, 2, 2, 2, 2, 2, 2, 2, 2, 1, 1, 1, 1, 1, 1, 1, 1, 1, 1, 1, 1, 1, 1, 1, 1, 1, 1, 1, 1, 1, 1, 1, 1, 1, 1, 1, 1, 1, 1, 1, 1, 1, 1, 1, 1, 1, 1, 1, 1, 1, 68, 48, 41, 39, 29, 25, 10, 10, 10, 8, 5, 5, 4, 4, 4, 3, 3, 3, 3, 3, 3, 2, 2, 2, 2, 2, 2, 2, 2, 2, 2, 2, 1, 1, 1, 1, 1, 1, 1, 1, 1, 1, 1, 1, 1, 1, 1, 1, 1, 1, 1, 1, 1, 1, 1, 1, 1, 1, 1, 1, 1, 1, 1, 1, 1, 1, 1, 1, 1, 1, 1, 1, 1, 1, 1, 1, 1, 1, 40, 39, 23, 20, 18, 16, 15, 9, 7, 5, 5, 4, 4, 3, 2, 2, 2, 2, 2, 2, 2, 2, 2, 2, 2, 2, 1, 1, 1, 1, 1, 1, 1, 1, 1, 1, 1, 1, 1, 1, 1, 1, 1, 1, 1, 1, 1, 1, 1, 1, 1, 1, 1, 1, 1, 1, 1, 1, 1, 1, 1, 1, 1, 1, 1, 1, 1, 1, 1, 1, 1, 30, 30, 16, 11, 11, 10, 7, 7, 5, 5, 5, 4, 3, 3, 3, 2, 2, 2, 2, 2, 2, 2, 1, 1, 1, 1, 1, 1, 1, 1, 1, 1, 1, 1, 1, 1, 1, 1, 1, 1, 1, 1, 1, 1, 1, 1, 1, 1, 1, 1, 1, 1, 1, 1, 1, 1, 1, 1, 1, 1, 1, 1, 1, 1, 1, 1, 18, 13, 10, 9, 8, 7, 6, 5, 5, 4, 4, 3, 3, 3, 3, 2, 2, 2, 2, 2, 1, 1, 1, 1, 1, 1, 1, 1, 1, 1, 1, 1, 1, 1, 1, 1, 1, 1, 1, 1, 1, 1, 1, 1, 1, 1, 1, 1, 1, 1, 1, 1, 1, 1, 1, 1, 1, 1, 1, 1, 1, 1, 19, 12, 9, 9, 5, 4, 4, 3, 3, 3, 2, 2, 2, 2, 2, 2, 2, 2, 2, 1, 1, 1, 1, 1, 1, 1, 1, 1, 1, 1, 1, 1, 1, 1, 1, 1, 1, 1, 1, 1, 1, 1, 1, 1, 1, 1, 1, 1, 1, 1, 1, 1, 1, 1, 1, 1, 1, 1, 11, 9, 7, 7, 6, 6, 3, 3, 3, 3, 2, 2, 2, 2, 2, 2, 1, 1, 1, 1, 1, 1, 1, 1, 1, 1, 1, 1, 1, 1, 1, 1, 1, 1, 1, 1, 1, 1, 1, 1, 1, 1, 1, 1, 1, 1, 1, 1, 1, 1, 1, 1, 12, 8, 8, 7, 4, 4, 3, 3, 2, 2, 1, 1, 1, 1, 1, 1, 1, 1, 1, 1, 1, 1, 1, 1, 1, 1, 1, 1, 1, 1, 1, 1, 1, 1, 1, 1, 1, 1, 1, 1, 1, 1, 1, 1, 8, 5, 5, 4, 4, 3, 3, 2, 2, 2, 2, 1, 1, 1, 1, 1, 1, 1, 1, 1, 1, 1, 1, 1, 1, 1, 1, 1, 1, 1, 1, 1, 1, 1, 1, 1, 1, 1, 1, 1, 1, 1, 1, 1, 1, 1, 13, 4, 3, 3, 3, 3, 2, 2, 2, 2, 2, 1, 1, 1, 1, 1, 1, 1, 1, 1, 1, 1, 1, 1, 1, 1, 1, 1, 1, 1, 1, 1, 1, 1, 1, 1, 4, 4, 3, 3, 2, 2, 2, 2, 2, 2, 2, 2, 2, 1, 1, 1, 1, 1, 1, 1, 1, 1, 1, 1, 1, 1, 1, 1, 1, 1, 1, 1, 1, 1, 1, 1, 1, 1, 1, 1, 1, 5, 5, 3, 2, 2, 2, 2, 2, 2, 2, 2, 1, 1, 1, 1, 1, 1, 1, 1, 1, 1, 1, 1, 1, 1, 1, 1, 1, 1, 1, 1, 1, 1, 1, 1, 1, 4, 3, 2, 2, 2, 2, 2, 2, 2, 2, 2, 1, 1, 1, 1, 1, 1, 1, 1, 1, 1, 1, 1, 1, 1, 1, 1, 1, 1, 1, 1, 5, 3, 3, 2, 2, 1, 1, 1, 1, 1, 1, 1, 1, 1, 1, 1, 1, 1, 1, 1, 1, 1, 1, 1, 1, 1, 1, 1, 1, 1, 1, 3, 3, 2, 2, 2, 2, 2, 1, 1, 1, 1, 1, 1, 1, 1, 1, 1, 1, 1, 1, 1, 1, 1, 1, 1, 1, 1, 1, 4, 2, 2, 2, 2, 2, 2, 1, 1, 1, 1, 1, 1, 1, 1, 1, 1, 1, 1, 1, 1, 1, 1, 1, 5, 2, 1, 1, 1, 1, 1, 1, 1, 1, 1, 1, 1, 1, 1, 1, 1, 1, 1, 1, 1, 1, 1, 1, 1, 3, 1, 1, 1, 1, 1, 1, 1, 1, 1, 1, 1, 1, 1, 1, 1, 1, 1, 1, 1, 1, 1, 1, 1, 1, 3, 2, 2, 2, 2, 1, 1, 1, 1, 1, 1, 1, 1, 1, 1, 1, 1, 3, 3, 3, 2, 1, 1, 1, 1, 1, 1, 1, 1, 1, 1, 1, 1, 3, 3, 2, 1, 1, 1, 1, 1, 1, 1, 1, 1, 1, 1, 1, 1, 2, 1, 1, 1, 1, 1, 1, 1, 1, 1, 1, 1, 1, 1, 1, 1, 1, 1, 2, 2, 1, 1, 1, 1, 1, 1, 1, 1, 1, 1, 1, 1, 1, 2, 2, 1, 1, 1, 1, 1, 1, 1, 1, 1, 1, 1, 2, 2, 2, 1, 1, 1, 1, 1, 1, 1, 1, 1, 1, 1, 1, 1, 1, 1, 1, 1, 1, 1, 1, 1, 3, 2, 1, 1, 1, 1, 1, 1, 2, 1, 1, 1, 1, 1, 1, 1, 1, 1, 1, 1, 1, 1, 1, 1, 1, 1, 1, 1, 1, 1, 1, 1, 1, 1, 1, 1, 1, 1, 1, 1, 1, 1, 1, 1, 1, 1, 1, 1, 1, 1, 1, 1, 1, 1, 1, 1, 1, 1, 1, 1, 1, 1, 1, 2, 1, 1, 1, 1, 1, 1, 1, 1, 1, 1, 1, 1, 1, 1, 1, 1, 1, 1, 1, 1, 1, 1, 1, 1, 1, 1, 1, 1, 1, 1, 1, 1, 1, 1, 1, 1, 1, 1, 1, 1, 1, 1, 1, 1, 1, 1, 1, 1, 1, 1, 1, 1, 1, 1, 1, 1, 1, 1, 1, 1, 1, 1, 1, 1, 1, 1, 1, 1, 1, 2, 1, 1, 1, 1, 1, 1, 1, 1, 1, 1, 2, 1, 1, 1, 1, 1, 1, 1, 1, 1, 1, 1, 1, 1, 1, 1, 1, 1, 1, 1, 1, 1, 1, 1, 1, 1, 1, 1, 1, 1, 1, 1, 1, 1, 1, 1, 1, 1, 1, 1, 1, 1, 1, 1, 1, 1, 1, 1, 1, 1, 1, 1, 1, 1, 1, 1, 1, 1, 1, 1, 1, 1, 1, 1, 1, 1, 1, 1, 1, 1, 1, 1, 1, 1, 1], \"sizemode\": \"area\", \"sizeref\": 0.9325, \"symbol\": \"circle\"}, \"mode\": \"markers\", \"name\": \"\", \"showlegend\": false, \"type\": \"scattergl\", \"x\": [0, 0, 0, 0, 0, 0, 0, 0, 0, 0, 0, 0, 0, 0, 0, 0, 0, 0, 0, 0, 0, 0, 0, 0, 0, 0, 0, 0, 0, 0, 0, 0, 0, 0, 0, 0, 0, 0, 0, 0, 0, 0, 0, 0, 0, 0, 0, 0, 0, 0, 0, 0, 0, 0, 0, 0, 0, 0, 0, 0, 0, 0, 0, 0, 0, 0, 0, 0, 0, 0, 0, 0, 0, 0, 0, 0, 0, 0, 0, 0, 0, 0, 0, 0, 0, 0, 0, 0, 0, 0, 0, 0, 0, 0, 0, 0, 0, 0, 0, 0, 0, 0, 0, 0, 0, 0, 0, 0, 0, 0, 0, 0, 0, 0, 0, 0, 0, 0, 0, 0, 0, 0, 0, 0, 0, 0, 0, 0, 0, 0, 1, 1, 1, 1, 1, 1, 1, 1, 1, 1, 1, 1, 1, 1, 1, 1, 1, 1, 1, 1, 1, 1, 1, 1, 1, 1, 1, 1, 1, 1, 1, 1, 1, 1, 1, 1, 1, 1, 1, 1, 1, 1, 1, 1, 1, 1, 1, 1, 1, 1, 1, 1, 1, 1, 1, 1, 1, 1, 1, 1, 1, 1, 1, 1, 1, 1, 1, 1, 1, 1, 1, 1, 1, 1, 1, 1, 1, 1, 1, 1, 1, 1, 2, 2, 2, 2, 2, 2, 2, 2, 2, 2, 2, 2, 2, 2, 2, 2, 2, 2, 2, 2, 2, 2, 2, 2, 2, 2, 2, 2, 2, 2, 2, 2, 2, 2, 2, 2, 2, 2, 2, 2, 2, 2, 2, 2, 2, 2, 2, 2, 2, 2, 2, 2, 2, 2, 2, 2, 2, 2, 2, 2, 2, 2, 2, 2, 2, 2, 2, 2, 2, 2, 2, 2, 2, 2, 2, 2, 2, 2, 3, 3, 3, 3, 3, 3, 3, 3, 3, 3, 3, 3, 3, 3, 3, 3, 3, 3, 3, 3, 3, 3, 3, 3, 3, 3, 3, 3, 3, 3, 3, 3, 3, 3, 3, 3, 3, 3, 3, 3, 3, 3, 3, 3, 3, 3, 3, 3, 3, 3, 3, 3, 3, 3, 3, 3, 3, 3, 3, 3, 3, 3, 3, 3, 3, 3, 3, 3, 3, 3, 3, 4, 4, 4, 4, 4, 4, 4, 4, 4, 4, 4, 4, 4, 4, 4, 4, 4, 4, 4, 4, 4, 4, 4, 4, 4, 4, 4, 4, 4, 4, 4, 4, 4, 4, 4, 4, 4, 4, 4, 4, 4, 4, 4, 4, 4, 4, 4, 4, 4, 4, 4, 4, 4, 4, 4, 4, 4, 4, 4, 4, 4, 4, 4, 4, 4, 4, 5, 5, 5, 5, 5, 5, 5, 5, 5, 5, 5, 5, 5, 5, 5, 5, 5, 5, 5, 5, 5, 5, 5, 5, 5, 5, 5, 5, 5, 5, 5, 5, 5, 5, 5, 5, 5, 5, 5, 5, 5, 5, 5, 5, 5, 5, 5, 5, 5, 5, 5, 5, 5, 5, 5, 5, 5, 5, 5, 5, 5, 5, 6, 6, 6, 6, 6, 6, 6, 6, 6, 6, 6, 6, 6, 6, 6, 6, 6, 6, 6, 6, 6, 6, 6, 6, 6, 6, 6, 6, 6, 6, 6, 6, 6, 6, 6, 6, 6, 6, 6, 6, 6, 6, 6, 6, 6, 6, 6, 6, 6, 6, 6, 6, 6, 6, 6, 6, 6, 6, 7, 7, 7, 7, 7, 7, 7, 7, 7, 7, 7, 7, 7, 7, 7, 7, 7, 7, 7, 7, 7, 7, 7, 7, 7, 7, 7, 7, 7, 7, 7, 7, 7, 7, 7, 7, 7, 7, 7, 7, 7, 7, 7, 7, 7, 7, 7, 7, 7, 7, 7, 7, 8, 8, 8, 8, 8, 8, 8, 8, 8, 8, 8, 8, 8, 8, 8, 8, 8, 8, 8, 8, 8, 8, 8, 8, 8, 8, 8, 8, 8, 8, 8, 8, 8, 8, 8, 8, 8, 8, 8, 8, 8, 8, 8, 8, 9, 9, 9, 9, 9, 9, 9, 9, 9, 9, 9, 9, 9, 9, 9, 9, 9, 9, 9, 9, 9, 9, 9, 9, 9, 9, 9, 9, 9, 9, 9, 9, 9, 9, 9, 9, 9, 9, 9, 9, 9, 9, 9, 9, 9, 9, 10, 10, 10, 10, 10, 10, 10, 10, 10, 10, 10, 10, 10, 10, 10, 10, 10, 10, 10, 10, 10, 10, 10, 10, 10, 10, 10, 10, 10, 10, 10, 10, 10, 10, 10, 10, 11, 11, 11, 11, 11, 11, 11, 11, 11, 11, 11, 11, 11, 11, 11, 11, 11, 11, 11, 11, 11, 11, 11, 11, 11, 11, 11, 11, 11, 11, 11, 11, 11, 11, 11, 11, 11, 11, 11, 11, 11, 12, 12, 12, 12, 12, 12, 12, 12, 12, 12, 12, 12, 12, 12, 12, 12, 12, 12, 12, 12, 12, 12, 12, 12, 12, 12, 12, 12, 12, 12, 12, 12, 12, 12, 12, 12, 13, 13, 13, 13, 13, 13, 13, 13, 13, 13, 13, 13, 13, 13, 13, 13, 13, 13, 13, 13, 13, 13, 13, 13, 13, 13, 13, 13, 13, 13, 13, 14, 14, 14, 14, 14, 14, 14, 14, 14, 14, 14, 14, 14, 14, 14, 14, 14, 14, 14, 14, 14, 14, 14, 14, 14, 14, 14, 14, 14, 14, 14, 15, 15, 15, 15, 15, 15, 15, 15, 15, 15, 15, 15, 15, 15, 15, 15, 15, 15, 15, 15, 15, 15, 15, 15, 15, 15, 15, 15, 16, 16, 16, 16, 16, 16, 16, 16, 16, 16, 16, 16, 16, 16, 16, 16, 16, 16, 16, 16, 16, 16, 16, 16, 17, 17, 17, 17, 17, 17, 17, 17, 17, 17, 17, 17, 17, 17, 17, 17, 17, 17, 17, 17, 17, 17, 17, 17, 17, 18, 18, 18, 18, 18, 18, 18, 18, 18, 18, 18, 18, 18, 18, 18, 18, 18, 18, 18, 18, 18, 18, 18, 18, 18, 19, 19, 19, 19, 19, 19, 19, 19, 19, 19, 19, 19, 19, 19, 19, 19, 19, 20, 20, 20, 20, 20, 20, 20, 20, 20, 20, 20, 20, 20, 20, 20, 20, 21, 21, 21, 21, 21, 21, 21, 21, 21, 21, 21, 21, 21, 21, 21, 21, 22, 22, 22, 22, 22, 22, 22, 22, 22, 22, 22, 22, 22, 22, 22, 22, 22, 22, 23, 23, 23, 23, 23, 23, 23, 23, 23, 23, 23, 23, 23, 23, 23, 24, 24, 24, 24, 24, 24, 24, 24, 24, 24, 24, 24, 24, 25, 25, 25, 25, 25, 25, 25, 25, 25, 25, 25, 26, 26, 26, 26, 26, 26, 26, 26, 26, 26, 26, 26, 26, 27, 27, 27, 27, 27, 27, 27, 27, 28, 28, 28, 28, 28, 28, 28, 28, 28, 29, 29, 29, 29, 29, 29, 29, 29, 30, 30, 30, 30, 30, 30, 30, 30, 31, 31, 31, 31, 31, 31, 31, 31, 32, 32, 32, 32, 32, 32, 32, 32, 33, 33, 33, 33, 33, 33, 33, 34, 34, 34, 34, 34, 34, 34, 35, 35, 35, 35, 35, 35, 36, 36, 36, 36, 36, 36, 36, 37, 37, 37, 37, 37, 37, 37, 38, 38, 38, 38, 38, 38, 38, 39, 39, 39, 39, 39, 39, 39, 40, 40, 40, 40, 40, 40, 41, 41, 41, 41, 41, 41, 42, 42, 42, 42, 42, 42, 43, 43, 43, 43, 43, 43, 44, 44, 44, 44, 44, 44, 45, 45, 45, 45, 45, 45, 46, 46, 46, 46, 46, 47, 47, 47, 47, 47, 47, 48, 48, 48, 48, 48, 49, 49, 49, 49, 49, 49, 50, 50, 50, 50, 50, 50, 51, 51, 51, 51, 51, 51, 52, 52, 52, 52, 52, 52, 53, 53, 53, 53, 53, 54, 54, 54, 54, 55, 55, 55, 56, 56, 56, 57, 57, 57, 58, 58, 58, 59, 59, 59, 60, 60, 60, 61, 62, 63, 64, 65, 66, 67, 68, 69, 70, 71, 72, 73, 74, 75, 76, 77, 78, 79], \"xaxis\": \"x\", \"y\": [1.0, 0.0, 0.5, 0.6666666666666666, 0.3333333333333333, 0.75, 0.6, 0.4, 0.5714285714285714, 0.625, 0.7142857142857143, 0.42857142857142855, 0.8, 0.2, 0.5555555555555556, 0.8333333333333334, 0.7, 0.6153846153846154, 0.7272727272727273, 0.25, 0.4444444444444444, 0.46153846153846156, 0.875, 0.5384615384615384, 0.5833333333333334, 0.6428571428571429, 0.6923076923076923, 0.8571428571428571, 0.2857142857142857, 0.36363636363636365, 0.38461538461538464, 0.5294117647058824, 0.64, 0.6818181818181818, 0.8181818181818182, 0.8461538461538461, 0.16666666666666666, 0.3, 0.4375, 0.45454545454545453, 0.4666666666666667, 0.47368421052631576, 0.5416666666666666, 0.5454545454545454, 0.5483870967741935, 0.5526315789473685, 0.5675675675675675, 0.5882352941176471, 0.6111111111111112, 0.68, 0.6875, 0.7058823529411765, 0.7333333333333333, 0.7368421052631579, 0.7777777777777778, 0.8888888888888888, 0.125, 0.14285714285714285, 0.2222222222222222, 0.2727272727272727, 0.34615384615384615, 0.34782608695652173, 0.35714285714285715, 0.3888888888888889, 0.4117647058823529, 0.4166666666666667, 0.42105263157894735, 0.4230769230769231, 0.4583333333333333, 0.47058823529411764, 0.47692307692307695, 0.4782608695652174, 0.48148148148148145, 0.4827586206896552, 0.5094339622641509, 0.5168539325842697, 0.5172413793103449, 0.5185185185185185, 0.5277777777777778, 0.53125, 0.5405405405405406, 0.55, 0.5569620253164557, 0.5588235294117647, 0.5619047619047619, 0.5625, 0.5641025641025641, 0.5652173913043478, 0.5660377358490566, 0.5732484076433121, 0.575, 0.576271186440678, 0.5769230769230769, 0.5777777777777777, 0.5806451612903226, 0.5813953488372093, 0.5925925925925926, 0.59375, 0.6086956521739131, 0.6097560975609756, 0.6176470588235294, 0.6190476190476191, 0.6229508196721312, 0.6282051282051282, 0.6285714285714286, 0.6296296296296297, 0.6363636363636364, 0.636986301369863, 0.6382978723404256, 0.6388888888888888, 0.6404494382022472, 0.6451612903225806, 0.6458333333333334, 0.65, 0.6507936507936508, 0.6585365853658537, 0.6607142857142857, 0.6702127659574468, 0.6785714285714286, 0.6904761904761905, 0.696969696969697, 0.7096774193548387, 0.7241379310344828, 0.7307692307692307, 0.7692307692307693, 0.7857142857142857, 0.8095238095238095, 0.8125, 0.9, 0.9166666666666666, 1.0, 0.5, 0.0, 0.6666666666666666, 0.3333333333333333, 0.6, 0.75, 0.8, 0.4, 0.5555555555555556, 0.5714285714285714, 0.7142857142857143, 0.25, 0.5454545454545454, 0.8571428571428571, 0.42857142857142855, 0.2, 0.2857142857142857, 0.5384615384615384, 0.5833333333333334, 0.6153846153846154, 0.625, 0.6875, 0.6923076923076923, 0.7777777777777778, 0.4117647058823529, 0.45454545454545453, 0.46153846153846156, 0.47058823529411764, 0.52, 0.5238095238095238, 0.5333333333333333, 0.5789473684210527, 0.6071428571428571, 0.6190476190476191, 0.6428571428571429, 0.65, 0.7058823529411765, 0.7692307692307693, 0.8333333333333334, 0.875, 0.14285714285714285, 0.26666666666666666, 0.35294117647058826, 0.3888888888888889, 0.42105263157894735, 0.44, 0.4444444444444444, 0.4482758620689655, 0.45, 0.47368421052631576, 0.5111111111111111, 0.5121951219512195, 0.5185185185185185, 0.5194805194805194, 0.5263157894736842, 0.5428571428571428, 0.55, 0.5526315789473685, 0.5588235294117647, 0.5625, 0.5675675675675675, 0.5681818181818182, 0.569620253164557, 0.5740740740740741, 0.5862068965517241, 0.5882352941176471, 0.6111111111111112, 0.6363636363636364, 0.6388888888888888, 0.640625, 0.6511627906976745, 0.6627906976744186, 0.6714285714285714, 0.6818181818181818, 0.7, 0.7128712871287128, 0.7222222222222222, 0.7272727272727273, 0.7586206896551724, 0.7647058823529411, 0.85, 1.0, 0.5, 0.0, 0.6666666666666666, 0.3333333333333333, 0.75, 0.25, 0.5714285714285714, 0.8, 0.6, 0.4, 0.7142857142857143, 0.375, 0.42857142857142855, 0.7, 0.2, 0.2857142857142857, 0.5294117647058824, 0.6153846153846154, 0.625, 0.7272727272727273, 0.4444444444444444, 0.47619047619047616, 0.5454545454545454, 0.5833333333333334, 0.6363636363636364, 0.6428571428571429, 0.6470588235294118, 0.6875, 0.7222222222222222, 0.8333333333333334, 0.8571428571428571, 0.16666666666666666, 0.3076923076923077, 0.36363636363636365, 0.4166666666666667, 0.41935483870967744, 0.4230769230769231, 0.4375, 0.45, 0.45454545454545453, 0.46153846153846156, 0.4666666666666667, 0.47058823529411764, 0.475, 0.4782608695652174, 0.4897959183673469, 0.5135135135135135, 0.5185185185185185, 0.5217391304347826, 0.5373134328358209, 0.5384615384615384, 0.5416666666666666, 0.5476190476190477, 0.5483870967741935, 0.55, 0.5555555555555556, 0.5581395348837209, 0.5625, 0.5681818181818182, 0.5764705882352941, 0.5851063829787234, 0.5925925925925926, 0.6181818181818182, 0.6206896551724138, 0.6307692307692307, 0.6486486486486487, 0.6585365853658537, 0.6744186046511628, 0.676056338028169, 0.6774193548387096, 0.6818181818181818, 0.7241379310344828, 0.7647058823529411, 0.7692307692307693, 0.8125, 0.8461538461538461, 0.875, 0.5, 1.0, 0.6666666666666666, 0.0, 0.3333333333333333, 0.6, 0.75, 0.8, 0.4, 0.2, 0.625, 0.25, 0.8333333333333334, 0.5833333333333334, 0.16666666666666666, 0.42857142857142855, 0.4444444444444444, 0.5714285714285714, 0.5806451612903226, 0.6363636363636364, 0.6428571428571429, 0.6842105263157895, 0.7, 0.7272727272727273, 0.7777777777777778, 0.8888888888888888, 0.2857142857142857, 0.36363636363636365, 0.3684210526315789, 0.40625, 0.4090909090909091, 0.4117647058823529, 0.43333333333333335, 0.4482758620689655, 0.45454545454545453, 0.45901639344262296, 0.4666666666666667, 0.47058823529411764, 0.47368421052631576, 0.47619047619047616, 0.49230769230769234, 0.5227272727272727, 0.5294117647058824, 0.53125, 0.5333333333333333, 0.5384615384615384, 0.5555555555555556, 0.5609756097560976, 0.5625, 0.5652173913043478, 0.5730337078651685, 0.58, 0.5882352941176471, 0.6153846153846154, 0.62, 0.631578947368421, 0.6341463414634146, 0.65625, 0.6578947368421053, 0.6710526315789473, 0.68, 0.6818181818181818, 0.6923076923076923, 0.7037037037037037, 0.7058823529411765, 0.7142857142857143, 0.7391304347826086, 0.7692307692307693, 0.8571428571428571, 0.875, 0.9166666666666666, 0.5, 1.0, 0.6666666666666666, 0.3333333333333333, 0.6, 0.0, 0.75, 0.8, 0.25, 0.4, 0.8571428571428571, 0.5714285714285714, 0.2, 0.42857142857142855, 0.625, 0.2857142857142857, 0.4444444444444444, 0.45454545454545453, 0.6111111111111112, 0.6153846153846154, 0.7, 0.8333333333333334, 0.16666666666666666, 0.26666666666666666, 0.4166666666666667, 0.41935483870967744, 0.43333333333333335, 0.46153846153846156, 0.46875, 0.4909090909090909, 0.4935064935064935, 0.5111111111111111, 0.5230769230769231, 0.5263157894736842, 0.5294117647058824, 0.5384615384615384, 0.55, 0.5555555555555556, 0.5652173913043478, 0.5666666666666667, 0.574468085106383, 0.5833333333333334, 0.5909090909090909, 0.6029411764705882, 0.6037735849056604, 0.6060606060606061, 0.6071428571428571, 0.6176470588235294, 0.6190476190476191, 0.6470588235294118, 0.65, 0.65625, 0.671875, 0.6779661016949152, 0.6785714285714286, 0.6794871794871795, 0.6818181818181818, 0.6904761904761905, 0.7142857142857143, 0.7272727272727273, 0.7333333333333333, 0.7777777777777778, 0.8181818181818182, 0.875, 0.8823529411764706, 0.9, 0.5, 1.0, 0.5714285714285714, 0.6666666666666666, 0.6, 0.0, 0.75, 0.42857142857142855, 0.8, 0.25, 0.5555555555555556, 0.375, 0.4, 0.5833333333333334, 0.7142857142857143, 0.3333333333333333, 0.36363636363636365, 0.5652173913043478, 0.6111111111111112, 0.6363636363636364, 0.2222222222222222, 0.38461538461538464, 0.39473684210526316, 0.4666666666666667, 0.4782608695652174, 0.4838709677419355, 0.5217391304347826, 0.5238095238095238, 0.5384615384615384, 0.5492957746478874, 0.55, 0.5522388059701493, 0.56, 0.5625, 0.5736040609137056, 0.5789473684210527, 0.5806451612903226, 0.5942028985507246, 0.5945945945945946, 0.6136363636363636, 0.6153846153846154, 0.6206896551724138, 0.625, 0.6428571428571429, 0.6470588235294118, 0.6538461538461539, 0.6744186046511628, 0.6818181818181818, 0.6857142857142857, 0.6956521739130435, 0.7073170731707317, 0.71875, 0.7272727272727273, 0.7333333333333333, 0.7692307692307693, 0.8333333333333334, 0.8461538461538461, 0.8571428571428571, 0.875, 0.9, 0.9090909090909091, 0.9285714285714286, 0.5, 1.0, 0.0, 0.6666666666666666, 0.6, 0.625, 0.75, 0.3333333333333333, 0.4, 0.6956521739130435, 0.3, 0.42857142857142855, 0.5294117647058824, 0.5333333333333333, 0.5555555555555556, 0.5714285714285714, 0.5789473684210527, 0.7142857142857143, 0.8, 0.34782608695652173, 0.35714285714285715, 0.375, 0.4166666666666667, 0.42105263157894735, 0.45, 0.45454545454545453, 0.46153846153846156, 0.4782608695652174, 0.5416666666666666, 0.5588235294117647, 0.5625, 0.5769230769230769, 0.5897435897435898, 0.5909090909090909, 0.5918367346938775, 0.5972222222222222, 0.6071428571428571, 0.6111111111111112, 0.6153846153846154, 0.6363636363636364, 0.6382978723404256, 0.6388888888888888, 0.6428571428571429, 0.6538461538461539, 0.6692307692307692, 0.6744186046511628, 0.6875, 0.7, 0.7307692307692307, 0.7368421052631579, 0.7619047619047619, 0.7647058823529411, 0.8461538461538461, 0.8571428571428571, 0.8888888888888888, 0.9047619047619048, 0.9166666666666666, 0.9285714285714286, 0.5, 1.0, 0.6, 0.6666666666666666, 0.0, 0.3333333333333333, 0.4, 0.42857142857142855, 0.625, 0.75, 0.25, 0.45454545454545453, 0.5714285714285714, 0.6153846153846154, 0.7142857142857143, 0.8, 0.2, 0.2727272727272727, 0.375, 0.38461538461538464, 0.4166666666666667, 0.425, 0.4444444444444444, 0.46153846153846156, 0.47368421052631576, 0.48484848484848486, 0.5217391304347826, 0.5294117647058824, 0.5384615384615384, 0.5393258426966292, 0.5540540540540541, 0.56, 0.5789473684210527, 0.5862068965517241, 0.589041095890411, 0.5945945945945946, 0.6122448979591837, 0.6176470588235294, 0.6470588235294118, 0.65, 0.6521739130434783, 0.6571428571428571, 0.68, 0.6808510638297872, 0.6923076923076923, 0.6944444444444444, 0.7, 0.7222222222222222, 0.7272727272727273, 0.7777777777777778, 0.9, 0.9090909090909091, 0.5, 0.0, 1.0, 0.6, 0.5333333333333333, 0.6666666666666666, 0.3333333333333333, 0.75, 0.42857142857142855, 0.7142857142857143, 0.14285714285714285, 0.2, 0.25, 0.2857142857142857, 0.38095238095238093, 0.4, 0.44, 0.4583333333333333, 0.46153846153846156, 0.5444444444444444, 0.5454545454545454, 0.55, 0.5526315789473685, 0.5555555555555556, 0.5714285714285714, 0.581081081081081, 0.5909090909090909, 0.5957446808510638, 0.6052631578947368, 0.6111111111111112, 0.6136363636363636, 0.6176470588235294, 0.6403508771929824, 0.6428571428571429, 0.6551724137931034, 0.6571428571428571, 0.6585365853658537, 0.6896551724137931, 0.6923076923076923, 0.7272727272727273, 0.7837837837837838, 0.8, 0.8888888888888888, 0.9090909090909091, 0.5, 0.25, 1.0, 0.0, 0.3333333333333333, 0.5384615384615384, 0.6666666666666666, 0.4, 0.5625, 0.631578947368421, 0.9, 0.2857142857142857, 0.36363636363636365, 0.42857142857142855, 0.4444444444444444, 0.48148148148148145, 0.5106382978723404, 0.5161290322580645, 0.52, 0.5217391304347826, 0.5454545454545454, 0.5555555555555556, 0.5596330275229358, 0.5681818181818182, 0.5714285714285714, 0.5789473684210527, 0.5833333333333334, 0.5873015873015873, 0.6, 0.6078431372549019, 0.6111111111111112, 0.6122448979591837, 0.6153846153846154, 0.6190476190476191, 0.625, 0.6407766990291263, 0.6727272727272727, 0.6785714285714286, 0.6833333333333333, 0.7, 0.7058823529411765, 0.75, 0.7586206896551724, 0.7777777777777778, 0.8, 0.8333333333333334, 0.5, 0.5714285714285714, 0.4, 0.45454545454545453, 0.6, 1.0, 0.0, 0.25, 0.3333333333333333, 0.5384615384615384, 0.6153846153846154, 0.375, 0.4166666666666667, 0.4444444444444444, 0.46153846153846156, 0.5142857142857142, 0.525, 0.5538461538461539, 0.5625, 0.5645161290322581, 0.567741935483871, 0.5757575757575758, 0.5882352941176471, 0.5909090909090909, 0.6086956521739131, 0.6341463414634146, 0.638095238095238, 0.6607142857142857, 0.6666666666666666, 0.7, 0.7142857142857143, 0.7222222222222222, 0.7666666666666667, 0.8, 0.8333333333333334, 0.8571428571428571, 0.5, 0.6666666666666666, 0.0, 1.0, 0.3333333333333333, 0.375, 0.42857142857142855, 0.5833333333333334, 0.5882352941176471, 0.6, 0.7142857142857143, 0.7333333333333333, 0.875, 0.2, 0.36363636363636365, 0.4, 0.4444444444444444, 0.4642857142857143, 0.48, 0.4827586206896552, 0.5106382978723404, 0.5121951219512195, 0.5135135135135135, 0.5384615384615384, 0.5416666666666666, 0.5517241379310345, 0.5625, 0.5641025641025641, 0.5643564356435643, 0.5660377358490566, 0.5714285714285714, 0.5729166666666666, 0.5769230769230769, 0.6153846153846154, 0.6170212765957447, 0.625, 0.631578947368421, 0.6363636363636364, 0.6415094339622641, 0.75, 0.7586206896551724, 0.0, 0.5, 0.6666666666666666, 0.3333333333333333, 0.5294117647058824, 0.5483870967741935, 0.5555555555555556, 0.5714285714285714, 0.625, 0.6875, 0.8, 0.16666666666666666, 0.2857142857142857, 0.375, 0.4, 0.42857142857142855, 0.4375, 0.4666666666666667, 0.5113636363636364, 0.5121951219512195, 0.5161290322580645, 0.5545454545454546, 0.5641025641025641, 0.564935064935065, 0.5833333333333334, 0.6081081081081081, 0.6190476190476191, 0.6343283582089553, 0.6363636363636364, 0.6585365853658537, 0.6818181818181818, 0.75, 0.7777777777777778, 0.8285714285714286, 0.8333333333333334, 1.0, 0.5, 0.375, 0.0, 0.3333333333333333, 0.4, 0.4375, 0.5833333333333334, 0.625, 0.6666666666666666, 0.8181818181818182, 1.0, 0.25, 0.4166666666666667, 0.42857142857142855, 0.4666666666666667, 0.47619047619047616, 0.5056179775280899, 0.5263157894736842, 0.5384615384615384, 0.5454545454545454, 0.5510204081632653, 0.5581395348837209, 0.5585585585585585, 0.5688622754491018, 0.575, 0.5882352941176471, 0.6111111111111112, 0.68, 0.7058823529411765, 0.75, 0.8888888888888888, 0.5, 0.0, 0.3333333333333333, 0.6666666666666666, 1.0, 0.2, 0.4, 0.4230769230769231, 0.4375, 0.45454545454545453, 0.5111111111111111, 0.5217391304347826, 0.5416666666666666, 0.543859649122807, 0.55, 0.56, 0.5657894736842105, 0.5663716814159292, 0.576271186440678, 0.5853658536585366, 0.5882352941176471, 0.5961538461538461, 0.6206896551724138, 0.6231884057971014, 0.6363636363636364, 0.64, 0.7333333333333333, 0.75, 0.8, 0.8461538461538461, 0.8888888888888888, 0.0, 1.0, 0.3333333333333333, 0.5, 0.5757575757575758, 0.6666666666666666, 0.75, 0.2, 0.25, 0.38461538461538464, 0.4166666666666667, 0.4375, 0.46153846153846156, 0.4642857142857143, 0.5046728971962616, 0.5294117647058824, 0.5344827586206896, 0.5555555555555556, 0.56, 0.5677966101694916, 0.5737704918032787, 0.5806451612903226, 0.5833333333333334, 0.6, 0.6136363636363636, 0.6206896551724138, 0.6274509803921569, 0.8064516129032258, 0.6, 0.0, 0.3333333333333333, 0.4, 0.5, 0.5714285714285714, 0.6153846153846154, 0.25, 0.375, 0.38461538461538464, 0.44, 0.4666666666666667, 0.46875, 0.47368421052631576, 0.5106382978723404, 0.5384615384615384, 0.5432098765432098, 0.5555555555555556, 0.5789473684210527, 0.5873015873015873, 0.6666666666666666, 0.7857142857142857, 0.84, 1.0, 0.5, 0.4, 0.0, 0.3, 0.3333333333333333, 0.4444444444444444, 0.46511627906976744, 0.48484848484848486, 0.4939759036144578, 0.5263157894736842, 0.5398773006134969, 0.5405405405405406, 0.5555555555555556, 0.5606060606060606, 0.5619834710743802, 0.5714285714285714, 0.6129032258064516, 0.6170212765957447, 0.625, 0.6666666666666666, 0.7142857142857143, 0.7692307692307693, 0.8148148148148148, 0.8571428571428571, 1.0, 0.4, 0.14285714285714285, 0.25, 0.3333333333333333, 0.42857142857142855, 0.45454545454545453, 0.4666666666666667, 0.47058823529411764, 0.47368421052631576, 0.4888888888888889, 0.4942528735632184, 0.5, 0.5352941176470588, 0.5609756097560976, 0.5869565217391305, 0.5882352941176471, 0.6, 0.6363636363636364, 0.7142857142857143, 0.7692307692307693, 0.7857142857142857, 0.7931034482758621, 0.8, 0.8333333333333334, 1.0, 0.5, 0.0, 0.3333333333333333, 0.6666666666666666, 0.7142857142857143, 0.375, 0.4090909090909091, 0.5192307692307693, 0.5423728813559322, 0.5555555555555556, 0.5666666666666667, 0.5777777777777777, 0.5882352941176471, 0.6, 0.6153846153846154, 0.6590909090909091, 0.6808510638297872, 0.5, 0.6, 0.6875, 0.6666666666666666, 0.0, 0.25, 0.2857142857142857, 0.42857142857142855, 0.5454545454545454, 0.5466666666666666, 0.5517241379310345, 0.5555555555555556, 0.5652173913043478, 0.625, 0.6296296296296297, 0.7272727272727273, 0.5, 0.6666666666666666, 0.0, 0.4, 0.4444444444444444, 0.5416666666666666, 0.5526315789473685, 0.5555555555555556, 0.574468085106383, 0.5816326530612245, 0.6, 0.6341463414634146, 0.6428571428571429, 0.6938775510204082, 0.7058823529411765, 0.7142857142857143, 0.5, 0.0, 0.45454545454545453, 0.46153846153846156, 0.52, 0.5443037974683544, 0.5616438356164384, 0.5641025641025641, 0.5858585858585859, 0.6, 0.6101694915254238, 0.625, 0.6388888888888888, 0.6666666666666666, 0.7, 0.75, 0.8, 0.875, 0.5, 1.0, 0.2857142857142857, 0.42857142857142855, 0.4782608695652174, 0.49019607843137253, 0.5333333333333333, 0.5641025641025641, 0.5769230769230769, 0.59, 0.6065573770491803, 0.625, 0.6896551724137931, 0.7142857142857143, 0.8333333333333334, 0.46153846153846156, 0.7142857142857143, 0.25, 0.375, 0.4, 0.47058823529411764, 0.48148148148148145, 0.5675675675675675, 0.6, 0.625, 0.6666666666666666, 0.6825396825396826, 1.0, 0.0, 0.5, 0.75, 0.4, 0.4444444444444444, 0.48, 0.5625, 0.5657894736842105, 0.64, 0.6875, 0.717948717948718, 0.0, 0.3333333333333333, 0.35714285714285715, 0.36363636363636365, 0.4642857142857143, 0.4722222222222222, 0.4827586206896552, 0.5584415584415584, 0.64, 0.6470588235294118, 0.6666666666666666, 0.6825396825396826, 0.7272727272727273, 0.5, 0.4, 0.4838709677419355, 0.5964912280701754, 0.625, 0.631578947368421, 0.7051282051282052, 0.8571428571428571, 0.5555555555555556, 0.4, 0.5, 0.6, 0.6153846153846154, 0.6455696202531646, 0.6666666666666666, 0.7088607594936709, 0.8888888888888888, 0.5416666666666666, 0.5434782608695652, 0.5714285714285714, 0.6122448979591837, 0.6212121212121212, 0.625, 0.6941176470588235, 1.0, 0.5555555555555556, 0.56, 0.5714285714285714, 0.5892857142857143, 0.6, 0.6268656716417911, 0.6923076923076923, 0.7333333333333333, 0.5121951219512195, 0.5294117647058824, 0.5675675675675675, 0.6206896551724138, 0.6323529411764706, 0.6470588235294118, 0.7076923076923077, 0.75, 0.5098039215686274, 0.5517241379310345, 0.5921052631578947, 0.6136363636363636, 0.6231884057971014, 0.6538461538461539, 0.696969696969697, 0.7058823529411765, 0.5181818181818182, 0.5454545454545454, 0.5974025974025974, 0.6067415730337079, 0.6415094339622641, 0.6896551724137931, 0.7, 0.5225225225225225, 0.5714285714285714, 0.5957446808510638, 0.6025641025641025, 0.6818181818181818, 0.6862745098039216, 0.7, 0.6666666666666666, 0.5714285714285714, 0.573170731707317, 0.6036036036036037, 0.6304347826086957, 0.6901408450704225, 0.5625, 0.6190476190476191, 0.6210526315789474, 0.6296296296296297, 0.6521739130434783, 0.6538461538461539, 0.684931506849315, 0.5294117647058824, 0.5849056603773585, 0.6231884057971014, 0.6277372262773723, 0.6343283582089553, 0.6538461538461539, 0.6774193548387096, 0.48, 0.5892857142857143, 0.6071428571428571, 0.6338028169014085, 0.6370370370370371, 0.6666666666666666, 0.7083333333333334, 0.42857142857142855, 0.5238095238095238, 0.5952380952380952, 0.6094674556213018, 0.635036496350365, 0.72, 1.0, 0.4, 0.494949494949495, 0.6023391812865497, 0.625, 0.6304347826086957, 0.6571428571428571, 0.49056603773584906, 0.5, 0.6067415730337079, 0.6267605633802817, 0.631578947368421, 0.6923076923076923, 0.47058823529411764, 0.5, 0.5609756097560976, 0.6, 0.6275862068965518, 0.72, 0.4444444444444444, 0.4864864864864865, 0.6190476190476191, 0.6275862068965518, 0.6666666666666666, 0.7045454545454546, 0.4883720930232558, 0.5, 0.6363636363636364, 0.6421052631578947, 0.7045454545454546, 0.8888888888888888, 0.48936170212765956, 0.5714285714285714, 0.5833333333333334, 0.6387434554973822, 0.6521739130434783, 0.8, 0.5, 0.634020618556701, 0.6666666666666666, 0.6923076923076923, 0.8, 0.4444444444444444, 0.5, 0.6557377049180327, 0.6756756756756757, 0.7142857142857143, 0.75, 0.6666666666666666, 0.5, 0.6507936507936508, 0.6842105263157895, 0.7307692307692307, 0.5, 0.5490196078431373, 0.6111111111111112, 0.6226415094339622, 0.654320987654321, 0.6666666666666666, 0.42105263157894735, 0.5490196078431373, 0.5666666666666667, 0.5789473684210527, 0.6511627906976745, 0.6923076923076923, 0.42857142857142855, 0.5576923076923077, 0.5714285714285714, 0.6037735849056604, 0.7096774193548387, 0.7333333333333333, 0.391304347826087, 0.5263157894736842, 0.5660377358490566, 0.5666666666666667, 0.75, 1.0, 0.375, 0.4666666666666667, 0.5, 0.5166666666666667, 0.5671641791044776, 0.5, 0.5303030303030303, 0.6, 0.6179775280898876, 0.47058823529411764, 0.5223880597014925, 0.7241379310344828, 0.4444444444444444, 0.5, 0.7727272727272727, 0.38095238095238093, 0.4931506849315068, 0.6486486486486487, 0.48333333333333334, 0.5, 0.6428571428571429, 0.46875, 0.48484848484848486, 0.6408450704225352, 0.47058823529411764, 0.6299212598425197, 0.6470588235294118, 0.5, 0.4594594594594595, 0.4722222222222222, 0.5116279069767442, 0.5, 0.48484848484848486, 0.5, 0.5, 0.42857142857142855, 0.41379310344827586, 0.4, 0.38461538461538464, 0.4666666666666667, 0.4, 0.3333333333333333, 0.16666666666666666, 0.0, 0.0, 0.0], \"yaxis\": \"y\"}],\n",
              "                        {\"legend\": {\"itemsizing\": \"constant\", \"tracegroupgap\": 0}, \"margin\": {\"t\": 60}, \"template\": {\"data\": {\"bar\": [{\"error_x\": {\"color\": \"#2a3f5f\"}, \"error_y\": {\"color\": \"#2a3f5f\"}, \"marker\": {\"line\": {\"color\": \"#E5ECF6\", \"width\": 0.5}}, \"type\": \"bar\"}], \"barpolar\": [{\"marker\": {\"line\": {\"color\": \"#E5ECF6\", \"width\": 0.5}}, \"type\": \"barpolar\"}], \"carpet\": [{\"aaxis\": {\"endlinecolor\": \"#2a3f5f\", \"gridcolor\": \"white\", \"linecolor\": \"white\", \"minorgridcolor\": \"white\", \"startlinecolor\": \"#2a3f5f\"}, \"baxis\": {\"endlinecolor\": \"#2a3f5f\", \"gridcolor\": \"white\", \"linecolor\": \"white\", \"minorgridcolor\": \"white\", \"startlinecolor\": \"#2a3f5f\"}, \"type\": \"carpet\"}], \"choropleth\": [{\"colorbar\": {\"outlinewidth\": 0, \"ticks\": \"\"}, \"type\": \"choropleth\"}], \"contour\": [{\"colorbar\": {\"outlinewidth\": 0, \"ticks\": \"\"}, \"colorscale\": [[0.0, \"#0d0887\"], [0.1111111111111111, \"#46039f\"], [0.2222222222222222, \"#7201a8\"], [0.3333333333333333, \"#9c179e\"], [0.4444444444444444, \"#bd3786\"], [0.5555555555555556, \"#d8576b\"], [0.6666666666666666, \"#ed7953\"], [0.7777777777777778, \"#fb9f3a\"], [0.8888888888888888, \"#fdca26\"], [1.0, \"#f0f921\"]], \"type\": \"contour\"}], \"contourcarpet\": [{\"colorbar\": {\"outlinewidth\": 0, \"ticks\": \"\"}, \"type\": \"contourcarpet\"}], \"heatmap\": [{\"colorbar\": {\"outlinewidth\": 0, \"ticks\": \"\"}, \"colorscale\": [[0.0, \"#0d0887\"], [0.1111111111111111, \"#46039f\"], [0.2222222222222222, \"#7201a8\"], [0.3333333333333333, \"#9c179e\"], [0.4444444444444444, \"#bd3786\"], [0.5555555555555556, \"#d8576b\"], [0.6666666666666666, \"#ed7953\"], [0.7777777777777778, \"#fb9f3a\"], [0.8888888888888888, \"#fdca26\"], [1.0, \"#f0f921\"]], \"type\": \"heatmap\"}], \"heatmapgl\": [{\"colorbar\": {\"outlinewidth\": 0, \"ticks\": \"\"}, \"colorscale\": [[0.0, \"#0d0887\"], [0.1111111111111111, \"#46039f\"], [0.2222222222222222, \"#7201a8\"], [0.3333333333333333, \"#9c179e\"], [0.4444444444444444, \"#bd3786\"], [0.5555555555555556, \"#d8576b\"], [0.6666666666666666, \"#ed7953\"], [0.7777777777777778, \"#fb9f3a\"], [0.8888888888888888, \"#fdca26\"], [1.0, \"#f0f921\"]], \"type\": \"heatmapgl\"}], \"histogram\": [{\"marker\": {\"colorbar\": {\"outlinewidth\": 0, \"ticks\": \"\"}}, \"type\": \"histogram\"}], \"histogram2d\": [{\"colorbar\": {\"outlinewidth\": 0, \"ticks\": \"\"}, \"colorscale\": [[0.0, \"#0d0887\"], [0.1111111111111111, \"#46039f\"], [0.2222222222222222, \"#7201a8\"], [0.3333333333333333, \"#9c179e\"], [0.4444444444444444, \"#bd3786\"], [0.5555555555555556, \"#d8576b\"], [0.6666666666666666, \"#ed7953\"], [0.7777777777777778, \"#fb9f3a\"], [0.8888888888888888, \"#fdca26\"], [1.0, \"#f0f921\"]], \"type\": \"histogram2d\"}], \"histogram2dcontour\": [{\"colorbar\": {\"outlinewidth\": 0, \"ticks\": \"\"}, \"colorscale\": [[0.0, \"#0d0887\"], [0.1111111111111111, \"#46039f\"], [0.2222222222222222, \"#7201a8\"], [0.3333333333333333, \"#9c179e\"], [0.4444444444444444, \"#bd3786\"], [0.5555555555555556, \"#d8576b\"], [0.6666666666666666, \"#ed7953\"], [0.7777777777777778, \"#fb9f3a\"], [0.8888888888888888, \"#fdca26\"], [1.0, \"#f0f921\"]], \"type\": \"histogram2dcontour\"}], \"mesh3d\": [{\"colorbar\": {\"outlinewidth\": 0, \"ticks\": \"\"}, \"type\": \"mesh3d\"}], \"parcoords\": [{\"line\": {\"colorbar\": {\"outlinewidth\": 0, \"ticks\": \"\"}}, \"type\": \"parcoords\"}], \"pie\": [{\"automargin\": true, \"type\": \"pie\"}], \"scatter\": [{\"marker\": {\"colorbar\": {\"outlinewidth\": 0, \"ticks\": \"\"}}, \"type\": \"scatter\"}], \"scatter3d\": [{\"line\": {\"colorbar\": {\"outlinewidth\": 0, \"ticks\": \"\"}}, \"marker\": {\"colorbar\": {\"outlinewidth\": 0, \"ticks\": \"\"}}, \"type\": \"scatter3d\"}], \"scattercarpet\": [{\"marker\": {\"colorbar\": {\"outlinewidth\": 0, \"ticks\": \"\"}}, \"type\": \"scattercarpet\"}], \"scattergeo\": [{\"marker\": {\"colorbar\": {\"outlinewidth\": 0, \"ticks\": \"\"}}, \"type\": \"scattergeo\"}], \"scattergl\": [{\"marker\": {\"colorbar\": {\"outlinewidth\": 0, \"ticks\": \"\"}}, \"type\": \"scattergl\"}], \"scattermapbox\": [{\"marker\": {\"colorbar\": {\"outlinewidth\": 0, \"ticks\": \"\"}}, \"type\": \"scattermapbox\"}], \"scatterpolar\": [{\"marker\": {\"colorbar\": {\"outlinewidth\": 0, \"ticks\": \"\"}}, \"type\": \"scatterpolar\"}], \"scatterpolargl\": [{\"marker\": {\"colorbar\": {\"outlinewidth\": 0, \"ticks\": \"\"}}, \"type\": \"scatterpolargl\"}], \"scatterternary\": [{\"marker\": {\"colorbar\": {\"outlinewidth\": 0, \"ticks\": \"\"}}, \"type\": \"scatterternary\"}], \"surface\": [{\"colorbar\": {\"outlinewidth\": 0, \"ticks\": \"\"}, \"colorscale\": [[0.0, \"#0d0887\"], [0.1111111111111111, \"#46039f\"], [0.2222222222222222, \"#7201a8\"], [0.3333333333333333, \"#9c179e\"], [0.4444444444444444, \"#bd3786\"], [0.5555555555555556, \"#d8576b\"], [0.6666666666666666, \"#ed7953\"], [0.7777777777777778, \"#fb9f3a\"], [0.8888888888888888, \"#fdca26\"], [1.0, \"#f0f921\"]], \"type\": \"surface\"}], \"table\": [{\"cells\": {\"fill\": {\"color\": \"#EBF0F8\"}, \"line\": {\"color\": \"white\"}}, \"header\": {\"fill\": {\"color\": \"#C8D4E3\"}, \"line\": {\"color\": \"white\"}}, \"type\": \"table\"}]}, \"layout\": {\"annotationdefaults\": {\"arrowcolor\": \"#2a3f5f\", \"arrowhead\": 0, \"arrowwidth\": 1}, \"coloraxis\": {\"colorbar\": {\"outlinewidth\": 0, \"ticks\": \"\"}}, \"colorscale\": {\"diverging\": [[0, \"#8e0152\"], [0.1, \"#c51b7d\"], [0.2, \"#de77ae\"], [0.3, \"#f1b6da\"], [0.4, \"#fde0ef\"], [0.5, \"#f7f7f7\"], [0.6, \"#e6f5d0\"], [0.7, \"#b8e186\"], [0.8, \"#7fbc41\"], [0.9, \"#4d9221\"], [1, \"#276419\"]], \"sequential\": [[0.0, \"#0d0887\"], [0.1111111111111111, \"#46039f\"], [0.2222222222222222, \"#7201a8\"], [0.3333333333333333, \"#9c179e\"], [0.4444444444444444, \"#bd3786\"], [0.5555555555555556, \"#d8576b\"], [0.6666666666666666, \"#ed7953\"], [0.7777777777777778, \"#fb9f3a\"], [0.8888888888888888, \"#fdca26\"], [1.0, \"#f0f921\"]], \"sequentialminus\": [[0.0, \"#0d0887\"], [0.1111111111111111, \"#46039f\"], [0.2222222222222222, \"#7201a8\"], [0.3333333333333333, \"#9c179e\"], [0.4444444444444444, \"#bd3786\"], [0.5555555555555556, \"#d8576b\"], [0.6666666666666666, \"#ed7953\"], [0.7777777777777778, \"#fb9f3a\"], [0.8888888888888888, \"#fdca26\"], [1.0, \"#f0f921\"]]}, \"colorway\": [\"#636efa\", \"#EF553B\", \"#00cc96\", \"#ab63fa\", \"#FFA15A\", \"#19d3f3\", \"#FF6692\", \"#B6E880\", \"#FF97FF\", \"#FECB52\"], \"font\": {\"color\": \"#2a3f5f\"}, \"geo\": {\"bgcolor\": \"white\", \"lakecolor\": \"white\", \"landcolor\": \"#E5ECF6\", \"showlakes\": true, \"showland\": true, \"subunitcolor\": \"white\"}, \"hoverlabel\": {\"align\": \"left\"}, \"hovermode\": \"closest\", \"mapbox\": {\"style\": \"light\"}, \"paper_bgcolor\": \"white\", \"plot_bgcolor\": \"#E5ECF6\", \"polar\": {\"angularaxis\": {\"gridcolor\": \"white\", \"linecolor\": \"white\", \"ticks\": \"\"}, \"bgcolor\": \"#E5ECF6\", \"radialaxis\": {\"gridcolor\": \"white\", \"linecolor\": \"white\", \"ticks\": \"\"}}, \"scene\": {\"xaxis\": {\"backgroundcolor\": \"#E5ECF6\", \"gridcolor\": \"white\", \"gridwidth\": 2, \"linecolor\": \"white\", \"showbackground\": true, \"ticks\": \"\", \"zerolinecolor\": \"white\"}, \"yaxis\": {\"backgroundcolor\": \"#E5ECF6\", \"gridcolor\": \"white\", \"gridwidth\": 2, \"linecolor\": \"white\", \"showbackground\": true, \"ticks\": \"\", \"zerolinecolor\": \"white\"}, \"zaxis\": {\"backgroundcolor\": \"#E5ECF6\", \"gridcolor\": \"white\", \"gridwidth\": 2, \"linecolor\": \"white\", \"showbackground\": true, \"ticks\": \"\", \"zerolinecolor\": \"white\"}}, \"shapedefaults\": {\"line\": {\"color\": \"#2a3f5f\"}}, \"ternary\": {\"aaxis\": {\"gridcolor\": \"white\", \"linecolor\": \"white\", \"ticks\": \"\"}, \"baxis\": {\"gridcolor\": \"white\", \"linecolor\": \"white\", \"ticks\": \"\"}, \"bgcolor\": \"#E5ECF6\", \"caxis\": {\"gridcolor\": \"white\", \"linecolor\": \"white\", \"ticks\": \"\"}}, \"title\": {\"x\": 0.05}, \"xaxis\": {\"automargin\": true, \"gridcolor\": \"white\", \"linecolor\": \"white\", \"ticks\": \"\", \"title\": {\"standoff\": 15}, \"zerolinecolor\": \"white\", \"zerolinewidth\": 2}, \"yaxis\": {\"automargin\": true, \"gridcolor\": \"white\", \"linecolor\": \"white\", \"ticks\": \"\", \"title\": {\"standoff\": 15}, \"zerolinecolor\": \"white\", \"zerolinewidth\": 2}}}, \"xaxis\": {\"anchor\": \"y\", \"domain\": [0.0, 1.0], \"title\": {\"text\": \"Age\"}}, \"yaxis\": {\"anchor\": \"x\", \"domain\": [0.0, 1.0], \"title\": {\"text\": \"%Homochirality\"}}},\n",
              "                        {\"responsive\": true}\n",
              "                    ).then(function(){\n",
              "                            \n",
              "var gd = document.getElementById('9d43cc89-25f3-4b5e-8a69-d467e8edf1d8');\n",
              "var x = new MutationObserver(function (mutations, observer) {{\n",
              "        var display = window.getComputedStyle(gd).display;\n",
              "        if (!display || display === 'none') {{\n",
              "            console.log([gd, 'removed!']);\n",
              "            Plotly.purge(gd);\n",
              "            observer.disconnect();\n",
              "        }}\n",
              "}});\n",
              "\n",
              "// Listen for the removal of the full notebook cells\n",
              "var notebookContainer = gd.closest('#notebook-container');\n",
              "if (notebookContainer) {{\n",
              "    x.observe(notebookContainer, {childList: true});\n",
              "}}\n",
              "\n",
              "// Listen for the clearing of the current output cell\n",
              "var outputEl = gd.closest('.output');\n",
              "if (outputEl) {{\n",
              "    x.observe(outputEl, {childList: true});\n",
              "}}\n",
              "\n",
              "                        })\n",
              "                };\n",
              "                \n",
              "            </script>\n",
              "        </div>\n",
              "</body>\n",
              "</html>"
            ]
          },
          "metadata": {
            "tags": [
              "id11_content_7",
              "outputarea_id11",
              "user_output"
            ]
          }
        },
        {
          "output_type": "display_data",
          "data": {
            "application/javascript": [
              "window[\"01ef0ed0-bd77-11ea-920b-0242ac1c0002\"] = google.colab.output.setActiveOutputArea(window[\"01be8f8a-bd77-11ea-920b-0242ac1c0002\"]);\n",
              "//# sourceURL=js_277dcb7836"
            ],
            "text/plain": [
              "<IPython.core.display.Javascript object>"
            ]
          },
          "metadata": {
            "tags": [
              "id11_content_7",
              "outputarea_id11"
            ]
          }
        }
      ]
    }
  ]
}