{
  "nbformat": 4,
  "nbformat_minor": 0,
  "metadata": {
    "colab": {
      "name": "Tidied_Homochirality_v005.ipynb",
      "provenance": [],
      "collapsed_sections": [
        "AvOcPptw5JVf",
        "a8egVnJUbTYf",
        "axVuXR__qoi4",
        "jI9isLxnRk5d",
        "RX_K0yxjTSEx",
        "IdB8k_yadghA",
        "1lx9FPNLeRNM",
        "HVY41XQPUjIT",
        "hqD3AL_kUldF",
        "HEFlHyn6UoPU",
        "cz4Cis4ze7j6",
        "ALnPeaUCfhL4",
        "CmKsCAazVPy_",
        "DdqK65C-8cpi",
        "3nujicdthc10"
      ],
      "toc_visible": true,
      "include_colab_link": true
    },
    "kernelspec": {
      "name": "python3",
      "display_name": "Python 3"
    }
  },
  "cells": [
    {
      "cell_type": "markdown",
      "metadata": {
        "id": "view-in-github",
        "colab_type": "text"
      },
      "source": [
        "<a href=\"https://colab.research.google.com/github/annikaaross/Homochirality-project/blob/annika-branch/Tidied_Homochirality_v005.ipynb\" target=\"_parent\"><img src=\"https://colab.research.google.com/assets/colab-badge.svg\" alt=\"Open In Colab\"/></a>"
      ]
    },
    {
      "cell_type": "markdown",
      "metadata": {
        "id": "IO4sCUUbimaZ",
        "colab_type": "text"
      },
      "source": [
        "# Homochirality Model"
      ]
    },
    {
      "cell_type": "markdown",
      "metadata": {
        "id": "AhJ4LH11izgn",
        "colab_type": "text"
      },
      "source": [
        "I have changed this Hello and welcome to *Do Opposites Attract?*, the first monomer dating show. We're here to see if similarity between member(s) of a relationship matters in the strength of the bond between the individuals. Read on as we introduce you to our monomers, our polymers, and the stylish bag that they reside in. Along the way we will keep you up to date on all the drama of falling in love and breaking hearts. "
      ]
    },
    {
      "cell_type": "markdown",
      "metadata": {
        "id": "AvOcPptw5JVf",
        "colab_type": "text"
      },
      "source": [
        "## Global Parameters"
      ]
    },
    {
      "cell_type": "markdown",
      "metadata": {
        "id": "lfMJif2R5Uc7",
        "colab_type": "text"
      },
      "source": [
        "Here's where we keep the rules by which our contestants must play."
      ]
    },
    {
      "cell_type": "code",
      "metadata": {
        "id": "zW---ckX5eKf",
        "colab_type": "code",
        "colab": {}
      },
      "source": [
        "#the bond break probbility applied to all bonds\n",
        "BASE_BOND_BREAK_PROBABILITY = 0.2\n",
        "#if a bond itself is homochiral the base bond fator is multiplied by\n",
        "#this factor\n",
        "HOMOCHIRAL_BREAK_FACTOR = 0.9\n",
        "#this factor is incorporated for each additional neighboring homochiral bond\n",
        "# becomes less and less influential as the bond gets further away\n",
        "HOMOCHIRAL_NEIGHBOR_IMPROV_FACTOR = 0.3\n",
        "#decreases the break probability based on the length of the polymer\n",
        "LENGTH_FACTOR = 0.6\n",
        "\n",
        "#limits the influence of length on breakprobabiltiy(the larger the less influence it has)\n",
        "N=30\n",
        "\n",
        "#saves the break probabilities of sequences of polymers\n",
        "break_prob_lookup_table = {}\n",
        "\n",
        "poisson_dict={}\n",
        "\n",
        "#used in Poisson distribution\n",
        "LAMBDA=6\n",
        "#################################################################\n",
        "#these are the same factors as before but with on for left and  #\n",
        "#one for right homochiral bonds.                                #\n",
        "#used in biaseastbondbreakability method which can be choosen to#\n",
        "#be used over the regular eastbondbreakability method in the    #\n",
        "#self.reset_break_probability() method                          #\n",
        "#################################################################\n",
        "HOMOCHIRAL_BREAK_FACTOR_LEFT = 0.0\n",
        "HOMOCHIRAL_BREAK_FACTOR_RIGHT = 0.9\n",
        "HOMOCHIRAL_NEIGHBOR_IMPROV_FACTOR_LEFT = 0.3\n",
        "HOMOCHIRAL_NEIGHBOR_IMPROV_FACTOR_RIGHT = 0.3\n",
        "\n",
        "\n",
        "#These are the liklihoods that a monomer will choose to poof or bond, respectively.\n",
        "#Used in the Reactables class.\n",
        "POOF_CHANCE = 0.3333\n",
        "BOND_PROB = 0.3333\n"
      ],
      "execution_count": 1,
      "outputs": []
    },
    {
      "cell_type": "markdown",
      "metadata": {
        "id": "a8egVnJUbTYf",
        "colab_type": "text"
      },
      "source": [
        "## Imports and Helpers"
      ]
    },
    {
      "cell_type": "markdown",
      "metadata": {
        "id": "IN4PxtbgaqnM",
        "colab_type": "text"
      },
      "source": [
        "First we install a package called ```jdc``` which allows us to define classes across different cells using the syntax\n",
        "\n",
        "```\n",
        "%%add_to our_class\n",
        "def our_function(self, our_variable):\n",
        "  print our_variable\n",
        "```\n",
        "\n",
        "The documentation on this magic function can be found at https://alexhagen.github.io/jdc/\n",
        "\n",
        "\n",
        "\n",
        "\n"
      ]
    },
    {
      "cell_type": "code",
      "metadata": {
        "id": "5f4ViqWCQDL_",
        "colab_type": "code",
        "colab": {
          "base_uri": "https://localhost:8080/",
          "height": 34
        },
        "outputId": "e1bf7eaa-3b1b-4b20-a8a9-f4db8cee8c52"
      },
      "source": [
        "!pip install jdc"
      ],
      "execution_count": 2,
      "outputs": [
        {
          "output_type": "stream",
          "text": [
            "Requirement already satisfied: jdc in /usr/local/lib/python3.6/dist-packages (0.0.9)\n"
          ],
          "name": "stdout"
        }
      ]
    },
    {
      "cell_type": "markdown",
      "metadata": {
        "id": "5DONDBNfbdC3",
        "colab_type": "text"
      },
      "source": [
        "Here are the imports."
      ]
    },
    {
      "cell_type": "code",
      "metadata": {
        "id": "7gkyGmzI6Vst",
        "colab_type": "code",
        "colab": {}
      },
      "source": [
        "import random\n",
        "import numpy as np\n",
        "import copy\n",
        "from google.colab import widgets\n",
        "import matplotlib.pyplot as plt\n",
        "import jdc\n",
        "import more_itertools"
      ],
      "execution_count": 3,
      "outputs": []
    },
    {
      "cell_type": "markdown",
      "metadata": {
        "id": "Gc5E3314bsom",
        "colab_type": "text"
      },
      "source": [
        "And here are some helper functions."
      ]
    },
    {
      "cell_type": "code",
      "metadata": {
        "id": "PckJQLzVbvor",
        "colab_type": "code",
        "colab": {}
      },
      "source": [
        "def make_pool(n):\n",
        "  \"\"\"\n",
        "  Return a list of n new monomers.\n",
        "  \"\"\"\n",
        "  monomers = []\n",
        "  for n in range(n):\n",
        "    monomers.append(Monomer())\n",
        "  return monomers\n",
        "\n",
        "\n",
        "def numpy_fillna(data):\n",
        "  \"\"\" Rectangularize a jagged array.\n",
        "\n",
        "  Source: https://stackoverflow.com/a/32043366\n",
        "  \"\"\"\n",
        "  # Get lengths of each row of data\n",
        "  lens = np.array([len(i) for i in data])\n",
        "\n",
        "  # Mask of valid places in each row\n",
        "  mask = np.arange(lens.max()) < lens[:,None]\n",
        "\n",
        "  # Setup output array and put elements from data into masked positions\n",
        "  out = np.zeros(mask.shape, dtype=float)\n",
        "  out[mask] = np.concatenate(data)\n",
        "  return out"
      ],
      "execution_count": 4,
      "outputs": []
    },
    {
      "cell_type": "markdown",
      "metadata": {
        "id": "axVuXR__qoi4",
        "colab_type": "text"
      },
      "source": [
        "## The Monomer class"
      ]
    },
    {
      "cell_type": "markdown",
      "metadata": {
        "id": "ECDSIjWMVTb9",
        "colab_type": "text"
      },
      "source": [
        "These are our Monomers. The individuals in our dating show. They are the best thing a girl can be in this worl, beautiful little fools. They know that they exist and they know what kind of monomer they are, left or right(thats handedness not political party alignment) What more can you ask for?"
      ]
    },
    {
      "cell_type": "markdown",
      "metadata": {
        "id": "jI9isLxnRk5d",
        "colab_type": "text"
      },
      "source": [
        "### Constructor"
      ]
    },
    {
      "cell_type": "code",
      "metadata": {
        "id": "7TlZA8Njjd2D",
        "colab_type": "code",
        "colab": {}
      },
      "source": [
        "class Monomer:\n",
        "\n",
        "  def __init__(self, **kwargs):\n",
        "    \"\"\"\n",
        "    The constructor method for Monomer objects. Assigns default handedness.\n",
        "    Accepts argument hand = bool with keyword.\n",
        "    Considering other syntax for passing in handedness.\n",
        "    keeps track of how old the monomer\n",
        "    \"\"\"\n",
        "    import random\n",
        "    self._handedness = kwargs['hand'] if 'hand' in kwargs else random.choice([True,False])\n",
        "    self._eastbrkprob = kwargs['brkprob'] if 'brkprob' in kwargs else -1\n",
        "    self._age = 0\n",
        "  \n",
        "  def __repr__(self):\n",
        "    return str(f\"{self.get_handedness()}-monomer\")\n"
      ],
      "execution_count": 5,
      "outputs": []
    },
    {
      "cell_type": "markdown",
      "metadata": {
        "id": "aP-4RlM7Q9IS",
        "colab_type": "text"
      },
      "source": [
        "### Getters and Setters"
      ]
    },
    {
      "cell_type": "code",
      "metadata": {
        "id": "IJM6sYAdRHFc",
        "colab_type": "code",
        "colab": {}
      },
      "source": [
        "%%add_to Monomer\n",
        "\n",
        "def get_handedness(self):\n",
        "  \"\"\"Getter method for Monomer handedness.\"\"\"\n",
        "  return self._handedness\n",
        "\n",
        "def get_age(self):\n",
        "  \"\"\"Getter method for Monomer age\"\"\"\n",
        "  return self._age\n",
        "\n",
        "\n",
        "def get_eastbrkprob(self):\n",
        "  \"\"\"Getter method for east bond brk probability\"\"\"\n",
        "  return self._eastbrkprob\n",
        "\n",
        "def set_eastbrkprob(self, newbrk):\n",
        "  \"\"\"Setter method for east bond brk probability\"\"\"\n",
        "  self._eastbrkprob = newbrk\n",
        "\n",
        "def set_age(self, newage):\n",
        "  \"\"\"setter method for age\"\"\"\n",
        "  self._age = newage\n",
        "\n",
        "def reset_eastbrkprob(self) :\n",
        "  \"\"\"reset east brk probability to -1 \n",
        "      to be called when single monomer is broken from polymer\"\"\"\n",
        "  self.set_eastbrkprob(-1)\n"
      ],
      "execution_count": 6,
      "outputs": []
    },
    {
      "cell_type": "markdown",
      "metadata": {
        "id": "ihXAcN9GRXPL",
        "colab_type": "text"
      },
      "source": [
        "### Polymer Compatibility"
      ]
    },
    {
      "cell_type": "code",
      "metadata": {
        "id": "4fFeZGU6Ra7W",
        "colab_type": "code",
        "colab": {}
      },
      "source": [
        "%%add_to Monomer\n",
        "\n",
        "def get_chirality(self):\n",
        "  \"\"\" Return an expression of handedness compatible with the Polymer notation\n",
        "  of chirality (n_lefts, n_rights).\n",
        "  \"\"\"\n",
        "  if self.get_handedness():\n",
        "    return (1,0)\n",
        "  else:\n",
        "    return (0,1)\n",
        "\n",
        "def get_length(self):\n",
        "  \"\"\" Return 1. \"\"\"\n",
        "  return 1\n",
        "\n",
        "def get_ee(self):\n",
        "  \"\"\" Return the enantiomeric excess of the monomer. This value is always 1. \"\"\"\n",
        "  return 1\n",
        "\n",
        "def get_signed_ee(self):\n",
        "  \"\"\" Return the signed enantiomeric excess of the monomer.\n",
        "  Returns 1 if left handed, -1 if right handed.\n",
        "  \"\"\"\n",
        "  if self.get_handedness():\n",
        "    return 1\n",
        "  else:\n",
        "    return -1\n",
        "\n",
        "def generate_old_log(self):\n",
        "  \"\"\" Return a log tuple in the format\n",
        "  (length, signed ee, total # homochiral bonds)\n",
        "  \"\"\"\n",
        "  return (self.get_length(), \n",
        "          self.get_signed_ee())\n",
        "          #sum(self.get_leftrighthomochiralbonds()))\n",
        "\n",
        "def generate_log(self):\n",
        "  \"\"\" Return a log compatible with the reactables history. \"\"\"\n",
        "  return (self.get_handedness(),)\n",
        "\n",
        "def birthday(self):\n",
        "  \"\"\"ages the monomer up\"\"\"\n",
        "  self.set_age(self.get_age() + 1)"
      ],
      "execution_count": 7,
      "outputs": []
    },
    {
      "cell_type": "markdown",
      "metadata": {
        "id": "lisjFJ2YqZf7",
        "colab_type": "text"
      },
      "source": [
        "## The Polymer class"
      ]
    },
    {
      "cell_type": "markdown",
      "metadata": {
        "id": "E9EWk1VVV-Oc",
        "colab_type": "text"
      },
      "source": [
        "This is our Polymer class, aka the relationships in this dating show. They contain a list of all the monomers that are inside of them. It is kept in a specific order. They are pretty open books. They can tell us how many monomers they contain, they add new members(either monomers or whole other polymers), they can remove entire groups of members after a certain index, they can check which of their bonds are homochiral and use this to calculate probability of a certain bond breaking(the weak areas in their relationship). They can use this to then tell the producers if and where they are planning on breaking off members of they ranks. Like all good relationships, they use purely mathematics and chance to determine these heart breaking decisions. They can also tell us how many left handed monomers and how many right handed monomers they contain. "
      ]
    },
    {
      "cell_type": "markdown",
      "metadata": {
        "id": "RX_K0yxjTSEx",
        "colab_type": "text"
      },
      "source": [
        "### Constructor"
      ]
    },
    {
      "cell_type": "code",
      "metadata": {
        "id": "zNkhoo72TYUM",
        "colab_type": "code",
        "colab": {}
      },
      "source": [
        "class Polymer:\n",
        "  def __init__(self, monomers = []):\n",
        "    \"\"\" Constructor method for Polymer.\n",
        "    In addition to setting the monomers list, also calculates all break probabilities\n",
        "    of the bonds it contains using reset_break_probability.\n",
        "    \"\"\"\n",
        "    self._monomers = monomers\n",
        "    #self.reset_break_probability()\n",
        "    self._age = 0\n",
        "\n",
        "  def __str__(self):\n",
        "    \"\"\" str function for Polymer class. \"\"\"\n",
        "    return f\"\\nA polymer of length {self.get_length()}: {self.get_sequence()}\"\n",
        "  \n",
        "  def __repr__(self):\n",
        "    \"\"\" repr function for Polymer class. \"\"\"\n",
        "    return f\"{self.get_sequence()}-polymer\""
      ],
      "execution_count": 8,
      "outputs": []
    },
    {
      "cell_type": "markdown",
      "metadata": {
        "id": "67fSyVs_Tdlh",
        "colab_type": "text"
      },
      "source": [
        "### Getters, Setters, and Logs"
      ]
    },
    {
      "cell_type": "code",
      "metadata": {
        "id": "ziWCTo2GTcrv",
        "colab_type": "code",
        "colab": {}
      },
      "source": [
        "%%add_to Polymer\n",
        "\n",
        "\n",
        "def get_monomers(self):\n",
        "  \"\"\" Return list of monomers in the polymer. \"\"\"\n",
        "  return self._monomers\n",
        "\n",
        "\n",
        "def get_length(self):\n",
        "  \"\"\" Return the number of monomers in the polymer. \"\"\"\n",
        "  return len(self._monomers)\n",
        "\n",
        "\n",
        "def get_sequence(self):\n",
        "  \"\"\" Return the sequence of monomers in the polymer in a human-readable (and loggable) format. \"\"\"\n",
        "  sequence = []\n",
        "  for monomer in self.get_monomers():\n",
        "    sequence.append(monomer.get_handedness())\n",
        "  return sequence\n",
        "\n",
        "def get_age(self):\n",
        "  return self._age\n",
        "\n",
        "\n",
        "def set_age(self, newage):\n",
        "  self._age = newage\n",
        "\n",
        "def set_monomers(self, new_monomers):\n",
        "  \"\"\" Set the monomers in the polymer to new_monomers. \"\"\"\n",
        "  self._monomers = new_monomers\n",
        "\n",
        "def get_avg_age(self):\n",
        "  totalage = 0\n",
        "  for n in range(self.get_length()):\n",
        "    totalage += self.get_monomers()[n].get_age()\n",
        "  avgage= totalage/self.get_length()\n",
        "  return avgage\n",
        "\n",
        "\n",
        "def get_chirality(self):\n",
        "  \"\"\" Return the chiralities of the monomers within the polymer.\n",
        "\n",
        "  RETURN: tuple\n",
        "  (number_lefts, number_rights)\n",
        "  \"\"\"\n",
        "  #Get the monomer handednesses\n",
        "  sequence = self.get_sequence()\n",
        "  #Count the number of trues\n",
        "  n_true = sum(sequence)\n",
        "  #The number of falses is the total minus the number of trues\n",
        "  #Return that.\n",
        "  return (n_true, len(sequence) - n_true)\n",
        "\n",
        "def birthday(self):\n",
        "  self.set_age(self.get_age() + 1)\n",
        "  for n in range(self.get_length()):\n",
        "    self.get_monomers()[n].birthday()\n",
        "    \n",
        "\n",
        "def get_signed_ee(self):\n",
        "  lefts, rights = self.get_chirality()\n",
        "  return (lefts - rights) / self.get_length()\n",
        "\n",
        "def get_ee(self):\n",
        "  lefts, rights = self.get_chirality()\n",
        "  return abs((lefts - rights) / self.get_length())\n",
        "\n",
        "#def get_leftrighthomochiralbonds(self):\n",
        "  #\"\"\"\n",
        "  #returns  # of left and right homochiral bonds in tuple (l,r)\n",
        "  #\"\"\"\n",
        "  #l=0\n",
        "\n",
        "  #r=0\n",
        "\n",
        "  #for n in range(self.get_length()):\n",
        "    #if (self.easthomochiralbiascheck(n) == 3):\n",
        "         # l += 1\n",
        "    #elif (self.easthomochiralbiascheck(n) == 5):\n",
        "        #  r += 1\n",
        "  #tuple1 = (l , r)\n",
        "  \n",
        "  #return tuple1\n",
        "  \n",
        "def generate_old_log(self):\n",
        "  \"\"\" Return a log tuple in the format\n",
        "  (length, signed ee, total # homochiral bonds)\n",
        "  \"\"\"\n",
        "  return (self.get_length(), \n",
        "          self.get_signed_ee())\n",
        "          #sum(self.get_leftrighthomochiralbonds()))\n",
        "  \n",
        "def generate_log(self):\n",
        "  \"\"\" Return a log tuple formatted simply as the list of boolean handednesses of the monomers contained\n",
        "  in the polymer. Will be heavier than holding data about the polymer like in the other log format,\n",
        "  but should allow access to more information and more kinds of information.\n",
        "  \"\"\"\n",
        "  return tuple(self.get_sequence())"
      ],
      "execution_count": 9,
      "outputs": []
    },
    {
      "cell_type": "markdown",
      "metadata": {
        "id": "IdB8k_yadghA",
        "colab_type": "text"
      },
      "source": [
        "### Functionality methods"
      ]
    },
    {
      "cell_type": "code",
      "metadata": {
        "id": "Xa_gIPs0dcjS",
        "colab_type": "code",
        "colab": {}
      },
      "source": [
        "%%add_to Polymer\n",
        "\n",
        "def append(self, other):\n",
        "  \"\"\"\n",
        "  Adds a reactable (monomer or polymer) to the end of the Polymer.\n",
        "  If the added reactable is a polymer, append() deletes it after taking its monomers.\n",
        "  \"\"\"\n",
        "  #Check the type of thing to add\n",
        "  if isinstance(other, Monomer):\n",
        "    #Monomers can just be appended to the list\n",
        "    self._monomers.append(other)\n",
        "  elif isinstance(other, Polymer):\n",
        "    #For polymers we need to extend rather than append, to avoid nested lists\n",
        "    self._monomers.extend(other.get_monomers())\n",
        "    #Then once the monomers are safely in their new polymer, the old one is deleted\n",
        "    del other\n",
        "\n",
        "def brkloc(self):\n",
        "\n",
        "  #makes a list of all the indices of monomers in the polymer except \n",
        "  #for the last one\n",
        "  indices = []\n",
        "  for n in range(self.get_length() - 1):\n",
        "    indices.append(n)\n",
        "  #puts indices in random order\n",
        "  random.shuffle(indices)\n",
        "  #tests if each indices will break\n",
        "  for index in indices:\n",
        "    #gets the breakprobability for monomer at n index\n",
        "    brkprob = self._monomers[n].get_eastbrkprob()\n",
        "    rand = random.random()\n",
        "    # checks if the random number is less than the brkprob then the index of\n",
        "    #the monomer is returned from the method\n",
        "    #indicating this polymer breaks at the east bond of this monomer\n",
        "    if(brkprob > rand):\n",
        "      return n\n",
        "  return None\n",
        "\n",
        "def removeright(self,location):\n",
        "  \"\"\"\n",
        "  Removes all monomers to the right (east) of a given index\n",
        "  \"\"\"\n",
        "  #creates a list of monomers in the polymer to the left, and including,\n",
        "  #the monomer at the location(index) provided\n",
        "  newList = self._monomers[0:location+1]\n",
        "\n",
        "  #makes a list of the monoers to the rightof the monomer at the \n",
        "  #index provided\n",
        "  removed = self._monomers[location+1:]\n",
        "\n",
        "  #sets the polymers monomers to newList(the monomers to the left\n",
        "  #of  and the index provided)\n",
        "  self.set_monomers(newList)\n",
        "  #print(\"after breaking ractable is:\",self)\n",
        "  #print(\"after breaking removed is:\",removed)\n",
        "\n",
        "  #returns the monomers that were removed, everything the right\n",
        "  #of the index provided\n",
        "  return removed"
      ],
      "execution_count": 10,
      "outputs": []
    },
    {
      "cell_type": "markdown",
      "metadata": {
        "id": "1lx9FPNLeRNM",
        "colab_type": "text"
      },
      "source": [
        "### Homochirality handling"
      ]
    },
    {
      "cell_type": "code",
      "metadata": {
        "id": "THNcbUmt1vm7",
        "colab_type": "code",
        "colab": {}
      },
      "source": [
        "%%add_to Polymer\n",
        "def easthomochiralcheck(self,numbermonomer):\n",
        "  \"\"\"\n",
        "  Takes the index of a monomer within the Polymer and returns whether its east bond is homochiral.\n",
        "  \"\"\"\n",
        "  #First check that the index isn't out of bounds \n",
        "  if (0 > numbermonomer or numbermonomer >= self.get_length()-1):\n",
        "    return False\n",
        "  #get the handedness of this monomer and its east neighbor, and return whether or not they're equal (bool)\n",
        "  return self._monomers[numbermonomer].get_handedness() == self._monomers[numbermonomer+1].get_handedness()\n",
        "\n",
        "def easthomochiralbiascheck (self, numbermonomer):\n",
        "  \"\"\" this method can be used in place of the east homochiral check method\n",
        "  returns false if not homochiral, 3 if homochiral left, 5 if homochiral right\"\"\"\n",
        "\n",
        "  #First check that the index isn't out of bounds or if not homochiral\n",
        "  if (0 > numbermonomer or numbermonomer >= self.get_length()-1 or not self.easthomochiralcheck(numbermonomer)):\n",
        "    return False\n",
        "  \n",
        "  #otherwise check if they are homochiral left or right\n",
        "  elif self._monomers[numbermonomer].get_handedness():\n",
        "      #means left homochiral\n",
        "      return 3\n",
        "  elif not self._monomers[numbermonomer].get_handedness():\n",
        "      #means right homochiral\n",
        "      return 5\n",
        "  \n",
        "\n",
        "def eastbondbreakprobability(self,numbermonomer):\n",
        "  \"\"\"\n",
        "  Takes the index of a monomer within the Polymer\n",
        "  Returns the probability that the monomer's east bond will break\n",
        "  returns -3 if the monomer has no east bond\n",
        "  \"\"\"\n",
        "  ##############################\n",
        "  #Override to return an equal break chance for every bond in the polymer\n",
        "  #Simply comment out this line to get the regular function\n",
        "  #return (0.3)\n",
        "  ##############################\n",
        "\n",
        "  #First check if the monomer is the last one in the polymer\n",
        "  if (numbermonomer >= self.get_length()-1):\n",
        "    #If so, it doesn't have an east bond to break, so the probability is 0(return -3)\n",
        "    return -3\n",
        "    \n",
        "  #now we initialize brk probability (brk)\n",
        "  brk = (BASE_BOND_BREAK_PROBABILITY) * (LENGTH_FACTOR**(self.get_length()/N))\n",
        "  #check if the east bond is homochiral\n",
        "  if (self.easthomochiralcheck(numbermonomer)):\n",
        "    #if so multiply it by homochiral break factor (shrinks probability)\n",
        "    brk *= HOMOCHIRAL_BREAK_FACTOR\n",
        "    #goes through method which checks and calculates benefit of all homochiral neighbors\n",
        "    brk = self.checkforhomochiralneighbors(numbermonomer,brk,HOMOCHIRAL_NEIGHBOR_IMPROV_FACTOR)\n",
        "  #end def: returns break probability of monomers east bond\n",
        "  return brk\n",
        "\n",
        "def biaseastbondbreakprobability(self,numbermonomer):\n",
        "  \"\"\"\n",
        "  ***left-right sensitivity****\n",
        "  Takes the index of a monomer within the Polymer\n",
        "  Returns the probability that the monomer's east bond will break\n",
        "  returns -3 if the monomer has no east bond\n",
        "  \"\"\"\n",
        "  ##############################\n",
        "  #Override to return an equal break chance for every bond in the polymer\n",
        "  #Simply comment out this line to get the regular function\n",
        "  #return (0.3)\n",
        "  ##############################\n",
        "  \n",
        "  #First check if the monomer is the last one in the polymer\n",
        "  if (numbermonomer >= self.get_length()-1):\n",
        "    #If so, it doesn't have an east bond to break, so the probability is 0 (returns -3)\n",
        "    return -3\n",
        "  \n",
        "  #initialize the brk probability\n",
        "  brk = (BASE_BOND_BREAK_PROBABILITY) * (LENGTH_FACTOR**(self.get_length()/N))\n",
        "\n",
        "  #check if the east bond is homochiral left\n",
        "  if (self.easthomochiralbiascheck(numbermonomer) == 3):\n",
        "    brk *= HOMOCHIRAL_BREAK_FACTOR_LEFT\n",
        "\n",
        "    #run through function that recalculates brk based on benfits of homochiral neighbors\n",
        "    brk = self.checkforhomochiralneighbors(numbermonomer, brk, HOMOCHIRAL_NEIGHBOR_IMPROV_FACTOR_LEFT)\n",
        "\n",
        "  #otherwise checks if bond is homochiral right\n",
        "  elif (self.easthomochiralbiascheck(numbermonomer) == 5):\n",
        "    brk *= HOMOCHIRAL_BREAK_FACTOR_RIGHT\n",
        "\n",
        "    #run through function that recalculates brk based on benfits of homochiral neighbors\n",
        "    brk = self.checkforhomochiralneighbors(numbermonomer,brk, HOMOCHIRAL_NEIGHBOR_IMPROV_FACTOR_RIGHT)\n",
        "   \n",
        "  return brk\n",
        "\n",
        "def checkforhomochiralneighbors(self, numbermonomer, brk, neighborfactor):\n",
        "\n",
        "  \"\"\"\n",
        "  helps all the versions of the eastbond break calculating functions\n",
        "  takes in a brk probability a number monomer and the desired neighbor improvement factor\n",
        "  and calculates how the neighbors a bond will increase the strength of the bond\n",
        "  it then returns the new brk prob to the eastbond brk function\n",
        "  \"\"\"\n",
        "  brk = brk\n",
        "  j = numbermonomer + 1\n",
        "  #going right to check for homochiral neighbors\n",
        "  while(self.easthomochiralcheck(j)):\n",
        "    #calculates decrease to brk prob for a neighbor of that distance for the bond\n",
        "    brk *= 1 - (neighborfactor**abs(j - numbermonomer))\n",
        "    j += 1\n",
        "\n",
        "  #going left to check for homochiral neighbors\n",
        "  j=numbermonomer-1\n",
        "  while(self.easthomochiralcheck(j)):\n",
        "    #calculates decrease to brk prob for a neighbor of that distance for the bond\n",
        "    brk *= 1-(neighborfactor**abs(numbermonomer - j))\n",
        "    j -= 1\n",
        "\n",
        "  return brk\n",
        "\n",
        "\n",
        "def poissonbreakprobability(self,numbermonomer):\n",
        "  \"\"\"\n",
        "  Takes the index of a monomer within the Polymer\n",
        "  Returns the probability that the monomer's east bond will break\n",
        "  based on Poisson distribution\n",
        "  returns -3 if the monomer has no east bond\n",
        "  \"\"\"\n",
        "\n",
        "  #First check if the monomer is the last one in the polymer\n",
        "  if (numbermonomer >= self.get_length()-1):\n",
        "    #If so, it doesn't have an east bond to break, so the probability is 0(return -3)\n",
        "    return -3\n",
        "\n",
        "  #With that out of the way, we initialize brk to the base probability of breaking a bond\n",
        "  brk = (BASE_BOND_BREAK_PROBABILITY) * (LENGTH_FACTOR**(self.get_length()/N))\n",
        "\n",
        "  #keeps track of the number of the total consecutive homochiral bonds\n",
        "  homochiralcount=0 \n",
        "\n",
        "  #check if the east bond is homochiral\n",
        "  if (self.easthomochiralcheck(numbermonomer)):\n",
        "    #if so homochiral count increases by 1\n",
        "    homochiralcount +=1\n",
        "    #brk gets benefited by the poisson distribution of homochiral count \n",
        "    brk *= 1-(1.3*(self.poissonequation(homochiralcount)))\n",
        "\n",
        "    #set j to monomer to right\n",
        "    j = numbermonomer+1\n",
        "\n",
        "    #going right to check for neighboring homochirality\n",
        "    while(self.easthomochiralcheck(j)):\n",
        "      #if homochiral increases count\n",
        "      homochiralcount += 1\n",
        "      #recalculates brk prob\n",
        "      brk *= 1-(1.3*(self.poissonequation(homochiralcount)))\n",
        "\n",
        "      #check next monomer\n",
        "      j += 1\n",
        "\n",
        "    #going left to check for neighboring homochirality\n",
        "    j=numbermonomer-1\n",
        "    while(self.easthomochiralcheck(j)):\n",
        "      homochiralcount += 1\n",
        "      brk *= 1-(1.3*(self.poissonequation(homochiralcount)))\n",
        "      j -= 1\n",
        "\n",
        "  return brk\n",
        "\n",
        "def poissonequation(self,k):\n",
        "  #checks if value has already been calulated\n",
        "  if k not in poisson_dict:\n",
        "    #otherwise calculates the values\n",
        "    p = np.exp(-LAMBDA)*((LAMBDA**k)/(np.math.factorial(k)))\n",
        "    #adds to dictionary\n",
        "    poisson_dict[k] = p\n",
        "  return poisson_dict[k]\n",
        "\n",
        "\n",
        "\n",
        "def reset_break_probability(self):\n",
        "    \n",
        "  \"\"\" \n",
        "  resets the break probabilities of the monomers in a \n",
        "  sequence. 1)checks lookup table to see if similar polymer values\n",
        "  have been caluclated, otherwise calculates values and adds\n",
        "  polymer to lookup table 2)sets values to monomers.\n",
        " \n",
        "  \"\"\"\n",
        "  #store self as list of booleans to be added to lookup table\n",
        "  polyseq = self.get_monomers().copy()\n",
        "  for n in range(self.get_length()):\n",
        "    polyseq[n] = polyseq[n].get_handedness()\n",
        "\n",
        "\n",
        "  # All stored sequences start with True. If the one being requested doesn't, invert so that it does\n",
        "  #comment out if right/left sensitivity is included\n",
        "  #if polyseq[0] == True:\n",
        "    #polyseq = [not mono for mono in polyseq]\n",
        "\n",
        "  #make polyseq a tuple able to be added as an index of a dictionary  \n",
        "  polyseq = tuple(polyseq)\n",
        "\n",
        "  # If the sequence is already in the table (dict), retrieves its previously calculated break probabilities\n",
        "  if polyseq in break_prob_lookup_table:\n",
        "    the_probs = break_prob_lookup_table[polyseq]\n",
        "    \n",
        "  else: # Otherwise calculate and add to the lookup table\n",
        "    # Calculate the break probabilities\n",
        "    the_probs = self.calculatebrkprob()\n",
        "    #and add it to the lookup table\n",
        "    break_prob_lookup_table[polyseq] = the_probs\n",
        "\n",
        "  #set monomers eastbond brk probs to correlated values stored in the_probs\n",
        "  for n in range (self.get_length()):\n",
        "    self._monomers[n].set_eastbrkprob(the_probs[n])\n",
        "\n",
        "  #end def: polymer break probabilities recalculated and added\n",
        "  #to lookup table (if not already there)\n",
        "\n",
        "def calculatebrkprob(self):\n",
        "    \n",
        "  \"\"\"\n",
        "  generates and returns a list of break probabilities for the monomers at each index of\n",
        "  a polymer. This method can be altered to calculate normally\n",
        "  with left/right sensitivity or with a poisson distribution\n",
        " \n",
        "  \"\"\"\n",
        "\n",
        "  #initialize brk_probs as an empty list\n",
        "  brk_probs = []\n",
        "  \n",
        "  #checks if polymer is of length one -meaning it is lone monomer\n",
        "  if self.get_length() == 1 :\n",
        "    #if so adds -1 to list(brk prob value assigned to individual monomers)\n",
        "    brk_probs.append(-1)\n",
        "    \n",
        "  else:\n",
        "    #otherwise goes through all the indices of the polymer,calculates its brk probability, and appends it to brk_probs \n",
        "    for n in range(self.get_length()):\n",
        "\n",
        "      #############################################################\n",
        "      #LEFT RIGHT SENSITIVITY/POISSON EQUATIONS CHOICE.           #\n",
        "      #pick one-comment out the rest.                             #\n",
        "      #############################################################\n",
        "\n",
        "      #this line if uncommented will have left/right sensitivity\n",
        "      brk_probs.append(self.biaseastbondbreakprobability(n))\n",
        "\n",
        "      #this line if uncommented will calculate probabilities normally\n",
        "      #brk_probs.append(self.eastbondbreakprobability(n))\n",
        "\n",
        "      #this line if uncommented will calculate brk probabilities with poisson distribution\n",
        "      #brk_probs.append(self.poissonbreakprobability(n))\n",
        "\n",
        "  #returns in order list of brk probs for the east bond of all the monomers in a polymer\n",
        "  return brk_probs\n"
      ],
      "execution_count": 11,
      "outputs": []
    },
    {
      "cell_type": "markdown",
      "metadata": {
        "id": "oV4UK3XdkNoF",
        "colab_type": "text"
      },
      "source": [
        "## The Reactables class"
      ]
    },
    {
      "cell_type": "markdown",
      "metadata": {
        "id": "NPkloQE3XbaD",
        "colab_type": "text"
      },
      "source": [
        "This is the Reactables class aka the stylish little bag we keep our contestants in. As all good dating shows, we define our members by the relationship they are in. So a single monomer will be addd to the bag alone, but a monomer in a polymer will not be. Rather each polymer will be recorded once. Its like if you have charlie, ben, and jack. Jack and Ben are in a relationship so they are jointly called Jen. If these three were in the reactable bag they would be recognized as two things, charlie and Jen(Ben+JAck). The reactable class is the heart and center of our game- I mean dating- show. Its here we ask all the members just the right questions to get them falling in love and breaking hearts, and then we are curteous enough to do all the splitting and merging for them. "
      ]
    },
    {
      "cell_type": "markdown",
      "metadata": {
        "id": "HVY41XQPUjIT",
        "colab_type": "text"
      },
      "source": [
        "### Constructor"
      ]
    },
    {
      "cell_type": "code",
      "metadata": {
        "id": "JAdpBmhBUuGc",
        "colab_type": "code",
        "colab": {}
      },
      "source": [
        "class Reactables:\n",
        "\n",
        "  def __init__(self, reactables = []):\n",
        "    \"\"\"\n",
        "    Constructor class for Reactables object\n",
        "    Accepts list of reactables or defaults to empty list\n",
        "    Reactables functions as a bin for reactable objects monomer and polymer\n",
        "    Methods consist mostly of list handling\n",
        "    \"\"\"\n",
        "    self._reactables = reactables\n",
        "    #The reactables bag also handles remembering its history\n",
        "    self._history = []\n",
        "    #self._leftrighthistory = []\n",
        "    #list of tuples of avg age and signed ee for each reactable in the list\n",
        "    self._agehistory = []\n",
        "\n",
        "\n",
        "  def __str__(self):\n",
        "    \"\"\"\n",
        "    str method for Reactables class\n",
        "    \"\"\"\n",
        "    return str(self.get_reactables())"
      ],
      "execution_count": 12,
      "outputs": []
    },
    {
      "cell_type": "markdown",
      "metadata": {
        "id": "hqD3AL_kUldF",
        "colab_type": "text"
      },
      "source": [
        "### Getters and Setters"
      ]
    },
    {
      "cell_type": "code",
      "metadata": {
        "id": "7hRne9W9U3No",
        "colab_type": "code",
        "colab": {}
      },
      "source": [
        "%%add_to Reactables\n",
        "\n",
        "#################\n",
        "#GETTERS/SETTERS#\n",
        "#################\n",
        "\n",
        "def get_reactables(self):\n",
        "  \"\"\"\n",
        "  Getter method for reactables in Reactables\n",
        "  Returns a list of the objects currently in the Reactables bag\n",
        "  \"\"\"\n",
        "  return self._reactables\n",
        "\n",
        "def get_history(self):\n",
        "  \"\"\" Return the history of the reactables bag.\n",
        "  \"\"\"\n",
        "  return self._history\n",
        "\n",
        "#def get_leftrighthistory(self):\n",
        "  #return self._leftrighthistory\n",
        "\n",
        "def get_agehistory(self):\n",
        "  return self._agehistory\n",
        "  \n",
        "def get_count(self):\n",
        "  \"\"\"\n",
        "  Getter method for Reactables class\n",
        "  Returns the number of objects in the Reactables bag\n",
        "  \"\"\"\n",
        "  return len(self.get_reactables()) \n",
        "\n",
        "\n",
        "def set_reactables(self, new_list):\n",
        "  \"\"\"\n",
        "  Setter method for the Reactables class\n",
        "  Sets the reactables bag to a new list\n",
        "  Used mostly as a helper function in bonding\n",
        "  \"\"\"\n",
        "  self._reactables = new_list\n",
        "\n",
        "def set_agehistory(self, newagehistory):\n",
        "  self._agehistory = newagehistory\n",
        "\n",
        "\n",
        "def get_bond_chance(self, reactable1, reactable2):\n",
        "  \"\"\"\n",
        "  Returns the probability that two given reactables in the reactables bag will bond\n",
        "  \"\"\"\n",
        "  return BOND_PROB\n",
        "\n",
        "def get_free_monomers(self):\n",
        "  return [r for r in self.get_reactables() if isinstance(r, Monomer)]\n",
        "\n",
        "def get_polymers(self):\n",
        "  return [r for r in self.get_reactables() if isinstance(r, Polymer)]\n",
        "\n",
        "def get_bound_monomers(self):\n",
        "  bound = []\n",
        "  for p in self.get_polymers():\n",
        "    bound.extend(p.get_monomers())\n",
        "  return bound\n",
        "\n",
        "#def record_leftrighthomochiral(self):\n",
        " # \"\"\"returns the number of left and right homochiral bonds, (left,right)\"\"\"\n",
        " # l=0\n",
        "  #r=0\n",
        "  #for polymer in self.get_polymers() :\n",
        "   # tuple1 = polymer.get_leftrighthomochiralbonds()\n",
        "    #l += tuple1[0]\n",
        "    #r += tuple1[1]\n",
        "  #tuple2 = (l , r)\n",
        "  #self._leftrighthistory.append(tuple2)\n",
        "  #return tuple2"
      ],
      "execution_count": 13,
      "outputs": []
    },
    {
      "cell_type": "markdown",
      "metadata": {
        "id": "HEFlHyn6UoPU",
        "colab_type": "text"
      },
      "source": [
        "### Functionality methods"
      ]
    },
    {
      "cell_type": "markdown",
      "metadata": {
        "id": "cz4Cis4ze7j6",
        "colab_type": "text"
      },
      "source": [
        "#### Top level functionality"
      ]
    },
    {
      "cell_type": "code",
      "metadata": {
        "id": "UZMHOVm_fDL0",
        "colab_type": "code",
        "colab": {}
      },
      "source": [
        "%%add_to Reactables\n",
        "\n",
        "def refill(self, pool_size):\n",
        "  #Do we have less than the required number of things in the pool?\n",
        "  dearth = pool_size - self.get_count()\n",
        "  #If so,\n",
        "  if dearth > 0:\n",
        "    new = []\n",
        "    #Make as many monomers as we need to get back up to the riquired amount\n",
        "    for n in range(dearth):\n",
        "      new.append(Monomer())\n",
        "    #And add them to the reactables bag\n",
        "    self.add(new)\n",
        "\n",
        "def randomize_reactables(self):\n",
        "  \"\"\"\n",
        "  Randomizes the order of the reactables list\n",
        "  \"\"\"\n",
        "  #Get the current reactables\n",
        "  reactables = self.get_reactables()\n",
        "  #Shuffle them\n",
        "  random.shuffle(reactables)\n",
        "  #And reset the reactables list to the new sorted list\n",
        "  self.set_reactables(reactables)\n",
        "\n",
        "def do_the_thing(self):\n",
        "  \"\"\"Handle a single iteration of the reactables.\n",
        "\n",
        "  \"\"\"\n",
        "  #We keep track of bonding by storing the most recent reactable to choose to bond as the 'bachelor.'\n",
        "  bachelor = None\n",
        "  #We need a copy of the reactables because indices will change as soon as we start doing stuff\n",
        "  reactables = copy.copy(self.get_reactables())\n",
        "  #Iterate through each reactable\n",
        "  for item in reactables:\n",
        "    #Roll a random number in (0,1) to compare against our probabilities\n",
        "    roll = random.random()\n",
        "    #If our reactable is a monomer...\n",
        "    if isinstance(item, Monomer):\n",
        "      #We get our breaking and bonding chances (parameters now, may become functions later?)\n",
        "      brk = POOF_CHANCE\n",
        "      bond = BOND_PROB\n",
        "      #If we roll to break the monomer\n",
        "      if 0 < roll <= brk:\n",
        "        #Just delete it\n",
        "        del item\n",
        "      #If we roll to bond the monomer\n",
        "      elif brk < roll <= brk+bond:\n",
        "        #Check if there's a reactable waiting to bond\n",
        "        if bachelor == None:\n",
        "          #If not, make this monomer the bachelor. Someone will come along to bond later.\n",
        "          bachelor = item\n",
        "        else:\n",
        "          #If there is someone waiting, bond them together and reset the bachelor chair to empty.\n",
        "          self.bond_pair(bachelor, item)\n",
        "          bachelor = None\n",
        "      else:\n",
        "        continue\n",
        "    #If the reactable is a polymer instead...\n",
        "    elif isinstance(item, Polymer):\n",
        "      #Choose whether the polymer will break or bond. It's 50-50 right now.\n",
        "      if roll >= 0.2:\n",
        "        #This is the same bonding logic as for the monomer. It's not in a helper function because it needs to be able to access bachelor.\n",
        "        if bachelor == None:\n",
        "          bachelor = item\n",
        "        else:\n",
        "          self.bond_pair(bachelor, item)\n",
        "          bachelor = None\n",
        "      #Here's what happens if the polymer is chosen to check breaking\n",
        "      else:\n",
        "        #It finds its break location\n",
        "        break_spot = item.brkloc()\n",
        "        #Which might turn out to be nowhere.\n",
        "        if break_spot != None:\n",
        "          #If somewhere does break, call break_polymer to handle the breaking\n",
        "          self.break_polymer(item,break_spot)\n",
        "    else:\n",
        "      #You never know what might end up in your reactables bag\n",
        "      raise ValueError(\"This thing is neither a monomer or a polymer. What?!\")\n",
        "\n",
        "def iterate(self,size):\n",
        "  \"\"\"\n",
        "  Handles full sequence of iteration\n",
        "  \"\"\"\n",
        "  self.randomize_reactables()\n",
        "  self.do_the_thing()\n",
        "  self.log()\n",
        "  self.ageup()\n",
        "  #self.record_leftrighthomochiral()\n",
        "  self.refill(size)"
      ],
      "execution_count": 14,
      "outputs": []
    },
    {
      "cell_type": "markdown",
      "metadata": {
        "id": "ALnPeaUCfhL4",
        "colab_type": "text"
      },
      "source": [
        "#### Functionality helpers"
      ]
    },
    {
      "cell_type": "code",
      "metadata": {
        "id": "hpqCXL48VGTB",
        "colab_type": "code",
        "colab": {}
      },
      "source": [
        "%%add_to Reactables\n",
        "\n",
        "\n",
        "def add(self, new_reactables):\n",
        "  \"\"\"\n",
        "  Adds a list of reactables to the reactables bag\n",
        "  Built on extend(); argument must be iterable\n",
        "  \"\"\"\n",
        "  #print(\"list of new Reactbles\", new_reactables)\n",
        "  #print(\"list of get Reactables:\",self.get_reactables())\n",
        "  self.get_reactables().extend(new_reactables)\n",
        "  #print(\"reactables list is now\",self.get_reactables())\n",
        "\n",
        "\n",
        "def subtract(self, removables):\n",
        "  \"\"\"\n",
        "  Removes a list of reactables from the reactables bag\n",
        "  Built on list comprehension; argument must be iterable\n",
        "  \"\"\"\n",
        "  self.set_reactables([reactable for reactable in self.get_reactables() if not (reactable in removables)])\n",
        "\n",
        "\n",
        "def bond_pair(self, west, east):\n",
        "  \"\"\"\n",
        "  Accepts two reactables from the bag\n",
        "  Bonds them together, handling deletion of any emptied polymer\n",
        "  \"\"\"\n",
        "  #Take your two reactables and check if the west one is a monomer or a polymer \n",
        "  if isinstance(west, Polymer):\n",
        "    #If it's a polymer, all you've got to do is append the east item and then take it out of the bag\n",
        "    west.append(east)\n",
        "    self.subtract([east])\n",
        "    #recalculate the breakprobabilities of the bonds in polymer\n",
        "    west.reset_break_probability()\n",
        "  if isinstance(west, Monomer):\n",
        "    #If west friend is a Monomer, then make a new polymer containing west\n",
        "    newpoly = Polymer([west])\n",
        "    #Add the east things to it\n",
        "    newpoly.append(east)\n",
        "    #Remove both the west monomer and the east thing\n",
        "    self.subtract([east])\n",
        "    self.subtract([west])\n",
        "    #And put the new polymer into the reactables bag\n",
        "    self.add([newpoly])\n",
        "    #recalculates break probability\n",
        "    newpoly.reset_break_probability()\n",
        "\n",
        "\n",
        "def break_polymer(self, polymer, brk_location):\n",
        "  #breaks polymer at given location and creates a new polymer of the \n",
        "  #monomers removed\n",
        "  #when polymer is made-breakprobabilities are calculated\n",
        "  newPolymer = Polymer(polymer.removeright(brk_location))\n",
        "  #if(newPolymer._monomers[0].get_handedness() and polymer._monomers[-1].get_handedness()):\n",
        "    #print (\"left breaking when literally impossible????\")\n",
        "  polys = [newPolymer, polymer]\n",
        "  #resets break probabilities in polymer\n",
        "  polymer.reset_break_probability()\n",
        "  #goes throught the two new polymers\n",
        "  for poly in polys:\n",
        "    if poly.get_length()==0:\n",
        "      print(\"whyyyyyyyyyyy is this happening????\")\n",
        "    #checks if they are of length 1\n",
        "    if poly.get_length() <= 1:\n",
        "      #adds them to reactable as a single monomer\n",
        "      self.add(poly.get_monomers())\n",
        "      #subtracts polymer from reactable list\n",
        "      self.subtract([poly])\n",
        "      del poly\n",
        "    #checks if the polymer is not in the reactables list\n",
        "    elif (poly not in self.get_reactables()):\n",
        "      #add polymer to reactable list\n",
        "      self.add([poly])\n",
        "    \n",
        "\n"
      ],
      "execution_count": 15,
      "outputs": []
    },
    {
      "cell_type": "markdown",
      "metadata": {
        "id": "CmKsCAazVPy_",
        "colab_type": "text"
      },
      "source": [
        "### Current state data methods"
      ]
    },
    {
      "cell_type": "code",
      "metadata": {
        "id": "4FVYtSkYVZ7n",
        "colab_type": "code",
        "colab": {}
      },
      "source": [
        "%%add_to Reactables\n",
        "\n",
        "def get_overall_chirality(self):\n",
        "  \"\"\" Return the total quantity of left- and right-handed monomers in the reactable\n",
        "    pool, including monomers within polymers.\n",
        "\n",
        "  RETURN tuple\n",
        "  (Left-handed_quantity, Right-handed_quantity)\n",
        "  \"\"\"\n",
        "  left_count = 0\n",
        "  right_count = 0\n",
        "  for reactable in self.get_reactables():\n",
        "    if isinstance(reactable, Monomer):\n",
        "      if reactable.get_handedness():\n",
        "        left_count += 1\n",
        "      else:\n",
        "        right_count += 1\n",
        "    elif isinstance(reactable, Polymer):\n",
        "      l, r = reactable.get_chirality()\n",
        "      left_count += l\n",
        "      right_count += r\n",
        "    else:\n",
        "      print(f\"{reactable}, which is a {type(reactable)}\")\n",
        "      raise ValueError\n",
        "  return (left_count, right_count)\n",
        "\n",
        "def get_polymer_chirality(self):\n",
        "  \"\"\" Return the total quantity of left- and right-handed monomers in the polymers\n",
        "  within the reactable pool.\n",
        "\n",
        "  RETURN tuple\n",
        "  (Left-handed_quantity, Right-handed_quantity)\n",
        "  \"\"\"\n",
        "  left_count = 0\n",
        "  right_count = 0\n",
        "  for reactable in self.get_reactables():\n",
        "    if isinstance(reactable, Polymer):\n",
        "      l, r = reactable.get_chirality()\n",
        "      left_count += l\n",
        "      right_count += r\n",
        "  return (left_count, right_count)\n",
        "\n",
        "def get_free_proportion(self):\n",
        "  \"\"\"Return the proportion of free monomers to total population\"\"\"\n",
        "  return len(self.get_free_monomers())/self.unit_count()\n",
        "\n",
        "def unit_count(self):\n",
        "  \"\"\"return the total number of monomers in the bag, both free and bound\"\"\"\n",
        "  bound = 0\n",
        "  for p in self.get_polymers():\n",
        "    bound += p.get_length()\n",
        "  return len(self.get_free_monomers()) + bound\n",
        "\n",
        "def get_polymer_ee(self):\n",
        "  ee = []\n",
        "  for polymer in self.get_polymers():\n",
        "    ee.append(polymer.get_signed_ee())\n",
        "  return ee\n",
        "\n",
        "def avg_ee_by_length(self):\n",
        "  \"\"\" Return a list containing the enantiomeric excess of all reactables sorted by size.\n",
        "  That is:\n",
        "  [(ee of monomers),(ee of 2-mers),(ee of 3-mers) etc]\n",
        "  \"\"\"\n",
        "  output = []\n",
        "  for n in range(1,self.max_length()+1):\n",
        "    group = self.get_reactables_by_length(n)\n",
        "    ees = []\n",
        "    # print(f\"For length {n} I got {len(group)} reactables.\")\n",
        "    if len(group) > 0:\n",
        "      # eestr = \"\"\n",
        "      for r in group:\n",
        "        ees.append(r.get_ee())\n",
        "        # eestr += f\", {r.get_ee()}\"\n",
        "      output.append(np.mean(ees))\n",
        "      # print(f\"The ee's of this length were {eestr}.\\nThe average ee was {np.mean(ees)}.\")\n",
        "    else:\n",
        "      output.append(0)\n",
        "  return output\n",
        "\n",
        "def get_reactables_by_length(self,length):\n",
        "  if length <= 1:\n",
        "    #return the monomers\n",
        "    return self.get_free_monomers()\n",
        "  else:\n",
        "    return [p for p in self.get_polymers() if p.get_length() == length]\n",
        "\n",
        "def max_length(self):\n",
        "  \"\"\" Return the length of the longest polymer in the reactables bag.\n",
        "  \"\"\"\n",
        "  length = 0\n",
        "  for p in self.get_polymers():\n",
        "    if p.get_length() > length:\n",
        "      length = p.get_length()\n",
        "  return length\n",
        "\n",
        "def ageup(self):\n",
        "  for reactable in self.get_reactables():\n",
        "    reactable.birthday()\n",
        "    \n",
        "\n",
        "def logagehistory (self):\n",
        "  log = []\n",
        "  polymers = self.get_polymers()\n",
        "  for molecule in polymers:\n",
        "    log.append(molecule.get_age())\n",
        "  return log\n",
        "  \n",
        "\n"
      ],
      "execution_count": 16,
      "outputs": []
    },
    {
      "cell_type": "markdown",
      "metadata": {
        "id": "FVHgjYMhkuri",
        "colab_type": "text"
      },
      "source": [
        "### History handling methods"
      ]
    },
    {
      "cell_type": "code",
      "metadata": {
        "id": "tps6afh4kzUe",
        "colab_type": "code",
        "colab": {}
      },
      "source": [
        "%%add_to Reactables\n",
        "\n",
        "# def old_log(self):\n",
        "#   \"\"\" Translate current reactables list into a lighter-weight list of tuples \n",
        "#     describing the bag state, then logs that list into self._history.\n",
        "#     Log format: (length,signed_ee)\n",
        "#     e.g.  True-monomer would be (1,1)\n",
        "#           [False, True, False, False]-polymer would be (4,-0.5)\n",
        "#     \"\"\"\n",
        "#   log = []\n",
        "#   for r in self.get_reactables():\n",
        "#     log.append(r.generate_old_log())\n",
        "#   (self._history).append(log)\n",
        "\n",
        "def log(self):\n",
        "  \"\"\" Translate current reactables into a loggable list of tuples.\n",
        "  This log keeps the full sequences of the polymers without digesting the data, \n",
        "  so it should be more flexible as we more forward with pulling new information\n",
        "  out of this simulation. \n",
        "  There is one major piece of information lost, however, which is the identities\n",
        "  of the individual polymers and monomers. \"\"\"\n",
        "  log = []\n",
        "  for r in self.get_reactables():\n",
        "    log.append(r.generate_log())\n",
        "  (self._history).append(log)\n",
        "  self._agehistory.append(self.logagehistory())\n",
        "  \n",
        "\n",
        "\n",
        "\n",
        "\n",
        "# def get_iter_polymers_by_length(self, single_iteration_log):\n",
        "#   # So we have something like this: [(t,f,f),(t),(f,f),(f),(t,t,t,f)]\n",
        "#   polymers_by_length = []\n",
        "#   lengths = [len(log) for log in single_iteration_log]\n",
        "#   biggest = max(lengths)\n",
        "#   for n in range(1, biggest+1):\n",
        "#     polys = [log for log in single_iteration_log if len(log) == n]\n",
        "#     if len(polys) > 0:\n",
        "#       polymers_by_length.append(polys)\n",
        "#     else:\n",
        "#       polymers_by_length.append([])\n",
        "#   return polymers_by_length\n",
        "\n",
        "# def get_iter_ees_by_length(self,single_iter_log):\n",
        "#   polymers_by_length = self.get_iter_polymers_by_length(single_iter_log)\n",
        "#   for length_category in polymers_by_length:\n",
        "#     for polymer in length_category:\n",
        "#       ee = hist_get_polymer_ee(polymer)\n",
        "\n",
        "\n",
        "\n",
        "\n"
      ],
      "execution_count": 17,
      "outputs": []
    },
    {
      "cell_type": "markdown",
      "metadata": {
        "id": "UkZ1_7xIy0Yd",
        "colab_type": "text"
      },
      "source": [
        "#### Low level info functions"
      ]
    },
    {
      "cell_type": "code",
      "metadata": {
        "id": "qJQfgfeSy5Me",
        "colab_type": "code",
        "colab": {}
      },
      "source": [
        "%%add_to Reactables\n",
        "\n",
        "def hist_get_polymer_homochirality_of_bonds(self,polylog):\n",
        "  \"\"\" Return a boolean list of bonds within a given logged polymer, True if the bond is\n",
        "      homochiral. \"\"\"\n",
        "  return [i[0]==i[1] for i in list(more_itertools.pairwise(polylog))]\n",
        "\n",
        "def hist_get_polymer_ee(self,polylog):\n",
        "  \"\"\" Return the (signed) enantiomeric excess of a logged polymer. \"\"\"\n",
        "  length = len(polylog)\n",
        "  n_True = sum(polylog)\n",
        "  n_False = length - n_True\n",
        "  return (n_True - n_False) / length\n",
        "\n",
        "def hist_get_polymers(self,iteration):\n",
        "  \"\"\" Return a list of the polymer logs in an iteration. This is just the iteration\n",
        "  but without the monomers. \"\"\"\n",
        "  return [r for r in iteration if len(r) > 1]\n",
        "\n",
        "def hist_count_longest_homochiral_chain(self,polylog):\n",
        "  \"\"\" Return the length of the longest homochiral chain given the log of a polymer. \"\"\"\n",
        "  previous = None\n",
        "  count = 1\n",
        "  longest = 1\n",
        "  for monomer in polylog:\n",
        "    if monomer == previous:\n",
        "      count += 1\n",
        "    else:\n",
        "      longest = max(count, longest)\n",
        "      count = 1\n",
        "    previous = monomer\n",
        "  longest = max(count, longest)\n",
        "  return longest\n",
        "\n",
        "def hist_get_polymer_chain_lengths(self,polylog):\n",
        "  \"\"\" Return the lengths of the homochiral chains in a given polymer log. \"\"\"\n",
        "  count = 1\n",
        "  lengths = [] \n",
        "  for n in range(1,len(polylog)):\n",
        "    if polylog[n] == polylog[n-1]:\n",
        "      count += 1\n",
        "    else:\n",
        "      lengths.append(count)\n",
        "      count = 1\n",
        "  lengths.append(count)\n",
        "  return lengths\n",
        "\n",
        "def hist_get_iteration_chain_lengths(self,iteration):\n",
        "  \"\"\" Return the lengths of all the homochiral chains in polymers in a given iteration. \"\"\"\n",
        "  polymers = self.hist_get_polymers(iteration)\n",
        "  chain_lengths = []\n",
        "  for polymer in polymers:\n",
        "    chain_lengths.extend(self.hist_get_polymer_chain_lengths(polymer))\n",
        "  return chain_lengths\n",
        "\n",
        "def hist_get_leftright_homochiral_count_iteration(self,iteration):\n",
        "  \"\"\"\n",
        "  returns a tuple (l,r)of the total number of left homochiral bonds and right homochiral bonds in an iteration \n",
        "  \"\"\"\n",
        "  \n",
        "  l=0\n",
        "  r=0\n",
        "  for reactable in iteration:\n",
        "     l += self.hist_get_leftright_homochiral_count_polymer(reactable)[0]\n",
        "     r += self.hist_get_leftright_homochiral_count_polymer(reactable)[1]\n",
        "  leftrightcount=(l,r)\n",
        "  return leftrightcount\n",
        "\n",
        "def hist_get_leftright_homochiral_count_polymer(self,polymer):\n",
        "  \"\"\"\n",
        "  returns a tuple (l,r)of the total number of left homochiral bonds and right homochiral bonds in an polymer \n",
        "  \"\"\"\n",
        "  l=0\n",
        "  r=0\n",
        "  for monomer in range(len(polymer)-1):\n",
        "        if (polymer[monomer]== polymer[monomer+1]):\n",
        "          if (polymer[monomer]):\n",
        "            l += 1\n",
        "          elif (not polymer[monomer]):\n",
        "            r += 1\n",
        "  leftrightcount= (l,r)\n",
        "  return leftrightcount\n"
      ],
      "execution_count": 18,
      "outputs": []
    },
    {
      "cell_type": "markdown",
      "metadata": {
        "id": "WdlB4JOXUq9i",
        "colab_type": "text"
      },
      "source": [
        "### Plotting methods"
      ]
    },
    {
      "cell_type": "code",
      "metadata": {
        "id": "czdjDAVBPpQI",
        "colab_type": "code",
        "colab": {}
      },
      "source": [
        "%%add_to Reactables\n",
        "\n",
        "def visualize_parameters(self,stamp=\"\"):\n",
        "  fig,ax = plt.subplots()\n",
        "\n",
        "  parameters = ['POOF_CHANCE','BOND_PROB','BASE_BOND_BREAK_PROBABILITY',\n",
        "                'HOMOCHIRAL_BREAK_FACTOR','HOMOCHIRAL_NEIGHBOR_IMPROV_FACTOR',\n",
        "                'LENGTH_FACTOR','HOMOCHIRAL_BREAK_FACTOR_LEFT',\n",
        "                'HOMOCHIRAL_BREAK_FACTOR_RIGHT',\n",
        "                'HOMOCHIRAL_NEIGHBOR_IMPROV_FACTOR_LEFT',\n",
        "                'HOMOCHIRAL_NEIGHBOR_IMPROV_FACTOR_RIGHT']\n",
        "  values = [POOF_CHANCE,BOND_PROB,BASE_BOND_BREAK_PROBABILITY,\n",
        "            HOMOCHIRAL_BREAK_FACTOR,HOMOCHIRAL_NEIGHBOR_IMPROV_FACTOR,\n",
        "            LENGTH_FACTOR,HOMOCHIRAL_BREAK_FACTOR_LEFT,\n",
        "            HOMOCHIRAL_BREAK_FACTOR_RIGHT,\n",
        "            HOMOCHIRAL_NEIGHBOR_IMPROV_FACTOR_LEFT,\n",
        "            HOMOCHIRAL_NEIGHBOR_IMPROV_FACTOR_RIGHT]\n",
        "\n",
        "  ypos = np.arange(len(parameters))\n",
        "\n",
        "  ax.barh(ypos, values, align='center')\n",
        "  ax.set_yticks(ypos)\n",
        "  ax.set_yticklabels(parameters)\n",
        "  ax.invert_yaxis()  # labels read top-to-bottom\n",
        "  ax.set_xlabel('Value')\n",
        "  ax.set_title(f\"{stamp}Parameter values\")\n",
        "\n",
        "\n",
        "\n",
        "def plot_signed_ee_spread(self,cmap='bone',stamp=\"\"):\n",
        "  #First make the polymerspread thingy\n",
        "  poly_ee_hist = []\n",
        "  for iteration in self.get_history():\n",
        "    polys = [log for log in iteration if not isinstance(log,bool)]\n",
        "    polydata = [log for log in polys if len(log) > 1] # All the polymers (not monomers) in the iteration\n",
        "    poly_ees = [self.hist_get_polymer_ee(poly) for poly in polydata] # the EE of each polymer in the iteration\n",
        "    poly_ee_hist.append(poly_ees) # Put the EE list in our plottable structure\n",
        "  #Now we can make the plot\n",
        "  fig,ax = plt.subplots()\n",
        "  ys = []\n",
        "  xs = []\n",
        "  for n in range(len(poly_ee_hist)):\n",
        "    y = poly_ee_hist[n]\n",
        "    x = [n] * len(y)\n",
        "    ys.extend(y)\n",
        "    xs.extend(x)\n",
        "  ax.hexbin(xs,ys,cmap=cmap)\n",
        "  ax.set_title(f\"{stamp}polymer spread\")\n",
        "  ax.set_xlabel(\"iteraions\")\n",
        "  ax.set_ylabel(\"ee\")\n",
        "\n",
        "def plot_ee_heatmap(self,cmap='bone',stamp=\"\"):\n",
        "  #Need to figure out how to get ees_by_length from history\n",
        "  ees_by_length = []\n",
        "  for iteration in self.get_history():\n",
        "    ee_data = []\n",
        "    #get the polymers\n",
        "    polys = [log for log in iteration if not isinstance(log,bool)]\n",
        "    #get the length of the longest polymer\n",
        "    lengths = [len(log) for log in polys]\n",
        "    try:\n",
        "      biggest = max(lengths)\n",
        "    except:\n",
        "      biggest = 0\n",
        "    for n in range(1,biggest+1):\n",
        "      ees = [abs(self.hist_get_polymer_ee(log)) for log in polys if len(log) == n]\n",
        "      if len(ees) > 0:\n",
        "        ee_data.append(np.mean(ees))\n",
        "      else:\n",
        "        ee_data.append(0)\n",
        "    ees_by_length.append(ee_data)\n",
        "  #Need to make a new ee array with rectangular dimensions\n",
        "  ee = numpy_fillna(ees_by_length)\n",
        "  fig,ax = plt.subplots(dpi=150)\n",
        "  im = ax.imshow(ee,cmap=cmap)\n",
        "  ax.set_title(f\"{stamp}ee of polymers by length through iterations\")\n",
        "  ax.set_xlabel(\"polymer lengths\")\n",
        "  ax.set_ylabel(\"iterations\")\n",
        "  fig.tight_layout()\n",
        "  plt.show()\n",
        "\n",
        "def plot_leftrighthomochirality(self):\n",
        "  plt.figure()\n",
        "  L=[]\n",
        "  R=[]\n",
        "  x=[]\n",
        "  i=1\n",
        "\n",
        "  for iteration in self.get_history():\n",
        "    leftrightcount=self.hist_get_leftright_homochiral_count_iteration(iteration)\n",
        "    L.append(leftrightcount[0])\n",
        "    R.append(leftrightcount[1])\n",
        "    #for reactable in iteration:\n",
        "     # for monomer in range(len(reactable)-1):\n",
        "       # if (reactable[monomer]== reactable[monomer+1]):\n",
        "         # if (reactable[monomer]):\n",
        "          #  l += 1\n",
        "         # elif (not reactable[monomer]):\n",
        "           # r += 1\n",
        "    #L.append(l)\n",
        "    #R.append(r)\n",
        "    x.append(i)\n",
        "    i+=1\n",
        "\n",
        "\n",
        "  #for iteration in self.get_leftrighthistory():\n",
        "    #l.append(iteration[0])\n",
        "    #r.append(iteration[1])\n",
        "    #x.append(i)\n",
        "    #i+= 1\n",
        "  plt.plot(x,L,label=\"left homochiral\")\n",
        "  plt.plot(x,R,label=\"right homochiral\")\n",
        "  plt.ylabel(\"Number of bonds\")\n",
        "  plt.xlabel(\"Iterations\")\n",
        "  plt.title(\"Left right homochiral bonds when LEFT=\"+str(HOMOCHIRAL_BREAK_FACTOR_LEFT) +  \"and right=\" + str(HOMOCHIRAL_BREAK_FACTOR_RIGHT))\n",
        "  plt.legend()\n",
        "  plt.show()\n",
        "\n",
        "def plot_homochiral_chain_lengths(self):\n",
        "  \"\"\" Plot a chart of the mean length of homochiral chains present at each iteration.\n",
        "  The plot generated will attempt to summarize the mean lengths of homochiral\n",
        "  chains within polymers across iterations. It will also attempt to visualize the \n",
        "  varience with continuous lines plotting the standard deviation around that mean.\n",
        "  \n",
        "  The x axis of the resulting plot is iterations, and the y axis is length of \n",
        "  the homochiral chains. Both of these are discrete categories, but the plot will\n",
        "  treat iterations as continuous to improve readability for large n.\n",
        "  \"\"\"\n",
        "  # Get the history and read it \n",
        "  history = self.get_history()\n",
        "  means = []\n",
        "  stdevs= []\n",
        "  maxes = []\n",
        "  for iteration in history:\n",
        "    # Get the chain lengths in that iteration\n",
        "    iter_data = self.hist_get_iteration_chain_lengths(iteration)\n",
        "    if iter_data == []:\n",
        "      means.append(0)\n",
        "      stdevs.append(0)\n",
        "      maxes.append(0)\n",
        "      print(\"this happened in this iteration???whyyyyyyyyyyyyy\")\n",
        "      print (iteration)\n",
        "      print (iter_data)\n",
        "    else:\n",
        "      means.append(np.mean(iter_data))\n",
        "      stdevs.append(np.std(iter_data))\n",
        "      maxes.append(max(iter_data))\n",
        "  # Plot those data\n",
        "  fig,ax = plt.subplots()\n",
        "  ax.fill_between(np.arange(0,len(means)), [m + s for m, s in zip(means, stdevs)],[m - s for m, s in zip(means, stdevs)], alpha=0.2, label = \"Means +- one standard deviation\")\n",
        "  ax.plot(means, 'k-', label = \"Mean homochiral chain length\")\n",
        "  ax.plot(maxes, 'b.', label = \"Max homochiral chain length\")\n",
        "  ax.set_xlabel(\"Iteration\")\n",
        "  ax.set_ylabel(\"Homochiral chain length\")\n",
        "  ax.legend()\n",
        "\n",
        "def plot_homochirality_vs_length(self):\n",
        "  \"\"\" Take all the polymers that ever existed in history and plot them on a\n",
        "  scatter plot of length vs homochirality. Homochirality is the percent of their\n",
        "  bonds that are homochiral. \"\"\"\n",
        "  #Get the history\n",
        "  history = self.get_history()\n",
        "  #Get the polymers\n",
        "  x = []\n",
        "  y = []\n",
        "  for i in history:\n",
        "    for p in self.hist_get_polymers(i):\n",
        "      homochirality = sum(self.hist_get_polymer_homochirality_of_bonds(p))/len(p)\n",
        "      x.append(len(p))\n",
        "      y.append(homochirality)\n",
        "  fig,ax = plt.subplots()\n",
        "  ax.scatter(x,y)\n",
        "  ax.set_xlabel(\"Polymer lengths\")\n",
        "  ax.set_ylabel(\"Homochirality\")\n",
        "\n",
        "def plot_age_vs_homochirality(self):\n",
        "  #doooo something with bondssss\n",
        "  plt.figure()\n",
        "  x=[]\n",
        "  y=[]\n",
        "  l=[]\n",
        "  r=[]\n",
        "  n=[]\n",
        "  p=[]\n",
        "  for iteration in self.get_agehistory():\n",
        "    for reactable in iteration:\n",
        "      x.append(reactable)\n",
        "  for iteration in self.get_history():\n",
        "    for reactable in iteration:\n",
        "      if len(reactable) > 1:\n",
        "        leftrightcount = self.hist_get_leftright_homochiral_count_polymer(reactable)\n",
        "        l.append(leftrightcount[0]/len(reactable))\n",
        "        r.append(-1*(leftrightcount[1]/len(reactable)))\n",
        "        y.append(self.hist_get_polymer_ee(reactable))\n",
        "    \n",
        "\n",
        "      \n",
        "      #if reactable[2] == \"m\":\n",
        "        #n.append(reactable[0])\n",
        "        #p.append(reactable[1])\n",
        "\n",
        "  #plt.scatter(n,p, label=\"Monomers\")\n",
        "  #plt.scatter(x,r, label=\"right\")\n",
        "  #plt.scatter(x,l, label = \"left\")\n",
        "  plt.scatter(x,y,label= \"over all signed_ee\")\n",
        "  plt.xlabel(\"age\")\n",
        "  plt.ylabel(\"Number of Homochiral bonds\")\n",
        "  plt.legend()\n",
        "  plt.show()\n",
        "\n",
        "\n",
        "\n",
        "        \n",
        "\n",
        "\n",
        "\n",
        "    \n",
        "\n",
        "\n",
        "  \n"
      ],
      "execution_count": 31,
      "outputs": []
    },
    {
      "cell_type": "markdown",
      "metadata": {
        "id": "DdqK65C-8cpi",
        "colab_type": "text"
      },
      "source": [
        "## Test program"
      ]
    },
    {
      "cell_type": "code",
      "metadata": {
        "id": "MelavdvZ8ptf",
        "colab_type": "code",
        "colab": {
          "resources": {
            "http://localhost:8080/nbextensions/google.colab/tabbar.css": {
              "data": "Lmdvb2ctdGFie3Bvc2l0aW9uOnJlbGF0aXZlO3BhZGRpbmc6NHB4IDhweDtjb2xvcjojMDBjO3RleHQtZGVjb3JhdGlvbjp1bmRlcmxpbmU7Y3Vyc29yOmRlZmF1bHR9Lmdvb2ctdGFiLWJhci10b3AgLmdvb2ctdGFie21hcmdpbjoxcHggNHB4IDAgMDtib3JkZXItYm90dG9tOjA7ZmxvYXQ6bGVmdH0uZ29vZy10YWItYmFyLXRvcDphZnRlciwuZ29vZy10YWItYmFyLWJvdHRvbTphZnRlcntjb250ZW50OiIgIjtkaXNwbGF5OmJsb2NrO2hlaWdodDowO2NsZWFyOmJvdGg7dmlzaWJpbGl0eTpoaWRkZW59Lmdvb2ctdGFiLWJhci1ib3R0b20gLmdvb2ctdGFie21hcmdpbjowIDRweCAxcHggMDtib3JkZXItdG9wOjA7ZmxvYXQ6bGVmdH0uZ29vZy10YWItYmFyLXN0YXJ0IC5nb29nLXRhYnttYXJnaW46MCAwIDRweCAxcHg7Ym9yZGVyLXJpZ2h0OjB9Lmdvb2ctdGFiLWJhci1lbmQgLmdvb2ctdGFie21hcmdpbjowIDFweCA0cHggMDtib3JkZXItbGVmdDowfS5nb29nLXRhYi1ob3ZlcntiYWNrZ3JvdW5kOiNlZWV9Lmdvb2ctdGFiLWRpc2FibGVke2NvbG9yOiM2NjZ9Lmdvb2ctdGFiLXNlbGVjdGVke2NvbG9yOiMwMDA7YmFja2dyb3VuZDojZmZmO3RleHQtZGVjb3JhdGlvbjpub25lO2ZvbnQtd2VpZ2h0OmJvbGQ7Ym9yZGVyOjFweCBzb2xpZCAjNmI5MGRhfS5nb29nLXRhYi1iYXItdG9we3BhZGRpbmctdG9wOjVweCFpbXBvcnRhbnQ7cGFkZGluZy1sZWZ0OjVweCFpbXBvcnRhbnQ7Ym9yZGVyLWJvdHRvbToxcHggc29saWQgIzZiOTBkYSFpbXBvcnRhbnR9Lmdvb2ctdGFiLWJhci10b3AgLmdvb2ctdGFiLXNlbGVjdGVke3RvcDoxcHg7bWFyZ2luLXRvcDowO3BhZGRpbmctYm90dG9tOjVweH0uZ29vZy10YWItYmFyLWJvdHRvbSAuZ29vZy10YWItc2VsZWN0ZWR7dG9wOi0xcHg7bWFyZ2luLWJvdHRvbTowO3BhZGRpbmctdG9wOjVweH0uZ29vZy10YWItYmFyLXN0YXJ0IC5nb29nLXRhYi1zZWxlY3RlZHtsZWZ0OjFweDttYXJnaW4tbGVmdDowO3BhZGRpbmctcmlnaHQ6OXB4fS5nb29nLXRhYi1iYXItZW5kIC5nb29nLXRhYi1zZWxlY3RlZHtsZWZ0Oi0xcHg7bWFyZ2luLXJpZ2h0OjA7cGFkZGluZy1sZWZ0OjlweH0uZ29vZy10YWItYmFye21hcmdpbjowO2JvcmRlcjowO3BhZGRpbmc6MDtsaXN0LXN0eWxlOm5vbmU7Y3Vyc29yOmRlZmF1bHQ7b3V0bGluZTpub25lO2JhY2tncm91bmQ6I2ViZWZmOX0uZ29vZy10YWItYmFyLWNsZWFye2NsZWFyOmJvdGg7aGVpZ2h0OjA7b3ZlcmZsb3c6aGlkZGVufS5nb29nLXRhYi1iYXItc3RhcnR7ZmxvYXQ6bGVmdH0uZ29vZy10YWItYmFyLWVuZHtmbG9hdDpyaWdodH0qIGh0bWwgLmdvb2ctdGFiLWJhci1zdGFydHttYXJnaW4tcmlnaHQ6LTNweH0qIGh0bWwgLmdvb2ctdGFiLWJhci1lbmR7bWFyZ2luLWxlZnQ6LTNweH0=",
              "ok": true,
              "headers": [
                [
                  "content-type",
                  "text/css"
                ]
              ],
              "status": 200,
              "status_text": ""
            },
            "http://localhost:8080/nbextensions/google.colab/tabbar_main.min.js": {
              "data": "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",
              "ok": true,
              "headers": [
                [
                  "content-type",
                  "application/javascript"
                ]
              ],
              "status": 200,
              "status_text": ""
            }
          },
          "base_uri": "https://localhost:8080/",
          "height": 370
        },
        "outputId": "be1c99af-8065-4453-f360-37148bea1fa1"
      },
      "source": [
        "POOL_SIZE = 100\n",
        "ITERATIONS = 100\n",
        "\n",
        "\n",
        "a = Reactables(make_pool(POOL_SIZE))\n",
        "\n",
        "print(\"Running.............|\\n\", end=\"\")\n",
        "\n",
        "monomercounts = []\n",
        "\n",
        "for n in range(ITERATIONS):\n",
        "  a.iterate(POOL_SIZE)\n",
        "  monomercounts.append(len(a.get_free_monomers())+len(a.get_bound_monomers()))\n",
        "  if n % (ITERATIONS / 10) == 0:\n",
        "    print(\"##\",end=\"\")\n",
        "\n",
        "print(\"\\nDone.\")\n",
        "\n",
        "plots = [\"parameters\",\"polymer ee spread\",\"ee heatmap\",\"leftright chirality\",\n",
        "         \"homochiral chain lengths\", \"homochirality vs length\",\"Homochirality vs age\"]\n",
        "tb = widgets.TabBar(plots)\n",
        "\n",
        "with tb.output_to(\"parameters\"):\n",
        "  a.visualize_parameters()\n",
        "\n",
        "with tb.output_to(\"polymer ee spread\"):\n",
        "  a.plot_signed_ee_spread()\n",
        "\n",
        "with tb.output_to(\"ee heatmap\"):\n",
        "  a.plot_ee_heatmap()\n",
        "\n",
        "with tb.output_to(\"leftright chirality\"):\n",
        "  a.plot_leftrighthomochirality()\n",
        "\n",
        "with tb.output_to(\"homochiral chain lengths\"):\n",
        "  a.plot_homochiral_chain_lengths()\n",
        "\n",
        "with tb.output_to(\"homochirality vs length\"):\n",
        "  a.plot_homochirality_vs_length()\n",
        "\n",
        "with tb.output_to(\"Homochirality vs age\"):\n",
        "  a.plot_age_vs_homochirality()\n",
        "\n",
        "\n",
        "\n"
      ],
      "execution_count": 38,
      "outputs": [
        {
          "output_type": "stream",
          "text": [
            "Running.............|\n",
            "####################\n",
            "Done.\n"
          ],
          "name": "stdout"
        },
        {
          "output_type": "display_data",
          "data": {
            "text/html": [
              "<link rel=stylesheet type=text/css href='/nbextensions/google.colab/tabbar.css'></link>"
            ],
            "text/plain": [
              "<IPython.core.display.HTML object>"
            ]
          },
          "metadata": {
            "tags": [
              "outputarea_id16"
            ]
          }
        },
        {
          "output_type": "display_data",
          "data": {
            "text/html": [
              "<script src='/nbextensions/google.colab/tabbar_main.min.js'></script>"
            ],
            "text/plain": [
              "<IPython.core.display.HTML object>"
            ]
          },
          "metadata": {
            "tags": [
              "outputarea_id16"
            ]
          }
        },
        {
          "output_type": "display_data",
          "data": {
            "text/html": [
              "<div id=\"id16\"></div>"
            ],
            "text/plain": [
              "<IPython.core.display.HTML object>"
            ]
          },
          "metadata": {
            "tags": [
              "outputarea_id16"
            ]
          }
        },
        {
          "output_type": "display_data",
          "data": {
            "application/javascript": [
              "window[\"b4cb4c90-b58d-11ea-bc6a-0242ac1c0002\"] = colab_lib.createTabBar({\"location\": \"top\", \"elementId\": \"id16\", \"tabNames\": [\"parameters\", \"polymer ee spread\", \"ee heatmap\", \"leftright chirality\", \"homochiral chain lengths\", \"homochirality vs length\", \"Homochirality vs age\"], \"initialSelection\": 0, \"contentBorder\": [\"0px\"], \"contentHeight\": [\"initial\"], \"borderColor\": [\"#a7a7a7\"]});\n",
              "//# sourceURL=js_0ca44c9be9"
            ],
            "text/plain": [
              "<IPython.core.display.Javascript object>"
            ]
          },
          "metadata": {
            "tags": [
              "outputarea_id16"
            ]
          }
        },
        {
          "output_type": "display_data",
          "data": {
            "application/javascript": [
              "window[\"b4cb8782-b58d-11ea-bc6a-0242ac1c0002\"] = window[\"id16\"].setSelectedTabIndex(0);\n",
              "//# sourceURL=js_8d0af4c571"
            ],
            "text/plain": [
              "<IPython.core.display.Javascript object>"
            ]
          },
          "metadata": {
            "tags": [
              "outputarea_id16"
            ]
          }
        },
        {
          "output_type": "display_data",
          "data": {
            "application/javascript": [
              "window[\"b4cca5f4-b58d-11ea-bc6a-0242ac1c0002\"] = google.colab.output.getActiveOutputArea();\n",
              "//# sourceURL=js_829055942a"
            ],
            "text/plain": [
              "<IPython.core.display.Javascript object>"
            ]
          },
          "metadata": {
            "tags": [
              "id16_content_0",
              "outputarea_id16"
            ]
          }
        },
        {
          "output_type": "display_data",
          "data": {
            "application/javascript": [
              "window[\"b4cce5c8-b58d-11ea-bc6a-0242ac1c0002\"] = document.querySelector(\"#id16_content_0\");\n",
              "//# sourceURL=js_dd271ecbcc"
            ],
            "text/plain": [
              "<IPython.core.display.Javascript object>"
            ]
          },
          "metadata": {
            "tags": [
              "id16_content_0",
              "outputarea_id16"
            ]
          }
        },
        {
          "output_type": "display_data",
          "data": {
            "application/javascript": [
              "window[\"b4cd2ab0-b58d-11ea-bc6a-0242ac1c0002\"] = google.colab.output.setActiveOutputArea(window[\"b4cce5c8-b58d-11ea-bc6a-0242ac1c0002\"]);\n",
              "//# sourceURL=js_97e38b4efb"
            ],
            "text/plain": [
              "<IPython.core.display.Javascript object>"
            ]
          },
          "metadata": {
            "tags": [
              "id16_content_0",
              "outputarea_id16"
            ]
          }
        },
        {
          "output_type": "display_data",
          "data": {
            "application/javascript": [
              "window[\"b4cd63cc-b58d-11ea-bc6a-0242ac1c0002\"] = window[\"id16\"].setSelectedTabIndex(0);\n",
              "//# sourceURL=js_7822dc6def"
            ],
            "text/plain": [
              "<IPython.core.display.Javascript object>"
            ]
          },
          "metadata": {
            "tags": [
              "id16_content_0",
              "outputarea_id16"
            ]
          }
        },
        {
          "output_type": "display_data",
          "data": {
            "image/png": "[encoded data removed]",
            "text/plain": [
              "<Figure size 432x288 with 1 Axes>"
            ]
          },
          "metadata": {
            "tags": [
              "id16_content_0",
              "outputarea_id16",
              "user_output"
            ],
            "needs_background": "light"
          }
        },
        {
          "output_type": "display_data",
          "data": {
            "application/javascript": [
              "window[\"b4e8b65e-b58d-11ea-bc6a-0242ac1c0002\"] = google.colab.output.setActiveOutputArea(window[\"b4cca5f4-b58d-11ea-bc6a-0242ac1c0002\"]);\n",
              "//# sourceURL=js_3c87d2d486"
            ],
            "text/plain": [
              "<IPython.core.display.Javascript object>"
            ]
          },
          "metadata": {
            "tags": [
              "id16_content_0",
              "outputarea_id16"
            ]
          }
        },
        {
          "output_type": "display_data",
          "data": {
            "application/javascript": [
              "window[\"b4ea7fc0-b58d-11ea-bc6a-0242ac1c0002\"] = google.colab.output.getActiveOutputArea();\n",
              "//# sourceURL=js_9e79d415b6"
            ],
            "text/plain": [
              "<IPython.core.display.Javascript object>"
            ]
          },
          "metadata": {
            "tags": [
              "id16_content_1",
              "outputarea_id16"
            ]
          }
        },
        {
          "output_type": "display_data",
          "data": {
            "application/javascript": [
              "window[\"b4eae5e6-b58d-11ea-bc6a-0242ac1c0002\"] = document.querySelector(\"#id16_content_1\");\n",
              "//# sourceURL=js_553d7ac7eb"
            ],
            "text/plain": [
              "<IPython.core.display.Javascript object>"
            ]
          },
          "metadata": {
            "tags": [
              "id16_content_1",
              "outputarea_id16"
            ]
          }
        },
        {
          "output_type": "display_data",
          "data": {
            "application/javascript": [
              "window[\"b4eb1b4c-b58d-11ea-bc6a-0242ac1c0002\"] = google.colab.output.setActiveOutputArea(window[\"b4eae5e6-b58d-11ea-bc6a-0242ac1c0002\"]);\n",
              "//# sourceURL=js_17dc1f46e2"
            ],
            "text/plain": [
              "<IPython.core.display.Javascript object>"
            ]
          },
          "metadata": {
            "tags": [
              "id16_content_1",
              "outputarea_id16"
            ]
          }
        },
        {
          "output_type": "display_data",
          "data": {
            "application/javascript": [
              "window[\"b4eb6282-b58d-11ea-bc6a-0242ac1c0002\"] = window[\"id16\"].setSelectedTabIndex(1);\n",
              "//# sourceURL=js_06fd594cf3"
            ],
            "text/plain": [
              "<IPython.core.display.Javascript object>"
            ]
          },
          "metadata": {
            "tags": [
              "id16_content_1",
              "outputarea_id16"
            ]
          }
        },
        {
          "output_type": "display_data",
          "data": {
            "image/png": "[encoded data removed]",
            "text/plain": [
              "<Figure size 432x288 with 1 Axes>"
            ]
          },
          "metadata": {
            "tags": [
              "id16_content_1",
              "outputarea_id16",
              "user_output"
            ],
            "needs_background": "light"
          }
        },
        {
          "output_type": "display_data",
          "data": {
            "application/javascript": [
              "window[\"b5108120-b58d-11ea-bc6a-0242ac1c0002\"] = google.colab.output.setActiveOutputArea(window[\"b4ea7fc0-b58d-11ea-bc6a-0242ac1c0002\"]);\n",
              "//# sourceURL=js_06ffee43de"
            ],
            "text/plain": [
              "<IPython.core.display.Javascript object>"
            ]
          },
          "metadata": {
            "tags": [
              "id16_content_1",
              "outputarea_id16"
            ]
          }
        },
        {
          "output_type": "display_data",
          "data": {
            "application/javascript": [
              "window[\"b513caf6-b58d-11ea-bc6a-0242ac1c0002\"] = google.colab.output.getActiveOutputArea();\n",
              "//# sourceURL=js_52e65ad9bd"
            ],
            "text/plain": [
              "<IPython.core.display.Javascript object>"
            ]
          },
          "metadata": {
            "tags": [
              "id16_content_2",
              "outputarea_id16"
            ]
          }
        },
        {
          "output_type": "display_data",
          "data": {
            "application/javascript": [
              "window[\"b51420a0-b58d-11ea-bc6a-0242ac1c0002\"] = document.querySelector(\"#id16_content_2\");\n",
              "//# sourceURL=js_9792521157"
            ],
            "text/plain": [
              "<IPython.core.display.Javascript object>"
            ]
          },
          "metadata": {
            "tags": [
              "id16_content_2",
              "outputarea_id16"
            ]
          }
        },
        {
          "output_type": "display_data",
          "data": {
            "application/javascript": [
              "window[\"b5147046-b58d-11ea-bc6a-0242ac1c0002\"] = google.colab.output.setActiveOutputArea(window[\"b51420a0-b58d-11ea-bc6a-0242ac1c0002\"]);\n",
              "//# sourceURL=js_40e4117afd"
            ],
            "text/plain": [
              "<IPython.core.display.Javascript object>"
            ]
          },
          "metadata": {
            "tags": [
              "id16_content_2",
              "outputarea_id16"
            ]
          }
        },
        {
          "output_type": "display_data",
          "data": {
            "application/javascript": [
              "window[\"b514a818-b58d-11ea-bc6a-0242ac1c0002\"] = window[\"id16\"].setSelectedTabIndex(2);\n",
              "//# sourceURL=js_17fc6c4bda"
            ],
            "text/plain": [
              "<IPython.core.display.Javascript object>"
            ]
          },
          "metadata": {
            "tags": [
              "id16_content_2",
              "outputarea_id16"
            ]
          }
        },
        {
          "output_type": "display_data",
          "data": {
            "image/png": "[encoded data removed]",
            "text/plain": [
              "<Figure size 900x600 with 1 Axes>"
            ]
          },
          "metadata": {
            "tags": [
              "id16_content_2",
              "outputarea_id16",
              "user_output"
            ],
            "needs_background": "light"
          }
        },
        {
          "output_type": "display_data",
          "data": {
            "application/javascript": [
              "window[\"b5670090-b58d-11ea-bc6a-0242ac1c0002\"] = google.colab.output.setActiveOutputArea(window[\"b513caf6-b58d-11ea-bc6a-0242ac1c0002\"]);\n",
              "//# sourceURL=js_20462e2d4b"
            ],
            "text/plain": [
              "<IPython.core.display.Javascript object>"
            ]
          },
          "metadata": {
            "tags": [
              "id16_content_2",
              "outputarea_id16"
            ]
          }
        },
        {
          "output_type": "display_data",
          "data": {
            "application/javascript": [
              "window[\"b5696042-b58d-11ea-bc6a-0242ac1c0002\"] = google.colab.output.getActiveOutputArea();\n",
              "//# sourceURL=js_cceead0dae"
            ],
            "text/plain": [
              "<IPython.core.display.Javascript object>"
            ]
          },
          "metadata": {
            "tags": [
              "id16_content_3",
              "outputarea_id16"
            ]
          }
        },
        {
          "output_type": "display_data",
          "data": {
            "application/javascript": [
              "window[\"b569a868-b58d-11ea-bc6a-0242ac1c0002\"] = document.querySelector(\"#id16_content_3\");\n",
              "//# sourceURL=js_e11d57b14d"
            ],
            "text/plain": [
              "<IPython.core.display.Javascript object>"
            ]
          },
          "metadata": {
            "tags": [
              "id16_content_3",
              "outputarea_id16"
            ]
          }
        },
        {
          "output_type": "display_data",
          "data": {
            "application/javascript": [
              "window[\"b569edaa-b58d-11ea-bc6a-0242ac1c0002\"] = google.colab.output.setActiveOutputArea(window[\"b569a868-b58d-11ea-bc6a-0242ac1c0002\"]);\n",
              "//# sourceURL=js_e2a6115b3c"
            ],
            "text/plain": [
              "<IPython.core.display.Javascript object>"
            ]
          },
          "metadata": {
            "tags": [
              "id16_content_3",
              "outputarea_id16"
            ]
          }
        },
        {
          "output_type": "display_data",
          "data": {
            "application/javascript": [
              "window[\"b56a2b58-b58d-11ea-bc6a-0242ac1c0002\"] = window[\"id16\"].setSelectedTabIndex(3);\n",
              "//# sourceURL=js_bc2805d255"
            ],
            "text/plain": [
              "<IPython.core.display.Javascript object>"
            ]
          },
          "metadata": {
            "tags": [
              "id16_content_3",
              "outputarea_id16"
            ]
          }
        },
        {
          "output_type": "display_data",
          "data": {
            "image/png": "[encoded data removed]",
            "text/plain": [
              "<Figure size 432x288 with 1 Axes>"
            ]
          },
          "metadata": {
            "tags": [
              "id16_content_3",
              "outputarea_id16",
              "user_output"
            ],
            "needs_background": "light"
          }
        },
        {
          "output_type": "display_data",
          "data": {
            "application/javascript": [
              "window[\"b58836a2-b58d-11ea-bc6a-0242ac1c0002\"] = google.colab.output.setActiveOutputArea(window[\"b5696042-b58d-11ea-bc6a-0242ac1c0002\"]);\n",
              "//# sourceURL=js_4ed5d2d0ba"
            ],
            "text/plain": [
              "<IPython.core.display.Javascript object>"
            ]
          },
          "metadata": {
            "tags": [
              "id16_content_3",
              "outputarea_id16"
            ]
          }
        },
        {
          "output_type": "display_data",
          "data": {
            "application/javascript": [
              "window[\"b5894f88-b58d-11ea-bc6a-0242ac1c0002\"] = google.colab.output.getActiveOutputArea();\n",
              "//# sourceURL=js_f7afc7d99e"
            ],
            "text/plain": [
              "<IPython.core.display.Javascript object>"
            ]
          },
          "metadata": {
            "tags": [
              "id16_content_4",
              "outputarea_id16"
            ]
          }
        },
        {
          "output_type": "display_data",
          "data": {
            "application/javascript": [
              "window[\"b5898e26-b58d-11ea-bc6a-0242ac1c0002\"] = document.querySelector(\"#id16_content_4\");\n",
              "//# sourceURL=js_2d6a184f43"
            ],
            "text/plain": [
              "<IPython.core.display.Javascript object>"
            ]
          },
          "metadata": {
            "tags": [
              "id16_content_4",
              "outputarea_id16"
            ]
          }
        },
        {
          "output_type": "display_data",
          "data": {
            "application/javascript": [
              "window[\"b589c6ca-b58d-11ea-bc6a-0242ac1c0002\"] = google.colab.output.setActiveOutputArea(window[\"b5898e26-b58d-11ea-bc6a-0242ac1c0002\"]);\n",
              "//# sourceURL=js_fe3ec1aa68"
            ],
            "text/plain": [
              "<IPython.core.display.Javascript object>"
            ]
          },
          "metadata": {
            "tags": [
              "id16_content_4",
              "outputarea_id16"
            ]
          }
        },
        {
          "output_type": "display_data",
          "data": {
            "application/javascript": [
              "window[\"b58a0126-b58d-11ea-bc6a-0242ac1c0002\"] = window[\"id16\"].setSelectedTabIndex(4);\n",
              "//# sourceURL=js_cd791fa7e6"
            ],
            "text/plain": [
              "<IPython.core.display.Javascript object>"
            ]
          },
          "metadata": {
            "tags": [
              "id16_content_4",
              "outputarea_id16"
            ]
          }
        },
        {
          "output_type": "display_data",
          "data": {
            "image/png": "[encoded data removed]",
            "text/plain": [
              "<Figure size 432x288 with 1 Axes>"
            ]
          },
          "metadata": {
            "tags": [
              "id16_content_4",
              "outputarea_id16",
              "user_output"
            ],
            "needs_background": "light"
          }
        },
        {
          "output_type": "display_data",
          "data": {
            "application/javascript": [
              "window[\"b5a9bff2-b58d-11ea-bc6a-0242ac1c0002\"] = google.colab.output.setActiveOutputArea(window[\"b5894f88-b58d-11ea-bc6a-0242ac1c0002\"]);\n",
              "//# sourceURL=js_3e425e4fca"
            ],
            "text/plain": [
              "<IPython.core.display.Javascript object>"
            ]
          },
          "metadata": {
            "tags": [
              "id16_content_4",
              "outputarea_id16"
            ]
          }
        },
        {
          "output_type": "display_data",
          "data": {
            "application/javascript": [
              "window[\"b5ab9cb4-b58d-11ea-bc6a-0242ac1c0002\"] = google.colab.output.getActiveOutputArea();\n",
              "//# sourceURL=js_97fb1d3735"
            ],
            "text/plain": [
              "<IPython.core.display.Javascript object>"
            ]
          },
          "metadata": {
            "tags": [
              "id16_content_5",
              "outputarea_id16"
            ]
          }
        },
        {
          "output_type": "display_data",
          "data": {
            "application/javascript": [
              "window[\"b5abe7fa-b58d-11ea-bc6a-0242ac1c0002\"] = document.querySelector(\"#id16_content_5\");\n",
              "//# sourceURL=js_8dc6f68846"
            ],
            "text/plain": [
              "<IPython.core.display.Javascript object>"
            ]
          },
          "metadata": {
            "tags": [
              "id16_content_5",
              "outputarea_id16"
            ]
          }
        },
        {
          "output_type": "display_data",
          "data": {
            "application/javascript": [
              "window[\"b5ac32f0-b58d-11ea-bc6a-0242ac1c0002\"] = google.colab.output.setActiveOutputArea(window[\"b5abe7fa-b58d-11ea-bc6a-0242ac1c0002\"]);\n",
              "//# sourceURL=js_38b628656a"
            ],
            "text/plain": [
              "<IPython.core.display.Javascript object>"
            ]
          },
          "metadata": {
            "tags": [
              "id16_content_5",
              "outputarea_id16"
            ]
          }
        },
        {
          "output_type": "display_data",
          "data": {
            "application/javascript": [
              "window[\"b5ac76ac-b58d-11ea-bc6a-0242ac1c0002\"] = window[\"id16\"].setSelectedTabIndex(5);\n",
              "//# sourceURL=js_3815045fd1"
            ],
            "text/plain": [
              "<IPython.core.display.Javascript object>"
            ]
          },
          "metadata": {
            "tags": [
              "id16_content_5",
              "outputarea_id16"
            ]
          }
        },
        {
          "output_type": "display_data",
          "data": {
            "image/png": "[encoded data removed]",
            "text/plain": [
              "<Figure size 432x288 with 1 Axes>"
            ]
          },
          "metadata": {
            "tags": [
              "id16_content_5",
              "outputarea_id16",
              "user_output"
            ],
            "needs_background": "light"
          }
        },
        {
          "output_type": "display_data",
          "data": {
            "application/javascript": [
              "window[\"b5cbb756-b58d-11ea-bc6a-0242ac1c0002\"] = google.colab.output.setActiveOutputArea(window[\"b5ab9cb4-b58d-11ea-bc6a-0242ac1c0002\"]);\n",
              "//# sourceURL=js_73f612de61"
            ],
            "text/plain": [
              "<IPython.core.display.Javascript object>"
            ]
          },
          "metadata": {
            "tags": [
              "id16_content_5",
              "outputarea_id16"
            ]
          }
        },
        {
          "output_type": "display_data",
          "data": {
            "application/javascript": [
              "window[\"b5cd4990-b58d-11ea-bc6a-0242ac1c0002\"] = google.colab.output.getActiveOutputArea();\n",
              "//# sourceURL=js_53892231f5"
            ],
            "text/plain": [
              "<IPython.core.display.Javascript object>"
            ]
          },
          "metadata": {
            "tags": [
              "id16_content_6",
              "outputarea_id16"
            ]
          }
        },
        {
          "output_type": "display_data",
          "data": {
            "application/javascript": [
              "window[\"b5cd96a2-b58d-11ea-bc6a-0242ac1c0002\"] = document.querySelector(\"#id16_content_6\");\n",
              "//# sourceURL=js_86dad5656c"
            ],
            "text/plain": [
              "<IPython.core.display.Javascript object>"
            ]
          },
          "metadata": {
            "tags": [
              "id16_content_6",
              "outputarea_id16"
            ]
          }
        },
        {
          "output_type": "display_data",
          "data": {
            "application/javascript": [
              "window[\"b5cddb94-b58d-11ea-bc6a-0242ac1c0002\"] = google.colab.output.setActiveOutputArea(window[\"b5cd96a2-b58d-11ea-bc6a-0242ac1c0002\"]);\n",
              "//# sourceURL=js_58f8713274"
            ],
            "text/plain": [
              "<IPython.core.display.Javascript object>"
            ]
          },
          "metadata": {
            "tags": [
              "id16_content_6",
              "outputarea_id16"
            ]
          }
        },
        {
          "output_type": "display_data",
          "data": {
            "application/javascript": [
              "window[\"b5ce26a8-b58d-11ea-bc6a-0242ac1c0002\"] = window[\"id16\"].setSelectedTabIndex(6);\n",
              "//# sourceURL=js_a8d11fc473"
            ],
            "text/plain": [
              "<IPython.core.display.Javascript object>"
            ]
          },
          "metadata": {
            "tags": [
              "id16_content_6",
              "outputarea_id16"
            ]
          }
        },
        {
          "output_type": "display_data",
          "data": {
            "image/png": "[encoded data removed]",
            "text/plain": [
              "<Figure size 432x288 with 1 Axes>"
            ]
          },
          "metadata": {
            "tags": [
              "id16_content_6",
              "outputarea_id16",
              "user_output"
            ],
            "needs_background": "light"
          }
        },
        {
          "output_type": "display_data",
          "data": {
            "application/javascript": [
              "window[\"b5fe941e-b58d-11ea-bc6a-0242ac1c0002\"] = google.colab.output.setActiveOutputArea(window[\"b5cd4990-b58d-11ea-bc6a-0242ac1c0002\"]);\n",
              "//# sourceURL=js_3fafe259f4"
            ],
            "text/plain": [
              "<IPython.core.display.Javascript object>"
            ]
          },
          "metadata": {
            "tags": [
              "id16_content_6",
              "outputarea_id16"
            ]
          }
        }
      ]
    },
    {
      "cell_type": "markdown",
      "metadata": {
        "id": "3nujicdthc10",
        "colab_type": "text"
      },
      "source": [
        "# a spot for checking code things"
      ]
    },
    {
      "cell_type": "code",
      "metadata": {
        "id": "0dyyujrlhrLd",
        "colab_type": "code",
        "colab": {
          "base_uri": "https://localhost:8080/",
          "height": 0
        },
        "outputId": "63a173d2-3abe-4728-9595-1e58cd71312e"
      },
      "source": [
        "N=30\n",
        "testlengthfactor =0.6\n",
        "def lengthfactor(length):\n",
        "\n",
        " brk = (BASE_BOND_BREAK_PROBABILITY) * (testlengthfactor**(length/N))\n",
        " return brk\n",
        "\n",
        "plt.figure()\n",
        "x=[0,2,3,4,6,7,8,9,10,11,12,13,14,15,16,17,18,19,20,22,23,24,25,26,27,28,29,30]\n",
        "y=[]\n",
        "for int in x:\n",
        "  y.append(lengthfactor(int))\n",
        "plt.plot(x,y)\n",
        "plt.show()\n"
      ],
      "execution_count": 21,
      "outputs": [
        {
          "output_type": "display_data",
          "data": {
            "image/png": "[encoded data removed]",
            "text/plain": [
              "<Figure size 432x288 with 1 Axes>"
            ]
          },
          "metadata": {
            "tags": [],
            "needs_background": "light"
          }
        }
      ]
    },
    {
      "cell_type": "markdown",
      "metadata": {
        "id": "Bz-0l0AhLPnT",
        "colab_type": "text"
      },
      "source": [
        "# Observations"
      ]
    },
    {
      "cell_type": "markdown",
      "metadata": {
        "id": "UmLV03D1LUng",
        "colab_type": "text"
      },
      "source": [
        "Under the current refill rules, the upper bound for the total number of monomers (both free and within polymers) in the world is $1/2(P)(I)$ for $P$ = pool size and $I$ = number of iterations.\n",
        "\n",
        "The upper bound on possible polymer size is \n",
        "\n",
        "$\n",
        "\\begin{equation}\n",
        "  bound=\\left\\{\n",
        "  \\begin{array}{@{}ll@{}}\n",
        "    2^n, & n \\leq\\ T \\\\\n",
        "    2^T+(n-T)(2^{T-1}), & n>T\n",
        "  \\end{array}\\right.\n",
        "\\end{equation} \n",
        "$\n",
        "\n",
        "for $T=log_2(P)$.\n",
        "\n",
        "For $P < 100$ or so, these bounds are substantially lower than $2^n$, but for large $P$ it matters less.\n",
        "\n",
        "Also $2^T+(n-T)(2^{T-1}) = P(1+1/2(n-log_2(P))$ I think."
      ]
    }
  ]
}